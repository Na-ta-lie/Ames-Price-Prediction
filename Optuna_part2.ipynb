{
 "cells": [
  {
   "cell_type": "code",
   "execution_count": 2,
   "id": "5091870c",
   "metadata": {},
   "outputs": [],
   "source": [
    "import numpy as np\n",
    "import pandas as pd\n",
    "import xgboost as xgb\n",
    "from xgboost import XGBRegressor\n",
    "import matplotlib.pyplot as plt\n",
    "from sklearn.model_selection import train_test_split\n",
    "from sklearn.metrics import balanced_accuracy_score, roc_auc_score, make_scorer\n",
    "from sklearn.model_selection import GridSearchCV\n",
    "from sklearn.metrics import confusion_matrix\n",
    "from sklearn.metrics import ConfusionMatrixDisplay\n",
    "from sklearn.preprocessing import OneHotEncoder, StandardScaler\n",
    "from sklearn.pipeline import Pipeline\n",
    "from sklearn import compose, pipeline\n",
    "from sklearn.preprocessing import OneHotEncoder\n",
    "from sklearn.compose import ColumnTransformer\n",
    "from sklearn.compose import make_column_selector as selector\n",
    "from sklearn.preprocessing import OneHotEncoder, StandardScaler, OrdinalEncoder\n",
    "from sklearn.pipeline import Pipeline\n",
    "from sklearn import compose, pipeline\n",
    "from sklearn.model_selection import KFold\n",
    "from typing import Optional\n",
    "from sklearn.model_selection import cross_val_score, KFold\n",
    "from sklearn.metrics import roc_auc_score, make_scorer, r2_score\n",
    "from pandas import DataFrame, Series\n",
    "import numpy as np\n",
    "kf = KFold(n_splits=5, shuffle=True, random_state=42)\n",
    "import xgboost as xgb\n",
    "from xgboost import XGBRegressor\n",
    "import optuna\n",
    "from optuna import Trial\n",
    "from optuna import create_study\n",
    "from sklearn import compose\n",
    "from sklearn.model_selection import GridSearchCV\n",
    "from sklearn.linear_model import Lasso, Ridge, LinearRegression"
   ]
  },
  {
   "cell_type": "markdown",
   "id": "e6719683",
   "metadata": {},
   "source": [
    "### Search function for each model "
   ]
  },
  {
   "cell_type": "code",
   "execution_count": 95,
   "id": "9028ba53",
   "metadata": {},
   "outputs": [],
   "source": [
    "def instantiate_ridge(trial : Trial) -> Ridge:\n",
    "    params = {\n",
    "        \"alpha\": trial.suggest_float(\"alpha\", 1e-4, 100, log=True),\n",
    "    }\n",
    "\n",
    "    return Ridge(**params)\n",
    "\n",
    "def instantiate_lasso(trial : Trial) -> Lasso:\n",
    "    params = {\n",
    "        \"alpha\": trial.suggest_float(\"alpha\", 1e-4, 100, log=True),\n",
    "    }\n",
    "\n",
    "    return Lasso(**params)\n",
    "\n",
    "def instantiate_xgb(trial : Trial) -> XGBRegressor:\n",
    "    params = {\n",
    "        \"objective\": \"reg:squarederror\",\n",
    "        \"n_estimators\": 1000,\n",
    "        \"verbosity\": 0,\n",
    "        \"learning_rate\": trial.suggest_float(\"learning_rate\", .0001, 0.1, log=True),\n",
    "        \"max_depth\": trial.suggest_int(\"max_depth\", 1, 10),\n",
    "        \"subsample\": trial.suggest_float(\"subsample\", 0.05, 1.0),\n",
    "        \"colsample_bytree\": trial.suggest_float(\"colsample_bytree\", 0.05, 1.0),\n",
    "        \"min_child_weight\": trial.suggest_int(\"min_child_weight\", 1, 20),\n",
    "    }\n",
    "\n",
    "    return XGBRegressor(**params)\n",
    "\n",
    "Classifier = (\n",
    "    Ridge |\n",
    "    Lasso |\n",
    "    XGBRegressor )\n",
    "\n",
    "def instantiate_learner(trial : Trial) -> Classifier:\n",
    "    algorithm = trial.suggest_categorical(\n",
    "    'algorithm', ['ridge', 'lasso', 'xgb'])\n",
    "    \n",
    "    if algorithm =='ridge':\n",
    "        model = instantiate_ridge(trial)\n",
    "    elif algorithm=='lasso':\n",
    "        model = instantiate_lasso(trial)\n",
    "    elif algorithm=='xgb':\n",
    "        model = instantiate_xgb(trial)\n",
    "    \n",
    "    return model"
   ]
  },
  {
   "cell_type": "code",
   "execution_count": null,
   "id": "b0bb038d",
   "metadata": {},
   "outputs": [],
   "source": [
    "# from sklearn.preprocessing import OrdinalEncoder, OneHotEncoder\n",
    "# from category_encoders import WOEEncoder\n",
    "\n",
    "# Encoder = (\n",
    "#   OrdinalEncoder |\n",
    "#   OneHotEncoder \n",
    "# )\n",
    "\n",
    "# def instantiate_encoder(trial : Trial) -> Encoder:\n",
    "#     method = trial.suggest_categorical(\n",
    "#     'encoding_method', ['ordinal', 'onehot']\n",
    "#   )\n",
    "#     if method=='ordinal':\n",
    "#     encoder = instantiate_ordinal_encoder(trial)\n",
    "#     elif method=='onehot':\n",
    "#     encoder = instantiate_onehot_encoder(trial)\n",
    "    \n",
    "#     return encoder\n",
    "\n",
    "# from sklearn.preprocessing import (\n",
    "#   StandardScaler, MinMaxScaler, MaxAbsScaler, RobustScaler\n",
    "# )\n",
    "\n"
   ]
  },
  {
   "cell_type": "code",
   "execution_count": 80,
   "id": "a9ea5a79",
   "metadata": {},
   "outputs": [],
   "source": [
    "hover_data=[\"algorithm\", \"Trial\"] "
   ]
  },
  {
   "cell_type": "code",
   "execution_count": 102,
   "id": "d09f6af4",
   "metadata": {},
   "outputs": [
    {
     "name": "stderr",
     "output_type": "stream",
     "text": [
      "C:\\Users\\Natal\\AppData\\Local\\Temp\\ipykernel_35052\\2598969432.py:3: ExperimentalWarning:\n",
      "\n",
      "plot_rank is experimental (supported from v3.2.0). The interface can change in the future.\n",
      "\n"
     ]
    },
    {
     "data": {
      "application/vnd.plotly.v1+json": {
       "config": {
        "plotlyServerURL": "https://plot.ly"
       },
       "data": [
        {
         "hovertemplate": "%{hovertext}<extra></extra>",
         "hovertext": [
          "Trial #0<br>algorithm: ridge<br>alpha: 0.6010505222092465<br><b>Objective Value: 0.9471554321468393</b>",
          "Trial #1<br>algorithm: lasso<br>alpha: 0.006162467158491157<br><b>Objective Value: 0.9389672175428982</b>",
          "Trial #2<br>algorithm: ridge<br>alpha: 0.001244729405956262<br><b>Objective Value: 0.9458097018173504</b>",
          "Trial #3<br>algorithm: ridge<br>alpha: 0.7759373016028097<br><b>Objective Value: 0.9473545665481765</b>",
          "Trial #4<br>algorithm: ridge<br>alpha: 31.29323725185007<br><b>Objective Value: 0.9496058571087869</b>",
          "Trial #5<br>algorithm: lasso<br>alpha: 0.016555231662187374<br><b>Objective Value: 0.9294302327835954</b>",
          "Trial #6<br>algorithm: lasso<br>alpha: 0.0004582749531777171<br><b>Objective Value: 0.9500398525687235</b>",
          "Trial #7<br>algorithm: lasso<br>alpha: 5.534750298353362<br><b>Objective Value: -0.029441307066881618</b>",
          "Trial #8<br>algorithm: xgb<br>learning_rate: 0.0016114400564732941<br>max_depth: 10<br>subsample: 0.8558105105039219<br>colsample_bytree: 0.2965777047582458<br>min_child_weight: 9<br><b>Objective Value: -5.373464236107701</b>",
          "Trial #9<br>algorithm: lasso<br>alpha: 0.00017637287605472746<br><b>Objective Value: 0.9500902328681612</b>",
          "Trial #10<br>algorithm: xgb<br>learning_rate: 0.07748571364848593<br>max_depth: 1<br>subsample: 0.1081539403017378<br>colsample_bytree: 0.8774623283402829<br>min_child_weight: 20<br><b>Objective Value: 0.9057358214629305</b>",
          "Trial #11<br>algorithm: lasso<br>alpha: 0.00011995197253262029<br><b>Objective Value: 0.9498510406483309</b>",
          "Trial #12<br>algorithm: lasso<br>alpha: 0.00011207889164253218<br><b>Objective Value: 0.9497956445257467</b>",
          "Trial #13<br>algorithm: lasso<br>alpha: 0.0011740965051880814<br><b>Objective Value: 0.9473793968660728</b>",
          "Trial #14<br>algorithm: lasso<br>alpha: 0.0015503076984355424<br><b>Objective Value: 0.945086273060117</b>",
          "Trial #15<br>algorithm: lasso<br>alpha: 0.03649585335839899<br><b>Objective Value: 0.891919680699119</b>",
          "Trial #16<br>algorithm: xgb<br>learning_rate: 0.0001093221261079389<br>max_depth: 6<br>subsample: 0.9975559933333737<br>colsample_bytree: 0.08773403630454318<br>min_child_weight: 1<br><b>Objective Value: -6.669394335705886</b>",
          "Trial #17<br>algorithm: lasso<br>alpha: 0.0003726843301350919<br><b>Objective Value: 0.9502165794308643</b>",
          "Trial #18<br>algorithm: lasso<br>alpha: 0.20023362384311136<br><b>Objective Value: 0.3389464804948818</b>",
          "Trial #19<br>algorithm: xgb<br>learning_rate: 0.08019600545172129<br>max_depth: 1<br>subsample: 0.06393922828854465<br>colsample_bytree: 0.9630028278354485<br>min_child_weight: 20<br><b>Objective Value: 0.8811693917915496</b>",
          "Trial #20<br>algorithm: lasso<br>alpha: 0.004216169019651566<br><b>Objective Value: 0.9409100930605206</b>",
          "Trial #21<br>algorithm: lasso<br>alpha: 0.00034608379326552273<br><b>Objective Value: 0.9502535145176715</b>",
          "Trial #22<br>algorithm: lasso<br>alpha: 0.00024482064135119533<br><b>Objective Value: 0.950247724018946</b>",
          "Trial #23<br>algorithm: lasso<br>alpha: 0.000487776516858514<br><b>Objective Value: 0.9499686482042866</b>",
          "Trial #24<br>algorithm: lasso<br>alpha: 0.005239588389351667<br><b>Objective Value: 0.9397985591072718</b>",
          "Trial #25<br>algorithm: lasso<br>alpha: 0.0004550420502021263<br><b>Objective Value: 0.9500469224113856</b>",
          "Trial #26<br>algorithm: lasso<br>alpha: 0.02091016333584503<br><b>Objective Value: 0.9224764929436381</b>",
          "Trial #27<br>algorithm: lasso<br>alpha: 0.002367137437004208<br><b>Objective Value: 0.9431142980201922</b>",
          "Trial #28<br>algorithm: ridge<br>alpha: 0.0003508193855269366<br><b>Objective Value: 0.9458058722948917</b>",
          "Trial #29<br>algorithm: xgb<br>learning_rate: 0.0023166212634019153<br>max_depth: 10<br>subsample: 0.5235492940540687<br>colsample_bytree: 0.6157251098470551<br>min_child_weight: 10<br><b>Objective Value: -2.8957501035877273</b>",
          "Trial #30<br>algorithm: ridge<br>alpha: 0.07419825096515736<br><b>Objective Value: 0.9460881378786741</b>",
          "Trial #31<br>algorithm: lasso<br>alpha: 0.0001098338559889162<br><b>Objective Value: 0.9497745164857381</b>",
          "Trial #32<br>algorithm: lasso<br>alpha: 0.00026399630354087886<br><b>Objective Value: 0.9502797535996578</b>",
          "Trial #33<br>algorithm: lasso<br>alpha: 0.0008472387752849562<br><b>Objective Value: 0.9486362756580426</b>",
          "Trial #34<br>algorithm: lasso<br>alpha: 0.0003204788571913823<br><b>Objective Value: 0.9502759959747529</b>",
          "Trial #35<br>algorithm: ridge<br>alpha: 0.00024230102105339654<br><b>Objective Value: 0.9458054065930874</b>",
          "Trial #36<br>algorithm: lasso<br>alpha: 0.002615056478718971<br><b>Objective Value: 0.9427418045630881</b>",
          "Trial #37<br>algorithm: lasso<br>alpha: 0.0008701193893983413<br><b>Objective Value: 0.9485421626102486</b>",
          "Trial #38<br>algorithm: lasso<br>alpha: 0.009343031672547655<br><b>Objective Value: 0.9373437476773958</b>",
          "Trial #39<br>algorithm: ridge<br>alpha: 3.0896988698846903<br><b>Objective Value: 0.9485588883459293</b>",
          "Trial #40<br>algorithm: lasso<br>alpha: 0.0007487749013093245<br><b>Objective Value: 0.9490795432899979</b>",
          "Trial #41<br>algorithm: lasso<br>alpha: 0.00026577767050225043<br><b>Objective Value: 0.9502825368726407</b>",
          "Trial #42<br>algorithm: lasso<br>alpha: 0.00023634827143863648<br><b>Objective Value: 0.9502294508274328</b>",
          "Trial #43<br>algorithm: lasso<br>alpha: 0.002427898969308335<br><b>Objective Value: 0.9430131991735313</b>",
          "Trial #44<br>algorithm: lasso<br>alpha: 0.000325062047327948<br><b>Objective Value: 0.9502727641231721</b>",
          "Trial #45<br>algorithm: lasso<br>alpha: 0.0007138085942687639<br><b>Objective Value: 0.9492408791368658</b>",
          "Trial #46<br>algorithm: lasso<br>alpha: 0.001600153468480079<br><b>Objective Value: 0.9448349663520008</b>",
          "Trial #47<br>algorithm: xgb<br>learning_rate: 0.00011521087399364599<br>max_depth: 6<br>subsample: 0.5277084716528383<br>colsample_bytree: 0.5662117236927399<br>min_child_weight: 1<br><b>Objective Value: -6.669368157650402</b>",
          "Trial #48<br>algorithm: lasso<br>alpha: 0.0001752770246621694<br><b>Objective Value: 0.9500862499579659</b>",
          "Trial #49<br>algorithm: lasso<br>alpha: 0.009528470841126065<br><b>Objective Value: 0.9371932960385145</b>",
          "Trial #50<br>algorithm: ridge<br>alpha: 0.4966722669613841<br><b>Objective Value: 0.9470141744249545</b>",
          "Trial #51<br>algorithm: lasso<br>alpha: 0.00022775953671817198<br><b>Objective Value: 0.9502119657115078</b>",
          "Trial #52<br>algorithm: lasso<br>alpha: 0.00010612659023547114<br><b>Objective Value: 0.949734434572683</b>",
          "Trial #53<br>algorithm: lasso<br>alpha: 0.0003830467672882016<br><b>Objective Value: 0.9501974068395576</b>",
          "Trial #54<br>algorithm: lasso<br>alpha: 0.00021627436540954526<br><b>Objective Value: 0.950190484820807</b>",
          "Trial #55<br>algorithm: lasso<br>alpha: 0.001445853412310756<br><b>Objective Value: 0.945629603904475</b>",
          "Trial #56<br>algorithm: lasso<br>alpha: 53.23092951617624<br><b>Objective Value: -0.029441307066881618</b>",
          "Trial #57<br>algorithm: xgb<br>learning_rate: 0.011236477438678406<br>max_depth: 4<br>subsample: 0.41151468106452377<br>colsample_bytree: 0.330480957357973<br>min_child_weight: 15<br><b>Objective Value: 0.9362219094296959</b>",
          "Trial #58<br>algorithm: lasso<br>alpha: 0.0006269662288422743<br><b>Objective Value: 0.9495661914710423</b>",
          "Trial #59<br>algorithm: lasso<br>alpha: 0.00029775083715590834<br><b>Objective Value: 0.9502879072815185</b>",
          "Trial #60<br>algorithm: lasso<br>alpha: 15.099326747885836<br><b>Objective Value: -0.029441307066881618</b>",
          "Trial #61<br>algorithm: lasso<br>alpha: 0.00016120434434155882<br><b>Objective Value: 0.9500333708547464</b>",
          "Trial #62<br>algorithm: lasso<br>alpha: 0.0003589828022351704<br><b>Objective Value: 0.9502370410586698</b>",
          "Trial #63<br>algorithm: lasso<br>alpha: 0.0003217979072940209<br><b>Objective Value: 0.9502750912961979</b>",
          "Trial #64<br>algorithm: lasso<br>alpha: 0.0011967427390884194<br><b>Objective Value: 0.9472882006945464</b>",
          "Trial #65<br>algorithm: lasso<br>alpha: 0.0005043219466697327<br><b>Objective Value: 0.9499221783577119</b>",
          "Trial #66<br>algorithm: lasso<br>alpha: 0.00014659589751746423<br><b>Objective Value: 0.9499614525388406</b>",
          "Trial #67<br>algorithm: xgb<br>learning_rate: 0.0005787891082612613<br>max_depth: 3<br>subsample: 0.7512158659814847<br>colsample_bytree: 0.7802016742983691<br>min_child_weight: 5<br><b>Objective Value: -6.649379579649593</b>",
          "Trial #68<br>algorithm: lasso<br>alpha: 0.00032279050356379395<br><b>Objective Value: 0.9502742629973625</b>",
          "Trial #69<br>algorithm: lasso<br>alpha: 0.003229013154984103<br><b>Objective Value: 0.941854420726292</b>",
          "Trial #70<br>algorithm: lasso<br>alpha: 0.0009304375157316136<br><b>Objective Value: 0.9483040046031498</b>",
          "Trial #71<br>algorithm: lasso<br>alpha: 0.00032387498231343473<br><b>Objective Value: 0.9502735478038954</b>",
          "Trial #72<br>algorithm: lasso<br>alpha: 0.00010020749752970585<br><b>Objective Value: 0.9496698612945007</b>",
          "Trial #73<br>algorithm: lasso<br>alpha: 0.0004902540297799311<br><b>Objective Value: 0.9499618729169731</b>",
          "Trial #74<br>algorithm: lasso<br>alpha: 0.0002969173890045437<br><b>Objective Value: 0.9502883231525254</b>",
          "Trial #75<br>algorithm: lasso<br>alpha: 0.00028454678060790855<br><b>Objective Value: 0.9502953233147071</b>",
          "Trial #76<br>algorithm: ridge<br>alpha: 0.00016771658897848712<br><b>Objective Value: 0.9458050864155652</b>",
          "Trial #77<br>algorithm: lasso<br>alpha: 0.000578084982033051<br><b>Objective Value: 0.9497137160696887</b>",
          "Trial #78<br>algorithm: lasso<br>alpha: 0.0002650869138932816<br><b>Objective Value: 0.9502815924227817</b>",
          "Trial #79<br>algorithm: lasso<br>alpha: 0.0001529524006218151<br><b>Objective Value: 0.9499926313562599</b>",
          "Trial #80<br>algorithm: lasso<br>alpha: 0.0009624329368942344<br><b>Objective Value: 0.9481827933626569</b>",
          "Trial #81<br>algorithm: lasso<br>alpha: 0.00025615699836524443<br><b>Objective Value: 0.9502672109276192</b>",
          "Trial #82<br>algorithm: lasso<br>alpha: 0.0002775282989311552<br><b>Objective Value: 0.9502963988384143</b>",
          "Trial #83<br>algorithm: lasso<br>alpha: 0.001863957343085763<br><b>Objective Value: 0.9439723885844347</b>",
          "Trial #84<br>algorithm: lasso<br>alpha: 0.0005977110689793054<br><b>Objective Value: 0.9496589312348584</b>",
          "Trial #85<br>algorithm: lasso<br>alpha: 0.0002265048002483477<br><b>Objective Value: 0.9502098986541375</b>",
          "Trial #86<br>algorithm: xgb<br>learning_rate: 0.01240560912844289<br>max_depth: 8<br>subsample: 0.2704974479544986<br>colsample_bytree: 0.061997530866703454<br>min_child_weight: 15<br><b>Objective Value: 0.9113729713455464</b>",
          "Trial #87<br>algorithm: lasso<br>alpha: 0.00014044844521037702<br><b>Objective Value: 0.9499303692169431</b>",
          "Trial #88<br>algorithm: ridge<br>alpha: 0.00043999444012187577<br><b>Objective Value: 0.9458062548545307</b>",
          "Trial #89<br>algorithm: lasso<br>alpha: 0.0011161328813483<br><b>Objective Value: 0.9476084501766951</b>",
          "Trial #90<br>algorithm: lasso<br>alpha: 0.00028182509069933046<br><b>Objective Value: 0.9502964822130379</b>",
          "Trial #91<br>algorithm: lasso<br>alpha: 0.00021910412365379805<br><b>Objective Value: 0.9501962444593653</b>",
          "Trial #92<br>algorithm: lasso<br>alpha: 0.00028892319193558495<br><b>Objective Value: 0.9502926907956504</b>",
          "Trial #93<br>algorithm: lasso<br>alpha: 0.00012601304274520566<br><b>Objective Value: 0.9498802105550059</b>",
          "Trial #94<br>algorithm: lasso<br>alpha: 0.0006867677082010171<br><b>Objective Value: 0.9493494195943446</b>",
          "Trial #95<br>algorithm: lasso<br>alpha: 0.10617565798782047<br><b>Objective Value: 0.6948625509417926</b>",
          "Trial #96<br>algorithm: lasso<br>alpha: 0.00026874245328880713<br><b>Objective Value: 0.9502862831182425</b>",
          "Trial #97<br>algorithm: lasso<br>alpha: 0.0001942292553580477<br><b>Objective Value: 0.9501449871277803</b>",
          "Trial #98<br>algorithm: lasso<br>alpha: 0.0004343961432539565<br><b>Objective Value: 0.9500888877970954</b>",
          "Trial #99<br>algorithm: lasso<br>alpha: 0.0002822324255457903<br><b>Objective Value: 0.9502964373402069</b>",
          "Trial #100<br>algorithm: lasso<br>alpha: 0.00010067470572454919<br><b>Objective Value: 0.9496753512755902</b>",
          "Trial #101<br>algorithm: lasso<br>alpha: 0.00024337137393535218<br><b>Objective Value: 0.9502449512569566</b>",
          "Trial #102<br>algorithm: lasso<br>alpha: 0.0002840324973679434<br><b>Objective Value: 0.9502955909186339</b>",
          "Trial #103<br>algorithm: lasso<br>alpha: 0.0004429356786116208<br><b>Objective Value: 0.9500715177401252</b>",
          "Trial #104<br>algorithm: lasso<br>alpha: 0.0006852289007676667<br><b>Objective Value: 0.9493553150559639</b>",
          "Trial #105<br>algorithm: lasso<br>alpha: 0.00016777305469109388<br><b>Objective Value: 0.9500636883309272</b>",
          "Trial #106<br>algorithm: lasso<br>alpha: 2.718674441824922<br><b>Objective Value: -0.029441307066881618</b>",
          "Trial #107<br>algorithm: xgb<br>learning_rate: 0.010250741887711978<br>max_depth: 8<br>subsample: 0.699136270124052<br>colsample_bytree: 0.34676345983827406<br>min_child_weight: 6<br><b>Objective Value: 0.9456992597139712</b>",
          "Trial #108<br>algorithm: lasso<br>alpha: 0.000290966147484301<br><b>Objective Value: 0.9502914624491947</b>",
          "Trial #109<br>algorithm: lasso<br>alpha: 0.0008154095304730813<br><b>Objective Value: 0.9487796957195679</b>",
          "Trial #110<br>algorithm: ridge<br>alpha: 0.00037199925344242533<br><b>Objective Value: 0.9458059631669112</b>",
          "Trial #111<br>algorithm: lasso<br>alpha: 0.0002628523102139585<br><b>Objective Value: 0.9502778163259922</b>",
          "Trial #112<br>algorithm: lasso<br>alpha: 0.0003044538444315895<br><b>Objective Value: 0.9502836280725976</b>",
          "Trial #113<br>algorithm: lasso<br>alpha: 0.0001869134239066806<br><b>Objective Value: 0.9501260316720657</b>",
          "Trial #114<br>algorithm: lasso<br>alpha: 0.0005452808403101624<br><b>Objective Value: 0.9498013443197497</b>",
          "Trial #115<br>algorithm: lasso<br>alpha: 0.0003030787208159202<br><b>Objective Value: 0.9502845562820639</b>",
          "Trial #116<br>algorithm: lasso<br>alpha: 0.0003421151990867715<br><b>Objective Value: 0.9502582588235127</b>",
          "Trial #117<br>algorithm: lasso<br>alpha: 0.00013966170638581<br><b>Objective Value: 0.9499275892013603</b>",
          "Trial #118<br>algorithm: lasso<br>alpha: 0.0017689970679156401<br><b>Objective Value: 0.9442351128117648</b>",
          "Trial #119<br>algorithm: lasso<br>alpha: 0.0004857680768819713<br><b>Objective Value: 0.9499741667505186</b>",
          "Trial #120<br>algorithm: lasso<br>alpha: 0.00019366385317210036<br><b>Objective Value: 0.9501437506612426</b>",
          "Trial #121<br>algorithm: lasso<br>alpha: 0.00029322512255107095<br><b>Objective Value: 0.9502898226246657</b>",
          "Trial #122<br>algorithm: lasso<br>alpha: 0.0003937165488046054<br><b>Objective Value: 0.950172458965406</b>",
          "Trial #123<br>algorithm: lasso<br>alpha: 0.00012651680490057297<br><b>Objective Value: 0.9498818867954568</b>",
          "Trial #124<br>algorithm: lasso<br>alpha: 0.00032284555737474547<br><b>Objective Value: 0.9502742213840186</b>",
          "Trial #125<br>algorithm: lasso<br>alpha: 0.0010093248243163574<br><b>Objective Value: 0.948010230424984</b>",
          "Trial #126<br>algorithm: lasso<br>alpha: 0.0006538962082803727<br><b>Objective Value: 0.9494725800498989</b>",
          "Trial #127<br>algorithm: lasso<br>alpha: 0.0002701530338719892<br><b>Objective Value: 0.9502881420877998</b>",
          "Trial #128<br>algorithm: lasso<br>alpha: 0.00018822987713131288<br><b>Objective Value: 0.9501299921214527</b>",
          "Trial #129<br>algorithm: xgb<br>learning_rate: 0.00037758996511927124<br>max_depth: 3<br>subsample: 0.2213408681389885<br>colsample_bytree: 0.7364584373058741<br>min_child_weight: 15<br><b>Objective Value: -6.665047997522985</b>",
          "Trial #130<br>algorithm: lasso<br>alpha: 0.0005025161860693752<br><b>Objective Value: 0.9499275651962751</b>",
          "Trial #131<br>algorithm: lasso<br>alpha: 0.00030121839415697064<br><b>Objective Value: 0.9502859312054707</b>",
          "Trial #132<br>algorithm: lasso<br>alpha: 0.02760617308212424<br><b>Objective Value: 0.9090691608791975</b>",
          "Trial #133<br>algorithm: lasso<br>alpha: 0.0002755064260576385<br><b>Objective Value: 0.9502947964782023</b>",
          "Trial #134<br>algorithm: lasso<br>alpha: 0.00022243048023622906<br><b>Objective Value: 0.9502028187641546</b>",
          "Trial #135<br>algorithm: lasso<br>alpha: 0.00014320019113867708<br><b>Objective Value: 0.9499426420022609</b>",
          "Trial #136<br>algorithm: lasso<br>alpha: 0.00026866592038427895<br><b>Objective Value: 0.9502861840712985</b>",
          "Trial #137<br>algorithm: ridge<br>alpha: 0.0004309633494336917<br><b>Objective Value: 0.9458062161166941</b>",
          "Trial #138<br>algorithm: lasso<br>alpha: 0.00081294913853769<br><b>Objective Value: 0.9487904462388294</b>",
          "Trial #139<br>algorithm: lasso<br>alpha: 0.00020297584486418416<br><b>Objective Value: 0.9501620529377204</b>",
          "Trial #140<br>algorithm: lasso<br>alpha: 0.00012195713425037956<br><b>Objective Value: 0.9498618400883064</b>",
          "Trial #141<br>algorithm: lasso<br>alpha: 0.00025467710128659193<br><b>Objective Value: 0.9502649728528159</b>",
          "Trial #142<br>algorithm: lasso<br>alpha: 0.0003902292801053442<br><b>Objective Value: 0.9501802467301577</b>",
          "Trial #143<br>algorithm: lasso<br>alpha: 0.0005961379839180346<br><b>Objective Value: 0.9496636404874943</b>",
          "Trial #144<br>algorithm: lasso<br>alpha: 0.00025983379644265125<br><b>Objective Value: 0.9502726100328387</b>",
          "Trial #145<br>algorithm: lasso<br>alpha: 0.0001656791803098643<br><b>Objective Value: 0.9500547936860226</b>",
          "Trial #146<br>algorithm: lasso<br>alpha: 0.00029660077744154305<br><b>Objective Value: 0.9502884518718631</b>",
          "Trial #147<br>algorithm: lasso<br>alpha: 0.0004216013518661878<br><b>Objective Value: 0.9501140127607505</b>",
          "Trial #148<br>algorithm: lasso<br>alpha: 0.00019191268560575942<br><b>Objective Value: 0.9501396727282296</b>",
          "Trial #149<br>algorithm: lasso<br>alpha: 0.0005355609370130905<br><b>Objective Value: 0.949827142011346</b>",
          "Trial #150<br>algorithm: lasso<br>alpha: 0.7480710218510542<br><b>Objective Value: -0.029441307066881618</b>",
          "Trial #151<br>algorithm: lasso<br>alpha: 0.0002955668852217581<br><b>Objective Value: 0.950288785652028</b>",
          "Trial #152<br>algorithm: lasso<br>alpha: 0.0003179394162049563<br><b>Objective Value: 0.9502777437745561</b>",
          "Trial #153<br>algorithm: lasso<br>alpha: 0.0002572094482719987<br><b>Objective Value: 0.9502688139102728</b>",
          "Trial #154<br>algorithm: lasso<br>alpha: 0.00010234247253002118<br><b>Objective Value: 0.9496937107517626</b>",
          "Trial #155<br>algorithm: lasso<br>alpha: 0.00014965779743293767<br><b>Objective Value: 0.9499777480519768</b>",
          "Trial #156<br>algorithm: lasso<br>alpha: 0.00037700816190696225<br><b>Objective Value: 0.9502093537893714</b>",
          "Trial #157<br>algorithm: xgb<br>learning_rate: 0.000484744276997372<br>max_depth: 8<br>subsample: 0.9855479934166286<br>colsample_bytree: 0.4680410649317334<br>min_child_weight: 5<br><b>Objective Value: -6.658982618518887</b>",
          "Trial #158<br>algorithm: lasso<br>alpha: 0.0002121806487450387<br><b>Objective Value: 0.9501804859699942</b>",
          "Trial #159<br>algorithm: lasso<br>alpha: 0.0006328223055577282<br><b>Objective Value: 0.9495460997714975</b>",
          "Trial #160<br>algorithm: lasso<br>alpha: 0.00027951955384252825<br><b>Objective Value: 0.9502968446519408</b>",
          "Trial #161<br>algorithm: lasso<br>alpha: 0.0002939250037567679<br><b>Objective Value: 0.9502895965361698</b>",
          "Trial #162<br>algorithm: lasso<br>alpha: 0.00037385749754682466<br><b>Objective Value: 0.95021458199043</b>",
          "Trial #163<br>algorithm: lasso<br>alpha: 0.00046763996206561896<br><b>Objective Value: 0.9500186429126172</b>",
          "Trial #164<br>algorithm: lasso<br>alpha: 0.00017255223505524656<br><b>Objective Value: 0.9500779176060921</b>",
          "Trial #165<br>algorithm: lasso<br>alpha: 0.00026100557304665855<br><b>Objective Value: 0.9502745077404082</b>",
          "Trial #166<br>algorithm: ridge<br>alpha: 0.0003300537053842424<br><b>Objective Value: 0.9458057831934419</b>",
          "Trial #167<br>algorithm: lasso<br>alpha: 0.00021752221770842542<br><b>Objective Value: 0.9501930573225469</b>",
          "Trial #168<br>algorithm: lasso<br>alpha: 0.057297280198522024<br><b>Objective Value: 0.8389773364681945</b>",
          "Trial #169<br>algorithm: lasso<br>alpha: 0.0007982176804455926<br><b>Objective Value: 0.9488545491630855</b>",
          "Trial #170<br>algorithm: lasso<br>alpha: 0.008770629968123052<br><b>Objective Value: 0.9377778075045207</b>",
          "Trial #171<br>algorithm: lasso<br>alpha: 0.00026809135112437695<br><b>Objective Value: 0.9502854685127481</b>",
          "Trial #172<br>algorithm: lasso<br>alpha: 0.0003039866798920512<br><b>Objective Value: 0.9502839077510391</b>",
          "Trial #173<br>algorithm: lasso<br>alpha: 0.0001518658124315147<br><b>Objective Value: 0.9499869011042194</b>",
          "Trial #174<br>algorithm: lasso<br>alpha: 0.00046511836448988027<br><b>Objective Value: 0.9500245932051371</b>",
          "Trial #175<br>algorithm: lasso<br>alpha: 0.24295422841672976<br><b>Objective Value: 0.1865437329165439</b>",
          "Trial #176<br>algorithm: lasso<br>alpha: 0.00020070103964358482<br><b>Objective Value: 0.9501583632314036</b>",
          "Trial #177<br>algorithm: lasso<br>alpha: 0.0003836683208844992<br><b>Objective Value: 0.9501960247006522</b>",
          "Trial #178<br>algorithm: lasso<br>alpha: 0.0005881628083156323<br><b>Objective Value: 0.9496864576714318</b>",
          "Trial #179<br>algorithm: lasso<br>alpha: 0.00026630194727719005<br><b>Objective Value: 0.9502833222098073</b>",
          "Trial #180<br>algorithm: lasso<br>alpha: 0.00014231728344635378<br><b>Objective Value: 0.9499385532941413</b>",
          "Trial #181<br>algorithm: lasso<br>alpha: 0.0003085933070370752<br><b>Objective Value: 0.9502810360158491</b>",
          "Trial #182<br>algorithm: lasso<br>alpha: 0.0003051142591493016<br><b>Objective Value: 0.9502831710262434</b>",
          "Trial #183<br>algorithm: lasso<br>alpha: 0.00021599941049405656<br><b>Objective Value: 0.9501898279809267</b>",
          "Trial #184<br>algorithm: lasso<br>alpha: 0.0004154625288227434<br><b>Objective Value: 0.9501258403921616</b>",
          "Trial #185<br>algorithm: lasso<br>alpha: 0.00018413932309184442<br><b>Objective Value: 0.9501172861556331</b>",
          "Trial #186<br>algorithm: lasso<br>alpha: 0.00029593987834829297<br><b>Objective Value: 0.950288642837411</b>",
          "Trial #187<br>algorithm: lasso<br>alpha: 0.0005140786592218493<br><b>Objective Value: 0.9498915102678985</b>",
          "Trial #188<br>algorithm: xgb<br>learning_rate: 0.022432477519196928<br>max_depth: 5<br>subsample: 0.5819591447885447<br>colsample_bytree: 0.1949715272549276<br>min_child_weight: 13<br><b>Objective Value: 0.9467614990364478</b>",
          "Trial #189<br>algorithm: lasso<br>alpha: 0.00022947095032263697<br><b>Objective Value: 0.9502152651959875</b>",
          "Trial #190<br>algorithm: lasso<br>alpha: 0.0003771917449846884<br><b>Objective Value: 0.9502090690343031</b>",
          "Trial #191<br>algorithm: lasso<br>alpha: 0.0002628651681789406<br><b>Objective Value: 0.9502778394616301</b>",
          "Trial #192<br>algorithm: lasso<br>alpha: 0.00033338137422522654<br><b>Objective Value: 0.950266037079577</b>",
          "Trial #193<br>algorithm: lasso<br>alpha: 0.00017477919220651886<br><b>Objective Value: 0.9500845330420139</b>",
          "Trial #194<br>algorithm: lasso<br>alpha: 0.0002668231958810487<br><b>Objective Value: 0.9502840671126596</b>",
          "Trial #195<br>algorithm: lasso<br>alpha: 0.0005009178284093929<br><b>Objective Value: 0.9499323646692229</b>",
          "Trial #196<br>algorithm: lasso<br>alpha: 0.00012855378397921287<br><b>Objective Value: 0.9498876175942407</b>",
          "Trial #197<br>algorithm: lasso<br>alpha: 0.00034571676369411016<br><b>Objective Value: 0.950254088504817</b>",
          "Trial #198<br>algorithm: lasso<br>alpha: 0.00020514835456026157<br><b>Objective Value: 0.9501658812790701</b>",
          "Trial #199<br>algorithm: ridge<br>alpha: 0.00028929130728814323<br><b>Objective Value: 0.9458056082713616</b>"
         ],
         "marker": {
          "color": [
           "rgb(150.0, 200.0, 224.0)",
           "rgb(86.0, 137.0, 190.0)",
           "rgb(139.0, 191.0, 219.0)",
           "rgb(155.0, 204.0, 226.0)",
           "rgb(206.0, 234.0, 243.0)",
           "rgb(74.0, 123.0, 183.0)",
           "rgb(255.0, 240.0, 169.0)",
           "rgb(58.0, 82.0, 163.0)",
           "rgb(54.0, 70.0, 157.0)",
           "rgb(254.0, 226.0, 147.0)",
           "rgb(67.0, 111.0, 177.0)",
           "rgb(234.0, 247.0, 230.0)",
           "rgb(229.0, 245.0, 238.0)",
           "rgb(158.0, 207.0, 227.0)",
           "rgb(109.0, 165.0, 205.0)",
           "rgb(66.0, 108.0, 175.0)",
           "rgb(49.0, 54.0, 149.0)",
           "rgb(250.0, 152.0, 87.0)",
           "rgb(62.0, 95.0, 169.0)",
           "rgb(65.0, 105.0, 174.0)",
           "rgb(90.0, 143.0, 193.0)",
           "rgb(248.0, 136.0, 79.0)",
           "rgb(248.0, 139.0, 81.0)",
           "rgb(255.0, 253.0, 187.0)",
           "rgb(88.0, 140.0, 192.0)",
           "rgb(254.0, 239.0, 166.0)",
           "rgb(72.0, 120.0, 182.0)",
           "rgb(100.0, 154.0, 199.0)",
           "rgb(128.0, 182.0, 214.0)",
           "rgb(55.0, 73.0, 158.0)",
           "rgb(141.0, 193.0, 220.0)",
           "rgb(228.0, 244.0, 241.0)",
           "rgb(230.0, 79.0, 53.0)",
           "rgb(177.0, 220.0, 235.0)",
           "rgb(236.0, 91.0, 59.0)",
           "rgb(119.0, 176.0, 210.0)",
           "rgb(95.0, 148.0, 196.0)",
           "rgb(172.0, 217.0, 233.0)",
           "rgb(81.0, 131.0, 187.0)",
           "rgb(174.0, 219.0, 234.0)",
           "rgb(188.0, 225.0, 238.0)",
           "rgb(225.0, 70.0, 49.0)",
           "rgb(250.0, 149.0, 85.0)",
           "rgb(98.0, 151.0, 198.0)",
           "rgb(244.0, 110.0, 67.0)",
           "rgb(190.0, 227.0, 239.0)",
           "rgb(107.0, 162.0, 203.0)",
           "rgb(50.0, 57.0, 151.0)",
           "rgb(254.0, 229.0, 152.0)",
           "rgb(79.0, 129.0, 186.0)",
           "rgb(147.0, 198.0, 223.0)",
           "rgb(251.0, 162.0, 91.0)",
           "rgb(226.0, 244.0, 244.0)",
           "rgb(253.0, 177.0, 100.0)",
           "rgb(253.0, 187.0, 110.0)",
           "rgb(112.0, 168.0, 206.0)",
           "rgb(58.0, 82.0, 163.0)",
           "rgb(76.0, 126.0, 185.0)",
           "rgb(204.0, 233.0, 242.0)",
           "rgb(205.0, 39.0, 39.0)",
           "rgb(58.0, 82.0, 163.0)",
           "rgb(255.0, 242.0, 171.0)",
           "rgb(249.0, 146.0, 84.0)",
           "rgb(237.0, 94.0, 60.0)",
           "rgb(152.0, 202.0, 225.0)",
           "rgb(243.0, 250.0, 212.0)",
           "rgb(254.0, 255.0, 192.0)",
           "rgb(53.0, 67.0, 155.0)",
           "rgb(240.0, 100.0, 63.0)",
           "rgb(93.0, 145.0, 195.0)",
           "rgb(169.0, 215.0, 232.0)",
           "rgb(243.0, 107.0, 66.0)",
           "rgb(214.0, 238.0, 245.0)",
           "rgb(255.0, 254.0, 190.0)",
           "rgb(200.0, 34.0, 39.0)",
           "rgb(178.0, 12.0, 38.0)",
           "rgb(117.0, 173.0, 209.0)",
           "rgb(225.0, 243.0, 247.0)",
           "rgb(227.0, 73.0, 50.0)",
           "rgb(255.0, 246.0, 178.0)",
           "rgb(166.0, 213.0, 231.0)",
           "rgb(245.0, 119.0, 72.0)",
           "rgb(173.0, 7.0, 38.0)",
           "rgb(102.0, 157.0, 201.0)",
           "rgb(209.0, 236.0, 244.0)",
           "rgb(252.0, 165.0, 93.0)",
           "rgb(69.0, 117.0, 180.0)",
           "rgb(248.0, 252.0, 204.0)",
           "rgb(136.0, 189.0, 218.0)",
           "rgb(161.0, 209.0, 229.0)",
           "rgb(168.0, 2.0, 38.0)",
           "rgb(253.0, 180.0, 102.0)",
           "rgb(183.0, 17.0, 38.0)",
           "rgb(237.0, 248.0, 224.0)",
           "rgb(193.0, 228.0, 239.0)",
           "rgb(63.0, 98.0, 171.0)",
           "rgb(208.0, 41.0, 39.0)",
           "rgb(254.0, 207.0, 128.0)",
           "rgb(254.0, 228.0, 150.0)",
           "rgb(170.0, 5.0, 38.0)",
           "rgb(217.0, 240.0, 246.0)",
           "rgb(249.0, 142.0, 82.0)",
           "rgb(175.0, 10.0, 38.0)",
           "rgb(254.0, 234.0, 159.0)",
           "rgb(196.0, 229.0, 240.0)",
           "rgb(254.0, 236.0, 161.0)",
           "rgb(58.0, 82.0, 163.0)",
           "rgb(114.0, 171.0, 208.0)",
           "rgb(185.0, 19.0, 38.0)",
           "rgb(180.0, 221.0, 235.0)",
           "rgb(130.0, 184.0, 215.0)",
           "rgb(233.0, 85.0, 56.0)",
           "rgb(221.0, 61.0, 45.0)",
           "rgb(254.0, 217.0, 138.0)",
           "rgb(231.0, 246.0, 235.0)",
           "rgb(217.0, 51.0, 41.0)",
           "rgb(247.0, 129.0, 76.0)",
           "rgb(246.0, 252.0, 207.0)",
           "rgb(105.0, 159.0, 202.0)",
           "rgb(255.0, 251.0, 185.0)",
           "rgb(254.0, 210.0, 131.0)",
           "rgb(188.0, 22.0, 38.0)",
           "rgb(253.0, 197.0, 119.0)",
           "rgb(239.0, 249.0, 221.0)",
           "rgb(241.0, 103.0, 64.0)",
           "rgb(164.0, 211.0, 230.0)",
           "rgb(198.0, 230.0, 241.0)",
           "rgb(203.0, 36.0, 39.0)",
           "rgb(254.0, 215.0, 135.0)",
           "rgb(51.0, 60.0, 152.0)",
           "rgb(245.0, 251.0, 210.0)",
           "rgb(213.0, 46.0, 39.0)",
           "rgb(68.0, 114.0, 179.0)",
           "rgb(180.0, 14.0, 38.0)",
           "rgb(253.0, 175.0, 98.0)",
           "rgb(253.0, 254.0, 195.0)",
           "rgb(210.0, 43.0, 39.0)",
           "rgb(133.0, 187.0, 216.0)",
           "rgb(182.0, 223.0, 236.0)",
           "rgb(254.0, 202.0, 124.0)",
           "rgb(236.0, 247.0, 227.0)",
           "rgb(246.0, 126.0, 75.0)",
           "rgb(253.0, 195.0, 117.0)",
           "rgb(212.0, 237.0, 245.0)",
           "rgb(245.0, 113.0, 69.0)",
           "rgb(254.0, 237.0, 164.0)",
           "rgb(198.0, 31.0, 39.0)",
           "rgb(254.0, 225.0, 145.0)",
           "rgb(254.0, 212.0, 133.0)",
           "rgb(232.0, 246.0, 233.0)",
           "rgb(58.0, 82.0, 163.0)",
           "rgb(193.0, 27.0, 39.0)",
           "rgb(234.0, 88.0, 57.0)",
           "rgb(245.0, 116.0, 70.0)",
           "rgb(222.0, 242.0, 248.0)",
           "rgb(255.0, 250.0, 183.0)",
           "rgb(252.0, 168.0, 94.0)",
           "rgb(52.0, 63.0, 154.0)",
           "rgb(253.0, 192.0, 114.0)",
           "rgb(201.0, 232.0, 242.0)",
           "rgb(165.0, 0.0, 38.0)",
           "rgb(190.0, 24.0, 39.0)",
           "rgb(251.0, 159.0, 90.0)",
           "rgb(255.0, 245.0, 176.0)",
           "rgb(254.0, 232.0, 157.0)",
           "rgb(238.0, 97.0, 62.0)",
           "rgb(125.0, 180.0, 213.0)",
           "rgb(253.0, 185.0, 107.0)",
           "rgb(64.0, 101.0, 172.0)",
           "rgb(185.0, 224.0, 237.0)",
           "rgb(83.0, 134.0, 189.0)",
           "rgb(215.0, 48.0, 39.0)",
           "rgb(220.0, 58.0, 43.0)",
           "rgb(255.0, 248.0, 180.0)",
           "rgb(255.0, 243.0, 173.0)",
           "rgb(61.0, 92.0, 168.0)",
           "rgb(254.0, 205.0, 126.0)",
           "rgb(253.0, 182.0, 105.0)",
           "rgb(220.0, 241.0, 247.0)",
           "rgb(222.0, 64.0, 46.0)",
           "rgb(251.0, 253.0, 198.0)",
           "rgb(228.0, 76.0, 52.0)",
           "rgb(224.0, 67.0, 48.0)",
           "rgb(253.0, 190.0, 112.0)",
           "rgb(254.0, 220.0, 140.0)",
           "rgb(254.0, 222.0, 143.0)",
           "rgb(195.0, 29.0, 39.0)",
           "rgb(242.0, 250.0, 215.0)",
           "rgb(144.0, 196.0, 221.0)",
           "rgb(250.0, 155.0, 88.0)",
           "rgb(253.0, 172.0, 96.0)",
           "rgb(231.0, 82.0, 55.0)",
           "rgb(246.0, 123.0, 73.0)",
           "rgb(254.0, 231.0, 154.0)",
           "rgb(218.0, 54.0, 42.0)",
           "rgb(250.0, 253.0, 201.0)",
           "rgb(240.0, 249.0, 218.0)",
           "rgb(247.0, 133.0, 78.0)",
           "rgb(254.0, 200.0, 121.0)",
           "rgb(122.0, 178.0, 212.0)"
          ],
          "line": {
           "color": "Grey",
           "width": 0.5
          }
         },
         "mode": "markers",
         "showlegend": false,
         "type": "scatter",
         "x": [
          "ridge",
          "lasso",
          "ridge",
          "ridge",
          "ridge",
          "lasso",
          "lasso",
          "lasso",
          "xgb",
          "lasso",
          "xgb",
          "lasso",
          "lasso",
          "lasso",
          "lasso",
          "lasso",
          "xgb",
          "lasso",
          "lasso",
          "xgb",
          "lasso",
          "lasso",
          "lasso",
          "lasso",
          "lasso",
          "lasso",
          "lasso",
          "lasso",
          "ridge",
          "xgb",
          "ridge",
          "lasso",
          "lasso",
          "lasso",
          "lasso",
          "ridge",
          "lasso",
          "lasso",
          "lasso",
          "ridge",
          "lasso",
          "lasso",
          "lasso",
          "lasso",
          "lasso",
          "lasso",
          "lasso",
          "xgb",
          "lasso",
          "lasso",
          "ridge",
          "lasso",
          "lasso",
          "lasso",
          "lasso",
          "lasso",
          "lasso",
          "xgb",
          "lasso",
          "lasso",
          "lasso",
          "lasso",
          "lasso",
          "lasso",
          "lasso",
          "lasso",
          "lasso",
          "xgb",
          "lasso",
          "lasso",
          "lasso",
          "lasso",
          "lasso",
          "lasso",
          "lasso",
          "lasso",
          "ridge",
          "lasso",
          "lasso",
          "lasso",
          "lasso",
          "lasso",
          "lasso",
          "lasso",
          "lasso",
          "lasso",
          "xgb",
          "lasso",
          "ridge",
          "lasso",
          "lasso",
          "lasso",
          "lasso",
          "lasso",
          "lasso",
          "lasso",
          "lasso",
          "lasso",
          "lasso",
          "lasso",
          "lasso",
          "lasso",
          "lasso",
          "lasso",
          "lasso",
          "lasso",
          "lasso",
          "xgb",
          "lasso",
          "lasso",
          "ridge",
          "lasso",
          "lasso",
          "lasso",
          "lasso",
          "lasso",
          "lasso",
          "lasso",
          "lasso",
          "lasso",
          "lasso",
          "lasso",
          "lasso",
          "lasso",
          "lasso",
          "lasso",
          "lasso",
          "lasso",
          "lasso",
          "xgb",
          "lasso",
          "lasso",
          "lasso",
          "lasso",
          "lasso",
          "lasso",
          "lasso",
          "ridge",
          "lasso",
          "lasso",
          "lasso",
          "lasso",
          "lasso",
          "lasso",
          "lasso",
          "lasso",
          "lasso",
          "lasso",
          "lasso",
          "lasso",
          "lasso",
          "lasso",
          "lasso",
          "lasso",
          "lasso",
          "lasso",
          "lasso",
          "xgb",
          "lasso",
          "lasso",
          "lasso",
          "lasso",
          "lasso",
          "lasso",
          "lasso",
          "lasso",
          "ridge",
          "lasso",
          "lasso",
          "lasso",
          "lasso",
          "lasso",
          "lasso",
          "lasso",
          "lasso",
          "lasso",
          "lasso",
          "lasso",
          "lasso",
          "lasso",
          "lasso",
          "lasso",
          "lasso",
          "lasso",
          "lasso",
          "lasso",
          "lasso",
          "lasso",
          "xgb",
          "lasso",
          "lasso",
          "lasso",
          "lasso",
          "lasso",
          "lasso",
          "lasso",
          "lasso",
          "lasso",
          "lasso",
          "ridge"
         ],
         "xaxis": "x",
         "y": [
          "ridge",
          "lasso",
          "ridge",
          "ridge",
          "ridge",
          "lasso",
          "lasso",
          "lasso",
          "xgb",
          "lasso",
          "xgb",
          "lasso",
          "lasso",
          "lasso",
          "lasso",
          "lasso",
          "xgb",
          "lasso",
          "lasso",
          "xgb",
          "lasso",
          "lasso",
          "lasso",
          "lasso",
          "lasso",
          "lasso",
          "lasso",
          "lasso",
          "ridge",
          "xgb",
          "ridge",
          "lasso",
          "lasso",
          "lasso",
          "lasso",
          "ridge",
          "lasso",
          "lasso",
          "lasso",
          "ridge",
          "lasso",
          "lasso",
          "lasso",
          "lasso",
          "lasso",
          "lasso",
          "lasso",
          "xgb",
          "lasso",
          "lasso",
          "ridge",
          "lasso",
          "lasso",
          "lasso",
          "lasso",
          "lasso",
          "lasso",
          "xgb",
          "lasso",
          "lasso",
          "lasso",
          "lasso",
          "lasso",
          "lasso",
          "lasso",
          "lasso",
          "lasso",
          "xgb",
          "lasso",
          "lasso",
          "lasso",
          "lasso",
          "lasso",
          "lasso",
          "lasso",
          "lasso",
          "ridge",
          "lasso",
          "lasso",
          "lasso",
          "lasso",
          "lasso",
          "lasso",
          "lasso",
          "lasso",
          "lasso",
          "xgb",
          "lasso",
          "ridge",
          "lasso",
          "lasso",
          "lasso",
          "lasso",
          "lasso",
          "lasso",
          "lasso",
          "lasso",
          "lasso",
          "lasso",
          "lasso",
          "lasso",
          "lasso",
          "lasso",
          "lasso",
          "lasso",
          "lasso",
          "lasso",
          "xgb",
          "lasso",
          "lasso",
          "ridge",
          "lasso",
          "lasso",
          "lasso",
          "lasso",
          "lasso",
          "lasso",
          "lasso",
          "lasso",
          "lasso",
          "lasso",
          "lasso",
          "lasso",
          "lasso",
          "lasso",
          "lasso",
          "lasso",
          "lasso",
          "lasso",
          "xgb",
          "lasso",
          "lasso",
          "lasso",
          "lasso",
          "lasso",
          "lasso",
          "lasso",
          "ridge",
          "lasso",
          "lasso",
          "lasso",
          "lasso",
          "lasso",
          "lasso",
          "lasso",
          "lasso",
          "lasso",
          "lasso",
          "lasso",
          "lasso",
          "lasso",
          "lasso",
          "lasso",
          "lasso",
          "lasso",
          "lasso",
          "lasso",
          "xgb",
          "lasso",
          "lasso",
          "lasso",
          "lasso",
          "lasso",
          "lasso",
          "lasso",
          "lasso",
          "ridge",
          "lasso",
          "lasso",
          "lasso",
          "lasso",
          "lasso",
          "lasso",
          "lasso",
          "lasso",
          "lasso",
          "lasso",
          "lasso",
          "lasso",
          "lasso",
          "lasso",
          "lasso",
          "lasso",
          "lasso",
          "lasso",
          "lasso",
          "lasso",
          "lasso",
          "xgb",
          "lasso",
          "lasso",
          "lasso",
          "lasso",
          "lasso",
          "lasso",
          "lasso",
          "lasso",
          "lasso",
          "lasso",
          "ridge"
         ],
         "yaxis": "y"
        },
        {
         "hovertemplate": "%{hovertext}<extra></extra>",
         "hovertext": [
          "Trial #0<br>algorithm: ridge<br>alpha: 0.6010505222092465<br><b>Objective Value: 0.9471554321468393</b>",
          "Trial #1<br>algorithm: lasso<br>alpha: 0.006162467158491157<br><b>Objective Value: 0.9389672175428982</b>",
          "Trial #2<br>algorithm: ridge<br>alpha: 0.001244729405956262<br><b>Objective Value: 0.9458097018173504</b>",
          "Trial #3<br>algorithm: ridge<br>alpha: 0.7759373016028097<br><b>Objective Value: 0.9473545665481765</b>",
          "Trial #4<br>algorithm: ridge<br>alpha: 31.29323725185007<br><b>Objective Value: 0.9496058571087869</b>",
          "Trial #5<br>algorithm: lasso<br>alpha: 0.016555231662187374<br><b>Objective Value: 0.9294302327835954</b>",
          "Trial #6<br>algorithm: lasso<br>alpha: 0.0004582749531777171<br><b>Objective Value: 0.9500398525687235</b>",
          "Trial #7<br>algorithm: lasso<br>alpha: 5.534750298353362<br><b>Objective Value: -0.029441307066881618</b>",
          "Trial #9<br>algorithm: lasso<br>alpha: 0.00017637287605472746<br><b>Objective Value: 0.9500902328681612</b>",
          "Trial #11<br>algorithm: lasso<br>alpha: 0.00011995197253262029<br><b>Objective Value: 0.9498510406483309</b>",
          "Trial #12<br>algorithm: lasso<br>alpha: 0.00011207889164253218<br><b>Objective Value: 0.9497956445257467</b>",
          "Trial #13<br>algorithm: lasso<br>alpha: 0.0011740965051880814<br><b>Objective Value: 0.9473793968660728</b>",
          "Trial #14<br>algorithm: lasso<br>alpha: 0.0015503076984355424<br><b>Objective Value: 0.945086273060117</b>",
          "Trial #15<br>algorithm: lasso<br>alpha: 0.03649585335839899<br><b>Objective Value: 0.891919680699119</b>",
          "Trial #17<br>algorithm: lasso<br>alpha: 0.0003726843301350919<br><b>Objective Value: 0.9502165794308643</b>",
          "Trial #18<br>algorithm: lasso<br>alpha: 0.20023362384311136<br><b>Objective Value: 0.3389464804948818</b>",
          "Trial #20<br>algorithm: lasso<br>alpha: 0.004216169019651566<br><b>Objective Value: 0.9409100930605206</b>",
          "Trial #21<br>algorithm: lasso<br>alpha: 0.00034608379326552273<br><b>Objective Value: 0.9502535145176715</b>",
          "Trial #22<br>algorithm: lasso<br>alpha: 0.00024482064135119533<br><b>Objective Value: 0.950247724018946</b>",
          "Trial #23<br>algorithm: lasso<br>alpha: 0.000487776516858514<br><b>Objective Value: 0.9499686482042866</b>",
          "Trial #24<br>algorithm: lasso<br>alpha: 0.005239588389351667<br><b>Objective Value: 0.9397985591072718</b>",
          "Trial #25<br>algorithm: lasso<br>alpha: 0.0004550420502021263<br><b>Objective Value: 0.9500469224113856</b>",
          "Trial #26<br>algorithm: lasso<br>alpha: 0.02091016333584503<br><b>Objective Value: 0.9224764929436381</b>",
          "Trial #27<br>algorithm: lasso<br>alpha: 0.002367137437004208<br><b>Objective Value: 0.9431142980201922</b>",
          "Trial #28<br>algorithm: ridge<br>alpha: 0.0003508193855269366<br><b>Objective Value: 0.9458058722948917</b>",
          "Trial #30<br>algorithm: ridge<br>alpha: 0.07419825096515736<br><b>Objective Value: 0.9460881378786741</b>",
          "Trial #31<br>algorithm: lasso<br>alpha: 0.0001098338559889162<br><b>Objective Value: 0.9497745164857381</b>",
          "Trial #32<br>algorithm: lasso<br>alpha: 0.00026399630354087886<br><b>Objective Value: 0.9502797535996578</b>",
          "Trial #33<br>algorithm: lasso<br>alpha: 0.0008472387752849562<br><b>Objective Value: 0.9486362756580426</b>",
          "Trial #34<br>algorithm: lasso<br>alpha: 0.0003204788571913823<br><b>Objective Value: 0.9502759959747529</b>",
          "Trial #35<br>algorithm: ridge<br>alpha: 0.00024230102105339654<br><b>Objective Value: 0.9458054065930874</b>",
          "Trial #36<br>algorithm: lasso<br>alpha: 0.002615056478718971<br><b>Objective Value: 0.9427418045630881</b>",
          "Trial #37<br>algorithm: lasso<br>alpha: 0.0008701193893983413<br><b>Objective Value: 0.9485421626102486</b>",
          "Trial #38<br>algorithm: lasso<br>alpha: 0.009343031672547655<br><b>Objective Value: 0.9373437476773958</b>",
          "Trial #39<br>algorithm: ridge<br>alpha: 3.0896988698846903<br><b>Objective Value: 0.9485588883459293</b>",
          "Trial #40<br>algorithm: lasso<br>alpha: 0.0007487749013093245<br><b>Objective Value: 0.9490795432899979</b>",
          "Trial #41<br>algorithm: lasso<br>alpha: 0.00026577767050225043<br><b>Objective Value: 0.9502825368726407</b>",
          "Trial #42<br>algorithm: lasso<br>alpha: 0.00023634827143863648<br><b>Objective Value: 0.9502294508274328</b>",
          "Trial #43<br>algorithm: lasso<br>alpha: 0.002427898969308335<br><b>Objective Value: 0.9430131991735313</b>",
          "Trial #44<br>algorithm: lasso<br>alpha: 0.000325062047327948<br><b>Objective Value: 0.9502727641231721</b>",
          "Trial #45<br>algorithm: lasso<br>alpha: 0.0007138085942687639<br><b>Objective Value: 0.9492408791368658</b>",
          "Trial #46<br>algorithm: lasso<br>alpha: 0.001600153468480079<br><b>Objective Value: 0.9448349663520008</b>",
          "Trial #48<br>algorithm: lasso<br>alpha: 0.0001752770246621694<br><b>Objective Value: 0.9500862499579659</b>",
          "Trial #49<br>algorithm: lasso<br>alpha: 0.009528470841126065<br><b>Objective Value: 0.9371932960385145</b>",
          "Trial #50<br>algorithm: ridge<br>alpha: 0.4966722669613841<br><b>Objective Value: 0.9470141744249545</b>",
          "Trial #51<br>algorithm: lasso<br>alpha: 0.00022775953671817198<br><b>Objective Value: 0.9502119657115078</b>",
          "Trial #52<br>algorithm: lasso<br>alpha: 0.00010612659023547114<br><b>Objective Value: 0.949734434572683</b>",
          "Trial #53<br>algorithm: lasso<br>alpha: 0.0003830467672882016<br><b>Objective Value: 0.9501974068395576</b>",
          "Trial #54<br>algorithm: lasso<br>alpha: 0.00021627436540954526<br><b>Objective Value: 0.950190484820807</b>",
          "Trial #55<br>algorithm: lasso<br>alpha: 0.001445853412310756<br><b>Objective Value: 0.945629603904475</b>",
          "Trial #56<br>algorithm: lasso<br>alpha: 53.23092951617624<br><b>Objective Value: -0.029441307066881618</b>",
          "Trial #58<br>algorithm: lasso<br>alpha: 0.0006269662288422743<br><b>Objective Value: 0.9495661914710423</b>",
          "Trial #59<br>algorithm: lasso<br>alpha: 0.00029775083715590834<br><b>Objective Value: 0.9502879072815185</b>",
          "Trial #60<br>algorithm: lasso<br>alpha: 15.099326747885836<br><b>Objective Value: -0.029441307066881618</b>",
          "Trial #61<br>algorithm: lasso<br>alpha: 0.00016120434434155882<br><b>Objective Value: 0.9500333708547464</b>",
          "Trial #62<br>algorithm: lasso<br>alpha: 0.0003589828022351704<br><b>Objective Value: 0.9502370410586698</b>",
          "Trial #63<br>algorithm: lasso<br>alpha: 0.0003217979072940209<br><b>Objective Value: 0.9502750912961979</b>",
          "Trial #64<br>algorithm: lasso<br>alpha: 0.0011967427390884194<br><b>Objective Value: 0.9472882006945464</b>",
          "Trial #65<br>algorithm: lasso<br>alpha: 0.0005043219466697327<br><b>Objective Value: 0.9499221783577119</b>",
          "Trial #66<br>algorithm: lasso<br>alpha: 0.00014659589751746423<br><b>Objective Value: 0.9499614525388406</b>",
          "Trial #68<br>algorithm: lasso<br>alpha: 0.00032279050356379395<br><b>Objective Value: 0.9502742629973625</b>",
          "Trial #69<br>algorithm: lasso<br>alpha: 0.003229013154984103<br><b>Objective Value: 0.941854420726292</b>",
          "Trial #70<br>algorithm: lasso<br>alpha: 0.0009304375157316136<br><b>Objective Value: 0.9483040046031498</b>",
          "Trial #71<br>algorithm: lasso<br>alpha: 0.00032387498231343473<br><b>Objective Value: 0.9502735478038954</b>",
          "Trial #72<br>algorithm: lasso<br>alpha: 0.00010020749752970585<br><b>Objective Value: 0.9496698612945007</b>",
          "Trial #73<br>algorithm: lasso<br>alpha: 0.0004902540297799311<br><b>Objective Value: 0.9499618729169731</b>",
          "Trial #74<br>algorithm: lasso<br>alpha: 0.0002969173890045437<br><b>Objective Value: 0.9502883231525254</b>",
          "Trial #75<br>algorithm: lasso<br>alpha: 0.00028454678060790855<br><b>Objective Value: 0.9502953233147071</b>",
          "Trial #76<br>algorithm: ridge<br>alpha: 0.00016771658897848712<br><b>Objective Value: 0.9458050864155652</b>",
          "Trial #77<br>algorithm: lasso<br>alpha: 0.000578084982033051<br><b>Objective Value: 0.9497137160696887</b>",
          "Trial #78<br>algorithm: lasso<br>alpha: 0.0002650869138932816<br><b>Objective Value: 0.9502815924227817</b>",
          "Trial #79<br>algorithm: lasso<br>alpha: 0.0001529524006218151<br><b>Objective Value: 0.9499926313562599</b>",
          "Trial #80<br>algorithm: lasso<br>alpha: 0.0009624329368942344<br><b>Objective Value: 0.9481827933626569</b>",
          "Trial #81<br>algorithm: lasso<br>alpha: 0.00025615699836524443<br><b>Objective Value: 0.9502672109276192</b>",
          "Trial #82<br>algorithm: lasso<br>alpha: 0.0002775282989311552<br><b>Objective Value: 0.9502963988384143</b>",
          "Trial #83<br>algorithm: lasso<br>alpha: 0.001863957343085763<br><b>Objective Value: 0.9439723885844347</b>",
          "Trial #84<br>algorithm: lasso<br>alpha: 0.0005977110689793054<br><b>Objective Value: 0.9496589312348584</b>",
          "Trial #85<br>algorithm: lasso<br>alpha: 0.0002265048002483477<br><b>Objective Value: 0.9502098986541375</b>",
          "Trial #87<br>algorithm: lasso<br>alpha: 0.00014044844521037702<br><b>Objective Value: 0.9499303692169431</b>",
          "Trial #88<br>algorithm: ridge<br>alpha: 0.00043999444012187577<br><b>Objective Value: 0.9458062548545307</b>",
          "Trial #89<br>algorithm: lasso<br>alpha: 0.0011161328813483<br><b>Objective Value: 0.9476084501766951</b>",
          "Trial #90<br>algorithm: lasso<br>alpha: 0.00028182509069933046<br><b>Objective Value: 0.9502964822130379</b>",
          "Trial #91<br>algorithm: lasso<br>alpha: 0.00021910412365379805<br><b>Objective Value: 0.9501962444593653</b>",
          "Trial #92<br>algorithm: lasso<br>alpha: 0.00028892319193558495<br><b>Objective Value: 0.9502926907956504</b>",
          "Trial #93<br>algorithm: lasso<br>alpha: 0.00012601304274520566<br><b>Objective Value: 0.9498802105550059</b>",
          "Trial #94<br>algorithm: lasso<br>alpha: 0.0006867677082010171<br><b>Objective Value: 0.9493494195943446</b>",
          "Trial #95<br>algorithm: lasso<br>alpha: 0.10617565798782047<br><b>Objective Value: 0.6948625509417926</b>",
          "Trial #96<br>algorithm: lasso<br>alpha: 0.00026874245328880713<br><b>Objective Value: 0.9502862831182425</b>",
          "Trial #97<br>algorithm: lasso<br>alpha: 0.0001942292553580477<br><b>Objective Value: 0.9501449871277803</b>",
          "Trial #98<br>algorithm: lasso<br>alpha: 0.0004343961432539565<br><b>Objective Value: 0.9500888877970954</b>",
          "Trial #99<br>algorithm: lasso<br>alpha: 0.0002822324255457903<br><b>Objective Value: 0.9502964373402069</b>",
          "Trial #100<br>algorithm: lasso<br>alpha: 0.00010067470572454919<br><b>Objective Value: 0.9496753512755902</b>",
          "Trial #101<br>algorithm: lasso<br>alpha: 0.00024337137393535218<br><b>Objective Value: 0.9502449512569566</b>",
          "Trial #102<br>algorithm: lasso<br>alpha: 0.0002840324973679434<br><b>Objective Value: 0.9502955909186339</b>",
          "Trial #103<br>algorithm: lasso<br>alpha: 0.0004429356786116208<br><b>Objective Value: 0.9500715177401252</b>",
          "Trial #104<br>algorithm: lasso<br>alpha: 0.0006852289007676667<br><b>Objective Value: 0.9493553150559639</b>",
          "Trial #105<br>algorithm: lasso<br>alpha: 0.00016777305469109388<br><b>Objective Value: 0.9500636883309272</b>",
          "Trial #106<br>algorithm: lasso<br>alpha: 2.718674441824922<br><b>Objective Value: -0.029441307066881618</b>",
          "Trial #108<br>algorithm: lasso<br>alpha: 0.000290966147484301<br><b>Objective Value: 0.9502914624491947</b>",
          "Trial #109<br>algorithm: lasso<br>alpha: 0.0008154095304730813<br><b>Objective Value: 0.9487796957195679</b>",
          "Trial #110<br>algorithm: ridge<br>alpha: 0.00037199925344242533<br><b>Objective Value: 0.9458059631669112</b>",
          "Trial #111<br>algorithm: lasso<br>alpha: 0.0002628523102139585<br><b>Objective Value: 0.9502778163259922</b>",
          "Trial #112<br>algorithm: lasso<br>alpha: 0.0003044538444315895<br><b>Objective Value: 0.9502836280725976</b>",
          "Trial #113<br>algorithm: lasso<br>alpha: 0.0001869134239066806<br><b>Objective Value: 0.9501260316720657</b>",
          "Trial #114<br>algorithm: lasso<br>alpha: 0.0005452808403101624<br><b>Objective Value: 0.9498013443197497</b>",
          "Trial #115<br>algorithm: lasso<br>alpha: 0.0003030787208159202<br><b>Objective Value: 0.9502845562820639</b>",
          "Trial #116<br>algorithm: lasso<br>alpha: 0.0003421151990867715<br><b>Objective Value: 0.9502582588235127</b>",
          "Trial #117<br>algorithm: lasso<br>alpha: 0.00013966170638581<br><b>Objective Value: 0.9499275892013603</b>",
          "Trial #118<br>algorithm: lasso<br>alpha: 0.0017689970679156401<br><b>Objective Value: 0.9442351128117648</b>",
          "Trial #119<br>algorithm: lasso<br>alpha: 0.0004857680768819713<br><b>Objective Value: 0.9499741667505186</b>",
          "Trial #120<br>algorithm: lasso<br>alpha: 0.00019366385317210036<br><b>Objective Value: 0.9501437506612426</b>",
          "Trial #121<br>algorithm: lasso<br>alpha: 0.00029322512255107095<br><b>Objective Value: 0.9502898226246657</b>",
          "Trial #122<br>algorithm: lasso<br>alpha: 0.0003937165488046054<br><b>Objective Value: 0.950172458965406</b>",
          "Trial #123<br>algorithm: lasso<br>alpha: 0.00012651680490057297<br><b>Objective Value: 0.9498818867954568</b>",
          "Trial #124<br>algorithm: lasso<br>alpha: 0.00032284555737474547<br><b>Objective Value: 0.9502742213840186</b>",
          "Trial #125<br>algorithm: lasso<br>alpha: 0.0010093248243163574<br><b>Objective Value: 0.948010230424984</b>",
          "Trial #126<br>algorithm: lasso<br>alpha: 0.0006538962082803727<br><b>Objective Value: 0.9494725800498989</b>",
          "Trial #127<br>algorithm: lasso<br>alpha: 0.0002701530338719892<br><b>Objective Value: 0.9502881420877998</b>",
          "Trial #128<br>algorithm: lasso<br>alpha: 0.00018822987713131288<br><b>Objective Value: 0.9501299921214527</b>",
          "Trial #130<br>algorithm: lasso<br>alpha: 0.0005025161860693752<br><b>Objective Value: 0.9499275651962751</b>",
          "Trial #131<br>algorithm: lasso<br>alpha: 0.00030121839415697064<br><b>Objective Value: 0.9502859312054707</b>",
          "Trial #132<br>algorithm: lasso<br>alpha: 0.02760617308212424<br><b>Objective Value: 0.9090691608791975</b>",
          "Trial #133<br>algorithm: lasso<br>alpha: 0.0002755064260576385<br><b>Objective Value: 0.9502947964782023</b>",
          "Trial #134<br>algorithm: lasso<br>alpha: 0.00022243048023622906<br><b>Objective Value: 0.9502028187641546</b>",
          "Trial #135<br>algorithm: lasso<br>alpha: 0.00014320019113867708<br><b>Objective Value: 0.9499426420022609</b>",
          "Trial #136<br>algorithm: lasso<br>alpha: 0.00026866592038427895<br><b>Objective Value: 0.9502861840712985</b>",
          "Trial #137<br>algorithm: ridge<br>alpha: 0.0004309633494336917<br><b>Objective Value: 0.9458062161166941</b>",
          "Trial #138<br>algorithm: lasso<br>alpha: 0.00081294913853769<br><b>Objective Value: 0.9487904462388294</b>",
          "Trial #139<br>algorithm: lasso<br>alpha: 0.00020297584486418416<br><b>Objective Value: 0.9501620529377204</b>",
          "Trial #140<br>algorithm: lasso<br>alpha: 0.00012195713425037956<br><b>Objective Value: 0.9498618400883064</b>",
          "Trial #141<br>algorithm: lasso<br>alpha: 0.00025467710128659193<br><b>Objective Value: 0.9502649728528159</b>",
          "Trial #142<br>algorithm: lasso<br>alpha: 0.0003902292801053442<br><b>Objective Value: 0.9501802467301577</b>",
          "Trial #143<br>algorithm: lasso<br>alpha: 0.0005961379839180346<br><b>Objective Value: 0.9496636404874943</b>",
          "Trial #144<br>algorithm: lasso<br>alpha: 0.00025983379644265125<br><b>Objective Value: 0.9502726100328387</b>",
          "Trial #145<br>algorithm: lasso<br>alpha: 0.0001656791803098643<br><b>Objective Value: 0.9500547936860226</b>",
          "Trial #146<br>algorithm: lasso<br>alpha: 0.00029660077744154305<br><b>Objective Value: 0.9502884518718631</b>",
          "Trial #147<br>algorithm: lasso<br>alpha: 0.0004216013518661878<br><b>Objective Value: 0.9501140127607505</b>",
          "Trial #148<br>algorithm: lasso<br>alpha: 0.00019191268560575942<br><b>Objective Value: 0.9501396727282296</b>",
          "Trial #149<br>algorithm: lasso<br>alpha: 0.0005355609370130905<br><b>Objective Value: 0.949827142011346</b>",
          "Trial #150<br>algorithm: lasso<br>alpha: 0.7480710218510542<br><b>Objective Value: -0.029441307066881618</b>",
          "Trial #151<br>algorithm: lasso<br>alpha: 0.0002955668852217581<br><b>Objective Value: 0.950288785652028</b>",
          "Trial #152<br>algorithm: lasso<br>alpha: 0.0003179394162049563<br><b>Objective Value: 0.9502777437745561</b>",
          "Trial #153<br>algorithm: lasso<br>alpha: 0.0002572094482719987<br><b>Objective Value: 0.9502688139102728</b>",
          "Trial #154<br>algorithm: lasso<br>alpha: 0.00010234247253002118<br><b>Objective Value: 0.9496937107517626</b>",
          "Trial #155<br>algorithm: lasso<br>alpha: 0.00014965779743293767<br><b>Objective Value: 0.9499777480519768</b>",
          "Trial #156<br>algorithm: lasso<br>alpha: 0.00037700816190696225<br><b>Objective Value: 0.9502093537893714</b>",
          "Trial #158<br>algorithm: lasso<br>alpha: 0.0002121806487450387<br><b>Objective Value: 0.9501804859699942</b>",
          "Trial #159<br>algorithm: lasso<br>alpha: 0.0006328223055577282<br><b>Objective Value: 0.9495460997714975</b>",
          "Trial #160<br>algorithm: lasso<br>alpha: 0.00027951955384252825<br><b>Objective Value: 0.9502968446519408</b>",
          "Trial #161<br>algorithm: lasso<br>alpha: 0.0002939250037567679<br><b>Objective Value: 0.9502895965361698</b>",
          "Trial #162<br>algorithm: lasso<br>alpha: 0.00037385749754682466<br><b>Objective Value: 0.95021458199043</b>",
          "Trial #163<br>algorithm: lasso<br>alpha: 0.00046763996206561896<br><b>Objective Value: 0.9500186429126172</b>",
          "Trial #164<br>algorithm: lasso<br>alpha: 0.00017255223505524656<br><b>Objective Value: 0.9500779176060921</b>",
          "Trial #165<br>algorithm: lasso<br>alpha: 0.00026100557304665855<br><b>Objective Value: 0.9502745077404082</b>",
          "Trial #166<br>algorithm: ridge<br>alpha: 0.0003300537053842424<br><b>Objective Value: 0.9458057831934419</b>",
          "Trial #167<br>algorithm: lasso<br>alpha: 0.00021752221770842542<br><b>Objective Value: 0.9501930573225469</b>",
          "Trial #168<br>algorithm: lasso<br>alpha: 0.057297280198522024<br><b>Objective Value: 0.8389773364681945</b>",
          "Trial #169<br>algorithm: lasso<br>alpha: 0.0007982176804455926<br><b>Objective Value: 0.9488545491630855</b>",
          "Trial #170<br>algorithm: lasso<br>alpha: 0.008770629968123052<br><b>Objective Value: 0.9377778075045207</b>",
          "Trial #171<br>algorithm: lasso<br>alpha: 0.00026809135112437695<br><b>Objective Value: 0.9502854685127481</b>",
          "Trial #172<br>algorithm: lasso<br>alpha: 0.0003039866798920512<br><b>Objective Value: 0.9502839077510391</b>",
          "Trial #173<br>algorithm: lasso<br>alpha: 0.0001518658124315147<br><b>Objective Value: 0.9499869011042194</b>",
          "Trial #174<br>algorithm: lasso<br>alpha: 0.00046511836448988027<br><b>Objective Value: 0.9500245932051371</b>",
          "Trial #175<br>algorithm: lasso<br>alpha: 0.24295422841672976<br><b>Objective Value: 0.1865437329165439</b>",
          "Trial #176<br>algorithm: lasso<br>alpha: 0.00020070103964358482<br><b>Objective Value: 0.9501583632314036</b>",
          "Trial #177<br>algorithm: lasso<br>alpha: 0.0003836683208844992<br><b>Objective Value: 0.9501960247006522</b>",
          "Trial #178<br>algorithm: lasso<br>alpha: 0.0005881628083156323<br><b>Objective Value: 0.9496864576714318</b>",
          "Trial #179<br>algorithm: lasso<br>alpha: 0.00026630194727719005<br><b>Objective Value: 0.9502833222098073</b>",
          "Trial #180<br>algorithm: lasso<br>alpha: 0.00014231728344635378<br><b>Objective Value: 0.9499385532941413</b>",
          "Trial #181<br>algorithm: lasso<br>alpha: 0.0003085933070370752<br><b>Objective Value: 0.9502810360158491</b>",
          "Trial #182<br>algorithm: lasso<br>alpha: 0.0003051142591493016<br><b>Objective Value: 0.9502831710262434</b>",
          "Trial #183<br>algorithm: lasso<br>alpha: 0.00021599941049405656<br><b>Objective Value: 0.9501898279809267</b>",
          "Trial #184<br>algorithm: lasso<br>alpha: 0.0004154625288227434<br><b>Objective Value: 0.9501258403921616</b>",
          "Trial #185<br>algorithm: lasso<br>alpha: 0.00018413932309184442<br><b>Objective Value: 0.9501172861556331</b>",
          "Trial #186<br>algorithm: lasso<br>alpha: 0.00029593987834829297<br><b>Objective Value: 0.950288642837411</b>",
          "Trial #187<br>algorithm: lasso<br>alpha: 0.0005140786592218493<br><b>Objective Value: 0.9498915102678985</b>",
          "Trial #189<br>algorithm: lasso<br>alpha: 0.00022947095032263697<br><b>Objective Value: 0.9502152651959875</b>",
          "Trial #190<br>algorithm: lasso<br>alpha: 0.0003771917449846884<br><b>Objective Value: 0.9502090690343031</b>",
          "Trial #191<br>algorithm: lasso<br>alpha: 0.0002628651681789406<br><b>Objective Value: 0.9502778394616301</b>",
          "Trial #192<br>algorithm: lasso<br>alpha: 0.00033338137422522654<br><b>Objective Value: 0.950266037079577</b>",
          "Trial #193<br>algorithm: lasso<br>alpha: 0.00017477919220651886<br><b>Objective Value: 0.9500845330420139</b>",
          "Trial #194<br>algorithm: lasso<br>alpha: 0.0002668231958810487<br><b>Objective Value: 0.9502840671126596</b>",
          "Trial #195<br>algorithm: lasso<br>alpha: 0.0005009178284093929<br><b>Objective Value: 0.9499323646692229</b>",
          "Trial #196<br>algorithm: lasso<br>alpha: 0.00012855378397921287<br><b>Objective Value: 0.9498876175942407</b>",
          "Trial #197<br>algorithm: lasso<br>alpha: 0.00034571676369411016<br><b>Objective Value: 0.950254088504817</b>",
          "Trial #198<br>algorithm: lasso<br>alpha: 0.00020514835456026157<br><b>Objective Value: 0.9501658812790701</b>",
          "Trial #199<br>algorithm: ridge<br>alpha: 0.00028929130728814323<br><b>Objective Value: 0.9458056082713616</b>"
         ],
         "marker": {
          "color": [
           "rgb(150.0, 200.0, 224.0)",
           "rgb(86.0, 137.0, 190.0)",
           "rgb(139.0, 191.0, 219.0)",
           "rgb(155.0, 204.0, 226.0)",
           "rgb(206.0, 234.0, 243.0)",
           "rgb(74.0, 123.0, 183.0)",
           "rgb(255.0, 240.0, 169.0)",
           "rgb(58.0, 82.0, 163.0)",
           "rgb(254.0, 226.0, 147.0)",
           "rgb(234.0, 247.0, 230.0)",
           "rgb(229.0, 245.0, 238.0)",
           "rgb(158.0, 207.0, 227.0)",
           "rgb(109.0, 165.0, 205.0)",
           "rgb(66.0, 108.0, 175.0)",
           "rgb(250.0, 152.0, 87.0)",
           "rgb(62.0, 95.0, 169.0)",
           "rgb(90.0, 143.0, 193.0)",
           "rgb(248.0, 136.0, 79.0)",
           "rgb(248.0, 139.0, 81.0)",
           "rgb(255.0, 253.0, 187.0)",
           "rgb(88.0, 140.0, 192.0)",
           "rgb(254.0, 239.0, 166.0)",
           "rgb(72.0, 120.0, 182.0)",
           "rgb(100.0, 154.0, 199.0)",
           "rgb(128.0, 182.0, 214.0)",
           "rgb(141.0, 193.0, 220.0)",
           "rgb(228.0, 244.0, 241.0)",
           "rgb(230.0, 79.0, 53.0)",
           "rgb(177.0, 220.0, 235.0)",
           "rgb(236.0, 91.0, 59.0)",
           "rgb(119.0, 176.0, 210.0)",
           "rgb(95.0, 148.0, 196.0)",
           "rgb(172.0, 217.0, 233.0)",
           "rgb(81.0, 131.0, 187.0)",
           "rgb(174.0, 219.0, 234.0)",
           "rgb(188.0, 225.0, 238.0)",
           "rgb(225.0, 70.0, 49.0)",
           "rgb(250.0, 149.0, 85.0)",
           "rgb(98.0, 151.0, 198.0)",
           "rgb(244.0, 110.0, 67.0)",
           "rgb(190.0, 227.0, 239.0)",
           "rgb(107.0, 162.0, 203.0)",
           "rgb(254.0, 229.0, 152.0)",
           "rgb(79.0, 129.0, 186.0)",
           "rgb(147.0, 198.0, 223.0)",
           "rgb(251.0, 162.0, 91.0)",
           "rgb(226.0, 244.0, 244.0)",
           "rgb(253.0, 177.0, 100.0)",
           "rgb(253.0, 187.0, 110.0)",
           "rgb(112.0, 168.0, 206.0)",
           "rgb(58.0, 82.0, 163.0)",
           "rgb(204.0, 233.0, 242.0)",
           "rgb(205.0, 39.0, 39.0)",
           "rgb(58.0, 82.0, 163.0)",
           "rgb(255.0, 242.0, 171.0)",
           "rgb(249.0, 146.0, 84.0)",
           "rgb(237.0, 94.0, 60.0)",
           "rgb(152.0, 202.0, 225.0)",
           "rgb(243.0, 250.0, 212.0)",
           "rgb(254.0, 255.0, 192.0)",
           "rgb(240.0, 100.0, 63.0)",
           "rgb(93.0, 145.0, 195.0)",
           "rgb(169.0, 215.0, 232.0)",
           "rgb(243.0, 107.0, 66.0)",
           "rgb(214.0, 238.0, 245.0)",
           "rgb(255.0, 254.0, 190.0)",
           "rgb(200.0, 34.0, 39.0)",
           "rgb(178.0, 12.0, 38.0)",
           "rgb(117.0, 173.0, 209.0)",
           "rgb(225.0, 243.0, 247.0)",
           "rgb(227.0, 73.0, 50.0)",
           "rgb(255.0, 246.0, 178.0)",
           "rgb(166.0, 213.0, 231.0)",
           "rgb(245.0, 119.0, 72.0)",
           "rgb(173.0, 7.0, 38.0)",
           "rgb(102.0, 157.0, 201.0)",
           "rgb(209.0, 236.0, 244.0)",
           "rgb(252.0, 165.0, 93.0)",
           "rgb(248.0, 252.0, 204.0)",
           "rgb(136.0, 189.0, 218.0)",
           "rgb(161.0, 209.0, 229.0)",
           "rgb(168.0, 2.0, 38.0)",
           "rgb(253.0, 180.0, 102.0)",
           "rgb(183.0, 17.0, 38.0)",
           "rgb(237.0, 248.0, 224.0)",
           "rgb(193.0, 228.0, 239.0)",
           "rgb(63.0, 98.0, 171.0)",
           "rgb(208.0, 41.0, 39.0)",
           "rgb(254.0, 207.0, 128.0)",
           "rgb(254.0, 228.0, 150.0)",
           "rgb(170.0, 5.0, 38.0)",
           "rgb(217.0, 240.0, 246.0)",
           "rgb(249.0, 142.0, 82.0)",
           "rgb(175.0, 10.0, 38.0)",
           "rgb(254.0, 234.0, 159.0)",
           "rgb(196.0, 229.0, 240.0)",
           "rgb(254.0, 236.0, 161.0)",
           "rgb(58.0, 82.0, 163.0)",
           "rgb(185.0, 19.0, 38.0)",
           "rgb(180.0, 221.0, 235.0)",
           "rgb(130.0, 184.0, 215.0)",
           "rgb(233.0, 85.0, 56.0)",
           "rgb(221.0, 61.0, 45.0)",
           "rgb(254.0, 217.0, 138.0)",
           "rgb(231.0, 246.0, 235.0)",
           "rgb(217.0, 51.0, 41.0)",
           "rgb(247.0, 129.0, 76.0)",
           "rgb(246.0, 252.0, 207.0)",
           "rgb(105.0, 159.0, 202.0)",
           "rgb(255.0, 251.0, 185.0)",
           "rgb(254.0, 210.0, 131.0)",
           "rgb(188.0, 22.0, 38.0)",
           "rgb(253.0, 197.0, 119.0)",
           "rgb(239.0, 249.0, 221.0)",
           "rgb(241.0, 103.0, 64.0)",
           "rgb(164.0, 211.0, 230.0)",
           "rgb(198.0, 230.0, 241.0)",
           "rgb(203.0, 36.0, 39.0)",
           "rgb(254.0, 215.0, 135.0)",
           "rgb(245.0, 251.0, 210.0)",
           "rgb(213.0, 46.0, 39.0)",
           "rgb(68.0, 114.0, 179.0)",
           "rgb(180.0, 14.0, 38.0)",
           "rgb(253.0, 175.0, 98.0)",
           "rgb(253.0, 254.0, 195.0)",
           "rgb(210.0, 43.0, 39.0)",
           "rgb(133.0, 187.0, 216.0)",
           "rgb(182.0, 223.0, 236.0)",
           "rgb(254.0, 202.0, 124.0)",
           "rgb(236.0, 247.0, 227.0)",
           "rgb(246.0, 126.0, 75.0)",
           "rgb(253.0, 195.0, 117.0)",
           "rgb(212.0, 237.0, 245.0)",
           "rgb(245.0, 113.0, 69.0)",
           "rgb(254.0, 237.0, 164.0)",
           "rgb(198.0, 31.0, 39.0)",
           "rgb(254.0, 225.0, 145.0)",
           "rgb(254.0, 212.0, 133.0)",
           "rgb(232.0, 246.0, 233.0)",
           "rgb(58.0, 82.0, 163.0)",
           "rgb(193.0, 27.0, 39.0)",
           "rgb(234.0, 88.0, 57.0)",
           "rgb(245.0, 116.0, 70.0)",
           "rgb(222.0, 242.0, 248.0)",
           "rgb(255.0, 250.0, 183.0)",
           "rgb(252.0, 168.0, 94.0)",
           "rgb(253.0, 192.0, 114.0)",
           "rgb(201.0, 232.0, 242.0)",
           "rgb(165.0, 0.0, 38.0)",
           "rgb(190.0, 24.0, 39.0)",
           "rgb(251.0, 159.0, 90.0)",
           "rgb(255.0, 245.0, 176.0)",
           "rgb(254.0, 232.0, 157.0)",
           "rgb(238.0, 97.0, 62.0)",
           "rgb(125.0, 180.0, 213.0)",
           "rgb(253.0, 185.0, 107.0)",
           "rgb(64.0, 101.0, 172.0)",
           "rgb(185.0, 224.0, 237.0)",
           "rgb(83.0, 134.0, 189.0)",
           "rgb(215.0, 48.0, 39.0)",
           "rgb(220.0, 58.0, 43.0)",
           "rgb(255.0, 248.0, 180.0)",
           "rgb(255.0, 243.0, 173.0)",
           "rgb(61.0, 92.0, 168.0)",
           "rgb(254.0, 205.0, 126.0)",
           "rgb(253.0, 182.0, 105.0)",
           "rgb(220.0, 241.0, 247.0)",
           "rgb(222.0, 64.0, 46.0)",
           "rgb(251.0, 253.0, 198.0)",
           "rgb(228.0, 76.0, 52.0)",
           "rgb(224.0, 67.0, 48.0)",
           "rgb(253.0, 190.0, 112.0)",
           "rgb(254.0, 220.0, 140.0)",
           "rgb(254.0, 222.0, 143.0)",
           "rgb(195.0, 29.0, 39.0)",
           "rgb(242.0, 250.0, 215.0)",
           "rgb(250.0, 155.0, 88.0)",
           "rgb(253.0, 172.0, 96.0)",
           "rgb(231.0, 82.0, 55.0)",
           "rgb(246.0, 123.0, 73.0)",
           "rgb(254.0, 231.0, 154.0)",
           "rgb(218.0, 54.0, 42.0)",
           "rgb(250.0, 253.0, 201.0)",
           "rgb(240.0, 249.0, 218.0)",
           "rgb(247.0, 133.0, 78.0)",
           "rgb(254.0, 200.0, 121.0)",
           "rgb(122.0, 178.0, 212.0)"
          ],
          "line": {
           "color": "Grey",
           "width": 0.5
          }
         },
         "mode": "markers",
         "showlegend": false,
         "type": "scatter",
         "x": [
          "ridge",
          "lasso",
          "ridge",
          "ridge",
          "ridge",
          "lasso",
          "lasso",
          "lasso",
          "lasso",
          "lasso",
          "lasso",
          "lasso",
          "lasso",
          "lasso",
          "lasso",
          "lasso",
          "lasso",
          "lasso",
          "lasso",
          "lasso",
          "lasso",
          "lasso",
          "lasso",
          "lasso",
          "ridge",
          "ridge",
          "lasso",
          "lasso",
          "lasso",
          "lasso",
          "ridge",
          "lasso",
          "lasso",
          "lasso",
          "ridge",
          "lasso",
          "lasso",
          "lasso",
          "lasso",
          "lasso",
          "lasso",
          "lasso",
          "lasso",
          "lasso",
          "ridge",
          "lasso",
          "lasso",
          "lasso",
          "lasso",
          "lasso",
          "lasso",
          "lasso",
          "lasso",
          "lasso",
          "lasso",
          "lasso",
          "lasso",
          "lasso",
          "lasso",
          "lasso",
          "lasso",
          "lasso",
          "lasso",
          "lasso",
          "lasso",
          "lasso",
          "lasso",
          "lasso",
          "ridge",
          "lasso",
          "lasso",
          "lasso",
          "lasso",
          "lasso",
          "lasso",
          "lasso",
          "lasso",
          "lasso",
          "lasso",
          "ridge",
          "lasso",
          "lasso",
          "lasso",
          "lasso",
          "lasso",
          "lasso",
          "lasso",
          "lasso",
          "lasso",
          "lasso",
          "lasso",
          "lasso",
          "lasso",
          "lasso",
          "lasso",
          "lasso",
          "lasso",
          "lasso",
          "lasso",
          "lasso",
          "ridge",
          "lasso",
          "lasso",
          "lasso",
          "lasso",
          "lasso",
          "lasso",
          "lasso",
          "lasso",
          "lasso",
          "lasso",
          "lasso",
          "lasso",
          "lasso",
          "lasso",
          "lasso",
          "lasso",
          "lasso",
          "lasso",
          "lasso",
          "lasso",
          "lasso",
          "lasso",
          "lasso",
          "lasso",
          "lasso",
          "ridge",
          "lasso",
          "lasso",
          "lasso",
          "lasso",
          "lasso",
          "lasso",
          "lasso",
          "lasso",
          "lasso",
          "lasso",
          "lasso",
          "lasso",
          "lasso",
          "lasso",
          "lasso",
          "lasso",
          "lasso",
          "lasso",
          "lasso",
          "lasso",
          "lasso",
          "lasso",
          "lasso",
          "lasso",
          "lasso",
          "lasso",
          "lasso",
          "ridge",
          "lasso",
          "lasso",
          "lasso",
          "lasso",
          "lasso",
          "lasso",
          "lasso",
          "lasso",
          "lasso",
          "lasso",
          "lasso",
          "lasso",
          "lasso",
          "lasso",
          "lasso",
          "lasso",
          "lasso",
          "lasso",
          "lasso",
          "lasso",
          "lasso",
          "lasso",
          "lasso",
          "lasso",
          "lasso",
          "lasso",
          "lasso",
          "lasso",
          "lasso",
          "lasso",
          "lasso",
          "ridge"
         ],
         "xaxis": "x8",
         "y": [
          0.6010505222092465,
          0.006162467158491157,
          0.001244729405956262,
          0.7759373016028097,
          31.29323725185007,
          0.016555231662187374,
          0.0004582749531777171,
          5.534750298353362,
          0.00017637287605472746,
          0.00011995197253262029,
          0.00011207889164253218,
          0.0011740965051880814,
          0.0015503076984355424,
          0.03649585335839899,
          0.0003726843301350919,
          0.20023362384311136,
          0.004216169019651566,
          0.00034608379326552273,
          0.00024482064135119533,
          0.000487776516858514,
          0.005239588389351667,
          0.0004550420502021263,
          0.02091016333584503,
          0.002367137437004208,
          0.0003508193855269366,
          0.07419825096515736,
          0.0001098338559889162,
          0.00026399630354087886,
          0.0008472387752849562,
          0.0003204788571913823,
          0.00024230102105339654,
          0.002615056478718971,
          0.0008701193893983413,
          0.009343031672547655,
          3.0896988698846903,
          0.0007487749013093245,
          0.00026577767050225043,
          0.00023634827143863648,
          0.002427898969308335,
          0.000325062047327948,
          0.0007138085942687639,
          0.001600153468480079,
          0.0001752770246621694,
          0.009528470841126065,
          0.4966722669613841,
          0.00022775953671817198,
          0.00010612659023547114,
          0.0003830467672882016,
          0.00021627436540954526,
          0.001445853412310756,
          53.23092951617624,
          0.0006269662288422743,
          0.00029775083715590834,
          15.099326747885836,
          0.00016120434434155882,
          0.0003589828022351704,
          0.0003217979072940209,
          0.0011967427390884194,
          0.0005043219466697327,
          0.00014659589751746423,
          0.00032279050356379395,
          0.003229013154984103,
          0.0009304375157316136,
          0.00032387498231343473,
          0.00010020749752970585,
          0.0004902540297799311,
          0.0002969173890045437,
          0.00028454678060790855,
          0.00016771658897848712,
          0.000578084982033051,
          0.0002650869138932816,
          0.0001529524006218151,
          0.0009624329368942344,
          0.00025615699836524443,
          0.0002775282989311552,
          0.001863957343085763,
          0.0005977110689793054,
          0.0002265048002483477,
          0.00014044844521037702,
          0.00043999444012187577,
          0.0011161328813483,
          0.00028182509069933046,
          0.00021910412365379805,
          0.00028892319193558495,
          0.00012601304274520566,
          0.0006867677082010171,
          0.10617565798782047,
          0.00026874245328880713,
          0.0001942292553580477,
          0.0004343961432539565,
          0.0002822324255457903,
          0.00010067470572454919,
          0.00024337137393535218,
          0.0002840324973679434,
          0.0004429356786116208,
          0.0006852289007676667,
          0.00016777305469109388,
          2.718674441824922,
          0.000290966147484301,
          0.0008154095304730813,
          0.00037199925344242533,
          0.0002628523102139585,
          0.0003044538444315895,
          0.0001869134239066806,
          0.0005452808403101624,
          0.0003030787208159202,
          0.0003421151990867715,
          0.00013966170638581,
          0.0017689970679156401,
          0.0004857680768819713,
          0.00019366385317210036,
          0.00029322512255107095,
          0.0003937165488046054,
          0.00012651680490057297,
          0.00032284555737474547,
          0.0010093248243163574,
          0.0006538962082803727,
          0.0002701530338719892,
          0.00018822987713131288,
          0.0005025161860693752,
          0.00030121839415697064,
          0.02760617308212424,
          0.0002755064260576385,
          0.00022243048023622906,
          0.00014320019113867708,
          0.00026866592038427895,
          0.0004309633494336917,
          0.00081294913853769,
          0.00020297584486418416,
          0.00012195713425037956,
          0.00025467710128659193,
          0.0003902292801053442,
          0.0005961379839180346,
          0.00025983379644265125,
          0.0001656791803098643,
          0.00029660077744154305,
          0.0004216013518661878,
          0.00019191268560575942,
          0.0005355609370130905,
          0.7480710218510542,
          0.0002955668852217581,
          0.0003179394162049563,
          0.0002572094482719987,
          0.00010234247253002118,
          0.00014965779743293767,
          0.00037700816190696225,
          0.0002121806487450387,
          0.0006328223055577282,
          0.00027951955384252825,
          0.0002939250037567679,
          0.00037385749754682466,
          0.00046763996206561896,
          0.00017255223505524656,
          0.00026100557304665855,
          0.0003300537053842424,
          0.00021752221770842542,
          0.057297280198522024,
          0.0007982176804455926,
          0.008770629968123052,
          0.00026809135112437695,
          0.0003039866798920512,
          0.0001518658124315147,
          0.00046511836448988027,
          0.24295422841672976,
          0.00020070103964358482,
          0.0003836683208844992,
          0.0005881628083156323,
          0.00026630194727719005,
          0.00014231728344635378,
          0.0003085933070370752,
          0.0003051142591493016,
          0.00021599941049405656,
          0.0004154625288227434,
          0.00018413932309184442,
          0.00029593987834829297,
          0.0005140786592218493,
          0.00022947095032263697,
          0.0003771917449846884,
          0.0002628651681789406,
          0.00033338137422522654,
          0.00017477919220651886,
          0.0002668231958810487,
          0.0005009178284093929,
          0.00012855378397921287,
          0.00034571676369411016,
          0.00020514835456026157,
          0.00028929130728814323
         ],
         "yaxis": "y8"
        },
        {
         "hovertemplate": "%{hovertext}<extra></extra>",
         "hovertext": [
          "Trial #8<br>algorithm: xgb<br>learning_rate: 0.0016114400564732941<br>max_depth: 10<br>subsample: 0.8558105105039219<br>colsample_bytree: 0.2965777047582458<br>min_child_weight: 9<br><b>Objective Value: -5.373464236107701</b>",
          "Trial #10<br>algorithm: xgb<br>learning_rate: 0.07748571364848593<br>max_depth: 1<br>subsample: 0.1081539403017378<br>colsample_bytree: 0.8774623283402829<br>min_child_weight: 20<br><b>Objective Value: 0.9057358214629305</b>",
          "Trial #16<br>algorithm: xgb<br>learning_rate: 0.0001093221261079389<br>max_depth: 6<br>subsample: 0.9975559933333737<br>colsample_bytree: 0.08773403630454318<br>min_child_weight: 1<br><b>Objective Value: -6.669394335705886</b>",
          "Trial #19<br>algorithm: xgb<br>learning_rate: 0.08019600545172129<br>max_depth: 1<br>subsample: 0.06393922828854465<br>colsample_bytree: 0.9630028278354485<br>min_child_weight: 20<br><b>Objective Value: 0.8811693917915496</b>",
          "Trial #29<br>algorithm: xgb<br>learning_rate: 0.0023166212634019153<br>max_depth: 10<br>subsample: 0.5235492940540687<br>colsample_bytree: 0.6157251098470551<br>min_child_weight: 10<br><b>Objective Value: -2.8957501035877273</b>",
          "Trial #47<br>algorithm: xgb<br>learning_rate: 0.00011521087399364599<br>max_depth: 6<br>subsample: 0.5277084716528383<br>colsample_bytree: 0.5662117236927399<br>min_child_weight: 1<br><b>Objective Value: -6.669368157650402</b>",
          "Trial #57<br>algorithm: xgb<br>learning_rate: 0.011236477438678406<br>max_depth: 4<br>subsample: 0.41151468106452377<br>colsample_bytree: 0.330480957357973<br>min_child_weight: 15<br><b>Objective Value: 0.9362219094296959</b>",
          "Trial #67<br>algorithm: xgb<br>learning_rate: 0.0005787891082612613<br>max_depth: 3<br>subsample: 0.7512158659814847<br>colsample_bytree: 0.7802016742983691<br>min_child_weight: 5<br><b>Objective Value: -6.649379579649593</b>",
          "Trial #86<br>algorithm: xgb<br>learning_rate: 0.01240560912844289<br>max_depth: 8<br>subsample: 0.2704974479544986<br>colsample_bytree: 0.061997530866703454<br>min_child_weight: 15<br><b>Objective Value: 0.9113729713455464</b>",
          "Trial #107<br>algorithm: xgb<br>learning_rate: 0.010250741887711978<br>max_depth: 8<br>subsample: 0.699136270124052<br>colsample_bytree: 0.34676345983827406<br>min_child_weight: 6<br><b>Objective Value: 0.9456992597139712</b>",
          "Trial #129<br>algorithm: xgb<br>learning_rate: 0.00037758996511927124<br>max_depth: 3<br>subsample: 0.2213408681389885<br>colsample_bytree: 0.7364584373058741<br>min_child_weight: 15<br><b>Objective Value: -6.665047997522985</b>",
          "Trial #157<br>algorithm: xgb<br>learning_rate: 0.000484744276997372<br>max_depth: 8<br>subsample: 0.9855479934166286<br>colsample_bytree: 0.4680410649317334<br>min_child_weight: 5<br><b>Objective Value: -6.658982618518887</b>",
          "Trial #188<br>algorithm: xgb<br>learning_rate: 0.022432477519196928<br>max_depth: 5<br>subsample: 0.5819591447885447<br>colsample_bytree: 0.1949715272549276<br>min_child_weight: 13<br><b>Objective Value: 0.9467614990364478</b>"
         ],
         "marker": {
          "color": [
           "rgb(54.0, 70.0, 157.0)",
           "rgb(67.0, 111.0, 177.0)",
           "rgb(49.0, 54.0, 149.0)",
           "rgb(65.0, 105.0, 174.0)",
           "rgb(55.0, 73.0, 158.0)",
           "rgb(50.0, 57.0, 151.0)",
           "rgb(76.0, 126.0, 185.0)",
           "rgb(53.0, 67.0, 155.0)",
           "rgb(69.0, 117.0, 180.0)",
           "rgb(114.0, 171.0, 208.0)",
           "rgb(51.0, 60.0, 152.0)",
           "rgb(52.0, 63.0, 154.0)",
           "rgb(144.0, 196.0, 221.0)"
          ],
          "line": {
           "color": "Grey",
           "width": 0.5
          }
         },
         "mode": "markers",
         "showlegend": false,
         "type": "scatter",
         "x": [
          "xgb",
          "xgb",
          "xgb",
          "xgb",
          "xgb",
          "xgb",
          "xgb",
          "xgb",
          "xgb",
          "xgb",
          "xgb",
          "xgb",
          "xgb"
         ],
         "xaxis": "x15",
         "y": [
          0.2965777047582458,
          0.8774623283402829,
          0.08773403630454318,
          0.9630028278354485,
          0.6157251098470551,
          0.5662117236927399,
          0.330480957357973,
          0.7802016742983691,
          0.061997530866703454,
          0.34676345983827406,
          0.7364584373058741,
          0.4680410649317334,
          0.1949715272549276
         ],
         "yaxis": "y15"
        },
        {
         "hovertemplate": "%{hovertext}<extra></extra>",
         "hovertext": [
          "Trial #8<br>algorithm: xgb<br>learning_rate: 0.0016114400564732941<br>max_depth: 10<br>subsample: 0.8558105105039219<br>colsample_bytree: 0.2965777047582458<br>min_child_weight: 9<br><b>Objective Value: -5.373464236107701</b>",
          "Trial #10<br>algorithm: xgb<br>learning_rate: 0.07748571364848593<br>max_depth: 1<br>subsample: 0.1081539403017378<br>colsample_bytree: 0.8774623283402829<br>min_child_weight: 20<br><b>Objective Value: 0.9057358214629305</b>",
          "Trial #16<br>algorithm: xgb<br>learning_rate: 0.0001093221261079389<br>max_depth: 6<br>subsample: 0.9975559933333737<br>colsample_bytree: 0.08773403630454318<br>min_child_weight: 1<br><b>Objective Value: -6.669394335705886</b>",
          "Trial #19<br>algorithm: xgb<br>learning_rate: 0.08019600545172129<br>max_depth: 1<br>subsample: 0.06393922828854465<br>colsample_bytree: 0.9630028278354485<br>min_child_weight: 20<br><b>Objective Value: 0.8811693917915496</b>",
          "Trial #29<br>algorithm: xgb<br>learning_rate: 0.0023166212634019153<br>max_depth: 10<br>subsample: 0.5235492940540687<br>colsample_bytree: 0.6157251098470551<br>min_child_weight: 10<br><b>Objective Value: -2.8957501035877273</b>",
          "Trial #47<br>algorithm: xgb<br>learning_rate: 0.00011521087399364599<br>max_depth: 6<br>subsample: 0.5277084716528383<br>colsample_bytree: 0.5662117236927399<br>min_child_weight: 1<br><b>Objective Value: -6.669368157650402</b>",
          "Trial #57<br>algorithm: xgb<br>learning_rate: 0.011236477438678406<br>max_depth: 4<br>subsample: 0.41151468106452377<br>colsample_bytree: 0.330480957357973<br>min_child_weight: 15<br><b>Objective Value: 0.9362219094296959</b>",
          "Trial #67<br>algorithm: xgb<br>learning_rate: 0.0005787891082612613<br>max_depth: 3<br>subsample: 0.7512158659814847<br>colsample_bytree: 0.7802016742983691<br>min_child_weight: 5<br><b>Objective Value: -6.649379579649593</b>",
          "Trial #86<br>algorithm: xgb<br>learning_rate: 0.01240560912844289<br>max_depth: 8<br>subsample: 0.2704974479544986<br>colsample_bytree: 0.061997530866703454<br>min_child_weight: 15<br><b>Objective Value: 0.9113729713455464</b>",
          "Trial #107<br>algorithm: xgb<br>learning_rate: 0.010250741887711978<br>max_depth: 8<br>subsample: 0.699136270124052<br>colsample_bytree: 0.34676345983827406<br>min_child_weight: 6<br><b>Objective Value: 0.9456992597139712</b>",
          "Trial #129<br>algorithm: xgb<br>learning_rate: 0.00037758996511927124<br>max_depth: 3<br>subsample: 0.2213408681389885<br>colsample_bytree: 0.7364584373058741<br>min_child_weight: 15<br><b>Objective Value: -6.665047997522985</b>",
          "Trial #157<br>algorithm: xgb<br>learning_rate: 0.000484744276997372<br>max_depth: 8<br>subsample: 0.9855479934166286<br>colsample_bytree: 0.4680410649317334<br>min_child_weight: 5<br><b>Objective Value: -6.658982618518887</b>",
          "Trial #188<br>algorithm: xgb<br>learning_rate: 0.022432477519196928<br>max_depth: 5<br>subsample: 0.5819591447885447<br>colsample_bytree: 0.1949715272549276<br>min_child_weight: 13<br><b>Objective Value: 0.9467614990364478</b>"
         ],
         "marker": {
          "color": [
           "rgb(54.0, 70.0, 157.0)",
           "rgb(67.0, 111.0, 177.0)",
           "rgb(49.0, 54.0, 149.0)",
           "rgb(65.0, 105.0, 174.0)",
           "rgb(55.0, 73.0, 158.0)",
           "rgb(50.0, 57.0, 151.0)",
           "rgb(76.0, 126.0, 185.0)",
           "rgb(53.0, 67.0, 155.0)",
           "rgb(69.0, 117.0, 180.0)",
           "rgb(114.0, 171.0, 208.0)",
           "rgb(51.0, 60.0, 152.0)",
           "rgb(52.0, 63.0, 154.0)",
           "rgb(144.0, 196.0, 221.0)"
          ],
          "line": {
           "color": "Grey",
           "width": 0.5
          }
         },
         "mode": "markers",
         "showlegend": false,
         "type": "scatter",
         "x": [
          "xgb",
          "xgb",
          "xgb",
          "xgb",
          "xgb",
          "xgb",
          "xgb",
          "xgb",
          "xgb",
          "xgb",
          "xgb",
          "xgb",
          "xgb"
         ],
         "xaxis": "x22",
         "y": [
          0.0016114400564732941,
          0.07748571364848593,
          0.0001093221261079389,
          0.08019600545172129,
          0.0023166212634019153,
          0.00011521087399364599,
          0.011236477438678406,
          0.0005787891082612613,
          0.01240560912844289,
          0.010250741887711978,
          0.00037758996511927124,
          0.000484744276997372,
          0.022432477519196928
         ],
         "yaxis": "y22"
        },
        {
         "hovertemplate": "%{hovertext}<extra></extra>",
         "hovertext": [
          "Trial #8<br>algorithm: xgb<br>learning_rate: 0.0016114400564732941<br>max_depth: 10<br>subsample: 0.8558105105039219<br>colsample_bytree: 0.2965777047582458<br>min_child_weight: 9<br><b>Objective Value: -5.373464236107701</b>",
          "Trial #10<br>algorithm: xgb<br>learning_rate: 0.07748571364848593<br>max_depth: 1<br>subsample: 0.1081539403017378<br>colsample_bytree: 0.8774623283402829<br>min_child_weight: 20<br><b>Objective Value: 0.9057358214629305</b>",
          "Trial #16<br>algorithm: xgb<br>learning_rate: 0.0001093221261079389<br>max_depth: 6<br>subsample: 0.9975559933333737<br>colsample_bytree: 0.08773403630454318<br>min_child_weight: 1<br><b>Objective Value: -6.669394335705886</b>",
          "Trial #19<br>algorithm: xgb<br>learning_rate: 0.08019600545172129<br>max_depth: 1<br>subsample: 0.06393922828854465<br>colsample_bytree: 0.9630028278354485<br>min_child_weight: 20<br><b>Objective Value: 0.8811693917915496</b>",
          "Trial #29<br>algorithm: xgb<br>learning_rate: 0.0023166212634019153<br>max_depth: 10<br>subsample: 0.5235492940540687<br>colsample_bytree: 0.6157251098470551<br>min_child_weight: 10<br><b>Objective Value: -2.8957501035877273</b>",
          "Trial #47<br>algorithm: xgb<br>learning_rate: 0.00011521087399364599<br>max_depth: 6<br>subsample: 0.5277084716528383<br>colsample_bytree: 0.5662117236927399<br>min_child_weight: 1<br><b>Objective Value: -6.669368157650402</b>",
          "Trial #57<br>algorithm: xgb<br>learning_rate: 0.011236477438678406<br>max_depth: 4<br>subsample: 0.41151468106452377<br>colsample_bytree: 0.330480957357973<br>min_child_weight: 15<br><b>Objective Value: 0.9362219094296959</b>",
          "Trial #67<br>algorithm: xgb<br>learning_rate: 0.0005787891082612613<br>max_depth: 3<br>subsample: 0.7512158659814847<br>colsample_bytree: 0.7802016742983691<br>min_child_weight: 5<br><b>Objective Value: -6.649379579649593</b>",
          "Trial #86<br>algorithm: xgb<br>learning_rate: 0.01240560912844289<br>max_depth: 8<br>subsample: 0.2704974479544986<br>colsample_bytree: 0.061997530866703454<br>min_child_weight: 15<br><b>Objective Value: 0.9113729713455464</b>",
          "Trial #107<br>algorithm: xgb<br>learning_rate: 0.010250741887711978<br>max_depth: 8<br>subsample: 0.699136270124052<br>colsample_bytree: 0.34676345983827406<br>min_child_weight: 6<br><b>Objective Value: 0.9456992597139712</b>",
          "Trial #129<br>algorithm: xgb<br>learning_rate: 0.00037758996511927124<br>max_depth: 3<br>subsample: 0.2213408681389885<br>colsample_bytree: 0.7364584373058741<br>min_child_weight: 15<br><b>Objective Value: -6.665047997522985</b>",
          "Trial #157<br>algorithm: xgb<br>learning_rate: 0.000484744276997372<br>max_depth: 8<br>subsample: 0.9855479934166286<br>colsample_bytree: 0.4680410649317334<br>min_child_weight: 5<br><b>Objective Value: -6.658982618518887</b>",
          "Trial #188<br>algorithm: xgb<br>learning_rate: 0.022432477519196928<br>max_depth: 5<br>subsample: 0.5819591447885447<br>colsample_bytree: 0.1949715272549276<br>min_child_weight: 13<br><b>Objective Value: 0.9467614990364478</b>"
         ],
         "marker": {
          "color": [
           "rgb(54.0, 70.0, 157.0)",
           "rgb(67.0, 111.0, 177.0)",
           "rgb(49.0, 54.0, 149.0)",
           "rgb(65.0, 105.0, 174.0)",
           "rgb(55.0, 73.0, 158.0)",
           "rgb(50.0, 57.0, 151.0)",
           "rgb(76.0, 126.0, 185.0)",
           "rgb(53.0, 67.0, 155.0)",
           "rgb(69.0, 117.0, 180.0)",
           "rgb(114.0, 171.0, 208.0)",
           "rgb(51.0, 60.0, 152.0)",
           "rgb(52.0, 63.0, 154.0)",
           "rgb(144.0, 196.0, 221.0)"
          ],
          "line": {
           "color": "Grey",
           "width": 0.5
          }
         },
         "mode": "markers",
         "showlegend": false,
         "type": "scatter",
         "x": [
          "xgb",
          "xgb",
          "xgb",
          "xgb",
          "xgb",
          "xgb",
          "xgb",
          "xgb",
          "xgb",
          "xgb",
          "xgb",
          "xgb",
          "xgb"
         ],
         "xaxis": "x29",
         "y": [
          10,
          1,
          6,
          1,
          10,
          6,
          4,
          3,
          8,
          8,
          3,
          8,
          5
         ],
         "yaxis": "y29"
        },
        {
         "hovertemplate": "%{hovertext}<extra></extra>",
         "hovertext": [
          "Trial #8<br>algorithm: xgb<br>learning_rate: 0.0016114400564732941<br>max_depth: 10<br>subsample: 0.8558105105039219<br>colsample_bytree: 0.2965777047582458<br>min_child_weight: 9<br><b>Objective Value: -5.373464236107701</b>",
          "Trial #10<br>algorithm: xgb<br>learning_rate: 0.07748571364848593<br>max_depth: 1<br>subsample: 0.1081539403017378<br>colsample_bytree: 0.8774623283402829<br>min_child_weight: 20<br><b>Objective Value: 0.9057358214629305</b>",
          "Trial #16<br>algorithm: xgb<br>learning_rate: 0.0001093221261079389<br>max_depth: 6<br>subsample: 0.9975559933333737<br>colsample_bytree: 0.08773403630454318<br>min_child_weight: 1<br><b>Objective Value: -6.669394335705886</b>",
          "Trial #19<br>algorithm: xgb<br>learning_rate: 0.08019600545172129<br>max_depth: 1<br>subsample: 0.06393922828854465<br>colsample_bytree: 0.9630028278354485<br>min_child_weight: 20<br><b>Objective Value: 0.8811693917915496</b>",
          "Trial #29<br>algorithm: xgb<br>learning_rate: 0.0023166212634019153<br>max_depth: 10<br>subsample: 0.5235492940540687<br>colsample_bytree: 0.6157251098470551<br>min_child_weight: 10<br><b>Objective Value: -2.8957501035877273</b>",
          "Trial #47<br>algorithm: xgb<br>learning_rate: 0.00011521087399364599<br>max_depth: 6<br>subsample: 0.5277084716528383<br>colsample_bytree: 0.5662117236927399<br>min_child_weight: 1<br><b>Objective Value: -6.669368157650402</b>",
          "Trial #57<br>algorithm: xgb<br>learning_rate: 0.011236477438678406<br>max_depth: 4<br>subsample: 0.41151468106452377<br>colsample_bytree: 0.330480957357973<br>min_child_weight: 15<br><b>Objective Value: 0.9362219094296959</b>",
          "Trial #67<br>algorithm: xgb<br>learning_rate: 0.0005787891082612613<br>max_depth: 3<br>subsample: 0.7512158659814847<br>colsample_bytree: 0.7802016742983691<br>min_child_weight: 5<br><b>Objective Value: -6.649379579649593</b>",
          "Trial #86<br>algorithm: xgb<br>learning_rate: 0.01240560912844289<br>max_depth: 8<br>subsample: 0.2704974479544986<br>colsample_bytree: 0.061997530866703454<br>min_child_weight: 15<br><b>Objective Value: 0.9113729713455464</b>",
          "Trial #107<br>algorithm: xgb<br>learning_rate: 0.010250741887711978<br>max_depth: 8<br>subsample: 0.699136270124052<br>colsample_bytree: 0.34676345983827406<br>min_child_weight: 6<br><b>Objective Value: 0.9456992597139712</b>",
          "Trial #129<br>algorithm: xgb<br>learning_rate: 0.00037758996511927124<br>max_depth: 3<br>subsample: 0.2213408681389885<br>colsample_bytree: 0.7364584373058741<br>min_child_weight: 15<br><b>Objective Value: -6.665047997522985</b>",
          "Trial #157<br>algorithm: xgb<br>learning_rate: 0.000484744276997372<br>max_depth: 8<br>subsample: 0.9855479934166286<br>colsample_bytree: 0.4680410649317334<br>min_child_weight: 5<br><b>Objective Value: -6.658982618518887</b>",
          "Trial #188<br>algorithm: xgb<br>learning_rate: 0.022432477519196928<br>max_depth: 5<br>subsample: 0.5819591447885447<br>colsample_bytree: 0.1949715272549276<br>min_child_weight: 13<br><b>Objective Value: 0.9467614990364478</b>"
         ],
         "marker": {
          "color": [
           "rgb(54.0, 70.0, 157.0)",
           "rgb(67.0, 111.0, 177.0)",
           "rgb(49.0, 54.0, 149.0)",
           "rgb(65.0, 105.0, 174.0)",
           "rgb(55.0, 73.0, 158.0)",
           "rgb(50.0, 57.0, 151.0)",
           "rgb(76.0, 126.0, 185.0)",
           "rgb(53.0, 67.0, 155.0)",
           "rgb(69.0, 117.0, 180.0)",
           "rgb(114.0, 171.0, 208.0)",
           "rgb(51.0, 60.0, 152.0)",
           "rgb(52.0, 63.0, 154.0)",
           "rgb(144.0, 196.0, 221.0)"
          ],
          "line": {
           "color": "Grey",
           "width": 0.5
          }
         },
         "mode": "markers",
         "showlegend": false,
         "type": "scatter",
         "x": [
          "xgb",
          "xgb",
          "xgb",
          "xgb",
          "xgb",
          "xgb",
          "xgb",
          "xgb",
          "xgb",
          "xgb",
          "xgb",
          "xgb",
          "xgb"
         ],
         "xaxis": "x36",
         "y": [
          9,
          20,
          1,
          20,
          10,
          1,
          15,
          5,
          15,
          6,
          15,
          5,
          13
         ],
         "yaxis": "y36"
        },
        {
         "hovertemplate": "%{hovertext}<extra></extra>",
         "hovertext": [
          "Trial #8<br>algorithm: xgb<br>learning_rate: 0.0016114400564732941<br>max_depth: 10<br>subsample: 0.8558105105039219<br>colsample_bytree: 0.2965777047582458<br>min_child_weight: 9<br><b>Objective Value: -5.373464236107701</b>",
          "Trial #10<br>algorithm: xgb<br>learning_rate: 0.07748571364848593<br>max_depth: 1<br>subsample: 0.1081539403017378<br>colsample_bytree: 0.8774623283402829<br>min_child_weight: 20<br><b>Objective Value: 0.9057358214629305</b>",
          "Trial #16<br>algorithm: xgb<br>learning_rate: 0.0001093221261079389<br>max_depth: 6<br>subsample: 0.9975559933333737<br>colsample_bytree: 0.08773403630454318<br>min_child_weight: 1<br><b>Objective Value: -6.669394335705886</b>",
          "Trial #19<br>algorithm: xgb<br>learning_rate: 0.08019600545172129<br>max_depth: 1<br>subsample: 0.06393922828854465<br>colsample_bytree: 0.9630028278354485<br>min_child_weight: 20<br><b>Objective Value: 0.8811693917915496</b>",
          "Trial #29<br>algorithm: xgb<br>learning_rate: 0.0023166212634019153<br>max_depth: 10<br>subsample: 0.5235492940540687<br>colsample_bytree: 0.6157251098470551<br>min_child_weight: 10<br><b>Objective Value: -2.8957501035877273</b>",
          "Trial #47<br>algorithm: xgb<br>learning_rate: 0.00011521087399364599<br>max_depth: 6<br>subsample: 0.5277084716528383<br>colsample_bytree: 0.5662117236927399<br>min_child_weight: 1<br><b>Objective Value: -6.669368157650402</b>",
          "Trial #57<br>algorithm: xgb<br>learning_rate: 0.011236477438678406<br>max_depth: 4<br>subsample: 0.41151468106452377<br>colsample_bytree: 0.330480957357973<br>min_child_weight: 15<br><b>Objective Value: 0.9362219094296959</b>",
          "Trial #67<br>algorithm: xgb<br>learning_rate: 0.0005787891082612613<br>max_depth: 3<br>subsample: 0.7512158659814847<br>colsample_bytree: 0.7802016742983691<br>min_child_weight: 5<br><b>Objective Value: -6.649379579649593</b>",
          "Trial #86<br>algorithm: xgb<br>learning_rate: 0.01240560912844289<br>max_depth: 8<br>subsample: 0.2704974479544986<br>colsample_bytree: 0.061997530866703454<br>min_child_weight: 15<br><b>Objective Value: 0.9113729713455464</b>",
          "Trial #107<br>algorithm: xgb<br>learning_rate: 0.010250741887711978<br>max_depth: 8<br>subsample: 0.699136270124052<br>colsample_bytree: 0.34676345983827406<br>min_child_weight: 6<br><b>Objective Value: 0.9456992597139712</b>",
          "Trial #129<br>algorithm: xgb<br>learning_rate: 0.00037758996511927124<br>max_depth: 3<br>subsample: 0.2213408681389885<br>colsample_bytree: 0.7364584373058741<br>min_child_weight: 15<br><b>Objective Value: -6.665047997522985</b>",
          "Trial #157<br>algorithm: xgb<br>learning_rate: 0.000484744276997372<br>max_depth: 8<br>subsample: 0.9855479934166286<br>colsample_bytree: 0.4680410649317334<br>min_child_weight: 5<br><b>Objective Value: -6.658982618518887</b>",
          "Trial #188<br>algorithm: xgb<br>learning_rate: 0.022432477519196928<br>max_depth: 5<br>subsample: 0.5819591447885447<br>colsample_bytree: 0.1949715272549276<br>min_child_weight: 13<br><b>Objective Value: 0.9467614990364478</b>"
         ],
         "marker": {
          "color": [
           "rgb(54.0, 70.0, 157.0)",
           "rgb(67.0, 111.0, 177.0)",
           "rgb(49.0, 54.0, 149.0)",
           "rgb(65.0, 105.0, 174.0)",
           "rgb(55.0, 73.0, 158.0)",
           "rgb(50.0, 57.0, 151.0)",
           "rgb(76.0, 126.0, 185.0)",
           "rgb(53.0, 67.0, 155.0)",
           "rgb(69.0, 117.0, 180.0)",
           "rgb(114.0, 171.0, 208.0)",
           "rgb(51.0, 60.0, 152.0)",
           "rgb(52.0, 63.0, 154.0)",
           "rgb(144.0, 196.0, 221.0)"
          ],
          "line": {
           "color": "Grey",
           "width": 0.5
          }
         },
         "mode": "markers",
         "showlegend": false,
         "type": "scatter",
         "x": [
          "xgb",
          "xgb",
          "xgb",
          "xgb",
          "xgb",
          "xgb",
          "xgb",
          "xgb",
          "xgb",
          "xgb",
          "xgb",
          "xgb",
          "xgb"
         ],
         "xaxis": "x43",
         "y": [
          0.8558105105039219,
          0.1081539403017378,
          0.9975559933333737,
          0.06393922828854465,
          0.5235492940540687,
          0.5277084716528383,
          0.41151468106452377,
          0.7512158659814847,
          0.2704974479544986,
          0.699136270124052,
          0.2213408681389885,
          0.9855479934166286,
          0.5819591447885447
         ],
         "yaxis": "y43"
        },
        {
         "hovertemplate": "%{hovertext}<extra></extra>",
         "hovertext": [
          "Trial #0<br>algorithm: ridge<br>alpha: 0.6010505222092465<br><b>Objective Value: 0.9471554321468393</b>",
          "Trial #1<br>algorithm: lasso<br>alpha: 0.006162467158491157<br><b>Objective Value: 0.9389672175428982</b>",
          "Trial #2<br>algorithm: ridge<br>alpha: 0.001244729405956262<br><b>Objective Value: 0.9458097018173504</b>",
          "Trial #3<br>algorithm: ridge<br>alpha: 0.7759373016028097<br><b>Objective Value: 0.9473545665481765</b>",
          "Trial #4<br>algorithm: ridge<br>alpha: 31.29323725185007<br><b>Objective Value: 0.9496058571087869</b>",
          "Trial #5<br>algorithm: lasso<br>alpha: 0.016555231662187374<br><b>Objective Value: 0.9294302327835954</b>",
          "Trial #6<br>algorithm: lasso<br>alpha: 0.0004582749531777171<br><b>Objective Value: 0.9500398525687235</b>",
          "Trial #7<br>algorithm: lasso<br>alpha: 5.534750298353362<br><b>Objective Value: -0.029441307066881618</b>",
          "Trial #9<br>algorithm: lasso<br>alpha: 0.00017637287605472746<br><b>Objective Value: 0.9500902328681612</b>",
          "Trial #11<br>algorithm: lasso<br>alpha: 0.00011995197253262029<br><b>Objective Value: 0.9498510406483309</b>",
          "Trial #12<br>algorithm: lasso<br>alpha: 0.00011207889164253218<br><b>Objective Value: 0.9497956445257467</b>",
          "Trial #13<br>algorithm: lasso<br>alpha: 0.0011740965051880814<br><b>Objective Value: 0.9473793968660728</b>",
          "Trial #14<br>algorithm: lasso<br>alpha: 0.0015503076984355424<br><b>Objective Value: 0.945086273060117</b>",
          "Trial #15<br>algorithm: lasso<br>alpha: 0.03649585335839899<br><b>Objective Value: 0.891919680699119</b>",
          "Trial #17<br>algorithm: lasso<br>alpha: 0.0003726843301350919<br><b>Objective Value: 0.9502165794308643</b>",
          "Trial #18<br>algorithm: lasso<br>alpha: 0.20023362384311136<br><b>Objective Value: 0.3389464804948818</b>",
          "Trial #20<br>algorithm: lasso<br>alpha: 0.004216169019651566<br><b>Objective Value: 0.9409100930605206</b>",
          "Trial #21<br>algorithm: lasso<br>alpha: 0.00034608379326552273<br><b>Objective Value: 0.9502535145176715</b>",
          "Trial #22<br>algorithm: lasso<br>alpha: 0.00024482064135119533<br><b>Objective Value: 0.950247724018946</b>",
          "Trial #23<br>algorithm: lasso<br>alpha: 0.000487776516858514<br><b>Objective Value: 0.9499686482042866</b>",
          "Trial #24<br>algorithm: lasso<br>alpha: 0.005239588389351667<br><b>Objective Value: 0.9397985591072718</b>",
          "Trial #25<br>algorithm: lasso<br>alpha: 0.0004550420502021263<br><b>Objective Value: 0.9500469224113856</b>",
          "Trial #26<br>algorithm: lasso<br>alpha: 0.02091016333584503<br><b>Objective Value: 0.9224764929436381</b>",
          "Trial #27<br>algorithm: lasso<br>alpha: 0.002367137437004208<br><b>Objective Value: 0.9431142980201922</b>",
          "Trial #28<br>algorithm: ridge<br>alpha: 0.0003508193855269366<br><b>Objective Value: 0.9458058722948917</b>",
          "Trial #30<br>algorithm: ridge<br>alpha: 0.07419825096515736<br><b>Objective Value: 0.9460881378786741</b>",
          "Trial #31<br>algorithm: lasso<br>alpha: 0.0001098338559889162<br><b>Objective Value: 0.9497745164857381</b>",
          "Trial #32<br>algorithm: lasso<br>alpha: 0.00026399630354087886<br><b>Objective Value: 0.9502797535996578</b>",
          "Trial #33<br>algorithm: lasso<br>alpha: 0.0008472387752849562<br><b>Objective Value: 0.9486362756580426</b>",
          "Trial #34<br>algorithm: lasso<br>alpha: 0.0003204788571913823<br><b>Objective Value: 0.9502759959747529</b>",
          "Trial #35<br>algorithm: ridge<br>alpha: 0.00024230102105339654<br><b>Objective Value: 0.9458054065930874</b>",
          "Trial #36<br>algorithm: lasso<br>alpha: 0.002615056478718971<br><b>Objective Value: 0.9427418045630881</b>",
          "Trial #37<br>algorithm: lasso<br>alpha: 0.0008701193893983413<br><b>Objective Value: 0.9485421626102486</b>",
          "Trial #38<br>algorithm: lasso<br>alpha: 0.009343031672547655<br><b>Objective Value: 0.9373437476773958</b>",
          "Trial #39<br>algorithm: ridge<br>alpha: 3.0896988698846903<br><b>Objective Value: 0.9485588883459293</b>",
          "Trial #40<br>algorithm: lasso<br>alpha: 0.0007487749013093245<br><b>Objective Value: 0.9490795432899979</b>",
          "Trial #41<br>algorithm: lasso<br>alpha: 0.00026577767050225043<br><b>Objective Value: 0.9502825368726407</b>",
          "Trial #42<br>algorithm: lasso<br>alpha: 0.00023634827143863648<br><b>Objective Value: 0.9502294508274328</b>",
          "Trial #43<br>algorithm: lasso<br>alpha: 0.002427898969308335<br><b>Objective Value: 0.9430131991735313</b>",
          "Trial #44<br>algorithm: lasso<br>alpha: 0.000325062047327948<br><b>Objective Value: 0.9502727641231721</b>",
          "Trial #45<br>algorithm: lasso<br>alpha: 0.0007138085942687639<br><b>Objective Value: 0.9492408791368658</b>",
          "Trial #46<br>algorithm: lasso<br>alpha: 0.001600153468480079<br><b>Objective Value: 0.9448349663520008</b>",
          "Trial #48<br>algorithm: lasso<br>alpha: 0.0001752770246621694<br><b>Objective Value: 0.9500862499579659</b>",
          "Trial #49<br>algorithm: lasso<br>alpha: 0.009528470841126065<br><b>Objective Value: 0.9371932960385145</b>",
          "Trial #50<br>algorithm: ridge<br>alpha: 0.4966722669613841<br><b>Objective Value: 0.9470141744249545</b>",
          "Trial #51<br>algorithm: lasso<br>alpha: 0.00022775953671817198<br><b>Objective Value: 0.9502119657115078</b>",
          "Trial #52<br>algorithm: lasso<br>alpha: 0.00010612659023547114<br><b>Objective Value: 0.949734434572683</b>",
          "Trial #53<br>algorithm: lasso<br>alpha: 0.0003830467672882016<br><b>Objective Value: 0.9501974068395576</b>",
          "Trial #54<br>algorithm: lasso<br>alpha: 0.00021627436540954526<br><b>Objective Value: 0.950190484820807</b>",
          "Trial #55<br>algorithm: lasso<br>alpha: 0.001445853412310756<br><b>Objective Value: 0.945629603904475</b>",
          "Trial #56<br>algorithm: lasso<br>alpha: 53.23092951617624<br><b>Objective Value: -0.029441307066881618</b>",
          "Trial #58<br>algorithm: lasso<br>alpha: 0.0006269662288422743<br><b>Objective Value: 0.9495661914710423</b>",
          "Trial #59<br>algorithm: lasso<br>alpha: 0.00029775083715590834<br><b>Objective Value: 0.9502879072815185</b>",
          "Trial #60<br>algorithm: lasso<br>alpha: 15.099326747885836<br><b>Objective Value: -0.029441307066881618</b>",
          "Trial #61<br>algorithm: lasso<br>alpha: 0.00016120434434155882<br><b>Objective Value: 0.9500333708547464</b>",
          "Trial #62<br>algorithm: lasso<br>alpha: 0.0003589828022351704<br><b>Objective Value: 0.9502370410586698</b>",
          "Trial #63<br>algorithm: lasso<br>alpha: 0.0003217979072940209<br><b>Objective Value: 0.9502750912961979</b>",
          "Trial #64<br>algorithm: lasso<br>alpha: 0.0011967427390884194<br><b>Objective Value: 0.9472882006945464</b>",
          "Trial #65<br>algorithm: lasso<br>alpha: 0.0005043219466697327<br><b>Objective Value: 0.9499221783577119</b>",
          "Trial #66<br>algorithm: lasso<br>alpha: 0.00014659589751746423<br><b>Objective Value: 0.9499614525388406</b>",
          "Trial #68<br>algorithm: lasso<br>alpha: 0.00032279050356379395<br><b>Objective Value: 0.9502742629973625</b>",
          "Trial #69<br>algorithm: lasso<br>alpha: 0.003229013154984103<br><b>Objective Value: 0.941854420726292</b>",
          "Trial #70<br>algorithm: lasso<br>alpha: 0.0009304375157316136<br><b>Objective Value: 0.9483040046031498</b>",
          "Trial #71<br>algorithm: lasso<br>alpha: 0.00032387498231343473<br><b>Objective Value: 0.9502735478038954</b>",
          "Trial #72<br>algorithm: lasso<br>alpha: 0.00010020749752970585<br><b>Objective Value: 0.9496698612945007</b>",
          "Trial #73<br>algorithm: lasso<br>alpha: 0.0004902540297799311<br><b>Objective Value: 0.9499618729169731</b>",
          "Trial #74<br>algorithm: lasso<br>alpha: 0.0002969173890045437<br><b>Objective Value: 0.9502883231525254</b>",
          "Trial #75<br>algorithm: lasso<br>alpha: 0.00028454678060790855<br><b>Objective Value: 0.9502953233147071</b>",
          "Trial #76<br>algorithm: ridge<br>alpha: 0.00016771658897848712<br><b>Objective Value: 0.9458050864155652</b>",
          "Trial #77<br>algorithm: lasso<br>alpha: 0.000578084982033051<br><b>Objective Value: 0.9497137160696887</b>",
          "Trial #78<br>algorithm: lasso<br>alpha: 0.0002650869138932816<br><b>Objective Value: 0.9502815924227817</b>",
          "Trial #79<br>algorithm: lasso<br>alpha: 0.0001529524006218151<br><b>Objective Value: 0.9499926313562599</b>",
          "Trial #80<br>algorithm: lasso<br>alpha: 0.0009624329368942344<br><b>Objective Value: 0.9481827933626569</b>",
          "Trial #81<br>algorithm: lasso<br>alpha: 0.00025615699836524443<br><b>Objective Value: 0.9502672109276192</b>",
          "Trial #82<br>algorithm: lasso<br>alpha: 0.0002775282989311552<br><b>Objective Value: 0.9502963988384143</b>",
          "Trial #83<br>algorithm: lasso<br>alpha: 0.001863957343085763<br><b>Objective Value: 0.9439723885844347</b>",
          "Trial #84<br>algorithm: lasso<br>alpha: 0.0005977110689793054<br><b>Objective Value: 0.9496589312348584</b>",
          "Trial #85<br>algorithm: lasso<br>alpha: 0.0002265048002483477<br><b>Objective Value: 0.9502098986541375</b>",
          "Trial #87<br>algorithm: lasso<br>alpha: 0.00014044844521037702<br><b>Objective Value: 0.9499303692169431</b>",
          "Trial #88<br>algorithm: ridge<br>alpha: 0.00043999444012187577<br><b>Objective Value: 0.9458062548545307</b>",
          "Trial #89<br>algorithm: lasso<br>alpha: 0.0011161328813483<br><b>Objective Value: 0.9476084501766951</b>",
          "Trial #90<br>algorithm: lasso<br>alpha: 0.00028182509069933046<br><b>Objective Value: 0.9502964822130379</b>",
          "Trial #91<br>algorithm: lasso<br>alpha: 0.00021910412365379805<br><b>Objective Value: 0.9501962444593653</b>",
          "Trial #92<br>algorithm: lasso<br>alpha: 0.00028892319193558495<br><b>Objective Value: 0.9502926907956504</b>",
          "Trial #93<br>algorithm: lasso<br>alpha: 0.00012601304274520566<br><b>Objective Value: 0.9498802105550059</b>",
          "Trial #94<br>algorithm: lasso<br>alpha: 0.0006867677082010171<br><b>Objective Value: 0.9493494195943446</b>",
          "Trial #95<br>algorithm: lasso<br>alpha: 0.10617565798782047<br><b>Objective Value: 0.6948625509417926</b>",
          "Trial #96<br>algorithm: lasso<br>alpha: 0.00026874245328880713<br><b>Objective Value: 0.9502862831182425</b>",
          "Trial #97<br>algorithm: lasso<br>alpha: 0.0001942292553580477<br><b>Objective Value: 0.9501449871277803</b>",
          "Trial #98<br>algorithm: lasso<br>alpha: 0.0004343961432539565<br><b>Objective Value: 0.9500888877970954</b>",
          "Trial #99<br>algorithm: lasso<br>alpha: 0.0002822324255457903<br><b>Objective Value: 0.9502964373402069</b>",
          "Trial #100<br>algorithm: lasso<br>alpha: 0.00010067470572454919<br><b>Objective Value: 0.9496753512755902</b>",
          "Trial #101<br>algorithm: lasso<br>alpha: 0.00024337137393535218<br><b>Objective Value: 0.9502449512569566</b>",
          "Trial #102<br>algorithm: lasso<br>alpha: 0.0002840324973679434<br><b>Objective Value: 0.9502955909186339</b>",
          "Trial #103<br>algorithm: lasso<br>alpha: 0.0004429356786116208<br><b>Objective Value: 0.9500715177401252</b>",
          "Trial #104<br>algorithm: lasso<br>alpha: 0.0006852289007676667<br><b>Objective Value: 0.9493553150559639</b>",
          "Trial #105<br>algorithm: lasso<br>alpha: 0.00016777305469109388<br><b>Objective Value: 0.9500636883309272</b>",
          "Trial #106<br>algorithm: lasso<br>alpha: 2.718674441824922<br><b>Objective Value: -0.029441307066881618</b>",
          "Trial #108<br>algorithm: lasso<br>alpha: 0.000290966147484301<br><b>Objective Value: 0.9502914624491947</b>",
          "Trial #109<br>algorithm: lasso<br>alpha: 0.0008154095304730813<br><b>Objective Value: 0.9487796957195679</b>",
          "Trial #110<br>algorithm: ridge<br>alpha: 0.00037199925344242533<br><b>Objective Value: 0.9458059631669112</b>",
          "Trial #111<br>algorithm: lasso<br>alpha: 0.0002628523102139585<br><b>Objective Value: 0.9502778163259922</b>",
          "Trial #112<br>algorithm: lasso<br>alpha: 0.0003044538444315895<br><b>Objective Value: 0.9502836280725976</b>",
          "Trial #113<br>algorithm: lasso<br>alpha: 0.0001869134239066806<br><b>Objective Value: 0.9501260316720657</b>",
          "Trial #114<br>algorithm: lasso<br>alpha: 0.0005452808403101624<br><b>Objective Value: 0.9498013443197497</b>",
          "Trial #115<br>algorithm: lasso<br>alpha: 0.0003030787208159202<br><b>Objective Value: 0.9502845562820639</b>",
          "Trial #116<br>algorithm: lasso<br>alpha: 0.0003421151990867715<br><b>Objective Value: 0.9502582588235127</b>",
          "Trial #117<br>algorithm: lasso<br>alpha: 0.00013966170638581<br><b>Objective Value: 0.9499275892013603</b>",
          "Trial #118<br>algorithm: lasso<br>alpha: 0.0017689970679156401<br><b>Objective Value: 0.9442351128117648</b>",
          "Trial #119<br>algorithm: lasso<br>alpha: 0.0004857680768819713<br><b>Objective Value: 0.9499741667505186</b>",
          "Trial #120<br>algorithm: lasso<br>alpha: 0.00019366385317210036<br><b>Objective Value: 0.9501437506612426</b>",
          "Trial #121<br>algorithm: lasso<br>alpha: 0.00029322512255107095<br><b>Objective Value: 0.9502898226246657</b>",
          "Trial #122<br>algorithm: lasso<br>alpha: 0.0003937165488046054<br><b>Objective Value: 0.950172458965406</b>",
          "Trial #123<br>algorithm: lasso<br>alpha: 0.00012651680490057297<br><b>Objective Value: 0.9498818867954568</b>",
          "Trial #124<br>algorithm: lasso<br>alpha: 0.00032284555737474547<br><b>Objective Value: 0.9502742213840186</b>",
          "Trial #125<br>algorithm: lasso<br>alpha: 0.0010093248243163574<br><b>Objective Value: 0.948010230424984</b>",
          "Trial #126<br>algorithm: lasso<br>alpha: 0.0006538962082803727<br><b>Objective Value: 0.9494725800498989</b>",
          "Trial #127<br>algorithm: lasso<br>alpha: 0.0002701530338719892<br><b>Objective Value: 0.9502881420877998</b>",
          "Trial #128<br>algorithm: lasso<br>alpha: 0.00018822987713131288<br><b>Objective Value: 0.9501299921214527</b>",
          "Trial #130<br>algorithm: lasso<br>alpha: 0.0005025161860693752<br><b>Objective Value: 0.9499275651962751</b>",
          "Trial #131<br>algorithm: lasso<br>alpha: 0.00030121839415697064<br><b>Objective Value: 0.9502859312054707</b>",
          "Trial #132<br>algorithm: lasso<br>alpha: 0.02760617308212424<br><b>Objective Value: 0.9090691608791975</b>",
          "Trial #133<br>algorithm: lasso<br>alpha: 0.0002755064260576385<br><b>Objective Value: 0.9502947964782023</b>",
          "Trial #134<br>algorithm: lasso<br>alpha: 0.00022243048023622906<br><b>Objective Value: 0.9502028187641546</b>",
          "Trial #135<br>algorithm: lasso<br>alpha: 0.00014320019113867708<br><b>Objective Value: 0.9499426420022609</b>",
          "Trial #136<br>algorithm: lasso<br>alpha: 0.00026866592038427895<br><b>Objective Value: 0.9502861840712985</b>",
          "Trial #137<br>algorithm: ridge<br>alpha: 0.0004309633494336917<br><b>Objective Value: 0.9458062161166941</b>",
          "Trial #138<br>algorithm: lasso<br>alpha: 0.00081294913853769<br><b>Objective Value: 0.9487904462388294</b>",
          "Trial #139<br>algorithm: lasso<br>alpha: 0.00020297584486418416<br><b>Objective Value: 0.9501620529377204</b>",
          "Trial #140<br>algorithm: lasso<br>alpha: 0.00012195713425037956<br><b>Objective Value: 0.9498618400883064</b>",
          "Trial #141<br>algorithm: lasso<br>alpha: 0.00025467710128659193<br><b>Objective Value: 0.9502649728528159</b>",
          "Trial #142<br>algorithm: lasso<br>alpha: 0.0003902292801053442<br><b>Objective Value: 0.9501802467301577</b>",
          "Trial #143<br>algorithm: lasso<br>alpha: 0.0005961379839180346<br><b>Objective Value: 0.9496636404874943</b>",
          "Trial #144<br>algorithm: lasso<br>alpha: 0.00025983379644265125<br><b>Objective Value: 0.9502726100328387</b>",
          "Trial #145<br>algorithm: lasso<br>alpha: 0.0001656791803098643<br><b>Objective Value: 0.9500547936860226</b>",
          "Trial #146<br>algorithm: lasso<br>alpha: 0.00029660077744154305<br><b>Objective Value: 0.9502884518718631</b>",
          "Trial #147<br>algorithm: lasso<br>alpha: 0.0004216013518661878<br><b>Objective Value: 0.9501140127607505</b>",
          "Trial #148<br>algorithm: lasso<br>alpha: 0.00019191268560575942<br><b>Objective Value: 0.9501396727282296</b>",
          "Trial #149<br>algorithm: lasso<br>alpha: 0.0005355609370130905<br><b>Objective Value: 0.949827142011346</b>",
          "Trial #150<br>algorithm: lasso<br>alpha: 0.7480710218510542<br><b>Objective Value: -0.029441307066881618</b>",
          "Trial #151<br>algorithm: lasso<br>alpha: 0.0002955668852217581<br><b>Objective Value: 0.950288785652028</b>",
          "Trial #152<br>algorithm: lasso<br>alpha: 0.0003179394162049563<br><b>Objective Value: 0.9502777437745561</b>",
          "Trial #153<br>algorithm: lasso<br>alpha: 0.0002572094482719987<br><b>Objective Value: 0.9502688139102728</b>",
          "Trial #154<br>algorithm: lasso<br>alpha: 0.00010234247253002118<br><b>Objective Value: 0.9496937107517626</b>",
          "Trial #155<br>algorithm: lasso<br>alpha: 0.00014965779743293767<br><b>Objective Value: 0.9499777480519768</b>",
          "Trial #156<br>algorithm: lasso<br>alpha: 0.00037700816190696225<br><b>Objective Value: 0.9502093537893714</b>",
          "Trial #158<br>algorithm: lasso<br>alpha: 0.0002121806487450387<br><b>Objective Value: 0.9501804859699942</b>",
          "Trial #159<br>algorithm: lasso<br>alpha: 0.0006328223055577282<br><b>Objective Value: 0.9495460997714975</b>",
          "Trial #160<br>algorithm: lasso<br>alpha: 0.00027951955384252825<br><b>Objective Value: 0.9502968446519408</b>",
          "Trial #161<br>algorithm: lasso<br>alpha: 0.0002939250037567679<br><b>Objective Value: 0.9502895965361698</b>",
          "Trial #162<br>algorithm: lasso<br>alpha: 0.00037385749754682466<br><b>Objective Value: 0.95021458199043</b>",
          "Trial #163<br>algorithm: lasso<br>alpha: 0.00046763996206561896<br><b>Objective Value: 0.9500186429126172</b>",
          "Trial #164<br>algorithm: lasso<br>alpha: 0.00017255223505524656<br><b>Objective Value: 0.9500779176060921</b>",
          "Trial #165<br>algorithm: lasso<br>alpha: 0.00026100557304665855<br><b>Objective Value: 0.9502745077404082</b>",
          "Trial #166<br>algorithm: ridge<br>alpha: 0.0003300537053842424<br><b>Objective Value: 0.9458057831934419</b>",
          "Trial #167<br>algorithm: lasso<br>alpha: 0.00021752221770842542<br><b>Objective Value: 0.9501930573225469</b>",
          "Trial #168<br>algorithm: lasso<br>alpha: 0.057297280198522024<br><b>Objective Value: 0.8389773364681945</b>",
          "Trial #169<br>algorithm: lasso<br>alpha: 0.0007982176804455926<br><b>Objective Value: 0.9488545491630855</b>",
          "Trial #170<br>algorithm: lasso<br>alpha: 0.008770629968123052<br><b>Objective Value: 0.9377778075045207</b>",
          "Trial #171<br>algorithm: lasso<br>alpha: 0.00026809135112437695<br><b>Objective Value: 0.9502854685127481</b>",
          "Trial #172<br>algorithm: lasso<br>alpha: 0.0003039866798920512<br><b>Objective Value: 0.9502839077510391</b>",
          "Trial #173<br>algorithm: lasso<br>alpha: 0.0001518658124315147<br><b>Objective Value: 0.9499869011042194</b>",
          "Trial #174<br>algorithm: lasso<br>alpha: 0.00046511836448988027<br><b>Objective Value: 0.9500245932051371</b>",
          "Trial #175<br>algorithm: lasso<br>alpha: 0.24295422841672976<br><b>Objective Value: 0.1865437329165439</b>",
          "Trial #176<br>algorithm: lasso<br>alpha: 0.00020070103964358482<br><b>Objective Value: 0.9501583632314036</b>",
          "Trial #177<br>algorithm: lasso<br>alpha: 0.0003836683208844992<br><b>Objective Value: 0.9501960247006522</b>",
          "Trial #178<br>algorithm: lasso<br>alpha: 0.0005881628083156323<br><b>Objective Value: 0.9496864576714318</b>",
          "Trial #179<br>algorithm: lasso<br>alpha: 0.00026630194727719005<br><b>Objective Value: 0.9502833222098073</b>",
          "Trial #180<br>algorithm: lasso<br>alpha: 0.00014231728344635378<br><b>Objective Value: 0.9499385532941413</b>",
          "Trial #181<br>algorithm: lasso<br>alpha: 0.0003085933070370752<br><b>Objective Value: 0.9502810360158491</b>",
          "Trial #182<br>algorithm: lasso<br>alpha: 0.0003051142591493016<br><b>Objective Value: 0.9502831710262434</b>",
          "Trial #183<br>algorithm: lasso<br>alpha: 0.00021599941049405656<br><b>Objective Value: 0.9501898279809267</b>",
          "Trial #184<br>algorithm: lasso<br>alpha: 0.0004154625288227434<br><b>Objective Value: 0.9501258403921616</b>",
          "Trial #185<br>algorithm: lasso<br>alpha: 0.00018413932309184442<br><b>Objective Value: 0.9501172861556331</b>",
          "Trial #186<br>algorithm: lasso<br>alpha: 0.00029593987834829297<br><b>Objective Value: 0.950288642837411</b>",
          "Trial #187<br>algorithm: lasso<br>alpha: 0.0005140786592218493<br><b>Objective Value: 0.9498915102678985</b>",
          "Trial #189<br>algorithm: lasso<br>alpha: 0.00022947095032263697<br><b>Objective Value: 0.9502152651959875</b>",
          "Trial #190<br>algorithm: lasso<br>alpha: 0.0003771917449846884<br><b>Objective Value: 0.9502090690343031</b>",
          "Trial #191<br>algorithm: lasso<br>alpha: 0.0002628651681789406<br><b>Objective Value: 0.9502778394616301</b>",
          "Trial #192<br>algorithm: lasso<br>alpha: 0.00033338137422522654<br><b>Objective Value: 0.950266037079577</b>",
          "Trial #193<br>algorithm: lasso<br>alpha: 0.00017477919220651886<br><b>Objective Value: 0.9500845330420139</b>",
          "Trial #194<br>algorithm: lasso<br>alpha: 0.0002668231958810487<br><b>Objective Value: 0.9502840671126596</b>",
          "Trial #195<br>algorithm: lasso<br>alpha: 0.0005009178284093929<br><b>Objective Value: 0.9499323646692229</b>",
          "Trial #196<br>algorithm: lasso<br>alpha: 0.00012855378397921287<br><b>Objective Value: 0.9498876175942407</b>",
          "Trial #197<br>algorithm: lasso<br>alpha: 0.00034571676369411016<br><b>Objective Value: 0.950254088504817</b>",
          "Trial #198<br>algorithm: lasso<br>alpha: 0.00020514835456026157<br><b>Objective Value: 0.9501658812790701</b>",
          "Trial #199<br>algorithm: ridge<br>alpha: 0.00028929130728814323<br><b>Objective Value: 0.9458056082713616</b>"
         ],
         "marker": {
          "color": [
           "rgb(150.0, 200.0, 224.0)",
           "rgb(86.0, 137.0, 190.0)",
           "rgb(139.0, 191.0, 219.0)",
           "rgb(155.0, 204.0, 226.0)",
           "rgb(206.0, 234.0, 243.0)",
           "rgb(74.0, 123.0, 183.0)",
           "rgb(255.0, 240.0, 169.0)",
           "rgb(58.0, 82.0, 163.0)",
           "rgb(254.0, 226.0, 147.0)",
           "rgb(234.0, 247.0, 230.0)",
           "rgb(229.0, 245.0, 238.0)",
           "rgb(158.0, 207.0, 227.0)",
           "rgb(109.0, 165.0, 205.0)",
           "rgb(66.0, 108.0, 175.0)",
           "rgb(250.0, 152.0, 87.0)",
           "rgb(62.0, 95.0, 169.0)",
           "rgb(90.0, 143.0, 193.0)",
           "rgb(248.0, 136.0, 79.0)",
           "rgb(248.0, 139.0, 81.0)",
           "rgb(255.0, 253.0, 187.0)",
           "rgb(88.0, 140.0, 192.0)",
           "rgb(254.0, 239.0, 166.0)",
           "rgb(72.0, 120.0, 182.0)",
           "rgb(100.0, 154.0, 199.0)",
           "rgb(128.0, 182.0, 214.0)",
           "rgb(141.0, 193.0, 220.0)",
           "rgb(228.0, 244.0, 241.0)",
           "rgb(230.0, 79.0, 53.0)",
           "rgb(177.0, 220.0, 235.0)",
           "rgb(236.0, 91.0, 59.0)",
           "rgb(119.0, 176.0, 210.0)",
           "rgb(95.0, 148.0, 196.0)",
           "rgb(172.0, 217.0, 233.0)",
           "rgb(81.0, 131.0, 187.0)",
           "rgb(174.0, 219.0, 234.0)",
           "rgb(188.0, 225.0, 238.0)",
           "rgb(225.0, 70.0, 49.0)",
           "rgb(250.0, 149.0, 85.0)",
           "rgb(98.0, 151.0, 198.0)",
           "rgb(244.0, 110.0, 67.0)",
           "rgb(190.0, 227.0, 239.0)",
           "rgb(107.0, 162.0, 203.0)",
           "rgb(254.0, 229.0, 152.0)",
           "rgb(79.0, 129.0, 186.0)",
           "rgb(147.0, 198.0, 223.0)",
           "rgb(251.0, 162.0, 91.0)",
           "rgb(226.0, 244.0, 244.0)",
           "rgb(253.0, 177.0, 100.0)",
           "rgb(253.0, 187.0, 110.0)",
           "rgb(112.0, 168.0, 206.0)",
           "rgb(58.0, 82.0, 163.0)",
           "rgb(204.0, 233.0, 242.0)",
           "rgb(205.0, 39.0, 39.0)",
           "rgb(58.0, 82.0, 163.0)",
           "rgb(255.0, 242.0, 171.0)",
           "rgb(249.0, 146.0, 84.0)",
           "rgb(237.0, 94.0, 60.0)",
           "rgb(152.0, 202.0, 225.0)",
           "rgb(243.0, 250.0, 212.0)",
           "rgb(254.0, 255.0, 192.0)",
           "rgb(240.0, 100.0, 63.0)",
           "rgb(93.0, 145.0, 195.0)",
           "rgb(169.0, 215.0, 232.0)",
           "rgb(243.0, 107.0, 66.0)",
           "rgb(214.0, 238.0, 245.0)",
           "rgb(255.0, 254.0, 190.0)",
           "rgb(200.0, 34.0, 39.0)",
           "rgb(178.0, 12.0, 38.0)",
           "rgb(117.0, 173.0, 209.0)",
           "rgb(225.0, 243.0, 247.0)",
           "rgb(227.0, 73.0, 50.0)",
           "rgb(255.0, 246.0, 178.0)",
           "rgb(166.0, 213.0, 231.0)",
           "rgb(245.0, 119.0, 72.0)",
           "rgb(173.0, 7.0, 38.0)",
           "rgb(102.0, 157.0, 201.0)",
           "rgb(209.0, 236.0, 244.0)",
           "rgb(252.0, 165.0, 93.0)",
           "rgb(248.0, 252.0, 204.0)",
           "rgb(136.0, 189.0, 218.0)",
           "rgb(161.0, 209.0, 229.0)",
           "rgb(168.0, 2.0, 38.0)",
           "rgb(253.0, 180.0, 102.0)",
           "rgb(183.0, 17.0, 38.0)",
           "rgb(237.0, 248.0, 224.0)",
           "rgb(193.0, 228.0, 239.0)",
           "rgb(63.0, 98.0, 171.0)",
           "rgb(208.0, 41.0, 39.0)",
           "rgb(254.0, 207.0, 128.0)",
           "rgb(254.0, 228.0, 150.0)",
           "rgb(170.0, 5.0, 38.0)",
           "rgb(217.0, 240.0, 246.0)",
           "rgb(249.0, 142.0, 82.0)",
           "rgb(175.0, 10.0, 38.0)",
           "rgb(254.0, 234.0, 159.0)",
           "rgb(196.0, 229.0, 240.0)",
           "rgb(254.0, 236.0, 161.0)",
           "rgb(58.0, 82.0, 163.0)",
           "rgb(185.0, 19.0, 38.0)",
           "rgb(180.0, 221.0, 235.0)",
           "rgb(130.0, 184.0, 215.0)",
           "rgb(233.0, 85.0, 56.0)",
           "rgb(221.0, 61.0, 45.0)",
           "rgb(254.0, 217.0, 138.0)",
           "rgb(231.0, 246.0, 235.0)",
           "rgb(217.0, 51.0, 41.0)",
           "rgb(247.0, 129.0, 76.0)",
           "rgb(246.0, 252.0, 207.0)",
           "rgb(105.0, 159.0, 202.0)",
           "rgb(255.0, 251.0, 185.0)",
           "rgb(254.0, 210.0, 131.0)",
           "rgb(188.0, 22.0, 38.0)",
           "rgb(253.0, 197.0, 119.0)",
           "rgb(239.0, 249.0, 221.0)",
           "rgb(241.0, 103.0, 64.0)",
           "rgb(164.0, 211.0, 230.0)",
           "rgb(198.0, 230.0, 241.0)",
           "rgb(203.0, 36.0, 39.0)",
           "rgb(254.0, 215.0, 135.0)",
           "rgb(245.0, 251.0, 210.0)",
           "rgb(213.0, 46.0, 39.0)",
           "rgb(68.0, 114.0, 179.0)",
           "rgb(180.0, 14.0, 38.0)",
           "rgb(253.0, 175.0, 98.0)",
           "rgb(253.0, 254.0, 195.0)",
           "rgb(210.0, 43.0, 39.0)",
           "rgb(133.0, 187.0, 216.0)",
           "rgb(182.0, 223.0, 236.0)",
           "rgb(254.0, 202.0, 124.0)",
           "rgb(236.0, 247.0, 227.0)",
           "rgb(246.0, 126.0, 75.0)",
           "rgb(253.0, 195.0, 117.0)",
           "rgb(212.0, 237.0, 245.0)",
           "rgb(245.0, 113.0, 69.0)",
           "rgb(254.0, 237.0, 164.0)",
           "rgb(198.0, 31.0, 39.0)",
           "rgb(254.0, 225.0, 145.0)",
           "rgb(254.0, 212.0, 133.0)",
           "rgb(232.0, 246.0, 233.0)",
           "rgb(58.0, 82.0, 163.0)",
           "rgb(193.0, 27.0, 39.0)",
           "rgb(234.0, 88.0, 57.0)",
           "rgb(245.0, 116.0, 70.0)",
           "rgb(222.0, 242.0, 248.0)",
           "rgb(255.0, 250.0, 183.0)",
           "rgb(252.0, 168.0, 94.0)",
           "rgb(253.0, 192.0, 114.0)",
           "rgb(201.0, 232.0, 242.0)",
           "rgb(165.0, 0.0, 38.0)",
           "rgb(190.0, 24.0, 39.0)",
           "rgb(251.0, 159.0, 90.0)",
           "rgb(255.0, 245.0, 176.0)",
           "rgb(254.0, 232.0, 157.0)",
           "rgb(238.0, 97.0, 62.0)",
           "rgb(125.0, 180.0, 213.0)",
           "rgb(253.0, 185.0, 107.0)",
           "rgb(64.0, 101.0, 172.0)",
           "rgb(185.0, 224.0, 237.0)",
           "rgb(83.0, 134.0, 189.0)",
           "rgb(215.0, 48.0, 39.0)",
           "rgb(220.0, 58.0, 43.0)",
           "rgb(255.0, 248.0, 180.0)",
           "rgb(255.0, 243.0, 173.0)",
           "rgb(61.0, 92.0, 168.0)",
           "rgb(254.0, 205.0, 126.0)",
           "rgb(253.0, 182.0, 105.0)",
           "rgb(220.0, 241.0, 247.0)",
           "rgb(222.0, 64.0, 46.0)",
           "rgb(251.0, 253.0, 198.0)",
           "rgb(228.0, 76.0, 52.0)",
           "rgb(224.0, 67.0, 48.0)",
           "rgb(253.0, 190.0, 112.0)",
           "rgb(254.0, 220.0, 140.0)",
           "rgb(254.0, 222.0, 143.0)",
           "rgb(195.0, 29.0, 39.0)",
           "rgb(242.0, 250.0, 215.0)",
           "rgb(250.0, 155.0, 88.0)",
           "rgb(253.0, 172.0, 96.0)",
           "rgb(231.0, 82.0, 55.0)",
           "rgb(246.0, 123.0, 73.0)",
           "rgb(254.0, 231.0, 154.0)",
           "rgb(218.0, 54.0, 42.0)",
           "rgb(250.0, 253.0, 201.0)",
           "rgb(240.0, 249.0, 218.0)",
           "rgb(247.0, 133.0, 78.0)",
           "rgb(254.0, 200.0, 121.0)",
           "rgb(122.0, 178.0, 212.0)"
          ],
          "line": {
           "color": "Grey",
           "width": 0.5
          }
         },
         "mode": "markers",
         "showlegend": false,
         "type": "scatter",
         "x": [
          0.6010505222092465,
          0.006162467158491157,
          0.001244729405956262,
          0.7759373016028097,
          31.29323725185007,
          0.016555231662187374,
          0.0004582749531777171,
          5.534750298353362,
          0.00017637287605472746,
          0.00011995197253262029,
          0.00011207889164253218,
          0.0011740965051880814,
          0.0015503076984355424,
          0.03649585335839899,
          0.0003726843301350919,
          0.20023362384311136,
          0.004216169019651566,
          0.00034608379326552273,
          0.00024482064135119533,
          0.000487776516858514,
          0.005239588389351667,
          0.0004550420502021263,
          0.02091016333584503,
          0.002367137437004208,
          0.0003508193855269366,
          0.07419825096515736,
          0.0001098338559889162,
          0.00026399630354087886,
          0.0008472387752849562,
          0.0003204788571913823,
          0.00024230102105339654,
          0.002615056478718971,
          0.0008701193893983413,
          0.009343031672547655,
          3.0896988698846903,
          0.0007487749013093245,
          0.00026577767050225043,
          0.00023634827143863648,
          0.002427898969308335,
          0.000325062047327948,
          0.0007138085942687639,
          0.001600153468480079,
          0.0001752770246621694,
          0.009528470841126065,
          0.4966722669613841,
          0.00022775953671817198,
          0.00010612659023547114,
          0.0003830467672882016,
          0.00021627436540954526,
          0.001445853412310756,
          53.23092951617624,
          0.0006269662288422743,
          0.00029775083715590834,
          15.099326747885836,
          0.00016120434434155882,
          0.0003589828022351704,
          0.0003217979072940209,
          0.0011967427390884194,
          0.0005043219466697327,
          0.00014659589751746423,
          0.00032279050356379395,
          0.003229013154984103,
          0.0009304375157316136,
          0.00032387498231343473,
          0.00010020749752970585,
          0.0004902540297799311,
          0.0002969173890045437,
          0.00028454678060790855,
          0.00016771658897848712,
          0.000578084982033051,
          0.0002650869138932816,
          0.0001529524006218151,
          0.0009624329368942344,
          0.00025615699836524443,
          0.0002775282989311552,
          0.001863957343085763,
          0.0005977110689793054,
          0.0002265048002483477,
          0.00014044844521037702,
          0.00043999444012187577,
          0.0011161328813483,
          0.00028182509069933046,
          0.00021910412365379805,
          0.00028892319193558495,
          0.00012601304274520566,
          0.0006867677082010171,
          0.10617565798782047,
          0.00026874245328880713,
          0.0001942292553580477,
          0.0004343961432539565,
          0.0002822324255457903,
          0.00010067470572454919,
          0.00024337137393535218,
          0.0002840324973679434,
          0.0004429356786116208,
          0.0006852289007676667,
          0.00016777305469109388,
          2.718674441824922,
          0.000290966147484301,
          0.0008154095304730813,
          0.00037199925344242533,
          0.0002628523102139585,
          0.0003044538444315895,
          0.0001869134239066806,
          0.0005452808403101624,
          0.0003030787208159202,
          0.0003421151990867715,
          0.00013966170638581,
          0.0017689970679156401,
          0.0004857680768819713,
          0.00019366385317210036,
          0.00029322512255107095,
          0.0003937165488046054,
          0.00012651680490057297,
          0.00032284555737474547,
          0.0010093248243163574,
          0.0006538962082803727,
          0.0002701530338719892,
          0.00018822987713131288,
          0.0005025161860693752,
          0.00030121839415697064,
          0.02760617308212424,
          0.0002755064260576385,
          0.00022243048023622906,
          0.00014320019113867708,
          0.00026866592038427895,
          0.0004309633494336917,
          0.00081294913853769,
          0.00020297584486418416,
          0.00012195713425037956,
          0.00025467710128659193,
          0.0003902292801053442,
          0.0005961379839180346,
          0.00025983379644265125,
          0.0001656791803098643,
          0.00029660077744154305,
          0.0004216013518661878,
          0.00019191268560575942,
          0.0005355609370130905,
          0.7480710218510542,
          0.0002955668852217581,
          0.0003179394162049563,
          0.0002572094482719987,
          0.00010234247253002118,
          0.00014965779743293767,
          0.00037700816190696225,
          0.0002121806487450387,
          0.0006328223055577282,
          0.00027951955384252825,
          0.0002939250037567679,
          0.00037385749754682466,
          0.00046763996206561896,
          0.00017255223505524656,
          0.00026100557304665855,
          0.0003300537053842424,
          0.00021752221770842542,
          0.057297280198522024,
          0.0007982176804455926,
          0.008770629968123052,
          0.00026809135112437695,
          0.0003039866798920512,
          0.0001518658124315147,
          0.00046511836448988027,
          0.24295422841672976,
          0.00020070103964358482,
          0.0003836683208844992,
          0.0005881628083156323,
          0.00026630194727719005,
          0.00014231728344635378,
          0.0003085933070370752,
          0.0003051142591493016,
          0.00021599941049405656,
          0.0004154625288227434,
          0.00018413932309184442,
          0.00029593987834829297,
          0.0005140786592218493,
          0.00022947095032263697,
          0.0003771917449846884,
          0.0002628651681789406,
          0.00033338137422522654,
          0.00017477919220651886,
          0.0002668231958810487,
          0.0005009178284093929,
          0.00012855378397921287,
          0.00034571676369411016,
          0.00020514835456026157,
          0.00028929130728814323
         ],
         "xaxis": "x2",
         "y": [
          "ridge",
          "lasso",
          "ridge",
          "ridge",
          "ridge",
          "lasso",
          "lasso",
          "lasso",
          "lasso",
          "lasso",
          "lasso",
          "lasso",
          "lasso",
          "lasso",
          "lasso",
          "lasso",
          "lasso",
          "lasso",
          "lasso",
          "lasso",
          "lasso",
          "lasso",
          "lasso",
          "lasso",
          "ridge",
          "ridge",
          "lasso",
          "lasso",
          "lasso",
          "lasso",
          "ridge",
          "lasso",
          "lasso",
          "lasso",
          "ridge",
          "lasso",
          "lasso",
          "lasso",
          "lasso",
          "lasso",
          "lasso",
          "lasso",
          "lasso",
          "lasso",
          "ridge",
          "lasso",
          "lasso",
          "lasso",
          "lasso",
          "lasso",
          "lasso",
          "lasso",
          "lasso",
          "lasso",
          "lasso",
          "lasso",
          "lasso",
          "lasso",
          "lasso",
          "lasso",
          "lasso",
          "lasso",
          "lasso",
          "lasso",
          "lasso",
          "lasso",
          "lasso",
          "lasso",
          "ridge",
          "lasso",
          "lasso",
          "lasso",
          "lasso",
          "lasso",
          "lasso",
          "lasso",
          "lasso",
          "lasso",
          "lasso",
          "ridge",
          "lasso",
          "lasso",
          "lasso",
          "lasso",
          "lasso",
          "lasso",
          "lasso",
          "lasso",
          "lasso",
          "lasso",
          "lasso",
          "lasso",
          "lasso",
          "lasso",
          "lasso",
          "lasso",
          "lasso",
          "lasso",
          "lasso",
          "lasso",
          "ridge",
          "lasso",
          "lasso",
          "lasso",
          "lasso",
          "lasso",
          "lasso",
          "lasso",
          "lasso",
          "lasso",
          "lasso",
          "lasso",
          "lasso",
          "lasso",
          "lasso",
          "lasso",
          "lasso",
          "lasso",
          "lasso",
          "lasso",
          "lasso",
          "lasso",
          "lasso",
          "lasso",
          "lasso",
          "lasso",
          "ridge",
          "lasso",
          "lasso",
          "lasso",
          "lasso",
          "lasso",
          "lasso",
          "lasso",
          "lasso",
          "lasso",
          "lasso",
          "lasso",
          "lasso",
          "lasso",
          "lasso",
          "lasso",
          "lasso",
          "lasso",
          "lasso",
          "lasso",
          "lasso",
          "lasso",
          "lasso",
          "lasso",
          "lasso",
          "lasso",
          "lasso",
          "lasso",
          "ridge",
          "lasso",
          "lasso",
          "lasso",
          "lasso",
          "lasso",
          "lasso",
          "lasso",
          "lasso",
          "lasso",
          "lasso",
          "lasso",
          "lasso",
          "lasso",
          "lasso",
          "lasso",
          "lasso",
          "lasso",
          "lasso",
          "lasso",
          "lasso",
          "lasso",
          "lasso",
          "lasso",
          "lasso",
          "lasso",
          "lasso",
          "lasso",
          "lasso",
          "lasso",
          "lasso",
          "lasso",
          "ridge"
         ],
         "yaxis": "y2"
        },
        {
         "hovertemplate": "%{hovertext}<extra></extra>",
         "hovertext": [
          "Trial #0<br>algorithm: ridge<br>alpha: 0.6010505222092465<br><b>Objective Value: 0.9471554321468393</b>",
          "Trial #1<br>algorithm: lasso<br>alpha: 0.006162467158491157<br><b>Objective Value: 0.9389672175428982</b>",
          "Trial #2<br>algorithm: ridge<br>alpha: 0.001244729405956262<br><b>Objective Value: 0.9458097018173504</b>",
          "Trial #3<br>algorithm: ridge<br>alpha: 0.7759373016028097<br><b>Objective Value: 0.9473545665481765</b>",
          "Trial #4<br>algorithm: ridge<br>alpha: 31.29323725185007<br><b>Objective Value: 0.9496058571087869</b>",
          "Trial #5<br>algorithm: lasso<br>alpha: 0.016555231662187374<br><b>Objective Value: 0.9294302327835954</b>",
          "Trial #6<br>algorithm: lasso<br>alpha: 0.0004582749531777171<br><b>Objective Value: 0.9500398525687235</b>",
          "Trial #7<br>algorithm: lasso<br>alpha: 5.534750298353362<br><b>Objective Value: -0.029441307066881618</b>",
          "Trial #9<br>algorithm: lasso<br>alpha: 0.00017637287605472746<br><b>Objective Value: 0.9500902328681612</b>",
          "Trial #11<br>algorithm: lasso<br>alpha: 0.00011995197253262029<br><b>Objective Value: 0.9498510406483309</b>",
          "Trial #12<br>algorithm: lasso<br>alpha: 0.00011207889164253218<br><b>Objective Value: 0.9497956445257467</b>",
          "Trial #13<br>algorithm: lasso<br>alpha: 0.0011740965051880814<br><b>Objective Value: 0.9473793968660728</b>",
          "Trial #14<br>algorithm: lasso<br>alpha: 0.0015503076984355424<br><b>Objective Value: 0.945086273060117</b>",
          "Trial #15<br>algorithm: lasso<br>alpha: 0.03649585335839899<br><b>Objective Value: 0.891919680699119</b>",
          "Trial #17<br>algorithm: lasso<br>alpha: 0.0003726843301350919<br><b>Objective Value: 0.9502165794308643</b>",
          "Trial #18<br>algorithm: lasso<br>alpha: 0.20023362384311136<br><b>Objective Value: 0.3389464804948818</b>",
          "Trial #20<br>algorithm: lasso<br>alpha: 0.004216169019651566<br><b>Objective Value: 0.9409100930605206</b>",
          "Trial #21<br>algorithm: lasso<br>alpha: 0.00034608379326552273<br><b>Objective Value: 0.9502535145176715</b>",
          "Trial #22<br>algorithm: lasso<br>alpha: 0.00024482064135119533<br><b>Objective Value: 0.950247724018946</b>",
          "Trial #23<br>algorithm: lasso<br>alpha: 0.000487776516858514<br><b>Objective Value: 0.9499686482042866</b>",
          "Trial #24<br>algorithm: lasso<br>alpha: 0.005239588389351667<br><b>Objective Value: 0.9397985591072718</b>",
          "Trial #25<br>algorithm: lasso<br>alpha: 0.0004550420502021263<br><b>Objective Value: 0.9500469224113856</b>",
          "Trial #26<br>algorithm: lasso<br>alpha: 0.02091016333584503<br><b>Objective Value: 0.9224764929436381</b>",
          "Trial #27<br>algorithm: lasso<br>alpha: 0.002367137437004208<br><b>Objective Value: 0.9431142980201922</b>",
          "Trial #28<br>algorithm: ridge<br>alpha: 0.0003508193855269366<br><b>Objective Value: 0.9458058722948917</b>",
          "Trial #30<br>algorithm: ridge<br>alpha: 0.07419825096515736<br><b>Objective Value: 0.9460881378786741</b>",
          "Trial #31<br>algorithm: lasso<br>alpha: 0.0001098338559889162<br><b>Objective Value: 0.9497745164857381</b>",
          "Trial #32<br>algorithm: lasso<br>alpha: 0.00026399630354087886<br><b>Objective Value: 0.9502797535996578</b>",
          "Trial #33<br>algorithm: lasso<br>alpha: 0.0008472387752849562<br><b>Objective Value: 0.9486362756580426</b>",
          "Trial #34<br>algorithm: lasso<br>alpha: 0.0003204788571913823<br><b>Objective Value: 0.9502759959747529</b>",
          "Trial #35<br>algorithm: ridge<br>alpha: 0.00024230102105339654<br><b>Objective Value: 0.9458054065930874</b>",
          "Trial #36<br>algorithm: lasso<br>alpha: 0.002615056478718971<br><b>Objective Value: 0.9427418045630881</b>",
          "Trial #37<br>algorithm: lasso<br>alpha: 0.0008701193893983413<br><b>Objective Value: 0.9485421626102486</b>",
          "Trial #38<br>algorithm: lasso<br>alpha: 0.009343031672547655<br><b>Objective Value: 0.9373437476773958</b>",
          "Trial #39<br>algorithm: ridge<br>alpha: 3.0896988698846903<br><b>Objective Value: 0.9485588883459293</b>",
          "Trial #40<br>algorithm: lasso<br>alpha: 0.0007487749013093245<br><b>Objective Value: 0.9490795432899979</b>",
          "Trial #41<br>algorithm: lasso<br>alpha: 0.00026577767050225043<br><b>Objective Value: 0.9502825368726407</b>",
          "Trial #42<br>algorithm: lasso<br>alpha: 0.00023634827143863648<br><b>Objective Value: 0.9502294508274328</b>",
          "Trial #43<br>algorithm: lasso<br>alpha: 0.002427898969308335<br><b>Objective Value: 0.9430131991735313</b>",
          "Trial #44<br>algorithm: lasso<br>alpha: 0.000325062047327948<br><b>Objective Value: 0.9502727641231721</b>",
          "Trial #45<br>algorithm: lasso<br>alpha: 0.0007138085942687639<br><b>Objective Value: 0.9492408791368658</b>",
          "Trial #46<br>algorithm: lasso<br>alpha: 0.001600153468480079<br><b>Objective Value: 0.9448349663520008</b>",
          "Trial #48<br>algorithm: lasso<br>alpha: 0.0001752770246621694<br><b>Objective Value: 0.9500862499579659</b>",
          "Trial #49<br>algorithm: lasso<br>alpha: 0.009528470841126065<br><b>Objective Value: 0.9371932960385145</b>",
          "Trial #50<br>algorithm: ridge<br>alpha: 0.4966722669613841<br><b>Objective Value: 0.9470141744249545</b>",
          "Trial #51<br>algorithm: lasso<br>alpha: 0.00022775953671817198<br><b>Objective Value: 0.9502119657115078</b>",
          "Trial #52<br>algorithm: lasso<br>alpha: 0.00010612659023547114<br><b>Objective Value: 0.949734434572683</b>",
          "Trial #53<br>algorithm: lasso<br>alpha: 0.0003830467672882016<br><b>Objective Value: 0.9501974068395576</b>",
          "Trial #54<br>algorithm: lasso<br>alpha: 0.00021627436540954526<br><b>Objective Value: 0.950190484820807</b>",
          "Trial #55<br>algorithm: lasso<br>alpha: 0.001445853412310756<br><b>Objective Value: 0.945629603904475</b>",
          "Trial #56<br>algorithm: lasso<br>alpha: 53.23092951617624<br><b>Objective Value: -0.029441307066881618</b>",
          "Trial #58<br>algorithm: lasso<br>alpha: 0.0006269662288422743<br><b>Objective Value: 0.9495661914710423</b>",
          "Trial #59<br>algorithm: lasso<br>alpha: 0.00029775083715590834<br><b>Objective Value: 0.9502879072815185</b>",
          "Trial #60<br>algorithm: lasso<br>alpha: 15.099326747885836<br><b>Objective Value: -0.029441307066881618</b>",
          "Trial #61<br>algorithm: lasso<br>alpha: 0.00016120434434155882<br><b>Objective Value: 0.9500333708547464</b>",
          "Trial #62<br>algorithm: lasso<br>alpha: 0.0003589828022351704<br><b>Objective Value: 0.9502370410586698</b>",
          "Trial #63<br>algorithm: lasso<br>alpha: 0.0003217979072940209<br><b>Objective Value: 0.9502750912961979</b>",
          "Trial #64<br>algorithm: lasso<br>alpha: 0.0011967427390884194<br><b>Objective Value: 0.9472882006945464</b>",
          "Trial #65<br>algorithm: lasso<br>alpha: 0.0005043219466697327<br><b>Objective Value: 0.9499221783577119</b>",
          "Trial #66<br>algorithm: lasso<br>alpha: 0.00014659589751746423<br><b>Objective Value: 0.9499614525388406</b>",
          "Trial #68<br>algorithm: lasso<br>alpha: 0.00032279050356379395<br><b>Objective Value: 0.9502742629973625</b>",
          "Trial #69<br>algorithm: lasso<br>alpha: 0.003229013154984103<br><b>Objective Value: 0.941854420726292</b>",
          "Trial #70<br>algorithm: lasso<br>alpha: 0.0009304375157316136<br><b>Objective Value: 0.9483040046031498</b>",
          "Trial #71<br>algorithm: lasso<br>alpha: 0.00032387498231343473<br><b>Objective Value: 0.9502735478038954</b>",
          "Trial #72<br>algorithm: lasso<br>alpha: 0.00010020749752970585<br><b>Objective Value: 0.9496698612945007</b>",
          "Trial #73<br>algorithm: lasso<br>alpha: 0.0004902540297799311<br><b>Objective Value: 0.9499618729169731</b>",
          "Trial #74<br>algorithm: lasso<br>alpha: 0.0002969173890045437<br><b>Objective Value: 0.9502883231525254</b>",
          "Trial #75<br>algorithm: lasso<br>alpha: 0.00028454678060790855<br><b>Objective Value: 0.9502953233147071</b>",
          "Trial #76<br>algorithm: ridge<br>alpha: 0.00016771658897848712<br><b>Objective Value: 0.9458050864155652</b>",
          "Trial #77<br>algorithm: lasso<br>alpha: 0.000578084982033051<br><b>Objective Value: 0.9497137160696887</b>",
          "Trial #78<br>algorithm: lasso<br>alpha: 0.0002650869138932816<br><b>Objective Value: 0.9502815924227817</b>",
          "Trial #79<br>algorithm: lasso<br>alpha: 0.0001529524006218151<br><b>Objective Value: 0.9499926313562599</b>",
          "Trial #80<br>algorithm: lasso<br>alpha: 0.0009624329368942344<br><b>Objective Value: 0.9481827933626569</b>",
          "Trial #81<br>algorithm: lasso<br>alpha: 0.00025615699836524443<br><b>Objective Value: 0.9502672109276192</b>",
          "Trial #82<br>algorithm: lasso<br>alpha: 0.0002775282989311552<br><b>Objective Value: 0.9502963988384143</b>",
          "Trial #83<br>algorithm: lasso<br>alpha: 0.001863957343085763<br><b>Objective Value: 0.9439723885844347</b>",
          "Trial #84<br>algorithm: lasso<br>alpha: 0.0005977110689793054<br><b>Objective Value: 0.9496589312348584</b>",
          "Trial #85<br>algorithm: lasso<br>alpha: 0.0002265048002483477<br><b>Objective Value: 0.9502098986541375</b>",
          "Trial #87<br>algorithm: lasso<br>alpha: 0.00014044844521037702<br><b>Objective Value: 0.9499303692169431</b>",
          "Trial #88<br>algorithm: ridge<br>alpha: 0.00043999444012187577<br><b>Objective Value: 0.9458062548545307</b>",
          "Trial #89<br>algorithm: lasso<br>alpha: 0.0011161328813483<br><b>Objective Value: 0.9476084501766951</b>",
          "Trial #90<br>algorithm: lasso<br>alpha: 0.00028182509069933046<br><b>Objective Value: 0.9502964822130379</b>",
          "Trial #91<br>algorithm: lasso<br>alpha: 0.00021910412365379805<br><b>Objective Value: 0.9501962444593653</b>",
          "Trial #92<br>algorithm: lasso<br>alpha: 0.00028892319193558495<br><b>Objective Value: 0.9502926907956504</b>",
          "Trial #93<br>algorithm: lasso<br>alpha: 0.00012601304274520566<br><b>Objective Value: 0.9498802105550059</b>",
          "Trial #94<br>algorithm: lasso<br>alpha: 0.0006867677082010171<br><b>Objective Value: 0.9493494195943446</b>",
          "Trial #95<br>algorithm: lasso<br>alpha: 0.10617565798782047<br><b>Objective Value: 0.6948625509417926</b>",
          "Trial #96<br>algorithm: lasso<br>alpha: 0.00026874245328880713<br><b>Objective Value: 0.9502862831182425</b>",
          "Trial #97<br>algorithm: lasso<br>alpha: 0.0001942292553580477<br><b>Objective Value: 0.9501449871277803</b>",
          "Trial #98<br>algorithm: lasso<br>alpha: 0.0004343961432539565<br><b>Objective Value: 0.9500888877970954</b>",
          "Trial #99<br>algorithm: lasso<br>alpha: 0.0002822324255457903<br><b>Objective Value: 0.9502964373402069</b>",
          "Trial #100<br>algorithm: lasso<br>alpha: 0.00010067470572454919<br><b>Objective Value: 0.9496753512755902</b>",
          "Trial #101<br>algorithm: lasso<br>alpha: 0.00024337137393535218<br><b>Objective Value: 0.9502449512569566</b>",
          "Trial #102<br>algorithm: lasso<br>alpha: 0.0002840324973679434<br><b>Objective Value: 0.9502955909186339</b>",
          "Trial #103<br>algorithm: lasso<br>alpha: 0.0004429356786116208<br><b>Objective Value: 0.9500715177401252</b>",
          "Trial #104<br>algorithm: lasso<br>alpha: 0.0006852289007676667<br><b>Objective Value: 0.9493553150559639</b>",
          "Trial #105<br>algorithm: lasso<br>alpha: 0.00016777305469109388<br><b>Objective Value: 0.9500636883309272</b>",
          "Trial #106<br>algorithm: lasso<br>alpha: 2.718674441824922<br><b>Objective Value: -0.029441307066881618</b>",
          "Trial #108<br>algorithm: lasso<br>alpha: 0.000290966147484301<br><b>Objective Value: 0.9502914624491947</b>",
          "Trial #109<br>algorithm: lasso<br>alpha: 0.0008154095304730813<br><b>Objective Value: 0.9487796957195679</b>",
          "Trial #110<br>algorithm: ridge<br>alpha: 0.00037199925344242533<br><b>Objective Value: 0.9458059631669112</b>",
          "Trial #111<br>algorithm: lasso<br>alpha: 0.0002628523102139585<br><b>Objective Value: 0.9502778163259922</b>",
          "Trial #112<br>algorithm: lasso<br>alpha: 0.0003044538444315895<br><b>Objective Value: 0.9502836280725976</b>",
          "Trial #113<br>algorithm: lasso<br>alpha: 0.0001869134239066806<br><b>Objective Value: 0.9501260316720657</b>",
          "Trial #114<br>algorithm: lasso<br>alpha: 0.0005452808403101624<br><b>Objective Value: 0.9498013443197497</b>",
          "Trial #115<br>algorithm: lasso<br>alpha: 0.0003030787208159202<br><b>Objective Value: 0.9502845562820639</b>",
          "Trial #116<br>algorithm: lasso<br>alpha: 0.0003421151990867715<br><b>Objective Value: 0.9502582588235127</b>",
          "Trial #117<br>algorithm: lasso<br>alpha: 0.00013966170638581<br><b>Objective Value: 0.9499275892013603</b>",
          "Trial #118<br>algorithm: lasso<br>alpha: 0.0017689970679156401<br><b>Objective Value: 0.9442351128117648</b>",
          "Trial #119<br>algorithm: lasso<br>alpha: 0.0004857680768819713<br><b>Objective Value: 0.9499741667505186</b>",
          "Trial #120<br>algorithm: lasso<br>alpha: 0.00019366385317210036<br><b>Objective Value: 0.9501437506612426</b>",
          "Trial #121<br>algorithm: lasso<br>alpha: 0.00029322512255107095<br><b>Objective Value: 0.9502898226246657</b>",
          "Trial #122<br>algorithm: lasso<br>alpha: 0.0003937165488046054<br><b>Objective Value: 0.950172458965406</b>",
          "Trial #123<br>algorithm: lasso<br>alpha: 0.00012651680490057297<br><b>Objective Value: 0.9498818867954568</b>",
          "Trial #124<br>algorithm: lasso<br>alpha: 0.00032284555737474547<br><b>Objective Value: 0.9502742213840186</b>",
          "Trial #125<br>algorithm: lasso<br>alpha: 0.0010093248243163574<br><b>Objective Value: 0.948010230424984</b>",
          "Trial #126<br>algorithm: lasso<br>alpha: 0.0006538962082803727<br><b>Objective Value: 0.9494725800498989</b>",
          "Trial #127<br>algorithm: lasso<br>alpha: 0.0002701530338719892<br><b>Objective Value: 0.9502881420877998</b>",
          "Trial #128<br>algorithm: lasso<br>alpha: 0.00018822987713131288<br><b>Objective Value: 0.9501299921214527</b>",
          "Trial #130<br>algorithm: lasso<br>alpha: 0.0005025161860693752<br><b>Objective Value: 0.9499275651962751</b>",
          "Trial #131<br>algorithm: lasso<br>alpha: 0.00030121839415697064<br><b>Objective Value: 0.9502859312054707</b>",
          "Trial #132<br>algorithm: lasso<br>alpha: 0.02760617308212424<br><b>Objective Value: 0.9090691608791975</b>",
          "Trial #133<br>algorithm: lasso<br>alpha: 0.0002755064260576385<br><b>Objective Value: 0.9502947964782023</b>",
          "Trial #134<br>algorithm: lasso<br>alpha: 0.00022243048023622906<br><b>Objective Value: 0.9502028187641546</b>",
          "Trial #135<br>algorithm: lasso<br>alpha: 0.00014320019113867708<br><b>Objective Value: 0.9499426420022609</b>",
          "Trial #136<br>algorithm: lasso<br>alpha: 0.00026866592038427895<br><b>Objective Value: 0.9502861840712985</b>",
          "Trial #137<br>algorithm: ridge<br>alpha: 0.0004309633494336917<br><b>Objective Value: 0.9458062161166941</b>",
          "Trial #138<br>algorithm: lasso<br>alpha: 0.00081294913853769<br><b>Objective Value: 0.9487904462388294</b>",
          "Trial #139<br>algorithm: lasso<br>alpha: 0.00020297584486418416<br><b>Objective Value: 0.9501620529377204</b>",
          "Trial #140<br>algorithm: lasso<br>alpha: 0.00012195713425037956<br><b>Objective Value: 0.9498618400883064</b>",
          "Trial #141<br>algorithm: lasso<br>alpha: 0.00025467710128659193<br><b>Objective Value: 0.9502649728528159</b>",
          "Trial #142<br>algorithm: lasso<br>alpha: 0.0003902292801053442<br><b>Objective Value: 0.9501802467301577</b>",
          "Trial #143<br>algorithm: lasso<br>alpha: 0.0005961379839180346<br><b>Objective Value: 0.9496636404874943</b>",
          "Trial #144<br>algorithm: lasso<br>alpha: 0.00025983379644265125<br><b>Objective Value: 0.9502726100328387</b>",
          "Trial #145<br>algorithm: lasso<br>alpha: 0.0001656791803098643<br><b>Objective Value: 0.9500547936860226</b>",
          "Trial #146<br>algorithm: lasso<br>alpha: 0.00029660077744154305<br><b>Objective Value: 0.9502884518718631</b>",
          "Trial #147<br>algorithm: lasso<br>alpha: 0.0004216013518661878<br><b>Objective Value: 0.9501140127607505</b>",
          "Trial #148<br>algorithm: lasso<br>alpha: 0.00019191268560575942<br><b>Objective Value: 0.9501396727282296</b>",
          "Trial #149<br>algorithm: lasso<br>alpha: 0.0005355609370130905<br><b>Objective Value: 0.949827142011346</b>",
          "Trial #150<br>algorithm: lasso<br>alpha: 0.7480710218510542<br><b>Objective Value: -0.029441307066881618</b>",
          "Trial #151<br>algorithm: lasso<br>alpha: 0.0002955668852217581<br><b>Objective Value: 0.950288785652028</b>",
          "Trial #152<br>algorithm: lasso<br>alpha: 0.0003179394162049563<br><b>Objective Value: 0.9502777437745561</b>",
          "Trial #153<br>algorithm: lasso<br>alpha: 0.0002572094482719987<br><b>Objective Value: 0.9502688139102728</b>",
          "Trial #154<br>algorithm: lasso<br>alpha: 0.00010234247253002118<br><b>Objective Value: 0.9496937107517626</b>",
          "Trial #155<br>algorithm: lasso<br>alpha: 0.00014965779743293767<br><b>Objective Value: 0.9499777480519768</b>",
          "Trial #156<br>algorithm: lasso<br>alpha: 0.00037700816190696225<br><b>Objective Value: 0.9502093537893714</b>",
          "Trial #158<br>algorithm: lasso<br>alpha: 0.0002121806487450387<br><b>Objective Value: 0.9501804859699942</b>",
          "Trial #159<br>algorithm: lasso<br>alpha: 0.0006328223055577282<br><b>Objective Value: 0.9495460997714975</b>",
          "Trial #160<br>algorithm: lasso<br>alpha: 0.00027951955384252825<br><b>Objective Value: 0.9502968446519408</b>",
          "Trial #161<br>algorithm: lasso<br>alpha: 0.0002939250037567679<br><b>Objective Value: 0.9502895965361698</b>",
          "Trial #162<br>algorithm: lasso<br>alpha: 0.00037385749754682466<br><b>Objective Value: 0.95021458199043</b>",
          "Trial #163<br>algorithm: lasso<br>alpha: 0.00046763996206561896<br><b>Objective Value: 0.9500186429126172</b>",
          "Trial #164<br>algorithm: lasso<br>alpha: 0.00017255223505524656<br><b>Objective Value: 0.9500779176060921</b>",
          "Trial #165<br>algorithm: lasso<br>alpha: 0.00026100557304665855<br><b>Objective Value: 0.9502745077404082</b>",
          "Trial #166<br>algorithm: ridge<br>alpha: 0.0003300537053842424<br><b>Objective Value: 0.9458057831934419</b>",
          "Trial #167<br>algorithm: lasso<br>alpha: 0.00021752221770842542<br><b>Objective Value: 0.9501930573225469</b>",
          "Trial #168<br>algorithm: lasso<br>alpha: 0.057297280198522024<br><b>Objective Value: 0.8389773364681945</b>",
          "Trial #169<br>algorithm: lasso<br>alpha: 0.0007982176804455926<br><b>Objective Value: 0.9488545491630855</b>",
          "Trial #170<br>algorithm: lasso<br>alpha: 0.008770629968123052<br><b>Objective Value: 0.9377778075045207</b>",
          "Trial #171<br>algorithm: lasso<br>alpha: 0.00026809135112437695<br><b>Objective Value: 0.9502854685127481</b>",
          "Trial #172<br>algorithm: lasso<br>alpha: 0.0003039866798920512<br><b>Objective Value: 0.9502839077510391</b>",
          "Trial #173<br>algorithm: lasso<br>alpha: 0.0001518658124315147<br><b>Objective Value: 0.9499869011042194</b>",
          "Trial #174<br>algorithm: lasso<br>alpha: 0.00046511836448988027<br><b>Objective Value: 0.9500245932051371</b>",
          "Trial #175<br>algorithm: lasso<br>alpha: 0.24295422841672976<br><b>Objective Value: 0.1865437329165439</b>",
          "Trial #176<br>algorithm: lasso<br>alpha: 0.00020070103964358482<br><b>Objective Value: 0.9501583632314036</b>",
          "Trial #177<br>algorithm: lasso<br>alpha: 0.0003836683208844992<br><b>Objective Value: 0.9501960247006522</b>",
          "Trial #178<br>algorithm: lasso<br>alpha: 0.0005881628083156323<br><b>Objective Value: 0.9496864576714318</b>",
          "Trial #179<br>algorithm: lasso<br>alpha: 0.00026630194727719005<br><b>Objective Value: 0.9502833222098073</b>",
          "Trial #180<br>algorithm: lasso<br>alpha: 0.00014231728344635378<br><b>Objective Value: 0.9499385532941413</b>",
          "Trial #181<br>algorithm: lasso<br>alpha: 0.0003085933070370752<br><b>Objective Value: 0.9502810360158491</b>",
          "Trial #182<br>algorithm: lasso<br>alpha: 0.0003051142591493016<br><b>Objective Value: 0.9502831710262434</b>",
          "Trial #183<br>algorithm: lasso<br>alpha: 0.00021599941049405656<br><b>Objective Value: 0.9501898279809267</b>",
          "Trial #184<br>algorithm: lasso<br>alpha: 0.0004154625288227434<br><b>Objective Value: 0.9501258403921616</b>",
          "Trial #185<br>algorithm: lasso<br>alpha: 0.00018413932309184442<br><b>Objective Value: 0.9501172861556331</b>",
          "Trial #186<br>algorithm: lasso<br>alpha: 0.00029593987834829297<br><b>Objective Value: 0.950288642837411</b>",
          "Trial #187<br>algorithm: lasso<br>alpha: 0.0005140786592218493<br><b>Objective Value: 0.9498915102678985</b>",
          "Trial #189<br>algorithm: lasso<br>alpha: 0.00022947095032263697<br><b>Objective Value: 0.9502152651959875</b>",
          "Trial #190<br>algorithm: lasso<br>alpha: 0.0003771917449846884<br><b>Objective Value: 0.9502090690343031</b>",
          "Trial #191<br>algorithm: lasso<br>alpha: 0.0002628651681789406<br><b>Objective Value: 0.9502778394616301</b>",
          "Trial #192<br>algorithm: lasso<br>alpha: 0.00033338137422522654<br><b>Objective Value: 0.950266037079577</b>",
          "Trial #193<br>algorithm: lasso<br>alpha: 0.00017477919220651886<br><b>Objective Value: 0.9500845330420139</b>",
          "Trial #194<br>algorithm: lasso<br>alpha: 0.0002668231958810487<br><b>Objective Value: 0.9502840671126596</b>",
          "Trial #195<br>algorithm: lasso<br>alpha: 0.0005009178284093929<br><b>Objective Value: 0.9499323646692229</b>",
          "Trial #196<br>algorithm: lasso<br>alpha: 0.00012855378397921287<br><b>Objective Value: 0.9498876175942407</b>",
          "Trial #197<br>algorithm: lasso<br>alpha: 0.00034571676369411016<br><b>Objective Value: 0.950254088504817</b>",
          "Trial #198<br>algorithm: lasso<br>alpha: 0.00020514835456026157<br><b>Objective Value: 0.9501658812790701</b>",
          "Trial #199<br>algorithm: ridge<br>alpha: 0.00028929130728814323<br><b>Objective Value: 0.9458056082713616</b>"
         ],
         "marker": {
          "color": [
           "rgb(150.0, 200.0, 224.0)",
           "rgb(86.0, 137.0, 190.0)",
           "rgb(139.0, 191.0, 219.0)",
           "rgb(155.0, 204.0, 226.0)",
           "rgb(206.0, 234.0, 243.0)",
           "rgb(74.0, 123.0, 183.0)",
           "rgb(255.0, 240.0, 169.0)",
           "rgb(58.0, 82.0, 163.0)",
           "rgb(254.0, 226.0, 147.0)",
           "rgb(234.0, 247.0, 230.0)",
           "rgb(229.0, 245.0, 238.0)",
           "rgb(158.0, 207.0, 227.0)",
           "rgb(109.0, 165.0, 205.0)",
           "rgb(66.0, 108.0, 175.0)",
           "rgb(250.0, 152.0, 87.0)",
           "rgb(62.0, 95.0, 169.0)",
           "rgb(90.0, 143.0, 193.0)",
           "rgb(248.0, 136.0, 79.0)",
           "rgb(248.0, 139.0, 81.0)",
           "rgb(255.0, 253.0, 187.0)",
           "rgb(88.0, 140.0, 192.0)",
           "rgb(254.0, 239.0, 166.0)",
           "rgb(72.0, 120.0, 182.0)",
           "rgb(100.0, 154.0, 199.0)",
           "rgb(128.0, 182.0, 214.0)",
           "rgb(141.0, 193.0, 220.0)",
           "rgb(228.0, 244.0, 241.0)",
           "rgb(230.0, 79.0, 53.0)",
           "rgb(177.0, 220.0, 235.0)",
           "rgb(236.0, 91.0, 59.0)",
           "rgb(119.0, 176.0, 210.0)",
           "rgb(95.0, 148.0, 196.0)",
           "rgb(172.0, 217.0, 233.0)",
           "rgb(81.0, 131.0, 187.0)",
           "rgb(174.0, 219.0, 234.0)",
           "rgb(188.0, 225.0, 238.0)",
           "rgb(225.0, 70.0, 49.0)",
           "rgb(250.0, 149.0, 85.0)",
           "rgb(98.0, 151.0, 198.0)",
           "rgb(244.0, 110.0, 67.0)",
           "rgb(190.0, 227.0, 239.0)",
           "rgb(107.0, 162.0, 203.0)",
           "rgb(254.0, 229.0, 152.0)",
           "rgb(79.0, 129.0, 186.0)",
           "rgb(147.0, 198.0, 223.0)",
           "rgb(251.0, 162.0, 91.0)",
           "rgb(226.0, 244.0, 244.0)",
           "rgb(253.0, 177.0, 100.0)",
           "rgb(253.0, 187.0, 110.0)",
           "rgb(112.0, 168.0, 206.0)",
           "rgb(58.0, 82.0, 163.0)",
           "rgb(204.0, 233.0, 242.0)",
           "rgb(205.0, 39.0, 39.0)",
           "rgb(58.0, 82.0, 163.0)",
           "rgb(255.0, 242.0, 171.0)",
           "rgb(249.0, 146.0, 84.0)",
           "rgb(237.0, 94.0, 60.0)",
           "rgb(152.0, 202.0, 225.0)",
           "rgb(243.0, 250.0, 212.0)",
           "rgb(254.0, 255.0, 192.0)",
           "rgb(240.0, 100.0, 63.0)",
           "rgb(93.0, 145.0, 195.0)",
           "rgb(169.0, 215.0, 232.0)",
           "rgb(243.0, 107.0, 66.0)",
           "rgb(214.0, 238.0, 245.0)",
           "rgb(255.0, 254.0, 190.0)",
           "rgb(200.0, 34.0, 39.0)",
           "rgb(178.0, 12.0, 38.0)",
           "rgb(117.0, 173.0, 209.0)",
           "rgb(225.0, 243.0, 247.0)",
           "rgb(227.0, 73.0, 50.0)",
           "rgb(255.0, 246.0, 178.0)",
           "rgb(166.0, 213.0, 231.0)",
           "rgb(245.0, 119.0, 72.0)",
           "rgb(173.0, 7.0, 38.0)",
           "rgb(102.0, 157.0, 201.0)",
           "rgb(209.0, 236.0, 244.0)",
           "rgb(252.0, 165.0, 93.0)",
           "rgb(248.0, 252.0, 204.0)",
           "rgb(136.0, 189.0, 218.0)",
           "rgb(161.0, 209.0, 229.0)",
           "rgb(168.0, 2.0, 38.0)",
           "rgb(253.0, 180.0, 102.0)",
           "rgb(183.0, 17.0, 38.0)",
           "rgb(237.0, 248.0, 224.0)",
           "rgb(193.0, 228.0, 239.0)",
           "rgb(63.0, 98.0, 171.0)",
           "rgb(208.0, 41.0, 39.0)",
           "rgb(254.0, 207.0, 128.0)",
           "rgb(254.0, 228.0, 150.0)",
           "rgb(170.0, 5.0, 38.0)",
           "rgb(217.0, 240.0, 246.0)",
           "rgb(249.0, 142.0, 82.0)",
           "rgb(175.0, 10.0, 38.0)",
           "rgb(254.0, 234.0, 159.0)",
           "rgb(196.0, 229.0, 240.0)",
           "rgb(254.0, 236.0, 161.0)",
           "rgb(58.0, 82.0, 163.0)",
           "rgb(185.0, 19.0, 38.0)",
           "rgb(180.0, 221.0, 235.0)",
           "rgb(130.0, 184.0, 215.0)",
           "rgb(233.0, 85.0, 56.0)",
           "rgb(221.0, 61.0, 45.0)",
           "rgb(254.0, 217.0, 138.0)",
           "rgb(231.0, 246.0, 235.0)",
           "rgb(217.0, 51.0, 41.0)",
           "rgb(247.0, 129.0, 76.0)",
           "rgb(246.0, 252.0, 207.0)",
           "rgb(105.0, 159.0, 202.0)",
           "rgb(255.0, 251.0, 185.0)",
           "rgb(254.0, 210.0, 131.0)",
           "rgb(188.0, 22.0, 38.0)",
           "rgb(253.0, 197.0, 119.0)",
           "rgb(239.0, 249.0, 221.0)",
           "rgb(241.0, 103.0, 64.0)",
           "rgb(164.0, 211.0, 230.0)",
           "rgb(198.0, 230.0, 241.0)",
           "rgb(203.0, 36.0, 39.0)",
           "rgb(254.0, 215.0, 135.0)",
           "rgb(245.0, 251.0, 210.0)",
           "rgb(213.0, 46.0, 39.0)",
           "rgb(68.0, 114.0, 179.0)",
           "rgb(180.0, 14.0, 38.0)",
           "rgb(253.0, 175.0, 98.0)",
           "rgb(253.0, 254.0, 195.0)",
           "rgb(210.0, 43.0, 39.0)",
           "rgb(133.0, 187.0, 216.0)",
           "rgb(182.0, 223.0, 236.0)",
           "rgb(254.0, 202.0, 124.0)",
           "rgb(236.0, 247.0, 227.0)",
           "rgb(246.0, 126.0, 75.0)",
           "rgb(253.0, 195.0, 117.0)",
           "rgb(212.0, 237.0, 245.0)",
           "rgb(245.0, 113.0, 69.0)",
           "rgb(254.0, 237.0, 164.0)",
           "rgb(198.0, 31.0, 39.0)",
           "rgb(254.0, 225.0, 145.0)",
           "rgb(254.0, 212.0, 133.0)",
           "rgb(232.0, 246.0, 233.0)",
           "rgb(58.0, 82.0, 163.0)",
           "rgb(193.0, 27.0, 39.0)",
           "rgb(234.0, 88.0, 57.0)",
           "rgb(245.0, 116.0, 70.0)",
           "rgb(222.0, 242.0, 248.0)",
           "rgb(255.0, 250.0, 183.0)",
           "rgb(252.0, 168.0, 94.0)",
           "rgb(253.0, 192.0, 114.0)",
           "rgb(201.0, 232.0, 242.0)",
           "rgb(165.0, 0.0, 38.0)",
           "rgb(190.0, 24.0, 39.0)",
           "rgb(251.0, 159.0, 90.0)",
           "rgb(255.0, 245.0, 176.0)",
           "rgb(254.0, 232.0, 157.0)",
           "rgb(238.0, 97.0, 62.0)",
           "rgb(125.0, 180.0, 213.0)",
           "rgb(253.0, 185.0, 107.0)",
           "rgb(64.0, 101.0, 172.0)",
           "rgb(185.0, 224.0, 237.0)",
           "rgb(83.0, 134.0, 189.0)",
           "rgb(215.0, 48.0, 39.0)",
           "rgb(220.0, 58.0, 43.0)",
           "rgb(255.0, 248.0, 180.0)",
           "rgb(255.0, 243.0, 173.0)",
           "rgb(61.0, 92.0, 168.0)",
           "rgb(254.0, 205.0, 126.0)",
           "rgb(253.0, 182.0, 105.0)",
           "rgb(220.0, 241.0, 247.0)",
           "rgb(222.0, 64.0, 46.0)",
           "rgb(251.0, 253.0, 198.0)",
           "rgb(228.0, 76.0, 52.0)",
           "rgb(224.0, 67.0, 48.0)",
           "rgb(253.0, 190.0, 112.0)",
           "rgb(254.0, 220.0, 140.0)",
           "rgb(254.0, 222.0, 143.0)",
           "rgb(195.0, 29.0, 39.0)",
           "rgb(242.0, 250.0, 215.0)",
           "rgb(250.0, 155.0, 88.0)",
           "rgb(253.0, 172.0, 96.0)",
           "rgb(231.0, 82.0, 55.0)",
           "rgb(246.0, 123.0, 73.0)",
           "rgb(254.0, 231.0, 154.0)",
           "rgb(218.0, 54.0, 42.0)",
           "rgb(250.0, 253.0, 201.0)",
           "rgb(240.0, 249.0, 218.0)",
           "rgb(247.0, 133.0, 78.0)",
           "rgb(254.0, 200.0, 121.0)",
           "rgb(122.0, 178.0, 212.0)"
          ],
          "line": {
           "color": "Grey",
           "width": 0.5
          }
         },
         "mode": "markers",
         "showlegend": false,
         "type": "scatter",
         "x": [
          0.6010505222092465,
          0.006162467158491157,
          0.001244729405956262,
          0.7759373016028097,
          31.29323725185007,
          0.016555231662187374,
          0.0004582749531777171,
          5.534750298353362,
          0.00017637287605472746,
          0.00011995197253262029,
          0.00011207889164253218,
          0.0011740965051880814,
          0.0015503076984355424,
          0.03649585335839899,
          0.0003726843301350919,
          0.20023362384311136,
          0.004216169019651566,
          0.00034608379326552273,
          0.00024482064135119533,
          0.000487776516858514,
          0.005239588389351667,
          0.0004550420502021263,
          0.02091016333584503,
          0.002367137437004208,
          0.0003508193855269366,
          0.07419825096515736,
          0.0001098338559889162,
          0.00026399630354087886,
          0.0008472387752849562,
          0.0003204788571913823,
          0.00024230102105339654,
          0.002615056478718971,
          0.0008701193893983413,
          0.009343031672547655,
          3.0896988698846903,
          0.0007487749013093245,
          0.00026577767050225043,
          0.00023634827143863648,
          0.002427898969308335,
          0.000325062047327948,
          0.0007138085942687639,
          0.001600153468480079,
          0.0001752770246621694,
          0.009528470841126065,
          0.4966722669613841,
          0.00022775953671817198,
          0.00010612659023547114,
          0.0003830467672882016,
          0.00021627436540954526,
          0.001445853412310756,
          53.23092951617624,
          0.0006269662288422743,
          0.00029775083715590834,
          15.099326747885836,
          0.00016120434434155882,
          0.0003589828022351704,
          0.0003217979072940209,
          0.0011967427390884194,
          0.0005043219466697327,
          0.00014659589751746423,
          0.00032279050356379395,
          0.003229013154984103,
          0.0009304375157316136,
          0.00032387498231343473,
          0.00010020749752970585,
          0.0004902540297799311,
          0.0002969173890045437,
          0.00028454678060790855,
          0.00016771658897848712,
          0.000578084982033051,
          0.0002650869138932816,
          0.0001529524006218151,
          0.0009624329368942344,
          0.00025615699836524443,
          0.0002775282989311552,
          0.001863957343085763,
          0.0005977110689793054,
          0.0002265048002483477,
          0.00014044844521037702,
          0.00043999444012187577,
          0.0011161328813483,
          0.00028182509069933046,
          0.00021910412365379805,
          0.00028892319193558495,
          0.00012601304274520566,
          0.0006867677082010171,
          0.10617565798782047,
          0.00026874245328880713,
          0.0001942292553580477,
          0.0004343961432539565,
          0.0002822324255457903,
          0.00010067470572454919,
          0.00024337137393535218,
          0.0002840324973679434,
          0.0004429356786116208,
          0.0006852289007676667,
          0.00016777305469109388,
          2.718674441824922,
          0.000290966147484301,
          0.0008154095304730813,
          0.00037199925344242533,
          0.0002628523102139585,
          0.0003044538444315895,
          0.0001869134239066806,
          0.0005452808403101624,
          0.0003030787208159202,
          0.0003421151990867715,
          0.00013966170638581,
          0.0017689970679156401,
          0.0004857680768819713,
          0.00019366385317210036,
          0.00029322512255107095,
          0.0003937165488046054,
          0.00012651680490057297,
          0.00032284555737474547,
          0.0010093248243163574,
          0.0006538962082803727,
          0.0002701530338719892,
          0.00018822987713131288,
          0.0005025161860693752,
          0.00030121839415697064,
          0.02760617308212424,
          0.0002755064260576385,
          0.00022243048023622906,
          0.00014320019113867708,
          0.00026866592038427895,
          0.0004309633494336917,
          0.00081294913853769,
          0.00020297584486418416,
          0.00012195713425037956,
          0.00025467710128659193,
          0.0003902292801053442,
          0.0005961379839180346,
          0.00025983379644265125,
          0.0001656791803098643,
          0.00029660077744154305,
          0.0004216013518661878,
          0.00019191268560575942,
          0.0005355609370130905,
          0.7480710218510542,
          0.0002955668852217581,
          0.0003179394162049563,
          0.0002572094482719987,
          0.00010234247253002118,
          0.00014965779743293767,
          0.00037700816190696225,
          0.0002121806487450387,
          0.0006328223055577282,
          0.00027951955384252825,
          0.0002939250037567679,
          0.00037385749754682466,
          0.00046763996206561896,
          0.00017255223505524656,
          0.00026100557304665855,
          0.0003300537053842424,
          0.00021752221770842542,
          0.057297280198522024,
          0.0007982176804455926,
          0.008770629968123052,
          0.00026809135112437695,
          0.0003039866798920512,
          0.0001518658124315147,
          0.00046511836448988027,
          0.24295422841672976,
          0.00020070103964358482,
          0.0003836683208844992,
          0.0005881628083156323,
          0.00026630194727719005,
          0.00014231728344635378,
          0.0003085933070370752,
          0.0003051142591493016,
          0.00021599941049405656,
          0.0004154625288227434,
          0.00018413932309184442,
          0.00029593987834829297,
          0.0005140786592218493,
          0.00022947095032263697,
          0.0003771917449846884,
          0.0002628651681789406,
          0.00033338137422522654,
          0.00017477919220651886,
          0.0002668231958810487,
          0.0005009178284093929,
          0.00012855378397921287,
          0.00034571676369411016,
          0.00020514835456026157,
          0.00028929130728814323
         ],
         "xaxis": "x9",
         "y": [
          0.6010505222092465,
          0.006162467158491157,
          0.001244729405956262,
          0.7759373016028097,
          31.29323725185007,
          0.016555231662187374,
          0.0004582749531777171,
          5.534750298353362,
          0.00017637287605472746,
          0.00011995197253262029,
          0.00011207889164253218,
          0.0011740965051880814,
          0.0015503076984355424,
          0.03649585335839899,
          0.0003726843301350919,
          0.20023362384311136,
          0.004216169019651566,
          0.00034608379326552273,
          0.00024482064135119533,
          0.000487776516858514,
          0.005239588389351667,
          0.0004550420502021263,
          0.02091016333584503,
          0.002367137437004208,
          0.0003508193855269366,
          0.07419825096515736,
          0.0001098338559889162,
          0.00026399630354087886,
          0.0008472387752849562,
          0.0003204788571913823,
          0.00024230102105339654,
          0.002615056478718971,
          0.0008701193893983413,
          0.009343031672547655,
          3.0896988698846903,
          0.0007487749013093245,
          0.00026577767050225043,
          0.00023634827143863648,
          0.002427898969308335,
          0.000325062047327948,
          0.0007138085942687639,
          0.001600153468480079,
          0.0001752770246621694,
          0.009528470841126065,
          0.4966722669613841,
          0.00022775953671817198,
          0.00010612659023547114,
          0.0003830467672882016,
          0.00021627436540954526,
          0.001445853412310756,
          53.23092951617624,
          0.0006269662288422743,
          0.00029775083715590834,
          15.099326747885836,
          0.00016120434434155882,
          0.0003589828022351704,
          0.0003217979072940209,
          0.0011967427390884194,
          0.0005043219466697327,
          0.00014659589751746423,
          0.00032279050356379395,
          0.003229013154984103,
          0.0009304375157316136,
          0.00032387498231343473,
          0.00010020749752970585,
          0.0004902540297799311,
          0.0002969173890045437,
          0.00028454678060790855,
          0.00016771658897848712,
          0.000578084982033051,
          0.0002650869138932816,
          0.0001529524006218151,
          0.0009624329368942344,
          0.00025615699836524443,
          0.0002775282989311552,
          0.001863957343085763,
          0.0005977110689793054,
          0.0002265048002483477,
          0.00014044844521037702,
          0.00043999444012187577,
          0.0011161328813483,
          0.00028182509069933046,
          0.00021910412365379805,
          0.00028892319193558495,
          0.00012601304274520566,
          0.0006867677082010171,
          0.10617565798782047,
          0.00026874245328880713,
          0.0001942292553580477,
          0.0004343961432539565,
          0.0002822324255457903,
          0.00010067470572454919,
          0.00024337137393535218,
          0.0002840324973679434,
          0.0004429356786116208,
          0.0006852289007676667,
          0.00016777305469109388,
          2.718674441824922,
          0.000290966147484301,
          0.0008154095304730813,
          0.00037199925344242533,
          0.0002628523102139585,
          0.0003044538444315895,
          0.0001869134239066806,
          0.0005452808403101624,
          0.0003030787208159202,
          0.0003421151990867715,
          0.00013966170638581,
          0.0017689970679156401,
          0.0004857680768819713,
          0.00019366385317210036,
          0.00029322512255107095,
          0.0003937165488046054,
          0.00012651680490057297,
          0.00032284555737474547,
          0.0010093248243163574,
          0.0006538962082803727,
          0.0002701530338719892,
          0.00018822987713131288,
          0.0005025161860693752,
          0.00030121839415697064,
          0.02760617308212424,
          0.0002755064260576385,
          0.00022243048023622906,
          0.00014320019113867708,
          0.00026866592038427895,
          0.0004309633494336917,
          0.00081294913853769,
          0.00020297584486418416,
          0.00012195713425037956,
          0.00025467710128659193,
          0.0003902292801053442,
          0.0005961379839180346,
          0.00025983379644265125,
          0.0001656791803098643,
          0.00029660077744154305,
          0.0004216013518661878,
          0.00019191268560575942,
          0.0005355609370130905,
          0.7480710218510542,
          0.0002955668852217581,
          0.0003179394162049563,
          0.0002572094482719987,
          0.00010234247253002118,
          0.00014965779743293767,
          0.00037700816190696225,
          0.0002121806487450387,
          0.0006328223055577282,
          0.00027951955384252825,
          0.0002939250037567679,
          0.00037385749754682466,
          0.00046763996206561896,
          0.00017255223505524656,
          0.00026100557304665855,
          0.0003300537053842424,
          0.00021752221770842542,
          0.057297280198522024,
          0.0007982176804455926,
          0.008770629968123052,
          0.00026809135112437695,
          0.0003039866798920512,
          0.0001518658124315147,
          0.00046511836448988027,
          0.24295422841672976,
          0.00020070103964358482,
          0.0003836683208844992,
          0.0005881628083156323,
          0.00026630194727719005,
          0.00014231728344635378,
          0.0003085933070370752,
          0.0003051142591493016,
          0.00021599941049405656,
          0.0004154625288227434,
          0.00018413932309184442,
          0.00029593987834829297,
          0.0005140786592218493,
          0.00022947095032263697,
          0.0003771917449846884,
          0.0002628651681789406,
          0.00033338137422522654,
          0.00017477919220651886,
          0.0002668231958810487,
          0.0005009178284093929,
          0.00012855378397921287,
          0.00034571676369411016,
          0.00020514835456026157,
          0.00028929130728814323
         ],
         "yaxis": "y9"
        },
        {
         "hovertemplate": "%{hovertext}<extra></extra>",
         "hovertext": [],
         "marker": {
          "color": [],
          "line": {
           "color": "Grey",
           "width": 0.5
          }
         },
         "mode": "markers",
         "showlegend": false,
         "type": "scatter",
         "x": [],
         "xaxis": "x16",
         "y": [],
         "yaxis": "y16"
        },
        {
         "hovertemplate": "%{hovertext}<extra></extra>",
         "hovertext": [],
         "marker": {
          "color": [],
          "line": {
           "color": "Grey",
           "width": 0.5
          }
         },
         "mode": "markers",
         "showlegend": false,
         "type": "scatter",
         "x": [],
         "xaxis": "x23",
         "y": [],
         "yaxis": "y23"
        },
        {
         "hovertemplate": "%{hovertext}<extra></extra>",
         "hovertext": [],
         "marker": {
          "color": [],
          "line": {
           "color": "Grey",
           "width": 0.5
          }
         },
         "mode": "markers",
         "showlegend": false,
         "type": "scatter",
         "x": [],
         "xaxis": "x30",
         "y": [],
         "yaxis": "y30"
        },
        {
         "hovertemplate": "%{hovertext}<extra></extra>",
         "hovertext": [],
         "marker": {
          "color": [],
          "line": {
           "color": "Grey",
           "width": 0.5
          }
         },
         "mode": "markers",
         "showlegend": false,
         "type": "scatter",
         "x": [],
         "xaxis": "x37",
         "y": [],
         "yaxis": "y37"
        },
        {
         "hovertemplate": "%{hovertext}<extra></extra>",
         "hovertext": [],
         "marker": {
          "color": [],
          "line": {
           "color": "Grey",
           "width": 0.5
          }
         },
         "mode": "markers",
         "showlegend": false,
         "type": "scatter",
         "x": [],
         "xaxis": "x44",
         "y": [],
         "yaxis": "y44"
        },
        {
         "hovertemplate": "%{hovertext}<extra></extra>",
         "hovertext": [
          "Trial #8<br>algorithm: xgb<br>learning_rate: 0.0016114400564732941<br>max_depth: 10<br>subsample: 0.8558105105039219<br>colsample_bytree: 0.2965777047582458<br>min_child_weight: 9<br><b>Objective Value: -5.373464236107701</b>",
          "Trial #10<br>algorithm: xgb<br>learning_rate: 0.07748571364848593<br>max_depth: 1<br>subsample: 0.1081539403017378<br>colsample_bytree: 0.8774623283402829<br>min_child_weight: 20<br><b>Objective Value: 0.9057358214629305</b>",
          "Trial #16<br>algorithm: xgb<br>learning_rate: 0.0001093221261079389<br>max_depth: 6<br>subsample: 0.9975559933333737<br>colsample_bytree: 0.08773403630454318<br>min_child_weight: 1<br><b>Objective Value: -6.669394335705886</b>",
          "Trial #19<br>algorithm: xgb<br>learning_rate: 0.08019600545172129<br>max_depth: 1<br>subsample: 0.06393922828854465<br>colsample_bytree: 0.9630028278354485<br>min_child_weight: 20<br><b>Objective Value: 0.8811693917915496</b>",
          "Trial #29<br>algorithm: xgb<br>learning_rate: 0.0023166212634019153<br>max_depth: 10<br>subsample: 0.5235492940540687<br>colsample_bytree: 0.6157251098470551<br>min_child_weight: 10<br><b>Objective Value: -2.8957501035877273</b>",
          "Trial #47<br>algorithm: xgb<br>learning_rate: 0.00011521087399364599<br>max_depth: 6<br>subsample: 0.5277084716528383<br>colsample_bytree: 0.5662117236927399<br>min_child_weight: 1<br><b>Objective Value: -6.669368157650402</b>",
          "Trial #57<br>algorithm: xgb<br>learning_rate: 0.011236477438678406<br>max_depth: 4<br>subsample: 0.41151468106452377<br>colsample_bytree: 0.330480957357973<br>min_child_weight: 15<br><b>Objective Value: 0.9362219094296959</b>",
          "Trial #67<br>algorithm: xgb<br>learning_rate: 0.0005787891082612613<br>max_depth: 3<br>subsample: 0.7512158659814847<br>colsample_bytree: 0.7802016742983691<br>min_child_weight: 5<br><b>Objective Value: -6.649379579649593</b>",
          "Trial #86<br>algorithm: xgb<br>learning_rate: 0.01240560912844289<br>max_depth: 8<br>subsample: 0.2704974479544986<br>colsample_bytree: 0.061997530866703454<br>min_child_weight: 15<br><b>Objective Value: 0.9113729713455464</b>",
          "Trial #107<br>algorithm: xgb<br>learning_rate: 0.010250741887711978<br>max_depth: 8<br>subsample: 0.699136270124052<br>colsample_bytree: 0.34676345983827406<br>min_child_weight: 6<br><b>Objective Value: 0.9456992597139712</b>",
          "Trial #129<br>algorithm: xgb<br>learning_rate: 0.00037758996511927124<br>max_depth: 3<br>subsample: 0.2213408681389885<br>colsample_bytree: 0.7364584373058741<br>min_child_weight: 15<br><b>Objective Value: -6.665047997522985</b>",
          "Trial #157<br>algorithm: xgb<br>learning_rate: 0.000484744276997372<br>max_depth: 8<br>subsample: 0.9855479934166286<br>colsample_bytree: 0.4680410649317334<br>min_child_weight: 5<br><b>Objective Value: -6.658982618518887</b>",
          "Trial #188<br>algorithm: xgb<br>learning_rate: 0.022432477519196928<br>max_depth: 5<br>subsample: 0.5819591447885447<br>colsample_bytree: 0.1949715272549276<br>min_child_weight: 13<br><b>Objective Value: 0.9467614990364478</b>"
         ],
         "marker": {
          "color": [
           "rgb(54.0, 70.0, 157.0)",
           "rgb(67.0, 111.0, 177.0)",
           "rgb(49.0, 54.0, 149.0)",
           "rgb(65.0, 105.0, 174.0)",
           "rgb(55.0, 73.0, 158.0)",
           "rgb(50.0, 57.0, 151.0)",
           "rgb(76.0, 126.0, 185.0)",
           "rgb(53.0, 67.0, 155.0)",
           "rgb(69.0, 117.0, 180.0)",
           "rgb(114.0, 171.0, 208.0)",
           "rgb(51.0, 60.0, 152.0)",
           "rgb(52.0, 63.0, 154.0)",
           "rgb(144.0, 196.0, 221.0)"
          ],
          "line": {
           "color": "Grey",
           "width": 0.5
          }
         },
         "mode": "markers",
         "showlegend": false,
         "type": "scatter",
         "x": [
          0.2965777047582458,
          0.8774623283402829,
          0.08773403630454318,
          0.9630028278354485,
          0.6157251098470551,
          0.5662117236927399,
          0.330480957357973,
          0.7802016742983691,
          0.061997530866703454,
          0.34676345983827406,
          0.7364584373058741,
          0.4680410649317334,
          0.1949715272549276
         ],
         "xaxis": "x3",
         "y": [
          "xgb",
          "xgb",
          "xgb",
          "xgb",
          "xgb",
          "xgb",
          "xgb",
          "xgb",
          "xgb",
          "xgb",
          "xgb",
          "xgb",
          "xgb"
         ],
         "yaxis": "y3"
        },
        {
         "hovertemplate": "%{hovertext}<extra></extra>",
         "hovertext": [],
         "marker": {
          "color": [],
          "line": {
           "color": "Grey",
           "width": 0.5
          }
         },
         "mode": "markers",
         "showlegend": false,
         "type": "scatter",
         "x": [],
         "xaxis": "x10",
         "y": [],
         "yaxis": "y10"
        },
        {
         "hovertemplate": "%{hovertext}<extra></extra>",
         "hovertext": [
          "Trial #8<br>algorithm: xgb<br>learning_rate: 0.0016114400564732941<br>max_depth: 10<br>subsample: 0.8558105105039219<br>colsample_bytree: 0.2965777047582458<br>min_child_weight: 9<br><b>Objective Value: -5.373464236107701</b>",
          "Trial #10<br>algorithm: xgb<br>learning_rate: 0.07748571364848593<br>max_depth: 1<br>subsample: 0.1081539403017378<br>colsample_bytree: 0.8774623283402829<br>min_child_weight: 20<br><b>Objective Value: 0.9057358214629305</b>",
          "Trial #16<br>algorithm: xgb<br>learning_rate: 0.0001093221261079389<br>max_depth: 6<br>subsample: 0.9975559933333737<br>colsample_bytree: 0.08773403630454318<br>min_child_weight: 1<br><b>Objective Value: -6.669394335705886</b>",
          "Trial #19<br>algorithm: xgb<br>learning_rate: 0.08019600545172129<br>max_depth: 1<br>subsample: 0.06393922828854465<br>colsample_bytree: 0.9630028278354485<br>min_child_weight: 20<br><b>Objective Value: 0.8811693917915496</b>",
          "Trial #29<br>algorithm: xgb<br>learning_rate: 0.0023166212634019153<br>max_depth: 10<br>subsample: 0.5235492940540687<br>colsample_bytree: 0.6157251098470551<br>min_child_weight: 10<br><b>Objective Value: -2.8957501035877273</b>",
          "Trial #47<br>algorithm: xgb<br>learning_rate: 0.00011521087399364599<br>max_depth: 6<br>subsample: 0.5277084716528383<br>colsample_bytree: 0.5662117236927399<br>min_child_weight: 1<br><b>Objective Value: -6.669368157650402</b>",
          "Trial #57<br>algorithm: xgb<br>learning_rate: 0.011236477438678406<br>max_depth: 4<br>subsample: 0.41151468106452377<br>colsample_bytree: 0.330480957357973<br>min_child_weight: 15<br><b>Objective Value: 0.9362219094296959</b>",
          "Trial #67<br>algorithm: xgb<br>learning_rate: 0.0005787891082612613<br>max_depth: 3<br>subsample: 0.7512158659814847<br>colsample_bytree: 0.7802016742983691<br>min_child_weight: 5<br><b>Objective Value: -6.649379579649593</b>",
          "Trial #86<br>algorithm: xgb<br>learning_rate: 0.01240560912844289<br>max_depth: 8<br>subsample: 0.2704974479544986<br>colsample_bytree: 0.061997530866703454<br>min_child_weight: 15<br><b>Objective Value: 0.9113729713455464</b>",
          "Trial #107<br>algorithm: xgb<br>learning_rate: 0.010250741887711978<br>max_depth: 8<br>subsample: 0.699136270124052<br>colsample_bytree: 0.34676345983827406<br>min_child_weight: 6<br><b>Objective Value: 0.9456992597139712</b>",
          "Trial #129<br>algorithm: xgb<br>learning_rate: 0.00037758996511927124<br>max_depth: 3<br>subsample: 0.2213408681389885<br>colsample_bytree: 0.7364584373058741<br>min_child_weight: 15<br><b>Objective Value: -6.665047997522985</b>",
          "Trial #157<br>algorithm: xgb<br>learning_rate: 0.000484744276997372<br>max_depth: 8<br>subsample: 0.9855479934166286<br>colsample_bytree: 0.4680410649317334<br>min_child_weight: 5<br><b>Objective Value: -6.658982618518887</b>",
          "Trial #188<br>algorithm: xgb<br>learning_rate: 0.022432477519196928<br>max_depth: 5<br>subsample: 0.5819591447885447<br>colsample_bytree: 0.1949715272549276<br>min_child_weight: 13<br><b>Objective Value: 0.9467614990364478</b>"
         ],
         "marker": {
          "color": [
           "rgb(54.0, 70.0, 157.0)",
           "rgb(67.0, 111.0, 177.0)",
           "rgb(49.0, 54.0, 149.0)",
           "rgb(65.0, 105.0, 174.0)",
           "rgb(55.0, 73.0, 158.0)",
           "rgb(50.0, 57.0, 151.0)",
           "rgb(76.0, 126.0, 185.0)",
           "rgb(53.0, 67.0, 155.0)",
           "rgb(69.0, 117.0, 180.0)",
           "rgb(114.0, 171.0, 208.0)",
           "rgb(51.0, 60.0, 152.0)",
           "rgb(52.0, 63.0, 154.0)",
           "rgb(144.0, 196.0, 221.0)"
          ],
          "line": {
           "color": "Grey",
           "width": 0.5
          }
         },
         "mode": "markers",
         "showlegend": false,
         "type": "scatter",
         "x": [
          0.2965777047582458,
          0.8774623283402829,
          0.08773403630454318,
          0.9630028278354485,
          0.6157251098470551,
          0.5662117236927399,
          0.330480957357973,
          0.7802016742983691,
          0.061997530866703454,
          0.34676345983827406,
          0.7364584373058741,
          0.4680410649317334,
          0.1949715272549276
         ],
         "xaxis": "x17",
         "y": [
          0.2965777047582458,
          0.8774623283402829,
          0.08773403630454318,
          0.9630028278354485,
          0.6157251098470551,
          0.5662117236927399,
          0.330480957357973,
          0.7802016742983691,
          0.061997530866703454,
          0.34676345983827406,
          0.7364584373058741,
          0.4680410649317334,
          0.1949715272549276
         ],
         "yaxis": "y17"
        },
        {
         "hovertemplate": "%{hovertext}<extra></extra>",
         "hovertext": [
          "Trial #8<br>algorithm: xgb<br>learning_rate: 0.0016114400564732941<br>max_depth: 10<br>subsample: 0.8558105105039219<br>colsample_bytree: 0.2965777047582458<br>min_child_weight: 9<br><b>Objective Value: -5.373464236107701</b>",
          "Trial #10<br>algorithm: xgb<br>learning_rate: 0.07748571364848593<br>max_depth: 1<br>subsample: 0.1081539403017378<br>colsample_bytree: 0.8774623283402829<br>min_child_weight: 20<br><b>Objective Value: 0.9057358214629305</b>",
          "Trial #16<br>algorithm: xgb<br>learning_rate: 0.0001093221261079389<br>max_depth: 6<br>subsample: 0.9975559933333737<br>colsample_bytree: 0.08773403630454318<br>min_child_weight: 1<br><b>Objective Value: -6.669394335705886</b>",
          "Trial #19<br>algorithm: xgb<br>learning_rate: 0.08019600545172129<br>max_depth: 1<br>subsample: 0.06393922828854465<br>colsample_bytree: 0.9630028278354485<br>min_child_weight: 20<br><b>Objective Value: 0.8811693917915496</b>",
          "Trial #29<br>algorithm: xgb<br>learning_rate: 0.0023166212634019153<br>max_depth: 10<br>subsample: 0.5235492940540687<br>colsample_bytree: 0.6157251098470551<br>min_child_weight: 10<br><b>Objective Value: -2.8957501035877273</b>",
          "Trial #47<br>algorithm: xgb<br>learning_rate: 0.00011521087399364599<br>max_depth: 6<br>subsample: 0.5277084716528383<br>colsample_bytree: 0.5662117236927399<br>min_child_weight: 1<br><b>Objective Value: -6.669368157650402</b>",
          "Trial #57<br>algorithm: xgb<br>learning_rate: 0.011236477438678406<br>max_depth: 4<br>subsample: 0.41151468106452377<br>colsample_bytree: 0.330480957357973<br>min_child_weight: 15<br><b>Objective Value: 0.9362219094296959</b>",
          "Trial #67<br>algorithm: xgb<br>learning_rate: 0.0005787891082612613<br>max_depth: 3<br>subsample: 0.7512158659814847<br>colsample_bytree: 0.7802016742983691<br>min_child_weight: 5<br><b>Objective Value: -6.649379579649593</b>",
          "Trial #86<br>algorithm: xgb<br>learning_rate: 0.01240560912844289<br>max_depth: 8<br>subsample: 0.2704974479544986<br>colsample_bytree: 0.061997530866703454<br>min_child_weight: 15<br><b>Objective Value: 0.9113729713455464</b>",
          "Trial #107<br>algorithm: xgb<br>learning_rate: 0.010250741887711978<br>max_depth: 8<br>subsample: 0.699136270124052<br>colsample_bytree: 0.34676345983827406<br>min_child_weight: 6<br><b>Objective Value: 0.9456992597139712</b>",
          "Trial #129<br>algorithm: xgb<br>learning_rate: 0.00037758996511927124<br>max_depth: 3<br>subsample: 0.2213408681389885<br>colsample_bytree: 0.7364584373058741<br>min_child_weight: 15<br><b>Objective Value: -6.665047997522985</b>",
          "Trial #157<br>algorithm: xgb<br>learning_rate: 0.000484744276997372<br>max_depth: 8<br>subsample: 0.9855479934166286<br>colsample_bytree: 0.4680410649317334<br>min_child_weight: 5<br><b>Objective Value: -6.658982618518887</b>",
          "Trial #188<br>algorithm: xgb<br>learning_rate: 0.022432477519196928<br>max_depth: 5<br>subsample: 0.5819591447885447<br>colsample_bytree: 0.1949715272549276<br>min_child_weight: 13<br><b>Objective Value: 0.9467614990364478</b>"
         ],
         "marker": {
          "color": [
           "rgb(54.0, 70.0, 157.0)",
           "rgb(67.0, 111.0, 177.0)",
           "rgb(49.0, 54.0, 149.0)",
           "rgb(65.0, 105.0, 174.0)",
           "rgb(55.0, 73.0, 158.0)",
           "rgb(50.0, 57.0, 151.0)",
           "rgb(76.0, 126.0, 185.0)",
           "rgb(53.0, 67.0, 155.0)",
           "rgb(69.0, 117.0, 180.0)",
           "rgb(114.0, 171.0, 208.0)",
           "rgb(51.0, 60.0, 152.0)",
           "rgb(52.0, 63.0, 154.0)",
           "rgb(144.0, 196.0, 221.0)"
          ],
          "line": {
           "color": "Grey",
           "width": 0.5
          }
         },
         "mode": "markers",
         "showlegend": false,
         "type": "scatter",
         "x": [
          0.2965777047582458,
          0.8774623283402829,
          0.08773403630454318,
          0.9630028278354485,
          0.6157251098470551,
          0.5662117236927399,
          0.330480957357973,
          0.7802016742983691,
          0.061997530866703454,
          0.34676345983827406,
          0.7364584373058741,
          0.4680410649317334,
          0.1949715272549276
         ],
         "xaxis": "x24",
         "y": [
          0.0016114400564732941,
          0.07748571364848593,
          0.0001093221261079389,
          0.08019600545172129,
          0.0023166212634019153,
          0.00011521087399364599,
          0.011236477438678406,
          0.0005787891082612613,
          0.01240560912844289,
          0.010250741887711978,
          0.00037758996511927124,
          0.000484744276997372,
          0.022432477519196928
         ],
         "yaxis": "y24"
        },
        {
         "hovertemplate": "%{hovertext}<extra></extra>",
         "hovertext": [
          "Trial #8<br>algorithm: xgb<br>learning_rate: 0.0016114400564732941<br>max_depth: 10<br>subsample: 0.8558105105039219<br>colsample_bytree: 0.2965777047582458<br>min_child_weight: 9<br><b>Objective Value: -5.373464236107701</b>",
          "Trial #10<br>algorithm: xgb<br>learning_rate: 0.07748571364848593<br>max_depth: 1<br>subsample: 0.1081539403017378<br>colsample_bytree: 0.8774623283402829<br>min_child_weight: 20<br><b>Objective Value: 0.9057358214629305</b>",
          "Trial #16<br>algorithm: xgb<br>learning_rate: 0.0001093221261079389<br>max_depth: 6<br>subsample: 0.9975559933333737<br>colsample_bytree: 0.08773403630454318<br>min_child_weight: 1<br><b>Objective Value: -6.669394335705886</b>",
          "Trial #19<br>algorithm: xgb<br>learning_rate: 0.08019600545172129<br>max_depth: 1<br>subsample: 0.06393922828854465<br>colsample_bytree: 0.9630028278354485<br>min_child_weight: 20<br><b>Objective Value: 0.8811693917915496</b>",
          "Trial #29<br>algorithm: xgb<br>learning_rate: 0.0023166212634019153<br>max_depth: 10<br>subsample: 0.5235492940540687<br>colsample_bytree: 0.6157251098470551<br>min_child_weight: 10<br><b>Objective Value: -2.8957501035877273</b>",
          "Trial #47<br>algorithm: xgb<br>learning_rate: 0.00011521087399364599<br>max_depth: 6<br>subsample: 0.5277084716528383<br>colsample_bytree: 0.5662117236927399<br>min_child_weight: 1<br><b>Objective Value: -6.669368157650402</b>",
          "Trial #57<br>algorithm: xgb<br>learning_rate: 0.011236477438678406<br>max_depth: 4<br>subsample: 0.41151468106452377<br>colsample_bytree: 0.330480957357973<br>min_child_weight: 15<br><b>Objective Value: 0.9362219094296959</b>",
          "Trial #67<br>algorithm: xgb<br>learning_rate: 0.0005787891082612613<br>max_depth: 3<br>subsample: 0.7512158659814847<br>colsample_bytree: 0.7802016742983691<br>min_child_weight: 5<br><b>Objective Value: -6.649379579649593</b>",
          "Trial #86<br>algorithm: xgb<br>learning_rate: 0.01240560912844289<br>max_depth: 8<br>subsample: 0.2704974479544986<br>colsample_bytree: 0.061997530866703454<br>min_child_weight: 15<br><b>Objective Value: 0.9113729713455464</b>",
          "Trial #107<br>algorithm: xgb<br>learning_rate: 0.010250741887711978<br>max_depth: 8<br>subsample: 0.699136270124052<br>colsample_bytree: 0.34676345983827406<br>min_child_weight: 6<br><b>Objective Value: 0.9456992597139712</b>",
          "Trial #129<br>algorithm: xgb<br>learning_rate: 0.00037758996511927124<br>max_depth: 3<br>subsample: 0.2213408681389885<br>colsample_bytree: 0.7364584373058741<br>min_child_weight: 15<br><b>Objective Value: -6.665047997522985</b>",
          "Trial #157<br>algorithm: xgb<br>learning_rate: 0.000484744276997372<br>max_depth: 8<br>subsample: 0.9855479934166286<br>colsample_bytree: 0.4680410649317334<br>min_child_weight: 5<br><b>Objective Value: -6.658982618518887</b>",
          "Trial #188<br>algorithm: xgb<br>learning_rate: 0.022432477519196928<br>max_depth: 5<br>subsample: 0.5819591447885447<br>colsample_bytree: 0.1949715272549276<br>min_child_weight: 13<br><b>Objective Value: 0.9467614990364478</b>"
         ],
         "marker": {
          "color": [
           "rgb(54.0, 70.0, 157.0)",
           "rgb(67.0, 111.0, 177.0)",
           "rgb(49.0, 54.0, 149.0)",
           "rgb(65.0, 105.0, 174.0)",
           "rgb(55.0, 73.0, 158.0)",
           "rgb(50.0, 57.0, 151.0)",
           "rgb(76.0, 126.0, 185.0)",
           "rgb(53.0, 67.0, 155.0)",
           "rgb(69.0, 117.0, 180.0)",
           "rgb(114.0, 171.0, 208.0)",
           "rgb(51.0, 60.0, 152.0)",
           "rgb(52.0, 63.0, 154.0)",
           "rgb(144.0, 196.0, 221.0)"
          ],
          "line": {
           "color": "Grey",
           "width": 0.5
          }
         },
         "mode": "markers",
         "showlegend": false,
         "type": "scatter",
         "x": [
          0.2965777047582458,
          0.8774623283402829,
          0.08773403630454318,
          0.9630028278354485,
          0.6157251098470551,
          0.5662117236927399,
          0.330480957357973,
          0.7802016742983691,
          0.061997530866703454,
          0.34676345983827406,
          0.7364584373058741,
          0.4680410649317334,
          0.1949715272549276
         ],
         "xaxis": "x31",
         "y": [
          10,
          1,
          6,
          1,
          10,
          6,
          4,
          3,
          8,
          8,
          3,
          8,
          5
         ],
         "yaxis": "y31"
        },
        {
         "hovertemplate": "%{hovertext}<extra></extra>",
         "hovertext": [
          "Trial #8<br>algorithm: xgb<br>learning_rate: 0.0016114400564732941<br>max_depth: 10<br>subsample: 0.8558105105039219<br>colsample_bytree: 0.2965777047582458<br>min_child_weight: 9<br><b>Objective Value: -5.373464236107701</b>",
          "Trial #10<br>algorithm: xgb<br>learning_rate: 0.07748571364848593<br>max_depth: 1<br>subsample: 0.1081539403017378<br>colsample_bytree: 0.8774623283402829<br>min_child_weight: 20<br><b>Objective Value: 0.9057358214629305</b>",
          "Trial #16<br>algorithm: xgb<br>learning_rate: 0.0001093221261079389<br>max_depth: 6<br>subsample: 0.9975559933333737<br>colsample_bytree: 0.08773403630454318<br>min_child_weight: 1<br><b>Objective Value: -6.669394335705886</b>",
          "Trial #19<br>algorithm: xgb<br>learning_rate: 0.08019600545172129<br>max_depth: 1<br>subsample: 0.06393922828854465<br>colsample_bytree: 0.9630028278354485<br>min_child_weight: 20<br><b>Objective Value: 0.8811693917915496</b>",
          "Trial #29<br>algorithm: xgb<br>learning_rate: 0.0023166212634019153<br>max_depth: 10<br>subsample: 0.5235492940540687<br>colsample_bytree: 0.6157251098470551<br>min_child_weight: 10<br><b>Objective Value: -2.8957501035877273</b>",
          "Trial #47<br>algorithm: xgb<br>learning_rate: 0.00011521087399364599<br>max_depth: 6<br>subsample: 0.5277084716528383<br>colsample_bytree: 0.5662117236927399<br>min_child_weight: 1<br><b>Objective Value: -6.669368157650402</b>",
          "Trial #57<br>algorithm: xgb<br>learning_rate: 0.011236477438678406<br>max_depth: 4<br>subsample: 0.41151468106452377<br>colsample_bytree: 0.330480957357973<br>min_child_weight: 15<br><b>Objective Value: 0.9362219094296959</b>",
          "Trial #67<br>algorithm: xgb<br>learning_rate: 0.0005787891082612613<br>max_depth: 3<br>subsample: 0.7512158659814847<br>colsample_bytree: 0.7802016742983691<br>min_child_weight: 5<br><b>Objective Value: -6.649379579649593</b>",
          "Trial #86<br>algorithm: xgb<br>learning_rate: 0.01240560912844289<br>max_depth: 8<br>subsample: 0.2704974479544986<br>colsample_bytree: 0.061997530866703454<br>min_child_weight: 15<br><b>Objective Value: 0.9113729713455464</b>",
          "Trial #107<br>algorithm: xgb<br>learning_rate: 0.010250741887711978<br>max_depth: 8<br>subsample: 0.699136270124052<br>colsample_bytree: 0.34676345983827406<br>min_child_weight: 6<br><b>Objective Value: 0.9456992597139712</b>",
          "Trial #129<br>algorithm: xgb<br>learning_rate: 0.00037758996511927124<br>max_depth: 3<br>subsample: 0.2213408681389885<br>colsample_bytree: 0.7364584373058741<br>min_child_weight: 15<br><b>Objective Value: -6.665047997522985</b>",
          "Trial #157<br>algorithm: xgb<br>learning_rate: 0.000484744276997372<br>max_depth: 8<br>subsample: 0.9855479934166286<br>colsample_bytree: 0.4680410649317334<br>min_child_weight: 5<br><b>Objective Value: -6.658982618518887</b>",
          "Trial #188<br>algorithm: xgb<br>learning_rate: 0.022432477519196928<br>max_depth: 5<br>subsample: 0.5819591447885447<br>colsample_bytree: 0.1949715272549276<br>min_child_weight: 13<br><b>Objective Value: 0.9467614990364478</b>"
         ],
         "marker": {
          "color": [
           "rgb(54.0, 70.0, 157.0)",
           "rgb(67.0, 111.0, 177.0)",
           "rgb(49.0, 54.0, 149.0)",
           "rgb(65.0, 105.0, 174.0)",
           "rgb(55.0, 73.0, 158.0)",
           "rgb(50.0, 57.0, 151.0)",
           "rgb(76.0, 126.0, 185.0)",
           "rgb(53.0, 67.0, 155.0)",
           "rgb(69.0, 117.0, 180.0)",
           "rgb(114.0, 171.0, 208.0)",
           "rgb(51.0, 60.0, 152.0)",
           "rgb(52.0, 63.0, 154.0)",
           "rgb(144.0, 196.0, 221.0)"
          ],
          "line": {
           "color": "Grey",
           "width": 0.5
          }
         },
         "mode": "markers",
         "showlegend": false,
         "type": "scatter",
         "x": [
          0.2965777047582458,
          0.8774623283402829,
          0.08773403630454318,
          0.9630028278354485,
          0.6157251098470551,
          0.5662117236927399,
          0.330480957357973,
          0.7802016742983691,
          0.061997530866703454,
          0.34676345983827406,
          0.7364584373058741,
          0.4680410649317334,
          0.1949715272549276
         ],
         "xaxis": "x38",
         "y": [
          9,
          20,
          1,
          20,
          10,
          1,
          15,
          5,
          15,
          6,
          15,
          5,
          13
         ],
         "yaxis": "y38"
        },
        {
         "hovertemplate": "%{hovertext}<extra></extra>",
         "hovertext": [
          "Trial #8<br>algorithm: xgb<br>learning_rate: 0.0016114400564732941<br>max_depth: 10<br>subsample: 0.8558105105039219<br>colsample_bytree: 0.2965777047582458<br>min_child_weight: 9<br><b>Objective Value: -5.373464236107701</b>",
          "Trial #10<br>algorithm: xgb<br>learning_rate: 0.07748571364848593<br>max_depth: 1<br>subsample: 0.1081539403017378<br>colsample_bytree: 0.8774623283402829<br>min_child_weight: 20<br><b>Objective Value: 0.9057358214629305</b>",
          "Trial #16<br>algorithm: xgb<br>learning_rate: 0.0001093221261079389<br>max_depth: 6<br>subsample: 0.9975559933333737<br>colsample_bytree: 0.08773403630454318<br>min_child_weight: 1<br><b>Objective Value: -6.669394335705886</b>",
          "Trial #19<br>algorithm: xgb<br>learning_rate: 0.08019600545172129<br>max_depth: 1<br>subsample: 0.06393922828854465<br>colsample_bytree: 0.9630028278354485<br>min_child_weight: 20<br><b>Objective Value: 0.8811693917915496</b>",
          "Trial #29<br>algorithm: xgb<br>learning_rate: 0.0023166212634019153<br>max_depth: 10<br>subsample: 0.5235492940540687<br>colsample_bytree: 0.6157251098470551<br>min_child_weight: 10<br><b>Objective Value: -2.8957501035877273</b>",
          "Trial #47<br>algorithm: xgb<br>learning_rate: 0.00011521087399364599<br>max_depth: 6<br>subsample: 0.5277084716528383<br>colsample_bytree: 0.5662117236927399<br>min_child_weight: 1<br><b>Objective Value: -6.669368157650402</b>",
          "Trial #57<br>algorithm: xgb<br>learning_rate: 0.011236477438678406<br>max_depth: 4<br>subsample: 0.41151468106452377<br>colsample_bytree: 0.330480957357973<br>min_child_weight: 15<br><b>Objective Value: 0.9362219094296959</b>",
          "Trial #67<br>algorithm: xgb<br>learning_rate: 0.0005787891082612613<br>max_depth: 3<br>subsample: 0.7512158659814847<br>colsample_bytree: 0.7802016742983691<br>min_child_weight: 5<br><b>Objective Value: -6.649379579649593</b>",
          "Trial #86<br>algorithm: xgb<br>learning_rate: 0.01240560912844289<br>max_depth: 8<br>subsample: 0.2704974479544986<br>colsample_bytree: 0.061997530866703454<br>min_child_weight: 15<br><b>Objective Value: 0.9113729713455464</b>",
          "Trial #107<br>algorithm: xgb<br>learning_rate: 0.010250741887711978<br>max_depth: 8<br>subsample: 0.699136270124052<br>colsample_bytree: 0.34676345983827406<br>min_child_weight: 6<br><b>Objective Value: 0.9456992597139712</b>",
          "Trial #129<br>algorithm: xgb<br>learning_rate: 0.00037758996511927124<br>max_depth: 3<br>subsample: 0.2213408681389885<br>colsample_bytree: 0.7364584373058741<br>min_child_weight: 15<br><b>Objective Value: -6.665047997522985</b>",
          "Trial #157<br>algorithm: xgb<br>learning_rate: 0.000484744276997372<br>max_depth: 8<br>subsample: 0.9855479934166286<br>colsample_bytree: 0.4680410649317334<br>min_child_weight: 5<br><b>Objective Value: -6.658982618518887</b>",
          "Trial #188<br>algorithm: xgb<br>learning_rate: 0.022432477519196928<br>max_depth: 5<br>subsample: 0.5819591447885447<br>colsample_bytree: 0.1949715272549276<br>min_child_weight: 13<br><b>Objective Value: 0.9467614990364478</b>"
         ],
         "marker": {
          "color": [
           "rgb(54.0, 70.0, 157.0)",
           "rgb(67.0, 111.0, 177.0)",
           "rgb(49.0, 54.0, 149.0)",
           "rgb(65.0, 105.0, 174.0)",
           "rgb(55.0, 73.0, 158.0)",
           "rgb(50.0, 57.0, 151.0)",
           "rgb(76.0, 126.0, 185.0)",
           "rgb(53.0, 67.0, 155.0)",
           "rgb(69.0, 117.0, 180.0)",
           "rgb(114.0, 171.0, 208.0)",
           "rgb(51.0, 60.0, 152.0)",
           "rgb(52.0, 63.0, 154.0)",
           "rgb(144.0, 196.0, 221.0)"
          ],
          "line": {
           "color": "Grey",
           "width": 0.5
          }
         },
         "mode": "markers",
         "showlegend": false,
         "type": "scatter",
         "x": [
          0.2965777047582458,
          0.8774623283402829,
          0.08773403630454318,
          0.9630028278354485,
          0.6157251098470551,
          0.5662117236927399,
          0.330480957357973,
          0.7802016742983691,
          0.061997530866703454,
          0.34676345983827406,
          0.7364584373058741,
          0.4680410649317334,
          0.1949715272549276
         ],
         "xaxis": "x45",
         "y": [
          0.8558105105039219,
          0.1081539403017378,
          0.9975559933333737,
          0.06393922828854465,
          0.5235492940540687,
          0.5277084716528383,
          0.41151468106452377,
          0.7512158659814847,
          0.2704974479544986,
          0.699136270124052,
          0.2213408681389885,
          0.9855479934166286,
          0.5819591447885447
         ],
         "yaxis": "y45"
        },
        {
         "hovertemplate": "%{hovertext}<extra></extra>",
         "hovertext": [
          "Trial #8<br>algorithm: xgb<br>learning_rate: 0.0016114400564732941<br>max_depth: 10<br>subsample: 0.8558105105039219<br>colsample_bytree: 0.2965777047582458<br>min_child_weight: 9<br><b>Objective Value: -5.373464236107701</b>",
          "Trial #10<br>algorithm: xgb<br>learning_rate: 0.07748571364848593<br>max_depth: 1<br>subsample: 0.1081539403017378<br>colsample_bytree: 0.8774623283402829<br>min_child_weight: 20<br><b>Objective Value: 0.9057358214629305</b>",
          "Trial #16<br>algorithm: xgb<br>learning_rate: 0.0001093221261079389<br>max_depth: 6<br>subsample: 0.9975559933333737<br>colsample_bytree: 0.08773403630454318<br>min_child_weight: 1<br><b>Objective Value: -6.669394335705886</b>",
          "Trial #19<br>algorithm: xgb<br>learning_rate: 0.08019600545172129<br>max_depth: 1<br>subsample: 0.06393922828854465<br>colsample_bytree: 0.9630028278354485<br>min_child_weight: 20<br><b>Objective Value: 0.8811693917915496</b>",
          "Trial #29<br>algorithm: xgb<br>learning_rate: 0.0023166212634019153<br>max_depth: 10<br>subsample: 0.5235492940540687<br>colsample_bytree: 0.6157251098470551<br>min_child_weight: 10<br><b>Objective Value: -2.8957501035877273</b>",
          "Trial #47<br>algorithm: xgb<br>learning_rate: 0.00011521087399364599<br>max_depth: 6<br>subsample: 0.5277084716528383<br>colsample_bytree: 0.5662117236927399<br>min_child_weight: 1<br><b>Objective Value: -6.669368157650402</b>",
          "Trial #57<br>algorithm: xgb<br>learning_rate: 0.011236477438678406<br>max_depth: 4<br>subsample: 0.41151468106452377<br>colsample_bytree: 0.330480957357973<br>min_child_weight: 15<br><b>Objective Value: 0.9362219094296959</b>",
          "Trial #67<br>algorithm: xgb<br>learning_rate: 0.0005787891082612613<br>max_depth: 3<br>subsample: 0.7512158659814847<br>colsample_bytree: 0.7802016742983691<br>min_child_weight: 5<br><b>Objective Value: -6.649379579649593</b>",
          "Trial #86<br>algorithm: xgb<br>learning_rate: 0.01240560912844289<br>max_depth: 8<br>subsample: 0.2704974479544986<br>colsample_bytree: 0.061997530866703454<br>min_child_weight: 15<br><b>Objective Value: 0.9113729713455464</b>",
          "Trial #107<br>algorithm: xgb<br>learning_rate: 0.010250741887711978<br>max_depth: 8<br>subsample: 0.699136270124052<br>colsample_bytree: 0.34676345983827406<br>min_child_weight: 6<br><b>Objective Value: 0.9456992597139712</b>",
          "Trial #129<br>algorithm: xgb<br>learning_rate: 0.00037758996511927124<br>max_depth: 3<br>subsample: 0.2213408681389885<br>colsample_bytree: 0.7364584373058741<br>min_child_weight: 15<br><b>Objective Value: -6.665047997522985</b>",
          "Trial #157<br>algorithm: xgb<br>learning_rate: 0.000484744276997372<br>max_depth: 8<br>subsample: 0.9855479934166286<br>colsample_bytree: 0.4680410649317334<br>min_child_weight: 5<br><b>Objective Value: -6.658982618518887</b>",
          "Trial #188<br>algorithm: xgb<br>learning_rate: 0.022432477519196928<br>max_depth: 5<br>subsample: 0.5819591447885447<br>colsample_bytree: 0.1949715272549276<br>min_child_weight: 13<br><b>Objective Value: 0.9467614990364478</b>"
         ],
         "marker": {
          "color": [
           "rgb(54.0, 70.0, 157.0)",
           "rgb(67.0, 111.0, 177.0)",
           "rgb(49.0, 54.0, 149.0)",
           "rgb(65.0, 105.0, 174.0)",
           "rgb(55.0, 73.0, 158.0)",
           "rgb(50.0, 57.0, 151.0)",
           "rgb(76.0, 126.0, 185.0)",
           "rgb(53.0, 67.0, 155.0)",
           "rgb(69.0, 117.0, 180.0)",
           "rgb(114.0, 171.0, 208.0)",
           "rgb(51.0, 60.0, 152.0)",
           "rgb(52.0, 63.0, 154.0)",
           "rgb(144.0, 196.0, 221.0)"
          ],
          "line": {
           "color": "Grey",
           "width": 0.5
          }
         },
         "mode": "markers",
         "showlegend": false,
         "type": "scatter",
         "x": [
          0.0016114400564732941,
          0.07748571364848593,
          0.0001093221261079389,
          0.08019600545172129,
          0.0023166212634019153,
          0.00011521087399364599,
          0.011236477438678406,
          0.0005787891082612613,
          0.01240560912844289,
          0.010250741887711978,
          0.00037758996511927124,
          0.000484744276997372,
          0.022432477519196928
         ],
         "xaxis": "x4",
         "y": [
          "xgb",
          "xgb",
          "xgb",
          "xgb",
          "xgb",
          "xgb",
          "xgb",
          "xgb",
          "xgb",
          "xgb",
          "xgb",
          "xgb",
          "xgb"
         ],
         "yaxis": "y4"
        },
        {
         "hovertemplate": "%{hovertext}<extra></extra>",
         "hovertext": [],
         "marker": {
          "color": [],
          "line": {
           "color": "Grey",
           "width": 0.5
          }
         },
         "mode": "markers",
         "showlegend": false,
         "type": "scatter",
         "x": [],
         "xaxis": "x11",
         "y": [],
         "yaxis": "y11"
        },
        {
         "hovertemplate": "%{hovertext}<extra></extra>",
         "hovertext": [
          "Trial #8<br>algorithm: xgb<br>learning_rate: 0.0016114400564732941<br>max_depth: 10<br>subsample: 0.8558105105039219<br>colsample_bytree: 0.2965777047582458<br>min_child_weight: 9<br><b>Objective Value: -5.373464236107701</b>",
          "Trial #10<br>algorithm: xgb<br>learning_rate: 0.07748571364848593<br>max_depth: 1<br>subsample: 0.1081539403017378<br>colsample_bytree: 0.8774623283402829<br>min_child_weight: 20<br><b>Objective Value: 0.9057358214629305</b>",
          "Trial #16<br>algorithm: xgb<br>learning_rate: 0.0001093221261079389<br>max_depth: 6<br>subsample: 0.9975559933333737<br>colsample_bytree: 0.08773403630454318<br>min_child_weight: 1<br><b>Objective Value: -6.669394335705886</b>",
          "Trial #19<br>algorithm: xgb<br>learning_rate: 0.08019600545172129<br>max_depth: 1<br>subsample: 0.06393922828854465<br>colsample_bytree: 0.9630028278354485<br>min_child_weight: 20<br><b>Objective Value: 0.8811693917915496</b>",
          "Trial #29<br>algorithm: xgb<br>learning_rate: 0.0023166212634019153<br>max_depth: 10<br>subsample: 0.5235492940540687<br>colsample_bytree: 0.6157251098470551<br>min_child_weight: 10<br><b>Objective Value: -2.8957501035877273</b>",
          "Trial #47<br>algorithm: xgb<br>learning_rate: 0.00011521087399364599<br>max_depth: 6<br>subsample: 0.5277084716528383<br>colsample_bytree: 0.5662117236927399<br>min_child_weight: 1<br><b>Objective Value: -6.669368157650402</b>",
          "Trial #57<br>algorithm: xgb<br>learning_rate: 0.011236477438678406<br>max_depth: 4<br>subsample: 0.41151468106452377<br>colsample_bytree: 0.330480957357973<br>min_child_weight: 15<br><b>Objective Value: 0.9362219094296959</b>",
          "Trial #67<br>algorithm: xgb<br>learning_rate: 0.0005787891082612613<br>max_depth: 3<br>subsample: 0.7512158659814847<br>colsample_bytree: 0.7802016742983691<br>min_child_weight: 5<br><b>Objective Value: -6.649379579649593</b>",
          "Trial #86<br>algorithm: xgb<br>learning_rate: 0.01240560912844289<br>max_depth: 8<br>subsample: 0.2704974479544986<br>colsample_bytree: 0.061997530866703454<br>min_child_weight: 15<br><b>Objective Value: 0.9113729713455464</b>",
          "Trial #107<br>algorithm: xgb<br>learning_rate: 0.010250741887711978<br>max_depth: 8<br>subsample: 0.699136270124052<br>colsample_bytree: 0.34676345983827406<br>min_child_weight: 6<br><b>Objective Value: 0.9456992597139712</b>",
          "Trial #129<br>algorithm: xgb<br>learning_rate: 0.00037758996511927124<br>max_depth: 3<br>subsample: 0.2213408681389885<br>colsample_bytree: 0.7364584373058741<br>min_child_weight: 15<br><b>Objective Value: -6.665047997522985</b>",
          "Trial #157<br>algorithm: xgb<br>learning_rate: 0.000484744276997372<br>max_depth: 8<br>subsample: 0.9855479934166286<br>colsample_bytree: 0.4680410649317334<br>min_child_weight: 5<br><b>Objective Value: -6.658982618518887</b>",
          "Trial #188<br>algorithm: xgb<br>learning_rate: 0.022432477519196928<br>max_depth: 5<br>subsample: 0.5819591447885447<br>colsample_bytree: 0.1949715272549276<br>min_child_weight: 13<br><b>Objective Value: 0.9467614990364478</b>"
         ],
         "marker": {
          "color": [
           "rgb(54.0, 70.0, 157.0)",
           "rgb(67.0, 111.0, 177.0)",
           "rgb(49.0, 54.0, 149.0)",
           "rgb(65.0, 105.0, 174.0)",
           "rgb(55.0, 73.0, 158.0)",
           "rgb(50.0, 57.0, 151.0)",
           "rgb(76.0, 126.0, 185.0)",
           "rgb(53.0, 67.0, 155.0)",
           "rgb(69.0, 117.0, 180.0)",
           "rgb(114.0, 171.0, 208.0)",
           "rgb(51.0, 60.0, 152.0)",
           "rgb(52.0, 63.0, 154.0)",
           "rgb(144.0, 196.0, 221.0)"
          ],
          "line": {
           "color": "Grey",
           "width": 0.5
          }
         },
         "mode": "markers",
         "showlegend": false,
         "type": "scatter",
         "x": [
          0.0016114400564732941,
          0.07748571364848593,
          0.0001093221261079389,
          0.08019600545172129,
          0.0023166212634019153,
          0.00011521087399364599,
          0.011236477438678406,
          0.0005787891082612613,
          0.01240560912844289,
          0.010250741887711978,
          0.00037758996511927124,
          0.000484744276997372,
          0.022432477519196928
         ],
         "xaxis": "x18",
         "y": [
          0.2965777047582458,
          0.8774623283402829,
          0.08773403630454318,
          0.9630028278354485,
          0.6157251098470551,
          0.5662117236927399,
          0.330480957357973,
          0.7802016742983691,
          0.061997530866703454,
          0.34676345983827406,
          0.7364584373058741,
          0.4680410649317334,
          0.1949715272549276
         ],
         "yaxis": "y18"
        },
        {
         "hovertemplate": "%{hovertext}<extra></extra>",
         "hovertext": [
          "Trial #8<br>algorithm: xgb<br>learning_rate: 0.0016114400564732941<br>max_depth: 10<br>subsample: 0.8558105105039219<br>colsample_bytree: 0.2965777047582458<br>min_child_weight: 9<br><b>Objective Value: -5.373464236107701</b>",
          "Trial #10<br>algorithm: xgb<br>learning_rate: 0.07748571364848593<br>max_depth: 1<br>subsample: 0.1081539403017378<br>colsample_bytree: 0.8774623283402829<br>min_child_weight: 20<br><b>Objective Value: 0.9057358214629305</b>",
          "Trial #16<br>algorithm: xgb<br>learning_rate: 0.0001093221261079389<br>max_depth: 6<br>subsample: 0.9975559933333737<br>colsample_bytree: 0.08773403630454318<br>min_child_weight: 1<br><b>Objective Value: -6.669394335705886</b>",
          "Trial #19<br>algorithm: xgb<br>learning_rate: 0.08019600545172129<br>max_depth: 1<br>subsample: 0.06393922828854465<br>colsample_bytree: 0.9630028278354485<br>min_child_weight: 20<br><b>Objective Value: 0.8811693917915496</b>",
          "Trial #29<br>algorithm: xgb<br>learning_rate: 0.0023166212634019153<br>max_depth: 10<br>subsample: 0.5235492940540687<br>colsample_bytree: 0.6157251098470551<br>min_child_weight: 10<br><b>Objective Value: -2.8957501035877273</b>",
          "Trial #47<br>algorithm: xgb<br>learning_rate: 0.00011521087399364599<br>max_depth: 6<br>subsample: 0.5277084716528383<br>colsample_bytree: 0.5662117236927399<br>min_child_weight: 1<br><b>Objective Value: -6.669368157650402</b>",
          "Trial #57<br>algorithm: xgb<br>learning_rate: 0.011236477438678406<br>max_depth: 4<br>subsample: 0.41151468106452377<br>colsample_bytree: 0.330480957357973<br>min_child_weight: 15<br><b>Objective Value: 0.9362219094296959</b>",
          "Trial #67<br>algorithm: xgb<br>learning_rate: 0.0005787891082612613<br>max_depth: 3<br>subsample: 0.7512158659814847<br>colsample_bytree: 0.7802016742983691<br>min_child_weight: 5<br><b>Objective Value: -6.649379579649593</b>",
          "Trial #86<br>algorithm: xgb<br>learning_rate: 0.01240560912844289<br>max_depth: 8<br>subsample: 0.2704974479544986<br>colsample_bytree: 0.061997530866703454<br>min_child_weight: 15<br><b>Objective Value: 0.9113729713455464</b>",
          "Trial #107<br>algorithm: xgb<br>learning_rate: 0.010250741887711978<br>max_depth: 8<br>subsample: 0.699136270124052<br>colsample_bytree: 0.34676345983827406<br>min_child_weight: 6<br><b>Objective Value: 0.9456992597139712</b>",
          "Trial #129<br>algorithm: xgb<br>learning_rate: 0.00037758996511927124<br>max_depth: 3<br>subsample: 0.2213408681389885<br>colsample_bytree: 0.7364584373058741<br>min_child_weight: 15<br><b>Objective Value: -6.665047997522985</b>",
          "Trial #157<br>algorithm: xgb<br>learning_rate: 0.000484744276997372<br>max_depth: 8<br>subsample: 0.9855479934166286<br>colsample_bytree: 0.4680410649317334<br>min_child_weight: 5<br><b>Objective Value: -6.658982618518887</b>",
          "Trial #188<br>algorithm: xgb<br>learning_rate: 0.022432477519196928<br>max_depth: 5<br>subsample: 0.5819591447885447<br>colsample_bytree: 0.1949715272549276<br>min_child_weight: 13<br><b>Objective Value: 0.9467614990364478</b>"
         ],
         "marker": {
          "color": [
           "rgb(54.0, 70.0, 157.0)",
           "rgb(67.0, 111.0, 177.0)",
           "rgb(49.0, 54.0, 149.0)",
           "rgb(65.0, 105.0, 174.0)",
           "rgb(55.0, 73.0, 158.0)",
           "rgb(50.0, 57.0, 151.0)",
           "rgb(76.0, 126.0, 185.0)",
           "rgb(53.0, 67.0, 155.0)",
           "rgb(69.0, 117.0, 180.0)",
           "rgb(114.0, 171.0, 208.0)",
           "rgb(51.0, 60.0, 152.0)",
           "rgb(52.0, 63.0, 154.0)",
           "rgb(144.0, 196.0, 221.0)"
          ],
          "line": {
           "color": "Grey",
           "width": 0.5
          }
         },
         "mode": "markers",
         "showlegend": false,
         "type": "scatter",
         "x": [
          0.0016114400564732941,
          0.07748571364848593,
          0.0001093221261079389,
          0.08019600545172129,
          0.0023166212634019153,
          0.00011521087399364599,
          0.011236477438678406,
          0.0005787891082612613,
          0.01240560912844289,
          0.010250741887711978,
          0.00037758996511927124,
          0.000484744276997372,
          0.022432477519196928
         ],
         "xaxis": "x25",
         "y": [
          0.0016114400564732941,
          0.07748571364848593,
          0.0001093221261079389,
          0.08019600545172129,
          0.0023166212634019153,
          0.00011521087399364599,
          0.011236477438678406,
          0.0005787891082612613,
          0.01240560912844289,
          0.010250741887711978,
          0.00037758996511927124,
          0.000484744276997372,
          0.022432477519196928
         ],
         "yaxis": "y25"
        },
        {
         "hovertemplate": "%{hovertext}<extra></extra>",
         "hovertext": [
          "Trial #8<br>algorithm: xgb<br>learning_rate: 0.0016114400564732941<br>max_depth: 10<br>subsample: 0.8558105105039219<br>colsample_bytree: 0.2965777047582458<br>min_child_weight: 9<br><b>Objective Value: -5.373464236107701</b>",
          "Trial #10<br>algorithm: xgb<br>learning_rate: 0.07748571364848593<br>max_depth: 1<br>subsample: 0.1081539403017378<br>colsample_bytree: 0.8774623283402829<br>min_child_weight: 20<br><b>Objective Value: 0.9057358214629305</b>",
          "Trial #16<br>algorithm: xgb<br>learning_rate: 0.0001093221261079389<br>max_depth: 6<br>subsample: 0.9975559933333737<br>colsample_bytree: 0.08773403630454318<br>min_child_weight: 1<br><b>Objective Value: -6.669394335705886</b>",
          "Trial #19<br>algorithm: xgb<br>learning_rate: 0.08019600545172129<br>max_depth: 1<br>subsample: 0.06393922828854465<br>colsample_bytree: 0.9630028278354485<br>min_child_weight: 20<br><b>Objective Value: 0.8811693917915496</b>",
          "Trial #29<br>algorithm: xgb<br>learning_rate: 0.0023166212634019153<br>max_depth: 10<br>subsample: 0.5235492940540687<br>colsample_bytree: 0.6157251098470551<br>min_child_weight: 10<br><b>Objective Value: -2.8957501035877273</b>",
          "Trial #47<br>algorithm: xgb<br>learning_rate: 0.00011521087399364599<br>max_depth: 6<br>subsample: 0.5277084716528383<br>colsample_bytree: 0.5662117236927399<br>min_child_weight: 1<br><b>Objective Value: -6.669368157650402</b>",
          "Trial #57<br>algorithm: xgb<br>learning_rate: 0.011236477438678406<br>max_depth: 4<br>subsample: 0.41151468106452377<br>colsample_bytree: 0.330480957357973<br>min_child_weight: 15<br><b>Objective Value: 0.9362219094296959</b>",
          "Trial #67<br>algorithm: xgb<br>learning_rate: 0.0005787891082612613<br>max_depth: 3<br>subsample: 0.7512158659814847<br>colsample_bytree: 0.7802016742983691<br>min_child_weight: 5<br><b>Objective Value: -6.649379579649593</b>",
          "Trial #86<br>algorithm: xgb<br>learning_rate: 0.01240560912844289<br>max_depth: 8<br>subsample: 0.2704974479544986<br>colsample_bytree: 0.061997530866703454<br>min_child_weight: 15<br><b>Objective Value: 0.9113729713455464</b>",
          "Trial #107<br>algorithm: xgb<br>learning_rate: 0.010250741887711978<br>max_depth: 8<br>subsample: 0.699136270124052<br>colsample_bytree: 0.34676345983827406<br>min_child_weight: 6<br><b>Objective Value: 0.9456992597139712</b>",
          "Trial #129<br>algorithm: xgb<br>learning_rate: 0.00037758996511927124<br>max_depth: 3<br>subsample: 0.2213408681389885<br>colsample_bytree: 0.7364584373058741<br>min_child_weight: 15<br><b>Objective Value: -6.665047997522985</b>",
          "Trial #157<br>algorithm: xgb<br>learning_rate: 0.000484744276997372<br>max_depth: 8<br>subsample: 0.9855479934166286<br>colsample_bytree: 0.4680410649317334<br>min_child_weight: 5<br><b>Objective Value: -6.658982618518887</b>",
          "Trial #188<br>algorithm: xgb<br>learning_rate: 0.022432477519196928<br>max_depth: 5<br>subsample: 0.5819591447885447<br>colsample_bytree: 0.1949715272549276<br>min_child_weight: 13<br><b>Objective Value: 0.9467614990364478</b>"
         ],
         "marker": {
          "color": [
           "rgb(54.0, 70.0, 157.0)",
           "rgb(67.0, 111.0, 177.0)",
           "rgb(49.0, 54.0, 149.0)",
           "rgb(65.0, 105.0, 174.0)",
           "rgb(55.0, 73.0, 158.0)",
           "rgb(50.0, 57.0, 151.0)",
           "rgb(76.0, 126.0, 185.0)",
           "rgb(53.0, 67.0, 155.0)",
           "rgb(69.0, 117.0, 180.0)",
           "rgb(114.0, 171.0, 208.0)",
           "rgb(51.0, 60.0, 152.0)",
           "rgb(52.0, 63.0, 154.0)",
           "rgb(144.0, 196.0, 221.0)"
          ],
          "line": {
           "color": "Grey",
           "width": 0.5
          }
         },
         "mode": "markers",
         "showlegend": false,
         "type": "scatter",
         "x": [
          0.0016114400564732941,
          0.07748571364848593,
          0.0001093221261079389,
          0.08019600545172129,
          0.0023166212634019153,
          0.00011521087399364599,
          0.011236477438678406,
          0.0005787891082612613,
          0.01240560912844289,
          0.010250741887711978,
          0.00037758996511927124,
          0.000484744276997372,
          0.022432477519196928
         ],
         "xaxis": "x32",
         "y": [
          10,
          1,
          6,
          1,
          10,
          6,
          4,
          3,
          8,
          8,
          3,
          8,
          5
         ],
         "yaxis": "y32"
        },
        {
         "hovertemplate": "%{hovertext}<extra></extra>",
         "hovertext": [
          "Trial #8<br>algorithm: xgb<br>learning_rate: 0.0016114400564732941<br>max_depth: 10<br>subsample: 0.8558105105039219<br>colsample_bytree: 0.2965777047582458<br>min_child_weight: 9<br><b>Objective Value: -5.373464236107701</b>",
          "Trial #10<br>algorithm: xgb<br>learning_rate: 0.07748571364848593<br>max_depth: 1<br>subsample: 0.1081539403017378<br>colsample_bytree: 0.8774623283402829<br>min_child_weight: 20<br><b>Objective Value: 0.9057358214629305</b>",
          "Trial #16<br>algorithm: xgb<br>learning_rate: 0.0001093221261079389<br>max_depth: 6<br>subsample: 0.9975559933333737<br>colsample_bytree: 0.08773403630454318<br>min_child_weight: 1<br><b>Objective Value: -6.669394335705886</b>",
          "Trial #19<br>algorithm: xgb<br>learning_rate: 0.08019600545172129<br>max_depth: 1<br>subsample: 0.06393922828854465<br>colsample_bytree: 0.9630028278354485<br>min_child_weight: 20<br><b>Objective Value: 0.8811693917915496</b>",
          "Trial #29<br>algorithm: xgb<br>learning_rate: 0.0023166212634019153<br>max_depth: 10<br>subsample: 0.5235492940540687<br>colsample_bytree: 0.6157251098470551<br>min_child_weight: 10<br><b>Objective Value: -2.8957501035877273</b>",
          "Trial #47<br>algorithm: xgb<br>learning_rate: 0.00011521087399364599<br>max_depth: 6<br>subsample: 0.5277084716528383<br>colsample_bytree: 0.5662117236927399<br>min_child_weight: 1<br><b>Objective Value: -6.669368157650402</b>",
          "Trial #57<br>algorithm: xgb<br>learning_rate: 0.011236477438678406<br>max_depth: 4<br>subsample: 0.41151468106452377<br>colsample_bytree: 0.330480957357973<br>min_child_weight: 15<br><b>Objective Value: 0.9362219094296959</b>",
          "Trial #67<br>algorithm: xgb<br>learning_rate: 0.0005787891082612613<br>max_depth: 3<br>subsample: 0.7512158659814847<br>colsample_bytree: 0.7802016742983691<br>min_child_weight: 5<br><b>Objective Value: -6.649379579649593</b>",
          "Trial #86<br>algorithm: xgb<br>learning_rate: 0.01240560912844289<br>max_depth: 8<br>subsample: 0.2704974479544986<br>colsample_bytree: 0.061997530866703454<br>min_child_weight: 15<br><b>Objective Value: 0.9113729713455464</b>",
          "Trial #107<br>algorithm: xgb<br>learning_rate: 0.010250741887711978<br>max_depth: 8<br>subsample: 0.699136270124052<br>colsample_bytree: 0.34676345983827406<br>min_child_weight: 6<br><b>Objective Value: 0.9456992597139712</b>",
          "Trial #129<br>algorithm: xgb<br>learning_rate: 0.00037758996511927124<br>max_depth: 3<br>subsample: 0.2213408681389885<br>colsample_bytree: 0.7364584373058741<br>min_child_weight: 15<br><b>Objective Value: -6.665047997522985</b>",
          "Trial #157<br>algorithm: xgb<br>learning_rate: 0.000484744276997372<br>max_depth: 8<br>subsample: 0.9855479934166286<br>colsample_bytree: 0.4680410649317334<br>min_child_weight: 5<br><b>Objective Value: -6.658982618518887</b>",
          "Trial #188<br>algorithm: xgb<br>learning_rate: 0.022432477519196928<br>max_depth: 5<br>subsample: 0.5819591447885447<br>colsample_bytree: 0.1949715272549276<br>min_child_weight: 13<br><b>Objective Value: 0.9467614990364478</b>"
         ],
         "marker": {
          "color": [
           "rgb(54.0, 70.0, 157.0)",
           "rgb(67.0, 111.0, 177.0)",
           "rgb(49.0, 54.0, 149.0)",
           "rgb(65.0, 105.0, 174.0)",
           "rgb(55.0, 73.0, 158.0)",
           "rgb(50.0, 57.0, 151.0)",
           "rgb(76.0, 126.0, 185.0)",
           "rgb(53.0, 67.0, 155.0)",
           "rgb(69.0, 117.0, 180.0)",
           "rgb(114.0, 171.0, 208.0)",
           "rgb(51.0, 60.0, 152.0)",
           "rgb(52.0, 63.0, 154.0)",
           "rgb(144.0, 196.0, 221.0)"
          ],
          "line": {
           "color": "Grey",
           "width": 0.5
          }
         },
         "mode": "markers",
         "showlegend": false,
         "type": "scatter",
         "x": [
          0.0016114400564732941,
          0.07748571364848593,
          0.0001093221261079389,
          0.08019600545172129,
          0.0023166212634019153,
          0.00011521087399364599,
          0.011236477438678406,
          0.0005787891082612613,
          0.01240560912844289,
          0.010250741887711978,
          0.00037758996511927124,
          0.000484744276997372,
          0.022432477519196928
         ],
         "xaxis": "x39",
         "y": [
          9,
          20,
          1,
          20,
          10,
          1,
          15,
          5,
          15,
          6,
          15,
          5,
          13
         ],
         "yaxis": "y39"
        },
        {
         "hovertemplate": "%{hovertext}<extra></extra>",
         "hovertext": [
          "Trial #8<br>algorithm: xgb<br>learning_rate: 0.0016114400564732941<br>max_depth: 10<br>subsample: 0.8558105105039219<br>colsample_bytree: 0.2965777047582458<br>min_child_weight: 9<br><b>Objective Value: -5.373464236107701</b>",
          "Trial #10<br>algorithm: xgb<br>learning_rate: 0.07748571364848593<br>max_depth: 1<br>subsample: 0.1081539403017378<br>colsample_bytree: 0.8774623283402829<br>min_child_weight: 20<br><b>Objective Value: 0.9057358214629305</b>",
          "Trial #16<br>algorithm: xgb<br>learning_rate: 0.0001093221261079389<br>max_depth: 6<br>subsample: 0.9975559933333737<br>colsample_bytree: 0.08773403630454318<br>min_child_weight: 1<br><b>Objective Value: -6.669394335705886</b>",
          "Trial #19<br>algorithm: xgb<br>learning_rate: 0.08019600545172129<br>max_depth: 1<br>subsample: 0.06393922828854465<br>colsample_bytree: 0.9630028278354485<br>min_child_weight: 20<br><b>Objective Value: 0.8811693917915496</b>",
          "Trial #29<br>algorithm: xgb<br>learning_rate: 0.0023166212634019153<br>max_depth: 10<br>subsample: 0.5235492940540687<br>colsample_bytree: 0.6157251098470551<br>min_child_weight: 10<br><b>Objective Value: -2.8957501035877273</b>",
          "Trial #47<br>algorithm: xgb<br>learning_rate: 0.00011521087399364599<br>max_depth: 6<br>subsample: 0.5277084716528383<br>colsample_bytree: 0.5662117236927399<br>min_child_weight: 1<br><b>Objective Value: -6.669368157650402</b>",
          "Trial #57<br>algorithm: xgb<br>learning_rate: 0.011236477438678406<br>max_depth: 4<br>subsample: 0.41151468106452377<br>colsample_bytree: 0.330480957357973<br>min_child_weight: 15<br><b>Objective Value: 0.9362219094296959</b>",
          "Trial #67<br>algorithm: xgb<br>learning_rate: 0.0005787891082612613<br>max_depth: 3<br>subsample: 0.7512158659814847<br>colsample_bytree: 0.7802016742983691<br>min_child_weight: 5<br><b>Objective Value: -6.649379579649593</b>",
          "Trial #86<br>algorithm: xgb<br>learning_rate: 0.01240560912844289<br>max_depth: 8<br>subsample: 0.2704974479544986<br>colsample_bytree: 0.061997530866703454<br>min_child_weight: 15<br><b>Objective Value: 0.9113729713455464</b>",
          "Trial #107<br>algorithm: xgb<br>learning_rate: 0.010250741887711978<br>max_depth: 8<br>subsample: 0.699136270124052<br>colsample_bytree: 0.34676345983827406<br>min_child_weight: 6<br><b>Objective Value: 0.9456992597139712</b>",
          "Trial #129<br>algorithm: xgb<br>learning_rate: 0.00037758996511927124<br>max_depth: 3<br>subsample: 0.2213408681389885<br>colsample_bytree: 0.7364584373058741<br>min_child_weight: 15<br><b>Objective Value: -6.665047997522985</b>",
          "Trial #157<br>algorithm: xgb<br>learning_rate: 0.000484744276997372<br>max_depth: 8<br>subsample: 0.9855479934166286<br>colsample_bytree: 0.4680410649317334<br>min_child_weight: 5<br><b>Objective Value: -6.658982618518887</b>",
          "Trial #188<br>algorithm: xgb<br>learning_rate: 0.022432477519196928<br>max_depth: 5<br>subsample: 0.5819591447885447<br>colsample_bytree: 0.1949715272549276<br>min_child_weight: 13<br><b>Objective Value: 0.9467614990364478</b>"
         ],
         "marker": {
          "color": [
           "rgb(54.0, 70.0, 157.0)",
           "rgb(67.0, 111.0, 177.0)",
           "rgb(49.0, 54.0, 149.0)",
           "rgb(65.0, 105.0, 174.0)",
           "rgb(55.0, 73.0, 158.0)",
           "rgb(50.0, 57.0, 151.0)",
           "rgb(76.0, 126.0, 185.0)",
           "rgb(53.0, 67.0, 155.0)",
           "rgb(69.0, 117.0, 180.0)",
           "rgb(114.0, 171.0, 208.0)",
           "rgb(51.0, 60.0, 152.0)",
           "rgb(52.0, 63.0, 154.0)",
           "rgb(144.0, 196.0, 221.0)"
          ],
          "line": {
           "color": "Grey",
           "width": 0.5
          }
         },
         "mode": "markers",
         "showlegend": false,
         "type": "scatter",
         "x": [
          0.0016114400564732941,
          0.07748571364848593,
          0.0001093221261079389,
          0.08019600545172129,
          0.0023166212634019153,
          0.00011521087399364599,
          0.011236477438678406,
          0.0005787891082612613,
          0.01240560912844289,
          0.010250741887711978,
          0.00037758996511927124,
          0.000484744276997372,
          0.022432477519196928
         ],
         "xaxis": "x46",
         "y": [
          0.8558105105039219,
          0.1081539403017378,
          0.9975559933333737,
          0.06393922828854465,
          0.5235492940540687,
          0.5277084716528383,
          0.41151468106452377,
          0.7512158659814847,
          0.2704974479544986,
          0.699136270124052,
          0.2213408681389885,
          0.9855479934166286,
          0.5819591447885447
         ],
         "yaxis": "y46"
        },
        {
         "hovertemplate": "%{hovertext}<extra></extra>",
         "hovertext": [
          "Trial #8<br>algorithm: xgb<br>learning_rate: 0.0016114400564732941<br>max_depth: 10<br>subsample: 0.8558105105039219<br>colsample_bytree: 0.2965777047582458<br>min_child_weight: 9<br><b>Objective Value: -5.373464236107701</b>",
          "Trial #10<br>algorithm: xgb<br>learning_rate: 0.07748571364848593<br>max_depth: 1<br>subsample: 0.1081539403017378<br>colsample_bytree: 0.8774623283402829<br>min_child_weight: 20<br><b>Objective Value: 0.9057358214629305</b>",
          "Trial #16<br>algorithm: xgb<br>learning_rate: 0.0001093221261079389<br>max_depth: 6<br>subsample: 0.9975559933333737<br>colsample_bytree: 0.08773403630454318<br>min_child_weight: 1<br><b>Objective Value: -6.669394335705886</b>",
          "Trial #19<br>algorithm: xgb<br>learning_rate: 0.08019600545172129<br>max_depth: 1<br>subsample: 0.06393922828854465<br>colsample_bytree: 0.9630028278354485<br>min_child_weight: 20<br><b>Objective Value: 0.8811693917915496</b>",
          "Trial #29<br>algorithm: xgb<br>learning_rate: 0.0023166212634019153<br>max_depth: 10<br>subsample: 0.5235492940540687<br>colsample_bytree: 0.6157251098470551<br>min_child_weight: 10<br><b>Objective Value: -2.8957501035877273</b>",
          "Trial #47<br>algorithm: xgb<br>learning_rate: 0.00011521087399364599<br>max_depth: 6<br>subsample: 0.5277084716528383<br>colsample_bytree: 0.5662117236927399<br>min_child_weight: 1<br><b>Objective Value: -6.669368157650402</b>",
          "Trial #57<br>algorithm: xgb<br>learning_rate: 0.011236477438678406<br>max_depth: 4<br>subsample: 0.41151468106452377<br>colsample_bytree: 0.330480957357973<br>min_child_weight: 15<br><b>Objective Value: 0.9362219094296959</b>",
          "Trial #67<br>algorithm: xgb<br>learning_rate: 0.0005787891082612613<br>max_depth: 3<br>subsample: 0.7512158659814847<br>colsample_bytree: 0.7802016742983691<br>min_child_weight: 5<br><b>Objective Value: -6.649379579649593</b>",
          "Trial #86<br>algorithm: xgb<br>learning_rate: 0.01240560912844289<br>max_depth: 8<br>subsample: 0.2704974479544986<br>colsample_bytree: 0.061997530866703454<br>min_child_weight: 15<br><b>Objective Value: 0.9113729713455464</b>",
          "Trial #107<br>algorithm: xgb<br>learning_rate: 0.010250741887711978<br>max_depth: 8<br>subsample: 0.699136270124052<br>colsample_bytree: 0.34676345983827406<br>min_child_weight: 6<br><b>Objective Value: 0.9456992597139712</b>",
          "Trial #129<br>algorithm: xgb<br>learning_rate: 0.00037758996511927124<br>max_depth: 3<br>subsample: 0.2213408681389885<br>colsample_bytree: 0.7364584373058741<br>min_child_weight: 15<br><b>Objective Value: -6.665047997522985</b>",
          "Trial #157<br>algorithm: xgb<br>learning_rate: 0.000484744276997372<br>max_depth: 8<br>subsample: 0.9855479934166286<br>colsample_bytree: 0.4680410649317334<br>min_child_weight: 5<br><b>Objective Value: -6.658982618518887</b>",
          "Trial #188<br>algorithm: xgb<br>learning_rate: 0.022432477519196928<br>max_depth: 5<br>subsample: 0.5819591447885447<br>colsample_bytree: 0.1949715272549276<br>min_child_weight: 13<br><b>Objective Value: 0.9467614990364478</b>"
         ],
         "marker": {
          "color": [
           "rgb(54.0, 70.0, 157.0)",
           "rgb(67.0, 111.0, 177.0)",
           "rgb(49.0, 54.0, 149.0)",
           "rgb(65.0, 105.0, 174.0)",
           "rgb(55.0, 73.0, 158.0)",
           "rgb(50.0, 57.0, 151.0)",
           "rgb(76.0, 126.0, 185.0)",
           "rgb(53.0, 67.0, 155.0)",
           "rgb(69.0, 117.0, 180.0)",
           "rgb(114.0, 171.0, 208.0)",
           "rgb(51.0, 60.0, 152.0)",
           "rgb(52.0, 63.0, 154.0)",
           "rgb(144.0, 196.0, 221.0)"
          ],
          "line": {
           "color": "Grey",
           "width": 0.5
          }
         },
         "mode": "markers",
         "showlegend": false,
         "type": "scatter",
         "x": [
          10,
          1,
          6,
          1,
          10,
          6,
          4,
          3,
          8,
          8,
          3,
          8,
          5
         ],
         "xaxis": "x5",
         "y": [
          "xgb",
          "xgb",
          "xgb",
          "xgb",
          "xgb",
          "xgb",
          "xgb",
          "xgb",
          "xgb",
          "xgb",
          "xgb",
          "xgb",
          "xgb"
         ],
         "yaxis": "y5"
        },
        {
         "hovertemplate": "%{hovertext}<extra></extra>",
         "hovertext": [],
         "marker": {
          "color": [],
          "line": {
           "color": "Grey",
           "width": 0.5
          }
         },
         "mode": "markers",
         "showlegend": false,
         "type": "scatter",
         "x": [],
         "xaxis": "x12",
         "y": [],
         "yaxis": "y12"
        },
        {
         "hovertemplate": "%{hovertext}<extra></extra>",
         "hovertext": [
          "Trial #8<br>algorithm: xgb<br>learning_rate: 0.0016114400564732941<br>max_depth: 10<br>subsample: 0.8558105105039219<br>colsample_bytree: 0.2965777047582458<br>min_child_weight: 9<br><b>Objective Value: -5.373464236107701</b>",
          "Trial #10<br>algorithm: xgb<br>learning_rate: 0.07748571364848593<br>max_depth: 1<br>subsample: 0.1081539403017378<br>colsample_bytree: 0.8774623283402829<br>min_child_weight: 20<br><b>Objective Value: 0.9057358214629305</b>",
          "Trial #16<br>algorithm: xgb<br>learning_rate: 0.0001093221261079389<br>max_depth: 6<br>subsample: 0.9975559933333737<br>colsample_bytree: 0.08773403630454318<br>min_child_weight: 1<br><b>Objective Value: -6.669394335705886</b>",
          "Trial #19<br>algorithm: xgb<br>learning_rate: 0.08019600545172129<br>max_depth: 1<br>subsample: 0.06393922828854465<br>colsample_bytree: 0.9630028278354485<br>min_child_weight: 20<br><b>Objective Value: 0.8811693917915496</b>",
          "Trial #29<br>algorithm: xgb<br>learning_rate: 0.0023166212634019153<br>max_depth: 10<br>subsample: 0.5235492940540687<br>colsample_bytree: 0.6157251098470551<br>min_child_weight: 10<br><b>Objective Value: -2.8957501035877273</b>",
          "Trial #47<br>algorithm: xgb<br>learning_rate: 0.00011521087399364599<br>max_depth: 6<br>subsample: 0.5277084716528383<br>colsample_bytree: 0.5662117236927399<br>min_child_weight: 1<br><b>Objective Value: -6.669368157650402</b>",
          "Trial #57<br>algorithm: xgb<br>learning_rate: 0.011236477438678406<br>max_depth: 4<br>subsample: 0.41151468106452377<br>colsample_bytree: 0.330480957357973<br>min_child_weight: 15<br><b>Objective Value: 0.9362219094296959</b>",
          "Trial #67<br>algorithm: xgb<br>learning_rate: 0.0005787891082612613<br>max_depth: 3<br>subsample: 0.7512158659814847<br>colsample_bytree: 0.7802016742983691<br>min_child_weight: 5<br><b>Objective Value: -6.649379579649593</b>",
          "Trial #86<br>algorithm: xgb<br>learning_rate: 0.01240560912844289<br>max_depth: 8<br>subsample: 0.2704974479544986<br>colsample_bytree: 0.061997530866703454<br>min_child_weight: 15<br><b>Objective Value: 0.9113729713455464</b>",
          "Trial #107<br>algorithm: xgb<br>learning_rate: 0.010250741887711978<br>max_depth: 8<br>subsample: 0.699136270124052<br>colsample_bytree: 0.34676345983827406<br>min_child_weight: 6<br><b>Objective Value: 0.9456992597139712</b>",
          "Trial #129<br>algorithm: xgb<br>learning_rate: 0.00037758996511927124<br>max_depth: 3<br>subsample: 0.2213408681389885<br>colsample_bytree: 0.7364584373058741<br>min_child_weight: 15<br><b>Objective Value: -6.665047997522985</b>",
          "Trial #157<br>algorithm: xgb<br>learning_rate: 0.000484744276997372<br>max_depth: 8<br>subsample: 0.9855479934166286<br>colsample_bytree: 0.4680410649317334<br>min_child_weight: 5<br><b>Objective Value: -6.658982618518887</b>",
          "Trial #188<br>algorithm: xgb<br>learning_rate: 0.022432477519196928<br>max_depth: 5<br>subsample: 0.5819591447885447<br>colsample_bytree: 0.1949715272549276<br>min_child_weight: 13<br><b>Objective Value: 0.9467614990364478</b>"
         ],
         "marker": {
          "color": [
           "rgb(54.0, 70.0, 157.0)",
           "rgb(67.0, 111.0, 177.0)",
           "rgb(49.0, 54.0, 149.0)",
           "rgb(65.0, 105.0, 174.0)",
           "rgb(55.0, 73.0, 158.0)",
           "rgb(50.0, 57.0, 151.0)",
           "rgb(76.0, 126.0, 185.0)",
           "rgb(53.0, 67.0, 155.0)",
           "rgb(69.0, 117.0, 180.0)",
           "rgb(114.0, 171.0, 208.0)",
           "rgb(51.0, 60.0, 152.0)",
           "rgb(52.0, 63.0, 154.0)",
           "rgb(144.0, 196.0, 221.0)"
          ],
          "line": {
           "color": "Grey",
           "width": 0.5
          }
         },
         "mode": "markers",
         "showlegend": false,
         "type": "scatter",
         "x": [
          10,
          1,
          6,
          1,
          10,
          6,
          4,
          3,
          8,
          8,
          3,
          8,
          5
         ],
         "xaxis": "x19",
         "y": [
          0.2965777047582458,
          0.8774623283402829,
          0.08773403630454318,
          0.9630028278354485,
          0.6157251098470551,
          0.5662117236927399,
          0.330480957357973,
          0.7802016742983691,
          0.061997530866703454,
          0.34676345983827406,
          0.7364584373058741,
          0.4680410649317334,
          0.1949715272549276
         ],
         "yaxis": "y19"
        },
        {
         "hovertemplate": "%{hovertext}<extra></extra>",
         "hovertext": [
          "Trial #8<br>algorithm: xgb<br>learning_rate: 0.0016114400564732941<br>max_depth: 10<br>subsample: 0.8558105105039219<br>colsample_bytree: 0.2965777047582458<br>min_child_weight: 9<br><b>Objective Value: -5.373464236107701</b>",
          "Trial #10<br>algorithm: xgb<br>learning_rate: 0.07748571364848593<br>max_depth: 1<br>subsample: 0.1081539403017378<br>colsample_bytree: 0.8774623283402829<br>min_child_weight: 20<br><b>Objective Value: 0.9057358214629305</b>",
          "Trial #16<br>algorithm: xgb<br>learning_rate: 0.0001093221261079389<br>max_depth: 6<br>subsample: 0.9975559933333737<br>colsample_bytree: 0.08773403630454318<br>min_child_weight: 1<br><b>Objective Value: -6.669394335705886</b>",
          "Trial #19<br>algorithm: xgb<br>learning_rate: 0.08019600545172129<br>max_depth: 1<br>subsample: 0.06393922828854465<br>colsample_bytree: 0.9630028278354485<br>min_child_weight: 20<br><b>Objective Value: 0.8811693917915496</b>",
          "Trial #29<br>algorithm: xgb<br>learning_rate: 0.0023166212634019153<br>max_depth: 10<br>subsample: 0.5235492940540687<br>colsample_bytree: 0.6157251098470551<br>min_child_weight: 10<br><b>Objective Value: -2.8957501035877273</b>",
          "Trial #47<br>algorithm: xgb<br>learning_rate: 0.00011521087399364599<br>max_depth: 6<br>subsample: 0.5277084716528383<br>colsample_bytree: 0.5662117236927399<br>min_child_weight: 1<br><b>Objective Value: -6.669368157650402</b>",
          "Trial #57<br>algorithm: xgb<br>learning_rate: 0.011236477438678406<br>max_depth: 4<br>subsample: 0.41151468106452377<br>colsample_bytree: 0.330480957357973<br>min_child_weight: 15<br><b>Objective Value: 0.9362219094296959</b>",
          "Trial #67<br>algorithm: xgb<br>learning_rate: 0.0005787891082612613<br>max_depth: 3<br>subsample: 0.7512158659814847<br>colsample_bytree: 0.7802016742983691<br>min_child_weight: 5<br><b>Objective Value: -6.649379579649593</b>",
          "Trial #86<br>algorithm: xgb<br>learning_rate: 0.01240560912844289<br>max_depth: 8<br>subsample: 0.2704974479544986<br>colsample_bytree: 0.061997530866703454<br>min_child_weight: 15<br><b>Objective Value: 0.9113729713455464</b>",
          "Trial #107<br>algorithm: xgb<br>learning_rate: 0.010250741887711978<br>max_depth: 8<br>subsample: 0.699136270124052<br>colsample_bytree: 0.34676345983827406<br>min_child_weight: 6<br><b>Objective Value: 0.9456992597139712</b>",
          "Trial #129<br>algorithm: xgb<br>learning_rate: 0.00037758996511927124<br>max_depth: 3<br>subsample: 0.2213408681389885<br>colsample_bytree: 0.7364584373058741<br>min_child_weight: 15<br><b>Objective Value: -6.665047997522985</b>",
          "Trial #157<br>algorithm: xgb<br>learning_rate: 0.000484744276997372<br>max_depth: 8<br>subsample: 0.9855479934166286<br>colsample_bytree: 0.4680410649317334<br>min_child_weight: 5<br><b>Objective Value: -6.658982618518887</b>",
          "Trial #188<br>algorithm: xgb<br>learning_rate: 0.022432477519196928<br>max_depth: 5<br>subsample: 0.5819591447885447<br>colsample_bytree: 0.1949715272549276<br>min_child_weight: 13<br><b>Objective Value: 0.9467614990364478</b>"
         ],
         "marker": {
          "color": [
           "rgb(54.0, 70.0, 157.0)",
           "rgb(67.0, 111.0, 177.0)",
           "rgb(49.0, 54.0, 149.0)",
           "rgb(65.0, 105.0, 174.0)",
           "rgb(55.0, 73.0, 158.0)",
           "rgb(50.0, 57.0, 151.0)",
           "rgb(76.0, 126.0, 185.0)",
           "rgb(53.0, 67.0, 155.0)",
           "rgb(69.0, 117.0, 180.0)",
           "rgb(114.0, 171.0, 208.0)",
           "rgb(51.0, 60.0, 152.0)",
           "rgb(52.0, 63.0, 154.0)",
           "rgb(144.0, 196.0, 221.0)"
          ],
          "line": {
           "color": "Grey",
           "width": 0.5
          }
         },
         "mode": "markers",
         "showlegend": false,
         "type": "scatter",
         "x": [
          10,
          1,
          6,
          1,
          10,
          6,
          4,
          3,
          8,
          8,
          3,
          8,
          5
         ],
         "xaxis": "x26",
         "y": [
          0.0016114400564732941,
          0.07748571364848593,
          0.0001093221261079389,
          0.08019600545172129,
          0.0023166212634019153,
          0.00011521087399364599,
          0.011236477438678406,
          0.0005787891082612613,
          0.01240560912844289,
          0.010250741887711978,
          0.00037758996511927124,
          0.000484744276997372,
          0.022432477519196928
         ],
         "yaxis": "y26"
        },
        {
         "hovertemplate": "%{hovertext}<extra></extra>",
         "hovertext": [
          "Trial #8<br>algorithm: xgb<br>learning_rate: 0.0016114400564732941<br>max_depth: 10<br>subsample: 0.8558105105039219<br>colsample_bytree: 0.2965777047582458<br>min_child_weight: 9<br><b>Objective Value: -5.373464236107701</b>",
          "Trial #10<br>algorithm: xgb<br>learning_rate: 0.07748571364848593<br>max_depth: 1<br>subsample: 0.1081539403017378<br>colsample_bytree: 0.8774623283402829<br>min_child_weight: 20<br><b>Objective Value: 0.9057358214629305</b>",
          "Trial #16<br>algorithm: xgb<br>learning_rate: 0.0001093221261079389<br>max_depth: 6<br>subsample: 0.9975559933333737<br>colsample_bytree: 0.08773403630454318<br>min_child_weight: 1<br><b>Objective Value: -6.669394335705886</b>",
          "Trial #19<br>algorithm: xgb<br>learning_rate: 0.08019600545172129<br>max_depth: 1<br>subsample: 0.06393922828854465<br>colsample_bytree: 0.9630028278354485<br>min_child_weight: 20<br><b>Objective Value: 0.8811693917915496</b>",
          "Trial #29<br>algorithm: xgb<br>learning_rate: 0.0023166212634019153<br>max_depth: 10<br>subsample: 0.5235492940540687<br>colsample_bytree: 0.6157251098470551<br>min_child_weight: 10<br><b>Objective Value: -2.8957501035877273</b>",
          "Trial #47<br>algorithm: xgb<br>learning_rate: 0.00011521087399364599<br>max_depth: 6<br>subsample: 0.5277084716528383<br>colsample_bytree: 0.5662117236927399<br>min_child_weight: 1<br><b>Objective Value: -6.669368157650402</b>",
          "Trial #57<br>algorithm: xgb<br>learning_rate: 0.011236477438678406<br>max_depth: 4<br>subsample: 0.41151468106452377<br>colsample_bytree: 0.330480957357973<br>min_child_weight: 15<br><b>Objective Value: 0.9362219094296959</b>",
          "Trial #67<br>algorithm: xgb<br>learning_rate: 0.0005787891082612613<br>max_depth: 3<br>subsample: 0.7512158659814847<br>colsample_bytree: 0.7802016742983691<br>min_child_weight: 5<br><b>Objective Value: -6.649379579649593</b>",
          "Trial #86<br>algorithm: xgb<br>learning_rate: 0.01240560912844289<br>max_depth: 8<br>subsample: 0.2704974479544986<br>colsample_bytree: 0.061997530866703454<br>min_child_weight: 15<br><b>Objective Value: 0.9113729713455464</b>",
          "Trial #107<br>algorithm: xgb<br>learning_rate: 0.010250741887711978<br>max_depth: 8<br>subsample: 0.699136270124052<br>colsample_bytree: 0.34676345983827406<br>min_child_weight: 6<br><b>Objective Value: 0.9456992597139712</b>",
          "Trial #129<br>algorithm: xgb<br>learning_rate: 0.00037758996511927124<br>max_depth: 3<br>subsample: 0.2213408681389885<br>colsample_bytree: 0.7364584373058741<br>min_child_weight: 15<br><b>Objective Value: -6.665047997522985</b>",
          "Trial #157<br>algorithm: xgb<br>learning_rate: 0.000484744276997372<br>max_depth: 8<br>subsample: 0.9855479934166286<br>colsample_bytree: 0.4680410649317334<br>min_child_weight: 5<br><b>Objective Value: -6.658982618518887</b>",
          "Trial #188<br>algorithm: xgb<br>learning_rate: 0.022432477519196928<br>max_depth: 5<br>subsample: 0.5819591447885447<br>colsample_bytree: 0.1949715272549276<br>min_child_weight: 13<br><b>Objective Value: 0.9467614990364478</b>"
         ],
         "marker": {
          "color": [
           "rgb(54.0, 70.0, 157.0)",
           "rgb(67.0, 111.0, 177.0)",
           "rgb(49.0, 54.0, 149.0)",
           "rgb(65.0, 105.0, 174.0)",
           "rgb(55.0, 73.0, 158.0)",
           "rgb(50.0, 57.0, 151.0)",
           "rgb(76.0, 126.0, 185.0)",
           "rgb(53.0, 67.0, 155.0)",
           "rgb(69.0, 117.0, 180.0)",
           "rgb(114.0, 171.0, 208.0)",
           "rgb(51.0, 60.0, 152.0)",
           "rgb(52.0, 63.0, 154.0)",
           "rgb(144.0, 196.0, 221.0)"
          ],
          "line": {
           "color": "Grey",
           "width": 0.5
          }
         },
         "mode": "markers",
         "showlegend": false,
         "type": "scatter",
         "x": [
          10,
          1,
          6,
          1,
          10,
          6,
          4,
          3,
          8,
          8,
          3,
          8,
          5
         ],
         "xaxis": "x33",
         "y": [
          10,
          1,
          6,
          1,
          10,
          6,
          4,
          3,
          8,
          8,
          3,
          8,
          5
         ],
         "yaxis": "y33"
        },
        {
         "hovertemplate": "%{hovertext}<extra></extra>",
         "hovertext": [
          "Trial #8<br>algorithm: xgb<br>learning_rate: 0.0016114400564732941<br>max_depth: 10<br>subsample: 0.8558105105039219<br>colsample_bytree: 0.2965777047582458<br>min_child_weight: 9<br><b>Objective Value: -5.373464236107701</b>",
          "Trial #10<br>algorithm: xgb<br>learning_rate: 0.07748571364848593<br>max_depth: 1<br>subsample: 0.1081539403017378<br>colsample_bytree: 0.8774623283402829<br>min_child_weight: 20<br><b>Objective Value: 0.9057358214629305</b>",
          "Trial #16<br>algorithm: xgb<br>learning_rate: 0.0001093221261079389<br>max_depth: 6<br>subsample: 0.9975559933333737<br>colsample_bytree: 0.08773403630454318<br>min_child_weight: 1<br><b>Objective Value: -6.669394335705886</b>",
          "Trial #19<br>algorithm: xgb<br>learning_rate: 0.08019600545172129<br>max_depth: 1<br>subsample: 0.06393922828854465<br>colsample_bytree: 0.9630028278354485<br>min_child_weight: 20<br><b>Objective Value: 0.8811693917915496</b>",
          "Trial #29<br>algorithm: xgb<br>learning_rate: 0.0023166212634019153<br>max_depth: 10<br>subsample: 0.5235492940540687<br>colsample_bytree: 0.6157251098470551<br>min_child_weight: 10<br><b>Objective Value: -2.8957501035877273</b>",
          "Trial #47<br>algorithm: xgb<br>learning_rate: 0.00011521087399364599<br>max_depth: 6<br>subsample: 0.5277084716528383<br>colsample_bytree: 0.5662117236927399<br>min_child_weight: 1<br><b>Objective Value: -6.669368157650402</b>",
          "Trial #57<br>algorithm: xgb<br>learning_rate: 0.011236477438678406<br>max_depth: 4<br>subsample: 0.41151468106452377<br>colsample_bytree: 0.330480957357973<br>min_child_weight: 15<br><b>Objective Value: 0.9362219094296959</b>",
          "Trial #67<br>algorithm: xgb<br>learning_rate: 0.0005787891082612613<br>max_depth: 3<br>subsample: 0.7512158659814847<br>colsample_bytree: 0.7802016742983691<br>min_child_weight: 5<br><b>Objective Value: -6.649379579649593</b>",
          "Trial #86<br>algorithm: xgb<br>learning_rate: 0.01240560912844289<br>max_depth: 8<br>subsample: 0.2704974479544986<br>colsample_bytree: 0.061997530866703454<br>min_child_weight: 15<br><b>Objective Value: 0.9113729713455464</b>",
          "Trial #107<br>algorithm: xgb<br>learning_rate: 0.010250741887711978<br>max_depth: 8<br>subsample: 0.699136270124052<br>colsample_bytree: 0.34676345983827406<br>min_child_weight: 6<br><b>Objective Value: 0.9456992597139712</b>",
          "Trial #129<br>algorithm: xgb<br>learning_rate: 0.00037758996511927124<br>max_depth: 3<br>subsample: 0.2213408681389885<br>colsample_bytree: 0.7364584373058741<br>min_child_weight: 15<br><b>Objective Value: -6.665047997522985</b>",
          "Trial #157<br>algorithm: xgb<br>learning_rate: 0.000484744276997372<br>max_depth: 8<br>subsample: 0.9855479934166286<br>colsample_bytree: 0.4680410649317334<br>min_child_weight: 5<br><b>Objective Value: -6.658982618518887</b>",
          "Trial #188<br>algorithm: xgb<br>learning_rate: 0.022432477519196928<br>max_depth: 5<br>subsample: 0.5819591447885447<br>colsample_bytree: 0.1949715272549276<br>min_child_weight: 13<br><b>Objective Value: 0.9467614990364478</b>"
         ],
         "marker": {
          "color": [
           "rgb(54.0, 70.0, 157.0)",
           "rgb(67.0, 111.0, 177.0)",
           "rgb(49.0, 54.0, 149.0)",
           "rgb(65.0, 105.0, 174.0)",
           "rgb(55.0, 73.0, 158.0)",
           "rgb(50.0, 57.0, 151.0)",
           "rgb(76.0, 126.0, 185.0)",
           "rgb(53.0, 67.0, 155.0)",
           "rgb(69.0, 117.0, 180.0)",
           "rgb(114.0, 171.0, 208.0)",
           "rgb(51.0, 60.0, 152.0)",
           "rgb(52.0, 63.0, 154.0)",
           "rgb(144.0, 196.0, 221.0)"
          ],
          "line": {
           "color": "Grey",
           "width": 0.5
          }
         },
         "mode": "markers",
         "showlegend": false,
         "type": "scatter",
         "x": [
          10,
          1,
          6,
          1,
          10,
          6,
          4,
          3,
          8,
          8,
          3,
          8,
          5
         ],
         "xaxis": "x40",
         "y": [
          9,
          20,
          1,
          20,
          10,
          1,
          15,
          5,
          15,
          6,
          15,
          5,
          13
         ],
         "yaxis": "y40"
        },
        {
         "hovertemplate": "%{hovertext}<extra></extra>",
         "hovertext": [
          "Trial #8<br>algorithm: xgb<br>learning_rate: 0.0016114400564732941<br>max_depth: 10<br>subsample: 0.8558105105039219<br>colsample_bytree: 0.2965777047582458<br>min_child_weight: 9<br><b>Objective Value: -5.373464236107701</b>",
          "Trial #10<br>algorithm: xgb<br>learning_rate: 0.07748571364848593<br>max_depth: 1<br>subsample: 0.1081539403017378<br>colsample_bytree: 0.8774623283402829<br>min_child_weight: 20<br><b>Objective Value: 0.9057358214629305</b>",
          "Trial #16<br>algorithm: xgb<br>learning_rate: 0.0001093221261079389<br>max_depth: 6<br>subsample: 0.9975559933333737<br>colsample_bytree: 0.08773403630454318<br>min_child_weight: 1<br><b>Objective Value: -6.669394335705886</b>",
          "Trial #19<br>algorithm: xgb<br>learning_rate: 0.08019600545172129<br>max_depth: 1<br>subsample: 0.06393922828854465<br>colsample_bytree: 0.9630028278354485<br>min_child_weight: 20<br><b>Objective Value: 0.8811693917915496</b>",
          "Trial #29<br>algorithm: xgb<br>learning_rate: 0.0023166212634019153<br>max_depth: 10<br>subsample: 0.5235492940540687<br>colsample_bytree: 0.6157251098470551<br>min_child_weight: 10<br><b>Objective Value: -2.8957501035877273</b>",
          "Trial #47<br>algorithm: xgb<br>learning_rate: 0.00011521087399364599<br>max_depth: 6<br>subsample: 0.5277084716528383<br>colsample_bytree: 0.5662117236927399<br>min_child_weight: 1<br><b>Objective Value: -6.669368157650402</b>",
          "Trial #57<br>algorithm: xgb<br>learning_rate: 0.011236477438678406<br>max_depth: 4<br>subsample: 0.41151468106452377<br>colsample_bytree: 0.330480957357973<br>min_child_weight: 15<br><b>Objective Value: 0.9362219094296959</b>",
          "Trial #67<br>algorithm: xgb<br>learning_rate: 0.0005787891082612613<br>max_depth: 3<br>subsample: 0.7512158659814847<br>colsample_bytree: 0.7802016742983691<br>min_child_weight: 5<br><b>Objective Value: -6.649379579649593</b>",
          "Trial #86<br>algorithm: xgb<br>learning_rate: 0.01240560912844289<br>max_depth: 8<br>subsample: 0.2704974479544986<br>colsample_bytree: 0.061997530866703454<br>min_child_weight: 15<br><b>Objective Value: 0.9113729713455464</b>",
          "Trial #107<br>algorithm: xgb<br>learning_rate: 0.010250741887711978<br>max_depth: 8<br>subsample: 0.699136270124052<br>colsample_bytree: 0.34676345983827406<br>min_child_weight: 6<br><b>Objective Value: 0.9456992597139712</b>",
          "Trial #129<br>algorithm: xgb<br>learning_rate: 0.00037758996511927124<br>max_depth: 3<br>subsample: 0.2213408681389885<br>colsample_bytree: 0.7364584373058741<br>min_child_weight: 15<br><b>Objective Value: -6.665047997522985</b>",
          "Trial #157<br>algorithm: xgb<br>learning_rate: 0.000484744276997372<br>max_depth: 8<br>subsample: 0.9855479934166286<br>colsample_bytree: 0.4680410649317334<br>min_child_weight: 5<br><b>Objective Value: -6.658982618518887</b>",
          "Trial #188<br>algorithm: xgb<br>learning_rate: 0.022432477519196928<br>max_depth: 5<br>subsample: 0.5819591447885447<br>colsample_bytree: 0.1949715272549276<br>min_child_weight: 13<br><b>Objective Value: 0.9467614990364478</b>"
         ],
         "marker": {
          "color": [
           "rgb(54.0, 70.0, 157.0)",
           "rgb(67.0, 111.0, 177.0)",
           "rgb(49.0, 54.0, 149.0)",
           "rgb(65.0, 105.0, 174.0)",
           "rgb(55.0, 73.0, 158.0)",
           "rgb(50.0, 57.0, 151.0)",
           "rgb(76.0, 126.0, 185.0)",
           "rgb(53.0, 67.0, 155.0)",
           "rgb(69.0, 117.0, 180.0)",
           "rgb(114.0, 171.0, 208.0)",
           "rgb(51.0, 60.0, 152.0)",
           "rgb(52.0, 63.0, 154.0)",
           "rgb(144.0, 196.0, 221.0)"
          ],
          "line": {
           "color": "Grey",
           "width": 0.5
          }
         },
         "mode": "markers",
         "showlegend": false,
         "type": "scatter",
         "x": [
          10,
          1,
          6,
          1,
          10,
          6,
          4,
          3,
          8,
          8,
          3,
          8,
          5
         ],
         "xaxis": "x47",
         "y": [
          0.8558105105039219,
          0.1081539403017378,
          0.9975559933333737,
          0.06393922828854465,
          0.5235492940540687,
          0.5277084716528383,
          0.41151468106452377,
          0.7512158659814847,
          0.2704974479544986,
          0.699136270124052,
          0.2213408681389885,
          0.9855479934166286,
          0.5819591447885447
         ],
         "yaxis": "y47"
        },
        {
         "hovertemplate": "%{hovertext}<extra></extra>",
         "hovertext": [
          "Trial #8<br>algorithm: xgb<br>learning_rate: 0.0016114400564732941<br>max_depth: 10<br>subsample: 0.8558105105039219<br>colsample_bytree: 0.2965777047582458<br>min_child_weight: 9<br><b>Objective Value: -5.373464236107701</b>",
          "Trial #10<br>algorithm: xgb<br>learning_rate: 0.07748571364848593<br>max_depth: 1<br>subsample: 0.1081539403017378<br>colsample_bytree: 0.8774623283402829<br>min_child_weight: 20<br><b>Objective Value: 0.9057358214629305</b>",
          "Trial #16<br>algorithm: xgb<br>learning_rate: 0.0001093221261079389<br>max_depth: 6<br>subsample: 0.9975559933333737<br>colsample_bytree: 0.08773403630454318<br>min_child_weight: 1<br><b>Objective Value: -6.669394335705886</b>",
          "Trial #19<br>algorithm: xgb<br>learning_rate: 0.08019600545172129<br>max_depth: 1<br>subsample: 0.06393922828854465<br>colsample_bytree: 0.9630028278354485<br>min_child_weight: 20<br><b>Objective Value: 0.8811693917915496</b>",
          "Trial #29<br>algorithm: xgb<br>learning_rate: 0.0023166212634019153<br>max_depth: 10<br>subsample: 0.5235492940540687<br>colsample_bytree: 0.6157251098470551<br>min_child_weight: 10<br><b>Objective Value: -2.8957501035877273</b>",
          "Trial #47<br>algorithm: xgb<br>learning_rate: 0.00011521087399364599<br>max_depth: 6<br>subsample: 0.5277084716528383<br>colsample_bytree: 0.5662117236927399<br>min_child_weight: 1<br><b>Objective Value: -6.669368157650402</b>",
          "Trial #57<br>algorithm: xgb<br>learning_rate: 0.011236477438678406<br>max_depth: 4<br>subsample: 0.41151468106452377<br>colsample_bytree: 0.330480957357973<br>min_child_weight: 15<br><b>Objective Value: 0.9362219094296959</b>",
          "Trial #67<br>algorithm: xgb<br>learning_rate: 0.0005787891082612613<br>max_depth: 3<br>subsample: 0.7512158659814847<br>colsample_bytree: 0.7802016742983691<br>min_child_weight: 5<br><b>Objective Value: -6.649379579649593</b>",
          "Trial #86<br>algorithm: xgb<br>learning_rate: 0.01240560912844289<br>max_depth: 8<br>subsample: 0.2704974479544986<br>colsample_bytree: 0.061997530866703454<br>min_child_weight: 15<br><b>Objective Value: 0.9113729713455464</b>",
          "Trial #107<br>algorithm: xgb<br>learning_rate: 0.010250741887711978<br>max_depth: 8<br>subsample: 0.699136270124052<br>colsample_bytree: 0.34676345983827406<br>min_child_weight: 6<br><b>Objective Value: 0.9456992597139712</b>",
          "Trial #129<br>algorithm: xgb<br>learning_rate: 0.00037758996511927124<br>max_depth: 3<br>subsample: 0.2213408681389885<br>colsample_bytree: 0.7364584373058741<br>min_child_weight: 15<br><b>Objective Value: -6.665047997522985</b>",
          "Trial #157<br>algorithm: xgb<br>learning_rate: 0.000484744276997372<br>max_depth: 8<br>subsample: 0.9855479934166286<br>colsample_bytree: 0.4680410649317334<br>min_child_weight: 5<br><b>Objective Value: -6.658982618518887</b>",
          "Trial #188<br>algorithm: xgb<br>learning_rate: 0.022432477519196928<br>max_depth: 5<br>subsample: 0.5819591447885447<br>colsample_bytree: 0.1949715272549276<br>min_child_weight: 13<br><b>Objective Value: 0.9467614990364478</b>"
         ],
         "marker": {
          "color": [
           "rgb(54.0, 70.0, 157.0)",
           "rgb(67.0, 111.0, 177.0)",
           "rgb(49.0, 54.0, 149.0)",
           "rgb(65.0, 105.0, 174.0)",
           "rgb(55.0, 73.0, 158.0)",
           "rgb(50.0, 57.0, 151.0)",
           "rgb(76.0, 126.0, 185.0)",
           "rgb(53.0, 67.0, 155.0)",
           "rgb(69.0, 117.0, 180.0)",
           "rgb(114.0, 171.0, 208.0)",
           "rgb(51.0, 60.0, 152.0)",
           "rgb(52.0, 63.0, 154.0)",
           "rgb(144.0, 196.0, 221.0)"
          ],
          "line": {
           "color": "Grey",
           "width": 0.5
          }
         },
         "mode": "markers",
         "showlegend": false,
         "type": "scatter",
         "x": [
          9,
          20,
          1,
          20,
          10,
          1,
          15,
          5,
          15,
          6,
          15,
          5,
          13
         ],
         "xaxis": "x6",
         "y": [
          "xgb",
          "xgb",
          "xgb",
          "xgb",
          "xgb",
          "xgb",
          "xgb",
          "xgb",
          "xgb",
          "xgb",
          "xgb",
          "xgb",
          "xgb"
         ],
         "yaxis": "y6"
        },
        {
         "hovertemplate": "%{hovertext}<extra></extra>",
         "hovertext": [],
         "marker": {
          "color": [],
          "line": {
           "color": "Grey",
           "width": 0.5
          }
         },
         "mode": "markers",
         "showlegend": false,
         "type": "scatter",
         "x": [],
         "xaxis": "x13",
         "y": [],
         "yaxis": "y13"
        },
        {
         "hovertemplate": "%{hovertext}<extra></extra>",
         "hovertext": [
          "Trial #8<br>algorithm: xgb<br>learning_rate: 0.0016114400564732941<br>max_depth: 10<br>subsample: 0.8558105105039219<br>colsample_bytree: 0.2965777047582458<br>min_child_weight: 9<br><b>Objective Value: -5.373464236107701</b>",
          "Trial #10<br>algorithm: xgb<br>learning_rate: 0.07748571364848593<br>max_depth: 1<br>subsample: 0.1081539403017378<br>colsample_bytree: 0.8774623283402829<br>min_child_weight: 20<br><b>Objective Value: 0.9057358214629305</b>",
          "Trial #16<br>algorithm: xgb<br>learning_rate: 0.0001093221261079389<br>max_depth: 6<br>subsample: 0.9975559933333737<br>colsample_bytree: 0.08773403630454318<br>min_child_weight: 1<br><b>Objective Value: -6.669394335705886</b>",
          "Trial #19<br>algorithm: xgb<br>learning_rate: 0.08019600545172129<br>max_depth: 1<br>subsample: 0.06393922828854465<br>colsample_bytree: 0.9630028278354485<br>min_child_weight: 20<br><b>Objective Value: 0.8811693917915496</b>",
          "Trial #29<br>algorithm: xgb<br>learning_rate: 0.0023166212634019153<br>max_depth: 10<br>subsample: 0.5235492940540687<br>colsample_bytree: 0.6157251098470551<br>min_child_weight: 10<br><b>Objective Value: -2.8957501035877273</b>",
          "Trial #47<br>algorithm: xgb<br>learning_rate: 0.00011521087399364599<br>max_depth: 6<br>subsample: 0.5277084716528383<br>colsample_bytree: 0.5662117236927399<br>min_child_weight: 1<br><b>Objective Value: -6.669368157650402</b>",
          "Trial #57<br>algorithm: xgb<br>learning_rate: 0.011236477438678406<br>max_depth: 4<br>subsample: 0.41151468106452377<br>colsample_bytree: 0.330480957357973<br>min_child_weight: 15<br><b>Objective Value: 0.9362219094296959</b>",
          "Trial #67<br>algorithm: xgb<br>learning_rate: 0.0005787891082612613<br>max_depth: 3<br>subsample: 0.7512158659814847<br>colsample_bytree: 0.7802016742983691<br>min_child_weight: 5<br><b>Objective Value: -6.649379579649593</b>",
          "Trial #86<br>algorithm: xgb<br>learning_rate: 0.01240560912844289<br>max_depth: 8<br>subsample: 0.2704974479544986<br>colsample_bytree: 0.061997530866703454<br>min_child_weight: 15<br><b>Objective Value: 0.9113729713455464</b>",
          "Trial #107<br>algorithm: xgb<br>learning_rate: 0.010250741887711978<br>max_depth: 8<br>subsample: 0.699136270124052<br>colsample_bytree: 0.34676345983827406<br>min_child_weight: 6<br><b>Objective Value: 0.9456992597139712</b>",
          "Trial #129<br>algorithm: xgb<br>learning_rate: 0.00037758996511927124<br>max_depth: 3<br>subsample: 0.2213408681389885<br>colsample_bytree: 0.7364584373058741<br>min_child_weight: 15<br><b>Objective Value: -6.665047997522985</b>",
          "Trial #157<br>algorithm: xgb<br>learning_rate: 0.000484744276997372<br>max_depth: 8<br>subsample: 0.9855479934166286<br>colsample_bytree: 0.4680410649317334<br>min_child_weight: 5<br><b>Objective Value: -6.658982618518887</b>",
          "Trial #188<br>algorithm: xgb<br>learning_rate: 0.022432477519196928<br>max_depth: 5<br>subsample: 0.5819591447885447<br>colsample_bytree: 0.1949715272549276<br>min_child_weight: 13<br><b>Objective Value: 0.9467614990364478</b>"
         ],
         "marker": {
          "color": [
           "rgb(54.0, 70.0, 157.0)",
           "rgb(67.0, 111.0, 177.0)",
           "rgb(49.0, 54.0, 149.0)",
           "rgb(65.0, 105.0, 174.0)",
           "rgb(55.0, 73.0, 158.0)",
           "rgb(50.0, 57.0, 151.0)",
           "rgb(76.0, 126.0, 185.0)",
           "rgb(53.0, 67.0, 155.0)",
           "rgb(69.0, 117.0, 180.0)",
           "rgb(114.0, 171.0, 208.0)",
           "rgb(51.0, 60.0, 152.0)",
           "rgb(52.0, 63.0, 154.0)",
           "rgb(144.0, 196.0, 221.0)"
          ],
          "line": {
           "color": "Grey",
           "width": 0.5
          }
         },
         "mode": "markers",
         "showlegend": false,
         "type": "scatter",
         "x": [
          9,
          20,
          1,
          20,
          10,
          1,
          15,
          5,
          15,
          6,
          15,
          5,
          13
         ],
         "xaxis": "x20",
         "y": [
          0.2965777047582458,
          0.8774623283402829,
          0.08773403630454318,
          0.9630028278354485,
          0.6157251098470551,
          0.5662117236927399,
          0.330480957357973,
          0.7802016742983691,
          0.061997530866703454,
          0.34676345983827406,
          0.7364584373058741,
          0.4680410649317334,
          0.1949715272549276
         ],
         "yaxis": "y20"
        },
        {
         "hovertemplate": "%{hovertext}<extra></extra>",
         "hovertext": [
          "Trial #8<br>algorithm: xgb<br>learning_rate: 0.0016114400564732941<br>max_depth: 10<br>subsample: 0.8558105105039219<br>colsample_bytree: 0.2965777047582458<br>min_child_weight: 9<br><b>Objective Value: -5.373464236107701</b>",
          "Trial #10<br>algorithm: xgb<br>learning_rate: 0.07748571364848593<br>max_depth: 1<br>subsample: 0.1081539403017378<br>colsample_bytree: 0.8774623283402829<br>min_child_weight: 20<br><b>Objective Value: 0.9057358214629305</b>",
          "Trial #16<br>algorithm: xgb<br>learning_rate: 0.0001093221261079389<br>max_depth: 6<br>subsample: 0.9975559933333737<br>colsample_bytree: 0.08773403630454318<br>min_child_weight: 1<br><b>Objective Value: -6.669394335705886</b>",
          "Trial #19<br>algorithm: xgb<br>learning_rate: 0.08019600545172129<br>max_depth: 1<br>subsample: 0.06393922828854465<br>colsample_bytree: 0.9630028278354485<br>min_child_weight: 20<br><b>Objective Value: 0.8811693917915496</b>",
          "Trial #29<br>algorithm: xgb<br>learning_rate: 0.0023166212634019153<br>max_depth: 10<br>subsample: 0.5235492940540687<br>colsample_bytree: 0.6157251098470551<br>min_child_weight: 10<br><b>Objective Value: -2.8957501035877273</b>",
          "Trial #47<br>algorithm: xgb<br>learning_rate: 0.00011521087399364599<br>max_depth: 6<br>subsample: 0.5277084716528383<br>colsample_bytree: 0.5662117236927399<br>min_child_weight: 1<br><b>Objective Value: -6.669368157650402</b>",
          "Trial #57<br>algorithm: xgb<br>learning_rate: 0.011236477438678406<br>max_depth: 4<br>subsample: 0.41151468106452377<br>colsample_bytree: 0.330480957357973<br>min_child_weight: 15<br><b>Objective Value: 0.9362219094296959</b>",
          "Trial #67<br>algorithm: xgb<br>learning_rate: 0.0005787891082612613<br>max_depth: 3<br>subsample: 0.7512158659814847<br>colsample_bytree: 0.7802016742983691<br>min_child_weight: 5<br><b>Objective Value: -6.649379579649593</b>",
          "Trial #86<br>algorithm: xgb<br>learning_rate: 0.01240560912844289<br>max_depth: 8<br>subsample: 0.2704974479544986<br>colsample_bytree: 0.061997530866703454<br>min_child_weight: 15<br><b>Objective Value: 0.9113729713455464</b>",
          "Trial #107<br>algorithm: xgb<br>learning_rate: 0.010250741887711978<br>max_depth: 8<br>subsample: 0.699136270124052<br>colsample_bytree: 0.34676345983827406<br>min_child_weight: 6<br><b>Objective Value: 0.9456992597139712</b>",
          "Trial #129<br>algorithm: xgb<br>learning_rate: 0.00037758996511927124<br>max_depth: 3<br>subsample: 0.2213408681389885<br>colsample_bytree: 0.7364584373058741<br>min_child_weight: 15<br><b>Objective Value: -6.665047997522985</b>",
          "Trial #157<br>algorithm: xgb<br>learning_rate: 0.000484744276997372<br>max_depth: 8<br>subsample: 0.9855479934166286<br>colsample_bytree: 0.4680410649317334<br>min_child_weight: 5<br><b>Objective Value: -6.658982618518887</b>",
          "Trial #188<br>algorithm: xgb<br>learning_rate: 0.022432477519196928<br>max_depth: 5<br>subsample: 0.5819591447885447<br>colsample_bytree: 0.1949715272549276<br>min_child_weight: 13<br><b>Objective Value: 0.9467614990364478</b>"
         ],
         "marker": {
          "color": [
           "rgb(54.0, 70.0, 157.0)",
           "rgb(67.0, 111.0, 177.0)",
           "rgb(49.0, 54.0, 149.0)",
           "rgb(65.0, 105.0, 174.0)",
           "rgb(55.0, 73.0, 158.0)",
           "rgb(50.0, 57.0, 151.0)",
           "rgb(76.0, 126.0, 185.0)",
           "rgb(53.0, 67.0, 155.0)",
           "rgb(69.0, 117.0, 180.0)",
           "rgb(114.0, 171.0, 208.0)",
           "rgb(51.0, 60.0, 152.0)",
           "rgb(52.0, 63.0, 154.0)",
           "rgb(144.0, 196.0, 221.0)"
          ],
          "line": {
           "color": "Grey",
           "width": 0.5
          }
         },
         "mode": "markers",
         "showlegend": false,
         "type": "scatter",
         "x": [
          9,
          20,
          1,
          20,
          10,
          1,
          15,
          5,
          15,
          6,
          15,
          5,
          13
         ],
         "xaxis": "x27",
         "y": [
          0.0016114400564732941,
          0.07748571364848593,
          0.0001093221261079389,
          0.08019600545172129,
          0.0023166212634019153,
          0.00011521087399364599,
          0.011236477438678406,
          0.0005787891082612613,
          0.01240560912844289,
          0.010250741887711978,
          0.00037758996511927124,
          0.000484744276997372,
          0.022432477519196928
         ],
         "yaxis": "y27"
        },
        {
         "hovertemplate": "%{hovertext}<extra></extra>",
         "hovertext": [
          "Trial #8<br>algorithm: xgb<br>learning_rate: 0.0016114400564732941<br>max_depth: 10<br>subsample: 0.8558105105039219<br>colsample_bytree: 0.2965777047582458<br>min_child_weight: 9<br><b>Objective Value: -5.373464236107701</b>",
          "Trial #10<br>algorithm: xgb<br>learning_rate: 0.07748571364848593<br>max_depth: 1<br>subsample: 0.1081539403017378<br>colsample_bytree: 0.8774623283402829<br>min_child_weight: 20<br><b>Objective Value: 0.9057358214629305</b>",
          "Trial #16<br>algorithm: xgb<br>learning_rate: 0.0001093221261079389<br>max_depth: 6<br>subsample: 0.9975559933333737<br>colsample_bytree: 0.08773403630454318<br>min_child_weight: 1<br><b>Objective Value: -6.669394335705886</b>",
          "Trial #19<br>algorithm: xgb<br>learning_rate: 0.08019600545172129<br>max_depth: 1<br>subsample: 0.06393922828854465<br>colsample_bytree: 0.9630028278354485<br>min_child_weight: 20<br><b>Objective Value: 0.8811693917915496</b>",
          "Trial #29<br>algorithm: xgb<br>learning_rate: 0.0023166212634019153<br>max_depth: 10<br>subsample: 0.5235492940540687<br>colsample_bytree: 0.6157251098470551<br>min_child_weight: 10<br><b>Objective Value: -2.8957501035877273</b>",
          "Trial #47<br>algorithm: xgb<br>learning_rate: 0.00011521087399364599<br>max_depth: 6<br>subsample: 0.5277084716528383<br>colsample_bytree: 0.5662117236927399<br>min_child_weight: 1<br><b>Objective Value: -6.669368157650402</b>",
          "Trial #57<br>algorithm: xgb<br>learning_rate: 0.011236477438678406<br>max_depth: 4<br>subsample: 0.41151468106452377<br>colsample_bytree: 0.330480957357973<br>min_child_weight: 15<br><b>Objective Value: 0.9362219094296959</b>",
          "Trial #67<br>algorithm: xgb<br>learning_rate: 0.0005787891082612613<br>max_depth: 3<br>subsample: 0.7512158659814847<br>colsample_bytree: 0.7802016742983691<br>min_child_weight: 5<br><b>Objective Value: -6.649379579649593</b>",
          "Trial #86<br>algorithm: xgb<br>learning_rate: 0.01240560912844289<br>max_depth: 8<br>subsample: 0.2704974479544986<br>colsample_bytree: 0.061997530866703454<br>min_child_weight: 15<br><b>Objective Value: 0.9113729713455464</b>",
          "Trial #107<br>algorithm: xgb<br>learning_rate: 0.010250741887711978<br>max_depth: 8<br>subsample: 0.699136270124052<br>colsample_bytree: 0.34676345983827406<br>min_child_weight: 6<br><b>Objective Value: 0.9456992597139712</b>",
          "Trial #129<br>algorithm: xgb<br>learning_rate: 0.00037758996511927124<br>max_depth: 3<br>subsample: 0.2213408681389885<br>colsample_bytree: 0.7364584373058741<br>min_child_weight: 15<br><b>Objective Value: -6.665047997522985</b>",
          "Trial #157<br>algorithm: xgb<br>learning_rate: 0.000484744276997372<br>max_depth: 8<br>subsample: 0.9855479934166286<br>colsample_bytree: 0.4680410649317334<br>min_child_weight: 5<br><b>Objective Value: -6.658982618518887</b>",
          "Trial #188<br>algorithm: xgb<br>learning_rate: 0.022432477519196928<br>max_depth: 5<br>subsample: 0.5819591447885447<br>colsample_bytree: 0.1949715272549276<br>min_child_weight: 13<br><b>Objective Value: 0.9467614990364478</b>"
         ],
         "marker": {
          "color": [
           "rgb(54.0, 70.0, 157.0)",
           "rgb(67.0, 111.0, 177.0)",
           "rgb(49.0, 54.0, 149.0)",
           "rgb(65.0, 105.0, 174.0)",
           "rgb(55.0, 73.0, 158.0)",
           "rgb(50.0, 57.0, 151.0)",
           "rgb(76.0, 126.0, 185.0)",
           "rgb(53.0, 67.0, 155.0)",
           "rgb(69.0, 117.0, 180.0)",
           "rgb(114.0, 171.0, 208.0)",
           "rgb(51.0, 60.0, 152.0)",
           "rgb(52.0, 63.0, 154.0)",
           "rgb(144.0, 196.0, 221.0)"
          ],
          "line": {
           "color": "Grey",
           "width": 0.5
          }
         },
         "mode": "markers",
         "showlegend": false,
         "type": "scatter",
         "x": [
          9,
          20,
          1,
          20,
          10,
          1,
          15,
          5,
          15,
          6,
          15,
          5,
          13
         ],
         "xaxis": "x34",
         "y": [
          10,
          1,
          6,
          1,
          10,
          6,
          4,
          3,
          8,
          8,
          3,
          8,
          5
         ],
         "yaxis": "y34"
        },
        {
         "hovertemplate": "%{hovertext}<extra></extra>",
         "hovertext": [
          "Trial #8<br>algorithm: xgb<br>learning_rate: 0.0016114400564732941<br>max_depth: 10<br>subsample: 0.8558105105039219<br>colsample_bytree: 0.2965777047582458<br>min_child_weight: 9<br><b>Objective Value: -5.373464236107701</b>",
          "Trial #10<br>algorithm: xgb<br>learning_rate: 0.07748571364848593<br>max_depth: 1<br>subsample: 0.1081539403017378<br>colsample_bytree: 0.8774623283402829<br>min_child_weight: 20<br><b>Objective Value: 0.9057358214629305</b>",
          "Trial #16<br>algorithm: xgb<br>learning_rate: 0.0001093221261079389<br>max_depth: 6<br>subsample: 0.9975559933333737<br>colsample_bytree: 0.08773403630454318<br>min_child_weight: 1<br><b>Objective Value: -6.669394335705886</b>",
          "Trial #19<br>algorithm: xgb<br>learning_rate: 0.08019600545172129<br>max_depth: 1<br>subsample: 0.06393922828854465<br>colsample_bytree: 0.9630028278354485<br>min_child_weight: 20<br><b>Objective Value: 0.8811693917915496</b>",
          "Trial #29<br>algorithm: xgb<br>learning_rate: 0.0023166212634019153<br>max_depth: 10<br>subsample: 0.5235492940540687<br>colsample_bytree: 0.6157251098470551<br>min_child_weight: 10<br><b>Objective Value: -2.8957501035877273</b>",
          "Trial #47<br>algorithm: xgb<br>learning_rate: 0.00011521087399364599<br>max_depth: 6<br>subsample: 0.5277084716528383<br>colsample_bytree: 0.5662117236927399<br>min_child_weight: 1<br><b>Objective Value: -6.669368157650402</b>",
          "Trial #57<br>algorithm: xgb<br>learning_rate: 0.011236477438678406<br>max_depth: 4<br>subsample: 0.41151468106452377<br>colsample_bytree: 0.330480957357973<br>min_child_weight: 15<br><b>Objective Value: 0.9362219094296959</b>",
          "Trial #67<br>algorithm: xgb<br>learning_rate: 0.0005787891082612613<br>max_depth: 3<br>subsample: 0.7512158659814847<br>colsample_bytree: 0.7802016742983691<br>min_child_weight: 5<br><b>Objective Value: -6.649379579649593</b>",
          "Trial #86<br>algorithm: xgb<br>learning_rate: 0.01240560912844289<br>max_depth: 8<br>subsample: 0.2704974479544986<br>colsample_bytree: 0.061997530866703454<br>min_child_weight: 15<br><b>Objective Value: 0.9113729713455464</b>",
          "Trial #107<br>algorithm: xgb<br>learning_rate: 0.010250741887711978<br>max_depth: 8<br>subsample: 0.699136270124052<br>colsample_bytree: 0.34676345983827406<br>min_child_weight: 6<br><b>Objective Value: 0.9456992597139712</b>",
          "Trial #129<br>algorithm: xgb<br>learning_rate: 0.00037758996511927124<br>max_depth: 3<br>subsample: 0.2213408681389885<br>colsample_bytree: 0.7364584373058741<br>min_child_weight: 15<br><b>Objective Value: -6.665047997522985</b>",
          "Trial #157<br>algorithm: xgb<br>learning_rate: 0.000484744276997372<br>max_depth: 8<br>subsample: 0.9855479934166286<br>colsample_bytree: 0.4680410649317334<br>min_child_weight: 5<br><b>Objective Value: -6.658982618518887</b>",
          "Trial #188<br>algorithm: xgb<br>learning_rate: 0.022432477519196928<br>max_depth: 5<br>subsample: 0.5819591447885447<br>colsample_bytree: 0.1949715272549276<br>min_child_weight: 13<br><b>Objective Value: 0.9467614990364478</b>"
         ],
         "marker": {
          "color": [
           "rgb(54.0, 70.0, 157.0)",
           "rgb(67.0, 111.0, 177.0)",
           "rgb(49.0, 54.0, 149.0)",
           "rgb(65.0, 105.0, 174.0)",
           "rgb(55.0, 73.0, 158.0)",
           "rgb(50.0, 57.0, 151.0)",
           "rgb(76.0, 126.0, 185.0)",
           "rgb(53.0, 67.0, 155.0)",
           "rgb(69.0, 117.0, 180.0)",
           "rgb(114.0, 171.0, 208.0)",
           "rgb(51.0, 60.0, 152.0)",
           "rgb(52.0, 63.0, 154.0)",
           "rgb(144.0, 196.0, 221.0)"
          ],
          "line": {
           "color": "Grey",
           "width": 0.5
          }
         },
         "mode": "markers",
         "showlegend": false,
         "type": "scatter",
         "x": [
          9,
          20,
          1,
          20,
          10,
          1,
          15,
          5,
          15,
          6,
          15,
          5,
          13
         ],
         "xaxis": "x41",
         "y": [
          9,
          20,
          1,
          20,
          10,
          1,
          15,
          5,
          15,
          6,
          15,
          5,
          13
         ],
         "yaxis": "y41"
        },
        {
         "hovertemplate": "%{hovertext}<extra></extra>",
         "hovertext": [
          "Trial #8<br>algorithm: xgb<br>learning_rate: 0.0016114400564732941<br>max_depth: 10<br>subsample: 0.8558105105039219<br>colsample_bytree: 0.2965777047582458<br>min_child_weight: 9<br><b>Objective Value: -5.373464236107701</b>",
          "Trial #10<br>algorithm: xgb<br>learning_rate: 0.07748571364848593<br>max_depth: 1<br>subsample: 0.1081539403017378<br>colsample_bytree: 0.8774623283402829<br>min_child_weight: 20<br><b>Objective Value: 0.9057358214629305</b>",
          "Trial #16<br>algorithm: xgb<br>learning_rate: 0.0001093221261079389<br>max_depth: 6<br>subsample: 0.9975559933333737<br>colsample_bytree: 0.08773403630454318<br>min_child_weight: 1<br><b>Objective Value: -6.669394335705886</b>",
          "Trial #19<br>algorithm: xgb<br>learning_rate: 0.08019600545172129<br>max_depth: 1<br>subsample: 0.06393922828854465<br>colsample_bytree: 0.9630028278354485<br>min_child_weight: 20<br><b>Objective Value: 0.8811693917915496</b>",
          "Trial #29<br>algorithm: xgb<br>learning_rate: 0.0023166212634019153<br>max_depth: 10<br>subsample: 0.5235492940540687<br>colsample_bytree: 0.6157251098470551<br>min_child_weight: 10<br><b>Objective Value: -2.8957501035877273</b>",
          "Trial #47<br>algorithm: xgb<br>learning_rate: 0.00011521087399364599<br>max_depth: 6<br>subsample: 0.5277084716528383<br>colsample_bytree: 0.5662117236927399<br>min_child_weight: 1<br><b>Objective Value: -6.669368157650402</b>",
          "Trial #57<br>algorithm: xgb<br>learning_rate: 0.011236477438678406<br>max_depth: 4<br>subsample: 0.41151468106452377<br>colsample_bytree: 0.330480957357973<br>min_child_weight: 15<br><b>Objective Value: 0.9362219094296959</b>",
          "Trial #67<br>algorithm: xgb<br>learning_rate: 0.0005787891082612613<br>max_depth: 3<br>subsample: 0.7512158659814847<br>colsample_bytree: 0.7802016742983691<br>min_child_weight: 5<br><b>Objective Value: -6.649379579649593</b>",
          "Trial #86<br>algorithm: xgb<br>learning_rate: 0.01240560912844289<br>max_depth: 8<br>subsample: 0.2704974479544986<br>colsample_bytree: 0.061997530866703454<br>min_child_weight: 15<br><b>Objective Value: 0.9113729713455464</b>",
          "Trial #107<br>algorithm: xgb<br>learning_rate: 0.010250741887711978<br>max_depth: 8<br>subsample: 0.699136270124052<br>colsample_bytree: 0.34676345983827406<br>min_child_weight: 6<br><b>Objective Value: 0.9456992597139712</b>",
          "Trial #129<br>algorithm: xgb<br>learning_rate: 0.00037758996511927124<br>max_depth: 3<br>subsample: 0.2213408681389885<br>colsample_bytree: 0.7364584373058741<br>min_child_weight: 15<br><b>Objective Value: -6.665047997522985</b>",
          "Trial #157<br>algorithm: xgb<br>learning_rate: 0.000484744276997372<br>max_depth: 8<br>subsample: 0.9855479934166286<br>colsample_bytree: 0.4680410649317334<br>min_child_weight: 5<br><b>Objective Value: -6.658982618518887</b>",
          "Trial #188<br>algorithm: xgb<br>learning_rate: 0.022432477519196928<br>max_depth: 5<br>subsample: 0.5819591447885447<br>colsample_bytree: 0.1949715272549276<br>min_child_weight: 13<br><b>Objective Value: 0.9467614990364478</b>"
         ],
         "marker": {
          "color": [
           "rgb(54.0, 70.0, 157.0)",
           "rgb(67.0, 111.0, 177.0)",
           "rgb(49.0, 54.0, 149.0)",
           "rgb(65.0, 105.0, 174.0)",
           "rgb(55.0, 73.0, 158.0)",
           "rgb(50.0, 57.0, 151.0)",
           "rgb(76.0, 126.0, 185.0)",
           "rgb(53.0, 67.0, 155.0)",
           "rgb(69.0, 117.0, 180.0)",
           "rgb(114.0, 171.0, 208.0)",
           "rgb(51.0, 60.0, 152.0)",
           "rgb(52.0, 63.0, 154.0)",
           "rgb(144.0, 196.0, 221.0)"
          ],
          "line": {
           "color": "Grey",
           "width": 0.5
          }
         },
         "mode": "markers",
         "showlegend": false,
         "type": "scatter",
         "x": [
          9,
          20,
          1,
          20,
          10,
          1,
          15,
          5,
          15,
          6,
          15,
          5,
          13
         ],
         "xaxis": "x48",
         "y": [
          0.8558105105039219,
          0.1081539403017378,
          0.9975559933333737,
          0.06393922828854465,
          0.5235492940540687,
          0.5277084716528383,
          0.41151468106452377,
          0.7512158659814847,
          0.2704974479544986,
          0.699136270124052,
          0.2213408681389885,
          0.9855479934166286,
          0.5819591447885447
         ],
         "yaxis": "y48"
        },
        {
         "hovertemplate": "%{hovertext}<extra></extra>",
         "hovertext": [
          "Trial #8<br>algorithm: xgb<br>learning_rate: 0.0016114400564732941<br>max_depth: 10<br>subsample: 0.8558105105039219<br>colsample_bytree: 0.2965777047582458<br>min_child_weight: 9<br><b>Objective Value: -5.373464236107701</b>",
          "Trial #10<br>algorithm: xgb<br>learning_rate: 0.07748571364848593<br>max_depth: 1<br>subsample: 0.1081539403017378<br>colsample_bytree: 0.8774623283402829<br>min_child_weight: 20<br><b>Objective Value: 0.9057358214629305</b>",
          "Trial #16<br>algorithm: xgb<br>learning_rate: 0.0001093221261079389<br>max_depth: 6<br>subsample: 0.9975559933333737<br>colsample_bytree: 0.08773403630454318<br>min_child_weight: 1<br><b>Objective Value: -6.669394335705886</b>",
          "Trial #19<br>algorithm: xgb<br>learning_rate: 0.08019600545172129<br>max_depth: 1<br>subsample: 0.06393922828854465<br>colsample_bytree: 0.9630028278354485<br>min_child_weight: 20<br><b>Objective Value: 0.8811693917915496</b>",
          "Trial #29<br>algorithm: xgb<br>learning_rate: 0.0023166212634019153<br>max_depth: 10<br>subsample: 0.5235492940540687<br>colsample_bytree: 0.6157251098470551<br>min_child_weight: 10<br><b>Objective Value: -2.8957501035877273</b>",
          "Trial #47<br>algorithm: xgb<br>learning_rate: 0.00011521087399364599<br>max_depth: 6<br>subsample: 0.5277084716528383<br>colsample_bytree: 0.5662117236927399<br>min_child_weight: 1<br><b>Objective Value: -6.669368157650402</b>",
          "Trial #57<br>algorithm: xgb<br>learning_rate: 0.011236477438678406<br>max_depth: 4<br>subsample: 0.41151468106452377<br>colsample_bytree: 0.330480957357973<br>min_child_weight: 15<br><b>Objective Value: 0.9362219094296959</b>",
          "Trial #67<br>algorithm: xgb<br>learning_rate: 0.0005787891082612613<br>max_depth: 3<br>subsample: 0.7512158659814847<br>colsample_bytree: 0.7802016742983691<br>min_child_weight: 5<br><b>Objective Value: -6.649379579649593</b>",
          "Trial #86<br>algorithm: xgb<br>learning_rate: 0.01240560912844289<br>max_depth: 8<br>subsample: 0.2704974479544986<br>colsample_bytree: 0.061997530866703454<br>min_child_weight: 15<br><b>Objective Value: 0.9113729713455464</b>",
          "Trial #107<br>algorithm: xgb<br>learning_rate: 0.010250741887711978<br>max_depth: 8<br>subsample: 0.699136270124052<br>colsample_bytree: 0.34676345983827406<br>min_child_weight: 6<br><b>Objective Value: 0.9456992597139712</b>",
          "Trial #129<br>algorithm: xgb<br>learning_rate: 0.00037758996511927124<br>max_depth: 3<br>subsample: 0.2213408681389885<br>colsample_bytree: 0.7364584373058741<br>min_child_weight: 15<br><b>Objective Value: -6.665047997522985</b>",
          "Trial #157<br>algorithm: xgb<br>learning_rate: 0.000484744276997372<br>max_depth: 8<br>subsample: 0.9855479934166286<br>colsample_bytree: 0.4680410649317334<br>min_child_weight: 5<br><b>Objective Value: -6.658982618518887</b>",
          "Trial #188<br>algorithm: xgb<br>learning_rate: 0.022432477519196928<br>max_depth: 5<br>subsample: 0.5819591447885447<br>colsample_bytree: 0.1949715272549276<br>min_child_weight: 13<br><b>Objective Value: 0.9467614990364478</b>"
         ],
         "marker": {
          "color": [
           "rgb(54.0, 70.0, 157.0)",
           "rgb(67.0, 111.0, 177.0)",
           "rgb(49.0, 54.0, 149.0)",
           "rgb(65.0, 105.0, 174.0)",
           "rgb(55.0, 73.0, 158.0)",
           "rgb(50.0, 57.0, 151.0)",
           "rgb(76.0, 126.0, 185.0)",
           "rgb(53.0, 67.0, 155.0)",
           "rgb(69.0, 117.0, 180.0)",
           "rgb(114.0, 171.0, 208.0)",
           "rgb(51.0, 60.0, 152.0)",
           "rgb(52.0, 63.0, 154.0)",
           "rgb(144.0, 196.0, 221.0)"
          ],
          "line": {
           "color": "Grey",
           "width": 0.5
          }
         },
         "mode": "markers",
         "showlegend": false,
         "type": "scatter",
         "x": [
          0.8558105105039219,
          0.1081539403017378,
          0.9975559933333737,
          0.06393922828854465,
          0.5235492940540687,
          0.5277084716528383,
          0.41151468106452377,
          0.7512158659814847,
          0.2704974479544986,
          0.699136270124052,
          0.2213408681389885,
          0.9855479934166286,
          0.5819591447885447
         ],
         "xaxis": "x7",
         "y": [
          "xgb",
          "xgb",
          "xgb",
          "xgb",
          "xgb",
          "xgb",
          "xgb",
          "xgb",
          "xgb",
          "xgb",
          "xgb",
          "xgb",
          "xgb"
         ],
         "yaxis": "y7"
        },
        {
         "hovertemplate": "%{hovertext}<extra></extra>",
         "hovertext": [],
         "marker": {
          "color": [],
          "line": {
           "color": "Grey",
           "width": 0.5
          }
         },
         "mode": "markers",
         "showlegend": false,
         "type": "scatter",
         "x": [],
         "xaxis": "x14",
         "y": [],
         "yaxis": "y14"
        },
        {
         "hovertemplate": "%{hovertext}<extra></extra>",
         "hovertext": [
          "Trial #8<br>algorithm: xgb<br>learning_rate: 0.0016114400564732941<br>max_depth: 10<br>subsample: 0.8558105105039219<br>colsample_bytree: 0.2965777047582458<br>min_child_weight: 9<br><b>Objective Value: -5.373464236107701</b>",
          "Trial #10<br>algorithm: xgb<br>learning_rate: 0.07748571364848593<br>max_depth: 1<br>subsample: 0.1081539403017378<br>colsample_bytree: 0.8774623283402829<br>min_child_weight: 20<br><b>Objective Value: 0.9057358214629305</b>",
          "Trial #16<br>algorithm: xgb<br>learning_rate: 0.0001093221261079389<br>max_depth: 6<br>subsample: 0.9975559933333737<br>colsample_bytree: 0.08773403630454318<br>min_child_weight: 1<br><b>Objective Value: -6.669394335705886</b>",
          "Trial #19<br>algorithm: xgb<br>learning_rate: 0.08019600545172129<br>max_depth: 1<br>subsample: 0.06393922828854465<br>colsample_bytree: 0.9630028278354485<br>min_child_weight: 20<br><b>Objective Value: 0.8811693917915496</b>",
          "Trial #29<br>algorithm: xgb<br>learning_rate: 0.0023166212634019153<br>max_depth: 10<br>subsample: 0.5235492940540687<br>colsample_bytree: 0.6157251098470551<br>min_child_weight: 10<br><b>Objective Value: -2.8957501035877273</b>",
          "Trial #47<br>algorithm: xgb<br>learning_rate: 0.00011521087399364599<br>max_depth: 6<br>subsample: 0.5277084716528383<br>colsample_bytree: 0.5662117236927399<br>min_child_weight: 1<br><b>Objective Value: -6.669368157650402</b>",
          "Trial #57<br>algorithm: xgb<br>learning_rate: 0.011236477438678406<br>max_depth: 4<br>subsample: 0.41151468106452377<br>colsample_bytree: 0.330480957357973<br>min_child_weight: 15<br><b>Objective Value: 0.9362219094296959</b>",
          "Trial #67<br>algorithm: xgb<br>learning_rate: 0.0005787891082612613<br>max_depth: 3<br>subsample: 0.7512158659814847<br>colsample_bytree: 0.7802016742983691<br>min_child_weight: 5<br><b>Objective Value: -6.649379579649593</b>",
          "Trial #86<br>algorithm: xgb<br>learning_rate: 0.01240560912844289<br>max_depth: 8<br>subsample: 0.2704974479544986<br>colsample_bytree: 0.061997530866703454<br>min_child_weight: 15<br><b>Objective Value: 0.9113729713455464</b>",
          "Trial #107<br>algorithm: xgb<br>learning_rate: 0.010250741887711978<br>max_depth: 8<br>subsample: 0.699136270124052<br>colsample_bytree: 0.34676345983827406<br>min_child_weight: 6<br><b>Objective Value: 0.9456992597139712</b>",
          "Trial #129<br>algorithm: xgb<br>learning_rate: 0.00037758996511927124<br>max_depth: 3<br>subsample: 0.2213408681389885<br>colsample_bytree: 0.7364584373058741<br>min_child_weight: 15<br><b>Objective Value: -6.665047997522985</b>",
          "Trial #157<br>algorithm: xgb<br>learning_rate: 0.000484744276997372<br>max_depth: 8<br>subsample: 0.9855479934166286<br>colsample_bytree: 0.4680410649317334<br>min_child_weight: 5<br><b>Objective Value: -6.658982618518887</b>",
          "Trial #188<br>algorithm: xgb<br>learning_rate: 0.022432477519196928<br>max_depth: 5<br>subsample: 0.5819591447885447<br>colsample_bytree: 0.1949715272549276<br>min_child_weight: 13<br><b>Objective Value: 0.9467614990364478</b>"
         ],
         "marker": {
          "color": [
           "rgb(54.0, 70.0, 157.0)",
           "rgb(67.0, 111.0, 177.0)",
           "rgb(49.0, 54.0, 149.0)",
           "rgb(65.0, 105.0, 174.0)",
           "rgb(55.0, 73.0, 158.0)",
           "rgb(50.0, 57.0, 151.0)",
           "rgb(76.0, 126.0, 185.0)",
           "rgb(53.0, 67.0, 155.0)",
           "rgb(69.0, 117.0, 180.0)",
           "rgb(114.0, 171.0, 208.0)",
           "rgb(51.0, 60.0, 152.0)",
           "rgb(52.0, 63.0, 154.0)",
           "rgb(144.0, 196.0, 221.0)"
          ],
          "line": {
           "color": "Grey",
           "width": 0.5
          }
         },
         "mode": "markers",
         "showlegend": false,
         "type": "scatter",
         "x": [
          0.8558105105039219,
          0.1081539403017378,
          0.9975559933333737,
          0.06393922828854465,
          0.5235492940540687,
          0.5277084716528383,
          0.41151468106452377,
          0.7512158659814847,
          0.2704974479544986,
          0.699136270124052,
          0.2213408681389885,
          0.9855479934166286,
          0.5819591447885447
         ],
         "xaxis": "x21",
         "y": [
          0.2965777047582458,
          0.8774623283402829,
          0.08773403630454318,
          0.9630028278354485,
          0.6157251098470551,
          0.5662117236927399,
          0.330480957357973,
          0.7802016742983691,
          0.061997530866703454,
          0.34676345983827406,
          0.7364584373058741,
          0.4680410649317334,
          0.1949715272549276
         ],
         "yaxis": "y21"
        },
        {
         "hovertemplate": "%{hovertext}<extra></extra>",
         "hovertext": [
          "Trial #8<br>algorithm: xgb<br>learning_rate: 0.0016114400564732941<br>max_depth: 10<br>subsample: 0.8558105105039219<br>colsample_bytree: 0.2965777047582458<br>min_child_weight: 9<br><b>Objective Value: -5.373464236107701</b>",
          "Trial #10<br>algorithm: xgb<br>learning_rate: 0.07748571364848593<br>max_depth: 1<br>subsample: 0.1081539403017378<br>colsample_bytree: 0.8774623283402829<br>min_child_weight: 20<br><b>Objective Value: 0.9057358214629305</b>",
          "Trial #16<br>algorithm: xgb<br>learning_rate: 0.0001093221261079389<br>max_depth: 6<br>subsample: 0.9975559933333737<br>colsample_bytree: 0.08773403630454318<br>min_child_weight: 1<br><b>Objective Value: -6.669394335705886</b>",
          "Trial #19<br>algorithm: xgb<br>learning_rate: 0.08019600545172129<br>max_depth: 1<br>subsample: 0.06393922828854465<br>colsample_bytree: 0.9630028278354485<br>min_child_weight: 20<br><b>Objective Value: 0.8811693917915496</b>",
          "Trial #29<br>algorithm: xgb<br>learning_rate: 0.0023166212634019153<br>max_depth: 10<br>subsample: 0.5235492940540687<br>colsample_bytree: 0.6157251098470551<br>min_child_weight: 10<br><b>Objective Value: -2.8957501035877273</b>",
          "Trial #47<br>algorithm: xgb<br>learning_rate: 0.00011521087399364599<br>max_depth: 6<br>subsample: 0.5277084716528383<br>colsample_bytree: 0.5662117236927399<br>min_child_weight: 1<br><b>Objective Value: -6.669368157650402</b>",
          "Trial #57<br>algorithm: xgb<br>learning_rate: 0.011236477438678406<br>max_depth: 4<br>subsample: 0.41151468106452377<br>colsample_bytree: 0.330480957357973<br>min_child_weight: 15<br><b>Objective Value: 0.9362219094296959</b>",
          "Trial #67<br>algorithm: xgb<br>learning_rate: 0.0005787891082612613<br>max_depth: 3<br>subsample: 0.7512158659814847<br>colsample_bytree: 0.7802016742983691<br>min_child_weight: 5<br><b>Objective Value: -6.649379579649593</b>",
          "Trial #86<br>algorithm: xgb<br>learning_rate: 0.01240560912844289<br>max_depth: 8<br>subsample: 0.2704974479544986<br>colsample_bytree: 0.061997530866703454<br>min_child_weight: 15<br><b>Objective Value: 0.9113729713455464</b>",
          "Trial #107<br>algorithm: xgb<br>learning_rate: 0.010250741887711978<br>max_depth: 8<br>subsample: 0.699136270124052<br>colsample_bytree: 0.34676345983827406<br>min_child_weight: 6<br><b>Objective Value: 0.9456992597139712</b>",
          "Trial #129<br>algorithm: xgb<br>learning_rate: 0.00037758996511927124<br>max_depth: 3<br>subsample: 0.2213408681389885<br>colsample_bytree: 0.7364584373058741<br>min_child_weight: 15<br><b>Objective Value: -6.665047997522985</b>",
          "Trial #157<br>algorithm: xgb<br>learning_rate: 0.000484744276997372<br>max_depth: 8<br>subsample: 0.9855479934166286<br>colsample_bytree: 0.4680410649317334<br>min_child_weight: 5<br><b>Objective Value: -6.658982618518887</b>",
          "Trial #188<br>algorithm: xgb<br>learning_rate: 0.022432477519196928<br>max_depth: 5<br>subsample: 0.5819591447885447<br>colsample_bytree: 0.1949715272549276<br>min_child_weight: 13<br><b>Objective Value: 0.9467614990364478</b>"
         ],
         "marker": {
          "color": [
           "rgb(54.0, 70.0, 157.0)",
           "rgb(67.0, 111.0, 177.0)",
           "rgb(49.0, 54.0, 149.0)",
           "rgb(65.0, 105.0, 174.0)",
           "rgb(55.0, 73.0, 158.0)",
           "rgb(50.0, 57.0, 151.0)",
           "rgb(76.0, 126.0, 185.0)",
           "rgb(53.0, 67.0, 155.0)",
           "rgb(69.0, 117.0, 180.0)",
           "rgb(114.0, 171.0, 208.0)",
           "rgb(51.0, 60.0, 152.0)",
           "rgb(52.0, 63.0, 154.0)",
           "rgb(144.0, 196.0, 221.0)"
          ],
          "line": {
           "color": "Grey",
           "width": 0.5
          }
         },
         "mode": "markers",
         "showlegend": false,
         "type": "scatter",
         "x": [
          0.8558105105039219,
          0.1081539403017378,
          0.9975559933333737,
          0.06393922828854465,
          0.5235492940540687,
          0.5277084716528383,
          0.41151468106452377,
          0.7512158659814847,
          0.2704974479544986,
          0.699136270124052,
          0.2213408681389885,
          0.9855479934166286,
          0.5819591447885447
         ],
         "xaxis": "x28",
         "y": [
          0.0016114400564732941,
          0.07748571364848593,
          0.0001093221261079389,
          0.08019600545172129,
          0.0023166212634019153,
          0.00011521087399364599,
          0.011236477438678406,
          0.0005787891082612613,
          0.01240560912844289,
          0.010250741887711978,
          0.00037758996511927124,
          0.000484744276997372,
          0.022432477519196928
         ],
         "yaxis": "y28"
        },
        {
         "hovertemplate": "%{hovertext}<extra></extra>",
         "hovertext": [
          "Trial #8<br>algorithm: xgb<br>learning_rate: 0.0016114400564732941<br>max_depth: 10<br>subsample: 0.8558105105039219<br>colsample_bytree: 0.2965777047582458<br>min_child_weight: 9<br><b>Objective Value: -5.373464236107701</b>",
          "Trial #10<br>algorithm: xgb<br>learning_rate: 0.07748571364848593<br>max_depth: 1<br>subsample: 0.1081539403017378<br>colsample_bytree: 0.8774623283402829<br>min_child_weight: 20<br><b>Objective Value: 0.9057358214629305</b>",
          "Trial #16<br>algorithm: xgb<br>learning_rate: 0.0001093221261079389<br>max_depth: 6<br>subsample: 0.9975559933333737<br>colsample_bytree: 0.08773403630454318<br>min_child_weight: 1<br><b>Objective Value: -6.669394335705886</b>",
          "Trial #19<br>algorithm: xgb<br>learning_rate: 0.08019600545172129<br>max_depth: 1<br>subsample: 0.06393922828854465<br>colsample_bytree: 0.9630028278354485<br>min_child_weight: 20<br><b>Objective Value: 0.8811693917915496</b>",
          "Trial #29<br>algorithm: xgb<br>learning_rate: 0.0023166212634019153<br>max_depth: 10<br>subsample: 0.5235492940540687<br>colsample_bytree: 0.6157251098470551<br>min_child_weight: 10<br><b>Objective Value: -2.8957501035877273</b>",
          "Trial #47<br>algorithm: xgb<br>learning_rate: 0.00011521087399364599<br>max_depth: 6<br>subsample: 0.5277084716528383<br>colsample_bytree: 0.5662117236927399<br>min_child_weight: 1<br><b>Objective Value: -6.669368157650402</b>",
          "Trial #57<br>algorithm: xgb<br>learning_rate: 0.011236477438678406<br>max_depth: 4<br>subsample: 0.41151468106452377<br>colsample_bytree: 0.330480957357973<br>min_child_weight: 15<br><b>Objective Value: 0.9362219094296959</b>",
          "Trial #67<br>algorithm: xgb<br>learning_rate: 0.0005787891082612613<br>max_depth: 3<br>subsample: 0.7512158659814847<br>colsample_bytree: 0.7802016742983691<br>min_child_weight: 5<br><b>Objective Value: -6.649379579649593</b>",
          "Trial #86<br>algorithm: xgb<br>learning_rate: 0.01240560912844289<br>max_depth: 8<br>subsample: 0.2704974479544986<br>colsample_bytree: 0.061997530866703454<br>min_child_weight: 15<br><b>Objective Value: 0.9113729713455464</b>",
          "Trial #107<br>algorithm: xgb<br>learning_rate: 0.010250741887711978<br>max_depth: 8<br>subsample: 0.699136270124052<br>colsample_bytree: 0.34676345983827406<br>min_child_weight: 6<br><b>Objective Value: 0.9456992597139712</b>",
          "Trial #129<br>algorithm: xgb<br>learning_rate: 0.00037758996511927124<br>max_depth: 3<br>subsample: 0.2213408681389885<br>colsample_bytree: 0.7364584373058741<br>min_child_weight: 15<br><b>Objective Value: -6.665047997522985</b>",
          "Trial #157<br>algorithm: xgb<br>learning_rate: 0.000484744276997372<br>max_depth: 8<br>subsample: 0.9855479934166286<br>colsample_bytree: 0.4680410649317334<br>min_child_weight: 5<br><b>Objective Value: -6.658982618518887</b>",
          "Trial #188<br>algorithm: xgb<br>learning_rate: 0.022432477519196928<br>max_depth: 5<br>subsample: 0.5819591447885447<br>colsample_bytree: 0.1949715272549276<br>min_child_weight: 13<br><b>Objective Value: 0.9467614990364478</b>"
         ],
         "marker": {
          "color": [
           "rgb(54.0, 70.0, 157.0)",
           "rgb(67.0, 111.0, 177.0)",
           "rgb(49.0, 54.0, 149.0)",
           "rgb(65.0, 105.0, 174.0)",
           "rgb(55.0, 73.0, 158.0)",
           "rgb(50.0, 57.0, 151.0)",
           "rgb(76.0, 126.0, 185.0)",
           "rgb(53.0, 67.0, 155.0)",
           "rgb(69.0, 117.0, 180.0)",
           "rgb(114.0, 171.0, 208.0)",
           "rgb(51.0, 60.0, 152.0)",
           "rgb(52.0, 63.0, 154.0)",
           "rgb(144.0, 196.0, 221.0)"
          ],
          "line": {
           "color": "Grey",
           "width": 0.5
          }
         },
         "mode": "markers",
         "showlegend": false,
         "type": "scatter",
         "x": [
          0.8558105105039219,
          0.1081539403017378,
          0.9975559933333737,
          0.06393922828854465,
          0.5235492940540687,
          0.5277084716528383,
          0.41151468106452377,
          0.7512158659814847,
          0.2704974479544986,
          0.699136270124052,
          0.2213408681389885,
          0.9855479934166286,
          0.5819591447885447
         ],
         "xaxis": "x35",
         "y": [
          10,
          1,
          6,
          1,
          10,
          6,
          4,
          3,
          8,
          8,
          3,
          8,
          5
         ],
         "yaxis": "y35"
        },
        {
         "hovertemplate": "%{hovertext}<extra></extra>",
         "hovertext": [
          "Trial #8<br>algorithm: xgb<br>learning_rate: 0.0016114400564732941<br>max_depth: 10<br>subsample: 0.8558105105039219<br>colsample_bytree: 0.2965777047582458<br>min_child_weight: 9<br><b>Objective Value: -5.373464236107701</b>",
          "Trial #10<br>algorithm: xgb<br>learning_rate: 0.07748571364848593<br>max_depth: 1<br>subsample: 0.1081539403017378<br>colsample_bytree: 0.8774623283402829<br>min_child_weight: 20<br><b>Objective Value: 0.9057358214629305</b>",
          "Trial #16<br>algorithm: xgb<br>learning_rate: 0.0001093221261079389<br>max_depth: 6<br>subsample: 0.9975559933333737<br>colsample_bytree: 0.08773403630454318<br>min_child_weight: 1<br><b>Objective Value: -6.669394335705886</b>",
          "Trial #19<br>algorithm: xgb<br>learning_rate: 0.08019600545172129<br>max_depth: 1<br>subsample: 0.06393922828854465<br>colsample_bytree: 0.9630028278354485<br>min_child_weight: 20<br><b>Objective Value: 0.8811693917915496</b>",
          "Trial #29<br>algorithm: xgb<br>learning_rate: 0.0023166212634019153<br>max_depth: 10<br>subsample: 0.5235492940540687<br>colsample_bytree: 0.6157251098470551<br>min_child_weight: 10<br><b>Objective Value: -2.8957501035877273</b>",
          "Trial #47<br>algorithm: xgb<br>learning_rate: 0.00011521087399364599<br>max_depth: 6<br>subsample: 0.5277084716528383<br>colsample_bytree: 0.5662117236927399<br>min_child_weight: 1<br><b>Objective Value: -6.669368157650402</b>",
          "Trial #57<br>algorithm: xgb<br>learning_rate: 0.011236477438678406<br>max_depth: 4<br>subsample: 0.41151468106452377<br>colsample_bytree: 0.330480957357973<br>min_child_weight: 15<br><b>Objective Value: 0.9362219094296959</b>",
          "Trial #67<br>algorithm: xgb<br>learning_rate: 0.0005787891082612613<br>max_depth: 3<br>subsample: 0.7512158659814847<br>colsample_bytree: 0.7802016742983691<br>min_child_weight: 5<br><b>Objective Value: -6.649379579649593</b>",
          "Trial #86<br>algorithm: xgb<br>learning_rate: 0.01240560912844289<br>max_depth: 8<br>subsample: 0.2704974479544986<br>colsample_bytree: 0.061997530866703454<br>min_child_weight: 15<br><b>Objective Value: 0.9113729713455464</b>",
          "Trial #107<br>algorithm: xgb<br>learning_rate: 0.010250741887711978<br>max_depth: 8<br>subsample: 0.699136270124052<br>colsample_bytree: 0.34676345983827406<br>min_child_weight: 6<br><b>Objective Value: 0.9456992597139712</b>",
          "Trial #129<br>algorithm: xgb<br>learning_rate: 0.00037758996511927124<br>max_depth: 3<br>subsample: 0.2213408681389885<br>colsample_bytree: 0.7364584373058741<br>min_child_weight: 15<br><b>Objective Value: -6.665047997522985</b>",
          "Trial #157<br>algorithm: xgb<br>learning_rate: 0.000484744276997372<br>max_depth: 8<br>subsample: 0.9855479934166286<br>colsample_bytree: 0.4680410649317334<br>min_child_weight: 5<br><b>Objective Value: -6.658982618518887</b>",
          "Trial #188<br>algorithm: xgb<br>learning_rate: 0.022432477519196928<br>max_depth: 5<br>subsample: 0.5819591447885447<br>colsample_bytree: 0.1949715272549276<br>min_child_weight: 13<br><b>Objective Value: 0.9467614990364478</b>"
         ],
         "marker": {
          "color": [
           "rgb(54.0, 70.0, 157.0)",
           "rgb(67.0, 111.0, 177.0)",
           "rgb(49.0, 54.0, 149.0)",
           "rgb(65.0, 105.0, 174.0)",
           "rgb(55.0, 73.0, 158.0)",
           "rgb(50.0, 57.0, 151.0)",
           "rgb(76.0, 126.0, 185.0)",
           "rgb(53.0, 67.0, 155.0)",
           "rgb(69.0, 117.0, 180.0)",
           "rgb(114.0, 171.0, 208.0)",
           "rgb(51.0, 60.0, 152.0)",
           "rgb(52.0, 63.0, 154.0)",
           "rgb(144.0, 196.0, 221.0)"
          ],
          "line": {
           "color": "Grey",
           "width": 0.5
          }
         },
         "mode": "markers",
         "showlegend": false,
         "type": "scatter",
         "x": [
          0.8558105105039219,
          0.1081539403017378,
          0.9975559933333737,
          0.06393922828854465,
          0.5235492940540687,
          0.5277084716528383,
          0.41151468106452377,
          0.7512158659814847,
          0.2704974479544986,
          0.699136270124052,
          0.2213408681389885,
          0.9855479934166286,
          0.5819591447885447
         ],
         "xaxis": "x42",
         "y": [
          9,
          20,
          1,
          20,
          10,
          1,
          15,
          5,
          15,
          6,
          15,
          5,
          13
         ],
         "yaxis": "y42"
        },
        {
         "hovertemplate": "%{hovertext}<extra></extra>",
         "hovertext": [
          "Trial #8<br>algorithm: xgb<br>learning_rate: 0.0016114400564732941<br>max_depth: 10<br>subsample: 0.8558105105039219<br>colsample_bytree: 0.2965777047582458<br>min_child_weight: 9<br><b>Objective Value: -5.373464236107701</b>",
          "Trial #10<br>algorithm: xgb<br>learning_rate: 0.07748571364848593<br>max_depth: 1<br>subsample: 0.1081539403017378<br>colsample_bytree: 0.8774623283402829<br>min_child_weight: 20<br><b>Objective Value: 0.9057358214629305</b>",
          "Trial #16<br>algorithm: xgb<br>learning_rate: 0.0001093221261079389<br>max_depth: 6<br>subsample: 0.9975559933333737<br>colsample_bytree: 0.08773403630454318<br>min_child_weight: 1<br><b>Objective Value: -6.669394335705886</b>",
          "Trial #19<br>algorithm: xgb<br>learning_rate: 0.08019600545172129<br>max_depth: 1<br>subsample: 0.06393922828854465<br>colsample_bytree: 0.9630028278354485<br>min_child_weight: 20<br><b>Objective Value: 0.8811693917915496</b>",
          "Trial #29<br>algorithm: xgb<br>learning_rate: 0.0023166212634019153<br>max_depth: 10<br>subsample: 0.5235492940540687<br>colsample_bytree: 0.6157251098470551<br>min_child_weight: 10<br><b>Objective Value: -2.8957501035877273</b>",
          "Trial #47<br>algorithm: xgb<br>learning_rate: 0.00011521087399364599<br>max_depth: 6<br>subsample: 0.5277084716528383<br>colsample_bytree: 0.5662117236927399<br>min_child_weight: 1<br><b>Objective Value: -6.669368157650402</b>",
          "Trial #57<br>algorithm: xgb<br>learning_rate: 0.011236477438678406<br>max_depth: 4<br>subsample: 0.41151468106452377<br>colsample_bytree: 0.330480957357973<br>min_child_weight: 15<br><b>Objective Value: 0.9362219094296959</b>",
          "Trial #67<br>algorithm: xgb<br>learning_rate: 0.0005787891082612613<br>max_depth: 3<br>subsample: 0.7512158659814847<br>colsample_bytree: 0.7802016742983691<br>min_child_weight: 5<br><b>Objective Value: -6.649379579649593</b>",
          "Trial #86<br>algorithm: xgb<br>learning_rate: 0.01240560912844289<br>max_depth: 8<br>subsample: 0.2704974479544986<br>colsample_bytree: 0.061997530866703454<br>min_child_weight: 15<br><b>Objective Value: 0.9113729713455464</b>",
          "Trial #107<br>algorithm: xgb<br>learning_rate: 0.010250741887711978<br>max_depth: 8<br>subsample: 0.699136270124052<br>colsample_bytree: 0.34676345983827406<br>min_child_weight: 6<br><b>Objective Value: 0.9456992597139712</b>",
          "Trial #129<br>algorithm: xgb<br>learning_rate: 0.00037758996511927124<br>max_depth: 3<br>subsample: 0.2213408681389885<br>colsample_bytree: 0.7364584373058741<br>min_child_weight: 15<br><b>Objective Value: -6.665047997522985</b>",
          "Trial #157<br>algorithm: xgb<br>learning_rate: 0.000484744276997372<br>max_depth: 8<br>subsample: 0.9855479934166286<br>colsample_bytree: 0.4680410649317334<br>min_child_weight: 5<br><b>Objective Value: -6.658982618518887</b>",
          "Trial #188<br>algorithm: xgb<br>learning_rate: 0.022432477519196928<br>max_depth: 5<br>subsample: 0.5819591447885447<br>colsample_bytree: 0.1949715272549276<br>min_child_weight: 13<br><b>Objective Value: 0.9467614990364478</b>"
         ],
         "marker": {
          "color": [
           "rgb(54.0, 70.0, 157.0)",
           "rgb(67.0, 111.0, 177.0)",
           "rgb(49.0, 54.0, 149.0)",
           "rgb(65.0, 105.0, 174.0)",
           "rgb(55.0, 73.0, 158.0)",
           "rgb(50.0, 57.0, 151.0)",
           "rgb(76.0, 126.0, 185.0)",
           "rgb(53.0, 67.0, 155.0)",
           "rgb(69.0, 117.0, 180.0)",
           "rgb(114.0, 171.0, 208.0)",
           "rgb(51.0, 60.0, 152.0)",
           "rgb(52.0, 63.0, 154.0)",
           "rgb(144.0, 196.0, 221.0)"
          ],
          "line": {
           "color": "Grey",
           "width": 0.5
          }
         },
         "mode": "markers",
         "showlegend": false,
         "type": "scatter",
         "x": [
          0.8558105105039219,
          0.1081539403017378,
          0.9975559933333737,
          0.06393922828854465,
          0.5235492940540687,
          0.5277084716528383,
          0.41151468106452377,
          0.7512158659814847,
          0.2704974479544986,
          0.699136270124052,
          0.2213408681389885,
          0.9855479934166286,
          0.5819591447885447
         ],
         "xaxis": "x49",
         "y": [
          0.8558105105039219,
          0.1081539403017378,
          0.9975559933333737,
          0.06393922828854465,
          0.5235492940540687,
          0.5277084716528383,
          0.41151468106452377,
          0.7512158659814847,
          0.2704974479544986,
          0.699136270124052,
          0.2213408681389885,
          0.9855479934166286,
          0.5819591447885447
         ],
         "yaxis": "y49"
        },
        {
         "hoverinfo": "none",
         "marker": {
          "cmax": 1,
          "cmin": 0,
          "colorbar": {
           "thickness": 10,
           "ticktext": [
            "min. (-6.66939)",
            "25% (0.946593)",
            "50% (0.949962)",
            "75% (0.950246)",
            "max. (0.950297)"
           ],
           "tickvals": [
            0,
            0.25,
            0.5,
            0.75,
            1
           ]
          },
          "colorscale": [
           [
            0,
            "rgb(49,54,149)"
           ],
           [
            0.1,
            "rgb(69,117,180)"
           ],
           [
            0.2,
            "rgb(116,173,209)"
           ],
           [
            0.3,
            "rgb(171,217,233)"
           ],
           [
            0.4,
            "rgb(224,243,248)"
           ],
           [
            0.5,
            "rgb(255,255,191)"
           ],
           [
            0.6,
            "rgb(254,224,144)"
           ],
           [
            0.7,
            "rgb(253,174,97)"
           ],
           [
            0.8,
            "rgb(244,109,67)"
           ],
           [
            0.9,
            "rgb(215,48,39)"
           ],
           [
            1,
            "rgb(165,0,38)"
           ]
          ],
          "showscale": true
         },
         "mode": "markers",
         "showlegend": false,
         "type": "scatter",
         "x": [
          null
         ],
         "y": [
          null
         ]
        }
       ],
       "layout": {
        "autosize": false,
        "height": 1000,
        "template": {
         "data": {
          "bar": [
           {
            "error_x": {
             "color": "#2a3f5f"
            },
            "error_y": {
             "color": "#2a3f5f"
            },
            "marker": {
             "line": {
              "color": "#E5ECF6",
              "width": 0.5
             },
             "pattern": {
              "fillmode": "overlay",
              "size": 10,
              "solidity": 0.2
             }
            },
            "type": "bar"
           }
          ],
          "barpolar": [
           {
            "marker": {
             "line": {
              "color": "#E5ECF6",
              "width": 0.5
             },
             "pattern": {
              "fillmode": "overlay",
              "size": 10,
              "solidity": 0.2
             }
            },
            "type": "barpolar"
           }
          ],
          "carpet": [
           {
            "aaxis": {
             "endlinecolor": "#2a3f5f",
             "gridcolor": "white",
             "linecolor": "white",
             "minorgridcolor": "white",
             "startlinecolor": "#2a3f5f"
            },
            "baxis": {
             "endlinecolor": "#2a3f5f",
             "gridcolor": "white",
             "linecolor": "white",
             "minorgridcolor": "white",
             "startlinecolor": "#2a3f5f"
            },
            "type": "carpet"
           }
          ],
          "choropleth": [
           {
            "colorbar": {
             "outlinewidth": 0,
             "ticks": ""
            },
            "type": "choropleth"
           }
          ],
          "contour": [
           {
            "colorbar": {
             "outlinewidth": 0,
             "ticks": ""
            },
            "colorscale": [
             [
              0,
              "#0d0887"
             ],
             [
              0.1111111111111111,
              "#46039f"
             ],
             [
              0.2222222222222222,
              "#7201a8"
             ],
             [
              0.3333333333333333,
              "#9c179e"
             ],
             [
              0.4444444444444444,
              "#bd3786"
             ],
             [
              0.5555555555555556,
              "#d8576b"
             ],
             [
              0.6666666666666666,
              "#ed7953"
             ],
             [
              0.7777777777777778,
              "#fb9f3a"
             ],
             [
              0.8888888888888888,
              "#fdca26"
             ],
             [
              1,
              "#f0f921"
             ]
            ],
            "type": "contour"
           }
          ],
          "contourcarpet": [
           {
            "colorbar": {
             "outlinewidth": 0,
             "ticks": ""
            },
            "type": "contourcarpet"
           }
          ],
          "heatmap": [
           {
            "colorbar": {
             "outlinewidth": 0,
             "ticks": ""
            },
            "colorscale": [
             [
              0,
              "#0d0887"
             ],
             [
              0.1111111111111111,
              "#46039f"
             ],
             [
              0.2222222222222222,
              "#7201a8"
             ],
             [
              0.3333333333333333,
              "#9c179e"
             ],
             [
              0.4444444444444444,
              "#bd3786"
             ],
             [
              0.5555555555555556,
              "#d8576b"
             ],
             [
              0.6666666666666666,
              "#ed7953"
             ],
             [
              0.7777777777777778,
              "#fb9f3a"
             ],
             [
              0.8888888888888888,
              "#fdca26"
             ],
             [
              1,
              "#f0f921"
             ]
            ],
            "type": "heatmap"
           }
          ],
          "heatmapgl": [
           {
            "colorbar": {
             "outlinewidth": 0,
             "ticks": ""
            },
            "colorscale": [
             [
              0,
              "#0d0887"
             ],
             [
              0.1111111111111111,
              "#46039f"
             ],
             [
              0.2222222222222222,
              "#7201a8"
             ],
             [
              0.3333333333333333,
              "#9c179e"
             ],
             [
              0.4444444444444444,
              "#bd3786"
             ],
             [
              0.5555555555555556,
              "#d8576b"
             ],
             [
              0.6666666666666666,
              "#ed7953"
             ],
             [
              0.7777777777777778,
              "#fb9f3a"
             ],
             [
              0.8888888888888888,
              "#fdca26"
             ],
             [
              1,
              "#f0f921"
             ]
            ],
            "type": "heatmapgl"
           }
          ],
          "histogram": [
           {
            "marker": {
             "pattern": {
              "fillmode": "overlay",
              "size": 10,
              "solidity": 0.2
             }
            },
            "type": "histogram"
           }
          ],
          "histogram2d": [
           {
            "colorbar": {
             "outlinewidth": 0,
             "ticks": ""
            },
            "colorscale": [
             [
              0,
              "#0d0887"
             ],
             [
              0.1111111111111111,
              "#46039f"
             ],
             [
              0.2222222222222222,
              "#7201a8"
             ],
             [
              0.3333333333333333,
              "#9c179e"
             ],
             [
              0.4444444444444444,
              "#bd3786"
             ],
             [
              0.5555555555555556,
              "#d8576b"
             ],
             [
              0.6666666666666666,
              "#ed7953"
             ],
             [
              0.7777777777777778,
              "#fb9f3a"
             ],
             [
              0.8888888888888888,
              "#fdca26"
             ],
             [
              1,
              "#f0f921"
             ]
            ],
            "type": "histogram2d"
           }
          ],
          "histogram2dcontour": [
           {
            "colorbar": {
             "outlinewidth": 0,
             "ticks": ""
            },
            "colorscale": [
             [
              0,
              "#0d0887"
             ],
             [
              0.1111111111111111,
              "#46039f"
             ],
             [
              0.2222222222222222,
              "#7201a8"
             ],
             [
              0.3333333333333333,
              "#9c179e"
             ],
             [
              0.4444444444444444,
              "#bd3786"
             ],
             [
              0.5555555555555556,
              "#d8576b"
             ],
             [
              0.6666666666666666,
              "#ed7953"
             ],
             [
              0.7777777777777778,
              "#fb9f3a"
             ],
             [
              0.8888888888888888,
              "#fdca26"
             ],
             [
              1,
              "#f0f921"
             ]
            ],
            "type": "histogram2dcontour"
           }
          ],
          "mesh3d": [
           {
            "colorbar": {
             "outlinewidth": 0,
             "ticks": ""
            },
            "type": "mesh3d"
           }
          ],
          "parcoords": [
           {
            "line": {
             "colorbar": {
              "outlinewidth": 0,
              "ticks": ""
             }
            },
            "type": "parcoords"
           }
          ],
          "pie": [
           {
            "automargin": true,
            "type": "pie"
           }
          ],
          "scatter": [
           {
            "fillpattern": {
             "fillmode": "overlay",
             "size": 10,
             "solidity": 0.2
            },
            "type": "scatter"
           }
          ],
          "scatter3d": [
           {
            "line": {
             "colorbar": {
              "outlinewidth": 0,
              "ticks": ""
             }
            },
            "marker": {
             "colorbar": {
              "outlinewidth": 0,
              "ticks": ""
             }
            },
            "type": "scatter3d"
           }
          ],
          "scattercarpet": [
           {
            "marker": {
             "colorbar": {
              "outlinewidth": 0,
              "ticks": ""
             }
            },
            "type": "scattercarpet"
           }
          ],
          "scattergeo": [
           {
            "marker": {
             "colorbar": {
              "outlinewidth": 0,
              "ticks": ""
             }
            },
            "type": "scattergeo"
           }
          ],
          "scattergl": [
           {
            "marker": {
             "colorbar": {
              "outlinewidth": 0,
              "ticks": ""
             }
            },
            "type": "scattergl"
           }
          ],
          "scattermapbox": [
           {
            "marker": {
             "colorbar": {
              "outlinewidth": 0,
              "ticks": ""
             }
            },
            "type": "scattermapbox"
           }
          ],
          "scatterpolar": [
           {
            "marker": {
             "colorbar": {
              "outlinewidth": 0,
              "ticks": ""
             }
            },
            "type": "scatterpolar"
           }
          ],
          "scatterpolargl": [
           {
            "marker": {
             "colorbar": {
              "outlinewidth": 0,
              "ticks": ""
             }
            },
            "type": "scatterpolargl"
           }
          ],
          "scatterternary": [
           {
            "marker": {
             "colorbar": {
              "outlinewidth": 0,
              "ticks": ""
             }
            },
            "type": "scatterternary"
           }
          ],
          "surface": [
           {
            "colorbar": {
             "outlinewidth": 0,
             "ticks": ""
            },
            "colorscale": [
             [
              0,
              "#0d0887"
             ],
             [
              0.1111111111111111,
              "#46039f"
             ],
             [
              0.2222222222222222,
              "#7201a8"
             ],
             [
              0.3333333333333333,
              "#9c179e"
             ],
             [
              0.4444444444444444,
              "#bd3786"
             ],
             [
              0.5555555555555556,
              "#d8576b"
             ],
             [
              0.6666666666666666,
              "#ed7953"
             ],
             [
              0.7777777777777778,
              "#fb9f3a"
             ],
             [
              0.8888888888888888,
              "#fdca26"
             ],
             [
              1,
              "#f0f921"
             ]
            ],
            "type": "surface"
           }
          ],
          "table": [
           {
            "cells": {
             "fill": {
              "color": "#EBF0F8"
             },
             "line": {
              "color": "white"
             }
            },
            "header": {
             "fill": {
              "color": "#C8D4E3"
             },
             "line": {
              "color": "white"
             }
            },
            "type": "table"
           }
          ]
         },
         "layout": {
          "annotationdefaults": {
           "arrowcolor": "#2a3f5f",
           "arrowhead": 0,
           "arrowwidth": 1
          },
          "autotypenumbers": "strict",
          "coloraxis": {
           "colorbar": {
            "outlinewidth": 0,
            "ticks": ""
           }
          },
          "colorscale": {
           "diverging": [
            [
             0,
             "#8e0152"
            ],
            [
             0.1,
             "#c51b7d"
            ],
            [
             0.2,
             "#de77ae"
            ],
            [
             0.3,
             "#f1b6da"
            ],
            [
             0.4,
             "#fde0ef"
            ],
            [
             0.5,
             "#f7f7f7"
            ],
            [
             0.6,
             "#e6f5d0"
            ],
            [
             0.7,
             "#b8e186"
            ],
            [
             0.8,
             "#7fbc41"
            ],
            [
             0.9,
             "#4d9221"
            ],
            [
             1,
             "#276419"
            ]
           ],
           "sequential": [
            [
             0,
             "#0d0887"
            ],
            [
             0.1111111111111111,
             "#46039f"
            ],
            [
             0.2222222222222222,
             "#7201a8"
            ],
            [
             0.3333333333333333,
             "#9c179e"
            ],
            [
             0.4444444444444444,
             "#bd3786"
            ],
            [
             0.5555555555555556,
             "#d8576b"
            ],
            [
             0.6666666666666666,
             "#ed7953"
            ],
            [
             0.7777777777777778,
             "#fb9f3a"
            ],
            [
             0.8888888888888888,
             "#fdca26"
            ],
            [
             1,
             "#f0f921"
            ]
           ],
           "sequentialminus": [
            [
             0,
             "#0d0887"
            ],
            [
             0.1111111111111111,
             "#46039f"
            ],
            [
             0.2222222222222222,
             "#7201a8"
            ],
            [
             0.3333333333333333,
             "#9c179e"
            ],
            [
             0.4444444444444444,
             "#bd3786"
            ],
            [
             0.5555555555555556,
             "#d8576b"
            ],
            [
             0.6666666666666666,
             "#ed7953"
            ],
            [
             0.7777777777777778,
             "#fb9f3a"
            ],
            [
             0.8888888888888888,
             "#fdca26"
            ],
            [
             1,
             "#f0f921"
            ]
           ]
          },
          "colorway": [
           "#636efa",
           "#EF553B",
           "#00cc96",
           "#ab63fa",
           "#FFA15A",
           "#19d3f3",
           "#FF6692",
           "#B6E880",
           "#FF97FF",
           "#FECB52"
          ],
          "font": {
           "color": "#2a3f5f"
          },
          "geo": {
           "bgcolor": "white",
           "lakecolor": "white",
           "landcolor": "#E5ECF6",
           "showlakes": true,
           "showland": true,
           "subunitcolor": "white"
          },
          "hoverlabel": {
           "align": "left"
          },
          "hovermode": "closest",
          "mapbox": {
           "style": "light"
          },
          "paper_bgcolor": "white",
          "plot_bgcolor": "#E5ECF6",
          "polar": {
           "angularaxis": {
            "gridcolor": "white",
            "linecolor": "white",
            "ticks": ""
           },
           "bgcolor": "#E5ECF6",
           "radialaxis": {
            "gridcolor": "white",
            "linecolor": "white",
            "ticks": ""
           }
          },
          "scene": {
           "xaxis": {
            "backgroundcolor": "#E5ECF6",
            "gridcolor": "white",
            "gridwidth": 2,
            "linecolor": "white",
            "showbackground": true,
            "ticks": "",
            "zerolinecolor": "white"
           },
           "yaxis": {
            "backgroundcolor": "#E5ECF6",
            "gridcolor": "white",
            "gridwidth": 2,
            "linecolor": "white",
            "showbackground": true,
            "ticks": "",
            "zerolinecolor": "white"
           },
           "zaxis": {
            "backgroundcolor": "#E5ECF6",
            "gridcolor": "white",
            "gridwidth": 2,
            "linecolor": "white",
            "showbackground": true,
            "ticks": "",
            "zerolinecolor": "white"
           }
          },
          "shapedefaults": {
           "line": {
            "color": "#2a3f5f"
           }
          },
          "ternary": {
           "aaxis": {
            "gridcolor": "white",
            "linecolor": "white",
            "ticks": ""
           },
           "baxis": {
            "gridcolor": "white",
            "linecolor": "white",
            "ticks": ""
           },
           "bgcolor": "#E5ECF6",
           "caxis": {
            "gridcolor": "white",
            "linecolor": "white",
            "ticks": ""
           }
          },
          "title": {
           "x": 0.05
          },
          "xaxis": {
           "automargin": true,
           "gridcolor": "white",
           "linecolor": "white",
           "ticks": "",
           "title": {
            "standoff": 15
           },
           "zerolinecolor": "white",
           "zerolinewidth": 2
          },
          "yaxis": {
           "automargin": true,
           "gridcolor": "white",
           "linecolor": "white",
           "ticks": "",
           "title": {
            "standoff": 15
           },
           "zerolinecolor": "white",
           "zerolinewidth": 2
          }
         }
        },
        "title": {
         "text": "Rank (Objective Value)"
        },
        "width": 1000,
        "xaxis": {
         "anchor": "y",
         "domain": [
          0,
          0.1330612244897959
         ],
         "matches": "x43",
         "range": [
          -0.1,
          2.1
         ],
         "showticklabels": false,
         "type": "category"
        },
        "xaxis10": {
         "anchor": "y10",
         "domain": [
          0.28897959183673466,
          0.42204081632653057
         ],
         "matches": "x45",
         "range": [
          0.016947266018266197,
          1.0080530926838858
         ],
         "showticklabels": false
        },
        "xaxis11": {
         "anchor": "y11",
         "domain": [
          0.433469387755102,
          0.5665306122448979
         ],
         "matches": "x46",
         "range": [
          -4.104564164062956,
          -0.9525750299359497
         ],
         "showticklabels": false,
         "type": "log"
        },
        "xaxis12": {
         "anchor": "y12",
         "domain": [
          0.5779591836734693,
          0.7110204081632652
         ],
         "matches": "x47",
         "range": [
          0.55,
          10.45
         ],
         "showticklabels": false
        },
        "xaxis13": {
         "anchor": "y13",
         "domain": [
          0.7224489795918367,
          0.8555102040816327
         ],
         "matches": "x48",
         "range": [
          0.04999999999999993,
          20.95
         ],
         "showticklabels": false
        },
        "xaxis14": {
         "anchor": "y14",
         "domain": [
          0.8669387755102042,
          1
         ],
         "matches": "x49",
         "range": [
          0.017258390036303195,
          1.0442368315856152
         ],
         "showticklabels": false
        },
        "xaxis15": {
         "anchor": "y15",
         "domain": [
          0,
          0.1330612244897959
         ],
         "matches": "x43",
         "range": [
          -0.1,
          2.1
         ],
         "showticklabels": false,
         "type": "category"
        },
        "xaxis16": {
         "anchor": "y16",
         "domain": [
          0.14448979591836733,
          0.27755102040816326
         ],
         "matches": "x44",
         "range": [
          -4.28536297497892,
          2.012427241529812
         ],
         "showticklabels": false,
         "type": "log"
        },
        "xaxis17": {
         "anchor": "y17",
         "domain": [
          0.28897959183673466,
          0.42204081632653057
         ],
         "matches": "x45",
         "range": [
          0.016947266018266197,
          1.0080530926838858
         ],
         "showticklabels": false
        },
        "xaxis18": {
         "anchor": "y18",
         "domain": [
          0.433469387755102,
          0.5665306122448979
         ],
         "matches": "x46",
         "range": [
          -4.104564164062956,
          -0.9525750299359497
         ],
         "showticklabels": false,
         "type": "log"
        },
        "xaxis19": {
         "anchor": "y19",
         "domain": [
          0.5779591836734693,
          0.7110204081632652
         ],
         "matches": "x47",
         "range": [
          0.55,
          10.45
         ],
         "showticklabels": false
        },
        "xaxis2": {
         "anchor": "y2",
         "domain": [
          0.14448979591836733,
          0.27755102040816326
         ],
         "matches": "x44",
         "range": [
          -4.28536297497892,
          2.012427241529812
         ],
         "showticklabels": false,
         "type": "log"
        },
        "xaxis20": {
         "anchor": "y20",
         "domain": [
          0.7224489795918367,
          0.8555102040816327
         ],
         "matches": "x48",
         "range": [
          0.04999999999999993,
          20.95
         ],
         "showticklabels": false
        },
        "xaxis21": {
         "anchor": "y21",
         "domain": [
          0.8669387755102042,
          1
         ],
         "matches": "x49",
         "range": [
          0.017258390036303195,
          1.0442368315856152
         ],
         "showticklabels": false
        },
        "xaxis22": {
         "anchor": "y22",
         "domain": [
          0,
          0.1330612244897959
         ],
         "matches": "x43",
         "range": [
          -0.1,
          2.1
         ],
         "showticklabels": false,
         "type": "category"
        },
        "xaxis23": {
         "anchor": "y23",
         "domain": [
          0.14448979591836733,
          0.27755102040816326
         ],
         "matches": "x44",
         "range": [
          -4.28536297497892,
          2.012427241529812
         ],
         "showticklabels": false,
         "type": "log"
        },
        "xaxis24": {
         "anchor": "y24",
         "domain": [
          0.28897959183673466,
          0.42204081632653057
         ],
         "matches": "x45",
         "range": [
          0.016947266018266197,
          1.0080530926838858
         ],
         "showticklabels": false
        },
        "xaxis25": {
         "anchor": "y25",
         "domain": [
          0.433469387755102,
          0.5665306122448979
         ],
         "matches": "x46",
         "range": [
          -4.104564164062956,
          -0.9525750299359497
         ],
         "showticklabels": false,
         "type": "log"
        },
        "xaxis26": {
         "anchor": "y26",
         "domain": [
          0.5779591836734693,
          0.7110204081632652
         ],
         "matches": "x47",
         "range": [
          0.55,
          10.45
         ],
         "showticklabels": false
        },
        "xaxis27": {
         "anchor": "y27",
         "domain": [
          0.7224489795918367,
          0.8555102040816327
         ],
         "matches": "x48",
         "range": [
          0.04999999999999993,
          20.95
         ],
         "showticklabels": false
        },
        "xaxis28": {
         "anchor": "y28",
         "domain": [
          0.8669387755102042,
          1
         ],
         "matches": "x49",
         "range": [
          0.017258390036303195,
          1.0442368315856152
         ],
         "showticklabels": false
        },
        "xaxis29": {
         "anchor": "y29",
         "domain": [
          0,
          0.1330612244897959
         ],
         "matches": "x43",
         "range": [
          -0.1,
          2.1
         ],
         "showticklabels": false,
         "type": "category"
        },
        "xaxis3": {
         "anchor": "y3",
         "domain": [
          0.28897959183673466,
          0.42204081632653057
         ],
         "matches": "x45",
         "range": [
          0.016947266018266197,
          1.0080530926838858
         ],
         "showticklabels": false
        },
        "xaxis30": {
         "anchor": "y30",
         "domain": [
          0.14448979591836733,
          0.27755102040816326
         ],
         "matches": "x44",
         "range": [
          -4.28536297497892,
          2.012427241529812
         ],
         "showticklabels": false,
         "type": "log"
        },
        "xaxis31": {
         "anchor": "y31",
         "domain": [
          0.28897959183673466,
          0.42204081632653057
         ],
         "matches": "x45",
         "range": [
          0.016947266018266197,
          1.0080530926838858
         ],
         "showticklabels": false
        },
        "xaxis32": {
         "anchor": "y32",
         "domain": [
          0.433469387755102,
          0.5665306122448979
         ],
         "matches": "x46",
         "range": [
          -4.104564164062956,
          -0.9525750299359497
         ],
         "showticklabels": false,
         "type": "log"
        },
        "xaxis33": {
         "anchor": "y33",
         "domain": [
          0.5779591836734693,
          0.7110204081632652
         ],
         "matches": "x47",
         "range": [
          0.55,
          10.45
         ],
         "showticklabels": false
        },
        "xaxis34": {
         "anchor": "y34",
         "domain": [
          0.7224489795918367,
          0.8555102040816327
         ],
         "matches": "x48",
         "range": [
          0.04999999999999993,
          20.95
         ],
         "showticklabels": false
        },
        "xaxis35": {
         "anchor": "y35",
         "domain": [
          0.8669387755102042,
          1
         ],
         "matches": "x49",
         "range": [
          0.017258390036303195,
          1.0442368315856152
         ],
         "showticklabels": false
        },
        "xaxis36": {
         "anchor": "y36",
         "domain": [
          0,
          0.1330612244897959
         ],
         "matches": "x43",
         "range": [
          -0.1,
          2.1
         ],
         "showticklabels": false,
         "type": "category"
        },
        "xaxis37": {
         "anchor": "y37",
         "domain": [
          0.14448979591836733,
          0.27755102040816326
         ],
         "matches": "x44",
         "range": [
          -4.28536297497892,
          2.012427241529812
         ],
         "showticklabels": false,
         "type": "log"
        },
        "xaxis38": {
         "anchor": "y38",
         "domain": [
          0.28897959183673466,
          0.42204081632653057
         ],
         "matches": "x45",
         "range": [
          0.016947266018266197,
          1.0080530926838858
         ],
         "showticklabels": false
        },
        "xaxis39": {
         "anchor": "y39",
         "domain": [
          0.433469387755102,
          0.5665306122448979
         ],
         "matches": "x46",
         "range": [
          -4.104564164062956,
          -0.9525750299359497
         ],
         "showticklabels": false,
         "type": "log"
        },
        "xaxis4": {
         "anchor": "y4",
         "domain": [
          0.433469387755102,
          0.5665306122448979
         ],
         "matches": "x46",
         "range": [
          -4.104564164062956,
          -0.9525750299359497
         ],
         "showticklabels": false,
         "type": "log"
        },
        "xaxis40": {
         "anchor": "y40",
         "domain": [
          0.5779591836734693,
          0.7110204081632652
         ],
         "matches": "x47",
         "range": [
          0.55,
          10.45
         ],
         "showticklabels": false
        },
        "xaxis41": {
         "anchor": "y41",
         "domain": [
          0.7224489795918367,
          0.8555102040816327
         ],
         "matches": "x48",
         "range": [
          0.04999999999999993,
          20.95
         ],
         "showticklabels": false
        },
        "xaxis42": {
         "anchor": "y42",
         "domain": [
          0.8669387755102042,
          1
         ],
         "matches": "x49",
         "range": [
          0.017258390036303195,
          1.0442368315856152
         ],
         "showticklabels": false
        },
        "xaxis43": {
         "anchor": "y43",
         "domain": [
          0,
          0.1330612244897959
         ],
         "range": [
          -0.1,
          2.1
         ],
         "title": {
          "text": "algorithm"
         },
         "type": "category"
        },
        "xaxis44": {
         "anchor": "y44",
         "domain": [
          0.14448979591836733,
          0.27755102040816326
         ],
         "range": [
          -4.28536297497892,
          2.012427241529812
         ],
         "title": {
          "text": "alpha"
         },
         "type": "log"
        },
        "xaxis45": {
         "anchor": "y45",
         "domain": [
          0.28897959183673466,
          0.42204081632653057
         ],
         "range": [
          0.016947266018266197,
          1.0080530926838858
         ],
         "title": {
          "text": "colsample_bytree"
         }
        },
        "xaxis46": {
         "anchor": "y46",
         "domain": [
          0.433469387755102,
          0.5665306122448979
         ],
         "range": [
          -4.104564164062956,
          -0.9525750299359497
         ],
         "title": {
          "text": "learning_rate"
         },
         "type": "log"
        },
        "xaxis47": {
         "anchor": "y47",
         "domain": [
          0.5779591836734693,
          0.7110204081632652
         ],
         "range": [
          0.55,
          10.45
         ],
         "title": {
          "text": "max_depth"
         }
        },
        "xaxis48": {
         "anchor": "y48",
         "domain": [
          0.7224489795918367,
          0.8555102040816327
         ],
         "range": [
          0.04999999999999993,
          20.95
         ],
         "title": {
          "text": "min_child_weight"
         }
        },
        "xaxis49": {
         "anchor": "y49",
         "domain": [
          0.8669387755102042,
          1
         ],
         "range": [
          0.017258390036303195,
          1.0442368315856152
         ],
         "title": {
          "text": "subsample"
         }
        },
        "xaxis5": {
         "anchor": "y5",
         "domain": [
          0.5779591836734693,
          0.7110204081632652
         ],
         "matches": "x47",
         "range": [
          0.55,
          10.45
         ],
         "showticklabels": false
        },
        "xaxis6": {
         "anchor": "y6",
         "domain": [
          0.7224489795918367,
          0.8555102040816327
         ],
         "matches": "x48",
         "range": [
          0.04999999999999993,
          20.95
         ],
         "showticklabels": false
        },
        "xaxis7": {
         "anchor": "y7",
         "domain": [
          0.8669387755102042,
          1
         ],
         "matches": "x49",
         "range": [
          0.017258390036303195,
          1.0442368315856152
         ],
         "showticklabels": false
        },
        "xaxis8": {
         "anchor": "y8",
         "domain": [
          0,
          0.1330612244897959
         ],
         "matches": "x43",
         "range": [
          -0.1,
          2.1
         ],
         "showticklabels": false,
         "type": "category"
        },
        "xaxis9": {
         "anchor": "y9",
         "domain": [
          0.14448979591836733,
          0.27755102040816326
         ],
         "matches": "x44",
         "range": [
          -4.28536297497892,
          2.012427241529812
         ],
         "showticklabels": false,
         "type": "log"
        },
        "yaxis": {
         "anchor": "x",
         "domain": [
          0.8669387755102042,
          1
         ],
         "range": [
          -0.1,
          2.1
         ],
         "title": {
          "text": "algorithm"
         },
         "type": "category"
        },
        "yaxis10": {
         "anchor": "x10",
         "domain": [
          0.7224489795918367,
          0.8555102040816327
         ],
         "matches": "y8",
         "range": [
          -4.28536297497892,
          2.012427241529812
         ],
         "showticklabels": false,
         "type": "log"
        },
        "yaxis11": {
         "anchor": "x11",
         "domain": [
          0.7224489795918367,
          0.8555102040816327
         ],
         "matches": "y8",
         "range": [
          -4.28536297497892,
          2.012427241529812
         ],
         "showticklabels": false,
         "type": "log"
        },
        "yaxis12": {
         "anchor": "x12",
         "domain": [
          0.7224489795918367,
          0.8555102040816327
         ],
         "matches": "y8",
         "range": [
          -4.28536297497892,
          2.012427241529812
         ],
         "showticklabels": false,
         "type": "log"
        },
        "yaxis13": {
         "anchor": "x13",
         "domain": [
          0.7224489795918367,
          0.8555102040816327
         ],
         "matches": "y8",
         "range": [
          -4.28536297497892,
          2.012427241529812
         ],
         "showticklabels": false,
         "type": "log"
        },
        "yaxis14": {
         "anchor": "x14",
         "domain": [
          0.7224489795918367,
          0.8555102040816327
         ],
         "matches": "y8",
         "range": [
          -4.28536297497892,
          2.012427241529812
         ],
         "showticklabels": false,
         "type": "log"
        },
        "yaxis15": {
         "anchor": "x15",
         "domain": [
          0.5779591836734693,
          0.7110204081632652
         ],
         "range": [
          0.016947266018266197,
          1.0080530926838858
         ],
         "title": {
          "text": "colsample_bytree"
         }
        },
        "yaxis16": {
         "anchor": "x16",
         "domain": [
          0.5779591836734693,
          0.7110204081632652
         ],
         "matches": "y15",
         "range": [
          0.016947266018266197,
          1.0080530926838858
         ],
         "showticklabels": false
        },
        "yaxis17": {
         "anchor": "x17",
         "domain": [
          0.5779591836734693,
          0.7110204081632652
         ],
         "matches": "y15",
         "range": [
          0.016947266018266197,
          1.0080530926838858
         ],
         "showticklabels": false
        },
        "yaxis18": {
         "anchor": "x18",
         "domain": [
          0.5779591836734693,
          0.7110204081632652
         ],
         "matches": "y15",
         "range": [
          0.016947266018266197,
          1.0080530926838858
         ],
         "showticklabels": false
        },
        "yaxis19": {
         "anchor": "x19",
         "domain": [
          0.5779591836734693,
          0.7110204081632652
         ],
         "matches": "y15",
         "range": [
          0.016947266018266197,
          1.0080530926838858
         ],
         "showticklabels": false
        },
        "yaxis2": {
         "anchor": "x2",
         "domain": [
          0.8669387755102042,
          1
         ],
         "matches": "y",
         "range": [
          -0.1,
          2.1
         ],
         "showticklabels": false,
         "type": "category"
        },
        "yaxis20": {
         "anchor": "x20",
         "domain": [
          0.5779591836734693,
          0.7110204081632652
         ],
         "matches": "y15",
         "range": [
          0.016947266018266197,
          1.0080530926838858
         ],
         "showticklabels": false
        },
        "yaxis21": {
         "anchor": "x21",
         "domain": [
          0.5779591836734693,
          0.7110204081632652
         ],
         "matches": "y15",
         "range": [
          0.016947266018266197,
          1.0080530926838858
         ],
         "showticklabels": false
        },
        "yaxis22": {
         "anchor": "x22",
         "domain": [
          0.433469387755102,
          0.5665306122448979
         ],
         "range": [
          -4.104564164062956,
          -0.9525750299359497
         ],
         "title": {
          "text": "learning_rate"
         },
         "type": "log"
        },
        "yaxis23": {
         "anchor": "x23",
         "domain": [
          0.433469387755102,
          0.5665306122448979
         ],
         "matches": "y22",
         "range": [
          -4.104564164062956,
          -0.9525750299359497
         ],
         "showticklabels": false,
         "type": "log"
        },
        "yaxis24": {
         "anchor": "x24",
         "domain": [
          0.433469387755102,
          0.5665306122448979
         ],
         "matches": "y22",
         "range": [
          -4.104564164062956,
          -0.9525750299359497
         ],
         "showticklabels": false,
         "type": "log"
        },
        "yaxis25": {
         "anchor": "x25",
         "domain": [
          0.433469387755102,
          0.5665306122448979
         ],
         "matches": "y22",
         "range": [
          -4.104564164062956,
          -0.9525750299359497
         ],
         "showticklabels": false,
         "type": "log"
        },
        "yaxis26": {
         "anchor": "x26",
         "domain": [
          0.433469387755102,
          0.5665306122448979
         ],
         "matches": "y22",
         "range": [
          -4.104564164062956,
          -0.9525750299359497
         ],
         "showticklabels": false,
         "type": "log"
        },
        "yaxis27": {
         "anchor": "x27",
         "domain": [
          0.433469387755102,
          0.5665306122448979
         ],
         "matches": "y22",
         "range": [
          -4.104564164062956,
          -0.9525750299359497
         ],
         "showticklabels": false,
         "type": "log"
        },
        "yaxis28": {
         "anchor": "x28",
         "domain": [
          0.433469387755102,
          0.5665306122448979
         ],
         "matches": "y22",
         "range": [
          -4.104564164062956,
          -0.9525750299359497
         ],
         "showticklabels": false,
         "type": "log"
        },
        "yaxis29": {
         "anchor": "x29",
         "domain": [
          0.28897959183673466,
          0.42204081632653057
         ],
         "range": [
          0.55,
          10.45
         ],
         "title": {
          "text": "max_depth"
         }
        },
        "yaxis3": {
         "anchor": "x3",
         "domain": [
          0.8669387755102042,
          1
         ],
         "matches": "y",
         "range": [
          -0.1,
          2.1
         ],
         "showticklabels": false,
         "type": "category"
        },
        "yaxis30": {
         "anchor": "x30",
         "domain": [
          0.28897959183673466,
          0.42204081632653057
         ],
         "matches": "y29",
         "range": [
          0.55,
          10.45
         ],
         "showticklabels": false
        },
        "yaxis31": {
         "anchor": "x31",
         "domain": [
          0.28897959183673466,
          0.42204081632653057
         ],
         "matches": "y29",
         "range": [
          0.55,
          10.45
         ],
         "showticklabels": false
        },
        "yaxis32": {
         "anchor": "x32",
         "domain": [
          0.28897959183673466,
          0.42204081632653057
         ],
         "matches": "y29",
         "range": [
          0.55,
          10.45
         ],
         "showticklabels": false
        },
        "yaxis33": {
         "anchor": "x33",
         "domain": [
          0.28897959183673466,
          0.42204081632653057
         ],
         "matches": "y29",
         "range": [
          0.55,
          10.45
         ],
         "showticklabels": false
        },
        "yaxis34": {
         "anchor": "x34",
         "domain": [
          0.28897959183673466,
          0.42204081632653057
         ],
         "matches": "y29",
         "range": [
          0.55,
          10.45
         ],
         "showticklabels": false
        },
        "yaxis35": {
         "anchor": "x35",
         "domain": [
          0.28897959183673466,
          0.42204081632653057
         ],
         "matches": "y29",
         "range": [
          0.55,
          10.45
         ],
         "showticklabels": false
        },
        "yaxis36": {
         "anchor": "x36",
         "domain": [
          0.14448979591836733,
          0.27755102040816326
         ],
         "range": [
          0.04999999999999993,
          20.95
         ],
         "title": {
          "text": "min_child_weight"
         }
        },
        "yaxis37": {
         "anchor": "x37",
         "domain": [
          0.14448979591836733,
          0.27755102040816326
         ],
         "matches": "y36",
         "range": [
          0.04999999999999993,
          20.95
         ],
         "showticklabels": false
        },
        "yaxis38": {
         "anchor": "x38",
         "domain": [
          0.14448979591836733,
          0.27755102040816326
         ],
         "matches": "y36",
         "range": [
          0.04999999999999993,
          20.95
         ],
         "showticklabels": false
        },
        "yaxis39": {
         "anchor": "x39",
         "domain": [
          0.14448979591836733,
          0.27755102040816326
         ],
         "matches": "y36",
         "range": [
          0.04999999999999993,
          20.95
         ],
         "showticklabels": false
        },
        "yaxis4": {
         "anchor": "x4",
         "domain": [
          0.8669387755102042,
          1
         ],
         "matches": "y",
         "range": [
          -0.1,
          2.1
         ],
         "showticklabels": false,
         "type": "category"
        },
        "yaxis40": {
         "anchor": "x40",
         "domain": [
          0.14448979591836733,
          0.27755102040816326
         ],
         "matches": "y36",
         "range": [
          0.04999999999999993,
          20.95
         ],
         "showticklabels": false
        },
        "yaxis41": {
         "anchor": "x41",
         "domain": [
          0.14448979591836733,
          0.27755102040816326
         ],
         "matches": "y36",
         "range": [
          0.04999999999999993,
          20.95
         ],
         "showticklabels": false
        },
        "yaxis42": {
         "anchor": "x42",
         "domain": [
          0.14448979591836733,
          0.27755102040816326
         ],
         "matches": "y36",
         "range": [
          0.04999999999999993,
          20.95
         ],
         "showticklabels": false
        },
        "yaxis43": {
         "anchor": "x43",
         "domain": [
          0,
          0.1330612244897959
         ],
         "range": [
          0.017258390036303195,
          1.0442368315856152
         ],
         "title": {
          "text": "subsample"
         }
        },
        "yaxis44": {
         "anchor": "x44",
         "domain": [
          0,
          0.1330612244897959
         ],
         "matches": "y43",
         "range": [
          0.017258390036303195,
          1.0442368315856152
         ],
         "showticklabels": false
        },
        "yaxis45": {
         "anchor": "x45",
         "domain": [
          0,
          0.1330612244897959
         ],
         "matches": "y43",
         "range": [
          0.017258390036303195,
          1.0442368315856152
         ],
         "showticklabels": false
        },
        "yaxis46": {
         "anchor": "x46",
         "domain": [
          0,
          0.1330612244897959
         ],
         "matches": "y43",
         "range": [
          0.017258390036303195,
          1.0442368315856152
         ],
         "showticklabels": false
        },
        "yaxis47": {
         "anchor": "x47",
         "domain": [
          0,
          0.1330612244897959
         ],
         "matches": "y43",
         "range": [
          0.017258390036303195,
          1.0442368315856152
         ],
         "showticklabels": false
        },
        "yaxis48": {
         "anchor": "x48",
         "domain": [
          0,
          0.1330612244897959
         ],
         "matches": "y43",
         "range": [
          0.017258390036303195,
          1.0442368315856152
         ],
         "showticklabels": false
        },
        "yaxis49": {
         "anchor": "x49",
         "domain": [
          0,
          0.1330612244897959
         ],
         "matches": "y43",
         "range": [
          0.017258390036303195,
          1.0442368315856152
         ],
         "showticklabels": false
        },
        "yaxis5": {
         "anchor": "x5",
         "domain": [
          0.8669387755102042,
          1
         ],
         "matches": "y",
         "range": [
          -0.1,
          2.1
         ],
         "showticklabels": false,
         "type": "category"
        },
        "yaxis6": {
         "anchor": "x6",
         "domain": [
          0.8669387755102042,
          1
         ],
         "matches": "y",
         "range": [
          -0.1,
          2.1
         ],
         "showticklabels": false,
         "type": "category"
        },
        "yaxis7": {
         "anchor": "x7",
         "domain": [
          0.8669387755102042,
          1
         ],
         "matches": "y",
         "range": [
          -0.1,
          2.1
         ],
         "showticklabels": false,
         "type": "category"
        },
        "yaxis8": {
         "anchor": "x8",
         "domain": [
          0.7224489795918367,
          0.8555102040816327
         ],
         "range": [
          -4.28536297497892,
          2.012427241529812
         ],
         "title": {
          "text": "alpha"
         },
         "type": "log"
        },
        "yaxis9": {
         "anchor": "x9",
         "domain": [
          0.7224489795918367,
          0.8555102040816327
         ],
         "matches": "y8",
         "range": [
          -4.28536297497892,
          2.012427241529812
         ],
         "showticklabels": false,
         "type": "log"
        }
       }
      },
      "text/html": [
       "<div>                            <div id=\"96063274-175b-4b78-9395-85f38baa7f52\" class=\"plotly-graph-div\" style=\"height:1000px; width:1000px;\"></div>            <script type=\"text/javascript\">                require([\"plotly\"], function(Plotly) {                    window.PLOTLYENV=window.PLOTLYENV || {};                                    if (document.getElementById(\"96063274-175b-4b78-9395-85f38baa7f52\")) {                    Plotly.newPlot(                        \"96063274-175b-4b78-9395-85f38baa7f52\",                        [{\"hovertemplate\":\"%{hovertext}<extra></extra>\",\"hovertext\":[\"Trial #0<br>algorithm: ridge<br>alpha: 0.6010505222092465<br><b>Objective Value: 0.9471554321468393</b>\",\"Trial #1<br>algorithm: lasso<br>alpha: 0.006162467158491157<br><b>Objective Value: 0.9389672175428982</b>\",\"Trial #2<br>algorithm: ridge<br>alpha: 0.001244729405956262<br><b>Objective Value: 0.9458097018173504</b>\",\"Trial #3<br>algorithm: ridge<br>alpha: 0.7759373016028097<br><b>Objective Value: 0.9473545665481765</b>\",\"Trial #4<br>algorithm: ridge<br>alpha: 31.29323725185007<br><b>Objective Value: 0.9496058571087869</b>\",\"Trial #5<br>algorithm: lasso<br>alpha: 0.016555231662187374<br><b>Objective Value: 0.9294302327835954</b>\",\"Trial #6<br>algorithm: lasso<br>alpha: 0.0004582749531777171<br><b>Objective Value: 0.9500398525687235</b>\",\"Trial #7<br>algorithm: lasso<br>alpha: 5.534750298353362<br><b>Objective Value: -0.029441307066881618</b>\",\"Trial #8<br>algorithm: xgb<br>learning_rate: 0.0016114400564732941<br>max_depth: 10<br>subsample: 0.8558105105039219<br>colsample_bytree: 0.2965777047582458<br>min_child_weight: 9<br><b>Objective Value: -5.373464236107701</b>\",\"Trial #9<br>algorithm: lasso<br>alpha: 0.00017637287605472746<br><b>Objective Value: 0.9500902328681612</b>\",\"Trial #10<br>algorithm: xgb<br>learning_rate: 0.07748571364848593<br>max_depth: 1<br>subsample: 0.1081539403017378<br>colsample_bytree: 0.8774623283402829<br>min_child_weight: 20<br><b>Objective Value: 0.9057358214629305</b>\",\"Trial #11<br>algorithm: lasso<br>alpha: 0.00011995197253262029<br><b>Objective Value: 0.9498510406483309</b>\",\"Trial #12<br>algorithm: lasso<br>alpha: 0.00011207889164253218<br><b>Objective Value: 0.9497956445257467</b>\",\"Trial #13<br>algorithm: lasso<br>alpha: 0.0011740965051880814<br><b>Objective Value: 0.9473793968660728</b>\",\"Trial #14<br>algorithm: lasso<br>alpha: 0.0015503076984355424<br><b>Objective Value: 0.945086273060117</b>\",\"Trial #15<br>algorithm: lasso<br>alpha: 0.03649585335839899<br><b>Objective Value: 0.891919680699119</b>\",\"Trial #16<br>algorithm: xgb<br>learning_rate: 0.0001093221261079389<br>max_depth: 6<br>subsample: 0.9975559933333737<br>colsample_bytree: 0.08773403630454318<br>min_child_weight: 1<br><b>Objective Value: -6.669394335705886</b>\",\"Trial #17<br>algorithm: lasso<br>alpha: 0.0003726843301350919<br><b>Objective Value: 0.9502165794308643</b>\",\"Trial #18<br>algorithm: lasso<br>alpha: 0.20023362384311136<br><b>Objective Value: 0.3389464804948818</b>\",\"Trial #19<br>algorithm: xgb<br>learning_rate: 0.08019600545172129<br>max_depth: 1<br>subsample: 0.06393922828854465<br>colsample_bytree: 0.9630028278354485<br>min_child_weight: 20<br><b>Objective Value: 0.8811693917915496</b>\",\"Trial #20<br>algorithm: lasso<br>alpha: 0.004216169019651566<br><b>Objective Value: 0.9409100930605206</b>\",\"Trial #21<br>algorithm: lasso<br>alpha: 0.00034608379326552273<br><b>Objective Value: 0.9502535145176715</b>\",\"Trial #22<br>algorithm: lasso<br>alpha: 0.00024482064135119533<br><b>Objective Value: 0.950247724018946</b>\",\"Trial #23<br>algorithm: lasso<br>alpha: 0.000487776516858514<br><b>Objective Value: 0.9499686482042866</b>\",\"Trial #24<br>algorithm: lasso<br>alpha: 0.005239588389351667<br><b>Objective Value: 0.9397985591072718</b>\",\"Trial #25<br>algorithm: lasso<br>alpha: 0.0004550420502021263<br><b>Objective Value: 0.9500469224113856</b>\",\"Trial #26<br>algorithm: lasso<br>alpha: 0.02091016333584503<br><b>Objective Value: 0.9224764929436381</b>\",\"Trial #27<br>algorithm: lasso<br>alpha: 0.002367137437004208<br><b>Objective Value: 0.9431142980201922</b>\",\"Trial #28<br>algorithm: ridge<br>alpha: 0.0003508193855269366<br><b>Objective Value: 0.9458058722948917</b>\",\"Trial #29<br>algorithm: xgb<br>learning_rate: 0.0023166212634019153<br>max_depth: 10<br>subsample: 0.5235492940540687<br>colsample_bytree: 0.6157251098470551<br>min_child_weight: 10<br><b>Objective Value: -2.8957501035877273</b>\",\"Trial #30<br>algorithm: ridge<br>alpha: 0.07419825096515736<br><b>Objective Value: 0.9460881378786741</b>\",\"Trial #31<br>algorithm: lasso<br>alpha: 0.0001098338559889162<br><b>Objective Value: 0.9497745164857381</b>\",\"Trial #32<br>algorithm: lasso<br>alpha: 0.00026399630354087886<br><b>Objective Value: 0.9502797535996578</b>\",\"Trial #33<br>algorithm: lasso<br>alpha: 0.0008472387752849562<br><b>Objective Value: 0.9486362756580426</b>\",\"Trial #34<br>algorithm: lasso<br>alpha: 0.0003204788571913823<br><b>Objective Value: 0.9502759959747529</b>\",\"Trial #35<br>algorithm: ridge<br>alpha: 0.00024230102105339654<br><b>Objective Value: 0.9458054065930874</b>\",\"Trial #36<br>algorithm: lasso<br>alpha: 0.002615056478718971<br><b>Objective Value: 0.9427418045630881</b>\",\"Trial #37<br>algorithm: lasso<br>alpha: 0.0008701193893983413<br><b>Objective Value: 0.9485421626102486</b>\",\"Trial #38<br>algorithm: lasso<br>alpha: 0.009343031672547655<br><b>Objective Value: 0.9373437476773958</b>\",\"Trial #39<br>algorithm: ridge<br>alpha: 3.0896988698846903<br><b>Objective Value: 0.9485588883459293</b>\",\"Trial #40<br>algorithm: lasso<br>alpha: 0.0007487749013093245<br><b>Objective Value: 0.9490795432899979</b>\",\"Trial #41<br>algorithm: lasso<br>alpha: 0.00026577767050225043<br><b>Objective Value: 0.9502825368726407</b>\",\"Trial #42<br>algorithm: lasso<br>alpha: 0.00023634827143863648<br><b>Objective Value: 0.9502294508274328</b>\",\"Trial #43<br>algorithm: lasso<br>alpha: 0.002427898969308335<br><b>Objective Value: 0.9430131991735313</b>\",\"Trial #44<br>algorithm: lasso<br>alpha: 0.000325062047327948<br><b>Objective Value: 0.9502727641231721</b>\",\"Trial #45<br>algorithm: lasso<br>alpha: 0.0007138085942687639<br><b>Objective Value: 0.9492408791368658</b>\",\"Trial #46<br>algorithm: lasso<br>alpha: 0.001600153468480079<br><b>Objective Value: 0.9448349663520008</b>\",\"Trial #47<br>algorithm: xgb<br>learning_rate: 0.00011521087399364599<br>max_depth: 6<br>subsample: 0.5277084716528383<br>colsample_bytree: 0.5662117236927399<br>min_child_weight: 1<br><b>Objective Value: -6.669368157650402</b>\",\"Trial #48<br>algorithm: lasso<br>alpha: 0.0001752770246621694<br><b>Objective Value: 0.9500862499579659</b>\",\"Trial #49<br>algorithm: lasso<br>alpha: 0.009528470841126065<br><b>Objective Value: 0.9371932960385145</b>\",\"Trial #50<br>algorithm: ridge<br>alpha: 0.4966722669613841<br><b>Objective Value: 0.9470141744249545</b>\",\"Trial #51<br>algorithm: lasso<br>alpha: 0.00022775953671817198<br><b>Objective Value: 0.9502119657115078</b>\",\"Trial #52<br>algorithm: lasso<br>alpha: 0.00010612659023547114<br><b>Objective Value: 0.949734434572683</b>\",\"Trial #53<br>algorithm: lasso<br>alpha: 0.0003830467672882016<br><b>Objective Value: 0.9501974068395576</b>\",\"Trial #54<br>algorithm: lasso<br>alpha: 0.00021627436540954526<br><b>Objective Value: 0.950190484820807</b>\",\"Trial #55<br>algorithm: lasso<br>alpha: 0.001445853412310756<br><b>Objective Value: 0.945629603904475</b>\",\"Trial #56<br>algorithm: lasso<br>alpha: 53.23092951617624<br><b>Objective Value: -0.029441307066881618</b>\",\"Trial #57<br>algorithm: xgb<br>learning_rate: 0.011236477438678406<br>max_depth: 4<br>subsample: 0.41151468106452377<br>colsample_bytree: 0.330480957357973<br>min_child_weight: 15<br><b>Objective Value: 0.9362219094296959</b>\",\"Trial #58<br>algorithm: lasso<br>alpha: 0.0006269662288422743<br><b>Objective Value: 0.9495661914710423</b>\",\"Trial #59<br>algorithm: lasso<br>alpha: 0.00029775083715590834<br><b>Objective Value: 0.9502879072815185</b>\",\"Trial #60<br>algorithm: lasso<br>alpha: 15.099326747885836<br><b>Objective Value: -0.029441307066881618</b>\",\"Trial #61<br>algorithm: lasso<br>alpha: 0.00016120434434155882<br><b>Objective Value: 0.9500333708547464</b>\",\"Trial #62<br>algorithm: lasso<br>alpha: 0.0003589828022351704<br><b>Objective Value: 0.9502370410586698</b>\",\"Trial #63<br>algorithm: lasso<br>alpha: 0.0003217979072940209<br><b>Objective Value: 0.9502750912961979</b>\",\"Trial #64<br>algorithm: lasso<br>alpha: 0.0011967427390884194<br><b>Objective Value: 0.9472882006945464</b>\",\"Trial #65<br>algorithm: lasso<br>alpha: 0.0005043219466697327<br><b>Objective Value: 0.9499221783577119</b>\",\"Trial #66<br>algorithm: lasso<br>alpha: 0.00014659589751746423<br><b>Objective Value: 0.9499614525388406</b>\",\"Trial #67<br>algorithm: xgb<br>learning_rate: 0.0005787891082612613<br>max_depth: 3<br>subsample: 0.7512158659814847<br>colsample_bytree: 0.7802016742983691<br>min_child_weight: 5<br><b>Objective Value: -6.649379579649593</b>\",\"Trial #68<br>algorithm: lasso<br>alpha: 0.00032279050356379395<br><b>Objective Value: 0.9502742629973625</b>\",\"Trial #69<br>algorithm: lasso<br>alpha: 0.003229013154984103<br><b>Objective Value: 0.941854420726292</b>\",\"Trial #70<br>algorithm: lasso<br>alpha: 0.0009304375157316136<br><b>Objective Value: 0.9483040046031498</b>\",\"Trial #71<br>algorithm: lasso<br>alpha: 0.00032387498231343473<br><b>Objective Value: 0.9502735478038954</b>\",\"Trial #72<br>algorithm: lasso<br>alpha: 0.00010020749752970585<br><b>Objective Value: 0.9496698612945007</b>\",\"Trial #73<br>algorithm: lasso<br>alpha: 0.0004902540297799311<br><b>Objective Value: 0.9499618729169731</b>\",\"Trial #74<br>algorithm: lasso<br>alpha: 0.0002969173890045437<br><b>Objective Value: 0.9502883231525254</b>\",\"Trial #75<br>algorithm: lasso<br>alpha: 0.00028454678060790855<br><b>Objective Value: 0.9502953233147071</b>\",\"Trial #76<br>algorithm: ridge<br>alpha: 0.00016771658897848712<br><b>Objective Value: 0.9458050864155652</b>\",\"Trial #77<br>algorithm: lasso<br>alpha: 0.000578084982033051<br><b>Objective Value: 0.9497137160696887</b>\",\"Trial #78<br>algorithm: lasso<br>alpha: 0.0002650869138932816<br><b>Objective Value: 0.9502815924227817</b>\",\"Trial #79<br>algorithm: lasso<br>alpha: 0.0001529524006218151<br><b>Objective Value: 0.9499926313562599</b>\",\"Trial #80<br>algorithm: lasso<br>alpha: 0.0009624329368942344<br><b>Objective Value: 0.9481827933626569</b>\",\"Trial #81<br>algorithm: lasso<br>alpha: 0.00025615699836524443<br><b>Objective Value: 0.9502672109276192</b>\",\"Trial #82<br>algorithm: lasso<br>alpha: 0.0002775282989311552<br><b>Objective Value: 0.9502963988384143</b>\",\"Trial #83<br>algorithm: lasso<br>alpha: 0.001863957343085763<br><b>Objective Value: 0.9439723885844347</b>\",\"Trial #84<br>algorithm: lasso<br>alpha: 0.0005977110689793054<br><b>Objective Value: 0.9496589312348584</b>\",\"Trial #85<br>algorithm: lasso<br>alpha: 0.0002265048002483477<br><b>Objective Value: 0.9502098986541375</b>\",\"Trial #86<br>algorithm: xgb<br>learning_rate: 0.01240560912844289<br>max_depth: 8<br>subsample: 0.2704974479544986<br>colsample_bytree: 0.061997530866703454<br>min_child_weight: 15<br><b>Objective Value: 0.9113729713455464</b>\",\"Trial #87<br>algorithm: lasso<br>alpha: 0.00014044844521037702<br><b>Objective Value: 0.9499303692169431</b>\",\"Trial #88<br>algorithm: ridge<br>alpha: 0.00043999444012187577<br><b>Objective Value: 0.9458062548545307</b>\",\"Trial #89<br>algorithm: lasso<br>alpha: 0.0011161328813483<br><b>Objective Value: 0.9476084501766951</b>\",\"Trial #90<br>algorithm: lasso<br>alpha: 0.00028182509069933046<br><b>Objective Value: 0.9502964822130379</b>\",\"Trial #91<br>algorithm: lasso<br>alpha: 0.00021910412365379805<br><b>Objective Value: 0.9501962444593653</b>\",\"Trial #92<br>algorithm: lasso<br>alpha: 0.00028892319193558495<br><b>Objective Value: 0.9502926907956504</b>\",\"Trial #93<br>algorithm: lasso<br>alpha: 0.00012601304274520566<br><b>Objective Value: 0.9498802105550059</b>\",\"Trial #94<br>algorithm: lasso<br>alpha: 0.0006867677082010171<br><b>Objective Value: 0.9493494195943446</b>\",\"Trial #95<br>algorithm: lasso<br>alpha: 0.10617565798782047<br><b>Objective Value: 0.6948625509417926</b>\",\"Trial #96<br>algorithm: lasso<br>alpha: 0.00026874245328880713<br><b>Objective Value: 0.9502862831182425</b>\",\"Trial #97<br>algorithm: lasso<br>alpha: 0.0001942292553580477<br><b>Objective Value: 0.9501449871277803</b>\",\"Trial #98<br>algorithm: lasso<br>alpha: 0.0004343961432539565<br><b>Objective Value: 0.9500888877970954</b>\",\"Trial #99<br>algorithm: lasso<br>alpha: 0.0002822324255457903<br><b>Objective Value: 0.9502964373402069</b>\",\"Trial #100<br>algorithm: lasso<br>alpha: 0.00010067470572454919<br><b>Objective Value: 0.9496753512755902</b>\",\"Trial #101<br>algorithm: lasso<br>alpha: 0.00024337137393535218<br><b>Objective Value: 0.9502449512569566</b>\",\"Trial #102<br>algorithm: lasso<br>alpha: 0.0002840324973679434<br><b>Objective Value: 0.9502955909186339</b>\",\"Trial #103<br>algorithm: lasso<br>alpha: 0.0004429356786116208<br><b>Objective Value: 0.9500715177401252</b>\",\"Trial #104<br>algorithm: lasso<br>alpha: 0.0006852289007676667<br><b>Objective Value: 0.9493553150559639</b>\",\"Trial #105<br>algorithm: lasso<br>alpha: 0.00016777305469109388<br><b>Objective Value: 0.9500636883309272</b>\",\"Trial #106<br>algorithm: lasso<br>alpha: 2.718674441824922<br><b>Objective Value: -0.029441307066881618</b>\",\"Trial #107<br>algorithm: xgb<br>learning_rate: 0.010250741887711978<br>max_depth: 8<br>subsample: 0.699136270124052<br>colsample_bytree: 0.34676345983827406<br>min_child_weight: 6<br><b>Objective Value: 0.9456992597139712</b>\",\"Trial #108<br>algorithm: lasso<br>alpha: 0.000290966147484301<br><b>Objective Value: 0.9502914624491947</b>\",\"Trial #109<br>algorithm: lasso<br>alpha: 0.0008154095304730813<br><b>Objective Value: 0.9487796957195679</b>\",\"Trial #110<br>algorithm: ridge<br>alpha: 0.00037199925344242533<br><b>Objective Value: 0.9458059631669112</b>\",\"Trial #111<br>algorithm: lasso<br>alpha: 0.0002628523102139585<br><b>Objective Value: 0.9502778163259922</b>\",\"Trial #112<br>algorithm: lasso<br>alpha: 0.0003044538444315895<br><b>Objective Value: 0.9502836280725976</b>\",\"Trial #113<br>algorithm: lasso<br>alpha: 0.0001869134239066806<br><b>Objective Value: 0.9501260316720657</b>\",\"Trial #114<br>algorithm: lasso<br>alpha: 0.0005452808403101624<br><b>Objective Value: 0.9498013443197497</b>\",\"Trial #115<br>algorithm: lasso<br>alpha: 0.0003030787208159202<br><b>Objective Value: 0.9502845562820639</b>\",\"Trial #116<br>algorithm: lasso<br>alpha: 0.0003421151990867715<br><b>Objective Value: 0.9502582588235127</b>\",\"Trial #117<br>algorithm: lasso<br>alpha: 0.00013966170638581<br><b>Objective Value: 0.9499275892013603</b>\",\"Trial #118<br>algorithm: lasso<br>alpha: 0.0017689970679156401<br><b>Objective Value: 0.9442351128117648</b>\",\"Trial #119<br>algorithm: lasso<br>alpha: 0.0004857680768819713<br><b>Objective Value: 0.9499741667505186</b>\",\"Trial #120<br>algorithm: lasso<br>alpha: 0.00019366385317210036<br><b>Objective Value: 0.9501437506612426</b>\",\"Trial #121<br>algorithm: lasso<br>alpha: 0.00029322512255107095<br><b>Objective Value: 0.9502898226246657</b>\",\"Trial #122<br>algorithm: lasso<br>alpha: 0.0003937165488046054<br><b>Objective Value: 0.950172458965406</b>\",\"Trial #123<br>algorithm: lasso<br>alpha: 0.00012651680490057297<br><b>Objective Value: 0.9498818867954568</b>\",\"Trial #124<br>algorithm: lasso<br>alpha: 0.00032284555737474547<br><b>Objective Value: 0.9502742213840186</b>\",\"Trial #125<br>algorithm: lasso<br>alpha: 0.0010093248243163574<br><b>Objective Value: 0.948010230424984</b>\",\"Trial #126<br>algorithm: lasso<br>alpha: 0.0006538962082803727<br><b>Objective Value: 0.9494725800498989</b>\",\"Trial #127<br>algorithm: lasso<br>alpha: 0.0002701530338719892<br><b>Objective Value: 0.9502881420877998</b>\",\"Trial #128<br>algorithm: lasso<br>alpha: 0.00018822987713131288<br><b>Objective Value: 0.9501299921214527</b>\",\"Trial #129<br>algorithm: xgb<br>learning_rate: 0.00037758996511927124<br>max_depth: 3<br>subsample: 0.2213408681389885<br>colsample_bytree: 0.7364584373058741<br>min_child_weight: 15<br><b>Objective Value: -6.665047997522985</b>\",\"Trial #130<br>algorithm: lasso<br>alpha: 0.0005025161860693752<br><b>Objective Value: 0.9499275651962751</b>\",\"Trial #131<br>algorithm: lasso<br>alpha: 0.00030121839415697064<br><b>Objective Value: 0.9502859312054707</b>\",\"Trial #132<br>algorithm: lasso<br>alpha: 0.02760617308212424<br><b>Objective Value: 0.9090691608791975</b>\",\"Trial #133<br>algorithm: lasso<br>alpha: 0.0002755064260576385<br><b>Objective Value: 0.9502947964782023</b>\",\"Trial #134<br>algorithm: lasso<br>alpha: 0.00022243048023622906<br><b>Objective Value: 0.9502028187641546</b>\",\"Trial #135<br>algorithm: lasso<br>alpha: 0.00014320019113867708<br><b>Objective Value: 0.9499426420022609</b>\",\"Trial #136<br>algorithm: lasso<br>alpha: 0.00026866592038427895<br><b>Objective Value: 0.9502861840712985</b>\",\"Trial #137<br>algorithm: ridge<br>alpha: 0.0004309633494336917<br><b>Objective Value: 0.9458062161166941</b>\",\"Trial #138<br>algorithm: lasso<br>alpha: 0.00081294913853769<br><b>Objective Value: 0.9487904462388294</b>\",\"Trial #139<br>algorithm: lasso<br>alpha: 0.00020297584486418416<br><b>Objective Value: 0.9501620529377204</b>\",\"Trial #140<br>algorithm: lasso<br>alpha: 0.00012195713425037956<br><b>Objective Value: 0.9498618400883064</b>\",\"Trial #141<br>algorithm: lasso<br>alpha: 0.00025467710128659193<br><b>Objective Value: 0.9502649728528159</b>\",\"Trial #142<br>algorithm: lasso<br>alpha: 0.0003902292801053442<br><b>Objective Value: 0.9501802467301577</b>\",\"Trial #143<br>algorithm: lasso<br>alpha: 0.0005961379839180346<br><b>Objective Value: 0.9496636404874943</b>\",\"Trial #144<br>algorithm: lasso<br>alpha: 0.00025983379644265125<br><b>Objective Value: 0.9502726100328387</b>\",\"Trial #145<br>algorithm: lasso<br>alpha: 0.0001656791803098643<br><b>Objective Value: 0.9500547936860226</b>\",\"Trial #146<br>algorithm: lasso<br>alpha: 0.00029660077744154305<br><b>Objective Value: 0.9502884518718631</b>\",\"Trial #147<br>algorithm: lasso<br>alpha: 0.0004216013518661878<br><b>Objective Value: 0.9501140127607505</b>\",\"Trial #148<br>algorithm: lasso<br>alpha: 0.00019191268560575942<br><b>Objective Value: 0.9501396727282296</b>\",\"Trial #149<br>algorithm: lasso<br>alpha: 0.0005355609370130905<br><b>Objective Value: 0.949827142011346</b>\",\"Trial #150<br>algorithm: lasso<br>alpha: 0.7480710218510542<br><b>Objective Value: -0.029441307066881618</b>\",\"Trial #151<br>algorithm: lasso<br>alpha: 0.0002955668852217581<br><b>Objective Value: 0.950288785652028</b>\",\"Trial #152<br>algorithm: lasso<br>alpha: 0.0003179394162049563<br><b>Objective Value: 0.9502777437745561</b>\",\"Trial #153<br>algorithm: lasso<br>alpha: 0.0002572094482719987<br><b>Objective Value: 0.9502688139102728</b>\",\"Trial #154<br>algorithm: lasso<br>alpha: 0.00010234247253002118<br><b>Objective Value: 0.9496937107517626</b>\",\"Trial #155<br>algorithm: lasso<br>alpha: 0.00014965779743293767<br><b>Objective Value: 0.9499777480519768</b>\",\"Trial #156<br>algorithm: lasso<br>alpha: 0.00037700816190696225<br><b>Objective Value: 0.9502093537893714</b>\",\"Trial #157<br>algorithm: xgb<br>learning_rate: 0.000484744276997372<br>max_depth: 8<br>subsample: 0.9855479934166286<br>colsample_bytree: 0.4680410649317334<br>min_child_weight: 5<br><b>Objective Value: -6.658982618518887</b>\",\"Trial #158<br>algorithm: lasso<br>alpha: 0.0002121806487450387<br><b>Objective Value: 0.9501804859699942</b>\",\"Trial #159<br>algorithm: lasso<br>alpha: 0.0006328223055577282<br><b>Objective Value: 0.9495460997714975</b>\",\"Trial #160<br>algorithm: lasso<br>alpha: 0.00027951955384252825<br><b>Objective Value: 0.9502968446519408</b>\",\"Trial #161<br>algorithm: lasso<br>alpha: 0.0002939250037567679<br><b>Objective Value: 0.9502895965361698</b>\",\"Trial #162<br>algorithm: lasso<br>alpha: 0.00037385749754682466<br><b>Objective Value: 0.95021458199043</b>\",\"Trial #163<br>algorithm: lasso<br>alpha: 0.00046763996206561896<br><b>Objective Value: 0.9500186429126172</b>\",\"Trial #164<br>algorithm: lasso<br>alpha: 0.00017255223505524656<br><b>Objective Value: 0.9500779176060921</b>\",\"Trial #165<br>algorithm: lasso<br>alpha: 0.00026100557304665855<br><b>Objective Value: 0.9502745077404082</b>\",\"Trial #166<br>algorithm: ridge<br>alpha: 0.0003300537053842424<br><b>Objective Value: 0.9458057831934419</b>\",\"Trial #167<br>algorithm: lasso<br>alpha: 0.00021752221770842542<br><b>Objective Value: 0.9501930573225469</b>\",\"Trial #168<br>algorithm: lasso<br>alpha: 0.057297280198522024<br><b>Objective Value: 0.8389773364681945</b>\",\"Trial #169<br>algorithm: lasso<br>alpha: 0.0007982176804455926<br><b>Objective Value: 0.9488545491630855</b>\",\"Trial #170<br>algorithm: lasso<br>alpha: 0.008770629968123052<br><b>Objective Value: 0.9377778075045207</b>\",\"Trial #171<br>algorithm: lasso<br>alpha: 0.00026809135112437695<br><b>Objective Value: 0.9502854685127481</b>\",\"Trial #172<br>algorithm: lasso<br>alpha: 0.0003039866798920512<br><b>Objective Value: 0.9502839077510391</b>\",\"Trial #173<br>algorithm: lasso<br>alpha: 0.0001518658124315147<br><b>Objective Value: 0.9499869011042194</b>\",\"Trial #174<br>algorithm: lasso<br>alpha: 0.00046511836448988027<br><b>Objective Value: 0.9500245932051371</b>\",\"Trial #175<br>algorithm: lasso<br>alpha: 0.24295422841672976<br><b>Objective Value: 0.1865437329165439</b>\",\"Trial #176<br>algorithm: lasso<br>alpha: 0.00020070103964358482<br><b>Objective Value: 0.9501583632314036</b>\",\"Trial #177<br>algorithm: lasso<br>alpha: 0.0003836683208844992<br><b>Objective Value: 0.9501960247006522</b>\",\"Trial #178<br>algorithm: lasso<br>alpha: 0.0005881628083156323<br><b>Objective Value: 0.9496864576714318</b>\",\"Trial #179<br>algorithm: lasso<br>alpha: 0.00026630194727719005<br><b>Objective Value: 0.9502833222098073</b>\",\"Trial #180<br>algorithm: lasso<br>alpha: 0.00014231728344635378<br><b>Objective Value: 0.9499385532941413</b>\",\"Trial #181<br>algorithm: lasso<br>alpha: 0.0003085933070370752<br><b>Objective Value: 0.9502810360158491</b>\",\"Trial #182<br>algorithm: lasso<br>alpha: 0.0003051142591493016<br><b>Objective Value: 0.9502831710262434</b>\",\"Trial #183<br>algorithm: lasso<br>alpha: 0.00021599941049405656<br><b>Objective Value: 0.9501898279809267</b>\",\"Trial #184<br>algorithm: lasso<br>alpha: 0.0004154625288227434<br><b>Objective Value: 0.9501258403921616</b>\",\"Trial #185<br>algorithm: lasso<br>alpha: 0.00018413932309184442<br><b>Objective Value: 0.9501172861556331</b>\",\"Trial #186<br>algorithm: lasso<br>alpha: 0.00029593987834829297<br><b>Objective Value: 0.950288642837411</b>\",\"Trial #187<br>algorithm: lasso<br>alpha: 0.0005140786592218493<br><b>Objective Value: 0.9498915102678985</b>\",\"Trial #188<br>algorithm: xgb<br>learning_rate: 0.022432477519196928<br>max_depth: 5<br>subsample: 0.5819591447885447<br>colsample_bytree: 0.1949715272549276<br>min_child_weight: 13<br><b>Objective Value: 0.9467614990364478</b>\",\"Trial #189<br>algorithm: lasso<br>alpha: 0.00022947095032263697<br><b>Objective Value: 0.9502152651959875</b>\",\"Trial #190<br>algorithm: lasso<br>alpha: 0.0003771917449846884<br><b>Objective Value: 0.9502090690343031</b>\",\"Trial #191<br>algorithm: lasso<br>alpha: 0.0002628651681789406<br><b>Objective Value: 0.9502778394616301</b>\",\"Trial #192<br>algorithm: lasso<br>alpha: 0.00033338137422522654<br><b>Objective Value: 0.950266037079577</b>\",\"Trial #193<br>algorithm: lasso<br>alpha: 0.00017477919220651886<br><b>Objective Value: 0.9500845330420139</b>\",\"Trial #194<br>algorithm: lasso<br>alpha: 0.0002668231958810487<br><b>Objective Value: 0.9502840671126596</b>\",\"Trial #195<br>algorithm: lasso<br>alpha: 0.0005009178284093929<br><b>Objective Value: 0.9499323646692229</b>\",\"Trial #196<br>algorithm: lasso<br>alpha: 0.00012855378397921287<br><b>Objective Value: 0.9498876175942407</b>\",\"Trial #197<br>algorithm: lasso<br>alpha: 0.00034571676369411016<br><b>Objective Value: 0.950254088504817</b>\",\"Trial #198<br>algorithm: lasso<br>alpha: 0.00020514835456026157<br><b>Objective Value: 0.9501658812790701</b>\",\"Trial #199<br>algorithm: ridge<br>alpha: 0.00028929130728814323<br><b>Objective Value: 0.9458056082713616</b>\"],\"marker\":{\"color\":[\"rgb(150.0, 200.0, 224.0)\",\"rgb(86.0, 137.0, 190.0)\",\"rgb(139.0, 191.0, 219.0)\",\"rgb(155.0, 204.0, 226.0)\",\"rgb(206.0, 234.0, 243.0)\",\"rgb(74.0, 123.0, 183.0)\",\"rgb(255.0, 240.0, 169.0)\",\"rgb(58.0, 82.0, 163.0)\",\"rgb(54.0, 70.0, 157.0)\",\"rgb(254.0, 226.0, 147.0)\",\"rgb(67.0, 111.0, 177.0)\",\"rgb(234.0, 247.0, 230.0)\",\"rgb(229.0, 245.0, 238.0)\",\"rgb(158.0, 207.0, 227.0)\",\"rgb(109.0, 165.0, 205.0)\",\"rgb(66.0, 108.0, 175.0)\",\"rgb(49.0, 54.0, 149.0)\",\"rgb(250.0, 152.0, 87.0)\",\"rgb(62.0, 95.0, 169.0)\",\"rgb(65.0, 105.0, 174.0)\",\"rgb(90.0, 143.0, 193.0)\",\"rgb(248.0, 136.0, 79.0)\",\"rgb(248.0, 139.0, 81.0)\",\"rgb(255.0, 253.0, 187.0)\",\"rgb(88.0, 140.0, 192.0)\",\"rgb(254.0, 239.0, 166.0)\",\"rgb(72.0, 120.0, 182.0)\",\"rgb(100.0, 154.0, 199.0)\",\"rgb(128.0, 182.0, 214.0)\",\"rgb(55.0, 73.0, 158.0)\",\"rgb(141.0, 193.0, 220.0)\",\"rgb(228.0, 244.0, 241.0)\",\"rgb(230.0, 79.0, 53.0)\",\"rgb(177.0, 220.0, 235.0)\",\"rgb(236.0, 91.0, 59.0)\",\"rgb(119.0, 176.0, 210.0)\",\"rgb(95.0, 148.0, 196.0)\",\"rgb(172.0, 217.0, 233.0)\",\"rgb(81.0, 131.0, 187.0)\",\"rgb(174.0, 219.0, 234.0)\",\"rgb(188.0, 225.0, 238.0)\",\"rgb(225.0, 70.0, 49.0)\",\"rgb(250.0, 149.0, 85.0)\",\"rgb(98.0, 151.0, 198.0)\",\"rgb(244.0, 110.0, 67.0)\",\"rgb(190.0, 227.0, 239.0)\",\"rgb(107.0, 162.0, 203.0)\",\"rgb(50.0, 57.0, 151.0)\",\"rgb(254.0, 229.0, 152.0)\",\"rgb(79.0, 129.0, 186.0)\",\"rgb(147.0, 198.0, 223.0)\",\"rgb(251.0, 162.0, 91.0)\",\"rgb(226.0, 244.0, 244.0)\",\"rgb(253.0, 177.0, 100.0)\",\"rgb(253.0, 187.0, 110.0)\",\"rgb(112.0, 168.0, 206.0)\",\"rgb(58.0, 82.0, 163.0)\",\"rgb(76.0, 126.0, 185.0)\",\"rgb(204.0, 233.0, 242.0)\",\"rgb(205.0, 39.0, 39.0)\",\"rgb(58.0, 82.0, 163.0)\",\"rgb(255.0, 242.0, 171.0)\",\"rgb(249.0, 146.0, 84.0)\",\"rgb(237.0, 94.0, 60.0)\",\"rgb(152.0, 202.0, 225.0)\",\"rgb(243.0, 250.0, 212.0)\",\"rgb(254.0, 255.0, 192.0)\",\"rgb(53.0, 67.0, 155.0)\",\"rgb(240.0, 100.0, 63.0)\",\"rgb(93.0, 145.0, 195.0)\",\"rgb(169.0, 215.0, 232.0)\",\"rgb(243.0, 107.0, 66.0)\",\"rgb(214.0, 238.0, 245.0)\",\"rgb(255.0, 254.0, 190.0)\",\"rgb(200.0, 34.0, 39.0)\",\"rgb(178.0, 12.0, 38.0)\",\"rgb(117.0, 173.0, 209.0)\",\"rgb(225.0, 243.0, 247.0)\",\"rgb(227.0, 73.0, 50.0)\",\"rgb(255.0, 246.0, 178.0)\",\"rgb(166.0, 213.0, 231.0)\",\"rgb(245.0, 119.0, 72.0)\",\"rgb(173.0, 7.0, 38.0)\",\"rgb(102.0, 157.0, 201.0)\",\"rgb(209.0, 236.0, 244.0)\",\"rgb(252.0, 165.0, 93.0)\",\"rgb(69.0, 117.0, 180.0)\",\"rgb(248.0, 252.0, 204.0)\",\"rgb(136.0, 189.0, 218.0)\",\"rgb(161.0, 209.0, 229.0)\",\"rgb(168.0, 2.0, 38.0)\",\"rgb(253.0, 180.0, 102.0)\",\"rgb(183.0, 17.0, 38.0)\",\"rgb(237.0, 248.0, 224.0)\",\"rgb(193.0, 228.0, 239.0)\",\"rgb(63.0, 98.0, 171.0)\",\"rgb(208.0, 41.0, 39.0)\",\"rgb(254.0, 207.0, 128.0)\",\"rgb(254.0, 228.0, 150.0)\",\"rgb(170.0, 5.0, 38.0)\",\"rgb(217.0, 240.0, 246.0)\",\"rgb(249.0, 142.0, 82.0)\",\"rgb(175.0, 10.0, 38.0)\",\"rgb(254.0, 234.0, 159.0)\",\"rgb(196.0, 229.0, 240.0)\",\"rgb(254.0, 236.0, 161.0)\",\"rgb(58.0, 82.0, 163.0)\",\"rgb(114.0, 171.0, 208.0)\",\"rgb(185.0, 19.0, 38.0)\",\"rgb(180.0, 221.0, 235.0)\",\"rgb(130.0, 184.0, 215.0)\",\"rgb(233.0, 85.0, 56.0)\",\"rgb(221.0, 61.0, 45.0)\",\"rgb(254.0, 217.0, 138.0)\",\"rgb(231.0, 246.0, 235.0)\",\"rgb(217.0, 51.0, 41.0)\",\"rgb(247.0, 129.0, 76.0)\",\"rgb(246.0, 252.0, 207.0)\",\"rgb(105.0, 159.0, 202.0)\",\"rgb(255.0, 251.0, 185.0)\",\"rgb(254.0, 210.0, 131.0)\",\"rgb(188.0, 22.0, 38.0)\",\"rgb(253.0, 197.0, 119.0)\",\"rgb(239.0, 249.0, 221.0)\",\"rgb(241.0, 103.0, 64.0)\",\"rgb(164.0, 211.0, 230.0)\",\"rgb(198.0, 230.0, 241.0)\",\"rgb(203.0, 36.0, 39.0)\",\"rgb(254.0, 215.0, 135.0)\",\"rgb(51.0, 60.0, 152.0)\",\"rgb(245.0, 251.0, 210.0)\",\"rgb(213.0, 46.0, 39.0)\",\"rgb(68.0, 114.0, 179.0)\",\"rgb(180.0, 14.0, 38.0)\",\"rgb(253.0, 175.0, 98.0)\",\"rgb(253.0, 254.0, 195.0)\",\"rgb(210.0, 43.0, 39.0)\",\"rgb(133.0, 187.0, 216.0)\",\"rgb(182.0, 223.0, 236.0)\",\"rgb(254.0, 202.0, 124.0)\",\"rgb(236.0, 247.0, 227.0)\",\"rgb(246.0, 126.0, 75.0)\",\"rgb(253.0, 195.0, 117.0)\",\"rgb(212.0, 237.0, 245.0)\",\"rgb(245.0, 113.0, 69.0)\",\"rgb(254.0, 237.0, 164.0)\",\"rgb(198.0, 31.0, 39.0)\",\"rgb(254.0, 225.0, 145.0)\",\"rgb(254.0, 212.0, 133.0)\",\"rgb(232.0, 246.0, 233.0)\",\"rgb(58.0, 82.0, 163.0)\",\"rgb(193.0, 27.0, 39.0)\",\"rgb(234.0, 88.0, 57.0)\",\"rgb(245.0, 116.0, 70.0)\",\"rgb(222.0, 242.0, 248.0)\",\"rgb(255.0, 250.0, 183.0)\",\"rgb(252.0, 168.0, 94.0)\",\"rgb(52.0, 63.0, 154.0)\",\"rgb(253.0, 192.0, 114.0)\",\"rgb(201.0, 232.0, 242.0)\",\"rgb(165.0, 0.0, 38.0)\",\"rgb(190.0, 24.0, 39.0)\",\"rgb(251.0, 159.0, 90.0)\",\"rgb(255.0, 245.0, 176.0)\",\"rgb(254.0, 232.0, 157.0)\",\"rgb(238.0, 97.0, 62.0)\",\"rgb(125.0, 180.0, 213.0)\",\"rgb(253.0, 185.0, 107.0)\",\"rgb(64.0, 101.0, 172.0)\",\"rgb(185.0, 224.0, 237.0)\",\"rgb(83.0, 134.0, 189.0)\",\"rgb(215.0, 48.0, 39.0)\",\"rgb(220.0, 58.0, 43.0)\",\"rgb(255.0, 248.0, 180.0)\",\"rgb(255.0, 243.0, 173.0)\",\"rgb(61.0, 92.0, 168.0)\",\"rgb(254.0, 205.0, 126.0)\",\"rgb(253.0, 182.0, 105.0)\",\"rgb(220.0, 241.0, 247.0)\",\"rgb(222.0, 64.0, 46.0)\",\"rgb(251.0, 253.0, 198.0)\",\"rgb(228.0, 76.0, 52.0)\",\"rgb(224.0, 67.0, 48.0)\",\"rgb(253.0, 190.0, 112.0)\",\"rgb(254.0, 220.0, 140.0)\",\"rgb(254.0, 222.0, 143.0)\",\"rgb(195.0, 29.0, 39.0)\",\"rgb(242.0, 250.0, 215.0)\",\"rgb(144.0, 196.0, 221.0)\",\"rgb(250.0, 155.0, 88.0)\",\"rgb(253.0, 172.0, 96.0)\",\"rgb(231.0, 82.0, 55.0)\",\"rgb(246.0, 123.0, 73.0)\",\"rgb(254.0, 231.0, 154.0)\",\"rgb(218.0, 54.0, 42.0)\",\"rgb(250.0, 253.0, 201.0)\",\"rgb(240.0, 249.0, 218.0)\",\"rgb(247.0, 133.0, 78.0)\",\"rgb(254.0, 200.0, 121.0)\",\"rgb(122.0, 178.0, 212.0)\"],\"line\":{\"color\":\"Grey\",\"width\":0.5}},\"mode\":\"markers\",\"showlegend\":false,\"x\":[\"ridge\",\"lasso\",\"ridge\",\"ridge\",\"ridge\",\"lasso\",\"lasso\",\"lasso\",\"xgb\",\"lasso\",\"xgb\",\"lasso\",\"lasso\",\"lasso\",\"lasso\",\"lasso\",\"xgb\",\"lasso\",\"lasso\",\"xgb\",\"lasso\",\"lasso\",\"lasso\",\"lasso\",\"lasso\",\"lasso\",\"lasso\",\"lasso\",\"ridge\",\"xgb\",\"ridge\",\"lasso\",\"lasso\",\"lasso\",\"lasso\",\"ridge\",\"lasso\",\"lasso\",\"lasso\",\"ridge\",\"lasso\",\"lasso\",\"lasso\",\"lasso\",\"lasso\",\"lasso\",\"lasso\",\"xgb\",\"lasso\",\"lasso\",\"ridge\",\"lasso\",\"lasso\",\"lasso\",\"lasso\",\"lasso\",\"lasso\",\"xgb\",\"lasso\",\"lasso\",\"lasso\",\"lasso\",\"lasso\",\"lasso\",\"lasso\",\"lasso\",\"lasso\",\"xgb\",\"lasso\",\"lasso\",\"lasso\",\"lasso\",\"lasso\",\"lasso\",\"lasso\",\"lasso\",\"ridge\",\"lasso\",\"lasso\",\"lasso\",\"lasso\",\"lasso\",\"lasso\",\"lasso\",\"lasso\",\"lasso\",\"xgb\",\"lasso\",\"ridge\",\"lasso\",\"lasso\",\"lasso\",\"lasso\",\"lasso\",\"lasso\",\"lasso\",\"lasso\",\"lasso\",\"lasso\",\"lasso\",\"lasso\",\"lasso\",\"lasso\",\"lasso\",\"lasso\",\"lasso\",\"lasso\",\"xgb\",\"lasso\",\"lasso\",\"ridge\",\"lasso\",\"lasso\",\"lasso\",\"lasso\",\"lasso\",\"lasso\",\"lasso\",\"lasso\",\"lasso\",\"lasso\",\"lasso\",\"lasso\",\"lasso\",\"lasso\",\"lasso\",\"lasso\",\"lasso\",\"lasso\",\"xgb\",\"lasso\",\"lasso\",\"lasso\",\"lasso\",\"lasso\",\"lasso\",\"lasso\",\"ridge\",\"lasso\",\"lasso\",\"lasso\",\"lasso\",\"lasso\",\"lasso\",\"lasso\",\"lasso\",\"lasso\",\"lasso\",\"lasso\",\"lasso\",\"lasso\",\"lasso\",\"lasso\",\"lasso\",\"lasso\",\"lasso\",\"lasso\",\"xgb\",\"lasso\",\"lasso\",\"lasso\",\"lasso\",\"lasso\",\"lasso\",\"lasso\",\"lasso\",\"ridge\",\"lasso\",\"lasso\",\"lasso\",\"lasso\",\"lasso\",\"lasso\",\"lasso\",\"lasso\",\"lasso\",\"lasso\",\"lasso\",\"lasso\",\"lasso\",\"lasso\",\"lasso\",\"lasso\",\"lasso\",\"lasso\",\"lasso\",\"lasso\",\"lasso\",\"xgb\",\"lasso\",\"lasso\",\"lasso\",\"lasso\",\"lasso\",\"lasso\",\"lasso\",\"lasso\",\"lasso\",\"lasso\",\"ridge\"],\"y\":[\"ridge\",\"lasso\",\"ridge\",\"ridge\",\"ridge\",\"lasso\",\"lasso\",\"lasso\",\"xgb\",\"lasso\",\"xgb\",\"lasso\",\"lasso\",\"lasso\",\"lasso\",\"lasso\",\"xgb\",\"lasso\",\"lasso\",\"xgb\",\"lasso\",\"lasso\",\"lasso\",\"lasso\",\"lasso\",\"lasso\",\"lasso\",\"lasso\",\"ridge\",\"xgb\",\"ridge\",\"lasso\",\"lasso\",\"lasso\",\"lasso\",\"ridge\",\"lasso\",\"lasso\",\"lasso\",\"ridge\",\"lasso\",\"lasso\",\"lasso\",\"lasso\",\"lasso\",\"lasso\",\"lasso\",\"xgb\",\"lasso\",\"lasso\",\"ridge\",\"lasso\",\"lasso\",\"lasso\",\"lasso\",\"lasso\",\"lasso\",\"xgb\",\"lasso\",\"lasso\",\"lasso\",\"lasso\",\"lasso\",\"lasso\",\"lasso\",\"lasso\",\"lasso\",\"xgb\",\"lasso\",\"lasso\",\"lasso\",\"lasso\",\"lasso\",\"lasso\",\"lasso\",\"lasso\",\"ridge\",\"lasso\",\"lasso\",\"lasso\",\"lasso\",\"lasso\",\"lasso\",\"lasso\",\"lasso\",\"lasso\",\"xgb\",\"lasso\",\"ridge\",\"lasso\",\"lasso\",\"lasso\",\"lasso\",\"lasso\",\"lasso\",\"lasso\",\"lasso\",\"lasso\",\"lasso\",\"lasso\",\"lasso\",\"lasso\",\"lasso\",\"lasso\",\"lasso\",\"lasso\",\"lasso\",\"xgb\",\"lasso\",\"lasso\",\"ridge\",\"lasso\",\"lasso\",\"lasso\",\"lasso\",\"lasso\",\"lasso\",\"lasso\",\"lasso\",\"lasso\",\"lasso\",\"lasso\",\"lasso\",\"lasso\",\"lasso\",\"lasso\",\"lasso\",\"lasso\",\"lasso\",\"xgb\",\"lasso\",\"lasso\",\"lasso\",\"lasso\",\"lasso\",\"lasso\",\"lasso\",\"ridge\",\"lasso\",\"lasso\",\"lasso\",\"lasso\",\"lasso\",\"lasso\",\"lasso\",\"lasso\",\"lasso\",\"lasso\",\"lasso\",\"lasso\",\"lasso\",\"lasso\",\"lasso\",\"lasso\",\"lasso\",\"lasso\",\"lasso\",\"xgb\",\"lasso\",\"lasso\",\"lasso\",\"lasso\",\"lasso\",\"lasso\",\"lasso\",\"lasso\",\"ridge\",\"lasso\",\"lasso\",\"lasso\",\"lasso\",\"lasso\",\"lasso\",\"lasso\",\"lasso\",\"lasso\",\"lasso\",\"lasso\",\"lasso\",\"lasso\",\"lasso\",\"lasso\",\"lasso\",\"lasso\",\"lasso\",\"lasso\",\"lasso\",\"lasso\",\"xgb\",\"lasso\",\"lasso\",\"lasso\",\"lasso\",\"lasso\",\"lasso\",\"lasso\",\"lasso\",\"lasso\",\"lasso\",\"ridge\"],\"type\":\"scatter\",\"xaxis\":\"x\",\"yaxis\":\"y\"},{\"hovertemplate\":\"%{hovertext}<extra></extra>\",\"hovertext\":[\"Trial #0<br>algorithm: ridge<br>alpha: 0.6010505222092465<br><b>Objective Value: 0.9471554321468393</b>\",\"Trial #1<br>algorithm: lasso<br>alpha: 0.006162467158491157<br><b>Objective Value: 0.9389672175428982</b>\",\"Trial #2<br>algorithm: ridge<br>alpha: 0.001244729405956262<br><b>Objective Value: 0.9458097018173504</b>\",\"Trial #3<br>algorithm: ridge<br>alpha: 0.7759373016028097<br><b>Objective Value: 0.9473545665481765</b>\",\"Trial #4<br>algorithm: ridge<br>alpha: 31.29323725185007<br><b>Objective Value: 0.9496058571087869</b>\",\"Trial #5<br>algorithm: lasso<br>alpha: 0.016555231662187374<br><b>Objective Value: 0.9294302327835954</b>\",\"Trial #6<br>algorithm: lasso<br>alpha: 0.0004582749531777171<br><b>Objective Value: 0.9500398525687235</b>\",\"Trial #7<br>algorithm: lasso<br>alpha: 5.534750298353362<br><b>Objective Value: -0.029441307066881618</b>\",\"Trial #9<br>algorithm: lasso<br>alpha: 0.00017637287605472746<br><b>Objective Value: 0.9500902328681612</b>\",\"Trial #11<br>algorithm: lasso<br>alpha: 0.00011995197253262029<br><b>Objective Value: 0.9498510406483309</b>\",\"Trial #12<br>algorithm: lasso<br>alpha: 0.00011207889164253218<br><b>Objective Value: 0.9497956445257467</b>\",\"Trial #13<br>algorithm: lasso<br>alpha: 0.0011740965051880814<br><b>Objective Value: 0.9473793968660728</b>\",\"Trial #14<br>algorithm: lasso<br>alpha: 0.0015503076984355424<br><b>Objective Value: 0.945086273060117</b>\",\"Trial #15<br>algorithm: lasso<br>alpha: 0.03649585335839899<br><b>Objective Value: 0.891919680699119</b>\",\"Trial #17<br>algorithm: lasso<br>alpha: 0.0003726843301350919<br><b>Objective Value: 0.9502165794308643</b>\",\"Trial #18<br>algorithm: lasso<br>alpha: 0.20023362384311136<br><b>Objective Value: 0.3389464804948818</b>\",\"Trial #20<br>algorithm: lasso<br>alpha: 0.004216169019651566<br><b>Objective Value: 0.9409100930605206</b>\",\"Trial #21<br>algorithm: lasso<br>alpha: 0.00034608379326552273<br><b>Objective Value: 0.9502535145176715</b>\",\"Trial #22<br>algorithm: lasso<br>alpha: 0.00024482064135119533<br><b>Objective Value: 0.950247724018946</b>\",\"Trial #23<br>algorithm: lasso<br>alpha: 0.000487776516858514<br><b>Objective Value: 0.9499686482042866</b>\",\"Trial #24<br>algorithm: lasso<br>alpha: 0.005239588389351667<br><b>Objective Value: 0.9397985591072718</b>\",\"Trial #25<br>algorithm: lasso<br>alpha: 0.0004550420502021263<br><b>Objective Value: 0.9500469224113856</b>\",\"Trial #26<br>algorithm: lasso<br>alpha: 0.02091016333584503<br><b>Objective Value: 0.9224764929436381</b>\",\"Trial #27<br>algorithm: lasso<br>alpha: 0.002367137437004208<br><b>Objective Value: 0.9431142980201922</b>\",\"Trial #28<br>algorithm: ridge<br>alpha: 0.0003508193855269366<br><b>Objective Value: 0.9458058722948917</b>\",\"Trial #30<br>algorithm: ridge<br>alpha: 0.07419825096515736<br><b>Objective Value: 0.9460881378786741</b>\",\"Trial #31<br>algorithm: lasso<br>alpha: 0.0001098338559889162<br><b>Objective Value: 0.9497745164857381</b>\",\"Trial #32<br>algorithm: lasso<br>alpha: 0.00026399630354087886<br><b>Objective Value: 0.9502797535996578</b>\",\"Trial #33<br>algorithm: lasso<br>alpha: 0.0008472387752849562<br><b>Objective Value: 0.9486362756580426</b>\",\"Trial #34<br>algorithm: lasso<br>alpha: 0.0003204788571913823<br><b>Objective Value: 0.9502759959747529</b>\",\"Trial #35<br>algorithm: ridge<br>alpha: 0.00024230102105339654<br><b>Objective Value: 0.9458054065930874</b>\",\"Trial #36<br>algorithm: lasso<br>alpha: 0.002615056478718971<br><b>Objective Value: 0.9427418045630881</b>\",\"Trial #37<br>algorithm: lasso<br>alpha: 0.0008701193893983413<br><b>Objective Value: 0.9485421626102486</b>\",\"Trial #38<br>algorithm: lasso<br>alpha: 0.009343031672547655<br><b>Objective Value: 0.9373437476773958</b>\",\"Trial #39<br>algorithm: ridge<br>alpha: 3.0896988698846903<br><b>Objective Value: 0.9485588883459293</b>\",\"Trial #40<br>algorithm: lasso<br>alpha: 0.0007487749013093245<br><b>Objective Value: 0.9490795432899979</b>\",\"Trial #41<br>algorithm: lasso<br>alpha: 0.00026577767050225043<br><b>Objective Value: 0.9502825368726407</b>\",\"Trial #42<br>algorithm: lasso<br>alpha: 0.00023634827143863648<br><b>Objective Value: 0.9502294508274328</b>\",\"Trial #43<br>algorithm: lasso<br>alpha: 0.002427898969308335<br><b>Objective Value: 0.9430131991735313</b>\",\"Trial #44<br>algorithm: lasso<br>alpha: 0.000325062047327948<br><b>Objective Value: 0.9502727641231721</b>\",\"Trial #45<br>algorithm: lasso<br>alpha: 0.0007138085942687639<br><b>Objective Value: 0.9492408791368658</b>\",\"Trial #46<br>algorithm: lasso<br>alpha: 0.001600153468480079<br><b>Objective Value: 0.9448349663520008</b>\",\"Trial #48<br>algorithm: lasso<br>alpha: 0.0001752770246621694<br><b>Objective Value: 0.9500862499579659</b>\",\"Trial #49<br>algorithm: lasso<br>alpha: 0.009528470841126065<br><b>Objective Value: 0.9371932960385145</b>\",\"Trial #50<br>algorithm: ridge<br>alpha: 0.4966722669613841<br><b>Objective Value: 0.9470141744249545</b>\",\"Trial #51<br>algorithm: lasso<br>alpha: 0.00022775953671817198<br><b>Objective Value: 0.9502119657115078</b>\",\"Trial #52<br>algorithm: lasso<br>alpha: 0.00010612659023547114<br><b>Objective Value: 0.949734434572683</b>\",\"Trial #53<br>algorithm: lasso<br>alpha: 0.0003830467672882016<br><b>Objective Value: 0.9501974068395576</b>\",\"Trial #54<br>algorithm: lasso<br>alpha: 0.00021627436540954526<br><b>Objective Value: 0.950190484820807</b>\",\"Trial #55<br>algorithm: lasso<br>alpha: 0.001445853412310756<br><b>Objective Value: 0.945629603904475</b>\",\"Trial #56<br>algorithm: lasso<br>alpha: 53.23092951617624<br><b>Objective Value: -0.029441307066881618</b>\",\"Trial #58<br>algorithm: lasso<br>alpha: 0.0006269662288422743<br><b>Objective Value: 0.9495661914710423</b>\",\"Trial #59<br>algorithm: lasso<br>alpha: 0.00029775083715590834<br><b>Objective Value: 0.9502879072815185</b>\",\"Trial #60<br>algorithm: lasso<br>alpha: 15.099326747885836<br><b>Objective Value: -0.029441307066881618</b>\",\"Trial #61<br>algorithm: lasso<br>alpha: 0.00016120434434155882<br><b>Objective Value: 0.9500333708547464</b>\",\"Trial #62<br>algorithm: lasso<br>alpha: 0.0003589828022351704<br><b>Objective Value: 0.9502370410586698</b>\",\"Trial #63<br>algorithm: lasso<br>alpha: 0.0003217979072940209<br><b>Objective Value: 0.9502750912961979</b>\",\"Trial #64<br>algorithm: lasso<br>alpha: 0.0011967427390884194<br><b>Objective Value: 0.9472882006945464</b>\",\"Trial #65<br>algorithm: lasso<br>alpha: 0.0005043219466697327<br><b>Objective Value: 0.9499221783577119</b>\",\"Trial #66<br>algorithm: lasso<br>alpha: 0.00014659589751746423<br><b>Objective Value: 0.9499614525388406</b>\",\"Trial #68<br>algorithm: lasso<br>alpha: 0.00032279050356379395<br><b>Objective Value: 0.9502742629973625</b>\",\"Trial #69<br>algorithm: lasso<br>alpha: 0.003229013154984103<br><b>Objective Value: 0.941854420726292</b>\",\"Trial #70<br>algorithm: lasso<br>alpha: 0.0009304375157316136<br><b>Objective Value: 0.9483040046031498</b>\",\"Trial #71<br>algorithm: lasso<br>alpha: 0.00032387498231343473<br><b>Objective Value: 0.9502735478038954</b>\",\"Trial #72<br>algorithm: lasso<br>alpha: 0.00010020749752970585<br><b>Objective Value: 0.9496698612945007</b>\",\"Trial #73<br>algorithm: lasso<br>alpha: 0.0004902540297799311<br><b>Objective Value: 0.9499618729169731</b>\",\"Trial #74<br>algorithm: lasso<br>alpha: 0.0002969173890045437<br><b>Objective Value: 0.9502883231525254</b>\",\"Trial #75<br>algorithm: lasso<br>alpha: 0.00028454678060790855<br><b>Objective Value: 0.9502953233147071</b>\",\"Trial #76<br>algorithm: ridge<br>alpha: 0.00016771658897848712<br><b>Objective Value: 0.9458050864155652</b>\",\"Trial #77<br>algorithm: lasso<br>alpha: 0.000578084982033051<br><b>Objective Value: 0.9497137160696887</b>\",\"Trial #78<br>algorithm: lasso<br>alpha: 0.0002650869138932816<br><b>Objective Value: 0.9502815924227817</b>\",\"Trial #79<br>algorithm: lasso<br>alpha: 0.0001529524006218151<br><b>Objective Value: 0.9499926313562599</b>\",\"Trial #80<br>algorithm: lasso<br>alpha: 0.0009624329368942344<br><b>Objective Value: 0.9481827933626569</b>\",\"Trial #81<br>algorithm: lasso<br>alpha: 0.00025615699836524443<br><b>Objective Value: 0.9502672109276192</b>\",\"Trial #82<br>algorithm: lasso<br>alpha: 0.0002775282989311552<br><b>Objective Value: 0.9502963988384143</b>\",\"Trial #83<br>algorithm: lasso<br>alpha: 0.001863957343085763<br><b>Objective Value: 0.9439723885844347</b>\",\"Trial #84<br>algorithm: lasso<br>alpha: 0.0005977110689793054<br><b>Objective Value: 0.9496589312348584</b>\",\"Trial #85<br>algorithm: lasso<br>alpha: 0.0002265048002483477<br><b>Objective Value: 0.9502098986541375</b>\",\"Trial #87<br>algorithm: lasso<br>alpha: 0.00014044844521037702<br><b>Objective Value: 0.9499303692169431</b>\",\"Trial #88<br>algorithm: ridge<br>alpha: 0.00043999444012187577<br><b>Objective Value: 0.9458062548545307</b>\",\"Trial #89<br>algorithm: lasso<br>alpha: 0.0011161328813483<br><b>Objective Value: 0.9476084501766951</b>\",\"Trial #90<br>algorithm: lasso<br>alpha: 0.00028182509069933046<br><b>Objective Value: 0.9502964822130379</b>\",\"Trial #91<br>algorithm: lasso<br>alpha: 0.00021910412365379805<br><b>Objective Value: 0.9501962444593653</b>\",\"Trial #92<br>algorithm: lasso<br>alpha: 0.00028892319193558495<br><b>Objective Value: 0.9502926907956504</b>\",\"Trial #93<br>algorithm: lasso<br>alpha: 0.00012601304274520566<br><b>Objective Value: 0.9498802105550059</b>\",\"Trial #94<br>algorithm: lasso<br>alpha: 0.0006867677082010171<br><b>Objective Value: 0.9493494195943446</b>\",\"Trial #95<br>algorithm: lasso<br>alpha: 0.10617565798782047<br><b>Objective Value: 0.6948625509417926</b>\",\"Trial #96<br>algorithm: lasso<br>alpha: 0.00026874245328880713<br><b>Objective Value: 0.9502862831182425</b>\",\"Trial #97<br>algorithm: lasso<br>alpha: 0.0001942292553580477<br><b>Objective Value: 0.9501449871277803</b>\",\"Trial #98<br>algorithm: lasso<br>alpha: 0.0004343961432539565<br><b>Objective Value: 0.9500888877970954</b>\",\"Trial #99<br>algorithm: lasso<br>alpha: 0.0002822324255457903<br><b>Objective Value: 0.9502964373402069</b>\",\"Trial #100<br>algorithm: lasso<br>alpha: 0.00010067470572454919<br><b>Objective Value: 0.9496753512755902</b>\",\"Trial #101<br>algorithm: lasso<br>alpha: 0.00024337137393535218<br><b>Objective Value: 0.9502449512569566</b>\",\"Trial #102<br>algorithm: lasso<br>alpha: 0.0002840324973679434<br><b>Objective Value: 0.9502955909186339</b>\",\"Trial #103<br>algorithm: lasso<br>alpha: 0.0004429356786116208<br><b>Objective Value: 0.9500715177401252</b>\",\"Trial #104<br>algorithm: lasso<br>alpha: 0.0006852289007676667<br><b>Objective Value: 0.9493553150559639</b>\",\"Trial #105<br>algorithm: lasso<br>alpha: 0.00016777305469109388<br><b>Objective Value: 0.9500636883309272</b>\",\"Trial #106<br>algorithm: lasso<br>alpha: 2.718674441824922<br><b>Objective Value: -0.029441307066881618</b>\",\"Trial #108<br>algorithm: lasso<br>alpha: 0.000290966147484301<br><b>Objective Value: 0.9502914624491947</b>\",\"Trial #109<br>algorithm: lasso<br>alpha: 0.0008154095304730813<br><b>Objective Value: 0.9487796957195679</b>\",\"Trial #110<br>algorithm: ridge<br>alpha: 0.00037199925344242533<br><b>Objective Value: 0.9458059631669112</b>\",\"Trial #111<br>algorithm: lasso<br>alpha: 0.0002628523102139585<br><b>Objective Value: 0.9502778163259922</b>\",\"Trial #112<br>algorithm: lasso<br>alpha: 0.0003044538444315895<br><b>Objective Value: 0.9502836280725976</b>\",\"Trial #113<br>algorithm: lasso<br>alpha: 0.0001869134239066806<br><b>Objective Value: 0.9501260316720657</b>\",\"Trial #114<br>algorithm: lasso<br>alpha: 0.0005452808403101624<br><b>Objective Value: 0.9498013443197497</b>\",\"Trial #115<br>algorithm: lasso<br>alpha: 0.0003030787208159202<br><b>Objective Value: 0.9502845562820639</b>\",\"Trial #116<br>algorithm: lasso<br>alpha: 0.0003421151990867715<br><b>Objective Value: 0.9502582588235127</b>\",\"Trial #117<br>algorithm: lasso<br>alpha: 0.00013966170638581<br><b>Objective Value: 0.9499275892013603</b>\",\"Trial #118<br>algorithm: lasso<br>alpha: 0.0017689970679156401<br><b>Objective Value: 0.9442351128117648</b>\",\"Trial #119<br>algorithm: lasso<br>alpha: 0.0004857680768819713<br><b>Objective Value: 0.9499741667505186</b>\",\"Trial #120<br>algorithm: lasso<br>alpha: 0.00019366385317210036<br><b>Objective Value: 0.9501437506612426</b>\",\"Trial #121<br>algorithm: lasso<br>alpha: 0.00029322512255107095<br><b>Objective Value: 0.9502898226246657</b>\",\"Trial #122<br>algorithm: lasso<br>alpha: 0.0003937165488046054<br><b>Objective Value: 0.950172458965406</b>\",\"Trial #123<br>algorithm: lasso<br>alpha: 0.00012651680490057297<br><b>Objective Value: 0.9498818867954568</b>\",\"Trial #124<br>algorithm: lasso<br>alpha: 0.00032284555737474547<br><b>Objective Value: 0.9502742213840186</b>\",\"Trial #125<br>algorithm: lasso<br>alpha: 0.0010093248243163574<br><b>Objective Value: 0.948010230424984</b>\",\"Trial #126<br>algorithm: lasso<br>alpha: 0.0006538962082803727<br><b>Objective Value: 0.9494725800498989</b>\",\"Trial #127<br>algorithm: lasso<br>alpha: 0.0002701530338719892<br><b>Objective Value: 0.9502881420877998</b>\",\"Trial #128<br>algorithm: lasso<br>alpha: 0.00018822987713131288<br><b>Objective Value: 0.9501299921214527</b>\",\"Trial #130<br>algorithm: lasso<br>alpha: 0.0005025161860693752<br><b>Objective Value: 0.9499275651962751</b>\",\"Trial #131<br>algorithm: lasso<br>alpha: 0.00030121839415697064<br><b>Objective Value: 0.9502859312054707</b>\",\"Trial #132<br>algorithm: lasso<br>alpha: 0.02760617308212424<br><b>Objective Value: 0.9090691608791975</b>\",\"Trial #133<br>algorithm: lasso<br>alpha: 0.0002755064260576385<br><b>Objective Value: 0.9502947964782023</b>\",\"Trial #134<br>algorithm: lasso<br>alpha: 0.00022243048023622906<br><b>Objective Value: 0.9502028187641546</b>\",\"Trial #135<br>algorithm: lasso<br>alpha: 0.00014320019113867708<br><b>Objective Value: 0.9499426420022609</b>\",\"Trial #136<br>algorithm: lasso<br>alpha: 0.00026866592038427895<br><b>Objective Value: 0.9502861840712985</b>\",\"Trial #137<br>algorithm: ridge<br>alpha: 0.0004309633494336917<br><b>Objective Value: 0.9458062161166941</b>\",\"Trial #138<br>algorithm: lasso<br>alpha: 0.00081294913853769<br><b>Objective Value: 0.9487904462388294</b>\",\"Trial #139<br>algorithm: lasso<br>alpha: 0.00020297584486418416<br><b>Objective Value: 0.9501620529377204</b>\",\"Trial #140<br>algorithm: lasso<br>alpha: 0.00012195713425037956<br><b>Objective Value: 0.9498618400883064</b>\",\"Trial #141<br>algorithm: lasso<br>alpha: 0.00025467710128659193<br><b>Objective Value: 0.9502649728528159</b>\",\"Trial #142<br>algorithm: lasso<br>alpha: 0.0003902292801053442<br><b>Objective Value: 0.9501802467301577</b>\",\"Trial #143<br>algorithm: lasso<br>alpha: 0.0005961379839180346<br><b>Objective Value: 0.9496636404874943</b>\",\"Trial #144<br>algorithm: lasso<br>alpha: 0.00025983379644265125<br><b>Objective Value: 0.9502726100328387</b>\",\"Trial #145<br>algorithm: lasso<br>alpha: 0.0001656791803098643<br><b>Objective Value: 0.9500547936860226</b>\",\"Trial #146<br>algorithm: lasso<br>alpha: 0.00029660077744154305<br><b>Objective Value: 0.9502884518718631</b>\",\"Trial #147<br>algorithm: lasso<br>alpha: 0.0004216013518661878<br><b>Objective Value: 0.9501140127607505</b>\",\"Trial #148<br>algorithm: lasso<br>alpha: 0.00019191268560575942<br><b>Objective Value: 0.9501396727282296</b>\",\"Trial #149<br>algorithm: lasso<br>alpha: 0.0005355609370130905<br><b>Objective Value: 0.949827142011346</b>\",\"Trial #150<br>algorithm: lasso<br>alpha: 0.7480710218510542<br><b>Objective Value: -0.029441307066881618</b>\",\"Trial #151<br>algorithm: lasso<br>alpha: 0.0002955668852217581<br><b>Objective Value: 0.950288785652028</b>\",\"Trial #152<br>algorithm: lasso<br>alpha: 0.0003179394162049563<br><b>Objective Value: 0.9502777437745561</b>\",\"Trial #153<br>algorithm: lasso<br>alpha: 0.0002572094482719987<br><b>Objective Value: 0.9502688139102728</b>\",\"Trial #154<br>algorithm: lasso<br>alpha: 0.00010234247253002118<br><b>Objective Value: 0.9496937107517626</b>\",\"Trial #155<br>algorithm: lasso<br>alpha: 0.00014965779743293767<br><b>Objective Value: 0.9499777480519768</b>\",\"Trial #156<br>algorithm: lasso<br>alpha: 0.00037700816190696225<br><b>Objective Value: 0.9502093537893714</b>\",\"Trial #158<br>algorithm: lasso<br>alpha: 0.0002121806487450387<br><b>Objective Value: 0.9501804859699942</b>\",\"Trial #159<br>algorithm: lasso<br>alpha: 0.0006328223055577282<br><b>Objective Value: 0.9495460997714975</b>\",\"Trial #160<br>algorithm: lasso<br>alpha: 0.00027951955384252825<br><b>Objective Value: 0.9502968446519408</b>\",\"Trial #161<br>algorithm: lasso<br>alpha: 0.0002939250037567679<br><b>Objective Value: 0.9502895965361698</b>\",\"Trial #162<br>algorithm: lasso<br>alpha: 0.00037385749754682466<br><b>Objective Value: 0.95021458199043</b>\",\"Trial #163<br>algorithm: lasso<br>alpha: 0.00046763996206561896<br><b>Objective Value: 0.9500186429126172</b>\",\"Trial #164<br>algorithm: lasso<br>alpha: 0.00017255223505524656<br><b>Objective Value: 0.9500779176060921</b>\",\"Trial #165<br>algorithm: lasso<br>alpha: 0.00026100557304665855<br><b>Objective Value: 0.9502745077404082</b>\",\"Trial #166<br>algorithm: ridge<br>alpha: 0.0003300537053842424<br><b>Objective Value: 0.9458057831934419</b>\",\"Trial #167<br>algorithm: lasso<br>alpha: 0.00021752221770842542<br><b>Objective Value: 0.9501930573225469</b>\",\"Trial #168<br>algorithm: lasso<br>alpha: 0.057297280198522024<br><b>Objective Value: 0.8389773364681945</b>\",\"Trial #169<br>algorithm: lasso<br>alpha: 0.0007982176804455926<br><b>Objective Value: 0.9488545491630855</b>\",\"Trial #170<br>algorithm: lasso<br>alpha: 0.008770629968123052<br><b>Objective Value: 0.9377778075045207</b>\",\"Trial #171<br>algorithm: lasso<br>alpha: 0.00026809135112437695<br><b>Objective Value: 0.9502854685127481</b>\",\"Trial #172<br>algorithm: lasso<br>alpha: 0.0003039866798920512<br><b>Objective Value: 0.9502839077510391</b>\",\"Trial #173<br>algorithm: lasso<br>alpha: 0.0001518658124315147<br><b>Objective Value: 0.9499869011042194</b>\",\"Trial #174<br>algorithm: lasso<br>alpha: 0.00046511836448988027<br><b>Objective Value: 0.9500245932051371</b>\",\"Trial #175<br>algorithm: lasso<br>alpha: 0.24295422841672976<br><b>Objective Value: 0.1865437329165439</b>\",\"Trial #176<br>algorithm: lasso<br>alpha: 0.00020070103964358482<br><b>Objective Value: 0.9501583632314036</b>\",\"Trial #177<br>algorithm: lasso<br>alpha: 0.0003836683208844992<br><b>Objective Value: 0.9501960247006522</b>\",\"Trial #178<br>algorithm: lasso<br>alpha: 0.0005881628083156323<br><b>Objective Value: 0.9496864576714318</b>\",\"Trial #179<br>algorithm: lasso<br>alpha: 0.00026630194727719005<br><b>Objective Value: 0.9502833222098073</b>\",\"Trial #180<br>algorithm: lasso<br>alpha: 0.00014231728344635378<br><b>Objective Value: 0.9499385532941413</b>\",\"Trial #181<br>algorithm: lasso<br>alpha: 0.0003085933070370752<br><b>Objective Value: 0.9502810360158491</b>\",\"Trial #182<br>algorithm: lasso<br>alpha: 0.0003051142591493016<br><b>Objective Value: 0.9502831710262434</b>\",\"Trial #183<br>algorithm: lasso<br>alpha: 0.00021599941049405656<br><b>Objective Value: 0.9501898279809267</b>\",\"Trial #184<br>algorithm: lasso<br>alpha: 0.0004154625288227434<br><b>Objective Value: 0.9501258403921616</b>\",\"Trial #185<br>algorithm: lasso<br>alpha: 0.00018413932309184442<br><b>Objective Value: 0.9501172861556331</b>\",\"Trial #186<br>algorithm: lasso<br>alpha: 0.00029593987834829297<br><b>Objective Value: 0.950288642837411</b>\",\"Trial #187<br>algorithm: lasso<br>alpha: 0.0005140786592218493<br><b>Objective Value: 0.9498915102678985</b>\",\"Trial #189<br>algorithm: lasso<br>alpha: 0.00022947095032263697<br><b>Objective Value: 0.9502152651959875</b>\",\"Trial #190<br>algorithm: lasso<br>alpha: 0.0003771917449846884<br><b>Objective Value: 0.9502090690343031</b>\",\"Trial #191<br>algorithm: lasso<br>alpha: 0.0002628651681789406<br><b>Objective Value: 0.9502778394616301</b>\",\"Trial #192<br>algorithm: lasso<br>alpha: 0.00033338137422522654<br><b>Objective Value: 0.950266037079577</b>\",\"Trial #193<br>algorithm: lasso<br>alpha: 0.00017477919220651886<br><b>Objective Value: 0.9500845330420139</b>\",\"Trial #194<br>algorithm: lasso<br>alpha: 0.0002668231958810487<br><b>Objective Value: 0.9502840671126596</b>\",\"Trial #195<br>algorithm: lasso<br>alpha: 0.0005009178284093929<br><b>Objective Value: 0.9499323646692229</b>\",\"Trial #196<br>algorithm: lasso<br>alpha: 0.00012855378397921287<br><b>Objective Value: 0.9498876175942407</b>\",\"Trial #197<br>algorithm: lasso<br>alpha: 0.00034571676369411016<br><b>Objective Value: 0.950254088504817</b>\",\"Trial #198<br>algorithm: lasso<br>alpha: 0.00020514835456026157<br><b>Objective Value: 0.9501658812790701</b>\",\"Trial #199<br>algorithm: ridge<br>alpha: 0.00028929130728814323<br><b>Objective Value: 0.9458056082713616</b>\"],\"marker\":{\"color\":[\"rgb(150.0, 200.0, 224.0)\",\"rgb(86.0, 137.0, 190.0)\",\"rgb(139.0, 191.0, 219.0)\",\"rgb(155.0, 204.0, 226.0)\",\"rgb(206.0, 234.0, 243.0)\",\"rgb(74.0, 123.0, 183.0)\",\"rgb(255.0, 240.0, 169.0)\",\"rgb(58.0, 82.0, 163.0)\",\"rgb(254.0, 226.0, 147.0)\",\"rgb(234.0, 247.0, 230.0)\",\"rgb(229.0, 245.0, 238.0)\",\"rgb(158.0, 207.0, 227.0)\",\"rgb(109.0, 165.0, 205.0)\",\"rgb(66.0, 108.0, 175.0)\",\"rgb(250.0, 152.0, 87.0)\",\"rgb(62.0, 95.0, 169.0)\",\"rgb(90.0, 143.0, 193.0)\",\"rgb(248.0, 136.0, 79.0)\",\"rgb(248.0, 139.0, 81.0)\",\"rgb(255.0, 253.0, 187.0)\",\"rgb(88.0, 140.0, 192.0)\",\"rgb(254.0, 239.0, 166.0)\",\"rgb(72.0, 120.0, 182.0)\",\"rgb(100.0, 154.0, 199.0)\",\"rgb(128.0, 182.0, 214.0)\",\"rgb(141.0, 193.0, 220.0)\",\"rgb(228.0, 244.0, 241.0)\",\"rgb(230.0, 79.0, 53.0)\",\"rgb(177.0, 220.0, 235.0)\",\"rgb(236.0, 91.0, 59.0)\",\"rgb(119.0, 176.0, 210.0)\",\"rgb(95.0, 148.0, 196.0)\",\"rgb(172.0, 217.0, 233.0)\",\"rgb(81.0, 131.0, 187.0)\",\"rgb(174.0, 219.0, 234.0)\",\"rgb(188.0, 225.0, 238.0)\",\"rgb(225.0, 70.0, 49.0)\",\"rgb(250.0, 149.0, 85.0)\",\"rgb(98.0, 151.0, 198.0)\",\"rgb(244.0, 110.0, 67.0)\",\"rgb(190.0, 227.0, 239.0)\",\"rgb(107.0, 162.0, 203.0)\",\"rgb(254.0, 229.0, 152.0)\",\"rgb(79.0, 129.0, 186.0)\",\"rgb(147.0, 198.0, 223.0)\",\"rgb(251.0, 162.0, 91.0)\",\"rgb(226.0, 244.0, 244.0)\",\"rgb(253.0, 177.0, 100.0)\",\"rgb(253.0, 187.0, 110.0)\",\"rgb(112.0, 168.0, 206.0)\",\"rgb(58.0, 82.0, 163.0)\",\"rgb(204.0, 233.0, 242.0)\",\"rgb(205.0, 39.0, 39.0)\",\"rgb(58.0, 82.0, 163.0)\",\"rgb(255.0, 242.0, 171.0)\",\"rgb(249.0, 146.0, 84.0)\",\"rgb(237.0, 94.0, 60.0)\",\"rgb(152.0, 202.0, 225.0)\",\"rgb(243.0, 250.0, 212.0)\",\"rgb(254.0, 255.0, 192.0)\",\"rgb(240.0, 100.0, 63.0)\",\"rgb(93.0, 145.0, 195.0)\",\"rgb(169.0, 215.0, 232.0)\",\"rgb(243.0, 107.0, 66.0)\",\"rgb(214.0, 238.0, 245.0)\",\"rgb(255.0, 254.0, 190.0)\",\"rgb(200.0, 34.0, 39.0)\",\"rgb(178.0, 12.0, 38.0)\",\"rgb(117.0, 173.0, 209.0)\",\"rgb(225.0, 243.0, 247.0)\",\"rgb(227.0, 73.0, 50.0)\",\"rgb(255.0, 246.0, 178.0)\",\"rgb(166.0, 213.0, 231.0)\",\"rgb(245.0, 119.0, 72.0)\",\"rgb(173.0, 7.0, 38.0)\",\"rgb(102.0, 157.0, 201.0)\",\"rgb(209.0, 236.0, 244.0)\",\"rgb(252.0, 165.0, 93.0)\",\"rgb(248.0, 252.0, 204.0)\",\"rgb(136.0, 189.0, 218.0)\",\"rgb(161.0, 209.0, 229.0)\",\"rgb(168.0, 2.0, 38.0)\",\"rgb(253.0, 180.0, 102.0)\",\"rgb(183.0, 17.0, 38.0)\",\"rgb(237.0, 248.0, 224.0)\",\"rgb(193.0, 228.0, 239.0)\",\"rgb(63.0, 98.0, 171.0)\",\"rgb(208.0, 41.0, 39.0)\",\"rgb(254.0, 207.0, 128.0)\",\"rgb(254.0, 228.0, 150.0)\",\"rgb(170.0, 5.0, 38.0)\",\"rgb(217.0, 240.0, 246.0)\",\"rgb(249.0, 142.0, 82.0)\",\"rgb(175.0, 10.0, 38.0)\",\"rgb(254.0, 234.0, 159.0)\",\"rgb(196.0, 229.0, 240.0)\",\"rgb(254.0, 236.0, 161.0)\",\"rgb(58.0, 82.0, 163.0)\",\"rgb(185.0, 19.0, 38.0)\",\"rgb(180.0, 221.0, 235.0)\",\"rgb(130.0, 184.0, 215.0)\",\"rgb(233.0, 85.0, 56.0)\",\"rgb(221.0, 61.0, 45.0)\",\"rgb(254.0, 217.0, 138.0)\",\"rgb(231.0, 246.0, 235.0)\",\"rgb(217.0, 51.0, 41.0)\",\"rgb(247.0, 129.0, 76.0)\",\"rgb(246.0, 252.0, 207.0)\",\"rgb(105.0, 159.0, 202.0)\",\"rgb(255.0, 251.0, 185.0)\",\"rgb(254.0, 210.0, 131.0)\",\"rgb(188.0, 22.0, 38.0)\",\"rgb(253.0, 197.0, 119.0)\",\"rgb(239.0, 249.0, 221.0)\",\"rgb(241.0, 103.0, 64.0)\",\"rgb(164.0, 211.0, 230.0)\",\"rgb(198.0, 230.0, 241.0)\",\"rgb(203.0, 36.0, 39.0)\",\"rgb(254.0, 215.0, 135.0)\",\"rgb(245.0, 251.0, 210.0)\",\"rgb(213.0, 46.0, 39.0)\",\"rgb(68.0, 114.0, 179.0)\",\"rgb(180.0, 14.0, 38.0)\",\"rgb(253.0, 175.0, 98.0)\",\"rgb(253.0, 254.0, 195.0)\",\"rgb(210.0, 43.0, 39.0)\",\"rgb(133.0, 187.0, 216.0)\",\"rgb(182.0, 223.0, 236.0)\",\"rgb(254.0, 202.0, 124.0)\",\"rgb(236.0, 247.0, 227.0)\",\"rgb(246.0, 126.0, 75.0)\",\"rgb(253.0, 195.0, 117.0)\",\"rgb(212.0, 237.0, 245.0)\",\"rgb(245.0, 113.0, 69.0)\",\"rgb(254.0, 237.0, 164.0)\",\"rgb(198.0, 31.0, 39.0)\",\"rgb(254.0, 225.0, 145.0)\",\"rgb(254.0, 212.0, 133.0)\",\"rgb(232.0, 246.0, 233.0)\",\"rgb(58.0, 82.0, 163.0)\",\"rgb(193.0, 27.0, 39.0)\",\"rgb(234.0, 88.0, 57.0)\",\"rgb(245.0, 116.0, 70.0)\",\"rgb(222.0, 242.0, 248.0)\",\"rgb(255.0, 250.0, 183.0)\",\"rgb(252.0, 168.0, 94.0)\",\"rgb(253.0, 192.0, 114.0)\",\"rgb(201.0, 232.0, 242.0)\",\"rgb(165.0, 0.0, 38.0)\",\"rgb(190.0, 24.0, 39.0)\",\"rgb(251.0, 159.0, 90.0)\",\"rgb(255.0, 245.0, 176.0)\",\"rgb(254.0, 232.0, 157.0)\",\"rgb(238.0, 97.0, 62.0)\",\"rgb(125.0, 180.0, 213.0)\",\"rgb(253.0, 185.0, 107.0)\",\"rgb(64.0, 101.0, 172.0)\",\"rgb(185.0, 224.0, 237.0)\",\"rgb(83.0, 134.0, 189.0)\",\"rgb(215.0, 48.0, 39.0)\",\"rgb(220.0, 58.0, 43.0)\",\"rgb(255.0, 248.0, 180.0)\",\"rgb(255.0, 243.0, 173.0)\",\"rgb(61.0, 92.0, 168.0)\",\"rgb(254.0, 205.0, 126.0)\",\"rgb(253.0, 182.0, 105.0)\",\"rgb(220.0, 241.0, 247.0)\",\"rgb(222.0, 64.0, 46.0)\",\"rgb(251.0, 253.0, 198.0)\",\"rgb(228.0, 76.0, 52.0)\",\"rgb(224.0, 67.0, 48.0)\",\"rgb(253.0, 190.0, 112.0)\",\"rgb(254.0, 220.0, 140.0)\",\"rgb(254.0, 222.0, 143.0)\",\"rgb(195.0, 29.0, 39.0)\",\"rgb(242.0, 250.0, 215.0)\",\"rgb(250.0, 155.0, 88.0)\",\"rgb(253.0, 172.0, 96.0)\",\"rgb(231.0, 82.0, 55.0)\",\"rgb(246.0, 123.0, 73.0)\",\"rgb(254.0, 231.0, 154.0)\",\"rgb(218.0, 54.0, 42.0)\",\"rgb(250.0, 253.0, 201.0)\",\"rgb(240.0, 249.0, 218.0)\",\"rgb(247.0, 133.0, 78.0)\",\"rgb(254.0, 200.0, 121.0)\",\"rgb(122.0, 178.0, 212.0)\"],\"line\":{\"color\":\"Grey\",\"width\":0.5}},\"mode\":\"markers\",\"showlegend\":false,\"x\":[\"ridge\",\"lasso\",\"ridge\",\"ridge\",\"ridge\",\"lasso\",\"lasso\",\"lasso\",\"lasso\",\"lasso\",\"lasso\",\"lasso\",\"lasso\",\"lasso\",\"lasso\",\"lasso\",\"lasso\",\"lasso\",\"lasso\",\"lasso\",\"lasso\",\"lasso\",\"lasso\",\"lasso\",\"ridge\",\"ridge\",\"lasso\",\"lasso\",\"lasso\",\"lasso\",\"ridge\",\"lasso\",\"lasso\",\"lasso\",\"ridge\",\"lasso\",\"lasso\",\"lasso\",\"lasso\",\"lasso\",\"lasso\",\"lasso\",\"lasso\",\"lasso\",\"ridge\",\"lasso\",\"lasso\",\"lasso\",\"lasso\",\"lasso\",\"lasso\",\"lasso\",\"lasso\",\"lasso\",\"lasso\",\"lasso\",\"lasso\",\"lasso\",\"lasso\",\"lasso\",\"lasso\",\"lasso\",\"lasso\",\"lasso\",\"lasso\",\"lasso\",\"lasso\",\"lasso\",\"ridge\",\"lasso\",\"lasso\",\"lasso\",\"lasso\",\"lasso\",\"lasso\",\"lasso\",\"lasso\",\"lasso\",\"lasso\",\"ridge\",\"lasso\",\"lasso\",\"lasso\",\"lasso\",\"lasso\",\"lasso\",\"lasso\",\"lasso\",\"lasso\",\"lasso\",\"lasso\",\"lasso\",\"lasso\",\"lasso\",\"lasso\",\"lasso\",\"lasso\",\"lasso\",\"lasso\",\"lasso\",\"ridge\",\"lasso\",\"lasso\",\"lasso\",\"lasso\",\"lasso\",\"lasso\",\"lasso\",\"lasso\",\"lasso\",\"lasso\",\"lasso\",\"lasso\",\"lasso\",\"lasso\",\"lasso\",\"lasso\",\"lasso\",\"lasso\",\"lasso\",\"lasso\",\"lasso\",\"lasso\",\"lasso\",\"lasso\",\"lasso\",\"ridge\",\"lasso\",\"lasso\",\"lasso\",\"lasso\",\"lasso\",\"lasso\",\"lasso\",\"lasso\",\"lasso\",\"lasso\",\"lasso\",\"lasso\",\"lasso\",\"lasso\",\"lasso\",\"lasso\",\"lasso\",\"lasso\",\"lasso\",\"lasso\",\"lasso\",\"lasso\",\"lasso\",\"lasso\",\"lasso\",\"lasso\",\"lasso\",\"ridge\",\"lasso\",\"lasso\",\"lasso\",\"lasso\",\"lasso\",\"lasso\",\"lasso\",\"lasso\",\"lasso\",\"lasso\",\"lasso\",\"lasso\",\"lasso\",\"lasso\",\"lasso\",\"lasso\",\"lasso\",\"lasso\",\"lasso\",\"lasso\",\"lasso\",\"lasso\",\"lasso\",\"lasso\",\"lasso\",\"lasso\",\"lasso\",\"lasso\",\"lasso\",\"lasso\",\"lasso\",\"ridge\"],\"y\":[0.6010505222092465,0.006162467158491157,0.001244729405956262,0.7759373016028097,31.29323725185007,0.016555231662187374,0.0004582749531777171,5.534750298353362,0.00017637287605472746,0.00011995197253262029,0.00011207889164253218,0.0011740965051880814,0.0015503076984355424,0.03649585335839899,0.0003726843301350919,0.20023362384311136,0.004216169019651566,0.00034608379326552273,0.00024482064135119533,0.000487776516858514,0.005239588389351667,0.0004550420502021263,0.02091016333584503,0.002367137437004208,0.0003508193855269366,0.07419825096515736,0.0001098338559889162,0.00026399630354087886,0.0008472387752849562,0.0003204788571913823,0.00024230102105339654,0.002615056478718971,0.0008701193893983413,0.009343031672547655,3.0896988698846903,0.0007487749013093245,0.00026577767050225043,0.00023634827143863648,0.002427898969308335,0.000325062047327948,0.0007138085942687639,0.001600153468480079,0.0001752770246621694,0.009528470841126065,0.4966722669613841,0.00022775953671817198,0.00010612659023547114,0.0003830467672882016,0.00021627436540954526,0.001445853412310756,53.23092951617624,0.0006269662288422743,0.00029775083715590834,15.099326747885836,0.00016120434434155882,0.0003589828022351704,0.0003217979072940209,0.0011967427390884194,0.0005043219466697327,0.00014659589751746423,0.00032279050356379395,0.003229013154984103,0.0009304375157316136,0.00032387498231343473,0.00010020749752970585,0.0004902540297799311,0.0002969173890045437,0.00028454678060790855,0.00016771658897848712,0.000578084982033051,0.0002650869138932816,0.0001529524006218151,0.0009624329368942344,0.00025615699836524443,0.0002775282989311552,0.001863957343085763,0.0005977110689793054,0.0002265048002483477,0.00014044844521037702,0.00043999444012187577,0.0011161328813483,0.00028182509069933046,0.00021910412365379805,0.00028892319193558495,0.00012601304274520566,0.0006867677082010171,0.10617565798782047,0.00026874245328880713,0.0001942292553580477,0.0004343961432539565,0.0002822324255457903,0.00010067470572454919,0.00024337137393535218,0.0002840324973679434,0.0004429356786116208,0.0006852289007676667,0.00016777305469109388,2.718674441824922,0.000290966147484301,0.0008154095304730813,0.00037199925344242533,0.0002628523102139585,0.0003044538444315895,0.0001869134239066806,0.0005452808403101624,0.0003030787208159202,0.0003421151990867715,0.00013966170638581,0.0017689970679156401,0.0004857680768819713,0.00019366385317210036,0.00029322512255107095,0.0003937165488046054,0.00012651680490057297,0.00032284555737474547,0.0010093248243163574,0.0006538962082803727,0.0002701530338719892,0.00018822987713131288,0.0005025161860693752,0.00030121839415697064,0.02760617308212424,0.0002755064260576385,0.00022243048023622906,0.00014320019113867708,0.00026866592038427895,0.0004309633494336917,0.00081294913853769,0.00020297584486418416,0.00012195713425037956,0.00025467710128659193,0.0003902292801053442,0.0005961379839180346,0.00025983379644265125,0.0001656791803098643,0.00029660077744154305,0.0004216013518661878,0.00019191268560575942,0.0005355609370130905,0.7480710218510542,0.0002955668852217581,0.0003179394162049563,0.0002572094482719987,0.00010234247253002118,0.00014965779743293767,0.00037700816190696225,0.0002121806487450387,0.0006328223055577282,0.00027951955384252825,0.0002939250037567679,0.00037385749754682466,0.00046763996206561896,0.00017255223505524656,0.00026100557304665855,0.0003300537053842424,0.00021752221770842542,0.057297280198522024,0.0007982176804455926,0.008770629968123052,0.00026809135112437695,0.0003039866798920512,0.0001518658124315147,0.00046511836448988027,0.24295422841672976,0.00020070103964358482,0.0003836683208844992,0.0005881628083156323,0.00026630194727719005,0.00014231728344635378,0.0003085933070370752,0.0003051142591493016,0.00021599941049405656,0.0004154625288227434,0.00018413932309184442,0.00029593987834829297,0.0005140786592218493,0.00022947095032263697,0.0003771917449846884,0.0002628651681789406,0.00033338137422522654,0.00017477919220651886,0.0002668231958810487,0.0005009178284093929,0.00012855378397921287,0.00034571676369411016,0.00020514835456026157,0.00028929130728814323],\"type\":\"scatter\",\"xaxis\":\"x8\",\"yaxis\":\"y8\"},{\"hovertemplate\":\"%{hovertext}<extra></extra>\",\"hovertext\":[\"Trial #8<br>algorithm: xgb<br>learning_rate: 0.0016114400564732941<br>max_depth: 10<br>subsample: 0.8558105105039219<br>colsample_bytree: 0.2965777047582458<br>min_child_weight: 9<br><b>Objective Value: -5.373464236107701</b>\",\"Trial #10<br>algorithm: xgb<br>learning_rate: 0.07748571364848593<br>max_depth: 1<br>subsample: 0.1081539403017378<br>colsample_bytree: 0.8774623283402829<br>min_child_weight: 20<br><b>Objective Value: 0.9057358214629305</b>\",\"Trial #16<br>algorithm: xgb<br>learning_rate: 0.0001093221261079389<br>max_depth: 6<br>subsample: 0.9975559933333737<br>colsample_bytree: 0.08773403630454318<br>min_child_weight: 1<br><b>Objective Value: -6.669394335705886</b>\",\"Trial #19<br>algorithm: xgb<br>learning_rate: 0.08019600545172129<br>max_depth: 1<br>subsample: 0.06393922828854465<br>colsample_bytree: 0.9630028278354485<br>min_child_weight: 20<br><b>Objective Value: 0.8811693917915496</b>\",\"Trial #29<br>algorithm: xgb<br>learning_rate: 0.0023166212634019153<br>max_depth: 10<br>subsample: 0.5235492940540687<br>colsample_bytree: 0.6157251098470551<br>min_child_weight: 10<br><b>Objective Value: -2.8957501035877273</b>\",\"Trial #47<br>algorithm: xgb<br>learning_rate: 0.00011521087399364599<br>max_depth: 6<br>subsample: 0.5277084716528383<br>colsample_bytree: 0.5662117236927399<br>min_child_weight: 1<br><b>Objective Value: -6.669368157650402</b>\",\"Trial #57<br>algorithm: xgb<br>learning_rate: 0.011236477438678406<br>max_depth: 4<br>subsample: 0.41151468106452377<br>colsample_bytree: 0.330480957357973<br>min_child_weight: 15<br><b>Objective Value: 0.9362219094296959</b>\",\"Trial #67<br>algorithm: xgb<br>learning_rate: 0.0005787891082612613<br>max_depth: 3<br>subsample: 0.7512158659814847<br>colsample_bytree: 0.7802016742983691<br>min_child_weight: 5<br><b>Objective Value: -6.649379579649593</b>\",\"Trial #86<br>algorithm: xgb<br>learning_rate: 0.01240560912844289<br>max_depth: 8<br>subsample: 0.2704974479544986<br>colsample_bytree: 0.061997530866703454<br>min_child_weight: 15<br><b>Objective Value: 0.9113729713455464</b>\",\"Trial #107<br>algorithm: xgb<br>learning_rate: 0.010250741887711978<br>max_depth: 8<br>subsample: 0.699136270124052<br>colsample_bytree: 0.34676345983827406<br>min_child_weight: 6<br><b>Objective Value: 0.9456992597139712</b>\",\"Trial #129<br>algorithm: xgb<br>learning_rate: 0.00037758996511927124<br>max_depth: 3<br>subsample: 0.2213408681389885<br>colsample_bytree: 0.7364584373058741<br>min_child_weight: 15<br><b>Objective Value: -6.665047997522985</b>\",\"Trial #157<br>algorithm: xgb<br>learning_rate: 0.000484744276997372<br>max_depth: 8<br>subsample: 0.9855479934166286<br>colsample_bytree: 0.4680410649317334<br>min_child_weight: 5<br><b>Objective Value: -6.658982618518887</b>\",\"Trial #188<br>algorithm: xgb<br>learning_rate: 0.022432477519196928<br>max_depth: 5<br>subsample: 0.5819591447885447<br>colsample_bytree: 0.1949715272549276<br>min_child_weight: 13<br><b>Objective Value: 0.9467614990364478</b>\"],\"marker\":{\"color\":[\"rgb(54.0, 70.0, 157.0)\",\"rgb(67.0, 111.0, 177.0)\",\"rgb(49.0, 54.0, 149.0)\",\"rgb(65.0, 105.0, 174.0)\",\"rgb(55.0, 73.0, 158.0)\",\"rgb(50.0, 57.0, 151.0)\",\"rgb(76.0, 126.0, 185.0)\",\"rgb(53.0, 67.0, 155.0)\",\"rgb(69.0, 117.0, 180.0)\",\"rgb(114.0, 171.0, 208.0)\",\"rgb(51.0, 60.0, 152.0)\",\"rgb(52.0, 63.0, 154.0)\",\"rgb(144.0, 196.0, 221.0)\"],\"line\":{\"color\":\"Grey\",\"width\":0.5}},\"mode\":\"markers\",\"showlegend\":false,\"x\":[\"xgb\",\"xgb\",\"xgb\",\"xgb\",\"xgb\",\"xgb\",\"xgb\",\"xgb\",\"xgb\",\"xgb\",\"xgb\",\"xgb\",\"xgb\"],\"y\":[0.2965777047582458,0.8774623283402829,0.08773403630454318,0.9630028278354485,0.6157251098470551,0.5662117236927399,0.330480957357973,0.7802016742983691,0.061997530866703454,0.34676345983827406,0.7364584373058741,0.4680410649317334,0.1949715272549276],\"type\":\"scatter\",\"xaxis\":\"x15\",\"yaxis\":\"y15\"},{\"hovertemplate\":\"%{hovertext}<extra></extra>\",\"hovertext\":[\"Trial #8<br>algorithm: xgb<br>learning_rate: 0.0016114400564732941<br>max_depth: 10<br>subsample: 0.8558105105039219<br>colsample_bytree: 0.2965777047582458<br>min_child_weight: 9<br><b>Objective Value: -5.373464236107701</b>\",\"Trial #10<br>algorithm: xgb<br>learning_rate: 0.07748571364848593<br>max_depth: 1<br>subsample: 0.1081539403017378<br>colsample_bytree: 0.8774623283402829<br>min_child_weight: 20<br><b>Objective Value: 0.9057358214629305</b>\",\"Trial #16<br>algorithm: xgb<br>learning_rate: 0.0001093221261079389<br>max_depth: 6<br>subsample: 0.9975559933333737<br>colsample_bytree: 0.08773403630454318<br>min_child_weight: 1<br><b>Objective Value: -6.669394335705886</b>\",\"Trial #19<br>algorithm: xgb<br>learning_rate: 0.08019600545172129<br>max_depth: 1<br>subsample: 0.06393922828854465<br>colsample_bytree: 0.9630028278354485<br>min_child_weight: 20<br><b>Objective Value: 0.8811693917915496</b>\",\"Trial #29<br>algorithm: xgb<br>learning_rate: 0.0023166212634019153<br>max_depth: 10<br>subsample: 0.5235492940540687<br>colsample_bytree: 0.6157251098470551<br>min_child_weight: 10<br><b>Objective Value: -2.8957501035877273</b>\",\"Trial #47<br>algorithm: xgb<br>learning_rate: 0.00011521087399364599<br>max_depth: 6<br>subsample: 0.5277084716528383<br>colsample_bytree: 0.5662117236927399<br>min_child_weight: 1<br><b>Objective Value: -6.669368157650402</b>\",\"Trial #57<br>algorithm: xgb<br>learning_rate: 0.011236477438678406<br>max_depth: 4<br>subsample: 0.41151468106452377<br>colsample_bytree: 0.330480957357973<br>min_child_weight: 15<br><b>Objective Value: 0.9362219094296959</b>\",\"Trial #67<br>algorithm: xgb<br>learning_rate: 0.0005787891082612613<br>max_depth: 3<br>subsample: 0.7512158659814847<br>colsample_bytree: 0.7802016742983691<br>min_child_weight: 5<br><b>Objective Value: -6.649379579649593</b>\",\"Trial #86<br>algorithm: xgb<br>learning_rate: 0.01240560912844289<br>max_depth: 8<br>subsample: 0.2704974479544986<br>colsample_bytree: 0.061997530866703454<br>min_child_weight: 15<br><b>Objective Value: 0.9113729713455464</b>\",\"Trial #107<br>algorithm: xgb<br>learning_rate: 0.010250741887711978<br>max_depth: 8<br>subsample: 0.699136270124052<br>colsample_bytree: 0.34676345983827406<br>min_child_weight: 6<br><b>Objective Value: 0.9456992597139712</b>\",\"Trial #129<br>algorithm: xgb<br>learning_rate: 0.00037758996511927124<br>max_depth: 3<br>subsample: 0.2213408681389885<br>colsample_bytree: 0.7364584373058741<br>min_child_weight: 15<br><b>Objective Value: -6.665047997522985</b>\",\"Trial #157<br>algorithm: xgb<br>learning_rate: 0.000484744276997372<br>max_depth: 8<br>subsample: 0.9855479934166286<br>colsample_bytree: 0.4680410649317334<br>min_child_weight: 5<br><b>Objective Value: -6.658982618518887</b>\",\"Trial #188<br>algorithm: xgb<br>learning_rate: 0.022432477519196928<br>max_depth: 5<br>subsample: 0.5819591447885447<br>colsample_bytree: 0.1949715272549276<br>min_child_weight: 13<br><b>Objective Value: 0.9467614990364478</b>\"],\"marker\":{\"color\":[\"rgb(54.0, 70.0, 157.0)\",\"rgb(67.0, 111.0, 177.0)\",\"rgb(49.0, 54.0, 149.0)\",\"rgb(65.0, 105.0, 174.0)\",\"rgb(55.0, 73.0, 158.0)\",\"rgb(50.0, 57.0, 151.0)\",\"rgb(76.0, 126.0, 185.0)\",\"rgb(53.0, 67.0, 155.0)\",\"rgb(69.0, 117.0, 180.0)\",\"rgb(114.0, 171.0, 208.0)\",\"rgb(51.0, 60.0, 152.0)\",\"rgb(52.0, 63.0, 154.0)\",\"rgb(144.0, 196.0, 221.0)\"],\"line\":{\"color\":\"Grey\",\"width\":0.5}},\"mode\":\"markers\",\"showlegend\":false,\"x\":[\"xgb\",\"xgb\",\"xgb\",\"xgb\",\"xgb\",\"xgb\",\"xgb\",\"xgb\",\"xgb\",\"xgb\",\"xgb\",\"xgb\",\"xgb\"],\"y\":[0.0016114400564732941,0.07748571364848593,0.0001093221261079389,0.08019600545172129,0.0023166212634019153,0.00011521087399364599,0.011236477438678406,0.0005787891082612613,0.01240560912844289,0.010250741887711978,0.00037758996511927124,0.000484744276997372,0.022432477519196928],\"type\":\"scatter\",\"xaxis\":\"x22\",\"yaxis\":\"y22\"},{\"hovertemplate\":\"%{hovertext}<extra></extra>\",\"hovertext\":[\"Trial #8<br>algorithm: xgb<br>learning_rate: 0.0016114400564732941<br>max_depth: 10<br>subsample: 0.8558105105039219<br>colsample_bytree: 0.2965777047582458<br>min_child_weight: 9<br><b>Objective Value: -5.373464236107701</b>\",\"Trial #10<br>algorithm: xgb<br>learning_rate: 0.07748571364848593<br>max_depth: 1<br>subsample: 0.1081539403017378<br>colsample_bytree: 0.8774623283402829<br>min_child_weight: 20<br><b>Objective Value: 0.9057358214629305</b>\",\"Trial #16<br>algorithm: xgb<br>learning_rate: 0.0001093221261079389<br>max_depth: 6<br>subsample: 0.9975559933333737<br>colsample_bytree: 0.08773403630454318<br>min_child_weight: 1<br><b>Objective Value: -6.669394335705886</b>\",\"Trial #19<br>algorithm: xgb<br>learning_rate: 0.08019600545172129<br>max_depth: 1<br>subsample: 0.06393922828854465<br>colsample_bytree: 0.9630028278354485<br>min_child_weight: 20<br><b>Objective Value: 0.8811693917915496</b>\",\"Trial #29<br>algorithm: xgb<br>learning_rate: 0.0023166212634019153<br>max_depth: 10<br>subsample: 0.5235492940540687<br>colsample_bytree: 0.6157251098470551<br>min_child_weight: 10<br><b>Objective Value: -2.8957501035877273</b>\",\"Trial #47<br>algorithm: xgb<br>learning_rate: 0.00011521087399364599<br>max_depth: 6<br>subsample: 0.5277084716528383<br>colsample_bytree: 0.5662117236927399<br>min_child_weight: 1<br><b>Objective Value: -6.669368157650402</b>\",\"Trial #57<br>algorithm: xgb<br>learning_rate: 0.011236477438678406<br>max_depth: 4<br>subsample: 0.41151468106452377<br>colsample_bytree: 0.330480957357973<br>min_child_weight: 15<br><b>Objective Value: 0.9362219094296959</b>\",\"Trial #67<br>algorithm: xgb<br>learning_rate: 0.0005787891082612613<br>max_depth: 3<br>subsample: 0.7512158659814847<br>colsample_bytree: 0.7802016742983691<br>min_child_weight: 5<br><b>Objective Value: -6.649379579649593</b>\",\"Trial #86<br>algorithm: xgb<br>learning_rate: 0.01240560912844289<br>max_depth: 8<br>subsample: 0.2704974479544986<br>colsample_bytree: 0.061997530866703454<br>min_child_weight: 15<br><b>Objective Value: 0.9113729713455464</b>\",\"Trial #107<br>algorithm: xgb<br>learning_rate: 0.010250741887711978<br>max_depth: 8<br>subsample: 0.699136270124052<br>colsample_bytree: 0.34676345983827406<br>min_child_weight: 6<br><b>Objective Value: 0.9456992597139712</b>\",\"Trial #129<br>algorithm: xgb<br>learning_rate: 0.00037758996511927124<br>max_depth: 3<br>subsample: 0.2213408681389885<br>colsample_bytree: 0.7364584373058741<br>min_child_weight: 15<br><b>Objective Value: -6.665047997522985</b>\",\"Trial #157<br>algorithm: xgb<br>learning_rate: 0.000484744276997372<br>max_depth: 8<br>subsample: 0.9855479934166286<br>colsample_bytree: 0.4680410649317334<br>min_child_weight: 5<br><b>Objective Value: -6.658982618518887</b>\",\"Trial #188<br>algorithm: xgb<br>learning_rate: 0.022432477519196928<br>max_depth: 5<br>subsample: 0.5819591447885447<br>colsample_bytree: 0.1949715272549276<br>min_child_weight: 13<br><b>Objective Value: 0.9467614990364478</b>\"],\"marker\":{\"color\":[\"rgb(54.0, 70.0, 157.0)\",\"rgb(67.0, 111.0, 177.0)\",\"rgb(49.0, 54.0, 149.0)\",\"rgb(65.0, 105.0, 174.0)\",\"rgb(55.0, 73.0, 158.0)\",\"rgb(50.0, 57.0, 151.0)\",\"rgb(76.0, 126.0, 185.0)\",\"rgb(53.0, 67.0, 155.0)\",\"rgb(69.0, 117.0, 180.0)\",\"rgb(114.0, 171.0, 208.0)\",\"rgb(51.0, 60.0, 152.0)\",\"rgb(52.0, 63.0, 154.0)\",\"rgb(144.0, 196.0, 221.0)\"],\"line\":{\"color\":\"Grey\",\"width\":0.5}},\"mode\":\"markers\",\"showlegend\":false,\"x\":[\"xgb\",\"xgb\",\"xgb\",\"xgb\",\"xgb\",\"xgb\",\"xgb\",\"xgb\",\"xgb\",\"xgb\",\"xgb\",\"xgb\",\"xgb\"],\"y\":[10,1,6,1,10,6,4,3,8,8,3,8,5],\"type\":\"scatter\",\"xaxis\":\"x29\",\"yaxis\":\"y29\"},{\"hovertemplate\":\"%{hovertext}<extra></extra>\",\"hovertext\":[\"Trial #8<br>algorithm: xgb<br>learning_rate: 0.0016114400564732941<br>max_depth: 10<br>subsample: 0.8558105105039219<br>colsample_bytree: 0.2965777047582458<br>min_child_weight: 9<br><b>Objective Value: -5.373464236107701</b>\",\"Trial #10<br>algorithm: xgb<br>learning_rate: 0.07748571364848593<br>max_depth: 1<br>subsample: 0.1081539403017378<br>colsample_bytree: 0.8774623283402829<br>min_child_weight: 20<br><b>Objective Value: 0.9057358214629305</b>\",\"Trial #16<br>algorithm: xgb<br>learning_rate: 0.0001093221261079389<br>max_depth: 6<br>subsample: 0.9975559933333737<br>colsample_bytree: 0.08773403630454318<br>min_child_weight: 1<br><b>Objective Value: -6.669394335705886</b>\",\"Trial #19<br>algorithm: xgb<br>learning_rate: 0.08019600545172129<br>max_depth: 1<br>subsample: 0.06393922828854465<br>colsample_bytree: 0.9630028278354485<br>min_child_weight: 20<br><b>Objective Value: 0.8811693917915496</b>\",\"Trial #29<br>algorithm: xgb<br>learning_rate: 0.0023166212634019153<br>max_depth: 10<br>subsample: 0.5235492940540687<br>colsample_bytree: 0.6157251098470551<br>min_child_weight: 10<br><b>Objective Value: -2.8957501035877273</b>\",\"Trial #47<br>algorithm: xgb<br>learning_rate: 0.00011521087399364599<br>max_depth: 6<br>subsample: 0.5277084716528383<br>colsample_bytree: 0.5662117236927399<br>min_child_weight: 1<br><b>Objective Value: -6.669368157650402</b>\",\"Trial #57<br>algorithm: xgb<br>learning_rate: 0.011236477438678406<br>max_depth: 4<br>subsample: 0.41151468106452377<br>colsample_bytree: 0.330480957357973<br>min_child_weight: 15<br><b>Objective Value: 0.9362219094296959</b>\",\"Trial #67<br>algorithm: xgb<br>learning_rate: 0.0005787891082612613<br>max_depth: 3<br>subsample: 0.7512158659814847<br>colsample_bytree: 0.7802016742983691<br>min_child_weight: 5<br><b>Objective Value: -6.649379579649593</b>\",\"Trial #86<br>algorithm: xgb<br>learning_rate: 0.01240560912844289<br>max_depth: 8<br>subsample: 0.2704974479544986<br>colsample_bytree: 0.061997530866703454<br>min_child_weight: 15<br><b>Objective Value: 0.9113729713455464</b>\",\"Trial #107<br>algorithm: xgb<br>learning_rate: 0.010250741887711978<br>max_depth: 8<br>subsample: 0.699136270124052<br>colsample_bytree: 0.34676345983827406<br>min_child_weight: 6<br><b>Objective Value: 0.9456992597139712</b>\",\"Trial #129<br>algorithm: xgb<br>learning_rate: 0.00037758996511927124<br>max_depth: 3<br>subsample: 0.2213408681389885<br>colsample_bytree: 0.7364584373058741<br>min_child_weight: 15<br><b>Objective Value: -6.665047997522985</b>\",\"Trial #157<br>algorithm: xgb<br>learning_rate: 0.000484744276997372<br>max_depth: 8<br>subsample: 0.9855479934166286<br>colsample_bytree: 0.4680410649317334<br>min_child_weight: 5<br><b>Objective Value: -6.658982618518887</b>\",\"Trial #188<br>algorithm: xgb<br>learning_rate: 0.022432477519196928<br>max_depth: 5<br>subsample: 0.5819591447885447<br>colsample_bytree: 0.1949715272549276<br>min_child_weight: 13<br><b>Objective Value: 0.9467614990364478</b>\"],\"marker\":{\"color\":[\"rgb(54.0, 70.0, 157.0)\",\"rgb(67.0, 111.0, 177.0)\",\"rgb(49.0, 54.0, 149.0)\",\"rgb(65.0, 105.0, 174.0)\",\"rgb(55.0, 73.0, 158.0)\",\"rgb(50.0, 57.0, 151.0)\",\"rgb(76.0, 126.0, 185.0)\",\"rgb(53.0, 67.0, 155.0)\",\"rgb(69.0, 117.0, 180.0)\",\"rgb(114.0, 171.0, 208.0)\",\"rgb(51.0, 60.0, 152.0)\",\"rgb(52.0, 63.0, 154.0)\",\"rgb(144.0, 196.0, 221.0)\"],\"line\":{\"color\":\"Grey\",\"width\":0.5}},\"mode\":\"markers\",\"showlegend\":false,\"x\":[\"xgb\",\"xgb\",\"xgb\",\"xgb\",\"xgb\",\"xgb\",\"xgb\",\"xgb\",\"xgb\",\"xgb\",\"xgb\",\"xgb\",\"xgb\"],\"y\":[9,20,1,20,10,1,15,5,15,6,15,5,13],\"type\":\"scatter\",\"xaxis\":\"x36\",\"yaxis\":\"y36\"},{\"hovertemplate\":\"%{hovertext}<extra></extra>\",\"hovertext\":[\"Trial #8<br>algorithm: xgb<br>learning_rate: 0.0016114400564732941<br>max_depth: 10<br>subsample: 0.8558105105039219<br>colsample_bytree: 0.2965777047582458<br>min_child_weight: 9<br><b>Objective Value: -5.373464236107701</b>\",\"Trial #10<br>algorithm: xgb<br>learning_rate: 0.07748571364848593<br>max_depth: 1<br>subsample: 0.1081539403017378<br>colsample_bytree: 0.8774623283402829<br>min_child_weight: 20<br><b>Objective Value: 0.9057358214629305</b>\",\"Trial #16<br>algorithm: xgb<br>learning_rate: 0.0001093221261079389<br>max_depth: 6<br>subsample: 0.9975559933333737<br>colsample_bytree: 0.08773403630454318<br>min_child_weight: 1<br><b>Objective Value: -6.669394335705886</b>\",\"Trial #19<br>algorithm: xgb<br>learning_rate: 0.08019600545172129<br>max_depth: 1<br>subsample: 0.06393922828854465<br>colsample_bytree: 0.9630028278354485<br>min_child_weight: 20<br><b>Objective Value: 0.8811693917915496</b>\",\"Trial #29<br>algorithm: xgb<br>learning_rate: 0.0023166212634019153<br>max_depth: 10<br>subsample: 0.5235492940540687<br>colsample_bytree: 0.6157251098470551<br>min_child_weight: 10<br><b>Objective Value: -2.8957501035877273</b>\",\"Trial #47<br>algorithm: xgb<br>learning_rate: 0.00011521087399364599<br>max_depth: 6<br>subsample: 0.5277084716528383<br>colsample_bytree: 0.5662117236927399<br>min_child_weight: 1<br><b>Objective Value: -6.669368157650402</b>\",\"Trial #57<br>algorithm: xgb<br>learning_rate: 0.011236477438678406<br>max_depth: 4<br>subsample: 0.41151468106452377<br>colsample_bytree: 0.330480957357973<br>min_child_weight: 15<br><b>Objective Value: 0.9362219094296959</b>\",\"Trial #67<br>algorithm: xgb<br>learning_rate: 0.0005787891082612613<br>max_depth: 3<br>subsample: 0.7512158659814847<br>colsample_bytree: 0.7802016742983691<br>min_child_weight: 5<br><b>Objective Value: -6.649379579649593</b>\",\"Trial #86<br>algorithm: xgb<br>learning_rate: 0.01240560912844289<br>max_depth: 8<br>subsample: 0.2704974479544986<br>colsample_bytree: 0.061997530866703454<br>min_child_weight: 15<br><b>Objective Value: 0.9113729713455464</b>\",\"Trial #107<br>algorithm: xgb<br>learning_rate: 0.010250741887711978<br>max_depth: 8<br>subsample: 0.699136270124052<br>colsample_bytree: 0.34676345983827406<br>min_child_weight: 6<br><b>Objective Value: 0.9456992597139712</b>\",\"Trial #129<br>algorithm: xgb<br>learning_rate: 0.00037758996511927124<br>max_depth: 3<br>subsample: 0.2213408681389885<br>colsample_bytree: 0.7364584373058741<br>min_child_weight: 15<br><b>Objective Value: -6.665047997522985</b>\",\"Trial #157<br>algorithm: xgb<br>learning_rate: 0.000484744276997372<br>max_depth: 8<br>subsample: 0.9855479934166286<br>colsample_bytree: 0.4680410649317334<br>min_child_weight: 5<br><b>Objective Value: -6.658982618518887</b>\",\"Trial #188<br>algorithm: xgb<br>learning_rate: 0.022432477519196928<br>max_depth: 5<br>subsample: 0.5819591447885447<br>colsample_bytree: 0.1949715272549276<br>min_child_weight: 13<br><b>Objective Value: 0.9467614990364478</b>\"],\"marker\":{\"color\":[\"rgb(54.0, 70.0, 157.0)\",\"rgb(67.0, 111.0, 177.0)\",\"rgb(49.0, 54.0, 149.0)\",\"rgb(65.0, 105.0, 174.0)\",\"rgb(55.0, 73.0, 158.0)\",\"rgb(50.0, 57.0, 151.0)\",\"rgb(76.0, 126.0, 185.0)\",\"rgb(53.0, 67.0, 155.0)\",\"rgb(69.0, 117.0, 180.0)\",\"rgb(114.0, 171.0, 208.0)\",\"rgb(51.0, 60.0, 152.0)\",\"rgb(52.0, 63.0, 154.0)\",\"rgb(144.0, 196.0, 221.0)\"],\"line\":{\"color\":\"Grey\",\"width\":0.5}},\"mode\":\"markers\",\"showlegend\":false,\"x\":[\"xgb\",\"xgb\",\"xgb\",\"xgb\",\"xgb\",\"xgb\",\"xgb\",\"xgb\",\"xgb\",\"xgb\",\"xgb\",\"xgb\",\"xgb\"],\"y\":[0.8558105105039219,0.1081539403017378,0.9975559933333737,0.06393922828854465,0.5235492940540687,0.5277084716528383,0.41151468106452377,0.7512158659814847,0.2704974479544986,0.699136270124052,0.2213408681389885,0.9855479934166286,0.5819591447885447],\"type\":\"scatter\",\"xaxis\":\"x43\",\"yaxis\":\"y43\"},{\"hovertemplate\":\"%{hovertext}<extra></extra>\",\"hovertext\":[\"Trial #0<br>algorithm: ridge<br>alpha: 0.6010505222092465<br><b>Objective Value: 0.9471554321468393</b>\",\"Trial #1<br>algorithm: lasso<br>alpha: 0.006162467158491157<br><b>Objective Value: 0.9389672175428982</b>\",\"Trial #2<br>algorithm: ridge<br>alpha: 0.001244729405956262<br><b>Objective Value: 0.9458097018173504</b>\",\"Trial #3<br>algorithm: ridge<br>alpha: 0.7759373016028097<br><b>Objective Value: 0.9473545665481765</b>\",\"Trial #4<br>algorithm: ridge<br>alpha: 31.29323725185007<br><b>Objective Value: 0.9496058571087869</b>\",\"Trial #5<br>algorithm: lasso<br>alpha: 0.016555231662187374<br><b>Objective Value: 0.9294302327835954</b>\",\"Trial #6<br>algorithm: lasso<br>alpha: 0.0004582749531777171<br><b>Objective Value: 0.9500398525687235</b>\",\"Trial #7<br>algorithm: lasso<br>alpha: 5.534750298353362<br><b>Objective Value: -0.029441307066881618</b>\",\"Trial #9<br>algorithm: lasso<br>alpha: 0.00017637287605472746<br><b>Objective Value: 0.9500902328681612</b>\",\"Trial #11<br>algorithm: lasso<br>alpha: 0.00011995197253262029<br><b>Objective Value: 0.9498510406483309</b>\",\"Trial #12<br>algorithm: lasso<br>alpha: 0.00011207889164253218<br><b>Objective Value: 0.9497956445257467</b>\",\"Trial #13<br>algorithm: lasso<br>alpha: 0.0011740965051880814<br><b>Objective Value: 0.9473793968660728</b>\",\"Trial #14<br>algorithm: lasso<br>alpha: 0.0015503076984355424<br><b>Objective Value: 0.945086273060117</b>\",\"Trial #15<br>algorithm: lasso<br>alpha: 0.03649585335839899<br><b>Objective Value: 0.891919680699119</b>\",\"Trial #17<br>algorithm: lasso<br>alpha: 0.0003726843301350919<br><b>Objective Value: 0.9502165794308643</b>\",\"Trial #18<br>algorithm: lasso<br>alpha: 0.20023362384311136<br><b>Objective Value: 0.3389464804948818</b>\",\"Trial #20<br>algorithm: lasso<br>alpha: 0.004216169019651566<br><b>Objective Value: 0.9409100930605206</b>\",\"Trial #21<br>algorithm: lasso<br>alpha: 0.00034608379326552273<br><b>Objective Value: 0.9502535145176715</b>\",\"Trial #22<br>algorithm: lasso<br>alpha: 0.00024482064135119533<br><b>Objective Value: 0.950247724018946</b>\",\"Trial #23<br>algorithm: lasso<br>alpha: 0.000487776516858514<br><b>Objective Value: 0.9499686482042866</b>\",\"Trial #24<br>algorithm: lasso<br>alpha: 0.005239588389351667<br><b>Objective Value: 0.9397985591072718</b>\",\"Trial #25<br>algorithm: lasso<br>alpha: 0.0004550420502021263<br><b>Objective Value: 0.9500469224113856</b>\",\"Trial #26<br>algorithm: lasso<br>alpha: 0.02091016333584503<br><b>Objective Value: 0.9224764929436381</b>\",\"Trial #27<br>algorithm: lasso<br>alpha: 0.002367137437004208<br><b>Objective Value: 0.9431142980201922</b>\",\"Trial #28<br>algorithm: ridge<br>alpha: 0.0003508193855269366<br><b>Objective Value: 0.9458058722948917</b>\",\"Trial #30<br>algorithm: ridge<br>alpha: 0.07419825096515736<br><b>Objective Value: 0.9460881378786741</b>\",\"Trial #31<br>algorithm: lasso<br>alpha: 0.0001098338559889162<br><b>Objective Value: 0.9497745164857381</b>\",\"Trial #32<br>algorithm: lasso<br>alpha: 0.00026399630354087886<br><b>Objective Value: 0.9502797535996578</b>\",\"Trial #33<br>algorithm: lasso<br>alpha: 0.0008472387752849562<br><b>Objective Value: 0.9486362756580426</b>\",\"Trial #34<br>algorithm: lasso<br>alpha: 0.0003204788571913823<br><b>Objective Value: 0.9502759959747529</b>\",\"Trial #35<br>algorithm: ridge<br>alpha: 0.00024230102105339654<br><b>Objective Value: 0.9458054065930874</b>\",\"Trial #36<br>algorithm: lasso<br>alpha: 0.002615056478718971<br><b>Objective Value: 0.9427418045630881</b>\",\"Trial #37<br>algorithm: lasso<br>alpha: 0.0008701193893983413<br><b>Objective Value: 0.9485421626102486</b>\",\"Trial #38<br>algorithm: lasso<br>alpha: 0.009343031672547655<br><b>Objective Value: 0.9373437476773958</b>\",\"Trial #39<br>algorithm: ridge<br>alpha: 3.0896988698846903<br><b>Objective Value: 0.9485588883459293</b>\",\"Trial #40<br>algorithm: lasso<br>alpha: 0.0007487749013093245<br><b>Objective Value: 0.9490795432899979</b>\",\"Trial #41<br>algorithm: lasso<br>alpha: 0.00026577767050225043<br><b>Objective Value: 0.9502825368726407</b>\",\"Trial #42<br>algorithm: lasso<br>alpha: 0.00023634827143863648<br><b>Objective Value: 0.9502294508274328</b>\",\"Trial #43<br>algorithm: lasso<br>alpha: 0.002427898969308335<br><b>Objective Value: 0.9430131991735313</b>\",\"Trial #44<br>algorithm: lasso<br>alpha: 0.000325062047327948<br><b>Objective Value: 0.9502727641231721</b>\",\"Trial #45<br>algorithm: lasso<br>alpha: 0.0007138085942687639<br><b>Objective Value: 0.9492408791368658</b>\",\"Trial #46<br>algorithm: lasso<br>alpha: 0.001600153468480079<br><b>Objective Value: 0.9448349663520008</b>\",\"Trial #48<br>algorithm: lasso<br>alpha: 0.0001752770246621694<br><b>Objective Value: 0.9500862499579659</b>\",\"Trial #49<br>algorithm: lasso<br>alpha: 0.009528470841126065<br><b>Objective Value: 0.9371932960385145</b>\",\"Trial #50<br>algorithm: ridge<br>alpha: 0.4966722669613841<br><b>Objective Value: 0.9470141744249545</b>\",\"Trial #51<br>algorithm: lasso<br>alpha: 0.00022775953671817198<br><b>Objective Value: 0.9502119657115078</b>\",\"Trial #52<br>algorithm: lasso<br>alpha: 0.00010612659023547114<br><b>Objective Value: 0.949734434572683</b>\",\"Trial #53<br>algorithm: lasso<br>alpha: 0.0003830467672882016<br><b>Objective Value: 0.9501974068395576</b>\",\"Trial #54<br>algorithm: lasso<br>alpha: 0.00021627436540954526<br><b>Objective Value: 0.950190484820807</b>\",\"Trial #55<br>algorithm: lasso<br>alpha: 0.001445853412310756<br><b>Objective Value: 0.945629603904475</b>\",\"Trial #56<br>algorithm: lasso<br>alpha: 53.23092951617624<br><b>Objective Value: -0.029441307066881618</b>\",\"Trial #58<br>algorithm: lasso<br>alpha: 0.0006269662288422743<br><b>Objective Value: 0.9495661914710423</b>\",\"Trial #59<br>algorithm: lasso<br>alpha: 0.00029775083715590834<br><b>Objective Value: 0.9502879072815185</b>\",\"Trial #60<br>algorithm: lasso<br>alpha: 15.099326747885836<br><b>Objective Value: -0.029441307066881618</b>\",\"Trial #61<br>algorithm: lasso<br>alpha: 0.00016120434434155882<br><b>Objective Value: 0.9500333708547464</b>\",\"Trial #62<br>algorithm: lasso<br>alpha: 0.0003589828022351704<br><b>Objective Value: 0.9502370410586698</b>\",\"Trial #63<br>algorithm: lasso<br>alpha: 0.0003217979072940209<br><b>Objective Value: 0.9502750912961979</b>\",\"Trial #64<br>algorithm: lasso<br>alpha: 0.0011967427390884194<br><b>Objective Value: 0.9472882006945464</b>\",\"Trial #65<br>algorithm: lasso<br>alpha: 0.0005043219466697327<br><b>Objective Value: 0.9499221783577119</b>\",\"Trial #66<br>algorithm: lasso<br>alpha: 0.00014659589751746423<br><b>Objective Value: 0.9499614525388406</b>\",\"Trial #68<br>algorithm: lasso<br>alpha: 0.00032279050356379395<br><b>Objective Value: 0.9502742629973625</b>\",\"Trial #69<br>algorithm: lasso<br>alpha: 0.003229013154984103<br><b>Objective Value: 0.941854420726292</b>\",\"Trial #70<br>algorithm: lasso<br>alpha: 0.0009304375157316136<br><b>Objective Value: 0.9483040046031498</b>\",\"Trial #71<br>algorithm: lasso<br>alpha: 0.00032387498231343473<br><b>Objective Value: 0.9502735478038954</b>\",\"Trial #72<br>algorithm: lasso<br>alpha: 0.00010020749752970585<br><b>Objective Value: 0.9496698612945007</b>\",\"Trial #73<br>algorithm: lasso<br>alpha: 0.0004902540297799311<br><b>Objective Value: 0.9499618729169731</b>\",\"Trial #74<br>algorithm: lasso<br>alpha: 0.0002969173890045437<br><b>Objective Value: 0.9502883231525254</b>\",\"Trial #75<br>algorithm: lasso<br>alpha: 0.00028454678060790855<br><b>Objective Value: 0.9502953233147071</b>\",\"Trial #76<br>algorithm: ridge<br>alpha: 0.00016771658897848712<br><b>Objective Value: 0.9458050864155652</b>\",\"Trial #77<br>algorithm: lasso<br>alpha: 0.000578084982033051<br><b>Objective Value: 0.9497137160696887</b>\",\"Trial #78<br>algorithm: lasso<br>alpha: 0.0002650869138932816<br><b>Objective Value: 0.9502815924227817</b>\",\"Trial #79<br>algorithm: lasso<br>alpha: 0.0001529524006218151<br><b>Objective Value: 0.9499926313562599</b>\",\"Trial #80<br>algorithm: lasso<br>alpha: 0.0009624329368942344<br><b>Objective Value: 0.9481827933626569</b>\",\"Trial #81<br>algorithm: lasso<br>alpha: 0.00025615699836524443<br><b>Objective Value: 0.9502672109276192</b>\",\"Trial #82<br>algorithm: lasso<br>alpha: 0.0002775282989311552<br><b>Objective Value: 0.9502963988384143</b>\",\"Trial #83<br>algorithm: lasso<br>alpha: 0.001863957343085763<br><b>Objective Value: 0.9439723885844347</b>\",\"Trial #84<br>algorithm: lasso<br>alpha: 0.0005977110689793054<br><b>Objective Value: 0.9496589312348584</b>\",\"Trial #85<br>algorithm: lasso<br>alpha: 0.0002265048002483477<br><b>Objective Value: 0.9502098986541375</b>\",\"Trial #87<br>algorithm: lasso<br>alpha: 0.00014044844521037702<br><b>Objective Value: 0.9499303692169431</b>\",\"Trial #88<br>algorithm: ridge<br>alpha: 0.00043999444012187577<br><b>Objective Value: 0.9458062548545307</b>\",\"Trial #89<br>algorithm: lasso<br>alpha: 0.0011161328813483<br><b>Objective Value: 0.9476084501766951</b>\",\"Trial #90<br>algorithm: lasso<br>alpha: 0.00028182509069933046<br><b>Objective Value: 0.9502964822130379</b>\",\"Trial #91<br>algorithm: lasso<br>alpha: 0.00021910412365379805<br><b>Objective Value: 0.9501962444593653</b>\",\"Trial #92<br>algorithm: lasso<br>alpha: 0.00028892319193558495<br><b>Objective Value: 0.9502926907956504</b>\",\"Trial #93<br>algorithm: lasso<br>alpha: 0.00012601304274520566<br><b>Objective Value: 0.9498802105550059</b>\",\"Trial #94<br>algorithm: lasso<br>alpha: 0.0006867677082010171<br><b>Objective Value: 0.9493494195943446</b>\",\"Trial #95<br>algorithm: lasso<br>alpha: 0.10617565798782047<br><b>Objective Value: 0.6948625509417926</b>\",\"Trial #96<br>algorithm: lasso<br>alpha: 0.00026874245328880713<br><b>Objective Value: 0.9502862831182425</b>\",\"Trial #97<br>algorithm: lasso<br>alpha: 0.0001942292553580477<br><b>Objective Value: 0.9501449871277803</b>\",\"Trial #98<br>algorithm: lasso<br>alpha: 0.0004343961432539565<br><b>Objective Value: 0.9500888877970954</b>\",\"Trial #99<br>algorithm: lasso<br>alpha: 0.0002822324255457903<br><b>Objective Value: 0.9502964373402069</b>\",\"Trial #100<br>algorithm: lasso<br>alpha: 0.00010067470572454919<br><b>Objective Value: 0.9496753512755902</b>\",\"Trial #101<br>algorithm: lasso<br>alpha: 0.00024337137393535218<br><b>Objective Value: 0.9502449512569566</b>\",\"Trial #102<br>algorithm: lasso<br>alpha: 0.0002840324973679434<br><b>Objective Value: 0.9502955909186339</b>\",\"Trial #103<br>algorithm: lasso<br>alpha: 0.0004429356786116208<br><b>Objective Value: 0.9500715177401252</b>\",\"Trial #104<br>algorithm: lasso<br>alpha: 0.0006852289007676667<br><b>Objective Value: 0.9493553150559639</b>\",\"Trial #105<br>algorithm: lasso<br>alpha: 0.00016777305469109388<br><b>Objective Value: 0.9500636883309272</b>\",\"Trial #106<br>algorithm: lasso<br>alpha: 2.718674441824922<br><b>Objective Value: -0.029441307066881618</b>\",\"Trial #108<br>algorithm: lasso<br>alpha: 0.000290966147484301<br><b>Objective Value: 0.9502914624491947</b>\",\"Trial #109<br>algorithm: lasso<br>alpha: 0.0008154095304730813<br><b>Objective Value: 0.9487796957195679</b>\",\"Trial #110<br>algorithm: ridge<br>alpha: 0.00037199925344242533<br><b>Objective Value: 0.9458059631669112</b>\",\"Trial #111<br>algorithm: lasso<br>alpha: 0.0002628523102139585<br><b>Objective Value: 0.9502778163259922</b>\",\"Trial #112<br>algorithm: lasso<br>alpha: 0.0003044538444315895<br><b>Objective Value: 0.9502836280725976</b>\",\"Trial #113<br>algorithm: lasso<br>alpha: 0.0001869134239066806<br><b>Objective Value: 0.9501260316720657</b>\",\"Trial #114<br>algorithm: lasso<br>alpha: 0.0005452808403101624<br><b>Objective Value: 0.9498013443197497</b>\",\"Trial #115<br>algorithm: lasso<br>alpha: 0.0003030787208159202<br><b>Objective Value: 0.9502845562820639</b>\",\"Trial #116<br>algorithm: lasso<br>alpha: 0.0003421151990867715<br><b>Objective Value: 0.9502582588235127</b>\",\"Trial #117<br>algorithm: lasso<br>alpha: 0.00013966170638581<br><b>Objective Value: 0.9499275892013603</b>\",\"Trial #118<br>algorithm: lasso<br>alpha: 0.0017689970679156401<br><b>Objective Value: 0.9442351128117648</b>\",\"Trial #119<br>algorithm: lasso<br>alpha: 0.0004857680768819713<br><b>Objective Value: 0.9499741667505186</b>\",\"Trial #120<br>algorithm: lasso<br>alpha: 0.00019366385317210036<br><b>Objective Value: 0.9501437506612426</b>\",\"Trial #121<br>algorithm: lasso<br>alpha: 0.00029322512255107095<br><b>Objective Value: 0.9502898226246657</b>\",\"Trial #122<br>algorithm: lasso<br>alpha: 0.0003937165488046054<br><b>Objective Value: 0.950172458965406</b>\",\"Trial #123<br>algorithm: lasso<br>alpha: 0.00012651680490057297<br><b>Objective Value: 0.9498818867954568</b>\",\"Trial #124<br>algorithm: lasso<br>alpha: 0.00032284555737474547<br><b>Objective Value: 0.9502742213840186</b>\",\"Trial #125<br>algorithm: lasso<br>alpha: 0.0010093248243163574<br><b>Objective Value: 0.948010230424984</b>\",\"Trial #126<br>algorithm: lasso<br>alpha: 0.0006538962082803727<br><b>Objective Value: 0.9494725800498989</b>\",\"Trial #127<br>algorithm: lasso<br>alpha: 0.0002701530338719892<br><b>Objective Value: 0.9502881420877998</b>\",\"Trial #128<br>algorithm: lasso<br>alpha: 0.00018822987713131288<br><b>Objective Value: 0.9501299921214527</b>\",\"Trial #130<br>algorithm: lasso<br>alpha: 0.0005025161860693752<br><b>Objective Value: 0.9499275651962751</b>\",\"Trial #131<br>algorithm: lasso<br>alpha: 0.00030121839415697064<br><b>Objective Value: 0.9502859312054707</b>\",\"Trial #132<br>algorithm: lasso<br>alpha: 0.02760617308212424<br><b>Objective Value: 0.9090691608791975</b>\",\"Trial #133<br>algorithm: lasso<br>alpha: 0.0002755064260576385<br><b>Objective Value: 0.9502947964782023</b>\",\"Trial #134<br>algorithm: lasso<br>alpha: 0.00022243048023622906<br><b>Objective Value: 0.9502028187641546</b>\",\"Trial #135<br>algorithm: lasso<br>alpha: 0.00014320019113867708<br><b>Objective Value: 0.9499426420022609</b>\",\"Trial #136<br>algorithm: lasso<br>alpha: 0.00026866592038427895<br><b>Objective Value: 0.9502861840712985</b>\",\"Trial #137<br>algorithm: ridge<br>alpha: 0.0004309633494336917<br><b>Objective Value: 0.9458062161166941</b>\",\"Trial #138<br>algorithm: lasso<br>alpha: 0.00081294913853769<br><b>Objective Value: 0.9487904462388294</b>\",\"Trial #139<br>algorithm: lasso<br>alpha: 0.00020297584486418416<br><b>Objective Value: 0.9501620529377204</b>\",\"Trial #140<br>algorithm: lasso<br>alpha: 0.00012195713425037956<br><b>Objective Value: 0.9498618400883064</b>\",\"Trial #141<br>algorithm: lasso<br>alpha: 0.00025467710128659193<br><b>Objective Value: 0.9502649728528159</b>\",\"Trial #142<br>algorithm: lasso<br>alpha: 0.0003902292801053442<br><b>Objective Value: 0.9501802467301577</b>\",\"Trial #143<br>algorithm: lasso<br>alpha: 0.0005961379839180346<br><b>Objective Value: 0.9496636404874943</b>\",\"Trial #144<br>algorithm: lasso<br>alpha: 0.00025983379644265125<br><b>Objective Value: 0.9502726100328387</b>\",\"Trial #145<br>algorithm: lasso<br>alpha: 0.0001656791803098643<br><b>Objective Value: 0.9500547936860226</b>\",\"Trial #146<br>algorithm: lasso<br>alpha: 0.00029660077744154305<br><b>Objective Value: 0.9502884518718631</b>\",\"Trial #147<br>algorithm: lasso<br>alpha: 0.0004216013518661878<br><b>Objective Value: 0.9501140127607505</b>\",\"Trial #148<br>algorithm: lasso<br>alpha: 0.00019191268560575942<br><b>Objective Value: 0.9501396727282296</b>\",\"Trial #149<br>algorithm: lasso<br>alpha: 0.0005355609370130905<br><b>Objective Value: 0.949827142011346</b>\",\"Trial #150<br>algorithm: lasso<br>alpha: 0.7480710218510542<br><b>Objective Value: -0.029441307066881618</b>\",\"Trial #151<br>algorithm: lasso<br>alpha: 0.0002955668852217581<br><b>Objective Value: 0.950288785652028</b>\",\"Trial #152<br>algorithm: lasso<br>alpha: 0.0003179394162049563<br><b>Objective Value: 0.9502777437745561</b>\",\"Trial #153<br>algorithm: lasso<br>alpha: 0.0002572094482719987<br><b>Objective Value: 0.9502688139102728</b>\",\"Trial #154<br>algorithm: lasso<br>alpha: 0.00010234247253002118<br><b>Objective Value: 0.9496937107517626</b>\",\"Trial #155<br>algorithm: lasso<br>alpha: 0.00014965779743293767<br><b>Objective Value: 0.9499777480519768</b>\",\"Trial #156<br>algorithm: lasso<br>alpha: 0.00037700816190696225<br><b>Objective Value: 0.9502093537893714</b>\",\"Trial #158<br>algorithm: lasso<br>alpha: 0.0002121806487450387<br><b>Objective Value: 0.9501804859699942</b>\",\"Trial #159<br>algorithm: lasso<br>alpha: 0.0006328223055577282<br><b>Objective Value: 0.9495460997714975</b>\",\"Trial #160<br>algorithm: lasso<br>alpha: 0.00027951955384252825<br><b>Objective Value: 0.9502968446519408</b>\",\"Trial #161<br>algorithm: lasso<br>alpha: 0.0002939250037567679<br><b>Objective Value: 0.9502895965361698</b>\",\"Trial #162<br>algorithm: lasso<br>alpha: 0.00037385749754682466<br><b>Objective Value: 0.95021458199043</b>\",\"Trial #163<br>algorithm: lasso<br>alpha: 0.00046763996206561896<br><b>Objective Value: 0.9500186429126172</b>\",\"Trial #164<br>algorithm: lasso<br>alpha: 0.00017255223505524656<br><b>Objective Value: 0.9500779176060921</b>\",\"Trial #165<br>algorithm: lasso<br>alpha: 0.00026100557304665855<br><b>Objective Value: 0.9502745077404082</b>\",\"Trial #166<br>algorithm: ridge<br>alpha: 0.0003300537053842424<br><b>Objective Value: 0.9458057831934419</b>\",\"Trial #167<br>algorithm: lasso<br>alpha: 0.00021752221770842542<br><b>Objective Value: 0.9501930573225469</b>\",\"Trial #168<br>algorithm: lasso<br>alpha: 0.057297280198522024<br><b>Objective Value: 0.8389773364681945</b>\",\"Trial #169<br>algorithm: lasso<br>alpha: 0.0007982176804455926<br><b>Objective Value: 0.9488545491630855</b>\",\"Trial #170<br>algorithm: lasso<br>alpha: 0.008770629968123052<br><b>Objective Value: 0.9377778075045207</b>\",\"Trial #171<br>algorithm: lasso<br>alpha: 0.00026809135112437695<br><b>Objective Value: 0.9502854685127481</b>\",\"Trial #172<br>algorithm: lasso<br>alpha: 0.0003039866798920512<br><b>Objective Value: 0.9502839077510391</b>\",\"Trial #173<br>algorithm: lasso<br>alpha: 0.0001518658124315147<br><b>Objective Value: 0.9499869011042194</b>\",\"Trial #174<br>algorithm: lasso<br>alpha: 0.00046511836448988027<br><b>Objective Value: 0.9500245932051371</b>\",\"Trial #175<br>algorithm: lasso<br>alpha: 0.24295422841672976<br><b>Objective Value: 0.1865437329165439</b>\",\"Trial #176<br>algorithm: lasso<br>alpha: 0.00020070103964358482<br><b>Objective Value: 0.9501583632314036</b>\",\"Trial #177<br>algorithm: lasso<br>alpha: 0.0003836683208844992<br><b>Objective Value: 0.9501960247006522</b>\",\"Trial #178<br>algorithm: lasso<br>alpha: 0.0005881628083156323<br><b>Objective Value: 0.9496864576714318</b>\",\"Trial #179<br>algorithm: lasso<br>alpha: 0.00026630194727719005<br><b>Objective Value: 0.9502833222098073</b>\",\"Trial #180<br>algorithm: lasso<br>alpha: 0.00014231728344635378<br><b>Objective Value: 0.9499385532941413</b>\",\"Trial #181<br>algorithm: lasso<br>alpha: 0.0003085933070370752<br><b>Objective Value: 0.9502810360158491</b>\",\"Trial #182<br>algorithm: lasso<br>alpha: 0.0003051142591493016<br><b>Objective Value: 0.9502831710262434</b>\",\"Trial #183<br>algorithm: lasso<br>alpha: 0.00021599941049405656<br><b>Objective Value: 0.9501898279809267</b>\",\"Trial #184<br>algorithm: lasso<br>alpha: 0.0004154625288227434<br><b>Objective Value: 0.9501258403921616</b>\",\"Trial #185<br>algorithm: lasso<br>alpha: 0.00018413932309184442<br><b>Objective Value: 0.9501172861556331</b>\",\"Trial #186<br>algorithm: lasso<br>alpha: 0.00029593987834829297<br><b>Objective Value: 0.950288642837411</b>\",\"Trial #187<br>algorithm: lasso<br>alpha: 0.0005140786592218493<br><b>Objective Value: 0.9498915102678985</b>\",\"Trial #189<br>algorithm: lasso<br>alpha: 0.00022947095032263697<br><b>Objective Value: 0.9502152651959875</b>\",\"Trial #190<br>algorithm: lasso<br>alpha: 0.0003771917449846884<br><b>Objective Value: 0.9502090690343031</b>\",\"Trial #191<br>algorithm: lasso<br>alpha: 0.0002628651681789406<br><b>Objective Value: 0.9502778394616301</b>\",\"Trial #192<br>algorithm: lasso<br>alpha: 0.00033338137422522654<br><b>Objective Value: 0.950266037079577</b>\",\"Trial #193<br>algorithm: lasso<br>alpha: 0.00017477919220651886<br><b>Objective Value: 0.9500845330420139</b>\",\"Trial #194<br>algorithm: lasso<br>alpha: 0.0002668231958810487<br><b>Objective Value: 0.9502840671126596</b>\",\"Trial #195<br>algorithm: lasso<br>alpha: 0.0005009178284093929<br><b>Objective Value: 0.9499323646692229</b>\",\"Trial #196<br>algorithm: lasso<br>alpha: 0.00012855378397921287<br><b>Objective Value: 0.9498876175942407</b>\",\"Trial #197<br>algorithm: lasso<br>alpha: 0.00034571676369411016<br><b>Objective Value: 0.950254088504817</b>\",\"Trial #198<br>algorithm: lasso<br>alpha: 0.00020514835456026157<br><b>Objective Value: 0.9501658812790701</b>\",\"Trial #199<br>algorithm: ridge<br>alpha: 0.00028929130728814323<br><b>Objective Value: 0.9458056082713616</b>\"],\"marker\":{\"color\":[\"rgb(150.0, 200.0, 224.0)\",\"rgb(86.0, 137.0, 190.0)\",\"rgb(139.0, 191.0, 219.0)\",\"rgb(155.0, 204.0, 226.0)\",\"rgb(206.0, 234.0, 243.0)\",\"rgb(74.0, 123.0, 183.0)\",\"rgb(255.0, 240.0, 169.0)\",\"rgb(58.0, 82.0, 163.0)\",\"rgb(254.0, 226.0, 147.0)\",\"rgb(234.0, 247.0, 230.0)\",\"rgb(229.0, 245.0, 238.0)\",\"rgb(158.0, 207.0, 227.0)\",\"rgb(109.0, 165.0, 205.0)\",\"rgb(66.0, 108.0, 175.0)\",\"rgb(250.0, 152.0, 87.0)\",\"rgb(62.0, 95.0, 169.0)\",\"rgb(90.0, 143.0, 193.0)\",\"rgb(248.0, 136.0, 79.0)\",\"rgb(248.0, 139.0, 81.0)\",\"rgb(255.0, 253.0, 187.0)\",\"rgb(88.0, 140.0, 192.0)\",\"rgb(254.0, 239.0, 166.0)\",\"rgb(72.0, 120.0, 182.0)\",\"rgb(100.0, 154.0, 199.0)\",\"rgb(128.0, 182.0, 214.0)\",\"rgb(141.0, 193.0, 220.0)\",\"rgb(228.0, 244.0, 241.0)\",\"rgb(230.0, 79.0, 53.0)\",\"rgb(177.0, 220.0, 235.0)\",\"rgb(236.0, 91.0, 59.0)\",\"rgb(119.0, 176.0, 210.0)\",\"rgb(95.0, 148.0, 196.0)\",\"rgb(172.0, 217.0, 233.0)\",\"rgb(81.0, 131.0, 187.0)\",\"rgb(174.0, 219.0, 234.0)\",\"rgb(188.0, 225.0, 238.0)\",\"rgb(225.0, 70.0, 49.0)\",\"rgb(250.0, 149.0, 85.0)\",\"rgb(98.0, 151.0, 198.0)\",\"rgb(244.0, 110.0, 67.0)\",\"rgb(190.0, 227.0, 239.0)\",\"rgb(107.0, 162.0, 203.0)\",\"rgb(254.0, 229.0, 152.0)\",\"rgb(79.0, 129.0, 186.0)\",\"rgb(147.0, 198.0, 223.0)\",\"rgb(251.0, 162.0, 91.0)\",\"rgb(226.0, 244.0, 244.0)\",\"rgb(253.0, 177.0, 100.0)\",\"rgb(253.0, 187.0, 110.0)\",\"rgb(112.0, 168.0, 206.0)\",\"rgb(58.0, 82.0, 163.0)\",\"rgb(204.0, 233.0, 242.0)\",\"rgb(205.0, 39.0, 39.0)\",\"rgb(58.0, 82.0, 163.0)\",\"rgb(255.0, 242.0, 171.0)\",\"rgb(249.0, 146.0, 84.0)\",\"rgb(237.0, 94.0, 60.0)\",\"rgb(152.0, 202.0, 225.0)\",\"rgb(243.0, 250.0, 212.0)\",\"rgb(254.0, 255.0, 192.0)\",\"rgb(240.0, 100.0, 63.0)\",\"rgb(93.0, 145.0, 195.0)\",\"rgb(169.0, 215.0, 232.0)\",\"rgb(243.0, 107.0, 66.0)\",\"rgb(214.0, 238.0, 245.0)\",\"rgb(255.0, 254.0, 190.0)\",\"rgb(200.0, 34.0, 39.0)\",\"rgb(178.0, 12.0, 38.0)\",\"rgb(117.0, 173.0, 209.0)\",\"rgb(225.0, 243.0, 247.0)\",\"rgb(227.0, 73.0, 50.0)\",\"rgb(255.0, 246.0, 178.0)\",\"rgb(166.0, 213.0, 231.0)\",\"rgb(245.0, 119.0, 72.0)\",\"rgb(173.0, 7.0, 38.0)\",\"rgb(102.0, 157.0, 201.0)\",\"rgb(209.0, 236.0, 244.0)\",\"rgb(252.0, 165.0, 93.0)\",\"rgb(248.0, 252.0, 204.0)\",\"rgb(136.0, 189.0, 218.0)\",\"rgb(161.0, 209.0, 229.0)\",\"rgb(168.0, 2.0, 38.0)\",\"rgb(253.0, 180.0, 102.0)\",\"rgb(183.0, 17.0, 38.0)\",\"rgb(237.0, 248.0, 224.0)\",\"rgb(193.0, 228.0, 239.0)\",\"rgb(63.0, 98.0, 171.0)\",\"rgb(208.0, 41.0, 39.0)\",\"rgb(254.0, 207.0, 128.0)\",\"rgb(254.0, 228.0, 150.0)\",\"rgb(170.0, 5.0, 38.0)\",\"rgb(217.0, 240.0, 246.0)\",\"rgb(249.0, 142.0, 82.0)\",\"rgb(175.0, 10.0, 38.0)\",\"rgb(254.0, 234.0, 159.0)\",\"rgb(196.0, 229.0, 240.0)\",\"rgb(254.0, 236.0, 161.0)\",\"rgb(58.0, 82.0, 163.0)\",\"rgb(185.0, 19.0, 38.0)\",\"rgb(180.0, 221.0, 235.0)\",\"rgb(130.0, 184.0, 215.0)\",\"rgb(233.0, 85.0, 56.0)\",\"rgb(221.0, 61.0, 45.0)\",\"rgb(254.0, 217.0, 138.0)\",\"rgb(231.0, 246.0, 235.0)\",\"rgb(217.0, 51.0, 41.0)\",\"rgb(247.0, 129.0, 76.0)\",\"rgb(246.0, 252.0, 207.0)\",\"rgb(105.0, 159.0, 202.0)\",\"rgb(255.0, 251.0, 185.0)\",\"rgb(254.0, 210.0, 131.0)\",\"rgb(188.0, 22.0, 38.0)\",\"rgb(253.0, 197.0, 119.0)\",\"rgb(239.0, 249.0, 221.0)\",\"rgb(241.0, 103.0, 64.0)\",\"rgb(164.0, 211.0, 230.0)\",\"rgb(198.0, 230.0, 241.0)\",\"rgb(203.0, 36.0, 39.0)\",\"rgb(254.0, 215.0, 135.0)\",\"rgb(245.0, 251.0, 210.0)\",\"rgb(213.0, 46.0, 39.0)\",\"rgb(68.0, 114.0, 179.0)\",\"rgb(180.0, 14.0, 38.0)\",\"rgb(253.0, 175.0, 98.0)\",\"rgb(253.0, 254.0, 195.0)\",\"rgb(210.0, 43.0, 39.0)\",\"rgb(133.0, 187.0, 216.0)\",\"rgb(182.0, 223.0, 236.0)\",\"rgb(254.0, 202.0, 124.0)\",\"rgb(236.0, 247.0, 227.0)\",\"rgb(246.0, 126.0, 75.0)\",\"rgb(253.0, 195.0, 117.0)\",\"rgb(212.0, 237.0, 245.0)\",\"rgb(245.0, 113.0, 69.0)\",\"rgb(254.0, 237.0, 164.0)\",\"rgb(198.0, 31.0, 39.0)\",\"rgb(254.0, 225.0, 145.0)\",\"rgb(254.0, 212.0, 133.0)\",\"rgb(232.0, 246.0, 233.0)\",\"rgb(58.0, 82.0, 163.0)\",\"rgb(193.0, 27.0, 39.0)\",\"rgb(234.0, 88.0, 57.0)\",\"rgb(245.0, 116.0, 70.0)\",\"rgb(222.0, 242.0, 248.0)\",\"rgb(255.0, 250.0, 183.0)\",\"rgb(252.0, 168.0, 94.0)\",\"rgb(253.0, 192.0, 114.0)\",\"rgb(201.0, 232.0, 242.0)\",\"rgb(165.0, 0.0, 38.0)\",\"rgb(190.0, 24.0, 39.0)\",\"rgb(251.0, 159.0, 90.0)\",\"rgb(255.0, 245.0, 176.0)\",\"rgb(254.0, 232.0, 157.0)\",\"rgb(238.0, 97.0, 62.0)\",\"rgb(125.0, 180.0, 213.0)\",\"rgb(253.0, 185.0, 107.0)\",\"rgb(64.0, 101.0, 172.0)\",\"rgb(185.0, 224.0, 237.0)\",\"rgb(83.0, 134.0, 189.0)\",\"rgb(215.0, 48.0, 39.0)\",\"rgb(220.0, 58.0, 43.0)\",\"rgb(255.0, 248.0, 180.0)\",\"rgb(255.0, 243.0, 173.0)\",\"rgb(61.0, 92.0, 168.0)\",\"rgb(254.0, 205.0, 126.0)\",\"rgb(253.0, 182.0, 105.0)\",\"rgb(220.0, 241.0, 247.0)\",\"rgb(222.0, 64.0, 46.0)\",\"rgb(251.0, 253.0, 198.0)\",\"rgb(228.0, 76.0, 52.0)\",\"rgb(224.0, 67.0, 48.0)\",\"rgb(253.0, 190.0, 112.0)\",\"rgb(254.0, 220.0, 140.0)\",\"rgb(254.0, 222.0, 143.0)\",\"rgb(195.0, 29.0, 39.0)\",\"rgb(242.0, 250.0, 215.0)\",\"rgb(250.0, 155.0, 88.0)\",\"rgb(253.0, 172.0, 96.0)\",\"rgb(231.0, 82.0, 55.0)\",\"rgb(246.0, 123.0, 73.0)\",\"rgb(254.0, 231.0, 154.0)\",\"rgb(218.0, 54.0, 42.0)\",\"rgb(250.0, 253.0, 201.0)\",\"rgb(240.0, 249.0, 218.0)\",\"rgb(247.0, 133.0, 78.0)\",\"rgb(254.0, 200.0, 121.0)\",\"rgb(122.0, 178.0, 212.0)\"],\"line\":{\"color\":\"Grey\",\"width\":0.5}},\"mode\":\"markers\",\"showlegend\":false,\"x\":[0.6010505222092465,0.006162467158491157,0.001244729405956262,0.7759373016028097,31.29323725185007,0.016555231662187374,0.0004582749531777171,5.534750298353362,0.00017637287605472746,0.00011995197253262029,0.00011207889164253218,0.0011740965051880814,0.0015503076984355424,0.03649585335839899,0.0003726843301350919,0.20023362384311136,0.004216169019651566,0.00034608379326552273,0.00024482064135119533,0.000487776516858514,0.005239588389351667,0.0004550420502021263,0.02091016333584503,0.002367137437004208,0.0003508193855269366,0.07419825096515736,0.0001098338559889162,0.00026399630354087886,0.0008472387752849562,0.0003204788571913823,0.00024230102105339654,0.002615056478718971,0.0008701193893983413,0.009343031672547655,3.0896988698846903,0.0007487749013093245,0.00026577767050225043,0.00023634827143863648,0.002427898969308335,0.000325062047327948,0.0007138085942687639,0.001600153468480079,0.0001752770246621694,0.009528470841126065,0.4966722669613841,0.00022775953671817198,0.00010612659023547114,0.0003830467672882016,0.00021627436540954526,0.001445853412310756,53.23092951617624,0.0006269662288422743,0.00029775083715590834,15.099326747885836,0.00016120434434155882,0.0003589828022351704,0.0003217979072940209,0.0011967427390884194,0.0005043219466697327,0.00014659589751746423,0.00032279050356379395,0.003229013154984103,0.0009304375157316136,0.00032387498231343473,0.00010020749752970585,0.0004902540297799311,0.0002969173890045437,0.00028454678060790855,0.00016771658897848712,0.000578084982033051,0.0002650869138932816,0.0001529524006218151,0.0009624329368942344,0.00025615699836524443,0.0002775282989311552,0.001863957343085763,0.0005977110689793054,0.0002265048002483477,0.00014044844521037702,0.00043999444012187577,0.0011161328813483,0.00028182509069933046,0.00021910412365379805,0.00028892319193558495,0.00012601304274520566,0.0006867677082010171,0.10617565798782047,0.00026874245328880713,0.0001942292553580477,0.0004343961432539565,0.0002822324255457903,0.00010067470572454919,0.00024337137393535218,0.0002840324973679434,0.0004429356786116208,0.0006852289007676667,0.00016777305469109388,2.718674441824922,0.000290966147484301,0.0008154095304730813,0.00037199925344242533,0.0002628523102139585,0.0003044538444315895,0.0001869134239066806,0.0005452808403101624,0.0003030787208159202,0.0003421151990867715,0.00013966170638581,0.0017689970679156401,0.0004857680768819713,0.00019366385317210036,0.00029322512255107095,0.0003937165488046054,0.00012651680490057297,0.00032284555737474547,0.0010093248243163574,0.0006538962082803727,0.0002701530338719892,0.00018822987713131288,0.0005025161860693752,0.00030121839415697064,0.02760617308212424,0.0002755064260576385,0.00022243048023622906,0.00014320019113867708,0.00026866592038427895,0.0004309633494336917,0.00081294913853769,0.00020297584486418416,0.00012195713425037956,0.00025467710128659193,0.0003902292801053442,0.0005961379839180346,0.00025983379644265125,0.0001656791803098643,0.00029660077744154305,0.0004216013518661878,0.00019191268560575942,0.0005355609370130905,0.7480710218510542,0.0002955668852217581,0.0003179394162049563,0.0002572094482719987,0.00010234247253002118,0.00014965779743293767,0.00037700816190696225,0.0002121806487450387,0.0006328223055577282,0.00027951955384252825,0.0002939250037567679,0.00037385749754682466,0.00046763996206561896,0.00017255223505524656,0.00026100557304665855,0.0003300537053842424,0.00021752221770842542,0.057297280198522024,0.0007982176804455926,0.008770629968123052,0.00026809135112437695,0.0003039866798920512,0.0001518658124315147,0.00046511836448988027,0.24295422841672976,0.00020070103964358482,0.0003836683208844992,0.0005881628083156323,0.00026630194727719005,0.00014231728344635378,0.0003085933070370752,0.0003051142591493016,0.00021599941049405656,0.0004154625288227434,0.00018413932309184442,0.00029593987834829297,0.0005140786592218493,0.00022947095032263697,0.0003771917449846884,0.0002628651681789406,0.00033338137422522654,0.00017477919220651886,0.0002668231958810487,0.0005009178284093929,0.00012855378397921287,0.00034571676369411016,0.00020514835456026157,0.00028929130728814323],\"y\":[\"ridge\",\"lasso\",\"ridge\",\"ridge\",\"ridge\",\"lasso\",\"lasso\",\"lasso\",\"lasso\",\"lasso\",\"lasso\",\"lasso\",\"lasso\",\"lasso\",\"lasso\",\"lasso\",\"lasso\",\"lasso\",\"lasso\",\"lasso\",\"lasso\",\"lasso\",\"lasso\",\"lasso\",\"ridge\",\"ridge\",\"lasso\",\"lasso\",\"lasso\",\"lasso\",\"ridge\",\"lasso\",\"lasso\",\"lasso\",\"ridge\",\"lasso\",\"lasso\",\"lasso\",\"lasso\",\"lasso\",\"lasso\",\"lasso\",\"lasso\",\"lasso\",\"ridge\",\"lasso\",\"lasso\",\"lasso\",\"lasso\",\"lasso\",\"lasso\",\"lasso\",\"lasso\",\"lasso\",\"lasso\",\"lasso\",\"lasso\",\"lasso\",\"lasso\",\"lasso\",\"lasso\",\"lasso\",\"lasso\",\"lasso\",\"lasso\",\"lasso\",\"lasso\",\"lasso\",\"ridge\",\"lasso\",\"lasso\",\"lasso\",\"lasso\",\"lasso\",\"lasso\",\"lasso\",\"lasso\",\"lasso\",\"lasso\",\"ridge\",\"lasso\",\"lasso\",\"lasso\",\"lasso\",\"lasso\",\"lasso\",\"lasso\",\"lasso\",\"lasso\",\"lasso\",\"lasso\",\"lasso\",\"lasso\",\"lasso\",\"lasso\",\"lasso\",\"lasso\",\"lasso\",\"lasso\",\"lasso\",\"ridge\",\"lasso\",\"lasso\",\"lasso\",\"lasso\",\"lasso\",\"lasso\",\"lasso\",\"lasso\",\"lasso\",\"lasso\",\"lasso\",\"lasso\",\"lasso\",\"lasso\",\"lasso\",\"lasso\",\"lasso\",\"lasso\",\"lasso\",\"lasso\",\"lasso\",\"lasso\",\"lasso\",\"lasso\",\"lasso\",\"ridge\",\"lasso\",\"lasso\",\"lasso\",\"lasso\",\"lasso\",\"lasso\",\"lasso\",\"lasso\",\"lasso\",\"lasso\",\"lasso\",\"lasso\",\"lasso\",\"lasso\",\"lasso\",\"lasso\",\"lasso\",\"lasso\",\"lasso\",\"lasso\",\"lasso\",\"lasso\",\"lasso\",\"lasso\",\"lasso\",\"lasso\",\"lasso\",\"ridge\",\"lasso\",\"lasso\",\"lasso\",\"lasso\",\"lasso\",\"lasso\",\"lasso\",\"lasso\",\"lasso\",\"lasso\",\"lasso\",\"lasso\",\"lasso\",\"lasso\",\"lasso\",\"lasso\",\"lasso\",\"lasso\",\"lasso\",\"lasso\",\"lasso\",\"lasso\",\"lasso\",\"lasso\",\"lasso\",\"lasso\",\"lasso\",\"lasso\",\"lasso\",\"lasso\",\"lasso\",\"ridge\"],\"type\":\"scatter\",\"xaxis\":\"x2\",\"yaxis\":\"y2\"},{\"hovertemplate\":\"%{hovertext}<extra></extra>\",\"hovertext\":[\"Trial #0<br>algorithm: ridge<br>alpha: 0.6010505222092465<br><b>Objective Value: 0.9471554321468393</b>\",\"Trial #1<br>algorithm: lasso<br>alpha: 0.006162467158491157<br><b>Objective Value: 0.9389672175428982</b>\",\"Trial #2<br>algorithm: ridge<br>alpha: 0.001244729405956262<br><b>Objective Value: 0.9458097018173504</b>\",\"Trial #3<br>algorithm: ridge<br>alpha: 0.7759373016028097<br><b>Objective Value: 0.9473545665481765</b>\",\"Trial #4<br>algorithm: ridge<br>alpha: 31.29323725185007<br><b>Objective Value: 0.9496058571087869</b>\",\"Trial #5<br>algorithm: lasso<br>alpha: 0.016555231662187374<br><b>Objective Value: 0.9294302327835954</b>\",\"Trial #6<br>algorithm: lasso<br>alpha: 0.0004582749531777171<br><b>Objective Value: 0.9500398525687235</b>\",\"Trial #7<br>algorithm: lasso<br>alpha: 5.534750298353362<br><b>Objective Value: -0.029441307066881618</b>\",\"Trial #9<br>algorithm: lasso<br>alpha: 0.00017637287605472746<br><b>Objective Value: 0.9500902328681612</b>\",\"Trial #11<br>algorithm: lasso<br>alpha: 0.00011995197253262029<br><b>Objective Value: 0.9498510406483309</b>\",\"Trial #12<br>algorithm: lasso<br>alpha: 0.00011207889164253218<br><b>Objective Value: 0.9497956445257467</b>\",\"Trial #13<br>algorithm: lasso<br>alpha: 0.0011740965051880814<br><b>Objective Value: 0.9473793968660728</b>\",\"Trial #14<br>algorithm: lasso<br>alpha: 0.0015503076984355424<br><b>Objective Value: 0.945086273060117</b>\",\"Trial #15<br>algorithm: lasso<br>alpha: 0.03649585335839899<br><b>Objective Value: 0.891919680699119</b>\",\"Trial #17<br>algorithm: lasso<br>alpha: 0.0003726843301350919<br><b>Objective Value: 0.9502165794308643</b>\",\"Trial #18<br>algorithm: lasso<br>alpha: 0.20023362384311136<br><b>Objective Value: 0.3389464804948818</b>\",\"Trial #20<br>algorithm: lasso<br>alpha: 0.004216169019651566<br><b>Objective Value: 0.9409100930605206</b>\",\"Trial #21<br>algorithm: lasso<br>alpha: 0.00034608379326552273<br><b>Objective Value: 0.9502535145176715</b>\",\"Trial #22<br>algorithm: lasso<br>alpha: 0.00024482064135119533<br><b>Objective Value: 0.950247724018946</b>\",\"Trial #23<br>algorithm: lasso<br>alpha: 0.000487776516858514<br><b>Objective Value: 0.9499686482042866</b>\",\"Trial #24<br>algorithm: lasso<br>alpha: 0.005239588389351667<br><b>Objective Value: 0.9397985591072718</b>\",\"Trial #25<br>algorithm: lasso<br>alpha: 0.0004550420502021263<br><b>Objective Value: 0.9500469224113856</b>\",\"Trial #26<br>algorithm: lasso<br>alpha: 0.02091016333584503<br><b>Objective Value: 0.9224764929436381</b>\",\"Trial #27<br>algorithm: lasso<br>alpha: 0.002367137437004208<br><b>Objective Value: 0.9431142980201922</b>\",\"Trial #28<br>algorithm: ridge<br>alpha: 0.0003508193855269366<br><b>Objective Value: 0.9458058722948917</b>\",\"Trial #30<br>algorithm: ridge<br>alpha: 0.07419825096515736<br><b>Objective Value: 0.9460881378786741</b>\",\"Trial #31<br>algorithm: lasso<br>alpha: 0.0001098338559889162<br><b>Objective Value: 0.9497745164857381</b>\",\"Trial #32<br>algorithm: lasso<br>alpha: 0.00026399630354087886<br><b>Objective Value: 0.9502797535996578</b>\",\"Trial #33<br>algorithm: lasso<br>alpha: 0.0008472387752849562<br><b>Objective Value: 0.9486362756580426</b>\",\"Trial #34<br>algorithm: lasso<br>alpha: 0.0003204788571913823<br><b>Objective Value: 0.9502759959747529</b>\",\"Trial #35<br>algorithm: ridge<br>alpha: 0.00024230102105339654<br><b>Objective Value: 0.9458054065930874</b>\",\"Trial #36<br>algorithm: lasso<br>alpha: 0.002615056478718971<br><b>Objective Value: 0.9427418045630881</b>\",\"Trial #37<br>algorithm: lasso<br>alpha: 0.0008701193893983413<br><b>Objective Value: 0.9485421626102486</b>\",\"Trial #38<br>algorithm: lasso<br>alpha: 0.009343031672547655<br><b>Objective Value: 0.9373437476773958</b>\",\"Trial #39<br>algorithm: ridge<br>alpha: 3.0896988698846903<br><b>Objective Value: 0.9485588883459293</b>\",\"Trial #40<br>algorithm: lasso<br>alpha: 0.0007487749013093245<br><b>Objective Value: 0.9490795432899979</b>\",\"Trial #41<br>algorithm: lasso<br>alpha: 0.00026577767050225043<br><b>Objective Value: 0.9502825368726407</b>\",\"Trial #42<br>algorithm: lasso<br>alpha: 0.00023634827143863648<br><b>Objective Value: 0.9502294508274328</b>\",\"Trial #43<br>algorithm: lasso<br>alpha: 0.002427898969308335<br><b>Objective Value: 0.9430131991735313</b>\",\"Trial #44<br>algorithm: lasso<br>alpha: 0.000325062047327948<br><b>Objective Value: 0.9502727641231721</b>\",\"Trial #45<br>algorithm: lasso<br>alpha: 0.0007138085942687639<br><b>Objective Value: 0.9492408791368658</b>\",\"Trial #46<br>algorithm: lasso<br>alpha: 0.001600153468480079<br><b>Objective Value: 0.9448349663520008</b>\",\"Trial #48<br>algorithm: lasso<br>alpha: 0.0001752770246621694<br><b>Objective Value: 0.9500862499579659</b>\",\"Trial #49<br>algorithm: lasso<br>alpha: 0.009528470841126065<br><b>Objective Value: 0.9371932960385145</b>\",\"Trial #50<br>algorithm: ridge<br>alpha: 0.4966722669613841<br><b>Objective Value: 0.9470141744249545</b>\",\"Trial #51<br>algorithm: lasso<br>alpha: 0.00022775953671817198<br><b>Objective Value: 0.9502119657115078</b>\",\"Trial #52<br>algorithm: lasso<br>alpha: 0.00010612659023547114<br><b>Objective Value: 0.949734434572683</b>\",\"Trial #53<br>algorithm: lasso<br>alpha: 0.0003830467672882016<br><b>Objective Value: 0.9501974068395576</b>\",\"Trial #54<br>algorithm: lasso<br>alpha: 0.00021627436540954526<br><b>Objective Value: 0.950190484820807</b>\",\"Trial #55<br>algorithm: lasso<br>alpha: 0.001445853412310756<br><b>Objective Value: 0.945629603904475</b>\",\"Trial #56<br>algorithm: lasso<br>alpha: 53.23092951617624<br><b>Objective Value: -0.029441307066881618</b>\",\"Trial #58<br>algorithm: lasso<br>alpha: 0.0006269662288422743<br><b>Objective Value: 0.9495661914710423</b>\",\"Trial #59<br>algorithm: lasso<br>alpha: 0.00029775083715590834<br><b>Objective Value: 0.9502879072815185</b>\",\"Trial #60<br>algorithm: lasso<br>alpha: 15.099326747885836<br><b>Objective Value: -0.029441307066881618</b>\",\"Trial #61<br>algorithm: lasso<br>alpha: 0.00016120434434155882<br><b>Objective Value: 0.9500333708547464</b>\",\"Trial #62<br>algorithm: lasso<br>alpha: 0.0003589828022351704<br><b>Objective Value: 0.9502370410586698</b>\",\"Trial #63<br>algorithm: lasso<br>alpha: 0.0003217979072940209<br><b>Objective Value: 0.9502750912961979</b>\",\"Trial #64<br>algorithm: lasso<br>alpha: 0.0011967427390884194<br><b>Objective Value: 0.9472882006945464</b>\",\"Trial #65<br>algorithm: lasso<br>alpha: 0.0005043219466697327<br><b>Objective Value: 0.9499221783577119</b>\",\"Trial #66<br>algorithm: lasso<br>alpha: 0.00014659589751746423<br><b>Objective Value: 0.9499614525388406</b>\",\"Trial #68<br>algorithm: lasso<br>alpha: 0.00032279050356379395<br><b>Objective Value: 0.9502742629973625</b>\",\"Trial #69<br>algorithm: lasso<br>alpha: 0.003229013154984103<br><b>Objective Value: 0.941854420726292</b>\",\"Trial #70<br>algorithm: lasso<br>alpha: 0.0009304375157316136<br><b>Objective Value: 0.9483040046031498</b>\",\"Trial #71<br>algorithm: lasso<br>alpha: 0.00032387498231343473<br><b>Objective Value: 0.9502735478038954</b>\",\"Trial #72<br>algorithm: lasso<br>alpha: 0.00010020749752970585<br><b>Objective Value: 0.9496698612945007</b>\",\"Trial #73<br>algorithm: lasso<br>alpha: 0.0004902540297799311<br><b>Objective Value: 0.9499618729169731</b>\",\"Trial #74<br>algorithm: lasso<br>alpha: 0.0002969173890045437<br><b>Objective Value: 0.9502883231525254</b>\",\"Trial #75<br>algorithm: lasso<br>alpha: 0.00028454678060790855<br><b>Objective Value: 0.9502953233147071</b>\",\"Trial #76<br>algorithm: ridge<br>alpha: 0.00016771658897848712<br><b>Objective Value: 0.9458050864155652</b>\",\"Trial #77<br>algorithm: lasso<br>alpha: 0.000578084982033051<br><b>Objective Value: 0.9497137160696887</b>\",\"Trial #78<br>algorithm: lasso<br>alpha: 0.0002650869138932816<br><b>Objective Value: 0.9502815924227817</b>\",\"Trial #79<br>algorithm: lasso<br>alpha: 0.0001529524006218151<br><b>Objective Value: 0.9499926313562599</b>\",\"Trial #80<br>algorithm: lasso<br>alpha: 0.0009624329368942344<br><b>Objective Value: 0.9481827933626569</b>\",\"Trial #81<br>algorithm: lasso<br>alpha: 0.00025615699836524443<br><b>Objective Value: 0.9502672109276192</b>\",\"Trial #82<br>algorithm: lasso<br>alpha: 0.0002775282989311552<br><b>Objective Value: 0.9502963988384143</b>\",\"Trial #83<br>algorithm: lasso<br>alpha: 0.001863957343085763<br><b>Objective Value: 0.9439723885844347</b>\",\"Trial #84<br>algorithm: lasso<br>alpha: 0.0005977110689793054<br><b>Objective Value: 0.9496589312348584</b>\",\"Trial #85<br>algorithm: lasso<br>alpha: 0.0002265048002483477<br><b>Objective Value: 0.9502098986541375</b>\",\"Trial #87<br>algorithm: lasso<br>alpha: 0.00014044844521037702<br><b>Objective Value: 0.9499303692169431</b>\",\"Trial #88<br>algorithm: ridge<br>alpha: 0.00043999444012187577<br><b>Objective Value: 0.9458062548545307</b>\",\"Trial #89<br>algorithm: lasso<br>alpha: 0.0011161328813483<br><b>Objective Value: 0.9476084501766951</b>\",\"Trial #90<br>algorithm: lasso<br>alpha: 0.00028182509069933046<br><b>Objective Value: 0.9502964822130379</b>\",\"Trial #91<br>algorithm: lasso<br>alpha: 0.00021910412365379805<br><b>Objective Value: 0.9501962444593653</b>\",\"Trial #92<br>algorithm: lasso<br>alpha: 0.00028892319193558495<br><b>Objective Value: 0.9502926907956504</b>\",\"Trial #93<br>algorithm: lasso<br>alpha: 0.00012601304274520566<br><b>Objective Value: 0.9498802105550059</b>\",\"Trial #94<br>algorithm: lasso<br>alpha: 0.0006867677082010171<br><b>Objective Value: 0.9493494195943446</b>\",\"Trial #95<br>algorithm: lasso<br>alpha: 0.10617565798782047<br><b>Objective Value: 0.6948625509417926</b>\",\"Trial #96<br>algorithm: lasso<br>alpha: 0.00026874245328880713<br><b>Objective Value: 0.9502862831182425</b>\",\"Trial #97<br>algorithm: lasso<br>alpha: 0.0001942292553580477<br><b>Objective Value: 0.9501449871277803</b>\",\"Trial #98<br>algorithm: lasso<br>alpha: 0.0004343961432539565<br><b>Objective Value: 0.9500888877970954</b>\",\"Trial #99<br>algorithm: lasso<br>alpha: 0.0002822324255457903<br><b>Objective Value: 0.9502964373402069</b>\",\"Trial #100<br>algorithm: lasso<br>alpha: 0.00010067470572454919<br><b>Objective Value: 0.9496753512755902</b>\",\"Trial #101<br>algorithm: lasso<br>alpha: 0.00024337137393535218<br><b>Objective Value: 0.9502449512569566</b>\",\"Trial #102<br>algorithm: lasso<br>alpha: 0.0002840324973679434<br><b>Objective Value: 0.9502955909186339</b>\",\"Trial #103<br>algorithm: lasso<br>alpha: 0.0004429356786116208<br><b>Objective Value: 0.9500715177401252</b>\",\"Trial #104<br>algorithm: lasso<br>alpha: 0.0006852289007676667<br><b>Objective Value: 0.9493553150559639</b>\",\"Trial #105<br>algorithm: lasso<br>alpha: 0.00016777305469109388<br><b>Objective Value: 0.9500636883309272</b>\",\"Trial #106<br>algorithm: lasso<br>alpha: 2.718674441824922<br><b>Objective Value: -0.029441307066881618</b>\",\"Trial #108<br>algorithm: lasso<br>alpha: 0.000290966147484301<br><b>Objective Value: 0.9502914624491947</b>\",\"Trial #109<br>algorithm: lasso<br>alpha: 0.0008154095304730813<br><b>Objective Value: 0.9487796957195679</b>\",\"Trial #110<br>algorithm: ridge<br>alpha: 0.00037199925344242533<br><b>Objective Value: 0.9458059631669112</b>\",\"Trial #111<br>algorithm: lasso<br>alpha: 0.0002628523102139585<br><b>Objective Value: 0.9502778163259922</b>\",\"Trial #112<br>algorithm: lasso<br>alpha: 0.0003044538444315895<br><b>Objective Value: 0.9502836280725976</b>\",\"Trial #113<br>algorithm: lasso<br>alpha: 0.0001869134239066806<br><b>Objective Value: 0.9501260316720657</b>\",\"Trial #114<br>algorithm: lasso<br>alpha: 0.0005452808403101624<br><b>Objective Value: 0.9498013443197497</b>\",\"Trial #115<br>algorithm: lasso<br>alpha: 0.0003030787208159202<br><b>Objective Value: 0.9502845562820639</b>\",\"Trial #116<br>algorithm: lasso<br>alpha: 0.0003421151990867715<br><b>Objective Value: 0.9502582588235127</b>\",\"Trial #117<br>algorithm: lasso<br>alpha: 0.00013966170638581<br><b>Objective Value: 0.9499275892013603</b>\",\"Trial #118<br>algorithm: lasso<br>alpha: 0.0017689970679156401<br><b>Objective Value: 0.9442351128117648</b>\",\"Trial #119<br>algorithm: lasso<br>alpha: 0.0004857680768819713<br><b>Objective Value: 0.9499741667505186</b>\",\"Trial #120<br>algorithm: lasso<br>alpha: 0.00019366385317210036<br><b>Objective Value: 0.9501437506612426</b>\",\"Trial #121<br>algorithm: lasso<br>alpha: 0.00029322512255107095<br><b>Objective Value: 0.9502898226246657</b>\",\"Trial #122<br>algorithm: lasso<br>alpha: 0.0003937165488046054<br><b>Objective Value: 0.950172458965406</b>\",\"Trial #123<br>algorithm: lasso<br>alpha: 0.00012651680490057297<br><b>Objective Value: 0.9498818867954568</b>\",\"Trial #124<br>algorithm: lasso<br>alpha: 0.00032284555737474547<br><b>Objective Value: 0.9502742213840186</b>\",\"Trial #125<br>algorithm: lasso<br>alpha: 0.0010093248243163574<br><b>Objective Value: 0.948010230424984</b>\",\"Trial #126<br>algorithm: lasso<br>alpha: 0.0006538962082803727<br><b>Objective Value: 0.9494725800498989</b>\",\"Trial #127<br>algorithm: lasso<br>alpha: 0.0002701530338719892<br><b>Objective Value: 0.9502881420877998</b>\",\"Trial #128<br>algorithm: lasso<br>alpha: 0.00018822987713131288<br><b>Objective Value: 0.9501299921214527</b>\",\"Trial #130<br>algorithm: lasso<br>alpha: 0.0005025161860693752<br><b>Objective Value: 0.9499275651962751</b>\",\"Trial #131<br>algorithm: lasso<br>alpha: 0.00030121839415697064<br><b>Objective Value: 0.9502859312054707</b>\",\"Trial #132<br>algorithm: lasso<br>alpha: 0.02760617308212424<br><b>Objective Value: 0.9090691608791975</b>\",\"Trial #133<br>algorithm: lasso<br>alpha: 0.0002755064260576385<br><b>Objective Value: 0.9502947964782023</b>\",\"Trial #134<br>algorithm: lasso<br>alpha: 0.00022243048023622906<br><b>Objective Value: 0.9502028187641546</b>\",\"Trial #135<br>algorithm: lasso<br>alpha: 0.00014320019113867708<br><b>Objective Value: 0.9499426420022609</b>\",\"Trial #136<br>algorithm: lasso<br>alpha: 0.00026866592038427895<br><b>Objective Value: 0.9502861840712985</b>\",\"Trial #137<br>algorithm: ridge<br>alpha: 0.0004309633494336917<br><b>Objective Value: 0.9458062161166941</b>\",\"Trial #138<br>algorithm: lasso<br>alpha: 0.00081294913853769<br><b>Objective Value: 0.9487904462388294</b>\",\"Trial #139<br>algorithm: lasso<br>alpha: 0.00020297584486418416<br><b>Objective Value: 0.9501620529377204</b>\",\"Trial #140<br>algorithm: lasso<br>alpha: 0.00012195713425037956<br><b>Objective Value: 0.9498618400883064</b>\",\"Trial #141<br>algorithm: lasso<br>alpha: 0.00025467710128659193<br><b>Objective Value: 0.9502649728528159</b>\",\"Trial #142<br>algorithm: lasso<br>alpha: 0.0003902292801053442<br><b>Objective Value: 0.9501802467301577</b>\",\"Trial #143<br>algorithm: lasso<br>alpha: 0.0005961379839180346<br><b>Objective Value: 0.9496636404874943</b>\",\"Trial #144<br>algorithm: lasso<br>alpha: 0.00025983379644265125<br><b>Objective Value: 0.9502726100328387</b>\",\"Trial #145<br>algorithm: lasso<br>alpha: 0.0001656791803098643<br><b>Objective Value: 0.9500547936860226</b>\",\"Trial #146<br>algorithm: lasso<br>alpha: 0.00029660077744154305<br><b>Objective Value: 0.9502884518718631</b>\",\"Trial #147<br>algorithm: lasso<br>alpha: 0.0004216013518661878<br><b>Objective Value: 0.9501140127607505</b>\",\"Trial #148<br>algorithm: lasso<br>alpha: 0.00019191268560575942<br><b>Objective Value: 0.9501396727282296</b>\",\"Trial #149<br>algorithm: lasso<br>alpha: 0.0005355609370130905<br><b>Objective Value: 0.949827142011346</b>\",\"Trial #150<br>algorithm: lasso<br>alpha: 0.7480710218510542<br><b>Objective Value: -0.029441307066881618</b>\",\"Trial #151<br>algorithm: lasso<br>alpha: 0.0002955668852217581<br><b>Objective Value: 0.950288785652028</b>\",\"Trial #152<br>algorithm: lasso<br>alpha: 0.0003179394162049563<br><b>Objective Value: 0.9502777437745561</b>\",\"Trial #153<br>algorithm: lasso<br>alpha: 0.0002572094482719987<br><b>Objective Value: 0.9502688139102728</b>\",\"Trial #154<br>algorithm: lasso<br>alpha: 0.00010234247253002118<br><b>Objective Value: 0.9496937107517626</b>\",\"Trial #155<br>algorithm: lasso<br>alpha: 0.00014965779743293767<br><b>Objective Value: 0.9499777480519768</b>\",\"Trial #156<br>algorithm: lasso<br>alpha: 0.00037700816190696225<br><b>Objective Value: 0.9502093537893714</b>\",\"Trial #158<br>algorithm: lasso<br>alpha: 0.0002121806487450387<br><b>Objective Value: 0.9501804859699942</b>\",\"Trial #159<br>algorithm: lasso<br>alpha: 0.0006328223055577282<br><b>Objective Value: 0.9495460997714975</b>\",\"Trial #160<br>algorithm: lasso<br>alpha: 0.00027951955384252825<br><b>Objective Value: 0.9502968446519408</b>\",\"Trial #161<br>algorithm: lasso<br>alpha: 0.0002939250037567679<br><b>Objective Value: 0.9502895965361698</b>\",\"Trial #162<br>algorithm: lasso<br>alpha: 0.00037385749754682466<br><b>Objective Value: 0.95021458199043</b>\",\"Trial #163<br>algorithm: lasso<br>alpha: 0.00046763996206561896<br><b>Objective Value: 0.9500186429126172</b>\",\"Trial #164<br>algorithm: lasso<br>alpha: 0.00017255223505524656<br><b>Objective Value: 0.9500779176060921</b>\",\"Trial #165<br>algorithm: lasso<br>alpha: 0.00026100557304665855<br><b>Objective Value: 0.9502745077404082</b>\",\"Trial #166<br>algorithm: ridge<br>alpha: 0.0003300537053842424<br><b>Objective Value: 0.9458057831934419</b>\",\"Trial #167<br>algorithm: lasso<br>alpha: 0.00021752221770842542<br><b>Objective Value: 0.9501930573225469</b>\",\"Trial #168<br>algorithm: lasso<br>alpha: 0.057297280198522024<br><b>Objective Value: 0.8389773364681945</b>\",\"Trial #169<br>algorithm: lasso<br>alpha: 0.0007982176804455926<br><b>Objective Value: 0.9488545491630855</b>\",\"Trial #170<br>algorithm: lasso<br>alpha: 0.008770629968123052<br><b>Objective Value: 0.9377778075045207</b>\",\"Trial #171<br>algorithm: lasso<br>alpha: 0.00026809135112437695<br><b>Objective Value: 0.9502854685127481</b>\",\"Trial #172<br>algorithm: lasso<br>alpha: 0.0003039866798920512<br><b>Objective Value: 0.9502839077510391</b>\",\"Trial #173<br>algorithm: lasso<br>alpha: 0.0001518658124315147<br><b>Objective Value: 0.9499869011042194</b>\",\"Trial #174<br>algorithm: lasso<br>alpha: 0.00046511836448988027<br><b>Objective Value: 0.9500245932051371</b>\",\"Trial #175<br>algorithm: lasso<br>alpha: 0.24295422841672976<br><b>Objective Value: 0.1865437329165439</b>\",\"Trial #176<br>algorithm: lasso<br>alpha: 0.00020070103964358482<br><b>Objective Value: 0.9501583632314036</b>\",\"Trial #177<br>algorithm: lasso<br>alpha: 0.0003836683208844992<br><b>Objective Value: 0.9501960247006522</b>\",\"Trial #178<br>algorithm: lasso<br>alpha: 0.0005881628083156323<br><b>Objective Value: 0.9496864576714318</b>\",\"Trial #179<br>algorithm: lasso<br>alpha: 0.00026630194727719005<br><b>Objective Value: 0.9502833222098073</b>\",\"Trial #180<br>algorithm: lasso<br>alpha: 0.00014231728344635378<br><b>Objective Value: 0.9499385532941413</b>\",\"Trial #181<br>algorithm: lasso<br>alpha: 0.0003085933070370752<br><b>Objective Value: 0.9502810360158491</b>\",\"Trial #182<br>algorithm: lasso<br>alpha: 0.0003051142591493016<br><b>Objective Value: 0.9502831710262434</b>\",\"Trial #183<br>algorithm: lasso<br>alpha: 0.00021599941049405656<br><b>Objective Value: 0.9501898279809267</b>\",\"Trial #184<br>algorithm: lasso<br>alpha: 0.0004154625288227434<br><b>Objective Value: 0.9501258403921616</b>\",\"Trial #185<br>algorithm: lasso<br>alpha: 0.00018413932309184442<br><b>Objective Value: 0.9501172861556331</b>\",\"Trial #186<br>algorithm: lasso<br>alpha: 0.00029593987834829297<br><b>Objective Value: 0.950288642837411</b>\",\"Trial #187<br>algorithm: lasso<br>alpha: 0.0005140786592218493<br><b>Objective Value: 0.9498915102678985</b>\",\"Trial #189<br>algorithm: lasso<br>alpha: 0.00022947095032263697<br><b>Objective Value: 0.9502152651959875</b>\",\"Trial #190<br>algorithm: lasso<br>alpha: 0.0003771917449846884<br><b>Objective Value: 0.9502090690343031</b>\",\"Trial #191<br>algorithm: lasso<br>alpha: 0.0002628651681789406<br><b>Objective Value: 0.9502778394616301</b>\",\"Trial #192<br>algorithm: lasso<br>alpha: 0.00033338137422522654<br><b>Objective Value: 0.950266037079577</b>\",\"Trial #193<br>algorithm: lasso<br>alpha: 0.00017477919220651886<br><b>Objective Value: 0.9500845330420139</b>\",\"Trial #194<br>algorithm: lasso<br>alpha: 0.0002668231958810487<br><b>Objective Value: 0.9502840671126596</b>\",\"Trial #195<br>algorithm: lasso<br>alpha: 0.0005009178284093929<br><b>Objective Value: 0.9499323646692229</b>\",\"Trial #196<br>algorithm: lasso<br>alpha: 0.00012855378397921287<br><b>Objective Value: 0.9498876175942407</b>\",\"Trial #197<br>algorithm: lasso<br>alpha: 0.00034571676369411016<br><b>Objective Value: 0.950254088504817</b>\",\"Trial #198<br>algorithm: lasso<br>alpha: 0.00020514835456026157<br><b>Objective Value: 0.9501658812790701</b>\",\"Trial #199<br>algorithm: ridge<br>alpha: 0.00028929130728814323<br><b>Objective Value: 0.9458056082713616</b>\"],\"marker\":{\"color\":[\"rgb(150.0, 200.0, 224.0)\",\"rgb(86.0, 137.0, 190.0)\",\"rgb(139.0, 191.0, 219.0)\",\"rgb(155.0, 204.0, 226.0)\",\"rgb(206.0, 234.0, 243.0)\",\"rgb(74.0, 123.0, 183.0)\",\"rgb(255.0, 240.0, 169.0)\",\"rgb(58.0, 82.0, 163.0)\",\"rgb(254.0, 226.0, 147.0)\",\"rgb(234.0, 247.0, 230.0)\",\"rgb(229.0, 245.0, 238.0)\",\"rgb(158.0, 207.0, 227.0)\",\"rgb(109.0, 165.0, 205.0)\",\"rgb(66.0, 108.0, 175.0)\",\"rgb(250.0, 152.0, 87.0)\",\"rgb(62.0, 95.0, 169.0)\",\"rgb(90.0, 143.0, 193.0)\",\"rgb(248.0, 136.0, 79.0)\",\"rgb(248.0, 139.0, 81.0)\",\"rgb(255.0, 253.0, 187.0)\",\"rgb(88.0, 140.0, 192.0)\",\"rgb(254.0, 239.0, 166.0)\",\"rgb(72.0, 120.0, 182.0)\",\"rgb(100.0, 154.0, 199.0)\",\"rgb(128.0, 182.0, 214.0)\",\"rgb(141.0, 193.0, 220.0)\",\"rgb(228.0, 244.0, 241.0)\",\"rgb(230.0, 79.0, 53.0)\",\"rgb(177.0, 220.0, 235.0)\",\"rgb(236.0, 91.0, 59.0)\",\"rgb(119.0, 176.0, 210.0)\",\"rgb(95.0, 148.0, 196.0)\",\"rgb(172.0, 217.0, 233.0)\",\"rgb(81.0, 131.0, 187.0)\",\"rgb(174.0, 219.0, 234.0)\",\"rgb(188.0, 225.0, 238.0)\",\"rgb(225.0, 70.0, 49.0)\",\"rgb(250.0, 149.0, 85.0)\",\"rgb(98.0, 151.0, 198.0)\",\"rgb(244.0, 110.0, 67.0)\",\"rgb(190.0, 227.0, 239.0)\",\"rgb(107.0, 162.0, 203.0)\",\"rgb(254.0, 229.0, 152.0)\",\"rgb(79.0, 129.0, 186.0)\",\"rgb(147.0, 198.0, 223.0)\",\"rgb(251.0, 162.0, 91.0)\",\"rgb(226.0, 244.0, 244.0)\",\"rgb(253.0, 177.0, 100.0)\",\"rgb(253.0, 187.0, 110.0)\",\"rgb(112.0, 168.0, 206.0)\",\"rgb(58.0, 82.0, 163.0)\",\"rgb(204.0, 233.0, 242.0)\",\"rgb(205.0, 39.0, 39.0)\",\"rgb(58.0, 82.0, 163.0)\",\"rgb(255.0, 242.0, 171.0)\",\"rgb(249.0, 146.0, 84.0)\",\"rgb(237.0, 94.0, 60.0)\",\"rgb(152.0, 202.0, 225.0)\",\"rgb(243.0, 250.0, 212.0)\",\"rgb(254.0, 255.0, 192.0)\",\"rgb(240.0, 100.0, 63.0)\",\"rgb(93.0, 145.0, 195.0)\",\"rgb(169.0, 215.0, 232.0)\",\"rgb(243.0, 107.0, 66.0)\",\"rgb(214.0, 238.0, 245.0)\",\"rgb(255.0, 254.0, 190.0)\",\"rgb(200.0, 34.0, 39.0)\",\"rgb(178.0, 12.0, 38.0)\",\"rgb(117.0, 173.0, 209.0)\",\"rgb(225.0, 243.0, 247.0)\",\"rgb(227.0, 73.0, 50.0)\",\"rgb(255.0, 246.0, 178.0)\",\"rgb(166.0, 213.0, 231.0)\",\"rgb(245.0, 119.0, 72.0)\",\"rgb(173.0, 7.0, 38.0)\",\"rgb(102.0, 157.0, 201.0)\",\"rgb(209.0, 236.0, 244.0)\",\"rgb(252.0, 165.0, 93.0)\",\"rgb(248.0, 252.0, 204.0)\",\"rgb(136.0, 189.0, 218.0)\",\"rgb(161.0, 209.0, 229.0)\",\"rgb(168.0, 2.0, 38.0)\",\"rgb(253.0, 180.0, 102.0)\",\"rgb(183.0, 17.0, 38.0)\",\"rgb(237.0, 248.0, 224.0)\",\"rgb(193.0, 228.0, 239.0)\",\"rgb(63.0, 98.0, 171.0)\",\"rgb(208.0, 41.0, 39.0)\",\"rgb(254.0, 207.0, 128.0)\",\"rgb(254.0, 228.0, 150.0)\",\"rgb(170.0, 5.0, 38.0)\",\"rgb(217.0, 240.0, 246.0)\",\"rgb(249.0, 142.0, 82.0)\",\"rgb(175.0, 10.0, 38.0)\",\"rgb(254.0, 234.0, 159.0)\",\"rgb(196.0, 229.0, 240.0)\",\"rgb(254.0, 236.0, 161.0)\",\"rgb(58.0, 82.0, 163.0)\",\"rgb(185.0, 19.0, 38.0)\",\"rgb(180.0, 221.0, 235.0)\",\"rgb(130.0, 184.0, 215.0)\",\"rgb(233.0, 85.0, 56.0)\",\"rgb(221.0, 61.0, 45.0)\",\"rgb(254.0, 217.0, 138.0)\",\"rgb(231.0, 246.0, 235.0)\",\"rgb(217.0, 51.0, 41.0)\",\"rgb(247.0, 129.0, 76.0)\",\"rgb(246.0, 252.0, 207.0)\",\"rgb(105.0, 159.0, 202.0)\",\"rgb(255.0, 251.0, 185.0)\",\"rgb(254.0, 210.0, 131.0)\",\"rgb(188.0, 22.0, 38.0)\",\"rgb(253.0, 197.0, 119.0)\",\"rgb(239.0, 249.0, 221.0)\",\"rgb(241.0, 103.0, 64.0)\",\"rgb(164.0, 211.0, 230.0)\",\"rgb(198.0, 230.0, 241.0)\",\"rgb(203.0, 36.0, 39.0)\",\"rgb(254.0, 215.0, 135.0)\",\"rgb(245.0, 251.0, 210.0)\",\"rgb(213.0, 46.0, 39.0)\",\"rgb(68.0, 114.0, 179.0)\",\"rgb(180.0, 14.0, 38.0)\",\"rgb(253.0, 175.0, 98.0)\",\"rgb(253.0, 254.0, 195.0)\",\"rgb(210.0, 43.0, 39.0)\",\"rgb(133.0, 187.0, 216.0)\",\"rgb(182.0, 223.0, 236.0)\",\"rgb(254.0, 202.0, 124.0)\",\"rgb(236.0, 247.0, 227.0)\",\"rgb(246.0, 126.0, 75.0)\",\"rgb(253.0, 195.0, 117.0)\",\"rgb(212.0, 237.0, 245.0)\",\"rgb(245.0, 113.0, 69.0)\",\"rgb(254.0, 237.0, 164.0)\",\"rgb(198.0, 31.0, 39.0)\",\"rgb(254.0, 225.0, 145.0)\",\"rgb(254.0, 212.0, 133.0)\",\"rgb(232.0, 246.0, 233.0)\",\"rgb(58.0, 82.0, 163.0)\",\"rgb(193.0, 27.0, 39.0)\",\"rgb(234.0, 88.0, 57.0)\",\"rgb(245.0, 116.0, 70.0)\",\"rgb(222.0, 242.0, 248.0)\",\"rgb(255.0, 250.0, 183.0)\",\"rgb(252.0, 168.0, 94.0)\",\"rgb(253.0, 192.0, 114.0)\",\"rgb(201.0, 232.0, 242.0)\",\"rgb(165.0, 0.0, 38.0)\",\"rgb(190.0, 24.0, 39.0)\",\"rgb(251.0, 159.0, 90.0)\",\"rgb(255.0, 245.0, 176.0)\",\"rgb(254.0, 232.0, 157.0)\",\"rgb(238.0, 97.0, 62.0)\",\"rgb(125.0, 180.0, 213.0)\",\"rgb(253.0, 185.0, 107.0)\",\"rgb(64.0, 101.0, 172.0)\",\"rgb(185.0, 224.0, 237.0)\",\"rgb(83.0, 134.0, 189.0)\",\"rgb(215.0, 48.0, 39.0)\",\"rgb(220.0, 58.0, 43.0)\",\"rgb(255.0, 248.0, 180.0)\",\"rgb(255.0, 243.0, 173.0)\",\"rgb(61.0, 92.0, 168.0)\",\"rgb(254.0, 205.0, 126.0)\",\"rgb(253.0, 182.0, 105.0)\",\"rgb(220.0, 241.0, 247.0)\",\"rgb(222.0, 64.0, 46.0)\",\"rgb(251.0, 253.0, 198.0)\",\"rgb(228.0, 76.0, 52.0)\",\"rgb(224.0, 67.0, 48.0)\",\"rgb(253.0, 190.0, 112.0)\",\"rgb(254.0, 220.0, 140.0)\",\"rgb(254.0, 222.0, 143.0)\",\"rgb(195.0, 29.0, 39.0)\",\"rgb(242.0, 250.0, 215.0)\",\"rgb(250.0, 155.0, 88.0)\",\"rgb(253.0, 172.0, 96.0)\",\"rgb(231.0, 82.0, 55.0)\",\"rgb(246.0, 123.0, 73.0)\",\"rgb(254.0, 231.0, 154.0)\",\"rgb(218.0, 54.0, 42.0)\",\"rgb(250.0, 253.0, 201.0)\",\"rgb(240.0, 249.0, 218.0)\",\"rgb(247.0, 133.0, 78.0)\",\"rgb(254.0, 200.0, 121.0)\",\"rgb(122.0, 178.0, 212.0)\"],\"line\":{\"color\":\"Grey\",\"width\":0.5}},\"mode\":\"markers\",\"showlegend\":false,\"x\":[0.6010505222092465,0.006162467158491157,0.001244729405956262,0.7759373016028097,31.29323725185007,0.016555231662187374,0.0004582749531777171,5.534750298353362,0.00017637287605472746,0.00011995197253262029,0.00011207889164253218,0.0011740965051880814,0.0015503076984355424,0.03649585335839899,0.0003726843301350919,0.20023362384311136,0.004216169019651566,0.00034608379326552273,0.00024482064135119533,0.000487776516858514,0.005239588389351667,0.0004550420502021263,0.02091016333584503,0.002367137437004208,0.0003508193855269366,0.07419825096515736,0.0001098338559889162,0.00026399630354087886,0.0008472387752849562,0.0003204788571913823,0.00024230102105339654,0.002615056478718971,0.0008701193893983413,0.009343031672547655,3.0896988698846903,0.0007487749013093245,0.00026577767050225043,0.00023634827143863648,0.002427898969308335,0.000325062047327948,0.0007138085942687639,0.001600153468480079,0.0001752770246621694,0.009528470841126065,0.4966722669613841,0.00022775953671817198,0.00010612659023547114,0.0003830467672882016,0.00021627436540954526,0.001445853412310756,53.23092951617624,0.0006269662288422743,0.00029775083715590834,15.099326747885836,0.00016120434434155882,0.0003589828022351704,0.0003217979072940209,0.0011967427390884194,0.0005043219466697327,0.00014659589751746423,0.00032279050356379395,0.003229013154984103,0.0009304375157316136,0.00032387498231343473,0.00010020749752970585,0.0004902540297799311,0.0002969173890045437,0.00028454678060790855,0.00016771658897848712,0.000578084982033051,0.0002650869138932816,0.0001529524006218151,0.0009624329368942344,0.00025615699836524443,0.0002775282989311552,0.001863957343085763,0.0005977110689793054,0.0002265048002483477,0.00014044844521037702,0.00043999444012187577,0.0011161328813483,0.00028182509069933046,0.00021910412365379805,0.00028892319193558495,0.00012601304274520566,0.0006867677082010171,0.10617565798782047,0.00026874245328880713,0.0001942292553580477,0.0004343961432539565,0.0002822324255457903,0.00010067470572454919,0.00024337137393535218,0.0002840324973679434,0.0004429356786116208,0.0006852289007676667,0.00016777305469109388,2.718674441824922,0.000290966147484301,0.0008154095304730813,0.00037199925344242533,0.0002628523102139585,0.0003044538444315895,0.0001869134239066806,0.0005452808403101624,0.0003030787208159202,0.0003421151990867715,0.00013966170638581,0.0017689970679156401,0.0004857680768819713,0.00019366385317210036,0.00029322512255107095,0.0003937165488046054,0.00012651680490057297,0.00032284555737474547,0.0010093248243163574,0.0006538962082803727,0.0002701530338719892,0.00018822987713131288,0.0005025161860693752,0.00030121839415697064,0.02760617308212424,0.0002755064260576385,0.00022243048023622906,0.00014320019113867708,0.00026866592038427895,0.0004309633494336917,0.00081294913853769,0.00020297584486418416,0.00012195713425037956,0.00025467710128659193,0.0003902292801053442,0.0005961379839180346,0.00025983379644265125,0.0001656791803098643,0.00029660077744154305,0.0004216013518661878,0.00019191268560575942,0.0005355609370130905,0.7480710218510542,0.0002955668852217581,0.0003179394162049563,0.0002572094482719987,0.00010234247253002118,0.00014965779743293767,0.00037700816190696225,0.0002121806487450387,0.0006328223055577282,0.00027951955384252825,0.0002939250037567679,0.00037385749754682466,0.00046763996206561896,0.00017255223505524656,0.00026100557304665855,0.0003300537053842424,0.00021752221770842542,0.057297280198522024,0.0007982176804455926,0.008770629968123052,0.00026809135112437695,0.0003039866798920512,0.0001518658124315147,0.00046511836448988027,0.24295422841672976,0.00020070103964358482,0.0003836683208844992,0.0005881628083156323,0.00026630194727719005,0.00014231728344635378,0.0003085933070370752,0.0003051142591493016,0.00021599941049405656,0.0004154625288227434,0.00018413932309184442,0.00029593987834829297,0.0005140786592218493,0.00022947095032263697,0.0003771917449846884,0.0002628651681789406,0.00033338137422522654,0.00017477919220651886,0.0002668231958810487,0.0005009178284093929,0.00012855378397921287,0.00034571676369411016,0.00020514835456026157,0.00028929130728814323],\"y\":[0.6010505222092465,0.006162467158491157,0.001244729405956262,0.7759373016028097,31.29323725185007,0.016555231662187374,0.0004582749531777171,5.534750298353362,0.00017637287605472746,0.00011995197253262029,0.00011207889164253218,0.0011740965051880814,0.0015503076984355424,0.03649585335839899,0.0003726843301350919,0.20023362384311136,0.004216169019651566,0.00034608379326552273,0.00024482064135119533,0.000487776516858514,0.005239588389351667,0.0004550420502021263,0.02091016333584503,0.002367137437004208,0.0003508193855269366,0.07419825096515736,0.0001098338559889162,0.00026399630354087886,0.0008472387752849562,0.0003204788571913823,0.00024230102105339654,0.002615056478718971,0.0008701193893983413,0.009343031672547655,3.0896988698846903,0.0007487749013093245,0.00026577767050225043,0.00023634827143863648,0.002427898969308335,0.000325062047327948,0.0007138085942687639,0.001600153468480079,0.0001752770246621694,0.009528470841126065,0.4966722669613841,0.00022775953671817198,0.00010612659023547114,0.0003830467672882016,0.00021627436540954526,0.001445853412310756,53.23092951617624,0.0006269662288422743,0.00029775083715590834,15.099326747885836,0.00016120434434155882,0.0003589828022351704,0.0003217979072940209,0.0011967427390884194,0.0005043219466697327,0.00014659589751746423,0.00032279050356379395,0.003229013154984103,0.0009304375157316136,0.00032387498231343473,0.00010020749752970585,0.0004902540297799311,0.0002969173890045437,0.00028454678060790855,0.00016771658897848712,0.000578084982033051,0.0002650869138932816,0.0001529524006218151,0.0009624329368942344,0.00025615699836524443,0.0002775282989311552,0.001863957343085763,0.0005977110689793054,0.0002265048002483477,0.00014044844521037702,0.00043999444012187577,0.0011161328813483,0.00028182509069933046,0.00021910412365379805,0.00028892319193558495,0.00012601304274520566,0.0006867677082010171,0.10617565798782047,0.00026874245328880713,0.0001942292553580477,0.0004343961432539565,0.0002822324255457903,0.00010067470572454919,0.00024337137393535218,0.0002840324973679434,0.0004429356786116208,0.0006852289007676667,0.00016777305469109388,2.718674441824922,0.000290966147484301,0.0008154095304730813,0.00037199925344242533,0.0002628523102139585,0.0003044538444315895,0.0001869134239066806,0.0005452808403101624,0.0003030787208159202,0.0003421151990867715,0.00013966170638581,0.0017689970679156401,0.0004857680768819713,0.00019366385317210036,0.00029322512255107095,0.0003937165488046054,0.00012651680490057297,0.00032284555737474547,0.0010093248243163574,0.0006538962082803727,0.0002701530338719892,0.00018822987713131288,0.0005025161860693752,0.00030121839415697064,0.02760617308212424,0.0002755064260576385,0.00022243048023622906,0.00014320019113867708,0.00026866592038427895,0.0004309633494336917,0.00081294913853769,0.00020297584486418416,0.00012195713425037956,0.00025467710128659193,0.0003902292801053442,0.0005961379839180346,0.00025983379644265125,0.0001656791803098643,0.00029660077744154305,0.0004216013518661878,0.00019191268560575942,0.0005355609370130905,0.7480710218510542,0.0002955668852217581,0.0003179394162049563,0.0002572094482719987,0.00010234247253002118,0.00014965779743293767,0.00037700816190696225,0.0002121806487450387,0.0006328223055577282,0.00027951955384252825,0.0002939250037567679,0.00037385749754682466,0.00046763996206561896,0.00017255223505524656,0.00026100557304665855,0.0003300537053842424,0.00021752221770842542,0.057297280198522024,0.0007982176804455926,0.008770629968123052,0.00026809135112437695,0.0003039866798920512,0.0001518658124315147,0.00046511836448988027,0.24295422841672976,0.00020070103964358482,0.0003836683208844992,0.0005881628083156323,0.00026630194727719005,0.00014231728344635378,0.0003085933070370752,0.0003051142591493016,0.00021599941049405656,0.0004154625288227434,0.00018413932309184442,0.00029593987834829297,0.0005140786592218493,0.00022947095032263697,0.0003771917449846884,0.0002628651681789406,0.00033338137422522654,0.00017477919220651886,0.0002668231958810487,0.0005009178284093929,0.00012855378397921287,0.00034571676369411016,0.00020514835456026157,0.00028929130728814323],\"type\":\"scatter\",\"xaxis\":\"x9\",\"yaxis\":\"y9\"},{\"hovertemplate\":\"%{hovertext}<extra></extra>\",\"hovertext\":[],\"marker\":{\"color\":[],\"line\":{\"color\":\"Grey\",\"width\":0.5}},\"mode\":\"markers\",\"showlegend\":false,\"x\":[],\"y\":[],\"type\":\"scatter\",\"xaxis\":\"x16\",\"yaxis\":\"y16\"},{\"hovertemplate\":\"%{hovertext}<extra></extra>\",\"hovertext\":[],\"marker\":{\"color\":[],\"line\":{\"color\":\"Grey\",\"width\":0.5}},\"mode\":\"markers\",\"showlegend\":false,\"x\":[],\"y\":[],\"type\":\"scatter\",\"xaxis\":\"x23\",\"yaxis\":\"y23\"},{\"hovertemplate\":\"%{hovertext}<extra></extra>\",\"hovertext\":[],\"marker\":{\"color\":[],\"line\":{\"color\":\"Grey\",\"width\":0.5}},\"mode\":\"markers\",\"showlegend\":false,\"x\":[],\"y\":[],\"type\":\"scatter\",\"xaxis\":\"x30\",\"yaxis\":\"y30\"},{\"hovertemplate\":\"%{hovertext}<extra></extra>\",\"hovertext\":[],\"marker\":{\"color\":[],\"line\":{\"color\":\"Grey\",\"width\":0.5}},\"mode\":\"markers\",\"showlegend\":false,\"x\":[],\"y\":[],\"type\":\"scatter\",\"xaxis\":\"x37\",\"yaxis\":\"y37\"},{\"hovertemplate\":\"%{hovertext}<extra></extra>\",\"hovertext\":[],\"marker\":{\"color\":[],\"line\":{\"color\":\"Grey\",\"width\":0.5}},\"mode\":\"markers\",\"showlegend\":false,\"x\":[],\"y\":[],\"type\":\"scatter\",\"xaxis\":\"x44\",\"yaxis\":\"y44\"},{\"hovertemplate\":\"%{hovertext}<extra></extra>\",\"hovertext\":[\"Trial #8<br>algorithm: xgb<br>learning_rate: 0.0016114400564732941<br>max_depth: 10<br>subsample: 0.8558105105039219<br>colsample_bytree: 0.2965777047582458<br>min_child_weight: 9<br><b>Objective Value: -5.373464236107701</b>\",\"Trial #10<br>algorithm: xgb<br>learning_rate: 0.07748571364848593<br>max_depth: 1<br>subsample: 0.1081539403017378<br>colsample_bytree: 0.8774623283402829<br>min_child_weight: 20<br><b>Objective Value: 0.9057358214629305</b>\",\"Trial #16<br>algorithm: xgb<br>learning_rate: 0.0001093221261079389<br>max_depth: 6<br>subsample: 0.9975559933333737<br>colsample_bytree: 0.08773403630454318<br>min_child_weight: 1<br><b>Objective Value: -6.669394335705886</b>\",\"Trial #19<br>algorithm: xgb<br>learning_rate: 0.08019600545172129<br>max_depth: 1<br>subsample: 0.06393922828854465<br>colsample_bytree: 0.9630028278354485<br>min_child_weight: 20<br><b>Objective Value: 0.8811693917915496</b>\",\"Trial #29<br>algorithm: xgb<br>learning_rate: 0.0023166212634019153<br>max_depth: 10<br>subsample: 0.5235492940540687<br>colsample_bytree: 0.6157251098470551<br>min_child_weight: 10<br><b>Objective Value: -2.8957501035877273</b>\",\"Trial #47<br>algorithm: xgb<br>learning_rate: 0.00011521087399364599<br>max_depth: 6<br>subsample: 0.5277084716528383<br>colsample_bytree: 0.5662117236927399<br>min_child_weight: 1<br><b>Objective Value: -6.669368157650402</b>\",\"Trial #57<br>algorithm: xgb<br>learning_rate: 0.011236477438678406<br>max_depth: 4<br>subsample: 0.41151468106452377<br>colsample_bytree: 0.330480957357973<br>min_child_weight: 15<br><b>Objective Value: 0.9362219094296959</b>\",\"Trial #67<br>algorithm: xgb<br>learning_rate: 0.0005787891082612613<br>max_depth: 3<br>subsample: 0.7512158659814847<br>colsample_bytree: 0.7802016742983691<br>min_child_weight: 5<br><b>Objective Value: -6.649379579649593</b>\",\"Trial #86<br>algorithm: xgb<br>learning_rate: 0.01240560912844289<br>max_depth: 8<br>subsample: 0.2704974479544986<br>colsample_bytree: 0.061997530866703454<br>min_child_weight: 15<br><b>Objective Value: 0.9113729713455464</b>\",\"Trial #107<br>algorithm: xgb<br>learning_rate: 0.010250741887711978<br>max_depth: 8<br>subsample: 0.699136270124052<br>colsample_bytree: 0.34676345983827406<br>min_child_weight: 6<br><b>Objective Value: 0.9456992597139712</b>\",\"Trial #129<br>algorithm: xgb<br>learning_rate: 0.00037758996511927124<br>max_depth: 3<br>subsample: 0.2213408681389885<br>colsample_bytree: 0.7364584373058741<br>min_child_weight: 15<br><b>Objective Value: -6.665047997522985</b>\",\"Trial #157<br>algorithm: xgb<br>learning_rate: 0.000484744276997372<br>max_depth: 8<br>subsample: 0.9855479934166286<br>colsample_bytree: 0.4680410649317334<br>min_child_weight: 5<br><b>Objective Value: -6.658982618518887</b>\",\"Trial #188<br>algorithm: xgb<br>learning_rate: 0.022432477519196928<br>max_depth: 5<br>subsample: 0.5819591447885447<br>colsample_bytree: 0.1949715272549276<br>min_child_weight: 13<br><b>Objective Value: 0.9467614990364478</b>\"],\"marker\":{\"color\":[\"rgb(54.0, 70.0, 157.0)\",\"rgb(67.0, 111.0, 177.0)\",\"rgb(49.0, 54.0, 149.0)\",\"rgb(65.0, 105.0, 174.0)\",\"rgb(55.0, 73.0, 158.0)\",\"rgb(50.0, 57.0, 151.0)\",\"rgb(76.0, 126.0, 185.0)\",\"rgb(53.0, 67.0, 155.0)\",\"rgb(69.0, 117.0, 180.0)\",\"rgb(114.0, 171.0, 208.0)\",\"rgb(51.0, 60.0, 152.0)\",\"rgb(52.0, 63.0, 154.0)\",\"rgb(144.0, 196.0, 221.0)\"],\"line\":{\"color\":\"Grey\",\"width\":0.5}},\"mode\":\"markers\",\"showlegend\":false,\"x\":[0.2965777047582458,0.8774623283402829,0.08773403630454318,0.9630028278354485,0.6157251098470551,0.5662117236927399,0.330480957357973,0.7802016742983691,0.061997530866703454,0.34676345983827406,0.7364584373058741,0.4680410649317334,0.1949715272549276],\"y\":[\"xgb\",\"xgb\",\"xgb\",\"xgb\",\"xgb\",\"xgb\",\"xgb\",\"xgb\",\"xgb\",\"xgb\",\"xgb\",\"xgb\",\"xgb\"],\"type\":\"scatter\",\"xaxis\":\"x3\",\"yaxis\":\"y3\"},{\"hovertemplate\":\"%{hovertext}<extra></extra>\",\"hovertext\":[],\"marker\":{\"color\":[],\"line\":{\"color\":\"Grey\",\"width\":0.5}},\"mode\":\"markers\",\"showlegend\":false,\"x\":[],\"y\":[],\"type\":\"scatter\",\"xaxis\":\"x10\",\"yaxis\":\"y10\"},{\"hovertemplate\":\"%{hovertext}<extra></extra>\",\"hovertext\":[\"Trial #8<br>algorithm: xgb<br>learning_rate: 0.0016114400564732941<br>max_depth: 10<br>subsample: 0.8558105105039219<br>colsample_bytree: 0.2965777047582458<br>min_child_weight: 9<br><b>Objective Value: -5.373464236107701</b>\",\"Trial #10<br>algorithm: xgb<br>learning_rate: 0.07748571364848593<br>max_depth: 1<br>subsample: 0.1081539403017378<br>colsample_bytree: 0.8774623283402829<br>min_child_weight: 20<br><b>Objective Value: 0.9057358214629305</b>\",\"Trial #16<br>algorithm: xgb<br>learning_rate: 0.0001093221261079389<br>max_depth: 6<br>subsample: 0.9975559933333737<br>colsample_bytree: 0.08773403630454318<br>min_child_weight: 1<br><b>Objective Value: -6.669394335705886</b>\",\"Trial #19<br>algorithm: xgb<br>learning_rate: 0.08019600545172129<br>max_depth: 1<br>subsample: 0.06393922828854465<br>colsample_bytree: 0.9630028278354485<br>min_child_weight: 20<br><b>Objective Value: 0.8811693917915496</b>\",\"Trial #29<br>algorithm: xgb<br>learning_rate: 0.0023166212634019153<br>max_depth: 10<br>subsample: 0.5235492940540687<br>colsample_bytree: 0.6157251098470551<br>min_child_weight: 10<br><b>Objective Value: -2.8957501035877273</b>\",\"Trial #47<br>algorithm: xgb<br>learning_rate: 0.00011521087399364599<br>max_depth: 6<br>subsample: 0.5277084716528383<br>colsample_bytree: 0.5662117236927399<br>min_child_weight: 1<br><b>Objective Value: -6.669368157650402</b>\",\"Trial #57<br>algorithm: xgb<br>learning_rate: 0.011236477438678406<br>max_depth: 4<br>subsample: 0.41151468106452377<br>colsample_bytree: 0.330480957357973<br>min_child_weight: 15<br><b>Objective Value: 0.9362219094296959</b>\",\"Trial #67<br>algorithm: xgb<br>learning_rate: 0.0005787891082612613<br>max_depth: 3<br>subsample: 0.7512158659814847<br>colsample_bytree: 0.7802016742983691<br>min_child_weight: 5<br><b>Objective Value: -6.649379579649593</b>\",\"Trial #86<br>algorithm: xgb<br>learning_rate: 0.01240560912844289<br>max_depth: 8<br>subsample: 0.2704974479544986<br>colsample_bytree: 0.061997530866703454<br>min_child_weight: 15<br><b>Objective Value: 0.9113729713455464</b>\",\"Trial #107<br>algorithm: xgb<br>learning_rate: 0.010250741887711978<br>max_depth: 8<br>subsample: 0.699136270124052<br>colsample_bytree: 0.34676345983827406<br>min_child_weight: 6<br><b>Objective Value: 0.9456992597139712</b>\",\"Trial #129<br>algorithm: xgb<br>learning_rate: 0.00037758996511927124<br>max_depth: 3<br>subsample: 0.2213408681389885<br>colsample_bytree: 0.7364584373058741<br>min_child_weight: 15<br><b>Objective Value: -6.665047997522985</b>\",\"Trial #157<br>algorithm: xgb<br>learning_rate: 0.000484744276997372<br>max_depth: 8<br>subsample: 0.9855479934166286<br>colsample_bytree: 0.4680410649317334<br>min_child_weight: 5<br><b>Objective Value: -6.658982618518887</b>\",\"Trial #188<br>algorithm: xgb<br>learning_rate: 0.022432477519196928<br>max_depth: 5<br>subsample: 0.5819591447885447<br>colsample_bytree: 0.1949715272549276<br>min_child_weight: 13<br><b>Objective Value: 0.9467614990364478</b>\"],\"marker\":{\"color\":[\"rgb(54.0, 70.0, 157.0)\",\"rgb(67.0, 111.0, 177.0)\",\"rgb(49.0, 54.0, 149.0)\",\"rgb(65.0, 105.0, 174.0)\",\"rgb(55.0, 73.0, 158.0)\",\"rgb(50.0, 57.0, 151.0)\",\"rgb(76.0, 126.0, 185.0)\",\"rgb(53.0, 67.0, 155.0)\",\"rgb(69.0, 117.0, 180.0)\",\"rgb(114.0, 171.0, 208.0)\",\"rgb(51.0, 60.0, 152.0)\",\"rgb(52.0, 63.0, 154.0)\",\"rgb(144.0, 196.0, 221.0)\"],\"line\":{\"color\":\"Grey\",\"width\":0.5}},\"mode\":\"markers\",\"showlegend\":false,\"x\":[0.2965777047582458,0.8774623283402829,0.08773403630454318,0.9630028278354485,0.6157251098470551,0.5662117236927399,0.330480957357973,0.7802016742983691,0.061997530866703454,0.34676345983827406,0.7364584373058741,0.4680410649317334,0.1949715272549276],\"y\":[0.2965777047582458,0.8774623283402829,0.08773403630454318,0.9630028278354485,0.6157251098470551,0.5662117236927399,0.330480957357973,0.7802016742983691,0.061997530866703454,0.34676345983827406,0.7364584373058741,0.4680410649317334,0.1949715272549276],\"type\":\"scatter\",\"xaxis\":\"x17\",\"yaxis\":\"y17\"},{\"hovertemplate\":\"%{hovertext}<extra></extra>\",\"hovertext\":[\"Trial #8<br>algorithm: xgb<br>learning_rate: 0.0016114400564732941<br>max_depth: 10<br>subsample: 0.8558105105039219<br>colsample_bytree: 0.2965777047582458<br>min_child_weight: 9<br><b>Objective Value: -5.373464236107701</b>\",\"Trial #10<br>algorithm: xgb<br>learning_rate: 0.07748571364848593<br>max_depth: 1<br>subsample: 0.1081539403017378<br>colsample_bytree: 0.8774623283402829<br>min_child_weight: 20<br><b>Objective Value: 0.9057358214629305</b>\",\"Trial #16<br>algorithm: xgb<br>learning_rate: 0.0001093221261079389<br>max_depth: 6<br>subsample: 0.9975559933333737<br>colsample_bytree: 0.08773403630454318<br>min_child_weight: 1<br><b>Objective Value: -6.669394335705886</b>\",\"Trial #19<br>algorithm: xgb<br>learning_rate: 0.08019600545172129<br>max_depth: 1<br>subsample: 0.06393922828854465<br>colsample_bytree: 0.9630028278354485<br>min_child_weight: 20<br><b>Objective Value: 0.8811693917915496</b>\",\"Trial #29<br>algorithm: xgb<br>learning_rate: 0.0023166212634019153<br>max_depth: 10<br>subsample: 0.5235492940540687<br>colsample_bytree: 0.6157251098470551<br>min_child_weight: 10<br><b>Objective Value: -2.8957501035877273</b>\",\"Trial #47<br>algorithm: xgb<br>learning_rate: 0.00011521087399364599<br>max_depth: 6<br>subsample: 0.5277084716528383<br>colsample_bytree: 0.5662117236927399<br>min_child_weight: 1<br><b>Objective Value: -6.669368157650402</b>\",\"Trial #57<br>algorithm: xgb<br>learning_rate: 0.011236477438678406<br>max_depth: 4<br>subsample: 0.41151468106452377<br>colsample_bytree: 0.330480957357973<br>min_child_weight: 15<br><b>Objective Value: 0.9362219094296959</b>\",\"Trial #67<br>algorithm: xgb<br>learning_rate: 0.0005787891082612613<br>max_depth: 3<br>subsample: 0.7512158659814847<br>colsample_bytree: 0.7802016742983691<br>min_child_weight: 5<br><b>Objective Value: -6.649379579649593</b>\",\"Trial #86<br>algorithm: xgb<br>learning_rate: 0.01240560912844289<br>max_depth: 8<br>subsample: 0.2704974479544986<br>colsample_bytree: 0.061997530866703454<br>min_child_weight: 15<br><b>Objective Value: 0.9113729713455464</b>\",\"Trial #107<br>algorithm: xgb<br>learning_rate: 0.010250741887711978<br>max_depth: 8<br>subsample: 0.699136270124052<br>colsample_bytree: 0.34676345983827406<br>min_child_weight: 6<br><b>Objective Value: 0.9456992597139712</b>\",\"Trial #129<br>algorithm: xgb<br>learning_rate: 0.00037758996511927124<br>max_depth: 3<br>subsample: 0.2213408681389885<br>colsample_bytree: 0.7364584373058741<br>min_child_weight: 15<br><b>Objective Value: -6.665047997522985</b>\",\"Trial #157<br>algorithm: xgb<br>learning_rate: 0.000484744276997372<br>max_depth: 8<br>subsample: 0.9855479934166286<br>colsample_bytree: 0.4680410649317334<br>min_child_weight: 5<br><b>Objective Value: -6.658982618518887</b>\",\"Trial #188<br>algorithm: xgb<br>learning_rate: 0.022432477519196928<br>max_depth: 5<br>subsample: 0.5819591447885447<br>colsample_bytree: 0.1949715272549276<br>min_child_weight: 13<br><b>Objective Value: 0.9467614990364478</b>\"],\"marker\":{\"color\":[\"rgb(54.0, 70.0, 157.0)\",\"rgb(67.0, 111.0, 177.0)\",\"rgb(49.0, 54.0, 149.0)\",\"rgb(65.0, 105.0, 174.0)\",\"rgb(55.0, 73.0, 158.0)\",\"rgb(50.0, 57.0, 151.0)\",\"rgb(76.0, 126.0, 185.0)\",\"rgb(53.0, 67.0, 155.0)\",\"rgb(69.0, 117.0, 180.0)\",\"rgb(114.0, 171.0, 208.0)\",\"rgb(51.0, 60.0, 152.0)\",\"rgb(52.0, 63.0, 154.0)\",\"rgb(144.0, 196.0, 221.0)\"],\"line\":{\"color\":\"Grey\",\"width\":0.5}},\"mode\":\"markers\",\"showlegend\":false,\"x\":[0.2965777047582458,0.8774623283402829,0.08773403630454318,0.9630028278354485,0.6157251098470551,0.5662117236927399,0.330480957357973,0.7802016742983691,0.061997530866703454,0.34676345983827406,0.7364584373058741,0.4680410649317334,0.1949715272549276],\"y\":[0.0016114400564732941,0.07748571364848593,0.0001093221261079389,0.08019600545172129,0.0023166212634019153,0.00011521087399364599,0.011236477438678406,0.0005787891082612613,0.01240560912844289,0.010250741887711978,0.00037758996511927124,0.000484744276997372,0.022432477519196928],\"type\":\"scatter\",\"xaxis\":\"x24\",\"yaxis\":\"y24\"},{\"hovertemplate\":\"%{hovertext}<extra></extra>\",\"hovertext\":[\"Trial #8<br>algorithm: xgb<br>learning_rate: 0.0016114400564732941<br>max_depth: 10<br>subsample: 0.8558105105039219<br>colsample_bytree: 0.2965777047582458<br>min_child_weight: 9<br><b>Objective Value: -5.373464236107701</b>\",\"Trial #10<br>algorithm: xgb<br>learning_rate: 0.07748571364848593<br>max_depth: 1<br>subsample: 0.1081539403017378<br>colsample_bytree: 0.8774623283402829<br>min_child_weight: 20<br><b>Objective Value: 0.9057358214629305</b>\",\"Trial #16<br>algorithm: xgb<br>learning_rate: 0.0001093221261079389<br>max_depth: 6<br>subsample: 0.9975559933333737<br>colsample_bytree: 0.08773403630454318<br>min_child_weight: 1<br><b>Objective Value: -6.669394335705886</b>\",\"Trial #19<br>algorithm: xgb<br>learning_rate: 0.08019600545172129<br>max_depth: 1<br>subsample: 0.06393922828854465<br>colsample_bytree: 0.9630028278354485<br>min_child_weight: 20<br><b>Objective Value: 0.8811693917915496</b>\",\"Trial #29<br>algorithm: xgb<br>learning_rate: 0.0023166212634019153<br>max_depth: 10<br>subsample: 0.5235492940540687<br>colsample_bytree: 0.6157251098470551<br>min_child_weight: 10<br><b>Objective Value: -2.8957501035877273</b>\",\"Trial #47<br>algorithm: xgb<br>learning_rate: 0.00011521087399364599<br>max_depth: 6<br>subsample: 0.5277084716528383<br>colsample_bytree: 0.5662117236927399<br>min_child_weight: 1<br><b>Objective Value: -6.669368157650402</b>\",\"Trial #57<br>algorithm: xgb<br>learning_rate: 0.011236477438678406<br>max_depth: 4<br>subsample: 0.41151468106452377<br>colsample_bytree: 0.330480957357973<br>min_child_weight: 15<br><b>Objective Value: 0.9362219094296959</b>\",\"Trial #67<br>algorithm: xgb<br>learning_rate: 0.0005787891082612613<br>max_depth: 3<br>subsample: 0.7512158659814847<br>colsample_bytree: 0.7802016742983691<br>min_child_weight: 5<br><b>Objective Value: -6.649379579649593</b>\",\"Trial #86<br>algorithm: xgb<br>learning_rate: 0.01240560912844289<br>max_depth: 8<br>subsample: 0.2704974479544986<br>colsample_bytree: 0.061997530866703454<br>min_child_weight: 15<br><b>Objective Value: 0.9113729713455464</b>\",\"Trial #107<br>algorithm: xgb<br>learning_rate: 0.010250741887711978<br>max_depth: 8<br>subsample: 0.699136270124052<br>colsample_bytree: 0.34676345983827406<br>min_child_weight: 6<br><b>Objective Value: 0.9456992597139712</b>\",\"Trial #129<br>algorithm: xgb<br>learning_rate: 0.00037758996511927124<br>max_depth: 3<br>subsample: 0.2213408681389885<br>colsample_bytree: 0.7364584373058741<br>min_child_weight: 15<br><b>Objective Value: -6.665047997522985</b>\",\"Trial #157<br>algorithm: xgb<br>learning_rate: 0.000484744276997372<br>max_depth: 8<br>subsample: 0.9855479934166286<br>colsample_bytree: 0.4680410649317334<br>min_child_weight: 5<br><b>Objective Value: -6.658982618518887</b>\",\"Trial #188<br>algorithm: xgb<br>learning_rate: 0.022432477519196928<br>max_depth: 5<br>subsample: 0.5819591447885447<br>colsample_bytree: 0.1949715272549276<br>min_child_weight: 13<br><b>Objective Value: 0.9467614990364478</b>\"],\"marker\":{\"color\":[\"rgb(54.0, 70.0, 157.0)\",\"rgb(67.0, 111.0, 177.0)\",\"rgb(49.0, 54.0, 149.0)\",\"rgb(65.0, 105.0, 174.0)\",\"rgb(55.0, 73.0, 158.0)\",\"rgb(50.0, 57.0, 151.0)\",\"rgb(76.0, 126.0, 185.0)\",\"rgb(53.0, 67.0, 155.0)\",\"rgb(69.0, 117.0, 180.0)\",\"rgb(114.0, 171.0, 208.0)\",\"rgb(51.0, 60.0, 152.0)\",\"rgb(52.0, 63.0, 154.0)\",\"rgb(144.0, 196.0, 221.0)\"],\"line\":{\"color\":\"Grey\",\"width\":0.5}},\"mode\":\"markers\",\"showlegend\":false,\"x\":[0.2965777047582458,0.8774623283402829,0.08773403630454318,0.9630028278354485,0.6157251098470551,0.5662117236927399,0.330480957357973,0.7802016742983691,0.061997530866703454,0.34676345983827406,0.7364584373058741,0.4680410649317334,0.1949715272549276],\"y\":[10,1,6,1,10,6,4,3,8,8,3,8,5],\"type\":\"scatter\",\"xaxis\":\"x31\",\"yaxis\":\"y31\"},{\"hovertemplate\":\"%{hovertext}<extra></extra>\",\"hovertext\":[\"Trial #8<br>algorithm: xgb<br>learning_rate: 0.0016114400564732941<br>max_depth: 10<br>subsample: 0.8558105105039219<br>colsample_bytree: 0.2965777047582458<br>min_child_weight: 9<br><b>Objective Value: -5.373464236107701</b>\",\"Trial #10<br>algorithm: xgb<br>learning_rate: 0.07748571364848593<br>max_depth: 1<br>subsample: 0.1081539403017378<br>colsample_bytree: 0.8774623283402829<br>min_child_weight: 20<br><b>Objective Value: 0.9057358214629305</b>\",\"Trial #16<br>algorithm: xgb<br>learning_rate: 0.0001093221261079389<br>max_depth: 6<br>subsample: 0.9975559933333737<br>colsample_bytree: 0.08773403630454318<br>min_child_weight: 1<br><b>Objective Value: -6.669394335705886</b>\",\"Trial #19<br>algorithm: xgb<br>learning_rate: 0.08019600545172129<br>max_depth: 1<br>subsample: 0.06393922828854465<br>colsample_bytree: 0.9630028278354485<br>min_child_weight: 20<br><b>Objective Value: 0.8811693917915496</b>\",\"Trial #29<br>algorithm: xgb<br>learning_rate: 0.0023166212634019153<br>max_depth: 10<br>subsample: 0.5235492940540687<br>colsample_bytree: 0.6157251098470551<br>min_child_weight: 10<br><b>Objective Value: -2.8957501035877273</b>\",\"Trial #47<br>algorithm: xgb<br>learning_rate: 0.00011521087399364599<br>max_depth: 6<br>subsample: 0.5277084716528383<br>colsample_bytree: 0.5662117236927399<br>min_child_weight: 1<br><b>Objective Value: -6.669368157650402</b>\",\"Trial #57<br>algorithm: xgb<br>learning_rate: 0.011236477438678406<br>max_depth: 4<br>subsample: 0.41151468106452377<br>colsample_bytree: 0.330480957357973<br>min_child_weight: 15<br><b>Objective Value: 0.9362219094296959</b>\",\"Trial #67<br>algorithm: xgb<br>learning_rate: 0.0005787891082612613<br>max_depth: 3<br>subsample: 0.7512158659814847<br>colsample_bytree: 0.7802016742983691<br>min_child_weight: 5<br><b>Objective Value: -6.649379579649593</b>\",\"Trial #86<br>algorithm: xgb<br>learning_rate: 0.01240560912844289<br>max_depth: 8<br>subsample: 0.2704974479544986<br>colsample_bytree: 0.061997530866703454<br>min_child_weight: 15<br><b>Objective Value: 0.9113729713455464</b>\",\"Trial #107<br>algorithm: xgb<br>learning_rate: 0.010250741887711978<br>max_depth: 8<br>subsample: 0.699136270124052<br>colsample_bytree: 0.34676345983827406<br>min_child_weight: 6<br><b>Objective Value: 0.9456992597139712</b>\",\"Trial #129<br>algorithm: xgb<br>learning_rate: 0.00037758996511927124<br>max_depth: 3<br>subsample: 0.2213408681389885<br>colsample_bytree: 0.7364584373058741<br>min_child_weight: 15<br><b>Objective Value: -6.665047997522985</b>\",\"Trial #157<br>algorithm: xgb<br>learning_rate: 0.000484744276997372<br>max_depth: 8<br>subsample: 0.9855479934166286<br>colsample_bytree: 0.4680410649317334<br>min_child_weight: 5<br><b>Objective Value: -6.658982618518887</b>\",\"Trial #188<br>algorithm: xgb<br>learning_rate: 0.022432477519196928<br>max_depth: 5<br>subsample: 0.5819591447885447<br>colsample_bytree: 0.1949715272549276<br>min_child_weight: 13<br><b>Objective Value: 0.9467614990364478</b>\"],\"marker\":{\"color\":[\"rgb(54.0, 70.0, 157.0)\",\"rgb(67.0, 111.0, 177.0)\",\"rgb(49.0, 54.0, 149.0)\",\"rgb(65.0, 105.0, 174.0)\",\"rgb(55.0, 73.0, 158.0)\",\"rgb(50.0, 57.0, 151.0)\",\"rgb(76.0, 126.0, 185.0)\",\"rgb(53.0, 67.0, 155.0)\",\"rgb(69.0, 117.0, 180.0)\",\"rgb(114.0, 171.0, 208.0)\",\"rgb(51.0, 60.0, 152.0)\",\"rgb(52.0, 63.0, 154.0)\",\"rgb(144.0, 196.0, 221.0)\"],\"line\":{\"color\":\"Grey\",\"width\":0.5}},\"mode\":\"markers\",\"showlegend\":false,\"x\":[0.2965777047582458,0.8774623283402829,0.08773403630454318,0.9630028278354485,0.6157251098470551,0.5662117236927399,0.330480957357973,0.7802016742983691,0.061997530866703454,0.34676345983827406,0.7364584373058741,0.4680410649317334,0.1949715272549276],\"y\":[9,20,1,20,10,1,15,5,15,6,15,5,13],\"type\":\"scatter\",\"xaxis\":\"x38\",\"yaxis\":\"y38\"},{\"hovertemplate\":\"%{hovertext}<extra></extra>\",\"hovertext\":[\"Trial #8<br>algorithm: xgb<br>learning_rate: 0.0016114400564732941<br>max_depth: 10<br>subsample: 0.8558105105039219<br>colsample_bytree: 0.2965777047582458<br>min_child_weight: 9<br><b>Objective Value: -5.373464236107701</b>\",\"Trial #10<br>algorithm: xgb<br>learning_rate: 0.07748571364848593<br>max_depth: 1<br>subsample: 0.1081539403017378<br>colsample_bytree: 0.8774623283402829<br>min_child_weight: 20<br><b>Objective Value: 0.9057358214629305</b>\",\"Trial #16<br>algorithm: xgb<br>learning_rate: 0.0001093221261079389<br>max_depth: 6<br>subsample: 0.9975559933333737<br>colsample_bytree: 0.08773403630454318<br>min_child_weight: 1<br><b>Objective Value: -6.669394335705886</b>\",\"Trial #19<br>algorithm: xgb<br>learning_rate: 0.08019600545172129<br>max_depth: 1<br>subsample: 0.06393922828854465<br>colsample_bytree: 0.9630028278354485<br>min_child_weight: 20<br><b>Objective Value: 0.8811693917915496</b>\",\"Trial #29<br>algorithm: xgb<br>learning_rate: 0.0023166212634019153<br>max_depth: 10<br>subsample: 0.5235492940540687<br>colsample_bytree: 0.6157251098470551<br>min_child_weight: 10<br><b>Objective Value: -2.8957501035877273</b>\",\"Trial #47<br>algorithm: xgb<br>learning_rate: 0.00011521087399364599<br>max_depth: 6<br>subsample: 0.5277084716528383<br>colsample_bytree: 0.5662117236927399<br>min_child_weight: 1<br><b>Objective Value: -6.669368157650402</b>\",\"Trial #57<br>algorithm: xgb<br>learning_rate: 0.011236477438678406<br>max_depth: 4<br>subsample: 0.41151468106452377<br>colsample_bytree: 0.330480957357973<br>min_child_weight: 15<br><b>Objective Value: 0.9362219094296959</b>\",\"Trial #67<br>algorithm: xgb<br>learning_rate: 0.0005787891082612613<br>max_depth: 3<br>subsample: 0.7512158659814847<br>colsample_bytree: 0.7802016742983691<br>min_child_weight: 5<br><b>Objective Value: -6.649379579649593</b>\",\"Trial #86<br>algorithm: xgb<br>learning_rate: 0.01240560912844289<br>max_depth: 8<br>subsample: 0.2704974479544986<br>colsample_bytree: 0.061997530866703454<br>min_child_weight: 15<br><b>Objective Value: 0.9113729713455464</b>\",\"Trial #107<br>algorithm: xgb<br>learning_rate: 0.010250741887711978<br>max_depth: 8<br>subsample: 0.699136270124052<br>colsample_bytree: 0.34676345983827406<br>min_child_weight: 6<br><b>Objective Value: 0.9456992597139712</b>\",\"Trial #129<br>algorithm: xgb<br>learning_rate: 0.00037758996511927124<br>max_depth: 3<br>subsample: 0.2213408681389885<br>colsample_bytree: 0.7364584373058741<br>min_child_weight: 15<br><b>Objective Value: -6.665047997522985</b>\",\"Trial #157<br>algorithm: xgb<br>learning_rate: 0.000484744276997372<br>max_depth: 8<br>subsample: 0.9855479934166286<br>colsample_bytree: 0.4680410649317334<br>min_child_weight: 5<br><b>Objective Value: -6.658982618518887</b>\",\"Trial #188<br>algorithm: xgb<br>learning_rate: 0.022432477519196928<br>max_depth: 5<br>subsample: 0.5819591447885447<br>colsample_bytree: 0.1949715272549276<br>min_child_weight: 13<br><b>Objective Value: 0.9467614990364478</b>\"],\"marker\":{\"color\":[\"rgb(54.0, 70.0, 157.0)\",\"rgb(67.0, 111.0, 177.0)\",\"rgb(49.0, 54.0, 149.0)\",\"rgb(65.0, 105.0, 174.0)\",\"rgb(55.0, 73.0, 158.0)\",\"rgb(50.0, 57.0, 151.0)\",\"rgb(76.0, 126.0, 185.0)\",\"rgb(53.0, 67.0, 155.0)\",\"rgb(69.0, 117.0, 180.0)\",\"rgb(114.0, 171.0, 208.0)\",\"rgb(51.0, 60.0, 152.0)\",\"rgb(52.0, 63.0, 154.0)\",\"rgb(144.0, 196.0, 221.0)\"],\"line\":{\"color\":\"Grey\",\"width\":0.5}},\"mode\":\"markers\",\"showlegend\":false,\"x\":[0.2965777047582458,0.8774623283402829,0.08773403630454318,0.9630028278354485,0.6157251098470551,0.5662117236927399,0.330480957357973,0.7802016742983691,0.061997530866703454,0.34676345983827406,0.7364584373058741,0.4680410649317334,0.1949715272549276],\"y\":[0.8558105105039219,0.1081539403017378,0.9975559933333737,0.06393922828854465,0.5235492940540687,0.5277084716528383,0.41151468106452377,0.7512158659814847,0.2704974479544986,0.699136270124052,0.2213408681389885,0.9855479934166286,0.5819591447885447],\"type\":\"scatter\",\"xaxis\":\"x45\",\"yaxis\":\"y45\"},{\"hovertemplate\":\"%{hovertext}<extra></extra>\",\"hovertext\":[\"Trial #8<br>algorithm: xgb<br>learning_rate: 0.0016114400564732941<br>max_depth: 10<br>subsample: 0.8558105105039219<br>colsample_bytree: 0.2965777047582458<br>min_child_weight: 9<br><b>Objective Value: -5.373464236107701</b>\",\"Trial #10<br>algorithm: xgb<br>learning_rate: 0.07748571364848593<br>max_depth: 1<br>subsample: 0.1081539403017378<br>colsample_bytree: 0.8774623283402829<br>min_child_weight: 20<br><b>Objective Value: 0.9057358214629305</b>\",\"Trial #16<br>algorithm: xgb<br>learning_rate: 0.0001093221261079389<br>max_depth: 6<br>subsample: 0.9975559933333737<br>colsample_bytree: 0.08773403630454318<br>min_child_weight: 1<br><b>Objective Value: -6.669394335705886</b>\",\"Trial #19<br>algorithm: xgb<br>learning_rate: 0.08019600545172129<br>max_depth: 1<br>subsample: 0.06393922828854465<br>colsample_bytree: 0.9630028278354485<br>min_child_weight: 20<br><b>Objective Value: 0.8811693917915496</b>\",\"Trial #29<br>algorithm: xgb<br>learning_rate: 0.0023166212634019153<br>max_depth: 10<br>subsample: 0.5235492940540687<br>colsample_bytree: 0.6157251098470551<br>min_child_weight: 10<br><b>Objective Value: -2.8957501035877273</b>\",\"Trial #47<br>algorithm: xgb<br>learning_rate: 0.00011521087399364599<br>max_depth: 6<br>subsample: 0.5277084716528383<br>colsample_bytree: 0.5662117236927399<br>min_child_weight: 1<br><b>Objective Value: -6.669368157650402</b>\",\"Trial #57<br>algorithm: xgb<br>learning_rate: 0.011236477438678406<br>max_depth: 4<br>subsample: 0.41151468106452377<br>colsample_bytree: 0.330480957357973<br>min_child_weight: 15<br><b>Objective Value: 0.9362219094296959</b>\",\"Trial #67<br>algorithm: xgb<br>learning_rate: 0.0005787891082612613<br>max_depth: 3<br>subsample: 0.7512158659814847<br>colsample_bytree: 0.7802016742983691<br>min_child_weight: 5<br><b>Objective Value: -6.649379579649593</b>\",\"Trial #86<br>algorithm: xgb<br>learning_rate: 0.01240560912844289<br>max_depth: 8<br>subsample: 0.2704974479544986<br>colsample_bytree: 0.061997530866703454<br>min_child_weight: 15<br><b>Objective Value: 0.9113729713455464</b>\",\"Trial #107<br>algorithm: xgb<br>learning_rate: 0.010250741887711978<br>max_depth: 8<br>subsample: 0.699136270124052<br>colsample_bytree: 0.34676345983827406<br>min_child_weight: 6<br><b>Objective Value: 0.9456992597139712</b>\",\"Trial #129<br>algorithm: xgb<br>learning_rate: 0.00037758996511927124<br>max_depth: 3<br>subsample: 0.2213408681389885<br>colsample_bytree: 0.7364584373058741<br>min_child_weight: 15<br><b>Objective Value: -6.665047997522985</b>\",\"Trial #157<br>algorithm: xgb<br>learning_rate: 0.000484744276997372<br>max_depth: 8<br>subsample: 0.9855479934166286<br>colsample_bytree: 0.4680410649317334<br>min_child_weight: 5<br><b>Objective Value: -6.658982618518887</b>\",\"Trial #188<br>algorithm: xgb<br>learning_rate: 0.022432477519196928<br>max_depth: 5<br>subsample: 0.5819591447885447<br>colsample_bytree: 0.1949715272549276<br>min_child_weight: 13<br><b>Objective Value: 0.9467614990364478</b>\"],\"marker\":{\"color\":[\"rgb(54.0, 70.0, 157.0)\",\"rgb(67.0, 111.0, 177.0)\",\"rgb(49.0, 54.0, 149.0)\",\"rgb(65.0, 105.0, 174.0)\",\"rgb(55.0, 73.0, 158.0)\",\"rgb(50.0, 57.0, 151.0)\",\"rgb(76.0, 126.0, 185.0)\",\"rgb(53.0, 67.0, 155.0)\",\"rgb(69.0, 117.0, 180.0)\",\"rgb(114.0, 171.0, 208.0)\",\"rgb(51.0, 60.0, 152.0)\",\"rgb(52.0, 63.0, 154.0)\",\"rgb(144.0, 196.0, 221.0)\"],\"line\":{\"color\":\"Grey\",\"width\":0.5}},\"mode\":\"markers\",\"showlegend\":false,\"x\":[0.0016114400564732941,0.07748571364848593,0.0001093221261079389,0.08019600545172129,0.0023166212634019153,0.00011521087399364599,0.011236477438678406,0.0005787891082612613,0.01240560912844289,0.010250741887711978,0.00037758996511927124,0.000484744276997372,0.022432477519196928],\"y\":[\"xgb\",\"xgb\",\"xgb\",\"xgb\",\"xgb\",\"xgb\",\"xgb\",\"xgb\",\"xgb\",\"xgb\",\"xgb\",\"xgb\",\"xgb\"],\"type\":\"scatter\",\"xaxis\":\"x4\",\"yaxis\":\"y4\"},{\"hovertemplate\":\"%{hovertext}<extra></extra>\",\"hovertext\":[],\"marker\":{\"color\":[],\"line\":{\"color\":\"Grey\",\"width\":0.5}},\"mode\":\"markers\",\"showlegend\":false,\"x\":[],\"y\":[],\"type\":\"scatter\",\"xaxis\":\"x11\",\"yaxis\":\"y11\"},{\"hovertemplate\":\"%{hovertext}<extra></extra>\",\"hovertext\":[\"Trial #8<br>algorithm: xgb<br>learning_rate: 0.0016114400564732941<br>max_depth: 10<br>subsample: 0.8558105105039219<br>colsample_bytree: 0.2965777047582458<br>min_child_weight: 9<br><b>Objective Value: -5.373464236107701</b>\",\"Trial #10<br>algorithm: xgb<br>learning_rate: 0.07748571364848593<br>max_depth: 1<br>subsample: 0.1081539403017378<br>colsample_bytree: 0.8774623283402829<br>min_child_weight: 20<br><b>Objective Value: 0.9057358214629305</b>\",\"Trial #16<br>algorithm: xgb<br>learning_rate: 0.0001093221261079389<br>max_depth: 6<br>subsample: 0.9975559933333737<br>colsample_bytree: 0.08773403630454318<br>min_child_weight: 1<br><b>Objective Value: -6.669394335705886</b>\",\"Trial #19<br>algorithm: xgb<br>learning_rate: 0.08019600545172129<br>max_depth: 1<br>subsample: 0.06393922828854465<br>colsample_bytree: 0.9630028278354485<br>min_child_weight: 20<br><b>Objective Value: 0.8811693917915496</b>\",\"Trial #29<br>algorithm: xgb<br>learning_rate: 0.0023166212634019153<br>max_depth: 10<br>subsample: 0.5235492940540687<br>colsample_bytree: 0.6157251098470551<br>min_child_weight: 10<br><b>Objective Value: -2.8957501035877273</b>\",\"Trial #47<br>algorithm: xgb<br>learning_rate: 0.00011521087399364599<br>max_depth: 6<br>subsample: 0.5277084716528383<br>colsample_bytree: 0.5662117236927399<br>min_child_weight: 1<br><b>Objective Value: -6.669368157650402</b>\",\"Trial #57<br>algorithm: xgb<br>learning_rate: 0.011236477438678406<br>max_depth: 4<br>subsample: 0.41151468106452377<br>colsample_bytree: 0.330480957357973<br>min_child_weight: 15<br><b>Objective Value: 0.9362219094296959</b>\",\"Trial #67<br>algorithm: xgb<br>learning_rate: 0.0005787891082612613<br>max_depth: 3<br>subsample: 0.7512158659814847<br>colsample_bytree: 0.7802016742983691<br>min_child_weight: 5<br><b>Objective Value: -6.649379579649593</b>\",\"Trial #86<br>algorithm: xgb<br>learning_rate: 0.01240560912844289<br>max_depth: 8<br>subsample: 0.2704974479544986<br>colsample_bytree: 0.061997530866703454<br>min_child_weight: 15<br><b>Objective Value: 0.9113729713455464</b>\",\"Trial #107<br>algorithm: xgb<br>learning_rate: 0.010250741887711978<br>max_depth: 8<br>subsample: 0.699136270124052<br>colsample_bytree: 0.34676345983827406<br>min_child_weight: 6<br><b>Objective Value: 0.9456992597139712</b>\",\"Trial #129<br>algorithm: xgb<br>learning_rate: 0.00037758996511927124<br>max_depth: 3<br>subsample: 0.2213408681389885<br>colsample_bytree: 0.7364584373058741<br>min_child_weight: 15<br><b>Objective Value: -6.665047997522985</b>\",\"Trial #157<br>algorithm: xgb<br>learning_rate: 0.000484744276997372<br>max_depth: 8<br>subsample: 0.9855479934166286<br>colsample_bytree: 0.4680410649317334<br>min_child_weight: 5<br><b>Objective Value: -6.658982618518887</b>\",\"Trial #188<br>algorithm: xgb<br>learning_rate: 0.022432477519196928<br>max_depth: 5<br>subsample: 0.5819591447885447<br>colsample_bytree: 0.1949715272549276<br>min_child_weight: 13<br><b>Objective Value: 0.9467614990364478</b>\"],\"marker\":{\"color\":[\"rgb(54.0, 70.0, 157.0)\",\"rgb(67.0, 111.0, 177.0)\",\"rgb(49.0, 54.0, 149.0)\",\"rgb(65.0, 105.0, 174.0)\",\"rgb(55.0, 73.0, 158.0)\",\"rgb(50.0, 57.0, 151.0)\",\"rgb(76.0, 126.0, 185.0)\",\"rgb(53.0, 67.0, 155.0)\",\"rgb(69.0, 117.0, 180.0)\",\"rgb(114.0, 171.0, 208.0)\",\"rgb(51.0, 60.0, 152.0)\",\"rgb(52.0, 63.0, 154.0)\",\"rgb(144.0, 196.0, 221.0)\"],\"line\":{\"color\":\"Grey\",\"width\":0.5}},\"mode\":\"markers\",\"showlegend\":false,\"x\":[0.0016114400564732941,0.07748571364848593,0.0001093221261079389,0.08019600545172129,0.0023166212634019153,0.00011521087399364599,0.011236477438678406,0.0005787891082612613,0.01240560912844289,0.010250741887711978,0.00037758996511927124,0.000484744276997372,0.022432477519196928],\"y\":[0.2965777047582458,0.8774623283402829,0.08773403630454318,0.9630028278354485,0.6157251098470551,0.5662117236927399,0.330480957357973,0.7802016742983691,0.061997530866703454,0.34676345983827406,0.7364584373058741,0.4680410649317334,0.1949715272549276],\"type\":\"scatter\",\"xaxis\":\"x18\",\"yaxis\":\"y18\"},{\"hovertemplate\":\"%{hovertext}<extra></extra>\",\"hovertext\":[\"Trial #8<br>algorithm: xgb<br>learning_rate: 0.0016114400564732941<br>max_depth: 10<br>subsample: 0.8558105105039219<br>colsample_bytree: 0.2965777047582458<br>min_child_weight: 9<br><b>Objective Value: -5.373464236107701</b>\",\"Trial #10<br>algorithm: xgb<br>learning_rate: 0.07748571364848593<br>max_depth: 1<br>subsample: 0.1081539403017378<br>colsample_bytree: 0.8774623283402829<br>min_child_weight: 20<br><b>Objective Value: 0.9057358214629305</b>\",\"Trial #16<br>algorithm: xgb<br>learning_rate: 0.0001093221261079389<br>max_depth: 6<br>subsample: 0.9975559933333737<br>colsample_bytree: 0.08773403630454318<br>min_child_weight: 1<br><b>Objective Value: -6.669394335705886</b>\",\"Trial #19<br>algorithm: xgb<br>learning_rate: 0.08019600545172129<br>max_depth: 1<br>subsample: 0.06393922828854465<br>colsample_bytree: 0.9630028278354485<br>min_child_weight: 20<br><b>Objective Value: 0.8811693917915496</b>\",\"Trial #29<br>algorithm: xgb<br>learning_rate: 0.0023166212634019153<br>max_depth: 10<br>subsample: 0.5235492940540687<br>colsample_bytree: 0.6157251098470551<br>min_child_weight: 10<br><b>Objective Value: -2.8957501035877273</b>\",\"Trial #47<br>algorithm: xgb<br>learning_rate: 0.00011521087399364599<br>max_depth: 6<br>subsample: 0.5277084716528383<br>colsample_bytree: 0.5662117236927399<br>min_child_weight: 1<br><b>Objective Value: -6.669368157650402</b>\",\"Trial #57<br>algorithm: xgb<br>learning_rate: 0.011236477438678406<br>max_depth: 4<br>subsample: 0.41151468106452377<br>colsample_bytree: 0.330480957357973<br>min_child_weight: 15<br><b>Objective Value: 0.9362219094296959</b>\",\"Trial #67<br>algorithm: xgb<br>learning_rate: 0.0005787891082612613<br>max_depth: 3<br>subsample: 0.7512158659814847<br>colsample_bytree: 0.7802016742983691<br>min_child_weight: 5<br><b>Objective Value: -6.649379579649593</b>\",\"Trial #86<br>algorithm: xgb<br>learning_rate: 0.01240560912844289<br>max_depth: 8<br>subsample: 0.2704974479544986<br>colsample_bytree: 0.061997530866703454<br>min_child_weight: 15<br><b>Objective Value: 0.9113729713455464</b>\",\"Trial #107<br>algorithm: xgb<br>learning_rate: 0.010250741887711978<br>max_depth: 8<br>subsample: 0.699136270124052<br>colsample_bytree: 0.34676345983827406<br>min_child_weight: 6<br><b>Objective Value: 0.9456992597139712</b>\",\"Trial #129<br>algorithm: xgb<br>learning_rate: 0.00037758996511927124<br>max_depth: 3<br>subsample: 0.2213408681389885<br>colsample_bytree: 0.7364584373058741<br>min_child_weight: 15<br><b>Objective Value: -6.665047997522985</b>\",\"Trial #157<br>algorithm: xgb<br>learning_rate: 0.000484744276997372<br>max_depth: 8<br>subsample: 0.9855479934166286<br>colsample_bytree: 0.4680410649317334<br>min_child_weight: 5<br><b>Objective Value: -6.658982618518887</b>\",\"Trial #188<br>algorithm: xgb<br>learning_rate: 0.022432477519196928<br>max_depth: 5<br>subsample: 0.5819591447885447<br>colsample_bytree: 0.1949715272549276<br>min_child_weight: 13<br><b>Objective Value: 0.9467614990364478</b>\"],\"marker\":{\"color\":[\"rgb(54.0, 70.0, 157.0)\",\"rgb(67.0, 111.0, 177.0)\",\"rgb(49.0, 54.0, 149.0)\",\"rgb(65.0, 105.0, 174.0)\",\"rgb(55.0, 73.0, 158.0)\",\"rgb(50.0, 57.0, 151.0)\",\"rgb(76.0, 126.0, 185.0)\",\"rgb(53.0, 67.0, 155.0)\",\"rgb(69.0, 117.0, 180.0)\",\"rgb(114.0, 171.0, 208.0)\",\"rgb(51.0, 60.0, 152.0)\",\"rgb(52.0, 63.0, 154.0)\",\"rgb(144.0, 196.0, 221.0)\"],\"line\":{\"color\":\"Grey\",\"width\":0.5}},\"mode\":\"markers\",\"showlegend\":false,\"x\":[0.0016114400564732941,0.07748571364848593,0.0001093221261079389,0.08019600545172129,0.0023166212634019153,0.00011521087399364599,0.011236477438678406,0.0005787891082612613,0.01240560912844289,0.010250741887711978,0.00037758996511927124,0.000484744276997372,0.022432477519196928],\"y\":[0.0016114400564732941,0.07748571364848593,0.0001093221261079389,0.08019600545172129,0.0023166212634019153,0.00011521087399364599,0.011236477438678406,0.0005787891082612613,0.01240560912844289,0.010250741887711978,0.00037758996511927124,0.000484744276997372,0.022432477519196928],\"type\":\"scatter\",\"xaxis\":\"x25\",\"yaxis\":\"y25\"},{\"hovertemplate\":\"%{hovertext}<extra></extra>\",\"hovertext\":[\"Trial #8<br>algorithm: xgb<br>learning_rate: 0.0016114400564732941<br>max_depth: 10<br>subsample: 0.8558105105039219<br>colsample_bytree: 0.2965777047582458<br>min_child_weight: 9<br><b>Objective Value: -5.373464236107701</b>\",\"Trial #10<br>algorithm: xgb<br>learning_rate: 0.07748571364848593<br>max_depth: 1<br>subsample: 0.1081539403017378<br>colsample_bytree: 0.8774623283402829<br>min_child_weight: 20<br><b>Objective Value: 0.9057358214629305</b>\",\"Trial #16<br>algorithm: xgb<br>learning_rate: 0.0001093221261079389<br>max_depth: 6<br>subsample: 0.9975559933333737<br>colsample_bytree: 0.08773403630454318<br>min_child_weight: 1<br><b>Objective Value: -6.669394335705886</b>\",\"Trial #19<br>algorithm: xgb<br>learning_rate: 0.08019600545172129<br>max_depth: 1<br>subsample: 0.06393922828854465<br>colsample_bytree: 0.9630028278354485<br>min_child_weight: 20<br><b>Objective Value: 0.8811693917915496</b>\",\"Trial #29<br>algorithm: xgb<br>learning_rate: 0.0023166212634019153<br>max_depth: 10<br>subsample: 0.5235492940540687<br>colsample_bytree: 0.6157251098470551<br>min_child_weight: 10<br><b>Objective Value: -2.8957501035877273</b>\",\"Trial #47<br>algorithm: xgb<br>learning_rate: 0.00011521087399364599<br>max_depth: 6<br>subsample: 0.5277084716528383<br>colsample_bytree: 0.5662117236927399<br>min_child_weight: 1<br><b>Objective Value: -6.669368157650402</b>\",\"Trial #57<br>algorithm: xgb<br>learning_rate: 0.011236477438678406<br>max_depth: 4<br>subsample: 0.41151468106452377<br>colsample_bytree: 0.330480957357973<br>min_child_weight: 15<br><b>Objective Value: 0.9362219094296959</b>\",\"Trial #67<br>algorithm: xgb<br>learning_rate: 0.0005787891082612613<br>max_depth: 3<br>subsample: 0.7512158659814847<br>colsample_bytree: 0.7802016742983691<br>min_child_weight: 5<br><b>Objective Value: -6.649379579649593</b>\",\"Trial #86<br>algorithm: xgb<br>learning_rate: 0.01240560912844289<br>max_depth: 8<br>subsample: 0.2704974479544986<br>colsample_bytree: 0.061997530866703454<br>min_child_weight: 15<br><b>Objective Value: 0.9113729713455464</b>\",\"Trial #107<br>algorithm: xgb<br>learning_rate: 0.010250741887711978<br>max_depth: 8<br>subsample: 0.699136270124052<br>colsample_bytree: 0.34676345983827406<br>min_child_weight: 6<br><b>Objective Value: 0.9456992597139712</b>\",\"Trial #129<br>algorithm: xgb<br>learning_rate: 0.00037758996511927124<br>max_depth: 3<br>subsample: 0.2213408681389885<br>colsample_bytree: 0.7364584373058741<br>min_child_weight: 15<br><b>Objective Value: -6.665047997522985</b>\",\"Trial #157<br>algorithm: xgb<br>learning_rate: 0.000484744276997372<br>max_depth: 8<br>subsample: 0.9855479934166286<br>colsample_bytree: 0.4680410649317334<br>min_child_weight: 5<br><b>Objective Value: -6.658982618518887</b>\",\"Trial #188<br>algorithm: xgb<br>learning_rate: 0.022432477519196928<br>max_depth: 5<br>subsample: 0.5819591447885447<br>colsample_bytree: 0.1949715272549276<br>min_child_weight: 13<br><b>Objective Value: 0.9467614990364478</b>\"],\"marker\":{\"color\":[\"rgb(54.0, 70.0, 157.0)\",\"rgb(67.0, 111.0, 177.0)\",\"rgb(49.0, 54.0, 149.0)\",\"rgb(65.0, 105.0, 174.0)\",\"rgb(55.0, 73.0, 158.0)\",\"rgb(50.0, 57.0, 151.0)\",\"rgb(76.0, 126.0, 185.0)\",\"rgb(53.0, 67.0, 155.0)\",\"rgb(69.0, 117.0, 180.0)\",\"rgb(114.0, 171.0, 208.0)\",\"rgb(51.0, 60.0, 152.0)\",\"rgb(52.0, 63.0, 154.0)\",\"rgb(144.0, 196.0, 221.0)\"],\"line\":{\"color\":\"Grey\",\"width\":0.5}},\"mode\":\"markers\",\"showlegend\":false,\"x\":[0.0016114400564732941,0.07748571364848593,0.0001093221261079389,0.08019600545172129,0.0023166212634019153,0.00011521087399364599,0.011236477438678406,0.0005787891082612613,0.01240560912844289,0.010250741887711978,0.00037758996511927124,0.000484744276997372,0.022432477519196928],\"y\":[10,1,6,1,10,6,4,3,8,8,3,8,5],\"type\":\"scatter\",\"xaxis\":\"x32\",\"yaxis\":\"y32\"},{\"hovertemplate\":\"%{hovertext}<extra></extra>\",\"hovertext\":[\"Trial #8<br>algorithm: xgb<br>learning_rate: 0.0016114400564732941<br>max_depth: 10<br>subsample: 0.8558105105039219<br>colsample_bytree: 0.2965777047582458<br>min_child_weight: 9<br><b>Objective Value: -5.373464236107701</b>\",\"Trial #10<br>algorithm: xgb<br>learning_rate: 0.07748571364848593<br>max_depth: 1<br>subsample: 0.1081539403017378<br>colsample_bytree: 0.8774623283402829<br>min_child_weight: 20<br><b>Objective Value: 0.9057358214629305</b>\",\"Trial #16<br>algorithm: xgb<br>learning_rate: 0.0001093221261079389<br>max_depth: 6<br>subsample: 0.9975559933333737<br>colsample_bytree: 0.08773403630454318<br>min_child_weight: 1<br><b>Objective Value: -6.669394335705886</b>\",\"Trial #19<br>algorithm: xgb<br>learning_rate: 0.08019600545172129<br>max_depth: 1<br>subsample: 0.06393922828854465<br>colsample_bytree: 0.9630028278354485<br>min_child_weight: 20<br><b>Objective Value: 0.8811693917915496</b>\",\"Trial #29<br>algorithm: xgb<br>learning_rate: 0.0023166212634019153<br>max_depth: 10<br>subsample: 0.5235492940540687<br>colsample_bytree: 0.6157251098470551<br>min_child_weight: 10<br><b>Objective Value: -2.8957501035877273</b>\",\"Trial #47<br>algorithm: xgb<br>learning_rate: 0.00011521087399364599<br>max_depth: 6<br>subsample: 0.5277084716528383<br>colsample_bytree: 0.5662117236927399<br>min_child_weight: 1<br><b>Objective Value: -6.669368157650402</b>\",\"Trial #57<br>algorithm: xgb<br>learning_rate: 0.011236477438678406<br>max_depth: 4<br>subsample: 0.41151468106452377<br>colsample_bytree: 0.330480957357973<br>min_child_weight: 15<br><b>Objective Value: 0.9362219094296959</b>\",\"Trial #67<br>algorithm: xgb<br>learning_rate: 0.0005787891082612613<br>max_depth: 3<br>subsample: 0.7512158659814847<br>colsample_bytree: 0.7802016742983691<br>min_child_weight: 5<br><b>Objective Value: -6.649379579649593</b>\",\"Trial #86<br>algorithm: xgb<br>learning_rate: 0.01240560912844289<br>max_depth: 8<br>subsample: 0.2704974479544986<br>colsample_bytree: 0.061997530866703454<br>min_child_weight: 15<br><b>Objective Value: 0.9113729713455464</b>\",\"Trial #107<br>algorithm: xgb<br>learning_rate: 0.010250741887711978<br>max_depth: 8<br>subsample: 0.699136270124052<br>colsample_bytree: 0.34676345983827406<br>min_child_weight: 6<br><b>Objective Value: 0.9456992597139712</b>\",\"Trial #129<br>algorithm: xgb<br>learning_rate: 0.00037758996511927124<br>max_depth: 3<br>subsample: 0.2213408681389885<br>colsample_bytree: 0.7364584373058741<br>min_child_weight: 15<br><b>Objective Value: -6.665047997522985</b>\",\"Trial #157<br>algorithm: xgb<br>learning_rate: 0.000484744276997372<br>max_depth: 8<br>subsample: 0.9855479934166286<br>colsample_bytree: 0.4680410649317334<br>min_child_weight: 5<br><b>Objective Value: -6.658982618518887</b>\",\"Trial #188<br>algorithm: xgb<br>learning_rate: 0.022432477519196928<br>max_depth: 5<br>subsample: 0.5819591447885447<br>colsample_bytree: 0.1949715272549276<br>min_child_weight: 13<br><b>Objective Value: 0.9467614990364478</b>\"],\"marker\":{\"color\":[\"rgb(54.0, 70.0, 157.0)\",\"rgb(67.0, 111.0, 177.0)\",\"rgb(49.0, 54.0, 149.0)\",\"rgb(65.0, 105.0, 174.0)\",\"rgb(55.0, 73.0, 158.0)\",\"rgb(50.0, 57.0, 151.0)\",\"rgb(76.0, 126.0, 185.0)\",\"rgb(53.0, 67.0, 155.0)\",\"rgb(69.0, 117.0, 180.0)\",\"rgb(114.0, 171.0, 208.0)\",\"rgb(51.0, 60.0, 152.0)\",\"rgb(52.0, 63.0, 154.0)\",\"rgb(144.0, 196.0, 221.0)\"],\"line\":{\"color\":\"Grey\",\"width\":0.5}},\"mode\":\"markers\",\"showlegend\":false,\"x\":[0.0016114400564732941,0.07748571364848593,0.0001093221261079389,0.08019600545172129,0.0023166212634019153,0.00011521087399364599,0.011236477438678406,0.0005787891082612613,0.01240560912844289,0.010250741887711978,0.00037758996511927124,0.000484744276997372,0.022432477519196928],\"y\":[9,20,1,20,10,1,15,5,15,6,15,5,13],\"type\":\"scatter\",\"xaxis\":\"x39\",\"yaxis\":\"y39\"},{\"hovertemplate\":\"%{hovertext}<extra></extra>\",\"hovertext\":[\"Trial #8<br>algorithm: xgb<br>learning_rate: 0.0016114400564732941<br>max_depth: 10<br>subsample: 0.8558105105039219<br>colsample_bytree: 0.2965777047582458<br>min_child_weight: 9<br><b>Objective Value: -5.373464236107701</b>\",\"Trial #10<br>algorithm: xgb<br>learning_rate: 0.07748571364848593<br>max_depth: 1<br>subsample: 0.1081539403017378<br>colsample_bytree: 0.8774623283402829<br>min_child_weight: 20<br><b>Objective Value: 0.9057358214629305</b>\",\"Trial #16<br>algorithm: xgb<br>learning_rate: 0.0001093221261079389<br>max_depth: 6<br>subsample: 0.9975559933333737<br>colsample_bytree: 0.08773403630454318<br>min_child_weight: 1<br><b>Objective Value: -6.669394335705886</b>\",\"Trial #19<br>algorithm: xgb<br>learning_rate: 0.08019600545172129<br>max_depth: 1<br>subsample: 0.06393922828854465<br>colsample_bytree: 0.9630028278354485<br>min_child_weight: 20<br><b>Objective Value: 0.8811693917915496</b>\",\"Trial #29<br>algorithm: xgb<br>learning_rate: 0.0023166212634019153<br>max_depth: 10<br>subsample: 0.5235492940540687<br>colsample_bytree: 0.6157251098470551<br>min_child_weight: 10<br><b>Objective Value: -2.8957501035877273</b>\",\"Trial #47<br>algorithm: xgb<br>learning_rate: 0.00011521087399364599<br>max_depth: 6<br>subsample: 0.5277084716528383<br>colsample_bytree: 0.5662117236927399<br>min_child_weight: 1<br><b>Objective Value: -6.669368157650402</b>\",\"Trial #57<br>algorithm: xgb<br>learning_rate: 0.011236477438678406<br>max_depth: 4<br>subsample: 0.41151468106452377<br>colsample_bytree: 0.330480957357973<br>min_child_weight: 15<br><b>Objective Value: 0.9362219094296959</b>\",\"Trial #67<br>algorithm: xgb<br>learning_rate: 0.0005787891082612613<br>max_depth: 3<br>subsample: 0.7512158659814847<br>colsample_bytree: 0.7802016742983691<br>min_child_weight: 5<br><b>Objective Value: -6.649379579649593</b>\",\"Trial #86<br>algorithm: xgb<br>learning_rate: 0.01240560912844289<br>max_depth: 8<br>subsample: 0.2704974479544986<br>colsample_bytree: 0.061997530866703454<br>min_child_weight: 15<br><b>Objective Value: 0.9113729713455464</b>\",\"Trial #107<br>algorithm: xgb<br>learning_rate: 0.010250741887711978<br>max_depth: 8<br>subsample: 0.699136270124052<br>colsample_bytree: 0.34676345983827406<br>min_child_weight: 6<br><b>Objective Value: 0.9456992597139712</b>\",\"Trial #129<br>algorithm: xgb<br>learning_rate: 0.00037758996511927124<br>max_depth: 3<br>subsample: 0.2213408681389885<br>colsample_bytree: 0.7364584373058741<br>min_child_weight: 15<br><b>Objective Value: -6.665047997522985</b>\",\"Trial #157<br>algorithm: xgb<br>learning_rate: 0.000484744276997372<br>max_depth: 8<br>subsample: 0.9855479934166286<br>colsample_bytree: 0.4680410649317334<br>min_child_weight: 5<br><b>Objective Value: -6.658982618518887</b>\",\"Trial #188<br>algorithm: xgb<br>learning_rate: 0.022432477519196928<br>max_depth: 5<br>subsample: 0.5819591447885447<br>colsample_bytree: 0.1949715272549276<br>min_child_weight: 13<br><b>Objective Value: 0.9467614990364478</b>\"],\"marker\":{\"color\":[\"rgb(54.0, 70.0, 157.0)\",\"rgb(67.0, 111.0, 177.0)\",\"rgb(49.0, 54.0, 149.0)\",\"rgb(65.0, 105.0, 174.0)\",\"rgb(55.0, 73.0, 158.0)\",\"rgb(50.0, 57.0, 151.0)\",\"rgb(76.0, 126.0, 185.0)\",\"rgb(53.0, 67.0, 155.0)\",\"rgb(69.0, 117.0, 180.0)\",\"rgb(114.0, 171.0, 208.0)\",\"rgb(51.0, 60.0, 152.0)\",\"rgb(52.0, 63.0, 154.0)\",\"rgb(144.0, 196.0, 221.0)\"],\"line\":{\"color\":\"Grey\",\"width\":0.5}},\"mode\":\"markers\",\"showlegend\":false,\"x\":[0.0016114400564732941,0.07748571364848593,0.0001093221261079389,0.08019600545172129,0.0023166212634019153,0.00011521087399364599,0.011236477438678406,0.0005787891082612613,0.01240560912844289,0.010250741887711978,0.00037758996511927124,0.000484744276997372,0.022432477519196928],\"y\":[0.8558105105039219,0.1081539403017378,0.9975559933333737,0.06393922828854465,0.5235492940540687,0.5277084716528383,0.41151468106452377,0.7512158659814847,0.2704974479544986,0.699136270124052,0.2213408681389885,0.9855479934166286,0.5819591447885447],\"type\":\"scatter\",\"xaxis\":\"x46\",\"yaxis\":\"y46\"},{\"hovertemplate\":\"%{hovertext}<extra></extra>\",\"hovertext\":[\"Trial #8<br>algorithm: xgb<br>learning_rate: 0.0016114400564732941<br>max_depth: 10<br>subsample: 0.8558105105039219<br>colsample_bytree: 0.2965777047582458<br>min_child_weight: 9<br><b>Objective Value: -5.373464236107701</b>\",\"Trial #10<br>algorithm: xgb<br>learning_rate: 0.07748571364848593<br>max_depth: 1<br>subsample: 0.1081539403017378<br>colsample_bytree: 0.8774623283402829<br>min_child_weight: 20<br><b>Objective Value: 0.9057358214629305</b>\",\"Trial #16<br>algorithm: xgb<br>learning_rate: 0.0001093221261079389<br>max_depth: 6<br>subsample: 0.9975559933333737<br>colsample_bytree: 0.08773403630454318<br>min_child_weight: 1<br><b>Objective Value: -6.669394335705886</b>\",\"Trial #19<br>algorithm: xgb<br>learning_rate: 0.08019600545172129<br>max_depth: 1<br>subsample: 0.06393922828854465<br>colsample_bytree: 0.9630028278354485<br>min_child_weight: 20<br><b>Objective Value: 0.8811693917915496</b>\",\"Trial #29<br>algorithm: xgb<br>learning_rate: 0.0023166212634019153<br>max_depth: 10<br>subsample: 0.5235492940540687<br>colsample_bytree: 0.6157251098470551<br>min_child_weight: 10<br><b>Objective Value: -2.8957501035877273</b>\",\"Trial #47<br>algorithm: xgb<br>learning_rate: 0.00011521087399364599<br>max_depth: 6<br>subsample: 0.5277084716528383<br>colsample_bytree: 0.5662117236927399<br>min_child_weight: 1<br><b>Objective Value: -6.669368157650402</b>\",\"Trial #57<br>algorithm: xgb<br>learning_rate: 0.011236477438678406<br>max_depth: 4<br>subsample: 0.41151468106452377<br>colsample_bytree: 0.330480957357973<br>min_child_weight: 15<br><b>Objective Value: 0.9362219094296959</b>\",\"Trial #67<br>algorithm: xgb<br>learning_rate: 0.0005787891082612613<br>max_depth: 3<br>subsample: 0.7512158659814847<br>colsample_bytree: 0.7802016742983691<br>min_child_weight: 5<br><b>Objective Value: -6.649379579649593</b>\",\"Trial #86<br>algorithm: xgb<br>learning_rate: 0.01240560912844289<br>max_depth: 8<br>subsample: 0.2704974479544986<br>colsample_bytree: 0.061997530866703454<br>min_child_weight: 15<br><b>Objective Value: 0.9113729713455464</b>\",\"Trial #107<br>algorithm: xgb<br>learning_rate: 0.010250741887711978<br>max_depth: 8<br>subsample: 0.699136270124052<br>colsample_bytree: 0.34676345983827406<br>min_child_weight: 6<br><b>Objective Value: 0.9456992597139712</b>\",\"Trial #129<br>algorithm: xgb<br>learning_rate: 0.00037758996511927124<br>max_depth: 3<br>subsample: 0.2213408681389885<br>colsample_bytree: 0.7364584373058741<br>min_child_weight: 15<br><b>Objective Value: -6.665047997522985</b>\",\"Trial #157<br>algorithm: xgb<br>learning_rate: 0.000484744276997372<br>max_depth: 8<br>subsample: 0.9855479934166286<br>colsample_bytree: 0.4680410649317334<br>min_child_weight: 5<br><b>Objective Value: -6.658982618518887</b>\",\"Trial #188<br>algorithm: xgb<br>learning_rate: 0.022432477519196928<br>max_depth: 5<br>subsample: 0.5819591447885447<br>colsample_bytree: 0.1949715272549276<br>min_child_weight: 13<br><b>Objective Value: 0.9467614990364478</b>\"],\"marker\":{\"color\":[\"rgb(54.0, 70.0, 157.0)\",\"rgb(67.0, 111.0, 177.0)\",\"rgb(49.0, 54.0, 149.0)\",\"rgb(65.0, 105.0, 174.0)\",\"rgb(55.0, 73.0, 158.0)\",\"rgb(50.0, 57.0, 151.0)\",\"rgb(76.0, 126.0, 185.0)\",\"rgb(53.0, 67.0, 155.0)\",\"rgb(69.0, 117.0, 180.0)\",\"rgb(114.0, 171.0, 208.0)\",\"rgb(51.0, 60.0, 152.0)\",\"rgb(52.0, 63.0, 154.0)\",\"rgb(144.0, 196.0, 221.0)\"],\"line\":{\"color\":\"Grey\",\"width\":0.5}},\"mode\":\"markers\",\"showlegend\":false,\"x\":[10,1,6,1,10,6,4,3,8,8,3,8,5],\"y\":[\"xgb\",\"xgb\",\"xgb\",\"xgb\",\"xgb\",\"xgb\",\"xgb\",\"xgb\",\"xgb\",\"xgb\",\"xgb\",\"xgb\",\"xgb\"],\"type\":\"scatter\",\"xaxis\":\"x5\",\"yaxis\":\"y5\"},{\"hovertemplate\":\"%{hovertext}<extra></extra>\",\"hovertext\":[],\"marker\":{\"color\":[],\"line\":{\"color\":\"Grey\",\"width\":0.5}},\"mode\":\"markers\",\"showlegend\":false,\"x\":[],\"y\":[],\"type\":\"scatter\",\"xaxis\":\"x12\",\"yaxis\":\"y12\"},{\"hovertemplate\":\"%{hovertext}<extra></extra>\",\"hovertext\":[\"Trial #8<br>algorithm: xgb<br>learning_rate: 0.0016114400564732941<br>max_depth: 10<br>subsample: 0.8558105105039219<br>colsample_bytree: 0.2965777047582458<br>min_child_weight: 9<br><b>Objective Value: -5.373464236107701</b>\",\"Trial #10<br>algorithm: xgb<br>learning_rate: 0.07748571364848593<br>max_depth: 1<br>subsample: 0.1081539403017378<br>colsample_bytree: 0.8774623283402829<br>min_child_weight: 20<br><b>Objective Value: 0.9057358214629305</b>\",\"Trial #16<br>algorithm: xgb<br>learning_rate: 0.0001093221261079389<br>max_depth: 6<br>subsample: 0.9975559933333737<br>colsample_bytree: 0.08773403630454318<br>min_child_weight: 1<br><b>Objective Value: -6.669394335705886</b>\",\"Trial #19<br>algorithm: xgb<br>learning_rate: 0.08019600545172129<br>max_depth: 1<br>subsample: 0.06393922828854465<br>colsample_bytree: 0.9630028278354485<br>min_child_weight: 20<br><b>Objective Value: 0.8811693917915496</b>\",\"Trial #29<br>algorithm: xgb<br>learning_rate: 0.0023166212634019153<br>max_depth: 10<br>subsample: 0.5235492940540687<br>colsample_bytree: 0.6157251098470551<br>min_child_weight: 10<br><b>Objective Value: -2.8957501035877273</b>\",\"Trial #47<br>algorithm: xgb<br>learning_rate: 0.00011521087399364599<br>max_depth: 6<br>subsample: 0.5277084716528383<br>colsample_bytree: 0.5662117236927399<br>min_child_weight: 1<br><b>Objective Value: -6.669368157650402</b>\",\"Trial #57<br>algorithm: xgb<br>learning_rate: 0.011236477438678406<br>max_depth: 4<br>subsample: 0.41151468106452377<br>colsample_bytree: 0.330480957357973<br>min_child_weight: 15<br><b>Objective Value: 0.9362219094296959</b>\",\"Trial #67<br>algorithm: xgb<br>learning_rate: 0.0005787891082612613<br>max_depth: 3<br>subsample: 0.7512158659814847<br>colsample_bytree: 0.7802016742983691<br>min_child_weight: 5<br><b>Objective Value: -6.649379579649593</b>\",\"Trial #86<br>algorithm: xgb<br>learning_rate: 0.01240560912844289<br>max_depth: 8<br>subsample: 0.2704974479544986<br>colsample_bytree: 0.061997530866703454<br>min_child_weight: 15<br><b>Objective Value: 0.9113729713455464</b>\",\"Trial #107<br>algorithm: xgb<br>learning_rate: 0.010250741887711978<br>max_depth: 8<br>subsample: 0.699136270124052<br>colsample_bytree: 0.34676345983827406<br>min_child_weight: 6<br><b>Objective Value: 0.9456992597139712</b>\",\"Trial #129<br>algorithm: xgb<br>learning_rate: 0.00037758996511927124<br>max_depth: 3<br>subsample: 0.2213408681389885<br>colsample_bytree: 0.7364584373058741<br>min_child_weight: 15<br><b>Objective Value: -6.665047997522985</b>\",\"Trial #157<br>algorithm: xgb<br>learning_rate: 0.000484744276997372<br>max_depth: 8<br>subsample: 0.9855479934166286<br>colsample_bytree: 0.4680410649317334<br>min_child_weight: 5<br><b>Objective Value: -6.658982618518887</b>\",\"Trial #188<br>algorithm: xgb<br>learning_rate: 0.022432477519196928<br>max_depth: 5<br>subsample: 0.5819591447885447<br>colsample_bytree: 0.1949715272549276<br>min_child_weight: 13<br><b>Objective Value: 0.9467614990364478</b>\"],\"marker\":{\"color\":[\"rgb(54.0, 70.0, 157.0)\",\"rgb(67.0, 111.0, 177.0)\",\"rgb(49.0, 54.0, 149.0)\",\"rgb(65.0, 105.0, 174.0)\",\"rgb(55.0, 73.0, 158.0)\",\"rgb(50.0, 57.0, 151.0)\",\"rgb(76.0, 126.0, 185.0)\",\"rgb(53.0, 67.0, 155.0)\",\"rgb(69.0, 117.0, 180.0)\",\"rgb(114.0, 171.0, 208.0)\",\"rgb(51.0, 60.0, 152.0)\",\"rgb(52.0, 63.0, 154.0)\",\"rgb(144.0, 196.0, 221.0)\"],\"line\":{\"color\":\"Grey\",\"width\":0.5}},\"mode\":\"markers\",\"showlegend\":false,\"x\":[10,1,6,1,10,6,4,3,8,8,3,8,5],\"y\":[0.2965777047582458,0.8774623283402829,0.08773403630454318,0.9630028278354485,0.6157251098470551,0.5662117236927399,0.330480957357973,0.7802016742983691,0.061997530866703454,0.34676345983827406,0.7364584373058741,0.4680410649317334,0.1949715272549276],\"type\":\"scatter\",\"xaxis\":\"x19\",\"yaxis\":\"y19\"},{\"hovertemplate\":\"%{hovertext}<extra></extra>\",\"hovertext\":[\"Trial #8<br>algorithm: xgb<br>learning_rate: 0.0016114400564732941<br>max_depth: 10<br>subsample: 0.8558105105039219<br>colsample_bytree: 0.2965777047582458<br>min_child_weight: 9<br><b>Objective Value: -5.373464236107701</b>\",\"Trial #10<br>algorithm: xgb<br>learning_rate: 0.07748571364848593<br>max_depth: 1<br>subsample: 0.1081539403017378<br>colsample_bytree: 0.8774623283402829<br>min_child_weight: 20<br><b>Objective Value: 0.9057358214629305</b>\",\"Trial #16<br>algorithm: xgb<br>learning_rate: 0.0001093221261079389<br>max_depth: 6<br>subsample: 0.9975559933333737<br>colsample_bytree: 0.08773403630454318<br>min_child_weight: 1<br><b>Objective Value: -6.669394335705886</b>\",\"Trial #19<br>algorithm: xgb<br>learning_rate: 0.08019600545172129<br>max_depth: 1<br>subsample: 0.06393922828854465<br>colsample_bytree: 0.9630028278354485<br>min_child_weight: 20<br><b>Objective Value: 0.8811693917915496</b>\",\"Trial #29<br>algorithm: xgb<br>learning_rate: 0.0023166212634019153<br>max_depth: 10<br>subsample: 0.5235492940540687<br>colsample_bytree: 0.6157251098470551<br>min_child_weight: 10<br><b>Objective Value: -2.8957501035877273</b>\",\"Trial #47<br>algorithm: xgb<br>learning_rate: 0.00011521087399364599<br>max_depth: 6<br>subsample: 0.5277084716528383<br>colsample_bytree: 0.5662117236927399<br>min_child_weight: 1<br><b>Objective Value: -6.669368157650402</b>\",\"Trial #57<br>algorithm: xgb<br>learning_rate: 0.011236477438678406<br>max_depth: 4<br>subsample: 0.41151468106452377<br>colsample_bytree: 0.330480957357973<br>min_child_weight: 15<br><b>Objective Value: 0.9362219094296959</b>\",\"Trial #67<br>algorithm: xgb<br>learning_rate: 0.0005787891082612613<br>max_depth: 3<br>subsample: 0.7512158659814847<br>colsample_bytree: 0.7802016742983691<br>min_child_weight: 5<br><b>Objective Value: -6.649379579649593</b>\",\"Trial #86<br>algorithm: xgb<br>learning_rate: 0.01240560912844289<br>max_depth: 8<br>subsample: 0.2704974479544986<br>colsample_bytree: 0.061997530866703454<br>min_child_weight: 15<br><b>Objective Value: 0.9113729713455464</b>\",\"Trial #107<br>algorithm: xgb<br>learning_rate: 0.010250741887711978<br>max_depth: 8<br>subsample: 0.699136270124052<br>colsample_bytree: 0.34676345983827406<br>min_child_weight: 6<br><b>Objective Value: 0.9456992597139712</b>\",\"Trial #129<br>algorithm: xgb<br>learning_rate: 0.00037758996511927124<br>max_depth: 3<br>subsample: 0.2213408681389885<br>colsample_bytree: 0.7364584373058741<br>min_child_weight: 15<br><b>Objective Value: -6.665047997522985</b>\",\"Trial #157<br>algorithm: xgb<br>learning_rate: 0.000484744276997372<br>max_depth: 8<br>subsample: 0.9855479934166286<br>colsample_bytree: 0.4680410649317334<br>min_child_weight: 5<br><b>Objective Value: -6.658982618518887</b>\",\"Trial #188<br>algorithm: xgb<br>learning_rate: 0.022432477519196928<br>max_depth: 5<br>subsample: 0.5819591447885447<br>colsample_bytree: 0.1949715272549276<br>min_child_weight: 13<br><b>Objective Value: 0.9467614990364478</b>\"],\"marker\":{\"color\":[\"rgb(54.0, 70.0, 157.0)\",\"rgb(67.0, 111.0, 177.0)\",\"rgb(49.0, 54.0, 149.0)\",\"rgb(65.0, 105.0, 174.0)\",\"rgb(55.0, 73.0, 158.0)\",\"rgb(50.0, 57.0, 151.0)\",\"rgb(76.0, 126.0, 185.0)\",\"rgb(53.0, 67.0, 155.0)\",\"rgb(69.0, 117.0, 180.0)\",\"rgb(114.0, 171.0, 208.0)\",\"rgb(51.0, 60.0, 152.0)\",\"rgb(52.0, 63.0, 154.0)\",\"rgb(144.0, 196.0, 221.0)\"],\"line\":{\"color\":\"Grey\",\"width\":0.5}},\"mode\":\"markers\",\"showlegend\":false,\"x\":[10,1,6,1,10,6,4,3,8,8,3,8,5],\"y\":[0.0016114400564732941,0.07748571364848593,0.0001093221261079389,0.08019600545172129,0.0023166212634019153,0.00011521087399364599,0.011236477438678406,0.0005787891082612613,0.01240560912844289,0.010250741887711978,0.00037758996511927124,0.000484744276997372,0.022432477519196928],\"type\":\"scatter\",\"xaxis\":\"x26\",\"yaxis\":\"y26\"},{\"hovertemplate\":\"%{hovertext}<extra></extra>\",\"hovertext\":[\"Trial #8<br>algorithm: xgb<br>learning_rate: 0.0016114400564732941<br>max_depth: 10<br>subsample: 0.8558105105039219<br>colsample_bytree: 0.2965777047582458<br>min_child_weight: 9<br><b>Objective Value: -5.373464236107701</b>\",\"Trial #10<br>algorithm: xgb<br>learning_rate: 0.07748571364848593<br>max_depth: 1<br>subsample: 0.1081539403017378<br>colsample_bytree: 0.8774623283402829<br>min_child_weight: 20<br><b>Objective Value: 0.9057358214629305</b>\",\"Trial #16<br>algorithm: xgb<br>learning_rate: 0.0001093221261079389<br>max_depth: 6<br>subsample: 0.9975559933333737<br>colsample_bytree: 0.08773403630454318<br>min_child_weight: 1<br><b>Objective Value: -6.669394335705886</b>\",\"Trial #19<br>algorithm: xgb<br>learning_rate: 0.08019600545172129<br>max_depth: 1<br>subsample: 0.06393922828854465<br>colsample_bytree: 0.9630028278354485<br>min_child_weight: 20<br><b>Objective Value: 0.8811693917915496</b>\",\"Trial #29<br>algorithm: xgb<br>learning_rate: 0.0023166212634019153<br>max_depth: 10<br>subsample: 0.5235492940540687<br>colsample_bytree: 0.6157251098470551<br>min_child_weight: 10<br><b>Objective Value: -2.8957501035877273</b>\",\"Trial #47<br>algorithm: xgb<br>learning_rate: 0.00011521087399364599<br>max_depth: 6<br>subsample: 0.5277084716528383<br>colsample_bytree: 0.5662117236927399<br>min_child_weight: 1<br><b>Objective Value: -6.669368157650402</b>\",\"Trial #57<br>algorithm: xgb<br>learning_rate: 0.011236477438678406<br>max_depth: 4<br>subsample: 0.41151468106452377<br>colsample_bytree: 0.330480957357973<br>min_child_weight: 15<br><b>Objective Value: 0.9362219094296959</b>\",\"Trial #67<br>algorithm: xgb<br>learning_rate: 0.0005787891082612613<br>max_depth: 3<br>subsample: 0.7512158659814847<br>colsample_bytree: 0.7802016742983691<br>min_child_weight: 5<br><b>Objective Value: -6.649379579649593</b>\",\"Trial #86<br>algorithm: xgb<br>learning_rate: 0.01240560912844289<br>max_depth: 8<br>subsample: 0.2704974479544986<br>colsample_bytree: 0.061997530866703454<br>min_child_weight: 15<br><b>Objective Value: 0.9113729713455464</b>\",\"Trial #107<br>algorithm: xgb<br>learning_rate: 0.010250741887711978<br>max_depth: 8<br>subsample: 0.699136270124052<br>colsample_bytree: 0.34676345983827406<br>min_child_weight: 6<br><b>Objective Value: 0.9456992597139712</b>\",\"Trial #129<br>algorithm: xgb<br>learning_rate: 0.00037758996511927124<br>max_depth: 3<br>subsample: 0.2213408681389885<br>colsample_bytree: 0.7364584373058741<br>min_child_weight: 15<br><b>Objective Value: -6.665047997522985</b>\",\"Trial #157<br>algorithm: xgb<br>learning_rate: 0.000484744276997372<br>max_depth: 8<br>subsample: 0.9855479934166286<br>colsample_bytree: 0.4680410649317334<br>min_child_weight: 5<br><b>Objective Value: -6.658982618518887</b>\",\"Trial #188<br>algorithm: xgb<br>learning_rate: 0.022432477519196928<br>max_depth: 5<br>subsample: 0.5819591447885447<br>colsample_bytree: 0.1949715272549276<br>min_child_weight: 13<br><b>Objective Value: 0.9467614990364478</b>\"],\"marker\":{\"color\":[\"rgb(54.0, 70.0, 157.0)\",\"rgb(67.0, 111.0, 177.0)\",\"rgb(49.0, 54.0, 149.0)\",\"rgb(65.0, 105.0, 174.0)\",\"rgb(55.0, 73.0, 158.0)\",\"rgb(50.0, 57.0, 151.0)\",\"rgb(76.0, 126.0, 185.0)\",\"rgb(53.0, 67.0, 155.0)\",\"rgb(69.0, 117.0, 180.0)\",\"rgb(114.0, 171.0, 208.0)\",\"rgb(51.0, 60.0, 152.0)\",\"rgb(52.0, 63.0, 154.0)\",\"rgb(144.0, 196.0, 221.0)\"],\"line\":{\"color\":\"Grey\",\"width\":0.5}},\"mode\":\"markers\",\"showlegend\":false,\"x\":[10,1,6,1,10,6,4,3,8,8,3,8,5],\"y\":[10,1,6,1,10,6,4,3,8,8,3,8,5],\"type\":\"scatter\",\"xaxis\":\"x33\",\"yaxis\":\"y33\"},{\"hovertemplate\":\"%{hovertext}<extra></extra>\",\"hovertext\":[\"Trial #8<br>algorithm: xgb<br>learning_rate: 0.0016114400564732941<br>max_depth: 10<br>subsample: 0.8558105105039219<br>colsample_bytree: 0.2965777047582458<br>min_child_weight: 9<br><b>Objective Value: -5.373464236107701</b>\",\"Trial #10<br>algorithm: xgb<br>learning_rate: 0.07748571364848593<br>max_depth: 1<br>subsample: 0.1081539403017378<br>colsample_bytree: 0.8774623283402829<br>min_child_weight: 20<br><b>Objective Value: 0.9057358214629305</b>\",\"Trial #16<br>algorithm: xgb<br>learning_rate: 0.0001093221261079389<br>max_depth: 6<br>subsample: 0.9975559933333737<br>colsample_bytree: 0.08773403630454318<br>min_child_weight: 1<br><b>Objective Value: -6.669394335705886</b>\",\"Trial #19<br>algorithm: xgb<br>learning_rate: 0.08019600545172129<br>max_depth: 1<br>subsample: 0.06393922828854465<br>colsample_bytree: 0.9630028278354485<br>min_child_weight: 20<br><b>Objective Value: 0.8811693917915496</b>\",\"Trial #29<br>algorithm: xgb<br>learning_rate: 0.0023166212634019153<br>max_depth: 10<br>subsample: 0.5235492940540687<br>colsample_bytree: 0.6157251098470551<br>min_child_weight: 10<br><b>Objective Value: -2.8957501035877273</b>\",\"Trial #47<br>algorithm: xgb<br>learning_rate: 0.00011521087399364599<br>max_depth: 6<br>subsample: 0.5277084716528383<br>colsample_bytree: 0.5662117236927399<br>min_child_weight: 1<br><b>Objective Value: -6.669368157650402</b>\",\"Trial #57<br>algorithm: xgb<br>learning_rate: 0.011236477438678406<br>max_depth: 4<br>subsample: 0.41151468106452377<br>colsample_bytree: 0.330480957357973<br>min_child_weight: 15<br><b>Objective Value: 0.9362219094296959</b>\",\"Trial #67<br>algorithm: xgb<br>learning_rate: 0.0005787891082612613<br>max_depth: 3<br>subsample: 0.7512158659814847<br>colsample_bytree: 0.7802016742983691<br>min_child_weight: 5<br><b>Objective Value: -6.649379579649593</b>\",\"Trial #86<br>algorithm: xgb<br>learning_rate: 0.01240560912844289<br>max_depth: 8<br>subsample: 0.2704974479544986<br>colsample_bytree: 0.061997530866703454<br>min_child_weight: 15<br><b>Objective Value: 0.9113729713455464</b>\",\"Trial #107<br>algorithm: xgb<br>learning_rate: 0.010250741887711978<br>max_depth: 8<br>subsample: 0.699136270124052<br>colsample_bytree: 0.34676345983827406<br>min_child_weight: 6<br><b>Objective Value: 0.9456992597139712</b>\",\"Trial #129<br>algorithm: xgb<br>learning_rate: 0.00037758996511927124<br>max_depth: 3<br>subsample: 0.2213408681389885<br>colsample_bytree: 0.7364584373058741<br>min_child_weight: 15<br><b>Objective Value: -6.665047997522985</b>\",\"Trial #157<br>algorithm: xgb<br>learning_rate: 0.000484744276997372<br>max_depth: 8<br>subsample: 0.9855479934166286<br>colsample_bytree: 0.4680410649317334<br>min_child_weight: 5<br><b>Objective Value: -6.658982618518887</b>\",\"Trial #188<br>algorithm: xgb<br>learning_rate: 0.022432477519196928<br>max_depth: 5<br>subsample: 0.5819591447885447<br>colsample_bytree: 0.1949715272549276<br>min_child_weight: 13<br><b>Objective Value: 0.9467614990364478</b>\"],\"marker\":{\"color\":[\"rgb(54.0, 70.0, 157.0)\",\"rgb(67.0, 111.0, 177.0)\",\"rgb(49.0, 54.0, 149.0)\",\"rgb(65.0, 105.0, 174.0)\",\"rgb(55.0, 73.0, 158.0)\",\"rgb(50.0, 57.0, 151.0)\",\"rgb(76.0, 126.0, 185.0)\",\"rgb(53.0, 67.0, 155.0)\",\"rgb(69.0, 117.0, 180.0)\",\"rgb(114.0, 171.0, 208.0)\",\"rgb(51.0, 60.0, 152.0)\",\"rgb(52.0, 63.0, 154.0)\",\"rgb(144.0, 196.0, 221.0)\"],\"line\":{\"color\":\"Grey\",\"width\":0.5}},\"mode\":\"markers\",\"showlegend\":false,\"x\":[10,1,6,1,10,6,4,3,8,8,3,8,5],\"y\":[9,20,1,20,10,1,15,5,15,6,15,5,13],\"type\":\"scatter\",\"xaxis\":\"x40\",\"yaxis\":\"y40\"},{\"hovertemplate\":\"%{hovertext}<extra></extra>\",\"hovertext\":[\"Trial #8<br>algorithm: xgb<br>learning_rate: 0.0016114400564732941<br>max_depth: 10<br>subsample: 0.8558105105039219<br>colsample_bytree: 0.2965777047582458<br>min_child_weight: 9<br><b>Objective Value: -5.373464236107701</b>\",\"Trial #10<br>algorithm: xgb<br>learning_rate: 0.07748571364848593<br>max_depth: 1<br>subsample: 0.1081539403017378<br>colsample_bytree: 0.8774623283402829<br>min_child_weight: 20<br><b>Objective Value: 0.9057358214629305</b>\",\"Trial #16<br>algorithm: xgb<br>learning_rate: 0.0001093221261079389<br>max_depth: 6<br>subsample: 0.9975559933333737<br>colsample_bytree: 0.08773403630454318<br>min_child_weight: 1<br><b>Objective Value: -6.669394335705886</b>\",\"Trial #19<br>algorithm: xgb<br>learning_rate: 0.08019600545172129<br>max_depth: 1<br>subsample: 0.06393922828854465<br>colsample_bytree: 0.9630028278354485<br>min_child_weight: 20<br><b>Objective Value: 0.8811693917915496</b>\",\"Trial #29<br>algorithm: xgb<br>learning_rate: 0.0023166212634019153<br>max_depth: 10<br>subsample: 0.5235492940540687<br>colsample_bytree: 0.6157251098470551<br>min_child_weight: 10<br><b>Objective Value: -2.8957501035877273</b>\",\"Trial #47<br>algorithm: xgb<br>learning_rate: 0.00011521087399364599<br>max_depth: 6<br>subsample: 0.5277084716528383<br>colsample_bytree: 0.5662117236927399<br>min_child_weight: 1<br><b>Objective Value: -6.669368157650402</b>\",\"Trial #57<br>algorithm: xgb<br>learning_rate: 0.011236477438678406<br>max_depth: 4<br>subsample: 0.41151468106452377<br>colsample_bytree: 0.330480957357973<br>min_child_weight: 15<br><b>Objective Value: 0.9362219094296959</b>\",\"Trial #67<br>algorithm: xgb<br>learning_rate: 0.0005787891082612613<br>max_depth: 3<br>subsample: 0.7512158659814847<br>colsample_bytree: 0.7802016742983691<br>min_child_weight: 5<br><b>Objective Value: -6.649379579649593</b>\",\"Trial #86<br>algorithm: xgb<br>learning_rate: 0.01240560912844289<br>max_depth: 8<br>subsample: 0.2704974479544986<br>colsample_bytree: 0.061997530866703454<br>min_child_weight: 15<br><b>Objective Value: 0.9113729713455464</b>\",\"Trial #107<br>algorithm: xgb<br>learning_rate: 0.010250741887711978<br>max_depth: 8<br>subsample: 0.699136270124052<br>colsample_bytree: 0.34676345983827406<br>min_child_weight: 6<br><b>Objective Value: 0.9456992597139712</b>\",\"Trial #129<br>algorithm: xgb<br>learning_rate: 0.00037758996511927124<br>max_depth: 3<br>subsample: 0.2213408681389885<br>colsample_bytree: 0.7364584373058741<br>min_child_weight: 15<br><b>Objective Value: -6.665047997522985</b>\",\"Trial #157<br>algorithm: xgb<br>learning_rate: 0.000484744276997372<br>max_depth: 8<br>subsample: 0.9855479934166286<br>colsample_bytree: 0.4680410649317334<br>min_child_weight: 5<br><b>Objective Value: -6.658982618518887</b>\",\"Trial #188<br>algorithm: xgb<br>learning_rate: 0.022432477519196928<br>max_depth: 5<br>subsample: 0.5819591447885447<br>colsample_bytree: 0.1949715272549276<br>min_child_weight: 13<br><b>Objective Value: 0.9467614990364478</b>\"],\"marker\":{\"color\":[\"rgb(54.0, 70.0, 157.0)\",\"rgb(67.0, 111.0, 177.0)\",\"rgb(49.0, 54.0, 149.0)\",\"rgb(65.0, 105.0, 174.0)\",\"rgb(55.0, 73.0, 158.0)\",\"rgb(50.0, 57.0, 151.0)\",\"rgb(76.0, 126.0, 185.0)\",\"rgb(53.0, 67.0, 155.0)\",\"rgb(69.0, 117.0, 180.0)\",\"rgb(114.0, 171.0, 208.0)\",\"rgb(51.0, 60.0, 152.0)\",\"rgb(52.0, 63.0, 154.0)\",\"rgb(144.0, 196.0, 221.0)\"],\"line\":{\"color\":\"Grey\",\"width\":0.5}},\"mode\":\"markers\",\"showlegend\":false,\"x\":[10,1,6,1,10,6,4,3,8,8,3,8,5],\"y\":[0.8558105105039219,0.1081539403017378,0.9975559933333737,0.06393922828854465,0.5235492940540687,0.5277084716528383,0.41151468106452377,0.7512158659814847,0.2704974479544986,0.699136270124052,0.2213408681389885,0.9855479934166286,0.5819591447885447],\"type\":\"scatter\",\"xaxis\":\"x47\",\"yaxis\":\"y47\"},{\"hovertemplate\":\"%{hovertext}<extra></extra>\",\"hovertext\":[\"Trial #8<br>algorithm: xgb<br>learning_rate: 0.0016114400564732941<br>max_depth: 10<br>subsample: 0.8558105105039219<br>colsample_bytree: 0.2965777047582458<br>min_child_weight: 9<br><b>Objective Value: -5.373464236107701</b>\",\"Trial #10<br>algorithm: xgb<br>learning_rate: 0.07748571364848593<br>max_depth: 1<br>subsample: 0.1081539403017378<br>colsample_bytree: 0.8774623283402829<br>min_child_weight: 20<br><b>Objective Value: 0.9057358214629305</b>\",\"Trial #16<br>algorithm: xgb<br>learning_rate: 0.0001093221261079389<br>max_depth: 6<br>subsample: 0.9975559933333737<br>colsample_bytree: 0.08773403630454318<br>min_child_weight: 1<br><b>Objective Value: -6.669394335705886</b>\",\"Trial #19<br>algorithm: xgb<br>learning_rate: 0.08019600545172129<br>max_depth: 1<br>subsample: 0.06393922828854465<br>colsample_bytree: 0.9630028278354485<br>min_child_weight: 20<br><b>Objective Value: 0.8811693917915496</b>\",\"Trial #29<br>algorithm: xgb<br>learning_rate: 0.0023166212634019153<br>max_depth: 10<br>subsample: 0.5235492940540687<br>colsample_bytree: 0.6157251098470551<br>min_child_weight: 10<br><b>Objective Value: -2.8957501035877273</b>\",\"Trial #47<br>algorithm: xgb<br>learning_rate: 0.00011521087399364599<br>max_depth: 6<br>subsample: 0.5277084716528383<br>colsample_bytree: 0.5662117236927399<br>min_child_weight: 1<br><b>Objective Value: -6.669368157650402</b>\",\"Trial #57<br>algorithm: xgb<br>learning_rate: 0.011236477438678406<br>max_depth: 4<br>subsample: 0.41151468106452377<br>colsample_bytree: 0.330480957357973<br>min_child_weight: 15<br><b>Objective Value: 0.9362219094296959</b>\",\"Trial #67<br>algorithm: xgb<br>learning_rate: 0.0005787891082612613<br>max_depth: 3<br>subsample: 0.7512158659814847<br>colsample_bytree: 0.7802016742983691<br>min_child_weight: 5<br><b>Objective Value: -6.649379579649593</b>\",\"Trial #86<br>algorithm: xgb<br>learning_rate: 0.01240560912844289<br>max_depth: 8<br>subsample: 0.2704974479544986<br>colsample_bytree: 0.061997530866703454<br>min_child_weight: 15<br><b>Objective Value: 0.9113729713455464</b>\",\"Trial #107<br>algorithm: xgb<br>learning_rate: 0.010250741887711978<br>max_depth: 8<br>subsample: 0.699136270124052<br>colsample_bytree: 0.34676345983827406<br>min_child_weight: 6<br><b>Objective Value: 0.9456992597139712</b>\",\"Trial #129<br>algorithm: xgb<br>learning_rate: 0.00037758996511927124<br>max_depth: 3<br>subsample: 0.2213408681389885<br>colsample_bytree: 0.7364584373058741<br>min_child_weight: 15<br><b>Objective Value: -6.665047997522985</b>\",\"Trial #157<br>algorithm: xgb<br>learning_rate: 0.000484744276997372<br>max_depth: 8<br>subsample: 0.9855479934166286<br>colsample_bytree: 0.4680410649317334<br>min_child_weight: 5<br><b>Objective Value: -6.658982618518887</b>\",\"Trial #188<br>algorithm: xgb<br>learning_rate: 0.022432477519196928<br>max_depth: 5<br>subsample: 0.5819591447885447<br>colsample_bytree: 0.1949715272549276<br>min_child_weight: 13<br><b>Objective Value: 0.9467614990364478</b>\"],\"marker\":{\"color\":[\"rgb(54.0, 70.0, 157.0)\",\"rgb(67.0, 111.0, 177.0)\",\"rgb(49.0, 54.0, 149.0)\",\"rgb(65.0, 105.0, 174.0)\",\"rgb(55.0, 73.0, 158.0)\",\"rgb(50.0, 57.0, 151.0)\",\"rgb(76.0, 126.0, 185.0)\",\"rgb(53.0, 67.0, 155.0)\",\"rgb(69.0, 117.0, 180.0)\",\"rgb(114.0, 171.0, 208.0)\",\"rgb(51.0, 60.0, 152.0)\",\"rgb(52.0, 63.0, 154.0)\",\"rgb(144.0, 196.0, 221.0)\"],\"line\":{\"color\":\"Grey\",\"width\":0.5}},\"mode\":\"markers\",\"showlegend\":false,\"x\":[9,20,1,20,10,1,15,5,15,6,15,5,13],\"y\":[\"xgb\",\"xgb\",\"xgb\",\"xgb\",\"xgb\",\"xgb\",\"xgb\",\"xgb\",\"xgb\",\"xgb\",\"xgb\",\"xgb\",\"xgb\"],\"type\":\"scatter\",\"xaxis\":\"x6\",\"yaxis\":\"y6\"},{\"hovertemplate\":\"%{hovertext}<extra></extra>\",\"hovertext\":[],\"marker\":{\"color\":[],\"line\":{\"color\":\"Grey\",\"width\":0.5}},\"mode\":\"markers\",\"showlegend\":false,\"x\":[],\"y\":[],\"type\":\"scatter\",\"xaxis\":\"x13\",\"yaxis\":\"y13\"},{\"hovertemplate\":\"%{hovertext}<extra></extra>\",\"hovertext\":[\"Trial #8<br>algorithm: xgb<br>learning_rate: 0.0016114400564732941<br>max_depth: 10<br>subsample: 0.8558105105039219<br>colsample_bytree: 0.2965777047582458<br>min_child_weight: 9<br><b>Objective Value: -5.373464236107701</b>\",\"Trial #10<br>algorithm: xgb<br>learning_rate: 0.07748571364848593<br>max_depth: 1<br>subsample: 0.1081539403017378<br>colsample_bytree: 0.8774623283402829<br>min_child_weight: 20<br><b>Objective Value: 0.9057358214629305</b>\",\"Trial #16<br>algorithm: xgb<br>learning_rate: 0.0001093221261079389<br>max_depth: 6<br>subsample: 0.9975559933333737<br>colsample_bytree: 0.08773403630454318<br>min_child_weight: 1<br><b>Objective Value: -6.669394335705886</b>\",\"Trial #19<br>algorithm: xgb<br>learning_rate: 0.08019600545172129<br>max_depth: 1<br>subsample: 0.06393922828854465<br>colsample_bytree: 0.9630028278354485<br>min_child_weight: 20<br><b>Objective Value: 0.8811693917915496</b>\",\"Trial #29<br>algorithm: xgb<br>learning_rate: 0.0023166212634019153<br>max_depth: 10<br>subsample: 0.5235492940540687<br>colsample_bytree: 0.6157251098470551<br>min_child_weight: 10<br><b>Objective Value: -2.8957501035877273</b>\",\"Trial #47<br>algorithm: xgb<br>learning_rate: 0.00011521087399364599<br>max_depth: 6<br>subsample: 0.5277084716528383<br>colsample_bytree: 0.5662117236927399<br>min_child_weight: 1<br><b>Objective Value: -6.669368157650402</b>\",\"Trial #57<br>algorithm: xgb<br>learning_rate: 0.011236477438678406<br>max_depth: 4<br>subsample: 0.41151468106452377<br>colsample_bytree: 0.330480957357973<br>min_child_weight: 15<br><b>Objective Value: 0.9362219094296959</b>\",\"Trial #67<br>algorithm: xgb<br>learning_rate: 0.0005787891082612613<br>max_depth: 3<br>subsample: 0.7512158659814847<br>colsample_bytree: 0.7802016742983691<br>min_child_weight: 5<br><b>Objective Value: -6.649379579649593</b>\",\"Trial #86<br>algorithm: xgb<br>learning_rate: 0.01240560912844289<br>max_depth: 8<br>subsample: 0.2704974479544986<br>colsample_bytree: 0.061997530866703454<br>min_child_weight: 15<br><b>Objective Value: 0.9113729713455464</b>\",\"Trial #107<br>algorithm: xgb<br>learning_rate: 0.010250741887711978<br>max_depth: 8<br>subsample: 0.699136270124052<br>colsample_bytree: 0.34676345983827406<br>min_child_weight: 6<br><b>Objective Value: 0.9456992597139712</b>\",\"Trial #129<br>algorithm: xgb<br>learning_rate: 0.00037758996511927124<br>max_depth: 3<br>subsample: 0.2213408681389885<br>colsample_bytree: 0.7364584373058741<br>min_child_weight: 15<br><b>Objective Value: -6.665047997522985</b>\",\"Trial #157<br>algorithm: xgb<br>learning_rate: 0.000484744276997372<br>max_depth: 8<br>subsample: 0.9855479934166286<br>colsample_bytree: 0.4680410649317334<br>min_child_weight: 5<br><b>Objective Value: -6.658982618518887</b>\",\"Trial #188<br>algorithm: xgb<br>learning_rate: 0.022432477519196928<br>max_depth: 5<br>subsample: 0.5819591447885447<br>colsample_bytree: 0.1949715272549276<br>min_child_weight: 13<br><b>Objective Value: 0.9467614990364478</b>\"],\"marker\":{\"color\":[\"rgb(54.0, 70.0, 157.0)\",\"rgb(67.0, 111.0, 177.0)\",\"rgb(49.0, 54.0, 149.0)\",\"rgb(65.0, 105.0, 174.0)\",\"rgb(55.0, 73.0, 158.0)\",\"rgb(50.0, 57.0, 151.0)\",\"rgb(76.0, 126.0, 185.0)\",\"rgb(53.0, 67.0, 155.0)\",\"rgb(69.0, 117.0, 180.0)\",\"rgb(114.0, 171.0, 208.0)\",\"rgb(51.0, 60.0, 152.0)\",\"rgb(52.0, 63.0, 154.0)\",\"rgb(144.0, 196.0, 221.0)\"],\"line\":{\"color\":\"Grey\",\"width\":0.5}},\"mode\":\"markers\",\"showlegend\":false,\"x\":[9,20,1,20,10,1,15,5,15,6,15,5,13],\"y\":[0.2965777047582458,0.8774623283402829,0.08773403630454318,0.9630028278354485,0.6157251098470551,0.5662117236927399,0.330480957357973,0.7802016742983691,0.061997530866703454,0.34676345983827406,0.7364584373058741,0.4680410649317334,0.1949715272549276],\"type\":\"scatter\",\"xaxis\":\"x20\",\"yaxis\":\"y20\"},{\"hovertemplate\":\"%{hovertext}<extra></extra>\",\"hovertext\":[\"Trial #8<br>algorithm: xgb<br>learning_rate: 0.0016114400564732941<br>max_depth: 10<br>subsample: 0.8558105105039219<br>colsample_bytree: 0.2965777047582458<br>min_child_weight: 9<br><b>Objective Value: -5.373464236107701</b>\",\"Trial #10<br>algorithm: xgb<br>learning_rate: 0.07748571364848593<br>max_depth: 1<br>subsample: 0.1081539403017378<br>colsample_bytree: 0.8774623283402829<br>min_child_weight: 20<br><b>Objective Value: 0.9057358214629305</b>\",\"Trial #16<br>algorithm: xgb<br>learning_rate: 0.0001093221261079389<br>max_depth: 6<br>subsample: 0.9975559933333737<br>colsample_bytree: 0.08773403630454318<br>min_child_weight: 1<br><b>Objective Value: -6.669394335705886</b>\",\"Trial #19<br>algorithm: xgb<br>learning_rate: 0.08019600545172129<br>max_depth: 1<br>subsample: 0.06393922828854465<br>colsample_bytree: 0.9630028278354485<br>min_child_weight: 20<br><b>Objective Value: 0.8811693917915496</b>\",\"Trial #29<br>algorithm: xgb<br>learning_rate: 0.0023166212634019153<br>max_depth: 10<br>subsample: 0.5235492940540687<br>colsample_bytree: 0.6157251098470551<br>min_child_weight: 10<br><b>Objective Value: -2.8957501035877273</b>\",\"Trial #47<br>algorithm: xgb<br>learning_rate: 0.00011521087399364599<br>max_depth: 6<br>subsample: 0.5277084716528383<br>colsample_bytree: 0.5662117236927399<br>min_child_weight: 1<br><b>Objective Value: -6.669368157650402</b>\",\"Trial #57<br>algorithm: xgb<br>learning_rate: 0.011236477438678406<br>max_depth: 4<br>subsample: 0.41151468106452377<br>colsample_bytree: 0.330480957357973<br>min_child_weight: 15<br><b>Objective Value: 0.9362219094296959</b>\",\"Trial #67<br>algorithm: xgb<br>learning_rate: 0.0005787891082612613<br>max_depth: 3<br>subsample: 0.7512158659814847<br>colsample_bytree: 0.7802016742983691<br>min_child_weight: 5<br><b>Objective Value: -6.649379579649593</b>\",\"Trial #86<br>algorithm: xgb<br>learning_rate: 0.01240560912844289<br>max_depth: 8<br>subsample: 0.2704974479544986<br>colsample_bytree: 0.061997530866703454<br>min_child_weight: 15<br><b>Objective Value: 0.9113729713455464</b>\",\"Trial #107<br>algorithm: xgb<br>learning_rate: 0.010250741887711978<br>max_depth: 8<br>subsample: 0.699136270124052<br>colsample_bytree: 0.34676345983827406<br>min_child_weight: 6<br><b>Objective Value: 0.9456992597139712</b>\",\"Trial #129<br>algorithm: xgb<br>learning_rate: 0.00037758996511927124<br>max_depth: 3<br>subsample: 0.2213408681389885<br>colsample_bytree: 0.7364584373058741<br>min_child_weight: 15<br><b>Objective Value: -6.665047997522985</b>\",\"Trial #157<br>algorithm: xgb<br>learning_rate: 0.000484744276997372<br>max_depth: 8<br>subsample: 0.9855479934166286<br>colsample_bytree: 0.4680410649317334<br>min_child_weight: 5<br><b>Objective Value: -6.658982618518887</b>\",\"Trial #188<br>algorithm: xgb<br>learning_rate: 0.022432477519196928<br>max_depth: 5<br>subsample: 0.5819591447885447<br>colsample_bytree: 0.1949715272549276<br>min_child_weight: 13<br><b>Objective Value: 0.9467614990364478</b>\"],\"marker\":{\"color\":[\"rgb(54.0, 70.0, 157.0)\",\"rgb(67.0, 111.0, 177.0)\",\"rgb(49.0, 54.0, 149.0)\",\"rgb(65.0, 105.0, 174.0)\",\"rgb(55.0, 73.0, 158.0)\",\"rgb(50.0, 57.0, 151.0)\",\"rgb(76.0, 126.0, 185.0)\",\"rgb(53.0, 67.0, 155.0)\",\"rgb(69.0, 117.0, 180.0)\",\"rgb(114.0, 171.0, 208.0)\",\"rgb(51.0, 60.0, 152.0)\",\"rgb(52.0, 63.0, 154.0)\",\"rgb(144.0, 196.0, 221.0)\"],\"line\":{\"color\":\"Grey\",\"width\":0.5}},\"mode\":\"markers\",\"showlegend\":false,\"x\":[9,20,1,20,10,1,15,5,15,6,15,5,13],\"y\":[0.0016114400564732941,0.07748571364848593,0.0001093221261079389,0.08019600545172129,0.0023166212634019153,0.00011521087399364599,0.011236477438678406,0.0005787891082612613,0.01240560912844289,0.010250741887711978,0.00037758996511927124,0.000484744276997372,0.022432477519196928],\"type\":\"scatter\",\"xaxis\":\"x27\",\"yaxis\":\"y27\"},{\"hovertemplate\":\"%{hovertext}<extra></extra>\",\"hovertext\":[\"Trial #8<br>algorithm: xgb<br>learning_rate: 0.0016114400564732941<br>max_depth: 10<br>subsample: 0.8558105105039219<br>colsample_bytree: 0.2965777047582458<br>min_child_weight: 9<br><b>Objective Value: -5.373464236107701</b>\",\"Trial #10<br>algorithm: xgb<br>learning_rate: 0.07748571364848593<br>max_depth: 1<br>subsample: 0.1081539403017378<br>colsample_bytree: 0.8774623283402829<br>min_child_weight: 20<br><b>Objective Value: 0.9057358214629305</b>\",\"Trial #16<br>algorithm: xgb<br>learning_rate: 0.0001093221261079389<br>max_depth: 6<br>subsample: 0.9975559933333737<br>colsample_bytree: 0.08773403630454318<br>min_child_weight: 1<br><b>Objective Value: -6.669394335705886</b>\",\"Trial #19<br>algorithm: xgb<br>learning_rate: 0.08019600545172129<br>max_depth: 1<br>subsample: 0.06393922828854465<br>colsample_bytree: 0.9630028278354485<br>min_child_weight: 20<br><b>Objective Value: 0.8811693917915496</b>\",\"Trial #29<br>algorithm: xgb<br>learning_rate: 0.0023166212634019153<br>max_depth: 10<br>subsample: 0.5235492940540687<br>colsample_bytree: 0.6157251098470551<br>min_child_weight: 10<br><b>Objective Value: -2.8957501035877273</b>\",\"Trial #47<br>algorithm: xgb<br>learning_rate: 0.00011521087399364599<br>max_depth: 6<br>subsample: 0.5277084716528383<br>colsample_bytree: 0.5662117236927399<br>min_child_weight: 1<br><b>Objective Value: -6.669368157650402</b>\",\"Trial #57<br>algorithm: xgb<br>learning_rate: 0.011236477438678406<br>max_depth: 4<br>subsample: 0.41151468106452377<br>colsample_bytree: 0.330480957357973<br>min_child_weight: 15<br><b>Objective Value: 0.9362219094296959</b>\",\"Trial #67<br>algorithm: xgb<br>learning_rate: 0.0005787891082612613<br>max_depth: 3<br>subsample: 0.7512158659814847<br>colsample_bytree: 0.7802016742983691<br>min_child_weight: 5<br><b>Objective Value: -6.649379579649593</b>\",\"Trial #86<br>algorithm: xgb<br>learning_rate: 0.01240560912844289<br>max_depth: 8<br>subsample: 0.2704974479544986<br>colsample_bytree: 0.061997530866703454<br>min_child_weight: 15<br><b>Objective Value: 0.9113729713455464</b>\",\"Trial #107<br>algorithm: xgb<br>learning_rate: 0.010250741887711978<br>max_depth: 8<br>subsample: 0.699136270124052<br>colsample_bytree: 0.34676345983827406<br>min_child_weight: 6<br><b>Objective Value: 0.9456992597139712</b>\",\"Trial #129<br>algorithm: xgb<br>learning_rate: 0.00037758996511927124<br>max_depth: 3<br>subsample: 0.2213408681389885<br>colsample_bytree: 0.7364584373058741<br>min_child_weight: 15<br><b>Objective Value: -6.665047997522985</b>\",\"Trial #157<br>algorithm: xgb<br>learning_rate: 0.000484744276997372<br>max_depth: 8<br>subsample: 0.9855479934166286<br>colsample_bytree: 0.4680410649317334<br>min_child_weight: 5<br><b>Objective Value: -6.658982618518887</b>\",\"Trial #188<br>algorithm: xgb<br>learning_rate: 0.022432477519196928<br>max_depth: 5<br>subsample: 0.5819591447885447<br>colsample_bytree: 0.1949715272549276<br>min_child_weight: 13<br><b>Objective Value: 0.9467614990364478</b>\"],\"marker\":{\"color\":[\"rgb(54.0, 70.0, 157.0)\",\"rgb(67.0, 111.0, 177.0)\",\"rgb(49.0, 54.0, 149.0)\",\"rgb(65.0, 105.0, 174.0)\",\"rgb(55.0, 73.0, 158.0)\",\"rgb(50.0, 57.0, 151.0)\",\"rgb(76.0, 126.0, 185.0)\",\"rgb(53.0, 67.0, 155.0)\",\"rgb(69.0, 117.0, 180.0)\",\"rgb(114.0, 171.0, 208.0)\",\"rgb(51.0, 60.0, 152.0)\",\"rgb(52.0, 63.0, 154.0)\",\"rgb(144.0, 196.0, 221.0)\"],\"line\":{\"color\":\"Grey\",\"width\":0.5}},\"mode\":\"markers\",\"showlegend\":false,\"x\":[9,20,1,20,10,1,15,5,15,6,15,5,13],\"y\":[10,1,6,1,10,6,4,3,8,8,3,8,5],\"type\":\"scatter\",\"xaxis\":\"x34\",\"yaxis\":\"y34\"},{\"hovertemplate\":\"%{hovertext}<extra></extra>\",\"hovertext\":[\"Trial #8<br>algorithm: xgb<br>learning_rate: 0.0016114400564732941<br>max_depth: 10<br>subsample: 0.8558105105039219<br>colsample_bytree: 0.2965777047582458<br>min_child_weight: 9<br><b>Objective Value: -5.373464236107701</b>\",\"Trial #10<br>algorithm: xgb<br>learning_rate: 0.07748571364848593<br>max_depth: 1<br>subsample: 0.1081539403017378<br>colsample_bytree: 0.8774623283402829<br>min_child_weight: 20<br><b>Objective Value: 0.9057358214629305</b>\",\"Trial #16<br>algorithm: xgb<br>learning_rate: 0.0001093221261079389<br>max_depth: 6<br>subsample: 0.9975559933333737<br>colsample_bytree: 0.08773403630454318<br>min_child_weight: 1<br><b>Objective Value: -6.669394335705886</b>\",\"Trial #19<br>algorithm: xgb<br>learning_rate: 0.08019600545172129<br>max_depth: 1<br>subsample: 0.06393922828854465<br>colsample_bytree: 0.9630028278354485<br>min_child_weight: 20<br><b>Objective Value: 0.8811693917915496</b>\",\"Trial #29<br>algorithm: xgb<br>learning_rate: 0.0023166212634019153<br>max_depth: 10<br>subsample: 0.5235492940540687<br>colsample_bytree: 0.6157251098470551<br>min_child_weight: 10<br><b>Objective Value: -2.8957501035877273</b>\",\"Trial #47<br>algorithm: xgb<br>learning_rate: 0.00011521087399364599<br>max_depth: 6<br>subsample: 0.5277084716528383<br>colsample_bytree: 0.5662117236927399<br>min_child_weight: 1<br><b>Objective Value: -6.669368157650402</b>\",\"Trial #57<br>algorithm: xgb<br>learning_rate: 0.011236477438678406<br>max_depth: 4<br>subsample: 0.41151468106452377<br>colsample_bytree: 0.330480957357973<br>min_child_weight: 15<br><b>Objective Value: 0.9362219094296959</b>\",\"Trial #67<br>algorithm: xgb<br>learning_rate: 0.0005787891082612613<br>max_depth: 3<br>subsample: 0.7512158659814847<br>colsample_bytree: 0.7802016742983691<br>min_child_weight: 5<br><b>Objective Value: -6.649379579649593</b>\",\"Trial #86<br>algorithm: xgb<br>learning_rate: 0.01240560912844289<br>max_depth: 8<br>subsample: 0.2704974479544986<br>colsample_bytree: 0.061997530866703454<br>min_child_weight: 15<br><b>Objective Value: 0.9113729713455464</b>\",\"Trial #107<br>algorithm: xgb<br>learning_rate: 0.010250741887711978<br>max_depth: 8<br>subsample: 0.699136270124052<br>colsample_bytree: 0.34676345983827406<br>min_child_weight: 6<br><b>Objective Value: 0.9456992597139712</b>\",\"Trial #129<br>algorithm: xgb<br>learning_rate: 0.00037758996511927124<br>max_depth: 3<br>subsample: 0.2213408681389885<br>colsample_bytree: 0.7364584373058741<br>min_child_weight: 15<br><b>Objective Value: -6.665047997522985</b>\",\"Trial #157<br>algorithm: xgb<br>learning_rate: 0.000484744276997372<br>max_depth: 8<br>subsample: 0.9855479934166286<br>colsample_bytree: 0.4680410649317334<br>min_child_weight: 5<br><b>Objective Value: -6.658982618518887</b>\",\"Trial #188<br>algorithm: xgb<br>learning_rate: 0.022432477519196928<br>max_depth: 5<br>subsample: 0.5819591447885447<br>colsample_bytree: 0.1949715272549276<br>min_child_weight: 13<br><b>Objective Value: 0.9467614990364478</b>\"],\"marker\":{\"color\":[\"rgb(54.0, 70.0, 157.0)\",\"rgb(67.0, 111.0, 177.0)\",\"rgb(49.0, 54.0, 149.0)\",\"rgb(65.0, 105.0, 174.0)\",\"rgb(55.0, 73.0, 158.0)\",\"rgb(50.0, 57.0, 151.0)\",\"rgb(76.0, 126.0, 185.0)\",\"rgb(53.0, 67.0, 155.0)\",\"rgb(69.0, 117.0, 180.0)\",\"rgb(114.0, 171.0, 208.0)\",\"rgb(51.0, 60.0, 152.0)\",\"rgb(52.0, 63.0, 154.0)\",\"rgb(144.0, 196.0, 221.0)\"],\"line\":{\"color\":\"Grey\",\"width\":0.5}},\"mode\":\"markers\",\"showlegend\":false,\"x\":[9,20,1,20,10,1,15,5,15,6,15,5,13],\"y\":[9,20,1,20,10,1,15,5,15,6,15,5,13],\"type\":\"scatter\",\"xaxis\":\"x41\",\"yaxis\":\"y41\"},{\"hovertemplate\":\"%{hovertext}<extra></extra>\",\"hovertext\":[\"Trial #8<br>algorithm: xgb<br>learning_rate: 0.0016114400564732941<br>max_depth: 10<br>subsample: 0.8558105105039219<br>colsample_bytree: 0.2965777047582458<br>min_child_weight: 9<br><b>Objective Value: -5.373464236107701</b>\",\"Trial #10<br>algorithm: xgb<br>learning_rate: 0.07748571364848593<br>max_depth: 1<br>subsample: 0.1081539403017378<br>colsample_bytree: 0.8774623283402829<br>min_child_weight: 20<br><b>Objective Value: 0.9057358214629305</b>\",\"Trial #16<br>algorithm: xgb<br>learning_rate: 0.0001093221261079389<br>max_depth: 6<br>subsample: 0.9975559933333737<br>colsample_bytree: 0.08773403630454318<br>min_child_weight: 1<br><b>Objective Value: -6.669394335705886</b>\",\"Trial #19<br>algorithm: xgb<br>learning_rate: 0.08019600545172129<br>max_depth: 1<br>subsample: 0.06393922828854465<br>colsample_bytree: 0.9630028278354485<br>min_child_weight: 20<br><b>Objective Value: 0.8811693917915496</b>\",\"Trial #29<br>algorithm: xgb<br>learning_rate: 0.0023166212634019153<br>max_depth: 10<br>subsample: 0.5235492940540687<br>colsample_bytree: 0.6157251098470551<br>min_child_weight: 10<br><b>Objective Value: -2.8957501035877273</b>\",\"Trial #47<br>algorithm: xgb<br>learning_rate: 0.00011521087399364599<br>max_depth: 6<br>subsample: 0.5277084716528383<br>colsample_bytree: 0.5662117236927399<br>min_child_weight: 1<br><b>Objective Value: -6.669368157650402</b>\",\"Trial #57<br>algorithm: xgb<br>learning_rate: 0.011236477438678406<br>max_depth: 4<br>subsample: 0.41151468106452377<br>colsample_bytree: 0.330480957357973<br>min_child_weight: 15<br><b>Objective Value: 0.9362219094296959</b>\",\"Trial #67<br>algorithm: xgb<br>learning_rate: 0.0005787891082612613<br>max_depth: 3<br>subsample: 0.7512158659814847<br>colsample_bytree: 0.7802016742983691<br>min_child_weight: 5<br><b>Objective Value: -6.649379579649593</b>\",\"Trial #86<br>algorithm: xgb<br>learning_rate: 0.01240560912844289<br>max_depth: 8<br>subsample: 0.2704974479544986<br>colsample_bytree: 0.061997530866703454<br>min_child_weight: 15<br><b>Objective Value: 0.9113729713455464</b>\",\"Trial #107<br>algorithm: xgb<br>learning_rate: 0.010250741887711978<br>max_depth: 8<br>subsample: 0.699136270124052<br>colsample_bytree: 0.34676345983827406<br>min_child_weight: 6<br><b>Objective Value: 0.9456992597139712</b>\",\"Trial #129<br>algorithm: xgb<br>learning_rate: 0.00037758996511927124<br>max_depth: 3<br>subsample: 0.2213408681389885<br>colsample_bytree: 0.7364584373058741<br>min_child_weight: 15<br><b>Objective Value: -6.665047997522985</b>\",\"Trial #157<br>algorithm: xgb<br>learning_rate: 0.000484744276997372<br>max_depth: 8<br>subsample: 0.9855479934166286<br>colsample_bytree: 0.4680410649317334<br>min_child_weight: 5<br><b>Objective Value: -6.658982618518887</b>\",\"Trial #188<br>algorithm: xgb<br>learning_rate: 0.022432477519196928<br>max_depth: 5<br>subsample: 0.5819591447885447<br>colsample_bytree: 0.1949715272549276<br>min_child_weight: 13<br><b>Objective Value: 0.9467614990364478</b>\"],\"marker\":{\"color\":[\"rgb(54.0, 70.0, 157.0)\",\"rgb(67.0, 111.0, 177.0)\",\"rgb(49.0, 54.0, 149.0)\",\"rgb(65.0, 105.0, 174.0)\",\"rgb(55.0, 73.0, 158.0)\",\"rgb(50.0, 57.0, 151.0)\",\"rgb(76.0, 126.0, 185.0)\",\"rgb(53.0, 67.0, 155.0)\",\"rgb(69.0, 117.0, 180.0)\",\"rgb(114.0, 171.0, 208.0)\",\"rgb(51.0, 60.0, 152.0)\",\"rgb(52.0, 63.0, 154.0)\",\"rgb(144.0, 196.0, 221.0)\"],\"line\":{\"color\":\"Grey\",\"width\":0.5}},\"mode\":\"markers\",\"showlegend\":false,\"x\":[9,20,1,20,10,1,15,5,15,6,15,5,13],\"y\":[0.8558105105039219,0.1081539403017378,0.9975559933333737,0.06393922828854465,0.5235492940540687,0.5277084716528383,0.41151468106452377,0.7512158659814847,0.2704974479544986,0.699136270124052,0.2213408681389885,0.9855479934166286,0.5819591447885447],\"type\":\"scatter\",\"xaxis\":\"x48\",\"yaxis\":\"y48\"},{\"hovertemplate\":\"%{hovertext}<extra></extra>\",\"hovertext\":[\"Trial #8<br>algorithm: xgb<br>learning_rate: 0.0016114400564732941<br>max_depth: 10<br>subsample: 0.8558105105039219<br>colsample_bytree: 0.2965777047582458<br>min_child_weight: 9<br><b>Objective Value: -5.373464236107701</b>\",\"Trial #10<br>algorithm: xgb<br>learning_rate: 0.07748571364848593<br>max_depth: 1<br>subsample: 0.1081539403017378<br>colsample_bytree: 0.8774623283402829<br>min_child_weight: 20<br><b>Objective Value: 0.9057358214629305</b>\",\"Trial #16<br>algorithm: xgb<br>learning_rate: 0.0001093221261079389<br>max_depth: 6<br>subsample: 0.9975559933333737<br>colsample_bytree: 0.08773403630454318<br>min_child_weight: 1<br><b>Objective Value: -6.669394335705886</b>\",\"Trial #19<br>algorithm: xgb<br>learning_rate: 0.08019600545172129<br>max_depth: 1<br>subsample: 0.06393922828854465<br>colsample_bytree: 0.9630028278354485<br>min_child_weight: 20<br><b>Objective Value: 0.8811693917915496</b>\",\"Trial #29<br>algorithm: xgb<br>learning_rate: 0.0023166212634019153<br>max_depth: 10<br>subsample: 0.5235492940540687<br>colsample_bytree: 0.6157251098470551<br>min_child_weight: 10<br><b>Objective Value: -2.8957501035877273</b>\",\"Trial #47<br>algorithm: xgb<br>learning_rate: 0.00011521087399364599<br>max_depth: 6<br>subsample: 0.5277084716528383<br>colsample_bytree: 0.5662117236927399<br>min_child_weight: 1<br><b>Objective Value: -6.669368157650402</b>\",\"Trial #57<br>algorithm: xgb<br>learning_rate: 0.011236477438678406<br>max_depth: 4<br>subsample: 0.41151468106452377<br>colsample_bytree: 0.330480957357973<br>min_child_weight: 15<br><b>Objective Value: 0.9362219094296959</b>\",\"Trial #67<br>algorithm: xgb<br>learning_rate: 0.0005787891082612613<br>max_depth: 3<br>subsample: 0.7512158659814847<br>colsample_bytree: 0.7802016742983691<br>min_child_weight: 5<br><b>Objective Value: -6.649379579649593</b>\",\"Trial #86<br>algorithm: xgb<br>learning_rate: 0.01240560912844289<br>max_depth: 8<br>subsample: 0.2704974479544986<br>colsample_bytree: 0.061997530866703454<br>min_child_weight: 15<br><b>Objective Value: 0.9113729713455464</b>\",\"Trial #107<br>algorithm: xgb<br>learning_rate: 0.010250741887711978<br>max_depth: 8<br>subsample: 0.699136270124052<br>colsample_bytree: 0.34676345983827406<br>min_child_weight: 6<br><b>Objective Value: 0.9456992597139712</b>\",\"Trial #129<br>algorithm: xgb<br>learning_rate: 0.00037758996511927124<br>max_depth: 3<br>subsample: 0.2213408681389885<br>colsample_bytree: 0.7364584373058741<br>min_child_weight: 15<br><b>Objective Value: -6.665047997522985</b>\",\"Trial #157<br>algorithm: xgb<br>learning_rate: 0.000484744276997372<br>max_depth: 8<br>subsample: 0.9855479934166286<br>colsample_bytree: 0.4680410649317334<br>min_child_weight: 5<br><b>Objective Value: -6.658982618518887</b>\",\"Trial #188<br>algorithm: xgb<br>learning_rate: 0.022432477519196928<br>max_depth: 5<br>subsample: 0.5819591447885447<br>colsample_bytree: 0.1949715272549276<br>min_child_weight: 13<br><b>Objective Value: 0.9467614990364478</b>\"],\"marker\":{\"color\":[\"rgb(54.0, 70.0, 157.0)\",\"rgb(67.0, 111.0, 177.0)\",\"rgb(49.0, 54.0, 149.0)\",\"rgb(65.0, 105.0, 174.0)\",\"rgb(55.0, 73.0, 158.0)\",\"rgb(50.0, 57.0, 151.0)\",\"rgb(76.0, 126.0, 185.0)\",\"rgb(53.0, 67.0, 155.0)\",\"rgb(69.0, 117.0, 180.0)\",\"rgb(114.0, 171.0, 208.0)\",\"rgb(51.0, 60.0, 152.0)\",\"rgb(52.0, 63.0, 154.0)\",\"rgb(144.0, 196.0, 221.0)\"],\"line\":{\"color\":\"Grey\",\"width\":0.5}},\"mode\":\"markers\",\"showlegend\":false,\"x\":[0.8558105105039219,0.1081539403017378,0.9975559933333737,0.06393922828854465,0.5235492940540687,0.5277084716528383,0.41151468106452377,0.7512158659814847,0.2704974479544986,0.699136270124052,0.2213408681389885,0.9855479934166286,0.5819591447885447],\"y\":[\"xgb\",\"xgb\",\"xgb\",\"xgb\",\"xgb\",\"xgb\",\"xgb\",\"xgb\",\"xgb\",\"xgb\",\"xgb\",\"xgb\",\"xgb\"],\"type\":\"scatter\",\"xaxis\":\"x7\",\"yaxis\":\"y7\"},{\"hovertemplate\":\"%{hovertext}<extra></extra>\",\"hovertext\":[],\"marker\":{\"color\":[],\"line\":{\"color\":\"Grey\",\"width\":0.5}},\"mode\":\"markers\",\"showlegend\":false,\"x\":[],\"y\":[],\"type\":\"scatter\",\"xaxis\":\"x14\",\"yaxis\":\"y14\"},{\"hovertemplate\":\"%{hovertext}<extra></extra>\",\"hovertext\":[\"Trial #8<br>algorithm: xgb<br>learning_rate: 0.0016114400564732941<br>max_depth: 10<br>subsample: 0.8558105105039219<br>colsample_bytree: 0.2965777047582458<br>min_child_weight: 9<br><b>Objective Value: -5.373464236107701</b>\",\"Trial #10<br>algorithm: xgb<br>learning_rate: 0.07748571364848593<br>max_depth: 1<br>subsample: 0.1081539403017378<br>colsample_bytree: 0.8774623283402829<br>min_child_weight: 20<br><b>Objective Value: 0.9057358214629305</b>\",\"Trial #16<br>algorithm: xgb<br>learning_rate: 0.0001093221261079389<br>max_depth: 6<br>subsample: 0.9975559933333737<br>colsample_bytree: 0.08773403630454318<br>min_child_weight: 1<br><b>Objective Value: -6.669394335705886</b>\",\"Trial #19<br>algorithm: xgb<br>learning_rate: 0.08019600545172129<br>max_depth: 1<br>subsample: 0.06393922828854465<br>colsample_bytree: 0.9630028278354485<br>min_child_weight: 20<br><b>Objective Value: 0.8811693917915496</b>\",\"Trial #29<br>algorithm: xgb<br>learning_rate: 0.0023166212634019153<br>max_depth: 10<br>subsample: 0.5235492940540687<br>colsample_bytree: 0.6157251098470551<br>min_child_weight: 10<br><b>Objective Value: -2.8957501035877273</b>\",\"Trial #47<br>algorithm: xgb<br>learning_rate: 0.00011521087399364599<br>max_depth: 6<br>subsample: 0.5277084716528383<br>colsample_bytree: 0.5662117236927399<br>min_child_weight: 1<br><b>Objective Value: -6.669368157650402</b>\",\"Trial #57<br>algorithm: xgb<br>learning_rate: 0.011236477438678406<br>max_depth: 4<br>subsample: 0.41151468106452377<br>colsample_bytree: 0.330480957357973<br>min_child_weight: 15<br><b>Objective Value: 0.9362219094296959</b>\",\"Trial #67<br>algorithm: xgb<br>learning_rate: 0.0005787891082612613<br>max_depth: 3<br>subsample: 0.7512158659814847<br>colsample_bytree: 0.7802016742983691<br>min_child_weight: 5<br><b>Objective Value: -6.649379579649593</b>\",\"Trial #86<br>algorithm: xgb<br>learning_rate: 0.01240560912844289<br>max_depth: 8<br>subsample: 0.2704974479544986<br>colsample_bytree: 0.061997530866703454<br>min_child_weight: 15<br><b>Objective Value: 0.9113729713455464</b>\",\"Trial #107<br>algorithm: xgb<br>learning_rate: 0.010250741887711978<br>max_depth: 8<br>subsample: 0.699136270124052<br>colsample_bytree: 0.34676345983827406<br>min_child_weight: 6<br><b>Objective Value: 0.9456992597139712</b>\",\"Trial #129<br>algorithm: xgb<br>learning_rate: 0.00037758996511927124<br>max_depth: 3<br>subsample: 0.2213408681389885<br>colsample_bytree: 0.7364584373058741<br>min_child_weight: 15<br><b>Objective Value: -6.665047997522985</b>\",\"Trial #157<br>algorithm: xgb<br>learning_rate: 0.000484744276997372<br>max_depth: 8<br>subsample: 0.9855479934166286<br>colsample_bytree: 0.4680410649317334<br>min_child_weight: 5<br><b>Objective Value: -6.658982618518887</b>\",\"Trial #188<br>algorithm: xgb<br>learning_rate: 0.022432477519196928<br>max_depth: 5<br>subsample: 0.5819591447885447<br>colsample_bytree: 0.1949715272549276<br>min_child_weight: 13<br><b>Objective Value: 0.9467614990364478</b>\"],\"marker\":{\"color\":[\"rgb(54.0, 70.0, 157.0)\",\"rgb(67.0, 111.0, 177.0)\",\"rgb(49.0, 54.0, 149.0)\",\"rgb(65.0, 105.0, 174.0)\",\"rgb(55.0, 73.0, 158.0)\",\"rgb(50.0, 57.0, 151.0)\",\"rgb(76.0, 126.0, 185.0)\",\"rgb(53.0, 67.0, 155.0)\",\"rgb(69.0, 117.0, 180.0)\",\"rgb(114.0, 171.0, 208.0)\",\"rgb(51.0, 60.0, 152.0)\",\"rgb(52.0, 63.0, 154.0)\",\"rgb(144.0, 196.0, 221.0)\"],\"line\":{\"color\":\"Grey\",\"width\":0.5}},\"mode\":\"markers\",\"showlegend\":false,\"x\":[0.8558105105039219,0.1081539403017378,0.9975559933333737,0.06393922828854465,0.5235492940540687,0.5277084716528383,0.41151468106452377,0.7512158659814847,0.2704974479544986,0.699136270124052,0.2213408681389885,0.9855479934166286,0.5819591447885447],\"y\":[0.2965777047582458,0.8774623283402829,0.08773403630454318,0.9630028278354485,0.6157251098470551,0.5662117236927399,0.330480957357973,0.7802016742983691,0.061997530866703454,0.34676345983827406,0.7364584373058741,0.4680410649317334,0.1949715272549276],\"type\":\"scatter\",\"xaxis\":\"x21\",\"yaxis\":\"y21\"},{\"hovertemplate\":\"%{hovertext}<extra></extra>\",\"hovertext\":[\"Trial #8<br>algorithm: xgb<br>learning_rate: 0.0016114400564732941<br>max_depth: 10<br>subsample: 0.8558105105039219<br>colsample_bytree: 0.2965777047582458<br>min_child_weight: 9<br><b>Objective Value: -5.373464236107701</b>\",\"Trial #10<br>algorithm: xgb<br>learning_rate: 0.07748571364848593<br>max_depth: 1<br>subsample: 0.1081539403017378<br>colsample_bytree: 0.8774623283402829<br>min_child_weight: 20<br><b>Objective Value: 0.9057358214629305</b>\",\"Trial #16<br>algorithm: xgb<br>learning_rate: 0.0001093221261079389<br>max_depth: 6<br>subsample: 0.9975559933333737<br>colsample_bytree: 0.08773403630454318<br>min_child_weight: 1<br><b>Objective Value: -6.669394335705886</b>\",\"Trial #19<br>algorithm: xgb<br>learning_rate: 0.08019600545172129<br>max_depth: 1<br>subsample: 0.06393922828854465<br>colsample_bytree: 0.9630028278354485<br>min_child_weight: 20<br><b>Objective Value: 0.8811693917915496</b>\",\"Trial #29<br>algorithm: xgb<br>learning_rate: 0.0023166212634019153<br>max_depth: 10<br>subsample: 0.5235492940540687<br>colsample_bytree: 0.6157251098470551<br>min_child_weight: 10<br><b>Objective Value: -2.8957501035877273</b>\",\"Trial #47<br>algorithm: xgb<br>learning_rate: 0.00011521087399364599<br>max_depth: 6<br>subsample: 0.5277084716528383<br>colsample_bytree: 0.5662117236927399<br>min_child_weight: 1<br><b>Objective Value: -6.669368157650402</b>\",\"Trial #57<br>algorithm: xgb<br>learning_rate: 0.011236477438678406<br>max_depth: 4<br>subsample: 0.41151468106452377<br>colsample_bytree: 0.330480957357973<br>min_child_weight: 15<br><b>Objective Value: 0.9362219094296959</b>\",\"Trial #67<br>algorithm: xgb<br>learning_rate: 0.0005787891082612613<br>max_depth: 3<br>subsample: 0.7512158659814847<br>colsample_bytree: 0.7802016742983691<br>min_child_weight: 5<br><b>Objective Value: -6.649379579649593</b>\",\"Trial #86<br>algorithm: xgb<br>learning_rate: 0.01240560912844289<br>max_depth: 8<br>subsample: 0.2704974479544986<br>colsample_bytree: 0.061997530866703454<br>min_child_weight: 15<br><b>Objective Value: 0.9113729713455464</b>\",\"Trial #107<br>algorithm: xgb<br>learning_rate: 0.010250741887711978<br>max_depth: 8<br>subsample: 0.699136270124052<br>colsample_bytree: 0.34676345983827406<br>min_child_weight: 6<br><b>Objective Value: 0.9456992597139712</b>\",\"Trial #129<br>algorithm: xgb<br>learning_rate: 0.00037758996511927124<br>max_depth: 3<br>subsample: 0.2213408681389885<br>colsample_bytree: 0.7364584373058741<br>min_child_weight: 15<br><b>Objective Value: -6.665047997522985</b>\",\"Trial #157<br>algorithm: xgb<br>learning_rate: 0.000484744276997372<br>max_depth: 8<br>subsample: 0.9855479934166286<br>colsample_bytree: 0.4680410649317334<br>min_child_weight: 5<br><b>Objective Value: -6.658982618518887</b>\",\"Trial #188<br>algorithm: xgb<br>learning_rate: 0.022432477519196928<br>max_depth: 5<br>subsample: 0.5819591447885447<br>colsample_bytree: 0.1949715272549276<br>min_child_weight: 13<br><b>Objective Value: 0.9467614990364478</b>\"],\"marker\":{\"color\":[\"rgb(54.0, 70.0, 157.0)\",\"rgb(67.0, 111.0, 177.0)\",\"rgb(49.0, 54.0, 149.0)\",\"rgb(65.0, 105.0, 174.0)\",\"rgb(55.0, 73.0, 158.0)\",\"rgb(50.0, 57.0, 151.0)\",\"rgb(76.0, 126.0, 185.0)\",\"rgb(53.0, 67.0, 155.0)\",\"rgb(69.0, 117.0, 180.0)\",\"rgb(114.0, 171.0, 208.0)\",\"rgb(51.0, 60.0, 152.0)\",\"rgb(52.0, 63.0, 154.0)\",\"rgb(144.0, 196.0, 221.0)\"],\"line\":{\"color\":\"Grey\",\"width\":0.5}},\"mode\":\"markers\",\"showlegend\":false,\"x\":[0.8558105105039219,0.1081539403017378,0.9975559933333737,0.06393922828854465,0.5235492940540687,0.5277084716528383,0.41151468106452377,0.7512158659814847,0.2704974479544986,0.699136270124052,0.2213408681389885,0.9855479934166286,0.5819591447885447],\"y\":[0.0016114400564732941,0.07748571364848593,0.0001093221261079389,0.08019600545172129,0.0023166212634019153,0.00011521087399364599,0.011236477438678406,0.0005787891082612613,0.01240560912844289,0.010250741887711978,0.00037758996511927124,0.000484744276997372,0.022432477519196928],\"type\":\"scatter\",\"xaxis\":\"x28\",\"yaxis\":\"y28\"},{\"hovertemplate\":\"%{hovertext}<extra></extra>\",\"hovertext\":[\"Trial #8<br>algorithm: xgb<br>learning_rate: 0.0016114400564732941<br>max_depth: 10<br>subsample: 0.8558105105039219<br>colsample_bytree: 0.2965777047582458<br>min_child_weight: 9<br><b>Objective Value: -5.373464236107701</b>\",\"Trial #10<br>algorithm: xgb<br>learning_rate: 0.07748571364848593<br>max_depth: 1<br>subsample: 0.1081539403017378<br>colsample_bytree: 0.8774623283402829<br>min_child_weight: 20<br><b>Objective Value: 0.9057358214629305</b>\",\"Trial #16<br>algorithm: xgb<br>learning_rate: 0.0001093221261079389<br>max_depth: 6<br>subsample: 0.9975559933333737<br>colsample_bytree: 0.08773403630454318<br>min_child_weight: 1<br><b>Objective Value: -6.669394335705886</b>\",\"Trial #19<br>algorithm: xgb<br>learning_rate: 0.08019600545172129<br>max_depth: 1<br>subsample: 0.06393922828854465<br>colsample_bytree: 0.9630028278354485<br>min_child_weight: 20<br><b>Objective Value: 0.8811693917915496</b>\",\"Trial #29<br>algorithm: xgb<br>learning_rate: 0.0023166212634019153<br>max_depth: 10<br>subsample: 0.5235492940540687<br>colsample_bytree: 0.6157251098470551<br>min_child_weight: 10<br><b>Objective Value: -2.8957501035877273</b>\",\"Trial #47<br>algorithm: xgb<br>learning_rate: 0.00011521087399364599<br>max_depth: 6<br>subsample: 0.5277084716528383<br>colsample_bytree: 0.5662117236927399<br>min_child_weight: 1<br><b>Objective Value: -6.669368157650402</b>\",\"Trial #57<br>algorithm: xgb<br>learning_rate: 0.011236477438678406<br>max_depth: 4<br>subsample: 0.41151468106452377<br>colsample_bytree: 0.330480957357973<br>min_child_weight: 15<br><b>Objective Value: 0.9362219094296959</b>\",\"Trial #67<br>algorithm: xgb<br>learning_rate: 0.0005787891082612613<br>max_depth: 3<br>subsample: 0.7512158659814847<br>colsample_bytree: 0.7802016742983691<br>min_child_weight: 5<br><b>Objective Value: -6.649379579649593</b>\",\"Trial #86<br>algorithm: xgb<br>learning_rate: 0.01240560912844289<br>max_depth: 8<br>subsample: 0.2704974479544986<br>colsample_bytree: 0.061997530866703454<br>min_child_weight: 15<br><b>Objective Value: 0.9113729713455464</b>\",\"Trial #107<br>algorithm: xgb<br>learning_rate: 0.010250741887711978<br>max_depth: 8<br>subsample: 0.699136270124052<br>colsample_bytree: 0.34676345983827406<br>min_child_weight: 6<br><b>Objective Value: 0.9456992597139712</b>\",\"Trial #129<br>algorithm: xgb<br>learning_rate: 0.00037758996511927124<br>max_depth: 3<br>subsample: 0.2213408681389885<br>colsample_bytree: 0.7364584373058741<br>min_child_weight: 15<br><b>Objective Value: -6.665047997522985</b>\",\"Trial #157<br>algorithm: xgb<br>learning_rate: 0.000484744276997372<br>max_depth: 8<br>subsample: 0.9855479934166286<br>colsample_bytree: 0.4680410649317334<br>min_child_weight: 5<br><b>Objective Value: -6.658982618518887</b>\",\"Trial #188<br>algorithm: xgb<br>learning_rate: 0.022432477519196928<br>max_depth: 5<br>subsample: 0.5819591447885447<br>colsample_bytree: 0.1949715272549276<br>min_child_weight: 13<br><b>Objective Value: 0.9467614990364478</b>\"],\"marker\":{\"color\":[\"rgb(54.0, 70.0, 157.0)\",\"rgb(67.0, 111.0, 177.0)\",\"rgb(49.0, 54.0, 149.0)\",\"rgb(65.0, 105.0, 174.0)\",\"rgb(55.0, 73.0, 158.0)\",\"rgb(50.0, 57.0, 151.0)\",\"rgb(76.0, 126.0, 185.0)\",\"rgb(53.0, 67.0, 155.0)\",\"rgb(69.0, 117.0, 180.0)\",\"rgb(114.0, 171.0, 208.0)\",\"rgb(51.0, 60.0, 152.0)\",\"rgb(52.0, 63.0, 154.0)\",\"rgb(144.0, 196.0, 221.0)\"],\"line\":{\"color\":\"Grey\",\"width\":0.5}},\"mode\":\"markers\",\"showlegend\":false,\"x\":[0.8558105105039219,0.1081539403017378,0.9975559933333737,0.06393922828854465,0.5235492940540687,0.5277084716528383,0.41151468106452377,0.7512158659814847,0.2704974479544986,0.699136270124052,0.2213408681389885,0.9855479934166286,0.5819591447885447],\"y\":[10,1,6,1,10,6,4,3,8,8,3,8,5],\"type\":\"scatter\",\"xaxis\":\"x35\",\"yaxis\":\"y35\"},{\"hovertemplate\":\"%{hovertext}<extra></extra>\",\"hovertext\":[\"Trial #8<br>algorithm: xgb<br>learning_rate: 0.0016114400564732941<br>max_depth: 10<br>subsample: 0.8558105105039219<br>colsample_bytree: 0.2965777047582458<br>min_child_weight: 9<br><b>Objective Value: -5.373464236107701</b>\",\"Trial #10<br>algorithm: xgb<br>learning_rate: 0.07748571364848593<br>max_depth: 1<br>subsample: 0.1081539403017378<br>colsample_bytree: 0.8774623283402829<br>min_child_weight: 20<br><b>Objective Value: 0.9057358214629305</b>\",\"Trial #16<br>algorithm: xgb<br>learning_rate: 0.0001093221261079389<br>max_depth: 6<br>subsample: 0.9975559933333737<br>colsample_bytree: 0.08773403630454318<br>min_child_weight: 1<br><b>Objective Value: -6.669394335705886</b>\",\"Trial #19<br>algorithm: xgb<br>learning_rate: 0.08019600545172129<br>max_depth: 1<br>subsample: 0.06393922828854465<br>colsample_bytree: 0.9630028278354485<br>min_child_weight: 20<br><b>Objective Value: 0.8811693917915496</b>\",\"Trial #29<br>algorithm: xgb<br>learning_rate: 0.0023166212634019153<br>max_depth: 10<br>subsample: 0.5235492940540687<br>colsample_bytree: 0.6157251098470551<br>min_child_weight: 10<br><b>Objective Value: -2.8957501035877273</b>\",\"Trial #47<br>algorithm: xgb<br>learning_rate: 0.00011521087399364599<br>max_depth: 6<br>subsample: 0.5277084716528383<br>colsample_bytree: 0.5662117236927399<br>min_child_weight: 1<br><b>Objective Value: -6.669368157650402</b>\",\"Trial #57<br>algorithm: xgb<br>learning_rate: 0.011236477438678406<br>max_depth: 4<br>subsample: 0.41151468106452377<br>colsample_bytree: 0.330480957357973<br>min_child_weight: 15<br><b>Objective Value: 0.9362219094296959</b>\",\"Trial #67<br>algorithm: xgb<br>learning_rate: 0.0005787891082612613<br>max_depth: 3<br>subsample: 0.7512158659814847<br>colsample_bytree: 0.7802016742983691<br>min_child_weight: 5<br><b>Objective Value: -6.649379579649593</b>\",\"Trial #86<br>algorithm: xgb<br>learning_rate: 0.01240560912844289<br>max_depth: 8<br>subsample: 0.2704974479544986<br>colsample_bytree: 0.061997530866703454<br>min_child_weight: 15<br><b>Objective Value: 0.9113729713455464</b>\",\"Trial #107<br>algorithm: xgb<br>learning_rate: 0.010250741887711978<br>max_depth: 8<br>subsample: 0.699136270124052<br>colsample_bytree: 0.34676345983827406<br>min_child_weight: 6<br><b>Objective Value: 0.9456992597139712</b>\",\"Trial #129<br>algorithm: xgb<br>learning_rate: 0.00037758996511927124<br>max_depth: 3<br>subsample: 0.2213408681389885<br>colsample_bytree: 0.7364584373058741<br>min_child_weight: 15<br><b>Objective Value: -6.665047997522985</b>\",\"Trial #157<br>algorithm: xgb<br>learning_rate: 0.000484744276997372<br>max_depth: 8<br>subsample: 0.9855479934166286<br>colsample_bytree: 0.4680410649317334<br>min_child_weight: 5<br><b>Objective Value: -6.658982618518887</b>\",\"Trial #188<br>algorithm: xgb<br>learning_rate: 0.022432477519196928<br>max_depth: 5<br>subsample: 0.5819591447885447<br>colsample_bytree: 0.1949715272549276<br>min_child_weight: 13<br><b>Objective Value: 0.9467614990364478</b>\"],\"marker\":{\"color\":[\"rgb(54.0, 70.0, 157.0)\",\"rgb(67.0, 111.0, 177.0)\",\"rgb(49.0, 54.0, 149.0)\",\"rgb(65.0, 105.0, 174.0)\",\"rgb(55.0, 73.0, 158.0)\",\"rgb(50.0, 57.0, 151.0)\",\"rgb(76.0, 126.0, 185.0)\",\"rgb(53.0, 67.0, 155.0)\",\"rgb(69.0, 117.0, 180.0)\",\"rgb(114.0, 171.0, 208.0)\",\"rgb(51.0, 60.0, 152.0)\",\"rgb(52.0, 63.0, 154.0)\",\"rgb(144.0, 196.0, 221.0)\"],\"line\":{\"color\":\"Grey\",\"width\":0.5}},\"mode\":\"markers\",\"showlegend\":false,\"x\":[0.8558105105039219,0.1081539403017378,0.9975559933333737,0.06393922828854465,0.5235492940540687,0.5277084716528383,0.41151468106452377,0.7512158659814847,0.2704974479544986,0.699136270124052,0.2213408681389885,0.9855479934166286,0.5819591447885447],\"y\":[9,20,1,20,10,1,15,5,15,6,15,5,13],\"type\":\"scatter\",\"xaxis\":\"x42\",\"yaxis\":\"y42\"},{\"hovertemplate\":\"%{hovertext}<extra></extra>\",\"hovertext\":[\"Trial #8<br>algorithm: xgb<br>learning_rate: 0.0016114400564732941<br>max_depth: 10<br>subsample: 0.8558105105039219<br>colsample_bytree: 0.2965777047582458<br>min_child_weight: 9<br><b>Objective Value: -5.373464236107701</b>\",\"Trial #10<br>algorithm: xgb<br>learning_rate: 0.07748571364848593<br>max_depth: 1<br>subsample: 0.1081539403017378<br>colsample_bytree: 0.8774623283402829<br>min_child_weight: 20<br><b>Objective Value: 0.9057358214629305</b>\",\"Trial #16<br>algorithm: xgb<br>learning_rate: 0.0001093221261079389<br>max_depth: 6<br>subsample: 0.9975559933333737<br>colsample_bytree: 0.08773403630454318<br>min_child_weight: 1<br><b>Objective Value: -6.669394335705886</b>\",\"Trial #19<br>algorithm: xgb<br>learning_rate: 0.08019600545172129<br>max_depth: 1<br>subsample: 0.06393922828854465<br>colsample_bytree: 0.9630028278354485<br>min_child_weight: 20<br><b>Objective Value: 0.8811693917915496</b>\",\"Trial #29<br>algorithm: xgb<br>learning_rate: 0.0023166212634019153<br>max_depth: 10<br>subsample: 0.5235492940540687<br>colsample_bytree: 0.6157251098470551<br>min_child_weight: 10<br><b>Objective Value: -2.8957501035877273</b>\",\"Trial #47<br>algorithm: xgb<br>learning_rate: 0.00011521087399364599<br>max_depth: 6<br>subsample: 0.5277084716528383<br>colsample_bytree: 0.5662117236927399<br>min_child_weight: 1<br><b>Objective Value: -6.669368157650402</b>\",\"Trial #57<br>algorithm: xgb<br>learning_rate: 0.011236477438678406<br>max_depth: 4<br>subsample: 0.41151468106452377<br>colsample_bytree: 0.330480957357973<br>min_child_weight: 15<br><b>Objective Value: 0.9362219094296959</b>\",\"Trial #67<br>algorithm: xgb<br>learning_rate: 0.0005787891082612613<br>max_depth: 3<br>subsample: 0.7512158659814847<br>colsample_bytree: 0.7802016742983691<br>min_child_weight: 5<br><b>Objective Value: -6.649379579649593</b>\",\"Trial #86<br>algorithm: xgb<br>learning_rate: 0.01240560912844289<br>max_depth: 8<br>subsample: 0.2704974479544986<br>colsample_bytree: 0.061997530866703454<br>min_child_weight: 15<br><b>Objective Value: 0.9113729713455464</b>\",\"Trial #107<br>algorithm: xgb<br>learning_rate: 0.010250741887711978<br>max_depth: 8<br>subsample: 0.699136270124052<br>colsample_bytree: 0.34676345983827406<br>min_child_weight: 6<br><b>Objective Value: 0.9456992597139712</b>\",\"Trial #129<br>algorithm: xgb<br>learning_rate: 0.00037758996511927124<br>max_depth: 3<br>subsample: 0.2213408681389885<br>colsample_bytree: 0.7364584373058741<br>min_child_weight: 15<br><b>Objective Value: -6.665047997522985</b>\",\"Trial #157<br>algorithm: xgb<br>learning_rate: 0.000484744276997372<br>max_depth: 8<br>subsample: 0.9855479934166286<br>colsample_bytree: 0.4680410649317334<br>min_child_weight: 5<br><b>Objective Value: -6.658982618518887</b>\",\"Trial #188<br>algorithm: xgb<br>learning_rate: 0.022432477519196928<br>max_depth: 5<br>subsample: 0.5819591447885447<br>colsample_bytree: 0.1949715272549276<br>min_child_weight: 13<br><b>Objective Value: 0.9467614990364478</b>\"],\"marker\":{\"color\":[\"rgb(54.0, 70.0, 157.0)\",\"rgb(67.0, 111.0, 177.0)\",\"rgb(49.0, 54.0, 149.0)\",\"rgb(65.0, 105.0, 174.0)\",\"rgb(55.0, 73.0, 158.0)\",\"rgb(50.0, 57.0, 151.0)\",\"rgb(76.0, 126.0, 185.0)\",\"rgb(53.0, 67.0, 155.0)\",\"rgb(69.0, 117.0, 180.0)\",\"rgb(114.0, 171.0, 208.0)\",\"rgb(51.0, 60.0, 152.0)\",\"rgb(52.0, 63.0, 154.0)\",\"rgb(144.0, 196.0, 221.0)\"],\"line\":{\"color\":\"Grey\",\"width\":0.5}},\"mode\":\"markers\",\"showlegend\":false,\"x\":[0.8558105105039219,0.1081539403017378,0.9975559933333737,0.06393922828854465,0.5235492940540687,0.5277084716528383,0.41151468106452377,0.7512158659814847,0.2704974479544986,0.699136270124052,0.2213408681389885,0.9855479934166286,0.5819591447885447],\"y\":[0.8558105105039219,0.1081539403017378,0.9975559933333737,0.06393922828854465,0.5235492940540687,0.5277084716528383,0.41151468106452377,0.7512158659814847,0.2704974479544986,0.699136270124052,0.2213408681389885,0.9855479934166286,0.5819591447885447],\"type\":\"scatter\",\"xaxis\":\"x49\",\"yaxis\":\"y49\"},{\"hoverinfo\":\"none\",\"marker\":{\"cmax\":1,\"cmin\":0,\"colorbar\":{\"thickness\":10,\"ticktext\":[\"min. (-6.66939)\",\"25% (0.946593)\",\"50% (0.949962)\",\"75% (0.950246)\",\"max. (0.950297)\"],\"tickvals\":[0,0.25,0.5,0.75,1]},\"colorscale\":[[0.0,\"rgb(49,54,149)\"],[0.1,\"rgb(69,117,180)\"],[0.2,\"rgb(116,173,209)\"],[0.3,\"rgb(171,217,233)\"],[0.4,\"rgb(224,243,248)\"],[0.5,\"rgb(255,255,191)\"],[0.6,\"rgb(254,224,144)\"],[0.7,\"rgb(253,174,97)\"],[0.8,\"rgb(244,109,67)\"],[0.9,\"rgb(215,48,39)\"],[1.0,\"rgb(165,0,38)\"]],\"showscale\":true},\"mode\":\"markers\",\"showlegend\":false,\"x\":[null],\"y\":[null],\"type\":\"scatter\"}],                        {\"template\":{\"data\":{\"histogram2dcontour\":[{\"type\":\"histogram2dcontour\",\"colorbar\":{\"outlinewidth\":0,\"ticks\":\"\"},\"colorscale\":[[0.0,\"#0d0887\"],[0.1111111111111111,\"#46039f\"],[0.2222222222222222,\"#7201a8\"],[0.3333333333333333,\"#9c179e\"],[0.4444444444444444,\"#bd3786\"],[0.5555555555555556,\"#d8576b\"],[0.6666666666666666,\"#ed7953\"],[0.7777777777777778,\"#fb9f3a\"],[0.8888888888888888,\"#fdca26\"],[1.0,\"#f0f921\"]]}],\"choropleth\":[{\"type\":\"choropleth\",\"colorbar\":{\"outlinewidth\":0,\"ticks\":\"\"}}],\"histogram2d\":[{\"type\":\"histogram2d\",\"colorbar\":{\"outlinewidth\":0,\"ticks\":\"\"},\"colorscale\":[[0.0,\"#0d0887\"],[0.1111111111111111,\"#46039f\"],[0.2222222222222222,\"#7201a8\"],[0.3333333333333333,\"#9c179e\"],[0.4444444444444444,\"#bd3786\"],[0.5555555555555556,\"#d8576b\"],[0.6666666666666666,\"#ed7953\"],[0.7777777777777778,\"#fb9f3a\"],[0.8888888888888888,\"#fdca26\"],[1.0,\"#f0f921\"]]}],\"heatmap\":[{\"type\":\"heatmap\",\"colorbar\":{\"outlinewidth\":0,\"ticks\":\"\"},\"colorscale\":[[0.0,\"#0d0887\"],[0.1111111111111111,\"#46039f\"],[0.2222222222222222,\"#7201a8\"],[0.3333333333333333,\"#9c179e\"],[0.4444444444444444,\"#bd3786\"],[0.5555555555555556,\"#d8576b\"],[0.6666666666666666,\"#ed7953\"],[0.7777777777777778,\"#fb9f3a\"],[0.8888888888888888,\"#fdca26\"],[1.0,\"#f0f921\"]]}],\"heatmapgl\":[{\"type\":\"heatmapgl\",\"colorbar\":{\"outlinewidth\":0,\"ticks\":\"\"},\"colorscale\":[[0.0,\"#0d0887\"],[0.1111111111111111,\"#46039f\"],[0.2222222222222222,\"#7201a8\"],[0.3333333333333333,\"#9c179e\"],[0.4444444444444444,\"#bd3786\"],[0.5555555555555556,\"#d8576b\"],[0.6666666666666666,\"#ed7953\"],[0.7777777777777778,\"#fb9f3a\"],[0.8888888888888888,\"#fdca26\"],[1.0,\"#f0f921\"]]}],\"contourcarpet\":[{\"type\":\"contourcarpet\",\"colorbar\":{\"outlinewidth\":0,\"ticks\":\"\"}}],\"contour\":[{\"type\":\"contour\",\"colorbar\":{\"outlinewidth\":0,\"ticks\":\"\"},\"colorscale\":[[0.0,\"#0d0887\"],[0.1111111111111111,\"#46039f\"],[0.2222222222222222,\"#7201a8\"],[0.3333333333333333,\"#9c179e\"],[0.4444444444444444,\"#bd3786\"],[0.5555555555555556,\"#d8576b\"],[0.6666666666666666,\"#ed7953\"],[0.7777777777777778,\"#fb9f3a\"],[0.8888888888888888,\"#fdca26\"],[1.0,\"#f0f921\"]]}],\"surface\":[{\"type\":\"surface\",\"colorbar\":{\"outlinewidth\":0,\"ticks\":\"\"},\"colorscale\":[[0.0,\"#0d0887\"],[0.1111111111111111,\"#46039f\"],[0.2222222222222222,\"#7201a8\"],[0.3333333333333333,\"#9c179e\"],[0.4444444444444444,\"#bd3786\"],[0.5555555555555556,\"#d8576b\"],[0.6666666666666666,\"#ed7953\"],[0.7777777777777778,\"#fb9f3a\"],[0.8888888888888888,\"#fdca26\"],[1.0,\"#f0f921\"]]}],\"mesh3d\":[{\"type\":\"mesh3d\",\"colorbar\":{\"outlinewidth\":0,\"ticks\":\"\"}}],\"scatter\":[{\"fillpattern\":{\"fillmode\":\"overlay\",\"size\":10,\"solidity\":0.2},\"type\":\"scatter\"}],\"parcoords\":[{\"type\":\"parcoords\",\"line\":{\"colorbar\":{\"outlinewidth\":0,\"ticks\":\"\"}}}],\"scatterpolargl\":[{\"type\":\"scatterpolargl\",\"marker\":{\"colorbar\":{\"outlinewidth\":0,\"ticks\":\"\"}}}],\"bar\":[{\"error_x\":{\"color\":\"#2a3f5f\"},\"error_y\":{\"color\":\"#2a3f5f\"},\"marker\":{\"line\":{\"color\":\"#E5ECF6\",\"width\":0.5},\"pattern\":{\"fillmode\":\"overlay\",\"size\":10,\"solidity\":0.2}},\"type\":\"bar\"}],\"scattergeo\":[{\"type\":\"scattergeo\",\"marker\":{\"colorbar\":{\"outlinewidth\":0,\"ticks\":\"\"}}}],\"scatterpolar\":[{\"type\":\"scatterpolar\",\"marker\":{\"colorbar\":{\"outlinewidth\":0,\"ticks\":\"\"}}}],\"histogram\":[{\"marker\":{\"pattern\":{\"fillmode\":\"overlay\",\"size\":10,\"solidity\":0.2}},\"type\":\"histogram\"}],\"scattergl\":[{\"type\":\"scattergl\",\"marker\":{\"colorbar\":{\"outlinewidth\":0,\"ticks\":\"\"}}}],\"scatter3d\":[{\"type\":\"scatter3d\",\"line\":{\"colorbar\":{\"outlinewidth\":0,\"ticks\":\"\"}},\"marker\":{\"colorbar\":{\"outlinewidth\":0,\"ticks\":\"\"}}}],\"scattermapbox\":[{\"type\":\"scattermapbox\",\"marker\":{\"colorbar\":{\"outlinewidth\":0,\"ticks\":\"\"}}}],\"scatterternary\":[{\"type\":\"scatterternary\",\"marker\":{\"colorbar\":{\"outlinewidth\":0,\"ticks\":\"\"}}}],\"scattercarpet\":[{\"type\":\"scattercarpet\",\"marker\":{\"colorbar\":{\"outlinewidth\":0,\"ticks\":\"\"}}}],\"carpet\":[{\"aaxis\":{\"endlinecolor\":\"#2a3f5f\",\"gridcolor\":\"white\",\"linecolor\":\"white\",\"minorgridcolor\":\"white\",\"startlinecolor\":\"#2a3f5f\"},\"baxis\":{\"endlinecolor\":\"#2a3f5f\",\"gridcolor\":\"white\",\"linecolor\":\"white\",\"minorgridcolor\":\"white\",\"startlinecolor\":\"#2a3f5f\"},\"type\":\"carpet\"}],\"table\":[{\"cells\":{\"fill\":{\"color\":\"#EBF0F8\"},\"line\":{\"color\":\"white\"}},\"header\":{\"fill\":{\"color\":\"#C8D4E3\"},\"line\":{\"color\":\"white\"}},\"type\":\"table\"}],\"barpolar\":[{\"marker\":{\"line\":{\"color\":\"#E5ECF6\",\"width\":0.5},\"pattern\":{\"fillmode\":\"overlay\",\"size\":10,\"solidity\":0.2}},\"type\":\"barpolar\"}],\"pie\":[{\"automargin\":true,\"type\":\"pie\"}]},\"layout\":{\"autotypenumbers\":\"strict\",\"colorway\":[\"#636efa\",\"#EF553B\",\"#00cc96\",\"#ab63fa\",\"#FFA15A\",\"#19d3f3\",\"#FF6692\",\"#B6E880\",\"#FF97FF\",\"#FECB52\"],\"font\":{\"color\":\"#2a3f5f\"},\"hovermode\":\"closest\",\"hoverlabel\":{\"align\":\"left\"},\"paper_bgcolor\":\"white\",\"plot_bgcolor\":\"#E5ECF6\",\"polar\":{\"bgcolor\":\"#E5ECF6\",\"angularaxis\":{\"gridcolor\":\"white\",\"linecolor\":\"white\",\"ticks\":\"\"},\"radialaxis\":{\"gridcolor\":\"white\",\"linecolor\":\"white\",\"ticks\":\"\"}},\"ternary\":{\"bgcolor\":\"#E5ECF6\",\"aaxis\":{\"gridcolor\":\"white\",\"linecolor\":\"white\",\"ticks\":\"\"},\"baxis\":{\"gridcolor\":\"white\",\"linecolor\":\"white\",\"ticks\":\"\"},\"caxis\":{\"gridcolor\":\"white\",\"linecolor\":\"white\",\"ticks\":\"\"}},\"coloraxis\":{\"colorbar\":{\"outlinewidth\":0,\"ticks\":\"\"}},\"colorscale\":{\"sequential\":[[0.0,\"#0d0887\"],[0.1111111111111111,\"#46039f\"],[0.2222222222222222,\"#7201a8\"],[0.3333333333333333,\"#9c179e\"],[0.4444444444444444,\"#bd3786\"],[0.5555555555555556,\"#d8576b\"],[0.6666666666666666,\"#ed7953\"],[0.7777777777777778,\"#fb9f3a\"],[0.8888888888888888,\"#fdca26\"],[1.0,\"#f0f921\"]],\"sequentialminus\":[[0.0,\"#0d0887\"],[0.1111111111111111,\"#46039f\"],[0.2222222222222222,\"#7201a8\"],[0.3333333333333333,\"#9c179e\"],[0.4444444444444444,\"#bd3786\"],[0.5555555555555556,\"#d8576b\"],[0.6666666666666666,\"#ed7953\"],[0.7777777777777778,\"#fb9f3a\"],[0.8888888888888888,\"#fdca26\"],[1.0,\"#f0f921\"]],\"diverging\":[[0,\"#8e0152\"],[0.1,\"#c51b7d\"],[0.2,\"#de77ae\"],[0.3,\"#f1b6da\"],[0.4,\"#fde0ef\"],[0.5,\"#f7f7f7\"],[0.6,\"#e6f5d0\"],[0.7,\"#b8e186\"],[0.8,\"#7fbc41\"],[0.9,\"#4d9221\"],[1,\"#276419\"]]},\"xaxis\":{\"gridcolor\":\"white\",\"linecolor\":\"white\",\"ticks\":\"\",\"title\":{\"standoff\":15},\"zerolinecolor\":\"white\",\"automargin\":true,\"zerolinewidth\":2},\"yaxis\":{\"gridcolor\":\"white\",\"linecolor\":\"white\",\"ticks\":\"\",\"title\":{\"standoff\":15},\"zerolinecolor\":\"white\",\"automargin\":true,\"zerolinewidth\":2},\"scene\":{\"xaxis\":{\"backgroundcolor\":\"#E5ECF6\",\"gridcolor\":\"white\",\"linecolor\":\"white\",\"showbackground\":true,\"ticks\":\"\",\"zerolinecolor\":\"white\",\"gridwidth\":2},\"yaxis\":{\"backgroundcolor\":\"#E5ECF6\",\"gridcolor\":\"white\",\"linecolor\":\"white\",\"showbackground\":true,\"ticks\":\"\",\"zerolinecolor\":\"white\",\"gridwidth\":2},\"zaxis\":{\"backgroundcolor\":\"#E5ECF6\",\"gridcolor\":\"white\",\"linecolor\":\"white\",\"showbackground\":true,\"ticks\":\"\",\"zerolinecolor\":\"white\",\"gridwidth\":2}},\"shapedefaults\":{\"line\":{\"color\":\"#2a3f5f\"}},\"annotationdefaults\":{\"arrowcolor\":\"#2a3f5f\",\"arrowhead\":0,\"arrowwidth\":1},\"geo\":{\"bgcolor\":\"white\",\"landcolor\":\"#E5ECF6\",\"subunitcolor\":\"white\",\"showland\":true,\"showlakes\":true,\"lakecolor\":\"white\"},\"title\":{\"x\":0.05},\"mapbox\":{\"style\":\"light\"}}},\"xaxis\":{\"anchor\":\"y\",\"domain\":[0.0,0.1330612244897959],\"matches\":\"x43\",\"showticklabels\":false,\"range\":[-0.1,2.1],\"type\":\"category\"},\"yaxis\":{\"anchor\":\"x\",\"domain\":[0.8669387755102042,1.0],\"range\":[-0.1,2.1],\"type\":\"category\",\"title\":{\"text\":\"algorithm\"}},\"xaxis2\":{\"anchor\":\"y2\",\"domain\":[0.14448979591836733,0.27755102040816326],\"matches\":\"x44\",\"showticklabels\":false,\"range\":[-4.28536297497892,2.012427241529812],\"type\":\"log\"},\"yaxis2\":{\"anchor\":\"x2\",\"domain\":[0.8669387755102042,1.0],\"matches\":\"y\",\"showticklabels\":false,\"range\":[-0.1,2.1],\"type\":\"category\"},\"xaxis3\":{\"anchor\":\"y3\",\"domain\":[0.28897959183673466,0.42204081632653057],\"matches\":\"x45\",\"showticklabels\":false,\"range\":[0.016947266018266197,1.0080530926838858]},\"yaxis3\":{\"anchor\":\"x3\",\"domain\":[0.8669387755102042,1.0],\"matches\":\"y\",\"showticklabels\":false,\"range\":[-0.1,2.1],\"type\":\"category\"},\"xaxis4\":{\"anchor\":\"y4\",\"domain\":[0.433469387755102,0.5665306122448979],\"matches\":\"x46\",\"showticklabels\":false,\"range\":[-4.104564164062956,-0.9525750299359497],\"type\":\"log\"},\"yaxis4\":{\"anchor\":\"x4\",\"domain\":[0.8669387755102042,1.0],\"matches\":\"y\",\"showticklabels\":false,\"range\":[-0.1,2.1],\"type\":\"category\"},\"xaxis5\":{\"anchor\":\"y5\",\"domain\":[0.5779591836734693,0.7110204081632652],\"matches\":\"x47\",\"showticklabels\":false,\"range\":[0.55,10.45]},\"yaxis5\":{\"anchor\":\"x5\",\"domain\":[0.8669387755102042,1.0],\"matches\":\"y\",\"showticklabels\":false,\"range\":[-0.1,2.1],\"type\":\"category\"},\"xaxis6\":{\"anchor\":\"y6\",\"domain\":[0.7224489795918367,0.8555102040816327],\"matches\":\"x48\",\"showticklabels\":false,\"range\":[0.04999999999999993,20.95]},\"yaxis6\":{\"anchor\":\"x6\",\"domain\":[0.8669387755102042,1.0],\"matches\":\"y\",\"showticklabels\":false,\"range\":[-0.1,2.1],\"type\":\"category\"},\"xaxis7\":{\"anchor\":\"y7\",\"domain\":[0.8669387755102042,1.0],\"matches\":\"x49\",\"showticklabels\":false,\"range\":[0.017258390036303195,1.0442368315856152]},\"yaxis7\":{\"anchor\":\"x7\",\"domain\":[0.8669387755102042,1.0],\"matches\":\"y\",\"showticklabels\":false,\"range\":[-0.1,2.1],\"type\":\"category\"},\"xaxis8\":{\"anchor\":\"y8\",\"domain\":[0.0,0.1330612244897959],\"matches\":\"x43\",\"showticklabels\":false,\"range\":[-0.1,2.1],\"type\":\"category\"},\"yaxis8\":{\"anchor\":\"x8\",\"domain\":[0.7224489795918367,0.8555102040816327],\"range\":[-4.28536297497892,2.012427241529812],\"type\":\"log\",\"title\":{\"text\":\"alpha\"}},\"xaxis9\":{\"anchor\":\"y9\",\"domain\":[0.14448979591836733,0.27755102040816326],\"matches\":\"x44\",\"showticklabels\":false,\"range\":[-4.28536297497892,2.012427241529812],\"type\":\"log\"},\"yaxis9\":{\"anchor\":\"x9\",\"domain\":[0.7224489795918367,0.8555102040816327],\"matches\":\"y8\",\"showticklabels\":false,\"range\":[-4.28536297497892,2.012427241529812],\"type\":\"log\"},\"xaxis10\":{\"anchor\":\"y10\",\"domain\":[0.28897959183673466,0.42204081632653057],\"matches\":\"x45\",\"showticklabels\":false,\"range\":[0.016947266018266197,1.0080530926838858]},\"yaxis10\":{\"anchor\":\"x10\",\"domain\":[0.7224489795918367,0.8555102040816327],\"matches\":\"y8\",\"showticklabels\":false,\"range\":[-4.28536297497892,2.012427241529812],\"type\":\"log\"},\"xaxis11\":{\"anchor\":\"y11\",\"domain\":[0.433469387755102,0.5665306122448979],\"matches\":\"x46\",\"showticklabels\":false,\"range\":[-4.104564164062956,-0.9525750299359497],\"type\":\"log\"},\"yaxis11\":{\"anchor\":\"x11\",\"domain\":[0.7224489795918367,0.8555102040816327],\"matches\":\"y8\",\"showticklabels\":false,\"range\":[-4.28536297497892,2.012427241529812],\"type\":\"log\"},\"xaxis12\":{\"anchor\":\"y12\",\"domain\":[0.5779591836734693,0.7110204081632652],\"matches\":\"x47\",\"showticklabels\":false,\"range\":[0.55,10.45]},\"yaxis12\":{\"anchor\":\"x12\",\"domain\":[0.7224489795918367,0.8555102040816327],\"matches\":\"y8\",\"showticklabels\":false,\"range\":[-4.28536297497892,2.012427241529812],\"type\":\"log\"},\"xaxis13\":{\"anchor\":\"y13\",\"domain\":[0.7224489795918367,0.8555102040816327],\"matches\":\"x48\",\"showticklabels\":false,\"range\":[0.04999999999999993,20.95]},\"yaxis13\":{\"anchor\":\"x13\",\"domain\":[0.7224489795918367,0.8555102040816327],\"matches\":\"y8\",\"showticklabels\":false,\"range\":[-4.28536297497892,2.012427241529812],\"type\":\"log\"},\"xaxis14\":{\"anchor\":\"y14\",\"domain\":[0.8669387755102042,1.0],\"matches\":\"x49\",\"showticklabels\":false,\"range\":[0.017258390036303195,1.0442368315856152]},\"yaxis14\":{\"anchor\":\"x14\",\"domain\":[0.7224489795918367,0.8555102040816327],\"matches\":\"y8\",\"showticklabels\":false,\"range\":[-4.28536297497892,2.012427241529812],\"type\":\"log\"},\"xaxis15\":{\"anchor\":\"y15\",\"domain\":[0.0,0.1330612244897959],\"matches\":\"x43\",\"showticklabels\":false,\"range\":[-0.1,2.1],\"type\":\"category\"},\"yaxis15\":{\"anchor\":\"x15\",\"domain\":[0.5779591836734693,0.7110204081632652],\"range\":[0.016947266018266197,1.0080530926838858],\"title\":{\"text\":\"colsample_bytree\"}},\"xaxis16\":{\"anchor\":\"y16\",\"domain\":[0.14448979591836733,0.27755102040816326],\"matches\":\"x44\",\"showticklabels\":false,\"range\":[-4.28536297497892,2.012427241529812],\"type\":\"log\"},\"yaxis16\":{\"anchor\":\"x16\",\"domain\":[0.5779591836734693,0.7110204081632652],\"matches\":\"y15\",\"showticklabels\":false,\"range\":[0.016947266018266197,1.0080530926838858]},\"xaxis17\":{\"anchor\":\"y17\",\"domain\":[0.28897959183673466,0.42204081632653057],\"matches\":\"x45\",\"showticklabels\":false,\"range\":[0.016947266018266197,1.0080530926838858]},\"yaxis17\":{\"anchor\":\"x17\",\"domain\":[0.5779591836734693,0.7110204081632652],\"matches\":\"y15\",\"showticklabels\":false,\"range\":[0.016947266018266197,1.0080530926838858]},\"xaxis18\":{\"anchor\":\"y18\",\"domain\":[0.433469387755102,0.5665306122448979],\"matches\":\"x46\",\"showticklabels\":false,\"range\":[-4.104564164062956,-0.9525750299359497],\"type\":\"log\"},\"yaxis18\":{\"anchor\":\"x18\",\"domain\":[0.5779591836734693,0.7110204081632652],\"matches\":\"y15\",\"showticklabels\":false,\"range\":[0.016947266018266197,1.0080530926838858]},\"xaxis19\":{\"anchor\":\"y19\",\"domain\":[0.5779591836734693,0.7110204081632652],\"matches\":\"x47\",\"showticklabels\":false,\"range\":[0.55,10.45]},\"yaxis19\":{\"anchor\":\"x19\",\"domain\":[0.5779591836734693,0.7110204081632652],\"matches\":\"y15\",\"showticklabels\":false,\"range\":[0.016947266018266197,1.0080530926838858]},\"xaxis20\":{\"anchor\":\"y20\",\"domain\":[0.7224489795918367,0.8555102040816327],\"matches\":\"x48\",\"showticklabels\":false,\"range\":[0.04999999999999993,20.95]},\"yaxis20\":{\"anchor\":\"x20\",\"domain\":[0.5779591836734693,0.7110204081632652],\"matches\":\"y15\",\"showticklabels\":false,\"range\":[0.016947266018266197,1.0080530926838858]},\"xaxis21\":{\"anchor\":\"y21\",\"domain\":[0.8669387755102042,1.0],\"matches\":\"x49\",\"showticklabels\":false,\"range\":[0.017258390036303195,1.0442368315856152]},\"yaxis21\":{\"anchor\":\"x21\",\"domain\":[0.5779591836734693,0.7110204081632652],\"matches\":\"y15\",\"showticklabels\":false,\"range\":[0.016947266018266197,1.0080530926838858]},\"xaxis22\":{\"anchor\":\"y22\",\"domain\":[0.0,0.1330612244897959],\"matches\":\"x43\",\"showticklabels\":false,\"range\":[-0.1,2.1],\"type\":\"category\"},\"yaxis22\":{\"anchor\":\"x22\",\"domain\":[0.433469387755102,0.5665306122448979],\"range\":[-4.104564164062956,-0.9525750299359497],\"type\":\"log\",\"title\":{\"text\":\"learning_rate\"}},\"xaxis23\":{\"anchor\":\"y23\",\"domain\":[0.14448979591836733,0.27755102040816326],\"matches\":\"x44\",\"showticklabels\":false,\"range\":[-4.28536297497892,2.012427241529812],\"type\":\"log\"},\"yaxis23\":{\"anchor\":\"x23\",\"domain\":[0.433469387755102,0.5665306122448979],\"matches\":\"y22\",\"showticklabels\":false,\"range\":[-4.104564164062956,-0.9525750299359497],\"type\":\"log\"},\"xaxis24\":{\"anchor\":\"y24\",\"domain\":[0.28897959183673466,0.42204081632653057],\"matches\":\"x45\",\"showticklabels\":false,\"range\":[0.016947266018266197,1.0080530926838858]},\"yaxis24\":{\"anchor\":\"x24\",\"domain\":[0.433469387755102,0.5665306122448979],\"matches\":\"y22\",\"showticklabels\":false,\"range\":[-4.104564164062956,-0.9525750299359497],\"type\":\"log\"},\"xaxis25\":{\"anchor\":\"y25\",\"domain\":[0.433469387755102,0.5665306122448979],\"matches\":\"x46\",\"showticklabels\":false,\"range\":[-4.104564164062956,-0.9525750299359497],\"type\":\"log\"},\"yaxis25\":{\"anchor\":\"x25\",\"domain\":[0.433469387755102,0.5665306122448979],\"matches\":\"y22\",\"showticklabels\":false,\"range\":[-4.104564164062956,-0.9525750299359497],\"type\":\"log\"},\"xaxis26\":{\"anchor\":\"y26\",\"domain\":[0.5779591836734693,0.7110204081632652],\"matches\":\"x47\",\"showticklabels\":false,\"range\":[0.55,10.45]},\"yaxis26\":{\"anchor\":\"x26\",\"domain\":[0.433469387755102,0.5665306122448979],\"matches\":\"y22\",\"showticklabels\":false,\"range\":[-4.104564164062956,-0.9525750299359497],\"type\":\"log\"},\"xaxis27\":{\"anchor\":\"y27\",\"domain\":[0.7224489795918367,0.8555102040816327],\"matches\":\"x48\",\"showticklabels\":false,\"range\":[0.04999999999999993,20.95]},\"yaxis27\":{\"anchor\":\"x27\",\"domain\":[0.433469387755102,0.5665306122448979],\"matches\":\"y22\",\"showticklabels\":false,\"range\":[-4.104564164062956,-0.9525750299359497],\"type\":\"log\"},\"xaxis28\":{\"anchor\":\"y28\",\"domain\":[0.8669387755102042,1.0],\"matches\":\"x49\",\"showticklabels\":false,\"range\":[0.017258390036303195,1.0442368315856152]},\"yaxis28\":{\"anchor\":\"x28\",\"domain\":[0.433469387755102,0.5665306122448979],\"matches\":\"y22\",\"showticklabels\":false,\"range\":[-4.104564164062956,-0.9525750299359497],\"type\":\"log\"},\"xaxis29\":{\"anchor\":\"y29\",\"domain\":[0.0,0.1330612244897959],\"matches\":\"x43\",\"showticklabels\":false,\"range\":[-0.1,2.1],\"type\":\"category\"},\"yaxis29\":{\"anchor\":\"x29\",\"domain\":[0.28897959183673466,0.42204081632653057],\"range\":[0.55,10.45],\"title\":{\"text\":\"max_depth\"}},\"xaxis30\":{\"anchor\":\"y30\",\"domain\":[0.14448979591836733,0.27755102040816326],\"matches\":\"x44\",\"showticklabels\":false,\"range\":[-4.28536297497892,2.012427241529812],\"type\":\"log\"},\"yaxis30\":{\"anchor\":\"x30\",\"domain\":[0.28897959183673466,0.42204081632653057],\"matches\":\"y29\",\"showticklabels\":false,\"range\":[0.55,10.45]},\"xaxis31\":{\"anchor\":\"y31\",\"domain\":[0.28897959183673466,0.42204081632653057],\"matches\":\"x45\",\"showticklabels\":false,\"range\":[0.016947266018266197,1.0080530926838858]},\"yaxis31\":{\"anchor\":\"x31\",\"domain\":[0.28897959183673466,0.42204081632653057],\"matches\":\"y29\",\"showticklabels\":false,\"range\":[0.55,10.45]},\"xaxis32\":{\"anchor\":\"y32\",\"domain\":[0.433469387755102,0.5665306122448979],\"matches\":\"x46\",\"showticklabels\":false,\"range\":[-4.104564164062956,-0.9525750299359497],\"type\":\"log\"},\"yaxis32\":{\"anchor\":\"x32\",\"domain\":[0.28897959183673466,0.42204081632653057],\"matches\":\"y29\",\"showticklabels\":false,\"range\":[0.55,10.45]},\"xaxis33\":{\"anchor\":\"y33\",\"domain\":[0.5779591836734693,0.7110204081632652],\"matches\":\"x47\",\"showticklabels\":false,\"range\":[0.55,10.45]},\"yaxis33\":{\"anchor\":\"x33\",\"domain\":[0.28897959183673466,0.42204081632653057],\"matches\":\"y29\",\"showticklabels\":false,\"range\":[0.55,10.45]},\"xaxis34\":{\"anchor\":\"y34\",\"domain\":[0.7224489795918367,0.8555102040816327],\"matches\":\"x48\",\"showticklabels\":false,\"range\":[0.04999999999999993,20.95]},\"yaxis34\":{\"anchor\":\"x34\",\"domain\":[0.28897959183673466,0.42204081632653057],\"matches\":\"y29\",\"showticklabels\":false,\"range\":[0.55,10.45]},\"xaxis35\":{\"anchor\":\"y35\",\"domain\":[0.8669387755102042,1.0],\"matches\":\"x49\",\"showticklabels\":false,\"range\":[0.017258390036303195,1.0442368315856152]},\"yaxis35\":{\"anchor\":\"x35\",\"domain\":[0.28897959183673466,0.42204081632653057],\"matches\":\"y29\",\"showticklabels\":false,\"range\":[0.55,10.45]},\"xaxis36\":{\"anchor\":\"y36\",\"domain\":[0.0,0.1330612244897959],\"matches\":\"x43\",\"showticklabels\":false,\"range\":[-0.1,2.1],\"type\":\"category\"},\"yaxis36\":{\"anchor\":\"x36\",\"domain\":[0.14448979591836733,0.27755102040816326],\"range\":[0.04999999999999993,20.95],\"title\":{\"text\":\"min_child_weight\"}},\"xaxis37\":{\"anchor\":\"y37\",\"domain\":[0.14448979591836733,0.27755102040816326],\"matches\":\"x44\",\"showticklabels\":false,\"range\":[-4.28536297497892,2.012427241529812],\"type\":\"log\"},\"yaxis37\":{\"anchor\":\"x37\",\"domain\":[0.14448979591836733,0.27755102040816326],\"matches\":\"y36\",\"showticklabels\":false,\"range\":[0.04999999999999993,20.95]},\"xaxis38\":{\"anchor\":\"y38\",\"domain\":[0.28897959183673466,0.42204081632653057],\"matches\":\"x45\",\"showticklabels\":false,\"range\":[0.016947266018266197,1.0080530926838858]},\"yaxis38\":{\"anchor\":\"x38\",\"domain\":[0.14448979591836733,0.27755102040816326],\"matches\":\"y36\",\"showticklabels\":false,\"range\":[0.04999999999999993,20.95]},\"xaxis39\":{\"anchor\":\"y39\",\"domain\":[0.433469387755102,0.5665306122448979],\"matches\":\"x46\",\"showticklabels\":false,\"range\":[-4.104564164062956,-0.9525750299359497],\"type\":\"log\"},\"yaxis39\":{\"anchor\":\"x39\",\"domain\":[0.14448979591836733,0.27755102040816326],\"matches\":\"y36\",\"showticklabels\":false,\"range\":[0.04999999999999993,20.95]},\"xaxis40\":{\"anchor\":\"y40\",\"domain\":[0.5779591836734693,0.7110204081632652],\"matches\":\"x47\",\"showticklabels\":false,\"range\":[0.55,10.45]},\"yaxis40\":{\"anchor\":\"x40\",\"domain\":[0.14448979591836733,0.27755102040816326],\"matches\":\"y36\",\"showticklabels\":false,\"range\":[0.04999999999999993,20.95]},\"xaxis41\":{\"anchor\":\"y41\",\"domain\":[0.7224489795918367,0.8555102040816327],\"matches\":\"x48\",\"showticklabels\":false,\"range\":[0.04999999999999993,20.95]},\"yaxis41\":{\"anchor\":\"x41\",\"domain\":[0.14448979591836733,0.27755102040816326],\"matches\":\"y36\",\"showticklabels\":false,\"range\":[0.04999999999999993,20.95]},\"xaxis42\":{\"anchor\":\"y42\",\"domain\":[0.8669387755102042,1.0],\"matches\":\"x49\",\"showticklabels\":false,\"range\":[0.017258390036303195,1.0442368315856152]},\"yaxis42\":{\"anchor\":\"x42\",\"domain\":[0.14448979591836733,0.27755102040816326],\"matches\":\"y36\",\"showticklabels\":false,\"range\":[0.04999999999999993,20.95]},\"xaxis43\":{\"anchor\":\"y43\",\"domain\":[0.0,0.1330612244897959],\"range\":[-0.1,2.1],\"type\":\"category\",\"title\":{\"text\":\"algorithm\"}},\"yaxis43\":{\"anchor\":\"x43\",\"domain\":[0.0,0.1330612244897959],\"range\":[0.017258390036303195,1.0442368315856152],\"title\":{\"text\":\"subsample\"}},\"xaxis44\":{\"anchor\":\"y44\",\"domain\":[0.14448979591836733,0.27755102040816326],\"range\":[-4.28536297497892,2.012427241529812],\"type\":\"log\",\"title\":{\"text\":\"alpha\"}},\"yaxis44\":{\"anchor\":\"x44\",\"domain\":[0.0,0.1330612244897959],\"matches\":\"y43\",\"showticklabels\":false,\"range\":[0.017258390036303195,1.0442368315856152]},\"xaxis45\":{\"anchor\":\"y45\",\"domain\":[0.28897959183673466,0.42204081632653057],\"range\":[0.016947266018266197,1.0080530926838858],\"title\":{\"text\":\"colsample_bytree\"}},\"yaxis45\":{\"anchor\":\"x45\",\"domain\":[0.0,0.1330612244897959],\"matches\":\"y43\",\"showticklabels\":false,\"range\":[0.017258390036303195,1.0442368315856152]},\"xaxis46\":{\"anchor\":\"y46\",\"domain\":[0.433469387755102,0.5665306122448979],\"range\":[-4.104564164062956,-0.9525750299359497],\"type\":\"log\",\"title\":{\"text\":\"learning_rate\"}},\"yaxis46\":{\"anchor\":\"x46\",\"domain\":[0.0,0.1330612244897959],\"matches\":\"y43\",\"showticklabels\":false,\"range\":[0.017258390036303195,1.0442368315856152]},\"xaxis47\":{\"anchor\":\"y47\",\"domain\":[0.5779591836734693,0.7110204081632652],\"range\":[0.55,10.45],\"title\":{\"text\":\"max_depth\"}},\"yaxis47\":{\"anchor\":\"x47\",\"domain\":[0.0,0.1330612244897959],\"matches\":\"y43\",\"showticklabels\":false,\"range\":[0.017258390036303195,1.0442368315856152]},\"xaxis48\":{\"anchor\":\"y48\",\"domain\":[0.7224489795918367,0.8555102040816327],\"range\":[0.04999999999999993,20.95],\"title\":{\"text\":\"min_child_weight\"}},\"yaxis48\":{\"anchor\":\"x48\",\"domain\":[0.0,0.1330612244897959],\"matches\":\"y43\",\"showticklabels\":false,\"range\":[0.017258390036303195,1.0442368315856152]},\"xaxis49\":{\"anchor\":\"y49\",\"domain\":[0.8669387755102042,1.0],\"range\":[0.017258390036303195,1.0442368315856152],\"title\":{\"text\":\"subsample\"}},\"yaxis49\":{\"anchor\":\"x49\",\"domain\":[0.0,0.1330612244897959],\"matches\":\"y43\",\"showticklabels\":false,\"range\":[0.017258390036303195,1.0442368315856152]},\"title\":{\"text\":\"Rank (Objective Value)\"},\"autosize\":false,\"width\":1000,\"height\":1000},                        {\"responsive\": true}                    ).then(function(){\n",
       "                            \n",
       "var gd = document.getElementById('96063274-175b-4b78-9395-85f38baa7f52');\n",
       "var x = new MutationObserver(function (mutations, observer) {{\n",
       "        var display = window.getComputedStyle(gd).display;\n",
       "        if (!display || display === 'none') {{\n",
       "            console.log([gd, 'removed!']);\n",
       "            Plotly.purge(gd);\n",
       "            observer.disconnect();\n",
       "        }}\n",
       "}});\n",
       "\n",
       "// Listen for the removal of the full notebook cells\n",
       "var notebookContainer = gd.closest('#notebook-container');\n",
       "if (notebookContainer) {{\n",
       "    x.observe(notebookContainer, {childList: true});\n",
       "}}\n",
       "\n",
       "// Listen for the clearing of the current output cell\n",
       "var outputEl = gd.closest('.output');\n",
       "if (outputEl) {{\n",
       "    x.observe(outputEl, {childList: true});\n",
       "}}\n",
       "\n",
       "                        })                };                });            </script>        </div>"
      ]
     },
     "metadata": {},
     "output_type": "display_data"
    }
   ],
   "source": [
    "import plotly.graph_objects as go\n",
    "\n",
    "fig = optuna.visualization.plot_rank(study)\n",
    "\n",
    "fig.update_layout(\n",
    "    autosize=False,\n",
    "    width=1000,\n",
    "    height=1000,\n",
    "    )\n",
    "\n",
    "fig.show()"
   ]
  },
  {
   "cell_type": "code",
   "execution_count": 93,
   "id": "f1a5a376",
   "metadata": {},
   "outputs": [
    {
     "data": {
      "application/vnd.plotly.v1+json": {
       "config": {
        "plotlyServerURL": "https://plot.ly"
       },
       "data": [
        {
         "mode": "markers",
         "name": "Objective Value",
         "type": "scatter",
         "x": [
          0,
          1,
          2,
          3,
          4,
          5,
          6,
          7,
          8,
          9,
          10,
          11,
          12,
          13,
          14,
          15,
          16,
          17,
          18,
          19,
          20,
          21,
          22,
          23,
          24,
          25,
          26,
          27,
          28,
          29,
          30,
          31,
          32,
          33,
          34,
          35,
          36,
          37,
          38,
          39,
          40,
          41,
          42,
          43,
          44,
          45,
          46,
          47,
          48,
          49
         ],
         "y": [
          0.9394378507662732,
          0.9419331770098865,
          -6.6566564759784805,
          0.9458063387780806,
          -6.6512464689334365,
          0.9485414210851255,
          0.6778074460407136,
          0.7940653711510521,
          0.9458166544947286,
          0.933382975928622,
          0.9496452773524664,
          0.9493419203172694,
          0.9492403336753761,
          0.9491836753195659,
          0.9486989663331202,
          0.9490750998217058,
          0.9470493486585945,
          0.9485579626421744,
          0.9496200355469121,
          0.9430662102148144,
          0.9492860631646154,
          0.9495839360136336,
          0.947382960693209,
          0.9495782906512351,
          0.9475346365774147,
          0.9496798820421011,
          0.9496804509344926,
          0.9464915996535683,
          -0.029441307066881618,
          0.7122297080799865,
          -6.669225037426349,
          0.9496819786208903,
          0.9496757300087054,
          0.9496374262640181,
          0.9481455387076847,
          0.9484758670894171,
          0.5420681413173114,
          -0.029441307066881618,
          0.9492497177528337,
          0.9482156517353213,
          0.9502656323414269,
          0.9497756031412887,
          0.9498690001527853,
          0.9500382319616019,
          0.9497256788220471,
          0.9496854968696224,
          0.9500554290598779,
          0.9490304119962305,
          0.950187907511267,
          0.9446383699931817
         ]
        },
        {
         "mode": "lines",
         "name": "Best Value",
         "type": "scatter",
         "x": [
          0,
          1,
          2,
          3,
          4,
          5,
          6,
          7,
          8,
          9,
          10,
          11,
          12,
          13,
          14,
          15,
          16,
          17,
          18,
          19,
          20,
          21,
          22,
          23,
          24,
          25,
          26,
          27,
          28,
          29,
          30,
          31,
          32,
          33,
          34,
          35,
          36,
          37,
          38,
          39,
          40,
          41,
          42,
          43,
          44,
          45,
          46,
          47,
          48,
          49
         ],
         "y": [
          0.9394378507662732,
          0.9419331770098865,
          0.9419331770098865,
          0.9458063387780806,
          0.9458063387780806,
          0.9485414210851255,
          0.9485414210851255,
          0.9485414210851255,
          0.9485414210851255,
          0.9485414210851255,
          0.9496452773524664,
          0.9496452773524664,
          0.9496452773524664,
          0.9496452773524664,
          0.9496452773524664,
          0.9496452773524664,
          0.9496452773524664,
          0.9496452773524664,
          0.9496452773524664,
          0.9496452773524664,
          0.9496452773524664,
          0.9496452773524664,
          0.9496452773524664,
          0.9496452773524664,
          0.9496452773524664,
          0.9496798820421011,
          0.9496804509344926,
          0.9496804509344926,
          0.9496804509344926,
          0.9496804509344926,
          0.9496804509344926,
          0.9496819786208903,
          0.9496819786208903,
          0.9496819786208903,
          0.9496819786208903,
          0.9496819786208903,
          0.9496819786208903,
          0.9496819786208903,
          0.9496819786208903,
          0.9496819786208903,
          0.9502656323414269,
          0.9502656323414269,
          0.9502656323414269,
          0.9502656323414269,
          0.9502656323414269,
          0.9502656323414269,
          0.9502656323414269,
          0.9502656323414269,
          0.9502656323414269,
          0.9502656323414269
         ]
        },
        {
         "marker": {
          "color": "#cccccc"
         },
         "mode": "markers",
         "name": "Infeasible Trial",
         "showlegend": false,
         "type": "scatter",
         "x": [],
         "y": []
        }
       ],
       "layout": {
        "template": {
         "data": {
          "bar": [
           {
            "error_x": {
             "color": "#2a3f5f"
            },
            "error_y": {
             "color": "#2a3f5f"
            },
            "marker": {
             "line": {
              "color": "#E5ECF6",
              "width": 0.5
             },
             "pattern": {
              "fillmode": "overlay",
              "size": 10,
              "solidity": 0.2
             }
            },
            "type": "bar"
           }
          ],
          "barpolar": [
           {
            "marker": {
             "line": {
              "color": "#E5ECF6",
              "width": 0.5
             },
             "pattern": {
              "fillmode": "overlay",
              "size": 10,
              "solidity": 0.2
             }
            },
            "type": "barpolar"
           }
          ],
          "carpet": [
           {
            "aaxis": {
             "endlinecolor": "#2a3f5f",
             "gridcolor": "white",
             "linecolor": "white",
             "minorgridcolor": "white",
             "startlinecolor": "#2a3f5f"
            },
            "baxis": {
             "endlinecolor": "#2a3f5f",
             "gridcolor": "white",
             "linecolor": "white",
             "minorgridcolor": "white",
             "startlinecolor": "#2a3f5f"
            },
            "type": "carpet"
           }
          ],
          "choropleth": [
           {
            "colorbar": {
             "outlinewidth": 0,
             "ticks": ""
            },
            "type": "choropleth"
           }
          ],
          "contour": [
           {
            "colorbar": {
             "outlinewidth": 0,
             "ticks": ""
            },
            "colorscale": [
             [
              0,
              "#0d0887"
             ],
             [
              0.1111111111111111,
              "#46039f"
             ],
             [
              0.2222222222222222,
              "#7201a8"
             ],
             [
              0.3333333333333333,
              "#9c179e"
             ],
             [
              0.4444444444444444,
              "#bd3786"
             ],
             [
              0.5555555555555556,
              "#d8576b"
             ],
             [
              0.6666666666666666,
              "#ed7953"
             ],
             [
              0.7777777777777778,
              "#fb9f3a"
             ],
             [
              0.8888888888888888,
              "#fdca26"
             ],
             [
              1,
              "#f0f921"
             ]
            ],
            "type": "contour"
           }
          ],
          "contourcarpet": [
           {
            "colorbar": {
             "outlinewidth": 0,
             "ticks": ""
            },
            "type": "contourcarpet"
           }
          ],
          "heatmap": [
           {
            "colorbar": {
             "outlinewidth": 0,
             "ticks": ""
            },
            "colorscale": [
             [
              0,
              "#0d0887"
             ],
             [
              0.1111111111111111,
              "#46039f"
             ],
             [
              0.2222222222222222,
              "#7201a8"
             ],
             [
              0.3333333333333333,
              "#9c179e"
             ],
             [
              0.4444444444444444,
              "#bd3786"
             ],
             [
              0.5555555555555556,
              "#d8576b"
             ],
             [
              0.6666666666666666,
              "#ed7953"
             ],
             [
              0.7777777777777778,
              "#fb9f3a"
             ],
             [
              0.8888888888888888,
              "#fdca26"
             ],
             [
              1,
              "#f0f921"
             ]
            ],
            "type": "heatmap"
           }
          ],
          "heatmapgl": [
           {
            "colorbar": {
             "outlinewidth": 0,
             "ticks": ""
            },
            "colorscale": [
             [
              0,
              "#0d0887"
             ],
             [
              0.1111111111111111,
              "#46039f"
             ],
             [
              0.2222222222222222,
              "#7201a8"
             ],
             [
              0.3333333333333333,
              "#9c179e"
             ],
             [
              0.4444444444444444,
              "#bd3786"
             ],
             [
              0.5555555555555556,
              "#d8576b"
             ],
             [
              0.6666666666666666,
              "#ed7953"
             ],
             [
              0.7777777777777778,
              "#fb9f3a"
             ],
             [
              0.8888888888888888,
              "#fdca26"
             ],
             [
              1,
              "#f0f921"
             ]
            ],
            "type": "heatmapgl"
           }
          ],
          "histogram": [
           {
            "marker": {
             "pattern": {
              "fillmode": "overlay",
              "size": 10,
              "solidity": 0.2
             }
            },
            "type": "histogram"
           }
          ],
          "histogram2d": [
           {
            "colorbar": {
             "outlinewidth": 0,
             "ticks": ""
            },
            "colorscale": [
             [
              0,
              "#0d0887"
             ],
             [
              0.1111111111111111,
              "#46039f"
             ],
             [
              0.2222222222222222,
              "#7201a8"
             ],
             [
              0.3333333333333333,
              "#9c179e"
             ],
             [
              0.4444444444444444,
              "#bd3786"
             ],
             [
              0.5555555555555556,
              "#d8576b"
             ],
             [
              0.6666666666666666,
              "#ed7953"
             ],
             [
              0.7777777777777778,
              "#fb9f3a"
             ],
             [
              0.8888888888888888,
              "#fdca26"
             ],
             [
              1,
              "#f0f921"
             ]
            ],
            "type": "histogram2d"
           }
          ],
          "histogram2dcontour": [
           {
            "colorbar": {
             "outlinewidth": 0,
             "ticks": ""
            },
            "colorscale": [
             [
              0,
              "#0d0887"
             ],
             [
              0.1111111111111111,
              "#46039f"
             ],
             [
              0.2222222222222222,
              "#7201a8"
             ],
             [
              0.3333333333333333,
              "#9c179e"
             ],
             [
              0.4444444444444444,
              "#bd3786"
             ],
             [
              0.5555555555555556,
              "#d8576b"
             ],
             [
              0.6666666666666666,
              "#ed7953"
             ],
             [
              0.7777777777777778,
              "#fb9f3a"
             ],
             [
              0.8888888888888888,
              "#fdca26"
             ],
             [
              1,
              "#f0f921"
             ]
            ],
            "type": "histogram2dcontour"
           }
          ],
          "mesh3d": [
           {
            "colorbar": {
             "outlinewidth": 0,
             "ticks": ""
            },
            "type": "mesh3d"
           }
          ],
          "parcoords": [
           {
            "line": {
             "colorbar": {
              "outlinewidth": 0,
              "ticks": ""
             }
            },
            "type": "parcoords"
           }
          ],
          "pie": [
           {
            "automargin": true,
            "type": "pie"
           }
          ],
          "scatter": [
           {
            "fillpattern": {
             "fillmode": "overlay",
             "size": 10,
             "solidity": 0.2
            },
            "type": "scatter"
           }
          ],
          "scatter3d": [
           {
            "line": {
             "colorbar": {
              "outlinewidth": 0,
              "ticks": ""
             }
            },
            "marker": {
             "colorbar": {
              "outlinewidth": 0,
              "ticks": ""
             }
            },
            "type": "scatter3d"
           }
          ],
          "scattercarpet": [
           {
            "marker": {
             "colorbar": {
              "outlinewidth": 0,
              "ticks": ""
             }
            },
            "type": "scattercarpet"
           }
          ],
          "scattergeo": [
           {
            "marker": {
             "colorbar": {
              "outlinewidth": 0,
              "ticks": ""
             }
            },
            "type": "scattergeo"
           }
          ],
          "scattergl": [
           {
            "marker": {
             "colorbar": {
              "outlinewidth": 0,
              "ticks": ""
             }
            },
            "type": "scattergl"
           }
          ],
          "scattermapbox": [
           {
            "marker": {
             "colorbar": {
              "outlinewidth": 0,
              "ticks": ""
             }
            },
            "type": "scattermapbox"
           }
          ],
          "scatterpolar": [
           {
            "marker": {
             "colorbar": {
              "outlinewidth": 0,
              "ticks": ""
             }
            },
            "type": "scatterpolar"
           }
          ],
          "scatterpolargl": [
           {
            "marker": {
             "colorbar": {
              "outlinewidth": 0,
              "ticks": ""
             }
            },
            "type": "scatterpolargl"
           }
          ],
          "scatterternary": [
           {
            "marker": {
             "colorbar": {
              "outlinewidth": 0,
              "ticks": ""
             }
            },
            "type": "scatterternary"
           }
          ],
          "surface": [
           {
            "colorbar": {
             "outlinewidth": 0,
             "ticks": ""
            },
            "colorscale": [
             [
              0,
              "#0d0887"
             ],
             [
              0.1111111111111111,
              "#46039f"
             ],
             [
              0.2222222222222222,
              "#7201a8"
             ],
             [
              0.3333333333333333,
              "#9c179e"
             ],
             [
              0.4444444444444444,
              "#bd3786"
             ],
             [
              0.5555555555555556,
              "#d8576b"
             ],
             [
              0.6666666666666666,
              "#ed7953"
             ],
             [
              0.7777777777777778,
              "#fb9f3a"
             ],
             [
              0.8888888888888888,
              "#fdca26"
             ],
             [
              1,
              "#f0f921"
             ]
            ],
            "type": "surface"
           }
          ],
          "table": [
           {
            "cells": {
             "fill": {
              "color": "#EBF0F8"
             },
             "line": {
              "color": "white"
             }
            },
            "header": {
             "fill": {
              "color": "#C8D4E3"
             },
             "line": {
              "color": "white"
             }
            },
            "type": "table"
           }
          ]
         },
         "layout": {
          "annotationdefaults": {
           "arrowcolor": "#2a3f5f",
           "arrowhead": 0,
           "arrowwidth": 1
          },
          "autotypenumbers": "strict",
          "coloraxis": {
           "colorbar": {
            "outlinewidth": 0,
            "ticks": ""
           }
          },
          "colorscale": {
           "diverging": [
            [
             0,
             "#8e0152"
            ],
            [
             0.1,
             "#c51b7d"
            ],
            [
             0.2,
             "#de77ae"
            ],
            [
             0.3,
             "#f1b6da"
            ],
            [
             0.4,
             "#fde0ef"
            ],
            [
             0.5,
             "#f7f7f7"
            ],
            [
             0.6,
             "#e6f5d0"
            ],
            [
             0.7,
             "#b8e186"
            ],
            [
             0.8,
             "#7fbc41"
            ],
            [
             0.9,
             "#4d9221"
            ],
            [
             1,
             "#276419"
            ]
           ],
           "sequential": [
            [
             0,
             "#0d0887"
            ],
            [
             0.1111111111111111,
             "#46039f"
            ],
            [
             0.2222222222222222,
             "#7201a8"
            ],
            [
             0.3333333333333333,
             "#9c179e"
            ],
            [
             0.4444444444444444,
             "#bd3786"
            ],
            [
             0.5555555555555556,
             "#d8576b"
            ],
            [
             0.6666666666666666,
             "#ed7953"
            ],
            [
             0.7777777777777778,
             "#fb9f3a"
            ],
            [
             0.8888888888888888,
             "#fdca26"
            ],
            [
             1,
             "#f0f921"
            ]
           ],
           "sequentialminus": [
            [
             0,
             "#0d0887"
            ],
            [
             0.1111111111111111,
             "#46039f"
            ],
            [
             0.2222222222222222,
             "#7201a8"
            ],
            [
             0.3333333333333333,
             "#9c179e"
            ],
            [
             0.4444444444444444,
             "#bd3786"
            ],
            [
             0.5555555555555556,
             "#d8576b"
            ],
            [
             0.6666666666666666,
             "#ed7953"
            ],
            [
             0.7777777777777778,
             "#fb9f3a"
            ],
            [
             0.8888888888888888,
             "#fdca26"
            ],
            [
             1,
             "#f0f921"
            ]
           ]
          },
          "colorway": [
           "#636efa",
           "#EF553B",
           "#00cc96",
           "#ab63fa",
           "#FFA15A",
           "#19d3f3",
           "#FF6692",
           "#B6E880",
           "#FF97FF",
           "#FECB52"
          ],
          "font": {
           "color": "#2a3f5f"
          },
          "geo": {
           "bgcolor": "white",
           "lakecolor": "white",
           "landcolor": "#E5ECF6",
           "showlakes": true,
           "showland": true,
           "subunitcolor": "white"
          },
          "hoverlabel": {
           "align": "left"
          },
          "hovermode": "closest",
          "mapbox": {
           "style": "light"
          },
          "paper_bgcolor": "white",
          "plot_bgcolor": "#E5ECF6",
          "polar": {
           "angularaxis": {
            "gridcolor": "white",
            "linecolor": "white",
            "ticks": ""
           },
           "bgcolor": "#E5ECF6",
           "radialaxis": {
            "gridcolor": "white",
            "linecolor": "white",
            "ticks": ""
           }
          },
          "scene": {
           "xaxis": {
            "backgroundcolor": "#E5ECF6",
            "gridcolor": "white",
            "gridwidth": 2,
            "linecolor": "white",
            "showbackground": true,
            "ticks": "",
            "zerolinecolor": "white"
           },
           "yaxis": {
            "backgroundcolor": "#E5ECF6",
            "gridcolor": "white",
            "gridwidth": 2,
            "linecolor": "white",
            "showbackground": true,
            "ticks": "",
            "zerolinecolor": "white"
           },
           "zaxis": {
            "backgroundcolor": "#E5ECF6",
            "gridcolor": "white",
            "gridwidth": 2,
            "linecolor": "white",
            "showbackground": true,
            "ticks": "",
            "zerolinecolor": "white"
           }
          },
          "shapedefaults": {
           "line": {
            "color": "#2a3f5f"
           }
          },
          "ternary": {
           "aaxis": {
            "gridcolor": "white",
            "linecolor": "white",
            "ticks": ""
           },
           "baxis": {
            "gridcolor": "white",
            "linecolor": "white",
            "ticks": ""
           },
           "bgcolor": "#E5ECF6",
           "caxis": {
            "gridcolor": "white",
            "linecolor": "white",
            "ticks": ""
           }
          },
          "title": {
           "x": 0.05
          },
          "xaxis": {
           "automargin": true,
           "gridcolor": "white",
           "linecolor": "white",
           "ticks": "",
           "title": {
            "standoff": 15
           },
           "zerolinecolor": "white",
           "zerolinewidth": 2
          },
          "yaxis": {
           "automargin": true,
           "gridcolor": "white",
           "linecolor": "white",
           "ticks": "",
           "title": {
            "standoff": 15
           },
           "zerolinecolor": "white",
           "zerolinewidth": 2
          }
         }
        },
        "title": {
         "text": "Optimization History Plot"
        },
        "xaxis": {
         "title": {
          "text": "Trial"
         }
        },
        "yaxis": {
         "title": {
          "text": "Objective Value"
         }
        }
       }
      },
      "text/html": [
       "<div>                            <div id=\"4bda19ce-c7f6-417d-b61f-0df3dc4e25ed\" class=\"plotly-graph-div\" style=\"height:525px; width:100%;\"></div>            <script type=\"text/javascript\">                require([\"plotly\"], function(Plotly) {                    window.PLOTLYENV=window.PLOTLYENV || {};                                    if (document.getElementById(\"4bda19ce-c7f6-417d-b61f-0df3dc4e25ed\")) {                    Plotly.newPlot(                        \"4bda19ce-c7f6-417d-b61f-0df3dc4e25ed\",                        [{\"mode\":\"markers\",\"name\":\"Objective Value\",\"x\":[0,1,2,3,4,5,6,7,8,9,10,11,12,13,14,15,16,17,18,19,20,21,22,23,24,25,26,27,28,29,30,31,32,33,34,35,36,37,38,39,40,41,42,43,44,45,46,47,48,49],\"y\":[0.9394378507662732,0.9419331770098865,-6.6566564759784805,0.9458063387780806,-6.6512464689334365,0.9485414210851255,0.6778074460407136,0.7940653711510521,0.9458166544947286,0.933382975928622,0.9496452773524664,0.9493419203172694,0.9492403336753761,0.9491836753195659,0.9486989663331202,0.9490750998217058,0.9470493486585945,0.9485579626421744,0.9496200355469121,0.9430662102148144,0.9492860631646154,0.9495839360136336,0.947382960693209,0.9495782906512351,0.9475346365774147,0.9496798820421011,0.9496804509344926,0.9464915996535683,-0.029441307066881618,0.7122297080799865,-6.669225037426349,0.9496819786208903,0.9496757300087054,0.9496374262640181,0.9481455387076847,0.9484758670894171,0.5420681413173114,-0.029441307066881618,0.9492497177528337,0.9482156517353213,0.9502656323414269,0.9497756031412887,0.9498690001527853,0.9500382319616019,0.9497256788220471,0.9496854968696224,0.9500554290598779,0.9490304119962305,0.950187907511267,0.9446383699931817],\"type\":\"scatter\"},{\"mode\":\"lines\",\"name\":\"Best Value\",\"x\":[0,1,2,3,4,5,6,7,8,9,10,11,12,13,14,15,16,17,18,19,20,21,22,23,24,25,26,27,28,29,30,31,32,33,34,35,36,37,38,39,40,41,42,43,44,45,46,47,48,49],\"y\":[0.9394378507662732,0.9419331770098865,0.9419331770098865,0.9458063387780806,0.9458063387780806,0.9485414210851255,0.9485414210851255,0.9485414210851255,0.9485414210851255,0.9485414210851255,0.9496452773524664,0.9496452773524664,0.9496452773524664,0.9496452773524664,0.9496452773524664,0.9496452773524664,0.9496452773524664,0.9496452773524664,0.9496452773524664,0.9496452773524664,0.9496452773524664,0.9496452773524664,0.9496452773524664,0.9496452773524664,0.9496452773524664,0.9496798820421011,0.9496804509344926,0.9496804509344926,0.9496804509344926,0.9496804509344926,0.9496804509344926,0.9496819786208903,0.9496819786208903,0.9496819786208903,0.9496819786208903,0.9496819786208903,0.9496819786208903,0.9496819786208903,0.9496819786208903,0.9496819786208903,0.9502656323414269,0.9502656323414269,0.9502656323414269,0.9502656323414269,0.9502656323414269,0.9502656323414269,0.9502656323414269,0.9502656323414269,0.9502656323414269,0.9502656323414269],\"type\":\"scatter\"},{\"marker\":{\"color\":\"#cccccc\"},\"mode\":\"markers\",\"name\":\"Infeasible Trial\",\"showlegend\":false,\"x\":[],\"y\":[],\"type\":\"scatter\"}],                        {\"title\":{\"text\":\"Optimization History Plot\"},\"xaxis\":{\"title\":{\"text\":\"Trial\"}},\"yaxis\":{\"title\":{\"text\":\"Objective Value\"}},\"template\":{\"data\":{\"histogram2dcontour\":[{\"type\":\"histogram2dcontour\",\"colorbar\":{\"outlinewidth\":0,\"ticks\":\"\"},\"colorscale\":[[0.0,\"#0d0887\"],[0.1111111111111111,\"#46039f\"],[0.2222222222222222,\"#7201a8\"],[0.3333333333333333,\"#9c179e\"],[0.4444444444444444,\"#bd3786\"],[0.5555555555555556,\"#d8576b\"],[0.6666666666666666,\"#ed7953\"],[0.7777777777777778,\"#fb9f3a\"],[0.8888888888888888,\"#fdca26\"],[1.0,\"#f0f921\"]]}],\"choropleth\":[{\"type\":\"choropleth\",\"colorbar\":{\"outlinewidth\":0,\"ticks\":\"\"}}],\"histogram2d\":[{\"type\":\"histogram2d\",\"colorbar\":{\"outlinewidth\":0,\"ticks\":\"\"},\"colorscale\":[[0.0,\"#0d0887\"],[0.1111111111111111,\"#46039f\"],[0.2222222222222222,\"#7201a8\"],[0.3333333333333333,\"#9c179e\"],[0.4444444444444444,\"#bd3786\"],[0.5555555555555556,\"#d8576b\"],[0.6666666666666666,\"#ed7953\"],[0.7777777777777778,\"#fb9f3a\"],[0.8888888888888888,\"#fdca26\"],[1.0,\"#f0f921\"]]}],\"heatmap\":[{\"type\":\"heatmap\",\"colorbar\":{\"outlinewidth\":0,\"ticks\":\"\"},\"colorscale\":[[0.0,\"#0d0887\"],[0.1111111111111111,\"#46039f\"],[0.2222222222222222,\"#7201a8\"],[0.3333333333333333,\"#9c179e\"],[0.4444444444444444,\"#bd3786\"],[0.5555555555555556,\"#d8576b\"],[0.6666666666666666,\"#ed7953\"],[0.7777777777777778,\"#fb9f3a\"],[0.8888888888888888,\"#fdca26\"],[1.0,\"#f0f921\"]]}],\"heatmapgl\":[{\"type\":\"heatmapgl\",\"colorbar\":{\"outlinewidth\":0,\"ticks\":\"\"},\"colorscale\":[[0.0,\"#0d0887\"],[0.1111111111111111,\"#46039f\"],[0.2222222222222222,\"#7201a8\"],[0.3333333333333333,\"#9c179e\"],[0.4444444444444444,\"#bd3786\"],[0.5555555555555556,\"#d8576b\"],[0.6666666666666666,\"#ed7953\"],[0.7777777777777778,\"#fb9f3a\"],[0.8888888888888888,\"#fdca26\"],[1.0,\"#f0f921\"]]}],\"contourcarpet\":[{\"type\":\"contourcarpet\",\"colorbar\":{\"outlinewidth\":0,\"ticks\":\"\"}}],\"contour\":[{\"type\":\"contour\",\"colorbar\":{\"outlinewidth\":0,\"ticks\":\"\"},\"colorscale\":[[0.0,\"#0d0887\"],[0.1111111111111111,\"#46039f\"],[0.2222222222222222,\"#7201a8\"],[0.3333333333333333,\"#9c179e\"],[0.4444444444444444,\"#bd3786\"],[0.5555555555555556,\"#d8576b\"],[0.6666666666666666,\"#ed7953\"],[0.7777777777777778,\"#fb9f3a\"],[0.8888888888888888,\"#fdca26\"],[1.0,\"#f0f921\"]]}],\"surface\":[{\"type\":\"surface\",\"colorbar\":{\"outlinewidth\":0,\"ticks\":\"\"},\"colorscale\":[[0.0,\"#0d0887\"],[0.1111111111111111,\"#46039f\"],[0.2222222222222222,\"#7201a8\"],[0.3333333333333333,\"#9c179e\"],[0.4444444444444444,\"#bd3786\"],[0.5555555555555556,\"#d8576b\"],[0.6666666666666666,\"#ed7953\"],[0.7777777777777778,\"#fb9f3a\"],[0.8888888888888888,\"#fdca26\"],[1.0,\"#f0f921\"]]}],\"mesh3d\":[{\"type\":\"mesh3d\",\"colorbar\":{\"outlinewidth\":0,\"ticks\":\"\"}}],\"scatter\":[{\"fillpattern\":{\"fillmode\":\"overlay\",\"size\":10,\"solidity\":0.2},\"type\":\"scatter\"}],\"parcoords\":[{\"type\":\"parcoords\",\"line\":{\"colorbar\":{\"outlinewidth\":0,\"ticks\":\"\"}}}],\"scatterpolargl\":[{\"type\":\"scatterpolargl\",\"marker\":{\"colorbar\":{\"outlinewidth\":0,\"ticks\":\"\"}}}],\"bar\":[{\"error_x\":{\"color\":\"#2a3f5f\"},\"error_y\":{\"color\":\"#2a3f5f\"},\"marker\":{\"line\":{\"color\":\"#E5ECF6\",\"width\":0.5},\"pattern\":{\"fillmode\":\"overlay\",\"size\":10,\"solidity\":0.2}},\"type\":\"bar\"}],\"scattergeo\":[{\"type\":\"scattergeo\",\"marker\":{\"colorbar\":{\"outlinewidth\":0,\"ticks\":\"\"}}}],\"scatterpolar\":[{\"type\":\"scatterpolar\",\"marker\":{\"colorbar\":{\"outlinewidth\":0,\"ticks\":\"\"}}}],\"histogram\":[{\"marker\":{\"pattern\":{\"fillmode\":\"overlay\",\"size\":10,\"solidity\":0.2}},\"type\":\"histogram\"}],\"scattergl\":[{\"type\":\"scattergl\",\"marker\":{\"colorbar\":{\"outlinewidth\":0,\"ticks\":\"\"}}}],\"scatter3d\":[{\"type\":\"scatter3d\",\"line\":{\"colorbar\":{\"outlinewidth\":0,\"ticks\":\"\"}},\"marker\":{\"colorbar\":{\"outlinewidth\":0,\"ticks\":\"\"}}}],\"scattermapbox\":[{\"type\":\"scattermapbox\",\"marker\":{\"colorbar\":{\"outlinewidth\":0,\"ticks\":\"\"}}}],\"scatterternary\":[{\"type\":\"scatterternary\",\"marker\":{\"colorbar\":{\"outlinewidth\":0,\"ticks\":\"\"}}}],\"scattercarpet\":[{\"type\":\"scattercarpet\",\"marker\":{\"colorbar\":{\"outlinewidth\":0,\"ticks\":\"\"}}}],\"carpet\":[{\"aaxis\":{\"endlinecolor\":\"#2a3f5f\",\"gridcolor\":\"white\",\"linecolor\":\"white\",\"minorgridcolor\":\"white\",\"startlinecolor\":\"#2a3f5f\"},\"baxis\":{\"endlinecolor\":\"#2a3f5f\",\"gridcolor\":\"white\",\"linecolor\":\"white\",\"minorgridcolor\":\"white\",\"startlinecolor\":\"#2a3f5f\"},\"type\":\"carpet\"}],\"table\":[{\"cells\":{\"fill\":{\"color\":\"#EBF0F8\"},\"line\":{\"color\":\"white\"}},\"header\":{\"fill\":{\"color\":\"#C8D4E3\"},\"line\":{\"color\":\"white\"}},\"type\":\"table\"}],\"barpolar\":[{\"marker\":{\"line\":{\"color\":\"#E5ECF6\",\"width\":0.5},\"pattern\":{\"fillmode\":\"overlay\",\"size\":10,\"solidity\":0.2}},\"type\":\"barpolar\"}],\"pie\":[{\"automargin\":true,\"type\":\"pie\"}]},\"layout\":{\"autotypenumbers\":\"strict\",\"colorway\":[\"#636efa\",\"#EF553B\",\"#00cc96\",\"#ab63fa\",\"#FFA15A\",\"#19d3f3\",\"#FF6692\",\"#B6E880\",\"#FF97FF\",\"#FECB52\"],\"font\":{\"color\":\"#2a3f5f\"},\"hovermode\":\"closest\",\"hoverlabel\":{\"align\":\"left\"},\"paper_bgcolor\":\"white\",\"plot_bgcolor\":\"#E5ECF6\",\"polar\":{\"bgcolor\":\"#E5ECF6\",\"angularaxis\":{\"gridcolor\":\"white\",\"linecolor\":\"white\",\"ticks\":\"\"},\"radialaxis\":{\"gridcolor\":\"white\",\"linecolor\":\"white\",\"ticks\":\"\"}},\"ternary\":{\"bgcolor\":\"#E5ECF6\",\"aaxis\":{\"gridcolor\":\"white\",\"linecolor\":\"white\",\"ticks\":\"\"},\"baxis\":{\"gridcolor\":\"white\",\"linecolor\":\"white\",\"ticks\":\"\"},\"caxis\":{\"gridcolor\":\"white\",\"linecolor\":\"white\",\"ticks\":\"\"}},\"coloraxis\":{\"colorbar\":{\"outlinewidth\":0,\"ticks\":\"\"}},\"colorscale\":{\"sequential\":[[0.0,\"#0d0887\"],[0.1111111111111111,\"#46039f\"],[0.2222222222222222,\"#7201a8\"],[0.3333333333333333,\"#9c179e\"],[0.4444444444444444,\"#bd3786\"],[0.5555555555555556,\"#d8576b\"],[0.6666666666666666,\"#ed7953\"],[0.7777777777777778,\"#fb9f3a\"],[0.8888888888888888,\"#fdca26\"],[1.0,\"#f0f921\"]],\"sequentialminus\":[[0.0,\"#0d0887\"],[0.1111111111111111,\"#46039f\"],[0.2222222222222222,\"#7201a8\"],[0.3333333333333333,\"#9c179e\"],[0.4444444444444444,\"#bd3786\"],[0.5555555555555556,\"#d8576b\"],[0.6666666666666666,\"#ed7953\"],[0.7777777777777778,\"#fb9f3a\"],[0.8888888888888888,\"#fdca26\"],[1.0,\"#f0f921\"]],\"diverging\":[[0,\"#8e0152\"],[0.1,\"#c51b7d\"],[0.2,\"#de77ae\"],[0.3,\"#f1b6da\"],[0.4,\"#fde0ef\"],[0.5,\"#f7f7f7\"],[0.6,\"#e6f5d0\"],[0.7,\"#b8e186\"],[0.8,\"#7fbc41\"],[0.9,\"#4d9221\"],[1,\"#276419\"]]},\"xaxis\":{\"gridcolor\":\"white\",\"linecolor\":\"white\",\"ticks\":\"\",\"title\":{\"standoff\":15},\"zerolinecolor\":\"white\",\"automargin\":true,\"zerolinewidth\":2},\"yaxis\":{\"gridcolor\":\"white\",\"linecolor\":\"white\",\"ticks\":\"\",\"title\":{\"standoff\":15},\"zerolinecolor\":\"white\",\"automargin\":true,\"zerolinewidth\":2},\"scene\":{\"xaxis\":{\"backgroundcolor\":\"#E5ECF6\",\"gridcolor\":\"white\",\"linecolor\":\"white\",\"showbackground\":true,\"ticks\":\"\",\"zerolinecolor\":\"white\",\"gridwidth\":2},\"yaxis\":{\"backgroundcolor\":\"#E5ECF6\",\"gridcolor\":\"white\",\"linecolor\":\"white\",\"showbackground\":true,\"ticks\":\"\",\"zerolinecolor\":\"white\",\"gridwidth\":2},\"zaxis\":{\"backgroundcolor\":\"#E5ECF6\",\"gridcolor\":\"white\",\"linecolor\":\"white\",\"showbackground\":true,\"ticks\":\"\",\"zerolinecolor\":\"white\",\"gridwidth\":2}},\"shapedefaults\":{\"line\":{\"color\":\"#2a3f5f\"}},\"annotationdefaults\":{\"arrowcolor\":\"#2a3f5f\",\"arrowhead\":0,\"arrowwidth\":1},\"geo\":{\"bgcolor\":\"white\",\"landcolor\":\"#E5ECF6\",\"subunitcolor\":\"white\",\"showland\":true,\"showlakes\":true,\"lakecolor\":\"white\"},\"title\":{\"x\":0.05},\"mapbox\":{\"style\":\"light\"}}}},                        {\"responsive\": true}                    ).then(function(){\n",
       "                            \n",
       "var gd = document.getElementById('4bda19ce-c7f6-417d-b61f-0df3dc4e25ed');\n",
       "var x = new MutationObserver(function (mutations, observer) {{\n",
       "        var display = window.getComputedStyle(gd).display;\n",
       "        if (!display || display === 'none') {{\n",
       "            console.log([gd, 'removed!']);\n",
       "            Plotly.purge(gd);\n",
       "            observer.disconnect();\n",
       "        }}\n",
       "}});\n",
       "\n",
       "// Listen for the removal of the full notebook cells\n",
       "var notebookContainer = gd.closest('#notebook-container');\n",
       "if (notebookContainer) {{\n",
       "    x.observe(notebookContainer, {childList: true});\n",
       "}}\n",
       "\n",
       "// Listen for the clearing of the current output cell\n",
       "var outputEl = gd.closest('.output');\n",
       "if (outputEl) {{\n",
       "    x.observe(outputEl, {childList: true});\n",
       "}}\n",
       "\n",
       "                        })                };                });            </script>        </div>"
      ]
     },
     "metadata": {},
     "output_type": "display_data"
    }
   ],
   "source": [
    "optuna.visualization.plot_optimization_history(study)\n"
   ]
  },
  {
   "cell_type": "code",
   "execution_count": 94,
   "id": "caeb13d8",
   "metadata": {},
   "outputs": [
    {
     "ename": "ValueError",
     "evalue": "Invalid property specified for object of type plotly.graph_objs.Layout: 'hover'\n\nDid you mean \"polar\"?\n\n    Valid properties:\n        activeshape\n            :class:`plotly.graph_objects.layout.Activeshape`\n            instance or dict with compatible properties\n        annotations\n            A tuple of\n            :class:`plotly.graph_objects.layout.Annotation`\n            instances or dicts with compatible properties\n        annotationdefaults\n            When used in a template (as\n            layout.template.layout.annotationdefaults), sets the\n            default property values to use for elements of\n            layout.annotations\n        autosize\n            Determines whether or not a layout width or height that\n            has been left undefined by the user is initialized on\n            each relayout. Note that, regardless of this attribute,\n            an undefined layout width or height is always\n            initialized on the first call to plot.\n        autotypenumbers\n            Using \"strict\" a numeric string in trace data is not\n            converted to a number. Using *convert types* a numeric\n            string in trace data may be treated as a number during\n            automatic axis `type` detection. This is the default\n            value; however it could be overridden for individual\n            axes.\n        bargap\n            Sets the gap (in plot fraction) between bars of\n            adjacent location coordinates.\n        bargroupgap\n            Sets the gap (in plot fraction) between bars of the\n            same location coordinate.\n        barmode\n            Determines how bars at the same location coordinate are\n            displayed on the graph. With \"stack\", the bars are\n            stacked on top of one another With \"relative\", the bars\n            are stacked on top of one another, with negative values\n            below the axis, positive values above With \"group\", the\n            bars are plotted next to one another centered around\n            the shared location. With \"overlay\", the bars are\n            plotted over one another, you might need to an\n            \"opacity\" to see multiple bars.\n        barnorm\n            Sets the normalization for bar traces on the graph.\n            With \"fraction\", the value of each bar is divided by\n            the sum of all values at that location coordinate.\n            \"percent\" is the same but multiplied by 100 to show\n            percentages.\n        boxgap\n            Sets the gap (in plot fraction) between boxes of\n            adjacent location coordinates. Has no effect on traces\n            that have \"width\" set.\n        boxgroupgap\n            Sets the gap (in plot fraction) between boxes of the\n            same location coordinate. Has no effect on traces that\n            have \"width\" set.\n        boxmode\n            Determines how boxes at the same location coordinate\n            are displayed on the graph. If \"group\", the boxes are\n            plotted next to one another centered around the shared\n            location. If \"overlay\", the boxes are plotted over one\n            another, you might need to set \"opacity\" to see them\n            multiple boxes. Has no effect on traces that have\n            \"width\" set.\n        calendar\n            Sets the default calendar system to use for\n            interpreting and displaying dates throughout the plot.\n        clickmode\n            Determines the mode of single click interactions.\n            \"event\" is the default value and emits the\n            `plotly_click` event. In addition this mode emits the\n            `plotly_selected` event in drag modes \"lasso\" and\n            \"select\", but with no event data attached (kept for\n            compatibility reasons). The \"select\" flag enables\n            selecting single data points via click. This mode also\n            supports persistent selections, meaning that pressing\n            Shift while clicking, adds to / subtracts from an\n            existing selection. \"select\" with `hovermode`: \"x\" can\n            be confusing, consider explicitly setting `hovermode`:\n            \"closest\" when using this feature. Selection events are\n            sent accordingly as long as \"event\" flag is set as\n            well. When the \"event\" flag is missing, `plotly_click`\n            and `plotly_selected` events are not fired.\n        coloraxis\n            :class:`plotly.graph_objects.layout.Coloraxis` instance\n            or dict with compatible properties\n        colorscale\n            :class:`plotly.graph_objects.layout.Colorscale`\n            instance or dict with compatible properties\n        colorway\n            Sets the default trace colors.\n        computed\n            Placeholder for exporting automargin-impacting values\n            namely `margin.t`, `margin.b`, `margin.l` and\n            `margin.r` in \"full-json\" mode.\n        datarevision\n            If provided, a changed value tells `Plotly.react` that\n            one or more data arrays has changed. This way you can\n            modify arrays in-place rather than making a complete\n            new copy for an incremental change. If NOT provided,\n            `Plotly.react` assumes that data arrays are being\n            treated as immutable, thus any data array with a\n            different identity from its predecessor contains new\n            data.\n        dragmode\n            Determines the mode of drag interactions. \"select\" and\n            \"lasso\" apply only to scatter traces with markers or\n            text. \"orbit\" and \"turntable\" apply only to 3D scenes.\n        editrevision\n            Controls persistence of user-driven changes in\n            `editable: true` configuration, other than trace names\n            and axis titles. Defaults to `layout.uirevision`.\n        extendfunnelareacolors\n            If `true`, the funnelarea slice colors (whether given\n            by `funnelareacolorway` or inherited from `colorway`)\n            will be extended to three times its original length by\n            first repeating every color 20% lighter then each color\n            20% darker. This is intended to reduce the likelihood\n            of reusing the same color when you have many slices,\n            but you can set `false` to disable. Colors provided in\n            the trace, using `marker.colors`, are never extended.\n        extendiciclecolors\n            If `true`, the icicle slice colors (whether given by\n            `iciclecolorway` or inherited from `colorway`) will be\n            extended to three times its original length by first\n            repeating every color 20% lighter then each color 20%\n            darker. This is intended to reduce the likelihood of\n            reusing the same color when you have many slices, but\n            you can set `false` to disable. Colors provided in the\n            trace, using `marker.colors`, are never extended.\n        extendpiecolors\n            If `true`, the pie slice colors (whether given by\n            `piecolorway` or inherited from `colorway`) will be\n            extended to three times its original length by first\n            repeating every color 20% lighter then each color 20%\n            darker. This is intended to reduce the likelihood of\n            reusing the same color when you have many slices, but\n            you can set `false` to disable. Colors provided in the\n            trace, using `marker.colors`, are never extended.\n        extendsunburstcolors\n            If `true`, the sunburst slice colors (whether given by\n            `sunburstcolorway` or inherited from `colorway`) will\n            be extended to three times its original length by first\n            repeating every color 20% lighter then each color 20%\n            darker. This is intended to reduce the likelihood of\n            reusing the same color when you have many slices, but\n            you can set `false` to disable. Colors provided in the\n            trace, using `marker.colors`, are never extended.\n        extendtreemapcolors\n            If `true`, the treemap slice colors (whether given by\n            `treemapcolorway` or inherited from `colorway`) will be\n            extended to three times its original length by first\n            repeating every color 20% lighter then each color 20%\n            darker. This is intended to reduce the likelihood of\n            reusing the same color when you have many slices, but\n            you can set `false` to disable. Colors provided in the\n            trace, using `marker.colors`, are never extended.\n        font\n            Sets the global font. Note that fonts used in traces\n            and other layout components inherit from the global\n            font.\n        funnelareacolorway\n            Sets the default funnelarea slice colors. Defaults to\n            the main `colorway` used for trace colors. If you\n            specify a new list here it can still be extended with\n            lighter and darker colors, see\n            `extendfunnelareacolors`.\n        funnelgap\n            Sets the gap (in plot fraction) between bars of\n            adjacent location coordinates.\n        funnelgroupgap\n            Sets the gap (in plot fraction) between bars of the\n            same location coordinate.\n        funnelmode\n            Determines how bars at the same location coordinate are\n            displayed on the graph. With \"stack\", the bars are\n            stacked on top of one another With \"group\", the bars\n            are plotted next to one another centered around the\n            shared location. With \"overlay\", the bars are plotted\n            over one another, you might need to an \"opacity\" to see\n            multiple bars.\n        geo\n            :class:`plotly.graph_objects.layout.Geo` instance or\n            dict with compatible properties\n        grid\n            :class:`plotly.graph_objects.layout.Grid` instance or\n            dict with compatible properties\n        height\n            Sets the plot's height (in px).\n        hiddenlabels\n            hiddenlabels is the funnelarea & pie chart analog of\n            visible:'legendonly' but it can contain many labels,\n            and can simultaneously hide slices from several\n            pies/funnelarea charts\n        hiddenlabelssrc\n            Sets the source reference on Chart Studio Cloud for\n            `hiddenlabels`.\n        hidesources\n            Determines whether or not a text link citing the data\n            source is placed at the bottom-right cored of the\n            figure. Has only an effect only on graphs that have\n            been generated via forked graphs from the Chart Studio\n            Cloud (at https://chart-studio.plotly.com or on-\n            premise).\n        hoverdistance\n            Sets the default distance (in pixels) to look for data\n            to add hover labels (-1 means no cutoff, 0 means no\n            looking for data). This is only a real distance for\n            hovering on point-like objects, like scatter points.\n            For area-like objects (bars, scatter fills, etc)\n            hovering is on inside the area and off outside, but\n            these objects will not supersede hover on point-like\n            objects in case of conflict.\n        hoverlabel\n            :class:`plotly.graph_objects.layout.Hoverlabel`\n            instance or dict with compatible properties\n        hovermode\n            Determines the mode of hover interactions. If\n            \"closest\", a single hoverlabel will appear for the\n            \"closest\" point within the `hoverdistance`. If \"x\" (or\n            \"y\"), multiple hoverlabels will appear for multiple\n            points at the \"closest\" x- (or y-) coordinate within\n            the `hoverdistance`, with the caveat that no more than\n            one hoverlabel will appear per trace. If *x unified*\n            (or *y unified*), a single hoverlabel will appear\n            multiple points at the closest x- (or y-) coordinate\n            within the `hoverdistance` with the caveat that no more\n            than one hoverlabel will appear per trace. In this\n            mode, spikelines are enabled by default perpendicular\n            to the specified axis. If false, hover interactions are\n            disabled.\n        iciclecolorway\n            Sets the default icicle slice colors. Defaults to the\n            main `colorway` used for trace colors. If you specify a\n            new list here it can still be extended with lighter and\n            darker colors, see `extendiciclecolors`.\n        images\n            A tuple of :class:`plotly.graph_objects.layout.Image`\n            instances or dicts with compatible properties\n        imagedefaults\n            When used in a template (as\n            layout.template.layout.imagedefaults), sets the default\n            property values to use for elements of layout.images\n        legend\n            :class:`plotly.graph_objects.layout.Legend` instance or\n            dict with compatible properties\n        mapbox\n            :class:`plotly.graph_objects.layout.Mapbox` instance or\n            dict with compatible properties\n        margin\n            :class:`plotly.graph_objects.layout.Margin` instance or\n            dict with compatible properties\n        meta\n            Assigns extra meta information that can be used in\n            various `text` attributes. Attributes such as the\n            graph, axis and colorbar `title.text`, annotation\n            `text` `trace.name` in legend items, `rangeselector`,\n            `updatemenus` and `sliders` `label` text all support\n            `meta`. One can access `meta` fields using template\n            strings: `%{meta[i]}` where `i` is the index of the\n            `meta` item in question. `meta` can also be an object\n            for example `{key: value}` which can be accessed\n            %{meta[key]}.\n        metasrc\n            Sets the source reference on Chart Studio Cloud for\n            `meta`.\n        modebar\n            :class:`plotly.graph_objects.layout.Modebar` instance\n            or dict with compatible properties\n        newshape\n            :class:`plotly.graph_objects.layout.Newshape` instance\n            or dict with compatible properties\n        paper_bgcolor\n            Sets the background color of the paper where the graph\n            is drawn.\n        piecolorway\n            Sets the default pie slice colors. Defaults to the main\n            `colorway` used for trace colors. If you specify a new\n            list here it can still be extended with lighter and\n            darker colors, see `extendpiecolors`.\n        plot_bgcolor\n            Sets the background color of the plotting area in-\n            between x and y axes.\n        polar\n            :class:`plotly.graph_objects.layout.Polar` instance or\n            dict with compatible properties\n        scene\n            :class:`plotly.graph_objects.layout.Scene` instance or\n            dict with compatible properties\n        selectdirection\n            When `dragmode` is set to \"select\", this limits the\n            selection of the drag to horizontal, vertical or\n            diagonal. \"h\" only allows horizontal selection, \"v\"\n            only vertical, \"d\" only diagonal and \"any\" sets no\n            limit.\n        selectionrevision\n            Controls persistence of user-driven changes in selected\n            points from all traces.\n        separators\n            Sets the decimal and thousand separators. For example,\n            *. * puts a '.' before decimals and a space between\n            thousands. In English locales, dflt is \".,\" but other\n            locales may alter this default.\n        shapes\n            A tuple of :class:`plotly.graph_objects.layout.Shape`\n            instances or dicts with compatible properties\n        shapedefaults\n            When used in a template (as\n            layout.template.layout.shapedefaults), sets the default\n            property values to use for elements of layout.shapes\n        showlegend\n            Determines whether or not a legend is drawn. Default is\n            `true` if there is a trace to show and any of these: a)\n            Two or more traces would by default be shown in the\n            legend. b) One pie trace is shown in the legend. c) One\n            trace is explicitly given with `showlegend: true`.\n        sliders\n            A tuple of :class:`plotly.graph_objects.layout.Slider`\n            instances or dicts with compatible properties\n        sliderdefaults\n            When used in a template (as\n            layout.template.layout.sliderdefaults), sets the\n            default property values to use for elements of\n            layout.sliders\n        smith\n            :class:`plotly.graph_objects.layout.Smith` instance or\n            dict with compatible properties\n        spikedistance\n            Sets the default distance (in pixels) to look for data\n            to draw spikelines to (-1 means no cutoff, 0 means no\n            looking for data). As with hoverdistance, distance does\n            not apply to area-like objects. In addition, some\n            objects can be hovered on but will not generate\n            spikelines, such as scatter fills.\n        sunburstcolorway\n            Sets the default sunburst slice colors. Defaults to the\n            main `colorway` used for trace colors. If you specify a\n            new list here it can still be extended with lighter and\n            darker colors, see `extendsunburstcolors`.\n        template\n            Default attributes to be applied to the plot. This\n            should be a dict with format: `{'layout':\n            layoutTemplate, 'data': {trace_type: [traceTemplate,\n            ...], ...}}` where `layoutTemplate` is a dict matching\n            the structure of `figure.layout` and `traceTemplate` is\n            a dict matching the structure of the trace with type\n            `trace_type` (e.g. 'scatter'). Alternatively, this may\n            be specified as an instance of\n            plotly.graph_objs.layout.Template.  Trace templates are\n            applied cyclically to traces of each type. Container\n            arrays (eg `annotations`) have special handling: An\n            object ending in `defaults` (eg `annotationdefaults`)\n            is applied to each array item. But if an item has a\n            `templateitemname` key we look in the template array\n            for an item with matching `name` and apply that\n            instead. If no matching `name` is found we mark the\n            item invisible. Any named template item not referenced\n            is appended to the end of the array, so this can be\n            used to add a watermark annotation or a logo image, for\n            example. To omit one of these items on the plot, make\n            an item with matching `templateitemname` and `visible:\n            false`.\n        ternary\n            :class:`plotly.graph_objects.layout.Ternary` instance\n            or dict with compatible properties\n        title\n            :class:`plotly.graph_objects.layout.Title` instance or\n            dict with compatible properties\n        titlefont\n            Deprecated: Please use layout.title.font instead. Sets\n            the title font. Note that the title's font used to be\n            customized by the now deprecated `titlefont` attribute.\n        transition\n            Sets transition options used during Plotly.react\n            updates.\n        treemapcolorway\n            Sets the default treemap slice colors. Defaults to the\n            main `colorway` used for trace colors. If you specify a\n            new list here it can still be extended with lighter and\n            darker colors, see `extendtreemapcolors`.\n        uirevision\n            Used to allow user interactions with the plot to\n            persist after `Plotly.react` calls that are unaware of\n            these interactions. If `uirevision` is omitted, or if\n            it is given and it changed from the previous\n            `Plotly.react` call, the exact new figure is used. If\n            `uirevision` is truthy and did NOT change, any\n            attribute that has been affected by user interactions\n            and did not receive a different value in the new figure\n            will keep the interaction value. `layout.uirevision`\n            attribute serves as the default for `uirevision`\n            attributes in various sub-containers. For finer control\n            you can set these sub-attributes directly. For example,\n            if your app separately controls the data on the x and y\n            axes you might set `xaxis.uirevision=*time*` and\n            `yaxis.uirevision=*cost*`. Then if only the y data is\n            changed, you can update `yaxis.uirevision=*quantity*`\n            and the y axis range will reset but the x axis range\n            will retain any user-driven zoom.\n        uniformtext\n            :class:`plotly.graph_objects.layout.Uniformtext`\n            instance or dict with compatible properties\n        updatemenus\n            A tuple of\n            :class:`plotly.graph_objects.layout.Updatemenu`\n            instances or dicts with compatible properties\n        updatemenudefaults\n            When used in a template (as\n            layout.template.layout.updatemenudefaults), sets the\n            default property values to use for elements of\n            layout.updatemenus\n        violingap\n            Sets the gap (in plot fraction) between violins of\n            adjacent location coordinates. Has no effect on traces\n            that have \"width\" set.\n        violingroupgap\n            Sets the gap (in plot fraction) between violins of the\n            same location coordinate. Has no effect on traces that\n            have \"width\" set.\n        violinmode\n            Determines how violins at the same location coordinate\n            are displayed on the graph. If \"group\", the violins are\n            plotted next to one another centered around the shared\n            location. If \"overlay\", the violins are plotted over\n            one another, you might need to set \"opacity\" to see\n            them multiple violins. Has no effect on traces that\n            have \"width\" set.\n        waterfallgap\n            Sets the gap (in plot fraction) between bars of\n            adjacent location coordinates.\n        waterfallgroupgap\n            Sets the gap (in plot fraction) between bars of the\n            same location coordinate.\n        waterfallmode\n            Determines how bars at the same location coordinate are\n            displayed on the graph. With \"group\", the bars are\n            plotted next to one another centered around the shared\n            location. With \"overlay\", the bars are plotted over one\n            another, you might need to an \"opacity\" to see multiple\n            bars.\n        width\n            Sets the plot's width (in px).\n        xaxis\n            :class:`plotly.graph_objects.layout.XAxis` instance or\n            dict with compatible properties\n        yaxis\n            :class:`plotly.graph_objects.layout.YAxis` instance or\n            dict with compatible properties\n        \nDid you mean \"polar\"?\n\nBad property path:\nhover_data\n^^^^^",
     "output_type": "error",
     "traceback": [
      "\u001b[1;31m---------------------------------------------------------------------------\u001b[0m",
      "\u001b[1;31mValueError\u001b[0m                                Traceback (most recent call last)",
      "Cell \u001b[1;32mIn[94], line 2\u001b[0m\n\u001b[0;32m      1\u001b[0m fig \u001b[38;5;241m=\u001b[39m optuna\u001b[38;5;241m.\u001b[39mvisualization\u001b[38;5;241m.\u001b[39mplot_slice(study, params \u001b[38;5;241m=\u001b[39m [\u001b[38;5;124m'\u001b[39m\u001b[38;5;124malgorithm\u001b[39m\u001b[38;5;124m'\u001b[39m])\n\u001b[1;32m----> 2\u001b[0m fig\u001b[38;5;241m.\u001b[39mupdate_layout(\n\u001b[0;32m      3\u001b[0m     hover_data \u001b[38;5;241m=\u001b[39m [\u001b[38;5;124m\"\u001b[39m\u001b[38;5;124malgorithm\u001b[39m\u001b[38;5;124m\"\u001b[39m, \u001b[38;5;124m\"\u001b[39m\u001b[38;5;124mTrial\u001b[39m\u001b[38;5;124m\"\u001b[39m])\n\u001b[0;32m      4\u001b[0m fig\u001b[38;5;241m.\u001b[39mshow()\n",
      "File \u001b[1;32m~\\anaconda3\\Lib\\site-packages\\plotly\\graph_objs\\_figure.py:740\u001b[0m, in \u001b[0;36mFigure.update_layout\u001b[1;34m(self, dict1, overwrite, **kwargs)\u001b[0m\n\u001b[0;32m    714\u001b[0m \u001b[38;5;28;01mdef\u001b[39;00m \u001b[38;5;21mupdate_layout\u001b[39m(\u001b[38;5;28mself\u001b[39m, dict1\u001b[38;5;241m=\u001b[39m\u001b[38;5;28;01mNone\u001b[39;00m, overwrite\u001b[38;5;241m=\u001b[39m\u001b[38;5;28;01mFalse\u001b[39;00m, \u001b[38;5;241m*\u001b[39m\u001b[38;5;241m*\u001b[39mkwargs) \u001b[38;5;241m-\u001b[39m\u001b[38;5;241m>\u001b[39m \u001b[38;5;124m\"\u001b[39m\u001b[38;5;124mFigure\u001b[39m\u001b[38;5;124m\"\u001b[39m:\n\u001b[0;32m    715\u001b[0m \u001b[38;5;250m    \u001b[39m\u001b[38;5;124;03m\"\"\"\u001b[39;00m\n\u001b[0;32m    716\u001b[0m \n\u001b[0;32m    717\u001b[0m \u001b[38;5;124;03m    Update the properties of the figure's layout with a dict and/or with\u001b[39;00m\n\u001b[1;32m   (...)\u001b[0m\n\u001b[0;32m    738\u001b[0m \n\u001b[0;32m    739\u001b[0m \u001b[38;5;124;03m    \"\"\"\u001b[39;00m\n\u001b[1;32m--> 740\u001b[0m     \u001b[38;5;28;01mreturn\u001b[39;00m \u001b[38;5;28msuper\u001b[39m(Figure, \u001b[38;5;28mself\u001b[39m)\u001b[38;5;241m.\u001b[39mupdate_layout(dict1, overwrite, \u001b[38;5;241m*\u001b[39m\u001b[38;5;241m*\u001b[39mkwargs)\n",
      "File \u001b[1;32m~\\anaconda3\\Lib\\site-packages\\plotly\\basedatatypes.py:1401\u001b[0m, in \u001b[0;36mBaseFigure.update_layout\u001b[1;34m(self, dict1, overwrite, **kwargs)\u001b[0m\n\u001b[0;32m   1377\u001b[0m \u001b[38;5;28;01mdef\u001b[39;00m \u001b[38;5;21mupdate_layout\u001b[39m(\u001b[38;5;28mself\u001b[39m, dict1\u001b[38;5;241m=\u001b[39m\u001b[38;5;28;01mNone\u001b[39;00m, overwrite\u001b[38;5;241m=\u001b[39m\u001b[38;5;28;01mFalse\u001b[39;00m, \u001b[38;5;241m*\u001b[39m\u001b[38;5;241m*\u001b[39mkwargs):\n\u001b[0;32m   1378\u001b[0m \u001b[38;5;250m    \u001b[39m\u001b[38;5;124;03m\"\"\"\u001b[39;00m\n\u001b[0;32m   1379\u001b[0m \u001b[38;5;124;03m    Update the properties of the figure's layout with a dict and/or with\u001b[39;00m\n\u001b[0;32m   1380\u001b[0m \u001b[38;5;124;03m    keyword arguments.\u001b[39;00m\n\u001b[1;32m   (...)\u001b[0m\n\u001b[0;32m   1399\u001b[0m \u001b[38;5;124;03m        The Figure object that the update_layout method was called on\u001b[39;00m\n\u001b[0;32m   1400\u001b[0m \u001b[38;5;124;03m    \"\"\"\u001b[39;00m\n\u001b[1;32m-> 1401\u001b[0m     \u001b[38;5;28mself\u001b[39m\u001b[38;5;241m.\u001b[39mlayout\u001b[38;5;241m.\u001b[39mupdate(dict1, overwrite\u001b[38;5;241m=\u001b[39moverwrite, \u001b[38;5;241m*\u001b[39m\u001b[38;5;241m*\u001b[39mkwargs)\n\u001b[0;32m   1402\u001b[0m     \u001b[38;5;28;01mreturn\u001b[39;00m \u001b[38;5;28mself\u001b[39m\n",
      "File \u001b[1;32m~\\anaconda3\\Lib\\site-packages\\plotly\\basedatatypes.py:5122\u001b[0m, in \u001b[0;36mBasePlotlyType.update\u001b[1;34m(self, dict1, overwrite, **kwargs)\u001b[0m\n\u001b[0;32m   5120\u001b[0m     \u001b[38;5;28;01mwith\u001b[39;00m \u001b[38;5;28mself\u001b[39m\u001b[38;5;241m.\u001b[39mfigure\u001b[38;5;241m.\u001b[39mbatch_update():\n\u001b[0;32m   5121\u001b[0m         BaseFigure\u001b[38;5;241m.\u001b[39m_perform_update(\u001b[38;5;28mself\u001b[39m, dict1, overwrite\u001b[38;5;241m=\u001b[39moverwrite)\n\u001b[1;32m-> 5122\u001b[0m         BaseFigure\u001b[38;5;241m.\u001b[39m_perform_update(\u001b[38;5;28mself\u001b[39m, kwargs, overwrite\u001b[38;5;241m=\u001b[39moverwrite)\n\u001b[0;32m   5123\u001b[0m \u001b[38;5;28;01melse\u001b[39;00m:\n\u001b[0;32m   5124\u001b[0m     BaseFigure\u001b[38;5;241m.\u001b[39m_perform_update(\u001b[38;5;28mself\u001b[39m, dict1, overwrite\u001b[38;5;241m=\u001b[39moverwrite)\n",
      "File \u001b[1;32m~\\anaconda3\\Lib\\site-packages\\plotly\\basedatatypes.py:3885\u001b[0m, in \u001b[0;36mBaseFigure._perform_update\u001b[1;34m(plotly_obj, update_obj, overwrite)\u001b[0m\n\u001b[0;32m   3881\u001b[0m                 \u001b[38;5;28;01mcontinue\u001b[39;00m\n\u001b[0;32m   3882\u001b[0m         \u001b[38;5;66;03m# If no match, raise the error, which should already\u001b[39;00m\n\u001b[0;32m   3883\u001b[0m         \u001b[38;5;66;03m# contain the _raise_on_invalid_property_error\u001b[39;00m\n\u001b[0;32m   3884\u001b[0m         \u001b[38;5;66;03m# generated message\u001b[39;00m\n\u001b[1;32m-> 3885\u001b[0m         \u001b[38;5;28;01mraise\u001b[39;00m err\n\u001b[0;32m   3887\u001b[0m \u001b[38;5;66;03m# Convert update_obj to dict\u001b[39;00m\n\u001b[0;32m   3888\u001b[0m \u001b[38;5;66;03m# --------------------------\u001b[39;00m\n\u001b[0;32m   3889\u001b[0m \u001b[38;5;28;01mif\u001b[39;00m \u001b[38;5;28misinstance\u001b[39m(update_obj, BasePlotlyType):\n",
      "\u001b[1;31mValueError\u001b[0m: Invalid property specified for object of type plotly.graph_objs.Layout: 'hover'\n\nDid you mean \"polar\"?\n\n    Valid properties:\n        activeshape\n            :class:`plotly.graph_objects.layout.Activeshape`\n            instance or dict with compatible properties\n        annotations\n            A tuple of\n            :class:`plotly.graph_objects.layout.Annotation`\n            instances or dicts with compatible properties\n        annotationdefaults\n            When used in a template (as\n            layout.template.layout.annotationdefaults), sets the\n            default property values to use for elements of\n            layout.annotations\n        autosize\n            Determines whether or not a layout width or height that\n            has been left undefined by the user is initialized on\n            each relayout. Note that, regardless of this attribute,\n            an undefined layout width or height is always\n            initialized on the first call to plot.\n        autotypenumbers\n            Using \"strict\" a numeric string in trace data is not\n            converted to a number. Using *convert types* a numeric\n            string in trace data may be treated as a number during\n            automatic axis `type` detection. This is the default\n            value; however it could be overridden for individual\n            axes.\n        bargap\n            Sets the gap (in plot fraction) between bars of\n            adjacent location coordinates.\n        bargroupgap\n            Sets the gap (in plot fraction) between bars of the\n            same location coordinate.\n        barmode\n            Determines how bars at the same location coordinate are\n            displayed on the graph. With \"stack\", the bars are\n            stacked on top of one another With \"relative\", the bars\n            are stacked on top of one another, with negative values\n            below the axis, positive values above With \"group\", the\n            bars are plotted next to one another centered around\n            the shared location. With \"overlay\", the bars are\n            plotted over one another, you might need to an\n            \"opacity\" to see multiple bars.\n        barnorm\n            Sets the normalization for bar traces on the graph.\n            With \"fraction\", the value of each bar is divided by\n            the sum of all values at that location coordinate.\n            \"percent\" is the same but multiplied by 100 to show\n            percentages.\n        boxgap\n            Sets the gap (in plot fraction) between boxes of\n            adjacent location coordinates. Has no effect on traces\n            that have \"width\" set.\n        boxgroupgap\n            Sets the gap (in plot fraction) between boxes of the\n            same location coordinate. Has no effect on traces that\n            have \"width\" set.\n        boxmode\n            Determines how boxes at the same location coordinate\n            are displayed on the graph. If \"group\", the boxes are\n            plotted next to one another centered around the shared\n            location. If \"overlay\", the boxes are plotted over one\n            another, you might need to set \"opacity\" to see them\n            multiple boxes. Has no effect on traces that have\n            \"width\" set.\n        calendar\n            Sets the default calendar system to use for\n            interpreting and displaying dates throughout the plot.\n        clickmode\n            Determines the mode of single click interactions.\n            \"event\" is the default value and emits the\n            `plotly_click` event. In addition this mode emits the\n            `plotly_selected` event in drag modes \"lasso\" and\n            \"select\", but with no event data attached (kept for\n            compatibility reasons). The \"select\" flag enables\n            selecting single data points via click. This mode also\n            supports persistent selections, meaning that pressing\n            Shift while clicking, adds to / subtracts from an\n            existing selection. \"select\" with `hovermode`: \"x\" can\n            be confusing, consider explicitly setting `hovermode`:\n            \"closest\" when using this feature. Selection events are\n            sent accordingly as long as \"event\" flag is set as\n            well. When the \"event\" flag is missing, `plotly_click`\n            and `plotly_selected` events are not fired.\n        coloraxis\n            :class:`plotly.graph_objects.layout.Coloraxis` instance\n            or dict with compatible properties\n        colorscale\n            :class:`plotly.graph_objects.layout.Colorscale`\n            instance or dict with compatible properties\n        colorway\n            Sets the default trace colors.\n        computed\n            Placeholder for exporting automargin-impacting values\n            namely `margin.t`, `margin.b`, `margin.l` and\n            `margin.r` in \"full-json\" mode.\n        datarevision\n            If provided, a changed value tells `Plotly.react` that\n            one or more data arrays has changed. This way you can\n            modify arrays in-place rather than making a complete\n            new copy for an incremental change. If NOT provided,\n            `Plotly.react` assumes that data arrays are being\n            treated as immutable, thus any data array with a\n            different identity from its predecessor contains new\n            data.\n        dragmode\n            Determines the mode of drag interactions. \"select\" and\n            \"lasso\" apply only to scatter traces with markers or\n            text. \"orbit\" and \"turntable\" apply only to 3D scenes.\n        editrevision\n            Controls persistence of user-driven changes in\n            `editable: true` configuration, other than trace names\n            and axis titles. Defaults to `layout.uirevision`.\n        extendfunnelareacolors\n            If `true`, the funnelarea slice colors (whether given\n            by `funnelareacolorway` or inherited from `colorway`)\n            will be extended to three times its original length by\n            first repeating every color 20% lighter then each color\n            20% darker. This is intended to reduce the likelihood\n            of reusing the same color when you have many slices,\n            but you can set `false` to disable. Colors provided in\n            the trace, using `marker.colors`, are never extended.\n        extendiciclecolors\n            If `true`, the icicle slice colors (whether given by\n            `iciclecolorway` or inherited from `colorway`) will be\n            extended to three times its original length by first\n            repeating every color 20% lighter then each color 20%\n            darker. This is intended to reduce the likelihood of\n            reusing the same color when you have many slices, but\n            you can set `false` to disable. Colors provided in the\n            trace, using `marker.colors`, are never extended.\n        extendpiecolors\n            If `true`, the pie slice colors (whether given by\n            `piecolorway` or inherited from `colorway`) will be\n            extended to three times its original length by first\n            repeating every color 20% lighter then each color 20%\n            darker. This is intended to reduce the likelihood of\n            reusing the same color when you have many slices, but\n            you can set `false` to disable. Colors provided in the\n            trace, using `marker.colors`, are never extended.\n        extendsunburstcolors\n            If `true`, the sunburst slice colors (whether given by\n            `sunburstcolorway` or inherited from `colorway`) will\n            be extended to three times its original length by first\n            repeating every color 20% lighter then each color 20%\n            darker. This is intended to reduce the likelihood of\n            reusing the same color when you have many slices, but\n            you can set `false` to disable. Colors provided in the\n            trace, using `marker.colors`, are never extended.\n        extendtreemapcolors\n            If `true`, the treemap slice colors (whether given by\n            `treemapcolorway` or inherited from `colorway`) will be\n            extended to three times its original length by first\n            repeating every color 20% lighter then each color 20%\n            darker. This is intended to reduce the likelihood of\n            reusing the same color when you have many slices, but\n            you can set `false` to disable. Colors provided in the\n            trace, using `marker.colors`, are never extended.\n        font\n            Sets the global font. Note that fonts used in traces\n            and other layout components inherit from the global\n            font.\n        funnelareacolorway\n            Sets the default funnelarea slice colors. Defaults to\n            the main `colorway` used for trace colors. If you\n            specify a new list here it can still be extended with\n            lighter and darker colors, see\n            `extendfunnelareacolors`.\n        funnelgap\n            Sets the gap (in plot fraction) between bars of\n            adjacent location coordinates.\n        funnelgroupgap\n            Sets the gap (in plot fraction) between bars of the\n            same location coordinate.\n        funnelmode\n            Determines how bars at the same location coordinate are\n            displayed on the graph. With \"stack\", the bars are\n            stacked on top of one another With \"group\", the bars\n            are plotted next to one another centered around the\n            shared location. With \"overlay\", the bars are plotted\n            over one another, you might need to an \"opacity\" to see\n            multiple bars.\n        geo\n            :class:`plotly.graph_objects.layout.Geo` instance or\n            dict with compatible properties\n        grid\n            :class:`plotly.graph_objects.layout.Grid` instance or\n            dict with compatible properties\n        height\n            Sets the plot's height (in px).\n        hiddenlabels\n            hiddenlabels is the funnelarea & pie chart analog of\n            visible:'legendonly' but it can contain many labels,\n            and can simultaneously hide slices from several\n            pies/funnelarea charts\n        hiddenlabelssrc\n            Sets the source reference on Chart Studio Cloud for\n            `hiddenlabels`.\n        hidesources\n            Determines whether or not a text link citing the data\n            source is placed at the bottom-right cored of the\n            figure. Has only an effect only on graphs that have\n            been generated via forked graphs from the Chart Studio\n            Cloud (at https://chart-studio.plotly.com or on-\n            premise).\n        hoverdistance\n            Sets the default distance (in pixels) to look for data\n            to add hover labels (-1 means no cutoff, 0 means no\n            looking for data). This is only a real distance for\n            hovering on point-like objects, like scatter points.\n            For area-like objects (bars, scatter fills, etc)\n            hovering is on inside the area and off outside, but\n            these objects will not supersede hover on point-like\n            objects in case of conflict.\n        hoverlabel\n            :class:`plotly.graph_objects.layout.Hoverlabel`\n            instance or dict with compatible properties\n        hovermode\n            Determines the mode of hover interactions. If\n            \"closest\", a single hoverlabel will appear for the\n            \"closest\" point within the `hoverdistance`. If \"x\" (or\n            \"y\"), multiple hoverlabels will appear for multiple\n            points at the \"closest\" x- (or y-) coordinate within\n            the `hoverdistance`, with the caveat that no more than\n            one hoverlabel will appear per trace. If *x unified*\n            (or *y unified*), a single hoverlabel will appear\n            multiple points at the closest x- (or y-) coordinate\n            within the `hoverdistance` with the caveat that no more\n            than one hoverlabel will appear per trace. In this\n            mode, spikelines are enabled by default perpendicular\n            to the specified axis. If false, hover interactions are\n            disabled.\n        iciclecolorway\n            Sets the default icicle slice colors. Defaults to the\n            main `colorway` used for trace colors. If you specify a\n            new list here it can still be extended with lighter and\n            darker colors, see `extendiciclecolors`.\n        images\n            A tuple of :class:`plotly.graph_objects.layout.Image`\n            instances or dicts with compatible properties\n        imagedefaults\n            When used in a template (as\n            layout.template.layout.imagedefaults), sets the default\n            property values to use for elements of layout.images\n        legend\n            :class:`plotly.graph_objects.layout.Legend` instance or\n            dict with compatible properties\n        mapbox\n            :class:`plotly.graph_objects.layout.Mapbox` instance or\n            dict with compatible properties\n        margin\n            :class:`plotly.graph_objects.layout.Margin` instance or\n            dict with compatible properties\n        meta\n            Assigns extra meta information that can be used in\n            various `text` attributes. Attributes such as the\n            graph, axis and colorbar `title.text`, annotation\n            `text` `trace.name` in legend items, `rangeselector`,\n            `updatemenus` and `sliders` `label` text all support\n            `meta`. One can access `meta` fields using template\n            strings: `%{meta[i]}` where `i` is the index of the\n            `meta` item in question. `meta` can also be an object\n            for example `{key: value}` which can be accessed\n            %{meta[key]}.\n        metasrc\n            Sets the source reference on Chart Studio Cloud for\n            `meta`.\n        modebar\n            :class:`plotly.graph_objects.layout.Modebar` instance\n            or dict with compatible properties\n        newshape\n            :class:`plotly.graph_objects.layout.Newshape` instance\n            or dict with compatible properties\n        paper_bgcolor\n            Sets the background color of the paper where the graph\n            is drawn.\n        piecolorway\n            Sets the default pie slice colors. Defaults to the main\n            `colorway` used for trace colors. If you specify a new\n            list here it can still be extended with lighter and\n            darker colors, see `extendpiecolors`.\n        plot_bgcolor\n            Sets the background color of the plotting area in-\n            between x and y axes.\n        polar\n            :class:`plotly.graph_objects.layout.Polar` instance or\n            dict with compatible properties\n        scene\n            :class:`plotly.graph_objects.layout.Scene` instance or\n            dict with compatible properties\n        selectdirection\n            When `dragmode` is set to \"select\", this limits the\n            selection of the drag to horizontal, vertical or\n            diagonal. \"h\" only allows horizontal selection, \"v\"\n            only vertical, \"d\" only diagonal and \"any\" sets no\n            limit.\n        selectionrevision\n            Controls persistence of user-driven changes in selected\n            points from all traces.\n        separators\n            Sets the decimal and thousand separators. For example,\n            *. * puts a '.' before decimals and a space between\n            thousands. In English locales, dflt is \".,\" but other\n            locales may alter this default.\n        shapes\n            A tuple of :class:`plotly.graph_objects.layout.Shape`\n            instances or dicts with compatible properties\n        shapedefaults\n            When used in a template (as\n            layout.template.layout.shapedefaults), sets the default\n            property values to use for elements of layout.shapes\n        showlegend\n            Determines whether or not a legend is drawn. Default is\n            `true` if there is a trace to show and any of these: a)\n            Two or more traces would by default be shown in the\n            legend. b) One pie trace is shown in the legend. c) One\n            trace is explicitly given with `showlegend: true`.\n        sliders\n            A tuple of :class:`plotly.graph_objects.layout.Slider`\n            instances or dicts with compatible properties\n        sliderdefaults\n            When used in a template (as\n            layout.template.layout.sliderdefaults), sets the\n            default property values to use for elements of\n            layout.sliders\n        smith\n            :class:`plotly.graph_objects.layout.Smith` instance or\n            dict with compatible properties\n        spikedistance\n            Sets the default distance (in pixels) to look for data\n            to draw spikelines to (-1 means no cutoff, 0 means no\n            looking for data). As with hoverdistance, distance does\n            not apply to area-like objects. In addition, some\n            objects can be hovered on but will not generate\n            spikelines, such as scatter fills.\n        sunburstcolorway\n            Sets the default sunburst slice colors. Defaults to the\n            main `colorway` used for trace colors. If you specify a\n            new list here it can still be extended with lighter and\n            darker colors, see `extendsunburstcolors`.\n        template\n            Default attributes to be applied to the plot. This\n            should be a dict with format: `{'layout':\n            layoutTemplate, 'data': {trace_type: [traceTemplate,\n            ...], ...}}` where `layoutTemplate` is a dict matching\n            the structure of `figure.layout` and `traceTemplate` is\n            a dict matching the structure of the trace with type\n            `trace_type` (e.g. 'scatter'). Alternatively, this may\n            be specified as an instance of\n            plotly.graph_objs.layout.Template.  Trace templates are\n            applied cyclically to traces of each type. Container\n            arrays (eg `annotations`) have special handling: An\n            object ending in `defaults` (eg `annotationdefaults`)\n            is applied to each array item. But if an item has a\n            `templateitemname` key we look in the template array\n            for an item with matching `name` and apply that\n            instead. If no matching `name` is found we mark the\n            item invisible. Any named template item not referenced\n            is appended to the end of the array, so this can be\n            used to add a watermark annotation or a logo image, for\n            example. To omit one of these items on the plot, make\n            an item with matching `templateitemname` and `visible:\n            false`.\n        ternary\n            :class:`plotly.graph_objects.layout.Ternary` instance\n            or dict with compatible properties\n        title\n            :class:`plotly.graph_objects.layout.Title` instance or\n            dict with compatible properties\n        titlefont\n            Deprecated: Please use layout.title.font instead. Sets\n            the title font. Note that the title's font used to be\n            customized by the now deprecated `titlefont` attribute.\n        transition\n            Sets transition options used during Plotly.react\n            updates.\n        treemapcolorway\n            Sets the default treemap slice colors. Defaults to the\n            main `colorway` used for trace colors. If you specify a\n            new list here it can still be extended with lighter and\n            darker colors, see `extendtreemapcolors`.\n        uirevision\n            Used to allow user interactions with the plot to\n            persist after `Plotly.react` calls that are unaware of\n            these interactions. If `uirevision` is omitted, or if\n            it is given and it changed from the previous\n            `Plotly.react` call, the exact new figure is used. If\n            `uirevision` is truthy and did NOT change, any\n            attribute that has been affected by user interactions\n            and did not receive a different value in the new figure\n            will keep the interaction value. `layout.uirevision`\n            attribute serves as the default for `uirevision`\n            attributes in various sub-containers. For finer control\n            you can set these sub-attributes directly. For example,\n            if your app separately controls the data on the x and y\n            axes you might set `xaxis.uirevision=*time*` and\n            `yaxis.uirevision=*cost*`. Then if only the y data is\n            changed, you can update `yaxis.uirevision=*quantity*`\n            and the y axis range will reset but the x axis range\n            will retain any user-driven zoom.\n        uniformtext\n            :class:`plotly.graph_objects.layout.Uniformtext`\n            instance or dict with compatible properties\n        updatemenus\n            A tuple of\n            :class:`plotly.graph_objects.layout.Updatemenu`\n            instances or dicts with compatible properties\n        updatemenudefaults\n            When used in a template (as\n            layout.template.layout.updatemenudefaults), sets the\n            default property values to use for elements of\n            layout.updatemenus\n        violingap\n            Sets the gap (in plot fraction) between violins of\n            adjacent location coordinates. Has no effect on traces\n            that have \"width\" set.\n        violingroupgap\n            Sets the gap (in plot fraction) between violins of the\n            same location coordinate. Has no effect on traces that\n            have \"width\" set.\n        violinmode\n            Determines how violins at the same location coordinate\n            are displayed on the graph. If \"group\", the violins are\n            plotted next to one another centered around the shared\n            location. If \"overlay\", the violins are plotted over\n            one another, you might need to set \"opacity\" to see\n            them multiple violins. Has no effect on traces that\n            have \"width\" set.\n        waterfallgap\n            Sets the gap (in plot fraction) between bars of\n            adjacent location coordinates.\n        waterfallgroupgap\n            Sets the gap (in plot fraction) between bars of the\n            same location coordinate.\n        waterfallmode\n            Determines how bars at the same location coordinate are\n            displayed on the graph. With \"group\", the bars are\n            plotted next to one another centered around the shared\n            location. With \"overlay\", the bars are plotted over one\n            another, you might need to an \"opacity\" to see multiple\n            bars.\n        width\n            Sets the plot's width (in px).\n        xaxis\n            :class:`plotly.graph_objects.layout.XAxis` instance or\n            dict with compatible properties\n        yaxis\n            :class:`plotly.graph_objects.layout.YAxis` instance or\n            dict with compatible properties\n        \nDid you mean \"polar\"?\n\nBad property path:\nhover_data\n^^^^^"
     ]
    }
   ],
   "source": [
    "fig = optuna.visualization.plot_slice(study, params = ['algorithm'])\n",
    "fig.update_layout(\n",
    "    hover_data = [\"algorithm\", \"Trial\"])\n",
    "fig.show()"
   ]
  },
  {
   "cell_type": "code",
   "execution_count": 96,
   "id": "95f7cf76",
   "metadata": {},
   "outputs": [],
   "source": [
    "from sklearn.compose import ColumnTransformer\n",
    "from sklearn.pipeline import Pipeline\n",
    "\n",
    "# def instantiate_numerical_pipeline(trial : Trial) -> Pipeline:\n",
    "#     pipeline = Pipeline([\n",
    "#     ('scaler', instantiate_scaler(trial))\n",
    "#   ])\n",
    "#     return pipeline\n",
    "\n",
    "# def instantiate_categorical_function(trial : Trial) -> Pipeline:\n",
    "#     pipeline = Pipeline([\n",
    "#     ('encoder', instantiate_encoder(trial))\n",
    "#   ])\n",
    "#     return pipeline\n",
    "\n",
    "def instantiate_processor(trial : Trial, \n",
    "                          numerical_columns : list[str], \n",
    "                          categorical_columns : list[str]) -> ColumnTransformer:\n",
    "    \n",
    "    numerical_pipeline = StandardScaler()\n",
    "    categorical_pipeline = OneHotEncoder(handle_unknown=\"ignore\")\n",
    "    \n",
    "#     numerical_pipeline = instantiate_numerical_pipeline(trial)\n",
    "#     categorical_pipeline = instantiate_categorical_pipeline(trial)\n",
    "    \n",
    "    processor = ColumnTransformer([\n",
    "        ('numerical_pipeline', numerical_pipeline, numerical_columns),\n",
    "        ('categorical_pipeline', categorical_pipeline, categorical_columns)\n",
    "    ])\n",
    "    return processor\n",
    "\n",
    "def instantiate_model(trial : Trial, numerical_columns : list[str], \n",
    "                      categorical_columns : list[str]) -> Pipeline:\n",
    "    \n",
    "    processor = instantiate_processor(\n",
    "        trial, numerical_columns, categorical_columns\n",
    "    )\n",
    "    \n",
    "    learner = instantiate_learner(trial)\n",
    "    \n",
    "    model_pipe = Pipeline([\n",
    "    ('processor', processor),\n",
    "    ('model', learner)\n",
    "    ])\n",
    "    \n",
    "    model = compose.TransformedTargetRegressor(regressor= model_pipe,\n",
    "                                                func=np.log, inverse_func=np.exp)\n",
    "    \n",
    "    return model"
   ]
  },
  {
   "cell_type": "code",
   "execution_count": 97,
   "id": "810cda1e",
   "metadata": {},
   "outputs": [],
   "source": [
    "def objective(trial : Trial, X : DataFrame,\n",
    "              y : np.ndarray | Series, \n",
    "              numerical_columns : Optional[list[str]]=None, \n",
    "              categorical_columns : Optional[list[str]]=None, \n",
    "              random_state : int=42) -> float:\n",
    "    \n",
    "    if numerical_columns is None:\n",
    "        numerical_columns = [\n",
    "            *X.select_dtypes(exclude=['object', 'category']).columns\n",
    "        ]\n",
    "    \n",
    "    if categorical_columns is None:\n",
    "        categorical_columns = [\n",
    "            *X.select_dtypes(include=['object', 'category']).columns\n",
    "        ]\n",
    "    \n",
    "    model = instantiate_model(trial, numerical_columns, categorical_columns)\n",
    "    kf = KFold(n_splits=5, shuffle=True, random_state=random_state)\n",
    "    r2 = make_scorer(r2_score)\n",
    "    scores = cross_val_score(model, X, y, scoring= r2, cv=kf)\n",
    "    \n",
    "    return np.min([np.mean(scores), np.median([scores])])"
   ]
  },
  {
   "cell_type": "code",
   "execution_count": 98,
   "id": "9c888d9a",
   "metadata": {},
   "outputs": [],
   "source": [
    "df = pd.read_csv('df_normal_quality.csv', index_col=0)\n",
    "y = df.SalePrice\n",
    "X = df.drop(['PID', 'SalePrice'], axis =1).copy()"
   ]
  },
  {
   "cell_type": "code",
   "execution_count": 99,
   "id": "c10a9fbb",
   "metadata": {},
   "outputs": [
    {
     "name": "stderr",
     "output_type": "stream",
     "text": [
      "[I 2024-05-06 14:58:59,518] A new study created in memory with name: optimization\n"
     ]
    }
   ],
   "source": [
    "from optuna import create_study\n",
    "\n",
    "study = create_study(study_name='optimization', direction='maximize')"
   ]
  },
  {
   "cell_type": "code",
   "execution_count": 100,
   "id": "ff1be73b",
   "metadata": {},
   "outputs": [
    {
     "name": "stderr",
     "output_type": "stream",
     "text": [
      "[I 2024-05-06 14:59:03,344] Trial 0 finished with value: 0.9471554321468393 and parameters: {'algorithm': 'ridge', 'alpha': 0.6010505222092465}. Best is trial 0 with value: 0.9471554321468393.\n",
      "[I 2024-05-06 14:59:03,735] Trial 1 finished with value: 0.9389672175428982 and parameters: {'algorithm': 'lasso', 'alpha': 0.006162467158491157}. Best is trial 0 with value: 0.9471554321468393.\n",
      "[I 2024-05-06 14:59:04,136] Trial 2 finished with value: 0.9458097018173504 and parameters: {'algorithm': 'ridge', 'alpha': 0.001244729405956262}. Best is trial 0 with value: 0.9471554321468393.\n",
      "[I 2024-05-06 14:59:04,573] Trial 3 finished with value: 0.9473545665481765 and parameters: {'algorithm': 'ridge', 'alpha': 0.7759373016028097}. Best is trial 3 with value: 0.9473545665481765.\n",
      "[I 2024-05-06 14:59:04,969] Trial 4 finished with value: 0.9496058571087869 and parameters: {'algorithm': 'ridge', 'alpha': 31.29323725185007}. Best is trial 4 with value: 0.9496058571087869.\n",
      "[I 2024-05-06 14:59:05,394] Trial 5 finished with value: 0.9294302327835954 and parameters: {'algorithm': 'lasso', 'alpha': 0.016555231662187374}. Best is trial 4 with value: 0.9496058571087869.\n",
      "[I 2024-05-06 14:59:05,994] Trial 6 finished with value: 0.9500398525687235 and parameters: {'algorithm': 'lasso', 'alpha': 0.0004582749531777171}. Best is trial 6 with value: 0.9500398525687235.\n",
      "[I 2024-05-06 14:59:06,369] Trial 7 finished with value: -0.029441307066881618 and parameters: {'algorithm': 'lasso', 'alpha': 5.534750298353362}. Best is trial 6 with value: 0.9500398525687235.\n",
      "[I 2024-05-06 14:59:16,977] Trial 8 finished with value: -5.373464236107701 and parameters: {'algorithm': 'xgb', 'learning_rate': 0.0016114400564732941, 'max_depth': 10, 'subsample': 0.8558105105039219, 'colsample_bytree': 0.2965777047582458, 'min_child_weight': 9}. Best is trial 6 with value: 0.9500398525687235.\n",
      "[I 2024-05-06 14:59:17,844] Trial 9 finished with value: 0.9500902328681612 and parameters: {'algorithm': 'lasso', 'alpha': 0.00017637287605472746}. Best is trial 9 with value: 0.9500902328681612.\n",
      "[I 2024-05-06 14:59:27,072] Trial 10 finished with value: 0.9057358214629305 and parameters: {'algorithm': 'xgb', 'learning_rate': 0.07748571364848593, 'max_depth': 1, 'subsample': 0.1081539403017378, 'colsample_bytree': 0.8774623283402829, 'min_child_weight': 20}. Best is trial 9 with value: 0.9500902328681612.\n",
      "[I 2024-05-06 14:59:28,085] Trial 11 finished with value: 0.9498510406483309 and parameters: {'algorithm': 'lasso', 'alpha': 0.00011995197253262029}. Best is trial 9 with value: 0.9500902328681612.\n",
      "[I 2024-05-06 14:59:29,102] Trial 12 finished with value: 0.9497956445257467 and parameters: {'algorithm': 'lasso', 'alpha': 0.00011207889164253218}. Best is trial 9 with value: 0.9500902328681612.\n",
      "[I 2024-05-06 14:59:29,618] Trial 13 finished with value: 0.9473793968660728 and parameters: {'algorithm': 'lasso', 'alpha': 0.0011740965051880814}. Best is trial 9 with value: 0.9500902328681612.\n",
      "[I 2024-05-06 14:59:30,045] Trial 14 finished with value: 0.945086273060117 and parameters: {'algorithm': 'lasso', 'alpha': 0.0015503076984355424}. Best is trial 9 with value: 0.9500902328681612.\n",
      "[I 2024-05-06 14:59:30,452] Trial 15 finished with value: 0.891919680699119 and parameters: {'algorithm': 'lasso', 'alpha': 0.03649585335839899}. Best is trial 9 with value: 0.9500902328681612.\n",
      "[I 2024-05-06 14:59:38,160] Trial 16 finished with value: -6.669394335705886 and parameters: {'algorithm': 'xgb', 'learning_rate': 0.0001093221261079389, 'max_depth': 6, 'subsample': 0.9975559933333737, 'colsample_bytree': 0.08773403630454318, 'min_child_weight': 1}. Best is trial 9 with value: 0.9500902328681612.\n",
      "[I 2024-05-06 14:59:38,785] Trial 17 finished with value: 0.9502165794308643 and parameters: {'algorithm': 'lasso', 'alpha': 0.0003726843301350919}. Best is trial 17 with value: 0.9502165794308643.\n",
      "[I 2024-05-06 14:59:39,168] Trial 18 finished with value: 0.3389464804948818 and parameters: {'algorithm': 'lasso', 'alpha': 0.20023362384311136}. Best is trial 17 with value: 0.9502165794308643.\n",
      "[I 2024-05-06 14:59:48,493] Trial 19 finished with value: 0.8811693917915496 and parameters: {'algorithm': 'xgb', 'learning_rate': 0.08019600545172129, 'max_depth': 1, 'subsample': 0.06393922828854465, 'colsample_bytree': 0.9630028278354485, 'min_child_weight': 20}. Best is trial 17 with value: 0.9502165794308643.\n",
      "[I 2024-05-06 14:59:48,927] Trial 20 finished with value: 0.9409100930605206 and parameters: {'algorithm': 'lasso', 'alpha': 0.004216169019651566}. Best is trial 17 with value: 0.9502165794308643.\n",
      "[I 2024-05-06 14:59:49,585] Trial 21 finished with value: 0.9502535145176715 and parameters: {'algorithm': 'lasso', 'alpha': 0.00034608379326552273}. Best is trial 21 with value: 0.9502535145176715.\n",
      "[I 2024-05-06 14:59:50,335] Trial 22 finished with value: 0.950247724018946 and parameters: {'algorithm': 'lasso', 'alpha': 0.00024482064135119533}. Best is trial 21 with value: 0.9502535145176715.\n",
      "[I 2024-05-06 14:59:50,904] Trial 23 finished with value: 0.9499686482042866 and parameters: {'algorithm': 'lasso', 'alpha': 0.000487776516858514}. Best is trial 21 with value: 0.9502535145176715.\n",
      "[I 2024-05-06 14:59:51,335] Trial 24 finished with value: 0.9397985591072718 and parameters: {'algorithm': 'lasso', 'alpha': 0.005239588389351667}. Best is trial 21 with value: 0.9502535145176715.\n",
      "[I 2024-05-06 14:59:51,984] Trial 25 finished with value: 0.9500469224113856 and parameters: {'algorithm': 'lasso', 'alpha': 0.0004550420502021263}. Best is trial 21 with value: 0.9502535145176715.\n",
      "[I 2024-05-06 14:59:52,426] Trial 26 finished with value: 0.9224764929436381 and parameters: {'algorithm': 'lasso', 'alpha': 0.02091016333584503}. Best is trial 21 with value: 0.9502535145176715.\n",
      "[I 2024-05-06 14:59:52,873] Trial 27 finished with value: 0.9431142980201922 and parameters: {'algorithm': 'lasso', 'alpha': 0.002367137437004208}. Best is trial 21 with value: 0.9502535145176715.\n",
      "[I 2024-05-06 14:59:53,268] Trial 28 finished with value: 0.9458058722948917 and parameters: {'algorithm': 'ridge', 'alpha': 0.0003508193855269366}. Best is trial 21 with value: 0.9502535145176715.\n",
      "[I 2024-05-06 15:00:06,976] Trial 29 finished with value: -2.8957501035877273 and parameters: {'algorithm': 'xgb', 'learning_rate': 0.0023166212634019153, 'max_depth': 10, 'subsample': 0.5235492940540687, 'colsample_bytree': 0.6157251098470551, 'min_child_weight': 10}. Best is trial 21 with value: 0.9502535145176715.\n",
      "[I 2024-05-06 15:00:07,401] Trial 30 finished with value: 0.9460881378786741 and parameters: {'algorithm': 'ridge', 'alpha': 0.07419825096515736}. Best is trial 21 with value: 0.9502535145176715.\n",
      "[I 2024-05-06 15:00:08,452] Trial 31 finished with value: 0.9497745164857381 and parameters: {'algorithm': 'lasso', 'alpha': 0.0001098338559889162}. Best is trial 21 with value: 0.9502535145176715.\n",
      "[I 2024-05-06 15:00:09,179] Trial 32 finished with value: 0.9502797535996578 and parameters: {'algorithm': 'lasso', 'alpha': 0.00026399630354087886}. Best is trial 32 with value: 0.9502797535996578.\n",
      "[I 2024-05-06 15:00:09,685] Trial 33 finished with value: 0.9486362756580426 and parameters: {'algorithm': 'lasso', 'alpha': 0.0008472387752849562}. Best is trial 32 with value: 0.9502797535996578.\n",
      "[I 2024-05-06 15:00:10,310] Trial 34 finished with value: 0.9502759959747529 and parameters: {'algorithm': 'lasso', 'alpha': 0.0003204788571913823}. Best is trial 32 with value: 0.9502797535996578.\n",
      "[I 2024-05-06 15:00:10,737] Trial 35 finished with value: 0.9458054065930874 and parameters: {'algorithm': 'ridge', 'alpha': 0.00024230102105339654}. Best is trial 32 with value: 0.9502797535996578.\n",
      "[I 2024-05-06 15:00:11,136] Trial 36 finished with value: 0.9427418045630881 and parameters: {'algorithm': 'lasso', 'alpha': 0.002615056478718971}. Best is trial 32 with value: 0.9502797535996578.\n",
      "[I 2024-05-06 15:00:11,645] Trial 37 finished with value: 0.9485421626102486 and parameters: {'algorithm': 'lasso', 'alpha': 0.0008701193893983413}. Best is trial 32 with value: 0.9502797535996578.\n",
      "[I 2024-05-06 15:00:12,078] Trial 38 finished with value: 0.9373437476773958 and parameters: {'algorithm': 'lasso', 'alpha': 0.009343031672547655}. Best is trial 32 with value: 0.9502797535996578.\n"
     ]
    },
    {
     "name": "stderr",
     "output_type": "stream",
     "text": [
      "[I 2024-05-06 15:00:12,528] Trial 39 finished with value: 0.9485588883459293 and parameters: {'algorithm': 'ridge', 'alpha': 3.0896988698846903}. Best is trial 32 with value: 0.9502797535996578.\n",
      "[I 2024-05-06 15:00:13,049] Trial 40 finished with value: 0.9490795432899979 and parameters: {'algorithm': 'lasso', 'alpha': 0.0007487749013093245}. Best is trial 32 with value: 0.9502797535996578.\n",
      "[I 2024-05-06 15:00:13,752] Trial 41 finished with value: 0.9502825368726407 and parameters: {'algorithm': 'lasso', 'alpha': 0.00026577767050225043}. Best is trial 41 with value: 0.9502825368726407.\n",
      "[I 2024-05-06 15:00:14,485] Trial 42 finished with value: 0.9502294508274328 and parameters: {'algorithm': 'lasso', 'alpha': 0.00023634827143863648}. Best is trial 41 with value: 0.9502825368726407.\n",
      "[I 2024-05-06 15:00:14,910] Trial 43 finished with value: 0.9430131991735313 and parameters: {'algorithm': 'lasso', 'alpha': 0.002427898969308335}. Best is trial 41 with value: 0.9502825368726407.\n",
      "[I 2024-05-06 15:00:15,534] Trial 44 finished with value: 0.9502727641231721 and parameters: {'algorithm': 'lasso', 'alpha': 0.000325062047327948}. Best is trial 41 with value: 0.9502825368726407.\n",
      "[I 2024-05-06 15:00:16,034] Trial 45 finished with value: 0.9492408791368658 and parameters: {'algorithm': 'lasso', 'alpha': 0.0007138085942687639}. Best is trial 41 with value: 0.9502825368726407.\n",
      "[I 2024-05-06 15:00:16,493] Trial 46 finished with value: 0.9448349663520008 and parameters: {'algorithm': 'lasso', 'alpha': 0.001600153468480079}. Best is trial 41 with value: 0.9502825368726407.\n",
      "[I 2024-05-06 15:00:25,595] Trial 47 finished with value: -6.669368157650402 and parameters: {'algorithm': 'xgb', 'learning_rate': 0.00011521087399364599, 'max_depth': 6, 'subsample': 0.5277084716528383, 'colsample_bytree': 0.5662117236927399, 'min_child_weight': 1}. Best is trial 41 with value: 0.9502825368726407.\n",
      "[I 2024-05-06 15:00:26,385] Trial 48 finished with value: 0.9500862499579659 and parameters: {'algorithm': 'lasso', 'alpha': 0.0001752770246621694}. Best is trial 41 with value: 0.9502825368726407.\n",
      "[I 2024-05-06 15:00:26,802] Trial 49 finished with value: 0.9371932960385145 and parameters: {'algorithm': 'lasso', 'alpha': 0.009528470841126065}. Best is trial 41 with value: 0.9502825368726407.\n",
      "[I 2024-05-06 15:00:27,209] Trial 50 finished with value: 0.9470141744249545 and parameters: {'algorithm': 'ridge', 'alpha': 0.4966722669613841}. Best is trial 41 with value: 0.9502825368726407.\n",
      "[I 2024-05-06 15:00:27,901] Trial 51 finished with value: 0.9502119657115078 and parameters: {'algorithm': 'lasso', 'alpha': 0.00022775953671817198}. Best is trial 41 with value: 0.9502825368726407.\n",
      "[I 2024-05-06 15:00:28,967] Trial 52 finished with value: 0.949734434572683 and parameters: {'algorithm': 'lasso', 'alpha': 0.00010612659023547114}. Best is trial 41 with value: 0.9502825368726407.\n",
      "[I 2024-05-06 15:00:29,601] Trial 53 finished with value: 0.9501974068395576 and parameters: {'algorithm': 'lasso', 'alpha': 0.0003830467672882016}. Best is trial 41 with value: 0.9502825368726407.\n",
      "[I 2024-05-06 15:00:30,334] Trial 54 finished with value: 0.950190484820807 and parameters: {'algorithm': 'lasso', 'alpha': 0.00021627436540954526}. Best is trial 41 with value: 0.9502825368726407.\n",
      "[I 2024-05-06 15:00:30,792] Trial 55 finished with value: 0.945629603904475 and parameters: {'algorithm': 'lasso', 'alpha': 0.001445853412310756}. Best is trial 41 with value: 0.9502825368726407.\n",
      "[I 2024-05-06 15:00:31,143] Trial 56 finished with value: -0.029441307066881618 and parameters: {'algorithm': 'lasso', 'alpha': 53.23092951617624}. Best is trial 41 with value: 0.9502825368726407.\n",
      "[I 2024-05-06 15:00:45,364] Trial 57 finished with value: 0.9362219094296959 and parameters: {'algorithm': 'xgb', 'learning_rate': 0.011236477438678406, 'max_depth': 4, 'subsample': 0.41151468106452377, 'colsample_bytree': 0.330480957357973, 'min_child_weight': 15}. Best is trial 41 with value: 0.9502825368726407.\n",
      "[I 2024-05-06 15:00:45,913] Trial 58 finished with value: 0.9495661914710423 and parameters: {'algorithm': 'lasso', 'alpha': 0.0006269662288422743}. Best is trial 41 with value: 0.9502825368726407.\n",
      "[I 2024-05-06 15:00:46,618] Trial 59 finished with value: 0.9502879072815185 and parameters: {'algorithm': 'lasso', 'alpha': 0.00029775083715590834}. Best is trial 59 with value: 0.9502879072815185.\n",
      "[I 2024-05-06 15:00:46,987] Trial 60 finished with value: -0.029441307066881618 and parameters: {'algorithm': 'lasso', 'alpha': 15.099326747885836}. Best is trial 59 with value: 0.9502879072815185.\n",
      "[I 2024-05-06 15:00:47,894] Trial 61 finished with value: 0.9500333708547464 and parameters: {'algorithm': 'lasso', 'alpha': 0.00016120434434155882}. Best is trial 59 with value: 0.9502879072815185.\n",
      "[I 2024-05-06 15:00:48,551] Trial 62 finished with value: 0.9502370410586698 and parameters: {'algorithm': 'lasso', 'alpha': 0.0003589828022351704}. Best is trial 59 with value: 0.9502879072815185.\n",
      "[I 2024-05-06 15:00:49,235] Trial 63 finished with value: 0.9502750912961979 and parameters: {'algorithm': 'lasso', 'alpha': 0.0003217979072940209}. Best is trial 59 with value: 0.9502879072815185.\n",
      "[I 2024-05-06 15:00:49,727] Trial 64 finished with value: 0.9472882006945464 and parameters: {'algorithm': 'lasso', 'alpha': 0.0011967427390884194}. Best is trial 59 with value: 0.9502879072815185.\n",
      "[I 2024-05-06 15:00:50,323] Trial 65 finished with value: 0.9499221783577119 and parameters: {'algorithm': 'lasso', 'alpha': 0.0005043219466697327}. Best is trial 59 with value: 0.9502879072815185.\n",
      "[I 2024-05-06 15:00:51,273] Trial 66 finished with value: 0.9499614525388406 and parameters: {'algorithm': 'lasso', 'alpha': 0.00014659589751746423}. Best is trial 59 with value: 0.9502879072815185.\n",
      "[I 2024-05-06 15:01:03,060] Trial 67 finished with value: -6.649379579649593 and parameters: {'algorithm': 'xgb', 'learning_rate': 0.0005787891082612613, 'max_depth': 3, 'subsample': 0.7512158659814847, 'colsample_bytree': 0.7802016742983691, 'min_child_weight': 5}. Best is trial 59 with value: 0.9502879072815185.\n",
      "[I 2024-05-06 15:01:03,717] Trial 68 finished with value: 0.9502742629973625 and parameters: {'algorithm': 'lasso', 'alpha': 0.00032279050356379395}. Best is trial 59 with value: 0.9502879072815185.\n",
      "[I 2024-05-06 15:01:04,177] Trial 69 finished with value: 0.941854420726292 and parameters: {'algorithm': 'lasso', 'alpha': 0.003229013154984103}. Best is trial 59 with value: 0.9502879072815185.\n",
      "[I 2024-05-06 15:01:04,668] Trial 70 finished with value: 0.9483040046031498 and parameters: {'algorithm': 'lasso', 'alpha': 0.0009304375157316136}. Best is trial 59 with value: 0.9502879072815185.\n",
      "[I 2024-05-06 15:01:05,310] Trial 71 finished with value: 0.9502735478038954 and parameters: {'algorithm': 'lasso', 'alpha': 0.00032387498231343473}. Best is trial 59 with value: 0.9502879072815185.\n",
      "[I 2024-05-06 15:01:06,450] Trial 72 finished with value: 0.9496698612945007 and parameters: {'algorithm': 'lasso', 'alpha': 0.00010020749752970585}. Best is trial 59 with value: 0.9502879072815185.\n",
      "[I 2024-05-06 15:01:07,006] Trial 73 finished with value: 0.9499618729169731 and parameters: {'algorithm': 'lasso', 'alpha': 0.0004902540297799311}. Best is trial 59 with value: 0.9502879072815185.\n",
      "[I 2024-05-06 15:01:07,676] Trial 74 finished with value: 0.9502883231525254 and parameters: {'algorithm': 'lasso', 'alpha': 0.0002969173890045437}. Best is trial 74 with value: 0.9502883231525254.\n",
      "[I 2024-05-06 15:01:08,299] Trial 75 finished with value: 0.9502953233147071 and parameters: {'algorithm': 'lasso', 'alpha': 0.00028454678060790855}. Best is trial 75 with value: 0.9502953233147071.\n",
      "[I 2024-05-06 15:01:08,742] Trial 76 finished with value: 0.9458050864155652 and parameters: {'algorithm': 'ridge', 'alpha': 0.00016771658897848712}. Best is trial 75 with value: 0.9502953233147071.\n",
      "[I 2024-05-06 15:01:09,250] Trial 77 finished with value: 0.9497137160696887 and parameters: {'algorithm': 'lasso', 'alpha': 0.000578084982033051}. Best is trial 75 with value: 0.9502953233147071.\n",
      "[I 2024-05-06 15:01:09,942] Trial 78 finished with value: 0.9502815924227817 and parameters: {'algorithm': 'lasso', 'alpha': 0.0002650869138932816}. Best is trial 75 with value: 0.9502953233147071.\n"
     ]
    },
    {
     "name": "stderr",
     "output_type": "stream",
     "text": [
      "[I 2024-05-06 15:01:10,766] Trial 79 finished with value: 0.9499926313562599 and parameters: {'algorithm': 'lasso', 'alpha': 0.0001529524006218151}. Best is trial 75 with value: 0.9502953233147071.\n",
      "[I 2024-05-06 15:01:11,254] Trial 80 finished with value: 0.9481827933626569 and parameters: {'algorithm': 'lasso', 'alpha': 0.0009624329368942344}. Best is trial 75 with value: 0.9502953233147071.\n",
      "[I 2024-05-06 15:01:11,960] Trial 81 finished with value: 0.9502672109276192 and parameters: {'algorithm': 'lasso', 'alpha': 0.00025615699836524443}. Best is trial 75 with value: 0.9502953233147071.\n",
      "[I 2024-05-06 15:01:12,599] Trial 82 finished with value: 0.9502963988384143 and parameters: {'algorithm': 'lasso', 'alpha': 0.0002775282989311552}. Best is trial 82 with value: 0.9502963988384143.\n",
      "[I 2024-05-06 15:01:13,037] Trial 83 finished with value: 0.9439723885844347 and parameters: {'algorithm': 'lasso', 'alpha': 0.001863957343085763}. Best is trial 82 with value: 0.9502963988384143.\n",
      "[I 2024-05-06 15:01:13,549] Trial 84 finished with value: 0.9496589312348584 and parameters: {'algorithm': 'lasso', 'alpha': 0.0005977110689793054}. Best is trial 82 with value: 0.9502963988384143.\n",
      "[I 2024-05-06 15:01:14,260] Trial 85 finished with value: 0.9502098986541375 and parameters: {'algorithm': 'lasso', 'alpha': 0.0002265048002483477}. Best is trial 82 with value: 0.9502963988384143.\n",
      "[I 2024-05-06 15:01:27,801] Trial 86 finished with value: 0.9113729713455464 and parameters: {'algorithm': 'xgb', 'learning_rate': 0.01240560912844289, 'max_depth': 8, 'subsample': 0.2704974479544986, 'colsample_bytree': 0.061997530866703454, 'min_child_weight': 15}. Best is trial 82 with value: 0.9502963988384143.\n",
      "[I 2024-05-06 15:01:28,765] Trial 87 finished with value: 0.9499303692169431 and parameters: {'algorithm': 'lasso', 'alpha': 0.00014044844521037702}. Best is trial 82 with value: 0.9502963988384143.\n",
      "[I 2024-05-06 15:01:29,216] Trial 88 finished with value: 0.9458062548545307 and parameters: {'algorithm': 'ridge', 'alpha': 0.00043999444012187577}. Best is trial 82 with value: 0.9502963988384143.\n",
      "[I 2024-05-06 15:01:29,732] Trial 89 finished with value: 0.9476084501766951 and parameters: {'algorithm': 'lasso', 'alpha': 0.0011161328813483}. Best is trial 82 with value: 0.9502963988384143.\n",
      "[I 2024-05-06 15:01:30,433] Trial 90 finished with value: 0.9502964822130379 and parameters: {'algorithm': 'lasso', 'alpha': 0.00028182509069933046}. Best is trial 90 with value: 0.9502964822130379.\n",
      "[I 2024-05-06 15:01:31,191] Trial 91 finished with value: 0.9501962444593653 and parameters: {'algorithm': 'lasso', 'alpha': 0.00021910412365379805}. Best is trial 90 with value: 0.9502964822130379.\n",
      "[I 2024-05-06 15:01:31,858] Trial 92 finished with value: 0.9502926907956504 and parameters: {'algorithm': 'lasso', 'alpha': 0.00028892319193558495}. Best is trial 90 with value: 0.9502964822130379.\n",
      "[I 2024-05-06 15:01:32,847] Trial 93 finished with value: 0.9498802105550059 and parameters: {'algorithm': 'lasso', 'alpha': 0.00012601304274520566}. Best is trial 90 with value: 0.9502964822130379.\n",
      "[I 2024-05-06 15:01:33,349] Trial 94 finished with value: 0.9493494195943446 and parameters: {'algorithm': 'lasso', 'alpha': 0.0006867677082010171}. Best is trial 90 with value: 0.9502964822130379.\n",
      "[I 2024-05-06 15:01:33,716] Trial 95 finished with value: 0.6948625509417926 and parameters: {'algorithm': 'lasso', 'alpha': 0.10617565798782047}. Best is trial 90 with value: 0.9502964822130379.\n",
      "[I 2024-05-06 15:01:34,391] Trial 96 finished with value: 0.9502862831182425 and parameters: {'algorithm': 'lasso', 'alpha': 0.00026874245328880713}. Best is trial 90 with value: 0.9502964822130379.\n",
      "[I 2024-05-06 15:01:35,108] Trial 97 finished with value: 0.9501449871277803 and parameters: {'algorithm': 'lasso', 'alpha': 0.0001942292553580477}. Best is trial 90 with value: 0.9502964822130379.\n",
      "[I 2024-05-06 15:01:35,683] Trial 98 finished with value: 0.9500888877970954 and parameters: {'algorithm': 'lasso', 'alpha': 0.0004343961432539565}. Best is trial 90 with value: 0.9502964822130379.\n",
      "[I 2024-05-06 15:01:36,349] Trial 99 finished with value: 0.9502964373402069 and parameters: {'algorithm': 'lasso', 'alpha': 0.0002822324255457903}. Best is trial 90 with value: 0.9502964822130379.\n",
      "[I 2024-05-06 15:01:37,491] Trial 100 finished with value: 0.9496753512755902 and parameters: {'algorithm': 'lasso', 'alpha': 0.00010067470572454919}. Best is trial 90 with value: 0.9502964822130379.\n",
      "[I 2024-05-06 15:01:38,215] Trial 101 finished with value: 0.9502449512569566 and parameters: {'algorithm': 'lasso', 'alpha': 0.00024337137393535218}. Best is trial 90 with value: 0.9502964822130379.\n",
      "[I 2024-05-06 15:01:38,847] Trial 102 finished with value: 0.9502955909186339 and parameters: {'algorithm': 'lasso', 'alpha': 0.0002840324973679434}. Best is trial 90 with value: 0.9502964822130379.\n",
      "[I 2024-05-06 15:01:39,463] Trial 103 finished with value: 0.9500715177401252 and parameters: {'algorithm': 'lasso', 'alpha': 0.0004429356786116208}. Best is trial 90 with value: 0.9502964822130379.\n",
      "[I 2024-05-06 15:01:39,982] Trial 104 finished with value: 0.9493553150559639 and parameters: {'algorithm': 'lasso', 'alpha': 0.0006852289007676667}. Best is trial 90 with value: 0.9502964822130379.\n",
      "[I 2024-05-06 15:01:40,774] Trial 105 finished with value: 0.9500636883309272 and parameters: {'algorithm': 'lasso', 'alpha': 0.00016777305469109388}. Best is trial 90 with value: 0.9502964822130379.\n",
      "[I 2024-05-06 15:01:41,157] Trial 106 finished with value: -0.029441307066881618 and parameters: {'algorithm': 'lasso', 'alpha': 2.718674441824922}. Best is trial 90 with value: 0.9502964822130379.\n",
      "[I 2024-05-06 15:02:04,347] Trial 107 finished with value: 0.9456992597139712 and parameters: {'algorithm': 'xgb', 'learning_rate': 0.010250741887711978, 'max_depth': 8, 'subsample': 0.699136270124052, 'colsample_bytree': 0.34676345983827406, 'min_child_weight': 6}. Best is trial 90 with value: 0.9502964822130379.\n",
      "[I 2024-05-06 15:02:04,999] Trial 108 finished with value: 0.9502914624491947 and parameters: {'algorithm': 'lasso', 'alpha': 0.000290966147484301}. Best is trial 90 with value: 0.9502964822130379.\n",
      "[I 2024-05-06 15:02:05,524] Trial 109 finished with value: 0.9487796957195679 and parameters: {'algorithm': 'lasso', 'alpha': 0.0008154095304730813}. Best is trial 90 with value: 0.9502964822130379.\n",
      "[I 2024-05-06 15:02:05,966] Trial 110 finished with value: 0.9458059631669112 and parameters: {'algorithm': 'ridge', 'alpha': 0.00037199925344242533}. Best is trial 90 with value: 0.9502964822130379.\n",
      "[I 2024-05-06 15:02:06,718] Trial 111 finished with value: 0.9502778163259922 and parameters: {'algorithm': 'lasso', 'alpha': 0.0002628523102139585}. Best is trial 90 with value: 0.9502964822130379.\n",
      "[I 2024-05-06 15:02:07,458] Trial 112 finished with value: 0.9502836280725976 and parameters: {'algorithm': 'lasso', 'alpha': 0.0003044538444315895}. Best is trial 90 with value: 0.9502964822130379.\n",
      "[I 2024-05-06 15:02:08,297] Trial 113 finished with value: 0.9501260316720657 and parameters: {'algorithm': 'lasso', 'alpha': 0.0001869134239066806}. Best is trial 90 with value: 0.9502964822130379.\n",
      "[I 2024-05-06 15:02:08,868] Trial 114 finished with value: 0.9498013443197497 and parameters: {'algorithm': 'lasso', 'alpha': 0.0005452808403101624}. Best is trial 90 with value: 0.9502964822130379.\n",
      "[I 2024-05-06 15:02:09,533] Trial 115 finished with value: 0.9502845562820639 and parameters: {'algorithm': 'lasso', 'alpha': 0.0003030787208159202}. Best is trial 90 with value: 0.9502964822130379.\n",
      "[I 2024-05-06 15:02:10,225] Trial 116 finished with value: 0.9502582588235127 and parameters: {'algorithm': 'lasso', 'alpha': 0.0003421151990867715}. Best is trial 90 with value: 0.9502964822130379.\n",
      "[I 2024-05-06 15:02:11,239] Trial 117 finished with value: 0.9499275892013603 and parameters: {'algorithm': 'lasso', 'alpha': 0.00013966170638581}. Best is trial 90 with value: 0.9502964822130379.\n",
      "[I 2024-05-06 15:02:11,723] Trial 118 finished with value: 0.9442351128117648 and parameters: {'algorithm': 'lasso', 'alpha': 0.0017689970679156401}. Best is trial 90 with value: 0.9502964822130379.\n",
      "[I 2024-05-06 15:02:12,247] Trial 119 finished with value: 0.9499741667505186 and parameters: {'algorithm': 'lasso', 'alpha': 0.0004857680768819713}. Best is trial 90 with value: 0.9502964822130379.\n"
     ]
    },
    {
     "name": "stderr",
     "output_type": "stream",
     "text": [
      "[I 2024-05-06 15:02:13,063] Trial 120 finished with value: 0.9501437506612426 and parameters: {'algorithm': 'lasso', 'alpha': 0.00019366385317210036}. Best is trial 90 with value: 0.9502964822130379.\n",
      "[I 2024-05-06 15:02:13,733] Trial 121 finished with value: 0.9502898226246657 and parameters: {'algorithm': 'lasso', 'alpha': 0.00029322512255107095}. Best is trial 90 with value: 0.9502964822130379.\n",
      "[I 2024-05-06 15:02:14,178] Trial 122 finished with value: 0.950172458965406 and parameters: {'algorithm': 'lasso', 'alpha': 0.0003937165488046054}. Best is trial 90 with value: 0.9502964822130379.\n",
      "[I 2024-05-06 15:02:14,889] Trial 123 finished with value: 0.9498818867954568 and parameters: {'algorithm': 'lasso', 'alpha': 0.00012651680490057297}. Best is trial 90 with value: 0.9502964822130379.\n",
      "[I 2024-05-06 15:02:15,518] Trial 124 finished with value: 0.9502742213840186 and parameters: {'algorithm': 'lasso', 'alpha': 0.00032284555737474547}. Best is trial 90 with value: 0.9502964822130379.\n",
      "[I 2024-05-06 15:02:16,012] Trial 125 finished with value: 0.948010230424984 and parameters: {'algorithm': 'lasso', 'alpha': 0.0010093248243163574}. Best is trial 90 with value: 0.9502964822130379.\n",
      "[I 2024-05-06 15:02:16,539] Trial 126 finished with value: 0.9494725800498989 and parameters: {'algorithm': 'lasso', 'alpha': 0.0006538962082803727}. Best is trial 90 with value: 0.9502964822130379.\n",
      "[I 2024-05-06 15:02:17,211] Trial 127 finished with value: 0.9502881420877998 and parameters: {'algorithm': 'lasso', 'alpha': 0.0002701530338719892}. Best is trial 90 with value: 0.9502964822130379.\n",
      "[I 2024-05-06 15:02:18,032] Trial 128 finished with value: 0.9501299921214527 and parameters: {'algorithm': 'lasso', 'alpha': 0.00018822987713131288}. Best is trial 90 with value: 0.9502964822130379.\n",
      "[I 2024-05-06 15:02:26,304] Trial 129 finished with value: -6.665047997522985 and parameters: {'algorithm': 'xgb', 'learning_rate': 0.00037758996511927124, 'max_depth': 3, 'subsample': 0.2213408681389885, 'colsample_bytree': 0.7364584373058741, 'min_child_weight': 15}. Best is trial 90 with value: 0.9502964822130379.\n",
      "[I 2024-05-06 15:02:26,882] Trial 130 finished with value: 0.9499275651962751 and parameters: {'algorithm': 'lasso', 'alpha': 0.0005025161860693752}. Best is trial 90 with value: 0.9502964822130379.\n",
      "[I 2024-05-06 15:02:27,483] Trial 131 finished with value: 0.9502859312054707 and parameters: {'algorithm': 'lasso', 'alpha': 0.00030121839415697064}. Best is trial 90 with value: 0.9502964822130379.\n",
      "[I 2024-05-06 15:02:27,877] Trial 132 finished with value: 0.9090691608791975 and parameters: {'algorithm': 'lasso', 'alpha': 0.02760617308212424}. Best is trial 90 with value: 0.9502964822130379.\n",
      "[I 2024-05-06 15:02:28,531] Trial 133 finished with value: 0.9502947964782023 and parameters: {'algorithm': 'lasso', 'alpha': 0.0002755064260576385}. Best is trial 90 with value: 0.9502964822130379.\n",
      "[I 2024-05-06 15:02:29,267] Trial 134 finished with value: 0.9502028187641546 and parameters: {'algorithm': 'lasso', 'alpha': 0.00022243048023622906}. Best is trial 90 with value: 0.9502964822130379.\n",
      "[I 2024-05-06 15:02:30,225] Trial 135 finished with value: 0.9499426420022609 and parameters: {'algorithm': 'lasso', 'alpha': 0.00014320019113867708}. Best is trial 90 with value: 0.9502964822130379.\n",
      "[I 2024-05-06 15:02:30,940] Trial 136 finished with value: 0.9502861840712985 and parameters: {'algorithm': 'lasso', 'alpha': 0.00026866592038427895}. Best is trial 90 with value: 0.9502964822130379.\n",
      "[I 2024-05-06 15:02:31,331] Trial 137 finished with value: 0.9458062161166941 and parameters: {'algorithm': 'ridge', 'alpha': 0.0004309633494336917}. Best is trial 90 with value: 0.9502964822130379.\n",
      "[I 2024-05-06 15:02:31,870] Trial 138 finished with value: 0.9487904462388294 and parameters: {'algorithm': 'lasso', 'alpha': 0.00081294913853769}. Best is trial 90 with value: 0.9502964822130379.\n",
      "[I 2024-05-06 15:02:32,669] Trial 139 finished with value: 0.9501620529377204 and parameters: {'algorithm': 'lasso', 'alpha': 0.00020297584486418416}. Best is trial 90 with value: 0.9502964822130379.\n",
      "[I 2024-05-06 15:02:33,762] Trial 140 finished with value: 0.9498618400883064 and parameters: {'algorithm': 'lasso', 'alpha': 0.00012195713425037956}. Best is trial 90 with value: 0.9502964822130379.\n",
      "[I 2024-05-06 15:02:34,447] Trial 141 finished with value: 0.9502649728528159 and parameters: {'algorithm': 'lasso', 'alpha': 0.00025467710128659193}. Best is trial 90 with value: 0.9502964822130379.\n",
      "[I 2024-05-06 15:02:35,000] Trial 142 finished with value: 0.9501802467301577 and parameters: {'algorithm': 'lasso', 'alpha': 0.0003902292801053442}. Best is trial 90 with value: 0.9502964822130379.\n",
      "[I 2024-05-06 15:02:35,542] Trial 143 finished with value: 0.9496636404874943 and parameters: {'algorithm': 'lasso', 'alpha': 0.0005961379839180346}. Best is trial 90 with value: 0.9502964822130379.\n",
      "[I 2024-05-06 15:02:36,242] Trial 144 finished with value: 0.9502726100328387 and parameters: {'algorithm': 'lasso', 'alpha': 0.00025983379644265125}. Best is trial 90 with value: 0.9502964822130379.\n",
      "[I 2024-05-06 15:02:37,035] Trial 145 finished with value: 0.9500547936860226 and parameters: {'algorithm': 'lasso', 'alpha': 0.0001656791803098643}. Best is trial 90 with value: 0.9502964822130379.\n",
      "[I 2024-05-06 15:02:37,690] Trial 146 finished with value: 0.9502884518718631 and parameters: {'algorithm': 'lasso', 'alpha': 0.00029660077744154305}. Best is trial 90 with value: 0.9502964822130379.\n",
      "[I 2024-05-06 15:02:38,258] Trial 147 finished with value: 0.9501140127607505 and parameters: {'algorithm': 'lasso', 'alpha': 0.0004216013518661878}. Best is trial 90 with value: 0.9502964822130379.\n",
      "[I 2024-05-06 15:02:39,069] Trial 148 finished with value: 0.9501396727282296 and parameters: {'algorithm': 'lasso', 'alpha': 0.00019191268560575942}. Best is trial 90 with value: 0.9502964822130379.\n",
      "[I 2024-05-06 15:02:39,590] Trial 149 finished with value: 0.949827142011346 and parameters: {'algorithm': 'lasso', 'alpha': 0.0005355609370130905}. Best is trial 90 with value: 0.9502964822130379.\n",
      "[I 2024-05-06 15:02:39,944] Trial 150 finished with value: -0.029441307066881618 and parameters: {'algorithm': 'lasso', 'alpha': 0.7480710218510542}. Best is trial 90 with value: 0.9502964822130379.\n",
      "[I 2024-05-06 15:02:40,570] Trial 151 finished with value: 0.950288785652028 and parameters: {'algorithm': 'lasso', 'alpha': 0.0002955668852217581}. Best is trial 90 with value: 0.9502964822130379.\n",
      "[I 2024-05-06 15:02:41,189] Trial 152 finished with value: 0.9502777437745561 and parameters: {'algorithm': 'lasso', 'alpha': 0.0003179394162049563}. Best is trial 90 with value: 0.9502964822130379.\n",
      "[I 2024-05-06 15:02:41,835] Trial 153 finished with value: 0.9502688139102728 and parameters: {'algorithm': 'lasso', 'alpha': 0.0002572094482719987}. Best is trial 90 with value: 0.9502964822130379.\n",
      "[I 2024-05-06 15:02:42,883] Trial 154 finished with value: 0.9496937107517626 and parameters: {'algorithm': 'lasso', 'alpha': 0.00010234247253002118}. Best is trial 90 with value: 0.9502964822130379.\n",
      "[I 2024-05-06 15:02:43,795] Trial 155 finished with value: 0.9499777480519768 and parameters: {'algorithm': 'lasso', 'alpha': 0.00014965779743293767}. Best is trial 90 with value: 0.9502964822130379.\n",
      "[I 2024-05-06 15:02:44,378] Trial 156 finished with value: 0.9502093537893714 and parameters: {'algorithm': 'lasso', 'alpha': 0.00037700816190696225}. Best is trial 90 with value: 0.9502964822130379.\n",
      "[I 2024-05-06 15:02:53,895] Trial 157 finished with value: -6.658982618518887 and parameters: {'algorithm': 'xgb', 'learning_rate': 0.000484744276997372, 'max_depth': 8, 'subsample': 0.9855479934166286, 'colsample_bytree': 0.4680410649317334, 'min_child_weight': 5}. Best is trial 90 with value: 0.9502964822130379.\n",
      "[I 2024-05-06 15:02:54,645] Trial 158 finished with value: 0.9501804859699942 and parameters: {'algorithm': 'lasso', 'alpha': 0.0002121806487450387}. Best is trial 90 with value: 0.9502964822130379.\n",
      "[I 2024-05-06 15:02:55,141] Trial 159 finished with value: 0.9495460997714975 and parameters: {'algorithm': 'lasso', 'alpha': 0.0006328223055577282}. Best is trial 90 with value: 0.9502964822130379.\n"
     ]
    },
    {
     "name": "stderr",
     "output_type": "stream",
     "text": [
      "[I 2024-05-06 15:02:55,798] Trial 160 finished with value: 0.9502968446519408 and parameters: {'algorithm': 'lasso', 'alpha': 0.00027951955384252825}. Best is trial 160 with value: 0.9502968446519408.\n",
      "[I 2024-05-06 15:02:56,501] Trial 161 finished with value: 0.9502895965361698 and parameters: {'algorithm': 'lasso', 'alpha': 0.0002939250037567679}. Best is trial 160 with value: 0.9502968446519408.\n",
      "[I 2024-05-06 15:02:57,125] Trial 162 finished with value: 0.95021458199043 and parameters: {'algorithm': 'lasso', 'alpha': 0.00037385749754682466}. Best is trial 160 with value: 0.9502968446519408.\n",
      "[I 2024-05-06 15:02:57,688] Trial 163 finished with value: 0.9500186429126172 and parameters: {'algorithm': 'lasso', 'alpha': 0.00046763996206561896}. Best is trial 160 with value: 0.9502968446519408.\n",
      "[I 2024-05-06 15:02:58,476] Trial 164 finished with value: 0.9500779176060921 and parameters: {'algorithm': 'lasso', 'alpha': 0.00017255223505524656}. Best is trial 160 with value: 0.9502968446519408.\n",
      "[I 2024-05-06 15:02:59,181] Trial 165 finished with value: 0.9502745077404082 and parameters: {'algorithm': 'lasso', 'alpha': 0.00026100557304665855}. Best is trial 160 with value: 0.9502968446519408.\n",
      "[I 2024-05-06 15:02:59,587] Trial 166 finished with value: 0.9458057831934419 and parameters: {'algorithm': 'ridge', 'alpha': 0.0003300537053842424}. Best is trial 160 with value: 0.9502968446519408.\n",
      "[I 2024-05-06 15:03:00,321] Trial 167 finished with value: 0.9501930573225469 and parameters: {'algorithm': 'lasso', 'alpha': 0.00021752221770842542}. Best is trial 160 with value: 0.9502968446519408.\n",
      "[I 2024-05-06 15:03:00,725] Trial 168 finished with value: 0.8389773364681945 and parameters: {'algorithm': 'lasso', 'alpha': 0.057297280198522024}. Best is trial 160 with value: 0.9502968446519408.\n",
      "[I 2024-05-06 15:03:01,241] Trial 169 finished with value: 0.9488545491630855 and parameters: {'algorithm': 'lasso', 'alpha': 0.0007982176804455926}. Best is trial 160 with value: 0.9502968446519408.\n",
      "[I 2024-05-06 15:03:01,614] Trial 170 finished with value: 0.9377778075045207 and parameters: {'algorithm': 'lasso', 'alpha': 0.008770629968123052}. Best is trial 160 with value: 0.9502968446519408.\n",
      "[I 2024-05-06 15:03:02,322] Trial 171 finished with value: 0.9502854685127481 and parameters: {'algorithm': 'lasso', 'alpha': 0.00026809135112437695}. Best is trial 160 with value: 0.9502968446519408.\n",
      "[I 2024-05-06 15:03:02,992] Trial 172 finished with value: 0.9502839077510391 and parameters: {'algorithm': 'lasso', 'alpha': 0.0003039866798920512}. Best is trial 160 with value: 0.9502968446519408.\n",
      "[I 2024-05-06 15:03:03,584] Trial 173 finished with value: 0.9499869011042194 and parameters: {'algorithm': 'lasso', 'alpha': 0.0001518658124315147}. Best is trial 160 with value: 0.9502968446519408.\n",
      "[I 2024-05-06 15:03:03,868] Trial 174 finished with value: 0.9500245932051371 and parameters: {'algorithm': 'lasso', 'alpha': 0.00046511836448988027}. Best is trial 160 with value: 0.9502968446519408.\n",
      "[I 2024-05-06 15:03:04,051] Trial 175 finished with value: 0.1865437329165439 and parameters: {'algorithm': 'lasso', 'alpha': 0.24295422841672976}. Best is trial 160 with value: 0.9502968446519408.\n",
      "[I 2024-05-06 15:03:04,793] Trial 176 finished with value: 0.9501583632314036 and parameters: {'algorithm': 'lasso', 'alpha': 0.00020070103964358482}. Best is trial 160 with value: 0.9502968446519408.\n",
      "[I 2024-05-06 15:03:05,421] Trial 177 finished with value: 0.9501960247006522 and parameters: {'algorithm': 'lasso', 'alpha': 0.0003836683208844992}. Best is trial 160 with value: 0.9502968446519408.\n",
      "[I 2024-05-06 15:03:06,026] Trial 178 finished with value: 0.9496864576714318 and parameters: {'algorithm': 'lasso', 'alpha': 0.0005881628083156323}. Best is trial 160 with value: 0.9502968446519408.\n",
      "[I 2024-05-06 15:03:06,720] Trial 179 finished with value: 0.9502833222098073 and parameters: {'algorithm': 'lasso', 'alpha': 0.00026630194727719005}. Best is trial 160 with value: 0.9502968446519408.\n",
      "[I 2024-05-06 15:03:07,751] Trial 180 finished with value: 0.9499385532941413 and parameters: {'algorithm': 'lasso', 'alpha': 0.00014231728344635378}. Best is trial 160 with value: 0.9502968446519408.\n",
      "[I 2024-05-06 15:03:08,417] Trial 181 finished with value: 0.9502810360158491 and parameters: {'algorithm': 'lasso', 'alpha': 0.0003085933070370752}. Best is trial 160 with value: 0.9502968446519408.\n",
      "[I 2024-05-06 15:03:09,135] Trial 182 finished with value: 0.9502831710262434 and parameters: {'algorithm': 'lasso', 'alpha': 0.0003051142591493016}. Best is trial 160 with value: 0.9502968446519408.\n",
      "[I 2024-05-06 15:03:09,840] Trial 183 finished with value: 0.9501898279809267 and parameters: {'algorithm': 'lasso', 'alpha': 0.00021599941049405656}. Best is trial 160 with value: 0.9502968446519408.\n",
      "[I 2024-05-06 15:03:10,436] Trial 184 finished with value: 0.9501258403921616 and parameters: {'algorithm': 'lasso', 'alpha': 0.0004154625288227434}. Best is trial 160 with value: 0.9502968446519408.\n",
      "[I 2024-05-06 15:03:11,190] Trial 185 finished with value: 0.9501172861556331 and parameters: {'algorithm': 'lasso', 'alpha': 0.00018413932309184442}. Best is trial 160 with value: 0.9502968446519408.\n",
      "[I 2024-05-06 15:03:11,807] Trial 186 finished with value: 0.950288642837411 and parameters: {'algorithm': 'lasso', 'alpha': 0.00029593987834829297}. Best is trial 160 with value: 0.9502968446519408.\n",
      "[I 2024-05-06 15:03:12,340] Trial 187 finished with value: 0.9498915102678985 and parameters: {'algorithm': 'lasso', 'alpha': 0.0005140786592218493}. Best is trial 160 with value: 0.9502968446519408.\n",
      "[I 2024-05-06 15:03:27,270] Trial 188 finished with value: 0.9467614990364478 and parameters: {'algorithm': 'xgb', 'learning_rate': 0.022432477519196928, 'max_depth': 5, 'subsample': 0.5819591447885447, 'colsample_bytree': 0.1949715272549276, 'min_child_weight': 13}. Best is trial 160 with value: 0.9502968446519408.\n",
      "[I 2024-05-06 15:03:27,958] Trial 189 finished with value: 0.9502152651959875 and parameters: {'algorithm': 'lasso', 'alpha': 0.00022947095032263697}. Best is trial 160 with value: 0.9502968446519408.\n",
      "[I 2024-05-06 15:03:28,605] Trial 190 finished with value: 0.9502090690343031 and parameters: {'algorithm': 'lasso', 'alpha': 0.0003771917449846884}. Best is trial 160 with value: 0.9502968446519408.\n",
      "[I 2024-05-06 15:03:29,269] Trial 191 finished with value: 0.9502778394616301 and parameters: {'algorithm': 'lasso', 'alpha': 0.0002628651681789406}. Best is trial 160 with value: 0.9502968446519408.\n",
      "[I 2024-05-06 15:03:29,951] Trial 192 finished with value: 0.950266037079577 and parameters: {'algorithm': 'lasso', 'alpha': 0.00033338137422522654}. Best is trial 160 with value: 0.9502968446519408.\n",
      "[I 2024-05-06 15:03:30,746] Trial 193 finished with value: 0.9500845330420139 and parameters: {'algorithm': 'lasso', 'alpha': 0.00017477919220651886}. Best is trial 160 with value: 0.9502968446519408.\n",
      "[I 2024-05-06 15:03:31,422] Trial 194 finished with value: 0.9502840671126596 and parameters: {'algorithm': 'lasso', 'alpha': 0.0002668231958810487}. Best is trial 160 with value: 0.9502968446519408.\n",
      "[I 2024-05-06 15:03:32,011] Trial 195 finished with value: 0.9499323646692229 and parameters: {'algorithm': 'lasso', 'alpha': 0.0005009178284093929}. Best is trial 160 with value: 0.9502968446519408.\n",
      "[I 2024-05-06 15:03:32,912] Trial 196 finished with value: 0.9498876175942407 and parameters: {'algorithm': 'lasso', 'alpha': 0.00012855378397921287}. Best is trial 160 with value: 0.9502968446519408.\n",
      "[I 2024-05-06 15:03:33,527] Trial 197 finished with value: 0.950254088504817 and parameters: {'algorithm': 'lasso', 'alpha': 0.00034571676369411016}. Best is trial 160 with value: 0.9502968446519408.\n",
      "[I 2024-05-06 15:03:34,243] Trial 198 finished with value: 0.9501658812790701 and parameters: {'algorithm': 'lasso', 'alpha': 0.00020514835456026157}. Best is trial 160 with value: 0.9502968446519408.\n",
      "[I 2024-05-06 15:03:34,681] Trial 199 finished with value: 0.9458056082713616 and parameters: {'algorithm': 'ridge', 'alpha': 0.00028929130728814323}. Best is trial 160 with value: 0.9502968446519408.\n"
     ]
    }
   ],
   "source": [
    "study.optimize(lambda trial: objective(trial, X, y), n_trials=200)"
   ]
  },
  {
   "cell_type": "code",
   "execution_count": 101,
   "id": "7ef0874b",
   "metadata": {},
   "outputs": [
    {
     "data": {
      "text/plain": [
       "[FrozenTrial(number=160, state=1, values=[0.9502968446519408], datetime_start=datetime.datetime(2024, 5, 6, 15, 2, 55, 142023), datetime_complete=datetime.datetime(2024, 5, 6, 15, 2, 55, 797641), params={'algorithm': 'lasso', 'alpha': 0.00027951955384252825}, user_attrs={}, system_attrs={}, intermediate_values={}, distributions={'algorithm': CategoricalDistribution(choices=('ridge', 'lasso', 'xgb')), 'alpha': FloatDistribution(high=100.0, log=True, low=0.0001, step=None)}, trial_id=160, value=None)]"
      ]
     },
     "execution_count": 101,
     "metadata": {},
     "output_type": "execute_result"
    }
   ],
   "source": [
    "# 200 trials...does not want to pick xgb\n",
    "study.best_trials"
   ]
  },
  {
   "cell_type": "code",
   "execution_count": 87,
   "id": "af927bb0",
   "metadata": {},
   "outputs": [
    {
     "data": {
      "text/plain": [
       "[FrozenTrial(number=40, state=1, values=[0.9502656323414269], datetime_start=datetime.datetime(2024, 5, 6, 14, 36, 12, 170582), datetime_complete=datetime.datetime(2024, 5, 6, 14, 36, 12, 845745), params={'algorithm': 'lasso', 'alpha': 0.00033386661330344237}, user_attrs={}, system_attrs={}, intermediate_values={}, distributions={'algorithm': CategoricalDistribution(choices=('ridge', 'lasso', 'xgb')), 'alpha': FloatDistribution(high=100.0, log=True, low=0.0001, step=None)}, trial_id=40, value=None)]"
      ]
     },
     "execution_count": 87,
     "metadata": {},
     "output_type": "execute_result"
    }
   ],
   "source": [
    "# generic parameters and 50 trials\n",
    "study.best_trials"
   ]
  },
  {
   "cell_type": "code",
   "execution_count": 67,
   "id": "7fda7220",
   "metadata": {},
   "outputs": [
    {
     "data": {
      "text/plain": [
       "[FrozenTrial(number=17, state=1, values=[0.9496878313016601], datetime_start=datetime.datetime(2024, 5, 6, 14, 14, 25, 963589), datetime_complete=datetime.datetime(2024, 5, 6, 14, 14, 26, 319467), params={'algorithm': 'ridge', 'alpha': 22.71735402737913}, user_attrs={}, system_attrs={}, intermediate_values={}, distributions={'algorithm': CategoricalDistribution(choices=('ridge', 'lasso', 'xgb')), 'alpha': FloatDistribution(high=100.0, log=True, low=0.1, step=None)}, trial_id=17, value=None)]"
      ]
     },
     "execution_count": 67,
     "metadata": {},
     "output_type": "execute_result"
    }
   ],
   "source": [
    "# lower the learning rate min for better visualization with xgb\n",
    "study.best_trials"
   ]
  },
  {
   "cell_type": "code",
   "execution_count": 41,
   "id": "d69f2ca5",
   "metadata": {},
   "outputs": [
    {
     "data": {
      "text/plain": [
       "[FrozenTrial(number=10, state=1, values=[0.950206827235748], datetime_start=datetime.datetime(2024, 5, 6, 13, 40, 19, 276115), datetime_complete=datetime.datetime(2024, 5, 6, 13, 40, 19, 928448), params={'algorithm': 'lasso', 'alpha': 0.0003786753353101835}, user_attrs={}, system_attrs={}, intermediate_values={}, distributions={'algorithm': CategoricalDistribution(choices=('ridge', 'lasso', 'xgb')), 'alpha': FloatDistribution(high=1.0, log=True, low=0.0001, step=None)}, trial_id=10, value=None)]"
      ]
     },
     "execution_count": 41,
     "metadata": {},
     "output_type": "execute_result"
    }
   ],
   "source": [
    "# study without drop and 20 trials \n",
    "study.best_trials"
   ]
  },
  {
   "cell_type": "code",
   "execution_count": 42,
   "id": "358bf4d8",
   "metadata": {},
   "outputs": [
    {
     "data": {
      "text/plain": [
       "[FrozenTrial(number=10, state=1, values=[0.950206827235748], datetime_start=datetime.datetime(2024, 5, 6, 13, 40, 19, 276115), datetime_complete=datetime.datetime(2024, 5, 6, 13, 40, 19, 928448), params={'algorithm': 'lasso', 'alpha': 0.0003786753353101835}, user_attrs={}, system_attrs={}, intermediate_values={}, distributions={'algorithm': CategoricalDistribution(choices=('ridge', 'lasso', 'xgb')), 'alpha': FloatDistribution(high=1.0, log=True, low=0.0001, step=None)}, trial_id=10, value=None)]"
      ]
     },
     "execution_count": 42,
     "metadata": {},
     "output_type": "execute_result"
    }
   ],
   "source": []
  },
  {
   "cell_type": "code",
   "execution_count": 35,
   "id": "7da5ce05",
   "metadata": {},
   "outputs": [
    {
     "data": {
      "text/plain": [
       "[FrozenTrial(number=2, state=1, values=[0.9499955354069816], datetime_start=datetime.datetime(2024, 5, 6, 13, 32, 15, 632163), datetime_complete=datetime.datetime(2024, 5, 6, 13, 32, 16, 348714), params={'algorithm': 'lasso', 'alpha': 0.00022003193991056288}, user_attrs={}, system_attrs={}, intermediate_values={}, distributions={'algorithm': CategoricalDistribution(choices=('ridge', 'lasso', 'xgb')), 'alpha': FloatDistribution(high=1.0, log=True, low=0.0001, step=None)}, trial_id=2, value=None)]"
      ]
     },
     "execution_count": 35,
     "metadata": {},
     "output_type": "execute_result"
    }
   ],
   "source": [
    "# study with drop and 20 trials and target variable transformed \n",
    "study.best_trials"
   ]
  }
 ],
 "metadata": {
  "kernelspec": {
   "display_name": "Python 3 (ipykernel)",
   "language": "python",
   "name": "python3"
  },
  "language_info": {
   "codemirror_mode": {
    "name": "ipython",
    "version": 3
   },
   "file_extension": ".py",
   "mimetype": "text/x-python",
   "name": "python",
   "nbconvert_exporter": "python",
   "pygments_lexer": "ipython3",
   "version": "3.11.5"
  }
 },
 "nbformat": 4,
 "nbformat_minor": 5
}
