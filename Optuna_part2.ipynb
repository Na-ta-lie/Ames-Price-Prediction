{
 "cells": [
  {
   "cell_type": "code",
   "execution_count": 2,
   "id": "5091870c",
   "metadata": {},
   "outputs": [],
   "source": [
    "import numpy as np\n",
    "import pandas as pd\n",
    "import xgboost as xgb\n",
    "from xgboost import XGBRegressor\n",
    "import matplotlib.pyplot as plt\n",
    "from sklearn.model_selection import train_test_split\n",
    "from sklearn.metrics import balanced_accuracy_score, roc_auc_score, make_scorer\n",
    "from sklearn.model_selection import GridSearchCV\n",
    "from sklearn.metrics import confusion_matrix\n",
    "from sklearn.metrics import ConfusionMatrixDisplay\n",
    "from sklearn.preprocessing import OneHotEncoder, StandardScaler\n",
    "from sklearn.pipeline import Pipeline\n",
    "from sklearn import compose, pipeline\n",
    "from sklearn.preprocessing import OneHotEncoder\n",
    "from sklearn.compose import ColumnTransformer\n",
    "from sklearn.compose import make_column_selector as selector\n",
    "from sklearn.preprocessing import OneHotEncoder, StandardScaler, OrdinalEncoder\n",
    "from sklearn.pipeline import Pipeline\n",
    "from sklearn import compose, pipeline\n",
    "from sklearn.model_selection import KFold\n",
    "from typing import Optional\n",
    "from sklearn.model_selection import cross_val_score, KFold\n",
    "from sklearn.metrics import roc_auc_score, make_scorer, r2_score\n",
    "from pandas import DataFrame, Series\n",
    "import numpy as np\n",
    "kf = KFold(n_splits=5, shuffle=True, random_state=42)\n",
    "import xgboost as xgb\n",
    "from xgboost import XGBRegressor\n",
    "import optuna\n",
    "from optuna import Trial\n",
    "from optuna import create_study\n",
    "from sklearn import compose\n",
    "from sklearn.model_selection import GridSearchCV\n",
    "from sklearn.linear_model import Lasso, Ridge, LinearRegression"
   ]
  },
  {
   "cell_type": "markdown",
   "id": "e6719683",
   "metadata": {},
   "source": [
    "### Search function for each model "
   ]
  },
  {
   "cell_type": "code",
   "execution_count": 95,
   "id": "9028ba53",
   "metadata": {},
   "outputs": [],
   "source": [
    "def instantiate_ridge(trial : Trial) -> Ridge:\n",
    "    params = {\n",
    "        \"alpha\": trial.suggest_float(\"alpha\", 1e-4, 100, log=True),\n",
    "    }\n",
    "\n",
    "    return Ridge(**params)\n",
    "\n",
    "def instantiate_lasso(trial : Trial) -> Lasso:\n",
    "    params = {\n",
    "        \"alpha\": trial.suggest_float(\"alpha\", 1e-4, 100, log=True),\n",
    "    }\n",
    "\n",
    "    return Lasso(**params)\n",
    "\n",
    "def instantiate_xgb(trial : Trial) -> XGBRegressor:\n",
    "    params = {\n",
    "        \"objective\": \"reg:squarederror\",\n",
    "        \"n_estimators\": 1000,\n",
    "        \"verbosity\": 0,\n",
    "        \"learning_rate\": trial.suggest_float(\"learning_rate\", .0001, 0.1, log=True),\n",
    "        \"max_depth\": trial.suggest_int(\"max_depth\", 1, 10),\n",
    "        \"subsample\": trial.suggest_float(\"subsample\", 0.05, 1.0),\n",
    "        \"colsample_bytree\": trial.suggest_float(\"colsample_bytree\", 0.05, 1.0),\n",
    "        \"min_child_weight\": trial.suggest_int(\"min_child_weight\", 1, 20),\n",
    "    }\n",
    "\n",
    "    return XGBRegressor(**params)\n",
    "\n",
    "Classifier = (\n",
    "    Ridge |\n",
    "    Lasso |\n",
    "    XGBRegressor )\n",
    "\n",
    "def instantiate_learner(trial : Trial) -> Classifier:\n",
    "    algorithm = trial.suggest_categorical(\n",
    "    'algorithm', ['ridge', 'lasso', 'xgb'])\n",
    "    \n",
    "    if algorithm =='ridge':\n",
    "        model = instantiate_ridge(trial)\n",
    "    elif algorithm=='lasso':\n",
    "        model = instantiate_lasso(trial)\n",
    "    elif algorithm=='xgb':\n",
    "        model = instantiate_xgb(trial)\n",
    "    \n",
    "    return model"
   ]
  },
  {
   "cell_type": "code",
   "execution_count": null,
   "id": "b0bb038d",
   "metadata": {},
   "outputs": [],
   "source": [
    "# from sklearn.preprocessing import OrdinalEncoder, OneHotEncoder\n",
    "# from category_encoders import WOEEncoder\n",
    "\n",
    "# Encoder = (\n",
    "#   OrdinalEncoder |\n",
    "#   OneHotEncoder \n",
    "# )\n",
    "\n",
    "# def instantiate_encoder(trial : Trial) -> Encoder:\n",
    "#     method = trial.suggest_categorical(\n",
    "#     'encoding_method', ['ordinal', 'onehot']\n",
    "#   )\n",
    "#     if method=='ordinal':\n",
    "#     encoder = instantiate_ordinal_encoder(trial)\n",
    "#     elif method=='onehot':\n",
    "#     encoder = instantiate_onehot_encoder(trial)\n",
    "    \n",
    "#     return encoder\n",
    "\n",
    "# from sklearn.preprocessing import (\n",
    "#   StandardScaler, MinMaxScaler, MaxAbsScaler, RobustScaler\n",
    "# )\n",
    "\n"
   ]
  },
  {
   "cell_type": "code",
   "execution_count": 80,
   "id": "f7741fa1",
   "metadata": {},
   "outputs": [],
   "source": [
    "hover_data=[\"algorithm\", \"Trial\"] "
   ]
  },
  {
   "cell_type": "code",
   "execution_count": 233,
   "id": "81defb0a",
   "metadata": {},
   "outputs": [
    {
     "ename": "AttributeError",
     "evalue": "'dict' object has no attribute 'visualization'",
     "output_type": "error",
     "traceback": [
      "\u001b[1;31m---------------------------------------------------------------------------\u001b[0m",
      "\u001b[1;31mAttributeError\u001b[0m                            Traceback (most recent call last)",
      "Cell \u001b[1;32mIn[233], line 3\u001b[0m\n\u001b[0;32m      1\u001b[0m \u001b[38;5;28;01mimport\u001b[39;00m \u001b[38;5;21;01mplotly\u001b[39;00m\u001b[38;5;21;01m.\u001b[39;00m\u001b[38;5;21;01mgraph_objects\u001b[39;00m \u001b[38;5;28;01mas\u001b[39;00m \u001b[38;5;21;01mgo\u001b[39;00m\n\u001b[1;32m----> 3\u001b[0m fig \u001b[38;5;241m=\u001b[39m optuna\u001b[38;5;241m.\u001b[39mvisualization\u001b[38;5;241m.\u001b[39mplot_rank(study)\n\u001b[0;32m      5\u001b[0m fig\u001b[38;5;241m.\u001b[39mupdate_layout(\n\u001b[0;32m      6\u001b[0m     autosize\u001b[38;5;241m=\u001b[39m\u001b[38;5;28;01mFalse\u001b[39;00m,\n\u001b[0;32m      7\u001b[0m     width\u001b[38;5;241m=\u001b[39m\u001b[38;5;241m1000\u001b[39m,\n\u001b[0;32m      8\u001b[0m     height\u001b[38;5;241m=\u001b[39m\u001b[38;5;241m1000\u001b[39m,\n\u001b[0;32m      9\u001b[0m     )\n\u001b[0;32m     11\u001b[0m fig\u001b[38;5;241m.\u001b[39mshow()\n",
      "\u001b[1;31mAttributeError\u001b[0m: 'dict' object has no attribute 'visualization'"
     ]
    }
   ],
   "source": [
    "import plotly.graph_objects as go\n",
    "\n",
    "fig = optuna.visualization.plot_rank(study)\n",
    "\n",
    "fig.update_layout(\n",
    "    autosize=False,\n",
    "    width=1000,\n",
    "    height=1000,\n",
    "    )\n",
    "\n",
    "fig.show()"
   ]
  },
  {
   "cell_type": "code",
   "execution_count": 93,
   "id": "e1aae904",
   "metadata": {},
   "outputs": [
    {
     "data": {
      "application/vnd.plotly.v1+json": {
       "config": {
        "plotlyServerURL": "https://plot.ly"
       },
       "data": [
        {
         "mode": "markers",
         "name": "Objective Value",
         "type": "scatter",
         "x": [
          0,
          1,
          2,
          3,
          4,
          5,
          6,
          7,
          8,
          9,
          10,
          11,
          12,
          13,
          14,
          15,
          16,
          17,
          18,
          19,
          20,
          21,
          22,
          23,
          24,
          25,
          26,
          27,
          28,
          29,
          30,
          31,
          32,
          33,
          34,
          35,
          36,
          37,
          38,
          39,
          40,
          41,
          42,
          43,
          44,
          45,
          46,
          47,
          48,
          49
         ],
         "y": [
          0.9394378507662732,
          0.9419331770098865,
          -6.6566564759784805,
          0.9458063387780806,
          -6.6512464689334365,
          0.9485414210851255,
          0.6778074460407136,
          0.7940653711510521,
          0.9458166544947286,
          0.933382975928622,
          0.9496452773524664,
          0.9493419203172694,
          0.9492403336753761,
          0.9491836753195659,
          0.9486989663331202,
          0.9490750998217058,
          0.9470493486585945,
          0.9485579626421744,
          0.9496200355469121,
          0.9430662102148144,
          0.9492860631646154,
          0.9495839360136336,
          0.947382960693209,
          0.9495782906512351,
          0.9475346365774147,
          0.9496798820421011,
          0.9496804509344926,
          0.9464915996535683,
          -0.029441307066881618,
          0.7122297080799865,
          -6.669225037426349,
          0.9496819786208903,
          0.9496757300087054,
          0.9496374262640181,
          0.9481455387076847,
          0.9484758670894171,
          0.5420681413173114,
          -0.029441307066881618,
          0.9492497177528337,
          0.9482156517353213,
          0.9502656323414269,
          0.9497756031412887,
          0.9498690001527853,
          0.9500382319616019,
          0.9497256788220471,
          0.9496854968696224,
          0.9500554290598779,
          0.9490304119962305,
          0.950187907511267,
          0.9446383699931817
         ]
        },
        {
         "mode": "lines",
         "name": "Best Value",
         "type": "scatter",
         "x": [
          0,
          1,
          2,
          3,
          4,
          5,
          6,
          7,
          8,
          9,
          10,
          11,
          12,
          13,
          14,
          15,
          16,
          17,
          18,
          19,
          20,
          21,
          22,
          23,
          24,
          25,
          26,
          27,
          28,
          29,
          30,
          31,
          32,
          33,
          34,
          35,
          36,
          37,
          38,
          39,
          40,
          41,
          42,
          43,
          44,
          45,
          46,
          47,
          48,
          49
         ],
         "y": [
          0.9394378507662732,
          0.9419331770098865,
          0.9419331770098865,
          0.9458063387780806,
          0.9458063387780806,
          0.9485414210851255,
          0.9485414210851255,
          0.9485414210851255,
          0.9485414210851255,
          0.9485414210851255,
          0.9496452773524664,
          0.9496452773524664,
          0.9496452773524664,
          0.9496452773524664,
          0.9496452773524664,
          0.9496452773524664,
          0.9496452773524664,
          0.9496452773524664,
          0.9496452773524664,
          0.9496452773524664,
          0.9496452773524664,
          0.9496452773524664,
          0.9496452773524664,
          0.9496452773524664,
          0.9496452773524664,
          0.9496798820421011,
          0.9496804509344926,
          0.9496804509344926,
          0.9496804509344926,
          0.9496804509344926,
          0.9496804509344926,
          0.9496819786208903,
          0.9496819786208903,
          0.9496819786208903,
          0.9496819786208903,
          0.9496819786208903,
          0.9496819786208903,
          0.9496819786208903,
          0.9496819786208903,
          0.9496819786208903,
          0.9502656323414269,
          0.9502656323414269,
          0.9502656323414269,
          0.9502656323414269,
          0.9502656323414269,
          0.9502656323414269,
          0.9502656323414269,
          0.9502656323414269,
          0.9502656323414269,
          0.9502656323414269
         ]
        },
        {
         "marker": {
          "color": "#cccccc"
         },
         "mode": "markers",
         "name": "Infeasible Trial",
         "showlegend": false,
         "type": "scatter",
         "x": [],
         "y": []
        }
       ],
       "layout": {
        "template": {
         "data": {
          "bar": [
           {
            "error_x": {
             "color": "#2a3f5f"
            },
            "error_y": {
             "color": "#2a3f5f"
            },
            "marker": {
             "line": {
              "color": "#E5ECF6",
              "width": 0.5
             },
             "pattern": {
              "fillmode": "overlay",
              "size": 10,
              "solidity": 0.2
             }
            },
            "type": "bar"
           }
          ],
          "barpolar": [
           {
            "marker": {
             "line": {
              "color": "#E5ECF6",
              "width": 0.5
             },
             "pattern": {
              "fillmode": "overlay",
              "size": 10,
              "solidity": 0.2
             }
            },
            "type": "barpolar"
           }
          ],
          "carpet": [
           {
            "aaxis": {
             "endlinecolor": "#2a3f5f",
             "gridcolor": "white",
             "linecolor": "white",
             "minorgridcolor": "white",
             "startlinecolor": "#2a3f5f"
            },
            "baxis": {
             "endlinecolor": "#2a3f5f",
             "gridcolor": "white",
             "linecolor": "white",
             "minorgridcolor": "white",
             "startlinecolor": "#2a3f5f"
            },
            "type": "carpet"
           }
          ],
          "choropleth": [
           {
            "colorbar": {
             "outlinewidth": 0,
             "ticks": ""
            },
            "type": "choropleth"
           }
          ],
          "contour": [
           {
            "colorbar": {
             "outlinewidth": 0,
             "ticks": ""
            },
            "colorscale": [
             [
              0,
              "#0d0887"
             ],
             [
              0.1111111111111111,
              "#46039f"
             ],
             [
              0.2222222222222222,
              "#7201a8"
             ],
             [
              0.3333333333333333,
              "#9c179e"
             ],
             [
              0.4444444444444444,
              "#bd3786"
             ],
             [
              0.5555555555555556,
              "#d8576b"
             ],
             [
              0.6666666666666666,
              "#ed7953"
             ],
             [
              0.7777777777777778,
              "#fb9f3a"
             ],
             [
              0.8888888888888888,
              "#fdca26"
             ],
             [
              1,
              "#f0f921"
             ]
            ],
            "type": "contour"
           }
          ],
          "contourcarpet": [
           {
            "colorbar": {
             "outlinewidth": 0,
             "ticks": ""
            },
            "type": "contourcarpet"
           }
          ],
          "heatmap": [
           {
            "colorbar": {
             "outlinewidth": 0,
             "ticks": ""
            },
            "colorscale": [
             [
              0,
              "#0d0887"
             ],
             [
              0.1111111111111111,
              "#46039f"
             ],
             [
              0.2222222222222222,
              "#7201a8"
             ],
             [
              0.3333333333333333,
              "#9c179e"
             ],
             [
              0.4444444444444444,
              "#bd3786"
             ],
             [
              0.5555555555555556,
              "#d8576b"
             ],
             [
              0.6666666666666666,
              "#ed7953"
             ],
             [
              0.7777777777777778,
              "#fb9f3a"
             ],
             [
              0.8888888888888888,
              "#fdca26"
             ],
             [
              1,
              "#f0f921"
             ]
            ],
            "type": "heatmap"
           }
          ],
          "heatmapgl": [
           {
            "colorbar": {
             "outlinewidth": 0,
             "ticks": ""
            },
            "colorscale": [
             [
              0,
              "#0d0887"
             ],
             [
              0.1111111111111111,
              "#46039f"
             ],
             [
              0.2222222222222222,
              "#7201a8"
             ],
             [
              0.3333333333333333,
              "#9c179e"
             ],
             [
              0.4444444444444444,
              "#bd3786"
             ],
             [
              0.5555555555555556,
              "#d8576b"
             ],
             [
              0.6666666666666666,
              "#ed7953"
             ],
             [
              0.7777777777777778,
              "#fb9f3a"
             ],
             [
              0.8888888888888888,
              "#fdca26"
             ],
             [
              1,
              "#f0f921"
             ]
            ],
            "type": "heatmapgl"
           }
          ],
          "histogram": [
           {
            "marker": {
             "pattern": {
              "fillmode": "overlay",
              "size": 10,
              "solidity": 0.2
             }
            },
            "type": "histogram"
           }
          ],
          "histogram2d": [
           {
            "colorbar": {
             "outlinewidth": 0,
             "ticks": ""
            },
            "colorscale": [
             [
              0,
              "#0d0887"
             ],
             [
              0.1111111111111111,
              "#46039f"
             ],
             [
              0.2222222222222222,
              "#7201a8"
             ],
             [
              0.3333333333333333,
              "#9c179e"
             ],
             [
              0.4444444444444444,
              "#bd3786"
             ],
             [
              0.5555555555555556,
              "#d8576b"
             ],
             [
              0.6666666666666666,
              "#ed7953"
             ],
             [
              0.7777777777777778,
              "#fb9f3a"
             ],
             [
              0.8888888888888888,
              "#fdca26"
             ],
             [
              1,
              "#f0f921"
             ]
            ],
            "type": "histogram2d"
           }
          ],
          "histogram2dcontour": [
           {
            "colorbar": {
             "outlinewidth": 0,
             "ticks": ""
            },
            "colorscale": [
             [
              0,
              "#0d0887"
             ],
             [
              0.1111111111111111,
              "#46039f"
             ],
             [
              0.2222222222222222,
              "#7201a8"
             ],
             [
              0.3333333333333333,
              "#9c179e"
             ],
             [
              0.4444444444444444,
              "#bd3786"
             ],
             [
              0.5555555555555556,
              "#d8576b"
             ],
             [
              0.6666666666666666,
              "#ed7953"
             ],
             [
              0.7777777777777778,
              "#fb9f3a"
             ],
             [
              0.8888888888888888,
              "#fdca26"
             ],
             [
              1,
              "#f0f921"
             ]
            ],
            "type": "histogram2dcontour"
           }
          ],
          "mesh3d": [
           {
            "colorbar": {
             "outlinewidth": 0,
             "ticks": ""
            },
            "type": "mesh3d"
           }
          ],
          "parcoords": [
           {
            "line": {
             "colorbar": {
              "outlinewidth": 0,
              "ticks": ""
             }
            },
            "type": "parcoords"
           }
          ],
          "pie": [
           {
            "automargin": true,
            "type": "pie"
           }
          ],
          "scatter": [
           {
            "fillpattern": {
             "fillmode": "overlay",
             "size": 10,
             "solidity": 0.2
            },
            "type": "scatter"
           }
          ],
          "scatter3d": [
           {
            "line": {
             "colorbar": {
              "outlinewidth": 0,
              "ticks": ""
             }
            },
            "marker": {
             "colorbar": {
              "outlinewidth": 0,
              "ticks": ""
             }
            },
            "type": "scatter3d"
           }
          ],
          "scattercarpet": [
           {
            "marker": {
             "colorbar": {
              "outlinewidth": 0,
              "ticks": ""
             }
            },
            "type": "scattercarpet"
           }
          ],
          "scattergeo": [
           {
            "marker": {
             "colorbar": {
              "outlinewidth": 0,
              "ticks": ""
             }
            },
            "type": "scattergeo"
           }
          ],
          "scattergl": [
           {
            "marker": {
             "colorbar": {
              "outlinewidth": 0,
              "ticks": ""
             }
            },
            "type": "scattergl"
           }
          ],
          "scattermapbox": [
           {
            "marker": {
             "colorbar": {
              "outlinewidth": 0,
              "ticks": ""
             }
            },
            "type": "scattermapbox"
           }
          ],
          "scatterpolar": [
           {
            "marker": {
             "colorbar": {
              "outlinewidth": 0,
              "ticks": ""
             }
            },
            "type": "scatterpolar"
           }
          ],
          "scatterpolargl": [
           {
            "marker": {
             "colorbar": {
              "outlinewidth": 0,
              "ticks": ""
             }
            },
            "type": "scatterpolargl"
           }
          ],
          "scatterternary": [
           {
            "marker": {
             "colorbar": {
              "outlinewidth": 0,
              "ticks": ""
             }
            },
            "type": "scatterternary"
           }
          ],
          "surface": [
           {
            "colorbar": {
             "outlinewidth": 0,
             "ticks": ""
            },
            "colorscale": [
             [
              0,
              "#0d0887"
             ],
             [
              0.1111111111111111,
              "#46039f"
             ],
             [
              0.2222222222222222,
              "#7201a8"
             ],
             [
              0.3333333333333333,
              "#9c179e"
             ],
             [
              0.4444444444444444,
              "#bd3786"
             ],
             [
              0.5555555555555556,
              "#d8576b"
             ],
             [
              0.6666666666666666,
              "#ed7953"
             ],
             [
              0.7777777777777778,
              "#fb9f3a"
             ],
             [
              0.8888888888888888,
              "#fdca26"
             ],
             [
              1,
              "#f0f921"
             ]
            ],
            "type": "surface"
           }
          ],
          "table": [
           {
            "cells": {
             "fill": {
              "color": "#EBF0F8"
             },
             "line": {
              "color": "white"
             }
            },
            "header": {
             "fill": {
              "color": "#C8D4E3"
             },
             "line": {
              "color": "white"
             }
            },
            "type": "table"
           }
          ]
         },
         "layout": {
          "annotationdefaults": {
           "arrowcolor": "#2a3f5f",
           "arrowhead": 0,
           "arrowwidth": 1
          },
          "autotypenumbers": "strict",
          "coloraxis": {
           "colorbar": {
            "outlinewidth": 0,
            "ticks": ""
           }
          },
          "colorscale": {
           "diverging": [
            [
             0,
             "#8e0152"
            ],
            [
             0.1,
             "#c51b7d"
            ],
            [
             0.2,
             "#de77ae"
            ],
            [
             0.3,
             "#f1b6da"
            ],
            [
             0.4,
             "#fde0ef"
            ],
            [
             0.5,
             "#f7f7f7"
            ],
            [
             0.6,
             "#e6f5d0"
            ],
            [
             0.7,
             "#b8e186"
            ],
            [
             0.8,
             "#7fbc41"
            ],
            [
             0.9,
             "#4d9221"
            ],
            [
             1,
             "#276419"
            ]
           ],
           "sequential": [
            [
             0,
             "#0d0887"
            ],
            [
             0.1111111111111111,
             "#46039f"
            ],
            [
             0.2222222222222222,
             "#7201a8"
            ],
            [
             0.3333333333333333,
             "#9c179e"
            ],
            [
             0.4444444444444444,
             "#bd3786"
            ],
            [
             0.5555555555555556,
             "#d8576b"
            ],
            [
             0.6666666666666666,
             "#ed7953"
            ],
            [
             0.7777777777777778,
             "#fb9f3a"
            ],
            [
             0.8888888888888888,
             "#fdca26"
            ],
            [
             1,
             "#f0f921"
            ]
           ],
           "sequentialminus": [
            [
             0,
             "#0d0887"
            ],
            [
             0.1111111111111111,
             "#46039f"
            ],
            [
             0.2222222222222222,
             "#7201a8"
            ],
            [
             0.3333333333333333,
             "#9c179e"
            ],
            [
             0.4444444444444444,
             "#bd3786"
            ],
            [
             0.5555555555555556,
             "#d8576b"
            ],
            [
             0.6666666666666666,
             "#ed7953"
            ],
            [
             0.7777777777777778,
             "#fb9f3a"
            ],
            [
             0.8888888888888888,
             "#fdca26"
            ],
            [
             1,
             "#f0f921"
            ]
           ]
          },
          "colorway": [
           "#636efa",
           "#EF553B",
           "#00cc96",
           "#ab63fa",
           "#FFA15A",
           "#19d3f3",
           "#FF6692",
           "#B6E880",
           "#FF97FF",
           "#FECB52"
          ],
          "font": {
           "color": "#2a3f5f"
          },
          "geo": {
           "bgcolor": "white",
           "lakecolor": "white",
           "landcolor": "#E5ECF6",
           "showlakes": true,
           "showland": true,
           "subunitcolor": "white"
          },
          "hoverlabel": {
           "align": "left"
          },
          "hovermode": "closest",
          "mapbox": {
           "style": "light"
          },
          "paper_bgcolor": "white",
          "plot_bgcolor": "#E5ECF6",
          "polar": {
           "angularaxis": {
            "gridcolor": "white",
            "linecolor": "white",
            "ticks": ""
           },
           "bgcolor": "#E5ECF6",
           "radialaxis": {
            "gridcolor": "white",
            "linecolor": "white",
            "ticks": ""
           }
          },
          "scene": {
           "xaxis": {
            "backgroundcolor": "#E5ECF6",
            "gridcolor": "white",
            "gridwidth": 2,
            "linecolor": "white",
            "showbackground": true,
            "ticks": "",
            "zerolinecolor": "white"
           },
           "yaxis": {
            "backgroundcolor": "#E5ECF6",
            "gridcolor": "white",
            "gridwidth": 2,
            "linecolor": "white",
            "showbackground": true,
            "ticks": "",
            "zerolinecolor": "white"
           },
           "zaxis": {
            "backgroundcolor": "#E5ECF6",
            "gridcolor": "white",
            "gridwidth": 2,
            "linecolor": "white",
            "showbackground": true,
            "ticks": "",
            "zerolinecolor": "white"
           }
          },
          "shapedefaults": {
           "line": {
            "color": "#2a3f5f"
           }
          },
          "ternary": {
           "aaxis": {
            "gridcolor": "white",
            "linecolor": "white",
            "ticks": ""
           },
           "baxis": {
            "gridcolor": "white",
            "linecolor": "white",
            "ticks": ""
           },
           "bgcolor": "#E5ECF6",
           "caxis": {
            "gridcolor": "white",
            "linecolor": "white",
            "ticks": ""
           }
          },
          "title": {
           "x": 0.05
          },
          "xaxis": {
           "automargin": true,
           "gridcolor": "white",
           "linecolor": "white",
           "ticks": "",
           "title": {
            "standoff": 15
           },
           "zerolinecolor": "white",
           "zerolinewidth": 2
          },
          "yaxis": {
           "automargin": true,
           "gridcolor": "white",
           "linecolor": "white",
           "ticks": "",
           "title": {
            "standoff": 15
           },
           "zerolinecolor": "white",
           "zerolinewidth": 2
          }
         }
        },
        "title": {
         "text": "Optimization History Plot"
        },
        "xaxis": {
         "title": {
          "text": "Trial"
         }
        },
        "yaxis": {
         "title": {
          "text": "Objective Value"
         }
        }
       }
      },
      "text/html": [
       "<div>                            <div id=\"4bda19ce-c7f6-417d-b61f-0df3dc4e25ed\" class=\"plotly-graph-div\" style=\"height:525px; width:100%;\"></div>            <script type=\"text/javascript\">                require([\"plotly\"], function(Plotly) {                    window.PLOTLYENV=window.PLOTLYENV || {};                                    if (document.getElementById(\"4bda19ce-c7f6-417d-b61f-0df3dc4e25ed\")) {                    Plotly.newPlot(                        \"4bda19ce-c7f6-417d-b61f-0df3dc4e25ed\",                        [{\"mode\":\"markers\",\"name\":\"Objective Value\",\"x\":[0,1,2,3,4,5,6,7,8,9,10,11,12,13,14,15,16,17,18,19,20,21,22,23,24,25,26,27,28,29,30,31,32,33,34,35,36,37,38,39,40,41,42,43,44,45,46,47,48,49],\"y\":[0.9394378507662732,0.9419331770098865,-6.6566564759784805,0.9458063387780806,-6.6512464689334365,0.9485414210851255,0.6778074460407136,0.7940653711510521,0.9458166544947286,0.933382975928622,0.9496452773524664,0.9493419203172694,0.9492403336753761,0.9491836753195659,0.9486989663331202,0.9490750998217058,0.9470493486585945,0.9485579626421744,0.9496200355469121,0.9430662102148144,0.9492860631646154,0.9495839360136336,0.947382960693209,0.9495782906512351,0.9475346365774147,0.9496798820421011,0.9496804509344926,0.9464915996535683,-0.029441307066881618,0.7122297080799865,-6.669225037426349,0.9496819786208903,0.9496757300087054,0.9496374262640181,0.9481455387076847,0.9484758670894171,0.5420681413173114,-0.029441307066881618,0.9492497177528337,0.9482156517353213,0.9502656323414269,0.9497756031412887,0.9498690001527853,0.9500382319616019,0.9497256788220471,0.9496854968696224,0.9500554290598779,0.9490304119962305,0.950187907511267,0.9446383699931817],\"type\":\"scatter\"},{\"mode\":\"lines\",\"name\":\"Best Value\",\"x\":[0,1,2,3,4,5,6,7,8,9,10,11,12,13,14,15,16,17,18,19,20,21,22,23,24,25,26,27,28,29,30,31,32,33,34,35,36,37,38,39,40,41,42,43,44,45,46,47,48,49],\"y\":[0.9394378507662732,0.9419331770098865,0.9419331770098865,0.9458063387780806,0.9458063387780806,0.9485414210851255,0.9485414210851255,0.9485414210851255,0.9485414210851255,0.9485414210851255,0.9496452773524664,0.9496452773524664,0.9496452773524664,0.9496452773524664,0.9496452773524664,0.9496452773524664,0.9496452773524664,0.9496452773524664,0.9496452773524664,0.9496452773524664,0.9496452773524664,0.9496452773524664,0.9496452773524664,0.9496452773524664,0.9496452773524664,0.9496798820421011,0.9496804509344926,0.9496804509344926,0.9496804509344926,0.9496804509344926,0.9496804509344926,0.9496819786208903,0.9496819786208903,0.9496819786208903,0.9496819786208903,0.9496819786208903,0.9496819786208903,0.9496819786208903,0.9496819786208903,0.9496819786208903,0.9502656323414269,0.9502656323414269,0.9502656323414269,0.9502656323414269,0.9502656323414269,0.9502656323414269,0.9502656323414269,0.9502656323414269,0.9502656323414269,0.9502656323414269],\"type\":\"scatter\"},{\"marker\":{\"color\":\"#cccccc\"},\"mode\":\"markers\",\"name\":\"Infeasible Trial\",\"showlegend\":false,\"x\":[],\"y\":[],\"type\":\"scatter\"}],                        {\"title\":{\"text\":\"Optimization History Plot\"},\"xaxis\":{\"title\":{\"text\":\"Trial\"}},\"yaxis\":{\"title\":{\"text\":\"Objective Value\"}},\"template\":{\"data\":{\"histogram2dcontour\":[{\"type\":\"histogram2dcontour\",\"colorbar\":{\"outlinewidth\":0,\"ticks\":\"\"},\"colorscale\":[[0.0,\"#0d0887\"],[0.1111111111111111,\"#46039f\"],[0.2222222222222222,\"#7201a8\"],[0.3333333333333333,\"#9c179e\"],[0.4444444444444444,\"#bd3786\"],[0.5555555555555556,\"#d8576b\"],[0.6666666666666666,\"#ed7953\"],[0.7777777777777778,\"#fb9f3a\"],[0.8888888888888888,\"#fdca26\"],[1.0,\"#f0f921\"]]}],\"choropleth\":[{\"type\":\"choropleth\",\"colorbar\":{\"outlinewidth\":0,\"ticks\":\"\"}}],\"histogram2d\":[{\"type\":\"histogram2d\",\"colorbar\":{\"outlinewidth\":0,\"ticks\":\"\"},\"colorscale\":[[0.0,\"#0d0887\"],[0.1111111111111111,\"#46039f\"],[0.2222222222222222,\"#7201a8\"],[0.3333333333333333,\"#9c179e\"],[0.4444444444444444,\"#bd3786\"],[0.5555555555555556,\"#d8576b\"],[0.6666666666666666,\"#ed7953\"],[0.7777777777777778,\"#fb9f3a\"],[0.8888888888888888,\"#fdca26\"],[1.0,\"#f0f921\"]]}],\"heatmap\":[{\"type\":\"heatmap\",\"colorbar\":{\"outlinewidth\":0,\"ticks\":\"\"},\"colorscale\":[[0.0,\"#0d0887\"],[0.1111111111111111,\"#46039f\"],[0.2222222222222222,\"#7201a8\"],[0.3333333333333333,\"#9c179e\"],[0.4444444444444444,\"#bd3786\"],[0.5555555555555556,\"#d8576b\"],[0.6666666666666666,\"#ed7953\"],[0.7777777777777778,\"#fb9f3a\"],[0.8888888888888888,\"#fdca26\"],[1.0,\"#f0f921\"]]}],\"heatmapgl\":[{\"type\":\"heatmapgl\",\"colorbar\":{\"outlinewidth\":0,\"ticks\":\"\"},\"colorscale\":[[0.0,\"#0d0887\"],[0.1111111111111111,\"#46039f\"],[0.2222222222222222,\"#7201a8\"],[0.3333333333333333,\"#9c179e\"],[0.4444444444444444,\"#bd3786\"],[0.5555555555555556,\"#d8576b\"],[0.6666666666666666,\"#ed7953\"],[0.7777777777777778,\"#fb9f3a\"],[0.8888888888888888,\"#fdca26\"],[1.0,\"#f0f921\"]]}],\"contourcarpet\":[{\"type\":\"contourcarpet\",\"colorbar\":{\"outlinewidth\":0,\"ticks\":\"\"}}],\"contour\":[{\"type\":\"contour\",\"colorbar\":{\"outlinewidth\":0,\"ticks\":\"\"},\"colorscale\":[[0.0,\"#0d0887\"],[0.1111111111111111,\"#46039f\"],[0.2222222222222222,\"#7201a8\"],[0.3333333333333333,\"#9c179e\"],[0.4444444444444444,\"#bd3786\"],[0.5555555555555556,\"#d8576b\"],[0.6666666666666666,\"#ed7953\"],[0.7777777777777778,\"#fb9f3a\"],[0.8888888888888888,\"#fdca26\"],[1.0,\"#f0f921\"]]}],\"surface\":[{\"type\":\"surface\",\"colorbar\":{\"outlinewidth\":0,\"ticks\":\"\"},\"colorscale\":[[0.0,\"#0d0887\"],[0.1111111111111111,\"#46039f\"],[0.2222222222222222,\"#7201a8\"],[0.3333333333333333,\"#9c179e\"],[0.4444444444444444,\"#bd3786\"],[0.5555555555555556,\"#d8576b\"],[0.6666666666666666,\"#ed7953\"],[0.7777777777777778,\"#fb9f3a\"],[0.8888888888888888,\"#fdca26\"],[1.0,\"#f0f921\"]]}],\"mesh3d\":[{\"type\":\"mesh3d\",\"colorbar\":{\"outlinewidth\":0,\"ticks\":\"\"}}],\"scatter\":[{\"fillpattern\":{\"fillmode\":\"overlay\",\"size\":10,\"solidity\":0.2},\"type\":\"scatter\"}],\"parcoords\":[{\"type\":\"parcoords\",\"line\":{\"colorbar\":{\"outlinewidth\":0,\"ticks\":\"\"}}}],\"scatterpolargl\":[{\"type\":\"scatterpolargl\",\"marker\":{\"colorbar\":{\"outlinewidth\":0,\"ticks\":\"\"}}}],\"bar\":[{\"error_x\":{\"color\":\"#2a3f5f\"},\"error_y\":{\"color\":\"#2a3f5f\"},\"marker\":{\"line\":{\"color\":\"#E5ECF6\",\"width\":0.5},\"pattern\":{\"fillmode\":\"overlay\",\"size\":10,\"solidity\":0.2}},\"type\":\"bar\"}],\"scattergeo\":[{\"type\":\"scattergeo\",\"marker\":{\"colorbar\":{\"outlinewidth\":0,\"ticks\":\"\"}}}],\"scatterpolar\":[{\"type\":\"scatterpolar\",\"marker\":{\"colorbar\":{\"outlinewidth\":0,\"ticks\":\"\"}}}],\"histogram\":[{\"marker\":{\"pattern\":{\"fillmode\":\"overlay\",\"size\":10,\"solidity\":0.2}},\"type\":\"histogram\"}],\"scattergl\":[{\"type\":\"scattergl\",\"marker\":{\"colorbar\":{\"outlinewidth\":0,\"ticks\":\"\"}}}],\"scatter3d\":[{\"type\":\"scatter3d\",\"line\":{\"colorbar\":{\"outlinewidth\":0,\"ticks\":\"\"}},\"marker\":{\"colorbar\":{\"outlinewidth\":0,\"ticks\":\"\"}}}],\"scattermapbox\":[{\"type\":\"scattermapbox\",\"marker\":{\"colorbar\":{\"outlinewidth\":0,\"ticks\":\"\"}}}],\"scatterternary\":[{\"type\":\"scatterternary\",\"marker\":{\"colorbar\":{\"outlinewidth\":0,\"ticks\":\"\"}}}],\"scattercarpet\":[{\"type\":\"scattercarpet\",\"marker\":{\"colorbar\":{\"outlinewidth\":0,\"ticks\":\"\"}}}],\"carpet\":[{\"aaxis\":{\"endlinecolor\":\"#2a3f5f\",\"gridcolor\":\"white\",\"linecolor\":\"white\",\"minorgridcolor\":\"white\",\"startlinecolor\":\"#2a3f5f\"},\"baxis\":{\"endlinecolor\":\"#2a3f5f\",\"gridcolor\":\"white\",\"linecolor\":\"white\",\"minorgridcolor\":\"white\",\"startlinecolor\":\"#2a3f5f\"},\"type\":\"carpet\"}],\"table\":[{\"cells\":{\"fill\":{\"color\":\"#EBF0F8\"},\"line\":{\"color\":\"white\"}},\"header\":{\"fill\":{\"color\":\"#C8D4E3\"},\"line\":{\"color\":\"white\"}},\"type\":\"table\"}],\"barpolar\":[{\"marker\":{\"line\":{\"color\":\"#E5ECF6\",\"width\":0.5},\"pattern\":{\"fillmode\":\"overlay\",\"size\":10,\"solidity\":0.2}},\"type\":\"barpolar\"}],\"pie\":[{\"automargin\":true,\"type\":\"pie\"}]},\"layout\":{\"autotypenumbers\":\"strict\",\"colorway\":[\"#636efa\",\"#EF553B\",\"#00cc96\",\"#ab63fa\",\"#FFA15A\",\"#19d3f3\",\"#FF6692\",\"#B6E880\",\"#FF97FF\",\"#FECB52\"],\"font\":{\"color\":\"#2a3f5f\"},\"hovermode\":\"closest\",\"hoverlabel\":{\"align\":\"left\"},\"paper_bgcolor\":\"white\",\"plot_bgcolor\":\"#E5ECF6\",\"polar\":{\"bgcolor\":\"#E5ECF6\",\"angularaxis\":{\"gridcolor\":\"white\",\"linecolor\":\"white\",\"ticks\":\"\"},\"radialaxis\":{\"gridcolor\":\"white\",\"linecolor\":\"white\",\"ticks\":\"\"}},\"ternary\":{\"bgcolor\":\"#E5ECF6\",\"aaxis\":{\"gridcolor\":\"white\",\"linecolor\":\"white\",\"ticks\":\"\"},\"baxis\":{\"gridcolor\":\"white\",\"linecolor\":\"white\",\"ticks\":\"\"},\"caxis\":{\"gridcolor\":\"white\",\"linecolor\":\"white\",\"ticks\":\"\"}},\"coloraxis\":{\"colorbar\":{\"outlinewidth\":0,\"ticks\":\"\"}},\"colorscale\":{\"sequential\":[[0.0,\"#0d0887\"],[0.1111111111111111,\"#46039f\"],[0.2222222222222222,\"#7201a8\"],[0.3333333333333333,\"#9c179e\"],[0.4444444444444444,\"#bd3786\"],[0.5555555555555556,\"#d8576b\"],[0.6666666666666666,\"#ed7953\"],[0.7777777777777778,\"#fb9f3a\"],[0.8888888888888888,\"#fdca26\"],[1.0,\"#f0f921\"]],\"sequentialminus\":[[0.0,\"#0d0887\"],[0.1111111111111111,\"#46039f\"],[0.2222222222222222,\"#7201a8\"],[0.3333333333333333,\"#9c179e\"],[0.4444444444444444,\"#bd3786\"],[0.5555555555555556,\"#d8576b\"],[0.6666666666666666,\"#ed7953\"],[0.7777777777777778,\"#fb9f3a\"],[0.8888888888888888,\"#fdca26\"],[1.0,\"#f0f921\"]],\"diverging\":[[0,\"#8e0152\"],[0.1,\"#c51b7d\"],[0.2,\"#de77ae\"],[0.3,\"#f1b6da\"],[0.4,\"#fde0ef\"],[0.5,\"#f7f7f7\"],[0.6,\"#e6f5d0\"],[0.7,\"#b8e186\"],[0.8,\"#7fbc41\"],[0.9,\"#4d9221\"],[1,\"#276419\"]]},\"xaxis\":{\"gridcolor\":\"white\",\"linecolor\":\"white\",\"ticks\":\"\",\"title\":{\"standoff\":15},\"zerolinecolor\":\"white\",\"automargin\":true,\"zerolinewidth\":2},\"yaxis\":{\"gridcolor\":\"white\",\"linecolor\":\"white\",\"ticks\":\"\",\"title\":{\"standoff\":15},\"zerolinecolor\":\"white\",\"automargin\":true,\"zerolinewidth\":2},\"scene\":{\"xaxis\":{\"backgroundcolor\":\"#E5ECF6\",\"gridcolor\":\"white\",\"linecolor\":\"white\",\"showbackground\":true,\"ticks\":\"\",\"zerolinecolor\":\"white\",\"gridwidth\":2},\"yaxis\":{\"backgroundcolor\":\"#E5ECF6\",\"gridcolor\":\"white\",\"linecolor\":\"white\",\"showbackground\":true,\"ticks\":\"\",\"zerolinecolor\":\"white\",\"gridwidth\":2},\"zaxis\":{\"backgroundcolor\":\"#E5ECF6\",\"gridcolor\":\"white\",\"linecolor\":\"white\",\"showbackground\":true,\"ticks\":\"\",\"zerolinecolor\":\"white\",\"gridwidth\":2}},\"shapedefaults\":{\"line\":{\"color\":\"#2a3f5f\"}},\"annotationdefaults\":{\"arrowcolor\":\"#2a3f5f\",\"arrowhead\":0,\"arrowwidth\":1},\"geo\":{\"bgcolor\":\"white\",\"landcolor\":\"#E5ECF6\",\"subunitcolor\":\"white\",\"showland\":true,\"showlakes\":true,\"lakecolor\":\"white\"},\"title\":{\"x\":0.05},\"mapbox\":{\"style\":\"light\"}}}},                        {\"responsive\": true}                    ).then(function(){\n",
       "                            \n",
       "var gd = document.getElementById('4bda19ce-c7f6-417d-b61f-0df3dc4e25ed');\n",
       "var x = new MutationObserver(function (mutations, observer) {{\n",
       "        var display = window.getComputedStyle(gd).display;\n",
       "        if (!display || display === 'none') {{\n",
       "            console.log([gd, 'removed!']);\n",
       "            Plotly.purge(gd);\n",
       "            observer.disconnect();\n",
       "        }}\n",
       "}});\n",
       "\n",
       "// Listen for the removal of the full notebook cells\n",
       "var notebookContainer = gd.closest('#notebook-container');\n",
       "if (notebookContainer) {{\n",
       "    x.observe(notebookContainer, {childList: true});\n",
       "}}\n",
       "\n",
       "// Listen for the clearing of the current output cell\n",
       "var outputEl = gd.closest('.output');\n",
       "if (outputEl) {{\n",
       "    x.observe(outputEl, {childList: true});\n",
       "}}\n",
       "\n",
       "                        })                };                });            </script>        </div>"
      ]
     },
     "metadata": {},
     "output_type": "display_data"
    }
   ],
   "source": [
    "optuna.visualization.plot_optimization_history(study)\n"
   ]
  },
  {
   "cell_type": "code",
   "execution_count": 111,
   "id": "caeb13d8",
   "metadata": {},
   "outputs": [
    {
     "data": {
      "application/vnd.plotly.v1+json": {
       "config": {
        "plotlyServerURL": "https://plot.ly"
       },
       "data": [
        {
         "marker": {
          "color": [
           0,
           1,
           2,
           3,
           4,
           5,
           6,
           7,
           8,
           9,
           10,
           11,
           12,
           13,
           14,
           15,
           16,
           17,
           18,
           19,
           20,
           21,
           22,
           23,
           24,
           25,
           26,
           27,
           28,
           29,
           30,
           31,
           32,
           33,
           34,
           35,
           36,
           37,
           38,
           39,
           40,
           41,
           42,
           43,
           44,
           45,
           46,
           47,
           48,
           49,
           50,
           51,
           52,
           53,
           54,
           55,
           56,
           57,
           58,
           59,
           60,
           61,
           62,
           63,
           64,
           65,
           66,
           67,
           68,
           69,
           70,
           71,
           72,
           73,
           74,
           75,
           76,
           77,
           78,
           79,
           80,
           81,
           82,
           83,
           84,
           85,
           86,
           87,
           88,
           89,
           90,
           91,
           92,
           93,
           94,
           95,
           96,
           97,
           98,
           99,
           100,
           101,
           102,
           103,
           104,
           105,
           106,
           107,
           108,
           109,
           110,
           111,
           112,
           113,
           114,
           115,
           116,
           117,
           118,
           119,
           120,
           121,
           122,
           123,
           124,
           125,
           126,
           127,
           128,
           129,
           130,
           131,
           132,
           133,
           134,
           135,
           136,
           137,
           138,
           139,
           140,
           141,
           142,
           143,
           144,
           145,
           146,
           147,
           148,
           149,
           150,
           151,
           152,
           153,
           154,
           155,
           156,
           157,
           158,
           159,
           160,
           161,
           162,
           163,
           164,
           165,
           166,
           167,
           168,
           169,
           170,
           171,
           172,
           173,
           174,
           175,
           176,
           177,
           178,
           179,
           180,
           181,
           182,
           183,
           184,
           185,
           186,
           187,
           188,
           189,
           190,
           191,
           192,
           193,
           194,
           195,
           196,
           197,
           198,
           199
          ],
          "colorbar": {
           "title": {
            "text": "Trial"
           },
           "x": 1,
           "xpad": 40
          },
          "colorscale": [
           [
            0,
            "rgb(247,251,255)"
           ],
           [
            0.125,
            "rgb(222,235,247)"
           ],
           [
            0.25,
            "rgb(198,219,239)"
           ],
           [
            0.375,
            "rgb(158,202,225)"
           ],
           [
            0.5,
            "rgb(107,174,214)"
           ],
           [
            0.625,
            "rgb(66,146,198)"
           ],
           [
            0.75,
            "rgb(33,113,181)"
           ],
           [
            0.875,
            "rgb(8,81,156)"
           ],
           [
            1,
            "rgb(8,48,107)"
           ]
          ],
          "line": {
           "color": "Grey",
           "width": 0.5
          }
         },
         "mode": "markers",
         "name": "Feasible Trial",
         "showlegend": false,
         "type": "scatter",
         "x": [
          "ridge",
          "lasso",
          "ridge",
          "ridge",
          "ridge",
          "lasso",
          "lasso",
          "lasso",
          "xgb",
          "lasso",
          "xgb",
          "lasso",
          "lasso",
          "lasso",
          "lasso",
          "lasso",
          "xgb",
          "lasso",
          "lasso",
          "xgb",
          "lasso",
          "lasso",
          "lasso",
          "lasso",
          "lasso",
          "lasso",
          "lasso",
          "lasso",
          "ridge",
          "xgb",
          "ridge",
          "lasso",
          "lasso",
          "lasso",
          "lasso",
          "ridge",
          "lasso",
          "lasso",
          "lasso",
          "ridge",
          "lasso",
          "lasso",
          "lasso",
          "lasso",
          "lasso",
          "lasso",
          "lasso",
          "xgb",
          "lasso",
          "lasso",
          "ridge",
          "lasso",
          "lasso",
          "lasso",
          "lasso",
          "lasso",
          "lasso",
          "xgb",
          "lasso",
          "lasso",
          "lasso",
          "lasso",
          "lasso",
          "lasso",
          "lasso",
          "lasso",
          "lasso",
          "xgb",
          "lasso",
          "lasso",
          "lasso",
          "lasso",
          "lasso",
          "lasso",
          "lasso",
          "lasso",
          "ridge",
          "lasso",
          "lasso",
          "lasso",
          "lasso",
          "lasso",
          "lasso",
          "lasso",
          "lasso",
          "lasso",
          "xgb",
          "lasso",
          "ridge",
          "lasso",
          "lasso",
          "lasso",
          "lasso",
          "lasso",
          "lasso",
          "lasso",
          "lasso",
          "lasso",
          "lasso",
          "lasso",
          "lasso",
          "lasso",
          "lasso",
          "lasso",
          "lasso",
          "lasso",
          "lasso",
          "xgb",
          "lasso",
          "lasso",
          "ridge",
          "lasso",
          "lasso",
          "lasso",
          "lasso",
          "lasso",
          "lasso",
          "lasso",
          "lasso",
          "lasso",
          "lasso",
          "lasso",
          "lasso",
          "lasso",
          "lasso",
          "lasso",
          "lasso",
          "lasso",
          "lasso",
          "xgb",
          "lasso",
          "lasso",
          "lasso",
          "lasso",
          "lasso",
          "lasso",
          "lasso",
          "ridge",
          "lasso",
          "lasso",
          "lasso",
          "lasso",
          "lasso",
          "lasso",
          "lasso",
          "lasso",
          "lasso",
          "lasso",
          "lasso",
          "lasso",
          "lasso",
          "lasso",
          "lasso",
          "lasso",
          "lasso",
          "lasso",
          "lasso",
          "xgb",
          "lasso",
          "lasso",
          "lasso",
          "lasso",
          "lasso",
          "lasso",
          "lasso",
          "lasso",
          "ridge",
          "lasso",
          "lasso",
          "lasso",
          "lasso",
          "lasso",
          "lasso",
          "lasso",
          "lasso",
          "lasso",
          "lasso",
          "lasso",
          "lasso",
          "lasso",
          "lasso",
          "lasso",
          "lasso",
          "lasso",
          "lasso",
          "lasso",
          "lasso",
          "lasso",
          "xgb",
          "lasso",
          "lasso",
          "lasso",
          "lasso",
          "lasso",
          "lasso",
          "lasso",
          "lasso",
          "lasso",
          "lasso",
          "ridge"
         ],
         "y": [
          0.9471554321468393,
          0.9389672175428982,
          0.9458097018173504,
          0.9473545665481765,
          0.9496058571087869,
          0.9294302327835954,
          0.9500398525687235,
          -0.029441307066881618,
          -5.373464236107701,
          0.9500902328681612,
          0.9057358214629305,
          0.9498510406483309,
          0.9497956445257467,
          0.9473793968660728,
          0.945086273060117,
          0.891919680699119,
          -6.669394335705886,
          0.9502165794308643,
          0.3389464804948818,
          0.8811693917915496,
          0.9409100930605206,
          0.9502535145176715,
          0.950247724018946,
          0.9499686482042866,
          0.9397985591072718,
          0.9500469224113856,
          0.9224764929436381,
          0.9431142980201922,
          0.9458058722948917,
          -2.8957501035877273,
          0.9460881378786741,
          0.9497745164857381,
          0.9502797535996578,
          0.9486362756580426,
          0.9502759959747529,
          0.9458054065930874,
          0.9427418045630881,
          0.9485421626102486,
          0.9373437476773958,
          0.9485588883459293,
          0.9490795432899979,
          0.9502825368726407,
          0.9502294508274328,
          0.9430131991735313,
          0.9502727641231721,
          0.9492408791368658,
          0.9448349663520008,
          -6.669368157650402,
          0.9500862499579659,
          0.9371932960385145,
          0.9470141744249545,
          0.9502119657115078,
          0.949734434572683,
          0.9501974068395576,
          0.950190484820807,
          0.945629603904475,
          -0.029441307066881618,
          0.9362219094296959,
          0.9495661914710423,
          0.9502879072815185,
          -0.029441307066881618,
          0.9500333708547464,
          0.9502370410586698,
          0.9502750912961979,
          0.9472882006945464,
          0.9499221783577119,
          0.9499614525388406,
          -6.649379579649593,
          0.9502742629973625,
          0.941854420726292,
          0.9483040046031498,
          0.9502735478038954,
          0.9496698612945007,
          0.9499618729169731,
          0.9502883231525254,
          0.9502953233147071,
          0.9458050864155652,
          0.9497137160696887,
          0.9502815924227817,
          0.9499926313562599,
          0.9481827933626569,
          0.9502672109276192,
          0.9502963988384143,
          0.9439723885844347,
          0.9496589312348584,
          0.9502098986541375,
          0.9113729713455464,
          0.9499303692169431,
          0.9458062548545307,
          0.9476084501766951,
          0.9502964822130379,
          0.9501962444593653,
          0.9502926907956504,
          0.9498802105550059,
          0.9493494195943446,
          0.6948625509417926,
          0.9502862831182425,
          0.9501449871277803,
          0.9500888877970954,
          0.9502964373402069,
          0.9496753512755902,
          0.9502449512569566,
          0.9502955909186339,
          0.9500715177401252,
          0.9493553150559639,
          0.9500636883309272,
          -0.029441307066881618,
          0.9456992597139712,
          0.9502914624491947,
          0.9487796957195679,
          0.9458059631669112,
          0.9502778163259922,
          0.9502836280725976,
          0.9501260316720657,
          0.9498013443197497,
          0.9502845562820639,
          0.9502582588235127,
          0.9499275892013603,
          0.9442351128117648,
          0.9499741667505186,
          0.9501437506612426,
          0.9502898226246657,
          0.950172458965406,
          0.9498818867954568,
          0.9502742213840186,
          0.948010230424984,
          0.9494725800498989,
          0.9502881420877998,
          0.9501299921214527,
          -6.665047997522985,
          0.9499275651962751,
          0.9502859312054707,
          0.9090691608791975,
          0.9502947964782023,
          0.9502028187641546,
          0.9499426420022609,
          0.9502861840712985,
          0.9458062161166941,
          0.9487904462388294,
          0.9501620529377204,
          0.9498618400883064,
          0.9502649728528159,
          0.9501802467301577,
          0.9496636404874943,
          0.9502726100328387,
          0.9500547936860226,
          0.9502884518718631,
          0.9501140127607505,
          0.9501396727282296,
          0.949827142011346,
          -0.029441307066881618,
          0.950288785652028,
          0.9502777437745561,
          0.9502688139102728,
          0.9496937107517626,
          0.9499777480519768,
          0.9502093537893714,
          -6.658982618518887,
          0.9501804859699942,
          0.9495460997714975,
          0.9502968446519408,
          0.9502895965361698,
          0.95021458199043,
          0.9500186429126172,
          0.9500779176060921,
          0.9502745077404082,
          0.9458057831934419,
          0.9501930573225469,
          0.8389773364681945,
          0.9488545491630855,
          0.9377778075045207,
          0.9502854685127481,
          0.9502839077510391,
          0.9499869011042194,
          0.9500245932051371,
          0.1865437329165439,
          0.9501583632314036,
          0.9501960247006522,
          0.9496864576714318,
          0.9502833222098073,
          0.9499385532941413,
          0.9502810360158491,
          0.9502831710262434,
          0.9501898279809267,
          0.9501258403921616,
          0.9501172861556331,
          0.950288642837411,
          0.9498915102678985,
          0.9467614990364478,
          0.9502152651959875,
          0.9502090690343031,
          0.9502778394616301,
          0.950266037079577,
          0.9500845330420139,
          0.9502840671126596,
          0.9499323646692229,
          0.9498876175942407,
          0.950254088504817,
          0.9501658812790701,
          0.9458056082713616
         ]
        }
       ],
       "layout": {
        "template": {
         "data": {
          "bar": [
           {
            "error_x": {
             "color": "#2a3f5f"
            },
            "error_y": {
             "color": "#2a3f5f"
            },
            "marker": {
             "line": {
              "color": "#E5ECF6",
              "width": 0.5
             },
             "pattern": {
              "fillmode": "overlay",
              "size": 10,
              "solidity": 0.2
             }
            },
            "type": "bar"
           }
          ],
          "barpolar": [
           {
            "marker": {
             "line": {
              "color": "#E5ECF6",
              "width": 0.5
             },
             "pattern": {
              "fillmode": "overlay",
              "size": 10,
              "solidity": 0.2
             }
            },
            "type": "barpolar"
           }
          ],
          "carpet": [
           {
            "aaxis": {
             "endlinecolor": "#2a3f5f",
             "gridcolor": "white",
             "linecolor": "white",
             "minorgridcolor": "white",
             "startlinecolor": "#2a3f5f"
            },
            "baxis": {
             "endlinecolor": "#2a3f5f",
             "gridcolor": "white",
             "linecolor": "white",
             "minorgridcolor": "white",
             "startlinecolor": "#2a3f5f"
            },
            "type": "carpet"
           }
          ],
          "choropleth": [
           {
            "colorbar": {
             "outlinewidth": 0,
             "ticks": ""
            },
            "type": "choropleth"
           }
          ],
          "contour": [
           {
            "colorbar": {
             "outlinewidth": 0,
             "ticks": ""
            },
            "colorscale": [
             [
              0,
              "#0d0887"
             ],
             [
              0.1111111111111111,
              "#46039f"
             ],
             [
              0.2222222222222222,
              "#7201a8"
             ],
             [
              0.3333333333333333,
              "#9c179e"
             ],
             [
              0.4444444444444444,
              "#bd3786"
             ],
             [
              0.5555555555555556,
              "#d8576b"
             ],
             [
              0.6666666666666666,
              "#ed7953"
             ],
             [
              0.7777777777777778,
              "#fb9f3a"
             ],
             [
              0.8888888888888888,
              "#fdca26"
             ],
             [
              1,
              "#f0f921"
             ]
            ],
            "type": "contour"
           }
          ],
          "contourcarpet": [
           {
            "colorbar": {
             "outlinewidth": 0,
             "ticks": ""
            },
            "type": "contourcarpet"
           }
          ],
          "heatmap": [
           {
            "colorbar": {
             "outlinewidth": 0,
             "ticks": ""
            },
            "colorscale": [
             [
              0,
              "#0d0887"
             ],
             [
              0.1111111111111111,
              "#46039f"
             ],
             [
              0.2222222222222222,
              "#7201a8"
             ],
             [
              0.3333333333333333,
              "#9c179e"
             ],
             [
              0.4444444444444444,
              "#bd3786"
             ],
             [
              0.5555555555555556,
              "#d8576b"
             ],
             [
              0.6666666666666666,
              "#ed7953"
             ],
             [
              0.7777777777777778,
              "#fb9f3a"
             ],
             [
              0.8888888888888888,
              "#fdca26"
             ],
             [
              1,
              "#f0f921"
             ]
            ],
            "type": "heatmap"
           }
          ],
          "heatmapgl": [
           {
            "colorbar": {
             "outlinewidth": 0,
             "ticks": ""
            },
            "colorscale": [
             [
              0,
              "#0d0887"
             ],
             [
              0.1111111111111111,
              "#46039f"
             ],
             [
              0.2222222222222222,
              "#7201a8"
             ],
             [
              0.3333333333333333,
              "#9c179e"
             ],
             [
              0.4444444444444444,
              "#bd3786"
             ],
             [
              0.5555555555555556,
              "#d8576b"
             ],
             [
              0.6666666666666666,
              "#ed7953"
             ],
             [
              0.7777777777777778,
              "#fb9f3a"
             ],
             [
              0.8888888888888888,
              "#fdca26"
             ],
             [
              1,
              "#f0f921"
             ]
            ],
            "type": "heatmapgl"
           }
          ],
          "histogram": [
           {
            "marker": {
             "pattern": {
              "fillmode": "overlay",
              "size": 10,
              "solidity": 0.2
             }
            },
            "type": "histogram"
           }
          ],
          "histogram2d": [
           {
            "colorbar": {
             "outlinewidth": 0,
             "ticks": ""
            },
            "colorscale": [
             [
              0,
              "#0d0887"
             ],
             [
              0.1111111111111111,
              "#46039f"
             ],
             [
              0.2222222222222222,
              "#7201a8"
             ],
             [
              0.3333333333333333,
              "#9c179e"
             ],
             [
              0.4444444444444444,
              "#bd3786"
             ],
             [
              0.5555555555555556,
              "#d8576b"
             ],
             [
              0.6666666666666666,
              "#ed7953"
             ],
             [
              0.7777777777777778,
              "#fb9f3a"
             ],
             [
              0.8888888888888888,
              "#fdca26"
             ],
             [
              1,
              "#f0f921"
             ]
            ],
            "type": "histogram2d"
           }
          ],
          "histogram2dcontour": [
           {
            "colorbar": {
             "outlinewidth": 0,
             "ticks": ""
            },
            "colorscale": [
             [
              0,
              "#0d0887"
             ],
             [
              0.1111111111111111,
              "#46039f"
             ],
             [
              0.2222222222222222,
              "#7201a8"
             ],
             [
              0.3333333333333333,
              "#9c179e"
             ],
             [
              0.4444444444444444,
              "#bd3786"
             ],
             [
              0.5555555555555556,
              "#d8576b"
             ],
             [
              0.6666666666666666,
              "#ed7953"
             ],
             [
              0.7777777777777778,
              "#fb9f3a"
             ],
             [
              0.8888888888888888,
              "#fdca26"
             ],
             [
              1,
              "#f0f921"
             ]
            ],
            "type": "histogram2dcontour"
           }
          ],
          "mesh3d": [
           {
            "colorbar": {
             "outlinewidth": 0,
             "ticks": ""
            },
            "type": "mesh3d"
           }
          ],
          "parcoords": [
           {
            "line": {
             "colorbar": {
              "outlinewidth": 0,
              "ticks": ""
             }
            },
            "type": "parcoords"
           }
          ],
          "pie": [
           {
            "automargin": true,
            "type": "pie"
           }
          ],
          "scatter": [
           {
            "fillpattern": {
             "fillmode": "overlay",
             "size": 10,
             "solidity": 0.2
            },
            "type": "scatter"
           }
          ],
          "scatter3d": [
           {
            "line": {
             "colorbar": {
              "outlinewidth": 0,
              "ticks": ""
             }
            },
            "marker": {
             "colorbar": {
              "outlinewidth": 0,
              "ticks": ""
             }
            },
            "type": "scatter3d"
           }
          ],
          "scattercarpet": [
           {
            "marker": {
             "colorbar": {
              "outlinewidth": 0,
              "ticks": ""
             }
            },
            "type": "scattercarpet"
           }
          ],
          "scattergeo": [
           {
            "marker": {
             "colorbar": {
              "outlinewidth": 0,
              "ticks": ""
             }
            },
            "type": "scattergeo"
           }
          ],
          "scattergl": [
           {
            "marker": {
             "colorbar": {
              "outlinewidth": 0,
              "ticks": ""
             }
            },
            "type": "scattergl"
           }
          ],
          "scattermapbox": [
           {
            "marker": {
             "colorbar": {
              "outlinewidth": 0,
              "ticks": ""
             }
            },
            "type": "scattermapbox"
           }
          ],
          "scatterpolar": [
           {
            "marker": {
             "colorbar": {
              "outlinewidth": 0,
              "ticks": ""
             }
            },
            "type": "scatterpolar"
           }
          ],
          "scatterpolargl": [
           {
            "marker": {
             "colorbar": {
              "outlinewidth": 0,
              "ticks": ""
             }
            },
            "type": "scatterpolargl"
           }
          ],
          "scatterternary": [
           {
            "marker": {
             "colorbar": {
              "outlinewidth": 0,
              "ticks": ""
             }
            },
            "type": "scatterternary"
           }
          ],
          "surface": [
           {
            "colorbar": {
             "outlinewidth": 0,
             "ticks": ""
            },
            "colorscale": [
             [
              0,
              "#0d0887"
             ],
             [
              0.1111111111111111,
              "#46039f"
             ],
             [
              0.2222222222222222,
              "#7201a8"
             ],
             [
              0.3333333333333333,
              "#9c179e"
             ],
             [
              0.4444444444444444,
              "#bd3786"
             ],
             [
              0.5555555555555556,
              "#d8576b"
             ],
             [
              0.6666666666666666,
              "#ed7953"
             ],
             [
              0.7777777777777778,
              "#fb9f3a"
             ],
             [
              0.8888888888888888,
              "#fdca26"
             ],
             [
              1,
              "#f0f921"
             ]
            ],
            "type": "surface"
           }
          ],
          "table": [
           {
            "cells": {
             "fill": {
              "color": "#EBF0F8"
             },
             "line": {
              "color": "white"
             }
            },
            "header": {
             "fill": {
              "color": "#C8D4E3"
             },
             "line": {
              "color": "white"
             }
            },
            "type": "table"
           }
          ]
         },
         "layout": {
          "annotationdefaults": {
           "arrowcolor": "#2a3f5f",
           "arrowhead": 0,
           "arrowwidth": 1
          },
          "autotypenumbers": "strict",
          "coloraxis": {
           "colorbar": {
            "outlinewidth": 0,
            "ticks": ""
           }
          },
          "colorscale": {
           "diverging": [
            [
             0,
             "#8e0152"
            ],
            [
             0.1,
             "#c51b7d"
            ],
            [
             0.2,
             "#de77ae"
            ],
            [
             0.3,
             "#f1b6da"
            ],
            [
             0.4,
             "#fde0ef"
            ],
            [
             0.5,
             "#f7f7f7"
            ],
            [
             0.6,
             "#e6f5d0"
            ],
            [
             0.7,
             "#b8e186"
            ],
            [
             0.8,
             "#7fbc41"
            ],
            [
             0.9,
             "#4d9221"
            ],
            [
             1,
             "#276419"
            ]
           ],
           "sequential": [
            [
             0,
             "#0d0887"
            ],
            [
             0.1111111111111111,
             "#46039f"
            ],
            [
             0.2222222222222222,
             "#7201a8"
            ],
            [
             0.3333333333333333,
             "#9c179e"
            ],
            [
             0.4444444444444444,
             "#bd3786"
            ],
            [
             0.5555555555555556,
             "#d8576b"
            ],
            [
             0.6666666666666666,
             "#ed7953"
            ],
            [
             0.7777777777777778,
             "#fb9f3a"
            ],
            [
             0.8888888888888888,
             "#fdca26"
            ],
            [
             1,
             "#f0f921"
            ]
           ],
           "sequentialminus": [
            [
             0,
             "#0d0887"
            ],
            [
             0.1111111111111111,
             "#46039f"
            ],
            [
             0.2222222222222222,
             "#7201a8"
            ],
            [
             0.3333333333333333,
             "#9c179e"
            ],
            [
             0.4444444444444444,
             "#bd3786"
            ],
            [
             0.5555555555555556,
             "#d8576b"
            ],
            [
             0.6666666666666666,
             "#ed7953"
            ],
            [
             0.7777777777777778,
             "#fb9f3a"
            ],
            [
             0.8888888888888888,
             "#fdca26"
            ],
            [
             1,
             "#f0f921"
            ]
           ]
          },
          "colorway": [
           "#636efa",
           "#EF553B",
           "#00cc96",
           "#ab63fa",
           "#FFA15A",
           "#19d3f3",
           "#FF6692",
           "#B6E880",
           "#FF97FF",
           "#FECB52"
          ],
          "font": {
           "color": "#2a3f5f"
          },
          "geo": {
           "bgcolor": "white",
           "lakecolor": "white",
           "landcolor": "#E5ECF6",
           "showlakes": true,
           "showland": true,
           "subunitcolor": "white"
          },
          "hoverlabel": {
           "align": "left"
          },
          "hovermode": "closest",
          "mapbox": {
           "style": "light"
          },
          "paper_bgcolor": "white",
          "plot_bgcolor": "#E5ECF6",
          "polar": {
           "angularaxis": {
            "gridcolor": "white",
            "linecolor": "white",
            "ticks": ""
           },
           "bgcolor": "#E5ECF6",
           "radialaxis": {
            "gridcolor": "white",
            "linecolor": "white",
            "ticks": ""
           }
          },
          "scene": {
           "xaxis": {
            "backgroundcolor": "#E5ECF6",
            "gridcolor": "white",
            "gridwidth": 2,
            "linecolor": "white",
            "showbackground": true,
            "ticks": "",
            "zerolinecolor": "white"
           },
           "yaxis": {
            "backgroundcolor": "#E5ECF6",
            "gridcolor": "white",
            "gridwidth": 2,
            "linecolor": "white",
            "showbackground": true,
            "ticks": "",
            "zerolinecolor": "white"
           },
           "zaxis": {
            "backgroundcolor": "#E5ECF6",
            "gridcolor": "white",
            "gridwidth": 2,
            "linecolor": "white",
            "showbackground": true,
            "ticks": "",
            "zerolinecolor": "white"
           }
          },
          "shapedefaults": {
           "line": {
            "color": "#2a3f5f"
           }
          },
          "ternary": {
           "aaxis": {
            "gridcolor": "white",
            "linecolor": "white",
            "ticks": ""
           },
           "baxis": {
            "gridcolor": "white",
            "linecolor": "white",
            "ticks": ""
           },
           "bgcolor": "#E5ECF6",
           "caxis": {
            "gridcolor": "white",
            "linecolor": "white",
            "ticks": ""
           }
          },
          "title": {
           "x": 0.05
          },
          "xaxis": {
           "automargin": true,
           "gridcolor": "white",
           "linecolor": "white",
           "ticks": "",
           "title": {
            "standoff": 15
           },
           "zerolinecolor": "white",
           "zerolinewidth": 2
          },
          "yaxis": {
           "automargin": true,
           "gridcolor": "white",
           "linecolor": "white",
           "ticks": "",
           "title": {
            "standoff": 15
           },
           "zerolinecolor": "white",
           "zerolinewidth": 2
          }
         }
        },
        "title": {
         "text": "Slice Plot"
        },
        "xaxis": {
         "categoryarray": [
          "ridge",
          "lasso",
          "xgb"
         ],
         "categoryorder": "array",
         "title": {
          "text": "algorithm"
         },
         "type": "category"
        },
        "yaxis": {
         "title": {
          "text": "Objective Value"
         }
        }
       }
      },
      "text/html": [
       "<div>                            <div id=\"15a0b20c-8160-41fc-a3c9-10d15b3cef59\" class=\"plotly-graph-div\" style=\"height:525px; width:100%;\"></div>            <script type=\"text/javascript\">                require([\"plotly\"], function(Plotly) {                    window.PLOTLYENV=window.PLOTLYENV || {};                                    if (document.getElementById(\"15a0b20c-8160-41fc-a3c9-10d15b3cef59\")) {                    Plotly.newPlot(                        \"15a0b20c-8160-41fc-a3c9-10d15b3cef59\",                        [{\"marker\":{\"color\":[0,1,2,3,4,5,6,7,8,9,10,11,12,13,14,15,16,17,18,19,20,21,22,23,24,25,26,27,28,29,30,31,32,33,34,35,36,37,38,39,40,41,42,43,44,45,46,47,48,49,50,51,52,53,54,55,56,57,58,59,60,61,62,63,64,65,66,67,68,69,70,71,72,73,74,75,76,77,78,79,80,81,82,83,84,85,86,87,88,89,90,91,92,93,94,95,96,97,98,99,100,101,102,103,104,105,106,107,108,109,110,111,112,113,114,115,116,117,118,119,120,121,122,123,124,125,126,127,128,129,130,131,132,133,134,135,136,137,138,139,140,141,142,143,144,145,146,147,148,149,150,151,152,153,154,155,156,157,158,159,160,161,162,163,164,165,166,167,168,169,170,171,172,173,174,175,176,177,178,179,180,181,182,183,184,185,186,187,188,189,190,191,192,193,194,195,196,197,198,199],\"colorbar\":{\"title\":{\"text\":\"Trial\"},\"x\":1.0,\"xpad\":40},\"colorscale\":[[0.0,\"rgb(247,251,255)\"],[0.125,\"rgb(222,235,247)\"],[0.25,\"rgb(198,219,239)\"],[0.375,\"rgb(158,202,225)\"],[0.5,\"rgb(107,174,214)\"],[0.625,\"rgb(66,146,198)\"],[0.75,\"rgb(33,113,181)\"],[0.875,\"rgb(8,81,156)\"],[1.0,\"rgb(8,48,107)\"]],\"line\":{\"color\":\"Grey\",\"width\":0.5}},\"mode\":\"markers\",\"name\":\"Feasible Trial\",\"showlegend\":false,\"x\":[\"ridge\",\"lasso\",\"ridge\",\"ridge\",\"ridge\",\"lasso\",\"lasso\",\"lasso\",\"xgb\",\"lasso\",\"xgb\",\"lasso\",\"lasso\",\"lasso\",\"lasso\",\"lasso\",\"xgb\",\"lasso\",\"lasso\",\"xgb\",\"lasso\",\"lasso\",\"lasso\",\"lasso\",\"lasso\",\"lasso\",\"lasso\",\"lasso\",\"ridge\",\"xgb\",\"ridge\",\"lasso\",\"lasso\",\"lasso\",\"lasso\",\"ridge\",\"lasso\",\"lasso\",\"lasso\",\"ridge\",\"lasso\",\"lasso\",\"lasso\",\"lasso\",\"lasso\",\"lasso\",\"lasso\",\"xgb\",\"lasso\",\"lasso\",\"ridge\",\"lasso\",\"lasso\",\"lasso\",\"lasso\",\"lasso\",\"lasso\",\"xgb\",\"lasso\",\"lasso\",\"lasso\",\"lasso\",\"lasso\",\"lasso\",\"lasso\",\"lasso\",\"lasso\",\"xgb\",\"lasso\",\"lasso\",\"lasso\",\"lasso\",\"lasso\",\"lasso\",\"lasso\",\"lasso\",\"ridge\",\"lasso\",\"lasso\",\"lasso\",\"lasso\",\"lasso\",\"lasso\",\"lasso\",\"lasso\",\"lasso\",\"xgb\",\"lasso\",\"ridge\",\"lasso\",\"lasso\",\"lasso\",\"lasso\",\"lasso\",\"lasso\",\"lasso\",\"lasso\",\"lasso\",\"lasso\",\"lasso\",\"lasso\",\"lasso\",\"lasso\",\"lasso\",\"lasso\",\"lasso\",\"lasso\",\"xgb\",\"lasso\",\"lasso\",\"ridge\",\"lasso\",\"lasso\",\"lasso\",\"lasso\",\"lasso\",\"lasso\",\"lasso\",\"lasso\",\"lasso\",\"lasso\",\"lasso\",\"lasso\",\"lasso\",\"lasso\",\"lasso\",\"lasso\",\"lasso\",\"lasso\",\"xgb\",\"lasso\",\"lasso\",\"lasso\",\"lasso\",\"lasso\",\"lasso\",\"lasso\",\"ridge\",\"lasso\",\"lasso\",\"lasso\",\"lasso\",\"lasso\",\"lasso\",\"lasso\",\"lasso\",\"lasso\",\"lasso\",\"lasso\",\"lasso\",\"lasso\",\"lasso\",\"lasso\",\"lasso\",\"lasso\",\"lasso\",\"lasso\",\"xgb\",\"lasso\",\"lasso\",\"lasso\",\"lasso\",\"lasso\",\"lasso\",\"lasso\",\"lasso\",\"ridge\",\"lasso\",\"lasso\",\"lasso\",\"lasso\",\"lasso\",\"lasso\",\"lasso\",\"lasso\",\"lasso\",\"lasso\",\"lasso\",\"lasso\",\"lasso\",\"lasso\",\"lasso\",\"lasso\",\"lasso\",\"lasso\",\"lasso\",\"lasso\",\"lasso\",\"xgb\",\"lasso\",\"lasso\",\"lasso\",\"lasso\",\"lasso\",\"lasso\",\"lasso\",\"lasso\",\"lasso\",\"lasso\",\"ridge\"],\"y\":[0.9471554321468393,0.9389672175428982,0.9458097018173504,0.9473545665481765,0.9496058571087869,0.9294302327835954,0.9500398525687235,-0.029441307066881618,-5.373464236107701,0.9500902328681612,0.9057358214629305,0.9498510406483309,0.9497956445257467,0.9473793968660728,0.945086273060117,0.891919680699119,-6.669394335705886,0.9502165794308643,0.3389464804948818,0.8811693917915496,0.9409100930605206,0.9502535145176715,0.950247724018946,0.9499686482042866,0.9397985591072718,0.9500469224113856,0.9224764929436381,0.9431142980201922,0.9458058722948917,-2.8957501035877273,0.9460881378786741,0.9497745164857381,0.9502797535996578,0.9486362756580426,0.9502759959747529,0.9458054065930874,0.9427418045630881,0.9485421626102486,0.9373437476773958,0.9485588883459293,0.9490795432899979,0.9502825368726407,0.9502294508274328,0.9430131991735313,0.9502727641231721,0.9492408791368658,0.9448349663520008,-6.669368157650402,0.9500862499579659,0.9371932960385145,0.9470141744249545,0.9502119657115078,0.949734434572683,0.9501974068395576,0.950190484820807,0.945629603904475,-0.029441307066881618,0.9362219094296959,0.9495661914710423,0.9502879072815185,-0.029441307066881618,0.9500333708547464,0.9502370410586698,0.9502750912961979,0.9472882006945464,0.9499221783577119,0.9499614525388406,-6.649379579649593,0.9502742629973625,0.941854420726292,0.9483040046031498,0.9502735478038954,0.9496698612945007,0.9499618729169731,0.9502883231525254,0.9502953233147071,0.9458050864155652,0.9497137160696887,0.9502815924227817,0.9499926313562599,0.9481827933626569,0.9502672109276192,0.9502963988384143,0.9439723885844347,0.9496589312348584,0.9502098986541375,0.9113729713455464,0.9499303692169431,0.9458062548545307,0.9476084501766951,0.9502964822130379,0.9501962444593653,0.9502926907956504,0.9498802105550059,0.9493494195943446,0.6948625509417926,0.9502862831182425,0.9501449871277803,0.9500888877970954,0.9502964373402069,0.9496753512755902,0.9502449512569566,0.9502955909186339,0.9500715177401252,0.9493553150559639,0.9500636883309272,-0.029441307066881618,0.9456992597139712,0.9502914624491947,0.9487796957195679,0.9458059631669112,0.9502778163259922,0.9502836280725976,0.9501260316720657,0.9498013443197497,0.9502845562820639,0.9502582588235127,0.9499275892013603,0.9442351128117648,0.9499741667505186,0.9501437506612426,0.9502898226246657,0.950172458965406,0.9498818867954568,0.9502742213840186,0.948010230424984,0.9494725800498989,0.9502881420877998,0.9501299921214527,-6.665047997522985,0.9499275651962751,0.9502859312054707,0.9090691608791975,0.9502947964782023,0.9502028187641546,0.9499426420022609,0.9502861840712985,0.9458062161166941,0.9487904462388294,0.9501620529377204,0.9498618400883064,0.9502649728528159,0.9501802467301577,0.9496636404874943,0.9502726100328387,0.9500547936860226,0.9502884518718631,0.9501140127607505,0.9501396727282296,0.949827142011346,-0.029441307066881618,0.950288785652028,0.9502777437745561,0.9502688139102728,0.9496937107517626,0.9499777480519768,0.9502093537893714,-6.658982618518887,0.9501804859699942,0.9495460997714975,0.9502968446519408,0.9502895965361698,0.95021458199043,0.9500186429126172,0.9500779176060921,0.9502745077404082,0.9458057831934419,0.9501930573225469,0.8389773364681945,0.9488545491630855,0.9377778075045207,0.9502854685127481,0.9502839077510391,0.9499869011042194,0.9500245932051371,0.1865437329165439,0.9501583632314036,0.9501960247006522,0.9496864576714318,0.9502833222098073,0.9499385532941413,0.9502810360158491,0.9502831710262434,0.9501898279809267,0.9501258403921616,0.9501172861556331,0.950288642837411,0.9498915102678985,0.9467614990364478,0.9502152651959875,0.9502090690343031,0.9502778394616301,0.950266037079577,0.9500845330420139,0.9502840671126596,0.9499323646692229,0.9498876175942407,0.950254088504817,0.9501658812790701,0.9458056082713616],\"type\":\"scatter\"}],                        {\"title\":{\"text\":\"Slice Plot\"},\"template\":{\"data\":{\"histogram2dcontour\":[{\"type\":\"histogram2dcontour\",\"colorbar\":{\"outlinewidth\":0,\"ticks\":\"\"},\"colorscale\":[[0.0,\"#0d0887\"],[0.1111111111111111,\"#46039f\"],[0.2222222222222222,\"#7201a8\"],[0.3333333333333333,\"#9c179e\"],[0.4444444444444444,\"#bd3786\"],[0.5555555555555556,\"#d8576b\"],[0.6666666666666666,\"#ed7953\"],[0.7777777777777778,\"#fb9f3a\"],[0.8888888888888888,\"#fdca26\"],[1.0,\"#f0f921\"]]}],\"choropleth\":[{\"type\":\"choropleth\",\"colorbar\":{\"outlinewidth\":0,\"ticks\":\"\"}}],\"histogram2d\":[{\"type\":\"histogram2d\",\"colorbar\":{\"outlinewidth\":0,\"ticks\":\"\"},\"colorscale\":[[0.0,\"#0d0887\"],[0.1111111111111111,\"#46039f\"],[0.2222222222222222,\"#7201a8\"],[0.3333333333333333,\"#9c179e\"],[0.4444444444444444,\"#bd3786\"],[0.5555555555555556,\"#d8576b\"],[0.6666666666666666,\"#ed7953\"],[0.7777777777777778,\"#fb9f3a\"],[0.8888888888888888,\"#fdca26\"],[1.0,\"#f0f921\"]]}],\"heatmap\":[{\"type\":\"heatmap\",\"colorbar\":{\"outlinewidth\":0,\"ticks\":\"\"},\"colorscale\":[[0.0,\"#0d0887\"],[0.1111111111111111,\"#46039f\"],[0.2222222222222222,\"#7201a8\"],[0.3333333333333333,\"#9c179e\"],[0.4444444444444444,\"#bd3786\"],[0.5555555555555556,\"#d8576b\"],[0.6666666666666666,\"#ed7953\"],[0.7777777777777778,\"#fb9f3a\"],[0.8888888888888888,\"#fdca26\"],[1.0,\"#f0f921\"]]}],\"heatmapgl\":[{\"type\":\"heatmapgl\",\"colorbar\":{\"outlinewidth\":0,\"ticks\":\"\"},\"colorscale\":[[0.0,\"#0d0887\"],[0.1111111111111111,\"#46039f\"],[0.2222222222222222,\"#7201a8\"],[0.3333333333333333,\"#9c179e\"],[0.4444444444444444,\"#bd3786\"],[0.5555555555555556,\"#d8576b\"],[0.6666666666666666,\"#ed7953\"],[0.7777777777777778,\"#fb9f3a\"],[0.8888888888888888,\"#fdca26\"],[1.0,\"#f0f921\"]]}],\"contourcarpet\":[{\"type\":\"contourcarpet\",\"colorbar\":{\"outlinewidth\":0,\"ticks\":\"\"}}],\"contour\":[{\"type\":\"contour\",\"colorbar\":{\"outlinewidth\":0,\"ticks\":\"\"},\"colorscale\":[[0.0,\"#0d0887\"],[0.1111111111111111,\"#46039f\"],[0.2222222222222222,\"#7201a8\"],[0.3333333333333333,\"#9c179e\"],[0.4444444444444444,\"#bd3786\"],[0.5555555555555556,\"#d8576b\"],[0.6666666666666666,\"#ed7953\"],[0.7777777777777778,\"#fb9f3a\"],[0.8888888888888888,\"#fdca26\"],[1.0,\"#f0f921\"]]}],\"surface\":[{\"type\":\"surface\",\"colorbar\":{\"outlinewidth\":0,\"ticks\":\"\"},\"colorscale\":[[0.0,\"#0d0887\"],[0.1111111111111111,\"#46039f\"],[0.2222222222222222,\"#7201a8\"],[0.3333333333333333,\"#9c179e\"],[0.4444444444444444,\"#bd3786\"],[0.5555555555555556,\"#d8576b\"],[0.6666666666666666,\"#ed7953\"],[0.7777777777777778,\"#fb9f3a\"],[0.8888888888888888,\"#fdca26\"],[1.0,\"#f0f921\"]]}],\"mesh3d\":[{\"type\":\"mesh3d\",\"colorbar\":{\"outlinewidth\":0,\"ticks\":\"\"}}],\"scatter\":[{\"fillpattern\":{\"fillmode\":\"overlay\",\"size\":10,\"solidity\":0.2},\"type\":\"scatter\"}],\"parcoords\":[{\"type\":\"parcoords\",\"line\":{\"colorbar\":{\"outlinewidth\":0,\"ticks\":\"\"}}}],\"scatterpolargl\":[{\"type\":\"scatterpolargl\",\"marker\":{\"colorbar\":{\"outlinewidth\":0,\"ticks\":\"\"}}}],\"bar\":[{\"error_x\":{\"color\":\"#2a3f5f\"},\"error_y\":{\"color\":\"#2a3f5f\"},\"marker\":{\"line\":{\"color\":\"#E5ECF6\",\"width\":0.5},\"pattern\":{\"fillmode\":\"overlay\",\"size\":10,\"solidity\":0.2}},\"type\":\"bar\"}],\"scattergeo\":[{\"type\":\"scattergeo\",\"marker\":{\"colorbar\":{\"outlinewidth\":0,\"ticks\":\"\"}}}],\"scatterpolar\":[{\"type\":\"scatterpolar\",\"marker\":{\"colorbar\":{\"outlinewidth\":0,\"ticks\":\"\"}}}],\"histogram\":[{\"marker\":{\"pattern\":{\"fillmode\":\"overlay\",\"size\":10,\"solidity\":0.2}},\"type\":\"histogram\"}],\"scattergl\":[{\"type\":\"scattergl\",\"marker\":{\"colorbar\":{\"outlinewidth\":0,\"ticks\":\"\"}}}],\"scatter3d\":[{\"type\":\"scatter3d\",\"line\":{\"colorbar\":{\"outlinewidth\":0,\"ticks\":\"\"}},\"marker\":{\"colorbar\":{\"outlinewidth\":0,\"ticks\":\"\"}}}],\"scattermapbox\":[{\"type\":\"scattermapbox\",\"marker\":{\"colorbar\":{\"outlinewidth\":0,\"ticks\":\"\"}}}],\"scatterternary\":[{\"type\":\"scatterternary\",\"marker\":{\"colorbar\":{\"outlinewidth\":0,\"ticks\":\"\"}}}],\"scattercarpet\":[{\"type\":\"scattercarpet\",\"marker\":{\"colorbar\":{\"outlinewidth\":0,\"ticks\":\"\"}}}],\"carpet\":[{\"aaxis\":{\"endlinecolor\":\"#2a3f5f\",\"gridcolor\":\"white\",\"linecolor\":\"white\",\"minorgridcolor\":\"white\",\"startlinecolor\":\"#2a3f5f\"},\"baxis\":{\"endlinecolor\":\"#2a3f5f\",\"gridcolor\":\"white\",\"linecolor\":\"white\",\"minorgridcolor\":\"white\",\"startlinecolor\":\"#2a3f5f\"},\"type\":\"carpet\"}],\"table\":[{\"cells\":{\"fill\":{\"color\":\"#EBF0F8\"},\"line\":{\"color\":\"white\"}},\"header\":{\"fill\":{\"color\":\"#C8D4E3\"},\"line\":{\"color\":\"white\"}},\"type\":\"table\"}],\"barpolar\":[{\"marker\":{\"line\":{\"color\":\"#E5ECF6\",\"width\":0.5},\"pattern\":{\"fillmode\":\"overlay\",\"size\":10,\"solidity\":0.2}},\"type\":\"barpolar\"}],\"pie\":[{\"automargin\":true,\"type\":\"pie\"}]},\"layout\":{\"autotypenumbers\":\"strict\",\"colorway\":[\"#636efa\",\"#EF553B\",\"#00cc96\",\"#ab63fa\",\"#FFA15A\",\"#19d3f3\",\"#FF6692\",\"#B6E880\",\"#FF97FF\",\"#FECB52\"],\"font\":{\"color\":\"#2a3f5f\"},\"hovermode\":\"closest\",\"hoverlabel\":{\"align\":\"left\"},\"paper_bgcolor\":\"white\",\"plot_bgcolor\":\"#E5ECF6\",\"polar\":{\"bgcolor\":\"#E5ECF6\",\"angularaxis\":{\"gridcolor\":\"white\",\"linecolor\":\"white\",\"ticks\":\"\"},\"radialaxis\":{\"gridcolor\":\"white\",\"linecolor\":\"white\",\"ticks\":\"\"}},\"ternary\":{\"bgcolor\":\"#E5ECF6\",\"aaxis\":{\"gridcolor\":\"white\",\"linecolor\":\"white\",\"ticks\":\"\"},\"baxis\":{\"gridcolor\":\"white\",\"linecolor\":\"white\",\"ticks\":\"\"},\"caxis\":{\"gridcolor\":\"white\",\"linecolor\":\"white\",\"ticks\":\"\"}},\"coloraxis\":{\"colorbar\":{\"outlinewidth\":0,\"ticks\":\"\"}},\"colorscale\":{\"sequential\":[[0.0,\"#0d0887\"],[0.1111111111111111,\"#46039f\"],[0.2222222222222222,\"#7201a8\"],[0.3333333333333333,\"#9c179e\"],[0.4444444444444444,\"#bd3786\"],[0.5555555555555556,\"#d8576b\"],[0.6666666666666666,\"#ed7953\"],[0.7777777777777778,\"#fb9f3a\"],[0.8888888888888888,\"#fdca26\"],[1.0,\"#f0f921\"]],\"sequentialminus\":[[0.0,\"#0d0887\"],[0.1111111111111111,\"#46039f\"],[0.2222222222222222,\"#7201a8\"],[0.3333333333333333,\"#9c179e\"],[0.4444444444444444,\"#bd3786\"],[0.5555555555555556,\"#d8576b\"],[0.6666666666666666,\"#ed7953\"],[0.7777777777777778,\"#fb9f3a\"],[0.8888888888888888,\"#fdca26\"],[1.0,\"#f0f921\"]],\"diverging\":[[0,\"#8e0152\"],[0.1,\"#c51b7d\"],[0.2,\"#de77ae\"],[0.3,\"#f1b6da\"],[0.4,\"#fde0ef\"],[0.5,\"#f7f7f7\"],[0.6,\"#e6f5d0\"],[0.7,\"#b8e186\"],[0.8,\"#7fbc41\"],[0.9,\"#4d9221\"],[1,\"#276419\"]]},\"xaxis\":{\"gridcolor\":\"white\",\"linecolor\":\"white\",\"ticks\":\"\",\"title\":{\"standoff\":15},\"zerolinecolor\":\"white\",\"automargin\":true,\"zerolinewidth\":2},\"yaxis\":{\"gridcolor\":\"white\",\"linecolor\":\"white\",\"ticks\":\"\",\"title\":{\"standoff\":15},\"zerolinecolor\":\"white\",\"automargin\":true,\"zerolinewidth\":2},\"scene\":{\"xaxis\":{\"backgroundcolor\":\"#E5ECF6\",\"gridcolor\":\"white\",\"linecolor\":\"white\",\"showbackground\":true,\"ticks\":\"\",\"zerolinecolor\":\"white\",\"gridwidth\":2},\"yaxis\":{\"backgroundcolor\":\"#E5ECF6\",\"gridcolor\":\"white\",\"linecolor\":\"white\",\"showbackground\":true,\"ticks\":\"\",\"zerolinecolor\":\"white\",\"gridwidth\":2},\"zaxis\":{\"backgroundcolor\":\"#E5ECF6\",\"gridcolor\":\"white\",\"linecolor\":\"white\",\"showbackground\":true,\"ticks\":\"\",\"zerolinecolor\":\"white\",\"gridwidth\":2}},\"shapedefaults\":{\"line\":{\"color\":\"#2a3f5f\"}},\"annotationdefaults\":{\"arrowcolor\":\"#2a3f5f\",\"arrowhead\":0,\"arrowwidth\":1},\"geo\":{\"bgcolor\":\"white\",\"landcolor\":\"#E5ECF6\",\"subunitcolor\":\"white\",\"showland\":true,\"showlakes\":true,\"lakecolor\":\"white\"},\"title\":{\"x\":0.05},\"mapbox\":{\"style\":\"light\"}}},\"xaxis\":{\"title\":{\"text\":\"algorithm\"},\"type\":\"category\",\"categoryorder\":\"array\",\"categoryarray\":[\"ridge\",\"lasso\",\"xgb\"]},\"yaxis\":{\"title\":{\"text\":\"Objective Value\"}}},                        {\"responsive\": true}                    ).then(function(){\n",
       "                            \n",
       "var gd = document.getElementById('15a0b20c-8160-41fc-a3c9-10d15b3cef59');\n",
       "var x = new MutationObserver(function (mutations, observer) {{\n",
       "        var display = window.getComputedStyle(gd).display;\n",
       "        if (!display || display === 'none') {{\n",
       "            console.log([gd, 'removed!']);\n",
       "            Plotly.purge(gd);\n",
       "            observer.disconnect();\n",
       "        }}\n",
       "}});\n",
       "\n",
       "// Listen for the removal of the full notebook cells\n",
       "var notebookContainer = gd.closest('#notebook-container');\n",
       "if (notebookContainer) {{\n",
       "    x.observe(notebookContainer, {childList: true});\n",
       "}}\n",
       "\n",
       "// Listen for the clearing of the current output cell\n",
       "var outputEl = gd.closest('.output');\n",
       "if (outputEl) {{\n",
       "    x.observe(outputEl, {childList: true});\n",
       "}}\n",
       "\n",
       "                        })                };                });            </script>        </div>"
      ]
     },
     "metadata": {},
     "output_type": "display_data"
    }
   ],
   "source": [
    "fig = optuna.visualization.plot_slice(study, params = ['algorithm'])\n",
    "\n",
    "fig.show()"
   ]
  },
  {
   "cell_type": "code",
   "execution_count": 96,
   "id": "95f7cf76",
   "metadata": {},
   "outputs": [],
   "source": [
    "from sklearn.compose import ColumnTransformer\n",
    "from sklearn.pipeline import Pipeline\n",
    "\n",
    "# def instantiate_numerical_pipeline(trial : Trial) -> Pipeline:\n",
    "#     pipeline = Pipeline([\n",
    "#     ('scaler', instantiate_scaler(trial))\n",
    "#   ])\n",
    "#     return pipeline\n",
    "\n",
    "# def instantiate_categorical_function(trial : Trial) -> Pipeline:\n",
    "#     pipeline = Pipeline([\n",
    "#     ('encoder', instantiate_encoder(trial))\n",
    "#   ])\n",
    "#     return pipeline\n",
    "\n",
    "def instantiate_processor(trial : Trial, \n",
    "                          numerical_columns : list[str], \n",
    "                          categorical_columns : list[str]) -> ColumnTransformer:\n",
    "    \n",
    "    numerical_pipeline = StandardScaler()\n",
    "    categorical_pipeline = OneHotEncoder(handle_unknown=\"ignore\")\n",
    "    \n",
    "#     numerical_pipeline = instantiate_numerical_pipeline(trial)\n",
    "#     categorical_pipeline = instantiate_categorical_pipeline(trial)\n",
    "    \n",
    "    processor = ColumnTransformer([\n",
    "        ('numerical_pipeline', numerical_pipeline, numerical_columns),\n",
    "        ('categorical_pipeline', categorical_pipeline, categorical_columns)\n",
    "    ])\n",
    "    return processor\n",
    "\n",
    "def instantiate_model(trial : Trial, numerical_columns : list[str], \n",
    "                      categorical_columns : list[str]) -> Pipeline:\n",
    "    \n",
    "    processor = instantiate_processor(\n",
    "        trial, numerical_columns, categorical_columns\n",
    "    )\n",
    "    \n",
    "    learner = instantiate_learner(trial)\n",
    "    \n",
    "    model_pipe = Pipeline([\n",
    "    ('processor', processor),\n",
    "    ('model', learner)\n",
    "    ])\n",
    "    \n",
    "    model = compose.TransformedTargetRegressor(regressor= model_pipe,\n",
    "                                                func=np.log, inverse_func=np.exp)\n",
    "    \n",
    "    return model"
   ]
  },
  {
   "cell_type": "code",
   "execution_count": 97,
   "id": "810cda1e",
   "metadata": {},
   "outputs": [],
   "source": [
    "def objective(trial : Trial, X : DataFrame,\n",
    "              y : np.ndarray | Series, \n",
    "              numerical_columns : Optional[list[str]]=None, \n",
    "              categorical_columns : Optional[list[str]]=None, \n",
    "              random_state : int=42) -> float:\n",
    "    \n",
    "    if numerical_columns is None:\n",
    "        numerical_columns = [\n",
    "            *X.select_dtypes(exclude=['object', 'category']).columns\n",
    "        ]\n",
    "    \n",
    "    if categorical_columns is None:\n",
    "        categorical_columns = [\n",
    "            *X.select_dtypes(include=['object', 'category']).columns\n",
    "        ]\n",
    "    \n",
    "    model = instantiate_model(trial, numerical_columns, categorical_columns)\n",
    "    kf = KFold(n_splits=5, shuffle=True, random_state=random_state)\n",
    "    r2 = make_scorer(r2_score)\n",
    "    scores = cross_val_score(model, X, y, scoring= r2, cv=kf)\n",
    "    \n",
    "    return np.min([np.mean(scores), np.median([scores])])"
   ]
  },
  {
   "cell_type": "code",
   "execution_count": 98,
   "id": "9c888d9a",
   "metadata": {},
   "outputs": [],
   "source": [
    "df = pd.read_csv('df_normal_quality.csv', index_col=0)\n",
    "y = df.SalePrice\n",
    "X = df.drop(['PID', 'SalePrice'], axis =1).copy()"
   ]
  },
  {
   "cell_type": "code",
   "execution_count": 99,
   "id": "c10a9fbb",
   "metadata": {},
   "outputs": [
    {
     "name": "stderr",
     "output_type": "stream",
     "text": [
      "[I 2024-05-06 14:58:59,518] A new study created in memory with name: optimization\n"
     ]
    }
   ],
   "source": [
    "from optuna import create_study\n",
    "\n",
    "study = create_study(study_name='optimization', direction='maximize')"
   ]
  },
  {
   "cell_type": "code",
   "execution_count": 100,
   "id": "ff1be73b",
   "metadata": {},
   "outputs": [
    {
     "name": "stderr",
     "output_type": "stream",
     "text": [
      "[I 2024-05-06 14:59:03,344] Trial 0 finished with value: 0.9471554321468393 and parameters: {'algorithm': 'ridge', 'alpha': 0.6010505222092465}. Best is trial 0 with value: 0.9471554321468393.\n",
      "[I 2024-05-06 14:59:03,735] Trial 1 finished with value: 0.9389672175428982 and parameters: {'algorithm': 'lasso', 'alpha': 0.006162467158491157}. Best is trial 0 with value: 0.9471554321468393.\n",
      "[I 2024-05-06 14:59:04,136] Trial 2 finished with value: 0.9458097018173504 and parameters: {'algorithm': 'ridge', 'alpha': 0.001244729405956262}. Best is trial 0 with value: 0.9471554321468393.\n",
      "[I 2024-05-06 14:59:04,573] Trial 3 finished with value: 0.9473545665481765 and parameters: {'algorithm': 'ridge', 'alpha': 0.7759373016028097}. Best is trial 3 with value: 0.9473545665481765.\n",
      "[I 2024-05-06 14:59:04,969] Trial 4 finished with value: 0.9496058571087869 and parameters: {'algorithm': 'ridge', 'alpha': 31.29323725185007}. Best is trial 4 with value: 0.9496058571087869.\n",
      "[I 2024-05-06 14:59:05,394] Trial 5 finished with value: 0.9294302327835954 and parameters: {'algorithm': 'lasso', 'alpha': 0.016555231662187374}. Best is trial 4 with value: 0.9496058571087869.\n",
      "[I 2024-05-06 14:59:05,994] Trial 6 finished with value: 0.9500398525687235 and parameters: {'algorithm': 'lasso', 'alpha': 0.0004582749531777171}. Best is trial 6 with value: 0.9500398525687235.\n",
      "[I 2024-05-06 14:59:06,369] Trial 7 finished with value: -0.029441307066881618 and parameters: {'algorithm': 'lasso', 'alpha': 5.534750298353362}. Best is trial 6 with value: 0.9500398525687235.\n",
      "[I 2024-05-06 14:59:16,977] Trial 8 finished with value: -5.373464236107701 and parameters: {'algorithm': 'xgb', 'learning_rate': 0.0016114400564732941, 'max_depth': 10, 'subsample': 0.8558105105039219, 'colsample_bytree': 0.2965777047582458, 'min_child_weight': 9}. Best is trial 6 with value: 0.9500398525687235.\n",
      "[I 2024-05-06 14:59:17,844] Trial 9 finished with value: 0.9500902328681612 and parameters: {'algorithm': 'lasso', 'alpha': 0.00017637287605472746}. Best is trial 9 with value: 0.9500902328681612.\n",
      "[I 2024-05-06 14:59:27,072] Trial 10 finished with value: 0.9057358214629305 and parameters: {'algorithm': 'xgb', 'learning_rate': 0.07748571364848593, 'max_depth': 1, 'subsample': 0.1081539403017378, 'colsample_bytree': 0.8774623283402829, 'min_child_weight': 20}. Best is trial 9 with value: 0.9500902328681612.\n",
      "[I 2024-05-06 14:59:28,085] Trial 11 finished with value: 0.9498510406483309 and parameters: {'algorithm': 'lasso', 'alpha': 0.00011995197253262029}. Best is trial 9 with value: 0.9500902328681612.\n",
      "[I 2024-05-06 14:59:29,102] Trial 12 finished with value: 0.9497956445257467 and parameters: {'algorithm': 'lasso', 'alpha': 0.00011207889164253218}. Best is trial 9 with value: 0.9500902328681612.\n",
      "[I 2024-05-06 14:59:29,618] Trial 13 finished with value: 0.9473793968660728 and parameters: {'algorithm': 'lasso', 'alpha': 0.0011740965051880814}. Best is trial 9 with value: 0.9500902328681612.\n",
      "[I 2024-05-06 14:59:30,045] Trial 14 finished with value: 0.945086273060117 and parameters: {'algorithm': 'lasso', 'alpha': 0.0015503076984355424}. Best is trial 9 with value: 0.9500902328681612.\n",
      "[I 2024-05-06 14:59:30,452] Trial 15 finished with value: 0.891919680699119 and parameters: {'algorithm': 'lasso', 'alpha': 0.03649585335839899}. Best is trial 9 with value: 0.9500902328681612.\n",
      "[I 2024-05-06 14:59:38,160] Trial 16 finished with value: -6.669394335705886 and parameters: {'algorithm': 'xgb', 'learning_rate': 0.0001093221261079389, 'max_depth': 6, 'subsample': 0.9975559933333737, 'colsample_bytree': 0.08773403630454318, 'min_child_weight': 1}. Best is trial 9 with value: 0.9500902328681612.\n",
      "[I 2024-05-06 14:59:38,785] Trial 17 finished with value: 0.9502165794308643 and parameters: {'algorithm': 'lasso', 'alpha': 0.0003726843301350919}. Best is trial 17 with value: 0.9502165794308643.\n",
      "[I 2024-05-06 14:59:39,168] Trial 18 finished with value: 0.3389464804948818 and parameters: {'algorithm': 'lasso', 'alpha': 0.20023362384311136}. Best is trial 17 with value: 0.9502165794308643.\n",
      "[I 2024-05-06 14:59:48,493] Trial 19 finished with value: 0.8811693917915496 and parameters: {'algorithm': 'xgb', 'learning_rate': 0.08019600545172129, 'max_depth': 1, 'subsample': 0.06393922828854465, 'colsample_bytree': 0.9630028278354485, 'min_child_weight': 20}. Best is trial 17 with value: 0.9502165794308643.\n",
      "[I 2024-05-06 14:59:48,927] Trial 20 finished with value: 0.9409100930605206 and parameters: {'algorithm': 'lasso', 'alpha': 0.004216169019651566}. Best is trial 17 with value: 0.9502165794308643.\n",
      "[I 2024-05-06 14:59:49,585] Trial 21 finished with value: 0.9502535145176715 and parameters: {'algorithm': 'lasso', 'alpha': 0.00034608379326552273}. Best is trial 21 with value: 0.9502535145176715.\n",
      "[I 2024-05-06 14:59:50,335] Trial 22 finished with value: 0.950247724018946 and parameters: {'algorithm': 'lasso', 'alpha': 0.00024482064135119533}. Best is trial 21 with value: 0.9502535145176715.\n",
      "[I 2024-05-06 14:59:50,904] Trial 23 finished with value: 0.9499686482042866 and parameters: {'algorithm': 'lasso', 'alpha': 0.000487776516858514}. Best is trial 21 with value: 0.9502535145176715.\n",
      "[I 2024-05-06 14:59:51,335] Trial 24 finished with value: 0.9397985591072718 and parameters: {'algorithm': 'lasso', 'alpha': 0.005239588389351667}. Best is trial 21 with value: 0.9502535145176715.\n",
      "[I 2024-05-06 14:59:51,984] Trial 25 finished with value: 0.9500469224113856 and parameters: {'algorithm': 'lasso', 'alpha': 0.0004550420502021263}. Best is trial 21 with value: 0.9502535145176715.\n",
      "[I 2024-05-06 14:59:52,426] Trial 26 finished with value: 0.9224764929436381 and parameters: {'algorithm': 'lasso', 'alpha': 0.02091016333584503}. Best is trial 21 with value: 0.9502535145176715.\n",
      "[I 2024-05-06 14:59:52,873] Trial 27 finished with value: 0.9431142980201922 and parameters: {'algorithm': 'lasso', 'alpha': 0.002367137437004208}. Best is trial 21 with value: 0.9502535145176715.\n",
      "[I 2024-05-06 14:59:53,268] Trial 28 finished with value: 0.9458058722948917 and parameters: {'algorithm': 'ridge', 'alpha': 0.0003508193855269366}. Best is trial 21 with value: 0.9502535145176715.\n",
      "[I 2024-05-06 15:00:06,976] Trial 29 finished with value: -2.8957501035877273 and parameters: {'algorithm': 'xgb', 'learning_rate': 0.0023166212634019153, 'max_depth': 10, 'subsample': 0.5235492940540687, 'colsample_bytree': 0.6157251098470551, 'min_child_weight': 10}. Best is trial 21 with value: 0.9502535145176715.\n",
      "[I 2024-05-06 15:00:07,401] Trial 30 finished with value: 0.9460881378786741 and parameters: {'algorithm': 'ridge', 'alpha': 0.07419825096515736}. Best is trial 21 with value: 0.9502535145176715.\n",
      "[I 2024-05-06 15:00:08,452] Trial 31 finished with value: 0.9497745164857381 and parameters: {'algorithm': 'lasso', 'alpha': 0.0001098338559889162}. Best is trial 21 with value: 0.9502535145176715.\n",
      "[I 2024-05-06 15:00:09,179] Trial 32 finished with value: 0.9502797535996578 and parameters: {'algorithm': 'lasso', 'alpha': 0.00026399630354087886}. Best is trial 32 with value: 0.9502797535996578.\n",
      "[I 2024-05-06 15:00:09,685] Trial 33 finished with value: 0.9486362756580426 and parameters: {'algorithm': 'lasso', 'alpha': 0.0008472387752849562}. Best is trial 32 with value: 0.9502797535996578.\n",
      "[I 2024-05-06 15:00:10,310] Trial 34 finished with value: 0.9502759959747529 and parameters: {'algorithm': 'lasso', 'alpha': 0.0003204788571913823}. Best is trial 32 with value: 0.9502797535996578.\n",
      "[I 2024-05-06 15:00:10,737] Trial 35 finished with value: 0.9458054065930874 and parameters: {'algorithm': 'ridge', 'alpha': 0.00024230102105339654}. Best is trial 32 with value: 0.9502797535996578.\n",
      "[I 2024-05-06 15:00:11,136] Trial 36 finished with value: 0.9427418045630881 and parameters: {'algorithm': 'lasso', 'alpha': 0.002615056478718971}. Best is trial 32 with value: 0.9502797535996578.\n",
      "[I 2024-05-06 15:00:11,645] Trial 37 finished with value: 0.9485421626102486 and parameters: {'algorithm': 'lasso', 'alpha': 0.0008701193893983413}. Best is trial 32 with value: 0.9502797535996578.\n",
      "[I 2024-05-06 15:00:12,078] Trial 38 finished with value: 0.9373437476773958 and parameters: {'algorithm': 'lasso', 'alpha': 0.009343031672547655}. Best is trial 32 with value: 0.9502797535996578.\n"
     ]
    },
    {
     "name": "stderr",
     "output_type": "stream",
     "text": [
      "[I 2024-05-06 15:00:12,528] Trial 39 finished with value: 0.9485588883459293 and parameters: {'algorithm': 'ridge', 'alpha': 3.0896988698846903}. Best is trial 32 with value: 0.9502797535996578.\n",
      "[I 2024-05-06 15:00:13,049] Trial 40 finished with value: 0.9490795432899979 and parameters: {'algorithm': 'lasso', 'alpha': 0.0007487749013093245}. Best is trial 32 with value: 0.9502797535996578.\n",
      "[I 2024-05-06 15:00:13,752] Trial 41 finished with value: 0.9502825368726407 and parameters: {'algorithm': 'lasso', 'alpha': 0.00026577767050225043}. Best is trial 41 with value: 0.9502825368726407.\n",
      "[I 2024-05-06 15:00:14,485] Trial 42 finished with value: 0.9502294508274328 and parameters: {'algorithm': 'lasso', 'alpha': 0.00023634827143863648}. Best is trial 41 with value: 0.9502825368726407.\n",
      "[I 2024-05-06 15:00:14,910] Trial 43 finished with value: 0.9430131991735313 and parameters: {'algorithm': 'lasso', 'alpha': 0.002427898969308335}. Best is trial 41 with value: 0.9502825368726407.\n",
      "[I 2024-05-06 15:00:15,534] Trial 44 finished with value: 0.9502727641231721 and parameters: {'algorithm': 'lasso', 'alpha': 0.000325062047327948}. Best is trial 41 with value: 0.9502825368726407.\n",
      "[I 2024-05-06 15:00:16,034] Trial 45 finished with value: 0.9492408791368658 and parameters: {'algorithm': 'lasso', 'alpha': 0.0007138085942687639}. Best is trial 41 with value: 0.9502825368726407.\n",
      "[I 2024-05-06 15:00:16,493] Trial 46 finished with value: 0.9448349663520008 and parameters: {'algorithm': 'lasso', 'alpha': 0.001600153468480079}. Best is trial 41 with value: 0.9502825368726407.\n",
      "[I 2024-05-06 15:00:25,595] Trial 47 finished with value: -6.669368157650402 and parameters: {'algorithm': 'xgb', 'learning_rate': 0.00011521087399364599, 'max_depth': 6, 'subsample': 0.5277084716528383, 'colsample_bytree': 0.5662117236927399, 'min_child_weight': 1}. Best is trial 41 with value: 0.9502825368726407.\n",
      "[I 2024-05-06 15:00:26,385] Trial 48 finished with value: 0.9500862499579659 and parameters: {'algorithm': 'lasso', 'alpha': 0.0001752770246621694}. Best is trial 41 with value: 0.9502825368726407.\n",
      "[I 2024-05-06 15:00:26,802] Trial 49 finished with value: 0.9371932960385145 and parameters: {'algorithm': 'lasso', 'alpha': 0.009528470841126065}. Best is trial 41 with value: 0.9502825368726407.\n",
      "[I 2024-05-06 15:00:27,209] Trial 50 finished with value: 0.9470141744249545 and parameters: {'algorithm': 'ridge', 'alpha': 0.4966722669613841}. Best is trial 41 with value: 0.9502825368726407.\n",
      "[I 2024-05-06 15:00:27,901] Trial 51 finished with value: 0.9502119657115078 and parameters: {'algorithm': 'lasso', 'alpha': 0.00022775953671817198}. Best is trial 41 with value: 0.9502825368726407.\n",
      "[I 2024-05-06 15:00:28,967] Trial 52 finished with value: 0.949734434572683 and parameters: {'algorithm': 'lasso', 'alpha': 0.00010612659023547114}. Best is trial 41 with value: 0.9502825368726407.\n",
      "[I 2024-05-06 15:00:29,601] Trial 53 finished with value: 0.9501974068395576 and parameters: {'algorithm': 'lasso', 'alpha': 0.0003830467672882016}. Best is trial 41 with value: 0.9502825368726407.\n",
      "[I 2024-05-06 15:00:30,334] Trial 54 finished with value: 0.950190484820807 and parameters: {'algorithm': 'lasso', 'alpha': 0.00021627436540954526}. Best is trial 41 with value: 0.9502825368726407.\n",
      "[I 2024-05-06 15:00:30,792] Trial 55 finished with value: 0.945629603904475 and parameters: {'algorithm': 'lasso', 'alpha': 0.001445853412310756}. Best is trial 41 with value: 0.9502825368726407.\n",
      "[I 2024-05-06 15:00:31,143] Trial 56 finished with value: -0.029441307066881618 and parameters: {'algorithm': 'lasso', 'alpha': 53.23092951617624}. Best is trial 41 with value: 0.9502825368726407.\n",
      "[I 2024-05-06 15:00:45,364] Trial 57 finished with value: 0.9362219094296959 and parameters: {'algorithm': 'xgb', 'learning_rate': 0.011236477438678406, 'max_depth': 4, 'subsample': 0.41151468106452377, 'colsample_bytree': 0.330480957357973, 'min_child_weight': 15}. Best is trial 41 with value: 0.9502825368726407.\n",
      "[I 2024-05-06 15:00:45,913] Trial 58 finished with value: 0.9495661914710423 and parameters: {'algorithm': 'lasso', 'alpha': 0.0006269662288422743}. Best is trial 41 with value: 0.9502825368726407.\n",
      "[I 2024-05-06 15:00:46,618] Trial 59 finished with value: 0.9502879072815185 and parameters: {'algorithm': 'lasso', 'alpha': 0.00029775083715590834}. Best is trial 59 with value: 0.9502879072815185.\n",
      "[I 2024-05-06 15:00:46,987] Trial 60 finished with value: -0.029441307066881618 and parameters: {'algorithm': 'lasso', 'alpha': 15.099326747885836}. Best is trial 59 with value: 0.9502879072815185.\n",
      "[I 2024-05-06 15:00:47,894] Trial 61 finished with value: 0.9500333708547464 and parameters: {'algorithm': 'lasso', 'alpha': 0.00016120434434155882}. Best is trial 59 with value: 0.9502879072815185.\n",
      "[I 2024-05-06 15:00:48,551] Trial 62 finished with value: 0.9502370410586698 and parameters: {'algorithm': 'lasso', 'alpha': 0.0003589828022351704}. Best is trial 59 with value: 0.9502879072815185.\n",
      "[I 2024-05-06 15:00:49,235] Trial 63 finished with value: 0.9502750912961979 and parameters: {'algorithm': 'lasso', 'alpha': 0.0003217979072940209}. Best is trial 59 with value: 0.9502879072815185.\n",
      "[I 2024-05-06 15:00:49,727] Trial 64 finished with value: 0.9472882006945464 and parameters: {'algorithm': 'lasso', 'alpha': 0.0011967427390884194}. Best is trial 59 with value: 0.9502879072815185.\n",
      "[I 2024-05-06 15:00:50,323] Trial 65 finished with value: 0.9499221783577119 and parameters: {'algorithm': 'lasso', 'alpha': 0.0005043219466697327}. Best is trial 59 with value: 0.9502879072815185.\n",
      "[I 2024-05-06 15:00:51,273] Trial 66 finished with value: 0.9499614525388406 and parameters: {'algorithm': 'lasso', 'alpha': 0.00014659589751746423}. Best is trial 59 with value: 0.9502879072815185.\n",
      "[I 2024-05-06 15:01:03,060] Trial 67 finished with value: -6.649379579649593 and parameters: {'algorithm': 'xgb', 'learning_rate': 0.0005787891082612613, 'max_depth': 3, 'subsample': 0.7512158659814847, 'colsample_bytree': 0.7802016742983691, 'min_child_weight': 5}. Best is trial 59 with value: 0.9502879072815185.\n",
      "[I 2024-05-06 15:01:03,717] Trial 68 finished with value: 0.9502742629973625 and parameters: {'algorithm': 'lasso', 'alpha': 0.00032279050356379395}. Best is trial 59 with value: 0.9502879072815185.\n",
      "[I 2024-05-06 15:01:04,177] Trial 69 finished with value: 0.941854420726292 and parameters: {'algorithm': 'lasso', 'alpha': 0.003229013154984103}. Best is trial 59 with value: 0.9502879072815185.\n",
      "[I 2024-05-06 15:01:04,668] Trial 70 finished with value: 0.9483040046031498 and parameters: {'algorithm': 'lasso', 'alpha': 0.0009304375157316136}. Best is trial 59 with value: 0.9502879072815185.\n",
      "[I 2024-05-06 15:01:05,310] Trial 71 finished with value: 0.9502735478038954 and parameters: {'algorithm': 'lasso', 'alpha': 0.00032387498231343473}. Best is trial 59 with value: 0.9502879072815185.\n",
      "[I 2024-05-06 15:01:06,450] Trial 72 finished with value: 0.9496698612945007 and parameters: {'algorithm': 'lasso', 'alpha': 0.00010020749752970585}. Best is trial 59 with value: 0.9502879072815185.\n",
      "[I 2024-05-06 15:01:07,006] Trial 73 finished with value: 0.9499618729169731 and parameters: {'algorithm': 'lasso', 'alpha': 0.0004902540297799311}. Best is trial 59 with value: 0.9502879072815185.\n",
      "[I 2024-05-06 15:01:07,676] Trial 74 finished with value: 0.9502883231525254 and parameters: {'algorithm': 'lasso', 'alpha': 0.0002969173890045437}. Best is trial 74 with value: 0.9502883231525254.\n",
      "[I 2024-05-06 15:01:08,299] Trial 75 finished with value: 0.9502953233147071 and parameters: {'algorithm': 'lasso', 'alpha': 0.00028454678060790855}. Best is trial 75 with value: 0.9502953233147071.\n",
      "[I 2024-05-06 15:01:08,742] Trial 76 finished with value: 0.9458050864155652 and parameters: {'algorithm': 'ridge', 'alpha': 0.00016771658897848712}. Best is trial 75 with value: 0.9502953233147071.\n",
      "[I 2024-05-06 15:01:09,250] Trial 77 finished with value: 0.9497137160696887 and parameters: {'algorithm': 'lasso', 'alpha': 0.000578084982033051}. Best is trial 75 with value: 0.9502953233147071.\n",
      "[I 2024-05-06 15:01:09,942] Trial 78 finished with value: 0.9502815924227817 and parameters: {'algorithm': 'lasso', 'alpha': 0.0002650869138932816}. Best is trial 75 with value: 0.9502953233147071.\n"
     ]
    },
    {
     "name": "stderr",
     "output_type": "stream",
     "text": [
      "[I 2024-05-06 15:01:10,766] Trial 79 finished with value: 0.9499926313562599 and parameters: {'algorithm': 'lasso', 'alpha': 0.0001529524006218151}. Best is trial 75 with value: 0.9502953233147071.\n",
      "[I 2024-05-06 15:01:11,254] Trial 80 finished with value: 0.9481827933626569 and parameters: {'algorithm': 'lasso', 'alpha': 0.0009624329368942344}. Best is trial 75 with value: 0.9502953233147071.\n",
      "[I 2024-05-06 15:01:11,960] Trial 81 finished with value: 0.9502672109276192 and parameters: {'algorithm': 'lasso', 'alpha': 0.00025615699836524443}. Best is trial 75 with value: 0.9502953233147071.\n",
      "[I 2024-05-06 15:01:12,599] Trial 82 finished with value: 0.9502963988384143 and parameters: {'algorithm': 'lasso', 'alpha': 0.0002775282989311552}. Best is trial 82 with value: 0.9502963988384143.\n",
      "[I 2024-05-06 15:01:13,037] Trial 83 finished with value: 0.9439723885844347 and parameters: {'algorithm': 'lasso', 'alpha': 0.001863957343085763}. Best is trial 82 with value: 0.9502963988384143.\n",
      "[I 2024-05-06 15:01:13,549] Trial 84 finished with value: 0.9496589312348584 and parameters: {'algorithm': 'lasso', 'alpha': 0.0005977110689793054}. Best is trial 82 with value: 0.9502963988384143.\n",
      "[I 2024-05-06 15:01:14,260] Trial 85 finished with value: 0.9502098986541375 and parameters: {'algorithm': 'lasso', 'alpha': 0.0002265048002483477}. Best is trial 82 with value: 0.9502963988384143.\n",
      "[I 2024-05-06 15:01:27,801] Trial 86 finished with value: 0.9113729713455464 and parameters: {'algorithm': 'xgb', 'learning_rate': 0.01240560912844289, 'max_depth': 8, 'subsample': 0.2704974479544986, 'colsample_bytree': 0.061997530866703454, 'min_child_weight': 15}. Best is trial 82 with value: 0.9502963988384143.\n",
      "[I 2024-05-06 15:01:28,765] Trial 87 finished with value: 0.9499303692169431 and parameters: {'algorithm': 'lasso', 'alpha': 0.00014044844521037702}. Best is trial 82 with value: 0.9502963988384143.\n",
      "[I 2024-05-06 15:01:29,216] Trial 88 finished with value: 0.9458062548545307 and parameters: {'algorithm': 'ridge', 'alpha': 0.00043999444012187577}. Best is trial 82 with value: 0.9502963988384143.\n",
      "[I 2024-05-06 15:01:29,732] Trial 89 finished with value: 0.9476084501766951 and parameters: {'algorithm': 'lasso', 'alpha': 0.0011161328813483}. Best is trial 82 with value: 0.9502963988384143.\n",
      "[I 2024-05-06 15:01:30,433] Trial 90 finished with value: 0.9502964822130379 and parameters: {'algorithm': 'lasso', 'alpha': 0.00028182509069933046}. Best is trial 90 with value: 0.9502964822130379.\n",
      "[I 2024-05-06 15:01:31,191] Trial 91 finished with value: 0.9501962444593653 and parameters: {'algorithm': 'lasso', 'alpha': 0.00021910412365379805}. Best is trial 90 with value: 0.9502964822130379.\n",
      "[I 2024-05-06 15:01:31,858] Trial 92 finished with value: 0.9502926907956504 and parameters: {'algorithm': 'lasso', 'alpha': 0.00028892319193558495}. Best is trial 90 with value: 0.9502964822130379.\n",
      "[I 2024-05-06 15:01:32,847] Trial 93 finished with value: 0.9498802105550059 and parameters: {'algorithm': 'lasso', 'alpha': 0.00012601304274520566}. Best is trial 90 with value: 0.9502964822130379.\n",
      "[I 2024-05-06 15:01:33,349] Trial 94 finished with value: 0.9493494195943446 and parameters: {'algorithm': 'lasso', 'alpha': 0.0006867677082010171}. Best is trial 90 with value: 0.9502964822130379.\n",
      "[I 2024-05-06 15:01:33,716] Trial 95 finished with value: 0.6948625509417926 and parameters: {'algorithm': 'lasso', 'alpha': 0.10617565798782047}. Best is trial 90 with value: 0.9502964822130379.\n",
      "[I 2024-05-06 15:01:34,391] Trial 96 finished with value: 0.9502862831182425 and parameters: {'algorithm': 'lasso', 'alpha': 0.00026874245328880713}. Best is trial 90 with value: 0.9502964822130379.\n",
      "[I 2024-05-06 15:01:35,108] Trial 97 finished with value: 0.9501449871277803 and parameters: {'algorithm': 'lasso', 'alpha': 0.0001942292553580477}. Best is trial 90 with value: 0.9502964822130379.\n",
      "[I 2024-05-06 15:01:35,683] Trial 98 finished with value: 0.9500888877970954 and parameters: {'algorithm': 'lasso', 'alpha': 0.0004343961432539565}. Best is trial 90 with value: 0.9502964822130379.\n",
      "[I 2024-05-06 15:01:36,349] Trial 99 finished with value: 0.9502964373402069 and parameters: {'algorithm': 'lasso', 'alpha': 0.0002822324255457903}. Best is trial 90 with value: 0.9502964822130379.\n",
      "[I 2024-05-06 15:01:37,491] Trial 100 finished with value: 0.9496753512755902 and parameters: {'algorithm': 'lasso', 'alpha': 0.00010067470572454919}. Best is trial 90 with value: 0.9502964822130379.\n",
      "[I 2024-05-06 15:01:38,215] Trial 101 finished with value: 0.9502449512569566 and parameters: {'algorithm': 'lasso', 'alpha': 0.00024337137393535218}. Best is trial 90 with value: 0.9502964822130379.\n",
      "[I 2024-05-06 15:01:38,847] Trial 102 finished with value: 0.9502955909186339 and parameters: {'algorithm': 'lasso', 'alpha': 0.0002840324973679434}. Best is trial 90 with value: 0.9502964822130379.\n",
      "[I 2024-05-06 15:01:39,463] Trial 103 finished with value: 0.9500715177401252 and parameters: {'algorithm': 'lasso', 'alpha': 0.0004429356786116208}. Best is trial 90 with value: 0.9502964822130379.\n",
      "[I 2024-05-06 15:01:39,982] Trial 104 finished with value: 0.9493553150559639 and parameters: {'algorithm': 'lasso', 'alpha': 0.0006852289007676667}. Best is trial 90 with value: 0.9502964822130379.\n",
      "[I 2024-05-06 15:01:40,774] Trial 105 finished with value: 0.9500636883309272 and parameters: {'algorithm': 'lasso', 'alpha': 0.00016777305469109388}. Best is trial 90 with value: 0.9502964822130379.\n",
      "[I 2024-05-06 15:01:41,157] Trial 106 finished with value: -0.029441307066881618 and parameters: {'algorithm': 'lasso', 'alpha': 2.718674441824922}. Best is trial 90 with value: 0.9502964822130379.\n",
      "[I 2024-05-06 15:02:04,347] Trial 107 finished with value: 0.9456992597139712 and parameters: {'algorithm': 'xgb', 'learning_rate': 0.010250741887711978, 'max_depth': 8, 'subsample': 0.699136270124052, 'colsample_bytree': 0.34676345983827406, 'min_child_weight': 6}. Best is trial 90 with value: 0.9502964822130379.\n",
      "[I 2024-05-06 15:02:04,999] Trial 108 finished with value: 0.9502914624491947 and parameters: {'algorithm': 'lasso', 'alpha': 0.000290966147484301}. Best is trial 90 with value: 0.9502964822130379.\n",
      "[I 2024-05-06 15:02:05,524] Trial 109 finished with value: 0.9487796957195679 and parameters: {'algorithm': 'lasso', 'alpha': 0.0008154095304730813}. Best is trial 90 with value: 0.9502964822130379.\n",
      "[I 2024-05-06 15:02:05,966] Trial 110 finished with value: 0.9458059631669112 and parameters: {'algorithm': 'ridge', 'alpha': 0.00037199925344242533}. Best is trial 90 with value: 0.9502964822130379.\n",
      "[I 2024-05-06 15:02:06,718] Trial 111 finished with value: 0.9502778163259922 and parameters: {'algorithm': 'lasso', 'alpha': 0.0002628523102139585}. Best is trial 90 with value: 0.9502964822130379.\n",
      "[I 2024-05-06 15:02:07,458] Trial 112 finished with value: 0.9502836280725976 and parameters: {'algorithm': 'lasso', 'alpha': 0.0003044538444315895}. Best is trial 90 with value: 0.9502964822130379.\n",
      "[I 2024-05-06 15:02:08,297] Trial 113 finished with value: 0.9501260316720657 and parameters: {'algorithm': 'lasso', 'alpha': 0.0001869134239066806}. Best is trial 90 with value: 0.9502964822130379.\n",
      "[I 2024-05-06 15:02:08,868] Trial 114 finished with value: 0.9498013443197497 and parameters: {'algorithm': 'lasso', 'alpha': 0.0005452808403101624}. Best is trial 90 with value: 0.9502964822130379.\n",
      "[I 2024-05-06 15:02:09,533] Trial 115 finished with value: 0.9502845562820639 and parameters: {'algorithm': 'lasso', 'alpha': 0.0003030787208159202}. Best is trial 90 with value: 0.9502964822130379.\n",
      "[I 2024-05-06 15:02:10,225] Trial 116 finished with value: 0.9502582588235127 and parameters: {'algorithm': 'lasso', 'alpha': 0.0003421151990867715}. Best is trial 90 with value: 0.9502964822130379.\n",
      "[I 2024-05-06 15:02:11,239] Trial 117 finished with value: 0.9499275892013603 and parameters: {'algorithm': 'lasso', 'alpha': 0.00013966170638581}. Best is trial 90 with value: 0.9502964822130379.\n",
      "[I 2024-05-06 15:02:11,723] Trial 118 finished with value: 0.9442351128117648 and parameters: {'algorithm': 'lasso', 'alpha': 0.0017689970679156401}. Best is trial 90 with value: 0.9502964822130379.\n",
      "[I 2024-05-06 15:02:12,247] Trial 119 finished with value: 0.9499741667505186 and parameters: {'algorithm': 'lasso', 'alpha': 0.0004857680768819713}. Best is trial 90 with value: 0.9502964822130379.\n"
     ]
    },
    {
     "name": "stderr",
     "output_type": "stream",
     "text": [
      "[I 2024-05-06 15:02:13,063] Trial 120 finished with value: 0.9501437506612426 and parameters: {'algorithm': 'lasso', 'alpha': 0.00019366385317210036}. Best is trial 90 with value: 0.9502964822130379.\n",
      "[I 2024-05-06 15:02:13,733] Trial 121 finished with value: 0.9502898226246657 and parameters: {'algorithm': 'lasso', 'alpha': 0.00029322512255107095}. Best is trial 90 with value: 0.9502964822130379.\n",
      "[I 2024-05-06 15:02:14,178] Trial 122 finished with value: 0.950172458965406 and parameters: {'algorithm': 'lasso', 'alpha': 0.0003937165488046054}. Best is trial 90 with value: 0.9502964822130379.\n",
      "[I 2024-05-06 15:02:14,889] Trial 123 finished with value: 0.9498818867954568 and parameters: {'algorithm': 'lasso', 'alpha': 0.00012651680490057297}. Best is trial 90 with value: 0.9502964822130379.\n",
      "[I 2024-05-06 15:02:15,518] Trial 124 finished with value: 0.9502742213840186 and parameters: {'algorithm': 'lasso', 'alpha': 0.00032284555737474547}. Best is trial 90 with value: 0.9502964822130379.\n",
      "[I 2024-05-06 15:02:16,012] Trial 125 finished with value: 0.948010230424984 and parameters: {'algorithm': 'lasso', 'alpha': 0.0010093248243163574}. Best is trial 90 with value: 0.9502964822130379.\n",
      "[I 2024-05-06 15:02:16,539] Trial 126 finished with value: 0.9494725800498989 and parameters: {'algorithm': 'lasso', 'alpha': 0.0006538962082803727}. Best is trial 90 with value: 0.9502964822130379.\n",
      "[I 2024-05-06 15:02:17,211] Trial 127 finished with value: 0.9502881420877998 and parameters: {'algorithm': 'lasso', 'alpha': 0.0002701530338719892}. Best is trial 90 with value: 0.9502964822130379.\n",
      "[I 2024-05-06 15:02:18,032] Trial 128 finished with value: 0.9501299921214527 and parameters: {'algorithm': 'lasso', 'alpha': 0.00018822987713131288}. Best is trial 90 with value: 0.9502964822130379.\n",
      "[I 2024-05-06 15:02:26,304] Trial 129 finished with value: -6.665047997522985 and parameters: {'algorithm': 'xgb', 'learning_rate': 0.00037758996511927124, 'max_depth': 3, 'subsample': 0.2213408681389885, 'colsample_bytree': 0.7364584373058741, 'min_child_weight': 15}. Best is trial 90 with value: 0.9502964822130379.\n",
      "[I 2024-05-06 15:02:26,882] Trial 130 finished with value: 0.9499275651962751 and parameters: {'algorithm': 'lasso', 'alpha': 0.0005025161860693752}. Best is trial 90 with value: 0.9502964822130379.\n",
      "[I 2024-05-06 15:02:27,483] Trial 131 finished with value: 0.9502859312054707 and parameters: {'algorithm': 'lasso', 'alpha': 0.00030121839415697064}. Best is trial 90 with value: 0.9502964822130379.\n",
      "[I 2024-05-06 15:02:27,877] Trial 132 finished with value: 0.9090691608791975 and parameters: {'algorithm': 'lasso', 'alpha': 0.02760617308212424}. Best is trial 90 with value: 0.9502964822130379.\n",
      "[I 2024-05-06 15:02:28,531] Trial 133 finished with value: 0.9502947964782023 and parameters: {'algorithm': 'lasso', 'alpha': 0.0002755064260576385}. Best is trial 90 with value: 0.9502964822130379.\n",
      "[I 2024-05-06 15:02:29,267] Trial 134 finished with value: 0.9502028187641546 and parameters: {'algorithm': 'lasso', 'alpha': 0.00022243048023622906}. Best is trial 90 with value: 0.9502964822130379.\n",
      "[I 2024-05-06 15:02:30,225] Trial 135 finished with value: 0.9499426420022609 and parameters: {'algorithm': 'lasso', 'alpha': 0.00014320019113867708}. Best is trial 90 with value: 0.9502964822130379.\n",
      "[I 2024-05-06 15:02:30,940] Trial 136 finished with value: 0.9502861840712985 and parameters: {'algorithm': 'lasso', 'alpha': 0.00026866592038427895}. Best is trial 90 with value: 0.9502964822130379.\n",
      "[I 2024-05-06 15:02:31,331] Trial 137 finished with value: 0.9458062161166941 and parameters: {'algorithm': 'ridge', 'alpha': 0.0004309633494336917}. Best is trial 90 with value: 0.9502964822130379.\n",
      "[I 2024-05-06 15:02:31,870] Trial 138 finished with value: 0.9487904462388294 and parameters: {'algorithm': 'lasso', 'alpha': 0.00081294913853769}. Best is trial 90 with value: 0.9502964822130379.\n",
      "[I 2024-05-06 15:02:32,669] Trial 139 finished with value: 0.9501620529377204 and parameters: {'algorithm': 'lasso', 'alpha': 0.00020297584486418416}. Best is trial 90 with value: 0.9502964822130379.\n",
      "[I 2024-05-06 15:02:33,762] Trial 140 finished with value: 0.9498618400883064 and parameters: {'algorithm': 'lasso', 'alpha': 0.00012195713425037956}. Best is trial 90 with value: 0.9502964822130379.\n",
      "[I 2024-05-06 15:02:34,447] Trial 141 finished with value: 0.9502649728528159 and parameters: {'algorithm': 'lasso', 'alpha': 0.00025467710128659193}. Best is trial 90 with value: 0.9502964822130379.\n",
      "[I 2024-05-06 15:02:35,000] Trial 142 finished with value: 0.9501802467301577 and parameters: {'algorithm': 'lasso', 'alpha': 0.0003902292801053442}. Best is trial 90 with value: 0.9502964822130379.\n",
      "[I 2024-05-06 15:02:35,542] Trial 143 finished with value: 0.9496636404874943 and parameters: {'algorithm': 'lasso', 'alpha': 0.0005961379839180346}. Best is trial 90 with value: 0.9502964822130379.\n",
      "[I 2024-05-06 15:02:36,242] Trial 144 finished with value: 0.9502726100328387 and parameters: {'algorithm': 'lasso', 'alpha': 0.00025983379644265125}. Best is trial 90 with value: 0.9502964822130379.\n",
      "[I 2024-05-06 15:02:37,035] Trial 145 finished with value: 0.9500547936860226 and parameters: {'algorithm': 'lasso', 'alpha': 0.0001656791803098643}. Best is trial 90 with value: 0.9502964822130379.\n",
      "[I 2024-05-06 15:02:37,690] Trial 146 finished with value: 0.9502884518718631 and parameters: {'algorithm': 'lasso', 'alpha': 0.00029660077744154305}. Best is trial 90 with value: 0.9502964822130379.\n",
      "[I 2024-05-06 15:02:38,258] Trial 147 finished with value: 0.9501140127607505 and parameters: {'algorithm': 'lasso', 'alpha': 0.0004216013518661878}. Best is trial 90 with value: 0.9502964822130379.\n",
      "[I 2024-05-06 15:02:39,069] Trial 148 finished with value: 0.9501396727282296 and parameters: {'algorithm': 'lasso', 'alpha': 0.00019191268560575942}. Best is trial 90 with value: 0.9502964822130379.\n",
      "[I 2024-05-06 15:02:39,590] Trial 149 finished with value: 0.949827142011346 and parameters: {'algorithm': 'lasso', 'alpha': 0.0005355609370130905}. Best is trial 90 with value: 0.9502964822130379.\n",
      "[I 2024-05-06 15:02:39,944] Trial 150 finished with value: -0.029441307066881618 and parameters: {'algorithm': 'lasso', 'alpha': 0.7480710218510542}. Best is trial 90 with value: 0.9502964822130379.\n",
      "[I 2024-05-06 15:02:40,570] Trial 151 finished with value: 0.950288785652028 and parameters: {'algorithm': 'lasso', 'alpha': 0.0002955668852217581}. Best is trial 90 with value: 0.9502964822130379.\n",
      "[I 2024-05-06 15:02:41,189] Trial 152 finished with value: 0.9502777437745561 and parameters: {'algorithm': 'lasso', 'alpha': 0.0003179394162049563}. Best is trial 90 with value: 0.9502964822130379.\n",
      "[I 2024-05-06 15:02:41,835] Trial 153 finished with value: 0.9502688139102728 and parameters: {'algorithm': 'lasso', 'alpha': 0.0002572094482719987}. Best is trial 90 with value: 0.9502964822130379.\n",
      "[I 2024-05-06 15:02:42,883] Trial 154 finished with value: 0.9496937107517626 and parameters: {'algorithm': 'lasso', 'alpha': 0.00010234247253002118}. Best is trial 90 with value: 0.9502964822130379.\n",
      "[I 2024-05-06 15:02:43,795] Trial 155 finished with value: 0.9499777480519768 and parameters: {'algorithm': 'lasso', 'alpha': 0.00014965779743293767}. Best is trial 90 with value: 0.9502964822130379.\n",
      "[I 2024-05-06 15:02:44,378] Trial 156 finished with value: 0.9502093537893714 and parameters: {'algorithm': 'lasso', 'alpha': 0.00037700816190696225}. Best is trial 90 with value: 0.9502964822130379.\n",
      "[I 2024-05-06 15:02:53,895] Trial 157 finished with value: -6.658982618518887 and parameters: {'algorithm': 'xgb', 'learning_rate': 0.000484744276997372, 'max_depth': 8, 'subsample': 0.9855479934166286, 'colsample_bytree': 0.4680410649317334, 'min_child_weight': 5}. Best is trial 90 with value: 0.9502964822130379.\n",
      "[I 2024-05-06 15:02:54,645] Trial 158 finished with value: 0.9501804859699942 and parameters: {'algorithm': 'lasso', 'alpha': 0.0002121806487450387}. Best is trial 90 with value: 0.9502964822130379.\n",
      "[I 2024-05-06 15:02:55,141] Trial 159 finished with value: 0.9495460997714975 and parameters: {'algorithm': 'lasso', 'alpha': 0.0006328223055577282}. Best is trial 90 with value: 0.9502964822130379.\n"
     ]
    },
    {
     "name": "stderr",
     "output_type": "stream",
     "text": [
      "[I 2024-05-06 15:02:55,798] Trial 160 finished with value: 0.9502968446519408 and parameters: {'algorithm': 'lasso', 'alpha': 0.00027951955384252825}. Best is trial 160 with value: 0.9502968446519408.\n",
      "[I 2024-05-06 15:02:56,501] Trial 161 finished with value: 0.9502895965361698 and parameters: {'algorithm': 'lasso', 'alpha': 0.0002939250037567679}. Best is trial 160 with value: 0.9502968446519408.\n",
      "[I 2024-05-06 15:02:57,125] Trial 162 finished with value: 0.95021458199043 and parameters: {'algorithm': 'lasso', 'alpha': 0.00037385749754682466}. Best is trial 160 with value: 0.9502968446519408.\n",
      "[I 2024-05-06 15:02:57,688] Trial 163 finished with value: 0.9500186429126172 and parameters: {'algorithm': 'lasso', 'alpha': 0.00046763996206561896}. Best is trial 160 with value: 0.9502968446519408.\n",
      "[I 2024-05-06 15:02:58,476] Trial 164 finished with value: 0.9500779176060921 and parameters: {'algorithm': 'lasso', 'alpha': 0.00017255223505524656}. Best is trial 160 with value: 0.9502968446519408.\n",
      "[I 2024-05-06 15:02:59,181] Trial 165 finished with value: 0.9502745077404082 and parameters: {'algorithm': 'lasso', 'alpha': 0.00026100557304665855}. Best is trial 160 with value: 0.9502968446519408.\n",
      "[I 2024-05-06 15:02:59,587] Trial 166 finished with value: 0.9458057831934419 and parameters: {'algorithm': 'ridge', 'alpha': 0.0003300537053842424}. Best is trial 160 with value: 0.9502968446519408.\n",
      "[I 2024-05-06 15:03:00,321] Trial 167 finished with value: 0.9501930573225469 and parameters: {'algorithm': 'lasso', 'alpha': 0.00021752221770842542}. Best is trial 160 with value: 0.9502968446519408.\n",
      "[I 2024-05-06 15:03:00,725] Trial 168 finished with value: 0.8389773364681945 and parameters: {'algorithm': 'lasso', 'alpha': 0.057297280198522024}. Best is trial 160 with value: 0.9502968446519408.\n",
      "[I 2024-05-06 15:03:01,241] Trial 169 finished with value: 0.9488545491630855 and parameters: {'algorithm': 'lasso', 'alpha': 0.0007982176804455926}. Best is trial 160 with value: 0.9502968446519408.\n",
      "[I 2024-05-06 15:03:01,614] Trial 170 finished with value: 0.9377778075045207 and parameters: {'algorithm': 'lasso', 'alpha': 0.008770629968123052}. Best is trial 160 with value: 0.9502968446519408.\n",
      "[I 2024-05-06 15:03:02,322] Trial 171 finished with value: 0.9502854685127481 and parameters: {'algorithm': 'lasso', 'alpha': 0.00026809135112437695}. Best is trial 160 with value: 0.9502968446519408.\n",
      "[I 2024-05-06 15:03:02,992] Trial 172 finished with value: 0.9502839077510391 and parameters: {'algorithm': 'lasso', 'alpha': 0.0003039866798920512}. Best is trial 160 with value: 0.9502968446519408.\n",
      "[I 2024-05-06 15:03:03,584] Trial 173 finished with value: 0.9499869011042194 and parameters: {'algorithm': 'lasso', 'alpha': 0.0001518658124315147}. Best is trial 160 with value: 0.9502968446519408.\n",
      "[I 2024-05-06 15:03:03,868] Trial 174 finished with value: 0.9500245932051371 and parameters: {'algorithm': 'lasso', 'alpha': 0.00046511836448988027}. Best is trial 160 with value: 0.9502968446519408.\n",
      "[I 2024-05-06 15:03:04,051] Trial 175 finished with value: 0.1865437329165439 and parameters: {'algorithm': 'lasso', 'alpha': 0.24295422841672976}. Best is trial 160 with value: 0.9502968446519408.\n",
      "[I 2024-05-06 15:03:04,793] Trial 176 finished with value: 0.9501583632314036 and parameters: {'algorithm': 'lasso', 'alpha': 0.00020070103964358482}. Best is trial 160 with value: 0.9502968446519408.\n",
      "[I 2024-05-06 15:03:05,421] Trial 177 finished with value: 0.9501960247006522 and parameters: {'algorithm': 'lasso', 'alpha': 0.0003836683208844992}. Best is trial 160 with value: 0.9502968446519408.\n",
      "[I 2024-05-06 15:03:06,026] Trial 178 finished with value: 0.9496864576714318 and parameters: {'algorithm': 'lasso', 'alpha': 0.0005881628083156323}. Best is trial 160 with value: 0.9502968446519408.\n",
      "[I 2024-05-06 15:03:06,720] Trial 179 finished with value: 0.9502833222098073 and parameters: {'algorithm': 'lasso', 'alpha': 0.00026630194727719005}. Best is trial 160 with value: 0.9502968446519408.\n",
      "[I 2024-05-06 15:03:07,751] Trial 180 finished with value: 0.9499385532941413 and parameters: {'algorithm': 'lasso', 'alpha': 0.00014231728344635378}. Best is trial 160 with value: 0.9502968446519408.\n",
      "[I 2024-05-06 15:03:08,417] Trial 181 finished with value: 0.9502810360158491 and parameters: {'algorithm': 'lasso', 'alpha': 0.0003085933070370752}. Best is trial 160 with value: 0.9502968446519408.\n",
      "[I 2024-05-06 15:03:09,135] Trial 182 finished with value: 0.9502831710262434 and parameters: {'algorithm': 'lasso', 'alpha': 0.0003051142591493016}. Best is trial 160 with value: 0.9502968446519408.\n",
      "[I 2024-05-06 15:03:09,840] Trial 183 finished with value: 0.9501898279809267 and parameters: {'algorithm': 'lasso', 'alpha': 0.00021599941049405656}. Best is trial 160 with value: 0.9502968446519408.\n",
      "[I 2024-05-06 15:03:10,436] Trial 184 finished with value: 0.9501258403921616 and parameters: {'algorithm': 'lasso', 'alpha': 0.0004154625288227434}. Best is trial 160 with value: 0.9502968446519408.\n",
      "[I 2024-05-06 15:03:11,190] Trial 185 finished with value: 0.9501172861556331 and parameters: {'algorithm': 'lasso', 'alpha': 0.00018413932309184442}. Best is trial 160 with value: 0.9502968446519408.\n",
      "[I 2024-05-06 15:03:11,807] Trial 186 finished with value: 0.950288642837411 and parameters: {'algorithm': 'lasso', 'alpha': 0.00029593987834829297}. Best is trial 160 with value: 0.9502968446519408.\n",
      "[I 2024-05-06 15:03:12,340] Trial 187 finished with value: 0.9498915102678985 and parameters: {'algorithm': 'lasso', 'alpha': 0.0005140786592218493}. Best is trial 160 with value: 0.9502968446519408.\n",
      "[I 2024-05-06 15:03:27,270] Trial 188 finished with value: 0.9467614990364478 and parameters: {'algorithm': 'xgb', 'learning_rate': 0.022432477519196928, 'max_depth': 5, 'subsample': 0.5819591447885447, 'colsample_bytree': 0.1949715272549276, 'min_child_weight': 13}. Best is trial 160 with value: 0.9502968446519408.\n",
      "[I 2024-05-06 15:03:27,958] Trial 189 finished with value: 0.9502152651959875 and parameters: {'algorithm': 'lasso', 'alpha': 0.00022947095032263697}. Best is trial 160 with value: 0.9502968446519408.\n",
      "[I 2024-05-06 15:03:28,605] Trial 190 finished with value: 0.9502090690343031 and parameters: {'algorithm': 'lasso', 'alpha': 0.0003771917449846884}. Best is trial 160 with value: 0.9502968446519408.\n",
      "[I 2024-05-06 15:03:29,269] Trial 191 finished with value: 0.9502778394616301 and parameters: {'algorithm': 'lasso', 'alpha': 0.0002628651681789406}. Best is trial 160 with value: 0.9502968446519408.\n",
      "[I 2024-05-06 15:03:29,951] Trial 192 finished with value: 0.950266037079577 and parameters: {'algorithm': 'lasso', 'alpha': 0.00033338137422522654}. Best is trial 160 with value: 0.9502968446519408.\n",
      "[I 2024-05-06 15:03:30,746] Trial 193 finished with value: 0.9500845330420139 and parameters: {'algorithm': 'lasso', 'alpha': 0.00017477919220651886}. Best is trial 160 with value: 0.9502968446519408.\n",
      "[I 2024-05-06 15:03:31,422] Trial 194 finished with value: 0.9502840671126596 and parameters: {'algorithm': 'lasso', 'alpha': 0.0002668231958810487}. Best is trial 160 with value: 0.9502968446519408.\n",
      "[I 2024-05-06 15:03:32,011] Trial 195 finished with value: 0.9499323646692229 and parameters: {'algorithm': 'lasso', 'alpha': 0.0005009178284093929}. Best is trial 160 with value: 0.9502968446519408.\n",
      "[I 2024-05-06 15:03:32,912] Trial 196 finished with value: 0.9498876175942407 and parameters: {'algorithm': 'lasso', 'alpha': 0.00012855378397921287}. Best is trial 160 with value: 0.9502968446519408.\n",
      "[I 2024-05-06 15:03:33,527] Trial 197 finished with value: 0.950254088504817 and parameters: {'algorithm': 'lasso', 'alpha': 0.00034571676369411016}. Best is trial 160 with value: 0.9502968446519408.\n",
      "[I 2024-05-06 15:03:34,243] Trial 198 finished with value: 0.9501658812790701 and parameters: {'algorithm': 'lasso', 'alpha': 0.00020514835456026157}. Best is trial 160 with value: 0.9502968446519408.\n",
      "[I 2024-05-06 15:03:34,681] Trial 199 finished with value: 0.9458056082713616 and parameters: {'algorithm': 'ridge', 'alpha': 0.00028929130728814323}. Best is trial 160 with value: 0.9502968446519408.\n"
     ]
    }
   ],
   "source": [
    "study.optimize(lambda trial: objective(trial, X, y), n_trials=200)"
   ]
  },
  {
   "cell_type": "code",
   "execution_count": 138,
   "id": "60106046",
   "metadata": {},
   "outputs": [
    {
     "data": {
      "text/plain": [
       "[FrozenTrial(number=160, state=1, values=[0.9502968446519408], datetime_start=datetime.datetime(2024, 5, 6, 15, 2, 55, 142023), datetime_complete=datetime.datetime(2024, 5, 6, 15, 2, 55, 797641), params={'algorithm': 'lasso', 'alpha': 0.00027951955384252825}, user_attrs={}, system_attrs={}, intermediate_values={}, distributions={'algorithm': CategoricalDistribution(choices=('ridge', 'lasso', 'xgb')), 'alpha': FloatDistribution(high=100.0, log=True, low=0.0001, step=None)}, trial_id=160, value=None)]"
      ]
     },
     "execution_count": 138,
     "metadata": {},
     "output_type": "execute_result"
    }
   ],
   "source": [
    "study.best_trials"
   ]
  },
  {
   "cell_type": "code",
   "execution_count": 224,
   "id": "41ed7926",
   "metadata": {},
   "outputs": [
    {
     "data": {
      "text/plain": [
       "[('learning_rate', 0.07748571364848593),\n",
       " ('max_depth', 1),\n",
       " ('subsample', 0.1081539403017378),\n",
       " ('colsample_bytree', 0.8774623283402829),\n",
       " ('min_child_weight', 20)]"
      ]
     },
     "execution_count": 224,
     "metadata": {},
     "output_type": "execute_result"
    }
   ],
   "source": [
    "list(study.get_trials()[10].params.items())[1:]"
   ]
  },
  {
   "cell_type": "code",
   "execution_count": 225,
   "id": "b4ea78e1",
   "metadata": {},
   "outputs": [],
   "source": [
    "trial_number = []\n",
    "score = []\n",
    "algorithm = []\n",
    "parameters = []\n",
    "optuna = {}\n",
    "trials = range(200)\n",
    "\n",
    "for trial in trials:\n",
    "    trial_number.append(study.get_trials()[trial].number)\n",
    "    score.append(study.get_trials()[trial].value)\n",
    "    algorithm.append(study.get_trials()[trial].params['algorithm'])\n",
    "    parameters.append(list(study.get_trials()[trial].params.items())[1:])\n",
    "\n",
    "optuna['Trial'] = trial_number\n",
    "optuna['Score'] = score\n",
    "optuna['Algorithm'] = algorithm\n",
    "optuna['Parameters'] = parameters\n",
    "\n",
    "\n",
    "df_optuna = pd.DataFrame.from_dict(optuna)\n"
   ]
  },
  {
   "cell_type": "code",
   "execution_count": 226,
   "id": "6f2b0538",
   "metadata": {},
   "outputs": [
    {
     "data": {
      "text/html": [
       "<div>\n",
       "<style scoped>\n",
       "    .dataframe tbody tr th:only-of-type {\n",
       "        vertical-align: middle;\n",
       "    }\n",
       "\n",
       "    .dataframe tbody tr th {\n",
       "        vertical-align: top;\n",
       "    }\n",
       "\n",
       "    .dataframe thead th {\n",
       "        text-align: right;\n",
       "    }\n",
       "</style>\n",
       "<table border=\"1\" class=\"dataframe\">\n",
       "  <thead>\n",
       "    <tr style=\"text-align: right;\">\n",
       "      <th></th>\n",
       "      <th>Trial</th>\n",
       "      <th>Score</th>\n",
       "      <th>Algorithm</th>\n",
       "      <th>Parameters</th>\n",
       "    </tr>\n",
       "  </thead>\n",
       "  <tbody>\n",
       "    <tr>\n",
       "      <th>0</th>\n",
       "      <td>0</td>\n",
       "      <td>0.947155</td>\n",
       "      <td>ridge</td>\n",
       "      <td>[(alpha, 0.6010505222092465)]</td>\n",
       "    </tr>\n",
       "    <tr>\n",
       "      <th>1</th>\n",
       "      <td>1</td>\n",
       "      <td>0.938967</td>\n",
       "      <td>lasso</td>\n",
       "      <td>[(alpha, 0.006162467158491157)]</td>\n",
       "    </tr>\n",
       "    <tr>\n",
       "      <th>2</th>\n",
       "      <td>2</td>\n",
       "      <td>0.945810</td>\n",
       "      <td>ridge</td>\n",
       "      <td>[(alpha, 0.001244729405956262)]</td>\n",
       "    </tr>\n",
       "    <tr>\n",
       "      <th>3</th>\n",
       "      <td>3</td>\n",
       "      <td>0.947355</td>\n",
       "      <td>ridge</td>\n",
       "      <td>[(alpha, 0.7759373016028097)]</td>\n",
       "    </tr>\n",
       "    <tr>\n",
       "      <th>4</th>\n",
       "      <td>4</td>\n",
       "      <td>0.949606</td>\n",
       "      <td>ridge</td>\n",
       "      <td>[(alpha, 31.29323725185007)]</td>\n",
       "    </tr>\n",
       "    <tr>\n",
       "      <th>...</th>\n",
       "      <td>...</td>\n",
       "      <td>...</td>\n",
       "      <td>...</td>\n",
       "      <td>...</td>\n",
       "    </tr>\n",
       "    <tr>\n",
       "      <th>195</th>\n",
       "      <td>195</td>\n",
       "      <td>0.949932</td>\n",
       "      <td>lasso</td>\n",
       "      <td>[(alpha, 0.0005009178284093929)]</td>\n",
       "    </tr>\n",
       "    <tr>\n",
       "      <th>196</th>\n",
       "      <td>196</td>\n",
       "      <td>0.949888</td>\n",
       "      <td>lasso</td>\n",
       "      <td>[(alpha, 0.00012855378397921287)]</td>\n",
       "    </tr>\n",
       "    <tr>\n",
       "      <th>197</th>\n",
       "      <td>197</td>\n",
       "      <td>0.950254</td>\n",
       "      <td>lasso</td>\n",
       "      <td>[(alpha, 0.00034571676369411016)]</td>\n",
       "    </tr>\n",
       "    <tr>\n",
       "      <th>198</th>\n",
       "      <td>198</td>\n",
       "      <td>0.950166</td>\n",
       "      <td>lasso</td>\n",
       "      <td>[(alpha, 0.00020514835456026157)]</td>\n",
       "    </tr>\n",
       "    <tr>\n",
       "      <th>199</th>\n",
       "      <td>199</td>\n",
       "      <td>0.945806</td>\n",
       "      <td>ridge</td>\n",
       "      <td>[(alpha, 0.00028929130728814323)]</td>\n",
       "    </tr>\n",
       "  </tbody>\n",
       "</table>\n",
       "<p>200 rows × 4 columns</p>\n",
       "</div>"
      ],
      "text/plain": [
       "     Trial     Score Algorithm                         Parameters\n",
       "0        0  0.947155     ridge      [(alpha, 0.6010505222092465)]\n",
       "1        1  0.938967     lasso    [(alpha, 0.006162467158491157)]\n",
       "2        2  0.945810     ridge    [(alpha, 0.001244729405956262)]\n",
       "3        3  0.947355     ridge      [(alpha, 0.7759373016028097)]\n",
       "4        4  0.949606     ridge       [(alpha, 31.29323725185007)]\n",
       "..     ...       ...       ...                                ...\n",
       "195    195  0.949932     lasso   [(alpha, 0.0005009178284093929)]\n",
       "196    196  0.949888     lasso  [(alpha, 0.00012855378397921287)]\n",
       "197    197  0.950254     lasso  [(alpha, 0.00034571676369411016)]\n",
       "198    198  0.950166     lasso  [(alpha, 0.00020514835456026157)]\n",
       "199    199  0.945806     ridge  [(alpha, 0.00028929130728814323)]\n",
       "\n",
       "[200 rows x 4 columns]"
      ]
     },
     "execution_count": 226,
     "metadata": {},
     "output_type": "execute_result"
    }
   ],
   "source": [
    "df_optuna"
   ]
  },
  {
   "cell_type": "code",
   "execution_count": 182,
   "id": "30832757",
   "metadata": {},
   "outputs": [
    {
     "data": {
      "text/plain": [
       "0      ridge\n",
       "1      lasso\n",
       "2      ridge\n",
       "3      ridge\n",
       "4      ridge\n",
       "       ...  \n",
       "195    lasso\n",
       "196    lasso\n",
       "197    lasso\n",
       "198    lasso\n",
       "199    ridge\n",
       "Name: Algorithm, Length: 200, dtype: object"
      ]
     },
     "execution_count": 182,
     "metadata": {},
     "output_type": "execute_result"
    }
   ],
   "source": [
    "df_optuna."
   ]
  },
  {
   "cell_type": "code",
   "execution_count": 230,
   "id": "80590c30",
   "metadata": {},
   "outputs": [
    {
     "data": {
      "text/html": [
       "<div>\n",
       "<style scoped>\n",
       "    .dataframe tbody tr th:only-of-type {\n",
       "        vertical-align: middle;\n",
       "    }\n",
       "\n",
       "    .dataframe tbody tr th {\n",
       "        vertical-align: top;\n",
       "    }\n",
       "\n",
       "    .dataframe thead th {\n",
       "        text-align: right;\n",
       "    }\n",
       "</style>\n",
       "<table border=\"1\" class=\"dataframe\">\n",
       "  <thead>\n",
       "    <tr style=\"text-align: right;\">\n",
       "      <th></th>\n",
       "      <th>Trial</th>\n",
       "      <th>Score</th>\n",
       "    </tr>\n",
       "    <tr>\n",
       "      <th>Algorithm</th>\n",
       "      <th></th>\n",
       "      <th></th>\n",
       "    </tr>\n",
       "  </thead>\n",
       "  <tbody>\n",
       "    <tr>\n",
       "      <th>lasso</th>\n",
       "      <td>198</td>\n",
       "      <td>0.950297</td>\n",
       "    </tr>\n",
       "    <tr>\n",
       "      <th>ridge</th>\n",
       "      <td>199</td>\n",
       "      <td>0.949606</td>\n",
       "    </tr>\n",
       "    <tr>\n",
       "      <th>xgb</th>\n",
       "      <td>188</td>\n",
       "      <td>0.946761</td>\n",
       "    </tr>\n",
       "  </tbody>\n",
       "</table>\n",
       "</div>"
      ],
      "text/plain": [
       "           Trial     Score\n",
       "Algorithm                 \n",
       "lasso        198  0.950297\n",
       "ridge        199  0.949606\n",
       "xgb          188  0.946761"
      ]
     },
     "execution_count": 230,
     "metadata": {},
     "output_type": "execute_result"
    }
   ],
   "source": [
    "df_optuna.groupby('Algorithm').max('Score')"
   ]
  },
  {
   "cell_type": "code",
   "execution_count": 231,
   "id": "aec5dfbb",
   "metadata": {},
   "outputs": [
    {
     "name": "stdout",
     "output_type": "stream",
     "text": [
      "lasso [('alpha', 0.00020514835456026157)]\n",
      "ridge [('alpha', 0.00028929130728814323)]\n",
      "xgb [('learning_rate', 0.022432477519196928), ('max_depth', 5), ('subsample', 0.5819591447885447), ('colsample_bytree', 0.1949715272549276), ('min_child_weight', 13)]\n"
     ]
    }
   ],
   "source": [
    "print('lasso', df_optuna.Parameters[198])\n",
    "print('ridge', df_optuna.Parameters[199])\n",
    "print('xgb', df_optuna.Parameters[188])"
   ]
  },
  {
   "cell_type": "code",
   "execution_count": 228,
   "id": "17b94ecf",
   "metadata": {},
   "outputs": [
    {
     "data": {
      "application/vnd.plotly.v1+json": {
       "config": {
        "plotlyServerURL": "https://plot.ly"
       },
       "data": [
        {
         "customdata": [
          [
           [
            [
             "alpha",
             0.6010505222092465
            ]
           ]
          ],
          [
           [
            [
             "alpha",
             0.001244729405956262
            ]
           ]
          ],
          [
           [
            [
             "alpha",
             0.7759373016028097
            ]
           ]
          ],
          [
           [
            [
             "alpha",
             31.29323725185007
            ]
           ]
          ],
          [
           [
            [
             "alpha",
             0.0003508193855269366
            ]
           ]
          ],
          [
           [
            [
             "alpha",
             0.07419825096515736
            ]
           ]
          ],
          [
           [
            [
             "alpha",
             0.00024230102105339654
            ]
           ]
          ],
          [
           [
            [
             "alpha",
             3.0896988698846903
            ]
           ]
          ],
          [
           [
            [
             "alpha",
             0.4966722669613841
            ]
           ]
          ],
          [
           [
            [
             "alpha",
             0.00016771658897848712
            ]
           ]
          ],
          [
           [
            [
             "alpha",
             0.00043999444012187577
            ]
           ]
          ],
          [
           [
            [
             "alpha",
             0.00037199925344242533
            ]
           ]
          ],
          [
           [
            [
             "alpha",
             0.0004309633494336917
            ]
           ]
          ],
          [
           [
            [
             "alpha",
             0.0003300537053842424
            ]
           ]
          ],
          [
           [
            [
             "alpha",
             0.00028929130728814323
            ]
           ]
          ]
         ],
         "hovertemplate": "Algorithm=ridge<br>Trial=%{x}<br>Score=%{y}<br>Parameters=%{customdata[0]}<extra></extra>",
         "legendgroup": "ridge",
         "marker": {
          "color": "#636efa",
          "symbol": "circle"
         },
         "mode": "markers",
         "name": "ridge",
         "orientation": "v",
         "showlegend": true,
         "type": "scatter",
         "x": [
          0,
          2,
          3,
          4,
          28,
          30,
          35,
          39,
          50,
          76,
          88,
          110,
          137,
          166,
          199
         ],
         "xaxis": "x",
         "y": [
          0.9471554321468393,
          0.9458097018173504,
          0.9473545665481765,
          0.9496058571087869,
          0.9458058722948917,
          0.9460881378786741,
          0.9458054065930874,
          0.9485588883459293,
          0.9470141744249545,
          0.9458050864155652,
          0.9458062548545307,
          0.9458059631669112,
          0.9458062161166941,
          0.9458057831934419,
          0.9458056082713616
         ],
         "yaxis": "y"
        },
        {
         "customdata": [
          [
           [
            [
             "alpha",
             0.006162467158491157
            ]
           ]
          ],
          [
           [
            [
             "alpha",
             0.016555231662187374
            ]
           ]
          ],
          [
           [
            [
             "alpha",
             0.0004582749531777171
            ]
           ]
          ],
          [
           [
            [
             "alpha",
             0.00017637287605472746
            ]
           ]
          ],
          [
           [
            [
             "alpha",
             0.00011995197253262029
            ]
           ]
          ],
          [
           [
            [
             "alpha",
             0.00011207889164253218
            ]
           ]
          ],
          [
           [
            [
             "alpha",
             0.0011740965051880814
            ]
           ]
          ],
          [
           [
            [
             "alpha",
             0.0015503076984355424
            ]
           ]
          ],
          [
           [
            [
             "alpha",
             0.03649585335839899
            ]
           ]
          ],
          [
           [
            [
             "alpha",
             0.0003726843301350919
            ]
           ]
          ],
          [
           [
            [
             "alpha",
             0.20023362384311136
            ]
           ]
          ],
          [
           [
            [
             "alpha",
             0.004216169019651566
            ]
           ]
          ],
          [
           [
            [
             "alpha",
             0.00034608379326552273
            ]
           ]
          ],
          [
           [
            [
             "alpha",
             0.00024482064135119533
            ]
           ]
          ],
          [
           [
            [
             "alpha",
             0.000487776516858514
            ]
           ]
          ],
          [
           [
            [
             "alpha",
             0.005239588389351667
            ]
           ]
          ],
          [
           [
            [
             "alpha",
             0.0004550420502021263
            ]
           ]
          ],
          [
           [
            [
             "alpha",
             0.02091016333584503
            ]
           ]
          ],
          [
           [
            [
             "alpha",
             0.002367137437004208
            ]
           ]
          ],
          [
           [
            [
             "alpha",
             0.0001098338559889162
            ]
           ]
          ],
          [
           [
            [
             "alpha",
             0.00026399630354087886
            ]
           ]
          ],
          [
           [
            [
             "alpha",
             0.0008472387752849562
            ]
           ]
          ],
          [
           [
            [
             "alpha",
             0.0003204788571913823
            ]
           ]
          ],
          [
           [
            [
             "alpha",
             0.002615056478718971
            ]
           ]
          ],
          [
           [
            [
             "alpha",
             0.0008701193893983413
            ]
           ]
          ],
          [
           [
            [
             "alpha",
             0.009343031672547655
            ]
           ]
          ],
          [
           [
            [
             "alpha",
             0.0007487749013093245
            ]
           ]
          ],
          [
           [
            [
             "alpha",
             0.00026577767050225043
            ]
           ]
          ],
          [
           [
            [
             "alpha",
             0.00023634827143863648
            ]
           ]
          ],
          [
           [
            [
             "alpha",
             0.002427898969308335
            ]
           ]
          ],
          [
           [
            [
             "alpha",
             0.000325062047327948
            ]
           ]
          ],
          [
           [
            [
             "alpha",
             0.0007138085942687639
            ]
           ]
          ],
          [
           [
            [
             "alpha",
             0.001600153468480079
            ]
           ]
          ],
          [
           [
            [
             "alpha",
             0.0001752770246621694
            ]
           ]
          ],
          [
           [
            [
             "alpha",
             0.009528470841126065
            ]
           ]
          ],
          [
           [
            [
             "alpha",
             0.00022775953671817198
            ]
           ]
          ],
          [
           [
            [
             "alpha",
             0.00010612659023547114
            ]
           ]
          ],
          [
           [
            [
             "alpha",
             0.0003830467672882016
            ]
           ]
          ],
          [
           [
            [
             "alpha",
             0.00021627436540954526
            ]
           ]
          ],
          [
           [
            [
             "alpha",
             0.001445853412310756
            ]
           ]
          ],
          [
           [
            [
             "alpha",
             0.0006269662288422743
            ]
           ]
          ],
          [
           [
            [
             "alpha",
             0.00029775083715590834
            ]
           ]
          ],
          [
           [
            [
             "alpha",
             0.00016120434434155882
            ]
           ]
          ],
          [
           [
            [
             "alpha",
             0.0003589828022351704
            ]
           ]
          ],
          [
           [
            [
             "alpha",
             0.0003217979072940209
            ]
           ]
          ],
          [
           [
            [
             "alpha",
             0.0011967427390884194
            ]
           ]
          ],
          [
           [
            [
             "alpha",
             0.0005043219466697327
            ]
           ]
          ],
          [
           [
            [
             "alpha",
             0.00014659589751746423
            ]
           ]
          ],
          [
           [
            [
             "alpha",
             0.00032279050356379395
            ]
           ]
          ],
          [
           [
            [
             "alpha",
             0.003229013154984103
            ]
           ]
          ],
          [
           [
            [
             "alpha",
             0.0009304375157316136
            ]
           ]
          ],
          [
           [
            [
             "alpha",
             0.00032387498231343473
            ]
           ]
          ],
          [
           [
            [
             "alpha",
             0.00010020749752970585
            ]
           ]
          ],
          [
           [
            [
             "alpha",
             0.0004902540297799311
            ]
           ]
          ],
          [
           [
            [
             "alpha",
             0.0002969173890045437
            ]
           ]
          ],
          [
           [
            [
             "alpha",
             0.00028454678060790855
            ]
           ]
          ],
          [
           [
            [
             "alpha",
             0.000578084982033051
            ]
           ]
          ],
          [
           [
            [
             "alpha",
             0.0002650869138932816
            ]
           ]
          ],
          [
           [
            [
             "alpha",
             0.0001529524006218151
            ]
           ]
          ],
          [
           [
            [
             "alpha",
             0.0009624329368942344
            ]
           ]
          ],
          [
           [
            [
             "alpha",
             0.00025615699836524443
            ]
           ]
          ],
          [
           [
            [
             "alpha",
             0.0002775282989311552
            ]
           ]
          ],
          [
           [
            [
             "alpha",
             0.001863957343085763
            ]
           ]
          ],
          [
           [
            [
             "alpha",
             0.0005977110689793054
            ]
           ]
          ],
          [
           [
            [
             "alpha",
             0.0002265048002483477
            ]
           ]
          ],
          [
           [
            [
             "alpha",
             0.00014044844521037702
            ]
           ]
          ],
          [
           [
            [
             "alpha",
             0.0011161328813483
            ]
           ]
          ],
          [
           [
            [
             "alpha",
             0.00028182509069933046
            ]
           ]
          ],
          [
           [
            [
             "alpha",
             0.00021910412365379805
            ]
           ]
          ],
          [
           [
            [
             "alpha",
             0.00028892319193558495
            ]
           ]
          ],
          [
           [
            [
             "alpha",
             0.00012601304274520566
            ]
           ]
          ],
          [
           [
            [
             "alpha",
             0.0006867677082010171
            ]
           ]
          ],
          [
           [
            [
             "alpha",
             0.10617565798782047
            ]
           ]
          ],
          [
           [
            [
             "alpha",
             0.00026874245328880713
            ]
           ]
          ],
          [
           [
            [
             "alpha",
             0.0001942292553580477
            ]
           ]
          ],
          [
           [
            [
             "alpha",
             0.0004343961432539565
            ]
           ]
          ],
          [
           [
            [
             "alpha",
             0.0002822324255457903
            ]
           ]
          ],
          [
           [
            [
             "alpha",
             0.00010067470572454919
            ]
           ]
          ],
          [
           [
            [
             "alpha",
             0.00024337137393535218
            ]
           ]
          ],
          [
           [
            [
             "alpha",
             0.0002840324973679434
            ]
           ]
          ],
          [
           [
            [
             "alpha",
             0.0004429356786116208
            ]
           ]
          ],
          [
           [
            [
             "alpha",
             0.0006852289007676667
            ]
           ]
          ],
          [
           [
            [
             "alpha",
             0.00016777305469109388
            ]
           ]
          ],
          [
           [
            [
             "alpha",
             0.000290966147484301
            ]
           ]
          ],
          [
           [
            [
             "alpha",
             0.0008154095304730813
            ]
           ]
          ],
          [
           [
            [
             "alpha",
             0.0002628523102139585
            ]
           ]
          ],
          [
           [
            [
             "alpha",
             0.0003044538444315895
            ]
           ]
          ],
          [
           [
            [
             "alpha",
             0.0001869134239066806
            ]
           ]
          ],
          [
           [
            [
             "alpha",
             0.0005452808403101624
            ]
           ]
          ],
          [
           [
            [
             "alpha",
             0.0003030787208159202
            ]
           ]
          ],
          [
           [
            [
             "alpha",
             0.0003421151990867715
            ]
           ]
          ],
          [
           [
            [
             "alpha",
             0.00013966170638581
            ]
           ]
          ],
          [
           [
            [
             "alpha",
             0.0017689970679156401
            ]
           ]
          ],
          [
           [
            [
             "alpha",
             0.0004857680768819713
            ]
           ]
          ],
          [
           [
            [
             "alpha",
             0.00019366385317210036
            ]
           ]
          ],
          [
           [
            [
             "alpha",
             0.00029322512255107095
            ]
           ]
          ],
          [
           [
            [
             "alpha",
             0.0003937165488046054
            ]
           ]
          ],
          [
           [
            [
             "alpha",
             0.00012651680490057297
            ]
           ]
          ],
          [
           [
            [
             "alpha",
             0.00032284555737474547
            ]
           ]
          ],
          [
           [
            [
             "alpha",
             0.0010093248243163574
            ]
           ]
          ],
          [
           [
            [
             "alpha",
             0.0006538962082803727
            ]
           ]
          ],
          [
           [
            [
             "alpha",
             0.0002701530338719892
            ]
           ]
          ],
          [
           [
            [
             "alpha",
             0.00018822987713131288
            ]
           ]
          ],
          [
           [
            [
             "alpha",
             0.0005025161860693752
            ]
           ]
          ],
          [
           [
            [
             "alpha",
             0.00030121839415697064
            ]
           ]
          ],
          [
           [
            [
             "alpha",
             0.02760617308212424
            ]
           ]
          ],
          [
           [
            [
             "alpha",
             0.0002755064260576385
            ]
           ]
          ],
          [
           [
            [
             "alpha",
             0.00022243048023622906
            ]
           ]
          ],
          [
           [
            [
             "alpha",
             0.00014320019113867708
            ]
           ]
          ],
          [
           [
            [
             "alpha",
             0.00026866592038427895
            ]
           ]
          ],
          [
           [
            [
             "alpha",
             0.00081294913853769
            ]
           ]
          ],
          [
           [
            [
             "alpha",
             0.00020297584486418416
            ]
           ]
          ],
          [
           [
            [
             "alpha",
             0.00012195713425037956
            ]
           ]
          ],
          [
           [
            [
             "alpha",
             0.00025467710128659193
            ]
           ]
          ],
          [
           [
            [
             "alpha",
             0.0003902292801053442
            ]
           ]
          ],
          [
           [
            [
             "alpha",
             0.0005961379839180346
            ]
           ]
          ],
          [
           [
            [
             "alpha",
             0.00025983379644265125
            ]
           ]
          ],
          [
           [
            [
             "alpha",
             0.0001656791803098643
            ]
           ]
          ],
          [
           [
            [
             "alpha",
             0.00029660077744154305
            ]
           ]
          ],
          [
           [
            [
             "alpha",
             0.0004216013518661878
            ]
           ]
          ],
          [
           [
            [
             "alpha",
             0.00019191268560575942
            ]
           ]
          ],
          [
           [
            [
             "alpha",
             0.0005355609370130905
            ]
           ]
          ],
          [
           [
            [
             "alpha",
             0.0002955668852217581
            ]
           ]
          ],
          [
           [
            [
             "alpha",
             0.0003179394162049563
            ]
           ]
          ],
          [
           [
            [
             "alpha",
             0.0002572094482719987
            ]
           ]
          ],
          [
           [
            [
             "alpha",
             0.00010234247253002118
            ]
           ]
          ],
          [
           [
            [
             "alpha",
             0.00014965779743293767
            ]
           ]
          ],
          [
           [
            [
             "alpha",
             0.00037700816190696225
            ]
           ]
          ],
          [
           [
            [
             "alpha",
             0.0002121806487450387
            ]
           ]
          ],
          [
           [
            [
             "alpha",
             0.0006328223055577282
            ]
           ]
          ],
          [
           [
            [
             "alpha",
             0.00027951955384252825
            ]
           ]
          ],
          [
           [
            [
             "alpha",
             0.0002939250037567679
            ]
           ]
          ],
          [
           [
            [
             "alpha",
             0.00037385749754682466
            ]
           ]
          ],
          [
           [
            [
             "alpha",
             0.00046763996206561896
            ]
           ]
          ],
          [
           [
            [
             "alpha",
             0.00017255223505524656
            ]
           ]
          ],
          [
           [
            [
             "alpha",
             0.00026100557304665855
            ]
           ]
          ],
          [
           [
            [
             "alpha",
             0.00021752221770842542
            ]
           ]
          ],
          [
           [
            [
             "alpha",
             0.057297280198522024
            ]
           ]
          ],
          [
           [
            [
             "alpha",
             0.0007982176804455926
            ]
           ]
          ],
          [
           [
            [
             "alpha",
             0.008770629968123052
            ]
           ]
          ],
          [
           [
            [
             "alpha",
             0.00026809135112437695
            ]
           ]
          ],
          [
           [
            [
             "alpha",
             0.0003039866798920512
            ]
           ]
          ],
          [
           [
            [
             "alpha",
             0.0001518658124315147
            ]
           ]
          ],
          [
           [
            [
             "alpha",
             0.00046511836448988027
            ]
           ]
          ],
          [
           [
            [
             "alpha",
             0.24295422841672976
            ]
           ]
          ],
          [
           [
            [
             "alpha",
             0.00020070103964358482
            ]
           ]
          ],
          [
           [
            [
             "alpha",
             0.0003836683208844992
            ]
           ]
          ],
          [
           [
            [
             "alpha",
             0.0005881628083156323
            ]
           ]
          ],
          [
           [
            [
             "alpha",
             0.00026630194727719005
            ]
           ]
          ],
          [
           [
            [
             "alpha",
             0.00014231728344635378
            ]
           ]
          ],
          [
           [
            [
             "alpha",
             0.0003085933070370752
            ]
           ]
          ],
          [
           [
            [
             "alpha",
             0.0003051142591493016
            ]
           ]
          ],
          [
           [
            [
             "alpha",
             0.00021599941049405656
            ]
           ]
          ],
          [
           [
            [
             "alpha",
             0.0004154625288227434
            ]
           ]
          ],
          [
           [
            [
             "alpha",
             0.00018413932309184442
            ]
           ]
          ],
          [
           [
            [
             "alpha",
             0.00029593987834829297
            ]
           ]
          ],
          [
           [
            [
             "alpha",
             0.0005140786592218493
            ]
           ]
          ],
          [
           [
            [
             "alpha",
             0.00022947095032263697
            ]
           ]
          ],
          [
           [
            [
             "alpha",
             0.0003771917449846884
            ]
           ]
          ],
          [
           [
            [
             "alpha",
             0.0002628651681789406
            ]
           ]
          ],
          [
           [
            [
             "alpha",
             0.00033338137422522654
            ]
           ]
          ],
          [
           [
            [
             "alpha",
             0.00017477919220651886
            ]
           ]
          ],
          [
           [
            [
             "alpha",
             0.0002668231958810487
            ]
           ]
          ],
          [
           [
            [
             "alpha",
             0.0005009178284093929
            ]
           ]
          ],
          [
           [
            [
             "alpha",
             0.00012855378397921287
            ]
           ]
          ],
          [
           [
            [
             "alpha",
             0.00034571676369411016
            ]
           ]
          ],
          [
           [
            [
             "alpha",
             0.00020514835456026157
            ]
           ]
          ]
         ],
         "hovertemplate": "Algorithm=lasso<br>Trial=%{x}<br>Score=%{y}<br>Parameters=%{customdata[0]}<extra></extra>",
         "legendgroup": "lasso",
         "marker": {
          "color": "#EF553B",
          "symbol": "circle"
         },
         "mode": "markers",
         "name": "lasso",
         "orientation": "v",
         "showlegend": true,
         "type": "scatter",
         "x": [
          1,
          5,
          6,
          9,
          11,
          12,
          13,
          14,
          15,
          17,
          18,
          20,
          21,
          22,
          23,
          24,
          25,
          26,
          27,
          31,
          32,
          33,
          34,
          36,
          37,
          38,
          40,
          41,
          42,
          43,
          44,
          45,
          46,
          48,
          49,
          51,
          52,
          53,
          54,
          55,
          58,
          59,
          61,
          62,
          63,
          64,
          65,
          66,
          68,
          69,
          70,
          71,
          72,
          73,
          74,
          75,
          77,
          78,
          79,
          80,
          81,
          82,
          83,
          84,
          85,
          87,
          89,
          90,
          91,
          92,
          93,
          94,
          95,
          96,
          97,
          98,
          99,
          100,
          101,
          102,
          103,
          104,
          105,
          108,
          109,
          111,
          112,
          113,
          114,
          115,
          116,
          117,
          118,
          119,
          120,
          121,
          122,
          123,
          124,
          125,
          126,
          127,
          128,
          130,
          131,
          132,
          133,
          134,
          135,
          136,
          138,
          139,
          140,
          141,
          142,
          143,
          144,
          145,
          146,
          147,
          148,
          149,
          151,
          152,
          153,
          154,
          155,
          156,
          158,
          159,
          160,
          161,
          162,
          163,
          164,
          165,
          167,
          168,
          169,
          170,
          171,
          172,
          173,
          174,
          175,
          176,
          177,
          178,
          179,
          180,
          181,
          182,
          183,
          184,
          185,
          186,
          187,
          189,
          190,
          191,
          192,
          193,
          194,
          195,
          196,
          197,
          198
         ],
         "xaxis": "x",
         "y": [
          0.9389672175428982,
          0.9294302327835954,
          0.9500398525687235,
          0.9500902328681612,
          0.9498510406483309,
          0.9497956445257467,
          0.9473793968660728,
          0.945086273060117,
          0.891919680699119,
          0.9502165794308643,
          0.3389464804948818,
          0.9409100930605206,
          0.9502535145176715,
          0.950247724018946,
          0.9499686482042866,
          0.9397985591072718,
          0.9500469224113856,
          0.9224764929436381,
          0.9431142980201922,
          0.9497745164857381,
          0.9502797535996578,
          0.9486362756580426,
          0.9502759959747529,
          0.9427418045630881,
          0.9485421626102486,
          0.9373437476773958,
          0.9490795432899979,
          0.9502825368726407,
          0.9502294508274328,
          0.9430131991735313,
          0.9502727641231721,
          0.9492408791368658,
          0.9448349663520008,
          0.9500862499579659,
          0.9371932960385145,
          0.9502119657115078,
          0.949734434572683,
          0.9501974068395576,
          0.950190484820807,
          0.945629603904475,
          0.9495661914710423,
          0.9502879072815185,
          0.9500333708547464,
          0.9502370410586698,
          0.9502750912961979,
          0.9472882006945464,
          0.9499221783577119,
          0.9499614525388406,
          0.9502742629973625,
          0.941854420726292,
          0.9483040046031498,
          0.9502735478038954,
          0.9496698612945007,
          0.9499618729169731,
          0.9502883231525254,
          0.9502953233147071,
          0.9497137160696887,
          0.9502815924227817,
          0.9499926313562599,
          0.9481827933626569,
          0.9502672109276192,
          0.9502963988384143,
          0.9439723885844347,
          0.9496589312348584,
          0.9502098986541375,
          0.9499303692169431,
          0.9476084501766951,
          0.9502964822130379,
          0.9501962444593653,
          0.9502926907956504,
          0.9498802105550059,
          0.9493494195943446,
          0.6948625509417926,
          0.9502862831182425,
          0.9501449871277803,
          0.9500888877970954,
          0.9502964373402069,
          0.9496753512755902,
          0.9502449512569566,
          0.9502955909186339,
          0.9500715177401252,
          0.9493553150559639,
          0.9500636883309272,
          0.9502914624491947,
          0.9487796957195679,
          0.9502778163259922,
          0.9502836280725976,
          0.9501260316720657,
          0.9498013443197497,
          0.9502845562820639,
          0.9502582588235127,
          0.9499275892013603,
          0.9442351128117648,
          0.9499741667505186,
          0.9501437506612426,
          0.9502898226246657,
          0.950172458965406,
          0.9498818867954568,
          0.9502742213840186,
          0.948010230424984,
          0.9494725800498989,
          0.9502881420877998,
          0.9501299921214527,
          0.9499275651962751,
          0.9502859312054707,
          0.9090691608791975,
          0.9502947964782023,
          0.9502028187641546,
          0.9499426420022609,
          0.9502861840712985,
          0.9487904462388294,
          0.9501620529377204,
          0.9498618400883064,
          0.9502649728528159,
          0.9501802467301577,
          0.9496636404874943,
          0.9502726100328387,
          0.9500547936860226,
          0.9502884518718631,
          0.9501140127607505,
          0.9501396727282296,
          0.949827142011346,
          0.950288785652028,
          0.9502777437745561,
          0.9502688139102728,
          0.9496937107517626,
          0.9499777480519768,
          0.9502093537893714,
          0.9501804859699942,
          0.9495460997714975,
          0.9502968446519408,
          0.9502895965361698,
          0.95021458199043,
          0.9500186429126172,
          0.9500779176060921,
          0.9502745077404082,
          0.9501930573225469,
          0.8389773364681945,
          0.9488545491630855,
          0.9377778075045207,
          0.9502854685127481,
          0.9502839077510391,
          0.9499869011042194,
          0.9500245932051371,
          0.1865437329165439,
          0.9501583632314036,
          0.9501960247006522,
          0.9496864576714318,
          0.9502833222098073,
          0.9499385532941413,
          0.9502810360158491,
          0.9502831710262434,
          0.9501898279809267,
          0.9501258403921616,
          0.9501172861556331,
          0.950288642837411,
          0.9498915102678985,
          0.9502152651959875,
          0.9502090690343031,
          0.9502778394616301,
          0.950266037079577,
          0.9500845330420139,
          0.9502840671126596,
          0.9499323646692229,
          0.9498876175942407,
          0.950254088504817,
          0.9501658812790701
         ],
         "yaxis": "y"
        },
        {
         "customdata": [
          [
           [
            [
             "learning_rate",
             0.07748571364848593
            ],
            [
             "max_depth",
             1
            ],
            [
             "subsample",
             0.1081539403017378
            ],
            [
             "colsample_bytree",
             0.8774623283402829
            ],
            [
             "min_child_weight",
             20
            ]
           ]
          ],
          [
           [
            [
             "learning_rate",
             0.08019600545172129
            ],
            [
             "max_depth",
             1
            ],
            [
             "subsample",
             0.06393922828854465
            ],
            [
             "colsample_bytree",
             0.9630028278354485
            ],
            [
             "min_child_weight",
             20
            ]
           ]
          ],
          [
           [
            [
             "learning_rate",
             0.011236477438678406
            ],
            [
             "max_depth",
             4
            ],
            [
             "subsample",
             0.41151468106452377
            ],
            [
             "colsample_bytree",
             0.330480957357973
            ],
            [
             "min_child_weight",
             15
            ]
           ]
          ],
          [
           [
            [
             "learning_rate",
             0.01240560912844289
            ],
            [
             "max_depth",
             8
            ],
            [
             "subsample",
             0.2704974479544986
            ],
            [
             "colsample_bytree",
             0.061997530866703454
            ],
            [
             "min_child_weight",
             15
            ]
           ]
          ],
          [
           [
            [
             "learning_rate",
             0.010250741887711978
            ],
            [
             "max_depth",
             8
            ],
            [
             "subsample",
             0.699136270124052
            ],
            [
             "colsample_bytree",
             0.34676345983827406
            ],
            [
             "min_child_weight",
             6
            ]
           ]
          ],
          [
           [
            [
             "learning_rate",
             0.022432477519196928
            ],
            [
             "max_depth",
             5
            ],
            [
             "subsample",
             0.5819591447885447
            ],
            [
             "colsample_bytree",
             0.1949715272549276
            ],
            [
             "min_child_weight",
             13
            ]
           ]
          ]
         ],
         "hovertemplate": "Algorithm=xgb<br>Trial=%{x}<br>Score=%{y}<br>Parameters=%{customdata[0]}<extra></extra>",
         "legendgroup": "xgb",
         "marker": {
          "color": "#00cc96",
          "symbol": "circle"
         },
         "mode": "markers",
         "name": "xgb",
         "orientation": "v",
         "showlegend": true,
         "type": "scatter",
         "x": [
          10,
          19,
          57,
          86,
          107,
          188
         ],
         "xaxis": "x",
         "y": [
          0.9057358214629305,
          0.8811693917915496,
          0.9362219094296959,
          0.9113729713455464,
          0.9456992597139712,
          0.9467614990364478
         ],
         "yaxis": "y"
        }
       ],
       "layout": {
        "hoverlabel": {
         "bgcolor": "white",
         "font": {
          "family": "Rockwell",
          "size": 8
         }
        },
        "legend": {
         "title": {
          "text": "Algorithm"
         },
         "tracegroupgap": 0
        },
        "margin": {
         "t": 60
        },
        "template": {
         "data": {
          "bar": [
           {
            "error_x": {
             "color": "#2a3f5f"
            },
            "error_y": {
             "color": "#2a3f5f"
            },
            "marker": {
             "line": {
              "color": "#E5ECF6",
              "width": 0.5
             },
             "pattern": {
              "fillmode": "overlay",
              "size": 10,
              "solidity": 0.2
             }
            },
            "type": "bar"
           }
          ],
          "barpolar": [
           {
            "marker": {
             "line": {
              "color": "#E5ECF6",
              "width": 0.5
             },
             "pattern": {
              "fillmode": "overlay",
              "size": 10,
              "solidity": 0.2
             }
            },
            "type": "barpolar"
           }
          ],
          "carpet": [
           {
            "aaxis": {
             "endlinecolor": "#2a3f5f",
             "gridcolor": "white",
             "linecolor": "white",
             "minorgridcolor": "white",
             "startlinecolor": "#2a3f5f"
            },
            "baxis": {
             "endlinecolor": "#2a3f5f",
             "gridcolor": "white",
             "linecolor": "white",
             "minorgridcolor": "white",
             "startlinecolor": "#2a3f5f"
            },
            "type": "carpet"
           }
          ],
          "choropleth": [
           {
            "colorbar": {
             "outlinewidth": 0,
             "ticks": ""
            },
            "type": "choropleth"
           }
          ],
          "contour": [
           {
            "colorbar": {
             "outlinewidth": 0,
             "ticks": ""
            },
            "colorscale": [
             [
              0,
              "#0d0887"
             ],
             [
              0.1111111111111111,
              "#46039f"
             ],
             [
              0.2222222222222222,
              "#7201a8"
             ],
             [
              0.3333333333333333,
              "#9c179e"
             ],
             [
              0.4444444444444444,
              "#bd3786"
             ],
             [
              0.5555555555555556,
              "#d8576b"
             ],
             [
              0.6666666666666666,
              "#ed7953"
             ],
             [
              0.7777777777777778,
              "#fb9f3a"
             ],
             [
              0.8888888888888888,
              "#fdca26"
             ],
             [
              1,
              "#f0f921"
             ]
            ],
            "type": "contour"
           }
          ],
          "contourcarpet": [
           {
            "colorbar": {
             "outlinewidth": 0,
             "ticks": ""
            },
            "type": "contourcarpet"
           }
          ],
          "heatmap": [
           {
            "colorbar": {
             "outlinewidth": 0,
             "ticks": ""
            },
            "colorscale": [
             [
              0,
              "#0d0887"
             ],
             [
              0.1111111111111111,
              "#46039f"
             ],
             [
              0.2222222222222222,
              "#7201a8"
             ],
             [
              0.3333333333333333,
              "#9c179e"
             ],
             [
              0.4444444444444444,
              "#bd3786"
             ],
             [
              0.5555555555555556,
              "#d8576b"
             ],
             [
              0.6666666666666666,
              "#ed7953"
             ],
             [
              0.7777777777777778,
              "#fb9f3a"
             ],
             [
              0.8888888888888888,
              "#fdca26"
             ],
             [
              1,
              "#f0f921"
             ]
            ],
            "type": "heatmap"
           }
          ],
          "heatmapgl": [
           {
            "colorbar": {
             "outlinewidth": 0,
             "ticks": ""
            },
            "colorscale": [
             [
              0,
              "#0d0887"
             ],
             [
              0.1111111111111111,
              "#46039f"
             ],
             [
              0.2222222222222222,
              "#7201a8"
             ],
             [
              0.3333333333333333,
              "#9c179e"
             ],
             [
              0.4444444444444444,
              "#bd3786"
             ],
             [
              0.5555555555555556,
              "#d8576b"
             ],
             [
              0.6666666666666666,
              "#ed7953"
             ],
             [
              0.7777777777777778,
              "#fb9f3a"
             ],
             [
              0.8888888888888888,
              "#fdca26"
             ],
             [
              1,
              "#f0f921"
             ]
            ],
            "type": "heatmapgl"
           }
          ],
          "histogram": [
           {
            "marker": {
             "pattern": {
              "fillmode": "overlay",
              "size": 10,
              "solidity": 0.2
             }
            },
            "type": "histogram"
           }
          ],
          "histogram2d": [
           {
            "colorbar": {
             "outlinewidth": 0,
             "ticks": ""
            },
            "colorscale": [
             [
              0,
              "#0d0887"
             ],
             [
              0.1111111111111111,
              "#46039f"
             ],
             [
              0.2222222222222222,
              "#7201a8"
             ],
             [
              0.3333333333333333,
              "#9c179e"
             ],
             [
              0.4444444444444444,
              "#bd3786"
             ],
             [
              0.5555555555555556,
              "#d8576b"
             ],
             [
              0.6666666666666666,
              "#ed7953"
             ],
             [
              0.7777777777777778,
              "#fb9f3a"
             ],
             [
              0.8888888888888888,
              "#fdca26"
             ],
             [
              1,
              "#f0f921"
             ]
            ],
            "type": "histogram2d"
           }
          ],
          "histogram2dcontour": [
           {
            "colorbar": {
             "outlinewidth": 0,
             "ticks": ""
            },
            "colorscale": [
             [
              0,
              "#0d0887"
             ],
             [
              0.1111111111111111,
              "#46039f"
             ],
             [
              0.2222222222222222,
              "#7201a8"
             ],
             [
              0.3333333333333333,
              "#9c179e"
             ],
             [
              0.4444444444444444,
              "#bd3786"
             ],
             [
              0.5555555555555556,
              "#d8576b"
             ],
             [
              0.6666666666666666,
              "#ed7953"
             ],
             [
              0.7777777777777778,
              "#fb9f3a"
             ],
             [
              0.8888888888888888,
              "#fdca26"
             ],
             [
              1,
              "#f0f921"
             ]
            ],
            "type": "histogram2dcontour"
           }
          ],
          "mesh3d": [
           {
            "colorbar": {
             "outlinewidth": 0,
             "ticks": ""
            },
            "type": "mesh3d"
           }
          ],
          "parcoords": [
           {
            "line": {
             "colorbar": {
              "outlinewidth": 0,
              "ticks": ""
             }
            },
            "type": "parcoords"
           }
          ],
          "pie": [
           {
            "automargin": true,
            "type": "pie"
           }
          ],
          "scatter": [
           {
            "fillpattern": {
             "fillmode": "overlay",
             "size": 10,
             "solidity": 0.2
            },
            "type": "scatter"
           }
          ],
          "scatter3d": [
           {
            "line": {
             "colorbar": {
              "outlinewidth": 0,
              "ticks": ""
             }
            },
            "marker": {
             "colorbar": {
              "outlinewidth": 0,
              "ticks": ""
             }
            },
            "type": "scatter3d"
           }
          ],
          "scattercarpet": [
           {
            "marker": {
             "colorbar": {
              "outlinewidth": 0,
              "ticks": ""
             }
            },
            "type": "scattercarpet"
           }
          ],
          "scattergeo": [
           {
            "marker": {
             "colorbar": {
              "outlinewidth": 0,
              "ticks": ""
             }
            },
            "type": "scattergeo"
           }
          ],
          "scattergl": [
           {
            "marker": {
             "colorbar": {
              "outlinewidth": 0,
              "ticks": ""
             }
            },
            "type": "scattergl"
           }
          ],
          "scattermapbox": [
           {
            "marker": {
             "colorbar": {
              "outlinewidth": 0,
              "ticks": ""
             }
            },
            "type": "scattermapbox"
           }
          ],
          "scatterpolar": [
           {
            "marker": {
             "colorbar": {
              "outlinewidth": 0,
              "ticks": ""
             }
            },
            "type": "scatterpolar"
           }
          ],
          "scatterpolargl": [
           {
            "marker": {
             "colorbar": {
              "outlinewidth": 0,
              "ticks": ""
             }
            },
            "type": "scatterpolargl"
           }
          ],
          "scatterternary": [
           {
            "marker": {
             "colorbar": {
              "outlinewidth": 0,
              "ticks": ""
             }
            },
            "type": "scatterternary"
           }
          ],
          "surface": [
           {
            "colorbar": {
             "outlinewidth": 0,
             "ticks": ""
            },
            "colorscale": [
             [
              0,
              "#0d0887"
             ],
             [
              0.1111111111111111,
              "#46039f"
             ],
             [
              0.2222222222222222,
              "#7201a8"
             ],
             [
              0.3333333333333333,
              "#9c179e"
             ],
             [
              0.4444444444444444,
              "#bd3786"
             ],
             [
              0.5555555555555556,
              "#d8576b"
             ],
             [
              0.6666666666666666,
              "#ed7953"
             ],
             [
              0.7777777777777778,
              "#fb9f3a"
             ],
             [
              0.8888888888888888,
              "#fdca26"
             ],
             [
              1,
              "#f0f921"
             ]
            ],
            "type": "surface"
           }
          ],
          "table": [
           {
            "cells": {
             "fill": {
              "color": "#EBF0F8"
             },
             "line": {
              "color": "white"
             }
            },
            "header": {
             "fill": {
              "color": "#C8D4E3"
             },
             "line": {
              "color": "white"
             }
            },
            "type": "table"
           }
          ]
         },
         "layout": {
          "annotationdefaults": {
           "arrowcolor": "#2a3f5f",
           "arrowhead": 0,
           "arrowwidth": 1
          },
          "autotypenumbers": "strict",
          "coloraxis": {
           "colorbar": {
            "outlinewidth": 0,
            "ticks": ""
           }
          },
          "colorscale": {
           "diverging": [
            [
             0,
             "#8e0152"
            ],
            [
             0.1,
             "#c51b7d"
            ],
            [
             0.2,
             "#de77ae"
            ],
            [
             0.3,
             "#f1b6da"
            ],
            [
             0.4,
             "#fde0ef"
            ],
            [
             0.5,
             "#f7f7f7"
            ],
            [
             0.6,
             "#e6f5d0"
            ],
            [
             0.7,
             "#b8e186"
            ],
            [
             0.8,
             "#7fbc41"
            ],
            [
             0.9,
             "#4d9221"
            ],
            [
             1,
             "#276419"
            ]
           ],
           "sequential": [
            [
             0,
             "#0d0887"
            ],
            [
             0.1111111111111111,
             "#46039f"
            ],
            [
             0.2222222222222222,
             "#7201a8"
            ],
            [
             0.3333333333333333,
             "#9c179e"
            ],
            [
             0.4444444444444444,
             "#bd3786"
            ],
            [
             0.5555555555555556,
             "#d8576b"
            ],
            [
             0.6666666666666666,
             "#ed7953"
            ],
            [
             0.7777777777777778,
             "#fb9f3a"
            ],
            [
             0.8888888888888888,
             "#fdca26"
            ],
            [
             1,
             "#f0f921"
            ]
           ],
           "sequentialminus": [
            [
             0,
             "#0d0887"
            ],
            [
             0.1111111111111111,
             "#46039f"
            ],
            [
             0.2222222222222222,
             "#7201a8"
            ],
            [
             0.3333333333333333,
             "#9c179e"
            ],
            [
             0.4444444444444444,
             "#bd3786"
            ],
            [
             0.5555555555555556,
             "#d8576b"
            ],
            [
             0.6666666666666666,
             "#ed7953"
            ],
            [
             0.7777777777777778,
             "#fb9f3a"
            ],
            [
             0.8888888888888888,
             "#fdca26"
            ],
            [
             1,
             "#f0f921"
            ]
           ]
          },
          "colorway": [
           "#636efa",
           "#EF553B",
           "#00cc96",
           "#ab63fa",
           "#FFA15A",
           "#19d3f3",
           "#FF6692",
           "#B6E880",
           "#FF97FF",
           "#FECB52"
          ],
          "font": {
           "color": "#2a3f5f"
          },
          "geo": {
           "bgcolor": "white",
           "lakecolor": "white",
           "landcolor": "#E5ECF6",
           "showlakes": true,
           "showland": true,
           "subunitcolor": "white"
          },
          "hoverlabel": {
           "align": "left"
          },
          "hovermode": "closest",
          "mapbox": {
           "style": "light"
          },
          "paper_bgcolor": "white",
          "plot_bgcolor": "#E5ECF6",
          "polar": {
           "angularaxis": {
            "gridcolor": "white",
            "linecolor": "white",
            "ticks": ""
           },
           "bgcolor": "#E5ECF6",
           "radialaxis": {
            "gridcolor": "white",
            "linecolor": "white",
            "ticks": ""
           }
          },
          "scene": {
           "xaxis": {
            "backgroundcolor": "#E5ECF6",
            "gridcolor": "white",
            "gridwidth": 2,
            "linecolor": "white",
            "showbackground": true,
            "ticks": "",
            "zerolinecolor": "white"
           },
           "yaxis": {
            "backgroundcolor": "#E5ECF6",
            "gridcolor": "white",
            "gridwidth": 2,
            "linecolor": "white",
            "showbackground": true,
            "ticks": "",
            "zerolinecolor": "white"
           },
           "zaxis": {
            "backgroundcolor": "#E5ECF6",
            "gridcolor": "white",
            "gridwidth": 2,
            "linecolor": "white",
            "showbackground": true,
            "ticks": "",
            "zerolinecolor": "white"
           }
          },
          "shapedefaults": {
           "line": {
            "color": "#2a3f5f"
           }
          },
          "ternary": {
           "aaxis": {
            "gridcolor": "white",
            "linecolor": "white",
            "ticks": ""
           },
           "baxis": {
            "gridcolor": "white",
            "linecolor": "white",
            "ticks": ""
           },
           "bgcolor": "#E5ECF6",
           "caxis": {
            "gridcolor": "white",
            "linecolor": "white",
            "ticks": ""
           }
          },
          "title": {
           "x": 0.05
          },
          "xaxis": {
           "automargin": true,
           "gridcolor": "white",
           "linecolor": "white",
           "ticks": "",
           "title": {
            "standoff": 15
           },
           "zerolinecolor": "white",
           "zerolinewidth": 2
          },
          "yaxis": {
           "automargin": true,
           "gridcolor": "white",
           "linecolor": "white",
           "ticks": "",
           "title": {
            "standoff": 15
           },
           "zerolinecolor": "white",
           "zerolinewidth": 2
          }
         }
        },
        "xaxis": {
         "anchor": "y",
         "domain": [
          0,
          1
         ],
         "title": {
          "text": "Trial"
         }
        },
        "yaxis": {
         "anchor": "x",
         "domain": [
          0,
          1
         ],
         "title": {
          "text": "Score"
         }
        }
       }
      },
      "text/html": [
       "<div>                            <div id=\"779deec7-cec1-46ca-bcb5-e9a910d3cbe7\" class=\"plotly-graph-div\" style=\"height:525px; width:100%;\"></div>            <script type=\"text/javascript\">                require([\"plotly\"], function(Plotly) {                    window.PLOTLYENV=window.PLOTLYENV || {};                                    if (document.getElementById(\"779deec7-cec1-46ca-bcb5-e9a910d3cbe7\")) {                    Plotly.newPlot(                        \"779deec7-cec1-46ca-bcb5-e9a910d3cbe7\",                        [{\"customdata\":[[[[\"alpha\",0.6010505222092465]]],[[[\"alpha\",0.001244729405956262]]],[[[\"alpha\",0.7759373016028097]]],[[[\"alpha\",31.29323725185007]]],[[[\"alpha\",0.0003508193855269366]]],[[[\"alpha\",0.07419825096515736]]],[[[\"alpha\",0.00024230102105339654]]],[[[\"alpha\",3.0896988698846903]]],[[[\"alpha\",0.4966722669613841]]],[[[\"alpha\",0.00016771658897848712]]],[[[\"alpha\",0.00043999444012187577]]],[[[\"alpha\",0.00037199925344242533]]],[[[\"alpha\",0.0004309633494336917]]],[[[\"alpha\",0.0003300537053842424]]],[[[\"alpha\",0.00028929130728814323]]]],\"hovertemplate\":\"Algorithm=ridge<br>Trial=%{x}<br>Score=%{y}<br>Parameters=%{customdata[0]}<extra></extra>\",\"legendgroup\":\"ridge\",\"marker\":{\"color\":\"#636efa\",\"symbol\":\"circle\"},\"mode\":\"markers\",\"name\":\"ridge\",\"orientation\":\"v\",\"showlegend\":true,\"x\":[0,2,3,4,28,30,35,39,50,76,88,110,137,166,199],\"xaxis\":\"x\",\"y\":[0.9471554321468393,0.9458097018173504,0.9473545665481765,0.9496058571087869,0.9458058722948917,0.9460881378786741,0.9458054065930874,0.9485588883459293,0.9470141744249545,0.9458050864155652,0.9458062548545307,0.9458059631669112,0.9458062161166941,0.9458057831934419,0.9458056082713616],\"yaxis\":\"y\",\"type\":\"scatter\"},{\"customdata\":[[[[\"alpha\",0.006162467158491157]]],[[[\"alpha\",0.016555231662187374]]],[[[\"alpha\",0.0004582749531777171]]],[[[\"alpha\",0.00017637287605472746]]],[[[\"alpha\",0.00011995197253262029]]],[[[\"alpha\",0.00011207889164253218]]],[[[\"alpha\",0.0011740965051880814]]],[[[\"alpha\",0.0015503076984355424]]],[[[\"alpha\",0.03649585335839899]]],[[[\"alpha\",0.0003726843301350919]]],[[[\"alpha\",0.20023362384311136]]],[[[\"alpha\",0.004216169019651566]]],[[[\"alpha\",0.00034608379326552273]]],[[[\"alpha\",0.00024482064135119533]]],[[[\"alpha\",0.000487776516858514]]],[[[\"alpha\",0.005239588389351667]]],[[[\"alpha\",0.0004550420502021263]]],[[[\"alpha\",0.02091016333584503]]],[[[\"alpha\",0.002367137437004208]]],[[[\"alpha\",0.0001098338559889162]]],[[[\"alpha\",0.00026399630354087886]]],[[[\"alpha\",0.0008472387752849562]]],[[[\"alpha\",0.0003204788571913823]]],[[[\"alpha\",0.002615056478718971]]],[[[\"alpha\",0.0008701193893983413]]],[[[\"alpha\",0.009343031672547655]]],[[[\"alpha\",0.0007487749013093245]]],[[[\"alpha\",0.00026577767050225043]]],[[[\"alpha\",0.00023634827143863648]]],[[[\"alpha\",0.002427898969308335]]],[[[\"alpha\",0.000325062047327948]]],[[[\"alpha\",0.0007138085942687639]]],[[[\"alpha\",0.001600153468480079]]],[[[\"alpha\",0.0001752770246621694]]],[[[\"alpha\",0.009528470841126065]]],[[[\"alpha\",0.00022775953671817198]]],[[[\"alpha\",0.00010612659023547114]]],[[[\"alpha\",0.0003830467672882016]]],[[[\"alpha\",0.00021627436540954526]]],[[[\"alpha\",0.001445853412310756]]],[[[\"alpha\",0.0006269662288422743]]],[[[\"alpha\",0.00029775083715590834]]],[[[\"alpha\",0.00016120434434155882]]],[[[\"alpha\",0.0003589828022351704]]],[[[\"alpha\",0.0003217979072940209]]],[[[\"alpha\",0.0011967427390884194]]],[[[\"alpha\",0.0005043219466697327]]],[[[\"alpha\",0.00014659589751746423]]],[[[\"alpha\",0.00032279050356379395]]],[[[\"alpha\",0.003229013154984103]]],[[[\"alpha\",0.0009304375157316136]]],[[[\"alpha\",0.00032387498231343473]]],[[[\"alpha\",0.00010020749752970585]]],[[[\"alpha\",0.0004902540297799311]]],[[[\"alpha\",0.0002969173890045437]]],[[[\"alpha\",0.00028454678060790855]]],[[[\"alpha\",0.000578084982033051]]],[[[\"alpha\",0.0002650869138932816]]],[[[\"alpha\",0.0001529524006218151]]],[[[\"alpha\",0.0009624329368942344]]],[[[\"alpha\",0.00025615699836524443]]],[[[\"alpha\",0.0002775282989311552]]],[[[\"alpha\",0.001863957343085763]]],[[[\"alpha\",0.0005977110689793054]]],[[[\"alpha\",0.0002265048002483477]]],[[[\"alpha\",0.00014044844521037702]]],[[[\"alpha\",0.0011161328813483]]],[[[\"alpha\",0.00028182509069933046]]],[[[\"alpha\",0.00021910412365379805]]],[[[\"alpha\",0.00028892319193558495]]],[[[\"alpha\",0.00012601304274520566]]],[[[\"alpha\",0.0006867677082010171]]],[[[\"alpha\",0.10617565798782047]]],[[[\"alpha\",0.00026874245328880713]]],[[[\"alpha\",0.0001942292553580477]]],[[[\"alpha\",0.0004343961432539565]]],[[[\"alpha\",0.0002822324255457903]]],[[[\"alpha\",0.00010067470572454919]]],[[[\"alpha\",0.00024337137393535218]]],[[[\"alpha\",0.0002840324973679434]]],[[[\"alpha\",0.0004429356786116208]]],[[[\"alpha\",0.0006852289007676667]]],[[[\"alpha\",0.00016777305469109388]]],[[[\"alpha\",0.000290966147484301]]],[[[\"alpha\",0.0008154095304730813]]],[[[\"alpha\",0.0002628523102139585]]],[[[\"alpha\",0.0003044538444315895]]],[[[\"alpha\",0.0001869134239066806]]],[[[\"alpha\",0.0005452808403101624]]],[[[\"alpha\",0.0003030787208159202]]],[[[\"alpha\",0.0003421151990867715]]],[[[\"alpha\",0.00013966170638581]]],[[[\"alpha\",0.0017689970679156401]]],[[[\"alpha\",0.0004857680768819713]]],[[[\"alpha\",0.00019366385317210036]]],[[[\"alpha\",0.00029322512255107095]]],[[[\"alpha\",0.0003937165488046054]]],[[[\"alpha\",0.00012651680490057297]]],[[[\"alpha\",0.00032284555737474547]]],[[[\"alpha\",0.0010093248243163574]]],[[[\"alpha\",0.0006538962082803727]]],[[[\"alpha\",0.0002701530338719892]]],[[[\"alpha\",0.00018822987713131288]]],[[[\"alpha\",0.0005025161860693752]]],[[[\"alpha\",0.00030121839415697064]]],[[[\"alpha\",0.02760617308212424]]],[[[\"alpha\",0.0002755064260576385]]],[[[\"alpha\",0.00022243048023622906]]],[[[\"alpha\",0.00014320019113867708]]],[[[\"alpha\",0.00026866592038427895]]],[[[\"alpha\",0.00081294913853769]]],[[[\"alpha\",0.00020297584486418416]]],[[[\"alpha\",0.00012195713425037956]]],[[[\"alpha\",0.00025467710128659193]]],[[[\"alpha\",0.0003902292801053442]]],[[[\"alpha\",0.0005961379839180346]]],[[[\"alpha\",0.00025983379644265125]]],[[[\"alpha\",0.0001656791803098643]]],[[[\"alpha\",0.00029660077744154305]]],[[[\"alpha\",0.0004216013518661878]]],[[[\"alpha\",0.00019191268560575942]]],[[[\"alpha\",0.0005355609370130905]]],[[[\"alpha\",0.0002955668852217581]]],[[[\"alpha\",0.0003179394162049563]]],[[[\"alpha\",0.0002572094482719987]]],[[[\"alpha\",0.00010234247253002118]]],[[[\"alpha\",0.00014965779743293767]]],[[[\"alpha\",0.00037700816190696225]]],[[[\"alpha\",0.0002121806487450387]]],[[[\"alpha\",0.0006328223055577282]]],[[[\"alpha\",0.00027951955384252825]]],[[[\"alpha\",0.0002939250037567679]]],[[[\"alpha\",0.00037385749754682466]]],[[[\"alpha\",0.00046763996206561896]]],[[[\"alpha\",0.00017255223505524656]]],[[[\"alpha\",0.00026100557304665855]]],[[[\"alpha\",0.00021752221770842542]]],[[[\"alpha\",0.057297280198522024]]],[[[\"alpha\",0.0007982176804455926]]],[[[\"alpha\",0.008770629968123052]]],[[[\"alpha\",0.00026809135112437695]]],[[[\"alpha\",0.0003039866798920512]]],[[[\"alpha\",0.0001518658124315147]]],[[[\"alpha\",0.00046511836448988027]]],[[[\"alpha\",0.24295422841672976]]],[[[\"alpha\",0.00020070103964358482]]],[[[\"alpha\",0.0003836683208844992]]],[[[\"alpha\",0.0005881628083156323]]],[[[\"alpha\",0.00026630194727719005]]],[[[\"alpha\",0.00014231728344635378]]],[[[\"alpha\",0.0003085933070370752]]],[[[\"alpha\",0.0003051142591493016]]],[[[\"alpha\",0.00021599941049405656]]],[[[\"alpha\",0.0004154625288227434]]],[[[\"alpha\",0.00018413932309184442]]],[[[\"alpha\",0.00029593987834829297]]],[[[\"alpha\",0.0005140786592218493]]],[[[\"alpha\",0.00022947095032263697]]],[[[\"alpha\",0.0003771917449846884]]],[[[\"alpha\",0.0002628651681789406]]],[[[\"alpha\",0.00033338137422522654]]],[[[\"alpha\",0.00017477919220651886]]],[[[\"alpha\",0.0002668231958810487]]],[[[\"alpha\",0.0005009178284093929]]],[[[\"alpha\",0.00012855378397921287]]],[[[\"alpha\",0.00034571676369411016]]],[[[\"alpha\",0.00020514835456026157]]]],\"hovertemplate\":\"Algorithm=lasso<br>Trial=%{x}<br>Score=%{y}<br>Parameters=%{customdata[0]}<extra></extra>\",\"legendgroup\":\"lasso\",\"marker\":{\"color\":\"#EF553B\",\"symbol\":\"circle\"},\"mode\":\"markers\",\"name\":\"lasso\",\"orientation\":\"v\",\"showlegend\":true,\"x\":[1,5,6,9,11,12,13,14,15,17,18,20,21,22,23,24,25,26,27,31,32,33,34,36,37,38,40,41,42,43,44,45,46,48,49,51,52,53,54,55,58,59,61,62,63,64,65,66,68,69,70,71,72,73,74,75,77,78,79,80,81,82,83,84,85,87,89,90,91,92,93,94,95,96,97,98,99,100,101,102,103,104,105,108,109,111,112,113,114,115,116,117,118,119,120,121,122,123,124,125,126,127,128,130,131,132,133,134,135,136,138,139,140,141,142,143,144,145,146,147,148,149,151,152,153,154,155,156,158,159,160,161,162,163,164,165,167,168,169,170,171,172,173,174,175,176,177,178,179,180,181,182,183,184,185,186,187,189,190,191,192,193,194,195,196,197,198],\"xaxis\":\"x\",\"y\":[0.9389672175428982,0.9294302327835954,0.9500398525687235,0.9500902328681612,0.9498510406483309,0.9497956445257467,0.9473793968660728,0.945086273060117,0.891919680699119,0.9502165794308643,0.3389464804948818,0.9409100930605206,0.9502535145176715,0.950247724018946,0.9499686482042866,0.9397985591072718,0.9500469224113856,0.9224764929436381,0.9431142980201922,0.9497745164857381,0.9502797535996578,0.9486362756580426,0.9502759959747529,0.9427418045630881,0.9485421626102486,0.9373437476773958,0.9490795432899979,0.9502825368726407,0.9502294508274328,0.9430131991735313,0.9502727641231721,0.9492408791368658,0.9448349663520008,0.9500862499579659,0.9371932960385145,0.9502119657115078,0.949734434572683,0.9501974068395576,0.950190484820807,0.945629603904475,0.9495661914710423,0.9502879072815185,0.9500333708547464,0.9502370410586698,0.9502750912961979,0.9472882006945464,0.9499221783577119,0.9499614525388406,0.9502742629973625,0.941854420726292,0.9483040046031498,0.9502735478038954,0.9496698612945007,0.9499618729169731,0.9502883231525254,0.9502953233147071,0.9497137160696887,0.9502815924227817,0.9499926313562599,0.9481827933626569,0.9502672109276192,0.9502963988384143,0.9439723885844347,0.9496589312348584,0.9502098986541375,0.9499303692169431,0.9476084501766951,0.9502964822130379,0.9501962444593653,0.9502926907956504,0.9498802105550059,0.9493494195943446,0.6948625509417926,0.9502862831182425,0.9501449871277803,0.9500888877970954,0.9502964373402069,0.9496753512755902,0.9502449512569566,0.9502955909186339,0.9500715177401252,0.9493553150559639,0.9500636883309272,0.9502914624491947,0.9487796957195679,0.9502778163259922,0.9502836280725976,0.9501260316720657,0.9498013443197497,0.9502845562820639,0.9502582588235127,0.9499275892013603,0.9442351128117648,0.9499741667505186,0.9501437506612426,0.9502898226246657,0.950172458965406,0.9498818867954568,0.9502742213840186,0.948010230424984,0.9494725800498989,0.9502881420877998,0.9501299921214527,0.9499275651962751,0.9502859312054707,0.9090691608791975,0.9502947964782023,0.9502028187641546,0.9499426420022609,0.9502861840712985,0.9487904462388294,0.9501620529377204,0.9498618400883064,0.9502649728528159,0.9501802467301577,0.9496636404874943,0.9502726100328387,0.9500547936860226,0.9502884518718631,0.9501140127607505,0.9501396727282296,0.949827142011346,0.950288785652028,0.9502777437745561,0.9502688139102728,0.9496937107517626,0.9499777480519768,0.9502093537893714,0.9501804859699942,0.9495460997714975,0.9502968446519408,0.9502895965361698,0.95021458199043,0.9500186429126172,0.9500779176060921,0.9502745077404082,0.9501930573225469,0.8389773364681945,0.9488545491630855,0.9377778075045207,0.9502854685127481,0.9502839077510391,0.9499869011042194,0.9500245932051371,0.1865437329165439,0.9501583632314036,0.9501960247006522,0.9496864576714318,0.9502833222098073,0.9499385532941413,0.9502810360158491,0.9502831710262434,0.9501898279809267,0.9501258403921616,0.9501172861556331,0.950288642837411,0.9498915102678985,0.9502152651959875,0.9502090690343031,0.9502778394616301,0.950266037079577,0.9500845330420139,0.9502840671126596,0.9499323646692229,0.9498876175942407,0.950254088504817,0.9501658812790701],\"yaxis\":\"y\",\"type\":\"scatter\"},{\"customdata\":[[[[\"learning_rate\",0.07748571364848593],[\"max_depth\",1],[\"subsample\",0.1081539403017378],[\"colsample_bytree\",0.8774623283402829],[\"min_child_weight\",20]]],[[[\"learning_rate\",0.08019600545172129],[\"max_depth\",1],[\"subsample\",0.06393922828854465],[\"colsample_bytree\",0.9630028278354485],[\"min_child_weight\",20]]],[[[\"learning_rate\",0.011236477438678406],[\"max_depth\",4],[\"subsample\",0.41151468106452377],[\"colsample_bytree\",0.330480957357973],[\"min_child_weight\",15]]],[[[\"learning_rate\",0.01240560912844289],[\"max_depth\",8],[\"subsample\",0.2704974479544986],[\"colsample_bytree\",0.061997530866703454],[\"min_child_weight\",15]]],[[[\"learning_rate\",0.010250741887711978],[\"max_depth\",8],[\"subsample\",0.699136270124052],[\"colsample_bytree\",0.34676345983827406],[\"min_child_weight\",6]]],[[[\"learning_rate\",0.022432477519196928],[\"max_depth\",5],[\"subsample\",0.5819591447885447],[\"colsample_bytree\",0.1949715272549276],[\"min_child_weight\",13]]]],\"hovertemplate\":\"Algorithm=xgb<br>Trial=%{x}<br>Score=%{y}<br>Parameters=%{customdata[0]}<extra></extra>\",\"legendgroup\":\"xgb\",\"marker\":{\"color\":\"#00cc96\",\"symbol\":\"circle\"},\"mode\":\"markers\",\"name\":\"xgb\",\"orientation\":\"v\",\"showlegend\":true,\"x\":[10,19,57,86,107,188],\"xaxis\":\"x\",\"y\":[0.9057358214629305,0.8811693917915496,0.9362219094296959,0.9113729713455464,0.9456992597139712,0.9467614990364478],\"yaxis\":\"y\",\"type\":\"scatter\"}],                        {\"template\":{\"data\":{\"histogram2dcontour\":[{\"type\":\"histogram2dcontour\",\"colorbar\":{\"outlinewidth\":0,\"ticks\":\"\"},\"colorscale\":[[0.0,\"#0d0887\"],[0.1111111111111111,\"#46039f\"],[0.2222222222222222,\"#7201a8\"],[0.3333333333333333,\"#9c179e\"],[0.4444444444444444,\"#bd3786\"],[0.5555555555555556,\"#d8576b\"],[0.6666666666666666,\"#ed7953\"],[0.7777777777777778,\"#fb9f3a\"],[0.8888888888888888,\"#fdca26\"],[1.0,\"#f0f921\"]]}],\"choropleth\":[{\"type\":\"choropleth\",\"colorbar\":{\"outlinewidth\":0,\"ticks\":\"\"}}],\"histogram2d\":[{\"type\":\"histogram2d\",\"colorbar\":{\"outlinewidth\":0,\"ticks\":\"\"},\"colorscale\":[[0.0,\"#0d0887\"],[0.1111111111111111,\"#46039f\"],[0.2222222222222222,\"#7201a8\"],[0.3333333333333333,\"#9c179e\"],[0.4444444444444444,\"#bd3786\"],[0.5555555555555556,\"#d8576b\"],[0.6666666666666666,\"#ed7953\"],[0.7777777777777778,\"#fb9f3a\"],[0.8888888888888888,\"#fdca26\"],[1.0,\"#f0f921\"]]}],\"heatmap\":[{\"type\":\"heatmap\",\"colorbar\":{\"outlinewidth\":0,\"ticks\":\"\"},\"colorscale\":[[0.0,\"#0d0887\"],[0.1111111111111111,\"#46039f\"],[0.2222222222222222,\"#7201a8\"],[0.3333333333333333,\"#9c179e\"],[0.4444444444444444,\"#bd3786\"],[0.5555555555555556,\"#d8576b\"],[0.6666666666666666,\"#ed7953\"],[0.7777777777777778,\"#fb9f3a\"],[0.8888888888888888,\"#fdca26\"],[1.0,\"#f0f921\"]]}],\"heatmapgl\":[{\"type\":\"heatmapgl\",\"colorbar\":{\"outlinewidth\":0,\"ticks\":\"\"},\"colorscale\":[[0.0,\"#0d0887\"],[0.1111111111111111,\"#46039f\"],[0.2222222222222222,\"#7201a8\"],[0.3333333333333333,\"#9c179e\"],[0.4444444444444444,\"#bd3786\"],[0.5555555555555556,\"#d8576b\"],[0.6666666666666666,\"#ed7953\"],[0.7777777777777778,\"#fb9f3a\"],[0.8888888888888888,\"#fdca26\"],[1.0,\"#f0f921\"]]}],\"contourcarpet\":[{\"type\":\"contourcarpet\",\"colorbar\":{\"outlinewidth\":0,\"ticks\":\"\"}}],\"contour\":[{\"type\":\"contour\",\"colorbar\":{\"outlinewidth\":0,\"ticks\":\"\"},\"colorscale\":[[0.0,\"#0d0887\"],[0.1111111111111111,\"#46039f\"],[0.2222222222222222,\"#7201a8\"],[0.3333333333333333,\"#9c179e\"],[0.4444444444444444,\"#bd3786\"],[0.5555555555555556,\"#d8576b\"],[0.6666666666666666,\"#ed7953\"],[0.7777777777777778,\"#fb9f3a\"],[0.8888888888888888,\"#fdca26\"],[1.0,\"#f0f921\"]]}],\"surface\":[{\"type\":\"surface\",\"colorbar\":{\"outlinewidth\":0,\"ticks\":\"\"},\"colorscale\":[[0.0,\"#0d0887\"],[0.1111111111111111,\"#46039f\"],[0.2222222222222222,\"#7201a8\"],[0.3333333333333333,\"#9c179e\"],[0.4444444444444444,\"#bd3786\"],[0.5555555555555556,\"#d8576b\"],[0.6666666666666666,\"#ed7953\"],[0.7777777777777778,\"#fb9f3a\"],[0.8888888888888888,\"#fdca26\"],[1.0,\"#f0f921\"]]}],\"mesh3d\":[{\"type\":\"mesh3d\",\"colorbar\":{\"outlinewidth\":0,\"ticks\":\"\"}}],\"scatter\":[{\"fillpattern\":{\"fillmode\":\"overlay\",\"size\":10,\"solidity\":0.2},\"type\":\"scatter\"}],\"parcoords\":[{\"type\":\"parcoords\",\"line\":{\"colorbar\":{\"outlinewidth\":0,\"ticks\":\"\"}}}],\"scatterpolargl\":[{\"type\":\"scatterpolargl\",\"marker\":{\"colorbar\":{\"outlinewidth\":0,\"ticks\":\"\"}}}],\"bar\":[{\"error_x\":{\"color\":\"#2a3f5f\"},\"error_y\":{\"color\":\"#2a3f5f\"},\"marker\":{\"line\":{\"color\":\"#E5ECF6\",\"width\":0.5},\"pattern\":{\"fillmode\":\"overlay\",\"size\":10,\"solidity\":0.2}},\"type\":\"bar\"}],\"scattergeo\":[{\"type\":\"scattergeo\",\"marker\":{\"colorbar\":{\"outlinewidth\":0,\"ticks\":\"\"}}}],\"scatterpolar\":[{\"type\":\"scatterpolar\",\"marker\":{\"colorbar\":{\"outlinewidth\":0,\"ticks\":\"\"}}}],\"histogram\":[{\"marker\":{\"pattern\":{\"fillmode\":\"overlay\",\"size\":10,\"solidity\":0.2}},\"type\":\"histogram\"}],\"scattergl\":[{\"type\":\"scattergl\",\"marker\":{\"colorbar\":{\"outlinewidth\":0,\"ticks\":\"\"}}}],\"scatter3d\":[{\"type\":\"scatter3d\",\"line\":{\"colorbar\":{\"outlinewidth\":0,\"ticks\":\"\"}},\"marker\":{\"colorbar\":{\"outlinewidth\":0,\"ticks\":\"\"}}}],\"scattermapbox\":[{\"type\":\"scattermapbox\",\"marker\":{\"colorbar\":{\"outlinewidth\":0,\"ticks\":\"\"}}}],\"scatterternary\":[{\"type\":\"scatterternary\",\"marker\":{\"colorbar\":{\"outlinewidth\":0,\"ticks\":\"\"}}}],\"scattercarpet\":[{\"type\":\"scattercarpet\",\"marker\":{\"colorbar\":{\"outlinewidth\":0,\"ticks\":\"\"}}}],\"carpet\":[{\"aaxis\":{\"endlinecolor\":\"#2a3f5f\",\"gridcolor\":\"white\",\"linecolor\":\"white\",\"minorgridcolor\":\"white\",\"startlinecolor\":\"#2a3f5f\"},\"baxis\":{\"endlinecolor\":\"#2a3f5f\",\"gridcolor\":\"white\",\"linecolor\":\"white\",\"minorgridcolor\":\"white\",\"startlinecolor\":\"#2a3f5f\"},\"type\":\"carpet\"}],\"table\":[{\"cells\":{\"fill\":{\"color\":\"#EBF0F8\"},\"line\":{\"color\":\"white\"}},\"header\":{\"fill\":{\"color\":\"#C8D4E3\"},\"line\":{\"color\":\"white\"}},\"type\":\"table\"}],\"barpolar\":[{\"marker\":{\"line\":{\"color\":\"#E5ECF6\",\"width\":0.5},\"pattern\":{\"fillmode\":\"overlay\",\"size\":10,\"solidity\":0.2}},\"type\":\"barpolar\"}],\"pie\":[{\"automargin\":true,\"type\":\"pie\"}]},\"layout\":{\"autotypenumbers\":\"strict\",\"colorway\":[\"#636efa\",\"#EF553B\",\"#00cc96\",\"#ab63fa\",\"#FFA15A\",\"#19d3f3\",\"#FF6692\",\"#B6E880\",\"#FF97FF\",\"#FECB52\"],\"font\":{\"color\":\"#2a3f5f\"},\"hovermode\":\"closest\",\"hoverlabel\":{\"align\":\"left\"},\"paper_bgcolor\":\"white\",\"plot_bgcolor\":\"#E5ECF6\",\"polar\":{\"bgcolor\":\"#E5ECF6\",\"angularaxis\":{\"gridcolor\":\"white\",\"linecolor\":\"white\",\"ticks\":\"\"},\"radialaxis\":{\"gridcolor\":\"white\",\"linecolor\":\"white\",\"ticks\":\"\"}},\"ternary\":{\"bgcolor\":\"#E5ECF6\",\"aaxis\":{\"gridcolor\":\"white\",\"linecolor\":\"white\",\"ticks\":\"\"},\"baxis\":{\"gridcolor\":\"white\",\"linecolor\":\"white\",\"ticks\":\"\"},\"caxis\":{\"gridcolor\":\"white\",\"linecolor\":\"white\",\"ticks\":\"\"}},\"coloraxis\":{\"colorbar\":{\"outlinewidth\":0,\"ticks\":\"\"}},\"colorscale\":{\"sequential\":[[0.0,\"#0d0887\"],[0.1111111111111111,\"#46039f\"],[0.2222222222222222,\"#7201a8\"],[0.3333333333333333,\"#9c179e\"],[0.4444444444444444,\"#bd3786\"],[0.5555555555555556,\"#d8576b\"],[0.6666666666666666,\"#ed7953\"],[0.7777777777777778,\"#fb9f3a\"],[0.8888888888888888,\"#fdca26\"],[1.0,\"#f0f921\"]],\"sequentialminus\":[[0.0,\"#0d0887\"],[0.1111111111111111,\"#46039f\"],[0.2222222222222222,\"#7201a8\"],[0.3333333333333333,\"#9c179e\"],[0.4444444444444444,\"#bd3786\"],[0.5555555555555556,\"#d8576b\"],[0.6666666666666666,\"#ed7953\"],[0.7777777777777778,\"#fb9f3a\"],[0.8888888888888888,\"#fdca26\"],[1.0,\"#f0f921\"]],\"diverging\":[[0,\"#8e0152\"],[0.1,\"#c51b7d\"],[0.2,\"#de77ae\"],[0.3,\"#f1b6da\"],[0.4,\"#fde0ef\"],[0.5,\"#f7f7f7\"],[0.6,\"#e6f5d0\"],[0.7,\"#b8e186\"],[0.8,\"#7fbc41\"],[0.9,\"#4d9221\"],[1,\"#276419\"]]},\"xaxis\":{\"gridcolor\":\"white\",\"linecolor\":\"white\",\"ticks\":\"\",\"title\":{\"standoff\":15},\"zerolinecolor\":\"white\",\"automargin\":true,\"zerolinewidth\":2},\"yaxis\":{\"gridcolor\":\"white\",\"linecolor\":\"white\",\"ticks\":\"\",\"title\":{\"standoff\":15},\"zerolinecolor\":\"white\",\"automargin\":true,\"zerolinewidth\":2},\"scene\":{\"xaxis\":{\"backgroundcolor\":\"#E5ECF6\",\"gridcolor\":\"white\",\"linecolor\":\"white\",\"showbackground\":true,\"ticks\":\"\",\"zerolinecolor\":\"white\",\"gridwidth\":2},\"yaxis\":{\"backgroundcolor\":\"#E5ECF6\",\"gridcolor\":\"white\",\"linecolor\":\"white\",\"showbackground\":true,\"ticks\":\"\",\"zerolinecolor\":\"white\",\"gridwidth\":2},\"zaxis\":{\"backgroundcolor\":\"#E5ECF6\",\"gridcolor\":\"white\",\"linecolor\":\"white\",\"showbackground\":true,\"ticks\":\"\",\"zerolinecolor\":\"white\",\"gridwidth\":2}},\"shapedefaults\":{\"line\":{\"color\":\"#2a3f5f\"}},\"annotationdefaults\":{\"arrowcolor\":\"#2a3f5f\",\"arrowhead\":0,\"arrowwidth\":1},\"geo\":{\"bgcolor\":\"white\",\"landcolor\":\"#E5ECF6\",\"subunitcolor\":\"white\",\"showland\":true,\"showlakes\":true,\"lakecolor\":\"white\"},\"title\":{\"x\":0.05},\"mapbox\":{\"style\":\"light\"}}},\"xaxis\":{\"anchor\":\"y\",\"domain\":[0.0,1.0],\"title\":{\"text\":\"Trial\"}},\"yaxis\":{\"anchor\":\"x\",\"domain\":[0.0,1.0],\"title\":{\"text\":\"Score\"}},\"legend\":{\"title\":{\"text\":\"Algorithm\"},\"tracegroupgap\":0},\"margin\":{\"t\":60},\"hoverlabel\":{\"font\":{\"size\":8,\"family\":\"Rockwell\"},\"bgcolor\":\"white\"}},                        {\"responsive\": true}                    ).then(function(){\n",
       "                            \n",
       "var gd = document.getElementById('779deec7-cec1-46ca-bcb5-e9a910d3cbe7');\n",
       "var x = new MutationObserver(function (mutations, observer) {{\n",
       "        var display = window.getComputedStyle(gd).display;\n",
       "        if (!display || display === 'none') {{\n",
       "            console.log([gd, 'removed!']);\n",
       "            Plotly.purge(gd);\n",
       "            observer.disconnect();\n",
       "        }}\n",
       "}});\n",
       "\n",
       "// Listen for the removal of the full notebook cells\n",
       "var notebookContainer = gd.closest('#notebook-container');\n",
       "if (notebookContainer) {{\n",
       "    x.observe(notebookContainer, {childList: true});\n",
       "}}\n",
       "\n",
       "// Listen for the clearing of the current output cell\n",
       "var outputEl = gd.closest('.output');\n",
       "if (outputEl) {{\n",
       "    x.observe(outputEl, {childList: true});\n",
       "}}\n",
       "\n",
       "                        })                };                });            </script>        </div>"
      ]
     },
     "metadata": {},
     "output_type": "display_data"
    }
   ],
   "source": [
    "import plotly.express as px\n",
    "\n",
    "\n",
    "fig = px.scatter(df_optuna.loc[df_optuna.Score > 0], \n",
    "                 x=\"Trial\", \n",
    "                 y=\"Score\", \n",
    "                 color=\"Algorithm\",\n",
    "                 hover_data=['Parameters'])\n",
    "\n",
    "fig.update_layout(\n",
    "    hoverlabel=dict(\n",
    "        bgcolor=\"white\",\n",
    "        font_size=8,\n",
    "        font_family=\"Rockwell\"\n",
    "    )\n",
    ")\n",
    "\n",
    "fig.show()"
   ]
  },
  {
   "cell_type": "code",
   "execution_count": 169,
   "id": "e00144bd",
   "metadata": {},
   "outputs": [
    {
     "data": {
      "text/plain": [
       "'ridge'"
      ]
     },
     "execution_count": 169,
     "metadata": {},
     "output_type": "execute_result"
    }
   ],
   "source": [
    "study.get_trials()[0].params['algorithm']"
   ]
  },
  {
   "cell_type": "code",
   "execution_count": 101,
   "id": "3712a512",
   "metadata": {},
   "outputs": [
    {
     "data": {
      "text/plain": [
       "[FrozenTrial(number=160, state=1, values=[0.9502968446519408], datetime_start=datetime.datetime(2024, 5, 6, 15, 2, 55, 142023), datetime_complete=datetime.datetime(2024, 5, 6, 15, 2, 55, 797641), params={'algorithm': 'lasso', 'alpha': 0.00027951955384252825}, user_attrs={}, system_attrs={}, intermediate_values={}, distributions={'algorithm': CategoricalDistribution(choices=('ridge', 'lasso', 'xgb')), 'alpha': FloatDistribution(high=100.0, log=True, low=0.0001, step=None)}, trial_id=160, value=None)]"
      ]
     },
     "execution_count": 101,
     "metadata": {},
     "output_type": "execute_result"
    }
   ],
   "source": [
    "# 200 trials...does not want to pick xgb\n",
    "study.best_trials"
   ]
  },
  {
   "cell_type": "code",
   "execution_count": 87,
   "id": "40390fad",
   "metadata": {},
   "outputs": [
    {
     "data": {
      "text/plain": [
       "[FrozenTrial(number=40, state=1, values=[0.9502656323414269], datetime_start=datetime.datetime(2024, 5, 6, 14, 36, 12, 170582), datetime_complete=datetime.datetime(2024, 5, 6, 14, 36, 12, 845745), params={'algorithm': 'lasso', 'alpha': 0.00033386661330344237}, user_attrs={}, system_attrs={}, intermediate_values={}, distributions={'algorithm': CategoricalDistribution(choices=('ridge', 'lasso', 'xgb')), 'alpha': FloatDistribution(high=100.0, log=True, low=0.0001, step=None)}, trial_id=40, value=None)]"
      ]
     },
     "execution_count": 87,
     "metadata": {},
     "output_type": "execute_result"
    }
   ],
   "source": [
    "# generic parameters and 50 trials\n",
    "study.best_trials"
   ]
  },
  {
   "cell_type": "code",
   "execution_count": 67,
   "id": "d61d59b7",
   "metadata": {},
   "outputs": [
    {
     "data": {
      "text/plain": [
       "[FrozenTrial(number=17, state=1, values=[0.9496878313016601], datetime_start=datetime.datetime(2024, 5, 6, 14, 14, 25, 963589), datetime_complete=datetime.datetime(2024, 5, 6, 14, 14, 26, 319467), params={'algorithm': 'ridge', 'alpha': 22.71735402737913}, user_attrs={}, system_attrs={}, intermediate_values={}, distributions={'algorithm': CategoricalDistribution(choices=('ridge', 'lasso', 'xgb')), 'alpha': FloatDistribution(high=100.0, log=True, low=0.1, step=None)}, trial_id=17, value=None)]"
      ]
     },
     "execution_count": 67,
     "metadata": {},
     "output_type": "execute_result"
    }
   ],
   "source": [
    "# lower the learning rate min for better visualization with xgb\n",
    "study.best_trials"
   ]
  },
  {
   "cell_type": "code",
   "execution_count": 41,
   "id": "0a19621c",
   "metadata": {},
   "outputs": [
    {
     "data": {
      "text/plain": [
       "[FrozenTrial(number=10, state=1, values=[0.950206827235748], datetime_start=datetime.datetime(2024, 5, 6, 13, 40, 19, 276115), datetime_complete=datetime.datetime(2024, 5, 6, 13, 40, 19, 928448), params={'algorithm': 'lasso', 'alpha': 0.0003786753353101835}, user_attrs={}, system_attrs={}, intermediate_values={}, distributions={'algorithm': CategoricalDistribution(choices=('ridge', 'lasso', 'xgb')), 'alpha': FloatDistribution(high=1.0, log=True, low=0.0001, step=None)}, trial_id=10, value=None)]"
      ]
     },
     "execution_count": 41,
     "metadata": {},
     "output_type": "execute_result"
    }
   ],
   "source": [
    "# study without drop and 20 trials \n",
    "study.best_trials"
   ]
  },
  {
   "cell_type": "code",
   "execution_count": 42,
   "id": "882575ee",
   "metadata": {},
   "outputs": [
    {
     "data": {
      "text/plain": [
       "[FrozenTrial(number=10, state=1, values=[0.950206827235748], datetime_start=datetime.datetime(2024, 5, 6, 13, 40, 19, 276115), datetime_complete=datetime.datetime(2024, 5, 6, 13, 40, 19, 928448), params={'algorithm': 'lasso', 'alpha': 0.0003786753353101835}, user_attrs={}, system_attrs={}, intermediate_values={}, distributions={'algorithm': CategoricalDistribution(choices=('ridge', 'lasso', 'xgb')), 'alpha': FloatDistribution(high=1.0, log=True, low=0.0001, step=None)}, trial_id=10, value=None)]"
      ]
     },
     "execution_count": 42,
     "metadata": {},
     "output_type": "execute_result"
    }
   ],
   "source": []
  },
  {
   "cell_type": "code",
   "execution_count": 35,
   "id": "7da5ce05",
   "metadata": {},
   "outputs": [
    {
     "data": {
      "text/plain": [
       "[FrozenTrial(number=2, state=1, values=[0.9499955354069816], datetime_start=datetime.datetime(2024, 5, 6, 13, 32, 15, 632163), datetime_complete=datetime.datetime(2024, 5, 6, 13, 32, 16, 348714), params={'algorithm': 'lasso', 'alpha': 0.00022003193991056288}, user_attrs={}, system_attrs={}, intermediate_values={}, distributions={'algorithm': CategoricalDistribution(choices=('ridge', 'lasso', 'xgb')), 'alpha': FloatDistribution(high=1.0, log=True, low=0.0001, step=None)}, trial_id=2, value=None)]"
      ]
     },
     "execution_count": 35,
     "metadata": {},
     "output_type": "execute_result"
    }
   ],
   "source": [
    "# study with drop and 20 trials and target variable transformed \n",
    "study.best_trials"
   ]
  }
 ],
 "metadata": {
  "kernelspec": {
   "display_name": "Python 3 (ipykernel)",
   "language": "python",
   "name": "python3"
  },
  "language_info": {
   "codemirror_mode": {
    "name": "ipython",
    "version": 3
   },
   "file_extension": ".py",
   "mimetype": "text/x-python",
   "name": "python",
   "nbconvert_exporter": "python",
   "pygments_lexer": "ipython3",
   "version": "3.11.5"
  }
 },
 "nbformat": 4,
 "nbformat_minor": 5
}
