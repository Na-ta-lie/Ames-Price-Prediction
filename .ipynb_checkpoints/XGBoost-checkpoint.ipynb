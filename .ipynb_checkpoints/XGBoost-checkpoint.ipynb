{
 "cells": [
  {
   "cell_type": "code",
   "execution_count": 11,
   "id": "64a18806",
   "metadata": {},
   "outputs": [],
   "source": [
    "import numpy as np\n",
    "import pandas as pd\n",
    "import xgboost as xgb\n",
    "from xgboost import XGBRegressor\n",
    "from sklearn.model_selection import train_test_split\n",
    "from sklearn.metrics import balanced_accuracy_score, roc_auc_score, make_scorer\n",
    "from sklearn.model_selection import GridSearchCV\n",
    "from sklearn.metrics import confusion_matrix\n",
    "from sklearn.metrics import ConfusionMatrixDisplay\n",
    "from sklearn.preprocessing import OneHotEncoder, StandardScaler\n",
    "from sklearn.pipeline import Pipeline\n",
    "from sklearn import compose, pipeline\n",
    "from sklearn.preprocessing import OneHotEncoder\n",
    "from sklearn.compose import ColumnTransformer\n",
    "from sklearn.compose import make_column_selector as selector\n",
    "from sklearn.preprocessing import OneHotEncoder, StandardScaler, OrdinalEncoder\n",
    "from sklearn.pipeline import Pipeline\n",
    "from sklearn import compose, pipeline\n",
    "model = XGBRegressor()"
   ]
  },
  {
   "cell_type": "markdown",
   "id": "37b03f54",
   "metadata": {},
   "source": [
    "### We need to play with more than just the best performing dataframe "
   ]
  },
  {
   "cell_type": "code",
   "execution_count": 6,
   "id": "bf474f0b",
   "metadata": {},
   "outputs": [],
   "source": [
    "df = pd.read_csv('df_normal_quality.csv', index_col=0)"
   ]
  },
  {
   "cell_type": "code",
   "execution_count": 7,
   "id": "ec9e60e8",
   "metadata": {},
   "outputs": [],
   "source": [
    "y = df.SalePrice\n",
    "X = df.drop(['SalePrice', 'PID'], axis =1).copy()"
   ]
  },
  {
   "cell_type": "code",
   "execution_count": 13,
   "id": "777419d6",
   "metadata": {},
   "outputs": [
    {
     "ename": "NameError",
     "evalue": "name 'Integer' is not defined",
     "output_type": "error",
     "traceback": [
      "\u001b[1;31m---------------------------------------------------------------------------\u001b[0m",
      "\u001b[1;31mNameError\u001b[0m                                 Traceback (most recent call last)",
      "Cell \u001b[1;32mIn[13], line 26\u001b[0m\n\u001b[0;32m     20\u001b[0m model_pipe \u001b[38;5;241m=\u001b[39m Pipeline(steps\u001b[38;5;241m=\u001b[39m[(\u001b[38;5;124m\"\u001b[39m\u001b[38;5;124mPreprocess\u001b[39m\u001b[38;5;124m\"\u001b[39m, preprocessor), (\u001b[38;5;124m\"\u001b[39m\u001b[38;5;124mXGB\u001b[39m\u001b[38;5;124m\"\u001b[39m, model)])\n\u001b[0;32m     22\u001b[0m model_regr \u001b[38;5;241m=\u001b[39m compose\u001b[38;5;241m.\u001b[39mTransformedTargetRegressor(regressor\u001b[38;5;241m=\u001b[39m model_pipe,\n\u001b[0;32m     23\u001b[0m                                                 func\u001b[38;5;241m=\u001b[39mnp\u001b[38;5;241m.\u001b[39mlog, inverse_func\u001b[38;5;241m=\u001b[39mnp\u001b[38;5;241m.\u001b[39mexp)\n\u001b[0;32m     25\u001b[0m param_grid \u001b[38;5;241m=\u001b[39m {\n\u001b[1;32m---> 26\u001b[0m     \u001b[38;5;124m\"\u001b[39m\u001b[38;5;124mregressor__XGB__max_depth\u001b[39m\u001b[38;5;124m\"\u001b[39m: Integer(\u001b[38;5;241m4\u001b[39m,\u001b[38;5;241m6\u001b[39m),\n\u001b[0;32m     27\u001b[0m     \u001b[38;5;124m\"\u001b[39m\u001b[38;5;124mregressor__XGB__learning_rate\u001b[39m\u001b[38;5;124m\"\u001b[39m: [\u001b[38;5;241m.08\u001b[39m],\n\u001b[0;32m     28\u001b[0m     \u001b[38;5;124m\"\u001b[39m\u001b[38;5;124mregressor__XGB__gamma\u001b[39m\u001b[38;5;124m\"\u001b[39m: [\u001b[38;5;241m0\u001b[39m],\n\u001b[0;32m     29\u001b[0m     \u001b[38;5;124m\"\u001b[39m\u001b[38;5;124mregressor__XGB__reg_lambda\u001b[39m\u001b[38;5;124m\"\u001b[39m: [\u001b[38;5;241m.17\u001b[39m],\n\u001b[0;32m     30\u001b[0m     \u001b[38;5;124m\"\u001b[39m\u001b[38;5;124mregressor__XGB__scale_pos_weight\u001b[39m\u001b[38;5;124m\"\u001b[39m: [\u001b[38;5;241m1\u001b[39m],\n\u001b[0;32m     31\u001b[0m     \u001b[38;5;124m\"\u001b[39m\u001b[38;5;124mregressor__XGB__n_estimators\u001b[39m\u001b[38;5;124m\"\u001b[39m: [\u001b[38;5;241m630\u001b[39m],\n\u001b[0;32m     32\u001b[0m     \u001b[38;5;124m\"\u001b[39m\u001b[38;5;124mregressor__XGB__reg_alpha\u001b[39m\u001b[38;5;124m\"\u001b[39m: [\u001b[38;5;241m.1\u001b[39m],\n\u001b[0;32m     33\u001b[0m     \u001b[38;5;124m\"\u001b[39m\u001b[38;5;124mregressor__XGB__min_child_weight\u001b[39m\u001b[38;5;124m\"\u001b[39m: [\u001b[38;5;241m2\u001b[39m]\n\u001b[0;32m     34\u001b[0m }\n\u001b[0;32m     37\u001b[0m search \u001b[38;5;241m=\u001b[39m GridSearchCV(model_regr, param_grid, n_jobs\u001b[38;5;241m=\u001b[39m\u001b[38;5;241m2\u001b[39m, cv \u001b[38;5;241m=\u001b[39m \u001b[38;5;241m5\u001b[39m)\n",
      "\u001b[1;31mNameError\u001b[0m: name 'Integer' is not defined"
     ]
    }
   ],
   "source": [
    "numerical_columns_selector = selector(dtype_exclude=object)\n",
    "categorical_columns_selector = selector(dtype_include=object)\n",
    "\n",
    "numerical_columns = numerical_columns_selector(X)\n",
    "categorical_columns = categorical_columns_selector(X)\n",
    "\n",
    "categorical_preprocessor = OneHotEncoder(handle_unknown=\"ignore\", drop='first')\n",
    "#categorical_preprocessor2 =  OrdinalEncoder(handle_unknown=\"use_encoded_value\", \n",
    " #                                         unknown_value= -1) \n",
    "numerical_preprocessor = StandardScaler()\n",
    "\n",
    "preprocessor = ColumnTransformer(\n",
    "    [\n",
    "        (\"standard_scaler\", numerical_preprocessor, numerical_columns),\n",
    "        (\"one-hot-encoder\", categorical_preprocessor, categorical_columns),\n",
    "    ]\n",
    ")\n",
    "\n",
    "\n",
    "model_pipe = Pipeline(steps=[(\"Preprocess\", preprocessor), (\"XGB\", model)])\n",
    "\n",
    "model_regr = compose.TransformedTargetRegressor(regressor= model_pipe,\n",
    "                                                func=np.log, inverse_func=np.exp)\n",
    "\n",
    "param_grid = {\n",
    "    \"regressor__XGB__max_depth\": [3],\n",
    "    \"regressor__XGB__learning_rate\": [.08],\n",
    "    \"regressor__XGB__gamma\": [0],\n",
    "    \"regressor__XGB__reg_lambda\": [.17],\n",
    "    \"regressor__XGB__scale_pos_weight\": [1],\n",
    "    \"regressor__XGB__n_estimators\": [630],\n",
    "    \"regressor__XGB__reg_alpha\": [.1],\n",
    "    \"regressor__XGB__min_child_weight\": [2]\n",
    "}\n",
    "\n",
    "\n",
    "search = GridSearchCV(model_regr, param_grid, n_jobs=2, cv = 5)"
   ]
  },
  {
   "cell_type": "markdown",
   "id": "9fec4ab0",
   "metadata": {},
   "source": [
    "### above is my initial work, below will be with search grid with bayessearch"
   ]
  },
  {
   "cell_type": "code",
   "execution_count": null,
   "id": "b6cfcd38",
   "metadata": {},
   "outputs": [],
   "source": [
    "numerical_columns_selector = selector(dtype_exclude=object)\n",
    "categorical_columns_selector = selector(dtype_include=object)\n",
    "\n",
    "numerical_columns = numerical_columns_selector(X)\n",
    "categorical_columns = categorical_columns_selector(X)\n",
    "\n",
    "categorical_preprocessor = OneHotEncoder(handle_unknown=\"ignore\", drop='first')\n",
    "#categorical_preprocessor2 =  OrdinalEncoder(handle_unknown=\"use_encoded_value\", \n",
    " #                                         unknown_value= -1) \n",
    "numerical_preprocessor = StandardScaler()\n",
    "\n",
    "preprocessor = ColumnTransformer(\n",
    "    [\n",
    "        (\"standard_scaler\", numerical_preprocessor, numerical_columns),\n",
    "        (\"one-hot-encoder\", categorical_preprocessor, categorical_columns),\n",
    "    ]\n",
    ")\n",
    "\n",
    "\n",
    "model_pipe = Pipeline(steps=[(\"Preprocess\", preprocessor), (\"XGB\", model)])\n",
    "\n",
    "model_regr = compose.TransformedTargetRegressor(regressor= model_pipe,\n",
    "                                                func=np.log, inverse_func=np.exp)\n",
    "\n",
    "search_space = {\n",
    "    \"regressor__XGB__max_depth\": Integer(2,8],\n",
    "    \"regressor__XGB__learning_rate\": [.08],\n",
    "    \"regressor__XGB__gamma\": [0],\n",
    "    \"regressor__XGB__reg_lambda\": [.17],\n",
    "    \"regressor__XGB__scale_pos_weight\": [1],\n",
    "    \"regressor__XGB__n_estimators\": [630],\n",
    "    \"regressor__XGB__reg_alpha\": [.1],\n",
    "    \"regressor__XGB__min_child_weight\": [2]\n",
    "}\n",
    "\n",
    "\n",
    "search = GridSearchCV(model_regr, param_grid, n_jobs=2, cv = 5)"
   ]
  }
 ],
 "metadata": {
  "kernelspec": {
   "display_name": "Python 3 (ipykernel)",
   "language": "python",
   "name": "python3"
  },
  "language_info": {
   "codemirror_mode": {
    "name": "ipython",
    "version": 3
   },
   "file_extension": ".py",
   "mimetype": "text/x-python",
   "name": "python",
   "nbconvert_exporter": "python",
   "pygments_lexer": "ipython3",
   "version": "3.11.5"
  }
 },
 "nbformat": 4,
 "nbformat_minor": 5
}
