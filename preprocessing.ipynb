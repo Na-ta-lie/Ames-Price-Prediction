{
 "cells": [
  {
   "cell_type": "code",
   "execution_count": 2,
   "id": "df1335e7",
   "metadata": {},
   "outputs": [],
   "source": [
    "import seaborn as sns\n",
    "import numpy as np\n",
    "import pandas as pd\n",
    "import glob\n",
    "import scipy.stats\n",
    "from matplotlib import pyplot as plt\n",
    "import seaborn as sns\n",
    "import plotly.express as px\n",
    "plt.style.use('ggplot')\n",
    "import os\n",
    "if not os.path.exists(\"images\"):\n",
    "    os.mkdir(\"images\")\n",
    "import kaleido \n",
    "import plotly.graph_objects as go\n",
    "import math\n",
    "from scipy import stats\n",
    "from sklearn.compose import make_column_selector as selector\n",
    "from sklearn.preprocessing import OneHotEncoder, StandardScaler\n",
    "from sklearn.compose import ColumnTransformer\n",
    "from sklearn.pipeline import make_pipeline"
   ]
  },
  {
   "cell_type": "code",
   "execution_count": 87,
   "id": "2e02b2d8",
   "metadata": {},
   "outputs": [],
   "source": [
    "housing = pd.read_csv('Ames_HousePrice.csv', index_col=0)\n",
    "\n",
    "# reset index so there is only one number associated with each house\n",
    "housing = housing.reset_index(drop = True)\n",
    "\n",
    "# deletes duplicate point \n",
    "housing = housing.drop_duplicates()\n",
    "\n",
    "#Convert some numerical variables to categorical \n",
    "housing.MSSubClass = housing.MSSubClass.apply(lambda x: str(x))\n",
    "housing.MoSold = housing.MoSold.apply(lambda x: str(x))\n",
    "housing.YrSold = housing.YrSold.apply(lambda x: str(x))\n",
    "\n",
    "# Alley\n",
    "housing.Alley.replace({'Grvl':1, 'Pave':2}, inplace=True)\n",
    "\n",
    "# Lot Shape\n",
    "housing.LotShape.replace({'Reg':1, 'IR1':2, 'IR2':3, 'IR3':4}, inplace=True)\n",
    "\n",
    "# Land Contour\n",
    "housing.LandContour.replace({'Low':1, 'HLS':2, 'Bnk':3, 'Lvl':4}, inplace=True)\n",
    "\n",
    "# Utilities\n",
    "housing.Utilities.replace({'ELO':1, 'NoSeWa':2, 'NoSewr':3, 'AllPub':4}, inplace=True)\n",
    "\n",
    "# Land Slope..idk if I'm going to inlude this \n",
    "# further investigation there is correlation ..severe slope = more expensiveaaa\n",
    "housing.LandSlope.replace({'Sev':1, 'Mod':2, 'Gtl':3}, inplace=True)\n",
    "\n",
    "# Exterior Quality\n",
    "housing.ExterQual.replace({'Po':1, 'Fa':2, 'TA':3, 'Gd':4, 'Ex':5}, inplace=True)\n",
    "\n",
    "# Exterior Condition\n",
    "housing.ExterCond.replace({'Po':1, 'Fa':2, 'TA':3, 'Gd':4, 'Ex':5}, inplace=True)\n",
    "\n",
    "# Basement Quality\n",
    "housing.BsmtQual.replace({'Po':1, 'Fa':2, 'TA':3, 'Gd':4, 'Ex':5}, inplace=True)\n",
    "\n",
    "# Basement Condition\n",
    "housing.BsmtCond.replace({'Po':1, 'Fa':2, 'TA':3, 'Gd':4, 'Ex':5}, inplace=True)\n",
    "\n",
    "# Basement Exposure\n",
    "housing.BsmtExposure.replace({'No':1, 'Mn':2, 'Av':3, 'Gd':4}, inplace=True)\n",
    "\n",
    "# Finished Basement 1 Rating\n",
    "housing.BsmtFinType1.replace({'Unf':1, 'LwQ':2, 'Rec':3, 'BLQ':4, 'ALQ':5, 'GLQ':6}, inplace=True)\n",
    "\n",
    "# Finished Basement 2 Rating\n",
    "housing.BsmtFinType2.replace({'Unf':1, 'LwQ':2, 'Rec':3, 'BLQ':4, 'ALQ':5, 'GLQ':6}, inplace=True)\n",
    "\n",
    "# Heating Quality and Condition\n",
    "housing.HeatingQC.replace({'Po':1, 'Fa':2, 'TA':3, 'Gd':4, 'Ex':5}, inplace=True)\n",
    "\n",
    "# Kitchen Quality\n",
    "housing.KitchenQual.replace({'Po':1, 'Fa':2, 'TA':3, 'Gd':4, 'Ex':5}, inplace=True)\n",
    "\n",
    "# Home functionality\n",
    "housing.Functional.replace({'Sal':1, 'Sev':2, 'Maj2':3, 'Maj1':4, 'Mod':5, 'Min2':6, 'Min1':7, 'Typ':8}, inplace=True)\n",
    "\n",
    "# Fireplace Quality\n",
    "housing.FireplaceQu.replace({'Po':1, 'Fa':2, 'TA':3, 'Gd':4, 'Ex':5}, inplace=True)\n",
    "\n",
    "# Garage Finish\n",
    "housing.GarageFinish.replace({'Unf':1, 'RFn':2, 'Fin':3}, inplace=True)\n",
    "\n",
    "# Garage Quality\n",
    "housing.GarageQual.replace({'Po':1, 'Fa':2, 'TA':3, 'Gd':4, 'Ex':5}, inplace=True)\n",
    "\n",
    "# Garage Condition\n",
    "housing.GarageCond.replace({'Po':1, 'Fa':2, 'TA':3, 'Gd':4, 'Ex':5}, inplace=True)\n",
    "\n",
    "# Paved Driveway\n",
    "housing.PavedDrive.replace({'N':1, 'P':2, 'Y':3}, inplace=True)\n",
    "\n",
    "# Pool Quality\n",
    "housing.PoolQC.replace({'Fa':2, 'TA':3, 'Gd':4, 'Ex':5}, inplace=True)\n",
    "\n",
    "converted_features = ['Alley','LotShape','LandContour','Utilities','LandSlope','ExterQual','ExterCond',\n",
    "        'BsmtQual','BsmtCond','BsmtExposure','BsmtFinType1','BsmtFinType2','HeatingQC',\n",
    "        'KitchenQual','Functional','FireplaceQu','GarageFinish','GarageQual',\n",
    "        'GarageCond','PavedDrive','PoolQC']\n",
    "\n",
    "housing[converted_features] = housing[converted_features].fillna(0)\n",
    "\n",
    "missing_categorical_none = ['MasVnrType', 'GarageType', 'Fence', 'MiscFeature']  \n",
    "\n",
    "housing[missing_categorical_none] = housing[missing_categorical_none].fillna('None')\n",
    "\n",
    "housing.Electrical = housing.Electrical.fillna('SBrkr')\n",
    "\n",
    "missing_numerical = ['MasVnrArea', 'BsmtFinSF1', 'BsmtFinSF2', 'BsmtUnfSF',\n",
    "                                'TotalBsmtSF', 'BsmtFullBath', 'BsmtHalfBath',\n",
    "                                'GarageCars', 'GarageArea']\n",
    "housing[missing_numerical] = housing[missing_numerical].fillna(0)\n",
    "\n",
    "proportion = (housing.LotFrontage/housing.LotArea).mean()\n",
    "\n",
    "housing.LotFrontage.fillna((housing.LotArea * proportion), inplace=True)\n",
    "\n",
    "f = lambda x: 'yes' if x>0 else 'no'\n",
    "housing.PoolArea = housing.PoolArea.map(f)\n",
    "\n",
    "housing = housing.rename(columns={\"PoolArea\": \"PoolYN\"})\n",
    "\n",
    "housing['GarageYN'] = housing.GarageYrBlt\n",
    "housing.GarageYN = housing.GarageYN.fillna(0)\n",
    "\n",
    "housing.GarageYN = housing.GarageYN.map(f)\n",
    "\n",
    "housing = housing.drop(['GarageYrBlt'], axis = 1).copy()"
   ]
  },
  {
   "cell_type": "code",
   "execution_count": 88,
   "id": "4897830f",
   "metadata": {},
   "outputs": [],
   "source": [
    "housing['Bathrooms'] = housing.BsmtFullBath + housing.BsmtHalfBath + housing.FullBath + housing.HalfBath"
   ]
  },
  {
   "cell_type": "code",
   "execution_count": 63,
   "id": "2ffb8fcc",
   "metadata": {},
   "outputs": [],
   "source": [
    "# this did not help\n",
    "#housing['TotalSFBuilt'] = housing.TotalBsmtSF + housing.GarageArea + housing.GrLivArea + housing.WoodDeckSF + housing.OpenPorchSF + housing.EnclosedPorch + housing['3SsnPorch'] + housing.ScreenPorch"
   ]
  },
  {
   "cell_type": "code",
   "execution_count": 70,
   "id": "88c80705",
   "metadata": {},
   "outputs": [],
   "source": [
    "# this also did not help\n",
    "# housing['TotalSFInside'] = housing.TotalBsmtSF + housing.GrLivArea"
   ]
  },
  {
   "cell_type": "code",
   "execution_count": 80,
   "id": "0c258814",
   "metadata": {},
   "outputs": [],
   "source": [
    "housing.to_csv('housing_pp3.csv')"
   ]
  },
  {
   "cell_type": "code",
   "execution_count": 85,
   "id": "b8da50d3",
   "metadata": {},
   "outputs": [
    {
     "data": {
      "text/plain": [
       "<Axes: xlabel='MiscFeature'>"
      ]
     },
     "execution_count": 85,
     "metadata": {},
     "output_type": "execute_result"
    },
    {
     "data": {
      "image/png": "[encoded data removed]",
      "text/plain": [
       "<Figure size 1400x400 with 1 Axes>"
      ]
     },
     "metadata": {},
     "output_type": "display_data"
    }
   ],
   "source": [
    "housing.groupby(['MiscFeature']).SalePrice.mean().plot(kind='bar', figsize=(14,4))"
   ]
  },
  {
   "cell_type": "code",
   "execution_count": 78,
   "id": "4157df9a",
   "metadata": {},
   "outputs": [
    {
     "data": {
      "text/plain": [
       "MiscFeature\n",
       "None    2482\n",
       "Shed      88\n",
       "Gar2       5\n",
       "Othr       3\n",
       "TenC       1\n",
       "Name: count, dtype: int64"
      ]
     },
     "execution_count": 78,
     "metadata": {},
     "output_type": "execute_result"
    }
   ],
   "source": [
    "housing.MiscFeature.value_counts()"
   ]
  },
  {
   "cell_type": "code",
   "execution_count": 89,
   "id": "76862a5d",
   "metadata": {},
   "outputs": [],
   "source": [
    "housing = housing.drop(['MiscFeature'], axis =1).copy()"
   ]
  },
  {
   "cell_type": "code",
   "execution_count": 81,
   "id": "cf939eb5",
   "metadata": {},
   "outputs": [],
   "source": [
    "index_names_normal = housing[housing['SaleCondition'] != 'Normal'].index\n",
    "housing.drop(index_names_normal, inplace = True)"
   ]
  },
  {
   "cell_type": "code",
   "execution_count": 82,
   "id": "3fc27578",
   "metadata": {},
   "outputs": [],
   "source": [
    "housing.to_csv('housing_pp4.csv')"
   ]
  },
  {
   "cell_type": "code",
   "execution_count": 90,
   "id": "0dc8d628",
   "metadata": {},
   "outputs": [],
   "source": [
    "index_names_ab_par = housing[(housing['SaleCondition'] == 'Family') | \n",
    "                               (housing['SaleCondition'] == 'AdjLand') |\n",
    "                               (housing['SaleCondition'] == 'Alloca')].index\n",
    "housing.drop(index_names_ab_par, inplace = True)"
   ]
  },
  {
   "cell_type": "code",
   "execution_count": 91,
   "id": "ce69a647",
   "metadata": {},
   "outputs": [],
   "source": [
    "housing.to_csv('housing_pp5.csv')"
   ]
  },
  {
   "cell_type": "code",
   "execution_count": null,
   "id": "2e7056e7",
   "metadata": {},
   "outputs": [],
   "source": []
  }
 ],
 "metadata": {
  "kernelspec": {
   "display_name": "Python 3 (ipykernel)",
   "language": "python",
   "name": "python3"
  },
  "language_info": {
   "codemirror_mode": {
    "name": "ipython",
    "version": 3
   },
   "file_extension": ".py",
   "mimetype": "text/x-python",
   "name": "python",
   "nbconvert_exporter": "python",
   "pygments_lexer": "ipython3",
   "version": "3.11.5"
  }
 },
 "nbformat": 4,
 "nbformat_minor": 5
}
