{
 "cells": [
  {
   "cell_type": "code",
   "execution_count": 101,
   "id": "7d23f2ef",
   "metadata": {},
   "outputs": [
    {
     "name": "stdout",
     "output_type": "stream",
     "text": [
      "Retrieving notices: ...working... done\n",
      "Collecting package metadata (current_repodata.json): ...working... done\n",
      "Solving environment: ...working... done\n",
      "\n",
      "## Package Plan ##\n",
      "\n",
      "  environment location: C:\\Users\\Natal\\anaconda3\n",
      "\n",
      "  added / updated specs:\n",
      "    - optuna\n",
      "\n",
      "\n",
      "The following packages will be downloaded:\n",
      "\n",
      "    package                    |            build\n",
      "    ---------------------------|-----------------\n",
      "    alembic-1.13.1             |     pyhd8ed1ab_1         155 KB  conda-forge\n",
      "    colorlog-6.8.2             |  py311h1ea47a8_0          22 KB  conda-forge\n",
      "    importlib_resources-6.4.0  |     pyhd8ed1ab_0          32 KB  conda-forge\n",
      "    mako-1.3.3                 |     pyhd8ed1ab_0          65 KB  conda-forge\n",
      "    openssl-3.0.13             |       h2bbff1b_1         7.5 MB\n",
      "    optuna-3.6.0               |     pyhd8ed1ab_0         218 KB  conda-forge\n",
      "    python_abi-3.11            |          2_cp311           5 KB  conda-forge\n",
      "    ------------------------------------------------------------\n",
      "                                           Total:         7.9 MB\n",
      "\n",
      "The following NEW packages will be INSTALLED:\n",
      "\n",
      "  alembic            conda-forge/noarch::alembic-1.13.1-pyhd8ed1ab_1 \n",
      "  colorlog           conda-forge/win-64::colorlog-6.8.2-py311h1ea47a8_0 \n",
      "  importlib_resourc~ conda-forge/noarch::importlib_resources-6.4.0-pyhd8ed1ab_0 \n",
      "  mako               conda-forge/noarch::mako-1.3.3-pyhd8ed1ab_0 \n",
      "  optuna             conda-forge/noarch::optuna-3.6.0-pyhd8ed1ab_0 \n",
      "  python_abi         conda-forge/win-64::python_abi-3.11-2_cp311 \n",
      "\n",
      "The following packages will be UPDATED:\n",
      "\n",
      "  openssl                                 3.0.13-h2bbff1b_0 --> 3.0.13-h2bbff1b_1 \n",
      "\n",
      "\n",
      "\n",
      "Downloading and Extracting Packages\n",
      "\n",
      "mako-1.3.3           | 65 KB     |            |   0% \n",
      "\n",
      "colorlog-6.8.2       | 22 KB     |            |   0% \u001b[A\n",
      "\n",
      "\n",
      "openssl-3.0.13       | 7.5 MB    |            |   0% \u001b[A\u001b[A\n",
      "\n",
      "\n",
      "\n",
      "python_abi-3.11      | 5 KB      |            |   0% \u001b[A\u001b[A\u001b[A\n",
      "\n",
      "\n",
      "\n",
      "\n",
      "optuna-3.6.0         | 218 KB    |            |   0% \u001b[A\u001b[A\u001b[A\u001b[A\n",
      "\n",
      "\n",
      "\n",
      "\n",
      "\n",
      "alembic-1.13.1       | 155 KB    |            |   0% \u001b[A\u001b[A\u001b[A\u001b[A\u001b[A\n",
      "\n",
      "\n",
      "\n",
      "\n",
      "\n",
      "\n",
      "importlib_resources- | 32 KB     |            |   0% \u001b[A\u001b[A\u001b[A\u001b[A\u001b[A\u001b[A\n",
      "\n",
      "\n",
      "openssl-3.0.13       | 7.5 MB    |            |   0% \u001b[A\u001b[A\n",
      "\n",
      "\n",
      "\n",
      "python_abi-3.11      | 5 KB      | ########## | 100% \u001b[A\u001b[A\u001b[A\n",
      "\n",
      "\n",
      "\n",
      "\n",
      "optuna-3.6.0         | 218 KB    | 7          |   7% \u001b[A\u001b[A\u001b[A\u001b[A\n",
      "\n",
      "\n",
      "\n",
      "python_abi-3.11      | 5 KB      | ########## | 100% \u001b[A\u001b[A\u001b[A\n",
      "\n",
      "\n",
      "openssl-3.0.13       | 7.5 MB    | 4          |   5% \u001b[A\u001b[A\n",
      "mako-1.3.3           | 65 KB     | ##4        |  24% \n",
      "\n",
      "colorlog-6.8.2       | 22 KB     | #######2   |  72% \u001b[A\n",
      "\n",
      "\n",
      "\n",
      "\n",
      "optuna-3.6.0         | 218 KB    | #######3   |  73% \u001b[A\u001b[A\u001b[A\u001b[A\n",
      "\n",
      "\n",
      "\n",
      "\n",
      "\n",
      "alembic-1.13.1       | 155 KB    | #          |  10% \u001b[A\u001b[A\u001b[A\u001b[A\u001b[A\n",
      "\n",
      "\n",
      "openssl-3.0.13       | 7.5 MB    | 6          |   7% \u001b[A\u001b[A\n",
      "\n",
      "\n",
      "\n",
      "\n",
      "\n",
      "\n",
      "importlib_resources- | 32 KB     | ####9      |  50% \u001b[A\u001b[A\u001b[A\u001b[A\u001b[A\u001b[A\n",
      "\n",
      "\n",
      "openssl-3.0.13       | 7.5 MB    | #          |  11% \u001b[A\u001b[A\n",
      "\n",
      "colorlog-6.8.2       | 22 KB     | ########## | 100% \u001b[A\n",
      "\n",
      "colorlog-6.8.2       | 22 KB     | ########## | 100% \u001b[A\n",
      "mako-1.3.3           | 65 KB     | ########## | 100% \n",
      "mako-1.3.3           | 65 KB     | ########## | 100% \n",
      "\n",
      "\n",
      "openssl-3.0.13       | 7.5 MB    | #5         |  16% \u001b[A\u001b[A\n",
      "\n",
      "\n",
      "openssl-3.0.13       | 7.5 MB    | ##         |  20% \u001b[A\u001b[A\n",
      "\n",
      "\n",
      "openssl-3.0.13       | 7.5 MB    | ##5        |  25% \u001b[A\u001b[A\n",
      "\n",
      "\n",
      "\n",
      "\n",
      "\n",
      "\n",
      "importlib_resources- | 32 KB     | ########## | 100% \u001b[A\u001b[A\u001b[A\u001b[A\u001b[A\u001b[A\n",
      "\n",
      "\n",
      "\n",
      "\n",
      "\n",
      "\n",
      "importlib_resources- | 32 KB     | ########## | 100% \u001b[A\u001b[A\u001b[A\u001b[A\u001b[A\u001b[A\n",
      "\n",
      "\n",
      "openssl-3.0.13       | 7.5 MB    | ##9        |  30% \u001b[A\u001b[A\n",
      "\n",
      "\n",
      "openssl-3.0.13       | 7.5 MB    | ###4       |  35% \u001b[A\u001b[A\n",
      "\n",
      "\n",
      "\n",
      "\n",
      "\n",
      "alembic-1.13.1       | 155 KB    | ########## | 100% \u001b[A\u001b[A\u001b[A\u001b[A\u001b[A\n",
      "\n",
      "\n",
      "\n",
      "\n",
      "\n",
      "alembic-1.13.1       | 155 KB    | ########## | 100% \u001b[A\u001b[A\u001b[A\u001b[A\u001b[A\n",
      "\n",
      "\n",
      "openssl-3.0.13       | 7.5 MB    | ###9       |  40% \u001b[A\u001b[A\n",
      "\n",
      "\n",
      "openssl-3.0.13       | 7.5 MB    | ####4      |  44% \u001b[A\u001b[A\n",
      "\n",
      "\n",
      "\n",
      "\n",
      "optuna-3.6.0         | 218 KB    | ########## | 100% \u001b[A\u001b[A\u001b[A\u001b[A\n",
      "\n",
      "\n",
      "openssl-3.0.13       | 7.5 MB    | ####9      |  49% \u001b[A\u001b[A\n",
      "\n",
      "\n",
      "openssl-3.0.13       | 7.5 MB    | #####4     |  54% \u001b[A\u001b[A\n",
      "\n",
      "\n",
      "openssl-3.0.13       | 7.5 MB    | #####8     |  59% \u001b[A\u001b[A\n",
      "\n",
      "\n",
      "openssl-3.0.13       | 7.5 MB    | ######3    |  64% \u001b[A\u001b[A\n",
      "\n",
      "\n",
      "openssl-3.0.13       | 7.5 MB    | ######8    |  69% \u001b[A\u001b[A\n",
      "\n",
      "\n",
      "openssl-3.0.13       | 7.5 MB    | #######3   |  74% \u001b[A\u001b[A\n",
      "\n",
      "\n",
      "openssl-3.0.13       | 7.5 MB    | #######8   |  78% \u001b[A\u001b[A\n",
      "\n",
      "\n",
      "openssl-3.0.13       | 7.5 MB    | ########3  |  83% \u001b[A\u001b[A\n",
      "\n",
      "\n",
      "openssl-3.0.13       | 7.5 MB    | ########7  |  88% \u001b[A\u001b[A\n",
      "\n",
      "\n",
      "openssl-3.0.13       | 7.5 MB    | #########2 |  93% \u001b[A\u001b[A\n",
      "\n",
      "\n",
      "openssl-3.0.13       | 7.5 MB    | #########7 |  98% \u001b[A\u001b[A\n",
      "\n",
      "\n",
      "openssl-3.0.13       | 7.5 MB    | ########## | 100% \u001b[A\u001b[A\n",
      "                                                     \n",
      "\n",
      "\n",
      "                                                     \u001b[A\n",
      "\n",
      "\n",
      "                                                     \u001b[A\u001b[A\n",
      "\n",
      "\n",
      "\n",
      "                                                     \u001b[A\u001b[A\u001b[A\n",
      "\n",
      "\n",
      "\n",
      "\n",
      "                                                     \u001b[A\u001b[A\u001b[A\u001b[A\n",
      "\n",
      "\n",
      "\n",
      "\n",
      "\n",
      "                                                     \u001b[A\u001b[A\u001b[A\u001b[A\u001b[A\n",
      "\n",
      "\n",
      "\n",
      "\n",
      "\n",
      "\n",
      "                                                     \u001b[A\u001b[A\u001b[A\u001b[A\u001b[A\u001b[A\n",
      "\n",
      "Preparing transaction: ...working... done\n",
      "Verifying transaction: ...working... done\n",
      "Executing transaction: ...working... done\n",
      "\n",
      "Note: you may need to restart the kernel to use updated packages.\n"
     ]
    },
    {
     "name": "stderr",
     "output_type": "stream",
     "text": [
      "\n",
      "\n",
      "==> WARNING: A newer version of conda exists. <==\n",
      "  current version: 23.7.4\n",
      "  latest version: 24.4.0\n",
      "\n",
      "Please update conda by running\n",
      "\n",
      "    $ conda update -n base -c defaults conda\n",
      "\n",
      "Or to minimize the number of packages updated during conda update use\n",
      "\n",
      "     conda install conda=24.4.0\n",
      "\n",
      "\n"
     ]
    }
   ],
   "source": [
    "conda install -c conda-forge optuna"
   ]
  },
  {
   "cell_type": "code",
   "execution_count": 15,
   "id": "b2ee8e0f",
   "metadata": {},
   "outputs": [
    {
     "name": "stdout",
     "output_type": "stream",
     "text": [
      "Retrieving notices: ...working... done\n",
      "Collecting package metadata (current_repodata.json): ...working... done\n",
      "Solving environment: ...working... done\n",
      "\n",
      "## Package Plan ##\n",
      "\n",
      "  environment location: C:\\Users\\Natal\\anaconda3\n",
      "\n",
      "  added / updated specs:\n",
      "    - scikit-optimize\n",
      "\n",
      "\n",
      "The following packages will be downloaded:\n",
      "\n",
      "    package                    |            build\n",
      "    ---------------------------|-----------------\n",
      "    pyaml-24.4.0               |     pyhd8ed1ab_0          27 KB  conda-forge\n",
      "    scikit-optimize-0.10.1     |     pyhd8ed1ab_0          81 KB  conda-forge\n",
      "    ------------------------------------------------------------\n",
      "                                           Total:         108 KB\n",
      "\n",
      "The following NEW packages will be INSTALLED:\n",
      "\n",
      "  pyaml              conda-forge/noarch::pyaml-24.4.0-pyhd8ed1ab_0 \n",
      "  scikit-optimize    conda-forge/noarch::scikit-optimize-0.10.1-pyhd8ed1ab_0 \n",
      "\n",
      "The following packages will be SUPERSEDED by a higher-priority channel:\n",
      "\n",
      "  ca-certificates    pkgs/main::ca-certificates-2024.3.11-~ --> conda-forge::ca-certificates-2024.2.2-h56e8100_0 \n",
      "  certifi            pkgs/main/win-64::certifi-2024.2.2-py~ --> conda-forge/noarch::certifi-2024.2.2-pyhd8ed1ab_0 \n",
      "\n",
      "\n",
      "\n",
      "Downloading and Extracting Packages\n",
      "\n",
      "pyaml-24.4.0         | 27 KB     |            |   0% \n",
      "\n",
      "scikit-optimize-0.10 | 81 KB     |            |   0% \u001b[A\n",
      "pyaml-24.4.0         | 27 KB     | #####9     |  60% \n",
      "pyaml-24.4.0         | 27 KB     | ########## | 100% \n",
      "\n",
      "scikit-optimize-0.10 | 81 KB     | #9         |  20% \u001b[A\n",
      "\n",
      "scikit-optimize-0.10 | 81 KB     | ########## | 100% \u001b[A\n",
      "                                                     \n",
      "\n",
      "\n",
      "                                                     \u001b[A\n",
      "\n",
      "Preparing transaction: ...working... done\n",
      "Verifying transaction: ...working... done\n",
      "Executing transaction: ...working... done\n",
      "\n",
      "Note: you may need to restart the kernel to use updated packages.\n"
     ]
    },
    {
     "name": "stderr",
     "output_type": "stream",
     "text": [
      "\n",
      "\n",
      "==> WARNING: A newer version of conda exists. <==\n",
      "  current version: 23.7.4\n",
      "  latest version: 24.3.0\n",
      "\n",
      "Please update conda by running\n",
      "\n",
      "    $ conda update -n base -c defaults conda\n",
      "\n",
      "Or to minimize the number of packages updated during conda update use\n",
      "\n",
      "     conda install conda=24.3.0\n",
      "\n",
      "\n"
     ]
    }
   ],
   "source": [
    "conda install -c conda-forge scikit-optimize"
   ]
  },
  {
   "cell_type": "code",
   "execution_count": 25,
   "id": "e9fd489e",
   "metadata": {},
   "outputs": [],
   "source": [
    "import numpy as np\n",
    "import pandas as pd\n",
    "import xgboost as xgb\n",
    "from xgboost import XGBRegressor\n",
    "from sklearn.model_selection import train_test_split\n",
    "from sklearn.metrics import balanced_accuracy_score, roc_auc_score, make_scorer\n",
    "from sklearn.model_selection import GridSearchCV\n",
    "from sklearn.metrics import confusion_matrix\n",
    "from sklearn.metrics import ConfusionMatrixDisplay\n",
    "from sklearn.preprocessing import OneHotEncoder, StandardScaler\n",
    "from sklearn.pipeline import Pipeline\n",
    "from sklearn import compose, pipeline\n",
    "from sklearn.preprocessing import OneHotEncoder\n",
    "from sklearn.compose import ColumnTransformer\n",
    "from sklearn.compose import make_column_selector as selector\n",
    "from sklearn.preprocessing import OneHotEncoder, StandardScaler, OrdinalEncoder\n",
    "from sklearn.pipeline import Pipeline\n",
    "from sklearn import compose, pipeline\n",
    "from sklearn.model_selection import KFold\n",
    "kf = KFold(n_splits=5, shuffle=True, random_state=42)\n",
    "model = XGBRegressor()"
   ]
  },
  {
   "cell_type": "markdown",
   "id": "c639521f",
   "metadata": {},
   "source": [
    "### We need to play with more than just the best performing dataframe "
   ]
  },
  {
   "cell_type": "code",
   "execution_count": 6,
   "id": "28a9246f",
   "metadata": {},
   "outputs": [],
   "source": [
    "df = pd.read_csv('df_normal_quality.csv', index_col=0)"
   ]
  },
  {
   "cell_type": "code",
   "execution_count": 10,
   "id": "972f2ec0",
   "metadata": {},
   "outputs": [],
   "source": [
    "y = df.SalePrice\n",
    "X = df.drop(['PID', 'SalePrice'], axis =1).copy()"
   ]
  },
  {
   "cell_type": "code",
   "execution_count": 80,
   "id": "4bc1387e",
   "metadata": {},
   "outputs": [],
   "source": [
    "numerical_columns_selector = selector(dtype_exclude=object)\n",
    "categorical_columns_selector = selector(dtype_include=object)\n",
    "\n",
    "numerical_columns = numerical_columns_selector(X)\n",
    "categorical_columns = categorical_columns_selector(X)\n",
    "\n",
    "categorical_preprocessor = OneHotEncoder(handle_unknown=\"ignore\", drop='first')\n",
    "#categorical_preprocessor2 =  OrdinalEncoder(handle_unknown=\"use_encoded_value\", \n",
    " #                                         unknown_value= -1) \n",
    "numerical_preprocessor = StandardScaler()\n",
    "\n",
    "preprocessor = ColumnTransformer(\n",
    "    [\n",
    "        (\"standard_scaler\", numerical_preprocessor, numerical_columns),\n",
    "        (\"one-hot-encoder\", categorical_preprocessor, categorical_columns),\n",
    "    ]\n",
    ")\n",
    "\n",
    "\n",
    "model_pipe = Pipeline(steps=[(\"Preprocess\", preprocessor), (\"XGB\", model)])\n",
    "\n",
    "#model_regr = compose.TransformedTargetRegressor(regressor= model_pipe,\n",
    "                                             #   func=np.log, inverse_func=np.exp)\n",
    "\n",
    "#### ctrl and / to block comment\n",
    "param_grid = {\n",
    "    \"XGB__max_depth\": [3],\n",
    "    \"XGB__learning_rate\": [.1],\n",
    "    \"XGB__gamma\": [0],\n",
    "    \"XGB__reg_lambda\": [1],\n",
    "    \"XGB__scale_pos_weight\": [1],\n",
    "    \"XGB__n_estimators\": [630],\n",
    "    \"XGB__reg_alpha\": [.1],\n",
    "    \"XGB__min_child_weight\": [5]\n",
    "}\n",
    "# param_grid = {\n",
    "#    \"regressor__XGB__max_depth\": [3],\n",
    "#    \"regressor__XGB__learning_rate\": [.1],\n",
    "#    \"regressor__XGB__gamma\": [0],\n",
    "#     \"regressor__XGB__reg_lambda\": [1],\n",
    "#    \"regressor__XGB__scale_pos_weight\": [1],\n",
    "#    \"regressor__XGB__n_estimators\": [630],\n",
    "#    \"regressor__XGB__reg_alpha\": [.1],\n",
    "#    \"regressor__XGB__min_child_weight\": [5]\n",
    "# }\n",
    "\n",
    "\n",
    "search = GridSearchCV(model_pipe, param_grid, n_jobs=2, cv = kf)"
   ]
  },
  {
   "cell_type": "code",
   "execution_count": 81,
   "id": "57cafa16",
   "metadata": {},
   "outputs": [
    {
     "data": {
      "text/html": [
       "<style>#sk-container-id-11 {color: black;}#sk-container-id-11 pre{padding: 0;}#sk-container-id-11 div.sk-toggleable {background-color: white;}#sk-container-id-11 label.sk-toggleable__label {cursor: pointer;display: block;width: 100%;margin-bottom: 0;padding: 0.3em;box-sizing: border-box;text-align: center;}#sk-container-id-11 label.sk-toggleable__label-arrow:before {content: \"▸\";float: left;margin-right: 0.25em;color: #696969;}#sk-container-id-11 label.sk-toggleable__label-arrow:hover:before {color: black;}#sk-container-id-11 div.sk-estimator:hover label.sk-toggleable__label-arrow:before {color: black;}#sk-container-id-11 div.sk-toggleable__content {max-height: 0;max-width: 0;overflow: hidden;text-align: left;background-color: #f0f8ff;}#sk-container-id-11 div.sk-toggleable__content pre {margin: 0.2em;color: black;border-radius: 0.25em;background-color: #f0f8ff;}#sk-container-id-11 input.sk-toggleable__control:checked~div.sk-toggleable__content {max-height: 200px;max-width: 100%;overflow: auto;}#sk-container-id-11 input.sk-toggleable__control:checked~label.sk-toggleable__label-arrow:before {content: \"▾\";}#sk-container-id-11 div.sk-estimator input.sk-toggleable__control:checked~label.sk-toggleable__label {background-color: #d4ebff;}#sk-container-id-11 div.sk-label input.sk-toggleable__control:checked~label.sk-toggleable__label {background-color: #d4ebff;}#sk-container-id-11 input.sk-hidden--visually {border: 0;clip: rect(1px 1px 1px 1px);clip: rect(1px, 1px, 1px, 1px);height: 1px;margin: -1px;overflow: hidden;padding: 0;position: absolute;width: 1px;}#sk-container-id-11 div.sk-estimator {font-family: monospace;background-color: #f0f8ff;border: 1px dotted black;border-radius: 0.25em;box-sizing: border-box;margin-bottom: 0.5em;}#sk-container-id-11 div.sk-estimator:hover {background-color: #d4ebff;}#sk-container-id-11 div.sk-parallel-item::after {content: \"\";width: 100%;border-bottom: 1px solid gray;flex-grow: 1;}#sk-container-id-11 div.sk-label:hover label.sk-toggleable__label {background-color: #d4ebff;}#sk-container-id-11 div.sk-serial::before {content: \"\";position: absolute;border-left: 1px solid gray;box-sizing: border-box;top: 0;bottom: 0;left: 50%;z-index: 0;}#sk-container-id-11 div.sk-serial {display: flex;flex-direction: column;align-items: center;background-color: white;padding-right: 0.2em;padding-left: 0.2em;position: relative;}#sk-container-id-11 div.sk-item {position: relative;z-index: 1;}#sk-container-id-11 div.sk-parallel {display: flex;align-items: stretch;justify-content: center;background-color: white;position: relative;}#sk-container-id-11 div.sk-item::before, #sk-container-id-11 div.sk-parallel-item::before {content: \"\";position: absolute;border-left: 1px solid gray;box-sizing: border-box;top: 0;bottom: 0;left: 50%;z-index: -1;}#sk-container-id-11 div.sk-parallel-item {display: flex;flex-direction: column;z-index: 1;position: relative;background-color: white;}#sk-container-id-11 div.sk-parallel-item:first-child::after {align-self: flex-end;width: 50%;}#sk-container-id-11 div.sk-parallel-item:last-child::after {align-self: flex-start;width: 50%;}#sk-container-id-11 div.sk-parallel-item:only-child::after {width: 0;}#sk-container-id-11 div.sk-dashed-wrapped {border: 1px dashed gray;margin: 0 0.4em 0.5em 0.4em;box-sizing: border-box;padding-bottom: 0.4em;background-color: white;}#sk-container-id-11 div.sk-label label {font-family: monospace;font-weight: bold;display: inline-block;line-height: 1.2em;}#sk-container-id-11 div.sk-label-container {text-align: center;}#sk-container-id-11 div.sk-container {/* jupyter's `normalize.less` sets `[hidden] { display: none; }` but bootstrap.min.css set `[hidden] { display: none !important; }` so we also need the `!important` here to be able to override the default hidden behavior on the sphinx rendered scikit-learn.org. See: https://github.com/scikit-learn/scikit-learn/issues/21755 */display: inline-block !important;position: relative;}#sk-container-id-11 div.sk-text-repr-fallback {display: none;}</style><div id=\"sk-container-id-11\" class=\"sk-top-container\"><div class=\"sk-text-repr-fallback\"><pre>GridSearchCV(cv=KFold(n_splits=5, random_state=42, shuffle=True),\n",
       "             estimator=Pipeline(steps=[(&#x27;Preprocess&#x27;,\n",
       "                                        ColumnTransformer(transformers=[(&#x27;standard_scaler&#x27;,\n",
       "                                                                         StandardScaler(),\n",
       "                                                                         [&#x27;GrLivArea&#x27;,\n",
       "                                                                          &#x27;MSSubClass&#x27;,\n",
       "                                                                          &#x27;LotFrontage&#x27;,\n",
       "                                                                          &#x27;LotArea&#x27;,\n",
       "                                                                          &#x27;Alley&#x27;,\n",
       "                                                                          &#x27;LotShape&#x27;,\n",
       "                                                                          &#x27;LandContour&#x27;,\n",
       "                                                                          &#x27;Utilities&#x27;,\n",
       "                                                                          &#x27;LandSlope&#x27;,\n",
       "                                                                          &#x27;OverallQual&#x27;,\n",
       "                                                                          &#x27;OverallCond&#x27;,\n",
       "                                                                          &#x27;YearBuilt&#x27;,\n",
       "                                                                          &#x27;YearRemodAdd&#x27;,\n",
       "                                                                          &#x27;MasVnrArea&#x27;,\n",
       "                                                                          &#x27;Ext...\n",
       "                                                     min_child_weight=None,\n",
       "                                                     missing=nan,\n",
       "                                                     monotone_constraints=None,\n",
       "                                                     n_estimators=100,\n",
       "                                                     n_jobs=None,\n",
       "                                                     num_parallel_tree=None,\n",
       "                                                     predictor=None,\n",
       "                                                     random_state=None, ...))]),\n",
       "             n_jobs=2,\n",
       "             param_grid={&#x27;XGB__gamma&#x27;: [0], &#x27;XGB__learning_rate&#x27;: [0.1],\n",
       "                         &#x27;XGB__max_depth&#x27;: [3], &#x27;XGB__min_child_weight&#x27;: [5],\n",
       "                         &#x27;XGB__n_estimators&#x27;: [630], &#x27;XGB__reg_alpha&#x27;: [0.1],\n",
       "                         &#x27;XGB__reg_lambda&#x27;: [1], &#x27;XGB__scale_pos_weight&#x27;: [1]})</pre><b>In a Jupyter environment, please rerun this cell to show the HTML representation or trust the notebook. <br />On GitHub, the HTML representation is unable to render, please try loading this page with nbviewer.org.</b></div><div class=\"sk-container\" hidden><div class=\"sk-item sk-dashed-wrapped\"><div class=\"sk-label-container\"><div class=\"sk-label sk-toggleable\"><input class=\"sk-toggleable__control sk-hidden--visually\" id=\"sk-estimator-id-76\" type=\"checkbox\" ><label for=\"sk-estimator-id-76\" class=\"sk-toggleable__label sk-toggleable__label-arrow\">GridSearchCV</label><div class=\"sk-toggleable__content\"><pre>GridSearchCV(cv=KFold(n_splits=5, random_state=42, shuffle=True),\n",
       "             estimator=Pipeline(steps=[(&#x27;Preprocess&#x27;,\n",
       "                                        ColumnTransformer(transformers=[(&#x27;standard_scaler&#x27;,\n",
       "                                                                         StandardScaler(),\n",
       "                                                                         [&#x27;GrLivArea&#x27;,\n",
       "                                                                          &#x27;MSSubClass&#x27;,\n",
       "                                                                          &#x27;LotFrontage&#x27;,\n",
       "                                                                          &#x27;LotArea&#x27;,\n",
       "                                                                          &#x27;Alley&#x27;,\n",
       "                                                                          &#x27;LotShape&#x27;,\n",
       "                                                                          &#x27;LandContour&#x27;,\n",
       "                                                                          &#x27;Utilities&#x27;,\n",
       "                                                                          &#x27;LandSlope&#x27;,\n",
       "                                                                          &#x27;OverallQual&#x27;,\n",
       "                                                                          &#x27;OverallCond&#x27;,\n",
       "                                                                          &#x27;YearBuilt&#x27;,\n",
       "                                                                          &#x27;YearRemodAdd&#x27;,\n",
       "                                                                          &#x27;MasVnrArea&#x27;,\n",
       "                                                                          &#x27;Ext...\n",
       "                                                     min_child_weight=None,\n",
       "                                                     missing=nan,\n",
       "                                                     monotone_constraints=None,\n",
       "                                                     n_estimators=100,\n",
       "                                                     n_jobs=None,\n",
       "                                                     num_parallel_tree=None,\n",
       "                                                     predictor=None,\n",
       "                                                     random_state=None, ...))]),\n",
       "             n_jobs=2,\n",
       "             param_grid={&#x27;XGB__gamma&#x27;: [0], &#x27;XGB__learning_rate&#x27;: [0.1],\n",
       "                         &#x27;XGB__max_depth&#x27;: [3], &#x27;XGB__min_child_weight&#x27;: [5],\n",
       "                         &#x27;XGB__n_estimators&#x27;: [630], &#x27;XGB__reg_alpha&#x27;: [0.1],\n",
       "                         &#x27;XGB__reg_lambda&#x27;: [1], &#x27;XGB__scale_pos_weight&#x27;: [1]})</pre></div></div></div><div class=\"sk-parallel\"><div class=\"sk-parallel-item\"><div class=\"sk-item\"><div class=\"sk-label-container\"><div class=\"sk-label sk-toggleable\"><input class=\"sk-toggleable__control sk-hidden--visually\" id=\"sk-estimator-id-77\" type=\"checkbox\" ><label for=\"sk-estimator-id-77\" class=\"sk-toggleable__label sk-toggleable__label-arrow\">estimator: Pipeline</label><div class=\"sk-toggleable__content\"><pre>Pipeline(steps=[(&#x27;Preprocess&#x27;,\n",
       "                 ColumnTransformer(transformers=[(&#x27;standard_scaler&#x27;,\n",
       "                                                  StandardScaler(),\n",
       "                                                  [&#x27;GrLivArea&#x27;, &#x27;MSSubClass&#x27;,\n",
       "                                                   &#x27;LotFrontage&#x27;, &#x27;LotArea&#x27;,\n",
       "                                                   &#x27;Alley&#x27;, &#x27;LotShape&#x27;,\n",
       "                                                   &#x27;LandContour&#x27;, &#x27;Utilities&#x27;,\n",
       "                                                   &#x27;LandSlope&#x27;, &#x27;OverallQual&#x27;,\n",
       "                                                   &#x27;OverallCond&#x27;, &#x27;YearBuilt&#x27;,\n",
       "                                                   &#x27;YearRemodAdd&#x27;, &#x27;MasVnrArea&#x27;,\n",
       "                                                   &#x27;ExterQual&#x27;, &#x27;ExterCond&#x27;,\n",
       "                                                   &#x27;BsmtQual&#x27;, &#x27;BsmtCond&#x27;,\n",
       "                                                   &#x27;BsmtExposure&#x27;,\n",
       "                                                   &#x27;BsmtFinType1&#x27;, &#x27;...\n",
       "                              feature_types=None, gamma=None, gpu_id=None,\n",
       "                              grow_policy=None, importance_type=None,\n",
       "                              interaction_constraints=None, learning_rate=None,\n",
       "                              max_bin=None, max_cat_threshold=None,\n",
       "                              max_cat_to_onehot=None, max_delta_step=None,\n",
       "                              max_depth=None, max_leaves=None,\n",
       "                              min_child_weight=None, missing=nan,\n",
       "                              monotone_constraints=None, n_estimators=100,\n",
       "                              n_jobs=None, num_parallel_tree=None,\n",
       "                              predictor=None, random_state=None, ...))])</pre></div></div></div><div class=\"sk-serial\"><div class=\"sk-item\"><div class=\"sk-serial\"><div class=\"sk-item sk-dashed-wrapped\"><div class=\"sk-label-container\"><div class=\"sk-label sk-toggleable\"><input class=\"sk-toggleable__control sk-hidden--visually\" id=\"sk-estimator-id-78\" type=\"checkbox\" ><label for=\"sk-estimator-id-78\" class=\"sk-toggleable__label sk-toggleable__label-arrow\">Preprocess: ColumnTransformer</label><div class=\"sk-toggleable__content\"><pre>ColumnTransformer(transformers=[(&#x27;standard_scaler&#x27;, StandardScaler(),\n",
       "                                 [&#x27;GrLivArea&#x27;, &#x27;MSSubClass&#x27;, &#x27;LotFrontage&#x27;,\n",
       "                                  &#x27;LotArea&#x27;, &#x27;Alley&#x27;, &#x27;LotShape&#x27;, &#x27;LandContour&#x27;,\n",
       "                                  &#x27;Utilities&#x27;, &#x27;LandSlope&#x27;, &#x27;OverallQual&#x27;,\n",
       "                                  &#x27;OverallCond&#x27;, &#x27;YearBuilt&#x27;, &#x27;YearRemodAdd&#x27;,\n",
       "                                  &#x27;MasVnrArea&#x27;, &#x27;ExterQual&#x27;, &#x27;ExterCond&#x27;,\n",
       "                                  &#x27;BsmtQual&#x27;, &#x27;BsmtCond&#x27;, &#x27;BsmtExposure&#x27;,\n",
       "                                  &#x27;BsmtFinType1&#x27;, &#x27;BsmtFinSF1&#x27;, &#x27;BsmtFinType2&#x27;,\n",
       "                                  &#x27;Bs...\n",
       "                                (&#x27;one-hot-encoder&#x27;,\n",
       "                                 OneHotEncoder(drop=&#x27;first&#x27;,\n",
       "                                               handle_unknown=&#x27;ignore&#x27;),\n",
       "                                 [&#x27;MSZoning&#x27;, &#x27;Street&#x27;, &#x27;LotConfig&#x27;,\n",
       "                                  &#x27;Neighborhood&#x27;, &#x27;Condition1&#x27;, &#x27;Condition2&#x27;,\n",
       "                                  &#x27;BldgType&#x27;, &#x27;HouseStyle&#x27;, &#x27;RoofStyle&#x27;,\n",
       "                                  &#x27;RoofMatl&#x27;, &#x27;Exterior1st&#x27;, &#x27;Exterior2nd&#x27;,\n",
       "                                  &#x27;MasVnrType&#x27;, &#x27;Foundation&#x27;, &#x27;Heating&#x27;,\n",
       "                                  &#x27;CentralAir&#x27;, &#x27;Electrical&#x27;, &#x27;GarageType&#x27;,\n",
       "                                  &#x27;GarageYN&#x27;, &#x27;PoolYN&#x27;, &#x27;Fence&#x27;, &#x27;SaleType&#x27;,\n",
       "                                  &#x27;SaleCondition&#x27;])])</pre></div></div></div><div class=\"sk-parallel\"><div class=\"sk-parallel-item\"><div class=\"sk-item\"><div class=\"sk-label-container\"><div class=\"sk-label sk-toggleable\"><input class=\"sk-toggleable__control sk-hidden--visually\" id=\"sk-estimator-id-79\" type=\"checkbox\" ><label for=\"sk-estimator-id-79\" class=\"sk-toggleable__label sk-toggleable__label-arrow\">standard_scaler</label><div class=\"sk-toggleable__content\"><pre>[&#x27;GrLivArea&#x27;, &#x27;MSSubClass&#x27;, &#x27;LotFrontage&#x27;, &#x27;LotArea&#x27;, &#x27;Alley&#x27;, &#x27;LotShape&#x27;, &#x27;LandContour&#x27;, &#x27;Utilities&#x27;, &#x27;LandSlope&#x27;, &#x27;OverallQual&#x27;, &#x27;OverallCond&#x27;, &#x27;YearBuilt&#x27;, &#x27;YearRemodAdd&#x27;, &#x27;MasVnrArea&#x27;, &#x27;ExterQual&#x27;, &#x27;ExterCond&#x27;, &#x27;BsmtQual&#x27;, &#x27;BsmtCond&#x27;, &#x27;BsmtExposure&#x27;, &#x27;BsmtFinType1&#x27;, &#x27;BsmtFinSF1&#x27;, &#x27;BsmtFinType2&#x27;, &#x27;BsmtFinSF2&#x27;, &#x27;BsmtUnfSF&#x27;, &#x27;TotalBsmtSF&#x27;, &#x27;HeatingQC&#x27;, &#x27;1stFlrSF&#x27;, &#x27;2ndFlrSF&#x27;, &#x27;LowQualFinSF&#x27;, &#x27;BsmtFullBath&#x27;, &#x27;BsmtHalfBath&#x27;, &#x27;FullBath&#x27;, &#x27;HalfBath&#x27;, &#x27;BedroomAbvGr&#x27;, &#x27;KitchenAbvGr&#x27;, &#x27;KitchenQual&#x27;, &#x27;TotRmsAbvGrd&#x27;, &#x27;Functional&#x27;, &#x27;Fireplaces&#x27;, &#x27;FireplaceQu&#x27;, &#x27;GarageFinish&#x27;, &#x27;GarageCars&#x27;, &#x27;GarageArea&#x27;, &#x27;GarageQual&#x27;, &#x27;GarageCond&#x27;, &#x27;PavedDrive&#x27;, &#x27;WoodDeckSF&#x27;, &#x27;OpenPorchSF&#x27;, &#x27;EnclosedPorch&#x27;, &#x27;3SsnPorch&#x27;, &#x27;ScreenPorch&#x27;, &#x27;PoolQC&#x27;, &#x27;MoSold&#x27;, &#x27;YrSold&#x27;, &#x27;Bathrooms&#x27;]</pre></div></div></div><div class=\"sk-serial\"><div class=\"sk-item\"><div class=\"sk-estimator sk-toggleable\"><input class=\"sk-toggleable__control sk-hidden--visually\" id=\"sk-estimator-id-80\" type=\"checkbox\" ><label for=\"sk-estimator-id-80\" class=\"sk-toggleable__label sk-toggleable__label-arrow\">StandardScaler</label><div class=\"sk-toggleable__content\"><pre>StandardScaler()</pre></div></div></div></div></div></div><div class=\"sk-parallel-item\"><div class=\"sk-item\"><div class=\"sk-label-container\"><div class=\"sk-label sk-toggleable\"><input class=\"sk-toggleable__control sk-hidden--visually\" id=\"sk-estimator-id-81\" type=\"checkbox\" ><label for=\"sk-estimator-id-81\" class=\"sk-toggleable__label sk-toggleable__label-arrow\">one-hot-encoder</label><div class=\"sk-toggleable__content\"><pre>[&#x27;MSZoning&#x27;, &#x27;Street&#x27;, &#x27;LotConfig&#x27;, &#x27;Neighborhood&#x27;, &#x27;Condition1&#x27;, &#x27;Condition2&#x27;, &#x27;BldgType&#x27;, &#x27;HouseStyle&#x27;, &#x27;RoofStyle&#x27;, &#x27;RoofMatl&#x27;, &#x27;Exterior1st&#x27;, &#x27;Exterior2nd&#x27;, &#x27;MasVnrType&#x27;, &#x27;Foundation&#x27;, &#x27;Heating&#x27;, &#x27;CentralAir&#x27;, &#x27;Electrical&#x27;, &#x27;GarageType&#x27;, &#x27;GarageYN&#x27;, &#x27;PoolYN&#x27;, &#x27;Fence&#x27;, &#x27;SaleType&#x27;, &#x27;SaleCondition&#x27;]</pre></div></div></div><div class=\"sk-serial\"><div class=\"sk-item\"><div class=\"sk-estimator sk-toggleable\"><input class=\"sk-toggleable__control sk-hidden--visually\" id=\"sk-estimator-id-82\" type=\"checkbox\" ><label for=\"sk-estimator-id-82\" class=\"sk-toggleable__label sk-toggleable__label-arrow\">OneHotEncoder</label><div class=\"sk-toggleable__content\"><pre>OneHotEncoder(drop=&#x27;first&#x27;, handle_unknown=&#x27;ignore&#x27;)</pre></div></div></div></div></div></div></div></div><div class=\"sk-item\"><div class=\"sk-estimator sk-toggleable\"><input class=\"sk-toggleable__control sk-hidden--visually\" id=\"sk-estimator-id-83\" type=\"checkbox\" ><label for=\"sk-estimator-id-83\" class=\"sk-toggleable__label sk-toggleable__label-arrow\">XGBRegressor</label><div class=\"sk-toggleable__content\"><pre>XGBRegressor(base_score=None, booster=None, callbacks=None,\n",
       "             colsample_bylevel=None, colsample_bynode=None,\n",
       "             colsample_bytree=None, early_stopping_rounds=None,\n",
       "             enable_categorical=False, eval_metric=None, feature_types=None,\n",
       "             gamma=None, gpu_id=None, grow_policy=None, importance_type=None,\n",
       "             interaction_constraints=None, learning_rate=None, max_bin=None,\n",
       "             max_cat_threshold=None, max_cat_to_onehot=None,\n",
       "             max_delta_step=None, max_depth=None, max_leaves=None,\n",
       "             min_child_weight=None, missing=nan, monotone_constraints=None,\n",
       "             n_estimators=100, n_jobs=None, num_parallel_tree=None,\n",
       "             predictor=None, random_state=None, ...)</pre></div></div></div></div></div></div></div></div></div></div></div></div>"
      ],
      "text/plain": [
       "GridSearchCV(cv=KFold(n_splits=5, random_state=42, shuffle=True),\n",
       "             estimator=Pipeline(steps=[('Preprocess',\n",
       "                                        ColumnTransformer(transformers=[('standard_scaler',\n",
       "                                                                         StandardScaler(),\n",
       "                                                                         ['GrLivArea',\n",
       "                                                                          'MSSubClass',\n",
       "                                                                          'LotFrontage',\n",
       "                                                                          'LotArea',\n",
       "                                                                          'Alley',\n",
       "                                                                          'LotShape',\n",
       "                                                                          'LandContour',\n",
       "                                                                          'Utilities',\n",
       "                                                                          'LandSlope',\n",
       "                                                                          'OverallQual',\n",
       "                                                                          'OverallCond',\n",
       "                                                                          'YearBuilt',\n",
       "                                                                          'YearRemodAdd',\n",
       "                                                                          'MasVnrArea',\n",
       "                                                                          'Ext...\n",
       "                                                     min_child_weight=None,\n",
       "                                                     missing=nan,\n",
       "                                                     monotone_constraints=None,\n",
       "                                                     n_estimators=100,\n",
       "                                                     n_jobs=None,\n",
       "                                                     num_parallel_tree=None,\n",
       "                                                     predictor=None,\n",
       "                                                     random_state=None, ...))]),\n",
       "             n_jobs=2,\n",
       "             param_grid={'XGB__gamma': [0], 'XGB__learning_rate': [0.1],\n",
       "                         'XGB__max_depth': [3], 'XGB__min_child_weight': [5],\n",
       "                         'XGB__n_estimators': [630], 'XGB__reg_alpha': [0.1],\n",
       "                         'XGB__reg_lambda': [1], 'XGB__scale_pos_weight': [1]})"
      ]
     },
     "execution_count": 81,
     "metadata": {},
     "output_type": "execute_result"
    }
   ],
   "source": [
    "search.fit(X,y)"
   ]
  },
  {
   "cell_type": "code",
   "execution_count": 82,
   "id": "a793a6fc",
   "metadata": {},
   "outputs": [
    {
     "name": "stdout",
     "output_type": "stream",
     "text": [
      "0.9475208034229203\n",
      "{'XGB__gamma': 0, 'XGB__learning_rate': 0.1, 'XGB__max_depth': 3, 'XGB__min_child_weight': 5, 'XGB__n_estimators': 630, 'XGB__reg_alpha': 0.1, 'XGB__reg_lambda': 1, 'XGB__scale_pos_weight': 1}\n"
     ]
    }
   ],
   "source": [
    "print(search.best_score_)\n",
    "print(search.best_params_)"
   ]
  },
  {
   "cell_type": "code",
   "execution_count": 79,
   "id": "ba1c9ce0",
   "metadata": {},
   "outputs": [
    {
     "name": "stdout",
     "output_type": "stream",
     "text": [
      "0.7258638703427457\n",
      "{'XGB__gamma': 0, 'XGB__learning_rate': 0.1, 'XGB__max_depth': 3, 'XGB__min_child_weight': 5, 'XGB__n_estimators': 630, 'XGB__reg_alpha': 0.1, 'XGB__reg_lambda': 1, 'XGB__scale_pos_weight': 1}\n"
     ]
    }
   ],
   "source": [
    "# no normalization or standardization\n",
    "#BAD\n",
    "print(search.best_score_)\n",
    "print(search.best_params_)"
   ]
  },
  {
   "cell_type": "code",
   "execution_count": 58,
   "id": "7cc2f609",
   "metadata": {},
   "outputs": [
    {
     "name": "stdout",
     "output_type": "stream",
     "text": [
      "0.9466029804510214\n",
      "{'regressor__XGB__gamma': 0, 'regressor__XGB__learning_rate': 0.1, 'regressor__XGB__max_depth': 3, 'regressor__XGB__min_child_weight': 5, 'regressor__XGB__n_estimators': 630, 'regressor__XGB__reg_alpha': 0.1, 'regressor__XGB__reg_lambda': 1, 'regressor__XGB__scale_pos_weight': 1}\n"
     ]
    }
   ],
   "source": [
    "# actually better without normalization \n",
    "print(search.best_score_)\n",
    "print(search.best_params_)"
   ]
  },
  {
   "cell_type": "code",
   "execution_count": 55,
   "id": "d296f19c",
   "metadata": {},
   "outputs": [
    {
     "name": "stdout",
     "output_type": "stream",
     "text": [
      "0.9475208034229203\n",
      "{'XGB__gamma': 0, 'XGB__learning_rate': 0.1, 'XGB__max_depth': 3, 'XGB__min_child_weight': 5, 'XGB__n_estimators': 630, 'XGB__reg_alpha': 0.1, 'XGB__reg_lambda': 1, 'XGB__scale_pos_weight': 1}\n"
     ]
    }
   ],
   "source": [
    "# no normalization of y\n",
    "print(search.best_score_)\n",
    "print(search.best_params_)"
   ]
  },
  {
   "cell_type": "code",
   "execution_count": 54,
   "id": "b6d3f432",
   "metadata": {},
   "outputs": [
    {
     "data": {
      "text/plain": [
       "<Axes: title={'center': 'Feature importance'}, xlabel='F score', ylabel='Features'>"
      ]
     },
     "execution_count": 54,
     "metadata": {},
     "output_type": "execute_result"
    },
    {
     "data": {
      "image/png": "[encoded data removed]",
      "text/plain": [
       "<Figure size 640x480 with 1 Axes>"
      ]
     },
     "metadata": {},
     "output_type": "display_data"
    }
   ],
   "source": [
    "from xgboost import plot_importance\n",
    "step = search.best_estimator_.steps[1]\n",
    "model_xgb = step[1]\n",
    "plot_importance(model_xgb)"
   ]
  },
  {
   "cell_type": "code",
   "execution_count": 20,
   "id": "1e4c3500",
   "metadata": {},
   "outputs": [
    {
     "name": "stderr",
     "output_type": "stream",
     "text": [
      "C:\\Users\\Natal\\anaconda3\\Lib\\site-packages\\sklearn\\preprocessing\\_encoders.py:227: UserWarning: Found unknown categories in columns [3, 5, 9, 10, 21] during transform. These unknown categories will be encoded as all zeros\n",
      "  warnings.warn(\n",
      "C:\\Users\\Natal\\anaconda3\\Lib\\site-packages\\sklearn\\preprocessing\\_encoders.py:227: UserWarning: Found unknown categories in columns [3, 9, 11] during transform. These unknown categories will be encoded as all zeros\n",
      "  warnings.warn(\n",
      "C:\\Users\\Natal\\anaconda3\\Lib\\site-packages\\sklearn\\preprocessing\\_encoders.py:227: UserWarning: Found unknown categories in columns [0, 9, 14, 21] during transform. These unknown categories will be encoded as all zeros\n",
      "  warnings.warn(\n"
     ]
    }
   ],
   "source": [
    "from sklearn.model_selection import cross_val_score\n",
    "scores = cross_val_score(model_regr, X, y, cv = kf)"
   ]
  },
  {
   "cell_type": "code",
   "execution_count": 16,
   "id": "ab4791d7",
   "metadata": {},
   "outputs": [
    {
     "name": "stdout",
     "output_type": "stream",
     "text": [
      "[0.93477739 0.92694243 0.92829092 0.91772327 0.92701719]\n",
      "0.9269502396258487\n"
     ]
    }
   ],
   "source": [
    "# cv = 5\n",
    "print(scores)\n",
    "print(scores.mean())"
   ]
  },
  {
   "cell_type": "code",
   "execution_count": 18,
   "id": "5f44d260",
   "metadata": {},
   "outputs": [
    {
     "name": "stdout",
     "output_type": "stream",
     "text": [
      "[0.92915319 0.92404487 0.93558739 0.94003823 0.933943  ]\n",
      "0.9325533371761544\n"
     ]
    }
   ],
   "source": [
    "# kf\n",
    "print(scores)\n",
    "print(scores.mean())"
   ]
  },
  {
   "cell_type": "code",
   "execution_count": 21,
   "id": "40e6c789",
   "metadata": {},
   "outputs": [
    {
     "name": "stdout",
     "output_type": "stream",
     "text": [
      "[0.93562852 0.93662967 0.9448388  0.88813112 0.93208987]\n",
      "0.9274635946193752\n"
     ]
    }
   ],
   "source": [
    "# random kf state 10\n",
    "print(scores)\n",
    "print(scores.mean())"
   ]
  },
  {
   "cell_type": "markdown",
   "id": "9048b80c",
   "metadata": {},
   "source": [
    "### above is my initial work, below will be with search grid with bayessearch"
   ]
  },
  {
   "cell_type": "code",
   "execution_count": 8,
   "id": "fb9f2289",
   "metadata": {},
   "outputs": [],
   "source": [
    "from skopt import BayesSearchCV\n",
    "from skopt.space import Real, Categorical, Integer"
   ]
  },
  {
   "cell_type": "code",
   "execution_count": 98,
   "id": "9cf14f95",
   "metadata": {},
   "outputs": [],
   "source": [
    "numerical_columns_selector = selector(dtype_exclude=object)\n",
    "categorical_columns_selector = selector(dtype_include=object)\n",
    "\n",
    "numerical_columns = numerical_columns_selector(X)\n",
    "categorical_columns = categorical_columns_selector(X)\n",
    "\n",
    "categorical_preprocessor = OneHotEncoder(handle_unknown=\"ignore\", drop='first')\n",
    "#categorical_preprocessor2 =  OrdinalEncoder(handle_unknown=\"use_encoded_value\", \n",
    " #                                         unknown_value= -1) \n",
    "numerical_preprocessor = StandardScaler()\n",
    "\n",
    "preprocessor = ColumnTransformer(\n",
    "    [\n",
    "        (\"standard_scaler\", numerical_preprocessor, numerical_columns),\n",
    "        (\"one-hot-encoder\", categorical_preprocessor, categorical_columns),\n",
    "    ]\n",
    ")\n",
    "\n",
    "\n",
    "model_pipe = Pipeline(steps=[(\"Preprocess\", preprocessor), (\"XGB\", model)])\n",
    "\n",
    "model_regr = compose.TransformedTargetRegressor(regressor= model_pipe,\n",
    "                                                 func=np.log, inverse_func=np.exp)\n",
    "\n",
    "param_grid = {\n",
    "    \"regressor__XGB__max_depth\":  [2],\n",
    "    \"regressor__XGB__learning_rate\": [.194],\n",
    "    \"regressor__XGB__colsample_bytree\": [1],\n",
    "    \"regressor__XGB__n_estimators\": Integer(650, 750),\n",
    "    \"regressor__XGB__reg_alpha\": [.1],\n",
    "    \"regressor__XGB__reg_lambda\": [1],\n",
    "    \"regressor__XGB__subsample\": [.68833],\n",
    "    \"regressor__XGB__num_boost_round\": Integer(1050, 1200),\n",
    "    \"regressor__XGB__min_child_weight\": [6]\n",
    "}\n",
    "\n",
    "# param_grid = {\n",
    "#     \"regressor__XGB__max_depth\": Integer(2,4),\n",
    "#     \"regressor__XGB__learning_rate\": Real(.001, .2),\n",
    "#     \"regressor__XGB__scale_pos_weight\": [1],\n",
    "#     \"regressor__XGB__colsample_bytree\": Real(0, 1)\n",
    "#     \"regressor__XGB__n_estimators\": Integer(600, 650),\n",
    "#     \"regressor__XGB__reg_alpha\": Real(0, 2),\n",
    "#     \"regressor__XGB__reg_lambda\": Real(0, 2),\n",
    "#     \"regressor__XGB__subsample\": Real(0, 1),\n",
    "#     \"regressor__XGB__num_boost_round\": Real(0, 1),\n",
    "#     \"regressor__XGB__min_child_weight\": Integer(1, 6)\n",
    "# }\n",
    "#param_grid = {\n",
    "#     \"regressor__XGB__max_depth\": Integer(2,5),\n",
    "#     \"regressor__XGB__learning_rate\": Real(.1, .5),\n",
    "#     \"regressor__XGB__gamma\": [0],\n",
    "#     \"regressor__XGB__reg_lambda\": Real(0, 1),\n",
    "#     \"regressor__XGB__scale_pos_weight\": [1],\n",
    "#     \"regressor__XGB__n_estimators\": [630],\n",
    "#     \"regressor__XGB__reg_alpha\": [.1],\n",
    "#     \"regressor__XGB__min_child_weight\": Integer(1,5)\n",
    "# }\n",
    "\n",
    "\n",
    "opt = BayesSearchCV(model_regr, param_grid, n_jobs=2, cv = kf, random)"
   ]
  },
  {
   "cell_type": "code",
   "execution_count": null,
   "id": "910ab243",
   "metadata": {},
   "outputs": [],
   "source": [
    "{'XGB__gamma': 0, 'XGB__learning_rate': 0.1, \n",
    " 'XGB__max_depth': 3, 'XGB__min_child_weight': 5, \n",
    " 'XGB__n_estimators': 630, 'XGB__reg_alpha': 0.1, \n",
    " 'XGB__reg_lambda': 1, 'XGB__scale_pos_weight': 1}"
   ]
  },
  {
   "cell_type": "code",
   "execution_count": 99,
   "id": "953c0e6f",
   "metadata": {},
   "outputs": [
    {
     "name": "stdout",
     "output_type": "stream",
     "text": [
      "[15:24:54] WARNING: C:\\b\\abs_7diruzi3as\\croot\\xgboost-split_1712794727514\\work\\src\\learner.cc:767: \n",
      "Parameters: { \"num_boost_round\" } are not used.\n",
      "\n"
     ]
    },
    {
     "data": {
      "text/html": [
       "<style>#sk-container-id-16 {color: black;}#sk-container-id-16 pre{padding: 0;}#sk-container-id-16 div.sk-toggleable {background-color: white;}#sk-container-id-16 label.sk-toggleable__label {cursor: pointer;display: block;width: 100%;margin-bottom: 0;padding: 0.3em;box-sizing: border-box;text-align: center;}#sk-container-id-16 label.sk-toggleable__label-arrow:before {content: \"▸\";float: left;margin-right: 0.25em;color: #696969;}#sk-container-id-16 label.sk-toggleable__label-arrow:hover:before {color: black;}#sk-container-id-16 div.sk-estimator:hover label.sk-toggleable__label-arrow:before {color: black;}#sk-container-id-16 div.sk-toggleable__content {max-height: 0;max-width: 0;overflow: hidden;text-align: left;background-color: #f0f8ff;}#sk-container-id-16 div.sk-toggleable__content pre {margin: 0.2em;color: black;border-radius: 0.25em;background-color: #f0f8ff;}#sk-container-id-16 input.sk-toggleable__control:checked~div.sk-toggleable__content {max-height: 200px;max-width: 100%;overflow: auto;}#sk-container-id-16 input.sk-toggleable__control:checked~label.sk-toggleable__label-arrow:before {content: \"▾\";}#sk-container-id-16 div.sk-estimator input.sk-toggleable__control:checked~label.sk-toggleable__label {background-color: #d4ebff;}#sk-container-id-16 div.sk-label input.sk-toggleable__control:checked~label.sk-toggleable__label {background-color: #d4ebff;}#sk-container-id-16 input.sk-hidden--visually {border: 0;clip: rect(1px 1px 1px 1px);clip: rect(1px, 1px, 1px, 1px);height: 1px;margin: -1px;overflow: hidden;padding: 0;position: absolute;width: 1px;}#sk-container-id-16 div.sk-estimator {font-family: monospace;background-color: #f0f8ff;border: 1px dotted black;border-radius: 0.25em;box-sizing: border-box;margin-bottom: 0.5em;}#sk-container-id-16 div.sk-estimator:hover {background-color: #d4ebff;}#sk-container-id-16 div.sk-parallel-item::after {content: \"\";width: 100%;border-bottom: 1px solid gray;flex-grow: 1;}#sk-container-id-16 div.sk-label:hover label.sk-toggleable__label {background-color: #d4ebff;}#sk-container-id-16 div.sk-serial::before {content: \"\";position: absolute;border-left: 1px solid gray;box-sizing: border-box;top: 0;bottom: 0;left: 50%;z-index: 0;}#sk-container-id-16 div.sk-serial {display: flex;flex-direction: column;align-items: center;background-color: white;padding-right: 0.2em;padding-left: 0.2em;position: relative;}#sk-container-id-16 div.sk-item {position: relative;z-index: 1;}#sk-container-id-16 div.sk-parallel {display: flex;align-items: stretch;justify-content: center;background-color: white;position: relative;}#sk-container-id-16 div.sk-item::before, #sk-container-id-16 div.sk-parallel-item::before {content: \"\";position: absolute;border-left: 1px solid gray;box-sizing: border-box;top: 0;bottom: 0;left: 50%;z-index: -1;}#sk-container-id-16 div.sk-parallel-item {display: flex;flex-direction: column;z-index: 1;position: relative;background-color: white;}#sk-container-id-16 div.sk-parallel-item:first-child::after {align-self: flex-end;width: 50%;}#sk-container-id-16 div.sk-parallel-item:last-child::after {align-self: flex-start;width: 50%;}#sk-container-id-16 div.sk-parallel-item:only-child::after {width: 0;}#sk-container-id-16 div.sk-dashed-wrapped {border: 1px dashed gray;margin: 0 0.4em 0.5em 0.4em;box-sizing: border-box;padding-bottom: 0.4em;background-color: white;}#sk-container-id-16 div.sk-label label {font-family: monospace;font-weight: bold;display: inline-block;line-height: 1.2em;}#sk-container-id-16 div.sk-label-container {text-align: center;}#sk-container-id-16 div.sk-container {/* jupyter's `normalize.less` sets `[hidden] { display: none; }` but bootstrap.min.css set `[hidden] { display: none !important; }` so we also need the `!important` here to be able to override the default hidden behavior on the sphinx rendered scikit-learn.org. See: https://github.com/scikit-learn/scikit-learn/issues/21755 */display: inline-block !important;position: relative;}#sk-container-id-16 div.sk-text-repr-fallback {display: none;}</style><div id=\"sk-container-id-16\" class=\"sk-top-container\"><div class=\"sk-text-repr-fallback\"><pre>BayesSearchCV(cv=KFold(n_splits=5, random_state=42, shuffle=True),\n",
       "              estimator=TransformedTargetRegressor(func=&lt;ufunc &#x27;log&#x27;&gt;,\n",
       "                                                   inverse_func=&lt;ufunc &#x27;exp&#x27;&gt;,\n",
       "                                                   regressor=Pipeline(steps=[(&#x27;Preprocess&#x27;,\n",
       "                                                                              ColumnTransformer(transformers=[(&#x27;standard_scaler&#x27;,\n",
       "                                                                                                               StandardScaler(),\n",
       "                                                                                                               [&#x27;GrLivArea&#x27;,\n",
       "                                                                                                                &#x27;MSSubClass&#x27;,\n",
       "                                                                                                                &#x27;LotFrontage&#x27;,\n",
       "                                                                                                                &#x27;LotArea&#x27;,\n",
       "                                                                                                                &#x27;Alley&#x27;,\n",
       "                                                                                                                &#x27;LotShape&#x27;,\n",
       "                                                                                                                &#x27;LandContour&#x27;,\n",
       "                                                                                                                &#x27;Utilities&#x27;,\n",
       "                                                                                                                &#x27;L...\n",
       "                             &#x27;regressor__XGB__max_depth&#x27;: [2],\n",
       "                             &#x27;regressor__XGB__min_child_weight&#x27;: [6],\n",
       "                             &#x27;regressor__XGB__n_estimators&#x27;: Integer(low=650, high=750, prior=&#x27;uniform&#x27;, transform=&#x27;normalize&#x27;),\n",
       "                             &#x27;regressor__XGB__num_boost_round&#x27;: Integer(low=1050, high=1200, prior=&#x27;uniform&#x27;, transform=&#x27;normalize&#x27;),\n",
       "                             &#x27;regressor__XGB__reg_alpha&#x27;: [0.1],\n",
       "                             &#x27;regressor__XGB__reg_lambda&#x27;: [1],\n",
       "                             &#x27;regressor__XGB__subsample&#x27;: [0.68833]})</pre><b>In a Jupyter environment, please rerun this cell to show the HTML representation or trust the notebook. <br />On GitHub, the HTML representation is unable to render, please try loading this page with nbviewer.org.</b></div><div class=\"sk-container\" hidden><div class=\"sk-item sk-dashed-wrapped\"><div class=\"sk-label-container\"><div class=\"sk-label sk-toggleable\"><input class=\"sk-toggleable__control sk-hidden--visually\" id=\"sk-estimator-id-119\" type=\"checkbox\" ><label for=\"sk-estimator-id-119\" class=\"sk-toggleable__label sk-toggleable__label-arrow\">BayesSearchCV</label><div class=\"sk-toggleable__content\"><pre>BayesSearchCV(cv=KFold(n_splits=5, random_state=42, shuffle=True),\n",
       "              estimator=TransformedTargetRegressor(func=&lt;ufunc &#x27;log&#x27;&gt;,\n",
       "                                                   inverse_func=&lt;ufunc &#x27;exp&#x27;&gt;,\n",
       "                                                   regressor=Pipeline(steps=[(&#x27;Preprocess&#x27;,\n",
       "                                                                              ColumnTransformer(transformers=[(&#x27;standard_scaler&#x27;,\n",
       "                                                                                                               StandardScaler(),\n",
       "                                                                                                               [&#x27;GrLivArea&#x27;,\n",
       "                                                                                                                &#x27;MSSubClass&#x27;,\n",
       "                                                                                                                &#x27;LotFrontage&#x27;,\n",
       "                                                                                                                &#x27;LotArea&#x27;,\n",
       "                                                                                                                &#x27;Alley&#x27;,\n",
       "                                                                                                                &#x27;LotShape&#x27;,\n",
       "                                                                                                                &#x27;LandContour&#x27;,\n",
       "                                                                                                                &#x27;Utilities&#x27;,\n",
       "                                                                                                                &#x27;L...\n",
       "                             &#x27;regressor__XGB__max_depth&#x27;: [2],\n",
       "                             &#x27;regressor__XGB__min_child_weight&#x27;: [6],\n",
       "                             &#x27;regressor__XGB__n_estimators&#x27;: Integer(low=650, high=750, prior=&#x27;uniform&#x27;, transform=&#x27;normalize&#x27;),\n",
       "                             &#x27;regressor__XGB__num_boost_round&#x27;: Integer(low=1050, high=1200, prior=&#x27;uniform&#x27;, transform=&#x27;normalize&#x27;),\n",
       "                             &#x27;regressor__XGB__reg_alpha&#x27;: [0.1],\n",
       "                             &#x27;regressor__XGB__reg_lambda&#x27;: [1],\n",
       "                             &#x27;regressor__XGB__subsample&#x27;: [0.68833]})</pre></div></div></div><div class=\"sk-parallel\"><div class=\"sk-parallel-item\"><div class=\"sk-item\"><div class=\"sk-label-container\"><div class=\"sk-label sk-toggleable\"><input class=\"sk-toggleable__control sk-hidden--visually\" id=\"sk-estimator-id-120\" type=\"checkbox\" ><label for=\"sk-estimator-id-120\" class=\"sk-toggleable__label sk-toggleable__label-arrow\">estimator: TransformedTargetRegressor</label><div class=\"sk-toggleable__content\"><pre>TransformedTargetRegressor(func=&lt;ufunc &#x27;log&#x27;&gt;, inverse_func=&lt;ufunc &#x27;exp&#x27;&gt;,\n",
       "                           regressor=Pipeline(steps=[(&#x27;Preprocess&#x27;,\n",
       "                                                      ColumnTransformer(transformers=[(&#x27;standard_scaler&#x27;,\n",
       "                                                                                       StandardScaler(),\n",
       "                                                                                       [&#x27;GrLivArea&#x27;,\n",
       "                                                                                        &#x27;MSSubClass&#x27;,\n",
       "                                                                                        &#x27;LotFrontage&#x27;,\n",
       "                                                                                        &#x27;LotArea&#x27;,\n",
       "                                                                                        &#x27;Alley&#x27;,\n",
       "                                                                                        &#x27;LotShape&#x27;,\n",
       "                                                                                        &#x27;LandContour&#x27;,\n",
       "                                                                                        &#x27;Utilities&#x27;,\n",
       "                                                                                        &#x27;LandSlope&#x27;,\n",
       "                                                                                        &#x27;OverallQual&#x27;,\n",
       "                                                                                        &#x27;OverallCond&#x27;,\n",
       "                                                                                        &#x27;YearBuilt&#x27;,\n",
       "                                                                                        &#x27;YearRemodAdd&#x27;,\n",
       "                                                                                        &#x27;MasVnrAr...\n",
       "                                                                   gpu_id=None,\n",
       "                                                                   grow_policy=None,\n",
       "                                                                   importance_type=None,\n",
       "                                                                   interaction_constraints=None,\n",
       "                                                                   learning_rate=None,\n",
       "                                                                   max_bin=None,\n",
       "                                                                   max_cat_threshold=None,\n",
       "                                                                   max_cat_to_onehot=None,\n",
       "                                                                   max_delta_step=None,\n",
       "                                                                   max_depth=None,\n",
       "                                                                   max_leaves=None,\n",
       "                                                                   min_child_weight=None,\n",
       "                                                                   missing=nan,\n",
       "                                                                   monotone_constraints=None,\n",
       "                                                                   n_estimators=100,\n",
       "                                                                   n_jobs=None,\n",
       "                                                                   num_parallel_tree=None,\n",
       "                                                                   predictor=None,\n",
       "                                                                   random_state=None, ...))]))</pre></div></div></div><div class=\"sk-serial\"><div class=\"sk-item sk-dashed-wrapped\"><div class=\"sk-parallel\"><div class=\"sk-parallel-item\"><div class=\"sk-item\"><div class=\"sk-label-container\"><div class=\"sk-label sk-toggleable\"><input class=\"sk-toggleable__control sk-hidden--visually\" id=\"sk-estimator-id-121\" type=\"checkbox\" ><label for=\"sk-estimator-id-121\" class=\"sk-toggleable__label sk-toggleable__label-arrow\">regressor: Pipeline</label><div class=\"sk-toggleable__content\"><pre>Pipeline(steps=[(&#x27;Preprocess&#x27;,\n",
       "                 ColumnTransformer(transformers=[(&#x27;standard_scaler&#x27;,\n",
       "                                                  StandardScaler(),\n",
       "                                                  [&#x27;GrLivArea&#x27;, &#x27;MSSubClass&#x27;,\n",
       "                                                   &#x27;LotFrontage&#x27;, &#x27;LotArea&#x27;,\n",
       "                                                   &#x27;Alley&#x27;, &#x27;LotShape&#x27;,\n",
       "                                                   &#x27;LandContour&#x27;, &#x27;Utilities&#x27;,\n",
       "                                                   &#x27;LandSlope&#x27;, &#x27;OverallQual&#x27;,\n",
       "                                                   &#x27;OverallCond&#x27;, &#x27;YearBuilt&#x27;,\n",
       "                                                   &#x27;YearRemodAdd&#x27;, &#x27;MasVnrArea&#x27;,\n",
       "                                                   &#x27;ExterQual&#x27;, &#x27;ExterCond&#x27;,\n",
       "                                                   &#x27;BsmtQual&#x27;, &#x27;BsmtCond&#x27;,\n",
       "                                                   &#x27;BsmtExposure&#x27;,\n",
       "                                                   &#x27;BsmtFinType1&#x27;, &#x27;...\n",
       "                              feature_types=None, gamma=None, gpu_id=None,\n",
       "                              grow_policy=None, importance_type=None,\n",
       "                              interaction_constraints=None, learning_rate=None,\n",
       "                              max_bin=None, max_cat_threshold=None,\n",
       "                              max_cat_to_onehot=None, max_delta_step=None,\n",
       "                              max_depth=None, max_leaves=None,\n",
       "                              min_child_weight=None, missing=nan,\n",
       "                              monotone_constraints=None, n_estimators=100,\n",
       "                              n_jobs=None, num_parallel_tree=None,\n",
       "                              predictor=None, random_state=None, ...))])</pre></div></div></div><div class=\"sk-serial\"><div class=\"sk-item\"><div class=\"sk-serial\"><div class=\"sk-item sk-dashed-wrapped\"><div class=\"sk-label-container\"><div class=\"sk-label sk-toggleable\"><input class=\"sk-toggleable__control sk-hidden--visually\" id=\"sk-estimator-id-122\" type=\"checkbox\" ><label for=\"sk-estimator-id-122\" class=\"sk-toggleable__label sk-toggleable__label-arrow\">Preprocess: ColumnTransformer</label><div class=\"sk-toggleable__content\"><pre>ColumnTransformer(transformers=[(&#x27;standard_scaler&#x27;, StandardScaler(),\n",
       "                                 [&#x27;GrLivArea&#x27;, &#x27;MSSubClass&#x27;, &#x27;LotFrontage&#x27;,\n",
       "                                  &#x27;LotArea&#x27;, &#x27;Alley&#x27;, &#x27;LotShape&#x27;, &#x27;LandContour&#x27;,\n",
       "                                  &#x27;Utilities&#x27;, &#x27;LandSlope&#x27;, &#x27;OverallQual&#x27;,\n",
       "                                  &#x27;OverallCond&#x27;, &#x27;YearBuilt&#x27;, &#x27;YearRemodAdd&#x27;,\n",
       "                                  &#x27;MasVnrArea&#x27;, &#x27;ExterQual&#x27;, &#x27;ExterCond&#x27;,\n",
       "                                  &#x27;BsmtQual&#x27;, &#x27;BsmtCond&#x27;, &#x27;BsmtExposure&#x27;,\n",
       "                                  &#x27;BsmtFinType1&#x27;, &#x27;BsmtFinSF1&#x27;, &#x27;BsmtFinType2&#x27;,\n",
       "                                  &#x27;Bs...\n",
       "                                (&#x27;one-hot-encoder&#x27;,\n",
       "                                 OneHotEncoder(drop=&#x27;first&#x27;,\n",
       "                                               handle_unknown=&#x27;ignore&#x27;),\n",
       "                                 [&#x27;MSZoning&#x27;, &#x27;Street&#x27;, &#x27;LotConfig&#x27;,\n",
       "                                  &#x27;Neighborhood&#x27;, &#x27;Condition1&#x27;, &#x27;Condition2&#x27;,\n",
       "                                  &#x27;BldgType&#x27;, &#x27;HouseStyle&#x27;, &#x27;RoofStyle&#x27;,\n",
       "                                  &#x27;RoofMatl&#x27;, &#x27;Exterior1st&#x27;, &#x27;Exterior2nd&#x27;,\n",
       "                                  &#x27;MasVnrType&#x27;, &#x27;Foundation&#x27;, &#x27;Heating&#x27;,\n",
       "                                  &#x27;CentralAir&#x27;, &#x27;Electrical&#x27;, &#x27;GarageType&#x27;,\n",
       "                                  &#x27;GarageYN&#x27;, &#x27;PoolYN&#x27;, &#x27;Fence&#x27;, &#x27;SaleType&#x27;,\n",
       "                                  &#x27;SaleCondition&#x27;])])</pre></div></div></div><div class=\"sk-parallel\"><div class=\"sk-parallel-item\"><div class=\"sk-item\"><div class=\"sk-label-container\"><div class=\"sk-label sk-toggleable\"><input class=\"sk-toggleable__control sk-hidden--visually\" id=\"sk-estimator-id-123\" type=\"checkbox\" ><label for=\"sk-estimator-id-123\" class=\"sk-toggleable__label sk-toggleable__label-arrow\">standard_scaler</label><div class=\"sk-toggleable__content\"><pre>[&#x27;GrLivArea&#x27;, &#x27;MSSubClass&#x27;, &#x27;LotFrontage&#x27;, &#x27;LotArea&#x27;, &#x27;Alley&#x27;, &#x27;LotShape&#x27;, &#x27;LandContour&#x27;, &#x27;Utilities&#x27;, &#x27;LandSlope&#x27;, &#x27;OverallQual&#x27;, &#x27;OverallCond&#x27;, &#x27;YearBuilt&#x27;, &#x27;YearRemodAdd&#x27;, &#x27;MasVnrArea&#x27;, &#x27;ExterQual&#x27;, &#x27;ExterCond&#x27;, &#x27;BsmtQual&#x27;, &#x27;BsmtCond&#x27;, &#x27;BsmtExposure&#x27;, &#x27;BsmtFinType1&#x27;, &#x27;BsmtFinSF1&#x27;, &#x27;BsmtFinType2&#x27;, &#x27;BsmtFinSF2&#x27;, &#x27;BsmtUnfSF&#x27;, &#x27;TotalBsmtSF&#x27;, &#x27;HeatingQC&#x27;, &#x27;1stFlrSF&#x27;, &#x27;2ndFlrSF&#x27;, &#x27;LowQualFinSF&#x27;, &#x27;BsmtFullBath&#x27;, &#x27;BsmtHalfBath&#x27;, &#x27;FullBath&#x27;, &#x27;HalfBath&#x27;, &#x27;BedroomAbvGr&#x27;, &#x27;KitchenAbvGr&#x27;, &#x27;KitchenQual&#x27;, &#x27;TotRmsAbvGrd&#x27;, &#x27;Functional&#x27;, &#x27;Fireplaces&#x27;, &#x27;FireplaceQu&#x27;, &#x27;GarageFinish&#x27;, &#x27;GarageCars&#x27;, &#x27;GarageArea&#x27;, &#x27;GarageQual&#x27;, &#x27;GarageCond&#x27;, &#x27;PavedDrive&#x27;, &#x27;WoodDeckSF&#x27;, &#x27;OpenPorchSF&#x27;, &#x27;EnclosedPorch&#x27;, &#x27;3SsnPorch&#x27;, &#x27;ScreenPorch&#x27;, &#x27;PoolQC&#x27;, &#x27;MoSold&#x27;, &#x27;YrSold&#x27;, &#x27;Bathrooms&#x27;]</pre></div></div></div><div class=\"sk-serial\"><div class=\"sk-item\"><div class=\"sk-estimator sk-toggleable\"><input class=\"sk-toggleable__control sk-hidden--visually\" id=\"sk-estimator-id-124\" type=\"checkbox\" ><label for=\"sk-estimator-id-124\" class=\"sk-toggleable__label sk-toggleable__label-arrow\">StandardScaler</label><div class=\"sk-toggleable__content\"><pre>StandardScaler()</pre></div></div></div></div></div></div><div class=\"sk-parallel-item\"><div class=\"sk-item\"><div class=\"sk-label-container\"><div class=\"sk-label sk-toggleable\"><input class=\"sk-toggleable__control sk-hidden--visually\" id=\"sk-estimator-id-125\" type=\"checkbox\" ><label for=\"sk-estimator-id-125\" class=\"sk-toggleable__label sk-toggleable__label-arrow\">one-hot-encoder</label><div class=\"sk-toggleable__content\"><pre>[&#x27;MSZoning&#x27;, &#x27;Street&#x27;, &#x27;LotConfig&#x27;, &#x27;Neighborhood&#x27;, &#x27;Condition1&#x27;, &#x27;Condition2&#x27;, &#x27;BldgType&#x27;, &#x27;HouseStyle&#x27;, &#x27;RoofStyle&#x27;, &#x27;RoofMatl&#x27;, &#x27;Exterior1st&#x27;, &#x27;Exterior2nd&#x27;, &#x27;MasVnrType&#x27;, &#x27;Foundation&#x27;, &#x27;Heating&#x27;, &#x27;CentralAir&#x27;, &#x27;Electrical&#x27;, &#x27;GarageType&#x27;, &#x27;GarageYN&#x27;, &#x27;PoolYN&#x27;, &#x27;Fence&#x27;, &#x27;SaleType&#x27;, &#x27;SaleCondition&#x27;]</pre></div></div></div><div class=\"sk-serial\"><div class=\"sk-item\"><div class=\"sk-estimator sk-toggleable\"><input class=\"sk-toggleable__control sk-hidden--visually\" id=\"sk-estimator-id-126\" type=\"checkbox\" ><label for=\"sk-estimator-id-126\" class=\"sk-toggleable__label sk-toggleable__label-arrow\">OneHotEncoder</label><div class=\"sk-toggleable__content\"><pre>OneHotEncoder(drop=&#x27;first&#x27;, handle_unknown=&#x27;ignore&#x27;)</pre></div></div></div></div></div></div></div></div><div class=\"sk-item\"><div class=\"sk-estimator sk-toggleable\"><input class=\"sk-toggleable__control sk-hidden--visually\" id=\"sk-estimator-id-127\" type=\"checkbox\" ><label for=\"sk-estimator-id-127\" class=\"sk-toggleable__label sk-toggleable__label-arrow\">XGBRegressor</label><div class=\"sk-toggleable__content\"><pre>XGBRegressor(base_score=None, booster=None, callbacks=None,\n",
       "             colsample_bylevel=None, colsample_bynode=None,\n",
       "             colsample_bytree=None, early_stopping_rounds=None,\n",
       "             enable_categorical=False, eval_metric=None, feature_types=None,\n",
       "             gamma=None, gpu_id=None, grow_policy=None, importance_type=None,\n",
       "             interaction_constraints=None, learning_rate=None, max_bin=None,\n",
       "             max_cat_threshold=None, max_cat_to_onehot=None,\n",
       "             max_delta_step=None, max_depth=None, max_leaves=None,\n",
       "             min_child_weight=None, missing=nan, monotone_constraints=None,\n",
       "             n_estimators=100, n_jobs=None, num_parallel_tree=None,\n",
       "             predictor=None, random_state=None, ...)</pre></div></div></div></div></div></div></div></div></div></div></div></div></div></div></div></div></div>"
      ],
      "text/plain": [
       "BayesSearchCV(cv=KFold(n_splits=5, random_state=42, shuffle=True),\n",
       "              estimator=TransformedTargetRegressor(func=<ufunc 'log'>,\n",
       "                                                   inverse_func=<ufunc 'exp'>,\n",
       "                                                   regressor=Pipeline(steps=[('Preprocess',\n",
       "                                                                              ColumnTransformer(transformers=[('standard_scaler',\n",
       "                                                                                                               StandardScaler(),\n",
       "                                                                                                               ['GrLivArea',\n",
       "                                                                                                                'MSSubClass',\n",
       "                                                                                                                'LotFrontage',\n",
       "                                                                                                                'LotArea',\n",
       "                                                                                                                'Alley',\n",
       "                                                                                                                'LotShape',\n",
       "                                                                                                                'LandContour',\n",
       "                                                                                                                'Utilities',\n",
       "                                                                                                                'L...\n",
       "                             'regressor__XGB__max_depth': [2],\n",
       "                             'regressor__XGB__min_child_weight': [6],\n",
       "                             'regressor__XGB__n_estimators': Integer(low=650, high=750, prior='uniform', transform='normalize'),\n",
       "                             'regressor__XGB__num_boost_round': Integer(low=1050, high=1200, prior='uniform', transform='normalize'),\n",
       "                             'regressor__XGB__reg_alpha': [0.1],\n",
       "                             'regressor__XGB__reg_lambda': [1],\n",
       "                             'regressor__XGB__subsample': [0.68833]})"
      ]
     },
     "execution_count": 99,
     "metadata": {},
     "output_type": "execute_result"
    }
   ],
   "source": [
    "opt.fit(X,y)"
   ]
  },
  {
   "cell_type": "code",
   "execution_count": 100,
   "id": "1dc1ca6e",
   "metadata": {},
   "outputs": [
    {
     "name": "stdout",
     "output_type": "stream",
     "text": [
      "0.9479832346539115\n",
      "OrderedDict([('regressor__XGB__colsample_bytree', 1), ('regressor__XGB__learning_rate', 0.194), ('regressor__XGB__max_depth', 2), ('regressor__XGB__min_child_weight', 6), ('regressor__XGB__n_estimators', 749), ('regressor__XGB__num_boost_round', 1050), ('regressor__XGB__reg_alpha', 0.1), ('regressor__XGB__reg_lambda', 1), ('regressor__XGB__subsample', 0.68833)])\n"
     ]
    }
   ],
   "source": [
    "print(opt.best_score_)\n",
    "print(opt.best_params_)"
   ]
  },
  {
   "cell_type": "code",
   "execution_count": 97,
   "id": "090b5cae",
   "metadata": {},
   "outputs": [
    {
     "name": "stdout",
     "output_type": "stream",
     "text": [
      "0.9505378316905986\n",
      "OrderedDict([('regressor__XGB__colsample_bytree', 1), ('regressor__XGB__learning_rate', 0.19547111281866883), ('regressor__XGB__max_depth', 2), ('regressor__XGB__min_child_weight', 6), ('regressor__XGB__n_estimators', 650), ('regressor__XGB__num_boost_round', 950), ('regressor__XGB__reg_alpha', 0.1), ('regressor__XGB__reg_lambda', 1), ('regressor__XGB__subsample', 0.68833)])\n"
     ]
    }
   ],
   "source": [
    "print(opt.best_score_)\n",
    "print(opt.best_params_)\n",
    "\n",
    "# param_grid = {\n",
    "#     \"regressor__XGB__max_depth\":  [2],\n",
    "#     \"regressor__XGB__learning_rate\": Real(.01, .2),\n",
    "#     \"regressor__XGB__colsample_bytree\": [1],\n",
    "#     \"regressor__XGB__n_estimators\": Integer(600, 650),\n",
    "#     \"regressor__XGB__reg_alpha\": [.1],\n",
    "#     \"regressor__XGB__reg_lambda\": [1],\n",
    "#     \"regressor__XGB__subsample\": [.68833],\n",
    "#     \"regressor__XGB__num_boost_round\": Integer(950, 1050),\n",
    "#     \"regressor__XGB__min_child_weight\": Integer(6,8)\n",
    "# }\n"
   ]
  },
  {
   "cell_type": "code",
   "execution_count": 93,
   "id": "ed51844d",
   "metadata": {},
   "outputs": [
    {
     "name": "stdout",
     "output_type": "stream",
     "text": [
      "0.9500705641364512\n",
      "OrderedDict([('regressor__XGB__colsample_bytree', 1.0), ('regressor__XGB__learning_rate', 0.1), ('regressor__XGB__max_depth', 2), ('regressor__XGB__min_child_weight', 6), ('regressor__XGB__n_estimators', 630), ('regressor__XGB__num_boost_round', 1000), ('regressor__XGB__reg_alpha', 0.1), ('regressor__XGB__reg_lambda', 1), ('regressor__XGB__subsample', 0.6883302642344166)])\n"
     ]
    }
   ],
   "source": [
    "# param_grid = {\n",
    "#     \"regressor__XGB__max_depth\": Integer(2,4),\n",
    "#     \"regressor__XGB__learning_rate\": [.1],\n",
    "#     \"regressor__XGB__colsample_bytree\": Real(0, 1),\n",
    "#     \"regressor__XGB__n_estimators\": [630],\n",
    "#     \"regressor__XGB__reg_alpha\": [.1],\n",
    "#     \"regressor__XGB__reg_lambda\": [1],\n",
    "#     \"regressor__XGB__subsample\": Real(0, 1),\n",
    "#     \"regressor__XGB__num_boost_round\": [1000],\n",
    "#     \"regressor__XGB__min_child_weight\": Integer(1, 6)\n",
    "# } \n",
    "print(opt.best_score_)\n",
    "print(opt.best_params_)"
   ]
  },
  {
   "cell_type": "code",
   "execution_count": 89,
   "id": "5ff8cac0",
   "metadata": {},
   "outputs": [
    {
     "name": "stdout",
     "output_type": "stream",
     "text": [
      "0.9473824700311871\n",
      "OrderedDict([('regressor__XGB__gamma', 0), ('regressor__XGB__learning_rate', 0.17396182684218464), ('regressor__XGB__max_depth', 2), ('regressor__XGB__min_child_weight', 6), ('regressor__XGB__n_estimators', 650), ('regressor__XGB__reg_alpha', 0.1), ('regressor__XGB__reg_lambda', 6.525476697924969), ('regressor__XGB__scale_pos_weight', 1)])\n"
     ]
    }
   ],
   "source": [
    "# with normalization \n",
    "print(opt.best_score_)\n",
    "print(opt.best_params_)"
   ]
  },
  {
   "cell_type": "code",
   "execution_count": 86,
   "id": "5f4cc0b0",
   "metadata": {},
   "outputs": [
    {
     "name": "stdout",
     "output_type": "stream",
     "text": [
      "0.9474189303556209\n",
      "OrderedDict([('XGB__gamma', 0), ('XGB__learning_rate', 0.06691230775203803), ('XGB__max_depth', 3), ('XGB__min_child_weight', 5), ('XGB__n_estimators', 601), ('XGB__reg_alpha', 0.1), ('XGB__reg_lambda', 1.0667388136737757), ('XGB__scale_pos_weight', 1)])\n"
     ]
    }
   ],
   "source": [
    "# this is without normalization \n",
    "print(opt.best_score_)\n",
    "print(opt.best_params_)"
   ]
  },
  {
   "cell_type": "code",
   "execution_count": 26,
   "id": "e605f96e",
   "metadata": {},
   "outputs": [
    {
     "name": "stdout",
     "output_type": "stream",
     "text": [
      "0.9502283773923905\n",
      "OrderedDict([('regressor__XGB__gamma', 0), ('regressor__XGB__learning_rate', 0.1), ('regressor__XGB__max_depth', 3), ('regressor__XGB__min_child_weight', 5), ('regressor__XGB__n_estimators', 630), ('regressor__XGB__reg_alpha', 0.1), ('regressor__XGB__reg_lambda', 1.0), ('regressor__XGB__scale_pos_weight', 1)])\n"
     ]
    }
   ],
   "source": [
    "# kf randomstate  is 10\n",
    "print(opt.best_score_)\n",
    "print(opt.best_params_)"
   ]
  },
  {
   "cell_type": "code",
   "execution_count": 10,
   "id": "493e892e",
   "metadata": {},
   "outputs": [
    {
     "name": "stdout",
     "output_type": "stream",
     "text": [
      "0.9478653411032253\n",
      "OrderedDict([('regressor__XGB__gamma', 0), ('regressor__XGB__learning_rate', 0.10060991347716391), ('regressor__XGB__max_depth', 2), ('regressor__XGB__min_child_weight', 2), ('regressor__XGB__n_estimators', 630), ('regressor__XGB__reg_alpha', 0.1), ('regressor__XGB__reg_lambda', 0.049358074984923186), ('regressor__XGB__scale_pos_weight', 1)])\n"
     ]
    }
   ],
   "source": [
    "# kf random state 42 I think gave these \n",
    "print(opt.best_score_)\n",
    "print(opt.best_params_)"
   ]
  },
  {
   "cell_type": "code",
   "execution_count": 45,
   "id": "403b5634",
   "metadata": {},
   "outputs": [
    {
     "ename": "AttributeError",
     "evalue": "'TransformedTargetRegressor' object has no attribute 'steps'",
     "output_type": "error",
     "traceback": [
      "\u001b[1;31m---------------------------------------------------------------------------\u001b[0m",
      "\u001b[1;31mAttributeError\u001b[0m                            Traceback (most recent call last)",
      "Cell \u001b[1;32mIn[45], line 1\u001b[0m\n\u001b[1;32m----> 1\u001b[0m opt\u001b[38;5;241m.\u001b[39mbest_estimator_\u001b[38;5;241m.\u001b[39msteps\n",
      "\u001b[1;31mAttributeError\u001b[0m: 'TransformedTargetRegressor' object has no attribute 'steps'"
     ]
    }
   ],
   "source": [
    "opt.best_estimator_.steps"
   ]
  },
  {
   "cell_type": "code",
   "execution_count": null,
   "id": "947f2303",
   "metadata": {},
   "outputs": [],
   "source": [
    "{'regressor__XGB__gamma': 0, 'regressor__XGB__learning_rate': 1, \n",
    " 'regressor__XGB__max_depth': 8, 'regressor__XGB__min_child_weight': 4, \n",
    " 'regressor__XGB__n_estimators': 1, 'regressor__XGB__reg_alpha': 0,\n",
    " 'regressor__XGB__reg_lambda': 0, 'regressor__XGB__scale_pos_weight': 1}"
   ]
  },
  {
   "cell_type": "markdown",
   "id": "0a01949d",
   "metadata": {},
   "source": [
    "### feature importance below"
   ]
  },
  {
   "cell_type": "code",
   "execution_count": 51,
   "id": "4324a0d4",
   "metadata": {},
   "outputs": [],
   "source": [
    "from xgboost import plot_importance\n",
    "#opt.best_estimator_"
   ]
  },
  {
   "cell_type": "code",
   "execution_count": null,
   "id": "987e7cb4",
   "metadata": {},
   "outputs": [],
   "source": [
    "feature_important = model.get_booster().get_score(importance_type='weight')\n",
    "keys = list(feature_important.keys())\n",
    "values = list(feature_important.values())\n",
    "\n",
    "data = pd.DataFrame(data=values, index=keys, columns=[\"score\"]).sort_values(by = \"score\", ascending=False)\n",
    "data.nlargest(40, columns=\"score\").plot(kind='barh', figsize = (20,10)) ## plot top 40 features"
   ]
  },
  {
   "cell_type": "code",
   "execution_count": 52,
   "id": "4992ddf7",
   "metadata": {},
   "outputs": [
    {
     "ename": "AttributeError",
     "evalue": "'TransformedTargetRegressor' object has no attribute 'steps'",
     "output_type": "error",
     "traceback": [
      "\u001b[1;31m---------------------------------------------------------------------------\u001b[0m",
      "\u001b[1;31mAttributeError\u001b[0m                            Traceback (most recent call last)",
      "Cell \u001b[1;32mIn[52], line 1\u001b[0m\n\u001b[1;32m----> 1\u001b[0m opt\u001b[38;5;241m.\u001b[39mbest_estimator_\u001b[38;5;241m.\u001b[39msteps\n",
      "\u001b[1;31mAttributeError\u001b[0m: 'TransformedTargetRegressor' object has no attribute 'steps'"
     ]
    }
   ],
   "source": [
    "opt.best_estimator_"
   ]
  },
  {
   "cell_type": "markdown",
   "id": "6057bbe7",
   "metadata": {},
   "source": [
    "### Optuna"
   ]
  },
  {
   "cell_type": "code",
   "execution_count": null,
   "id": "bf2e6df0",
   "metadata": {},
   "outputs": [],
   "source": [
    "# model_opt = xgb.XGBRegressor(**params)\n",
    "# model_pipe = Pipeline(steps=[(\"Preprocess\", preprocessor), (\"XGB\", model_opt)])\n",
    "# model_regr = compose.TransformedTargetRegressor(regressor= model_pipe,\n",
    "#                                                  func=np.log, inverse_func=np.exp)\n",
    "# model_cross = cross_val_score(model_regr, X, y, cv = kf, error_score= 'raise')\n",
    "# model_cross.fit(X, y, verbose=False)"
   ]
  },
  {
   "cell_type": "code",
   "execution_count": 116,
   "id": "3e10fc2d",
   "metadata": {},
   "outputs": [],
   "source": [
    "# import optuna\n",
    "\n",
    "# def objective(trial):\n",
    "#     params = {\n",
    "#         \"objective\": \"reg:squarederror\",\n",
    "#         \"n_estimators\": 1000,\n",
    "#         \"verbosity\": 0,\n",
    "#         \"learning_rate\": trial.suggest_float(\"learning_rate\", 1e-3, 0.1, log=True),\n",
    "#         \"max_depth\": trial.suggest_int(\"max_depth\", 1, 10),\n",
    "#         \"subsample\": trial.suggest_float(\"subsample\", 0.05, 1.0),\n",
    "#         \"colsample_bytree\": trial.suggest_float(\"colsample_bytree\", 0.05, 1.0),\n",
    "#         \"min_child_weight\": trial.suggest_int(\"min_child_weight\", 1, 20),\n",
    "#     }\n",
    "    \n",
    "#     model_opt = xgb.XGBRegressor(**params)\n",
    "#     model_pipe = Pipeline(steps=[(\"Preprocess\", preprocessor), (\"XGB\", model_opt)])\n",
    "#     model_regr = compose.TransformedTargetRegressor(regressor= model_pipe,\n",
    "#                                                  func=np.log, inverse_func=np.exp)\n",
    "#     model_cross = cross_val_score(model_regr, X, y, cv = kf, error_score= 'raise')\n",
    "#     model_cross.fit(X, y, verbose=False)\n",
    "#     return model_cross.best_score_"
   ]
  },
  {
   "cell_type": "code",
   "execution_count": 118,
   "id": "6f0afd7d",
   "metadata": {},
   "outputs": [],
   "source": [
    "from optuna import Trial\n",
    "\n",
    "def choose_columns(trial : Trial, columns : list[str]) -> list[str]:\n",
    "  choose = lambda column: trial.suggest_categorical(column, [True, False])\n",
    "  choices = [*filter(choose, columns)]\n",
    "  return choices"
   ]
  },
  {
   "cell_type": "code",
   "execution_count": 119,
   "id": "d2896248",
   "metadata": {},
   "outputs": [],
   "source": [
    "from sklearn.ensemble import RandomForestClassifier\n",
    "import xgboost as xgb\n",
    "from xgboost import XGBRegressor\n",
    "from sklearn.linear_model import Ridge\n",
    "\n",
    "\n",
    "Classifier = (\n",
    "  RandomForestClassifier |\n",
    "  XGBRegressor |\n",
    "  Ridge\n",
    ")\n",
    "\n",
    "def instantiate_learner(trial : Trial) -> Classifier:\n",
    "  algorithm = trial.suggest_categorical(\n",
    "    'algorithm', ['random_forest', 'xgb', 'ridge']\n",
    "  )\n",
    "  if algorithm=='random_forest':\n",
    "    model = instantiate_logistic_regression(trial)\n",
    "  elif algorithm=='xgb':\n",
    "    model = instantiate_random_forest(trial)\n",
    "  elif algorithm=='ridge':\n",
    "    model = instantiate_extra_forest(trial)\n",
    "  \n",
    "  return model"
   ]
  }
 ],
 "metadata": {
  "kernelspec": {
   "display_name": "Python 3 (ipykernel)",
   "language": "python",
   "name": "python3"
  },
  "language_info": {
   "codemirror_mode": {
    "name": "ipython",
    "version": 3
   },
   "file_extension": ".py",
   "mimetype": "text/x-python",
   "name": "python",
   "nbconvert_exporter": "python",
   "pygments_lexer": "ipython3",
   "version": "3.11.5"
  }
 },
 "nbformat": 4,
 "nbformat_minor": 5
}
