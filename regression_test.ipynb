{
 "cells": [
  {
   "cell_type": "code",
   "execution_count": 2,
   "id": "bd5afae2",
   "metadata": {},
   "outputs": [],
   "source": [
    "import numpy as np\n",
    "import pandas as pd\n",
    "import matplotlib.pyplot as plt\n",
    "import seaborn as sns\n",
    "from sklearn.preprocessing import PowerTransformer, QuantileTransformer\n",
    "from sklearn.compose import make_column_selector as selector\n",
    "from sklearn.preprocessing import OneHotEncoder, StandardScaler\n",
    "from sklearn.compose import ColumnTransformer\n",
    "from sklearn.model_selection import train_test_split\n",
    "from sklearn import linear_model \n",
    "from sklearn import compose, pipeline\n",
    "from sklearn.model_selection import KFold\n",
    "from sklearn.model_selection import cross_validate\n",
    "from sklearn.pipeline import Pipeline\n",
    "import warnings\n",
    "from sklearn.model_selection import GridSearchCV\n",
    "warnings.filterwarnings('ignore')"
   ]
  },
  {
   "cell_type": "code",
   "execution_count": 112,
   "id": "38566732",
   "metadata": {},
   "outputs": [],
   "source": [
    "df1 = pd.read_csv('housing_pp1.csv', index_col=0)\n",
    "y1 = df1.SalePrice\n",
    "X1 = df1.drop(['SalePrice', 'PID'], axis =1).copy()\n"
   ]
  },
  {
   "cell_type": "code",
   "execution_count": 153,
   "id": "6a83a8d0",
   "metadata": {},
   "outputs": [],
   "source": [
    "df2 = pd.read_csv('housing_pp3.csv', index_col=0)\n",
    "y2 = df2.SalePrice\n",
    "X2 = df2.drop(['SalePrice', 'PID'], axis =1).copy()"
   ]
  },
  {
   "cell_type": "code",
   "execution_count": 154,
   "id": "62a997c4",
   "metadata": {},
   "outputs": [],
   "source": [
    "numerical_columns_selector = selector(dtype_exclude=object)\n",
    "categorical_columns_selector = selector(dtype_include=object)"
   ]
  },
  {
   "cell_type": "code",
   "execution_count": 155,
   "id": "55731856",
   "metadata": {},
   "outputs": [],
   "source": [
    "numerical_columns1 = numerical_columns_selector(X1)\n",
    "categorical_columns1 = categorical_columns_selector(X1)\n",
    "numerical_columns2 = numerical_columns_selector(X2)\n",
    "categorical_columns2 = categorical_columns_selector(X2)"
   ]
  },
  {
   "cell_type": "code",
   "execution_count": 156,
   "id": "50909dee",
   "metadata": {},
   "outputs": [],
   "source": [
    "categorical_preprocessor = OneHotEncoder(handle_unknown=\"ignore\", drop= 'first')\n",
    "numerical_preprocessor = StandardScaler()"
   ]
  },
  {
   "cell_type": "code",
   "execution_count": 157,
   "id": "877dbb84",
   "metadata": {},
   "outputs": [],
   "source": [
    "preprocessor1 = ColumnTransformer(\n",
    "    [\n",
    "        (\"standard_scaler\", numerical_preprocessor, numerical_columns1),\n",
    "        (\"one-hot-encoder\", categorical_preprocessor, categorical_columns1),\n",
    "    ]\n",
    ")\n",
    "\n",
    "preprocessor2 = ColumnTransformer(\n",
    "    [\n",
    "        (\"standard_scaler\", numerical_preprocessor, numerical_columns2),\n",
    "        (\"one-hot-encoder\", categorical_preprocessor, categorical_columns2),\n",
    "    ]\n",
    ")"
   ]
  },
  {
   "cell_type": "code",
   "execution_count": 158,
   "id": "70985ba7",
   "metadata": {},
   "outputs": [],
   "source": [
    "kf = KFold(n_splits=5, shuffle=True, random_state=42)\n",
    "#kf1.get_n_splits(X1)\n",
    "\n",
    "#kf = KFold(n_splits=5, shuffle=True, random_state=42)\n",
    "#kf2.get_n_splits(X2)"
   ]
  },
  {
   "cell_type": "code",
   "execution_count": 159,
   "id": "1ea79b52",
   "metadata": {},
   "outputs": [],
   "source": [
    "lasso = linear_model.Lasso()\n",
    "\n",
    "lasso_pipe1 = Pipeline(steps=[(\"Preprocess\", preprocessor1), (\"Lasso\", lasso)])\n",
    "\n",
    "lasso_pipe2 = Pipeline(steps=[(\"Preprocess\", preprocessor2), (\"Lasso\", lasso)])\n",
    "\n",
    "param_grid = {\n",
    "    \"regressor__Lasso__alpha\": [0, .1, .01, .001, .0001, .00001, .000001]\n",
    "}\n",
    "\n",
    "lasso_regr1 = compose.TransformedTargetRegressor(regressor= lasso_pipe1,\n",
    "                                                func=np.log, inverse_func=np.exp)\n",
    "lasso_regr2 = compose.TransformedTargetRegressor(regressor= lasso_pipe2,\n",
    "                                                func=np.log, inverse_func=np.exp)\n",
    "\n",
    "search1 = GridSearchCV(lasso_regr1, param_grid, n_jobs=2, cv = kf)\n",
    "\n",
    "search2 = GridSearchCV(lasso_regr2, param_grid, n_jobs=2, cv = kf)"
   ]
  },
  {
   "cell_type": "code",
   "execution_count": 121,
   "id": "bfb5cd26",
   "metadata": {},
   "outputs": [
    {
     "name": "stdout",
     "output_type": "stream",
     "text": [
      "0.8823332580697677\n",
      "{'regressor__Lasso__alpha': 0.001}\n"
     ]
    }
   ],
   "source": [
    "search1.fit(X1, y1)\n",
    "print(search1.best_score_)\n",
    "print(search1.best_params_)"
   ]
  },
  {
   "cell_type": "code",
   "execution_count": 160,
   "id": "e5bac0b6",
   "metadata": {},
   "outputs": [
    {
     "name": "stdout",
     "output_type": "stream",
     "text": [
      "0.8822304360866807\n",
      "{'regressor__Lasso__alpha': 0.001}\n"
     ]
    }
   ],
   "source": [
    "search2.fit(X2, y2)\n",
    "print(search2.best_score_)\n",
    "print(search2.best_params_)"
   ]
  }
 ],
 "metadata": {
  "kernelspec": {
   "display_name": "Python 3 (ipykernel)",
   "language": "python",
   "name": "python3"
  },
  "language_info": {
   "codemirror_mode": {
    "name": "ipython",
    "version": 3
   },
   "file_extension": ".py",
   "mimetype": "text/x-python",
   "name": "python",
   "nbconvert_exporter": "python",
   "pygments_lexer": "ipython3",
   "version": "3.11.5"
  }
 },
 "nbformat": 4,
 "nbformat_minor": 5
}
