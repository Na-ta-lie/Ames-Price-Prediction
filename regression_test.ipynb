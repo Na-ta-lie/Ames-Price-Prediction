{
 "cells": [
  {
   "cell_type": "code",
   "execution_count": 2,
   "id": "5714dc9f",
   "metadata": {},
   "outputs": [],
   "source": [
    "import numpy as np\n",
    "import pandas as pd\n",
    "import matplotlib.pyplot as plt\n",
    "import seaborn as sns\n",
    "from sklearn.preprocessing import PowerTransformer, QuantileTransformer\n",
    "from sklearn.compose import make_column_selector as selector\n",
    "from sklearn.preprocessing import OneHotEncoder, StandardScaler\n",
    "from sklearn.compose import ColumnTransformer\n",
    "from sklearn.model_selection import train_test_split\n",
    "from sklearn import linear_model \n",
    "from sklearn import compose, pipeline\n",
    "from sklearn.model_selection import KFold\n",
    "from sklearn.model_selection import cross_validate\n",
    "from sklearn.pipeline import Pipeline\n",
    "import warnings\n",
    "from sklearn.model_selection import GridSearchCV\n",
    "warnings.filterwarnings('ignore')"
   ]
  },
  {
   "cell_type": "code",
   "execution_count": 191,
   "id": "b701300c",
   "metadata": {},
   "outputs": [],
   "source": [
    "df1 = pd.read_csv('housing_pp5.csv', index_col=0)\n",
    "y1 = df1.SalePrice\n",
    "X1 = df1.drop(['SalePrice', 'PID'], axis =1).copy()\n"
   ]
  },
  {
   "cell_type": "code",
   "execution_count": 192,
   "id": "383691a7",
   "metadata": {},
   "outputs": [],
   "source": [
    "df2 = pd.read_csv('housing_pp4.csv', index_col=0)\n",
    "y2 = df2.SalePrice\n",
    "X2 = df2.drop(['SalePrice', 'PID'], axis =1).copy()"
   ]
  },
  {
   "cell_type": "code",
   "execution_count": 210,
   "id": "aec6c218",
   "metadata": {},
   "outputs": [],
   "source": [
    "numerical_columns_selector = selector(dtype_exclude=object)\n",
    "categorical_columns_selector = selector(dtype_include=object)\n",
    "\n",
    "numerical_columns1 = numerical_columns_selector(X1)\n",
    "categorical_columns1 = categorical_columns_selector(X1)\n",
    "numerical_columns2 = numerical_columns_selector(X2)\n",
    "categorical_columns2 = categorical_columns_selector(X2)\n",
    "\n",
    "#categorical_preprocessor = OneHotEncoder(handle_unknown=\"ignore\", drop= 'first')\n",
    "categorical_preprocessor = OneHotEncoder(handle_unknown=\"ignore\")\n",
    "numerical_preprocessor = StandardScaler()\n",
    "\n",
    "preprocessor1 = ColumnTransformer(\n",
    "    [\n",
    "        (\"standard_scaler\", numerical_preprocessor, numerical_columns1),\n",
    "        (\"one-hot-encoder\", categorical_preprocessor, categorical_columns1),\n",
    "    ]\n",
    ")\n",
    "\n",
    "preprocessor2 = ColumnTransformer(\n",
    "    [\n",
    "        (\"standard_scaler\", numerical_preprocessor, numerical_columns2),\n",
    "        (\"one-hot-encoder\", categorical_preprocessor, categorical_columns2),\n",
    "    ]\n",
    ")\n",
    "\n",
    "kf = KFold(n_splits=5, shuffle=True, random_state=42)\n",
    "\n",
    "lasso = linear_model.Lasso()\n",
    "\n",
    "lasso_pipe1 = Pipeline(steps=[(\"Preprocess\", preprocessor1), (\"Lasso\", lasso)])\n",
    "\n",
    "lasso_pipe2 = Pipeline(steps=[(\"Preprocess\", preprocessor2), (\"Lasso\", lasso)])\n",
    "\n",
    "param_grid = {\n",
    "    \"regressor__Lasso__alpha\": [0.002, 0.00205263, 0.00210526, 0.00215789, 0.00221053,\n",
    "       0.00226316, 0.00231579, 0.00236842, 0.00242105, 0.00247368,\n",
    "       0.00252632, 0.00257895, 0.00263158, 0.00268421, 0.00273684,\n",
    "       0.00278947, 0.00284211, 0.00289474, 0.00294737, 0.003    ]\n",
    "}\n",
    "\n",
    "lasso_regr1 = compose.TransformedTargetRegressor(regressor= lasso_pipe1,\n",
    "                                                func=np.log, inverse_func=np.exp)\n",
    "lasso_regr2 = compose.TransformedTargetRegressor(regressor= lasso_pipe2,\n",
    "                                                func=np.log, inverse_func=np.exp)\n",
    "\n",
    "search1 = GridSearchCV(lasso_regr1, param_grid, n_jobs=2, cv = kf)\n",
    "\n",
    "search2 = GridSearchCV(lasso_regr2, param_grid, n_jobs=2, cv = kf)"
   ]
  },
  {
   "cell_type": "code",
   "execution_count": 221,
   "id": "6d42a24d",
   "metadata": {},
   "outputs": [],
   "source": [
    "ridge = linear_model.Ridge()\n",
    "\n",
    "ridge_pipe1 = Pipeline(steps=[(\"Preprocess\", preprocessor1), (\"Ridge\", ridge)])\n",
    "\n",
    "ridge_pipe2 = Pipeline(steps=[(\"Preprocess\", preprocessor2), (\"Ridge\", ridge)])\n",
    "\n",
    "param_gridR = {\n",
    "    \"regressor__Ridge__alpha\": [193.        , 193.57894737, 194.15789474, 194.73684211,\n",
    "       195.31578947, 195.89473684, 196.47368421, 197.05263158,\n",
    "       197.63157895, 198.21052632, 198.78947368, 199.36842105,\n",
    "       199.94736842, 200.52631579, 201.10526316, 201.68421053,\n",
    "       202.26315789, 202.84210526, 203.42105263, 204.         ] \n",
    "}\n",
    "\n",
    "ridge_regr1 = compose.TransformedTargetRegressor(regressor= ridge_pipe1,\n",
    "                                                func=np.log, inverse_func=np.exp)\n",
    "ridge_regr2 = compose.TransformedTargetRegressor(regressor= ridge_pipe2,\n",
    "                                                func=np.log, inverse_func=np.exp)\n",
    "\n",
    "Rsearch1 = GridSearchCV(ridge_regr1, param_gridR, n_jobs=2, cv = kf)\n",
    "\n",
    "Rsearch2 = GridSearchCV(ridge_regr2, param_gridR, n_jobs=2, cv = kf)"
   ]
  },
  {
   "cell_type": "code",
   "execution_count": 195,
   "id": "a4a8135c",
   "metadata": {},
   "outputs": [
    {
     "name": "stdout",
     "output_type": "stream",
     "text": [
      "0.8846743626007652\n",
      "{'regressor__Lasso__alpha': 0.001}\n"
     ]
    }
   ],
   "source": [
    "search1.fit(X1, y1)\n",
    "print(search1.best_score_)\n",
    "print(search1.best_params_)"
   ]
  },
  {
   "cell_type": "code",
   "execution_count": 211,
   "id": "dc20eb00",
   "metadata": {},
   "outputs": [
    {
     "name": "stdout",
     "output_type": "stream",
     "text": [
      "0.9344881872898778\n",
      "{'regressor__Lasso__alpha': 0.00273684}\n"
     ]
    }
   ],
   "source": [
    "search2.fit(X2, y2)\n",
    "print(search2.best_score_)\n",
    "print(search2.best_params_)"
   ]
  },
  {
   "cell_type": "code",
   "execution_count": null,
   "id": "d67eda9e",
   "metadata": {},
   "outputs": [],
   "source": [
    "0.8825164812004702\n",
    "0.9308283561200676"
   ]
  },
  {
   "cell_type": "code",
   "execution_count": 197,
   "id": "56a08a8b",
   "metadata": {},
   "outputs": [
    {
     "name": "stdout",
     "output_type": "stream",
     "text": [
      "0.8922082306532779\n",
      "{'regressor__Ridge__alpha': 100}\n"
     ]
    }
   ],
   "source": [
    "Rsearch1.fit(X1, y1)\n",
    "print(Rsearch1.best_score_)\n",
    "print(Rsearch1.best_params_)"
   ]
  },
  {
   "cell_type": "code",
   "execution_count": 222,
   "id": "7d86d25c",
   "metadata": {},
   "outputs": [
    {
     "name": "stdout",
     "output_type": "stream",
     "text": [
      "0.9350065918339736\n",
      "{'regressor__Ridge__alpha': 196.47368421}\n"
     ]
    }
   ],
   "source": [
    "Rsearch2.fit(X2, y2)\n",
    "print(Rsearch2.best_score_)\n",
    "print(Rsearch2.best_params_)"
   ]
  }
 ],
 "metadata": {
  "kernelspec": {
   "display_name": "Python 3 (ipykernel)",
   "language": "python",
   "name": "python3"
  },
  "language_info": {
   "codemirror_mode": {
    "name": "ipython",
    "version": 3
   },
   "file_extension": ".py",
   "mimetype": "text/x-python",
   "name": "python",
   "nbconvert_exporter": "python",
   "pygments_lexer": "ipython3",
   "version": "3.11.5"
  }
 },
 "nbformat": 4,
 "nbformat_minor": 5
}
