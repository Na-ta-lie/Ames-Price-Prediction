{
 "cells": [
  {
   "cell_type": "code",
   "execution_count": 2,
   "id": "8efa0998",
   "metadata": {},
   "outputs": [],
   "source": [
    "import numpy as np\n",
    "import pandas as pd"
   ]
  },
  {
   "cell_type": "code",
   "execution_count": 3,
   "id": "e4606a68",
   "metadata": {},
   "outputs": [
    {
     "data": {
      "text/plain": [
       "(2579, 81)"
      ]
     },
     "execution_count": 3,
     "metadata": {},
     "output_type": "execute_result"
    }
   ],
   "source": [
    "housing_pp = pd.read_csv('housing_pp.csv', index_col=0)\n",
    "housing_pp.shape"
   ]
  },
  {
   "cell_type": "code",
   "execution_count": 4,
   "id": "a07682da",
   "metadata": {},
   "outputs": [],
   "source": [
    "y = housing_pp.SalePrice\n",
    "X = housing_pp.drop(['SalePrice', 'PID'], axis =1).copy()"
   ]
  },
  {
   "cell_type": "code",
   "execution_count": null,
   "id": "cfaaff3a",
   "metadata": {},
   "outputs": [],
   "source": []
  }
 ],
 "metadata": {
  "kernelspec": {
   "display_name": "Python 3 (ipykernel)",
   "language": "python",
   "name": "python3"
  },
  "language_info": {
   "codemirror_mode": {
    "name": "ipython",
    "version": 3
   },
   "file_extension": ".py",
   "mimetype": "text/x-python",
   "name": "python",
   "nbconvert_exporter": "python",
   "pygments_lexer": "ipython3",
   "version": "3.11.5"
  }
 },
 "nbformat": 4,
 "nbformat_minor": 5
}
