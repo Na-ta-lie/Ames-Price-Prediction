{
 "cells": [
  {
   "cell_type": "code",
   "execution_count": 1,
   "id": "4fb15aa3",
   "metadata": {},
   "outputs": [],
   "source": [
    "import numpy as np\n",
    "import pandas as pd"
   ]
  },
  {
   "cell_type": "code",
   "execution_count": 2,
   "id": "391747ea",
   "metadata": {},
   "outputs": [
    {
     "data": {
      "text/plain": [
       "(2576, 81)"
      ]
     },
     "execution_count": 2,
     "metadata": {},
     "output_type": "execute_result"
    }
   ],
   "source": [
    "df = pd.read_csv('housing_pp2.csv', index_col=0)\n",
    "df.shape"
   ]
  },
  {
   "cell_type": "code",
   "execution_count": 3,
   "id": "086caafb",
   "metadata": {},
   "outputs": [],
   "source": [
    "y = df.SalePrice\n",
    "X = df.drop(['SalePrice', 'PID'], axis =1).copy()"
   ]
  },
  {
   "cell_type": "code",
   "execution_count": 4,
   "id": "151ae0b2",
   "metadata": {},
   "outputs": [],
   "source": [
    "import matplotlib.pyplot as plt\n",
    "import seaborn as sns\n",
    "from sklearn.preprocessing import PowerTransformer, QuantileTransformer"
   ]
  },
  {
   "cell_type": "code",
   "execution_count": 5,
   "id": "69bfc587",
   "metadata": {},
   "outputs": [],
   "source": [
    "from sklearn.compose import make_column_selector as selector\n",
    "\n",
    "numerical_columns_selector = selector(dtype_exclude=object)\n",
    "categorical_columns_selector = selector(dtype_include=object)"
   ]
  },
  {
   "cell_type": "code",
   "execution_count": 8,
   "id": "7ad8b688",
   "metadata": {},
   "outputs": [],
   "source": [
    "numerical_columns = numerical_columns_selector(X)\n",
    "categorical_columns = categorical_columns_selector(X)"
   ]
  },
  {
   "cell_type": "code",
   "execution_count": 6,
   "id": "81ac907d",
   "metadata": {},
   "outputs": [],
   "source": [
    "from sklearn.preprocessing import OneHotEncoder, StandardScaler\n",
    "\n",
    "categorical_preprocessor = OneHotEncoder(handle_unknown=\"ignore\", drop= 'first')\n",
    "numerical_preprocessor = StandardScaler()"
   ]
  },
  {
   "cell_type": "code",
   "execution_count": 9,
   "id": "2df8f403",
   "metadata": {},
   "outputs": [],
   "source": [
    "from sklearn.compose import ColumnTransformer\n",
    "preprocessor = ColumnTransformer(\n",
    "    [\n",
    "        (\"standard_scaler\", numerical_preprocessor, numerical_columns),\n",
    "        (\"one-hot-encoder\", categorical_preprocessor, categorical_columns),\n",
    "    ]\n",
    ")"
   ]
  },
  {
   "cell_type": "code",
   "execution_count": 14,
   "id": "f17b0474",
   "metadata": {},
   "outputs": [],
   "source": [
    "from sklearn.model_selection import train_test_split\n",
    "\n",
    "X_train, X_test, y_train, y_test = train_test_split(\n",
    "    X, y, random_state=42\n",
    ")"
   ]
  },
  {
   "cell_type": "code",
   "execution_count": 15,
   "id": "322973e1",
   "metadata": {},
   "outputs": [],
   "source": [
    "from sklearn import linear_model \n",
    "from sklearn import compose, pipeline\n",
    "from sklearn.model_selection import KFold\n",
    "from sklearn.model_selection import cross_validate\n",
    "import warnings\n",
    "warnings.filterwarnings('ignore')"
   ]
  },
  {
   "cell_type": "code",
   "execution_count": 28,
   "id": "037507b1",
   "metadata": {},
   "outputs": [],
   "source": [
    "lasso = linear_model.Lasso(alpha = 0.0001)\n",
    "lasso_pipe = pipeline.make_pipeline(preprocessor, lasso)\n",
    "lasso_regr = compose.TransformedTargetRegressor(regressor= lasso_pipe,\n",
    "                                                func=np.log, inverse_func=np.exp)"
   ]
  },
  {
   "cell_type": "code",
   "execution_count": 29,
   "id": "df84fba7",
   "metadata": {},
   "outputs": [
    {
     "name": "stdout",
     "output_type": "stream",
     "text": [
      "train 0.9569066006609651\n",
      "test 0.9326990516350205\n"
     ]
    }
   ],
   "source": [
    "lasso_regr.fit(X_train, y_train)\n",
    "print('train', lasso_regr.score(X_train, y_train))\n",
    "print('test', lasso_regr.score(X_test, y_test))"
   ]
  },
  {
   "cell_type": "code",
   "execution_count": 38,
   "id": "42dd0606",
   "metadata": {},
   "outputs": [
    {
     "data": {
      "text/plain": [
       "{'fit_time': array([0.34397411, 0.38401699, 0.3893714 , 0.34048295, 0.3630774 ,\n",
       "        0.43002629, 0.34903765, 0.41570282, 0.38502049, 0.33544588]),\n",
       " 'score_time': array([0.01615787, 0.01669836, 0.02376103, 0.01820016, 0.01594281,\n",
       "        0.018435  , 0.0138936 , 0.01502442, 0.0179708 , 0.01643848]),\n",
       " 'test_score': array([0.94458271, 0.83840902, 0.93355105, 0.95472027, 0.94593148,\n",
       "        0.94572645, 0.95201745, 0.93532131, 0.94392486, 0.94101715]),\n",
       " 'train_score': array([0.95350853, 0.95443831, 0.95354274, 0.95311454, 0.95342821,\n",
       "        0.95445115, 0.95255451, 0.95474214, 0.95425611, 0.95415984])}"
      ]
     },
     "execution_count": 38,
     "metadata": {},
     "output_type": "execute_result"
    }
   ],
   "source": [
    "scores = cross_validate(lasso_regr, X, y, cv=10,\n",
    "                        scoring=('r2'),\n",
    "                        return_train_score=True)\n",
    "\n",
    "scores"
   ]
  },
  {
   "cell_type": "code",
   "execution_count": 34,
   "id": "720d10fa",
   "metadata": {},
   "outputs": [
    {
     "data": {
      "text/plain": [
       "0.9335201736995831"
      ]
     },
     "execution_count": 34,
     "metadata": {},
     "output_type": "execute_result"
    }
   ],
   "source": [
    "scores['test_score'].mean()"
   ]
  },
  {
   "cell_type": "code",
   "execution_count": 41,
   "id": "c493924d",
   "metadata": {},
   "outputs": [
    {
     "data": {
      "text/plain": [
       "KFold(n_splits=10, random_state=100, shuffle=True)"
      ]
     },
     "execution_count": 41,
     "metadata": {},
     "output_type": "execute_result"
    }
   ],
   "source": [
    "kf = KFold(n_splits=10, shuffle=True, random_state=100)\n",
    "kf.get_n_splits(X)\n",
    "kf"
   ]
  },
  {
   "cell_type": "code",
   "execution_count": 42,
   "id": "c52ed6cf",
   "metadata": {},
   "outputs": [
    {
     "data": {
      "text/plain": [
       "{'fit_time': array([0.35026765, 0.38734746, 0.37555766, 0.38536716, 0.3623271 ,\n",
       "        0.3246038 , 0.31889272, 0.33012795, 0.36216426, 0.39217353]),\n",
       " 'score_time': array([0.01668835, 0.01767159, 0.02613163, 0.01771808, 0.0167942 ,\n",
       "        0.01921391, 0.01428485, 0.01979065, 0.01670456, 0.01483965]),\n",
       " 'test_score': array([0.94152665, 0.93700377, 0.82091437, 0.93994981, 0.95642198,\n",
       "        0.95559753, 0.93788955, 0.92857566, 0.94342085, 0.96104467]),\n",
       " 'train_score': array([0.9537167 , 0.95461802, 0.95369298, 0.95435425, 0.95281349,\n",
       "        0.95272707, 0.95521988, 0.95485861, 0.95357391, 0.95231499])}"
      ]
     },
     "execution_count": 42,
     "metadata": {},
     "output_type": "execute_result"
    }
   ],
   "source": [
    "scores2 = cross_validate(lasso_regr, X, y, cv=kf,\n",
    "                        scoring=('r2'),\n",
    "                        return_train_score=True)\n",
    "\n",
    "scores2"
   ]
  },
  {
   "cell_type": "code",
   "execution_count": 43,
   "id": "fde2695f",
   "metadata": {},
   "outputs": [
    {
     "data": {
      "text/plain": [
       "0.9322344855549124"
      ]
     },
     "execution_count": 43,
     "metadata": {},
     "output_type": "execute_result"
    }
   ],
   "source": [
    "scores2['test_score'].mean()"
   ]
  },
  {
   "cell_type": "markdown",
   "id": "1d09c039",
   "metadata": {},
   "source": [
    "# Now try the grid search"
   ]
  },
  {
   "cell_type": "code",
   "execution_count": 45,
   "id": "59244e92",
   "metadata": {},
   "outputs": [],
   "source": [
    "from sklearn.pipeline import Pipeline"
   ]
  },
  {
   "cell_type": "code",
   "execution_count": 46,
   "id": "a4a4b302",
   "metadata": {},
   "outputs": [],
   "source": [
    "lasso = linear_model.Lasso()\n",
    "lasso_pipe = Pipeline(steps=[(\"Preprocess\", preprocessor), (\"Lasso\", lasso)])"
   ]
  },
  {
   "cell_type": "code",
   "execution_count": 65,
   "id": "bdf510c4",
   "metadata": {},
   "outputs": [
    {
     "data": {
      "text/plain": [
       "array([0.00023   , 0.00025444, 0.00027889, 0.00030333, 0.00032778,\n",
       "       0.00035222, 0.00037667, 0.00040111, 0.00042556, 0.00045   ])"
      ]
     },
     "execution_count": 65,
     "metadata": {},
     "output_type": "execute_result"
    }
   ],
   "source": [
    "alphas = np.linspace(2.3e-04, 4.5e-04, 10)\n",
    "alphas"
   ]
  },
  {
   "cell_type": "code",
   "execution_count": 66,
   "id": "a22948c2",
   "metadata": {},
   "outputs": [],
   "source": [
    "param_grid = {\n",
    "    \"regressor__Lasso__alpha\": [0.00023, 0.00025444, 0.00027889, 0.00030333, 0.00032778,\n",
    "       0.00035222, 0.00037667, 0.00040111, 0.00042556, 0.0004]\n",
    "}"
   ]
  },
  {
   "cell_type": "code",
   "execution_count": 62,
   "id": "04e77ec9",
   "metadata": {},
   "outputs": [
    {
     "data": {
      "text/html": [
       "<style>#sk-container-id-5 {color: black;}#sk-container-id-5 pre{padding: 0;}#sk-container-id-5 div.sk-toggleable {background-color: white;}#sk-container-id-5 label.sk-toggleable__label {cursor: pointer;display: block;width: 100%;margin-bottom: 0;padding: 0.3em;box-sizing: border-box;text-align: center;}#sk-container-id-5 label.sk-toggleable__label-arrow:before {content: \"▸\";float: left;margin-right: 0.25em;color: #696969;}#sk-container-id-5 label.sk-toggleable__label-arrow:hover:before {color: black;}#sk-container-id-5 div.sk-estimator:hover label.sk-toggleable__label-arrow:before {color: black;}#sk-container-id-5 div.sk-toggleable__content {max-height: 0;max-width: 0;overflow: hidden;text-align: left;background-color: #f0f8ff;}#sk-container-id-5 div.sk-toggleable__content pre {margin: 0.2em;color: black;border-radius: 0.25em;background-color: #f0f8ff;}#sk-container-id-5 input.sk-toggleable__control:checked~div.sk-toggleable__content {max-height: 200px;max-width: 100%;overflow: auto;}#sk-container-id-5 input.sk-toggleable__control:checked~label.sk-toggleable__label-arrow:before {content: \"▾\";}#sk-container-id-5 div.sk-estimator input.sk-toggleable__control:checked~label.sk-toggleable__label {background-color: #d4ebff;}#sk-container-id-5 div.sk-label input.sk-toggleable__control:checked~label.sk-toggleable__label {background-color: #d4ebff;}#sk-container-id-5 input.sk-hidden--visually {border: 0;clip: rect(1px 1px 1px 1px);clip: rect(1px, 1px, 1px, 1px);height: 1px;margin: -1px;overflow: hidden;padding: 0;position: absolute;width: 1px;}#sk-container-id-5 div.sk-estimator {font-family: monospace;background-color: #f0f8ff;border: 1px dotted black;border-radius: 0.25em;box-sizing: border-box;margin-bottom: 0.5em;}#sk-container-id-5 div.sk-estimator:hover {background-color: #d4ebff;}#sk-container-id-5 div.sk-parallel-item::after {content: \"\";width: 100%;border-bottom: 1px solid gray;flex-grow: 1;}#sk-container-id-5 div.sk-label:hover label.sk-toggleable__label {background-color: #d4ebff;}#sk-container-id-5 div.sk-serial::before {content: \"\";position: absolute;border-left: 1px solid gray;box-sizing: border-box;top: 0;bottom: 0;left: 50%;z-index: 0;}#sk-container-id-5 div.sk-serial {display: flex;flex-direction: column;align-items: center;background-color: white;padding-right: 0.2em;padding-left: 0.2em;position: relative;}#sk-container-id-5 div.sk-item {position: relative;z-index: 1;}#sk-container-id-5 div.sk-parallel {display: flex;align-items: stretch;justify-content: center;background-color: white;position: relative;}#sk-container-id-5 div.sk-item::before, #sk-container-id-5 div.sk-parallel-item::before {content: \"\";position: absolute;border-left: 1px solid gray;box-sizing: border-box;top: 0;bottom: 0;left: 50%;z-index: -1;}#sk-container-id-5 div.sk-parallel-item {display: flex;flex-direction: column;z-index: 1;position: relative;background-color: white;}#sk-container-id-5 div.sk-parallel-item:first-child::after {align-self: flex-end;width: 50%;}#sk-container-id-5 div.sk-parallel-item:last-child::after {align-self: flex-start;width: 50%;}#sk-container-id-5 div.sk-parallel-item:only-child::after {width: 0;}#sk-container-id-5 div.sk-dashed-wrapped {border: 1px dashed gray;margin: 0 0.4em 0.5em 0.4em;box-sizing: border-box;padding-bottom: 0.4em;background-color: white;}#sk-container-id-5 div.sk-label label {font-family: monospace;font-weight: bold;display: inline-block;line-height: 1.2em;}#sk-container-id-5 div.sk-label-container {text-align: center;}#sk-container-id-5 div.sk-container {/* jupyter's `normalize.less` sets `[hidden] { display: none; }` but bootstrap.min.css set `[hidden] { display: none !important; }` so we also need the `!important` here to be able to override the default hidden behavior on the sphinx rendered scikit-learn.org. See: https://github.com/scikit-learn/scikit-learn/issues/21755 */display: inline-block !important;position: relative;}#sk-container-id-5 div.sk-text-repr-fallback {display: none;}</style><div id=\"sk-container-id-5\" class=\"sk-top-container\"><div class=\"sk-text-repr-fallback\"><pre>TransformedTargetRegressor(func=&lt;ufunc &#x27;log&#x27;&gt;, inverse_func=&lt;ufunc &#x27;exp&#x27;&gt;,\n",
       "                           regressor=Pipeline(steps=[(&#x27;Preprocess&#x27;,\n",
       "                                                      ColumnTransformer(transformers=[(&#x27;standard_scaler&#x27;,\n",
       "                                                                                       StandardScaler(),\n",
       "                                                                                       [&#x27;GrLivArea&#x27;,\n",
       "                                                                                        &#x27;MSSubClass&#x27;,\n",
       "                                                                                        &#x27;LotFrontage&#x27;,\n",
       "                                                                                        &#x27;LotArea&#x27;,\n",
       "                                                                                        &#x27;Alley&#x27;,\n",
       "                                                                                        &#x27;LotShape&#x27;,\n",
       "                                                                                        &#x27;LandContour&#x27;,\n",
       "                                                                                        &#x27;Utilities&#x27;,\n",
       "                                                                                        &#x27;LandSlope&#x27;,\n",
       "                                                                                        &#x27;OverallQual&#x27;,\n",
       "                                                                                        &#x27;OverallCond&#x27;,\n",
       "                                                                                        &#x27;YearBuilt&#x27;,\n",
       "                                                                                        &#x27;YearRemodAdd&#x27;,\n",
       "                                                                                        &#x27;MasVnrAr...\n",
       "                                                                                       OneHotEncoder(drop=&#x27;first&#x27;,\n",
       "                                                                                                     handle_unknown=&#x27;ignore&#x27;),\n",
       "                                                                                       [&#x27;MSZoning&#x27;,\n",
       "                                                                                        &#x27;Street&#x27;,\n",
       "                                                                                        &#x27;LotConfig&#x27;,\n",
       "                                                                                        &#x27;Neighborhood&#x27;,\n",
       "                                                                                        &#x27;Condition1&#x27;,\n",
       "                                                                                        &#x27;Condition2&#x27;,\n",
       "                                                                                        &#x27;BldgType&#x27;,\n",
       "                                                                                        &#x27;HouseStyle&#x27;,\n",
       "                                                                                        &#x27;RoofStyle&#x27;,\n",
       "                                                                                        &#x27;RoofMatl&#x27;,\n",
       "                                                                                        &#x27;Exterior1st&#x27;,\n",
       "                                                                                        &#x27;Exterior2nd&#x27;,\n",
       "                                                                                        &#x27;MasVnrType&#x27;,\n",
       "                                                                                        &#x27;Foundation&#x27;,\n",
       "                                                                                        &#x27;Heating&#x27;,\n",
       "                                                                                        &#x27;CentralAir&#x27;,\n",
       "                                                                                        &#x27;Electrical&#x27;,\n",
       "                                                                                        &#x27;GarageType&#x27;,\n",
       "                                                                                        &#x27;PoolArea&#x27;,\n",
       "                                                                                        &#x27;Fence&#x27;,\n",
       "                                                                                        &#x27;MiscFeature&#x27;,\n",
       "                                                                                        &#x27;SaleType&#x27;,\n",
       "                                                                                        &#x27;SaleCondition&#x27;])])),\n",
       "                                                     (&#x27;Lasso&#x27;, Lasso())]))</pre><b>In a Jupyter environment, please rerun this cell to show the HTML representation or trust the notebook. <br />On GitHub, the HTML representation is unable to render, please try loading this page with nbviewer.org.</b></div><div class=\"sk-container\" hidden><div class=\"sk-item sk-dashed-wrapped\"><div class=\"sk-label-container\"><div class=\"sk-label sk-toggleable\"><input class=\"sk-toggleable__control sk-hidden--visually\" id=\"sk-estimator-id-35\" type=\"checkbox\" ><label for=\"sk-estimator-id-35\" class=\"sk-toggleable__label sk-toggleable__label-arrow\">TransformedTargetRegressor</label><div class=\"sk-toggleable__content\"><pre>TransformedTargetRegressor(func=&lt;ufunc &#x27;log&#x27;&gt;, inverse_func=&lt;ufunc &#x27;exp&#x27;&gt;,\n",
       "                           regressor=Pipeline(steps=[(&#x27;Preprocess&#x27;,\n",
       "                                                      ColumnTransformer(transformers=[(&#x27;standard_scaler&#x27;,\n",
       "                                                                                       StandardScaler(),\n",
       "                                                                                       [&#x27;GrLivArea&#x27;,\n",
       "                                                                                        &#x27;MSSubClass&#x27;,\n",
       "                                                                                        &#x27;LotFrontage&#x27;,\n",
       "                                                                                        &#x27;LotArea&#x27;,\n",
       "                                                                                        &#x27;Alley&#x27;,\n",
       "                                                                                        &#x27;LotShape&#x27;,\n",
       "                                                                                        &#x27;LandContour&#x27;,\n",
       "                                                                                        &#x27;Utilities&#x27;,\n",
       "                                                                                        &#x27;LandSlope&#x27;,\n",
       "                                                                                        &#x27;OverallQual&#x27;,\n",
       "                                                                                        &#x27;OverallCond&#x27;,\n",
       "                                                                                        &#x27;YearBuilt&#x27;,\n",
       "                                                                                        &#x27;YearRemodAdd&#x27;,\n",
       "                                                                                        &#x27;MasVnrAr...\n",
       "                                                                                       OneHotEncoder(drop=&#x27;first&#x27;,\n",
       "                                                                                                     handle_unknown=&#x27;ignore&#x27;),\n",
       "                                                                                       [&#x27;MSZoning&#x27;,\n",
       "                                                                                        &#x27;Street&#x27;,\n",
       "                                                                                        &#x27;LotConfig&#x27;,\n",
       "                                                                                        &#x27;Neighborhood&#x27;,\n",
       "                                                                                        &#x27;Condition1&#x27;,\n",
       "                                                                                        &#x27;Condition2&#x27;,\n",
       "                                                                                        &#x27;BldgType&#x27;,\n",
       "                                                                                        &#x27;HouseStyle&#x27;,\n",
       "                                                                                        &#x27;RoofStyle&#x27;,\n",
       "                                                                                        &#x27;RoofMatl&#x27;,\n",
       "                                                                                        &#x27;Exterior1st&#x27;,\n",
       "                                                                                        &#x27;Exterior2nd&#x27;,\n",
       "                                                                                        &#x27;MasVnrType&#x27;,\n",
       "                                                                                        &#x27;Foundation&#x27;,\n",
       "                                                                                        &#x27;Heating&#x27;,\n",
       "                                                                                        &#x27;CentralAir&#x27;,\n",
       "                                                                                        &#x27;Electrical&#x27;,\n",
       "                                                                                        &#x27;GarageType&#x27;,\n",
       "                                                                                        &#x27;PoolArea&#x27;,\n",
       "                                                                                        &#x27;Fence&#x27;,\n",
       "                                                                                        &#x27;MiscFeature&#x27;,\n",
       "                                                                                        &#x27;SaleType&#x27;,\n",
       "                                                                                        &#x27;SaleCondition&#x27;])])),\n",
       "                                                     (&#x27;Lasso&#x27;, Lasso())]))</pre></div></div></div><div class=\"sk-parallel\"><div class=\"sk-parallel-item\"><div class=\"sk-item\"><div class=\"sk-label-container\"><div class=\"sk-label sk-toggleable\"><input class=\"sk-toggleable__control sk-hidden--visually\" id=\"sk-estimator-id-36\" type=\"checkbox\" ><label for=\"sk-estimator-id-36\" class=\"sk-toggleable__label sk-toggleable__label-arrow\">regressor: Pipeline</label><div class=\"sk-toggleable__content\"><pre>Pipeline(steps=[(&#x27;Preprocess&#x27;,\n",
       "                 ColumnTransformer(transformers=[(&#x27;standard_scaler&#x27;,\n",
       "                                                  StandardScaler(),\n",
       "                                                  [&#x27;GrLivArea&#x27;, &#x27;MSSubClass&#x27;,\n",
       "                                                   &#x27;LotFrontage&#x27;, &#x27;LotArea&#x27;,\n",
       "                                                   &#x27;Alley&#x27;, &#x27;LotShape&#x27;,\n",
       "                                                   &#x27;LandContour&#x27;, &#x27;Utilities&#x27;,\n",
       "                                                   &#x27;LandSlope&#x27;, &#x27;OverallQual&#x27;,\n",
       "                                                   &#x27;OverallCond&#x27;, &#x27;YearBuilt&#x27;,\n",
       "                                                   &#x27;YearRemodAdd&#x27;, &#x27;MasVnrArea&#x27;,\n",
       "                                                   &#x27;ExterQual&#x27;, &#x27;ExterCond&#x27;,\n",
       "                                                   &#x27;BsmtQual&#x27;, &#x27;BsmtCond&#x27;,\n",
       "                                                   &#x27;BsmtExposure&#x27;,\n",
       "                                                   &#x27;BsmtFinType1&#x27;, &#x27;...\n",
       "                                                  OneHotEncoder(drop=&#x27;first&#x27;,\n",
       "                                                                handle_unknown=&#x27;ignore&#x27;),\n",
       "                                                  [&#x27;MSZoning&#x27;, &#x27;Street&#x27;,\n",
       "                                                   &#x27;LotConfig&#x27;, &#x27;Neighborhood&#x27;,\n",
       "                                                   &#x27;Condition1&#x27;, &#x27;Condition2&#x27;,\n",
       "                                                   &#x27;BldgType&#x27;, &#x27;HouseStyle&#x27;,\n",
       "                                                   &#x27;RoofStyle&#x27;, &#x27;RoofMatl&#x27;,\n",
       "                                                   &#x27;Exterior1st&#x27;, &#x27;Exterior2nd&#x27;,\n",
       "                                                   &#x27;MasVnrType&#x27;, &#x27;Foundation&#x27;,\n",
       "                                                   &#x27;Heating&#x27;, &#x27;CentralAir&#x27;,\n",
       "                                                   &#x27;Electrical&#x27;, &#x27;GarageType&#x27;,\n",
       "                                                   &#x27;PoolArea&#x27;, &#x27;Fence&#x27;,\n",
       "                                                   &#x27;MiscFeature&#x27;, &#x27;SaleType&#x27;,\n",
       "                                                   &#x27;SaleCondition&#x27;])])),\n",
       "                (&#x27;Lasso&#x27;, Lasso())])</pre></div></div></div><div class=\"sk-serial\"><div class=\"sk-item\"><div class=\"sk-serial\"><div class=\"sk-item sk-dashed-wrapped\"><div class=\"sk-label-container\"><div class=\"sk-label sk-toggleable\"><input class=\"sk-toggleable__control sk-hidden--visually\" id=\"sk-estimator-id-37\" type=\"checkbox\" ><label for=\"sk-estimator-id-37\" class=\"sk-toggleable__label sk-toggleable__label-arrow\">Preprocess: ColumnTransformer</label><div class=\"sk-toggleable__content\"><pre>ColumnTransformer(transformers=[(&#x27;standard_scaler&#x27;, StandardScaler(),\n",
       "                                 [&#x27;GrLivArea&#x27;, &#x27;MSSubClass&#x27;, &#x27;LotFrontage&#x27;,\n",
       "                                  &#x27;LotArea&#x27;, &#x27;Alley&#x27;, &#x27;LotShape&#x27;, &#x27;LandContour&#x27;,\n",
       "                                  &#x27;Utilities&#x27;, &#x27;LandSlope&#x27;, &#x27;OverallQual&#x27;,\n",
       "                                  &#x27;OverallCond&#x27;, &#x27;YearBuilt&#x27;, &#x27;YearRemodAdd&#x27;,\n",
       "                                  &#x27;MasVnrArea&#x27;, &#x27;ExterQual&#x27;, &#x27;ExterCond&#x27;,\n",
       "                                  &#x27;BsmtQual&#x27;, &#x27;BsmtCond&#x27;, &#x27;BsmtExposure&#x27;,\n",
       "                                  &#x27;BsmtFinType1&#x27;, &#x27;BsmtFinSF1&#x27;, &#x27;BsmtFinType2&#x27;,\n",
       "                                  &#x27;Bs...\n",
       "                                (&#x27;one-hot-encoder&#x27;,\n",
       "                                 OneHotEncoder(drop=&#x27;first&#x27;,\n",
       "                                               handle_unknown=&#x27;ignore&#x27;),\n",
       "                                 [&#x27;MSZoning&#x27;, &#x27;Street&#x27;, &#x27;LotConfig&#x27;,\n",
       "                                  &#x27;Neighborhood&#x27;, &#x27;Condition1&#x27;, &#x27;Condition2&#x27;,\n",
       "                                  &#x27;BldgType&#x27;, &#x27;HouseStyle&#x27;, &#x27;RoofStyle&#x27;,\n",
       "                                  &#x27;RoofMatl&#x27;, &#x27;Exterior1st&#x27;, &#x27;Exterior2nd&#x27;,\n",
       "                                  &#x27;MasVnrType&#x27;, &#x27;Foundation&#x27;, &#x27;Heating&#x27;,\n",
       "                                  &#x27;CentralAir&#x27;, &#x27;Electrical&#x27;, &#x27;GarageType&#x27;,\n",
       "                                  &#x27;PoolArea&#x27;, &#x27;Fence&#x27;, &#x27;MiscFeature&#x27;,\n",
       "                                  &#x27;SaleType&#x27;, &#x27;SaleCondition&#x27;])])</pre></div></div></div><div class=\"sk-parallel\"><div class=\"sk-parallel-item\"><div class=\"sk-item\"><div class=\"sk-label-container\"><div class=\"sk-label sk-toggleable\"><input class=\"sk-toggleable__control sk-hidden--visually\" id=\"sk-estimator-id-38\" type=\"checkbox\" ><label for=\"sk-estimator-id-38\" class=\"sk-toggleable__label sk-toggleable__label-arrow\">standard_scaler</label><div class=\"sk-toggleable__content\"><pre>[&#x27;GrLivArea&#x27;, &#x27;MSSubClass&#x27;, &#x27;LotFrontage&#x27;, &#x27;LotArea&#x27;, &#x27;Alley&#x27;, &#x27;LotShape&#x27;, &#x27;LandContour&#x27;, &#x27;Utilities&#x27;, &#x27;LandSlope&#x27;, &#x27;OverallQual&#x27;, &#x27;OverallCond&#x27;, &#x27;YearBuilt&#x27;, &#x27;YearRemodAdd&#x27;, &#x27;MasVnrArea&#x27;, &#x27;ExterQual&#x27;, &#x27;ExterCond&#x27;, &#x27;BsmtQual&#x27;, &#x27;BsmtCond&#x27;, &#x27;BsmtExposure&#x27;, &#x27;BsmtFinType1&#x27;, &#x27;BsmtFinSF1&#x27;, &#x27;BsmtFinType2&#x27;, &#x27;BsmtFinSF2&#x27;, &#x27;BsmtUnfSF&#x27;, &#x27;TotalBsmtSF&#x27;, &#x27;HeatingQC&#x27;, &#x27;1stFlrSF&#x27;, &#x27;2ndFlrSF&#x27;, &#x27;LowQualFinSF&#x27;, &#x27;BsmtFullBath&#x27;, &#x27;BsmtHalfBath&#x27;, &#x27;FullBath&#x27;, &#x27;HalfBath&#x27;, &#x27;BedroomAbvGr&#x27;, &#x27;KitchenAbvGr&#x27;, &#x27;KitchenQual&#x27;, &#x27;TotRmsAbvGrd&#x27;, &#x27;Functional&#x27;, &#x27;Fireplaces&#x27;, &#x27;FireplaceQu&#x27;, &#x27;GarageYrBlt&#x27;, &#x27;GarageFinish&#x27;, &#x27;GarageCars&#x27;, &#x27;GarageArea&#x27;, &#x27;GarageQual&#x27;, &#x27;GarageCond&#x27;, &#x27;PavedDrive&#x27;, &#x27;WoodDeckSF&#x27;, &#x27;OpenPorchSF&#x27;, &#x27;EnclosedPorch&#x27;, &#x27;3SsnPorch&#x27;, &#x27;ScreenPorch&#x27;, &#x27;PoolQC&#x27;, &#x27;MiscVal&#x27;, &#x27;MoSold&#x27;, &#x27;YrSold&#x27;]</pre></div></div></div><div class=\"sk-serial\"><div class=\"sk-item\"><div class=\"sk-estimator sk-toggleable\"><input class=\"sk-toggleable__control sk-hidden--visually\" id=\"sk-estimator-id-39\" type=\"checkbox\" ><label for=\"sk-estimator-id-39\" class=\"sk-toggleable__label sk-toggleable__label-arrow\">StandardScaler</label><div class=\"sk-toggleable__content\"><pre>StandardScaler()</pre></div></div></div></div></div></div><div class=\"sk-parallel-item\"><div class=\"sk-item\"><div class=\"sk-label-container\"><div class=\"sk-label sk-toggleable\"><input class=\"sk-toggleable__control sk-hidden--visually\" id=\"sk-estimator-id-40\" type=\"checkbox\" ><label for=\"sk-estimator-id-40\" class=\"sk-toggleable__label sk-toggleable__label-arrow\">one-hot-encoder</label><div class=\"sk-toggleable__content\"><pre>[&#x27;MSZoning&#x27;, &#x27;Street&#x27;, &#x27;LotConfig&#x27;, &#x27;Neighborhood&#x27;, &#x27;Condition1&#x27;, &#x27;Condition2&#x27;, &#x27;BldgType&#x27;, &#x27;HouseStyle&#x27;, &#x27;RoofStyle&#x27;, &#x27;RoofMatl&#x27;, &#x27;Exterior1st&#x27;, &#x27;Exterior2nd&#x27;, &#x27;MasVnrType&#x27;, &#x27;Foundation&#x27;, &#x27;Heating&#x27;, &#x27;CentralAir&#x27;, &#x27;Electrical&#x27;, &#x27;GarageType&#x27;, &#x27;PoolArea&#x27;, &#x27;Fence&#x27;, &#x27;MiscFeature&#x27;, &#x27;SaleType&#x27;, &#x27;SaleCondition&#x27;]</pre></div></div></div><div class=\"sk-serial\"><div class=\"sk-item\"><div class=\"sk-estimator sk-toggleable\"><input class=\"sk-toggleable__control sk-hidden--visually\" id=\"sk-estimator-id-41\" type=\"checkbox\" ><label for=\"sk-estimator-id-41\" class=\"sk-toggleable__label sk-toggleable__label-arrow\">OneHotEncoder</label><div class=\"sk-toggleable__content\"><pre>OneHotEncoder(drop=&#x27;first&#x27;, handle_unknown=&#x27;ignore&#x27;)</pre></div></div></div></div></div></div></div></div><div class=\"sk-item\"><div class=\"sk-estimator sk-toggleable\"><input class=\"sk-toggleable__control sk-hidden--visually\" id=\"sk-estimator-id-42\" type=\"checkbox\" ><label for=\"sk-estimator-id-42\" class=\"sk-toggleable__label sk-toggleable__label-arrow\">Lasso</label><div class=\"sk-toggleable__content\"><pre>Lasso()</pre></div></div></div></div></div></div></div></div></div></div></div></div>"
      ],
      "text/plain": [
       "TransformedTargetRegressor(func=<ufunc 'log'>, inverse_func=<ufunc 'exp'>,\n",
       "                           regressor=Pipeline(steps=[('Preprocess',\n",
       "                                                      ColumnTransformer(transformers=[('standard_scaler',\n",
       "                                                                                       StandardScaler(),\n",
       "                                                                                       ['GrLivArea',\n",
       "                                                                                        'MSSubClass',\n",
       "                                                                                        'LotFrontage',\n",
       "                                                                                        'LotArea',\n",
       "                                                                                        'Alley',\n",
       "                                                                                        'LotShape',\n",
       "                                                                                        'LandContour',\n",
       "                                                                                        'Utilities',\n",
       "                                                                                        'LandSlope',\n",
       "                                                                                        'OverallQual',\n",
       "                                                                                        'OverallCond',\n",
       "                                                                                        'YearBuilt',\n",
       "                                                                                        'YearRemodAdd',\n",
       "                                                                                        'MasVnrAr...\n",
       "                                                                                       OneHotEncoder(drop='first',\n",
       "                                                                                                     handle_unknown='ignore'),\n",
       "                                                                                       ['MSZoning',\n",
       "                                                                                        'Street',\n",
       "                                                                                        'LotConfig',\n",
       "                                                                                        'Neighborhood',\n",
       "                                                                                        'Condition1',\n",
       "                                                                                        'Condition2',\n",
       "                                                                                        'BldgType',\n",
       "                                                                                        'HouseStyle',\n",
       "                                                                                        'RoofStyle',\n",
       "                                                                                        'RoofMatl',\n",
       "                                                                                        'Exterior1st',\n",
       "                                                                                        'Exterior2nd',\n",
       "                                                                                        'MasVnrType',\n",
       "                                                                                        'Foundation',\n",
       "                                                                                        'Heating',\n",
       "                                                                                        'CentralAir',\n",
       "                                                                                        'Electrical',\n",
       "                                                                                        'GarageType',\n",
       "                                                                                        'PoolArea',\n",
       "                                                                                        'Fence',\n",
       "                                                                                        'MiscFeature',\n",
       "                                                                                        'SaleType',\n",
       "                                                                                        'SaleCondition'])])),\n",
       "                                                     ('Lasso', Lasso())]))"
      ]
     },
     "execution_count": 62,
     "metadata": {},
     "output_type": "execute_result"
    }
   ],
   "source": [
    "lasso_regr = compose.TransformedTargetRegressor(regressor= lasso_pipe,\n",
    "                                                func=np.log, inverse_func=np.exp)\n",
    "lasso_regr"
   ]
  },
  {
   "cell_type": "code",
   "execution_count": 67,
   "id": "9f3054a0",
   "metadata": {},
   "outputs": [
    {
     "data": {
      "text/html": [
       "<style>#sk-container-id-7 {color: black;}#sk-container-id-7 pre{padding: 0;}#sk-container-id-7 div.sk-toggleable {background-color: white;}#sk-container-id-7 label.sk-toggleable__label {cursor: pointer;display: block;width: 100%;margin-bottom: 0;padding: 0.3em;box-sizing: border-box;text-align: center;}#sk-container-id-7 label.sk-toggleable__label-arrow:before {content: \"▸\";float: left;margin-right: 0.25em;color: #696969;}#sk-container-id-7 label.sk-toggleable__label-arrow:hover:before {color: black;}#sk-container-id-7 div.sk-estimator:hover label.sk-toggleable__label-arrow:before {color: black;}#sk-container-id-7 div.sk-toggleable__content {max-height: 0;max-width: 0;overflow: hidden;text-align: left;background-color: #f0f8ff;}#sk-container-id-7 div.sk-toggleable__content pre {margin: 0.2em;color: black;border-radius: 0.25em;background-color: #f0f8ff;}#sk-container-id-7 input.sk-toggleable__control:checked~div.sk-toggleable__content {max-height: 200px;max-width: 100%;overflow: auto;}#sk-container-id-7 input.sk-toggleable__control:checked~label.sk-toggleable__label-arrow:before {content: \"▾\";}#sk-container-id-7 div.sk-estimator input.sk-toggleable__control:checked~label.sk-toggleable__label {background-color: #d4ebff;}#sk-container-id-7 div.sk-label input.sk-toggleable__control:checked~label.sk-toggleable__label {background-color: #d4ebff;}#sk-container-id-7 input.sk-hidden--visually {border: 0;clip: rect(1px 1px 1px 1px);clip: rect(1px, 1px, 1px, 1px);height: 1px;margin: -1px;overflow: hidden;padding: 0;position: absolute;width: 1px;}#sk-container-id-7 div.sk-estimator {font-family: monospace;background-color: #f0f8ff;border: 1px dotted black;border-radius: 0.25em;box-sizing: border-box;margin-bottom: 0.5em;}#sk-container-id-7 div.sk-estimator:hover {background-color: #d4ebff;}#sk-container-id-7 div.sk-parallel-item::after {content: \"\";width: 100%;border-bottom: 1px solid gray;flex-grow: 1;}#sk-container-id-7 div.sk-label:hover label.sk-toggleable__label {background-color: #d4ebff;}#sk-container-id-7 div.sk-serial::before {content: \"\";position: absolute;border-left: 1px solid gray;box-sizing: border-box;top: 0;bottom: 0;left: 50%;z-index: 0;}#sk-container-id-7 div.sk-serial {display: flex;flex-direction: column;align-items: center;background-color: white;padding-right: 0.2em;padding-left: 0.2em;position: relative;}#sk-container-id-7 div.sk-item {position: relative;z-index: 1;}#sk-container-id-7 div.sk-parallel {display: flex;align-items: stretch;justify-content: center;background-color: white;position: relative;}#sk-container-id-7 div.sk-item::before, #sk-container-id-7 div.sk-parallel-item::before {content: \"\";position: absolute;border-left: 1px solid gray;box-sizing: border-box;top: 0;bottom: 0;left: 50%;z-index: -1;}#sk-container-id-7 div.sk-parallel-item {display: flex;flex-direction: column;z-index: 1;position: relative;background-color: white;}#sk-container-id-7 div.sk-parallel-item:first-child::after {align-self: flex-end;width: 50%;}#sk-container-id-7 div.sk-parallel-item:last-child::after {align-self: flex-start;width: 50%;}#sk-container-id-7 div.sk-parallel-item:only-child::after {width: 0;}#sk-container-id-7 div.sk-dashed-wrapped {border: 1px dashed gray;margin: 0 0.4em 0.5em 0.4em;box-sizing: border-box;padding-bottom: 0.4em;background-color: white;}#sk-container-id-7 div.sk-label label {font-family: monospace;font-weight: bold;display: inline-block;line-height: 1.2em;}#sk-container-id-7 div.sk-label-container {text-align: center;}#sk-container-id-7 div.sk-container {/* jupyter's `normalize.less` sets `[hidden] { display: none; }` but bootstrap.min.css set `[hidden] { display: none !important; }` so we also need the `!important` here to be able to override the default hidden behavior on the sphinx rendered scikit-learn.org. See: https://github.com/scikit-learn/scikit-learn/issues/21755 */display: inline-block !important;position: relative;}#sk-container-id-7 div.sk-text-repr-fallback {display: none;}</style><div id=\"sk-container-id-7\" class=\"sk-top-container\"><div class=\"sk-text-repr-fallback\"><pre>GridSearchCV(cv=KFold(n_splits=10, random_state=100, shuffle=True),\n",
       "             estimator=TransformedTargetRegressor(func=&lt;ufunc &#x27;log&#x27;&gt;,\n",
       "                                                  inverse_func=&lt;ufunc &#x27;exp&#x27;&gt;,\n",
       "                                                  regressor=Pipeline(steps=[(&#x27;Preprocess&#x27;,\n",
       "                                                                             ColumnTransformer(transformers=[(&#x27;standard_scaler&#x27;,\n",
       "                                                                                                              StandardScaler(),\n",
       "                                                                                                              [&#x27;GrLivArea&#x27;,\n",
       "                                                                                                               &#x27;MSSubClass&#x27;,\n",
       "                                                                                                               &#x27;LotFrontage&#x27;,\n",
       "                                                                                                               &#x27;LotArea&#x27;,\n",
       "                                                                                                               &#x27;Alley&#x27;,\n",
       "                                                                                                               &#x27;LotShape&#x27;,\n",
       "                                                                                                               &#x27;LandContour&#x27;,\n",
       "                                                                                                               &#x27;Utilities&#x27;,\n",
       "                                                                                                               &#x27;...\n",
       "                                                                                                               &#x27;RoofMatl&#x27;,\n",
       "                                                                                                               &#x27;Exterior1st&#x27;,\n",
       "                                                                                                               &#x27;Exterior2nd&#x27;,\n",
       "                                                                                                               &#x27;MasVnrType&#x27;,\n",
       "                                                                                                               &#x27;Foundation&#x27;,\n",
       "                                                                                                               &#x27;Heating&#x27;,\n",
       "                                                                                                               &#x27;CentralAir&#x27;,\n",
       "                                                                                                               &#x27;Electrical&#x27;,\n",
       "                                                                                                               &#x27;GarageType&#x27;,\n",
       "                                                                                                               &#x27;PoolArea&#x27;,\n",
       "                                                                                                               &#x27;Fence&#x27;,\n",
       "                                                                                                               &#x27;MiscFeature&#x27;,\n",
       "                                                                                                               &#x27;SaleType&#x27;,\n",
       "                                                                                                               &#x27;SaleCondition&#x27;])])),\n",
       "                                                                            (&#x27;Lasso&#x27;,\n",
       "                                                                             Lasso())])),\n",
       "             n_jobs=2,\n",
       "             param_grid={&#x27;regressor__Lasso__alpha&#x27;: [0.00023, 0.00025444,\n",
       "                                                     0.00027889, 0.00030333,\n",
       "                                                     0.00032778, 0.00035222,\n",
       "                                                     0.00037667, 0.00040111,\n",
       "                                                     0.00042556, 0.0004]})</pre><b>In a Jupyter environment, please rerun this cell to show the HTML representation or trust the notebook. <br />On GitHub, the HTML representation is unable to render, please try loading this page with nbviewer.org.</b></div><div class=\"sk-container\" hidden><div class=\"sk-item sk-dashed-wrapped\"><div class=\"sk-label-container\"><div class=\"sk-label sk-toggleable\"><input class=\"sk-toggleable__control sk-hidden--visually\" id=\"sk-estimator-id-52\" type=\"checkbox\" ><label for=\"sk-estimator-id-52\" class=\"sk-toggleable__label sk-toggleable__label-arrow\">GridSearchCV</label><div class=\"sk-toggleable__content\"><pre>GridSearchCV(cv=KFold(n_splits=10, random_state=100, shuffle=True),\n",
       "             estimator=TransformedTargetRegressor(func=&lt;ufunc &#x27;log&#x27;&gt;,\n",
       "                                                  inverse_func=&lt;ufunc &#x27;exp&#x27;&gt;,\n",
       "                                                  regressor=Pipeline(steps=[(&#x27;Preprocess&#x27;,\n",
       "                                                                             ColumnTransformer(transformers=[(&#x27;standard_scaler&#x27;,\n",
       "                                                                                                              StandardScaler(),\n",
       "                                                                                                              [&#x27;GrLivArea&#x27;,\n",
       "                                                                                                               &#x27;MSSubClass&#x27;,\n",
       "                                                                                                               &#x27;LotFrontage&#x27;,\n",
       "                                                                                                               &#x27;LotArea&#x27;,\n",
       "                                                                                                               &#x27;Alley&#x27;,\n",
       "                                                                                                               &#x27;LotShape&#x27;,\n",
       "                                                                                                               &#x27;LandContour&#x27;,\n",
       "                                                                                                               &#x27;Utilities&#x27;,\n",
       "                                                                                                               &#x27;...\n",
       "                                                                                                               &#x27;RoofMatl&#x27;,\n",
       "                                                                                                               &#x27;Exterior1st&#x27;,\n",
       "                                                                                                               &#x27;Exterior2nd&#x27;,\n",
       "                                                                                                               &#x27;MasVnrType&#x27;,\n",
       "                                                                                                               &#x27;Foundation&#x27;,\n",
       "                                                                                                               &#x27;Heating&#x27;,\n",
       "                                                                                                               &#x27;CentralAir&#x27;,\n",
       "                                                                                                               &#x27;Electrical&#x27;,\n",
       "                                                                                                               &#x27;GarageType&#x27;,\n",
       "                                                                                                               &#x27;PoolArea&#x27;,\n",
       "                                                                                                               &#x27;Fence&#x27;,\n",
       "                                                                                                               &#x27;MiscFeature&#x27;,\n",
       "                                                                                                               &#x27;SaleType&#x27;,\n",
       "                                                                                                               &#x27;SaleCondition&#x27;])])),\n",
       "                                                                            (&#x27;Lasso&#x27;,\n",
       "                                                                             Lasso())])),\n",
       "             n_jobs=2,\n",
       "             param_grid={&#x27;regressor__Lasso__alpha&#x27;: [0.00023, 0.00025444,\n",
       "                                                     0.00027889, 0.00030333,\n",
       "                                                     0.00032778, 0.00035222,\n",
       "                                                     0.00037667, 0.00040111,\n",
       "                                                     0.00042556, 0.0004]})</pre></div></div></div><div class=\"sk-parallel\"><div class=\"sk-parallel-item\"><div class=\"sk-item\"><div class=\"sk-label-container\"><div class=\"sk-label sk-toggleable\"><input class=\"sk-toggleable__control sk-hidden--visually\" id=\"sk-estimator-id-53\" type=\"checkbox\" ><label for=\"sk-estimator-id-53\" class=\"sk-toggleable__label sk-toggleable__label-arrow\">estimator: TransformedTargetRegressor</label><div class=\"sk-toggleable__content\"><pre>TransformedTargetRegressor(func=&lt;ufunc &#x27;log&#x27;&gt;, inverse_func=&lt;ufunc &#x27;exp&#x27;&gt;,\n",
       "                           regressor=Pipeline(steps=[(&#x27;Preprocess&#x27;,\n",
       "                                                      ColumnTransformer(transformers=[(&#x27;standard_scaler&#x27;,\n",
       "                                                                                       StandardScaler(),\n",
       "                                                                                       [&#x27;GrLivArea&#x27;,\n",
       "                                                                                        &#x27;MSSubClass&#x27;,\n",
       "                                                                                        &#x27;LotFrontage&#x27;,\n",
       "                                                                                        &#x27;LotArea&#x27;,\n",
       "                                                                                        &#x27;Alley&#x27;,\n",
       "                                                                                        &#x27;LotShape&#x27;,\n",
       "                                                                                        &#x27;LandContour&#x27;,\n",
       "                                                                                        &#x27;Utilities&#x27;,\n",
       "                                                                                        &#x27;LandSlope&#x27;,\n",
       "                                                                                        &#x27;OverallQual&#x27;,\n",
       "                                                                                        &#x27;OverallCond&#x27;,\n",
       "                                                                                        &#x27;YearBuilt&#x27;,\n",
       "                                                                                        &#x27;YearRemodAdd&#x27;,\n",
       "                                                                                        &#x27;MasVnrAr...\n",
       "                                                                                       OneHotEncoder(drop=&#x27;first&#x27;,\n",
       "                                                                                                     handle_unknown=&#x27;ignore&#x27;),\n",
       "                                                                                       [&#x27;MSZoning&#x27;,\n",
       "                                                                                        &#x27;Street&#x27;,\n",
       "                                                                                        &#x27;LotConfig&#x27;,\n",
       "                                                                                        &#x27;Neighborhood&#x27;,\n",
       "                                                                                        &#x27;Condition1&#x27;,\n",
       "                                                                                        &#x27;Condition2&#x27;,\n",
       "                                                                                        &#x27;BldgType&#x27;,\n",
       "                                                                                        &#x27;HouseStyle&#x27;,\n",
       "                                                                                        &#x27;RoofStyle&#x27;,\n",
       "                                                                                        &#x27;RoofMatl&#x27;,\n",
       "                                                                                        &#x27;Exterior1st&#x27;,\n",
       "                                                                                        &#x27;Exterior2nd&#x27;,\n",
       "                                                                                        &#x27;MasVnrType&#x27;,\n",
       "                                                                                        &#x27;Foundation&#x27;,\n",
       "                                                                                        &#x27;Heating&#x27;,\n",
       "                                                                                        &#x27;CentralAir&#x27;,\n",
       "                                                                                        &#x27;Electrical&#x27;,\n",
       "                                                                                        &#x27;GarageType&#x27;,\n",
       "                                                                                        &#x27;PoolArea&#x27;,\n",
       "                                                                                        &#x27;Fence&#x27;,\n",
       "                                                                                        &#x27;MiscFeature&#x27;,\n",
       "                                                                                        &#x27;SaleType&#x27;,\n",
       "                                                                                        &#x27;SaleCondition&#x27;])])),\n",
       "                                                     (&#x27;Lasso&#x27;, Lasso())]))</pre></div></div></div><div class=\"sk-serial\"><div class=\"sk-item sk-dashed-wrapped\"><div class=\"sk-parallel\"><div class=\"sk-parallel-item\"><div class=\"sk-item\"><div class=\"sk-label-container\"><div class=\"sk-label sk-toggleable\"><input class=\"sk-toggleable__control sk-hidden--visually\" id=\"sk-estimator-id-54\" type=\"checkbox\" ><label for=\"sk-estimator-id-54\" class=\"sk-toggleable__label sk-toggleable__label-arrow\">regressor: Pipeline</label><div class=\"sk-toggleable__content\"><pre>Pipeline(steps=[(&#x27;Preprocess&#x27;,\n",
       "                 ColumnTransformer(transformers=[(&#x27;standard_scaler&#x27;,\n",
       "                                                  StandardScaler(),\n",
       "                                                  [&#x27;GrLivArea&#x27;, &#x27;MSSubClass&#x27;,\n",
       "                                                   &#x27;LotFrontage&#x27;, &#x27;LotArea&#x27;,\n",
       "                                                   &#x27;Alley&#x27;, &#x27;LotShape&#x27;,\n",
       "                                                   &#x27;LandContour&#x27;, &#x27;Utilities&#x27;,\n",
       "                                                   &#x27;LandSlope&#x27;, &#x27;OverallQual&#x27;,\n",
       "                                                   &#x27;OverallCond&#x27;, &#x27;YearBuilt&#x27;,\n",
       "                                                   &#x27;YearRemodAdd&#x27;, &#x27;MasVnrArea&#x27;,\n",
       "                                                   &#x27;ExterQual&#x27;, &#x27;ExterCond&#x27;,\n",
       "                                                   &#x27;BsmtQual&#x27;, &#x27;BsmtCond&#x27;,\n",
       "                                                   &#x27;BsmtExposure&#x27;,\n",
       "                                                   &#x27;BsmtFinType1&#x27;, &#x27;...\n",
       "                                                  OneHotEncoder(drop=&#x27;first&#x27;,\n",
       "                                                                handle_unknown=&#x27;ignore&#x27;),\n",
       "                                                  [&#x27;MSZoning&#x27;, &#x27;Street&#x27;,\n",
       "                                                   &#x27;LotConfig&#x27;, &#x27;Neighborhood&#x27;,\n",
       "                                                   &#x27;Condition1&#x27;, &#x27;Condition2&#x27;,\n",
       "                                                   &#x27;BldgType&#x27;, &#x27;HouseStyle&#x27;,\n",
       "                                                   &#x27;RoofStyle&#x27;, &#x27;RoofMatl&#x27;,\n",
       "                                                   &#x27;Exterior1st&#x27;, &#x27;Exterior2nd&#x27;,\n",
       "                                                   &#x27;MasVnrType&#x27;, &#x27;Foundation&#x27;,\n",
       "                                                   &#x27;Heating&#x27;, &#x27;CentralAir&#x27;,\n",
       "                                                   &#x27;Electrical&#x27;, &#x27;GarageType&#x27;,\n",
       "                                                   &#x27;PoolArea&#x27;, &#x27;Fence&#x27;,\n",
       "                                                   &#x27;MiscFeature&#x27;, &#x27;SaleType&#x27;,\n",
       "                                                   &#x27;SaleCondition&#x27;])])),\n",
       "                (&#x27;Lasso&#x27;, Lasso())])</pre></div></div></div><div class=\"sk-serial\"><div class=\"sk-item\"><div class=\"sk-serial\"><div class=\"sk-item sk-dashed-wrapped\"><div class=\"sk-label-container\"><div class=\"sk-label sk-toggleable\"><input class=\"sk-toggleable__control sk-hidden--visually\" id=\"sk-estimator-id-55\" type=\"checkbox\" ><label for=\"sk-estimator-id-55\" class=\"sk-toggleable__label sk-toggleable__label-arrow\">Preprocess: ColumnTransformer</label><div class=\"sk-toggleable__content\"><pre>ColumnTransformer(transformers=[(&#x27;standard_scaler&#x27;, StandardScaler(),\n",
       "                                 [&#x27;GrLivArea&#x27;, &#x27;MSSubClass&#x27;, &#x27;LotFrontage&#x27;,\n",
       "                                  &#x27;LotArea&#x27;, &#x27;Alley&#x27;, &#x27;LotShape&#x27;, &#x27;LandContour&#x27;,\n",
       "                                  &#x27;Utilities&#x27;, &#x27;LandSlope&#x27;, &#x27;OverallQual&#x27;,\n",
       "                                  &#x27;OverallCond&#x27;, &#x27;YearBuilt&#x27;, &#x27;YearRemodAdd&#x27;,\n",
       "                                  &#x27;MasVnrArea&#x27;, &#x27;ExterQual&#x27;, &#x27;ExterCond&#x27;,\n",
       "                                  &#x27;BsmtQual&#x27;, &#x27;BsmtCond&#x27;, &#x27;BsmtExposure&#x27;,\n",
       "                                  &#x27;BsmtFinType1&#x27;, &#x27;BsmtFinSF1&#x27;, &#x27;BsmtFinType2&#x27;,\n",
       "                                  &#x27;Bs...\n",
       "                                (&#x27;one-hot-encoder&#x27;,\n",
       "                                 OneHotEncoder(drop=&#x27;first&#x27;,\n",
       "                                               handle_unknown=&#x27;ignore&#x27;),\n",
       "                                 [&#x27;MSZoning&#x27;, &#x27;Street&#x27;, &#x27;LotConfig&#x27;,\n",
       "                                  &#x27;Neighborhood&#x27;, &#x27;Condition1&#x27;, &#x27;Condition2&#x27;,\n",
       "                                  &#x27;BldgType&#x27;, &#x27;HouseStyle&#x27;, &#x27;RoofStyle&#x27;,\n",
       "                                  &#x27;RoofMatl&#x27;, &#x27;Exterior1st&#x27;, &#x27;Exterior2nd&#x27;,\n",
       "                                  &#x27;MasVnrType&#x27;, &#x27;Foundation&#x27;, &#x27;Heating&#x27;,\n",
       "                                  &#x27;CentralAir&#x27;, &#x27;Electrical&#x27;, &#x27;GarageType&#x27;,\n",
       "                                  &#x27;PoolArea&#x27;, &#x27;Fence&#x27;, &#x27;MiscFeature&#x27;,\n",
       "                                  &#x27;SaleType&#x27;, &#x27;SaleCondition&#x27;])])</pre></div></div></div><div class=\"sk-parallel\"><div class=\"sk-parallel-item\"><div class=\"sk-item\"><div class=\"sk-label-container\"><div class=\"sk-label sk-toggleable\"><input class=\"sk-toggleable__control sk-hidden--visually\" id=\"sk-estimator-id-56\" type=\"checkbox\" ><label for=\"sk-estimator-id-56\" class=\"sk-toggleable__label sk-toggleable__label-arrow\">standard_scaler</label><div class=\"sk-toggleable__content\"><pre>[&#x27;GrLivArea&#x27;, &#x27;MSSubClass&#x27;, &#x27;LotFrontage&#x27;, &#x27;LotArea&#x27;, &#x27;Alley&#x27;, &#x27;LotShape&#x27;, &#x27;LandContour&#x27;, &#x27;Utilities&#x27;, &#x27;LandSlope&#x27;, &#x27;OverallQual&#x27;, &#x27;OverallCond&#x27;, &#x27;YearBuilt&#x27;, &#x27;YearRemodAdd&#x27;, &#x27;MasVnrArea&#x27;, &#x27;ExterQual&#x27;, &#x27;ExterCond&#x27;, &#x27;BsmtQual&#x27;, &#x27;BsmtCond&#x27;, &#x27;BsmtExposure&#x27;, &#x27;BsmtFinType1&#x27;, &#x27;BsmtFinSF1&#x27;, &#x27;BsmtFinType2&#x27;, &#x27;BsmtFinSF2&#x27;, &#x27;BsmtUnfSF&#x27;, &#x27;TotalBsmtSF&#x27;, &#x27;HeatingQC&#x27;, &#x27;1stFlrSF&#x27;, &#x27;2ndFlrSF&#x27;, &#x27;LowQualFinSF&#x27;, &#x27;BsmtFullBath&#x27;, &#x27;BsmtHalfBath&#x27;, &#x27;FullBath&#x27;, &#x27;HalfBath&#x27;, &#x27;BedroomAbvGr&#x27;, &#x27;KitchenAbvGr&#x27;, &#x27;KitchenQual&#x27;, &#x27;TotRmsAbvGrd&#x27;, &#x27;Functional&#x27;, &#x27;Fireplaces&#x27;, &#x27;FireplaceQu&#x27;, &#x27;GarageYrBlt&#x27;, &#x27;GarageFinish&#x27;, &#x27;GarageCars&#x27;, &#x27;GarageArea&#x27;, &#x27;GarageQual&#x27;, &#x27;GarageCond&#x27;, &#x27;PavedDrive&#x27;, &#x27;WoodDeckSF&#x27;, &#x27;OpenPorchSF&#x27;, &#x27;EnclosedPorch&#x27;, &#x27;3SsnPorch&#x27;, &#x27;ScreenPorch&#x27;, &#x27;PoolQC&#x27;, &#x27;MiscVal&#x27;, &#x27;MoSold&#x27;, &#x27;YrSold&#x27;]</pre></div></div></div><div class=\"sk-serial\"><div class=\"sk-item\"><div class=\"sk-estimator sk-toggleable\"><input class=\"sk-toggleable__control sk-hidden--visually\" id=\"sk-estimator-id-57\" type=\"checkbox\" ><label for=\"sk-estimator-id-57\" class=\"sk-toggleable__label sk-toggleable__label-arrow\">StandardScaler</label><div class=\"sk-toggleable__content\"><pre>StandardScaler()</pre></div></div></div></div></div></div><div class=\"sk-parallel-item\"><div class=\"sk-item\"><div class=\"sk-label-container\"><div class=\"sk-label sk-toggleable\"><input class=\"sk-toggleable__control sk-hidden--visually\" id=\"sk-estimator-id-58\" type=\"checkbox\" ><label for=\"sk-estimator-id-58\" class=\"sk-toggleable__label sk-toggleable__label-arrow\">one-hot-encoder</label><div class=\"sk-toggleable__content\"><pre>[&#x27;MSZoning&#x27;, &#x27;Street&#x27;, &#x27;LotConfig&#x27;, &#x27;Neighborhood&#x27;, &#x27;Condition1&#x27;, &#x27;Condition2&#x27;, &#x27;BldgType&#x27;, &#x27;HouseStyle&#x27;, &#x27;RoofStyle&#x27;, &#x27;RoofMatl&#x27;, &#x27;Exterior1st&#x27;, &#x27;Exterior2nd&#x27;, &#x27;MasVnrType&#x27;, &#x27;Foundation&#x27;, &#x27;Heating&#x27;, &#x27;CentralAir&#x27;, &#x27;Electrical&#x27;, &#x27;GarageType&#x27;, &#x27;PoolArea&#x27;, &#x27;Fence&#x27;, &#x27;MiscFeature&#x27;, &#x27;SaleType&#x27;, &#x27;SaleCondition&#x27;]</pre></div></div></div><div class=\"sk-serial\"><div class=\"sk-item\"><div class=\"sk-estimator sk-toggleable\"><input class=\"sk-toggleable__control sk-hidden--visually\" id=\"sk-estimator-id-59\" type=\"checkbox\" ><label for=\"sk-estimator-id-59\" class=\"sk-toggleable__label sk-toggleable__label-arrow\">OneHotEncoder</label><div class=\"sk-toggleable__content\"><pre>OneHotEncoder(drop=&#x27;first&#x27;, handle_unknown=&#x27;ignore&#x27;)</pre></div></div></div></div></div></div></div></div><div class=\"sk-item\"><div class=\"sk-estimator sk-toggleable\"><input class=\"sk-toggleable__control sk-hidden--visually\" id=\"sk-estimator-id-60\" type=\"checkbox\" ><label for=\"sk-estimator-id-60\" class=\"sk-toggleable__label sk-toggleable__label-arrow\">Lasso</label><div class=\"sk-toggleable__content\"><pre>Lasso()</pre></div></div></div></div></div></div></div></div></div></div></div></div></div></div></div></div></div>"
      ],
      "text/plain": [
       "GridSearchCV(cv=KFold(n_splits=10, random_state=100, shuffle=True),\n",
       "             estimator=TransformedTargetRegressor(func=<ufunc 'log'>,\n",
       "                                                  inverse_func=<ufunc 'exp'>,\n",
       "                                                  regressor=Pipeline(steps=[('Preprocess',\n",
       "                                                                             ColumnTransformer(transformers=[('standard_scaler',\n",
       "                                                                                                              StandardScaler(),\n",
       "                                                                                                              ['GrLivArea',\n",
       "                                                                                                               'MSSubClass',\n",
       "                                                                                                               'LotFrontage',\n",
       "                                                                                                               'LotArea',\n",
       "                                                                                                               'Alley',\n",
       "                                                                                                               'LotShape',\n",
       "                                                                                                               'LandContour',\n",
       "                                                                                                               'Utilities',\n",
       "                                                                                                               '...\n",
       "                                                                                                               'RoofMatl',\n",
       "                                                                                                               'Exterior1st',\n",
       "                                                                                                               'Exterior2nd',\n",
       "                                                                                                               'MasVnrType',\n",
       "                                                                                                               'Foundation',\n",
       "                                                                                                               'Heating',\n",
       "                                                                                                               'CentralAir',\n",
       "                                                                                                               'Electrical',\n",
       "                                                                                                               'GarageType',\n",
       "                                                                                                               'PoolArea',\n",
       "                                                                                                               'Fence',\n",
       "                                                                                                               'MiscFeature',\n",
       "                                                                                                               'SaleType',\n",
       "                                                                                                               'SaleCondition'])])),\n",
       "                                                                            ('Lasso',\n",
       "                                                                             Lasso())])),\n",
       "             n_jobs=2,\n",
       "             param_grid={'regressor__Lasso__alpha': [0.00023, 0.00025444,\n",
       "                                                     0.00027889, 0.00030333,\n",
       "                                                     0.00032778, 0.00035222,\n",
       "                                                     0.00037667, 0.00040111,\n",
       "                                                     0.00042556, 0.0004]})"
      ]
     },
     "execution_count": 67,
     "metadata": {},
     "output_type": "execute_result"
    }
   ],
   "source": [
    "from sklearn.model_selection import GridSearchCV\n",
    "search = GridSearchCV(lasso_regr, param_grid, n_jobs=2, cv = kf)\n",
    "search.fit(X, y)"
   ]
  },
  {
   "cell_type": "code",
   "execution_count": 68,
   "id": "40d0a27b",
   "metadata": {},
   "outputs": [
    {
     "name": "stdout",
     "output_type": "stream",
     "text": [
      "0.9333936842649383\n",
      "{'regressor__Lasso__alpha': 0.00032778}\n"
     ]
    }
   ],
   "source": [
    "print(search.best_score_)\n",
    "print(search.best_params_)"
   ]
  }
 ],
 "metadata": {
  "kernelspec": {
   "display_name": "Python 3 (ipykernel)",
   "language": "python",
   "name": "python3"
  },
  "language_info": {
   "codemirror_mode": {
    "name": "ipython",
    "version": 3
   },
   "file_extension": ".py",
   "mimetype": "text/x-python",
   "name": "python",
   "nbconvert_exporter": "python",
   "pygments_lexer": "ipython3",
   "version": "3.11.5"
  }
 },
 "nbformat": 4,
 "nbformat_minor": 5
}
