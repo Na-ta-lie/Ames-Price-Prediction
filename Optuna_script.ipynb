{
 "cells": [
  {
   "cell_type": "code",
   "execution_count": 1,
   "id": "73052951",
   "metadata": {},
   "outputs": [],
   "source": [
    "import numpy as np\n",
    "import pandas as pd\n",
    "import xgboost as xgb\n",
    "from xgboost import XGBRegressor\n",
    "import matplotlib.pyplot as plt\n",
    "from sklearn.model_selection import train_test_split\n",
    "from sklearn.metrics import balanced_accuracy_score, roc_auc_score, make_scorer\n",
    "from sklearn.model_selection import GridSearchCV\n",
    "from sklearn.metrics import confusion_matrix\n",
    "from sklearn.metrics import ConfusionMatrixDisplay\n",
    "from sklearn.preprocessing import OneHotEncoder, StandardScaler\n",
    "from sklearn.pipeline import Pipeline\n",
    "from sklearn import compose, pipeline\n",
    "from sklearn.preprocessing import OneHotEncoder\n",
    "from sklearn.compose import ColumnTransformer\n",
    "from sklearn.compose import make_column_selector as selector\n",
    "from sklearn.preprocessing import OneHotEncoder, StandardScaler, OrdinalEncoder\n",
    "from sklearn.pipeline import Pipeline\n",
    "from sklearn import compose, pipeline\n",
    "from sklearn.model_selection import KFold\n",
    "from typing import Optional\n",
    "from sklearn.model_selection import cross_val_score, KFold\n",
    "from sklearn.metrics import roc_auc_score, make_scorer, r2_score\n",
    "from pandas import DataFrame, Series\n",
    "import numpy as np\n",
    "kf = KFold(n_splits=5, shuffle=True, random_state=42)\n",
    "import xgboost as xgb\n",
    "from xgboost import XGBRegressor\n",
    "import optuna\n",
    "from optuna import Trial\n",
    "from optuna import create_study\n",
    "from sklearn import compose\n",
    "from sklearn.model_selection import GridSearchCV\n",
    "from sklearn.linear_model import Lasso, Ridge, LinearRegression, ElasticNet\n",
    "from sklearn.ensemble import GradientBoostingRegressor, AdaBoostRegressor, RandomForestRegressor\n",
    "#website help from \n",
    "#https://medium.com/@walter_sperat/using-optuna-with-sklearn-the-right-way-part-1-6b4ad0ab2451"
   ]
  },
  {
   "cell_type": "markdown",
   "id": "c1df8ab3",
   "metadata": {},
   "source": [
    "### Instantiate function for each regression model "
   ]
  },
  {
   "cell_type": "code",
   "execution_count": 10,
   "id": "778416d4",
   "metadata": {},
   "outputs": [],
   "source": [
    "def instantiate_ridge(trial : Trial) -> Ridge:\n",
    "    params = {\n",
    "        \"alpha\": trial.suggest_float(\"alpha\", 1e-4, 1000, log=True)\n",
    "    }\n",
    "\n",
    "    return Ridge(**params)\n",
    "\n",
    "def instantiate_lasso(trial : Trial) -> Lasso:\n",
    "    params = {\n",
    "        \"alpha\": trial.suggest_float(\"alpha\", 1e-4, 1000, log=True)\n",
    "    }\n",
    "\n",
    "    return Lasso(**params)\n",
    "\n",
    "def instantiate_en(trial : Trial) -> ElasticNet:\n",
    "    params = {\n",
    "        \"alpha\": trial.suggest_float(\"alpha\", 1e-4, 1000, log=True),\n",
    "        'l1_ratio': trial.suggest_float('l1_ratio', .00001, 1, log = True)\n",
    "    }\n",
    "\n",
    "    return ElasticNet(**params)\n",
    "\n",
    "def instantiate_xgb(trial : Trial) -> XGBRegressor:\n",
    "    params = {\n",
    "        'n_estimators': trial.suggest_int('n_estimators', 100, 1000),\n",
    "        \"learning_rate\": trial.suggest_float(\"learning_rate\", 1e-4, 1, log=True),\n",
    "        \"max_depth\": trial.suggest_int(\"max_depth\", 4, 8),\n",
    "        \"subsample\": trial.suggest_float(\"subsample\", 0.5, 1.0),\n",
    "        \"colsample_bytree\": trial.suggest_float(\"colsample_bytree\", 0.5, 1.0),\n",
    "        \"min_child_weight\": trial.suggest_int(\"min_child_weight\", 10, 20)\n",
    "    }\n",
    "\n",
    "    return XGBRegressor(**params)\n",
    "\n",
    "def instantiate_gbr(trial : Trial) -> GradientBoostingRegressor:\n",
    "    params = {\n",
    "    'n_estimators': trial.suggest_int('n_estimators', 500, 1000),\n",
    "    'learning_rate': trial.suggest_float('learning_rate', 1e-4, 1, log=True),\n",
    "    'max_depth': trial.suggest_int ('max_depth', 2, 6),\n",
    "    \"subsample\": trial.suggest_float(\"subsample\", 0.5, 1.0),\n",
    "    'min_samples_split': trial.suggest_int ('min_sample_split', 6, 10),\n",
    "    'min_samples_leaf': trial.suggest_int ('min_sample_leaf', 1, 10)\n",
    "    }\n",
    "    \n",
    "    return GradientBoostingRegressor(**params)\n",
    "\n",
    "def instantiate_rf(trial : Trial) -> RandomForestRegressor:\n",
    "    params = {\n",
    "    'bootstrap':trial.suggest_categorical('bootstrap', [True, False]),\n",
    "    'n_estimators': trial.suggest_int('n_estimators', 10, 1000),\n",
    "    'max_depth': trial.suggest_int('max_depth', 1, 100),\n",
    "    'min_samples_split': trial.suggest_int('min_sample_split', 2, 10),\n",
    "    'min_samples_leaf': trial.suggest_int('min_sample_leaf', 1, 10)\n",
    "    }\n",
    "    \n",
    "    return RandomForestRegressor(**params)\n",
    "\n",
    "def instantiate_ada(trial : Trial) -> AdaBoostRegressor:\n",
    "    params = {\n",
    "    'learning_rate': trial.suggest_float('learning_rate', 1e-4, 1, log=True),\n",
    "    'loss': trial.suggest_categorical('loss',['linear', 'square', 'exponential']),\n",
    "    'n_estimators': trial.suggest_int('n_estimators', 1, 1000)\n",
    "    }\n",
    "    \n",
    "    return AdaBoostRegressor(**params)\n"
   ]
  },
  {
   "cell_type": "markdown",
   "id": "762035a6",
   "metadata": {},
   "source": [
    "### Instantiate function for regression model selection"
   ]
  },
  {
   "cell_type": "code",
   "execution_count": 3,
   "id": "83b2b5e3",
   "metadata": {},
   "outputs": [],
   "source": [
    "Classifier = (\n",
    "    Ridge |\n",
    "    Lasso |\n",
    "    ElasticNet |\n",
    "    XGBRegressor |\n",
    "    GradientBoostingRegressor |\n",
    "    RandomForestRegressor |\n",
    "    AdaBoostRegressor\n",
    "    )\n",
    "\n",
    "def instantiate_learner(trial : Trial) -> Classifier:\n",
    "    algorithm = trial.suggest_categorical(\n",
    "    'algorithm', ['ridge', 'lasso', 'en', 'xgb', 'gbr', 'rf', 'ada'])\n",
    "    \n",
    "    if algorithm =='ridge':\n",
    "        model = instantiate_ridge(trial)\n",
    "    elif algorithm=='lasso':\n",
    "        model = instantiate_lasso(trial)\n",
    "    elif algorithm=='en':\n",
    "        model = instantiate_en(trial)\n",
    "    elif algorithm=='xgb':\n",
    "        model = instantiate_xgb(trial)\n",
    "    elif algorithm=='gbr':\n",
    "        model = instantiate_gbr(trial)\n",
    "    elif algorithm == 'rf':\n",
    "        model = instantiate_rf(trial)\n",
    "    elif algorithm == 'ada':\n",
    "        model = instantiate_ada(trial)\n",
    "        \n",
    "    return model"
   ]
  },
  {
   "cell_type": "markdown",
   "id": "c3ed085c",
   "metadata": {},
   "source": [
    "### Instantiate functions for encoding categorical columns "
   ]
  },
  {
   "cell_type": "code",
   "execution_count": 4,
   "id": "10aec487",
   "metadata": {},
   "outputs": [],
   "source": [
    "from sklearn.preprocessing import OrdinalEncoder, OneHotEncoder\n",
    "#from category_encoders import WOEEncoder\n",
    "\n",
    "def instantiate_ordinal_encoder(trial: Trial)-> OrdinalEncoder:\n",
    "    params = {\n",
    "        'handle_unknown': \"use_encoded_value\", \n",
    "        'unknown_value': -1\n",
    "    }\n",
    "    \n",
    "    return OrdinalEncoder(**params)\n",
    "\n",
    "def instantiate_onehot_encoder(trial: Trial)-> OneHotEncoder:\n",
    "    params = {\n",
    "        'handle_unknown': 'ignore',\n",
    "        'drop': trial.suggest_categorical('drop', [None, 'first'])\n",
    "    }\n",
    "    \n",
    "    return OneHotEncoder(**params)\n",
    "    \n",
    "Encoder = (\n",
    "    OrdinalEncoder |\n",
    "    OneHotEncoder \n",
    "    )\n",
    "\n",
    "def instantiate_encoder (trial : Trial) -> Encoder:\n",
    "    encoding_method = trial.suggest_categorical(\n",
    "        'encoding_method', ['ordinal', 'onehot'])\n",
    "    if encoding_method =='ordinal':\n",
    "        encoder = instantiate_ordinal_encoder(trial)\n",
    "    elif encoding_method =='onehot':\n",
    "        encoder = instantiate_onehot_encoder(trial)\n",
    "    \n",
    "    return encoder"
   ]
  },
  {
   "cell_type": "markdown",
   "id": "59b0d061",
   "metadata": {},
   "source": [
    "### Instantiate functions for encoding numerical columns "
   ]
  },
  {
   "cell_type": "code",
   "execution_count": 5,
   "id": "89e1b457",
   "metadata": {},
   "outputs": [],
   "source": [
    "from sklearn.preprocessing import StandardScaler, MinMaxScaler, MaxAbsScaler, RobustScaler\n",
    "\n",
    "Scaler = (\n",
    "  StandardScaler |\n",
    "  MinMaxScaler |\n",
    "  MaxAbsScaler |\n",
    "  RobustScaler\n",
    ")\n",
    "\n",
    "def instantiate_scaler(trial : Trial) -> Scaler:\n",
    "    method = trial.suggest_categorical(\n",
    "    'scaling_method', ['standard', 'minmax', 'maxabs', 'robust']\n",
    "    )\n",
    "    if method=='standard':\n",
    "        scaler = StandardScaler()\n",
    "    elif method=='minmax':\n",
    "        scaler = MinMaxScaler()\n",
    "    elif method=='maxabs':\n",
    "        scaler = MaxAbsScaler()\n",
    "    elif method=='robust':\n",
    "        scaler = RobustScaler()\n",
    "        \n",
    "    return scaler"
   ]
  },
  {
   "cell_type": "markdown",
   "id": "a725c0b4",
   "metadata": {},
   "source": [
    "### Instantiate function to scale and encode "
   ]
  },
  {
   "cell_type": "code",
   "execution_count": 6,
   "id": "39c0ceef",
   "metadata": {},
   "outputs": [],
   "source": [
    "from sklearn.compose import ColumnTransformer\n",
    "from sklearn.pipeline import Pipeline\n",
    "\n",
    "def instantiate_processor(trial : Trial, \n",
    "                          numerical_columns : list[str], \n",
    "                          categorical_columns : list[str]) -> ColumnTransformer:\n",
    "    \n",
    "    numerical_pipeline = instantiate_scaler(trial)\n",
    "    categorical_pipeline = instantiate_encoder(trial)\n",
    "   # numerical_pipeline = StandardScaler()\n",
    "    #categorical_pipeline = OneHotEncoder(handle_unknown=\"ignore\", drop='first')\n",
    "    \n",
    "#     numerical_pipeline = instantiate_numerical_pipeline(trial)\n",
    "#     categorical_pipeline = instantiate_categorical_pipeline(trial)\n",
    "    \n",
    "    processor = ColumnTransformer([\n",
    "        ('numerical_pipeline', numerical_pipeline, numerical_columns),\n",
    "        ('categorical_pipeline', categorical_pipeline, categorical_columns)\n",
    "    ])\n",
    "    return processor\n",
    "\n",
    "def instantiate_model(trial : Trial, numerical_columns : list[str], \n",
    "                      categorical_columns : list[str]) -> Pipeline:\n",
    "    \n",
    "    processor = instantiate_processor(\n",
    "        trial, numerical_columns, categorical_columns\n",
    "    )\n",
    "    \n",
    "    learner = instantiate_learner(trial)\n",
    "    \n",
    "    model_pipe = Pipeline([\n",
    "    ('processor', processor),\n",
    "    ('model', learner)\n",
    "    ])\n",
    "    \n",
    "    model = compose.TransformedTargetRegressor(regressor= model_pipe,\n",
    "                                                func=np.log, inverse_func=np.exp)\n",
    "    \n",
    "    return model"
   ]
  },
  {
   "cell_type": "code",
   "execution_count": 19,
   "id": "8ccb7146",
   "metadata": {},
   "outputs": [],
   "source": [
    "def objective(trial : Trial, X : DataFrame,\n",
    "              y : np.ndarray | Series, \n",
    "              numerical_columns : Optional[list[str]]=None, \n",
    "              categorical_columns : Optional[list[str]]=None, \n",
    "              random_state : int=42) -> float:\n",
    "    \n",
    "    if numerical_columns is None:\n",
    "        numerical_columns = [\n",
    "            *X.select_dtypes(exclude=['object', 'category']).columns\n",
    "        ]\n",
    "    \n",
    "    if categorical_columns is None:\n",
    "        categorical_columns = [\n",
    "            *X.select_dtypes(include=['object', 'category']).columns\n",
    "        ]\n",
    "    \n",
    "    model = instantiate_model(trial, numerical_columns, categorical_columns)\n",
    "    kf = KFold(n_splits=5, shuffle=True, random_state=random_state)\n",
    "    r2 = make_scorer(r2_score)\n",
    "    scores = cross_val_score(model, X, y, scoring= r2, cv=kf)\n",
    "    \n",
    "    return np.min([np.mean(scores), np.median([scores])])"
   ]
  },
  {
   "cell_type": "code",
   "execution_count": 20,
   "id": "8b91f48f",
   "metadata": {},
   "outputs": [],
   "source": [
    "df = pd.read_csv('df_normal_quality.csv', index_col=0)\n",
    "y = df.SalePrice\n",
    "X = df.drop(['PID', 'SalePrice'], axis =1).copy()"
   ]
  },
  {
   "cell_type": "code",
   "execution_count": 21,
   "id": "f8d73b4f",
   "metadata": {},
   "outputs": [
    {
     "name": "stderr",
     "output_type": "stream",
     "text": [
      "[I 2024-05-31 07:26:05,472] A new study created in memory with name: optimization\n"
     ]
    }
   ],
   "source": [
    "from optuna import create_study\n",
    "\n",
    "study = create_study(study_name='optimization', direction='maximize')"
   ]
  },
  {
   "cell_type": "code",
   "execution_count": 22,
   "id": "03abe65d",
   "metadata": {},
   "outputs": [
    {
     "name": "stderr",
     "output_type": "stream",
     "text": [
      "[I 2024-05-31 07:27:14,676] Trial 0 finished with value: 0.8534689230641774 and parameters: {'scaling_method': 'minmax', 'encoding_method': 'ordinal', 'algorithm': 'gbr', 'n_estimators': 767, 'learning_rate': 0.0028366153642322566, 'max_depth': 3, 'subsample': 0.52779532452511, 'min_sample_split': 6, 'min_sample_leaf': 2}. Best is trial 0 with value: 0.8534689230641774.\n",
      "[I 2024-05-31 07:27:17,530] Trial 1 finished with value: -6.669552756007664 and parameters: {'scaling_method': 'minmax', 'encoding_method': 'ordinal', 'algorithm': 'xgb', 'n_estimators': 382, 'learning_rate': 0.0001701062406931514, 'max_depth': 5, 'subsample': 0.7974799759343989, 'colsample_bytree': 0.529374079799673, 'min_child_weight': 14}. Best is trial 0 with value: 0.8534689230641774.\n",
      "[I 2024-05-31 07:27:23,014] Trial 2 finished with value: 0.8983485182718915 and parameters: {'scaling_method': 'standard', 'encoding_method': 'ordinal', 'algorithm': 'xgb', 'n_estimators': 357, 'learning_rate': 0.6707334874038324, 'max_depth': 7, 'subsample': 0.9728693159657239, 'colsample_bytree': 0.5660990173618483, 'min_child_weight': 11}. Best is trial 2 with value: 0.8983485182718915.\n",
      "[I 2024-05-31 07:27:23,477] Trial 3 finished with value: 0.39119694583854603 and parameters: {'scaling_method': 'standard', 'encoding_method': 'onehot', 'drop': None, 'algorithm': 'lasso', 'alpha': 0.18694544168285343}. Best is trial 2 with value: 0.8983485182718915.\n",
      "C:\\Users\\Natal\\anaconda3\\Lib\\site-packages\\sklearn\\preprocessing\\_encoders.py:227: UserWarning:\n",
      "\n",
      "Found unknown categories in columns [3, 10] during transform. These unknown categories will be encoded as all zeros\n",
      "\n",
      "C:\\Users\\Natal\\anaconda3\\Lib\\site-packages\\sklearn\\preprocessing\\_encoders.py:227: UserWarning:\n",
      "\n",
      "Found unknown categories in columns [3, 9, 14] during transform. These unknown categories will be encoded as all zeros\n",
      "\n",
      "C:\\Users\\Natal\\anaconda3\\Lib\\site-packages\\sklearn\\preprocessing\\_encoders.py:227: UserWarning:\n",
      "\n",
      "Found unknown categories in columns [5, 21] during transform. These unknown categories will be encoded as all zeros\n",
      "\n",
      "C:\\Users\\Natal\\anaconda3\\Lib\\site-packages\\sklearn\\preprocessing\\_encoders.py:227: UserWarning:\n",
      "\n",
      "Found unknown categories in columns [9, 21] during transform. These unknown categories will be encoded as all zeros\n",
      "\n",
      "C:\\Users\\Natal\\anaconda3\\Lib\\site-packages\\sklearn\\preprocessing\\_encoders.py:227: UserWarning:\n",
      "\n",
      "Found unknown categories in columns [0] during transform. These unknown categories will be encoded as all zeros\n",
      "\n",
      "[I 2024-05-31 07:30:16,811] Trial 4 finished with value: 0.9025630608762469 and parameters: {'scaling_method': 'standard', 'encoding_method': 'onehot', 'drop': 'first', 'algorithm': 'rf', 'bootstrap': True, 'n_estimators': 376, 'max_depth': 98, 'min_sample_split': 9, 'min_sample_leaf': 2}. Best is trial 4 with value: 0.9025630608762469.\n",
      "[I 2024-05-31 07:30:17,136] Trial 5 finished with value: -0.029441307066881618 and parameters: {'scaling_method': 'minmax', 'encoding_method': 'ordinal', 'algorithm': 'lasso', 'alpha': 1.8558822881064276}. Best is trial 4 with value: 0.9025630608762469.\n",
      "[I 2024-05-31 07:30:17,471] Trial 6 finished with value: -0.029441307066881618 and parameters: {'scaling_method': 'minmax', 'encoding_method': 'onehot', 'drop': None, 'algorithm': 'lasso', 'alpha': 0.5868295930802511}. Best is trial 4 with value: 0.9025630608762469.\n",
      "[I 2024-05-31 07:31:27,927] Trial 7 finished with value: 0.7753083314731837 and parameters: {'scaling_method': 'robust', 'encoding_method': 'ordinal', 'algorithm': 'ada', 'learning_rate': 0.0029035326951488273, 'loss': 'linear', 'n_estimators': 629}. Best is trial 4 with value: 0.9025630608762469.\n",
      "[I 2024-05-31 07:31:28,314] Trial 8 finished with value: 0.8798457339669232 and parameters: {'scaling_method': 'standard', 'encoding_method': 'ordinal', 'algorithm': 'en', 'alpha': 0.07463511030989889}. Best is trial 4 with value: 0.9025630608762469.\n",
      "C:\\Users\\Natal\\anaconda3\\Lib\\site-packages\\sklearn\\preprocessing\\_encoders.py:227: UserWarning:\n",
      "\n",
      "Found unknown categories in columns [3, 10] during transform. These unknown categories will be encoded as all zeros\n",
      "\n",
      "C:\\Users\\Natal\\anaconda3\\Lib\\site-packages\\sklearn\\preprocessing\\_encoders.py:227: UserWarning:\n",
      "\n",
      "Found unknown categories in columns [3, 9, 14] during transform. These unknown categories will be encoded as all zeros\n",
      "\n",
      "C:\\Users\\Natal\\anaconda3\\Lib\\site-packages\\sklearn\\preprocessing\\_encoders.py:227: UserWarning:\n",
      "\n",
      "Found unknown categories in columns [5, 21] during transform. These unknown categories will be encoded as all zeros\n",
      "\n",
      "C:\\Users\\Natal\\anaconda3\\Lib\\site-packages\\sklearn\\preprocessing\\_encoders.py:227: UserWarning:\n",
      "\n",
      "Found unknown categories in columns [9, 21] during transform. These unknown categories will be encoded as all zeros\n",
      "\n",
      "C:\\Users\\Natal\\anaconda3\\Lib\\site-packages\\sklearn\\preprocessing\\_encoders.py:227: UserWarning:\n",
      "\n",
      "Found unknown categories in columns [0] during transform. These unknown categories will be encoded as all zeros\n",
      "\n",
      "[I 2024-05-31 07:31:28,910] Trial 9 finished with value: -0.029441307066881618 and parameters: {'scaling_method': 'robust', 'encoding_method': 'onehot', 'drop': 'first', 'algorithm': 'lasso', 'alpha': 3.9837724751131334}. Best is trial 4 with value: 0.9025630608762469.\n",
      "C:\\Users\\Natal\\anaconda3\\Lib\\site-packages\\sklearn\\preprocessing\\_encoders.py:227: UserWarning:\n",
      "\n",
      "Found unknown categories in columns [3, 10] during transform. These unknown categories will be encoded as all zeros\n",
      "\n",
      "C:\\Users\\Natal\\anaconda3\\Lib\\site-packages\\sklearn\\preprocessing\\_encoders.py:227: UserWarning:\n",
      "\n",
      "Found unknown categories in columns [3, 9, 14] during transform. These unknown categories will be encoded as all zeros\n",
      "\n",
      "C:\\Users\\Natal\\anaconda3\\Lib\\site-packages\\sklearn\\preprocessing\\_encoders.py:227: UserWarning:\n",
      "\n",
      "Found unknown categories in columns [5, 21] during transform. These unknown categories will be encoded as all zeros\n",
      "\n",
      "C:\\Users\\Natal\\anaconda3\\Lib\\site-packages\\sklearn\\preprocessing\\_encoders.py:227: UserWarning:\n",
      "\n",
      "Found unknown categories in columns [9, 21] during transform. These unknown categories will be encoded as all zeros\n",
      "\n",
      "C:\\Users\\Natal\\anaconda3\\Lib\\site-packages\\sklearn\\preprocessing\\_encoders.py:227: UserWarning:\n",
      "\n",
      "Found unknown categories in columns [0] during transform. These unknown categories will be encoded as all zeros\n",
      "\n",
      "[I 2024-05-31 07:31:47,077] Trial 10 finished with value: 0.9005583814485196 and parameters: {'scaling_method': 'maxabs', 'encoding_method': 'onehot', 'drop': 'first', 'algorithm': 'rf', 'bootstrap': True, 'n_estimators': 46, 'max_depth': 96, 'min_sample_split': 10, 'min_sample_leaf': 4}. Best is trial 4 with value: 0.9025630608762469.\n",
      "C:\\Users\\Natal\\anaconda3\\Lib\\site-packages\\sklearn\\preprocessing\\_encoders.py:227: UserWarning:\n",
      "\n",
      "Found unknown categories in columns [3, 10] during transform. These unknown categories will be encoded as all zeros\n",
      "\n",
      "C:\\Users\\Natal\\anaconda3\\Lib\\site-packages\\sklearn\\preprocessing\\_encoders.py:227: UserWarning:\n",
      "\n",
      "Found unknown categories in columns [3, 9, 14] during transform. These unknown categories will be encoded as all zeros\n",
      "\n",
      "C:\\Users\\Natal\\anaconda3\\Lib\\site-packages\\sklearn\\preprocessing\\_encoders.py:227: UserWarning:\n",
      "\n",
      "Found unknown categories in columns [5, 21] during transform. These unknown categories will be encoded as all zeros\n",
      "\n",
      "C:\\Users\\Natal\\anaconda3\\Lib\\site-packages\\sklearn\\preprocessing\\_encoders.py:227: UserWarning:\n",
      "\n",
      "Found unknown categories in columns [9, 21] during transform. These unknown categories will be encoded as all zeros\n",
      "\n",
      "C:\\Users\\Natal\\anaconda3\\Lib\\site-packages\\sklearn\\preprocessing\\_encoders.py:227: UserWarning:\n",
      "\n",
      "Found unknown categories in columns [0] during transform. These unknown categories will be encoded as all zeros\n",
      "\n",
      "[I 2024-05-31 07:31:54,328] Trial 11 finished with value: 0.8984310859548998 and parameters: {'scaling_method': 'maxabs', 'encoding_method': 'onehot', 'drop': 'first', 'algorithm': 'rf', 'bootstrap': True, 'n_estimators': 18, 'max_depth': 100, 'min_sample_split': 10, 'min_sample_leaf': 4}. Best is trial 4 with value: 0.9025630608762469.\n",
      "C:\\Users\\Natal\\anaconda3\\Lib\\site-packages\\sklearn\\preprocessing\\_encoders.py:227: UserWarning:\n",
      "\n",
      "Found unknown categories in columns [3, 10] during transform. These unknown categories will be encoded as all zeros\n",
      "\n"
     ]
    },
    {
     "name": "stderr",
     "output_type": "stream",
     "text": [
      "C:\\Users\\Natal\\anaconda3\\Lib\\site-packages\\sklearn\\preprocessing\\_encoders.py:227: UserWarning:\n",
      "\n",
      "Found unknown categories in columns [3, 9, 14] during transform. These unknown categories will be encoded as all zeros\n",
      "\n",
      "C:\\Users\\Natal\\anaconda3\\Lib\\site-packages\\sklearn\\preprocessing\\_encoders.py:227: UserWarning:\n",
      "\n",
      "Found unknown categories in columns [5, 21] during transform. These unknown categories will be encoded as all zeros\n",
      "\n",
      "C:\\Users\\Natal\\anaconda3\\Lib\\site-packages\\sklearn\\preprocessing\\_encoders.py:227: UserWarning:\n",
      "\n",
      "Found unknown categories in columns [9, 21] during transform. These unknown categories will be encoded as all zeros\n",
      "\n",
      "C:\\Users\\Natal\\anaconda3\\Lib\\site-packages\\sklearn\\preprocessing\\_encoders.py:227: UserWarning:\n",
      "\n",
      "Found unknown categories in columns [0] during transform. These unknown categories will be encoded as all zeros\n",
      "\n",
      "[I 2024-05-31 07:32:44,409] Trial 12 finished with value: 0.9026055886209007 and parameters: {'scaling_method': 'maxabs', 'encoding_method': 'onehot', 'drop': 'first', 'algorithm': 'rf', 'bootstrap': True, 'n_estimators': 112, 'max_depth': 100, 'min_sample_split': 10, 'min_sample_leaf': 2}. Best is trial 12 with value: 0.9026055886209007.\n",
      "C:\\Users\\Natal\\anaconda3\\Lib\\site-packages\\sklearn\\preprocessing\\_encoders.py:227: UserWarning:\n",
      "\n",
      "Found unknown categories in columns [3, 10] during transform. These unknown categories will be encoded as all zeros\n",
      "\n",
      "C:\\Users\\Natal\\anaconda3\\Lib\\site-packages\\sklearn\\preprocessing\\_encoders.py:227: UserWarning:\n",
      "\n",
      "Found unknown categories in columns [3, 9, 14] during transform. These unknown categories will be encoded as all zeros\n",
      "\n",
      "C:\\Users\\Natal\\anaconda3\\Lib\\site-packages\\sklearn\\preprocessing\\_encoders.py:227: UserWarning:\n",
      "\n",
      "Found unknown categories in columns [5, 21] during transform. These unknown categories will be encoded as all zeros\n",
      "\n",
      "C:\\Users\\Natal\\anaconda3\\Lib\\site-packages\\sklearn\\preprocessing\\_encoders.py:227: UserWarning:\n",
      "\n",
      "Found unknown categories in columns [9, 21] during transform. These unknown categories will be encoded as all zeros\n",
      "\n",
      "C:\\Users\\Natal\\anaconda3\\Lib\\site-packages\\sklearn\\preprocessing\\_encoders.py:227: UserWarning:\n",
      "\n",
      "Found unknown categories in columns [0] during transform. These unknown categories will be encoded as all zeros\n",
      "\n",
      "[I 2024-05-31 07:32:44,893] Trial 13 finished with value: 0.9457598590068322 and parameters: {'scaling_method': 'maxabs', 'encoding_method': 'onehot', 'drop': 'first', 'algorithm': 'ridge', 'alpha': 0.00034760007233794075}. Best is trial 13 with value: 0.9457598590068322.\n",
      "C:\\Users\\Natal\\anaconda3\\Lib\\site-packages\\sklearn\\preprocessing\\_encoders.py:227: UserWarning:\n",
      "\n",
      "Found unknown categories in columns [3, 10] during transform. These unknown categories will be encoded as all zeros\n",
      "\n",
      "C:\\Users\\Natal\\anaconda3\\Lib\\site-packages\\sklearn\\preprocessing\\_encoders.py:227: UserWarning:\n",
      "\n",
      "Found unknown categories in columns [3, 9, 14] during transform. These unknown categories will be encoded as all zeros\n",
      "\n",
      "C:\\Users\\Natal\\anaconda3\\Lib\\site-packages\\sklearn\\preprocessing\\_encoders.py:227: UserWarning:\n",
      "\n",
      "Found unknown categories in columns [5, 21] during transform. These unknown categories will be encoded as all zeros\n",
      "\n",
      "C:\\Users\\Natal\\anaconda3\\Lib\\site-packages\\sklearn\\preprocessing\\_encoders.py:227: UserWarning:\n",
      "\n",
      "Found unknown categories in columns [9, 21] during transform. These unknown categories will be encoded as all zeros\n",
      "\n",
      "C:\\Users\\Natal\\anaconda3\\Lib\\site-packages\\sklearn\\preprocessing\\_encoders.py:227: UserWarning:\n",
      "\n",
      "Found unknown categories in columns [0] during transform. These unknown categories will be encoded as all zeros\n",
      "\n",
      "[I 2024-05-31 07:32:45,392] Trial 14 finished with value: 0.9457630363396812 and parameters: {'scaling_method': 'maxabs', 'encoding_method': 'onehot', 'drop': 'first', 'algorithm': 'ridge', 'alpha': 0.00020410940914510254}. Best is trial 14 with value: 0.9457630363396812.\n",
      "C:\\Users\\Natal\\anaconda3\\Lib\\site-packages\\sklearn\\preprocessing\\_encoders.py:227: UserWarning:\n",
      "\n",
      "Found unknown categories in columns [3, 10] during transform. These unknown categories will be encoded as all zeros\n",
      "\n",
      "C:\\Users\\Natal\\anaconda3\\Lib\\site-packages\\sklearn\\preprocessing\\_encoders.py:227: UserWarning:\n",
      "\n",
      "Found unknown categories in columns [3, 9, 14] during transform. These unknown categories will be encoded as all zeros\n",
      "\n",
      "C:\\Users\\Natal\\anaconda3\\Lib\\site-packages\\sklearn\\preprocessing\\_encoders.py:227: UserWarning:\n",
      "\n",
      "Found unknown categories in columns [5, 21] during transform. These unknown categories will be encoded as all zeros\n",
      "\n",
      "C:\\Users\\Natal\\anaconda3\\Lib\\site-packages\\sklearn\\preprocessing\\_encoders.py:227: UserWarning:\n",
      "\n",
      "Found unknown categories in columns [9, 21] during transform. These unknown categories will be encoded as all zeros\n",
      "\n",
      "C:\\Users\\Natal\\anaconda3\\Lib\\site-packages\\sklearn\\preprocessing\\_encoders.py:227: UserWarning:\n",
      "\n",
      "Found unknown categories in columns [0] during transform. These unknown categories will be encoded as all zeros\n",
      "\n",
      "[I 2024-05-31 07:32:45,893] Trial 15 finished with value: 0.9457664105624257 and parameters: {'scaling_method': 'maxabs', 'encoding_method': 'onehot', 'drop': 'first', 'algorithm': 'ridge', 'alpha': 0.00010637270398305505}. Best is trial 15 with value: 0.9457664105624257.\n",
      "C:\\Users\\Natal\\anaconda3\\Lib\\site-packages\\sklearn\\preprocessing\\_encoders.py:227: UserWarning:\n",
      "\n",
      "Found unknown categories in columns [3, 10] during transform. These unknown categories will be encoded as all zeros\n",
      "\n",
      "C:\\Users\\Natal\\anaconda3\\Lib\\site-packages\\sklearn\\preprocessing\\_encoders.py:227: UserWarning:\n",
      "\n",
      "Found unknown categories in columns [3, 9, 14] during transform. These unknown categories will be encoded as all zeros\n",
      "\n",
      "C:\\Users\\Natal\\anaconda3\\Lib\\site-packages\\sklearn\\preprocessing\\_encoders.py:227: UserWarning:\n",
      "\n",
      "Found unknown categories in columns [5, 21] during transform. These unknown categories will be encoded as all zeros\n",
      "\n",
      "C:\\Users\\Natal\\anaconda3\\Lib\\site-packages\\sklearn\\preprocessing\\_encoders.py:227: UserWarning:\n",
      "\n",
      "Found unknown categories in columns [9, 21] during transform. These unknown categories will be encoded as all zeros\n",
      "\n",
      "C:\\Users\\Natal\\anaconda3\\Lib\\site-packages\\sklearn\\preprocessing\\_encoders.py:227: UserWarning:\n",
      "\n",
      "Found unknown categories in columns [0] during transform. These unknown categories will be encoded as all zeros\n",
      "\n",
      "[I 2024-05-31 07:32:46,375] Trial 16 finished with value: 0.9457657509306119 and parameters: {'scaling_method': 'maxabs', 'encoding_method': 'onehot', 'drop': 'first', 'algorithm': 'ridge', 'alpha': 0.00012311605679866708}. Best is trial 15 with value: 0.9457664105624257.\n",
      "[I 2024-05-31 07:32:46,843] Trial 17 finished with value: 0.9458272928332769 and parameters: {'scaling_method': 'maxabs', 'encoding_method': 'onehot', 'drop': None, 'algorithm': 'ridge', 'alpha': 0.0034573793212777336}. Best is trial 17 with value: 0.9458272928332769.\n",
      "[I 2024-05-31 07:32:47,343] Trial 18 finished with value: 0.9458602732859056 and parameters: {'scaling_method': 'maxabs', 'encoding_method': 'onehot', 'drop': None, 'algorithm': 'ridge', 'alpha': 0.006215148235411284}. Best is trial 18 with value: 0.9458602732859056.\n",
      "[I 2024-05-31 07:32:47,809] Trial 19 finished with value: 0.9458687372367122 and parameters: {'scaling_method': 'maxabs', 'encoding_method': 'onehot', 'drop': None, 'algorithm': 'ridge', 'alpha': 0.007331218774057828}. Best is trial 19 with value: 0.9458687372367122.\n",
      "[I 2024-05-31 07:34:57,857] Trial 20 finished with value: 0.876856448546339 and parameters: {'scaling_method': 'robust', 'encoding_method': 'onehot', 'drop': None, 'algorithm': 'ada', 'learning_rate': 0.7667975049853252, 'loss': 'exponential', 'n_estimators': 918}. Best is trial 19 with value: 0.9458687372367122.\n",
      "[I 2024-05-31 07:34:58,258] Trial 21 finished with value: 0.945878747125674 and parameters: {'scaling_method': 'maxabs', 'encoding_method': 'onehot', 'drop': None, 'algorithm': 'ridge', 'alpha': 0.009656736048741291}. Best is trial 21 with value: 0.945878747125674.\n",
      "[I 2024-05-31 07:34:58,656] Trial 22 finished with value: 0.9458788067499121 and parameters: {'scaling_method': 'maxabs', 'encoding_method': 'onehot', 'drop': None, 'algorithm': 'ridge', 'alpha': 0.009682163254378208}. Best is trial 22 with value: 0.9458788067499121.\n"
     ]
    },
    {
     "name": "stderr",
     "output_type": "stream",
     "text": [
      "[I 2024-05-31 07:34:59,074] Trial 23 finished with value: 0.577040401256889 and parameters: {'scaling_method': 'maxabs', 'encoding_method': 'onehot', 'drop': None, 'algorithm': 'ridge', 'alpha': 957.5689866973827}. Best is trial 22 with value: 0.9458788067499121.\n",
      "[I 2024-05-31 07:35:57,373] Trial 24 finished with value: 0.9453253751550055 and parameters: {'scaling_method': 'maxabs', 'encoding_method': 'onehot', 'drop': None, 'algorithm': 'gbr', 'n_estimators': 1000, 'learning_rate': 0.03744695920657587, 'max_depth': 2, 'subsample': 0.5091479863132224, 'min_sample_split': 6, 'min_sample_leaf': 10}. Best is trial 22 with value: 0.9458788067499121.\n",
      "[I 2024-05-31 07:35:57,790] Trial 25 finished with value: 0.8902797960369311 and parameters: {'scaling_method': 'maxabs', 'encoding_method': 'onehot', 'drop': None, 'algorithm': 'en', 'alpha': 0.00764193776184547}. Best is trial 22 with value: 0.9458788067499121.\n",
      "[I 2024-05-31 07:35:58,191] Trial 26 finished with value: 0.9457794732062131 and parameters: {'scaling_method': 'maxabs', 'encoding_method': 'onehot', 'drop': None, 'algorithm': 'ridge', 'alpha': 0.02975630106959021}. Best is trial 22 with value: 0.9458788067499121.\n",
      "[I 2024-05-31 07:35:58,607] Trial 27 finished with value: 0.9457972831177119 and parameters: {'scaling_method': 'maxabs', 'encoding_method': 'onehot', 'drop': None, 'algorithm': 'ridge', 'alpha': 0.001553548947697273}. Best is trial 22 with value: 0.9458788067499121.\n",
      "[I 2024-05-31 07:35:59,156] Trial 28 finished with value: 0.945915477149828 and parameters: {'scaling_method': 'robust', 'encoding_method': 'onehot', 'drop': None, 'algorithm': 'ridge', 'alpha': 0.024757954572296487}. Best is trial 28 with value: 0.945915477149828.\n",
      "[I 2024-05-31 07:39:03,771] Trial 29 finished with value: 0.16785182733621468 and parameters: {'scaling_method': 'robust', 'encoding_method': 'ordinal', 'algorithm': 'gbr', 'n_estimators': 788, 'learning_rate': 0.00020500505408105124, 'max_depth': 5, 'subsample': 0.9975907844733649, 'min_sample_split': 8, 'min_sample_leaf': 9}. Best is trial 28 with value: 0.945915477149828.\n",
      "[I 2024-05-31 07:39:04,305] Trial 30 finished with value: 0.9459371294702411 and parameters: {'scaling_method': 'robust', 'encoding_method': 'onehot', 'drop': None, 'algorithm': 'ridge', 'alpha': 0.02986651477332422}. Best is trial 30 with value: 0.9459371294702411.\n",
      "[I 2024-05-31 07:39:04,855] Trial 31 finished with value: 0.9460194962009393 and parameters: {'scaling_method': 'robust', 'encoding_method': 'onehot', 'drop': None, 'algorithm': 'ridge', 'alpha': 0.05020454634788718}. Best is trial 31 with value: 0.9460194962009393.\n",
      "[I 2024-05-31 07:39:27,822] Trial 32 finished with value: 0.9449133493261778 and parameters: {'scaling_method': 'robust', 'encoding_method': 'onehot', 'drop': None, 'algorithm': 'xgb', 'n_estimators': 557, 'learning_rate': 0.07686462648614949, 'max_depth': 7, 'subsample': 0.7007900317182986, 'colsample_bytree': 0.9803625544404208, 'min_child_weight': 19}. Best is trial 31 with value: 0.9460194962009393.\n",
      "[I 2024-05-31 07:39:28,445] Trial 33 finished with value: 0.9460120876074563 and parameters: {'scaling_method': 'robust', 'encoding_method': 'onehot', 'drop': None, 'algorithm': 'ridge', 'alpha': 0.048314679349465886}. Best is trial 31 with value: 0.9460194962009393.\n",
      "[I 2024-05-31 07:39:30,707] Trial 34 finished with value: -6.667630654526094 and parameters: {'scaling_method': 'robust', 'encoding_method': 'ordinal', 'algorithm': 'xgb', 'n_estimators': 236, 'learning_rate': 0.0011963095016014837, 'max_depth': 7, 'subsample': 0.7794730782431133, 'colsample_bytree': 0.8885943926626825, 'min_child_weight': 20}. Best is trial 31 with value: 0.9460194962009393.\n",
      "[I 2024-05-31 07:39:31,271] Trial 35 finished with value: 0.9461196871808346 and parameters: {'scaling_method': 'robust', 'encoding_method': 'onehot', 'drop': None, 'algorithm': 'ridge', 'alpha': 0.07701327640342204}. Best is trial 35 with value: 0.9461196871808346.\n",
      "[I 2024-05-31 07:39:31,754] Trial 36 finished with value: 0.2754569539199861 and parameters: {'scaling_method': 'robust', 'encoding_method': 'onehot', 'drop': None, 'algorithm': 'en', 'alpha': 0.2995892509703198}. Best is trial 35 with value: 0.9461196871808346.\n",
      "[I 2024-05-31 07:39:55,689] Trial 37 finished with value: 0.8425050255310136 and parameters: {'scaling_method': 'robust', 'encoding_method': 'ordinal', 'algorithm': 'ada', 'learning_rate': 0.06593327151404603, 'loss': 'square', 'n_estimators': 218}. Best is trial 35 with value: 0.9461196871808346.\n",
      "[I 2024-05-31 07:40:58,134] Trial 38 finished with value: 0.9367039075202874 and parameters: {'scaling_method': 'robust', 'encoding_method': 'onehot', 'drop': None, 'algorithm': 'gbr', 'n_estimators': 858, 'learning_rate': 0.01675324056246886, 'max_depth': 2, 'subsample': 0.6394011481008399, 'min_sample_split': 8, 'min_sample_leaf': 7}. Best is trial 35 with value: 0.9461196871808346.\n",
      "[I 2024-05-31 07:40:58,502] Trial 39 finished with value: 0.941157283091346 and parameters: {'scaling_method': 'minmax', 'encoding_method': 'ordinal', 'algorithm': 'ridge', 'alpha': 0.08228069765135829}. Best is trial 35 with value: 0.9461196871808346.\n",
      "[I 2024-05-31 07:40:59,037] Trial 40 finished with value: 0.949816918538709 and parameters: {'scaling_method': 'robust', 'encoding_method': 'onehot', 'drop': None, 'algorithm': 'ridge', 'alpha': 11.654416902272764}. Best is trial 40 with value: 0.949816918538709.\n",
      "[I 2024-05-31 07:40:59,537] Trial 41 finished with value: 0.9355564611446272 and parameters: {'scaling_method': 'robust', 'encoding_method': 'onehot', 'drop': None, 'algorithm': 'ridge', 'alpha': 370.18772733615316}. Best is trial 40 with value: 0.949816918538709.\n",
      "[I 2024-05-31 07:41:00,102] Trial 42 finished with value: 0.9499522348640677 and parameters: {'scaling_method': 'robust', 'encoding_method': 'onehot', 'drop': None, 'algorithm': 'ridge', 'alpha': 31.963605990622764}. Best is trial 42 with value: 0.9499522348640677.\n",
      "[I 2024-05-31 07:41:00,642] Trial 43 finished with value: -0.029441307066881618 and parameters: {'scaling_method': 'robust', 'encoding_method': 'onehot', 'drop': None, 'algorithm': 'lasso', 'alpha': 40.810550267844576}. Best is trial 42 with value: 0.9499522348640677.\n",
      "[I 2024-05-31 07:41:01,121] Trial 44 finished with value: 0.949488270955138 and parameters: {'scaling_method': 'standard', 'encoding_method': 'onehot', 'drop': None, 'algorithm': 'ridge', 'alpha': 38.46167045979947}. Best is trial 42 with value: 0.9499522348640677.\n",
      "[I 2024-05-31 07:41:21,844] Trial 45 finished with value: 0.9381501355880735 and parameters: {'scaling_method': 'standard', 'encoding_method': 'onehot', 'drop': None, 'algorithm': 'xgb', 'n_estimators': 647, 'learning_rate': 0.21643457242880457, 'max_depth': 6, 'subsample': 0.8752936071778739, 'colsample_bytree': 0.7398248355760053, 'min_child_weight': 10}. Best is trial 42 with value: 0.9499522348640677.\n",
      "[I 2024-05-31 07:41:22,286] Trial 46 finished with value: 0.9496646934881816 and parameters: {'scaling_method': 'standard', 'encoding_method': 'onehot', 'drop': None, 'algorithm': 'ridge', 'alpha': 26.272595957510102}. Best is trial 42 with value: 0.9499522348640677.\n",
      "[I 2024-05-31 07:45:22,433] Trial 47 finished with value: 0.8344907524014218 and parameters: {'scaling_method': 'standard', 'encoding_method': 'onehot', 'drop': None, 'algorithm': 'rf', 'bootstrap': False, 'n_estimators': 482, 'max_depth': 54, 'min_sample_split': 2, 'min_sample_leaf': 7}. Best is trial 42 with value: 0.9499522348640677.\n",
      "[I 2024-05-31 07:45:22,796] Trial 48 finished with value: -0.029441307066881618 and parameters: {'scaling_method': 'standard', 'encoding_method': 'ordinal', 'algorithm': 'lasso', 'alpha': 32.286069783163846}. Best is trial 42 with value: 0.9499522348640677.\n",
      "[I 2024-05-31 07:45:49,081] Trial 49 finished with value: 0.7451819448017094 and parameters: {'scaling_method': 'standard', 'encoding_method': 'onehot', 'drop': None, 'algorithm': 'ada', 'learning_rate': 0.0006873767001023671, 'loss': 'exponential', 'n_estimators': 157}. Best is trial 42 with value: 0.9499522348640677.\n",
      "[I 2024-05-31 07:45:49,542] Trial 50 finished with value: 0.9496290725633034 and parameters: {'scaling_method': 'standard', 'encoding_method': 'onehot', 'drop': None, 'algorithm': 'ridge', 'alpha': 29.549452125173403}. Best is trial 42 with value: 0.9499522348640677.\n"
     ]
    },
    {
     "name": "stderr",
     "output_type": "stream",
     "text": [
      "[I 2024-05-31 07:45:49,961] Trial 51 finished with value: 0.949669214435516 and parameters: {'scaling_method': 'standard', 'encoding_method': 'onehot', 'drop': None, 'algorithm': 'ridge', 'alpha': 25.752073839163717}. Best is trial 42 with value: 0.9499522348640677.\n",
      "[I 2024-05-31 07:45:50,396] Trial 52 finished with value: 0.9496810295998003 and parameters: {'scaling_method': 'standard', 'encoding_method': 'onehot', 'drop': None, 'algorithm': 'ridge', 'alpha': 24.11339626123322}. Best is trial 42 with value: 0.9499522348640677.\n",
      "[I 2024-05-31 07:45:50,874] Trial 53 finished with value: 0.9495325341174727 and parameters: {'scaling_method': 'standard', 'encoding_method': 'onehot', 'drop': None, 'algorithm': 'ridge', 'alpha': 11.284535868983939}. Best is trial 42 with value: 0.9499522348640677.\n",
      "[I 2024-05-31 07:45:51,375] Trial 54 finished with value: 0.9477255936749225 and parameters: {'scaling_method': 'standard', 'encoding_method': 'onehot', 'drop': None, 'algorithm': 'ridge', 'alpha': 112.33434457397904}. Best is trial 42 with value: 0.9499522348640677.\n",
      "[I 2024-05-31 07:45:51,755] Trial 55 finished with value: -0.029441307066881618 and parameters: {'scaling_method': 'standard', 'encoding_method': 'onehot', 'drop': None, 'algorithm': 'en', 'alpha': 4.292948764522322}. Best is trial 42 with value: 0.9499522348640677.\n",
      "C:\\Users\\Natal\\anaconda3\\Lib\\site-packages\\sklearn\\preprocessing\\_encoders.py:227: UserWarning:\n",
      "\n",
      "Found unknown categories in columns [3, 10] during transform. These unknown categories will be encoded as all zeros\n",
      "\n",
      "C:\\Users\\Natal\\anaconda3\\Lib\\site-packages\\sklearn\\preprocessing\\_encoders.py:227: UserWarning:\n",
      "\n",
      "Found unknown categories in columns [3, 9, 14] during transform. These unknown categories will be encoded as all zeros\n",
      "\n",
      "C:\\Users\\Natal\\anaconda3\\Lib\\site-packages\\sklearn\\preprocessing\\_encoders.py:227: UserWarning:\n",
      "\n",
      "Found unknown categories in columns [5, 21] during transform. These unknown categories will be encoded as all zeros\n",
      "\n",
      "C:\\Users\\Natal\\anaconda3\\Lib\\site-packages\\sklearn\\preprocessing\\_encoders.py:227: UserWarning:\n",
      "\n",
      "Found unknown categories in columns [9, 21] during transform. These unknown categories will be encoded as all zeros\n",
      "\n",
      "C:\\Users\\Natal\\anaconda3\\Lib\\site-packages\\sklearn\\preprocessing\\_encoders.py:227: UserWarning:\n",
      "\n",
      "Found unknown categories in columns [0] during transform. These unknown categories will be encoded as all zeros\n",
      "\n",
      "[I 2024-05-31 07:45:52,194] Trial 56 finished with value: 0.9494862134780414 and parameters: {'scaling_method': 'standard', 'encoding_method': 'onehot', 'drop': 'first', 'algorithm': 'ridge', 'alpha': 11.98745990441318}. Best is trial 42 with value: 0.9499522348640677.\n",
      "[I 2024-05-31 07:45:52,554] Trial 57 finished with value: 0.8143552308391679 and parameters: {'scaling_method': 'minmax', 'encoding_method': 'onehot', 'drop': None, 'algorithm': 'ridge', 'alpha': 179.7818120082185}. Best is trial 42 with value: 0.9499522348640677.\n",
      "[I 2024-05-31 07:45:52,962] Trial 58 finished with value: 0.9474704617216017 and parameters: {'scaling_method': 'standard', 'encoding_method': 'onehot', 'drop': None, 'algorithm': 'ridge', 'alpha': 0.8952293128861518}. Best is trial 42 with value: 0.9499522348640677.\n",
      "C:\\Users\\Natal\\anaconda3\\Lib\\site-packages\\sklearn\\preprocessing\\_encoders.py:227: UserWarning:\n",
      "\n",
      "Found unknown categories in columns [3, 10] during transform. These unknown categories will be encoded as all zeros\n",
      "\n",
      "C:\\Users\\Natal\\anaconda3\\Lib\\site-packages\\sklearn\\preprocessing\\_encoders.py:227: UserWarning:\n",
      "\n",
      "Found unknown categories in columns [3, 9, 14] during transform. These unknown categories will be encoded as all zeros\n",
      "\n",
      "C:\\Users\\Natal\\anaconda3\\Lib\\site-packages\\sklearn\\preprocessing\\_encoders.py:227: UserWarning:\n",
      "\n",
      "Found unknown categories in columns [5, 21] during transform. These unknown categories will be encoded as all zeros\n",
      "\n",
      "C:\\Users\\Natal\\anaconda3\\Lib\\site-packages\\sklearn\\preprocessing\\_encoders.py:227: UserWarning:\n",
      "\n",
      "Found unknown categories in columns [9, 21] during transform. These unknown categories will be encoded as all zeros\n",
      "\n",
      "C:\\Users\\Natal\\anaconda3\\Lib\\site-packages\\sklearn\\preprocessing\\_encoders.py:227: UserWarning:\n",
      "\n",
      "Found unknown categories in columns [0] during transform. These unknown categories will be encoded as all zeros\n",
      "\n",
      "[I 2024-05-31 07:51:38,479] Trial 59 finished with value: 0.8359664915378944 and parameters: {'scaling_method': 'standard', 'encoding_method': 'onehot', 'drop': 'first', 'algorithm': 'rf', 'bootstrap': False, 'n_estimators': 700, 'max_depth': 29, 'min_sample_split': 2, 'min_sample_leaf': 6}. Best is trial 42 with value: 0.9499522348640677.\n",
      "[I 2024-05-31 07:51:38,939] Trial 60 finished with value: 0.9495539906198888 and parameters: {'scaling_method': 'standard', 'encoding_method': 'onehot', 'drop': None, 'algorithm': 'ridge', 'alpha': 11.814083507536127}. Best is trial 42 with value: 0.9499522348640677.\n",
      "[I 2024-05-31 07:51:39,402] Trial 61 finished with value: 0.9495648815092649 and parameters: {'scaling_method': 'standard', 'encoding_method': 'onehot', 'drop': None, 'algorithm': 'ridge', 'alpha': 12.10654690230858}. Best is trial 42 with value: 0.9499522348640677.\n",
      "[I 2024-05-31 07:51:39,880] Trial 62 finished with value: 0.94856638856684 and parameters: {'scaling_method': 'standard', 'encoding_method': 'onehot', 'drop': None, 'algorithm': 'ridge', 'alpha': 3.1156028237573397}. Best is trial 42 with value: 0.9499522348640677.\n",
      "[I 2024-05-31 07:51:40,316] Trial 63 finished with value: 0.9485519384531266 and parameters: {'scaling_method': 'standard', 'encoding_method': 'onehot', 'drop': None, 'algorithm': 'ridge', 'alpha': 79.56127085078204}. Best is trial 42 with value: 0.9499522348640677.\n",
      "[I 2024-05-31 07:51:40,738] Trial 64 finished with value: 0.9496910380632781 and parameters: {'scaling_method': 'standard', 'encoding_method': 'onehot', 'drop': None, 'algorithm': 'ridge', 'alpha': 20.335074017874735}. Best is trial 42 with value: 0.9499522348640677.\n",
      "[I 2024-05-31 07:51:41,179] Trial 65 finished with value: 0.9496623529760345 and parameters: {'scaling_method': 'standard', 'encoding_method': 'onehot', 'drop': None, 'algorithm': 'ridge', 'alpha': 26.527699156703473}. Best is trial 42 with value: 0.9499522348640677.\n",
      "C:\\Users\\Natal\\anaconda3\\Lib\\site-packages\\sklearn\\preprocessing\\_encoders.py:227: UserWarning:\n",
      "\n",
      "Found unknown categories in columns [3, 10] during transform. These unknown categories will be encoded as all zeros\n",
      "\n",
      "C:\\Users\\Natal\\anaconda3\\Lib\\site-packages\\sklearn\\preprocessing\\_encoders.py:227: UserWarning:\n",
      "\n",
      "Found unknown categories in columns [3, 9, 14] during transform. These unknown categories will be encoded as all zeros\n",
      "\n",
      "C:\\Users\\Natal\\anaconda3\\Lib\\site-packages\\sklearn\\preprocessing\\_encoders.py:227: UserWarning:\n",
      "\n",
      "Found unknown categories in columns [5, 21] during transform. These unknown categories will be encoded as all zeros\n",
      "\n",
      "C:\\Users\\Natal\\anaconda3\\Lib\\site-packages\\sklearn\\preprocessing\\_encoders.py:227: UserWarning:\n",
      "\n",
      "Found unknown categories in columns [9, 21] during transform. These unknown categories will be encoded as all zeros\n",
      "\n",
      "C:\\Users\\Natal\\anaconda3\\Lib\\site-packages\\sklearn\\preprocessing\\_encoders.py:227: UserWarning:\n",
      "\n",
      "Found unknown categories in columns [0] during transform. These unknown categories will be encoded as all zeros\n",
      "\n",
      "[I 2024-05-31 07:51:41,640] Trial 66 finished with value: 0.9461653000076453 and parameters: {'scaling_method': 'minmax', 'encoding_method': 'onehot', 'drop': 'first', 'algorithm': 'ridge', 'alpha': 4.6336234348662115}. Best is trial 42 with value: 0.9499522348640677.\n",
      "[I 2024-05-31 07:53:36,735] Trial 67 finished with value: 0.9287580558440911 and parameters: {'scaling_method': 'standard', 'encoding_method': 'onehot', 'drop': None, 'algorithm': 'gbr', 'n_estimators': 1000, 'learning_rate': 0.0051714306608503825, 'max_depth': 3, 'subsample': 0.6090984934188113, 'min_sample_split': 7, 'min_sample_leaf': 4}. Best is trial 42 with value: 0.9499522348640677.\n",
      "[I 2024-05-31 07:54:29,898] Trial 68 finished with value: 0.8294517089556331 and parameters: {'scaling_method': 'standard', 'encoding_method': 'ordinal', 'algorithm': 'ada', 'learning_rate': 0.017652333259211585, 'loss': 'square', 'n_estimators': 513}. Best is trial 42 with value: 0.9499522348640677.\n"
     ]
    },
    {
     "name": "stderr",
     "output_type": "stream",
     "text": [
      "[I 2024-05-31 07:54:30,268] Trial 69 finished with value: -0.029441307066881618 and parameters: {'scaling_method': 'standard', 'encoding_method': 'onehot', 'drop': None, 'algorithm': 'lasso', 'alpha': 80.96550536271954}. Best is trial 42 with value: 0.9499522348640677.\n",
      "[I 2024-05-31 07:54:30,674] Trial 70 finished with value: 0.9479346630157572 and parameters: {'scaling_method': 'standard', 'encoding_method': 'onehot', 'drop': None, 'algorithm': 'ridge', 'alpha': 1.542381419829497}. Best is trial 42 with value: 0.9499522348640677.\n",
      "[I 2024-05-31 07:54:31,081] Trial 71 finished with value: 0.9496832036071915 and parameters: {'scaling_method': 'standard', 'encoding_method': 'onehot', 'drop': None, 'algorithm': 'ridge', 'alpha': 23.73258423726294}. Best is trial 42 with value: 0.9499522348640677.\n",
      "[I 2024-05-31 07:54:31,449] Trial 72 finished with value: 0.9496912164320612 and parameters: {'scaling_method': 'standard', 'encoding_method': 'onehot', 'drop': None, 'algorithm': 'ridge', 'alpha': 20.514269633015665}. Best is trial 42 with value: 0.9499522348640677.\n",
      "[I 2024-05-31 07:54:31,833] Trial 73 finished with value: 0.9492842998078617 and parameters: {'scaling_method': 'standard', 'encoding_method': 'onehot', 'drop': None, 'algorithm': 'ridge', 'alpha': 7.445933420258132}. Best is trial 42 with value: 0.9499522348640677.\n",
      "[I 2024-05-31 07:54:32,235] Trial 74 finished with value: 0.9496848023447189 and parameters: {'scaling_method': 'standard', 'encoding_method': 'onehot', 'drop': None, 'algorithm': 'ridge', 'alpha': 18.53538911338755}. Best is trial 42 with value: 0.9499522348640677.\n",
      "[I 2024-05-31 07:54:32,582] Trial 75 finished with value: -0.029441307066881618 and parameters: {'scaling_method': 'standard', 'encoding_method': 'onehot', 'drop': None, 'algorithm': 'en', 'alpha': 240.38997885236446}. Best is trial 42 with value: 0.9499522348640677.\n",
      "[I 2024-05-31 07:54:32,979] Trial 76 finished with value: 0.933431378484299 and parameters: {'scaling_method': 'minmax', 'encoding_method': 'onehot', 'drop': None, 'algorithm': 'ridge', 'alpha': 18.85697002577167}. Best is trial 42 with value: 0.9499522348640677.\n",
      "[I 2024-05-31 07:54:36,600] Trial 77 finished with value: -6.668982558452846 and parameters: {'scaling_method': 'standard', 'encoding_method': 'onehot', 'drop': None, 'algorithm': 'xgb', 'n_estimators': 297, 'learning_rate': 0.0005970959169557703, 'max_depth': 6, 'subsample': 0.862819770556648, 'colsample_bytree': 0.7104469555349785, 'min_child_weight': 16}. Best is trial 42 with value: 0.9499522348640677.\n",
      "C:\\Users\\Natal\\anaconda3\\Lib\\site-packages\\sklearn\\preprocessing\\_encoders.py:227: UserWarning:\n",
      "\n",
      "Found unknown categories in columns [3, 10] during transform. These unknown categories will be encoded as all zeros\n",
      "\n",
      "C:\\Users\\Natal\\anaconda3\\Lib\\site-packages\\sklearn\\preprocessing\\_encoders.py:227: UserWarning:\n",
      "\n",
      "Found unknown categories in columns [3, 9, 14] during transform. These unknown categories will be encoded as all zeros\n",
      "\n",
      "C:\\Users\\Natal\\anaconda3\\Lib\\site-packages\\sklearn\\preprocessing\\_encoders.py:227: UserWarning:\n",
      "\n",
      "Found unknown categories in columns [5, 21] during transform. These unknown categories will be encoded as all zeros\n",
      "\n",
      "C:\\Users\\Natal\\anaconda3\\Lib\\site-packages\\sklearn\\preprocessing\\_encoders.py:227: UserWarning:\n",
      "\n",
      "Found unknown categories in columns [9, 21] during transform. These unknown categories will be encoded as all zeros\n",
      "\n",
      "C:\\Users\\Natal\\anaconda3\\Lib\\site-packages\\sklearn\\preprocessing\\_encoders.py:227: UserWarning:\n",
      "\n",
      "Found unknown categories in columns [0] during transform. These unknown categories will be encoded as all zeros\n",
      "\n",
      "[I 2024-05-31 07:54:37,033] Trial 78 finished with value: 0.9490262336188906 and parameters: {'scaling_method': 'standard', 'encoding_method': 'onehot', 'drop': 'first', 'algorithm': 'ridge', 'alpha': 47.64519440272038}. Best is trial 42 with value: 0.9499522348640677.\n",
      "[I 2024-05-31 07:54:37,465] Trial 79 finished with value: 0.9413017170755016 and parameters: {'scaling_method': 'robust', 'encoding_method': 'ordinal', 'algorithm': 'ridge', 'alpha': 2.000375446930459}. Best is trial 42 with value: 0.9499522348640677.\n",
      "[I 2024-05-31 08:01:08,672] Trial 80 finished with value: 0.8394126522565188 and parameters: {'scaling_method': 'standard', 'encoding_method': 'onehot', 'drop': None, 'algorithm': 'rf', 'bootstrap': False, 'n_estimators': 885, 'max_depth': 77, 'min_sample_split': 4, 'min_sample_leaf': 9}. Best is trial 42 with value: 0.9499522348640677.\n",
      "[I 2024-05-31 08:01:09,104] Trial 81 finished with value: 0.9496831744806535 and parameters: {'scaling_method': 'standard', 'encoding_method': 'onehot', 'drop': None, 'algorithm': 'ridge', 'alpha': 18.27602382476234}. Best is trial 42 with value: 0.9499522348640677.\n",
      "[I 2024-05-31 08:01:09,509] Trial 82 finished with value: 0.9492049892807195 and parameters: {'scaling_method': 'standard', 'encoding_method': 'onehot', 'drop': None, 'algorithm': 'ridge', 'alpha': 6.669227643736738}. Best is trial 42 with value: 0.9499522348640677.\n",
      "[I 2024-05-31 08:01:09,941] Trial 83 finished with value: 0.9490432654676908 and parameters: {'scaling_method': 'standard', 'encoding_method': 'onehot', 'drop': None, 'algorithm': 'ridge', 'alpha': 59.25624195156445}. Best is trial 42 with value: 0.9499522348640677.\n",
      "[I 2024-05-31 08:01:10,366] Trial 84 finished with value: 0.9496749963951222 and parameters: {'scaling_method': 'standard', 'encoding_method': 'onehot', 'drop': None, 'algorithm': 'ridge', 'alpha': 17.28097186087167}. Best is trial 42 with value: 0.9499522348640677.\n",
      "[I 2024-05-31 08:01:10,876] Trial 85 finished with value: 0.9499915017531239 and parameters: {'scaling_method': 'robust', 'encoding_method': 'onehot', 'drop': None, 'algorithm': 'ridge', 'alpha': 16.491567544017695}. Best is trial 85 with value: 0.9499915017531239.\n",
      "[I 2024-05-31 08:03:02,257] Trial 86 finished with value: 0.9324715222553175 and parameters: {'scaling_method': 'robust', 'encoding_method': 'onehot', 'drop': None, 'algorithm': 'gbr', 'n_estimators': 833, 'learning_rate': 0.34335847522276197, 'max_depth': 3, 'subsample': 0.9047206617908237, 'min_sample_split': 9, 'min_sample_leaf': 1}. Best is trial 85 with value: 0.9499915017531239.\n",
      "[I 2024-05-31 08:03:02,757] Trial 87 finished with value: 0.946296217073544 and parameters: {'scaling_method': 'robust', 'encoding_method': 'onehot', 'drop': None, 'algorithm': 'ridge', 'alpha': 127.61606545478453}. Best is trial 85 with value: 0.9499915017531239.\n",
      "[I 2024-05-31 08:03:03,257] Trial 88 finished with value: 0.9494085394886472 and parameters: {'scaling_method': 'robust', 'encoding_method': 'onehot', 'drop': None, 'algorithm': 'ridge', 'alpha': 6.876754594966529}. Best is trial 85 with value: 0.9499915017531239.\n",
      "[I 2024-05-31 08:03:03,740] Trial 89 finished with value: 0.9302866093535254 and parameters: {'scaling_method': 'robust', 'encoding_method': 'onehot', 'drop': None, 'algorithm': 'ridge', 'alpha': 468.1843792633497}. Best is trial 85 with value: 0.9499915017531239.\n",
      "[I 2024-05-31 08:04:10,100] Trial 90 finished with value: 0.7421572886925786 and parameters: {'scaling_method': 'robust', 'encoding_method': 'onehot', 'drop': None, 'algorithm': 'ada', 'learning_rate': 0.0001077514405471103, 'loss': 'linear', 'n_estimators': 429}. Best is trial 85 with value: 0.9499915017531239.\n",
      "[I 2024-05-31 08:04:10,484] Trial 91 finished with value: 0.9496733802886655 and parameters: {'scaling_method': 'standard', 'encoding_method': 'onehot', 'drop': None, 'algorithm': 'ridge', 'alpha': 17.121257159043388}. Best is trial 85 with value: 0.9499915017531239.\n",
      "[I 2024-05-31 08:04:10,956] Trial 92 finished with value: 0.9499856604975921 and parameters: {'scaling_method': 'robust', 'encoding_method': 'onehot', 'drop': None, 'algorithm': 'ridge', 'alpha': 16.226776923924984}. Best is trial 85 with value: 0.9499915017531239.\n",
      "[I 2024-05-31 08:04:11,475] Trial 93 finished with value: 0.9493249501268908 and parameters: {'scaling_method': 'robust', 'encoding_method': 'onehot', 'drop': None, 'algorithm': 'ridge', 'alpha': 54.5176398666732}. Best is trial 85 with value: 0.9499915017531239.\n",
      "[I 2024-05-31 08:04:11,955] Trial 94 finished with value: 0.9495182541825506 and parameters: {'scaling_method': 'robust', 'encoding_method': 'onehot', 'drop': None, 'algorithm': 'ridge', 'alpha': 7.809914306249189}. Best is trial 85 with value: 0.9499915017531239.\n"
     ]
    },
    {
     "name": "stderr",
     "output_type": "stream",
     "text": [
      "[I 2024-05-31 08:04:12,454] Trial 95 finished with value: 0.95001628056841 and parameters: {'scaling_method': 'robust', 'encoding_method': 'onehot', 'drop': None, 'algorithm': 'ridge', 'alpha': 17.8492450268799}. Best is trial 95 with value: 0.95001628056841.\n",
      "[I 2024-05-31 08:04:12,853] Trial 96 finished with value: -0.027638635748393627 and parameters: {'scaling_method': 'robust', 'encoding_method': 'ordinal', 'algorithm': 'lasso', 'alpha': 2.9979996842440513}. Best is trial 95 with value: 0.95001628056841.\n",
      "[I 2024-05-31 08:04:27,779] Trial 97 finished with value: 0.8988411428005779 and parameters: {'scaling_method': 'robust', 'encoding_method': 'onehot', 'drop': None, 'algorithm': 'xgb', 'n_estimators': 587, 'learning_rate': 0.009612827769989538, 'max_depth': 5, 'subsample': 0.7086472207807635, 'colsample_bytree': 0.8522694718270836, 'min_child_weight': 15}. Best is trial 95 with value: 0.95001628056841.\n",
      "[I 2024-05-31 08:04:28,549] Trial 98 finished with value: 0.9499245295139204 and parameters: {'scaling_method': 'robust', 'encoding_method': 'onehot', 'drop': None, 'algorithm': 'ridge', 'alpha': 14.090791144074823}. Best is trial 95 with value: 0.95001628056841.\n",
      "[I 2024-05-31 08:04:29,379] Trial 99 finished with value: -0.029441307066881618 and parameters: {'scaling_method': 'robust', 'encoding_method': 'onehot', 'drop': None, 'algorithm': 'en', 'alpha': 79.5703102804851}. Best is trial 95 with value: 0.95001628056841.\n",
      "C:\\Users\\Natal\\anaconda3\\Lib\\site-packages\\sklearn\\preprocessing\\_encoders.py:227: UserWarning:\n",
      "\n",
      "Found unknown categories in columns [3, 10] during transform. These unknown categories will be encoded as all zeros\n",
      "\n",
      "C:\\Users\\Natal\\anaconda3\\Lib\\site-packages\\sklearn\\preprocessing\\_encoders.py:227: UserWarning:\n",
      "\n",
      "Found unknown categories in columns [3, 9, 14] during transform. These unknown categories will be encoded as all zeros\n",
      "\n",
      "C:\\Users\\Natal\\anaconda3\\Lib\\site-packages\\sklearn\\preprocessing\\_encoders.py:227: UserWarning:\n",
      "\n",
      "Found unknown categories in columns [5, 21] during transform. These unknown categories will be encoded as all zeros\n",
      "\n",
      "C:\\Users\\Natal\\anaconda3\\Lib\\site-packages\\sklearn\\preprocessing\\_encoders.py:227: UserWarning:\n",
      "\n",
      "Found unknown categories in columns [9, 21] during transform. These unknown categories will be encoded as all zeros\n",
      "\n",
      "C:\\Users\\Natal\\anaconda3\\Lib\\site-packages\\sklearn\\preprocessing\\_encoders.py:227: UserWarning:\n",
      "\n",
      "Found unknown categories in columns [0] during transform. These unknown categories will be encoded as all zeros\n",
      "\n",
      "[I 2024-05-31 08:04:30,173] Trial 100 finished with value: 0.9495309906953816 and parameters: {'scaling_method': 'robust', 'encoding_method': 'onehot', 'drop': 'first', 'algorithm': 'ridge', 'alpha': 40.69581969621818}. Best is trial 95 with value: 0.95001628056841.\n",
      "[I 2024-05-31 08:04:30,977] Trial 101 finished with value: 0.9498535116863351 and parameters: {'scaling_method': 'robust', 'encoding_method': 'onehot', 'drop': None, 'algorithm': 'ridge', 'alpha': 12.369864677176372}. Best is trial 95 with value: 0.95001628056841.\n",
      "[I 2024-05-31 08:04:31,726] Trial 102 finished with value: 0.9497316612847708 and parameters: {'scaling_method': 'robust', 'encoding_method': 'onehot', 'drop': None, 'algorithm': 'ridge', 'alpha': 10.269259628961192}. Best is trial 95 with value: 0.95001628056841.\n",
      "[I 2024-05-31 08:04:32,341] Trial 103 finished with value: 0.9497305201057132 and parameters: {'scaling_method': 'robust', 'encoding_method': 'onehot', 'drop': None, 'algorithm': 'ridge', 'alpha': 10.252807918586376}. Best is trial 95 with value: 0.95001628056841.\n",
      "[I 2024-05-31 08:04:32,988] Trial 104 finished with value: 0.9497867241476443 and parameters: {'scaling_method': 'robust', 'encoding_method': 'onehot', 'drop': None, 'algorithm': 'ridge', 'alpha': 11.124848581169209}. Best is trial 95 with value: 0.95001628056841.\n",
      "[I 2024-05-31 08:04:33,648] Trial 105 finished with value: 0.9497538271566055 and parameters: {'scaling_method': 'robust', 'encoding_method': 'onehot', 'drop': None, 'algorithm': 'ridge', 'alpha': 10.598531177228269}. Best is trial 95 with value: 0.95001628056841.\n",
      "[I 2024-05-31 08:04:34,356] Trial 106 finished with value: 0.9497364479279146 and parameters: {'scaling_method': 'robust', 'encoding_method': 'onehot', 'drop': None, 'algorithm': 'ridge', 'alpha': 10.338784201630128}. Best is trial 95 with value: 0.95001628056841.\n",
      "[I 2024-05-31 08:10:47,592] Trial 107 finished with value: 0.8424522831527412 and parameters: {'scaling_method': 'robust', 'encoding_method': 'onehot', 'drop': None, 'algorithm': 'rf', 'bootstrap': False, 'n_estimators': 775, 'max_depth': 55, 'min_sample_split': 4, 'min_sample_leaf': 8}. Best is trial 95 with value: 0.95001628056841.\n",
      "[I 2024-05-31 08:10:48,093] Trial 108 finished with value: 0.9491469344105404 and parameters: {'scaling_method': 'robust', 'encoding_method': 'onehot', 'drop': None, 'algorithm': 'ridge', 'alpha': 5.174775950907055}. Best is trial 95 with value: 0.95001628056841.\n",
      "[I 2024-05-31 08:10:48,580] Trial 109 finished with value: 0.9481809613200312 and parameters: {'scaling_method': 'robust', 'encoding_method': 'onehot', 'drop': None, 'algorithm': 'ridge', 'alpha': 1.9096547400254569}. Best is trial 95 with value: 0.95001628056841.\n",
      "[I 2024-05-31 08:10:49,038] Trial 110 finished with value: 0.9486882990544444 and parameters: {'scaling_method': 'robust', 'encoding_method': 'onehot', 'drop': None, 'algorithm': 'ridge', 'alpha': 3.22972385192312}. Best is trial 95 with value: 0.95001628056841.\n",
      "[I 2024-05-31 08:10:49,522] Trial 111 finished with value: 0.9497261938515994 and parameters: {'scaling_method': 'robust', 'encoding_method': 'onehot', 'drop': None, 'algorithm': 'ridge', 'alpha': 10.19086375501042}. Best is trial 95 with value: 0.95001628056841.\n",
      "[I 2024-05-31 08:10:50,038] Trial 112 finished with value: 0.9497794734359604 and parameters: {'scaling_method': 'robust', 'encoding_method': 'onehot', 'drop': None, 'algorithm': 'ridge', 'alpha': 11.004635872440572}. Best is trial 95 with value: 0.95001628056841.\n",
      "[I 2024-05-31 08:10:50,724] Trial 113 finished with value: 0.9492155517974478 and parameters: {'scaling_method': 'robust', 'encoding_method': 'onehot', 'drop': None, 'algorithm': 'ridge', 'alpha': 5.565146836009527}. Best is trial 95 with value: 0.95001628056841.\n",
      "[I 2024-05-31 08:10:51,271] Trial 114 finished with value: 0.9498445455493953 and parameters: {'scaling_method': 'robust', 'encoding_method': 'onehot', 'drop': None, 'algorithm': 'ridge', 'alpha': 12.186056906961044}. Best is trial 95 with value: 0.95001628056841.\n",
      "[I 2024-05-31 08:12:28,407] Trial 115 finished with value: 0.9322251349904596 and parameters: {'scaling_method': 'robust', 'encoding_method': 'onehot', 'drop': None, 'algorithm': 'gbr', 'n_estimators': 730, 'learning_rate': 0.28282106646216737, 'max_depth': 4, 'subsample': 0.6017950161628121, 'min_sample_split': 9, 'min_sample_leaf': 5}. Best is trial 95 with value: 0.95001628056841.\n",
      "[I 2024-05-31 08:12:28,818] Trial 116 finished with value: 0.941665661046779 and parameters: {'scaling_method': 'robust', 'encoding_method': 'ordinal', 'algorithm': 'ridge', 'alpha': 12.554125163784972}. Best is trial 95 with value: 0.95001628056841.\n",
      "[I 2024-05-31 08:12:29,312] Trial 117 finished with value: 0.9498811260598897 and parameters: {'scaling_method': 'robust', 'encoding_method': 'onehot', 'drop': None, 'algorithm': 'ridge', 'alpha': 35.506261104099075}. Best is trial 95 with value: 0.95001628056841.\n",
      "[I 2024-05-31 08:12:29,812] Trial 118 finished with value: 0.9499005076356525 and parameters: {'scaling_method': 'robust', 'encoding_method': 'onehot', 'drop': None, 'algorithm': 'ridge', 'alpha': 34.6082324598237}. Best is trial 95 with value: 0.95001628056841.\n",
      "[I 2024-05-31 08:12:44,064] Trial 119 finished with value: 0.8358099272408481 and parameters: {'scaling_method': 'robust', 'encoding_method': 'onehot', 'drop': None, 'algorithm': 'ada', 'learning_rate': 0.13917423188259448, 'loss': 'linear', 'n_estimators': 96}. Best is trial 95 with value: 0.95001628056841.\n",
      "C:\\Users\\Natal\\anaconda3\\Lib\\site-packages\\sklearn\\preprocessing\\_encoders.py:227: UserWarning:\n",
      "\n",
      "Found unknown categories in columns [3, 10] during transform. These unknown categories will be encoded as all zeros\n",
      "\n"
     ]
    },
    {
     "name": "stderr",
     "output_type": "stream",
     "text": [
      "C:\\Users\\Natal\\anaconda3\\Lib\\site-packages\\sklearn\\preprocessing\\_encoders.py:227: UserWarning:\n",
      "\n",
      "Found unknown categories in columns [3, 9, 14] during transform. These unknown categories will be encoded as all zeros\n",
      "\n",
      "C:\\Users\\Natal\\anaconda3\\Lib\\site-packages\\sklearn\\preprocessing\\_encoders.py:227: UserWarning:\n",
      "\n",
      "Found unknown categories in columns [5, 21] during transform. These unknown categories will be encoded as all zeros\n",
      "\n",
      "C:\\Users\\Natal\\anaconda3\\Lib\\site-packages\\sklearn\\preprocessing\\_encoders.py:227: UserWarning:\n",
      "\n",
      "Found unknown categories in columns [9, 21] during transform. These unknown categories will be encoded as all zeros\n",
      "\n",
      "C:\\Users\\Natal\\anaconda3\\Lib\\site-packages\\sklearn\\preprocessing\\_encoders.py:227: UserWarning:\n",
      "\n",
      "Found unknown categories in columns [0] during transform. These unknown categories will be encoded as all zeros\n",
      "\n",
      "[I 2024-05-31 08:12:44,642] Trial 120 finished with value: -0.029441307066881618 and parameters: {'scaling_method': 'robust', 'encoding_method': 'onehot', 'drop': 'first', 'algorithm': 'lasso', 'alpha': 37.98733074610962}. Best is trial 95 with value: 0.95001628056841.\n",
      "[I 2024-05-31 08:12:45,176] Trial 121 finished with value: 0.949985448893939 and parameters: {'scaling_method': 'robust', 'encoding_method': 'onehot', 'drop': None, 'algorithm': 'ridge', 'alpha': 29.95922709367116}. Best is trial 95 with value: 0.95001628056841.\n",
      "[I 2024-05-31 08:12:45,694] Trial 122 finished with value: 0.9499579465942232 and parameters: {'scaling_method': 'robust', 'encoding_method': 'onehot', 'drop': None, 'algorithm': 'ridge', 'alpha': 31.64131754555925}. Best is trial 95 with value: 0.95001628056841.\n",
      "[I 2024-05-31 08:12:46,191] Trial 123 finished with value: 0.948882352800886 and parameters: {'scaling_method': 'robust', 'encoding_method': 'onehot', 'drop': None, 'algorithm': 'ridge', 'alpha': 66.62572201318218}. Best is trial 95 with value: 0.95001628056841.\n",
      "[I 2024-05-31 08:12:46,731] Trial 124 finished with value: 0.9499100325151275 and parameters: {'scaling_method': 'robust', 'encoding_method': 'onehot', 'drop': None, 'algorithm': 'ridge', 'alpha': 34.15126130781227}. Best is trial 95 with value: 0.95001628056841.\n",
      "[I 2024-05-31 08:12:47,226] Trial 125 finished with value: 0.9499554725293177 and parameters: {'scaling_method': 'robust', 'encoding_method': 'onehot', 'drop': None, 'algorithm': 'ridge', 'alpha': 31.78186580782255}. Best is trial 95 with value: 0.95001628056841.\n",
      "[I 2024-05-31 08:12:47,757] Trial 126 finished with value: 0.9467068493195085 and parameters: {'scaling_method': 'robust', 'encoding_method': 'onehot', 'drop': None, 'algorithm': 'ridge', 'alpha': 118.35477960400273}. Best is trial 95 with value: 0.95001628056841.\n",
      "[I 2024-05-31 08:12:48,257] Trial 127 finished with value: 0.9498911300725019 and parameters: {'scaling_method': 'robust', 'encoding_method': 'onehot', 'drop': None, 'algorithm': 'ridge', 'alpha': 35.047733146417}. Best is trial 95 with value: 0.95001628056841.\n",
      "[I 2024-05-31 08:12:53,397] Trial 128 finished with value: -6.668871936077854 and parameters: {'scaling_method': 'robust', 'encoding_method': 'onehot', 'drop': None, 'algorithm': 'xgb', 'n_estimators': 447, 'learning_rate': 0.00042546938191127923, 'max_depth': 6, 'subsample': 0.9309260564433086, 'colsample_bytree': 0.628003619292103, 'min_child_weight': 17}. Best is trial 95 with value: 0.95001628056841.\n",
      "[I 2024-05-31 08:12:53,913] Trial 129 finished with value: 0.9499580713260665 and parameters: {'scaling_method': 'robust', 'encoding_method': 'onehot', 'drop': None, 'algorithm': 'ridge', 'alpha': 31.63419212328805}. Best is trial 95 with value: 0.95001628056841.\n",
      "[I 2024-05-31 08:12:54,371] Trial 130 finished with value: -0.029441307066881618 and parameters: {'scaling_method': 'robust', 'encoding_method': 'onehot', 'drop': None, 'algorithm': 'en', 'alpha': 43.58595934412049}. Best is trial 95 with value: 0.95001628056841.\n",
      "[I 2024-05-31 08:12:54,858] Trial 131 finished with value: 0.9499699894181877 and parameters: {'scaling_method': 'robust', 'encoding_method': 'onehot', 'drop': None, 'algorithm': 'ridge', 'alpha': 30.93429014729831}. Best is trial 95 with value: 0.95001628056841.\n",
      "[I 2024-05-31 08:12:55,351] Trial 132 finished with value: 0.9499625566416128 and parameters: {'scaling_method': 'robust', 'encoding_method': 'onehot', 'drop': None, 'algorithm': 'ridge', 'alpha': 31.375336914358908}. Best is trial 95 with value: 0.95001628056841.\n",
      "[I 2024-05-31 08:12:55,841] Trial 133 finished with value: 0.9499372406221622 and parameters: {'scaling_method': 'robust', 'encoding_method': 'onehot', 'drop': None, 'algorithm': 'ridge', 'alpha': 32.7761909275575}. Best is trial 95 with value: 0.95001628056841.\n",
      "[I 2024-05-31 08:12:56,362] Trial 134 finished with value: 0.9500292070109136 and parameters: {'scaling_method': 'robust', 'encoding_method': 'onehot', 'drop': None, 'algorithm': 'ridge', 'alpha': 26.387059700563412}. Best is trial 134 with value: 0.9500292070109136.\n",
      "[I 2024-05-31 08:12:56,871] Trial 135 finished with value: 0.9490643803235678 and parameters: {'scaling_method': 'robust', 'encoding_method': 'onehot', 'drop': None, 'algorithm': 'ridge', 'alpha': 61.794252218551534}. Best is trial 134 with value: 0.9500292070109136.\n",
      "[I 2024-05-31 08:12:57,271] Trial 136 finished with value: 0.9268911652615888 and parameters: {'scaling_method': 'minmax', 'encoding_method': 'onehot', 'drop': None, 'algorithm': 'ridge', 'alpha': 26.702819534844433}. Best is trial 134 with value: 0.9500292070109136.\n",
      "[I 2024-05-31 08:12:57,785] Trial 137 finished with value: 0.9484542409371295 and parameters: {'scaling_method': 'robust', 'encoding_method': 'onehot', 'drop': None, 'algorithm': 'ridge', 'alpha': 77.47015773318054}. Best is trial 134 with value: 0.9500292070109136.\n",
      "[I 2024-05-31 08:12:58,216] Trial 138 finished with value: 0.9398289402690752 and parameters: {'scaling_method': 'robust', 'encoding_method': 'ordinal', 'algorithm': 'ridge', 'alpha': 140.2925932322493}. Best is trial 134 with value: 0.9500292070109136.\n",
      "[I 2024-05-31 08:15:16,116] Trial 139 finished with value: 0.8391884443405815 and parameters: {'scaling_method': 'robust', 'encoding_method': 'onehot', 'drop': None, 'algorithm': 'rf', 'bootstrap': False, 'n_estimators': 313, 'max_depth': 40, 'min_sample_split': 4, 'min_sample_leaf': 10}. Best is trial 134 with value: 0.9500292070109136.\n",
      "[I 2024-05-31 08:15:16,662] Trial 140 finished with value: 0.9500339054445469 and parameters: {'scaling_method': 'robust', 'encoding_method': 'onehot', 'drop': None, 'algorithm': 'ridge', 'alpha': 25.837817413821103}. Best is trial 140 with value: 0.9500339054445469.\n",
      "[I 2024-05-31 08:15:17,226] Trial 141 finished with value: 0.9500200827895494 and parameters: {'scaling_method': 'robust', 'encoding_method': 'onehot', 'drop': None, 'algorithm': 'ridge', 'alpha': 27.3035598469321}. Best is trial 140 with value: 0.9500339054445469.\n",
      "[I 2024-05-31 08:15:17,716] Trial 142 finished with value: 0.949982622138512 and parameters: {'scaling_method': 'robust', 'encoding_method': 'onehot', 'drop': None, 'algorithm': 'ridge', 'alpha': 16.09499395942244}. Best is trial 140 with value: 0.9500339054445469.\n",
      "[I 2024-05-31 08:15:18,225] Trial 143 finished with value: 0.9500440181285235 and parameters: {'scaling_method': 'robust', 'encoding_method': 'onehot', 'drop': None, 'algorithm': 'ridge', 'alpha': 24.240571867876426}. Best is trial 143 with value: 0.9500440181285235.\n",
      "[I 2024-05-31 08:15:18,741] Trial 144 finished with value: 0.9500458537065709 and parameters: {'scaling_method': 'robust', 'encoding_method': 'onehot', 'drop': None, 'algorithm': 'ridge', 'alpha': 23.787895175182896}. Best is trial 144 with value: 0.9500458537065709.\n",
      "[I 2024-05-31 08:15:19,273] Trial 145 finished with value: 0.9500472965273005 and parameters: {'scaling_method': 'robust', 'encoding_method': 'onehot', 'drop': None, 'algorithm': 'ridge', 'alpha': 23.29541090492026}. Best is trial 145 with value: 0.9500472965273005.\n",
      "[I 2024-05-31 08:15:19,797] Trial 146 finished with value: 0.9500455608064758 and parameters: {'scaling_method': 'robust', 'encoding_method': 'onehot', 'drop': None, 'algorithm': 'ridge', 'alpha': 20.979238463380472}. Best is trial 145 with value: 0.9500472965273005.\n"
     ]
    },
    {
     "name": "stderr",
     "output_type": "stream",
     "text": [
      "C:\\Users\\Natal\\anaconda3\\Lib\\site-packages\\sklearn\\preprocessing\\_encoders.py:227: UserWarning:\n",
      "\n",
      "Found unknown categories in columns [3, 10] during transform. These unknown categories will be encoded as all zeros\n",
      "\n",
      "C:\\Users\\Natal\\anaconda3\\Lib\\site-packages\\sklearn\\preprocessing\\_encoders.py:227: UserWarning:\n",
      "\n",
      "Found unknown categories in columns [3, 9, 14] during transform. These unknown categories will be encoded as all zeros\n",
      "\n",
      "C:\\Users\\Natal\\anaconda3\\Lib\\site-packages\\sklearn\\preprocessing\\_encoders.py:227: UserWarning:\n",
      "\n",
      "Found unknown categories in columns [5, 21] during transform. These unknown categories will be encoded as all zeros\n",
      "\n",
      "C:\\Users\\Natal\\anaconda3\\Lib\\site-packages\\sklearn\\preprocessing\\_encoders.py:227: UserWarning:\n",
      "\n",
      "Found unknown categories in columns [9, 21] during transform. These unknown categories will be encoded as all zeros\n",
      "\n",
      "C:\\Users\\Natal\\anaconda3\\Lib\\site-packages\\sklearn\\preprocessing\\_encoders.py:227: UserWarning:\n",
      "\n",
      "Found unknown categories in columns [0] during transform. These unknown categories will be encoded as all zeros\n",
      "\n",
      "[I 2024-05-31 08:15:20,335] Trial 147 finished with value: 0.9499147059212328 and parameters: {'scaling_method': 'robust', 'encoding_method': 'onehot', 'drop': 'first', 'algorithm': 'ridge', 'alpha': 20.724835853224008}. Best is trial 145 with value: 0.9500472965273005.\n",
      "[I 2024-05-31 08:18:02,959] Trial 148 finished with value: 0.858382944545087 and parameters: {'scaling_method': 'robust', 'encoding_method': 'onehot', 'drop': None, 'algorithm': 'gbr', 'n_estimators': 938, 'learning_rate': 0.002059385472555751, 'max_depth': 4, 'subsample': 0.8011545801974311, 'min_sample_split': 7, 'min_sample_leaf': 6}. Best is trial 145 with value: 0.9500472965273005.\n",
      "[I 2024-05-31 08:18:03,369] Trial 149 finished with value: 0.9309199659735852 and parameters: {'scaling_method': 'maxabs', 'encoding_method': 'onehot', 'drop': None, 'algorithm': 'ridge', 'alpha': 17.783563541668737}. Best is trial 145 with value: 0.9500472965273005.\n",
      "[I 2024-05-31 08:18:03,836] Trial 150 finished with value: 0.9494407191457178 and parameters: {'scaling_method': 'robust', 'encoding_method': 'onehot', 'drop': None, 'algorithm': 'ridge', 'alpha': 51.089234437419776}. Best is trial 145 with value: 0.9500472965273005.\n",
      "[I 2024-05-31 08:18:04,320] Trial 151 finished with value: 0.9500394529323334 and parameters: {'scaling_method': 'robust', 'encoding_method': 'onehot', 'drop': None, 'algorithm': 'ridge', 'alpha': 25.069474436567003}. Best is trial 145 with value: 0.9500472965273005.\n",
      "[I 2024-05-31 08:18:04,807] Trial 152 finished with value: 0.9500422220813359 and parameters: {'scaling_method': 'robust', 'encoding_method': 'onehot', 'drop': None, 'algorithm': 'ridge', 'alpha': 24.60065001583267}. Best is trial 145 with value: 0.9500472965273005.\n",
      "[I 2024-05-31 08:18:05,288] Trial 153 finished with value: 0.9500475337201107 and parameters: {'scaling_method': 'robust', 'encoding_method': 'onehot', 'drop': None, 'algorithm': 'ridge', 'alpha': 23.187253070579438}. Best is trial 153 with value: 0.9500475337201107.\n",
      "[I 2024-05-31 08:18:05,758] Trial 154 finished with value: 0.9500482449799987 and parameters: {'scaling_method': 'robust', 'encoding_method': 'onehot', 'drop': None, 'algorithm': 'ridge', 'alpha': 22.687706204635205}. Best is trial 154 with value: 0.9500482449799987.\n",
      "[I 2024-05-31 08:18:06,206] Trial 155 finished with value: 0.9500021875166036 and parameters: {'scaling_method': 'robust', 'encoding_method': 'onehot', 'drop': None, 'algorithm': 'ridge', 'alpha': 17.022317847668752}. Best is trial 154 with value: 0.9500482449799987.\n",
      "[I 2024-05-31 08:18:06,670] Trial 156 finished with value: 0.9463359570239568 and parameters: {'scaling_method': 'robust', 'encoding_method': 'onehot', 'drop': None, 'algorithm': 'ridge', 'alpha': 0.14381767348525498}. Best is trial 154 with value: 0.9500482449799987.\n",
      "[I 2024-05-31 08:18:07,147] Trial 157 finished with value: 0.9458082110355039 and parameters: {'scaling_method': 'robust', 'encoding_method': 'onehot', 'drop': None, 'algorithm': 'ridge', 'alpha': 0.000817475001306828}. Best is trial 154 with value: 0.9500482449799987.\n",
      "[I 2024-05-31 08:18:37,741] Trial 158 finished with value: 0.8116256901881613 and parameters: {'scaling_method': 'minmax', 'encoding_method': 'onehot', 'drop': None, 'algorithm': 'ada', 'learning_rate': 0.03145148891711493, 'loss': 'exponential', 'n_estimators': 206}. Best is trial 154 with value: 0.9500482449799987.\n",
      "[I 2024-05-31 08:18:38,272] Trial 159 finished with value: 0.950048240028608 and parameters: {'scaling_method': 'robust', 'encoding_method': 'onehot', 'drop': None, 'algorithm': 'ridge', 'alpha': 22.094860584246824}. Best is trial 154 with value: 0.9500482449799987.\n",
      "[I 2024-05-31 08:18:55,019] Trial 160 finished with value: 0.7767834660397117 and parameters: {'scaling_method': 'robust', 'encoding_method': 'onehot', 'drop': None, 'algorithm': 'xgb', 'n_estimators': 645, 'learning_rate': 0.007103498281567411, 'max_depth': 7, 'subsample': 0.7128220159714717, 'colsample_bytree': 0.8381662039836251, 'min_child_weight': 13}. Best is trial 154 with value: 0.9500482449799987.\n",
      "[I 2024-05-31 08:18:55,538] Trial 161 finished with value: 0.9500467565675385 and parameters: {'scaling_method': 'robust', 'encoding_method': 'onehot', 'drop': None, 'algorithm': 'ridge', 'alpha': 21.317337257553536}. Best is trial 154 with value: 0.9500482449799987.\n",
      "[I 2024-05-31 08:18:56,056] Trial 162 finished with value: 0.9500481901134906 and parameters: {'scaling_method': 'robust', 'encoding_method': 'onehot', 'drop': None, 'algorithm': 'ridge', 'alpha': 22.038681320869927}. Best is trial 154 with value: 0.9500482449799987.\n",
      "[I 2024-05-31 08:18:56,584] Trial 163 finished with value: 0.9500481392056355 and parameters: {'scaling_method': 'robust', 'encoding_method': 'onehot', 'drop': None, 'algorithm': 'ridge', 'alpha': 22.801607163831065}. Best is trial 154 with value: 0.9500482449799987.\n",
      "[I 2024-05-31 08:18:57,038] Trial 164 finished with value: 0.9500481073364282 and parameters: {'scaling_method': 'robust', 'encoding_method': 'onehot', 'drop': None, 'algorithm': 'ridge', 'alpha': 21.96155226544112}. Best is trial 154 with value: 0.9500482449799987.\n",
      "[I 2024-05-31 08:18:57,504] Trial 165 finished with value: -0.029441307066881618 and parameters: {'scaling_method': 'robust', 'encoding_method': 'onehot', 'drop': None, 'algorithm': 'lasso', 'alpha': 48.61767134862264}. Best is trial 154 with value: 0.9500482449799987.\n",
      "[I 2024-05-31 08:18:57,995] Trial 166 finished with value: 0.9500381318421095 and parameters: {'scaling_method': 'robust', 'encoding_method': 'onehot', 'drop': None, 'algorithm': 'ridge', 'alpha': 25.268831923727877}. Best is trial 154 with value: 0.9500482449799987.\n",
      "[I 2024-05-31 08:18:58,428] Trial 167 finished with value: 0.9418433996467886 and parameters: {'scaling_method': 'robust', 'encoding_method': 'ordinal', 'algorithm': 'ridge', 'alpha': 21.860532761485562}. Best is trial 154 with value: 0.9500482449799987.\n",
      "[I 2024-05-31 08:18:58,881] Trial 168 finished with value: 0.947848720779905 and parameters: {'scaling_method': 'robust', 'encoding_method': 'onehot', 'drop': None, 'algorithm': 'ridge', 'alpha': 92.0505102878604}. Best is trial 154 with value: 0.9500482449799987.\n",
      "[I 2024-05-31 08:18:59,397] Trial 169 finished with value: 0.9500420024109293 and parameters: {'scaling_method': 'robust', 'encoding_method': 'onehot', 'drop': None, 'algorithm': 'ridge', 'alpha': 24.641053222283162}. Best is trial 154 with value: 0.9500482449799987.\n",
      "[I 2024-05-31 08:18:59,839] Trial 170 finished with value: -0.029441307066881618 and parameters: {'scaling_method': 'robust', 'encoding_method': 'onehot', 'drop': None, 'algorithm': 'en', 'alpha': 8.076685793914457}. Best is trial 154 with value: 0.9500482449799987.\n",
      "[I 2024-05-31 08:19:00,319] Trial 171 finished with value: 0.9500436669720228 and parameters: {'scaling_method': 'robust', 'encoding_method': 'onehot', 'drop': None, 'algorithm': 'ridge', 'alpha': 24.31583454787142}. Best is trial 154 with value: 0.9500482449799987.\n",
      "[I 2024-05-31 08:19:00,818] Trial 172 finished with value: 0.9500481580195362 and parameters: {'scaling_method': 'robust', 'encoding_method': 'onehot', 'drop': None, 'algorithm': 'ridge', 'alpha': 22.783747292427492}. Best is trial 154 with value: 0.9500482449799987.\n"
     ]
    },
    {
     "name": "stderr",
     "output_type": "stream",
     "text": [
      "[I 2024-05-31 08:19:01,303] Trial 173 finished with value: 0.9500483479389941 and parameters: {'scaling_method': 'robust', 'encoding_method': 'onehot', 'drop': None, 'algorithm': 'ridge', 'alpha': 22.296786063651155}. Best is trial 173 with value: 0.9500483479389941.\n",
      "[I 2024-05-31 08:19:01,794] Trial 174 finished with value: 0.9494107831944859 and parameters: {'scaling_method': 'robust', 'encoding_method': 'onehot', 'drop': None, 'algorithm': 'ridge', 'alpha': 51.99051262413413}. Best is trial 173 with value: 0.9500483479389941.\n",
      "[I 2024-05-31 08:19:02,260] Trial 175 finished with value: 0.9500477326155489 and parameters: {'scaling_method': 'robust', 'encoding_method': 'onehot', 'drop': None, 'algorithm': 'ridge', 'alpha': 21.715934137032452}. Best is trial 173 with value: 0.9500483479389941.\n",
      "[I 2024-05-31 08:19:02,665] Trial 176 finished with value: 0.9297935101376275 and parameters: {'scaling_method': 'maxabs', 'encoding_method': 'onehot', 'drop': None, 'algorithm': 'ridge', 'alpha': 19.368349016042224}. Best is trial 173 with value: 0.9500483479389941.\n",
      "C:\\Users\\Natal\\anaconda3\\Lib\\site-packages\\sklearn\\preprocessing\\_encoders.py:227: UserWarning:\n",
      "\n",
      "Found unknown categories in columns [3, 10] during transform. These unknown categories will be encoded as all zeros\n",
      "\n",
      "C:\\Users\\Natal\\anaconda3\\Lib\\site-packages\\sklearn\\preprocessing\\_encoders.py:227: UserWarning:\n",
      "\n",
      "Found unknown categories in columns [3, 9, 14] during transform. These unknown categories will be encoded as all zeros\n",
      "\n",
      "C:\\Users\\Natal\\anaconda3\\Lib\\site-packages\\sklearn\\preprocessing\\_encoders.py:227: UserWarning:\n",
      "\n",
      "Found unknown categories in columns [5, 21] during transform. These unknown categories will be encoded as all zeros\n",
      "\n",
      "C:\\Users\\Natal\\anaconda3\\Lib\\site-packages\\sklearn\\preprocessing\\_encoders.py:227: UserWarning:\n",
      "\n",
      "Found unknown categories in columns [9, 21] during transform. These unknown categories will be encoded as all zeros\n",
      "\n",
      "C:\\Users\\Natal\\anaconda3\\Lib\\site-packages\\sklearn\\preprocessing\\_encoders.py:227: UserWarning:\n",
      "\n",
      "Found unknown categories in columns [0] during transform. These unknown categories will be encoded as all zeros\n",
      "\n",
      "[I 2024-05-31 08:19:03,142] Trial 177 finished with value: 0.9495873886047501 and parameters: {'scaling_method': 'robust', 'encoding_method': 'onehot', 'drop': 'first', 'algorithm': 'ridge', 'alpha': 8.14671378409088}. Best is trial 173 with value: 0.9500483479389941.\n",
      "[I 2024-05-31 08:19:03,585] Trial 178 finished with value: 0.9499447797864378 and parameters: {'scaling_method': 'robust', 'encoding_method': 'onehot', 'drop': None, 'algorithm': 'ridge', 'alpha': 14.702483669292445}. Best is trial 173 with value: 0.9500483479389941.\n",
      "[I 2024-05-31 08:22:51,194] Trial 179 finished with value: 0.9081717633637603 and parameters: {'scaling_method': 'robust', 'encoding_method': 'onehot', 'drop': None, 'algorithm': 'rf', 'bootstrap': True, 'n_estimators': 355, 'max_depth': 67, 'min_sample_split': 5, 'min_sample_leaf': 1}. Best is trial 173 with value: 0.9500483479389941.\n",
      "[I 2024-05-31 08:22:51,710] Trial 180 finished with value: 0.9495539782590299 and parameters: {'scaling_method': 'robust', 'encoding_method': 'onehot', 'drop': None, 'algorithm': 'ridge', 'alpha': 47.56533063671504}. Best is trial 173 with value: 0.9500483479389941.\n",
      "[I 2024-05-31 08:22:52,194] Trial 181 finished with value: 0.9500472319200497 and parameters: {'scaling_method': 'robust', 'encoding_method': 'onehot', 'drop': None, 'algorithm': 'ridge', 'alpha': 21.48835539339697}. Best is trial 173 with value: 0.9500483479389941.\n",
      "[I 2024-05-31 08:22:52,687] Trial 182 finished with value: 0.9500481152379876 and parameters: {'scaling_method': 'robust', 'encoding_method': 'onehot', 'drop': None, 'algorithm': 'ridge', 'alpha': 21.96829921008001}. Best is trial 173 with value: 0.9500483479389941.\n",
      "[I 2024-05-31 08:22:53,160] Trial 183 finished with value: 0.9500405549776152 and parameters: {'scaling_method': 'robust', 'encoding_method': 'onehot', 'drop': None, 'algorithm': 'ridge', 'alpha': 20.06627045525762}. Best is trial 173 with value: 0.9500483479389941.\n",
      "[I 2024-05-31 08:22:53,678] Trial 184 finished with value: 0.9499876430659621 and parameters: {'scaling_method': 'robust', 'encoding_method': 'onehot', 'drop': None, 'algorithm': 'ridge', 'alpha': 16.31489222273554}. Best is trial 173 with value: 0.9500483479389941.\n",
      "[I 2024-05-31 08:22:54,166] Trial 185 finished with value: 0.9499234304140007 and parameters: {'scaling_method': 'robust', 'encoding_method': 'onehot', 'drop': None, 'algorithm': 'ridge', 'alpha': 14.059549996082627}. Best is trial 173 with value: 0.9500483479389941.\n",
      "[I 2024-05-31 08:22:54,679] Trial 186 finished with value: 0.9495334796972748 and parameters: {'scaling_method': 'robust', 'encoding_method': 'onehot', 'drop': None, 'algorithm': 'ridge', 'alpha': 7.953446446781831}. Best is trial 173 with value: 0.9500483479389941.\n",
      "[I 2024-05-31 08:22:55,132] Trial 187 finished with value: 0.949524658142091 and parameters: {'scaling_method': 'robust', 'encoding_method': 'onehot', 'drop': None, 'algorithm': 'ridge', 'alpha': 48.49683312680761}. Best is trial 173 with value: 0.9500483479389941.\n",
      "[I 2024-05-31 08:22:55,616] Trial 188 finished with value: 0.9500479745820976 and parameters: {'scaling_method': 'robust', 'encoding_method': 'onehot', 'drop': None, 'algorithm': 'ridge', 'alpha': 22.93364829103212}. Best is trial 173 with value: 0.9500483479389941.\n",
      "[I 2024-05-31 08:22:56,098] Trial 189 finished with value: 0.9499248714165324 and parameters: {'scaling_method': 'robust', 'encoding_method': 'onehot', 'drop': None, 'algorithm': 'ridge', 'alpha': 14.100547192784603}. Best is trial 173 with value: 0.9500483479389941.\n",
      "[I 2024-05-31 08:23:40,076] Trial 190 finished with value: 0.19262836347953688 and parameters: {'scaling_method': 'minmax', 'encoding_method': 'onehot', 'drop': None, 'algorithm': 'gbr', 'n_estimators': 685, 'learning_rate': 0.0003574235070041635, 'max_depth': 2, 'subsample': 0.5706378825373541, 'min_sample_split': 9, 'min_sample_leaf': 3}. Best is trial 173 with value: 0.9500483479389941.\n",
      "[I 2024-05-31 08:23:40,554] Trial 191 finished with value: 0.9500479381570596 and parameters: {'scaling_method': 'robust', 'encoding_method': 'onehot', 'drop': None, 'algorithm': 'ridge', 'alpha': 21.836722284139054}. Best is trial 173 with value: 0.9500483479389941.\n",
      "[I 2024-05-31 08:23:41,051] Trial 192 finished with value: 0.9500427776545806 and parameters: {'scaling_method': 'robust', 'encoding_method': 'onehot', 'drop': None, 'algorithm': 'ridge', 'alpha': 20.414243462933022}. Best is trial 173 with value: 0.9500483479389941.\n",
      "[I 2024-05-31 08:23:41,539] Trial 193 finished with value: 0.9497399201149074 and parameters: {'scaling_method': 'robust', 'encoding_method': 'onehot', 'drop': None, 'algorithm': 'ridge', 'alpha': 41.21612176045619}. Best is trial 173 with value: 0.9500483479389941.\n",
      "[I 2024-05-31 08:23:42,054] Trial 194 finished with value: 0.9500440339227698 and parameters: {'scaling_method': 'robust', 'encoding_method': 'onehot', 'drop': None, 'algorithm': 'ridge', 'alpha': 20.64468146567676}. Best is trial 173 with value: 0.9500483479389941.\n",
      "[I 2024-05-31 08:23:42,553] Trial 195 finished with value: 0.949925923622564 and parameters: {'scaling_method': 'robust', 'encoding_method': 'onehot', 'drop': None, 'algorithm': 'ridge', 'alpha': 14.130684869651976}. Best is trial 173 with value: 0.9500483479389941.\n",
      "[I 2024-05-31 08:23:43,070] Trial 196 finished with value: 0.9489323380445546 and parameters: {'scaling_method': 'robust', 'encoding_method': 'onehot', 'drop': None, 'algorithm': 'ridge', 'alpha': 65.31528103686519}. Best is trial 173 with value: 0.9500483479389941.\n",
      "[I 2024-05-31 08:23:43,585] Trial 197 finished with value: 0.947180472083694 and parameters: {'scaling_method': 'robust', 'encoding_method': 'onehot', 'drop': None, 'algorithm': 'ridge', 'alpha': 0.5898514945304739}. Best is trial 173 with value: 0.9500483479389941.\n",
      "[I 2024-05-31 08:23:44,085] Trial 198 finished with value: 0.9500397016844833 and parameters: {'scaling_method': 'robust', 'encoding_method': 'onehot', 'drop': None, 'algorithm': 'ridge', 'alpha': 19.94710527692705}. Best is trial 173 with value: 0.9500483479389941.\n"
     ]
    },
    {
     "name": "stderr",
     "output_type": "stream",
     "text": [
      "[I 2024-05-31 08:23:46,788] Trial 199 finished with value: 0.7832808668840541 and parameters: {'scaling_method': 'robust', 'encoding_method': 'ordinal', 'algorithm': 'ada', 'learning_rate': 0.12567447772017895, 'loss': 'square', 'n_estimators': 21}. Best is trial 173 with value: 0.9500483479389941.\n"
     ]
    }
   ],
   "source": [
    "study.optimize(lambda trial: objective(trial, X, y), n_trials=200)"
   ]
  },
  {
   "cell_type": "code",
   "execution_count": 12,
   "id": "2151b316",
   "metadata": {},
   "outputs": [
    {
     "data": {
      "text/plain": [
       "FrozenTrial(number=19, state=1, values=[0.9498253167672198], datetime_start=datetime.datetime(2024, 5, 29, 14, 21, 30, 900293), datetime_complete=datetime.datetime(2024, 5, 29, 14, 22, 19, 688551), params={'scaling_method': 'standard', 'encoding_method': 'onehot', 'drop': 'first', 'algorithm': 'gbr', 'n_estimators': 776, 'learning_rate': 0.050062717855334275, 'max_depth': 3, 'subsample': 0.8684466240320046, 'min_sample_split': 7, 'min_sample_leaf': 8}, user_attrs={}, system_attrs={}, intermediate_values={}, distributions={'scaling_method': CategoricalDistribution(choices=('standard', 'minmax', 'maxabs', 'robust')), 'encoding_method': CategoricalDistribution(choices=('ordinal', 'onehot')), 'drop': CategoricalDistribution(choices=(None, 'first')), 'algorithm': CategoricalDistribution(choices=('ridge', 'lasso', 'en', 'xgb', 'gbr', 'rf', 'ada')), 'n_estimators': IntDistribution(high=1000, log=False, low=500, step=1), 'learning_rate': FloatDistribution(high=1.0, log=True, low=0.0001, step=None), 'max_depth': IntDistribution(high=6, log=False, low=2, step=1), 'subsample': FloatDistribution(high=1.0, log=False, low=0.5, step=None), 'min_sample_split': IntDistribution(high=10, log=False, low=6, step=1), 'min_sample_leaf': IntDistribution(high=10, log=False, low=1, step=1)}, trial_id=19, value=None)"
      ]
     },
     "execution_count": 12,
     "metadata": {},
     "output_type": "execute_result"
    }
   ],
   "source": [
    "study.best_trial"
   ]
  },
  {
   "cell_type": "code",
   "execution_count": 23,
   "id": "d86dc4b7",
   "metadata": {},
   "outputs": [],
   "source": [
    "trial_number = []\n",
    "score = []\n",
    "algorithm = []\n",
    "parameters = []\n",
    "optuna_dict = {}\n",
    "trials = range(200)\n",
    "\n",
    "for trial in trials:\n",
    "    trial_number.append(study.get_trials()[trial].number)\n",
    "    score.append(study.get_trials()[trial].value)\n",
    "    algorithm.append(study.get_trials()[trial].params['algorithm'])\n",
    "    parameters.append(list(study.get_trials()[trial].params.items()))\n",
    "\n",
    "optuna_dict['Trial'] = trial_number\n",
    "optuna_dict['Score'] = score\n",
    "optuna_dict['Algorithm'] = algorithm\n",
    "optuna_dict['Parameters'] = parameters\n",
    "\n",
    "\n",
    "df_optuna = pd.DataFrame.from_dict(optuna_dict)"
   ]
  },
  {
   "cell_type": "code",
   "execution_count": 24,
   "id": "7a90ec86",
   "metadata": {},
   "outputs": [
    {
     "data": {
      "text/html": [
       "<div>\n",
       "<style scoped>\n",
       "    .dataframe tbody tr th:only-of-type {\n",
       "        vertical-align: middle;\n",
       "    }\n",
       "\n",
       "    .dataframe tbody tr th {\n",
       "        vertical-align: top;\n",
       "    }\n",
       "\n",
       "    .dataframe thead th {\n",
       "        text-align: right;\n",
       "    }\n",
       "</style>\n",
       "<table border=\"1\" class=\"dataframe\">\n",
       "  <thead>\n",
       "    <tr style=\"text-align: right;\">\n",
       "      <th></th>\n",
       "      <th>Trial</th>\n",
       "      <th>Score</th>\n",
       "      <th>Algorithm</th>\n",
       "      <th>Parameters</th>\n",
       "    </tr>\n",
       "  </thead>\n",
       "  <tbody>\n",
       "    <tr>\n",
       "      <th>3</th>\n",
       "      <td>3</td>\n",
       "      <td>0.391197</td>\n",
       "      <td>lasso</td>\n",
       "      <td>[(scaling_method, standard), (encoding_method,...</td>\n",
       "    </tr>\n",
       "    <tr>\n",
       "      <th>20</th>\n",
       "      <td>20</td>\n",
       "      <td>0.876856</td>\n",
       "      <td>ada</td>\n",
       "      <td>[(scaling_method, robust), (encoding_method, o...</td>\n",
       "    </tr>\n",
       "    <tr>\n",
       "      <th>24</th>\n",
       "      <td>24</td>\n",
       "      <td>0.945325</td>\n",
       "      <td>gbr</td>\n",
       "      <td>[(scaling_method, maxabs), (encoding_method, o...</td>\n",
       "    </tr>\n",
       "    <tr>\n",
       "      <th>25</th>\n",
       "      <td>25</td>\n",
       "      <td>0.890280</td>\n",
       "      <td>en</td>\n",
       "      <td>[(scaling_method, maxabs), (encoding_method, o...</td>\n",
       "    </tr>\n",
       "    <tr>\n",
       "      <th>32</th>\n",
       "      <td>32</td>\n",
       "      <td>0.944913</td>\n",
       "      <td>xgb</td>\n",
       "      <td>[(scaling_method, robust), (encoding_method, o...</td>\n",
       "    </tr>\n",
       "    <tr>\n",
       "      <th>173</th>\n",
       "      <td>173</td>\n",
       "      <td>0.950048</td>\n",
       "      <td>ridge</td>\n",
       "      <td>[(scaling_method, robust), (encoding_method, o...</td>\n",
       "    </tr>\n",
       "    <tr>\n",
       "      <th>179</th>\n",
       "      <td>179</td>\n",
       "      <td>0.908172</td>\n",
       "      <td>rf</td>\n",
       "      <td>[(scaling_method, robust), (encoding_method, o...</td>\n",
       "    </tr>\n",
       "  </tbody>\n",
       "</table>\n",
       "</div>"
      ],
      "text/plain": [
       "     Trial     Score Algorithm  \\\n",
       "3        3  0.391197     lasso   \n",
       "20      20  0.876856       ada   \n",
       "24      24  0.945325       gbr   \n",
       "25      25  0.890280        en   \n",
       "32      32  0.944913       xgb   \n",
       "173    173  0.950048     ridge   \n",
       "179    179  0.908172        rf   \n",
       "\n",
       "                                            Parameters  \n",
       "3    [(scaling_method, standard), (encoding_method,...  \n",
       "20   [(scaling_method, robust), (encoding_method, o...  \n",
       "24   [(scaling_method, maxabs), (encoding_method, o...  \n",
       "25   [(scaling_method, maxabs), (encoding_method, o...  \n",
       "32   [(scaling_method, robust), (encoding_method, o...  \n",
       "173  [(scaling_method, robust), (encoding_method, o...  \n",
       "179  [(scaling_method, robust), (encoding_method, o...  "
      ]
     },
     "execution_count": 24,
     "metadata": {},
     "output_type": "execute_result"
    }
   ],
   "source": [
    "idx = df_optuna.groupby('Algorithm')['Score'].transform(max) == df_optuna['Score']\n",
    "df_optuna[idx]"
   ]
  },
  {
   "cell_type": "code",
   "execution_count": 191,
   "id": "23026f3f",
   "metadata": {},
   "outputs": [
    {
     "data": {
      "text/plain": [
       "[(0,\n",
       "  [('scaling_method', 'robust'),\n",
       "   ('encoding_method', 'onehot'),\n",
       "   ('drop', None),\n",
       "   ('algorithm', 'lasso'),\n",
       "   ('alpha', 485.91494069511094)]),\n",
       " (1,\n",
       "  [('scaling_method', 'minmax'),\n",
       "   ('encoding_method', 'onehot'),\n",
       "   ('drop', None),\n",
       "   ('algorithm', 'gbr'),\n",
       "   ('n_estimators', 436),\n",
       "   ('learning_rate', 0.0012861054183096832),\n",
       "   ('max_depth', 8),\n",
       "   ('min_sample_split', 7)]),\n",
       " (2,\n",
       "  [('scaling_method', 'minmax'),\n",
       "   ('encoding_method', 'ordinal'),\n",
       "   ('algorithm', 'ridge'),\n",
       "   ('alpha', 2.9564732483382494)]),\n",
       " (3,\n",
       "  [('scaling_method', 'maxabs'),\n",
       "   ('encoding_method', 'ordinal'),\n",
       "   ('algorithm', 'ridge'),\n",
       "   ('alpha', 17.622180822136105)]),\n",
       " (4,\n",
       "  [('scaling_method', 'standard'),\n",
       "   ('encoding_method', 'onehot'),\n",
       "   ('drop', None),\n",
       "   ('algorithm', 'ridge'),\n",
       "   ('alpha', 11.016938443949593)]),\n",
       " (5,\n",
       "  [('scaling_method', 'minmax'),\n",
       "   ('encoding_method', 'onehot'),\n",
       "   ('drop', 'first'),\n",
       "   ('algorithm', 'ridge'),\n",
       "   ('alpha', 72.72185663024044)]),\n",
       " (6,\n",
       "  [('scaling_method', 'maxabs'),\n",
       "   ('encoding_method', 'onehot'),\n",
       "   ('drop', None),\n",
       "   ('algorithm', 'xgb'),\n",
       "   ('learning_rate', 0.005202072877418273),\n",
       "   ('max_depth', 2),\n",
       "   ('subsample', 0.3826819310410822),\n",
       "   ('colsample_bytree', 0.9590512153571512),\n",
       "   ('min_child_weight', 7)]),\n",
       " (7,\n",
       "  [('scaling_method', 'maxabs'),\n",
       "   ('encoding_method', 'ordinal'),\n",
       "   ('algorithm', 'lasso'),\n",
       "   ('alpha', 0.12743215488347848)]),\n",
       " (8,\n",
       "  [('scaling_method', 'maxabs'),\n",
       "   ('encoding_method', 'onehot'),\n",
       "   ('drop', None),\n",
       "   ('algorithm', 'gbr'),\n",
       "   ('n_estimators', 236),\n",
       "   ('learning_rate', 0.013959101818135347),\n",
       "   ('max_depth', 1),\n",
       "   ('min_sample_split', 6)]),\n",
       " (9,\n",
       "  [('scaling_method', 'maxabs'),\n",
       "   ('encoding_method', 'onehot'),\n",
       "   ('drop', 'first'),\n",
       "   ('algorithm', 'lasso'),\n",
       "   ('alpha', 298.53103373896636)]),\n",
       " (10,\n",
       "  [('scaling_method', 'standard'),\n",
       "   ('encoding_method', 'ordinal'),\n",
       "   ('algorithm', 'xgb'),\n",
       "   ('learning_rate', 0.08118336754288324),\n",
       "   ('max_depth', 10),\n",
       "   ('subsample', 0.988968474856583),\n",
       "   ('colsample_bytree', 0.0644810996346451),\n",
       "   ('min_child_weight', 18)]),\n",
       " (11,\n",
       "  [('scaling_method', 'standard'),\n",
       "   ('encoding_method', 'ordinal'),\n",
       "   ('algorithm', 'ridge'),\n",
       "   ('alpha', 0.00027931963947781216)]),\n",
       " (12,\n",
       "  [('scaling_method', 'minmax'),\n",
       "   ('encoding_method', 'ordinal'),\n",
       "   ('algorithm', 'ridge'),\n",
       "   ('alpha', 0.7453923962450141)]),\n",
       " (13,\n",
       "  [('scaling_method', 'standard'),\n",
       "   ('encoding_method', 'ordinal'),\n",
       "   ('algorithm', 'ridge'),\n",
       "   ('alpha', 0.07140978135574208)]),\n",
       " (14,\n",
       "  [('scaling_method', 'robust'),\n",
       "   ('encoding_method', 'onehot'),\n",
       "   ('drop', None),\n",
       "   ('algorithm', 'ridge'),\n",
       "   ('alpha', 1.0198598466960291)]),\n",
       " (15,\n",
       "  [('scaling_method', 'robust'),\n",
       "   ('encoding_method', 'onehot'),\n",
       "   ('drop', None),\n",
       "   ('algorithm', 'ridge'),\n",
       "   ('alpha', 0.008710081215062067)]),\n",
       " (16,\n",
       "  [('scaling_method', 'robust'),\n",
       "   ('encoding_method', 'onehot'),\n",
       "   ('drop', None),\n",
       "   ('algorithm', 'ridge'),\n",
       "   ('alpha', 15.084296229918241)]),\n",
       " (17,\n",
       "  [('scaling_method', 'robust'),\n",
       "   ('encoding_method', 'onehot'),\n",
       "   ('drop', None),\n",
       "   ('algorithm', 'xgb'),\n",
       "   ('learning_rate', 0.0644984510412808),\n",
       "   ('max_depth', 5),\n",
       "   ('subsample', 0.06961361401496247),\n",
       "   ('colsample_bytree', 0.45656538541789937),\n",
       "   ('min_child_weight', 1)]),\n",
       " (18,\n",
       "  [('scaling_method', 'standard'),\n",
       "   ('encoding_method', 'onehot'),\n",
       "   ('drop', 'first'),\n",
       "   ('algorithm', 'gbr'),\n",
       "   ('n_estimators', 871),\n",
       "   ('learning_rate', 0.0010131947131918157),\n",
       "   ('max_depth', 5),\n",
       "   ('min_sample_split', 2)]),\n",
       " (19,\n",
       "  [('scaling_method', 'standard'),\n",
       "   ('encoding_method', 'onehot'),\n",
       "   ('drop', None),\n",
       "   ('algorithm', 'ridge'),\n",
       "   ('alpha', 9.142237389730353)]),\n",
       " (20,\n",
       "  [('scaling_method', 'robust'),\n",
       "   ('encoding_method', 'onehot'),\n",
       "   ('drop', None),\n",
       "   ('algorithm', 'ridge'),\n",
       "   ('alpha', 37.155080611753235)]),\n",
       " (21,\n",
       "  [('scaling_method', 'robust'),\n",
       "   ('encoding_method', 'onehot'),\n",
       "   ('drop', None),\n",
       "   ('algorithm', 'ridge'),\n",
       "   ('alpha', 36.418368851580645)]),\n",
       " (22,\n",
       "  [('scaling_method', 'robust'),\n",
       "   ('encoding_method', 'onehot'),\n",
       "   ('drop', None),\n",
       "   ('algorithm', 'ridge'),\n",
       "   ('alpha', 72.45417996460591)]),\n",
       " (23,\n",
       "  [('scaling_method', 'robust'),\n",
       "   ('encoding_method', 'onehot'),\n",
       "   ('drop', None),\n",
       "   ('algorithm', 'ridge'),\n",
       "   ('alpha', 71.76768161432136)]),\n",
       " (24,\n",
       "  [('scaling_method', 'robust'),\n",
       "   ('encoding_method', 'onehot'),\n",
       "   ('drop', None),\n",
       "   ('algorithm', 'ridge'),\n",
       "   ('alpha', 731.265409868038)]),\n",
       " (25,\n",
       "  [('scaling_method', 'robust'),\n",
       "   ('encoding_method', 'onehot'),\n",
       "   ('drop', 'first'),\n",
       "   ('algorithm', 'ridge'),\n",
       "   ('alpha', 3.3278342525782434)]),\n",
       " (26,\n",
       "  [('scaling_method', 'robust'),\n",
       "   ('encoding_method', 'onehot'),\n",
       "   ('drop', None),\n",
       "   ('algorithm', 'xgb'),\n",
       "   ('learning_rate', 0.017566668638015794),\n",
       "   ('max_depth', 7),\n",
       "   ('subsample', 0.9263227792610369),\n",
       "   ('colsample_bytree', 0.9574403970767051),\n",
       "   ('min_child_weight', 20)]),\n",
       " (27,\n",
       "  [('scaling_method', 'robust'),\n",
       "   ('encoding_method', 'onehot'),\n",
       "   ('drop', None),\n",
       "   ('algorithm', 'gbr'),\n",
       "   ('n_estimators', 987),\n",
       "   ('learning_rate', 0.00411678200337761),\n",
       "   ('max_depth', 10),\n",
       "   ('min_sample_split', 10)]),\n",
       " (28,\n",
       "  [('scaling_method', 'robust'),\n",
       "   ('encoding_method', 'onehot'),\n",
       "   ('drop', None),\n",
       "   ('algorithm', 'lasso'),\n",
       "   ('alpha', 53.04147682474876)]),\n",
       " (29,\n",
       "  [('scaling_method', 'robust'),\n",
       "   ('encoding_method', 'onehot'),\n",
       "   ('drop', None),\n",
       "   ('algorithm', 'lasso'),\n",
       "   ('alpha', 26.99403763075409)]),\n",
       " (30,\n",
       "  [('scaling_method', 'robust'),\n",
       "   ('encoding_method', 'onehot'),\n",
       "   ('drop', 'first'),\n",
       "   ('algorithm', 'ridge'),\n",
       "   ('alpha', 230.28889707311677)]),\n",
       " (31,\n",
       "  [('scaling_method', 'standard'),\n",
       "   ('encoding_method', 'onehot'),\n",
       "   ('drop', None),\n",
       "   ('algorithm', 'ridge'),\n",
       "   ('alpha', 5.395285481053461)]),\n",
       " (32,\n",
       "  [('scaling_method', 'robust'),\n",
       "   ('encoding_method', 'onehot'),\n",
       "   ('drop', None),\n",
       "   ('algorithm', 'ridge'),\n",
       "   ('alpha', 15.24992689376669)]),\n",
       " (33,\n",
       "  [('scaling_method', 'robust'),\n",
       "   ('encoding_method', 'onehot'),\n",
       "   ('drop', None),\n",
       "   ('algorithm', 'ridge'),\n",
       "   ('alpha', 1.7819860769182057)]),\n",
       " (34,\n",
       "  [('scaling_method', 'robust'),\n",
       "   ('encoding_method', 'onehot'),\n",
       "   ('drop', None),\n",
       "   ('algorithm', 'ridge'),\n",
       "   ('alpha', 162.36876380084513)]),\n",
       " (35,\n",
       "  [('scaling_method', 'robust'),\n",
       "   ('encoding_method', 'onehot'),\n",
       "   ('drop', None),\n",
       "   ('algorithm', 'ridge'),\n",
       "   ('alpha', 0.2891090589240277)]),\n",
       " (36,\n",
       "  [('scaling_method', 'minmax'),\n",
       "   ('encoding_method', 'onehot'),\n",
       "   ('drop', None),\n",
       "   ('algorithm', 'gbr'),\n",
       "   ('n_estimators', 101),\n",
       "   ('learning_rate', 0.027389151857770095),\n",
       "   ('max_depth', 3),\n",
       "   ('min_sample_split', 2)]),\n",
       " (37,\n",
       "  [('scaling_method', 'robust'),\n",
       "   ('encoding_method', 'onehot'),\n",
       "   ('drop', None),\n",
       "   ('algorithm', 'ridge'),\n",
       "   ('alpha', 33.74998988536357)]),\n",
       " (38,\n",
       "  [('scaling_method', 'robust'),\n",
       "   ('encoding_method', 'ordinal'),\n",
       "   ('algorithm', 'ridge'),\n",
       "   ('alpha', 9.896915277034939)]),\n",
       " (39,\n",
       "  [('scaling_method', 'minmax'),\n",
       "   ('encoding_method', 'onehot'),\n",
       "   ('drop', None),\n",
       "   ('algorithm', 'ridge'),\n",
       "   ('alpha', 605.5367260873303)]),\n",
       " (40,\n",
       "  [('scaling_method', 'robust'),\n",
       "   ('encoding_method', 'onehot'),\n",
       "   ('drop', None),\n",
       "   ('algorithm', 'xgb'),\n",
       "   ('learning_rate', 0.003149557674088468),\n",
       "   ('max_depth', 4),\n",
       "   ('subsample', 0.6126599257625832),\n",
       "   ('colsample_bytree', 0.05233759359756812),\n",
       "   ('min_child_weight', 12)]),\n",
       " (41,\n",
       "  [('scaling_method', 'robust'),\n",
       "   ('encoding_method', 'onehot'),\n",
       "   ('drop', None),\n",
       "   ('algorithm', 'ridge'),\n",
       "   ('alpha', 26.899525846925062)]),\n",
       " (42,\n",
       "  [('scaling_method', 'robust'),\n",
       "   ('encoding_method', 'onehot'),\n",
       "   ('drop', None),\n",
       "   ('algorithm', 'ridge'),\n",
       "   ('alpha', 17.99234822264818)]),\n",
       " (43,\n",
       "  [('scaling_method', 'maxabs'),\n",
       "   ('encoding_method', 'onehot'),\n",
       "   ('drop', None),\n",
       "   ('algorithm', 'ridge'),\n",
       "   ('alpha', 145.9077842873118)]),\n",
       " (44,\n",
       "  [('scaling_method', 'robust'),\n",
       "   ('encoding_method', 'onehot'),\n",
       "   ('drop', None),\n",
       "   ('algorithm', 'lasso'),\n",
       "   ('alpha', 3.916839418868521)]),\n",
       " (45,\n",
       "  [('scaling_method', 'robust'),\n",
       "   ('encoding_method', 'ordinal'),\n",
       "   ('algorithm', 'ridge'),\n",
       "   ('alpha', 17.71119356378227)]),\n",
       " (46,\n",
       "  [('scaling_method', 'maxabs'),\n",
       "   ('encoding_method', 'onehot'),\n",
       "   ('drop', None),\n",
       "   ('algorithm', 'ridge'),\n",
       "   ('alpha', 8.444324591759797)]),\n",
       " (47,\n",
       "  [('scaling_method', 'minmax'),\n",
       "   ('encoding_method', 'onehot'),\n",
       "   ('drop', 'first'),\n",
       "   ('algorithm', 'ridge'),\n",
       "   ('alpha', 20.509288026453095)]),\n",
       " (48,\n",
       "  [('scaling_method', 'robust'),\n",
       "   ('encoding_method', 'ordinal'),\n",
       "   ('algorithm', 'gbr'),\n",
       "   ('n_estimators', 591),\n",
       "   ('learning_rate', 0.03467269572806794),\n",
       "   ('max_depth', 7),\n",
       "   ('min_sample_split', 10)]),\n",
       " (49,\n",
       "  [('scaling_method', 'robust'),\n",
       "   ('encoding_method', 'onehot'),\n",
       "   ('drop', None),\n",
       "   ('algorithm', 'ridge'),\n",
       "   ('alpha', 1.3840233018099244)]),\n",
       " (50,\n",
       "  [('scaling_method', 'robust'),\n",
       "   ('encoding_method', 'onehot'),\n",
       "   ('drop', None),\n",
       "   ('algorithm', 'xgb'),\n",
       "   ('learning_rate', 0.008346006472310968),\n",
       "   ('max_depth', 8),\n",
       "   ('subsample', 0.11724461628899113),\n",
       "   ('colsample_bytree', 0.5654377285064824),\n",
       "   ('min_child_weight', 1)]),\n",
       " (51,\n",
       "  [('scaling_method', 'robust'),\n",
       "   ('encoding_method', 'onehot'),\n",
       "   ('drop', None),\n",
       "   ('algorithm', 'ridge'),\n",
       "   ('alpha', 27.753301088265804)]),\n",
       " (52,\n",
       "  [('scaling_method', 'robust'),\n",
       "   ('encoding_method', 'onehot'),\n",
       "   ('drop', None),\n",
       "   ('algorithm', 'ridge'),\n",
       "   ('alpha', 125.562431071793)]),\n",
       " (53,\n",
       "  [('scaling_method', 'robust'),\n",
       "   ('encoding_method', 'onehot'),\n",
       "   ('drop', None),\n",
       "   ('algorithm', 'ridge'),\n",
       "   ('alpha', 19.535539796579627)]),\n",
       " (54,\n",
       "  [('scaling_method', 'robust'),\n",
       "   ('encoding_method', 'onehot'),\n",
       "   ('drop', None),\n",
       "   ('algorithm', 'ridge'),\n",
       "   ('alpha', 14.526864973575051)]),\n",
       " (55,\n",
       "  [('scaling_method', 'maxabs'),\n",
       "   ('encoding_method', 'onehot'),\n",
       "   ('drop', None),\n",
       "   ('algorithm', 'ridge'),\n",
       "   ('alpha', 4.257405011916993)]),\n",
       " (56,\n",
       "  [('scaling_method', 'robust'),\n",
       "   ('encoding_method', 'onehot'),\n",
       "   ('drop', 'first'),\n",
       "   ('algorithm', 'ridge'),\n",
       "   ('alpha', 0.5700852350093374)]),\n",
       " (57,\n",
       "  [('scaling_method', 'robust'),\n",
       "   ('encoding_method', 'ordinal'),\n",
       "   ('algorithm', 'ridge'),\n",
       "   ('alpha', 333.75421924673776)]),\n",
       " (58,\n",
       "  [('scaling_method', 'robust'),\n",
       "   ('encoding_method', 'onehot'),\n",
       "   ('drop', None),\n",
       "   ('algorithm', 'lasso'),\n",
       "   ('alpha', 0.00011266260505913424)]),\n",
       " (59,\n",
       "  [('scaling_method', 'minmax'),\n",
       "   ('encoding_method', 'onehot'),\n",
       "   ('drop', None),\n",
       "   ('algorithm', 'lasso'),\n",
       "   ('alpha', 0.0010492147178643133)]),\n",
       " (60,\n",
       "  [('scaling_method', 'standard'),\n",
       "   ('encoding_method', 'onehot'),\n",
       "   ('drop', None),\n",
       "   ('algorithm', 'lasso'),\n",
       "   ('alpha', 0.04392538937707119)]),\n",
       " (61,\n",
       "  [('scaling_method', 'robust'),\n",
       "   ('encoding_method', 'onehot'),\n",
       "   ('drop', None),\n",
       "   ('algorithm', 'lasso'),\n",
       "   ('alpha', 0.004005670923160421)]),\n",
       " (62,\n",
       "  [('scaling_method', 'robust'),\n",
       "   ('encoding_method', 'onehot'),\n",
       "   ('drop', None),\n",
       "   ('algorithm', 'lasso'),\n",
       "   ('alpha', 0.00017988210177904444)]),\n",
       " (63,\n",
       "  [('scaling_method', 'robust'),\n",
       "   ('encoding_method', 'onehot'),\n",
       "   ('drop', None),\n",
       "   ('algorithm', 'lasso'),\n",
       "   ('alpha', 0.00011474761017558412)]),\n",
       " (64,\n",
       "  [('scaling_method', 'robust'),\n",
       "   ('encoding_method', 'onehot'),\n",
       "   ('drop', None),\n",
       "   ('algorithm', 'lasso'),\n",
       "   ('alpha', 0.00013371343582316102)]),\n",
       " (65,\n",
       "  [('scaling_method', 'robust'),\n",
       "   ('encoding_method', 'onehot'),\n",
       "   ('drop', None),\n",
       "   ('algorithm', 'lasso'),\n",
       "   ('alpha', 0.00011118307262276588)]),\n",
       " (66,\n",
       "  [('scaling_method', 'robust'),\n",
       "   ('encoding_method', 'onehot'),\n",
       "   ('drop', None),\n",
       "   ('algorithm', 'lasso'),\n",
       "   ('alpha', 0.0003467600818649216)]),\n",
       " (67,\n",
       "  [('scaling_method', 'robust'),\n",
       "   ('encoding_method', 'onehot'),\n",
       "   ('drop', None),\n",
       "   ('algorithm', 'lasso'),\n",
       "   ('alpha', 0.00039214460625204296)]),\n",
       " (68,\n",
       "  [('scaling_method', 'robust'),\n",
       "   ('encoding_method', 'onehot'),\n",
       "   ('drop', 'first'),\n",
       "   ('algorithm', 'lasso'),\n",
       "   ('alpha', 0.00042761426720880184)]),\n",
       " (69,\n",
       "  [('scaling_method', 'robust'),\n",
       "   ('encoding_method', 'ordinal'),\n",
       "   ('algorithm', 'lasso'),\n",
       "   ('alpha', 0.0005011833779992072)]),\n",
       " (70,\n",
       "  [('scaling_method', 'maxabs'),\n",
       "   ('encoding_method', 'onehot'),\n",
       "   ('drop', 'first'),\n",
       "   ('algorithm', 'lasso'),\n",
       "   ('alpha', 0.00027249555849143814)]),\n",
       " (71,\n",
       "  [('scaling_method', 'robust'),\n",
       "   ('encoding_method', 'onehot'),\n",
       "   ('drop', 'first'),\n",
       "   ('algorithm', 'lasso'),\n",
       "   ('alpha', 0.001727631716685956)]),\n",
       " (72,\n",
       "  [('scaling_method', 'robust'),\n",
       "   ('encoding_method', 'onehot'),\n",
       "   ('drop', 'first'),\n",
       "   ('algorithm', 'lasso'),\n",
       "   ('alpha', 0.0003771063629555676)]),\n",
       " (73,\n",
       "  [('scaling_method', 'robust'),\n",
       "   ('encoding_method', 'onehot'),\n",
       "   ('drop', 'first'),\n",
       "   ('algorithm', 'lasso'),\n",
       "   ('alpha', 0.00022755348542197014)]),\n",
       " (74,\n",
       "  [('scaling_method', 'robust'),\n",
       "   ('encoding_method', 'onehot'),\n",
       "   ('drop', 'first'),\n",
       "   ('algorithm', 'lasso'),\n",
       "   ('alpha', 0.00024893063021435137)]),\n",
       " (75,\n",
       "  [('scaling_method', 'standard'),\n",
       "   ('encoding_method', 'onehot'),\n",
       "   ('drop', 'first'),\n",
       "   ('algorithm', 'lasso'),\n",
       "   ('alpha', 0.00029058960636016515)]),\n",
       " (76,\n",
       "  [('scaling_method', 'robust'),\n",
       "   ('encoding_method', 'onehot'),\n",
       "   ('drop', 'first'),\n",
       "   ('algorithm', 'lasso'),\n",
       "   ('alpha', 0.0007199518872698925)]),\n",
       " (77,\n",
       "  [('scaling_method', 'robust'),\n",
       "   ('encoding_method', 'onehot'),\n",
       "   ('drop', 'first'),\n",
       "   ('algorithm', 'lasso'),\n",
       "   ('alpha', 0.00022082328788100922)]),\n",
       " (78,\n",
       "  [('scaling_method', 'robust'),\n",
       "   ('encoding_method', 'onehot'),\n",
       "   ('drop', 'first'),\n",
       "   ('algorithm', 'lasso'),\n",
       "   ('alpha', 0.0022492173711079174)]),\n",
       " (79,\n",
       "  [('scaling_method', 'robust'),\n",
       "   ('encoding_method', 'onehot'),\n",
       "   ('drop', 'first'),\n",
       "   ('algorithm', 'lasso'),\n",
       "   ('alpha', 0.00022152365547699638)]),\n",
       " (80,\n",
       "  [('scaling_method', 'robust'),\n",
       "   ('encoding_method', 'onehot'),\n",
       "   ('drop', 'first'),\n",
       "   ('algorithm', 'lasso'),\n",
       "   ('alpha', 0.0003967117703519713)]),\n",
       " (81,\n",
       "  [('scaling_method', 'robust'),\n",
       "   ('encoding_method', 'onehot'),\n",
       "   ('drop', 'first'),\n",
       "   ('algorithm', 'lasso'),\n",
       "   ('alpha', 0.0004408792406690357)]),\n",
       " (82,\n",
       "  [('scaling_method', 'robust'),\n",
       "   ('encoding_method', 'onehot'),\n",
       "   ('drop', 'first'),\n",
       "   ('algorithm', 'lasso'),\n",
       "   ('alpha', 0.0004632977849112312)]),\n",
       " (83,\n",
       "  [('scaling_method', 'robust'),\n",
       "   ('encoding_method', 'onehot'),\n",
       "   ('drop', 'first'),\n",
       "   ('algorithm', 'lasso'),\n",
       "   ('alpha', 0.0004380711396717153)]),\n",
       " (84,\n",
       "  [('scaling_method', 'robust'),\n",
       "   ('encoding_method', 'onehot'),\n",
       "   ('drop', 'first'),\n",
       "   ('algorithm', 'lasso'),\n",
       "   ('alpha', 0.001074797102898869)]),\n",
       " (85,\n",
       "  [('scaling_method', 'robust'),\n",
       "   ('encoding_method', 'onehot'),\n",
       "   ('drop', 'first'),\n",
       "   ('algorithm', 'lasso'),\n",
       "   ('alpha', 0.0005338609460892787)]),\n",
       " (86,\n",
       "  [('scaling_method', 'minmax'),\n",
       "   ('encoding_method', 'onehot'),\n",
       "   ('drop', 'first'),\n",
       "   ('algorithm', 'lasso'),\n",
       "   ('alpha', 0.004180424643119603)]),\n",
       " (87,\n",
       "  [('scaling_method', 'robust'),\n",
       "   ('encoding_method', 'onehot'),\n",
       "   ('drop', 'first'),\n",
       "   ('algorithm', 'lasso'),\n",
       "   ('alpha', 0.00037958045873256953)]),\n",
       " (88,\n",
       "  [('scaling_method', 'robust'),\n",
       "   ('encoding_method', 'ordinal'),\n",
       "   ('algorithm', 'lasso'),\n",
       "   ('alpha', 0.0003794871533330353)]),\n",
       " (89,\n",
       "  [('scaling_method', 'standard'),\n",
       "   ('encoding_method', 'onehot'),\n",
       "   ('drop', 'first'),\n",
       "   ('algorithm', 'lasso'),\n",
       "   ('alpha', 0.0008387122210734601)]),\n",
       " (90,\n",
       "  [('scaling_method', 'robust'),\n",
       "   ('encoding_method', 'onehot'),\n",
       "   ('drop', 'first'),\n",
       "   ('algorithm', 'lasso'),\n",
       "   ('alpha', 0.002185157015536065)]),\n",
       " (91,\n",
       "  [('scaling_method', 'robust'),\n",
       "   ('encoding_method', 'onehot'),\n",
       "   ('drop', 'first'),\n",
       "   ('algorithm', 'lasso'),\n",
       "   ('alpha', 0.0006375392680793732)]),\n",
       " (92,\n",
       "  [('scaling_method', 'robust'),\n",
       "   ('encoding_method', 'onehot'),\n",
       "   ('drop', 'first'),\n",
       "   ('algorithm', 'lasso'),\n",
       "   ('alpha', 0.0015335919435239776)]),\n",
       " (93,\n",
       "  [('scaling_method', 'robust'),\n",
       "   ('encoding_method', 'onehot'),\n",
       "   ('drop', 'first'),\n",
       "   ('algorithm', 'lasso'),\n",
       "   ('alpha', 0.0004136033907885512)]),\n",
       " (94,\n",
       "  [('scaling_method', 'robust'),\n",
       "   ('encoding_method', 'onehot'),\n",
       "   ('drop', 'first'),\n",
       "   ('algorithm', 'lasso'),\n",
       "   ('alpha', 0.00044028731800324085)]),\n",
       " (95,\n",
       "  [('scaling_method', 'robust'),\n",
       "   ('encoding_method', 'onehot'),\n",
       "   ('drop', 'first'),\n",
       "   ('algorithm', 'gbr'),\n",
       "   ('n_estimators', 700),\n",
       "   ('learning_rate', 0.002069800575272587),\n",
       "   ('max_depth', 1),\n",
       "   ('min_sample_split', 5)]),\n",
       " (96,\n",
       "  [('scaling_method', 'robust'),\n",
       "   ('encoding_method', 'onehot'),\n",
       "   ('drop', 'first'),\n",
       "   ('algorithm', 'lasso'),\n",
       "   ('alpha', 0.00036557950765267043)]),\n",
       " (97,\n",
       "  [('scaling_method', 'maxabs'),\n",
       "   ('encoding_method', 'onehot'),\n",
       "   ('drop', 'first'),\n",
       "   ('algorithm', 'xgb'),\n",
       "   ('learning_rate', 0.008200540742143641),\n",
       "   ('max_depth', 3),\n",
       "   ('subsample', 0.6407361957214459),\n",
       "   ('colsample_bytree', 0.5599542910242767),\n",
       "   ('min_child_weight', 13)]),\n",
       " (98,\n",
       "  [('scaling_method', 'robust'),\n",
       "   ('encoding_method', 'onehot'),\n",
       "   ('drop', 'first'),\n",
       "   ('algorithm', 'lasso'),\n",
       "   ('alpha', 0.019538791951117452)]),\n",
       " (99,\n",
       "  [('scaling_method', 'robust'),\n",
       "   ('encoding_method', 'onehot'),\n",
       "   ('drop', 'first'),\n",
       "   ('algorithm', 'lasso'),\n",
       "   ('alpha', 0.0011824304948268418)]),\n",
       " (100,\n",
       "  [('scaling_method', 'robust'),\n",
       "   ('encoding_method', 'onehot'),\n",
       "   ('drop', 'first'),\n",
       "   ('algorithm', 'lasso'),\n",
       "   ('alpha', 0.00016657023961048374)]),\n",
       " (101,\n",
       "  [('scaling_method', 'robust'),\n",
       "   ('encoding_method', 'onehot'),\n",
       "   ('drop', 'first'),\n",
       "   ('algorithm', 'lasso'),\n",
       "   ('alpha', 0.0003697239950655816)]),\n",
       " (102,\n",
       "  [('scaling_method', 'robust'),\n",
       "   ('encoding_method', 'onehot'),\n",
       "   ('drop', 'first'),\n",
       "   ('algorithm', 'lasso'),\n",
       "   ('alpha', 0.0003541216785078012)]),\n",
       " (103,\n",
       "  [('scaling_method', 'robust'),\n",
       "   ('encoding_method', 'onehot'),\n",
       "   ('drop', 'first'),\n",
       "   ('algorithm', 'lasso'),\n",
       "   ('alpha', 0.00029514778567808205)]),\n",
       " (104,\n",
       "  [('scaling_method', 'robust'),\n",
       "   ('encoding_method', 'onehot'),\n",
       "   ('drop', 'first'),\n",
       "   ('algorithm', 'lasso'),\n",
       "   ('alpha', 0.000308747062369403)]),\n",
       " (105,\n",
       "  [('scaling_method', 'robust'),\n",
       "   ('encoding_method', 'onehot'),\n",
       "   ('drop', 'first'),\n",
       "   ('algorithm', 'lasso'),\n",
       "   ('alpha', 0.0007707405734644055)]),\n",
       " (106,\n",
       "  [('scaling_method', 'minmax'),\n",
       "   ('encoding_method', 'onehot'),\n",
       "   ('drop', 'first'),\n",
       "   ('algorithm', 'lasso'),\n",
       "   ('alpha', 0.00032132323416113513)]),\n",
       " (107,\n",
       "  [('scaling_method', 'robust'),\n",
       "   ('encoding_method', 'ordinal'),\n",
       "   ('algorithm', 'lasso'),\n",
       "   ('alpha', 0.0001645274612612435)]),\n",
       " (108,\n",
       "  [('scaling_method', 'robust'),\n",
       "   ('encoding_method', 'onehot'),\n",
       "   ('drop', 'first'),\n",
       "   ('algorithm', 'lasso'),\n",
       "   ('alpha', 0.003512214199107533)]),\n",
       " (109,\n",
       "  [('scaling_method', 'robust'),\n",
       "   ('encoding_method', 'onehot'),\n",
       "   ('drop', 'first'),\n",
       "   ('algorithm', 'gbr'),\n",
       "   ('n_estimators', 396),\n",
       "   ('learning_rate', 0.05103237568467193),\n",
       "   ('max_depth', 6),\n",
       "   ('min_sample_split', 4)]),\n",
       " (110,\n",
       "  [('scaling_method', 'robust'),\n",
       "   ('encoding_method', 'onehot'),\n",
       "   ('drop', 'first'),\n",
       "   ('algorithm', 'xgb'),\n",
       "   ('learning_rate', 0.0022390312282138847),\n",
       "   ('max_depth', 9),\n",
       "   ('subsample', 0.36792780322771945),\n",
       "   ('colsample_bytree', 0.3315211956171241),\n",
       "   ('min_child_weight', 7)]),\n",
       " (111,\n",
       "  [('scaling_method', 'robust'),\n",
       "   ('encoding_method', 'onehot'),\n",
       "   ('drop', 'first'),\n",
       "   ('algorithm', 'lasso'),\n",
       "   ('alpha', 0.00029075726706383914)]),\n",
       " (112,\n",
       "  [('scaling_method', 'robust'),\n",
       "   ('encoding_method', 'onehot'),\n",
       "   ('drop', 'first'),\n",
       "   ('algorithm', 'lasso'),\n",
       "   ('alpha', 0.0003147019901279205)]),\n",
       " (113,\n",
       "  [('scaling_method', 'robust'),\n",
       "   ('encoding_method', 'onehot'),\n",
       "   ('drop', 'first'),\n",
       "   ('algorithm', 'lasso'),\n",
       "   ('alpha', 0.0008104545278090162)]),\n",
       " (114,\n",
       "  [('scaling_method', 'robust'),\n",
       "   ('encoding_method', 'onehot'),\n",
       "   ('drop', 'first'),\n",
       "   ('algorithm', 'lasso'),\n",
       "   ('alpha', 0.00014715905179945923)]),\n",
       " (115,\n",
       "  [('scaling_method', 'robust'),\n",
       "   ('encoding_method', 'onehot'),\n",
       "   ('drop', 'first'),\n",
       "   ('algorithm', 'lasso'),\n",
       "   ('alpha', 0.00031913520750032537)]),\n",
       " (116,\n",
       "  [('scaling_method', 'robust'),\n",
       "   ('encoding_method', 'onehot'),\n",
       "   ('drop', 'first'),\n",
       "   ('algorithm', 'lasso'),\n",
       "   ('alpha', 0.0003050151729363632)]),\n",
       " (117,\n",
       "  [('scaling_method', 'standard'),\n",
       "   ('encoding_method', 'onehot'),\n",
       "   ('drop', 'first'),\n",
       "   ('algorithm', 'lasso'),\n",
       "   ('alpha', 0.0002811370066422154)]),\n",
       " (118,\n",
       "  [('scaling_method', 'maxabs'),\n",
       "   ('encoding_method', 'onehot'),\n",
       "   ('drop', 'first'),\n",
       "   ('algorithm', 'lasso'),\n",
       "   ('alpha', 0.00018968244539172848)]),\n",
       " (119,\n",
       "  [('scaling_method', 'robust'),\n",
       "   ('encoding_method', 'onehot'),\n",
       "   ('drop', 'first'),\n",
       "   ('algorithm', 'lasso'),\n",
       "   ('alpha', 0.00010330083070230069)]),\n",
       " (120,\n",
       "  [('scaling_method', 'robust'),\n",
       "   ('encoding_method', 'onehot'),\n",
       "   ('drop', 'first'),\n",
       "   ('algorithm', 'lasso'),\n",
       "   ('alpha', 0.0006323037316054808)]),\n",
       " (121,\n",
       "  [('scaling_method', 'robust'),\n",
       "   ('encoding_method', 'onehot'),\n",
       "   ('drop', 'first'),\n",
       "   ('algorithm', 'lasso'),\n",
       "   ('alpha', 0.00031809815728691527)]),\n",
       " (122,\n",
       "  [('scaling_method', 'robust'),\n",
       "   ('encoding_method', 'onehot'),\n",
       "   ('drop', 'first'),\n",
       "   ('algorithm', 'lasso'),\n",
       "   ('alpha', 0.0012828707951032172)]),\n",
       " (123,\n",
       "  [('scaling_method', 'robust'),\n",
       "   ('encoding_method', 'onehot'),\n",
       "   ('drop', 'first'),\n",
       "   ('algorithm', 'lasso'),\n",
       "   ('alpha', 0.00024790429891051886)]),\n",
       " (124,\n",
       "  [('scaling_method', 'robust'),\n",
       "   ('encoding_method', 'onehot'),\n",
       "   ('drop', 'first'),\n",
       "   ('algorithm', 'lasso'),\n",
       "   ('alpha', 0.000917411051789339)]),\n",
       " (125,\n",
       "  [('scaling_method', 'robust'),\n",
       "   ('encoding_method', 'onehot'),\n",
       "   ('drop', 'first'),\n",
       "   ('algorithm', 'lasso'),\n",
       "   ('alpha', 0.000598471356394291)]),\n",
       " (126,\n",
       "  [('scaling_method', 'robust'),\n",
       "   ('encoding_method', 'onehot'),\n",
       "   ('drop', 'first'),\n",
       "   ('algorithm', 'lasso'),\n",
       "   ('alpha', 0.0003230462629045658)]),\n",
       " (127,\n",
       "  [('scaling_method', 'robust'),\n",
       "   ('encoding_method', 'onehot'),\n",
       "   ('drop', 'first'),\n",
       "   ('algorithm', 'lasso'),\n",
       "   ('alpha', 0.0002608450817855711)]),\n",
       " (128,\n",
       "  [('scaling_method', 'robust'),\n",
       "   ('encoding_method', 'ordinal'),\n",
       "   ('algorithm', 'lasso'),\n",
       "   ('alpha', 0.00015093842837896407)]),\n",
       " (129,\n",
       "  [('scaling_method', 'robust'),\n",
       "   ('encoding_method', 'onehot'),\n",
       "   ('drop', 'first'),\n",
       "   ('algorithm', 'lasso'),\n",
       "   ('alpha', 0.00020109465268091278)]),\n",
       " (130,\n",
       "  [('scaling_method', 'minmax'),\n",
       "   ('encoding_method', 'onehot'),\n",
       "   ('drop', 'first'),\n",
       "   ('algorithm', 'lasso'),\n",
       "   ('alpha', 0.00029112418449757013)]),\n",
       " (131,\n",
       "  [('scaling_method', 'robust'),\n",
       "   ('encoding_method', 'onehot'),\n",
       "   ('drop', 'first'),\n",
       "   ('algorithm', 'lasso'),\n",
       "   ('alpha', 0.000610323400891623)]),\n",
       " (132,\n",
       "  [('scaling_method', 'robust'),\n",
       "   ('encoding_method', 'onehot'),\n",
       "   ('drop', 'first'),\n",
       "   ('algorithm', 'lasso'),\n",
       "   ('alpha', 0.00031110186333514436)]),\n",
       " (133,\n",
       "  [('scaling_method', 'robust'),\n",
       "   ('encoding_method', 'onehot'),\n",
       "   ('drop', 'first'),\n",
       "   ('algorithm', 'lasso'),\n",
       "   ('alpha', 0.00015067871835289421)]),\n",
       " (134,\n",
       "  [('scaling_method', 'robust'),\n",
       "   ('encoding_method', 'onehot'),\n",
       "   ('drop', 'first'),\n",
       "   ('algorithm', 'lasso'),\n",
       "   ('alpha', 0.00021759861019306326)]),\n",
       " (135,\n",
       "  [('scaling_method', 'robust'),\n",
       "   ('encoding_method', 'onehot'),\n",
       "   ('drop', 'first'),\n",
       "   ('algorithm', 'gbr'),\n",
       "   ('n_estimators', 723),\n",
       "   ('learning_rate', 0.023568214077863484),\n",
       "   ('max_depth', 4),\n",
       "   ('min_sample_split', 8)]),\n",
       " (136,\n",
       "  [('scaling_method', 'robust'),\n",
       "   ('encoding_method', 'onehot'),\n",
       "   ('drop', 'first'),\n",
       "   ('algorithm', 'lasso'),\n",
       "   ('alpha', 0.00029619343708648857)]),\n",
       " (137,\n",
       "  [('scaling_method', 'robust'),\n",
       "   ('encoding_method', 'onehot'),\n",
       "   ('drop', 'first'),\n",
       "   ('algorithm', 'xgb'),\n",
       "   ('learning_rate', 0.04284827303418196),\n",
       "   ('max_depth', 6),\n",
       "   ('subsample', 0.7820149753016207),\n",
       "   ('colsample_bytree', 0.7705630302036239),\n",
       "   ('min_child_weight', 16)]),\n",
       " (138,\n",
       "  [('scaling_method', 'robust'),\n",
       "   ('encoding_method', 'onehot'),\n",
       "   ('drop', 'first'),\n",
       "   ('algorithm', 'lasso'),\n",
       "   ('alpha', 0.00010768934437374608)]),\n",
       " (139,\n",
       "  [('scaling_method', 'robust'),\n",
       "   ('encoding_method', 'onehot'),\n",
       "   ('drop', 'first'),\n",
       "   ('algorithm', 'lasso'),\n",
       "   ('alpha', 0.0002681818033142614)]),\n",
       " (140,\n",
       "  [('scaling_method', 'robust'),\n",
       "   ('encoding_method', 'onehot'),\n",
       "   ('drop', 'first'),\n",
       "   ('algorithm', 'lasso'),\n",
       "   ('alpha', 0.0005677938963913342)]),\n",
       " (141,\n",
       "  [('scaling_method', 'robust'),\n",
       "   ('encoding_method', 'onehot'),\n",
       "   ('drop', 'first'),\n",
       "   ('algorithm', 'lasso'),\n",
       "   ('alpha', 0.00029328152547710963)]),\n",
       " (142,\n",
       "  [('scaling_method', 'robust'),\n",
       "   ('encoding_method', 'onehot'),\n",
       "   ('drop', 'first'),\n",
       "   ('algorithm', 'lasso'),\n",
       "   ('alpha', 0.0003045855899472843)]),\n",
       " (143,\n",
       "  [('scaling_method', 'robust'),\n",
       "   ('encoding_method', 'onehot'),\n",
       "   ('drop', 'first'),\n",
       "   ('algorithm', 'lasso'),\n",
       "   ('alpha', 0.00018986429275235758)]),\n",
       " (144,\n",
       "  [('scaling_method', 'robust'),\n",
       "   ('encoding_method', 'onehot'),\n",
       "   ('drop', 'first'),\n",
       "   ('algorithm', 'lasso'),\n",
       "   ('alpha', 0.2001639966421736)]),\n",
       " (145,\n",
       "  [('scaling_method', 'robust'),\n",
       "   ('encoding_method', 'onehot'),\n",
       "   ('drop', 'first'),\n",
       "   ('algorithm', 'lasso'),\n",
       "   ('alpha', 0.0002829379067223625)]),\n",
       " (146,\n",
       "  [('scaling_method', 'standard'),\n",
       "   ('encoding_method', 'onehot'),\n",
       "   ('drop', 'first'),\n",
       "   ('algorithm', 'lasso'),\n",
       "   ('alpha', 0.000886304730033083)]),\n",
       " (147,\n",
       "  [('scaling_method', 'robust'),\n",
       "   ('encoding_method', 'onehot'),\n",
       "   ('drop', 'first'),\n",
       "   ('algorithm', 'lasso'),\n",
       "   ('alpha', 0.0005217200307058086)]),\n",
       " (148,\n",
       "  [('scaling_method', 'robust'),\n",
       "   ('encoding_method', 'onehot'),\n",
       "   ('drop', 'first'),\n",
       "   ('algorithm', 'lasso'),\n",
       "   ('alpha', 0.00014385611198352083)]),\n",
       " (149,\n",
       "  [('scaling_method', 'maxabs'),\n",
       "   ('encoding_method', 'ordinal'),\n",
       "   ('algorithm', 'lasso'),\n",
       "   ('alpha', 0.0002940953562274608)]),\n",
       " (150,\n",
       "  [('scaling_method', 'robust'),\n",
       "   ('encoding_method', 'onehot'),\n",
       "   ('drop', 'first'),\n",
       "   ('algorithm', 'lasso'),\n",
       "   ('alpha', 0.000678232394387674)]),\n",
       " (151,\n",
       "  [('scaling_method', 'robust'),\n",
       "   ('encoding_method', 'onehot'),\n",
       "   ('drop', 'first'),\n",
       "   ('algorithm', 'lasso'),\n",
       "   ('alpha', 0.0002266409723806853)]),\n",
       " (152,\n",
       "  [('scaling_method', 'robust'),\n",
       "   ('encoding_method', 'onehot'),\n",
       "   ('drop', 'first'),\n",
       "   ('algorithm', 'lasso'),\n",
       "   ('alpha', 0.0003143204575283397)]),\n",
       " (153,\n",
       "  [('scaling_method', 'robust'),\n",
       "   ('encoding_method', 'onehot'),\n",
       "   ('drop', 'first'),\n",
       "   ('algorithm', 'lasso'),\n",
       "   ('alpha', 0.00032428078188524896)]),\n",
       " (154,\n",
       "  [('scaling_method', 'robust'),\n",
       "   ('encoding_method', 'onehot'),\n",
       "   ('drop', 'first'),\n",
       "   ('algorithm', 'lasso'),\n",
       "   ('alpha', 0.0004817010950992444)]),\n",
       " (155,\n",
       "  [('scaling_method', 'robust'),\n",
       "   ('encoding_method', 'onehot'),\n",
       "   ('drop', 'first'),\n",
       "   ('algorithm', 'lasso'),\n",
       "   ('alpha', 0.00017567778521909253)]),\n",
       " (156,\n",
       "  [('scaling_method', 'robust'),\n",
       "   ('encoding_method', 'onehot'),\n",
       "   ('drop', 'first'),\n",
       "   ('algorithm', 'lasso'),\n",
       "   ('alpha', 0.0001326058428430213)]),\n",
       " (157,\n",
       "  [('scaling_method', 'robust'),\n",
       "   ('encoding_method', 'onehot'),\n",
       "   ('drop', 'first'),\n",
       "   ('algorithm', 'lasso'),\n",
       "   ('alpha', 0.0014317539569420536)]),\n",
       " (158,\n",
       "  [('scaling_method', 'robust'),\n",
       "   ('encoding_method', 'onehot'),\n",
       "   ('drop', 'first'),\n",
       "   ('algorithm', 'lasso'),\n",
       "   ('alpha', 0.0005340428663949692)]),\n",
       " (159,\n",
       "  [('scaling_method', 'robust'),\n",
       "   ('encoding_method', 'onehot'),\n",
       "   ('drop', 'first'),\n",
       "   ('algorithm', 'gbr'),\n",
       "   ('n_estimators', 340),\n",
       "   ('learning_rate', 0.09948911645898806),\n",
       "   ('max_depth', 9),\n",
       "   ('min_sample_split', 8)]),\n",
       " (160,\n",
       "  [('scaling_method', 'robust'),\n",
       "   ('encoding_method', 'onehot'),\n",
       "   ('drop', None),\n",
       "   ('algorithm', 'lasso'),\n",
       "   ('alpha', 0.00010001774154201741)]),\n",
       " (161,\n",
       "  [('scaling_method', 'robust'),\n",
       "   ('encoding_method', 'onehot'),\n",
       "   ('drop', 'first'),\n",
       "   ('algorithm', 'lasso'),\n",
       "   ('alpha', 0.0003203643960457536)]),\n",
       " (162,\n",
       "  [('scaling_method', 'robust'),\n",
       "   ('encoding_method', 'onehot'),\n",
       "   ('drop', 'first'),\n",
       "   ('algorithm', 'lasso'),\n",
       "   ('alpha', 0.0002118149011461438)]),\n",
       " (163,\n",
       "  [('scaling_method', 'robust'),\n",
       "   ('encoding_method', 'onehot'),\n",
       "   ('drop', 'first'),\n",
       "   ('algorithm', 'lasso'),\n",
       "   ('alpha', 0.0003233713452212489)]),\n",
       " (164,\n",
       "  [('scaling_method', 'robust'),\n",
       "   ('encoding_method', 'onehot'),\n",
       "   ('drop', 'first'),\n",
       "   ('algorithm', 'lasso'),\n",
       "   ('alpha', 0.0003519631738583915)]),\n",
       " (165,\n",
       "  [('scaling_method', 'minmax'),\n",
       "   ('encoding_method', 'onehot'),\n",
       "   ('drop', 'first'),\n",
       "   ('algorithm', 'lasso'),\n",
       "   ('alpha', 0.0007508714239069255)]),\n",
       " (166,\n",
       "  [('scaling_method', 'robust'),\n",
       "   ('encoding_method', 'onehot'),\n",
       "   ('drop', 'first'),\n",
       "   ('algorithm', 'xgb'),\n",
       "   ('learning_rate', 0.012226286737704074),\n",
       "   ('max_depth', 2),\n",
       "   ('subsample', 0.31431925284966256),\n",
       "   ('colsample_bytree', 0.2696685215841421),\n",
       "   ('min_child_weight', 8)]),\n",
       " (167,\n",
       "  [('scaling_method', 'robust'),\n",
       "   ('encoding_method', 'onehot'),\n",
       "   ('drop', 'first'),\n",
       "   ('algorithm', 'lasso'),\n",
       "   ('alpha', 0.00044854906521225857)]),\n",
       " (168,\n",
       "  [('scaling_method', 'robust'),\n",
       "   ('encoding_method', 'onehot'),\n",
       "   ('drop', 'first'),\n",
       "   ('algorithm', 'lasso'),\n",
       "   ('alpha', 0.00023291030711078425)]),\n",
       " (169,\n",
       "  [('scaling_method', 'robust'),\n",
       "   ('encoding_method', 'onehot'),\n",
       "   ('drop', None),\n",
       "   ('algorithm', 'lasso'),\n",
       "   ('alpha', 0.0003052236269302166)]),\n",
       " (170,\n",
       "  [('scaling_method', 'robust'),\n",
       "   ('encoding_method', 'onehot'),\n",
       "   ('drop', None),\n",
       "   ('algorithm', 'lasso'),\n",
       "   ('alpha', 0.00019878060813663793)]),\n",
       " (171,\n",
       "  [('scaling_method', 'robust'),\n",
       "   ('encoding_method', 'onehot'),\n",
       "   ('drop', None),\n",
       "   ('algorithm', 'lasso'),\n",
       "   ('alpha', 0.0003371659200380775)]),\n",
       " (172,\n",
       "  [('scaling_method', 'robust'),\n",
       "   ('encoding_method', 'onehot'),\n",
       "   ('drop', None),\n",
       "   ('algorithm', 'lasso'),\n",
       "   ('alpha', 0.00047190397267562334)]),\n",
       " (173,\n",
       "  [('scaling_method', 'robust'),\n",
       "   ('encoding_method', 'onehot'),\n",
       "   ('drop', None),\n",
       "   ('algorithm', 'lasso'),\n",
       "   ('alpha', 0.0004852616909841504)]),\n",
       " (174,\n",
       "  [('scaling_method', 'robust'),\n",
       "   ('encoding_method', 'onehot'),\n",
       "   ('drop', None),\n",
       "   ('algorithm', 'lasso'),\n",
       "   ('alpha', 0.0010261424586017768)]),\n",
       " (175,\n",
       "  [('scaling_method', 'robust'),\n",
       "   ('encoding_method', 'onehot'),\n",
       "   ('drop', None),\n",
       "   ('algorithm', 'lasso'),\n",
       "   ('alpha', 0.000648536192687135)]),\n",
       " (176,\n",
       "  [('scaling_method', 'robust'),\n",
       "   ('encoding_method', 'onehot'),\n",
       "   ('drop', None),\n",
       "   ('algorithm', 'lasso'),\n",
       "   ('alpha', 0.00015123432538843447)]),\n",
       " (177,\n",
       "  [('scaling_method', 'standard'),\n",
       "   ('encoding_method', 'onehot'),\n",
       "   ('drop', None),\n",
       "   ('algorithm', 'lasso'),\n",
       "   ('alpha', 0.0002785330774893725)]),\n",
       " (178,\n",
       "  [('scaling_method', 'robust'),\n",
       "   ('encoding_method', 'ordinal'),\n",
       "   ('algorithm', 'lasso'),\n",
       "   ('alpha', 0.0004111881257917249)]),\n",
       " (179,\n",
       "  [('scaling_method', 'robust'),\n",
       "   ('encoding_method', 'onehot'),\n",
       "   ('drop', None),\n",
       "   ('algorithm', 'lasso'),\n",
       "   ('alpha', 0.00018179454070590408)]),\n",
       " (180,\n",
       "  [('scaling_method', 'maxabs'),\n",
       "   ('encoding_method', 'onehot'),\n",
       "   ('drop', None),\n",
       "   ('algorithm', 'lasso'),\n",
       "   ('alpha', 0.000253408483943638)]),\n",
       " (181,\n",
       "  [('scaling_method', 'robust'),\n",
       "   ('encoding_method', 'onehot'),\n",
       "   ('drop', None),\n",
       "   ('algorithm', 'lasso'),\n",
       "   ('alpha', 0.0003542515523078881)]),\n",
       " (182,\n",
       "  [('scaling_method', 'robust'),\n",
       "   ('encoding_method', 'onehot'),\n",
       "   ('drop', None),\n",
       "   ('algorithm', 'lasso'),\n",
       "   ('alpha', 0.00046937048017771523)]),\n",
       " (183,\n",
       "  [('scaling_method', 'robust'),\n",
       "   ('encoding_method', 'onehot'),\n",
       "   ('drop', None),\n",
       "   ('algorithm', 'lasso'),\n",
       "   ('alpha', 0.00052631787596823)]),\n",
       " (184,\n",
       "  [('scaling_method', 'robust'),\n",
       "   ('encoding_method', 'onehot'),\n",
       "   ('drop', None),\n",
       "   ('algorithm', 'lasso'),\n",
       "   ('alpha', 0.0595373423231394)]),\n",
       " (185,\n",
       "  [('scaling_method', 'robust'),\n",
       "   ('encoding_method', 'onehot'),\n",
       "   ('drop', None),\n",
       "   ('algorithm', 'lasso'),\n",
       "   ('alpha', 0.0008557668537130816)]),\n",
       " (186,\n",
       "  [('scaling_method', 'robust'),\n",
       "   ('encoding_method', 'onehot'),\n",
       "   ('drop', None),\n",
       "   ('algorithm', 'lasso'),\n",
       "   ('alpha', 0.00040254531761231175)]),\n",
       " (187,\n",
       "  [('scaling_method', 'robust'),\n",
       "   ('encoding_method', 'onehot'),\n",
       "   ('drop', None),\n",
       "   ('algorithm', 'lasso'),\n",
       "   ('alpha', 0.0004315641194746674)]),\n",
       " (188,\n",
       "  [('scaling_method', 'robust'),\n",
       "   ('encoding_method', 'onehot'),\n",
       "   ('drop', None),\n",
       "   ('algorithm', 'lasso'),\n",
       "   ('alpha', 0.000469395304530523)]),\n",
       " (189,\n",
       "  [('scaling_method', 'robust'),\n",
       "   ('encoding_method', 'onehot'),\n",
       "   ('drop', None),\n",
       "   ('algorithm', 'lasso'),\n",
       "   ('alpha', 0.0007527744334547312)]),\n",
       " (190,\n",
       "  [('scaling_method', 'robust'),\n",
       "   ('encoding_method', 'onehot'),\n",
       "   ('drop', None),\n",
       "   ('algorithm', 'lasso'),\n",
       "   ('alpha', 0.0004420866505504345)]),\n",
       " (191,\n",
       "  [('scaling_method', 'robust'),\n",
       "   ('encoding_method', 'onehot'),\n",
       "   ('drop', None),\n",
       "   ('algorithm', 'lasso'),\n",
       "   ('alpha', 0.0004623529793692707)]),\n",
       " (192,\n",
       "  [('scaling_method', 'robust'),\n",
       "   ('encoding_method', 'onehot'),\n",
       "   ('drop', None),\n",
       "   ('algorithm', 'lasso'),\n",
       "   ('alpha', 0.00046246397468742846)]),\n",
       " (193,\n",
       "  [('scaling_method', 'robust'),\n",
       "   ('encoding_method', 'onehot'),\n",
       "   ('drop', None),\n",
       "   ('algorithm', 'lasso'),\n",
       "   ('alpha', 0.0004767325100946983)]),\n",
       " (194,\n",
       "  [('scaling_method', 'robust'),\n",
       "   ('encoding_method', 'onehot'),\n",
       "   ('drop', None),\n",
       "   ('algorithm', 'lasso'),\n",
       "   ('alpha', 0.0020286648680326955)]),\n",
       " (195,\n",
       "  [('scaling_method', 'robust'),\n",
       "   ('encoding_method', 'onehot'),\n",
       "   ('drop', None),\n",
       "   ('algorithm', 'lasso'),\n",
       "   ('alpha', 0.0010515325710276258)]),\n",
       " (196,\n",
       "  [('scaling_method', 'robust'),\n",
       "   ('encoding_method', 'onehot'),\n",
       "   ('drop', None),\n",
       "   ('algorithm', 'lasso'),\n",
       "   ('alpha', 0.0004774936777043768)]),\n",
       " (197,\n",
       "  [('scaling_method', 'robust'),\n",
       "   ('encoding_method', 'onehot'),\n",
       "   ('drop', None),\n",
       "   ('algorithm', 'gbr'),\n",
       "   ('n_estimators', 103),\n",
       "   ('learning_rate', 0.005744584036078347),\n",
       "   ('max_depth', 4),\n",
       "   ('min_sample_split', 4)]),\n",
       " (198,\n",
       "  [('scaling_method', 'robust'),\n",
       "   ('encoding_method', 'onehot'),\n",
       "   ('drop', None),\n",
       "   ('algorithm', 'lasso'),\n",
       "   ('alpha', 0.0005082277283297864)]),\n",
       " (199,\n",
       "  [('scaling_method', 'minmax'),\n",
       "   ('encoding_method', 'onehot'),\n",
       "   ('drop', None),\n",
       "   ('algorithm', 'xgb'),\n",
       "   ('learning_rate', 0.0015282287514435974),\n",
       "   ('max_depth', 7),\n",
       "   ('subsample', 0.7423553088438067),\n",
       "   ('colsample_bytree', 0.76119898266182),\n",
       "   ('min_child_weight', 4)])]"
      ]
     },
     "execution_count": 191,
     "metadata": {},
     "output_type": "execute_result"
    }
   ],
   "source": [
    "list(df_optuna.Parameters.items())"
   ]
  },
  {
   "cell_type": "code",
   "execution_count": 193,
   "id": "956324e2",
   "metadata": {},
   "outputs": [
    {
     "data": {
      "text/html": [
       "<div>\n",
       "<style scoped>\n",
       "    .dataframe tbody tr th:only-of-type {\n",
       "        vertical-align: middle;\n",
       "    }\n",
       "\n",
       "    .dataframe tbody tr th {\n",
       "        vertical-align: top;\n",
       "    }\n",
       "\n",
       "    .dataframe thead th {\n",
       "        text-align: right;\n",
       "    }\n",
       "</style>\n",
       "<table border=\"1\" class=\"dataframe\">\n",
       "  <thead>\n",
       "    <tr style=\"text-align: right;\">\n",
       "      <th></th>\n",
       "      <th>Trial</th>\n",
       "      <th>Score</th>\n",
       "      <th>Algorithm</th>\n",
       "      <th>Parameters</th>\n",
       "    </tr>\n",
       "  </thead>\n",
       "  <tbody>\n",
       "    <tr>\n",
       "      <th>0</th>\n",
       "      <td>0</td>\n",
       "      <td>-0.029441</td>\n",
       "      <td>lasso</td>\n",
       "      <td>[(scaling_method, robust), (encoding_method, o...</td>\n",
       "    </tr>\n",
       "    <tr>\n",
       "      <th>7</th>\n",
       "      <td>7</td>\n",
       "      <td>0.158099</td>\n",
       "      <td>lasso</td>\n",
       "      <td>[(scaling_method, maxabs), (encoding_method, o...</td>\n",
       "    </tr>\n",
       "    <tr>\n",
       "      <th>9</th>\n",
       "      <td>9</td>\n",
       "      <td>-0.029441</td>\n",
       "      <td>lasso</td>\n",
       "      <td>[(scaling_method, maxabs), (encoding_method, o...</td>\n",
       "    </tr>\n",
       "    <tr>\n",
       "      <th>28</th>\n",
       "      <td>28</td>\n",
       "      <td>-0.029441</td>\n",
       "      <td>lasso</td>\n",
       "      <td>[(scaling_method, robust), (encoding_method, o...</td>\n",
       "    </tr>\n",
       "    <tr>\n",
       "      <th>29</th>\n",
       "      <td>29</td>\n",
       "      <td>-0.029441</td>\n",
       "      <td>lasso</td>\n",
       "      <td>[(scaling_method, robust), (encoding_method, o...</td>\n",
       "    </tr>\n",
       "    <tr>\n",
       "      <th>...</th>\n",
       "      <td>...</td>\n",
       "      <td>...</td>\n",
       "      <td>...</td>\n",
       "      <td>...</td>\n",
       "    </tr>\n",
       "    <tr>\n",
       "      <th>193</th>\n",
       "      <td>193</td>\n",
       "      <td>0.950580</td>\n",
       "      <td>lasso</td>\n",
       "      <td>[(scaling_method, robust), (encoding_method, o...</td>\n",
       "    </tr>\n",
       "    <tr>\n",
       "      <th>194</th>\n",
       "      <td>194</td>\n",
       "      <td>0.943710</td>\n",
       "      <td>lasso</td>\n",
       "      <td>[(scaling_method, robust), (encoding_method, o...</td>\n",
       "    </tr>\n",
       "    <tr>\n",
       "      <th>195</th>\n",
       "      <td>195</td>\n",
       "      <td>0.948354</td>\n",
       "      <td>lasso</td>\n",
       "      <td>[(scaling_method, robust), (encoding_method, o...</td>\n",
       "    </tr>\n",
       "    <tr>\n",
       "      <th>196</th>\n",
       "      <td>196</td>\n",
       "      <td>0.950578</td>\n",
       "      <td>lasso</td>\n",
       "      <td>[(scaling_method, robust), (encoding_method, o...</td>\n",
       "    </tr>\n",
       "    <tr>\n",
       "      <th>198</th>\n",
       "      <td>198</td>\n",
       "      <td>0.950504</td>\n",
       "      <td>lasso</td>\n",
       "      <td>[(scaling_method, robust), (encoding_method, o...</td>\n",
       "    </tr>\n",
       "  </tbody>\n",
       "</table>\n",
       "<p>138 rows × 4 columns</p>\n",
       "</div>"
      ],
      "text/plain": [
       "     Trial     Score Algorithm  \\\n",
       "0        0 -0.029441     lasso   \n",
       "7        7  0.158099     lasso   \n",
       "9        9 -0.029441     lasso   \n",
       "28      28 -0.029441     lasso   \n",
       "29      29 -0.029441     lasso   \n",
       "..     ...       ...       ...   \n",
       "193    193  0.950580     lasso   \n",
       "194    194  0.943710     lasso   \n",
       "195    195  0.948354     lasso   \n",
       "196    196  0.950578     lasso   \n",
       "198    198  0.950504     lasso   \n",
       "\n",
       "                                            Parameters  \n",
       "0    [(scaling_method, robust), (encoding_method, o...  \n",
       "7    [(scaling_method, maxabs), (encoding_method, o...  \n",
       "9    [(scaling_method, maxabs), (encoding_method, o...  \n",
       "28   [(scaling_method, robust), (encoding_method, o...  \n",
       "29   [(scaling_method, robust), (encoding_method, o...  \n",
       "..                                                 ...  \n",
       "193  [(scaling_method, robust), (encoding_method, o...  \n",
       "194  [(scaling_method, robust), (encoding_method, o...  \n",
       "195  [(scaling_method, robust), (encoding_method, o...  \n",
       "196  [(scaling_method, robust), (encoding_method, o...  \n",
       "198  [(scaling_method, robust), (encoding_method, o...  \n",
       "\n",
       "[138 rows x 4 columns]"
      ]
     },
     "execution_count": 193,
     "metadata": {},
     "output_type": "execute_result"
    }
   ],
   "source": [
    "df_optuna[df_optuna.Algorithm == 'lasso']"
   ]
  },
  {
   "cell_type": "code",
   "execution_count": 26,
   "id": "49f99124",
   "metadata": {},
   "outputs": [
    {
     "name": "stdout",
     "output_type": "stream",
     "text": [
      "rf [('scaling_method', 'robust'), ('encoding_method', 'onehot'), ('drop', None), ('algorithm', 'rf'), ('bootstrap', True), ('n_estimators', 355), ('max_depth', 67), ('min_sample_split', 5), ('min_sample_leaf', 1)]\n"
     ]
    }
   ],
   "source": [
    "# print('lasso', df_optuna.Parameters[169])\n",
    "# print('ridge', df_optuna.Parameters[53])\n",
    "# print('xgb', df_optuna.Parameters[137])\n",
    "# print('gbr', df_optuna.Parameters[135])\n",
    "print('rf', df_optuna.Parameters[179])"
   ]
  },
  {
   "cell_type": "code",
   "execution_count": 25,
   "id": "7522fb94",
   "metadata": {},
   "outputs": [
    {
     "data": {
      "application/vnd.plotly.v1+json": {
       "config": {
        "plotlyServerURL": "https://plot.ly"
       },
       "data": [
        {
         "customdata": [
          [
           [
            [
             "scaling_method",
             "minmax"
            ],
            [
             "encoding_method",
             "ordinal"
            ],
            [
             "algorithm",
             "gbr"
            ],
            [
             "n_estimators",
             767
            ],
            [
             "learning_rate",
             0.0028366153642322566
            ],
            [
             "max_depth",
             3
            ],
            [
             "subsample",
             0.52779532452511
            ],
            [
             "min_sample_split",
             6
            ],
            [
             "min_sample_leaf",
             2
            ]
           ]
          ],
          [
           [
            [
             "scaling_method",
             "maxabs"
            ],
            [
             "encoding_method",
             "onehot"
            ],
            [
             "drop",
             null
            ],
            [
             "algorithm",
             "gbr"
            ],
            [
             "n_estimators",
             1000
            ],
            [
             "learning_rate",
             0.03744695920657587
            ],
            [
             "max_depth",
             2
            ],
            [
             "subsample",
             0.5091479863132224
            ],
            [
             "min_sample_split",
             6
            ],
            [
             "min_sample_leaf",
             10
            ]
           ]
          ],
          [
           [
            [
             "scaling_method",
             "robust"
            ],
            [
             "encoding_method",
             "ordinal"
            ],
            [
             "algorithm",
             "gbr"
            ],
            [
             "n_estimators",
             788
            ],
            [
             "learning_rate",
             0.00020500505408105124
            ],
            [
             "max_depth",
             5
            ],
            [
             "subsample",
             0.9975907844733649
            ],
            [
             "min_sample_split",
             8
            ],
            [
             "min_sample_leaf",
             9
            ]
           ]
          ],
          [
           [
            [
             "scaling_method",
             "robust"
            ],
            [
             "encoding_method",
             "onehot"
            ],
            [
             "drop",
             null
            ],
            [
             "algorithm",
             "gbr"
            ],
            [
             "n_estimators",
             858
            ],
            [
             "learning_rate",
             0.01675324056246886
            ],
            [
             "max_depth",
             2
            ],
            [
             "subsample",
             0.6394011481008399
            ],
            [
             "min_sample_split",
             8
            ],
            [
             "min_sample_leaf",
             7
            ]
           ]
          ],
          [
           [
            [
             "scaling_method",
             "standard"
            ],
            [
             "encoding_method",
             "onehot"
            ],
            [
             "drop",
             null
            ],
            [
             "algorithm",
             "gbr"
            ],
            [
             "n_estimators",
             1000
            ],
            [
             "learning_rate",
             0.0051714306608503825
            ],
            [
             "max_depth",
             3
            ],
            [
             "subsample",
             0.6090984934188113
            ],
            [
             "min_sample_split",
             7
            ],
            [
             "min_sample_leaf",
             4
            ]
           ]
          ],
          [
           [
            [
             "scaling_method",
             "robust"
            ],
            [
             "encoding_method",
             "onehot"
            ],
            [
             "drop",
             null
            ],
            [
             "algorithm",
             "gbr"
            ],
            [
             "n_estimators",
             833
            ],
            [
             "learning_rate",
             0.34335847522276197
            ],
            [
             "max_depth",
             3
            ],
            [
             "subsample",
             0.9047206617908237
            ],
            [
             "min_sample_split",
             9
            ],
            [
             "min_sample_leaf",
             1
            ]
           ]
          ],
          [
           [
            [
             "scaling_method",
             "robust"
            ],
            [
             "encoding_method",
             "onehot"
            ],
            [
             "drop",
             null
            ],
            [
             "algorithm",
             "gbr"
            ],
            [
             "n_estimators",
             730
            ],
            [
             "learning_rate",
             0.28282106646216737
            ],
            [
             "max_depth",
             4
            ],
            [
             "subsample",
             0.6017950161628121
            ],
            [
             "min_sample_split",
             9
            ],
            [
             "min_sample_leaf",
             5
            ]
           ]
          ],
          [
           [
            [
             "scaling_method",
             "robust"
            ],
            [
             "encoding_method",
             "onehot"
            ],
            [
             "drop",
             null
            ],
            [
             "algorithm",
             "gbr"
            ],
            [
             "n_estimators",
             938
            ],
            [
             "learning_rate",
             0.002059385472555751
            ],
            [
             "max_depth",
             4
            ],
            [
             "subsample",
             0.8011545801974311
            ],
            [
             "min_sample_split",
             7
            ],
            [
             "min_sample_leaf",
             6
            ]
           ]
          ],
          [
           [
            [
             "scaling_method",
             "minmax"
            ],
            [
             "encoding_method",
             "onehot"
            ],
            [
             "drop",
             null
            ],
            [
             "algorithm",
             "gbr"
            ],
            [
             "n_estimators",
             685
            ],
            [
             "learning_rate",
             0.0003574235070041635
            ],
            [
             "max_depth",
             2
            ],
            [
             "subsample",
             0.5706378825373541
            ],
            [
             "min_sample_split",
             9
            ],
            [
             "min_sample_leaf",
             3
            ]
           ]
          ]
         ],
         "hovertemplate": "Algorithm=gbr<br>Trial=%{x}<br>Score=%{y}<br>Parameters=%{customdata[0]}<extra></extra>",
         "legendgroup": "gbr",
         "marker": {
          "color": "#636efa",
          "symbol": "circle"
         },
         "mode": "markers",
         "name": "gbr",
         "orientation": "v",
         "showlegend": true,
         "type": "scatter",
         "x": [
          0,
          24,
          29,
          38,
          67,
          86,
          115,
          148,
          190
         ],
         "xaxis": "x",
         "y": [
          0.8534689230641774,
          0.9453253751550055,
          0.16785182733621468,
          0.9367039075202874,
          0.9287580558440911,
          0.9324715222553175,
          0.9322251349904596,
          0.858382944545087,
          0.19262836347953688
         ],
         "yaxis": "y"
        },
        {
         "customdata": [
          [
           [
            [
             "scaling_method",
             "standard"
            ],
            [
             "encoding_method",
             "ordinal"
            ],
            [
             "algorithm",
             "xgb"
            ],
            [
             "n_estimators",
             357
            ],
            [
             "learning_rate",
             0.6707334874038324
            ],
            [
             "max_depth",
             7
            ],
            [
             "subsample",
             0.9728693159657239
            ],
            [
             "colsample_bytree",
             0.5660990173618483
            ],
            [
             "min_child_weight",
             11
            ]
           ]
          ],
          [
           [
            [
             "scaling_method",
             "robust"
            ],
            [
             "encoding_method",
             "onehot"
            ],
            [
             "drop",
             null
            ],
            [
             "algorithm",
             "xgb"
            ],
            [
             "n_estimators",
             557
            ],
            [
             "learning_rate",
             0.07686462648614949
            ],
            [
             "max_depth",
             7
            ],
            [
             "subsample",
             0.7007900317182986
            ],
            [
             "colsample_bytree",
             0.9803625544404208
            ],
            [
             "min_child_weight",
             19
            ]
           ]
          ],
          [
           [
            [
             "scaling_method",
             "standard"
            ],
            [
             "encoding_method",
             "onehot"
            ],
            [
             "drop",
             null
            ],
            [
             "algorithm",
             "xgb"
            ],
            [
             "n_estimators",
             647
            ],
            [
             "learning_rate",
             0.21643457242880457
            ],
            [
             "max_depth",
             6
            ],
            [
             "subsample",
             0.8752936071778739
            ],
            [
             "colsample_bytree",
             0.7398248355760053
            ],
            [
             "min_child_weight",
             10
            ]
           ]
          ],
          [
           [
            [
             "scaling_method",
             "robust"
            ],
            [
             "encoding_method",
             "onehot"
            ],
            [
             "drop",
             null
            ],
            [
             "algorithm",
             "xgb"
            ],
            [
             "n_estimators",
             587
            ],
            [
             "learning_rate",
             0.009612827769989538
            ],
            [
             "max_depth",
             5
            ],
            [
             "subsample",
             0.7086472207807635
            ],
            [
             "colsample_bytree",
             0.8522694718270836
            ],
            [
             "min_child_weight",
             15
            ]
           ]
          ],
          [
           [
            [
             "scaling_method",
             "robust"
            ],
            [
             "encoding_method",
             "onehot"
            ],
            [
             "drop",
             null
            ],
            [
             "algorithm",
             "xgb"
            ],
            [
             "n_estimators",
             645
            ],
            [
             "learning_rate",
             0.007103498281567411
            ],
            [
             "max_depth",
             7
            ],
            [
             "subsample",
             0.7128220159714717
            ],
            [
             "colsample_bytree",
             0.8381662039836251
            ],
            [
             "min_child_weight",
             13
            ]
           ]
          ]
         ],
         "hovertemplate": "Algorithm=xgb<br>Trial=%{x}<br>Score=%{y}<br>Parameters=%{customdata[0]}<extra></extra>",
         "legendgroup": "xgb",
         "marker": {
          "color": "#EF553B",
          "symbol": "circle"
         },
         "mode": "markers",
         "name": "xgb",
         "orientation": "v",
         "showlegend": true,
         "type": "scatter",
         "x": [
          2,
          32,
          45,
          97,
          160
         ],
         "xaxis": "x",
         "y": [
          0.8983485182718915,
          0.9449133493261778,
          0.9381501355880735,
          0.8988411428005779,
          0.7767834660397117
         ],
         "yaxis": "y"
        },
        {
         "customdata": [
          [
           [
            [
             "scaling_method",
             "standard"
            ],
            [
             "encoding_method",
             "onehot"
            ],
            [
             "drop",
             null
            ],
            [
             "algorithm",
             "lasso"
            ],
            [
             "alpha",
             0.18694544168285343
            ]
           ]
          ]
         ],
         "hovertemplate": "Algorithm=lasso<br>Trial=%{x}<br>Score=%{y}<br>Parameters=%{customdata[0]}<extra></extra>",
         "legendgroup": "lasso",
         "marker": {
          "color": "#00cc96",
          "symbol": "circle"
         },
         "mode": "markers",
         "name": "lasso",
         "orientation": "v",
         "showlegend": true,
         "type": "scatter",
         "x": [
          3
         ],
         "xaxis": "x",
         "y": [
          0.39119694583854603
         ],
         "yaxis": "y"
        },
        {
         "customdata": [
          [
           [
            [
             "scaling_method",
             "standard"
            ],
            [
             "encoding_method",
             "onehot"
            ],
            [
             "drop",
             "first"
            ],
            [
             "algorithm",
             "rf"
            ],
            [
             "bootstrap",
             true
            ],
            [
             "n_estimators",
             376
            ],
            [
             "max_depth",
             98
            ],
            [
             "min_sample_split",
             9
            ],
            [
             "min_sample_leaf",
             2
            ]
           ]
          ],
          [
           [
            [
             "scaling_method",
             "maxabs"
            ],
            [
             "encoding_method",
             "onehot"
            ],
            [
             "drop",
             "first"
            ],
            [
             "algorithm",
             "rf"
            ],
            [
             "bootstrap",
             true
            ],
            [
             "n_estimators",
             46
            ],
            [
             "max_depth",
             96
            ],
            [
             "min_sample_split",
             10
            ],
            [
             "min_sample_leaf",
             4
            ]
           ]
          ],
          [
           [
            [
             "scaling_method",
             "maxabs"
            ],
            [
             "encoding_method",
             "onehot"
            ],
            [
             "drop",
             "first"
            ],
            [
             "algorithm",
             "rf"
            ],
            [
             "bootstrap",
             true
            ],
            [
             "n_estimators",
             18
            ],
            [
             "max_depth",
             100
            ],
            [
             "min_sample_split",
             10
            ],
            [
             "min_sample_leaf",
             4
            ]
           ]
          ],
          [
           [
            [
             "scaling_method",
             "maxabs"
            ],
            [
             "encoding_method",
             "onehot"
            ],
            [
             "drop",
             "first"
            ],
            [
             "algorithm",
             "rf"
            ],
            [
             "bootstrap",
             true
            ],
            [
             "n_estimators",
             112
            ],
            [
             "max_depth",
             100
            ],
            [
             "min_sample_split",
             10
            ],
            [
             "min_sample_leaf",
             2
            ]
           ]
          ],
          [
           [
            [
             "scaling_method",
             "standard"
            ],
            [
             "encoding_method",
             "onehot"
            ],
            [
             "drop",
             null
            ],
            [
             "algorithm",
             "rf"
            ],
            [
             "bootstrap",
             false
            ],
            [
             "n_estimators",
             482
            ],
            [
             "max_depth",
             54
            ],
            [
             "min_sample_split",
             2
            ],
            [
             "min_sample_leaf",
             7
            ]
           ]
          ],
          [
           [
            [
             "scaling_method",
             "standard"
            ],
            [
             "encoding_method",
             "onehot"
            ],
            [
             "drop",
             "first"
            ],
            [
             "algorithm",
             "rf"
            ],
            [
             "bootstrap",
             false
            ],
            [
             "n_estimators",
             700
            ],
            [
             "max_depth",
             29
            ],
            [
             "min_sample_split",
             2
            ],
            [
             "min_sample_leaf",
             6
            ]
           ]
          ],
          [
           [
            [
             "scaling_method",
             "standard"
            ],
            [
             "encoding_method",
             "onehot"
            ],
            [
             "drop",
             null
            ],
            [
             "algorithm",
             "rf"
            ],
            [
             "bootstrap",
             false
            ],
            [
             "n_estimators",
             885
            ],
            [
             "max_depth",
             77
            ],
            [
             "min_sample_split",
             4
            ],
            [
             "min_sample_leaf",
             9
            ]
           ]
          ],
          [
           [
            [
             "scaling_method",
             "robust"
            ],
            [
             "encoding_method",
             "onehot"
            ],
            [
             "drop",
             null
            ],
            [
             "algorithm",
             "rf"
            ],
            [
             "bootstrap",
             false
            ],
            [
             "n_estimators",
             775
            ],
            [
             "max_depth",
             55
            ],
            [
             "min_sample_split",
             4
            ],
            [
             "min_sample_leaf",
             8
            ]
           ]
          ],
          [
           [
            [
             "scaling_method",
             "robust"
            ],
            [
             "encoding_method",
             "onehot"
            ],
            [
             "drop",
             null
            ],
            [
             "algorithm",
             "rf"
            ],
            [
             "bootstrap",
             false
            ],
            [
             "n_estimators",
             313
            ],
            [
             "max_depth",
             40
            ],
            [
             "min_sample_split",
             4
            ],
            [
             "min_sample_leaf",
             10
            ]
           ]
          ],
          [
           [
            [
             "scaling_method",
             "robust"
            ],
            [
             "encoding_method",
             "onehot"
            ],
            [
             "drop",
             null
            ],
            [
             "algorithm",
             "rf"
            ],
            [
             "bootstrap",
             true
            ],
            [
             "n_estimators",
             355
            ],
            [
             "max_depth",
             67
            ],
            [
             "min_sample_split",
             5
            ],
            [
             "min_sample_leaf",
             1
            ]
           ]
          ]
         ],
         "hovertemplate": "Algorithm=rf<br>Trial=%{x}<br>Score=%{y}<br>Parameters=%{customdata[0]}<extra></extra>",
         "legendgroup": "rf",
         "marker": {
          "color": "#ab63fa",
          "symbol": "circle"
         },
         "mode": "markers",
         "name": "rf",
         "orientation": "v",
         "showlegend": true,
         "type": "scatter",
         "x": [
          4,
          10,
          11,
          12,
          47,
          59,
          80,
          107,
          139,
          179
         ],
         "xaxis": "x",
         "y": [
          0.9025630608762469,
          0.9005583814485196,
          0.8984310859548998,
          0.9026055886209007,
          0.8344907524014218,
          0.8359664915378944,
          0.8394126522565188,
          0.8424522831527412,
          0.8391884443405815,
          0.9081717633637603
         ],
         "yaxis": "y"
        },
        {
         "customdata": [
          [
           [
            [
             "scaling_method",
             "robust"
            ],
            [
             "encoding_method",
             "ordinal"
            ],
            [
             "algorithm",
             "ada"
            ],
            [
             "learning_rate",
             0.0029035326951488273
            ],
            [
             "loss",
             "linear"
            ],
            [
             "n_estimators",
             629
            ]
           ]
          ],
          [
           [
            [
             "scaling_method",
             "robust"
            ],
            [
             "encoding_method",
             "onehot"
            ],
            [
             "drop",
             null
            ],
            [
             "algorithm",
             "ada"
            ],
            [
             "learning_rate",
             0.7667975049853252
            ],
            [
             "loss",
             "exponential"
            ],
            [
             "n_estimators",
             918
            ]
           ]
          ],
          [
           [
            [
             "scaling_method",
             "robust"
            ],
            [
             "encoding_method",
             "ordinal"
            ],
            [
             "algorithm",
             "ada"
            ],
            [
             "learning_rate",
             0.06593327151404603
            ],
            [
             "loss",
             "square"
            ],
            [
             "n_estimators",
             218
            ]
           ]
          ],
          [
           [
            [
             "scaling_method",
             "standard"
            ],
            [
             "encoding_method",
             "onehot"
            ],
            [
             "drop",
             null
            ],
            [
             "algorithm",
             "ada"
            ],
            [
             "learning_rate",
             0.0006873767001023671
            ],
            [
             "loss",
             "exponential"
            ],
            [
             "n_estimators",
             157
            ]
           ]
          ],
          [
           [
            [
             "scaling_method",
             "standard"
            ],
            [
             "encoding_method",
             "ordinal"
            ],
            [
             "algorithm",
             "ada"
            ],
            [
             "learning_rate",
             0.017652333259211585
            ],
            [
             "loss",
             "square"
            ],
            [
             "n_estimators",
             513
            ]
           ]
          ],
          [
           [
            [
             "scaling_method",
             "robust"
            ],
            [
             "encoding_method",
             "onehot"
            ],
            [
             "drop",
             null
            ],
            [
             "algorithm",
             "ada"
            ],
            [
             "learning_rate",
             0.0001077514405471103
            ],
            [
             "loss",
             "linear"
            ],
            [
             "n_estimators",
             429
            ]
           ]
          ],
          [
           [
            [
             "scaling_method",
             "robust"
            ],
            [
             "encoding_method",
             "onehot"
            ],
            [
             "drop",
             null
            ],
            [
             "algorithm",
             "ada"
            ],
            [
             "learning_rate",
             0.13917423188259448
            ],
            [
             "loss",
             "linear"
            ],
            [
             "n_estimators",
             96
            ]
           ]
          ],
          [
           [
            [
             "scaling_method",
             "minmax"
            ],
            [
             "encoding_method",
             "onehot"
            ],
            [
             "drop",
             null
            ],
            [
             "algorithm",
             "ada"
            ],
            [
             "learning_rate",
             0.03145148891711493
            ],
            [
             "loss",
             "exponential"
            ],
            [
             "n_estimators",
             206
            ]
           ]
          ],
          [
           [
            [
             "scaling_method",
             "robust"
            ],
            [
             "encoding_method",
             "ordinal"
            ],
            [
             "algorithm",
             "ada"
            ],
            [
             "learning_rate",
             0.12567447772017895
            ],
            [
             "loss",
             "square"
            ],
            [
             "n_estimators",
             21
            ]
           ]
          ]
         ],
         "hovertemplate": "Algorithm=ada<br>Trial=%{x}<br>Score=%{y}<br>Parameters=%{customdata[0]}<extra></extra>",
         "legendgroup": "ada",
         "marker": {
          "color": "#FFA15A",
          "symbol": "circle"
         },
         "mode": "markers",
         "name": "ada",
         "orientation": "v",
         "showlegend": true,
         "type": "scatter",
         "x": [
          7,
          20,
          37,
          49,
          68,
          90,
          119,
          158,
          199
         ],
         "xaxis": "x",
         "y": [
          0.7753083314731837,
          0.876856448546339,
          0.8425050255310136,
          0.7451819448017094,
          0.8294517089556331,
          0.7421572886925786,
          0.8358099272408481,
          0.8116256901881613,
          0.7832808668840541
         ],
         "yaxis": "y"
        },
        {
         "customdata": [
          [
           [
            [
             "scaling_method",
             "standard"
            ],
            [
             "encoding_method",
             "ordinal"
            ],
            [
             "algorithm",
             "en"
            ],
            [
             "alpha",
             0.07463511030989889
            ]
           ]
          ],
          [
           [
            [
             "scaling_method",
             "maxabs"
            ],
            [
             "encoding_method",
             "onehot"
            ],
            [
             "drop",
             null
            ],
            [
             "algorithm",
             "en"
            ],
            [
             "alpha",
             0.00764193776184547
            ]
           ]
          ],
          [
           [
            [
             "scaling_method",
             "robust"
            ],
            [
             "encoding_method",
             "onehot"
            ],
            [
             "drop",
             null
            ],
            [
             "algorithm",
             "en"
            ],
            [
             "alpha",
             0.2995892509703198
            ]
           ]
          ]
         ],
         "hovertemplate": "Algorithm=en<br>Trial=%{x}<br>Score=%{y}<br>Parameters=%{customdata[0]}<extra></extra>",
         "legendgroup": "en",
         "marker": {
          "color": "#19d3f3",
          "symbol": "circle"
         },
         "mode": "markers",
         "name": "en",
         "orientation": "v",
         "showlegend": true,
         "type": "scatter",
         "x": [
          8,
          25,
          36
         ],
         "xaxis": "x",
         "y": [
          0.8798457339669232,
          0.8902797960369311,
          0.2754569539199861
         ],
         "yaxis": "y"
        },
        {
         "customdata": [
          [
           [
            [
             "scaling_method",
             "maxabs"
            ],
            [
             "encoding_method",
             "onehot"
            ],
            [
             "drop",
             "first"
            ],
            [
             "algorithm",
             "ridge"
            ],
            [
             "alpha",
             0.00034760007233794075
            ]
           ]
          ],
          [
           [
            [
             "scaling_method",
             "maxabs"
            ],
            [
             "encoding_method",
             "onehot"
            ],
            [
             "drop",
             "first"
            ],
            [
             "algorithm",
             "ridge"
            ],
            [
             "alpha",
             0.00020410940914510254
            ]
           ]
          ],
          [
           [
            [
             "scaling_method",
             "maxabs"
            ],
            [
             "encoding_method",
             "onehot"
            ],
            [
             "drop",
             "first"
            ],
            [
             "algorithm",
             "ridge"
            ],
            [
             "alpha",
             0.00010637270398305505
            ]
           ]
          ],
          [
           [
            [
             "scaling_method",
             "maxabs"
            ],
            [
             "encoding_method",
             "onehot"
            ],
            [
             "drop",
             "first"
            ],
            [
             "algorithm",
             "ridge"
            ],
            [
             "alpha",
             0.00012311605679866708
            ]
           ]
          ],
          [
           [
            [
             "scaling_method",
             "maxabs"
            ],
            [
             "encoding_method",
             "onehot"
            ],
            [
             "drop",
             null
            ],
            [
             "algorithm",
             "ridge"
            ],
            [
             "alpha",
             0.0034573793212777336
            ]
           ]
          ],
          [
           [
            [
             "scaling_method",
             "maxabs"
            ],
            [
             "encoding_method",
             "onehot"
            ],
            [
             "drop",
             null
            ],
            [
             "algorithm",
             "ridge"
            ],
            [
             "alpha",
             0.006215148235411284
            ]
           ]
          ],
          [
           [
            [
             "scaling_method",
             "maxabs"
            ],
            [
             "encoding_method",
             "onehot"
            ],
            [
             "drop",
             null
            ],
            [
             "algorithm",
             "ridge"
            ],
            [
             "alpha",
             0.007331218774057828
            ]
           ]
          ],
          [
           [
            [
             "scaling_method",
             "maxabs"
            ],
            [
             "encoding_method",
             "onehot"
            ],
            [
             "drop",
             null
            ],
            [
             "algorithm",
             "ridge"
            ],
            [
             "alpha",
             0.009656736048741291
            ]
           ]
          ],
          [
           [
            [
             "scaling_method",
             "maxabs"
            ],
            [
             "encoding_method",
             "onehot"
            ],
            [
             "drop",
             null
            ],
            [
             "algorithm",
             "ridge"
            ],
            [
             "alpha",
             0.009682163254378208
            ]
           ]
          ],
          [
           [
            [
             "scaling_method",
             "maxabs"
            ],
            [
             "encoding_method",
             "onehot"
            ],
            [
             "drop",
             null
            ],
            [
             "algorithm",
             "ridge"
            ],
            [
             "alpha",
             957.5689866973827
            ]
           ]
          ],
          [
           [
            [
             "scaling_method",
             "maxabs"
            ],
            [
             "encoding_method",
             "onehot"
            ],
            [
             "drop",
             null
            ],
            [
             "algorithm",
             "ridge"
            ],
            [
             "alpha",
             0.02975630106959021
            ]
           ]
          ],
          [
           [
            [
             "scaling_method",
             "maxabs"
            ],
            [
             "encoding_method",
             "onehot"
            ],
            [
             "drop",
             null
            ],
            [
             "algorithm",
             "ridge"
            ],
            [
             "alpha",
             0.001553548947697273
            ]
           ]
          ],
          [
           [
            [
             "scaling_method",
             "robust"
            ],
            [
             "encoding_method",
             "onehot"
            ],
            [
             "drop",
             null
            ],
            [
             "algorithm",
             "ridge"
            ],
            [
             "alpha",
             0.024757954572296487
            ]
           ]
          ],
          [
           [
            [
             "scaling_method",
             "robust"
            ],
            [
             "encoding_method",
             "onehot"
            ],
            [
             "drop",
             null
            ],
            [
             "algorithm",
             "ridge"
            ],
            [
             "alpha",
             0.02986651477332422
            ]
           ]
          ],
          [
           [
            [
             "scaling_method",
             "robust"
            ],
            [
             "encoding_method",
             "onehot"
            ],
            [
             "drop",
             null
            ],
            [
             "algorithm",
             "ridge"
            ],
            [
             "alpha",
             0.05020454634788718
            ]
           ]
          ],
          [
           [
            [
             "scaling_method",
             "robust"
            ],
            [
             "encoding_method",
             "onehot"
            ],
            [
             "drop",
             null
            ],
            [
             "algorithm",
             "ridge"
            ],
            [
             "alpha",
             0.048314679349465886
            ]
           ]
          ],
          [
           [
            [
             "scaling_method",
             "robust"
            ],
            [
             "encoding_method",
             "onehot"
            ],
            [
             "drop",
             null
            ],
            [
             "algorithm",
             "ridge"
            ],
            [
             "alpha",
             0.07701327640342204
            ]
           ]
          ],
          [
           [
            [
             "scaling_method",
             "minmax"
            ],
            [
             "encoding_method",
             "ordinal"
            ],
            [
             "algorithm",
             "ridge"
            ],
            [
             "alpha",
             0.08228069765135829
            ]
           ]
          ],
          [
           [
            [
             "scaling_method",
             "robust"
            ],
            [
             "encoding_method",
             "onehot"
            ],
            [
             "drop",
             null
            ],
            [
             "algorithm",
             "ridge"
            ],
            [
             "alpha",
             11.654416902272764
            ]
           ]
          ],
          [
           [
            [
             "scaling_method",
             "robust"
            ],
            [
             "encoding_method",
             "onehot"
            ],
            [
             "drop",
             null
            ],
            [
             "algorithm",
             "ridge"
            ],
            [
             "alpha",
             370.18772733615316
            ]
           ]
          ],
          [
           [
            [
             "scaling_method",
             "robust"
            ],
            [
             "encoding_method",
             "onehot"
            ],
            [
             "drop",
             null
            ],
            [
             "algorithm",
             "ridge"
            ],
            [
             "alpha",
             31.963605990622764
            ]
           ]
          ],
          [
           [
            [
             "scaling_method",
             "standard"
            ],
            [
             "encoding_method",
             "onehot"
            ],
            [
             "drop",
             null
            ],
            [
             "algorithm",
             "ridge"
            ],
            [
             "alpha",
             38.46167045979947
            ]
           ]
          ],
          [
           [
            [
             "scaling_method",
             "standard"
            ],
            [
             "encoding_method",
             "onehot"
            ],
            [
             "drop",
             null
            ],
            [
             "algorithm",
             "ridge"
            ],
            [
             "alpha",
             26.272595957510102
            ]
           ]
          ],
          [
           [
            [
             "scaling_method",
             "standard"
            ],
            [
             "encoding_method",
             "onehot"
            ],
            [
             "drop",
             null
            ],
            [
             "algorithm",
             "ridge"
            ],
            [
             "alpha",
             29.549452125173403
            ]
           ]
          ],
          [
           [
            [
             "scaling_method",
             "standard"
            ],
            [
             "encoding_method",
             "onehot"
            ],
            [
             "drop",
             null
            ],
            [
             "algorithm",
             "ridge"
            ],
            [
             "alpha",
             25.752073839163717
            ]
           ]
          ],
          [
           [
            [
             "scaling_method",
             "standard"
            ],
            [
             "encoding_method",
             "onehot"
            ],
            [
             "drop",
             null
            ],
            [
             "algorithm",
             "ridge"
            ],
            [
             "alpha",
             24.11339626123322
            ]
           ]
          ],
          [
           [
            [
             "scaling_method",
             "standard"
            ],
            [
             "encoding_method",
             "onehot"
            ],
            [
             "drop",
             null
            ],
            [
             "algorithm",
             "ridge"
            ],
            [
             "alpha",
             11.284535868983939
            ]
           ]
          ],
          [
           [
            [
             "scaling_method",
             "standard"
            ],
            [
             "encoding_method",
             "onehot"
            ],
            [
             "drop",
             null
            ],
            [
             "algorithm",
             "ridge"
            ],
            [
             "alpha",
             112.33434457397904
            ]
           ]
          ],
          [
           [
            [
             "scaling_method",
             "standard"
            ],
            [
             "encoding_method",
             "onehot"
            ],
            [
             "drop",
             "first"
            ],
            [
             "algorithm",
             "ridge"
            ],
            [
             "alpha",
             11.98745990441318
            ]
           ]
          ],
          [
           [
            [
             "scaling_method",
             "minmax"
            ],
            [
             "encoding_method",
             "onehot"
            ],
            [
             "drop",
             null
            ],
            [
             "algorithm",
             "ridge"
            ],
            [
             "alpha",
             179.7818120082185
            ]
           ]
          ],
          [
           [
            [
             "scaling_method",
             "standard"
            ],
            [
             "encoding_method",
             "onehot"
            ],
            [
             "drop",
             null
            ],
            [
             "algorithm",
             "ridge"
            ],
            [
             "alpha",
             0.8952293128861518
            ]
           ]
          ],
          [
           [
            [
             "scaling_method",
             "standard"
            ],
            [
             "encoding_method",
             "onehot"
            ],
            [
             "drop",
             null
            ],
            [
             "algorithm",
             "ridge"
            ],
            [
             "alpha",
             11.814083507536127
            ]
           ]
          ],
          [
           [
            [
             "scaling_method",
             "standard"
            ],
            [
             "encoding_method",
             "onehot"
            ],
            [
             "drop",
             null
            ],
            [
             "algorithm",
             "ridge"
            ],
            [
             "alpha",
             12.10654690230858
            ]
           ]
          ],
          [
           [
            [
             "scaling_method",
             "standard"
            ],
            [
             "encoding_method",
             "onehot"
            ],
            [
             "drop",
             null
            ],
            [
             "algorithm",
             "ridge"
            ],
            [
             "alpha",
             3.1156028237573397
            ]
           ]
          ],
          [
           [
            [
             "scaling_method",
             "standard"
            ],
            [
             "encoding_method",
             "onehot"
            ],
            [
             "drop",
             null
            ],
            [
             "algorithm",
             "ridge"
            ],
            [
             "alpha",
             79.56127085078204
            ]
           ]
          ],
          [
           [
            [
             "scaling_method",
             "standard"
            ],
            [
             "encoding_method",
             "onehot"
            ],
            [
             "drop",
             null
            ],
            [
             "algorithm",
             "ridge"
            ],
            [
             "alpha",
             20.335074017874735
            ]
           ]
          ],
          [
           [
            [
             "scaling_method",
             "standard"
            ],
            [
             "encoding_method",
             "onehot"
            ],
            [
             "drop",
             null
            ],
            [
             "algorithm",
             "ridge"
            ],
            [
             "alpha",
             26.527699156703473
            ]
           ]
          ],
          [
           [
            [
             "scaling_method",
             "minmax"
            ],
            [
             "encoding_method",
             "onehot"
            ],
            [
             "drop",
             "first"
            ],
            [
             "algorithm",
             "ridge"
            ],
            [
             "alpha",
             4.6336234348662115
            ]
           ]
          ],
          [
           [
            [
             "scaling_method",
             "standard"
            ],
            [
             "encoding_method",
             "onehot"
            ],
            [
             "drop",
             null
            ],
            [
             "algorithm",
             "ridge"
            ],
            [
             "alpha",
             1.542381419829497
            ]
           ]
          ],
          [
           [
            [
             "scaling_method",
             "standard"
            ],
            [
             "encoding_method",
             "onehot"
            ],
            [
             "drop",
             null
            ],
            [
             "algorithm",
             "ridge"
            ],
            [
             "alpha",
             23.73258423726294
            ]
           ]
          ],
          [
           [
            [
             "scaling_method",
             "standard"
            ],
            [
             "encoding_method",
             "onehot"
            ],
            [
             "drop",
             null
            ],
            [
             "algorithm",
             "ridge"
            ],
            [
             "alpha",
             20.514269633015665
            ]
           ]
          ],
          [
           [
            [
             "scaling_method",
             "standard"
            ],
            [
             "encoding_method",
             "onehot"
            ],
            [
             "drop",
             null
            ],
            [
             "algorithm",
             "ridge"
            ],
            [
             "alpha",
             7.445933420258132
            ]
           ]
          ],
          [
           [
            [
             "scaling_method",
             "standard"
            ],
            [
             "encoding_method",
             "onehot"
            ],
            [
             "drop",
             null
            ],
            [
             "algorithm",
             "ridge"
            ],
            [
             "alpha",
             18.53538911338755
            ]
           ]
          ],
          [
           [
            [
             "scaling_method",
             "minmax"
            ],
            [
             "encoding_method",
             "onehot"
            ],
            [
             "drop",
             null
            ],
            [
             "algorithm",
             "ridge"
            ],
            [
             "alpha",
             18.85697002577167
            ]
           ]
          ],
          [
           [
            [
             "scaling_method",
             "standard"
            ],
            [
             "encoding_method",
             "onehot"
            ],
            [
             "drop",
             "first"
            ],
            [
             "algorithm",
             "ridge"
            ],
            [
             "alpha",
             47.64519440272038
            ]
           ]
          ],
          [
           [
            [
             "scaling_method",
             "robust"
            ],
            [
             "encoding_method",
             "ordinal"
            ],
            [
             "algorithm",
             "ridge"
            ],
            [
             "alpha",
             2.000375446930459
            ]
           ]
          ],
          [
           [
            [
             "scaling_method",
             "standard"
            ],
            [
             "encoding_method",
             "onehot"
            ],
            [
             "drop",
             null
            ],
            [
             "algorithm",
             "ridge"
            ],
            [
             "alpha",
             18.27602382476234
            ]
           ]
          ],
          [
           [
            [
             "scaling_method",
             "standard"
            ],
            [
             "encoding_method",
             "onehot"
            ],
            [
             "drop",
             null
            ],
            [
             "algorithm",
             "ridge"
            ],
            [
             "alpha",
             6.669227643736738
            ]
           ]
          ],
          [
           [
            [
             "scaling_method",
             "standard"
            ],
            [
             "encoding_method",
             "onehot"
            ],
            [
             "drop",
             null
            ],
            [
             "algorithm",
             "ridge"
            ],
            [
             "alpha",
             59.25624195156445
            ]
           ]
          ],
          [
           [
            [
             "scaling_method",
             "standard"
            ],
            [
             "encoding_method",
             "onehot"
            ],
            [
             "drop",
             null
            ],
            [
             "algorithm",
             "ridge"
            ],
            [
             "alpha",
             17.28097186087167
            ]
           ]
          ],
          [
           [
            [
             "scaling_method",
             "robust"
            ],
            [
             "encoding_method",
             "onehot"
            ],
            [
             "drop",
             null
            ],
            [
             "algorithm",
             "ridge"
            ],
            [
             "alpha",
             16.491567544017695
            ]
           ]
          ],
          [
           [
            [
             "scaling_method",
             "robust"
            ],
            [
             "encoding_method",
             "onehot"
            ],
            [
             "drop",
             null
            ],
            [
             "algorithm",
             "ridge"
            ],
            [
             "alpha",
             127.61606545478453
            ]
           ]
          ],
          [
           [
            [
             "scaling_method",
             "robust"
            ],
            [
             "encoding_method",
             "onehot"
            ],
            [
             "drop",
             null
            ],
            [
             "algorithm",
             "ridge"
            ],
            [
             "alpha",
             6.876754594966529
            ]
           ]
          ],
          [
           [
            [
             "scaling_method",
             "robust"
            ],
            [
             "encoding_method",
             "onehot"
            ],
            [
             "drop",
             null
            ],
            [
             "algorithm",
             "ridge"
            ],
            [
             "alpha",
             468.1843792633497
            ]
           ]
          ],
          [
           [
            [
             "scaling_method",
             "standard"
            ],
            [
             "encoding_method",
             "onehot"
            ],
            [
             "drop",
             null
            ],
            [
             "algorithm",
             "ridge"
            ],
            [
             "alpha",
             17.121257159043388
            ]
           ]
          ],
          [
           [
            [
             "scaling_method",
             "robust"
            ],
            [
             "encoding_method",
             "onehot"
            ],
            [
             "drop",
             null
            ],
            [
             "algorithm",
             "ridge"
            ],
            [
             "alpha",
             16.226776923924984
            ]
           ]
          ],
          [
           [
            [
             "scaling_method",
             "robust"
            ],
            [
             "encoding_method",
             "onehot"
            ],
            [
             "drop",
             null
            ],
            [
             "algorithm",
             "ridge"
            ],
            [
             "alpha",
             54.5176398666732
            ]
           ]
          ],
          [
           [
            [
             "scaling_method",
             "robust"
            ],
            [
             "encoding_method",
             "onehot"
            ],
            [
             "drop",
             null
            ],
            [
             "algorithm",
             "ridge"
            ],
            [
             "alpha",
             7.809914306249189
            ]
           ]
          ],
          [
           [
            [
             "scaling_method",
             "robust"
            ],
            [
             "encoding_method",
             "onehot"
            ],
            [
             "drop",
             null
            ],
            [
             "algorithm",
             "ridge"
            ],
            [
             "alpha",
             17.8492450268799
            ]
           ]
          ],
          [
           [
            [
             "scaling_method",
             "robust"
            ],
            [
             "encoding_method",
             "onehot"
            ],
            [
             "drop",
             null
            ],
            [
             "algorithm",
             "ridge"
            ],
            [
             "alpha",
             14.090791144074823
            ]
           ]
          ],
          [
           [
            [
             "scaling_method",
             "robust"
            ],
            [
             "encoding_method",
             "onehot"
            ],
            [
             "drop",
             "first"
            ],
            [
             "algorithm",
             "ridge"
            ],
            [
             "alpha",
             40.69581969621818
            ]
           ]
          ],
          [
           [
            [
             "scaling_method",
             "robust"
            ],
            [
             "encoding_method",
             "onehot"
            ],
            [
             "drop",
             null
            ],
            [
             "algorithm",
             "ridge"
            ],
            [
             "alpha",
             12.369864677176372
            ]
           ]
          ],
          [
           [
            [
             "scaling_method",
             "robust"
            ],
            [
             "encoding_method",
             "onehot"
            ],
            [
             "drop",
             null
            ],
            [
             "algorithm",
             "ridge"
            ],
            [
             "alpha",
             10.269259628961192
            ]
           ]
          ],
          [
           [
            [
             "scaling_method",
             "robust"
            ],
            [
             "encoding_method",
             "onehot"
            ],
            [
             "drop",
             null
            ],
            [
             "algorithm",
             "ridge"
            ],
            [
             "alpha",
             10.252807918586376
            ]
           ]
          ],
          [
           [
            [
             "scaling_method",
             "robust"
            ],
            [
             "encoding_method",
             "onehot"
            ],
            [
             "drop",
             null
            ],
            [
             "algorithm",
             "ridge"
            ],
            [
             "alpha",
             11.124848581169209
            ]
           ]
          ],
          [
           [
            [
             "scaling_method",
             "robust"
            ],
            [
             "encoding_method",
             "onehot"
            ],
            [
             "drop",
             null
            ],
            [
             "algorithm",
             "ridge"
            ],
            [
             "alpha",
             10.598531177228269
            ]
           ]
          ],
          [
           [
            [
             "scaling_method",
             "robust"
            ],
            [
             "encoding_method",
             "onehot"
            ],
            [
             "drop",
             null
            ],
            [
             "algorithm",
             "ridge"
            ],
            [
             "alpha",
             10.338784201630128
            ]
           ]
          ],
          [
           [
            [
             "scaling_method",
             "robust"
            ],
            [
             "encoding_method",
             "onehot"
            ],
            [
             "drop",
             null
            ],
            [
             "algorithm",
             "ridge"
            ],
            [
             "alpha",
             5.174775950907055
            ]
           ]
          ],
          [
           [
            [
             "scaling_method",
             "robust"
            ],
            [
             "encoding_method",
             "onehot"
            ],
            [
             "drop",
             null
            ],
            [
             "algorithm",
             "ridge"
            ],
            [
             "alpha",
             1.9096547400254569
            ]
           ]
          ],
          [
           [
            [
             "scaling_method",
             "robust"
            ],
            [
             "encoding_method",
             "onehot"
            ],
            [
             "drop",
             null
            ],
            [
             "algorithm",
             "ridge"
            ],
            [
             "alpha",
             3.22972385192312
            ]
           ]
          ],
          [
           [
            [
             "scaling_method",
             "robust"
            ],
            [
             "encoding_method",
             "onehot"
            ],
            [
             "drop",
             null
            ],
            [
             "algorithm",
             "ridge"
            ],
            [
             "alpha",
             10.19086375501042
            ]
           ]
          ],
          [
           [
            [
             "scaling_method",
             "robust"
            ],
            [
             "encoding_method",
             "onehot"
            ],
            [
             "drop",
             null
            ],
            [
             "algorithm",
             "ridge"
            ],
            [
             "alpha",
             11.004635872440572
            ]
           ]
          ],
          [
           [
            [
             "scaling_method",
             "robust"
            ],
            [
             "encoding_method",
             "onehot"
            ],
            [
             "drop",
             null
            ],
            [
             "algorithm",
             "ridge"
            ],
            [
             "alpha",
             5.565146836009527
            ]
           ]
          ],
          [
           [
            [
             "scaling_method",
             "robust"
            ],
            [
             "encoding_method",
             "onehot"
            ],
            [
             "drop",
             null
            ],
            [
             "algorithm",
             "ridge"
            ],
            [
             "alpha",
             12.186056906961044
            ]
           ]
          ],
          [
           [
            [
             "scaling_method",
             "robust"
            ],
            [
             "encoding_method",
             "ordinal"
            ],
            [
             "algorithm",
             "ridge"
            ],
            [
             "alpha",
             12.554125163784972
            ]
           ]
          ],
          [
           [
            [
             "scaling_method",
             "robust"
            ],
            [
             "encoding_method",
             "onehot"
            ],
            [
             "drop",
             null
            ],
            [
             "algorithm",
             "ridge"
            ],
            [
             "alpha",
             35.506261104099075
            ]
           ]
          ],
          [
           [
            [
             "scaling_method",
             "robust"
            ],
            [
             "encoding_method",
             "onehot"
            ],
            [
             "drop",
             null
            ],
            [
             "algorithm",
             "ridge"
            ],
            [
             "alpha",
             34.6082324598237
            ]
           ]
          ],
          [
           [
            [
             "scaling_method",
             "robust"
            ],
            [
             "encoding_method",
             "onehot"
            ],
            [
             "drop",
             null
            ],
            [
             "algorithm",
             "ridge"
            ],
            [
             "alpha",
             29.95922709367116
            ]
           ]
          ],
          [
           [
            [
             "scaling_method",
             "robust"
            ],
            [
             "encoding_method",
             "onehot"
            ],
            [
             "drop",
             null
            ],
            [
             "algorithm",
             "ridge"
            ],
            [
             "alpha",
             31.64131754555925
            ]
           ]
          ],
          [
           [
            [
             "scaling_method",
             "robust"
            ],
            [
             "encoding_method",
             "onehot"
            ],
            [
             "drop",
             null
            ],
            [
             "algorithm",
             "ridge"
            ],
            [
             "alpha",
             66.62572201318218
            ]
           ]
          ],
          [
           [
            [
             "scaling_method",
             "robust"
            ],
            [
             "encoding_method",
             "onehot"
            ],
            [
             "drop",
             null
            ],
            [
             "algorithm",
             "ridge"
            ],
            [
             "alpha",
             34.15126130781227
            ]
           ]
          ],
          [
           [
            [
             "scaling_method",
             "robust"
            ],
            [
             "encoding_method",
             "onehot"
            ],
            [
             "drop",
             null
            ],
            [
             "algorithm",
             "ridge"
            ],
            [
             "alpha",
             31.78186580782255
            ]
           ]
          ],
          [
           [
            [
             "scaling_method",
             "robust"
            ],
            [
             "encoding_method",
             "onehot"
            ],
            [
             "drop",
             null
            ],
            [
             "algorithm",
             "ridge"
            ],
            [
             "alpha",
             118.35477960400273
            ]
           ]
          ],
          [
           [
            [
             "scaling_method",
             "robust"
            ],
            [
             "encoding_method",
             "onehot"
            ],
            [
             "drop",
             null
            ],
            [
             "algorithm",
             "ridge"
            ],
            [
             "alpha",
             35.047733146417
            ]
           ]
          ],
          [
           [
            [
             "scaling_method",
             "robust"
            ],
            [
             "encoding_method",
             "onehot"
            ],
            [
             "drop",
             null
            ],
            [
             "algorithm",
             "ridge"
            ],
            [
             "alpha",
             31.63419212328805
            ]
           ]
          ],
          [
           [
            [
             "scaling_method",
             "robust"
            ],
            [
             "encoding_method",
             "onehot"
            ],
            [
             "drop",
             null
            ],
            [
             "algorithm",
             "ridge"
            ],
            [
             "alpha",
             30.93429014729831
            ]
           ]
          ],
          [
           [
            [
             "scaling_method",
             "robust"
            ],
            [
             "encoding_method",
             "onehot"
            ],
            [
             "drop",
             null
            ],
            [
             "algorithm",
             "ridge"
            ],
            [
             "alpha",
             31.375336914358908
            ]
           ]
          ],
          [
           [
            [
             "scaling_method",
             "robust"
            ],
            [
             "encoding_method",
             "onehot"
            ],
            [
             "drop",
             null
            ],
            [
             "algorithm",
             "ridge"
            ],
            [
             "alpha",
             32.7761909275575
            ]
           ]
          ],
          [
           [
            [
             "scaling_method",
             "robust"
            ],
            [
             "encoding_method",
             "onehot"
            ],
            [
             "drop",
             null
            ],
            [
             "algorithm",
             "ridge"
            ],
            [
             "alpha",
             26.387059700563412
            ]
           ]
          ],
          [
           [
            [
             "scaling_method",
             "robust"
            ],
            [
             "encoding_method",
             "onehot"
            ],
            [
             "drop",
             null
            ],
            [
             "algorithm",
             "ridge"
            ],
            [
             "alpha",
             61.794252218551534
            ]
           ]
          ],
          [
           [
            [
             "scaling_method",
             "minmax"
            ],
            [
             "encoding_method",
             "onehot"
            ],
            [
             "drop",
             null
            ],
            [
             "algorithm",
             "ridge"
            ],
            [
             "alpha",
             26.702819534844433
            ]
           ]
          ],
          [
           [
            [
             "scaling_method",
             "robust"
            ],
            [
             "encoding_method",
             "onehot"
            ],
            [
             "drop",
             null
            ],
            [
             "algorithm",
             "ridge"
            ],
            [
             "alpha",
             77.47015773318054
            ]
           ]
          ],
          [
           [
            [
             "scaling_method",
             "robust"
            ],
            [
             "encoding_method",
             "ordinal"
            ],
            [
             "algorithm",
             "ridge"
            ],
            [
             "alpha",
             140.2925932322493
            ]
           ]
          ],
          [
           [
            [
             "scaling_method",
             "robust"
            ],
            [
             "encoding_method",
             "onehot"
            ],
            [
             "drop",
             null
            ],
            [
             "algorithm",
             "ridge"
            ],
            [
             "alpha",
             25.837817413821103
            ]
           ]
          ],
          [
           [
            [
             "scaling_method",
             "robust"
            ],
            [
             "encoding_method",
             "onehot"
            ],
            [
             "drop",
             null
            ],
            [
             "algorithm",
             "ridge"
            ],
            [
             "alpha",
             27.3035598469321
            ]
           ]
          ],
          [
           [
            [
             "scaling_method",
             "robust"
            ],
            [
             "encoding_method",
             "onehot"
            ],
            [
             "drop",
             null
            ],
            [
             "algorithm",
             "ridge"
            ],
            [
             "alpha",
             16.09499395942244
            ]
           ]
          ],
          [
           [
            [
             "scaling_method",
             "robust"
            ],
            [
             "encoding_method",
             "onehot"
            ],
            [
             "drop",
             null
            ],
            [
             "algorithm",
             "ridge"
            ],
            [
             "alpha",
             24.240571867876426
            ]
           ]
          ],
          [
           [
            [
             "scaling_method",
             "robust"
            ],
            [
             "encoding_method",
             "onehot"
            ],
            [
             "drop",
             null
            ],
            [
             "algorithm",
             "ridge"
            ],
            [
             "alpha",
             23.787895175182896
            ]
           ]
          ],
          [
           [
            [
             "scaling_method",
             "robust"
            ],
            [
             "encoding_method",
             "onehot"
            ],
            [
             "drop",
             null
            ],
            [
             "algorithm",
             "ridge"
            ],
            [
             "alpha",
             23.29541090492026
            ]
           ]
          ],
          [
           [
            [
             "scaling_method",
             "robust"
            ],
            [
             "encoding_method",
             "onehot"
            ],
            [
             "drop",
             null
            ],
            [
             "algorithm",
             "ridge"
            ],
            [
             "alpha",
             20.979238463380472
            ]
           ]
          ],
          [
           [
            [
             "scaling_method",
             "robust"
            ],
            [
             "encoding_method",
             "onehot"
            ],
            [
             "drop",
             "first"
            ],
            [
             "algorithm",
             "ridge"
            ],
            [
             "alpha",
             20.724835853224008
            ]
           ]
          ],
          [
           [
            [
             "scaling_method",
             "maxabs"
            ],
            [
             "encoding_method",
             "onehot"
            ],
            [
             "drop",
             null
            ],
            [
             "algorithm",
             "ridge"
            ],
            [
             "alpha",
             17.783563541668737
            ]
           ]
          ],
          [
           [
            [
             "scaling_method",
             "robust"
            ],
            [
             "encoding_method",
             "onehot"
            ],
            [
             "drop",
             null
            ],
            [
             "algorithm",
             "ridge"
            ],
            [
             "alpha",
             51.089234437419776
            ]
           ]
          ],
          [
           [
            [
             "scaling_method",
             "robust"
            ],
            [
             "encoding_method",
             "onehot"
            ],
            [
             "drop",
             null
            ],
            [
             "algorithm",
             "ridge"
            ],
            [
             "alpha",
             25.069474436567003
            ]
           ]
          ],
          [
           [
            [
             "scaling_method",
             "robust"
            ],
            [
             "encoding_method",
             "onehot"
            ],
            [
             "drop",
             null
            ],
            [
             "algorithm",
             "ridge"
            ],
            [
             "alpha",
             24.60065001583267
            ]
           ]
          ],
          [
           [
            [
             "scaling_method",
             "robust"
            ],
            [
             "encoding_method",
             "onehot"
            ],
            [
             "drop",
             null
            ],
            [
             "algorithm",
             "ridge"
            ],
            [
             "alpha",
             23.187253070579438
            ]
           ]
          ],
          [
           [
            [
             "scaling_method",
             "robust"
            ],
            [
             "encoding_method",
             "onehot"
            ],
            [
             "drop",
             null
            ],
            [
             "algorithm",
             "ridge"
            ],
            [
             "alpha",
             22.687706204635205
            ]
           ]
          ],
          [
           [
            [
             "scaling_method",
             "robust"
            ],
            [
             "encoding_method",
             "onehot"
            ],
            [
             "drop",
             null
            ],
            [
             "algorithm",
             "ridge"
            ],
            [
             "alpha",
             17.022317847668752
            ]
           ]
          ],
          [
           [
            [
             "scaling_method",
             "robust"
            ],
            [
             "encoding_method",
             "onehot"
            ],
            [
             "drop",
             null
            ],
            [
             "algorithm",
             "ridge"
            ],
            [
             "alpha",
             0.14381767348525498
            ]
           ]
          ],
          [
           [
            [
             "scaling_method",
             "robust"
            ],
            [
             "encoding_method",
             "onehot"
            ],
            [
             "drop",
             null
            ],
            [
             "algorithm",
             "ridge"
            ],
            [
             "alpha",
             0.000817475001306828
            ]
           ]
          ],
          [
           [
            [
             "scaling_method",
             "robust"
            ],
            [
             "encoding_method",
             "onehot"
            ],
            [
             "drop",
             null
            ],
            [
             "algorithm",
             "ridge"
            ],
            [
             "alpha",
             22.094860584246824
            ]
           ]
          ],
          [
           [
            [
             "scaling_method",
             "robust"
            ],
            [
             "encoding_method",
             "onehot"
            ],
            [
             "drop",
             null
            ],
            [
             "algorithm",
             "ridge"
            ],
            [
             "alpha",
             21.317337257553536
            ]
           ]
          ],
          [
           [
            [
             "scaling_method",
             "robust"
            ],
            [
             "encoding_method",
             "onehot"
            ],
            [
             "drop",
             null
            ],
            [
             "algorithm",
             "ridge"
            ],
            [
             "alpha",
             22.038681320869927
            ]
           ]
          ],
          [
           [
            [
             "scaling_method",
             "robust"
            ],
            [
             "encoding_method",
             "onehot"
            ],
            [
             "drop",
             null
            ],
            [
             "algorithm",
             "ridge"
            ],
            [
             "alpha",
             22.801607163831065
            ]
           ]
          ],
          [
           [
            [
             "scaling_method",
             "robust"
            ],
            [
             "encoding_method",
             "onehot"
            ],
            [
             "drop",
             null
            ],
            [
             "algorithm",
             "ridge"
            ],
            [
             "alpha",
             21.96155226544112
            ]
           ]
          ],
          [
           [
            [
             "scaling_method",
             "robust"
            ],
            [
             "encoding_method",
             "onehot"
            ],
            [
             "drop",
             null
            ],
            [
             "algorithm",
             "ridge"
            ],
            [
             "alpha",
             25.268831923727877
            ]
           ]
          ],
          [
           [
            [
             "scaling_method",
             "robust"
            ],
            [
             "encoding_method",
             "ordinal"
            ],
            [
             "algorithm",
             "ridge"
            ],
            [
             "alpha",
             21.860532761485562
            ]
           ]
          ],
          [
           [
            [
             "scaling_method",
             "robust"
            ],
            [
             "encoding_method",
             "onehot"
            ],
            [
             "drop",
             null
            ],
            [
             "algorithm",
             "ridge"
            ],
            [
             "alpha",
             92.0505102878604
            ]
           ]
          ],
          [
           [
            [
             "scaling_method",
             "robust"
            ],
            [
             "encoding_method",
             "onehot"
            ],
            [
             "drop",
             null
            ],
            [
             "algorithm",
             "ridge"
            ],
            [
             "alpha",
             24.641053222283162
            ]
           ]
          ],
          [
           [
            [
             "scaling_method",
             "robust"
            ],
            [
             "encoding_method",
             "onehot"
            ],
            [
             "drop",
             null
            ],
            [
             "algorithm",
             "ridge"
            ],
            [
             "alpha",
             24.31583454787142
            ]
           ]
          ],
          [
           [
            [
             "scaling_method",
             "robust"
            ],
            [
             "encoding_method",
             "onehot"
            ],
            [
             "drop",
             null
            ],
            [
             "algorithm",
             "ridge"
            ],
            [
             "alpha",
             22.783747292427492
            ]
           ]
          ],
          [
           [
            [
             "scaling_method",
             "robust"
            ],
            [
             "encoding_method",
             "onehot"
            ],
            [
             "drop",
             null
            ],
            [
             "algorithm",
             "ridge"
            ],
            [
             "alpha",
             22.296786063651155
            ]
           ]
          ],
          [
           [
            [
             "scaling_method",
             "robust"
            ],
            [
             "encoding_method",
             "onehot"
            ],
            [
             "drop",
             null
            ],
            [
             "algorithm",
             "ridge"
            ],
            [
             "alpha",
             51.99051262413413
            ]
           ]
          ],
          [
           [
            [
             "scaling_method",
             "robust"
            ],
            [
             "encoding_method",
             "onehot"
            ],
            [
             "drop",
             null
            ],
            [
             "algorithm",
             "ridge"
            ],
            [
             "alpha",
             21.715934137032452
            ]
           ]
          ],
          [
           [
            [
             "scaling_method",
             "maxabs"
            ],
            [
             "encoding_method",
             "onehot"
            ],
            [
             "drop",
             null
            ],
            [
             "algorithm",
             "ridge"
            ],
            [
             "alpha",
             19.368349016042224
            ]
           ]
          ],
          [
           [
            [
             "scaling_method",
             "robust"
            ],
            [
             "encoding_method",
             "onehot"
            ],
            [
             "drop",
             "first"
            ],
            [
             "algorithm",
             "ridge"
            ],
            [
             "alpha",
             8.14671378409088
            ]
           ]
          ],
          [
           [
            [
             "scaling_method",
             "robust"
            ],
            [
             "encoding_method",
             "onehot"
            ],
            [
             "drop",
             null
            ],
            [
             "algorithm",
             "ridge"
            ],
            [
             "alpha",
             14.702483669292445
            ]
           ]
          ],
          [
           [
            [
             "scaling_method",
             "robust"
            ],
            [
             "encoding_method",
             "onehot"
            ],
            [
             "drop",
             null
            ],
            [
             "algorithm",
             "ridge"
            ],
            [
             "alpha",
             47.56533063671504
            ]
           ]
          ],
          [
           [
            [
             "scaling_method",
             "robust"
            ],
            [
             "encoding_method",
             "onehot"
            ],
            [
             "drop",
             null
            ],
            [
             "algorithm",
             "ridge"
            ],
            [
             "alpha",
             21.48835539339697
            ]
           ]
          ],
          [
           [
            [
             "scaling_method",
             "robust"
            ],
            [
             "encoding_method",
             "onehot"
            ],
            [
             "drop",
             null
            ],
            [
             "algorithm",
             "ridge"
            ],
            [
             "alpha",
             21.96829921008001
            ]
           ]
          ],
          [
           [
            [
             "scaling_method",
             "robust"
            ],
            [
             "encoding_method",
             "onehot"
            ],
            [
             "drop",
             null
            ],
            [
             "algorithm",
             "ridge"
            ],
            [
             "alpha",
             20.06627045525762
            ]
           ]
          ],
          [
           [
            [
             "scaling_method",
             "robust"
            ],
            [
             "encoding_method",
             "onehot"
            ],
            [
             "drop",
             null
            ],
            [
             "algorithm",
             "ridge"
            ],
            [
             "alpha",
             16.31489222273554
            ]
           ]
          ],
          [
           [
            [
             "scaling_method",
             "robust"
            ],
            [
             "encoding_method",
             "onehot"
            ],
            [
             "drop",
             null
            ],
            [
             "algorithm",
             "ridge"
            ],
            [
             "alpha",
             14.059549996082627
            ]
           ]
          ],
          [
           [
            [
             "scaling_method",
             "robust"
            ],
            [
             "encoding_method",
             "onehot"
            ],
            [
             "drop",
             null
            ],
            [
             "algorithm",
             "ridge"
            ],
            [
             "alpha",
             7.953446446781831
            ]
           ]
          ],
          [
           [
            [
             "scaling_method",
             "robust"
            ],
            [
             "encoding_method",
             "onehot"
            ],
            [
             "drop",
             null
            ],
            [
             "algorithm",
             "ridge"
            ],
            [
             "alpha",
             48.49683312680761
            ]
           ]
          ],
          [
           [
            [
             "scaling_method",
             "robust"
            ],
            [
             "encoding_method",
             "onehot"
            ],
            [
             "drop",
             null
            ],
            [
             "algorithm",
             "ridge"
            ],
            [
             "alpha",
             22.93364829103212
            ]
           ]
          ],
          [
           [
            [
             "scaling_method",
             "robust"
            ],
            [
             "encoding_method",
             "onehot"
            ],
            [
             "drop",
             null
            ],
            [
             "algorithm",
             "ridge"
            ],
            [
             "alpha",
             14.100547192784603
            ]
           ]
          ],
          [
           [
            [
             "scaling_method",
             "robust"
            ],
            [
             "encoding_method",
             "onehot"
            ],
            [
             "drop",
             null
            ],
            [
             "algorithm",
             "ridge"
            ],
            [
             "alpha",
             21.836722284139054
            ]
           ]
          ],
          [
           [
            [
             "scaling_method",
             "robust"
            ],
            [
             "encoding_method",
             "onehot"
            ],
            [
             "drop",
             null
            ],
            [
             "algorithm",
             "ridge"
            ],
            [
             "alpha",
             20.414243462933022
            ]
           ]
          ],
          [
           [
            [
             "scaling_method",
             "robust"
            ],
            [
             "encoding_method",
             "onehot"
            ],
            [
             "drop",
             null
            ],
            [
             "algorithm",
             "ridge"
            ],
            [
             "alpha",
             41.21612176045619
            ]
           ]
          ],
          [
           [
            [
             "scaling_method",
             "robust"
            ],
            [
             "encoding_method",
             "onehot"
            ],
            [
             "drop",
             null
            ],
            [
             "algorithm",
             "ridge"
            ],
            [
             "alpha",
             20.64468146567676
            ]
           ]
          ],
          [
           [
            [
             "scaling_method",
             "robust"
            ],
            [
             "encoding_method",
             "onehot"
            ],
            [
             "drop",
             null
            ],
            [
             "algorithm",
             "ridge"
            ],
            [
             "alpha",
             14.130684869651976
            ]
           ]
          ],
          [
           [
            [
             "scaling_method",
             "robust"
            ],
            [
             "encoding_method",
             "onehot"
            ],
            [
             "drop",
             null
            ],
            [
             "algorithm",
             "ridge"
            ],
            [
             "alpha",
             65.31528103686519
            ]
           ]
          ],
          [
           [
            [
             "scaling_method",
             "robust"
            ],
            [
             "encoding_method",
             "onehot"
            ],
            [
             "drop",
             null
            ],
            [
             "algorithm",
             "ridge"
            ],
            [
             "alpha",
             0.5898514945304739
            ]
           ]
          ],
          [
           [
            [
             "scaling_method",
             "robust"
            ],
            [
             "encoding_method",
             "onehot"
            ],
            [
             "drop",
             null
            ],
            [
             "algorithm",
             "ridge"
            ],
            [
             "alpha",
             19.94710527692705
            ]
           ]
          ]
         ],
         "hovertemplate": "Algorithm=ridge<br>Trial=%{x}<br>Score=%{y}<br>Parameters=%{customdata[0]}<extra></extra>",
         "legendgroup": "ridge",
         "marker": {
          "color": "#FF6692",
          "symbol": "circle"
         },
         "mode": "markers",
         "name": "ridge",
         "orientation": "v",
         "showlegend": true,
         "type": "scatter",
         "x": [
          13,
          14,
          15,
          16,
          17,
          18,
          19,
          21,
          22,
          23,
          26,
          27,
          28,
          30,
          31,
          33,
          35,
          39,
          40,
          41,
          42,
          44,
          46,
          50,
          51,
          52,
          53,
          54,
          56,
          57,
          58,
          60,
          61,
          62,
          63,
          64,
          65,
          66,
          70,
          71,
          72,
          73,
          74,
          76,
          78,
          79,
          81,
          82,
          83,
          84,
          85,
          87,
          88,
          89,
          91,
          92,
          93,
          94,
          95,
          98,
          100,
          101,
          102,
          103,
          104,
          105,
          106,
          108,
          109,
          110,
          111,
          112,
          113,
          114,
          116,
          117,
          118,
          121,
          122,
          123,
          124,
          125,
          126,
          127,
          129,
          131,
          132,
          133,
          134,
          135,
          136,
          137,
          138,
          140,
          141,
          142,
          143,
          144,
          145,
          146,
          147,
          149,
          150,
          151,
          152,
          153,
          154,
          155,
          156,
          157,
          159,
          161,
          162,
          163,
          164,
          166,
          167,
          168,
          169,
          171,
          172,
          173,
          174,
          175,
          176,
          177,
          178,
          180,
          181,
          182,
          183,
          184,
          185,
          186,
          187,
          188,
          189,
          191,
          192,
          193,
          194,
          195,
          196,
          197,
          198
         ],
         "xaxis": "x",
         "y": [
          0.9457598590068322,
          0.9457630363396812,
          0.9457664105624257,
          0.9457657509306119,
          0.9458272928332769,
          0.9458602732859056,
          0.9458687372367122,
          0.945878747125674,
          0.9458788067499121,
          0.577040401256889,
          0.9457794732062131,
          0.9457972831177119,
          0.945915477149828,
          0.9459371294702411,
          0.9460194962009393,
          0.9460120876074563,
          0.9461196871808346,
          0.941157283091346,
          0.949816918538709,
          0.9355564611446272,
          0.9499522348640677,
          0.949488270955138,
          0.9496646934881816,
          0.9496290725633034,
          0.949669214435516,
          0.9496810295998003,
          0.9495325341174727,
          0.9477255936749225,
          0.9494862134780414,
          0.8143552308391679,
          0.9474704617216017,
          0.9495539906198888,
          0.9495648815092649,
          0.94856638856684,
          0.9485519384531266,
          0.9496910380632781,
          0.9496623529760345,
          0.9461653000076453,
          0.9479346630157572,
          0.9496832036071915,
          0.9496912164320612,
          0.9492842998078617,
          0.9496848023447189,
          0.933431378484299,
          0.9490262336188906,
          0.9413017170755016,
          0.9496831744806535,
          0.9492049892807195,
          0.9490432654676908,
          0.9496749963951222,
          0.9499915017531239,
          0.946296217073544,
          0.9494085394886472,
          0.9302866093535254,
          0.9496733802886655,
          0.9499856604975921,
          0.9493249501268908,
          0.9495182541825506,
          0.95001628056841,
          0.9499245295139204,
          0.9495309906953816,
          0.9498535116863351,
          0.9497316612847708,
          0.9497305201057132,
          0.9497867241476443,
          0.9497538271566055,
          0.9497364479279146,
          0.9491469344105404,
          0.9481809613200312,
          0.9486882990544444,
          0.9497261938515994,
          0.9497794734359604,
          0.9492155517974478,
          0.9498445455493953,
          0.941665661046779,
          0.9498811260598897,
          0.9499005076356525,
          0.949985448893939,
          0.9499579465942232,
          0.948882352800886,
          0.9499100325151275,
          0.9499554725293177,
          0.9467068493195085,
          0.9498911300725019,
          0.9499580713260665,
          0.9499699894181877,
          0.9499625566416128,
          0.9499372406221622,
          0.9500292070109136,
          0.9490643803235678,
          0.9268911652615888,
          0.9484542409371295,
          0.9398289402690752,
          0.9500339054445469,
          0.9500200827895494,
          0.949982622138512,
          0.9500440181285235,
          0.9500458537065709,
          0.9500472965273005,
          0.9500455608064758,
          0.9499147059212328,
          0.9309199659735852,
          0.9494407191457178,
          0.9500394529323334,
          0.9500422220813359,
          0.9500475337201107,
          0.9500482449799987,
          0.9500021875166036,
          0.9463359570239568,
          0.9458082110355039,
          0.950048240028608,
          0.9500467565675385,
          0.9500481901134906,
          0.9500481392056355,
          0.9500481073364282,
          0.9500381318421095,
          0.9418433996467886,
          0.947848720779905,
          0.9500420024109293,
          0.9500436669720228,
          0.9500481580195362,
          0.9500483479389941,
          0.9494107831944859,
          0.9500477326155489,
          0.9297935101376275,
          0.9495873886047501,
          0.9499447797864378,
          0.9495539782590299,
          0.9500472319200497,
          0.9500481152379876,
          0.9500405549776152,
          0.9499876430659621,
          0.9499234304140007,
          0.9495334796972748,
          0.949524658142091,
          0.9500479745820976,
          0.9499248714165324,
          0.9500479381570596,
          0.9500427776545806,
          0.9497399201149074,
          0.9500440339227698,
          0.949925923622564,
          0.9489323380445546,
          0.947180472083694,
          0.9500397016844833
         ],
         "yaxis": "y"
        }
       ],
       "layout": {
        "hoverlabel": {
         "bgcolor": "white",
         "font": {
          "family": "Rockwell",
          "size": 8
         }
        },
        "legend": {
         "title": {
          "text": "Algorithm"
         },
         "tracegroupgap": 0
        },
        "margin": {
         "t": 60
        },
        "template": {
         "data": {
          "bar": [
           {
            "error_x": {
             "color": "#2a3f5f"
            },
            "error_y": {
             "color": "#2a3f5f"
            },
            "marker": {
             "line": {
              "color": "#E5ECF6",
              "width": 0.5
             },
             "pattern": {
              "fillmode": "overlay",
              "size": 10,
              "solidity": 0.2
             }
            },
            "type": "bar"
           }
          ],
          "barpolar": [
           {
            "marker": {
             "line": {
              "color": "#E5ECF6",
              "width": 0.5
             },
             "pattern": {
              "fillmode": "overlay",
              "size": 10,
              "solidity": 0.2
             }
            },
            "type": "barpolar"
           }
          ],
          "carpet": [
           {
            "aaxis": {
             "endlinecolor": "#2a3f5f",
             "gridcolor": "white",
             "linecolor": "white",
             "minorgridcolor": "white",
             "startlinecolor": "#2a3f5f"
            },
            "baxis": {
             "endlinecolor": "#2a3f5f",
             "gridcolor": "white",
             "linecolor": "white",
             "minorgridcolor": "white",
             "startlinecolor": "#2a3f5f"
            },
            "type": "carpet"
           }
          ],
          "choropleth": [
           {
            "colorbar": {
             "outlinewidth": 0,
             "ticks": ""
            },
            "type": "choropleth"
           }
          ],
          "contour": [
           {
            "colorbar": {
             "outlinewidth": 0,
             "ticks": ""
            },
            "colorscale": [
             [
              0,
              "#0d0887"
             ],
             [
              0.1111111111111111,
              "#46039f"
             ],
             [
              0.2222222222222222,
              "#7201a8"
             ],
             [
              0.3333333333333333,
              "#9c179e"
             ],
             [
              0.4444444444444444,
              "#bd3786"
             ],
             [
              0.5555555555555556,
              "#d8576b"
             ],
             [
              0.6666666666666666,
              "#ed7953"
             ],
             [
              0.7777777777777778,
              "#fb9f3a"
             ],
             [
              0.8888888888888888,
              "#fdca26"
             ],
             [
              1,
              "#f0f921"
             ]
            ],
            "type": "contour"
           }
          ],
          "contourcarpet": [
           {
            "colorbar": {
             "outlinewidth": 0,
             "ticks": ""
            },
            "type": "contourcarpet"
           }
          ],
          "heatmap": [
           {
            "colorbar": {
             "outlinewidth": 0,
             "ticks": ""
            },
            "colorscale": [
             [
              0,
              "#0d0887"
             ],
             [
              0.1111111111111111,
              "#46039f"
             ],
             [
              0.2222222222222222,
              "#7201a8"
             ],
             [
              0.3333333333333333,
              "#9c179e"
             ],
             [
              0.4444444444444444,
              "#bd3786"
             ],
             [
              0.5555555555555556,
              "#d8576b"
             ],
             [
              0.6666666666666666,
              "#ed7953"
             ],
             [
              0.7777777777777778,
              "#fb9f3a"
             ],
             [
              0.8888888888888888,
              "#fdca26"
             ],
             [
              1,
              "#f0f921"
             ]
            ],
            "type": "heatmap"
           }
          ],
          "heatmapgl": [
           {
            "colorbar": {
             "outlinewidth": 0,
             "ticks": ""
            },
            "colorscale": [
             [
              0,
              "#0d0887"
             ],
             [
              0.1111111111111111,
              "#46039f"
             ],
             [
              0.2222222222222222,
              "#7201a8"
             ],
             [
              0.3333333333333333,
              "#9c179e"
             ],
             [
              0.4444444444444444,
              "#bd3786"
             ],
             [
              0.5555555555555556,
              "#d8576b"
             ],
             [
              0.6666666666666666,
              "#ed7953"
             ],
             [
              0.7777777777777778,
              "#fb9f3a"
             ],
             [
              0.8888888888888888,
              "#fdca26"
             ],
             [
              1,
              "#f0f921"
             ]
            ],
            "type": "heatmapgl"
           }
          ],
          "histogram": [
           {
            "marker": {
             "pattern": {
              "fillmode": "overlay",
              "size": 10,
              "solidity": 0.2
             }
            },
            "type": "histogram"
           }
          ],
          "histogram2d": [
           {
            "colorbar": {
             "outlinewidth": 0,
             "ticks": ""
            },
            "colorscale": [
             [
              0,
              "#0d0887"
             ],
             [
              0.1111111111111111,
              "#46039f"
             ],
             [
              0.2222222222222222,
              "#7201a8"
             ],
             [
              0.3333333333333333,
              "#9c179e"
             ],
             [
              0.4444444444444444,
              "#bd3786"
             ],
             [
              0.5555555555555556,
              "#d8576b"
             ],
             [
              0.6666666666666666,
              "#ed7953"
             ],
             [
              0.7777777777777778,
              "#fb9f3a"
             ],
             [
              0.8888888888888888,
              "#fdca26"
             ],
             [
              1,
              "#f0f921"
             ]
            ],
            "type": "histogram2d"
           }
          ],
          "histogram2dcontour": [
           {
            "colorbar": {
             "outlinewidth": 0,
             "ticks": ""
            },
            "colorscale": [
             [
              0,
              "#0d0887"
             ],
             [
              0.1111111111111111,
              "#46039f"
             ],
             [
              0.2222222222222222,
              "#7201a8"
             ],
             [
              0.3333333333333333,
              "#9c179e"
             ],
             [
              0.4444444444444444,
              "#bd3786"
             ],
             [
              0.5555555555555556,
              "#d8576b"
             ],
             [
              0.6666666666666666,
              "#ed7953"
             ],
             [
              0.7777777777777778,
              "#fb9f3a"
             ],
             [
              0.8888888888888888,
              "#fdca26"
             ],
             [
              1,
              "#f0f921"
             ]
            ],
            "type": "histogram2dcontour"
           }
          ],
          "mesh3d": [
           {
            "colorbar": {
             "outlinewidth": 0,
             "ticks": ""
            },
            "type": "mesh3d"
           }
          ],
          "parcoords": [
           {
            "line": {
             "colorbar": {
              "outlinewidth": 0,
              "ticks": ""
             }
            },
            "type": "parcoords"
           }
          ],
          "pie": [
           {
            "automargin": true,
            "type": "pie"
           }
          ],
          "scatter": [
           {
            "fillpattern": {
             "fillmode": "overlay",
             "size": 10,
             "solidity": 0.2
            },
            "type": "scatter"
           }
          ],
          "scatter3d": [
           {
            "line": {
             "colorbar": {
              "outlinewidth": 0,
              "ticks": ""
             }
            },
            "marker": {
             "colorbar": {
              "outlinewidth": 0,
              "ticks": ""
             }
            },
            "type": "scatter3d"
           }
          ],
          "scattercarpet": [
           {
            "marker": {
             "colorbar": {
              "outlinewidth": 0,
              "ticks": ""
             }
            },
            "type": "scattercarpet"
           }
          ],
          "scattergeo": [
           {
            "marker": {
             "colorbar": {
              "outlinewidth": 0,
              "ticks": ""
             }
            },
            "type": "scattergeo"
           }
          ],
          "scattergl": [
           {
            "marker": {
             "colorbar": {
              "outlinewidth": 0,
              "ticks": ""
             }
            },
            "type": "scattergl"
           }
          ],
          "scattermapbox": [
           {
            "marker": {
             "colorbar": {
              "outlinewidth": 0,
              "ticks": ""
             }
            },
            "type": "scattermapbox"
           }
          ],
          "scatterpolar": [
           {
            "marker": {
             "colorbar": {
              "outlinewidth": 0,
              "ticks": ""
             }
            },
            "type": "scatterpolar"
           }
          ],
          "scatterpolargl": [
           {
            "marker": {
             "colorbar": {
              "outlinewidth": 0,
              "ticks": ""
             }
            },
            "type": "scatterpolargl"
           }
          ],
          "scatterternary": [
           {
            "marker": {
             "colorbar": {
              "outlinewidth": 0,
              "ticks": ""
             }
            },
            "type": "scatterternary"
           }
          ],
          "surface": [
           {
            "colorbar": {
             "outlinewidth": 0,
             "ticks": ""
            },
            "colorscale": [
             [
              0,
              "#0d0887"
             ],
             [
              0.1111111111111111,
              "#46039f"
             ],
             [
              0.2222222222222222,
              "#7201a8"
             ],
             [
              0.3333333333333333,
              "#9c179e"
             ],
             [
              0.4444444444444444,
              "#bd3786"
             ],
             [
              0.5555555555555556,
              "#d8576b"
             ],
             [
              0.6666666666666666,
              "#ed7953"
             ],
             [
              0.7777777777777778,
              "#fb9f3a"
             ],
             [
              0.8888888888888888,
              "#fdca26"
             ],
             [
              1,
              "#f0f921"
             ]
            ],
            "type": "surface"
           }
          ],
          "table": [
           {
            "cells": {
             "fill": {
              "color": "#EBF0F8"
             },
             "line": {
              "color": "white"
             }
            },
            "header": {
             "fill": {
              "color": "#C8D4E3"
             },
             "line": {
              "color": "white"
             }
            },
            "type": "table"
           }
          ]
         },
         "layout": {
          "annotationdefaults": {
           "arrowcolor": "#2a3f5f",
           "arrowhead": 0,
           "arrowwidth": 1
          },
          "autotypenumbers": "strict",
          "coloraxis": {
           "colorbar": {
            "outlinewidth": 0,
            "ticks": ""
           }
          },
          "colorscale": {
           "diverging": [
            [
             0,
             "#8e0152"
            ],
            [
             0.1,
             "#c51b7d"
            ],
            [
             0.2,
             "#de77ae"
            ],
            [
             0.3,
             "#f1b6da"
            ],
            [
             0.4,
             "#fde0ef"
            ],
            [
             0.5,
             "#f7f7f7"
            ],
            [
             0.6,
             "#e6f5d0"
            ],
            [
             0.7,
             "#b8e186"
            ],
            [
             0.8,
             "#7fbc41"
            ],
            [
             0.9,
             "#4d9221"
            ],
            [
             1,
             "#276419"
            ]
           ],
           "sequential": [
            [
             0,
             "#0d0887"
            ],
            [
             0.1111111111111111,
             "#46039f"
            ],
            [
             0.2222222222222222,
             "#7201a8"
            ],
            [
             0.3333333333333333,
             "#9c179e"
            ],
            [
             0.4444444444444444,
             "#bd3786"
            ],
            [
             0.5555555555555556,
             "#d8576b"
            ],
            [
             0.6666666666666666,
             "#ed7953"
            ],
            [
             0.7777777777777778,
             "#fb9f3a"
            ],
            [
             0.8888888888888888,
             "#fdca26"
            ],
            [
             1,
             "#f0f921"
            ]
           ],
           "sequentialminus": [
            [
             0,
             "#0d0887"
            ],
            [
             0.1111111111111111,
             "#46039f"
            ],
            [
             0.2222222222222222,
             "#7201a8"
            ],
            [
             0.3333333333333333,
             "#9c179e"
            ],
            [
             0.4444444444444444,
             "#bd3786"
            ],
            [
             0.5555555555555556,
             "#d8576b"
            ],
            [
             0.6666666666666666,
             "#ed7953"
            ],
            [
             0.7777777777777778,
             "#fb9f3a"
            ],
            [
             0.8888888888888888,
             "#fdca26"
            ],
            [
             1,
             "#f0f921"
            ]
           ]
          },
          "colorway": [
           "#636efa",
           "#EF553B",
           "#00cc96",
           "#ab63fa",
           "#FFA15A",
           "#19d3f3",
           "#FF6692",
           "#B6E880",
           "#FF97FF",
           "#FECB52"
          ],
          "font": {
           "color": "#2a3f5f"
          },
          "geo": {
           "bgcolor": "white",
           "lakecolor": "white",
           "landcolor": "#E5ECF6",
           "showlakes": true,
           "showland": true,
           "subunitcolor": "white"
          },
          "hoverlabel": {
           "align": "left"
          },
          "hovermode": "closest",
          "mapbox": {
           "style": "light"
          },
          "paper_bgcolor": "white",
          "plot_bgcolor": "#E5ECF6",
          "polar": {
           "angularaxis": {
            "gridcolor": "white",
            "linecolor": "white",
            "ticks": ""
           },
           "bgcolor": "#E5ECF6",
           "radialaxis": {
            "gridcolor": "white",
            "linecolor": "white",
            "ticks": ""
           }
          },
          "scene": {
           "xaxis": {
            "backgroundcolor": "#E5ECF6",
            "gridcolor": "white",
            "gridwidth": 2,
            "linecolor": "white",
            "showbackground": true,
            "ticks": "",
            "zerolinecolor": "white"
           },
           "yaxis": {
            "backgroundcolor": "#E5ECF6",
            "gridcolor": "white",
            "gridwidth": 2,
            "linecolor": "white",
            "showbackground": true,
            "ticks": "",
            "zerolinecolor": "white"
           },
           "zaxis": {
            "backgroundcolor": "#E5ECF6",
            "gridcolor": "white",
            "gridwidth": 2,
            "linecolor": "white",
            "showbackground": true,
            "ticks": "",
            "zerolinecolor": "white"
           }
          },
          "shapedefaults": {
           "line": {
            "color": "#2a3f5f"
           }
          },
          "ternary": {
           "aaxis": {
            "gridcolor": "white",
            "linecolor": "white",
            "ticks": ""
           },
           "baxis": {
            "gridcolor": "white",
            "linecolor": "white",
            "ticks": ""
           },
           "bgcolor": "#E5ECF6",
           "caxis": {
            "gridcolor": "white",
            "linecolor": "white",
            "ticks": ""
           }
          },
          "title": {
           "x": 0.05
          },
          "xaxis": {
           "automargin": true,
           "gridcolor": "white",
           "linecolor": "white",
           "ticks": "",
           "title": {
            "standoff": 15
           },
           "zerolinecolor": "white",
           "zerolinewidth": 2
          },
          "yaxis": {
           "automargin": true,
           "gridcolor": "white",
           "linecolor": "white",
           "ticks": "",
           "title": {
            "standoff": 15
           },
           "zerolinecolor": "white",
           "zerolinewidth": 2
          }
         }
        },
        "xaxis": {
         "anchor": "y",
         "domain": [
          0,
          1
         ],
         "title": {
          "text": "Trial"
         }
        },
        "yaxis": {
         "anchor": "x",
         "domain": [
          0,
          1
         ],
         "title": {
          "text": "Score"
         }
        }
       }
      },
      "text/html": [
       "<div>                            <div id=\"7137aeab-5bfa-4eeb-945f-ad2919a5fb30\" class=\"plotly-graph-div\" style=\"height:525px; width:100%;\"></div>            <script type=\"text/javascript\">                require([\"plotly\"], function(Plotly) {                    window.PLOTLYENV=window.PLOTLYENV || {};                                    if (document.getElementById(\"7137aeab-5bfa-4eeb-945f-ad2919a5fb30\")) {                    Plotly.newPlot(                        \"7137aeab-5bfa-4eeb-945f-ad2919a5fb30\",                        [{\"customdata\":[[[[\"scaling_method\",\"minmax\"],[\"encoding_method\",\"ordinal\"],[\"algorithm\",\"gbr\"],[\"n_estimators\",767],[\"learning_rate\",0.0028366153642322566],[\"max_depth\",3],[\"subsample\",0.52779532452511],[\"min_sample_split\",6],[\"min_sample_leaf\",2]]],[[[\"scaling_method\",\"maxabs\"],[\"encoding_method\",\"onehot\"],[\"drop\",null],[\"algorithm\",\"gbr\"],[\"n_estimators\",1000],[\"learning_rate\",0.03744695920657587],[\"max_depth\",2],[\"subsample\",0.5091479863132224],[\"min_sample_split\",6],[\"min_sample_leaf\",10]]],[[[\"scaling_method\",\"robust\"],[\"encoding_method\",\"ordinal\"],[\"algorithm\",\"gbr\"],[\"n_estimators\",788],[\"learning_rate\",0.00020500505408105124],[\"max_depth\",5],[\"subsample\",0.9975907844733649],[\"min_sample_split\",8],[\"min_sample_leaf\",9]]],[[[\"scaling_method\",\"robust\"],[\"encoding_method\",\"onehot\"],[\"drop\",null],[\"algorithm\",\"gbr\"],[\"n_estimators\",858],[\"learning_rate\",0.01675324056246886],[\"max_depth\",2],[\"subsample\",0.6394011481008399],[\"min_sample_split\",8],[\"min_sample_leaf\",7]]],[[[\"scaling_method\",\"standard\"],[\"encoding_method\",\"onehot\"],[\"drop\",null],[\"algorithm\",\"gbr\"],[\"n_estimators\",1000],[\"learning_rate\",0.0051714306608503825],[\"max_depth\",3],[\"subsample\",0.6090984934188113],[\"min_sample_split\",7],[\"min_sample_leaf\",4]]],[[[\"scaling_method\",\"robust\"],[\"encoding_method\",\"onehot\"],[\"drop\",null],[\"algorithm\",\"gbr\"],[\"n_estimators\",833],[\"learning_rate\",0.34335847522276197],[\"max_depth\",3],[\"subsample\",0.9047206617908237],[\"min_sample_split\",9],[\"min_sample_leaf\",1]]],[[[\"scaling_method\",\"robust\"],[\"encoding_method\",\"onehot\"],[\"drop\",null],[\"algorithm\",\"gbr\"],[\"n_estimators\",730],[\"learning_rate\",0.28282106646216737],[\"max_depth\",4],[\"subsample\",0.6017950161628121],[\"min_sample_split\",9],[\"min_sample_leaf\",5]]],[[[\"scaling_method\",\"robust\"],[\"encoding_method\",\"onehot\"],[\"drop\",null],[\"algorithm\",\"gbr\"],[\"n_estimators\",938],[\"learning_rate\",0.002059385472555751],[\"max_depth\",4],[\"subsample\",0.8011545801974311],[\"min_sample_split\",7],[\"min_sample_leaf\",6]]],[[[\"scaling_method\",\"minmax\"],[\"encoding_method\",\"onehot\"],[\"drop\",null],[\"algorithm\",\"gbr\"],[\"n_estimators\",685],[\"learning_rate\",0.0003574235070041635],[\"max_depth\",2],[\"subsample\",0.5706378825373541],[\"min_sample_split\",9],[\"min_sample_leaf\",3]]]],\"hovertemplate\":\"Algorithm=gbr<br>Trial=%{x}<br>Score=%{y}<br>Parameters=%{customdata[0]}<extra></extra>\",\"legendgroup\":\"gbr\",\"marker\":{\"color\":\"#636efa\",\"symbol\":\"circle\"},\"mode\":\"markers\",\"name\":\"gbr\",\"orientation\":\"v\",\"showlegend\":true,\"x\":[0,24,29,38,67,86,115,148,190],\"xaxis\":\"x\",\"y\":[0.8534689230641774,0.9453253751550055,0.16785182733621468,0.9367039075202874,0.9287580558440911,0.9324715222553175,0.9322251349904596,0.858382944545087,0.19262836347953688],\"yaxis\":\"y\",\"type\":\"scatter\"},{\"customdata\":[[[[\"scaling_method\",\"standard\"],[\"encoding_method\",\"ordinal\"],[\"algorithm\",\"xgb\"],[\"n_estimators\",357],[\"learning_rate\",0.6707334874038324],[\"max_depth\",7],[\"subsample\",0.9728693159657239],[\"colsample_bytree\",0.5660990173618483],[\"min_child_weight\",11]]],[[[\"scaling_method\",\"robust\"],[\"encoding_method\",\"onehot\"],[\"drop\",null],[\"algorithm\",\"xgb\"],[\"n_estimators\",557],[\"learning_rate\",0.07686462648614949],[\"max_depth\",7],[\"subsample\",0.7007900317182986],[\"colsample_bytree\",0.9803625544404208],[\"min_child_weight\",19]]],[[[\"scaling_method\",\"standard\"],[\"encoding_method\",\"onehot\"],[\"drop\",null],[\"algorithm\",\"xgb\"],[\"n_estimators\",647],[\"learning_rate\",0.21643457242880457],[\"max_depth\",6],[\"subsample\",0.8752936071778739],[\"colsample_bytree\",0.7398248355760053],[\"min_child_weight\",10]]],[[[\"scaling_method\",\"robust\"],[\"encoding_method\",\"onehot\"],[\"drop\",null],[\"algorithm\",\"xgb\"],[\"n_estimators\",587],[\"learning_rate\",0.009612827769989538],[\"max_depth\",5],[\"subsample\",0.7086472207807635],[\"colsample_bytree\",0.8522694718270836],[\"min_child_weight\",15]]],[[[\"scaling_method\",\"robust\"],[\"encoding_method\",\"onehot\"],[\"drop\",null],[\"algorithm\",\"xgb\"],[\"n_estimators\",645],[\"learning_rate\",0.007103498281567411],[\"max_depth\",7],[\"subsample\",0.7128220159714717],[\"colsample_bytree\",0.8381662039836251],[\"min_child_weight\",13]]]],\"hovertemplate\":\"Algorithm=xgb<br>Trial=%{x}<br>Score=%{y}<br>Parameters=%{customdata[0]}<extra></extra>\",\"legendgroup\":\"xgb\",\"marker\":{\"color\":\"#EF553B\",\"symbol\":\"circle\"},\"mode\":\"markers\",\"name\":\"xgb\",\"orientation\":\"v\",\"showlegend\":true,\"x\":[2,32,45,97,160],\"xaxis\":\"x\",\"y\":[0.8983485182718915,0.9449133493261778,0.9381501355880735,0.8988411428005779,0.7767834660397117],\"yaxis\":\"y\",\"type\":\"scatter\"},{\"customdata\":[[[[\"scaling_method\",\"standard\"],[\"encoding_method\",\"onehot\"],[\"drop\",null],[\"algorithm\",\"lasso\"],[\"alpha\",0.18694544168285343]]]],\"hovertemplate\":\"Algorithm=lasso<br>Trial=%{x}<br>Score=%{y}<br>Parameters=%{customdata[0]}<extra></extra>\",\"legendgroup\":\"lasso\",\"marker\":{\"color\":\"#00cc96\",\"symbol\":\"circle\"},\"mode\":\"markers\",\"name\":\"lasso\",\"orientation\":\"v\",\"showlegend\":true,\"x\":[3],\"xaxis\":\"x\",\"y\":[0.39119694583854603],\"yaxis\":\"y\",\"type\":\"scatter\"},{\"customdata\":[[[[\"scaling_method\",\"standard\"],[\"encoding_method\",\"onehot\"],[\"drop\",\"first\"],[\"algorithm\",\"rf\"],[\"bootstrap\",true],[\"n_estimators\",376],[\"max_depth\",98],[\"min_sample_split\",9],[\"min_sample_leaf\",2]]],[[[\"scaling_method\",\"maxabs\"],[\"encoding_method\",\"onehot\"],[\"drop\",\"first\"],[\"algorithm\",\"rf\"],[\"bootstrap\",true],[\"n_estimators\",46],[\"max_depth\",96],[\"min_sample_split\",10],[\"min_sample_leaf\",4]]],[[[\"scaling_method\",\"maxabs\"],[\"encoding_method\",\"onehot\"],[\"drop\",\"first\"],[\"algorithm\",\"rf\"],[\"bootstrap\",true],[\"n_estimators\",18],[\"max_depth\",100],[\"min_sample_split\",10],[\"min_sample_leaf\",4]]],[[[\"scaling_method\",\"maxabs\"],[\"encoding_method\",\"onehot\"],[\"drop\",\"first\"],[\"algorithm\",\"rf\"],[\"bootstrap\",true],[\"n_estimators\",112],[\"max_depth\",100],[\"min_sample_split\",10],[\"min_sample_leaf\",2]]],[[[\"scaling_method\",\"standard\"],[\"encoding_method\",\"onehot\"],[\"drop\",null],[\"algorithm\",\"rf\"],[\"bootstrap\",false],[\"n_estimators\",482],[\"max_depth\",54],[\"min_sample_split\",2],[\"min_sample_leaf\",7]]],[[[\"scaling_method\",\"standard\"],[\"encoding_method\",\"onehot\"],[\"drop\",\"first\"],[\"algorithm\",\"rf\"],[\"bootstrap\",false],[\"n_estimators\",700],[\"max_depth\",29],[\"min_sample_split\",2],[\"min_sample_leaf\",6]]],[[[\"scaling_method\",\"standard\"],[\"encoding_method\",\"onehot\"],[\"drop\",null],[\"algorithm\",\"rf\"],[\"bootstrap\",false],[\"n_estimators\",885],[\"max_depth\",77],[\"min_sample_split\",4],[\"min_sample_leaf\",9]]],[[[\"scaling_method\",\"robust\"],[\"encoding_method\",\"onehot\"],[\"drop\",null],[\"algorithm\",\"rf\"],[\"bootstrap\",false],[\"n_estimators\",775],[\"max_depth\",55],[\"min_sample_split\",4],[\"min_sample_leaf\",8]]],[[[\"scaling_method\",\"robust\"],[\"encoding_method\",\"onehot\"],[\"drop\",null],[\"algorithm\",\"rf\"],[\"bootstrap\",false],[\"n_estimators\",313],[\"max_depth\",40],[\"min_sample_split\",4],[\"min_sample_leaf\",10]]],[[[\"scaling_method\",\"robust\"],[\"encoding_method\",\"onehot\"],[\"drop\",null],[\"algorithm\",\"rf\"],[\"bootstrap\",true],[\"n_estimators\",355],[\"max_depth\",67],[\"min_sample_split\",5],[\"min_sample_leaf\",1]]]],\"hovertemplate\":\"Algorithm=rf<br>Trial=%{x}<br>Score=%{y}<br>Parameters=%{customdata[0]}<extra></extra>\",\"legendgroup\":\"rf\",\"marker\":{\"color\":\"#ab63fa\",\"symbol\":\"circle\"},\"mode\":\"markers\",\"name\":\"rf\",\"orientation\":\"v\",\"showlegend\":true,\"x\":[4,10,11,12,47,59,80,107,139,179],\"xaxis\":\"x\",\"y\":[0.9025630608762469,0.9005583814485196,0.8984310859548998,0.9026055886209007,0.8344907524014218,0.8359664915378944,0.8394126522565188,0.8424522831527412,0.8391884443405815,0.9081717633637603],\"yaxis\":\"y\",\"type\":\"scatter\"},{\"customdata\":[[[[\"scaling_method\",\"robust\"],[\"encoding_method\",\"ordinal\"],[\"algorithm\",\"ada\"],[\"learning_rate\",0.0029035326951488273],[\"loss\",\"linear\"],[\"n_estimators\",629]]],[[[\"scaling_method\",\"robust\"],[\"encoding_method\",\"onehot\"],[\"drop\",null],[\"algorithm\",\"ada\"],[\"learning_rate\",0.7667975049853252],[\"loss\",\"exponential\"],[\"n_estimators\",918]]],[[[\"scaling_method\",\"robust\"],[\"encoding_method\",\"ordinal\"],[\"algorithm\",\"ada\"],[\"learning_rate\",0.06593327151404603],[\"loss\",\"square\"],[\"n_estimators\",218]]],[[[\"scaling_method\",\"standard\"],[\"encoding_method\",\"onehot\"],[\"drop\",null],[\"algorithm\",\"ada\"],[\"learning_rate\",0.0006873767001023671],[\"loss\",\"exponential\"],[\"n_estimators\",157]]],[[[\"scaling_method\",\"standard\"],[\"encoding_method\",\"ordinal\"],[\"algorithm\",\"ada\"],[\"learning_rate\",0.017652333259211585],[\"loss\",\"square\"],[\"n_estimators\",513]]],[[[\"scaling_method\",\"robust\"],[\"encoding_method\",\"onehot\"],[\"drop\",null],[\"algorithm\",\"ada\"],[\"learning_rate\",0.0001077514405471103],[\"loss\",\"linear\"],[\"n_estimators\",429]]],[[[\"scaling_method\",\"robust\"],[\"encoding_method\",\"onehot\"],[\"drop\",null],[\"algorithm\",\"ada\"],[\"learning_rate\",0.13917423188259448],[\"loss\",\"linear\"],[\"n_estimators\",96]]],[[[\"scaling_method\",\"minmax\"],[\"encoding_method\",\"onehot\"],[\"drop\",null],[\"algorithm\",\"ada\"],[\"learning_rate\",0.03145148891711493],[\"loss\",\"exponential\"],[\"n_estimators\",206]]],[[[\"scaling_method\",\"robust\"],[\"encoding_method\",\"ordinal\"],[\"algorithm\",\"ada\"],[\"learning_rate\",0.12567447772017895],[\"loss\",\"square\"],[\"n_estimators\",21]]]],\"hovertemplate\":\"Algorithm=ada<br>Trial=%{x}<br>Score=%{y}<br>Parameters=%{customdata[0]}<extra></extra>\",\"legendgroup\":\"ada\",\"marker\":{\"color\":\"#FFA15A\",\"symbol\":\"circle\"},\"mode\":\"markers\",\"name\":\"ada\",\"orientation\":\"v\",\"showlegend\":true,\"x\":[7,20,37,49,68,90,119,158,199],\"xaxis\":\"x\",\"y\":[0.7753083314731837,0.876856448546339,0.8425050255310136,0.7451819448017094,0.8294517089556331,0.7421572886925786,0.8358099272408481,0.8116256901881613,0.7832808668840541],\"yaxis\":\"y\",\"type\":\"scatter\"},{\"customdata\":[[[[\"scaling_method\",\"standard\"],[\"encoding_method\",\"ordinal\"],[\"algorithm\",\"en\"],[\"alpha\",0.07463511030989889]]],[[[\"scaling_method\",\"maxabs\"],[\"encoding_method\",\"onehot\"],[\"drop\",null],[\"algorithm\",\"en\"],[\"alpha\",0.00764193776184547]]],[[[\"scaling_method\",\"robust\"],[\"encoding_method\",\"onehot\"],[\"drop\",null],[\"algorithm\",\"en\"],[\"alpha\",0.2995892509703198]]]],\"hovertemplate\":\"Algorithm=en<br>Trial=%{x}<br>Score=%{y}<br>Parameters=%{customdata[0]}<extra></extra>\",\"legendgroup\":\"en\",\"marker\":{\"color\":\"#19d3f3\",\"symbol\":\"circle\"},\"mode\":\"markers\",\"name\":\"en\",\"orientation\":\"v\",\"showlegend\":true,\"x\":[8,25,36],\"xaxis\":\"x\",\"y\":[0.8798457339669232,0.8902797960369311,0.2754569539199861],\"yaxis\":\"y\",\"type\":\"scatter\"},{\"customdata\":[[[[\"scaling_method\",\"maxabs\"],[\"encoding_method\",\"onehot\"],[\"drop\",\"first\"],[\"algorithm\",\"ridge\"],[\"alpha\",0.00034760007233794075]]],[[[\"scaling_method\",\"maxabs\"],[\"encoding_method\",\"onehot\"],[\"drop\",\"first\"],[\"algorithm\",\"ridge\"],[\"alpha\",0.00020410940914510254]]],[[[\"scaling_method\",\"maxabs\"],[\"encoding_method\",\"onehot\"],[\"drop\",\"first\"],[\"algorithm\",\"ridge\"],[\"alpha\",0.00010637270398305505]]],[[[\"scaling_method\",\"maxabs\"],[\"encoding_method\",\"onehot\"],[\"drop\",\"first\"],[\"algorithm\",\"ridge\"],[\"alpha\",0.00012311605679866708]]],[[[\"scaling_method\",\"maxabs\"],[\"encoding_method\",\"onehot\"],[\"drop\",null],[\"algorithm\",\"ridge\"],[\"alpha\",0.0034573793212777336]]],[[[\"scaling_method\",\"maxabs\"],[\"encoding_method\",\"onehot\"],[\"drop\",null],[\"algorithm\",\"ridge\"],[\"alpha\",0.006215148235411284]]],[[[\"scaling_method\",\"maxabs\"],[\"encoding_method\",\"onehot\"],[\"drop\",null],[\"algorithm\",\"ridge\"],[\"alpha\",0.007331218774057828]]],[[[\"scaling_method\",\"maxabs\"],[\"encoding_method\",\"onehot\"],[\"drop\",null],[\"algorithm\",\"ridge\"],[\"alpha\",0.009656736048741291]]],[[[\"scaling_method\",\"maxabs\"],[\"encoding_method\",\"onehot\"],[\"drop\",null],[\"algorithm\",\"ridge\"],[\"alpha\",0.009682163254378208]]],[[[\"scaling_method\",\"maxabs\"],[\"encoding_method\",\"onehot\"],[\"drop\",null],[\"algorithm\",\"ridge\"],[\"alpha\",957.5689866973827]]],[[[\"scaling_method\",\"maxabs\"],[\"encoding_method\",\"onehot\"],[\"drop\",null],[\"algorithm\",\"ridge\"],[\"alpha\",0.02975630106959021]]],[[[\"scaling_method\",\"maxabs\"],[\"encoding_method\",\"onehot\"],[\"drop\",null],[\"algorithm\",\"ridge\"],[\"alpha\",0.001553548947697273]]],[[[\"scaling_method\",\"robust\"],[\"encoding_method\",\"onehot\"],[\"drop\",null],[\"algorithm\",\"ridge\"],[\"alpha\",0.024757954572296487]]],[[[\"scaling_method\",\"robust\"],[\"encoding_method\",\"onehot\"],[\"drop\",null],[\"algorithm\",\"ridge\"],[\"alpha\",0.02986651477332422]]],[[[\"scaling_method\",\"robust\"],[\"encoding_method\",\"onehot\"],[\"drop\",null],[\"algorithm\",\"ridge\"],[\"alpha\",0.05020454634788718]]],[[[\"scaling_method\",\"robust\"],[\"encoding_method\",\"onehot\"],[\"drop\",null],[\"algorithm\",\"ridge\"],[\"alpha\",0.048314679349465886]]],[[[\"scaling_method\",\"robust\"],[\"encoding_method\",\"onehot\"],[\"drop\",null],[\"algorithm\",\"ridge\"],[\"alpha\",0.07701327640342204]]],[[[\"scaling_method\",\"minmax\"],[\"encoding_method\",\"ordinal\"],[\"algorithm\",\"ridge\"],[\"alpha\",0.08228069765135829]]],[[[\"scaling_method\",\"robust\"],[\"encoding_method\",\"onehot\"],[\"drop\",null],[\"algorithm\",\"ridge\"],[\"alpha\",11.654416902272764]]],[[[\"scaling_method\",\"robust\"],[\"encoding_method\",\"onehot\"],[\"drop\",null],[\"algorithm\",\"ridge\"],[\"alpha\",370.18772733615316]]],[[[\"scaling_method\",\"robust\"],[\"encoding_method\",\"onehot\"],[\"drop\",null],[\"algorithm\",\"ridge\"],[\"alpha\",31.963605990622764]]],[[[\"scaling_method\",\"standard\"],[\"encoding_method\",\"onehot\"],[\"drop\",null],[\"algorithm\",\"ridge\"],[\"alpha\",38.46167045979947]]],[[[\"scaling_method\",\"standard\"],[\"encoding_method\",\"onehot\"],[\"drop\",null],[\"algorithm\",\"ridge\"],[\"alpha\",26.272595957510102]]],[[[\"scaling_method\",\"standard\"],[\"encoding_method\",\"onehot\"],[\"drop\",null],[\"algorithm\",\"ridge\"],[\"alpha\",29.549452125173403]]],[[[\"scaling_method\",\"standard\"],[\"encoding_method\",\"onehot\"],[\"drop\",null],[\"algorithm\",\"ridge\"],[\"alpha\",25.752073839163717]]],[[[\"scaling_method\",\"standard\"],[\"encoding_method\",\"onehot\"],[\"drop\",null],[\"algorithm\",\"ridge\"],[\"alpha\",24.11339626123322]]],[[[\"scaling_method\",\"standard\"],[\"encoding_method\",\"onehot\"],[\"drop\",null],[\"algorithm\",\"ridge\"],[\"alpha\",11.284535868983939]]],[[[\"scaling_method\",\"standard\"],[\"encoding_method\",\"onehot\"],[\"drop\",null],[\"algorithm\",\"ridge\"],[\"alpha\",112.33434457397904]]],[[[\"scaling_method\",\"standard\"],[\"encoding_method\",\"onehot\"],[\"drop\",\"first\"],[\"algorithm\",\"ridge\"],[\"alpha\",11.98745990441318]]],[[[\"scaling_method\",\"minmax\"],[\"encoding_method\",\"onehot\"],[\"drop\",null],[\"algorithm\",\"ridge\"],[\"alpha\",179.7818120082185]]],[[[\"scaling_method\",\"standard\"],[\"encoding_method\",\"onehot\"],[\"drop\",null],[\"algorithm\",\"ridge\"],[\"alpha\",0.8952293128861518]]],[[[\"scaling_method\",\"standard\"],[\"encoding_method\",\"onehot\"],[\"drop\",null],[\"algorithm\",\"ridge\"],[\"alpha\",11.814083507536127]]],[[[\"scaling_method\",\"standard\"],[\"encoding_method\",\"onehot\"],[\"drop\",null],[\"algorithm\",\"ridge\"],[\"alpha\",12.10654690230858]]],[[[\"scaling_method\",\"standard\"],[\"encoding_method\",\"onehot\"],[\"drop\",null],[\"algorithm\",\"ridge\"],[\"alpha\",3.1156028237573397]]],[[[\"scaling_method\",\"standard\"],[\"encoding_method\",\"onehot\"],[\"drop\",null],[\"algorithm\",\"ridge\"],[\"alpha\",79.56127085078204]]],[[[\"scaling_method\",\"standard\"],[\"encoding_method\",\"onehot\"],[\"drop\",null],[\"algorithm\",\"ridge\"],[\"alpha\",20.335074017874735]]],[[[\"scaling_method\",\"standard\"],[\"encoding_method\",\"onehot\"],[\"drop\",null],[\"algorithm\",\"ridge\"],[\"alpha\",26.527699156703473]]],[[[\"scaling_method\",\"minmax\"],[\"encoding_method\",\"onehot\"],[\"drop\",\"first\"],[\"algorithm\",\"ridge\"],[\"alpha\",4.6336234348662115]]],[[[\"scaling_method\",\"standard\"],[\"encoding_method\",\"onehot\"],[\"drop\",null],[\"algorithm\",\"ridge\"],[\"alpha\",1.542381419829497]]],[[[\"scaling_method\",\"standard\"],[\"encoding_method\",\"onehot\"],[\"drop\",null],[\"algorithm\",\"ridge\"],[\"alpha\",23.73258423726294]]],[[[\"scaling_method\",\"standard\"],[\"encoding_method\",\"onehot\"],[\"drop\",null],[\"algorithm\",\"ridge\"],[\"alpha\",20.514269633015665]]],[[[\"scaling_method\",\"standard\"],[\"encoding_method\",\"onehot\"],[\"drop\",null],[\"algorithm\",\"ridge\"],[\"alpha\",7.445933420258132]]],[[[\"scaling_method\",\"standard\"],[\"encoding_method\",\"onehot\"],[\"drop\",null],[\"algorithm\",\"ridge\"],[\"alpha\",18.53538911338755]]],[[[\"scaling_method\",\"minmax\"],[\"encoding_method\",\"onehot\"],[\"drop\",null],[\"algorithm\",\"ridge\"],[\"alpha\",18.85697002577167]]],[[[\"scaling_method\",\"standard\"],[\"encoding_method\",\"onehot\"],[\"drop\",\"first\"],[\"algorithm\",\"ridge\"],[\"alpha\",47.64519440272038]]],[[[\"scaling_method\",\"robust\"],[\"encoding_method\",\"ordinal\"],[\"algorithm\",\"ridge\"],[\"alpha\",2.000375446930459]]],[[[\"scaling_method\",\"standard\"],[\"encoding_method\",\"onehot\"],[\"drop\",null],[\"algorithm\",\"ridge\"],[\"alpha\",18.27602382476234]]],[[[\"scaling_method\",\"standard\"],[\"encoding_method\",\"onehot\"],[\"drop\",null],[\"algorithm\",\"ridge\"],[\"alpha\",6.669227643736738]]],[[[\"scaling_method\",\"standard\"],[\"encoding_method\",\"onehot\"],[\"drop\",null],[\"algorithm\",\"ridge\"],[\"alpha\",59.25624195156445]]],[[[\"scaling_method\",\"standard\"],[\"encoding_method\",\"onehot\"],[\"drop\",null],[\"algorithm\",\"ridge\"],[\"alpha\",17.28097186087167]]],[[[\"scaling_method\",\"robust\"],[\"encoding_method\",\"onehot\"],[\"drop\",null],[\"algorithm\",\"ridge\"],[\"alpha\",16.491567544017695]]],[[[\"scaling_method\",\"robust\"],[\"encoding_method\",\"onehot\"],[\"drop\",null],[\"algorithm\",\"ridge\"],[\"alpha\",127.61606545478453]]],[[[\"scaling_method\",\"robust\"],[\"encoding_method\",\"onehot\"],[\"drop\",null],[\"algorithm\",\"ridge\"],[\"alpha\",6.876754594966529]]],[[[\"scaling_method\",\"robust\"],[\"encoding_method\",\"onehot\"],[\"drop\",null],[\"algorithm\",\"ridge\"],[\"alpha\",468.1843792633497]]],[[[\"scaling_method\",\"standard\"],[\"encoding_method\",\"onehot\"],[\"drop\",null],[\"algorithm\",\"ridge\"],[\"alpha\",17.121257159043388]]],[[[\"scaling_method\",\"robust\"],[\"encoding_method\",\"onehot\"],[\"drop\",null],[\"algorithm\",\"ridge\"],[\"alpha\",16.226776923924984]]],[[[\"scaling_method\",\"robust\"],[\"encoding_method\",\"onehot\"],[\"drop\",null],[\"algorithm\",\"ridge\"],[\"alpha\",54.5176398666732]]],[[[\"scaling_method\",\"robust\"],[\"encoding_method\",\"onehot\"],[\"drop\",null],[\"algorithm\",\"ridge\"],[\"alpha\",7.809914306249189]]],[[[\"scaling_method\",\"robust\"],[\"encoding_method\",\"onehot\"],[\"drop\",null],[\"algorithm\",\"ridge\"],[\"alpha\",17.8492450268799]]],[[[\"scaling_method\",\"robust\"],[\"encoding_method\",\"onehot\"],[\"drop\",null],[\"algorithm\",\"ridge\"],[\"alpha\",14.090791144074823]]],[[[\"scaling_method\",\"robust\"],[\"encoding_method\",\"onehot\"],[\"drop\",\"first\"],[\"algorithm\",\"ridge\"],[\"alpha\",40.69581969621818]]],[[[\"scaling_method\",\"robust\"],[\"encoding_method\",\"onehot\"],[\"drop\",null],[\"algorithm\",\"ridge\"],[\"alpha\",12.369864677176372]]],[[[\"scaling_method\",\"robust\"],[\"encoding_method\",\"onehot\"],[\"drop\",null],[\"algorithm\",\"ridge\"],[\"alpha\",10.269259628961192]]],[[[\"scaling_method\",\"robust\"],[\"encoding_method\",\"onehot\"],[\"drop\",null],[\"algorithm\",\"ridge\"],[\"alpha\",10.252807918586376]]],[[[\"scaling_method\",\"robust\"],[\"encoding_method\",\"onehot\"],[\"drop\",null],[\"algorithm\",\"ridge\"],[\"alpha\",11.124848581169209]]],[[[\"scaling_method\",\"robust\"],[\"encoding_method\",\"onehot\"],[\"drop\",null],[\"algorithm\",\"ridge\"],[\"alpha\",10.598531177228269]]],[[[\"scaling_method\",\"robust\"],[\"encoding_method\",\"onehot\"],[\"drop\",null],[\"algorithm\",\"ridge\"],[\"alpha\",10.338784201630128]]],[[[\"scaling_method\",\"robust\"],[\"encoding_method\",\"onehot\"],[\"drop\",null],[\"algorithm\",\"ridge\"],[\"alpha\",5.174775950907055]]],[[[\"scaling_method\",\"robust\"],[\"encoding_method\",\"onehot\"],[\"drop\",null],[\"algorithm\",\"ridge\"],[\"alpha\",1.9096547400254569]]],[[[\"scaling_method\",\"robust\"],[\"encoding_method\",\"onehot\"],[\"drop\",null],[\"algorithm\",\"ridge\"],[\"alpha\",3.22972385192312]]],[[[\"scaling_method\",\"robust\"],[\"encoding_method\",\"onehot\"],[\"drop\",null],[\"algorithm\",\"ridge\"],[\"alpha\",10.19086375501042]]],[[[\"scaling_method\",\"robust\"],[\"encoding_method\",\"onehot\"],[\"drop\",null],[\"algorithm\",\"ridge\"],[\"alpha\",11.004635872440572]]],[[[\"scaling_method\",\"robust\"],[\"encoding_method\",\"onehot\"],[\"drop\",null],[\"algorithm\",\"ridge\"],[\"alpha\",5.565146836009527]]],[[[\"scaling_method\",\"robust\"],[\"encoding_method\",\"onehot\"],[\"drop\",null],[\"algorithm\",\"ridge\"],[\"alpha\",12.186056906961044]]],[[[\"scaling_method\",\"robust\"],[\"encoding_method\",\"ordinal\"],[\"algorithm\",\"ridge\"],[\"alpha\",12.554125163784972]]],[[[\"scaling_method\",\"robust\"],[\"encoding_method\",\"onehot\"],[\"drop\",null],[\"algorithm\",\"ridge\"],[\"alpha\",35.506261104099075]]],[[[\"scaling_method\",\"robust\"],[\"encoding_method\",\"onehot\"],[\"drop\",null],[\"algorithm\",\"ridge\"],[\"alpha\",34.6082324598237]]],[[[\"scaling_method\",\"robust\"],[\"encoding_method\",\"onehot\"],[\"drop\",null],[\"algorithm\",\"ridge\"],[\"alpha\",29.95922709367116]]],[[[\"scaling_method\",\"robust\"],[\"encoding_method\",\"onehot\"],[\"drop\",null],[\"algorithm\",\"ridge\"],[\"alpha\",31.64131754555925]]],[[[\"scaling_method\",\"robust\"],[\"encoding_method\",\"onehot\"],[\"drop\",null],[\"algorithm\",\"ridge\"],[\"alpha\",66.62572201318218]]],[[[\"scaling_method\",\"robust\"],[\"encoding_method\",\"onehot\"],[\"drop\",null],[\"algorithm\",\"ridge\"],[\"alpha\",34.15126130781227]]],[[[\"scaling_method\",\"robust\"],[\"encoding_method\",\"onehot\"],[\"drop\",null],[\"algorithm\",\"ridge\"],[\"alpha\",31.78186580782255]]],[[[\"scaling_method\",\"robust\"],[\"encoding_method\",\"onehot\"],[\"drop\",null],[\"algorithm\",\"ridge\"],[\"alpha\",118.35477960400273]]],[[[\"scaling_method\",\"robust\"],[\"encoding_method\",\"onehot\"],[\"drop\",null],[\"algorithm\",\"ridge\"],[\"alpha\",35.047733146417]]],[[[\"scaling_method\",\"robust\"],[\"encoding_method\",\"onehot\"],[\"drop\",null],[\"algorithm\",\"ridge\"],[\"alpha\",31.63419212328805]]],[[[\"scaling_method\",\"robust\"],[\"encoding_method\",\"onehot\"],[\"drop\",null],[\"algorithm\",\"ridge\"],[\"alpha\",30.93429014729831]]],[[[\"scaling_method\",\"robust\"],[\"encoding_method\",\"onehot\"],[\"drop\",null],[\"algorithm\",\"ridge\"],[\"alpha\",31.375336914358908]]],[[[\"scaling_method\",\"robust\"],[\"encoding_method\",\"onehot\"],[\"drop\",null],[\"algorithm\",\"ridge\"],[\"alpha\",32.7761909275575]]],[[[\"scaling_method\",\"robust\"],[\"encoding_method\",\"onehot\"],[\"drop\",null],[\"algorithm\",\"ridge\"],[\"alpha\",26.387059700563412]]],[[[\"scaling_method\",\"robust\"],[\"encoding_method\",\"onehot\"],[\"drop\",null],[\"algorithm\",\"ridge\"],[\"alpha\",61.794252218551534]]],[[[\"scaling_method\",\"minmax\"],[\"encoding_method\",\"onehot\"],[\"drop\",null],[\"algorithm\",\"ridge\"],[\"alpha\",26.702819534844433]]],[[[\"scaling_method\",\"robust\"],[\"encoding_method\",\"onehot\"],[\"drop\",null],[\"algorithm\",\"ridge\"],[\"alpha\",77.47015773318054]]],[[[\"scaling_method\",\"robust\"],[\"encoding_method\",\"ordinal\"],[\"algorithm\",\"ridge\"],[\"alpha\",140.2925932322493]]],[[[\"scaling_method\",\"robust\"],[\"encoding_method\",\"onehot\"],[\"drop\",null],[\"algorithm\",\"ridge\"],[\"alpha\",25.837817413821103]]],[[[\"scaling_method\",\"robust\"],[\"encoding_method\",\"onehot\"],[\"drop\",null],[\"algorithm\",\"ridge\"],[\"alpha\",27.3035598469321]]],[[[\"scaling_method\",\"robust\"],[\"encoding_method\",\"onehot\"],[\"drop\",null],[\"algorithm\",\"ridge\"],[\"alpha\",16.09499395942244]]],[[[\"scaling_method\",\"robust\"],[\"encoding_method\",\"onehot\"],[\"drop\",null],[\"algorithm\",\"ridge\"],[\"alpha\",24.240571867876426]]],[[[\"scaling_method\",\"robust\"],[\"encoding_method\",\"onehot\"],[\"drop\",null],[\"algorithm\",\"ridge\"],[\"alpha\",23.787895175182896]]],[[[\"scaling_method\",\"robust\"],[\"encoding_method\",\"onehot\"],[\"drop\",null],[\"algorithm\",\"ridge\"],[\"alpha\",23.29541090492026]]],[[[\"scaling_method\",\"robust\"],[\"encoding_method\",\"onehot\"],[\"drop\",null],[\"algorithm\",\"ridge\"],[\"alpha\",20.979238463380472]]],[[[\"scaling_method\",\"robust\"],[\"encoding_method\",\"onehot\"],[\"drop\",\"first\"],[\"algorithm\",\"ridge\"],[\"alpha\",20.724835853224008]]],[[[\"scaling_method\",\"maxabs\"],[\"encoding_method\",\"onehot\"],[\"drop\",null],[\"algorithm\",\"ridge\"],[\"alpha\",17.783563541668737]]],[[[\"scaling_method\",\"robust\"],[\"encoding_method\",\"onehot\"],[\"drop\",null],[\"algorithm\",\"ridge\"],[\"alpha\",51.089234437419776]]],[[[\"scaling_method\",\"robust\"],[\"encoding_method\",\"onehot\"],[\"drop\",null],[\"algorithm\",\"ridge\"],[\"alpha\",25.069474436567003]]],[[[\"scaling_method\",\"robust\"],[\"encoding_method\",\"onehot\"],[\"drop\",null],[\"algorithm\",\"ridge\"],[\"alpha\",24.60065001583267]]],[[[\"scaling_method\",\"robust\"],[\"encoding_method\",\"onehot\"],[\"drop\",null],[\"algorithm\",\"ridge\"],[\"alpha\",23.187253070579438]]],[[[\"scaling_method\",\"robust\"],[\"encoding_method\",\"onehot\"],[\"drop\",null],[\"algorithm\",\"ridge\"],[\"alpha\",22.687706204635205]]],[[[\"scaling_method\",\"robust\"],[\"encoding_method\",\"onehot\"],[\"drop\",null],[\"algorithm\",\"ridge\"],[\"alpha\",17.022317847668752]]],[[[\"scaling_method\",\"robust\"],[\"encoding_method\",\"onehot\"],[\"drop\",null],[\"algorithm\",\"ridge\"],[\"alpha\",0.14381767348525498]]],[[[\"scaling_method\",\"robust\"],[\"encoding_method\",\"onehot\"],[\"drop\",null],[\"algorithm\",\"ridge\"],[\"alpha\",0.000817475001306828]]],[[[\"scaling_method\",\"robust\"],[\"encoding_method\",\"onehot\"],[\"drop\",null],[\"algorithm\",\"ridge\"],[\"alpha\",22.094860584246824]]],[[[\"scaling_method\",\"robust\"],[\"encoding_method\",\"onehot\"],[\"drop\",null],[\"algorithm\",\"ridge\"],[\"alpha\",21.317337257553536]]],[[[\"scaling_method\",\"robust\"],[\"encoding_method\",\"onehot\"],[\"drop\",null],[\"algorithm\",\"ridge\"],[\"alpha\",22.038681320869927]]],[[[\"scaling_method\",\"robust\"],[\"encoding_method\",\"onehot\"],[\"drop\",null],[\"algorithm\",\"ridge\"],[\"alpha\",22.801607163831065]]],[[[\"scaling_method\",\"robust\"],[\"encoding_method\",\"onehot\"],[\"drop\",null],[\"algorithm\",\"ridge\"],[\"alpha\",21.96155226544112]]],[[[\"scaling_method\",\"robust\"],[\"encoding_method\",\"onehot\"],[\"drop\",null],[\"algorithm\",\"ridge\"],[\"alpha\",25.268831923727877]]],[[[\"scaling_method\",\"robust\"],[\"encoding_method\",\"ordinal\"],[\"algorithm\",\"ridge\"],[\"alpha\",21.860532761485562]]],[[[\"scaling_method\",\"robust\"],[\"encoding_method\",\"onehot\"],[\"drop\",null],[\"algorithm\",\"ridge\"],[\"alpha\",92.0505102878604]]],[[[\"scaling_method\",\"robust\"],[\"encoding_method\",\"onehot\"],[\"drop\",null],[\"algorithm\",\"ridge\"],[\"alpha\",24.641053222283162]]],[[[\"scaling_method\",\"robust\"],[\"encoding_method\",\"onehot\"],[\"drop\",null],[\"algorithm\",\"ridge\"],[\"alpha\",24.31583454787142]]],[[[\"scaling_method\",\"robust\"],[\"encoding_method\",\"onehot\"],[\"drop\",null],[\"algorithm\",\"ridge\"],[\"alpha\",22.783747292427492]]],[[[\"scaling_method\",\"robust\"],[\"encoding_method\",\"onehot\"],[\"drop\",null],[\"algorithm\",\"ridge\"],[\"alpha\",22.296786063651155]]],[[[\"scaling_method\",\"robust\"],[\"encoding_method\",\"onehot\"],[\"drop\",null],[\"algorithm\",\"ridge\"],[\"alpha\",51.99051262413413]]],[[[\"scaling_method\",\"robust\"],[\"encoding_method\",\"onehot\"],[\"drop\",null],[\"algorithm\",\"ridge\"],[\"alpha\",21.715934137032452]]],[[[\"scaling_method\",\"maxabs\"],[\"encoding_method\",\"onehot\"],[\"drop\",null],[\"algorithm\",\"ridge\"],[\"alpha\",19.368349016042224]]],[[[\"scaling_method\",\"robust\"],[\"encoding_method\",\"onehot\"],[\"drop\",\"first\"],[\"algorithm\",\"ridge\"],[\"alpha\",8.14671378409088]]],[[[\"scaling_method\",\"robust\"],[\"encoding_method\",\"onehot\"],[\"drop\",null],[\"algorithm\",\"ridge\"],[\"alpha\",14.702483669292445]]],[[[\"scaling_method\",\"robust\"],[\"encoding_method\",\"onehot\"],[\"drop\",null],[\"algorithm\",\"ridge\"],[\"alpha\",47.56533063671504]]],[[[\"scaling_method\",\"robust\"],[\"encoding_method\",\"onehot\"],[\"drop\",null],[\"algorithm\",\"ridge\"],[\"alpha\",21.48835539339697]]],[[[\"scaling_method\",\"robust\"],[\"encoding_method\",\"onehot\"],[\"drop\",null],[\"algorithm\",\"ridge\"],[\"alpha\",21.96829921008001]]],[[[\"scaling_method\",\"robust\"],[\"encoding_method\",\"onehot\"],[\"drop\",null],[\"algorithm\",\"ridge\"],[\"alpha\",20.06627045525762]]],[[[\"scaling_method\",\"robust\"],[\"encoding_method\",\"onehot\"],[\"drop\",null],[\"algorithm\",\"ridge\"],[\"alpha\",16.31489222273554]]],[[[\"scaling_method\",\"robust\"],[\"encoding_method\",\"onehot\"],[\"drop\",null],[\"algorithm\",\"ridge\"],[\"alpha\",14.059549996082627]]],[[[\"scaling_method\",\"robust\"],[\"encoding_method\",\"onehot\"],[\"drop\",null],[\"algorithm\",\"ridge\"],[\"alpha\",7.953446446781831]]],[[[\"scaling_method\",\"robust\"],[\"encoding_method\",\"onehot\"],[\"drop\",null],[\"algorithm\",\"ridge\"],[\"alpha\",48.49683312680761]]],[[[\"scaling_method\",\"robust\"],[\"encoding_method\",\"onehot\"],[\"drop\",null],[\"algorithm\",\"ridge\"],[\"alpha\",22.93364829103212]]],[[[\"scaling_method\",\"robust\"],[\"encoding_method\",\"onehot\"],[\"drop\",null],[\"algorithm\",\"ridge\"],[\"alpha\",14.100547192784603]]],[[[\"scaling_method\",\"robust\"],[\"encoding_method\",\"onehot\"],[\"drop\",null],[\"algorithm\",\"ridge\"],[\"alpha\",21.836722284139054]]],[[[\"scaling_method\",\"robust\"],[\"encoding_method\",\"onehot\"],[\"drop\",null],[\"algorithm\",\"ridge\"],[\"alpha\",20.414243462933022]]],[[[\"scaling_method\",\"robust\"],[\"encoding_method\",\"onehot\"],[\"drop\",null],[\"algorithm\",\"ridge\"],[\"alpha\",41.21612176045619]]],[[[\"scaling_method\",\"robust\"],[\"encoding_method\",\"onehot\"],[\"drop\",null],[\"algorithm\",\"ridge\"],[\"alpha\",20.64468146567676]]],[[[\"scaling_method\",\"robust\"],[\"encoding_method\",\"onehot\"],[\"drop\",null],[\"algorithm\",\"ridge\"],[\"alpha\",14.130684869651976]]],[[[\"scaling_method\",\"robust\"],[\"encoding_method\",\"onehot\"],[\"drop\",null],[\"algorithm\",\"ridge\"],[\"alpha\",65.31528103686519]]],[[[\"scaling_method\",\"robust\"],[\"encoding_method\",\"onehot\"],[\"drop\",null],[\"algorithm\",\"ridge\"],[\"alpha\",0.5898514945304739]]],[[[\"scaling_method\",\"robust\"],[\"encoding_method\",\"onehot\"],[\"drop\",null],[\"algorithm\",\"ridge\"],[\"alpha\",19.94710527692705]]]],\"hovertemplate\":\"Algorithm=ridge<br>Trial=%{x}<br>Score=%{y}<br>Parameters=%{customdata[0]}<extra></extra>\",\"legendgroup\":\"ridge\",\"marker\":{\"color\":\"#FF6692\",\"symbol\":\"circle\"},\"mode\":\"markers\",\"name\":\"ridge\",\"orientation\":\"v\",\"showlegend\":true,\"x\":[13,14,15,16,17,18,19,21,22,23,26,27,28,30,31,33,35,39,40,41,42,44,46,50,51,52,53,54,56,57,58,60,61,62,63,64,65,66,70,71,72,73,74,76,78,79,81,82,83,84,85,87,88,89,91,92,93,94,95,98,100,101,102,103,104,105,106,108,109,110,111,112,113,114,116,117,118,121,122,123,124,125,126,127,129,131,132,133,134,135,136,137,138,140,141,142,143,144,145,146,147,149,150,151,152,153,154,155,156,157,159,161,162,163,164,166,167,168,169,171,172,173,174,175,176,177,178,180,181,182,183,184,185,186,187,188,189,191,192,193,194,195,196,197,198],\"xaxis\":\"x\",\"y\":[0.9457598590068322,0.9457630363396812,0.9457664105624257,0.9457657509306119,0.9458272928332769,0.9458602732859056,0.9458687372367122,0.945878747125674,0.9458788067499121,0.577040401256889,0.9457794732062131,0.9457972831177119,0.945915477149828,0.9459371294702411,0.9460194962009393,0.9460120876074563,0.9461196871808346,0.941157283091346,0.949816918538709,0.9355564611446272,0.9499522348640677,0.949488270955138,0.9496646934881816,0.9496290725633034,0.949669214435516,0.9496810295998003,0.9495325341174727,0.9477255936749225,0.9494862134780414,0.8143552308391679,0.9474704617216017,0.9495539906198888,0.9495648815092649,0.94856638856684,0.9485519384531266,0.9496910380632781,0.9496623529760345,0.9461653000076453,0.9479346630157572,0.9496832036071915,0.9496912164320612,0.9492842998078617,0.9496848023447189,0.933431378484299,0.9490262336188906,0.9413017170755016,0.9496831744806535,0.9492049892807195,0.9490432654676908,0.9496749963951222,0.9499915017531239,0.946296217073544,0.9494085394886472,0.9302866093535254,0.9496733802886655,0.9499856604975921,0.9493249501268908,0.9495182541825506,0.95001628056841,0.9499245295139204,0.9495309906953816,0.9498535116863351,0.9497316612847708,0.9497305201057132,0.9497867241476443,0.9497538271566055,0.9497364479279146,0.9491469344105404,0.9481809613200312,0.9486882990544444,0.9497261938515994,0.9497794734359604,0.9492155517974478,0.9498445455493953,0.941665661046779,0.9498811260598897,0.9499005076356525,0.949985448893939,0.9499579465942232,0.948882352800886,0.9499100325151275,0.9499554725293177,0.9467068493195085,0.9498911300725019,0.9499580713260665,0.9499699894181877,0.9499625566416128,0.9499372406221622,0.9500292070109136,0.9490643803235678,0.9268911652615888,0.9484542409371295,0.9398289402690752,0.9500339054445469,0.9500200827895494,0.949982622138512,0.9500440181285235,0.9500458537065709,0.9500472965273005,0.9500455608064758,0.9499147059212328,0.9309199659735852,0.9494407191457178,0.9500394529323334,0.9500422220813359,0.9500475337201107,0.9500482449799987,0.9500021875166036,0.9463359570239568,0.9458082110355039,0.950048240028608,0.9500467565675385,0.9500481901134906,0.9500481392056355,0.9500481073364282,0.9500381318421095,0.9418433996467886,0.947848720779905,0.9500420024109293,0.9500436669720228,0.9500481580195362,0.9500483479389941,0.9494107831944859,0.9500477326155489,0.9297935101376275,0.9495873886047501,0.9499447797864378,0.9495539782590299,0.9500472319200497,0.9500481152379876,0.9500405549776152,0.9499876430659621,0.9499234304140007,0.9495334796972748,0.949524658142091,0.9500479745820976,0.9499248714165324,0.9500479381570596,0.9500427776545806,0.9497399201149074,0.9500440339227698,0.949925923622564,0.9489323380445546,0.947180472083694,0.9500397016844833],\"yaxis\":\"y\",\"type\":\"scatter\"}],                        {\"template\":{\"data\":{\"histogram2dcontour\":[{\"type\":\"histogram2dcontour\",\"colorbar\":{\"outlinewidth\":0,\"ticks\":\"\"},\"colorscale\":[[0.0,\"#0d0887\"],[0.1111111111111111,\"#46039f\"],[0.2222222222222222,\"#7201a8\"],[0.3333333333333333,\"#9c179e\"],[0.4444444444444444,\"#bd3786\"],[0.5555555555555556,\"#d8576b\"],[0.6666666666666666,\"#ed7953\"],[0.7777777777777778,\"#fb9f3a\"],[0.8888888888888888,\"#fdca26\"],[1.0,\"#f0f921\"]]}],\"choropleth\":[{\"type\":\"choropleth\",\"colorbar\":{\"outlinewidth\":0,\"ticks\":\"\"}}],\"histogram2d\":[{\"type\":\"histogram2d\",\"colorbar\":{\"outlinewidth\":0,\"ticks\":\"\"},\"colorscale\":[[0.0,\"#0d0887\"],[0.1111111111111111,\"#46039f\"],[0.2222222222222222,\"#7201a8\"],[0.3333333333333333,\"#9c179e\"],[0.4444444444444444,\"#bd3786\"],[0.5555555555555556,\"#d8576b\"],[0.6666666666666666,\"#ed7953\"],[0.7777777777777778,\"#fb9f3a\"],[0.8888888888888888,\"#fdca26\"],[1.0,\"#f0f921\"]]}],\"heatmap\":[{\"type\":\"heatmap\",\"colorbar\":{\"outlinewidth\":0,\"ticks\":\"\"},\"colorscale\":[[0.0,\"#0d0887\"],[0.1111111111111111,\"#46039f\"],[0.2222222222222222,\"#7201a8\"],[0.3333333333333333,\"#9c179e\"],[0.4444444444444444,\"#bd3786\"],[0.5555555555555556,\"#d8576b\"],[0.6666666666666666,\"#ed7953\"],[0.7777777777777778,\"#fb9f3a\"],[0.8888888888888888,\"#fdca26\"],[1.0,\"#f0f921\"]]}],\"heatmapgl\":[{\"type\":\"heatmapgl\",\"colorbar\":{\"outlinewidth\":0,\"ticks\":\"\"},\"colorscale\":[[0.0,\"#0d0887\"],[0.1111111111111111,\"#46039f\"],[0.2222222222222222,\"#7201a8\"],[0.3333333333333333,\"#9c179e\"],[0.4444444444444444,\"#bd3786\"],[0.5555555555555556,\"#d8576b\"],[0.6666666666666666,\"#ed7953\"],[0.7777777777777778,\"#fb9f3a\"],[0.8888888888888888,\"#fdca26\"],[1.0,\"#f0f921\"]]}],\"contourcarpet\":[{\"type\":\"contourcarpet\",\"colorbar\":{\"outlinewidth\":0,\"ticks\":\"\"}}],\"contour\":[{\"type\":\"contour\",\"colorbar\":{\"outlinewidth\":0,\"ticks\":\"\"},\"colorscale\":[[0.0,\"#0d0887\"],[0.1111111111111111,\"#46039f\"],[0.2222222222222222,\"#7201a8\"],[0.3333333333333333,\"#9c179e\"],[0.4444444444444444,\"#bd3786\"],[0.5555555555555556,\"#d8576b\"],[0.6666666666666666,\"#ed7953\"],[0.7777777777777778,\"#fb9f3a\"],[0.8888888888888888,\"#fdca26\"],[1.0,\"#f0f921\"]]}],\"surface\":[{\"type\":\"surface\",\"colorbar\":{\"outlinewidth\":0,\"ticks\":\"\"},\"colorscale\":[[0.0,\"#0d0887\"],[0.1111111111111111,\"#46039f\"],[0.2222222222222222,\"#7201a8\"],[0.3333333333333333,\"#9c179e\"],[0.4444444444444444,\"#bd3786\"],[0.5555555555555556,\"#d8576b\"],[0.6666666666666666,\"#ed7953\"],[0.7777777777777778,\"#fb9f3a\"],[0.8888888888888888,\"#fdca26\"],[1.0,\"#f0f921\"]]}],\"mesh3d\":[{\"type\":\"mesh3d\",\"colorbar\":{\"outlinewidth\":0,\"ticks\":\"\"}}],\"scatter\":[{\"fillpattern\":{\"fillmode\":\"overlay\",\"size\":10,\"solidity\":0.2},\"type\":\"scatter\"}],\"parcoords\":[{\"type\":\"parcoords\",\"line\":{\"colorbar\":{\"outlinewidth\":0,\"ticks\":\"\"}}}],\"scatterpolargl\":[{\"type\":\"scatterpolargl\",\"marker\":{\"colorbar\":{\"outlinewidth\":0,\"ticks\":\"\"}}}],\"bar\":[{\"error_x\":{\"color\":\"#2a3f5f\"},\"error_y\":{\"color\":\"#2a3f5f\"},\"marker\":{\"line\":{\"color\":\"#E5ECF6\",\"width\":0.5},\"pattern\":{\"fillmode\":\"overlay\",\"size\":10,\"solidity\":0.2}},\"type\":\"bar\"}],\"scattergeo\":[{\"type\":\"scattergeo\",\"marker\":{\"colorbar\":{\"outlinewidth\":0,\"ticks\":\"\"}}}],\"scatterpolar\":[{\"type\":\"scatterpolar\",\"marker\":{\"colorbar\":{\"outlinewidth\":0,\"ticks\":\"\"}}}],\"histogram\":[{\"marker\":{\"pattern\":{\"fillmode\":\"overlay\",\"size\":10,\"solidity\":0.2}},\"type\":\"histogram\"}],\"scattergl\":[{\"type\":\"scattergl\",\"marker\":{\"colorbar\":{\"outlinewidth\":0,\"ticks\":\"\"}}}],\"scatter3d\":[{\"type\":\"scatter3d\",\"line\":{\"colorbar\":{\"outlinewidth\":0,\"ticks\":\"\"}},\"marker\":{\"colorbar\":{\"outlinewidth\":0,\"ticks\":\"\"}}}],\"scattermapbox\":[{\"type\":\"scattermapbox\",\"marker\":{\"colorbar\":{\"outlinewidth\":0,\"ticks\":\"\"}}}],\"scatterternary\":[{\"type\":\"scatterternary\",\"marker\":{\"colorbar\":{\"outlinewidth\":0,\"ticks\":\"\"}}}],\"scattercarpet\":[{\"type\":\"scattercarpet\",\"marker\":{\"colorbar\":{\"outlinewidth\":0,\"ticks\":\"\"}}}],\"carpet\":[{\"aaxis\":{\"endlinecolor\":\"#2a3f5f\",\"gridcolor\":\"white\",\"linecolor\":\"white\",\"minorgridcolor\":\"white\",\"startlinecolor\":\"#2a3f5f\"},\"baxis\":{\"endlinecolor\":\"#2a3f5f\",\"gridcolor\":\"white\",\"linecolor\":\"white\",\"minorgridcolor\":\"white\",\"startlinecolor\":\"#2a3f5f\"},\"type\":\"carpet\"}],\"table\":[{\"cells\":{\"fill\":{\"color\":\"#EBF0F8\"},\"line\":{\"color\":\"white\"}},\"header\":{\"fill\":{\"color\":\"#C8D4E3\"},\"line\":{\"color\":\"white\"}},\"type\":\"table\"}],\"barpolar\":[{\"marker\":{\"line\":{\"color\":\"#E5ECF6\",\"width\":0.5},\"pattern\":{\"fillmode\":\"overlay\",\"size\":10,\"solidity\":0.2}},\"type\":\"barpolar\"}],\"pie\":[{\"automargin\":true,\"type\":\"pie\"}]},\"layout\":{\"autotypenumbers\":\"strict\",\"colorway\":[\"#636efa\",\"#EF553B\",\"#00cc96\",\"#ab63fa\",\"#FFA15A\",\"#19d3f3\",\"#FF6692\",\"#B6E880\",\"#FF97FF\",\"#FECB52\"],\"font\":{\"color\":\"#2a3f5f\"},\"hovermode\":\"closest\",\"hoverlabel\":{\"align\":\"left\"},\"paper_bgcolor\":\"white\",\"plot_bgcolor\":\"#E5ECF6\",\"polar\":{\"bgcolor\":\"#E5ECF6\",\"angularaxis\":{\"gridcolor\":\"white\",\"linecolor\":\"white\",\"ticks\":\"\"},\"radialaxis\":{\"gridcolor\":\"white\",\"linecolor\":\"white\",\"ticks\":\"\"}},\"ternary\":{\"bgcolor\":\"#E5ECF6\",\"aaxis\":{\"gridcolor\":\"white\",\"linecolor\":\"white\",\"ticks\":\"\"},\"baxis\":{\"gridcolor\":\"white\",\"linecolor\":\"white\",\"ticks\":\"\"},\"caxis\":{\"gridcolor\":\"white\",\"linecolor\":\"white\",\"ticks\":\"\"}},\"coloraxis\":{\"colorbar\":{\"outlinewidth\":0,\"ticks\":\"\"}},\"colorscale\":{\"sequential\":[[0.0,\"#0d0887\"],[0.1111111111111111,\"#46039f\"],[0.2222222222222222,\"#7201a8\"],[0.3333333333333333,\"#9c179e\"],[0.4444444444444444,\"#bd3786\"],[0.5555555555555556,\"#d8576b\"],[0.6666666666666666,\"#ed7953\"],[0.7777777777777778,\"#fb9f3a\"],[0.8888888888888888,\"#fdca26\"],[1.0,\"#f0f921\"]],\"sequentialminus\":[[0.0,\"#0d0887\"],[0.1111111111111111,\"#46039f\"],[0.2222222222222222,\"#7201a8\"],[0.3333333333333333,\"#9c179e\"],[0.4444444444444444,\"#bd3786\"],[0.5555555555555556,\"#d8576b\"],[0.6666666666666666,\"#ed7953\"],[0.7777777777777778,\"#fb9f3a\"],[0.8888888888888888,\"#fdca26\"],[1.0,\"#f0f921\"]],\"diverging\":[[0,\"#8e0152\"],[0.1,\"#c51b7d\"],[0.2,\"#de77ae\"],[0.3,\"#f1b6da\"],[0.4,\"#fde0ef\"],[0.5,\"#f7f7f7\"],[0.6,\"#e6f5d0\"],[0.7,\"#b8e186\"],[0.8,\"#7fbc41\"],[0.9,\"#4d9221\"],[1,\"#276419\"]]},\"xaxis\":{\"gridcolor\":\"white\",\"linecolor\":\"white\",\"ticks\":\"\",\"title\":{\"standoff\":15},\"zerolinecolor\":\"white\",\"automargin\":true,\"zerolinewidth\":2},\"yaxis\":{\"gridcolor\":\"white\",\"linecolor\":\"white\",\"ticks\":\"\",\"title\":{\"standoff\":15},\"zerolinecolor\":\"white\",\"automargin\":true,\"zerolinewidth\":2},\"scene\":{\"xaxis\":{\"backgroundcolor\":\"#E5ECF6\",\"gridcolor\":\"white\",\"linecolor\":\"white\",\"showbackground\":true,\"ticks\":\"\",\"zerolinecolor\":\"white\",\"gridwidth\":2},\"yaxis\":{\"backgroundcolor\":\"#E5ECF6\",\"gridcolor\":\"white\",\"linecolor\":\"white\",\"showbackground\":true,\"ticks\":\"\",\"zerolinecolor\":\"white\",\"gridwidth\":2},\"zaxis\":{\"backgroundcolor\":\"#E5ECF6\",\"gridcolor\":\"white\",\"linecolor\":\"white\",\"showbackground\":true,\"ticks\":\"\",\"zerolinecolor\":\"white\",\"gridwidth\":2}},\"shapedefaults\":{\"line\":{\"color\":\"#2a3f5f\"}},\"annotationdefaults\":{\"arrowcolor\":\"#2a3f5f\",\"arrowhead\":0,\"arrowwidth\":1},\"geo\":{\"bgcolor\":\"white\",\"landcolor\":\"#E5ECF6\",\"subunitcolor\":\"white\",\"showland\":true,\"showlakes\":true,\"lakecolor\":\"white\"},\"title\":{\"x\":0.05},\"mapbox\":{\"style\":\"light\"}}},\"xaxis\":{\"anchor\":\"y\",\"domain\":[0.0,1.0],\"title\":{\"text\":\"Trial\"}},\"yaxis\":{\"anchor\":\"x\",\"domain\":[0.0,1.0],\"title\":{\"text\":\"Score\"}},\"legend\":{\"title\":{\"text\":\"Algorithm\"},\"tracegroupgap\":0},\"margin\":{\"t\":60},\"hoverlabel\":{\"font\":{\"size\":8,\"family\":\"Rockwell\"},\"bgcolor\":\"white\"}},                        {\"responsive\": true}                    ).then(function(){\n",
       "                            \n",
       "var gd = document.getElementById('7137aeab-5bfa-4eeb-945f-ad2919a5fb30');\n",
       "var x = new MutationObserver(function (mutations, observer) {{\n",
       "        var display = window.getComputedStyle(gd).display;\n",
       "        if (!display || display === 'none') {{\n",
       "            console.log([gd, 'removed!']);\n",
       "            Plotly.purge(gd);\n",
       "            observer.disconnect();\n",
       "        }}\n",
       "}});\n",
       "\n",
       "// Listen for the removal of the full notebook cells\n",
       "var notebookContainer = gd.closest('#notebook-container');\n",
       "if (notebookContainer) {{\n",
       "    x.observe(notebookContainer, {childList: true});\n",
       "}}\n",
       "\n",
       "// Listen for the clearing of the current output cell\n",
       "var outputEl = gd.closest('.output');\n",
       "if (outputEl) {{\n",
       "    x.observe(outputEl, {childList: true});\n",
       "}}\n",
       "\n",
       "                        })                };                });            </script>        </div>"
      ]
     },
     "metadata": {},
     "output_type": "display_data"
    }
   ],
   "source": [
    "import plotly.express as px\n",
    "\n",
    "\n",
    "fig = px.scatter(df_optuna.loc[df_optuna.Score > 0], \n",
    "                 x=\"Trial\", \n",
    "                 y=\"Score\", \n",
    "                 color=\"Algorithm\",\n",
    "                 hover_data=['Parameters'])\n",
    "\n",
    "fig.update_layout(\n",
    "    hoverlabel=dict(\n",
    "        bgcolor=\"white\",\n",
    "        font_size=8,\n",
    "        font_family=\"Rockwell\"\n",
    "    )\n",
    ")\n",
    "\n",
    "fig.show()"
   ]
  }
 ],
 "metadata": {
  "kernelspec": {
   "display_name": "Python 3 (ipykernel)",
   "language": "python",
   "name": "python3"
  },
  "language_info": {
   "codemirror_mode": {
    "name": "ipython",
    "version": 3
   },
   "file_extension": ".py",
   "mimetype": "text/x-python",
   "name": "python",
   "nbconvert_exporter": "python",
   "pygments_lexer": "ipython3",
   "version": "3.11.5"
  }
 },
 "nbformat": 4,
 "nbformat_minor": 5
}
