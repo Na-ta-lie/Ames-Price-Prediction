{
 "cells": [
  {
   "cell_type": "code",
   "execution_count": 67,
   "id": "204ae1a4",
   "metadata": {},
   "outputs": [],
   "source": [
    "import numpy as np\n",
    "import pandas as pd\n",
    "import xgboost as xgb\n",
    "from xgboost import XGBRegressor\n",
    "import matplotlib.pyplot as plt\n",
    "from sklearn.model_selection import train_test_split\n",
    "from sklearn.metrics import balanced_accuracy_score, roc_auc_score, make_scorer\n",
    "from sklearn.model_selection import GridSearchCV\n",
    "from sklearn.metrics import confusion_matrix\n",
    "from sklearn.metrics import ConfusionMatrixDisplay\n",
    "from sklearn.preprocessing import OneHotEncoder, StandardScaler\n",
    "from sklearn.pipeline import Pipeline\n",
    "from sklearn import compose, pipeline\n",
    "from sklearn.preprocessing import OneHotEncoder\n",
    "from sklearn.compose import ColumnTransformer\n",
    "from sklearn.compose import make_column_selector as selector\n",
    "from sklearn.preprocessing import OneHotEncoder, StandardScaler, OrdinalEncoder\n",
    "from sklearn.pipeline import Pipeline\n",
    "from sklearn import compose, pipeline\n",
    "from sklearn.model_selection import KFold\n",
    "from typing import Optional\n",
    "from sklearn.model_selection import cross_val_score, KFold\n",
    "from sklearn.metrics import roc_auc_score, make_scorer, r2_score\n",
    "from pandas import DataFrame, Series\n",
    "import numpy as np\n",
    "kf = KFold(n_splits=5, shuffle=True, random_state=42)\n",
    "import xgboost as xgb\n",
    "from xgboost import XGBRegressor\n",
    "import optuna\n",
    "from optuna import Trial\n",
    "from optuna import create_study\n",
    "from sklearn import compose\n",
    "from sklearn.model_selection import GridSearchCV\n",
    "from sklearn.linear_model import Lasso, Ridge, LinearRegression\n",
    "from sklearn.ensemble import GradientBoostingRegressor, AdaBoostRegressor, RandomForestRegressor"
   ]
  },
  {
   "cell_type": "markdown",
   "id": "a500200b",
   "metadata": {},
   "source": [
    "### Instantiate function for each regression model "
   ]
  },
  {
   "cell_type": "code",
   "execution_count": 115,
   "id": "19581b5a",
   "metadata": {},
   "outputs": [],
   "source": [
    "def instantiate_ridge(trial : Trial) -> Ridge:\n",
    "    params = {\n",
    "        \"alpha\": trial.suggest_float(\"alpha\", 1e-4, 1000, log=True)\n",
    "    }\n",
    "\n",
    "    return Ridge(**params)\n",
    "\n",
    "def instantiate_lasso(trial : Trial) -> Lasso:\n",
    "    params = {\n",
    "        \"alpha\": trial.suggest_float(\"alpha\", 1e-4, 1000, log=True)\n",
    "    }\n",
    "\n",
    "    return Lasso(**params)\n",
    "\n",
    "def instantiate_xgb(trial : Trial) -> XGBRegressor:\n",
    "    params = {\n",
    "        \"objective\": \"reg:squarederror\",\n",
    "        \"n_estimators\": 1000,\n",
    "        \"verbosity\": 0,\n",
    "        \"learning_rate\": trial.suggest_float(\"learning_rate\", 1e-3, 0.1, log=True),\n",
    "        \"max_depth\": trial.suggest_int(\"max_depth\", 1, 10),\n",
    "        \"subsample\": trial.suggest_float(\"subsample\", 0.05, 1.0),\n",
    "        \"colsample_bytree\": trial.suggest_float(\"colsample_bytree\", 0.05, 1.0),\n",
    "        \"min_child_weight\": trial.suggest_int(\"min_child_weight\", 1, 20)\n",
    "    }\n",
    "\n",
    "    return XGBRegressor(**params)\n",
    "\n",
    "def instantiate_gbr(trial : Trial) -> GradientBoostingRegressor:\n",
    "    params = {\n",
    "    'n_estimators': trial.suggest_int('n_estimators', 100, 1000),\n",
    "    'learning_rate': trial.suggest_float('learning_rate', 1e-3, 0.1, log=True),\n",
    "    'max_depth': trial.suggest_float('max_depth', 1, 10),\n",
    "    'min_sample_split': trial.suggest_float('min_sample_split', 2, 10)\n",
    "    }\n",
    "    \n",
    "    return GradientBoostingRegressor(**params)\n",
    "\n",
    "# def instantiate_rf(trial : Trial) -> RandomForestRegressor:\n",
    "#     params = {\n",
    "#     'bootstrap':trial.suggest_categorical('bootstrap', [True, False]),\n",
    "#     'max_features':trial.suggest_categorical('max_features', None, 'sqrt'),\n",
    "#     'n_estimators': trial.suggest_int('n_estimators', 100, 1000),\n",
    "#     'max_depth': trial.suggest_float('max_depth', 1, 10),\n",
    "#     'min_samples_split': trial.suggest_float('min_sample_split', 2, 10),\n",
    "#     'min_samples_leaf': trial.suggest_float('min_sample_leaf', 2, 10)\n",
    "#     }\n",
    "    \n",
    "#     return RandomForestRegressor(**params)\n",
    "\n",
    "# def instantiate_ada(trial : Trial) -> AdaBoostRegressor:\n",
    "#     params = {\n",
    "#     'learning_rate': trial.suggest_float('learning_rate', 1e-3, 0.1, log=True),\n",
    "#     'loss': trial.suggest_categorical('loss',['linear', 'square', 'expoential']),\n",
    "#     'n_estimators': trial.suggest_int('n_estimators', 100, 1000)\n",
    "#     }\n",
    "    \n",
    "#     return AdaBoostRegressor(**params)\n",
    "\n"
   ]
  },
  {
   "cell_type": "markdown",
   "id": "c8c7e4b8",
   "metadata": {},
   "source": [
    "### Instantiate function for regression model selection"
   ]
  },
  {
   "cell_type": "code",
   "execution_count": 97,
   "id": "bc54c93b",
   "metadata": {},
   "outputs": [],
   "source": [
    "Classifier = (\n",
    "    Ridge |\n",
    "    Lasso |\n",
    "    XGBRegressor |\n",
    "    GradientBoostingRegressor\n",
    "    )\n",
    "\n",
    "def instantiate_learner(trial : Trial) -> Classifier:\n",
    "    algorithm = trial.suggest_categorical(\n",
    "    'algorithm', ['ridge', 'lasso', 'xgb'])\n",
    "    \n",
    "    if algorithm =='ridge':\n",
    "        model = instantiate_ridge(trial)\n",
    "    elif algorithm=='lasso':\n",
    "        model = instantiate_lasso(trial)\n",
    "    elif algorithm=='xgb':\n",
    "        model = instantiate_xgb(trial)\n",
    "    elif algorithm=='gbr':\n",
    "        model = instantiate_gbr(trial)\n",
    "        \n",
    "    return model"
   ]
  },
  {
   "cell_type": "markdown",
   "id": "a2f3dd33",
   "metadata": {},
   "source": [
    "### Instantiate functions for encoding categorical columns "
   ]
  },
  {
   "cell_type": "code",
   "execution_count": 98,
   "id": "1f0a4fbe",
   "metadata": {},
   "outputs": [],
   "source": [
    "from sklearn.preprocessing import OrdinalEncoder, OneHotEncoder\n",
    "#from category_encoders import WOEEncoder\n",
    "\n",
    "def instantiate_ordinal_encoder(trial: Trial)-> OrdinalEncoder:\n",
    "    params = {\n",
    "        'handle_unknown': \"use_encoded_value\", \n",
    "        'unknown_value': -1\n",
    "    }\n",
    "    \n",
    "    return OrdinalEncoder(**params)\n",
    "\n",
    "def instantiate_onehot_encoder(trial: Trial)-> OneHotEncoder:\n",
    "    params = {\n",
    "        'handle_unknown': 'ignore',\n",
    "        'drop': trial.suggest_categorical('drop', [None, 'first'])\n",
    "    }\n",
    "    \n",
    "    return OneHotEncoder(**params)\n",
    "    \n",
    "Encoder = (\n",
    "    OrdinalEncoder |\n",
    "    OneHotEncoder \n",
    "    )\n",
    "\n",
    "def instantiate_encoder (trial : Trial) -> Encoder:\n",
    "    encoding_method = trial.suggest_categorical(\n",
    "        'encoding_method', ['ordinal', 'onehot'])\n",
    "    if encoding_method =='ordinal':\n",
    "        encoder = instantiate_ordinal_encoder(trial)\n",
    "    elif encoding_method =='onehot':\n",
    "        encoder = instantiate_onehot_encoder(trial)\n",
    "    \n",
    "    return encoder"
   ]
  },
  {
   "cell_type": "markdown",
   "id": "d754e288",
   "metadata": {},
   "source": [
    "### Instantiate functions for encoding numerical columns "
   ]
  },
  {
   "cell_type": "code",
   "execution_count": 99,
   "id": "faac8ec0",
   "metadata": {},
   "outputs": [],
   "source": [
    "from sklearn.preprocessing import StandardScaler, MinMaxScaler, MaxAbsScaler, RobustScaler\n",
    "\n",
    "Scaler = (\n",
    "  StandardScaler |\n",
    "  MinMaxScaler |\n",
    "  MaxAbsScaler |\n",
    "  RobustScaler\n",
    ")\n",
    "\n",
    "def instantiate_scaler(trial : Trial) -> Scaler:\n",
    "    method = trial.suggest_categorical(\n",
    "    'scaling_method', ['standard', 'minmax', 'maxabs', 'robust']\n",
    "    )\n",
    "    if method=='standard':\n",
    "        scaler = StandardScaler()\n",
    "    elif method=='minmax':\n",
    "        scaler = MinMaxScaler()\n",
    "    elif method=='maxabs':\n",
    "        scaler = MaxAbsScaler()\n",
    "    elif method=='robust':\n",
    "        scaler = RobustScaler()\n",
    "        \n",
    "    return scaler"
   ]
  },
  {
   "cell_type": "markdown",
   "id": "d9dba9ed",
   "metadata": {},
   "source": [
    "### Instantiate function to scale and encode "
   ]
  },
  {
   "cell_type": "code",
   "execution_count": 100,
   "id": "89bbd6e9",
   "metadata": {},
   "outputs": [],
   "source": [
    "from sklearn.compose import ColumnTransformer\n",
    "from sklearn.pipeline import Pipeline\n",
    "\n",
    "def instantiate_processor(trial : Trial, \n",
    "                          numerical_columns : list[str], \n",
    "                          categorical_columns : list[str]) -> ColumnTransformer:\n",
    "    \n",
    "    numerical_pipeline = instantiate_scaler(trial)\n",
    "    categorical_pipeline = instantiate_encoder(trial)\n",
    "   # numerical_pipeline = StandardScaler()\n",
    "    #categorical_pipeline = OneHotEncoder(handle_unknown=\"ignore\", drop='first')\n",
    "    \n",
    "#     numerical_pipeline = instantiate_numerical_pipeline(trial)\n",
    "#     categorical_pipeline = instantiate_categorical_pipeline(trial)\n",
    "    \n",
    "    processor = ColumnTransformer([\n",
    "        ('numerical_pipeline', numerical_pipeline, numerical_columns),\n",
    "        ('categorical_pipeline', categorical_pipeline, categorical_columns)\n",
    "    ])\n",
    "    return processor\n",
    "\n",
    "def instantiate_model(trial : Trial, numerical_columns : list[str], \n",
    "                      categorical_columns : list[str]) -> Pipeline:\n",
    "    \n",
    "    processor = instantiate_processor(\n",
    "        trial, numerical_columns, categorical_columns\n",
    "    )\n",
    "    \n",
    "    learner = instantiate_learner(trial)\n",
    "    \n",
    "    model_pipe = Pipeline([\n",
    "    ('processor', processor),\n",
    "    ('model', learner)\n",
    "    ])\n",
    "    \n",
    "    model = compose.TransformedTargetRegressor(regressor= model_pipe,\n",
    "                                                func=np.log, inverse_func=np.exp)\n",
    "    \n",
    "    return model"
   ]
  },
  {
   "cell_type": "code",
   "execution_count": 101,
   "id": "2ff1933a",
   "metadata": {},
   "outputs": [],
   "source": [
    "def objective(trial : Trial, X : DataFrame,\n",
    "              y : np.ndarray | Series, \n",
    "              numerical_columns : Optional[list[str]]=None, \n",
    "              categorical_columns : Optional[list[str]]=None, \n",
    "              random_state : int=42) -> float:\n",
    "    \n",
    "    if numerical_columns is None:\n",
    "        numerical_columns = [\n",
    "            *X.select_dtypes(exclude=['object', 'category']).columns\n",
    "        ]\n",
    "    \n",
    "    if categorical_columns is None:\n",
    "        categorical_columns = [\n",
    "            *X.select_dtypes(include=['object', 'category']).columns\n",
    "        ]\n",
    "    \n",
    "    model = instantiate_model(trial, numerical_columns, categorical_columns)\n",
    "    kf = KFold(n_splits=5, shuffle=True, random_state=random_state)\n",
    "    r2 = make_scorer(r2_score)\n",
    "    scores = cross_val_score(model, X, y, scoring= r2, cv=kf)\n",
    "    \n",
    "    return np.min([np.mean(scores), np.median([scores])])"
   ]
  },
  {
   "cell_type": "code",
   "execution_count": 102,
   "id": "76fc8d92",
   "metadata": {},
   "outputs": [],
   "source": [
    "df = pd.read_csv('df_normal_quality.csv', index_col=0)\n",
    "y = df.SalePrice\n",
    "X = df.drop(['PID', 'SalePrice'], axis =1).copy()"
   ]
  },
  {
   "cell_type": "code",
   "execution_count": 103,
   "id": "8f9de25a",
   "metadata": {},
   "outputs": [
    {
     "name": "stderr",
     "output_type": "stream",
     "text": [
      "[I 2024-05-08 12:58:21,889] A new study created in memory with name: optimization\n"
     ]
    }
   ],
   "source": [
    "from optuna import create_study\n",
    "\n",
    "study = create_study(study_name='optimization', direction='maximize')"
   ]
  },
  {
   "cell_type": "code",
   "execution_count": 141,
   "id": "1e6558c4",
   "metadata": {},
   "outputs": [
    {
     "name": "stderr",
     "output_type": "stream",
     "text": [
      "[I 2024-05-08 13:43:09,915] Trial 55 finished with value: 0.947573193447426 and parameters: {'scaling_method': 'standard', 'encoding_method': 'onehot', 'drop': None, 'algorithm': 'ridge', 'alpha': 1.0133772705820585}. Best is trial 51 with value: 0.950811959316562.\n",
      "[I 2024-05-08 13:43:20,590] Trial 56 finished with value: -6.327682977814066 and parameters: {'scaling_method': 'robust', 'encoding_method': 'onehot', 'drop': None, 'algorithm': 'xgb', 'learning_rate': 0.0011496999812009986, 'max_depth': 3, 'subsample': 0.7420615881700867, 'colsample_bytree': 0.7045382582491888, 'min_child_weight': 11}. Best is trial 51 with value: 0.950811959316562.\n",
      "[I 2024-05-08 13:43:21,088] Trial 57 finished with value: 0.9341610573023228 and parameters: {'scaling_method': 'robust', 'encoding_method': 'ordinal', 'algorithm': 'lasso', 'alpha': 0.008369726019144512}. Best is trial 51 with value: 0.950811959316562.\n",
      "[I 2024-05-08 13:43:21,593] Trial 58 finished with value: -0.029441307066881618 and parameters: {'scaling_method': 'robust', 'encoding_method': 'onehot', 'drop': None, 'algorithm': 'lasso', 'alpha': 195.24588015195522}. Best is trial 51 with value: 0.950811959316562.\n",
      "[I 2024-05-08 13:43:22,111] Trial 59 finished with value: 0.9380456479754902 and parameters: {'scaling_method': 'robust', 'encoding_method': 'onehot', 'drop': None, 'algorithm': 'lasso', 'alpha': 0.006283873635450572}. Best is trial 51 with value: 0.950811959316562.\n",
      "[I 2024-05-08 13:43:22,471] Trial 60 finished with value: -0.029441307066881618 and parameters: {'scaling_method': 'standard', 'encoding_method': 'onehot', 'drop': None, 'algorithm': 'lasso', 'alpha': 0.38653996487693354}. Best is trial 51 with value: 0.950811959316562.\n",
      "[I 2024-05-08 13:43:23,037] Trial 61 finished with value: 0.9433711951952072 and parameters: {'scaling_method': 'robust', 'encoding_method': 'onehot', 'drop': None, 'algorithm': 'lasso', 'alpha': 0.0021512166131408632}. Best is trial 51 with value: 0.950811959316562.\n",
      "[I 2024-05-08 13:43:24,200] Trial 62 finished with value: 0.9498936248601701 and parameters: {'scaling_method': 'robust', 'encoding_method': 'onehot', 'drop': None, 'algorithm': 'lasso', 'alpha': 0.00010116006565219149}. Best is trial 51 with value: 0.950811959316562.\n",
      "[I 2024-05-08 13:43:24,991] Trial 63 finished with value: 0.9508113769301838 and parameters: {'scaling_method': 'robust', 'encoding_method': 'onehot', 'drop': None, 'algorithm': 'lasso', 'alpha': 0.0003150581858267838}. Best is trial 51 with value: 0.950811959316562.\n",
      "[I 2024-05-08 13:43:25,667] Trial 64 finished with value: 0.9495565183806493 and parameters: {'scaling_method': 'robust', 'encoding_method': 'onehot', 'drop': None, 'algorithm': 'lasso', 'alpha': 0.000796073346852762}. Best is trial 51 with value: 0.950811959316562.\n",
      "[I 2024-05-08 13:43:26,186] Trial 65 finished with value: 0.9458052012581909 and parameters: {'scaling_method': 'robust', 'encoding_method': 'onehot', 'drop': None, 'algorithm': 'ridge', 'alpha': 0.0001773255961377654}. Best is trial 51 with value: 0.950811959316562.\n",
      "[I 2024-05-08 13:43:26,687] Trial 66 finished with value: -0.029441307066881618 and parameters: {'scaling_method': 'robust', 'encoding_method': 'onehot', 'drop': None, 'algorithm': 'lasso', 'alpha': 964.4934055229339}. Best is trial 51 with value: 0.950811959316562.\n",
      "[I 2024-05-08 13:43:38,649] Trial 67 finished with value: 0.8300204367552391 and parameters: {'scaling_method': 'robust', 'encoding_method': 'ordinal', 'algorithm': 'xgb', 'learning_rate': 0.005374757759410157, 'max_depth': 10, 'subsample': 0.7891668676973672, 'colsample_bytree': 0.06818427881427508, 'min_child_weight': 7}. Best is trial 51 with value: 0.950811959316562.\n",
      "[I 2024-05-08 13:43:39,102] Trial 68 finished with value: 0.9103822524506774 and parameters: {'scaling_method': 'minmax', 'encoding_method': 'onehot', 'drop': None, 'algorithm': 'lasso', 'alpha': 0.003617819527630585}. Best is trial 51 with value: 0.950811959316562.\n",
      "[I 2024-05-08 13:43:39,780] Trial 69 finished with value: 0.9506046241832967 and parameters: {'scaling_method': 'robust', 'encoding_method': 'onehot', 'drop': None, 'algorithm': 'lasso', 'alpha': 0.00046554374202749377}. Best is trial 51 with value: 0.950811959316562.\n",
      "[I 2024-05-08 13:43:40,216] Trial 70 finished with value: 0.9323807661130938 and parameters: {'scaling_method': 'maxabs', 'encoding_method': 'onehot', 'drop': None, 'algorithm': 'lasso', 'alpha': 0.0016767215245388537}. Best is trial 51 with value: 0.950811959316562.\n",
      "[I 2024-05-08 13:43:41,046] Trial 71 finished with value: 0.9508114285312181 and parameters: {'scaling_method': 'robust', 'encoding_method': 'onehot', 'drop': None, 'algorithm': 'lasso', 'alpha': 0.0003153897472625446}. Best is trial 51 with value: 0.950811959316562.\n",
      "[I 2024-05-08 13:43:42,107] Trial 72 finished with value: 0.950060053276457 and parameters: {'scaling_method': 'robust', 'encoding_method': 'onehot', 'drop': None, 'algorithm': 'lasso', 'alpha': 0.00011724991268803097}. Best is trial 51 with value: 0.950811959316562.\n",
      "[I 2024-05-08 13:43:42,906] Trial 73 finished with value: 0.9508116419882597 and parameters: {'scaling_method': 'robust', 'encoding_method': 'onehot', 'drop': None, 'algorithm': 'lasso', 'alpha': 0.0003105363072827594}. Best is trial 51 with value: 0.950811959316562.\n",
      "[I 2024-05-08 13:43:43,649] Trial 74 finished with value: 0.9505292529535249 and parameters: {'scaling_method': 'robust', 'encoding_method': 'onehot', 'drop': None, 'algorithm': 'lasso', 'alpha': 0.0004981836305211971}. Best is trial 51 with value: 0.950811959316562.\n",
      "[I 2024-05-08 13:43:44,128] Trial 75 finished with value: -0.029441307066881618 and parameters: {'scaling_method': 'robust', 'encoding_method': 'onehot', 'drop': None, 'algorithm': 'lasso', 'alpha': 5.743540595880093}. Best is trial 51 with value: 0.950811959316562.\n",
      "[I 2024-05-08 13:43:44,759] Trial 76 finished with value: 0.9480305168417172 and parameters: {'scaling_method': 'robust', 'encoding_method': 'onehot', 'drop': None, 'algorithm': 'lasso', 'alpha': 0.0011267958385333561}. Best is trial 51 with value: 0.950811959316562.\n",
      "[I 2024-05-08 13:43:45,617] Trial 77 finished with value: 0.9500962528493886 and parameters: {'scaling_method': 'standard', 'encoding_method': 'onehot', 'drop': None, 'algorithm': 'lasso', 'alpha': 0.00017813586979887447}. Best is trial 51 with value: 0.950811959316562.\n",
      "C:\\Users\\Natal\\anaconda3\\Lib\\site-packages\\sklearn\\preprocessing\\_encoders.py:227: UserWarning:\n",
      "\n",
      "Found unknown categories in columns [3, 10] during transform. These unknown categories will be encoded as all zeros\n",
      "\n",
      "C:\\Users\\Natal\\anaconda3\\Lib\\site-packages\\sklearn\\preprocessing\\_encoders.py:227: UserWarning:\n",
      "\n",
      "Found unknown categories in columns [3, 9, 14] during transform. These unknown categories will be encoded as all zeros\n",
      "\n",
      "C:\\Users\\Natal\\anaconda3\\Lib\\site-packages\\sklearn\\preprocessing\\_encoders.py:227: UserWarning:\n",
      "\n",
      "Found unknown categories in columns [5, 21] during transform. These unknown categories will be encoded as all zeros\n",
      "\n",
      "C:\\Users\\Natal\\anaconda3\\Lib\\site-packages\\sklearn\\preprocessing\\_encoders.py:227: UserWarning:\n",
      "\n",
      "Found unknown categories in columns [9, 21] during transform. These unknown categories will be encoded as all zeros\n",
      "\n",
      "C:\\Users\\Natal\\anaconda3\\Lib\\site-packages\\sklearn\\preprocessing\\_encoders.py:227: UserWarning:\n",
      "\n",
      "Found unknown categories in columns [0] during transform. These unknown categories will be encoded as all zeros\n",
      "\n",
      "[I 2024-05-08 13:43:46,354] Trial 78 finished with value: 0.9499943107077977 and parameters: {'scaling_method': 'robust', 'encoding_method': 'onehot', 'drop': 'first', 'algorithm': 'lasso', 'alpha': 0.0006395259532284809}. Best is trial 51 with value: 0.950811959316562.\n",
      "[I 2024-05-08 13:43:47,144] Trial 79 finished with value: 0.9508112089799935 and parameters: {'scaling_method': 'robust', 'encoding_method': 'onehot', 'drop': None, 'algorithm': 'lasso', 'alpha': 0.00031199791550654644}. Best is trial 51 with value: 0.950811959316562.\n",
      "[I 2024-05-08 13:43:47,616] Trial 80 finished with value: 0.940747365297646 and parameters: {'scaling_method': 'robust', 'encoding_method': 'ordinal', 'algorithm': 'ridge', 'alpha': 0.0001011591694705354}. Best is trial 51 with value: 0.950811959316562.\n"
     ]
    },
    {
     "name": "stderr",
     "output_type": "stream",
     "text": [
      "[I 2024-05-08 13:43:48,383] Trial 81 finished with value: 0.9508072074077194 and parameters: {'scaling_method': 'robust', 'encoding_method': 'onehot', 'drop': None, 'algorithm': 'lasso', 'alpha': 0.0003337967069676376}. Best is trial 51 with value: 0.950811959316562.\n",
      "[I 2024-05-08 13:43:49,257] Trial 82 finished with value: 0.9506023960185445 and parameters: {'scaling_method': 'robust', 'encoding_method': 'onehot', 'drop': None, 'algorithm': 'lasso', 'alpha': 0.0002255778359260152}. Best is trial 51 with value: 0.950811959316562.\n",
      "[I 2024-05-08 13:43:49,941] Trial 83 finished with value: 0.9505171596101875 and parameters: {'scaling_method': 'robust', 'encoding_method': 'onehot', 'drop': None, 'algorithm': 'lasso', 'alpha': 0.0005030246518150047}. Best is trial 51 with value: 0.950811959316562.\n",
      "[I 2024-05-08 13:43:50,552] Trial 84 finished with value: 0.9469192590709231 and parameters: {'scaling_method': 'robust', 'encoding_method': 'onehot', 'drop': None, 'algorithm': 'lasso', 'alpha': 0.0013353616377821567}. Best is trial 51 with value: 0.950811959316562.\n",
      "[I 2024-05-08 13:43:51,456] Trial 85 finished with value: 0.9507706716129063 and parameters: {'scaling_method': 'robust', 'encoding_method': 'onehot', 'drop': None, 'algorithm': 'lasso', 'alpha': 0.00026725002303204043}. Best is trial 51 with value: 0.950811959316562.\n",
      "[I 2024-05-08 13:44:03,949] Trial 86 finished with value: 0.9476571858847828 and parameters: {'scaling_method': 'robust', 'encoding_method': 'onehot', 'drop': None, 'algorithm': 'xgb', 'learning_rate': 0.042011839076276515, 'max_depth': 3, 'subsample': 0.6252054664915885, 'colsample_bytree': 0.28520426230804785, 'min_child_weight': 16}. Best is trial 51 with value: 0.950811959316562.\n",
      "[I 2024-05-08 13:44:04,485] Trial 87 finished with value: 0.9450971238437436 and parameters: {'scaling_method': 'minmax', 'encoding_method': 'onehot', 'drop': None, 'algorithm': 'lasso', 'alpha': 0.0007895445009070894}. Best is trial 51 with value: 0.950811959316562.\n",
      "C:\\Users\\Natal\\anaconda3\\Lib\\site-packages\\sklearn\\preprocessing\\_encoders.py:227: UserWarning:\n",
      "\n",
      "Found unknown categories in columns [3, 10] during transform. These unknown categories will be encoded as all zeros\n",
      "\n",
      "C:\\Users\\Natal\\anaconda3\\Lib\\site-packages\\sklearn\\preprocessing\\_encoders.py:227: UserWarning:\n",
      "\n",
      "Found unknown categories in columns [3, 9, 14] during transform. These unknown categories will be encoded as all zeros\n",
      "\n",
      "C:\\Users\\Natal\\anaconda3\\Lib\\site-packages\\sklearn\\preprocessing\\_encoders.py:227: UserWarning:\n",
      "\n",
      "Found unknown categories in columns [5, 21] during transform. These unknown categories will be encoded as all zeros\n",
      "\n",
      "C:\\Users\\Natal\\anaconda3\\Lib\\site-packages\\sklearn\\preprocessing\\_encoders.py:227: UserWarning:\n",
      "\n",
      "Found unknown categories in columns [9, 21] during transform. These unknown categories will be encoded as all zeros\n",
      "\n",
      "C:\\Users\\Natal\\anaconda3\\Lib\\site-packages\\sklearn\\preprocessing\\_encoders.py:227: UserWarning:\n",
      "\n",
      "Found unknown categories in columns [0] during transform. These unknown categories will be encoded as all zeros\n",
      "\n",
      "[I 2024-05-08 13:44:05,100] Trial 88 finished with value: 0.9431607642387334 and parameters: {'scaling_method': 'robust', 'encoding_method': 'onehot', 'drop': 'first', 'algorithm': 'lasso', 'alpha': 0.002075846690319634}. Best is trial 51 with value: 0.950811959316562.\n",
      "[I 2024-05-08 13:44:06,516] Trial 89 finished with value: 0.9480706725721543 and parameters: {'scaling_method': 'maxabs', 'encoding_method': 'onehot', 'drop': None, 'algorithm': 'lasso', 'alpha': 0.00015235581434518025}. Best is trial 51 with value: 0.950811959316562.\n",
      "[I 2024-05-08 13:44:07,241] Trial 90 finished with value: 0.9507948532511283 and parameters: {'scaling_method': 'robust', 'encoding_method': 'onehot', 'drop': None, 'algorithm': 'lasso', 'alpha': 0.00034987167286273664}. Best is trial 51 with value: 0.950811959316562.\n",
      "[I 2024-05-08 13:44:07,971] Trial 91 finished with value: 0.9508119000419519 and parameters: {'scaling_method': 'robust', 'encoding_method': 'onehot', 'drop': None, 'algorithm': 'lasso', 'alpha': 0.00030326807311848716}. Best is trial 51 with value: 0.950811959316562.\n",
      "[I 2024-05-08 13:44:08,832] Trial 92 finished with value: 0.9506187563465387 and parameters: {'scaling_method': 'robust', 'encoding_method': 'onehot', 'drop': None, 'algorithm': 'lasso', 'alpha': 0.00022930826932454688}. Best is trial 51 with value: 0.950811959316562.\n",
      "[I 2024-05-08 13:44:09,476] Trial 93 finished with value: 0.9502959504726892 and parameters: {'scaling_method': 'robust', 'encoding_method': 'onehot', 'drop': None, 'algorithm': 'lasso', 'alpha': 0.0005909313862726847}. Best is trial 51 with value: 0.950811959316562.\n",
      "[I 2024-05-08 13:44:10,193] Trial 94 finished with value: 0.9507384013798781 and parameters: {'scaling_method': 'robust', 'encoding_method': 'onehot', 'drop': None, 'algorithm': 'lasso', 'alpha': 0.00038978764162643807}. Best is trial 51 with value: 0.950811959316562.\n",
      "[I 2024-05-08 13:44:10,781] Trial 95 finished with value: 0.9491472986790781 and parameters: {'scaling_method': 'robust', 'encoding_method': 'onehot', 'drop': None, 'algorithm': 'lasso', 'alpha': 0.0008809548757084889}. Best is trial 51 with value: 0.950811959316562.\n",
      "[I 2024-05-08 13:44:11,756] Trial 96 finished with value: 0.9502718748327279 and parameters: {'scaling_method': 'robust', 'encoding_method': 'onehot', 'drop': None, 'algorithm': 'lasso', 'alpha': 0.00015557358519143968}. Best is trial 51 with value: 0.950811959316562.\n",
      "[I 2024-05-08 13:44:12,579] Trial 97 finished with value: 0.9507818409269749 and parameters: {'scaling_method': 'robust', 'encoding_method': 'onehot', 'drop': None, 'algorithm': 'lasso', 'alpha': 0.0002717394664699768}. Best is trial 51 with value: 0.950811959316562.\n",
      "[I 2024-05-08 13:44:12,946] Trial 98 finished with value: 0.9414764896873014 and parameters: {'scaling_method': 'standard', 'encoding_method': 'ordinal', 'algorithm': 'lasso', 'alpha': 0.0012134083510276022}. Best is trial 51 with value: 0.950811959316562.\n",
      "C:\\Users\\Natal\\anaconda3\\Lib\\site-packages\\sklearn\\preprocessing\\_encoders.py:227: UserWarning:\n",
      "\n",
      "Found unknown categories in columns [3, 10] during transform. These unknown categories will be encoded as all zeros\n",
      "\n",
      "C:\\Users\\Natal\\anaconda3\\Lib\\site-packages\\sklearn\\preprocessing\\_encoders.py:227: UserWarning:\n",
      "\n",
      "Found unknown categories in columns [3, 9, 14] during transform. These unknown categories will be encoded as all zeros\n",
      "\n",
      "C:\\Users\\Natal\\anaconda3\\Lib\\site-packages\\sklearn\\preprocessing\\_encoders.py:227: UserWarning:\n",
      "\n",
      "Found unknown categories in columns [5, 21] during transform. These unknown categories will be encoded as all zeros\n",
      "\n",
      "C:\\Users\\Natal\\anaconda3\\Lib\\site-packages\\sklearn\\preprocessing\\_encoders.py:227: UserWarning:\n",
      "\n",
      "Found unknown categories in columns [9, 21] during transform. These unknown categories will be encoded as all zeros\n",
      "\n",
      "C:\\Users\\Natal\\anaconda3\\Lib\\site-packages\\sklearn\\preprocessing\\_encoders.py:227: UserWarning:\n",
      "\n",
      "Found unknown categories in columns [0] during transform. These unknown categories will be encoded as all zeros\n",
      "\n",
      "[I 2024-05-08 13:44:13,498] Trial 99 finished with value: 0.945774526844119 and parameters: {'scaling_method': 'robust', 'encoding_method': 'onehot', 'drop': 'first', 'algorithm': 'ridge', 'alpha': 0.00044884087537592446}. Best is trial 51 with value: 0.950811959316562.\n",
      "[I 2024-05-08 13:44:28,128] Trial 100 finished with value: 0.90747721720215 and parameters: {'scaling_method': 'robust', 'encoding_method': 'onehot', 'drop': None, 'algorithm': 'xgb', 'learning_rate': 0.012319554286975298, 'max_depth': 6, 'subsample': 0.06391402892997844, 'colsample_bytree': 0.6501022411783263, 'min_child_weight': 11}. Best is trial 51 with value: 0.950811959316562.\n",
      "[I 2024-05-08 13:44:28,947] Trial 101 finished with value: 0.9507829201076283 and parameters: {'scaling_method': 'robust', 'encoding_method': 'onehot', 'drop': None, 'algorithm': 'lasso', 'alpha': 0.00027229287241532817}. Best is trial 51 with value: 0.950811959316562.\n",
      "[I 2024-05-08 13:44:30,000] Trial 102 finished with value: 0.9502660083051133 and parameters: {'scaling_method': 'robust', 'encoding_method': 'onehot', 'drop': None, 'algorithm': 'lasso', 'alpha': 0.00015450815285190014}. Best is trial 51 with value: 0.950811959316562.\n"
     ]
    },
    {
     "name": "stderr",
     "output_type": "stream",
     "text": [
      "[I 2024-05-08 13:44:30,662] Trial 103 finished with value: 0.9501425999641967 and parameters: {'scaling_method': 'robust', 'encoding_method': 'onehot', 'drop': None, 'algorithm': 'lasso', 'alpha': 0.0006439112772038698}. Best is trial 51 with value: 0.950811959316562.\n",
      "[I 2024-05-08 13:44:31,491] Trial 104 finished with value: 0.9508117860857238 and parameters: {'scaling_method': 'robust', 'encoding_method': 'onehot', 'drop': None, 'algorithm': 'lasso', 'alpha': 0.00030170892992476044}. Best is trial 51 with value: 0.950811959316562.\n",
      "[I 2024-05-08 13:44:32,211] Trial 105 finished with value: 0.9507945219334403 and parameters: {'scaling_method': 'robust', 'encoding_method': 'onehot', 'drop': None, 'algorithm': 'lasso', 'alpha': 0.0003502287711302046}. Best is trial 51 with value: 0.950811959316562.\n",
      "[I 2024-05-08 13:44:33,079] Trial 106 finished with value: 0.950607610609782 and parameters: {'scaling_method': 'robust', 'encoding_method': 'onehot', 'drop': None, 'algorithm': 'lasso', 'alpha': 0.00022675334628774257}. Best is trial 51 with value: 0.950811959316562.\n",
      "[I 2024-05-08 13:44:34,421] Trial 107 finished with value: 0.9504569182459275 and parameters: {'scaling_method': 'minmax', 'encoding_method': 'onehot', 'drop': None, 'algorithm': 'lasso', 'alpha': 0.00013071642218823398}. Best is trial 51 with value: 0.950811959316562.\n",
      "[I 2024-05-08 13:44:35,016] Trial 108 finished with value: 0.949071250849163 and parameters: {'scaling_method': 'robust', 'encoding_method': 'onehot', 'drop': None, 'algorithm': 'lasso', 'alpha': 0.0008967436328086743}. Best is trial 51 with value: 0.950811959316562.\n",
      "[I 2024-05-08 13:44:35,386] Trial 109 finished with value: -0.029441307066881618 and parameters: {'scaling_method': 'maxabs', 'encoding_method': 'onehot', 'drop': None, 'algorithm': 'lasso', 'alpha': 2.313502968163194}. Best is trial 51 with value: 0.950811959316562.\n",
      "[I 2024-05-08 13:44:35,997] Trial 110 finished with value: 0.9502841222599901 and parameters: {'scaling_method': 'robust', 'encoding_method': 'onehot', 'drop': None, 'algorithm': 'lasso', 'alpha': 0.0005953115561384026}. Best is trial 51 with value: 0.950811959316562.\n",
      "[I 2024-05-08 13:44:36,774] Trial 111 finished with value: 0.9507804146869094 and parameters: {'scaling_method': 'robust', 'encoding_method': 'onehot', 'drop': None, 'algorithm': 'lasso', 'alpha': 0.0003608302686845977}. Best is trial 51 with value: 0.950811959316562.\n",
      "[I 2024-05-08 13:44:37,735] Trial 112 finished with value: 0.9503483127032146 and parameters: {'scaling_method': 'robust', 'encoding_method': 'onehot', 'drop': None, 'algorithm': 'lasso', 'alpha': 0.0001691362354491138}. Best is trial 51 with value: 0.950811959316562.\n",
      "[I 2024-05-08 13:44:38,561] Trial 113 finished with value: 0.9507813415867922 and parameters: {'scaling_method': 'robust', 'encoding_method': 'onehot', 'drop': None, 'algorithm': 'lasso', 'alpha': 0.00027147947429151555}. Best is trial 51 with value: 0.950811959316562.\n",
      "[I 2024-05-08 13:44:39,256] Trial 114 finished with value: 0.9505705371975299 and parameters: {'scaling_method': 'robust', 'encoding_method': 'onehot', 'drop': None, 'algorithm': 'lasso', 'alpha': 0.0004805861059688421}. Best is trial 51 with value: 0.950811959316562.\n",
      "[I 2024-05-08 13:44:39,830] Trial 115 finished with value: 0.9440929417926356 and parameters: {'scaling_method': 'robust', 'encoding_method': 'onehot', 'drop': None, 'algorithm': 'lasso', 'alpha': 0.0019335927767094824}. Best is trial 51 with value: 0.950811959316562.\n",
      "[I 2024-05-08 13:44:40,426] Trial 116 finished with value: 0.9417034448467605 and parameters: {'scaling_method': 'robust', 'encoding_method': 'ordinal', 'algorithm': 'lasso', 'alpha': 0.00019746859224527294}. Best is trial 51 with value: 0.950811959316562.\n",
      "[I 2024-05-08 13:44:41,056] Trial 117 finished with value: 0.949951881685759 and parameters: {'scaling_method': 'robust', 'encoding_method': 'onehot', 'drop': None, 'algorithm': 'lasso', 'alpha': 0.000698420738365052}. Best is trial 51 with value: 0.950811959316562.\n",
      "[I 2024-05-08 13:44:41,588] Trial 118 finished with value: 0.9458048449499848 and parameters: {'scaling_method': 'robust', 'encoding_method': 'onehot', 'drop': None, 'algorithm': 'ridge', 'alpha': 0.00010165322410627661}. Best is trial 51 with value: 0.950811959316562.\n",
      "[I 2024-05-08 13:44:41,976] Trial 119 finished with value: -0.029441307066881618 and parameters: {'scaling_method': 'standard', 'encoding_method': 'onehot', 'drop': None, 'algorithm': 'lasso', 'alpha': 18.2942427148708}. Best is trial 51 with value: 0.950811959316562.\n",
      "C:\\Users\\Natal\\anaconda3\\Lib\\site-packages\\sklearn\\preprocessing\\_encoders.py:227: UserWarning:\n",
      "\n",
      "Found unknown categories in columns [3, 10] during transform. These unknown categories will be encoded as all zeros\n",
      "\n",
      "C:\\Users\\Natal\\anaconda3\\Lib\\site-packages\\sklearn\\preprocessing\\_encoders.py:227: UserWarning:\n",
      "\n",
      "Found unknown categories in columns [3, 9, 14] during transform. These unknown categories will be encoded as all zeros\n",
      "\n",
      "C:\\Users\\Natal\\anaconda3\\Lib\\site-packages\\sklearn\\preprocessing\\_encoders.py:227: UserWarning:\n",
      "\n",
      "Found unknown categories in columns [5, 21] during transform. These unknown categories will be encoded as all zeros\n",
      "\n",
      "C:\\Users\\Natal\\anaconda3\\Lib\\site-packages\\sklearn\\preprocessing\\_encoders.py:227: UserWarning:\n",
      "\n",
      "Found unknown categories in columns [9, 21] during transform. These unknown categories will be encoded as all zeros\n",
      "\n",
      "C:\\Users\\Natal\\anaconda3\\Lib\\site-packages\\sklearn\\preprocessing\\_encoders.py:227: UserWarning:\n",
      "\n",
      "Found unknown categories in columns [0] during transform. These unknown categories will be encoded as all zeros\n",
      "\n",
      "[I 2024-05-08 13:44:42,583] Trial 120 finished with value: 0.9474805058129502 and parameters: {'scaling_method': 'robust', 'encoding_method': 'onehot', 'drop': 'first', 'algorithm': 'lasso', 'alpha': 0.0010634680684097131}. Best is trial 51 with value: 0.950811959316562.\n",
      "[I 2024-05-08 13:44:43,331] Trial 121 finished with value: 0.9508094919320198 and parameters: {'scaling_method': 'robust', 'encoding_method': 'onehot', 'drop': None, 'algorithm': 'lasso', 'alpha': 0.0003285393699359404}. Best is trial 51 with value: 0.950811959316562.\n",
      "[I 2024-05-08 13:44:43,992] Trial 122 finished with value: 0.9506005519344012 and parameters: {'scaling_method': 'robust', 'encoding_method': 'onehot', 'drop': None, 'algorithm': 'lasso', 'alpha': 0.00046748197667440553}. Best is trial 51 with value: 0.950811959316562.\n",
      "[I 2024-05-08 13:44:44,946] Trial 123 finished with value: 0.9504636565217176 and parameters: {'scaling_method': 'robust', 'encoding_method': 'onehot', 'drop': None, 'algorithm': 'lasso', 'alpha': 0.000194292235841533}. Best is trial 51 with value: 0.950811959316562.\n",
      "[I 2024-05-08 13:44:45,780] Trial 124 finished with value: 0.9508108939712235 and parameters: {'scaling_method': 'robust', 'encoding_method': 'onehot', 'drop': None, 'algorithm': 'lasso', 'alpha': 0.0002995960762695171}. Best is trial 51 with value: 0.950811959316562.\n",
      "[I 2024-05-08 13:44:46,609] Trial 125 finished with value: 0.9508048982461936 and parameters: {'scaling_method': 'robust', 'encoding_method': 'onehot', 'drop': None, 'algorithm': 'lasso', 'alpha': 0.00028864956839294977}. Best is trial 51 with value: 0.950811959316562.\n",
      "[I 2024-05-08 13:45:03,621] Trial 126 finished with value: -2.2393421759034013 and parameters: {'scaling_method': 'robust', 'encoding_method': 'onehot', 'drop': None, 'algorithm': 'xgb', 'learning_rate': 0.0024875260986247888, 'max_depth': 6, 'subsample': 0.8220845736277211, 'colsample_bytree': 0.9827402075018735, 'min_child_weight': 5}. Best is trial 51 with value: 0.950811959316562.\n",
      "[I 2024-05-08 13:45:04,819] Trial 127 finished with value: 0.9501626679399784 and parameters: {'scaling_method': 'robust', 'encoding_method': 'onehot', 'drop': None, 'algorithm': 'lasso', 'alpha': 0.00013481425124343068}. Best is trial 51 with value: 0.950811959316562.\n",
      "[I 2024-05-08 13:45:05,573] Trial 128 finished with value: 0.9506820130133187 and parameters: {'scaling_method': 'robust', 'encoding_method': 'onehot', 'drop': None, 'algorithm': 'lasso', 'alpha': 0.00042427495606269227}. Best is trial 51 with value: 0.950811959316562.\n",
      "[I 2024-05-08 13:45:05,977] Trial 129 finished with value: 0.1930595442899199 and parameters: {'scaling_method': 'minmax', 'encoding_method': 'onehot', 'drop': None, 'algorithm': 'lasso', 'alpha': 0.054236348586695786}. Best is trial 51 with value: 0.950811959316562.\n"
     ]
    },
    {
     "name": "stderr",
     "output_type": "stream",
     "text": [
      "[I 2024-05-08 13:45:06,616] Trial 130 finished with value: 0.9497274232948139 and parameters: {'scaling_method': 'robust', 'encoding_method': 'onehot', 'drop': None, 'algorithm': 'lasso', 'alpha': 0.0007554395215299302}. Best is trial 51 with value: 0.950811959316562.\n",
      "[I 2024-05-08 13:45:07,536] Trial 131 finished with value: 0.9505636994883288 and parameters: {'scaling_method': 'robust', 'encoding_method': 'onehot', 'drop': None, 'algorithm': 'lasso', 'alpha': 0.00021688334622544975}. Best is trial 51 with value: 0.950811959316562.\n",
      "[I 2024-05-08 13:45:08,290] Trial 132 finished with value: 0.950812416973192 and parameters: {'scaling_method': 'robust', 'encoding_method': 'onehot', 'drop': None, 'algorithm': 'lasso', 'alpha': 0.0003079818441118096}. Best is trial 132 with value: 0.950812416973192.\n",
      "[I 2024-05-08 13:45:08,877] Trial 133 finished with value: 0.9504708293544606 and parameters: {'scaling_method': 'robust', 'encoding_method': 'onehot', 'drop': None, 'algorithm': 'lasso', 'alpha': 0.0005205268979370701}. Best is trial 132 with value: 0.950812416973192.\n",
      "[I 2024-05-08 13:45:09,503] Trial 134 finished with value: 0.9508114472581694 and parameters: {'scaling_method': 'robust', 'encoding_method': 'onehot', 'drop': None, 'algorithm': 'lasso', 'alpha': 0.000321233391055342}. Best is trial 132 with value: 0.950812416973192.\n",
      "[I 2024-05-08 13:45:10,303] Trial 135 finished with value: 0.9501356091008446 and parameters: {'scaling_method': 'robust', 'encoding_method': 'onehot', 'drop': None, 'algorithm': 'lasso', 'alpha': 0.00012983228933867273}. Best is trial 132 with value: 0.950812416973192.\n",
      "[I 2024-05-08 13:45:10,661] Trial 136 finished with value: 0.9355199194888486 and parameters: {'scaling_method': 'maxabs', 'encoding_method': 'onehot', 'drop': None, 'algorithm': 'lasso', 'alpha': 0.0013702251727166109}. Best is trial 132 with value: 0.950812416973192.\n",
      "[I 2024-05-08 13:45:10,991] Trial 137 finished with value: -0.0064104451308620415 and parameters: {'scaling_method': 'robust', 'encoding_method': 'ordinal', 'algorithm': 'lasso', 'alpha': 0.40347492113613986}. Best is trial 132 with value: 0.950812416973192.\n",
      "[I 2024-05-08 13:45:11,537] Trial 138 finished with value: 0.9507407254653326 and parameters: {'scaling_method': 'robust', 'encoding_method': 'onehot', 'drop': None, 'algorithm': 'lasso', 'alpha': 0.0003881766300579921}. Best is trial 132 with value: 0.950812416973192.\n",
      "[I 2024-05-08 13:45:12,179] Trial 139 finished with value: 0.9505324505358315 and parameters: {'scaling_method': 'robust', 'encoding_method': 'onehot', 'drop': None, 'algorithm': 'lasso', 'alpha': 0.00021052124043026706}. Best is trial 132 with value: 0.950812416973192.\n",
      "C:\\Users\\Natal\\anaconda3\\Lib\\site-packages\\sklearn\\preprocessing\\_encoders.py:227: UserWarning:\n",
      "\n",
      "Found unknown categories in columns [3, 10] during transform. These unknown categories will be encoded as all zeros\n",
      "\n",
      "C:\\Users\\Natal\\anaconda3\\Lib\\site-packages\\sklearn\\preprocessing\\_encoders.py:227: UserWarning:\n",
      "\n",
      "Found unknown categories in columns [3, 9, 14] during transform. These unknown categories will be encoded as all zeros\n",
      "\n",
      "C:\\Users\\Natal\\anaconda3\\Lib\\site-packages\\sklearn\\preprocessing\\_encoders.py:227: UserWarning:\n",
      "\n",
      "Found unknown categories in columns [5, 21] during transform. These unknown categories will be encoded as all zeros\n",
      "\n",
      "C:\\Users\\Natal\\anaconda3\\Lib\\site-packages\\sklearn\\preprocessing\\_encoders.py:227: UserWarning:\n",
      "\n",
      "Found unknown categories in columns [9, 21] during transform. These unknown categories will be encoded as all zeros\n",
      "\n",
      "C:\\Users\\Natal\\anaconda3\\Lib\\site-packages\\sklearn\\preprocessing\\_encoders.py:227: UserWarning:\n",
      "\n",
      "Found unknown categories in columns [0] during transform. These unknown categories will be encoded as all zeros\n",
      "\n",
      "[I 2024-05-08 13:45:12,667] Trial 140 finished with value: 0.950153065028751 and parameters: {'scaling_method': 'robust', 'encoding_method': 'onehot', 'drop': 'first', 'algorithm': 'lasso', 'alpha': 0.0005854332246185821}. Best is trial 132 with value: 0.950812416973192.\n",
      "[I 2024-05-08 13:45:13,256] Trial 141 finished with value: 0.9508045657138917 and parameters: {'scaling_method': 'robust', 'encoding_method': 'onehot', 'drop': None, 'algorithm': 'lasso', 'alpha': 0.0002883110559091069}. Best is trial 132 with value: 0.950812416973192.\n",
      "[I 2024-05-08 13:45:13,826] Trial 142 finished with value: 0.9508077997817533 and parameters: {'scaling_method': 'robust', 'encoding_method': 'onehot', 'drop': None, 'algorithm': 'lasso', 'alpha': 0.0002917831610957592}. Best is trial 132 with value: 0.950812416973192.\n",
      "[I 2024-05-08 13:45:14,510] Trial 143 finished with value: 0.9504553386695385 and parameters: {'scaling_method': 'robust', 'encoding_method': 'onehot', 'drop': None, 'algorithm': 'lasso', 'alpha': 0.0001923189141121045}. Best is trial 132 with value: 0.950812416973192.\n",
      "[I 2024-05-08 13:45:15,056] Trial 144 finished with value: 0.9506802128446106 and parameters: {'scaling_method': 'robust', 'encoding_method': 'onehot', 'drop': None, 'algorithm': 'lasso', 'alpha': 0.00042525028246413553}. Best is trial 132 with value: 0.950812416973192.\n",
      "[I 2024-05-08 13:45:15,546] Trial 145 finished with value: 0.9491350100174571 and parameters: {'scaling_method': 'robust', 'encoding_method': 'onehot', 'drop': None, 'algorithm': 'lasso', 'alpha': 0.0008835152051562829}. Best is trial 132 with value: 0.950812416973192.\n",
      "[I 2024-05-08 13:45:15,963] Trial 146 finished with value: 0.9458049737793018 and parameters: {'scaling_method': 'robust', 'encoding_method': 'onehot', 'drop': None, 'algorithm': 'ridge', 'alpha': 0.0001290111583572933}. Best is trial 132 with value: 0.950812416973192.\n",
      "[I 2024-05-08 13:45:16,401] Trial 147 finished with value: 0.950267336351518 and parameters: {'scaling_method': 'standard', 'encoding_method': 'onehot', 'drop': None, 'algorithm': 'lasso', 'alpha': 0.0003318480324615756}. Best is trial 132 with value: 0.950812416973192.\n",
      "[I 2024-05-08 13:45:32,777] Trial 148 finished with value: 0.9420223150119276 and parameters: {'scaling_method': 'robust', 'encoding_method': 'onehot', 'drop': None, 'algorithm': 'xgb', 'learning_rate': 0.03718443447410741, 'max_depth': 2, 'subsample': 0.38396553719454346, 'colsample_bytree': 0.3344214984516075, 'min_child_weight': 14}. Best is trial 132 with value: 0.950812416973192.\n",
      "[I 2024-05-08 13:45:33,456] Trial 149 finished with value: 0.9500079694845521 and parameters: {'scaling_method': 'robust', 'encoding_method': 'onehot', 'drop': None, 'algorithm': 'lasso', 'alpha': 0.0006829097073869038}. Best is trial 132 with value: 0.950812416973192.\n",
      "[I 2024-05-08 13:45:34,356] Trial 150 finished with value: 0.9506492680458626 and parameters: {'scaling_method': 'robust', 'encoding_method': 'onehot', 'drop': None, 'algorithm': 'lasso', 'alpha': 0.00023620832328824027}. Best is trial 132 with value: 0.950812416973192.\n",
      "[I 2024-05-08 13:45:35,079] Trial 151 finished with value: 0.9507589365150299 and parameters: {'scaling_method': 'robust', 'encoding_method': 'onehot', 'drop': None, 'algorithm': 'lasso', 'alpha': 0.00037619403781294965}. Best is trial 132 with value: 0.950812416973192.\n",
      "[I 2024-05-08 13:45:36,050] Trial 152 finished with value: 0.9503693199815965 and parameters: {'scaling_method': 'robust', 'encoding_method': 'onehot', 'drop': None, 'algorithm': 'lasso', 'alpha': 0.00017320232839986837}. Best is trial 132 with value: 0.950812416973192.\n",
      "[I 2024-05-08 13:45:36,866] Trial 153 finished with value: 0.9507656776807412 and parameters: {'scaling_method': 'robust', 'encoding_method': 'onehot', 'drop': None, 'algorithm': 'lasso', 'alpha': 0.0002656201267398765}. Best is trial 132 with value: 0.950812416973192.\n",
      "[I 2024-05-08 13:45:37,586] Trial 154 finished with value: 0.9505412955833494 and parameters: {'scaling_method': 'robust', 'encoding_method': 'onehot', 'drop': None, 'algorithm': 'lasso', 'alpha': 0.0004931286741346699}. Best is trial 132 with value: 0.950812416973192.\n",
      "[I 2024-05-08 13:45:38,650] Trial 155 finished with value: 0.9502393914421633 and parameters: {'scaling_method': 'robust', 'encoding_method': 'onehot', 'drop': None, 'algorithm': 'lasso', 'alpha': 0.0001494570098931062}. Best is trial 132 with value: 0.950812416973192.\n"
     ]
    },
    {
     "name": "stderr",
     "output_type": "stream",
     "text": [
      "[I 2024-05-08 13:45:39,277] Trial 156 finished with value: 0.9503190758390293 and parameters: {'scaling_method': 'robust', 'encoding_method': 'onehot', 'drop': None, 'algorithm': 'lasso', 'alpha': 0.000582278957455787}. Best is trial 132 with value: 0.950812416973192.\n",
      "[I 2024-05-08 13:45:40,026] Trial 157 finished with value: 0.950802749890612 and parameters: {'scaling_method': 'robust', 'encoding_method': 'onehot', 'drop': None, 'algorithm': 'lasso', 'alpha': 0.0003405683386790038}. Best is trial 132 with value: 0.950812416973192.\n",
      "[I 2024-05-08 13:45:40,605] Trial 158 finished with value: 0.9417167197580749 and parameters: {'scaling_method': 'robust', 'encoding_method': 'ordinal', 'algorithm': 'lasso', 'alpha': 0.000220507502390194}. Best is trial 132 with value: 0.950812416973192.\n",
      "[I 2024-05-08 13:45:41,113] Trial 159 finished with value: 0.9440245807940079 and parameters: {'scaling_method': 'minmax', 'encoding_method': 'onehot', 'drop': None, 'algorithm': 'lasso', 'alpha': 0.0009025923405862341}. Best is trial 132 with value: 0.950812416973192.\n",
      "[I 2024-05-08 13:45:42,778] Trial 160 finished with value: 0.9476816411321751 and parameters: {'scaling_method': 'maxabs', 'encoding_method': 'onehot', 'drop': None, 'algorithm': 'lasso', 'alpha': 0.00011166313591072693}. Best is trial 132 with value: 0.950812416973192.\n",
      "[I 2024-05-08 13:45:43,563] Trial 161 finished with value: 0.9508111248579812 and parameters: {'scaling_method': 'robust', 'encoding_method': 'onehot', 'drop': None, 'algorithm': 'lasso', 'alpha': 0.00029786231712063924}. Best is trial 132 with value: 0.950812416973192.\n",
      "[I 2024-05-08 13:45:44,251] Trial 162 finished with value: 0.9507015253985541 and parameters: {'scaling_method': 'robust', 'encoding_method': 'onehot', 'drop': None, 'algorithm': 'lasso', 'alpha': 0.00041390908178866526}. Best is trial 132 with value: 0.950812416973192.\n",
      "[I 2024-05-08 13:45:45,085] Trial 163 finished with value: 0.9507827768438911 and parameters: {'scaling_method': 'robust', 'encoding_method': 'onehot', 'drop': None, 'algorithm': 'lasso', 'alpha': 0.00027221902764448997}. Best is trial 132 with value: 0.950812416973192.\n",
      "[I 2024-05-08 13:45:46,097] Trial 164 finished with value: 0.9503392095915638 and parameters: {'scaling_method': 'robust', 'encoding_method': 'onehot', 'drop': None, 'algorithm': 'lasso', 'alpha': 0.00016749006837892333}. Best is trial 132 with value: 0.950812416973192.\n",
      "[I 2024-05-08 13:45:46,769] Trial 165 finished with value: 0.9504599857829727 and parameters: {'scaling_method': 'robust', 'encoding_method': 'onehot', 'drop': None, 'algorithm': 'lasso', 'alpha': 0.0005244926998292304}. Best is trial 132 with value: 0.950812416973192.\n",
      "[I 2024-05-08 13:45:47,552] Trial 166 finished with value: 0.9508112218641875 and parameters: {'scaling_method': 'robust', 'encoding_method': 'onehot', 'drop': None, 'algorithm': 'lasso', 'alpha': 0.00029859801709452606}. Best is trial 132 with value: 0.950812416973192.\n",
      "[I 2024-05-08 13:45:48,286] Trial 167 finished with value: 0.9508108024917918 and parameters: {'scaling_method': 'robust', 'encoding_method': 'onehot', 'drop': None, 'algorithm': 'lasso', 'alpha': 0.0003135625162515059}. Best is trial 132 with value: 0.950812416973192.\n",
      "C:\\Users\\Natal\\anaconda3\\Lib\\site-packages\\sklearn\\preprocessing\\_encoders.py:227: UserWarning:\n",
      "\n",
      "Found unknown categories in columns [3, 10] during transform. These unknown categories will be encoded as all zeros\n",
      "\n",
      "C:\\Users\\Natal\\anaconda3\\Lib\\site-packages\\sklearn\\preprocessing\\_encoders.py:227: UserWarning:\n",
      "\n",
      "Found unknown categories in columns [3, 9, 14] during transform. These unknown categories will be encoded as all zeros\n",
      "\n",
      "C:\\Users\\Natal\\anaconda3\\Lib\\site-packages\\sklearn\\preprocessing\\_encoders.py:227: UserWarning:\n",
      "\n",
      "Found unknown categories in columns [5, 21] during transform. These unknown categories will be encoded as all zeros\n",
      "\n",
      "C:\\Users\\Natal\\anaconda3\\Lib\\site-packages\\sklearn\\preprocessing\\_encoders.py:227: UserWarning:\n",
      "\n",
      "Found unknown categories in columns [9, 21] during transform. These unknown categories will be encoded as all zeros\n",
      "\n",
      "C:\\Users\\Natal\\anaconda3\\Lib\\site-packages\\sklearn\\preprocessing\\_encoders.py:227: UserWarning:\n",
      "\n",
      "Found unknown categories in columns [0] during transform. These unknown categories will be encoded as all zeros\n",
      "\n",
      "[I 2024-05-08 13:45:48,896] Trial 168 finished with value: 0.9497683042770302 and parameters: {'scaling_method': 'robust', 'encoding_method': 'onehot', 'drop': 'first', 'algorithm': 'lasso', 'alpha': 0.0007023668535770765}. Best is trial 132 with value: 0.950812416973192.\n",
      "[I 2024-05-08 13:45:49,761] Trial 169 finished with value: 0.9505160736102173 and parameters: {'scaling_method': 'robust', 'encoding_method': 'onehot', 'drop': None, 'algorithm': 'lasso', 'alpha': 0.00020671641843785307}. Best is trial 132 with value: 0.950812416973192.\n",
      "[I 2024-05-08 13:45:50,263] Trial 170 finished with value: 0.9458062114793405 and parameters: {'scaling_method': 'robust', 'encoding_method': 'onehot', 'drop': None, 'algorithm': 'ridge', 'alpha': 0.00039200281700278717}. Best is trial 132 with value: 0.950812416973192.\n",
      "[I 2024-05-08 13:45:51,061] Trial 171 finished with value: 0.9507793622257928 and parameters: {'scaling_method': 'robust', 'encoding_method': 'onehot', 'drop': None, 'algorithm': 'lasso', 'alpha': 0.0002704800474285288}. Best is trial 132 with value: 0.950812416973192.\n",
      "[I 2024-05-08 13:45:51,790] Trial 172 finished with value: 0.9508120273673739 and parameters: {'scaling_method': 'robust', 'encoding_method': 'onehot', 'drop': None, 'algorithm': 'lasso', 'alpha': 0.00030397547135909325}. Best is trial 132 with value: 0.950812416973192.\n",
      "[I 2024-05-08 13:45:52,433] Trial 173 finished with value: 0.9505752363765423 and parameters: {'scaling_method': 'robust', 'encoding_method': 'onehot', 'drop': None, 'algorithm': 'lasso', 'alpha': 0.00047856468974652184}. Best is trial 132 with value: 0.950812416973192.\n",
      "[I 2024-05-08 13:45:53,434] Trial 174 finished with value: 0.9503869926467031 and parameters: {'scaling_method': 'robust', 'encoding_method': 'onehot', 'drop': None, 'algorithm': 'lasso', 'alpha': 0.00017741543300882776}. Best is trial 132 with value: 0.950812416973192.\n",
      "[I 2024-05-08 13:45:54,286] Trial 175 finished with value: 0.9507350749993708 and parameters: {'scaling_method': 'robust', 'encoding_method': 'onehot', 'drop': None, 'algorithm': 'lasso', 'alpha': 0.0002562279624133847}. Best is trial 132 with value: 0.950812416973192.\n",
      "[I 2024-05-08 13:45:55,112] Trial 176 finished with value: 0.9508018403508076 and parameters: {'scaling_method': 'robust', 'encoding_method': 'onehot', 'drop': None, 'algorithm': 'lasso', 'alpha': 0.00034186273182459654}. Best is trial 132 with value: 0.950812416973192.\n",
      "[I 2024-05-08 13:45:55,836] Trial 177 finished with value: 0.9501899887454736 and parameters: {'scaling_method': 'robust', 'encoding_method': 'onehot', 'drop': None, 'algorithm': 'lasso', 'alpha': 0.0006289713517947472}. Best is trial 132 with value: 0.950812416973192.\n",
      "[I 2024-05-08 13:45:56,249] Trial 178 finished with value: 0.924277314239674 and parameters: {'scaling_method': 'standard', 'encoding_method': 'onehot', 'drop': None, 'algorithm': 'lasso', 'alpha': 0.019878461289483194}. Best is trial 132 with value: 0.950812416973192.\n",
      "[I 2024-05-08 13:46:07,926] Trial 179 finished with value: -0.05860026508851135 and parameters: {'scaling_method': 'robust', 'encoding_method': 'onehot', 'drop': None, 'algorithm': 'xgb', 'learning_rate': 0.003496659755639175, 'max_depth': 5, 'subsample': 0.18486894456441988, 'colsample_bytree': 0.6223861682928513, 'min_child_weight': 17}. Best is trial 132 with value: 0.950812416973192.\n",
      "[I 2024-05-08 13:46:09,030] Trial 180 finished with value: 0.9501948663601093 and parameters: {'scaling_method': 'robust', 'encoding_method': 'onehot', 'drop': None, 'algorithm': 'lasso', 'alpha': 0.00014069913750647898}. Best is trial 132 with value: 0.950812416973192.\n",
      "[I 2024-05-08 13:46:09,805] Trial 181 finished with value: 0.9507980341548095 and parameters: {'scaling_method': 'robust', 'encoding_method': 'onehot', 'drop': None, 'algorithm': 'lasso', 'alpha': 0.00034643967474042253}. Best is trial 132 with value: 0.950812416973192.\n"
     ]
    },
    {
     "name": "stderr",
     "output_type": "stream",
     "text": [
      "[I 2024-05-08 13:46:10,705] Trial 182 finished with value: 0.9506878313422911 and parameters: {'scaling_method': 'robust', 'encoding_method': 'onehot', 'drop': None, 'algorithm': 'lasso', 'alpha': 0.00024527641491545177}. Best is trial 132 with value: 0.950812416973192.\n",
      "[I 2024-05-08 13:46:11,445] Trial 183 finished with value: 0.9506048078374774 and parameters: {'scaling_method': 'robust', 'encoding_method': 'onehot', 'drop': None, 'algorithm': 'lasso', 'alpha': 0.00046537198512391236}. Best is trial 132 with value: 0.950812416973192.\n",
      "[I 2024-05-08 13:46:12,262] Trial 184 finished with value: 0.9508115897577711 and parameters: {'scaling_method': 'robust', 'encoding_method': 'onehot', 'drop': None, 'algorithm': 'lasso', 'alpha': 0.00031656424022910573}. Best is trial 132 with value: 0.950812416973192.\n",
      "[I 2024-05-08 13:46:13,255] Trial 185 finished with value: 0.9504071557629356 and parameters: {'scaling_method': 'robust', 'encoding_method': 'onehot', 'drop': None, 'algorithm': 'lasso', 'alpha': 0.00018153247939725923}. Best is trial 132 with value: 0.950812416973192.\n",
      "[I 2024-05-08 13:46:14,513] Trial 186 finished with value: 0.9498957322102651 and parameters: {'scaling_method': 'robust', 'encoding_method': 'onehot', 'drop': None, 'algorithm': 'lasso', 'alpha': 0.00010134442402305992}. Best is trial 132 with value: 0.950812416973192.\n",
      "[I 2024-05-08 13:46:15,211] Trial 187 finished with value: 0.9507012867305574 and parameters: {'scaling_method': 'robust', 'encoding_method': 'onehot', 'drop': None, 'algorithm': 'lasso', 'alpha': 0.00041406358515895823}. Best is trial 132 with value: 0.950812416973192.\n",
      "[I 2024-05-08 13:46:15,706] Trial 188 finished with value: 0.9418870347699857 and parameters: {'scaling_method': 'robust', 'encoding_method': 'ordinal', 'algorithm': 'lasso', 'alpha': 0.0010664901952047855}. Best is trial 132 with value: 0.950812416973192.\n",
      "[I 2024-05-08 13:46:16,625] Trial 189 finished with value: 0.9506080768169098 and parameters: {'scaling_method': 'robust', 'encoding_method': 'onehot', 'drop': None, 'algorithm': 'lasso', 'alpha': 0.00022685905821651878}. Best is trial 132 with value: 0.950812416973192.\n",
      "[I 2024-05-08 13:46:17,271] Trial 190 finished with value: 0.9502838797753993 and parameters: {'scaling_method': 'robust', 'encoding_method': 'onehot', 'drop': None, 'algorithm': 'lasso', 'alpha': 0.000595403577198966}. Best is trial 132 with value: 0.950812416973192.\n",
      "[I 2024-05-08 13:46:18,095] Trial 191 finished with value: 0.950811341943349 and parameters: {'scaling_method': 'robust', 'encoding_method': 'onehot', 'drop': None, 'algorithm': 'lasso', 'alpha': 0.00031724885951656654}. Best is trial 132 with value: 0.950812416973192.\n",
      "[I 2024-05-08 13:46:18,922] Trial 192 finished with value: 0.9508099815939641 and parameters: {'scaling_method': 'robust', 'encoding_method': 'onehot', 'drop': None, 'algorithm': 'lasso', 'alpha': 0.0002954245417613439}. Best is trial 132 with value: 0.950812416973192.\n",
      "[I 2024-05-08 13:46:19,647] Trial 193 finished with value: 0.9507004577913293 and parameters: {'scaling_method': 'robust', 'encoding_method': 'onehot', 'drop': None, 'algorithm': 'lasso', 'alpha': 0.00041460749660835995}. Best is trial 132 with value: 0.950812416973192.\n",
      "[I 2024-05-08 13:46:20,525] Trial 194 finished with value: 0.9505271601239145 and parameters: {'scaling_method': 'robust', 'encoding_method': 'onehot', 'drop': None, 'algorithm': 'lasso', 'alpha': 0.00020931753045733183}. Best is trial 132 with value: 0.950812416973192.\n",
      "[I 2024-05-08 13:46:21,345] Trial 195 finished with value: 0.950811415860979 and parameters: {'scaling_method': 'robust', 'encoding_method': 'onehot', 'drop': None, 'algorithm': 'lasso', 'alpha': 0.00031530656875134404}. Best is trial 132 with value: 0.950812416973192.\n",
      "[I 2024-05-08 13:46:21,898] Trial 196 finished with value: 0.9458995241539266 and parameters: {'scaling_method': 'minmax', 'encoding_method': 'onehot', 'drop': None, 'algorithm': 'lasso', 'alpha': 0.0007187107820308425}. Best is trial 132 with value: 0.950812416973192.\n",
      "C:\\Users\\Natal\\anaconda3\\Lib\\site-packages\\sklearn\\preprocessing\\_encoders.py:227: UserWarning:\n",
      "\n",
      "Found unknown categories in columns [3, 10] during transform. These unknown categories will be encoded as all zeros\n",
      "\n",
      "C:\\Users\\Natal\\anaconda3\\Lib\\site-packages\\sklearn\\preprocessing\\_encoders.py:227: UserWarning:\n",
      "\n",
      "Found unknown categories in columns [3, 9, 14] during transform. These unknown categories will be encoded as all zeros\n",
      "\n",
      "C:\\Users\\Natal\\anaconda3\\Lib\\site-packages\\sklearn\\preprocessing\\_encoders.py:227: UserWarning:\n",
      "\n",
      "Found unknown categories in columns [5, 21] during transform. These unknown categories will be encoded as all zeros\n",
      "\n",
      "C:\\Users\\Natal\\anaconda3\\Lib\\site-packages\\sklearn\\preprocessing\\_encoders.py:227: UserWarning:\n",
      "\n",
      "Found unknown categories in columns [9, 21] during transform. These unknown categories will be encoded as all zeros\n",
      "\n",
      "C:\\Users\\Natal\\anaconda3\\Lib\\site-packages\\sklearn\\preprocessing\\_encoders.py:227: UserWarning:\n",
      "\n",
      "Found unknown categories in columns [0] during transform. These unknown categories will be encoded as all zeros\n",
      "\n",
      "[I 2024-05-08 13:46:22,908] Trial 197 finished with value: 0.9502002837666301 and parameters: {'scaling_method': 'robust', 'encoding_method': 'onehot', 'drop': 'first', 'algorithm': 'lasso', 'alpha': 0.00015397204645177363}. Best is trial 132 with value: 0.950812416973192.\n",
      "[I 2024-05-08 13:46:23,695] Trial 198 finished with value: 0.9508042036684945 and parameters: {'scaling_method': 'robust', 'encoding_method': 'onehot', 'drop': None, 'algorithm': 'lasso', 'alpha': 0.0003383647694481542}. Best is trial 132 with value: 0.950812416973192.\n",
      "[I 2024-05-08 13:46:24,391] Trial 199 finished with value: 0.9504149356695114 and parameters: {'scaling_method': 'robust', 'encoding_method': 'onehot', 'drop': None, 'algorithm': 'lasso', 'alpha': 0.000542700614436932}. Best is trial 132 with value: 0.950812416973192.\n",
      "[I 2024-05-08 13:46:25,636] Trial 200 finished with value: 0.9482098268941701 and parameters: {'scaling_method': 'maxabs', 'encoding_method': 'onehot', 'drop': None, 'algorithm': 'lasso', 'alpha': 0.00023275279471016996}. Best is trial 132 with value: 0.950812416973192.\n",
      "[I 2024-05-08 13:46:26,130] Trial 201 finished with value: -0.029441307066881618 and parameters: {'scaling_method': 'robust', 'encoding_method': 'onehot', 'drop': None, 'algorithm': 'lasso', 'alpha': 108.06017830179621}. Best is trial 132 with value: 0.950812416973192.\n",
      "[I 2024-05-08 13:46:26,992] Trial 202 finished with value: 0.9508120013300168 and parameters: {'scaling_method': 'robust', 'encoding_method': 'onehot', 'drop': None, 'algorithm': 'lasso', 'alpha': 0.0003024753059048708}. Best is trial 132 with value: 0.950812416973192.\n",
      "[I 2024-05-08 13:46:27,822] Trial 203 finished with value: 0.9507399481922469 and parameters: {'scaling_method': 'robust', 'encoding_method': 'onehot', 'drop': None, 'algorithm': 'lasso', 'alpha': 0.0003886680113715942}. Best is trial 132 with value: 0.950812416973192.\n",
      "[I 2024-05-08 13:46:28,708] Trial 204 finished with value: 0.9507691045659794 and parameters: {'scaling_method': 'robust', 'encoding_method': 'onehot', 'drop': None, 'algorithm': 'lasso', 'alpha': 0.000266725794413769}. Best is trial 132 with value: 0.950812416973192.\n",
      "[I 2024-05-08 13:46:29,720] Trial 205 finished with value: 0.9503878909624431 and parameters: {'scaling_method': 'robust', 'encoding_method': 'onehot', 'drop': None, 'algorithm': 'lasso', 'alpha': 0.0001776151704204696}. Best is trial 132 with value: 0.950812416973192.\n",
      "[I 2024-05-08 13:46:30,425] Trial 206 finished with value: 0.9504944460137887 and parameters: {'scaling_method': 'robust', 'encoding_method': 'onehot', 'drop': None, 'algorithm': 'lasso', 'alpha': 0.0005116432984154765}. Best is trial 132 with value: 0.950812416973192.\n",
      "[I 2024-05-08 13:46:31,230] Trial 207 finished with value: 0.9508104142766498 and parameters: {'scaling_method': 'robust', 'encoding_method': 'onehot', 'drop': None, 'algorithm': 'lasso', 'alpha': 0.00032651121295170285}. Best is trial 132 with value: 0.950812416973192.\n",
      "[I 2024-05-08 13:46:31,745] Trial 208 finished with value: 0.9458053781801115 and parameters: {'scaling_method': 'robust', 'encoding_method': 'onehot', 'drop': None, 'algorithm': 'ridge', 'alpha': 0.00021490880898416493}. Best is trial 132 with value: 0.950812416973192.\n"
     ]
    },
    {
     "name": "stderr",
     "output_type": "stream",
     "text": [
      "[I 2024-05-08 13:46:32,488] Trial 209 finished with value: 0.9506613894695928 and parameters: {'scaling_method': 'robust', 'encoding_method': 'onehot', 'drop': None, 'algorithm': 'lasso', 'alpha': 0.0004356475589120512}. Best is trial 132 with value: 0.950812416973192.\n",
      "[I 2024-05-08 13:46:33,136] Trial 210 finished with value: 0.9495152137275642 and parameters: {'scaling_method': 'robust', 'encoding_method': 'onehot', 'drop': None, 'algorithm': 'lasso', 'alpha': 0.0008049742690751011}. Best is trial 132 with value: 0.950812416973192.\n",
      "[I 2024-05-08 13:46:33,986] Trial 211 finished with value: 0.950808015005929 and parameters: {'scaling_method': 'robust', 'encoding_method': 'onehot', 'drop': None, 'algorithm': 'lasso', 'alpha': 0.00029210188082808605}. Best is trial 132 with value: 0.950812416973192.\n",
      "[I 2024-05-08 13:46:34,804] Trial 212 finished with value: 0.9508114792960454 and parameters: {'scaling_method': 'robust', 'encoding_method': 'onehot', 'drop': None, 'algorithm': 'lasso', 'alpha': 0.00031573873831435885}. Best is trial 132 with value: 0.950812416973192.\n",
      "[I 2024-05-08 13:46:35,537] Trial 213 finished with value: 0.9507811134087921 and parameters: {'scaling_method': 'robust', 'encoding_method': 'onehot', 'drop': None, 'algorithm': 'lasso', 'alpha': 0.0003604813778091688}. Best is trial 132 with value: 0.950812416973192.\n",
      "[I 2024-05-08 13:46:36,418] Trial 214 finished with value: 0.950758873310942 and parameters: {'scaling_method': 'robust', 'encoding_method': 'onehot', 'drop': None, 'algorithm': 'lasso', 'alpha': 0.0002635011725863285}. Best is trial 132 with value: 0.950812416973192.\n",
      "[I 2024-05-08 13:46:37,479] Trial 215 finished with value: 0.9503228923295891 and parameters: {'scaling_method': 'robust', 'encoding_method': 'onehot', 'drop': None, 'algorithm': 'lasso', 'alpha': 0.000164489992576501}. Best is trial 132 with value: 0.950812416973192.\n",
      "[I 2024-05-08 13:46:38,186] Trial 216 finished with value: 0.9505765785083324 and parameters: {'scaling_method': 'robust', 'encoding_method': 'onehot', 'drop': None, 'algorithm': 'lasso', 'alpha': 0.0004779973437558763}. Best is trial 132 with value: 0.950812416973192.\n",
      "[I 2024-05-08 13:47:15,262] Trial 217 finished with value: 0.9360635968463997 and parameters: {'scaling_method': 'standard', 'encoding_method': 'onehot', 'drop': None, 'algorithm': 'xgb', 'learning_rate': 0.007559731267568437, 'max_depth': 10, 'subsample': 0.5700512745658628, 'colsample_bytree': 0.8520501860349661, 'min_child_weight': 13}. Best is trial 132 with value: 0.950812416973192.\n",
      "[I 2024-05-08 13:47:16,231] Trial 218 finished with value: 0.9505372225001503 and parameters: {'scaling_method': 'robust', 'encoding_method': 'onehot', 'drop': None, 'algorithm': 'lasso', 'alpha': 0.0002115086491064817}. Best is trial 132 with value: 0.950812416973192.\n",
      "[I 2024-05-08 13:47:17,325] Trial 219 finished with value: 0.9501676506383279 and parameters: {'scaling_method': 'robust', 'encoding_method': 'onehot', 'drop': None, 'algorithm': 'lasso', 'alpha': 0.00013573983815141357}. Best is trial 132 with value: 0.950812416973192.\n",
      "[I 2024-05-08 13:47:17,949] Trial 220 finished with value: 0.9417523195543931 and parameters: {'scaling_method': 'robust', 'encoding_method': 'ordinal', 'algorithm': 'lasso', 'alpha': 0.0003136616894785704}. Best is trial 132 with value: 0.950812416973192.\n",
      "[I 2024-05-08 13:47:18,756] Trial 221 finished with value: 0.950811470702224 and parameters: {'scaling_method': 'robust', 'encoding_method': 'onehot', 'drop': None, 'algorithm': 'lasso', 'alpha': 0.0002992049980973908}. Best is trial 132 with value: 0.950812416973192.\n",
      "[I 2024-05-08 13:47:19,490] Trial 222 finished with value: 0.9507403550082516 and parameters: {'scaling_method': 'robust', 'encoding_method': 'onehot', 'drop': None, 'algorithm': 'lasso', 'alpha': 0.00038841122233926556}. Best is trial 132 with value: 0.950812416973192.\n",
      "[I 2024-05-08 13:47:20,386] Trial 223 finished with value: 0.9506843118021416 and parameters: {'scaling_method': 'robust', 'encoding_method': 'onehot', 'drop': None, 'algorithm': 'lasso', 'alpha': 0.00024439910572922476}. Best is trial 132 with value: 0.950812416973192.\n",
      "[I 2024-05-08 13:47:21,096] Trial 224 finished with value: 0.9504489344900275 and parameters: {'scaling_method': 'robust', 'encoding_method': 'onehot', 'drop': None, 'algorithm': 'lasso', 'alpha': 0.0005285134704496678}. Best is trial 132 with value: 0.950812416973192.\n",
      "[I 2024-05-08 13:47:21,925] Trial 225 finished with value: 0.9508085044494761 and parameters: {'scaling_method': 'robust', 'encoding_method': 'onehot', 'drop': None, 'algorithm': 'lasso', 'alpha': 0.000292741615069389}. Best is trial 132 with value: 0.950812416973192.\n",
      "[I 2024-05-08 13:47:22,925] Trial 226 finished with value: 0.9504317568291174 and parameters: {'scaling_method': 'robust', 'encoding_method': 'onehot', 'drop': None, 'algorithm': 'lasso', 'alpha': 0.00018691849453186606}. Best is trial 132 with value: 0.950812416973192.\n",
      "[I 2024-05-08 13:47:23,657] Trial 227 finished with value: 0.9507036447398922 and parameters: {'scaling_method': 'robust', 'encoding_method': 'onehot', 'drop': None, 'algorithm': 'lasso', 'alpha': 0.00041251329877866445}. Best is trial 132 with value: 0.950812416973192.\n",
      "[I 2024-05-08 13:47:24,385] Trial 228 finished with value: 0.9502094550064152 and parameters: {'scaling_method': 'robust', 'encoding_method': 'onehot', 'drop': None, 'algorithm': 'lasso', 'alpha': 0.0006220699195244858}. Best is trial 132 with value: 0.950812416973192.\n",
      "C:\\Users\\Natal\\anaconda3\\Lib\\site-packages\\sklearn\\preprocessing\\_encoders.py:227: UserWarning:\n",
      "\n",
      "Found unknown categories in columns [3, 10] during transform. These unknown categories will be encoded as all zeros\n",
      "\n",
      "C:\\Users\\Natal\\anaconda3\\Lib\\site-packages\\sklearn\\preprocessing\\_encoders.py:227: UserWarning:\n",
      "\n",
      "Found unknown categories in columns [3, 9, 14] during transform. These unknown categories will be encoded as all zeros\n",
      "\n",
      "C:\\Users\\Natal\\anaconda3\\Lib\\site-packages\\sklearn\\preprocessing\\_encoders.py:227: UserWarning:\n",
      "\n",
      "Found unknown categories in columns [5, 21] during transform. These unknown categories will be encoded as all zeros\n",
      "\n",
      "C:\\Users\\Natal\\anaconda3\\Lib\\site-packages\\sklearn\\preprocessing\\_encoders.py:227: UserWarning:\n",
      "\n",
      "Found unknown categories in columns [9, 21] during transform. These unknown categories will be encoded as all zeros\n",
      "\n",
      "C:\\Users\\Natal\\anaconda3\\Lib\\site-packages\\sklearn\\preprocessing\\_encoders.py:227: UserWarning:\n",
      "\n",
      "Found unknown categories in columns [0] during transform. These unknown categories will be encoded as all zeros\n",
      "\n",
      "[I 2024-05-08 13:47:25,265] Trial 229 finished with value: 0.9505746321684301 and parameters: {'scaling_method': 'robust', 'encoding_method': 'onehot', 'drop': 'first', 'algorithm': 'lasso', 'alpha': 0.00029943720702098613}. Best is trial 132 with value: 0.950812416973192.\n",
      "[I 2024-05-08 13:47:26,207] Trial 230 finished with value: 0.9505243165107933 and parameters: {'scaling_method': 'robust', 'encoding_method': 'onehot', 'drop': None, 'algorithm': 'lasso', 'alpha': 0.00020865298951349098}. Best is trial 132 with value: 0.950812416973192.\n",
      "[I 2024-05-08 13:47:27,010] Trial 231 finished with value: 0.9508077657796846 and parameters: {'scaling_method': 'robust', 'encoding_method': 'onehot', 'drop': None, 'algorithm': 'lasso', 'alpha': 0.00033277293904546596}. Best is trial 132 with value: 0.950812416973192.\n",
      "[I 2024-05-08 13:47:27,903] Trial 232 finished with value: 0.9506986662567043 and parameters: {'scaling_method': 'robust', 'encoding_method': 'onehot', 'drop': None, 'algorithm': 'lasso', 'alpha': 0.0002477682845269201}. Best is trial 132 with value: 0.950812416973192.\n",
      "[I 2024-05-08 13:47:28,650] Trial 233 finished with value: 0.9507266333143818 and parameters: {'scaling_method': 'robust', 'encoding_method': 'onehot', 'drop': None, 'algorithm': 'lasso', 'alpha': 0.0003980637951780035}. Best is trial 132 with value: 0.950812416973192.\n",
      "[I 2024-05-08 13:47:29,460] Trial 234 finished with value: 0.9508087309535199 and parameters: {'scaling_method': 'robust', 'encoding_method': 'onehot', 'drop': None, 'algorithm': 'lasso', 'alpha': 0.0002930626932869702}. Best is trial 132 with value: 0.950812416973192.\n"
     ]
    },
    {
     "name": "stderr",
     "output_type": "stream",
     "text": [
      "[I 2024-05-08 13:47:30,487] Trial 235 finished with value: 0.9502491236523113 and parameters: {'scaling_method': 'robust', 'encoding_method': 'onehot', 'drop': None, 'algorithm': 'lasso', 'alpha': 0.00015155730280446285}. Best is trial 132 with value: 0.950812416973192.\n",
      "[I 2024-05-08 13:47:31,118] Trial 236 finished with value: 0.9483299927469011 and parameters: {'scaling_method': 'minmax', 'encoding_method': 'onehot', 'drop': None, 'algorithm': 'lasso', 'alpha': 0.0005172791210192754}. Best is trial 132 with value: 0.950812416973192.\n",
      "[I 2024-05-08 13:47:31,845] Trial 237 finished with value: 0.9507675248491247 and parameters: {'scaling_method': 'robust', 'encoding_method': 'onehot', 'drop': None, 'algorithm': 'lasso', 'alpha': 0.00036981770792040235}. Best is trial 132 with value: 0.950812416973192.\n",
      "[I 2024-05-08 13:47:32,750] Trial 238 finished with value: 0.9505964665322632 and parameters: {'scaling_method': 'robust', 'encoding_method': 'onehot', 'drop': None, 'algorithm': 'lasso', 'alpha': 0.00022422335913124466}. Best is trial 132 with value: 0.950812416973192.\n",
      "[I 2024-05-08 13:47:33,196] Trial 239 finished with value: -0.029441307066881618 and parameters: {'scaling_method': 'robust', 'encoding_method': 'onehot', 'drop': None, 'algorithm': 'lasso', 'alpha': 694.1346569476403}. Best is trial 132 with value: 0.950812416973192.\n",
      "[I 2024-05-08 13:47:33,679] Trial 240 finished with value: -0.0069012928380620675 and parameters: {'scaling_method': 'robust', 'encoding_method': 'onehot', 'drop': None, 'algorithm': 'lasso', 'alpha': 0.21650150787539982}. Best is trial 132 with value: 0.950812416973192.\n",
      "[I 2024-05-08 13:47:34,485] Trial 241 finished with value: 0.9508116909709698 and parameters: {'scaling_method': 'robust', 'encoding_method': 'onehot', 'drop': None, 'algorithm': 'lasso', 'alpha': 0.00031032728437135735}. Best is trial 132 with value: 0.950812416973192.\n",
      "[I 2024-05-08 13:47:35,320] Trial 242 finished with value: 0.9508010304130223 and parameters: {'scaling_method': 'robust', 'encoding_method': 'onehot', 'drop': None, 'algorithm': 'lasso', 'alpha': 0.000284861153893948}. Best is trial 132 with value: 0.950812416973192.\n",
      "[I 2024-05-08 13:47:36,057] Trial 243 finished with value: 0.9507006361816055 and parameters: {'scaling_method': 'robust', 'encoding_method': 'onehot', 'drop': None, 'algorithm': 'lasso', 'alpha': 0.0004144844084341333}. Best is trial 132 with value: 0.950812416973192.\n",
      "[I 2024-05-08 13:47:36,968] Trial 244 finished with value: 0.9504613050264705 and parameters: {'scaling_method': 'robust', 'encoding_method': 'onehot', 'drop': None, 'algorithm': 'lasso', 'alpha': 0.00019372946745272382}. Best is trial 132 with value: 0.950812416973192.\n",
      "[I 2024-05-08 13:47:37,785] Trial 245 finished with value: 0.944774533779347 and parameters: {'scaling_method': 'maxabs', 'encoding_method': 'onehot', 'drop': None, 'algorithm': 'lasso', 'alpha': 0.0005846631108270634}. Best is trial 132 with value: 0.950812416973192.\n",
      "[I 2024-05-08 13:47:38,649] Trial 246 finished with value: 0.9508092598805694 and parameters: {'scaling_method': 'robust', 'encoding_method': 'onehot', 'drop': None, 'algorithm': 'lasso', 'alpha': 0.00029399180847632767}. Best is trial 132 with value: 0.950812416973192.\n",
      "[I 2024-05-08 13:47:39,387] Trial 247 finished with value: 0.9506794903084635 and parameters: {'scaling_method': 'robust', 'encoding_method': 'onehot', 'drop': None, 'algorithm': 'lasso', 'alpha': 0.00042565464056361243}. Best is trial 132 with value: 0.950812416973192.\n",
      "[I 2024-05-08 13:47:39,895] Trial 248 finished with value: -0.012272670129249218 and parameters: {'scaling_method': 'robust', 'encoding_method': 'onehot', 'drop': None, 'algorithm': 'lasso', 'alpha': 1.1178636322309572}. Best is trial 132 with value: 0.950812416973192.\n",
      "[I 2024-05-08 13:47:40,783] Trial 249 finished with value: 0.9506750217740032 and parameters: {'scaling_method': 'robust', 'encoding_method': 'onehot', 'drop': None, 'algorithm': 'lasso', 'alpha': 0.0002421686439059811}. Best is trial 132 with value: 0.950812416973192.\n",
      "[I 2024-05-08 13:47:41,339] Trial 250 finished with value: 0.9458050568387177 and parameters: {'scaling_method': 'robust', 'encoding_method': 'onehot', 'drop': None, 'algorithm': 'ridge', 'alpha': 0.00014665112054800382}. Best is trial 132 with value: 0.950812416973192.\n",
      "[I 2024-05-08 13:47:42,105] Trial 251 finished with value: 0.9507978483867225 and parameters: {'scaling_method': 'robust', 'encoding_method': 'onehot', 'drop': None, 'algorithm': 'lasso', 'alpha': 0.00034664990145788754}. Best is trial 132 with value: 0.950812416973192.\n",
      "[I 2024-05-08 13:47:42,775] Trial 252 finished with value: 0.949795725433485 and parameters: {'scaling_method': 'robust', 'encoding_method': 'onehot', 'drop': None, 'algorithm': 'lasso', 'alpha': 0.000738252372324309}. Best is trial 132 with value: 0.950812416973192.\n",
      "[I 2024-05-08 13:47:43,694] Trial 253 finished with value: 0.9506228196496427 and parameters: {'scaling_method': 'robust', 'encoding_method': 'onehot', 'drop': None, 'algorithm': 'lasso', 'alpha': 0.0002302575698388059}. Best is trial 132 with value: 0.950812416973192.\n",
      "[I 2024-05-08 13:47:44,267] Trial 254 finished with value: 0.941819095934777 and parameters: {'scaling_method': 'robust', 'encoding_method': 'ordinal', 'algorithm': 'lasso', 'alpha': 0.0004616430293968463}. Best is trial 132 with value: 0.950812416973192.\n"
     ]
    }
   ],
   "source": [
    "study.optimize(lambda trial: objective(trial, X, y), n_trials=200)"
   ]
  },
  {
   "cell_type": "code",
   "execution_count": 107,
   "id": "27f46354",
   "metadata": {},
   "outputs": [
    {
     "data": {
      "text/plain": [
       "FrozenTrial(number=51, state=1, values=[0.950811959316562], datetime_start=datetime.datetime(2024, 5, 8, 13, 2, 41, 239943), datetime_complete=datetime.datetime(2024, 5, 8, 13, 2, 42, 51942), params={'scaling_method': 'robust', 'encoding_method': 'onehot', 'drop': None, 'algorithm': 'lasso', 'alpha': 0.00030234570649513435}, user_attrs={}, system_attrs={}, intermediate_values={}, distributions={'scaling_method': CategoricalDistribution(choices=('standard', 'minmax', 'maxabs', 'robust')), 'encoding_method': CategoricalDistribution(choices=('ordinal', 'onehot')), 'drop': CategoricalDistribution(choices=(None, 'first')), 'algorithm': CategoricalDistribution(choices=('ridge', 'lasso', 'xgb')), 'alpha': FloatDistribution(high=1.0, log=True, low=0.0001, step=None)}, trial_id=51, value=None)"
      ]
     },
     "execution_count": 107,
     "metadata": {},
     "output_type": "execute_result"
    }
   ],
   "source": [
    "study.best_trial"
   ]
  },
  {
   "cell_type": "code",
   "execution_count": 111,
   "id": "e8abc523",
   "metadata": {},
   "outputs": [],
   "source": [
    "trial_number = []\n",
    "score = []\n",
    "algorithm = []\n",
    "parameters = []\n",
    "optuna_dict = {}\n",
    "trials = range(50)\n",
    "\n",
    "for trial in trials:\n",
    "    trial_number.append(study.get_trials()[trial].number)\n",
    "    score.append(study.get_trials()[trial].value)\n",
    "    algorithm.append(study.get_trials()[trial].params['algorithm'])\n",
    "    parameters.append(list(study.get_trials()[trial].params.items())[1:])\n",
    "\n",
    "optuna_dict['Trial'] = trial_number\n",
    "optuna_dict['Score'] = score\n",
    "optuna_dict['Algorithm'] = algorithm\n",
    "optuna_dict['Parameters'] = parameters\n",
    "\n",
    "\n",
    "df_optuna = pd.DataFrame.from_dict(optuna_dict)"
   ]
  },
  {
   "cell_type": "code",
   "execution_count": 137,
   "id": "b2435fad",
   "metadata": {},
   "outputs": [
    {
     "data": {
      "text/html": [
       "<div>\n",
       "<style scoped>\n",
       "    .dataframe tbody tr th:only-of-type {\n",
       "        vertical-align: middle;\n",
       "    }\n",
       "\n",
       "    .dataframe tbody tr th {\n",
       "        vertical-align: top;\n",
       "    }\n",
       "\n",
       "    .dataframe thead th {\n",
       "        text-align: right;\n",
       "    }\n",
       "</style>\n",
       "<table border=\"1\" class=\"dataframe\">\n",
       "  <thead>\n",
       "    <tr style=\"text-align: right;\">\n",
       "      <th></th>\n",
       "      <th>Trial</th>\n",
       "      <th>Score</th>\n",
       "      <th>Algorithm</th>\n",
       "      <th>Parameters</th>\n",
       "    </tr>\n",
       "  </thead>\n",
       "  <tbody>\n",
       "    <tr>\n",
       "      <th>5</th>\n",
       "      <td>5</td>\n",
       "      <td>0.949782</td>\n",
       "      <td>xgb</td>\n",
       "      <td>[(encoding_method, ordinal), (algorithm, xgb),...</td>\n",
       "    </tr>\n",
       "    <tr>\n",
       "      <th>6</th>\n",
       "      <td>6</td>\n",
       "      <td>0.949665</td>\n",
       "      <td>ridge</td>\n",
       "      <td>[(encoding_method, onehot), (drop, None), (alg...</td>\n",
       "    </tr>\n",
       "    <tr>\n",
       "      <th>44</th>\n",
       "      <td>44</td>\n",
       "      <td>0.950812</td>\n",
       "      <td>lasso</td>\n",
       "      <td>[(encoding_method, onehot), (drop, None), (alg...</td>\n",
       "    </tr>\n",
       "  </tbody>\n",
       "</table>\n",
       "</div>"
      ],
      "text/plain": [
       "    Trial     Score Algorithm  \\\n",
       "5       5  0.949782       xgb   \n",
       "6       6  0.949665     ridge   \n",
       "44     44  0.950812     lasso   \n",
       "\n",
       "                                           Parameters  \n",
       "5   [(encoding_method, ordinal), (algorithm, xgb),...  \n",
       "6   [(encoding_method, onehot), (drop, None), (alg...  \n",
       "44  [(encoding_method, onehot), (drop, None), (alg...  "
      ]
     },
     "execution_count": 137,
     "metadata": {},
     "output_type": "execute_result"
    }
   ],
   "source": [
    "idx = df_optuna.groupby('Algorithm')['Score'].transform(max) == df_optuna['Score']\n",
    "df_optuna[idx]"
   ]
  },
  {
   "cell_type": "code",
   "execution_count": 131,
   "id": "592107b9",
   "metadata": {},
   "outputs": [
    {
     "name": "stdout",
     "output_type": "stream",
     "text": [
      "lasso [('encoding_method', 'onehot'), ('drop', None), ('algorithm', 'lasso'), ('alpha', 0.0003203849779983578)]\n",
      "ridge [('encoding_method', 'onehot'), ('drop', None), ('algorithm', 'ridge'), ('alpha', 26.191383015391732)]\n",
      "xgb [('encoding_method', 'ordinal'), ('algorithm', 'xgb'), ('learning_rate', 0.032033941123685704), ('max_depth', 8), ('subsample', 0.31715243333753884), ('colsample_bytree', 0.4718623158670449), ('min_child_weight', 3)]\n"
     ]
    }
   ],
   "source": [
    "print('lasso', df_optuna.Parameters[44])\n",
    "print('ridge', df_optuna.Parameters[6])\n",
    "print('xgb', df_optuna.Parameters[5])"
   ]
  },
  {
   "cell_type": "code",
   "execution_count": 140,
   "id": "712dcbcb",
   "metadata": {},
   "outputs": [
    {
     "data": {
      "application/vnd.plotly.v1+json": {
       "config": {
        "plotlyServerURL": "https://plot.ly"
       },
       "data": [
        {
         "customdata": [
          [
           [
            [
             "encoding_method",
             "ordinal"
            ],
            [
             "algorithm",
             "ridge"
            ],
            [
             "alpha",
             7.99005167725735
            ]
           ]
          ],
          [
           [
            [
             "encoding_method",
             "ordinal"
            ],
            [
             "algorithm",
             "ridge"
            ],
            [
             "alpha",
             0.21018452746987368
            ]
           ]
          ],
          [
           [
            [
             "encoding_method",
             "onehot"
            ],
            [
             "drop",
             null
            ],
            [
             "algorithm",
             "ridge"
            ],
            [
             "alpha",
             26.191383015391732
            ]
           ]
          ],
          [
           [
            [
             "encoding_method",
             "onehot"
            ],
            [
             "drop",
             null
            ],
            [
             "algorithm",
             "ridge"
            ],
            [
             "alpha",
             4.45618646062265
            ]
           ]
          ],
          [
           [
            [
             "encoding_method",
             "ordinal"
            ],
            [
             "algorithm",
             "ridge"
            ],
            [
             "alpha",
             0.1702399455475069
            ]
           ]
          ],
          [
           [
            [
             "encoding_method",
             "onehot"
            ],
            [
             "drop",
             "first"
            ],
            [
             "algorithm",
             "ridge"
            ],
            [
             "alpha",
             60.76168356896882
            ]
           ]
          ],
          [
           [
            [
             "encoding_method",
             "onehot"
            ],
            [
             "drop",
             null
            ],
            [
             "algorithm",
             "ridge"
            ],
            [
             "alpha",
             82.76272866029129
            ]
           ]
          ],
          [
           [
            [
             "encoding_method",
             "onehot"
            ],
            [
             "drop",
             "first"
            ],
            [
             "algorithm",
             "ridge"
            ],
            [
             "alpha",
             19.8576604978634
            ]
           ]
          ],
          [
           [
            [
             "encoding_method",
             "onehot"
            ],
            [
             "drop",
             null
            ],
            [
             "algorithm",
             "ridge"
            ],
            [
             "alpha",
             0.12644911439860457
            ]
           ]
          ]
         ],
         "hovertemplate": "Algorithm=ridge<br>Trial=%{x}<br>Score=%{y}<br>Parameters=%{customdata[0]}<extra></extra>",
         "legendgroup": "ridge",
         "marker": {
          "color": "#636efa",
          "symbol": "circle"
         },
         "mode": "markers",
         "name": "ridge",
         "orientation": "v",
         "showlegend": true,
         "type": "scatter",
         "x": [
          1,
          4,
          6,
          8,
          9,
          12,
          15,
          17,
          48
         ],
         "xaxis": "x",
         "y": [
          0.941536187469816,
          0.9409941650610278,
          0.9496654216087423,
          0.9447286771965799,
          0.9409646107264485,
          0.9487163410427379,
          0.9484723650795587,
          0.9290599304395448,
          0.9462837118756445
         ],
         "yaxis": "y"
        },
        {
         "customdata": [
          [
           [
            [
             "encoding_method",
             "onehot"
            ],
            [
             "drop",
             null
            ],
            [
             "algorithm",
             "xgb"
            ],
            [
             "learning_rate",
             0.008109762945206156
            ],
            [
             "max_depth",
             8
            ],
            [
             "subsample",
             0.25412177946288084
            ],
            [
             "colsample_bytree",
             0.8323836551085584
            ],
            [
             "min_child_weight",
             14
            ]
           ]
          ],
          [
           [
            [
             "encoding_method",
             "ordinal"
            ],
            [
             "algorithm",
             "xgb"
            ],
            [
             "learning_rate",
             0.032033941123685704
            ],
            [
             "max_depth",
             8
            ],
            [
             "subsample",
             0.31715243333753884
            ],
            [
             "colsample_bytree",
             0.4718623158670449
            ],
            [
             "min_child_weight",
             3
            ]
           ]
          ],
          [
           [
            [
             "encoding_method",
             "ordinal"
            ],
            [
             "algorithm",
             "xgb"
            ],
            [
             "learning_rate",
             0.06965466970009418
            ],
            [
             "max_depth",
             1
            ],
            [
             "subsample",
             0.05010358245636137
            ],
            [
             "colsample_bytree",
             0.15232051378119216
            ],
            [
             "min_child_weight",
             1
            ]
           ]
          ],
          [
           [
            [
             "encoding_method",
             "onehot"
            ],
            [
             "drop",
             "first"
            ],
            [
             "algorithm",
             "xgb"
            ],
            [
             "learning_rate",
             0.08220439882653297
            ],
            [
             "max_depth",
             4
            ],
            [
             "subsample",
             0.992959255189396
            ],
            [
             "colsample_bytree",
             0.4994867069964619
            ],
            [
             "min_child_weight",
             3
            ]
           ]
          ],
          [
           [
            [
             "encoding_method",
             "onehot"
            ],
            [
             "drop",
             null
            ],
            [
             "algorithm",
             "xgb"
            ],
            [
             "learning_rate",
             0.019377120220944576
            ],
            [
             "max_depth",
             10
            ],
            [
             "subsample",
             0.46239668623676833
            ],
            [
             "colsample_bytree",
             0.1732285886295708
            ],
            [
             "min_child_weight",
             8
            ]
           ]
          ],
          [
           [
            [
             "encoding_method",
             "ordinal"
            ],
            [
             "algorithm",
             "xgb"
            ],
            [
             "learning_rate",
             0.0178640911978987
            ],
            [
             "max_depth",
             5
            ],
            [
             "subsample",
             0.4877377034325086
            ],
            [
             "colsample_bytree",
             0.8150566494923497
            ],
            [
             "min_child_weight",
             8
            ]
           ]
          ]
         ],
         "hovertemplate": "Algorithm=xgb<br>Trial=%{x}<br>Score=%{y}<br>Parameters=%{customdata[0]}<extra></extra>",
         "legendgroup": "xgb",
         "marker": {
          "color": "#EF553B",
          "symbol": "circle"
         },
         "mode": "markers",
         "name": "xgb",
         "orientation": "v",
         "showlegend": true,
         "type": "scatter",
         "x": [
          2,
          5,
          10,
          11,
          13,
          16
         ],
         "xaxis": "x",
         "y": [
          0.9285478176802233,
          0.9497820754799964,
          0.9351626633625708,
          0.949042610965099,
          0.9475596824508937,
          0.9491089206793057
         ],
         "yaxis": "y"
        },
        {
         "customdata": [
          [
           [
            [
             "encoding_method",
             "ordinal"
            ],
            [
             "algorithm",
             "lasso"
            ],
            [
             "alpha",
             0.000270946759005729
            ]
           ]
          ],
          [
           [
            [
             "encoding_method",
             "onehot"
            ],
            [
             "drop",
             null
            ],
            [
             "algorithm",
             "lasso"
            ],
            [
             "alpha",
             0.0001937566058344647
            ]
           ]
          ],
          [
           [
            [
             "encoding_method",
             "onehot"
            ],
            [
             "drop",
             "first"
            ],
            [
             "algorithm",
             "lasso"
            ],
            [
             "alpha",
             0.00014370764351178224
            ]
           ]
          ],
          [
           [
            [
             "encoding_method",
             "onehot"
            ],
            [
             "drop",
             "first"
            ],
            [
             "algorithm",
             "lasso"
            ],
            [
             "alpha",
             0.00010503528977982894
            ]
           ]
          ],
          [
           [
            [
             "encoding_method",
             "onehot"
            ],
            [
             "drop",
             "first"
            ],
            [
             "algorithm",
             "lasso"
            ],
            [
             "alpha",
             0.00010307489924535172
            ]
           ]
          ],
          [
           [
            [
             "encoding_method",
             "onehot"
            ],
            [
             "drop",
             "first"
            ],
            [
             "algorithm",
             "lasso"
            ],
            [
             "alpha",
             0.0005766860367084671
            ]
           ]
          ],
          [
           [
            [
             "encoding_method",
             "onehot"
            ],
            [
             "drop",
             "first"
            ],
            [
             "algorithm",
             "lasso"
            ],
            [
             "alpha",
             0.0006424048136654765
            ]
           ]
          ],
          [
           [
            [
             "encoding_method",
             "onehot"
            ],
            [
             "drop",
             "first"
            ],
            [
             "algorithm",
             "lasso"
            ],
            [
             "alpha",
             0.0012985375713217796
            ]
           ]
          ],
          [
           [
            [
             "encoding_method",
             "onehot"
            ],
            [
             "drop",
             "first"
            ],
            [
             "algorithm",
             "lasso"
            ],
            [
             "alpha",
             0.0016452801369435562
            ]
           ]
          ],
          [
           [
            [
             "encoding_method",
             "onehot"
            ],
            [
             "drop",
             "first"
            ],
            [
             "algorithm",
             "lasso"
            ],
            [
             "alpha",
             0.00035337134548415284
            ]
           ]
          ],
          [
           [
            [
             "encoding_method",
             "onehot"
            ],
            [
             "drop",
             null
            ],
            [
             "algorithm",
             "lasso"
            ],
            [
             "alpha",
             0.00048242681545758085
            ]
           ]
          ],
          [
           [
            [
             "encoding_method",
             "onehot"
            ],
            [
             "drop",
             null
            ],
            [
             "algorithm",
             "lasso"
            ],
            [
             "alpha",
             0.004535556300650929
            ]
           ]
          ],
          [
           [
            [
             "encoding_method",
             "onehot"
            ],
            [
             "drop",
             null
            ],
            [
             "algorithm",
             "lasso"
            ],
            [
             "alpha",
             0.00031183803482340484
            ]
           ]
          ],
          [
           [
            [
             "encoding_method",
             "onehot"
            ],
            [
             "drop",
             null
            ],
            [
             "algorithm",
             "lasso"
            ],
            [
             "alpha",
             0.00032766145860107354
            ]
           ]
          ],
          [
           [
            [
             "encoding_method",
             "onehot"
            ],
            [
             "drop",
             null
            ],
            [
             "algorithm",
             "lasso"
            ],
            [
             "alpha",
             0.0004080673456695109
            ]
           ]
          ],
          [
           [
            [
             "encoding_method",
             "onehot"
            ],
            [
             "drop",
             null
            ],
            [
             "algorithm",
             "lasso"
            ],
            [
             "alpha",
             0.0015149513243518243
            ]
           ]
          ],
          [
           [
            [
             "encoding_method",
             "onehot"
            ],
            [
             "drop",
             null
            ],
            [
             "algorithm",
             "lasso"
            ],
            [
             "alpha",
             0.0006052818719824472
            ]
           ]
          ],
          [
           [
            [
             "encoding_method",
             "onehot"
            ],
            [
             "drop",
             null
            ],
            [
             "algorithm",
             "lasso"
            ],
            [
             "alpha",
             0.0029846252676767014
            ]
           ]
          ],
          [
           [
            [
             "encoding_method",
             "onehot"
            ],
            [
             "drop",
             null
            ],
            [
             "algorithm",
             "lasso"
            ],
            [
             "alpha",
             0.00032262616678160194
            ]
           ]
          ],
          [
           [
            [
             "encoding_method",
             "onehot"
            ],
            [
             "drop",
             null
            ],
            [
             "algorithm",
             "lasso"
            ],
            [
             "alpha",
             0.00025364384645335333
            ]
           ]
          ],
          [
           [
            [
             "encoding_method",
             "onehot"
            ],
            [
             "drop",
             null
            ],
            [
             "algorithm",
             "lasso"
            ],
            [
             "alpha",
             0.0009916635931525163
            ]
           ]
          ],
          [
           [
            [
             "encoding_method",
             "onehot"
            ],
            [
             "drop",
             null
            ],
            [
             "algorithm",
             "lasso"
            ],
            [
             "alpha",
             0.0002256286270527517
            ]
           ]
          ],
          [
           [
            [
             "encoding_method",
             "onehot"
            ],
            [
             "drop",
             null
            ],
            [
             "algorithm",
             "lasso"
            ],
            [
             "alpha",
             0.00029966793095197283
            ]
           ]
          ],
          [
           [
            [
             "encoding_method",
             "onehot"
            ],
            [
             "drop",
             null
            ],
            [
             "algorithm",
             "lasso"
            ],
            [
             "alpha",
             0.00021181418968019384
            ]
           ]
          ],
          [
           [
            [
             "encoding_method",
             "onehot"
            ],
            [
             "drop",
             null
            ],
            [
             "algorithm",
             "lasso"
            ],
            [
             "alpha",
             0.000806358899192361
            ]
           ]
          ],
          [
           [
            [
             "encoding_method",
             "onehot"
            ],
            [
             "drop",
             null
            ],
            [
             "algorithm",
             "lasso"
            ],
            [
             "alpha",
             0.0003203849779983578
            ]
           ]
          ],
          [
           [
            [
             "encoding_method",
             "onehot"
            ],
            [
             "drop",
             null
            ],
            [
             "algorithm",
             "lasso"
            ],
            [
             "alpha",
             0.0027776514043226373
            ]
           ]
          ],
          [
           [
            [
             "encoding_method",
             "ordinal"
            ],
            [
             "algorithm",
             "lasso"
            ],
            [
             "alpha",
             0.000357454554031268
            ]
           ]
          ],
          [
           [
            [
             "encoding_method",
             "onehot"
            ],
            [
             "drop",
             null
            ],
            [
             "algorithm",
             "lasso"
            ],
            [
             "alpha",
             0.022139014553658142
            ]
           ]
          ]
         ],
         "hovertemplate": "Algorithm=lasso<br>Trial=%{x}<br>Score=%{y}<br>Parameters=%{customdata[0]}<extra></extra>",
         "legendgroup": "lasso",
         "marker": {
          "color": "#00cc96",
          "symbol": "circle"
         },
         "mode": "markers",
         "name": "lasso",
         "orientation": "v",
         "showlegend": true,
         "type": "scatter",
         "x": [
          14,
          19,
          20,
          21,
          22,
          23,
          24,
          25,
          26,
          27,
          28,
          29,
          30,
          31,
          32,
          33,
          34,
          35,
          36,
          37,
          38,
          39,
          41,
          42,
          43,
          44,
          45,
          46,
          47
         ],
         "xaxis": "x",
         "y": [
          0.9417265114376434,
          0.9504614188708388,
          0.9501693357611487,
          0.9499290186073521,
          0.9499064681108935,
          0.9501753732969276,
          0.9499846285115702,
          0.9461264337518518,
          0.9445517623887723,
          0.9505353444210884,
          0.9505663763636611,
          0.9405920223435604,
          0.9508112944045027,
          0.9508097752497846,
          0.9507107928753152,
          0.9459345441142546,
          0.9502570950406447,
          0.9185121733376093,
          0.9508112529617192,
          0.9507243809905146,
          0.9397479823709395,
          0.9506026293479263,
          0.9508109076255872,
          0.9505386980866041,
          0.9495085723743036,
          0.9508118371700821,
          0.918675505226825,
          0.9417680853543192,
          0.9027530685529814
         ],
         "yaxis": "y"
        }
       ],
       "layout": {
        "hoverlabel": {
         "bgcolor": "white",
         "font": {
          "family": "Rockwell",
          "size": 8
         }
        },
        "legend": {
         "title": {
          "text": "Algorithm"
         },
         "tracegroupgap": 0
        },
        "margin": {
         "t": 60
        },
        "template": {
         "data": {
          "bar": [
           {
            "error_x": {
             "color": "#2a3f5f"
            },
            "error_y": {
             "color": "#2a3f5f"
            },
            "marker": {
             "line": {
              "color": "#E5ECF6",
              "width": 0.5
             },
             "pattern": {
              "fillmode": "overlay",
              "size": 10,
              "solidity": 0.2
             }
            },
            "type": "bar"
           }
          ],
          "barpolar": [
           {
            "marker": {
             "line": {
              "color": "#E5ECF6",
              "width": 0.5
             },
             "pattern": {
              "fillmode": "overlay",
              "size": 10,
              "solidity": 0.2
             }
            },
            "type": "barpolar"
           }
          ],
          "carpet": [
           {
            "aaxis": {
             "endlinecolor": "#2a3f5f",
             "gridcolor": "white",
             "linecolor": "white",
             "minorgridcolor": "white",
             "startlinecolor": "#2a3f5f"
            },
            "baxis": {
             "endlinecolor": "#2a3f5f",
             "gridcolor": "white",
             "linecolor": "white",
             "minorgridcolor": "white",
             "startlinecolor": "#2a3f5f"
            },
            "type": "carpet"
           }
          ],
          "choropleth": [
           {
            "colorbar": {
             "outlinewidth": 0,
             "ticks": ""
            },
            "type": "choropleth"
           }
          ],
          "contour": [
           {
            "colorbar": {
             "outlinewidth": 0,
             "ticks": ""
            },
            "colorscale": [
             [
              0,
              "#0d0887"
             ],
             [
              0.1111111111111111,
              "#46039f"
             ],
             [
              0.2222222222222222,
              "#7201a8"
             ],
             [
              0.3333333333333333,
              "#9c179e"
             ],
             [
              0.4444444444444444,
              "#bd3786"
             ],
             [
              0.5555555555555556,
              "#d8576b"
             ],
             [
              0.6666666666666666,
              "#ed7953"
             ],
             [
              0.7777777777777778,
              "#fb9f3a"
             ],
             [
              0.8888888888888888,
              "#fdca26"
             ],
             [
              1,
              "#f0f921"
             ]
            ],
            "type": "contour"
           }
          ],
          "contourcarpet": [
           {
            "colorbar": {
             "outlinewidth": 0,
             "ticks": ""
            },
            "type": "contourcarpet"
           }
          ],
          "heatmap": [
           {
            "colorbar": {
             "outlinewidth": 0,
             "ticks": ""
            },
            "colorscale": [
             [
              0,
              "#0d0887"
             ],
             [
              0.1111111111111111,
              "#46039f"
             ],
             [
              0.2222222222222222,
              "#7201a8"
             ],
             [
              0.3333333333333333,
              "#9c179e"
             ],
             [
              0.4444444444444444,
              "#bd3786"
             ],
             [
              0.5555555555555556,
              "#d8576b"
             ],
             [
              0.6666666666666666,
              "#ed7953"
             ],
             [
              0.7777777777777778,
              "#fb9f3a"
             ],
             [
              0.8888888888888888,
              "#fdca26"
             ],
             [
              1,
              "#f0f921"
             ]
            ],
            "type": "heatmap"
           }
          ],
          "heatmapgl": [
           {
            "colorbar": {
             "outlinewidth": 0,
             "ticks": ""
            },
            "colorscale": [
             [
              0,
              "#0d0887"
             ],
             [
              0.1111111111111111,
              "#46039f"
             ],
             [
              0.2222222222222222,
              "#7201a8"
             ],
             [
              0.3333333333333333,
              "#9c179e"
             ],
             [
              0.4444444444444444,
              "#bd3786"
             ],
             [
              0.5555555555555556,
              "#d8576b"
             ],
             [
              0.6666666666666666,
              "#ed7953"
             ],
             [
              0.7777777777777778,
              "#fb9f3a"
             ],
             [
              0.8888888888888888,
              "#fdca26"
             ],
             [
              1,
              "#f0f921"
             ]
            ],
            "type": "heatmapgl"
           }
          ],
          "histogram": [
           {
            "marker": {
             "pattern": {
              "fillmode": "overlay",
              "size": 10,
              "solidity": 0.2
             }
            },
            "type": "histogram"
           }
          ],
          "histogram2d": [
           {
            "colorbar": {
             "outlinewidth": 0,
             "ticks": ""
            },
            "colorscale": [
             [
              0,
              "#0d0887"
             ],
             [
              0.1111111111111111,
              "#46039f"
             ],
             [
              0.2222222222222222,
              "#7201a8"
             ],
             [
              0.3333333333333333,
              "#9c179e"
             ],
             [
              0.4444444444444444,
              "#bd3786"
             ],
             [
              0.5555555555555556,
              "#d8576b"
             ],
             [
              0.6666666666666666,
              "#ed7953"
             ],
             [
              0.7777777777777778,
              "#fb9f3a"
             ],
             [
              0.8888888888888888,
              "#fdca26"
             ],
             [
              1,
              "#f0f921"
             ]
            ],
            "type": "histogram2d"
           }
          ],
          "histogram2dcontour": [
           {
            "colorbar": {
             "outlinewidth": 0,
             "ticks": ""
            },
            "colorscale": [
             [
              0,
              "#0d0887"
             ],
             [
              0.1111111111111111,
              "#46039f"
             ],
             [
              0.2222222222222222,
              "#7201a8"
             ],
             [
              0.3333333333333333,
              "#9c179e"
             ],
             [
              0.4444444444444444,
              "#bd3786"
             ],
             [
              0.5555555555555556,
              "#d8576b"
             ],
             [
              0.6666666666666666,
              "#ed7953"
             ],
             [
              0.7777777777777778,
              "#fb9f3a"
             ],
             [
              0.8888888888888888,
              "#fdca26"
             ],
             [
              1,
              "#f0f921"
             ]
            ],
            "type": "histogram2dcontour"
           }
          ],
          "mesh3d": [
           {
            "colorbar": {
             "outlinewidth": 0,
             "ticks": ""
            },
            "type": "mesh3d"
           }
          ],
          "parcoords": [
           {
            "line": {
             "colorbar": {
              "outlinewidth": 0,
              "ticks": ""
             }
            },
            "type": "parcoords"
           }
          ],
          "pie": [
           {
            "automargin": true,
            "type": "pie"
           }
          ],
          "scatter": [
           {
            "fillpattern": {
             "fillmode": "overlay",
             "size": 10,
             "solidity": 0.2
            },
            "type": "scatter"
           }
          ],
          "scatter3d": [
           {
            "line": {
             "colorbar": {
              "outlinewidth": 0,
              "ticks": ""
             }
            },
            "marker": {
             "colorbar": {
              "outlinewidth": 0,
              "ticks": ""
             }
            },
            "type": "scatter3d"
           }
          ],
          "scattercarpet": [
           {
            "marker": {
             "colorbar": {
              "outlinewidth": 0,
              "ticks": ""
             }
            },
            "type": "scattercarpet"
           }
          ],
          "scattergeo": [
           {
            "marker": {
             "colorbar": {
              "outlinewidth": 0,
              "ticks": ""
             }
            },
            "type": "scattergeo"
           }
          ],
          "scattergl": [
           {
            "marker": {
             "colorbar": {
              "outlinewidth": 0,
              "ticks": ""
             }
            },
            "type": "scattergl"
           }
          ],
          "scattermapbox": [
           {
            "marker": {
             "colorbar": {
              "outlinewidth": 0,
              "ticks": ""
             }
            },
            "type": "scattermapbox"
           }
          ],
          "scatterpolar": [
           {
            "marker": {
             "colorbar": {
              "outlinewidth": 0,
              "ticks": ""
             }
            },
            "type": "scatterpolar"
           }
          ],
          "scatterpolargl": [
           {
            "marker": {
             "colorbar": {
              "outlinewidth": 0,
              "ticks": ""
             }
            },
            "type": "scatterpolargl"
           }
          ],
          "scatterternary": [
           {
            "marker": {
             "colorbar": {
              "outlinewidth": 0,
              "ticks": ""
             }
            },
            "type": "scatterternary"
           }
          ],
          "surface": [
           {
            "colorbar": {
             "outlinewidth": 0,
             "ticks": ""
            },
            "colorscale": [
             [
              0,
              "#0d0887"
             ],
             [
              0.1111111111111111,
              "#46039f"
             ],
             [
              0.2222222222222222,
              "#7201a8"
             ],
             [
              0.3333333333333333,
              "#9c179e"
             ],
             [
              0.4444444444444444,
              "#bd3786"
             ],
             [
              0.5555555555555556,
              "#d8576b"
             ],
             [
              0.6666666666666666,
              "#ed7953"
             ],
             [
              0.7777777777777778,
              "#fb9f3a"
             ],
             [
              0.8888888888888888,
              "#fdca26"
             ],
             [
              1,
              "#f0f921"
             ]
            ],
            "type": "surface"
           }
          ],
          "table": [
           {
            "cells": {
             "fill": {
              "color": "#EBF0F8"
             },
             "line": {
              "color": "white"
             }
            },
            "header": {
             "fill": {
              "color": "#C8D4E3"
             },
             "line": {
              "color": "white"
             }
            },
            "type": "table"
           }
          ]
         },
         "layout": {
          "annotationdefaults": {
           "arrowcolor": "#2a3f5f",
           "arrowhead": 0,
           "arrowwidth": 1
          },
          "autotypenumbers": "strict",
          "coloraxis": {
           "colorbar": {
            "outlinewidth": 0,
            "ticks": ""
           }
          },
          "colorscale": {
           "diverging": [
            [
             0,
             "#8e0152"
            ],
            [
             0.1,
             "#c51b7d"
            ],
            [
             0.2,
             "#de77ae"
            ],
            [
             0.3,
             "#f1b6da"
            ],
            [
             0.4,
             "#fde0ef"
            ],
            [
             0.5,
             "#f7f7f7"
            ],
            [
             0.6,
             "#e6f5d0"
            ],
            [
             0.7,
             "#b8e186"
            ],
            [
             0.8,
             "#7fbc41"
            ],
            [
             0.9,
             "#4d9221"
            ],
            [
             1,
             "#276419"
            ]
           ],
           "sequential": [
            [
             0,
             "#0d0887"
            ],
            [
             0.1111111111111111,
             "#46039f"
            ],
            [
             0.2222222222222222,
             "#7201a8"
            ],
            [
             0.3333333333333333,
             "#9c179e"
            ],
            [
             0.4444444444444444,
             "#bd3786"
            ],
            [
             0.5555555555555556,
             "#d8576b"
            ],
            [
             0.6666666666666666,
             "#ed7953"
            ],
            [
             0.7777777777777778,
             "#fb9f3a"
            ],
            [
             0.8888888888888888,
             "#fdca26"
            ],
            [
             1,
             "#f0f921"
            ]
           ],
           "sequentialminus": [
            [
             0,
             "#0d0887"
            ],
            [
             0.1111111111111111,
             "#46039f"
            ],
            [
             0.2222222222222222,
             "#7201a8"
            ],
            [
             0.3333333333333333,
             "#9c179e"
            ],
            [
             0.4444444444444444,
             "#bd3786"
            ],
            [
             0.5555555555555556,
             "#d8576b"
            ],
            [
             0.6666666666666666,
             "#ed7953"
            ],
            [
             0.7777777777777778,
             "#fb9f3a"
            ],
            [
             0.8888888888888888,
             "#fdca26"
            ],
            [
             1,
             "#f0f921"
            ]
           ]
          },
          "colorway": [
           "#636efa",
           "#EF553B",
           "#00cc96",
           "#ab63fa",
           "#FFA15A",
           "#19d3f3",
           "#FF6692",
           "#B6E880",
           "#FF97FF",
           "#FECB52"
          ],
          "font": {
           "color": "#2a3f5f"
          },
          "geo": {
           "bgcolor": "white",
           "lakecolor": "white",
           "landcolor": "#E5ECF6",
           "showlakes": true,
           "showland": true,
           "subunitcolor": "white"
          },
          "hoverlabel": {
           "align": "left"
          },
          "hovermode": "closest",
          "mapbox": {
           "style": "light"
          },
          "paper_bgcolor": "white",
          "plot_bgcolor": "#E5ECF6",
          "polar": {
           "angularaxis": {
            "gridcolor": "white",
            "linecolor": "white",
            "ticks": ""
           },
           "bgcolor": "#E5ECF6",
           "radialaxis": {
            "gridcolor": "white",
            "linecolor": "white",
            "ticks": ""
           }
          },
          "scene": {
           "xaxis": {
            "backgroundcolor": "#E5ECF6",
            "gridcolor": "white",
            "gridwidth": 2,
            "linecolor": "white",
            "showbackground": true,
            "ticks": "",
            "zerolinecolor": "white"
           },
           "yaxis": {
            "backgroundcolor": "#E5ECF6",
            "gridcolor": "white",
            "gridwidth": 2,
            "linecolor": "white",
            "showbackground": true,
            "ticks": "",
            "zerolinecolor": "white"
           },
           "zaxis": {
            "backgroundcolor": "#E5ECF6",
            "gridcolor": "white",
            "gridwidth": 2,
            "linecolor": "white",
            "showbackground": true,
            "ticks": "",
            "zerolinecolor": "white"
           }
          },
          "shapedefaults": {
           "line": {
            "color": "#2a3f5f"
           }
          },
          "ternary": {
           "aaxis": {
            "gridcolor": "white",
            "linecolor": "white",
            "ticks": ""
           },
           "baxis": {
            "gridcolor": "white",
            "linecolor": "white",
            "ticks": ""
           },
           "bgcolor": "#E5ECF6",
           "caxis": {
            "gridcolor": "white",
            "linecolor": "white",
            "ticks": ""
           }
          },
          "title": {
           "x": 0.05
          },
          "xaxis": {
           "automargin": true,
           "gridcolor": "white",
           "linecolor": "white",
           "ticks": "",
           "title": {
            "standoff": 15
           },
           "zerolinecolor": "white",
           "zerolinewidth": 2
          },
          "yaxis": {
           "automargin": true,
           "gridcolor": "white",
           "linecolor": "white",
           "ticks": "",
           "title": {
            "standoff": 15
           },
           "zerolinecolor": "white",
           "zerolinewidth": 2
          }
         }
        },
        "xaxis": {
         "anchor": "y",
         "domain": [
          0,
          1
         ],
         "title": {
          "text": "Trial"
         }
        },
        "yaxis": {
         "anchor": "x",
         "domain": [
          0,
          1
         ],
         "title": {
          "text": "Score"
         }
        }
       }
      },
      "text/html": [
       "<div>                            <div id=\"c0627331-ee04-47b2-88d7-a296e2e6f973\" class=\"plotly-graph-div\" style=\"height:525px; width:100%;\"></div>            <script type=\"text/javascript\">                require([\"plotly\"], function(Plotly) {                    window.PLOTLYENV=window.PLOTLYENV || {};                                    if (document.getElementById(\"c0627331-ee04-47b2-88d7-a296e2e6f973\")) {                    Plotly.newPlot(                        \"c0627331-ee04-47b2-88d7-a296e2e6f973\",                        [{\"customdata\":[[[[\"encoding_method\",\"ordinal\"],[\"algorithm\",\"ridge\"],[\"alpha\",7.99005167725735]]],[[[\"encoding_method\",\"ordinal\"],[\"algorithm\",\"ridge\"],[\"alpha\",0.21018452746987368]]],[[[\"encoding_method\",\"onehot\"],[\"drop\",null],[\"algorithm\",\"ridge\"],[\"alpha\",26.191383015391732]]],[[[\"encoding_method\",\"onehot\"],[\"drop\",null],[\"algorithm\",\"ridge\"],[\"alpha\",4.45618646062265]]],[[[\"encoding_method\",\"ordinal\"],[\"algorithm\",\"ridge\"],[\"alpha\",0.1702399455475069]]],[[[\"encoding_method\",\"onehot\"],[\"drop\",\"first\"],[\"algorithm\",\"ridge\"],[\"alpha\",60.76168356896882]]],[[[\"encoding_method\",\"onehot\"],[\"drop\",null],[\"algorithm\",\"ridge\"],[\"alpha\",82.76272866029129]]],[[[\"encoding_method\",\"onehot\"],[\"drop\",\"first\"],[\"algorithm\",\"ridge\"],[\"alpha\",19.8576604978634]]],[[[\"encoding_method\",\"onehot\"],[\"drop\",null],[\"algorithm\",\"ridge\"],[\"alpha\",0.12644911439860457]]]],\"hovertemplate\":\"Algorithm=ridge<br>Trial=%{x}<br>Score=%{y}<br>Parameters=%{customdata[0]}<extra></extra>\",\"legendgroup\":\"ridge\",\"marker\":{\"color\":\"#636efa\",\"symbol\":\"circle\"},\"mode\":\"markers\",\"name\":\"ridge\",\"orientation\":\"v\",\"showlegend\":true,\"x\":[1,4,6,8,9,12,15,17,48],\"xaxis\":\"x\",\"y\":[0.941536187469816,0.9409941650610278,0.9496654216087423,0.9447286771965799,0.9409646107264485,0.9487163410427379,0.9484723650795587,0.9290599304395448,0.9462837118756445],\"yaxis\":\"y\",\"type\":\"scatter\"},{\"customdata\":[[[[\"encoding_method\",\"onehot\"],[\"drop\",null],[\"algorithm\",\"xgb\"],[\"learning_rate\",0.008109762945206156],[\"max_depth\",8],[\"subsample\",0.25412177946288084],[\"colsample_bytree\",0.8323836551085584],[\"min_child_weight\",14]]],[[[\"encoding_method\",\"ordinal\"],[\"algorithm\",\"xgb\"],[\"learning_rate\",0.032033941123685704],[\"max_depth\",8],[\"subsample\",0.31715243333753884],[\"colsample_bytree\",0.4718623158670449],[\"min_child_weight\",3]]],[[[\"encoding_method\",\"ordinal\"],[\"algorithm\",\"xgb\"],[\"learning_rate\",0.06965466970009418],[\"max_depth\",1],[\"subsample\",0.05010358245636137],[\"colsample_bytree\",0.15232051378119216],[\"min_child_weight\",1]]],[[[\"encoding_method\",\"onehot\"],[\"drop\",\"first\"],[\"algorithm\",\"xgb\"],[\"learning_rate\",0.08220439882653297],[\"max_depth\",4],[\"subsample\",0.992959255189396],[\"colsample_bytree\",0.4994867069964619],[\"min_child_weight\",3]]],[[[\"encoding_method\",\"onehot\"],[\"drop\",null],[\"algorithm\",\"xgb\"],[\"learning_rate\",0.019377120220944576],[\"max_depth\",10],[\"subsample\",0.46239668623676833],[\"colsample_bytree\",0.1732285886295708],[\"min_child_weight\",8]]],[[[\"encoding_method\",\"ordinal\"],[\"algorithm\",\"xgb\"],[\"learning_rate\",0.0178640911978987],[\"max_depth\",5],[\"subsample\",0.4877377034325086],[\"colsample_bytree\",0.8150566494923497],[\"min_child_weight\",8]]]],\"hovertemplate\":\"Algorithm=xgb<br>Trial=%{x}<br>Score=%{y}<br>Parameters=%{customdata[0]}<extra></extra>\",\"legendgroup\":\"xgb\",\"marker\":{\"color\":\"#EF553B\",\"symbol\":\"circle\"},\"mode\":\"markers\",\"name\":\"xgb\",\"orientation\":\"v\",\"showlegend\":true,\"x\":[2,5,10,11,13,16],\"xaxis\":\"x\",\"y\":[0.9285478176802233,0.9497820754799964,0.9351626633625708,0.949042610965099,0.9475596824508937,0.9491089206793057],\"yaxis\":\"y\",\"type\":\"scatter\"},{\"customdata\":[[[[\"encoding_method\",\"ordinal\"],[\"algorithm\",\"lasso\"],[\"alpha\",0.000270946759005729]]],[[[\"encoding_method\",\"onehot\"],[\"drop\",null],[\"algorithm\",\"lasso\"],[\"alpha\",0.0001937566058344647]]],[[[\"encoding_method\",\"onehot\"],[\"drop\",\"first\"],[\"algorithm\",\"lasso\"],[\"alpha\",0.00014370764351178224]]],[[[\"encoding_method\",\"onehot\"],[\"drop\",\"first\"],[\"algorithm\",\"lasso\"],[\"alpha\",0.00010503528977982894]]],[[[\"encoding_method\",\"onehot\"],[\"drop\",\"first\"],[\"algorithm\",\"lasso\"],[\"alpha\",0.00010307489924535172]]],[[[\"encoding_method\",\"onehot\"],[\"drop\",\"first\"],[\"algorithm\",\"lasso\"],[\"alpha\",0.0005766860367084671]]],[[[\"encoding_method\",\"onehot\"],[\"drop\",\"first\"],[\"algorithm\",\"lasso\"],[\"alpha\",0.0006424048136654765]]],[[[\"encoding_method\",\"onehot\"],[\"drop\",\"first\"],[\"algorithm\",\"lasso\"],[\"alpha\",0.0012985375713217796]]],[[[\"encoding_method\",\"onehot\"],[\"drop\",\"first\"],[\"algorithm\",\"lasso\"],[\"alpha\",0.0016452801369435562]]],[[[\"encoding_method\",\"onehot\"],[\"drop\",\"first\"],[\"algorithm\",\"lasso\"],[\"alpha\",0.00035337134548415284]]],[[[\"encoding_method\",\"onehot\"],[\"drop\",null],[\"algorithm\",\"lasso\"],[\"alpha\",0.00048242681545758085]]],[[[\"encoding_method\",\"onehot\"],[\"drop\",null],[\"algorithm\",\"lasso\"],[\"alpha\",0.004535556300650929]]],[[[\"encoding_method\",\"onehot\"],[\"drop\",null],[\"algorithm\",\"lasso\"],[\"alpha\",0.00031183803482340484]]],[[[\"encoding_method\",\"onehot\"],[\"drop\",null],[\"algorithm\",\"lasso\"],[\"alpha\",0.00032766145860107354]]],[[[\"encoding_method\",\"onehot\"],[\"drop\",null],[\"algorithm\",\"lasso\"],[\"alpha\",0.0004080673456695109]]],[[[\"encoding_method\",\"onehot\"],[\"drop\",null],[\"algorithm\",\"lasso\"],[\"alpha\",0.0015149513243518243]]],[[[\"encoding_method\",\"onehot\"],[\"drop\",null],[\"algorithm\",\"lasso\"],[\"alpha\",0.0006052818719824472]]],[[[\"encoding_method\",\"onehot\"],[\"drop\",null],[\"algorithm\",\"lasso\"],[\"alpha\",0.0029846252676767014]]],[[[\"encoding_method\",\"onehot\"],[\"drop\",null],[\"algorithm\",\"lasso\"],[\"alpha\",0.00032262616678160194]]],[[[\"encoding_method\",\"onehot\"],[\"drop\",null],[\"algorithm\",\"lasso\"],[\"alpha\",0.00025364384645335333]]],[[[\"encoding_method\",\"onehot\"],[\"drop\",null],[\"algorithm\",\"lasso\"],[\"alpha\",0.0009916635931525163]]],[[[\"encoding_method\",\"onehot\"],[\"drop\",null],[\"algorithm\",\"lasso\"],[\"alpha\",0.0002256286270527517]]],[[[\"encoding_method\",\"onehot\"],[\"drop\",null],[\"algorithm\",\"lasso\"],[\"alpha\",0.00029966793095197283]]],[[[\"encoding_method\",\"onehot\"],[\"drop\",null],[\"algorithm\",\"lasso\"],[\"alpha\",0.00021181418968019384]]],[[[\"encoding_method\",\"onehot\"],[\"drop\",null],[\"algorithm\",\"lasso\"],[\"alpha\",0.000806358899192361]]],[[[\"encoding_method\",\"onehot\"],[\"drop\",null],[\"algorithm\",\"lasso\"],[\"alpha\",0.0003203849779983578]]],[[[\"encoding_method\",\"onehot\"],[\"drop\",null],[\"algorithm\",\"lasso\"],[\"alpha\",0.0027776514043226373]]],[[[\"encoding_method\",\"ordinal\"],[\"algorithm\",\"lasso\"],[\"alpha\",0.000357454554031268]]],[[[\"encoding_method\",\"onehot\"],[\"drop\",null],[\"algorithm\",\"lasso\"],[\"alpha\",0.022139014553658142]]]],\"hovertemplate\":\"Algorithm=lasso<br>Trial=%{x}<br>Score=%{y}<br>Parameters=%{customdata[0]}<extra></extra>\",\"legendgroup\":\"lasso\",\"marker\":{\"color\":\"#00cc96\",\"symbol\":\"circle\"},\"mode\":\"markers\",\"name\":\"lasso\",\"orientation\":\"v\",\"showlegend\":true,\"x\":[14,19,20,21,22,23,24,25,26,27,28,29,30,31,32,33,34,35,36,37,38,39,41,42,43,44,45,46,47],\"xaxis\":\"x\",\"y\":[0.9417265114376434,0.9504614188708388,0.9501693357611487,0.9499290186073521,0.9499064681108935,0.9501753732969276,0.9499846285115702,0.9461264337518518,0.9445517623887723,0.9505353444210884,0.9505663763636611,0.9405920223435604,0.9508112944045027,0.9508097752497846,0.9507107928753152,0.9459345441142546,0.9502570950406447,0.9185121733376093,0.9508112529617192,0.9507243809905146,0.9397479823709395,0.9506026293479263,0.9508109076255872,0.9505386980866041,0.9495085723743036,0.9508118371700821,0.918675505226825,0.9417680853543192,0.9027530685529814],\"yaxis\":\"y\",\"type\":\"scatter\"}],                        {\"template\":{\"data\":{\"histogram2dcontour\":[{\"type\":\"histogram2dcontour\",\"colorbar\":{\"outlinewidth\":0,\"ticks\":\"\"},\"colorscale\":[[0.0,\"#0d0887\"],[0.1111111111111111,\"#46039f\"],[0.2222222222222222,\"#7201a8\"],[0.3333333333333333,\"#9c179e\"],[0.4444444444444444,\"#bd3786\"],[0.5555555555555556,\"#d8576b\"],[0.6666666666666666,\"#ed7953\"],[0.7777777777777778,\"#fb9f3a\"],[0.8888888888888888,\"#fdca26\"],[1.0,\"#f0f921\"]]}],\"choropleth\":[{\"type\":\"choropleth\",\"colorbar\":{\"outlinewidth\":0,\"ticks\":\"\"}}],\"histogram2d\":[{\"type\":\"histogram2d\",\"colorbar\":{\"outlinewidth\":0,\"ticks\":\"\"},\"colorscale\":[[0.0,\"#0d0887\"],[0.1111111111111111,\"#46039f\"],[0.2222222222222222,\"#7201a8\"],[0.3333333333333333,\"#9c179e\"],[0.4444444444444444,\"#bd3786\"],[0.5555555555555556,\"#d8576b\"],[0.6666666666666666,\"#ed7953\"],[0.7777777777777778,\"#fb9f3a\"],[0.8888888888888888,\"#fdca26\"],[1.0,\"#f0f921\"]]}],\"heatmap\":[{\"type\":\"heatmap\",\"colorbar\":{\"outlinewidth\":0,\"ticks\":\"\"},\"colorscale\":[[0.0,\"#0d0887\"],[0.1111111111111111,\"#46039f\"],[0.2222222222222222,\"#7201a8\"],[0.3333333333333333,\"#9c179e\"],[0.4444444444444444,\"#bd3786\"],[0.5555555555555556,\"#d8576b\"],[0.6666666666666666,\"#ed7953\"],[0.7777777777777778,\"#fb9f3a\"],[0.8888888888888888,\"#fdca26\"],[1.0,\"#f0f921\"]]}],\"heatmapgl\":[{\"type\":\"heatmapgl\",\"colorbar\":{\"outlinewidth\":0,\"ticks\":\"\"},\"colorscale\":[[0.0,\"#0d0887\"],[0.1111111111111111,\"#46039f\"],[0.2222222222222222,\"#7201a8\"],[0.3333333333333333,\"#9c179e\"],[0.4444444444444444,\"#bd3786\"],[0.5555555555555556,\"#d8576b\"],[0.6666666666666666,\"#ed7953\"],[0.7777777777777778,\"#fb9f3a\"],[0.8888888888888888,\"#fdca26\"],[1.0,\"#f0f921\"]]}],\"contourcarpet\":[{\"type\":\"contourcarpet\",\"colorbar\":{\"outlinewidth\":0,\"ticks\":\"\"}}],\"contour\":[{\"type\":\"contour\",\"colorbar\":{\"outlinewidth\":0,\"ticks\":\"\"},\"colorscale\":[[0.0,\"#0d0887\"],[0.1111111111111111,\"#46039f\"],[0.2222222222222222,\"#7201a8\"],[0.3333333333333333,\"#9c179e\"],[0.4444444444444444,\"#bd3786\"],[0.5555555555555556,\"#d8576b\"],[0.6666666666666666,\"#ed7953\"],[0.7777777777777778,\"#fb9f3a\"],[0.8888888888888888,\"#fdca26\"],[1.0,\"#f0f921\"]]}],\"surface\":[{\"type\":\"surface\",\"colorbar\":{\"outlinewidth\":0,\"ticks\":\"\"},\"colorscale\":[[0.0,\"#0d0887\"],[0.1111111111111111,\"#46039f\"],[0.2222222222222222,\"#7201a8\"],[0.3333333333333333,\"#9c179e\"],[0.4444444444444444,\"#bd3786\"],[0.5555555555555556,\"#d8576b\"],[0.6666666666666666,\"#ed7953\"],[0.7777777777777778,\"#fb9f3a\"],[0.8888888888888888,\"#fdca26\"],[1.0,\"#f0f921\"]]}],\"mesh3d\":[{\"type\":\"mesh3d\",\"colorbar\":{\"outlinewidth\":0,\"ticks\":\"\"}}],\"scatter\":[{\"fillpattern\":{\"fillmode\":\"overlay\",\"size\":10,\"solidity\":0.2},\"type\":\"scatter\"}],\"parcoords\":[{\"type\":\"parcoords\",\"line\":{\"colorbar\":{\"outlinewidth\":0,\"ticks\":\"\"}}}],\"scatterpolargl\":[{\"type\":\"scatterpolargl\",\"marker\":{\"colorbar\":{\"outlinewidth\":0,\"ticks\":\"\"}}}],\"bar\":[{\"error_x\":{\"color\":\"#2a3f5f\"},\"error_y\":{\"color\":\"#2a3f5f\"},\"marker\":{\"line\":{\"color\":\"#E5ECF6\",\"width\":0.5},\"pattern\":{\"fillmode\":\"overlay\",\"size\":10,\"solidity\":0.2}},\"type\":\"bar\"}],\"scattergeo\":[{\"type\":\"scattergeo\",\"marker\":{\"colorbar\":{\"outlinewidth\":0,\"ticks\":\"\"}}}],\"scatterpolar\":[{\"type\":\"scatterpolar\",\"marker\":{\"colorbar\":{\"outlinewidth\":0,\"ticks\":\"\"}}}],\"histogram\":[{\"marker\":{\"pattern\":{\"fillmode\":\"overlay\",\"size\":10,\"solidity\":0.2}},\"type\":\"histogram\"}],\"scattergl\":[{\"type\":\"scattergl\",\"marker\":{\"colorbar\":{\"outlinewidth\":0,\"ticks\":\"\"}}}],\"scatter3d\":[{\"type\":\"scatter3d\",\"line\":{\"colorbar\":{\"outlinewidth\":0,\"ticks\":\"\"}},\"marker\":{\"colorbar\":{\"outlinewidth\":0,\"ticks\":\"\"}}}],\"scattermapbox\":[{\"type\":\"scattermapbox\",\"marker\":{\"colorbar\":{\"outlinewidth\":0,\"ticks\":\"\"}}}],\"scatterternary\":[{\"type\":\"scatterternary\",\"marker\":{\"colorbar\":{\"outlinewidth\":0,\"ticks\":\"\"}}}],\"scattercarpet\":[{\"type\":\"scattercarpet\",\"marker\":{\"colorbar\":{\"outlinewidth\":0,\"ticks\":\"\"}}}],\"carpet\":[{\"aaxis\":{\"endlinecolor\":\"#2a3f5f\",\"gridcolor\":\"white\",\"linecolor\":\"white\",\"minorgridcolor\":\"white\",\"startlinecolor\":\"#2a3f5f\"},\"baxis\":{\"endlinecolor\":\"#2a3f5f\",\"gridcolor\":\"white\",\"linecolor\":\"white\",\"minorgridcolor\":\"white\",\"startlinecolor\":\"#2a3f5f\"},\"type\":\"carpet\"}],\"table\":[{\"cells\":{\"fill\":{\"color\":\"#EBF0F8\"},\"line\":{\"color\":\"white\"}},\"header\":{\"fill\":{\"color\":\"#C8D4E3\"},\"line\":{\"color\":\"white\"}},\"type\":\"table\"}],\"barpolar\":[{\"marker\":{\"line\":{\"color\":\"#E5ECF6\",\"width\":0.5},\"pattern\":{\"fillmode\":\"overlay\",\"size\":10,\"solidity\":0.2}},\"type\":\"barpolar\"}],\"pie\":[{\"automargin\":true,\"type\":\"pie\"}]},\"layout\":{\"autotypenumbers\":\"strict\",\"colorway\":[\"#636efa\",\"#EF553B\",\"#00cc96\",\"#ab63fa\",\"#FFA15A\",\"#19d3f3\",\"#FF6692\",\"#B6E880\",\"#FF97FF\",\"#FECB52\"],\"font\":{\"color\":\"#2a3f5f\"},\"hovermode\":\"closest\",\"hoverlabel\":{\"align\":\"left\"},\"paper_bgcolor\":\"white\",\"plot_bgcolor\":\"#E5ECF6\",\"polar\":{\"bgcolor\":\"#E5ECF6\",\"angularaxis\":{\"gridcolor\":\"white\",\"linecolor\":\"white\",\"ticks\":\"\"},\"radialaxis\":{\"gridcolor\":\"white\",\"linecolor\":\"white\",\"ticks\":\"\"}},\"ternary\":{\"bgcolor\":\"#E5ECF6\",\"aaxis\":{\"gridcolor\":\"white\",\"linecolor\":\"white\",\"ticks\":\"\"},\"baxis\":{\"gridcolor\":\"white\",\"linecolor\":\"white\",\"ticks\":\"\"},\"caxis\":{\"gridcolor\":\"white\",\"linecolor\":\"white\",\"ticks\":\"\"}},\"coloraxis\":{\"colorbar\":{\"outlinewidth\":0,\"ticks\":\"\"}},\"colorscale\":{\"sequential\":[[0.0,\"#0d0887\"],[0.1111111111111111,\"#46039f\"],[0.2222222222222222,\"#7201a8\"],[0.3333333333333333,\"#9c179e\"],[0.4444444444444444,\"#bd3786\"],[0.5555555555555556,\"#d8576b\"],[0.6666666666666666,\"#ed7953\"],[0.7777777777777778,\"#fb9f3a\"],[0.8888888888888888,\"#fdca26\"],[1.0,\"#f0f921\"]],\"sequentialminus\":[[0.0,\"#0d0887\"],[0.1111111111111111,\"#46039f\"],[0.2222222222222222,\"#7201a8\"],[0.3333333333333333,\"#9c179e\"],[0.4444444444444444,\"#bd3786\"],[0.5555555555555556,\"#d8576b\"],[0.6666666666666666,\"#ed7953\"],[0.7777777777777778,\"#fb9f3a\"],[0.8888888888888888,\"#fdca26\"],[1.0,\"#f0f921\"]],\"diverging\":[[0,\"#8e0152\"],[0.1,\"#c51b7d\"],[0.2,\"#de77ae\"],[0.3,\"#f1b6da\"],[0.4,\"#fde0ef\"],[0.5,\"#f7f7f7\"],[0.6,\"#e6f5d0\"],[0.7,\"#b8e186\"],[0.8,\"#7fbc41\"],[0.9,\"#4d9221\"],[1,\"#276419\"]]},\"xaxis\":{\"gridcolor\":\"white\",\"linecolor\":\"white\",\"ticks\":\"\",\"title\":{\"standoff\":15},\"zerolinecolor\":\"white\",\"automargin\":true,\"zerolinewidth\":2},\"yaxis\":{\"gridcolor\":\"white\",\"linecolor\":\"white\",\"ticks\":\"\",\"title\":{\"standoff\":15},\"zerolinecolor\":\"white\",\"automargin\":true,\"zerolinewidth\":2},\"scene\":{\"xaxis\":{\"backgroundcolor\":\"#E5ECF6\",\"gridcolor\":\"white\",\"linecolor\":\"white\",\"showbackground\":true,\"ticks\":\"\",\"zerolinecolor\":\"white\",\"gridwidth\":2},\"yaxis\":{\"backgroundcolor\":\"#E5ECF6\",\"gridcolor\":\"white\",\"linecolor\":\"white\",\"showbackground\":true,\"ticks\":\"\",\"zerolinecolor\":\"white\",\"gridwidth\":2},\"zaxis\":{\"backgroundcolor\":\"#E5ECF6\",\"gridcolor\":\"white\",\"linecolor\":\"white\",\"showbackground\":true,\"ticks\":\"\",\"zerolinecolor\":\"white\",\"gridwidth\":2}},\"shapedefaults\":{\"line\":{\"color\":\"#2a3f5f\"}},\"annotationdefaults\":{\"arrowcolor\":\"#2a3f5f\",\"arrowhead\":0,\"arrowwidth\":1},\"geo\":{\"bgcolor\":\"white\",\"landcolor\":\"#E5ECF6\",\"subunitcolor\":\"white\",\"showland\":true,\"showlakes\":true,\"lakecolor\":\"white\"},\"title\":{\"x\":0.05},\"mapbox\":{\"style\":\"light\"}}},\"xaxis\":{\"anchor\":\"y\",\"domain\":[0.0,1.0],\"title\":{\"text\":\"Trial\"}},\"yaxis\":{\"anchor\":\"x\",\"domain\":[0.0,1.0],\"title\":{\"text\":\"Score\"}},\"legend\":{\"title\":{\"text\":\"Algorithm\"},\"tracegroupgap\":0},\"margin\":{\"t\":60},\"hoverlabel\":{\"font\":{\"size\":8,\"family\":\"Rockwell\"},\"bgcolor\":\"white\"}},                        {\"responsive\": true}                    ).then(function(){\n",
       "                            \n",
       "var gd = document.getElementById('c0627331-ee04-47b2-88d7-a296e2e6f973');\n",
       "var x = new MutationObserver(function (mutations, observer) {{\n",
       "        var display = window.getComputedStyle(gd).display;\n",
       "        if (!display || display === 'none') {{\n",
       "            console.log([gd, 'removed!']);\n",
       "            Plotly.purge(gd);\n",
       "            observer.disconnect();\n",
       "        }}\n",
       "}});\n",
       "\n",
       "// Listen for the removal of the full notebook cells\n",
       "var notebookContainer = gd.closest('#notebook-container');\n",
       "if (notebookContainer) {{\n",
       "    x.observe(notebookContainer, {childList: true});\n",
       "}}\n",
       "\n",
       "// Listen for the clearing of the current output cell\n",
       "var outputEl = gd.closest('.output');\n",
       "if (outputEl) {{\n",
       "    x.observe(outputEl, {childList: true});\n",
       "}}\n",
       "\n",
       "                        })                };                });            </script>        </div>"
      ]
     },
     "metadata": {},
     "output_type": "display_data"
    }
   ],
   "source": [
    "import plotly.express as px\n",
    "\n",
    "\n",
    "fig = px.scatter(df_optuna.loc[df_optuna.Score > .9], \n",
    "                 x=\"Trial\", \n",
    "                 y=\"Score\", \n",
    "                 color=\"Algorithm\",\n",
    "                 hover_data=['Parameters'])\n",
    "\n",
    "fig.update_layout(\n",
    "    hoverlabel=dict(\n",
    "        bgcolor=\"white\",\n",
    "        font_size=8,\n",
    "        font_family=\"Rockwell\"\n",
    "    )\n",
    ")\n",
    "\n",
    "fig.show()"
   ]
  }
 ],
 "metadata": {
  "kernelspec": {
   "display_name": "Python 3 (ipykernel)",
   "language": "python",
   "name": "python3"
  },
  "language_info": {
   "codemirror_mode": {
    "name": "ipython",
    "version": 3
   },
   "file_extension": ".py",
   "mimetype": "text/x-python",
   "name": "python",
   "nbconvert_exporter": "python",
   "pygments_lexer": "ipython3",
   "version": "3.11.5"
  }
 },
 "nbformat": 4,
 "nbformat_minor": 5
}
