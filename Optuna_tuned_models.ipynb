{
 "cells": [
  {
   "cell_type": "code",
   "execution_count": 2,
   "id": "5ffbaf4f",
   "metadata": {},
   "outputs": [],
   "source": [
    "import numpy as np\n",
    "import pandas as pd\n",
    "import xgboost as xgb\n",
    "from xgboost import XGBRegressor\n",
    "import matplotlib.pyplot as plt\n",
    "from sklearn.model_selection import train_test_split, GridSearchCV\n",
    "from sklearn.metrics import confusion_matrix, ConfusionMatrixDisplay, balanced_accuracy_score, roc_auc_score, make_scorer\n",
    "from sklearn.preprocessing import OneHotEncoder, StandardScaler\n",
    "from sklearn.pipeline import Pipeline\n",
    "from sklearn import compose, pipeline\n",
    "from sklearn.preprocessing import OneHotEncoder\n",
    "from sklearn.compose import ColumnTransformer\n",
    "from sklearn.compose import make_column_selector as selector\n",
    "from sklearn.preprocessing import OneHotEncoder, StandardScaler, OrdinalEncoder\n",
    "from sklearn.pipeline import Pipeline\n",
    "from sklearn import compose, pipeline\n",
    "from sklearn.model_selection import KFold\n",
    "from typing import Optional\n",
    "from sklearn.model_selection import cross_val_score, KFold\n",
    "from sklearn.metrics import roc_auc_score, make_scorer, r2_score\n",
    "from pandas import DataFrame, Series\n",
    "import numpy as np\n",
    "kf = KFold(n_splits=5, shuffle=True, random_state=42)\n",
    "import xgboost as xgb\n",
    "from xgboost import XGBRegressor\n",
    "import optuna\n",
    "from optuna import Trial\n",
    "from optuna import create_study\n",
    "from sklearn import compose\n",
    "from sklearn.model_selection import GridSearchCV\n",
    "from sklearn.linear_model import Lasso, Ridge, LinearRegression, ElasticNet\n",
    "from sklearn.ensemble import GradientBoostingRegressor, AdaBoostRegressor, RandomForestRegressor\n",
    "import plotly.express as px\n",
    "#website help from \n",
    "#https://medium.com/@walter_sperat/using-optuna-with-sklearn-the-right-way-part-1-6b4ad0ab2451"
   ]
  },
  {
   "cell_type": "code",
   "execution_count": 3,
   "id": "f9edb2d9",
   "metadata": {},
   "outputs": [],
   "source": [
    "df = pd.read_csv('dataframes/df_normal_quality.csv', index_col=0)\n",
    "y = df.SalePrice\n",
    "X = df.drop(['PID', 'SalePrice'], axis =1).copy()"
   ]
  },
  {
   "cell_type": "code",
   "execution_count": 4,
   "id": "a1b841c9",
   "metadata": {},
   "outputs": [],
   "source": [
    "from sklearn.preprocessing import OrdinalEncoder, OneHotEncoder\n",
    "#from category_encoders import WOEEncoder\n",
    "\n",
    "def instantiate_ordinal_encoder(trial: Trial)-> OrdinalEncoder:\n",
    "    params = {\n",
    "        'handle_unknown': \"use_encoded_value\", \n",
    "        'unknown_value': -1\n",
    "    }\n",
    "    \n",
    "    return OrdinalEncoder(**params)\n",
    "\n",
    "def instantiate_onehot_encoder(trial: Trial)-> OneHotEncoder:\n",
    "    params = {\n",
    "        'handle_unknown': 'ignore',\n",
    "        'drop': trial.suggest_categorical('drop', [None, 'first'])\n",
    "    }\n",
    "    \n",
    "    return OneHotEncoder(**params)\n",
    "    \n",
    "Encoder = (\n",
    "    OrdinalEncoder |\n",
    "    OneHotEncoder \n",
    "    )\n",
    "\n",
    "def instantiate_encoder (trial : Trial) -> Encoder:\n",
    "    encoding_method = trial.suggest_categorical(\n",
    "        'encoding_method', ['ordinal', 'onehot'])\n",
    "    if encoding_method =='ordinal':\n",
    "        encoder = instantiate_ordinal_encoder(trial)\n",
    "    elif encoding_method =='onehot':\n",
    "        encoder = instantiate_onehot_encoder(trial)\n",
    "    \n",
    "    return encoder\n",
    "\n",
    "from sklearn.preprocessing import StandardScaler, MinMaxScaler, MaxAbsScaler, RobustScaler\n",
    "\n",
    "Scaler = (\n",
    "  StandardScaler |\n",
    "  MinMaxScaler |\n",
    "  MaxAbsScaler |\n",
    "  RobustScaler\n",
    ")\n",
    "\n",
    "def instantiate_scaler(trial : Trial) -> Scaler:\n",
    "    method = trial.suggest_categorical(\n",
    "    'scaling_method', ['standard', 'minmax', 'maxabs', 'robust']\n",
    "    )\n",
    "    if method=='standard':\n",
    "        scaler = StandardScaler()\n",
    "    elif method=='minmax':\n",
    "        scaler = MinMaxScaler()\n",
    "    elif method=='maxabs':\n",
    "        scaler = MaxAbsScaler()\n",
    "    elif method=='robust':\n",
    "        scaler = RobustScaler()\n",
    "        \n",
    "    return scaler\n",
    "\n",
    "from sklearn.compose import ColumnTransformer\n",
    "from sklearn.pipeline import Pipeline\n",
    "\n",
    "def instantiate_processor(trial : Trial, \n",
    "                          numerical_columns : list[str], \n",
    "                          categorical_columns : list[str]) -> ColumnTransformer:\n",
    "    \n",
    "    numerical_pipeline = instantiate_scaler(trial)\n",
    "    categorical_pipeline = instantiate_encoder(trial)\n",
    "   # numerical_pipeline = StandardScaler()\n",
    "    #categorical_pipeline = OneHotEncoder(handle_unknown=\"ignore\", drop='first')\n",
    "    \n",
    "#     numerical_pipeline = instantiate_numerical_pipeline(trial)\n",
    "#     categorical_pipeline = instantiate_categorical_pipeline(trial)\n",
    "    \n",
    "    processor = ColumnTransformer([\n",
    "        ('numerical_pipeline', numerical_pipeline, numerical_columns),\n",
    "        ('categorical_pipeline', categorical_pipeline, categorical_columns)\n",
    "    ])\n",
    "    return processor\n",
    "\n",
    "def instantiate_processor_ordinal(trial : Trial, \n",
    "                          numerical_columns : list[str], \n",
    "                          categorical_columns : list[str]) -> ColumnTransformer:\n",
    "    \n",
    "    numerical_pipeline = instantiate_scaler(trial)\n",
    "    categorical_pipeline = instantiate_ordinal_encoder(trial)\n",
    "\n",
    "    processor = ColumnTransformer([\n",
    "        ('numerical_pipeline', numerical_pipeline, numerical_columns),\n",
    "        ('categorical_pipeline', categorical_pipeline, categorical_columns)\n",
    "    ])\n",
    "    return processor"
   ]
  },
  {
   "cell_type": "markdown",
   "id": "18d7540b",
   "metadata": {},
   "source": [
    "# Lasso"
   ]
  },
  {
   "cell_type": "code",
   "execution_count": 7,
   "id": "0045c708",
   "metadata": {},
   "outputs": [],
   "source": [
    "def instantiate_lasso(trial : Trial) -> Lasso:\n",
    "    params = {\n",
    "        \"alpha\": trial.suggest_float(\"alpha\", .00001, .001, log=True)\n",
    "    }\n",
    "\n",
    "    return Lasso(**params)\n",
    "\n",
    "def instantiate_model(trial : Trial, numerical_columns : list[str], \n",
    "                      categorical_columns : list[str]) -> Pipeline:\n",
    "    \n",
    "    processor = instantiate_processor(\n",
    "        trial, numerical_columns, categorical_columns\n",
    "    )\n",
    "    \n",
    "    learner = instantiate_lasso(trial)\n",
    "    \n",
    "    model_pipe = Pipeline([\n",
    "    ('processor', processor),\n",
    "    ('model', learner)\n",
    "    ])\n",
    "    \n",
    "    model = compose.TransformedTargetRegressor(regressor= model_pipe,\n",
    "                                                func=np.log, inverse_func=np.exp)\n",
    "    \n",
    "    return model\n",
    "\n",
    "def objective_lasso(trial : Trial, X : DataFrame,\n",
    "              y : np.ndarray | Series, \n",
    "              numerical_columns : Optional[list[str]]=None, \n",
    "              categorical_columns : Optional[list[str]]=None, \n",
    "              random_state : int=42) -> float:\n",
    "    \n",
    "    if numerical_columns is None:\n",
    "        numerical_columns = [\n",
    "            *X.select_dtypes(exclude=['object', 'category']).columns\n",
    "        ]\n",
    "    \n",
    "    if categorical_columns is None:\n",
    "        categorical_columns = [\n",
    "            *X.select_dtypes(include=['object', 'category']).columns\n",
    "        ]\n",
    "    \n",
    "    model = instantiate_model(trial, numerical_columns, categorical_columns)\n",
    "    kf = KFold(n_splits=5, shuffle=True, random_state=random_state)\n",
    "    r2 = make_scorer(r2_score)\n",
    "    scores = cross_val_score(model, X, y, scoring= r2, cv=kf)\n",
    "    \n",
    "    return np.min([np.mean(scores), np.median([scores])])"
   ]
  },
  {
   "cell_type": "code",
   "execution_count": 8,
   "id": "5bbca889",
   "metadata": {
    "scrolled": true
   },
   "outputs": [
    {
     "name": "stderr",
     "output_type": "stream",
     "text": [
      "[I 2024-07-25 10:58:23,794] A new study created in memory with name: optimization\n",
      "C:\\Users\\Natal\\anaconda3\\Lib\\site-packages\\sklearn\\linear_model\\_coordinate_descent.py:628: ConvergenceWarning: Objective did not converge. You might want to increase the number of iterations, check the scale of the features or consider increasing regularisation. Duality gap: 3.753e-02, tolerance: 2.415e-02\n",
      "  model = cd_fast.enet_coordinate_descent(\n",
      "C:\\Users\\Natal\\anaconda3\\Lib\\site-packages\\sklearn\\linear_model\\_coordinate_descent.py:628: ConvergenceWarning: Objective did not converge. You might want to increase the number of iterations, check the scale of the features or consider increasing regularisation. Duality gap: 3.144e-02, tolerance: 2.409e-02\n",
      "  model = cd_fast.enet_coordinate_descent(\n",
      "C:\\Users\\Natal\\anaconda3\\Lib\\site-packages\\sklearn\\linear_model\\_coordinate_descent.py:628: ConvergenceWarning: Objective did not converge. You might want to increase the number of iterations, check the scale of the features or consider increasing regularisation. Duality gap: 3.815e-02, tolerance: 2.445e-02\n",
      "  model = cd_fast.enet_coordinate_descent(\n",
      "[I 2024-07-25 10:58:24,796] Trial 0 finished with value: 0.9410964585788589 and parameters: {'scaling_method': 'minmax', 'encoding_method': 'ordinal', 'alpha': 1.6999779739443475e-05}. Best is trial 0 with value: 0.9410964585788589.\n",
      "[I 2024-07-25 10:58:25,219] Trial 1 finished with value: 0.9413211302238509 and parameters: {'scaling_method': 'standard', 'encoding_method': 'ordinal', 'alpha': 0.00037901740871573876}. Best is trial 1 with value: 0.9413211302238509.\n",
      "C:\\Users\\Natal\\anaconda3\\Lib\\site-packages\\sklearn\\preprocessing\\_encoders.py:227: UserWarning: Found unknown categories in columns [3, 10] during transform. These unknown categories will be encoded as all zeros\n",
      "  warnings.warn(\n",
      "C:\\Users\\Natal\\anaconda3\\Lib\\site-packages\\sklearn\\preprocessing\\_encoders.py:227: UserWarning: Found unknown categories in columns [3, 9, 14] during transform. These unknown categories will be encoded as all zeros\n",
      "  warnings.warn(\n",
      "C:\\Users\\Natal\\anaconda3\\Lib\\site-packages\\sklearn\\preprocessing\\_encoders.py:227: UserWarning: Found unknown categories in columns [5, 21] during transform. These unknown categories will be encoded as all zeros\n",
      "  warnings.warn(\n",
      "C:\\Users\\Natal\\anaconda3\\Lib\\site-packages\\sklearn\\preprocessing\\_encoders.py:227: UserWarning: Found unknown categories in columns [9, 21] during transform. These unknown categories will be encoded as all zeros\n",
      "  warnings.warn(\n",
      "C:\\Users\\Natal\\anaconda3\\Lib\\site-packages\\sklearn\\preprocessing\\_encoders.py:227: UserWarning: Found unknown categories in columns [0] during transform. These unknown categories will be encoded as all zeros\n",
      "  warnings.warn(\n",
      "[I 2024-07-25 10:58:25,831] Trial 2 finished with value: 0.9478957812069528 and parameters: {'scaling_method': 'robust', 'encoding_method': 'onehot', 'drop': 'first', 'alpha': 0.0009834045353742098}. Best is trial 2 with value: 0.9478957812069528.\n",
      "C:\\Users\\Natal\\anaconda3\\Lib\\site-packages\\sklearn\\linear_model\\_coordinate_descent.py:628: ConvergenceWarning: Objective did not converge. You might want to increase the number of iterations, check the scale of the features or consider increasing regularisation. Duality gap: 4.658e-02, tolerance: 2.415e-02\n",
      "  model = cd_fast.enet_coordinate_descent(\n",
      "C:\\Users\\Natal\\anaconda3\\Lib\\site-packages\\sklearn\\linear_model\\_coordinate_descent.py:628: ConvergenceWarning: Objective did not converge. You might want to increase the number of iterations, check the scale of the features or consider increasing regularisation. Duality gap: 4.051e-02, tolerance: 2.409e-02\n",
      "  model = cd_fast.enet_coordinate_descent(\n",
      "C:\\Users\\Natal\\anaconda3\\Lib\\site-packages\\sklearn\\linear_model\\_coordinate_descent.py:628: ConvergenceWarning: Objective did not converge. You might want to increase the number of iterations, check the scale of the features or consider increasing regularisation. Duality gap: 4.818e-02, tolerance: 2.445e-02\n",
      "  model = cd_fast.enet_coordinate_descent(\n",
      "[I 2024-07-25 10:58:28,246] Trial 3 finished with value: 0.9482369413368529 and parameters: {'scaling_method': 'minmax', 'encoding_method': 'onehot', 'drop': None, 'alpha': 2.5666965172816898e-05}. Best is trial 3 with value: 0.9482369413368529.\n",
      "C:\\Users\\Natal\\anaconda3\\Lib\\site-packages\\sklearn\\linear_model\\_coordinate_descent.py:628: ConvergenceWarning: Objective did not converge. You might want to increase the number of iterations, check the scale of the features or consider increasing regularisation. Duality gap: 3.077e-02, tolerance: 2.415e-02\n",
      "  model = cd_fast.enet_coordinate_descent(\n",
      "C:\\Users\\Natal\\anaconda3\\Lib\\site-packages\\sklearn\\linear_model\\_coordinate_descent.py:628: ConvergenceWarning: Objective did not converge. You might want to increase the number of iterations, check the scale of the features or consider increasing regularisation. Duality gap: 4.325e-02, tolerance: 2.409e-02\n",
      "  model = cd_fast.enet_coordinate_descent(\n",
      "C:\\Users\\Natal\\anaconda3\\Lib\\site-packages\\sklearn\\linear_model\\_coordinate_descent.py:628: ConvergenceWarning: Objective did not converge. You might want to increase the number of iterations, check the scale of the features or consider increasing regularisation. Duality gap: 3.560e-02, tolerance: 2.445e-02\n",
      "  model = cd_fast.enet_coordinate_descent(\n",
      "[I 2024-07-25 10:58:29,393] Trial 4 finished with value: 0.9410948061762172 and parameters: {'scaling_method': 'maxabs', 'encoding_method': 'ordinal', 'alpha': 1.0571302084059589e-05}. Best is trial 3 with value: 0.9482369413368529.\n",
      "C:\\Users\\Natal\\anaconda3\\Lib\\site-packages\\sklearn\\preprocessing\\_encoders.py:227: UserWarning: Found unknown categories in columns [3, 10] during transform. These unknown categories will be encoded as all zeros\n",
      "  warnings.warn(\n",
      "C:\\Users\\Natal\\anaconda3\\Lib\\site-packages\\sklearn\\preprocessing\\_encoders.py:227: UserWarning: Found unknown categories in columns [3, 9, 14] during transform. These unknown categories will be encoded as all zeros\n",
      "  warnings.warn(\n",
      "C:\\Users\\Natal\\anaconda3\\Lib\\site-packages\\sklearn\\preprocessing\\_encoders.py:227: UserWarning: Found unknown categories in columns [5, 21] during transform. These unknown categories will be encoded as all zeros\n",
      "  warnings.warn(\n",
      "C:\\Users\\Natal\\anaconda3\\Lib\\site-packages\\sklearn\\preprocessing\\_encoders.py:227: UserWarning: Found unknown categories in columns [9, 21] during transform. These unknown categories will be encoded as all zeros\n",
      "  warnings.warn(\n",
      "C:\\Users\\Natal\\anaconda3\\Lib\\site-packages\\sklearn\\preprocessing\\_encoders.py:227: UserWarning: Found unknown categories in columns [0] during transform. These unknown categories will be encoded as all zeros\n",
      "  warnings.warn(\n",
      "[I 2024-07-25 10:58:30,478] Trial 5 finished with value: 0.9504529057304483 and parameters: {'scaling_method': 'minmax', 'encoding_method': 'onehot', 'drop': 'first', 'alpha': 0.0001805843978097374}. Best is trial 5 with value: 0.9504529057304483.\n",
      "C:\\Users\\Natal\\anaconda3\\Lib\\site-packages\\sklearn\\preprocessing\\_encoders.py:227: UserWarning: Found unknown categories in columns [3, 10] during transform. These unknown categories will be encoded as all zeros\n",
      "  warnings.warn(\n",
      "C:\\Users\\Natal\\anaconda3\\Lib\\site-packages\\sklearn\\preprocessing\\_encoders.py:227: UserWarning: Found unknown categories in columns [3, 9, 14] during transform. These unknown categories will be encoded as all zeros\n",
      "  warnings.warn(\n",
      "C:\\Users\\Natal\\anaconda3\\Lib\\site-packages\\sklearn\\preprocessing\\_encoders.py:227: UserWarning: Found unknown categories in columns [5, 21] during transform. These unknown categories will be encoded as all zeros\n",
      "  warnings.warn(\n",
      "C:\\Users\\Natal\\anaconda3\\Lib\\site-packages\\sklearn\\preprocessing\\_encoders.py:227: UserWarning: Found unknown categories in columns [9, 21] during transform. These unknown categories will be encoded as all zeros\n",
      "  warnings.warn(\n",
      "C:\\Users\\Natal\\anaconda3\\Lib\\site-packages\\sklearn\\preprocessing\\_encoders.py:227: UserWarning: Found unknown categories in columns [0] during transform. These unknown categories will be encoded as all zeros\n",
      "  warnings.warn(\n",
      "[I 2024-07-25 10:58:31,063] Trial 6 finished with value: 0.9478855603121983 and parameters: {'scaling_method': 'robust', 'encoding_method': 'onehot', 'drop': 'first', 'alpha': 0.0009855589617302543}. Best is trial 5 with value: 0.9504529057304483.\n"
     ]
    },
    {
     "name": "stderr",
     "output_type": "stream",
     "text": [
      "[I 2024-07-25 10:58:31,975] Trial 7 finished with value: 0.9407264490840564 and parameters: {'scaling_method': 'maxabs', 'encoding_method': 'ordinal', 'alpha': 6.478886532606612e-05}. Best is trial 5 with value: 0.9504529057304483.\n",
      "C:\\Users\\Natal\\anaconda3\\Lib\\site-packages\\sklearn\\linear_model\\_coordinate_descent.py:628: ConvergenceWarning: Objective did not converge. You might want to increase the number of iterations, check the scale of the features or consider increasing regularisation. Duality gap: 4.093e-02, tolerance: 2.415e-02\n",
      "  model = cd_fast.enet_coordinate_descent(\n",
      "C:\\Users\\Natal\\anaconda3\\Lib\\site-packages\\sklearn\\linear_model\\_coordinate_descent.py:628: ConvergenceWarning: Objective did not converge. You might want to increase the number of iterations, check the scale of the features or consider increasing regularisation. Duality gap: 3.542e-02, tolerance: 2.409e-02\n",
      "  model = cd_fast.enet_coordinate_descent(\n",
      "C:\\Users\\Natal\\anaconda3\\Lib\\site-packages\\sklearn\\linear_model\\_coordinate_descent.py:628: ConvergenceWarning: Objective did not converge. You might want to increase the number of iterations, check the scale of the features or consider increasing regularisation. Duality gap: 4.238e-02, tolerance: 2.445e-02\n",
      "  model = cd_fast.enet_coordinate_descent(\n",
      "[I 2024-07-25 10:58:34,339] Trial 8 finished with value: 0.9478334867697619 and parameters: {'scaling_method': 'minmax', 'encoding_method': 'onehot', 'drop': None, 'alpha': 2.0334104634118778e-05}. Best is trial 5 with value: 0.9504529057304483.\n",
      "C:\\Users\\Natal\\anaconda3\\Lib\\site-packages\\sklearn\\linear_model\\_coordinate_descent.py:628: ConvergenceWarning: Objective did not converge. You might want to increase the number of iterations, check the scale of the features or consider increasing regularisation. Duality gap: 3.655e-02, tolerance: 2.415e-02\n",
      "  model = cd_fast.enet_coordinate_descent(\n",
      "C:\\Users\\Natal\\anaconda3\\Lib\\site-packages\\sklearn\\linear_model\\_coordinate_descent.py:628: ConvergenceWarning: Objective did not converge. You might want to increase the number of iterations, check the scale of the features or consider increasing regularisation. Duality gap: 3.863e-02, tolerance: 2.409e-02\n",
      "  model = cd_fast.enet_coordinate_descent(\n",
      "C:\\Users\\Natal\\anaconda3\\Lib\\site-packages\\sklearn\\linear_model\\_coordinate_descent.py:628: ConvergenceWarning: Objective did not converge. You might want to increase the number of iterations, check the scale of the features or consider increasing regularisation. Duality gap: 3.667e-02, tolerance: 2.445e-02\n",
      "  model = cd_fast.enet_coordinate_descent(\n",
      "[I 2024-07-25 10:58:37,348] Trial 9 finished with value: 0.9472192775906901 and parameters: {'scaling_method': 'maxabs', 'encoding_method': 'onehot', 'drop': None, 'alpha': 1.5865219618254177e-05}. Best is trial 5 with value: 0.9504529057304483.\n",
      "C:\\Users\\Natal\\anaconda3\\Lib\\site-packages\\sklearn\\preprocessing\\_encoders.py:227: UserWarning: Found unknown categories in columns [3, 10] during transform. These unknown categories will be encoded as all zeros\n",
      "  warnings.warn(\n",
      "C:\\Users\\Natal\\anaconda3\\Lib\\site-packages\\sklearn\\preprocessing\\_encoders.py:227: UserWarning: Found unknown categories in columns [3, 9, 14] during transform. These unknown categories will be encoded as all zeros\n",
      "  warnings.warn(\n",
      "C:\\Users\\Natal\\anaconda3\\Lib\\site-packages\\sklearn\\preprocessing\\_encoders.py:227: UserWarning: Found unknown categories in columns [5, 21] during transform. These unknown categories will be encoded as all zeros\n",
      "  warnings.warn(\n",
      "C:\\Users\\Natal\\anaconda3\\Lib\\site-packages\\sklearn\\preprocessing\\_encoders.py:227: UserWarning: Found unknown categories in columns [9, 21] during transform. These unknown categories will be encoded as all zeros\n",
      "  warnings.warn(\n",
      "C:\\Users\\Natal\\anaconda3\\Lib\\site-packages\\sklearn\\preprocessing\\_encoders.py:227: UserWarning: Found unknown categories in columns [0] during transform. These unknown categories will be encoded as all zeros\n",
      "  warnings.warn(\n",
      "[I 2024-07-25 10:58:38,234] Trial 10 finished with value: 0.9499707550376874 and parameters: {'scaling_method': 'standard', 'encoding_method': 'onehot', 'drop': 'first', 'alpha': 0.00016871426960348698}. Best is trial 5 with value: 0.9504529057304483.\n",
      "C:\\Users\\Natal\\anaconda3\\Lib\\site-packages\\sklearn\\preprocessing\\_encoders.py:227: UserWarning: Found unknown categories in columns [3, 10] during transform. These unknown categories will be encoded as all zeros\n",
      "  warnings.warn(\n",
      "C:\\Users\\Natal\\anaconda3\\Lib\\site-packages\\sklearn\\preprocessing\\_encoders.py:227: UserWarning: Found unknown categories in columns [3, 9, 14] during transform. These unknown categories will be encoded as all zeros\n",
      "  warnings.warn(\n",
      "C:\\Users\\Natal\\anaconda3\\Lib\\site-packages\\sklearn\\preprocessing\\_encoders.py:227: UserWarning: Found unknown categories in columns [5, 21] during transform. These unknown categories will be encoded as all zeros\n",
      "  warnings.warn(\n",
      "C:\\Users\\Natal\\anaconda3\\Lib\\site-packages\\sklearn\\preprocessing\\_encoders.py:227: UserWarning: Found unknown categories in columns [9, 21] during transform. These unknown categories will be encoded as all zeros\n",
      "  warnings.warn(\n",
      "C:\\Users\\Natal\\anaconda3\\Lib\\site-packages\\sklearn\\preprocessing\\_encoders.py:227: UserWarning: Found unknown categories in columns [0] during transform. These unknown categories will be encoded as all zeros\n",
      "  warnings.warn(\n",
      "[I 2024-07-25 10:58:39,088] Trial 11 finished with value: 0.9499883195294488 and parameters: {'scaling_method': 'standard', 'encoding_method': 'onehot', 'drop': 'first', 'alpha': 0.00018618022287801223}. Best is trial 5 with value: 0.9504529057304483.\n",
      "C:\\Users\\Natal\\anaconda3\\Lib\\site-packages\\sklearn\\preprocessing\\_encoders.py:227: UserWarning: Found unknown categories in columns [3, 10] during transform. These unknown categories will be encoded as all zeros\n",
      "  warnings.warn(\n",
      "C:\\Users\\Natal\\anaconda3\\Lib\\site-packages\\sklearn\\preprocessing\\_encoders.py:227: UserWarning: Found unknown categories in columns [3, 9, 14] during transform. These unknown categories will be encoded as all zeros\n",
      "  warnings.warn(\n",
      "C:\\Users\\Natal\\anaconda3\\Lib\\site-packages\\sklearn\\preprocessing\\_encoders.py:227: UserWarning: Found unknown categories in columns [5, 21] during transform. These unknown categories will be encoded as all zeros\n",
      "  warnings.warn(\n",
      "C:\\Users\\Natal\\anaconda3\\Lib\\site-packages\\sklearn\\preprocessing\\_encoders.py:227: UserWarning: Found unknown categories in columns [9, 21] during transform. These unknown categories will be encoded as all zeros\n",
      "  warnings.warn(\n",
      "C:\\Users\\Natal\\anaconda3\\Lib\\site-packages\\sklearn\\preprocessing\\_encoders.py:227: UserWarning: Found unknown categories in columns [0] during transform. These unknown categories will be encoded as all zeros\n",
      "  warnings.warn(\n",
      "[I 2024-07-25 10:58:40,116] Trial 12 finished with value: 0.9498823251556082 and parameters: {'scaling_method': 'standard', 'encoding_method': 'onehot', 'drop': 'first', 'alpha': 0.00013628818329266117}. Best is trial 5 with value: 0.9504529057304483.\n",
      "C:\\Users\\Natal\\anaconda3\\Lib\\site-packages\\sklearn\\preprocessing\\_encoders.py:227: UserWarning: Found unknown categories in columns [3, 10] during transform. These unknown categories will be encoded as all zeros\n",
      "  warnings.warn(\n",
      "C:\\Users\\Natal\\anaconda3\\Lib\\site-packages\\sklearn\\preprocessing\\_encoders.py:227: UserWarning: Found unknown categories in columns [3, 9, 14] during transform. These unknown categories will be encoded as all zeros\n",
      "  warnings.warn(\n",
      "C:\\Users\\Natal\\anaconda3\\Lib\\site-packages\\sklearn\\preprocessing\\_encoders.py:227: UserWarning: Found unknown categories in columns [5, 21] during transform. These unknown categories will be encoded as all zeros\n",
      "  warnings.warn(\n",
      "C:\\Users\\Natal\\anaconda3\\Lib\\site-packages\\sklearn\\preprocessing\\_encoders.py:227: UserWarning: Found unknown categories in columns [9, 21] during transform. These unknown categories will be encoded as all zeros\n",
      "  warnings.warn(\n",
      "C:\\Users\\Natal\\anaconda3\\Lib\\site-packages\\sklearn\\preprocessing\\_encoders.py:227: UserWarning: Found unknown categories in columns [0] during transform. These unknown categories will be encoded as all zeros\n",
      "  warnings.warn(\n",
      "[I 2024-07-25 10:58:40,786] Trial 13 finished with value: 0.9499945032697173 and parameters: {'scaling_method': 'standard', 'encoding_method': 'onehot', 'drop': 'first', 'alpha': 0.0003290802983260909}. Best is trial 5 with value: 0.9504529057304483.\n"
     ]
    },
    {
     "name": "stderr",
     "output_type": "stream",
     "text": [
      "C:\\Users\\Natal\\anaconda3\\Lib\\site-packages\\sklearn\\preprocessing\\_encoders.py:227: UserWarning: Found unknown categories in columns [3, 10] during transform. These unknown categories will be encoded as all zeros\n",
      "  warnings.warn(\n",
      "C:\\Users\\Natal\\anaconda3\\Lib\\site-packages\\sklearn\\preprocessing\\_encoders.py:227: UserWarning: Found unknown categories in columns [3, 9, 14] during transform. These unknown categories will be encoded as all zeros\n",
      "  warnings.warn(\n",
      "C:\\Users\\Natal\\anaconda3\\Lib\\site-packages\\sklearn\\preprocessing\\_encoders.py:227: UserWarning: Found unknown categories in columns [5, 21] during transform. These unknown categories will be encoded as all zeros\n",
      "  warnings.warn(\n",
      "C:\\Users\\Natal\\anaconda3\\Lib\\site-packages\\sklearn\\preprocessing\\_encoders.py:227: UserWarning: Found unknown categories in columns [9, 21] during transform. These unknown categories will be encoded as all zeros\n",
      "  warnings.warn(\n",
      "C:\\Users\\Natal\\anaconda3\\Lib\\site-packages\\sklearn\\preprocessing\\_encoders.py:227: UserWarning: Found unknown categories in columns [0] during transform. These unknown categories will be encoded as all zeros\n",
      "  warnings.warn(\n",
      "[I 2024-07-25 10:58:41,543] Trial 14 finished with value: 0.9488203325381146 and parameters: {'scaling_method': 'minmax', 'encoding_method': 'onehot', 'drop': 'first', 'alpha': 0.0004621217221409863}. Best is trial 5 with value: 0.9504529057304483.\n",
      "C:\\Users\\Natal\\anaconda3\\Lib\\site-packages\\sklearn\\preprocessing\\_encoders.py:227: UserWarning: Found unknown categories in columns [3, 10] during transform. These unknown categories will be encoded as all zeros\n",
      "  warnings.warn(\n",
      "C:\\Users\\Natal\\anaconda3\\Lib\\site-packages\\sklearn\\preprocessing\\_encoders.py:227: UserWarning: Found unknown categories in columns [3, 9, 14] during transform. These unknown categories will be encoded as all zeros\n",
      "  warnings.warn(\n",
      "C:\\Users\\Natal\\anaconda3\\Lib\\site-packages\\sklearn\\preprocessing\\_encoders.py:227: UserWarning: Found unknown categories in columns [5, 21] during transform. These unknown categories will be encoded as all zeros\n",
      "  warnings.warn(\n",
      "C:\\Users\\Natal\\anaconda3\\Lib\\site-packages\\sklearn\\preprocessing\\_encoders.py:227: UserWarning: Found unknown categories in columns [9, 21] during transform. These unknown categories will be encoded as all zeros\n",
      "  warnings.warn(\n",
      "C:\\Users\\Natal\\anaconda3\\Lib\\site-packages\\sklearn\\preprocessing\\_encoders.py:227: UserWarning: Found unknown categories in columns [0] during transform. These unknown categories will be encoded as all zeros\n",
      "  warnings.warn(\n",
      "[I 2024-07-25 10:58:43,435] Trial 15 finished with value: 0.9487012371351049 and parameters: {'scaling_method': 'standard', 'encoding_method': 'onehot', 'drop': 'first', 'alpha': 5.201737402388417e-05}. Best is trial 5 with value: 0.9504529057304483.\n",
      "C:\\Users\\Natal\\anaconda3\\Lib\\site-packages\\sklearn\\preprocessing\\_encoders.py:227: UserWarning: Found unknown categories in columns [3, 10] during transform. These unknown categories will be encoded as all zeros\n",
      "  warnings.warn(\n",
      "C:\\Users\\Natal\\anaconda3\\Lib\\site-packages\\sklearn\\preprocessing\\_encoders.py:227: UserWarning: Found unknown categories in columns [3, 9, 14] during transform. These unknown categories will be encoded as all zeros\n",
      "  warnings.warn(\n",
      "C:\\Users\\Natal\\anaconda3\\Lib\\site-packages\\sklearn\\preprocessing\\_encoders.py:227: UserWarning: Found unknown categories in columns [5, 21] during transform. These unknown categories will be encoded as all zeros\n",
      "  warnings.warn(\n",
      "C:\\Users\\Natal\\anaconda3\\Lib\\site-packages\\sklearn\\preprocessing\\_encoders.py:227: UserWarning: Found unknown categories in columns [9, 21] during transform. These unknown categories will be encoded as all zeros\n",
      "  warnings.warn(\n",
      "C:\\Users\\Natal\\anaconda3\\Lib\\site-packages\\sklearn\\preprocessing\\_encoders.py:227: UserWarning: Found unknown categories in columns [0] during transform. These unknown categories will be encoded as all zeros\n",
      "  warnings.warn(\n",
      "[I 2024-07-25 10:58:44,168] Trial 16 finished with value: 0.9498084651685395 and parameters: {'scaling_method': 'minmax', 'encoding_method': 'onehot', 'drop': 'first', 'alpha': 0.0003580972432190157}. Best is trial 5 with value: 0.9504529057304483.\n",
      "C:\\Users\\Natal\\anaconda3\\Lib\\site-packages\\sklearn\\preprocessing\\_encoders.py:227: UserWarning: Found unknown categories in columns [3, 10] during transform. These unknown categories will be encoded as all zeros\n",
      "  warnings.warn(\n",
      "C:\\Users\\Natal\\anaconda3\\Lib\\site-packages\\sklearn\\preprocessing\\_encoders.py:227: UserWarning: Found unknown categories in columns [3, 9, 14] during transform. These unknown categories will be encoded as all zeros\n",
      "  warnings.warn(\n",
      "C:\\Users\\Natal\\anaconda3\\Lib\\site-packages\\sklearn\\preprocessing\\_encoders.py:227: UserWarning: Found unknown categories in columns [5, 21] during transform. These unknown categories will be encoded as all zeros\n",
      "  warnings.warn(\n",
      "C:\\Users\\Natal\\anaconda3\\Lib\\site-packages\\sklearn\\preprocessing\\_encoders.py:227: UserWarning: Found unknown categories in columns [9, 21] during transform. These unknown categories will be encoded as all zeros\n",
      "  warnings.warn(\n",
      "C:\\Users\\Natal\\anaconda3\\Lib\\site-packages\\sklearn\\preprocessing\\_encoders.py:227: UserWarning: Found unknown categories in columns [0] during transform. These unknown categories will be encoded as all zeros\n",
      "  warnings.warn(\n",
      "[I 2024-07-25 10:58:45,541] Trial 17 finished with value: 0.9494715788682795 and parameters: {'scaling_method': 'robust', 'encoding_method': 'onehot', 'drop': 'first', 'alpha': 7.386985740718379e-05}. Best is trial 5 with value: 0.9504529057304483.\n",
      "[I 2024-07-25 10:58:46,035] Trial 18 finished with value: 0.941345031054507 and parameters: {'scaling_method': 'standard', 'encoding_method': 'ordinal', 'alpha': 0.0002485576296032603}. Best is trial 5 with value: 0.9504529057304483.\n",
      "[I 2024-07-25 10:58:47,507] Trial 19 finished with value: 0.9503137205510633 and parameters: {'scaling_method': 'minmax', 'encoding_method': 'onehot', 'drop': None, 'alpha': 0.00010584000640728798}. Best is trial 5 with value: 0.9504529057304483.\n",
      "[I 2024-07-25 10:58:49,760] Trial 20 finished with value: 0.9491341280244316 and parameters: {'scaling_method': 'minmax', 'encoding_method': 'onehot', 'drop': None, 'alpha': 4.4256477240802484e-05}. Best is trial 5 with value: 0.9504529057304483.\n",
      "[I 2024-07-25 10:58:51,260] Trial 21 finished with value: 0.9504139239048403 and parameters: {'scaling_method': 'minmax', 'encoding_method': 'onehot', 'drop': None, 'alpha': 0.00011995377585522929}. Best is trial 5 with value: 0.9504529057304483.\n",
      "[I 2024-07-25 10:58:52,854] Trial 22 finished with value: 0.9503000942239881 and parameters: {'scaling_method': 'minmax', 'encoding_method': 'onehot', 'drop': None, 'alpha': 0.00010409204132520336}. Best is trial 5 with value: 0.9504529057304483.\n",
      "[I 2024-07-25 10:58:54,571] Trial 23 finished with value: 0.9502787887278595 and parameters: {'scaling_method': 'minmax', 'encoding_method': 'onehot', 'drop': None, 'alpha': 0.00010122742224900169}. Best is trial 5 with value: 0.9504529057304483.\n",
      "C:\\Users\\Natal\\anaconda3\\Lib\\site-packages\\sklearn\\linear_model\\_coordinate_descent.py:628: ConvergenceWarning: Objective did not converge. You might want to increase the number of iterations, check the scale of the features or consider increasing regularisation. Duality gap: 2.721e-02, tolerance: 2.383e-02\n",
      "  model = cd_fast.enet_coordinate_descent(\n",
      "C:\\Users\\Natal\\anaconda3\\Lib\\site-packages\\sklearn\\linear_model\\_coordinate_descent.py:628: ConvergenceWarning: Objective did not converge. You might want to increase the number of iterations, check the scale of the features or consider increasing regularisation. Duality gap: 5.091e-02, tolerance: 2.415e-02\n",
      "  model = cd_fast.enet_coordinate_descent(\n",
      "[I 2024-07-25 10:58:57,199] Trial 24 finished with value: 0.9487211677248805 and parameters: {'scaling_method': 'minmax', 'encoding_method': 'onehot', 'drop': None, 'alpha': 3.461610229251749e-05}. Best is trial 5 with value: 0.9504529057304483.\n",
      "[I 2024-07-25 10:58:58,584] Trial 25 finished with value: 0.9504619036661117 and parameters: {'scaling_method': 'minmax', 'encoding_method': 'onehot', 'drop': None, 'alpha': 0.0001326221634647077}. Best is trial 25 with value: 0.9504619036661117.\n"
     ]
    },
    {
     "name": "stderr",
     "output_type": "stream",
     "text": [
      "[I 2024-07-25 10:58:59,168] Trial 26 finished with value: 0.9417441538370372 and parameters: {'scaling_method': 'minmax', 'encoding_method': 'ordinal', 'alpha': 0.0002350651207763719}. Best is trial 25 with value: 0.9504619036661117.\n",
      "[I 2024-07-25 10:58:59,817] Trial 27 finished with value: 0.946902621321246 and parameters: {'scaling_method': 'minmax', 'encoding_method': 'onehot', 'drop': None, 'alpha': 0.0006324653594778544}. Best is trial 25 with value: 0.9504619036661117.\n",
      "[I 2024-07-25 10:59:01,293] Trial 28 finished with value: 0.9504825674291144 and parameters: {'scaling_method': 'minmax', 'encoding_method': 'onehot', 'drop': None, 'alpha': 0.00013964514205982436}. Best is trial 28 with value: 0.9504825674291144.\n",
      "[I 2024-07-25 10:59:02,207] Trial 29 finished with value: 0.9416691062939966 and parameters: {'scaling_method': 'minmax', 'encoding_method': 'ordinal', 'alpha': 7.543026208387515e-05}. Best is trial 28 with value: 0.9504825674291144.\n",
      "[I 2024-07-25 10:59:03,458] Trial 30 finished with value: 0.9505232948141739 and parameters: {'scaling_method': 'minmax', 'encoding_method': 'onehot', 'drop': None, 'alpha': 0.00017108314988052164}. Best is trial 30 with value: 0.9505232948141739.\n",
      "[I 2024-07-25 10:59:04,718] Trial 31 finished with value: 0.950515316782826 and parameters: {'scaling_method': 'minmax', 'encoding_method': 'onehot', 'drop': None, 'alpha': 0.00016909999079975417}. Best is trial 30 with value: 0.9505232948141739.\n",
      "[I 2024-07-25 10:59:05,697] Trial 32 finished with value: 0.9506150928524473 and parameters: {'scaling_method': 'minmax', 'encoding_method': 'onehot', 'drop': None, 'alpha': 0.00025670123034805505}. Best is trial 32 with value: 0.9506150928524473.\n",
      "[I 2024-07-25 10:59:06,706] Trial 33 finished with value: 0.9506302634672545 and parameters: {'scaling_method': 'minmax', 'encoding_method': 'onehot', 'drop': None, 'alpha': 0.00024546965515418747}. Best is trial 33 with value: 0.9506302634672545.\n",
      "[I 2024-07-25 10:59:07,372] Trial 34 finished with value: 0.9505027302461974 and parameters: {'scaling_method': 'robust', 'encoding_method': 'onehot', 'drop': None, 'alpha': 0.0005086212577894232}. Best is trial 33 with value: 0.9506302634672545.\n",
      "[I 2024-07-25 10:59:08,003] Trial 35 finished with value: 0.9377227091518918 and parameters: {'scaling_method': 'maxabs', 'encoding_method': 'ordinal', 'alpha': 0.0002645324597600693}. Best is trial 33 with value: 0.9506302634672545.\n",
      "[I 2024-07-25 10:59:09,195] Trial 36 finished with value: 0.950632762387974 and parameters: {'scaling_method': 'minmax', 'encoding_method': 'onehot', 'drop': None, 'alpha': 0.00020881928921946346}. Best is trial 36 with value: 0.950632762387974.\n",
      "[I 2024-07-25 10:59:09,723] Trial 37 finished with value: 0.9464551863316732 and parameters: {'scaling_method': 'minmax', 'encoding_method': 'onehot', 'drop': None, 'alpha': 0.0006715888395721741}. Best is trial 36 with value: 0.950632762387974.\n",
      "[I 2024-07-25 10:59:10,579] Trial 38 finished with value: 0.9505754196303947 and parameters: {'scaling_method': 'robust', 'encoding_method': 'onehot', 'drop': None, 'alpha': 0.0002194422481917491}. Best is trial 36 with value: 0.950632762387974.\n",
      "[I 2024-07-25 10:59:11,101] Trial 39 finished with value: 0.9417185908920136 and parameters: {'scaling_method': 'robust', 'encoding_method': 'ordinal', 'alpha': 0.0002326463423086296}. Best is trial 36 with value: 0.950632762387974.\n",
      "[I 2024-07-25 10:59:11,814] Trial 40 finished with value: 0.9508123081664767 and parameters: {'scaling_method': 'robust', 'encoding_method': 'onehot', 'drop': None, 'alpha': 0.0003064569186647933}. Best is trial 40 with value: 0.9508123081664767.\n",
      "[I 2024-07-25 10:59:12,552] Trial 41 finished with value: 0.9508106262650469 and parameters: {'scaling_method': 'robust', 'encoding_method': 'onehot', 'drop': None, 'alpha': 0.0003127497096732443}. Best is trial 40 with value: 0.9508123081664767.\n",
      "[I 2024-07-25 10:59:13,338] Trial 42 finished with value: 0.9508124507938893 and parameters: {'scaling_method': 'robust', 'encoding_method': 'onehot', 'drop': None, 'alpha': 0.0003050192339312437}. Best is trial 42 with value: 0.9508124507938893.\n",
      "[I 2024-07-25 10:59:14,111] Trial 43 finished with value: 0.9508090778208643 and parameters: {'scaling_method': 'robust', 'encoding_method': 'onehot', 'drop': None, 'alpha': 0.0003296946939111782}. Best is trial 42 with value: 0.9508124507938893.\n",
      "[I 2024-07-25 10:59:14,780] Trial 44 finished with value: 0.950650579140838 and parameters: {'scaling_method': 'robust', 'encoding_method': 'onehot', 'drop': None, 'alpha': 0.0004417118901633665}. Best is trial 42 with value: 0.9508124507938893.\n",
      "[I 2024-07-25 10:59:15,445] Trial 45 finished with value: 0.9494564060785707 and parameters: {'scaling_method': 'robust', 'encoding_method': 'onehot', 'drop': None, 'alpha': 0.0008171454475088264}. Best is trial 42 with value: 0.9508124507938893.\n",
      "[I 2024-07-25 10:59:16,118] Trial 46 finished with value: 0.9505752669592871 and parameters: {'scaling_method': 'robust', 'encoding_method': 'onehot', 'drop': None, 'alpha': 0.0004785517806513343}. Best is trial 42 with value: 0.9508124507938893.\n",
      "[I 2024-07-25 10:59:16,777] Trial 47 finished with value: 0.9507381964623723 and parameters: {'scaling_method': 'robust', 'encoding_method': 'onehot', 'drop': None, 'alpha': 0.0003899383411694721}. Best is trial 42 with value: 0.9508124507938893.\n",
      "[I 2024-07-25 10:59:17,541] Trial 48 finished with value: 0.9508117368547238 and parameters: {'scaling_method': 'robust', 'encoding_method': 'onehot', 'drop': None, 'alpha': 0.0003101183042511032}. Best is trial 42 with value: 0.9508124507938893.\n",
      "[I 2024-07-25 10:59:18,274] Trial 49 finished with value: 0.9508112262498137 and parameters: {'scaling_method': 'robust', 'encoding_method': 'onehot', 'drop': None, 'alpha': 0.0002981174360914308}. Best is trial 42 with value: 0.9508124507938893.\n",
      "[I 2024-07-25 10:59:18,973] Trial 50 finished with value: 0.941741860252935 and parameters: {'scaling_method': 'robust', 'encoding_method': 'ordinal', 'alpha': 0.00029627581880223487}. Best is trial 42 with value: 0.9508124507938893.\n",
      "[I 2024-07-25 10:59:19,798] Trial 51 finished with value: 0.950810619697387 and parameters: {'scaling_method': 'robust', 'encoding_method': 'onehot', 'drop': None, 'alpha': 0.00031272068270660967}. Best is trial 42 with value: 0.9508124507938893.\n",
      "[I 2024-07-25 10:59:20,421] Trial 52 finished with value: 0.9503421330671452 and parameters: {'scaling_method': 'robust', 'encoding_method': 'onehot', 'drop': None, 'alpha': 0.0005736610727316462}. Best is trial 42 with value: 0.9508124507938893.\n",
      "[I 2024-07-25 10:59:21,143] Trial 53 finished with value: 0.9507324619192833 and parameters: {'scaling_method': 'robust', 'encoding_method': 'onehot', 'drop': None, 'alpha': 0.0003941206582719486}. Best is trial 42 with value: 0.9508124507938893.\n",
      "[I 2024-07-25 10:59:21,948] Trial 54 finished with value: 0.9508076840928542 and parameters: {'scaling_method': 'robust', 'encoding_method': 'onehot', 'drop': None, 'alpha': 0.0003329406332515926}. Best is trial 42 with value: 0.9508124507938893.\n",
      "[I 2024-07-25 10:59:22,922] Trial 55 finished with value: 0.9507972897245489 and parameters: {'scaling_method': 'robust', 'encoding_method': 'onehot', 'drop': None, 'alpha': 0.00028132924126185015}. Best is trial 42 with value: 0.9508124507938893.\n",
      "[I 2024-07-25 10:59:23,570] Trial 56 finished with value: 0.9497202652046113 and parameters: {'scaling_method': 'robust', 'encoding_method': 'onehot', 'drop': None, 'alpha': 0.0007572874863850926}. Best is trial 42 with value: 0.9508124507938893.\n",
      "[I 2024-07-25 10:59:24,551] Trial 57 finished with value: 0.9504710033792684 and parameters: {'scaling_method': 'robust', 'encoding_method': 'onehot', 'drop': None, 'alpha': 0.00019611906058949062}. Best is trial 42 with value: 0.9508124507938893.\n",
      "[I 2024-07-25 10:59:25,648] Trial 58 finished with value: 0.9469528084713353 and parameters: {'scaling_method': 'maxabs', 'encoding_method': 'onehot', 'drop': None, 'alpha': 0.00040993915334869226}. Best is trial 42 with value: 0.9508124507938893.\n",
      "C:\\Users\\Natal\\anaconda3\\Lib\\site-packages\\sklearn\\linear_model\\_coordinate_descent.py:628: ConvergenceWarning: Objective did not converge. You might want to increase the number of iterations, check the scale of the features or consider increasing regularisation. Duality gap: 5.010e+00, tolerance: 2.383e-02\n",
      "  model = cd_fast.enet_coordinate_descent(\n"
     ]
    },
    {
     "name": "stderr",
     "output_type": "stream",
     "text": [
      "C:\\Users\\Natal\\anaconda3\\Lib\\site-packages\\sklearn\\linear_model\\_coordinate_descent.py:628: ConvergenceWarning: Objective did not converge. You might want to increase the number of iterations, check the scale of the features or consider increasing regularisation. Duality gap: 5.254e+00, tolerance: 2.345e-02\n",
      "  model = cd_fast.enet_coordinate_descent(\n",
      "C:\\Users\\Natal\\anaconda3\\Lib\\site-packages\\sklearn\\linear_model\\_coordinate_descent.py:628: ConvergenceWarning: Objective did not converge. You might want to increase the number of iterations, check the scale of the features or consider increasing regularisation. Duality gap: 5.568e+00, tolerance: 2.415e-02\n",
      "  model = cd_fast.enet_coordinate_descent(\n",
      "C:\\Users\\Natal\\anaconda3\\Lib\\site-packages\\sklearn\\linear_model\\_coordinate_descent.py:628: ConvergenceWarning: Objective did not converge. You might want to increase the number of iterations, check the scale of the features or consider increasing regularisation. Duality gap: 5.468e+00, tolerance: 2.409e-02\n",
      "  model = cd_fast.enet_coordinate_descent(\n",
      "C:\\Users\\Natal\\anaconda3\\Lib\\site-packages\\sklearn\\linear_model\\_coordinate_descent.py:628: ConvergenceWarning: Objective did not converge. You might want to increase the number of iterations, check the scale of the features or consider increasing regularisation. Duality gap: 5.576e+00, tolerance: 2.445e-02\n",
      "  model = cd_fast.enet_coordinate_descent(\n",
      "[I 2024-07-25 10:59:28,763] Trial 59 finished with value: 0.9468156085654101 and parameters: {'scaling_method': 'robust', 'encoding_method': 'onehot', 'drop': None, 'alpha': 1.1064262383536528e-05}. Best is trial 42 with value: 0.9508124507938893.\n",
      "C:\\Users\\Natal\\anaconda3\\Lib\\site-packages\\sklearn\\preprocessing\\_encoders.py:227: UserWarning: Found unknown categories in columns [3, 10] during transform. These unknown categories will be encoded as all zeros\n",
      "  warnings.warn(\n",
      "C:\\Users\\Natal\\anaconda3\\Lib\\site-packages\\sklearn\\preprocessing\\_encoders.py:227: UserWarning: Found unknown categories in columns [3, 9, 14] during transform. These unknown categories will be encoded as all zeros\n",
      "  warnings.warn(\n",
      "C:\\Users\\Natal\\anaconda3\\Lib\\site-packages\\sklearn\\preprocessing\\_encoders.py:227: UserWarning: Found unknown categories in columns [5, 21] during transform. These unknown categories will be encoded as all zeros\n",
      "  warnings.warn(\n",
      "C:\\Users\\Natal\\anaconda3\\Lib\\site-packages\\sklearn\\preprocessing\\_encoders.py:227: UserWarning: Found unknown categories in columns [9, 21] during transform. These unknown categories will be encoded as all zeros\n",
      "  warnings.warn(\n",
      "C:\\Users\\Natal\\anaconda3\\Lib\\site-packages\\sklearn\\preprocessing\\_encoders.py:227: UserWarning: Found unknown categories in columns [0] during transform. These unknown categories will be encoded as all zeros\n",
      "  warnings.warn(\n",
      "[I 2024-07-25 10:59:29,589] Trial 60 finished with value: 0.9502330248295149 and parameters: {'scaling_method': 'robust', 'encoding_method': 'onehot', 'drop': 'first', 'alpha': 0.0005493597900853393}. Best is trial 42 with value: 0.9508124507938893.\n",
      "[I 2024-07-25 10:59:30,527] Trial 61 finished with value: 0.9508095025858623 and parameters: {'scaling_method': 'robust', 'encoding_method': 'onehot', 'drop': None, 'alpha': 0.0003285075797876456}. Best is trial 42 with value: 0.9508124507938893.\n",
      "[I 2024-07-25 10:59:31,407] Trial 62 finished with value: 0.9508110298569455 and parameters: {'scaling_method': 'robust', 'encoding_method': 'onehot', 'drop': None, 'alpha': 0.0003147317306007524}. Best is trial 42 with value: 0.9508124507938893.\n",
      "[I 2024-07-25 10:59:32,537] Trial 63 finished with value: 0.9502514246756191 and parameters: {'scaling_method': 'robust', 'encoding_method': 'onehot', 'drop': None, 'alpha': 0.00015196797296175977}. Best is trial 42 with value: 0.9508124507938893.\n",
      "[I 2024-07-25 10:59:33,350] Trial 64 finished with value: 0.9507663831535081 and parameters: {'scaling_method': 'robust', 'encoding_method': 'onehot', 'drop': None, 'alpha': 0.00037075764102573503}. Best is trial 42 with value: 0.9508124507938893.\n",
      "[I 2024-07-25 10:59:34,149] Trial 65 finished with value: 0.9508113312592009 and parameters: {'scaling_method': 'robust', 'encoding_method': 'onehot', 'drop': None, 'alpha': 0.00029836788130463556}. Best is trial 42 with value: 0.9508124507938893.\n",
      "C:\\Users\\Natal\\anaconda3\\Lib\\site-packages\\sklearn\\preprocessing\\_encoders.py:227: UserWarning: Found unknown categories in columns [3, 10] during transform. These unknown categories will be encoded as all zeros\n",
      "  warnings.warn(\n",
      "C:\\Users\\Natal\\anaconda3\\Lib\\site-packages\\sklearn\\preprocessing\\_encoders.py:227: UserWarning: Found unknown categories in columns [3, 9, 14] during transform. These unknown categories will be encoded as all zeros\n",
      "  warnings.warn(\n",
      "C:\\Users\\Natal\\anaconda3\\Lib\\site-packages\\sklearn\\preprocessing\\_encoders.py:227: UserWarning: Found unknown categories in columns [5, 21] during transform. These unknown categories will be encoded as all zeros\n",
      "  warnings.warn(\n",
      "C:\\Users\\Natal\\anaconda3\\Lib\\site-packages\\sklearn\\preprocessing\\_encoders.py:227: UserWarning: Found unknown categories in columns [9, 21] during transform. These unknown categories will be encoded as all zeros\n",
      "  warnings.warn(\n",
      "C:\\Users\\Natal\\anaconda3\\Lib\\site-packages\\sklearn\\preprocessing\\_encoders.py:227: UserWarning: Found unknown categories in columns [0] during transform. These unknown categories will be encoded as all zeros\n",
      "  warnings.warn(\n",
      "[I 2024-07-25 10:59:35,029] Trial 66 finished with value: 0.9505764458222764 and parameters: {'scaling_method': 'robust', 'encoding_method': 'onehot', 'drop': 'first', 'alpha': 0.00029303819083128217}. Best is trial 42 with value: 0.9508124507938893.\n",
      "[I 2024-07-25 10:59:35,842] Trial 67 finished with value: 0.9501383045596965 and parameters: {'scaling_method': 'standard', 'encoding_method': 'onehot', 'drop': None, 'alpha': 0.0001913608550974501}. Best is trial 42 with value: 0.9508124507938893.\n",
      "[I 2024-07-25 10:59:36,423] Trial 68 finished with value: 0.9369529061581859 and parameters: {'scaling_method': 'maxabs', 'encoding_method': 'ordinal', 'alpha': 0.0004403784585641443}. Best is trial 42 with value: 0.9508124507938893.\n",
      "[I 2024-07-25 10:59:37,822] Trial 69 finished with value: 0.9496631803259048 and parameters: {'scaling_method': 'robust', 'encoding_method': 'onehot', 'drop': None, 'alpha': 8.469787871917419e-05}. Best is trial 42 with value: 0.9508124507938893.\n",
      "[I 2024-07-25 10:59:38,583] Trial 70 finished with value: 0.9507806883482987 and parameters: {'scaling_method': 'robust', 'encoding_method': 'onehot', 'drop': None, 'alpha': 0.0003606302092314591}. Best is trial 42 with value: 0.9508124507938893.\n",
      "[I 2024-07-25 10:59:39,388] Trial 71 finished with value: 0.9508114165372777 and parameters: {'scaling_method': 'robust', 'encoding_method': 'onehot', 'drop': None, 'alpha': 0.0002990743076922863}. Best is trial 42 with value: 0.9508124507938893.\n",
      "[I 2024-07-25 10:59:40,318] Trial 72 finished with value: 0.9507517765011759 and parameters: {'scaling_method': 'robust', 'encoding_method': 'onehot', 'drop': None, 'alpha': 0.00026130565555297495}. Best is trial 42 with value: 0.9508124507938893.\n",
      "[I 2024-07-25 10:59:41,303] Trial 73 finished with value: 0.9505602456587765 and parameters: {'scaling_method': 'robust', 'encoding_method': 'onehot', 'drop': None, 'alpha': 0.00021617622874100598}. Best is trial 42 with value: 0.9508124507938893.\n",
      "[I 2024-07-25 10:59:42,188] Trial 74 finished with value: 0.950799963150744 and parameters: {'scaling_method': 'robust', 'encoding_method': 'onehot', 'drop': None, 'alpha': 0.0002838205028301019}. Best is trial 42 with value: 0.9508124507938893.\n",
      "[I 2024-07-25 10:59:42,878] Trial 75 finished with value: 0.9504545527831736 and parameters: {'scaling_method': 'robust', 'encoding_method': 'onehot', 'drop': None, 'alpha': 0.0005264794351075392}. Best is trial 42 with value: 0.9508124507938893.\n",
      "[I 2024-07-25 10:59:44,194] Trial 76 finished with value: 0.9502470815995456 and parameters: {'scaling_method': 'robust', 'encoding_method': 'onehot', 'drop': None, 'alpha': 0.00015114781462749382}. Best is trial 42 with value: 0.9508124507938893.\n",
      "C:\\Users\\Natal\\anaconda3\\Lib\\site-packages\\sklearn\\preprocessing\\_encoders.py:227: UserWarning: Found unknown categories in columns [3, 10] during transform. These unknown categories will be encoded as all zeros\n",
      "  warnings.warn(\n"
     ]
    },
    {
     "name": "stderr",
     "output_type": "stream",
     "text": [
      "C:\\Users\\Natal\\anaconda3\\Lib\\site-packages\\sklearn\\preprocessing\\_encoders.py:227: UserWarning: Found unknown categories in columns [3, 9, 14] during transform. These unknown categories will be encoded as all zeros\n",
      "  warnings.warn(\n",
      "C:\\Users\\Natal\\anaconda3\\Lib\\site-packages\\sklearn\\preprocessing\\_encoders.py:227: UserWarning: Found unknown categories in columns [5, 21] during transform. These unknown categories will be encoded as all zeros\n",
      "  warnings.warn(\n",
      "C:\\Users\\Natal\\anaconda3\\Lib\\site-packages\\sklearn\\preprocessing\\_encoders.py:227: UserWarning: Found unknown categories in columns [9, 21] during transform. These unknown categories will be encoded as all zeros\n",
      "  warnings.warn(\n",
      "C:\\Users\\Natal\\anaconda3\\Lib\\site-packages\\sklearn\\preprocessing\\_encoders.py:227: UserWarning: Found unknown categories in columns [0] during transform. These unknown categories will be encoded as all zeros\n",
      "  warnings.warn(\n",
      "[I 2024-07-25 10:59:45,090] Trial 77 finished with value: 0.9500167828520556 and parameters: {'scaling_method': 'standard', 'encoding_method': 'onehot', 'drop': 'first', 'alpha': 0.00024019974583788765}. Best is trial 42 with value: 0.9508124507938893.\n",
      "[I 2024-07-25 10:59:46,240] Trial 78 finished with value: 0.9500764650563003 and parameters: {'scaling_method': 'robust', 'encoding_method': 'onehot', 'drop': None, 'alpha': 0.00011948040475744691}. Best is trial 42 with value: 0.9508124507938893.\n",
      "[I 2024-07-25 10:59:46,853] Trial 79 finished with value: 0.9416869074248633 and parameters: {'scaling_method': 'robust', 'encoding_method': 'ordinal', 'alpha': 0.0001835792071869054}. Best is trial 42 with value: 0.9508124507938893.\n",
      "[I 2024-07-25 10:59:47,934] Trial 80 finished with value: 0.9467360074281166 and parameters: {'scaling_method': 'maxabs', 'encoding_method': 'onehot', 'drop': None, 'alpha': 0.00042975037143579045}. Best is trial 42 with value: 0.9508124507938893.\n",
      "[I 2024-07-25 10:59:48,772] Trial 81 finished with value: 0.9508114094023117 and parameters: {'scaling_method': 'robust', 'encoding_method': 'onehot', 'drop': None, 'alpha': 0.0003185049352321612}. Best is trial 42 with value: 0.9508124507938893.\n",
      "[I 2024-07-25 10:59:49,529] Trial 82 finished with value: 0.9508082048282571 and parameters: {'scaling_method': 'robust', 'encoding_method': 'onehot', 'drop': None, 'alpha': 0.0003318356639199196}. Best is trial 42 with value: 0.9508124507938893.\n",
      "[I 2024-07-25 10:59:50,509] Trial 83 finished with value: 0.9507881533355084 and parameters: {'scaling_method': 'robust', 'encoding_method': 'onehot', 'drop': None, 'alpha': 0.00027509425702621626}. Best is trial 42 with value: 0.9508124507938893.\n",
      "[I 2024-07-25 10:59:51,474] Trial 84 finished with value: 0.9507773169667928 and parameters: {'scaling_method': 'robust', 'encoding_method': 'onehot', 'drop': None, 'alpha': 0.00036326517812941246}. Best is trial 42 with value: 0.9508124507938893.\n",
      "[I 2024-07-25 10:59:52,239] Trial 85 finished with value: 0.9501612230544731 and parameters: {'scaling_method': 'robust', 'encoding_method': 'onehot', 'drop': None, 'alpha': 0.0006382274279120593}. Best is trial 42 with value: 0.9508124507938893.\n",
      "[I 2024-07-25 10:59:53,069] Trial 86 finished with value: 0.9505832836744539 and parameters: {'scaling_method': 'robust', 'encoding_method': 'onehot', 'drop': None, 'alpha': 0.0004751880843704951}. Best is trial 42 with value: 0.9508124507938893.\n",
      "[I 2024-07-25 10:59:54,133] Trial 87 finished with value: 0.9505197091109274 and parameters: {'scaling_method': 'robust', 'encoding_method': 'onehot', 'drop': None, 'alpha': 0.00020758244289347818}. Best is trial 42 with value: 0.9508124507938893.\n",
      "[I 2024-07-25 10:59:55,059] Trial 88 finished with value: 0.9508124811471179 and parameters: {'scaling_method': 'robust', 'encoding_method': 'onehot', 'drop': None, 'alpha': 0.00030749465542615406}. Best is trial 88 with value: 0.9508124811471179.\n",
      "[I 2024-07-25 10:59:56,156] Trial 89 finished with value: 0.9506356015058526 and parameters: {'scaling_method': 'robust', 'encoding_method': 'onehot', 'drop': None, 'alpha': 0.00023312459354226766}. Best is trial 88 with value: 0.9508124811471179.\n",
      "C:\\Users\\Natal\\anaconda3\\Lib\\site-packages\\sklearn\\linear_model\\_coordinate_descent.py:628: ConvergenceWarning: Objective did not converge. You might want to increase the number of iterations, check the scale of the features or consider increasing regularisation. Duality gap: 3.027e-01, tolerance: 2.383e-02\n",
      "  model = cd_fast.enet_coordinate_descent(\n",
      "C:\\Users\\Natal\\anaconda3\\Lib\\site-packages\\sklearn\\preprocessing\\_encoders.py:227: UserWarning: Found unknown categories in columns [3, 10] during transform. These unknown categories will be encoded as all zeros\n",
      "  warnings.warn(\n",
      "C:\\Users\\Natal\\anaconda3\\Lib\\site-packages\\sklearn\\linear_model\\_coordinate_descent.py:628: ConvergenceWarning: Objective did not converge. You might want to increase the number of iterations, check the scale of the features or consider increasing regularisation. Duality gap: 9.132e-01, tolerance: 2.345e-02\n",
      "  model = cd_fast.enet_coordinate_descent(\n",
      "C:\\Users\\Natal\\anaconda3\\Lib\\site-packages\\sklearn\\preprocessing\\_encoders.py:227: UserWarning: Found unknown categories in columns [3, 9, 14] during transform. These unknown categories will be encoded as all zeros\n",
      "  warnings.warn(\n",
      "C:\\Users\\Natal\\anaconda3\\Lib\\site-packages\\sklearn\\linear_model\\_coordinate_descent.py:628: ConvergenceWarning: Objective did not converge. You might want to increase the number of iterations, check the scale of the features or consider increasing regularisation. Duality gap: 5.617e-01, tolerance: 2.415e-02\n",
      "  model = cd_fast.enet_coordinate_descent(\n",
      "C:\\Users\\Natal\\anaconda3\\Lib\\site-packages\\sklearn\\preprocessing\\_encoders.py:227: UserWarning: Found unknown categories in columns [5, 21] during transform. These unknown categories will be encoded as all zeros\n",
      "  warnings.warn(\n",
      "C:\\Users\\Natal\\anaconda3\\Lib\\site-packages\\sklearn\\linear_model\\_coordinate_descent.py:628: ConvergenceWarning: Objective did not converge. You might want to increase the number of iterations, check the scale of the features or consider increasing regularisation. Duality gap: 8.661e-01, tolerance: 2.409e-02\n",
      "  model = cd_fast.enet_coordinate_descent(\n",
      "C:\\Users\\Natal\\anaconda3\\Lib\\site-packages\\sklearn\\preprocessing\\_encoders.py:227: UserWarning: Found unknown categories in columns [9, 21] during transform. These unknown categories will be encoded as all zeros\n",
      "  warnings.warn(\n",
      "C:\\Users\\Natal\\anaconda3\\Lib\\site-packages\\sklearn\\linear_model\\_coordinate_descent.py:628: ConvergenceWarning: Objective did not converge. You might want to increase the number of iterations, check the scale of the features or consider increasing regularisation. Duality gap: 8.469e-01, tolerance: 2.445e-02\n",
      "  model = cd_fast.enet_coordinate_descent(\n",
      "C:\\Users\\Natal\\anaconda3\\Lib\\site-packages\\sklearn\\preprocessing\\_encoders.py:227: UserWarning: Found unknown categories in columns [0] during transform. These unknown categories will be encoded as all zeros\n",
      "  warnings.warn(\n",
      "[I 2024-07-25 10:59:59,049] Trial 90 finished with value: 0.9476431716599324 and parameters: {'scaling_method': 'standard', 'encoding_method': 'onehot', 'drop': 'first', 'alpha': 2.4101309356221665e-05}. Best is trial 88 with value: 0.9508124811471179.\n",
      "[I 2024-07-25 10:59:59,932] Trial 91 finished with value: 0.950797558545631 and parameters: {'scaling_method': 'robust', 'encoding_method': 'onehot', 'drop': None, 'alpha': 0.0003469591997522128}. Best is trial 88 with value: 0.9508124811471179.\n",
      "[I 2024-07-25 11:00:00,704] Trial 92 finished with value: 0.9508117833909953 and parameters: {'scaling_method': 'robust', 'encoding_method': 'onehot', 'drop': None, 'alpha': 0.0003026913959291174}. Best is trial 88 with value: 0.9508124811471179.\n",
      "[I 2024-07-25 11:00:01,555] Trial 93 finished with value: 0.950749401107499 and parameters: {'scaling_method': 'robust', 'encoding_method': 'onehot', 'drop': None, 'alpha': 0.0002605679126690703}. Best is trial 88 with value: 0.9508124811471179.\n",
      "[I 2024-07-25 11:00:02,283] Trial 94 finished with value: 0.9508123138142952 and parameters: {'scaling_method': 'robust', 'encoding_method': 'onehot', 'drop': None, 'alpha': 0.0003063922266728557}. Best is trial 88 with value: 0.9508124811471179.\n"
     ]
    },
    {
     "name": "stderr",
     "output_type": "stream",
     "text": [
      "[I 2024-07-25 11:00:02,936] Trial 95 finished with value: 0.9507277958188898 and parameters: {'scaling_method': 'robust', 'encoding_method': 'onehot', 'drop': None, 'alpha': 0.0003971020815943377}. Best is trial 88 with value: 0.9508124811471179.\n",
      "[I 2024-07-25 11:00:03,470] Trial 96 finished with value: 0.9417353760229847 and parameters: {'scaling_method': 'robust', 'encoding_method': 'ordinal', 'alpha': 0.00028628695794383826}. Best is trial 88 with value: 0.9508124811471179.\n",
      "[I 2024-07-25 11:00:04,355] Trial 97 finished with value: 0.9505583345252102 and parameters: {'scaling_method': 'robust', 'encoding_method': 'onehot', 'drop': None, 'alpha': 0.00021578751688326747}. Best is trial 88 with value: 0.9508124811471179.\n",
      "[I 2024-07-25 11:00:05,040] Trial 98 finished with value: 0.9505238791019778 and parameters: {'scaling_method': 'robust', 'encoding_method': 'onehot', 'drop': None, 'alpha': 0.0005003828045530127}. Best is trial 88 with value: 0.9508124811471179.\n",
      "[I 2024-07-25 11:00:05,734] Trial 99 finished with value: 0.9507040608347579 and parameters: {'scaling_method': 'robust', 'encoding_method': 'onehot', 'drop': None, 'alpha': 0.00041223591551864137}. Best is trial 88 with value: 0.9508124811471179.\n",
      "[I 2024-07-25 11:00:06,848] Trial 100 finished with value: 0.9478349312439869 and parameters: {'scaling_method': 'maxabs', 'encoding_method': 'onehot', 'drop': None, 'alpha': 0.00030291829918362455}. Best is trial 88 with value: 0.9508124811471179.\n",
      "[I 2024-07-25 11:00:07,850] Trial 101 finished with value: 0.9508106272346657 and parameters: {'scaling_method': 'robust', 'encoding_method': 'onehot', 'drop': None, 'alpha': 0.00031275400442856417}. Best is trial 88 with value: 0.9508124811471179.\n",
      "[I 2024-07-25 11:00:08,654] Trial 102 finished with value: 0.9506896302826113 and parameters: {'scaling_method': 'robust', 'encoding_method': 'onehot', 'drop': None, 'alpha': 0.0002457111217384227}. Best is trial 88 with value: 0.9508124811471179.\n",
      "[I 2024-07-25 11:00:09,372] Trial 103 finished with value: 0.9507781975862446 and parameters: {'scaling_method': 'robust', 'encoding_method': 'onehot', 'drop': None, 'alpha': 0.000362676782776113}. Best is trial 88 with value: 0.9508124811471179.\n",
      "[I 2024-07-25 11:00:10,125] Trial 104 finished with value: 0.9508124821158186 and parameters: {'scaling_method': 'robust', 'encoding_method': 'onehot', 'drop': None, 'alpha': 0.00030748693932609547}. Best is trial 104 with value: 0.9508124821158186.\n",
      "[I 2024-07-25 11:00:10,964] Trial 105 finished with value: 0.9507777913331168 and parameters: {'scaling_method': 'robust', 'encoding_method': 'onehot', 'drop': None, 'alpha': 0.0002698126982438007}. Best is trial 104 with value: 0.9508124821158186.\n",
      "[I 2024-07-25 11:00:11,642] Trial 106 finished with value: 0.9506469575473661 and parameters: {'scaling_method': 'robust', 'encoding_method': 'onehot', 'drop': None, 'alpha': 0.00044361562147509194}. Best is trial 104 with value: 0.9508124821158186.\n",
      "[I 2024-07-25 11:00:12,588] Trial 107 finished with value: 0.9503160075818219 and parameters: {'scaling_method': 'robust', 'encoding_method': 'onehot', 'drop': None, 'alpha': 0.00016325726538022193}. Best is trial 104 with value: 0.9508124821158186.\n",
      "[I 2024-07-25 11:00:13,282] Trial 108 finished with value: 0.950346892814767 and parameters: {'scaling_method': 'robust', 'encoding_method': 'onehot', 'drop': None, 'alpha': 0.0005718905424736151}. Best is trial 104 with value: 0.9508124821158186.\n",
      "[I 2024-07-25 11:00:13,978] Trial 109 finished with value: 0.9507591199005603 and parameters: {'scaling_method': 'robust', 'encoding_method': 'onehot', 'drop': None, 'alpha': 0.000376068000702289}. Best is trial 104 with value: 0.9508124821158186.\n",
      "[I 2024-07-25 11:00:14,483] Trial 110 finished with value: 0.9413514441362898 and parameters: {'scaling_method': 'standard', 'encoding_method': 'ordinal', 'alpha': 0.00022536472456229122}. Best is trial 104 with value: 0.9508124821158186.\n",
      "[I 2024-07-25 11:00:15,226] Trial 111 finished with value: 0.9508114868731949 and parameters: {'scaling_method': 'robust', 'encoding_method': 'onehot', 'drop': None, 'alpha': 0.0003157933136807474}. Best is trial 104 with value: 0.9508124821158186.\n",
      "[I 2024-07-25 11:00:16,094] Trial 112 finished with value: 0.9508059517106323 and parameters: {'scaling_method': 'robust', 'encoding_method': 'onehot', 'drop': None, 'alpha': 0.00033568765641791697}. Best is trial 104 with value: 0.9508124821158186.\n",
      "[I 2024-07-25 11:00:16,807] Trial 113 finished with value: 0.9507975881523126 and parameters: {'scaling_method': 'robust', 'encoding_method': 'onehot', 'drop': None, 'alpha': 0.00028161131607390785}. Best is trial 104 with value: 0.9508124821158186.\n",
      "[I 2024-07-25 11:00:17,674] Trial 114 finished with value: 0.9507407729306946 and parameters: {'scaling_method': 'robust', 'encoding_method': 'onehot', 'drop': None, 'alpha': 0.0002577494365033056}. Best is trial 104 with value: 0.9508124821158186.\n",
      "[I 2024-07-25 11:00:18,541] Trial 115 finished with value: 0.9504898910650029 and parameters: {'scaling_method': 'robust', 'encoding_method': 'onehot', 'drop': None, 'alpha': 0.00020073176203173212}. Best is trial 104 with value: 0.9508124821158186.\n",
      "C:\\Users\\Natal\\anaconda3\\Lib\\site-packages\\sklearn\\preprocessing\\_encoders.py:227: UserWarning: Found unknown categories in columns [3, 10] during transform. These unknown categories will be encoded as all zeros\n",
      "  warnings.warn(\n",
      "C:\\Users\\Natal\\anaconda3\\Lib\\site-packages\\sklearn\\preprocessing\\_encoders.py:227: UserWarning: Found unknown categories in columns [3, 9, 14] during transform. These unknown categories will be encoded as all zeros\n",
      "  warnings.warn(\n",
      "C:\\Users\\Natal\\anaconda3\\Lib\\site-packages\\sklearn\\preprocessing\\_encoders.py:227: UserWarning: Found unknown categories in columns [5, 21] during transform. These unknown categories will be encoded as all zeros\n",
      "  warnings.warn(\n",
      "C:\\Users\\Natal\\anaconda3\\Lib\\site-packages\\sklearn\\preprocessing\\_encoders.py:227: UserWarning: Found unknown categories in columns [9, 21] during transform. These unknown categories will be encoded as all zeros\n",
      "  warnings.warn(\n",
      "C:\\Users\\Natal\\anaconda3\\Lib\\site-packages\\sklearn\\preprocessing\\_encoders.py:227: UserWarning: Found unknown categories in columns [0] during transform. These unknown categories will be encoded as all zeros\n",
      "  warnings.warn(\n",
      "[I 2024-07-25 11:00:19,286] Trial 116 finished with value: 0.9505761124859532 and parameters: {'scaling_method': 'robust', 'encoding_method': 'onehot', 'drop': 'first', 'alpha': 0.00029419074672369986}. Best is trial 104 with value: 0.9508124821158186.\n",
      "[I 2024-07-25 11:00:21,131] Trial 117 finished with value: 0.9486801214409276 and parameters: {'scaling_method': 'robust', 'encoding_method': 'onehot', 'drop': None, 'alpha': 4.7974107721960385e-05}. Best is trial 104 with value: 0.9508124821158186.\n",
      "[I 2024-07-25 11:00:21,801] Trial 118 finished with value: 0.9507403830925648 and parameters: {'scaling_method': 'robust', 'encoding_method': 'onehot', 'drop': None, 'alpha': 0.0003883934620889762}. Best is trial 104 with value: 0.9508124821158186.\n",
      "[I 2024-07-25 11:00:22,521] Trial 119 finished with value: 0.9508014330715536 and parameters: {'scaling_method': 'robust', 'encoding_method': 'onehot', 'drop': None, 'alpha': 0.0003424164611419181}. Best is trial 104 with value: 0.9508124821158186.\n",
      "C:\\Users\\Natal\\anaconda3\\Lib\\site-packages\\sklearn\\linear_model\\_coordinate_descent.py:628: ConvergenceWarning: Objective did not converge. You might want to increase the number of iterations, check the scale of the features or consider increasing regularisation. Duality gap: 2.946e-02, tolerance: 2.415e-02\n",
      "  model = cd_fast.enet_coordinate_descent(\n",
      "[I 2024-07-25 11:00:24,550] Trial 120 finished with value: 0.9481769796037323 and parameters: {'scaling_method': 'maxabs', 'encoding_method': 'onehot', 'drop': None, 'alpha': 3.691681995610418e-05}. Best is trial 104 with value: 0.9508124821158186.\n",
      "[I 2024-07-25 11:00:25,315] Trial 121 finished with value: 0.9508118430152207 and parameters: {'scaling_method': 'robust', 'encoding_method': 'onehot', 'drop': None, 'alpha': 0.0003095721038359429}. Best is trial 104 with value: 0.9508124821158186.\n"
     ]
    },
    {
     "name": "stderr",
     "output_type": "stream",
     "text": [
      "[I 2024-07-25 11:00:26,087] Trial 122 finished with value: 0.9508116478512599 and parameters: {'scaling_method': 'robust', 'encoding_method': 'onehot', 'drop': None, 'alpha': 0.00031051120233442333}. Best is trial 104 with value: 0.9508124821158186.\n",
      "[I 2024-07-25 11:00:26,989] Trial 123 finished with value: 0.9506930330947224 and parameters: {'scaling_method': 'robust', 'encoding_method': 'onehot', 'drop': None, 'alpha': 0.00024650116552103404}. Best is trial 104 with value: 0.9508124821158186.\n",
      "[I 2024-07-25 11:00:27,725] Trial 124 finished with value: 0.9508118086653601 and parameters: {'scaling_method': 'robust', 'encoding_method': 'onehot', 'drop': None, 'alpha': 0.00030978212796107125}. Best is trial 104 with value: 0.9508124821158186.\n",
      "[I 2024-07-25 11:00:28,489] Trial 125 finished with value: 0.9508113216414141 and parameters: {'scaling_method': 'robust', 'encoding_method': 'onehot', 'drop': None, 'alpha': 0.0003169971490382569}. Best is trial 104 with value: 0.9508124821158186.\n",
      "[I 2024-07-25 11:00:29,205] Trial 126 finished with value: 0.9507092939266517 and parameters: {'scaling_method': 'robust', 'encoding_method': 'onehot', 'drop': None, 'alpha': 0.0004089569531318941}. Best is trial 104 with value: 0.9508124821158186.\n",
      "[I 2024-07-25 11:00:29,870] Trial 127 finished with value: 0.9507752047023892 and parameters: {'scaling_method': 'robust', 'encoding_method': 'onehot', 'drop': None, 'alpha': 0.000364631002575053}. Best is trial 104 with value: 0.9508124821158186.\n",
      "[I 2024-07-25 11:00:30,546] Trial 128 finished with value: 0.9505995506580348 and parameters: {'scaling_method': 'robust', 'encoding_method': 'onehot', 'drop': None, 'alpha': 0.00046794747570160736}. Best is trial 104 with value: 0.9508124821158186.\n",
      "[I 2024-07-25 11:00:31,324] Trial 129 finished with value: 0.9507626882997421 and parameters: {'scaling_method': 'robust', 'encoding_method': 'onehot', 'drop': None, 'alpha': 0.0002646817989341391}. Best is trial 104 with value: 0.9508124821158186.\n",
      "[I 2024-07-25 11:00:32,143] Trial 130 finished with value: 0.9506425070158689 and parameters: {'scaling_method': 'robust', 'encoding_method': 'onehot', 'drop': None, 'alpha': 0.00023465903452777185}. Best is trial 104 with value: 0.9508124821158186.\n",
      "[I 2024-07-25 11:00:32,985] Trial 131 finished with value: 0.9508114676378001 and parameters: {'scaling_method': 'robust', 'encoding_method': 'onehot', 'drop': None, 'alpha': 0.0003210566972122904}. Best is trial 104 with value: 0.9508124821158186.\n",
      "[I 2024-07-25 11:00:33,806] Trial 132 finished with value: 0.9507930104202927 and parameters: {'scaling_method': 'robust', 'encoding_method': 'onehot', 'drop': None, 'alpha': 0.00035164292536656174}. Best is trial 104 with value: 0.9508124821158186.\n",
      "[I 2024-07-25 11:00:34,624] Trial 133 finished with value: 0.9508112919827315 and parameters: {'scaling_method': 'robust', 'encoding_method': 'onehot', 'drop': None, 'alpha': 0.0003166478286723358}. Best is trial 104 with value: 0.9508124821158186.\n",
      "[I 2024-07-25 11:00:35,451] Trial 134 finished with value: 0.9507972356414316 and parameters: {'scaling_method': 'robust', 'encoding_method': 'onehot', 'drop': None, 'alpha': 0.0002812784015451323}. Best is trial 104 with value: 0.9508124821158186.\n",
      "[I 2024-07-25 11:00:36,209] Trial 135 finished with value: 0.9508047478827771 and parameters: {'scaling_method': 'robust', 'encoding_method': 'onehot', 'drop': None, 'alpha': 0.00033748331322837674}. Best is trial 104 with value: 0.9508124821158186.\n",
      "[I 2024-07-25 11:00:36,737] Trial 136 finished with value: 0.9417986552056098 and parameters: {'scaling_method': 'robust', 'encoding_method': 'ordinal', 'alpha': 0.00040970582085139267}. Best is trial 104 with value: 0.9508124821158186.\n",
      "C:\\Users\\Natal\\anaconda3\\Lib\\site-packages\\sklearn\\preprocessing\\_encoders.py:227: UserWarning: Found unknown categories in columns [3, 10] during transform. These unknown categories will be encoded as all zeros\n",
      "  warnings.warn(\n",
      "C:\\Users\\Natal\\anaconda3\\Lib\\site-packages\\sklearn\\preprocessing\\_encoders.py:227: UserWarning: Found unknown categories in columns [3, 9, 14] during transform. These unknown categories will be encoded as all zeros\n",
      "  warnings.warn(\n",
      "C:\\Users\\Natal\\anaconda3\\Lib\\site-packages\\sklearn\\preprocessing\\_encoders.py:227: UserWarning: Found unknown categories in columns [5, 21] during transform. These unknown categories will be encoded as all zeros\n",
      "  warnings.warn(\n",
      "C:\\Users\\Natal\\anaconda3\\Lib\\site-packages\\sklearn\\preprocessing\\_encoders.py:227: UserWarning: Found unknown categories in columns [9, 21] during transform. These unknown categories will be encoded as all zeros\n",
      "  warnings.warn(\n",
      "C:\\Users\\Natal\\anaconda3\\Lib\\site-packages\\sklearn\\preprocessing\\_encoders.py:227: UserWarning: Found unknown categories in columns [0] during transform. These unknown categories will be encoded as all zeros\n",
      "  warnings.warn(\n",
      "[I 2024-07-25 11:00:37,528] Trial 137 finished with value: 0.9505685625360029 and parameters: {'scaling_method': 'robust', 'encoding_method': 'onehot', 'drop': 'first', 'alpha': 0.00031170080782570925}. Best is trial 104 with value: 0.9508124821158186.\n",
      "[I 2024-07-25 11:00:38,328] Trial 138 finished with value: 0.9502716823618675 and parameters: {'scaling_method': 'standard', 'encoding_method': 'onehot', 'drop': None, 'alpha': 0.000259295739063359}. Best is trial 104 with value: 0.9508124821158186.\n",
      "[I 2024-07-25 11:00:39,024] Trial 139 finished with value: 0.9507589508282752 and parameters: {'scaling_method': 'robust', 'encoding_method': 'onehot', 'drop': None, 'alpha': 0.0003761842094228072}. Best is trial 104 with value: 0.9508124821158186.\n",
      "[I 2024-07-25 11:00:40,605] Trial 140 finished with value: 0.9491396850162752 and parameters: {'scaling_method': 'robust', 'encoding_method': 'onehot', 'drop': None, 'alpha': 6.197174709364292e-05}. Best is trial 104 with value: 0.9508124821158186.\n",
      "[I 2024-07-25 11:00:41,350] Trial 141 finished with value: 0.9508120108537239 and parameters: {'scaling_method': 'robust', 'encoding_method': 'onehot', 'drop': None, 'alpha': 0.00030871356676023186}. Best is trial 104 with value: 0.9508124821158186.\n",
      "[I 2024-07-25 11:00:42,118] Trial 142 finished with value: 0.9508117641358724 and parameters: {'scaling_method': 'robust', 'encoding_method': 'onehot', 'drop': None, 'alpha': 0.0003026034282549153}. Best is trial 104 with value: 0.9508124821158186.\n",
      "[I 2024-07-25 11:00:42,865] Trial 143 finished with value: 0.950801557547112 and parameters: {'scaling_method': 'robust', 'encoding_method': 'onehot', 'drop': None, 'alpha': 0.0002853919254547699}. Best is trial 104 with value: 0.9508124821158186.\n",
      "[I 2024-07-25 11:00:43,761] Trial 144 finished with value: 0.9505979936150102 and parameters: {'scaling_method': 'robust', 'encoding_method': 'onehot', 'drop': None, 'alpha': 0.00022458305737741924}. Best is trial 104 with value: 0.9508124821158186.\n",
      "[I 2024-07-25 11:00:44,533] Trial 145 finished with value: 0.9508038034960957 and parameters: {'scaling_method': 'robust', 'encoding_method': 'onehot', 'drop': None, 'alpha': 0.0003390019260309091}. Best is trial 104 with value: 0.9508124821158186.\n",
      "[I 2024-07-25 11:00:45,353] Trial 146 finished with value: 0.9507336732032575 and parameters: {'scaling_method': 'robust', 'encoding_method': 'onehot', 'drop': None, 'alpha': 0.00025588943222290783}. Best is trial 104 with value: 0.9508124821158186.\n",
      "[I 2024-07-25 11:00:46,161] Trial 147 finished with value: 0.950811514760413 and parameters: {'scaling_method': 'robust', 'encoding_method': 'onehot', 'drop': None, 'alpha': 0.0002995329776318518}. Best is trial 104 with value: 0.9508124821158186.\n",
      "[I 2024-07-25 11:00:46,793] Trial 148 finished with value: 0.950660790674894 and parameters: {'scaling_method': 'robust', 'encoding_method': 'onehot', 'drop': None, 'alpha': 0.0004360067232292847}. Best is trial 104 with value: 0.9508124821158186.\n",
      "[I 2024-07-25 11:00:47,786] Trial 149 finished with value: 0.9472390558632767 and parameters: {'scaling_method': 'maxabs', 'encoding_method': 'onehot', 'drop': None, 'alpha': 0.00038028662353632275}. Best is trial 104 with value: 0.9508124821158186.\n",
      "[I 2024-07-25 11:00:48,605] Trial 150 finished with value: 0.9506658544991637 and parameters: {'scaling_method': 'robust', 'encoding_method': 'onehot', 'drop': None, 'alpha': 0.00024003854349337642}. Best is trial 104 with value: 0.9508124821158186.\n"
     ]
    },
    {
     "name": "stderr",
     "output_type": "stream",
     "text": [
      "[I 2024-07-25 11:00:49,360] Trial 151 finished with value: 0.9508094956354782 and parameters: {'scaling_method': 'robust', 'encoding_method': 'onehot', 'drop': None, 'alpha': 0.000294437865126824}. Best is trial 104 with value: 0.9508124821158186.\n",
      "[I 2024-07-25 11:00:50,101] Trial 152 finished with value: 0.9508125679921836 and parameters: {'scaling_method': 'robust', 'encoding_method': 'onehot', 'drop': None, 'alpha': 0.0003059499593517016}. Best is trial 152 with value: 0.9508125679921836.\n",
      "[I 2024-07-25 11:00:50,784] Trial 153 finished with value: 0.950802212048092 and parameters: {'scaling_method': 'robust', 'encoding_method': 'onehot', 'drop': None, 'alpha': 0.00034134307114919583}. Best is trial 152 with value: 0.9508125679921836.\n",
      "[I 2024-07-25 11:00:51,553] Trial 154 finished with value: 0.950800035812323 and parameters: {'scaling_method': 'robust', 'encoding_method': 'onehot', 'drop': None, 'alpha': 0.00028388736953979544}. Best is trial 152 with value: 0.9508125679921836.\n",
      "[I 2024-07-25 11:00:52,279] Trial 155 finished with value: 0.9508114093282106 and parameters: {'scaling_method': 'robust', 'encoding_method': 'onehot', 'drop': None, 'alpha': 0.0003185028072726105}. Best is trial 152 with value: 0.9508125679921836.\n",
      "[I 2024-07-25 11:00:53,052] Trial 156 finished with value: 0.950781280641076 and parameters: {'scaling_method': 'robust', 'encoding_method': 'onehot', 'drop': None, 'alpha': 0.0002714472322377143}. Best is trial 152 with value: 0.9508125679921836.\n",
      "[I 2024-07-25 11:00:53,848] Trial 157 finished with value: 0.9505190632953597 and parameters: {'scaling_method': 'robust', 'encoding_method': 'onehot', 'drop': None, 'alpha': 0.00020742749341672717}. Best is trial 152 with value: 0.9508125679921836.\n",
      "[I 2024-07-25 11:00:54,522] Trial 158 finished with value: 0.9507942486242907 and parameters: {'scaling_method': 'robust', 'encoding_method': 'onehot', 'drop': None, 'alpha': 0.00035051959895189566}. Best is trial 152 with value: 0.9508125679921836.\n",
      "C:\\Users\\Natal\\anaconda3\\Lib\\site-packages\\sklearn\\preprocessing\\_encoders.py:227: UserWarning: Found unknown categories in columns [3, 10] during transform. These unknown categories will be encoded as all zeros\n",
      "  warnings.warn(\n",
      "C:\\Users\\Natal\\anaconda3\\Lib\\site-packages\\sklearn\\preprocessing\\_encoders.py:227: UserWarning: Found unknown categories in columns [3, 9, 14] during transform. These unknown categories will be encoded as all zeros\n",
      "  warnings.warn(\n",
      "C:\\Users\\Natal\\anaconda3\\Lib\\site-packages\\sklearn\\preprocessing\\_encoders.py:227: UserWarning: Found unknown categories in columns [5, 21] during transform. These unknown categories will be encoded as all zeros\n",
      "  warnings.warn(\n",
      "C:\\Users\\Natal\\anaconda3\\Lib\\site-packages\\sklearn\\preprocessing\\_encoders.py:227: UserWarning: Found unknown categories in columns [9, 21] during transform. These unknown categories will be encoded as all zeros\n",
      "  warnings.warn(\n",
      "C:\\Users\\Natal\\anaconda3\\Lib\\site-packages\\sklearn\\preprocessing\\_encoders.py:227: UserWarning: Found unknown categories in columns [0] during transform. These unknown categories will be encoded as all zeros\n",
      "  warnings.warn(\n",
      "[I 2024-07-25 11:00:55,258] Trial 159 finished with value: 0.9505707979163616 and parameters: {'scaling_method': 'robust', 'encoding_method': 'onehot', 'drop': 'first', 'alpha': 0.00030772857513026037}. Best is trial 152 with value: 0.9508125679921836.\n",
      "[I 2024-07-25 11:00:55,707] Trial 160 finished with value: 0.9417944308175337 and parameters: {'scaling_method': 'robust', 'encoding_method': 'ordinal', 'alpha': 0.00040355700713696514}. Best is trial 152 with value: 0.9508125679921836.\n",
      "[I 2024-07-25 11:00:56,458] Trial 161 finished with value: 0.9508124580794004 and parameters: {'scaling_method': 'robust', 'encoding_method': 'onehot', 'drop': None, 'alpha': 0.0003050722878317029}. Best is trial 152 with value: 0.9508125679921836.\n",
      "[I 2024-07-25 11:00:57,294] Trial 162 finished with value: 0.9507178531231422 and parameters: {'scaling_method': 'robust', 'encoding_method': 'onehot', 'drop': None, 'alpha': 0.0002520987997694811}. Best is trial 152 with value: 0.9508125679921836.\n",
      "[I 2024-07-25 11:00:58,111] Trial 163 finished with value: 0.9508117673132391 and parameters: {'scaling_method': 'robust', 'encoding_method': 'onehot', 'drop': None, 'alpha': 0.00030164200141993277}. Best is trial 152 with value: 0.9508125679921836.\n",
      "[I 2024-07-25 11:00:58,953] Trial 164 finished with value: 0.9507908689898341 and parameters: {'scaling_method': 'robust', 'encoding_method': 'onehot', 'drop': None, 'alpha': 0.00027657122721598586}. Best is trial 152 with value: 0.9508125679921836.\n",
      "[I 2024-07-25 11:00:59,770] Trial 165 finished with value: 0.9507797226132266 and parameters: {'scaling_method': 'robust', 'encoding_method': 'onehot', 'drop': None, 'alpha': 0.0003613609554345984}. Best is trial 152 with value: 0.9508125679921836.\n",
      "[I 2024-07-25 11:01:00,718] Trial 166 finished with value: 0.9504747875801479 and parameters: {'scaling_method': 'minmax', 'encoding_method': 'onehot', 'drop': None, 'alpha': 0.0002952277313643696}. Best is trial 152 with value: 0.9508125679921836.\n",
      "[I 2024-07-25 11:01:01,663] Trial 167 finished with value: 0.9506903879715045 and parameters: {'scaling_method': 'robust', 'encoding_method': 'onehot', 'drop': None, 'alpha': 0.00024588690216644074}. Best is trial 152 with value: 0.9508125679921836.\n",
      "[I 2024-07-25 11:01:02,435] Trial 168 finished with value: 0.9508104007843514 and parameters: {'scaling_method': 'robust', 'encoding_method': 'onehot', 'drop': None, 'alpha': 0.0003254318443572959}. Best is trial 152 with value: 0.9508125679921836.\n",
      "[I 2024-07-25 11:01:03,375] Trial 169 finished with value: 0.9506077464425825 and parameters: {'scaling_method': 'robust', 'encoding_method': 'onehot', 'drop': None, 'alpha': 0.0002267841361040877}. Best is trial 152 with value: 0.9508125679921836.\n",
      "[I 2024-07-25 11:01:03,863] Trial 170 finished with value: 0.9485288658374227 and parameters: {'scaling_method': 'standard', 'encoding_method': 'onehot', 'drop': None, 'alpha': 0.0008734584157246382}. Best is trial 152 with value: 0.9508125679921836.\n",
      "[I 2024-07-25 11:01:04,618] Trial 171 finished with value: 0.95081191627602 and parameters: {'scaling_method': 'robust', 'encoding_method': 'onehot', 'drop': None, 'alpha': 0.00030920629995821015}. Best is trial 152 with value: 0.9508125679921836.\n",
      "[I 2024-07-25 11:01:05,583] Trial 172 finished with value: 0.9507823254316266 and parameters: {'scaling_method': 'robust', 'encoding_method': 'onehot', 'drop': None, 'alpha': 0.00027198705658900725}. Best is trial 152 with value: 0.9508125679921836.\n",
      "[I 2024-07-25 11:01:06,354] Trial 173 finished with value: 0.9507597354430037 and parameters: {'scaling_method': 'robust', 'encoding_method': 'onehot', 'drop': None, 'alpha': 0.00037565232510245925}. Best is trial 152 with value: 0.9508125679921836.\n",
      "[I 2024-07-25 11:01:07,144] Trial 174 finished with value: 0.9508125103999369 and parameters: {'scaling_method': 'robust', 'encoding_method': 'onehot', 'drop': None, 'alpha': 0.00030547279057379376}. Best is trial 152 with value: 0.9508125679921836.\n",
      "[I 2024-07-25 11:01:07,885] Trial 175 finished with value: 0.950809747327224 and parameters: {'scaling_method': 'robust', 'encoding_method': 'onehot', 'drop': None, 'alpha': 0.0002949503331428999}. Best is trial 152 with value: 0.9508125679921836.\n",
      "[I 2024-07-25 11:01:08,666] Trial 176 finished with value: 0.9507979102003068 and parameters: {'scaling_method': 'robust', 'encoding_method': 'onehot', 'drop': None, 'alpha': 0.0003465791546529392}. Best is trial 152 with value: 0.9508125679921836.\n",
      "[I 2024-07-25 11:01:09,554] Trial 177 finished with value: 0.9507651452249057 and parameters: {'scaling_method': 'robust', 'encoding_method': 'onehot', 'drop': None, 'alpha': 0.00026545176780297044}. Best is trial 152 with value: 0.9508125679921836.\n",
      "[I 2024-07-25 11:01:10,367] Trial 178 finished with value: 0.9508120575853578 and parameters: {'scaling_method': 'robust', 'encoding_method': 'onehot', 'drop': None, 'alpha': 0.0003041590856332675}. Best is trial 152 with value: 0.9508125679921836.\n",
      "[I 2024-07-25 11:01:11,103] Trial 179 finished with value: 0.9508037635134066 and parameters: {'scaling_method': 'robust', 'encoding_method': 'onehot', 'drop': None, 'alpha': 0.0003390641930969061}. Best is trial 152 with value: 0.9508125679921836.\n"
     ]
    },
    {
     "name": "stderr",
     "output_type": "stream",
     "text": [
      "[I 2024-07-25 11:01:11,820] Trial 180 finished with value: 0.9507397148337453 and parameters: {'scaling_method': 'robust', 'encoding_method': 'onehot', 'drop': None, 'alpha': 0.0003888149967628445}. Best is trial 152 with value: 0.9508125679921836.\n",
      "[I 2024-07-25 11:01:12,593] Trial 181 finished with value: 0.950812427632443 and parameters: {'scaling_method': 'robust', 'encoding_method': 'onehot', 'drop': None, 'alpha': 0.0003049211290600782}. Best is trial 152 with value: 0.9508125679921836.\n",
      "[I 2024-07-25 11:01:13,457] Trial 182 finished with value: 0.950790976344598 and parameters: {'scaling_method': 'robust', 'encoding_method': 'onehot', 'drop': None, 'alpha': 0.00027663264767635896}. Best is trial 152 with value: 0.9508125679921836.\n",
      "[I 2024-07-25 11:01:14,251] Trial 183 finished with value: 0.9508115075162349 and parameters: {'scaling_method': 'robust', 'encoding_method': 'onehot', 'drop': None, 'alpha': 0.0003114330508442623}. Best is trial 152 with value: 0.9508125679921836.\n",
      "[I 2024-07-25 11:01:14,959] Trial 184 finished with value: 0.9507879840297312 and parameters: {'scaling_method': 'robust', 'encoding_method': 'onehot', 'drop': None, 'alpha': 0.0003553635038494085}. Best is trial 152 with value: 0.9508125679921836.\n",
      "[I 2024-07-25 11:01:15,843] Trial 185 finished with value: 0.9506967514520092 and parameters: {'scaling_method': 'robust', 'encoding_method': 'onehot', 'drop': None, 'alpha': 0.00024735978202556806}. Best is trial 152 with value: 0.9508125679921836.\n",
      "[I 2024-07-25 11:01:16,671] Trial 186 finished with value: 0.950808955899159 and parameters: {'scaling_method': 'robust', 'encoding_method': 'onehot', 'drop': None, 'alpha': 0.0002934299007174458}. Best is trial 152 with value: 0.9508125679921836.\n",
      "[I 2024-07-25 11:01:17,830] Trial 187 finished with value: 0.9476948757409577 and parameters: {'scaling_method': 'maxabs', 'encoding_method': 'onehot', 'drop': None, 'alpha': 0.0003243074570782025}. Best is trial 152 with value: 0.9508125679921836.\n",
      "[I 2024-07-25 11:01:18,745] Trial 188 finished with value: 0.9507607700457552 and parameters: {'scaling_method': 'robust', 'encoding_method': 'onehot', 'drop': None, 'alpha': 0.00026409925459837516}. Best is trial 152 with value: 0.9508125679921836.\n",
      "[I 2024-07-25 11:01:19,313] Trial 189 finished with value: 0.9418150770056742 and parameters: {'scaling_method': 'robust', 'encoding_method': 'ordinal', 'alpha': 0.0004412746596603025}. Best is trial 152 with value: 0.9508125679921836.\n",
      "C:\\Users\\Natal\\anaconda3\\Lib\\site-packages\\sklearn\\preprocessing\\_encoders.py:227: UserWarning: Found unknown categories in columns [3, 10] during transform. These unknown categories will be encoded as all zeros\n",
      "  warnings.warn(\n",
      "C:\\Users\\Natal\\anaconda3\\Lib\\site-packages\\sklearn\\preprocessing\\_encoders.py:227: UserWarning: Found unknown categories in columns [3, 9, 14] during transform. These unknown categories will be encoded as all zeros\n",
      "  warnings.warn(\n",
      "C:\\Users\\Natal\\anaconda3\\Lib\\site-packages\\sklearn\\preprocessing\\_encoders.py:227: UserWarning: Found unknown categories in columns [5, 21] during transform. These unknown categories will be encoded as all zeros\n",
      "  warnings.warn(\n",
      "C:\\Users\\Natal\\anaconda3\\Lib\\site-packages\\sklearn\\preprocessing\\_encoders.py:227: UserWarning: Found unknown categories in columns [9, 21] during transform. These unknown categories will be encoded as all zeros\n",
      "  warnings.warn(\n",
      "C:\\Users\\Natal\\anaconda3\\Lib\\site-packages\\sklearn\\preprocessing\\_encoders.py:227: UserWarning: Found unknown categories in columns [0] during transform. These unknown categories will be encoded as all zeros\n",
      "  warnings.warn(\n",
      "[I 2024-07-25 11:01:20,240] Trial 190 finished with value: 0.9504500948384816 and parameters: {'scaling_method': 'robust', 'encoding_method': 'onehot', 'drop': 'first', 'alpha': 0.00022965327998739806}. Best is trial 152 with value: 0.9508125679921836.\n",
      "[I 2024-07-25 11:01:21,048] Trial 191 finished with value: 0.9508107239771999 and parameters: {'scaling_method': 'robust', 'encoding_method': 'onehot', 'drop': None, 'alpha': 0.0003131947927507659}. Best is trial 152 with value: 0.9508125679921836.\n",
      "[I 2024-07-25 11:01:21,834] Trial 192 finished with value: 0.9508100654286838 and parameters: {'scaling_method': 'robust', 'encoding_method': 'onehot', 'drop': None, 'alpha': 0.00029558064269849066}. Best is trial 152 with value: 0.9508125679921836.\n",
      "[I 2024-07-25 11:01:22,612] Trial 193 finished with value: 0.9507998720675648 and parameters: {'scaling_method': 'robust', 'encoding_method': 'onehot', 'drop': None, 'alpha': 0.00034438511180763347}. Best is trial 152 with value: 0.9508125679921836.\n",
      "[I 2024-07-25 11:01:23,463] Trial 194 finished with value: 0.9508066252031364 and parameters: {'scaling_method': 'robust', 'encoding_method': 'onehot', 'drop': None, 'alpha': 0.00029038903144563505}. Best is trial 152 with value: 0.9508125679921836.\n",
      "[I 2024-07-25 11:01:24,197] Trial 195 finished with value: 0.9507509787675357 and parameters: {'scaling_method': 'robust', 'encoding_method': 'onehot', 'drop': None, 'alpha': 0.0003814762162935689}. Best is trial 152 with value: 0.9508125679921836.\n",
      "[I 2024-07-25 11:01:25,015] Trial 196 finished with value: 0.9508114186691603 and parameters: {'scaling_method': 'robust', 'encoding_method': 'onehot', 'drop': None, 'alpha': 0.00031881502123266083}. Best is trial 152 with value: 0.9508125679921836.\n",
      "[I 2024-07-25 11:01:25,942] Trial 197 finished with value: 0.950773313975348 and parameters: {'scaling_method': 'robust', 'encoding_method': 'onehot', 'drop': None, 'alpha': 0.0002681604864862338}. Best is trial 152 with value: 0.9508125679921836.\n",
      "[I 2024-07-25 11:01:26,749] Trial 198 finished with value: 0.9508039237731637 and parameters: {'scaling_method': 'robust', 'encoding_method': 'onehot', 'drop': None, 'alpha': 0.00028765471536430217}. Best is trial 152 with value: 0.9508125679921836.\n",
      "[I 2024-07-25 11:01:27,659] Trial 199 finished with value: 0.9500550819769611 and parameters: {'scaling_method': 'minmax', 'encoding_method': 'onehot', 'drop': None, 'alpha': 0.000358553124387058}. Best is trial 152 with value: 0.9508125679921836.\n"
     ]
    }
   ],
   "source": [
    "from optuna import create_study\n",
    "\n",
    "study_lasso = create_study(study_name='optimization', direction='maximize')\n",
    "\n",
    "study_lasso.optimize(lambda trial: objective_lasso(trial, X, y), n_trials=200)"
   ]
  },
  {
   "cell_type": "code",
   "execution_count": 9,
   "id": "79e7bd95",
   "metadata": {},
   "outputs": [
    {
     "name": "stdout",
     "output_type": "stream",
     "text": [
      "0.9508125679921836\n",
      "{'scaling_method': 'robust', 'encoding_method': 'onehot', 'drop': None, 'alpha': 0.0003059499593517016}\n"
     ]
    }
   ],
   "source": [
    "print(study_lasso.best_value)\n",
    "print(study_lasso.best_params)"
   ]
  },
  {
   "cell_type": "code",
   "execution_count": 10,
   "id": "5c22af09",
   "metadata": {},
   "outputs": [
    {
     "data": {
      "text/html": [
       "<div>\n",
       "<style scoped>\n",
       "    .dataframe tbody tr th:only-of-type {\n",
       "        vertical-align: middle;\n",
       "    }\n",
       "\n",
       "    .dataframe tbody tr th {\n",
       "        vertical-align: top;\n",
       "    }\n",
       "\n",
       "    .dataframe thead th {\n",
       "        text-align: right;\n",
       "    }\n",
       "</style>\n",
       "<table border=\"1\" class=\"dataframe\">\n",
       "  <thead>\n",
       "    <tr style=\"text-align: right;\">\n",
       "      <th></th>\n",
       "      <th>Trial</th>\n",
       "      <th>Score</th>\n",
       "      <th>Parameters</th>\n",
       "    </tr>\n",
       "  </thead>\n",
       "  <tbody>\n",
       "    <tr>\n",
       "      <th>0</th>\n",
       "      <td>0</td>\n",
       "      <td>0.941096</td>\n",
       "      <td>[(scaling_method, minmax), (encoding_method, o...</td>\n",
       "    </tr>\n",
       "    <tr>\n",
       "      <th>1</th>\n",
       "      <td>1</td>\n",
       "      <td>0.941321</td>\n",
       "      <td>[(scaling_method, standard), (encoding_method,...</td>\n",
       "    </tr>\n",
       "    <tr>\n",
       "      <th>2</th>\n",
       "      <td>2</td>\n",
       "      <td>0.947896</td>\n",
       "      <td>[(scaling_method, robust), (encoding_method, o...</td>\n",
       "    </tr>\n",
       "    <tr>\n",
       "      <th>3</th>\n",
       "      <td>3</td>\n",
       "      <td>0.948237</td>\n",
       "      <td>[(scaling_method, minmax), (encoding_method, o...</td>\n",
       "    </tr>\n",
       "    <tr>\n",
       "      <th>4</th>\n",
       "      <td>4</td>\n",
       "      <td>0.941095</td>\n",
       "      <td>[(scaling_method, maxabs), (encoding_method, o...</td>\n",
       "    </tr>\n",
       "    <tr>\n",
       "      <th>...</th>\n",
       "      <td>...</td>\n",
       "      <td>...</td>\n",
       "      <td>...</td>\n",
       "    </tr>\n",
       "    <tr>\n",
       "      <th>195</th>\n",
       "      <td>195</td>\n",
       "      <td>0.950751</td>\n",
       "      <td>[(scaling_method, robust), (encoding_method, o...</td>\n",
       "    </tr>\n",
       "    <tr>\n",
       "      <th>196</th>\n",
       "      <td>196</td>\n",
       "      <td>0.950811</td>\n",
       "      <td>[(scaling_method, robust), (encoding_method, o...</td>\n",
       "    </tr>\n",
       "    <tr>\n",
       "      <th>197</th>\n",
       "      <td>197</td>\n",
       "      <td>0.950773</td>\n",
       "      <td>[(scaling_method, robust), (encoding_method, o...</td>\n",
       "    </tr>\n",
       "    <tr>\n",
       "      <th>198</th>\n",
       "      <td>198</td>\n",
       "      <td>0.950804</td>\n",
       "      <td>[(scaling_method, robust), (encoding_method, o...</td>\n",
       "    </tr>\n",
       "    <tr>\n",
       "      <th>199</th>\n",
       "      <td>199</td>\n",
       "      <td>0.950055</td>\n",
       "      <td>[(scaling_method, minmax), (encoding_method, o...</td>\n",
       "    </tr>\n",
       "  </tbody>\n",
       "</table>\n",
       "<p>200 rows × 3 columns</p>\n",
       "</div>"
      ],
      "text/plain": [
       "     Trial     Score                                         Parameters\n",
       "0        0  0.941096  [(scaling_method, minmax), (encoding_method, o...\n",
       "1        1  0.941321  [(scaling_method, standard), (encoding_method,...\n",
       "2        2  0.947896  [(scaling_method, robust), (encoding_method, o...\n",
       "3        3  0.948237  [(scaling_method, minmax), (encoding_method, o...\n",
       "4        4  0.941095  [(scaling_method, maxabs), (encoding_method, o...\n",
       "..     ...       ...                                                ...\n",
       "195    195  0.950751  [(scaling_method, robust), (encoding_method, o...\n",
       "196    196  0.950811  [(scaling_method, robust), (encoding_method, o...\n",
       "197    197  0.950773  [(scaling_method, robust), (encoding_method, o...\n",
       "198    198  0.950804  [(scaling_method, robust), (encoding_method, o...\n",
       "199    199  0.950055  [(scaling_method, minmax), (encoding_method, o...\n",
       "\n",
       "[200 rows x 3 columns]"
      ]
     },
     "execution_count": 10,
     "metadata": {},
     "output_type": "execute_result"
    }
   ],
   "source": [
    "trial_number = []\n",
    "score = []\n",
    "parameters = []\n",
    "optuna_dict = {}\n",
    "trials = range(200)\n",
    "\n",
    "for trial in trials:\n",
    "    trial_number.append(study_lasso.get_trials()[trial].number)\n",
    "    score.append(study_lasso.get_trials()[trial].value)\n",
    "    parameters.append(list(study_lasso.get_trials()[trial].params.items()))\n",
    "\n",
    "optuna_dict['Trial'] = trial_number\n",
    "optuna_dict['Score'] = score\n",
    "optuna_dict['Parameters'] = parameters\n",
    "\n",
    "optuna_lasso = pd.DataFrame.from_dict(optuna_dict)\n",
    "optuna_lasso"
   ]
  },
  {
   "cell_type": "code",
   "execution_count": 15,
   "id": "0b8c5f05",
   "metadata": {},
   "outputs": [
    {
     "data": {
      "text/plain": [
       "0                   [(scaling_method, minmax), (encoding_method, ordinal), (alpha, 1.6999779739443475e-05)]\n",
       "1                 [(scaling_method, standard), (encoding_method, ordinal), (alpha, 0.00037901740871573876)]\n",
       "2      [(scaling_method, robust), (encoding_method, onehot), (drop, first), (alpha, 0.0009834045353742098)]\n",
       "3      [(scaling_method, minmax), (encoding_method, onehot), (drop, None), (alpha, 2.5666965172816898e-05)]\n",
       "4                   [(scaling_method, maxabs), (encoding_method, ordinal), (alpha, 1.0571302084059589e-05)]\n",
       "                                                       ...                                                 \n",
       "195     [(scaling_method, robust), (encoding_method, onehot), (drop, None), (alpha, 0.0003814762162935689)]\n",
       "196    [(scaling_method, robust), (encoding_method, onehot), (drop, None), (alpha, 0.00031881502123266083)]\n",
       "197     [(scaling_method, robust), (encoding_method, onehot), (drop, None), (alpha, 0.0002681604864862338)]\n",
       "198    [(scaling_method, robust), (encoding_method, onehot), (drop, None), (alpha, 0.00028765471536430217)]\n",
       "199      [(scaling_method, minmax), (encoding_method, onehot), (drop, None), (alpha, 0.000358553124387058)]\n",
       "Name: Parameters, Length: 200, dtype: object"
      ]
     },
     "execution_count": 15,
     "metadata": {},
     "output_type": "execute_result"
    }
   ],
   "source": [
    "pd.set_option('display.max_colwidth', None) \n",
    "optuna_lasso.Parameters"
   ]
  },
  {
   "cell_type": "code",
   "execution_count": 18,
   "id": "58f18f7b",
   "metadata": {},
   "outputs": [],
   "source": [
    " optuna_lasso['alpha'] = optuna_lasso.Parameters.apply(lambda x: x[-1][1])"
   ]
  },
  {
   "cell_type": "code",
   "execution_count": 23,
   "id": "690e4cf0",
   "metadata": {},
   "outputs": [],
   "source": [
    " optuna_lasso['encoding'] = optuna_lasso.Parameters.apply(lambda x: x[1][1])"
   ]
  },
  {
   "cell_type": "code",
   "execution_count": 24,
   "id": "da86c2e2",
   "metadata": {},
   "outputs": [],
   "source": [
    "optuna_lasso['scaling'] = optuna_lasso.Parameters.apply(lambda x: x[0][1])"
   ]
  },
  {
   "cell_type": "code",
   "execution_count": 25,
   "id": "c90d1254",
   "metadata": {},
   "outputs": [],
   "source": [
    "optuna_lasso.to_csv('dataframes/optuna/optuna_lasso.csv')"
   ]
  },
  {
   "cell_type": "code",
   "execution_count": 27,
   "id": "b59ea4e1",
   "metadata": {},
   "outputs": [
    {
     "data": {
      "application/vnd.plotly.v1+json": {
       "config": {
        "plotlyServerURL": "https://plot.ly"
       },
       "data": [
        {
         "customdata": [
          [
           [
            [
             "scaling_method",
             "minmax"
            ],
            [
             "encoding_method",
             "ordinal"
            ],
            [
             "alpha",
             1.6999779739443475e-05
            ]
           ]
          ],
          [
           [
            [
             "scaling_method",
             "standard"
            ],
            [
             "encoding_method",
             "ordinal"
            ],
            [
             "alpha",
             0.00037901740871573876
            ]
           ]
          ],
          [
           [
            [
             "scaling_method",
             "maxabs"
            ],
            [
             "encoding_method",
             "ordinal"
            ],
            [
             "alpha",
             1.0571302084059589e-05
            ]
           ]
          ],
          [
           [
            [
             "scaling_method",
             "maxabs"
            ],
            [
             "encoding_method",
             "ordinal"
            ],
            [
             "alpha",
             6.478886532606612e-05
            ]
           ]
          ],
          [
           [
            [
             "scaling_method",
             "standard"
            ],
            [
             "encoding_method",
             "ordinal"
            ],
            [
             "alpha",
             0.0002485576296032603
            ]
           ]
          ],
          [
           [
            [
             "scaling_method",
             "minmax"
            ],
            [
             "encoding_method",
             "ordinal"
            ],
            [
             "alpha",
             0.0002350651207763719
            ]
           ]
          ],
          [
           [
            [
             "scaling_method",
             "minmax"
            ],
            [
             "encoding_method",
             "ordinal"
            ],
            [
             "alpha",
             7.543026208387515e-05
            ]
           ]
          ],
          [
           [
            [
             "scaling_method",
             "maxabs"
            ],
            [
             "encoding_method",
             "ordinal"
            ],
            [
             "alpha",
             0.0002645324597600693
            ]
           ]
          ],
          [
           [
            [
             "scaling_method",
             "robust"
            ],
            [
             "encoding_method",
             "ordinal"
            ],
            [
             "alpha",
             0.0002326463423086296
            ]
           ]
          ],
          [
           [
            [
             "scaling_method",
             "robust"
            ],
            [
             "encoding_method",
             "ordinal"
            ],
            [
             "alpha",
             0.00029627581880223487
            ]
           ]
          ],
          [
           [
            [
             "scaling_method",
             "maxabs"
            ],
            [
             "encoding_method",
             "ordinal"
            ],
            [
             "alpha",
             0.0004403784585641443
            ]
           ]
          ],
          [
           [
            [
             "scaling_method",
             "robust"
            ],
            [
             "encoding_method",
             "ordinal"
            ],
            [
             "alpha",
             0.0001835792071869054
            ]
           ]
          ],
          [
           [
            [
             "scaling_method",
             "robust"
            ],
            [
             "encoding_method",
             "ordinal"
            ],
            [
             "alpha",
             0.00028628695794383826
            ]
           ]
          ],
          [
           [
            [
             "scaling_method",
             "standard"
            ],
            [
             "encoding_method",
             "ordinal"
            ],
            [
             "alpha",
             0.00022536472456229122
            ]
           ]
          ],
          [
           [
            [
             "scaling_method",
             "robust"
            ],
            [
             "encoding_method",
             "ordinal"
            ],
            [
             "alpha",
             0.00040970582085139267
            ]
           ]
          ],
          [
           [
            [
             "scaling_method",
             "robust"
            ],
            [
             "encoding_method",
             "ordinal"
            ],
            [
             "alpha",
             0.00040355700713696514
            ]
           ]
          ],
          [
           [
            [
             "scaling_method",
             "robust"
            ],
            [
             "encoding_method",
             "ordinal"
            ],
            [
             "alpha",
             0.0004412746596603025
            ]
           ]
          ]
         ],
         "hovertemplate": "encoding=ordinal<br>Optuna Trial=%{x}<br>Score (R-Squared)=%{y}<br>Parameters=%{customdata[0]}<extra></extra>",
         "legendgroup": "ordinal",
         "marker": {
          "color": "#636efa",
          "symbol": "circle"
         },
         "mode": "markers",
         "name": "ordinal",
         "orientation": "v",
         "showlegend": true,
         "type": "scatter",
         "x": [
          0,
          1,
          4,
          7,
          18,
          26,
          29,
          35,
          39,
          50,
          68,
          79,
          96,
          110,
          136,
          160,
          189
         ],
         "xaxis": "x",
         "y": [
          0.9410964585788589,
          0.9413211302238509,
          0.9410948061762172,
          0.9407264490840564,
          0.941345031054507,
          0.9417441538370372,
          0.9416691062939966,
          0.9377227091518918,
          0.9417185908920136,
          0.941741860252935,
          0.9369529061581859,
          0.9416869074248633,
          0.9417353760229847,
          0.9413514441362898,
          0.9417986552056098,
          0.9417944308175337,
          0.9418150770056742
         ],
         "yaxis": "y"
        },
        {
         "customdata": [
          [
           [
            [
             "scaling_method",
             "robust"
            ],
            [
             "encoding_method",
             "onehot"
            ],
            [
             "drop",
             "first"
            ],
            [
             "alpha",
             0.0009834045353742098
            ]
           ]
          ],
          [
           [
            [
             "scaling_method",
             "minmax"
            ],
            [
             "encoding_method",
             "onehot"
            ],
            [
             "drop",
             null
            ],
            [
             "alpha",
             2.5666965172816898e-05
            ]
           ]
          ],
          [
           [
            [
             "scaling_method",
             "minmax"
            ],
            [
             "encoding_method",
             "onehot"
            ],
            [
             "drop",
             "first"
            ],
            [
             "alpha",
             0.0001805843978097374
            ]
           ]
          ],
          [
           [
            [
             "scaling_method",
             "robust"
            ],
            [
             "encoding_method",
             "onehot"
            ],
            [
             "drop",
             "first"
            ],
            [
             "alpha",
             0.0009855589617302543
            ]
           ]
          ],
          [
           [
            [
             "scaling_method",
             "minmax"
            ],
            [
             "encoding_method",
             "onehot"
            ],
            [
             "drop",
             null
            ],
            [
             "alpha",
             2.0334104634118778e-05
            ]
           ]
          ],
          [
           [
            [
             "scaling_method",
             "maxabs"
            ],
            [
             "encoding_method",
             "onehot"
            ],
            [
             "drop",
             null
            ],
            [
             "alpha",
             1.5865219618254177e-05
            ]
           ]
          ],
          [
           [
            [
             "scaling_method",
             "standard"
            ],
            [
             "encoding_method",
             "onehot"
            ],
            [
             "drop",
             "first"
            ],
            [
             "alpha",
             0.00016871426960348698
            ]
           ]
          ],
          [
           [
            [
             "scaling_method",
             "standard"
            ],
            [
             "encoding_method",
             "onehot"
            ],
            [
             "drop",
             "first"
            ],
            [
             "alpha",
             0.00018618022287801223
            ]
           ]
          ],
          [
           [
            [
             "scaling_method",
             "standard"
            ],
            [
             "encoding_method",
             "onehot"
            ],
            [
             "drop",
             "first"
            ],
            [
             "alpha",
             0.00013628818329266117
            ]
           ]
          ],
          [
           [
            [
             "scaling_method",
             "standard"
            ],
            [
             "encoding_method",
             "onehot"
            ],
            [
             "drop",
             "first"
            ],
            [
             "alpha",
             0.0003290802983260909
            ]
           ]
          ],
          [
           [
            [
             "scaling_method",
             "minmax"
            ],
            [
             "encoding_method",
             "onehot"
            ],
            [
             "drop",
             "first"
            ],
            [
             "alpha",
             0.0004621217221409863
            ]
           ]
          ],
          [
           [
            [
             "scaling_method",
             "standard"
            ],
            [
             "encoding_method",
             "onehot"
            ],
            [
             "drop",
             "first"
            ],
            [
             "alpha",
             5.201737402388417e-05
            ]
           ]
          ],
          [
           [
            [
             "scaling_method",
             "minmax"
            ],
            [
             "encoding_method",
             "onehot"
            ],
            [
             "drop",
             "first"
            ],
            [
             "alpha",
             0.0003580972432190157
            ]
           ]
          ],
          [
           [
            [
             "scaling_method",
             "robust"
            ],
            [
             "encoding_method",
             "onehot"
            ],
            [
             "drop",
             "first"
            ],
            [
             "alpha",
             7.386985740718379e-05
            ]
           ]
          ],
          [
           [
            [
             "scaling_method",
             "minmax"
            ],
            [
             "encoding_method",
             "onehot"
            ],
            [
             "drop",
             null
            ],
            [
             "alpha",
             0.00010584000640728798
            ]
           ]
          ],
          [
           [
            [
             "scaling_method",
             "minmax"
            ],
            [
             "encoding_method",
             "onehot"
            ],
            [
             "drop",
             null
            ],
            [
             "alpha",
             4.4256477240802484e-05
            ]
           ]
          ],
          [
           [
            [
             "scaling_method",
             "minmax"
            ],
            [
             "encoding_method",
             "onehot"
            ],
            [
             "drop",
             null
            ],
            [
             "alpha",
             0.00011995377585522929
            ]
           ]
          ],
          [
           [
            [
             "scaling_method",
             "minmax"
            ],
            [
             "encoding_method",
             "onehot"
            ],
            [
             "drop",
             null
            ],
            [
             "alpha",
             0.00010409204132520336
            ]
           ]
          ],
          [
           [
            [
             "scaling_method",
             "minmax"
            ],
            [
             "encoding_method",
             "onehot"
            ],
            [
             "drop",
             null
            ],
            [
             "alpha",
             0.00010122742224900169
            ]
           ]
          ],
          [
           [
            [
             "scaling_method",
             "minmax"
            ],
            [
             "encoding_method",
             "onehot"
            ],
            [
             "drop",
             null
            ],
            [
             "alpha",
             3.461610229251749e-05
            ]
           ]
          ],
          [
           [
            [
             "scaling_method",
             "minmax"
            ],
            [
             "encoding_method",
             "onehot"
            ],
            [
             "drop",
             null
            ],
            [
             "alpha",
             0.0001326221634647077
            ]
           ]
          ],
          [
           [
            [
             "scaling_method",
             "minmax"
            ],
            [
             "encoding_method",
             "onehot"
            ],
            [
             "drop",
             null
            ],
            [
             "alpha",
             0.0006324653594778544
            ]
           ]
          ],
          [
           [
            [
             "scaling_method",
             "minmax"
            ],
            [
             "encoding_method",
             "onehot"
            ],
            [
             "drop",
             null
            ],
            [
             "alpha",
             0.00013964514205982436
            ]
           ]
          ],
          [
           [
            [
             "scaling_method",
             "minmax"
            ],
            [
             "encoding_method",
             "onehot"
            ],
            [
             "drop",
             null
            ],
            [
             "alpha",
             0.00017108314988052164
            ]
           ]
          ],
          [
           [
            [
             "scaling_method",
             "minmax"
            ],
            [
             "encoding_method",
             "onehot"
            ],
            [
             "drop",
             null
            ],
            [
             "alpha",
             0.00016909999079975417
            ]
           ]
          ],
          [
           [
            [
             "scaling_method",
             "minmax"
            ],
            [
             "encoding_method",
             "onehot"
            ],
            [
             "drop",
             null
            ],
            [
             "alpha",
             0.00025670123034805505
            ]
           ]
          ],
          [
           [
            [
             "scaling_method",
             "minmax"
            ],
            [
             "encoding_method",
             "onehot"
            ],
            [
             "drop",
             null
            ],
            [
             "alpha",
             0.00024546965515418747
            ]
           ]
          ],
          [
           [
            [
             "scaling_method",
             "robust"
            ],
            [
             "encoding_method",
             "onehot"
            ],
            [
             "drop",
             null
            ],
            [
             "alpha",
             0.0005086212577894232
            ]
           ]
          ],
          [
           [
            [
             "scaling_method",
             "minmax"
            ],
            [
             "encoding_method",
             "onehot"
            ],
            [
             "drop",
             null
            ],
            [
             "alpha",
             0.00020881928921946346
            ]
           ]
          ],
          [
           [
            [
             "scaling_method",
             "minmax"
            ],
            [
             "encoding_method",
             "onehot"
            ],
            [
             "drop",
             null
            ],
            [
             "alpha",
             0.0006715888395721741
            ]
           ]
          ],
          [
           [
            [
             "scaling_method",
             "robust"
            ],
            [
             "encoding_method",
             "onehot"
            ],
            [
             "drop",
             null
            ],
            [
             "alpha",
             0.0002194422481917491
            ]
           ]
          ],
          [
           [
            [
             "scaling_method",
             "robust"
            ],
            [
             "encoding_method",
             "onehot"
            ],
            [
             "drop",
             null
            ],
            [
             "alpha",
             0.0003064569186647933
            ]
           ]
          ],
          [
           [
            [
             "scaling_method",
             "robust"
            ],
            [
             "encoding_method",
             "onehot"
            ],
            [
             "drop",
             null
            ],
            [
             "alpha",
             0.0003127497096732443
            ]
           ]
          ],
          [
           [
            [
             "scaling_method",
             "robust"
            ],
            [
             "encoding_method",
             "onehot"
            ],
            [
             "drop",
             null
            ],
            [
             "alpha",
             0.0003050192339312437
            ]
           ]
          ],
          [
           [
            [
             "scaling_method",
             "robust"
            ],
            [
             "encoding_method",
             "onehot"
            ],
            [
             "drop",
             null
            ],
            [
             "alpha",
             0.0003296946939111782
            ]
           ]
          ],
          [
           [
            [
             "scaling_method",
             "robust"
            ],
            [
             "encoding_method",
             "onehot"
            ],
            [
             "drop",
             null
            ],
            [
             "alpha",
             0.0004417118901633665
            ]
           ]
          ],
          [
           [
            [
             "scaling_method",
             "robust"
            ],
            [
             "encoding_method",
             "onehot"
            ],
            [
             "drop",
             null
            ],
            [
             "alpha",
             0.0008171454475088264
            ]
           ]
          ],
          [
           [
            [
             "scaling_method",
             "robust"
            ],
            [
             "encoding_method",
             "onehot"
            ],
            [
             "drop",
             null
            ],
            [
             "alpha",
             0.0004785517806513343
            ]
           ]
          ],
          [
           [
            [
             "scaling_method",
             "robust"
            ],
            [
             "encoding_method",
             "onehot"
            ],
            [
             "drop",
             null
            ],
            [
             "alpha",
             0.0003899383411694721
            ]
           ]
          ],
          [
           [
            [
             "scaling_method",
             "robust"
            ],
            [
             "encoding_method",
             "onehot"
            ],
            [
             "drop",
             null
            ],
            [
             "alpha",
             0.0003101183042511032
            ]
           ]
          ],
          [
           [
            [
             "scaling_method",
             "robust"
            ],
            [
             "encoding_method",
             "onehot"
            ],
            [
             "drop",
             null
            ],
            [
             "alpha",
             0.0002981174360914308
            ]
           ]
          ],
          [
           [
            [
             "scaling_method",
             "robust"
            ],
            [
             "encoding_method",
             "onehot"
            ],
            [
             "drop",
             null
            ],
            [
             "alpha",
             0.00031272068270660967
            ]
           ]
          ],
          [
           [
            [
             "scaling_method",
             "robust"
            ],
            [
             "encoding_method",
             "onehot"
            ],
            [
             "drop",
             null
            ],
            [
             "alpha",
             0.0005736610727316462
            ]
           ]
          ],
          [
           [
            [
             "scaling_method",
             "robust"
            ],
            [
             "encoding_method",
             "onehot"
            ],
            [
             "drop",
             null
            ],
            [
             "alpha",
             0.0003941206582719486
            ]
           ]
          ],
          [
           [
            [
             "scaling_method",
             "robust"
            ],
            [
             "encoding_method",
             "onehot"
            ],
            [
             "drop",
             null
            ],
            [
             "alpha",
             0.0003329406332515926
            ]
           ]
          ],
          [
           [
            [
             "scaling_method",
             "robust"
            ],
            [
             "encoding_method",
             "onehot"
            ],
            [
             "drop",
             null
            ],
            [
             "alpha",
             0.00028132924126185015
            ]
           ]
          ],
          [
           [
            [
             "scaling_method",
             "robust"
            ],
            [
             "encoding_method",
             "onehot"
            ],
            [
             "drop",
             null
            ],
            [
             "alpha",
             0.0007572874863850926
            ]
           ]
          ],
          [
           [
            [
             "scaling_method",
             "robust"
            ],
            [
             "encoding_method",
             "onehot"
            ],
            [
             "drop",
             null
            ],
            [
             "alpha",
             0.00019611906058949062
            ]
           ]
          ],
          [
           [
            [
             "scaling_method",
             "maxabs"
            ],
            [
             "encoding_method",
             "onehot"
            ],
            [
             "drop",
             null
            ],
            [
             "alpha",
             0.00040993915334869226
            ]
           ]
          ],
          [
           [
            [
             "scaling_method",
             "robust"
            ],
            [
             "encoding_method",
             "onehot"
            ],
            [
             "drop",
             null
            ],
            [
             "alpha",
             1.1064262383536528e-05
            ]
           ]
          ],
          [
           [
            [
             "scaling_method",
             "robust"
            ],
            [
             "encoding_method",
             "onehot"
            ],
            [
             "drop",
             "first"
            ],
            [
             "alpha",
             0.0005493597900853393
            ]
           ]
          ],
          [
           [
            [
             "scaling_method",
             "robust"
            ],
            [
             "encoding_method",
             "onehot"
            ],
            [
             "drop",
             null
            ],
            [
             "alpha",
             0.0003285075797876456
            ]
           ]
          ],
          [
           [
            [
             "scaling_method",
             "robust"
            ],
            [
             "encoding_method",
             "onehot"
            ],
            [
             "drop",
             null
            ],
            [
             "alpha",
             0.0003147317306007524
            ]
           ]
          ],
          [
           [
            [
             "scaling_method",
             "robust"
            ],
            [
             "encoding_method",
             "onehot"
            ],
            [
             "drop",
             null
            ],
            [
             "alpha",
             0.00015196797296175977
            ]
           ]
          ],
          [
           [
            [
             "scaling_method",
             "robust"
            ],
            [
             "encoding_method",
             "onehot"
            ],
            [
             "drop",
             null
            ],
            [
             "alpha",
             0.00037075764102573503
            ]
           ]
          ],
          [
           [
            [
             "scaling_method",
             "robust"
            ],
            [
             "encoding_method",
             "onehot"
            ],
            [
             "drop",
             null
            ],
            [
             "alpha",
             0.00029836788130463556
            ]
           ]
          ],
          [
           [
            [
             "scaling_method",
             "robust"
            ],
            [
             "encoding_method",
             "onehot"
            ],
            [
             "drop",
             "first"
            ],
            [
             "alpha",
             0.00029303819083128217
            ]
           ]
          ],
          [
           [
            [
             "scaling_method",
             "standard"
            ],
            [
             "encoding_method",
             "onehot"
            ],
            [
             "drop",
             null
            ],
            [
             "alpha",
             0.0001913608550974501
            ]
           ]
          ],
          [
           [
            [
             "scaling_method",
             "robust"
            ],
            [
             "encoding_method",
             "onehot"
            ],
            [
             "drop",
             null
            ],
            [
             "alpha",
             8.469787871917419e-05
            ]
           ]
          ],
          [
           [
            [
             "scaling_method",
             "robust"
            ],
            [
             "encoding_method",
             "onehot"
            ],
            [
             "drop",
             null
            ],
            [
             "alpha",
             0.0003606302092314591
            ]
           ]
          ],
          [
           [
            [
             "scaling_method",
             "robust"
            ],
            [
             "encoding_method",
             "onehot"
            ],
            [
             "drop",
             null
            ],
            [
             "alpha",
             0.0002990743076922863
            ]
           ]
          ],
          [
           [
            [
             "scaling_method",
             "robust"
            ],
            [
             "encoding_method",
             "onehot"
            ],
            [
             "drop",
             null
            ],
            [
             "alpha",
             0.00026130565555297495
            ]
           ]
          ],
          [
           [
            [
             "scaling_method",
             "robust"
            ],
            [
             "encoding_method",
             "onehot"
            ],
            [
             "drop",
             null
            ],
            [
             "alpha",
             0.00021617622874100598
            ]
           ]
          ],
          [
           [
            [
             "scaling_method",
             "robust"
            ],
            [
             "encoding_method",
             "onehot"
            ],
            [
             "drop",
             null
            ],
            [
             "alpha",
             0.0002838205028301019
            ]
           ]
          ],
          [
           [
            [
             "scaling_method",
             "robust"
            ],
            [
             "encoding_method",
             "onehot"
            ],
            [
             "drop",
             null
            ],
            [
             "alpha",
             0.0005264794351075392
            ]
           ]
          ],
          [
           [
            [
             "scaling_method",
             "robust"
            ],
            [
             "encoding_method",
             "onehot"
            ],
            [
             "drop",
             null
            ],
            [
             "alpha",
             0.00015114781462749382
            ]
           ]
          ],
          [
           [
            [
             "scaling_method",
             "standard"
            ],
            [
             "encoding_method",
             "onehot"
            ],
            [
             "drop",
             "first"
            ],
            [
             "alpha",
             0.00024019974583788765
            ]
           ]
          ],
          [
           [
            [
             "scaling_method",
             "robust"
            ],
            [
             "encoding_method",
             "onehot"
            ],
            [
             "drop",
             null
            ],
            [
             "alpha",
             0.00011948040475744691
            ]
           ]
          ],
          [
           [
            [
             "scaling_method",
             "maxabs"
            ],
            [
             "encoding_method",
             "onehot"
            ],
            [
             "drop",
             null
            ],
            [
             "alpha",
             0.00042975037143579045
            ]
           ]
          ],
          [
           [
            [
             "scaling_method",
             "robust"
            ],
            [
             "encoding_method",
             "onehot"
            ],
            [
             "drop",
             null
            ],
            [
             "alpha",
             0.0003185049352321612
            ]
           ]
          ],
          [
           [
            [
             "scaling_method",
             "robust"
            ],
            [
             "encoding_method",
             "onehot"
            ],
            [
             "drop",
             null
            ],
            [
             "alpha",
             0.0003318356639199196
            ]
           ]
          ],
          [
           [
            [
             "scaling_method",
             "robust"
            ],
            [
             "encoding_method",
             "onehot"
            ],
            [
             "drop",
             null
            ],
            [
             "alpha",
             0.00027509425702621626
            ]
           ]
          ],
          [
           [
            [
             "scaling_method",
             "robust"
            ],
            [
             "encoding_method",
             "onehot"
            ],
            [
             "drop",
             null
            ],
            [
             "alpha",
             0.00036326517812941246
            ]
           ]
          ],
          [
           [
            [
             "scaling_method",
             "robust"
            ],
            [
             "encoding_method",
             "onehot"
            ],
            [
             "drop",
             null
            ],
            [
             "alpha",
             0.0006382274279120593
            ]
           ]
          ],
          [
           [
            [
             "scaling_method",
             "robust"
            ],
            [
             "encoding_method",
             "onehot"
            ],
            [
             "drop",
             null
            ],
            [
             "alpha",
             0.0004751880843704951
            ]
           ]
          ],
          [
           [
            [
             "scaling_method",
             "robust"
            ],
            [
             "encoding_method",
             "onehot"
            ],
            [
             "drop",
             null
            ],
            [
             "alpha",
             0.00020758244289347818
            ]
           ]
          ],
          [
           [
            [
             "scaling_method",
             "robust"
            ],
            [
             "encoding_method",
             "onehot"
            ],
            [
             "drop",
             null
            ],
            [
             "alpha",
             0.00030749465542615406
            ]
           ]
          ],
          [
           [
            [
             "scaling_method",
             "robust"
            ],
            [
             "encoding_method",
             "onehot"
            ],
            [
             "drop",
             null
            ],
            [
             "alpha",
             0.00023312459354226766
            ]
           ]
          ],
          [
           [
            [
             "scaling_method",
             "standard"
            ],
            [
             "encoding_method",
             "onehot"
            ],
            [
             "drop",
             "first"
            ],
            [
             "alpha",
             2.4101309356221665e-05
            ]
           ]
          ],
          [
           [
            [
             "scaling_method",
             "robust"
            ],
            [
             "encoding_method",
             "onehot"
            ],
            [
             "drop",
             null
            ],
            [
             "alpha",
             0.0003469591997522128
            ]
           ]
          ],
          [
           [
            [
             "scaling_method",
             "robust"
            ],
            [
             "encoding_method",
             "onehot"
            ],
            [
             "drop",
             null
            ],
            [
             "alpha",
             0.0003026913959291174
            ]
           ]
          ],
          [
           [
            [
             "scaling_method",
             "robust"
            ],
            [
             "encoding_method",
             "onehot"
            ],
            [
             "drop",
             null
            ],
            [
             "alpha",
             0.0002605679126690703
            ]
           ]
          ],
          [
           [
            [
             "scaling_method",
             "robust"
            ],
            [
             "encoding_method",
             "onehot"
            ],
            [
             "drop",
             null
            ],
            [
             "alpha",
             0.0003063922266728557
            ]
           ]
          ],
          [
           [
            [
             "scaling_method",
             "robust"
            ],
            [
             "encoding_method",
             "onehot"
            ],
            [
             "drop",
             null
            ],
            [
             "alpha",
             0.0003971020815943377
            ]
           ]
          ],
          [
           [
            [
             "scaling_method",
             "robust"
            ],
            [
             "encoding_method",
             "onehot"
            ],
            [
             "drop",
             null
            ],
            [
             "alpha",
             0.00021578751688326747
            ]
           ]
          ],
          [
           [
            [
             "scaling_method",
             "robust"
            ],
            [
             "encoding_method",
             "onehot"
            ],
            [
             "drop",
             null
            ],
            [
             "alpha",
             0.0005003828045530127
            ]
           ]
          ],
          [
           [
            [
             "scaling_method",
             "robust"
            ],
            [
             "encoding_method",
             "onehot"
            ],
            [
             "drop",
             null
            ],
            [
             "alpha",
             0.00041223591551864137
            ]
           ]
          ],
          [
           [
            [
             "scaling_method",
             "maxabs"
            ],
            [
             "encoding_method",
             "onehot"
            ],
            [
             "drop",
             null
            ],
            [
             "alpha",
             0.00030291829918362455
            ]
           ]
          ],
          [
           [
            [
             "scaling_method",
             "robust"
            ],
            [
             "encoding_method",
             "onehot"
            ],
            [
             "drop",
             null
            ],
            [
             "alpha",
             0.00031275400442856417
            ]
           ]
          ],
          [
           [
            [
             "scaling_method",
             "robust"
            ],
            [
             "encoding_method",
             "onehot"
            ],
            [
             "drop",
             null
            ],
            [
             "alpha",
             0.0002457111217384227
            ]
           ]
          ],
          [
           [
            [
             "scaling_method",
             "robust"
            ],
            [
             "encoding_method",
             "onehot"
            ],
            [
             "drop",
             null
            ],
            [
             "alpha",
             0.000362676782776113
            ]
           ]
          ],
          [
           [
            [
             "scaling_method",
             "robust"
            ],
            [
             "encoding_method",
             "onehot"
            ],
            [
             "drop",
             null
            ],
            [
             "alpha",
             0.00030748693932609547
            ]
           ]
          ],
          [
           [
            [
             "scaling_method",
             "robust"
            ],
            [
             "encoding_method",
             "onehot"
            ],
            [
             "drop",
             null
            ],
            [
             "alpha",
             0.0002698126982438007
            ]
           ]
          ],
          [
           [
            [
             "scaling_method",
             "robust"
            ],
            [
             "encoding_method",
             "onehot"
            ],
            [
             "drop",
             null
            ],
            [
             "alpha",
             0.00044361562147509194
            ]
           ]
          ],
          [
           [
            [
             "scaling_method",
             "robust"
            ],
            [
             "encoding_method",
             "onehot"
            ],
            [
             "drop",
             null
            ],
            [
             "alpha",
             0.00016325726538022193
            ]
           ]
          ],
          [
           [
            [
             "scaling_method",
             "robust"
            ],
            [
             "encoding_method",
             "onehot"
            ],
            [
             "drop",
             null
            ],
            [
             "alpha",
             0.0005718905424736151
            ]
           ]
          ],
          [
           [
            [
             "scaling_method",
             "robust"
            ],
            [
             "encoding_method",
             "onehot"
            ],
            [
             "drop",
             null
            ],
            [
             "alpha",
             0.000376068000702289
            ]
           ]
          ],
          [
           [
            [
             "scaling_method",
             "robust"
            ],
            [
             "encoding_method",
             "onehot"
            ],
            [
             "drop",
             null
            ],
            [
             "alpha",
             0.0003157933136807474
            ]
           ]
          ],
          [
           [
            [
             "scaling_method",
             "robust"
            ],
            [
             "encoding_method",
             "onehot"
            ],
            [
             "drop",
             null
            ],
            [
             "alpha",
             0.00033568765641791697
            ]
           ]
          ],
          [
           [
            [
             "scaling_method",
             "robust"
            ],
            [
             "encoding_method",
             "onehot"
            ],
            [
             "drop",
             null
            ],
            [
             "alpha",
             0.00028161131607390785
            ]
           ]
          ],
          [
           [
            [
             "scaling_method",
             "robust"
            ],
            [
             "encoding_method",
             "onehot"
            ],
            [
             "drop",
             null
            ],
            [
             "alpha",
             0.0002577494365033056
            ]
           ]
          ],
          [
           [
            [
             "scaling_method",
             "robust"
            ],
            [
             "encoding_method",
             "onehot"
            ],
            [
             "drop",
             null
            ],
            [
             "alpha",
             0.00020073176203173212
            ]
           ]
          ],
          [
           [
            [
             "scaling_method",
             "robust"
            ],
            [
             "encoding_method",
             "onehot"
            ],
            [
             "drop",
             "first"
            ],
            [
             "alpha",
             0.00029419074672369986
            ]
           ]
          ],
          [
           [
            [
             "scaling_method",
             "robust"
            ],
            [
             "encoding_method",
             "onehot"
            ],
            [
             "drop",
             null
            ],
            [
             "alpha",
             4.7974107721960385e-05
            ]
           ]
          ],
          [
           [
            [
             "scaling_method",
             "robust"
            ],
            [
             "encoding_method",
             "onehot"
            ],
            [
             "drop",
             null
            ],
            [
             "alpha",
             0.0003883934620889762
            ]
           ]
          ],
          [
           [
            [
             "scaling_method",
             "robust"
            ],
            [
             "encoding_method",
             "onehot"
            ],
            [
             "drop",
             null
            ],
            [
             "alpha",
             0.0003424164611419181
            ]
           ]
          ],
          [
           [
            [
             "scaling_method",
             "maxabs"
            ],
            [
             "encoding_method",
             "onehot"
            ],
            [
             "drop",
             null
            ],
            [
             "alpha",
             3.691681995610418e-05
            ]
           ]
          ],
          [
           [
            [
             "scaling_method",
             "robust"
            ],
            [
             "encoding_method",
             "onehot"
            ],
            [
             "drop",
             null
            ],
            [
             "alpha",
             0.0003095721038359429
            ]
           ]
          ],
          [
           [
            [
             "scaling_method",
             "robust"
            ],
            [
             "encoding_method",
             "onehot"
            ],
            [
             "drop",
             null
            ],
            [
             "alpha",
             0.00031051120233442333
            ]
           ]
          ],
          [
           [
            [
             "scaling_method",
             "robust"
            ],
            [
             "encoding_method",
             "onehot"
            ],
            [
             "drop",
             null
            ],
            [
             "alpha",
             0.00024650116552103404
            ]
           ]
          ],
          [
           [
            [
             "scaling_method",
             "robust"
            ],
            [
             "encoding_method",
             "onehot"
            ],
            [
             "drop",
             null
            ],
            [
             "alpha",
             0.00030978212796107125
            ]
           ]
          ],
          [
           [
            [
             "scaling_method",
             "robust"
            ],
            [
             "encoding_method",
             "onehot"
            ],
            [
             "drop",
             null
            ],
            [
             "alpha",
             0.0003169971490382569
            ]
           ]
          ],
          [
           [
            [
             "scaling_method",
             "robust"
            ],
            [
             "encoding_method",
             "onehot"
            ],
            [
             "drop",
             null
            ],
            [
             "alpha",
             0.0004089569531318941
            ]
           ]
          ],
          [
           [
            [
             "scaling_method",
             "robust"
            ],
            [
             "encoding_method",
             "onehot"
            ],
            [
             "drop",
             null
            ],
            [
             "alpha",
             0.000364631002575053
            ]
           ]
          ],
          [
           [
            [
             "scaling_method",
             "robust"
            ],
            [
             "encoding_method",
             "onehot"
            ],
            [
             "drop",
             null
            ],
            [
             "alpha",
             0.00046794747570160736
            ]
           ]
          ],
          [
           [
            [
             "scaling_method",
             "robust"
            ],
            [
             "encoding_method",
             "onehot"
            ],
            [
             "drop",
             null
            ],
            [
             "alpha",
             0.0002646817989341391
            ]
           ]
          ],
          [
           [
            [
             "scaling_method",
             "robust"
            ],
            [
             "encoding_method",
             "onehot"
            ],
            [
             "drop",
             null
            ],
            [
             "alpha",
             0.00023465903452777185
            ]
           ]
          ],
          [
           [
            [
             "scaling_method",
             "robust"
            ],
            [
             "encoding_method",
             "onehot"
            ],
            [
             "drop",
             null
            ],
            [
             "alpha",
             0.0003210566972122904
            ]
           ]
          ],
          [
           [
            [
             "scaling_method",
             "robust"
            ],
            [
             "encoding_method",
             "onehot"
            ],
            [
             "drop",
             null
            ],
            [
             "alpha",
             0.00035164292536656174
            ]
           ]
          ],
          [
           [
            [
             "scaling_method",
             "robust"
            ],
            [
             "encoding_method",
             "onehot"
            ],
            [
             "drop",
             null
            ],
            [
             "alpha",
             0.0003166478286723358
            ]
           ]
          ],
          [
           [
            [
             "scaling_method",
             "robust"
            ],
            [
             "encoding_method",
             "onehot"
            ],
            [
             "drop",
             null
            ],
            [
             "alpha",
             0.0002812784015451323
            ]
           ]
          ],
          [
           [
            [
             "scaling_method",
             "robust"
            ],
            [
             "encoding_method",
             "onehot"
            ],
            [
             "drop",
             null
            ],
            [
             "alpha",
             0.00033748331322837674
            ]
           ]
          ],
          [
           [
            [
             "scaling_method",
             "robust"
            ],
            [
             "encoding_method",
             "onehot"
            ],
            [
             "drop",
             "first"
            ],
            [
             "alpha",
             0.00031170080782570925
            ]
           ]
          ],
          [
           [
            [
             "scaling_method",
             "standard"
            ],
            [
             "encoding_method",
             "onehot"
            ],
            [
             "drop",
             null
            ],
            [
             "alpha",
             0.000259295739063359
            ]
           ]
          ],
          [
           [
            [
             "scaling_method",
             "robust"
            ],
            [
             "encoding_method",
             "onehot"
            ],
            [
             "drop",
             null
            ],
            [
             "alpha",
             0.0003761842094228072
            ]
           ]
          ],
          [
           [
            [
             "scaling_method",
             "robust"
            ],
            [
             "encoding_method",
             "onehot"
            ],
            [
             "drop",
             null
            ],
            [
             "alpha",
             6.197174709364292e-05
            ]
           ]
          ],
          [
           [
            [
             "scaling_method",
             "robust"
            ],
            [
             "encoding_method",
             "onehot"
            ],
            [
             "drop",
             null
            ],
            [
             "alpha",
             0.00030871356676023186
            ]
           ]
          ],
          [
           [
            [
             "scaling_method",
             "robust"
            ],
            [
             "encoding_method",
             "onehot"
            ],
            [
             "drop",
             null
            ],
            [
             "alpha",
             0.0003026034282549153
            ]
           ]
          ],
          [
           [
            [
             "scaling_method",
             "robust"
            ],
            [
             "encoding_method",
             "onehot"
            ],
            [
             "drop",
             null
            ],
            [
             "alpha",
             0.0002853919254547699
            ]
           ]
          ],
          [
           [
            [
             "scaling_method",
             "robust"
            ],
            [
             "encoding_method",
             "onehot"
            ],
            [
             "drop",
             null
            ],
            [
             "alpha",
             0.00022458305737741924
            ]
           ]
          ],
          [
           [
            [
             "scaling_method",
             "robust"
            ],
            [
             "encoding_method",
             "onehot"
            ],
            [
             "drop",
             null
            ],
            [
             "alpha",
             0.0003390019260309091
            ]
           ]
          ],
          [
           [
            [
             "scaling_method",
             "robust"
            ],
            [
             "encoding_method",
             "onehot"
            ],
            [
             "drop",
             null
            ],
            [
             "alpha",
             0.00025588943222290783
            ]
           ]
          ],
          [
           [
            [
             "scaling_method",
             "robust"
            ],
            [
             "encoding_method",
             "onehot"
            ],
            [
             "drop",
             null
            ],
            [
             "alpha",
             0.0002995329776318518
            ]
           ]
          ],
          [
           [
            [
             "scaling_method",
             "robust"
            ],
            [
             "encoding_method",
             "onehot"
            ],
            [
             "drop",
             null
            ],
            [
             "alpha",
             0.0004360067232292847
            ]
           ]
          ],
          [
           [
            [
             "scaling_method",
             "maxabs"
            ],
            [
             "encoding_method",
             "onehot"
            ],
            [
             "drop",
             null
            ],
            [
             "alpha",
             0.00038028662353632275
            ]
           ]
          ],
          [
           [
            [
             "scaling_method",
             "robust"
            ],
            [
             "encoding_method",
             "onehot"
            ],
            [
             "drop",
             null
            ],
            [
             "alpha",
             0.00024003854349337642
            ]
           ]
          ],
          [
           [
            [
             "scaling_method",
             "robust"
            ],
            [
             "encoding_method",
             "onehot"
            ],
            [
             "drop",
             null
            ],
            [
             "alpha",
             0.000294437865126824
            ]
           ]
          ],
          [
           [
            [
             "scaling_method",
             "robust"
            ],
            [
             "encoding_method",
             "onehot"
            ],
            [
             "drop",
             null
            ],
            [
             "alpha",
             0.0003059499593517016
            ]
           ]
          ],
          [
           [
            [
             "scaling_method",
             "robust"
            ],
            [
             "encoding_method",
             "onehot"
            ],
            [
             "drop",
             null
            ],
            [
             "alpha",
             0.00034134307114919583
            ]
           ]
          ],
          [
           [
            [
             "scaling_method",
             "robust"
            ],
            [
             "encoding_method",
             "onehot"
            ],
            [
             "drop",
             null
            ],
            [
             "alpha",
             0.00028388736953979544
            ]
           ]
          ],
          [
           [
            [
             "scaling_method",
             "robust"
            ],
            [
             "encoding_method",
             "onehot"
            ],
            [
             "drop",
             null
            ],
            [
             "alpha",
             0.0003185028072726105
            ]
           ]
          ],
          [
           [
            [
             "scaling_method",
             "robust"
            ],
            [
             "encoding_method",
             "onehot"
            ],
            [
             "drop",
             null
            ],
            [
             "alpha",
             0.0002714472322377143
            ]
           ]
          ],
          [
           [
            [
             "scaling_method",
             "robust"
            ],
            [
             "encoding_method",
             "onehot"
            ],
            [
             "drop",
             null
            ],
            [
             "alpha",
             0.00020742749341672717
            ]
           ]
          ],
          [
           [
            [
             "scaling_method",
             "robust"
            ],
            [
             "encoding_method",
             "onehot"
            ],
            [
             "drop",
             null
            ],
            [
             "alpha",
             0.00035051959895189566
            ]
           ]
          ],
          [
           [
            [
             "scaling_method",
             "robust"
            ],
            [
             "encoding_method",
             "onehot"
            ],
            [
             "drop",
             "first"
            ],
            [
             "alpha",
             0.00030772857513026037
            ]
           ]
          ],
          [
           [
            [
             "scaling_method",
             "robust"
            ],
            [
             "encoding_method",
             "onehot"
            ],
            [
             "drop",
             null
            ],
            [
             "alpha",
             0.0003050722878317029
            ]
           ]
          ],
          [
           [
            [
             "scaling_method",
             "robust"
            ],
            [
             "encoding_method",
             "onehot"
            ],
            [
             "drop",
             null
            ],
            [
             "alpha",
             0.0002520987997694811
            ]
           ]
          ],
          [
           [
            [
             "scaling_method",
             "robust"
            ],
            [
             "encoding_method",
             "onehot"
            ],
            [
             "drop",
             null
            ],
            [
             "alpha",
             0.00030164200141993277
            ]
           ]
          ],
          [
           [
            [
             "scaling_method",
             "robust"
            ],
            [
             "encoding_method",
             "onehot"
            ],
            [
             "drop",
             null
            ],
            [
             "alpha",
             0.00027657122721598586
            ]
           ]
          ],
          [
           [
            [
             "scaling_method",
             "robust"
            ],
            [
             "encoding_method",
             "onehot"
            ],
            [
             "drop",
             null
            ],
            [
             "alpha",
             0.0003613609554345984
            ]
           ]
          ],
          [
           [
            [
             "scaling_method",
             "minmax"
            ],
            [
             "encoding_method",
             "onehot"
            ],
            [
             "drop",
             null
            ],
            [
             "alpha",
             0.0002952277313643696
            ]
           ]
          ],
          [
           [
            [
             "scaling_method",
             "robust"
            ],
            [
             "encoding_method",
             "onehot"
            ],
            [
             "drop",
             null
            ],
            [
             "alpha",
             0.00024588690216644074
            ]
           ]
          ],
          [
           [
            [
             "scaling_method",
             "robust"
            ],
            [
             "encoding_method",
             "onehot"
            ],
            [
             "drop",
             null
            ],
            [
             "alpha",
             0.0003254318443572959
            ]
           ]
          ],
          [
           [
            [
             "scaling_method",
             "robust"
            ],
            [
             "encoding_method",
             "onehot"
            ],
            [
             "drop",
             null
            ],
            [
             "alpha",
             0.0002267841361040877
            ]
           ]
          ],
          [
           [
            [
             "scaling_method",
             "standard"
            ],
            [
             "encoding_method",
             "onehot"
            ],
            [
             "drop",
             null
            ],
            [
             "alpha",
             0.0008734584157246382
            ]
           ]
          ],
          [
           [
            [
             "scaling_method",
             "robust"
            ],
            [
             "encoding_method",
             "onehot"
            ],
            [
             "drop",
             null
            ],
            [
             "alpha",
             0.00030920629995821015
            ]
           ]
          ],
          [
           [
            [
             "scaling_method",
             "robust"
            ],
            [
             "encoding_method",
             "onehot"
            ],
            [
             "drop",
             null
            ],
            [
             "alpha",
             0.00027198705658900725
            ]
           ]
          ],
          [
           [
            [
             "scaling_method",
             "robust"
            ],
            [
             "encoding_method",
             "onehot"
            ],
            [
             "drop",
             null
            ],
            [
             "alpha",
             0.00037565232510245925
            ]
           ]
          ],
          [
           [
            [
             "scaling_method",
             "robust"
            ],
            [
             "encoding_method",
             "onehot"
            ],
            [
             "drop",
             null
            ],
            [
             "alpha",
             0.00030547279057379376
            ]
           ]
          ],
          [
           [
            [
             "scaling_method",
             "robust"
            ],
            [
             "encoding_method",
             "onehot"
            ],
            [
             "drop",
             null
            ],
            [
             "alpha",
             0.0002949503331428999
            ]
           ]
          ],
          [
           [
            [
             "scaling_method",
             "robust"
            ],
            [
             "encoding_method",
             "onehot"
            ],
            [
             "drop",
             null
            ],
            [
             "alpha",
             0.0003465791546529392
            ]
           ]
          ],
          [
           [
            [
             "scaling_method",
             "robust"
            ],
            [
             "encoding_method",
             "onehot"
            ],
            [
             "drop",
             null
            ],
            [
             "alpha",
             0.00026545176780297044
            ]
           ]
          ],
          [
           [
            [
             "scaling_method",
             "robust"
            ],
            [
             "encoding_method",
             "onehot"
            ],
            [
             "drop",
             null
            ],
            [
             "alpha",
             0.0003041590856332675
            ]
           ]
          ],
          [
           [
            [
             "scaling_method",
             "robust"
            ],
            [
             "encoding_method",
             "onehot"
            ],
            [
             "drop",
             null
            ],
            [
             "alpha",
             0.0003390641930969061
            ]
           ]
          ],
          [
           [
            [
             "scaling_method",
             "robust"
            ],
            [
             "encoding_method",
             "onehot"
            ],
            [
             "drop",
             null
            ],
            [
             "alpha",
             0.0003888149967628445
            ]
           ]
          ],
          [
           [
            [
             "scaling_method",
             "robust"
            ],
            [
             "encoding_method",
             "onehot"
            ],
            [
             "drop",
             null
            ],
            [
             "alpha",
             0.0003049211290600782
            ]
           ]
          ],
          [
           [
            [
             "scaling_method",
             "robust"
            ],
            [
             "encoding_method",
             "onehot"
            ],
            [
             "drop",
             null
            ],
            [
             "alpha",
             0.00027663264767635896
            ]
           ]
          ],
          [
           [
            [
             "scaling_method",
             "robust"
            ],
            [
             "encoding_method",
             "onehot"
            ],
            [
             "drop",
             null
            ],
            [
             "alpha",
             0.0003114330508442623
            ]
           ]
          ],
          [
           [
            [
             "scaling_method",
             "robust"
            ],
            [
             "encoding_method",
             "onehot"
            ],
            [
             "drop",
             null
            ],
            [
             "alpha",
             0.0003553635038494085
            ]
           ]
          ],
          [
           [
            [
             "scaling_method",
             "robust"
            ],
            [
             "encoding_method",
             "onehot"
            ],
            [
             "drop",
             null
            ],
            [
             "alpha",
             0.00024735978202556806
            ]
           ]
          ],
          [
           [
            [
             "scaling_method",
             "robust"
            ],
            [
             "encoding_method",
             "onehot"
            ],
            [
             "drop",
             null
            ],
            [
             "alpha",
             0.0002934299007174458
            ]
           ]
          ],
          [
           [
            [
             "scaling_method",
             "maxabs"
            ],
            [
             "encoding_method",
             "onehot"
            ],
            [
             "drop",
             null
            ],
            [
             "alpha",
             0.0003243074570782025
            ]
           ]
          ],
          [
           [
            [
             "scaling_method",
             "robust"
            ],
            [
             "encoding_method",
             "onehot"
            ],
            [
             "drop",
             null
            ],
            [
             "alpha",
             0.00026409925459837516
            ]
           ]
          ],
          [
           [
            [
             "scaling_method",
             "robust"
            ],
            [
             "encoding_method",
             "onehot"
            ],
            [
             "drop",
             "first"
            ],
            [
             "alpha",
             0.00022965327998739806
            ]
           ]
          ],
          [
           [
            [
             "scaling_method",
             "robust"
            ],
            [
             "encoding_method",
             "onehot"
            ],
            [
             "drop",
             null
            ],
            [
             "alpha",
             0.0003131947927507659
            ]
           ]
          ],
          [
           [
            [
             "scaling_method",
             "robust"
            ],
            [
             "encoding_method",
             "onehot"
            ],
            [
             "drop",
             null
            ],
            [
             "alpha",
             0.00029558064269849066
            ]
           ]
          ],
          [
           [
            [
             "scaling_method",
             "robust"
            ],
            [
             "encoding_method",
             "onehot"
            ],
            [
             "drop",
             null
            ],
            [
             "alpha",
             0.00034438511180763347
            ]
           ]
          ],
          [
           [
            [
             "scaling_method",
             "robust"
            ],
            [
             "encoding_method",
             "onehot"
            ],
            [
             "drop",
             null
            ],
            [
             "alpha",
             0.00029038903144563505
            ]
           ]
          ],
          [
           [
            [
             "scaling_method",
             "robust"
            ],
            [
             "encoding_method",
             "onehot"
            ],
            [
             "drop",
             null
            ],
            [
             "alpha",
             0.0003814762162935689
            ]
           ]
          ],
          [
           [
            [
             "scaling_method",
             "robust"
            ],
            [
             "encoding_method",
             "onehot"
            ],
            [
             "drop",
             null
            ],
            [
             "alpha",
             0.00031881502123266083
            ]
           ]
          ],
          [
           [
            [
             "scaling_method",
             "robust"
            ],
            [
             "encoding_method",
             "onehot"
            ],
            [
             "drop",
             null
            ],
            [
             "alpha",
             0.0002681604864862338
            ]
           ]
          ],
          [
           [
            [
             "scaling_method",
             "robust"
            ],
            [
             "encoding_method",
             "onehot"
            ],
            [
             "drop",
             null
            ],
            [
             "alpha",
             0.00028765471536430217
            ]
           ]
          ],
          [
           [
            [
             "scaling_method",
             "minmax"
            ],
            [
             "encoding_method",
             "onehot"
            ],
            [
             "drop",
             null
            ],
            [
             "alpha",
             0.000358553124387058
            ]
           ]
          ]
         ],
         "hovertemplate": "encoding=onehot<br>Optuna Trial=%{x}<br>Score (R-Squared)=%{y}<br>Parameters=%{customdata[0]}<extra></extra>",
         "legendgroup": "onehot",
         "marker": {
          "color": "#EF553B",
          "symbol": "circle"
         },
         "mode": "markers",
         "name": "onehot",
         "orientation": "v",
         "showlegend": true,
         "type": "scatter",
         "x": [
          2,
          3,
          5,
          6,
          8,
          9,
          10,
          11,
          12,
          13,
          14,
          15,
          16,
          17,
          19,
          20,
          21,
          22,
          23,
          24,
          25,
          27,
          28,
          30,
          31,
          32,
          33,
          34,
          36,
          37,
          38,
          40,
          41,
          42,
          43,
          44,
          45,
          46,
          47,
          48,
          49,
          51,
          52,
          53,
          54,
          55,
          56,
          57,
          58,
          59,
          60,
          61,
          62,
          63,
          64,
          65,
          66,
          67,
          69,
          70,
          71,
          72,
          73,
          74,
          75,
          76,
          77,
          78,
          80,
          81,
          82,
          83,
          84,
          85,
          86,
          87,
          88,
          89,
          90,
          91,
          92,
          93,
          94,
          95,
          97,
          98,
          99,
          100,
          101,
          102,
          103,
          104,
          105,
          106,
          107,
          108,
          109,
          111,
          112,
          113,
          114,
          115,
          116,
          117,
          118,
          119,
          120,
          121,
          122,
          123,
          124,
          125,
          126,
          127,
          128,
          129,
          130,
          131,
          132,
          133,
          134,
          135,
          137,
          138,
          139,
          140,
          141,
          142,
          143,
          144,
          145,
          146,
          147,
          148,
          149,
          150,
          151,
          152,
          153,
          154,
          155,
          156,
          157,
          158,
          159,
          161,
          162,
          163,
          164,
          165,
          166,
          167,
          168,
          169,
          170,
          171,
          172,
          173,
          174,
          175,
          176,
          177,
          178,
          179,
          180,
          181,
          182,
          183,
          184,
          185,
          186,
          187,
          188,
          190,
          191,
          192,
          193,
          194,
          195,
          196,
          197,
          198,
          199
         ],
         "xaxis": "x",
         "y": [
          0.9478957812069528,
          0.9482369413368529,
          0.9504529057304483,
          0.9478855603121983,
          0.9478334867697619,
          0.9472192775906901,
          0.9499707550376874,
          0.9499883195294488,
          0.9498823251556082,
          0.9499945032697173,
          0.9488203325381146,
          0.9487012371351049,
          0.9498084651685395,
          0.9494715788682795,
          0.9503137205510633,
          0.9491341280244316,
          0.9504139239048403,
          0.9503000942239881,
          0.9502787887278595,
          0.9487211677248805,
          0.9504619036661117,
          0.946902621321246,
          0.9504825674291144,
          0.9505232948141739,
          0.950515316782826,
          0.9506150928524473,
          0.9506302634672545,
          0.9505027302461974,
          0.950632762387974,
          0.9464551863316732,
          0.9505754196303947,
          0.9508123081664767,
          0.9508106262650469,
          0.9508124507938893,
          0.9508090778208643,
          0.950650579140838,
          0.9494564060785707,
          0.9505752669592871,
          0.9507381964623723,
          0.9508117368547238,
          0.9508112262498137,
          0.950810619697387,
          0.9503421330671452,
          0.9507324619192833,
          0.9508076840928542,
          0.9507972897245489,
          0.9497202652046113,
          0.9504710033792684,
          0.9469528084713353,
          0.9468156085654101,
          0.9502330248295149,
          0.9508095025858623,
          0.9508110298569455,
          0.9502514246756191,
          0.9507663831535081,
          0.9508113312592009,
          0.9505764458222764,
          0.9501383045596965,
          0.9496631803259048,
          0.9507806883482987,
          0.9508114165372777,
          0.9507517765011759,
          0.9505602456587765,
          0.950799963150744,
          0.9504545527831736,
          0.9502470815995456,
          0.9500167828520556,
          0.9500764650563003,
          0.9467360074281166,
          0.9508114094023117,
          0.9508082048282571,
          0.9507881533355084,
          0.9507773169667928,
          0.9501612230544731,
          0.9505832836744539,
          0.9505197091109274,
          0.9508124811471179,
          0.9506356015058526,
          0.9476431716599324,
          0.950797558545631,
          0.9508117833909953,
          0.950749401107499,
          0.9508123138142952,
          0.9507277958188898,
          0.9505583345252102,
          0.9505238791019778,
          0.9507040608347579,
          0.9478349312439869,
          0.9508106272346657,
          0.9506896302826113,
          0.9507781975862446,
          0.9508124821158186,
          0.9507777913331168,
          0.9506469575473661,
          0.9503160075818219,
          0.950346892814767,
          0.9507591199005603,
          0.9508114868731949,
          0.9508059517106323,
          0.9507975881523126,
          0.9507407729306946,
          0.9504898910650029,
          0.9505761124859532,
          0.9486801214409276,
          0.9507403830925648,
          0.9508014330715536,
          0.9481769796037323,
          0.9508118430152207,
          0.9508116478512599,
          0.9506930330947224,
          0.9508118086653601,
          0.9508113216414141,
          0.9507092939266517,
          0.9507752047023892,
          0.9505995506580348,
          0.9507626882997421,
          0.9506425070158689,
          0.9508114676378001,
          0.9507930104202927,
          0.9508112919827315,
          0.9507972356414316,
          0.9508047478827771,
          0.9505685625360029,
          0.9502716823618675,
          0.9507589508282752,
          0.9491396850162752,
          0.9508120108537239,
          0.9508117641358724,
          0.950801557547112,
          0.9505979936150102,
          0.9508038034960957,
          0.9507336732032575,
          0.950811514760413,
          0.950660790674894,
          0.9472390558632767,
          0.9506658544991637,
          0.9508094956354782,
          0.9508125679921836,
          0.950802212048092,
          0.950800035812323,
          0.9508114093282106,
          0.950781280641076,
          0.9505190632953597,
          0.9507942486242907,
          0.9505707979163616,
          0.9508124580794004,
          0.9507178531231422,
          0.9508117673132391,
          0.9507908689898341,
          0.9507797226132266,
          0.9504747875801479,
          0.9506903879715045,
          0.9508104007843514,
          0.9506077464425825,
          0.9485288658374227,
          0.95081191627602,
          0.9507823254316266,
          0.9507597354430037,
          0.9508125103999369,
          0.950809747327224,
          0.9507979102003068,
          0.9507651452249057,
          0.9508120575853578,
          0.9508037635134066,
          0.9507397148337453,
          0.950812427632443,
          0.950790976344598,
          0.9508115075162349,
          0.9507879840297312,
          0.9506967514520092,
          0.950808955899159,
          0.9476948757409577,
          0.9507607700457552,
          0.9504500948384816,
          0.9508107239771999,
          0.9508100654286838,
          0.9507998720675648,
          0.9508066252031364,
          0.9507509787675357,
          0.9508114186691603,
          0.950773313975348,
          0.9508039237731637,
          0.9500550819769611
         ],
         "yaxis": "y"
        }
       ],
       "layout": {
        "hoverlabel": {
         "bgcolor": "white",
         "font": {
          "family": "Rockwell",
          "size": 8
         }
        },
        "legend": {
         "title": {
          "text": "encoding"
         },
         "tracegroupgap": 0
        },
        "template": {
         "data": {
          "bar": [
           {
            "error_x": {
             "color": "#2a3f5f"
            },
            "error_y": {
             "color": "#2a3f5f"
            },
            "marker": {
             "line": {
              "color": "#E5ECF6",
              "width": 0.5
             },
             "pattern": {
              "fillmode": "overlay",
              "size": 10,
              "solidity": 0.2
             }
            },
            "type": "bar"
           }
          ],
          "barpolar": [
           {
            "marker": {
             "line": {
              "color": "#E5ECF6",
              "width": 0.5
             },
             "pattern": {
              "fillmode": "overlay",
              "size": 10,
              "solidity": 0.2
             }
            },
            "type": "barpolar"
           }
          ],
          "carpet": [
           {
            "aaxis": {
             "endlinecolor": "#2a3f5f",
             "gridcolor": "white",
             "linecolor": "white",
             "minorgridcolor": "white",
             "startlinecolor": "#2a3f5f"
            },
            "baxis": {
             "endlinecolor": "#2a3f5f",
             "gridcolor": "white",
             "linecolor": "white",
             "minorgridcolor": "white",
             "startlinecolor": "#2a3f5f"
            },
            "type": "carpet"
           }
          ],
          "choropleth": [
           {
            "colorbar": {
             "outlinewidth": 0,
             "ticks": ""
            },
            "type": "choropleth"
           }
          ],
          "contour": [
           {
            "colorbar": {
             "outlinewidth": 0,
             "ticks": ""
            },
            "colorscale": [
             [
              0,
              "#0d0887"
             ],
             [
              0.1111111111111111,
              "#46039f"
             ],
             [
              0.2222222222222222,
              "#7201a8"
             ],
             [
              0.3333333333333333,
              "#9c179e"
             ],
             [
              0.4444444444444444,
              "#bd3786"
             ],
             [
              0.5555555555555556,
              "#d8576b"
             ],
             [
              0.6666666666666666,
              "#ed7953"
             ],
             [
              0.7777777777777778,
              "#fb9f3a"
             ],
             [
              0.8888888888888888,
              "#fdca26"
             ],
             [
              1,
              "#f0f921"
             ]
            ],
            "type": "contour"
           }
          ],
          "contourcarpet": [
           {
            "colorbar": {
             "outlinewidth": 0,
             "ticks": ""
            },
            "type": "contourcarpet"
           }
          ],
          "heatmap": [
           {
            "colorbar": {
             "outlinewidth": 0,
             "ticks": ""
            },
            "colorscale": [
             [
              0,
              "#0d0887"
             ],
             [
              0.1111111111111111,
              "#46039f"
             ],
             [
              0.2222222222222222,
              "#7201a8"
             ],
             [
              0.3333333333333333,
              "#9c179e"
             ],
             [
              0.4444444444444444,
              "#bd3786"
             ],
             [
              0.5555555555555556,
              "#d8576b"
             ],
             [
              0.6666666666666666,
              "#ed7953"
             ],
             [
              0.7777777777777778,
              "#fb9f3a"
             ],
             [
              0.8888888888888888,
              "#fdca26"
             ],
             [
              1,
              "#f0f921"
             ]
            ],
            "type": "heatmap"
           }
          ],
          "heatmapgl": [
           {
            "colorbar": {
             "outlinewidth": 0,
             "ticks": ""
            },
            "colorscale": [
             [
              0,
              "#0d0887"
             ],
             [
              0.1111111111111111,
              "#46039f"
             ],
             [
              0.2222222222222222,
              "#7201a8"
             ],
             [
              0.3333333333333333,
              "#9c179e"
             ],
             [
              0.4444444444444444,
              "#bd3786"
             ],
             [
              0.5555555555555556,
              "#d8576b"
             ],
             [
              0.6666666666666666,
              "#ed7953"
             ],
             [
              0.7777777777777778,
              "#fb9f3a"
             ],
             [
              0.8888888888888888,
              "#fdca26"
             ],
             [
              1,
              "#f0f921"
             ]
            ],
            "type": "heatmapgl"
           }
          ],
          "histogram": [
           {
            "marker": {
             "pattern": {
              "fillmode": "overlay",
              "size": 10,
              "solidity": 0.2
             }
            },
            "type": "histogram"
           }
          ],
          "histogram2d": [
           {
            "colorbar": {
             "outlinewidth": 0,
             "ticks": ""
            },
            "colorscale": [
             [
              0,
              "#0d0887"
             ],
             [
              0.1111111111111111,
              "#46039f"
             ],
             [
              0.2222222222222222,
              "#7201a8"
             ],
             [
              0.3333333333333333,
              "#9c179e"
             ],
             [
              0.4444444444444444,
              "#bd3786"
             ],
             [
              0.5555555555555556,
              "#d8576b"
             ],
             [
              0.6666666666666666,
              "#ed7953"
             ],
             [
              0.7777777777777778,
              "#fb9f3a"
             ],
             [
              0.8888888888888888,
              "#fdca26"
             ],
             [
              1,
              "#f0f921"
             ]
            ],
            "type": "histogram2d"
           }
          ],
          "histogram2dcontour": [
           {
            "colorbar": {
             "outlinewidth": 0,
             "ticks": ""
            },
            "colorscale": [
             [
              0,
              "#0d0887"
             ],
             [
              0.1111111111111111,
              "#46039f"
             ],
             [
              0.2222222222222222,
              "#7201a8"
             ],
             [
              0.3333333333333333,
              "#9c179e"
             ],
             [
              0.4444444444444444,
              "#bd3786"
             ],
             [
              0.5555555555555556,
              "#d8576b"
             ],
             [
              0.6666666666666666,
              "#ed7953"
             ],
             [
              0.7777777777777778,
              "#fb9f3a"
             ],
             [
              0.8888888888888888,
              "#fdca26"
             ],
             [
              1,
              "#f0f921"
             ]
            ],
            "type": "histogram2dcontour"
           }
          ],
          "mesh3d": [
           {
            "colorbar": {
             "outlinewidth": 0,
             "ticks": ""
            },
            "type": "mesh3d"
           }
          ],
          "parcoords": [
           {
            "line": {
             "colorbar": {
              "outlinewidth": 0,
              "ticks": ""
             }
            },
            "type": "parcoords"
           }
          ],
          "pie": [
           {
            "automargin": true,
            "type": "pie"
           }
          ],
          "scatter": [
           {
            "fillpattern": {
             "fillmode": "overlay",
             "size": 10,
             "solidity": 0.2
            },
            "type": "scatter"
           }
          ],
          "scatter3d": [
           {
            "line": {
             "colorbar": {
              "outlinewidth": 0,
              "ticks": ""
             }
            },
            "marker": {
             "colorbar": {
              "outlinewidth": 0,
              "ticks": ""
             }
            },
            "type": "scatter3d"
           }
          ],
          "scattercarpet": [
           {
            "marker": {
             "colorbar": {
              "outlinewidth": 0,
              "ticks": ""
             }
            },
            "type": "scattercarpet"
           }
          ],
          "scattergeo": [
           {
            "marker": {
             "colorbar": {
              "outlinewidth": 0,
              "ticks": ""
             }
            },
            "type": "scattergeo"
           }
          ],
          "scattergl": [
           {
            "marker": {
             "colorbar": {
              "outlinewidth": 0,
              "ticks": ""
             }
            },
            "type": "scattergl"
           }
          ],
          "scattermapbox": [
           {
            "marker": {
             "colorbar": {
              "outlinewidth": 0,
              "ticks": ""
             }
            },
            "type": "scattermapbox"
           }
          ],
          "scatterpolar": [
           {
            "marker": {
             "colorbar": {
              "outlinewidth": 0,
              "ticks": ""
             }
            },
            "type": "scatterpolar"
           }
          ],
          "scatterpolargl": [
           {
            "marker": {
             "colorbar": {
              "outlinewidth": 0,
              "ticks": ""
             }
            },
            "type": "scatterpolargl"
           }
          ],
          "scatterternary": [
           {
            "marker": {
             "colorbar": {
              "outlinewidth": 0,
              "ticks": ""
             }
            },
            "type": "scatterternary"
           }
          ],
          "surface": [
           {
            "colorbar": {
             "outlinewidth": 0,
             "ticks": ""
            },
            "colorscale": [
             [
              0,
              "#0d0887"
             ],
             [
              0.1111111111111111,
              "#46039f"
             ],
             [
              0.2222222222222222,
              "#7201a8"
             ],
             [
              0.3333333333333333,
              "#9c179e"
             ],
             [
              0.4444444444444444,
              "#bd3786"
             ],
             [
              0.5555555555555556,
              "#d8576b"
             ],
             [
              0.6666666666666666,
              "#ed7953"
             ],
             [
              0.7777777777777778,
              "#fb9f3a"
             ],
             [
              0.8888888888888888,
              "#fdca26"
             ],
             [
              1,
              "#f0f921"
             ]
            ],
            "type": "surface"
           }
          ],
          "table": [
           {
            "cells": {
             "fill": {
              "color": "#EBF0F8"
             },
             "line": {
              "color": "white"
             }
            },
            "header": {
             "fill": {
              "color": "#C8D4E3"
             },
             "line": {
              "color": "white"
             }
            },
            "type": "table"
           }
          ]
         },
         "layout": {
          "annotationdefaults": {
           "arrowcolor": "#2a3f5f",
           "arrowhead": 0,
           "arrowwidth": 1
          },
          "autotypenumbers": "strict",
          "coloraxis": {
           "colorbar": {
            "outlinewidth": 0,
            "ticks": ""
           }
          },
          "colorscale": {
           "diverging": [
            [
             0,
             "#8e0152"
            ],
            [
             0.1,
             "#c51b7d"
            ],
            [
             0.2,
             "#de77ae"
            ],
            [
             0.3,
             "#f1b6da"
            ],
            [
             0.4,
             "#fde0ef"
            ],
            [
             0.5,
             "#f7f7f7"
            ],
            [
             0.6,
             "#e6f5d0"
            ],
            [
             0.7,
             "#b8e186"
            ],
            [
             0.8,
             "#7fbc41"
            ],
            [
             0.9,
             "#4d9221"
            ],
            [
             1,
             "#276419"
            ]
           ],
           "sequential": [
            [
             0,
             "#0d0887"
            ],
            [
             0.1111111111111111,
             "#46039f"
            ],
            [
             0.2222222222222222,
             "#7201a8"
            ],
            [
             0.3333333333333333,
             "#9c179e"
            ],
            [
             0.4444444444444444,
             "#bd3786"
            ],
            [
             0.5555555555555556,
             "#d8576b"
            ],
            [
             0.6666666666666666,
             "#ed7953"
            ],
            [
             0.7777777777777778,
             "#fb9f3a"
            ],
            [
             0.8888888888888888,
             "#fdca26"
            ],
            [
             1,
             "#f0f921"
            ]
           ],
           "sequentialminus": [
            [
             0,
             "#0d0887"
            ],
            [
             0.1111111111111111,
             "#46039f"
            ],
            [
             0.2222222222222222,
             "#7201a8"
            ],
            [
             0.3333333333333333,
             "#9c179e"
            ],
            [
             0.4444444444444444,
             "#bd3786"
            ],
            [
             0.5555555555555556,
             "#d8576b"
            ],
            [
             0.6666666666666666,
             "#ed7953"
            ],
            [
             0.7777777777777778,
             "#fb9f3a"
            ],
            [
             0.8888888888888888,
             "#fdca26"
            ],
            [
             1,
             "#f0f921"
            ]
           ]
          },
          "colorway": [
           "#636efa",
           "#EF553B",
           "#00cc96",
           "#ab63fa",
           "#FFA15A",
           "#19d3f3",
           "#FF6692",
           "#B6E880",
           "#FF97FF",
           "#FECB52"
          ],
          "font": {
           "color": "#2a3f5f"
          },
          "geo": {
           "bgcolor": "white",
           "lakecolor": "white",
           "landcolor": "#E5ECF6",
           "showlakes": true,
           "showland": true,
           "subunitcolor": "white"
          },
          "hoverlabel": {
           "align": "left"
          },
          "hovermode": "closest",
          "mapbox": {
           "style": "light"
          },
          "paper_bgcolor": "white",
          "plot_bgcolor": "#E5ECF6",
          "polar": {
           "angularaxis": {
            "gridcolor": "white",
            "linecolor": "white",
            "ticks": ""
           },
           "bgcolor": "#E5ECF6",
           "radialaxis": {
            "gridcolor": "white",
            "linecolor": "white",
            "ticks": ""
           }
          },
          "scene": {
           "xaxis": {
            "backgroundcolor": "#E5ECF6",
            "gridcolor": "white",
            "gridwidth": 2,
            "linecolor": "white",
            "showbackground": true,
            "ticks": "",
            "zerolinecolor": "white"
           },
           "yaxis": {
            "backgroundcolor": "#E5ECF6",
            "gridcolor": "white",
            "gridwidth": 2,
            "linecolor": "white",
            "showbackground": true,
            "ticks": "",
            "zerolinecolor": "white"
           },
           "zaxis": {
            "backgroundcolor": "#E5ECF6",
            "gridcolor": "white",
            "gridwidth": 2,
            "linecolor": "white",
            "showbackground": true,
            "ticks": "",
            "zerolinecolor": "white"
           }
          },
          "shapedefaults": {
           "line": {
            "color": "#2a3f5f"
           }
          },
          "ternary": {
           "aaxis": {
            "gridcolor": "white",
            "linecolor": "white",
            "ticks": ""
           },
           "baxis": {
            "gridcolor": "white",
            "linecolor": "white",
            "ticks": ""
           },
           "bgcolor": "#E5ECF6",
           "caxis": {
            "gridcolor": "white",
            "linecolor": "white",
            "ticks": ""
           }
          },
          "title": {
           "x": 0.05
          },
          "xaxis": {
           "automargin": true,
           "gridcolor": "white",
           "linecolor": "white",
           "ticks": "",
           "title": {
            "standoff": 15
           },
           "zerolinecolor": "white",
           "zerolinewidth": 2
          },
          "yaxis": {
           "automargin": true,
           "gridcolor": "white",
           "linecolor": "white",
           "ticks": "",
           "title": {
            "standoff": 15
           },
           "zerolinecolor": "white",
           "zerolinewidth": 2
          }
         }
        },
        "title": {
         "text": "Lasso tuned with Optuna after 200 trials  <br><sup> Best Score: 0.9508</sup>"
        },
        "xaxis": {
         "anchor": "y",
         "domain": [
          0,
          1
         ],
         "title": {
          "text": "Optuna Trial"
         }
        },
        "yaxis": {
         "anchor": "x",
         "domain": [
          0,
          1
         ],
         "title": {
          "text": "Score (R-Squared)"
         }
        }
       }
      },
      "text/html": [
       "<div>                            <div id=\"34c86c35-0d90-47db-8189-5919d5fa70ab\" class=\"plotly-graph-div\" style=\"height:525px; width:100%;\"></div>            <script type=\"text/javascript\">                require([\"plotly\"], function(Plotly) {                    window.PLOTLYENV=window.PLOTLYENV || {};                                    if (document.getElementById(\"34c86c35-0d90-47db-8189-5919d5fa70ab\")) {                    Plotly.newPlot(                        \"34c86c35-0d90-47db-8189-5919d5fa70ab\",                        [{\"customdata\":[[[[\"scaling_method\",\"minmax\"],[\"encoding_method\",\"ordinal\"],[\"alpha\",1.6999779739443475e-05]]],[[[\"scaling_method\",\"standard\"],[\"encoding_method\",\"ordinal\"],[\"alpha\",0.00037901740871573876]]],[[[\"scaling_method\",\"maxabs\"],[\"encoding_method\",\"ordinal\"],[\"alpha\",1.0571302084059589e-05]]],[[[\"scaling_method\",\"maxabs\"],[\"encoding_method\",\"ordinal\"],[\"alpha\",6.478886532606612e-05]]],[[[\"scaling_method\",\"standard\"],[\"encoding_method\",\"ordinal\"],[\"alpha\",0.0002485576296032603]]],[[[\"scaling_method\",\"minmax\"],[\"encoding_method\",\"ordinal\"],[\"alpha\",0.0002350651207763719]]],[[[\"scaling_method\",\"minmax\"],[\"encoding_method\",\"ordinal\"],[\"alpha\",7.543026208387515e-05]]],[[[\"scaling_method\",\"maxabs\"],[\"encoding_method\",\"ordinal\"],[\"alpha\",0.0002645324597600693]]],[[[\"scaling_method\",\"robust\"],[\"encoding_method\",\"ordinal\"],[\"alpha\",0.0002326463423086296]]],[[[\"scaling_method\",\"robust\"],[\"encoding_method\",\"ordinal\"],[\"alpha\",0.00029627581880223487]]],[[[\"scaling_method\",\"maxabs\"],[\"encoding_method\",\"ordinal\"],[\"alpha\",0.0004403784585641443]]],[[[\"scaling_method\",\"robust\"],[\"encoding_method\",\"ordinal\"],[\"alpha\",0.0001835792071869054]]],[[[\"scaling_method\",\"robust\"],[\"encoding_method\",\"ordinal\"],[\"alpha\",0.00028628695794383826]]],[[[\"scaling_method\",\"standard\"],[\"encoding_method\",\"ordinal\"],[\"alpha\",0.00022536472456229122]]],[[[\"scaling_method\",\"robust\"],[\"encoding_method\",\"ordinal\"],[\"alpha\",0.00040970582085139267]]],[[[\"scaling_method\",\"robust\"],[\"encoding_method\",\"ordinal\"],[\"alpha\",0.00040355700713696514]]],[[[\"scaling_method\",\"robust\"],[\"encoding_method\",\"ordinal\"],[\"alpha\",0.0004412746596603025]]]],\"hovertemplate\":\"encoding=ordinal<br>Optuna Trial=%{x}<br>Score (R-Squared)=%{y}<br>Parameters=%{customdata[0]}<extra></extra>\",\"legendgroup\":\"ordinal\",\"marker\":{\"color\":\"#636efa\",\"symbol\":\"circle\"},\"mode\":\"markers\",\"name\":\"ordinal\",\"orientation\":\"v\",\"showlegend\":true,\"x\":[0,1,4,7,18,26,29,35,39,50,68,79,96,110,136,160,189],\"xaxis\":\"x\",\"y\":[0.9410964585788589,0.9413211302238509,0.9410948061762172,0.9407264490840564,0.941345031054507,0.9417441538370372,0.9416691062939966,0.9377227091518918,0.9417185908920136,0.941741860252935,0.9369529061581859,0.9416869074248633,0.9417353760229847,0.9413514441362898,0.9417986552056098,0.9417944308175337,0.9418150770056742],\"yaxis\":\"y\",\"type\":\"scatter\"},{\"customdata\":[[[[\"scaling_method\",\"robust\"],[\"encoding_method\",\"onehot\"],[\"drop\",\"first\"],[\"alpha\",0.0009834045353742098]]],[[[\"scaling_method\",\"minmax\"],[\"encoding_method\",\"onehot\"],[\"drop\",null],[\"alpha\",2.5666965172816898e-05]]],[[[\"scaling_method\",\"minmax\"],[\"encoding_method\",\"onehot\"],[\"drop\",\"first\"],[\"alpha\",0.0001805843978097374]]],[[[\"scaling_method\",\"robust\"],[\"encoding_method\",\"onehot\"],[\"drop\",\"first\"],[\"alpha\",0.0009855589617302543]]],[[[\"scaling_method\",\"minmax\"],[\"encoding_method\",\"onehot\"],[\"drop\",null],[\"alpha\",2.0334104634118778e-05]]],[[[\"scaling_method\",\"maxabs\"],[\"encoding_method\",\"onehot\"],[\"drop\",null],[\"alpha\",1.5865219618254177e-05]]],[[[\"scaling_method\",\"standard\"],[\"encoding_method\",\"onehot\"],[\"drop\",\"first\"],[\"alpha\",0.00016871426960348698]]],[[[\"scaling_method\",\"standard\"],[\"encoding_method\",\"onehot\"],[\"drop\",\"first\"],[\"alpha\",0.00018618022287801223]]],[[[\"scaling_method\",\"standard\"],[\"encoding_method\",\"onehot\"],[\"drop\",\"first\"],[\"alpha\",0.00013628818329266117]]],[[[\"scaling_method\",\"standard\"],[\"encoding_method\",\"onehot\"],[\"drop\",\"first\"],[\"alpha\",0.0003290802983260909]]],[[[\"scaling_method\",\"minmax\"],[\"encoding_method\",\"onehot\"],[\"drop\",\"first\"],[\"alpha\",0.0004621217221409863]]],[[[\"scaling_method\",\"standard\"],[\"encoding_method\",\"onehot\"],[\"drop\",\"first\"],[\"alpha\",5.201737402388417e-05]]],[[[\"scaling_method\",\"minmax\"],[\"encoding_method\",\"onehot\"],[\"drop\",\"first\"],[\"alpha\",0.0003580972432190157]]],[[[\"scaling_method\",\"robust\"],[\"encoding_method\",\"onehot\"],[\"drop\",\"first\"],[\"alpha\",7.386985740718379e-05]]],[[[\"scaling_method\",\"minmax\"],[\"encoding_method\",\"onehot\"],[\"drop\",null],[\"alpha\",0.00010584000640728798]]],[[[\"scaling_method\",\"minmax\"],[\"encoding_method\",\"onehot\"],[\"drop\",null],[\"alpha\",4.4256477240802484e-05]]],[[[\"scaling_method\",\"minmax\"],[\"encoding_method\",\"onehot\"],[\"drop\",null],[\"alpha\",0.00011995377585522929]]],[[[\"scaling_method\",\"minmax\"],[\"encoding_method\",\"onehot\"],[\"drop\",null],[\"alpha\",0.00010409204132520336]]],[[[\"scaling_method\",\"minmax\"],[\"encoding_method\",\"onehot\"],[\"drop\",null],[\"alpha\",0.00010122742224900169]]],[[[\"scaling_method\",\"minmax\"],[\"encoding_method\",\"onehot\"],[\"drop\",null],[\"alpha\",3.461610229251749e-05]]],[[[\"scaling_method\",\"minmax\"],[\"encoding_method\",\"onehot\"],[\"drop\",null],[\"alpha\",0.0001326221634647077]]],[[[\"scaling_method\",\"minmax\"],[\"encoding_method\",\"onehot\"],[\"drop\",null],[\"alpha\",0.0006324653594778544]]],[[[\"scaling_method\",\"minmax\"],[\"encoding_method\",\"onehot\"],[\"drop\",null],[\"alpha\",0.00013964514205982436]]],[[[\"scaling_method\",\"minmax\"],[\"encoding_method\",\"onehot\"],[\"drop\",null],[\"alpha\",0.00017108314988052164]]],[[[\"scaling_method\",\"minmax\"],[\"encoding_method\",\"onehot\"],[\"drop\",null],[\"alpha\",0.00016909999079975417]]],[[[\"scaling_method\",\"minmax\"],[\"encoding_method\",\"onehot\"],[\"drop\",null],[\"alpha\",0.00025670123034805505]]],[[[\"scaling_method\",\"minmax\"],[\"encoding_method\",\"onehot\"],[\"drop\",null],[\"alpha\",0.00024546965515418747]]],[[[\"scaling_method\",\"robust\"],[\"encoding_method\",\"onehot\"],[\"drop\",null],[\"alpha\",0.0005086212577894232]]],[[[\"scaling_method\",\"minmax\"],[\"encoding_method\",\"onehot\"],[\"drop\",null],[\"alpha\",0.00020881928921946346]]],[[[\"scaling_method\",\"minmax\"],[\"encoding_method\",\"onehot\"],[\"drop\",null],[\"alpha\",0.0006715888395721741]]],[[[\"scaling_method\",\"robust\"],[\"encoding_method\",\"onehot\"],[\"drop\",null],[\"alpha\",0.0002194422481917491]]],[[[\"scaling_method\",\"robust\"],[\"encoding_method\",\"onehot\"],[\"drop\",null],[\"alpha\",0.0003064569186647933]]],[[[\"scaling_method\",\"robust\"],[\"encoding_method\",\"onehot\"],[\"drop\",null],[\"alpha\",0.0003127497096732443]]],[[[\"scaling_method\",\"robust\"],[\"encoding_method\",\"onehot\"],[\"drop\",null],[\"alpha\",0.0003050192339312437]]],[[[\"scaling_method\",\"robust\"],[\"encoding_method\",\"onehot\"],[\"drop\",null],[\"alpha\",0.0003296946939111782]]],[[[\"scaling_method\",\"robust\"],[\"encoding_method\",\"onehot\"],[\"drop\",null],[\"alpha\",0.0004417118901633665]]],[[[\"scaling_method\",\"robust\"],[\"encoding_method\",\"onehot\"],[\"drop\",null],[\"alpha\",0.0008171454475088264]]],[[[\"scaling_method\",\"robust\"],[\"encoding_method\",\"onehot\"],[\"drop\",null],[\"alpha\",0.0004785517806513343]]],[[[\"scaling_method\",\"robust\"],[\"encoding_method\",\"onehot\"],[\"drop\",null],[\"alpha\",0.0003899383411694721]]],[[[\"scaling_method\",\"robust\"],[\"encoding_method\",\"onehot\"],[\"drop\",null],[\"alpha\",0.0003101183042511032]]],[[[\"scaling_method\",\"robust\"],[\"encoding_method\",\"onehot\"],[\"drop\",null],[\"alpha\",0.0002981174360914308]]],[[[\"scaling_method\",\"robust\"],[\"encoding_method\",\"onehot\"],[\"drop\",null],[\"alpha\",0.00031272068270660967]]],[[[\"scaling_method\",\"robust\"],[\"encoding_method\",\"onehot\"],[\"drop\",null],[\"alpha\",0.0005736610727316462]]],[[[\"scaling_method\",\"robust\"],[\"encoding_method\",\"onehot\"],[\"drop\",null],[\"alpha\",0.0003941206582719486]]],[[[\"scaling_method\",\"robust\"],[\"encoding_method\",\"onehot\"],[\"drop\",null],[\"alpha\",0.0003329406332515926]]],[[[\"scaling_method\",\"robust\"],[\"encoding_method\",\"onehot\"],[\"drop\",null],[\"alpha\",0.00028132924126185015]]],[[[\"scaling_method\",\"robust\"],[\"encoding_method\",\"onehot\"],[\"drop\",null],[\"alpha\",0.0007572874863850926]]],[[[\"scaling_method\",\"robust\"],[\"encoding_method\",\"onehot\"],[\"drop\",null],[\"alpha\",0.00019611906058949062]]],[[[\"scaling_method\",\"maxabs\"],[\"encoding_method\",\"onehot\"],[\"drop\",null],[\"alpha\",0.00040993915334869226]]],[[[\"scaling_method\",\"robust\"],[\"encoding_method\",\"onehot\"],[\"drop\",null],[\"alpha\",1.1064262383536528e-05]]],[[[\"scaling_method\",\"robust\"],[\"encoding_method\",\"onehot\"],[\"drop\",\"first\"],[\"alpha\",0.0005493597900853393]]],[[[\"scaling_method\",\"robust\"],[\"encoding_method\",\"onehot\"],[\"drop\",null],[\"alpha\",0.0003285075797876456]]],[[[\"scaling_method\",\"robust\"],[\"encoding_method\",\"onehot\"],[\"drop\",null],[\"alpha\",0.0003147317306007524]]],[[[\"scaling_method\",\"robust\"],[\"encoding_method\",\"onehot\"],[\"drop\",null],[\"alpha\",0.00015196797296175977]]],[[[\"scaling_method\",\"robust\"],[\"encoding_method\",\"onehot\"],[\"drop\",null],[\"alpha\",0.00037075764102573503]]],[[[\"scaling_method\",\"robust\"],[\"encoding_method\",\"onehot\"],[\"drop\",null],[\"alpha\",0.00029836788130463556]]],[[[\"scaling_method\",\"robust\"],[\"encoding_method\",\"onehot\"],[\"drop\",\"first\"],[\"alpha\",0.00029303819083128217]]],[[[\"scaling_method\",\"standard\"],[\"encoding_method\",\"onehot\"],[\"drop\",null],[\"alpha\",0.0001913608550974501]]],[[[\"scaling_method\",\"robust\"],[\"encoding_method\",\"onehot\"],[\"drop\",null],[\"alpha\",8.469787871917419e-05]]],[[[\"scaling_method\",\"robust\"],[\"encoding_method\",\"onehot\"],[\"drop\",null],[\"alpha\",0.0003606302092314591]]],[[[\"scaling_method\",\"robust\"],[\"encoding_method\",\"onehot\"],[\"drop\",null],[\"alpha\",0.0002990743076922863]]],[[[\"scaling_method\",\"robust\"],[\"encoding_method\",\"onehot\"],[\"drop\",null],[\"alpha\",0.00026130565555297495]]],[[[\"scaling_method\",\"robust\"],[\"encoding_method\",\"onehot\"],[\"drop\",null],[\"alpha\",0.00021617622874100598]]],[[[\"scaling_method\",\"robust\"],[\"encoding_method\",\"onehot\"],[\"drop\",null],[\"alpha\",0.0002838205028301019]]],[[[\"scaling_method\",\"robust\"],[\"encoding_method\",\"onehot\"],[\"drop\",null],[\"alpha\",0.0005264794351075392]]],[[[\"scaling_method\",\"robust\"],[\"encoding_method\",\"onehot\"],[\"drop\",null],[\"alpha\",0.00015114781462749382]]],[[[\"scaling_method\",\"standard\"],[\"encoding_method\",\"onehot\"],[\"drop\",\"first\"],[\"alpha\",0.00024019974583788765]]],[[[\"scaling_method\",\"robust\"],[\"encoding_method\",\"onehot\"],[\"drop\",null],[\"alpha\",0.00011948040475744691]]],[[[\"scaling_method\",\"maxabs\"],[\"encoding_method\",\"onehot\"],[\"drop\",null],[\"alpha\",0.00042975037143579045]]],[[[\"scaling_method\",\"robust\"],[\"encoding_method\",\"onehot\"],[\"drop\",null],[\"alpha\",0.0003185049352321612]]],[[[\"scaling_method\",\"robust\"],[\"encoding_method\",\"onehot\"],[\"drop\",null],[\"alpha\",0.0003318356639199196]]],[[[\"scaling_method\",\"robust\"],[\"encoding_method\",\"onehot\"],[\"drop\",null],[\"alpha\",0.00027509425702621626]]],[[[\"scaling_method\",\"robust\"],[\"encoding_method\",\"onehot\"],[\"drop\",null],[\"alpha\",0.00036326517812941246]]],[[[\"scaling_method\",\"robust\"],[\"encoding_method\",\"onehot\"],[\"drop\",null],[\"alpha\",0.0006382274279120593]]],[[[\"scaling_method\",\"robust\"],[\"encoding_method\",\"onehot\"],[\"drop\",null],[\"alpha\",0.0004751880843704951]]],[[[\"scaling_method\",\"robust\"],[\"encoding_method\",\"onehot\"],[\"drop\",null],[\"alpha\",0.00020758244289347818]]],[[[\"scaling_method\",\"robust\"],[\"encoding_method\",\"onehot\"],[\"drop\",null],[\"alpha\",0.00030749465542615406]]],[[[\"scaling_method\",\"robust\"],[\"encoding_method\",\"onehot\"],[\"drop\",null],[\"alpha\",0.00023312459354226766]]],[[[\"scaling_method\",\"standard\"],[\"encoding_method\",\"onehot\"],[\"drop\",\"first\"],[\"alpha\",2.4101309356221665e-05]]],[[[\"scaling_method\",\"robust\"],[\"encoding_method\",\"onehot\"],[\"drop\",null],[\"alpha\",0.0003469591997522128]]],[[[\"scaling_method\",\"robust\"],[\"encoding_method\",\"onehot\"],[\"drop\",null],[\"alpha\",0.0003026913959291174]]],[[[\"scaling_method\",\"robust\"],[\"encoding_method\",\"onehot\"],[\"drop\",null],[\"alpha\",0.0002605679126690703]]],[[[\"scaling_method\",\"robust\"],[\"encoding_method\",\"onehot\"],[\"drop\",null],[\"alpha\",0.0003063922266728557]]],[[[\"scaling_method\",\"robust\"],[\"encoding_method\",\"onehot\"],[\"drop\",null],[\"alpha\",0.0003971020815943377]]],[[[\"scaling_method\",\"robust\"],[\"encoding_method\",\"onehot\"],[\"drop\",null],[\"alpha\",0.00021578751688326747]]],[[[\"scaling_method\",\"robust\"],[\"encoding_method\",\"onehot\"],[\"drop\",null],[\"alpha\",0.0005003828045530127]]],[[[\"scaling_method\",\"robust\"],[\"encoding_method\",\"onehot\"],[\"drop\",null],[\"alpha\",0.00041223591551864137]]],[[[\"scaling_method\",\"maxabs\"],[\"encoding_method\",\"onehot\"],[\"drop\",null],[\"alpha\",0.00030291829918362455]]],[[[\"scaling_method\",\"robust\"],[\"encoding_method\",\"onehot\"],[\"drop\",null],[\"alpha\",0.00031275400442856417]]],[[[\"scaling_method\",\"robust\"],[\"encoding_method\",\"onehot\"],[\"drop\",null],[\"alpha\",0.0002457111217384227]]],[[[\"scaling_method\",\"robust\"],[\"encoding_method\",\"onehot\"],[\"drop\",null],[\"alpha\",0.000362676782776113]]],[[[\"scaling_method\",\"robust\"],[\"encoding_method\",\"onehot\"],[\"drop\",null],[\"alpha\",0.00030748693932609547]]],[[[\"scaling_method\",\"robust\"],[\"encoding_method\",\"onehot\"],[\"drop\",null],[\"alpha\",0.0002698126982438007]]],[[[\"scaling_method\",\"robust\"],[\"encoding_method\",\"onehot\"],[\"drop\",null],[\"alpha\",0.00044361562147509194]]],[[[\"scaling_method\",\"robust\"],[\"encoding_method\",\"onehot\"],[\"drop\",null],[\"alpha\",0.00016325726538022193]]],[[[\"scaling_method\",\"robust\"],[\"encoding_method\",\"onehot\"],[\"drop\",null],[\"alpha\",0.0005718905424736151]]],[[[\"scaling_method\",\"robust\"],[\"encoding_method\",\"onehot\"],[\"drop\",null],[\"alpha\",0.000376068000702289]]],[[[\"scaling_method\",\"robust\"],[\"encoding_method\",\"onehot\"],[\"drop\",null],[\"alpha\",0.0003157933136807474]]],[[[\"scaling_method\",\"robust\"],[\"encoding_method\",\"onehot\"],[\"drop\",null],[\"alpha\",0.00033568765641791697]]],[[[\"scaling_method\",\"robust\"],[\"encoding_method\",\"onehot\"],[\"drop\",null],[\"alpha\",0.00028161131607390785]]],[[[\"scaling_method\",\"robust\"],[\"encoding_method\",\"onehot\"],[\"drop\",null],[\"alpha\",0.0002577494365033056]]],[[[\"scaling_method\",\"robust\"],[\"encoding_method\",\"onehot\"],[\"drop\",null],[\"alpha\",0.00020073176203173212]]],[[[\"scaling_method\",\"robust\"],[\"encoding_method\",\"onehot\"],[\"drop\",\"first\"],[\"alpha\",0.00029419074672369986]]],[[[\"scaling_method\",\"robust\"],[\"encoding_method\",\"onehot\"],[\"drop\",null],[\"alpha\",4.7974107721960385e-05]]],[[[\"scaling_method\",\"robust\"],[\"encoding_method\",\"onehot\"],[\"drop\",null],[\"alpha\",0.0003883934620889762]]],[[[\"scaling_method\",\"robust\"],[\"encoding_method\",\"onehot\"],[\"drop\",null],[\"alpha\",0.0003424164611419181]]],[[[\"scaling_method\",\"maxabs\"],[\"encoding_method\",\"onehot\"],[\"drop\",null],[\"alpha\",3.691681995610418e-05]]],[[[\"scaling_method\",\"robust\"],[\"encoding_method\",\"onehot\"],[\"drop\",null],[\"alpha\",0.0003095721038359429]]],[[[\"scaling_method\",\"robust\"],[\"encoding_method\",\"onehot\"],[\"drop\",null],[\"alpha\",0.00031051120233442333]]],[[[\"scaling_method\",\"robust\"],[\"encoding_method\",\"onehot\"],[\"drop\",null],[\"alpha\",0.00024650116552103404]]],[[[\"scaling_method\",\"robust\"],[\"encoding_method\",\"onehot\"],[\"drop\",null],[\"alpha\",0.00030978212796107125]]],[[[\"scaling_method\",\"robust\"],[\"encoding_method\",\"onehot\"],[\"drop\",null],[\"alpha\",0.0003169971490382569]]],[[[\"scaling_method\",\"robust\"],[\"encoding_method\",\"onehot\"],[\"drop\",null],[\"alpha\",0.0004089569531318941]]],[[[\"scaling_method\",\"robust\"],[\"encoding_method\",\"onehot\"],[\"drop\",null],[\"alpha\",0.000364631002575053]]],[[[\"scaling_method\",\"robust\"],[\"encoding_method\",\"onehot\"],[\"drop\",null],[\"alpha\",0.00046794747570160736]]],[[[\"scaling_method\",\"robust\"],[\"encoding_method\",\"onehot\"],[\"drop\",null],[\"alpha\",0.0002646817989341391]]],[[[\"scaling_method\",\"robust\"],[\"encoding_method\",\"onehot\"],[\"drop\",null],[\"alpha\",0.00023465903452777185]]],[[[\"scaling_method\",\"robust\"],[\"encoding_method\",\"onehot\"],[\"drop\",null],[\"alpha\",0.0003210566972122904]]],[[[\"scaling_method\",\"robust\"],[\"encoding_method\",\"onehot\"],[\"drop\",null],[\"alpha\",0.00035164292536656174]]],[[[\"scaling_method\",\"robust\"],[\"encoding_method\",\"onehot\"],[\"drop\",null],[\"alpha\",0.0003166478286723358]]],[[[\"scaling_method\",\"robust\"],[\"encoding_method\",\"onehot\"],[\"drop\",null],[\"alpha\",0.0002812784015451323]]],[[[\"scaling_method\",\"robust\"],[\"encoding_method\",\"onehot\"],[\"drop\",null],[\"alpha\",0.00033748331322837674]]],[[[\"scaling_method\",\"robust\"],[\"encoding_method\",\"onehot\"],[\"drop\",\"first\"],[\"alpha\",0.00031170080782570925]]],[[[\"scaling_method\",\"standard\"],[\"encoding_method\",\"onehot\"],[\"drop\",null],[\"alpha\",0.000259295739063359]]],[[[\"scaling_method\",\"robust\"],[\"encoding_method\",\"onehot\"],[\"drop\",null],[\"alpha\",0.0003761842094228072]]],[[[\"scaling_method\",\"robust\"],[\"encoding_method\",\"onehot\"],[\"drop\",null],[\"alpha\",6.197174709364292e-05]]],[[[\"scaling_method\",\"robust\"],[\"encoding_method\",\"onehot\"],[\"drop\",null],[\"alpha\",0.00030871356676023186]]],[[[\"scaling_method\",\"robust\"],[\"encoding_method\",\"onehot\"],[\"drop\",null],[\"alpha\",0.0003026034282549153]]],[[[\"scaling_method\",\"robust\"],[\"encoding_method\",\"onehot\"],[\"drop\",null],[\"alpha\",0.0002853919254547699]]],[[[\"scaling_method\",\"robust\"],[\"encoding_method\",\"onehot\"],[\"drop\",null],[\"alpha\",0.00022458305737741924]]],[[[\"scaling_method\",\"robust\"],[\"encoding_method\",\"onehot\"],[\"drop\",null],[\"alpha\",0.0003390019260309091]]],[[[\"scaling_method\",\"robust\"],[\"encoding_method\",\"onehot\"],[\"drop\",null],[\"alpha\",0.00025588943222290783]]],[[[\"scaling_method\",\"robust\"],[\"encoding_method\",\"onehot\"],[\"drop\",null],[\"alpha\",0.0002995329776318518]]],[[[\"scaling_method\",\"robust\"],[\"encoding_method\",\"onehot\"],[\"drop\",null],[\"alpha\",0.0004360067232292847]]],[[[\"scaling_method\",\"maxabs\"],[\"encoding_method\",\"onehot\"],[\"drop\",null],[\"alpha\",0.00038028662353632275]]],[[[\"scaling_method\",\"robust\"],[\"encoding_method\",\"onehot\"],[\"drop\",null],[\"alpha\",0.00024003854349337642]]],[[[\"scaling_method\",\"robust\"],[\"encoding_method\",\"onehot\"],[\"drop\",null],[\"alpha\",0.000294437865126824]]],[[[\"scaling_method\",\"robust\"],[\"encoding_method\",\"onehot\"],[\"drop\",null],[\"alpha\",0.0003059499593517016]]],[[[\"scaling_method\",\"robust\"],[\"encoding_method\",\"onehot\"],[\"drop\",null],[\"alpha\",0.00034134307114919583]]],[[[\"scaling_method\",\"robust\"],[\"encoding_method\",\"onehot\"],[\"drop\",null],[\"alpha\",0.00028388736953979544]]],[[[\"scaling_method\",\"robust\"],[\"encoding_method\",\"onehot\"],[\"drop\",null],[\"alpha\",0.0003185028072726105]]],[[[\"scaling_method\",\"robust\"],[\"encoding_method\",\"onehot\"],[\"drop\",null],[\"alpha\",0.0002714472322377143]]],[[[\"scaling_method\",\"robust\"],[\"encoding_method\",\"onehot\"],[\"drop\",null],[\"alpha\",0.00020742749341672717]]],[[[\"scaling_method\",\"robust\"],[\"encoding_method\",\"onehot\"],[\"drop\",null],[\"alpha\",0.00035051959895189566]]],[[[\"scaling_method\",\"robust\"],[\"encoding_method\",\"onehot\"],[\"drop\",\"first\"],[\"alpha\",0.00030772857513026037]]],[[[\"scaling_method\",\"robust\"],[\"encoding_method\",\"onehot\"],[\"drop\",null],[\"alpha\",0.0003050722878317029]]],[[[\"scaling_method\",\"robust\"],[\"encoding_method\",\"onehot\"],[\"drop\",null],[\"alpha\",0.0002520987997694811]]],[[[\"scaling_method\",\"robust\"],[\"encoding_method\",\"onehot\"],[\"drop\",null],[\"alpha\",0.00030164200141993277]]],[[[\"scaling_method\",\"robust\"],[\"encoding_method\",\"onehot\"],[\"drop\",null],[\"alpha\",0.00027657122721598586]]],[[[\"scaling_method\",\"robust\"],[\"encoding_method\",\"onehot\"],[\"drop\",null],[\"alpha\",0.0003613609554345984]]],[[[\"scaling_method\",\"minmax\"],[\"encoding_method\",\"onehot\"],[\"drop\",null],[\"alpha\",0.0002952277313643696]]],[[[\"scaling_method\",\"robust\"],[\"encoding_method\",\"onehot\"],[\"drop\",null],[\"alpha\",0.00024588690216644074]]],[[[\"scaling_method\",\"robust\"],[\"encoding_method\",\"onehot\"],[\"drop\",null],[\"alpha\",0.0003254318443572959]]],[[[\"scaling_method\",\"robust\"],[\"encoding_method\",\"onehot\"],[\"drop\",null],[\"alpha\",0.0002267841361040877]]],[[[\"scaling_method\",\"standard\"],[\"encoding_method\",\"onehot\"],[\"drop\",null],[\"alpha\",0.0008734584157246382]]],[[[\"scaling_method\",\"robust\"],[\"encoding_method\",\"onehot\"],[\"drop\",null],[\"alpha\",0.00030920629995821015]]],[[[\"scaling_method\",\"robust\"],[\"encoding_method\",\"onehot\"],[\"drop\",null],[\"alpha\",0.00027198705658900725]]],[[[\"scaling_method\",\"robust\"],[\"encoding_method\",\"onehot\"],[\"drop\",null],[\"alpha\",0.00037565232510245925]]],[[[\"scaling_method\",\"robust\"],[\"encoding_method\",\"onehot\"],[\"drop\",null],[\"alpha\",0.00030547279057379376]]],[[[\"scaling_method\",\"robust\"],[\"encoding_method\",\"onehot\"],[\"drop\",null],[\"alpha\",0.0002949503331428999]]],[[[\"scaling_method\",\"robust\"],[\"encoding_method\",\"onehot\"],[\"drop\",null],[\"alpha\",0.0003465791546529392]]],[[[\"scaling_method\",\"robust\"],[\"encoding_method\",\"onehot\"],[\"drop\",null],[\"alpha\",0.00026545176780297044]]],[[[\"scaling_method\",\"robust\"],[\"encoding_method\",\"onehot\"],[\"drop\",null],[\"alpha\",0.0003041590856332675]]],[[[\"scaling_method\",\"robust\"],[\"encoding_method\",\"onehot\"],[\"drop\",null],[\"alpha\",0.0003390641930969061]]],[[[\"scaling_method\",\"robust\"],[\"encoding_method\",\"onehot\"],[\"drop\",null],[\"alpha\",0.0003888149967628445]]],[[[\"scaling_method\",\"robust\"],[\"encoding_method\",\"onehot\"],[\"drop\",null],[\"alpha\",0.0003049211290600782]]],[[[\"scaling_method\",\"robust\"],[\"encoding_method\",\"onehot\"],[\"drop\",null],[\"alpha\",0.00027663264767635896]]],[[[\"scaling_method\",\"robust\"],[\"encoding_method\",\"onehot\"],[\"drop\",null],[\"alpha\",0.0003114330508442623]]],[[[\"scaling_method\",\"robust\"],[\"encoding_method\",\"onehot\"],[\"drop\",null],[\"alpha\",0.0003553635038494085]]],[[[\"scaling_method\",\"robust\"],[\"encoding_method\",\"onehot\"],[\"drop\",null],[\"alpha\",0.00024735978202556806]]],[[[\"scaling_method\",\"robust\"],[\"encoding_method\",\"onehot\"],[\"drop\",null],[\"alpha\",0.0002934299007174458]]],[[[\"scaling_method\",\"maxabs\"],[\"encoding_method\",\"onehot\"],[\"drop\",null],[\"alpha\",0.0003243074570782025]]],[[[\"scaling_method\",\"robust\"],[\"encoding_method\",\"onehot\"],[\"drop\",null],[\"alpha\",0.00026409925459837516]]],[[[\"scaling_method\",\"robust\"],[\"encoding_method\",\"onehot\"],[\"drop\",\"first\"],[\"alpha\",0.00022965327998739806]]],[[[\"scaling_method\",\"robust\"],[\"encoding_method\",\"onehot\"],[\"drop\",null],[\"alpha\",0.0003131947927507659]]],[[[\"scaling_method\",\"robust\"],[\"encoding_method\",\"onehot\"],[\"drop\",null],[\"alpha\",0.00029558064269849066]]],[[[\"scaling_method\",\"robust\"],[\"encoding_method\",\"onehot\"],[\"drop\",null],[\"alpha\",0.00034438511180763347]]],[[[\"scaling_method\",\"robust\"],[\"encoding_method\",\"onehot\"],[\"drop\",null],[\"alpha\",0.00029038903144563505]]],[[[\"scaling_method\",\"robust\"],[\"encoding_method\",\"onehot\"],[\"drop\",null],[\"alpha\",0.0003814762162935689]]],[[[\"scaling_method\",\"robust\"],[\"encoding_method\",\"onehot\"],[\"drop\",null],[\"alpha\",0.00031881502123266083]]],[[[\"scaling_method\",\"robust\"],[\"encoding_method\",\"onehot\"],[\"drop\",null],[\"alpha\",0.0002681604864862338]]],[[[\"scaling_method\",\"robust\"],[\"encoding_method\",\"onehot\"],[\"drop\",null],[\"alpha\",0.00028765471536430217]]],[[[\"scaling_method\",\"minmax\"],[\"encoding_method\",\"onehot\"],[\"drop\",null],[\"alpha\",0.000358553124387058]]]],\"hovertemplate\":\"encoding=onehot<br>Optuna Trial=%{x}<br>Score (R-Squared)=%{y}<br>Parameters=%{customdata[0]}<extra></extra>\",\"legendgroup\":\"onehot\",\"marker\":{\"color\":\"#EF553B\",\"symbol\":\"circle\"},\"mode\":\"markers\",\"name\":\"onehot\",\"orientation\":\"v\",\"showlegend\":true,\"x\":[2,3,5,6,8,9,10,11,12,13,14,15,16,17,19,20,21,22,23,24,25,27,28,30,31,32,33,34,36,37,38,40,41,42,43,44,45,46,47,48,49,51,52,53,54,55,56,57,58,59,60,61,62,63,64,65,66,67,69,70,71,72,73,74,75,76,77,78,80,81,82,83,84,85,86,87,88,89,90,91,92,93,94,95,97,98,99,100,101,102,103,104,105,106,107,108,109,111,112,113,114,115,116,117,118,119,120,121,122,123,124,125,126,127,128,129,130,131,132,133,134,135,137,138,139,140,141,142,143,144,145,146,147,148,149,150,151,152,153,154,155,156,157,158,159,161,162,163,164,165,166,167,168,169,170,171,172,173,174,175,176,177,178,179,180,181,182,183,184,185,186,187,188,190,191,192,193,194,195,196,197,198,199],\"xaxis\":\"x\",\"y\":[0.9478957812069528,0.9482369413368529,0.9504529057304483,0.9478855603121983,0.9478334867697619,0.9472192775906901,0.9499707550376874,0.9499883195294488,0.9498823251556082,0.9499945032697173,0.9488203325381146,0.9487012371351049,0.9498084651685395,0.9494715788682795,0.9503137205510633,0.9491341280244316,0.9504139239048403,0.9503000942239881,0.9502787887278595,0.9487211677248805,0.9504619036661117,0.946902621321246,0.9504825674291144,0.9505232948141739,0.950515316782826,0.9506150928524473,0.9506302634672545,0.9505027302461974,0.950632762387974,0.9464551863316732,0.9505754196303947,0.9508123081664767,0.9508106262650469,0.9508124507938893,0.9508090778208643,0.950650579140838,0.9494564060785707,0.9505752669592871,0.9507381964623723,0.9508117368547238,0.9508112262498137,0.950810619697387,0.9503421330671452,0.9507324619192833,0.9508076840928542,0.9507972897245489,0.9497202652046113,0.9504710033792684,0.9469528084713353,0.9468156085654101,0.9502330248295149,0.9508095025858623,0.9508110298569455,0.9502514246756191,0.9507663831535081,0.9508113312592009,0.9505764458222764,0.9501383045596965,0.9496631803259048,0.9507806883482987,0.9508114165372777,0.9507517765011759,0.9505602456587765,0.950799963150744,0.9504545527831736,0.9502470815995456,0.9500167828520556,0.9500764650563003,0.9467360074281166,0.9508114094023117,0.9508082048282571,0.9507881533355084,0.9507773169667928,0.9501612230544731,0.9505832836744539,0.9505197091109274,0.9508124811471179,0.9506356015058526,0.9476431716599324,0.950797558545631,0.9508117833909953,0.950749401107499,0.9508123138142952,0.9507277958188898,0.9505583345252102,0.9505238791019778,0.9507040608347579,0.9478349312439869,0.9508106272346657,0.9506896302826113,0.9507781975862446,0.9508124821158186,0.9507777913331168,0.9506469575473661,0.9503160075818219,0.950346892814767,0.9507591199005603,0.9508114868731949,0.9508059517106323,0.9507975881523126,0.9507407729306946,0.9504898910650029,0.9505761124859532,0.9486801214409276,0.9507403830925648,0.9508014330715536,0.9481769796037323,0.9508118430152207,0.9508116478512599,0.9506930330947224,0.9508118086653601,0.9508113216414141,0.9507092939266517,0.9507752047023892,0.9505995506580348,0.9507626882997421,0.9506425070158689,0.9508114676378001,0.9507930104202927,0.9508112919827315,0.9507972356414316,0.9508047478827771,0.9505685625360029,0.9502716823618675,0.9507589508282752,0.9491396850162752,0.9508120108537239,0.9508117641358724,0.950801557547112,0.9505979936150102,0.9508038034960957,0.9507336732032575,0.950811514760413,0.950660790674894,0.9472390558632767,0.9506658544991637,0.9508094956354782,0.9508125679921836,0.950802212048092,0.950800035812323,0.9508114093282106,0.950781280641076,0.9505190632953597,0.9507942486242907,0.9505707979163616,0.9508124580794004,0.9507178531231422,0.9508117673132391,0.9507908689898341,0.9507797226132266,0.9504747875801479,0.9506903879715045,0.9508104007843514,0.9506077464425825,0.9485288658374227,0.95081191627602,0.9507823254316266,0.9507597354430037,0.9508125103999369,0.950809747327224,0.9507979102003068,0.9507651452249057,0.9508120575853578,0.9508037635134066,0.9507397148337453,0.950812427632443,0.950790976344598,0.9508115075162349,0.9507879840297312,0.9506967514520092,0.950808955899159,0.9476948757409577,0.9507607700457552,0.9504500948384816,0.9508107239771999,0.9508100654286838,0.9507998720675648,0.9508066252031364,0.9507509787675357,0.9508114186691603,0.950773313975348,0.9508039237731637,0.9500550819769611],\"yaxis\":\"y\",\"type\":\"scatter\"}],                        {\"template\":{\"data\":{\"histogram2dcontour\":[{\"type\":\"histogram2dcontour\",\"colorbar\":{\"outlinewidth\":0,\"ticks\":\"\"},\"colorscale\":[[0.0,\"#0d0887\"],[0.1111111111111111,\"#46039f\"],[0.2222222222222222,\"#7201a8\"],[0.3333333333333333,\"#9c179e\"],[0.4444444444444444,\"#bd3786\"],[0.5555555555555556,\"#d8576b\"],[0.6666666666666666,\"#ed7953\"],[0.7777777777777778,\"#fb9f3a\"],[0.8888888888888888,\"#fdca26\"],[1.0,\"#f0f921\"]]}],\"choropleth\":[{\"type\":\"choropleth\",\"colorbar\":{\"outlinewidth\":0,\"ticks\":\"\"}}],\"histogram2d\":[{\"type\":\"histogram2d\",\"colorbar\":{\"outlinewidth\":0,\"ticks\":\"\"},\"colorscale\":[[0.0,\"#0d0887\"],[0.1111111111111111,\"#46039f\"],[0.2222222222222222,\"#7201a8\"],[0.3333333333333333,\"#9c179e\"],[0.4444444444444444,\"#bd3786\"],[0.5555555555555556,\"#d8576b\"],[0.6666666666666666,\"#ed7953\"],[0.7777777777777778,\"#fb9f3a\"],[0.8888888888888888,\"#fdca26\"],[1.0,\"#f0f921\"]]}],\"heatmap\":[{\"type\":\"heatmap\",\"colorbar\":{\"outlinewidth\":0,\"ticks\":\"\"},\"colorscale\":[[0.0,\"#0d0887\"],[0.1111111111111111,\"#46039f\"],[0.2222222222222222,\"#7201a8\"],[0.3333333333333333,\"#9c179e\"],[0.4444444444444444,\"#bd3786\"],[0.5555555555555556,\"#d8576b\"],[0.6666666666666666,\"#ed7953\"],[0.7777777777777778,\"#fb9f3a\"],[0.8888888888888888,\"#fdca26\"],[1.0,\"#f0f921\"]]}],\"heatmapgl\":[{\"type\":\"heatmapgl\",\"colorbar\":{\"outlinewidth\":0,\"ticks\":\"\"},\"colorscale\":[[0.0,\"#0d0887\"],[0.1111111111111111,\"#46039f\"],[0.2222222222222222,\"#7201a8\"],[0.3333333333333333,\"#9c179e\"],[0.4444444444444444,\"#bd3786\"],[0.5555555555555556,\"#d8576b\"],[0.6666666666666666,\"#ed7953\"],[0.7777777777777778,\"#fb9f3a\"],[0.8888888888888888,\"#fdca26\"],[1.0,\"#f0f921\"]]}],\"contourcarpet\":[{\"type\":\"contourcarpet\",\"colorbar\":{\"outlinewidth\":0,\"ticks\":\"\"}}],\"contour\":[{\"type\":\"contour\",\"colorbar\":{\"outlinewidth\":0,\"ticks\":\"\"},\"colorscale\":[[0.0,\"#0d0887\"],[0.1111111111111111,\"#46039f\"],[0.2222222222222222,\"#7201a8\"],[0.3333333333333333,\"#9c179e\"],[0.4444444444444444,\"#bd3786\"],[0.5555555555555556,\"#d8576b\"],[0.6666666666666666,\"#ed7953\"],[0.7777777777777778,\"#fb9f3a\"],[0.8888888888888888,\"#fdca26\"],[1.0,\"#f0f921\"]]}],\"surface\":[{\"type\":\"surface\",\"colorbar\":{\"outlinewidth\":0,\"ticks\":\"\"},\"colorscale\":[[0.0,\"#0d0887\"],[0.1111111111111111,\"#46039f\"],[0.2222222222222222,\"#7201a8\"],[0.3333333333333333,\"#9c179e\"],[0.4444444444444444,\"#bd3786\"],[0.5555555555555556,\"#d8576b\"],[0.6666666666666666,\"#ed7953\"],[0.7777777777777778,\"#fb9f3a\"],[0.8888888888888888,\"#fdca26\"],[1.0,\"#f0f921\"]]}],\"mesh3d\":[{\"type\":\"mesh3d\",\"colorbar\":{\"outlinewidth\":0,\"ticks\":\"\"}}],\"scatter\":[{\"fillpattern\":{\"fillmode\":\"overlay\",\"size\":10,\"solidity\":0.2},\"type\":\"scatter\"}],\"parcoords\":[{\"type\":\"parcoords\",\"line\":{\"colorbar\":{\"outlinewidth\":0,\"ticks\":\"\"}}}],\"scatterpolargl\":[{\"type\":\"scatterpolargl\",\"marker\":{\"colorbar\":{\"outlinewidth\":0,\"ticks\":\"\"}}}],\"bar\":[{\"error_x\":{\"color\":\"#2a3f5f\"},\"error_y\":{\"color\":\"#2a3f5f\"},\"marker\":{\"line\":{\"color\":\"#E5ECF6\",\"width\":0.5},\"pattern\":{\"fillmode\":\"overlay\",\"size\":10,\"solidity\":0.2}},\"type\":\"bar\"}],\"scattergeo\":[{\"type\":\"scattergeo\",\"marker\":{\"colorbar\":{\"outlinewidth\":0,\"ticks\":\"\"}}}],\"scatterpolar\":[{\"type\":\"scatterpolar\",\"marker\":{\"colorbar\":{\"outlinewidth\":0,\"ticks\":\"\"}}}],\"histogram\":[{\"marker\":{\"pattern\":{\"fillmode\":\"overlay\",\"size\":10,\"solidity\":0.2}},\"type\":\"histogram\"}],\"scattergl\":[{\"type\":\"scattergl\",\"marker\":{\"colorbar\":{\"outlinewidth\":0,\"ticks\":\"\"}}}],\"scatter3d\":[{\"type\":\"scatter3d\",\"line\":{\"colorbar\":{\"outlinewidth\":0,\"ticks\":\"\"}},\"marker\":{\"colorbar\":{\"outlinewidth\":0,\"ticks\":\"\"}}}],\"scattermapbox\":[{\"type\":\"scattermapbox\",\"marker\":{\"colorbar\":{\"outlinewidth\":0,\"ticks\":\"\"}}}],\"scatterternary\":[{\"type\":\"scatterternary\",\"marker\":{\"colorbar\":{\"outlinewidth\":0,\"ticks\":\"\"}}}],\"scattercarpet\":[{\"type\":\"scattercarpet\",\"marker\":{\"colorbar\":{\"outlinewidth\":0,\"ticks\":\"\"}}}],\"carpet\":[{\"aaxis\":{\"endlinecolor\":\"#2a3f5f\",\"gridcolor\":\"white\",\"linecolor\":\"white\",\"minorgridcolor\":\"white\",\"startlinecolor\":\"#2a3f5f\"},\"baxis\":{\"endlinecolor\":\"#2a3f5f\",\"gridcolor\":\"white\",\"linecolor\":\"white\",\"minorgridcolor\":\"white\",\"startlinecolor\":\"#2a3f5f\"},\"type\":\"carpet\"}],\"table\":[{\"cells\":{\"fill\":{\"color\":\"#EBF0F8\"},\"line\":{\"color\":\"white\"}},\"header\":{\"fill\":{\"color\":\"#C8D4E3\"},\"line\":{\"color\":\"white\"}},\"type\":\"table\"}],\"barpolar\":[{\"marker\":{\"line\":{\"color\":\"#E5ECF6\",\"width\":0.5},\"pattern\":{\"fillmode\":\"overlay\",\"size\":10,\"solidity\":0.2}},\"type\":\"barpolar\"}],\"pie\":[{\"automargin\":true,\"type\":\"pie\"}]},\"layout\":{\"autotypenumbers\":\"strict\",\"colorway\":[\"#636efa\",\"#EF553B\",\"#00cc96\",\"#ab63fa\",\"#FFA15A\",\"#19d3f3\",\"#FF6692\",\"#B6E880\",\"#FF97FF\",\"#FECB52\"],\"font\":{\"color\":\"#2a3f5f\"},\"hovermode\":\"closest\",\"hoverlabel\":{\"align\":\"left\"},\"paper_bgcolor\":\"white\",\"plot_bgcolor\":\"#E5ECF6\",\"polar\":{\"bgcolor\":\"#E5ECF6\",\"angularaxis\":{\"gridcolor\":\"white\",\"linecolor\":\"white\",\"ticks\":\"\"},\"radialaxis\":{\"gridcolor\":\"white\",\"linecolor\":\"white\",\"ticks\":\"\"}},\"ternary\":{\"bgcolor\":\"#E5ECF6\",\"aaxis\":{\"gridcolor\":\"white\",\"linecolor\":\"white\",\"ticks\":\"\"},\"baxis\":{\"gridcolor\":\"white\",\"linecolor\":\"white\",\"ticks\":\"\"},\"caxis\":{\"gridcolor\":\"white\",\"linecolor\":\"white\",\"ticks\":\"\"}},\"coloraxis\":{\"colorbar\":{\"outlinewidth\":0,\"ticks\":\"\"}},\"colorscale\":{\"sequential\":[[0.0,\"#0d0887\"],[0.1111111111111111,\"#46039f\"],[0.2222222222222222,\"#7201a8\"],[0.3333333333333333,\"#9c179e\"],[0.4444444444444444,\"#bd3786\"],[0.5555555555555556,\"#d8576b\"],[0.6666666666666666,\"#ed7953\"],[0.7777777777777778,\"#fb9f3a\"],[0.8888888888888888,\"#fdca26\"],[1.0,\"#f0f921\"]],\"sequentialminus\":[[0.0,\"#0d0887\"],[0.1111111111111111,\"#46039f\"],[0.2222222222222222,\"#7201a8\"],[0.3333333333333333,\"#9c179e\"],[0.4444444444444444,\"#bd3786\"],[0.5555555555555556,\"#d8576b\"],[0.6666666666666666,\"#ed7953\"],[0.7777777777777778,\"#fb9f3a\"],[0.8888888888888888,\"#fdca26\"],[1.0,\"#f0f921\"]],\"diverging\":[[0,\"#8e0152\"],[0.1,\"#c51b7d\"],[0.2,\"#de77ae\"],[0.3,\"#f1b6da\"],[0.4,\"#fde0ef\"],[0.5,\"#f7f7f7\"],[0.6,\"#e6f5d0\"],[0.7,\"#b8e186\"],[0.8,\"#7fbc41\"],[0.9,\"#4d9221\"],[1,\"#276419\"]]},\"xaxis\":{\"gridcolor\":\"white\",\"linecolor\":\"white\",\"ticks\":\"\",\"title\":{\"standoff\":15},\"zerolinecolor\":\"white\",\"automargin\":true,\"zerolinewidth\":2},\"yaxis\":{\"gridcolor\":\"white\",\"linecolor\":\"white\",\"ticks\":\"\",\"title\":{\"standoff\":15},\"zerolinecolor\":\"white\",\"automargin\":true,\"zerolinewidth\":2},\"scene\":{\"xaxis\":{\"backgroundcolor\":\"#E5ECF6\",\"gridcolor\":\"white\",\"linecolor\":\"white\",\"showbackground\":true,\"ticks\":\"\",\"zerolinecolor\":\"white\",\"gridwidth\":2},\"yaxis\":{\"backgroundcolor\":\"#E5ECF6\",\"gridcolor\":\"white\",\"linecolor\":\"white\",\"showbackground\":true,\"ticks\":\"\",\"zerolinecolor\":\"white\",\"gridwidth\":2},\"zaxis\":{\"backgroundcolor\":\"#E5ECF6\",\"gridcolor\":\"white\",\"linecolor\":\"white\",\"showbackground\":true,\"ticks\":\"\",\"zerolinecolor\":\"white\",\"gridwidth\":2}},\"shapedefaults\":{\"line\":{\"color\":\"#2a3f5f\"}},\"annotationdefaults\":{\"arrowcolor\":\"#2a3f5f\",\"arrowhead\":0,\"arrowwidth\":1},\"geo\":{\"bgcolor\":\"white\",\"landcolor\":\"#E5ECF6\",\"subunitcolor\":\"white\",\"showland\":true,\"showlakes\":true,\"lakecolor\":\"white\"},\"title\":{\"x\":0.05},\"mapbox\":{\"style\":\"light\"}}},\"xaxis\":{\"anchor\":\"y\",\"domain\":[0.0,1.0],\"title\":{\"text\":\"Optuna Trial\"}},\"yaxis\":{\"anchor\":\"x\",\"domain\":[0.0,1.0],\"title\":{\"text\":\"Score (R-Squared)\"}},\"legend\":{\"title\":{\"text\":\"encoding\"},\"tracegroupgap\":0},\"title\":{\"text\":\"Lasso tuned with Optuna after 200 trials  <br><sup> Best Score: 0.9508</sup>\"},\"hoverlabel\":{\"font\":{\"size\":8,\"family\":\"Rockwell\"},\"bgcolor\":\"white\"}},                        {\"responsive\": true}                    ).then(function(){\n",
       "                            \n",
       "var gd = document.getElementById('34c86c35-0d90-47db-8189-5919d5fa70ab');\n",
       "var x = new MutationObserver(function (mutations, observer) {{\n",
       "        var display = window.getComputedStyle(gd).display;\n",
       "        if (!display || display === 'none') {{\n",
       "            console.log([gd, 'removed!']);\n",
       "            Plotly.purge(gd);\n",
       "            observer.disconnect();\n",
       "        }}\n",
       "}});\n",
       "\n",
       "// Listen for the removal of the full notebook cells\n",
       "var notebookContainer = gd.closest('#notebook-container');\n",
       "if (notebookContainer) {{\n",
       "    x.observe(notebookContainer, {childList: true});\n",
       "}}\n",
       "\n",
       "// Listen for the clearing of the current output cell\n",
       "var outputEl = gd.closest('.output');\n",
       "if (outputEl) {{\n",
       "    x.observe(outputEl, {childList: true});\n",
       "}}\n",
       "\n",
       "                        })                };                });            </script>        </div>"
      ]
     },
     "metadata": {},
     "output_type": "display_data"
    }
   ],
   "source": [
    "\n",
    "fig = px.scatter(optuna_lasso,\n",
    "                 x=\"Trial\", \n",
    "                 y=\"Score\", \n",
    "                 hover_data=['Parameters'],\n",
    "                 color = 'encoding',\n",
    "                labels = {'Trial': 'Optuna Trial', 'Score': 'Score (R-Squared)'},\n",
    "                title = 'Lasso tuned with Optuna after 200 trials  <br><sup> Best Score: 0.9508</sup>')\n",
    "\n",
    "fig.update_layout(\n",
    "    hoverlabel=dict(\n",
    "        bgcolor=\"white\",\n",
    "        font_size=8,\n",
    "        font_family=\"Rockwell\"\n",
    "    )\n",
    ")\n",
    "\n",
    "fig.show()\n",
    "\n",
    "# fig.write_image(\"images/optuna_lasso.png\")"
   ]
  },
  {
   "cell_type": "code",
   "execution_count": null,
   "id": "beb30a2d",
   "metadata": {},
   "outputs": [],
   "source": [
    "\n",
    "fig = px.scatter(optuna_lasso,\n",
    "                 x=\"Trial\", \n",
    "                 y=\"Score\", \n",
    "                 hover_data=['Parameters'],\n",
    "                 color = 'alpha',\n",
    "                labels = {'Trial': 'Optuna Trial', 'Score': 'Score (R-Squared)'},\n",
    "                title = 'Lasso tuned with Optuna after 200 trials  <br><sup> Best Score: 0.9508</sup>')\n",
    "\n",
    "fig.update_layout(\n",
    "    hoverlabel=dict(\n",
    "        bgcolor=\"white\",\n",
    "        font_size=8,\n",
    "        font_family=\"Rockwell\"\n",
    "    )\n",
    ")\n",
    "\n",
    "fig.show()"
   ]
  },
  {
   "cell_type": "markdown",
   "id": "bf3ba406",
   "metadata": {},
   "source": [
    "# Ridge"
   ]
  },
  {
   "cell_type": "code",
   "execution_count": 41,
   "id": "8eceabd0",
   "metadata": {},
   "outputs": [],
   "source": [
    "def instantiate_ridge(trial : Trial) -> Ridge:\n",
    "    params = {\n",
    "        \"alpha\": trial.suggest_float(\"alpha\", 1, 100, log=True)\n",
    "    }\n",
    "\n",
    "    return Ridge(**params)\n",
    "\n",
    "\n",
    "def instantiate_model(trial : Trial, numerical_columns : list[str], \n",
    "                      categorical_columns : list[str]) -> Pipeline:\n",
    "    \n",
    "    processor = instantiate_processor(\n",
    "        trial, numerical_columns, categorical_columns\n",
    "    )\n",
    "    \n",
    "    learner = instantiate_ridge(trial)\n",
    "    \n",
    "    model_pipe = Pipeline([\n",
    "    ('processor', processor),\n",
    "    ('model', learner)\n",
    "    ])\n",
    "    \n",
    "    model = compose.TransformedTargetRegressor(regressor= model_pipe,\n",
    "                                                func=np.log, inverse_func=np.exp)\n",
    "    \n",
    "    return model\n",
    "\n",
    "def objective_ridge(trial : Trial, X : DataFrame,\n",
    "              y : np.ndarray | Series, \n",
    "              numerical_columns : Optional[list[str]]=None, \n",
    "              categorical_columns : Optional[list[str]]=None, \n",
    "              random_state : int=42) -> float:\n",
    "    \n",
    "    if numerical_columns is None:\n",
    "        numerical_columns = [\n",
    "            *X.select_dtypes(exclude=['object', 'category']).columns\n",
    "        ]\n",
    "    \n",
    "    if categorical_columns is None:\n",
    "        categorical_columns = [\n",
    "            *X.select_dtypes(include=['object', 'category']).columns\n",
    "        ]\n",
    "    \n",
    "    model = instantiate_model(trial, numerical_columns, categorical_columns)\n",
    "    kf = KFold(n_splits=5, shuffle=True, random_state=random_state)\n",
    "    r2 = make_scorer(r2_score)\n",
    "    scores = cross_val_score(model, X, y, scoring= r2, cv=kf)\n",
    "    \n",
    "    return np.min([np.mean(scores), np.median([scores])])"
   ]
  },
  {
   "cell_type": "code",
   "execution_count": 43,
   "id": "4ccd662e",
   "metadata": {},
   "outputs": [
    {
     "name": "stderr",
     "output_type": "stream",
     "text": [
      "[I 2024-07-11 09:50:20,011] A new study created in memory with name: optimization\n"
     ]
    }
   ],
   "source": [
    "from optuna import create_study\n",
    "\n",
    "study_ridge = create_study(study_name='optimization', direction='maximize')\n",
    "\n",
    "#study_ridge.optimize(lambda trial: objective_ridge(trial, X, y), n_trials=20)"
   ]
  },
  {
   "cell_type": "code",
   "execution_count": 17,
   "id": "003f2bc3",
   "metadata": {},
   "outputs": [
    {
     "name": "stdout",
     "output_type": "stream",
     "text": [
      "0.9496764273611051\n",
      "{'scaling_method': 'standard', 'encoding_method': 'onehot', 'drop': None, 'alpha': 24.817075515507273}\n"
     ]
    }
   ],
   "source": [
    "print(study_ridge.best_value)\n",
    "print(study_ridge.best_params)"
   ]
  },
  {
   "cell_type": "markdown",
   "id": "a9a3792b",
   "metadata": {},
   "source": [
    "# EN"
   ]
  },
  {
   "cell_type": "code",
   "execution_count": 39,
   "id": "e89a4cc8",
   "metadata": {},
   "outputs": [],
   "source": [
    "def instantiate_en(trial : Trial) -> ElasticNet:\n",
    "    params = {\n",
    "        \"alpha\": trial.suggest_float(\"alpha\", .00001, .001, log=True),\n",
    "        'l1_ratio': trial.suggest_float('l1_ratio', .1, .7, log = True)\n",
    "    }\n",
    "\n",
    "    return ElasticNet(**params)\n",
    "\n",
    "\n",
    "\n",
    "def instantiate_model(trial : Trial, numerical_columns : list[str], \n",
    "                      categorical_columns : list[str]) -> Pipeline:\n",
    "    \n",
    "    processor = instantiate_processor(\n",
    "        trial, numerical_columns, categorical_columns\n",
    "    )\n",
    "    \n",
    "    learner = instantiate_en(trial)\n",
    "    \n",
    "    model_pipe = Pipeline([\n",
    "    ('processor', processor),\n",
    "    ('model', learner)\n",
    "    ])\n",
    "    \n",
    "    model = compose.TransformedTargetRegressor(regressor= model_pipe,\n",
    "                                                func=np.log, inverse_func=np.exp)\n",
    "    \n",
    "    return model\n",
    "\n",
    "def objective_en(trial : Trial, X : DataFrame,\n",
    "              y : np.ndarray | Series, \n",
    "              numerical_columns : Optional[list[str]]=None, \n",
    "              categorical_columns : Optional[list[str]]=None, \n",
    "              random_state : int=42) -> float:\n",
    "    \n",
    "    if numerical_columns is None:\n",
    "        numerical_columns = [\n",
    "            *X.select_dtypes(exclude=['object', 'category']).columns\n",
    "        ]\n",
    "    \n",
    "    if categorical_columns is None:\n",
    "        categorical_columns = [\n",
    "            *X.select_dtypes(include=['object', 'category']).columns\n",
    "        ]\n",
    "    \n",
    "    model = instantiate_model(trial, numerical_columns, categorical_columns)\n",
    "    kf = KFold(n_splits=5, shuffle=True, random_state=random_state)\n",
    "    r2 = make_scorer(r2_score)\n",
    "    scores = cross_val_score(model, X, y, scoring= r2, cv=kf)\n",
    "    \n",
    "    return np.min([np.mean(scores), np.median([scores])])"
   ]
  },
  {
   "cell_type": "code",
   "execution_count": 40,
   "id": "3fdd4f6b",
   "metadata": {
    "scrolled": true
   },
   "outputs": [
    {
     "name": "stderr",
     "output_type": "stream",
     "text": [
      "[I 2024-07-11 09:50:19,990] A new study created in memory with name: optimization\n"
     ]
    }
   ],
   "source": [
    "from optuna import create_study\n",
    "\n",
    "study_en = create_study(study_name='optimization', direction='maximize')\n",
    "\n",
    "#study_en.optimize(lambda trial: objective_en(trial, X, y), n_trials=200)"
   ]
  },
  {
   "cell_type": "code",
   "execution_count": 66,
   "id": "b95714ae",
   "metadata": {},
   "outputs": [
    {
     "name": "stdout",
     "output_type": "stream",
     "text": [
      "0.9508214083737423\n",
      "{'scaling_method': 'robust', 'encoding_method': 'onehot', 'drop': None, 'alpha': 0.0006921322276640134, 'l1_ratio': 0.4415555448483296}\n"
     ]
    }
   ],
   "source": [
    "# after adding in the L1 value\n",
    "print(study_en.best_value)\n",
    "print(study_en.best_params)"
   ]
  },
  {
   "cell_type": "code",
   "execution_count": 29,
   "id": "10243543",
   "metadata": {},
   "outputs": [
    {
     "name": "stdout",
     "output_type": "stream",
     "text": [
      "0.950820633330468\n",
      "{'scaling_method': 'robust', 'encoding_method': 'onehot', 'drop': None, 'alpha': 0.0006178621404820522}\n"
     ]
    }
   ],
   "source": [
    "print(study_en.best_value)\n",
    "print(study_en.best_params)"
   ]
  },
  {
   "cell_type": "markdown",
   "id": "c9f92177",
   "metadata": {},
   "source": [
    "# XGB"
   ]
  },
  {
   "cell_type": "code",
   "execution_count": 13,
   "id": "0fe05544",
   "metadata": {},
   "outputs": [],
   "source": [
    "def instantiate_xgb(trial : Trial) -> XGBRegressor:\n",
    "    params = {\n",
    "        'n_estimators': trial.suggest_int('n_estimators', 100, 1000),\n",
    "        \"learning_rate\": trial.suggest_float(\"learning_rate\", .001, .1, log=True),\n",
    "        \"max_depth\": trial.suggest_int(\"max_depth\", 2, 4),\n",
    "        \"subsample\": trial.suggest_float(\"subsample\", 0.1, 1.0),\n",
    "        \"colsample_bytree\": trial.suggest_float(\"colsample_bytree\", 0.5, 1.0),\n",
    "        \"min_child_weight\": trial.suggest_int(\"min_child_weight\", 1, 5)\n",
    "    }\n",
    "\n",
    "    return XGBRegressor(**params)\n",
    "\n",
    "def instantiate_model(trial : Trial, numerical_columns : list[str], \n",
    "                      categorical_columns : list[str]) -> Pipeline:\n",
    "    \n",
    "    processor = instantiate_processor(\n",
    "        trial, numerical_columns, categorical_columns\n",
    "    )\n",
    "    \n",
    "    learner = instantiate_xgb(trial)\n",
    "    \n",
    "    model_pipe = Pipeline([\n",
    "    ('processor', processor),\n",
    "    ('model', learner)\n",
    "    ])\n",
    "    \n",
    "    model = compose.TransformedTargetRegressor(regressor= model_pipe,\n",
    "                                                func=np.log, inverse_func=np.exp)\n",
    "    \n",
    "    return model\n",
    "\n",
    "def objective_xgb(trial : Trial, X : DataFrame,\n",
    "              y : np.ndarray | Series, \n",
    "              numerical_columns : Optional[list[str]]=None, \n",
    "              categorical_columns : Optional[list[str]]=None, \n",
    "              random_state : int=42) -> float:\n",
    "    \n",
    "    if numerical_columns is None:\n",
    "        numerical_columns = [\n",
    "            *X.select_dtypes(exclude=['object', 'category']).columns\n",
    "        ]\n",
    "    \n",
    "    if categorical_columns is None:\n",
    "        categorical_columns = [\n",
    "            *X.select_dtypes(include=['object', 'category']).columns\n",
    "        ]\n",
    "    \n",
    "    model = instantiate_model(trial, numerical_columns, categorical_columns)\n",
    "    kf = KFold(n_splits=5, shuffle=True, random_state=random_state)\n",
    "    r2 = make_scorer(r2_score)\n",
    "    scores = cross_val_score(model, X, y, scoring= r2, cv=kf)\n",
    "    \n",
    "    return np.min([np.mean(scores), np.median([scores])])"
   ]
  },
  {
   "cell_type": "code",
   "execution_count": 8,
   "id": "6aeee34f",
   "metadata": {},
   "outputs": [
    {
     "name": "stderr",
     "output_type": "stream",
     "text": [
      "[I 2024-07-16 09:19:54,516] A new study created in memory with name: optimization\n",
      "[I 2024-07-16 09:19:56,514] Trial 0 finished with value: 0.9346673308494285 and parameters: {'scaling_method': 'robust', 'encoding_method': 'onehot', 'drop': None, 'n_estimators': 475, 'learning_rate': 0.024978041209914686, 'max_depth': 2, 'subsample': 0.3669553381298013, 'colsample_bytree': 0.8770501936980049, 'min_child_weight': 2}. Best is trial 0 with value: 0.9346673308494285.\n",
      "C:\\Users\\Natal\\anaconda3\\Lib\\site-packages\\sklearn\\preprocessing\\_encoders.py:227: UserWarning: Found unknown categories in columns [3, 10] during transform. These unknown categories will be encoded as all zeros\n",
      "  warnings.warn(\n",
      "C:\\Users\\Natal\\anaconda3\\Lib\\site-packages\\sklearn\\preprocessing\\_encoders.py:227: UserWarning: Found unknown categories in columns [3, 9, 14] during transform. These unknown categories will be encoded as all zeros\n",
      "  warnings.warn(\n",
      "C:\\Users\\Natal\\anaconda3\\Lib\\site-packages\\sklearn\\preprocessing\\_encoders.py:227: UserWarning: Found unknown categories in columns [5, 21] during transform. These unknown categories will be encoded as all zeros\n",
      "  warnings.warn(\n",
      "C:\\Users\\Natal\\anaconda3\\Lib\\site-packages\\sklearn\\preprocessing\\_encoders.py:227: UserWarning: Found unknown categories in columns [9, 21] during transform. These unknown categories will be encoded as all zeros\n",
      "  warnings.warn(\n",
      "C:\\Users\\Natal\\anaconda3\\Lib\\site-packages\\sklearn\\preprocessing\\_encoders.py:227: UserWarning: Found unknown categories in columns [0] during transform. These unknown categories will be encoded as all zeros\n",
      "  warnings.warn(\n",
      "[I 2024-07-16 09:19:58,033] Trial 1 finished with value: -6.163065884450648 and parameters: {'scaling_method': 'standard', 'encoding_method': 'onehot', 'drop': 'first', 'n_estimators': 492, 'learning_rate': 0.002575169388675062, 'max_depth': 4, 'subsample': 0.4915144462142802, 'colsample_bytree': 0.6532977635113766, 'min_child_weight': 1}. Best is trial 0 with value: 0.9346673308494285.\n",
      "[I 2024-07-16 09:20:00,950] Trial 2 finished with value: 0.9464895800232536 and parameters: {'scaling_method': 'robust', 'encoding_method': 'onehot', 'drop': None, 'n_estimators': 897, 'learning_rate': 0.07970385240736814, 'max_depth': 2, 'subsample': 0.6934542266597595, 'colsample_bytree': 0.5577068357977943, 'min_child_weight': 5}. Best is trial 2 with value: 0.9464895800232536.\n",
      "[I 2024-07-16 09:20:02,641] Trial 3 finished with value: -6.3472926831956045 and parameters: {'scaling_method': 'robust', 'encoding_method': 'ordinal', 'n_estimators': 596, 'learning_rate': 0.0019054757708370338, 'max_depth': 2, 'subsample': 0.5207419435989612, 'colsample_bytree': 0.9366398860913907, 'min_child_weight': 3}. Best is trial 2 with value: 0.9464895800232536.\n",
      "[I 2024-07-16 09:20:06,113] Trial 4 finished with value: 0.9492455492323583 and parameters: {'scaling_method': 'maxabs', 'encoding_method': 'onehot', 'drop': None, 'n_estimators': 783, 'learning_rate': 0.03190727718335504, 'max_depth': 4, 'subsample': 0.2378793418825126, 'colsample_bytree': 0.6134047977794619, 'min_child_weight': 4}. Best is trial 4 with value: 0.9492455492323583.\n",
      "[I 2024-07-16 09:20:08,028] Trial 5 finished with value: 0.9395938577872155 and parameters: {'scaling_method': 'minmax', 'encoding_method': 'ordinal', 'n_estimators': 440, 'learning_rate': 0.023198013756713296, 'max_depth': 4, 'subsample': 0.7212576579631054, 'colsample_bytree': 0.9438912615381984, 'min_child_weight': 2}. Best is trial 4 with value: 0.9492455492323583.\n",
      "C:\\Users\\Natal\\anaconda3\\Lib\\site-packages\\sklearn\\preprocessing\\_encoders.py:227: UserWarning: Found unknown categories in columns [3, 10] during transform. These unknown categories will be encoded as all zeros\n",
      "  warnings.warn(\n",
      "C:\\Users\\Natal\\anaconda3\\Lib\\site-packages\\sklearn\\preprocessing\\_encoders.py:227: UserWarning: Found unknown categories in columns [3, 9, 14] during transform. These unknown categories will be encoded as all zeros\n",
      "  warnings.warn(\n",
      "C:\\Users\\Natal\\anaconda3\\Lib\\site-packages\\sklearn\\preprocessing\\_encoders.py:227: UserWarning: Found unknown categories in columns [5, 21] during transform. These unknown categories will be encoded as all zeros\n",
      "  warnings.warn(\n",
      "C:\\Users\\Natal\\anaconda3\\Lib\\site-packages\\sklearn\\preprocessing\\_encoders.py:227: UserWarning: Found unknown categories in columns [9, 21] during transform. These unknown categories will be encoded as all zeros\n",
      "  warnings.warn(\n",
      "C:\\Users\\Natal\\anaconda3\\Lib\\site-packages\\sklearn\\preprocessing\\_encoders.py:227: UserWarning: Found unknown categories in columns [0] during transform. These unknown categories will be encoded as all zeros\n",
      "  warnings.warn(\n",
      "[I 2024-07-16 09:20:09,086] Trial 6 finished with value: 0.8992988505058326 and parameters: {'scaling_method': 'minmax', 'encoding_method': 'onehot', 'drop': 'first', 'n_estimators': 222, 'learning_rate': 0.029553324376275027, 'max_depth': 2, 'subsample': 0.8027045236665274, 'colsample_bytree': 0.9477313907890869, 'min_child_weight': 2}. Best is trial 4 with value: 0.9492455492323583.\n",
      "[I 2024-07-16 09:20:10,753] Trial 7 finished with value: -6.465772003430091 and parameters: {'scaling_method': 'robust', 'encoding_method': 'onehot', 'drop': None, 'n_estimators': 430, 'learning_rate': 0.00236275265262563, 'max_depth': 2, 'subsample': 0.815981948430195, 'colsample_bytree': 0.6373099693942408, 'min_child_weight': 4}. Best is trial 4 with value: 0.9492455492323583.\n",
      "[I 2024-07-16 09:20:14,111] Trial 8 finished with value: 0.9335308434162177 and parameters: {'scaling_method': 'minmax', 'encoding_method': 'onehot', 'drop': None, 'n_estimators': 562, 'learning_rate': 0.014190472676294379, 'max_depth': 4, 'subsample': 0.8992376149624356, 'colsample_bytree': 0.8973343921688415, 'min_child_weight': 5}. Best is trial 4 with value: 0.9492455492323583.\n",
      "C:\\Users\\Natal\\anaconda3\\Lib\\site-packages\\sklearn\\preprocessing\\_encoders.py:227: UserWarning: Found unknown categories in columns [3, 10] during transform. These unknown categories will be encoded as all zeros\n",
      "  warnings.warn(\n",
      "C:\\Users\\Natal\\anaconda3\\Lib\\site-packages\\sklearn\\preprocessing\\_encoders.py:227: UserWarning: Found unknown categories in columns [3, 9, 14] during transform. These unknown categories will be encoded as all zeros\n",
      "  warnings.warn(\n",
      "C:\\Users\\Natal\\anaconda3\\Lib\\site-packages\\sklearn\\preprocessing\\_encoders.py:227: UserWarning: Found unknown categories in columns [5, 21] during transform. These unknown categories will be encoded as all zeros\n",
      "  warnings.warn(\n",
      "C:\\Users\\Natal\\anaconda3\\Lib\\site-packages\\sklearn\\preprocessing\\_encoders.py:227: UserWarning: Found unknown categories in columns [9, 21] during transform. These unknown categories will be encoded as all zeros\n",
      "  warnings.warn(\n",
      "C:\\Users\\Natal\\anaconda3\\Lib\\site-packages\\sklearn\\preprocessing\\_encoders.py:227: UserWarning: Found unknown categories in columns [0] during transform. These unknown categories will be encoded as all zeros\n",
      "  warnings.warn(\n",
      "[I 2024-07-16 09:20:18,252] Trial 9 finished with value: 0.597946708060561 and parameters: {'scaling_method': 'maxabs', 'encoding_method': 'onehot', 'drop': 'first', 'n_estimators': 983, 'learning_rate': 0.004265550219001116, 'max_depth': 3, 'subsample': 0.3685162719177343, 'colsample_bytree': 0.8929034279923462, 'min_child_weight': 2}. Best is trial 4 with value: 0.9492455492323583.\n",
      "[I 2024-07-16 09:20:20,571] Trial 10 finished with value: 0.9401550991180765 and parameters: {'scaling_method': 'maxabs', 'encoding_method': 'ordinal', 'n_estimators': 768, 'learning_rate': 0.08611588402856334, 'max_depth': 3, 'subsample': 0.15696372388351376, 'colsample_bytree': 0.5113140129996083, 'min_child_weight': 4}. Best is trial 4 with value: 0.9492455492323583.\n",
      "[I 2024-07-16 09:20:23,958] Trial 11 finished with value: 0.9344976100219812 and parameters: {'scaling_method': 'maxabs', 'encoding_method': 'onehot', 'drop': None, 'n_estimators': 915, 'learning_rate': 0.07974449183044309, 'max_depth': 3, 'subsample': 0.10180662406426866, 'colsample_bytree': 0.5029010467607454, 'min_child_weight': 5}. Best is trial 4 with value: 0.9492455492323583.\n",
      "[I 2024-07-16 09:20:28,653] Trial 12 finished with value: 0.9521593794302905 and parameters: {'scaling_method': 'standard', 'encoding_method': 'onehot', 'drop': None, 'n_estimators': 767, 'learning_rate': 0.04729226062014805, 'max_depth': 4, 'subsample': 0.6474720885394325, 'colsample_bytree': 0.6193038536203289, 'min_child_weight': 4}. Best is trial 12 with value: 0.9521593794302905.\n"
     ]
    },
    {
     "name": "stderr",
     "output_type": "stream",
     "text": [
      "[I 2024-07-16 09:20:33,152] Trial 13 finished with value: 0.9499376286957801 and parameters: {'scaling_method': 'standard', 'encoding_method': 'onehot', 'drop': None, 'n_estimators': 714, 'learning_rate': 0.0397794641187814, 'max_depth': 4, 'subsample': 0.37871350729210107, 'colsample_bytree': 0.7245464695981462, 'min_child_weight': 4}. Best is trial 12 with value: 0.9521593794302905.\n",
      "[I 2024-07-16 09:20:36,416] Trial 14 finished with value: 0.9292365942483789 and parameters: {'scaling_method': 'standard', 'encoding_method': 'ordinal', 'n_estimators': 677, 'learning_rate': 0.010491864708705173, 'max_depth': 4, 'subsample': 0.6213820095830929, 'colsample_bytree': 0.7574052781594777, 'min_child_weight': 3}. Best is trial 12 with value: 0.9521593794302905.\n",
      "[I 2024-07-16 09:20:42,213] Trial 15 finished with value: 0.9511581767669357 and parameters: {'scaling_method': 'standard', 'encoding_method': 'onehot', 'drop': None, 'n_estimators': 798, 'learning_rate': 0.047391052672483856, 'max_depth': 4, 'subsample': 0.4067000903264162, 'colsample_bytree': 0.7478025594512815, 'min_child_weight': 4}. Best is trial 12 with value: 0.9521593794302905.\n",
      "[I 2024-07-16 09:20:46,986] Trial 16 finished with value: 0.7616574597033517 and parameters: {'scaling_method': 'standard', 'encoding_method': 'onehot', 'drop': None, 'n_estimators': 842, 'learning_rate': 0.005404291134180695, 'max_depth': 3, 'subsample': 0.9669335807392059, 'colsample_bytree': 0.786678185168821, 'min_child_weight': 3}. Best is trial 12 with value: 0.9521593794302905.\n",
      "[I 2024-07-16 09:20:49,456] Trial 17 finished with value: 0.948850999192493 and parameters: {'scaling_method': 'standard', 'encoding_method': 'onehot', 'drop': None, 'n_estimators': 329, 'learning_rate': 0.05234945230445804, 'max_depth': 4, 'subsample': 0.43994892694634324, 'colsample_bytree': 0.7050224514266739, 'min_child_weight': 4}. Best is trial 12 with value: 0.9521593794302905.\n",
      "[I 2024-07-16 09:20:51,588] Trial 18 finished with value: -6.637612719405072 and parameters: {'scaling_method': 'standard', 'encoding_method': 'ordinal', 'n_estimators': 648, 'learning_rate': 0.0010067238462570039, 'max_depth': 3, 'subsample': 0.5955648102937842, 'colsample_bytree': 0.8173571053889588, 'min_child_weight': 3}. Best is trial 12 with value: 0.9521593794302905.\n",
      "C:\\Users\\Natal\\anaconda3\\Lib\\site-packages\\sklearn\\preprocessing\\_encoders.py:227: UserWarning: Found unknown categories in columns [3, 10] during transform. These unknown categories will be encoded as all zeros\n",
      "  warnings.warn(\n",
      "C:\\Users\\Natal\\anaconda3\\Lib\\site-packages\\sklearn\\preprocessing\\_encoders.py:227: UserWarning: Found unknown categories in columns [3, 9, 14] during transform. These unknown categories will be encoded as all zeros\n",
      "  warnings.warn(\n",
      "C:\\Users\\Natal\\anaconda3\\Lib\\site-packages\\sklearn\\preprocessing\\_encoders.py:227: UserWarning: Found unknown categories in columns [5, 21] during transform. These unknown categories will be encoded as all zeros\n",
      "  warnings.warn(\n",
      "C:\\Users\\Natal\\anaconda3\\Lib\\site-packages\\sklearn\\preprocessing\\_encoders.py:227: UserWarning: Found unknown categories in columns [9, 21] during transform. These unknown categories will be encoded as all zeros\n",
      "  warnings.warn(\n",
      "C:\\Users\\Natal\\anaconda3\\Lib\\site-packages\\sklearn\\preprocessing\\_encoders.py:227: UserWarning: Found unknown categories in columns [0] during transform. These unknown categories will be encoded as all zeros\n",
      "  warnings.warn(\n",
      "[I 2024-07-16 09:20:52,588] Trial 19 finished with value: 0.9273022260161866 and parameters: {'scaling_method': 'standard', 'encoding_method': 'onehot', 'drop': 'first', 'n_estimators': 140, 'learning_rate': 0.0530561429674577, 'max_depth': 4, 'subsample': 0.287551892168741, 'colsample_bytree': 0.6906448985388419, 'min_child_weight': 5}. Best is trial 12 with value: 0.9521593794302905.\n",
      "[I 2024-07-16 09:20:57,695] Trial 20 finished with value: 0.9435650210641202 and parameters: {'scaling_method': 'standard', 'encoding_method': 'onehot', 'drop': None, 'n_estimators': 795, 'learning_rate': 0.016426239722196482, 'max_depth': 4, 'subsample': 0.6590854659019745, 'colsample_bytree': 0.585607942317437, 'min_child_weight': 4}. Best is trial 12 with value: 0.9521593794302905.\n",
      "[I 2024-07-16 09:21:02,876] Trial 21 finished with value: 0.9504621518977989 and parameters: {'scaling_method': 'standard', 'encoding_method': 'onehot', 'drop': None, 'n_estimators': 694, 'learning_rate': 0.044444172994943326, 'max_depth': 4, 'subsample': 0.40445909774362404, 'colsample_bytree': 0.7061072671597574, 'min_child_weight': 4}. Best is trial 12 with value: 0.9521593794302905.\n",
      "[I 2024-07-16 09:21:08,482] Trial 22 finished with value: 0.9510568957801897 and parameters: {'scaling_method': 'standard', 'encoding_method': 'onehot', 'drop': None, 'n_estimators': 689, 'learning_rate': 0.04973463715370684, 'max_depth': 4, 'subsample': 0.460083800904819, 'colsample_bytree': 0.8130556238937897, 'min_child_weight': 4}. Best is trial 12 with value: 0.9521593794302905.\n",
      "[I 2024-07-16 09:21:15,966] Trial 23 finished with value: 0.9481417012104485 and parameters: {'scaling_method': 'standard', 'encoding_method': 'onehot', 'drop': None, 'n_estimators': 873, 'learning_rate': 0.019086552580620857, 'max_depth': 4, 'subsample': 0.5499300375224502, 'colsample_bytree': 0.8244043229522998, 'min_child_weight': 3}. Best is trial 12 with value: 0.9521593794302905.\n",
      "[I 2024-07-16 09:21:21,567] Trial 24 finished with value: 0.9503259968181995 and parameters: {'scaling_method': 'standard', 'encoding_method': 'onehot', 'drop': None, 'n_estimators': 982, 'learning_rate': 0.059245798247765644, 'max_depth': 3, 'subsample': 0.28031885943555257, 'colsample_bytree': 0.7666886629148627, 'min_child_weight': 5}. Best is trial 12 with value: 0.9521593794302905.\n",
      "[I 2024-07-16 09:21:27,234] Trial 25 finished with value: 0.9298429688274282 and parameters: {'scaling_method': 'standard', 'encoding_method': 'onehot', 'drop': None, 'n_estimators': 745, 'learning_rate': 0.009681056665650074, 'max_depth': 4, 'subsample': 0.46284324273362576, 'colsample_bytree': 0.9903299056449928, 'min_child_weight': 4}. Best is trial 12 with value: 0.9521593794302905.\n",
      "[I 2024-07-16 09:21:30,888] Trial 26 finished with value: 0.9452726188733658 and parameters: {'scaling_method': 'standard', 'encoding_method': 'ordinal', 'n_estimators': 626, 'learning_rate': 0.03665728590234853, 'max_depth': 4, 'subsample': 0.771183165613654, 'colsample_bytree': 0.8276244300152987, 'min_child_weight': 3}. Best is trial 12 with value: 0.9521593794302905.\n",
      "[I 2024-07-16 09:21:35,685] Trial 27 finished with value: 0.9509643269780625 and parameters: {'scaling_method': 'standard', 'encoding_method': 'onehot', 'drop': None, 'n_estimators': 824, 'learning_rate': 0.06481525771599732, 'max_depth': 3, 'subsample': 0.5663178703879708, 'colsample_bytree': 0.6713616769508152, 'min_child_weight': 4}. Best is trial 12 with value: 0.9521593794302905.\n",
      "C:\\Users\\Natal\\anaconda3\\Lib\\site-packages\\sklearn\\preprocessing\\_encoders.py:227: UserWarning: Found unknown categories in columns [3, 10] during transform. These unknown categories will be encoded as all zeros\n",
      "  warnings.warn(\n",
      "C:\\Users\\Natal\\anaconda3\\Lib\\site-packages\\sklearn\\preprocessing\\_encoders.py:227: UserWarning: Found unknown categories in columns [3, 9, 14] during transform. These unknown categories will be encoded as all zeros\n",
      "  warnings.warn(\n",
      "C:\\Users\\Natal\\anaconda3\\Lib\\site-packages\\sklearn\\preprocessing\\_encoders.py:227: UserWarning: Found unknown categories in columns [5, 21] during transform. These unknown categories will be encoded as all zeros\n",
      "  warnings.warn(\n",
      "C:\\Users\\Natal\\anaconda3\\Lib\\site-packages\\sklearn\\preprocessing\\_encoders.py:227: UserWarning: Found unknown categories in columns [9, 21] during transform. These unknown categories will be encoded as all zeros\n",
      "  warnings.warn(\n",
      "C:\\Users\\Natal\\anaconda3\\Lib\\site-packages\\sklearn\\preprocessing\\_encoders.py:227: UserWarning: Found unknown categories in columns [0] during transform. These unknown categories will be encoded as all zeros\n",
      "  warnings.warn(\n",
      "[I 2024-07-16 09:21:40,198] Trial 28 finished with value: 0.9456583736660824 and parameters: {'scaling_method': 'minmax', 'encoding_method': 'onehot', 'drop': 'first', 'n_estimators': 551, 'learning_rate': 0.09855248402855467, 'max_depth': 4, 'subsample': 0.49567245987555175, 'colsample_bytree': 0.8584816973936492, 'min_child_weight': 5}. Best is trial 12 with value: 0.9521593794302905.\n"
     ]
    },
    {
     "name": "stderr",
     "output_type": "stream",
     "text": [
      "[I 2024-07-16 09:21:44,838] Trial 29 finished with value: 0.949164104945081 and parameters: {'scaling_method': 'robust', 'encoding_method': 'onehot', 'drop': None, 'n_estimators': 920, 'learning_rate': 0.025607394808080226, 'max_depth': 3, 'subsample': 0.30284178066813316, 'colsample_bytree': 0.7437036929866911, 'min_child_weight': 1}. Best is trial 12 with value: 0.9521593794302905.\n",
      "[I 2024-07-16 09:21:47,979] Trial 30 finished with value: 0.8579720996612158 and parameters: {'scaling_method': 'standard', 'encoding_method': 'onehot', 'drop': None, 'n_estimators': 487, 'learning_rate': 0.010463185713603128, 'max_depth': 4, 'subsample': 0.6428368830901725, 'colsample_bytree': 0.794344040387567, 'min_child_weight': 3}. Best is trial 12 with value: 0.9521593794302905.\n",
      "[I 2024-07-16 09:21:52,466] Trial 31 finished with value: 0.9507158059346441 and parameters: {'scaling_method': 'standard', 'encoding_method': 'onehot', 'drop': None, 'n_estimators': 793, 'learning_rate': 0.06662733767657203, 'max_depth': 3, 'subsample': 0.5804943646135519, 'colsample_bytree': 0.6655508398105485, 'min_child_weight': 4}. Best is trial 12 with value: 0.9521593794302905.\n",
      "[I 2024-07-16 09:21:56,903] Trial 32 finished with value: 0.9513675122055648 and parameters: {'scaling_method': 'standard', 'encoding_method': 'onehot', 'drop': None, 'n_estimators': 825, 'learning_rate': 0.0633557390420292, 'max_depth': 3, 'subsample': 0.43083837680973097, 'colsample_bytree': 0.6639364059217894, 'min_child_weight': 4}. Best is trial 12 with value: 0.9521593794302905.\n",
      "[I 2024-07-16 09:22:00,640] Trial 33 finished with value: 0.9504145053925028 and parameters: {'scaling_method': 'standard', 'encoding_method': 'onehot', 'drop': None, 'n_estimators': 702, 'learning_rate': 0.04700994412308481, 'max_depth': 3, 'subsample': 0.4317531393960828, 'colsample_bytree': 0.6319610584402935, 'min_child_weight': 4}. Best is trial 12 with value: 0.9521593794302905.\n",
      "[I 2024-07-16 09:22:05,349] Trial 34 finished with value: 0.9493244113594249 and parameters: {'scaling_method': 'standard', 'encoding_method': 'onehot', 'drop': None, 'n_estimators': 857, 'learning_rate': 0.031123390392781725, 'max_depth': 4, 'subsample': 0.3482098538153208, 'colsample_bytree': 0.5808662668216741, 'min_child_weight': 5}. Best is trial 12 with value: 0.9521593794302905.\n",
      "[I 2024-07-16 09:22:09,387] Trial 35 finished with value: 0.9438615636934851 and parameters: {'scaling_method': 'robust', 'encoding_method': 'onehot', 'drop': None, 'n_estimators': 742, 'learning_rate': 0.022518020384094138, 'max_depth': 3, 'subsample': 0.5151889380474837, 'colsample_bytree': 0.6110828695020909, 'min_child_weight': 4}. Best is trial 12 with value: 0.9521593794302905.\n",
      "[I 2024-07-16 09:22:12,797] Trial 36 finished with value: 0.9493840092164116 and parameters: {'scaling_method': 'standard', 'encoding_method': 'onehot', 'drop': None, 'n_estimators': 637, 'learning_rate': 0.07110441706969593, 'max_depth': 4, 'subsample': 0.238357312876637, 'colsample_bytree': 0.550710244241414, 'min_child_weight': 3}. Best is trial 12 with value: 0.9521593794302905.\n",
      "[I 2024-07-16 09:22:16,094] Trial 37 finished with value: 0.9456177946917816 and parameters: {'scaling_method': 'standard', 'encoding_method': 'ordinal', 'n_estimators': 929, 'learning_rate': 0.03682927451702668, 'max_depth': 2, 'subsample': 0.473768038186032, 'colsample_bytree': 0.7390424049423115, 'min_child_weight': 5}. Best is trial 12 with value: 0.9521593794302905.\n",
      "[I 2024-07-16 09:22:20,362] Trial 38 finished with value: 0.9492645826020323 and parameters: {'scaling_method': 'minmax', 'encoding_method': 'onehot', 'drop': None, 'n_estimators': 579, 'learning_rate': 0.048017023471238866, 'max_depth': 4, 'subsample': 0.7157584732777649, 'colsample_bytree': 0.8503372513092223, 'min_child_weight': 4}. Best is trial 12 with value: 0.9521593794302905.\n",
      "C:\\Users\\Natal\\anaconda3\\Lib\\site-packages\\sklearn\\preprocessing\\_encoders.py:227: UserWarning: Found unknown categories in columns [3, 10] during transform. These unknown categories will be encoded as all zeros\n",
      "  warnings.warn(\n",
      "C:\\Users\\Natal\\anaconda3\\Lib\\site-packages\\sklearn\\preprocessing\\_encoders.py:227: UserWarning: Found unknown categories in columns [3, 9, 14] during transform. These unknown categories will be encoded as all zeros\n",
      "  warnings.warn(\n",
      "C:\\Users\\Natal\\anaconda3\\Lib\\site-packages\\sklearn\\preprocessing\\_encoders.py:227: UserWarning: Found unknown categories in columns [5, 21] during transform. These unknown categories will be encoded as all zeros\n",
      "  warnings.warn(\n",
      "C:\\Users\\Natal\\anaconda3\\Lib\\site-packages\\sklearn\\preprocessing\\_encoders.py:227: UserWarning: Found unknown categories in columns [9, 21] during transform. These unknown categories will be encoded as all zeros\n",
      "  warnings.warn(\n",
      "C:\\Users\\Natal\\anaconda3\\Lib\\site-packages\\sklearn\\preprocessing\\_encoders.py:227: UserWarning: Found unknown categories in columns [0] during transform. These unknown categories will be encoded as all zeros\n",
      "  warnings.warn(\n",
      "[I 2024-07-16 09:22:24,537] Trial 39 finished with value: 0.9506443548661073 and parameters: {'scaling_method': 'robust', 'encoding_method': 'onehot', 'drop': 'first', 'n_estimators': 810, 'learning_rate': 0.09873302281050222, 'max_depth': 3, 'subsample': 0.3327976395193738, 'colsample_bytree': 0.7836175564404917, 'min_child_weight': 4}. Best is trial 12 with value: 0.9521593794302905.\n",
      "[I 2024-07-16 09:22:27,819] Trial 40 finished with value: 0.9423336321591645 and parameters: {'scaling_method': 'maxabs', 'encoding_method': 'onehot', 'drop': None, 'n_estimators': 730, 'learning_rate': 0.02735036824125526, 'max_depth': 2, 'subsample': 0.530142890005902, 'colsample_bytree': 0.6418755244170449, 'min_child_weight': 5}. Best is trial 12 with value: 0.9521593794302905.\n",
      "[I 2024-07-16 09:22:32,597] Trial 41 finished with value: 0.9523201665569404 and parameters: {'scaling_method': 'standard', 'encoding_method': 'onehot', 'drop': None, 'n_estimators': 872, 'learning_rate': 0.06507545497261033, 'max_depth': 3, 'subsample': 0.5780033294966029, 'colsample_bytree': 0.6732037297267573, 'min_child_weight': 4}. Best is trial 41 with value: 0.9523201665569404.\n",
      "[I 2024-07-16 09:22:37,453] Trial 42 finished with value: 0.9484596664965673 and parameters: {'scaling_method': 'standard', 'encoding_method': 'onehot', 'drop': None, 'n_estimators': 885, 'learning_rate': 0.07510205062663165, 'max_depth': 3, 'subsample': 0.6824401559388008, 'colsample_bytree': 0.675004135054794, 'min_child_weight': 4}. Best is trial 41 with value: 0.9523201665569404.\n",
      "[I 2024-07-16 09:22:41,481] Trial 43 finished with value: 0.9512485077328835 and parameters: {'scaling_method': 'standard', 'encoding_method': 'onehot', 'drop': None, 'n_estimators': 768, 'learning_rate': 0.058708576512874006, 'max_depth': 3, 'subsample': 0.4217194893229429, 'colsample_bytree': 0.6118020489115675, 'min_child_weight': 4}. Best is trial 41 with value: 0.9523201665569404.\n",
      "[I 2024-07-16 09:22:46,504] Trial 44 finished with value: 0.9502880824358447 and parameters: {'scaling_method': 'standard', 'encoding_method': 'onehot', 'drop': None, 'n_estimators': 956, 'learning_rate': 0.03403486706534832, 'max_depth': 3, 'subsample': 0.7502924963558425, 'colsample_bytree': 0.6189330459034983, 'min_child_weight': 4}. Best is trial 41 with value: 0.9523201665569404.\n",
      "[I 2024-07-16 09:22:49,404] Trial 45 finished with value: 0.9497838626141958 and parameters: {'scaling_method': 'minmax', 'encoding_method': 'ordinal', 'n_estimators': 772, 'learning_rate': 0.058529325668706375, 'max_depth': 3, 'subsample': 0.3791936453699334, 'colsample_bytree': 0.5894733099192515, 'min_child_weight': 3}. Best is trial 41 with value: 0.9523201665569404.\n",
      "[I 2024-07-16 09:22:54,169] Trial 46 finished with value: 0.9505438508901667 and parameters: {'scaling_method': 'maxabs', 'encoding_method': 'onehot', 'drop': None, 'n_estimators': 868, 'learning_rate': 0.07977665892922679, 'max_depth': 3, 'subsample': 0.604257887698297, 'colsample_bytree': 0.5574166696308082, 'min_child_weight': 4}. Best is trial 41 with value: 0.9523201665569404.\n",
      "C:\\Users\\Natal\\anaconda3\\Lib\\site-packages\\sklearn\\preprocessing\\_encoders.py:227: UserWarning: Found unknown categories in columns [3, 10] during transform. These unknown categories will be encoded as all zeros\n",
      "  warnings.warn(\n"
     ]
    },
    {
     "name": "stderr",
     "output_type": "stream",
     "text": [
      "C:\\Users\\Natal\\anaconda3\\Lib\\site-packages\\sklearn\\preprocessing\\_encoders.py:227: UserWarning: Found unknown categories in columns [3, 9, 14] during transform. These unknown categories will be encoded as all zeros\n",
      "  warnings.warn(\n",
      "C:\\Users\\Natal\\anaconda3\\Lib\\site-packages\\sklearn\\preprocessing\\_encoders.py:227: UserWarning: Found unknown categories in columns [5, 21] during transform. These unknown categories will be encoded as all zeros\n",
      "  warnings.warn(\n",
      "C:\\Users\\Natal\\anaconda3\\Lib\\site-packages\\sklearn\\preprocessing\\_encoders.py:227: UserWarning: Found unknown categories in columns [9, 21] during transform. These unknown categories will be encoded as all zeros\n",
      "  warnings.warn(\n",
      "C:\\Users\\Natal\\anaconda3\\Lib\\site-packages\\sklearn\\preprocessing\\_encoders.py:227: UserWarning: Found unknown categories in columns [0] during transform. These unknown categories will be encoded as all zeros\n",
      "  warnings.warn(\n",
      "[I 2024-07-16 09:22:58,527] Trial 47 finished with value: 0.950813334055247 and parameters: {'scaling_method': 'standard', 'encoding_method': 'onehot', 'drop': 'first', 'n_estimators': 829, 'learning_rate': 0.042226907002724696, 'max_depth': 3, 'subsample': 0.40397386309186856, 'colsample_bytree': 0.6493312297794681, 'min_child_weight': 1}. Best is trial 41 with value: 0.9523201665569404.\n",
      "[I 2024-07-16 09:23:00,845] Trial 48 finished with value: -3.209957906049195 and parameters: {'scaling_method': 'standard', 'encoding_method': 'onehot', 'drop': None, 'n_estimators': 424, 'learning_rate': 0.005225847069261641, 'max_depth': 3, 'subsample': 0.8423995539297795, 'colsample_bytree': 0.7098950222407459, 'min_child_weight': 3}. Best is trial 41 with value: 0.9523201665569404.\n",
      "[I 2024-07-16 09:23:04,095] Trial 49 finished with value: 0.9482556447518817 and parameters: {'scaling_method': 'robust', 'encoding_method': 'ordinal', 'n_estimators': 997, 'learning_rate': 0.08240721365996945, 'max_depth': 2, 'subsample': 0.520403778295357, 'colsample_bytree': 0.6051782982108307, 'min_child_weight': 5}. Best is trial 41 with value: 0.9523201665569404.\n",
      "[I 2024-07-16 09:23:07,457] Trial 50 finished with value: 0.945247274550195 and parameters: {'scaling_method': 'standard', 'encoding_method': 'onehot', 'drop': None, 'n_estimators': 773, 'learning_rate': 0.02211899739414929, 'max_depth': 3, 'subsample': 0.23330635463689187, 'colsample_bytree': 0.5233698595895443, 'min_child_weight': 2}. Best is trial 41 with value: 0.9523201665569404.\n",
      "[I 2024-07-16 09:23:11,186] Trial 51 finished with value: 0.9504674135390868 and parameters: {'scaling_method': 'standard', 'encoding_method': 'onehot', 'drop': None, 'n_estimators': 655, 'learning_rate': 0.055705325059321784, 'max_depth': 3, 'subsample': 0.4339233780973017, 'colsample_bytree': 0.6848917474882584, 'min_child_weight': 4}. Best is trial 41 with value: 0.9523201665569404.\n",
      "[I 2024-07-16 09:23:16,735] Trial 52 finished with value: 0.9528428538331914 and parameters: {'scaling_method': 'standard', 'encoding_method': 'onehot', 'drop': None, 'n_estimators': 830, 'learning_rate': 0.04155081636892581, 'max_depth': 4, 'subsample': 0.4509109758118648, 'colsample_bytree': 0.7291190973380179, 'min_child_weight': 4}. Best is trial 52 with value: 0.9528428538331914.\n",
      "[I 2024-07-16 09:23:22,604] Trial 53 finished with value: 0.9506657389116111 and parameters: {'scaling_method': 'standard', 'encoding_method': 'onehot', 'drop': None, 'n_estimators': 893, 'learning_rate': 0.03982404616996275, 'max_depth': 4, 'subsample': 0.4081071285413448, 'colsample_bytree': 0.7207254099784625, 'min_child_weight': 4}. Best is trial 52 with value: 0.9528428538331914.\n",
      "[I 2024-07-16 09:23:28,792] Trial 54 finished with value: 0.9507349545181786 and parameters: {'scaling_method': 'standard', 'encoding_method': 'onehot', 'drop': None, 'n_estimators': 931, 'learning_rate': 0.029788987261082294, 'max_depth': 4, 'subsample': 0.6402097757161616, 'colsample_bytree': 0.6587113500128999, 'min_child_weight': 4}. Best is trial 52 with value: 0.9528428538331914.\n",
      "[I 2024-07-16 09:23:33,619] Trial 55 finished with value: 0.9480630154294689 and parameters: {'scaling_method': 'standard', 'encoding_method': 'onehot', 'drop': None, 'n_estimators': 824, 'learning_rate': 0.06499554044005938, 'max_depth': 3, 'subsample': 0.5447255766810911, 'colsample_bytree': 0.6877576511022102, 'min_child_weight': 4}. Best is trial 52 with value: 0.9528428538331914.\n",
      "[I 2024-07-16 09:23:38,988] Trial 56 finished with value: 0.9514324509770251 and parameters: {'scaling_method': 'maxabs', 'encoding_method': 'onehot', 'drop': None, 'n_estimators': 842, 'learning_rate': 0.09154124161051745, 'max_depth': 4, 'subsample': 0.4905394952545925, 'colsample_bytree': 0.7323398631820065, 'min_child_weight': 4}. Best is trial 52 with value: 0.9528428538331914.\n",
      "C:\\Users\\Natal\\anaconda3\\Lib\\site-packages\\sklearn\\preprocessing\\_encoders.py:227: UserWarning: Found unknown categories in columns [3, 10] during transform. These unknown categories will be encoded as all zeros\n",
      "  warnings.warn(\n",
      "C:\\Users\\Natal\\anaconda3\\Lib\\site-packages\\sklearn\\preprocessing\\_encoders.py:227: UserWarning: Found unknown categories in columns [3, 9, 14] during transform. These unknown categories will be encoded as all zeros\n",
      "  warnings.warn(\n",
      "C:\\Users\\Natal\\anaconda3\\Lib\\site-packages\\sklearn\\preprocessing\\_encoders.py:227: UserWarning: Found unknown categories in columns [5, 21] during transform. These unknown categories will be encoded as all zeros\n",
      "  warnings.warn(\n",
      "C:\\Users\\Natal\\anaconda3\\Lib\\site-packages\\sklearn\\preprocessing\\_encoders.py:227: UserWarning: Found unknown categories in columns [9, 21] during transform. These unknown categories will be encoded as all zeros\n",
      "  warnings.warn(\n",
      "C:\\Users\\Natal\\anaconda3\\Lib\\site-packages\\sklearn\\preprocessing\\_encoders.py:227: UserWarning: Found unknown categories in columns [0] during transform. These unknown categories will be encoded as all zeros\n",
      "  warnings.warn(\n",
      "[I 2024-07-16 09:23:43,835] Trial 57 finished with value: 0.9499933007662218 and parameters: {'scaling_method': 'maxabs', 'encoding_method': 'onehot', 'drop': 'first', 'n_estimators': 954, 'learning_rate': 0.09980714173196387, 'max_depth': 3, 'subsample': 0.49469420503819833, 'colsample_bytree': 0.7305679000533077, 'min_child_weight': 4}. Best is trial 52 with value: 0.9528428538331914.\n",
      "[I 2024-07-16 09:23:49,541] Trial 58 finished with value: 0.9482663861797954 and parameters: {'scaling_method': 'maxabs', 'encoding_method': 'onehot', 'drop': None, 'n_estimators': 852, 'learning_rate': 0.08476139528316784, 'max_depth': 4, 'subsample': 0.5696225551194105, 'colsample_bytree': 0.6981172785855054, 'min_child_weight': 3}. Best is trial 52 with value: 0.9528428538331914.\n",
      "[I 2024-07-16 09:23:53,609] Trial 59 finished with value: 0.9369169971296253 and parameters: {'scaling_method': 'maxabs', 'encoding_method': 'onehot', 'drop': None, 'n_estimators': 755, 'learning_rate': 0.01365127944383386, 'max_depth': 3, 'subsample': 0.6857844128277272, 'colsample_bytree': 0.6299597470824319, 'min_child_weight': 5}. Best is trial 52 with value: 0.9528428538331914.\n",
      "[I 2024-07-16 09:23:56,275] Trial 60 finished with value: -5.910941484540518 and parameters: {'scaling_method': 'maxabs', 'encoding_method': 'ordinal', 'n_estimators': 898, 'learning_rate': 0.001561454677509108, 'max_depth': 4, 'subsample': 0.48430319009830197, 'colsample_bytree': 0.6513700186269376, 'min_child_weight': 4}. Best is trial 52 with value: 0.9528428538331914.\n",
      "[I 2024-07-16 09:24:01,488] Trial 61 finished with value: 0.9517257046545786 and parameters: {'scaling_method': 'standard', 'encoding_method': 'onehot', 'drop': None, 'n_estimators': 792, 'learning_rate': 0.05730470324713337, 'max_depth': 4, 'subsample': 0.38030710308790805, 'colsample_bytree': 0.7606713255269029, 'min_child_weight': 4}. Best is trial 52 with value: 0.9528428538331914.\n",
      "[I 2024-07-16 09:24:06,042] Trial 62 finished with value: 0.9524204153970215 and parameters: {'scaling_method': 'standard', 'encoding_method': 'onehot', 'drop': None, 'n_estimators': 727, 'learning_rate': 0.053836140278987386, 'max_depth': 4, 'subsample': 0.33495793747312985, 'colsample_bytree': 0.7767101008318574, 'min_child_weight': 4}. Best is trial 52 with value: 0.9528428538331914.\n"
     ]
    },
    {
     "name": "stderr",
     "output_type": "stream",
     "text": [
      "[I 2024-07-16 09:24:11,718] Trial 63 finished with value: 0.950095679462763 and parameters: {'scaling_method': 'maxabs', 'encoding_method': 'onehot', 'drop': None, 'n_estimators': 845, 'learning_rate': 0.06669732972994195, 'max_depth': 4, 'subsample': 0.308519083787203, 'colsample_bytree': 0.7721243771984889, 'min_child_weight': 4}. Best is trial 52 with value: 0.9528428538331914.\n",
      "[I 2024-07-16 09:24:16,603] Trial 64 finished with value: 0.951190265804146 and parameters: {'scaling_method': 'minmax', 'encoding_method': 'onehot', 'drop': None, 'n_estimators': 809, 'learning_rate': 0.05185357281894903, 'max_depth': 4, 'subsample': 0.36306012279158645, 'colsample_bytree': 0.752193401428429, 'min_child_weight': 4}. Best is trial 52 with value: 0.9528428538331914.\n",
      "[I 2024-07-16 09:24:20,537] Trial 65 finished with value: 0.9503587055162651 and parameters: {'scaling_method': 'standard', 'encoding_method': 'onehot', 'drop': None, 'n_estimators': 722, 'learning_rate': 0.04249423378391319, 'max_depth': 4, 'subsample': 0.2662546581725011, 'colsample_bytree': 0.7138489407159679, 'min_child_weight': 4}. Best is trial 52 with value: 0.9528428538331914.\n",
      "[I 2024-07-16 09:24:24,175] Trial 66 finished with value: 0.9403792472664836 and parameters: {'scaling_method': 'standard', 'encoding_method': 'onehot', 'drop': None, 'n_estimators': 670, 'learning_rate': 0.07762419085523724, 'max_depth': 4, 'subsample': 0.16585966110263134, 'colsample_bytree': 0.7667749690150173, 'min_child_weight': 3}. Best is trial 52 with value: 0.9528428538331914.\n",
      "[I 2024-07-16 09:24:29,513] Trial 67 finished with value: 0.9468569574359286 and parameters: {'scaling_method': 'standard', 'encoding_method': 'onehot', 'drop': None, 'n_estimators': 787, 'learning_rate': 0.08978858148170225, 'max_depth': 4, 'subsample': 0.6146630045505043, 'colsample_bytree': 0.7311879681120449, 'min_child_weight': 5}. Best is trial 52 with value: 0.9528428538331914.\n",
      "[I 2024-07-16 09:24:33,449] Trial 68 finished with value: 0.8610529388473129 and parameters: {'scaling_method': 'standard', 'encoding_method': 'onehot', 'drop': None, 'n_estimators': 711, 'learning_rate': 0.007428619903766021, 'max_depth': 4, 'subsample': 0.32384631892186777, 'colsample_bytree': 0.8120015177420874, 'min_child_weight': 4}. Best is trial 52 with value: 0.9528428538331914.\n",
      "C:\\Users\\Natal\\anaconda3\\Lib\\site-packages\\sklearn\\preprocessing\\_encoders.py:227: UserWarning: Found unknown categories in columns [3, 10] during transform. These unknown categories will be encoded as all zeros\n",
      "  warnings.warn(\n",
      "C:\\Users\\Natal\\anaconda3\\Lib\\site-packages\\sklearn\\preprocessing\\_encoders.py:227: UserWarning: Found unknown categories in columns [3, 9, 14] during transform. These unknown categories will be encoded as all zeros\n",
      "  warnings.warn(\n",
      "C:\\Users\\Natal\\anaconda3\\Lib\\site-packages\\sklearn\\preprocessing\\_encoders.py:227: UserWarning: Found unknown categories in columns [5, 21] during transform. These unknown categories will be encoded as all zeros\n",
      "  warnings.warn(\n",
      "C:\\Users\\Natal\\anaconda3\\Lib\\site-packages\\sklearn\\preprocessing\\_encoders.py:227: UserWarning: Found unknown categories in columns [9, 21] during transform. These unknown categories will be encoded as all zeros\n",
      "  warnings.warn(\n",
      "C:\\Users\\Natal\\anaconda3\\Lib\\site-packages\\sklearn\\preprocessing\\_encoders.py:227: UserWarning: Found unknown categories in columns [0] during transform. These unknown categories will be encoded as all zeros\n",
      "  warnings.warn(\n",
      "[I 2024-07-16 09:24:36,259] Trial 69 finished with value: -4.278398176178222 and parameters: {'scaling_method': 'standard', 'encoding_method': 'onehot', 'drop': 'first', 'n_estimators': 612, 'learning_rate': 0.003180535834419085, 'max_depth': 4, 'subsample': 0.46030725341278156, 'colsample_bytree': 0.7917283592606461, 'min_child_weight': 4}. Best is trial 52 with value: 0.9528428538331914.\n",
      "[I 2024-07-16 09:24:39,662] Trial 70 finished with value: 0.9471476859818337 and parameters: {'scaling_method': 'maxabs', 'encoding_method': 'onehot', 'drop': None, 'n_estimators': 525, 'learning_rate': 0.03543469282093258, 'max_depth': 4, 'subsample': 0.3807647526056799, 'colsample_bytree': 0.7576854110654505, 'min_child_weight': 4}. Best is trial 52 with value: 0.9528428538331914.\n",
      "[I 2024-07-16 09:24:44,269] Trial 71 finished with value: 0.9517509929140399 and parameters: {'scaling_method': 'standard', 'encoding_method': 'onehot', 'drop': None, 'n_estimators': 749, 'learning_rate': 0.05938083839256959, 'max_depth': 4, 'subsample': 0.44555189240029336, 'colsample_bytree': 0.594592957306584, 'min_child_weight': 4}. Best is trial 52 with value: 0.9528428538331914.\n",
      "[I 2024-07-16 09:24:49,217] Trial 72 finished with value: 0.9512589904955691 and parameters: {'scaling_method': 'standard', 'encoding_method': 'onehot', 'drop': None, 'n_estimators': 836, 'learning_rate': 0.06098549954349969, 'max_depth': 4, 'subsample': 0.44603771652553886, 'colsample_bytree': 0.5696930291785585, 'min_child_weight': 4}. Best is trial 52 with value: 0.9528428538331914.\n",
      "[I 2024-07-16 09:24:54,256] Trial 73 finished with value: 0.9469825246668071 and parameters: {'scaling_method': 'standard', 'encoding_method': 'onehot', 'drop': None, 'n_estimators': 744, 'learning_rate': 0.07150715958441867, 'max_depth': 4, 'subsample': 0.509399435733443, 'colsample_bytree': 0.6771240056977652, 'min_child_weight': 4}. Best is trial 52 with value: 0.9528428538331914.\n",
      "[I 2024-07-16 09:24:59,665] Trial 74 finished with value: 0.9520000461085305 and parameters: {'scaling_method': 'standard', 'encoding_method': 'onehot', 'drop': None, 'n_estimators': 874, 'learning_rate': 0.04900463652882283, 'max_depth': 4, 'subsample': 0.5451772187138496, 'colsample_bytree': 0.5943850037519653, 'min_child_weight': 4}. Best is trial 52 with value: 0.9528428538331914.\n",
      "[I 2024-07-16 09:25:04,779] Trial 75 finished with value: 0.9525578006548934 and parameters: {'scaling_method': 'standard', 'encoding_method': 'onehot', 'drop': None, 'n_estimators': 910, 'learning_rate': 0.051644707541483405, 'max_depth': 4, 'subsample': 0.5835800315884345, 'colsample_bytree': 0.5343120147350685, 'min_child_weight': 4}. Best is trial 52 with value: 0.9528428538331914.\n",
      "[I 2024-07-16 09:25:09,802] Trial 76 finished with value: 0.9538790152827454 and parameters: {'scaling_method': 'standard', 'encoding_method': 'onehot', 'drop': None, 'n_estimators': 905, 'learning_rate': 0.04643973848790804, 'max_depth': 4, 'subsample': 0.5797329944770706, 'colsample_bytree': 0.527504939004116, 'min_child_weight': 3}. Best is trial 76 with value: 0.9538790152827454.\n",
      "[I 2024-07-16 09:25:15,040] Trial 77 finished with value: 0.9522296516135512 and parameters: {'scaling_method': 'standard', 'encoding_method': 'onehot', 'drop': None, 'n_estimators': 956, 'learning_rate': 0.04648810682324537, 'max_depth': 4, 'subsample': 0.5836446443704956, 'colsample_bytree': 0.542127444547118, 'min_child_weight': 3}. Best is trial 76 with value: 0.9538790152827454.\n",
      "[I 2024-07-16 09:25:18,880] Trial 78 finished with value: 0.9493384216313343 and parameters: {'scaling_method': 'standard', 'encoding_method': 'ordinal', 'n_estimators': 961, 'learning_rate': 0.04731121763807573, 'max_depth': 4, 'subsample': 0.5901360160463529, 'colsample_bytree': 0.5207941443611376, 'min_child_weight': 3}. Best is trial 76 with value: 0.9538790152827454.\n",
      "[I 2024-07-16 09:25:24,686] Trial 79 finished with value: 0.9521049289472018 and parameters: {'scaling_method': 'standard', 'encoding_method': 'onehot', 'drop': None, 'n_estimators': 908, 'learning_rate': 0.03751487354648077, 'max_depth': 4, 'subsample': 0.6465403080003055, 'colsample_bytree': 0.541491042117335, 'min_child_weight': 3}. Best is trial 76 with value: 0.9538790152827454.\n",
      "[I 2024-07-16 09:25:30,032] Trial 80 finished with value: 0.9492706040710388 and parameters: {'scaling_method': 'robust', 'encoding_method': 'onehot', 'drop': None, 'n_estimators': 908, 'learning_rate': 0.027305437112644736, 'max_depth': 4, 'subsample': 0.657366283428624, 'colsample_bytree': 0.5395747428539072, 'min_child_weight': 3}. Best is trial 76 with value: 0.9538790152827454.\n",
      "[I 2024-07-16 09:25:35,668] Trial 81 finished with value: 0.9533406864112195 and parameters: {'scaling_method': 'standard', 'encoding_method': 'onehot', 'drop': None, 'n_estimators': 937, 'learning_rate': 0.04021124807781962, 'max_depth': 4, 'subsample': 0.5555256528827893, 'colsample_bytree': 0.5462831730811686, 'min_child_weight': 3}. Best is trial 76 with value: 0.9538790152827454.\n"
     ]
    },
    {
     "name": "stderr",
     "output_type": "stream",
     "text": [
      "[I 2024-07-16 09:25:41,095] Trial 82 finished with value: 0.9527254909485237 and parameters: {'scaling_method': 'standard', 'encoding_method': 'onehot', 'drop': None, 'n_estimators': 942, 'learning_rate': 0.03654611491837465, 'max_depth': 4, 'subsample': 0.6240160867286582, 'colsample_bytree': 0.5091263872207336, 'min_child_weight': 3}. Best is trial 76 with value: 0.9538790152827454.\n",
      "[I 2024-07-16 09:25:46,241] Trial 83 finished with value: 0.9511753471264075 and parameters: {'scaling_method': 'standard', 'encoding_method': 'onehot', 'drop': None, 'n_estimators': 938, 'learning_rate': 0.031787966738374356, 'max_depth': 4, 'subsample': 0.5612832929570061, 'colsample_bytree': 0.5000475314191094, 'min_child_weight': 3}. Best is trial 76 with value: 0.9538790152827454.\n",
      "[I 2024-07-16 09:25:51,749] Trial 84 finished with value: 0.9524149363812727 and parameters: {'scaling_method': 'standard', 'encoding_method': 'onehot', 'drop': None, 'n_estimators': 982, 'learning_rate': 0.04368730520522419, 'max_depth': 4, 'subsample': 0.6156842460645957, 'colsample_bytree': 0.5273694704668308, 'min_child_weight': 3}. Best is trial 76 with value: 0.9538790152827454.\n",
      "[I 2024-07-16 09:25:57,183] Trial 85 finished with value: 0.953406773984967 and parameters: {'scaling_method': 'standard', 'encoding_method': 'onehot', 'drop': None, 'n_estimators': 975, 'learning_rate': 0.042596843254780296, 'max_depth': 4, 'subsample': 0.5904568978593641, 'colsample_bytree': 0.5156085878989596, 'min_child_weight': 2}. Best is trial 76 with value: 0.9538790152827454.\n",
      "[I 2024-07-16 09:26:02,976] Trial 86 finished with value: 0.951981762864049 and parameters: {'scaling_method': 'standard', 'encoding_method': 'onehot', 'drop': None, 'n_estimators': 986, 'learning_rate': 0.039379098090284614, 'max_depth': 4, 'subsample': 0.6202242655918409, 'colsample_bytree': 0.517705882920031, 'min_child_weight': 2}. Best is trial 76 with value: 0.9538790152827454.\n",
      "[I 2024-07-16 09:26:08,488] Trial 87 finished with value: 0.9517157463678512 and parameters: {'scaling_method': 'standard', 'encoding_method': 'onehot', 'drop': None, 'n_estimators': 972, 'learning_rate': 0.03455744990975655, 'max_depth': 4, 'subsample': 0.7149221353573602, 'colsample_bytree': 0.5300936187203431, 'min_child_weight': 2}. Best is trial 76 with value: 0.9538790152827454.\n",
      "C:\\Users\\Natal\\anaconda3\\Lib\\site-packages\\sklearn\\preprocessing\\_encoders.py:227: UserWarning: Found unknown categories in columns [3, 10] during transform. These unknown categories will be encoded as all zeros\n",
      "  warnings.warn(\n",
      "C:\\Users\\Natal\\anaconda3\\Lib\\site-packages\\sklearn\\preprocessing\\_encoders.py:227: UserWarning: Found unknown categories in columns [3, 9, 14] during transform. These unknown categories will be encoded as all zeros\n",
      "  warnings.warn(\n",
      "C:\\Users\\Natal\\anaconda3\\Lib\\site-packages\\sklearn\\preprocessing\\_encoders.py:227: UserWarning: Found unknown categories in columns [5, 21] during transform. These unknown categories will be encoded as all zeros\n",
      "  warnings.warn(\n",
      "C:\\Users\\Natal\\anaconda3\\Lib\\site-packages\\sklearn\\preprocessing\\_encoders.py:227: UserWarning: Found unknown categories in columns [9, 21] during transform. These unknown categories will be encoded as all zeros\n",
      "  warnings.warn(\n",
      "C:\\Users\\Natal\\anaconda3\\Lib\\site-packages\\sklearn\\preprocessing\\_encoders.py:227: UserWarning: Found unknown categories in columns [0] during transform. These unknown categories will be encoded as all zeros\n",
      "  warnings.warn(\n",
      "[I 2024-07-16 09:26:13,828] Trial 88 finished with value: 0.9480683709571046 and parameters: {'scaling_method': 'minmax', 'encoding_method': 'onehot', 'drop': 'first', 'n_estimators': 938, 'learning_rate': 0.019147501431610953, 'max_depth': 4, 'subsample': 0.6310574549953281, 'colsample_bytree': 0.5696746455766672, 'min_child_weight': 2}. Best is trial 76 with value: 0.9538790152827454.\n",
      "[I 2024-07-16 09:26:19,022] Trial 89 finished with value: 0.9527217989308827 and parameters: {'scaling_method': 'standard', 'encoding_method': 'onehot', 'drop': None, 'n_estimators': 876, 'learning_rate': 0.04284889602667325, 'max_depth': 4, 'subsample': 0.6755685832511081, 'colsample_bytree': 0.5070089553603792, 'min_child_weight': 3}. Best is trial 76 with value: 0.9538790152827454.\n",
      "[I 2024-07-16 09:26:24,267] Trial 90 finished with value: 0.9519198319525154 and parameters: {'scaling_method': 'standard', 'encoding_method': 'onehot', 'drop': None, 'n_estimators': 995, 'learning_rate': 0.04244147495658048, 'max_depth': 4, 'subsample': 0.7567686860461925, 'colsample_bytree': 0.5095063076498145, 'min_child_weight': 3}. Best is trial 76 with value: 0.9538790152827454.\n",
      "[I 2024-07-16 09:26:29,668] Trial 91 finished with value: 0.9497614655586958 and parameters: {'scaling_method': 'standard', 'encoding_method': 'onehot', 'drop': None, 'n_estimators': 914, 'learning_rate': 0.05278614174012599, 'max_depth': 4, 'subsample': 0.6705316242623164, 'colsample_bytree': 0.5702774859397934, 'min_child_weight': 3}. Best is trial 76 with value: 0.9538790152827454.\n",
      "[I 2024-07-16 09:26:34,753] Trial 92 finished with value: 0.9497257593769393 and parameters: {'scaling_method': 'standard', 'encoding_method': 'onehot', 'drop': None, 'n_estimators': 873, 'learning_rate': 0.025452700620830635, 'max_depth': 4, 'subsample': 0.5979731687560089, 'colsample_bytree': 0.5086710177474951, 'min_child_weight': 1}. Best is trial 76 with value: 0.9538790152827454.\n",
      "[I 2024-07-16 09:26:40,137] Trial 93 finished with value: 0.9515065332207426 and parameters: {'scaling_method': 'standard', 'encoding_method': 'onehot', 'drop': None, 'n_estimators': 940, 'learning_rate': 0.032135955817887724, 'max_depth': 4, 'subsample': 0.5368060769873285, 'colsample_bytree': 0.5296680436797417, 'min_child_weight': 3}. Best is trial 76 with value: 0.9538790152827454.\n",
      "[I 2024-07-16 09:26:45,789] Trial 94 finished with value: 0.9525601540304397 and parameters: {'scaling_method': 'standard', 'encoding_method': 'onehot', 'drop': None, 'n_estimators': 976, 'learning_rate': 0.043822650319510104, 'max_depth': 4, 'subsample': 0.5679021003871656, 'colsample_bytree': 0.5538218292462826, 'min_child_weight': 2}. Best is trial 76 with value: 0.9538790152827454.\n",
      "[I 2024-07-16 09:26:51,150] Trial 95 finished with value: 0.9491606977006151 and parameters: {'scaling_method': 'standard', 'encoding_method': 'onehot', 'drop': None, 'n_estimators': 1000, 'learning_rate': 0.02864743499349998, 'max_depth': 4, 'subsample': 0.7063851402593533, 'colsample_bytree': 0.5524198768734881, 'min_child_weight': 2}. Best is trial 76 with value: 0.9538790152827454.\n",
      "[I 2024-07-16 09:26:54,917] Trial 96 finished with value: 0.9501892664265809 and parameters: {'scaling_method': 'standard', 'encoding_method': 'ordinal', 'n_estimators': 917, 'learning_rate': 0.044081018318051106, 'max_depth': 4, 'subsample': 0.6114930290253439, 'colsample_bytree': 0.5330333973787846, 'min_child_weight': 2}. Best is trial 76 with value: 0.9538790152827454.\n",
      "[I 2024-07-16 09:27:00,168] Trial 97 finished with value: 0.9522242579555819 and parameters: {'scaling_method': 'standard', 'encoding_method': 'onehot', 'drop': None, 'n_estimators': 971, 'learning_rate': 0.03954199065077492, 'max_depth': 4, 'subsample': 0.5584322348174456, 'colsample_bytree': 0.5151459556738267, 'min_child_weight': 2}. Best is trial 76 with value: 0.9538790152827454.\n",
      "[I 2024-07-16 09:27:05,085] Trial 98 finished with value: 0.9490569654334249 and parameters: {'scaling_method': 'standard', 'encoding_method': 'onehot', 'drop': None, 'n_estimators': 887, 'learning_rate': 0.023656481515760056, 'max_depth': 4, 'subsample': 0.6689721108410434, 'colsample_bytree': 0.5568582769795728, 'min_child_weight': 3}. Best is trial 76 with value: 0.9538790152827454.\n",
      "[I 2024-07-16 09:27:12,074] Trial 99 finished with value: 0.949520519219277 and parameters: {'scaling_method': 'robust', 'encoding_method': 'onehot', 'drop': None, 'n_estimators': 979, 'learning_rate': 0.05263794345892966, 'max_depth': 4, 'subsample': 0.7384877078873608, 'colsample_bytree': 0.9031941696659809, 'min_child_weight': 3}. Best is trial 76 with value: 0.9538790152827454.\n",
      "[I 2024-07-16 09:27:17,229] Trial 100 finished with value: 0.9488440714818023 and parameters: {'scaling_method': 'standard', 'encoding_method': 'onehot', 'drop': None, 'n_estimators': 945, 'learning_rate': 0.019784919016384662, 'max_depth': 4, 'subsample': 0.6330123063387744, 'colsample_bytree': 0.5481958031380743, 'min_child_weight': 2}. Best is trial 76 with value: 0.9538790152827454.\n"
     ]
    },
    {
     "name": "stderr",
     "output_type": "stream",
     "text": [
      "[I 2024-07-16 09:27:22,133] Trial 101 finished with value: 0.953241342793145 and parameters: {'scaling_method': 'standard', 'encoding_method': 'onehot', 'drop': None, 'n_estimators': 891, 'learning_rate': 0.04224967750358373, 'max_depth': 4, 'subsample': 0.5784684134028454, 'colsample_bytree': 0.5043757543218799, 'min_child_weight': 3}. Best is trial 76 with value: 0.9538790152827454.\n",
      "[I 2024-07-16 09:27:26,987] Trial 102 finished with value: 0.9496072964347889 and parameters: {'scaling_method': 'standard', 'encoding_method': 'onehot', 'drop': None, 'n_estimators': 921, 'learning_rate': 0.03329414329613831, 'max_depth': 4, 'subsample': 0.5166425740628686, 'colsample_bytree': 0.5070586284065997, 'min_child_weight': 3}. Best is trial 76 with value: 0.9538790152827454.\n",
      "[I 2024-07-16 09:27:31,681] Trial 103 finished with value: 0.9509511455298275 and parameters: {'scaling_method': 'standard', 'encoding_method': 'onehot', 'drop': None, 'n_estimators': 893, 'learning_rate': 0.04228316989214218, 'max_depth': 4, 'subsample': 0.5750590730549623, 'colsample_bytree': 0.5011231859034261, 'min_child_weight': 3}. Best is trial 76 with value: 0.9538790152827454.\n",
      "[I 2024-07-16 09:27:33,136] Trial 104 finished with value: 0.9384514865950304 and parameters: {'scaling_method': 'standard', 'encoding_method': 'onehot', 'drop': None, 'n_estimators': 235, 'learning_rate': 0.03682844144897991, 'max_depth': 4, 'subsample': 0.6043321692132864, 'colsample_bytree': 0.529942048356702, 'min_child_weight': 3}. Best is trial 76 with value: 0.9538790152827454.\n",
      "[I 2024-07-16 09:27:38,585] Trial 105 finished with value: 0.9503367619605143 and parameters: {'scaling_method': 'standard', 'encoding_method': 'onehot', 'drop': None, 'n_estimators': 968, 'learning_rate': 0.054304472527003454, 'max_depth': 4, 'subsample': 0.6956922171185842, 'colsample_bytree': 0.5215097350675066, 'min_child_weight': 3}. Best is trial 76 with value: 0.9538790152827454.\n",
      "[I 2024-07-16 09:27:43,669] Trial 106 finished with value: 0.9520792695402929 and parameters: {'scaling_method': 'standard', 'encoding_method': 'onehot', 'drop': None, 'n_estimators': 861, 'learning_rate': 0.044738656817851594, 'max_depth': 4, 'subsample': 0.536891214439, 'colsample_bytree': 0.564825934914122, 'min_child_weight': 2}. Best is trial 76 with value: 0.9538790152827454.\n",
      "C:\\Users\\Natal\\anaconda3\\Lib\\site-packages\\sklearn\\preprocessing\\_encoders.py:227: UserWarning: Found unknown categories in columns [3, 10] during transform. These unknown categories will be encoded as all zeros\n",
      "  warnings.warn(\n",
      "C:\\Users\\Natal\\anaconda3\\Lib\\site-packages\\sklearn\\preprocessing\\_encoders.py:227: UserWarning: Found unknown categories in columns [3, 9, 14] during transform. These unknown categories will be encoded as all zeros\n",
      "  warnings.warn(\n",
      "C:\\Users\\Natal\\anaconda3\\Lib\\site-packages\\sklearn\\preprocessing\\_encoders.py:227: UserWarning: Found unknown categories in columns [5, 21] during transform. These unknown categories will be encoded as all zeros\n",
      "  warnings.warn(\n",
      "C:\\Users\\Natal\\anaconda3\\Lib\\site-packages\\sklearn\\preprocessing\\_encoders.py:227: UserWarning: Found unknown categories in columns [9, 21] during transform. These unknown categories will be encoded as all zeros\n",
      "  warnings.warn(\n",
      "C:\\Users\\Natal\\anaconda3\\Lib\\site-packages\\sklearn\\preprocessing\\_encoders.py:227: UserWarning: Found unknown categories in columns [0] during transform. These unknown categories will be encoded as all zeros\n",
      "  warnings.warn(\n",
      "[I 2024-07-16 09:27:48,569] Trial 107 finished with value: 0.9514791107499494 and parameters: {'scaling_method': 'minmax', 'encoding_method': 'onehot', 'drop': 'first', 'n_estimators': 926, 'learning_rate': 0.04850739763031974, 'max_depth': 4, 'subsample': 0.58989585149592, 'colsample_bytree': 0.537770237021434, 'min_child_weight': 3}. Best is trial 76 with value: 0.9538790152827454.\n",
      "[I 2024-07-16 09:27:53,877] Trial 108 finished with value: 0.9516612653928425 and parameters: {'scaling_method': 'standard', 'encoding_method': 'onehot', 'drop': None, 'n_estimators': 901, 'learning_rate': 0.030595729443354248, 'max_depth': 4, 'subsample': 0.5611490476588351, 'colsample_bytree': 0.5142665685891052, 'min_child_weight': 3}. Best is trial 76 with value: 0.9538790152827454.\n",
      "[I 2024-07-16 09:27:59,232] Trial 109 finished with value: 0.9519713537284087 and parameters: {'scaling_method': 'standard', 'encoding_method': 'onehot', 'drop': None, 'n_estimators': 944, 'learning_rate': 0.03931379049036758, 'max_depth': 4, 'subsample': 0.6562521503921215, 'colsample_bytree': 0.58160275311689, 'min_child_weight': 3}. Best is trial 76 with value: 0.9538790152827454.\n",
      "[I 2024-07-16 09:28:02,953] Trial 110 finished with value: 0.949191726377468 and parameters: {'scaling_method': 'standard', 'encoding_method': 'ordinal', 'n_estimators': 879, 'learning_rate': 0.051923551380736885, 'max_depth': 4, 'subsample': 0.7980548580559587, 'colsample_bytree': 0.544603151881658, 'min_child_weight': 3}. Best is trial 76 with value: 0.9538790152827454.\n",
      "[I 2024-07-16 09:28:07,827] Trial 111 finished with value: 0.9478587720857117 and parameters: {'scaling_method': 'standard', 'encoding_method': 'onehot', 'drop': None, 'n_estimators': 858, 'learning_rate': 0.07113897054483087, 'max_depth': 4, 'subsample': 0.6260323805489171, 'colsample_bytree': 0.5609036182073875, 'min_child_weight': 1}. Best is trial 76 with value: 0.9538790152827454.\n",
      "[I 2024-07-16 09:28:13,394] Trial 112 finished with value: 0.9508368338205059 and parameters: {'scaling_method': 'standard', 'encoding_method': 'onehot', 'drop': None, 'n_estimators': 959, 'learning_rate': 0.06352816060112834, 'max_depth': 4, 'subsample': 0.5757144329347235, 'colsample_bytree': 0.5225074312533546, 'min_child_weight': 3}. Best is trial 76 with value: 0.9538790152827454.\n",
      "[I 2024-07-16 09:28:19,477] Trial 113 finished with value: 0.9517183275116137 and parameters: {'scaling_method': 'standard', 'encoding_method': 'onehot', 'drop': None, 'n_estimators': 893, 'learning_rate': 0.0431419737771837, 'max_depth': 4, 'subsample': 0.5053160383324905, 'colsample_bytree': 0.8060125902291967, 'min_child_weight': 3}. Best is trial 76 with value: 0.9538790152827454.\n",
      "[I 2024-07-16 09:28:24,314] Trial 114 finished with value: 0.9503702169966163 and parameters: {'scaling_method': 'standard', 'encoding_method': 'onehot', 'drop': None, 'n_estimators': 810, 'learning_rate': 0.05584833355266446, 'max_depth': 4, 'subsample': 0.528643391510971, 'colsample_bytree': 0.5325178738697474, 'min_child_weight': 3}. Best is trial 76 with value: 0.9538790152827454.\n",
      "[I 2024-07-16 09:28:30,038] Trial 115 finished with value: 0.9521843707820568 and parameters: {'scaling_method': 'standard', 'encoding_method': 'onehot', 'drop': None, 'n_estimators': 981, 'learning_rate': 0.03539335626119567, 'max_depth': 4, 'subsample': 0.6049235673136818, 'colsample_bytree': 0.5111987761677306, 'min_child_weight': 2}. Best is trial 76 with value: 0.9538790152827454.\n",
      "[I 2024-07-16 09:28:35,823] Trial 116 finished with value: 0.9513886247513478 and parameters: {'scaling_method': 'standard', 'encoding_method': 'onehot', 'drop': None, 'n_estimators': 919, 'learning_rate': 0.047482758961960705, 'max_depth': 4, 'subsample': 0.5506943266106968, 'colsample_bytree': 0.5776828516731426, 'min_child_weight': 3}. Best is trial 76 with value: 0.9538790152827454.\n",
      "[I 2024-07-16 09:28:40,381] Trial 117 finished with value: 0.9479986228471974 and parameters: {'scaling_method': 'standard', 'encoding_method': 'onehot', 'drop': None, 'n_estimators': 861, 'learning_rate': 0.06116293127997311, 'max_depth': 4, 'subsample': 0.9601083740648362, 'colsample_bytree': 0.5018486371252276, 'min_child_weight': 3}. Best is trial 76 with value: 0.9538790152827454.\n",
      "[I 2024-07-16 09:28:46,042] Trial 118 finished with value: 0.9486408475179624 and parameters: {'scaling_method': 'standard', 'encoding_method': 'onehot', 'drop': None, 'n_estimators': 953, 'learning_rate': 0.07063990399551874, 'max_depth': 4, 'subsample': 0.4804286624289002, 'colsample_bytree': 0.5534034591461701, 'min_child_weight': 2}. Best is trial 76 with value: 0.9538790152827454.\n",
      "[I 2024-07-16 09:28:50,712] Trial 119 finished with value: 0.9527741456666521 and parameters: {'scaling_method': 'robust', 'encoding_method': 'onehot', 'drop': None, 'n_estimators': 843, 'learning_rate': 0.04008605994261064, 'max_depth': 4, 'subsample': 0.590081651358694, 'colsample_bytree': 0.5231700915859308, 'min_child_weight': 3}. Best is trial 76 with value: 0.9538790152827454.\n"
     ]
    },
    {
     "name": "stderr",
     "output_type": "stream",
     "text": [
      "[I 2024-07-16 09:28:55,783] Trial 120 finished with value: 0.9516734162647875 and parameters: {'scaling_method': 'robust', 'encoding_method': 'onehot', 'drop': None, 'n_estimators': 844, 'learning_rate': 0.039017143883343756, 'max_depth': 4, 'subsample': 0.6711227617771436, 'colsample_bytree': 0.5441787248768, 'min_child_weight': 3}. Best is trial 76 with value: 0.9538790152827454.\n",
      "[I 2024-07-16 09:29:00,469] Trial 121 finished with value: 0.9520272425511326 and parameters: {'scaling_method': 'robust', 'encoding_method': 'onehot', 'drop': None, 'n_estimators': 813, 'learning_rate': 0.051019276013019456, 'max_depth': 4, 'subsample': 0.5864869288457577, 'colsample_bytree': 0.5256280564115579, 'min_child_weight': 3}. Best is trial 76 with value: 0.9538790152827454.\n",
      "[I 2024-07-16 09:29:06,267] Trial 122 finished with value: 0.9514141067693501 and parameters: {'scaling_method': 'robust', 'encoding_method': 'onehot', 'drop': None, 'n_estimators': 876, 'learning_rate': 0.04537371525589987, 'max_depth': 4, 'subsample': 0.6362315012721145, 'colsample_bytree': 0.7778835452986814, 'min_child_weight': 3}. Best is trial 76 with value: 0.9538790152827454.\n",
      "[I 2024-07-16 09:29:11,256] Trial 123 finished with value: 0.9519520521865769 and parameters: {'scaling_method': 'robust', 'encoding_method': 'onehot', 'drop': None, 'n_estimators': 906, 'learning_rate': 0.03316285222434117, 'max_depth': 4, 'subsample': 0.5670694038866009, 'colsample_bytree': 0.5141674704440817, 'min_child_weight': 3}. Best is trial 76 with value: 0.9538790152827454.\n",
      "[I 2024-07-16 09:29:16,523] Trial 124 finished with value: 0.950756422551094 and parameters: {'scaling_method': 'standard', 'encoding_method': 'onehot', 'drop': None, 'n_estimators': 934, 'learning_rate': 0.057809154288921374, 'max_depth': 4, 'subsample': 0.6164474634132107, 'colsample_bytree': 0.5350824400609016, 'min_child_weight': 3}. Best is trial 76 with value: 0.9538790152827454.\n",
      "[I 2024-07-16 09:29:22,127] Trial 125 finished with value: 0.9518487318836065 and parameters: {'scaling_method': 'robust', 'encoding_method': 'onehot', 'drop': None, 'n_estimators': 985, 'learning_rate': 0.04120081484499707, 'max_depth': 4, 'subsample': 0.5959781823289715, 'colsample_bytree': 0.5004098170724884, 'min_child_weight': 1}. Best is trial 76 with value: 0.9538790152827454.\n",
      "C:\\Users\\Natal\\anaconda3\\Lib\\site-packages\\sklearn\\preprocessing\\_encoders.py:227: UserWarning: Found unknown categories in columns [3, 10] during transform. These unknown categories will be encoded as all zeros\n",
      "  warnings.warn(\n",
      "C:\\Users\\Natal\\anaconda3\\Lib\\site-packages\\sklearn\\preprocessing\\_encoders.py:227: UserWarning: Found unknown categories in columns [3, 9, 14] during transform. These unknown categories will be encoded as all zeros\n",
      "  warnings.warn(\n",
      "C:\\Users\\Natal\\anaconda3\\Lib\\site-packages\\sklearn\\preprocessing\\_encoders.py:227: UserWarning: Found unknown categories in columns [5, 21] during transform. These unknown categories will be encoded as all zeros\n",
      "  warnings.warn(\n",
      "C:\\Users\\Natal\\anaconda3\\Lib\\site-packages\\sklearn\\preprocessing\\_encoders.py:227: UserWarning: Found unknown categories in columns [9, 21] during transform. These unknown categories will be encoded as all zeros\n",
      "  warnings.warn(\n",
      "C:\\Users\\Natal\\anaconda3\\Lib\\site-packages\\sklearn\\preprocessing\\_encoders.py:227: UserWarning: Found unknown categories in columns [0] during transform. These unknown categories will be encoded as all zeros\n",
      "  warnings.warn(\n",
      "[I 2024-07-16 09:29:26,645] Trial 126 finished with value: 0.9494522171148382 and parameters: {'scaling_method': 'standard', 'encoding_method': 'onehot', 'drop': 'first', 'n_estimators': 831, 'learning_rate': 0.028546753973955428, 'max_depth': 4, 'subsample': 0.5478557118902876, 'colsample_bytree': 0.5213193737495136, 'min_child_weight': 3}. Best is trial 76 with value: 0.9538790152827454.\n",
      "[I 2024-07-16 09:29:30,693] Trial 127 finished with value: 0.9466321932974135 and parameters: {'scaling_method': 'standard', 'encoding_method': 'onehot', 'drop': None, 'n_estimators': 890, 'learning_rate': 0.03608508471878297, 'max_depth': 2, 'subsample': 0.6460638693550014, 'colsample_bytree': 0.8338823153923621, 'min_child_weight': 2}. Best is trial 76 with value: 0.9538790152827454.\n",
      "[I 2024-07-16 09:29:36,471] Trial 128 finished with value: 0.9507403910103487 and parameters: {'scaling_method': 'minmax', 'encoding_method': 'onehot', 'drop': None, 'n_estimators': 1000, 'learning_rate': 0.06581468258053474, 'max_depth': 4, 'subsample': 0.5799782920550804, 'colsample_bytree': 0.5501319741163797, 'min_child_weight': 4}. Best is trial 76 with value: 0.9538790152827454.\n",
      "[I 2024-07-16 09:29:38,756] Trial 129 finished with value: 0.9469662704811445 and parameters: {'scaling_method': 'standard', 'encoding_method': 'onehot', 'drop': None, 'n_estimators': 440, 'learning_rate': 0.04789531364622056, 'max_depth': 4, 'subsample': 0.18505073059681573, 'colsample_bytree': 0.6018931476472097, 'min_child_weight': 3}. Best is trial 76 with value: 0.9538790152827454.\n",
      "[I 2024-07-16 09:29:43,889] Trial 130 finished with value: 0.9500038005758851 and parameters: {'scaling_method': 'standard', 'encoding_method': 'ordinal', 'n_estimators': 965, 'learning_rate': 0.038688798712991024, 'max_depth': 4, 'subsample': 0.5189530127140396, 'colsample_bytree': 0.9798633239143697, 'min_child_weight': 4}. Best is trial 76 with value: 0.9538790152827454.\n",
      "[I 2024-07-16 09:29:49,363] Trial 131 finished with value: 0.9530072047497427 and parameters: {'scaling_method': 'standard', 'encoding_method': 'onehot', 'drop': None, 'n_estimators': 955, 'learning_rate': 0.045506252364043494, 'max_depth': 4, 'subsample': 0.5836271691164954, 'colsample_bytree': 0.5389608744338323, 'min_child_weight': 3}. Best is trial 76 with value: 0.9538790152827454.\n",
      "[I 2024-07-16 09:29:54,550] Trial 132 finished with value: 0.9485706201361347 and parameters: {'scaling_method': 'standard', 'encoding_method': 'onehot', 'drop': None, 'n_estimators': 929, 'learning_rate': 0.05535390050270173, 'max_depth': 4, 'subsample': 0.6112851434086759, 'colsample_bytree': 0.5260878799394776, 'min_child_weight': 3}. Best is trial 76 with value: 0.9538790152827454.\n",
      "[I 2024-07-16 09:30:00,020] Trial 133 finished with value: 0.9533482577286951 and parameters: {'scaling_method': 'standard', 'encoding_method': 'onehot', 'drop': None, 'n_estimators': 951, 'learning_rate': 0.04307704330028825, 'max_depth': 4, 'subsample': 0.5696307183664032, 'colsample_bytree': 0.5380070898897199, 'min_child_weight': 3}. Best is trial 76 with value: 0.9538790152827454.\n",
      "[I 2024-07-16 09:30:05,504] Trial 134 finished with value: 0.9524929823359752 and parameters: {'scaling_method': 'standard', 'encoding_method': 'onehot', 'drop': None, 'n_estimators': 949, 'learning_rate': 0.0439132574886877, 'max_depth': 4, 'subsample': 0.5580619856885473, 'colsample_bytree': 0.5407765256179761, 'min_child_weight': 3}. Best is trial 76 with value: 0.9538790152827454.\n",
      "[I 2024-07-16 09:30:10,869] Trial 135 finished with value: 0.9517658219632759 and parameters: {'scaling_method': 'standard', 'encoding_method': 'onehot', 'drop': None, 'n_estimators': 949, 'learning_rate': 0.034710448774173744, 'max_depth': 4, 'subsample': 0.5576506725752142, 'colsample_bytree': 0.5627179547757286, 'min_child_weight': 3}. Best is trial 76 with value: 0.9538790152827454.\n",
      "[I 2024-07-16 09:30:16,072] Trial 136 finished with value: 0.951561818184073 and parameters: {'scaling_method': 'standard', 'encoding_method': 'onehot', 'drop': None, 'n_estimators': 905, 'learning_rate': 0.0496068223275355, 'max_depth': 4, 'subsample': 0.5335942293142769, 'colsample_bytree': 0.5384760801291514, 'min_child_weight': 3}. Best is trial 76 with value: 0.9538790152827454.\n",
      "[I 2024-07-16 09:30:21,052] Trial 137 finished with value: 0.9516993912429147 and parameters: {'scaling_method': 'standard', 'encoding_method': 'onehot', 'drop': None, 'n_estimators': 930, 'learning_rate': 0.04126438805914917, 'max_depth': 4, 'subsample': 0.5700927356730264, 'colsample_bytree': 0.515825566773464, 'min_child_weight': 3}. Best is trial 76 with value: 0.9538790152827454.\n",
      "[I 2024-07-16 09:30:26,356] Trial 138 finished with value: 0.9509313265993895 and parameters: {'scaling_method': 'standard', 'encoding_method': 'onehot', 'drop': None, 'n_estimators': 961, 'learning_rate': 0.03151702501214211, 'max_depth': 4, 'subsample': 0.5030156986779167, 'colsample_bytree': 0.5762780454989618, 'min_child_weight': 3}. Best is trial 76 with value: 0.9538790152827454.\n"
     ]
    },
    {
     "name": "stderr",
     "output_type": "stream",
     "text": [
      "[I 2024-07-16 09:30:31,587] Trial 139 finished with value: 0.9514623040757304 and parameters: {'scaling_method': 'standard', 'encoding_method': 'onehot', 'drop': None, 'n_estimators': 944, 'learning_rate': 0.045301077531780344, 'max_depth': 4, 'subsample': 0.5918056218415126, 'colsample_bytree': 0.5482131726886658, 'min_child_weight': 3}. Best is trial 76 with value: 0.9538790152827454.\n",
      "[I 2024-07-16 09:30:36,914] Trial 140 finished with value: 0.9515829560380045 and parameters: {'scaling_method': 'standard', 'encoding_method': 'onehot', 'drop': None, 'n_estimators': 911, 'learning_rate': 0.026725828511096044, 'max_depth': 4, 'subsample': 0.5359489610458162, 'colsample_bytree': 0.5582612046747151, 'min_child_weight': 2}. Best is trial 76 with value: 0.9538790152827454.\n",
      "[I 2024-07-16 09:30:42,469] Trial 141 finished with value: 0.9515024391257885 and parameters: {'scaling_method': 'standard', 'encoding_method': 'onehot', 'drop': None, 'n_estimators': 983, 'learning_rate': 0.04400565797728592, 'max_depth': 4, 'subsample': 0.6260102887509521, 'colsample_bytree': 0.5343969965638573, 'min_child_weight': 3}. Best is trial 76 with value: 0.9538790152827454.\n",
      "[I 2024-07-16 09:30:48,084] Trial 142 finished with value: 0.9534219346184727 and parameters: {'scaling_method': 'standard', 'encoding_method': 'onehot', 'drop': None, 'n_estimators': 967, 'learning_rate': 0.037077274389072025, 'max_depth': 4, 'subsample': 0.6052407177992929, 'colsample_bytree': 0.509636780573371, 'min_child_weight': 3}. Best is trial 76 with value: 0.9538790152827454.\n",
      "[I 2024-07-16 09:30:53,977] Trial 143 finished with value: 0.950321709788517 and parameters: {'scaling_method': 'standard', 'encoding_method': 'onehot', 'drop': None, 'n_estimators': 972, 'learning_rate': 0.03785139268096627, 'max_depth': 4, 'subsample': 0.5514162194142027, 'colsample_bytree': 0.51356668429643, 'min_child_weight': 3}. Best is trial 76 with value: 0.9538790152827454.\n",
      "[I 2024-07-16 09:30:56,548] Trial 144 finished with value: 0.9500562314872095 and parameters: {'scaling_method': 'standard', 'encoding_method': 'onehot', 'drop': None, 'n_estimators': 406, 'learning_rate': 0.049975014490525285, 'max_depth': 4, 'subsample': 0.5990366498963211, 'colsample_bytree': 0.5009419970518468, 'min_child_weight': 3}. Best is trial 76 with value: 0.9538790152827454.\n",
      "[I 2024-07-16 09:31:02,044] Trial 145 finished with value: 0.9520584115448741 and parameters: {'scaling_method': 'standard', 'encoding_method': 'onehot', 'drop': None, 'n_estimators': 924, 'learning_rate': 0.035069235371988375, 'max_depth': 4, 'subsample': 0.5758036000371204, 'colsample_bytree': 0.5219895252676965, 'min_child_weight': 3}. Best is trial 76 with value: 0.9538790152827454.\n",
      "[I 2024-07-16 09:31:05,680] Trial 146 finished with value: 0.9441858297836253 and parameters: {'scaling_method': 'robust', 'encoding_method': 'onehot', 'drop': None, 'n_estimators': 883, 'learning_rate': 0.040704173041273474, 'max_depth': 4, 'subsample': 0.1072551826751465, 'colsample_bytree': 0.5092850508913596, 'min_child_weight': 3}. Best is trial 76 with value: 0.9538790152827454.\n",
      "[I 2024-07-16 09:31:10,779] Trial 147 finished with value: 0.9496497453570211 and parameters: {'scaling_method': 'standard', 'encoding_method': 'onehot', 'drop': None, 'n_estimators': 943, 'learning_rate': 0.030978983929007147, 'max_depth': 4, 'subsample': 0.6491361010555452, 'colsample_bytree': 0.5382372250421088, 'min_child_weight': 3}. Best is trial 76 with value: 0.9538790152827454.\n",
      "[I 2024-07-16 09:31:16,253] Trial 148 finished with value: 0.9507708219771445 and parameters: {'scaling_method': 'standard', 'encoding_method': 'onehot', 'drop': None, 'n_estimators': 1000, 'learning_rate': 0.05410530358706685, 'max_depth': 4, 'subsample': 0.6818539925823711, 'colsample_bytree': 0.5268780879578792, 'min_child_weight': 3}. Best is trial 76 with value: 0.9538790152827454.\n",
      "C:\\Users\\Natal\\anaconda3\\Lib\\site-packages\\sklearn\\preprocessing\\_encoders.py:227: UserWarning: Found unknown categories in columns [3, 10] during transform. These unknown categories will be encoded as all zeros\n",
      "  warnings.warn(\n",
      "C:\\Users\\Natal\\anaconda3\\Lib\\site-packages\\sklearn\\preprocessing\\_encoders.py:227: UserWarning: Found unknown categories in columns [3, 9, 14] during transform. These unknown categories will be encoded as all zeros\n",
      "  warnings.warn(\n",
      "C:\\Users\\Natal\\anaconda3\\Lib\\site-packages\\sklearn\\preprocessing\\_encoders.py:227: UserWarning: Found unknown categories in columns [5, 21] during transform. These unknown categories will be encoded as all zeros\n",
      "  warnings.warn(\n",
      "C:\\Users\\Natal\\anaconda3\\Lib\\site-packages\\sklearn\\preprocessing\\_encoders.py:227: UserWarning: Found unknown categories in columns [9, 21] during transform. These unknown categories will be encoded as all zeros\n",
      "  warnings.warn(\n",
      "C:\\Users\\Natal\\anaconda3\\Lib\\site-packages\\sklearn\\preprocessing\\_encoders.py:227: UserWarning: Found unknown categories in columns [0] during transform. These unknown categories will be encoded as all zeros\n",
      "  warnings.warn(\n",
      "[I 2024-07-16 09:31:21,477] Trial 149 finished with value: 0.9513875231257064 and parameters: {'scaling_method': 'standard', 'encoding_method': 'onehot', 'drop': 'first', 'n_estimators': 963, 'learning_rate': 0.03770850420931836, 'max_depth': 4, 'subsample': 0.5642476294584193, 'colsample_bytree': 0.5453821949383174, 'min_child_weight': 3}. Best is trial 76 with value: 0.9538790152827454.\n",
      "[I 2024-07-16 09:31:27,109] Trial 150 finished with value: 0.9349534341987669 and parameters: {'scaling_method': 'standard', 'encoding_method': 'onehot', 'drop': None, 'n_estimators': 856, 'learning_rate': 0.009119894679612897, 'max_depth': 4, 'subsample': 0.6227944601535899, 'colsample_bytree': 0.9209177652530494, 'min_child_weight': 3}. Best is trial 76 with value: 0.9538790152827454.\n",
      "[I 2024-07-16 09:31:33,089] Trial 151 finished with value: 0.9529632719090249 and parameters: {'scaling_method': 'standard', 'encoding_method': 'onehot', 'drop': None, 'n_estimators': 981, 'learning_rate': 0.04459304259245875, 'max_depth': 4, 'subsample': 0.6051842834282144, 'colsample_bytree': 0.5268016593683302, 'min_child_weight': 3}. Best is trial 76 with value: 0.9538790152827454.\n",
      "[I 2024-07-16 09:31:38,794] Trial 152 finished with value: 0.9532484491803513 and parameters: {'scaling_method': 'standard', 'encoding_method': 'onehot', 'drop': None, 'n_estimators': 971, 'learning_rate': 0.0458436225743243, 'max_depth': 4, 'subsample': 0.5898992546162253, 'colsample_bytree': 0.5152225243663119, 'min_child_weight': 3}. Best is trial 76 with value: 0.9538790152827454.\n",
      "[I 2024-07-16 09:31:44,328] Trial 153 finished with value: 0.9527158121085539 and parameters: {'scaling_method': 'standard', 'encoding_method': 'onehot', 'drop': None, 'n_estimators': 977, 'learning_rate': 0.04495112468576724, 'max_depth': 4, 'subsample': 0.5907613691787105, 'colsample_bytree': 0.5100001765854234, 'min_child_weight': 3}. Best is trial 76 with value: 0.9538790152827454.\n",
      "[I 2024-07-16 09:31:50,110] Trial 154 finished with value: 0.9538488187701925 and parameters: {'scaling_method': 'standard', 'encoding_method': 'onehot', 'drop': None, 'n_estimators': 981, 'learning_rate': 0.047198601971795234, 'max_depth': 4, 'subsample': 0.5955423388155735, 'colsample_bytree': 0.5091959392090488, 'min_child_weight': 3}. Best is trial 76 with value: 0.9538790152827454.\n",
      "[I 2024-07-16 09:31:55,800] Trial 155 finished with value: 0.9535769799171394 and parameters: {'scaling_method': 'standard', 'encoding_method': 'onehot', 'drop': None, 'n_estimators': 978, 'learning_rate': 0.04611315421181104, 'max_depth': 4, 'subsample': 0.6032259102409443, 'colsample_bytree': 0.5097594989102657, 'min_child_weight': 3}. Best is trial 76 with value: 0.9538790152827454.\n",
      "[I 2024-07-16 09:32:01,666] Trial 156 finished with value: 0.9523113031007157 and parameters: {'scaling_method': 'standard', 'encoding_method': 'onehot', 'drop': None, 'n_estimators': 984, 'learning_rate': 0.04862339627131869, 'max_depth': 4, 'subsample': 0.603565982379564, 'colsample_bytree': 0.5086636508613157, 'min_child_weight': 3}. Best is trial 76 with value: 0.9538790152827454.\n",
      "[I 2024-07-16 09:32:07,423] Trial 157 finished with value: 0.9530984506971872 and parameters: {'scaling_method': 'standard', 'encoding_method': 'onehot', 'drop': None, 'n_estimators': 971, 'learning_rate': 0.04017837085236566, 'max_depth': 4, 'subsample': 0.6402447227112047, 'colsample_bytree': 0.5161833307186661, 'min_child_weight': 3}. Best is trial 76 with value: 0.9538790152827454.\n"
     ]
    },
    {
     "name": "stderr",
     "output_type": "stream",
     "text": [
      "[I 2024-07-16 09:32:12,724] Trial 158 finished with value: 0.9440032990477017 and parameters: {'scaling_method': 'standard', 'encoding_method': 'onehot', 'drop': None, 'n_estimators': 962, 'learning_rate': 0.01288321650876376, 'max_depth': 4, 'subsample': 0.6648151784081523, 'colsample_bytree': 0.5193159596676827, 'min_child_weight': 3}. Best is trial 76 with value: 0.9538790152827454.\n",
      "[I 2024-07-16 09:32:17,600] Trial 159 finished with value: 0.9498207934424855 and parameters: {'scaling_method': 'minmax', 'encoding_method': 'ordinal', 'n_estimators': 999, 'learning_rate': 0.03379167404799594, 'max_depth': 4, 'subsample': 0.6370986110616893, 'colsample_bytree': 0.5000280260413144, 'min_child_weight': 3}. Best is trial 76 with value: 0.9538790152827454.\n",
      "[I 2024-07-16 09:32:23,457] Trial 160 finished with value: 0.9517190306038683 and parameters: {'scaling_method': 'standard', 'encoding_method': 'onehot', 'drop': None, 'n_estimators': 931, 'learning_rate': 0.039906270062291686, 'max_depth': 4, 'subsample': 0.6928266282801502, 'colsample_bytree': 0.5181751579651122, 'min_child_weight': 3}. Best is trial 76 with value: 0.9538790152827454.\n",
      "[I 2024-07-16 09:32:28,865] Trial 161 finished with value: 0.9536268123776379 and parameters: {'scaling_method': 'standard', 'encoding_method': 'onehot', 'drop': None, 'n_estimators': 974, 'learning_rate': 0.04740516101352134, 'max_depth': 4, 'subsample': 0.5914713646169084, 'colsample_bytree': 0.5103526150143552, 'min_child_weight': 3}. Best is trial 76 with value: 0.9538790152827454.\n",
      "[I 2024-07-16 09:32:34,173] Trial 162 finished with value: 0.9528089500607819 and parameters: {'scaling_method': 'standard', 'encoding_method': 'onehot', 'drop': None, 'n_estimators': 962, 'learning_rate': 0.03735502849090528, 'max_depth': 4, 'subsample': 0.6159834329584103, 'colsample_bytree': 0.5259732962153176, 'min_child_weight': 3}. Best is trial 76 with value: 0.9538790152827454.\n",
      "[I 2024-07-16 09:32:39,425] Trial 163 finished with value: 0.9531857931584475 and parameters: {'scaling_method': 'standard', 'encoding_method': 'onehot', 'drop': None, 'n_estimators': 961, 'learning_rate': 0.03672746407988903, 'max_depth': 4, 'subsample': 0.621425353495312, 'colsample_bytree': 0.5268148242093128, 'min_child_weight': 3}. Best is trial 76 with value: 0.9538790152827454.\n",
      "[I 2024-07-16 09:32:44,772] Trial 164 finished with value: 0.9522857029534876 and parameters: {'scaling_method': 'standard', 'encoding_method': 'onehot', 'drop': None, 'n_estimators': 961, 'learning_rate': 0.037764759002766095, 'max_depth': 4, 'subsample': 0.6092832617492581, 'colsample_bytree': 0.5308722566127732, 'min_child_weight': 3}. Best is trial 76 with value: 0.9538790152827454.\n",
      "[I 2024-07-16 09:32:50,174] Trial 165 finished with value: 0.9520235848930788 and parameters: {'scaling_method': 'standard', 'encoding_method': 'onehot', 'drop': None, 'n_estimators': 978, 'learning_rate': 0.04726097548295648, 'max_depth': 4, 'subsample': 0.6338630430322009, 'colsample_bytree': 0.524186523710005, 'min_child_weight': 3}. Best is trial 76 with value: 0.9538790152827454.\n",
      "[I 2024-07-16 09:32:55,540] Trial 166 finished with value: 0.9527121535528231 and parameters: {'scaling_method': 'standard', 'encoding_method': 'onehot', 'drop': None, 'n_estimators': 951, 'learning_rate': 0.033308437136100585, 'max_depth': 4, 'subsample': 0.5873685836929177, 'colsample_bytree': 0.5169253074523895, 'min_child_weight': 3}. Best is trial 76 with value: 0.9538790152827454.\n",
      "[I 2024-07-16 09:33:01,048] Trial 167 finished with value: 0.9518098240493421 and parameters: {'scaling_method': 'standard', 'encoding_method': 'onehot', 'drop': None, 'n_estimators': 988, 'learning_rate': 0.04029030540264549, 'max_depth': 4, 'subsample': 0.6074731393195164, 'colsample_bytree': 0.5306569220302777, 'min_child_weight': 3}. Best is trial 76 with value: 0.9538790152827454.\n",
      "[I 2024-07-16 09:33:06,454] Trial 168 finished with value: 0.9500484375708965 and parameters: {'scaling_method': 'robust', 'encoding_method': 'onehot', 'drop': None, 'n_estimators': 966, 'learning_rate': 0.058355452888028805, 'max_depth': 4, 'subsample': 0.6471051729120239, 'colsample_bytree': 0.5002909898942509, 'min_child_weight': 3}. Best is trial 76 with value: 0.9538790152827454.\n",
      "[I 2024-07-16 09:33:12,158] Trial 169 finished with value: 0.9512543793443013 and parameters: {'scaling_method': 'maxabs', 'encoding_method': 'onehot', 'drop': None, 'n_estimators': 1000, 'learning_rate': 0.02907925395885243, 'max_depth': 4, 'subsample': 0.5800596968749477, 'colsample_bytree': 0.5203994673767285, 'min_child_weight': 3}. Best is trial 76 with value: 0.9538790152827454.\n",
      "[I 2024-07-16 09:33:17,474] Trial 170 finished with value: 0.9530530808376063 and parameters: {'scaling_method': 'standard', 'encoding_method': 'onehot', 'drop': None, 'n_estimators': 926, 'learning_rate': 0.050464990038841154, 'max_depth': 4, 'subsample': 0.6213102469569971, 'colsample_bytree': 0.540658074042023, 'min_child_weight': 3}. Best is trial 76 with value: 0.9538790152827454.\n",
      "[I 2024-07-16 09:33:22,937] Trial 171 finished with value: 0.9523652821472895 and parameters: {'scaling_method': 'standard', 'encoding_method': 'onehot', 'drop': None, 'n_estimators': 925, 'learning_rate': 0.05132846916320994, 'max_depth': 4, 'subsample': 0.617597319740554, 'colsample_bytree': 0.5421958684590944, 'min_child_weight': 3}. Best is trial 76 with value: 0.9538790152827454.\n",
      "[I 2024-07-16 09:33:28,178] Trial 172 finished with value: 0.952932079265888 and parameters: {'scaling_method': 'standard', 'encoding_method': 'onehot', 'drop': None, 'n_estimators': 951, 'learning_rate': 0.047285563304888735, 'max_depth': 4, 'subsample': 0.6553672501117976, 'colsample_bytree': 0.5302068992040255, 'min_child_weight': 3}. Best is trial 76 with value: 0.9538790152827454.\n",
      "[I 2024-07-16 09:33:31,336] Trial 173 finished with value: -6.510038673051624 and parameters: {'scaling_method': 'standard', 'encoding_method': 'onehot', 'drop': None, 'n_estimators': 946, 'learning_rate': 0.0010161698445479781, 'max_depth': 4, 'subsample': 0.6557888522390117, 'colsample_bytree': 0.5362084592071534, 'min_child_weight': 3}. Best is trial 76 with value: 0.9538790152827454.\n",
      "[I 2024-07-16 09:33:36,693] Trial 174 finished with value: 0.9529705002309854 and parameters: {'scaling_method': 'standard', 'encoding_method': 'onehot', 'drop': None, 'n_estimators': 970, 'learning_rate': 0.04763207164745781, 'max_depth': 4, 'subsample': 0.6266472810324313, 'colsample_bytree': 0.551815237255311, 'min_child_weight': 3}. Best is trial 76 with value: 0.9538790152827454.\n",
      "[I 2024-07-16 09:33:42,174] Trial 175 finished with value: 0.9514193309278385 and parameters: {'scaling_method': 'standard', 'encoding_method': 'onehot', 'drop': None, 'n_estimators': 976, 'learning_rate': 0.04667104346155532, 'max_depth': 4, 'subsample': 0.6370173127506598, 'colsample_bytree': 0.5532281916053389, 'min_child_weight': 3}. Best is trial 76 with value: 0.9538790152827454.\n",
      "[I 2024-07-16 09:33:47,340] Trial 176 finished with value: 0.953093497730627 and parameters: {'scaling_method': 'standard', 'encoding_method': 'onehot', 'drop': None, 'n_estimators': 932, 'learning_rate': 0.0577118886316037, 'max_depth': 4, 'subsample': 0.5988882670413673, 'colsample_bytree': 0.5110460150602332, 'min_child_weight': 3}. Best is trial 76 with value: 0.9538790152827454.\n",
      "[I 2024-07-16 09:33:48,275] Trial 177 finished with value: 0.9314723185904942 and parameters: {'scaling_method': 'standard', 'encoding_method': 'onehot', 'drop': None, 'n_estimators': 129, 'learning_rate': 0.06037108931307424, 'max_depth': 4, 'subsample': 0.5997489805023045, 'colsample_bytree': 0.5066347349827721, 'min_child_weight': 3}. Best is trial 76 with value: 0.9538790152827454.\n",
      "[I 2024-07-16 09:33:53,528] Trial 178 finished with value: 0.9517140428236559 and parameters: {'scaling_method': 'standard', 'encoding_method': 'onehot', 'drop': None, 'n_estimators': 936, 'learning_rate': 0.054578206390985956, 'max_depth': 4, 'subsample': 0.6260204068072007, 'colsample_bytree': 0.5129705564792642, 'min_child_weight': 3}. Best is trial 76 with value: 0.9538790152827454.\n",
      "[I 2024-07-16 09:33:58,745] Trial 179 finished with value: 0.9499153450379646 and parameters: {'scaling_method': 'standard', 'encoding_method': 'onehot', 'drop': None, 'n_estimators': 914, 'learning_rate': 0.04928702988227735, 'max_depth': 4, 'subsample': 0.6579084964261985, 'colsample_bytree': 0.5320945982092451, 'min_child_weight': 3}. Best is trial 76 with value: 0.9538790152827454.\n"
     ]
    },
    {
     "name": "stderr",
     "output_type": "stream",
     "text": [
      "C:\\Users\\Natal\\anaconda3\\Lib\\site-packages\\sklearn\\preprocessing\\_encoders.py:227: UserWarning: Found unknown categories in columns [3, 10] during transform. These unknown categories will be encoded as all zeros\n",
      "  warnings.warn(\n",
      "C:\\Users\\Natal\\anaconda3\\Lib\\site-packages\\sklearn\\preprocessing\\_encoders.py:227: UserWarning: Found unknown categories in columns [3, 9, 14] during transform. These unknown categories will be encoded as all zeros\n",
      "  warnings.warn(\n",
      "C:\\Users\\Natal\\anaconda3\\Lib\\site-packages\\sklearn\\preprocessing\\_encoders.py:227: UserWarning: Found unknown categories in columns [5, 21] during transform. These unknown categories will be encoded as all zeros\n",
      "  warnings.warn(\n",
      "C:\\Users\\Natal\\anaconda3\\Lib\\site-packages\\sklearn\\preprocessing\\_encoders.py:227: UserWarning: Found unknown categories in columns [9, 21] during transform. These unknown categories will be encoded as all zeros\n",
      "  warnings.warn(\n",
      "C:\\Users\\Natal\\anaconda3\\Lib\\site-packages\\sklearn\\preprocessing\\_encoders.py:227: UserWarning: Found unknown categories in columns [0] during transform. These unknown categories will be encoded as all zeros\n",
      "  warnings.warn(\n",
      "[I 2024-07-16 09:34:03,833] Trial 180 finished with value: 0.9510154701383199 and parameters: {'scaling_method': 'standard', 'encoding_method': 'onehot', 'drop': 'first', 'n_estimators': 957, 'learning_rate': 0.05546334995290439, 'max_depth': 4, 'subsample': 0.6013591215047353, 'colsample_bytree': 0.5500115244935909, 'min_child_weight': 3}. Best is trial 76 with value: 0.9538790152827454.\n",
      "[I 2024-07-16 09:34:09,614] Trial 181 finished with value: 0.9534031779009204 and parameters: {'scaling_method': 'standard', 'encoding_method': 'onehot', 'drop': None, 'n_estimators': 982, 'learning_rate': 0.042994378010402366, 'max_depth': 4, 'subsample': 0.568554119025959, 'colsample_bytree': 0.5136219028880783, 'min_child_weight': 3}. Best is trial 76 with value: 0.9538790152827454.\n",
      "[I 2024-07-16 09:34:16,162] Trial 182 finished with value: 0.9531844439975818 and parameters: {'scaling_method': 'standard', 'encoding_method': 'onehot', 'drop': None, 'n_estimators': 986, 'learning_rate': 0.04294686514545338, 'max_depth': 4, 'subsample': 0.5770486581805832, 'colsample_bytree': 0.5131389330429184, 'min_child_weight': 3}. Best is trial 76 with value: 0.9538790152827454.\n",
      "[I 2024-07-16 09:34:23,435] Trial 183 finished with value: 0.9526142787775583 and parameters: {'scaling_method': 'standard', 'encoding_method': 'onehot', 'drop': None, 'n_estimators': 982, 'learning_rate': 0.04351941663363886, 'max_depth': 4, 'subsample': 0.5704826962027357, 'colsample_bytree': 0.5159436685967369, 'min_child_weight': 3}. Best is trial 76 with value: 0.9538790152827454.\n",
      "[I 2024-07-16 09:34:29,586] Trial 184 finished with value: 0.9520193988073051 and parameters: {'scaling_method': 'standard', 'encoding_method': 'onehot', 'drop': None, 'n_estimators': 1000, 'learning_rate': 0.05105211569685406, 'max_depth': 4, 'subsample': 0.5477917671337521, 'colsample_bytree': 0.5092360612084812, 'min_child_weight': 3}. Best is trial 76 with value: 0.9538790152827454.\n",
      "[I 2024-07-16 09:34:35,602] Trial 185 finished with value: 0.952959454834145 and parameters: {'scaling_method': 'standard', 'encoding_method': 'onehot', 'drop': None, 'n_estimators': 972, 'learning_rate': 0.04236592812186963, 'max_depth': 4, 'subsample': 0.5780933387301103, 'colsample_bytree': 0.5174771998787522, 'min_child_weight': 3}. Best is trial 76 with value: 0.9538790152827454.\n",
      "[I 2024-07-16 09:34:41,105] Trial 186 finished with value: 0.9486760366327078 and parameters: {'scaling_method': 'standard', 'encoding_method': 'onehot', 'drop': None, 'n_estimators': 932, 'learning_rate': 0.06312099831608087, 'max_depth': 4, 'subsample': 0.5286047829690999, 'colsample_bytree': 0.5012253153026291, 'min_child_weight': 3}. Best is trial 76 with value: 0.9538790152827454.\n",
      "[I 2024-07-16 09:34:46,831] Trial 187 finished with value: 0.9512328212670234 and parameters: {'scaling_method': 'standard', 'encoding_method': 'onehot', 'drop': None, 'n_estimators': 982, 'learning_rate': 0.04603695044238688, 'max_depth': 4, 'subsample': 0.5519116363809147, 'colsample_bytree': 0.5410392506165588, 'min_child_weight': 3}. Best is trial 76 with value: 0.9538790152827454.\n",
      "[I 2024-07-16 09:34:52,370] Trial 188 finished with value: 0.9528537144341579 and parameters: {'scaling_method': 'standard', 'encoding_method': 'onehot', 'drop': None, 'n_estimators': 963, 'learning_rate': 0.04157288688427919, 'max_depth': 4, 'subsample': 0.5919869259434356, 'colsample_bytree': 0.5255479384125276, 'min_child_weight': 3}. Best is trial 76 with value: 0.9538790152827454.\n",
      "[I 2024-07-16 09:34:56,411] Trial 189 finished with value: 0.9490983715393773 and parameters: {'scaling_method': 'standard', 'encoding_method': 'ordinal', 'n_estimators': 942, 'learning_rate': 0.05635057521642982, 'max_depth': 4, 'subsample': 0.5721103601572344, 'colsample_bytree': 0.5114848993877089, 'min_child_weight': 3}. Best is trial 76 with value: 0.9538790152827454.\n",
      "[I 2024-07-16 09:35:01,196] Trial 190 finished with value: 0.5102498118959238 and parameters: {'scaling_method': 'standard', 'encoding_method': 'onehot', 'drop': None, 'n_estimators': 983, 'learning_rate': 0.00404750224597804, 'max_depth': 4, 'subsample': 0.6152054204439683, 'colsample_bytree': 0.5675369221434724, 'min_child_weight': 3}. Best is trial 76 with value: 0.9538790152827454.\n",
      "[I 2024-07-16 09:35:06,466] Trial 191 finished with value: 0.9529720494463045 and parameters: {'scaling_method': 'standard', 'encoding_method': 'onehot', 'drop': None, 'n_estimators': 966, 'learning_rate': 0.042447133562614855, 'max_depth': 4, 'subsample': 0.582649716304958, 'colsample_bytree': 0.5204587536963042, 'min_child_weight': 3}. Best is trial 76 with value: 0.9538790152827454.\n",
      "[I 2024-07-16 09:35:12,260] Trial 192 finished with value: 0.9523646890257582 and parameters: {'scaling_method': 'standard', 'encoding_method': 'onehot', 'drop': None, 'n_estimators': 969, 'learning_rate': 0.05049705154709047, 'max_depth': 4, 'subsample': 0.5885326462559809, 'colsample_bytree': 0.518315648912634, 'min_child_weight': 3}. Best is trial 76 with value: 0.9538790152827454.\n",
      "[I 2024-07-16 09:35:17,867] Trial 193 finished with value: 0.9521055080279497 and parameters: {'scaling_method': 'standard', 'encoding_method': 'onehot', 'drop': None, 'n_estimators': 951, 'learning_rate': 0.036684646846182195, 'max_depth': 4, 'subsample': 0.6038933598072567, 'colsample_bytree': 0.5361826080001425, 'min_child_weight': 3}. Best is trial 76 with value: 0.9538790152827454.\n",
      "[I 2024-07-16 09:35:23,163] Trial 194 finished with value: 0.9514952679042364 and parameters: {'scaling_method': 'standard', 'encoding_method': 'onehot', 'drop': None, 'n_estimators': 922, 'learning_rate': 0.04539603923921631, 'max_depth': 4, 'subsample': 0.5627473610003206, 'colsample_bytree': 0.5250859268194425, 'min_child_weight': 3}. Best is trial 76 with value: 0.9538790152827454.\n",
      "[I 2024-07-16 09:35:29,177] Trial 195 finished with value: 0.9527065468246464 and parameters: {'scaling_method': 'standard', 'encoding_method': 'onehot', 'drop': None, 'n_estimators': 999, 'learning_rate': 0.04103753028775281, 'max_depth': 4, 'subsample': 0.6340526894822631, 'colsample_bytree': 0.5086760751778497, 'min_child_weight': 3}. Best is trial 76 with value: 0.9538790152827454.\n",
      "[I 2024-07-16 09:35:35,113] Trial 196 finished with value: 0.9516966489454932 and parameters: {'scaling_method': 'standard', 'encoding_method': 'onehot', 'drop': None, 'n_estimators': 968, 'learning_rate': 0.046632743516695774, 'max_depth': 4, 'subsample': 0.548455912889384, 'colsample_bytree': 0.539927241298281, 'min_child_weight': 3}. Best is trial 76 with value: 0.9538790152827454.\n",
      "[I 2024-07-16 09:35:40,457] Trial 197 finished with value: 0.951566593903079 and parameters: {'scaling_method': 'standard', 'encoding_method': 'onehot', 'drop': None, 'n_estimators': 939, 'learning_rate': 0.05281833919000285, 'max_depth': 4, 'subsample': 0.5741618723641739, 'colsample_bytree': 0.500552153035808, 'min_child_weight': 3}. Best is trial 76 with value: 0.9538790152827454.\n",
      "[I 2024-07-16 09:35:45,756] Trial 198 finished with value: 0.9518898548652797 and parameters: {'scaling_method': 'standard', 'encoding_method': 'onehot', 'drop': None, 'n_estimators': 985, 'learning_rate': 0.03548961949523133, 'max_depth': 4, 'subsample': 0.5985187175740057, 'colsample_bytree': 0.5154464947158525, 'min_child_weight': 3}. Best is trial 76 with value: 0.9538790152827454.\n"
     ]
    },
    {
     "name": "stderr",
     "output_type": "stream",
     "text": [
      "[I 2024-07-16 09:35:50,691] Trial 199 finished with value: 0.9516026708929515 and parameters: {'scaling_method': 'standard', 'encoding_method': 'onehot', 'drop': None, 'n_estimators': 903, 'learning_rate': 0.039354403596329995, 'max_depth': 4, 'subsample': 0.6250221191525293, 'colsample_bytree': 0.5290022910090753, 'min_child_weight': 3}. Best is trial 76 with value: 0.9538790152827454.\n"
     ]
    }
   ],
   "source": [
    "from optuna import create_study\n",
    "\n",
    "study_xgb = create_study(study_name='optimization', direction='maximize')\n",
    "\n",
    "study_xgb.optimize(lambda trial: objective_xgb(trial, X, y), n_trials=200)"
   ]
  },
  {
   "cell_type": "code",
   "execution_count": 9,
   "id": "7f8a26fa",
   "metadata": {},
   "outputs": [
    {
     "name": "stdout",
     "output_type": "stream",
     "text": [
      "0.9538790152827454\n",
      "{'scaling_method': 'standard', 'encoding_method': 'onehot', 'drop': None, 'n_estimators': 905, 'learning_rate': 0.04643973848790804, 'max_depth': 4, 'subsample': 0.5797329944770706, 'colsample_bytree': 0.527504939004116, 'min_child_weight': 3}\n"
     ]
    }
   ],
   "source": [
    "print(study_xgb.best_value)\n",
    "print(study_xgb.best_params)"
   ]
  },
  {
   "cell_type": "code",
   "execution_count": 10,
   "id": "0d5fd76f",
   "metadata": {},
   "outputs": [
    {
     "data": {
      "text/html": [
       "<div>\n",
       "<style scoped>\n",
       "    .dataframe tbody tr th:only-of-type {\n",
       "        vertical-align: middle;\n",
       "    }\n",
       "\n",
       "    .dataframe tbody tr th {\n",
       "        vertical-align: top;\n",
       "    }\n",
       "\n",
       "    .dataframe thead th {\n",
       "        text-align: right;\n",
       "    }\n",
       "</style>\n",
       "<table border=\"1\" class=\"dataframe\">\n",
       "  <thead>\n",
       "    <tr style=\"text-align: right;\">\n",
       "      <th></th>\n",
       "      <th>Trial</th>\n",
       "      <th>Score</th>\n",
       "      <th>Parameters</th>\n",
       "    </tr>\n",
       "  </thead>\n",
       "  <tbody>\n",
       "    <tr>\n",
       "      <th>0</th>\n",
       "      <td>0</td>\n",
       "      <td>0.934667</td>\n",
       "      <td>[(scaling_method, robust), (encoding_method, o...</td>\n",
       "    </tr>\n",
       "    <tr>\n",
       "      <th>1</th>\n",
       "      <td>1</td>\n",
       "      <td>-6.163066</td>\n",
       "      <td>[(scaling_method, standard), (encoding_method,...</td>\n",
       "    </tr>\n",
       "    <tr>\n",
       "      <th>2</th>\n",
       "      <td>2</td>\n",
       "      <td>0.946490</td>\n",
       "      <td>[(scaling_method, robust), (encoding_method, o...</td>\n",
       "    </tr>\n",
       "    <tr>\n",
       "      <th>3</th>\n",
       "      <td>3</td>\n",
       "      <td>-6.347293</td>\n",
       "      <td>[(scaling_method, robust), (encoding_method, o...</td>\n",
       "    </tr>\n",
       "    <tr>\n",
       "      <th>4</th>\n",
       "      <td>4</td>\n",
       "      <td>0.949246</td>\n",
       "      <td>[(scaling_method, maxabs), (encoding_method, o...</td>\n",
       "    </tr>\n",
       "    <tr>\n",
       "      <th>...</th>\n",
       "      <td>...</td>\n",
       "      <td>...</td>\n",
       "      <td>...</td>\n",
       "    </tr>\n",
       "    <tr>\n",
       "      <th>195</th>\n",
       "      <td>195</td>\n",
       "      <td>0.952707</td>\n",
       "      <td>[(scaling_method, standard), (encoding_method,...</td>\n",
       "    </tr>\n",
       "    <tr>\n",
       "      <th>196</th>\n",
       "      <td>196</td>\n",
       "      <td>0.951697</td>\n",
       "      <td>[(scaling_method, standard), (encoding_method,...</td>\n",
       "    </tr>\n",
       "    <tr>\n",
       "      <th>197</th>\n",
       "      <td>197</td>\n",
       "      <td>0.951567</td>\n",
       "      <td>[(scaling_method, standard), (encoding_method,...</td>\n",
       "    </tr>\n",
       "    <tr>\n",
       "      <th>198</th>\n",
       "      <td>198</td>\n",
       "      <td>0.951890</td>\n",
       "      <td>[(scaling_method, standard), (encoding_method,...</td>\n",
       "    </tr>\n",
       "    <tr>\n",
       "      <th>199</th>\n",
       "      <td>199</td>\n",
       "      <td>0.951603</td>\n",
       "      <td>[(scaling_method, standard), (encoding_method,...</td>\n",
       "    </tr>\n",
       "  </tbody>\n",
       "</table>\n",
       "<p>200 rows × 3 columns</p>\n",
       "</div>"
      ],
      "text/plain": [
       "     Trial     Score                                         Parameters\n",
       "0        0  0.934667  [(scaling_method, robust), (encoding_method, o...\n",
       "1        1 -6.163066  [(scaling_method, standard), (encoding_method,...\n",
       "2        2  0.946490  [(scaling_method, robust), (encoding_method, o...\n",
       "3        3 -6.347293  [(scaling_method, robust), (encoding_method, o...\n",
       "4        4  0.949246  [(scaling_method, maxabs), (encoding_method, o...\n",
       "..     ...       ...                                                ...\n",
       "195    195  0.952707  [(scaling_method, standard), (encoding_method,...\n",
       "196    196  0.951697  [(scaling_method, standard), (encoding_method,...\n",
       "197    197  0.951567  [(scaling_method, standard), (encoding_method,...\n",
       "198    198  0.951890  [(scaling_method, standard), (encoding_method,...\n",
       "199    199  0.951603  [(scaling_method, standard), (encoding_method,...\n",
       "\n",
       "[200 rows x 3 columns]"
      ]
     },
     "execution_count": 10,
     "metadata": {},
     "output_type": "execute_result"
    }
   ],
   "source": [
    "trial_number = []\n",
    "score = []\n",
    "parameters = []\n",
    "optuna_dict = {}\n",
    "trials = range(200)\n",
    "\n",
    "for trial in trials:\n",
    "    trial_number.append(study_xgb.get_trials()[trial].number)\n",
    "    score.append(study_xgb.get_trials()[trial].value)\n",
    "    parameters.append(list(study_xgb.get_trials()[trial].params.items()))\n",
    "\n",
    "optuna_dict['Trial'] = trial_number\n",
    "optuna_dict['Score'] = score\n",
    "optuna_dict['Parameters'] = parameters\n",
    "\n",
    "optuna_xgb = pd.DataFrame.from_dict(optuna_dict)\n",
    "optuna_xgb"
   ]
  },
  {
   "cell_type": "code",
   "execution_count": null,
   "id": "cd0a3cc0",
   "metadata": {},
   "outputs": [],
   "source": [
    "[(scaling_method, standard), \n",
    " (encoding_method, ordinal),\n",
    " (n_estimators, 917), \n",
    " (learning_rate, 0.044081018318051106), \n",
    " (max_depth, 4), (subsample, 0.6114930290253439), \n",
    " (colsample_bytree, 0.5330333973787846), (min_child_weight, 2)]\n"
   ]
  },
  {
   "cell_type": "code",
   "execution_count": 44,
   "id": "a787f3f3",
   "metadata": {},
   "outputs": [
    {
     "data": {
      "text/html": [
       "<div>\n",
       "<style scoped>\n",
       "    .dataframe tbody tr th:only-of-type {\n",
       "        vertical-align: middle;\n",
       "    }\n",
       "\n",
       "    .dataframe tbody tr th {\n",
       "        vertical-align: top;\n",
       "    }\n",
       "\n",
       "    .dataframe thead th {\n",
       "        text-align: right;\n",
       "    }\n",
       "</style>\n",
       "<table border=\"1\" class=\"dataframe\">\n",
       "  <thead>\n",
       "    <tr style=\"text-align: right;\">\n",
       "      <th></th>\n",
       "      <th>Trial</th>\n",
       "      <th>Score</th>\n",
       "      <th>Parameters</th>\n",
       "    </tr>\n",
       "  </thead>\n",
       "  <tbody>\n",
       "    <tr>\n",
       "      <th>76</th>\n",
       "      <td>76</td>\n",
       "      <td>0.953879</td>\n",
       "      <td>[(scaling_method, standard), (encoding_method, onehot), (drop, None), (n_estimators, 905), (learning_rate, 0.04643973848790804), (max_depth, 4), (subsample, 0.5797329944770706), (colsample_bytree, 0.527504939004116), (min_child_weight, 3)]</td>\n",
       "    </tr>\n",
       "    <tr>\n",
       "      <th>154</th>\n",
       "      <td>154</td>\n",
       "      <td>0.953849</td>\n",
       "      <td>[(scaling_method, standard), (encoding_method, onehot), (drop, None), (n_estimators, 981), (learning_rate, 0.047198601971795234), (max_depth, 4), (subsample, 0.5955423388155735), (colsample_bytree, 0.5091959392090488), (min_child_weight, 3)]</td>\n",
       "    </tr>\n",
       "    <tr>\n",
       "      <th>161</th>\n",
       "      <td>161</td>\n",
       "      <td>0.953627</td>\n",
       "      <td>[(scaling_method, standard), (encoding_method, onehot), (drop, None), (n_estimators, 974), (learning_rate, 0.04740516101352134), (max_depth, 4), (subsample, 0.5914713646169084), (colsample_bytree, 0.5103526150143552), (min_child_weight, 3)]</td>\n",
       "    </tr>\n",
       "    <tr>\n",
       "      <th>155</th>\n",
       "      <td>155</td>\n",
       "      <td>0.953577</td>\n",
       "      <td>[(scaling_method, standard), (encoding_method, onehot), (drop, None), (n_estimators, 978), (learning_rate, 0.04611315421181104), (max_depth, 4), (subsample, 0.6032259102409443), (colsample_bytree, 0.5097594989102657), (min_child_weight, 3)]</td>\n",
       "    </tr>\n",
       "    <tr>\n",
       "      <th>142</th>\n",
       "      <td>142</td>\n",
       "      <td>0.953422</td>\n",
       "      <td>[(scaling_method, standard), (encoding_method, onehot), (drop, None), (n_estimators, 967), (learning_rate, 0.037077274389072025), (max_depth, 4), (subsample, 0.6052407177992929), (colsample_bytree, 0.509636780573371), (min_child_weight, 3)]</td>\n",
       "    </tr>\n",
       "    <tr>\n",
       "      <th>85</th>\n",
       "      <td>85</td>\n",
       "      <td>0.953407</td>\n",
       "      <td>[(scaling_method, standard), (encoding_method, onehot), (drop, None), (n_estimators, 975), (learning_rate, 0.042596843254780296), (max_depth, 4), (subsample, 0.5904568978593641), (colsample_bytree, 0.5156085878989596), (min_child_weight, 2)]</td>\n",
       "    </tr>\n",
       "    <tr>\n",
       "      <th>181</th>\n",
       "      <td>181</td>\n",
       "      <td>0.953403</td>\n",
       "      <td>[(scaling_method, standard), (encoding_method, onehot), (drop, None), (n_estimators, 982), (learning_rate, 0.042994378010402366), (max_depth, 4), (subsample, 0.568554119025959), (colsample_bytree, 0.5136219028880783), (min_child_weight, 3)]</td>\n",
       "    </tr>\n",
       "    <tr>\n",
       "      <th>133</th>\n",
       "      <td>133</td>\n",
       "      <td>0.953348</td>\n",
       "      <td>[(scaling_method, standard), (encoding_method, onehot), (drop, None), (n_estimators, 951), (learning_rate, 0.04307704330028825), (max_depth, 4), (subsample, 0.5696307183664032), (colsample_bytree, 0.5380070898897199), (min_child_weight, 3)]</td>\n",
       "    </tr>\n",
       "    <tr>\n",
       "      <th>81</th>\n",
       "      <td>81</td>\n",
       "      <td>0.953341</td>\n",
       "      <td>[(scaling_method, standard), (encoding_method, onehot), (drop, None), (n_estimators, 937), (learning_rate, 0.04021124807781962), (max_depth, 4), (subsample, 0.5555256528827893), (colsample_bytree, 0.5462831730811686), (min_child_weight, 3)]</td>\n",
       "    </tr>\n",
       "    <tr>\n",
       "      <th>152</th>\n",
       "      <td>152</td>\n",
       "      <td>0.953248</td>\n",
       "      <td>[(scaling_method, standard), (encoding_method, onehot), (drop, None), (n_estimators, 971), (learning_rate, 0.0458436225743243), (max_depth, 4), (subsample, 0.5898992546162253), (colsample_bytree, 0.5152225243663119), (min_child_weight, 3)]</td>\n",
       "    </tr>\n",
       "    <tr>\n",
       "      <th>101</th>\n",
       "      <td>101</td>\n",
       "      <td>0.953241</td>\n",
       "      <td>[(scaling_method, standard), (encoding_method, onehot), (drop, None), (n_estimators, 891), (learning_rate, 0.04224967750358373), (max_depth, 4), (subsample, 0.5784684134028454), (colsample_bytree, 0.5043757543218799), (min_child_weight, 3)]</td>\n",
       "    </tr>\n",
       "    <tr>\n",
       "      <th>163</th>\n",
       "      <td>163</td>\n",
       "      <td>0.953186</td>\n",
       "      <td>[(scaling_method, standard), (encoding_method, onehot), (drop, None), (n_estimators, 961), (learning_rate, 0.03672746407988903), (max_depth, 4), (subsample, 0.621425353495312), (colsample_bytree, 0.5268148242093128), (min_child_weight, 3)]</td>\n",
       "    </tr>\n",
       "    <tr>\n",
       "      <th>182</th>\n",
       "      <td>182</td>\n",
       "      <td>0.953184</td>\n",
       "      <td>[(scaling_method, standard), (encoding_method, onehot), (drop, None), (n_estimators, 986), (learning_rate, 0.04294686514545338), (max_depth, 4), (subsample, 0.5770486581805832), (colsample_bytree, 0.5131389330429184), (min_child_weight, 3)]</td>\n",
       "    </tr>\n",
       "    <tr>\n",
       "      <th>157</th>\n",
       "      <td>157</td>\n",
       "      <td>0.953098</td>\n",
       "      <td>[(scaling_method, standard), (encoding_method, onehot), (drop, None), (n_estimators, 971), (learning_rate, 0.04017837085236566), (max_depth, 4), (subsample, 0.6402447227112047), (colsample_bytree, 0.5161833307186661), (min_child_weight, 3)]</td>\n",
       "    </tr>\n",
       "    <tr>\n",
       "      <th>176</th>\n",
       "      <td>176</td>\n",
       "      <td>0.953093</td>\n",
       "      <td>[(scaling_method, standard), (encoding_method, onehot), (drop, None), (n_estimators, 932), (learning_rate, 0.0577118886316037), (max_depth, 4), (subsample, 0.5988882670413673), (colsample_bytree, 0.5110460150602332), (min_child_weight, 3)]</td>\n",
       "    </tr>\n",
       "    <tr>\n",
       "      <th>170</th>\n",
       "      <td>170</td>\n",
       "      <td>0.953053</td>\n",
       "      <td>[(scaling_method, standard), (encoding_method, onehot), (drop, None), (n_estimators, 926), (learning_rate, 0.050464990038841154), (max_depth, 4), (subsample, 0.6213102469569971), (colsample_bytree, 0.540658074042023), (min_child_weight, 3)]</td>\n",
       "    </tr>\n",
       "    <tr>\n",
       "      <th>131</th>\n",
       "      <td>131</td>\n",
       "      <td>0.953007</td>\n",
       "      <td>[(scaling_method, standard), (encoding_method, onehot), (drop, None), (n_estimators, 955), (learning_rate, 0.045506252364043494), (max_depth, 4), (subsample, 0.5836271691164954), (colsample_bytree, 0.5389608744338323), (min_child_weight, 3)]</td>\n",
       "    </tr>\n",
       "    <tr>\n",
       "      <th>191</th>\n",
       "      <td>191</td>\n",
       "      <td>0.952972</td>\n",
       "      <td>[(scaling_method, standard), (encoding_method, onehot), (drop, None), (n_estimators, 966), (learning_rate, 0.042447133562614855), (max_depth, 4), (subsample, 0.582649716304958), (colsample_bytree, 0.5204587536963042), (min_child_weight, 3)]</td>\n",
       "    </tr>\n",
       "    <tr>\n",
       "      <th>174</th>\n",
       "      <td>174</td>\n",
       "      <td>0.952971</td>\n",
       "      <td>[(scaling_method, standard), (encoding_method, onehot), (drop, None), (n_estimators, 970), (learning_rate, 0.04763207164745781), (max_depth, 4), (subsample, 0.6266472810324313), (colsample_bytree, 0.551815237255311), (min_child_weight, 3)]</td>\n",
       "    </tr>\n",
       "    <tr>\n",
       "      <th>151</th>\n",
       "      <td>151</td>\n",
       "      <td>0.952963</td>\n",
       "      <td>[(scaling_method, standard), (encoding_method, onehot), (drop, None), (n_estimators, 981), (learning_rate, 0.04459304259245875), (max_depth, 4), (subsample, 0.6051842834282144), (colsample_bytree, 0.5268016593683302), (min_child_weight, 3)]</td>\n",
       "    </tr>\n",
       "    <tr>\n",
       "      <th>185</th>\n",
       "      <td>185</td>\n",
       "      <td>0.952959</td>\n",
       "      <td>[(scaling_method, standard), (encoding_method, onehot), (drop, None), (n_estimators, 972), (learning_rate, 0.04236592812186963), (max_depth, 4), (subsample, 0.5780933387301103), (colsample_bytree, 0.5174771998787522), (min_child_weight, 3)]</td>\n",
       "    </tr>\n",
       "    <tr>\n",
       "      <th>172</th>\n",
       "      <td>172</td>\n",
       "      <td>0.952932</td>\n",
       "      <td>[(scaling_method, standard), (encoding_method, onehot), (drop, None), (n_estimators, 951), (learning_rate, 0.047285563304888735), (max_depth, 4), (subsample, 0.6553672501117976), (colsample_bytree, 0.5302068992040255), (min_child_weight, 3)]</td>\n",
       "    </tr>\n",
       "    <tr>\n",
       "      <th>188</th>\n",
       "      <td>188</td>\n",
       "      <td>0.952854</td>\n",
       "      <td>[(scaling_method, standard), (encoding_method, onehot), (drop, None), (n_estimators, 963), (learning_rate, 0.04157288688427919), (max_depth, 4), (subsample, 0.5919869259434356), (colsample_bytree, 0.5255479384125276), (min_child_weight, 3)]</td>\n",
       "    </tr>\n",
       "    <tr>\n",
       "      <th>52</th>\n",
       "      <td>52</td>\n",
       "      <td>0.952843</td>\n",
       "      <td>[(scaling_method, standard), (encoding_method, onehot), (drop, None), (n_estimators, 830), (learning_rate, 0.04155081636892581), (max_depth, 4), (subsample, 0.4509109758118648), (colsample_bytree, 0.7291190973380179), (min_child_weight, 4)]</td>\n",
       "    </tr>\n",
       "    <tr>\n",
       "      <th>162</th>\n",
       "      <td>162</td>\n",
       "      <td>0.952809</td>\n",
       "      <td>[(scaling_method, standard), (encoding_method, onehot), (drop, None), (n_estimators, 962), (learning_rate, 0.03735502849090528), (max_depth, 4), (subsample, 0.6159834329584103), (colsample_bytree, 0.5259732962153176), (min_child_weight, 3)]</td>\n",
       "    </tr>\n",
       "    <tr>\n",
       "      <th>119</th>\n",
       "      <td>119</td>\n",
       "      <td>0.952774</td>\n",
       "      <td>[(scaling_method, robust), (encoding_method, onehot), (drop, None), (n_estimators, 843), (learning_rate, 0.04008605994261064), (max_depth, 4), (subsample, 0.590081651358694), (colsample_bytree, 0.5231700915859308), (min_child_weight, 3)]</td>\n",
       "    </tr>\n",
       "    <tr>\n",
       "      <th>82</th>\n",
       "      <td>82</td>\n",
       "      <td>0.952725</td>\n",
       "      <td>[(scaling_method, standard), (encoding_method, onehot), (drop, None), (n_estimators, 942), (learning_rate, 0.03654611491837465), (max_depth, 4), (subsample, 0.6240160867286582), (colsample_bytree, 0.5091263872207336), (min_child_weight, 3)]</td>\n",
       "    </tr>\n",
       "    <tr>\n",
       "      <th>89</th>\n",
       "      <td>89</td>\n",
       "      <td>0.952722</td>\n",
       "      <td>[(scaling_method, standard), (encoding_method, onehot), (drop, None), (n_estimators, 876), (learning_rate, 0.04284889602667325), (max_depth, 4), (subsample, 0.6755685832511081), (colsample_bytree, 0.5070089553603792), (min_child_weight, 3)]</td>\n",
       "    </tr>\n",
       "    <tr>\n",
       "      <th>153</th>\n",
       "      <td>153</td>\n",
       "      <td>0.952716</td>\n",
       "      <td>[(scaling_method, standard), (encoding_method, onehot), (drop, None), (n_estimators, 977), (learning_rate, 0.04495112468576724), (max_depth, 4), (subsample, 0.5907613691787105), (colsample_bytree, 0.5100001765854234), (min_child_weight, 3)]</td>\n",
       "    </tr>\n",
       "    <tr>\n",
       "      <th>166</th>\n",
       "      <td>166</td>\n",
       "      <td>0.952712</td>\n",
       "      <td>[(scaling_method, standard), (encoding_method, onehot), (drop, None), (n_estimators, 951), (learning_rate, 0.033308437136100585), (max_depth, 4), (subsample, 0.5873685836929177), (colsample_bytree, 0.5169253074523895), (min_child_weight, 3)]</td>\n",
       "    </tr>\n",
       "    <tr>\n",
       "      <th>195</th>\n",
       "      <td>195</td>\n",
       "      <td>0.952707</td>\n",
       "      <td>[(scaling_method, standard), (encoding_method, onehot), (drop, None), (n_estimators, 999), (learning_rate, 0.04103753028775281), (max_depth, 4), (subsample, 0.6340526894822631), (colsample_bytree, 0.5086760751778497), (min_child_weight, 3)]</td>\n",
       "    </tr>\n",
       "    <tr>\n",
       "      <th>183</th>\n",
       "      <td>183</td>\n",
       "      <td>0.952614</td>\n",
       "      <td>[(scaling_method, standard), (encoding_method, onehot), (drop, None), (n_estimators, 982), (learning_rate, 0.04351941663363886), (max_depth, 4), (subsample, 0.5704826962027357), (colsample_bytree, 0.5159436685967369), (min_child_weight, 3)]</td>\n",
       "    </tr>\n",
       "    <tr>\n",
       "      <th>94</th>\n",
       "      <td>94</td>\n",
       "      <td>0.952560</td>\n",
       "      <td>[(scaling_method, standard), (encoding_method, onehot), (drop, None), (n_estimators, 976), (learning_rate, 0.043822650319510104), (max_depth, 4), (subsample, 0.5679021003871656), (colsample_bytree, 0.5538218292462826), (min_child_weight, 2)]</td>\n",
       "    </tr>\n",
       "    <tr>\n",
       "      <th>75</th>\n",
       "      <td>75</td>\n",
       "      <td>0.952558</td>\n",
       "      <td>[(scaling_method, standard), (encoding_method, onehot), (drop, None), (n_estimators, 910), (learning_rate, 0.051644707541483405), (max_depth, 4), (subsample, 0.5835800315884345), (colsample_bytree, 0.5343120147350685), (min_child_weight, 4)]</td>\n",
       "    </tr>\n",
       "    <tr>\n",
       "      <th>134</th>\n",
       "      <td>134</td>\n",
       "      <td>0.952493</td>\n",
       "      <td>[(scaling_method, standard), (encoding_method, onehot), (drop, None), (n_estimators, 949), (learning_rate, 0.0439132574886877), (max_depth, 4), (subsample, 0.5580619856885473), (colsample_bytree, 0.5407765256179761), (min_child_weight, 3)]</td>\n",
       "    </tr>\n",
       "    <tr>\n",
       "      <th>62</th>\n",
       "      <td>62</td>\n",
       "      <td>0.952420</td>\n",
       "      <td>[(scaling_method, standard), (encoding_method, onehot), (drop, None), (n_estimators, 727), (learning_rate, 0.053836140278987386), (max_depth, 4), (subsample, 0.33495793747312985), (colsample_bytree, 0.7767101008318574), (min_child_weight, 4)]</td>\n",
       "    </tr>\n",
       "    <tr>\n",
       "      <th>84</th>\n",
       "      <td>84</td>\n",
       "      <td>0.952415</td>\n",
       "      <td>[(scaling_method, standard), (encoding_method, onehot), (drop, None), (n_estimators, 982), (learning_rate, 0.04368730520522419), (max_depth, 4), (subsample, 0.6156842460645957), (colsample_bytree, 0.5273694704668308), (min_child_weight, 3)]</td>\n",
       "    </tr>\n",
       "    <tr>\n",
       "      <th>171</th>\n",
       "      <td>171</td>\n",
       "      <td>0.952365</td>\n",
       "      <td>[(scaling_method, standard), (encoding_method, onehot), (drop, None), (n_estimators, 925), (learning_rate, 0.05132846916320994), (max_depth, 4), (subsample, 0.617597319740554), (colsample_bytree, 0.5421958684590944), (min_child_weight, 3)]</td>\n",
       "    </tr>\n",
       "    <tr>\n",
       "      <th>192</th>\n",
       "      <td>192</td>\n",
       "      <td>0.952365</td>\n",
       "      <td>[(scaling_method, standard), (encoding_method, onehot), (drop, None), (n_estimators, 969), (learning_rate, 0.05049705154709047), (max_depth, 4), (subsample, 0.5885326462559809), (colsample_bytree, 0.518315648912634), (min_child_weight, 3)]</td>\n",
       "    </tr>\n",
       "    <tr>\n",
       "      <th>41</th>\n",
       "      <td>41</td>\n",
       "      <td>0.952320</td>\n",
       "      <td>[(scaling_method, standard), (encoding_method, onehot), (drop, None), (n_estimators, 872), (learning_rate, 0.06507545497261033), (max_depth, 3), (subsample, 0.5780033294966029), (colsample_bytree, 0.6732037297267573), (min_child_weight, 4)]</td>\n",
       "    </tr>\n",
       "    <tr>\n",
       "      <th>156</th>\n",
       "      <td>156</td>\n",
       "      <td>0.952311</td>\n",
       "      <td>[(scaling_method, standard), (encoding_method, onehot), (drop, None), (n_estimators, 984), (learning_rate, 0.04862339627131869), (max_depth, 4), (subsample, 0.603565982379564), (colsample_bytree, 0.5086636508613157), (min_child_weight, 3)]</td>\n",
       "    </tr>\n",
       "    <tr>\n",
       "      <th>164</th>\n",
       "      <td>164</td>\n",
       "      <td>0.952286</td>\n",
       "      <td>[(scaling_method, standard), (encoding_method, onehot), (drop, None), (n_estimators, 961), (learning_rate, 0.037764759002766095), (max_depth, 4), (subsample, 0.6092832617492581), (colsample_bytree, 0.5308722566127732), (min_child_weight, 3)]</td>\n",
       "    </tr>\n",
       "    <tr>\n",
       "      <th>77</th>\n",
       "      <td>77</td>\n",
       "      <td>0.952230</td>\n",
       "      <td>[(scaling_method, standard), (encoding_method, onehot), (drop, None), (n_estimators, 956), (learning_rate, 0.04648810682324537), (max_depth, 4), (subsample, 0.5836446443704956), (colsample_bytree, 0.542127444547118), (min_child_weight, 3)]</td>\n",
       "    </tr>\n",
       "    <tr>\n",
       "      <th>97</th>\n",
       "      <td>97</td>\n",
       "      <td>0.952224</td>\n",
       "      <td>[(scaling_method, standard), (encoding_method, onehot), (drop, None), (n_estimators, 971), (learning_rate, 0.03954199065077492), (max_depth, 4), (subsample, 0.5584322348174456), (colsample_bytree, 0.5151459556738267), (min_child_weight, 2)]</td>\n",
       "    </tr>\n",
       "    <tr>\n",
       "      <th>115</th>\n",
       "      <td>115</td>\n",
       "      <td>0.952184</td>\n",
       "      <td>[(scaling_method, standard), (encoding_method, onehot), (drop, None), (n_estimators, 981), (learning_rate, 0.03539335626119567), (max_depth, 4), (subsample, 0.6049235673136818), (colsample_bytree, 0.5111987761677306), (min_child_weight, 2)]</td>\n",
       "    </tr>\n",
       "    <tr>\n",
       "      <th>12</th>\n",
       "      <td>12</td>\n",
       "      <td>0.952159</td>\n",
       "      <td>[(scaling_method, standard), (encoding_method, onehot), (drop, None), (n_estimators, 767), (learning_rate, 0.04729226062014805), (max_depth, 4), (subsample, 0.6474720885394325), (colsample_bytree, 0.6193038536203289), (min_child_weight, 4)]</td>\n",
       "    </tr>\n",
       "    <tr>\n",
       "      <th>193</th>\n",
       "      <td>193</td>\n",
       "      <td>0.952106</td>\n",
       "      <td>[(scaling_method, standard), (encoding_method, onehot), (drop, None), (n_estimators, 951), (learning_rate, 0.036684646846182195), (max_depth, 4), (subsample, 0.6038933598072567), (colsample_bytree, 0.5361826080001425), (min_child_weight, 3)]</td>\n",
       "    </tr>\n",
       "    <tr>\n",
       "      <th>79</th>\n",
       "      <td>79</td>\n",
       "      <td>0.952105</td>\n",
       "      <td>[(scaling_method, standard), (encoding_method, onehot), (drop, None), (n_estimators, 908), (learning_rate, 0.03751487354648077), (max_depth, 4), (subsample, 0.6465403080003055), (colsample_bytree, 0.541491042117335), (min_child_weight, 3)]</td>\n",
       "    </tr>\n",
       "    <tr>\n",
       "      <th>106</th>\n",
       "      <td>106</td>\n",
       "      <td>0.952079</td>\n",
       "      <td>[(scaling_method, standard), (encoding_method, onehot), (drop, None), (n_estimators, 861), (learning_rate, 0.044738656817851594), (max_depth, 4), (subsample, 0.536891214439), (colsample_bytree, 0.564825934914122), (min_child_weight, 2)]</td>\n",
       "    </tr>\n",
       "    <tr>\n",
       "      <th>145</th>\n",
       "      <td>145</td>\n",
       "      <td>0.952058</td>\n",
       "      <td>[(scaling_method, standard), (encoding_method, onehot), (drop, None), (n_estimators, 924), (learning_rate, 0.035069235371988375), (max_depth, 4), (subsample, 0.5758036000371204), (colsample_bytree, 0.5219895252676965), (min_child_weight, 3)]</td>\n",
       "    </tr>\n",
       "    <tr>\n",
       "      <th>121</th>\n",
       "      <td>121</td>\n",
       "      <td>0.952027</td>\n",
       "      <td>[(scaling_method, robust), (encoding_method, onehot), (drop, None), (n_estimators, 813), (learning_rate, 0.051019276013019456), (max_depth, 4), (subsample, 0.5864869288457577), (colsample_bytree, 0.5256280564115579), (min_child_weight, 3)]</td>\n",
       "    </tr>\n",
       "    <tr>\n",
       "      <th>165</th>\n",
       "      <td>165</td>\n",
       "      <td>0.952024</td>\n",
       "      <td>[(scaling_method, standard), (encoding_method, onehot), (drop, None), (n_estimators, 978), (learning_rate, 0.04726097548295648), (max_depth, 4), (subsample, 0.6338630430322009), (colsample_bytree, 0.524186523710005), (min_child_weight, 3)]</td>\n",
       "    </tr>\n",
       "    <tr>\n",
       "      <th>184</th>\n",
       "      <td>184</td>\n",
       "      <td>0.952019</td>\n",
       "      <td>[(scaling_method, standard), (encoding_method, onehot), (drop, None), (n_estimators, 1000), (learning_rate, 0.05105211569685406), (max_depth, 4), (subsample, 0.5477917671337521), (colsample_bytree, 0.5092360612084812), (min_child_weight, 3)]</td>\n",
       "    </tr>\n",
       "    <tr>\n",
       "      <th>74</th>\n",
       "      <td>74</td>\n",
       "      <td>0.952000</td>\n",
       "      <td>[(scaling_method, standard), (encoding_method, onehot), (drop, None), (n_estimators, 874), (learning_rate, 0.04900463652882283), (max_depth, 4), (subsample, 0.5451772187138496), (colsample_bytree, 0.5943850037519653), (min_child_weight, 4)]</td>\n",
       "    </tr>\n",
       "    <tr>\n",
       "      <th>86</th>\n",
       "      <td>86</td>\n",
       "      <td>0.951982</td>\n",
       "      <td>[(scaling_method, standard), (encoding_method, onehot), (drop, None), (n_estimators, 986), (learning_rate, 0.039379098090284614), (max_depth, 4), (subsample, 0.6202242655918409), (colsample_bytree, 0.517705882920031), (min_child_weight, 2)]</td>\n",
       "    </tr>\n",
       "    <tr>\n",
       "      <th>109</th>\n",
       "      <td>109</td>\n",
       "      <td>0.951971</td>\n",
       "      <td>[(scaling_method, standard), (encoding_method, onehot), (drop, None), (n_estimators, 944), (learning_rate, 0.03931379049036758), (max_depth, 4), (subsample, 0.6562521503921215), (colsample_bytree, 0.58160275311689), (min_child_weight, 3)]</td>\n",
       "    </tr>\n",
       "    <tr>\n",
       "      <th>123</th>\n",
       "      <td>123</td>\n",
       "      <td>0.951952</td>\n",
       "      <td>[(scaling_method, robust), (encoding_method, onehot), (drop, None), (n_estimators, 906), (learning_rate, 0.03316285222434117), (max_depth, 4), (subsample, 0.5670694038866009), (colsample_bytree, 0.5141674704440817), (min_child_weight, 3)]</td>\n",
       "    </tr>\n",
       "    <tr>\n",
       "      <th>90</th>\n",
       "      <td>90</td>\n",
       "      <td>0.951920</td>\n",
       "      <td>[(scaling_method, standard), (encoding_method, onehot), (drop, None), (n_estimators, 995), (learning_rate, 0.04244147495658048), (max_depth, 4), (subsample, 0.7567686860461925), (colsample_bytree, 0.5095063076498145), (min_child_weight, 3)]</td>\n",
       "    </tr>\n",
       "    <tr>\n",
       "      <th>198</th>\n",
       "      <td>198</td>\n",
       "      <td>0.951890</td>\n",
       "      <td>[(scaling_method, standard), (encoding_method, onehot), (drop, None), (n_estimators, 985), (learning_rate, 0.03548961949523133), (max_depth, 4), (subsample, 0.5985187175740057), (colsample_bytree, 0.5154464947158525), (min_child_weight, 3)]</td>\n",
       "    </tr>\n",
       "    <tr>\n",
       "      <th>125</th>\n",
       "      <td>125</td>\n",
       "      <td>0.951849</td>\n",
       "      <td>[(scaling_method, robust), (encoding_method, onehot), (drop, None), (n_estimators, 985), (learning_rate, 0.04120081484499707), (max_depth, 4), (subsample, 0.5959781823289715), (colsample_bytree, 0.5004098170724884), (min_child_weight, 1)]</td>\n",
       "    </tr>\n",
       "    <tr>\n",
       "      <th>167</th>\n",
       "      <td>167</td>\n",
       "      <td>0.951810</td>\n",
       "      <td>[(scaling_method, standard), (encoding_method, onehot), (drop, None), (n_estimators, 988), (learning_rate, 0.04029030540264549), (max_depth, 4), (subsample, 0.6074731393195164), (colsample_bytree, 0.5306569220302777), (min_child_weight, 3)]</td>\n",
       "    </tr>\n",
       "    <tr>\n",
       "      <th>135</th>\n",
       "      <td>135</td>\n",
       "      <td>0.951766</td>\n",
       "      <td>[(scaling_method, standard), (encoding_method, onehot), (drop, None), (n_estimators, 949), (learning_rate, 0.034710448774173744), (max_depth, 4), (subsample, 0.5576506725752142), (colsample_bytree, 0.5627179547757286), (min_child_weight, 3)]</td>\n",
       "    </tr>\n",
       "    <tr>\n",
       "      <th>71</th>\n",
       "      <td>71</td>\n",
       "      <td>0.951751</td>\n",
       "      <td>[(scaling_method, standard), (encoding_method, onehot), (drop, None), (n_estimators, 749), (learning_rate, 0.05938083839256959), (max_depth, 4), (subsample, 0.44555189240029336), (colsample_bytree, 0.594592957306584), (min_child_weight, 4)]</td>\n",
       "    </tr>\n",
       "    <tr>\n",
       "      <th>61</th>\n",
       "      <td>61</td>\n",
       "      <td>0.951726</td>\n",
       "      <td>[(scaling_method, standard), (encoding_method, onehot), (drop, None), (n_estimators, 792), (learning_rate, 0.05730470324713337), (max_depth, 4), (subsample, 0.38030710308790805), (colsample_bytree, 0.7606713255269029), (min_child_weight, 4)]</td>\n",
       "    </tr>\n",
       "    <tr>\n",
       "      <th>160</th>\n",
       "      <td>160</td>\n",
       "      <td>0.951719</td>\n",
       "      <td>[(scaling_method, standard), (encoding_method, onehot), (drop, None), (n_estimators, 931), (learning_rate, 0.039906270062291686), (max_depth, 4), (subsample, 0.6928266282801502), (colsample_bytree, 0.5181751579651122), (min_child_weight, 3)]</td>\n",
       "    </tr>\n",
       "    <tr>\n",
       "      <th>113</th>\n",
       "      <td>113</td>\n",
       "      <td>0.951718</td>\n",
       "      <td>[(scaling_method, standard), (encoding_method, onehot), (drop, None), (n_estimators, 893), (learning_rate, 0.0431419737771837), (max_depth, 4), (subsample, 0.5053160383324905), (colsample_bytree, 0.8060125902291967), (min_child_weight, 3)]</td>\n",
       "    </tr>\n",
       "    <tr>\n",
       "      <th>87</th>\n",
       "      <td>87</td>\n",
       "      <td>0.951716</td>\n",
       "      <td>[(scaling_method, standard), (encoding_method, onehot), (drop, None), (n_estimators, 972), (learning_rate, 0.03455744990975655), (max_depth, 4), (subsample, 0.7149221353573602), (colsample_bytree, 0.5300936187203431), (min_child_weight, 2)]</td>\n",
       "    </tr>\n",
       "    <tr>\n",
       "      <th>178</th>\n",
       "      <td>178</td>\n",
       "      <td>0.951714</td>\n",
       "      <td>[(scaling_method, standard), (encoding_method, onehot), (drop, None), (n_estimators, 936), (learning_rate, 0.054578206390985956), (max_depth, 4), (subsample, 0.6260204068072007), (colsample_bytree, 0.5129705564792642), (min_child_weight, 3)]</td>\n",
       "    </tr>\n",
       "    <tr>\n",
       "      <th>137</th>\n",
       "      <td>137</td>\n",
       "      <td>0.951699</td>\n",
       "      <td>[(scaling_method, standard), (encoding_method, onehot), (drop, None), (n_estimators, 930), (learning_rate, 0.04126438805914917), (max_depth, 4), (subsample, 0.5700927356730264), (colsample_bytree, 0.515825566773464), (min_child_weight, 3)]</td>\n",
       "    </tr>\n",
       "    <tr>\n",
       "      <th>196</th>\n",
       "      <td>196</td>\n",
       "      <td>0.951697</td>\n",
       "      <td>[(scaling_method, standard), (encoding_method, onehot), (drop, None), (n_estimators, 968), (learning_rate, 0.046632743516695774), (max_depth, 4), (subsample, 0.548455912889384), (colsample_bytree, 0.539927241298281), (min_child_weight, 3)]</td>\n",
       "    </tr>\n",
       "    <tr>\n",
       "      <th>120</th>\n",
       "      <td>120</td>\n",
       "      <td>0.951673</td>\n",
       "      <td>[(scaling_method, robust), (encoding_method, onehot), (drop, None), (n_estimators, 844), (learning_rate, 0.039017143883343756), (max_depth, 4), (subsample, 0.6711227617771436), (colsample_bytree, 0.5441787248768), (min_child_weight, 3)]</td>\n",
       "    </tr>\n",
       "    <tr>\n",
       "      <th>108</th>\n",
       "      <td>108</td>\n",
       "      <td>0.951661</td>\n",
       "      <td>[(scaling_method, standard), (encoding_method, onehot), (drop, None), (n_estimators, 901), (learning_rate, 0.030595729443354248), (max_depth, 4), (subsample, 0.5611490476588351), (colsample_bytree, 0.5142665685891052), (min_child_weight, 3)]</td>\n",
       "    </tr>\n",
       "    <tr>\n",
       "      <th>199</th>\n",
       "      <td>199</td>\n",
       "      <td>0.951603</td>\n",
       "      <td>[(scaling_method, standard), (encoding_method, onehot), (drop, None), (n_estimators, 903), (learning_rate, 0.039354403596329995), (max_depth, 4), (subsample, 0.6250221191525293), (colsample_bytree, 0.5290022910090753), (min_child_weight, 3)]</td>\n",
       "    </tr>\n",
       "    <tr>\n",
       "      <th>140</th>\n",
       "      <td>140</td>\n",
       "      <td>0.951583</td>\n",
       "      <td>[(scaling_method, standard), (encoding_method, onehot), (drop, None), (n_estimators, 911), (learning_rate, 0.026725828511096044), (max_depth, 4), (subsample, 0.5359489610458162), (colsample_bytree, 0.5582612046747151), (min_child_weight, 2)]</td>\n",
       "    </tr>\n",
       "    <tr>\n",
       "      <th>197</th>\n",
       "      <td>197</td>\n",
       "      <td>0.951567</td>\n",
       "      <td>[(scaling_method, standard), (encoding_method, onehot), (drop, None), (n_estimators, 939), (learning_rate, 0.05281833919000285), (max_depth, 4), (subsample, 0.5741618723641739), (colsample_bytree, 0.500552153035808), (min_child_weight, 3)]</td>\n",
       "    </tr>\n",
       "    <tr>\n",
       "      <th>136</th>\n",
       "      <td>136</td>\n",
       "      <td>0.951562</td>\n",
       "      <td>[(scaling_method, standard), (encoding_method, onehot), (drop, None), (n_estimators, 905), (learning_rate, 0.0496068223275355), (max_depth, 4), (subsample, 0.5335942293142769), (colsample_bytree, 0.5384760801291514), (min_child_weight, 3)]</td>\n",
       "    </tr>\n",
       "    <tr>\n",
       "      <th>93</th>\n",
       "      <td>93</td>\n",
       "      <td>0.951507</td>\n",
       "      <td>[(scaling_method, standard), (encoding_method, onehot), (drop, None), (n_estimators, 940), (learning_rate, 0.032135955817887724), (max_depth, 4), (subsample, 0.5368060769873285), (colsample_bytree, 0.5296680436797417), (min_child_weight, 3)]</td>\n",
       "    </tr>\n",
       "    <tr>\n",
       "      <th>141</th>\n",
       "      <td>141</td>\n",
       "      <td>0.951502</td>\n",
       "      <td>[(scaling_method, standard), (encoding_method, onehot), (drop, None), (n_estimators, 983), (learning_rate, 0.04400565797728592), (max_depth, 4), (subsample, 0.6260102887509521), (colsample_bytree, 0.5343969965638573), (min_child_weight, 3)]</td>\n",
       "    </tr>\n",
       "    <tr>\n",
       "      <th>194</th>\n",
       "      <td>194</td>\n",
       "      <td>0.951495</td>\n",
       "      <td>[(scaling_method, standard), (encoding_method, onehot), (drop, None), (n_estimators, 922), (learning_rate, 0.04539603923921631), (max_depth, 4), (subsample, 0.5627473610003206), (colsample_bytree, 0.5250859268194425), (min_child_weight, 3)]</td>\n",
       "    </tr>\n",
       "    <tr>\n",
       "      <th>107</th>\n",
       "      <td>107</td>\n",
       "      <td>0.951479</td>\n",
       "      <td>[(scaling_method, minmax), (encoding_method, onehot), (drop, first), (n_estimators, 926), (learning_rate, 0.04850739763031974), (max_depth, 4), (subsample, 0.58989585149592), (colsample_bytree, 0.537770237021434), (min_child_weight, 3)]</td>\n",
       "    </tr>\n",
       "    <tr>\n",
       "      <th>139</th>\n",
       "      <td>139</td>\n",
       "      <td>0.951462</td>\n",
       "      <td>[(scaling_method, standard), (encoding_method, onehot), (drop, None), (n_estimators, 944), (learning_rate, 0.045301077531780344), (max_depth, 4), (subsample, 0.5918056218415126), (colsample_bytree, 0.5482131726886658), (min_child_weight, 3)]</td>\n",
       "    </tr>\n",
       "    <tr>\n",
       "      <th>56</th>\n",
       "      <td>56</td>\n",
       "      <td>0.951432</td>\n",
       "      <td>[(scaling_method, maxabs), (encoding_method, onehot), (drop, None), (n_estimators, 842), (learning_rate, 0.09154124161051745), (max_depth, 4), (subsample, 0.4905394952545925), (colsample_bytree, 0.7323398631820065), (min_child_weight, 4)]</td>\n",
       "    </tr>\n",
       "    <tr>\n",
       "      <th>175</th>\n",
       "      <td>175</td>\n",
       "      <td>0.951419</td>\n",
       "      <td>[(scaling_method, standard), (encoding_method, onehot), (drop, None), (n_estimators, 976), (learning_rate, 0.04667104346155532), (max_depth, 4), (subsample, 0.6370173127506598), (colsample_bytree, 0.5532281916053389), (min_child_weight, 3)]</td>\n",
       "    </tr>\n",
       "    <tr>\n",
       "      <th>122</th>\n",
       "      <td>122</td>\n",
       "      <td>0.951414</td>\n",
       "      <td>[(scaling_method, robust), (encoding_method, onehot), (drop, None), (n_estimators, 876), (learning_rate, 0.04537371525589987), (max_depth, 4), (subsample, 0.6362315012721145), (colsample_bytree, 0.7778835452986814), (min_child_weight, 3)]</td>\n",
       "    </tr>\n",
       "    <tr>\n",
       "      <th>116</th>\n",
       "      <td>116</td>\n",
       "      <td>0.951389</td>\n",
       "      <td>[(scaling_method, standard), (encoding_method, onehot), (drop, None), (n_estimators, 919), (learning_rate, 0.047482758961960705), (max_depth, 4), (subsample, 0.5506943266106968), (colsample_bytree, 0.5776828516731426), (min_child_weight, 3)]</td>\n",
       "    </tr>\n",
       "    <tr>\n",
       "      <th>149</th>\n",
       "      <td>149</td>\n",
       "      <td>0.951388</td>\n",
       "      <td>[(scaling_method, standard), (encoding_method, onehot), (drop, first), (n_estimators, 963), (learning_rate, 0.03770850420931836), (max_depth, 4), (subsample, 0.5642476294584193), (colsample_bytree, 0.5453821949383174), (min_child_weight, 3)]</td>\n",
       "    </tr>\n",
       "    <tr>\n",
       "      <th>32</th>\n",
       "      <td>32</td>\n",
       "      <td>0.951368</td>\n",
       "      <td>[(scaling_method, standard), (encoding_method, onehot), (drop, None), (n_estimators, 825), (learning_rate, 0.0633557390420292), (max_depth, 3), (subsample, 0.43083837680973097), (colsample_bytree, 0.6639364059217894), (min_child_weight, 4)]</td>\n",
       "    </tr>\n",
       "    <tr>\n",
       "      <th>72</th>\n",
       "      <td>72</td>\n",
       "      <td>0.951259</td>\n",
       "      <td>[(scaling_method, standard), (encoding_method, onehot), (drop, None), (n_estimators, 836), (learning_rate, 0.06098549954349969), (max_depth, 4), (subsample, 0.44603771652553886), (colsample_bytree, 0.5696930291785585), (min_child_weight, 4)]</td>\n",
       "    </tr>\n",
       "    <tr>\n",
       "      <th>169</th>\n",
       "      <td>169</td>\n",
       "      <td>0.951254</td>\n",
       "      <td>[(scaling_method, maxabs), (encoding_method, onehot), (drop, None), (n_estimators, 1000), (learning_rate, 0.02907925395885243), (max_depth, 4), (subsample, 0.5800596968749477), (colsample_bytree, 0.5203994673767285), (min_child_weight, 3)]</td>\n",
       "    </tr>\n",
       "    <tr>\n",
       "      <th>43</th>\n",
       "      <td>43</td>\n",
       "      <td>0.951249</td>\n",
       "      <td>[(scaling_method, standard), (encoding_method, onehot), (drop, None), (n_estimators, 768), (learning_rate, 0.058708576512874006), (max_depth, 3), (subsample, 0.4217194893229429), (colsample_bytree, 0.6118020489115675), (min_child_weight, 4)]</td>\n",
       "    </tr>\n",
       "    <tr>\n",
       "      <th>187</th>\n",
       "      <td>187</td>\n",
       "      <td>0.951233</td>\n",
       "      <td>[(scaling_method, standard), (encoding_method, onehot), (drop, None), (n_estimators, 982), (learning_rate, 0.04603695044238688), (max_depth, 4), (subsample, 0.5519116363809147), (colsample_bytree, 0.5410392506165588), (min_child_weight, 3)]</td>\n",
       "    </tr>\n",
       "    <tr>\n",
       "      <th>64</th>\n",
       "      <td>64</td>\n",
       "      <td>0.951190</td>\n",
       "      <td>[(scaling_method, minmax), (encoding_method, onehot), (drop, None), (n_estimators, 809), (learning_rate, 0.05185357281894903), (max_depth, 4), (subsample, 0.36306012279158645), (colsample_bytree, 0.752193401428429), (min_child_weight, 4)]</td>\n",
       "    </tr>\n",
       "    <tr>\n",
       "      <th>83</th>\n",
       "      <td>83</td>\n",
       "      <td>0.951175</td>\n",
       "      <td>[(scaling_method, standard), (encoding_method, onehot), (drop, None), (n_estimators, 938), (learning_rate, 0.031787966738374356), (max_depth, 4), (subsample, 0.5612832929570061), (colsample_bytree, 0.5000475314191094), (min_child_weight, 3)]</td>\n",
       "    </tr>\n",
       "    <tr>\n",
       "      <th>15</th>\n",
       "      <td>15</td>\n",
       "      <td>0.951158</td>\n",
       "      <td>[(scaling_method, standard), (encoding_method, onehot), (drop, None), (n_estimators, 798), (learning_rate, 0.047391052672483856), (max_depth, 4), (subsample, 0.4067000903264162), (colsample_bytree, 0.7478025594512815), (min_child_weight, 4)]</td>\n",
       "    </tr>\n",
       "    <tr>\n",
       "      <th>22</th>\n",
       "      <td>22</td>\n",
       "      <td>0.951057</td>\n",
       "      <td>[(scaling_method, standard), (encoding_method, onehot), (drop, None), (n_estimators, 689), (learning_rate, 0.04973463715370684), (max_depth, 4), (subsample, 0.460083800904819), (colsample_bytree, 0.8130556238937897), (min_child_weight, 4)]</td>\n",
       "    </tr>\n",
       "    <tr>\n",
       "      <th>180</th>\n",
       "      <td>180</td>\n",
       "      <td>0.951015</td>\n",
       "      <td>[(scaling_method, standard), (encoding_method, onehot), (drop, first), (n_estimators, 957), (learning_rate, 0.05546334995290439), (max_depth, 4), (subsample, 0.6013591215047353), (colsample_bytree, 0.5500115244935909), (min_child_weight, 3)]</td>\n",
       "    </tr>\n",
       "    <tr>\n",
       "      <th>27</th>\n",
       "      <td>27</td>\n",
       "      <td>0.950964</td>\n",
       "      <td>[(scaling_method, standard), (encoding_method, onehot), (drop, None), (n_estimators, 824), (learning_rate, 0.06481525771599732), (max_depth, 3), (subsample, 0.5663178703879708), (colsample_bytree, 0.6713616769508152), (min_child_weight, 4)]</td>\n",
       "    </tr>\n",
       "    <tr>\n",
       "      <th>103</th>\n",
       "      <td>103</td>\n",
       "      <td>0.950951</td>\n",
       "      <td>[(scaling_method, standard), (encoding_method, onehot), (drop, None), (n_estimators, 893), (learning_rate, 0.04228316989214218), (max_depth, 4), (subsample, 0.5750590730549623), (colsample_bytree, 0.5011231859034261), (min_child_weight, 3)]</td>\n",
       "    </tr>\n",
       "    <tr>\n",
       "      <th>138</th>\n",
       "      <td>138</td>\n",
       "      <td>0.950931</td>\n",
       "      <td>[(scaling_method, standard), (encoding_method, onehot), (drop, None), (n_estimators, 961), (learning_rate, 0.03151702501214211), (max_depth, 4), (subsample, 0.5030156986779167), (colsample_bytree, 0.5762780454989618), (min_child_weight, 3)]</td>\n",
       "    </tr>\n",
       "    <tr>\n",
       "      <th>112</th>\n",
       "      <td>112</td>\n",
       "      <td>0.950837</td>\n",
       "      <td>[(scaling_method, standard), (encoding_method, onehot), (drop, None), (n_estimators, 959), (learning_rate, 0.06352816060112834), (max_depth, 4), (subsample, 0.5757144329347235), (colsample_bytree, 0.5225074312533546), (min_child_weight, 3)]</td>\n",
       "    </tr>\n",
       "    <tr>\n",
       "      <th>47</th>\n",
       "      <td>47</td>\n",
       "      <td>0.950813</td>\n",
       "      <td>[(scaling_method, standard), (encoding_method, onehot), (drop, first), (n_estimators, 829), (learning_rate, 0.042226907002724696), (max_depth, 3), (subsample, 0.40397386309186856), (colsample_bytree, 0.6493312297794681), (min_child_weight, 1)]</td>\n",
       "    </tr>\n",
       "    <tr>\n",
       "      <th>148</th>\n",
       "      <td>148</td>\n",
       "      <td>0.950771</td>\n",
       "      <td>[(scaling_method, standard), (encoding_method, onehot), (drop, None), (n_estimators, 1000), (learning_rate, 0.05410530358706685), (max_depth, 4), (subsample, 0.6818539925823711), (colsample_bytree, 0.5268780879578792), (min_child_weight, 3)]</td>\n",
       "    </tr>\n",
       "    <tr>\n",
       "      <th>124</th>\n",
       "      <td>124</td>\n",
       "      <td>0.950756</td>\n",
       "      <td>[(scaling_method, standard), (encoding_method, onehot), (drop, None), (n_estimators, 934), (learning_rate, 0.057809154288921374), (max_depth, 4), (subsample, 0.6164474634132107), (colsample_bytree, 0.5350824400609016), (min_child_weight, 3)]</td>\n",
       "    </tr>\n",
       "    <tr>\n",
       "      <th>128</th>\n",
       "      <td>128</td>\n",
       "      <td>0.950740</td>\n",
       "      <td>[(scaling_method, minmax), (encoding_method, onehot), (drop, None), (n_estimators, 1000), (learning_rate, 0.06581468258053474), (max_depth, 4), (subsample, 0.5799782920550804), (colsample_bytree, 0.5501319741163797), (min_child_weight, 4)]</td>\n",
       "    </tr>\n",
       "    <tr>\n",
       "      <th>54</th>\n",
       "      <td>54</td>\n",
       "      <td>0.950735</td>\n",
       "      <td>[(scaling_method, standard), (encoding_method, onehot), (drop, None), (n_estimators, 931), (learning_rate, 0.029788987261082294), (max_depth, 4), (subsample, 0.6402097757161616), (colsample_bytree, 0.6587113500128999), (min_child_weight, 4)]</td>\n",
       "    </tr>\n",
       "    <tr>\n",
       "      <th>31</th>\n",
       "      <td>31</td>\n",
       "      <td>0.950716</td>\n",
       "      <td>[(scaling_method, standard), (encoding_method, onehot), (drop, None), (n_estimators, 793), (learning_rate, 0.06662733767657203), (max_depth, 3), (subsample, 0.5804943646135519), (colsample_bytree, 0.6655508398105485), (min_child_weight, 4)]</td>\n",
       "    </tr>\n",
       "    <tr>\n",
       "      <th>53</th>\n",
       "      <td>53</td>\n",
       "      <td>0.950666</td>\n",
       "      <td>[(scaling_method, standard), (encoding_method, onehot), (drop, None), (n_estimators, 893), (learning_rate, 0.03982404616996275), (max_depth, 4), (subsample, 0.4081071285413448), (colsample_bytree, 0.7207254099784625), (min_child_weight, 4)]</td>\n",
       "    </tr>\n",
       "    <tr>\n",
       "      <th>39</th>\n",
       "      <td>39</td>\n",
       "      <td>0.950644</td>\n",
       "      <td>[(scaling_method, robust), (encoding_method, onehot), (drop, first), (n_estimators, 810), (learning_rate, 0.09873302281050222), (max_depth, 3), (subsample, 0.3327976395193738), (colsample_bytree, 0.7836175564404917), (min_child_weight, 4)]</td>\n",
       "    </tr>\n",
       "    <tr>\n",
       "      <th>46</th>\n",
       "      <td>46</td>\n",
       "      <td>0.950544</td>\n",
       "      <td>[(scaling_method, maxabs), (encoding_method, onehot), (drop, None), (n_estimators, 868), (learning_rate, 0.07977665892922679), (max_depth, 3), (subsample, 0.604257887698297), (colsample_bytree, 0.5574166696308082), (min_child_weight, 4)]</td>\n",
       "    </tr>\n",
       "    <tr>\n",
       "      <th>51</th>\n",
       "      <td>51</td>\n",
       "      <td>0.950467</td>\n",
       "      <td>[(scaling_method, standard), (encoding_method, onehot), (drop, None), (n_estimators, 655), (learning_rate, 0.055705325059321784), (max_depth, 3), (subsample, 0.4339233780973017), (colsample_bytree, 0.6848917474882584), (min_child_weight, 4)]</td>\n",
       "    </tr>\n",
       "    <tr>\n",
       "      <th>21</th>\n",
       "      <td>21</td>\n",
       "      <td>0.950462</td>\n",
       "      <td>[(scaling_method, standard), (encoding_method, onehot), (drop, None), (n_estimators, 694), (learning_rate, 0.044444172994943326), (max_depth, 4), (subsample, 0.40445909774362404), (colsample_bytree, 0.7061072671597574), (min_child_weight, 4)]</td>\n",
       "    </tr>\n",
       "    <tr>\n",
       "      <th>33</th>\n",
       "      <td>33</td>\n",
       "      <td>0.950415</td>\n",
       "      <td>[(scaling_method, standard), (encoding_method, onehot), (drop, None), (n_estimators, 702), (learning_rate, 0.04700994412308481), (max_depth, 3), (subsample, 0.4317531393960828), (colsample_bytree, 0.6319610584402935), (min_child_weight, 4)]</td>\n",
       "    </tr>\n",
       "    <tr>\n",
       "      <th>114</th>\n",
       "      <td>114</td>\n",
       "      <td>0.950370</td>\n",
       "      <td>[(scaling_method, standard), (encoding_method, onehot), (drop, None), (n_estimators, 810), (learning_rate, 0.05584833355266446), (max_depth, 4), (subsample, 0.528643391510971), (colsample_bytree, 0.5325178738697474), (min_child_weight, 3)]</td>\n",
       "    </tr>\n",
       "    <tr>\n",
       "      <th>65</th>\n",
       "      <td>65</td>\n",
       "      <td>0.950359</td>\n",
       "      <td>[(scaling_method, standard), (encoding_method, onehot), (drop, None), (n_estimators, 722), (learning_rate, 0.04249423378391319), (max_depth, 4), (subsample, 0.2662546581725011), (colsample_bytree, 0.7138489407159679), (min_child_weight, 4)]</td>\n",
       "    </tr>\n",
       "    <tr>\n",
       "      <th>105</th>\n",
       "      <td>105</td>\n",
       "      <td>0.950337</td>\n",
       "      <td>[(scaling_method, standard), (encoding_method, onehot), (drop, None), (n_estimators, 968), (learning_rate, 0.054304472527003454), (max_depth, 4), (subsample, 0.6956922171185842), (colsample_bytree, 0.5215097350675066), (min_child_weight, 3)]</td>\n",
       "    </tr>\n",
       "    <tr>\n",
       "      <th>24</th>\n",
       "      <td>24</td>\n",
       "      <td>0.950326</td>\n",
       "      <td>[(scaling_method, standard), (encoding_method, onehot), (drop, None), (n_estimators, 982), (learning_rate, 0.059245798247765644), (max_depth, 3), (subsample, 0.28031885943555257), (colsample_bytree, 0.7666886629148627), (min_child_weight, 5)]</td>\n",
       "    </tr>\n",
       "    <tr>\n",
       "      <th>143</th>\n",
       "      <td>143</td>\n",
       "      <td>0.950322</td>\n",
       "      <td>[(scaling_method, standard), (encoding_method, onehot), (drop, None), (n_estimators, 972), (learning_rate, 0.03785139268096627), (max_depth, 4), (subsample, 0.5514162194142027), (colsample_bytree, 0.51356668429643), (min_child_weight, 3)]</td>\n",
       "    </tr>\n",
       "    <tr>\n",
       "      <th>44</th>\n",
       "      <td>44</td>\n",
       "      <td>0.950288</td>\n",
       "      <td>[(scaling_method, standard), (encoding_method, onehot), (drop, None), (n_estimators, 956), (learning_rate, 0.03403486706534832), (max_depth, 3), (subsample, 0.7502924963558425), (colsample_bytree, 0.6189330459034983), (min_child_weight, 4)]</td>\n",
       "    </tr>\n",
       "    <tr>\n",
       "      <th>96</th>\n",
       "      <td>96</td>\n",
       "      <td>0.950189</td>\n",
       "      <td>[(scaling_method, standard), (encoding_method, ordinal), (n_estimators, 917), (learning_rate, 0.044081018318051106), (max_depth, 4), (subsample, 0.6114930290253439), (colsample_bytree, 0.5330333973787846), (min_child_weight, 2)]</td>\n",
       "    </tr>\n",
       "    <tr>\n",
       "      <th>63</th>\n",
       "      <td>63</td>\n",
       "      <td>0.950096</td>\n",
       "      <td>[(scaling_method, maxabs), (encoding_method, onehot), (drop, None), (n_estimators, 845), (learning_rate, 0.06669732972994195), (max_depth, 4), (subsample, 0.308519083787203), (colsample_bytree, 0.7721243771984889), (min_child_weight, 4)]</td>\n",
       "    </tr>\n",
       "    <tr>\n",
       "      <th>144</th>\n",
       "      <td>144</td>\n",
       "      <td>0.950056</td>\n",
       "      <td>[(scaling_method, standard), (encoding_method, onehot), (drop, None), (n_estimators, 406), (learning_rate, 0.049975014490525285), (max_depth, 4), (subsample, 0.5990366498963211), (colsample_bytree, 0.5009419970518468), (min_child_weight, 3)]</td>\n",
       "    </tr>\n",
       "    <tr>\n",
       "      <th>168</th>\n",
       "      <td>168</td>\n",
       "      <td>0.950048</td>\n",
       "      <td>[(scaling_method, robust), (encoding_method, onehot), (drop, None), (n_estimators, 966), (learning_rate, 0.058355452888028805), (max_depth, 4), (subsample, 0.6471051729120239), (colsample_bytree, 0.5002909898942509), (min_child_weight, 3)]</td>\n",
       "    </tr>\n",
       "    <tr>\n",
       "      <th>130</th>\n",
       "      <td>130</td>\n",
       "      <td>0.950004</td>\n",
       "      <td>[(scaling_method, standard), (encoding_method, ordinal), (n_estimators, 965), (learning_rate, 0.038688798712991024), (max_depth, 4), (subsample, 0.5189530127140396), (colsample_bytree, 0.9798633239143697), (min_child_weight, 4)]</td>\n",
       "    </tr>\n",
       "    <tr>\n",
       "      <th>57</th>\n",
       "      <td>57</td>\n",
       "      <td>0.949993</td>\n",
       "      <td>[(scaling_method, maxabs), (encoding_method, onehot), (drop, first), (n_estimators, 954), (learning_rate, 0.09980714173196387), (max_depth, 3), (subsample, 0.49469420503819833), (colsample_bytree, 0.7305679000533077), (min_child_weight, 4)]</td>\n",
       "    </tr>\n",
       "    <tr>\n",
       "      <th>13</th>\n",
       "      <td>13</td>\n",
       "      <td>0.949938</td>\n",
       "      <td>[(scaling_method, standard), (encoding_method, onehot), (drop, None), (n_estimators, 714), (learning_rate, 0.0397794641187814), (max_depth, 4), (subsample, 0.37871350729210107), (colsample_bytree, 0.7245464695981462), (min_child_weight, 4)]</td>\n",
       "    </tr>\n",
       "    <tr>\n",
       "      <th>179</th>\n",
       "      <td>179</td>\n",
       "      <td>0.949915</td>\n",
       "      <td>[(scaling_method, standard), (encoding_method, onehot), (drop, None), (n_estimators, 914), (learning_rate, 0.04928702988227735), (max_depth, 4), (subsample, 0.6579084964261985), (colsample_bytree, 0.5320945982092451), (min_child_weight, 3)]</td>\n",
       "    </tr>\n",
       "    <tr>\n",
       "      <th>159</th>\n",
       "      <td>159</td>\n",
       "      <td>0.949821</td>\n",
       "      <td>[(scaling_method, minmax), (encoding_method, ordinal), (n_estimators, 999), (learning_rate, 0.03379167404799594), (max_depth, 4), (subsample, 0.6370986110616893), (colsample_bytree, 0.5000280260413144), (min_child_weight, 3)]</td>\n",
       "    </tr>\n",
       "    <tr>\n",
       "      <th>45</th>\n",
       "      <td>45</td>\n",
       "      <td>0.949784</td>\n",
       "      <td>[(scaling_method, minmax), (encoding_method, ordinal), (n_estimators, 772), (learning_rate, 0.058529325668706375), (max_depth, 3), (subsample, 0.3791936453699334), (colsample_bytree, 0.5894733099192515), (min_child_weight, 3)]</td>\n",
       "    </tr>\n",
       "    <tr>\n",
       "      <th>91</th>\n",
       "      <td>91</td>\n",
       "      <td>0.949761</td>\n",
       "      <td>[(scaling_method, standard), (encoding_method, onehot), (drop, None), (n_estimators, 914), (learning_rate, 0.05278614174012599), (max_depth, 4), (subsample, 0.6705316242623164), (colsample_bytree, 0.5702774859397934), (min_child_weight, 3)]</td>\n",
       "    </tr>\n",
       "    <tr>\n",
       "      <th>92</th>\n",
       "      <td>92</td>\n",
       "      <td>0.949726</td>\n",
       "      <td>[(scaling_method, standard), (encoding_method, onehot), (drop, None), (n_estimators, 873), (learning_rate, 0.025452700620830635), (max_depth, 4), (subsample, 0.5979731687560089), (colsample_bytree, 0.5086710177474951), (min_child_weight, 1)]</td>\n",
       "    </tr>\n",
       "    <tr>\n",
       "      <th>147</th>\n",
       "      <td>147</td>\n",
       "      <td>0.949650</td>\n",
       "      <td>[(scaling_method, standard), (encoding_method, onehot), (drop, None), (n_estimators, 943), (learning_rate, 0.030978983929007147), (max_depth, 4), (subsample, 0.6491361010555452), (colsample_bytree, 0.5382372250421088), (min_child_weight, 3)]</td>\n",
       "    </tr>\n",
       "    <tr>\n",
       "      <th>102</th>\n",
       "      <td>102</td>\n",
       "      <td>0.949607</td>\n",
       "      <td>[(scaling_method, standard), (encoding_method, onehot), (drop, None), (n_estimators, 921), (learning_rate, 0.03329414329613831), (max_depth, 4), (subsample, 0.5166425740628686), (colsample_bytree, 0.5070586284065997), (min_child_weight, 3)]</td>\n",
       "    </tr>\n",
       "    <tr>\n",
       "      <th>99</th>\n",
       "      <td>99</td>\n",
       "      <td>0.949521</td>\n",
       "      <td>[(scaling_method, robust), (encoding_method, onehot), (drop, None), (n_estimators, 979), (learning_rate, 0.05263794345892966), (max_depth, 4), (subsample, 0.7384877078873608), (colsample_bytree, 0.9031941696659809), (min_child_weight, 3)]</td>\n",
       "    </tr>\n",
       "    <tr>\n",
       "      <th>126</th>\n",
       "      <td>126</td>\n",
       "      <td>0.949452</td>\n",
       "      <td>[(scaling_method, standard), (encoding_method, onehot), (drop, first), (n_estimators, 831), (learning_rate, 0.028546753973955428), (max_depth, 4), (subsample, 0.5478557118902876), (colsample_bytree, 0.5213193737495136), (min_child_weight, 3)]</td>\n",
       "    </tr>\n",
       "    <tr>\n",
       "      <th>36</th>\n",
       "      <td>36</td>\n",
       "      <td>0.949384</td>\n",
       "      <td>[(scaling_method, standard), (encoding_method, onehot), (drop, None), (n_estimators, 637), (learning_rate, 0.07110441706969593), (max_depth, 4), (subsample, 0.238357312876637), (colsample_bytree, 0.550710244241414), (min_child_weight, 3)]</td>\n",
       "    </tr>\n",
       "    <tr>\n",
       "      <th>78</th>\n",
       "      <td>78</td>\n",
       "      <td>0.949338</td>\n",
       "      <td>[(scaling_method, standard), (encoding_method, ordinal), (n_estimators, 961), (learning_rate, 0.04731121763807573), (max_depth, 4), (subsample, 0.5901360160463529), (colsample_bytree, 0.5207941443611376), (min_child_weight, 3)]</td>\n",
       "    </tr>\n",
       "    <tr>\n",
       "      <th>34</th>\n",
       "      <td>34</td>\n",
       "      <td>0.949324</td>\n",
       "      <td>[(scaling_method, standard), (encoding_method, onehot), (drop, None), (n_estimators, 857), (learning_rate, 0.031123390392781725), (max_depth, 4), (subsample, 0.3482098538153208), (colsample_bytree, 0.5808662668216741), (min_child_weight, 5)]</td>\n",
       "    </tr>\n",
       "    <tr>\n",
       "      <th>80</th>\n",
       "      <td>80</td>\n",
       "      <td>0.949271</td>\n",
       "      <td>[(scaling_method, robust), (encoding_method, onehot), (drop, None), (n_estimators, 908), (learning_rate, 0.027305437112644736), (max_depth, 4), (subsample, 0.657366283428624), (colsample_bytree, 0.5395747428539072), (min_child_weight, 3)]</td>\n",
       "    </tr>\n",
       "    <tr>\n",
       "      <th>38</th>\n",
       "      <td>38</td>\n",
       "      <td>0.949265</td>\n",
       "      <td>[(scaling_method, minmax), (encoding_method, onehot), (drop, None), (n_estimators, 579), (learning_rate, 0.048017023471238866), (max_depth, 4), (subsample, 0.7157584732777649), (colsample_bytree, 0.8503372513092223), (min_child_weight, 4)]</td>\n",
       "    </tr>\n",
       "    <tr>\n",
       "      <th>4</th>\n",
       "      <td>4</td>\n",
       "      <td>0.949246</td>\n",
       "      <td>[(scaling_method, maxabs), (encoding_method, onehot), (drop, None), (n_estimators, 783), (learning_rate, 0.03190727718335504), (max_depth, 4), (subsample, 0.2378793418825126), (colsample_bytree, 0.6134047977794619), (min_child_weight, 4)]</td>\n",
       "    </tr>\n",
       "    <tr>\n",
       "      <th>110</th>\n",
       "      <td>110</td>\n",
       "      <td>0.949192</td>\n",
       "      <td>[(scaling_method, standard), (encoding_method, ordinal), (n_estimators, 879), (learning_rate, 0.051923551380736885), (max_depth, 4), (subsample, 0.7980548580559587), (colsample_bytree, 0.544603151881658), (min_child_weight, 3)]</td>\n",
       "    </tr>\n",
       "    <tr>\n",
       "      <th>29</th>\n",
       "      <td>29</td>\n",
       "      <td>0.949164</td>\n",
       "      <td>[(scaling_method, robust), (encoding_method, onehot), (drop, None), (n_estimators, 920), (learning_rate, 0.025607394808080226), (max_depth, 3), (subsample, 0.30284178066813316), (colsample_bytree, 0.7437036929866911), (min_child_weight, 1)]</td>\n",
       "    </tr>\n",
       "    <tr>\n",
       "      <th>95</th>\n",
       "      <td>95</td>\n",
       "      <td>0.949161</td>\n",
       "      <td>[(scaling_method, standard), (encoding_method, onehot), (drop, None), (n_estimators, 1000), (learning_rate, 0.02864743499349998), (max_depth, 4), (subsample, 0.7063851402593533), (colsample_bytree, 0.5524198768734881), (min_child_weight, 2)]</td>\n",
       "    </tr>\n",
       "    <tr>\n",
       "      <th>189</th>\n",
       "      <td>189</td>\n",
       "      <td>0.949098</td>\n",
       "      <td>[(scaling_method, standard), (encoding_method, ordinal), (n_estimators, 942), (learning_rate, 0.05635057521642982), (max_depth, 4), (subsample, 0.5721103601572344), (colsample_bytree, 0.5114848993877089), (min_child_weight, 3)]</td>\n",
       "    </tr>\n",
       "    <tr>\n",
       "      <th>98</th>\n",
       "      <td>98</td>\n",
       "      <td>0.949057</td>\n",
       "      <td>[(scaling_method, standard), (encoding_method, onehot), (drop, None), (n_estimators, 887), (learning_rate, 0.023656481515760056), (max_depth, 4), (subsample, 0.6689721108410434), (colsample_bytree, 0.5568582769795728), (min_child_weight, 3)]</td>\n",
       "    </tr>\n",
       "    <tr>\n",
       "      <th>17</th>\n",
       "      <td>17</td>\n",
       "      <td>0.948851</td>\n",
       "      <td>[(scaling_method, standard), (encoding_method, onehot), (drop, None), (n_estimators, 329), (learning_rate, 0.05234945230445804), (max_depth, 4), (subsample, 0.43994892694634324), (colsample_bytree, 0.7050224514266739), (min_child_weight, 4)]</td>\n",
       "    </tr>\n",
       "    <tr>\n",
       "      <th>100</th>\n",
       "      <td>100</td>\n",
       "      <td>0.948844</td>\n",
       "      <td>[(scaling_method, standard), (encoding_method, onehot), (drop, None), (n_estimators, 945), (learning_rate, 0.019784919016384662), (max_depth, 4), (subsample, 0.6330123063387744), (colsample_bytree, 0.5481958031380743), (min_child_weight, 2)]</td>\n",
       "    </tr>\n",
       "    <tr>\n",
       "      <th>186</th>\n",
       "      <td>186</td>\n",
       "      <td>0.948676</td>\n",
       "      <td>[(scaling_method, standard), (encoding_method, onehot), (drop, None), (n_estimators, 932), (learning_rate, 0.06312099831608087), (max_depth, 4), (subsample, 0.5286047829690999), (colsample_bytree, 0.5012253153026291), (min_child_weight, 3)]</td>\n",
       "    </tr>\n",
       "    <tr>\n",
       "      <th>118</th>\n",
       "      <td>118</td>\n",
       "      <td>0.948641</td>\n",
       "      <td>[(scaling_method, standard), (encoding_method, onehot), (drop, None), (n_estimators, 953), (learning_rate, 0.07063990399551874), (max_depth, 4), (subsample, 0.4804286624289002), (colsample_bytree, 0.5534034591461701), (min_child_weight, 2)]</td>\n",
       "    </tr>\n",
       "    <tr>\n",
       "      <th>132</th>\n",
       "      <td>132</td>\n",
       "      <td>0.948571</td>\n",
       "      <td>[(scaling_method, standard), (encoding_method, onehot), (drop, None), (n_estimators, 929), (learning_rate, 0.05535390050270173), (max_depth, 4), (subsample, 0.6112851434086759), (colsample_bytree, 0.5260878799394776), (min_child_weight, 3)]</td>\n",
       "    </tr>\n",
       "    <tr>\n",
       "      <th>42</th>\n",
       "      <td>42</td>\n",
       "      <td>0.948460</td>\n",
       "      <td>[(scaling_method, standard), (encoding_method, onehot), (drop, None), (n_estimators, 885), (learning_rate, 0.07510205062663165), (max_depth, 3), (subsample, 0.6824401559388008), (colsample_bytree, 0.675004135054794), (min_child_weight, 4)]</td>\n",
       "    </tr>\n",
       "    <tr>\n",
       "      <th>58</th>\n",
       "      <td>58</td>\n",
       "      <td>0.948266</td>\n",
       "      <td>[(scaling_method, maxabs), (encoding_method, onehot), (drop, None), (n_estimators, 852), (learning_rate, 0.08476139528316784), (max_depth, 4), (subsample, 0.5696225551194105), (colsample_bytree, 0.6981172785855054), (min_child_weight, 3)]</td>\n",
       "    </tr>\n",
       "    <tr>\n",
       "      <th>49</th>\n",
       "      <td>49</td>\n",
       "      <td>0.948256</td>\n",
       "      <td>[(scaling_method, robust), (encoding_method, ordinal), (n_estimators, 997), (learning_rate, 0.08240721365996945), (max_depth, 2), (subsample, 0.520403778295357), (colsample_bytree, 0.6051782982108307), (min_child_weight, 5)]</td>\n",
       "    </tr>\n",
       "    <tr>\n",
       "      <th>23</th>\n",
       "      <td>23</td>\n",
       "      <td>0.948142</td>\n",
       "      <td>[(scaling_method, standard), (encoding_method, onehot), (drop, None), (n_estimators, 873), (learning_rate, 0.019086552580620857), (max_depth, 4), (subsample, 0.5499300375224502), (colsample_bytree, 0.8244043229522998), (min_child_weight, 3)]</td>\n",
       "    </tr>\n",
       "    <tr>\n",
       "      <th>88</th>\n",
       "      <td>88</td>\n",
       "      <td>0.948068</td>\n",
       "      <td>[(scaling_method, minmax), (encoding_method, onehot), (drop, first), (n_estimators, 938), (learning_rate, 0.019147501431610953), (max_depth, 4), (subsample, 0.6310574549953281), (colsample_bytree, 0.5696746455766672), (min_child_weight, 2)]</td>\n",
       "    </tr>\n",
       "    <tr>\n",
       "      <th>55</th>\n",
       "      <td>55</td>\n",
       "      <td>0.948063</td>\n",
       "      <td>[(scaling_method, standard), (encoding_method, onehot), (drop, None), (n_estimators, 824), (learning_rate, 0.06499554044005938), (max_depth, 3), (subsample, 0.5447255766810911), (colsample_bytree, 0.6877576511022102), (min_child_weight, 4)]</td>\n",
       "    </tr>\n",
       "    <tr>\n",
       "      <th>117</th>\n",
       "      <td>117</td>\n",
       "      <td>0.947999</td>\n",
       "      <td>[(scaling_method, standard), (encoding_method, onehot), (drop, None), (n_estimators, 861), (learning_rate, 0.06116293127997311), (max_depth, 4), (subsample, 0.9601083740648362), (colsample_bytree, 0.5018486371252276), (min_child_weight, 3)]</td>\n",
       "    </tr>\n",
       "    <tr>\n",
       "      <th>111</th>\n",
       "      <td>111</td>\n",
       "      <td>0.947859</td>\n",
       "      <td>[(scaling_method, standard), (encoding_method, onehot), (drop, None), (n_estimators, 858), (learning_rate, 0.07113897054483087), (max_depth, 4), (subsample, 0.6260323805489171), (colsample_bytree, 0.5609036182073875), (min_child_weight, 1)]</td>\n",
       "    </tr>\n",
       "    <tr>\n",
       "      <th>70</th>\n",
       "      <td>70</td>\n",
       "      <td>0.947148</td>\n",
       "      <td>[(scaling_method, maxabs), (encoding_method, onehot), (drop, None), (n_estimators, 525), (learning_rate, 0.03543469282093258), (max_depth, 4), (subsample, 0.3807647526056799), (colsample_bytree, 0.7576854110654505), (min_child_weight, 4)]</td>\n",
       "    </tr>\n",
       "    <tr>\n",
       "      <th>73</th>\n",
       "      <td>73</td>\n",
       "      <td>0.946983</td>\n",
       "      <td>[(scaling_method, standard), (encoding_method, onehot), (drop, None), (n_estimators, 744), (learning_rate, 0.07150715958441867), (max_depth, 4), (subsample, 0.509399435733443), (colsample_bytree, 0.6771240056977652), (min_child_weight, 4)]</td>\n",
       "    </tr>\n",
       "    <tr>\n",
       "      <th>129</th>\n",
       "      <td>129</td>\n",
       "      <td>0.946966</td>\n",
       "      <td>[(scaling_method, standard), (encoding_method, onehot), (drop, None), (n_estimators, 440), (learning_rate, 0.04789531364622056), (max_depth, 4), (subsample, 0.18505073059681573), (colsample_bytree, 0.6018931476472097), (min_child_weight, 3)]</td>\n",
       "    </tr>\n",
       "    <tr>\n",
       "      <th>67</th>\n",
       "      <td>67</td>\n",
       "      <td>0.946857</td>\n",
       "      <td>[(scaling_method, standard), (encoding_method, onehot), (drop, None), (n_estimators, 787), (learning_rate, 0.08978858148170225), (max_depth, 4), (subsample, 0.6146630045505043), (colsample_bytree, 0.7311879681120449), (min_child_weight, 5)]</td>\n",
       "    </tr>\n",
       "    <tr>\n",
       "      <th>127</th>\n",
       "      <td>127</td>\n",
       "      <td>0.946632</td>\n",
       "      <td>[(scaling_method, standard), (encoding_method, onehot), (drop, None), (n_estimators, 890), (learning_rate, 0.03608508471878297), (max_depth, 2), (subsample, 0.6460638693550014), (colsample_bytree, 0.8338823153923621), (min_child_weight, 2)]</td>\n",
       "    </tr>\n",
       "    <tr>\n",
       "      <th>2</th>\n",
       "      <td>2</td>\n",
       "      <td>0.946490</td>\n",
       "      <td>[(scaling_method, robust), (encoding_method, onehot), (drop, None), (n_estimators, 897), (learning_rate, 0.07970385240736814), (max_depth, 2), (subsample, 0.6934542266597595), (colsample_bytree, 0.5577068357977943), (min_child_weight, 5)]</td>\n",
       "    </tr>\n",
       "    <tr>\n",
       "      <th>28</th>\n",
       "      <td>28</td>\n",
       "      <td>0.945658</td>\n",
       "      <td>[(scaling_method, minmax), (encoding_method, onehot), (drop, first), (n_estimators, 551), (learning_rate, 0.09855248402855467), (max_depth, 4), (subsample, 0.49567245987555175), (colsample_bytree, 0.8584816973936492), (min_child_weight, 5)]</td>\n",
       "    </tr>\n",
       "    <tr>\n",
       "      <th>37</th>\n",
       "      <td>37</td>\n",
       "      <td>0.945618</td>\n",
       "      <td>[(scaling_method, standard), (encoding_method, ordinal), (n_estimators, 929), (learning_rate, 0.03682927451702668), (max_depth, 2), (subsample, 0.473768038186032), (colsample_bytree, 0.7390424049423115), (min_child_weight, 5)]</td>\n",
       "    </tr>\n",
       "    <tr>\n",
       "      <th>26</th>\n",
       "      <td>26</td>\n",
       "      <td>0.945273</td>\n",
       "      <td>[(scaling_method, standard), (encoding_method, ordinal), (n_estimators, 626), (learning_rate, 0.03665728590234853), (max_depth, 4), (subsample, 0.771183165613654), (colsample_bytree, 0.8276244300152987), (min_child_weight, 3)]</td>\n",
       "    </tr>\n",
       "    <tr>\n",
       "      <th>50</th>\n",
       "      <td>50</td>\n",
       "      <td>0.945247</td>\n",
       "      <td>[(scaling_method, standard), (encoding_method, onehot), (drop, None), (n_estimators, 773), (learning_rate, 0.02211899739414929), (max_depth, 3), (subsample, 0.23330635463689187), (colsample_bytree, 0.5233698595895443), (min_child_weight, 2)]</td>\n",
       "    </tr>\n",
       "    <tr>\n",
       "      <th>146</th>\n",
       "      <td>146</td>\n",
       "      <td>0.944186</td>\n",
       "      <td>[(scaling_method, robust), (encoding_method, onehot), (drop, None), (n_estimators, 883), (learning_rate, 0.040704173041273474), (max_depth, 4), (subsample, 0.1072551826751465), (colsample_bytree, 0.5092850508913596), (min_child_weight, 3)]</td>\n",
       "    </tr>\n",
       "    <tr>\n",
       "      <th>158</th>\n",
       "      <td>158</td>\n",
       "      <td>0.944003</td>\n",
       "      <td>[(scaling_method, standard), (encoding_method, onehot), (drop, None), (n_estimators, 962), (learning_rate, 0.01288321650876376), (max_depth, 4), (subsample, 0.6648151784081523), (colsample_bytree, 0.5193159596676827), (min_child_weight, 3)]</td>\n",
       "    </tr>\n",
       "    <tr>\n",
       "      <th>35</th>\n",
       "      <td>35</td>\n",
       "      <td>0.943862</td>\n",
       "      <td>[(scaling_method, robust), (encoding_method, onehot), (drop, None), (n_estimators, 742), (learning_rate, 0.022518020384094138), (max_depth, 3), (subsample, 0.5151889380474837), (colsample_bytree, 0.6110828695020909), (min_child_weight, 4)]</td>\n",
       "    </tr>\n",
       "    <tr>\n",
       "      <th>20</th>\n",
       "      <td>20</td>\n",
       "      <td>0.943565</td>\n",
       "      <td>[(scaling_method, standard), (encoding_method, onehot), (drop, None), (n_estimators, 795), (learning_rate, 0.016426239722196482), (max_depth, 4), (subsample, 0.6590854659019745), (colsample_bytree, 0.585607942317437), (min_child_weight, 4)]</td>\n",
       "    </tr>\n",
       "    <tr>\n",
       "      <th>40</th>\n",
       "      <td>40</td>\n",
       "      <td>0.942334</td>\n",
       "      <td>[(scaling_method, maxabs), (encoding_method, onehot), (drop, None), (n_estimators, 730), (learning_rate, 0.02735036824125526), (max_depth, 2), (subsample, 0.530142890005902), (colsample_bytree, 0.6418755244170449), (min_child_weight, 5)]</td>\n",
       "    </tr>\n",
       "    <tr>\n",
       "      <th>66</th>\n",
       "      <td>66</td>\n",
       "      <td>0.940379</td>\n",
       "      <td>[(scaling_method, standard), (encoding_method, onehot), (drop, None), (n_estimators, 670), (learning_rate, 0.07762419085523724), (max_depth, 4), (subsample, 0.16585966110263134), (colsample_bytree, 0.7667749690150173), (min_child_weight, 3)]</td>\n",
       "    </tr>\n",
       "    <tr>\n",
       "      <th>10</th>\n",
       "      <td>10</td>\n",
       "      <td>0.940155</td>\n",
       "      <td>[(scaling_method, maxabs), (encoding_method, ordinal), (n_estimators, 768), (learning_rate, 0.08611588402856334), (max_depth, 3), (subsample, 0.15696372388351376), (colsample_bytree, 0.5113140129996083), (min_child_weight, 4)]</td>\n",
       "    </tr>\n",
       "    <tr>\n",
       "      <th>5</th>\n",
       "      <td>5</td>\n",
       "      <td>0.939594</td>\n",
       "      <td>[(scaling_method, minmax), (encoding_method, ordinal), (n_estimators, 440), (learning_rate, 0.023198013756713296), (max_depth, 4), (subsample, 0.7212576579631054), (colsample_bytree, 0.9438912615381984), (min_child_weight, 2)]</td>\n",
       "    </tr>\n",
       "    <tr>\n",
       "      <th>104</th>\n",
       "      <td>104</td>\n",
       "      <td>0.938451</td>\n",
       "      <td>[(scaling_method, standard), (encoding_method, onehot), (drop, None), (n_estimators, 235), (learning_rate, 0.03682844144897991), (max_depth, 4), (subsample, 0.6043321692132864), (colsample_bytree, 0.529942048356702), (min_child_weight, 3)]</td>\n",
       "    </tr>\n",
       "    <tr>\n",
       "      <th>59</th>\n",
       "      <td>59</td>\n",
       "      <td>0.936917</td>\n",
       "      <td>[(scaling_method, maxabs), (encoding_method, onehot), (drop, None), (n_estimators, 755), (learning_rate, 0.01365127944383386), (max_depth, 3), (subsample, 0.6857844128277272), (colsample_bytree, 0.6299597470824319), (min_child_weight, 5)]</td>\n",
       "    </tr>\n",
       "    <tr>\n",
       "      <th>150</th>\n",
       "      <td>150</td>\n",
       "      <td>0.934953</td>\n",
       "      <td>[(scaling_method, standard), (encoding_method, onehot), (drop, None), (n_estimators, 856), (learning_rate, 0.009119894679612897), (max_depth, 4), (subsample, 0.6227944601535899), (colsample_bytree, 0.9209177652530494), (min_child_weight, 3)]</td>\n",
       "    </tr>\n",
       "    <tr>\n",
       "      <th>0</th>\n",
       "      <td>0</td>\n",
       "      <td>0.934667</td>\n",
       "      <td>[(scaling_method, robust), (encoding_method, onehot), (drop, None), (n_estimators, 475), (learning_rate, 0.024978041209914686), (max_depth, 2), (subsample, 0.3669553381298013), (colsample_bytree, 0.8770501936980049), (min_child_weight, 2)]</td>\n",
       "    </tr>\n",
       "    <tr>\n",
       "      <th>11</th>\n",
       "      <td>11</td>\n",
       "      <td>0.934498</td>\n",
       "      <td>[(scaling_method, maxabs), (encoding_method, onehot), (drop, None), (n_estimators, 915), (learning_rate, 0.07974449183044309), (max_depth, 3), (subsample, 0.10180662406426866), (colsample_bytree, 0.5029010467607454), (min_child_weight, 5)]</td>\n",
       "    </tr>\n",
       "    <tr>\n",
       "      <th>8</th>\n",
       "      <td>8</td>\n",
       "      <td>0.933531</td>\n",
       "      <td>[(scaling_method, minmax), (encoding_method, onehot), (drop, None), (n_estimators, 562), (learning_rate, 0.014190472676294379), (max_depth, 4), (subsample, 0.8992376149624356), (colsample_bytree, 0.8973343921688415), (min_child_weight, 5)]</td>\n",
       "    </tr>\n",
       "    <tr>\n",
       "      <th>177</th>\n",
       "      <td>177</td>\n",
       "      <td>0.931472</td>\n",
       "      <td>[(scaling_method, standard), (encoding_method, onehot), (drop, None), (n_estimators, 129), (learning_rate, 0.06037108931307424), (max_depth, 4), (subsample, 0.5997489805023045), (colsample_bytree, 0.5066347349827721), (min_child_weight, 3)]</td>\n",
       "    </tr>\n",
       "    <tr>\n",
       "      <th>25</th>\n",
       "      <td>25</td>\n",
       "      <td>0.929843</td>\n",
       "      <td>[(scaling_method, standard), (encoding_method, onehot), (drop, None), (n_estimators, 745), (learning_rate, 0.009681056665650074), (max_depth, 4), (subsample, 0.46284324273362576), (colsample_bytree, 0.9903299056449928), (min_child_weight, 4)]</td>\n",
       "    </tr>\n",
       "    <tr>\n",
       "      <th>14</th>\n",
       "      <td>14</td>\n",
       "      <td>0.929237</td>\n",
       "      <td>[(scaling_method, standard), (encoding_method, ordinal), (n_estimators, 677), (learning_rate, 0.010491864708705173), (max_depth, 4), (subsample, 0.6213820095830929), (colsample_bytree, 0.7574052781594777), (min_child_weight, 3)]</td>\n",
       "    </tr>\n",
       "    <tr>\n",
       "      <th>19</th>\n",
       "      <td>19</td>\n",
       "      <td>0.927302</td>\n",
       "      <td>[(scaling_method, standard), (encoding_method, onehot), (drop, first), (n_estimators, 140), (learning_rate, 0.0530561429674577), (max_depth, 4), (subsample, 0.287551892168741), (colsample_bytree, 0.6906448985388419), (min_child_weight, 5)]</td>\n",
       "    </tr>\n",
       "    <tr>\n",
       "      <th>6</th>\n",
       "      <td>6</td>\n",
       "      <td>0.899299</td>\n",
       "      <td>[(scaling_method, minmax), (encoding_method, onehot), (drop, first), (n_estimators, 222), (learning_rate, 0.029553324376275027), (max_depth, 2), (subsample, 0.8027045236665274), (colsample_bytree, 0.9477313907890869), (min_child_weight, 2)]</td>\n",
       "    </tr>\n",
       "    <tr>\n",
       "      <th>68</th>\n",
       "      <td>68</td>\n",
       "      <td>0.861053</td>\n",
       "      <td>[(scaling_method, standard), (encoding_method, onehot), (drop, None), (n_estimators, 711), (learning_rate, 0.007428619903766021), (max_depth, 4), (subsample, 0.32384631892186777), (colsample_bytree, 0.8120015177420874), (min_child_weight, 4)]</td>\n",
       "    </tr>\n",
       "    <tr>\n",
       "      <th>30</th>\n",
       "      <td>30</td>\n",
       "      <td>0.857972</td>\n",
       "      <td>[(scaling_method, standard), (encoding_method, onehot), (drop, None), (n_estimators, 487), (learning_rate, 0.010463185713603128), (max_depth, 4), (subsample, 0.6428368830901725), (colsample_bytree, 0.794344040387567), (min_child_weight, 3)]</td>\n",
       "    </tr>\n",
       "    <tr>\n",
       "      <th>16</th>\n",
       "      <td>16</td>\n",
       "      <td>0.761657</td>\n",
       "      <td>[(scaling_method, standard), (encoding_method, onehot), (drop, None), (n_estimators, 842), (learning_rate, 0.005404291134180695), (max_depth, 3), (subsample, 0.9669335807392059), (colsample_bytree, 0.786678185168821), (min_child_weight, 3)]</td>\n",
       "    </tr>\n",
       "    <tr>\n",
       "      <th>9</th>\n",
       "      <td>9</td>\n",
       "      <td>0.597947</td>\n",
       "      <td>[(scaling_method, maxabs), (encoding_method, onehot), (drop, first), (n_estimators, 983), (learning_rate, 0.004265550219001116), (max_depth, 3), (subsample, 0.3685162719177343), (colsample_bytree, 0.8929034279923462), (min_child_weight, 2)]</td>\n",
       "    </tr>\n",
       "    <tr>\n",
       "      <th>190</th>\n",
       "      <td>190</td>\n",
       "      <td>0.510250</td>\n",
       "      <td>[(scaling_method, standard), (encoding_method, onehot), (drop, None), (n_estimators, 983), (learning_rate, 0.00404750224597804), (max_depth, 4), (subsample, 0.6152054204439683), (colsample_bytree, 0.5675369221434724), (min_child_weight, 3)]</td>\n",
       "    </tr>\n",
       "    <tr>\n",
       "      <th>48</th>\n",
       "      <td>48</td>\n",
       "      <td>-3.209958</td>\n",
       "      <td>[(scaling_method, standard), (encoding_method, onehot), (drop, None), (n_estimators, 424), (learning_rate, 0.005225847069261641), (max_depth, 3), (subsample, 0.8423995539297795), (colsample_bytree, 0.7098950222407459), (min_child_weight, 3)]</td>\n",
       "    </tr>\n",
       "    <tr>\n",
       "      <th>69</th>\n",
       "      <td>69</td>\n",
       "      <td>-4.278398</td>\n",
       "      <td>[(scaling_method, standard), (encoding_method, onehot), (drop, first), (n_estimators, 612), (learning_rate, 0.003180535834419085), (max_depth, 4), (subsample, 0.46030725341278156), (colsample_bytree, 0.7917283592606461), (min_child_weight, 4)]</td>\n",
       "    </tr>\n",
       "    <tr>\n",
       "      <th>60</th>\n",
       "      <td>60</td>\n",
       "      <td>-5.910941</td>\n",
       "      <td>[(scaling_method, maxabs), (encoding_method, ordinal), (n_estimators, 898), (learning_rate, 0.001561454677509108), (max_depth, 4), (subsample, 0.48430319009830197), (colsample_bytree, 0.6513700186269376), (min_child_weight, 4)]</td>\n",
       "    </tr>\n",
       "    <tr>\n",
       "      <th>1</th>\n",
       "      <td>1</td>\n",
       "      <td>-6.163066</td>\n",
       "      <td>[(scaling_method, standard), (encoding_method, onehot), (drop, first), (n_estimators, 492), (learning_rate, 0.002575169388675062), (max_depth, 4), (subsample, 0.4915144462142802), (colsample_bytree, 0.6532977635113766), (min_child_weight, 1)]</td>\n",
       "    </tr>\n",
       "    <tr>\n",
       "      <th>3</th>\n",
       "      <td>3</td>\n",
       "      <td>-6.347293</td>\n",
       "      <td>[(scaling_method, robust), (encoding_method, ordinal), (n_estimators, 596), (learning_rate, 0.0019054757708370338), (max_depth, 2), (subsample, 0.5207419435989612), (colsample_bytree, 0.9366398860913907), (min_child_weight, 3)]</td>\n",
       "    </tr>\n",
       "    <tr>\n",
       "      <th>7</th>\n",
       "      <td>7</td>\n",
       "      <td>-6.465772</td>\n",
       "      <td>[(scaling_method, robust), (encoding_method, onehot), (drop, None), (n_estimators, 430), (learning_rate, 0.00236275265262563), (max_depth, 2), (subsample, 0.815981948430195), (colsample_bytree, 0.6373099693942408), (min_child_weight, 4)]</td>\n",
       "    </tr>\n",
       "    <tr>\n",
       "      <th>173</th>\n",
       "      <td>173</td>\n",
       "      <td>-6.510039</td>\n",
       "      <td>[(scaling_method, standard), (encoding_method, onehot), (drop, None), (n_estimators, 946), (learning_rate, 0.0010161698445479781), (max_depth, 4), (subsample, 0.6557888522390117), (colsample_bytree, 0.5362084592071534), (min_child_weight, 3)]</td>\n",
       "    </tr>\n",
       "    <tr>\n",
       "      <th>18</th>\n",
       "      <td>18</td>\n",
       "      <td>-6.637613</td>\n",
       "      <td>[(scaling_method, standard), (encoding_method, ordinal), (n_estimators, 648), (learning_rate, 0.0010067238462570039), (max_depth, 3), (subsample, 0.5955648102937842), (colsample_bytree, 0.8173571053889588), (min_child_weight, 3)]</td>\n",
       "    </tr>\n",
       "  </tbody>\n",
       "</table>\n",
       "</div>"
      ],
      "text/plain": [
       "     Trial     Score  \\\n",
       "76      76  0.953879   \n",
       "154    154  0.953849   \n",
       "161    161  0.953627   \n",
       "155    155  0.953577   \n",
       "142    142  0.953422   \n",
       "85      85  0.953407   \n",
       "181    181  0.953403   \n",
       "133    133  0.953348   \n",
       "81      81  0.953341   \n",
       "152    152  0.953248   \n",
       "101    101  0.953241   \n",
       "163    163  0.953186   \n",
       "182    182  0.953184   \n",
       "157    157  0.953098   \n",
       "176    176  0.953093   \n",
       "170    170  0.953053   \n",
       "131    131  0.953007   \n",
       "191    191  0.952972   \n",
       "174    174  0.952971   \n",
       "151    151  0.952963   \n",
       "185    185  0.952959   \n",
       "172    172  0.952932   \n",
       "188    188  0.952854   \n",
       "52      52  0.952843   \n",
       "162    162  0.952809   \n",
       "119    119  0.952774   \n",
       "82      82  0.952725   \n",
       "89      89  0.952722   \n",
       "153    153  0.952716   \n",
       "166    166  0.952712   \n",
       "195    195  0.952707   \n",
       "183    183  0.952614   \n",
       "94      94  0.952560   \n",
       "75      75  0.952558   \n",
       "134    134  0.952493   \n",
       "62      62  0.952420   \n",
       "84      84  0.952415   \n",
       "171    171  0.952365   \n",
       "192    192  0.952365   \n",
       "41      41  0.952320   \n",
       "156    156  0.952311   \n",
       "164    164  0.952286   \n",
       "77      77  0.952230   \n",
       "97      97  0.952224   \n",
       "115    115  0.952184   \n",
       "12      12  0.952159   \n",
       "193    193  0.952106   \n",
       "79      79  0.952105   \n",
       "106    106  0.952079   \n",
       "145    145  0.952058   \n",
       "121    121  0.952027   \n",
       "165    165  0.952024   \n",
       "184    184  0.952019   \n",
       "74      74  0.952000   \n",
       "86      86  0.951982   \n",
       "109    109  0.951971   \n",
       "123    123  0.951952   \n",
       "90      90  0.951920   \n",
       "198    198  0.951890   \n",
       "125    125  0.951849   \n",
       "167    167  0.951810   \n",
       "135    135  0.951766   \n",
       "71      71  0.951751   \n",
       "61      61  0.951726   \n",
       "160    160  0.951719   \n",
       "113    113  0.951718   \n",
       "87      87  0.951716   \n",
       "178    178  0.951714   \n",
       "137    137  0.951699   \n",
       "196    196  0.951697   \n",
       "120    120  0.951673   \n",
       "108    108  0.951661   \n",
       "199    199  0.951603   \n",
       "140    140  0.951583   \n",
       "197    197  0.951567   \n",
       "136    136  0.951562   \n",
       "93      93  0.951507   \n",
       "141    141  0.951502   \n",
       "194    194  0.951495   \n",
       "107    107  0.951479   \n",
       "139    139  0.951462   \n",
       "56      56  0.951432   \n",
       "175    175  0.951419   \n",
       "122    122  0.951414   \n",
       "116    116  0.951389   \n",
       "149    149  0.951388   \n",
       "32      32  0.951368   \n",
       "72      72  0.951259   \n",
       "169    169  0.951254   \n",
       "43      43  0.951249   \n",
       "187    187  0.951233   \n",
       "64      64  0.951190   \n",
       "83      83  0.951175   \n",
       "15      15  0.951158   \n",
       "22      22  0.951057   \n",
       "180    180  0.951015   \n",
       "27      27  0.950964   \n",
       "103    103  0.950951   \n",
       "138    138  0.950931   \n",
       "112    112  0.950837   \n",
       "47      47  0.950813   \n",
       "148    148  0.950771   \n",
       "124    124  0.950756   \n",
       "128    128  0.950740   \n",
       "54      54  0.950735   \n",
       "31      31  0.950716   \n",
       "53      53  0.950666   \n",
       "39      39  0.950644   \n",
       "46      46  0.950544   \n",
       "51      51  0.950467   \n",
       "21      21  0.950462   \n",
       "33      33  0.950415   \n",
       "114    114  0.950370   \n",
       "65      65  0.950359   \n",
       "105    105  0.950337   \n",
       "24      24  0.950326   \n",
       "143    143  0.950322   \n",
       "44      44  0.950288   \n",
       "96      96  0.950189   \n",
       "63      63  0.950096   \n",
       "144    144  0.950056   \n",
       "168    168  0.950048   \n",
       "130    130  0.950004   \n",
       "57      57  0.949993   \n",
       "13      13  0.949938   \n",
       "179    179  0.949915   \n",
       "159    159  0.949821   \n",
       "45      45  0.949784   \n",
       "91      91  0.949761   \n",
       "92      92  0.949726   \n",
       "147    147  0.949650   \n",
       "102    102  0.949607   \n",
       "99      99  0.949521   \n",
       "126    126  0.949452   \n",
       "36      36  0.949384   \n",
       "78      78  0.949338   \n",
       "34      34  0.949324   \n",
       "80      80  0.949271   \n",
       "38      38  0.949265   \n",
       "4        4  0.949246   \n",
       "110    110  0.949192   \n",
       "29      29  0.949164   \n",
       "95      95  0.949161   \n",
       "189    189  0.949098   \n",
       "98      98  0.949057   \n",
       "17      17  0.948851   \n",
       "100    100  0.948844   \n",
       "186    186  0.948676   \n",
       "118    118  0.948641   \n",
       "132    132  0.948571   \n",
       "42      42  0.948460   \n",
       "58      58  0.948266   \n",
       "49      49  0.948256   \n",
       "23      23  0.948142   \n",
       "88      88  0.948068   \n",
       "55      55  0.948063   \n",
       "117    117  0.947999   \n",
       "111    111  0.947859   \n",
       "70      70  0.947148   \n",
       "73      73  0.946983   \n",
       "129    129  0.946966   \n",
       "67      67  0.946857   \n",
       "127    127  0.946632   \n",
       "2        2  0.946490   \n",
       "28      28  0.945658   \n",
       "37      37  0.945618   \n",
       "26      26  0.945273   \n",
       "50      50  0.945247   \n",
       "146    146  0.944186   \n",
       "158    158  0.944003   \n",
       "35      35  0.943862   \n",
       "20      20  0.943565   \n",
       "40      40  0.942334   \n",
       "66      66  0.940379   \n",
       "10      10  0.940155   \n",
       "5        5  0.939594   \n",
       "104    104  0.938451   \n",
       "59      59  0.936917   \n",
       "150    150  0.934953   \n",
       "0        0  0.934667   \n",
       "11      11  0.934498   \n",
       "8        8  0.933531   \n",
       "177    177  0.931472   \n",
       "25      25  0.929843   \n",
       "14      14  0.929237   \n",
       "19      19  0.927302   \n",
       "6        6  0.899299   \n",
       "68      68  0.861053   \n",
       "30      30  0.857972   \n",
       "16      16  0.761657   \n",
       "9        9  0.597947   \n",
       "190    190  0.510250   \n",
       "48      48 -3.209958   \n",
       "69      69 -4.278398   \n",
       "60      60 -5.910941   \n",
       "1        1 -6.163066   \n",
       "3        3 -6.347293   \n",
       "7        7 -6.465772   \n",
       "173    173 -6.510039   \n",
       "18      18 -6.637613   \n",
       "\n",
       "                                                                                                                                                                                                                                              Parameters  \n",
       "76       [(scaling_method, standard), (encoding_method, onehot), (drop, None), (n_estimators, 905), (learning_rate, 0.04643973848790804), (max_depth, 4), (subsample, 0.5797329944770706), (colsample_bytree, 0.527504939004116), (min_child_weight, 3)]  \n",
       "154    [(scaling_method, standard), (encoding_method, onehot), (drop, None), (n_estimators, 981), (learning_rate, 0.047198601971795234), (max_depth, 4), (subsample, 0.5955423388155735), (colsample_bytree, 0.5091959392090488), (min_child_weight, 3)]  \n",
       "161     [(scaling_method, standard), (encoding_method, onehot), (drop, None), (n_estimators, 974), (learning_rate, 0.04740516101352134), (max_depth, 4), (subsample, 0.5914713646169084), (colsample_bytree, 0.5103526150143552), (min_child_weight, 3)]  \n",
       "155     [(scaling_method, standard), (encoding_method, onehot), (drop, None), (n_estimators, 978), (learning_rate, 0.04611315421181104), (max_depth, 4), (subsample, 0.6032259102409443), (colsample_bytree, 0.5097594989102657), (min_child_weight, 3)]  \n",
       "142     [(scaling_method, standard), (encoding_method, onehot), (drop, None), (n_estimators, 967), (learning_rate, 0.037077274389072025), (max_depth, 4), (subsample, 0.6052407177992929), (colsample_bytree, 0.509636780573371), (min_child_weight, 3)]  \n",
       "85     [(scaling_method, standard), (encoding_method, onehot), (drop, None), (n_estimators, 975), (learning_rate, 0.042596843254780296), (max_depth, 4), (subsample, 0.5904568978593641), (colsample_bytree, 0.5156085878989596), (min_child_weight, 2)]  \n",
       "181     [(scaling_method, standard), (encoding_method, onehot), (drop, None), (n_estimators, 982), (learning_rate, 0.042994378010402366), (max_depth, 4), (subsample, 0.568554119025959), (colsample_bytree, 0.5136219028880783), (min_child_weight, 3)]  \n",
       "133     [(scaling_method, standard), (encoding_method, onehot), (drop, None), (n_estimators, 951), (learning_rate, 0.04307704330028825), (max_depth, 4), (subsample, 0.5696307183664032), (colsample_bytree, 0.5380070898897199), (min_child_weight, 3)]  \n",
       "81      [(scaling_method, standard), (encoding_method, onehot), (drop, None), (n_estimators, 937), (learning_rate, 0.04021124807781962), (max_depth, 4), (subsample, 0.5555256528827893), (colsample_bytree, 0.5462831730811686), (min_child_weight, 3)]  \n",
       "152      [(scaling_method, standard), (encoding_method, onehot), (drop, None), (n_estimators, 971), (learning_rate, 0.0458436225743243), (max_depth, 4), (subsample, 0.5898992546162253), (colsample_bytree, 0.5152225243663119), (min_child_weight, 3)]  \n",
       "101     [(scaling_method, standard), (encoding_method, onehot), (drop, None), (n_estimators, 891), (learning_rate, 0.04224967750358373), (max_depth, 4), (subsample, 0.5784684134028454), (colsample_bytree, 0.5043757543218799), (min_child_weight, 3)]  \n",
       "163      [(scaling_method, standard), (encoding_method, onehot), (drop, None), (n_estimators, 961), (learning_rate, 0.03672746407988903), (max_depth, 4), (subsample, 0.621425353495312), (colsample_bytree, 0.5268148242093128), (min_child_weight, 3)]  \n",
       "182     [(scaling_method, standard), (encoding_method, onehot), (drop, None), (n_estimators, 986), (learning_rate, 0.04294686514545338), (max_depth, 4), (subsample, 0.5770486581805832), (colsample_bytree, 0.5131389330429184), (min_child_weight, 3)]  \n",
       "157     [(scaling_method, standard), (encoding_method, onehot), (drop, None), (n_estimators, 971), (learning_rate, 0.04017837085236566), (max_depth, 4), (subsample, 0.6402447227112047), (colsample_bytree, 0.5161833307186661), (min_child_weight, 3)]  \n",
       "176      [(scaling_method, standard), (encoding_method, onehot), (drop, None), (n_estimators, 932), (learning_rate, 0.0577118886316037), (max_depth, 4), (subsample, 0.5988882670413673), (colsample_bytree, 0.5110460150602332), (min_child_weight, 3)]  \n",
       "170     [(scaling_method, standard), (encoding_method, onehot), (drop, None), (n_estimators, 926), (learning_rate, 0.050464990038841154), (max_depth, 4), (subsample, 0.6213102469569971), (colsample_bytree, 0.540658074042023), (min_child_weight, 3)]  \n",
       "131    [(scaling_method, standard), (encoding_method, onehot), (drop, None), (n_estimators, 955), (learning_rate, 0.045506252364043494), (max_depth, 4), (subsample, 0.5836271691164954), (colsample_bytree, 0.5389608744338323), (min_child_weight, 3)]  \n",
       "191     [(scaling_method, standard), (encoding_method, onehot), (drop, None), (n_estimators, 966), (learning_rate, 0.042447133562614855), (max_depth, 4), (subsample, 0.582649716304958), (colsample_bytree, 0.5204587536963042), (min_child_weight, 3)]  \n",
       "174      [(scaling_method, standard), (encoding_method, onehot), (drop, None), (n_estimators, 970), (learning_rate, 0.04763207164745781), (max_depth, 4), (subsample, 0.6266472810324313), (colsample_bytree, 0.551815237255311), (min_child_weight, 3)]  \n",
       "151     [(scaling_method, standard), (encoding_method, onehot), (drop, None), (n_estimators, 981), (learning_rate, 0.04459304259245875), (max_depth, 4), (subsample, 0.6051842834282144), (colsample_bytree, 0.5268016593683302), (min_child_weight, 3)]  \n",
       "185     [(scaling_method, standard), (encoding_method, onehot), (drop, None), (n_estimators, 972), (learning_rate, 0.04236592812186963), (max_depth, 4), (subsample, 0.5780933387301103), (colsample_bytree, 0.5174771998787522), (min_child_weight, 3)]  \n",
       "172    [(scaling_method, standard), (encoding_method, onehot), (drop, None), (n_estimators, 951), (learning_rate, 0.047285563304888735), (max_depth, 4), (subsample, 0.6553672501117976), (colsample_bytree, 0.5302068992040255), (min_child_weight, 3)]  \n",
       "188     [(scaling_method, standard), (encoding_method, onehot), (drop, None), (n_estimators, 963), (learning_rate, 0.04157288688427919), (max_depth, 4), (subsample, 0.5919869259434356), (colsample_bytree, 0.5255479384125276), (min_child_weight, 3)]  \n",
       "52      [(scaling_method, standard), (encoding_method, onehot), (drop, None), (n_estimators, 830), (learning_rate, 0.04155081636892581), (max_depth, 4), (subsample, 0.4509109758118648), (colsample_bytree, 0.7291190973380179), (min_child_weight, 4)]  \n",
       "162     [(scaling_method, standard), (encoding_method, onehot), (drop, None), (n_estimators, 962), (learning_rate, 0.03735502849090528), (max_depth, 4), (subsample, 0.6159834329584103), (colsample_bytree, 0.5259732962153176), (min_child_weight, 3)]  \n",
       "119        [(scaling_method, robust), (encoding_method, onehot), (drop, None), (n_estimators, 843), (learning_rate, 0.04008605994261064), (max_depth, 4), (subsample, 0.590081651358694), (colsample_bytree, 0.5231700915859308), (min_child_weight, 3)]  \n",
       "82      [(scaling_method, standard), (encoding_method, onehot), (drop, None), (n_estimators, 942), (learning_rate, 0.03654611491837465), (max_depth, 4), (subsample, 0.6240160867286582), (colsample_bytree, 0.5091263872207336), (min_child_weight, 3)]  \n",
       "89      [(scaling_method, standard), (encoding_method, onehot), (drop, None), (n_estimators, 876), (learning_rate, 0.04284889602667325), (max_depth, 4), (subsample, 0.6755685832511081), (colsample_bytree, 0.5070089553603792), (min_child_weight, 3)]  \n",
       "153     [(scaling_method, standard), (encoding_method, onehot), (drop, None), (n_estimators, 977), (learning_rate, 0.04495112468576724), (max_depth, 4), (subsample, 0.5907613691787105), (colsample_bytree, 0.5100001765854234), (min_child_weight, 3)]  \n",
       "166    [(scaling_method, standard), (encoding_method, onehot), (drop, None), (n_estimators, 951), (learning_rate, 0.033308437136100585), (max_depth, 4), (subsample, 0.5873685836929177), (colsample_bytree, 0.5169253074523895), (min_child_weight, 3)]  \n",
       "195     [(scaling_method, standard), (encoding_method, onehot), (drop, None), (n_estimators, 999), (learning_rate, 0.04103753028775281), (max_depth, 4), (subsample, 0.6340526894822631), (colsample_bytree, 0.5086760751778497), (min_child_weight, 3)]  \n",
       "183     [(scaling_method, standard), (encoding_method, onehot), (drop, None), (n_estimators, 982), (learning_rate, 0.04351941663363886), (max_depth, 4), (subsample, 0.5704826962027357), (colsample_bytree, 0.5159436685967369), (min_child_weight, 3)]  \n",
       "94     [(scaling_method, standard), (encoding_method, onehot), (drop, None), (n_estimators, 976), (learning_rate, 0.043822650319510104), (max_depth, 4), (subsample, 0.5679021003871656), (colsample_bytree, 0.5538218292462826), (min_child_weight, 2)]  \n",
       "75     [(scaling_method, standard), (encoding_method, onehot), (drop, None), (n_estimators, 910), (learning_rate, 0.051644707541483405), (max_depth, 4), (subsample, 0.5835800315884345), (colsample_bytree, 0.5343120147350685), (min_child_weight, 4)]  \n",
       "134      [(scaling_method, standard), (encoding_method, onehot), (drop, None), (n_estimators, 949), (learning_rate, 0.0439132574886877), (max_depth, 4), (subsample, 0.5580619856885473), (colsample_bytree, 0.5407765256179761), (min_child_weight, 3)]  \n",
       "62    [(scaling_method, standard), (encoding_method, onehot), (drop, None), (n_estimators, 727), (learning_rate, 0.053836140278987386), (max_depth, 4), (subsample, 0.33495793747312985), (colsample_bytree, 0.7767101008318574), (min_child_weight, 4)]  \n",
       "84      [(scaling_method, standard), (encoding_method, onehot), (drop, None), (n_estimators, 982), (learning_rate, 0.04368730520522419), (max_depth, 4), (subsample, 0.6156842460645957), (colsample_bytree, 0.5273694704668308), (min_child_weight, 3)]  \n",
       "171      [(scaling_method, standard), (encoding_method, onehot), (drop, None), (n_estimators, 925), (learning_rate, 0.05132846916320994), (max_depth, 4), (subsample, 0.617597319740554), (colsample_bytree, 0.5421958684590944), (min_child_weight, 3)]  \n",
       "192      [(scaling_method, standard), (encoding_method, onehot), (drop, None), (n_estimators, 969), (learning_rate, 0.05049705154709047), (max_depth, 4), (subsample, 0.5885326462559809), (colsample_bytree, 0.518315648912634), (min_child_weight, 3)]  \n",
       "41      [(scaling_method, standard), (encoding_method, onehot), (drop, None), (n_estimators, 872), (learning_rate, 0.06507545497261033), (max_depth, 3), (subsample, 0.5780033294966029), (colsample_bytree, 0.6732037297267573), (min_child_weight, 4)]  \n",
       "156      [(scaling_method, standard), (encoding_method, onehot), (drop, None), (n_estimators, 984), (learning_rate, 0.04862339627131869), (max_depth, 4), (subsample, 0.603565982379564), (colsample_bytree, 0.5086636508613157), (min_child_weight, 3)]  \n",
       "164    [(scaling_method, standard), (encoding_method, onehot), (drop, None), (n_estimators, 961), (learning_rate, 0.037764759002766095), (max_depth, 4), (subsample, 0.6092832617492581), (colsample_bytree, 0.5308722566127732), (min_child_weight, 3)]  \n",
       "77       [(scaling_method, standard), (encoding_method, onehot), (drop, None), (n_estimators, 956), (learning_rate, 0.04648810682324537), (max_depth, 4), (subsample, 0.5836446443704956), (colsample_bytree, 0.542127444547118), (min_child_weight, 3)]  \n",
       "97      [(scaling_method, standard), (encoding_method, onehot), (drop, None), (n_estimators, 971), (learning_rate, 0.03954199065077492), (max_depth, 4), (subsample, 0.5584322348174456), (colsample_bytree, 0.5151459556738267), (min_child_weight, 2)]  \n",
       "115     [(scaling_method, standard), (encoding_method, onehot), (drop, None), (n_estimators, 981), (learning_rate, 0.03539335626119567), (max_depth, 4), (subsample, 0.6049235673136818), (colsample_bytree, 0.5111987761677306), (min_child_weight, 2)]  \n",
       "12      [(scaling_method, standard), (encoding_method, onehot), (drop, None), (n_estimators, 767), (learning_rate, 0.04729226062014805), (max_depth, 4), (subsample, 0.6474720885394325), (colsample_bytree, 0.6193038536203289), (min_child_weight, 4)]  \n",
       "193    [(scaling_method, standard), (encoding_method, onehot), (drop, None), (n_estimators, 951), (learning_rate, 0.036684646846182195), (max_depth, 4), (subsample, 0.6038933598072567), (colsample_bytree, 0.5361826080001425), (min_child_weight, 3)]  \n",
       "79       [(scaling_method, standard), (encoding_method, onehot), (drop, None), (n_estimators, 908), (learning_rate, 0.03751487354648077), (max_depth, 4), (subsample, 0.6465403080003055), (colsample_bytree, 0.541491042117335), (min_child_weight, 3)]  \n",
       "106         [(scaling_method, standard), (encoding_method, onehot), (drop, None), (n_estimators, 861), (learning_rate, 0.044738656817851594), (max_depth, 4), (subsample, 0.536891214439), (colsample_bytree, 0.564825934914122), (min_child_weight, 2)]  \n",
       "145    [(scaling_method, standard), (encoding_method, onehot), (drop, None), (n_estimators, 924), (learning_rate, 0.035069235371988375), (max_depth, 4), (subsample, 0.5758036000371204), (colsample_bytree, 0.5219895252676965), (min_child_weight, 3)]  \n",
       "121      [(scaling_method, robust), (encoding_method, onehot), (drop, None), (n_estimators, 813), (learning_rate, 0.051019276013019456), (max_depth, 4), (subsample, 0.5864869288457577), (colsample_bytree, 0.5256280564115579), (min_child_weight, 3)]  \n",
       "165      [(scaling_method, standard), (encoding_method, onehot), (drop, None), (n_estimators, 978), (learning_rate, 0.04726097548295648), (max_depth, 4), (subsample, 0.6338630430322009), (colsample_bytree, 0.524186523710005), (min_child_weight, 3)]  \n",
       "184    [(scaling_method, standard), (encoding_method, onehot), (drop, None), (n_estimators, 1000), (learning_rate, 0.05105211569685406), (max_depth, 4), (subsample, 0.5477917671337521), (colsample_bytree, 0.5092360612084812), (min_child_weight, 3)]  \n",
       "74      [(scaling_method, standard), (encoding_method, onehot), (drop, None), (n_estimators, 874), (learning_rate, 0.04900463652882283), (max_depth, 4), (subsample, 0.5451772187138496), (colsample_bytree, 0.5943850037519653), (min_child_weight, 4)]  \n",
       "86      [(scaling_method, standard), (encoding_method, onehot), (drop, None), (n_estimators, 986), (learning_rate, 0.039379098090284614), (max_depth, 4), (subsample, 0.6202242655918409), (colsample_bytree, 0.517705882920031), (min_child_weight, 2)]  \n",
       "109       [(scaling_method, standard), (encoding_method, onehot), (drop, None), (n_estimators, 944), (learning_rate, 0.03931379049036758), (max_depth, 4), (subsample, 0.6562521503921215), (colsample_bytree, 0.58160275311689), (min_child_weight, 3)]  \n",
       "123       [(scaling_method, robust), (encoding_method, onehot), (drop, None), (n_estimators, 906), (learning_rate, 0.03316285222434117), (max_depth, 4), (subsample, 0.5670694038866009), (colsample_bytree, 0.5141674704440817), (min_child_weight, 3)]  \n",
       "90      [(scaling_method, standard), (encoding_method, onehot), (drop, None), (n_estimators, 995), (learning_rate, 0.04244147495658048), (max_depth, 4), (subsample, 0.7567686860461925), (colsample_bytree, 0.5095063076498145), (min_child_weight, 3)]  \n",
       "198     [(scaling_method, standard), (encoding_method, onehot), (drop, None), (n_estimators, 985), (learning_rate, 0.03548961949523133), (max_depth, 4), (subsample, 0.5985187175740057), (colsample_bytree, 0.5154464947158525), (min_child_weight, 3)]  \n",
       "125       [(scaling_method, robust), (encoding_method, onehot), (drop, None), (n_estimators, 985), (learning_rate, 0.04120081484499707), (max_depth, 4), (subsample, 0.5959781823289715), (colsample_bytree, 0.5004098170724884), (min_child_weight, 1)]  \n",
       "167     [(scaling_method, standard), (encoding_method, onehot), (drop, None), (n_estimators, 988), (learning_rate, 0.04029030540264549), (max_depth, 4), (subsample, 0.6074731393195164), (colsample_bytree, 0.5306569220302777), (min_child_weight, 3)]  \n",
       "135    [(scaling_method, standard), (encoding_method, onehot), (drop, None), (n_estimators, 949), (learning_rate, 0.034710448774173744), (max_depth, 4), (subsample, 0.5576506725752142), (colsample_bytree, 0.5627179547757286), (min_child_weight, 3)]  \n",
       "71      [(scaling_method, standard), (encoding_method, onehot), (drop, None), (n_estimators, 749), (learning_rate, 0.05938083839256959), (max_depth, 4), (subsample, 0.44555189240029336), (colsample_bytree, 0.594592957306584), (min_child_weight, 4)]  \n",
       "61     [(scaling_method, standard), (encoding_method, onehot), (drop, None), (n_estimators, 792), (learning_rate, 0.05730470324713337), (max_depth, 4), (subsample, 0.38030710308790805), (colsample_bytree, 0.7606713255269029), (min_child_weight, 4)]  \n",
       "160    [(scaling_method, standard), (encoding_method, onehot), (drop, None), (n_estimators, 931), (learning_rate, 0.039906270062291686), (max_depth, 4), (subsample, 0.6928266282801502), (colsample_bytree, 0.5181751579651122), (min_child_weight, 3)]  \n",
       "113      [(scaling_method, standard), (encoding_method, onehot), (drop, None), (n_estimators, 893), (learning_rate, 0.0431419737771837), (max_depth, 4), (subsample, 0.5053160383324905), (colsample_bytree, 0.8060125902291967), (min_child_weight, 3)]  \n",
       "87      [(scaling_method, standard), (encoding_method, onehot), (drop, None), (n_estimators, 972), (learning_rate, 0.03455744990975655), (max_depth, 4), (subsample, 0.7149221353573602), (colsample_bytree, 0.5300936187203431), (min_child_weight, 2)]  \n",
       "178    [(scaling_method, standard), (encoding_method, onehot), (drop, None), (n_estimators, 936), (learning_rate, 0.054578206390985956), (max_depth, 4), (subsample, 0.6260204068072007), (colsample_bytree, 0.5129705564792642), (min_child_weight, 3)]  \n",
       "137      [(scaling_method, standard), (encoding_method, onehot), (drop, None), (n_estimators, 930), (learning_rate, 0.04126438805914917), (max_depth, 4), (subsample, 0.5700927356730264), (colsample_bytree, 0.515825566773464), (min_child_weight, 3)]  \n",
       "196      [(scaling_method, standard), (encoding_method, onehot), (drop, None), (n_estimators, 968), (learning_rate, 0.046632743516695774), (max_depth, 4), (subsample, 0.548455912889384), (colsample_bytree, 0.539927241298281), (min_child_weight, 3)]  \n",
       "120         [(scaling_method, robust), (encoding_method, onehot), (drop, None), (n_estimators, 844), (learning_rate, 0.039017143883343756), (max_depth, 4), (subsample, 0.6711227617771436), (colsample_bytree, 0.5441787248768), (min_child_weight, 3)]  \n",
       "108    [(scaling_method, standard), (encoding_method, onehot), (drop, None), (n_estimators, 901), (learning_rate, 0.030595729443354248), (max_depth, 4), (subsample, 0.5611490476588351), (colsample_bytree, 0.5142665685891052), (min_child_weight, 3)]  \n",
       "199    [(scaling_method, standard), (encoding_method, onehot), (drop, None), (n_estimators, 903), (learning_rate, 0.039354403596329995), (max_depth, 4), (subsample, 0.6250221191525293), (colsample_bytree, 0.5290022910090753), (min_child_weight, 3)]  \n",
       "140    [(scaling_method, standard), (encoding_method, onehot), (drop, None), (n_estimators, 911), (learning_rate, 0.026725828511096044), (max_depth, 4), (subsample, 0.5359489610458162), (colsample_bytree, 0.5582612046747151), (min_child_weight, 2)]  \n",
       "197      [(scaling_method, standard), (encoding_method, onehot), (drop, None), (n_estimators, 939), (learning_rate, 0.05281833919000285), (max_depth, 4), (subsample, 0.5741618723641739), (colsample_bytree, 0.500552153035808), (min_child_weight, 3)]  \n",
       "136      [(scaling_method, standard), (encoding_method, onehot), (drop, None), (n_estimators, 905), (learning_rate, 0.0496068223275355), (max_depth, 4), (subsample, 0.5335942293142769), (colsample_bytree, 0.5384760801291514), (min_child_weight, 3)]  \n",
       "93     [(scaling_method, standard), (encoding_method, onehot), (drop, None), (n_estimators, 940), (learning_rate, 0.032135955817887724), (max_depth, 4), (subsample, 0.5368060769873285), (colsample_bytree, 0.5296680436797417), (min_child_weight, 3)]  \n",
       "141     [(scaling_method, standard), (encoding_method, onehot), (drop, None), (n_estimators, 983), (learning_rate, 0.04400565797728592), (max_depth, 4), (subsample, 0.6260102887509521), (colsample_bytree, 0.5343969965638573), (min_child_weight, 3)]  \n",
       "194     [(scaling_method, standard), (encoding_method, onehot), (drop, None), (n_estimators, 922), (learning_rate, 0.04539603923921631), (max_depth, 4), (subsample, 0.5627473610003206), (colsample_bytree, 0.5250859268194425), (min_child_weight, 3)]  \n",
       "107         [(scaling_method, minmax), (encoding_method, onehot), (drop, first), (n_estimators, 926), (learning_rate, 0.04850739763031974), (max_depth, 4), (subsample, 0.58989585149592), (colsample_bytree, 0.537770237021434), (min_child_weight, 3)]  \n",
       "139    [(scaling_method, standard), (encoding_method, onehot), (drop, None), (n_estimators, 944), (learning_rate, 0.045301077531780344), (max_depth, 4), (subsample, 0.5918056218415126), (colsample_bytree, 0.5482131726886658), (min_child_weight, 3)]  \n",
       "56        [(scaling_method, maxabs), (encoding_method, onehot), (drop, None), (n_estimators, 842), (learning_rate, 0.09154124161051745), (max_depth, 4), (subsample, 0.4905394952545925), (colsample_bytree, 0.7323398631820065), (min_child_weight, 4)]  \n",
       "175     [(scaling_method, standard), (encoding_method, onehot), (drop, None), (n_estimators, 976), (learning_rate, 0.04667104346155532), (max_depth, 4), (subsample, 0.6370173127506598), (colsample_bytree, 0.5532281916053389), (min_child_weight, 3)]  \n",
       "122       [(scaling_method, robust), (encoding_method, onehot), (drop, None), (n_estimators, 876), (learning_rate, 0.04537371525589987), (max_depth, 4), (subsample, 0.6362315012721145), (colsample_bytree, 0.7778835452986814), (min_child_weight, 3)]  \n",
       "116    [(scaling_method, standard), (encoding_method, onehot), (drop, None), (n_estimators, 919), (learning_rate, 0.047482758961960705), (max_depth, 4), (subsample, 0.5506943266106968), (colsample_bytree, 0.5776828516731426), (min_child_weight, 3)]  \n",
       "149    [(scaling_method, standard), (encoding_method, onehot), (drop, first), (n_estimators, 963), (learning_rate, 0.03770850420931836), (max_depth, 4), (subsample, 0.5642476294584193), (colsample_bytree, 0.5453821949383174), (min_child_weight, 3)]  \n",
       "32      [(scaling_method, standard), (encoding_method, onehot), (drop, None), (n_estimators, 825), (learning_rate, 0.0633557390420292), (max_depth, 3), (subsample, 0.43083837680973097), (colsample_bytree, 0.6639364059217894), (min_child_weight, 4)]  \n",
       "72     [(scaling_method, standard), (encoding_method, onehot), (drop, None), (n_estimators, 836), (learning_rate, 0.06098549954349969), (max_depth, 4), (subsample, 0.44603771652553886), (colsample_bytree, 0.5696930291785585), (min_child_weight, 4)]  \n",
       "169      [(scaling_method, maxabs), (encoding_method, onehot), (drop, None), (n_estimators, 1000), (learning_rate, 0.02907925395885243), (max_depth, 4), (subsample, 0.5800596968749477), (colsample_bytree, 0.5203994673767285), (min_child_weight, 3)]  \n",
       "43     [(scaling_method, standard), (encoding_method, onehot), (drop, None), (n_estimators, 768), (learning_rate, 0.058708576512874006), (max_depth, 3), (subsample, 0.4217194893229429), (colsample_bytree, 0.6118020489115675), (min_child_weight, 4)]  \n",
       "187     [(scaling_method, standard), (encoding_method, onehot), (drop, None), (n_estimators, 982), (learning_rate, 0.04603695044238688), (max_depth, 4), (subsample, 0.5519116363809147), (colsample_bytree, 0.5410392506165588), (min_child_weight, 3)]  \n",
       "64        [(scaling_method, minmax), (encoding_method, onehot), (drop, None), (n_estimators, 809), (learning_rate, 0.05185357281894903), (max_depth, 4), (subsample, 0.36306012279158645), (colsample_bytree, 0.752193401428429), (min_child_weight, 4)]  \n",
       "83     [(scaling_method, standard), (encoding_method, onehot), (drop, None), (n_estimators, 938), (learning_rate, 0.031787966738374356), (max_depth, 4), (subsample, 0.5612832929570061), (colsample_bytree, 0.5000475314191094), (min_child_weight, 3)]  \n",
       "15     [(scaling_method, standard), (encoding_method, onehot), (drop, None), (n_estimators, 798), (learning_rate, 0.047391052672483856), (max_depth, 4), (subsample, 0.4067000903264162), (colsample_bytree, 0.7478025594512815), (min_child_weight, 4)]  \n",
       "22       [(scaling_method, standard), (encoding_method, onehot), (drop, None), (n_estimators, 689), (learning_rate, 0.04973463715370684), (max_depth, 4), (subsample, 0.460083800904819), (colsample_bytree, 0.8130556238937897), (min_child_weight, 4)]  \n",
       "180    [(scaling_method, standard), (encoding_method, onehot), (drop, first), (n_estimators, 957), (learning_rate, 0.05546334995290439), (max_depth, 4), (subsample, 0.6013591215047353), (colsample_bytree, 0.5500115244935909), (min_child_weight, 3)]  \n",
       "27      [(scaling_method, standard), (encoding_method, onehot), (drop, None), (n_estimators, 824), (learning_rate, 0.06481525771599732), (max_depth, 3), (subsample, 0.5663178703879708), (colsample_bytree, 0.6713616769508152), (min_child_weight, 4)]  \n",
       "103     [(scaling_method, standard), (encoding_method, onehot), (drop, None), (n_estimators, 893), (learning_rate, 0.04228316989214218), (max_depth, 4), (subsample, 0.5750590730549623), (colsample_bytree, 0.5011231859034261), (min_child_weight, 3)]  \n",
       "138     [(scaling_method, standard), (encoding_method, onehot), (drop, None), (n_estimators, 961), (learning_rate, 0.03151702501214211), (max_depth, 4), (subsample, 0.5030156986779167), (colsample_bytree, 0.5762780454989618), (min_child_weight, 3)]  \n",
       "112     [(scaling_method, standard), (encoding_method, onehot), (drop, None), (n_estimators, 959), (learning_rate, 0.06352816060112834), (max_depth, 4), (subsample, 0.5757144329347235), (colsample_bytree, 0.5225074312533546), (min_child_weight, 3)]  \n",
       "47   [(scaling_method, standard), (encoding_method, onehot), (drop, first), (n_estimators, 829), (learning_rate, 0.042226907002724696), (max_depth, 3), (subsample, 0.40397386309186856), (colsample_bytree, 0.6493312297794681), (min_child_weight, 1)]  \n",
       "148    [(scaling_method, standard), (encoding_method, onehot), (drop, None), (n_estimators, 1000), (learning_rate, 0.05410530358706685), (max_depth, 4), (subsample, 0.6818539925823711), (colsample_bytree, 0.5268780879578792), (min_child_weight, 3)]  \n",
       "124    [(scaling_method, standard), (encoding_method, onehot), (drop, None), (n_estimators, 934), (learning_rate, 0.057809154288921374), (max_depth, 4), (subsample, 0.6164474634132107), (colsample_bytree, 0.5350824400609016), (min_child_weight, 3)]  \n",
       "128      [(scaling_method, minmax), (encoding_method, onehot), (drop, None), (n_estimators, 1000), (learning_rate, 0.06581468258053474), (max_depth, 4), (subsample, 0.5799782920550804), (colsample_bytree, 0.5501319741163797), (min_child_weight, 4)]  \n",
       "54     [(scaling_method, standard), (encoding_method, onehot), (drop, None), (n_estimators, 931), (learning_rate, 0.029788987261082294), (max_depth, 4), (subsample, 0.6402097757161616), (colsample_bytree, 0.6587113500128999), (min_child_weight, 4)]  \n",
       "31      [(scaling_method, standard), (encoding_method, onehot), (drop, None), (n_estimators, 793), (learning_rate, 0.06662733767657203), (max_depth, 3), (subsample, 0.5804943646135519), (colsample_bytree, 0.6655508398105485), (min_child_weight, 4)]  \n",
       "53      [(scaling_method, standard), (encoding_method, onehot), (drop, None), (n_estimators, 893), (learning_rate, 0.03982404616996275), (max_depth, 4), (subsample, 0.4081071285413448), (colsample_bytree, 0.7207254099784625), (min_child_weight, 4)]  \n",
       "39       [(scaling_method, robust), (encoding_method, onehot), (drop, first), (n_estimators, 810), (learning_rate, 0.09873302281050222), (max_depth, 3), (subsample, 0.3327976395193738), (colsample_bytree, 0.7836175564404917), (min_child_weight, 4)]  \n",
       "46         [(scaling_method, maxabs), (encoding_method, onehot), (drop, None), (n_estimators, 868), (learning_rate, 0.07977665892922679), (max_depth, 3), (subsample, 0.604257887698297), (colsample_bytree, 0.5574166696308082), (min_child_weight, 4)]  \n",
       "51     [(scaling_method, standard), (encoding_method, onehot), (drop, None), (n_estimators, 655), (learning_rate, 0.055705325059321784), (max_depth, 3), (subsample, 0.4339233780973017), (colsample_bytree, 0.6848917474882584), (min_child_weight, 4)]  \n",
       "21    [(scaling_method, standard), (encoding_method, onehot), (drop, None), (n_estimators, 694), (learning_rate, 0.044444172994943326), (max_depth, 4), (subsample, 0.40445909774362404), (colsample_bytree, 0.7061072671597574), (min_child_weight, 4)]  \n",
       "33      [(scaling_method, standard), (encoding_method, onehot), (drop, None), (n_estimators, 702), (learning_rate, 0.04700994412308481), (max_depth, 3), (subsample, 0.4317531393960828), (colsample_bytree, 0.6319610584402935), (min_child_weight, 4)]  \n",
       "114      [(scaling_method, standard), (encoding_method, onehot), (drop, None), (n_estimators, 810), (learning_rate, 0.05584833355266446), (max_depth, 4), (subsample, 0.528643391510971), (colsample_bytree, 0.5325178738697474), (min_child_weight, 3)]  \n",
       "65      [(scaling_method, standard), (encoding_method, onehot), (drop, None), (n_estimators, 722), (learning_rate, 0.04249423378391319), (max_depth, 4), (subsample, 0.2662546581725011), (colsample_bytree, 0.7138489407159679), (min_child_weight, 4)]  \n",
       "105    [(scaling_method, standard), (encoding_method, onehot), (drop, None), (n_estimators, 968), (learning_rate, 0.054304472527003454), (max_depth, 4), (subsample, 0.6956922171185842), (colsample_bytree, 0.5215097350675066), (min_child_weight, 3)]  \n",
       "24    [(scaling_method, standard), (encoding_method, onehot), (drop, None), (n_estimators, 982), (learning_rate, 0.059245798247765644), (max_depth, 3), (subsample, 0.28031885943555257), (colsample_bytree, 0.7666886629148627), (min_child_weight, 5)]  \n",
       "143       [(scaling_method, standard), (encoding_method, onehot), (drop, None), (n_estimators, 972), (learning_rate, 0.03785139268096627), (max_depth, 4), (subsample, 0.5514162194142027), (colsample_bytree, 0.51356668429643), (min_child_weight, 3)]  \n",
       "44      [(scaling_method, standard), (encoding_method, onehot), (drop, None), (n_estimators, 956), (learning_rate, 0.03403486706534832), (max_depth, 3), (subsample, 0.7502924963558425), (colsample_bytree, 0.6189330459034983), (min_child_weight, 4)]  \n",
       "96                  [(scaling_method, standard), (encoding_method, ordinal), (n_estimators, 917), (learning_rate, 0.044081018318051106), (max_depth, 4), (subsample, 0.6114930290253439), (colsample_bytree, 0.5330333973787846), (min_child_weight, 2)]  \n",
       "63         [(scaling_method, maxabs), (encoding_method, onehot), (drop, None), (n_estimators, 845), (learning_rate, 0.06669732972994195), (max_depth, 4), (subsample, 0.308519083787203), (colsample_bytree, 0.7721243771984889), (min_child_weight, 4)]  \n",
       "144    [(scaling_method, standard), (encoding_method, onehot), (drop, None), (n_estimators, 406), (learning_rate, 0.049975014490525285), (max_depth, 4), (subsample, 0.5990366498963211), (colsample_bytree, 0.5009419970518468), (min_child_weight, 3)]  \n",
       "168      [(scaling_method, robust), (encoding_method, onehot), (drop, None), (n_estimators, 966), (learning_rate, 0.058355452888028805), (max_depth, 4), (subsample, 0.6471051729120239), (colsample_bytree, 0.5002909898942509), (min_child_weight, 3)]  \n",
       "130                 [(scaling_method, standard), (encoding_method, ordinal), (n_estimators, 965), (learning_rate, 0.038688798712991024), (max_depth, 4), (subsample, 0.5189530127140396), (colsample_bytree, 0.9798633239143697), (min_child_weight, 4)]  \n",
       "57      [(scaling_method, maxabs), (encoding_method, onehot), (drop, first), (n_estimators, 954), (learning_rate, 0.09980714173196387), (max_depth, 3), (subsample, 0.49469420503819833), (colsample_bytree, 0.7305679000533077), (min_child_weight, 4)]  \n",
       "13      [(scaling_method, standard), (encoding_method, onehot), (drop, None), (n_estimators, 714), (learning_rate, 0.0397794641187814), (max_depth, 4), (subsample, 0.37871350729210107), (colsample_bytree, 0.7245464695981462), (min_child_weight, 4)]  \n",
       "179     [(scaling_method, standard), (encoding_method, onehot), (drop, None), (n_estimators, 914), (learning_rate, 0.04928702988227735), (max_depth, 4), (subsample, 0.6579084964261985), (colsample_bytree, 0.5320945982092451), (min_child_weight, 3)]  \n",
       "159                    [(scaling_method, minmax), (encoding_method, ordinal), (n_estimators, 999), (learning_rate, 0.03379167404799594), (max_depth, 4), (subsample, 0.6370986110616893), (colsample_bytree, 0.5000280260413144), (min_child_weight, 3)]  \n",
       "45                    [(scaling_method, minmax), (encoding_method, ordinal), (n_estimators, 772), (learning_rate, 0.058529325668706375), (max_depth, 3), (subsample, 0.3791936453699334), (colsample_bytree, 0.5894733099192515), (min_child_weight, 3)]  \n",
       "91      [(scaling_method, standard), (encoding_method, onehot), (drop, None), (n_estimators, 914), (learning_rate, 0.05278614174012599), (max_depth, 4), (subsample, 0.6705316242623164), (colsample_bytree, 0.5702774859397934), (min_child_weight, 3)]  \n",
       "92     [(scaling_method, standard), (encoding_method, onehot), (drop, None), (n_estimators, 873), (learning_rate, 0.025452700620830635), (max_depth, 4), (subsample, 0.5979731687560089), (colsample_bytree, 0.5086710177474951), (min_child_weight, 1)]  \n",
       "147    [(scaling_method, standard), (encoding_method, onehot), (drop, None), (n_estimators, 943), (learning_rate, 0.030978983929007147), (max_depth, 4), (subsample, 0.6491361010555452), (colsample_bytree, 0.5382372250421088), (min_child_weight, 3)]  \n",
       "102     [(scaling_method, standard), (encoding_method, onehot), (drop, None), (n_estimators, 921), (learning_rate, 0.03329414329613831), (max_depth, 4), (subsample, 0.5166425740628686), (colsample_bytree, 0.5070586284065997), (min_child_weight, 3)]  \n",
       "99        [(scaling_method, robust), (encoding_method, onehot), (drop, None), (n_estimators, 979), (learning_rate, 0.05263794345892966), (max_depth, 4), (subsample, 0.7384877078873608), (colsample_bytree, 0.9031941696659809), (min_child_weight, 3)]  \n",
       "126   [(scaling_method, standard), (encoding_method, onehot), (drop, first), (n_estimators, 831), (learning_rate, 0.028546753973955428), (max_depth, 4), (subsample, 0.5478557118902876), (colsample_bytree, 0.5213193737495136), (min_child_weight, 3)]  \n",
       "36        [(scaling_method, standard), (encoding_method, onehot), (drop, None), (n_estimators, 637), (learning_rate, 0.07110441706969593), (max_depth, 4), (subsample, 0.238357312876637), (colsample_bytree, 0.550710244241414), (min_child_weight, 3)]  \n",
       "78                   [(scaling_method, standard), (encoding_method, ordinal), (n_estimators, 961), (learning_rate, 0.04731121763807573), (max_depth, 4), (subsample, 0.5901360160463529), (colsample_bytree, 0.5207941443611376), (min_child_weight, 3)]  \n",
       "34     [(scaling_method, standard), (encoding_method, onehot), (drop, None), (n_estimators, 857), (learning_rate, 0.031123390392781725), (max_depth, 4), (subsample, 0.3482098538153208), (colsample_bytree, 0.5808662668216741), (min_child_weight, 5)]  \n",
       "80        [(scaling_method, robust), (encoding_method, onehot), (drop, None), (n_estimators, 908), (learning_rate, 0.027305437112644736), (max_depth, 4), (subsample, 0.657366283428624), (colsample_bytree, 0.5395747428539072), (min_child_weight, 3)]  \n",
       "38       [(scaling_method, minmax), (encoding_method, onehot), (drop, None), (n_estimators, 579), (learning_rate, 0.048017023471238866), (max_depth, 4), (subsample, 0.7157584732777649), (colsample_bytree, 0.8503372513092223), (min_child_weight, 4)]  \n",
       "4         [(scaling_method, maxabs), (encoding_method, onehot), (drop, None), (n_estimators, 783), (learning_rate, 0.03190727718335504), (max_depth, 4), (subsample, 0.2378793418825126), (colsample_bytree, 0.6134047977794619), (min_child_weight, 4)]  \n",
       "110                  [(scaling_method, standard), (encoding_method, ordinal), (n_estimators, 879), (learning_rate, 0.051923551380736885), (max_depth, 4), (subsample, 0.7980548580559587), (colsample_bytree, 0.544603151881658), (min_child_weight, 3)]  \n",
       "29      [(scaling_method, robust), (encoding_method, onehot), (drop, None), (n_estimators, 920), (learning_rate, 0.025607394808080226), (max_depth, 3), (subsample, 0.30284178066813316), (colsample_bytree, 0.7437036929866911), (min_child_weight, 1)]  \n",
       "95     [(scaling_method, standard), (encoding_method, onehot), (drop, None), (n_estimators, 1000), (learning_rate, 0.02864743499349998), (max_depth, 4), (subsample, 0.7063851402593533), (colsample_bytree, 0.5524198768734881), (min_child_weight, 2)]  \n",
       "189                  [(scaling_method, standard), (encoding_method, ordinal), (n_estimators, 942), (learning_rate, 0.05635057521642982), (max_depth, 4), (subsample, 0.5721103601572344), (colsample_bytree, 0.5114848993877089), (min_child_weight, 3)]  \n",
       "98     [(scaling_method, standard), (encoding_method, onehot), (drop, None), (n_estimators, 887), (learning_rate, 0.023656481515760056), (max_depth, 4), (subsample, 0.6689721108410434), (colsample_bytree, 0.5568582769795728), (min_child_weight, 3)]  \n",
       "17     [(scaling_method, standard), (encoding_method, onehot), (drop, None), (n_estimators, 329), (learning_rate, 0.05234945230445804), (max_depth, 4), (subsample, 0.43994892694634324), (colsample_bytree, 0.7050224514266739), (min_child_weight, 4)]  \n",
       "100    [(scaling_method, standard), (encoding_method, onehot), (drop, None), (n_estimators, 945), (learning_rate, 0.019784919016384662), (max_depth, 4), (subsample, 0.6330123063387744), (colsample_bytree, 0.5481958031380743), (min_child_weight, 2)]  \n",
       "186     [(scaling_method, standard), (encoding_method, onehot), (drop, None), (n_estimators, 932), (learning_rate, 0.06312099831608087), (max_depth, 4), (subsample, 0.5286047829690999), (colsample_bytree, 0.5012253153026291), (min_child_weight, 3)]  \n",
       "118     [(scaling_method, standard), (encoding_method, onehot), (drop, None), (n_estimators, 953), (learning_rate, 0.07063990399551874), (max_depth, 4), (subsample, 0.4804286624289002), (colsample_bytree, 0.5534034591461701), (min_child_weight, 2)]  \n",
       "132     [(scaling_method, standard), (encoding_method, onehot), (drop, None), (n_estimators, 929), (learning_rate, 0.05535390050270173), (max_depth, 4), (subsample, 0.6112851434086759), (colsample_bytree, 0.5260878799394776), (min_child_weight, 3)]  \n",
       "42       [(scaling_method, standard), (encoding_method, onehot), (drop, None), (n_estimators, 885), (learning_rate, 0.07510205062663165), (max_depth, 3), (subsample, 0.6824401559388008), (colsample_bytree, 0.675004135054794), (min_child_weight, 4)]  \n",
       "58        [(scaling_method, maxabs), (encoding_method, onehot), (drop, None), (n_estimators, 852), (learning_rate, 0.08476139528316784), (max_depth, 4), (subsample, 0.5696225551194105), (colsample_bytree, 0.6981172785855054), (min_child_weight, 3)]  \n",
       "49                      [(scaling_method, robust), (encoding_method, ordinal), (n_estimators, 997), (learning_rate, 0.08240721365996945), (max_depth, 2), (subsample, 0.520403778295357), (colsample_bytree, 0.6051782982108307), (min_child_weight, 5)]  \n",
       "23     [(scaling_method, standard), (encoding_method, onehot), (drop, None), (n_estimators, 873), (learning_rate, 0.019086552580620857), (max_depth, 4), (subsample, 0.5499300375224502), (colsample_bytree, 0.8244043229522998), (min_child_weight, 3)]  \n",
       "88      [(scaling_method, minmax), (encoding_method, onehot), (drop, first), (n_estimators, 938), (learning_rate, 0.019147501431610953), (max_depth, 4), (subsample, 0.6310574549953281), (colsample_bytree, 0.5696746455766672), (min_child_weight, 2)]  \n",
       "55      [(scaling_method, standard), (encoding_method, onehot), (drop, None), (n_estimators, 824), (learning_rate, 0.06499554044005938), (max_depth, 3), (subsample, 0.5447255766810911), (colsample_bytree, 0.6877576511022102), (min_child_weight, 4)]  \n",
       "117     [(scaling_method, standard), (encoding_method, onehot), (drop, None), (n_estimators, 861), (learning_rate, 0.06116293127997311), (max_depth, 4), (subsample, 0.9601083740648362), (colsample_bytree, 0.5018486371252276), (min_child_weight, 3)]  \n",
       "111     [(scaling_method, standard), (encoding_method, onehot), (drop, None), (n_estimators, 858), (learning_rate, 0.07113897054483087), (max_depth, 4), (subsample, 0.6260323805489171), (colsample_bytree, 0.5609036182073875), (min_child_weight, 1)]  \n",
       "70        [(scaling_method, maxabs), (encoding_method, onehot), (drop, None), (n_estimators, 525), (learning_rate, 0.03543469282093258), (max_depth, 4), (subsample, 0.3807647526056799), (colsample_bytree, 0.7576854110654505), (min_child_weight, 4)]  \n",
       "73       [(scaling_method, standard), (encoding_method, onehot), (drop, None), (n_estimators, 744), (learning_rate, 0.07150715958441867), (max_depth, 4), (subsample, 0.509399435733443), (colsample_bytree, 0.6771240056977652), (min_child_weight, 4)]  \n",
       "129    [(scaling_method, standard), (encoding_method, onehot), (drop, None), (n_estimators, 440), (learning_rate, 0.04789531364622056), (max_depth, 4), (subsample, 0.18505073059681573), (colsample_bytree, 0.6018931476472097), (min_child_weight, 3)]  \n",
       "67      [(scaling_method, standard), (encoding_method, onehot), (drop, None), (n_estimators, 787), (learning_rate, 0.08978858148170225), (max_depth, 4), (subsample, 0.6146630045505043), (colsample_bytree, 0.7311879681120449), (min_child_weight, 5)]  \n",
       "127     [(scaling_method, standard), (encoding_method, onehot), (drop, None), (n_estimators, 890), (learning_rate, 0.03608508471878297), (max_depth, 2), (subsample, 0.6460638693550014), (colsample_bytree, 0.8338823153923621), (min_child_weight, 2)]  \n",
       "2         [(scaling_method, robust), (encoding_method, onehot), (drop, None), (n_estimators, 897), (learning_rate, 0.07970385240736814), (max_depth, 2), (subsample, 0.6934542266597595), (colsample_bytree, 0.5577068357977943), (min_child_weight, 5)]  \n",
       "28      [(scaling_method, minmax), (encoding_method, onehot), (drop, first), (n_estimators, 551), (learning_rate, 0.09855248402855467), (max_depth, 4), (subsample, 0.49567245987555175), (colsample_bytree, 0.8584816973936492), (min_child_weight, 5)]  \n",
       "37                    [(scaling_method, standard), (encoding_method, ordinal), (n_estimators, 929), (learning_rate, 0.03682927451702668), (max_depth, 2), (subsample, 0.473768038186032), (colsample_bytree, 0.7390424049423115), (min_child_weight, 5)]  \n",
       "26                    [(scaling_method, standard), (encoding_method, ordinal), (n_estimators, 626), (learning_rate, 0.03665728590234853), (max_depth, 4), (subsample, 0.771183165613654), (colsample_bytree, 0.8276244300152987), (min_child_weight, 3)]  \n",
       "50     [(scaling_method, standard), (encoding_method, onehot), (drop, None), (n_estimators, 773), (learning_rate, 0.02211899739414929), (max_depth, 3), (subsample, 0.23330635463689187), (colsample_bytree, 0.5233698595895443), (min_child_weight, 2)]  \n",
       "146      [(scaling_method, robust), (encoding_method, onehot), (drop, None), (n_estimators, 883), (learning_rate, 0.040704173041273474), (max_depth, 4), (subsample, 0.1072551826751465), (colsample_bytree, 0.5092850508913596), (min_child_weight, 3)]  \n",
       "158     [(scaling_method, standard), (encoding_method, onehot), (drop, None), (n_estimators, 962), (learning_rate, 0.01288321650876376), (max_depth, 4), (subsample, 0.6648151784081523), (colsample_bytree, 0.5193159596676827), (min_child_weight, 3)]  \n",
       "35       [(scaling_method, robust), (encoding_method, onehot), (drop, None), (n_estimators, 742), (learning_rate, 0.022518020384094138), (max_depth, 3), (subsample, 0.5151889380474837), (colsample_bytree, 0.6110828695020909), (min_child_weight, 4)]  \n",
       "20      [(scaling_method, standard), (encoding_method, onehot), (drop, None), (n_estimators, 795), (learning_rate, 0.016426239722196482), (max_depth, 4), (subsample, 0.6590854659019745), (colsample_bytree, 0.585607942317437), (min_child_weight, 4)]  \n",
       "40         [(scaling_method, maxabs), (encoding_method, onehot), (drop, None), (n_estimators, 730), (learning_rate, 0.02735036824125526), (max_depth, 2), (subsample, 0.530142890005902), (colsample_bytree, 0.6418755244170449), (min_child_weight, 5)]  \n",
       "66     [(scaling_method, standard), (encoding_method, onehot), (drop, None), (n_estimators, 670), (learning_rate, 0.07762419085523724), (max_depth, 4), (subsample, 0.16585966110263134), (colsample_bytree, 0.7667749690150173), (min_child_weight, 3)]  \n",
       "10                    [(scaling_method, maxabs), (encoding_method, ordinal), (n_estimators, 768), (learning_rate, 0.08611588402856334), (max_depth, 3), (subsample, 0.15696372388351376), (colsample_bytree, 0.5113140129996083), (min_child_weight, 4)]  \n",
       "5                     [(scaling_method, minmax), (encoding_method, ordinal), (n_estimators, 440), (learning_rate, 0.023198013756713296), (max_depth, 4), (subsample, 0.7212576579631054), (colsample_bytree, 0.9438912615381984), (min_child_weight, 2)]  \n",
       "104      [(scaling_method, standard), (encoding_method, onehot), (drop, None), (n_estimators, 235), (learning_rate, 0.03682844144897991), (max_depth, 4), (subsample, 0.6043321692132864), (colsample_bytree, 0.529942048356702), (min_child_weight, 3)]  \n",
       "59        [(scaling_method, maxabs), (encoding_method, onehot), (drop, None), (n_estimators, 755), (learning_rate, 0.01365127944383386), (max_depth, 3), (subsample, 0.6857844128277272), (colsample_bytree, 0.6299597470824319), (min_child_weight, 5)]  \n",
       "150    [(scaling_method, standard), (encoding_method, onehot), (drop, None), (n_estimators, 856), (learning_rate, 0.009119894679612897), (max_depth, 4), (subsample, 0.6227944601535899), (colsample_bytree, 0.9209177652530494), (min_child_weight, 3)]  \n",
       "0        [(scaling_method, robust), (encoding_method, onehot), (drop, None), (n_estimators, 475), (learning_rate, 0.024978041209914686), (max_depth, 2), (subsample, 0.3669553381298013), (colsample_bytree, 0.8770501936980049), (min_child_weight, 2)]  \n",
       "11       [(scaling_method, maxabs), (encoding_method, onehot), (drop, None), (n_estimators, 915), (learning_rate, 0.07974449183044309), (max_depth, 3), (subsample, 0.10180662406426866), (colsample_bytree, 0.5029010467607454), (min_child_weight, 5)]  \n",
       "8        [(scaling_method, minmax), (encoding_method, onehot), (drop, None), (n_estimators, 562), (learning_rate, 0.014190472676294379), (max_depth, 4), (subsample, 0.8992376149624356), (colsample_bytree, 0.8973343921688415), (min_child_weight, 5)]  \n",
       "177     [(scaling_method, standard), (encoding_method, onehot), (drop, None), (n_estimators, 129), (learning_rate, 0.06037108931307424), (max_depth, 4), (subsample, 0.5997489805023045), (colsample_bytree, 0.5066347349827721), (min_child_weight, 3)]  \n",
       "25    [(scaling_method, standard), (encoding_method, onehot), (drop, None), (n_estimators, 745), (learning_rate, 0.009681056665650074), (max_depth, 4), (subsample, 0.46284324273362576), (colsample_bytree, 0.9903299056449928), (min_child_weight, 4)]  \n",
       "14                  [(scaling_method, standard), (encoding_method, ordinal), (n_estimators, 677), (learning_rate, 0.010491864708705173), (max_depth, 4), (subsample, 0.6213820095830929), (colsample_bytree, 0.7574052781594777), (min_child_weight, 3)]  \n",
       "19       [(scaling_method, standard), (encoding_method, onehot), (drop, first), (n_estimators, 140), (learning_rate, 0.0530561429674577), (max_depth, 4), (subsample, 0.287551892168741), (colsample_bytree, 0.6906448985388419), (min_child_weight, 5)]  \n",
       "6       [(scaling_method, minmax), (encoding_method, onehot), (drop, first), (n_estimators, 222), (learning_rate, 0.029553324376275027), (max_depth, 2), (subsample, 0.8027045236665274), (colsample_bytree, 0.9477313907890869), (min_child_weight, 2)]  \n",
       "68    [(scaling_method, standard), (encoding_method, onehot), (drop, None), (n_estimators, 711), (learning_rate, 0.007428619903766021), (max_depth, 4), (subsample, 0.32384631892186777), (colsample_bytree, 0.8120015177420874), (min_child_weight, 4)]  \n",
       "30      [(scaling_method, standard), (encoding_method, onehot), (drop, None), (n_estimators, 487), (learning_rate, 0.010463185713603128), (max_depth, 4), (subsample, 0.6428368830901725), (colsample_bytree, 0.794344040387567), (min_child_weight, 3)]  \n",
       "16      [(scaling_method, standard), (encoding_method, onehot), (drop, None), (n_estimators, 842), (learning_rate, 0.005404291134180695), (max_depth, 3), (subsample, 0.9669335807392059), (colsample_bytree, 0.786678185168821), (min_child_weight, 3)]  \n",
       "9       [(scaling_method, maxabs), (encoding_method, onehot), (drop, first), (n_estimators, 983), (learning_rate, 0.004265550219001116), (max_depth, 3), (subsample, 0.3685162719177343), (colsample_bytree, 0.8929034279923462), (min_child_weight, 2)]  \n",
       "190     [(scaling_method, standard), (encoding_method, onehot), (drop, None), (n_estimators, 983), (learning_rate, 0.00404750224597804), (max_depth, 4), (subsample, 0.6152054204439683), (colsample_bytree, 0.5675369221434724), (min_child_weight, 3)]  \n",
       "48     [(scaling_method, standard), (encoding_method, onehot), (drop, None), (n_estimators, 424), (learning_rate, 0.005225847069261641), (max_depth, 3), (subsample, 0.8423995539297795), (colsample_bytree, 0.7098950222407459), (min_child_weight, 3)]  \n",
       "69   [(scaling_method, standard), (encoding_method, onehot), (drop, first), (n_estimators, 612), (learning_rate, 0.003180535834419085), (max_depth, 4), (subsample, 0.46030725341278156), (colsample_bytree, 0.7917283592606461), (min_child_weight, 4)]  \n",
       "60                   [(scaling_method, maxabs), (encoding_method, ordinal), (n_estimators, 898), (learning_rate, 0.001561454677509108), (max_depth, 4), (subsample, 0.48430319009830197), (colsample_bytree, 0.6513700186269376), (min_child_weight, 4)]  \n",
       "1     [(scaling_method, standard), (encoding_method, onehot), (drop, first), (n_estimators, 492), (learning_rate, 0.002575169388675062), (max_depth, 4), (subsample, 0.4915144462142802), (colsample_bytree, 0.6532977635113766), (min_child_weight, 1)]  \n",
       "3                    [(scaling_method, robust), (encoding_method, ordinal), (n_estimators, 596), (learning_rate, 0.0019054757708370338), (max_depth, 2), (subsample, 0.5207419435989612), (colsample_bytree, 0.9366398860913907), (min_child_weight, 3)]  \n",
       "7          [(scaling_method, robust), (encoding_method, onehot), (drop, None), (n_estimators, 430), (learning_rate, 0.00236275265262563), (max_depth, 2), (subsample, 0.815981948430195), (colsample_bytree, 0.6373099693942408), (min_child_weight, 4)]  \n",
       "173   [(scaling_method, standard), (encoding_method, onehot), (drop, None), (n_estimators, 946), (learning_rate, 0.0010161698445479781), (max_depth, 4), (subsample, 0.6557888522390117), (colsample_bytree, 0.5362084592071534), (min_child_weight, 3)]  \n",
       "18                 [(scaling_method, standard), (encoding_method, ordinal), (n_estimators, 648), (learning_rate, 0.0010067238462570039), (max_depth, 3), (subsample, 0.5955648102937842), (colsample_bytree, 0.8173571053889588), (min_child_weight, 3)]  "
      ]
     },
     "execution_count": 44,
     "metadata": {},
     "output_type": "execute_result"
    }
   ],
   "source": [
    "pd.set_option('display.max_colwidth', None) \n",
    "pd.set_option('display.max_rows', None)\n",
    "optuna_xgb.sort_values(by='Score', ascending=False)"
   ]
  },
  {
   "cell_type": "code",
   "execution_count": 59,
   "id": "fd7dff68",
   "metadata": {},
   "outputs": [],
   "source": [
    "optuna_xgb['encoding'] = optuna_xgb.Parameters.apply(lambda x: x[1][1])"
   ]
  },
  {
   "cell_type": "code",
   "execution_count": 65,
   "id": "d3be2bb7",
   "metadata": {},
   "outputs": [
    {
     "data": {
      "application/vnd.plotly.v1+json": {
       "config": {
        "plotlyServerURL": "https://plot.ly"
       },
       "data": [
        {
         "customdata": [
          [
           [
            [
             "scaling_method",
             "robust"
            ],
            [
             "encoding_method",
             "onehot"
            ],
            [
             "drop",
             null
            ],
            [
             "n_estimators",
             475
            ],
            [
             "learning_rate",
             0.024978041209914686
            ],
            [
             "max_depth",
             2
            ],
            [
             "subsample",
             0.3669553381298013
            ],
            [
             "colsample_bytree",
             0.8770501936980049
            ],
            [
             "min_child_weight",
             2
            ]
           ]
          ],
          [
           [
            [
             "scaling_method",
             "standard"
            ],
            [
             "encoding_method",
             "onehot"
            ],
            [
             "drop",
             "first"
            ],
            [
             "n_estimators",
             492
            ],
            [
             "learning_rate",
             0.002575169388675062
            ],
            [
             "max_depth",
             4
            ],
            [
             "subsample",
             0.4915144462142802
            ],
            [
             "colsample_bytree",
             0.6532977635113766
            ],
            [
             "min_child_weight",
             1
            ]
           ]
          ],
          [
           [
            [
             "scaling_method",
             "robust"
            ],
            [
             "encoding_method",
             "onehot"
            ],
            [
             "drop",
             null
            ],
            [
             "n_estimators",
             897
            ],
            [
             "learning_rate",
             0.07970385240736814
            ],
            [
             "max_depth",
             2
            ],
            [
             "subsample",
             0.6934542266597595
            ],
            [
             "colsample_bytree",
             0.5577068357977943
            ],
            [
             "min_child_weight",
             5
            ]
           ]
          ],
          [
           [
            [
             "scaling_method",
             "maxabs"
            ],
            [
             "encoding_method",
             "onehot"
            ],
            [
             "drop",
             null
            ],
            [
             "n_estimators",
             783
            ],
            [
             "learning_rate",
             0.03190727718335504
            ],
            [
             "max_depth",
             4
            ],
            [
             "subsample",
             0.2378793418825126
            ],
            [
             "colsample_bytree",
             0.6134047977794619
            ],
            [
             "min_child_weight",
             4
            ]
           ]
          ],
          [
           [
            [
             "scaling_method",
             "minmax"
            ],
            [
             "encoding_method",
             "onehot"
            ],
            [
             "drop",
             "first"
            ],
            [
             "n_estimators",
             222
            ],
            [
             "learning_rate",
             0.029553324376275027
            ],
            [
             "max_depth",
             2
            ],
            [
             "subsample",
             0.8027045236665274
            ],
            [
             "colsample_bytree",
             0.9477313907890869
            ],
            [
             "min_child_weight",
             2
            ]
           ]
          ],
          [
           [
            [
             "scaling_method",
             "robust"
            ],
            [
             "encoding_method",
             "onehot"
            ],
            [
             "drop",
             null
            ],
            [
             "n_estimators",
             430
            ],
            [
             "learning_rate",
             0.00236275265262563
            ],
            [
             "max_depth",
             2
            ],
            [
             "subsample",
             0.815981948430195
            ],
            [
             "colsample_bytree",
             0.6373099693942408
            ],
            [
             "min_child_weight",
             4
            ]
           ]
          ],
          [
           [
            [
             "scaling_method",
             "minmax"
            ],
            [
             "encoding_method",
             "onehot"
            ],
            [
             "drop",
             null
            ],
            [
             "n_estimators",
             562
            ],
            [
             "learning_rate",
             0.014190472676294379
            ],
            [
             "max_depth",
             4
            ],
            [
             "subsample",
             0.8992376149624356
            ],
            [
             "colsample_bytree",
             0.8973343921688415
            ],
            [
             "min_child_weight",
             5
            ]
           ]
          ],
          [
           [
            [
             "scaling_method",
             "maxabs"
            ],
            [
             "encoding_method",
             "onehot"
            ],
            [
             "drop",
             "first"
            ],
            [
             "n_estimators",
             983
            ],
            [
             "learning_rate",
             0.004265550219001116
            ],
            [
             "max_depth",
             3
            ],
            [
             "subsample",
             0.3685162719177343
            ],
            [
             "colsample_bytree",
             0.8929034279923462
            ],
            [
             "min_child_weight",
             2
            ]
           ]
          ],
          [
           [
            [
             "scaling_method",
             "maxabs"
            ],
            [
             "encoding_method",
             "onehot"
            ],
            [
             "drop",
             null
            ],
            [
             "n_estimators",
             915
            ],
            [
             "learning_rate",
             0.07974449183044309
            ],
            [
             "max_depth",
             3
            ],
            [
             "subsample",
             0.10180662406426866
            ],
            [
             "colsample_bytree",
             0.5029010467607454
            ],
            [
             "min_child_weight",
             5
            ]
           ]
          ],
          [
           [
            [
             "scaling_method",
             "standard"
            ],
            [
             "encoding_method",
             "onehot"
            ],
            [
             "drop",
             null
            ],
            [
             "n_estimators",
             767
            ],
            [
             "learning_rate",
             0.04729226062014805
            ],
            [
             "max_depth",
             4
            ],
            [
             "subsample",
             0.6474720885394325
            ],
            [
             "colsample_bytree",
             0.6193038536203289
            ],
            [
             "min_child_weight",
             4
            ]
           ]
          ],
          [
           [
            [
             "scaling_method",
             "standard"
            ],
            [
             "encoding_method",
             "onehot"
            ],
            [
             "drop",
             null
            ],
            [
             "n_estimators",
             714
            ],
            [
             "learning_rate",
             0.0397794641187814
            ],
            [
             "max_depth",
             4
            ],
            [
             "subsample",
             0.37871350729210107
            ],
            [
             "colsample_bytree",
             0.7245464695981462
            ],
            [
             "min_child_weight",
             4
            ]
           ]
          ],
          [
           [
            [
             "scaling_method",
             "standard"
            ],
            [
             "encoding_method",
             "onehot"
            ],
            [
             "drop",
             null
            ],
            [
             "n_estimators",
             798
            ],
            [
             "learning_rate",
             0.047391052672483856
            ],
            [
             "max_depth",
             4
            ],
            [
             "subsample",
             0.4067000903264162
            ],
            [
             "colsample_bytree",
             0.7478025594512815
            ],
            [
             "min_child_weight",
             4
            ]
           ]
          ],
          [
           [
            [
             "scaling_method",
             "standard"
            ],
            [
             "encoding_method",
             "onehot"
            ],
            [
             "drop",
             null
            ],
            [
             "n_estimators",
             842
            ],
            [
             "learning_rate",
             0.005404291134180695
            ],
            [
             "max_depth",
             3
            ],
            [
             "subsample",
             0.9669335807392059
            ],
            [
             "colsample_bytree",
             0.786678185168821
            ],
            [
             "min_child_weight",
             3
            ]
           ]
          ],
          [
           [
            [
             "scaling_method",
             "standard"
            ],
            [
             "encoding_method",
             "onehot"
            ],
            [
             "drop",
             null
            ],
            [
             "n_estimators",
             329
            ],
            [
             "learning_rate",
             0.05234945230445804
            ],
            [
             "max_depth",
             4
            ],
            [
             "subsample",
             0.43994892694634324
            ],
            [
             "colsample_bytree",
             0.7050224514266739
            ],
            [
             "min_child_weight",
             4
            ]
           ]
          ],
          [
           [
            [
             "scaling_method",
             "standard"
            ],
            [
             "encoding_method",
             "onehot"
            ],
            [
             "drop",
             "first"
            ],
            [
             "n_estimators",
             140
            ],
            [
             "learning_rate",
             0.0530561429674577
            ],
            [
             "max_depth",
             4
            ],
            [
             "subsample",
             0.287551892168741
            ],
            [
             "colsample_bytree",
             0.6906448985388419
            ],
            [
             "min_child_weight",
             5
            ]
           ]
          ],
          [
           [
            [
             "scaling_method",
             "standard"
            ],
            [
             "encoding_method",
             "onehot"
            ],
            [
             "drop",
             null
            ],
            [
             "n_estimators",
             795
            ],
            [
             "learning_rate",
             0.016426239722196482
            ],
            [
             "max_depth",
             4
            ],
            [
             "subsample",
             0.6590854659019745
            ],
            [
             "colsample_bytree",
             0.585607942317437
            ],
            [
             "min_child_weight",
             4
            ]
           ]
          ],
          [
           [
            [
             "scaling_method",
             "standard"
            ],
            [
             "encoding_method",
             "onehot"
            ],
            [
             "drop",
             null
            ],
            [
             "n_estimators",
             694
            ],
            [
             "learning_rate",
             0.044444172994943326
            ],
            [
             "max_depth",
             4
            ],
            [
             "subsample",
             0.40445909774362404
            ],
            [
             "colsample_bytree",
             0.7061072671597574
            ],
            [
             "min_child_weight",
             4
            ]
           ]
          ],
          [
           [
            [
             "scaling_method",
             "standard"
            ],
            [
             "encoding_method",
             "onehot"
            ],
            [
             "drop",
             null
            ],
            [
             "n_estimators",
             689
            ],
            [
             "learning_rate",
             0.04973463715370684
            ],
            [
             "max_depth",
             4
            ],
            [
             "subsample",
             0.460083800904819
            ],
            [
             "colsample_bytree",
             0.8130556238937897
            ],
            [
             "min_child_weight",
             4
            ]
           ]
          ],
          [
           [
            [
             "scaling_method",
             "standard"
            ],
            [
             "encoding_method",
             "onehot"
            ],
            [
             "drop",
             null
            ],
            [
             "n_estimators",
             873
            ],
            [
             "learning_rate",
             0.019086552580620857
            ],
            [
             "max_depth",
             4
            ],
            [
             "subsample",
             0.5499300375224502
            ],
            [
             "colsample_bytree",
             0.8244043229522998
            ],
            [
             "min_child_weight",
             3
            ]
           ]
          ],
          [
           [
            [
             "scaling_method",
             "standard"
            ],
            [
             "encoding_method",
             "onehot"
            ],
            [
             "drop",
             null
            ],
            [
             "n_estimators",
             982
            ],
            [
             "learning_rate",
             0.059245798247765644
            ],
            [
             "max_depth",
             3
            ],
            [
             "subsample",
             0.28031885943555257
            ],
            [
             "colsample_bytree",
             0.7666886629148627
            ],
            [
             "min_child_weight",
             5
            ]
           ]
          ],
          [
           [
            [
             "scaling_method",
             "standard"
            ],
            [
             "encoding_method",
             "onehot"
            ],
            [
             "drop",
             null
            ],
            [
             "n_estimators",
             745
            ],
            [
             "learning_rate",
             0.009681056665650074
            ],
            [
             "max_depth",
             4
            ],
            [
             "subsample",
             0.46284324273362576
            ],
            [
             "colsample_bytree",
             0.9903299056449928
            ],
            [
             "min_child_weight",
             4
            ]
           ]
          ],
          [
           [
            [
             "scaling_method",
             "standard"
            ],
            [
             "encoding_method",
             "onehot"
            ],
            [
             "drop",
             null
            ],
            [
             "n_estimators",
             824
            ],
            [
             "learning_rate",
             0.06481525771599732
            ],
            [
             "max_depth",
             3
            ],
            [
             "subsample",
             0.5663178703879708
            ],
            [
             "colsample_bytree",
             0.6713616769508152
            ],
            [
             "min_child_weight",
             4
            ]
           ]
          ],
          [
           [
            [
             "scaling_method",
             "minmax"
            ],
            [
             "encoding_method",
             "onehot"
            ],
            [
             "drop",
             "first"
            ],
            [
             "n_estimators",
             551
            ],
            [
             "learning_rate",
             0.09855248402855467
            ],
            [
             "max_depth",
             4
            ],
            [
             "subsample",
             0.49567245987555175
            ],
            [
             "colsample_bytree",
             0.8584816973936492
            ],
            [
             "min_child_weight",
             5
            ]
           ]
          ],
          [
           [
            [
             "scaling_method",
             "robust"
            ],
            [
             "encoding_method",
             "onehot"
            ],
            [
             "drop",
             null
            ],
            [
             "n_estimators",
             920
            ],
            [
             "learning_rate",
             0.025607394808080226
            ],
            [
             "max_depth",
             3
            ],
            [
             "subsample",
             0.30284178066813316
            ],
            [
             "colsample_bytree",
             0.7437036929866911
            ],
            [
             "min_child_weight",
             1
            ]
           ]
          ],
          [
           [
            [
             "scaling_method",
             "standard"
            ],
            [
             "encoding_method",
             "onehot"
            ],
            [
             "drop",
             null
            ],
            [
             "n_estimators",
             487
            ],
            [
             "learning_rate",
             0.010463185713603128
            ],
            [
             "max_depth",
             4
            ],
            [
             "subsample",
             0.6428368830901725
            ],
            [
             "colsample_bytree",
             0.794344040387567
            ],
            [
             "min_child_weight",
             3
            ]
           ]
          ],
          [
           [
            [
             "scaling_method",
             "standard"
            ],
            [
             "encoding_method",
             "onehot"
            ],
            [
             "drop",
             null
            ],
            [
             "n_estimators",
             793
            ],
            [
             "learning_rate",
             0.06662733767657203
            ],
            [
             "max_depth",
             3
            ],
            [
             "subsample",
             0.5804943646135519
            ],
            [
             "colsample_bytree",
             0.6655508398105485
            ],
            [
             "min_child_weight",
             4
            ]
           ]
          ],
          [
           [
            [
             "scaling_method",
             "standard"
            ],
            [
             "encoding_method",
             "onehot"
            ],
            [
             "drop",
             null
            ],
            [
             "n_estimators",
             825
            ],
            [
             "learning_rate",
             0.0633557390420292
            ],
            [
             "max_depth",
             3
            ],
            [
             "subsample",
             0.43083837680973097
            ],
            [
             "colsample_bytree",
             0.6639364059217894
            ],
            [
             "min_child_weight",
             4
            ]
           ]
          ],
          [
           [
            [
             "scaling_method",
             "standard"
            ],
            [
             "encoding_method",
             "onehot"
            ],
            [
             "drop",
             null
            ],
            [
             "n_estimators",
             702
            ],
            [
             "learning_rate",
             0.04700994412308481
            ],
            [
             "max_depth",
             3
            ],
            [
             "subsample",
             0.4317531393960828
            ],
            [
             "colsample_bytree",
             0.6319610584402935
            ],
            [
             "min_child_weight",
             4
            ]
           ]
          ],
          [
           [
            [
             "scaling_method",
             "standard"
            ],
            [
             "encoding_method",
             "onehot"
            ],
            [
             "drop",
             null
            ],
            [
             "n_estimators",
             857
            ],
            [
             "learning_rate",
             0.031123390392781725
            ],
            [
             "max_depth",
             4
            ],
            [
             "subsample",
             0.3482098538153208
            ],
            [
             "colsample_bytree",
             0.5808662668216741
            ],
            [
             "min_child_weight",
             5
            ]
           ]
          ],
          [
           [
            [
             "scaling_method",
             "robust"
            ],
            [
             "encoding_method",
             "onehot"
            ],
            [
             "drop",
             null
            ],
            [
             "n_estimators",
             742
            ],
            [
             "learning_rate",
             0.022518020384094138
            ],
            [
             "max_depth",
             3
            ],
            [
             "subsample",
             0.5151889380474837
            ],
            [
             "colsample_bytree",
             0.6110828695020909
            ],
            [
             "min_child_weight",
             4
            ]
           ]
          ],
          [
           [
            [
             "scaling_method",
             "standard"
            ],
            [
             "encoding_method",
             "onehot"
            ],
            [
             "drop",
             null
            ],
            [
             "n_estimators",
             637
            ],
            [
             "learning_rate",
             0.07110441706969593
            ],
            [
             "max_depth",
             4
            ],
            [
             "subsample",
             0.238357312876637
            ],
            [
             "colsample_bytree",
             0.550710244241414
            ],
            [
             "min_child_weight",
             3
            ]
           ]
          ],
          [
           [
            [
             "scaling_method",
             "minmax"
            ],
            [
             "encoding_method",
             "onehot"
            ],
            [
             "drop",
             null
            ],
            [
             "n_estimators",
             579
            ],
            [
             "learning_rate",
             0.048017023471238866
            ],
            [
             "max_depth",
             4
            ],
            [
             "subsample",
             0.7157584732777649
            ],
            [
             "colsample_bytree",
             0.8503372513092223
            ],
            [
             "min_child_weight",
             4
            ]
           ]
          ],
          [
           [
            [
             "scaling_method",
             "robust"
            ],
            [
             "encoding_method",
             "onehot"
            ],
            [
             "drop",
             "first"
            ],
            [
             "n_estimators",
             810
            ],
            [
             "learning_rate",
             0.09873302281050222
            ],
            [
             "max_depth",
             3
            ],
            [
             "subsample",
             0.3327976395193738
            ],
            [
             "colsample_bytree",
             0.7836175564404917
            ],
            [
             "min_child_weight",
             4
            ]
           ]
          ],
          [
           [
            [
             "scaling_method",
             "maxabs"
            ],
            [
             "encoding_method",
             "onehot"
            ],
            [
             "drop",
             null
            ],
            [
             "n_estimators",
             730
            ],
            [
             "learning_rate",
             0.02735036824125526
            ],
            [
             "max_depth",
             2
            ],
            [
             "subsample",
             0.530142890005902
            ],
            [
             "colsample_bytree",
             0.6418755244170449
            ],
            [
             "min_child_weight",
             5
            ]
           ]
          ],
          [
           [
            [
             "scaling_method",
             "standard"
            ],
            [
             "encoding_method",
             "onehot"
            ],
            [
             "drop",
             null
            ],
            [
             "n_estimators",
             872
            ],
            [
             "learning_rate",
             0.06507545497261033
            ],
            [
             "max_depth",
             3
            ],
            [
             "subsample",
             0.5780033294966029
            ],
            [
             "colsample_bytree",
             0.6732037297267573
            ],
            [
             "min_child_weight",
             4
            ]
           ]
          ],
          [
           [
            [
             "scaling_method",
             "standard"
            ],
            [
             "encoding_method",
             "onehot"
            ],
            [
             "drop",
             null
            ],
            [
             "n_estimators",
             885
            ],
            [
             "learning_rate",
             0.07510205062663165
            ],
            [
             "max_depth",
             3
            ],
            [
             "subsample",
             0.6824401559388008
            ],
            [
             "colsample_bytree",
             0.675004135054794
            ],
            [
             "min_child_weight",
             4
            ]
           ]
          ],
          [
           [
            [
             "scaling_method",
             "standard"
            ],
            [
             "encoding_method",
             "onehot"
            ],
            [
             "drop",
             null
            ],
            [
             "n_estimators",
             768
            ],
            [
             "learning_rate",
             0.058708576512874006
            ],
            [
             "max_depth",
             3
            ],
            [
             "subsample",
             0.4217194893229429
            ],
            [
             "colsample_bytree",
             0.6118020489115675
            ],
            [
             "min_child_weight",
             4
            ]
           ]
          ],
          [
           [
            [
             "scaling_method",
             "standard"
            ],
            [
             "encoding_method",
             "onehot"
            ],
            [
             "drop",
             null
            ],
            [
             "n_estimators",
             956
            ],
            [
             "learning_rate",
             0.03403486706534832
            ],
            [
             "max_depth",
             3
            ],
            [
             "subsample",
             0.7502924963558425
            ],
            [
             "colsample_bytree",
             0.6189330459034983
            ],
            [
             "min_child_weight",
             4
            ]
           ]
          ],
          [
           [
            [
             "scaling_method",
             "maxabs"
            ],
            [
             "encoding_method",
             "onehot"
            ],
            [
             "drop",
             null
            ],
            [
             "n_estimators",
             868
            ],
            [
             "learning_rate",
             0.07977665892922679
            ],
            [
             "max_depth",
             3
            ],
            [
             "subsample",
             0.604257887698297
            ],
            [
             "colsample_bytree",
             0.5574166696308082
            ],
            [
             "min_child_weight",
             4
            ]
           ]
          ],
          [
           [
            [
             "scaling_method",
             "standard"
            ],
            [
             "encoding_method",
             "onehot"
            ],
            [
             "drop",
             "first"
            ],
            [
             "n_estimators",
             829
            ],
            [
             "learning_rate",
             0.042226907002724696
            ],
            [
             "max_depth",
             3
            ],
            [
             "subsample",
             0.40397386309186856
            ],
            [
             "colsample_bytree",
             0.6493312297794681
            ],
            [
             "min_child_weight",
             1
            ]
           ]
          ],
          [
           [
            [
             "scaling_method",
             "standard"
            ],
            [
             "encoding_method",
             "onehot"
            ],
            [
             "drop",
             null
            ],
            [
             "n_estimators",
             424
            ],
            [
             "learning_rate",
             0.005225847069261641
            ],
            [
             "max_depth",
             3
            ],
            [
             "subsample",
             0.8423995539297795
            ],
            [
             "colsample_bytree",
             0.7098950222407459
            ],
            [
             "min_child_weight",
             3
            ]
           ]
          ],
          [
           [
            [
             "scaling_method",
             "standard"
            ],
            [
             "encoding_method",
             "onehot"
            ],
            [
             "drop",
             null
            ],
            [
             "n_estimators",
             773
            ],
            [
             "learning_rate",
             0.02211899739414929
            ],
            [
             "max_depth",
             3
            ],
            [
             "subsample",
             0.23330635463689187
            ],
            [
             "colsample_bytree",
             0.5233698595895443
            ],
            [
             "min_child_weight",
             2
            ]
           ]
          ],
          [
           [
            [
             "scaling_method",
             "standard"
            ],
            [
             "encoding_method",
             "onehot"
            ],
            [
             "drop",
             null
            ],
            [
             "n_estimators",
             655
            ],
            [
             "learning_rate",
             0.055705325059321784
            ],
            [
             "max_depth",
             3
            ],
            [
             "subsample",
             0.4339233780973017
            ],
            [
             "colsample_bytree",
             0.6848917474882584
            ],
            [
             "min_child_weight",
             4
            ]
           ]
          ],
          [
           [
            [
             "scaling_method",
             "standard"
            ],
            [
             "encoding_method",
             "onehot"
            ],
            [
             "drop",
             null
            ],
            [
             "n_estimators",
             830
            ],
            [
             "learning_rate",
             0.04155081636892581
            ],
            [
             "max_depth",
             4
            ],
            [
             "subsample",
             0.4509109758118648
            ],
            [
             "colsample_bytree",
             0.7291190973380179
            ],
            [
             "min_child_weight",
             4
            ]
           ]
          ],
          [
           [
            [
             "scaling_method",
             "standard"
            ],
            [
             "encoding_method",
             "onehot"
            ],
            [
             "drop",
             null
            ],
            [
             "n_estimators",
             893
            ],
            [
             "learning_rate",
             0.03982404616996275
            ],
            [
             "max_depth",
             4
            ],
            [
             "subsample",
             0.4081071285413448
            ],
            [
             "colsample_bytree",
             0.7207254099784625
            ],
            [
             "min_child_weight",
             4
            ]
           ]
          ],
          [
           [
            [
             "scaling_method",
             "standard"
            ],
            [
             "encoding_method",
             "onehot"
            ],
            [
             "drop",
             null
            ],
            [
             "n_estimators",
             931
            ],
            [
             "learning_rate",
             0.029788987261082294
            ],
            [
             "max_depth",
             4
            ],
            [
             "subsample",
             0.6402097757161616
            ],
            [
             "colsample_bytree",
             0.6587113500128999
            ],
            [
             "min_child_weight",
             4
            ]
           ]
          ],
          [
           [
            [
             "scaling_method",
             "standard"
            ],
            [
             "encoding_method",
             "onehot"
            ],
            [
             "drop",
             null
            ],
            [
             "n_estimators",
             824
            ],
            [
             "learning_rate",
             0.06499554044005938
            ],
            [
             "max_depth",
             3
            ],
            [
             "subsample",
             0.5447255766810911
            ],
            [
             "colsample_bytree",
             0.6877576511022102
            ],
            [
             "min_child_weight",
             4
            ]
           ]
          ],
          [
           [
            [
             "scaling_method",
             "maxabs"
            ],
            [
             "encoding_method",
             "onehot"
            ],
            [
             "drop",
             null
            ],
            [
             "n_estimators",
             842
            ],
            [
             "learning_rate",
             0.09154124161051745
            ],
            [
             "max_depth",
             4
            ],
            [
             "subsample",
             0.4905394952545925
            ],
            [
             "colsample_bytree",
             0.7323398631820065
            ],
            [
             "min_child_weight",
             4
            ]
           ]
          ],
          [
           [
            [
             "scaling_method",
             "maxabs"
            ],
            [
             "encoding_method",
             "onehot"
            ],
            [
             "drop",
             "first"
            ],
            [
             "n_estimators",
             954
            ],
            [
             "learning_rate",
             0.09980714173196387
            ],
            [
             "max_depth",
             3
            ],
            [
             "subsample",
             0.49469420503819833
            ],
            [
             "colsample_bytree",
             0.7305679000533077
            ],
            [
             "min_child_weight",
             4
            ]
           ]
          ],
          [
           [
            [
             "scaling_method",
             "maxabs"
            ],
            [
             "encoding_method",
             "onehot"
            ],
            [
             "drop",
             null
            ],
            [
             "n_estimators",
             852
            ],
            [
             "learning_rate",
             0.08476139528316784
            ],
            [
             "max_depth",
             4
            ],
            [
             "subsample",
             0.5696225551194105
            ],
            [
             "colsample_bytree",
             0.6981172785855054
            ],
            [
             "min_child_weight",
             3
            ]
           ]
          ],
          [
           [
            [
             "scaling_method",
             "maxabs"
            ],
            [
             "encoding_method",
             "onehot"
            ],
            [
             "drop",
             null
            ],
            [
             "n_estimators",
             755
            ],
            [
             "learning_rate",
             0.01365127944383386
            ],
            [
             "max_depth",
             3
            ],
            [
             "subsample",
             0.6857844128277272
            ],
            [
             "colsample_bytree",
             0.6299597470824319
            ],
            [
             "min_child_weight",
             5
            ]
           ]
          ],
          [
           [
            [
             "scaling_method",
             "standard"
            ],
            [
             "encoding_method",
             "onehot"
            ],
            [
             "drop",
             null
            ],
            [
             "n_estimators",
             792
            ],
            [
             "learning_rate",
             0.05730470324713337
            ],
            [
             "max_depth",
             4
            ],
            [
             "subsample",
             0.38030710308790805
            ],
            [
             "colsample_bytree",
             0.7606713255269029
            ],
            [
             "min_child_weight",
             4
            ]
           ]
          ],
          [
           [
            [
             "scaling_method",
             "standard"
            ],
            [
             "encoding_method",
             "onehot"
            ],
            [
             "drop",
             null
            ],
            [
             "n_estimators",
             727
            ],
            [
             "learning_rate",
             0.053836140278987386
            ],
            [
             "max_depth",
             4
            ],
            [
             "subsample",
             0.33495793747312985
            ],
            [
             "colsample_bytree",
             0.7767101008318574
            ],
            [
             "min_child_weight",
             4
            ]
           ]
          ],
          [
           [
            [
             "scaling_method",
             "maxabs"
            ],
            [
             "encoding_method",
             "onehot"
            ],
            [
             "drop",
             null
            ],
            [
             "n_estimators",
             845
            ],
            [
             "learning_rate",
             0.06669732972994195
            ],
            [
             "max_depth",
             4
            ],
            [
             "subsample",
             0.308519083787203
            ],
            [
             "colsample_bytree",
             0.7721243771984889
            ],
            [
             "min_child_weight",
             4
            ]
           ]
          ],
          [
           [
            [
             "scaling_method",
             "minmax"
            ],
            [
             "encoding_method",
             "onehot"
            ],
            [
             "drop",
             null
            ],
            [
             "n_estimators",
             809
            ],
            [
             "learning_rate",
             0.05185357281894903
            ],
            [
             "max_depth",
             4
            ],
            [
             "subsample",
             0.36306012279158645
            ],
            [
             "colsample_bytree",
             0.752193401428429
            ],
            [
             "min_child_weight",
             4
            ]
           ]
          ],
          [
           [
            [
             "scaling_method",
             "standard"
            ],
            [
             "encoding_method",
             "onehot"
            ],
            [
             "drop",
             null
            ],
            [
             "n_estimators",
             722
            ],
            [
             "learning_rate",
             0.04249423378391319
            ],
            [
             "max_depth",
             4
            ],
            [
             "subsample",
             0.2662546581725011
            ],
            [
             "colsample_bytree",
             0.7138489407159679
            ],
            [
             "min_child_weight",
             4
            ]
           ]
          ],
          [
           [
            [
             "scaling_method",
             "standard"
            ],
            [
             "encoding_method",
             "onehot"
            ],
            [
             "drop",
             null
            ],
            [
             "n_estimators",
             670
            ],
            [
             "learning_rate",
             0.07762419085523724
            ],
            [
             "max_depth",
             4
            ],
            [
             "subsample",
             0.16585966110263134
            ],
            [
             "colsample_bytree",
             0.7667749690150173
            ],
            [
             "min_child_weight",
             3
            ]
           ]
          ],
          [
           [
            [
             "scaling_method",
             "standard"
            ],
            [
             "encoding_method",
             "onehot"
            ],
            [
             "drop",
             null
            ],
            [
             "n_estimators",
             787
            ],
            [
             "learning_rate",
             0.08978858148170225
            ],
            [
             "max_depth",
             4
            ],
            [
             "subsample",
             0.6146630045505043
            ],
            [
             "colsample_bytree",
             0.7311879681120449
            ],
            [
             "min_child_weight",
             5
            ]
           ]
          ],
          [
           [
            [
             "scaling_method",
             "standard"
            ],
            [
             "encoding_method",
             "onehot"
            ],
            [
             "drop",
             null
            ],
            [
             "n_estimators",
             711
            ],
            [
             "learning_rate",
             0.007428619903766021
            ],
            [
             "max_depth",
             4
            ],
            [
             "subsample",
             0.32384631892186777
            ],
            [
             "colsample_bytree",
             0.8120015177420874
            ],
            [
             "min_child_weight",
             4
            ]
           ]
          ],
          [
           [
            [
             "scaling_method",
             "standard"
            ],
            [
             "encoding_method",
             "onehot"
            ],
            [
             "drop",
             "first"
            ],
            [
             "n_estimators",
             612
            ],
            [
             "learning_rate",
             0.003180535834419085
            ],
            [
             "max_depth",
             4
            ],
            [
             "subsample",
             0.46030725341278156
            ],
            [
             "colsample_bytree",
             0.7917283592606461
            ],
            [
             "min_child_weight",
             4
            ]
           ]
          ],
          [
           [
            [
             "scaling_method",
             "maxabs"
            ],
            [
             "encoding_method",
             "onehot"
            ],
            [
             "drop",
             null
            ],
            [
             "n_estimators",
             525
            ],
            [
             "learning_rate",
             0.03543469282093258
            ],
            [
             "max_depth",
             4
            ],
            [
             "subsample",
             0.3807647526056799
            ],
            [
             "colsample_bytree",
             0.7576854110654505
            ],
            [
             "min_child_weight",
             4
            ]
           ]
          ],
          [
           [
            [
             "scaling_method",
             "standard"
            ],
            [
             "encoding_method",
             "onehot"
            ],
            [
             "drop",
             null
            ],
            [
             "n_estimators",
             749
            ],
            [
             "learning_rate",
             0.05938083839256959
            ],
            [
             "max_depth",
             4
            ],
            [
             "subsample",
             0.44555189240029336
            ],
            [
             "colsample_bytree",
             0.594592957306584
            ],
            [
             "min_child_weight",
             4
            ]
           ]
          ],
          [
           [
            [
             "scaling_method",
             "standard"
            ],
            [
             "encoding_method",
             "onehot"
            ],
            [
             "drop",
             null
            ],
            [
             "n_estimators",
             836
            ],
            [
             "learning_rate",
             0.06098549954349969
            ],
            [
             "max_depth",
             4
            ],
            [
             "subsample",
             0.44603771652553886
            ],
            [
             "colsample_bytree",
             0.5696930291785585
            ],
            [
             "min_child_weight",
             4
            ]
           ]
          ],
          [
           [
            [
             "scaling_method",
             "standard"
            ],
            [
             "encoding_method",
             "onehot"
            ],
            [
             "drop",
             null
            ],
            [
             "n_estimators",
             744
            ],
            [
             "learning_rate",
             0.07150715958441867
            ],
            [
             "max_depth",
             4
            ],
            [
             "subsample",
             0.509399435733443
            ],
            [
             "colsample_bytree",
             0.6771240056977652
            ],
            [
             "min_child_weight",
             4
            ]
           ]
          ],
          [
           [
            [
             "scaling_method",
             "standard"
            ],
            [
             "encoding_method",
             "onehot"
            ],
            [
             "drop",
             null
            ],
            [
             "n_estimators",
             874
            ],
            [
             "learning_rate",
             0.04900463652882283
            ],
            [
             "max_depth",
             4
            ],
            [
             "subsample",
             0.5451772187138496
            ],
            [
             "colsample_bytree",
             0.5943850037519653
            ],
            [
             "min_child_weight",
             4
            ]
           ]
          ],
          [
           [
            [
             "scaling_method",
             "standard"
            ],
            [
             "encoding_method",
             "onehot"
            ],
            [
             "drop",
             null
            ],
            [
             "n_estimators",
             910
            ],
            [
             "learning_rate",
             0.051644707541483405
            ],
            [
             "max_depth",
             4
            ],
            [
             "subsample",
             0.5835800315884345
            ],
            [
             "colsample_bytree",
             0.5343120147350685
            ],
            [
             "min_child_weight",
             4
            ]
           ]
          ],
          [
           [
            [
             "scaling_method",
             "standard"
            ],
            [
             "encoding_method",
             "onehot"
            ],
            [
             "drop",
             null
            ],
            [
             "n_estimators",
             905
            ],
            [
             "learning_rate",
             0.04643973848790804
            ],
            [
             "max_depth",
             4
            ],
            [
             "subsample",
             0.5797329944770706
            ],
            [
             "colsample_bytree",
             0.527504939004116
            ],
            [
             "min_child_weight",
             3
            ]
           ]
          ],
          [
           [
            [
             "scaling_method",
             "standard"
            ],
            [
             "encoding_method",
             "onehot"
            ],
            [
             "drop",
             null
            ],
            [
             "n_estimators",
             956
            ],
            [
             "learning_rate",
             0.04648810682324537
            ],
            [
             "max_depth",
             4
            ],
            [
             "subsample",
             0.5836446443704956
            ],
            [
             "colsample_bytree",
             0.542127444547118
            ],
            [
             "min_child_weight",
             3
            ]
           ]
          ],
          [
           [
            [
             "scaling_method",
             "standard"
            ],
            [
             "encoding_method",
             "onehot"
            ],
            [
             "drop",
             null
            ],
            [
             "n_estimators",
             908
            ],
            [
             "learning_rate",
             0.03751487354648077
            ],
            [
             "max_depth",
             4
            ],
            [
             "subsample",
             0.6465403080003055
            ],
            [
             "colsample_bytree",
             0.541491042117335
            ],
            [
             "min_child_weight",
             3
            ]
           ]
          ],
          [
           [
            [
             "scaling_method",
             "robust"
            ],
            [
             "encoding_method",
             "onehot"
            ],
            [
             "drop",
             null
            ],
            [
             "n_estimators",
             908
            ],
            [
             "learning_rate",
             0.027305437112644736
            ],
            [
             "max_depth",
             4
            ],
            [
             "subsample",
             0.657366283428624
            ],
            [
             "colsample_bytree",
             0.5395747428539072
            ],
            [
             "min_child_weight",
             3
            ]
           ]
          ],
          [
           [
            [
             "scaling_method",
             "standard"
            ],
            [
             "encoding_method",
             "onehot"
            ],
            [
             "drop",
             null
            ],
            [
             "n_estimators",
             937
            ],
            [
             "learning_rate",
             0.04021124807781962
            ],
            [
             "max_depth",
             4
            ],
            [
             "subsample",
             0.5555256528827893
            ],
            [
             "colsample_bytree",
             0.5462831730811686
            ],
            [
             "min_child_weight",
             3
            ]
           ]
          ],
          [
           [
            [
             "scaling_method",
             "standard"
            ],
            [
             "encoding_method",
             "onehot"
            ],
            [
             "drop",
             null
            ],
            [
             "n_estimators",
             942
            ],
            [
             "learning_rate",
             0.03654611491837465
            ],
            [
             "max_depth",
             4
            ],
            [
             "subsample",
             0.6240160867286582
            ],
            [
             "colsample_bytree",
             0.5091263872207336
            ],
            [
             "min_child_weight",
             3
            ]
           ]
          ],
          [
           [
            [
             "scaling_method",
             "standard"
            ],
            [
             "encoding_method",
             "onehot"
            ],
            [
             "drop",
             null
            ],
            [
             "n_estimators",
             938
            ],
            [
             "learning_rate",
             0.031787966738374356
            ],
            [
             "max_depth",
             4
            ],
            [
             "subsample",
             0.5612832929570061
            ],
            [
             "colsample_bytree",
             0.5000475314191094
            ],
            [
             "min_child_weight",
             3
            ]
           ]
          ],
          [
           [
            [
             "scaling_method",
             "standard"
            ],
            [
             "encoding_method",
             "onehot"
            ],
            [
             "drop",
             null
            ],
            [
             "n_estimators",
             982
            ],
            [
             "learning_rate",
             0.04368730520522419
            ],
            [
             "max_depth",
             4
            ],
            [
             "subsample",
             0.6156842460645957
            ],
            [
             "colsample_bytree",
             0.5273694704668308
            ],
            [
             "min_child_weight",
             3
            ]
           ]
          ],
          [
           [
            [
             "scaling_method",
             "standard"
            ],
            [
             "encoding_method",
             "onehot"
            ],
            [
             "drop",
             null
            ],
            [
             "n_estimators",
             975
            ],
            [
             "learning_rate",
             0.042596843254780296
            ],
            [
             "max_depth",
             4
            ],
            [
             "subsample",
             0.5904568978593641
            ],
            [
             "colsample_bytree",
             0.5156085878989596
            ],
            [
             "min_child_weight",
             2
            ]
           ]
          ],
          [
           [
            [
             "scaling_method",
             "standard"
            ],
            [
             "encoding_method",
             "onehot"
            ],
            [
             "drop",
             null
            ],
            [
             "n_estimators",
             986
            ],
            [
             "learning_rate",
             0.039379098090284614
            ],
            [
             "max_depth",
             4
            ],
            [
             "subsample",
             0.6202242655918409
            ],
            [
             "colsample_bytree",
             0.517705882920031
            ],
            [
             "min_child_weight",
             2
            ]
           ]
          ],
          [
           [
            [
             "scaling_method",
             "standard"
            ],
            [
             "encoding_method",
             "onehot"
            ],
            [
             "drop",
             null
            ],
            [
             "n_estimators",
             972
            ],
            [
             "learning_rate",
             0.03455744990975655
            ],
            [
             "max_depth",
             4
            ],
            [
             "subsample",
             0.7149221353573602
            ],
            [
             "colsample_bytree",
             0.5300936187203431
            ],
            [
             "min_child_weight",
             2
            ]
           ]
          ],
          [
           [
            [
             "scaling_method",
             "minmax"
            ],
            [
             "encoding_method",
             "onehot"
            ],
            [
             "drop",
             "first"
            ],
            [
             "n_estimators",
             938
            ],
            [
             "learning_rate",
             0.019147501431610953
            ],
            [
             "max_depth",
             4
            ],
            [
             "subsample",
             0.6310574549953281
            ],
            [
             "colsample_bytree",
             0.5696746455766672
            ],
            [
             "min_child_weight",
             2
            ]
           ]
          ],
          [
           [
            [
             "scaling_method",
             "standard"
            ],
            [
             "encoding_method",
             "onehot"
            ],
            [
             "drop",
             null
            ],
            [
             "n_estimators",
             876
            ],
            [
             "learning_rate",
             0.04284889602667325
            ],
            [
             "max_depth",
             4
            ],
            [
             "subsample",
             0.6755685832511081
            ],
            [
             "colsample_bytree",
             0.5070089553603792
            ],
            [
             "min_child_weight",
             3
            ]
           ]
          ],
          [
           [
            [
             "scaling_method",
             "standard"
            ],
            [
             "encoding_method",
             "onehot"
            ],
            [
             "drop",
             null
            ],
            [
             "n_estimators",
             995
            ],
            [
             "learning_rate",
             0.04244147495658048
            ],
            [
             "max_depth",
             4
            ],
            [
             "subsample",
             0.7567686860461925
            ],
            [
             "colsample_bytree",
             0.5095063076498145
            ],
            [
             "min_child_weight",
             3
            ]
           ]
          ],
          [
           [
            [
             "scaling_method",
             "standard"
            ],
            [
             "encoding_method",
             "onehot"
            ],
            [
             "drop",
             null
            ],
            [
             "n_estimators",
             914
            ],
            [
             "learning_rate",
             0.05278614174012599
            ],
            [
             "max_depth",
             4
            ],
            [
             "subsample",
             0.6705316242623164
            ],
            [
             "colsample_bytree",
             0.5702774859397934
            ],
            [
             "min_child_weight",
             3
            ]
           ]
          ],
          [
           [
            [
             "scaling_method",
             "standard"
            ],
            [
             "encoding_method",
             "onehot"
            ],
            [
             "drop",
             null
            ],
            [
             "n_estimators",
             873
            ],
            [
             "learning_rate",
             0.025452700620830635
            ],
            [
             "max_depth",
             4
            ],
            [
             "subsample",
             0.5979731687560089
            ],
            [
             "colsample_bytree",
             0.5086710177474951
            ],
            [
             "min_child_weight",
             1
            ]
           ]
          ],
          [
           [
            [
             "scaling_method",
             "standard"
            ],
            [
             "encoding_method",
             "onehot"
            ],
            [
             "drop",
             null
            ],
            [
             "n_estimators",
             940
            ],
            [
             "learning_rate",
             0.032135955817887724
            ],
            [
             "max_depth",
             4
            ],
            [
             "subsample",
             0.5368060769873285
            ],
            [
             "colsample_bytree",
             0.5296680436797417
            ],
            [
             "min_child_weight",
             3
            ]
           ]
          ],
          [
           [
            [
             "scaling_method",
             "standard"
            ],
            [
             "encoding_method",
             "onehot"
            ],
            [
             "drop",
             null
            ],
            [
             "n_estimators",
             976
            ],
            [
             "learning_rate",
             0.043822650319510104
            ],
            [
             "max_depth",
             4
            ],
            [
             "subsample",
             0.5679021003871656
            ],
            [
             "colsample_bytree",
             0.5538218292462826
            ],
            [
             "min_child_weight",
             2
            ]
           ]
          ],
          [
           [
            [
             "scaling_method",
             "standard"
            ],
            [
             "encoding_method",
             "onehot"
            ],
            [
             "drop",
             null
            ],
            [
             "n_estimators",
             1000
            ],
            [
             "learning_rate",
             0.02864743499349998
            ],
            [
             "max_depth",
             4
            ],
            [
             "subsample",
             0.7063851402593533
            ],
            [
             "colsample_bytree",
             0.5524198768734881
            ],
            [
             "min_child_weight",
             2
            ]
           ]
          ],
          [
           [
            [
             "scaling_method",
             "standard"
            ],
            [
             "encoding_method",
             "onehot"
            ],
            [
             "drop",
             null
            ],
            [
             "n_estimators",
             971
            ],
            [
             "learning_rate",
             0.03954199065077492
            ],
            [
             "max_depth",
             4
            ],
            [
             "subsample",
             0.5584322348174456
            ],
            [
             "colsample_bytree",
             0.5151459556738267
            ],
            [
             "min_child_weight",
             2
            ]
           ]
          ],
          [
           [
            [
             "scaling_method",
             "standard"
            ],
            [
             "encoding_method",
             "onehot"
            ],
            [
             "drop",
             null
            ],
            [
             "n_estimators",
             887
            ],
            [
             "learning_rate",
             0.023656481515760056
            ],
            [
             "max_depth",
             4
            ],
            [
             "subsample",
             0.6689721108410434
            ],
            [
             "colsample_bytree",
             0.5568582769795728
            ],
            [
             "min_child_weight",
             3
            ]
           ]
          ],
          [
           [
            [
             "scaling_method",
             "robust"
            ],
            [
             "encoding_method",
             "onehot"
            ],
            [
             "drop",
             null
            ],
            [
             "n_estimators",
             979
            ],
            [
             "learning_rate",
             0.05263794345892966
            ],
            [
             "max_depth",
             4
            ],
            [
             "subsample",
             0.7384877078873608
            ],
            [
             "colsample_bytree",
             0.9031941696659809
            ],
            [
             "min_child_weight",
             3
            ]
           ]
          ],
          [
           [
            [
             "scaling_method",
             "standard"
            ],
            [
             "encoding_method",
             "onehot"
            ],
            [
             "drop",
             null
            ],
            [
             "n_estimators",
             945
            ],
            [
             "learning_rate",
             0.019784919016384662
            ],
            [
             "max_depth",
             4
            ],
            [
             "subsample",
             0.6330123063387744
            ],
            [
             "colsample_bytree",
             0.5481958031380743
            ],
            [
             "min_child_weight",
             2
            ]
           ]
          ],
          [
           [
            [
             "scaling_method",
             "standard"
            ],
            [
             "encoding_method",
             "onehot"
            ],
            [
             "drop",
             null
            ],
            [
             "n_estimators",
             891
            ],
            [
             "learning_rate",
             0.04224967750358373
            ],
            [
             "max_depth",
             4
            ],
            [
             "subsample",
             0.5784684134028454
            ],
            [
             "colsample_bytree",
             0.5043757543218799
            ],
            [
             "min_child_weight",
             3
            ]
           ]
          ],
          [
           [
            [
             "scaling_method",
             "standard"
            ],
            [
             "encoding_method",
             "onehot"
            ],
            [
             "drop",
             null
            ],
            [
             "n_estimators",
             921
            ],
            [
             "learning_rate",
             0.03329414329613831
            ],
            [
             "max_depth",
             4
            ],
            [
             "subsample",
             0.5166425740628686
            ],
            [
             "colsample_bytree",
             0.5070586284065997
            ],
            [
             "min_child_weight",
             3
            ]
           ]
          ],
          [
           [
            [
             "scaling_method",
             "standard"
            ],
            [
             "encoding_method",
             "onehot"
            ],
            [
             "drop",
             null
            ],
            [
             "n_estimators",
             893
            ],
            [
             "learning_rate",
             0.04228316989214218
            ],
            [
             "max_depth",
             4
            ],
            [
             "subsample",
             0.5750590730549623
            ],
            [
             "colsample_bytree",
             0.5011231859034261
            ],
            [
             "min_child_weight",
             3
            ]
           ]
          ],
          [
           [
            [
             "scaling_method",
             "standard"
            ],
            [
             "encoding_method",
             "onehot"
            ],
            [
             "drop",
             null
            ],
            [
             "n_estimators",
             235
            ],
            [
             "learning_rate",
             0.03682844144897991
            ],
            [
             "max_depth",
             4
            ],
            [
             "subsample",
             0.6043321692132864
            ],
            [
             "colsample_bytree",
             0.529942048356702
            ],
            [
             "min_child_weight",
             3
            ]
           ]
          ],
          [
           [
            [
             "scaling_method",
             "standard"
            ],
            [
             "encoding_method",
             "onehot"
            ],
            [
             "drop",
             null
            ],
            [
             "n_estimators",
             968
            ],
            [
             "learning_rate",
             0.054304472527003454
            ],
            [
             "max_depth",
             4
            ],
            [
             "subsample",
             0.6956922171185842
            ],
            [
             "colsample_bytree",
             0.5215097350675066
            ],
            [
             "min_child_weight",
             3
            ]
           ]
          ],
          [
           [
            [
             "scaling_method",
             "standard"
            ],
            [
             "encoding_method",
             "onehot"
            ],
            [
             "drop",
             null
            ],
            [
             "n_estimators",
             861
            ],
            [
             "learning_rate",
             0.044738656817851594
            ],
            [
             "max_depth",
             4
            ],
            [
             "subsample",
             0.536891214439
            ],
            [
             "colsample_bytree",
             0.564825934914122
            ],
            [
             "min_child_weight",
             2
            ]
           ]
          ],
          [
           [
            [
             "scaling_method",
             "minmax"
            ],
            [
             "encoding_method",
             "onehot"
            ],
            [
             "drop",
             "first"
            ],
            [
             "n_estimators",
             926
            ],
            [
             "learning_rate",
             0.04850739763031974
            ],
            [
             "max_depth",
             4
            ],
            [
             "subsample",
             0.58989585149592
            ],
            [
             "colsample_bytree",
             0.537770237021434
            ],
            [
             "min_child_weight",
             3
            ]
           ]
          ],
          [
           [
            [
             "scaling_method",
             "standard"
            ],
            [
             "encoding_method",
             "onehot"
            ],
            [
             "drop",
             null
            ],
            [
             "n_estimators",
             901
            ],
            [
             "learning_rate",
             0.030595729443354248
            ],
            [
             "max_depth",
             4
            ],
            [
             "subsample",
             0.5611490476588351
            ],
            [
             "colsample_bytree",
             0.5142665685891052
            ],
            [
             "min_child_weight",
             3
            ]
           ]
          ],
          [
           [
            [
             "scaling_method",
             "standard"
            ],
            [
             "encoding_method",
             "onehot"
            ],
            [
             "drop",
             null
            ],
            [
             "n_estimators",
             944
            ],
            [
             "learning_rate",
             0.03931379049036758
            ],
            [
             "max_depth",
             4
            ],
            [
             "subsample",
             0.6562521503921215
            ],
            [
             "colsample_bytree",
             0.58160275311689
            ],
            [
             "min_child_weight",
             3
            ]
           ]
          ],
          [
           [
            [
             "scaling_method",
             "standard"
            ],
            [
             "encoding_method",
             "onehot"
            ],
            [
             "drop",
             null
            ],
            [
             "n_estimators",
             858
            ],
            [
             "learning_rate",
             0.07113897054483087
            ],
            [
             "max_depth",
             4
            ],
            [
             "subsample",
             0.6260323805489171
            ],
            [
             "colsample_bytree",
             0.5609036182073875
            ],
            [
             "min_child_weight",
             1
            ]
           ]
          ],
          [
           [
            [
             "scaling_method",
             "standard"
            ],
            [
             "encoding_method",
             "onehot"
            ],
            [
             "drop",
             null
            ],
            [
             "n_estimators",
             959
            ],
            [
             "learning_rate",
             0.06352816060112834
            ],
            [
             "max_depth",
             4
            ],
            [
             "subsample",
             0.5757144329347235
            ],
            [
             "colsample_bytree",
             0.5225074312533546
            ],
            [
             "min_child_weight",
             3
            ]
           ]
          ],
          [
           [
            [
             "scaling_method",
             "standard"
            ],
            [
             "encoding_method",
             "onehot"
            ],
            [
             "drop",
             null
            ],
            [
             "n_estimators",
             893
            ],
            [
             "learning_rate",
             0.0431419737771837
            ],
            [
             "max_depth",
             4
            ],
            [
             "subsample",
             0.5053160383324905
            ],
            [
             "colsample_bytree",
             0.8060125902291967
            ],
            [
             "min_child_weight",
             3
            ]
           ]
          ],
          [
           [
            [
             "scaling_method",
             "standard"
            ],
            [
             "encoding_method",
             "onehot"
            ],
            [
             "drop",
             null
            ],
            [
             "n_estimators",
             810
            ],
            [
             "learning_rate",
             0.05584833355266446
            ],
            [
             "max_depth",
             4
            ],
            [
             "subsample",
             0.528643391510971
            ],
            [
             "colsample_bytree",
             0.5325178738697474
            ],
            [
             "min_child_weight",
             3
            ]
           ]
          ],
          [
           [
            [
             "scaling_method",
             "standard"
            ],
            [
             "encoding_method",
             "onehot"
            ],
            [
             "drop",
             null
            ],
            [
             "n_estimators",
             981
            ],
            [
             "learning_rate",
             0.03539335626119567
            ],
            [
             "max_depth",
             4
            ],
            [
             "subsample",
             0.6049235673136818
            ],
            [
             "colsample_bytree",
             0.5111987761677306
            ],
            [
             "min_child_weight",
             2
            ]
           ]
          ],
          [
           [
            [
             "scaling_method",
             "standard"
            ],
            [
             "encoding_method",
             "onehot"
            ],
            [
             "drop",
             null
            ],
            [
             "n_estimators",
             919
            ],
            [
             "learning_rate",
             0.047482758961960705
            ],
            [
             "max_depth",
             4
            ],
            [
             "subsample",
             0.5506943266106968
            ],
            [
             "colsample_bytree",
             0.5776828516731426
            ],
            [
             "min_child_weight",
             3
            ]
           ]
          ],
          [
           [
            [
             "scaling_method",
             "standard"
            ],
            [
             "encoding_method",
             "onehot"
            ],
            [
             "drop",
             null
            ],
            [
             "n_estimators",
             861
            ],
            [
             "learning_rate",
             0.06116293127997311
            ],
            [
             "max_depth",
             4
            ],
            [
             "subsample",
             0.9601083740648362
            ],
            [
             "colsample_bytree",
             0.5018486371252276
            ],
            [
             "min_child_weight",
             3
            ]
           ]
          ],
          [
           [
            [
             "scaling_method",
             "standard"
            ],
            [
             "encoding_method",
             "onehot"
            ],
            [
             "drop",
             null
            ],
            [
             "n_estimators",
             953
            ],
            [
             "learning_rate",
             0.07063990399551874
            ],
            [
             "max_depth",
             4
            ],
            [
             "subsample",
             0.4804286624289002
            ],
            [
             "colsample_bytree",
             0.5534034591461701
            ],
            [
             "min_child_weight",
             2
            ]
           ]
          ],
          [
           [
            [
             "scaling_method",
             "robust"
            ],
            [
             "encoding_method",
             "onehot"
            ],
            [
             "drop",
             null
            ],
            [
             "n_estimators",
             843
            ],
            [
             "learning_rate",
             0.04008605994261064
            ],
            [
             "max_depth",
             4
            ],
            [
             "subsample",
             0.590081651358694
            ],
            [
             "colsample_bytree",
             0.5231700915859308
            ],
            [
             "min_child_weight",
             3
            ]
           ]
          ],
          [
           [
            [
             "scaling_method",
             "robust"
            ],
            [
             "encoding_method",
             "onehot"
            ],
            [
             "drop",
             null
            ],
            [
             "n_estimators",
             844
            ],
            [
             "learning_rate",
             0.039017143883343756
            ],
            [
             "max_depth",
             4
            ],
            [
             "subsample",
             0.6711227617771436
            ],
            [
             "colsample_bytree",
             0.5441787248768
            ],
            [
             "min_child_weight",
             3
            ]
           ]
          ],
          [
           [
            [
             "scaling_method",
             "robust"
            ],
            [
             "encoding_method",
             "onehot"
            ],
            [
             "drop",
             null
            ],
            [
             "n_estimators",
             813
            ],
            [
             "learning_rate",
             0.051019276013019456
            ],
            [
             "max_depth",
             4
            ],
            [
             "subsample",
             0.5864869288457577
            ],
            [
             "colsample_bytree",
             0.5256280564115579
            ],
            [
             "min_child_weight",
             3
            ]
           ]
          ],
          [
           [
            [
             "scaling_method",
             "robust"
            ],
            [
             "encoding_method",
             "onehot"
            ],
            [
             "drop",
             null
            ],
            [
             "n_estimators",
             876
            ],
            [
             "learning_rate",
             0.04537371525589987
            ],
            [
             "max_depth",
             4
            ],
            [
             "subsample",
             0.6362315012721145
            ],
            [
             "colsample_bytree",
             0.7778835452986814
            ],
            [
             "min_child_weight",
             3
            ]
           ]
          ],
          [
           [
            [
             "scaling_method",
             "robust"
            ],
            [
             "encoding_method",
             "onehot"
            ],
            [
             "drop",
             null
            ],
            [
             "n_estimators",
             906
            ],
            [
             "learning_rate",
             0.03316285222434117
            ],
            [
             "max_depth",
             4
            ],
            [
             "subsample",
             0.5670694038866009
            ],
            [
             "colsample_bytree",
             0.5141674704440817
            ],
            [
             "min_child_weight",
             3
            ]
           ]
          ],
          [
           [
            [
             "scaling_method",
             "standard"
            ],
            [
             "encoding_method",
             "onehot"
            ],
            [
             "drop",
             null
            ],
            [
             "n_estimators",
             934
            ],
            [
             "learning_rate",
             0.057809154288921374
            ],
            [
             "max_depth",
             4
            ],
            [
             "subsample",
             0.6164474634132107
            ],
            [
             "colsample_bytree",
             0.5350824400609016
            ],
            [
             "min_child_weight",
             3
            ]
           ]
          ],
          [
           [
            [
             "scaling_method",
             "robust"
            ],
            [
             "encoding_method",
             "onehot"
            ],
            [
             "drop",
             null
            ],
            [
             "n_estimators",
             985
            ],
            [
             "learning_rate",
             0.04120081484499707
            ],
            [
             "max_depth",
             4
            ],
            [
             "subsample",
             0.5959781823289715
            ],
            [
             "colsample_bytree",
             0.5004098170724884
            ],
            [
             "min_child_weight",
             1
            ]
           ]
          ],
          [
           [
            [
             "scaling_method",
             "standard"
            ],
            [
             "encoding_method",
             "onehot"
            ],
            [
             "drop",
             "first"
            ],
            [
             "n_estimators",
             831
            ],
            [
             "learning_rate",
             0.028546753973955428
            ],
            [
             "max_depth",
             4
            ],
            [
             "subsample",
             0.5478557118902876
            ],
            [
             "colsample_bytree",
             0.5213193737495136
            ],
            [
             "min_child_weight",
             3
            ]
           ]
          ],
          [
           [
            [
             "scaling_method",
             "standard"
            ],
            [
             "encoding_method",
             "onehot"
            ],
            [
             "drop",
             null
            ],
            [
             "n_estimators",
             890
            ],
            [
             "learning_rate",
             0.03608508471878297
            ],
            [
             "max_depth",
             2
            ],
            [
             "subsample",
             0.6460638693550014
            ],
            [
             "colsample_bytree",
             0.8338823153923621
            ],
            [
             "min_child_weight",
             2
            ]
           ]
          ],
          [
           [
            [
             "scaling_method",
             "minmax"
            ],
            [
             "encoding_method",
             "onehot"
            ],
            [
             "drop",
             null
            ],
            [
             "n_estimators",
             1000
            ],
            [
             "learning_rate",
             0.06581468258053474
            ],
            [
             "max_depth",
             4
            ],
            [
             "subsample",
             0.5799782920550804
            ],
            [
             "colsample_bytree",
             0.5501319741163797
            ],
            [
             "min_child_weight",
             4
            ]
           ]
          ],
          [
           [
            [
             "scaling_method",
             "standard"
            ],
            [
             "encoding_method",
             "onehot"
            ],
            [
             "drop",
             null
            ],
            [
             "n_estimators",
             440
            ],
            [
             "learning_rate",
             0.04789531364622056
            ],
            [
             "max_depth",
             4
            ],
            [
             "subsample",
             0.18505073059681573
            ],
            [
             "colsample_bytree",
             0.6018931476472097
            ],
            [
             "min_child_weight",
             3
            ]
           ]
          ],
          [
           [
            [
             "scaling_method",
             "standard"
            ],
            [
             "encoding_method",
             "onehot"
            ],
            [
             "drop",
             null
            ],
            [
             "n_estimators",
             955
            ],
            [
             "learning_rate",
             0.045506252364043494
            ],
            [
             "max_depth",
             4
            ],
            [
             "subsample",
             0.5836271691164954
            ],
            [
             "colsample_bytree",
             0.5389608744338323
            ],
            [
             "min_child_weight",
             3
            ]
           ]
          ],
          [
           [
            [
             "scaling_method",
             "standard"
            ],
            [
             "encoding_method",
             "onehot"
            ],
            [
             "drop",
             null
            ],
            [
             "n_estimators",
             929
            ],
            [
             "learning_rate",
             0.05535390050270173
            ],
            [
             "max_depth",
             4
            ],
            [
             "subsample",
             0.6112851434086759
            ],
            [
             "colsample_bytree",
             0.5260878799394776
            ],
            [
             "min_child_weight",
             3
            ]
           ]
          ],
          [
           [
            [
             "scaling_method",
             "standard"
            ],
            [
             "encoding_method",
             "onehot"
            ],
            [
             "drop",
             null
            ],
            [
             "n_estimators",
             951
            ],
            [
             "learning_rate",
             0.04307704330028825
            ],
            [
             "max_depth",
             4
            ],
            [
             "subsample",
             0.5696307183664032
            ],
            [
             "colsample_bytree",
             0.5380070898897199
            ],
            [
             "min_child_weight",
             3
            ]
           ]
          ],
          [
           [
            [
             "scaling_method",
             "standard"
            ],
            [
             "encoding_method",
             "onehot"
            ],
            [
             "drop",
             null
            ],
            [
             "n_estimators",
             949
            ],
            [
             "learning_rate",
             0.0439132574886877
            ],
            [
             "max_depth",
             4
            ],
            [
             "subsample",
             0.5580619856885473
            ],
            [
             "colsample_bytree",
             0.5407765256179761
            ],
            [
             "min_child_weight",
             3
            ]
           ]
          ],
          [
           [
            [
             "scaling_method",
             "standard"
            ],
            [
             "encoding_method",
             "onehot"
            ],
            [
             "drop",
             null
            ],
            [
             "n_estimators",
             949
            ],
            [
             "learning_rate",
             0.034710448774173744
            ],
            [
             "max_depth",
             4
            ],
            [
             "subsample",
             0.5576506725752142
            ],
            [
             "colsample_bytree",
             0.5627179547757286
            ],
            [
             "min_child_weight",
             3
            ]
           ]
          ],
          [
           [
            [
             "scaling_method",
             "standard"
            ],
            [
             "encoding_method",
             "onehot"
            ],
            [
             "drop",
             null
            ],
            [
             "n_estimators",
             905
            ],
            [
             "learning_rate",
             0.0496068223275355
            ],
            [
             "max_depth",
             4
            ],
            [
             "subsample",
             0.5335942293142769
            ],
            [
             "colsample_bytree",
             0.5384760801291514
            ],
            [
             "min_child_weight",
             3
            ]
           ]
          ],
          [
           [
            [
             "scaling_method",
             "standard"
            ],
            [
             "encoding_method",
             "onehot"
            ],
            [
             "drop",
             null
            ],
            [
             "n_estimators",
             930
            ],
            [
             "learning_rate",
             0.04126438805914917
            ],
            [
             "max_depth",
             4
            ],
            [
             "subsample",
             0.5700927356730264
            ],
            [
             "colsample_bytree",
             0.515825566773464
            ],
            [
             "min_child_weight",
             3
            ]
           ]
          ],
          [
           [
            [
             "scaling_method",
             "standard"
            ],
            [
             "encoding_method",
             "onehot"
            ],
            [
             "drop",
             null
            ],
            [
             "n_estimators",
             961
            ],
            [
             "learning_rate",
             0.03151702501214211
            ],
            [
             "max_depth",
             4
            ],
            [
             "subsample",
             0.5030156986779167
            ],
            [
             "colsample_bytree",
             0.5762780454989618
            ],
            [
             "min_child_weight",
             3
            ]
           ]
          ],
          [
           [
            [
             "scaling_method",
             "standard"
            ],
            [
             "encoding_method",
             "onehot"
            ],
            [
             "drop",
             null
            ],
            [
             "n_estimators",
             944
            ],
            [
             "learning_rate",
             0.045301077531780344
            ],
            [
             "max_depth",
             4
            ],
            [
             "subsample",
             0.5918056218415126
            ],
            [
             "colsample_bytree",
             0.5482131726886658
            ],
            [
             "min_child_weight",
             3
            ]
           ]
          ],
          [
           [
            [
             "scaling_method",
             "standard"
            ],
            [
             "encoding_method",
             "onehot"
            ],
            [
             "drop",
             null
            ],
            [
             "n_estimators",
             911
            ],
            [
             "learning_rate",
             0.026725828511096044
            ],
            [
             "max_depth",
             4
            ],
            [
             "subsample",
             0.5359489610458162
            ],
            [
             "colsample_bytree",
             0.5582612046747151
            ],
            [
             "min_child_weight",
             2
            ]
           ]
          ],
          [
           [
            [
             "scaling_method",
             "standard"
            ],
            [
             "encoding_method",
             "onehot"
            ],
            [
             "drop",
             null
            ],
            [
             "n_estimators",
             983
            ],
            [
             "learning_rate",
             0.04400565797728592
            ],
            [
             "max_depth",
             4
            ],
            [
             "subsample",
             0.6260102887509521
            ],
            [
             "colsample_bytree",
             0.5343969965638573
            ],
            [
             "min_child_weight",
             3
            ]
           ]
          ],
          [
           [
            [
             "scaling_method",
             "standard"
            ],
            [
             "encoding_method",
             "onehot"
            ],
            [
             "drop",
             null
            ],
            [
             "n_estimators",
             967
            ],
            [
             "learning_rate",
             0.037077274389072025
            ],
            [
             "max_depth",
             4
            ],
            [
             "subsample",
             0.6052407177992929
            ],
            [
             "colsample_bytree",
             0.509636780573371
            ],
            [
             "min_child_weight",
             3
            ]
           ]
          ],
          [
           [
            [
             "scaling_method",
             "standard"
            ],
            [
             "encoding_method",
             "onehot"
            ],
            [
             "drop",
             null
            ],
            [
             "n_estimators",
             972
            ],
            [
             "learning_rate",
             0.03785139268096627
            ],
            [
             "max_depth",
             4
            ],
            [
             "subsample",
             0.5514162194142027
            ],
            [
             "colsample_bytree",
             0.51356668429643
            ],
            [
             "min_child_weight",
             3
            ]
           ]
          ],
          [
           [
            [
             "scaling_method",
             "standard"
            ],
            [
             "encoding_method",
             "onehot"
            ],
            [
             "drop",
             null
            ],
            [
             "n_estimators",
             406
            ],
            [
             "learning_rate",
             0.049975014490525285
            ],
            [
             "max_depth",
             4
            ],
            [
             "subsample",
             0.5990366498963211
            ],
            [
             "colsample_bytree",
             0.5009419970518468
            ],
            [
             "min_child_weight",
             3
            ]
           ]
          ],
          [
           [
            [
             "scaling_method",
             "standard"
            ],
            [
             "encoding_method",
             "onehot"
            ],
            [
             "drop",
             null
            ],
            [
             "n_estimators",
             924
            ],
            [
             "learning_rate",
             0.035069235371988375
            ],
            [
             "max_depth",
             4
            ],
            [
             "subsample",
             0.5758036000371204
            ],
            [
             "colsample_bytree",
             0.5219895252676965
            ],
            [
             "min_child_weight",
             3
            ]
           ]
          ],
          [
           [
            [
             "scaling_method",
             "robust"
            ],
            [
             "encoding_method",
             "onehot"
            ],
            [
             "drop",
             null
            ],
            [
             "n_estimators",
             883
            ],
            [
             "learning_rate",
             0.040704173041273474
            ],
            [
             "max_depth",
             4
            ],
            [
             "subsample",
             0.1072551826751465
            ],
            [
             "colsample_bytree",
             0.5092850508913596
            ],
            [
             "min_child_weight",
             3
            ]
           ]
          ],
          [
           [
            [
             "scaling_method",
             "standard"
            ],
            [
             "encoding_method",
             "onehot"
            ],
            [
             "drop",
             null
            ],
            [
             "n_estimators",
             943
            ],
            [
             "learning_rate",
             0.030978983929007147
            ],
            [
             "max_depth",
             4
            ],
            [
             "subsample",
             0.6491361010555452
            ],
            [
             "colsample_bytree",
             0.5382372250421088
            ],
            [
             "min_child_weight",
             3
            ]
           ]
          ],
          [
           [
            [
             "scaling_method",
             "standard"
            ],
            [
             "encoding_method",
             "onehot"
            ],
            [
             "drop",
             null
            ],
            [
             "n_estimators",
             1000
            ],
            [
             "learning_rate",
             0.05410530358706685
            ],
            [
             "max_depth",
             4
            ],
            [
             "subsample",
             0.6818539925823711
            ],
            [
             "colsample_bytree",
             0.5268780879578792
            ],
            [
             "min_child_weight",
             3
            ]
           ]
          ],
          [
           [
            [
             "scaling_method",
             "standard"
            ],
            [
             "encoding_method",
             "onehot"
            ],
            [
             "drop",
             "first"
            ],
            [
             "n_estimators",
             963
            ],
            [
             "learning_rate",
             0.03770850420931836
            ],
            [
             "max_depth",
             4
            ],
            [
             "subsample",
             0.5642476294584193
            ],
            [
             "colsample_bytree",
             0.5453821949383174
            ],
            [
             "min_child_weight",
             3
            ]
           ]
          ],
          [
           [
            [
             "scaling_method",
             "standard"
            ],
            [
             "encoding_method",
             "onehot"
            ],
            [
             "drop",
             null
            ],
            [
             "n_estimators",
             856
            ],
            [
             "learning_rate",
             0.009119894679612897
            ],
            [
             "max_depth",
             4
            ],
            [
             "subsample",
             0.6227944601535899
            ],
            [
             "colsample_bytree",
             0.9209177652530494
            ],
            [
             "min_child_weight",
             3
            ]
           ]
          ],
          [
           [
            [
             "scaling_method",
             "standard"
            ],
            [
             "encoding_method",
             "onehot"
            ],
            [
             "drop",
             null
            ],
            [
             "n_estimators",
             981
            ],
            [
             "learning_rate",
             0.04459304259245875
            ],
            [
             "max_depth",
             4
            ],
            [
             "subsample",
             0.6051842834282144
            ],
            [
             "colsample_bytree",
             0.5268016593683302
            ],
            [
             "min_child_weight",
             3
            ]
           ]
          ],
          [
           [
            [
             "scaling_method",
             "standard"
            ],
            [
             "encoding_method",
             "onehot"
            ],
            [
             "drop",
             null
            ],
            [
             "n_estimators",
             971
            ],
            [
             "learning_rate",
             0.0458436225743243
            ],
            [
             "max_depth",
             4
            ],
            [
             "subsample",
             0.5898992546162253
            ],
            [
             "colsample_bytree",
             0.5152225243663119
            ],
            [
             "min_child_weight",
             3
            ]
           ]
          ],
          [
           [
            [
             "scaling_method",
             "standard"
            ],
            [
             "encoding_method",
             "onehot"
            ],
            [
             "drop",
             null
            ],
            [
             "n_estimators",
             977
            ],
            [
             "learning_rate",
             0.04495112468576724
            ],
            [
             "max_depth",
             4
            ],
            [
             "subsample",
             0.5907613691787105
            ],
            [
             "colsample_bytree",
             0.5100001765854234
            ],
            [
             "min_child_weight",
             3
            ]
           ]
          ],
          [
           [
            [
             "scaling_method",
             "standard"
            ],
            [
             "encoding_method",
             "onehot"
            ],
            [
             "drop",
             null
            ],
            [
             "n_estimators",
             981
            ],
            [
             "learning_rate",
             0.047198601971795234
            ],
            [
             "max_depth",
             4
            ],
            [
             "subsample",
             0.5955423388155735
            ],
            [
             "colsample_bytree",
             0.5091959392090488
            ],
            [
             "min_child_weight",
             3
            ]
           ]
          ],
          [
           [
            [
             "scaling_method",
             "standard"
            ],
            [
             "encoding_method",
             "onehot"
            ],
            [
             "drop",
             null
            ],
            [
             "n_estimators",
             978
            ],
            [
             "learning_rate",
             0.04611315421181104
            ],
            [
             "max_depth",
             4
            ],
            [
             "subsample",
             0.6032259102409443
            ],
            [
             "colsample_bytree",
             0.5097594989102657
            ],
            [
             "min_child_weight",
             3
            ]
           ]
          ],
          [
           [
            [
             "scaling_method",
             "standard"
            ],
            [
             "encoding_method",
             "onehot"
            ],
            [
             "drop",
             null
            ],
            [
             "n_estimators",
             984
            ],
            [
             "learning_rate",
             0.04862339627131869
            ],
            [
             "max_depth",
             4
            ],
            [
             "subsample",
             0.603565982379564
            ],
            [
             "colsample_bytree",
             0.5086636508613157
            ],
            [
             "min_child_weight",
             3
            ]
           ]
          ],
          [
           [
            [
             "scaling_method",
             "standard"
            ],
            [
             "encoding_method",
             "onehot"
            ],
            [
             "drop",
             null
            ],
            [
             "n_estimators",
             971
            ],
            [
             "learning_rate",
             0.04017837085236566
            ],
            [
             "max_depth",
             4
            ],
            [
             "subsample",
             0.6402447227112047
            ],
            [
             "colsample_bytree",
             0.5161833307186661
            ],
            [
             "min_child_weight",
             3
            ]
           ]
          ],
          [
           [
            [
             "scaling_method",
             "standard"
            ],
            [
             "encoding_method",
             "onehot"
            ],
            [
             "drop",
             null
            ],
            [
             "n_estimators",
             962
            ],
            [
             "learning_rate",
             0.01288321650876376
            ],
            [
             "max_depth",
             4
            ],
            [
             "subsample",
             0.6648151784081523
            ],
            [
             "colsample_bytree",
             0.5193159596676827
            ],
            [
             "min_child_weight",
             3
            ]
           ]
          ],
          [
           [
            [
             "scaling_method",
             "standard"
            ],
            [
             "encoding_method",
             "onehot"
            ],
            [
             "drop",
             null
            ],
            [
             "n_estimators",
             931
            ],
            [
             "learning_rate",
             0.039906270062291686
            ],
            [
             "max_depth",
             4
            ],
            [
             "subsample",
             0.6928266282801502
            ],
            [
             "colsample_bytree",
             0.5181751579651122
            ],
            [
             "min_child_weight",
             3
            ]
           ]
          ],
          [
           [
            [
             "scaling_method",
             "standard"
            ],
            [
             "encoding_method",
             "onehot"
            ],
            [
             "drop",
             null
            ],
            [
             "n_estimators",
             974
            ],
            [
             "learning_rate",
             0.04740516101352134
            ],
            [
             "max_depth",
             4
            ],
            [
             "subsample",
             0.5914713646169084
            ],
            [
             "colsample_bytree",
             0.5103526150143552
            ],
            [
             "min_child_weight",
             3
            ]
           ]
          ],
          [
           [
            [
             "scaling_method",
             "standard"
            ],
            [
             "encoding_method",
             "onehot"
            ],
            [
             "drop",
             null
            ],
            [
             "n_estimators",
             962
            ],
            [
             "learning_rate",
             0.03735502849090528
            ],
            [
             "max_depth",
             4
            ],
            [
             "subsample",
             0.6159834329584103
            ],
            [
             "colsample_bytree",
             0.5259732962153176
            ],
            [
             "min_child_weight",
             3
            ]
           ]
          ],
          [
           [
            [
             "scaling_method",
             "standard"
            ],
            [
             "encoding_method",
             "onehot"
            ],
            [
             "drop",
             null
            ],
            [
             "n_estimators",
             961
            ],
            [
             "learning_rate",
             0.03672746407988903
            ],
            [
             "max_depth",
             4
            ],
            [
             "subsample",
             0.621425353495312
            ],
            [
             "colsample_bytree",
             0.5268148242093128
            ],
            [
             "min_child_weight",
             3
            ]
           ]
          ],
          [
           [
            [
             "scaling_method",
             "standard"
            ],
            [
             "encoding_method",
             "onehot"
            ],
            [
             "drop",
             null
            ],
            [
             "n_estimators",
             961
            ],
            [
             "learning_rate",
             0.037764759002766095
            ],
            [
             "max_depth",
             4
            ],
            [
             "subsample",
             0.6092832617492581
            ],
            [
             "colsample_bytree",
             0.5308722566127732
            ],
            [
             "min_child_weight",
             3
            ]
           ]
          ],
          [
           [
            [
             "scaling_method",
             "standard"
            ],
            [
             "encoding_method",
             "onehot"
            ],
            [
             "drop",
             null
            ],
            [
             "n_estimators",
             978
            ],
            [
             "learning_rate",
             0.04726097548295648
            ],
            [
             "max_depth",
             4
            ],
            [
             "subsample",
             0.6338630430322009
            ],
            [
             "colsample_bytree",
             0.524186523710005
            ],
            [
             "min_child_weight",
             3
            ]
           ]
          ],
          [
           [
            [
             "scaling_method",
             "standard"
            ],
            [
             "encoding_method",
             "onehot"
            ],
            [
             "drop",
             null
            ],
            [
             "n_estimators",
             951
            ],
            [
             "learning_rate",
             0.033308437136100585
            ],
            [
             "max_depth",
             4
            ],
            [
             "subsample",
             0.5873685836929177
            ],
            [
             "colsample_bytree",
             0.5169253074523895
            ],
            [
             "min_child_weight",
             3
            ]
           ]
          ],
          [
           [
            [
             "scaling_method",
             "standard"
            ],
            [
             "encoding_method",
             "onehot"
            ],
            [
             "drop",
             null
            ],
            [
             "n_estimators",
             988
            ],
            [
             "learning_rate",
             0.04029030540264549
            ],
            [
             "max_depth",
             4
            ],
            [
             "subsample",
             0.6074731393195164
            ],
            [
             "colsample_bytree",
             0.5306569220302777
            ],
            [
             "min_child_weight",
             3
            ]
           ]
          ],
          [
           [
            [
             "scaling_method",
             "robust"
            ],
            [
             "encoding_method",
             "onehot"
            ],
            [
             "drop",
             null
            ],
            [
             "n_estimators",
             966
            ],
            [
             "learning_rate",
             0.058355452888028805
            ],
            [
             "max_depth",
             4
            ],
            [
             "subsample",
             0.6471051729120239
            ],
            [
             "colsample_bytree",
             0.5002909898942509
            ],
            [
             "min_child_weight",
             3
            ]
           ]
          ],
          [
           [
            [
             "scaling_method",
             "maxabs"
            ],
            [
             "encoding_method",
             "onehot"
            ],
            [
             "drop",
             null
            ],
            [
             "n_estimators",
             1000
            ],
            [
             "learning_rate",
             0.02907925395885243
            ],
            [
             "max_depth",
             4
            ],
            [
             "subsample",
             0.5800596968749477
            ],
            [
             "colsample_bytree",
             0.5203994673767285
            ],
            [
             "min_child_weight",
             3
            ]
           ]
          ],
          [
           [
            [
             "scaling_method",
             "standard"
            ],
            [
             "encoding_method",
             "onehot"
            ],
            [
             "drop",
             null
            ],
            [
             "n_estimators",
             926
            ],
            [
             "learning_rate",
             0.050464990038841154
            ],
            [
             "max_depth",
             4
            ],
            [
             "subsample",
             0.6213102469569971
            ],
            [
             "colsample_bytree",
             0.540658074042023
            ],
            [
             "min_child_weight",
             3
            ]
           ]
          ],
          [
           [
            [
             "scaling_method",
             "standard"
            ],
            [
             "encoding_method",
             "onehot"
            ],
            [
             "drop",
             null
            ],
            [
             "n_estimators",
             925
            ],
            [
             "learning_rate",
             0.05132846916320994
            ],
            [
             "max_depth",
             4
            ],
            [
             "subsample",
             0.617597319740554
            ],
            [
             "colsample_bytree",
             0.5421958684590944
            ],
            [
             "min_child_weight",
             3
            ]
           ]
          ],
          [
           [
            [
             "scaling_method",
             "standard"
            ],
            [
             "encoding_method",
             "onehot"
            ],
            [
             "drop",
             null
            ],
            [
             "n_estimators",
             951
            ],
            [
             "learning_rate",
             0.047285563304888735
            ],
            [
             "max_depth",
             4
            ],
            [
             "subsample",
             0.6553672501117976
            ],
            [
             "colsample_bytree",
             0.5302068992040255
            ],
            [
             "min_child_weight",
             3
            ]
           ]
          ],
          [
           [
            [
             "scaling_method",
             "standard"
            ],
            [
             "encoding_method",
             "onehot"
            ],
            [
             "drop",
             null
            ],
            [
             "n_estimators",
             946
            ],
            [
             "learning_rate",
             0.0010161698445479781
            ],
            [
             "max_depth",
             4
            ],
            [
             "subsample",
             0.6557888522390117
            ],
            [
             "colsample_bytree",
             0.5362084592071534
            ],
            [
             "min_child_weight",
             3
            ]
           ]
          ],
          [
           [
            [
             "scaling_method",
             "standard"
            ],
            [
             "encoding_method",
             "onehot"
            ],
            [
             "drop",
             null
            ],
            [
             "n_estimators",
             970
            ],
            [
             "learning_rate",
             0.04763207164745781
            ],
            [
             "max_depth",
             4
            ],
            [
             "subsample",
             0.6266472810324313
            ],
            [
             "colsample_bytree",
             0.551815237255311
            ],
            [
             "min_child_weight",
             3
            ]
           ]
          ],
          [
           [
            [
             "scaling_method",
             "standard"
            ],
            [
             "encoding_method",
             "onehot"
            ],
            [
             "drop",
             null
            ],
            [
             "n_estimators",
             976
            ],
            [
             "learning_rate",
             0.04667104346155532
            ],
            [
             "max_depth",
             4
            ],
            [
             "subsample",
             0.6370173127506598
            ],
            [
             "colsample_bytree",
             0.5532281916053389
            ],
            [
             "min_child_weight",
             3
            ]
           ]
          ],
          [
           [
            [
             "scaling_method",
             "standard"
            ],
            [
             "encoding_method",
             "onehot"
            ],
            [
             "drop",
             null
            ],
            [
             "n_estimators",
             932
            ],
            [
             "learning_rate",
             0.0577118886316037
            ],
            [
             "max_depth",
             4
            ],
            [
             "subsample",
             0.5988882670413673
            ],
            [
             "colsample_bytree",
             0.5110460150602332
            ],
            [
             "min_child_weight",
             3
            ]
           ]
          ],
          [
           [
            [
             "scaling_method",
             "standard"
            ],
            [
             "encoding_method",
             "onehot"
            ],
            [
             "drop",
             null
            ],
            [
             "n_estimators",
             129
            ],
            [
             "learning_rate",
             0.06037108931307424
            ],
            [
             "max_depth",
             4
            ],
            [
             "subsample",
             0.5997489805023045
            ],
            [
             "colsample_bytree",
             0.5066347349827721
            ],
            [
             "min_child_weight",
             3
            ]
           ]
          ],
          [
           [
            [
             "scaling_method",
             "standard"
            ],
            [
             "encoding_method",
             "onehot"
            ],
            [
             "drop",
             null
            ],
            [
             "n_estimators",
             936
            ],
            [
             "learning_rate",
             0.054578206390985956
            ],
            [
             "max_depth",
             4
            ],
            [
             "subsample",
             0.6260204068072007
            ],
            [
             "colsample_bytree",
             0.5129705564792642
            ],
            [
             "min_child_weight",
             3
            ]
           ]
          ],
          [
           [
            [
             "scaling_method",
             "standard"
            ],
            [
             "encoding_method",
             "onehot"
            ],
            [
             "drop",
             null
            ],
            [
             "n_estimators",
             914
            ],
            [
             "learning_rate",
             0.04928702988227735
            ],
            [
             "max_depth",
             4
            ],
            [
             "subsample",
             0.6579084964261985
            ],
            [
             "colsample_bytree",
             0.5320945982092451
            ],
            [
             "min_child_weight",
             3
            ]
           ]
          ],
          [
           [
            [
             "scaling_method",
             "standard"
            ],
            [
             "encoding_method",
             "onehot"
            ],
            [
             "drop",
             "first"
            ],
            [
             "n_estimators",
             957
            ],
            [
             "learning_rate",
             0.05546334995290439
            ],
            [
             "max_depth",
             4
            ],
            [
             "subsample",
             0.6013591215047353
            ],
            [
             "colsample_bytree",
             0.5500115244935909
            ],
            [
             "min_child_weight",
             3
            ]
           ]
          ],
          [
           [
            [
             "scaling_method",
             "standard"
            ],
            [
             "encoding_method",
             "onehot"
            ],
            [
             "drop",
             null
            ],
            [
             "n_estimators",
             982
            ],
            [
             "learning_rate",
             0.042994378010402366
            ],
            [
             "max_depth",
             4
            ],
            [
             "subsample",
             0.568554119025959
            ],
            [
             "colsample_bytree",
             0.5136219028880783
            ],
            [
             "min_child_weight",
             3
            ]
           ]
          ],
          [
           [
            [
             "scaling_method",
             "standard"
            ],
            [
             "encoding_method",
             "onehot"
            ],
            [
             "drop",
             null
            ],
            [
             "n_estimators",
             986
            ],
            [
             "learning_rate",
             0.04294686514545338
            ],
            [
             "max_depth",
             4
            ],
            [
             "subsample",
             0.5770486581805832
            ],
            [
             "colsample_bytree",
             0.5131389330429184
            ],
            [
             "min_child_weight",
             3
            ]
           ]
          ],
          [
           [
            [
             "scaling_method",
             "standard"
            ],
            [
             "encoding_method",
             "onehot"
            ],
            [
             "drop",
             null
            ],
            [
             "n_estimators",
             982
            ],
            [
             "learning_rate",
             0.04351941663363886
            ],
            [
             "max_depth",
             4
            ],
            [
             "subsample",
             0.5704826962027357
            ],
            [
             "colsample_bytree",
             0.5159436685967369
            ],
            [
             "min_child_weight",
             3
            ]
           ]
          ],
          [
           [
            [
             "scaling_method",
             "standard"
            ],
            [
             "encoding_method",
             "onehot"
            ],
            [
             "drop",
             null
            ],
            [
             "n_estimators",
             1000
            ],
            [
             "learning_rate",
             0.05105211569685406
            ],
            [
             "max_depth",
             4
            ],
            [
             "subsample",
             0.5477917671337521
            ],
            [
             "colsample_bytree",
             0.5092360612084812
            ],
            [
             "min_child_weight",
             3
            ]
           ]
          ],
          [
           [
            [
             "scaling_method",
             "standard"
            ],
            [
             "encoding_method",
             "onehot"
            ],
            [
             "drop",
             null
            ],
            [
             "n_estimators",
             972
            ],
            [
             "learning_rate",
             0.04236592812186963
            ],
            [
             "max_depth",
             4
            ],
            [
             "subsample",
             0.5780933387301103
            ],
            [
             "colsample_bytree",
             0.5174771998787522
            ],
            [
             "min_child_weight",
             3
            ]
           ]
          ],
          [
           [
            [
             "scaling_method",
             "standard"
            ],
            [
             "encoding_method",
             "onehot"
            ],
            [
             "drop",
             null
            ],
            [
             "n_estimators",
             932
            ],
            [
             "learning_rate",
             0.06312099831608087
            ],
            [
             "max_depth",
             4
            ],
            [
             "subsample",
             0.5286047829690999
            ],
            [
             "colsample_bytree",
             0.5012253153026291
            ],
            [
             "min_child_weight",
             3
            ]
           ]
          ],
          [
           [
            [
             "scaling_method",
             "standard"
            ],
            [
             "encoding_method",
             "onehot"
            ],
            [
             "drop",
             null
            ],
            [
             "n_estimators",
             982
            ],
            [
             "learning_rate",
             0.04603695044238688
            ],
            [
             "max_depth",
             4
            ],
            [
             "subsample",
             0.5519116363809147
            ],
            [
             "colsample_bytree",
             0.5410392506165588
            ],
            [
             "min_child_weight",
             3
            ]
           ]
          ],
          [
           [
            [
             "scaling_method",
             "standard"
            ],
            [
             "encoding_method",
             "onehot"
            ],
            [
             "drop",
             null
            ],
            [
             "n_estimators",
             963
            ],
            [
             "learning_rate",
             0.04157288688427919
            ],
            [
             "max_depth",
             4
            ],
            [
             "subsample",
             0.5919869259434356
            ],
            [
             "colsample_bytree",
             0.5255479384125276
            ],
            [
             "min_child_weight",
             3
            ]
           ]
          ],
          [
           [
            [
             "scaling_method",
             "standard"
            ],
            [
             "encoding_method",
             "onehot"
            ],
            [
             "drop",
             null
            ],
            [
             "n_estimators",
             983
            ],
            [
             "learning_rate",
             0.00404750224597804
            ],
            [
             "max_depth",
             4
            ],
            [
             "subsample",
             0.6152054204439683
            ],
            [
             "colsample_bytree",
             0.5675369221434724
            ],
            [
             "min_child_weight",
             3
            ]
           ]
          ],
          [
           [
            [
             "scaling_method",
             "standard"
            ],
            [
             "encoding_method",
             "onehot"
            ],
            [
             "drop",
             null
            ],
            [
             "n_estimators",
             966
            ],
            [
             "learning_rate",
             0.042447133562614855
            ],
            [
             "max_depth",
             4
            ],
            [
             "subsample",
             0.582649716304958
            ],
            [
             "colsample_bytree",
             0.5204587536963042
            ],
            [
             "min_child_weight",
             3
            ]
           ]
          ],
          [
           [
            [
             "scaling_method",
             "standard"
            ],
            [
             "encoding_method",
             "onehot"
            ],
            [
             "drop",
             null
            ],
            [
             "n_estimators",
             969
            ],
            [
             "learning_rate",
             0.05049705154709047
            ],
            [
             "max_depth",
             4
            ],
            [
             "subsample",
             0.5885326462559809
            ],
            [
             "colsample_bytree",
             0.518315648912634
            ],
            [
             "min_child_weight",
             3
            ]
           ]
          ],
          [
           [
            [
             "scaling_method",
             "standard"
            ],
            [
             "encoding_method",
             "onehot"
            ],
            [
             "drop",
             null
            ],
            [
             "n_estimators",
             951
            ],
            [
             "learning_rate",
             0.036684646846182195
            ],
            [
             "max_depth",
             4
            ],
            [
             "subsample",
             0.6038933598072567
            ],
            [
             "colsample_bytree",
             0.5361826080001425
            ],
            [
             "min_child_weight",
             3
            ]
           ]
          ],
          [
           [
            [
             "scaling_method",
             "standard"
            ],
            [
             "encoding_method",
             "onehot"
            ],
            [
             "drop",
             null
            ],
            [
             "n_estimators",
             922
            ],
            [
             "learning_rate",
             0.04539603923921631
            ],
            [
             "max_depth",
             4
            ],
            [
             "subsample",
             0.5627473610003206
            ],
            [
             "colsample_bytree",
             0.5250859268194425
            ],
            [
             "min_child_weight",
             3
            ]
           ]
          ],
          [
           [
            [
             "scaling_method",
             "standard"
            ],
            [
             "encoding_method",
             "onehot"
            ],
            [
             "drop",
             null
            ],
            [
             "n_estimators",
             999
            ],
            [
             "learning_rate",
             0.04103753028775281
            ],
            [
             "max_depth",
             4
            ],
            [
             "subsample",
             0.6340526894822631
            ],
            [
             "colsample_bytree",
             0.5086760751778497
            ],
            [
             "min_child_weight",
             3
            ]
           ]
          ],
          [
           [
            [
             "scaling_method",
             "standard"
            ],
            [
             "encoding_method",
             "onehot"
            ],
            [
             "drop",
             null
            ],
            [
             "n_estimators",
             968
            ],
            [
             "learning_rate",
             0.046632743516695774
            ],
            [
             "max_depth",
             4
            ],
            [
             "subsample",
             0.548455912889384
            ],
            [
             "colsample_bytree",
             0.539927241298281
            ],
            [
             "min_child_weight",
             3
            ]
           ]
          ],
          [
           [
            [
             "scaling_method",
             "standard"
            ],
            [
             "encoding_method",
             "onehot"
            ],
            [
             "drop",
             null
            ],
            [
             "n_estimators",
             939
            ],
            [
             "learning_rate",
             0.05281833919000285
            ],
            [
             "max_depth",
             4
            ],
            [
             "subsample",
             0.5741618723641739
            ],
            [
             "colsample_bytree",
             0.500552153035808
            ],
            [
             "min_child_weight",
             3
            ]
           ]
          ],
          [
           [
            [
             "scaling_method",
             "standard"
            ],
            [
             "encoding_method",
             "onehot"
            ],
            [
             "drop",
             null
            ],
            [
             "n_estimators",
             985
            ],
            [
             "learning_rate",
             0.03548961949523133
            ],
            [
             "max_depth",
             4
            ],
            [
             "subsample",
             0.5985187175740057
            ],
            [
             "colsample_bytree",
             0.5154464947158525
            ],
            [
             "min_child_weight",
             3
            ]
           ]
          ],
          [
           [
            [
             "scaling_method",
             "standard"
            ],
            [
             "encoding_method",
             "onehot"
            ],
            [
             "drop",
             null
            ],
            [
             "n_estimators",
             903
            ],
            [
             "learning_rate",
             0.039354403596329995
            ],
            [
             "max_depth",
             4
            ],
            [
             "subsample",
             0.6250221191525293
            ],
            [
             "colsample_bytree",
             0.5290022910090753
            ],
            [
             "min_child_weight",
             3
            ]
           ]
          ]
         ],
         "hovertemplate": "encoding=onehot<br>Optuna Trial=%{x}<br>Score (R-Squared)=%{y}<br>Parameters=%{customdata[0]}<extra></extra>",
         "legendgroup": "onehot",
         "marker": {
          "color": "#636efa",
          "symbol": "circle"
         },
         "mode": "markers",
         "name": "onehot",
         "orientation": "v",
         "showlegend": true,
         "type": "scatter",
         "x": [
          0,
          1,
          2,
          4,
          6,
          7,
          8,
          9,
          11,
          12,
          13,
          15,
          16,
          17,
          19,
          20,
          21,
          22,
          23,
          24,
          25,
          27,
          28,
          29,
          30,
          31,
          32,
          33,
          34,
          35,
          36,
          38,
          39,
          40,
          41,
          42,
          43,
          44,
          46,
          47,
          48,
          50,
          51,
          52,
          53,
          54,
          55,
          56,
          57,
          58,
          59,
          61,
          62,
          63,
          64,
          65,
          66,
          67,
          68,
          69,
          70,
          71,
          72,
          73,
          74,
          75,
          76,
          77,
          79,
          80,
          81,
          82,
          83,
          84,
          85,
          86,
          87,
          88,
          89,
          90,
          91,
          92,
          93,
          94,
          95,
          97,
          98,
          99,
          100,
          101,
          102,
          103,
          104,
          105,
          106,
          107,
          108,
          109,
          111,
          112,
          113,
          114,
          115,
          116,
          117,
          118,
          119,
          120,
          121,
          122,
          123,
          124,
          125,
          126,
          127,
          128,
          129,
          131,
          132,
          133,
          134,
          135,
          136,
          137,
          138,
          139,
          140,
          141,
          142,
          143,
          144,
          145,
          146,
          147,
          148,
          149,
          150,
          151,
          152,
          153,
          154,
          155,
          156,
          157,
          158,
          160,
          161,
          162,
          163,
          164,
          165,
          166,
          167,
          168,
          169,
          170,
          171,
          172,
          173,
          174,
          175,
          176,
          177,
          178,
          179,
          180,
          181,
          182,
          183,
          184,
          185,
          186,
          187,
          188,
          190,
          191,
          192,
          193,
          194,
          195,
          196,
          197,
          198,
          199
         ],
         "xaxis": "x",
         "y": [
          0.9346673308494285,
          -6.163065884450648,
          0.9464895800232536,
          0.9492455492323583,
          0.8992988505058326,
          -6.465772003430091,
          0.9335308434162177,
          0.597946708060561,
          0.9344976100219812,
          0.9521593794302905,
          0.9499376286957801,
          0.9511581767669357,
          0.7616574597033517,
          0.948850999192493,
          0.9273022260161866,
          0.9435650210641202,
          0.9504621518977989,
          0.9510568957801897,
          0.9481417012104485,
          0.9503259968181995,
          0.9298429688274282,
          0.9509643269780625,
          0.9456583736660824,
          0.949164104945081,
          0.8579720996612158,
          0.9507158059346441,
          0.9513675122055648,
          0.9504145053925028,
          0.9493244113594249,
          0.9438615636934851,
          0.9493840092164116,
          0.9492645826020323,
          0.9506443548661073,
          0.9423336321591645,
          0.9523201665569404,
          0.9484596664965673,
          0.9512485077328835,
          0.9502880824358447,
          0.9505438508901667,
          0.950813334055247,
          -3.209957906049195,
          0.945247274550195,
          0.9504674135390868,
          0.9528428538331914,
          0.9506657389116111,
          0.9507349545181786,
          0.9480630154294689,
          0.9514324509770251,
          0.9499933007662218,
          0.9482663861797954,
          0.9369169971296253,
          0.9517257046545786,
          0.9524204153970215,
          0.950095679462763,
          0.951190265804146,
          0.9503587055162651,
          0.9403792472664836,
          0.9468569574359286,
          0.8610529388473129,
          -4.278398176178222,
          0.9471476859818337,
          0.9517509929140399,
          0.9512589904955691,
          0.9469825246668071,
          0.9520000461085305,
          0.9525578006548934,
          0.9538790152827454,
          0.9522296516135512,
          0.9521049289472018,
          0.9492706040710388,
          0.9533406864112195,
          0.9527254909485237,
          0.9511753471264075,
          0.9524149363812727,
          0.953406773984967,
          0.951981762864049,
          0.9517157463678512,
          0.9480683709571046,
          0.9527217989308827,
          0.9519198319525154,
          0.9497614655586958,
          0.9497257593769393,
          0.9515065332207426,
          0.9525601540304397,
          0.9491606977006151,
          0.9522242579555819,
          0.9490569654334249,
          0.949520519219277,
          0.9488440714818023,
          0.953241342793145,
          0.9496072964347889,
          0.9509511455298275,
          0.9384514865950304,
          0.9503367619605143,
          0.9520792695402929,
          0.9514791107499494,
          0.9516612653928425,
          0.9519713537284087,
          0.9478587720857117,
          0.9508368338205059,
          0.9517183275116137,
          0.9503702169966163,
          0.9521843707820568,
          0.9513886247513478,
          0.9479986228471974,
          0.9486408475179624,
          0.9527741456666521,
          0.9516734162647875,
          0.9520272425511326,
          0.9514141067693501,
          0.9519520521865769,
          0.950756422551094,
          0.9518487318836065,
          0.9494522171148382,
          0.9466321932974135,
          0.9507403910103487,
          0.9469662704811445,
          0.9530072047497427,
          0.9485706201361347,
          0.9533482577286951,
          0.9524929823359752,
          0.9517658219632759,
          0.951561818184073,
          0.9516993912429147,
          0.9509313265993895,
          0.9514623040757304,
          0.9515829560380045,
          0.9515024391257885,
          0.9534219346184727,
          0.950321709788517,
          0.9500562314872095,
          0.9520584115448741,
          0.9441858297836253,
          0.9496497453570211,
          0.9507708219771445,
          0.9513875231257064,
          0.9349534341987669,
          0.9529632719090249,
          0.9532484491803513,
          0.9527158121085539,
          0.9538488187701925,
          0.9535769799171394,
          0.9523113031007157,
          0.9530984506971872,
          0.9440032990477017,
          0.9517190306038683,
          0.9536268123776379,
          0.9528089500607819,
          0.9531857931584475,
          0.9522857029534876,
          0.9520235848930788,
          0.9527121535528231,
          0.9518098240493421,
          0.9500484375708965,
          0.9512543793443013,
          0.9530530808376063,
          0.9523652821472895,
          0.952932079265888,
          -6.510038673051624,
          0.9529705002309854,
          0.9514193309278385,
          0.953093497730627,
          0.9314723185904942,
          0.9517140428236559,
          0.9499153450379646,
          0.9510154701383199,
          0.9534031779009204,
          0.9531844439975818,
          0.9526142787775583,
          0.9520193988073051,
          0.952959454834145,
          0.9486760366327078,
          0.9512328212670234,
          0.9528537144341579,
          0.5102498118959238,
          0.9529720494463045,
          0.9523646890257582,
          0.9521055080279497,
          0.9514952679042364,
          0.9527065468246464,
          0.9516966489454932,
          0.951566593903079,
          0.9518898548652797,
          0.9516026708929515
         ],
         "yaxis": "y"
        },
        {
         "customdata": [
          [
           [
            [
             "scaling_method",
             "robust"
            ],
            [
             "encoding_method",
             "ordinal"
            ],
            [
             "n_estimators",
             596
            ],
            [
             "learning_rate",
             0.0019054757708370338
            ],
            [
             "max_depth",
             2
            ],
            [
             "subsample",
             0.5207419435989612
            ],
            [
             "colsample_bytree",
             0.9366398860913907
            ],
            [
             "min_child_weight",
             3
            ]
           ]
          ],
          [
           [
            [
             "scaling_method",
             "minmax"
            ],
            [
             "encoding_method",
             "ordinal"
            ],
            [
             "n_estimators",
             440
            ],
            [
             "learning_rate",
             0.023198013756713296
            ],
            [
             "max_depth",
             4
            ],
            [
             "subsample",
             0.7212576579631054
            ],
            [
             "colsample_bytree",
             0.9438912615381984
            ],
            [
             "min_child_weight",
             2
            ]
           ]
          ],
          [
           [
            [
             "scaling_method",
             "maxabs"
            ],
            [
             "encoding_method",
             "ordinal"
            ],
            [
             "n_estimators",
             768
            ],
            [
             "learning_rate",
             0.08611588402856334
            ],
            [
             "max_depth",
             3
            ],
            [
             "subsample",
             0.15696372388351376
            ],
            [
             "colsample_bytree",
             0.5113140129996083
            ],
            [
             "min_child_weight",
             4
            ]
           ]
          ],
          [
           [
            [
             "scaling_method",
             "standard"
            ],
            [
             "encoding_method",
             "ordinal"
            ],
            [
             "n_estimators",
             677
            ],
            [
             "learning_rate",
             0.010491864708705173
            ],
            [
             "max_depth",
             4
            ],
            [
             "subsample",
             0.6213820095830929
            ],
            [
             "colsample_bytree",
             0.7574052781594777
            ],
            [
             "min_child_weight",
             3
            ]
           ]
          ],
          [
           [
            [
             "scaling_method",
             "standard"
            ],
            [
             "encoding_method",
             "ordinal"
            ],
            [
             "n_estimators",
             648
            ],
            [
             "learning_rate",
             0.0010067238462570039
            ],
            [
             "max_depth",
             3
            ],
            [
             "subsample",
             0.5955648102937842
            ],
            [
             "colsample_bytree",
             0.8173571053889588
            ],
            [
             "min_child_weight",
             3
            ]
           ]
          ],
          [
           [
            [
             "scaling_method",
             "standard"
            ],
            [
             "encoding_method",
             "ordinal"
            ],
            [
             "n_estimators",
             626
            ],
            [
             "learning_rate",
             0.03665728590234853
            ],
            [
             "max_depth",
             4
            ],
            [
             "subsample",
             0.771183165613654
            ],
            [
             "colsample_bytree",
             0.8276244300152987
            ],
            [
             "min_child_weight",
             3
            ]
           ]
          ],
          [
           [
            [
             "scaling_method",
             "standard"
            ],
            [
             "encoding_method",
             "ordinal"
            ],
            [
             "n_estimators",
             929
            ],
            [
             "learning_rate",
             0.03682927451702668
            ],
            [
             "max_depth",
             2
            ],
            [
             "subsample",
             0.473768038186032
            ],
            [
             "colsample_bytree",
             0.7390424049423115
            ],
            [
             "min_child_weight",
             5
            ]
           ]
          ],
          [
           [
            [
             "scaling_method",
             "minmax"
            ],
            [
             "encoding_method",
             "ordinal"
            ],
            [
             "n_estimators",
             772
            ],
            [
             "learning_rate",
             0.058529325668706375
            ],
            [
             "max_depth",
             3
            ],
            [
             "subsample",
             0.3791936453699334
            ],
            [
             "colsample_bytree",
             0.5894733099192515
            ],
            [
             "min_child_weight",
             3
            ]
           ]
          ],
          [
           [
            [
             "scaling_method",
             "robust"
            ],
            [
             "encoding_method",
             "ordinal"
            ],
            [
             "n_estimators",
             997
            ],
            [
             "learning_rate",
             0.08240721365996945
            ],
            [
             "max_depth",
             2
            ],
            [
             "subsample",
             0.520403778295357
            ],
            [
             "colsample_bytree",
             0.6051782982108307
            ],
            [
             "min_child_weight",
             5
            ]
           ]
          ],
          [
           [
            [
             "scaling_method",
             "maxabs"
            ],
            [
             "encoding_method",
             "ordinal"
            ],
            [
             "n_estimators",
             898
            ],
            [
             "learning_rate",
             0.001561454677509108
            ],
            [
             "max_depth",
             4
            ],
            [
             "subsample",
             0.48430319009830197
            ],
            [
             "colsample_bytree",
             0.6513700186269376
            ],
            [
             "min_child_weight",
             4
            ]
           ]
          ],
          [
           [
            [
             "scaling_method",
             "standard"
            ],
            [
             "encoding_method",
             "ordinal"
            ],
            [
             "n_estimators",
             961
            ],
            [
             "learning_rate",
             0.04731121763807573
            ],
            [
             "max_depth",
             4
            ],
            [
             "subsample",
             0.5901360160463529
            ],
            [
             "colsample_bytree",
             0.5207941443611376
            ],
            [
             "min_child_weight",
             3
            ]
           ]
          ],
          [
           [
            [
             "scaling_method",
             "standard"
            ],
            [
             "encoding_method",
             "ordinal"
            ],
            [
             "n_estimators",
             917
            ],
            [
             "learning_rate",
             0.044081018318051106
            ],
            [
             "max_depth",
             4
            ],
            [
             "subsample",
             0.6114930290253439
            ],
            [
             "colsample_bytree",
             0.5330333973787846
            ],
            [
             "min_child_weight",
             2
            ]
           ]
          ],
          [
           [
            [
             "scaling_method",
             "standard"
            ],
            [
             "encoding_method",
             "ordinal"
            ],
            [
             "n_estimators",
             879
            ],
            [
             "learning_rate",
             0.051923551380736885
            ],
            [
             "max_depth",
             4
            ],
            [
             "subsample",
             0.7980548580559587
            ],
            [
             "colsample_bytree",
             0.544603151881658
            ],
            [
             "min_child_weight",
             3
            ]
           ]
          ],
          [
           [
            [
             "scaling_method",
             "standard"
            ],
            [
             "encoding_method",
             "ordinal"
            ],
            [
             "n_estimators",
             965
            ],
            [
             "learning_rate",
             0.038688798712991024
            ],
            [
             "max_depth",
             4
            ],
            [
             "subsample",
             0.5189530127140396
            ],
            [
             "colsample_bytree",
             0.9798633239143697
            ],
            [
             "min_child_weight",
             4
            ]
           ]
          ],
          [
           [
            [
             "scaling_method",
             "minmax"
            ],
            [
             "encoding_method",
             "ordinal"
            ],
            [
             "n_estimators",
             999
            ],
            [
             "learning_rate",
             0.03379167404799594
            ],
            [
             "max_depth",
             4
            ],
            [
             "subsample",
             0.6370986110616893
            ],
            [
             "colsample_bytree",
             0.5000280260413144
            ],
            [
             "min_child_weight",
             3
            ]
           ]
          ],
          [
           [
            [
             "scaling_method",
             "standard"
            ],
            [
             "encoding_method",
             "ordinal"
            ],
            [
             "n_estimators",
             942
            ],
            [
             "learning_rate",
             0.05635057521642982
            ],
            [
             "max_depth",
             4
            ],
            [
             "subsample",
             0.5721103601572344
            ],
            [
             "colsample_bytree",
             0.5114848993877089
            ],
            [
             "min_child_weight",
             3
            ]
           ]
          ]
         ],
         "hovertemplate": "encoding=ordinal<br>Optuna Trial=%{x}<br>Score (R-Squared)=%{y}<br>Parameters=%{customdata[0]}<extra></extra>",
         "legendgroup": "ordinal",
         "marker": {
          "color": "#EF553B",
          "symbol": "circle"
         },
         "mode": "markers",
         "name": "ordinal",
         "orientation": "v",
         "showlegend": true,
         "type": "scatter",
         "x": [
          3,
          5,
          10,
          14,
          18,
          26,
          37,
          45,
          49,
          60,
          78,
          96,
          110,
          130,
          159,
          189
         ],
         "xaxis": "x",
         "y": [
          -6.3472926831956045,
          0.9395938577872155,
          0.9401550991180765,
          0.9292365942483789,
          -6.637612719405072,
          0.9452726188733658,
          0.9456177946917816,
          0.9497838626141958,
          0.9482556447518817,
          -5.910941484540518,
          0.9493384216313343,
          0.9501892664265809,
          0.949191726377468,
          0.9500038005758851,
          0.9498207934424855,
          0.9490983715393773
         ],
         "yaxis": "y"
        }
       ],
       "layout": {
        "hoverlabel": {
         "bgcolor": "white",
         "font": {
          "family": "Rockwell",
          "size": 8
         }
        },
        "legend": {
         "title": {
          "text": "encoding"
         },
         "tracegroupgap": 0
        },
        "template": {
         "data": {
          "bar": [
           {
            "error_x": {
             "color": "#2a3f5f"
            },
            "error_y": {
             "color": "#2a3f5f"
            },
            "marker": {
             "line": {
              "color": "#E5ECF6",
              "width": 0.5
             },
             "pattern": {
              "fillmode": "overlay",
              "size": 10,
              "solidity": 0.2
             }
            },
            "type": "bar"
           }
          ],
          "barpolar": [
           {
            "marker": {
             "line": {
              "color": "#E5ECF6",
              "width": 0.5
             },
             "pattern": {
              "fillmode": "overlay",
              "size": 10,
              "solidity": 0.2
             }
            },
            "type": "barpolar"
           }
          ],
          "carpet": [
           {
            "aaxis": {
             "endlinecolor": "#2a3f5f",
             "gridcolor": "white",
             "linecolor": "white",
             "minorgridcolor": "white",
             "startlinecolor": "#2a3f5f"
            },
            "baxis": {
             "endlinecolor": "#2a3f5f",
             "gridcolor": "white",
             "linecolor": "white",
             "minorgridcolor": "white",
             "startlinecolor": "#2a3f5f"
            },
            "type": "carpet"
           }
          ],
          "choropleth": [
           {
            "colorbar": {
             "outlinewidth": 0,
             "ticks": ""
            },
            "type": "choropleth"
           }
          ],
          "contour": [
           {
            "colorbar": {
             "outlinewidth": 0,
             "ticks": ""
            },
            "colorscale": [
             [
              0,
              "#0d0887"
             ],
             [
              0.1111111111111111,
              "#46039f"
             ],
             [
              0.2222222222222222,
              "#7201a8"
             ],
             [
              0.3333333333333333,
              "#9c179e"
             ],
             [
              0.4444444444444444,
              "#bd3786"
             ],
             [
              0.5555555555555556,
              "#d8576b"
             ],
             [
              0.6666666666666666,
              "#ed7953"
             ],
             [
              0.7777777777777778,
              "#fb9f3a"
             ],
             [
              0.8888888888888888,
              "#fdca26"
             ],
             [
              1,
              "#f0f921"
             ]
            ],
            "type": "contour"
           }
          ],
          "contourcarpet": [
           {
            "colorbar": {
             "outlinewidth": 0,
             "ticks": ""
            },
            "type": "contourcarpet"
           }
          ],
          "heatmap": [
           {
            "colorbar": {
             "outlinewidth": 0,
             "ticks": ""
            },
            "colorscale": [
             [
              0,
              "#0d0887"
             ],
             [
              0.1111111111111111,
              "#46039f"
             ],
             [
              0.2222222222222222,
              "#7201a8"
             ],
             [
              0.3333333333333333,
              "#9c179e"
             ],
             [
              0.4444444444444444,
              "#bd3786"
             ],
             [
              0.5555555555555556,
              "#d8576b"
             ],
             [
              0.6666666666666666,
              "#ed7953"
             ],
             [
              0.7777777777777778,
              "#fb9f3a"
             ],
             [
              0.8888888888888888,
              "#fdca26"
             ],
             [
              1,
              "#f0f921"
             ]
            ],
            "type": "heatmap"
           }
          ],
          "heatmapgl": [
           {
            "colorbar": {
             "outlinewidth": 0,
             "ticks": ""
            },
            "colorscale": [
             [
              0,
              "#0d0887"
             ],
             [
              0.1111111111111111,
              "#46039f"
             ],
             [
              0.2222222222222222,
              "#7201a8"
             ],
             [
              0.3333333333333333,
              "#9c179e"
             ],
             [
              0.4444444444444444,
              "#bd3786"
             ],
             [
              0.5555555555555556,
              "#d8576b"
             ],
             [
              0.6666666666666666,
              "#ed7953"
             ],
             [
              0.7777777777777778,
              "#fb9f3a"
             ],
             [
              0.8888888888888888,
              "#fdca26"
             ],
             [
              1,
              "#f0f921"
             ]
            ],
            "type": "heatmapgl"
           }
          ],
          "histogram": [
           {
            "marker": {
             "pattern": {
              "fillmode": "overlay",
              "size": 10,
              "solidity": 0.2
             }
            },
            "type": "histogram"
           }
          ],
          "histogram2d": [
           {
            "colorbar": {
             "outlinewidth": 0,
             "ticks": ""
            },
            "colorscale": [
             [
              0,
              "#0d0887"
             ],
             [
              0.1111111111111111,
              "#46039f"
             ],
             [
              0.2222222222222222,
              "#7201a8"
             ],
             [
              0.3333333333333333,
              "#9c179e"
             ],
             [
              0.4444444444444444,
              "#bd3786"
             ],
             [
              0.5555555555555556,
              "#d8576b"
             ],
             [
              0.6666666666666666,
              "#ed7953"
             ],
             [
              0.7777777777777778,
              "#fb9f3a"
             ],
             [
              0.8888888888888888,
              "#fdca26"
             ],
             [
              1,
              "#f0f921"
             ]
            ],
            "type": "histogram2d"
           }
          ],
          "histogram2dcontour": [
           {
            "colorbar": {
             "outlinewidth": 0,
             "ticks": ""
            },
            "colorscale": [
             [
              0,
              "#0d0887"
             ],
             [
              0.1111111111111111,
              "#46039f"
             ],
             [
              0.2222222222222222,
              "#7201a8"
             ],
             [
              0.3333333333333333,
              "#9c179e"
             ],
             [
              0.4444444444444444,
              "#bd3786"
             ],
             [
              0.5555555555555556,
              "#d8576b"
             ],
             [
              0.6666666666666666,
              "#ed7953"
             ],
             [
              0.7777777777777778,
              "#fb9f3a"
             ],
             [
              0.8888888888888888,
              "#fdca26"
             ],
             [
              1,
              "#f0f921"
             ]
            ],
            "type": "histogram2dcontour"
           }
          ],
          "mesh3d": [
           {
            "colorbar": {
             "outlinewidth": 0,
             "ticks": ""
            },
            "type": "mesh3d"
           }
          ],
          "parcoords": [
           {
            "line": {
             "colorbar": {
              "outlinewidth": 0,
              "ticks": ""
             }
            },
            "type": "parcoords"
           }
          ],
          "pie": [
           {
            "automargin": true,
            "type": "pie"
           }
          ],
          "scatter": [
           {
            "fillpattern": {
             "fillmode": "overlay",
             "size": 10,
             "solidity": 0.2
            },
            "type": "scatter"
           }
          ],
          "scatter3d": [
           {
            "line": {
             "colorbar": {
              "outlinewidth": 0,
              "ticks": ""
             }
            },
            "marker": {
             "colorbar": {
              "outlinewidth": 0,
              "ticks": ""
             }
            },
            "type": "scatter3d"
           }
          ],
          "scattercarpet": [
           {
            "marker": {
             "colorbar": {
              "outlinewidth": 0,
              "ticks": ""
             }
            },
            "type": "scattercarpet"
           }
          ],
          "scattergeo": [
           {
            "marker": {
             "colorbar": {
              "outlinewidth": 0,
              "ticks": ""
             }
            },
            "type": "scattergeo"
           }
          ],
          "scattergl": [
           {
            "marker": {
             "colorbar": {
              "outlinewidth": 0,
              "ticks": ""
             }
            },
            "type": "scattergl"
           }
          ],
          "scattermapbox": [
           {
            "marker": {
             "colorbar": {
              "outlinewidth": 0,
              "ticks": ""
             }
            },
            "type": "scattermapbox"
           }
          ],
          "scatterpolar": [
           {
            "marker": {
             "colorbar": {
              "outlinewidth": 0,
              "ticks": ""
             }
            },
            "type": "scatterpolar"
           }
          ],
          "scatterpolargl": [
           {
            "marker": {
             "colorbar": {
              "outlinewidth": 0,
              "ticks": ""
             }
            },
            "type": "scatterpolargl"
           }
          ],
          "scatterternary": [
           {
            "marker": {
             "colorbar": {
              "outlinewidth": 0,
              "ticks": ""
             }
            },
            "type": "scatterternary"
           }
          ],
          "surface": [
           {
            "colorbar": {
             "outlinewidth": 0,
             "ticks": ""
            },
            "colorscale": [
             [
              0,
              "#0d0887"
             ],
             [
              0.1111111111111111,
              "#46039f"
             ],
             [
              0.2222222222222222,
              "#7201a8"
             ],
             [
              0.3333333333333333,
              "#9c179e"
             ],
             [
              0.4444444444444444,
              "#bd3786"
             ],
             [
              0.5555555555555556,
              "#d8576b"
             ],
             [
              0.6666666666666666,
              "#ed7953"
             ],
             [
              0.7777777777777778,
              "#fb9f3a"
             ],
             [
              0.8888888888888888,
              "#fdca26"
             ],
             [
              1,
              "#f0f921"
             ]
            ],
            "type": "surface"
           }
          ],
          "table": [
           {
            "cells": {
             "fill": {
              "color": "#EBF0F8"
             },
             "line": {
              "color": "white"
             }
            },
            "header": {
             "fill": {
              "color": "#C8D4E3"
             },
             "line": {
              "color": "white"
             }
            },
            "type": "table"
           }
          ]
         },
         "layout": {
          "annotationdefaults": {
           "arrowcolor": "#2a3f5f",
           "arrowhead": 0,
           "arrowwidth": 1
          },
          "autotypenumbers": "strict",
          "coloraxis": {
           "colorbar": {
            "outlinewidth": 0,
            "ticks": ""
           }
          },
          "colorscale": {
           "diverging": [
            [
             0,
             "#8e0152"
            ],
            [
             0.1,
             "#c51b7d"
            ],
            [
             0.2,
             "#de77ae"
            ],
            [
             0.3,
             "#f1b6da"
            ],
            [
             0.4,
             "#fde0ef"
            ],
            [
             0.5,
             "#f7f7f7"
            ],
            [
             0.6,
             "#e6f5d0"
            ],
            [
             0.7,
             "#b8e186"
            ],
            [
             0.8,
             "#7fbc41"
            ],
            [
             0.9,
             "#4d9221"
            ],
            [
             1,
             "#276419"
            ]
           ],
           "sequential": [
            [
             0,
             "#0d0887"
            ],
            [
             0.1111111111111111,
             "#46039f"
            ],
            [
             0.2222222222222222,
             "#7201a8"
            ],
            [
             0.3333333333333333,
             "#9c179e"
            ],
            [
             0.4444444444444444,
             "#bd3786"
            ],
            [
             0.5555555555555556,
             "#d8576b"
            ],
            [
             0.6666666666666666,
             "#ed7953"
            ],
            [
             0.7777777777777778,
             "#fb9f3a"
            ],
            [
             0.8888888888888888,
             "#fdca26"
            ],
            [
             1,
             "#f0f921"
            ]
           ],
           "sequentialminus": [
            [
             0,
             "#0d0887"
            ],
            [
             0.1111111111111111,
             "#46039f"
            ],
            [
             0.2222222222222222,
             "#7201a8"
            ],
            [
             0.3333333333333333,
             "#9c179e"
            ],
            [
             0.4444444444444444,
             "#bd3786"
            ],
            [
             0.5555555555555556,
             "#d8576b"
            ],
            [
             0.6666666666666666,
             "#ed7953"
            ],
            [
             0.7777777777777778,
             "#fb9f3a"
            ],
            [
             0.8888888888888888,
             "#fdca26"
            ],
            [
             1,
             "#f0f921"
            ]
           ]
          },
          "colorway": [
           "#636efa",
           "#EF553B",
           "#00cc96",
           "#ab63fa",
           "#FFA15A",
           "#19d3f3",
           "#FF6692",
           "#B6E880",
           "#FF97FF",
           "#FECB52"
          ],
          "font": {
           "color": "#2a3f5f"
          },
          "geo": {
           "bgcolor": "white",
           "lakecolor": "white",
           "landcolor": "#E5ECF6",
           "showlakes": true,
           "showland": true,
           "subunitcolor": "white"
          },
          "hoverlabel": {
           "align": "left"
          },
          "hovermode": "closest",
          "mapbox": {
           "style": "light"
          },
          "paper_bgcolor": "white",
          "plot_bgcolor": "#E5ECF6",
          "polar": {
           "angularaxis": {
            "gridcolor": "white",
            "linecolor": "white",
            "ticks": ""
           },
           "bgcolor": "#E5ECF6",
           "radialaxis": {
            "gridcolor": "white",
            "linecolor": "white",
            "ticks": ""
           }
          },
          "scene": {
           "xaxis": {
            "backgroundcolor": "#E5ECF6",
            "gridcolor": "white",
            "gridwidth": 2,
            "linecolor": "white",
            "showbackground": true,
            "ticks": "",
            "zerolinecolor": "white"
           },
           "yaxis": {
            "backgroundcolor": "#E5ECF6",
            "gridcolor": "white",
            "gridwidth": 2,
            "linecolor": "white",
            "showbackground": true,
            "ticks": "",
            "zerolinecolor": "white"
           },
           "zaxis": {
            "backgroundcolor": "#E5ECF6",
            "gridcolor": "white",
            "gridwidth": 2,
            "linecolor": "white",
            "showbackground": true,
            "ticks": "",
            "zerolinecolor": "white"
           }
          },
          "shapedefaults": {
           "line": {
            "color": "#2a3f5f"
           }
          },
          "ternary": {
           "aaxis": {
            "gridcolor": "white",
            "linecolor": "white",
            "ticks": ""
           },
           "baxis": {
            "gridcolor": "white",
            "linecolor": "white",
            "ticks": ""
           },
           "bgcolor": "#E5ECF6",
           "caxis": {
            "gridcolor": "white",
            "linecolor": "white",
            "ticks": ""
           }
          },
          "title": {
           "x": 0.05
          },
          "xaxis": {
           "automargin": true,
           "gridcolor": "white",
           "linecolor": "white",
           "ticks": "",
           "title": {
            "standoff": 15
           },
           "zerolinecolor": "white",
           "zerolinewidth": 2
          },
          "yaxis": {
           "automargin": true,
           "gridcolor": "white",
           "linecolor": "white",
           "ticks": "",
           "title": {
            "standoff": 15
           },
           "zerolinecolor": "white",
           "zerolinewidth": 2
          }
         }
        },
        "title": {
         "text": "XGB tuned with Optuna after 200 trials  <br><sup> Best Score: 0.9539</sup>"
        },
        "xaxis": {
         "anchor": "y",
         "domain": [
          0,
          1
         ],
         "title": {
          "text": "Optuna Trial"
         }
        },
        "yaxis": {
         "anchor": "x",
         "domain": [
          0,
          1
         ],
         "title": {
          "text": "Score (R-Squared)"
         }
        }
       }
      },
      "text/html": [
       "<div>                            <div id=\"45117e0f-3ba9-424a-9293-4b810da14ba1\" class=\"plotly-graph-div\" style=\"height:525px; width:100%;\"></div>            <script type=\"text/javascript\">                require([\"plotly\"], function(Plotly) {                    window.PLOTLYENV=window.PLOTLYENV || {};                                    if (document.getElementById(\"45117e0f-3ba9-424a-9293-4b810da14ba1\")) {                    Plotly.newPlot(                        \"45117e0f-3ba9-424a-9293-4b810da14ba1\",                        [{\"customdata\":[[[[\"scaling_method\",\"robust\"],[\"encoding_method\",\"onehot\"],[\"drop\",null],[\"n_estimators\",475],[\"learning_rate\",0.024978041209914686],[\"max_depth\",2],[\"subsample\",0.3669553381298013],[\"colsample_bytree\",0.8770501936980049],[\"min_child_weight\",2]]],[[[\"scaling_method\",\"standard\"],[\"encoding_method\",\"onehot\"],[\"drop\",\"first\"],[\"n_estimators\",492],[\"learning_rate\",0.002575169388675062],[\"max_depth\",4],[\"subsample\",0.4915144462142802],[\"colsample_bytree\",0.6532977635113766],[\"min_child_weight\",1]]],[[[\"scaling_method\",\"robust\"],[\"encoding_method\",\"onehot\"],[\"drop\",null],[\"n_estimators\",897],[\"learning_rate\",0.07970385240736814],[\"max_depth\",2],[\"subsample\",0.6934542266597595],[\"colsample_bytree\",0.5577068357977943],[\"min_child_weight\",5]]],[[[\"scaling_method\",\"maxabs\"],[\"encoding_method\",\"onehot\"],[\"drop\",null],[\"n_estimators\",783],[\"learning_rate\",0.03190727718335504],[\"max_depth\",4],[\"subsample\",0.2378793418825126],[\"colsample_bytree\",0.6134047977794619],[\"min_child_weight\",4]]],[[[\"scaling_method\",\"minmax\"],[\"encoding_method\",\"onehot\"],[\"drop\",\"first\"],[\"n_estimators\",222],[\"learning_rate\",0.029553324376275027],[\"max_depth\",2],[\"subsample\",0.8027045236665274],[\"colsample_bytree\",0.9477313907890869],[\"min_child_weight\",2]]],[[[\"scaling_method\",\"robust\"],[\"encoding_method\",\"onehot\"],[\"drop\",null],[\"n_estimators\",430],[\"learning_rate\",0.00236275265262563],[\"max_depth\",2],[\"subsample\",0.815981948430195],[\"colsample_bytree\",0.6373099693942408],[\"min_child_weight\",4]]],[[[\"scaling_method\",\"minmax\"],[\"encoding_method\",\"onehot\"],[\"drop\",null],[\"n_estimators\",562],[\"learning_rate\",0.014190472676294379],[\"max_depth\",4],[\"subsample\",0.8992376149624356],[\"colsample_bytree\",0.8973343921688415],[\"min_child_weight\",5]]],[[[\"scaling_method\",\"maxabs\"],[\"encoding_method\",\"onehot\"],[\"drop\",\"first\"],[\"n_estimators\",983],[\"learning_rate\",0.004265550219001116],[\"max_depth\",3],[\"subsample\",0.3685162719177343],[\"colsample_bytree\",0.8929034279923462],[\"min_child_weight\",2]]],[[[\"scaling_method\",\"maxabs\"],[\"encoding_method\",\"onehot\"],[\"drop\",null],[\"n_estimators\",915],[\"learning_rate\",0.07974449183044309],[\"max_depth\",3],[\"subsample\",0.10180662406426866],[\"colsample_bytree\",0.5029010467607454],[\"min_child_weight\",5]]],[[[\"scaling_method\",\"standard\"],[\"encoding_method\",\"onehot\"],[\"drop\",null],[\"n_estimators\",767],[\"learning_rate\",0.04729226062014805],[\"max_depth\",4],[\"subsample\",0.6474720885394325],[\"colsample_bytree\",0.6193038536203289],[\"min_child_weight\",4]]],[[[\"scaling_method\",\"standard\"],[\"encoding_method\",\"onehot\"],[\"drop\",null],[\"n_estimators\",714],[\"learning_rate\",0.0397794641187814],[\"max_depth\",4],[\"subsample\",0.37871350729210107],[\"colsample_bytree\",0.7245464695981462],[\"min_child_weight\",4]]],[[[\"scaling_method\",\"standard\"],[\"encoding_method\",\"onehot\"],[\"drop\",null],[\"n_estimators\",798],[\"learning_rate\",0.047391052672483856],[\"max_depth\",4],[\"subsample\",0.4067000903264162],[\"colsample_bytree\",0.7478025594512815],[\"min_child_weight\",4]]],[[[\"scaling_method\",\"standard\"],[\"encoding_method\",\"onehot\"],[\"drop\",null],[\"n_estimators\",842],[\"learning_rate\",0.005404291134180695],[\"max_depth\",3],[\"subsample\",0.9669335807392059],[\"colsample_bytree\",0.786678185168821],[\"min_child_weight\",3]]],[[[\"scaling_method\",\"standard\"],[\"encoding_method\",\"onehot\"],[\"drop\",null],[\"n_estimators\",329],[\"learning_rate\",0.05234945230445804],[\"max_depth\",4],[\"subsample\",0.43994892694634324],[\"colsample_bytree\",0.7050224514266739],[\"min_child_weight\",4]]],[[[\"scaling_method\",\"standard\"],[\"encoding_method\",\"onehot\"],[\"drop\",\"first\"],[\"n_estimators\",140],[\"learning_rate\",0.0530561429674577],[\"max_depth\",4],[\"subsample\",0.287551892168741],[\"colsample_bytree\",0.6906448985388419],[\"min_child_weight\",5]]],[[[\"scaling_method\",\"standard\"],[\"encoding_method\",\"onehot\"],[\"drop\",null],[\"n_estimators\",795],[\"learning_rate\",0.016426239722196482],[\"max_depth\",4],[\"subsample\",0.6590854659019745],[\"colsample_bytree\",0.585607942317437],[\"min_child_weight\",4]]],[[[\"scaling_method\",\"standard\"],[\"encoding_method\",\"onehot\"],[\"drop\",null],[\"n_estimators\",694],[\"learning_rate\",0.044444172994943326],[\"max_depth\",4],[\"subsample\",0.40445909774362404],[\"colsample_bytree\",0.7061072671597574],[\"min_child_weight\",4]]],[[[\"scaling_method\",\"standard\"],[\"encoding_method\",\"onehot\"],[\"drop\",null],[\"n_estimators\",689],[\"learning_rate\",0.04973463715370684],[\"max_depth\",4],[\"subsample\",0.460083800904819],[\"colsample_bytree\",0.8130556238937897],[\"min_child_weight\",4]]],[[[\"scaling_method\",\"standard\"],[\"encoding_method\",\"onehot\"],[\"drop\",null],[\"n_estimators\",873],[\"learning_rate\",0.019086552580620857],[\"max_depth\",4],[\"subsample\",0.5499300375224502],[\"colsample_bytree\",0.8244043229522998],[\"min_child_weight\",3]]],[[[\"scaling_method\",\"standard\"],[\"encoding_method\",\"onehot\"],[\"drop\",null],[\"n_estimators\",982],[\"learning_rate\",0.059245798247765644],[\"max_depth\",3],[\"subsample\",0.28031885943555257],[\"colsample_bytree\",0.7666886629148627],[\"min_child_weight\",5]]],[[[\"scaling_method\",\"standard\"],[\"encoding_method\",\"onehot\"],[\"drop\",null],[\"n_estimators\",745],[\"learning_rate\",0.009681056665650074],[\"max_depth\",4],[\"subsample\",0.46284324273362576],[\"colsample_bytree\",0.9903299056449928],[\"min_child_weight\",4]]],[[[\"scaling_method\",\"standard\"],[\"encoding_method\",\"onehot\"],[\"drop\",null],[\"n_estimators\",824],[\"learning_rate\",0.06481525771599732],[\"max_depth\",3],[\"subsample\",0.5663178703879708],[\"colsample_bytree\",0.6713616769508152],[\"min_child_weight\",4]]],[[[\"scaling_method\",\"minmax\"],[\"encoding_method\",\"onehot\"],[\"drop\",\"first\"],[\"n_estimators\",551],[\"learning_rate\",0.09855248402855467],[\"max_depth\",4],[\"subsample\",0.49567245987555175],[\"colsample_bytree\",0.8584816973936492],[\"min_child_weight\",5]]],[[[\"scaling_method\",\"robust\"],[\"encoding_method\",\"onehot\"],[\"drop\",null],[\"n_estimators\",920],[\"learning_rate\",0.025607394808080226],[\"max_depth\",3],[\"subsample\",0.30284178066813316],[\"colsample_bytree\",0.7437036929866911],[\"min_child_weight\",1]]],[[[\"scaling_method\",\"standard\"],[\"encoding_method\",\"onehot\"],[\"drop\",null],[\"n_estimators\",487],[\"learning_rate\",0.010463185713603128],[\"max_depth\",4],[\"subsample\",0.6428368830901725],[\"colsample_bytree\",0.794344040387567],[\"min_child_weight\",3]]],[[[\"scaling_method\",\"standard\"],[\"encoding_method\",\"onehot\"],[\"drop\",null],[\"n_estimators\",793],[\"learning_rate\",0.06662733767657203],[\"max_depth\",3],[\"subsample\",0.5804943646135519],[\"colsample_bytree\",0.6655508398105485],[\"min_child_weight\",4]]],[[[\"scaling_method\",\"standard\"],[\"encoding_method\",\"onehot\"],[\"drop\",null],[\"n_estimators\",825],[\"learning_rate\",0.0633557390420292],[\"max_depth\",3],[\"subsample\",0.43083837680973097],[\"colsample_bytree\",0.6639364059217894],[\"min_child_weight\",4]]],[[[\"scaling_method\",\"standard\"],[\"encoding_method\",\"onehot\"],[\"drop\",null],[\"n_estimators\",702],[\"learning_rate\",0.04700994412308481],[\"max_depth\",3],[\"subsample\",0.4317531393960828],[\"colsample_bytree\",0.6319610584402935],[\"min_child_weight\",4]]],[[[\"scaling_method\",\"standard\"],[\"encoding_method\",\"onehot\"],[\"drop\",null],[\"n_estimators\",857],[\"learning_rate\",0.031123390392781725],[\"max_depth\",4],[\"subsample\",0.3482098538153208],[\"colsample_bytree\",0.5808662668216741],[\"min_child_weight\",5]]],[[[\"scaling_method\",\"robust\"],[\"encoding_method\",\"onehot\"],[\"drop\",null],[\"n_estimators\",742],[\"learning_rate\",0.022518020384094138],[\"max_depth\",3],[\"subsample\",0.5151889380474837],[\"colsample_bytree\",0.6110828695020909],[\"min_child_weight\",4]]],[[[\"scaling_method\",\"standard\"],[\"encoding_method\",\"onehot\"],[\"drop\",null],[\"n_estimators\",637],[\"learning_rate\",0.07110441706969593],[\"max_depth\",4],[\"subsample\",0.238357312876637],[\"colsample_bytree\",0.550710244241414],[\"min_child_weight\",3]]],[[[\"scaling_method\",\"minmax\"],[\"encoding_method\",\"onehot\"],[\"drop\",null],[\"n_estimators\",579],[\"learning_rate\",0.048017023471238866],[\"max_depth\",4],[\"subsample\",0.7157584732777649],[\"colsample_bytree\",0.8503372513092223],[\"min_child_weight\",4]]],[[[\"scaling_method\",\"robust\"],[\"encoding_method\",\"onehot\"],[\"drop\",\"first\"],[\"n_estimators\",810],[\"learning_rate\",0.09873302281050222],[\"max_depth\",3],[\"subsample\",0.3327976395193738],[\"colsample_bytree\",0.7836175564404917],[\"min_child_weight\",4]]],[[[\"scaling_method\",\"maxabs\"],[\"encoding_method\",\"onehot\"],[\"drop\",null],[\"n_estimators\",730],[\"learning_rate\",0.02735036824125526],[\"max_depth\",2],[\"subsample\",0.530142890005902],[\"colsample_bytree\",0.6418755244170449],[\"min_child_weight\",5]]],[[[\"scaling_method\",\"standard\"],[\"encoding_method\",\"onehot\"],[\"drop\",null],[\"n_estimators\",872],[\"learning_rate\",0.06507545497261033],[\"max_depth\",3],[\"subsample\",0.5780033294966029],[\"colsample_bytree\",0.6732037297267573],[\"min_child_weight\",4]]],[[[\"scaling_method\",\"standard\"],[\"encoding_method\",\"onehot\"],[\"drop\",null],[\"n_estimators\",885],[\"learning_rate\",0.07510205062663165],[\"max_depth\",3],[\"subsample\",0.6824401559388008],[\"colsample_bytree\",0.675004135054794],[\"min_child_weight\",4]]],[[[\"scaling_method\",\"standard\"],[\"encoding_method\",\"onehot\"],[\"drop\",null],[\"n_estimators\",768],[\"learning_rate\",0.058708576512874006],[\"max_depth\",3],[\"subsample\",0.4217194893229429],[\"colsample_bytree\",0.6118020489115675],[\"min_child_weight\",4]]],[[[\"scaling_method\",\"standard\"],[\"encoding_method\",\"onehot\"],[\"drop\",null],[\"n_estimators\",956],[\"learning_rate\",0.03403486706534832],[\"max_depth\",3],[\"subsample\",0.7502924963558425],[\"colsample_bytree\",0.6189330459034983],[\"min_child_weight\",4]]],[[[\"scaling_method\",\"maxabs\"],[\"encoding_method\",\"onehot\"],[\"drop\",null],[\"n_estimators\",868],[\"learning_rate\",0.07977665892922679],[\"max_depth\",3],[\"subsample\",0.604257887698297],[\"colsample_bytree\",0.5574166696308082],[\"min_child_weight\",4]]],[[[\"scaling_method\",\"standard\"],[\"encoding_method\",\"onehot\"],[\"drop\",\"first\"],[\"n_estimators\",829],[\"learning_rate\",0.042226907002724696],[\"max_depth\",3],[\"subsample\",0.40397386309186856],[\"colsample_bytree\",0.6493312297794681],[\"min_child_weight\",1]]],[[[\"scaling_method\",\"standard\"],[\"encoding_method\",\"onehot\"],[\"drop\",null],[\"n_estimators\",424],[\"learning_rate\",0.005225847069261641],[\"max_depth\",3],[\"subsample\",0.8423995539297795],[\"colsample_bytree\",0.7098950222407459],[\"min_child_weight\",3]]],[[[\"scaling_method\",\"standard\"],[\"encoding_method\",\"onehot\"],[\"drop\",null],[\"n_estimators\",773],[\"learning_rate\",0.02211899739414929],[\"max_depth\",3],[\"subsample\",0.23330635463689187],[\"colsample_bytree\",0.5233698595895443],[\"min_child_weight\",2]]],[[[\"scaling_method\",\"standard\"],[\"encoding_method\",\"onehot\"],[\"drop\",null],[\"n_estimators\",655],[\"learning_rate\",0.055705325059321784],[\"max_depth\",3],[\"subsample\",0.4339233780973017],[\"colsample_bytree\",0.6848917474882584],[\"min_child_weight\",4]]],[[[\"scaling_method\",\"standard\"],[\"encoding_method\",\"onehot\"],[\"drop\",null],[\"n_estimators\",830],[\"learning_rate\",0.04155081636892581],[\"max_depth\",4],[\"subsample\",0.4509109758118648],[\"colsample_bytree\",0.7291190973380179],[\"min_child_weight\",4]]],[[[\"scaling_method\",\"standard\"],[\"encoding_method\",\"onehot\"],[\"drop\",null],[\"n_estimators\",893],[\"learning_rate\",0.03982404616996275],[\"max_depth\",4],[\"subsample\",0.4081071285413448],[\"colsample_bytree\",0.7207254099784625],[\"min_child_weight\",4]]],[[[\"scaling_method\",\"standard\"],[\"encoding_method\",\"onehot\"],[\"drop\",null],[\"n_estimators\",931],[\"learning_rate\",0.029788987261082294],[\"max_depth\",4],[\"subsample\",0.6402097757161616],[\"colsample_bytree\",0.6587113500128999],[\"min_child_weight\",4]]],[[[\"scaling_method\",\"standard\"],[\"encoding_method\",\"onehot\"],[\"drop\",null],[\"n_estimators\",824],[\"learning_rate\",0.06499554044005938],[\"max_depth\",3],[\"subsample\",0.5447255766810911],[\"colsample_bytree\",0.6877576511022102],[\"min_child_weight\",4]]],[[[\"scaling_method\",\"maxabs\"],[\"encoding_method\",\"onehot\"],[\"drop\",null],[\"n_estimators\",842],[\"learning_rate\",0.09154124161051745],[\"max_depth\",4],[\"subsample\",0.4905394952545925],[\"colsample_bytree\",0.7323398631820065],[\"min_child_weight\",4]]],[[[\"scaling_method\",\"maxabs\"],[\"encoding_method\",\"onehot\"],[\"drop\",\"first\"],[\"n_estimators\",954],[\"learning_rate\",0.09980714173196387],[\"max_depth\",3],[\"subsample\",0.49469420503819833],[\"colsample_bytree\",0.7305679000533077],[\"min_child_weight\",4]]],[[[\"scaling_method\",\"maxabs\"],[\"encoding_method\",\"onehot\"],[\"drop\",null],[\"n_estimators\",852],[\"learning_rate\",0.08476139528316784],[\"max_depth\",4],[\"subsample\",0.5696225551194105],[\"colsample_bytree\",0.6981172785855054],[\"min_child_weight\",3]]],[[[\"scaling_method\",\"maxabs\"],[\"encoding_method\",\"onehot\"],[\"drop\",null],[\"n_estimators\",755],[\"learning_rate\",0.01365127944383386],[\"max_depth\",3],[\"subsample\",0.6857844128277272],[\"colsample_bytree\",0.6299597470824319],[\"min_child_weight\",5]]],[[[\"scaling_method\",\"standard\"],[\"encoding_method\",\"onehot\"],[\"drop\",null],[\"n_estimators\",792],[\"learning_rate\",0.05730470324713337],[\"max_depth\",4],[\"subsample\",0.38030710308790805],[\"colsample_bytree\",0.7606713255269029],[\"min_child_weight\",4]]],[[[\"scaling_method\",\"standard\"],[\"encoding_method\",\"onehot\"],[\"drop\",null],[\"n_estimators\",727],[\"learning_rate\",0.053836140278987386],[\"max_depth\",4],[\"subsample\",0.33495793747312985],[\"colsample_bytree\",0.7767101008318574],[\"min_child_weight\",4]]],[[[\"scaling_method\",\"maxabs\"],[\"encoding_method\",\"onehot\"],[\"drop\",null],[\"n_estimators\",845],[\"learning_rate\",0.06669732972994195],[\"max_depth\",4],[\"subsample\",0.308519083787203],[\"colsample_bytree\",0.7721243771984889],[\"min_child_weight\",4]]],[[[\"scaling_method\",\"minmax\"],[\"encoding_method\",\"onehot\"],[\"drop\",null],[\"n_estimators\",809],[\"learning_rate\",0.05185357281894903],[\"max_depth\",4],[\"subsample\",0.36306012279158645],[\"colsample_bytree\",0.752193401428429],[\"min_child_weight\",4]]],[[[\"scaling_method\",\"standard\"],[\"encoding_method\",\"onehot\"],[\"drop\",null],[\"n_estimators\",722],[\"learning_rate\",0.04249423378391319],[\"max_depth\",4],[\"subsample\",0.2662546581725011],[\"colsample_bytree\",0.7138489407159679],[\"min_child_weight\",4]]],[[[\"scaling_method\",\"standard\"],[\"encoding_method\",\"onehot\"],[\"drop\",null],[\"n_estimators\",670],[\"learning_rate\",0.07762419085523724],[\"max_depth\",4],[\"subsample\",0.16585966110263134],[\"colsample_bytree\",0.7667749690150173],[\"min_child_weight\",3]]],[[[\"scaling_method\",\"standard\"],[\"encoding_method\",\"onehot\"],[\"drop\",null],[\"n_estimators\",787],[\"learning_rate\",0.08978858148170225],[\"max_depth\",4],[\"subsample\",0.6146630045505043],[\"colsample_bytree\",0.7311879681120449],[\"min_child_weight\",5]]],[[[\"scaling_method\",\"standard\"],[\"encoding_method\",\"onehot\"],[\"drop\",null],[\"n_estimators\",711],[\"learning_rate\",0.007428619903766021],[\"max_depth\",4],[\"subsample\",0.32384631892186777],[\"colsample_bytree\",0.8120015177420874],[\"min_child_weight\",4]]],[[[\"scaling_method\",\"standard\"],[\"encoding_method\",\"onehot\"],[\"drop\",\"first\"],[\"n_estimators\",612],[\"learning_rate\",0.003180535834419085],[\"max_depth\",4],[\"subsample\",0.46030725341278156],[\"colsample_bytree\",0.7917283592606461],[\"min_child_weight\",4]]],[[[\"scaling_method\",\"maxabs\"],[\"encoding_method\",\"onehot\"],[\"drop\",null],[\"n_estimators\",525],[\"learning_rate\",0.03543469282093258],[\"max_depth\",4],[\"subsample\",0.3807647526056799],[\"colsample_bytree\",0.7576854110654505],[\"min_child_weight\",4]]],[[[\"scaling_method\",\"standard\"],[\"encoding_method\",\"onehot\"],[\"drop\",null],[\"n_estimators\",749],[\"learning_rate\",0.05938083839256959],[\"max_depth\",4],[\"subsample\",0.44555189240029336],[\"colsample_bytree\",0.594592957306584],[\"min_child_weight\",4]]],[[[\"scaling_method\",\"standard\"],[\"encoding_method\",\"onehot\"],[\"drop\",null],[\"n_estimators\",836],[\"learning_rate\",0.06098549954349969],[\"max_depth\",4],[\"subsample\",0.44603771652553886],[\"colsample_bytree\",0.5696930291785585],[\"min_child_weight\",4]]],[[[\"scaling_method\",\"standard\"],[\"encoding_method\",\"onehot\"],[\"drop\",null],[\"n_estimators\",744],[\"learning_rate\",0.07150715958441867],[\"max_depth\",4],[\"subsample\",0.509399435733443],[\"colsample_bytree\",0.6771240056977652],[\"min_child_weight\",4]]],[[[\"scaling_method\",\"standard\"],[\"encoding_method\",\"onehot\"],[\"drop\",null],[\"n_estimators\",874],[\"learning_rate\",0.04900463652882283],[\"max_depth\",4],[\"subsample\",0.5451772187138496],[\"colsample_bytree\",0.5943850037519653],[\"min_child_weight\",4]]],[[[\"scaling_method\",\"standard\"],[\"encoding_method\",\"onehot\"],[\"drop\",null],[\"n_estimators\",910],[\"learning_rate\",0.051644707541483405],[\"max_depth\",4],[\"subsample\",0.5835800315884345],[\"colsample_bytree\",0.5343120147350685],[\"min_child_weight\",4]]],[[[\"scaling_method\",\"standard\"],[\"encoding_method\",\"onehot\"],[\"drop\",null],[\"n_estimators\",905],[\"learning_rate\",0.04643973848790804],[\"max_depth\",4],[\"subsample\",0.5797329944770706],[\"colsample_bytree\",0.527504939004116],[\"min_child_weight\",3]]],[[[\"scaling_method\",\"standard\"],[\"encoding_method\",\"onehot\"],[\"drop\",null],[\"n_estimators\",956],[\"learning_rate\",0.04648810682324537],[\"max_depth\",4],[\"subsample\",0.5836446443704956],[\"colsample_bytree\",0.542127444547118],[\"min_child_weight\",3]]],[[[\"scaling_method\",\"standard\"],[\"encoding_method\",\"onehot\"],[\"drop\",null],[\"n_estimators\",908],[\"learning_rate\",0.03751487354648077],[\"max_depth\",4],[\"subsample\",0.6465403080003055],[\"colsample_bytree\",0.541491042117335],[\"min_child_weight\",3]]],[[[\"scaling_method\",\"robust\"],[\"encoding_method\",\"onehot\"],[\"drop\",null],[\"n_estimators\",908],[\"learning_rate\",0.027305437112644736],[\"max_depth\",4],[\"subsample\",0.657366283428624],[\"colsample_bytree\",0.5395747428539072],[\"min_child_weight\",3]]],[[[\"scaling_method\",\"standard\"],[\"encoding_method\",\"onehot\"],[\"drop\",null],[\"n_estimators\",937],[\"learning_rate\",0.04021124807781962],[\"max_depth\",4],[\"subsample\",0.5555256528827893],[\"colsample_bytree\",0.5462831730811686],[\"min_child_weight\",3]]],[[[\"scaling_method\",\"standard\"],[\"encoding_method\",\"onehot\"],[\"drop\",null],[\"n_estimators\",942],[\"learning_rate\",0.03654611491837465],[\"max_depth\",4],[\"subsample\",0.6240160867286582],[\"colsample_bytree\",0.5091263872207336],[\"min_child_weight\",3]]],[[[\"scaling_method\",\"standard\"],[\"encoding_method\",\"onehot\"],[\"drop\",null],[\"n_estimators\",938],[\"learning_rate\",0.031787966738374356],[\"max_depth\",4],[\"subsample\",0.5612832929570061],[\"colsample_bytree\",0.5000475314191094],[\"min_child_weight\",3]]],[[[\"scaling_method\",\"standard\"],[\"encoding_method\",\"onehot\"],[\"drop\",null],[\"n_estimators\",982],[\"learning_rate\",0.04368730520522419],[\"max_depth\",4],[\"subsample\",0.6156842460645957],[\"colsample_bytree\",0.5273694704668308],[\"min_child_weight\",3]]],[[[\"scaling_method\",\"standard\"],[\"encoding_method\",\"onehot\"],[\"drop\",null],[\"n_estimators\",975],[\"learning_rate\",0.042596843254780296],[\"max_depth\",4],[\"subsample\",0.5904568978593641],[\"colsample_bytree\",0.5156085878989596],[\"min_child_weight\",2]]],[[[\"scaling_method\",\"standard\"],[\"encoding_method\",\"onehot\"],[\"drop\",null],[\"n_estimators\",986],[\"learning_rate\",0.039379098090284614],[\"max_depth\",4],[\"subsample\",0.6202242655918409],[\"colsample_bytree\",0.517705882920031],[\"min_child_weight\",2]]],[[[\"scaling_method\",\"standard\"],[\"encoding_method\",\"onehot\"],[\"drop\",null],[\"n_estimators\",972],[\"learning_rate\",0.03455744990975655],[\"max_depth\",4],[\"subsample\",0.7149221353573602],[\"colsample_bytree\",0.5300936187203431],[\"min_child_weight\",2]]],[[[\"scaling_method\",\"minmax\"],[\"encoding_method\",\"onehot\"],[\"drop\",\"first\"],[\"n_estimators\",938],[\"learning_rate\",0.019147501431610953],[\"max_depth\",4],[\"subsample\",0.6310574549953281],[\"colsample_bytree\",0.5696746455766672],[\"min_child_weight\",2]]],[[[\"scaling_method\",\"standard\"],[\"encoding_method\",\"onehot\"],[\"drop\",null],[\"n_estimators\",876],[\"learning_rate\",0.04284889602667325],[\"max_depth\",4],[\"subsample\",0.6755685832511081],[\"colsample_bytree\",0.5070089553603792],[\"min_child_weight\",3]]],[[[\"scaling_method\",\"standard\"],[\"encoding_method\",\"onehot\"],[\"drop\",null],[\"n_estimators\",995],[\"learning_rate\",0.04244147495658048],[\"max_depth\",4],[\"subsample\",0.7567686860461925],[\"colsample_bytree\",0.5095063076498145],[\"min_child_weight\",3]]],[[[\"scaling_method\",\"standard\"],[\"encoding_method\",\"onehot\"],[\"drop\",null],[\"n_estimators\",914],[\"learning_rate\",0.05278614174012599],[\"max_depth\",4],[\"subsample\",0.6705316242623164],[\"colsample_bytree\",0.5702774859397934],[\"min_child_weight\",3]]],[[[\"scaling_method\",\"standard\"],[\"encoding_method\",\"onehot\"],[\"drop\",null],[\"n_estimators\",873],[\"learning_rate\",0.025452700620830635],[\"max_depth\",4],[\"subsample\",0.5979731687560089],[\"colsample_bytree\",0.5086710177474951],[\"min_child_weight\",1]]],[[[\"scaling_method\",\"standard\"],[\"encoding_method\",\"onehot\"],[\"drop\",null],[\"n_estimators\",940],[\"learning_rate\",0.032135955817887724],[\"max_depth\",4],[\"subsample\",0.5368060769873285],[\"colsample_bytree\",0.5296680436797417],[\"min_child_weight\",3]]],[[[\"scaling_method\",\"standard\"],[\"encoding_method\",\"onehot\"],[\"drop\",null],[\"n_estimators\",976],[\"learning_rate\",0.043822650319510104],[\"max_depth\",4],[\"subsample\",0.5679021003871656],[\"colsample_bytree\",0.5538218292462826],[\"min_child_weight\",2]]],[[[\"scaling_method\",\"standard\"],[\"encoding_method\",\"onehot\"],[\"drop\",null],[\"n_estimators\",1000],[\"learning_rate\",0.02864743499349998],[\"max_depth\",4],[\"subsample\",0.7063851402593533],[\"colsample_bytree\",0.5524198768734881],[\"min_child_weight\",2]]],[[[\"scaling_method\",\"standard\"],[\"encoding_method\",\"onehot\"],[\"drop\",null],[\"n_estimators\",971],[\"learning_rate\",0.03954199065077492],[\"max_depth\",4],[\"subsample\",0.5584322348174456],[\"colsample_bytree\",0.5151459556738267],[\"min_child_weight\",2]]],[[[\"scaling_method\",\"standard\"],[\"encoding_method\",\"onehot\"],[\"drop\",null],[\"n_estimators\",887],[\"learning_rate\",0.023656481515760056],[\"max_depth\",4],[\"subsample\",0.6689721108410434],[\"colsample_bytree\",0.5568582769795728],[\"min_child_weight\",3]]],[[[\"scaling_method\",\"robust\"],[\"encoding_method\",\"onehot\"],[\"drop\",null],[\"n_estimators\",979],[\"learning_rate\",0.05263794345892966],[\"max_depth\",4],[\"subsample\",0.7384877078873608],[\"colsample_bytree\",0.9031941696659809],[\"min_child_weight\",3]]],[[[\"scaling_method\",\"standard\"],[\"encoding_method\",\"onehot\"],[\"drop\",null],[\"n_estimators\",945],[\"learning_rate\",0.019784919016384662],[\"max_depth\",4],[\"subsample\",0.6330123063387744],[\"colsample_bytree\",0.5481958031380743],[\"min_child_weight\",2]]],[[[\"scaling_method\",\"standard\"],[\"encoding_method\",\"onehot\"],[\"drop\",null],[\"n_estimators\",891],[\"learning_rate\",0.04224967750358373],[\"max_depth\",4],[\"subsample\",0.5784684134028454],[\"colsample_bytree\",0.5043757543218799],[\"min_child_weight\",3]]],[[[\"scaling_method\",\"standard\"],[\"encoding_method\",\"onehot\"],[\"drop\",null],[\"n_estimators\",921],[\"learning_rate\",0.03329414329613831],[\"max_depth\",4],[\"subsample\",0.5166425740628686],[\"colsample_bytree\",0.5070586284065997],[\"min_child_weight\",3]]],[[[\"scaling_method\",\"standard\"],[\"encoding_method\",\"onehot\"],[\"drop\",null],[\"n_estimators\",893],[\"learning_rate\",0.04228316989214218],[\"max_depth\",4],[\"subsample\",0.5750590730549623],[\"colsample_bytree\",0.5011231859034261],[\"min_child_weight\",3]]],[[[\"scaling_method\",\"standard\"],[\"encoding_method\",\"onehot\"],[\"drop\",null],[\"n_estimators\",235],[\"learning_rate\",0.03682844144897991],[\"max_depth\",4],[\"subsample\",0.6043321692132864],[\"colsample_bytree\",0.529942048356702],[\"min_child_weight\",3]]],[[[\"scaling_method\",\"standard\"],[\"encoding_method\",\"onehot\"],[\"drop\",null],[\"n_estimators\",968],[\"learning_rate\",0.054304472527003454],[\"max_depth\",4],[\"subsample\",0.6956922171185842],[\"colsample_bytree\",0.5215097350675066],[\"min_child_weight\",3]]],[[[\"scaling_method\",\"standard\"],[\"encoding_method\",\"onehot\"],[\"drop\",null],[\"n_estimators\",861],[\"learning_rate\",0.044738656817851594],[\"max_depth\",4],[\"subsample\",0.536891214439],[\"colsample_bytree\",0.564825934914122],[\"min_child_weight\",2]]],[[[\"scaling_method\",\"minmax\"],[\"encoding_method\",\"onehot\"],[\"drop\",\"first\"],[\"n_estimators\",926],[\"learning_rate\",0.04850739763031974],[\"max_depth\",4],[\"subsample\",0.58989585149592],[\"colsample_bytree\",0.537770237021434],[\"min_child_weight\",3]]],[[[\"scaling_method\",\"standard\"],[\"encoding_method\",\"onehot\"],[\"drop\",null],[\"n_estimators\",901],[\"learning_rate\",0.030595729443354248],[\"max_depth\",4],[\"subsample\",0.5611490476588351],[\"colsample_bytree\",0.5142665685891052],[\"min_child_weight\",3]]],[[[\"scaling_method\",\"standard\"],[\"encoding_method\",\"onehot\"],[\"drop\",null],[\"n_estimators\",944],[\"learning_rate\",0.03931379049036758],[\"max_depth\",4],[\"subsample\",0.6562521503921215],[\"colsample_bytree\",0.58160275311689],[\"min_child_weight\",3]]],[[[\"scaling_method\",\"standard\"],[\"encoding_method\",\"onehot\"],[\"drop\",null],[\"n_estimators\",858],[\"learning_rate\",0.07113897054483087],[\"max_depth\",4],[\"subsample\",0.6260323805489171],[\"colsample_bytree\",0.5609036182073875],[\"min_child_weight\",1]]],[[[\"scaling_method\",\"standard\"],[\"encoding_method\",\"onehot\"],[\"drop\",null],[\"n_estimators\",959],[\"learning_rate\",0.06352816060112834],[\"max_depth\",4],[\"subsample\",0.5757144329347235],[\"colsample_bytree\",0.5225074312533546],[\"min_child_weight\",3]]],[[[\"scaling_method\",\"standard\"],[\"encoding_method\",\"onehot\"],[\"drop\",null],[\"n_estimators\",893],[\"learning_rate\",0.0431419737771837],[\"max_depth\",4],[\"subsample\",0.5053160383324905],[\"colsample_bytree\",0.8060125902291967],[\"min_child_weight\",3]]],[[[\"scaling_method\",\"standard\"],[\"encoding_method\",\"onehot\"],[\"drop\",null],[\"n_estimators\",810],[\"learning_rate\",0.05584833355266446],[\"max_depth\",4],[\"subsample\",0.528643391510971],[\"colsample_bytree\",0.5325178738697474],[\"min_child_weight\",3]]],[[[\"scaling_method\",\"standard\"],[\"encoding_method\",\"onehot\"],[\"drop\",null],[\"n_estimators\",981],[\"learning_rate\",0.03539335626119567],[\"max_depth\",4],[\"subsample\",0.6049235673136818],[\"colsample_bytree\",0.5111987761677306],[\"min_child_weight\",2]]],[[[\"scaling_method\",\"standard\"],[\"encoding_method\",\"onehot\"],[\"drop\",null],[\"n_estimators\",919],[\"learning_rate\",0.047482758961960705],[\"max_depth\",4],[\"subsample\",0.5506943266106968],[\"colsample_bytree\",0.5776828516731426],[\"min_child_weight\",3]]],[[[\"scaling_method\",\"standard\"],[\"encoding_method\",\"onehot\"],[\"drop\",null],[\"n_estimators\",861],[\"learning_rate\",0.06116293127997311],[\"max_depth\",4],[\"subsample\",0.9601083740648362],[\"colsample_bytree\",0.5018486371252276],[\"min_child_weight\",3]]],[[[\"scaling_method\",\"standard\"],[\"encoding_method\",\"onehot\"],[\"drop\",null],[\"n_estimators\",953],[\"learning_rate\",0.07063990399551874],[\"max_depth\",4],[\"subsample\",0.4804286624289002],[\"colsample_bytree\",0.5534034591461701],[\"min_child_weight\",2]]],[[[\"scaling_method\",\"robust\"],[\"encoding_method\",\"onehot\"],[\"drop\",null],[\"n_estimators\",843],[\"learning_rate\",0.04008605994261064],[\"max_depth\",4],[\"subsample\",0.590081651358694],[\"colsample_bytree\",0.5231700915859308],[\"min_child_weight\",3]]],[[[\"scaling_method\",\"robust\"],[\"encoding_method\",\"onehot\"],[\"drop\",null],[\"n_estimators\",844],[\"learning_rate\",0.039017143883343756],[\"max_depth\",4],[\"subsample\",0.6711227617771436],[\"colsample_bytree\",0.5441787248768],[\"min_child_weight\",3]]],[[[\"scaling_method\",\"robust\"],[\"encoding_method\",\"onehot\"],[\"drop\",null],[\"n_estimators\",813],[\"learning_rate\",0.051019276013019456],[\"max_depth\",4],[\"subsample\",0.5864869288457577],[\"colsample_bytree\",0.5256280564115579],[\"min_child_weight\",3]]],[[[\"scaling_method\",\"robust\"],[\"encoding_method\",\"onehot\"],[\"drop\",null],[\"n_estimators\",876],[\"learning_rate\",0.04537371525589987],[\"max_depth\",4],[\"subsample\",0.6362315012721145],[\"colsample_bytree\",0.7778835452986814],[\"min_child_weight\",3]]],[[[\"scaling_method\",\"robust\"],[\"encoding_method\",\"onehot\"],[\"drop\",null],[\"n_estimators\",906],[\"learning_rate\",0.03316285222434117],[\"max_depth\",4],[\"subsample\",0.5670694038866009],[\"colsample_bytree\",0.5141674704440817],[\"min_child_weight\",3]]],[[[\"scaling_method\",\"standard\"],[\"encoding_method\",\"onehot\"],[\"drop\",null],[\"n_estimators\",934],[\"learning_rate\",0.057809154288921374],[\"max_depth\",4],[\"subsample\",0.6164474634132107],[\"colsample_bytree\",0.5350824400609016],[\"min_child_weight\",3]]],[[[\"scaling_method\",\"robust\"],[\"encoding_method\",\"onehot\"],[\"drop\",null],[\"n_estimators\",985],[\"learning_rate\",0.04120081484499707],[\"max_depth\",4],[\"subsample\",0.5959781823289715],[\"colsample_bytree\",0.5004098170724884],[\"min_child_weight\",1]]],[[[\"scaling_method\",\"standard\"],[\"encoding_method\",\"onehot\"],[\"drop\",\"first\"],[\"n_estimators\",831],[\"learning_rate\",0.028546753973955428],[\"max_depth\",4],[\"subsample\",0.5478557118902876],[\"colsample_bytree\",0.5213193737495136],[\"min_child_weight\",3]]],[[[\"scaling_method\",\"standard\"],[\"encoding_method\",\"onehot\"],[\"drop\",null],[\"n_estimators\",890],[\"learning_rate\",0.03608508471878297],[\"max_depth\",2],[\"subsample\",0.6460638693550014],[\"colsample_bytree\",0.8338823153923621],[\"min_child_weight\",2]]],[[[\"scaling_method\",\"minmax\"],[\"encoding_method\",\"onehot\"],[\"drop\",null],[\"n_estimators\",1000],[\"learning_rate\",0.06581468258053474],[\"max_depth\",4],[\"subsample\",0.5799782920550804],[\"colsample_bytree\",0.5501319741163797],[\"min_child_weight\",4]]],[[[\"scaling_method\",\"standard\"],[\"encoding_method\",\"onehot\"],[\"drop\",null],[\"n_estimators\",440],[\"learning_rate\",0.04789531364622056],[\"max_depth\",4],[\"subsample\",0.18505073059681573],[\"colsample_bytree\",0.6018931476472097],[\"min_child_weight\",3]]],[[[\"scaling_method\",\"standard\"],[\"encoding_method\",\"onehot\"],[\"drop\",null],[\"n_estimators\",955],[\"learning_rate\",0.045506252364043494],[\"max_depth\",4],[\"subsample\",0.5836271691164954],[\"colsample_bytree\",0.5389608744338323],[\"min_child_weight\",3]]],[[[\"scaling_method\",\"standard\"],[\"encoding_method\",\"onehot\"],[\"drop\",null],[\"n_estimators\",929],[\"learning_rate\",0.05535390050270173],[\"max_depth\",4],[\"subsample\",0.6112851434086759],[\"colsample_bytree\",0.5260878799394776],[\"min_child_weight\",3]]],[[[\"scaling_method\",\"standard\"],[\"encoding_method\",\"onehot\"],[\"drop\",null],[\"n_estimators\",951],[\"learning_rate\",0.04307704330028825],[\"max_depth\",4],[\"subsample\",0.5696307183664032],[\"colsample_bytree\",0.5380070898897199],[\"min_child_weight\",3]]],[[[\"scaling_method\",\"standard\"],[\"encoding_method\",\"onehot\"],[\"drop\",null],[\"n_estimators\",949],[\"learning_rate\",0.0439132574886877],[\"max_depth\",4],[\"subsample\",0.5580619856885473],[\"colsample_bytree\",0.5407765256179761],[\"min_child_weight\",3]]],[[[\"scaling_method\",\"standard\"],[\"encoding_method\",\"onehot\"],[\"drop\",null],[\"n_estimators\",949],[\"learning_rate\",0.034710448774173744],[\"max_depth\",4],[\"subsample\",0.5576506725752142],[\"colsample_bytree\",0.5627179547757286],[\"min_child_weight\",3]]],[[[\"scaling_method\",\"standard\"],[\"encoding_method\",\"onehot\"],[\"drop\",null],[\"n_estimators\",905],[\"learning_rate\",0.0496068223275355],[\"max_depth\",4],[\"subsample\",0.5335942293142769],[\"colsample_bytree\",0.5384760801291514],[\"min_child_weight\",3]]],[[[\"scaling_method\",\"standard\"],[\"encoding_method\",\"onehot\"],[\"drop\",null],[\"n_estimators\",930],[\"learning_rate\",0.04126438805914917],[\"max_depth\",4],[\"subsample\",0.5700927356730264],[\"colsample_bytree\",0.515825566773464],[\"min_child_weight\",3]]],[[[\"scaling_method\",\"standard\"],[\"encoding_method\",\"onehot\"],[\"drop\",null],[\"n_estimators\",961],[\"learning_rate\",0.03151702501214211],[\"max_depth\",4],[\"subsample\",0.5030156986779167],[\"colsample_bytree\",0.5762780454989618],[\"min_child_weight\",3]]],[[[\"scaling_method\",\"standard\"],[\"encoding_method\",\"onehot\"],[\"drop\",null],[\"n_estimators\",944],[\"learning_rate\",0.045301077531780344],[\"max_depth\",4],[\"subsample\",0.5918056218415126],[\"colsample_bytree\",0.5482131726886658],[\"min_child_weight\",3]]],[[[\"scaling_method\",\"standard\"],[\"encoding_method\",\"onehot\"],[\"drop\",null],[\"n_estimators\",911],[\"learning_rate\",0.026725828511096044],[\"max_depth\",4],[\"subsample\",0.5359489610458162],[\"colsample_bytree\",0.5582612046747151],[\"min_child_weight\",2]]],[[[\"scaling_method\",\"standard\"],[\"encoding_method\",\"onehot\"],[\"drop\",null],[\"n_estimators\",983],[\"learning_rate\",0.04400565797728592],[\"max_depth\",4],[\"subsample\",0.6260102887509521],[\"colsample_bytree\",0.5343969965638573],[\"min_child_weight\",3]]],[[[\"scaling_method\",\"standard\"],[\"encoding_method\",\"onehot\"],[\"drop\",null],[\"n_estimators\",967],[\"learning_rate\",0.037077274389072025],[\"max_depth\",4],[\"subsample\",0.6052407177992929],[\"colsample_bytree\",0.509636780573371],[\"min_child_weight\",3]]],[[[\"scaling_method\",\"standard\"],[\"encoding_method\",\"onehot\"],[\"drop\",null],[\"n_estimators\",972],[\"learning_rate\",0.03785139268096627],[\"max_depth\",4],[\"subsample\",0.5514162194142027],[\"colsample_bytree\",0.51356668429643],[\"min_child_weight\",3]]],[[[\"scaling_method\",\"standard\"],[\"encoding_method\",\"onehot\"],[\"drop\",null],[\"n_estimators\",406],[\"learning_rate\",0.049975014490525285],[\"max_depth\",4],[\"subsample\",0.5990366498963211],[\"colsample_bytree\",0.5009419970518468],[\"min_child_weight\",3]]],[[[\"scaling_method\",\"standard\"],[\"encoding_method\",\"onehot\"],[\"drop\",null],[\"n_estimators\",924],[\"learning_rate\",0.035069235371988375],[\"max_depth\",4],[\"subsample\",0.5758036000371204],[\"colsample_bytree\",0.5219895252676965],[\"min_child_weight\",3]]],[[[\"scaling_method\",\"robust\"],[\"encoding_method\",\"onehot\"],[\"drop\",null],[\"n_estimators\",883],[\"learning_rate\",0.040704173041273474],[\"max_depth\",4],[\"subsample\",0.1072551826751465],[\"colsample_bytree\",0.5092850508913596],[\"min_child_weight\",3]]],[[[\"scaling_method\",\"standard\"],[\"encoding_method\",\"onehot\"],[\"drop\",null],[\"n_estimators\",943],[\"learning_rate\",0.030978983929007147],[\"max_depth\",4],[\"subsample\",0.6491361010555452],[\"colsample_bytree\",0.5382372250421088],[\"min_child_weight\",3]]],[[[\"scaling_method\",\"standard\"],[\"encoding_method\",\"onehot\"],[\"drop\",null],[\"n_estimators\",1000],[\"learning_rate\",0.05410530358706685],[\"max_depth\",4],[\"subsample\",0.6818539925823711],[\"colsample_bytree\",0.5268780879578792],[\"min_child_weight\",3]]],[[[\"scaling_method\",\"standard\"],[\"encoding_method\",\"onehot\"],[\"drop\",\"first\"],[\"n_estimators\",963],[\"learning_rate\",0.03770850420931836],[\"max_depth\",4],[\"subsample\",0.5642476294584193],[\"colsample_bytree\",0.5453821949383174],[\"min_child_weight\",3]]],[[[\"scaling_method\",\"standard\"],[\"encoding_method\",\"onehot\"],[\"drop\",null],[\"n_estimators\",856],[\"learning_rate\",0.009119894679612897],[\"max_depth\",4],[\"subsample\",0.6227944601535899],[\"colsample_bytree\",0.9209177652530494],[\"min_child_weight\",3]]],[[[\"scaling_method\",\"standard\"],[\"encoding_method\",\"onehot\"],[\"drop\",null],[\"n_estimators\",981],[\"learning_rate\",0.04459304259245875],[\"max_depth\",4],[\"subsample\",0.6051842834282144],[\"colsample_bytree\",0.5268016593683302],[\"min_child_weight\",3]]],[[[\"scaling_method\",\"standard\"],[\"encoding_method\",\"onehot\"],[\"drop\",null],[\"n_estimators\",971],[\"learning_rate\",0.0458436225743243],[\"max_depth\",4],[\"subsample\",0.5898992546162253],[\"colsample_bytree\",0.5152225243663119],[\"min_child_weight\",3]]],[[[\"scaling_method\",\"standard\"],[\"encoding_method\",\"onehot\"],[\"drop\",null],[\"n_estimators\",977],[\"learning_rate\",0.04495112468576724],[\"max_depth\",4],[\"subsample\",0.5907613691787105],[\"colsample_bytree\",0.5100001765854234],[\"min_child_weight\",3]]],[[[\"scaling_method\",\"standard\"],[\"encoding_method\",\"onehot\"],[\"drop\",null],[\"n_estimators\",981],[\"learning_rate\",0.047198601971795234],[\"max_depth\",4],[\"subsample\",0.5955423388155735],[\"colsample_bytree\",0.5091959392090488],[\"min_child_weight\",3]]],[[[\"scaling_method\",\"standard\"],[\"encoding_method\",\"onehot\"],[\"drop\",null],[\"n_estimators\",978],[\"learning_rate\",0.04611315421181104],[\"max_depth\",4],[\"subsample\",0.6032259102409443],[\"colsample_bytree\",0.5097594989102657],[\"min_child_weight\",3]]],[[[\"scaling_method\",\"standard\"],[\"encoding_method\",\"onehot\"],[\"drop\",null],[\"n_estimators\",984],[\"learning_rate\",0.04862339627131869],[\"max_depth\",4],[\"subsample\",0.603565982379564],[\"colsample_bytree\",0.5086636508613157],[\"min_child_weight\",3]]],[[[\"scaling_method\",\"standard\"],[\"encoding_method\",\"onehot\"],[\"drop\",null],[\"n_estimators\",971],[\"learning_rate\",0.04017837085236566],[\"max_depth\",4],[\"subsample\",0.6402447227112047],[\"colsample_bytree\",0.5161833307186661],[\"min_child_weight\",3]]],[[[\"scaling_method\",\"standard\"],[\"encoding_method\",\"onehot\"],[\"drop\",null],[\"n_estimators\",962],[\"learning_rate\",0.01288321650876376],[\"max_depth\",4],[\"subsample\",0.6648151784081523],[\"colsample_bytree\",0.5193159596676827],[\"min_child_weight\",3]]],[[[\"scaling_method\",\"standard\"],[\"encoding_method\",\"onehot\"],[\"drop\",null],[\"n_estimators\",931],[\"learning_rate\",0.039906270062291686],[\"max_depth\",4],[\"subsample\",0.6928266282801502],[\"colsample_bytree\",0.5181751579651122],[\"min_child_weight\",3]]],[[[\"scaling_method\",\"standard\"],[\"encoding_method\",\"onehot\"],[\"drop\",null],[\"n_estimators\",974],[\"learning_rate\",0.04740516101352134],[\"max_depth\",4],[\"subsample\",0.5914713646169084],[\"colsample_bytree\",0.5103526150143552],[\"min_child_weight\",3]]],[[[\"scaling_method\",\"standard\"],[\"encoding_method\",\"onehot\"],[\"drop\",null],[\"n_estimators\",962],[\"learning_rate\",0.03735502849090528],[\"max_depth\",4],[\"subsample\",0.6159834329584103],[\"colsample_bytree\",0.5259732962153176],[\"min_child_weight\",3]]],[[[\"scaling_method\",\"standard\"],[\"encoding_method\",\"onehot\"],[\"drop\",null],[\"n_estimators\",961],[\"learning_rate\",0.03672746407988903],[\"max_depth\",4],[\"subsample\",0.621425353495312],[\"colsample_bytree\",0.5268148242093128],[\"min_child_weight\",3]]],[[[\"scaling_method\",\"standard\"],[\"encoding_method\",\"onehot\"],[\"drop\",null],[\"n_estimators\",961],[\"learning_rate\",0.037764759002766095],[\"max_depth\",4],[\"subsample\",0.6092832617492581],[\"colsample_bytree\",0.5308722566127732],[\"min_child_weight\",3]]],[[[\"scaling_method\",\"standard\"],[\"encoding_method\",\"onehot\"],[\"drop\",null],[\"n_estimators\",978],[\"learning_rate\",0.04726097548295648],[\"max_depth\",4],[\"subsample\",0.6338630430322009],[\"colsample_bytree\",0.524186523710005],[\"min_child_weight\",3]]],[[[\"scaling_method\",\"standard\"],[\"encoding_method\",\"onehot\"],[\"drop\",null],[\"n_estimators\",951],[\"learning_rate\",0.033308437136100585],[\"max_depth\",4],[\"subsample\",0.5873685836929177],[\"colsample_bytree\",0.5169253074523895],[\"min_child_weight\",3]]],[[[\"scaling_method\",\"standard\"],[\"encoding_method\",\"onehot\"],[\"drop\",null],[\"n_estimators\",988],[\"learning_rate\",0.04029030540264549],[\"max_depth\",4],[\"subsample\",0.6074731393195164],[\"colsample_bytree\",0.5306569220302777],[\"min_child_weight\",3]]],[[[\"scaling_method\",\"robust\"],[\"encoding_method\",\"onehot\"],[\"drop\",null],[\"n_estimators\",966],[\"learning_rate\",0.058355452888028805],[\"max_depth\",4],[\"subsample\",0.6471051729120239],[\"colsample_bytree\",0.5002909898942509],[\"min_child_weight\",3]]],[[[\"scaling_method\",\"maxabs\"],[\"encoding_method\",\"onehot\"],[\"drop\",null],[\"n_estimators\",1000],[\"learning_rate\",0.02907925395885243],[\"max_depth\",4],[\"subsample\",0.5800596968749477],[\"colsample_bytree\",0.5203994673767285],[\"min_child_weight\",3]]],[[[\"scaling_method\",\"standard\"],[\"encoding_method\",\"onehot\"],[\"drop\",null],[\"n_estimators\",926],[\"learning_rate\",0.050464990038841154],[\"max_depth\",4],[\"subsample\",0.6213102469569971],[\"colsample_bytree\",0.540658074042023],[\"min_child_weight\",3]]],[[[\"scaling_method\",\"standard\"],[\"encoding_method\",\"onehot\"],[\"drop\",null],[\"n_estimators\",925],[\"learning_rate\",0.05132846916320994],[\"max_depth\",4],[\"subsample\",0.617597319740554],[\"colsample_bytree\",0.5421958684590944],[\"min_child_weight\",3]]],[[[\"scaling_method\",\"standard\"],[\"encoding_method\",\"onehot\"],[\"drop\",null],[\"n_estimators\",951],[\"learning_rate\",0.047285563304888735],[\"max_depth\",4],[\"subsample\",0.6553672501117976],[\"colsample_bytree\",0.5302068992040255],[\"min_child_weight\",3]]],[[[\"scaling_method\",\"standard\"],[\"encoding_method\",\"onehot\"],[\"drop\",null],[\"n_estimators\",946],[\"learning_rate\",0.0010161698445479781],[\"max_depth\",4],[\"subsample\",0.6557888522390117],[\"colsample_bytree\",0.5362084592071534],[\"min_child_weight\",3]]],[[[\"scaling_method\",\"standard\"],[\"encoding_method\",\"onehot\"],[\"drop\",null],[\"n_estimators\",970],[\"learning_rate\",0.04763207164745781],[\"max_depth\",4],[\"subsample\",0.6266472810324313],[\"colsample_bytree\",0.551815237255311],[\"min_child_weight\",3]]],[[[\"scaling_method\",\"standard\"],[\"encoding_method\",\"onehot\"],[\"drop\",null],[\"n_estimators\",976],[\"learning_rate\",0.04667104346155532],[\"max_depth\",4],[\"subsample\",0.6370173127506598],[\"colsample_bytree\",0.5532281916053389],[\"min_child_weight\",3]]],[[[\"scaling_method\",\"standard\"],[\"encoding_method\",\"onehot\"],[\"drop\",null],[\"n_estimators\",932],[\"learning_rate\",0.0577118886316037],[\"max_depth\",4],[\"subsample\",0.5988882670413673],[\"colsample_bytree\",0.5110460150602332],[\"min_child_weight\",3]]],[[[\"scaling_method\",\"standard\"],[\"encoding_method\",\"onehot\"],[\"drop\",null],[\"n_estimators\",129],[\"learning_rate\",0.06037108931307424],[\"max_depth\",4],[\"subsample\",0.5997489805023045],[\"colsample_bytree\",0.5066347349827721],[\"min_child_weight\",3]]],[[[\"scaling_method\",\"standard\"],[\"encoding_method\",\"onehot\"],[\"drop\",null],[\"n_estimators\",936],[\"learning_rate\",0.054578206390985956],[\"max_depth\",4],[\"subsample\",0.6260204068072007],[\"colsample_bytree\",0.5129705564792642],[\"min_child_weight\",3]]],[[[\"scaling_method\",\"standard\"],[\"encoding_method\",\"onehot\"],[\"drop\",null],[\"n_estimators\",914],[\"learning_rate\",0.04928702988227735],[\"max_depth\",4],[\"subsample\",0.6579084964261985],[\"colsample_bytree\",0.5320945982092451],[\"min_child_weight\",3]]],[[[\"scaling_method\",\"standard\"],[\"encoding_method\",\"onehot\"],[\"drop\",\"first\"],[\"n_estimators\",957],[\"learning_rate\",0.05546334995290439],[\"max_depth\",4],[\"subsample\",0.6013591215047353],[\"colsample_bytree\",0.5500115244935909],[\"min_child_weight\",3]]],[[[\"scaling_method\",\"standard\"],[\"encoding_method\",\"onehot\"],[\"drop\",null],[\"n_estimators\",982],[\"learning_rate\",0.042994378010402366],[\"max_depth\",4],[\"subsample\",0.568554119025959],[\"colsample_bytree\",0.5136219028880783],[\"min_child_weight\",3]]],[[[\"scaling_method\",\"standard\"],[\"encoding_method\",\"onehot\"],[\"drop\",null],[\"n_estimators\",986],[\"learning_rate\",0.04294686514545338],[\"max_depth\",4],[\"subsample\",0.5770486581805832],[\"colsample_bytree\",0.5131389330429184],[\"min_child_weight\",3]]],[[[\"scaling_method\",\"standard\"],[\"encoding_method\",\"onehot\"],[\"drop\",null],[\"n_estimators\",982],[\"learning_rate\",0.04351941663363886],[\"max_depth\",4],[\"subsample\",0.5704826962027357],[\"colsample_bytree\",0.5159436685967369],[\"min_child_weight\",3]]],[[[\"scaling_method\",\"standard\"],[\"encoding_method\",\"onehot\"],[\"drop\",null],[\"n_estimators\",1000],[\"learning_rate\",0.05105211569685406],[\"max_depth\",4],[\"subsample\",0.5477917671337521],[\"colsample_bytree\",0.5092360612084812],[\"min_child_weight\",3]]],[[[\"scaling_method\",\"standard\"],[\"encoding_method\",\"onehot\"],[\"drop\",null],[\"n_estimators\",972],[\"learning_rate\",0.04236592812186963],[\"max_depth\",4],[\"subsample\",0.5780933387301103],[\"colsample_bytree\",0.5174771998787522],[\"min_child_weight\",3]]],[[[\"scaling_method\",\"standard\"],[\"encoding_method\",\"onehot\"],[\"drop\",null],[\"n_estimators\",932],[\"learning_rate\",0.06312099831608087],[\"max_depth\",4],[\"subsample\",0.5286047829690999],[\"colsample_bytree\",0.5012253153026291],[\"min_child_weight\",3]]],[[[\"scaling_method\",\"standard\"],[\"encoding_method\",\"onehot\"],[\"drop\",null],[\"n_estimators\",982],[\"learning_rate\",0.04603695044238688],[\"max_depth\",4],[\"subsample\",0.5519116363809147],[\"colsample_bytree\",0.5410392506165588],[\"min_child_weight\",3]]],[[[\"scaling_method\",\"standard\"],[\"encoding_method\",\"onehot\"],[\"drop\",null],[\"n_estimators\",963],[\"learning_rate\",0.04157288688427919],[\"max_depth\",4],[\"subsample\",0.5919869259434356],[\"colsample_bytree\",0.5255479384125276],[\"min_child_weight\",3]]],[[[\"scaling_method\",\"standard\"],[\"encoding_method\",\"onehot\"],[\"drop\",null],[\"n_estimators\",983],[\"learning_rate\",0.00404750224597804],[\"max_depth\",4],[\"subsample\",0.6152054204439683],[\"colsample_bytree\",0.5675369221434724],[\"min_child_weight\",3]]],[[[\"scaling_method\",\"standard\"],[\"encoding_method\",\"onehot\"],[\"drop\",null],[\"n_estimators\",966],[\"learning_rate\",0.042447133562614855],[\"max_depth\",4],[\"subsample\",0.582649716304958],[\"colsample_bytree\",0.5204587536963042],[\"min_child_weight\",3]]],[[[\"scaling_method\",\"standard\"],[\"encoding_method\",\"onehot\"],[\"drop\",null],[\"n_estimators\",969],[\"learning_rate\",0.05049705154709047],[\"max_depth\",4],[\"subsample\",0.5885326462559809],[\"colsample_bytree\",0.518315648912634],[\"min_child_weight\",3]]],[[[\"scaling_method\",\"standard\"],[\"encoding_method\",\"onehot\"],[\"drop\",null],[\"n_estimators\",951],[\"learning_rate\",0.036684646846182195],[\"max_depth\",4],[\"subsample\",0.6038933598072567],[\"colsample_bytree\",0.5361826080001425],[\"min_child_weight\",3]]],[[[\"scaling_method\",\"standard\"],[\"encoding_method\",\"onehot\"],[\"drop\",null],[\"n_estimators\",922],[\"learning_rate\",0.04539603923921631],[\"max_depth\",4],[\"subsample\",0.5627473610003206],[\"colsample_bytree\",0.5250859268194425],[\"min_child_weight\",3]]],[[[\"scaling_method\",\"standard\"],[\"encoding_method\",\"onehot\"],[\"drop\",null],[\"n_estimators\",999],[\"learning_rate\",0.04103753028775281],[\"max_depth\",4],[\"subsample\",0.6340526894822631],[\"colsample_bytree\",0.5086760751778497],[\"min_child_weight\",3]]],[[[\"scaling_method\",\"standard\"],[\"encoding_method\",\"onehot\"],[\"drop\",null],[\"n_estimators\",968],[\"learning_rate\",0.046632743516695774],[\"max_depth\",4],[\"subsample\",0.548455912889384],[\"colsample_bytree\",0.539927241298281],[\"min_child_weight\",3]]],[[[\"scaling_method\",\"standard\"],[\"encoding_method\",\"onehot\"],[\"drop\",null],[\"n_estimators\",939],[\"learning_rate\",0.05281833919000285],[\"max_depth\",4],[\"subsample\",0.5741618723641739],[\"colsample_bytree\",0.500552153035808],[\"min_child_weight\",3]]],[[[\"scaling_method\",\"standard\"],[\"encoding_method\",\"onehot\"],[\"drop\",null],[\"n_estimators\",985],[\"learning_rate\",0.03548961949523133],[\"max_depth\",4],[\"subsample\",0.5985187175740057],[\"colsample_bytree\",0.5154464947158525],[\"min_child_weight\",3]]],[[[\"scaling_method\",\"standard\"],[\"encoding_method\",\"onehot\"],[\"drop\",null],[\"n_estimators\",903],[\"learning_rate\",0.039354403596329995],[\"max_depth\",4],[\"subsample\",0.6250221191525293],[\"colsample_bytree\",0.5290022910090753],[\"min_child_weight\",3]]]],\"hovertemplate\":\"encoding=onehot<br>Optuna Trial=%{x}<br>Score (R-Squared)=%{y}<br>Parameters=%{customdata[0]}<extra></extra>\",\"legendgroup\":\"onehot\",\"marker\":{\"color\":\"#636efa\",\"symbol\":\"circle\"},\"mode\":\"markers\",\"name\":\"onehot\",\"orientation\":\"v\",\"showlegend\":true,\"x\":[0,1,2,4,6,7,8,9,11,12,13,15,16,17,19,20,21,22,23,24,25,27,28,29,30,31,32,33,34,35,36,38,39,40,41,42,43,44,46,47,48,50,51,52,53,54,55,56,57,58,59,61,62,63,64,65,66,67,68,69,70,71,72,73,74,75,76,77,79,80,81,82,83,84,85,86,87,88,89,90,91,92,93,94,95,97,98,99,100,101,102,103,104,105,106,107,108,109,111,112,113,114,115,116,117,118,119,120,121,122,123,124,125,126,127,128,129,131,132,133,134,135,136,137,138,139,140,141,142,143,144,145,146,147,148,149,150,151,152,153,154,155,156,157,158,160,161,162,163,164,165,166,167,168,169,170,171,172,173,174,175,176,177,178,179,180,181,182,183,184,185,186,187,188,190,191,192,193,194,195,196,197,198,199],\"xaxis\":\"x\",\"y\":[0.9346673308494285,-6.163065884450648,0.9464895800232536,0.9492455492323583,0.8992988505058326,-6.465772003430091,0.9335308434162177,0.597946708060561,0.9344976100219812,0.9521593794302905,0.9499376286957801,0.9511581767669357,0.7616574597033517,0.948850999192493,0.9273022260161866,0.9435650210641202,0.9504621518977989,0.9510568957801897,0.9481417012104485,0.9503259968181995,0.9298429688274282,0.9509643269780625,0.9456583736660824,0.949164104945081,0.8579720996612158,0.9507158059346441,0.9513675122055648,0.9504145053925028,0.9493244113594249,0.9438615636934851,0.9493840092164116,0.9492645826020323,0.9506443548661073,0.9423336321591645,0.9523201665569404,0.9484596664965673,0.9512485077328835,0.9502880824358447,0.9505438508901667,0.950813334055247,-3.209957906049195,0.945247274550195,0.9504674135390868,0.9528428538331914,0.9506657389116111,0.9507349545181786,0.9480630154294689,0.9514324509770251,0.9499933007662218,0.9482663861797954,0.9369169971296253,0.9517257046545786,0.9524204153970215,0.950095679462763,0.951190265804146,0.9503587055162651,0.9403792472664836,0.9468569574359286,0.8610529388473129,-4.278398176178222,0.9471476859818337,0.9517509929140399,0.9512589904955691,0.9469825246668071,0.9520000461085305,0.9525578006548934,0.9538790152827454,0.9522296516135512,0.9521049289472018,0.9492706040710388,0.9533406864112195,0.9527254909485237,0.9511753471264075,0.9524149363812727,0.953406773984967,0.951981762864049,0.9517157463678512,0.9480683709571046,0.9527217989308827,0.9519198319525154,0.9497614655586958,0.9497257593769393,0.9515065332207426,0.9525601540304397,0.9491606977006151,0.9522242579555819,0.9490569654334249,0.949520519219277,0.9488440714818023,0.953241342793145,0.9496072964347889,0.9509511455298275,0.9384514865950304,0.9503367619605143,0.9520792695402929,0.9514791107499494,0.9516612653928425,0.9519713537284087,0.9478587720857117,0.9508368338205059,0.9517183275116137,0.9503702169966163,0.9521843707820568,0.9513886247513478,0.9479986228471974,0.9486408475179624,0.9527741456666521,0.9516734162647875,0.9520272425511326,0.9514141067693501,0.9519520521865769,0.950756422551094,0.9518487318836065,0.9494522171148382,0.9466321932974135,0.9507403910103487,0.9469662704811445,0.9530072047497427,0.9485706201361347,0.9533482577286951,0.9524929823359752,0.9517658219632759,0.951561818184073,0.9516993912429147,0.9509313265993895,0.9514623040757304,0.9515829560380045,0.9515024391257885,0.9534219346184727,0.950321709788517,0.9500562314872095,0.9520584115448741,0.9441858297836253,0.9496497453570211,0.9507708219771445,0.9513875231257064,0.9349534341987669,0.9529632719090249,0.9532484491803513,0.9527158121085539,0.9538488187701925,0.9535769799171394,0.9523113031007157,0.9530984506971872,0.9440032990477017,0.9517190306038683,0.9536268123776379,0.9528089500607819,0.9531857931584475,0.9522857029534876,0.9520235848930788,0.9527121535528231,0.9518098240493421,0.9500484375708965,0.9512543793443013,0.9530530808376063,0.9523652821472895,0.952932079265888,-6.510038673051624,0.9529705002309854,0.9514193309278385,0.953093497730627,0.9314723185904942,0.9517140428236559,0.9499153450379646,0.9510154701383199,0.9534031779009204,0.9531844439975818,0.9526142787775583,0.9520193988073051,0.952959454834145,0.9486760366327078,0.9512328212670234,0.9528537144341579,0.5102498118959238,0.9529720494463045,0.9523646890257582,0.9521055080279497,0.9514952679042364,0.9527065468246464,0.9516966489454932,0.951566593903079,0.9518898548652797,0.9516026708929515],\"yaxis\":\"y\",\"type\":\"scatter\"},{\"customdata\":[[[[\"scaling_method\",\"robust\"],[\"encoding_method\",\"ordinal\"],[\"n_estimators\",596],[\"learning_rate\",0.0019054757708370338],[\"max_depth\",2],[\"subsample\",0.5207419435989612],[\"colsample_bytree\",0.9366398860913907],[\"min_child_weight\",3]]],[[[\"scaling_method\",\"minmax\"],[\"encoding_method\",\"ordinal\"],[\"n_estimators\",440],[\"learning_rate\",0.023198013756713296],[\"max_depth\",4],[\"subsample\",0.7212576579631054],[\"colsample_bytree\",0.9438912615381984],[\"min_child_weight\",2]]],[[[\"scaling_method\",\"maxabs\"],[\"encoding_method\",\"ordinal\"],[\"n_estimators\",768],[\"learning_rate\",0.08611588402856334],[\"max_depth\",3],[\"subsample\",0.15696372388351376],[\"colsample_bytree\",0.5113140129996083],[\"min_child_weight\",4]]],[[[\"scaling_method\",\"standard\"],[\"encoding_method\",\"ordinal\"],[\"n_estimators\",677],[\"learning_rate\",0.010491864708705173],[\"max_depth\",4],[\"subsample\",0.6213820095830929],[\"colsample_bytree\",0.7574052781594777],[\"min_child_weight\",3]]],[[[\"scaling_method\",\"standard\"],[\"encoding_method\",\"ordinal\"],[\"n_estimators\",648],[\"learning_rate\",0.0010067238462570039],[\"max_depth\",3],[\"subsample\",0.5955648102937842],[\"colsample_bytree\",0.8173571053889588],[\"min_child_weight\",3]]],[[[\"scaling_method\",\"standard\"],[\"encoding_method\",\"ordinal\"],[\"n_estimators\",626],[\"learning_rate\",0.03665728590234853],[\"max_depth\",4],[\"subsample\",0.771183165613654],[\"colsample_bytree\",0.8276244300152987],[\"min_child_weight\",3]]],[[[\"scaling_method\",\"standard\"],[\"encoding_method\",\"ordinal\"],[\"n_estimators\",929],[\"learning_rate\",0.03682927451702668],[\"max_depth\",2],[\"subsample\",0.473768038186032],[\"colsample_bytree\",0.7390424049423115],[\"min_child_weight\",5]]],[[[\"scaling_method\",\"minmax\"],[\"encoding_method\",\"ordinal\"],[\"n_estimators\",772],[\"learning_rate\",0.058529325668706375],[\"max_depth\",3],[\"subsample\",0.3791936453699334],[\"colsample_bytree\",0.5894733099192515],[\"min_child_weight\",3]]],[[[\"scaling_method\",\"robust\"],[\"encoding_method\",\"ordinal\"],[\"n_estimators\",997],[\"learning_rate\",0.08240721365996945],[\"max_depth\",2],[\"subsample\",0.520403778295357],[\"colsample_bytree\",0.6051782982108307],[\"min_child_weight\",5]]],[[[\"scaling_method\",\"maxabs\"],[\"encoding_method\",\"ordinal\"],[\"n_estimators\",898],[\"learning_rate\",0.001561454677509108],[\"max_depth\",4],[\"subsample\",0.48430319009830197],[\"colsample_bytree\",0.6513700186269376],[\"min_child_weight\",4]]],[[[\"scaling_method\",\"standard\"],[\"encoding_method\",\"ordinal\"],[\"n_estimators\",961],[\"learning_rate\",0.04731121763807573],[\"max_depth\",4],[\"subsample\",0.5901360160463529],[\"colsample_bytree\",0.5207941443611376],[\"min_child_weight\",3]]],[[[\"scaling_method\",\"standard\"],[\"encoding_method\",\"ordinal\"],[\"n_estimators\",917],[\"learning_rate\",0.044081018318051106],[\"max_depth\",4],[\"subsample\",0.6114930290253439],[\"colsample_bytree\",0.5330333973787846],[\"min_child_weight\",2]]],[[[\"scaling_method\",\"standard\"],[\"encoding_method\",\"ordinal\"],[\"n_estimators\",879],[\"learning_rate\",0.051923551380736885],[\"max_depth\",4],[\"subsample\",0.7980548580559587],[\"colsample_bytree\",0.544603151881658],[\"min_child_weight\",3]]],[[[\"scaling_method\",\"standard\"],[\"encoding_method\",\"ordinal\"],[\"n_estimators\",965],[\"learning_rate\",0.038688798712991024],[\"max_depth\",4],[\"subsample\",0.5189530127140396],[\"colsample_bytree\",0.9798633239143697],[\"min_child_weight\",4]]],[[[\"scaling_method\",\"minmax\"],[\"encoding_method\",\"ordinal\"],[\"n_estimators\",999],[\"learning_rate\",0.03379167404799594],[\"max_depth\",4],[\"subsample\",0.6370986110616893],[\"colsample_bytree\",0.5000280260413144],[\"min_child_weight\",3]]],[[[\"scaling_method\",\"standard\"],[\"encoding_method\",\"ordinal\"],[\"n_estimators\",942],[\"learning_rate\",0.05635057521642982],[\"max_depth\",4],[\"subsample\",0.5721103601572344],[\"colsample_bytree\",0.5114848993877089],[\"min_child_weight\",3]]]],\"hovertemplate\":\"encoding=ordinal<br>Optuna Trial=%{x}<br>Score (R-Squared)=%{y}<br>Parameters=%{customdata[0]}<extra></extra>\",\"legendgroup\":\"ordinal\",\"marker\":{\"color\":\"#EF553B\",\"symbol\":\"circle\"},\"mode\":\"markers\",\"name\":\"ordinal\",\"orientation\":\"v\",\"showlegend\":true,\"x\":[3,5,10,14,18,26,37,45,49,60,78,96,110,130,159,189],\"xaxis\":\"x\",\"y\":[-6.3472926831956045,0.9395938577872155,0.9401550991180765,0.9292365942483789,-6.637612719405072,0.9452726188733658,0.9456177946917816,0.9497838626141958,0.9482556447518817,-5.910941484540518,0.9493384216313343,0.9501892664265809,0.949191726377468,0.9500038005758851,0.9498207934424855,0.9490983715393773],\"yaxis\":\"y\",\"type\":\"scatter\"}],                        {\"template\":{\"data\":{\"histogram2dcontour\":[{\"type\":\"histogram2dcontour\",\"colorbar\":{\"outlinewidth\":0,\"ticks\":\"\"},\"colorscale\":[[0.0,\"#0d0887\"],[0.1111111111111111,\"#46039f\"],[0.2222222222222222,\"#7201a8\"],[0.3333333333333333,\"#9c179e\"],[0.4444444444444444,\"#bd3786\"],[0.5555555555555556,\"#d8576b\"],[0.6666666666666666,\"#ed7953\"],[0.7777777777777778,\"#fb9f3a\"],[0.8888888888888888,\"#fdca26\"],[1.0,\"#f0f921\"]]}],\"choropleth\":[{\"type\":\"choropleth\",\"colorbar\":{\"outlinewidth\":0,\"ticks\":\"\"}}],\"histogram2d\":[{\"type\":\"histogram2d\",\"colorbar\":{\"outlinewidth\":0,\"ticks\":\"\"},\"colorscale\":[[0.0,\"#0d0887\"],[0.1111111111111111,\"#46039f\"],[0.2222222222222222,\"#7201a8\"],[0.3333333333333333,\"#9c179e\"],[0.4444444444444444,\"#bd3786\"],[0.5555555555555556,\"#d8576b\"],[0.6666666666666666,\"#ed7953\"],[0.7777777777777778,\"#fb9f3a\"],[0.8888888888888888,\"#fdca26\"],[1.0,\"#f0f921\"]]}],\"heatmap\":[{\"type\":\"heatmap\",\"colorbar\":{\"outlinewidth\":0,\"ticks\":\"\"},\"colorscale\":[[0.0,\"#0d0887\"],[0.1111111111111111,\"#46039f\"],[0.2222222222222222,\"#7201a8\"],[0.3333333333333333,\"#9c179e\"],[0.4444444444444444,\"#bd3786\"],[0.5555555555555556,\"#d8576b\"],[0.6666666666666666,\"#ed7953\"],[0.7777777777777778,\"#fb9f3a\"],[0.8888888888888888,\"#fdca26\"],[1.0,\"#f0f921\"]]}],\"heatmapgl\":[{\"type\":\"heatmapgl\",\"colorbar\":{\"outlinewidth\":0,\"ticks\":\"\"},\"colorscale\":[[0.0,\"#0d0887\"],[0.1111111111111111,\"#46039f\"],[0.2222222222222222,\"#7201a8\"],[0.3333333333333333,\"#9c179e\"],[0.4444444444444444,\"#bd3786\"],[0.5555555555555556,\"#d8576b\"],[0.6666666666666666,\"#ed7953\"],[0.7777777777777778,\"#fb9f3a\"],[0.8888888888888888,\"#fdca26\"],[1.0,\"#f0f921\"]]}],\"contourcarpet\":[{\"type\":\"contourcarpet\",\"colorbar\":{\"outlinewidth\":0,\"ticks\":\"\"}}],\"contour\":[{\"type\":\"contour\",\"colorbar\":{\"outlinewidth\":0,\"ticks\":\"\"},\"colorscale\":[[0.0,\"#0d0887\"],[0.1111111111111111,\"#46039f\"],[0.2222222222222222,\"#7201a8\"],[0.3333333333333333,\"#9c179e\"],[0.4444444444444444,\"#bd3786\"],[0.5555555555555556,\"#d8576b\"],[0.6666666666666666,\"#ed7953\"],[0.7777777777777778,\"#fb9f3a\"],[0.8888888888888888,\"#fdca26\"],[1.0,\"#f0f921\"]]}],\"surface\":[{\"type\":\"surface\",\"colorbar\":{\"outlinewidth\":0,\"ticks\":\"\"},\"colorscale\":[[0.0,\"#0d0887\"],[0.1111111111111111,\"#46039f\"],[0.2222222222222222,\"#7201a8\"],[0.3333333333333333,\"#9c179e\"],[0.4444444444444444,\"#bd3786\"],[0.5555555555555556,\"#d8576b\"],[0.6666666666666666,\"#ed7953\"],[0.7777777777777778,\"#fb9f3a\"],[0.8888888888888888,\"#fdca26\"],[1.0,\"#f0f921\"]]}],\"mesh3d\":[{\"type\":\"mesh3d\",\"colorbar\":{\"outlinewidth\":0,\"ticks\":\"\"}}],\"scatter\":[{\"fillpattern\":{\"fillmode\":\"overlay\",\"size\":10,\"solidity\":0.2},\"type\":\"scatter\"}],\"parcoords\":[{\"type\":\"parcoords\",\"line\":{\"colorbar\":{\"outlinewidth\":0,\"ticks\":\"\"}}}],\"scatterpolargl\":[{\"type\":\"scatterpolargl\",\"marker\":{\"colorbar\":{\"outlinewidth\":0,\"ticks\":\"\"}}}],\"bar\":[{\"error_x\":{\"color\":\"#2a3f5f\"},\"error_y\":{\"color\":\"#2a3f5f\"},\"marker\":{\"line\":{\"color\":\"#E5ECF6\",\"width\":0.5},\"pattern\":{\"fillmode\":\"overlay\",\"size\":10,\"solidity\":0.2}},\"type\":\"bar\"}],\"scattergeo\":[{\"type\":\"scattergeo\",\"marker\":{\"colorbar\":{\"outlinewidth\":0,\"ticks\":\"\"}}}],\"scatterpolar\":[{\"type\":\"scatterpolar\",\"marker\":{\"colorbar\":{\"outlinewidth\":0,\"ticks\":\"\"}}}],\"histogram\":[{\"marker\":{\"pattern\":{\"fillmode\":\"overlay\",\"size\":10,\"solidity\":0.2}},\"type\":\"histogram\"}],\"scattergl\":[{\"type\":\"scattergl\",\"marker\":{\"colorbar\":{\"outlinewidth\":0,\"ticks\":\"\"}}}],\"scatter3d\":[{\"type\":\"scatter3d\",\"line\":{\"colorbar\":{\"outlinewidth\":0,\"ticks\":\"\"}},\"marker\":{\"colorbar\":{\"outlinewidth\":0,\"ticks\":\"\"}}}],\"scattermapbox\":[{\"type\":\"scattermapbox\",\"marker\":{\"colorbar\":{\"outlinewidth\":0,\"ticks\":\"\"}}}],\"scatterternary\":[{\"type\":\"scatterternary\",\"marker\":{\"colorbar\":{\"outlinewidth\":0,\"ticks\":\"\"}}}],\"scattercarpet\":[{\"type\":\"scattercarpet\",\"marker\":{\"colorbar\":{\"outlinewidth\":0,\"ticks\":\"\"}}}],\"carpet\":[{\"aaxis\":{\"endlinecolor\":\"#2a3f5f\",\"gridcolor\":\"white\",\"linecolor\":\"white\",\"minorgridcolor\":\"white\",\"startlinecolor\":\"#2a3f5f\"},\"baxis\":{\"endlinecolor\":\"#2a3f5f\",\"gridcolor\":\"white\",\"linecolor\":\"white\",\"minorgridcolor\":\"white\",\"startlinecolor\":\"#2a3f5f\"},\"type\":\"carpet\"}],\"table\":[{\"cells\":{\"fill\":{\"color\":\"#EBF0F8\"},\"line\":{\"color\":\"white\"}},\"header\":{\"fill\":{\"color\":\"#C8D4E3\"},\"line\":{\"color\":\"white\"}},\"type\":\"table\"}],\"barpolar\":[{\"marker\":{\"line\":{\"color\":\"#E5ECF6\",\"width\":0.5},\"pattern\":{\"fillmode\":\"overlay\",\"size\":10,\"solidity\":0.2}},\"type\":\"barpolar\"}],\"pie\":[{\"automargin\":true,\"type\":\"pie\"}]},\"layout\":{\"autotypenumbers\":\"strict\",\"colorway\":[\"#636efa\",\"#EF553B\",\"#00cc96\",\"#ab63fa\",\"#FFA15A\",\"#19d3f3\",\"#FF6692\",\"#B6E880\",\"#FF97FF\",\"#FECB52\"],\"font\":{\"color\":\"#2a3f5f\"},\"hovermode\":\"closest\",\"hoverlabel\":{\"align\":\"left\"},\"paper_bgcolor\":\"white\",\"plot_bgcolor\":\"#E5ECF6\",\"polar\":{\"bgcolor\":\"#E5ECF6\",\"angularaxis\":{\"gridcolor\":\"white\",\"linecolor\":\"white\",\"ticks\":\"\"},\"radialaxis\":{\"gridcolor\":\"white\",\"linecolor\":\"white\",\"ticks\":\"\"}},\"ternary\":{\"bgcolor\":\"#E5ECF6\",\"aaxis\":{\"gridcolor\":\"white\",\"linecolor\":\"white\",\"ticks\":\"\"},\"baxis\":{\"gridcolor\":\"white\",\"linecolor\":\"white\",\"ticks\":\"\"},\"caxis\":{\"gridcolor\":\"white\",\"linecolor\":\"white\",\"ticks\":\"\"}},\"coloraxis\":{\"colorbar\":{\"outlinewidth\":0,\"ticks\":\"\"}},\"colorscale\":{\"sequential\":[[0.0,\"#0d0887\"],[0.1111111111111111,\"#46039f\"],[0.2222222222222222,\"#7201a8\"],[0.3333333333333333,\"#9c179e\"],[0.4444444444444444,\"#bd3786\"],[0.5555555555555556,\"#d8576b\"],[0.6666666666666666,\"#ed7953\"],[0.7777777777777778,\"#fb9f3a\"],[0.8888888888888888,\"#fdca26\"],[1.0,\"#f0f921\"]],\"sequentialminus\":[[0.0,\"#0d0887\"],[0.1111111111111111,\"#46039f\"],[0.2222222222222222,\"#7201a8\"],[0.3333333333333333,\"#9c179e\"],[0.4444444444444444,\"#bd3786\"],[0.5555555555555556,\"#d8576b\"],[0.6666666666666666,\"#ed7953\"],[0.7777777777777778,\"#fb9f3a\"],[0.8888888888888888,\"#fdca26\"],[1.0,\"#f0f921\"]],\"diverging\":[[0,\"#8e0152\"],[0.1,\"#c51b7d\"],[0.2,\"#de77ae\"],[0.3,\"#f1b6da\"],[0.4,\"#fde0ef\"],[0.5,\"#f7f7f7\"],[0.6,\"#e6f5d0\"],[0.7,\"#b8e186\"],[0.8,\"#7fbc41\"],[0.9,\"#4d9221\"],[1,\"#276419\"]]},\"xaxis\":{\"gridcolor\":\"white\",\"linecolor\":\"white\",\"ticks\":\"\",\"title\":{\"standoff\":15},\"zerolinecolor\":\"white\",\"automargin\":true,\"zerolinewidth\":2},\"yaxis\":{\"gridcolor\":\"white\",\"linecolor\":\"white\",\"ticks\":\"\",\"title\":{\"standoff\":15},\"zerolinecolor\":\"white\",\"automargin\":true,\"zerolinewidth\":2},\"scene\":{\"xaxis\":{\"backgroundcolor\":\"#E5ECF6\",\"gridcolor\":\"white\",\"linecolor\":\"white\",\"showbackground\":true,\"ticks\":\"\",\"zerolinecolor\":\"white\",\"gridwidth\":2},\"yaxis\":{\"backgroundcolor\":\"#E5ECF6\",\"gridcolor\":\"white\",\"linecolor\":\"white\",\"showbackground\":true,\"ticks\":\"\",\"zerolinecolor\":\"white\",\"gridwidth\":2},\"zaxis\":{\"backgroundcolor\":\"#E5ECF6\",\"gridcolor\":\"white\",\"linecolor\":\"white\",\"showbackground\":true,\"ticks\":\"\",\"zerolinecolor\":\"white\",\"gridwidth\":2}},\"shapedefaults\":{\"line\":{\"color\":\"#2a3f5f\"}},\"annotationdefaults\":{\"arrowcolor\":\"#2a3f5f\",\"arrowhead\":0,\"arrowwidth\":1},\"geo\":{\"bgcolor\":\"white\",\"landcolor\":\"#E5ECF6\",\"subunitcolor\":\"white\",\"showland\":true,\"showlakes\":true,\"lakecolor\":\"white\"},\"title\":{\"x\":0.05},\"mapbox\":{\"style\":\"light\"}}},\"xaxis\":{\"anchor\":\"y\",\"domain\":[0.0,1.0],\"title\":{\"text\":\"Optuna Trial\"}},\"yaxis\":{\"anchor\":\"x\",\"domain\":[0.0,1.0],\"title\":{\"text\":\"Score (R-Squared)\"}},\"legend\":{\"title\":{\"text\":\"encoding\"},\"tracegroupgap\":0},\"title\":{\"text\":\"XGB tuned with Optuna after 200 trials  <br><sup> Best Score: 0.9539</sup>\"},\"hoverlabel\":{\"font\":{\"size\":8,\"family\":\"Rockwell\"},\"bgcolor\":\"white\"}},                        {\"responsive\": true}                    ).then(function(){\n",
       "                            \n",
       "var gd = document.getElementById('45117e0f-3ba9-424a-9293-4b810da14ba1');\n",
       "var x = new MutationObserver(function (mutations, observer) {{\n",
       "        var display = window.getComputedStyle(gd).display;\n",
       "        if (!display || display === 'none') {{\n",
       "            console.log([gd, 'removed!']);\n",
       "            Plotly.purge(gd);\n",
       "            observer.disconnect();\n",
       "        }}\n",
       "}});\n",
       "\n",
       "// Listen for the removal of the full notebook cells\n",
       "var notebookContainer = gd.closest('#notebook-container');\n",
       "if (notebookContainer) {{\n",
       "    x.observe(notebookContainer, {childList: true});\n",
       "}}\n",
       "\n",
       "// Listen for the clearing of the current output cell\n",
       "var outputEl = gd.closest('.output');\n",
       "if (outputEl) {{\n",
       "    x.observe(outputEl, {childList: true});\n",
       "}}\n",
       "\n",
       "                        })                };                });            </script>        </div>"
      ]
     },
     "metadata": {},
     "output_type": "display_data"
    }
   ],
   "source": [
    "fig = px.scatter(optuna_xgb,\n",
    "                 x=\"Trial\", \n",
    "                 y=\"Score\", \n",
    "                 color = 'encoding',\n",
    "                 hover_data=['Parameters'],\n",
    "                labels = {'Trial': 'Optuna Trial', 'Score': 'Score (R-Squared)'},\n",
    "                title = 'XGB tuned with Optuna after 200 trials  <br><sup> Best Score: 0.9539</sup>')\n",
    "\n",
    "fig.update_layout(\n",
    "    hoverlabel=dict(\n",
    "        bgcolor=\"white\",\n",
    "        font_size=8,\n",
    "        font_family=\"Rockwell\"\n",
    "    )\n",
    ")\n",
    "\n",
    "fig.show()"
   ]
  },
  {
   "cell_type": "markdown",
   "id": "13c9821b",
   "metadata": {},
   "source": [
    "# RF"
   ]
  },
  {
   "cell_type": "code",
   "execution_count": 37,
   "id": "47153b24",
   "metadata": {},
   "outputs": [],
   "source": [
    "def instantiate_rf(trial : Trial) -> RandomForestRegressor:\n",
    "    params = {\n",
    "    'bootstrap':trial.suggest_categorical('bootstrap', [True]),\n",
    "    'n_estimators': trial.suggest_int('n_estimators', 250, 500),\n",
    "    'max_depth': trial.suggest_int('max_depth', 50, 75),\n",
    "    'min_samples_split': trial.suggest_int('min_samples_split', 4, 6),\n",
    "    'min_samples_leaf': trial.suggest_int('min_samples_leaf', 1, 5)\n",
    "    }\n",
    "    \n",
    "    return RandomForestRegressor(**params)\n",
    "  \n",
    "def instantiate_model(trial : Trial, numerical_columns : list[str], \n",
    "                      categorical_columns : list[str]) -> Pipeline:\n",
    "    \n",
    "    processor = instantiate_processor_ordinal(\n",
    "        trial, numerical_columns, categorical_columns\n",
    "    )\n",
    "    \n",
    "    learner = instantiate_rf(trial)\n",
    "    \n",
    "    model_pipe = Pipeline([\n",
    "    ('processor', processor),\n",
    "    ('model', learner)\n",
    "    ])\n",
    "    \n",
    "    model = compose.TransformedTargetRegressor(regressor= model_pipe,\n",
    "                                                func=np.log, inverse_func=np.exp)\n",
    "    \n",
    "    return model\n",
    "\n",
    "def objective_rf(trial : Trial, X : DataFrame,\n",
    "              y : np.ndarray | Series, \n",
    "              numerical_columns : Optional[list[str]]=None, \n",
    "              categorical_columns : Optional[list[str]]=None, \n",
    "              random_state : int=42) -> float:\n",
    "    \n",
    "    if numerical_columns is None:\n",
    "        numerical_columns = [\n",
    "            *X.select_dtypes(exclude=['object', 'category']).columns\n",
    "        ]\n",
    "    \n",
    "    if categorical_columns is None:\n",
    "        categorical_columns = [\n",
    "            *X.select_dtypes(include=['object', 'category']).columns\n",
    "        ]\n",
    "    \n",
    "    model = instantiate_model(trial, numerical_columns, categorical_columns)\n",
    "    kf = KFold(n_splits=5, shuffle=True, random_state=random_state)\n",
    "    r2 = make_scorer(r2_score)\n",
    "    scores = cross_val_score(model, X, y, scoring= r2, cv=kf)\n",
    "    \n",
    "    return np.min([np.mean(scores), np.median([scores])])"
   ]
  },
  {
   "cell_type": "code",
   "execution_count": 38,
   "id": "ea24f892",
   "metadata": {},
   "outputs": [
    {
     "name": "stderr",
     "output_type": "stream",
     "text": [
      "[I 2024-07-11 09:43:39,468] A new study created in memory with name: optimization\n",
      "[I 2024-07-11 09:44:37,413] Trial 0 finished with value: 0.9083545094739573 and parameters: {'scaling_method': 'maxabs', 'bootstrap': True, 'n_estimators': 253, 'max_depth': 60, 'min_samples_split': 5, 'min_samples_leaf': 1}. Best is trial 0 with value: 0.9083545094739573.\n",
      "[I 2024-07-11 09:45:24,724] Trial 1 finished with value: 0.8999706968816368 and parameters: {'scaling_method': 'maxabs', 'bootstrap': True, 'n_estimators': 328, 'max_depth': 68, 'min_samples_split': 6, 'min_samples_leaf': 5}. Best is trial 0 with value: 0.9083545094739573.\n",
      "[I 2024-07-11 09:46:51,911] Trial 2 finished with value: 0.9081071301156255 and parameters: {'scaling_method': 'minmax', 'bootstrap': True, 'n_estimators': 427, 'max_depth': 73, 'min_samples_split': 5, 'min_samples_leaf': 2}. Best is trial 0 with value: 0.9083545094739573.\n",
      "[I 2024-07-11 09:48:22,636] Trial 3 finished with value: 0.9093564157184439 and parameters: {'scaling_method': 'robust', 'bootstrap': True, 'n_estimators': 381, 'max_depth': 53, 'min_samples_split': 4, 'min_samples_leaf': 1}. Best is trial 3 with value: 0.9093564157184439.\n",
      "[I 2024-07-11 09:50:19,973] Trial 4 finished with value: 0.9094102521730991 and parameters: {'scaling_method': 'maxabs', 'bootstrap': True, 'n_estimators': 494, 'max_depth': 62, 'min_samples_split': 4, 'min_samples_leaf': 1}. Best is trial 4 with value: 0.9094102521730991.\n"
     ]
    }
   ],
   "source": [
    "from optuna import create_study\n",
    "\n",
    "study_rf = create_study(study_name='optimization', direction='maximize')\n",
    "\n",
    "#study_rf.optimize(lambda trial: objective_rf(trial, X, y), n_trials=5)"
   ]
  },
  {
   "cell_type": "code",
   "execution_count": 51,
   "id": "e40cd543",
   "metadata": {},
   "outputs": [
    {
     "name": "stdout",
     "output_type": "stream",
     "text": [
      "0.9106961840498735\n",
      "{'scaling_method': 'robust', 'encoding_method': 'ordinal', 'bootstrap': True, 'n_estimators': 338, 'max_depth': 73, 'min_sample_split': 4, 'min_sample_leaf': 2}\n"
     ]
    }
   ],
   "source": [
    "print(study_rf.best_value)\n",
    "print(study_rf.best_params)"
   ]
  },
  {
   "cell_type": "markdown",
   "id": "7bda6146",
   "metadata": {},
   "source": [
    "# gbr"
   ]
  },
  {
   "cell_type": "code",
   "execution_count": 31,
   "id": "78d09f77",
   "metadata": {},
   "outputs": [],
   "source": [
    "def instantiate_gbr(trial : Trial) -> GradientBoostingRegressor:\n",
    "    params = {\n",
    "    'n_estimators': trial.suggest_int('n_estimators', 500, 1000),\n",
    "    'learning_rate': trial.suggest_float('learning_rate', 1e-4, 1, log=True),\n",
    "    'max_depth': trial.suggest_int ('max_depth', 2, 6),\n",
    "    \"subsample\": trial.suggest_float(\"subsample\", 0.5, 1.0),\n",
    "    'min_samples_split': trial.suggest_int ('min_sample_split', 6, 10),\n",
    "    'min_samples_leaf': trial.suggest_int ('min_sample_leaf', 1, 10)\n",
    "    }\n",
    "    \n",
    "    return GradientBoostingRegressor(**params)\n",
    "\n",
    "def instantiate_model(trial : Trial, numerical_columns : list[str], \n",
    "                      categorical_columns : list[str]) -> Pipeline:\n",
    "    \n",
    "    processor = instantiate_processor_ordinal(\n",
    "        trial, numerical_columns, categorical_columns\n",
    "    )\n",
    "    \n",
    "    learner = instantiate_gbr(trial)\n",
    "    \n",
    "    model_pipe = Pipeline([\n",
    "    ('processor', processor),\n",
    "    ('model', learner)\n",
    "    ])\n",
    "    \n",
    "    model = compose.TransformedTargetRegressor(regressor= model_pipe,\n",
    "                                                func=np.log, inverse_func=np.exp)\n",
    "    \n",
    "    return model\n",
    "\n",
    "def objective_gbr(trial : Trial, X : DataFrame,\n",
    "              y : np.ndarray | Series, \n",
    "              numerical_columns : Optional[list[str]]=None, \n",
    "              categorical_columns : Optional[list[str]]=None, \n",
    "              random_state : int=42) -> float:\n",
    "    \n",
    "    if numerical_columns is None:\n",
    "        numerical_columns = [\n",
    "            *X.select_dtypes(exclude=['object', 'category']).columns\n",
    "        ]\n",
    "    \n",
    "    if categorical_columns is None:\n",
    "        categorical_columns = [\n",
    "            *X.select_dtypes(include=['object', 'category']).columns\n",
    "        ]\n",
    "    \n",
    "    model = instantiate_model(trial, numerical_columns, categorical_columns)\n",
    "    kf = KFold(n_splits=5, shuffle=True, random_state=random_state)\n",
    "    r2 = make_scorer(r2_score)\n",
    "    scores = cross_val_score(model, X, y, scoring= r2, cv=kf)\n",
    "    \n",
    "    return np.min([np.mean(scores), np.median([scores])])"
   ]
  },
  {
   "cell_type": "code",
   "execution_count": 34,
   "id": "73d0d993",
   "metadata": {},
   "outputs": [
    {
     "name": "stderr",
     "output_type": "stream",
     "text": [
      "[I 2024-07-11 09:36:55,471] A new study created in memory with name: optimization\n",
      "[I 2024-07-11 09:38:00,789] Trial 0 finished with value: 0.10676969273467858 and parameters: {'scaling_method': 'maxabs', 'n_estimators': 680, 'learning_rate': 0.00015291122193602163, 'max_depth': 6, 'subsample': 0.7453028457760895, 'min_sample_split': 10, 'min_sample_leaf': 9}. Best is trial 0 with value: 0.10676969273467858.\n",
      "[I 2024-07-11 09:38:22,650] Trial 1 finished with value: 0.28100365000054095 and parameters: {'scaling_method': 'standard', 'n_estimators': 605, 'learning_rate': 0.0006146473911796216, 'max_depth': 2, 'subsample': 0.8742574967407413, 'min_sample_split': 8, 'min_sample_leaf': 2}. Best is trial 1 with value: 0.28100365000054095.\n",
      "[I 2024-07-11 09:39:24,934] Trial 2 finished with value: 0.2466584750875623 and parameters: {'scaling_method': 'standard', 'n_estimators': 533, 'learning_rate': 0.00043180685670930226, 'max_depth': 6, 'subsample': 0.8638913349214837, 'min_sample_split': 8, 'min_sample_leaf': 2}. Best is trial 1 with value: 0.28100365000054095.\n",
      "[I 2024-07-11 09:40:20,656] Trial 3 finished with value: 0.08778538023716427 and parameters: {'scaling_method': 'robust', 'n_estimators': 973, 'learning_rate': 0.00010617361145818068, 'max_depth': 3, 'subsample': 0.9791756002812511, 'min_sample_split': 9, 'min_sample_leaf': 5}. Best is trial 1 with value: 0.28100365000054095.\n",
      "[I 2024-07-11 09:41:04,110] Trial 4 finished with value: 0.9214824552885755 and parameters: {'scaling_method': 'robust', 'n_estimators': 868, 'learning_rate': 0.005429634831521693, 'max_depth': 3, 'subsample': 0.8347093949409654, 'min_sample_split': 10, 'min_sample_leaf': 10}. Best is trial 4 with value: 0.9214824552885755.\n"
     ]
    }
   ],
   "source": [
    "from optuna import create_study\n",
    "\n",
    "study_gbr = create_study(study_name='optimization', direction='maximize')\n",
    "\n",
    "study_gbr.optimize(lambda trial: objective_gbr(trial, X, y), n_trials=5)"
   ]
  },
  {
   "cell_type": "code",
   "execution_count": 35,
   "id": "e8ca1e42",
   "metadata": {},
   "outputs": [
    {
     "name": "stdout",
     "output_type": "stream",
     "text": [
      "0.9214824552885755\n",
      "{'scaling_method': 'robust', 'n_estimators': 868, 'learning_rate': 0.005429634831521693, 'max_depth': 3, 'subsample': 0.8347093949409654, 'min_sample_split': 10, 'min_sample_leaf': 10}\n"
     ]
    }
   ],
   "source": [
    "print(study_gbr.best_value)\n",
    "print(study_gbr.best_params)"
   ]
  },
  {
   "cell_type": "markdown",
   "id": "4b66d6f0",
   "metadata": {},
   "source": [
    "# Adaboost"
   ]
  },
  {
   "cell_type": "code",
   "execution_count": 53,
   "id": "da656a97",
   "metadata": {},
   "outputs": [],
   "source": [
    "def instantiate_ada(trial : Trial) -> AdaBoostRegressor:\n",
    "    params = {\n",
    "    'learning_rate': trial.suggest_float('learning_rate', 1e-4, 1, log=True),\n",
    "    'loss': trial.suggest_categorical('loss',['linear', 'square', 'exponential']),\n",
    "    'n_estimators': trial.suggest_int('n_estimators', 1, 1000)\n",
    "    }\n",
    "    \n",
    "    return AdaBoostRegressor(**params)\n",
    "\n",
    "def instantiate_model(trial : Trial, numerical_columns : list[str], \n",
    "                      categorical_columns : list[str]) -> Pipeline:\n",
    "    \n",
    "    processor = instantiate_processor_ordinal(\n",
    "        trial, numerical_columns, categorical_columns\n",
    "    )\n",
    "    \n",
    "    learner = instantiate_ada(trial)\n",
    "    \n",
    "    model_pipe = Pipeline([\n",
    "    ('processor', processor),\n",
    "    ('model', learner)\n",
    "    ])\n",
    "    \n",
    "    model = compose.TransformedTargetRegressor(regressor= model_pipe,\n",
    "                                                func=np.log, inverse_func=np.exp)\n",
    "    \n",
    "    return model\n",
    "\n",
    "def objective_ada(trial : Trial, X : DataFrame,\n",
    "              y : np.ndarray | Series, \n",
    "              numerical_columns : Optional[list[str]]=None, \n",
    "              categorical_columns : Optional[list[str]]=None, \n",
    "              random_state : int=42) -> float:\n",
    "    \n",
    "    if numerical_columns is None:\n",
    "        numerical_columns = [\n",
    "            *X.select_dtypes(exclude=['object', 'category']).columns\n",
    "        ]\n",
    "    \n",
    "    if categorical_columns is None:\n",
    "        categorical_columns = [\n",
    "            *X.select_dtypes(include=['object', 'category']).columns\n",
    "        ]\n",
    "    \n",
    "    model = instantiate_model(trial, numerical_columns, categorical_columns)\n",
    "    kf = KFold(n_splits=5, shuffle=True, random_state=random_state)\n",
    "    r2 = make_scorer(r2_score)\n",
    "    scores = cross_val_score(model, X, y, scoring= r2, cv=kf)\n",
    "    \n",
    "    return np.min([np.mean(scores), np.median([scores])])"
   ]
  },
  {
   "cell_type": "code",
   "execution_count": 54,
   "id": "68b30841",
   "metadata": {},
   "outputs": [
    {
     "name": "stderr",
     "output_type": "stream",
     "text": [
      "[I 2024-07-11 10:02:52,147] A new study created in memory with name: optimization\n",
      "[I 2024-07-11 10:02:52,518] Trial 0 finished with value: 0.7697034560200977 and parameters: {'scaling_method': 'robust', 'learning_rate': 0.5591223026880627, 'loss': 'linear', 'n_estimators': 5}. Best is trial 0 with value: 0.7697034560200977.\n",
      "[I 2024-07-11 10:03:10,819] Trial 1 finished with value: 0.8546529541652251 and parameters: {'scaling_method': 'maxabs', 'learning_rate': 0.06846055794485856, 'loss': 'linear', 'n_estimators': 404}. Best is trial 1 with value: 0.8546529541652251.\n",
      "[I 2024-07-11 10:03:29,877] Trial 2 finished with value: 0.875164826045092 and parameters: {'scaling_method': 'robust', 'learning_rate': 0.5252293433374021, 'loss': 'exponential', 'n_estimators': 551}. Best is trial 2 with value: 0.875164826045092.\n",
      "[I 2024-07-11 10:03:51,103] Trial 3 finished with value: 0.7894060614839619 and parameters: {'scaling_method': 'standard', 'learning_rate': 0.006602759458806035, 'loss': 'square', 'n_estimators': 416}. Best is trial 2 with value: 0.875164826045092.\n",
      "[I 2024-07-11 10:03:53,533] Trial 4 finished with value: 0.7516267401243062 and parameters: {'scaling_method': 'standard', 'learning_rate': 0.001764280416031639, 'loss': 'square', 'n_estimators': 45}. Best is trial 2 with value: 0.875164826045092.\n",
      "[I 2024-07-11 10:04:31,033] Trial 5 finished with value: 0.8531625153071971 and parameters: {'scaling_method': 'standard', 'learning_rate': 0.03192455973880304, 'loss': 'exponential', 'n_estimators': 812}. Best is trial 2 with value: 0.875164826045092.\n",
      "[I 2024-07-11 10:04:42,175] Trial 6 finished with value: 0.7489251023584357 and parameters: {'scaling_method': 'robust', 'learning_rate': 0.0004869604703745407, 'loss': 'linear', 'n_estimators': 216}. Best is trial 2 with value: 0.875164826045092.\n",
      "[I 2024-07-11 10:05:23,966] Trial 7 finished with value: 0.8125175645403576 and parameters: {'scaling_method': 'robust', 'learning_rate': 0.007800237570203197, 'loss': 'linear', 'n_estimators': 810}. Best is trial 2 with value: 0.875164826045092.\n",
      "[I 2024-07-11 10:05:32,994] Trial 8 finished with value: 0.740015316414385 and parameters: {'scaling_method': 'maxabs', 'learning_rate': 0.00022783884897739016, 'loss': 'linear', 'n_estimators': 171}. Best is trial 2 with value: 0.875164826045092.\n",
      "[I 2024-07-11 10:05:38,941] Trial 9 finished with value: 0.8072715830556264 and parameters: {'scaling_method': 'standard', 'learning_rate': 0.040666517337138705, 'loss': 'linear', 'n_estimators': 119}. Best is trial 2 with value: 0.875164826045092.\n",
      "[I 2024-07-11 10:05:58,388] Trial 10 finished with value: 0.8780826782483189 and parameters: {'scaling_method': 'minmax', 'learning_rate': 0.9665979668694383, 'loss': 'exponential', 'n_estimators': 613}. Best is trial 10 with value: 0.8780826782483189.\n",
      "[I 2024-07-11 10:06:20,082] Trial 11 finished with value: 0.8771383755349959 and parameters: {'scaling_method': 'minmax', 'learning_rate': 0.8688891534129805, 'loss': 'exponential', 'n_estimators': 647}. Best is trial 10 with value: 0.8780826782483189.\n",
      "[I 2024-07-11 10:06:40,107] Trial 12 finished with value: 0.8779115583289684 and parameters: {'scaling_method': 'minmax', 'learning_rate': 0.938023446604585, 'loss': 'exponential', 'n_estimators': 618}. Best is trial 10 with value: 0.8780826782483189.\n",
      "[I 2024-07-11 10:07:04,816] Trial 13 finished with value: 0.8713033033938435 and parameters: {'scaling_method': 'minmax', 'learning_rate': 0.15326841976862476, 'loss': 'exponential', 'n_estimators': 670}. Best is trial 10 with value: 0.8780826782483189.\n",
      "[I 2024-07-11 10:07:29,204] Trial 14 finished with value: 0.8726031022028063 and parameters: {'scaling_method': 'minmax', 'learning_rate': 0.19401035618984425, 'loss': 'exponential', 'n_estimators': 667}. Best is trial 10 with value: 0.8780826782483189.\n",
      "[I 2024-07-11 10:08:03,126] Trial 15 finished with value: 0.8741678522859605 and parameters: {'scaling_method': 'minmax', 'learning_rate': 0.19571484981329867, 'loss': 'exponential', 'n_estimators': 940}. Best is trial 10 with value: 0.8780826782483189.\n",
      "[I 2024-07-11 10:08:14,353] Trial 16 finished with value: 0.8759517890404285 and parameters: {'scaling_method': 'minmax', 'learning_rate': 0.863947710977675, 'loss': 'exponential', 'n_estimators': 325}. Best is trial 10 with value: 0.8780826782483189.\n",
      "[I 2024-07-11 10:08:39,878] Trial 17 finished with value: 0.8245565992555626 and parameters: {'scaling_method': 'minmax', 'learning_rate': 0.020355226582718405, 'loss': 'exponential', 'n_estimators': 503}. Best is trial 10 with value: 0.8780826782483189.\n",
      "[I 2024-07-11 10:09:22,391] Trial 18 finished with value: 0.7790524767783765 and parameters: {'scaling_method': 'minmax', 'learning_rate': 0.0023469408789676552, 'loss': 'square', 'n_estimators': 833}. Best is trial 10 with value: 0.8780826782483189.\n",
      "[I 2024-07-11 10:09:46,806] Trial 19 finished with value: 0.8689234225527119 and parameters: {'scaling_method': 'minmax', 'learning_rate': 0.13000354123180455, 'loss': 'exponential', 'n_estimators': 576}. Best is trial 10 with value: 0.8780826782483189.\n",
      "[I 2024-07-11 10:10:19,011] Trial 20 finished with value: 0.875575631970334 and parameters: {'scaling_method': 'maxabs', 'learning_rate': 0.3276719260228993, 'loss': 'exponential', 'n_estimators': 968}. Best is trial 10 with value: 0.8780826782483189.\n",
      "[I 2024-07-11 10:10:40,581] Trial 21 finished with value: 0.8764809575260154 and parameters: {'scaling_method': 'minmax', 'learning_rate': 0.981451602009341, 'loss': 'exponential', 'n_estimators': 656}. Best is trial 10 with value: 0.8780826782483189.\n",
      "[I 2024-07-11 10:11:03,633] Trial 22 finished with value: 0.8746538229268802 and parameters: {'scaling_method': 'minmax', 'learning_rate': 0.32933660611767623, 'loss': 'exponential', 'n_estimators': 693}. Best is trial 10 with value: 0.8780826782483189.\n",
      "[I 2024-07-11 10:11:34,336] Trial 23 finished with value: 0.8651629965187382 and parameters: {'scaling_method': 'minmax', 'learning_rate': 0.06762688465459105, 'loss': 'exponential', 'n_estimators': 750}. Best is trial 10 with value: 0.8780826782483189.\n",
      "[I 2024-07-11 10:11:52,806] Trial 24 finished with value: 0.877332188458922 and parameters: {'scaling_method': 'minmax', 'learning_rate': 0.9650619122751851, 'loss': 'exponential', 'n_estimators': 614}. Best is trial 10 with value: 0.8780826782483189.\n",
      "[I 2024-07-11 10:12:06,920] Trial 25 finished with value: 0.8703375963820832 and parameters: {'scaling_method': 'minmax', 'learning_rate': 0.3864493541692656, 'loss': 'square', 'n_estimators': 422}. Best is trial 10 with value: 0.8780826782483189.\n",
      "[I 2024-07-11 10:12:30,644] Trial 26 finished with value: 0.8650823033259826 and parameters: {'scaling_method': 'minmax', 'learning_rate': 0.08196766379896685, 'loss': 'exponential', 'n_estimators': 582}. Best is trial 10 with value: 0.8780826782483189.\n",
      "[I 2024-07-11 10:13:00,389] Trial 27 finished with value: 0.8740764641314778 and parameters: {'scaling_method': 'minmax', 'learning_rate': 0.2837238635138632, 'loss': 'exponential', 'n_estimators': 881}. Best is trial 10 with value: 0.8780826782483189.\n",
      "[I 2024-07-11 10:13:16,568] Trial 28 finished with value: 0.8772047236103455 and parameters: {'scaling_method': 'maxabs', 'learning_rate': 0.983146633604237, 'loss': 'exponential', 'n_estimators': 483}. Best is trial 10 with value: 0.8780826782483189.\n",
      "[I 2024-07-11 10:13:26,691] Trial 29 finished with value: 0.8725330669246614 and parameters: {'scaling_method': 'robust', 'learning_rate': 0.5708926000445392, 'loss': 'square', 'n_estimators': 323}. Best is trial 10 with value: 0.8780826782483189.\n",
      "[I 2024-07-11 10:13:50,268] Trial 30 finished with value: 0.8757094620589182 and parameters: {'scaling_method': 'minmax', 'learning_rate': 0.48809286544110553, 'loss': 'exponential', 'n_estimators': 748}. Best is trial 10 with value: 0.8780826782483189.\n",
      "[I 2024-07-11 10:14:05,000] Trial 31 finished with value: 0.8770954774744751 and parameters: {'scaling_method': 'maxabs', 'learning_rate': 0.916069127836751, 'loss': 'exponential', 'n_estimators': 479}. Best is trial 10 with value: 0.8780826782483189.\n",
      "[I 2024-07-11 10:14:21,871] Trial 32 finished with value: 0.8755456050312571 and parameters: {'scaling_method': 'maxabs', 'learning_rate': 0.492789218688456, 'loss': 'exponential', 'n_estimators': 509}. Best is trial 10 with value: 0.8780826782483189.\n"
     ]
    },
    {
     "name": "stderr",
     "output_type": "stream",
     "text": [
      "[I 2024-07-11 10:14:44,856] Trial 33 finished with value: 0.866576708984014 and parameters: {'scaling_method': 'maxabs', 'learning_rate': 0.09929974514686613, 'loss': 'exponential', 'n_estimators': 581}. Best is trial 10 with value: 0.8780826782483189.\n",
      "[I 2024-07-11 10:14:58,969] Trial 34 finished with value: 0.8703748675462952 and parameters: {'scaling_method': 'maxabs', 'learning_rate': 0.2245325690083747, 'loss': 'exponential', 'n_estimators': 368}. Best is trial 10 with value: 0.8780826782483189.\n",
      "[I 2024-07-11 10:15:17,983] Trial 35 finished with value: 0.876282939613254 and parameters: {'scaling_method': 'maxabs', 'learning_rate': 0.5987616594370728, 'loss': 'exponential', 'n_estimators': 614}. Best is trial 10 with value: 0.8780826782483189.\n",
      "[I 2024-07-11 10:15:40,207] Trial 36 finished with value: 0.8102956663214451 and parameters: {'scaling_method': 'standard', 'learning_rate': 0.013357794606257661, 'loss': 'exponential', 'n_estimators': 454}. Best is trial 10 with value: 0.8780826782483189.\n",
      "[I 2024-07-11 10:16:05,527] Trial 37 finished with value: 0.7760657608784798 and parameters: {'scaling_method': 'robust', 'learning_rate': 0.003223122463915485, 'loss': 'square', 'n_estimators': 528}. Best is trial 10 with value: 0.8780826782483189.\n",
      "[I 2024-07-11 10:16:39,947] Trial 38 finished with value: 0.7580441501297308 and parameters: {'scaling_method': 'maxabs', 'learning_rate': 0.0010765759758337749, 'loss': 'linear', 'n_estimators': 702}. Best is trial 10 with value: 0.8780826782483189.\n",
      "[I 2024-07-11 10:16:52,211] Trial 39 finished with value: 0.8311226535214583 and parameters: {'scaling_method': 'standard', 'learning_rate': 0.04876226988318055, 'loss': 'exponential', 'n_estimators': 261}. Best is trial 10 with value: 0.8780826782483189.\n",
      "[I 2024-07-11 10:17:14,258] Trial 40 finished with value: 0.8769533251727737 and parameters: {'scaling_method': 'robust', 'learning_rate': 0.6309085589978503, 'loss': 'linear', 'n_estimators': 736}. Best is trial 10 with value: 0.8780826782483189.\n",
      "[I 2024-07-11 10:17:33,883] Trial 41 finished with value: 0.8761244756508276 and parameters: {'scaling_method': 'minmax', 'learning_rate': 0.6591110192170143, 'loss': 'exponential', 'n_estimators': 631}. Best is trial 10 with value: 0.8780826782483189.\n",
      "[I 2024-07-11 10:17:51,501] Trial 42 finished with value: 0.8779260805521737 and parameters: {'scaling_method': 'minmax', 'learning_rate': 0.9310293441696323, 'loss': 'exponential', 'n_estimators': 559}. Best is trial 10 with value: 0.8780826782483189.\n",
      "[I 2024-07-11 10:18:06,605] Trial 43 finished with value: 0.8739924078091761 and parameters: {'scaling_method': 'minmax', 'learning_rate': 0.3634366886298869, 'loss': 'exponential', 'n_estimators': 443}. Best is trial 10 with value: 0.8780826782483189.\n",
      "[I 2024-07-11 10:18:22,749] Trial 44 finished with value: 0.8774252399332381 and parameters: {'scaling_method': 'minmax', 'learning_rate': 0.9879986256312421, 'loss': 'exponential', 'n_estimators': 539}. Best is trial 10 with value: 0.8780826782483189.\n",
      "[I 2024-07-11 10:18:42,408] Trial 45 finished with value: 0.8719117671604486 and parameters: {'scaling_method': 'minmax', 'learning_rate': 0.21001391801674987, 'loss': 'exponential', 'n_estimators': 546}. Best is trial 10 with value: 0.8780826782483189.\n",
      "[I 2024-07-11 10:19:01,769] Trial 46 finished with value: 0.8753977791089005 and parameters: {'scaling_method': 'minmax', 'learning_rate': 0.473725281338232, 'loss': 'linear', 'n_estimators': 611}. Best is trial 10 with value: 0.8780826782483189.\n",
      "[I 2024-07-11 10:19:20,470] Trial 47 finished with value: 0.7442601299566491 and parameters: {'scaling_method': 'minmax', 'learning_rate': 0.00022247823371459276, 'loss': 'exponential', 'n_estimators': 383}. Best is trial 10 with value: 0.8780826782483189.\n",
      "[I 2024-07-11 10:19:50,510] Trial 48 finished with value: 0.8720981443244403 and parameters: {'scaling_method': 'minmax', 'learning_rate': 0.14127725893957668, 'loss': 'exponential', 'n_estimators': 788}. Best is trial 10 with value: 0.8780826782483189.\n",
      "[I 2024-07-11 10:20:07,318] Trial 49 finished with value: 0.8735332699685407 and parameters: {'scaling_method': 'minmax', 'learning_rate': 0.7216920905683047, 'loss': 'square', 'n_estimators': 547}. Best is trial 10 with value: 0.8780826782483189.\n"
     ]
    }
   ],
   "source": [
    "from optuna import create_study\n",
    "\n",
    "study_ada = create_study(study_name='optimization', direction='maximize')\n",
    "\n",
    "study_ada.optimize(lambda trial: objective_ada(trial, X, y), n_trials=50)"
   ]
  },
  {
   "cell_type": "code",
   "execution_count": null,
   "id": "bed226d5",
   "metadata": {},
   "outputs": [],
   "source": []
  },
  {
   "cell_type": "markdown",
   "id": "4faa7a11",
   "metadata": {},
   "source": [
    "# Loop through?"
   ]
  },
  {
   "cell_type": "code",
   "execution_count": 61,
   "id": "041506c7",
   "metadata": {},
   "outputs": [],
   "source": [
    "studies = [study_lasso, study_ridge, study_en, study_xgb, study_rf, study_gbr, study_ada]\n",
    "objectives = [objective_lasso, \n",
    "              objective_ridge, \n",
    "              objective_en,\n",
    "              objective_xgb,\n",
    "              objective_rf,\n",
    "              objective_gbr,\n",
    "              objective_ada]\n",
    "\n",
    "# for study, objective in zip(studies, objectives):\n",
    "#     study.optimize(lambda trial: objective(trial, X, y), n_trials=2)\n",
    "    "
   ]
  },
  {
   "cell_type": "code",
   "execution_count": 63,
   "id": "a56e1831",
   "metadata": {},
   "outputs": [
    {
     "data": {
      "text/plain": [
       "[<function __main__.objective_lasso(trial: optuna.trial._trial.Trial, X: pandas.core.frame.DataFrame, y: numpy.ndarray | pandas.core.series.Series, numerical_columns: Optional[list[str]] = None, categorical_columns: Optional[list[str]] = None, random_state: int = 42) -> float>,\n",
       " <function __main__.objective_ridge(trial: optuna.trial._trial.Trial, X: pandas.core.frame.DataFrame, y: numpy.ndarray | pandas.core.series.Series, numerical_columns: Optional[list[str]] = None, categorical_columns: Optional[list[str]] = None, random_state: int = 42) -> float>,\n",
       " <function __main__.objective_en(trial: optuna.trial._trial.Trial, X: pandas.core.frame.DataFrame, y: numpy.ndarray | pandas.core.series.Series, numerical_columns: Optional[list[str]] = None, categorical_columns: Optional[list[str]] = None, random_state: int = 42) -> float>,\n",
       " <function __main__.objective_xgb(trial: optuna.trial._trial.Trial, X: pandas.core.frame.DataFrame, y: numpy.ndarray | pandas.core.series.Series, numerical_columns: Optional[list[str]] = None, categorical_columns: Optional[list[str]] = None, random_state: int = 42) -> float>,\n",
       " <function __main__.objective_rf(trial: optuna.trial._trial.Trial, X: pandas.core.frame.DataFrame, y: numpy.ndarray | pandas.core.series.Series, numerical_columns: Optional[list[str]] = None, categorical_columns: Optional[list[str]] = None, random_state: int = 42) -> float>,\n",
       " <function __main__.objective_gbr(trial: optuna.trial._trial.Trial, X: pandas.core.frame.DataFrame, y: numpy.ndarray | pandas.core.series.Series, numerical_columns: Optional[list[str]] = None, categorical_columns: Optional[list[str]] = None, random_state: int = 42) -> float>,\n",
       " <function __main__.objective_ada(trial: optuna.trial._trial.Trial, X: pandas.core.frame.DataFrame, y: numpy.ndarray | pandas.core.series.Series, numerical_columns: Optional[list[str]] = None, categorical_columns: Optional[list[str]] = None, random_state: int = 42) -> float>]"
      ]
     },
     "execution_count": 63,
     "metadata": {},
     "output_type": "execute_result"
    }
   ],
   "source": []
  },
  {
   "cell_type": "code",
   "execution_count": 52,
   "id": "5110ac52",
   "metadata": {},
   "outputs": [
    {
     "name": "stdout",
     "output_type": "stream",
     "text": [
      "0.8735606638813536\n",
      "{'scaling_method': 'robust', 'learning_rate': 0.30065504792403025, 'loss': 'exponential', 'n_estimators': 428}\n",
      "0.7980960053211354\n",
      "{'scaling_method': 'robust', 'learning_rate': 0.006736329679908936, 'loss': 'exponential', 'n_estimators': 615}\n",
      "0.8177296198440576\n",
      "{'scaling_method': 'maxabs', 'learning_rate': 0.04083092875953665, 'loss': 'exponential', 'n_estimators': 196}\n",
      "0.951622985121114\n",
      "{'scaling_method': 'minmax', 'encoding_method': 'onehot', 'drop': None, 'n_estimators': 979, 'learning_rate': 0.046054720840163293, 'max_depth': 4, 'subsample': 0.8282908794962028, 'colsample_bytree': 0.5510975070017484, 'min_child_weight': 10}\n",
      "0.9094102521730991\n",
      "{'scaling_method': 'maxabs', 'bootstrap': True, 'n_estimators': 494, 'max_depth': 62, 'min_samples_split': 4, 'min_samples_leaf': 1}\n",
      "0.9214824552885755\n",
      "{'scaling_method': 'robust', 'n_estimators': 868, 'learning_rate': 0.005429634831521693, 'max_depth': 3, 'subsample': 0.8347093949409654, 'min_sample_split': 10, 'min_sample_leaf': 10}\n",
      "0.7411722065793509\n",
      "{'scaling_method': 'minmax', 'learning_rate': 0.00041621654894138704, 'loss': 'exponential', 'n_estimators': 207}\n"
     ]
    }
   ],
   "source": [
    "for study in studies:\n",
    "    print (study.best_value)\n",
    "    print (study.best_params)"
   ]
  }
 ],
 "metadata": {
  "kernelspec": {
   "display_name": "Python 3 (ipykernel)",
   "language": "python",
   "name": "python3"
  },
  "language_info": {
   "codemirror_mode": {
    "name": "ipython",
    "version": 3
   },
   "file_extension": ".py",
   "mimetype": "text/x-python",
   "name": "python",
   "nbconvert_exporter": "python",
   "pygments_lexer": "ipython3",
   "version": "3.11.5"
  }
 },
 "nbformat": 4,
 "nbformat_minor": 5
}
