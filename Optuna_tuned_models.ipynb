{
 "cells": [
  {
   "cell_type": "code",
   "execution_count": 22,
   "id": "5ffbaf4f",
   "metadata": {},
   "outputs": [],
   "source": [
    "import numpy as np\n",
    "import pandas as pd\n",
    "import xgboost as xgb\n",
    "from xgboost import XGBRegressor\n",
    "import matplotlib.pyplot as plt\n",
    "from sklearn.model_selection import train_test_split, GridSearchCV\n",
    "from sklearn.metrics import confusion_matrix, ConfusionMatrixDisplay, balanced_accuracy_score, roc_auc_score, make_scorer\n",
    "from sklearn.preprocessing import OneHotEncoder, StandardScaler\n",
    "from sklearn.pipeline import Pipeline\n",
    "from sklearn import compose, pipeline\n",
    "from sklearn.preprocessing import OneHotEncoder\n",
    "from sklearn.compose import ColumnTransformer\n",
    "from sklearn.compose import make_column_selector as selector\n",
    "from sklearn.preprocessing import OneHotEncoder, StandardScaler, OrdinalEncoder\n",
    "from sklearn.pipeline import Pipeline\n",
    "from sklearn import compose, pipeline\n",
    "from sklearn.model_selection import KFold\n",
    "from typing import Optional\n",
    "from sklearn.model_selection import cross_val_score, KFold\n",
    "from sklearn.metrics import roc_auc_score, make_scorer, r2_score\n",
    "from pandas import DataFrame, Series\n",
    "import numpy as np\n",
    "kf = KFold(n_splits=5, shuffle=True, random_state=42)\n",
    "import xgboost as xgb\n",
    "from xgboost import XGBRegressor\n",
    "import optuna\n",
    "from optuna import Trial\n",
    "from optuna import create_study\n",
    "from sklearn import compose\n",
    "from sklearn.model_selection import GridSearchCV\n",
    "from sklearn.linear_model import Lasso, Ridge, LinearRegression, ElasticNet\n",
    "from sklearn.ensemble import GradientBoostingRegressor, AdaBoostRegressor, RandomForestRegressor\n",
    "#website help from \n",
    "#https://medium.com/@walter_sperat/using-optuna-with-sklearn-the-right-way-part-1-6b4ad0ab2451"
   ]
  },
  {
   "cell_type": "code",
   "execution_count": 2,
   "id": "f9edb2d9",
   "metadata": {},
   "outputs": [],
   "source": [
    "df = pd.read_csv('df_normal_quality.csv', index_col=0)\n",
    "y = df.SalePrice\n",
    "X = df.drop(['PID', 'SalePrice'], axis =1).copy()"
   ]
  },
  {
   "cell_type": "code",
   "execution_count": 33,
   "id": "a1b841c9",
   "metadata": {},
   "outputs": [],
   "source": [
    "from sklearn.preprocessing import OrdinalEncoder, OneHotEncoder\n",
    "#from category_encoders import WOEEncoder\n",
    "\n",
    "def instantiate_ordinal_encoder(trial: Trial)-> OrdinalEncoder:\n",
    "    params = {\n",
    "        'handle_unknown': \"use_encoded_value\", \n",
    "        'unknown_value': -1\n",
    "    }\n",
    "    \n",
    "    return OrdinalEncoder(**params)\n",
    "\n",
    "def instantiate_onehot_encoder(trial: Trial)-> OneHotEncoder:\n",
    "    params = {\n",
    "        'handle_unknown': 'ignore',\n",
    "        'drop': trial.suggest_categorical('drop', [None, 'first'])\n",
    "    }\n",
    "    \n",
    "    return OneHotEncoder(**params)\n",
    "    \n",
    "Encoder = (\n",
    "    OrdinalEncoder |\n",
    "    OneHotEncoder \n",
    "    )\n",
    "\n",
    "def instantiate_encoder (trial : Trial) -> Encoder:\n",
    "    encoding_method = trial.suggest_categorical(\n",
    "        'encoding_method', ['ordinal', 'onehot'])\n",
    "    if encoding_method =='ordinal':\n",
    "        encoder = instantiate_ordinal_encoder(trial)\n",
    "    elif encoding_method =='onehot':\n",
    "        encoder = instantiate_onehot_encoder(trial)\n",
    "    \n",
    "    return encoder\n",
    "\n",
    "from sklearn.preprocessing import StandardScaler, MinMaxScaler, MaxAbsScaler, RobustScaler\n",
    "\n",
    "Scaler = (\n",
    "  StandardScaler |\n",
    "  MinMaxScaler |\n",
    "  MaxAbsScaler |\n",
    "  RobustScaler\n",
    ")\n",
    "\n",
    "def instantiate_scaler(trial : Trial) -> Scaler:\n",
    "    method = trial.suggest_categorical(\n",
    "    'scaling_method', ['standard', 'minmax', 'maxabs', 'robust']\n",
    "    )\n",
    "    if method=='standard':\n",
    "        scaler = StandardScaler()\n",
    "    elif method=='minmax':\n",
    "        scaler = MinMaxScaler()\n",
    "    elif method=='maxabs':\n",
    "        scaler = MaxAbsScaler()\n",
    "    elif method=='robust':\n",
    "        scaler = RobustScaler()\n",
    "        \n",
    "    return scaler\n",
    "\n",
    "from sklearn.compose import ColumnTransformer\n",
    "from sklearn.pipeline import Pipeline\n",
    "\n",
    "def instantiate_processor(trial : Trial, \n",
    "                          numerical_columns : list[str], \n",
    "                          categorical_columns : list[str]) -> ColumnTransformer:\n",
    "    \n",
    "    numerical_pipeline = instantiate_scaler(trial)\n",
    "    categorical_pipeline = instantiate_encoder(trial)\n",
    "   # numerical_pipeline = StandardScaler()\n",
    "    #categorical_pipeline = OneHotEncoder(handle_unknown=\"ignore\", drop='first')\n",
    "    \n",
    "#     numerical_pipeline = instantiate_numerical_pipeline(trial)\n",
    "#     categorical_pipeline = instantiate_categorical_pipeline(trial)\n",
    "    \n",
    "    processor = ColumnTransformer([\n",
    "        ('numerical_pipeline', numerical_pipeline, numerical_columns),\n",
    "        ('categorical_pipeline', categorical_pipeline, categorical_columns)\n",
    "    ])\n",
    "    return processor\n",
    "\n",
    "def instantiate_processor_ordinal(trial : Trial, \n",
    "                          numerical_columns : list[str], \n",
    "                          categorical_columns : list[str]) -> ColumnTransformer:\n",
    "    \n",
    "    numerical_pipeline = instantiate_scaler(trial)\n",
    "    categorical_pipeline = instantiate_ordinal_encoder(trial)\n",
    "\n",
    "    processor = ColumnTransformer([\n",
    "        ('numerical_pipeline', numerical_pipeline, numerical_columns),\n",
    "        ('categorical_pipeline', categorical_pipeline, categorical_columns)\n",
    "    ])\n",
    "    return processor"
   ]
  },
  {
   "cell_type": "markdown",
   "id": "4eb02bbe",
   "metadata": {},
   "source": [
    "# Lasso"
   ]
  },
  {
   "cell_type": "code",
   "execution_count": 44,
   "id": "0045c708",
   "metadata": {},
   "outputs": [],
   "source": [
    "def instantiate_lasso(trial : Trial) -> Lasso:\n",
    "    params = {\n",
    "        \"alpha\": trial.suggest_float(\"alpha\", .00001, .001, log=True)\n",
    "    }\n",
    "\n",
    "    return Lasso(**params)\n",
    "\n",
    "def instantiate_model(trial : Trial, numerical_columns : list[str], \n",
    "                      categorical_columns : list[str]) -> Pipeline:\n",
    "    \n",
    "    processor = instantiate_processor(\n",
    "        trial, numerical_columns, categorical_columns\n",
    "    )\n",
    "    \n",
    "    learner = instantiate_lasso(trial)\n",
    "    \n",
    "    model_pipe = Pipeline([\n",
    "    ('processor', processor),\n",
    "    ('model', learner)\n",
    "    ])\n",
    "    \n",
    "    model = compose.TransformedTargetRegressor(regressor= model_pipe,\n",
    "                                                func=np.log, inverse_func=np.exp)\n",
    "    \n",
    "    return model\n",
    "\n",
    "def objective_lasso(trial : Trial, X : DataFrame,\n",
    "              y : np.ndarray | Series, \n",
    "              numerical_columns : Optional[list[str]]=None, \n",
    "              categorical_columns : Optional[list[str]]=None, \n",
    "              random_state : int=42) -> float:\n",
    "    \n",
    "    if numerical_columns is None:\n",
    "        numerical_columns = [\n",
    "            *X.select_dtypes(exclude=['object', 'category']).columns\n",
    "        ]\n",
    "    \n",
    "    if categorical_columns is None:\n",
    "        categorical_columns = [\n",
    "            *X.select_dtypes(include=['object', 'category']).columns\n",
    "        ]\n",
    "    \n",
    "    model = instantiate_model(trial, numerical_columns, categorical_columns)\n",
    "    kf = KFold(n_splits=5, shuffle=True, random_state=random_state)\n",
    "    r2 = make_scorer(r2_score)\n",
    "    scores = cross_val_score(model, X, y, scoring= r2, cv=kf)\n",
    "    \n",
    "    return np.min([np.mean(scores), np.median([scores])])"
   ]
  },
  {
   "cell_type": "code",
   "execution_count": 45,
   "id": "5bbca889",
   "metadata": {
    "scrolled": true
   },
   "outputs": [
    {
     "name": "stderr",
     "output_type": "stream",
     "text": [
      "[I 2024-07-11 09:50:20,023] A new study created in memory with name: optimization\n"
     ]
    }
   ],
   "source": [
    "from optuna import create_study\n",
    "\n",
    "study_lasso = create_study(study_name='optimization', direction='maximize')\n",
    "\n",
    "#study_lasso.optimize(lambda trial: objective_lasso(trial, X, y), n_trials=200)"
   ]
  },
  {
   "cell_type": "code",
   "execution_count": 11,
   "id": "79e7bd95",
   "metadata": {},
   "outputs": [
    {
     "name": "stdout",
     "output_type": "stream",
     "text": [
      "0.9508124989217249\n",
      "{'scaling_method': 'robust', 'encoding_method': 'onehot', 'drop': None, 'alpha': 0.00030733929099045147}\n"
     ]
    }
   ],
   "source": [
    "print(study_lasso.best_value)\n",
    "print(study_lasso.best_params)"
   ]
  },
  {
   "cell_type": "code",
   "execution_count": 13,
   "id": "49c017e9",
   "metadata": {},
   "outputs": [
    {
     "data": {
      "text/html": [
       "<div>\n",
       "<style scoped>\n",
       "    .dataframe tbody tr th:only-of-type {\n",
       "        vertical-align: middle;\n",
       "    }\n",
       "\n",
       "    .dataframe tbody tr th {\n",
       "        vertical-align: top;\n",
       "    }\n",
       "\n",
       "    .dataframe thead th {\n",
       "        text-align: right;\n",
       "    }\n",
       "</style>\n",
       "<table border=\"1\" class=\"dataframe\">\n",
       "  <thead>\n",
       "    <tr style=\"text-align: right;\">\n",
       "      <th></th>\n",
       "      <th>Trial</th>\n",
       "      <th>Score</th>\n",
       "      <th>Parameters</th>\n",
       "    </tr>\n",
       "  </thead>\n",
       "  <tbody>\n",
       "    <tr>\n",
       "      <th>0</th>\n",
       "      <td>0</td>\n",
       "      <td>0.946736</td>\n",
       "      <td>[(scaling_method, maxabs), (encoding_method, o...</td>\n",
       "    </tr>\n",
       "    <tr>\n",
       "      <th>1</th>\n",
       "      <td>1</td>\n",
       "      <td>0.932313</td>\n",
       "      <td>[(scaling_method, maxabs), (encoding_method, o...</td>\n",
       "    </tr>\n",
       "    <tr>\n",
       "      <th>2</th>\n",
       "      <td>2</td>\n",
       "      <td>0.941093</td>\n",
       "      <td>[(scaling_method, robust), (encoding_method, o...</td>\n",
       "    </tr>\n",
       "    <tr>\n",
       "      <th>3</th>\n",
       "      <td>3</td>\n",
       "      <td>0.948149</td>\n",
       "      <td>[(scaling_method, maxabs), (encoding_method, o...</td>\n",
       "    </tr>\n",
       "    <tr>\n",
       "      <th>4</th>\n",
       "      <td>4</td>\n",
       "      <td>0.947131</td>\n",
       "      <td>[(scaling_method, robust), (encoding_method, o...</td>\n",
       "    </tr>\n",
       "    <tr>\n",
       "      <th>...</th>\n",
       "      <td>...</td>\n",
       "      <td>...</td>\n",
       "      <td>...</td>\n",
       "    </tr>\n",
       "    <tr>\n",
       "      <th>195</th>\n",
       "      <td>195</td>\n",
       "      <td>0.950399</td>\n",
       "      <td>[(scaling_method, minmax), (encoding_method, o...</td>\n",
       "    </tr>\n",
       "    <tr>\n",
       "      <th>196</th>\n",
       "      <td>196</td>\n",
       "      <td>0.950790</td>\n",
       "      <td>[(scaling_method, robust), (encoding_method, o...</td>\n",
       "    </tr>\n",
       "    <tr>\n",
       "      <th>197</th>\n",
       "      <td>197</td>\n",
       "      <td>0.950787</td>\n",
       "      <td>[(scaling_method, robust), (encoding_method, o...</td>\n",
       "    </tr>\n",
       "    <tr>\n",
       "      <th>198</th>\n",
       "      <td>198</td>\n",
       "      <td>0.950707</td>\n",
       "      <td>[(scaling_method, robust), (encoding_method, o...</td>\n",
       "    </tr>\n",
       "    <tr>\n",
       "      <th>199</th>\n",
       "      <td>199</td>\n",
       "      <td>0.950663</td>\n",
       "      <td>[(scaling_method, robust), (encoding_method, o...</td>\n",
       "    </tr>\n",
       "  </tbody>\n",
       "</table>\n",
       "<p>200 rows × 3 columns</p>\n",
       "</div>"
      ],
      "text/plain": [
       "     Trial     Score                                         Parameters\n",
       "0        0  0.946736  [(scaling_method, maxabs), (encoding_method, o...\n",
       "1        1  0.932313  [(scaling_method, maxabs), (encoding_method, o...\n",
       "2        2  0.941093  [(scaling_method, robust), (encoding_method, o...\n",
       "3        3  0.948149  [(scaling_method, maxabs), (encoding_method, o...\n",
       "4        4  0.947131  [(scaling_method, robust), (encoding_method, o...\n",
       "..     ...       ...                                                ...\n",
       "195    195  0.950399  [(scaling_method, minmax), (encoding_method, o...\n",
       "196    196  0.950790  [(scaling_method, robust), (encoding_method, o...\n",
       "197    197  0.950787  [(scaling_method, robust), (encoding_method, o...\n",
       "198    198  0.950707  [(scaling_method, robust), (encoding_method, o...\n",
       "199    199  0.950663  [(scaling_method, robust), (encoding_method, o...\n",
       "\n",
       "[200 rows x 3 columns]"
      ]
     },
     "execution_count": 13,
     "metadata": {},
     "output_type": "execute_result"
    }
   ],
   "source": [
    "trial_number = []\n",
    "score = []\n",
    "parameters = []\n",
    "optuna_dict = {}\n",
    "trials = range(200)\n",
    "\n",
    "for trial in trials:\n",
    "    trial_number.append(study_lasso.get_trials()[trial].number)\n",
    "    score.append(study_lasso.get_trials()[trial].value)\n",
    "    parameters.append(list(study_lasso.get_trials()[trial].params.items()))\n",
    "\n",
    "optuna_dict['Trial'] = trial_number\n",
    "optuna_dict['Score'] = score\n",
    "optuna_dict['Parameters'] = parameters\n",
    "\n",
    "optuna_lasso = pd.DataFrame.from_dict(optuna_dict)\n",
    "optuna_lasso"
   ]
  },
  {
   "cell_type": "code",
   "execution_count": 67,
   "id": "282dfe2c",
   "metadata": {},
   "outputs": [
    {
     "data": {
      "application/vnd.plotly.v1+json": {
       "config": {
        "plotlyServerURL": "https://plot.ly"
       },
       "data": [
        {
         "customdata": [
          [
           [
            [
             "scaling_method",
             "maxabs"
            ],
            [
             "encoding_method",
             "onehot"
            ],
            [
             "drop",
             "first"
            ],
            [
             "alpha",
             0.0003841185967841102
            ]
           ]
          ],
          [
           [
            [
             "scaling_method",
             "maxabs"
            ],
            [
             "encoding_method",
             "ordinal"
            ],
            [
             "alpha",
             0.0008788944418275458
            ]
           ]
          ],
          [
           [
            [
             "scaling_method",
             "robust"
            ],
            [
             "encoding_method",
             "ordinal"
            ],
            [
             "alpha",
             2.11890200594345e-05
            ]
           ]
          ],
          [
           [
            [
             "scaling_method",
             "maxabs"
            ],
            [
             "encoding_method",
             "onehot"
            ],
            [
             "drop",
             "first"
            ],
            [
             "alpha",
             0.0001997032791557414
            ]
           ]
          ],
          [
           [
            [
             "scaling_method",
             "robust"
            ],
            [
             "encoding_method",
             "onehot"
            ],
            [
             "drop",
             "first"
            ],
            [
             "alpha",
             1.5614748605494028e-05
            ]
           ]
          ],
          [
           [
            [
             "scaling_method",
             "robust"
            ],
            [
             "encoding_method",
             "onehot"
            ],
            [
             "drop",
             null
            ],
            [
             "alpha",
             7.955963434862829e-05
            ]
           ]
          ],
          [
           [
            [
             "scaling_method",
             "maxabs"
            ],
            [
             "encoding_method",
             "ordinal"
            ],
            [
             "alpha",
             1.4665959167784572e-05
            ]
           ]
          ],
          [
           [
            [
             "scaling_method",
             "maxabs"
            ],
            [
             "encoding_method",
             "ordinal"
            ],
            [
             "alpha",
             0.000111750098319519
            ]
           ]
          ],
          [
           [
            [
             "scaling_method",
             "robust"
            ],
            [
             "encoding_method",
             "ordinal"
            ],
            [
             "alpha",
             5.810894499113303e-05
            ]
           ]
          ],
          [
           [
            [
             "scaling_method",
             "minmax"
            ],
            [
             "encoding_method",
             "onehot"
            ],
            [
             "drop",
             "first"
            ],
            [
             "alpha",
             9.256346048009733e-05
            ]
           ]
          ],
          [
           [
            [
             "scaling_method",
             "minmax"
            ],
            [
             "encoding_method",
             "onehot"
            ],
            [
             "drop",
             null
            ],
            [
             "alpha",
             3.300094783123156e-05
            ]
           ]
          ],
          [
           [
            [
             "scaling_method",
             "minmax"
            ],
            [
             "encoding_method",
             "onehot"
            ],
            [
             "drop",
             null
            ],
            [
             "alpha",
             7.763131740956906e-05
            ]
           ]
          ],
          [
           [
            [
             "scaling_method",
             "minmax"
            ],
            [
             "encoding_method",
             "onehot"
            ],
            [
             "drop",
             null
            ],
            [
             "alpha",
             0.00017308354348537791
            ]
           ]
          ],
          [
           [
            [
             "scaling_method",
             "minmax"
            ],
            [
             "encoding_method",
             "onehot"
            ],
            [
             "drop",
             "first"
            ],
            [
             "alpha",
             0.00020319297263222104
            ]
           ]
          ],
          [
           [
            [
             "scaling_method",
             "standard"
            ],
            [
             "encoding_method",
             "onehot"
            ],
            [
             "drop",
             null
            ],
            [
             "alpha",
             0.0002409165171517034
            ]
           ]
          ],
          [
           [
            [
             "scaling_method",
             "minmax"
            ],
            [
             "encoding_method",
             "onehot"
            ],
            [
             "drop",
             null
            ],
            [
             "alpha",
             0.000481256404764274
            ]
           ]
          ],
          [
           [
            [
             "scaling_method",
             "minmax"
            ],
            [
             "encoding_method",
             "onehot"
            ],
            [
             "drop",
             "first"
            ],
            [
             "alpha",
             0.0001879139078716462
            ]
           ]
          ],
          [
           [
            [
             "scaling_method",
             "standard"
            ],
            [
             "encoding_method",
             "onehot"
            ],
            [
             "drop",
             null
            ],
            [
             "alpha",
             0.0004042906555245167
            ]
           ]
          ],
          [
           [
            [
             "scaling_method",
             "minmax"
            ],
            [
             "encoding_method",
             "onehot"
            ],
            [
             "drop",
             "first"
            ],
            [
             "alpha",
             0.0009218227581495386
            ]
           ]
          ],
          [
           [
            [
             "scaling_method",
             "minmax"
            ],
            [
             "encoding_method",
             "onehot"
            ],
            [
             "drop",
             "first"
            ],
            [
             "alpha",
             0.00014548211412720207
            ]
           ]
          ],
          [
           [
            [
             "scaling_method",
             "minmax"
            ],
            [
             "encoding_method",
             "onehot"
            ],
            [
             "drop",
             null
            ],
            [
             "alpha",
             4.0668691741889e-05
            ]
           ]
          ],
          [
           [
            [
             "scaling_method",
             "minmax"
            ],
            [
             "encoding_method",
             "onehot"
            ],
            [
             "drop",
             "first"
            ],
            [
             "alpha",
             0.0002605307168105446
            ]
           ]
          ],
          [
           [
            [
             "scaling_method",
             "minmax"
            ],
            [
             "encoding_method",
             "onehot"
            ],
            [
             "drop",
             "first"
            ],
            [
             "alpha",
             0.00014303151048332337
            ]
           ]
          ],
          [
           [
            [
             "scaling_method",
             "minmax"
            ],
            [
             "encoding_method",
             "onehot"
            ],
            [
             "drop",
             "first"
            ],
            [
             "alpha",
             0.00018173122970234352
            ]
           ]
          ],
          [
           [
            [
             "scaling_method",
             "standard"
            ],
            [
             "encoding_method",
             "onehot"
            ],
            [
             "drop",
             "first"
            ],
            [
             "alpha",
             0.0005799084192342355
            ]
           ]
          ],
          [
           [
            [
             "scaling_method",
             "minmax"
            ],
            [
             "encoding_method",
             "onehot"
            ],
            [
             "drop",
             "first"
            ],
            [
             "alpha",
             0.00032052747816874096
            ]
           ]
          ],
          [
           [
            [
             "scaling_method",
             "minmax"
            ],
            [
             "encoding_method",
             "ordinal"
            ],
            [
             "alpha",
             0.00013129644373445254
            ]
           ]
          ],
          [
           [
            [
             "scaling_method",
             "minmax"
            ],
            [
             "encoding_method",
             "onehot"
            ],
            [
             "drop",
             null
            ],
            [
             "alpha",
             0.00018866784606573576
            ]
           ]
          ],
          [
           [
            [
             "scaling_method",
             "minmax"
            ],
            [
             "encoding_method",
             "onehot"
            ],
            [
             "drop",
             null
            ],
            [
             "alpha",
             0.000281619001563278
            ]
           ]
          ],
          [
           [
            [
             "scaling_method",
             "standard"
            ],
            [
             "encoding_method",
             "onehot"
            ],
            [
             "drop",
             null
            ],
            [
             "alpha",
             0.00031447903808740524
            ]
           ]
          ],
          [
           [
            [
             "scaling_method",
             "minmax"
            ],
            [
             "encoding_method",
             "onehot"
            ],
            [
             "drop",
             null
            ],
            [
             "alpha",
             0.0005978406722088378
            ]
           ]
          ],
          [
           [
            [
             "scaling_method",
             "minmax"
            ],
            [
             "encoding_method",
             "onehot"
            ],
            [
             "drop",
             null
            ],
            [
             "alpha",
             0.00025981352825580955
            ]
           ]
          ],
          [
           [
            [
             "scaling_method",
             "minmax"
            ],
            [
             "encoding_method",
             "onehot"
            ],
            [
             "drop",
             null
            ],
            [
             "alpha",
             0.0003566171546653378
            ]
           ]
          ],
          [
           [
            [
             "scaling_method",
             "minmax"
            ],
            [
             "encoding_method",
             "onehot"
            ],
            [
             "drop",
             null
            ],
            [
             "alpha",
             0.0002764827754384708
            ]
           ]
          ],
          [
           [
            [
             "scaling_method",
             "maxabs"
            ],
            [
             "encoding_method",
             "ordinal"
            ],
            [
             "alpha",
             0.00026238751551106417
            ]
           ]
          ],
          [
           [
            [
             "scaling_method",
             "minmax"
            ],
            [
             "encoding_method",
             "onehot"
            ],
            [
             "drop",
             null
            ],
            [
             "alpha",
             0.000697140039503794
            ]
           ]
          ],
          [
           [
            [
             "scaling_method",
             "robust"
            ],
            [
             "encoding_method",
             "onehot"
            ],
            [
             "drop",
             null
            ],
            [
             "alpha",
             0.0004194785406356968
            ]
           ]
          ],
          [
           [
            [
             "scaling_method",
             "robust"
            ],
            [
             "encoding_method",
             "ordinal"
            ],
            [
             "alpha",
             0.0004661792524689388
            ]
           ]
          ],
          [
           [
            [
             "scaling_method",
             "robust"
            ],
            [
             "encoding_method",
             "onehot"
            ],
            [
             "drop",
             null
            ],
            [
             "alpha",
             0.0007075396944052244
            ]
           ]
          ],
          [
           [
            [
             "scaling_method",
             "robust"
            ],
            [
             "encoding_method",
             "onehot"
            ],
            [
             "drop",
             null
            ],
            [
             "alpha",
             0.0004524942388336976
            ]
           ]
          ],
          [
           [
            [
             "scaling_method",
             "robust"
            ],
            [
             "encoding_method",
             "ordinal"
            ],
            [
             "alpha",
             0.000428697906041505
            ]
           ]
          ],
          [
           [
            [
             "scaling_method",
             "robust"
            ],
            [
             "encoding_method",
             "onehot"
            ],
            [
             "drop",
             null
            ],
            [
             "alpha",
             0.00022621629368611582
            ]
           ]
          ],
          [
           [
            [
             "scaling_method",
             "robust"
            ],
            [
             "encoding_method",
             "onehot"
            ],
            [
             "drop",
             null
            ],
            [
             "alpha",
             1.0416308531520012e-05
            ]
           ]
          ],
          [
           [
            [
             "scaling_method",
             "robust"
            ],
            [
             "encoding_method",
             "onehot"
            ],
            [
             "drop",
             null
            ],
            [
             "alpha",
             0.00022793350665012898
            ]
           ]
          ],
          [
           [
            [
             "scaling_method",
             "robust"
            ],
            [
             "encoding_method",
             "onehot"
            ],
            [
             "drop",
             null
            ],
            [
             "alpha",
             0.0005688210021060937
            ]
           ]
          ],
          [
           [
            [
             "scaling_method",
             "robust"
            ],
            [
             "encoding_method",
             "onehot"
            ],
            [
             "drop",
             null
            ],
            [
             "alpha",
             0.0003649761025040236
            ]
           ]
          ],
          [
           [
            [
             "scaling_method",
             "robust"
            ],
            [
             "encoding_method",
             "onehot"
            ],
            [
             "drop",
             null
            ],
            [
             "alpha",
             0.0003884582051924655
            ]
           ]
          ],
          [
           [
            [
             "scaling_method",
             "robust"
            ],
            [
             "encoding_method",
             "onehot"
            ],
            [
             "drop",
             null
            ],
            [
             "alpha",
             0.0003589201325166769
            ]
           ]
          ],
          [
           [
            [
             "scaling_method",
             "robust"
            ],
            [
             "encoding_method",
             "ordinal"
            ],
            [
             "alpha",
             0.0007917367148203394
            ]
           ]
          ],
          [
           [
            [
             "scaling_method",
             "robust"
            ],
            [
             "encoding_method",
             "onehot"
            ],
            [
             "drop",
             null
            ],
            [
             "alpha",
             0.0003632891366509763
            ]
           ]
          ],
          [
           [
            [
             "scaling_method",
             "robust"
            ],
            [
             "encoding_method",
             "onehot"
            ],
            [
             "drop",
             null
            ],
            [
             "alpha",
             0.0003602156217105562
            ]
           ]
          ],
          [
           [
            [
             "scaling_method",
             "robust"
            ],
            [
             "encoding_method",
             "onehot"
            ],
            [
             "drop",
             null
            ],
            [
             "alpha",
             0.0003416125278354601
            ]
           ]
          ],
          [
           [
            [
             "scaling_method",
             "robust"
            ],
            [
             "encoding_method",
             "onehot"
            ],
            [
             "drop",
             null
            ],
            [
             "alpha",
             0.0003226079630554458
            ]
           ]
          ],
          [
           [
            [
             "scaling_method",
             "robust"
            ],
            [
             "encoding_method",
             "onehot"
            ],
            [
             "drop",
             null
            ],
            [
             "alpha",
             0.0003194949733052064
            ]
           ]
          ],
          [
           [
            [
             "scaling_method",
             "robust"
            ],
            [
             "encoding_method",
             "onehot"
            ],
            [
             "drop",
             null
            ],
            [
             "alpha",
             0.0005425665311480494
            ]
           ]
          ],
          [
           [
            [
             "scaling_method",
             "robust"
            ],
            [
             "encoding_method",
             "onehot"
            ],
            [
             "drop",
             null
            ],
            [
             "alpha",
             0.0003157116680723717
            ]
           ]
          ],
          [
           [
            [
             "scaling_method",
             "robust"
            ],
            [
             "encoding_method",
             "onehot"
            ],
            [
             "drop",
             null
            ],
            [
             "alpha",
             0.0003343356528483817
            ]
           ]
          ],
          [
           [
            [
             "scaling_method",
             "maxabs"
            ],
            [
             "encoding_method",
             "onehot"
            ],
            [
             "drop",
             null
            ],
            [
             "alpha",
             0.00012179803508546976
            ]
           ]
          ],
          [
           [
            [
             "scaling_method",
             "robust"
            ],
            [
             "encoding_method",
             "onehot"
            ],
            [
             "drop",
             null
            ],
            [
             "alpha",
             0.0001601577658072079
            ]
           ]
          ],
          [
           [
            [
             "scaling_method",
             "robust"
            ],
            [
             "encoding_method",
             "onehot"
            ],
            [
             "drop",
             null
            ],
            [
             "alpha",
             9.629499098258925e-05
            ]
           ]
          ],
          [
           [
            [
             "scaling_method",
             "robust"
            ],
            [
             "encoding_method",
             "onehot"
            ],
            [
             "drop",
             null
            ],
            [
             "alpha",
             7.021470598505854e-05
            ]
           ]
          ],
          [
           [
            [
             "scaling_method",
             "robust"
            ],
            [
             "encoding_method",
             "onehot"
            ],
            [
             "drop",
             null
            ],
            [
             "alpha",
             0.00032221250618202343
            ]
           ]
          ],
          [
           [
            [
             "scaling_method",
             "robust"
            ],
            [
             "encoding_method",
             "onehot"
            ],
            [
             "drop",
             null
            ],
            [
             "alpha",
             0.00030671293122819346
            ]
           ]
          ],
          [
           [
            [
             "scaling_method",
             "robust"
            ],
            [
             "encoding_method",
             "onehot"
            ],
            [
             "drop",
             null
            ],
            [
             "alpha",
             0.0002997971169775004
            ]
           ]
          ],
          [
           [
            [
             "scaling_method",
             "robust"
            ],
            [
             "encoding_method",
             "onehot"
            ],
            [
             "drop",
             null
            ],
            [
             "alpha",
             0.00021410738794319995
            ]
           ]
          ],
          [
           [
            [
             "scaling_method",
             "robust"
            ],
            [
             "encoding_method",
             "onehot"
            ],
            [
             "drop",
             null
            ],
            [
             "alpha",
             0.0003143129567338659
            ]
           ]
          ],
          [
           [
            [
             "scaling_method",
             "standard"
            ],
            [
             "encoding_method",
             "onehot"
            ],
            [
             "drop",
             null
            ],
            [
             "alpha",
             0.00028607239197365623
            ]
           ]
          ],
          [
           [
            [
             "scaling_method",
             "maxabs"
            ],
            [
             "encoding_method",
             "ordinal"
            ],
            [
             "alpha",
             0.0005160358767471706
            ]
           ]
          ],
          [
           [
            [
             "scaling_method",
             "robust"
            ],
            [
             "encoding_method",
             "onehot"
            ],
            [
             "drop",
             null
            ],
            [
             "alpha",
             0.00016148712756672363
            ]
           ]
          ],
          [
           [
            [
             "scaling_method",
             "robust"
            ],
            [
             "encoding_method",
             "onehot"
            ],
            [
             "drop",
             null
            ],
            [
             "alpha",
             0.0003042461422326107
            ]
           ]
          ],
          [
           [
            [
             "scaling_method",
             "robust"
            ],
            [
             "encoding_method",
             "onehot"
            ],
            [
             "drop",
             null
            ],
            [
             "alpha",
             0.00020952583160049909
            ]
           ]
          ],
          [
           [
            [
             "scaling_method",
             "robust"
            ],
            [
             "encoding_method",
             "onehot"
            ],
            [
             "drop",
             null
            ],
            [
             "alpha",
             0.0002448852198231612
            ]
           ]
          ],
          [
           [
            [
             "scaling_method",
             "robust"
            ],
            [
             "encoding_method",
             "onehot"
            ],
            [
             "drop",
             null
            ],
            [
             "alpha",
             0.0002948689373386942
            ]
           ]
          ],
          [
           [
            [
             "scaling_method",
             "robust"
            ],
            [
             "encoding_method",
             "onehot"
            ],
            [
             "drop",
             null
            ],
            [
             "alpha",
             2.76076317111022e-05
            ]
           ]
          ],
          [
           [
            [
             "scaling_method",
             "robust"
            ],
            [
             "encoding_method",
             "onehot"
            ],
            [
             "drop",
             null
            ],
            [
             "alpha",
             0.00029785107381510016
            ]
           ]
          ],
          [
           [
            [
             "scaling_method",
             "robust"
            ],
            [
             "encoding_method",
             "onehot"
            ],
            [
             "drop",
             null
            ],
            [
             "alpha",
             0.0004994052225332545
            ]
           ]
          ],
          [
           [
            [
             "scaling_method",
             "standard"
            ],
            [
             "encoding_method",
             "onehot"
            ],
            [
             "drop",
             null
            ],
            [
             "alpha",
             0.000648591770527666
            ]
           ]
          ],
          [
           [
            [
             "scaling_method",
             "robust"
            ],
            [
             "encoding_method",
             "onehot"
            ],
            [
             "drop",
             "first"
            ],
            [
             "alpha",
             0.00041703628264054717
            ]
           ]
          ],
          [
           [
            [
             "scaling_method",
             "robust"
            ],
            [
             "encoding_method",
             "onehot"
            ],
            [
             "drop",
             null
            ],
            [
             "alpha",
             0.00018115432331541382
            ]
           ]
          ],
          [
           [
            [
             "scaling_method",
             "maxabs"
            ],
            [
             "encoding_method",
             "ordinal"
            ],
            [
             "alpha",
             0.0002409371627783921
            ]
           ]
          ],
          [
           [
            [
             "scaling_method",
             "robust"
            ],
            [
             "encoding_method",
             "onehot"
            ],
            [
             "drop",
             null
            ],
            [
             "alpha",
             0.00031282834144253475
            ]
           ]
          ],
          [
           [
            [
             "scaling_method",
             "robust"
            ],
            [
             "encoding_method",
             "onehot"
            ],
            [
             "drop",
             null
            ],
            [
             "alpha",
             0.0003018015349345533
            ]
           ]
          ],
          [
           [
            [
             "scaling_method",
             "robust"
            ],
            [
             "encoding_method",
             "onehot"
            ],
            [
             "drop",
             null
            ],
            [
             "alpha",
             0.0002630379925515237
            ]
           ]
          ],
          [
           [
            [
             "scaling_method",
             "robust"
            ],
            [
             "encoding_method",
             "onehot"
            ],
            [
             "drop",
             null
            ],
            [
             "alpha",
             0.0004070480363269357
            ]
           ]
          ],
          [
           [
            [
             "scaling_method",
             "robust"
            ],
            [
             "encoding_method",
             "onehot"
            ],
            [
             "drop",
             null
            ],
            [
             "alpha",
             0.000460642915403025
            ]
           ]
          ],
          [
           [
            [
             "scaling_method",
             "robust"
            ],
            [
             "encoding_method",
             "onehot"
            ],
            [
             "drop",
             null
            ],
            [
             "alpha",
             0.0002048926321891988
            ]
           ]
          ],
          [
           [
            [
             "scaling_method",
             "robust"
            ],
            [
             "encoding_method",
             "onehot"
            ],
            [
             "drop",
             null
            ],
            [
             "alpha",
             0.0009792585169417923
            ]
           ]
          ],
          [
           [
            [
             "scaling_method",
             "robust"
            ],
            [
             "encoding_method",
             "onehot"
            ],
            [
             "drop",
             "first"
            ],
            [
             "alpha",
             0.0003099589066571107
            ]
           ]
          ],
          [
           [
            [
             "scaling_method",
             "robust"
            ],
            [
             "encoding_method",
             "onehot"
            ],
            [
             "drop",
             null
            ],
            [
             "alpha",
             0.00024009518797386313
            ]
           ]
          ],
          [
           [
            [
             "scaling_method",
             "standard"
            ],
            [
             "encoding_method",
             "onehot"
            ],
            [
             "drop",
             null
            ],
            [
             "alpha",
             0.0002743285775338739
            ]
           ]
          ],
          [
           [
            [
             "scaling_method",
             "robust"
            ],
            [
             "encoding_method",
             "onehot"
            ],
            [
             "drop",
             null
            ],
            [
             "alpha",
             0.0003976475622923357
            ]
           ]
          ],
          [
           [
            [
             "scaling_method",
             "robust"
            ],
            [
             "encoding_method",
             "onehot"
            ],
            [
             "drop",
             null
            ],
            [
             "alpha",
             0.0003273096163541739
            ]
           ]
          ],
          [
           [
            [
             "scaling_method",
             "robust"
            ],
            [
             "encoding_method",
             "onehot"
            ],
            [
             "drop",
             null
            ],
            [
             "alpha",
             0.00029791056152727924
            ]
           ]
          ],
          [
           [
            [
             "scaling_method",
             "robust"
            ],
            [
             "encoding_method",
             "onehot"
            ],
            [
             "drop",
             null
            ],
            [
             "alpha",
             0.0002602166836071906
            ]
           ]
          ],
          [
           [
            [
             "scaling_method",
             "robust"
            ],
            [
             "encoding_method",
             "onehot"
            ],
            [
             "drop",
             null
            ],
            [
             "alpha",
             0.0003812388286766877
            ]
           ]
          ],
          [
           [
            [
             "scaling_method",
             "robust"
            ],
            [
             "encoding_method",
             "onehot"
            ],
            [
             "drop",
             null
            ],
            [
             "alpha",
             0.00019154736229708619
            ]
           ]
          ],
          [
           [
            [
             "scaling_method",
             "robust"
            ],
            [
             "encoding_method",
             "onehot"
            ],
            [
             "drop",
             null
            ],
            [
             "alpha",
             0.0003385680400143029
            ]
           ]
          ],
          [
           [
            [
             "scaling_method",
             "robust"
            ],
            [
             "encoding_method",
             "ordinal"
            ],
            [
             "alpha",
             0.00047044666576545076
            ]
           ]
          ],
          [
           [
            [
             "scaling_method",
             "maxabs"
            ],
            [
             "encoding_method",
             "onehot"
            ],
            [
             "drop",
             null
            ],
            [
             "alpha",
             0.00021712928836636005
            ]
           ]
          ],
          [
           [
            [
             "scaling_method",
             "robust"
            ],
            [
             "encoding_method",
             "onehot"
            ],
            [
             "drop",
             null
            ],
            [
             "alpha",
             0.0002881626250367436
            ]
           ]
          ],
          [
           [
            [
             "scaling_method",
             "robust"
            ],
            [
             "encoding_method",
             "onehot"
            ],
            [
             "drop",
             "first"
            ],
            [
             "alpha",
             0.0004389517417116825
            ]
           ]
          ],
          [
           [
            [
             "scaling_method",
             "robust"
            ],
            [
             "encoding_method",
             "onehot"
            ],
            [
             "drop",
             null
            ],
            [
             "alpha",
             0.0003129671054994815
            ]
           ]
          ],
          [
           [
            [
             "scaling_method",
             "robust"
            ],
            [
             "encoding_method",
             "onehot"
            ],
            [
             "drop",
             null
            ],
            [
             "alpha",
             0.0002944177326821869
            ]
           ]
          ],
          [
           [
            [
             "scaling_method",
             "robust"
            ],
            [
             "encoding_method",
             "onehot"
            ],
            [
             "drop",
             null
            ],
            [
             "alpha",
             0.0003628778963970767
            ]
           ]
          ],
          [
           [
            [
             "scaling_method",
             "robust"
            ],
            [
             "encoding_method",
             "onehot"
            ],
            [
             "drop",
             null
            ],
            [
             "alpha",
             0.00024148808855003513
            ]
           ]
          ],
          [
           [
            [
             "scaling_method",
             "robust"
            ],
            [
             "encoding_method",
             "onehot"
            ],
            [
             "drop",
             null
            ],
            [
             "alpha",
             0.0003234981807770743
            ]
           ]
          ],
          [
           [
            [
             "scaling_method",
             "robust"
            ],
            [
             "encoding_method",
             "onehot"
            ],
            [
             "drop",
             null
            ],
            [
             "alpha",
             0.0003263078718151275
            ]
           ]
          ],
          [
           [
            [
             "scaling_method",
             "robust"
            ],
            [
             "encoding_method",
             "onehot"
            ],
            [
             "drop",
             null
            ],
            [
             "alpha",
             0.0003843739988895113
            ]
           ]
          ],
          [
           [
            [
             "scaling_method",
             "robust"
            ],
            [
             "encoding_method",
             "onehot"
            ],
            [
             "drop",
             null
            ],
            [
             "alpha",
             0.0002598990121292542
            ]
           ]
          ],
          [
           [
            [
             "scaling_method",
             "standard"
            ],
            [
             "encoding_method",
             "onehot"
            ],
            [
             "drop",
             null
            ],
            [
             "alpha",
             0.0005278246479101893
            ]
           ]
          ],
          [
           [
            [
             "scaling_method",
             "robust"
            ],
            [
             "encoding_method",
             "ordinal"
            ],
            [
             "alpha",
             0.0001562493004654706
            ]
           ]
          ],
          [
           [
            [
             "scaling_method",
             "robust"
            ],
            [
             "encoding_method",
             "onehot"
            ],
            [
             "drop",
             null
            ],
            [
             "alpha",
             5.362943757690868e-05
            ]
           ]
          ],
          [
           [
            [
             "scaling_method",
             "robust"
            ],
            [
             "encoding_method",
             "onehot"
            ],
            [
             "drop",
             null
            ],
            [
             "alpha",
             0.00028929314118628113
            ]
           ]
          ],
          [
           [
            [
             "scaling_method",
             "robust"
            ],
            [
             "encoding_method",
             "onehot"
            ],
            [
             "drop",
             null
            ],
            [
             "alpha",
             0.0003438187128246934
            ]
           ]
          ],
          [
           [
            [
             "scaling_method",
             "robust"
            ],
            [
             "encoding_method",
             "onehot"
            ],
            [
             "drop",
             null
            ],
            [
             "alpha",
             0.00023085769356344436
            ]
           ]
          ],
          [
           [
            [
             "scaling_method",
             "robust"
            ],
            [
             "encoding_method",
             "onehot"
            ],
            [
             "drop",
             null
            ],
            [
             "alpha",
             0.0004273231303255645
            ]
           ]
          ],
          [
           [
            [
             "scaling_method",
             "robust"
            ],
            [
             "encoding_method",
             "onehot"
            ],
            [
             "drop",
             null
            ],
            [
             "alpha",
             0.00031051473514485934
            ]
           ]
          ],
          [
           [
            [
             "scaling_method",
             "robust"
            ],
            [
             "encoding_method",
             "onehot"
            ],
            [
             "drop",
             null
            ],
            [
             "alpha",
             0.00027025692985518034
            ]
           ]
          ],
          [
           [
            [
             "scaling_method",
             "maxabs"
            ],
            [
             "encoding_method",
             "onehot"
            ],
            [
             "drop",
             null
            ],
            [
             "alpha",
             0.00019922733705880056
            ]
           ]
          ],
          [
           [
            [
             "scaling_method",
             "robust"
            ],
            [
             "encoding_method",
             "onehot"
            ],
            [
             "drop",
             null
            ],
            [
             "alpha",
             0.0003868463919510521
            ]
           ]
          ],
          [
           [
            [
             "scaling_method",
             "robust"
            ],
            [
             "encoding_method",
             "onehot"
            ],
            [
             "drop",
             "first"
            ],
            [
             "alpha",
             0.00033722277923565536
            ]
           ]
          ],
          [
           [
            [
             "scaling_method",
             "robust"
            ],
            [
             "encoding_method",
             "onehot"
            ],
            [
             "drop",
             null
            ],
            [
             "alpha",
             0.0002922281140543768
            ]
           ]
          ],
          [
           [
            [
             "scaling_method",
             "robust"
            ],
            [
             "encoding_method",
             "onehot"
            ],
            [
             "drop",
             null
            ],
            [
             "alpha",
             0.0002554335225312177
            ]
           ]
          ],
          [
           [
            [
             "scaling_method",
             "robust"
            ],
            [
             "encoding_method",
             "onehot"
            ],
            [
             "drop",
             null
            ],
            [
             "alpha",
             0.0003137024887393732
            ]
           ]
          ],
          [
           [
            [
             "scaling_method",
             "robust"
            ],
            [
             "encoding_method",
             "onehot"
            ],
            [
             "drop",
             null
            ],
            [
             "alpha",
             0.00021948551363737593
            ]
           ]
          ],
          [
           [
            [
             "scaling_method",
             "robust"
            ],
            [
             "encoding_method",
             "onehot"
            ],
            [
             "drop",
             null
            ],
            [
             "alpha",
             0.0003115081647262303
            ]
           ]
          ],
          [
           [
            [
             "scaling_method",
             "robust"
            ],
            [
             "encoding_method",
             "onehot"
            ],
            [
             "drop",
             null
            ],
            [
             "alpha",
             0.00035208979982259524
            ]
           ]
          ],
          [
           [
            [
             "scaling_method",
             "robust"
            ],
            [
             "encoding_method",
             "onehot"
            ],
            [
             "drop",
             null
            ],
            [
             "alpha",
             0.0004115573810655325
            ]
           ]
          ],
          [
           [
            [
             "scaling_method",
             "robust"
            ],
            [
             "encoding_method",
             "onehot"
            ],
            [
             "drop",
             null
            ],
            [
             "alpha",
             0.00027529213333398134
            ]
           ]
          ],
          [
           [
            [
             "scaling_method",
             "robust"
            ],
            [
             "encoding_method",
             "onehot"
            ],
            [
             "drop",
             null
            ],
            [
             "alpha",
             0.00036594825469289405
            ]
           ]
          ],
          [
           [
            [
             "scaling_method",
             "robust"
            ],
            [
             "encoding_method",
             "ordinal"
            ],
            [
             "alpha",
             0.000600881914059148
            ]
           ]
          ],
          [
           [
            [
             "scaling_method",
             "robust"
            ],
            [
             "encoding_method",
             "onehot"
            ],
            [
             "drop",
             null
            ],
            [
             "alpha",
             0.0003089939660022847
            ]
           ]
          ],
          [
           [
            [
             "scaling_method",
             "robust"
            ],
            [
             "encoding_method",
             "onehot"
            ],
            [
             "drop",
             null
            ],
            [
             "alpha",
             0.0003143876293867897
            ]
           ]
          ],
          [
           [
            [
             "scaling_method",
             "robust"
            ],
            [
             "encoding_method",
             "onehot"
            ],
            [
             "drop",
             null
            ],
            [
             "alpha",
             0.00031054377015561575
            ]
           ]
          ],
          [
           [
            [
             "scaling_method",
             "robust"
            ],
            [
             "encoding_method",
             "onehot"
            ],
            [
             "drop",
             null
            ],
            [
             "alpha",
             0.000252784311738564
            ]
           ]
          ],
          [
           [
            [
             "scaling_method",
             "robust"
            ],
            [
             "encoding_method",
             "onehot"
            ],
            [
             "drop",
             null
            ],
            [
             "alpha",
             0.00028084812454080274
            ]
           ]
          ],
          [
           [
            [
             "scaling_method",
             "standard"
            ],
            [
             "encoding_method",
             "onehot"
            ],
            [
             "drop",
             null
            ],
            [
             "alpha",
             0.00023464373474824888
            ]
           ]
          ],
          [
           [
            [
             "scaling_method",
             "robust"
            ],
            [
             "encoding_method",
             "onehot"
            ],
            [
             "drop",
             null
            ],
            [
             "alpha",
             0.0003425629202198705
            ]
           ]
          ],
          [
           [
            [
             "scaling_method",
             "robust"
            ],
            [
             "encoding_method",
             "onehot"
            ],
            [
             "drop",
             null
            ],
            [
             "alpha",
             0.0004575850632451227
            ]
           ]
          ],
          [
           [
            [
             "scaling_method",
             "robust"
            ],
            [
             "encoding_method",
             "onehot"
            ],
            [
             "drop",
             null
            ],
            [
             "alpha",
             0.0003879128716621237
            ]
           ]
          ],
          [
           [
            [
             "scaling_method",
             "robust"
            ],
            [
             "encoding_method",
             "onehot"
            ],
            [
             "drop",
             null
            ],
            [
             "alpha",
             0.0002977568179798746
            ]
           ]
          ],
          [
           [
            [
             "scaling_method",
             "robust"
            ],
            [
             "encoding_method",
             "onehot"
            ],
            [
             "drop",
             null
            ],
            [
             "alpha",
             0.00030306994167010473
            ]
           ]
          ],
          [
           [
            [
             "scaling_method",
             "robust"
            ],
            [
             "encoding_method",
             "onehot"
            ],
            [
             "drop",
             null
            ],
            [
             "alpha",
             0.00032639006129336705
            ]
           ]
          ],
          [
           [
            [
             "scaling_method",
             "robust"
            ],
            [
             "encoding_method",
             "onehot"
            ],
            [
             "drop",
             null
            ],
            [
             "alpha",
             0.00026767805295172285
            ]
           ]
          ],
          [
           [
            [
             "scaling_method",
             "robust"
            ],
            [
             "encoding_method",
             "onehot"
            ],
            [
             "drop",
             null
            ],
            [
             "alpha",
             0.0003030300963289254
            ]
           ]
          ],
          [
           [
            [
             "scaling_method",
             "robust"
            ],
            [
             "encoding_method",
             "onehot"
            ],
            [
             "drop",
             null
            ],
            [
             "alpha",
             0.0003859190411166643
            ]
           ]
          ],
          [
           [
            [
             "scaling_method",
             "robust"
            ],
            [
             "encoding_method",
             "onehot"
            ],
            [
             "drop",
             null
            ],
            [
             "alpha",
             0.00034111430139248036
            ]
           ]
          ],
          [
           [
            [
             "scaling_method",
             "maxabs"
            ],
            [
             "encoding_method",
             "onehot"
            ],
            [
             "drop",
             "first"
            ],
            [
             "alpha",
             0.00010543469129415645
            ]
           ]
          ],
          [
           [
            [
             "scaling_method",
             "robust"
            ],
            [
             "encoding_method",
             "onehot"
            ],
            [
             "drop",
             null
            ],
            [
             "alpha",
             0.0004912134759936166
            ]
           ]
          ],
          [
           [
            [
             "scaling_method",
             "robust"
            ],
            [
             "encoding_method",
             "onehot"
            ],
            [
             "drop",
             null
            ],
            [
             "alpha",
             1.895259818006878e-05
            ]
           ]
          ],
          [
           [
            [
             "scaling_method",
             "robust"
            ],
            [
             "encoding_method",
             "onehot"
            ],
            [
             "drop",
             null
            ],
            [
             "alpha",
             0.00024567849580295803
            ]
           ]
          ],
          [
           [
            [
             "scaling_method",
             "robust"
            ],
            [
             "encoding_method",
             "onehot"
            ],
            [
             "drop",
             null
            ],
            [
             "alpha",
             0.00029835874328685544
            ]
           ]
          ],
          [
           [
            [
             "scaling_method",
             "robust"
            ],
            [
             "encoding_method",
             "onehot"
            ],
            [
             "drop",
             null
            ],
            [
             "alpha",
             0.000309219434217836
            ]
           ]
          ],
          [
           [
            [
             "scaling_method",
             "robust"
            ],
            [
             "encoding_method",
             "onehot"
            ],
            [
             "drop",
             null
            ],
            [
             "alpha",
             0.00035973232112473995
            ]
           ]
          ],
          [
           [
            [
             "scaling_method",
             "robust"
            ],
            [
             "encoding_method",
             "onehot"
            ],
            [
             "drop",
             null
            ],
            [
             "alpha",
             0.0003128075024195709
            ]
           ]
          ],
          [
           [
            [
             "scaling_method",
             "robust"
            ],
            [
             "encoding_method",
             "onehot"
            ],
            [
             "drop",
             null
            ],
            [
             "alpha",
             0.0002730548075949526
            ]
           ]
          ],
          [
           [
            [
             "scaling_method",
             "robust"
            ],
            [
             "encoding_method",
             "onehot"
            ],
            [
             "drop",
             null
            ],
            [
             "alpha",
             0.0004382206548600625
            ]
           ]
          ],
          [
           [
            [
             "scaling_method",
             "robust"
            ],
            [
             "encoding_method",
             "onehot"
            ],
            [
             "drop",
             null
            ],
            [
             "alpha",
             0.0002243883463732737
            ]
           ]
          ],
          [
           [
            [
             "scaling_method",
             "robust"
            ],
            [
             "encoding_method",
             "ordinal"
            ],
            [
             "alpha",
             0.0003268601444531522
            ]
           ]
          ],
          [
           [
            [
             "scaling_method",
             "minmax"
            ],
            [
             "encoding_method",
             "onehot"
            ],
            [
             "drop",
             null
            ],
            [
             "alpha",
             0.0003666999084980587
            ]
           ]
          ],
          [
           [
            [
             "scaling_method",
             "robust"
            ],
            [
             "encoding_method",
             "onehot"
            ],
            [
             "drop",
             null
            ],
            [
             "alpha",
             0.0002863626530297679
            ]
           ]
          ],
          [
           [
            [
             "scaling_method",
             "robust"
            ],
            [
             "encoding_method",
             "onehot"
            ],
            [
             "drop",
             null
            ],
            [
             "alpha",
             0.0002994648942310246
            ]
           ]
          ],
          [
           [
            [
             "scaling_method",
             "robust"
            ],
            [
             "encoding_method",
             "onehot"
            ],
            [
             "drop",
             null
            ],
            [
             "alpha",
             0.0002620675658350161
            ]
           ]
          ],
          [
           [
            [
             "scaling_method",
             "robust"
            ],
            [
             "encoding_method",
             "onehot"
            ],
            [
             "drop",
             null
            ],
            [
             "alpha",
             0.000311037014044374
            ]
           ]
          ],
          [
           [
            [
             "scaling_method",
             "robust"
            ],
            [
             "encoding_method",
             "onehot"
            ],
            [
             "drop",
             null
            ],
            [
             "alpha",
             0.00029557098299588943
            ]
           ]
          ],
          [
           [
            [
             "scaling_method",
             "robust"
            ],
            [
             "encoding_method",
             "onehot"
            ],
            [
             "drop",
             null
            ],
            [
             "alpha",
             0.0004055097410820075
            ]
           ]
          ],
          [
           [
            [
             "scaling_method",
             "robust"
            ],
            [
             "encoding_method",
             "onehot"
            ],
            [
             "drop",
             null
            ],
            [
             "alpha",
             0.0002477158672176745
            ]
           ]
          ],
          [
           [
            [
             "scaling_method",
             "standard"
            ],
            [
             "encoding_method",
             "onehot"
            ],
            [
             "drop",
             null
            ],
            [
             "alpha",
             0.00034555749335878674
            ]
           ]
          ],
          [
           [
            [
             "scaling_method",
             "robust"
            ],
            [
             "encoding_method",
             "onehot"
            ],
            [
             "drop",
             null
            ],
            [
             "alpha",
             0.0003074217999600511
            ]
           ]
          ],
          [
           [
            [
             "scaling_method",
             "robust"
            ],
            [
             "encoding_method",
             "onehot"
            ],
            [
             "drop",
             null
            ],
            [
             "alpha",
             0.00028652463527571346
            ]
           ]
          ],
          [
           [
            [
             "scaling_method",
             "robust"
            ],
            [
             "encoding_method",
             "onehot"
            ],
            [
             "drop",
             null
            ],
            [
             "alpha",
             0.000213415231324997
            ]
           ]
          ],
          [
           [
            [
             "scaling_method",
             "robust"
            ],
            [
             "encoding_method",
             "onehot"
            ],
            [
             "drop",
             null
            ],
            [
             "alpha",
             0.00031479207400887004
            ]
           ]
          ],
          [
           [
            [
             "scaling_method",
             "robust"
            ],
            [
             "encoding_method",
             "onehot"
            ],
            [
             "drop",
             null
            ],
            [
             "alpha",
             0.0003584022566706243
            ]
           ]
          ],
          [
           [
            [
             "scaling_method",
             "robust"
            ],
            [
             "encoding_method",
             "onehot"
            ],
            [
             "drop",
             null
            ],
            [
             "alpha",
             0.00027302504267207294
            ]
           ]
          ],
          [
           [
            [
             "scaling_method",
             "robust"
            ],
            [
             "encoding_method",
             "onehot"
            ],
            [
             "drop",
             null
            ],
            [
             "alpha",
             0.00032595554368890315
            ]
           ]
          ],
          [
           [
            [
             "scaling_method",
             "robust"
            ],
            [
             "encoding_method",
             "onehot"
            ],
            [
             "drop",
             "first"
            ],
            [
             "alpha",
             0.0003000082597888178
            ]
           ]
          ],
          [
           [
            [
             "scaling_method",
             "robust"
            ],
            [
             "encoding_method",
             "onehot"
            ],
            [
             "drop",
             null
            ],
            [
             "alpha",
             0.00025052280364583845
            ]
           ]
          ],
          [
           [
            [
             "scaling_method",
             "robust"
            ],
            [
             "encoding_method",
             "onehot"
            ],
            [
             "drop",
             null
            ],
            [
             "alpha",
             0.0003576620170855338
            ]
           ]
          ],
          [
           [
            [
             "scaling_method",
             "robust"
            ],
            [
             "encoding_method",
             "onehot"
            ],
            [
             "drop",
             null
            ],
            [
             "alpha",
             0.00038971466314564944
            ]
           ]
          ],
          [
           [
            [
             "scaling_method",
             "robust"
            ],
            [
             "encoding_method",
             "onehot"
            ],
            [
             "drop",
             null
            ],
            [
             "alpha",
             0.00030733929099045147
            ]
           ]
          ],
          [
           [
            [
             "scaling_method",
             "maxabs"
            ],
            [
             "encoding_method",
             "onehot"
            ],
            [
             "drop",
             null
            ],
            [
             "alpha",
             0.00023291034319846825
            ]
           ]
          ],
          [
           [
            [
             "scaling_method",
             "robust"
            ],
            [
             "encoding_method",
             "onehot"
            ],
            [
             "drop",
             null
            ],
            [
             "alpha",
             0.00030900165950810394
            ]
           ]
          ],
          [
           [
            [
             "scaling_method",
             "robust"
            ],
            [
             "encoding_method",
             "onehot"
            ],
            [
             "drop",
             null
            ],
            [
             "alpha",
             0.00027960730077401336
            ]
           ]
          ],
          [
           [
            [
             "scaling_method",
             "robust"
            ],
            [
             "encoding_method",
             "onehot"
            ],
            [
             "drop",
             null
            ],
            [
             "alpha",
             0.00031499471847225996
            ]
           ]
          ],
          [
           [
            [
             "scaling_method",
             "robust"
            ],
            [
             "encoding_method",
             "onehot"
            ],
            [
             "drop",
             null
            ],
            [
             "alpha",
             0.00029462473125822493
            ]
           ]
          ],
          [
           [
            [
             "scaling_method",
             "robust"
            ],
            [
             "encoding_method",
             "onehot"
            ],
            [
             "drop",
             null
            ],
            [
             "alpha",
             0.0002615398805526267
            ]
           ]
          ],
          [
           [
            [
             "scaling_method",
             "robust"
            ],
            [
             "encoding_method",
             "onehot"
            ],
            [
             "drop",
             null
            ],
            [
             "alpha",
             0.00033521467533611816
            ]
           ]
          ],
          [
           [
            [
             "scaling_method",
             "robust"
            ],
            [
             "encoding_method",
             "onehot"
            ],
            [
             "drop",
             null
            ],
            [
             "alpha",
             0.00030164694599416856
            ]
           ]
          ],
          [
           [
            [
             "scaling_method",
             "robust"
            ],
            [
             "encoding_method",
             "onehot"
            ],
            [
             "drop",
             null
            ],
            [
             "alpha",
             0.00037924353202656
            ]
           ]
          ],
          [
           [
            [
             "scaling_method",
             "robust"
            ],
            [
             "encoding_method",
             "ordinal"
            ],
            [
             "alpha",
             0.0003158726527710361
            ]
           ]
          ],
          [
           [
            [
             "scaling_method",
             "robust"
            ],
            [
             "encoding_method",
             "onehot"
            ],
            [
             "drop",
             null
            ],
            [
             "alpha",
             0.0002701256402938301
            ]
           ]
          ],
          [
           [
            [
             "scaling_method",
             "robust"
            ],
            [
             "encoding_method",
             "onehot"
            ],
            [
             "drop",
             null
            ],
            [
             "alpha",
             0.0002998500704054179
            ]
           ]
          ],
          [
           [
            [
             "scaling_method",
             "robust"
            ],
            [
             "encoding_method",
             "onehot"
            ],
            [
             "drop",
             null
            ],
            [
             "alpha",
             8.090345110127975e-05
            ]
           ]
          ],
          [
           [
            [
             "scaling_method",
             "robust"
            ],
            [
             "encoding_method",
             "onehot"
            ],
            [
             "drop",
             null
            ],
            [
             "alpha",
             0.0003430775974623254
            ]
           ]
          ],
          [
           [
            [
             "scaling_method",
             "robust"
            ],
            [
             "encoding_method",
             "onehot"
            ],
            [
             "drop",
             null
            ],
            [
             "alpha",
             0.0003159136634418241
            ]
           ]
          ],
          [
           [
            [
             "scaling_method",
             "minmax"
            ],
            [
             "encoding_method",
             "onehot"
            ],
            [
             "drop",
             null
            ],
            [
             "alpha",
             0.00031022287606595846
            ]
           ]
          ],
          [
           [
            [
             "scaling_method",
             "robust"
            ],
            [
             "encoding_method",
             "onehot"
            ],
            [
             "drop",
             null
            ],
            [
             "alpha",
             0.00035364435737577304
            ]
           ]
          ],
          [
           [
            [
             "scaling_method",
             "robust"
            ],
            [
             "encoding_method",
             "onehot"
            ],
            [
             "drop",
             null
            ],
            [
             "alpha",
             0.00027440352056179776
            ]
           ]
          ],
          [
           [
            [
             "scaling_method",
             "robust"
            ],
            [
             "encoding_method",
             "onehot"
            ],
            [
             "drop",
             null
            ],
            [
             "alpha",
             0.0004103861875736076
            ]
           ]
          ],
          [
           [
            [
             "scaling_method",
             "robust"
            ],
            [
             "encoding_method",
             "onehot"
            ],
            [
             "drop",
             null
            ],
            [
             "alpha",
             0.00023935713088930581
            ]
           ]
          ]
         ],
         "hovertemplate": "Optuna Trial=%{x}<br>Score (R-Squared)=%{y}<br>Parameters=%{customdata[0]}<extra></extra>",
         "legendgroup": "",
         "marker": {
          "color": "#636efa",
          "symbol": "circle"
         },
         "mode": "markers",
         "name": "",
         "orientation": "v",
         "showlegend": false,
         "type": "scatter",
         "x": [
          0,
          1,
          2,
          3,
          4,
          5,
          6,
          7,
          8,
          9,
          10,
          11,
          12,
          13,
          14,
          15,
          16,
          17,
          18,
          19,
          20,
          21,
          22,
          23,
          24,
          25,
          26,
          27,
          28,
          29,
          30,
          31,
          32,
          33,
          34,
          35,
          36,
          37,
          38,
          39,
          40,
          41,
          42,
          43,
          44,
          45,
          46,
          47,
          48,
          49,
          50,
          51,
          52,
          53,
          54,
          55,
          56,
          57,
          58,
          59,
          60,
          61,
          62,
          63,
          64,
          65,
          66,
          67,
          68,
          69,
          70,
          71,
          72,
          73,
          74,
          75,
          76,
          77,
          78,
          79,
          80,
          81,
          82,
          83,
          84,
          85,
          86,
          87,
          88,
          89,
          90,
          91,
          92,
          93,
          94,
          95,
          96,
          97,
          98,
          99,
          100,
          101,
          102,
          103,
          104,
          105,
          106,
          107,
          108,
          109,
          110,
          111,
          112,
          113,
          114,
          115,
          116,
          117,
          118,
          119,
          120,
          121,
          122,
          123,
          124,
          125,
          126,
          127,
          128,
          129,
          130,
          131,
          132,
          133,
          134,
          135,
          136,
          137,
          138,
          139,
          140,
          141,
          142,
          143,
          144,
          145,
          146,
          147,
          148,
          149,
          150,
          151,
          152,
          153,
          154,
          155,
          156,
          157,
          158,
          159,
          160,
          161,
          162,
          163,
          164,
          165,
          166,
          167,
          168,
          169,
          170,
          171,
          172,
          173,
          174,
          175,
          176,
          177,
          178,
          179,
          180,
          181,
          182,
          183,
          184,
          185,
          186,
          187,
          188,
          189,
          190,
          191,
          192,
          193,
          194,
          195,
          196,
          197,
          198,
          199
         ],
         "xaxis": "x",
         "y": [
          0.9467361127612117,
          0.9323125711122492,
          0.9410933355982675,
          0.9481492237022101,
          0.94713124564746,
          0.9495680701364331,
          0.9410989159546519,
          0.9393600439822679,
          0.9412729598873465,
          0.950246032142363,
          0.9486459908575956,
          0.9499611948078057,
          0.9505316923005414,
          0.9504672660312818,
          0.9502399134140747,
          0.9487508723150455,
          0.9504556665548367,
          0.9501479138438587,
          0.9435612469682632,
          0.9504212218173027,
          0.9489740326737615,
          0.9503945989612124,
          0.9504223422059566,
          0.9504537623811423,
          0.9495421668902756,
          0.9501007177440985,
          0.9413680883475847,
          0.9505899435979714,
          0.9505343633648202,
          0.9502798097197344,
          0.9473246672048383,
          0.950607438483388,
          0.9500710524773865,
          0.9505549667063539,
          0.9377250892604791,
          0.9461526294312108,
          0.9506913775478563,
          0.9418198334464873,
          0.9499180688641189,
          0.9506298902756359,
          0.9418098780901756,
          0.9506052321180978,
          0.9467738787374106,
          0.9506127976109908,
          0.9503550635090097,
          0.9507746615014426,
          0.950740280680139,
          0.9507830470423917,
          0.9419103771855338,
          0.9507772801687328,
          0.9507814476357558,
          0.9508020195819336,
          0.9508112540335507,
          0.9508118440728366,
          0.9504151948858424,
          0.9508114755066714,
          0.9508068630954067,
          0.9478029762586431,
          0.9502975501603352,
          0.9498340463807953,
          0.9493575890373263,
          0.9508113118382753,
          0.9508122835720298,
          0.9508109324935032,
          0.9505497821996898,
          0.9508109566548694,
          0.9502944371780606,
          0.9363060484606376,
          0.9503058249127789,
          0.9508120715721073,
          0.9505280457198715,
          0.9506862659190564,
          0.9508097064747029,
          0.9478016139239903,
          0.9508111200046067,
          0.9505262858095543,
          0.9494912200852065,
          0.9505012918215103,
          0.9504053848896354,
          0.9377440625835763,
          0.9508106439337987,
          0.9508118118162031,
          0.9507573913796605,
          0.9507124866818455,
          0.950614323371419,
          0.9505076924020734,
          0.9486321283343357,
          0.9505696236437642,
          0.950666057971814,
          0.9502935142084656,
          0.9507272769566482,
          0.9508098813892968,
          0.9508111364237136,
          0.9507482909606697,
          0.9507513385019151,
          0.9504520285220657,
          0.9508040785232756,
          0.9418201966598213,
          0.9482600195320805,
          0.9508044285580872,
          0.9504583594521454,
          0.9508106746800922,
          0.9508094837776506,
          0.9507779082605607,
          0.9506720943548175,
          0.9508112184564824,
          0.9508104691101054,
          0.9507467370479992,
          0.9507473343558581,
          0.9498494606925088,
          0.9416397290969842,
          0.948876638878837,
          0.9508055839078967,
          0.9508003745715394,
          0.950625352566534,
          0.9506764716026128,
          0.9508116470198591,
          0.9507788512747611,
          0.9482714805555886,
          0.9507428293168175,
          0.9505447394118323,
          0.9508080993855149,
          0.9507317901036314,
          0.9508108275011906,
          0.9505756100830369,
          0.9508114683472307,
          0.9507924515455048,
          0.9507050704902431,
          0.9507885116355773,
          0.9507731151870524,
          0.9418730820112223,
          0.9508119582041807,
          0.9508109700640631,
          0.9508116402577862,
          0.9507207998876407,
          0.9507967724456924,
          0.9502250374910746,
          0.95080132541864,
          0.9506202069598384,
          0.950741140627113,
          0.9508110791631447,
          0.9508118617336304,
          0.9508104464239615,
          0.9507719190546373,
          0.9508118538193692,
          0.950744339179154,
          0.9508023728125939,
          0.9477894308623276,
          0.9505459338099802,
          0.9472634812417441,
          0.9506894891739108,
          0.9508113274633262,
          0.9508119136442102,
          0.9507820510158396,
          0.9508106392704064,
          0.9507843865539287,
          0.950657050449475,
          0.9505971669577701,
          0.9417578802871847,
          0.9499869650975125,
          0.9508025639200746,
          0.9508114991867528,
          0.9507542623148879,
          0.9508117022466387,
          0.9508100602633769,
          0.9507148719043546,
          0.9506984186381633,
          0.9502543332346409,
          0.950812490222533,
          0.9508027326587551,
          0.9505463881817457,
          0.9508110400796215,
          0.9507836800151933,
          0.9507843297129586,
          0.9508105638609694,
          0.9505744777598629,
          0.9507110413466382,
          0.9507845845252273,
          0.9507385004432749,
          0.9508124989217249,
          0.9482091991613869,
          0.9508119567040867,
          0.9507953728203598,
          0.9508113667038943,
          0.950809582712651,
          0.9507525419977115,
          0.9508062700290261,
          0.9508117687097297,
          0.950754380375782,
          0.9417534533754726,
          0.9507785412543356,
          0.9508109427495619,
          0.9495939809691603,
          0.9508009452972754,
          0.9508115032814402,
          0.9503992115382557,
          0.9507904508773535,
          0.9507868971488811,
          0.9507068593839954,
          0.9506629188884617
         ],
         "yaxis": "y"
        }
       ],
       "layout": {
        "hoverlabel": {
         "bgcolor": "white",
         "font": {
          "family": "Rockwell",
          "size": 8
         }
        },
        "legend": {
         "tracegroupgap": 0
        },
        "template": {
         "data": {
          "bar": [
           {
            "error_x": {
             "color": "#2a3f5f"
            },
            "error_y": {
             "color": "#2a3f5f"
            },
            "marker": {
             "line": {
              "color": "#E5ECF6",
              "width": 0.5
             },
             "pattern": {
              "fillmode": "overlay",
              "size": 10,
              "solidity": 0.2
             }
            },
            "type": "bar"
           }
          ],
          "barpolar": [
           {
            "marker": {
             "line": {
              "color": "#E5ECF6",
              "width": 0.5
             },
             "pattern": {
              "fillmode": "overlay",
              "size": 10,
              "solidity": 0.2
             }
            },
            "type": "barpolar"
           }
          ],
          "carpet": [
           {
            "aaxis": {
             "endlinecolor": "#2a3f5f",
             "gridcolor": "white",
             "linecolor": "white",
             "minorgridcolor": "white",
             "startlinecolor": "#2a3f5f"
            },
            "baxis": {
             "endlinecolor": "#2a3f5f",
             "gridcolor": "white",
             "linecolor": "white",
             "minorgridcolor": "white",
             "startlinecolor": "#2a3f5f"
            },
            "type": "carpet"
           }
          ],
          "choropleth": [
           {
            "colorbar": {
             "outlinewidth": 0,
             "ticks": ""
            },
            "type": "choropleth"
           }
          ],
          "contour": [
           {
            "colorbar": {
             "outlinewidth": 0,
             "ticks": ""
            },
            "colorscale": [
             [
              0,
              "#0d0887"
             ],
             [
              0.1111111111111111,
              "#46039f"
             ],
             [
              0.2222222222222222,
              "#7201a8"
             ],
             [
              0.3333333333333333,
              "#9c179e"
             ],
             [
              0.4444444444444444,
              "#bd3786"
             ],
             [
              0.5555555555555556,
              "#d8576b"
             ],
             [
              0.6666666666666666,
              "#ed7953"
             ],
             [
              0.7777777777777778,
              "#fb9f3a"
             ],
             [
              0.8888888888888888,
              "#fdca26"
             ],
             [
              1,
              "#f0f921"
             ]
            ],
            "type": "contour"
           }
          ],
          "contourcarpet": [
           {
            "colorbar": {
             "outlinewidth": 0,
             "ticks": ""
            },
            "type": "contourcarpet"
           }
          ],
          "heatmap": [
           {
            "colorbar": {
             "outlinewidth": 0,
             "ticks": ""
            },
            "colorscale": [
             [
              0,
              "#0d0887"
             ],
             [
              0.1111111111111111,
              "#46039f"
             ],
             [
              0.2222222222222222,
              "#7201a8"
             ],
             [
              0.3333333333333333,
              "#9c179e"
             ],
             [
              0.4444444444444444,
              "#bd3786"
             ],
             [
              0.5555555555555556,
              "#d8576b"
             ],
             [
              0.6666666666666666,
              "#ed7953"
             ],
             [
              0.7777777777777778,
              "#fb9f3a"
             ],
             [
              0.8888888888888888,
              "#fdca26"
             ],
             [
              1,
              "#f0f921"
             ]
            ],
            "type": "heatmap"
           }
          ],
          "heatmapgl": [
           {
            "colorbar": {
             "outlinewidth": 0,
             "ticks": ""
            },
            "colorscale": [
             [
              0,
              "#0d0887"
             ],
             [
              0.1111111111111111,
              "#46039f"
             ],
             [
              0.2222222222222222,
              "#7201a8"
             ],
             [
              0.3333333333333333,
              "#9c179e"
             ],
             [
              0.4444444444444444,
              "#bd3786"
             ],
             [
              0.5555555555555556,
              "#d8576b"
             ],
             [
              0.6666666666666666,
              "#ed7953"
             ],
             [
              0.7777777777777778,
              "#fb9f3a"
             ],
             [
              0.8888888888888888,
              "#fdca26"
             ],
             [
              1,
              "#f0f921"
             ]
            ],
            "type": "heatmapgl"
           }
          ],
          "histogram": [
           {
            "marker": {
             "pattern": {
              "fillmode": "overlay",
              "size": 10,
              "solidity": 0.2
             }
            },
            "type": "histogram"
           }
          ],
          "histogram2d": [
           {
            "colorbar": {
             "outlinewidth": 0,
             "ticks": ""
            },
            "colorscale": [
             [
              0,
              "#0d0887"
             ],
             [
              0.1111111111111111,
              "#46039f"
             ],
             [
              0.2222222222222222,
              "#7201a8"
             ],
             [
              0.3333333333333333,
              "#9c179e"
             ],
             [
              0.4444444444444444,
              "#bd3786"
             ],
             [
              0.5555555555555556,
              "#d8576b"
             ],
             [
              0.6666666666666666,
              "#ed7953"
             ],
             [
              0.7777777777777778,
              "#fb9f3a"
             ],
             [
              0.8888888888888888,
              "#fdca26"
             ],
             [
              1,
              "#f0f921"
             ]
            ],
            "type": "histogram2d"
           }
          ],
          "histogram2dcontour": [
           {
            "colorbar": {
             "outlinewidth": 0,
             "ticks": ""
            },
            "colorscale": [
             [
              0,
              "#0d0887"
             ],
             [
              0.1111111111111111,
              "#46039f"
             ],
             [
              0.2222222222222222,
              "#7201a8"
             ],
             [
              0.3333333333333333,
              "#9c179e"
             ],
             [
              0.4444444444444444,
              "#bd3786"
             ],
             [
              0.5555555555555556,
              "#d8576b"
             ],
             [
              0.6666666666666666,
              "#ed7953"
             ],
             [
              0.7777777777777778,
              "#fb9f3a"
             ],
             [
              0.8888888888888888,
              "#fdca26"
             ],
             [
              1,
              "#f0f921"
             ]
            ],
            "type": "histogram2dcontour"
           }
          ],
          "mesh3d": [
           {
            "colorbar": {
             "outlinewidth": 0,
             "ticks": ""
            },
            "type": "mesh3d"
           }
          ],
          "parcoords": [
           {
            "line": {
             "colorbar": {
              "outlinewidth": 0,
              "ticks": ""
             }
            },
            "type": "parcoords"
           }
          ],
          "pie": [
           {
            "automargin": true,
            "type": "pie"
           }
          ],
          "scatter": [
           {
            "fillpattern": {
             "fillmode": "overlay",
             "size": 10,
             "solidity": 0.2
            },
            "type": "scatter"
           }
          ],
          "scatter3d": [
           {
            "line": {
             "colorbar": {
              "outlinewidth": 0,
              "ticks": ""
             }
            },
            "marker": {
             "colorbar": {
              "outlinewidth": 0,
              "ticks": ""
             }
            },
            "type": "scatter3d"
           }
          ],
          "scattercarpet": [
           {
            "marker": {
             "colorbar": {
              "outlinewidth": 0,
              "ticks": ""
             }
            },
            "type": "scattercarpet"
           }
          ],
          "scattergeo": [
           {
            "marker": {
             "colorbar": {
              "outlinewidth": 0,
              "ticks": ""
             }
            },
            "type": "scattergeo"
           }
          ],
          "scattergl": [
           {
            "marker": {
             "colorbar": {
              "outlinewidth": 0,
              "ticks": ""
             }
            },
            "type": "scattergl"
           }
          ],
          "scattermapbox": [
           {
            "marker": {
             "colorbar": {
              "outlinewidth": 0,
              "ticks": ""
             }
            },
            "type": "scattermapbox"
           }
          ],
          "scatterpolar": [
           {
            "marker": {
             "colorbar": {
              "outlinewidth": 0,
              "ticks": ""
             }
            },
            "type": "scatterpolar"
           }
          ],
          "scatterpolargl": [
           {
            "marker": {
             "colorbar": {
              "outlinewidth": 0,
              "ticks": ""
             }
            },
            "type": "scatterpolargl"
           }
          ],
          "scatterternary": [
           {
            "marker": {
             "colorbar": {
              "outlinewidth": 0,
              "ticks": ""
             }
            },
            "type": "scatterternary"
           }
          ],
          "surface": [
           {
            "colorbar": {
             "outlinewidth": 0,
             "ticks": ""
            },
            "colorscale": [
             [
              0,
              "#0d0887"
             ],
             [
              0.1111111111111111,
              "#46039f"
             ],
             [
              0.2222222222222222,
              "#7201a8"
             ],
             [
              0.3333333333333333,
              "#9c179e"
             ],
             [
              0.4444444444444444,
              "#bd3786"
             ],
             [
              0.5555555555555556,
              "#d8576b"
             ],
             [
              0.6666666666666666,
              "#ed7953"
             ],
             [
              0.7777777777777778,
              "#fb9f3a"
             ],
             [
              0.8888888888888888,
              "#fdca26"
             ],
             [
              1,
              "#f0f921"
             ]
            ],
            "type": "surface"
           }
          ],
          "table": [
           {
            "cells": {
             "fill": {
              "color": "#EBF0F8"
             },
             "line": {
              "color": "white"
             }
            },
            "header": {
             "fill": {
              "color": "#C8D4E3"
             },
             "line": {
              "color": "white"
             }
            },
            "type": "table"
           }
          ]
         },
         "layout": {
          "annotationdefaults": {
           "arrowcolor": "#2a3f5f",
           "arrowhead": 0,
           "arrowwidth": 1
          },
          "autotypenumbers": "strict",
          "coloraxis": {
           "colorbar": {
            "outlinewidth": 0,
            "ticks": ""
           }
          },
          "colorscale": {
           "diverging": [
            [
             0,
             "#8e0152"
            ],
            [
             0.1,
             "#c51b7d"
            ],
            [
             0.2,
             "#de77ae"
            ],
            [
             0.3,
             "#f1b6da"
            ],
            [
             0.4,
             "#fde0ef"
            ],
            [
             0.5,
             "#f7f7f7"
            ],
            [
             0.6,
             "#e6f5d0"
            ],
            [
             0.7,
             "#b8e186"
            ],
            [
             0.8,
             "#7fbc41"
            ],
            [
             0.9,
             "#4d9221"
            ],
            [
             1,
             "#276419"
            ]
           ],
           "sequential": [
            [
             0,
             "#0d0887"
            ],
            [
             0.1111111111111111,
             "#46039f"
            ],
            [
             0.2222222222222222,
             "#7201a8"
            ],
            [
             0.3333333333333333,
             "#9c179e"
            ],
            [
             0.4444444444444444,
             "#bd3786"
            ],
            [
             0.5555555555555556,
             "#d8576b"
            ],
            [
             0.6666666666666666,
             "#ed7953"
            ],
            [
             0.7777777777777778,
             "#fb9f3a"
            ],
            [
             0.8888888888888888,
             "#fdca26"
            ],
            [
             1,
             "#f0f921"
            ]
           ],
           "sequentialminus": [
            [
             0,
             "#0d0887"
            ],
            [
             0.1111111111111111,
             "#46039f"
            ],
            [
             0.2222222222222222,
             "#7201a8"
            ],
            [
             0.3333333333333333,
             "#9c179e"
            ],
            [
             0.4444444444444444,
             "#bd3786"
            ],
            [
             0.5555555555555556,
             "#d8576b"
            ],
            [
             0.6666666666666666,
             "#ed7953"
            ],
            [
             0.7777777777777778,
             "#fb9f3a"
            ],
            [
             0.8888888888888888,
             "#fdca26"
            ],
            [
             1,
             "#f0f921"
            ]
           ]
          },
          "colorway": [
           "#636efa",
           "#EF553B",
           "#00cc96",
           "#ab63fa",
           "#FFA15A",
           "#19d3f3",
           "#FF6692",
           "#B6E880",
           "#FF97FF",
           "#FECB52"
          ],
          "font": {
           "color": "#2a3f5f"
          },
          "geo": {
           "bgcolor": "white",
           "lakecolor": "white",
           "landcolor": "#E5ECF6",
           "showlakes": true,
           "showland": true,
           "subunitcolor": "white"
          },
          "hoverlabel": {
           "align": "left"
          },
          "hovermode": "closest",
          "mapbox": {
           "style": "light"
          },
          "paper_bgcolor": "white",
          "plot_bgcolor": "#E5ECF6",
          "polar": {
           "angularaxis": {
            "gridcolor": "white",
            "linecolor": "white",
            "ticks": ""
           },
           "bgcolor": "#E5ECF6",
           "radialaxis": {
            "gridcolor": "white",
            "linecolor": "white",
            "ticks": ""
           }
          },
          "scene": {
           "xaxis": {
            "backgroundcolor": "#E5ECF6",
            "gridcolor": "white",
            "gridwidth": 2,
            "linecolor": "white",
            "showbackground": true,
            "ticks": "",
            "zerolinecolor": "white"
           },
           "yaxis": {
            "backgroundcolor": "#E5ECF6",
            "gridcolor": "white",
            "gridwidth": 2,
            "linecolor": "white",
            "showbackground": true,
            "ticks": "",
            "zerolinecolor": "white"
           },
           "zaxis": {
            "backgroundcolor": "#E5ECF6",
            "gridcolor": "white",
            "gridwidth": 2,
            "linecolor": "white",
            "showbackground": true,
            "ticks": "",
            "zerolinecolor": "white"
           }
          },
          "shapedefaults": {
           "line": {
            "color": "#2a3f5f"
           }
          },
          "ternary": {
           "aaxis": {
            "gridcolor": "white",
            "linecolor": "white",
            "ticks": ""
           },
           "baxis": {
            "gridcolor": "white",
            "linecolor": "white",
            "ticks": ""
           },
           "bgcolor": "#E5ECF6",
           "caxis": {
            "gridcolor": "white",
            "linecolor": "white",
            "ticks": ""
           }
          },
          "title": {
           "x": 0.05
          },
          "xaxis": {
           "automargin": true,
           "gridcolor": "white",
           "linecolor": "white",
           "ticks": "",
           "title": {
            "standoff": 15
           },
           "zerolinecolor": "white",
           "zerolinewidth": 2
          },
          "yaxis": {
           "automargin": true,
           "gridcolor": "white",
           "linecolor": "white",
           "ticks": "",
           "title": {
            "standoff": 15
           },
           "zerolinecolor": "white",
           "zerolinewidth": 2
          }
         }
        },
        "title": {
         "text": "Lasso tuned with Optuna after 200 trials  <br><sup> Best Score: 0.9508</sup>"
        },
        "xaxis": {
         "anchor": "y",
         "domain": [
          0,
          1
         ],
         "title": {
          "text": "Optuna Trial"
         }
        },
        "yaxis": {
         "anchor": "x",
         "domain": [
          0,
          1
         ],
         "title": {
          "text": "Score (R-Squared)"
         }
        }
       }
      },
      "text/html": [
       "<div>                            <div id=\"86f37142-0101-4363-82dc-0a47f4e77827\" class=\"plotly-graph-div\" style=\"height:525px; width:100%;\"></div>            <script type=\"text/javascript\">                require([\"plotly\"], function(Plotly) {                    window.PLOTLYENV=window.PLOTLYENV || {};                                    if (document.getElementById(\"86f37142-0101-4363-82dc-0a47f4e77827\")) {                    Plotly.newPlot(                        \"86f37142-0101-4363-82dc-0a47f4e77827\",                        [{\"customdata\":[[[[\"scaling_method\",\"maxabs\"],[\"encoding_method\",\"onehot\"],[\"drop\",\"first\"],[\"alpha\",0.0003841185967841102]]],[[[\"scaling_method\",\"maxabs\"],[\"encoding_method\",\"ordinal\"],[\"alpha\",0.0008788944418275458]]],[[[\"scaling_method\",\"robust\"],[\"encoding_method\",\"ordinal\"],[\"alpha\",2.11890200594345e-05]]],[[[\"scaling_method\",\"maxabs\"],[\"encoding_method\",\"onehot\"],[\"drop\",\"first\"],[\"alpha\",0.0001997032791557414]]],[[[\"scaling_method\",\"robust\"],[\"encoding_method\",\"onehot\"],[\"drop\",\"first\"],[\"alpha\",1.5614748605494028e-05]]],[[[\"scaling_method\",\"robust\"],[\"encoding_method\",\"onehot\"],[\"drop\",null],[\"alpha\",7.955963434862829e-05]]],[[[\"scaling_method\",\"maxabs\"],[\"encoding_method\",\"ordinal\"],[\"alpha\",1.4665959167784572e-05]]],[[[\"scaling_method\",\"maxabs\"],[\"encoding_method\",\"ordinal\"],[\"alpha\",0.000111750098319519]]],[[[\"scaling_method\",\"robust\"],[\"encoding_method\",\"ordinal\"],[\"alpha\",5.810894499113303e-05]]],[[[\"scaling_method\",\"minmax\"],[\"encoding_method\",\"onehot\"],[\"drop\",\"first\"],[\"alpha\",9.256346048009733e-05]]],[[[\"scaling_method\",\"minmax\"],[\"encoding_method\",\"onehot\"],[\"drop\",null],[\"alpha\",3.300094783123156e-05]]],[[[\"scaling_method\",\"minmax\"],[\"encoding_method\",\"onehot\"],[\"drop\",null],[\"alpha\",7.763131740956906e-05]]],[[[\"scaling_method\",\"minmax\"],[\"encoding_method\",\"onehot\"],[\"drop\",null],[\"alpha\",0.00017308354348537791]]],[[[\"scaling_method\",\"minmax\"],[\"encoding_method\",\"onehot\"],[\"drop\",\"first\"],[\"alpha\",0.00020319297263222104]]],[[[\"scaling_method\",\"standard\"],[\"encoding_method\",\"onehot\"],[\"drop\",null],[\"alpha\",0.0002409165171517034]]],[[[\"scaling_method\",\"minmax\"],[\"encoding_method\",\"onehot\"],[\"drop\",null],[\"alpha\",0.000481256404764274]]],[[[\"scaling_method\",\"minmax\"],[\"encoding_method\",\"onehot\"],[\"drop\",\"first\"],[\"alpha\",0.0001879139078716462]]],[[[\"scaling_method\",\"standard\"],[\"encoding_method\",\"onehot\"],[\"drop\",null],[\"alpha\",0.0004042906555245167]]],[[[\"scaling_method\",\"minmax\"],[\"encoding_method\",\"onehot\"],[\"drop\",\"first\"],[\"alpha\",0.0009218227581495386]]],[[[\"scaling_method\",\"minmax\"],[\"encoding_method\",\"onehot\"],[\"drop\",\"first\"],[\"alpha\",0.00014548211412720207]]],[[[\"scaling_method\",\"minmax\"],[\"encoding_method\",\"onehot\"],[\"drop\",null],[\"alpha\",4.0668691741889e-05]]],[[[\"scaling_method\",\"minmax\"],[\"encoding_method\",\"onehot\"],[\"drop\",\"first\"],[\"alpha\",0.0002605307168105446]]],[[[\"scaling_method\",\"minmax\"],[\"encoding_method\",\"onehot\"],[\"drop\",\"first\"],[\"alpha\",0.00014303151048332337]]],[[[\"scaling_method\",\"minmax\"],[\"encoding_method\",\"onehot\"],[\"drop\",\"first\"],[\"alpha\",0.00018173122970234352]]],[[[\"scaling_method\",\"standard\"],[\"encoding_method\",\"onehot\"],[\"drop\",\"first\"],[\"alpha\",0.0005799084192342355]]],[[[\"scaling_method\",\"minmax\"],[\"encoding_method\",\"onehot\"],[\"drop\",\"first\"],[\"alpha\",0.00032052747816874096]]],[[[\"scaling_method\",\"minmax\"],[\"encoding_method\",\"ordinal\"],[\"alpha\",0.00013129644373445254]]],[[[\"scaling_method\",\"minmax\"],[\"encoding_method\",\"onehot\"],[\"drop\",null],[\"alpha\",0.00018866784606573576]]],[[[\"scaling_method\",\"minmax\"],[\"encoding_method\",\"onehot\"],[\"drop\",null],[\"alpha\",0.000281619001563278]]],[[[\"scaling_method\",\"standard\"],[\"encoding_method\",\"onehot\"],[\"drop\",null],[\"alpha\",0.00031447903808740524]]],[[[\"scaling_method\",\"minmax\"],[\"encoding_method\",\"onehot\"],[\"drop\",null],[\"alpha\",0.0005978406722088378]]],[[[\"scaling_method\",\"minmax\"],[\"encoding_method\",\"onehot\"],[\"drop\",null],[\"alpha\",0.00025981352825580955]]],[[[\"scaling_method\",\"minmax\"],[\"encoding_method\",\"onehot\"],[\"drop\",null],[\"alpha\",0.0003566171546653378]]],[[[\"scaling_method\",\"minmax\"],[\"encoding_method\",\"onehot\"],[\"drop\",null],[\"alpha\",0.0002764827754384708]]],[[[\"scaling_method\",\"maxabs\"],[\"encoding_method\",\"ordinal\"],[\"alpha\",0.00026238751551106417]]],[[[\"scaling_method\",\"minmax\"],[\"encoding_method\",\"onehot\"],[\"drop\",null],[\"alpha\",0.000697140039503794]]],[[[\"scaling_method\",\"robust\"],[\"encoding_method\",\"onehot\"],[\"drop\",null],[\"alpha\",0.0004194785406356968]]],[[[\"scaling_method\",\"robust\"],[\"encoding_method\",\"ordinal\"],[\"alpha\",0.0004661792524689388]]],[[[\"scaling_method\",\"robust\"],[\"encoding_method\",\"onehot\"],[\"drop\",null],[\"alpha\",0.0007075396944052244]]],[[[\"scaling_method\",\"robust\"],[\"encoding_method\",\"onehot\"],[\"drop\",null],[\"alpha\",0.0004524942388336976]]],[[[\"scaling_method\",\"robust\"],[\"encoding_method\",\"ordinal\"],[\"alpha\",0.000428697906041505]]],[[[\"scaling_method\",\"robust\"],[\"encoding_method\",\"onehot\"],[\"drop\",null],[\"alpha\",0.00022621629368611582]]],[[[\"scaling_method\",\"robust\"],[\"encoding_method\",\"onehot\"],[\"drop\",null],[\"alpha\",1.0416308531520012e-05]]],[[[\"scaling_method\",\"robust\"],[\"encoding_method\",\"onehot\"],[\"drop\",null],[\"alpha\",0.00022793350665012898]]],[[[\"scaling_method\",\"robust\"],[\"encoding_method\",\"onehot\"],[\"drop\",null],[\"alpha\",0.0005688210021060937]]],[[[\"scaling_method\",\"robust\"],[\"encoding_method\",\"onehot\"],[\"drop\",null],[\"alpha\",0.0003649761025040236]]],[[[\"scaling_method\",\"robust\"],[\"encoding_method\",\"onehot\"],[\"drop\",null],[\"alpha\",0.0003884582051924655]]],[[[\"scaling_method\",\"robust\"],[\"encoding_method\",\"onehot\"],[\"drop\",null],[\"alpha\",0.0003589201325166769]]],[[[\"scaling_method\",\"robust\"],[\"encoding_method\",\"ordinal\"],[\"alpha\",0.0007917367148203394]]],[[[\"scaling_method\",\"robust\"],[\"encoding_method\",\"onehot\"],[\"drop\",null],[\"alpha\",0.0003632891366509763]]],[[[\"scaling_method\",\"robust\"],[\"encoding_method\",\"onehot\"],[\"drop\",null],[\"alpha\",0.0003602156217105562]]],[[[\"scaling_method\",\"robust\"],[\"encoding_method\",\"onehot\"],[\"drop\",null],[\"alpha\",0.0003416125278354601]]],[[[\"scaling_method\",\"robust\"],[\"encoding_method\",\"onehot\"],[\"drop\",null],[\"alpha\",0.0003226079630554458]]],[[[\"scaling_method\",\"robust\"],[\"encoding_method\",\"onehot\"],[\"drop\",null],[\"alpha\",0.0003194949733052064]]],[[[\"scaling_method\",\"robust\"],[\"encoding_method\",\"onehot\"],[\"drop\",null],[\"alpha\",0.0005425665311480494]]],[[[\"scaling_method\",\"robust\"],[\"encoding_method\",\"onehot\"],[\"drop\",null],[\"alpha\",0.0003157116680723717]]],[[[\"scaling_method\",\"robust\"],[\"encoding_method\",\"onehot\"],[\"drop\",null],[\"alpha\",0.0003343356528483817]]],[[[\"scaling_method\",\"maxabs\"],[\"encoding_method\",\"onehot\"],[\"drop\",null],[\"alpha\",0.00012179803508546976]]],[[[\"scaling_method\",\"robust\"],[\"encoding_method\",\"onehot\"],[\"drop\",null],[\"alpha\",0.0001601577658072079]]],[[[\"scaling_method\",\"robust\"],[\"encoding_method\",\"onehot\"],[\"drop\",null],[\"alpha\",9.629499098258925e-05]]],[[[\"scaling_method\",\"robust\"],[\"encoding_method\",\"onehot\"],[\"drop\",null],[\"alpha\",7.021470598505854e-05]]],[[[\"scaling_method\",\"robust\"],[\"encoding_method\",\"onehot\"],[\"drop\",null],[\"alpha\",0.00032221250618202343]]],[[[\"scaling_method\",\"robust\"],[\"encoding_method\",\"onehot\"],[\"drop\",null],[\"alpha\",0.00030671293122819346]]],[[[\"scaling_method\",\"robust\"],[\"encoding_method\",\"onehot\"],[\"drop\",null],[\"alpha\",0.0002997971169775004]]],[[[\"scaling_method\",\"robust\"],[\"encoding_method\",\"onehot\"],[\"drop\",null],[\"alpha\",0.00021410738794319995]]],[[[\"scaling_method\",\"robust\"],[\"encoding_method\",\"onehot\"],[\"drop\",null],[\"alpha\",0.0003143129567338659]]],[[[\"scaling_method\",\"standard\"],[\"encoding_method\",\"onehot\"],[\"drop\",null],[\"alpha\",0.00028607239197365623]]],[[[\"scaling_method\",\"maxabs\"],[\"encoding_method\",\"ordinal\"],[\"alpha\",0.0005160358767471706]]],[[[\"scaling_method\",\"robust\"],[\"encoding_method\",\"onehot\"],[\"drop\",null],[\"alpha\",0.00016148712756672363]]],[[[\"scaling_method\",\"robust\"],[\"encoding_method\",\"onehot\"],[\"drop\",null],[\"alpha\",0.0003042461422326107]]],[[[\"scaling_method\",\"robust\"],[\"encoding_method\",\"onehot\"],[\"drop\",null],[\"alpha\",0.00020952583160049909]]],[[[\"scaling_method\",\"robust\"],[\"encoding_method\",\"onehot\"],[\"drop\",null],[\"alpha\",0.0002448852198231612]]],[[[\"scaling_method\",\"robust\"],[\"encoding_method\",\"onehot\"],[\"drop\",null],[\"alpha\",0.0002948689373386942]]],[[[\"scaling_method\",\"robust\"],[\"encoding_method\",\"onehot\"],[\"drop\",null],[\"alpha\",2.76076317111022e-05]]],[[[\"scaling_method\",\"robust\"],[\"encoding_method\",\"onehot\"],[\"drop\",null],[\"alpha\",0.00029785107381510016]]],[[[\"scaling_method\",\"robust\"],[\"encoding_method\",\"onehot\"],[\"drop\",null],[\"alpha\",0.0004994052225332545]]],[[[\"scaling_method\",\"standard\"],[\"encoding_method\",\"onehot\"],[\"drop\",null],[\"alpha\",0.000648591770527666]]],[[[\"scaling_method\",\"robust\"],[\"encoding_method\",\"onehot\"],[\"drop\",\"first\"],[\"alpha\",0.00041703628264054717]]],[[[\"scaling_method\",\"robust\"],[\"encoding_method\",\"onehot\"],[\"drop\",null],[\"alpha\",0.00018115432331541382]]],[[[\"scaling_method\",\"maxabs\"],[\"encoding_method\",\"ordinal\"],[\"alpha\",0.0002409371627783921]]],[[[\"scaling_method\",\"robust\"],[\"encoding_method\",\"onehot\"],[\"drop\",null],[\"alpha\",0.00031282834144253475]]],[[[\"scaling_method\",\"robust\"],[\"encoding_method\",\"onehot\"],[\"drop\",null],[\"alpha\",0.0003018015349345533]]],[[[\"scaling_method\",\"robust\"],[\"encoding_method\",\"onehot\"],[\"drop\",null],[\"alpha\",0.0002630379925515237]]],[[[\"scaling_method\",\"robust\"],[\"encoding_method\",\"onehot\"],[\"drop\",null],[\"alpha\",0.0004070480363269357]]],[[[\"scaling_method\",\"robust\"],[\"encoding_method\",\"onehot\"],[\"drop\",null],[\"alpha\",0.000460642915403025]]],[[[\"scaling_method\",\"robust\"],[\"encoding_method\",\"onehot\"],[\"drop\",null],[\"alpha\",0.0002048926321891988]]],[[[\"scaling_method\",\"robust\"],[\"encoding_method\",\"onehot\"],[\"drop\",null],[\"alpha\",0.0009792585169417923]]],[[[\"scaling_method\",\"robust\"],[\"encoding_method\",\"onehot\"],[\"drop\",\"first\"],[\"alpha\",0.0003099589066571107]]],[[[\"scaling_method\",\"robust\"],[\"encoding_method\",\"onehot\"],[\"drop\",null],[\"alpha\",0.00024009518797386313]]],[[[\"scaling_method\",\"standard\"],[\"encoding_method\",\"onehot\"],[\"drop\",null],[\"alpha\",0.0002743285775338739]]],[[[\"scaling_method\",\"robust\"],[\"encoding_method\",\"onehot\"],[\"drop\",null],[\"alpha\",0.0003976475622923357]]],[[[\"scaling_method\",\"robust\"],[\"encoding_method\",\"onehot\"],[\"drop\",null],[\"alpha\",0.0003273096163541739]]],[[[\"scaling_method\",\"robust\"],[\"encoding_method\",\"onehot\"],[\"drop\",null],[\"alpha\",0.00029791056152727924]]],[[[\"scaling_method\",\"robust\"],[\"encoding_method\",\"onehot\"],[\"drop\",null],[\"alpha\",0.0002602166836071906]]],[[[\"scaling_method\",\"robust\"],[\"encoding_method\",\"onehot\"],[\"drop\",null],[\"alpha\",0.0003812388286766877]]],[[[\"scaling_method\",\"robust\"],[\"encoding_method\",\"onehot\"],[\"drop\",null],[\"alpha\",0.00019154736229708619]]],[[[\"scaling_method\",\"robust\"],[\"encoding_method\",\"onehot\"],[\"drop\",null],[\"alpha\",0.0003385680400143029]]],[[[\"scaling_method\",\"robust\"],[\"encoding_method\",\"ordinal\"],[\"alpha\",0.00047044666576545076]]],[[[\"scaling_method\",\"maxabs\"],[\"encoding_method\",\"onehot\"],[\"drop\",null],[\"alpha\",0.00021712928836636005]]],[[[\"scaling_method\",\"robust\"],[\"encoding_method\",\"onehot\"],[\"drop\",null],[\"alpha\",0.0002881626250367436]]],[[[\"scaling_method\",\"robust\"],[\"encoding_method\",\"onehot\"],[\"drop\",\"first\"],[\"alpha\",0.0004389517417116825]]],[[[\"scaling_method\",\"robust\"],[\"encoding_method\",\"onehot\"],[\"drop\",null],[\"alpha\",0.0003129671054994815]]],[[[\"scaling_method\",\"robust\"],[\"encoding_method\",\"onehot\"],[\"drop\",null],[\"alpha\",0.0002944177326821869]]],[[[\"scaling_method\",\"robust\"],[\"encoding_method\",\"onehot\"],[\"drop\",null],[\"alpha\",0.0003628778963970767]]],[[[\"scaling_method\",\"robust\"],[\"encoding_method\",\"onehot\"],[\"drop\",null],[\"alpha\",0.00024148808855003513]]],[[[\"scaling_method\",\"robust\"],[\"encoding_method\",\"onehot\"],[\"drop\",null],[\"alpha\",0.0003234981807770743]]],[[[\"scaling_method\",\"robust\"],[\"encoding_method\",\"onehot\"],[\"drop\",null],[\"alpha\",0.0003263078718151275]]],[[[\"scaling_method\",\"robust\"],[\"encoding_method\",\"onehot\"],[\"drop\",null],[\"alpha\",0.0003843739988895113]]],[[[\"scaling_method\",\"robust\"],[\"encoding_method\",\"onehot\"],[\"drop\",null],[\"alpha\",0.0002598990121292542]]],[[[\"scaling_method\",\"standard\"],[\"encoding_method\",\"onehot\"],[\"drop\",null],[\"alpha\",0.0005278246479101893]]],[[[\"scaling_method\",\"robust\"],[\"encoding_method\",\"ordinal\"],[\"alpha\",0.0001562493004654706]]],[[[\"scaling_method\",\"robust\"],[\"encoding_method\",\"onehot\"],[\"drop\",null],[\"alpha\",5.362943757690868e-05]]],[[[\"scaling_method\",\"robust\"],[\"encoding_method\",\"onehot\"],[\"drop\",null],[\"alpha\",0.00028929314118628113]]],[[[\"scaling_method\",\"robust\"],[\"encoding_method\",\"onehot\"],[\"drop\",null],[\"alpha\",0.0003438187128246934]]],[[[\"scaling_method\",\"robust\"],[\"encoding_method\",\"onehot\"],[\"drop\",null],[\"alpha\",0.00023085769356344436]]],[[[\"scaling_method\",\"robust\"],[\"encoding_method\",\"onehot\"],[\"drop\",null],[\"alpha\",0.0004273231303255645]]],[[[\"scaling_method\",\"robust\"],[\"encoding_method\",\"onehot\"],[\"drop\",null],[\"alpha\",0.00031051473514485934]]],[[[\"scaling_method\",\"robust\"],[\"encoding_method\",\"onehot\"],[\"drop\",null],[\"alpha\",0.00027025692985518034]]],[[[\"scaling_method\",\"maxabs\"],[\"encoding_method\",\"onehot\"],[\"drop\",null],[\"alpha\",0.00019922733705880056]]],[[[\"scaling_method\",\"robust\"],[\"encoding_method\",\"onehot\"],[\"drop\",null],[\"alpha\",0.0003868463919510521]]],[[[\"scaling_method\",\"robust\"],[\"encoding_method\",\"onehot\"],[\"drop\",\"first\"],[\"alpha\",0.00033722277923565536]]],[[[\"scaling_method\",\"robust\"],[\"encoding_method\",\"onehot\"],[\"drop\",null],[\"alpha\",0.0002922281140543768]]],[[[\"scaling_method\",\"robust\"],[\"encoding_method\",\"onehot\"],[\"drop\",null],[\"alpha\",0.0002554335225312177]]],[[[\"scaling_method\",\"robust\"],[\"encoding_method\",\"onehot\"],[\"drop\",null],[\"alpha\",0.0003137024887393732]]],[[[\"scaling_method\",\"robust\"],[\"encoding_method\",\"onehot\"],[\"drop\",null],[\"alpha\",0.00021948551363737593]]],[[[\"scaling_method\",\"robust\"],[\"encoding_method\",\"onehot\"],[\"drop\",null],[\"alpha\",0.0003115081647262303]]],[[[\"scaling_method\",\"robust\"],[\"encoding_method\",\"onehot\"],[\"drop\",null],[\"alpha\",0.00035208979982259524]]],[[[\"scaling_method\",\"robust\"],[\"encoding_method\",\"onehot\"],[\"drop\",null],[\"alpha\",0.0004115573810655325]]],[[[\"scaling_method\",\"robust\"],[\"encoding_method\",\"onehot\"],[\"drop\",null],[\"alpha\",0.00027529213333398134]]],[[[\"scaling_method\",\"robust\"],[\"encoding_method\",\"onehot\"],[\"drop\",null],[\"alpha\",0.00036594825469289405]]],[[[\"scaling_method\",\"robust\"],[\"encoding_method\",\"ordinal\"],[\"alpha\",0.000600881914059148]]],[[[\"scaling_method\",\"robust\"],[\"encoding_method\",\"onehot\"],[\"drop\",null],[\"alpha\",0.0003089939660022847]]],[[[\"scaling_method\",\"robust\"],[\"encoding_method\",\"onehot\"],[\"drop\",null],[\"alpha\",0.0003143876293867897]]],[[[\"scaling_method\",\"robust\"],[\"encoding_method\",\"onehot\"],[\"drop\",null],[\"alpha\",0.00031054377015561575]]],[[[\"scaling_method\",\"robust\"],[\"encoding_method\",\"onehot\"],[\"drop\",null],[\"alpha\",0.000252784311738564]]],[[[\"scaling_method\",\"robust\"],[\"encoding_method\",\"onehot\"],[\"drop\",null],[\"alpha\",0.00028084812454080274]]],[[[\"scaling_method\",\"standard\"],[\"encoding_method\",\"onehot\"],[\"drop\",null],[\"alpha\",0.00023464373474824888]]],[[[\"scaling_method\",\"robust\"],[\"encoding_method\",\"onehot\"],[\"drop\",null],[\"alpha\",0.0003425629202198705]]],[[[\"scaling_method\",\"robust\"],[\"encoding_method\",\"onehot\"],[\"drop\",null],[\"alpha\",0.0004575850632451227]]],[[[\"scaling_method\",\"robust\"],[\"encoding_method\",\"onehot\"],[\"drop\",null],[\"alpha\",0.0003879128716621237]]],[[[\"scaling_method\",\"robust\"],[\"encoding_method\",\"onehot\"],[\"drop\",null],[\"alpha\",0.0002977568179798746]]],[[[\"scaling_method\",\"robust\"],[\"encoding_method\",\"onehot\"],[\"drop\",null],[\"alpha\",0.00030306994167010473]]],[[[\"scaling_method\",\"robust\"],[\"encoding_method\",\"onehot\"],[\"drop\",null],[\"alpha\",0.00032639006129336705]]],[[[\"scaling_method\",\"robust\"],[\"encoding_method\",\"onehot\"],[\"drop\",null],[\"alpha\",0.00026767805295172285]]],[[[\"scaling_method\",\"robust\"],[\"encoding_method\",\"onehot\"],[\"drop\",null],[\"alpha\",0.0003030300963289254]]],[[[\"scaling_method\",\"robust\"],[\"encoding_method\",\"onehot\"],[\"drop\",null],[\"alpha\",0.0003859190411166643]]],[[[\"scaling_method\",\"robust\"],[\"encoding_method\",\"onehot\"],[\"drop\",null],[\"alpha\",0.00034111430139248036]]],[[[\"scaling_method\",\"maxabs\"],[\"encoding_method\",\"onehot\"],[\"drop\",\"first\"],[\"alpha\",0.00010543469129415645]]],[[[\"scaling_method\",\"robust\"],[\"encoding_method\",\"onehot\"],[\"drop\",null],[\"alpha\",0.0004912134759936166]]],[[[\"scaling_method\",\"robust\"],[\"encoding_method\",\"onehot\"],[\"drop\",null],[\"alpha\",1.895259818006878e-05]]],[[[\"scaling_method\",\"robust\"],[\"encoding_method\",\"onehot\"],[\"drop\",null],[\"alpha\",0.00024567849580295803]]],[[[\"scaling_method\",\"robust\"],[\"encoding_method\",\"onehot\"],[\"drop\",null],[\"alpha\",0.00029835874328685544]]],[[[\"scaling_method\",\"robust\"],[\"encoding_method\",\"onehot\"],[\"drop\",null],[\"alpha\",0.000309219434217836]]],[[[\"scaling_method\",\"robust\"],[\"encoding_method\",\"onehot\"],[\"drop\",null],[\"alpha\",0.00035973232112473995]]],[[[\"scaling_method\",\"robust\"],[\"encoding_method\",\"onehot\"],[\"drop\",null],[\"alpha\",0.0003128075024195709]]],[[[\"scaling_method\",\"robust\"],[\"encoding_method\",\"onehot\"],[\"drop\",null],[\"alpha\",0.0002730548075949526]]],[[[\"scaling_method\",\"robust\"],[\"encoding_method\",\"onehot\"],[\"drop\",null],[\"alpha\",0.0004382206548600625]]],[[[\"scaling_method\",\"robust\"],[\"encoding_method\",\"onehot\"],[\"drop\",null],[\"alpha\",0.0002243883463732737]]],[[[\"scaling_method\",\"robust\"],[\"encoding_method\",\"ordinal\"],[\"alpha\",0.0003268601444531522]]],[[[\"scaling_method\",\"minmax\"],[\"encoding_method\",\"onehot\"],[\"drop\",null],[\"alpha\",0.0003666999084980587]]],[[[\"scaling_method\",\"robust\"],[\"encoding_method\",\"onehot\"],[\"drop\",null],[\"alpha\",0.0002863626530297679]]],[[[\"scaling_method\",\"robust\"],[\"encoding_method\",\"onehot\"],[\"drop\",null],[\"alpha\",0.0002994648942310246]]],[[[\"scaling_method\",\"robust\"],[\"encoding_method\",\"onehot\"],[\"drop\",null],[\"alpha\",0.0002620675658350161]]],[[[\"scaling_method\",\"robust\"],[\"encoding_method\",\"onehot\"],[\"drop\",null],[\"alpha\",0.000311037014044374]]],[[[\"scaling_method\",\"robust\"],[\"encoding_method\",\"onehot\"],[\"drop\",null],[\"alpha\",0.00029557098299588943]]],[[[\"scaling_method\",\"robust\"],[\"encoding_method\",\"onehot\"],[\"drop\",null],[\"alpha\",0.0004055097410820075]]],[[[\"scaling_method\",\"robust\"],[\"encoding_method\",\"onehot\"],[\"drop\",null],[\"alpha\",0.0002477158672176745]]],[[[\"scaling_method\",\"standard\"],[\"encoding_method\",\"onehot\"],[\"drop\",null],[\"alpha\",0.00034555749335878674]]],[[[\"scaling_method\",\"robust\"],[\"encoding_method\",\"onehot\"],[\"drop\",null],[\"alpha\",0.0003074217999600511]]],[[[\"scaling_method\",\"robust\"],[\"encoding_method\",\"onehot\"],[\"drop\",null],[\"alpha\",0.00028652463527571346]]],[[[\"scaling_method\",\"robust\"],[\"encoding_method\",\"onehot\"],[\"drop\",null],[\"alpha\",0.000213415231324997]]],[[[\"scaling_method\",\"robust\"],[\"encoding_method\",\"onehot\"],[\"drop\",null],[\"alpha\",0.00031479207400887004]]],[[[\"scaling_method\",\"robust\"],[\"encoding_method\",\"onehot\"],[\"drop\",null],[\"alpha\",0.0003584022566706243]]],[[[\"scaling_method\",\"robust\"],[\"encoding_method\",\"onehot\"],[\"drop\",null],[\"alpha\",0.00027302504267207294]]],[[[\"scaling_method\",\"robust\"],[\"encoding_method\",\"onehot\"],[\"drop\",null],[\"alpha\",0.00032595554368890315]]],[[[\"scaling_method\",\"robust\"],[\"encoding_method\",\"onehot\"],[\"drop\",\"first\"],[\"alpha\",0.0003000082597888178]]],[[[\"scaling_method\",\"robust\"],[\"encoding_method\",\"onehot\"],[\"drop\",null],[\"alpha\",0.00025052280364583845]]],[[[\"scaling_method\",\"robust\"],[\"encoding_method\",\"onehot\"],[\"drop\",null],[\"alpha\",0.0003576620170855338]]],[[[\"scaling_method\",\"robust\"],[\"encoding_method\",\"onehot\"],[\"drop\",null],[\"alpha\",0.00038971466314564944]]],[[[\"scaling_method\",\"robust\"],[\"encoding_method\",\"onehot\"],[\"drop\",null],[\"alpha\",0.00030733929099045147]]],[[[\"scaling_method\",\"maxabs\"],[\"encoding_method\",\"onehot\"],[\"drop\",null],[\"alpha\",0.00023291034319846825]]],[[[\"scaling_method\",\"robust\"],[\"encoding_method\",\"onehot\"],[\"drop\",null],[\"alpha\",0.00030900165950810394]]],[[[\"scaling_method\",\"robust\"],[\"encoding_method\",\"onehot\"],[\"drop\",null],[\"alpha\",0.00027960730077401336]]],[[[\"scaling_method\",\"robust\"],[\"encoding_method\",\"onehot\"],[\"drop\",null],[\"alpha\",0.00031499471847225996]]],[[[\"scaling_method\",\"robust\"],[\"encoding_method\",\"onehot\"],[\"drop\",null],[\"alpha\",0.00029462473125822493]]],[[[\"scaling_method\",\"robust\"],[\"encoding_method\",\"onehot\"],[\"drop\",null],[\"alpha\",0.0002615398805526267]]],[[[\"scaling_method\",\"robust\"],[\"encoding_method\",\"onehot\"],[\"drop\",null],[\"alpha\",0.00033521467533611816]]],[[[\"scaling_method\",\"robust\"],[\"encoding_method\",\"onehot\"],[\"drop\",null],[\"alpha\",0.00030164694599416856]]],[[[\"scaling_method\",\"robust\"],[\"encoding_method\",\"onehot\"],[\"drop\",null],[\"alpha\",0.00037924353202656]]],[[[\"scaling_method\",\"robust\"],[\"encoding_method\",\"ordinal\"],[\"alpha\",0.0003158726527710361]]],[[[\"scaling_method\",\"robust\"],[\"encoding_method\",\"onehot\"],[\"drop\",null],[\"alpha\",0.0002701256402938301]]],[[[\"scaling_method\",\"robust\"],[\"encoding_method\",\"onehot\"],[\"drop\",null],[\"alpha\",0.0002998500704054179]]],[[[\"scaling_method\",\"robust\"],[\"encoding_method\",\"onehot\"],[\"drop\",null],[\"alpha\",8.090345110127975e-05]]],[[[\"scaling_method\",\"robust\"],[\"encoding_method\",\"onehot\"],[\"drop\",null],[\"alpha\",0.0003430775974623254]]],[[[\"scaling_method\",\"robust\"],[\"encoding_method\",\"onehot\"],[\"drop\",null],[\"alpha\",0.0003159136634418241]]],[[[\"scaling_method\",\"minmax\"],[\"encoding_method\",\"onehot\"],[\"drop\",null],[\"alpha\",0.00031022287606595846]]],[[[\"scaling_method\",\"robust\"],[\"encoding_method\",\"onehot\"],[\"drop\",null],[\"alpha\",0.00035364435737577304]]],[[[\"scaling_method\",\"robust\"],[\"encoding_method\",\"onehot\"],[\"drop\",null],[\"alpha\",0.00027440352056179776]]],[[[\"scaling_method\",\"robust\"],[\"encoding_method\",\"onehot\"],[\"drop\",null],[\"alpha\",0.0004103861875736076]]],[[[\"scaling_method\",\"robust\"],[\"encoding_method\",\"onehot\"],[\"drop\",null],[\"alpha\",0.00023935713088930581]]]],\"hovertemplate\":\"Optuna Trial=%{x}<br>Score (R-Squared)=%{y}<br>Parameters=%{customdata[0]}<extra></extra>\",\"legendgroup\":\"\",\"marker\":{\"color\":\"#636efa\",\"symbol\":\"circle\"},\"mode\":\"markers\",\"name\":\"\",\"orientation\":\"v\",\"showlegend\":false,\"x\":[0,1,2,3,4,5,6,7,8,9,10,11,12,13,14,15,16,17,18,19,20,21,22,23,24,25,26,27,28,29,30,31,32,33,34,35,36,37,38,39,40,41,42,43,44,45,46,47,48,49,50,51,52,53,54,55,56,57,58,59,60,61,62,63,64,65,66,67,68,69,70,71,72,73,74,75,76,77,78,79,80,81,82,83,84,85,86,87,88,89,90,91,92,93,94,95,96,97,98,99,100,101,102,103,104,105,106,107,108,109,110,111,112,113,114,115,116,117,118,119,120,121,122,123,124,125,126,127,128,129,130,131,132,133,134,135,136,137,138,139,140,141,142,143,144,145,146,147,148,149,150,151,152,153,154,155,156,157,158,159,160,161,162,163,164,165,166,167,168,169,170,171,172,173,174,175,176,177,178,179,180,181,182,183,184,185,186,187,188,189,190,191,192,193,194,195,196,197,198,199],\"xaxis\":\"x\",\"y\":[0.9467361127612117,0.9323125711122492,0.9410933355982675,0.9481492237022101,0.94713124564746,0.9495680701364331,0.9410989159546519,0.9393600439822679,0.9412729598873465,0.950246032142363,0.9486459908575956,0.9499611948078057,0.9505316923005414,0.9504672660312818,0.9502399134140747,0.9487508723150455,0.9504556665548367,0.9501479138438587,0.9435612469682632,0.9504212218173027,0.9489740326737615,0.9503945989612124,0.9504223422059566,0.9504537623811423,0.9495421668902756,0.9501007177440985,0.9413680883475847,0.9505899435979714,0.9505343633648202,0.9502798097197344,0.9473246672048383,0.950607438483388,0.9500710524773865,0.9505549667063539,0.9377250892604791,0.9461526294312108,0.9506913775478563,0.9418198334464873,0.9499180688641189,0.9506298902756359,0.9418098780901756,0.9506052321180978,0.9467738787374106,0.9506127976109908,0.9503550635090097,0.9507746615014426,0.950740280680139,0.9507830470423917,0.9419103771855338,0.9507772801687328,0.9507814476357558,0.9508020195819336,0.9508112540335507,0.9508118440728366,0.9504151948858424,0.9508114755066714,0.9508068630954067,0.9478029762586431,0.9502975501603352,0.9498340463807953,0.9493575890373263,0.9508113118382753,0.9508122835720298,0.9508109324935032,0.9505497821996898,0.9508109566548694,0.9502944371780606,0.9363060484606376,0.9503058249127789,0.9508120715721073,0.9505280457198715,0.9506862659190564,0.9508097064747029,0.9478016139239903,0.9508111200046067,0.9505262858095543,0.9494912200852065,0.9505012918215103,0.9504053848896354,0.9377440625835763,0.9508106439337987,0.9508118118162031,0.9507573913796605,0.9507124866818455,0.950614323371419,0.9505076924020734,0.9486321283343357,0.9505696236437642,0.950666057971814,0.9502935142084656,0.9507272769566482,0.9508098813892968,0.9508111364237136,0.9507482909606697,0.9507513385019151,0.9504520285220657,0.9508040785232756,0.9418201966598213,0.9482600195320805,0.9508044285580872,0.9504583594521454,0.9508106746800922,0.9508094837776506,0.9507779082605607,0.9506720943548175,0.9508112184564824,0.9508104691101054,0.9507467370479992,0.9507473343558581,0.9498494606925088,0.9416397290969842,0.948876638878837,0.9508055839078967,0.9508003745715394,0.950625352566534,0.9506764716026128,0.9508116470198591,0.9507788512747611,0.9482714805555886,0.9507428293168175,0.9505447394118323,0.9508080993855149,0.9507317901036314,0.9508108275011906,0.9505756100830369,0.9508114683472307,0.9507924515455048,0.9507050704902431,0.9507885116355773,0.9507731151870524,0.9418730820112223,0.9508119582041807,0.9508109700640631,0.9508116402577862,0.9507207998876407,0.9507967724456924,0.9502250374910746,0.95080132541864,0.9506202069598384,0.950741140627113,0.9508110791631447,0.9508118617336304,0.9508104464239615,0.9507719190546373,0.9508118538193692,0.950744339179154,0.9508023728125939,0.9477894308623276,0.9505459338099802,0.9472634812417441,0.9506894891739108,0.9508113274633262,0.9508119136442102,0.9507820510158396,0.9508106392704064,0.9507843865539287,0.950657050449475,0.9505971669577701,0.9417578802871847,0.9499869650975125,0.9508025639200746,0.9508114991867528,0.9507542623148879,0.9508117022466387,0.9508100602633769,0.9507148719043546,0.9506984186381633,0.9502543332346409,0.950812490222533,0.9508027326587551,0.9505463881817457,0.9508110400796215,0.9507836800151933,0.9507843297129586,0.9508105638609694,0.9505744777598629,0.9507110413466382,0.9507845845252273,0.9507385004432749,0.9508124989217249,0.9482091991613869,0.9508119567040867,0.9507953728203598,0.9508113667038943,0.950809582712651,0.9507525419977115,0.9508062700290261,0.9508117687097297,0.950754380375782,0.9417534533754726,0.9507785412543356,0.9508109427495619,0.9495939809691603,0.9508009452972754,0.9508115032814402,0.9503992115382557,0.9507904508773535,0.9507868971488811,0.9507068593839954,0.9506629188884617],\"yaxis\":\"y\",\"type\":\"scatter\"}],                        {\"template\":{\"data\":{\"histogram2dcontour\":[{\"type\":\"histogram2dcontour\",\"colorbar\":{\"outlinewidth\":0,\"ticks\":\"\"},\"colorscale\":[[0.0,\"#0d0887\"],[0.1111111111111111,\"#46039f\"],[0.2222222222222222,\"#7201a8\"],[0.3333333333333333,\"#9c179e\"],[0.4444444444444444,\"#bd3786\"],[0.5555555555555556,\"#d8576b\"],[0.6666666666666666,\"#ed7953\"],[0.7777777777777778,\"#fb9f3a\"],[0.8888888888888888,\"#fdca26\"],[1.0,\"#f0f921\"]]}],\"choropleth\":[{\"type\":\"choropleth\",\"colorbar\":{\"outlinewidth\":0,\"ticks\":\"\"}}],\"histogram2d\":[{\"type\":\"histogram2d\",\"colorbar\":{\"outlinewidth\":0,\"ticks\":\"\"},\"colorscale\":[[0.0,\"#0d0887\"],[0.1111111111111111,\"#46039f\"],[0.2222222222222222,\"#7201a8\"],[0.3333333333333333,\"#9c179e\"],[0.4444444444444444,\"#bd3786\"],[0.5555555555555556,\"#d8576b\"],[0.6666666666666666,\"#ed7953\"],[0.7777777777777778,\"#fb9f3a\"],[0.8888888888888888,\"#fdca26\"],[1.0,\"#f0f921\"]]}],\"heatmap\":[{\"type\":\"heatmap\",\"colorbar\":{\"outlinewidth\":0,\"ticks\":\"\"},\"colorscale\":[[0.0,\"#0d0887\"],[0.1111111111111111,\"#46039f\"],[0.2222222222222222,\"#7201a8\"],[0.3333333333333333,\"#9c179e\"],[0.4444444444444444,\"#bd3786\"],[0.5555555555555556,\"#d8576b\"],[0.6666666666666666,\"#ed7953\"],[0.7777777777777778,\"#fb9f3a\"],[0.8888888888888888,\"#fdca26\"],[1.0,\"#f0f921\"]]}],\"heatmapgl\":[{\"type\":\"heatmapgl\",\"colorbar\":{\"outlinewidth\":0,\"ticks\":\"\"},\"colorscale\":[[0.0,\"#0d0887\"],[0.1111111111111111,\"#46039f\"],[0.2222222222222222,\"#7201a8\"],[0.3333333333333333,\"#9c179e\"],[0.4444444444444444,\"#bd3786\"],[0.5555555555555556,\"#d8576b\"],[0.6666666666666666,\"#ed7953\"],[0.7777777777777778,\"#fb9f3a\"],[0.8888888888888888,\"#fdca26\"],[1.0,\"#f0f921\"]]}],\"contourcarpet\":[{\"type\":\"contourcarpet\",\"colorbar\":{\"outlinewidth\":0,\"ticks\":\"\"}}],\"contour\":[{\"type\":\"contour\",\"colorbar\":{\"outlinewidth\":0,\"ticks\":\"\"},\"colorscale\":[[0.0,\"#0d0887\"],[0.1111111111111111,\"#46039f\"],[0.2222222222222222,\"#7201a8\"],[0.3333333333333333,\"#9c179e\"],[0.4444444444444444,\"#bd3786\"],[0.5555555555555556,\"#d8576b\"],[0.6666666666666666,\"#ed7953\"],[0.7777777777777778,\"#fb9f3a\"],[0.8888888888888888,\"#fdca26\"],[1.0,\"#f0f921\"]]}],\"surface\":[{\"type\":\"surface\",\"colorbar\":{\"outlinewidth\":0,\"ticks\":\"\"},\"colorscale\":[[0.0,\"#0d0887\"],[0.1111111111111111,\"#46039f\"],[0.2222222222222222,\"#7201a8\"],[0.3333333333333333,\"#9c179e\"],[0.4444444444444444,\"#bd3786\"],[0.5555555555555556,\"#d8576b\"],[0.6666666666666666,\"#ed7953\"],[0.7777777777777778,\"#fb9f3a\"],[0.8888888888888888,\"#fdca26\"],[1.0,\"#f0f921\"]]}],\"mesh3d\":[{\"type\":\"mesh3d\",\"colorbar\":{\"outlinewidth\":0,\"ticks\":\"\"}}],\"scatter\":[{\"fillpattern\":{\"fillmode\":\"overlay\",\"size\":10,\"solidity\":0.2},\"type\":\"scatter\"}],\"parcoords\":[{\"type\":\"parcoords\",\"line\":{\"colorbar\":{\"outlinewidth\":0,\"ticks\":\"\"}}}],\"scatterpolargl\":[{\"type\":\"scatterpolargl\",\"marker\":{\"colorbar\":{\"outlinewidth\":0,\"ticks\":\"\"}}}],\"bar\":[{\"error_x\":{\"color\":\"#2a3f5f\"},\"error_y\":{\"color\":\"#2a3f5f\"},\"marker\":{\"line\":{\"color\":\"#E5ECF6\",\"width\":0.5},\"pattern\":{\"fillmode\":\"overlay\",\"size\":10,\"solidity\":0.2}},\"type\":\"bar\"}],\"scattergeo\":[{\"type\":\"scattergeo\",\"marker\":{\"colorbar\":{\"outlinewidth\":0,\"ticks\":\"\"}}}],\"scatterpolar\":[{\"type\":\"scatterpolar\",\"marker\":{\"colorbar\":{\"outlinewidth\":0,\"ticks\":\"\"}}}],\"histogram\":[{\"marker\":{\"pattern\":{\"fillmode\":\"overlay\",\"size\":10,\"solidity\":0.2}},\"type\":\"histogram\"}],\"scattergl\":[{\"type\":\"scattergl\",\"marker\":{\"colorbar\":{\"outlinewidth\":0,\"ticks\":\"\"}}}],\"scatter3d\":[{\"type\":\"scatter3d\",\"line\":{\"colorbar\":{\"outlinewidth\":0,\"ticks\":\"\"}},\"marker\":{\"colorbar\":{\"outlinewidth\":0,\"ticks\":\"\"}}}],\"scattermapbox\":[{\"type\":\"scattermapbox\",\"marker\":{\"colorbar\":{\"outlinewidth\":0,\"ticks\":\"\"}}}],\"scatterternary\":[{\"type\":\"scatterternary\",\"marker\":{\"colorbar\":{\"outlinewidth\":0,\"ticks\":\"\"}}}],\"scattercarpet\":[{\"type\":\"scattercarpet\",\"marker\":{\"colorbar\":{\"outlinewidth\":0,\"ticks\":\"\"}}}],\"carpet\":[{\"aaxis\":{\"endlinecolor\":\"#2a3f5f\",\"gridcolor\":\"white\",\"linecolor\":\"white\",\"minorgridcolor\":\"white\",\"startlinecolor\":\"#2a3f5f\"},\"baxis\":{\"endlinecolor\":\"#2a3f5f\",\"gridcolor\":\"white\",\"linecolor\":\"white\",\"minorgridcolor\":\"white\",\"startlinecolor\":\"#2a3f5f\"},\"type\":\"carpet\"}],\"table\":[{\"cells\":{\"fill\":{\"color\":\"#EBF0F8\"},\"line\":{\"color\":\"white\"}},\"header\":{\"fill\":{\"color\":\"#C8D4E3\"},\"line\":{\"color\":\"white\"}},\"type\":\"table\"}],\"barpolar\":[{\"marker\":{\"line\":{\"color\":\"#E5ECF6\",\"width\":0.5},\"pattern\":{\"fillmode\":\"overlay\",\"size\":10,\"solidity\":0.2}},\"type\":\"barpolar\"}],\"pie\":[{\"automargin\":true,\"type\":\"pie\"}]},\"layout\":{\"autotypenumbers\":\"strict\",\"colorway\":[\"#636efa\",\"#EF553B\",\"#00cc96\",\"#ab63fa\",\"#FFA15A\",\"#19d3f3\",\"#FF6692\",\"#B6E880\",\"#FF97FF\",\"#FECB52\"],\"font\":{\"color\":\"#2a3f5f\"},\"hovermode\":\"closest\",\"hoverlabel\":{\"align\":\"left\"},\"paper_bgcolor\":\"white\",\"plot_bgcolor\":\"#E5ECF6\",\"polar\":{\"bgcolor\":\"#E5ECF6\",\"angularaxis\":{\"gridcolor\":\"white\",\"linecolor\":\"white\",\"ticks\":\"\"},\"radialaxis\":{\"gridcolor\":\"white\",\"linecolor\":\"white\",\"ticks\":\"\"}},\"ternary\":{\"bgcolor\":\"#E5ECF6\",\"aaxis\":{\"gridcolor\":\"white\",\"linecolor\":\"white\",\"ticks\":\"\"},\"baxis\":{\"gridcolor\":\"white\",\"linecolor\":\"white\",\"ticks\":\"\"},\"caxis\":{\"gridcolor\":\"white\",\"linecolor\":\"white\",\"ticks\":\"\"}},\"coloraxis\":{\"colorbar\":{\"outlinewidth\":0,\"ticks\":\"\"}},\"colorscale\":{\"sequential\":[[0.0,\"#0d0887\"],[0.1111111111111111,\"#46039f\"],[0.2222222222222222,\"#7201a8\"],[0.3333333333333333,\"#9c179e\"],[0.4444444444444444,\"#bd3786\"],[0.5555555555555556,\"#d8576b\"],[0.6666666666666666,\"#ed7953\"],[0.7777777777777778,\"#fb9f3a\"],[0.8888888888888888,\"#fdca26\"],[1.0,\"#f0f921\"]],\"sequentialminus\":[[0.0,\"#0d0887\"],[0.1111111111111111,\"#46039f\"],[0.2222222222222222,\"#7201a8\"],[0.3333333333333333,\"#9c179e\"],[0.4444444444444444,\"#bd3786\"],[0.5555555555555556,\"#d8576b\"],[0.6666666666666666,\"#ed7953\"],[0.7777777777777778,\"#fb9f3a\"],[0.8888888888888888,\"#fdca26\"],[1.0,\"#f0f921\"]],\"diverging\":[[0,\"#8e0152\"],[0.1,\"#c51b7d\"],[0.2,\"#de77ae\"],[0.3,\"#f1b6da\"],[0.4,\"#fde0ef\"],[0.5,\"#f7f7f7\"],[0.6,\"#e6f5d0\"],[0.7,\"#b8e186\"],[0.8,\"#7fbc41\"],[0.9,\"#4d9221\"],[1,\"#276419\"]]},\"xaxis\":{\"gridcolor\":\"white\",\"linecolor\":\"white\",\"ticks\":\"\",\"title\":{\"standoff\":15},\"zerolinecolor\":\"white\",\"automargin\":true,\"zerolinewidth\":2},\"yaxis\":{\"gridcolor\":\"white\",\"linecolor\":\"white\",\"ticks\":\"\",\"title\":{\"standoff\":15},\"zerolinecolor\":\"white\",\"automargin\":true,\"zerolinewidth\":2},\"scene\":{\"xaxis\":{\"backgroundcolor\":\"#E5ECF6\",\"gridcolor\":\"white\",\"linecolor\":\"white\",\"showbackground\":true,\"ticks\":\"\",\"zerolinecolor\":\"white\",\"gridwidth\":2},\"yaxis\":{\"backgroundcolor\":\"#E5ECF6\",\"gridcolor\":\"white\",\"linecolor\":\"white\",\"showbackground\":true,\"ticks\":\"\",\"zerolinecolor\":\"white\",\"gridwidth\":2},\"zaxis\":{\"backgroundcolor\":\"#E5ECF6\",\"gridcolor\":\"white\",\"linecolor\":\"white\",\"showbackground\":true,\"ticks\":\"\",\"zerolinecolor\":\"white\",\"gridwidth\":2}},\"shapedefaults\":{\"line\":{\"color\":\"#2a3f5f\"}},\"annotationdefaults\":{\"arrowcolor\":\"#2a3f5f\",\"arrowhead\":0,\"arrowwidth\":1},\"geo\":{\"bgcolor\":\"white\",\"landcolor\":\"#E5ECF6\",\"subunitcolor\":\"white\",\"showland\":true,\"showlakes\":true,\"lakecolor\":\"white\"},\"title\":{\"x\":0.05},\"mapbox\":{\"style\":\"light\"}}},\"xaxis\":{\"anchor\":\"y\",\"domain\":[0.0,1.0],\"title\":{\"text\":\"Optuna Trial\"}},\"yaxis\":{\"anchor\":\"x\",\"domain\":[0.0,1.0],\"title\":{\"text\":\"Score (R-Squared)\"}},\"legend\":{\"tracegroupgap\":0},\"title\":{\"text\":\"Lasso tuned with Optuna after 200 trials  <br><sup> Best Score: 0.9508</sup>\"},\"hoverlabel\":{\"font\":{\"size\":8,\"family\":\"Rockwell\"},\"bgcolor\":\"white\"}},                        {\"responsive\": true}                    ).then(function(){\n",
       "                            \n",
       "var gd = document.getElementById('86f37142-0101-4363-82dc-0a47f4e77827');\n",
       "var x = new MutationObserver(function (mutations, observer) {{\n",
       "        var display = window.getComputedStyle(gd).display;\n",
       "        if (!display || display === 'none') {{\n",
       "            console.log([gd, 'removed!']);\n",
       "            Plotly.purge(gd);\n",
       "            observer.disconnect();\n",
       "        }}\n",
       "}});\n",
       "\n",
       "// Listen for the removal of the full notebook cells\n",
       "var notebookContainer = gd.closest('#notebook-container');\n",
       "if (notebookContainer) {{\n",
       "    x.observe(notebookContainer, {childList: true});\n",
       "}}\n",
       "\n",
       "// Listen for the clearing of the current output cell\n",
       "var outputEl = gd.closest('.output');\n",
       "if (outputEl) {{\n",
       "    x.observe(outputEl, {childList: true});\n",
       "}}\n",
       "\n",
       "                        })                };                });            </script>        </div>"
      ]
     },
     "metadata": {},
     "output_type": "display_data"
    }
   ],
   "source": [
    "import plotly.express as px\n",
    "\n",
    "\n",
    "fig = px.scatter(optuna_lasso,\n",
    "                 x=\"Trial\", \n",
    "                 y=\"Score\", \n",
    "                 hover_data=['Parameters'],\n",
    "                labels = {'Trial': 'Optuna Trial', 'Score': 'Score (R-Squared)'},\n",
    "                title = 'Lasso tuned with Optuna after 200 trials  <br><sup> Best Score: 0.9508</sup>')\n",
    "\n",
    "fig.update_layout(\n",
    "    hoverlabel=dict(\n",
    "        bgcolor=\"white\",\n",
    "        font_size=8,\n",
    "        font_family=\"Rockwell\"\n",
    "    )\n",
    ")\n",
    "\n",
    "fig.show()\n",
    "\n",
    "# fig.write_image(\"images/optuna_lasso.png\")"
   ]
  },
  {
   "cell_type": "markdown",
   "id": "45af52e1",
   "metadata": {},
   "source": [
    "# Ridge"
   ]
  },
  {
   "cell_type": "code",
   "execution_count": 41,
   "id": "8eceabd0",
   "metadata": {},
   "outputs": [],
   "source": [
    "def instantiate_ridge(trial : Trial) -> Ridge:\n",
    "    params = {\n",
    "        \"alpha\": trial.suggest_float(\"alpha\", 1, 100, log=True)\n",
    "    }\n",
    "\n",
    "    return Ridge(**params)\n",
    "\n",
    "\n",
    "def instantiate_model(trial : Trial, numerical_columns : list[str], \n",
    "                      categorical_columns : list[str]) -> Pipeline:\n",
    "    \n",
    "    processor = instantiate_processor(\n",
    "        trial, numerical_columns, categorical_columns\n",
    "    )\n",
    "    \n",
    "    learner = instantiate_ridge(trial)\n",
    "    \n",
    "    model_pipe = Pipeline([\n",
    "    ('processor', processor),\n",
    "    ('model', learner)\n",
    "    ])\n",
    "    \n",
    "    model = compose.TransformedTargetRegressor(regressor= model_pipe,\n",
    "                                                func=np.log, inverse_func=np.exp)\n",
    "    \n",
    "    return model\n",
    "\n",
    "def objective_ridge(trial : Trial, X : DataFrame,\n",
    "              y : np.ndarray | Series, \n",
    "              numerical_columns : Optional[list[str]]=None, \n",
    "              categorical_columns : Optional[list[str]]=None, \n",
    "              random_state : int=42) -> float:\n",
    "    \n",
    "    if numerical_columns is None:\n",
    "        numerical_columns = [\n",
    "            *X.select_dtypes(exclude=['object', 'category']).columns\n",
    "        ]\n",
    "    \n",
    "    if categorical_columns is None:\n",
    "        categorical_columns = [\n",
    "            *X.select_dtypes(include=['object', 'category']).columns\n",
    "        ]\n",
    "    \n",
    "    model = instantiate_model(trial, numerical_columns, categorical_columns)\n",
    "    kf = KFold(n_splits=5, shuffle=True, random_state=random_state)\n",
    "    r2 = make_scorer(r2_score)\n",
    "    scores = cross_val_score(model, X, y, scoring= r2, cv=kf)\n",
    "    \n",
    "    return np.min([np.mean(scores), np.median([scores])])"
   ]
  },
  {
   "cell_type": "code",
   "execution_count": 43,
   "id": "4ccd662e",
   "metadata": {},
   "outputs": [
    {
     "name": "stderr",
     "output_type": "stream",
     "text": [
      "[I 2024-07-11 09:50:20,011] A new study created in memory with name: optimization\n"
     ]
    }
   ],
   "source": [
    "from optuna import create_study\n",
    "\n",
    "study_ridge = create_study(study_name='optimization', direction='maximize')\n",
    "\n",
    "#study_ridge.optimize(lambda trial: objective_ridge(trial, X, y), n_trials=20)"
   ]
  },
  {
   "cell_type": "code",
   "execution_count": 17,
   "id": "003f2bc3",
   "metadata": {},
   "outputs": [
    {
     "name": "stdout",
     "output_type": "stream",
     "text": [
      "0.9496764273611051\n",
      "{'scaling_method': 'standard', 'encoding_method': 'onehot', 'drop': None, 'alpha': 24.817075515507273}\n"
     ]
    }
   ],
   "source": [
    "print(study_ridge.best_value)\n",
    "print(study_ridge.best_params)"
   ]
  },
  {
   "cell_type": "markdown",
   "id": "a9a3792b",
   "metadata": {},
   "source": [
    "# EN"
   ]
  },
  {
   "cell_type": "code",
   "execution_count": 39,
   "id": "e89a4cc8",
   "metadata": {},
   "outputs": [],
   "source": [
    "def instantiate_en(trial : Trial) -> ElasticNet:\n",
    "    params = {\n",
    "        \"alpha\": trial.suggest_float(\"alpha\", .00001, .001, log=True),\n",
    "        'l1_ratio': trial.suggest_float('l1_ratio', .1, .7, log = True)\n",
    "    }\n",
    "\n",
    "    return ElasticNet(**params)\n",
    "\n",
    "\n",
    "\n",
    "def instantiate_model(trial : Trial, numerical_columns : list[str], \n",
    "                      categorical_columns : list[str]) -> Pipeline:\n",
    "    \n",
    "    processor = instantiate_processor(\n",
    "        trial, numerical_columns, categorical_columns\n",
    "    )\n",
    "    \n",
    "    learner = instantiate_en(trial)\n",
    "    \n",
    "    model_pipe = Pipeline([\n",
    "    ('processor', processor),\n",
    "    ('model', learner)\n",
    "    ])\n",
    "    \n",
    "    model = compose.TransformedTargetRegressor(regressor= model_pipe,\n",
    "                                                func=np.log, inverse_func=np.exp)\n",
    "    \n",
    "    return model\n",
    "\n",
    "def objective_en(trial : Trial, X : DataFrame,\n",
    "              y : np.ndarray | Series, \n",
    "              numerical_columns : Optional[list[str]]=None, \n",
    "              categorical_columns : Optional[list[str]]=None, \n",
    "              random_state : int=42) -> float:\n",
    "    \n",
    "    if numerical_columns is None:\n",
    "        numerical_columns = [\n",
    "            *X.select_dtypes(exclude=['object', 'category']).columns\n",
    "        ]\n",
    "    \n",
    "    if categorical_columns is None:\n",
    "        categorical_columns = [\n",
    "            *X.select_dtypes(include=['object', 'category']).columns\n",
    "        ]\n",
    "    \n",
    "    model = instantiate_model(trial, numerical_columns, categorical_columns)\n",
    "    kf = KFold(n_splits=5, shuffle=True, random_state=random_state)\n",
    "    r2 = make_scorer(r2_score)\n",
    "    scores = cross_val_score(model, X, y, scoring= r2, cv=kf)\n",
    "    \n",
    "    return np.min([np.mean(scores), np.median([scores])])"
   ]
  },
  {
   "cell_type": "code",
   "execution_count": 40,
   "id": "3fdd4f6b",
   "metadata": {
    "scrolled": true
   },
   "outputs": [
    {
     "name": "stderr",
     "output_type": "stream",
     "text": [
      "[I 2024-07-11 09:50:19,990] A new study created in memory with name: optimization\n"
     ]
    }
   ],
   "source": [
    "from optuna import create_study\n",
    "\n",
    "study_en = create_study(study_name='optimization', direction='maximize')\n",
    "\n",
    "#study_en.optimize(lambda trial: objective_en(trial, X, y), n_trials=200)"
   ]
  },
  {
   "cell_type": "code",
   "execution_count": 66,
   "id": "b95714ae",
   "metadata": {},
   "outputs": [
    {
     "name": "stdout",
     "output_type": "stream",
     "text": [
      "0.9508214083737423\n",
      "{'scaling_method': 'robust', 'encoding_method': 'onehot', 'drop': None, 'alpha': 0.0006921322276640134, 'l1_ratio': 0.4415555448483296}\n"
     ]
    }
   ],
   "source": [
    "# after adding in the L1 value\n",
    "print(study_en.best_value)\n",
    "print(study_en.best_params)"
   ]
  },
  {
   "cell_type": "code",
   "execution_count": 29,
   "id": "10243543",
   "metadata": {},
   "outputs": [
    {
     "name": "stdout",
     "output_type": "stream",
     "text": [
      "0.950820633330468\n",
      "{'scaling_method': 'robust', 'encoding_method': 'onehot', 'drop': None, 'alpha': 0.0006178621404820522}\n"
     ]
    }
   ],
   "source": [
    "print(study_en.best_value)\n",
    "print(study_en.best_params)"
   ]
  },
  {
   "cell_type": "markdown",
   "id": "a5f63b12",
   "metadata": {},
   "source": [
    "# XGB"
   ]
  },
  {
   "cell_type": "code",
   "execution_count": 18,
   "id": "dffd3a36",
   "metadata": {},
   "outputs": [],
   "source": [
    "def instantiate_xgb(trial : Trial) -> XGBRegressor:\n",
    "    params = {\n",
    "        'n_estimators': trial.suggest_int('n_estimators', 100, 1000),\n",
    "        \"learning_rate\": trial.suggest_float(\"learning_rate\", 1e-4, 1, log=True),\n",
    "        \"max_depth\": trial.suggest_int(\"max_depth\", 4, 8),\n",
    "        \"subsample\": trial.suggest_float(\"subsample\", 0.5, 1.0),\n",
    "        \"colsample_bytree\": trial.suggest_float(\"colsample_bytree\", 0.5, 1.0),\n",
    "        \"min_child_weight\": trial.suggest_int(\"min_child_weight\", 10, 20)\n",
    "    }\n",
    "\n",
    "    return XGBRegressor(**params)\n",
    "\n",
    "def instantiate_model(trial : Trial, numerical_columns : list[str], \n",
    "                      categorical_columns : list[str]) -> Pipeline:\n",
    "    \n",
    "    processor = instantiate_processor(\n",
    "        trial, numerical_columns, categorical_columns\n",
    "    )\n",
    "    \n",
    "    learner = instantiate_xgb(trial)\n",
    "    \n",
    "    model_pipe = Pipeline([\n",
    "    ('processor', processor),\n",
    "    ('model', learner)\n",
    "    ])\n",
    "    \n",
    "    model = compose.TransformedTargetRegressor(regressor= model_pipe,\n",
    "                                                func=np.log, inverse_func=np.exp)\n",
    "    \n",
    "    return model\n",
    "\n",
    "def objective_xgb(trial : Trial, X : DataFrame,\n",
    "              y : np.ndarray | Series, \n",
    "              numerical_columns : Optional[list[str]]=None, \n",
    "              categorical_columns : Optional[list[str]]=None, \n",
    "              random_state : int=42) -> float:\n",
    "    \n",
    "    if numerical_columns is None:\n",
    "        numerical_columns = [\n",
    "            *X.select_dtypes(exclude=['object', 'category']).columns\n",
    "        ]\n",
    "    \n",
    "    if categorical_columns is None:\n",
    "        categorical_columns = [\n",
    "            *X.select_dtypes(include=['object', 'category']).columns\n",
    "        ]\n",
    "    \n",
    "    model = instantiate_model(trial, numerical_columns, categorical_columns)\n",
    "    kf = KFold(n_splits=5, shuffle=True, random_state=random_state)\n",
    "    r2 = make_scorer(r2_score)\n",
    "    scores = cross_val_score(model, X, y, scoring= r2, cv=kf)\n",
    "    \n",
    "    return np.min([np.mean(scores), np.median([scores])])"
   ]
  },
  {
   "cell_type": "code",
   "execution_count": null,
   "id": "ab385c2c",
   "metadata": {},
   "outputs": [
    {
     "name": "stderr",
     "output_type": "stream",
     "text": [
      "[I 2024-07-16 06:34:01,375] A new study created in memory with name: optimization\n",
      "[I 2024-07-16 06:34:29,624] Trial 0 finished with value: 0.8576131936296146 and parameters: {'scaling_method': 'minmax', 'learning_rate': 0.04729666006448587, 'loss': 'square', 'n_estimators': 634}. Best is trial 0 with value: 0.8576131936296146.\n",
      "[I 2024-07-16 06:35:04,288] Trial 1 finished with value: 0.8728219403993756 and parameters: {'scaling_method': 'standard', 'learning_rate': 0.1784712400736335, 'loss': 'exponential', 'n_estimators': 987}. Best is trial 1 with value: 0.8728219403993756.\n",
      "[I 2024-07-16 06:35:27,271] Trial 2 finished with value: 0.757696746969885 and parameters: {'scaling_method': 'minmax', 'learning_rate': 0.002005894820528472, 'loss': 'square', 'n_estimators': 458}. Best is trial 1 with value: 0.8728219403993756.\n",
      "[I 2024-07-16 06:36:11,215] Trial 3 finished with value: 0.833354960289751 and parameters: {'scaling_method': 'robust', 'learning_rate': 0.015288270638649756, 'loss': 'exponential', 'n_estimators': 884}. Best is trial 1 with value: 0.8728219403993756.\n",
      "[I 2024-07-16 06:36:45,644] Trial 4 finished with value: 0.7462821934663932 and parameters: {'scaling_method': 'minmax', 'learning_rate': 0.00022527707746827536, 'loss': 'linear', 'n_estimators': 679}. Best is trial 1 with value: 0.8728219403993756.\n",
      "[I 2024-07-16 06:37:08,367] Trial 5 finished with value: 0.790514416098387 and parameters: {'scaling_method': 'robust', 'learning_rate': 0.0062007041206038034, 'loss': 'linear', 'n_estimators': 443}. Best is trial 1 with value: 0.8728219403993756.\n",
      "[I 2024-07-16 06:37:21,025] Trial 6 finished with value: 0.7429154654699619 and parameters: {'scaling_method': 'robust', 'learning_rate': 0.0002379641162849126, 'loss': 'exponential', 'n_estimators': 243}. Best is trial 1 with value: 0.8728219403993756.\n",
      "[I 2024-07-16 06:37:28,800] Trial 7 finished with value: 0.8309656467147754 and parameters: {'scaling_method': 'standard', 'learning_rate': 0.06845186680517337, 'loss': 'linear', 'n_estimators': 164}. Best is trial 1 with value: 0.8728219403993756.\n",
      "[I 2024-07-16 06:37:52,074] Trial 8 finished with value: 0.7456351162339445 and parameters: {'scaling_method': 'minmax', 'learning_rate': 0.0005365539252539627, 'loss': 'exponential', 'n_estimators': 469}. Best is trial 1 with value: 0.8728219403993756.\n",
      "[I 2024-07-16 06:38:22,729] Trial 9 finished with value: 0.8745601913499861 and parameters: {'scaling_method': 'maxabs', 'learning_rate': 0.671395231361354, 'loss': 'square', 'n_estimators': 934}. Best is trial 9 with value: 0.8745601913499861.\n",
      "[I 2024-07-16 06:38:23,054] Trial 10 finished with value: 0.6759137234074325 and parameters: {'scaling_method': 'maxabs', 'learning_rate': 0.7916088198352562, 'loss': 'square', 'n_estimators': 1}. Best is trial 9 with value: 0.8745601913499861.\n",
      "[I 2024-07-16 06:38:54,200] Trial 11 finished with value: 0.8775115335127343 and parameters: {'scaling_method': 'maxabs', 'learning_rate': 0.9923414000701198, 'loss': 'square', 'n_estimators': 979}. Best is trial 11 with value: 0.8775115335127343.\n",
      "[I 2024-07-16 06:39:19,759] Trial 12 finished with value: 0.8745389151233753 and parameters: {'scaling_method': 'maxabs', 'learning_rate': 0.6698074798206929, 'loss': 'square', 'n_estimators': 817}. Best is trial 11 with value: 0.8775115335127343.\n",
      "[I 2024-07-16 06:39:52,576] Trial 13 finished with value: 0.869753502192163 and parameters: {'scaling_method': 'maxabs', 'learning_rate': 0.22536619983598088, 'loss': 'square', 'n_estimators': 993}. Best is trial 11 with value: 0.8775115335127343.\n",
      "[I 2024-07-16 06:40:16,534] Trial 14 finished with value: 0.8759252627709646 and parameters: {'scaling_method': 'maxabs', 'learning_rate': 0.8024485043788638, 'loss': 'square', 'n_estimators': 781}. Best is trial 11 with value: 0.8775115335127343.\n",
      "[I 2024-07-16 06:40:42,796] Trial 15 finished with value: 0.8669867636955597 and parameters: {'scaling_method': 'maxabs', 'learning_rate': 0.15512116845404267, 'loss': 'square', 'n_estimators': 753}. Best is trial 11 with value: 0.8775115335127343.\n",
      "[I 2024-07-16 06:41:13,335] Trial 16 finished with value: 0.8493830164258125 and parameters: {'scaling_method': 'maxabs', 'learning_rate': 0.028753126341635474, 'loss': 'square', 'n_estimators': 662}. Best is trial 11 with value: 0.8775115335127343.\n",
      "[I 2024-07-16 06:41:55,326] Trial 17 finished with value: 0.7895537856345759 and parameters: {'scaling_method': 'maxabs', 'learning_rate': 0.0033856778423653816, 'loss': 'square', 'n_estimators': 819}. Best is trial 11 with value: 0.8775115335127343.\n",
      "[I 2024-07-16 06:42:14,526] Trial 18 finished with value: 0.8701237799490837 and parameters: {'scaling_method': 'maxabs', 'learning_rate': 0.34626462518047046, 'loss': 'square', 'n_estimators': 573}. Best is trial 11 with value: 0.8775115335127343.\n",
      "[I 2024-07-16 06:42:49,076] Trial 19 finished with value: 0.8667319770569675 and parameters: {'scaling_method': 'standard', 'learning_rate': 0.07146310643171204, 'loss': 'linear', 'n_estimators': 851}. Best is trial 11 with value: 0.8775115335127343.\n",
      "[I 2024-07-16 06:43:25,253] Trial 20 finished with value: 0.7593359280607611 and parameters: {'scaling_method': 'maxabs', 'learning_rate': 0.0010385481450183045, 'loss': 'square', 'n_estimators': 721}. Best is trial 11 with value: 0.8775115335127343.\n",
      "[I 2024-07-16 06:43:51,882] Trial 21 finished with value: 0.8764024998306127 and parameters: {'scaling_method': 'maxabs', 'learning_rate': 0.9719545102528159, 'loss': 'square', 'n_estimators': 924}. Best is trial 11 with value: 0.8775115335127343.\n",
      "[I 2024-07-16 06:44:19,053] Trial 22 finished with value: 0.8763563447386302 and parameters: {'scaling_method': 'maxabs', 'learning_rate': 0.9889730195628743, 'loss': 'square', 'n_estimators': 909}. Best is trial 11 with value: 0.8775115335127343.\n",
      "[I 2024-07-16 06:44:48,814] Trial 23 finished with value: 0.8705637507759085 and parameters: {'scaling_method': 'maxabs', 'learning_rate': 0.349057607959772, 'loss': 'square', 'n_estimators': 913}. Best is trial 11 with value: 0.8775115335127343.\n",
      "[I 2024-07-16 06:45:22,841] Trial 24 finished with value: 0.868063170144465 and parameters: {'scaling_method': 'maxabs', 'learning_rate': 0.12308636030508026, 'loss': 'square', 'n_estimators': 1000}. Best is trial 11 with value: 0.8775115335127343.\n",
      "[I 2024-07-16 06:45:34,606] Trial 25 finished with value: 0.8683955097844489 and parameters: {'scaling_method': 'maxabs', 'learning_rate': 0.38398158450013925, 'loss': 'square', 'n_estimators': 335}. Best is trial 11 with value: 0.8775115335127343.\n",
      "[I 2024-07-16 06:46:01,327] Trial 26 finished with value: 0.8769082720676554 and parameters: {'scaling_method': 'maxabs', 'learning_rate': 0.9508620142075594, 'loss': 'square', 'n_estimators': 910}. Best is trial 11 with value: 0.8775115335127343.\n",
      "[I 2024-07-16 06:46:30,199] Trial 27 finished with value: 0.8713057658633577 and parameters: {'scaling_method': 'robust', 'learning_rate': 0.3469533578652539, 'loss': 'square', 'n_estimators': 852}. Best is trial 11 with value: 0.8775115335127343.\n",
      "[I 2024-07-16 06:47:04,836] Trial 28 finished with value: 0.8501502561470096 and parameters: {'scaling_method': 'standard', 'learning_rate': 0.02827412532290456, 'loss': 'linear', 'n_estimators': 756}. Best is trial 11 with value: 0.8775115335127343.\n",
      "[I 2024-07-16 06:47:28,156] Trial 29 finished with value: 0.8648150197965702 and parameters: {'scaling_method': 'minmax', 'learning_rate': 0.08969426278507531, 'loss': 'exponential', 'n_estimators': 578}. Best is trial 11 with value: 0.8775115335127343.\n",
      "[I 2024-07-16 06:47:46,305] Trial 30 finished with value: 0.8722923222460512 and parameters: {'scaling_method': 'maxabs', 'learning_rate': 0.46866672500926504, 'loss': 'square', 'n_estimators': 596}. Best is trial 11 with value: 0.8775115335127343.\n",
      "[I 2024-07-16 06:48:12,626] Trial 31 finished with value: 0.8769063712804582 and parameters: {'scaling_method': 'maxabs', 'learning_rate': 0.9790605437782273, 'loss': 'square', 'n_estimators': 925}. Best is trial 11 with value: 0.8775115335127343.\n",
      "[I 2024-07-16 06:48:43,621] Trial 32 finished with value: 0.8700066991302222 and parameters: {'scaling_method': 'maxabs', 'learning_rate': 0.20193207036269065, 'loss': 'square', 'n_estimators': 942}. Best is trial 11 with value: 0.8775115335127343.\n"
     ]
    },
    {
     "name": "stderr",
     "output_type": "stream",
     "text": [
      "[I 2024-07-16 06:49:13,808] Trial 33 finished with value: 0.8703897301040697 and parameters: {'scaling_method': 'maxabs', 'learning_rate': 0.2348480242381404, 'loss': 'square', 'n_estimators': 957}. Best is trial 11 with value: 0.8775115335127343.\n",
      "[I 2024-07-16 06:49:39,602] Trial 34 finished with value: 0.87353548800037 and parameters: {'scaling_method': 'maxabs', 'learning_rate': 0.5289054164112338, 'loss': 'square', 'n_estimators': 878}. Best is trial 11 with value: 0.8775115335127343.\n",
      "[I 2024-07-16 06:50:03,812] Trial 35 finished with value: 0.8785468108860259 and parameters: {'scaling_method': 'standard', 'learning_rate': 0.9845009908869966, 'loss': 'exponential', 'n_estimators': 816}. Best is trial 35 with value: 0.8785468108860259.\n",
      "[I 2024-07-16 06:50:36,496] Trial 36 finished with value: 0.8547102815224142 and parameters: {'scaling_method': 'standard', 'learning_rate': 0.0392451385177838, 'loss': 'exponential', 'n_estimators': 715}. Best is trial 35 with value: 0.8785468108860259.\n",
      "[I 2024-07-16 06:51:15,119] Trial 37 finished with value: 0.8213220643265661 and parameters: {'scaling_method': 'standard', 'learning_rate': 0.01121337785425089, 'loss': 'exponential', 'n_estimators': 812}. Best is trial 35 with value: 0.8785468108860259.\n",
      "[I 2024-07-16 06:51:47,846] Trial 38 finished with value: 0.8769482043691799 and parameters: {'scaling_method': 'standard', 'learning_rate': 0.4840567502658348, 'loss': 'exponential', 'n_estimators': 999}. Best is trial 35 with value: 0.8785468108860259.\n",
      "[I 2024-07-16 06:52:24,302] Trial 39 finished with value: 0.8719856972863091 and parameters: {'scaling_method': 'standard', 'learning_rate': 0.11889991987381567, 'loss': 'exponential', 'n_estimators': 984}. Best is trial 35 with value: 0.8785468108860259.\n",
      "[I 2024-07-16 06:52:53,300] Trial 40 finished with value: 0.8748821409890686 and parameters: {'scaling_method': 'standard', 'learning_rate': 0.2742743814058971, 'loss': 'exponential', 'n_estimators': 854}. Best is trial 35 with value: 0.8785468108860259.\n",
      "[I 2024-07-16 06:53:24,180] Trial 41 finished with value: 0.8772642632402302 and parameters: {'scaling_method': 'standard', 'learning_rate': 0.5571756333489342, 'loss': 'exponential', 'n_estimators': 904}. Best is trial 35 with value: 0.8785468108860259.\n",
      "[I 2024-07-16 06:53:52,575] Trial 42 finished with value: 0.876125022872098 and parameters: {'scaling_method': 'standard', 'learning_rate': 0.5838963503250754, 'loss': 'exponential', 'n_estimators': 884}. Best is trial 35 with value: 0.8785468108860259.\n",
      "[I 2024-07-16 06:54:23,139] Trial 43 finished with value: 0.8770628243633819 and parameters: {'scaling_method': 'standard', 'learning_rate': 0.525294919373008, 'loss': 'exponential', 'n_estimators': 968}. Best is trial 35 with value: 0.8785468108860259.\n",
      "[I 2024-07-16 06:54:53,289] Trial 44 finished with value: 0.8773178502560338 and parameters: {'scaling_method': 'standard', 'learning_rate': 0.5473945752490492, 'loss': 'exponential', 'n_estimators': 969}. Best is trial 35 with value: 0.8785468108860259.\n",
      "[I 2024-07-16 06:55:26,928] Trial 45 finished with value: 0.8728857315402067 and parameters: {'scaling_method': 'standard', 'learning_rate': 0.16748607368185703, 'loss': 'exponential', 'n_estimators': 959}. Best is trial 35 with value: 0.8785468108860259.\n",
      "[I 2024-07-16 06:56:06,505] Trial 46 finished with value: 0.7417986515656538 and parameters: {'scaling_method': 'standard', 'learning_rate': 0.00010909031573402669, 'loss': 'exponential', 'n_estimators': 789}. Best is trial 35 with value: 0.8785468108860259.\n",
      "[I 2024-07-16 06:56:23,869] Trial 47 finished with value: 0.8761673334366664 and parameters: {'scaling_method': 'standard', 'learning_rate': 0.580464528062343, 'loss': 'exponential', 'n_estimators': 518}. Best is trial 35 with value: 0.8785468108860259.\n",
      "[I 2024-07-16 06:56:53,007] Trial 48 finished with value: 0.874354429926646 and parameters: {'scaling_method': 'minmax', 'learning_rate': 0.27078858067739325, 'loss': 'exponential', 'n_estimators': 845}. Best is trial 35 with value: 0.8785468108860259.\n",
      "[I 2024-07-16 06:57:10,436] Trial 49 finished with value: 0.7797755034205638 and parameters: {'scaling_method': 'robust', 'learning_rate': 0.006055109532611049, 'loss': 'exponential', 'n_estimators': 353}. Best is trial 35 with value: 0.8785468108860259.\n",
      "[I 2024-07-16 06:57:11,801] Trial 50 finished with value: 0.8391655660715587 and parameters: {'scaling_method': 'standard', 'learning_rate': 0.6916554655805127, 'loss': 'exponential', 'n_estimators': 28}. Best is trial 35 with value: 0.8785468108860259.\n",
      "[I 2024-07-16 06:57:42,505] Trial 51 finished with value: 0.8771448650244388 and parameters: {'scaling_method': 'standard', 'learning_rate': 0.48297871778557955, 'loss': 'exponential', 'n_estimators': 970}. Best is trial 35 with value: 0.8785468108860259.\n",
      "[I 2024-07-16 06:58:12,297] Trial 52 finished with value: 0.8771233541786729 and parameters: {'scaling_method': 'standard', 'learning_rate': 0.4646591940642239, 'loss': 'exponential', 'n_estimators': 961}. Best is trial 35 with value: 0.8785468108860259.\n",
      "[I 2024-07-16 06:58:41,195] Trial 53 finished with value: 0.8754475504843215 and parameters: {'scaling_method': 'standard', 'learning_rate': 0.3049636885404303, 'loss': 'exponential', 'n_estimators': 884}. Best is trial 35 with value: 0.8785468108860259.\n",
      "[I 2024-07-16 06:59:14,096] Trial 54 finished with value: 0.8724981250977786 and parameters: {'scaling_method': 'standard', 'learning_rate': 0.1583722453493102, 'loss': 'exponential', 'n_estimators': 954}. Best is trial 35 with value: 0.8785468108860259.\n",
      "[I 2024-07-16 06:59:40,754] Trial 55 finished with value: 0.8775176125102616 and parameters: {'scaling_method': 'standard', 'learning_rate': 0.7094928735236954, 'loss': 'linear', 'n_estimators': 887}. Best is trial 35 with value: 0.8785468108860259.\n",
      "[I 2024-07-16 07:00:05,674] Trial 56 finished with value: 0.8771861021988485 and parameters: {'scaling_method': 'standard', 'learning_rate': 0.7035108815338814, 'loss': 'linear', 'n_estimators': 814}. Best is trial 35 with value: 0.8785468108860259.\n",
      "[I 2024-07-16 07:00:27,042] Trial 57 finished with value: 0.8760640964302879 and parameters: {'scaling_method': 'robust', 'learning_rate': 0.691175429961136, 'loss': 'linear', 'n_estimators': 680}. Best is trial 35 with value: 0.8785468108860259.\n",
      "[I 2024-07-16 07:00:50,937] Trial 58 finished with value: 0.8761136722668226 and parameters: {'scaling_method': 'minmax', 'learning_rate': 0.6992866172808954, 'loss': 'linear', 'n_estimators': 789}. Best is trial 35 with value: 0.8785468108860259.\n",
      "[I 2024-07-16 07:01:27,390] Trial 59 finished with value: 0.7715237178487446 and parameters: {'scaling_method': 'standard', 'learning_rate': 0.0018365756664365952, 'loss': 'linear', 'n_estimators': 754}. Best is trial 35 with value: 0.8785468108860259.\n",
      "[I 2024-07-16 07:01:53,740] Trial 60 finished with value: 0.8752492008446744 and parameters: {'scaling_method': 'standard', 'learning_rate': 0.3806687499455823, 'loss': 'linear', 'n_estimators': 835}. Best is trial 35 with value: 0.8785468108860259.\n",
      "[I 2024-07-16 07:02:21,375] Trial 61 finished with value: 0.8766047135120726 and parameters: {'scaling_method': 'standard', 'learning_rate': 0.7796752875890435, 'loss': 'linear', 'n_estimators': 892}. Best is trial 35 with value: 0.8785468108860259.\n",
      "[I 2024-07-16 07:02:50,946] Trial 62 finished with value: 0.8748894272950467 and parameters: {'scaling_method': 'standard', 'learning_rate': 0.3821582361076485, 'loss': 'linear', 'n_estimators': 928}. Best is trial 35 with value: 0.8785468108860259.\n",
      "[I 2024-07-16 07:03:20,414] Trial 63 finished with value: 0.8734216341536964 and parameters: {'scaling_method': 'standard', 'learning_rate': 0.24859929603357556, 'loss': 'linear', 'n_estimators': 865}. Best is trial 35 with value: 0.8785468108860259.\n",
      "[I 2024-07-16 07:03:45,431] Trial 64 finished with value: 0.8780901015067796 and parameters: {'scaling_method': 'standard', 'learning_rate': 0.9212817549825528, 'loss': 'linear', 'n_estimators': 817}. Best is trial 35 with value: 0.8785468108860259.\n",
      "[I 2024-07-16 07:04:06,456] Trial 65 finished with value: 0.8769499732133971 and parameters: {'scaling_method': 'standard', 'learning_rate': 0.871566388591784, 'loss': 'linear', 'n_estimators': 699}. Best is trial 35 with value: 0.8785468108860259.\n"
     ]
    },
    {
     "name": "stderr",
     "output_type": "stream",
     "text": [
      "[I 2024-07-16 07:04:31,388] Trial 66 finished with value: 0.8756922921001846 and parameters: {'scaling_method': 'standard', 'learning_rate': 0.706727875333234, 'loss': 'linear', 'n_estimators': 806}. Best is trial 35 with value: 0.8785468108860259.\n",
      "[I 2024-07-16 07:05:02,931] Trial 67 finished with value: 0.7518377761192298 and parameters: {'scaling_method': 'robust', 'learning_rate': 0.00042188992779902375, 'loss': 'linear', 'n_estimators': 617}. Best is trial 35 with value: 0.8785468108860259.\n",
      "[I 2024-07-16 07:05:26,808] Trial 68 finished with value: 0.8765906567072961 and parameters: {'scaling_method': 'standard', 'learning_rate': 0.9543936777022748, 'loss': 'linear', 'n_estimators': 756}. Best is trial 35 with value: 0.8785468108860259.\n",
      "[I 2024-07-16 07:05:48,427] Trial 69 finished with value: 0.8751550331738682 and parameters: {'scaling_method': 'minmax', 'learning_rate': 0.39034774254268545, 'loss': 'linear', 'n_estimators': 656}. Best is trial 35 with value: 0.8785468108860259.\n",
      "[I 2024-07-16 07:06:16,801] Trial 70 finished with value: 0.8683526588351829 and parameters: {'scaling_method': 'standard', 'learning_rate': 0.0964637060934161, 'loss': 'linear', 'n_estimators': 726}. Best is trial 35 with value: 0.8785468108860259.\n",
      "[I 2024-07-16 07:06:45,398] Trial 71 finished with value: 0.8765765565731796 and parameters: {'scaling_method': 'standard', 'learning_rate': 0.48939723143206215, 'loss': 'exponential', 'n_estimators': 910}. Best is trial 35 with value: 0.8785468108860259.\n",
      "[I 2024-07-16 07:07:11,468] Trial 72 finished with value: 0.8766185971398934 and parameters: {'scaling_method': 'standard', 'learning_rate': 0.5639850752111072, 'loss': 'exponential', 'n_estimators': 825}. Best is trial 35 with value: 0.8785468108860259.\n",
      "[I 2024-07-16 07:07:44,207] Trial 73 finished with value: 0.8728768276245471 and parameters: {'scaling_method': 'standard', 'learning_rate': 0.21727467240053536, 'loss': 'linear', 'n_estimators': 979}. Best is trial 35 with value: 0.8785468108860259.\n",
      "[I 2024-07-16 07:08:12,358] Trial 74 finished with value: 0.877965728461582 and parameters: {'scaling_method': 'standard', 'learning_rate': 0.9859246253750615, 'loss': 'exponential', 'n_estimators': 929}. Best is trial 35 with value: 0.8785468108860259.\n",
      "[I 2024-07-16 07:08:38,939] Trial 75 finished with value: 0.8785706489151897 and parameters: {'scaling_method': 'standard', 'learning_rate': 0.9995225832704531, 'loss': 'linear', 'n_estimators': 902}. Best is trial 75 with value: 0.8785706489151897.\n",
      "[I 2024-07-16 07:09:06,502] Trial 76 finished with value: 0.8789097778970374 and parameters: {'scaling_method': 'standard', 'learning_rate': 0.9417303457271322, 'loss': 'exponential', 'n_estimators': 896}. Best is trial 76 with value: 0.8789097778970374.\n",
      "[I 2024-07-16 07:09:35,375] Trial 77 finished with value: 0.8783316774768369 and parameters: {'scaling_method': 'standard', 'learning_rate': 0.9938562419027639, 'loss': 'exponential', 'n_estimators': 935}. Best is trial 76 with value: 0.8789097778970374.\n",
      "[I 2024-07-16 07:10:03,050] Trial 78 finished with value: 0.8801458176072536 and parameters: {'scaling_method': 'standard', 'learning_rate': 0.99953361126345, 'loss': 'linear', 'n_estimators': 926}. Best is trial 78 with value: 0.8801458176072536.\n",
      "[I 2024-07-16 07:10:29,821] Trial 79 finished with value: 0.8785039144621681 and parameters: {'scaling_method': 'standard', 'learning_rate': 0.9955798232723067, 'loss': 'linear', 'n_estimators': 860}. Best is trial 78 with value: 0.8801458176072536.\n",
      "[I 2024-07-16 07:10:59,423] Trial 80 finished with value: 0.8777156493889559 and parameters: {'scaling_method': 'standard', 'learning_rate': 0.9876271979528448, 'loss': 'linear', 'n_estimators': 932}. Best is trial 78 with value: 0.8801458176072536.\n",
      "[I 2024-07-16 07:11:26,228] Trial 81 finished with value: 0.8781924392510663 and parameters: {'scaling_method': 'standard', 'learning_rate': 0.9534023198788103, 'loss': 'linear', 'n_estimators': 938}. Best is trial 78 with value: 0.8801458176072536.\n",
      "[I 2024-07-16 07:11:52,307] Trial 82 finished with value: 0.8768676706939973 and parameters: {'scaling_method': 'standard', 'learning_rate': 0.863982503047693, 'loss': 'linear', 'n_estimators': 858}. Best is trial 78 with value: 0.8801458176072536.\n",
      "[I 2024-07-16 07:12:20,156] Trial 83 finished with value: 0.8767228891003231 and parameters: {'scaling_method': 'standard', 'learning_rate': 0.78201020898727, 'loss': 'linear', 'n_estimators': 934}. Best is trial 78 with value: 0.8801458176072536.\n",
      "[I 2024-07-16 07:12:46,092] Trial 84 finished with value: 0.8773373840466083 and parameters: {'scaling_method': 'standard', 'learning_rate': 0.9741629606232703, 'loss': 'linear', 'n_estimators': 865}. Best is trial 78 with value: 0.8801458176072536.\n",
      "[I 2024-07-16 07:13:15,215] Trial 85 finished with value: 0.874806507939487 and parameters: {'scaling_method': 'standard', 'learning_rate': 0.3168551537103369, 'loss': 'linear', 'n_estimators': 904}. Best is trial 78 with value: 0.8801458176072536.\n",
      "[I 2024-07-16 07:13:40,625] Trial 86 finished with value: 0.8752036821137233 and parameters: {'scaling_method': 'standard', 'learning_rate': 0.40966840349837863, 'loss': 'linear', 'n_estimators': 782}. Best is trial 78 with value: 0.8801458176072536.\n",
      "[I 2024-07-16 07:14:07,985] Trial 87 finished with value: 0.8762577089708495 and parameters: {'scaling_method': 'standard', 'learning_rate': 0.6022550440742801, 'loss': 'exponential', 'n_estimators': 831}. Best is trial 78 with value: 0.8801458176072536.\n",
      "[I 2024-07-16 07:14:38,493] Trial 88 finished with value: 0.8772534277502537 and parameters: {'scaling_method': 'standard', 'learning_rate': 0.7983872631497932, 'loss': 'linear', 'n_estimators': 998}. Best is trial 78 with value: 0.8801458176072536.\n",
      "[I 2024-07-16 07:15:08,009] Trial 89 finished with value: 0.8766023199789519 and parameters: {'scaling_method': 'standard', 'learning_rate': 0.4584986855906706, 'loss': 'exponential', 'n_estimators': 946}. Best is trial 78 with value: 0.8801458176072536.\n",
      "[I 2024-07-16 07:15:35,395] Trial 90 finished with value: 0.8785919343785464 and parameters: {'scaling_method': 'robust', 'learning_rate': 0.9928580743333926, 'loss': 'exponential', 'n_estimators': 919}. Best is trial 78 with value: 0.8801458176072536.\n",
      "[I 2024-07-16 07:16:02,428] Trial 91 finished with value: 0.876746420975467 and parameters: {'scaling_method': 'robust', 'learning_rate': 0.7864883985220689, 'loss': 'exponential', 'n_estimators': 874}. Best is trial 78 with value: 0.8801458176072536.\n",
      "[I 2024-07-16 07:16:31,974] Trial 92 finished with value: 0.8774127590730627 and parameters: {'scaling_method': 'robust', 'learning_rate': 0.6243575182106772, 'loss': 'exponential', 'n_estimators': 920}. Best is trial 78 with value: 0.8801458176072536.\n",
      "[I 2024-07-16 07:16:58,665] Trial 93 finished with value: 0.8779793410211795 and parameters: {'scaling_method': 'robust', 'learning_rate': 0.9681916670426852, 'loss': 'exponential', 'n_estimators': 894}. Best is trial 78 with value: 0.8801458176072536.\n",
      "[I 2024-07-16 07:17:26,780] Trial 94 finished with value: 0.877083051583228 and parameters: {'scaling_method': 'robust', 'learning_rate': 0.5964349357845459, 'loss': 'exponential', 'n_estimators': 896}. Best is trial 78 with value: 0.8801458176072536.\n",
      "[I 2024-07-16 07:18:07,191] Trial 95 finished with value: 0.8444125869529915 and parameters: {'scaling_method': 'robust', 'learning_rate': 0.022601126223210356, 'loss': 'exponential', 'n_estimators': 844}. Best is trial 78 with value: 0.8801458176072536.\n",
      "[I 2024-07-16 07:18:19,708] Trial 96 finished with value: 0.8766283556038188 and parameters: {'scaling_method': 'robust', 'learning_rate': 0.8188774576456268, 'loss': 'linear', 'n_estimators': 395}. Best is trial 78 with value: 0.8801458176072536.\n",
      "[I 2024-07-16 07:18:26,341] Trial 97 finished with value: 0.8634155864894147 and parameters: {'scaling_method': 'robust', 'learning_rate': 0.31944384311568486, 'loss': 'exponential', 'n_estimators': 159}. Best is trial 78 with value: 0.8801458176072536.\n",
      "[I 2024-07-16 07:18:52,389] Trial 98 finished with value: 0.8765065747282413 and parameters: {'scaling_method': 'robust', 'learning_rate': 0.43120729357110804, 'loss': 'exponential', 'n_estimators': 800}. Best is trial 78 with value: 0.8801458176072536.\n"
     ]
    },
    {
     "name": "stderr",
     "output_type": "stream",
     "text": [
      "[I 2024-07-16 07:19:17,965] Trial 99 finished with value: 0.8771028887609511 and parameters: {'scaling_method': 'minmax', 'learning_rate': 0.6232013288441041, 'loss': 'linear', 'n_estimators': 888}. Best is trial 78 with value: 0.8801458176072536.\n",
      "[I 2024-07-16 07:19:42,523] Trial 100 finished with value: 0.8784001995295035 and parameters: {'scaling_method': 'robust', 'learning_rate': 0.989354175847342, 'loss': 'exponential', 'n_estimators': 860}. Best is trial 78 with value: 0.8801458176072536.\n",
      "[I 2024-07-16 07:20:05,181] Trial 101 finished with value: 0.8772629685962381 and parameters: {'scaling_method': 'robust', 'learning_rate': 0.8145622691278651, 'loss': 'exponential', 'n_estimators': 773}. Best is trial 78 with value: 0.8801458176072536.\n",
      "[I 2024-07-16 07:20:30,175] Trial 102 finished with value: 0.8779694271825675 and parameters: {'scaling_method': 'robust', 'learning_rate': 0.97372397848622, 'loss': 'exponential', 'n_estimators': 872}. Best is trial 78 with value: 0.8801458176072536.\n",
      "[I 2024-07-16 07:20:54,785] Trial 103 finished with value: 0.8779199429693534 and parameters: {'scaling_method': 'robust', 'learning_rate': 0.7063653676714157, 'loss': 'exponential', 'n_estimators': 843}. Best is trial 78 with value: 0.8801458176072536.\n",
      "[I 2024-07-16 07:21:22,974] Trial 104 finished with value: 0.8768750676215911 and parameters: {'scaling_method': 'robust', 'learning_rate': 0.48886802539423463, 'loss': 'exponential', 'n_estimators': 949}. Best is trial 78 with value: 0.8801458176072536.\n",
      "[I 2024-07-16 07:21:52,609] Trial 105 finished with value: 0.8776995198801739 and parameters: {'scaling_method': 'robust', 'learning_rate': 0.6335681785078546, 'loss': 'exponential', 'n_estimators': 916}. Best is trial 78 with value: 0.8801458176072536.\n",
      "[I 2024-07-16 07:22:18,900] Trial 106 finished with value: 0.8773601818590173 and parameters: {'scaling_method': 'robust', 'learning_rate': 0.8116532281861485, 'loss': 'linear', 'n_estimators': 823}. Best is trial 78 with value: 0.8801458176072536.\n",
      "[I 2024-07-16 07:22:49,214] Trial 107 finished with value: 0.8763228167443919 and parameters: {'scaling_method': 'standard', 'learning_rate': 0.5372520681690526, 'loss': 'exponential', 'n_estimators': 900}. Best is trial 78 with value: 0.8801458176072536.\n",
      "[I 2024-07-16 07:23:06,089] Trial 108 finished with value: 0.8768198759519945 and parameters: {'scaling_method': 'standard', 'learning_rate': 0.8421234826030106, 'loss': 'linear', 'n_estimators': 521}. Best is trial 78 with value: 0.8801458176072536.\n",
      "[I 2024-07-16 07:23:35,749] Trial 109 finished with value: 0.876497066841217 and parameters: {'scaling_method': 'standard', 'learning_rate': 0.6624332520580327, 'loss': 'exponential', 'n_estimators': 979}. Best is trial 78 with value: 0.8801458176072536.\n",
      "[I 2024-07-16 07:24:02,704] Trial 110 finished with value: 0.8764784627241718 and parameters: {'scaling_method': 'robust', 'learning_rate': 0.4299306227844189, 'loss': 'linear', 'n_estimators': 864}. Best is trial 78 with value: 0.8801458176072536.\n",
      "[I 2024-07-16 07:24:29,753] Trial 111 finished with value: 0.877821063667179 and parameters: {'scaling_method': 'robust', 'learning_rate': 0.9806767049807008, 'loss': 'exponential', 'n_estimators': 879}. Best is trial 78 with value: 0.8801458176072536.\n",
      "[I 2024-07-16 07:25:00,357] Trial 112 finished with value: 0.8771580606668472 and parameters: {'scaling_method': 'robust', 'learning_rate': 0.822164675507256, 'loss': 'exponential', 'n_estimators': 944}. Best is trial 78 with value: 0.8801458176072536.\n",
      "[I 2024-07-16 07:25:26,287] Trial 113 finished with value: 0.8781492991828289 and parameters: {'scaling_method': 'robust', 'learning_rate': 0.9813903043980837, 'loss': 'exponential', 'n_estimators': 871}. Best is trial 78 with value: 0.8801458176072536.\n",
      "[I 2024-07-16 07:26:08,264] Trial 114 finished with value: 0.8027988066289062 and parameters: {'scaling_method': 'robust', 'learning_rate': 0.005392363905117394, 'loss': 'exponential', 'n_estimators': 848}. Best is trial 78 with value: 0.8801458176072536.\n",
      "[I 2024-07-16 07:26:31,220] Trial 115 finished with value: 0.8770283733978195 and parameters: {'scaling_method': 'minmax', 'learning_rate': 0.6779761527388087, 'loss': 'exponential', 'n_estimators': 738}. Best is trial 78 with value: 0.8801458176072536.\n",
      "[I 2024-07-16 07:27:00,359] Trial 116 finished with value: 0.8762273693055977 and parameters: {'scaling_method': 'standard', 'learning_rate': 0.5088782774081929, 'loss': 'exponential', 'n_estimators': 911}. Best is trial 78 with value: 0.8801458176072536.\n",
      "[I 2024-07-16 07:27:24,504] Trial 117 finished with value: 0.8773842085871119 and parameters: {'scaling_method': 'standard', 'learning_rate': 0.745650917860953, 'loss': 'linear', 'n_estimators': 805}. Best is trial 78 with value: 0.8801458176072536.\n",
      "[I 2024-07-16 07:27:55,599] Trial 118 finished with value: 0.8761436945690072 and parameters: {'scaling_method': 'robust', 'learning_rate': 0.5818083231594696, 'loss': 'exponential', 'n_estimators': 963}. Best is trial 78 with value: 0.8801458176072536.\n",
      "[I 2024-07-16 07:28:32,868] Trial 119 finished with value: 0.8641990592230755 and parameters: {'scaling_method': 'standard', 'learning_rate': 0.05173091681602672, 'loss': 'linear', 'n_estimators': 890}. Best is trial 78 with value: 0.8801458176072536.\n",
      "[I 2024-07-16 07:28:56,758] Trial 120 finished with value: 0.8779769835099632 and parameters: {'scaling_method': 'standard', 'learning_rate': 0.8850925083112223, 'loss': 'exponential', 'n_estimators': 771}. Best is trial 78 with value: 0.8801458176072536.\n",
      "[I 2024-07-16 07:29:22,197] Trial 121 finished with value: 0.8783260264710485 and parameters: {'scaling_method': 'standard', 'learning_rate': 0.9876008032120936, 'loss': 'exponential', 'n_estimators': 770}. Best is trial 78 with value: 0.8801458176072536.\n",
      "[I 2024-07-16 07:29:47,644] Trial 122 finished with value: 0.8785983889680793 and parameters: {'scaling_method': 'standard', 'learning_rate': 0.9999970377183534, 'loss': 'exponential', 'n_estimators': 827}. Best is trial 78 with value: 0.8801458176072536.\n",
      "[I 2024-07-16 07:30:13,989] Trial 123 finished with value: 0.877559507277186 and parameters: {'scaling_method': 'standard', 'learning_rate': 0.7100938143666942, 'loss': 'exponential', 'n_estimators': 842}. Best is trial 78 with value: 0.8801458176072536.\n",
      "[I 2024-07-16 07:30:39,966] Trial 124 finished with value: 0.8777794261264582 and parameters: {'scaling_method': 'standard', 'learning_rate': 0.9761685500309099, 'loss': 'exponential', 'n_estimators': 801}. Best is trial 78 with value: 0.8801458176072536.\n",
      "[I 2024-07-16 07:31:04,475] Trial 125 finished with value: 0.8791944771224414 and parameters: {'scaling_method': 'standard', 'learning_rate': 0.9948135924093842, 'loss': 'exponential', 'n_estimators': 832}. Best is trial 78 with value: 0.8801458176072536.\n",
      "[I 2024-07-16 07:31:31,774] Trial 126 finished with value: 0.8768612730385126 and parameters: {'scaling_method': 'standard', 'learning_rate': 0.5460958750015681, 'loss': 'exponential', 'n_estimators': 862}. Best is trial 78 with value: 0.8801458176072536.\n",
      "[I 2024-07-16 07:32:02,956] Trial 127 finished with value: 0.8751275603024368 and parameters: {'scaling_method': 'standard', 'learning_rate': 0.351579342054775, 'loss': 'exponential', 'n_estimators': 941}. Best is trial 78 with value: 0.8801458176072536.\n",
      "[I 2024-07-16 07:32:28,501] Trial 128 finished with value: 0.8772767702613102 and parameters: {'scaling_method': 'standard', 'learning_rate': 0.7709445997254674, 'loss': 'exponential', 'n_estimators': 822}. Best is trial 78 with value: 0.8801458176072536.\n",
      "[I 2024-07-16 07:32:56,920] Trial 129 finished with value: 0.8765216092392805 and parameters: {'scaling_method': 'standard', 'learning_rate': 0.6147678125693411, 'loss': 'exponential', 'n_estimators': 911}. Best is trial 78 with value: 0.8801458176072536.\n",
      "[I 2024-07-16 07:33:26,532] Trial 130 finished with value: 0.8764591885630859 and parameters: {'scaling_method': 'standard', 'learning_rate': 0.4406122149553388, 'loss': 'exponential', 'n_estimators': 926}. Best is trial 78 with value: 0.8801458176072536.\n",
      "[I 2024-07-16 07:33:51,628] Trial 131 finished with value: 0.8776508193584398 and parameters: {'scaling_method': 'standard', 'learning_rate': 0.9928543749973667, 'loss': 'linear', 'n_estimators': 831}. Best is trial 78 with value: 0.8801458176072536.\n"
     ]
    },
    {
     "name": "stderr",
     "output_type": "stream",
     "text": [
      "[I 2024-07-16 07:34:18,364] Trial 132 finished with value: 0.8772241920798166 and parameters: {'scaling_method': 'standard', 'learning_rate': 0.8096781759158752, 'loss': 'exponential', 'n_estimators': 869}. Best is trial 78 with value: 0.8801458176072536.\n",
      "[I 2024-07-16 07:34:41,660] Trial 133 finished with value: 0.8775377447663718 and parameters: {'scaling_method': 'standard', 'learning_rate': 0.9902300723886783, 'loss': 'linear', 'n_estimators': 780}. Best is trial 78 with value: 0.8801458176072536.\n",
      "[I 2024-07-16 07:35:05,231] Trial 134 finished with value: 0.876904035898644 and parameters: {'scaling_method': 'standard', 'learning_rate': 0.6900361647168772, 'loss': 'exponential', 'n_estimators': 741}. Best is trial 78 with value: 0.8801458176072536.\n",
      "[I 2024-07-16 07:35:29,853] Trial 135 finished with value: 0.8776012737491531 and parameters: {'scaling_method': 'standard', 'learning_rate': 0.8116809002834358, 'loss': 'linear', 'n_estimators': 847}. Best is trial 78 with value: 0.8801458176072536.\n",
      "[I 2024-07-16 07:35:55,445] Trial 136 finished with value: 0.8768616783034551 and parameters: {'scaling_method': 'standard', 'learning_rate': 0.5600758554429118, 'loss': 'exponential', 'n_estimators': 819}. Best is trial 78 with value: 0.8801458176072536.\n",
      "[I 2024-07-16 07:36:22,226] Trial 137 finished with value: 0.8773514368691439 and parameters: {'scaling_method': 'standard', 'learning_rate': 0.7036765054062146, 'loss': 'exponential', 'n_estimators': 887}. Best is trial 78 with value: 0.8801458176072536.\n",
      "[I 2024-07-16 07:36:46,417] Trial 138 finished with value: 0.8785244057690204 and parameters: {'scaling_method': 'standard', 'learning_rate': 0.9967904292501848, 'loss': 'linear', 'n_estimators': 801}. Best is trial 78 with value: 0.8801458176072536.\n",
      "[I 2024-07-16 07:37:10,822] Trial 139 finished with value: 0.8785232952403099 and parameters: {'scaling_method': 'standard', 'learning_rate': 0.9902578209882263, 'loss': 'exponential', 'n_estimators': 790}. Best is trial 78 with value: 0.8801458176072536.\n",
      "[I 2024-07-16 07:37:34,928] Trial 140 finished with value: 0.877252551491481 and parameters: {'scaling_method': 'standard', 'learning_rate': 0.628297303103306, 'loss': 'linear', 'n_estimators': 761}. Best is trial 78 with value: 0.8801458176072536.\n",
      "[I 2024-07-16 07:37:56,656] Trial 141 finished with value: 0.8781578933426282 and parameters: {'scaling_method': 'standard', 'learning_rate': 0.7965745042984658, 'loss': 'exponential', 'n_estimators': 700}. Best is trial 78 with value: 0.8801458176072536.\n",
      "[I 2024-07-16 07:38:18,146] Trial 142 finished with value: 0.8777325874581298 and parameters: {'scaling_method': 'standard', 'learning_rate': 0.8152658057428293, 'loss': 'exponential', 'n_estimators': 692}. Best is trial 78 with value: 0.8801458176072536.\n",
      "[I 2024-07-16 07:38:40,359] Trial 143 finished with value: 0.8772100679650527 and parameters: {'scaling_method': 'standard', 'learning_rate': 0.8172669877925468, 'loss': 'exponential', 'n_estimators': 708}. Best is trial 78 with value: 0.8801458176072536.\n",
      "[I 2024-07-16 07:39:05,124] Trial 144 finished with value: 0.8783504272267629 and parameters: {'scaling_method': 'standard', 'learning_rate': 0.9894007113928642, 'loss': 'exponential', 'n_estimators': 793}. Best is trial 78 with value: 0.8801458176072536.\n",
      "[I 2024-07-16 07:39:31,384] Trial 145 finished with value: 0.8761596596465584 and parameters: {'scaling_method': 'standard', 'learning_rate': 0.5099616292204081, 'loss': 'exponential', 'n_estimators': 805}. Best is trial 78 with value: 0.8801458176072536.\n",
      "[I 2024-07-16 07:39:57,026] Trial 146 finished with value: 0.8779833846092663 and parameters: {'scaling_method': 'standard', 'learning_rate': 0.9967716856066738, 'loss': 'exponential', 'n_estimators': 795}. Best is trial 78 with value: 0.8801458176072536.\n",
      "[I 2024-07-16 07:40:20,844] Trial 147 finished with value: 0.8748367332399566 and parameters: {'scaling_method': 'standard', 'learning_rate': 0.6621587817124779, 'loss': 'square', 'n_estimators': 781}. Best is trial 78 with value: 0.8801458176072536.\n",
      "[I 2024-07-16 07:40:44,454] Trial 148 finished with value: 0.875970509915659 and parameters: {'scaling_method': 'standard', 'learning_rate': 0.6696170950992523, 'loss': 'linear', 'n_estimators': 732}. Best is trial 78 with value: 0.8801458176072536.\n",
      "[I 2024-07-16 07:41:11,554] Trial 149 finished with value: 0.8773755720576422 and parameters: {'scaling_method': 'standard', 'learning_rate': 0.8359871067175086, 'loss': 'exponential', 'n_estimators': 836}. Best is trial 78 with value: 0.8801458176072536.\n",
      "[I 2024-07-16 07:41:34,274] Trial 150 finished with value: 0.8783902836521772 and parameters: {'scaling_method': 'minmax', 'learning_rate': 0.9961326134148185, 'loss': 'exponential', 'n_estimators': 761}. Best is trial 78 with value: 0.8801458176072536.\n",
      "[I 2024-07-16 07:41:56,817] Trial 151 finished with value: 0.8790589071634249 and parameters: {'scaling_method': 'minmax', 'learning_rate': 0.9757604870651372, 'loss': 'exponential', 'n_estimators': 759}. Best is trial 78 with value: 0.8801458176072536.\n",
      "[I 2024-07-16 07:42:20,231] Trial 152 finished with value: 0.8774345205933944 and parameters: {'scaling_method': 'minmax', 'learning_rate': 0.7650139709378058, 'loss': 'exponential', 'n_estimators': 760}. Best is trial 78 with value: 0.8801458176072536.\n",
      "[I 2024-07-16 07:42:40,814] Trial 153 finished with value: 0.8773804384458967 and parameters: {'scaling_method': 'minmax', 'learning_rate': 0.9764532803045457, 'loss': 'exponential', 'n_estimators': 663}. Best is trial 78 with value: 0.8801458176072536.\n",
      "[I 2024-07-16 07:43:06,517] Trial 154 finished with value: 0.8774213493328273 and parameters: {'scaling_method': 'minmax', 'learning_rate': 0.588647969154073, 'loss': 'exponential', 'n_estimators': 795}. Best is trial 78 with value: 0.8801458176072536.\n",
      "[I 2024-07-16 07:43:45,279] Trial 155 finished with value: 0.7429258692514709 and parameters: {'scaling_method': 'minmax', 'learning_rate': 0.00010010358388084566, 'loss': 'exponential', 'n_estimators': 745}. Best is trial 78 with value: 0.8801458176072536.\n",
      "[I 2024-07-16 07:43:58,948] Trial 156 finished with value: 0.7438557436623062 and parameters: {'scaling_method': 'minmax', 'learning_rate': 0.0006104096567112024, 'loss': 'exponential', 'n_estimators': 264}. Best is trial 78 with value: 0.8801458176072536.\n",
      "[I 2024-07-16 07:44:22,438] Trial 157 finished with value: 0.876925422768093 and parameters: {'scaling_method': 'minmax', 'learning_rate': 0.9920453921371806, 'loss': 'exponential', 'n_estimators': 821}. Best is trial 78 with value: 0.8801458176072536.\n",
      "[I 2024-07-16 07:44:56,711] Trial 158 finished with value: 0.7672477247003628 and parameters: {'scaling_method': 'minmax', 'learning_rate': 0.002100177555536128, 'loss': 'exponential', 'n_estimators': 720}. Best is trial 78 with value: 0.8801458176072536.\n",
      "[I 2024-07-16 07:45:20,116] Trial 159 finished with value: 0.876880585474906 and parameters: {'scaling_method': 'maxabs', 'learning_rate': 0.7247966948812002, 'loss': 'exponential', 'n_estimators': 778}. Best is trial 78 with value: 0.8801458176072536.\n",
      "[I 2024-07-16 07:45:45,215] Trial 160 finished with value: 0.8765693390045837 and parameters: {'scaling_method': 'minmax', 'learning_rate': 0.5263870571377183, 'loss': 'exponential', 'n_estimators': 752}. Best is trial 78 with value: 0.8801458176072536.\n",
      "[I 2024-07-16 07:46:14,379] Trial 161 finished with value: 0.8774436400809448 and parameters: {'scaling_method': 'standard', 'learning_rate': 0.8485202548028421, 'loss': 'linear', 'n_estimators': 926}. Best is trial 78 with value: 0.8801458176072536.\n",
      "[I 2024-07-16 07:46:39,671] Trial 162 finished with value: 0.8780414191506356 and parameters: {'scaling_method': 'standard', 'learning_rate': 0.9914309067814953, 'loss': 'exponential', 'n_estimators': 850}. Best is trial 78 with value: 0.8801458176072536.\n",
      "[I 2024-07-16 07:47:03,682] Trial 163 finished with value: 0.8775987639776176 and parameters: {'scaling_method': 'standard', 'learning_rate': 0.8286375921344045, 'loss': 'exponential', 'n_estimators': 791}. Best is trial 78 with value: 0.8801458176072536.\n",
      "[I 2024-07-16 07:47:31,325] Trial 164 finished with value: 0.8754710751254013 and parameters: {'scaling_method': 'standard', 'learning_rate': 0.6718948844202879, 'loss': 'linear', 'n_estimators': 907}. Best is trial 78 with value: 0.8801458176072536.\n"
     ]
    },
    {
     "name": "stderr",
     "output_type": "stream",
     "text": [
      "[I 2024-07-16 07:48:02,406] Trial 165 finished with value: 0.8778750809156053 and parameters: {'scaling_method': 'minmax', 'learning_rate': 0.8302477435371738, 'loss': 'exponential', 'n_estimators': 959}. Best is trial 78 with value: 0.8801458176072536.\n",
      "[I 2024-07-16 07:48:29,958] Trial 166 finished with value: 0.8781691908097489 and parameters: {'scaling_method': 'standard', 'learning_rate': 0.9888553929542855, 'loss': 'exponential', 'n_estimators': 856}. Best is trial 78 with value: 0.8801458176072536.\n",
      "[I 2024-07-16 07:48:58,356] Trial 167 finished with value: 0.8761737714676894 and parameters: {'scaling_method': 'standard', 'learning_rate': 0.6262849459764945, 'loss': 'linear', 'n_estimators': 878}. Best is trial 78 with value: 0.8801458176072536.\n",
      "[I 2024-07-16 07:49:23,913] Trial 168 finished with value: 0.8765589767309143 and parameters: {'scaling_method': 'standard', 'learning_rate': 0.7326812321065647, 'loss': 'exponential', 'n_estimators': 816}. Best is trial 78 with value: 0.8801458176072536.\n",
      "[I 2024-07-16 07:49:49,022] Trial 169 finished with value: 0.8748490381750773 and parameters: {'scaling_method': 'standard', 'learning_rate': 0.4331574266935401, 'loss': 'linear', 'n_estimators': 774}. Best is trial 78 with value: 0.8801458176072536.\n",
      "[I 2024-07-16 07:50:29,888] Trial 170 finished with value: 0.8210309601927319 and parameters: {'scaling_method': 'standard', 'learning_rate': 0.010882515598178, 'loss': 'exponential', 'n_estimators': 832}. Best is trial 78 with value: 0.8801458176072536.\n",
      "[I 2024-07-16 07:50:55,975] Trial 171 finished with value: 0.8772501246044591 and parameters: {'scaling_method': 'standard', 'learning_rate': 0.8572501065645499, 'loss': 'exponential', 'n_estimators': 856}. Best is trial 78 with value: 0.8801458176072536.\n",
      "[I 2024-07-16 07:51:24,028] Trial 172 finished with value: 0.8783223232779527 and parameters: {'scaling_method': 'standard', 'learning_rate': 0.960800793727912, 'loss': 'exponential', 'n_estimators': 898}. Best is trial 78 with value: 0.8801458176072536.\n",
      "[I 2024-07-16 07:51:53,318] Trial 173 finished with value: 0.8776973653825879 and parameters: {'scaling_method': 'standard', 'learning_rate': 0.9888346061371389, 'loss': 'exponential', 'n_estimators': 942}. Best is trial 78 with value: 0.8801458176072536.\n",
      "[I 2024-07-16 07:52:21,538] Trial 174 finished with value: 0.8770658660657744 and parameters: {'scaling_method': 'standard', 'learning_rate': 0.7266391842782601, 'loss': 'exponential', 'n_estimators': 905}. Best is trial 78 with value: 0.8801458176072536.\n",
      "[I 2024-07-16 07:52:52,837] Trial 175 finished with value: 0.8776132923920918 and parameters: {'scaling_method': 'standard', 'learning_rate': 0.5921372948551367, 'loss': 'exponential', 'n_estimators': 986}. Best is trial 78 with value: 0.8801458176072536.\n",
      "[I 2024-07-16 07:53:20,720] Trial 176 finished with value: 0.8780162186346182 and parameters: {'scaling_method': 'standard', 'learning_rate': 0.8401183493878185, 'loss': 'exponential', 'n_estimators': 890}. Best is trial 78 with value: 0.8801458176072536.\n",
      "[I 2024-07-16 07:53:47,476] Trial 177 finished with value: 0.8745868664680749 and parameters: {'scaling_method': 'standard', 'learning_rate': 0.7134937998474294, 'loss': 'square', 'n_estimators': 929}. Best is trial 78 with value: 0.8801458176072536.\n",
      "[I 2024-07-16 07:54:13,548] Trial 178 finished with value: 0.8775117596170858 and parameters: {'scaling_method': 'minmax', 'learning_rate': 0.8467961396234212, 'loss': 'linear', 'n_estimators': 868}. Best is trial 78 with value: 0.8801458176072536.\n",
      "[I 2024-07-16 07:54:38,815] Trial 179 finished with value: 0.8763606660352361 and parameters: {'scaling_method': 'standard', 'learning_rate': 0.5595400270568677, 'loss': 'exponential', 'n_estimators': 808}. Best is trial 78 with value: 0.8801458176072536.\n",
      "[I 2024-07-16 07:54:52,989] Trial 180 finished with value: 0.8776160269166962 and parameters: {'scaling_method': 'standard', 'learning_rate': 0.9844904455902459, 'loss': 'exponential', 'n_estimators': 463}. Best is trial 78 with value: 0.8801458176072536.\n",
      "[I 2024-07-16 07:55:19,316] Trial 181 finished with value: 0.8772867658080425 and parameters: {'scaling_method': 'standard', 'learning_rate': 0.8699635716307405, 'loss': 'exponential', 'n_estimators': 847}. Best is trial 78 with value: 0.8801458176072536.\n",
      "[I 2024-07-16 07:55:45,526] Trial 182 finished with value: 0.8784154296967077 and parameters: {'scaling_method': 'standard', 'learning_rate': 0.994791989369318, 'loss': 'exponential', 'n_estimators': 883}. Best is trial 78 with value: 0.8801458176072536.\n",
      "[I 2024-07-16 07:56:13,229] Trial 183 finished with value: 0.8786749576253404 and parameters: {'scaling_method': 'standard', 'learning_rate': 0.9907941032377091, 'loss': 'exponential', 'n_estimators': 912}. Best is trial 78 with value: 0.8801458176072536.\n",
      "[I 2024-07-16 07:56:41,484] Trial 184 finished with value: 0.8779211368506464 and parameters: {'scaling_method': 'standard', 'learning_rate': 0.9999294528846654, 'loss': 'exponential', 'n_estimators': 901}. Best is trial 78 with value: 0.8801458176072536.\n",
      "[I 2024-07-16 07:57:10,453] Trial 185 finished with value: 0.8778289548859035 and parameters: {'scaling_method': 'standard', 'learning_rate': 0.6963961894872378, 'loss': 'exponential', 'n_estimators': 878}. Best is trial 78 with value: 0.8801458176072536.\n",
      "[I 2024-07-16 07:57:39,539] Trial 186 finished with value: 0.8766212751544668 and parameters: {'scaling_method': 'standard', 'learning_rate': 0.7553821437775173, 'loss': 'exponential', 'n_estimators': 914}. Best is trial 78 with value: 0.8801458176072536.\n",
      "[I 2024-07-16 07:58:03,458] Trial 187 finished with value: 0.8764442476661248 and parameters: {'scaling_method': 'standard', 'learning_rate': 0.818657030177803, 'loss': 'exponential', 'n_estimators': 798}. Best is trial 78 with value: 0.8801458176072536.\n",
      "[I 2024-07-16 07:58:28,480] Trial 188 finished with value: 0.8773465633415212 and parameters: {'scaling_method': 'standard', 'learning_rate': 0.9981291511025384, 'loss': 'exponential', 'n_estimators': 831}. Best is trial 78 with value: 0.8801458176072536.\n",
      "[I 2024-07-16 07:58:55,471] Trial 189 finished with value: 0.8771617422120833 and parameters: {'scaling_method': 'standard', 'learning_rate': 0.6598472914558012, 'loss': 'exponential', 'n_estimators': 889}. Best is trial 78 with value: 0.8801458176072536.\n",
      "[I 2024-07-16 07:59:20,818] Trial 190 finished with value: 0.8761785495409867 and parameters: {'scaling_method': 'maxabs', 'learning_rate': 0.4872076503315641, 'loss': 'exponential', 'n_estimators': 760}. Best is trial 78 with value: 0.8801458176072536.\n",
      "[I 2024-07-16 07:59:48,996] Trial 191 finished with value: 0.8778090992435471 and parameters: {'scaling_method': 'standard', 'learning_rate': 0.8091415972996123, 'loss': 'exponential', 'n_estimators': 955}. Best is trial 78 with value: 0.8801458176072536.\n",
      "[I 2024-07-16 08:00:14,918] Trial 192 finished with value: 0.8783492977752563 and parameters: {'scaling_method': 'standard', 'learning_rate': 0.9871129746543249, 'loss': 'linear', 'n_estimators': 917}. Best is trial 78 with value: 0.8801458176072536.\n",
      "[I 2024-07-16 08:00:56,952] Trial 193 finished with value: 0.8324642341734917 and parameters: {'scaling_method': 'standard', 'learning_rate': 0.014024576928591912, 'loss': 'exponential', 'n_estimators': 924}. Best is trial 78 with value: 0.8801458176072536.\n",
      "[I 2024-07-16 08:01:22,483] Trial 194 finished with value: 0.8776649059832391 and parameters: {'scaling_method': 'standard', 'learning_rate': 0.8310882491462143, 'loss': 'linear', 'n_estimators': 903}. Best is trial 78 with value: 0.8801458176072536.\n",
      "[I 2024-07-16 08:01:39,535] Trial 195 finished with value: 0.8761613416475471 and parameters: {'scaling_method': 'standard', 'learning_rate': 0.6550499711193146, 'loss': 'exponential', 'n_estimators': 556}. Best is trial 78 with value: 0.8801458176072536.\n",
      "[I 2024-07-16 08:02:04,648] Trial 196 finished with value: 0.8778706077717828 and parameters: {'scaling_method': 'minmax', 'learning_rate': 0.9957476392624504, 'loss': 'exponential', 'n_estimators': 873}. Best is trial 78 with value: 0.8801458176072536.\n",
      "[I 2024-07-16 08:02:28,734] Trial 197 finished with value: 0.8769891605690463 and parameters: {'scaling_method': 'standard', 'learning_rate': 0.827281886512963, 'loss': 'linear', 'n_estimators': 839}. Best is trial 78 with value: 0.8801458176072536.\n"
     ]
    },
    {
     "name": "stderr",
     "output_type": "stream",
     "text": [
      "[I 2024-07-16 08:02:42,030] Trial 198 finished with value: 0.8755156768667808 and parameters: {'scaling_method': 'standard', 'learning_rate': 0.7079961964356589, 'loss': 'exponential', 'n_estimators': 422}. Best is trial 78 with value: 0.8801458176072536.\n",
      "[I 2024-07-16 08:03:22,144] Trial 199 finished with value: 0.7437786534888381 and parameters: {'scaling_method': 'standard', 'learning_rate': 0.00017646541825304187, 'loss': 'exponential', 'n_estimators': 814}. Best is trial 78 with value: 0.8801458176072536.\n",
      "[I 2024-07-16 08:03:50,371] Trial 200 finished with value: 0.8765788157164582 and parameters: {'scaling_method': 'standard', 'learning_rate': 0.5885677431205414, 'loss': 'linear', 'n_estimators': 918}. Best is trial 78 with value: 0.8801458176072536.\n",
      "[I 2024-07-16 08:04:17,584] Trial 201 finished with value: 0.8788713238572076 and parameters: {'scaling_method': 'standard', 'learning_rate': 0.9895655271596935, 'loss': 'linear', 'n_estimators': 939}. Best is trial 78 with value: 0.8801458176072536.\n",
      "[I 2024-07-16 08:04:45,837] Trial 202 finished with value: 0.8778100854551442 and parameters: {'scaling_method': 'standard', 'learning_rate': 0.9938032888749717, 'loss': 'linear', 'n_estimators': 949}. Best is trial 78 with value: 0.8801458176072536.\n",
      "[I 2024-07-16 08:05:17,314] Trial 203 finished with value: 0.8772219456385886 and parameters: {'scaling_method': 'standard', 'learning_rate': 0.8182610945113342, 'loss': 'linear', 'n_estimators': 970}. Best is trial 78 with value: 0.8801458176072536.\n",
      "[I 2024-07-16 08:05:45,886] Trial 204 finished with value: 0.8767201572829846 and parameters: {'scaling_method': 'standard', 'learning_rate': 0.871194807060378, 'loss': 'linear', 'n_estimators': 940}. Best is trial 78 with value: 0.8801458176072536.\n",
      "[I 2024-07-16 08:06:11,950] Trial 205 finished with value: 0.8772988785298057 and parameters: {'scaling_method': 'standard', 'learning_rate': 0.7232683858577255, 'loss': 'linear', 'n_estimators': 893}. Best is trial 78 with value: 0.8801458176072536.\n",
      "[I 2024-07-16 08:06:37,775] Trial 206 finished with value: 0.8792233495781752 and parameters: {'scaling_method': 'standard', 'learning_rate': 0.9783665834033997, 'loss': 'exponential', 'n_estimators': 865}. Best is trial 78 with value: 0.8801458176072536.\n",
      "[I 2024-07-16 08:07:03,392] Trial 207 finished with value: 0.8771050390521123 and parameters: {'scaling_method': 'minmax', 'learning_rate': 0.989152963222476, 'loss': 'exponential', 'n_estimators': 863}. Best is trial 78 with value: 0.8801458176072536.\n",
      "[I 2024-07-16 08:07:27,830] Trial 208 finished with value: 0.8770574140628582 and parameters: {'scaling_method': 'standard', 'learning_rate': 0.7338158768047915, 'loss': 'linear', 'n_estimators': 783}. Best is trial 78 with value: 0.8801458176072536.\n",
      "[I 2024-07-16 08:07:54,206] Trial 209 finished with value: 0.8769318119800797 and parameters: {'scaling_method': 'standard', 'learning_rate': 0.8246752344940949, 'loss': 'exponential', 'n_estimators': 856}. Best is trial 78 with value: 0.8801458176072536.\n",
      "[I 2024-07-16 08:08:19,688] Trial 210 finished with value: 0.8746313399026041 and parameters: {'scaling_method': 'standard', 'learning_rate': 0.6061940652872998, 'loss': 'square', 'n_estimators': 829}. Best is trial 78 with value: 0.8801458176072536.\n",
      "[I 2024-07-16 08:08:47,026] Trial 211 finished with value: 0.8785011233647723 and parameters: {'scaling_method': 'standard', 'learning_rate': 0.9898796927214676, 'loss': 'exponential', 'n_estimators': 918}. Best is trial 78 with value: 0.8801458176072536.\n",
      "[I 2024-07-16 08:09:12,949] Trial 212 finished with value: 0.8789171199800487 and parameters: {'scaling_method': 'standard', 'learning_rate': 0.9964221003647549, 'loss': 'exponential', 'n_estimators': 922}. Best is trial 78 with value: 0.8801458176072536.\n",
      "[I 2024-07-16 08:09:39,147] Trial 213 finished with value: 0.8785752526816359 and parameters: {'scaling_method': 'standard', 'learning_rate': 0.999893803281713, 'loss': 'exponential', 'n_estimators': 926}. Best is trial 78 with value: 0.8801458176072536.\n",
      "[I 2024-07-16 08:10:05,913] Trial 214 finished with value: 0.8781947407254291 and parameters: {'scaling_method': 'standard', 'learning_rate': 0.8207458430336689, 'loss': 'exponential', 'n_estimators': 921}. Best is trial 78 with value: 0.8801458176072536.\n",
      "[I 2024-07-16 08:10:32,597] Trial 215 finished with value: 0.8777660726339418 and parameters: {'scaling_method': 'standard', 'learning_rate': 0.7434231561553085, 'loss': 'exponential', 'n_estimators': 885}. Best is trial 78 with value: 0.8801458176072536.\n",
      "[I 2024-07-16 08:11:00,536] Trial 216 finished with value: 0.8789944432848428 and parameters: {'scaling_method': 'standard', 'learning_rate': 0.9991733287201824, 'loss': 'exponential', 'n_estimators': 916}. Best is trial 78 with value: 0.8801458176072536.\n",
      "[I 2024-07-16 08:11:28,625] Trial 217 finished with value: 0.8779706251424448 and parameters: {'scaling_method': 'robust', 'learning_rate': 0.8513963313665549, 'loss': 'exponential', 'n_estimators': 939}. Best is trial 78 with value: 0.8801458176072536.\n",
      "[I 2024-07-16 08:11:56,577] Trial 218 finished with value: 0.8776215786680421 and parameters: {'scaling_method': 'standard', 'learning_rate': 0.6874230468525876, 'loss': 'exponential', 'n_estimators': 874}. Best is trial 78 with value: 0.8801458176072536.\n",
      "[I 2024-07-16 08:12:25,983] Trial 219 finished with value: 0.8779326364562359 and parameters: {'scaling_method': 'standard', 'learning_rate': 0.9897702184830237, 'loss': 'exponential', 'n_estimators': 966}. Best is trial 78 with value: 0.8801458176072536.\n",
      "[I 2024-07-16 08:12:53,682] Trial 220 finished with value: 0.8783978951188554 and parameters: {'scaling_method': 'minmax', 'learning_rate': 0.8523597453555446, 'loss': 'exponential', 'n_estimators': 908}. Best is trial 78 with value: 0.8801458176072536.\n",
      "[I 2024-07-16 08:13:37,495] Trial 221 finished with value: 0.8152245740524968 and parameters: {'scaling_method': 'minmax', 'learning_rate': 0.00826172568313959, 'loss': 'exponential', 'n_estimators': 907}. Best is trial 78 with value: 0.8801458176072536.\n",
      "[I 2024-07-16 08:14:05,553] Trial 222 finished with value: 0.877664953710843 and parameters: {'scaling_method': 'minmax', 'learning_rate': 0.998748049449681, 'loss': 'exponential', 'n_estimators': 931}. Best is trial 78 with value: 0.8801458176072536.\n",
      "[I 2024-07-16 08:14:33,012] Trial 223 finished with value: 0.878020886087352 and parameters: {'scaling_method': 'minmax', 'learning_rate': 0.7895596835622475, 'loss': 'exponential', 'n_estimators': 893}. Best is trial 78 with value: 0.8801458176072536.\n",
      "[I 2024-07-16 08:15:00,933] Trial 224 finished with value: 0.8779257031196817 and parameters: {'scaling_method': 'minmax', 'learning_rate': 0.8378886863915715, 'loss': 'exponential', 'n_estimators': 915}. Best is trial 78 with value: 0.8801458176072536.\n",
      "[I 2024-07-16 08:15:04,596] Trial 225 finished with value: 0.8696459245754695 and parameters: {'scaling_method': 'minmax', 'learning_rate': 0.6920890278443999, 'loss': 'exponential', 'n_estimators': 88}. Best is trial 78 with value: 0.8801458176072536.\n",
      "[I 2024-07-16 08:15:32,927] Trial 226 finished with value: 0.8782655468722084 and parameters: {'scaling_method': 'standard', 'learning_rate': 0.8250823258297841, 'loss': 'exponential', 'n_estimators': 954}. Best is trial 78 with value: 0.8801458176072536.\n",
      "[I 2024-07-16 08:15:59,557] Trial 227 finished with value: 0.8779245908324043 and parameters: {'scaling_method': 'standard', 'learning_rate': 0.9908505443936927, 'loss': 'exponential', 'n_estimators': 852}. Best is trial 78 with value: 0.8801458176072536.\n",
      "[I 2024-07-16 08:16:27,856] Trial 228 finished with value: 0.8769731391042026 and parameters: {'scaling_method': 'maxabs', 'learning_rate': 0.6300469000032052, 'loss': 'exponential', 'n_estimators': 879}. Best is trial 78 with value: 0.8801458176072536.\n",
      "[I 2024-07-16 08:16:55,638] Trial 229 finished with value: 0.8772183963192752 and parameters: {'scaling_method': 'standard', 'learning_rate': 0.8366590226654222, 'loss': 'exponential', 'n_estimators': 907}. Best is trial 78 with value: 0.8801458176072536.\n",
      "[I 2024-07-16 08:17:23,495] Trial 230 finished with value: 0.8788366086735919 and parameters: {'scaling_method': 'robust', 'learning_rate': 0.8445732883614087, 'loss': 'exponential', 'n_estimators': 929}. Best is trial 78 with value: 0.8801458176072536.\n"
     ]
    },
    {
     "name": "stderr",
     "output_type": "stream",
     "text": [
      "[I 2024-07-16 08:17:51,780] Trial 231 finished with value: 0.8779077421440243 and parameters: {'scaling_method': 'robust', 'learning_rate': 0.8422999316556743, 'loss': 'exponential', 'n_estimators': 935}. Best is trial 78 with value: 0.8801458176072536.\n",
      "[I 2024-07-16 08:18:20,013] Trial 232 finished with value: 0.8777251658007914 and parameters: {'scaling_method': 'robust', 'learning_rate': 0.7244607337584574, 'loss': 'exponential', 'n_estimators': 925}. Best is trial 78 with value: 0.8801458176072536.\n",
      "[I 2024-07-16 08:18:48,162] Trial 233 finished with value: 0.8789825072084592 and parameters: {'scaling_method': 'robust', 'learning_rate': 0.8384006191150075, 'loss': 'exponential', 'n_estimators': 894}. Best is trial 78 with value: 0.8801458176072536.\n",
      "[I 2024-07-16 08:19:15,104] Trial 234 finished with value: 0.8789070216553447 and parameters: {'scaling_method': 'robust', 'learning_rate': 0.8433449735038682, 'loss': 'exponential', 'n_estimators': 892}. Best is trial 78 with value: 0.8801458176072536.\n",
      "[I 2024-07-16 08:19:43,996] Trial 235 finished with value: 0.8770494394040755 and parameters: {'scaling_method': 'robust', 'learning_rate': 0.6230247332082975, 'loss': 'exponential', 'n_estimators': 894}. Best is trial 78 with value: 0.8801458176072536.\n",
      "[I 2024-07-16 08:20:10,729] Trial 236 finished with value: 0.8774691174206419 and parameters: {'scaling_method': 'robust', 'learning_rate': 0.8282028456445347, 'loss': 'exponential', 'n_estimators': 872}. Best is trial 78 with value: 0.8801458176072536.\n",
      "[I 2024-07-16 08:20:37,971] Trial 237 finished with value: 0.8770010497562464 and parameters: {'scaling_method': 'robust', 'learning_rate': 0.7252882908383691, 'loss': 'exponential', 'n_estimators': 907}. Best is trial 78 with value: 0.8801458176072536.\n",
      "[I 2024-07-16 08:21:05,860] Trial 238 finished with value: 0.8782395340289163 and parameters: {'scaling_method': 'robust', 'learning_rate': 0.992534660572661, 'loss': 'exponential', 'n_estimators': 945}. Best is trial 78 with value: 0.8801458176072536.\n",
      "[I 2024-07-16 08:21:33,939] Trial 239 finished with value: 0.8761458396524263 and parameters: {'scaling_method': 'robust', 'learning_rate': 0.5649795731924337, 'loss': 'exponential', 'n_estimators': 885}. Best is trial 78 with value: 0.8801458176072536.\n",
      "[I 2024-07-16 08:22:04,423] Trial 240 finished with value: 0.8773793000898664 and parameters: {'scaling_method': 'robust', 'learning_rate': 0.8152750513871074, 'loss': 'exponential', 'n_estimators': 976}. Best is trial 78 with value: 0.8801458176072536.\n",
      "[I 2024-07-16 08:22:32,369] Trial 241 finished with value: 0.8780250967091477 and parameters: {'scaling_method': 'robust', 'learning_rate': 0.9956154954205267, 'loss': 'exponential', 'n_estimators': 910}. Best is trial 78 with value: 0.8801458176072536.\n",
      "[I 2024-07-16 08:23:00,725] Trial 242 finished with value: 0.8784345393409335 and parameters: {'scaling_method': 'robust', 'learning_rate': 0.8537331311980384, 'loss': 'exponential', 'n_estimators': 926}. Best is trial 78 with value: 0.8801458176072536.\n",
      "[I 2024-07-16 08:23:28,688] Trial 243 finished with value: 0.8774541564729376 and parameters: {'scaling_method': 'robust', 'learning_rate': 0.829429676636384, 'loss': 'exponential', 'n_estimators': 928}. Best is trial 78 with value: 0.8801458176072536.\n",
      "[I 2024-07-16 08:23:56,788] Trial 244 finished with value: 0.8763385296402746 and parameters: {'scaling_method': 'robust', 'learning_rate': 0.7091877112359145, 'loss': 'exponential', 'n_estimators': 895}. Best is trial 78 with value: 0.8801458176072536.\n",
      "[I 2024-07-16 08:24:23,740] Trial 245 finished with value: 0.8775263432196099 and parameters: {'scaling_method': 'robust', 'learning_rate': 0.8230723080903007, 'loss': 'exponential', 'n_estimators': 866}. Best is trial 78 with value: 0.8801458176072536.\n",
      "[I 2024-07-16 08:24:53,783] Trial 246 finished with value: 0.8774791090810993 and parameters: {'scaling_method': 'robust', 'learning_rate': 0.8387802823485698, 'loss': 'exponential', 'n_estimators': 942}. Best is trial 78 with value: 0.8801458176072536.\n",
      "[I 2024-07-16 08:25:23,325] Trial 247 finished with value: 0.8784973827403096 and parameters: {'scaling_method': 'robust', 'learning_rate': 0.9914626957701907, 'loss': 'exponential', 'n_estimators': 963}. Best is trial 78 with value: 0.8801458176072536.\n",
      "[I 2024-07-16 08:25:53,419] Trial 248 finished with value: 0.8777087817156592 and parameters: {'scaling_method': 'robust', 'learning_rate': 0.9980608248156992, 'loss': 'exponential', 'n_estimators': 960}. Best is trial 78 with value: 0.8801458176072536.\n",
      "[I 2024-07-16 08:26:26,381] Trial 249 finished with value: 0.8771329922265203 and parameters: {'scaling_method': 'robust', 'learning_rate': 0.6604482910927654, 'loss': 'exponential', 'n_estimators': 996}. Best is trial 78 with value: 0.8801458176072536.\n",
      "[I 2024-07-16 08:26:55,583] Trial 250 finished with value: 0.8763865233320016 and parameters: {'scaling_method': 'robust', 'learning_rate': 0.695010331078676, 'loss': 'exponential', 'n_estimators': 959}. Best is trial 78 with value: 0.8801458176072536.\n",
      "[I 2024-07-16 08:27:22,355] Trial 251 finished with value: 0.8787379259340469 and parameters: {'scaling_method': 'robust', 'learning_rate': 0.9958111918902293, 'loss': 'exponential', 'n_estimators': 925}. Best is trial 78 with value: 0.8801458176072536.\n",
      "[I 2024-07-16 08:27:52,629] Trial 252 finished with value: 0.876771282753489 and parameters: {'scaling_method': 'robust', 'learning_rate': 0.8451478171791185, 'loss': 'square', 'n_estimators': 920}. Best is trial 78 with value: 0.8801458176072536.\n",
      "[I 2024-07-16 08:28:20,700] Trial 253 finished with value: 0.8785760481934164 and parameters: {'scaling_method': 'robust', 'learning_rate': 0.9941961526384905, 'loss': 'exponential', 'n_estimators': 938}. Best is trial 78 with value: 0.8801458176072536.\n",
      "[I 2024-07-16 08:28:50,783] Trial 254 finished with value: 0.8778155306995217 and parameters: {'scaling_method': 'robust', 'learning_rate': 0.7184450554865903, 'loss': 'exponential', 'n_estimators': 978}. Best is trial 78 with value: 0.8801458176072536.\n",
      "[I 2024-07-16 08:29:21,035] Trial 255 finished with value: 0.8771376763854356 and parameters: {'scaling_method': 'robust', 'learning_rate': 0.570836951748468, 'loss': 'exponential', 'n_estimators': 945}. Best is trial 78 with value: 0.8801458176072536.\n",
      "[I 2024-07-16 08:29:49,907] Trial 256 finished with value: 0.8790432163136496 and parameters: {'scaling_method': 'robust', 'learning_rate': 0.9995124789619284, 'loss': 'linear', 'n_estimators': 931}. Best is trial 78 with value: 0.8801458176072536.\n",
      "[I 2024-07-16 08:30:18,915] Trial 257 finished with value: 0.8786015445891003 and parameters: {'scaling_method': 'robust', 'learning_rate': 0.9993981624233028, 'loss': 'linear', 'n_estimators': 956}. Best is trial 78 with value: 0.8801458176072536.\n",
      "[I 2024-07-16 08:30:46,318] Trial 258 finished with value: 0.8788162344512778 and parameters: {'scaling_method': 'robust', 'learning_rate': 0.9949063887676862, 'loss': 'linear', 'n_estimators': 935}. Best is trial 78 with value: 0.8801458176072536.\n",
      "[I 2024-07-16 08:31:30,550] Trial 259 finished with value: 0.8546327424739631 and parameters: {'scaling_method': 'robust', 'learning_rate': 0.02912323027441253, 'loss': 'linear', 'n_estimators': 945}. Best is trial 78 with value: 0.8801458176072536.\n",
      "[I 2024-07-16 08:32:02,239] Trial 260 finished with value: 0.8761189136631735 and parameters: {'scaling_method': 'robust', 'learning_rate': 0.7336612951134331, 'loss': 'linear', 'n_estimators': 936}. Best is trial 78 with value: 0.8801458176072536.\n",
      "[I 2024-07-16 08:32:31,541] Trial 261 finished with value: 0.8778044122988022 and parameters: {'scaling_method': 'robust', 'learning_rate': 0.8455661728950213, 'loss': 'linear', 'n_estimators': 960}. Best is trial 78 with value: 0.8801458176072536.\n",
      "[I 2024-07-16 08:32:58,736] Trial 262 finished with value: 0.8783313576887851 and parameters: {'scaling_method': 'robust', 'learning_rate': 0.9958650289224359, 'loss': 'linear', 'n_estimators': 932}. Best is trial 78 with value: 0.8801458176072536.\n",
      "[I 2024-07-16 08:33:32,508] Trial 263 finished with value: 0.8773616336120911 and parameters: {'scaling_method': 'robust', 'learning_rate': 0.7206471127249947, 'loss': 'linear', 'n_estimators': 980}. Best is trial 78 with value: 0.8801458176072536.\n"
     ]
    },
    {
     "name": "stderr",
     "output_type": "stream",
     "text": [
      "[I 2024-07-16 08:34:01,751] Trial 264 finished with value: 0.8769335336168442 and parameters: {'scaling_method': 'robust', 'learning_rate': 0.8629659250224222, 'loss': 'linear', 'n_estimators': 902}. Best is trial 78 with value: 0.8801458176072536.\n",
      "[I 2024-07-16 08:34:38,952] Trial 265 finished with value: 0.8672831654747666 and parameters: {'scaling_method': 'robust', 'learning_rate': 0.06610037627052544, 'loss': 'linear', 'n_estimators': 949}. Best is trial 78 with value: 0.8801458176072536.\n",
      "[I 2024-07-16 08:35:04,937] Trial 266 finished with value: 0.8771198455806761 and parameters: {'scaling_method': 'robust', 'learning_rate': 0.9984811152777835, 'loss': 'linear', 'n_estimators': 922}. Best is trial 78 with value: 0.8801458176072536.\n",
      "[I 2024-07-16 08:35:31,014] Trial 267 finished with value: 0.8767668866090859 and parameters: {'scaling_method': 'robust', 'learning_rate': 0.582894424273159, 'loss': 'linear', 'n_estimators': 894}. Best is trial 78 with value: 0.8801458176072536.\n",
      "[I 2024-07-16 08:35:55,058] Trial 268 finished with value: 0.8769378239883985 and parameters: {'scaling_method': 'robust', 'learning_rate': 0.7330798071605383, 'loss': 'linear', 'n_estimators': 831}. Best is trial 78 with value: 0.8801458176072536.\n",
      "[I 2024-07-16 08:36:21,651] Trial 269 finished with value: 0.8786187312327444 and parameters: {'scaling_method': 'robust', 'learning_rate': 0.8415307423676023, 'loss': 'linear', 'n_estimators': 919}. Best is trial 78 with value: 0.8801458176072536.\n",
      "[I 2024-07-16 08:36:48,645] Trial 270 finished with value: 0.8769098559793729 and parameters: {'scaling_method': 'robust', 'learning_rate': 0.6651806332320952, 'loss': 'linear', 'n_estimators': 930}. Best is trial 78 with value: 0.8801458176072536.\n",
      "[I 2024-07-16 08:37:15,309] Trial 271 finished with value: 0.8753327446314184 and parameters: {'scaling_method': 'robust', 'learning_rate': 0.5183827845531105, 'loss': 'linear', 'n_estimators': 911}. Best is trial 78 with value: 0.8801458176072536.\n",
      "[I 2024-07-16 08:37:48,592] Trial 272 finished with value: 0.871995120001243 and parameters: {'scaling_method': 'robust', 'learning_rate': 0.13147839502111136, 'loss': 'linear', 'n_estimators': 973}. Best is trial 78 with value: 0.8801458176072536.\n",
      "[I 2024-07-16 08:38:15,693] Trial 273 finished with value: 0.8775084398748566 and parameters: {'scaling_method': 'robust', 'learning_rate': 0.8350428631495649, 'loss': 'linear', 'n_estimators': 947}. Best is trial 78 with value: 0.8801458176072536.\n",
      "[I 2024-07-16 08:38:42,270] Trial 274 finished with value: 0.8772090550566789 and parameters: {'scaling_method': 'robust', 'learning_rate': 0.8512940926875802, 'loss': 'linear', 'n_estimators': 921}. Best is trial 78 with value: 0.8801458176072536.\n",
      "[I 2024-07-16 08:39:10,631] Trial 275 finished with value: 0.876602064789781 and parameters: {'scaling_method': 'robust', 'learning_rate': 0.7190004895187201, 'loss': 'linear', 'n_estimators': 998}. Best is trial 78 with value: 0.8801458176072536.\n",
      "[I 2024-07-16 08:39:37,016] Trial 276 finished with value: 0.8766317172722248 and parameters: {'scaling_method': 'maxabs', 'learning_rate': 0.5948967900798975, 'loss': 'linear', 'n_estimators': 895}. Best is trial 78 with value: 0.8801458176072536.\n",
      "[I 2024-07-16 08:40:04,068] Trial 277 finished with value: 0.8796693992531315 and parameters: {'scaling_method': 'robust', 'learning_rate': 0.9950255801934159, 'loss': 'linear', 'n_estimators': 954}. Best is trial 78 with value: 0.8801458176072536.\n",
      "[I 2024-07-16 08:40:31,426] Trial 278 finished with value: 0.8780942646159341 and parameters: {'scaling_method': 'robust', 'learning_rate': 0.8352448481485274, 'loss': 'linear', 'n_estimators': 954}. Best is trial 78 with value: 0.8801458176072536.\n",
      "[I 2024-07-16 08:40:57,956] Trial 279 finished with value: 0.8787774197547966 and parameters: {'scaling_method': 'robust', 'learning_rate': 0.9928346711548721, 'loss': 'linear', 'n_estimators': 939}. Best is trial 78 with value: 0.8801458176072536.\n",
      "[I 2024-07-16 08:41:25,700] Trial 280 finished with value: 0.877133747330522 and parameters: {'scaling_method': 'robust', 'learning_rate': 0.7119350723473606, 'loss': 'linear', 'n_estimators': 969}. Best is trial 78 with value: 0.8801458176072536.\n",
      "[I 2024-07-16 08:41:53,845] Trial 281 finished with value: 0.8770795732922261 and parameters: {'scaling_method': 'robust', 'learning_rate': 0.8396787209459764, 'loss': 'linear', 'n_estimators': 935}. Best is trial 78 with value: 0.8801458176072536.\n",
      "[I 2024-07-16 08:42:24,318] Trial 282 finished with value: 0.8767585715712872 and parameters: {'scaling_method': 'robust', 'learning_rate': 0.6291975962457806, 'loss': 'linear', 'n_estimators': 948}. Best is trial 78 with value: 0.8801458176072536.\n",
      "[I 2024-07-16 08:43:10,054] Trial 283 finished with value: 0.7633242516342937 and parameters: {'scaling_method': 'robust', 'learning_rate': 0.0010270312751436232, 'loss': 'linear', 'n_estimators': 916}. Best is trial 78 with value: 0.8801458176072536.\n",
      "[I 2024-07-16 08:43:40,572] Trial 284 finished with value: 0.8776963028433722 and parameters: {'scaling_method': 'robust', 'learning_rate': 0.8468800762425873, 'loss': 'linear', 'n_estimators': 981}. Best is trial 78 with value: 0.8801458176072536.\n",
      "[I 2024-07-16 08:44:08,959] Trial 285 finished with value: 0.8740004306406819 and parameters: {'scaling_method': 'robust', 'learning_rate': 0.7354279155220161, 'loss': 'square', 'n_estimators': 934}. Best is trial 78 with value: 0.8801458176072536.\n",
      "[I 2024-07-16 08:44:38,162] Trial 286 finished with value: 0.8765273829054998 and parameters: {'scaling_method': 'robust', 'learning_rate': 0.8555887138343271, 'loss': 'linear', 'n_estimators': 901}. Best is trial 78 with value: 0.8801458176072536.\n",
      "[I 2024-07-16 08:45:06,874] Trial 287 finished with value: 0.8756255514608797 and parameters: {'scaling_method': 'robust', 'learning_rate': 0.4876179229832939, 'loss': 'linear', 'n_estimators': 920}. Best is trial 78 with value: 0.8801458176072536.\n",
      "[I 2024-07-16 08:45:26,845] Trial 288 finished with value: 0.8756251597450969 and parameters: {'scaling_method': 'robust', 'learning_rate': 0.6327568977862897, 'loss': 'linear', 'n_estimators': 630}. Best is trial 78 with value: 0.8801458176072536.\n",
      "[I 2024-07-16 08:45:55,273] Trial 289 finished with value: 0.877148644974066 and parameters: {'scaling_method': 'robust', 'learning_rate': 0.9817657360650043, 'loss': 'linear', 'n_estimators': 963}. Best is trial 78 with value: 0.8801458176072536.\n",
      "[I 2024-07-16 08:46:04,901] Trial 290 finished with value: 0.8763851068953418 and parameters: {'scaling_method': 'robust', 'learning_rate': 0.9994704552755708, 'loss': 'linear', 'n_estimators': 294}. Best is trial 78 with value: 0.8801458176072536.\n",
      "[I 2024-07-16 08:46:32,724] Trial 291 finished with value: 0.8780355225636747 and parameters: {'scaling_method': 'robust', 'learning_rate': 0.7786588807058533, 'loss': 'exponential', 'n_estimators': 885}. Best is trial 78 with value: 0.8801458176072536.\n",
      "[I 2024-07-16 08:47:21,840] Trial 292 finished with value: 0.7960333629064117 and parameters: {'scaling_method': 'robust', 'learning_rate': 0.0040324012909412656, 'loss': 'exponential', 'n_estimators': 941}. Best is trial 78 with value: 0.8801458176072536.\n",
      "[I 2024-07-16 08:47:49,902] Trial 293 finished with value: 0.8780398837673813 and parameters: {'scaling_method': 'robust', 'learning_rate': 0.9939457852461001, 'loss': 'linear', 'n_estimators': 907}. Best is trial 78 with value: 0.8801458176072536.\n",
      "[I 2024-07-16 08:48:07,694] Trial 294 finished with value: 0.8781298904118024 and parameters: {'scaling_method': 'robust', 'learning_rate': 0.7331990326936451, 'loss': 'exponential', 'n_estimators': 493}. Best is trial 78 with value: 0.8801458176072536.\n",
      "[I 2024-07-16 08:48:36,660] Trial 295 finished with value: 0.8777476926266325 and parameters: {'scaling_method': 'robust', 'learning_rate': 0.9975255519179891, 'loss': 'exponential', 'n_estimators': 950}. Best is trial 78 with value: 0.8801458176072536.\n",
      "[I 2024-07-16 08:49:03,951] Trial 296 finished with value: 0.8771686077258132 and parameters: {'scaling_method': 'robust', 'learning_rate': 0.8363002368413672, 'loss': 'linear', 'n_estimators': 877}. Best is trial 78 with value: 0.8801458176072536.\n"
     ]
    },
    {
     "name": "stderr",
     "output_type": "stream",
     "text": [
      "[I 2024-07-16 08:49:33,216] Trial 297 finished with value: 0.8770386813216631 and parameters: {'scaling_method': 'maxabs', 'learning_rate': 0.6122621983636913, 'loss': 'exponential', 'n_estimators': 927}. Best is trial 78 with value: 0.8801458176072536.\n",
      "[I 2024-07-16 08:50:02,649] Trial 298 finished with value: 0.8780239983129441 and parameters: {'scaling_method': 'robust', 'learning_rate': 0.7439153716980458, 'loss': 'exponential', 'n_estimators': 978}. Best is trial 78 with value: 0.8801458176072536.\n",
      "[I 2024-07-16 08:50:28,392] Trial 299 finished with value: 0.8747983038326094 and parameters: {'scaling_method': 'robust', 'learning_rate': 0.8349636672105378, 'loss': 'square', 'n_estimators': 901}. Best is trial 78 with value: 0.8801458176072536.\n",
      "[I 2024-07-16 08:50:55,737] Trial 300 finished with value: 0.8785160859016511 and parameters: {'scaling_method': 'standard', 'learning_rate': 0.8577955998125565, 'loss': 'linear', 'n_estimators': 927}. Best is trial 78 with value: 0.8801458176072536.\n",
      "[I 2024-07-16 08:51:25,286] Trial 301 finished with value: 0.8760470435367903 and parameters: {'scaling_method': 'robust', 'learning_rate': 0.526033281205067, 'loss': 'exponential', 'n_estimators': 955}. Best is trial 78 with value: 0.8801458176072536.\n",
      "[I 2024-07-16 08:51:52,689] Trial 302 finished with value: 0.878223174026292 and parameters: {'scaling_method': 'standard', 'learning_rate': 0.9982352698771935, 'loss': 'exponential', 'n_estimators': 883}. Best is trial 78 with value: 0.8801458176072536.\n",
      "[I 2024-07-16 08:52:21,667] Trial 303 finished with value: 0.8769666920224959 and parameters: {'scaling_method': 'robust', 'learning_rate': 0.6519042724150069, 'loss': 'linear', 'n_estimators': 909}. Best is trial 78 with value: 0.8801458176072536.\n",
      "[I 2024-07-16 08:52:49,335] Trial 304 finished with value: 0.8777336415340173 and parameters: {'scaling_method': 'standard', 'learning_rate': 0.7518306685860499, 'loss': 'exponential', 'n_estimators': 863}. Best is trial 78 with value: 0.8801458176072536.\n",
      "[I 2024-07-16 08:53:17,093] Trial 305 finished with value: 0.878002723117746 and parameters: {'scaling_method': 'robust', 'learning_rate': 0.849747977122636, 'loss': 'exponential', 'n_estimators': 931}. Best is trial 78 with value: 0.8801458176072536.\n",
      "[I 2024-07-16 08:53:45,680] Trial 306 finished with value: 0.876745906167392 and parameters: {'scaling_method': 'standard', 'learning_rate': 0.6539755781204412, 'loss': 'linear', 'n_estimators': 960}. Best is trial 78 with value: 0.8801458176072536.\n",
      "[I 2024-07-16 08:54:12,759] Trial 307 finished with value: 0.878272321275834 and parameters: {'scaling_method': 'robust', 'learning_rate': 0.856663021669497, 'loss': 'exponential', 'n_estimators': 892}. Best is trial 78 with value: 0.8801458176072536.\n",
      "[I 2024-07-16 08:54:40,392] Trial 308 finished with value: 0.8770312574685608 and parameters: {'scaling_method': 'standard', 'learning_rate': 0.7253136605262511, 'loss': 'exponential', 'n_estimators': 908}. Best is trial 78 with value: 0.8801458176072536.\n",
      "[I 2024-07-16 08:55:07,964] Trial 309 finished with value: 0.8780108481018415 and parameters: {'scaling_method': 'robust', 'learning_rate': 0.9873647737633733, 'loss': 'linear', 'n_estimators': 941}. Best is trial 78 with value: 0.8801458176072536.\n",
      "[I 2024-07-16 08:55:34,946] Trial 310 finished with value: 0.8787022287117123 and parameters: {'scaling_method': 'standard', 'learning_rate': 0.992825532696807, 'loss': 'exponential', 'n_estimators': 871}. Best is trial 78 with value: 0.8801458176072536.\n",
      "[I 2024-07-16 08:56:01,039] Trial 311 finished with value: 0.8788401533092314 and parameters: {'scaling_method': 'standard', 'learning_rate': 0.9935212982181396, 'loss': 'exponential', 'n_estimators': 878}. Best is trial 78 with value: 0.8801458176072536.\n",
      "[I 2024-07-16 08:56:28,631] Trial 312 finished with value: 0.8769283010027772 and parameters: {'scaling_method': 'standard', 'learning_rate': 0.5131029165507666, 'loss': 'exponential', 'n_estimators': 864}. Best is trial 78 with value: 0.8801458176072536.\n",
      "[I 2024-07-16 08:56:55,364] Trial 313 finished with value: 0.8785719419253392 and parameters: {'scaling_method': 'robust', 'learning_rate': 0.8328063407110559, 'loss': 'exponential', 'n_estimators': 879}. Best is trial 78 with value: 0.8801458176072536.\n",
      "[I 2024-07-16 08:57:22,966] Trial 314 finished with value: 0.8776661063635413 and parameters: {'scaling_method': 'standard', 'learning_rate': 0.5999465200299867, 'loss': 'exponential', 'n_estimators': 917}. Best is trial 78 with value: 0.8801458176072536.\n",
      "[I 2024-07-16 08:57:51,941] Trial 315 finished with value: 0.8789763421016998 and parameters: {'scaling_method': 'robust', 'learning_rate': 0.9891266298590353, 'loss': 'exponential', 'n_estimators': 986}. Best is trial 78 with value: 0.8801458176072536.\n",
      "[I 2024-07-16 08:58:21,125] Trial 316 finished with value: 0.8776447123259892 and parameters: {'scaling_method': 'robust', 'learning_rate': 0.731059891224825, 'loss': 'exponential', 'n_estimators': 972}. Best is trial 78 with value: 0.8801458176072536.\n",
      "[I 2024-07-16 08:58:50,139] Trial 317 finished with value: 0.8775164712743223 and parameters: {'scaling_method': 'robust', 'learning_rate': 0.9989469796673448, 'loss': 'exponential', 'n_estimators': 983}. Best is trial 78 with value: 0.8801458176072536.\n",
      "[I 2024-07-16 08:59:20,136] Trial 318 finished with value: 0.8774258709310064 and parameters: {'scaling_method': 'robust', 'learning_rate': 0.8344368890217022, 'loss': 'exponential', 'n_estimators': 996}. Best is trial 78 with value: 0.8801458176072536.\n",
      "[I 2024-07-16 08:59:50,328] Trial 319 finished with value: 0.8771199239948342 and parameters: {'scaling_method': 'robust', 'learning_rate': 0.7109535097456305, 'loss': 'exponential', 'n_estimators': 963}. Best is trial 78 with value: 0.8801458176072536.\n",
      "[I 2024-07-16 09:00:16,337] Trial 320 finished with value: 0.8789485487637361 and parameters: {'scaling_method': 'robust', 'learning_rate': 0.9946824118245026, 'loss': 'exponential', 'n_estimators': 847}. Best is trial 78 with value: 0.8801458176072536.\n",
      "[I 2024-07-16 09:00:41,423] Trial 321 finished with value: 0.8771686953521274 and parameters: {'scaling_method': 'robust', 'learning_rate': 0.8177986915576146, 'loss': 'exponential', 'n_estimators': 847}. Best is trial 78 with value: 0.8801458176072536.\n",
      "[I 2024-07-16 09:01:07,624] Trial 322 finished with value: 0.8765467585602416 and parameters: {'scaling_method': 'robust', 'learning_rate': 0.6191812243630316, 'loss': 'exponential', 'n_estimators': 861}. Best is trial 78 with value: 0.8801458176072536.\n",
      "[I 2024-07-16 09:01:34,207] Trial 323 finished with value: 0.8780875963559873 and parameters: {'scaling_method': 'maxabs', 'learning_rate': 0.9996335913965676, 'loss': 'exponential', 'n_estimators': 882}. Best is trial 78 with value: 0.8801458176072536.\n",
      "[I 2024-07-16 09:02:00,793] Trial 324 finished with value: 0.8767203589222659 and parameters: {'scaling_method': 'robust', 'learning_rate': 0.7387468174582267, 'loss': 'exponential', 'n_estimators': 861}. Best is trial 78 with value: 0.8801458176072536.\n",
      "[I 2024-07-16 09:02:26,700] Trial 325 finished with value: 0.8772644019532274 and parameters: {'scaling_method': 'robust', 'learning_rate': 0.843045755003389, 'loss': 'exponential', 'n_estimators': 836}. Best is trial 78 with value: 0.8801458176072536.\n",
      "[I 2024-07-16 09:02:55,173] Trial 326 finished with value: 0.8758526409742442 and parameters: {'scaling_method': 'robust', 'learning_rate': 0.4336921774347491, 'loss': 'exponential', 'n_estimators': 891}. Best is trial 78 with value: 0.8801458176072536.\n",
      "[I 2024-07-16 09:03:32,588] Trial 327 finished with value: 0.8456284421504903 and parameters: {'scaling_method': 'robust', 'learning_rate': 0.018752873151415488, 'loss': 'square', 'n_estimators': 844}. Best is trial 78 with value: 0.8801458176072536.\n"
     ]
    }
   ],
   "source": [
    "from optuna import create_study\n",
    "\n",
    "study_xgb = create_study(study_name='optimization', direction='maximize')\n",
    "\n",
    "study_xgb.optimize(lambda trial: objective_xgb(trial, X, y), n_trials=500)"
   ]
  },
  {
   "cell_type": "code",
   "execution_count": 28,
   "id": "e0cb530d",
   "metadata": {},
   "outputs": [
    {
     "name": "stdout",
     "output_type": "stream",
     "text": [
      "0.951622985121114\n",
      "{'scaling_method': 'minmax', 'encoding_method': 'onehot', 'drop': None, 'n_estimators': 979, 'learning_rate': 0.046054720840163293, 'max_depth': 4, 'subsample': 0.8282908794962028, 'colsample_bytree': 0.5510975070017484, 'min_child_weight': 10}\n"
     ]
    }
   ],
   "source": [
    "print(study_xgb.best_value)\n",
    "print(study_xgb.best_params)"
   ]
  },
  {
   "cell_type": "code",
   "execution_count": null,
   "id": "4cbfe237",
   "metadata": {},
   "outputs": [],
   "source": [
    "trial_number = []\n",
    "score = []\n",
    "parameters = []\n",
    "optuna_dict = {}\n",
    "trials = range(200)\n",
    "\n",
    "for trial in trials:\n",
    "    trial_number.append(study_lasso.get_trials()[trial].number)\n",
    "    score.append(study_lasso.get_trials()[trial].value)\n",
    "    parameters.append(list(study_lasso.get_trials()[trial].params.items()))\n",
    "\n",
    "optuna_dict['Trial'] = trial_number\n",
    "optuna_dict['Score'] = score\n",
    "optuna_dict['Parameters'] = parameters\n",
    "\n",
    "optuna_lasso = pd.DataFrame.from_dict(optuna_dict)\n",
    "optuna_lasso"
   ]
  },
  {
   "cell_type": "code",
   "execution_count": null,
   "id": "c449c7ab",
   "metadata": {},
   "outputs": [],
   "source": [
    "fig = px.scatter(optuna_lasso,\n",
    "                 x=\"Trial\", \n",
    "                 y=\"Score\", \n",
    "                 hover_data=['Parameters'],\n",
    "                labels = {'Trial': 'Optuna Trial', 'Score': 'Score (R-Squared)'},\n",
    "                title = 'Lasso tuned with Optuna after 200 trials  <br><sup> Best Score: 0.9508</sup>')\n",
    "\n",
    "fig.update_layout(\n",
    "    hoverlabel=dict(\n",
    "        bgcolor=\"white\",\n",
    "        font_size=8,\n",
    "        font_family=\"Rockwell\"\n",
    "    )\n",
    ")\n",
    "\n",
    "fig.show()"
   ]
  },
  {
   "cell_type": "markdown",
   "id": "13c9821b",
   "metadata": {},
   "source": [
    "# RF"
   ]
  },
  {
   "cell_type": "code",
   "execution_count": 37,
   "id": "47153b24",
   "metadata": {},
   "outputs": [],
   "source": [
    "def instantiate_rf(trial : Trial) -> RandomForestRegressor:\n",
    "    params = {\n",
    "    'bootstrap':trial.suggest_categorical('bootstrap', [True]),\n",
    "    'n_estimators': trial.suggest_int('n_estimators', 250, 500),\n",
    "    'max_depth': trial.suggest_int('max_depth', 50, 75),\n",
    "    'min_samples_split': trial.suggest_int('min_samples_split', 4, 6),\n",
    "    'min_samples_leaf': trial.suggest_int('min_samples_leaf', 1, 5)\n",
    "    }\n",
    "    \n",
    "    return RandomForestRegressor(**params)\n",
    "  \n",
    "def instantiate_model(trial : Trial, numerical_columns : list[str], \n",
    "                      categorical_columns : list[str]) -> Pipeline:\n",
    "    \n",
    "    processor = instantiate_processor_ordinal(\n",
    "        trial, numerical_columns, categorical_columns\n",
    "    )\n",
    "    \n",
    "    learner = instantiate_rf(trial)\n",
    "    \n",
    "    model_pipe = Pipeline([\n",
    "    ('processor', processor),\n",
    "    ('model', learner)\n",
    "    ])\n",
    "    \n",
    "    model = compose.TransformedTargetRegressor(regressor= model_pipe,\n",
    "                                                func=np.log, inverse_func=np.exp)\n",
    "    \n",
    "    return model\n",
    "\n",
    "def objective_rf(trial : Trial, X : DataFrame,\n",
    "              y : np.ndarray | Series, \n",
    "              numerical_columns : Optional[list[str]]=None, \n",
    "              categorical_columns : Optional[list[str]]=None, \n",
    "              random_state : int=42) -> float:\n",
    "    \n",
    "    if numerical_columns is None:\n",
    "        numerical_columns = [\n",
    "            *X.select_dtypes(exclude=['object', 'category']).columns\n",
    "        ]\n",
    "    \n",
    "    if categorical_columns is None:\n",
    "        categorical_columns = [\n",
    "            *X.select_dtypes(include=['object', 'category']).columns\n",
    "        ]\n",
    "    \n",
    "    model = instantiate_model(trial, numerical_columns, categorical_columns)\n",
    "    kf = KFold(n_splits=5, shuffle=True, random_state=random_state)\n",
    "    r2 = make_scorer(r2_score)\n",
    "    scores = cross_val_score(model, X, y, scoring= r2, cv=kf)\n",
    "    \n",
    "    return np.min([np.mean(scores), np.median([scores])])"
   ]
  },
  {
   "cell_type": "code",
   "execution_count": 38,
   "id": "ea24f892",
   "metadata": {},
   "outputs": [
    {
     "name": "stderr",
     "output_type": "stream",
     "text": [
      "[I 2024-07-11 09:43:39,468] A new study created in memory with name: optimization\n",
      "[I 2024-07-11 09:44:37,413] Trial 0 finished with value: 0.9083545094739573 and parameters: {'scaling_method': 'maxabs', 'bootstrap': True, 'n_estimators': 253, 'max_depth': 60, 'min_samples_split': 5, 'min_samples_leaf': 1}. Best is trial 0 with value: 0.9083545094739573.\n",
      "[I 2024-07-11 09:45:24,724] Trial 1 finished with value: 0.8999706968816368 and parameters: {'scaling_method': 'maxabs', 'bootstrap': True, 'n_estimators': 328, 'max_depth': 68, 'min_samples_split': 6, 'min_samples_leaf': 5}. Best is trial 0 with value: 0.9083545094739573.\n",
      "[I 2024-07-11 09:46:51,911] Trial 2 finished with value: 0.9081071301156255 and parameters: {'scaling_method': 'minmax', 'bootstrap': True, 'n_estimators': 427, 'max_depth': 73, 'min_samples_split': 5, 'min_samples_leaf': 2}. Best is trial 0 with value: 0.9083545094739573.\n",
      "[I 2024-07-11 09:48:22,636] Trial 3 finished with value: 0.9093564157184439 and parameters: {'scaling_method': 'robust', 'bootstrap': True, 'n_estimators': 381, 'max_depth': 53, 'min_samples_split': 4, 'min_samples_leaf': 1}. Best is trial 3 with value: 0.9093564157184439.\n",
      "[I 2024-07-11 09:50:19,973] Trial 4 finished with value: 0.9094102521730991 and parameters: {'scaling_method': 'maxabs', 'bootstrap': True, 'n_estimators': 494, 'max_depth': 62, 'min_samples_split': 4, 'min_samples_leaf': 1}. Best is trial 4 with value: 0.9094102521730991.\n"
     ]
    }
   ],
   "source": [
    "from optuna import create_study\n",
    "\n",
    "study_rf = create_study(study_name='optimization', direction='maximize')\n",
    "\n",
    "#study_rf.optimize(lambda trial: objective_rf(trial, X, y), n_trials=5)"
   ]
  },
  {
   "cell_type": "code",
   "execution_count": 51,
   "id": "e40cd543",
   "metadata": {},
   "outputs": [
    {
     "name": "stdout",
     "output_type": "stream",
     "text": [
      "0.9106961840498735\n",
      "{'scaling_method': 'robust', 'encoding_method': 'ordinal', 'bootstrap': True, 'n_estimators': 338, 'max_depth': 73, 'min_sample_split': 4, 'min_sample_leaf': 2}\n"
     ]
    }
   ],
   "source": [
    "print(study_rf.best_value)\n",
    "print(study_rf.best_params)"
   ]
  },
  {
   "cell_type": "markdown",
   "id": "d8609cdb",
   "metadata": {},
   "source": [
    "# gbr"
   ]
  },
  {
   "cell_type": "code",
   "execution_count": 31,
   "id": "20165f1e",
   "metadata": {},
   "outputs": [],
   "source": [
    "def instantiate_gbr(trial : Trial) -> GradientBoostingRegressor:\n",
    "    params = {\n",
    "    'n_estimators': trial.suggest_int('n_estimators', 500, 1000),\n",
    "    'learning_rate': trial.suggest_float('learning_rate', 1e-4, 1, log=True),\n",
    "    'max_depth': trial.suggest_int ('max_depth', 2, 6),\n",
    "    \"subsample\": trial.suggest_float(\"subsample\", 0.5, 1.0),\n",
    "    'min_samples_split': trial.suggest_int ('min_sample_split', 6, 10),\n",
    "    'min_samples_leaf': trial.suggest_int ('min_sample_leaf', 1, 10)\n",
    "    }\n",
    "    \n",
    "    return GradientBoostingRegressor(**params)\n",
    "\n",
    "def instantiate_model(trial : Trial, numerical_columns : list[str], \n",
    "                      categorical_columns : list[str]) -> Pipeline:\n",
    "    \n",
    "    processor = instantiate_processor_ordinal(\n",
    "        trial, numerical_columns, categorical_columns\n",
    "    )\n",
    "    \n",
    "    learner = instantiate_gbr(trial)\n",
    "    \n",
    "    model_pipe = Pipeline([\n",
    "    ('processor', processor),\n",
    "    ('model', learner)\n",
    "    ])\n",
    "    \n",
    "    model = compose.TransformedTargetRegressor(regressor= model_pipe,\n",
    "                                                func=np.log, inverse_func=np.exp)\n",
    "    \n",
    "    return model\n",
    "\n",
    "def objective_gbr(trial : Trial, X : DataFrame,\n",
    "              y : np.ndarray | Series, \n",
    "              numerical_columns : Optional[list[str]]=None, \n",
    "              categorical_columns : Optional[list[str]]=None, \n",
    "              random_state : int=42) -> float:\n",
    "    \n",
    "    if numerical_columns is None:\n",
    "        numerical_columns = [\n",
    "            *X.select_dtypes(exclude=['object', 'category']).columns\n",
    "        ]\n",
    "    \n",
    "    if categorical_columns is None:\n",
    "        categorical_columns = [\n",
    "            *X.select_dtypes(include=['object', 'category']).columns\n",
    "        ]\n",
    "    \n",
    "    model = instantiate_model(trial, numerical_columns, categorical_columns)\n",
    "    kf = KFold(n_splits=5, shuffle=True, random_state=random_state)\n",
    "    r2 = make_scorer(r2_score)\n",
    "    scores = cross_val_score(model, X, y, scoring= r2, cv=kf)\n",
    "    \n",
    "    return np.min([np.mean(scores), np.median([scores])])"
   ]
  },
  {
   "cell_type": "code",
   "execution_count": 34,
   "id": "484f0cf3",
   "metadata": {},
   "outputs": [
    {
     "name": "stderr",
     "output_type": "stream",
     "text": [
      "[I 2024-07-11 09:36:55,471] A new study created in memory with name: optimization\n",
      "[I 2024-07-11 09:38:00,789] Trial 0 finished with value: 0.10676969273467858 and parameters: {'scaling_method': 'maxabs', 'n_estimators': 680, 'learning_rate': 0.00015291122193602163, 'max_depth': 6, 'subsample': 0.7453028457760895, 'min_sample_split': 10, 'min_sample_leaf': 9}. Best is trial 0 with value: 0.10676969273467858.\n",
      "[I 2024-07-11 09:38:22,650] Trial 1 finished with value: 0.28100365000054095 and parameters: {'scaling_method': 'standard', 'n_estimators': 605, 'learning_rate': 0.0006146473911796216, 'max_depth': 2, 'subsample': 0.8742574967407413, 'min_sample_split': 8, 'min_sample_leaf': 2}. Best is trial 1 with value: 0.28100365000054095.\n",
      "[I 2024-07-11 09:39:24,934] Trial 2 finished with value: 0.2466584750875623 and parameters: {'scaling_method': 'standard', 'n_estimators': 533, 'learning_rate': 0.00043180685670930226, 'max_depth': 6, 'subsample': 0.8638913349214837, 'min_sample_split': 8, 'min_sample_leaf': 2}. Best is trial 1 with value: 0.28100365000054095.\n",
      "[I 2024-07-11 09:40:20,656] Trial 3 finished with value: 0.08778538023716427 and parameters: {'scaling_method': 'robust', 'n_estimators': 973, 'learning_rate': 0.00010617361145818068, 'max_depth': 3, 'subsample': 0.9791756002812511, 'min_sample_split': 9, 'min_sample_leaf': 5}. Best is trial 1 with value: 0.28100365000054095.\n",
      "[I 2024-07-11 09:41:04,110] Trial 4 finished with value: 0.9214824552885755 and parameters: {'scaling_method': 'robust', 'n_estimators': 868, 'learning_rate': 0.005429634831521693, 'max_depth': 3, 'subsample': 0.8347093949409654, 'min_sample_split': 10, 'min_sample_leaf': 10}. Best is trial 4 with value: 0.9214824552885755.\n"
     ]
    }
   ],
   "source": [
    "from optuna import create_study\n",
    "\n",
    "study_gbr = create_study(study_name='optimization', direction='maximize')\n",
    "\n",
    "study_gbr.optimize(lambda trial: objective_gbr(trial, X, y), n_trials=5)"
   ]
  },
  {
   "cell_type": "code",
   "execution_count": 35,
   "id": "aa37057c",
   "metadata": {},
   "outputs": [
    {
     "name": "stdout",
     "output_type": "stream",
     "text": [
      "0.9214824552885755\n",
      "{'scaling_method': 'robust', 'n_estimators': 868, 'learning_rate': 0.005429634831521693, 'max_depth': 3, 'subsample': 0.8347093949409654, 'min_sample_split': 10, 'min_sample_leaf': 10}\n"
     ]
    }
   ],
   "source": [
    "print(study_gbr.best_value)\n",
    "print(study_gbr.best_params)"
   ]
  },
  {
   "cell_type": "markdown",
   "id": "9027e1a9",
   "metadata": {},
   "source": [
    "# Adaboost"
   ]
  },
  {
   "cell_type": "code",
   "execution_count": 53,
   "id": "7e580a6f",
   "metadata": {},
   "outputs": [],
   "source": [
    "def instantiate_ada(trial : Trial) -> AdaBoostRegressor:\n",
    "    params = {\n",
    "    'learning_rate': trial.suggest_float('learning_rate', 1e-4, 1, log=True),\n",
    "    'loss': trial.suggest_categorical('loss',['linear', 'square', 'exponential']),\n",
    "    'n_estimators': trial.suggest_int('n_estimators', 1, 1000)\n",
    "    }\n",
    "    \n",
    "    return AdaBoostRegressor(**params)\n",
    "\n",
    "def instantiate_model(trial : Trial, numerical_columns : list[str], \n",
    "                      categorical_columns : list[str]) -> Pipeline:\n",
    "    \n",
    "    processor = instantiate_processor_ordinal(\n",
    "        trial, numerical_columns, categorical_columns\n",
    "    )\n",
    "    \n",
    "    learner = instantiate_ada(trial)\n",
    "    \n",
    "    model_pipe = Pipeline([\n",
    "    ('processor', processor),\n",
    "    ('model', learner)\n",
    "    ])\n",
    "    \n",
    "    model = compose.TransformedTargetRegressor(regressor= model_pipe,\n",
    "                                                func=np.log, inverse_func=np.exp)\n",
    "    \n",
    "    return model\n",
    "\n",
    "def objective_ada(trial : Trial, X : DataFrame,\n",
    "              y : np.ndarray | Series, \n",
    "              numerical_columns : Optional[list[str]]=None, \n",
    "              categorical_columns : Optional[list[str]]=None, \n",
    "              random_state : int=42) -> float:\n",
    "    \n",
    "    if numerical_columns is None:\n",
    "        numerical_columns = [\n",
    "            *X.select_dtypes(exclude=['object', 'category']).columns\n",
    "        ]\n",
    "    \n",
    "    if categorical_columns is None:\n",
    "        categorical_columns = [\n",
    "            *X.select_dtypes(include=['object', 'category']).columns\n",
    "        ]\n",
    "    \n",
    "    model = instantiate_model(trial, numerical_columns, categorical_columns)\n",
    "    kf = KFold(n_splits=5, shuffle=True, random_state=random_state)\n",
    "    r2 = make_scorer(r2_score)\n",
    "    scores = cross_val_score(model, X, y, scoring= r2, cv=kf)\n",
    "    \n",
    "    return np.min([np.mean(scores), np.median([scores])])"
   ]
  },
  {
   "cell_type": "code",
   "execution_count": 54,
   "id": "314f92d8",
   "metadata": {},
   "outputs": [
    {
     "name": "stderr",
     "output_type": "stream",
     "text": [
      "[I 2024-07-11 10:02:52,147] A new study created in memory with name: optimization\n",
      "[I 2024-07-11 10:02:52,518] Trial 0 finished with value: 0.7697034560200977 and parameters: {'scaling_method': 'robust', 'learning_rate': 0.5591223026880627, 'loss': 'linear', 'n_estimators': 5}. Best is trial 0 with value: 0.7697034560200977.\n",
      "[I 2024-07-11 10:03:10,819] Trial 1 finished with value: 0.8546529541652251 and parameters: {'scaling_method': 'maxabs', 'learning_rate': 0.06846055794485856, 'loss': 'linear', 'n_estimators': 404}. Best is trial 1 with value: 0.8546529541652251.\n",
      "[I 2024-07-11 10:03:29,877] Trial 2 finished with value: 0.875164826045092 and parameters: {'scaling_method': 'robust', 'learning_rate': 0.5252293433374021, 'loss': 'exponential', 'n_estimators': 551}. Best is trial 2 with value: 0.875164826045092.\n",
      "[I 2024-07-11 10:03:51,103] Trial 3 finished with value: 0.7894060614839619 and parameters: {'scaling_method': 'standard', 'learning_rate': 0.006602759458806035, 'loss': 'square', 'n_estimators': 416}. Best is trial 2 with value: 0.875164826045092.\n",
      "[I 2024-07-11 10:03:53,533] Trial 4 finished with value: 0.7516267401243062 and parameters: {'scaling_method': 'standard', 'learning_rate': 0.001764280416031639, 'loss': 'square', 'n_estimators': 45}. Best is trial 2 with value: 0.875164826045092.\n",
      "[I 2024-07-11 10:04:31,033] Trial 5 finished with value: 0.8531625153071971 and parameters: {'scaling_method': 'standard', 'learning_rate': 0.03192455973880304, 'loss': 'exponential', 'n_estimators': 812}. Best is trial 2 with value: 0.875164826045092.\n",
      "[I 2024-07-11 10:04:42,175] Trial 6 finished with value: 0.7489251023584357 and parameters: {'scaling_method': 'robust', 'learning_rate': 0.0004869604703745407, 'loss': 'linear', 'n_estimators': 216}. Best is trial 2 with value: 0.875164826045092.\n",
      "[I 2024-07-11 10:05:23,966] Trial 7 finished with value: 0.8125175645403576 and parameters: {'scaling_method': 'robust', 'learning_rate': 0.007800237570203197, 'loss': 'linear', 'n_estimators': 810}. Best is trial 2 with value: 0.875164826045092.\n",
      "[I 2024-07-11 10:05:32,994] Trial 8 finished with value: 0.740015316414385 and parameters: {'scaling_method': 'maxabs', 'learning_rate': 0.00022783884897739016, 'loss': 'linear', 'n_estimators': 171}. Best is trial 2 with value: 0.875164826045092.\n",
      "[I 2024-07-11 10:05:38,941] Trial 9 finished with value: 0.8072715830556264 and parameters: {'scaling_method': 'standard', 'learning_rate': 0.040666517337138705, 'loss': 'linear', 'n_estimators': 119}. Best is trial 2 with value: 0.875164826045092.\n",
      "[I 2024-07-11 10:05:58,388] Trial 10 finished with value: 0.8780826782483189 and parameters: {'scaling_method': 'minmax', 'learning_rate': 0.9665979668694383, 'loss': 'exponential', 'n_estimators': 613}. Best is trial 10 with value: 0.8780826782483189.\n",
      "[I 2024-07-11 10:06:20,082] Trial 11 finished with value: 0.8771383755349959 and parameters: {'scaling_method': 'minmax', 'learning_rate': 0.8688891534129805, 'loss': 'exponential', 'n_estimators': 647}. Best is trial 10 with value: 0.8780826782483189.\n",
      "[I 2024-07-11 10:06:40,107] Trial 12 finished with value: 0.8779115583289684 and parameters: {'scaling_method': 'minmax', 'learning_rate': 0.938023446604585, 'loss': 'exponential', 'n_estimators': 618}. Best is trial 10 with value: 0.8780826782483189.\n",
      "[I 2024-07-11 10:07:04,816] Trial 13 finished with value: 0.8713033033938435 and parameters: {'scaling_method': 'minmax', 'learning_rate': 0.15326841976862476, 'loss': 'exponential', 'n_estimators': 670}. Best is trial 10 with value: 0.8780826782483189.\n",
      "[I 2024-07-11 10:07:29,204] Trial 14 finished with value: 0.8726031022028063 and parameters: {'scaling_method': 'minmax', 'learning_rate': 0.19401035618984425, 'loss': 'exponential', 'n_estimators': 667}. Best is trial 10 with value: 0.8780826782483189.\n",
      "[I 2024-07-11 10:08:03,126] Trial 15 finished with value: 0.8741678522859605 and parameters: {'scaling_method': 'minmax', 'learning_rate': 0.19571484981329867, 'loss': 'exponential', 'n_estimators': 940}. Best is trial 10 with value: 0.8780826782483189.\n",
      "[I 2024-07-11 10:08:14,353] Trial 16 finished with value: 0.8759517890404285 and parameters: {'scaling_method': 'minmax', 'learning_rate': 0.863947710977675, 'loss': 'exponential', 'n_estimators': 325}. Best is trial 10 with value: 0.8780826782483189.\n",
      "[I 2024-07-11 10:08:39,878] Trial 17 finished with value: 0.8245565992555626 and parameters: {'scaling_method': 'minmax', 'learning_rate': 0.020355226582718405, 'loss': 'exponential', 'n_estimators': 503}. Best is trial 10 with value: 0.8780826782483189.\n",
      "[I 2024-07-11 10:09:22,391] Trial 18 finished with value: 0.7790524767783765 and parameters: {'scaling_method': 'minmax', 'learning_rate': 0.0023469408789676552, 'loss': 'square', 'n_estimators': 833}. Best is trial 10 with value: 0.8780826782483189.\n",
      "[I 2024-07-11 10:09:46,806] Trial 19 finished with value: 0.8689234225527119 and parameters: {'scaling_method': 'minmax', 'learning_rate': 0.13000354123180455, 'loss': 'exponential', 'n_estimators': 576}. Best is trial 10 with value: 0.8780826782483189.\n",
      "[I 2024-07-11 10:10:19,011] Trial 20 finished with value: 0.875575631970334 and parameters: {'scaling_method': 'maxabs', 'learning_rate': 0.3276719260228993, 'loss': 'exponential', 'n_estimators': 968}. Best is trial 10 with value: 0.8780826782483189.\n",
      "[I 2024-07-11 10:10:40,581] Trial 21 finished with value: 0.8764809575260154 and parameters: {'scaling_method': 'minmax', 'learning_rate': 0.981451602009341, 'loss': 'exponential', 'n_estimators': 656}. Best is trial 10 with value: 0.8780826782483189.\n",
      "[I 2024-07-11 10:11:03,633] Trial 22 finished with value: 0.8746538229268802 and parameters: {'scaling_method': 'minmax', 'learning_rate': 0.32933660611767623, 'loss': 'exponential', 'n_estimators': 693}. Best is trial 10 with value: 0.8780826782483189.\n",
      "[I 2024-07-11 10:11:34,336] Trial 23 finished with value: 0.8651629965187382 and parameters: {'scaling_method': 'minmax', 'learning_rate': 0.06762688465459105, 'loss': 'exponential', 'n_estimators': 750}. Best is trial 10 with value: 0.8780826782483189.\n",
      "[I 2024-07-11 10:11:52,806] Trial 24 finished with value: 0.877332188458922 and parameters: {'scaling_method': 'minmax', 'learning_rate': 0.9650619122751851, 'loss': 'exponential', 'n_estimators': 614}. Best is trial 10 with value: 0.8780826782483189.\n",
      "[I 2024-07-11 10:12:06,920] Trial 25 finished with value: 0.8703375963820832 and parameters: {'scaling_method': 'minmax', 'learning_rate': 0.3864493541692656, 'loss': 'square', 'n_estimators': 422}. Best is trial 10 with value: 0.8780826782483189.\n",
      "[I 2024-07-11 10:12:30,644] Trial 26 finished with value: 0.8650823033259826 and parameters: {'scaling_method': 'minmax', 'learning_rate': 0.08196766379896685, 'loss': 'exponential', 'n_estimators': 582}. Best is trial 10 with value: 0.8780826782483189.\n",
      "[I 2024-07-11 10:13:00,389] Trial 27 finished with value: 0.8740764641314778 and parameters: {'scaling_method': 'minmax', 'learning_rate': 0.2837238635138632, 'loss': 'exponential', 'n_estimators': 881}. Best is trial 10 with value: 0.8780826782483189.\n",
      "[I 2024-07-11 10:13:16,568] Trial 28 finished with value: 0.8772047236103455 and parameters: {'scaling_method': 'maxabs', 'learning_rate': 0.983146633604237, 'loss': 'exponential', 'n_estimators': 483}. Best is trial 10 with value: 0.8780826782483189.\n",
      "[I 2024-07-11 10:13:26,691] Trial 29 finished with value: 0.8725330669246614 and parameters: {'scaling_method': 'robust', 'learning_rate': 0.5708926000445392, 'loss': 'square', 'n_estimators': 323}. Best is trial 10 with value: 0.8780826782483189.\n",
      "[I 2024-07-11 10:13:50,268] Trial 30 finished with value: 0.8757094620589182 and parameters: {'scaling_method': 'minmax', 'learning_rate': 0.48809286544110553, 'loss': 'exponential', 'n_estimators': 748}. Best is trial 10 with value: 0.8780826782483189.\n",
      "[I 2024-07-11 10:14:05,000] Trial 31 finished with value: 0.8770954774744751 and parameters: {'scaling_method': 'maxabs', 'learning_rate': 0.916069127836751, 'loss': 'exponential', 'n_estimators': 479}. Best is trial 10 with value: 0.8780826782483189.\n",
      "[I 2024-07-11 10:14:21,871] Trial 32 finished with value: 0.8755456050312571 and parameters: {'scaling_method': 'maxabs', 'learning_rate': 0.492789218688456, 'loss': 'exponential', 'n_estimators': 509}. Best is trial 10 with value: 0.8780826782483189.\n"
     ]
    },
    {
     "name": "stderr",
     "output_type": "stream",
     "text": [
      "[I 2024-07-11 10:14:44,856] Trial 33 finished with value: 0.866576708984014 and parameters: {'scaling_method': 'maxabs', 'learning_rate': 0.09929974514686613, 'loss': 'exponential', 'n_estimators': 581}. Best is trial 10 with value: 0.8780826782483189.\n",
      "[I 2024-07-11 10:14:58,969] Trial 34 finished with value: 0.8703748675462952 and parameters: {'scaling_method': 'maxabs', 'learning_rate': 0.2245325690083747, 'loss': 'exponential', 'n_estimators': 368}. Best is trial 10 with value: 0.8780826782483189.\n",
      "[I 2024-07-11 10:15:17,983] Trial 35 finished with value: 0.876282939613254 and parameters: {'scaling_method': 'maxabs', 'learning_rate': 0.5987616594370728, 'loss': 'exponential', 'n_estimators': 614}. Best is trial 10 with value: 0.8780826782483189.\n",
      "[I 2024-07-11 10:15:40,207] Trial 36 finished with value: 0.8102956663214451 and parameters: {'scaling_method': 'standard', 'learning_rate': 0.013357794606257661, 'loss': 'exponential', 'n_estimators': 454}. Best is trial 10 with value: 0.8780826782483189.\n",
      "[I 2024-07-11 10:16:05,527] Trial 37 finished with value: 0.7760657608784798 and parameters: {'scaling_method': 'robust', 'learning_rate': 0.003223122463915485, 'loss': 'square', 'n_estimators': 528}. Best is trial 10 with value: 0.8780826782483189.\n",
      "[I 2024-07-11 10:16:39,947] Trial 38 finished with value: 0.7580441501297308 and parameters: {'scaling_method': 'maxabs', 'learning_rate': 0.0010765759758337749, 'loss': 'linear', 'n_estimators': 702}. Best is trial 10 with value: 0.8780826782483189.\n",
      "[I 2024-07-11 10:16:52,211] Trial 39 finished with value: 0.8311226535214583 and parameters: {'scaling_method': 'standard', 'learning_rate': 0.04876226988318055, 'loss': 'exponential', 'n_estimators': 261}. Best is trial 10 with value: 0.8780826782483189.\n",
      "[I 2024-07-11 10:17:14,258] Trial 40 finished with value: 0.8769533251727737 and parameters: {'scaling_method': 'robust', 'learning_rate': 0.6309085589978503, 'loss': 'linear', 'n_estimators': 736}. Best is trial 10 with value: 0.8780826782483189.\n",
      "[I 2024-07-11 10:17:33,883] Trial 41 finished with value: 0.8761244756508276 and parameters: {'scaling_method': 'minmax', 'learning_rate': 0.6591110192170143, 'loss': 'exponential', 'n_estimators': 631}. Best is trial 10 with value: 0.8780826782483189.\n",
      "[I 2024-07-11 10:17:51,501] Trial 42 finished with value: 0.8779260805521737 and parameters: {'scaling_method': 'minmax', 'learning_rate': 0.9310293441696323, 'loss': 'exponential', 'n_estimators': 559}. Best is trial 10 with value: 0.8780826782483189.\n",
      "[I 2024-07-11 10:18:06,605] Trial 43 finished with value: 0.8739924078091761 and parameters: {'scaling_method': 'minmax', 'learning_rate': 0.3634366886298869, 'loss': 'exponential', 'n_estimators': 443}. Best is trial 10 with value: 0.8780826782483189.\n",
      "[I 2024-07-11 10:18:22,749] Trial 44 finished with value: 0.8774252399332381 and parameters: {'scaling_method': 'minmax', 'learning_rate': 0.9879986256312421, 'loss': 'exponential', 'n_estimators': 539}. Best is trial 10 with value: 0.8780826782483189.\n",
      "[I 2024-07-11 10:18:42,408] Trial 45 finished with value: 0.8719117671604486 and parameters: {'scaling_method': 'minmax', 'learning_rate': 0.21001391801674987, 'loss': 'exponential', 'n_estimators': 546}. Best is trial 10 with value: 0.8780826782483189.\n",
      "[I 2024-07-11 10:19:01,769] Trial 46 finished with value: 0.8753977791089005 and parameters: {'scaling_method': 'minmax', 'learning_rate': 0.473725281338232, 'loss': 'linear', 'n_estimators': 611}. Best is trial 10 with value: 0.8780826782483189.\n",
      "[I 2024-07-11 10:19:20,470] Trial 47 finished with value: 0.7442601299566491 and parameters: {'scaling_method': 'minmax', 'learning_rate': 0.00022247823371459276, 'loss': 'exponential', 'n_estimators': 383}. Best is trial 10 with value: 0.8780826782483189.\n",
      "[I 2024-07-11 10:19:50,510] Trial 48 finished with value: 0.8720981443244403 and parameters: {'scaling_method': 'minmax', 'learning_rate': 0.14127725893957668, 'loss': 'exponential', 'n_estimators': 788}. Best is trial 10 with value: 0.8780826782483189.\n",
      "[I 2024-07-11 10:20:07,318] Trial 49 finished with value: 0.8735332699685407 and parameters: {'scaling_method': 'minmax', 'learning_rate': 0.7216920905683047, 'loss': 'square', 'n_estimators': 547}. Best is trial 10 with value: 0.8780826782483189.\n"
     ]
    }
   ],
   "source": [
    "from optuna import create_study\n",
    "\n",
    "study_ada = create_study(study_name='optimization', direction='maximize')\n",
    "\n",
    "study_ada.optimize(lambda trial: objective_ada(trial, X, y), n_trials=50)"
   ]
  },
  {
   "cell_type": "code",
   "execution_count": null,
   "id": "538c2e5c",
   "metadata": {},
   "outputs": [],
   "source": []
  },
  {
   "cell_type": "markdown",
   "id": "861a8cc2",
   "metadata": {},
   "source": [
    "# Loop through?"
   ]
  },
  {
   "cell_type": "code",
   "execution_count": 61,
   "id": "fdcdc976",
   "metadata": {},
   "outputs": [],
   "source": [
    "studies = [study_lasso, study_ridge, study_en, study_xgb, study_rf, study_gbr, study_ada]\n",
    "objectives = [objective_lasso, \n",
    "              objective_ridge, \n",
    "              objective_en,\n",
    "              objective_xgb,\n",
    "              objective_rf,\n",
    "              objective_gbr,\n",
    "              objective_ada]\n",
    "\n",
    "# for study, objective in zip(studies, objectives):\n",
    "#     study.optimize(lambda trial: objective(trial, X, y), n_trials=2)\n",
    "    "
   ]
  },
  {
   "cell_type": "code",
   "execution_count": 63,
   "id": "0c10ae9e",
   "metadata": {},
   "outputs": [
    {
     "data": {
      "text/plain": [
       "[<function __main__.objective_lasso(trial: optuna.trial._trial.Trial, X: pandas.core.frame.DataFrame, y: numpy.ndarray | pandas.core.series.Series, numerical_columns: Optional[list[str]] = None, categorical_columns: Optional[list[str]] = None, random_state: int = 42) -> float>,\n",
       " <function __main__.objective_ridge(trial: optuna.trial._trial.Trial, X: pandas.core.frame.DataFrame, y: numpy.ndarray | pandas.core.series.Series, numerical_columns: Optional[list[str]] = None, categorical_columns: Optional[list[str]] = None, random_state: int = 42) -> float>,\n",
       " <function __main__.objective_en(trial: optuna.trial._trial.Trial, X: pandas.core.frame.DataFrame, y: numpy.ndarray | pandas.core.series.Series, numerical_columns: Optional[list[str]] = None, categorical_columns: Optional[list[str]] = None, random_state: int = 42) -> float>,\n",
       " <function __main__.objective_xgb(trial: optuna.trial._trial.Trial, X: pandas.core.frame.DataFrame, y: numpy.ndarray | pandas.core.series.Series, numerical_columns: Optional[list[str]] = None, categorical_columns: Optional[list[str]] = None, random_state: int = 42) -> float>,\n",
       " <function __main__.objective_rf(trial: optuna.trial._trial.Trial, X: pandas.core.frame.DataFrame, y: numpy.ndarray | pandas.core.series.Series, numerical_columns: Optional[list[str]] = None, categorical_columns: Optional[list[str]] = None, random_state: int = 42) -> float>,\n",
       " <function __main__.objective_gbr(trial: optuna.trial._trial.Trial, X: pandas.core.frame.DataFrame, y: numpy.ndarray | pandas.core.series.Series, numerical_columns: Optional[list[str]] = None, categorical_columns: Optional[list[str]] = None, random_state: int = 42) -> float>,\n",
       " <function __main__.objective_ada(trial: optuna.trial._trial.Trial, X: pandas.core.frame.DataFrame, y: numpy.ndarray | pandas.core.series.Series, numerical_columns: Optional[list[str]] = None, categorical_columns: Optional[list[str]] = None, random_state: int = 42) -> float>]"
      ]
     },
     "execution_count": 63,
     "metadata": {},
     "output_type": "execute_result"
    }
   ],
   "source": []
  },
  {
   "cell_type": "code",
   "execution_count": 52,
   "id": "7d92b761",
   "metadata": {},
   "outputs": [
    {
     "name": "stdout",
     "output_type": "stream",
     "text": [
      "0.8735606638813536\n",
      "{'scaling_method': 'robust', 'learning_rate': 0.30065504792403025, 'loss': 'exponential', 'n_estimators': 428}\n",
      "0.7980960053211354\n",
      "{'scaling_method': 'robust', 'learning_rate': 0.006736329679908936, 'loss': 'exponential', 'n_estimators': 615}\n",
      "0.8177296198440576\n",
      "{'scaling_method': 'maxabs', 'learning_rate': 0.04083092875953665, 'loss': 'exponential', 'n_estimators': 196}\n",
      "0.951622985121114\n",
      "{'scaling_method': 'minmax', 'encoding_method': 'onehot', 'drop': None, 'n_estimators': 979, 'learning_rate': 0.046054720840163293, 'max_depth': 4, 'subsample': 0.8282908794962028, 'colsample_bytree': 0.5510975070017484, 'min_child_weight': 10}\n",
      "0.9094102521730991\n",
      "{'scaling_method': 'maxabs', 'bootstrap': True, 'n_estimators': 494, 'max_depth': 62, 'min_samples_split': 4, 'min_samples_leaf': 1}\n",
      "0.9214824552885755\n",
      "{'scaling_method': 'robust', 'n_estimators': 868, 'learning_rate': 0.005429634831521693, 'max_depth': 3, 'subsample': 0.8347093949409654, 'min_sample_split': 10, 'min_sample_leaf': 10}\n",
      "0.7411722065793509\n",
      "{'scaling_method': 'minmax', 'learning_rate': 0.00041621654894138704, 'loss': 'exponential', 'n_estimators': 207}\n"
     ]
    }
   ],
   "source": [
    "for study in studies:\n",
    "    print (study.best_value)\n",
    "    print (study.best_params)"
   ]
  }
 ],
 "metadata": {
  "kernelspec": {
   "display_name": "Python 3 (ipykernel)",
   "language": "python",
   "name": "python3"
  },
  "language_info": {
   "codemirror_mode": {
    "name": "ipython",
    "version": 3
   },
   "file_extension": ".py",
   "mimetype": "text/x-python",
   "name": "python",
   "nbconvert_exporter": "python",
   "pygments_lexer": "ipython3",
   "version": "3.11.5"
  }
 },
 "nbformat": 4,
 "nbformat_minor": 5
}
