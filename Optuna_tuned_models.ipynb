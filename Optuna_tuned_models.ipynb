{
 "cells": [
  {
   "cell_type": "code",
   "execution_count": 22,
   "id": "5ffbaf4f",
   "metadata": {},
   "outputs": [],
   "source": [
    "import numpy as np\n",
    "import pandas as pd\n",
    "import xgboost as xgb\n",
    "from xgboost import XGBRegressor\n",
    "import matplotlib.pyplot as plt\n",
    "from sklearn.model_selection import train_test_split, GridSearchCV\n",
    "from sklearn.metrics import confusion_matrix, ConfusionMatrixDisplay, balanced_accuracy_score, roc_auc_score, make_scorer\n",
    "from sklearn.preprocessing import OneHotEncoder, StandardScaler\n",
    "from sklearn.pipeline import Pipeline\n",
    "from sklearn import compose, pipeline\n",
    "from sklearn.preprocessing import OneHotEncoder\n",
    "from sklearn.compose import ColumnTransformer\n",
    "from sklearn.compose import make_column_selector as selector\n",
    "from sklearn.preprocessing import OneHotEncoder, StandardScaler, OrdinalEncoder\n",
    "from sklearn.pipeline import Pipeline\n",
    "from sklearn import compose, pipeline\n",
    "from sklearn.model_selection import KFold\n",
    "from typing import Optional\n",
    "from sklearn.model_selection import cross_val_score, KFold\n",
    "from sklearn.metrics import roc_auc_score, make_scorer, r2_score\n",
    "from pandas import DataFrame, Series\n",
    "import numpy as np\n",
    "kf = KFold(n_splits=5, shuffle=True, random_state=42)\n",
    "import xgboost as xgb\n",
    "from xgboost import XGBRegressor\n",
    "import optuna\n",
    "from optuna import Trial\n",
    "from optuna import create_study\n",
    "from sklearn import compose\n",
    "from sklearn.model_selection import GridSearchCV\n",
    "from sklearn.linear_model import Lasso, Ridge, LinearRegression, ElasticNet\n",
    "from sklearn.ensemble import GradientBoostingRegressor, AdaBoostRegressor, RandomForestRegressor\n",
    "#website help from \n",
    "#https://medium.com/@walter_sperat/using-optuna-with-sklearn-the-right-way-part-1-6b4ad0ab2451"
   ]
  },
  {
   "cell_type": "code",
   "execution_count": 2,
   "id": "f9edb2d9",
   "metadata": {},
   "outputs": [],
   "source": [
    "df = pd.read_csv('df_normal_quality.csv', index_col=0)\n",
    "y = df.SalePrice\n",
    "X = df.drop(['PID', 'SalePrice'], axis =1).copy()"
   ]
  },
  {
   "cell_type": "code",
   "execution_count": 33,
   "id": "a1b841c9",
   "metadata": {},
   "outputs": [],
   "source": [
    "from sklearn.preprocessing import OrdinalEncoder, OneHotEncoder\n",
    "#from category_encoders import WOEEncoder\n",
    "\n",
    "def instantiate_ordinal_encoder(trial: Trial)-> OrdinalEncoder:\n",
    "    params = {\n",
    "        'handle_unknown': \"use_encoded_value\", \n",
    "        'unknown_value': -1\n",
    "    }\n",
    "    \n",
    "    return OrdinalEncoder(**params)\n",
    "\n",
    "def instantiate_onehot_encoder(trial: Trial)-> OneHotEncoder:\n",
    "    params = {\n",
    "        'handle_unknown': 'ignore',\n",
    "        'drop': trial.suggest_categorical('drop', [None, 'first'])\n",
    "    }\n",
    "    \n",
    "    return OneHotEncoder(**params)\n",
    "    \n",
    "Encoder = (\n",
    "    OrdinalEncoder |\n",
    "    OneHotEncoder \n",
    "    )\n",
    "\n",
    "def instantiate_encoder (trial : Trial) -> Encoder:\n",
    "    encoding_method = trial.suggest_categorical(\n",
    "        'encoding_method', ['ordinal', 'onehot'])\n",
    "    if encoding_method =='ordinal':\n",
    "        encoder = instantiate_ordinal_encoder(trial)\n",
    "    elif encoding_method =='onehot':\n",
    "        encoder = instantiate_onehot_encoder(trial)\n",
    "    \n",
    "    return encoder\n",
    "\n",
    "from sklearn.preprocessing import StandardScaler, MinMaxScaler, MaxAbsScaler, RobustScaler\n",
    "\n",
    "Scaler = (\n",
    "  StandardScaler |\n",
    "  MinMaxScaler |\n",
    "  MaxAbsScaler |\n",
    "  RobustScaler\n",
    ")\n",
    "\n",
    "def instantiate_scaler(trial : Trial) -> Scaler:\n",
    "    method = trial.suggest_categorical(\n",
    "    'scaling_method', ['standard', 'minmax', 'maxabs', 'robust']\n",
    "    )\n",
    "    if method=='standard':\n",
    "        scaler = StandardScaler()\n",
    "    elif method=='minmax':\n",
    "        scaler = MinMaxScaler()\n",
    "    elif method=='maxabs':\n",
    "        scaler = MaxAbsScaler()\n",
    "    elif method=='robust':\n",
    "        scaler = RobustScaler()\n",
    "        \n",
    "    return scaler\n",
    "\n",
    "from sklearn.compose import ColumnTransformer\n",
    "from sklearn.pipeline import Pipeline\n",
    "\n",
    "def instantiate_processor(trial : Trial, \n",
    "                          numerical_columns : list[str], \n",
    "                          categorical_columns : list[str]) -> ColumnTransformer:\n",
    "    \n",
    "    numerical_pipeline = instantiate_scaler(trial)\n",
    "    categorical_pipeline = instantiate_encoder(trial)\n",
    "   # numerical_pipeline = StandardScaler()\n",
    "    #categorical_pipeline = OneHotEncoder(handle_unknown=\"ignore\", drop='first')\n",
    "    \n",
    "#     numerical_pipeline = instantiate_numerical_pipeline(trial)\n",
    "#     categorical_pipeline = instantiate_categorical_pipeline(trial)\n",
    "    \n",
    "    processor = ColumnTransformer([\n",
    "        ('numerical_pipeline', numerical_pipeline, numerical_columns),\n",
    "        ('categorical_pipeline', categorical_pipeline, categorical_columns)\n",
    "    ])\n",
    "    return processor\n",
    "\n",
    "def instantiate_processor_ordinal(trial : Trial, \n",
    "                          numerical_columns : list[str], \n",
    "                          categorical_columns : list[str]) -> ColumnTransformer:\n",
    "    \n",
    "    numerical_pipeline = instantiate_scaler(trial)\n",
    "    categorical_pipeline = instantiate_ordinal_encoder(trial)\n",
    "\n",
    "    processor = ColumnTransformer([\n",
    "        ('numerical_pipeline', numerical_pipeline, numerical_columns),\n",
    "        ('categorical_pipeline', categorical_pipeline, categorical_columns)\n",
    "    ])\n",
    "    return processor"
   ]
  },
  {
   "cell_type": "markdown",
   "id": "d44d893d",
   "metadata": {},
   "source": [
    "# Lasso"
   ]
  },
  {
   "cell_type": "code",
   "execution_count": 44,
   "id": "0045c708",
   "metadata": {},
   "outputs": [],
   "source": [
    "def instantiate_lasso(trial : Trial) -> Lasso:\n",
    "    params = {\n",
    "        \"alpha\": trial.suggest_float(\"alpha\", .00001, .001, log=True)\n",
    "    }\n",
    "\n",
    "    return Lasso(**params)\n",
    "\n",
    "def instantiate_model(trial : Trial, numerical_columns : list[str], \n",
    "                      categorical_columns : list[str]) -> Pipeline:\n",
    "    \n",
    "    processor = instantiate_processor(\n",
    "        trial, numerical_columns, categorical_columns\n",
    "    )\n",
    "    \n",
    "    learner = instantiate_lasso(trial)\n",
    "    \n",
    "    model_pipe = Pipeline([\n",
    "    ('processor', processor),\n",
    "    ('model', learner)\n",
    "    ])\n",
    "    \n",
    "    model = compose.TransformedTargetRegressor(regressor= model_pipe,\n",
    "                                                func=np.log, inverse_func=np.exp)\n",
    "    \n",
    "    return model\n",
    "\n",
    "def objective_lasso(trial : Trial, X : DataFrame,\n",
    "              y : np.ndarray | Series, \n",
    "              numerical_columns : Optional[list[str]]=None, \n",
    "              categorical_columns : Optional[list[str]]=None, \n",
    "              random_state : int=42) -> float:\n",
    "    \n",
    "    if numerical_columns is None:\n",
    "        numerical_columns = [\n",
    "            *X.select_dtypes(exclude=['object', 'category']).columns\n",
    "        ]\n",
    "    \n",
    "    if categorical_columns is None:\n",
    "        categorical_columns = [\n",
    "            *X.select_dtypes(include=['object', 'category']).columns\n",
    "        ]\n",
    "    \n",
    "    model = instantiate_model(trial, numerical_columns, categorical_columns)\n",
    "    kf = KFold(n_splits=5, shuffle=True, random_state=random_state)\n",
    "    r2 = make_scorer(r2_score)\n",
    "    scores = cross_val_score(model, X, y, scoring= r2, cv=kf)\n",
    "    \n",
    "    return np.min([np.mean(scores), np.median([scores])])"
   ]
  },
  {
   "cell_type": "code",
   "execution_count": 45,
   "id": "5bbca889",
   "metadata": {
    "scrolled": true
   },
   "outputs": [
    {
     "name": "stderr",
     "output_type": "stream",
     "text": [
      "[I 2024-07-11 09:50:20,023] A new study created in memory with name: optimization\n"
     ]
    }
   ],
   "source": [
    "from optuna import create_study\n",
    "\n",
    "study_lasso = create_study(study_name='optimization', direction='maximize')\n",
    "\n",
    "#study_lasso.optimize(lambda trial: objective_lasso(trial, X, y), n_trials=200)"
   ]
  },
  {
   "cell_type": "code",
   "execution_count": 11,
   "id": "79e7bd95",
   "metadata": {},
   "outputs": [
    {
     "name": "stdout",
     "output_type": "stream",
     "text": [
      "0.9508124989217249\n",
      "{'scaling_method': 'robust', 'encoding_method': 'onehot', 'drop': None, 'alpha': 0.00030733929099045147}\n"
     ]
    }
   ],
   "source": [
    "print(study_lasso.best_value)\n",
    "print(study_lasso.best_params)"
   ]
  },
  {
   "cell_type": "code",
   "execution_count": 13,
   "id": "6e64ce1e",
   "metadata": {},
   "outputs": [
    {
     "data": {
      "text/html": [
       "<div>\n",
       "<style scoped>\n",
       "    .dataframe tbody tr th:only-of-type {\n",
       "        vertical-align: middle;\n",
       "    }\n",
       "\n",
       "    .dataframe tbody tr th {\n",
       "        vertical-align: top;\n",
       "    }\n",
       "\n",
       "    .dataframe thead th {\n",
       "        text-align: right;\n",
       "    }\n",
       "</style>\n",
       "<table border=\"1\" class=\"dataframe\">\n",
       "  <thead>\n",
       "    <tr style=\"text-align: right;\">\n",
       "      <th></th>\n",
       "      <th>Trial</th>\n",
       "      <th>Score</th>\n",
       "      <th>Parameters</th>\n",
       "    </tr>\n",
       "  </thead>\n",
       "  <tbody>\n",
       "    <tr>\n",
       "      <th>0</th>\n",
       "      <td>0</td>\n",
       "      <td>0.946736</td>\n",
       "      <td>[(scaling_method, maxabs), (encoding_method, o...</td>\n",
       "    </tr>\n",
       "    <tr>\n",
       "      <th>1</th>\n",
       "      <td>1</td>\n",
       "      <td>0.932313</td>\n",
       "      <td>[(scaling_method, maxabs), (encoding_method, o...</td>\n",
       "    </tr>\n",
       "    <tr>\n",
       "      <th>2</th>\n",
       "      <td>2</td>\n",
       "      <td>0.941093</td>\n",
       "      <td>[(scaling_method, robust), (encoding_method, o...</td>\n",
       "    </tr>\n",
       "    <tr>\n",
       "      <th>3</th>\n",
       "      <td>3</td>\n",
       "      <td>0.948149</td>\n",
       "      <td>[(scaling_method, maxabs), (encoding_method, o...</td>\n",
       "    </tr>\n",
       "    <tr>\n",
       "      <th>4</th>\n",
       "      <td>4</td>\n",
       "      <td>0.947131</td>\n",
       "      <td>[(scaling_method, robust), (encoding_method, o...</td>\n",
       "    </tr>\n",
       "    <tr>\n",
       "      <th>...</th>\n",
       "      <td>...</td>\n",
       "      <td>...</td>\n",
       "      <td>...</td>\n",
       "    </tr>\n",
       "    <tr>\n",
       "      <th>195</th>\n",
       "      <td>195</td>\n",
       "      <td>0.950399</td>\n",
       "      <td>[(scaling_method, minmax), (encoding_method, o...</td>\n",
       "    </tr>\n",
       "    <tr>\n",
       "      <th>196</th>\n",
       "      <td>196</td>\n",
       "      <td>0.950790</td>\n",
       "      <td>[(scaling_method, robust), (encoding_method, o...</td>\n",
       "    </tr>\n",
       "    <tr>\n",
       "      <th>197</th>\n",
       "      <td>197</td>\n",
       "      <td>0.950787</td>\n",
       "      <td>[(scaling_method, robust), (encoding_method, o...</td>\n",
       "    </tr>\n",
       "    <tr>\n",
       "      <th>198</th>\n",
       "      <td>198</td>\n",
       "      <td>0.950707</td>\n",
       "      <td>[(scaling_method, robust), (encoding_method, o...</td>\n",
       "    </tr>\n",
       "    <tr>\n",
       "      <th>199</th>\n",
       "      <td>199</td>\n",
       "      <td>0.950663</td>\n",
       "      <td>[(scaling_method, robust), (encoding_method, o...</td>\n",
       "    </tr>\n",
       "  </tbody>\n",
       "</table>\n",
       "<p>200 rows × 3 columns</p>\n",
       "</div>"
      ],
      "text/plain": [
       "     Trial     Score                                         Parameters\n",
       "0        0  0.946736  [(scaling_method, maxabs), (encoding_method, o...\n",
       "1        1  0.932313  [(scaling_method, maxabs), (encoding_method, o...\n",
       "2        2  0.941093  [(scaling_method, robust), (encoding_method, o...\n",
       "3        3  0.948149  [(scaling_method, maxabs), (encoding_method, o...\n",
       "4        4  0.947131  [(scaling_method, robust), (encoding_method, o...\n",
       "..     ...       ...                                                ...\n",
       "195    195  0.950399  [(scaling_method, minmax), (encoding_method, o...\n",
       "196    196  0.950790  [(scaling_method, robust), (encoding_method, o...\n",
       "197    197  0.950787  [(scaling_method, robust), (encoding_method, o...\n",
       "198    198  0.950707  [(scaling_method, robust), (encoding_method, o...\n",
       "199    199  0.950663  [(scaling_method, robust), (encoding_method, o...\n",
       "\n",
       "[200 rows x 3 columns]"
      ]
     },
     "execution_count": 13,
     "metadata": {},
     "output_type": "execute_result"
    }
   ],
   "source": [
    "trial_number = []\n",
    "score = []\n",
    "parameters = []\n",
    "optuna_dict = {}\n",
    "trials = range(200)\n",
    "\n",
    "for trial in trials:\n",
    "    trial_number.append(study_lasso.get_trials()[trial].number)\n",
    "    score.append(study_lasso.get_trials()[trial].value)\n",
    "    parameters.append(list(study_lasso.get_trials()[trial].params.items()))\n",
    "\n",
    "optuna_dict['Trial'] = trial_number\n",
    "optuna_dict['Score'] = score\n",
    "optuna_dict['Parameters'] = parameters\n",
    "\n",
    "optuna_lasso = pd.DataFrame.from_dict(optuna_dict)\n",
    "optuna_lasso"
   ]
  },
  {
   "cell_type": "code",
   "execution_count": 55,
   "id": "e90c44ae",
   "metadata": {},
   "outputs": [
    {
     "data": {
      "application/vnd.plotly.v1+json": {
       "config": {
        "plotlyServerURL": "https://plot.ly"
       },
       "data": [
        {
         "customdata": [
          [
           [
            [
             "scaling_method",
             "maxabs"
            ],
            [
             "encoding_method",
             "onehot"
            ],
            [
             "drop",
             "first"
            ],
            [
             "alpha",
             0.0003841185967841102
            ]
           ]
          ],
          [
           [
            [
             "scaling_method",
             "maxabs"
            ],
            [
             "encoding_method",
             "ordinal"
            ],
            [
             "alpha",
             0.0008788944418275458
            ]
           ]
          ],
          [
           [
            [
             "scaling_method",
             "robust"
            ],
            [
             "encoding_method",
             "ordinal"
            ],
            [
             "alpha",
             2.11890200594345e-05
            ]
           ]
          ],
          [
           [
            [
             "scaling_method",
             "maxabs"
            ],
            [
             "encoding_method",
             "onehot"
            ],
            [
             "drop",
             "first"
            ],
            [
             "alpha",
             0.0001997032791557414
            ]
           ]
          ],
          [
           [
            [
             "scaling_method",
             "robust"
            ],
            [
             "encoding_method",
             "onehot"
            ],
            [
             "drop",
             "first"
            ],
            [
             "alpha",
             1.5614748605494028e-05
            ]
           ]
          ],
          [
           [
            [
             "scaling_method",
             "robust"
            ],
            [
             "encoding_method",
             "onehot"
            ],
            [
             "drop",
             null
            ],
            [
             "alpha",
             7.955963434862829e-05
            ]
           ]
          ],
          [
           [
            [
             "scaling_method",
             "maxabs"
            ],
            [
             "encoding_method",
             "ordinal"
            ],
            [
             "alpha",
             1.4665959167784572e-05
            ]
           ]
          ],
          [
           [
            [
             "scaling_method",
             "maxabs"
            ],
            [
             "encoding_method",
             "ordinal"
            ],
            [
             "alpha",
             0.000111750098319519
            ]
           ]
          ],
          [
           [
            [
             "scaling_method",
             "robust"
            ],
            [
             "encoding_method",
             "ordinal"
            ],
            [
             "alpha",
             5.810894499113303e-05
            ]
           ]
          ],
          [
           [
            [
             "scaling_method",
             "minmax"
            ],
            [
             "encoding_method",
             "onehot"
            ],
            [
             "drop",
             "first"
            ],
            [
             "alpha",
             9.256346048009733e-05
            ]
           ]
          ],
          [
           [
            [
             "scaling_method",
             "minmax"
            ],
            [
             "encoding_method",
             "onehot"
            ],
            [
             "drop",
             null
            ],
            [
             "alpha",
             3.300094783123156e-05
            ]
           ]
          ],
          [
           [
            [
             "scaling_method",
             "minmax"
            ],
            [
             "encoding_method",
             "onehot"
            ],
            [
             "drop",
             null
            ],
            [
             "alpha",
             7.763131740956906e-05
            ]
           ]
          ],
          [
           [
            [
             "scaling_method",
             "minmax"
            ],
            [
             "encoding_method",
             "onehot"
            ],
            [
             "drop",
             null
            ],
            [
             "alpha",
             0.00017308354348537791
            ]
           ]
          ],
          [
           [
            [
             "scaling_method",
             "minmax"
            ],
            [
             "encoding_method",
             "onehot"
            ],
            [
             "drop",
             "first"
            ],
            [
             "alpha",
             0.00020319297263222104
            ]
           ]
          ],
          [
           [
            [
             "scaling_method",
             "standard"
            ],
            [
             "encoding_method",
             "onehot"
            ],
            [
             "drop",
             null
            ],
            [
             "alpha",
             0.0002409165171517034
            ]
           ]
          ],
          [
           [
            [
             "scaling_method",
             "minmax"
            ],
            [
             "encoding_method",
             "onehot"
            ],
            [
             "drop",
             null
            ],
            [
             "alpha",
             0.000481256404764274
            ]
           ]
          ],
          [
           [
            [
             "scaling_method",
             "minmax"
            ],
            [
             "encoding_method",
             "onehot"
            ],
            [
             "drop",
             "first"
            ],
            [
             "alpha",
             0.0001879139078716462
            ]
           ]
          ],
          [
           [
            [
             "scaling_method",
             "standard"
            ],
            [
             "encoding_method",
             "onehot"
            ],
            [
             "drop",
             null
            ],
            [
             "alpha",
             0.0004042906555245167
            ]
           ]
          ],
          [
           [
            [
             "scaling_method",
             "minmax"
            ],
            [
             "encoding_method",
             "onehot"
            ],
            [
             "drop",
             "first"
            ],
            [
             "alpha",
             0.0009218227581495386
            ]
           ]
          ],
          [
           [
            [
             "scaling_method",
             "minmax"
            ],
            [
             "encoding_method",
             "onehot"
            ],
            [
             "drop",
             "first"
            ],
            [
             "alpha",
             0.00014548211412720207
            ]
           ]
          ],
          [
           [
            [
             "scaling_method",
             "minmax"
            ],
            [
             "encoding_method",
             "onehot"
            ],
            [
             "drop",
             null
            ],
            [
             "alpha",
             4.0668691741889e-05
            ]
           ]
          ],
          [
           [
            [
             "scaling_method",
             "minmax"
            ],
            [
             "encoding_method",
             "onehot"
            ],
            [
             "drop",
             "first"
            ],
            [
             "alpha",
             0.0002605307168105446
            ]
           ]
          ],
          [
           [
            [
             "scaling_method",
             "minmax"
            ],
            [
             "encoding_method",
             "onehot"
            ],
            [
             "drop",
             "first"
            ],
            [
             "alpha",
             0.00014303151048332337
            ]
           ]
          ],
          [
           [
            [
             "scaling_method",
             "minmax"
            ],
            [
             "encoding_method",
             "onehot"
            ],
            [
             "drop",
             "first"
            ],
            [
             "alpha",
             0.00018173122970234352
            ]
           ]
          ],
          [
           [
            [
             "scaling_method",
             "standard"
            ],
            [
             "encoding_method",
             "onehot"
            ],
            [
             "drop",
             "first"
            ],
            [
             "alpha",
             0.0005799084192342355
            ]
           ]
          ],
          [
           [
            [
             "scaling_method",
             "minmax"
            ],
            [
             "encoding_method",
             "onehot"
            ],
            [
             "drop",
             "first"
            ],
            [
             "alpha",
             0.00032052747816874096
            ]
           ]
          ],
          [
           [
            [
             "scaling_method",
             "minmax"
            ],
            [
             "encoding_method",
             "ordinal"
            ],
            [
             "alpha",
             0.00013129644373445254
            ]
           ]
          ],
          [
           [
            [
             "scaling_method",
             "minmax"
            ],
            [
             "encoding_method",
             "onehot"
            ],
            [
             "drop",
             null
            ],
            [
             "alpha",
             0.00018866784606573576
            ]
           ]
          ],
          [
           [
            [
             "scaling_method",
             "minmax"
            ],
            [
             "encoding_method",
             "onehot"
            ],
            [
             "drop",
             null
            ],
            [
             "alpha",
             0.000281619001563278
            ]
           ]
          ],
          [
           [
            [
             "scaling_method",
             "standard"
            ],
            [
             "encoding_method",
             "onehot"
            ],
            [
             "drop",
             null
            ],
            [
             "alpha",
             0.00031447903808740524
            ]
           ]
          ],
          [
           [
            [
             "scaling_method",
             "minmax"
            ],
            [
             "encoding_method",
             "onehot"
            ],
            [
             "drop",
             null
            ],
            [
             "alpha",
             0.0005978406722088378
            ]
           ]
          ],
          [
           [
            [
             "scaling_method",
             "minmax"
            ],
            [
             "encoding_method",
             "onehot"
            ],
            [
             "drop",
             null
            ],
            [
             "alpha",
             0.00025981352825580955
            ]
           ]
          ],
          [
           [
            [
             "scaling_method",
             "minmax"
            ],
            [
             "encoding_method",
             "onehot"
            ],
            [
             "drop",
             null
            ],
            [
             "alpha",
             0.0003566171546653378
            ]
           ]
          ],
          [
           [
            [
             "scaling_method",
             "minmax"
            ],
            [
             "encoding_method",
             "onehot"
            ],
            [
             "drop",
             null
            ],
            [
             "alpha",
             0.0002764827754384708
            ]
           ]
          ],
          [
           [
            [
             "scaling_method",
             "maxabs"
            ],
            [
             "encoding_method",
             "ordinal"
            ],
            [
             "alpha",
             0.00026238751551106417
            ]
           ]
          ],
          [
           [
            [
             "scaling_method",
             "minmax"
            ],
            [
             "encoding_method",
             "onehot"
            ],
            [
             "drop",
             null
            ],
            [
             "alpha",
             0.000697140039503794
            ]
           ]
          ],
          [
           [
            [
             "scaling_method",
             "robust"
            ],
            [
             "encoding_method",
             "onehot"
            ],
            [
             "drop",
             null
            ],
            [
             "alpha",
             0.0004194785406356968
            ]
           ]
          ],
          [
           [
            [
             "scaling_method",
             "robust"
            ],
            [
             "encoding_method",
             "ordinal"
            ],
            [
             "alpha",
             0.0004661792524689388
            ]
           ]
          ],
          [
           [
            [
             "scaling_method",
             "robust"
            ],
            [
             "encoding_method",
             "onehot"
            ],
            [
             "drop",
             null
            ],
            [
             "alpha",
             0.0007075396944052244
            ]
           ]
          ],
          [
           [
            [
             "scaling_method",
             "robust"
            ],
            [
             "encoding_method",
             "onehot"
            ],
            [
             "drop",
             null
            ],
            [
             "alpha",
             0.0004524942388336976
            ]
           ]
          ],
          [
           [
            [
             "scaling_method",
             "robust"
            ],
            [
             "encoding_method",
             "ordinal"
            ],
            [
             "alpha",
             0.000428697906041505
            ]
           ]
          ],
          [
           [
            [
             "scaling_method",
             "robust"
            ],
            [
             "encoding_method",
             "onehot"
            ],
            [
             "drop",
             null
            ],
            [
             "alpha",
             0.00022621629368611582
            ]
           ]
          ],
          [
           [
            [
             "scaling_method",
             "robust"
            ],
            [
             "encoding_method",
             "onehot"
            ],
            [
             "drop",
             null
            ],
            [
             "alpha",
             1.0416308531520012e-05
            ]
           ]
          ],
          [
           [
            [
             "scaling_method",
             "robust"
            ],
            [
             "encoding_method",
             "onehot"
            ],
            [
             "drop",
             null
            ],
            [
             "alpha",
             0.00022793350665012898
            ]
           ]
          ],
          [
           [
            [
             "scaling_method",
             "robust"
            ],
            [
             "encoding_method",
             "onehot"
            ],
            [
             "drop",
             null
            ],
            [
             "alpha",
             0.0005688210021060937
            ]
           ]
          ],
          [
           [
            [
             "scaling_method",
             "robust"
            ],
            [
             "encoding_method",
             "onehot"
            ],
            [
             "drop",
             null
            ],
            [
             "alpha",
             0.0003649761025040236
            ]
           ]
          ],
          [
           [
            [
             "scaling_method",
             "robust"
            ],
            [
             "encoding_method",
             "onehot"
            ],
            [
             "drop",
             null
            ],
            [
             "alpha",
             0.0003884582051924655
            ]
           ]
          ],
          [
           [
            [
             "scaling_method",
             "robust"
            ],
            [
             "encoding_method",
             "onehot"
            ],
            [
             "drop",
             null
            ],
            [
             "alpha",
             0.0003589201325166769
            ]
           ]
          ],
          [
           [
            [
             "scaling_method",
             "robust"
            ],
            [
             "encoding_method",
             "ordinal"
            ],
            [
             "alpha",
             0.0007917367148203394
            ]
           ]
          ],
          [
           [
            [
             "scaling_method",
             "robust"
            ],
            [
             "encoding_method",
             "onehot"
            ],
            [
             "drop",
             null
            ],
            [
             "alpha",
             0.0003632891366509763
            ]
           ]
          ],
          [
           [
            [
             "scaling_method",
             "robust"
            ],
            [
             "encoding_method",
             "onehot"
            ],
            [
             "drop",
             null
            ],
            [
             "alpha",
             0.0003602156217105562
            ]
           ]
          ],
          [
           [
            [
             "scaling_method",
             "robust"
            ],
            [
             "encoding_method",
             "onehot"
            ],
            [
             "drop",
             null
            ],
            [
             "alpha",
             0.0003416125278354601
            ]
           ]
          ],
          [
           [
            [
             "scaling_method",
             "robust"
            ],
            [
             "encoding_method",
             "onehot"
            ],
            [
             "drop",
             null
            ],
            [
             "alpha",
             0.0003226079630554458
            ]
           ]
          ],
          [
           [
            [
             "scaling_method",
             "robust"
            ],
            [
             "encoding_method",
             "onehot"
            ],
            [
             "drop",
             null
            ],
            [
             "alpha",
             0.0003194949733052064
            ]
           ]
          ],
          [
           [
            [
             "scaling_method",
             "robust"
            ],
            [
             "encoding_method",
             "onehot"
            ],
            [
             "drop",
             null
            ],
            [
             "alpha",
             0.0005425665311480494
            ]
           ]
          ],
          [
           [
            [
             "scaling_method",
             "robust"
            ],
            [
             "encoding_method",
             "onehot"
            ],
            [
             "drop",
             null
            ],
            [
             "alpha",
             0.0003157116680723717
            ]
           ]
          ],
          [
           [
            [
             "scaling_method",
             "robust"
            ],
            [
             "encoding_method",
             "onehot"
            ],
            [
             "drop",
             null
            ],
            [
             "alpha",
             0.0003343356528483817
            ]
           ]
          ],
          [
           [
            [
             "scaling_method",
             "maxabs"
            ],
            [
             "encoding_method",
             "onehot"
            ],
            [
             "drop",
             null
            ],
            [
             "alpha",
             0.00012179803508546976
            ]
           ]
          ],
          [
           [
            [
             "scaling_method",
             "robust"
            ],
            [
             "encoding_method",
             "onehot"
            ],
            [
             "drop",
             null
            ],
            [
             "alpha",
             0.0001601577658072079
            ]
           ]
          ],
          [
           [
            [
             "scaling_method",
             "robust"
            ],
            [
             "encoding_method",
             "onehot"
            ],
            [
             "drop",
             null
            ],
            [
             "alpha",
             9.629499098258925e-05
            ]
           ]
          ],
          [
           [
            [
             "scaling_method",
             "robust"
            ],
            [
             "encoding_method",
             "onehot"
            ],
            [
             "drop",
             null
            ],
            [
             "alpha",
             7.021470598505854e-05
            ]
           ]
          ],
          [
           [
            [
             "scaling_method",
             "robust"
            ],
            [
             "encoding_method",
             "onehot"
            ],
            [
             "drop",
             null
            ],
            [
             "alpha",
             0.00032221250618202343
            ]
           ]
          ],
          [
           [
            [
             "scaling_method",
             "robust"
            ],
            [
             "encoding_method",
             "onehot"
            ],
            [
             "drop",
             null
            ],
            [
             "alpha",
             0.00030671293122819346
            ]
           ]
          ],
          [
           [
            [
             "scaling_method",
             "robust"
            ],
            [
             "encoding_method",
             "onehot"
            ],
            [
             "drop",
             null
            ],
            [
             "alpha",
             0.0002997971169775004
            ]
           ]
          ],
          [
           [
            [
             "scaling_method",
             "robust"
            ],
            [
             "encoding_method",
             "onehot"
            ],
            [
             "drop",
             null
            ],
            [
             "alpha",
             0.00021410738794319995
            ]
           ]
          ],
          [
           [
            [
             "scaling_method",
             "robust"
            ],
            [
             "encoding_method",
             "onehot"
            ],
            [
             "drop",
             null
            ],
            [
             "alpha",
             0.0003143129567338659
            ]
           ]
          ],
          [
           [
            [
             "scaling_method",
             "standard"
            ],
            [
             "encoding_method",
             "onehot"
            ],
            [
             "drop",
             null
            ],
            [
             "alpha",
             0.00028607239197365623
            ]
           ]
          ],
          [
           [
            [
             "scaling_method",
             "maxabs"
            ],
            [
             "encoding_method",
             "ordinal"
            ],
            [
             "alpha",
             0.0005160358767471706
            ]
           ]
          ],
          [
           [
            [
             "scaling_method",
             "robust"
            ],
            [
             "encoding_method",
             "onehot"
            ],
            [
             "drop",
             null
            ],
            [
             "alpha",
             0.00016148712756672363
            ]
           ]
          ],
          [
           [
            [
             "scaling_method",
             "robust"
            ],
            [
             "encoding_method",
             "onehot"
            ],
            [
             "drop",
             null
            ],
            [
             "alpha",
             0.0003042461422326107
            ]
           ]
          ],
          [
           [
            [
             "scaling_method",
             "robust"
            ],
            [
             "encoding_method",
             "onehot"
            ],
            [
             "drop",
             null
            ],
            [
             "alpha",
             0.00020952583160049909
            ]
           ]
          ],
          [
           [
            [
             "scaling_method",
             "robust"
            ],
            [
             "encoding_method",
             "onehot"
            ],
            [
             "drop",
             null
            ],
            [
             "alpha",
             0.0002448852198231612
            ]
           ]
          ],
          [
           [
            [
             "scaling_method",
             "robust"
            ],
            [
             "encoding_method",
             "onehot"
            ],
            [
             "drop",
             null
            ],
            [
             "alpha",
             0.0002948689373386942
            ]
           ]
          ],
          [
           [
            [
             "scaling_method",
             "robust"
            ],
            [
             "encoding_method",
             "onehot"
            ],
            [
             "drop",
             null
            ],
            [
             "alpha",
             2.76076317111022e-05
            ]
           ]
          ],
          [
           [
            [
             "scaling_method",
             "robust"
            ],
            [
             "encoding_method",
             "onehot"
            ],
            [
             "drop",
             null
            ],
            [
             "alpha",
             0.00029785107381510016
            ]
           ]
          ],
          [
           [
            [
             "scaling_method",
             "robust"
            ],
            [
             "encoding_method",
             "onehot"
            ],
            [
             "drop",
             null
            ],
            [
             "alpha",
             0.0004994052225332545
            ]
           ]
          ],
          [
           [
            [
             "scaling_method",
             "standard"
            ],
            [
             "encoding_method",
             "onehot"
            ],
            [
             "drop",
             null
            ],
            [
             "alpha",
             0.000648591770527666
            ]
           ]
          ],
          [
           [
            [
             "scaling_method",
             "robust"
            ],
            [
             "encoding_method",
             "onehot"
            ],
            [
             "drop",
             "first"
            ],
            [
             "alpha",
             0.00041703628264054717
            ]
           ]
          ],
          [
           [
            [
             "scaling_method",
             "robust"
            ],
            [
             "encoding_method",
             "onehot"
            ],
            [
             "drop",
             null
            ],
            [
             "alpha",
             0.00018115432331541382
            ]
           ]
          ],
          [
           [
            [
             "scaling_method",
             "maxabs"
            ],
            [
             "encoding_method",
             "ordinal"
            ],
            [
             "alpha",
             0.0002409371627783921
            ]
           ]
          ],
          [
           [
            [
             "scaling_method",
             "robust"
            ],
            [
             "encoding_method",
             "onehot"
            ],
            [
             "drop",
             null
            ],
            [
             "alpha",
             0.00031282834144253475
            ]
           ]
          ],
          [
           [
            [
             "scaling_method",
             "robust"
            ],
            [
             "encoding_method",
             "onehot"
            ],
            [
             "drop",
             null
            ],
            [
             "alpha",
             0.0003018015349345533
            ]
           ]
          ],
          [
           [
            [
             "scaling_method",
             "robust"
            ],
            [
             "encoding_method",
             "onehot"
            ],
            [
             "drop",
             null
            ],
            [
             "alpha",
             0.0002630379925515237
            ]
           ]
          ],
          [
           [
            [
             "scaling_method",
             "robust"
            ],
            [
             "encoding_method",
             "onehot"
            ],
            [
             "drop",
             null
            ],
            [
             "alpha",
             0.0004070480363269357
            ]
           ]
          ],
          [
           [
            [
             "scaling_method",
             "robust"
            ],
            [
             "encoding_method",
             "onehot"
            ],
            [
             "drop",
             null
            ],
            [
             "alpha",
             0.000460642915403025
            ]
           ]
          ],
          [
           [
            [
             "scaling_method",
             "robust"
            ],
            [
             "encoding_method",
             "onehot"
            ],
            [
             "drop",
             null
            ],
            [
             "alpha",
             0.0002048926321891988
            ]
           ]
          ],
          [
           [
            [
             "scaling_method",
             "robust"
            ],
            [
             "encoding_method",
             "onehot"
            ],
            [
             "drop",
             null
            ],
            [
             "alpha",
             0.0009792585169417923
            ]
           ]
          ],
          [
           [
            [
             "scaling_method",
             "robust"
            ],
            [
             "encoding_method",
             "onehot"
            ],
            [
             "drop",
             "first"
            ],
            [
             "alpha",
             0.0003099589066571107
            ]
           ]
          ],
          [
           [
            [
             "scaling_method",
             "robust"
            ],
            [
             "encoding_method",
             "onehot"
            ],
            [
             "drop",
             null
            ],
            [
             "alpha",
             0.00024009518797386313
            ]
           ]
          ],
          [
           [
            [
             "scaling_method",
             "standard"
            ],
            [
             "encoding_method",
             "onehot"
            ],
            [
             "drop",
             null
            ],
            [
             "alpha",
             0.0002743285775338739
            ]
           ]
          ],
          [
           [
            [
             "scaling_method",
             "robust"
            ],
            [
             "encoding_method",
             "onehot"
            ],
            [
             "drop",
             null
            ],
            [
             "alpha",
             0.0003976475622923357
            ]
           ]
          ],
          [
           [
            [
             "scaling_method",
             "robust"
            ],
            [
             "encoding_method",
             "onehot"
            ],
            [
             "drop",
             null
            ],
            [
             "alpha",
             0.0003273096163541739
            ]
           ]
          ],
          [
           [
            [
             "scaling_method",
             "robust"
            ],
            [
             "encoding_method",
             "onehot"
            ],
            [
             "drop",
             null
            ],
            [
             "alpha",
             0.00029791056152727924
            ]
           ]
          ],
          [
           [
            [
             "scaling_method",
             "robust"
            ],
            [
             "encoding_method",
             "onehot"
            ],
            [
             "drop",
             null
            ],
            [
             "alpha",
             0.0002602166836071906
            ]
           ]
          ],
          [
           [
            [
             "scaling_method",
             "robust"
            ],
            [
             "encoding_method",
             "onehot"
            ],
            [
             "drop",
             null
            ],
            [
             "alpha",
             0.0003812388286766877
            ]
           ]
          ],
          [
           [
            [
             "scaling_method",
             "robust"
            ],
            [
             "encoding_method",
             "onehot"
            ],
            [
             "drop",
             null
            ],
            [
             "alpha",
             0.00019154736229708619
            ]
           ]
          ],
          [
           [
            [
             "scaling_method",
             "robust"
            ],
            [
             "encoding_method",
             "onehot"
            ],
            [
             "drop",
             null
            ],
            [
             "alpha",
             0.0003385680400143029
            ]
           ]
          ],
          [
           [
            [
             "scaling_method",
             "robust"
            ],
            [
             "encoding_method",
             "ordinal"
            ],
            [
             "alpha",
             0.00047044666576545076
            ]
           ]
          ],
          [
           [
            [
             "scaling_method",
             "maxabs"
            ],
            [
             "encoding_method",
             "onehot"
            ],
            [
             "drop",
             null
            ],
            [
             "alpha",
             0.00021712928836636005
            ]
           ]
          ],
          [
           [
            [
             "scaling_method",
             "robust"
            ],
            [
             "encoding_method",
             "onehot"
            ],
            [
             "drop",
             null
            ],
            [
             "alpha",
             0.0002881626250367436
            ]
           ]
          ],
          [
           [
            [
             "scaling_method",
             "robust"
            ],
            [
             "encoding_method",
             "onehot"
            ],
            [
             "drop",
             "first"
            ],
            [
             "alpha",
             0.0004389517417116825
            ]
           ]
          ],
          [
           [
            [
             "scaling_method",
             "robust"
            ],
            [
             "encoding_method",
             "onehot"
            ],
            [
             "drop",
             null
            ],
            [
             "alpha",
             0.0003129671054994815
            ]
           ]
          ],
          [
           [
            [
             "scaling_method",
             "robust"
            ],
            [
             "encoding_method",
             "onehot"
            ],
            [
             "drop",
             null
            ],
            [
             "alpha",
             0.0002944177326821869
            ]
           ]
          ],
          [
           [
            [
             "scaling_method",
             "robust"
            ],
            [
             "encoding_method",
             "onehot"
            ],
            [
             "drop",
             null
            ],
            [
             "alpha",
             0.0003628778963970767
            ]
           ]
          ],
          [
           [
            [
             "scaling_method",
             "robust"
            ],
            [
             "encoding_method",
             "onehot"
            ],
            [
             "drop",
             null
            ],
            [
             "alpha",
             0.00024148808855003513
            ]
           ]
          ],
          [
           [
            [
             "scaling_method",
             "robust"
            ],
            [
             "encoding_method",
             "onehot"
            ],
            [
             "drop",
             null
            ],
            [
             "alpha",
             0.0003234981807770743
            ]
           ]
          ],
          [
           [
            [
             "scaling_method",
             "robust"
            ],
            [
             "encoding_method",
             "onehot"
            ],
            [
             "drop",
             null
            ],
            [
             "alpha",
             0.0003263078718151275
            ]
           ]
          ],
          [
           [
            [
             "scaling_method",
             "robust"
            ],
            [
             "encoding_method",
             "onehot"
            ],
            [
             "drop",
             null
            ],
            [
             "alpha",
             0.0003843739988895113
            ]
           ]
          ],
          [
           [
            [
             "scaling_method",
             "robust"
            ],
            [
             "encoding_method",
             "onehot"
            ],
            [
             "drop",
             null
            ],
            [
             "alpha",
             0.0002598990121292542
            ]
           ]
          ],
          [
           [
            [
             "scaling_method",
             "standard"
            ],
            [
             "encoding_method",
             "onehot"
            ],
            [
             "drop",
             null
            ],
            [
             "alpha",
             0.0005278246479101893
            ]
           ]
          ],
          [
           [
            [
             "scaling_method",
             "robust"
            ],
            [
             "encoding_method",
             "ordinal"
            ],
            [
             "alpha",
             0.0001562493004654706
            ]
           ]
          ],
          [
           [
            [
             "scaling_method",
             "robust"
            ],
            [
             "encoding_method",
             "onehot"
            ],
            [
             "drop",
             null
            ],
            [
             "alpha",
             5.362943757690868e-05
            ]
           ]
          ],
          [
           [
            [
             "scaling_method",
             "robust"
            ],
            [
             "encoding_method",
             "onehot"
            ],
            [
             "drop",
             null
            ],
            [
             "alpha",
             0.00028929314118628113
            ]
           ]
          ],
          [
           [
            [
             "scaling_method",
             "robust"
            ],
            [
             "encoding_method",
             "onehot"
            ],
            [
             "drop",
             null
            ],
            [
             "alpha",
             0.0003438187128246934
            ]
           ]
          ],
          [
           [
            [
             "scaling_method",
             "robust"
            ],
            [
             "encoding_method",
             "onehot"
            ],
            [
             "drop",
             null
            ],
            [
             "alpha",
             0.00023085769356344436
            ]
           ]
          ],
          [
           [
            [
             "scaling_method",
             "robust"
            ],
            [
             "encoding_method",
             "onehot"
            ],
            [
             "drop",
             null
            ],
            [
             "alpha",
             0.0004273231303255645
            ]
           ]
          ],
          [
           [
            [
             "scaling_method",
             "robust"
            ],
            [
             "encoding_method",
             "onehot"
            ],
            [
             "drop",
             null
            ],
            [
             "alpha",
             0.00031051473514485934
            ]
           ]
          ],
          [
           [
            [
             "scaling_method",
             "robust"
            ],
            [
             "encoding_method",
             "onehot"
            ],
            [
             "drop",
             null
            ],
            [
             "alpha",
             0.00027025692985518034
            ]
           ]
          ],
          [
           [
            [
             "scaling_method",
             "maxabs"
            ],
            [
             "encoding_method",
             "onehot"
            ],
            [
             "drop",
             null
            ],
            [
             "alpha",
             0.00019922733705880056
            ]
           ]
          ],
          [
           [
            [
             "scaling_method",
             "robust"
            ],
            [
             "encoding_method",
             "onehot"
            ],
            [
             "drop",
             null
            ],
            [
             "alpha",
             0.0003868463919510521
            ]
           ]
          ],
          [
           [
            [
             "scaling_method",
             "robust"
            ],
            [
             "encoding_method",
             "onehot"
            ],
            [
             "drop",
             "first"
            ],
            [
             "alpha",
             0.00033722277923565536
            ]
           ]
          ],
          [
           [
            [
             "scaling_method",
             "robust"
            ],
            [
             "encoding_method",
             "onehot"
            ],
            [
             "drop",
             null
            ],
            [
             "alpha",
             0.0002922281140543768
            ]
           ]
          ],
          [
           [
            [
             "scaling_method",
             "robust"
            ],
            [
             "encoding_method",
             "onehot"
            ],
            [
             "drop",
             null
            ],
            [
             "alpha",
             0.0002554335225312177
            ]
           ]
          ],
          [
           [
            [
             "scaling_method",
             "robust"
            ],
            [
             "encoding_method",
             "onehot"
            ],
            [
             "drop",
             null
            ],
            [
             "alpha",
             0.0003137024887393732
            ]
           ]
          ],
          [
           [
            [
             "scaling_method",
             "robust"
            ],
            [
             "encoding_method",
             "onehot"
            ],
            [
             "drop",
             null
            ],
            [
             "alpha",
             0.00021948551363737593
            ]
           ]
          ],
          [
           [
            [
             "scaling_method",
             "robust"
            ],
            [
             "encoding_method",
             "onehot"
            ],
            [
             "drop",
             null
            ],
            [
             "alpha",
             0.0003115081647262303
            ]
           ]
          ],
          [
           [
            [
             "scaling_method",
             "robust"
            ],
            [
             "encoding_method",
             "onehot"
            ],
            [
             "drop",
             null
            ],
            [
             "alpha",
             0.00035208979982259524
            ]
           ]
          ],
          [
           [
            [
             "scaling_method",
             "robust"
            ],
            [
             "encoding_method",
             "onehot"
            ],
            [
             "drop",
             null
            ],
            [
             "alpha",
             0.0004115573810655325
            ]
           ]
          ],
          [
           [
            [
             "scaling_method",
             "robust"
            ],
            [
             "encoding_method",
             "onehot"
            ],
            [
             "drop",
             null
            ],
            [
             "alpha",
             0.00027529213333398134
            ]
           ]
          ],
          [
           [
            [
             "scaling_method",
             "robust"
            ],
            [
             "encoding_method",
             "onehot"
            ],
            [
             "drop",
             null
            ],
            [
             "alpha",
             0.00036594825469289405
            ]
           ]
          ],
          [
           [
            [
             "scaling_method",
             "robust"
            ],
            [
             "encoding_method",
             "ordinal"
            ],
            [
             "alpha",
             0.000600881914059148
            ]
           ]
          ],
          [
           [
            [
             "scaling_method",
             "robust"
            ],
            [
             "encoding_method",
             "onehot"
            ],
            [
             "drop",
             null
            ],
            [
             "alpha",
             0.0003089939660022847
            ]
           ]
          ],
          [
           [
            [
             "scaling_method",
             "robust"
            ],
            [
             "encoding_method",
             "onehot"
            ],
            [
             "drop",
             null
            ],
            [
             "alpha",
             0.0003143876293867897
            ]
           ]
          ],
          [
           [
            [
             "scaling_method",
             "robust"
            ],
            [
             "encoding_method",
             "onehot"
            ],
            [
             "drop",
             null
            ],
            [
             "alpha",
             0.00031054377015561575
            ]
           ]
          ],
          [
           [
            [
             "scaling_method",
             "robust"
            ],
            [
             "encoding_method",
             "onehot"
            ],
            [
             "drop",
             null
            ],
            [
             "alpha",
             0.000252784311738564
            ]
           ]
          ],
          [
           [
            [
             "scaling_method",
             "robust"
            ],
            [
             "encoding_method",
             "onehot"
            ],
            [
             "drop",
             null
            ],
            [
             "alpha",
             0.00028084812454080274
            ]
           ]
          ],
          [
           [
            [
             "scaling_method",
             "standard"
            ],
            [
             "encoding_method",
             "onehot"
            ],
            [
             "drop",
             null
            ],
            [
             "alpha",
             0.00023464373474824888
            ]
           ]
          ],
          [
           [
            [
             "scaling_method",
             "robust"
            ],
            [
             "encoding_method",
             "onehot"
            ],
            [
             "drop",
             null
            ],
            [
             "alpha",
             0.0003425629202198705
            ]
           ]
          ],
          [
           [
            [
             "scaling_method",
             "robust"
            ],
            [
             "encoding_method",
             "onehot"
            ],
            [
             "drop",
             null
            ],
            [
             "alpha",
             0.0004575850632451227
            ]
           ]
          ],
          [
           [
            [
             "scaling_method",
             "robust"
            ],
            [
             "encoding_method",
             "onehot"
            ],
            [
             "drop",
             null
            ],
            [
             "alpha",
             0.0003879128716621237
            ]
           ]
          ],
          [
           [
            [
             "scaling_method",
             "robust"
            ],
            [
             "encoding_method",
             "onehot"
            ],
            [
             "drop",
             null
            ],
            [
             "alpha",
             0.0002977568179798746
            ]
           ]
          ],
          [
           [
            [
             "scaling_method",
             "robust"
            ],
            [
             "encoding_method",
             "onehot"
            ],
            [
             "drop",
             null
            ],
            [
             "alpha",
             0.00030306994167010473
            ]
           ]
          ],
          [
           [
            [
             "scaling_method",
             "robust"
            ],
            [
             "encoding_method",
             "onehot"
            ],
            [
             "drop",
             null
            ],
            [
             "alpha",
             0.00032639006129336705
            ]
           ]
          ],
          [
           [
            [
             "scaling_method",
             "robust"
            ],
            [
             "encoding_method",
             "onehot"
            ],
            [
             "drop",
             null
            ],
            [
             "alpha",
             0.00026767805295172285
            ]
           ]
          ],
          [
           [
            [
             "scaling_method",
             "robust"
            ],
            [
             "encoding_method",
             "onehot"
            ],
            [
             "drop",
             null
            ],
            [
             "alpha",
             0.0003030300963289254
            ]
           ]
          ],
          [
           [
            [
             "scaling_method",
             "robust"
            ],
            [
             "encoding_method",
             "onehot"
            ],
            [
             "drop",
             null
            ],
            [
             "alpha",
             0.0003859190411166643
            ]
           ]
          ],
          [
           [
            [
             "scaling_method",
             "robust"
            ],
            [
             "encoding_method",
             "onehot"
            ],
            [
             "drop",
             null
            ],
            [
             "alpha",
             0.00034111430139248036
            ]
           ]
          ],
          [
           [
            [
             "scaling_method",
             "maxabs"
            ],
            [
             "encoding_method",
             "onehot"
            ],
            [
             "drop",
             "first"
            ],
            [
             "alpha",
             0.00010543469129415645
            ]
           ]
          ],
          [
           [
            [
             "scaling_method",
             "robust"
            ],
            [
             "encoding_method",
             "onehot"
            ],
            [
             "drop",
             null
            ],
            [
             "alpha",
             0.0004912134759936166
            ]
           ]
          ],
          [
           [
            [
             "scaling_method",
             "robust"
            ],
            [
             "encoding_method",
             "onehot"
            ],
            [
             "drop",
             null
            ],
            [
             "alpha",
             1.895259818006878e-05
            ]
           ]
          ],
          [
           [
            [
             "scaling_method",
             "robust"
            ],
            [
             "encoding_method",
             "onehot"
            ],
            [
             "drop",
             null
            ],
            [
             "alpha",
             0.00024567849580295803
            ]
           ]
          ],
          [
           [
            [
             "scaling_method",
             "robust"
            ],
            [
             "encoding_method",
             "onehot"
            ],
            [
             "drop",
             null
            ],
            [
             "alpha",
             0.00029835874328685544
            ]
           ]
          ],
          [
           [
            [
             "scaling_method",
             "robust"
            ],
            [
             "encoding_method",
             "onehot"
            ],
            [
             "drop",
             null
            ],
            [
             "alpha",
             0.000309219434217836
            ]
           ]
          ],
          [
           [
            [
             "scaling_method",
             "robust"
            ],
            [
             "encoding_method",
             "onehot"
            ],
            [
             "drop",
             null
            ],
            [
             "alpha",
             0.00035973232112473995
            ]
           ]
          ],
          [
           [
            [
             "scaling_method",
             "robust"
            ],
            [
             "encoding_method",
             "onehot"
            ],
            [
             "drop",
             null
            ],
            [
             "alpha",
             0.0003128075024195709
            ]
           ]
          ],
          [
           [
            [
             "scaling_method",
             "robust"
            ],
            [
             "encoding_method",
             "onehot"
            ],
            [
             "drop",
             null
            ],
            [
             "alpha",
             0.0002730548075949526
            ]
           ]
          ],
          [
           [
            [
             "scaling_method",
             "robust"
            ],
            [
             "encoding_method",
             "onehot"
            ],
            [
             "drop",
             null
            ],
            [
             "alpha",
             0.0004382206548600625
            ]
           ]
          ],
          [
           [
            [
             "scaling_method",
             "robust"
            ],
            [
             "encoding_method",
             "onehot"
            ],
            [
             "drop",
             null
            ],
            [
             "alpha",
             0.0002243883463732737
            ]
           ]
          ],
          [
           [
            [
             "scaling_method",
             "robust"
            ],
            [
             "encoding_method",
             "ordinal"
            ],
            [
             "alpha",
             0.0003268601444531522
            ]
           ]
          ],
          [
           [
            [
             "scaling_method",
             "minmax"
            ],
            [
             "encoding_method",
             "onehot"
            ],
            [
             "drop",
             null
            ],
            [
             "alpha",
             0.0003666999084980587
            ]
           ]
          ],
          [
           [
            [
             "scaling_method",
             "robust"
            ],
            [
             "encoding_method",
             "onehot"
            ],
            [
             "drop",
             null
            ],
            [
             "alpha",
             0.0002863626530297679
            ]
           ]
          ],
          [
           [
            [
             "scaling_method",
             "robust"
            ],
            [
             "encoding_method",
             "onehot"
            ],
            [
             "drop",
             null
            ],
            [
             "alpha",
             0.0002994648942310246
            ]
           ]
          ],
          [
           [
            [
             "scaling_method",
             "robust"
            ],
            [
             "encoding_method",
             "onehot"
            ],
            [
             "drop",
             null
            ],
            [
             "alpha",
             0.0002620675658350161
            ]
           ]
          ],
          [
           [
            [
             "scaling_method",
             "robust"
            ],
            [
             "encoding_method",
             "onehot"
            ],
            [
             "drop",
             null
            ],
            [
             "alpha",
             0.000311037014044374
            ]
           ]
          ],
          [
           [
            [
             "scaling_method",
             "robust"
            ],
            [
             "encoding_method",
             "onehot"
            ],
            [
             "drop",
             null
            ],
            [
             "alpha",
             0.00029557098299588943
            ]
           ]
          ],
          [
           [
            [
             "scaling_method",
             "robust"
            ],
            [
             "encoding_method",
             "onehot"
            ],
            [
             "drop",
             null
            ],
            [
             "alpha",
             0.0004055097410820075
            ]
           ]
          ],
          [
           [
            [
             "scaling_method",
             "robust"
            ],
            [
             "encoding_method",
             "onehot"
            ],
            [
             "drop",
             null
            ],
            [
             "alpha",
             0.0002477158672176745
            ]
           ]
          ],
          [
           [
            [
             "scaling_method",
             "standard"
            ],
            [
             "encoding_method",
             "onehot"
            ],
            [
             "drop",
             null
            ],
            [
             "alpha",
             0.00034555749335878674
            ]
           ]
          ],
          [
           [
            [
             "scaling_method",
             "robust"
            ],
            [
             "encoding_method",
             "onehot"
            ],
            [
             "drop",
             null
            ],
            [
             "alpha",
             0.0003074217999600511
            ]
           ]
          ],
          [
           [
            [
             "scaling_method",
             "robust"
            ],
            [
             "encoding_method",
             "onehot"
            ],
            [
             "drop",
             null
            ],
            [
             "alpha",
             0.00028652463527571346
            ]
           ]
          ],
          [
           [
            [
             "scaling_method",
             "robust"
            ],
            [
             "encoding_method",
             "onehot"
            ],
            [
             "drop",
             null
            ],
            [
             "alpha",
             0.000213415231324997
            ]
           ]
          ],
          [
           [
            [
             "scaling_method",
             "robust"
            ],
            [
             "encoding_method",
             "onehot"
            ],
            [
             "drop",
             null
            ],
            [
             "alpha",
             0.00031479207400887004
            ]
           ]
          ],
          [
           [
            [
             "scaling_method",
             "robust"
            ],
            [
             "encoding_method",
             "onehot"
            ],
            [
             "drop",
             null
            ],
            [
             "alpha",
             0.0003584022566706243
            ]
           ]
          ],
          [
           [
            [
             "scaling_method",
             "robust"
            ],
            [
             "encoding_method",
             "onehot"
            ],
            [
             "drop",
             null
            ],
            [
             "alpha",
             0.00027302504267207294
            ]
           ]
          ],
          [
           [
            [
             "scaling_method",
             "robust"
            ],
            [
             "encoding_method",
             "onehot"
            ],
            [
             "drop",
             null
            ],
            [
             "alpha",
             0.00032595554368890315
            ]
           ]
          ],
          [
           [
            [
             "scaling_method",
             "robust"
            ],
            [
             "encoding_method",
             "onehot"
            ],
            [
             "drop",
             "first"
            ],
            [
             "alpha",
             0.0003000082597888178
            ]
           ]
          ],
          [
           [
            [
             "scaling_method",
             "robust"
            ],
            [
             "encoding_method",
             "onehot"
            ],
            [
             "drop",
             null
            ],
            [
             "alpha",
             0.00025052280364583845
            ]
           ]
          ],
          [
           [
            [
             "scaling_method",
             "robust"
            ],
            [
             "encoding_method",
             "onehot"
            ],
            [
             "drop",
             null
            ],
            [
             "alpha",
             0.0003576620170855338
            ]
           ]
          ],
          [
           [
            [
             "scaling_method",
             "robust"
            ],
            [
             "encoding_method",
             "onehot"
            ],
            [
             "drop",
             null
            ],
            [
             "alpha",
             0.00038971466314564944
            ]
           ]
          ],
          [
           [
            [
             "scaling_method",
             "robust"
            ],
            [
             "encoding_method",
             "onehot"
            ],
            [
             "drop",
             null
            ],
            [
             "alpha",
             0.00030733929099045147
            ]
           ]
          ],
          [
           [
            [
             "scaling_method",
             "maxabs"
            ],
            [
             "encoding_method",
             "onehot"
            ],
            [
             "drop",
             null
            ],
            [
             "alpha",
             0.00023291034319846825
            ]
           ]
          ],
          [
           [
            [
             "scaling_method",
             "robust"
            ],
            [
             "encoding_method",
             "onehot"
            ],
            [
             "drop",
             null
            ],
            [
             "alpha",
             0.00030900165950810394
            ]
           ]
          ],
          [
           [
            [
             "scaling_method",
             "robust"
            ],
            [
             "encoding_method",
             "onehot"
            ],
            [
             "drop",
             null
            ],
            [
             "alpha",
             0.00027960730077401336
            ]
           ]
          ],
          [
           [
            [
             "scaling_method",
             "robust"
            ],
            [
             "encoding_method",
             "onehot"
            ],
            [
             "drop",
             null
            ],
            [
             "alpha",
             0.00031499471847225996
            ]
           ]
          ],
          [
           [
            [
             "scaling_method",
             "robust"
            ],
            [
             "encoding_method",
             "onehot"
            ],
            [
             "drop",
             null
            ],
            [
             "alpha",
             0.00029462473125822493
            ]
           ]
          ],
          [
           [
            [
             "scaling_method",
             "robust"
            ],
            [
             "encoding_method",
             "onehot"
            ],
            [
             "drop",
             null
            ],
            [
             "alpha",
             0.0002615398805526267
            ]
           ]
          ],
          [
           [
            [
             "scaling_method",
             "robust"
            ],
            [
             "encoding_method",
             "onehot"
            ],
            [
             "drop",
             null
            ],
            [
             "alpha",
             0.00033521467533611816
            ]
           ]
          ],
          [
           [
            [
             "scaling_method",
             "robust"
            ],
            [
             "encoding_method",
             "onehot"
            ],
            [
             "drop",
             null
            ],
            [
             "alpha",
             0.00030164694599416856
            ]
           ]
          ],
          [
           [
            [
             "scaling_method",
             "robust"
            ],
            [
             "encoding_method",
             "onehot"
            ],
            [
             "drop",
             null
            ],
            [
             "alpha",
             0.00037924353202656
            ]
           ]
          ],
          [
           [
            [
             "scaling_method",
             "robust"
            ],
            [
             "encoding_method",
             "ordinal"
            ],
            [
             "alpha",
             0.0003158726527710361
            ]
           ]
          ],
          [
           [
            [
             "scaling_method",
             "robust"
            ],
            [
             "encoding_method",
             "onehot"
            ],
            [
             "drop",
             null
            ],
            [
             "alpha",
             0.0002701256402938301
            ]
           ]
          ],
          [
           [
            [
             "scaling_method",
             "robust"
            ],
            [
             "encoding_method",
             "onehot"
            ],
            [
             "drop",
             null
            ],
            [
             "alpha",
             0.0002998500704054179
            ]
           ]
          ],
          [
           [
            [
             "scaling_method",
             "robust"
            ],
            [
             "encoding_method",
             "onehot"
            ],
            [
             "drop",
             null
            ],
            [
             "alpha",
             8.090345110127975e-05
            ]
           ]
          ],
          [
           [
            [
             "scaling_method",
             "robust"
            ],
            [
             "encoding_method",
             "onehot"
            ],
            [
             "drop",
             null
            ],
            [
             "alpha",
             0.0003430775974623254
            ]
           ]
          ],
          [
           [
            [
             "scaling_method",
             "robust"
            ],
            [
             "encoding_method",
             "onehot"
            ],
            [
             "drop",
             null
            ],
            [
             "alpha",
             0.0003159136634418241
            ]
           ]
          ],
          [
           [
            [
             "scaling_method",
             "minmax"
            ],
            [
             "encoding_method",
             "onehot"
            ],
            [
             "drop",
             null
            ],
            [
             "alpha",
             0.00031022287606595846
            ]
           ]
          ],
          [
           [
            [
             "scaling_method",
             "robust"
            ],
            [
             "encoding_method",
             "onehot"
            ],
            [
             "drop",
             null
            ],
            [
             "alpha",
             0.00035364435737577304
            ]
           ]
          ],
          [
           [
            [
             "scaling_method",
             "robust"
            ],
            [
             "encoding_method",
             "onehot"
            ],
            [
             "drop",
             null
            ],
            [
             "alpha",
             0.00027440352056179776
            ]
           ]
          ],
          [
           [
            [
             "scaling_method",
             "robust"
            ],
            [
             "encoding_method",
             "onehot"
            ],
            [
             "drop",
             null
            ],
            [
             "alpha",
             0.0004103861875736076
            ]
           ]
          ],
          [
           [
            [
             "scaling_method",
             "robust"
            ],
            [
             "encoding_method",
             "onehot"
            ],
            [
             "drop",
             null
            ],
            [
             "alpha",
             0.00023935713088930581
            ]
           ]
          ]
         ],
         "hovertemplate": "Optuna Trial=%{x}<br>Score (R-Squared)=%{y}<br>Parameters=%{customdata[0]}<extra></extra>",
         "legendgroup": "",
         "marker": {
          "color": "#636efa",
          "symbol": "circle"
         },
         "mode": "markers",
         "name": "",
         "orientation": "v",
         "showlegend": false,
         "type": "scatter",
         "x": [
          0,
          1,
          2,
          3,
          4,
          5,
          6,
          7,
          8,
          9,
          10,
          11,
          12,
          13,
          14,
          15,
          16,
          17,
          18,
          19,
          20,
          21,
          22,
          23,
          24,
          25,
          26,
          27,
          28,
          29,
          30,
          31,
          32,
          33,
          34,
          35,
          36,
          37,
          38,
          39,
          40,
          41,
          42,
          43,
          44,
          45,
          46,
          47,
          48,
          49,
          50,
          51,
          52,
          53,
          54,
          55,
          56,
          57,
          58,
          59,
          60,
          61,
          62,
          63,
          64,
          65,
          66,
          67,
          68,
          69,
          70,
          71,
          72,
          73,
          74,
          75,
          76,
          77,
          78,
          79,
          80,
          81,
          82,
          83,
          84,
          85,
          86,
          87,
          88,
          89,
          90,
          91,
          92,
          93,
          94,
          95,
          96,
          97,
          98,
          99,
          100,
          101,
          102,
          103,
          104,
          105,
          106,
          107,
          108,
          109,
          110,
          111,
          112,
          113,
          114,
          115,
          116,
          117,
          118,
          119,
          120,
          121,
          122,
          123,
          124,
          125,
          126,
          127,
          128,
          129,
          130,
          131,
          132,
          133,
          134,
          135,
          136,
          137,
          138,
          139,
          140,
          141,
          142,
          143,
          144,
          145,
          146,
          147,
          148,
          149,
          150,
          151,
          152,
          153,
          154,
          155,
          156,
          157,
          158,
          159,
          160,
          161,
          162,
          163,
          164,
          165,
          166,
          167,
          168,
          169,
          170,
          171,
          172,
          173,
          174,
          175,
          176,
          177,
          178,
          179,
          180,
          181,
          182,
          183,
          184,
          185,
          186,
          187,
          188,
          189,
          190,
          191,
          192,
          193,
          194,
          195,
          196,
          197,
          198,
          199
         ],
         "xaxis": "x",
         "y": [
          0.9467361127612117,
          0.9323125711122492,
          0.9410933355982675,
          0.9481492237022101,
          0.94713124564746,
          0.9495680701364331,
          0.9410989159546519,
          0.9393600439822679,
          0.9412729598873465,
          0.950246032142363,
          0.9486459908575956,
          0.9499611948078057,
          0.9505316923005414,
          0.9504672660312818,
          0.9502399134140747,
          0.9487508723150455,
          0.9504556665548367,
          0.9501479138438587,
          0.9435612469682632,
          0.9504212218173027,
          0.9489740326737615,
          0.9503945989612124,
          0.9504223422059566,
          0.9504537623811423,
          0.9495421668902756,
          0.9501007177440985,
          0.9413680883475847,
          0.9505899435979714,
          0.9505343633648202,
          0.9502798097197344,
          0.9473246672048383,
          0.950607438483388,
          0.9500710524773865,
          0.9505549667063539,
          0.9377250892604791,
          0.9461526294312108,
          0.9506913775478563,
          0.9418198334464873,
          0.9499180688641189,
          0.9506298902756359,
          0.9418098780901756,
          0.9506052321180978,
          0.9467738787374106,
          0.9506127976109908,
          0.9503550635090097,
          0.9507746615014426,
          0.950740280680139,
          0.9507830470423917,
          0.9419103771855338,
          0.9507772801687328,
          0.9507814476357558,
          0.9508020195819336,
          0.9508112540335507,
          0.9508118440728366,
          0.9504151948858424,
          0.9508114755066714,
          0.9508068630954067,
          0.9478029762586431,
          0.9502975501603352,
          0.9498340463807953,
          0.9493575890373263,
          0.9508113118382753,
          0.9508122835720298,
          0.9508109324935032,
          0.9505497821996898,
          0.9508109566548694,
          0.9502944371780606,
          0.9363060484606376,
          0.9503058249127789,
          0.9508120715721073,
          0.9505280457198715,
          0.9506862659190564,
          0.9508097064747029,
          0.9478016139239903,
          0.9508111200046067,
          0.9505262858095543,
          0.9494912200852065,
          0.9505012918215103,
          0.9504053848896354,
          0.9377440625835763,
          0.9508106439337987,
          0.9508118118162031,
          0.9507573913796605,
          0.9507124866818455,
          0.950614323371419,
          0.9505076924020734,
          0.9486321283343357,
          0.9505696236437642,
          0.950666057971814,
          0.9502935142084656,
          0.9507272769566482,
          0.9508098813892968,
          0.9508111364237136,
          0.9507482909606697,
          0.9507513385019151,
          0.9504520285220657,
          0.9508040785232756,
          0.9418201966598213,
          0.9482600195320805,
          0.9508044285580872,
          0.9504583594521454,
          0.9508106746800922,
          0.9508094837776506,
          0.9507779082605607,
          0.9506720943548175,
          0.9508112184564824,
          0.9508104691101054,
          0.9507467370479992,
          0.9507473343558581,
          0.9498494606925088,
          0.9416397290969842,
          0.948876638878837,
          0.9508055839078967,
          0.9508003745715394,
          0.950625352566534,
          0.9506764716026128,
          0.9508116470198591,
          0.9507788512747611,
          0.9482714805555886,
          0.9507428293168175,
          0.9505447394118323,
          0.9508080993855149,
          0.9507317901036314,
          0.9508108275011906,
          0.9505756100830369,
          0.9508114683472307,
          0.9507924515455048,
          0.9507050704902431,
          0.9507885116355773,
          0.9507731151870524,
          0.9418730820112223,
          0.9508119582041807,
          0.9508109700640631,
          0.9508116402577862,
          0.9507207998876407,
          0.9507967724456924,
          0.9502250374910746,
          0.95080132541864,
          0.9506202069598384,
          0.950741140627113,
          0.9508110791631447,
          0.9508118617336304,
          0.9508104464239615,
          0.9507719190546373,
          0.9508118538193692,
          0.950744339179154,
          0.9508023728125939,
          0.9477894308623276,
          0.9505459338099802,
          0.9472634812417441,
          0.9506894891739108,
          0.9508113274633262,
          0.9508119136442102,
          0.9507820510158396,
          0.9508106392704064,
          0.9507843865539287,
          0.950657050449475,
          0.9505971669577701,
          0.9417578802871847,
          0.9499869650975125,
          0.9508025639200746,
          0.9508114991867528,
          0.9507542623148879,
          0.9508117022466387,
          0.9508100602633769,
          0.9507148719043546,
          0.9506984186381633,
          0.9502543332346409,
          0.950812490222533,
          0.9508027326587551,
          0.9505463881817457,
          0.9508110400796215,
          0.9507836800151933,
          0.9507843297129586,
          0.9508105638609694,
          0.9505744777598629,
          0.9507110413466382,
          0.9507845845252273,
          0.9507385004432749,
          0.9508124989217249,
          0.9482091991613869,
          0.9508119567040867,
          0.9507953728203598,
          0.9508113667038943,
          0.950809582712651,
          0.9507525419977115,
          0.9508062700290261,
          0.9508117687097297,
          0.950754380375782,
          0.9417534533754726,
          0.9507785412543356,
          0.9508109427495619,
          0.9495939809691603,
          0.9508009452972754,
          0.9508115032814402,
          0.9503992115382557,
          0.9507904508773535,
          0.9507868971488811,
          0.9507068593839954,
          0.9506629188884617
         ],
         "yaxis": "y"
        }
       ],
       "layout": {
        "hoverlabel": {
         "bgcolor": "white",
         "font": {
          "family": "Rockwell",
          "size": 8
         }
        },
        "legend": {
         "tracegroupgap": 0
        },
        "template": {
         "data": {
          "bar": [
           {
            "error_x": {
             "color": "#2a3f5f"
            },
            "error_y": {
             "color": "#2a3f5f"
            },
            "marker": {
             "line": {
              "color": "#E5ECF6",
              "width": 0.5
             },
             "pattern": {
              "fillmode": "overlay",
              "size": 10,
              "solidity": 0.2
             }
            },
            "type": "bar"
           }
          ],
          "barpolar": [
           {
            "marker": {
             "line": {
              "color": "#E5ECF6",
              "width": 0.5
             },
             "pattern": {
              "fillmode": "overlay",
              "size": 10,
              "solidity": 0.2
             }
            },
            "type": "barpolar"
           }
          ],
          "carpet": [
           {
            "aaxis": {
             "endlinecolor": "#2a3f5f",
             "gridcolor": "white",
             "linecolor": "white",
             "minorgridcolor": "white",
             "startlinecolor": "#2a3f5f"
            },
            "baxis": {
             "endlinecolor": "#2a3f5f",
             "gridcolor": "white",
             "linecolor": "white",
             "minorgridcolor": "white",
             "startlinecolor": "#2a3f5f"
            },
            "type": "carpet"
           }
          ],
          "choropleth": [
           {
            "colorbar": {
             "outlinewidth": 0,
             "ticks": ""
            },
            "type": "choropleth"
           }
          ],
          "contour": [
           {
            "colorbar": {
             "outlinewidth": 0,
             "ticks": ""
            },
            "colorscale": [
             [
              0,
              "#0d0887"
             ],
             [
              0.1111111111111111,
              "#46039f"
             ],
             [
              0.2222222222222222,
              "#7201a8"
             ],
             [
              0.3333333333333333,
              "#9c179e"
             ],
             [
              0.4444444444444444,
              "#bd3786"
             ],
             [
              0.5555555555555556,
              "#d8576b"
             ],
             [
              0.6666666666666666,
              "#ed7953"
             ],
             [
              0.7777777777777778,
              "#fb9f3a"
             ],
             [
              0.8888888888888888,
              "#fdca26"
             ],
             [
              1,
              "#f0f921"
             ]
            ],
            "type": "contour"
           }
          ],
          "contourcarpet": [
           {
            "colorbar": {
             "outlinewidth": 0,
             "ticks": ""
            },
            "type": "contourcarpet"
           }
          ],
          "heatmap": [
           {
            "colorbar": {
             "outlinewidth": 0,
             "ticks": ""
            },
            "colorscale": [
             [
              0,
              "#0d0887"
             ],
             [
              0.1111111111111111,
              "#46039f"
             ],
             [
              0.2222222222222222,
              "#7201a8"
             ],
             [
              0.3333333333333333,
              "#9c179e"
             ],
             [
              0.4444444444444444,
              "#bd3786"
             ],
             [
              0.5555555555555556,
              "#d8576b"
             ],
             [
              0.6666666666666666,
              "#ed7953"
             ],
             [
              0.7777777777777778,
              "#fb9f3a"
             ],
             [
              0.8888888888888888,
              "#fdca26"
             ],
             [
              1,
              "#f0f921"
             ]
            ],
            "type": "heatmap"
           }
          ],
          "heatmapgl": [
           {
            "colorbar": {
             "outlinewidth": 0,
             "ticks": ""
            },
            "colorscale": [
             [
              0,
              "#0d0887"
             ],
             [
              0.1111111111111111,
              "#46039f"
             ],
             [
              0.2222222222222222,
              "#7201a8"
             ],
             [
              0.3333333333333333,
              "#9c179e"
             ],
             [
              0.4444444444444444,
              "#bd3786"
             ],
             [
              0.5555555555555556,
              "#d8576b"
             ],
             [
              0.6666666666666666,
              "#ed7953"
             ],
             [
              0.7777777777777778,
              "#fb9f3a"
             ],
             [
              0.8888888888888888,
              "#fdca26"
             ],
             [
              1,
              "#f0f921"
             ]
            ],
            "type": "heatmapgl"
           }
          ],
          "histogram": [
           {
            "marker": {
             "pattern": {
              "fillmode": "overlay",
              "size": 10,
              "solidity": 0.2
             }
            },
            "type": "histogram"
           }
          ],
          "histogram2d": [
           {
            "colorbar": {
             "outlinewidth": 0,
             "ticks": ""
            },
            "colorscale": [
             [
              0,
              "#0d0887"
             ],
             [
              0.1111111111111111,
              "#46039f"
             ],
             [
              0.2222222222222222,
              "#7201a8"
             ],
             [
              0.3333333333333333,
              "#9c179e"
             ],
             [
              0.4444444444444444,
              "#bd3786"
             ],
             [
              0.5555555555555556,
              "#d8576b"
             ],
             [
              0.6666666666666666,
              "#ed7953"
             ],
             [
              0.7777777777777778,
              "#fb9f3a"
             ],
             [
              0.8888888888888888,
              "#fdca26"
             ],
             [
              1,
              "#f0f921"
             ]
            ],
            "type": "histogram2d"
           }
          ],
          "histogram2dcontour": [
           {
            "colorbar": {
             "outlinewidth": 0,
             "ticks": ""
            },
            "colorscale": [
             [
              0,
              "#0d0887"
             ],
             [
              0.1111111111111111,
              "#46039f"
             ],
             [
              0.2222222222222222,
              "#7201a8"
             ],
             [
              0.3333333333333333,
              "#9c179e"
             ],
             [
              0.4444444444444444,
              "#bd3786"
             ],
             [
              0.5555555555555556,
              "#d8576b"
             ],
             [
              0.6666666666666666,
              "#ed7953"
             ],
             [
              0.7777777777777778,
              "#fb9f3a"
             ],
             [
              0.8888888888888888,
              "#fdca26"
             ],
             [
              1,
              "#f0f921"
             ]
            ],
            "type": "histogram2dcontour"
           }
          ],
          "mesh3d": [
           {
            "colorbar": {
             "outlinewidth": 0,
             "ticks": ""
            },
            "type": "mesh3d"
           }
          ],
          "parcoords": [
           {
            "line": {
             "colorbar": {
              "outlinewidth": 0,
              "ticks": ""
             }
            },
            "type": "parcoords"
           }
          ],
          "pie": [
           {
            "automargin": true,
            "type": "pie"
           }
          ],
          "scatter": [
           {
            "fillpattern": {
             "fillmode": "overlay",
             "size": 10,
             "solidity": 0.2
            },
            "type": "scatter"
           }
          ],
          "scatter3d": [
           {
            "line": {
             "colorbar": {
              "outlinewidth": 0,
              "ticks": ""
             }
            },
            "marker": {
             "colorbar": {
              "outlinewidth": 0,
              "ticks": ""
             }
            },
            "type": "scatter3d"
           }
          ],
          "scattercarpet": [
           {
            "marker": {
             "colorbar": {
              "outlinewidth": 0,
              "ticks": ""
             }
            },
            "type": "scattercarpet"
           }
          ],
          "scattergeo": [
           {
            "marker": {
             "colorbar": {
              "outlinewidth": 0,
              "ticks": ""
             }
            },
            "type": "scattergeo"
           }
          ],
          "scattergl": [
           {
            "marker": {
             "colorbar": {
              "outlinewidth": 0,
              "ticks": ""
             }
            },
            "type": "scattergl"
           }
          ],
          "scattermapbox": [
           {
            "marker": {
             "colorbar": {
              "outlinewidth": 0,
              "ticks": ""
             }
            },
            "type": "scattermapbox"
           }
          ],
          "scatterpolar": [
           {
            "marker": {
             "colorbar": {
              "outlinewidth": 0,
              "ticks": ""
             }
            },
            "type": "scatterpolar"
           }
          ],
          "scatterpolargl": [
           {
            "marker": {
             "colorbar": {
              "outlinewidth": 0,
              "ticks": ""
             }
            },
            "type": "scatterpolargl"
           }
          ],
          "scatterternary": [
           {
            "marker": {
             "colorbar": {
              "outlinewidth": 0,
              "ticks": ""
             }
            },
            "type": "scatterternary"
           }
          ],
          "surface": [
           {
            "colorbar": {
             "outlinewidth": 0,
             "ticks": ""
            },
            "colorscale": [
             [
              0,
              "#0d0887"
             ],
             [
              0.1111111111111111,
              "#46039f"
             ],
             [
              0.2222222222222222,
              "#7201a8"
             ],
             [
              0.3333333333333333,
              "#9c179e"
             ],
             [
              0.4444444444444444,
              "#bd3786"
             ],
             [
              0.5555555555555556,
              "#d8576b"
             ],
             [
              0.6666666666666666,
              "#ed7953"
             ],
             [
              0.7777777777777778,
              "#fb9f3a"
             ],
             [
              0.8888888888888888,
              "#fdca26"
             ],
             [
              1,
              "#f0f921"
             ]
            ],
            "type": "surface"
           }
          ],
          "table": [
           {
            "cells": {
             "fill": {
              "color": "#EBF0F8"
             },
             "line": {
              "color": "white"
             }
            },
            "header": {
             "fill": {
              "color": "#C8D4E3"
             },
             "line": {
              "color": "white"
             }
            },
            "type": "table"
           }
          ]
         },
         "layout": {
          "annotationdefaults": {
           "arrowcolor": "#2a3f5f",
           "arrowhead": 0,
           "arrowwidth": 1
          },
          "autotypenumbers": "strict",
          "coloraxis": {
           "colorbar": {
            "outlinewidth": 0,
            "ticks": ""
           }
          },
          "colorscale": {
           "diverging": [
            [
             0,
             "#8e0152"
            ],
            [
             0.1,
             "#c51b7d"
            ],
            [
             0.2,
             "#de77ae"
            ],
            [
             0.3,
             "#f1b6da"
            ],
            [
             0.4,
             "#fde0ef"
            ],
            [
             0.5,
             "#f7f7f7"
            ],
            [
             0.6,
             "#e6f5d0"
            ],
            [
             0.7,
             "#b8e186"
            ],
            [
             0.8,
             "#7fbc41"
            ],
            [
             0.9,
             "#4d9221"
            ],
            [
             1,
             "#276419"
            ]
           ],
           "sequential": [
            [
             0,
             "#0d0887"
            ],
            [
             0.1111111111111111,
             "#46039f"
            ],
            [
             0.2222222222222222,
             "#7201a8"
            ],
            [
             0.3333333333333333,
             "#9c179e"
            ],
            [
             0.4444444444444444,
             "#bd3786"
            ],
            [
             0.5555555555555556,
             "#d8576b"
            ],
            [
             0.6666666666666666,
             "#ed7953"
            ],
            [
             0.7777777777777778,
             "#fb9f3a"
            ],
            [
             0.8888888888888888,
             "#fdca26"
            ],
            [
             1,
             "#f0f921"
            ]
           ],
           "sequentialminus": [
            [
             0,
             "#0d0887"
            ],
            [
             0.1111111111111111,
             "#46039f"
            ],
            [
             0.2222222222222222,
             "#7201a8"
            ],
            [
             0.3333333333333333,
             "#9c179e"
            ],
            [
             0.4444444444444444,
             "#bd3786"
            ],
            [
             0.5555555555555556,
             "#d8576b"
            ],
            [
             0.6666666666666666,
             "#ed7953"
            ],
            [
             0.7777777777777778,
             "#fb9f3a"
            ],
            [
             0.8888888888888888,
             "#fdca26"
            ],
            [
             1,
             "#f0f921"
            ]
           ]
          },
          "colorway": [
           "#636efa",
           "#EF553B",
           "#00cc96",
           "#ab63fa",
           "#FFA15A",
           "#19d3f3",
           "#FF6692",
           "#B6E880",
           "#FF97FF",
           "#FECB52"
          ],
          "font": {
           "color": "#2a3f5f"
          },
          "geo": {
           "bgcolor": "white",
           "lakecolor": "white",
           "landcolor": "#E5ECF6",
           "showlakes": true,
           "showland": true,
           "subunitcolor": "white"
          },
          "hoverlabel": {
           "align": "left"
          },
          "hovermode": "closest",
          "mapbox": {
           "style": "light"
          },
          "paper_bgcolor": "white",
          "plot_bgcolor": "#E5ECF6",
          "polar": {
           "angularaxis": {
            "gridcolor": "white",
            "linecolor": "white",
            "ticks": ""
           },
           "bgcolor": "#E5ECF6",
           "radialaxis": {
            "gridcolor": "white",
            "linecolor": "white",
            "ticks": ""
           }
          },
          "scene": {
           "xaxis": {
            "backgroundcolor": "#E5ECF6",
            "gridcolor": "white",
            "gridwidth": 2,
            "linecolor": "white",
            "showbackground": true,
            "ticks": "",
            "zerolinecolor": "white"
           },
           "yaxis": {
            "backgroundcolor": "#E5ECF6",
            "gridcolor": "white",
            "gridwidth": 2,
            "linecolor": "white",
            "showbackground": true,
            "ticks": "",
            "zerolinecolor": "white"
           },
           "zaxis": {
            "backgroundcolor": "#E5ECF6",
            "gridcolor": "white",
            "gridwidth": 2,
            "linecolor": "white",
            "showbackground": true,
            "ticks": "",
            "zerolinecolor": "white"
           }
          },
          "shapedefaults": {
           "line": {
            "color": "#2a3f5f"
           }
          },
          "ternary": {
           "aaxis": {
            "gridcolor": "white",
            "linecolor": "white",
            "ticks": ""
           },
           "baxis": {
            "gridcolor": "white",
            "linecolor": "white",
            "ticks": ""
           },
           "bgcolor": "#E5ECF6",
           "caxis": {
            "gridcolor": "white",
            "linecolor": "white",
            "ticks": ""
           }
          },
          "title": {
           "x": 0.05
          },
          "xaxis": {
           "automargin": true,
           "gridcolor": "white",
           "linecolor": "white",
           "ticks": "",
           "title": {
            "standoff": 15
           },
           "zerolinecolor": "white",
           "zerolinewidth": 2
          },
          "yaxis": {
           "automargin": true,
           "gridcolor": "white",
           "linecolor": "white",
           "ticks": "",
           "title": {
            "standoff": 15
           },
           "zerolinecolor": "white",
           "zerolinewidth": 2
          }
         }
        },
        "title": {
         "text": "Lasso tuned with Optuna after 200 trials  <br><sup> Best Score: 0.9508</sup>"
        },
        "xaxis": {
         "anchor": "y",
         "domain": [
          0,
          1
         ],
         "title": {
          "text": "Optuna Trial"
         }
        },
        "yaxis": {
         "anchor": "x",
         "domain": [
          0,
          1
         ],
         "title": {
          "text": "Score (R-Squared)"
         }
        }
       }
      },
      "text/html": [
       "<div>                            <div id=\"97851a88-245a-4db0-bf28-746ff57945ed\" class=\"plotly-graph-div\" style=\"height:525px; width:100%;\"></div>            <script type=\"text/javascript\">                require([\"plotly\"], function(Plotly) {                    window.PLOTLYENV=window.PLOTLYENV || {};                                    if (document.getElementById(\"97851a88-245a-4db0-bf28-746ff57945ed\")) {                    Plotly.newPlot(                        \"97851a88-245a-4db0-bf28-746ff57945ed\",                        [{\"customdata\":[[[[\"scaling_method\",\"maxabs\"],[\"encoding_method\",\"onehot\"],[\"drop\",\"first\"],[\"alpha\",0.0003841185967841102]]],[[[\"scaling_method\",\"maxabs\"],[\"encoding_method\",\"ordinal\"],[\"alpha\",0.0008788944418275458]]],[[[\"scaling_method\",\"robust\"],[\"encoding_method\",\"ordinal\"],[\"alpha\",2.11890200594345e-05]]],[[[\"scaling_method\",\"maxabs\"],[\"encoding_method\",\"onehot\"],[\"drop\",\"first\"],[\"alpha\",0.0001997032791557414]]],[[[\"scaling_method\",\"robust\"],[\"encoding_method\",\"onehot\"],[\"drop\",\"first\"],[\"alpha\",1.5614748605494028e-05]]],[[[\"scaling_method\",\"robust\"],[\"encoding_method\",\"onehot\"],[\"drop\",null],[\"alpha\",7.955963434862829e-05]]],[[[\"scaling_method\",\"maxabs\"],[\"encoding_method\",\"ordinal\"],[\"alpha\",1.4665959167784572e-05]]],[[[\"scaling_method\",\"maxabs\"],[\"encoding_method\",\"ordinal\"],[\"alpha\",0.000111750098319519]]],[[[\"scaling_method\",\"robust\"],[\"encoding_method\",\"ordinal\"],[\"alpha\",5.810894499113303e-05]]],[[[\"scaling_method\",\"minmax\"],[\"encoding_method\",\"onehot\"],[\"drop\",\"first\"],[\"alpha\",9.256346048009733e-05]]],[[[\"scaling_method\",\"minmax\"],[\"encoding_method\",\"onehot\"],[\"drop\",null],[\"alpha\",3.300094783123156e-05]]],[[[\"scaling_method\",\"minmax\"],[\"encoding_method\",\"onehot\"],[\"drop\",null],[\"alpha\",7.763131740956906e-05]]],[[[\"scaling_method\",\"minmax\"],[\"encoding_method\",\"onehot\"],[\"drop\",null],[\"alpha\",0.00017308354348537791]]],[[[\"scaling_method\",\"minmax\"],[\"encoding_method\",\"onehot\"],[\"drop\",\"first\"],[\"alpha\",0.00020319297263222104]]],[[[\"scaling_method\",\"standard\"],[\"encoding_method\",\"onehot\"],[\"drop\",null],[\"alpha\",0.0002409165171517034]]],[[[\"scaling_method\",\"minmax\"],[\"encoding_method\",\"onehot\"],[\"drop\",null],[\"alpha\",0.000481256404764274]]],[[[\"scaling_method\",\"minmax\"],[\"encoding_method\",\"onehot\"],[\"drop\",\"first\"],[\"alpha\",0.0001879139078716462]]],[[[\"scaling_method\",\"standard\"],[\"encoding_method\",\"onehot\"],[\"drop\",null],[\"alpha\",0.0004042906555245167]]],[[[\"scaling_method\",\"minmax\"],[\"encoding_method\",\"onehot\"],[\"drop\",\"first\"],[\"alpha\",0.0009218227581495386]]],[[[\"scaling_method\",\"minmax\"],[\"encoding_method\",\"onehot\"],[\"drop\",\"first\"],[\"alpha\",0.00014548211412720207]]],[[[\"scaling_method\",\"minmax\"],[\"encoding_method\",\"onehot\"],[\"drop\",null],[\"alpha\",4.0668691741889e-05]]],[[[\"scaling_method\",\"minmax\"],[\"encoding_method\",\"onehot\"],[\"drop\",\"first\"],[\"alpha\",0.0002605307168105446]]],[[[\"scaling_method\",\"minmax\"],[\"encoding_method\",\"onehot\"],[\"drop\",\"first\"],[\"alpha\",0.00014303151048332337]]],[[[\"scaling_method\",\"minmax\"],[\"encoding_method\",\"onehot\"],[\"drop\",\"first\"],[\"alpha\",0.00018173122970234352]]],[[[\"scaling_method\",\"standard\"],[\"encoding_method\",\"onehot\"],[\"drop\",\"first\"],[\"alpha\",0.0005799084192342355]]],[[[\"scaling_method\",\"minmax\"],[\"encoding_method\",\"onehot\"],[\"drop\",\"first\"],[\"alpha\",0.00032052747816874096]]],[[[\"scaling_method\",\"minmax\"],[\"encoding_method\",\"ordinal\"],[\"alpha\",0.00013129644373445254]]],[[[\"scaling_method\",\"minmax\"],[\"encoding_method\",\"onehot\"],[\"drop\",null],[\"alpha\",0.00018866784606573576]]],[[[\"scaling_method\",\"minmax\"],[\"encoding_method\",\"onehot\"],[\"drop\",null],[\"alpha\",0.000281619001563278]]],[[[\"scaling_method\",\"standard\"],[\"encoding_method\",\"onehot\"],[\"drop\",null],[\"alpha\",0.00031447903808740524]]],[[[\"scaling_method\",\"minmax\"],[\"encoding_method\",\"onehot\"],[\"drop\",null],[\"alpha\",0.0005978406722088378]]],[[[\"scaling_method\",\"minmax\"],[\"encoding_method\",\"onehot\"],[\"drop\",null],[\"alpha\",0.00025981352825580955]]],[[[\"scaling_method\",\"minmax\"],[\"encoding_method\",\"onehot\"],[\"drop\",null],[\"alpha\",0.0003566171546653378]]],[[[\"scaling_method\",\"minmax\"],[\"encoding_method\",\"onehot\"],[\"drop\",null],[\"alpha\",0.0002764827754384708]]],[[[\"scaling_method\",\"maxabs\"],[\"encoding_method\",\"ordinal\"],[\"alpha\",0.00026238751551106417]]],[[[\"scaling_method\",\"minmax\"],[\"encoding_method\",\"onehot\"],[\"drop\",null],[\"alpha\",0.000697140039503794]]],[[[\"scaling_method\",\"robust\"],[\"encoding_method\",\"onehot\"],[\"drop\",null],[\"alpha\",0.0004194785406356968]]],[[[\"scaling_method\",\"robust\"],[\"encoding_method\",\"ordinal\"],[\"alpha\",0.0004661792524689388]]],[[[\"scaling_method\",\"robust\"],[\"encoding_method\",\"onehot\"],[\"drop\",null],[\"alpha\",0.0007075396944052244]]],[[[\"scaling_method\",\"robust\"],[\"encoding_method\",\"onehot\"],[\"drop\",null],[\"alpha\",0.0004524942388336976]]],[[[\"scaling_method\",\"robust\"],[\"encoding_method\",\"ordinal\"],[\"alpha\",0.000428697906041505]]],[[[\"scaling_method\",\"robust\"],[\"encoding_method\",\"onehot\"],[\"drop\",null],[\"alpha\",0.00022621629368611582]]],[[[\"scaling_method\",\"robust\"],[\"encoding_method\",\"onehot\"],[\"drop\",null],[\"alpha\",1.0416308531520012e-05]]],[[[\"scaling_method\",\"robust\"],[\"encoding_method\",\"onehot\"],[\"drop\",null],[\"alpha\",0.00022793350665012898]]],[[[\"scaling_method\",\"robust\"],[\"encoding_method\",\"onehot\"],[\"drop\",null],[\"alpha\",0.0005688210021060937]]],[[[\"scaling_method\",\"robust\"],[\"encoding_method\",\"onehot\"],[\"drop\",null],[\"alpha\",0.0003649761025040236]]],[[[\"scaling_method\",\"robust\"],[\"encoding_method\",\"onehot\"],[\"drop\",null],[\"alpha\",0.0003884582051924655]]],[[[\"scaling_method\",\"robust\"],[\"encoding_method\",\"onehot\"],[\"drop\",null],[\"alpha\",0.0003589201325166769]]],[[[\"scaling_method\",\"robust\"],[\"encoding_method\",\"ordinal\"],[\"alpha\",0.0007917367148203394]]],[[[\"scaling_method\",\"robust\"],[\"encoding_method\",\"onehot\"],[\"drop\",null],[\"alpha\",0.0003632891366509763]]],[[[\"scaling_method\",\"robust\"],[\"encoding_method\",\"onehot\"],[\"drop\",null],[\"alpha\",0.0003602156217105562]]],[[[\"scaling_method\",\"robust\"],[\"encoding_method\",\"onehot\"],[\"drop\",null],[\"alpha\",0.0003416125278354601]]],[[[\"scaling_method\",\"robust\"],[\"encoding_method\",\"onehot\"],[\"drop\",null],[\"alpha\",0.0003226079630554458]]],[[[\"scaling_method\",\"robust\"],[\"encoding_method\",\"onehot\"],[\"drop\",null],[\"alpha\",0.0003194949733052064]]],[[[\"scaling_method\",\"robust\"],[\"encoding_method\",\"onehot\"],[\"drop\",null],[\"alpha\",0.0005425665311480494]]],[[[\"scaling_method\",\"robust\"],[\"encoding_method\",\"onehot\"],[\"drop\",null],[\"alpha\",0.0003157116680723717]]],[[[\"scaling_method\",\"robust\"],[\"encoding_method\",\"onehot\"],[\"drop\",null],[\"alpha\",0.0003343356528483817]]],[[[\"scaling_method\",\"maxabs\"],[\"encoding_method\",\"onehot\"],[\"drop\",null],[\"alpha\",0.00012179803508546976]]],[[[\"scaling_method\",\"robust\"],[\"encoding_method\",\"onehot\"],[\"drop\",null],[\"alpha\",0.0001601577658072079]]],[[[\"scaling_method\",\"robust\"],[\"encoding_method\",\"onehot\"],[\"drop\",null],[\"alpha\",9.629499098258925e-05]]],[[[\"scaling_method\",\"robust\"],[\"encoding_method\",\"onehot\"],[\"drop\",null],[\"alpha\",7.021470598505854e-05]]],[[[\"scaling_method\",\"robust\"],[\"encoding_method\",\"onehot\"],[\"drop\",null],[\"alpha\",0.00032221250618202343]]],[[[\"scaling_method\",\"robust\"],[\"encoding_method\",\"onehot\"],[\"drop\",null],[\"alpha\",0.00030671293122819346]]],[[[\"scaling_method\",\"robust\"],[\"encoding_method\",\"onehot\"],[\"drop\",null],[\"alpha\",0.0002997971169775004]]],[[[\"scaling_method\",\"robust\"],[\"encoding_method\",\"onehot\"],[\"drop\",null],[\"alpha\",0.00021410738794319995]]],[[[\"scaling_method\",\"robust\"],[\"encoding_method\",\"onehot\"],[\"drop\",null],[\"alpha\",0.0003143129567338659]]],[[[\"scaling_method\",\"standard\"],[\"encoding_method\",\"onehot\"],[\"drop\",null],[\"alpha\",0.00028607239197365623]]],[[[\"scaling_method\",\"maxabs\"],[\"encoding_method\",\"ordinal\"],[\"alpha\",0.0005160358767471706]]],[[[\"scaling_method\",\"robust\"],[\"encoding_method\",\"onehot\"],[\"drop\",null],[\"alpha\",0.00016148712756672363]]],[[[\"scaling_method\",\"robust\"],[\"encoding_method\",\"onehot\"],[\"drop\",null],[\"alpha\",0.0003042461422326107]]],[[[\"scaling_method\",\"robust\"],[\"encoding_method\",\"onehot\"],[\"drop\",null],[\"alpha\",0.00020952583160049909]]],[[[\"scaling_method\",\"robust\"],[\"encoding_method\",\"onehot\"],[\"drop\",null],[\"alpha\",0.0002448852198231612]]],[[[\"scaling_method\",\"robust\"],[\"encoding_method\",\"onehot\"],[\"drop\",null],[\"alpha\",0.0002948689373386942]]],[[[\"scaling_method\",\"robust\"],[\"encoding_method\",\"onehot\"],[\"drop\",null],[\"alpha\",2.76076317111022e-05]]],[[[\"scaling_method\",\"robust\"],[\"encoding_method\",\"onehot\"],[\"drop\",null],[\"alpha\",0.00029785107381510016]]],[[[\"scaling_method\",\"robust\"],[\"encoding_method\",\"onehot\"],[\"drop\",null],[\"alpha\",0.0004994052225332545]]],[[[\"scaling_method\",\"standard\"],[\"encoding_method\",\"onehot\"],[\"drop\",null],[\"alpha\",0.000648591770527666]]],[[[\"scaling_method\",\"robust\"],[\"encoding_method\",\"onehot\"],[\"drop\",\"first\"],[\"alpha\",0.00041703628264054717]]],[[[\"scaling_method\",\"robust\"],[\"encoding_method\",\"onehot\"],[\"drop\",null],[\"alpha\",0.00018115432331541382]]],[[[\"scaling_method\",\"maxabs\"],[\"encoding_method\",\"ordinal\"],[\"alpha\",0.0002409371627783921]]],[[[\"scaling_method\",\"robust\"],[\"encoding_method\",\"onehot\"],[\"drop\",null],[\"alpha\",0.00031282834144253475]]],[[[\"scaling_method\",\"robust\"],[\"encoding_method\",\"onehot\"],[\"drop\",null],[\"alpha\",0.0003018015349345533]]],[[[\"scaling_method\",\"robust\"],[\"encoding_method\",\"onehot\"],[\"drop\",null],[\"alpha\",0.0002630379925515237]]],[[[\"scaling_method\",\"robust\"],[\"encoding_method\",\"onehot\"],[\"drop\",null],[\"alpha\",0.0004070480363269357]]],[[[\"scaling_method\",\"robust\"],[\"encoding_method\",\"onehot\"],[\"drop\",null],[\"alpha\",0.000460642915403025]]],[[[\"scaling_method\",\"robust\"],[\"encoding_method\",\"onehot\"],[\"drop\",null],[\"alpha\",0.0002048926321891988]]],[[[\"scaling_method\",\"robust\"],[\"encoding_method\",\"onehot\"],[\"drop\",null],[\"alpha\",0.0009792585169417923]]],[[[\"scaling_method\",\"robust\"],[\"encoding_method\",\"onehot\"],[\"drop\",\"first\"],[\"alpha\",0.0003099589066571107]]],[[[\"scaling_method\",\"robust\"],[\"encoding_method\",\"onehot\"],[\"drop\",null],[\"alpha\",0.00024009518797386313]]],[[[\"scaling_method\",\"standard\"],[\"encoding_method\",\"onehot\"],[\"drop\",null],[\"alpha\",0.0002743285775338739]]],[[[\"scaling_method\",\"robust\"],[\"encoding_method\",\"onehot\"],[\"drop\",null],[\"alpha\",0.0003976475622923357]]],[[[\"scaling_method\",\"robust\"],[\"encoding_method\",\"onehot\"],[\"drop\",null],[\"alpha\",0.0003273096163541739]]],[[[\"scaling_method\",\"robust\"],[\"encoding_method\",\"onehot\"],[\"drop\",null],[\"alpha\",0.00029791056152727924]]],[[[\"scaling_method\",\"robust\"],[\"encoding_method\",\"onehot\"],[\"drop\",null],[\"alpha\",0.0002602166836071906]]],[[[\"scaling_method\",\"robust\"],[\"encoding_method\",\"onehot\"],[\"drop\",null],[\"alpha\",0.0003812388286766877]]],[[[\"scaling_method\",\"robust\"],[\"encoding_method\",\"onehot\"],[\"drop\",null],[\"alpha\",0.00019154736229708619]]],[[[\"scaling_method\",\"robust\"],[\"encoding_method\",\"onehot\"],[\"drop\",null],[\"alpha\",0.0003385680400143029]]],[[[\"scaling_method\",\"robust\"],[\"encoding_method\",\"ordinal\"],[\"alpha\",0.00047044666576545076]]],[[[\"scaling_method\",\"maxabs\"],[\"encoding_method\",\"onehot\"],[\"drop\",null],[\"alpha\",0.00021712928836636005]]],[[[\"scaling_method\",\"robust\"],[\"encoding_method\",\"onehot\"],[\"drop\",null],[\"alpha\",0.0002881626250367436]]],[[[\"scaling_method\",\"robust\"],[\"encoding_method\",\"onehot\"],[\"drop\",\"first\"],[\"alpha\",0.0004389517417116825]]],[[[\"scaling_method\",\"robust\"],[\"encoding_method\",\"onehot\"],[\"drop\",null],[\"alpha\",0.0003129671054994815]]],[[[\"scaling_method\",\"robust\"],[\"encoding_method\",\"onehot\"],[\"drop\",null],[\"alpha\",0.0002944177326821869]]],[[[\"scaling_method\",\"robust\"],[\"encoding_method\",\"onehot\"],[\"drop\",null],[\"alpha\",0.0003628778963970767]]],[[[\"scaling_method\",\"robust\"],[\"encoding_method\",\"onehot\"],[\"drop\",null],[\"alpha\",0.00024148808855003513]]],[[[\"scaling_method\",\"robust\"],[\"encoding_method\",\"onehot\"],[\"drop\",null],[\"alpha\",0.0003234981807770743]]],[[[\"scaling_method\",\"robust\"],[\"encoding_method\",\"onehot\"],[\"drop\",null],[\"alpha\",0.0003263078718151275]]],[[[\"scaling_method\",\"robust\"],[\"encoding_method\",\"onehot\"],[\"drop\",null],[\"alpha\",0.0003843739988895113]]],[[[\"scaling_method\",\"robust\"],[\"encoding_method\",\"onehot\"],[\"drop\",null],[\"alpha\",0.0002598990121292542]]],[[[\"scaling_method\",\"standard\"],[\"encoding_method\",\"onehot\"],[\"drop\",null],[\"alpha\",0.0005278246479101893]]],[[[\"scaling_method\",\"robust\"],[\"encoding_method\",\"ordinal\"],[\"alpha\",0.0001562493004654706]]],[[[\"scaling_method\",\"robust\"],[\"encoding_method\",\"onehot\"],[\"drop\",null],[\"alpha\",5.362943757690868e-05]]],[[[\"scaling_method\",\"robust\"],[\"encoding_method\",\"onehot\"],[\"drop\",null],[\"alpha\",0.00028929314118628113]]],[[[\"scaling_method\",\"robust\"],[\"encoding_method\",\"onehot\"],[\"drop\",null],[\"alpha\",0.0003438187128246934]]],[[[\"scaling_method\",\"robust\"],[\"encoding_method\",\"onehot\"],[\"drop\",null],[\"alpha\",0.00023085769356344436]]],[[[\"scaling_method\",\"robust\"],[\"encoding_method\",\"onehot\"],[\"drop\",null],[\"alpha\",0.0004273231303255645]]],[[[\"scaling_method\",\"robust\"],[\"encoding_method\",\"onehot\"],[\"drop\",null],[\"alpha\",0.00031051473514485934]]],[[[\"scaling_method\",\"robust\"],[\"encoding_method\",\"onehot\"],[\"drop\",null],[\"alpha\",0.00027025692985518034]]],[[[\"scaling_method\",\"maxabs\"],[\"encoding_method\",\"onehot\"],[\"drop\",null],[\"alpha\",0.00019922733705880056]]],[[[\"scaling_method\",\"robust\"],[\"encoding_method\",\"onehot\"],[\"drop\",null],[\"alpha\",0.0003868463919510521]]],[[[\"scaling_method\",\"robust\"],[\"encoding_method\",\"onehot\"],[\"drop\",\"first\"],[\"alpha\",0.00033722277923565536]]],[[[\"scaling_method\",\"robust\"],[\"encoding_method\",\"onehot\"],[\"drop\",null],[\"alpha\",0.0002922281140543768]]],[[[\"scaling_method\",\"robust\"],[\"encoding_method\",\"onehot\"],[\"drop\",null],[\"alpha\",0.0002554335225312177]]],[[[\"scaling_method\",\"robust\"],[\"encoding_method\",\"onehot\"],[\"drop\",null],[\"alpha\",0.0003137024887393732]]],[[[\"scaling_method\",\"robust\"],[\"encoding_method\",\"onehot\"],[\"drop\",null],[\"alpha\",0.00021948551363737593]]],[[[\"scaling_method\",\"robust\"],[\"encoding_method\",\"onehot\"],[\"drop\",null],[\"alpha\",0.0003115081647262303]]],[[[\"scaling_method\",\"robust\"],[\"encoding_method\",\"onehot\"],[\"drop\",null],[\"alpha\",0.00035208979982259524]]],[[[\"scaling_method\",\"robust\"],[\"encoding_method\",\"onehot\"],[\"drop\",null],[\"alpha\",0.0004115573810655325]]],[[[\"scaling_method\",\"robust\"],[\"encoding_method\",\"onehot\"],[\"drop\",null],[\"alpha\",0.00027529213333398134]]],[[[\"scaling_method\",\"robust\"],[\"encoding_method\",\"onehot\"],[\"drop\",null],[\"alpha\",0.00036594825469289405]]],[[[\"scaling_method\",\"robust\"],[\"encoding_method\",\"ordinal\"],[\"alpha\",0.000600881914059148]]],[[[\"scaling_method\",\"robust\"],[\"encoding_method\",\"onehot\"],[\"drop\",null],[\"alpha\",0.0003089939660022847]]],[[[\"scaling_method\",\"robust\"],[\"encoding_method\",\"onehot\"],[\"drop\",null],[\"alpha\",0.0003143876293867897]]],[[[\"scaling_method\",\"robust\"],[\"encoding_method\",\"onehot\"],[\"drop\",null],[\"alpha\",0.00031054377015561575]]],[[[\"scaling_method\",\"robust\"],[\"encoding_method\",\"onehot\"],[\"drop\",null],[\"alpha\",0.000252784311738564]]],[[[\"scaling_method\",\"robust\"],[\"encoding_method\",\"onehot\"],[\"drop\",null],[\"alpha\",0.00028084812454080274]]],[[[\"scaling_method\",\"standard\"],[\"encoding_method\",\"onehot\"],[\"drop\",null],[\"alpha\",0.00023464373474824888]]],[[[\"scaling_method\",\"robust\"],[\"encoding_method\",\"onehot\"],[\"drop\",null],[\"alpha\",0.0003425629202198705]]],[[[\"scaling_method\",\"robust\"],[\"encoding_method\",\"onehot\"],[\"drop\",null],[\"alpha\",0.0004575850632451227]]],[[[\"scaling_method\",\"robust\"],[\"encoding_method\",\"onehot\"],[\"drop\",null],[\"alpha\",0.0003879128716621237]]],[[[\"scaling_method\",\"robust\"],[\"encoding_method\",\"onehot\"],[\"drop\",null],[\"alpha\",0.0002977568179798746]]],[[[\"scaling_method\",\"robust\"],[\"encoding_method\",\"onehot\"],[\"drop\",null],[\"alpha\",0.00030306994167010473]]],[[[\"scaling_method\",\"robust\"],[\"encoding_method\",\"onehot\"],[\"drop\",null],[\"alpha\",0.00032639006129336705]]],[[[\"scaling_method\",\"robust\"],[\"encoding_method\",\"onehot\"],[\"drop\",null],[\"alpha\",0.00026767805295172285]]],[[[\"scaling_method\",\"robust\"],[\"encoding_method\",\"onehot\"],[\"drop\",null],[\"alpha\",0.0003030300963289254]]],[[[\"scaling_method\",\"robust\"],[\"encoding_method\",\"onehot\"],[\"drop\",null],[\"alpha\",0.0003859190411166643]]],[[[\"scaling_method\",\"robust\"],[\"encoding_method\",\"onehot\"],[\"drop\",null],[\"alpha\",0.00034111430139248036]]],[[[\"scaling_method\",\"maxabs\"],[\"encoding_method\",\"onehot\"],[\"drop\",\"first\"],[\"alpha\",0.00010543469129415645]]],[[[\"scaling_method\",\"robust\"],[\"encoding_method\",\"onehot\"],[\"drop\",null],[\"alpha\",0.0004912134759936166]]],[[[\"scaling_method\",\"robust\"],[\"encoding_method\",\"onehot\"],[\"drop\",null],[\"alpha\",1.895259818006878e-05]]],[[[\"scaling_method\",\"robust\"],[\"encoding_method\",\"onehot\"],[\"drop\",null],[\"alpha\",0.00024567849580295803]]],[[[\"scaling_method\",\"robust\"],[\"encoding_method\",\"onehot\"],[\"drop\",null],[\"alpha\",0.00029835874328685544]]],[[[\"scaling_method\",\"robust\"],[\"encoding_method\",\"onehot\"],[\"drop\",null],[\"alpha\",0.000309219434217836]]],[[[\"scaling_method\",\"robust\"],[\"encoding_method\",\"onehot\"],[\"drop\",null],[\"alpha\",0.00035973232112473995]]],[[[\"scaling_method\",\"robust\"],[\"encoding_method\",\"onehot\"],[\"drop\",null],[\"alpha\",0.0003128075024195709]]],[[[\"scaling_method\",\"robust\"],[\"encoding_method\",\"onehot\"],[\"drop\",null],[\"alpha\",0.0002730548075949526]]],[[[\"scaling_method\",\"robust\"],[\"encoding_method\",\"onehot\"],[\"drop\",null],[\"alpha\",0.0004382206548600625]]],[[[\"scaling_method\",\"robust\"],[\"encoding_method\",\"onehot\"],[\"drop\",null],[\"alpha\",0.0002243883463732737]]],[[[\"scaling_method\",\"robust\"],[\"encoding_method\",\"ordinal\"],[\"alpha\",0.0003268601444531522]]],[[[\"scaling_method\",\"minmax\"],[\"encoding_method\",\"onehot\"],[\"drop\",null],[\"alpha\",0.0003666999084980587]]],[[[\"scaling_method\",\"robust\"],[\"encoding_method\",\"onehot\"],[\"drop\",null],[\"alpha\",0.0002863626530297679]]],[[[\"scaling_method\",\"robust\"],[\"encoding_method\",\"onehot\"],[\"drop\",null],[\"alpha\",0.0002994648942310246]]],[[[\"scaling_method\",\"robust\"],[\"encoding_method\",\"onehot\"],[\"drop\",null],[\"alpha\",0.0002620675658350161]]],[[[\"scaling_method\",\"robust\"],[\"encoding_method\",\"onehot\"],[\"drop\",null],[\"alpha\",0.000311037014044374]]],[[[\"scaling_method\",\"robust\"],[\"encoding_method\",\"onehot\"],[\"drop\",null],[\"alpha\",0.00029557098299588943]]],[[[\"scaling_method\",\"robust\"],[\"encoding_method\",\"onehot\"],[\"drop\",null],[\"alpha\",0.0004055097410820075]]],[[[\"scaling_method\",\"robust\"],[\"encoding_method\",\"onehot\"],[\"drop\",null],[\"alpha\",0.0002477158672176745]]],[[[\"scaling_method\",\"standard\"],[\"encoding_method\",\"onehot\"],[\"drop\",null],[\"alpha\",0.00034555749335878674]]],[[[\"scaling_method\",\"robust\"],[\"encoding_method\",\"onehot\"],[\"drop\",null],[\"alpha\",0.0003074217999600511]]],[[[\"scaling_method\",\"robust\"],[\"encoding_method\",\"onehot\"],[\"drop\",null],[\"alpha\",0.00028652463527571346]]],[[[\"scaling_method\",\"robust\"],[\"encoding_method\",\"onehot\"],[\"drop\",null],[\"alpha\",0.000213415231324997]]],[[[\"scaling_method\",\"robust\"],[\"encoding_method\",\"onehot\"],[\"drop\",null],[\"alpha\",0.00031479207400887004]]],[[[\"scaling_method\",\"robust\"],[\"encoding_method\",\"onehot\"],[\"drop\",null],[\"alpha\",0.0003584022566706243]]],[[[\"scaling_method\",\"robust\"],[\"encoding_method\",\"onehot\"],[\"drop\",null],[\"alpha\",0.00027302504267207294]]],[[[\"scaling_method\",\"robust\"],[\"encoding_method\",\"onehot\"],[\"drop\",null],[\"alpha\",0.00032595554368890315]]],[[[\"scaling_method\",\"robust\"],[\"encoding_method\",\"onehot\"],[\"drop\",\"first\"],[\"alpha\",0.0003000082597888178]]],[[[\"scaling_method\",\"robust\"],[\"encoding_method\",\"onehot\"],[\"drop\",null],[\"alpha\",0.00025052280364583845]]],[[[\"scaling_method\",\"robust\"],[\"encoding_method\",\"onehot\"],[\"drop\",null],[\"alpha\",0.0003576620170855338]]],[[[\"scaling_method\",\"robust\"],[\"encoding_method\",\"onehot\"],[\"drop\",null],[\"alpha\",0.00038971466314564944]]],[[[\"scaling_method\",\"robust\"],[\"encoding_method\",\"onehot\"],[\"drop\",null],[\"alpha\",0.00030733929099045147]]],[[[\"scaling_method\",\"maxabs\"],[\"encoding_method\",\"onehot\"],[\"drop\",null],[\"alpha\",0.00023291034319846825]]],[[[\"scaling_method\",\"robust\"],[\"encoding_method\",\"onehot\"],[\"drop\",null],[\"alpha\",0.00030900165950810394]]],[[[\"scaling_method\",\"robust\"],[\"encoding_method\",\"onehot\"],[\"drop\",null],[\"alpha\",0.00027960730077401336]]],[[[\"scaling_method\",\"robust\"],[\"encoding_method\",\"onehot\"],[\"drop\",null],[\"alpha\",0.00031499471847225996]]],[[[\"scaling_method\",\"robust\"],[\"encoding_method\",\"onehot\"],[\"drop\",null],[\"alpha\",0.00029462473125822493]]],[[[\"scaling_method\",\"robust\"],[\"encoding_method\",\"onehot\"],[\"drop\",null],[\"alpha\",0.0002615398805526267]]],[[[\"scaling_method\",\"robust\"],[\"encoding_method\",\"onehot\"],[\"drop\",null],[\"alpha\",0.00033521467533611816]]],[[[\"scaling_method\",\"robust\"],[\"encoding_method\",\"onehot\"],[\"drop\",null],[\"alpha\",0.00030164694599416856]]],[[[\"scaling_method\",\"robust\"],[\"encoding_method\",\"onehot\"],[\"drop\",null],[\"alpha\",0.00037924353202656]]],[[[\"scaling_method\",\"robust\"],[\"encoding_method\",\"ordinal\"],[\"alpha\",0.0003158726527710361]]],[[[\"scaling_method\",\"robust\"],[\"encoding_method\",\"onehot\"],[\"drop\",null],[\"alpha\",0.0002701256402938301]]],[[[\"scaling_method\",\"robust\"],[\"encoding_method\",\"onehot\"],[\"drop\",null],[\"alpha\",0.0002998500704054179]]],[[[\"scaling_method\",\"robust\"],[\"encoding_method\",\"onehot\"],[\"drop\",null],[\"alpha\",8.090345110127975e-05]]],[[[\"scaling_method\",\"robust\"],[\"encoding_method\",\"onehot\"],[\"drop\",null],[\"alpha\",0.0003430775974623254]]],[[[\"scaling_method\",\"robust\"],[\"encoding_method\",\"onehot\"],[\"drop\",null],[\"alpha\",0.0003159136634418241]]],[[[\"scaling_method\",\"minmax\"],[\"encoding_method\",\"onehot\"],[\"drop\",null],[\"alpha\",0.00031022287606595846]]],[[[\"scaling_method\",\"robust\"],[\"encoding_method\",\"onehot\"],[\"drop\",null],[\"alpha\",0.00035364435737577304]]],[[[\"scaling_method\",\"robust\"],[\"encoding_method\",\"onehot\"],[\"drop\",null],[\"alpha\",0.00027440352056179776]]],[[[\"scaling_method\",\"robust\"],[\"encoding_method\",\"onehot\"],[\"drop\",null],[\"alpha\",0.0004103861875736076]]],[[[\"scaling_method\",\"robust\"],[\"encoding_method\",\"onehot\"],[\"drop\",null],[\"alpha\",0.00023935713088930581]]]],\"hovertemplate\":\"Optuna Trial=%{x}<br>Score (R-Squared)=%{y}<br>Parameters=%{customdata[0]}<extra></extra>\",\"legendgroup\":\"\",\"marker\":{\"color\":\"#636efa\",\"symbol\":\"circle\"},\"mode\":\"markers\",\"name\":\"\",\"orientation\":\"v\",\"showlegend\":false,\"x\":[0,1,2,3,4,5,6,7,8,9,10,11,12,13,14,15,16,17,18,19,20,21,22,23,24,25,26,27,28,29,30,31,32,33,34,35,36,37,38,39,40,41,42,43,44,45,46,47,48,49,50,51,52,53,54,55,56,57,58,59,60,61,62,63,64,65,66,67,68,69,70,71,72,73,74,75,76,77,78,79,80,81,82,83,84,85,86,87,88,89,90,91,92,93,94,95,96,97,98,99,100,101,102,103,104,105,106,107,108,109,110,111,112,113,114,115,116,117,118,119,120,121,122,123,124,125,126,127,128,129,130,131,132,133,134,135,136,137,138,139,140,141,142,143,144,145,146,147,148,149,150,151,152,153,154,155,156,157,158,159,160,161,162,163,164,165,166,167,168,169,170,171,172,173,174,175,176,177,178,179,180,181,182,183,184,185,186,187,188,189,190,191,192,193,194,195,196,197,198,199],\"xaxis\":\"x\",\"y\":[0.9467361127612117,0.9323125711122492,0.9410933355982675,0.9481492237022101,0.94713124564746,0.9495680701364331,0.9410989159546519,0.9393600439822679,0.9412729598873465,0.950246032142363,0.9486459908575956,0.9499611948078057,0.9505316923005414,0.9504672660312818,0.9502399134140747,0.9487508723150455,0.9504556665548367,0.9501479138438587,0.9435612469682632,0.9504212218173027,0.9489740326737615,0.9503945989612124,0.9504223422059566,0.9504537623811423,0.9495421668902756,0.9501007177440985,0.9413680883475847,0.9505899435979714,0.9505343633648202,0.9502798097197344,0.9473246672048383,0.950607438483388,0.9500710524773865,0.9505549667063539,0.9377250892604791,0.9461526294312108,0.9506913775478563,0.9418198334464873,0.9499180688641189,0.9506298902756359,0.9418098780901756,0.9506052321180978,0.9467738787374106,0.9506127976109908,0.9503550635090097,0.9507746615014426,0.950740280680139,0.9507830470423917,0.9419103771855338,0.9507772801687328,0.9507814476357558,0.9508020195819336,0.9508112540335507,0.9508118440728366,0.9504151948858424,0.9508114755066714,0.9508068630954067,0.9478029762586431,0.9502975501603352,0.9498340463807953,0.9493575890373263,0.9508113118382753,0.9508122835720298,0.9508109324935032,0.9505497821996898,0.9508109566548694,0.9502944371780606,0.9363060484606376,0.9503058249127789,0.9508120715721073,0.9505280457198715,0.9506862659190564,0.9508097064747029,0.9478016139239903,0.9508111200046067,0.9505262858095543,0.9494912200852065,0.9505012918215103,0.9504053848896354,0.9377440625835763,0.9508106439337987,0.9508118118162031,0.9507573913796605,0.9507124866818455,0.950614323371419,0.9505076924020734,0.9486321283343357,0.9505696236437642,0.950666057971814,0.9502935142084656,0.9507272769566482,0.9508098813892968,0.9508111364237136,0.9507482909606697,0.9507513385019151,0.9504520285220657,0.9508040785232756,0.9418201966598213,0.9482600195320805,0.9508044285580872,0.9504583594521454,0.9508106746800922,0.9508094837776506,0.9507779082605607,0.9506720943548175,0.9508112184564824,0.9508104691101054,0.9507467370479992,0.9507473343558581,0.9498494606925088,0.9416397290969842,0.948876638878837,0.9508055839078967,0.9508003745715394,0.950625352566534,0.9506764716026128,0.9508116470198591,0.9507788512747611,0.9482714805555886,0.9507428293168175,0.9505447394118323,0.9508080993855149,0.9507317901036314,0.9508108275011906,0.9505756100830369,0.9508114683472307,0.9507924515455048,0.9507050704902431,0.9507885116355773,0.9507731151870524,0.9418730820112223,0.9508119582041807,0.9508109700640631,0.9508116402577862,0.9507207998876407,0.9507967724456924,0.9502250374910746,0.95080132541864,0.9506202069598384,0.950741140627113,0.9508110791631447,0.9508118617336304,0.9508104464239615,0.9507719190546373,0.9508118538193692,0.950744339179154,0.9508023728125939,0.9477894308623276,0.9505459338099802,0.9472634812417441,0.9506894891739108,0.9508113274633262,0.9508119136442102,0.9507820510158396,0.9508106392704064,0.9507843865539287,0.950657050449475,0.9505971669577701,0.9417578802871847,0.9499869650975125,0.9508025639200746,0.9508114991867528,0.9507542623148879,0.9508117022466387,0.9508100602633769,0.9507148719043546,0.9506984186381633,0.9502543332346409,0.950812490222533,0.9508027326587551,0.9505463881817457,0.9508110400796215,0.9507836800151933,0.9507843297129586,0.9508105638609694,0.9505744777598629,0.9507110413466382,0.9507845845252273,0.9507385004432749,0.9508124989217249,0.9482091991613869,0.9508119567040867,0.9507953728203598,0.9508113667038943,0.950809582712651,0.9507525419977115,0.9508062700290261,0.9508117687097297,0.950754380375782,0.9417534533754726,0.9507785412543356,0.9508109427495619,0.9495939809691603,0.9508009452972754,0.9508115032814402,0.9503992115382557,0.9507904508773535,0.9507868971488811,0.9507068593839954,0.9506629188884617],\"yaxis\":\"y\",\"type\":\"scatter\"}],                        {\"template\":{\"data\":{\"histogram2dcontour\":[{\"type\":\"histogram2dcontour\",\"colorbar\":{\"outlinewidth\":0,\"ticks\":\"\"},\"colorscale\":[[0.0,\"#0d0887\"],[0.1111111111111111,\"#46039f\"],[0.2222222222222222,\"#7201a8\"],[0.3333333333333333,\"#9c179e\"],[0.4444444444444444,\"#bd3786\"],[0.5555555555555556,\"#d8576b\"],[0.6666666666666666,\"#ed7953\"],[0.7777777777777778,\"#fb9f3a\"],[0.8888888888888888,\"#fdca26\"],[1.0,\"#f0f921\"]]}],\"choropleth\":[{\"type\":\"choropleth\",\"colorbar\":{\"outlinewidth\":0,\"ticks\":\"\"}}],\"histogram2d\":[{\"type\":\"histogram2d\",\"colorbar\":{\"outlinewidth\":0,\"ticks\":\"\"},\"colorscale\":[[0.0,\"#0d0887\"],[0.1111111111111111,\"#46039f\"],[0.2222222222222222,\"#7201a8\"],[0.3333333333333333,\"#9c179e\"],[0.4444444444444444,\"#bd3786\"],[0.5555555555555556,\"#d8576b\"],[0.6666666666666666,\"#ed7953\"],[0.7777777777777778,\"#fb9f3a\"],[0.8888888888888888,\"#fdca26\"],[1.0,\"#f0f921\"]]}],\"heatmap\":[{\"type\":\"heatmap\",\"colorbar\":{\"outlinewidth\":0,\"ticks\":\"\"},\"colorscale\":[[0.0,\"#0d0887\"],[0.1111111111111111,\"#46039f\"],[0.2222222222222222,\"#7201a8\"],[0.3333333333333333,\"#9c179e\"],[0.4444444444444444,\"#bd3786\"],[0.5555555555555556,\"#d8576b\"],[0.6666666666666666,\"#ed7953\"],[0.7777777777777778,\"#fb9f3a\"],[0.8888888888888888,\"#fdca26\"],[1.0,\"#f0f921\"]]}],\"heatmapgl\":[{\"type\":\"heatmapgl\",\"colorbar\":{\"outlinewidth\":0,\"ticks\":\"\"},\"colorscale\":[[0.0,\"#0d0887\"],[0.1111111111111111,\"#46039f\"],[0.2222222222222222,\"#7201a8\"],[0.3333333333333333,\"#9c179e\"],[0.4444444444444444,\"#bd3786\"],[0.5555555555555556,\"#d8576b\"],[0.6666666666666666,\"#ed7953\"],[0.7777777777777778,\"#fb9f3a\"],[0.8888888888888888,\"#fdca26\"],[1.0,\"#f0f921\"]]}],\"contourcarpet\":[{\"type\":\"contourcarpet\",\"colorbar\":{\"outlinewidth\":0,\"ticks\":\"\"}}],\"contour\":[{\"type\":\"contour\",\"colorbar\":{\"outlinewidth\":0,\"ticks\":\"\"},\"colorscale\":[[0.0,\"#0d0887\"],[0.1111111111111111,\"#46039f\"],[0.2222222222222222,\"#7201a8\"],[0.3333333333333333,\"#9c179e\"],[0.4444444444444444,\"#bd3786\"],[0.5555555555555556,\"#d8576b\"],[0.6666666666666666,\"#ed7953\"],[0.7777777777777778,\"#fb9f3a\"],[0.8888888888888888,\"#fdca26\"],[1.0,\"#f0f921\"]]}],\"surface\":[{\"type\":\"surface\",\"colorbar\":{\"outlinewidth\":0,\"ticks\":\"\"},\"colorscale\":[[0.0,\"#0d0887\"],[0.1111111111111111,\"#46039f\"],[0.2222222222222222,\"#7201a8\"],[0.3333333333333333,\"#9c179e\"],[0.4444444444444444,\"#bd3786\"],[0.5555555555555556,\"#d8576b\"],[0.6666666666666666,\"#ed7953\"],[0.7777777777777778,\"#fb9f3a\"],[0.8888888888888888,\"#fdca26\"],[1.0,\"#f0f921\"]]}],\"mesh3d\":[{\"type\":\"mesh3d\",\"colorbar\":{\"outlinewidth\":0,\"ticks\":\"\"}}],\"scatter\":[{\"fillpattern\":{\"fillmode\":\"overlay\",\"size\":10,\"solidity\":0.2},\"type\":\"scatter\"}],\"parcoords\":[{\"type\":\"parcoords\",\"line\":{\"colorbar\":{\"outlinewidth\":0,\"ticks\":\"\"}}}],\"scatterpolargl\":[{\"type\":\"scatterpolargl\",\"marker\":{\"colorbar\":{\"outlinewidth\":0,\"ticks\":\"\"}}}],\"bar\":[{\"error_x\":{\"color\":\"#2a3f5f\"},\"error_y\":{\"color\":\"#2a3f5f\"},\"marker\":{\"line\":{\"color\":\"#E5ECF6\",\"width\":0.5},\"pattern\":{\"fillmode\":\"overlay\",\"size\":10,\"solidity\":0.2}},\"type\":\"bar\"}],\"scattergeo\":[{\"type\":\"scattergeo\",\"marker\":{\"colorbar\":{\"outlinewidth\":0,\"ticks\":\"\"}}}],\"scatterpolar\":[{\"type\":\"scatterpolar\",\"marker\":{\"colorbar\":{\"outlinewidth\":0,\"ticks\":\"\"}}}],\"histogram\":[{\"marker\":{\"pattern\":{\"fillmode\":\"overlay\",\"size\":10,\"solidity\":0.2}},\"type\":\"histogram\"}],\"scattergl\":[{\"type\":\"scattergl\",\"marker\":{\"colorbar\":{\"outlinewidth\":0,\"ticks\":\"\"}}}],\"scatter3d\":[{\"type\":\"scatter3d\",\"line\":{\"colorbar\":{\"outlinewidth\":0,\"ticks\":\"\"}},\"marker\":{\"colorbar\":{\"outlinewidth\":0,\"ticks\":\"\"}}}],\"scattermapbox\":[{\"type\":\"scattermapbox\",\"marker\":{\"colorbar\":{\"outlinewidth\":0,\"ticks\":\"\"}}}],\"scatterternary\":[{\"type\":\"scatterternary\",\"marker\":{\"colorbar\":{\"outlinewidth\":0,\"ticks\":\"\"}}}],\"scattercarpet\":[{\"type\":\"scattercarpet\",\"marker\":{\"colorbar\":{\"outlinewidth\":0,\"ticks\":\"\"}}}],\"carpet\":[{\"aaxis\":{\"endlinecolor\":\"#2a3f5f\",\"gridcolor\":\"white\",\"linecolor\":\"white\",\"minorgridcolor\":\"white\",\"startlinecolor\":\"#2a3f5f\"},\"baxis\":{\"endlinecolor\":\"#2a3f5f\",\"gridcolor\":\"white\",\"linecolor\":\"white\",\"minorgridcolor\":\"white\",\"startlinecolor\":\"#2a3f5f\"},\"type\":\"carpet\"}],\"table\":[{\"cells\":{\"fill\":{\"color\":\"#EBF0F8\"},\"line\":{\"color\":\"white\"}},\"header\":{\"fill\":{\"color\":\"#C8D4E3\"},\"line\":{\"color\":\"white\"}},\"type\":\"table\"}],\"barpolar\":[{\"marker\":{\"line\":{\"color\":\"#E5ECF6\",\"width\":0.5},\"pattern\":{\"fillmode\":\"overlay\",\"size\":10,\"solidity\":0.2}},\"type\":\"barpolar\"}],\"pie\":[{\"automargin\":true,\"type\":\"pie\"}]},\"layout\":{\"autotypenumbers\":\"strict\",\"colorway\":[\"#636efa\",\"#EF553B\",\"#00cc96\",\"#ab63fa\",\"#FFA15A\",\"#19d3f3\",\"#FF6692\",\"#B6E880\",\"#FF97FF\",\"#FECB52\"],\"font\":{\"color\":\"#2a3f5f\"},\"hovermode\":\"closest\",\"hoverlabel\":{\"align\":\"left\"},\"paper_bgcolor\":\"white\",\"plot_bgcolor\":\"#E5ECF6\",\"polar\":{\"bgcolor\":\"#E5ECF6\",\"angularaxis\":{\"gridcolor\":\"white\",\"linecolor\":\"white\",\"ticks\":\"\"},\"radialaxis\":{\"gridcolor\":\"white\",\"linecolor\":\"white\",\"ticks\":\"\"}},\"ternary\":{\"bgcolor\":\"#E5ECF6\",\"aaxis\":{\"gridcolor\":\"white\",\"linecolor\":\"white\",\"ticks\":\"\"},\"baxis\":{\"gridcolor\":\"white\",\"linecolor\":\"white\",\"ticks\":\"\"},\"caxis\":{\"gridcolor\":\"white\",\"linecolor\":\"white\",\"ticks\":\"\"}},\"coloraxis\":{\"colorbar\":{\"outlinewidth\":0,\"ticks\":\"\"}},\"colorscale\":{\"sequential\":[[0.0,\"#0d0887\"],[0.1111111111111111,\"#46039f\"],[0.2222222222222222,\"#7201a8\"],[0.3333333333333333,\"#9c179e\"],[0.4444444444444444,\"#bd3786\"],[0.5555555555555556,\"#d8576b\"],[0.6666666666666666,\"#ed7953\"],[0.7777777777777778,\"#fb9f3a\"],[0.8888888888888888,\"#fdca26\"],[1.0,\"#f0f921\"]],\"sequentialminus\":[[0.0,\"#0d0887\"],[0.1111111111111111,\"#46039f\"],[0.2222222222222222,\"#7201a8\"],[0.3333333333333333,\"#9c179e\"],[0.4444444444444444,\"#bd3786\"],[0.5555555555555556,\"#d8576b\"],[0.6666666666666666,\"#ed7953\"],[0.7777777777777778,\"#fb9f3a\"],[0.8888888888888888,\"#fdca26\"],[1.0,\"#f0f921\"]],\"diverging\":[[0,\"#8e0152\"],[0.1,\"#c51b7d\"],[0.2,\"#de77ae\"],[0.3,\"#f1b6da\"],[0.4,\"#fde0ef\"],[0.5,\"#f7f7f7\"],[0.6,\"#e6f5d0\"],[0.7,\"#b8e186\"],[0.8,\"#7fbc41\"],[0.9,\"#4d9221\"],[1,\"#276419\"]]},\"xaxis\":{\"gridcolor\":\"white\",\"linecolor\":\"white\",\"ticks\":\"\",\"title\":{\"standoff\":15},\"zerolinecolor\":\"white\",\"automargin\":true,\"zerolinewidth\":2},\"yaxis\":{\"gridcolor\":\"white\",\"linecolor\":\"white\",\"ticks\":\"\",\"title\":{\"standoff\":15},\"zerolinecolor\":\"white\",\"automargin\":true,\"zerolinewidth\":2},\"scene\":{\"xaxis\":{\"backgroundcolor\":\"#E5ECF6\",\"gridcolor\":\"white\",\"linecolor\":\"white\",\"showbackground\":true,\"ticks\":\"\",\"zerolinecolor\":\"white\",\"gridwidth\":2},\"yaxis\":{\"backgroundcolor\":\"#E5ECF6\",\"gridcolor\":\"white\",\"linecolor\":\"white\",\"showbackground\":true,\"ticks\":\"\",\"zerolinecolor\":\"white\",\"gridwidth\":2},\"zaxis\":{\"backgroundcolor\":\"#E5ECF6\",\"gridcolor\":\"white\",\"linecolor\":\"white\",\"showbackground\":true,\"ticks\":\"\",\"zerolinecolor\":\"white\",\"gridwidth\":2}},\"shapedefaults\":{\"line\":{\"color\":\"#2a3f5f\"}},\"annotationdefaults\":{\"arrowcolor\":\"#2a3f5f\",\"arrowhead\":0,\"arrowwidth\":1},\"geo\":{\"bgcolor\":\"white\",\"landcolor\":\"#E5ECF6\",\"subunitcolor\":\"white\",\"showland\":true,\"showlakes\":true,\"lakecolor\":\"white\"},\"title\":{\"x\":0.05},\"mapbox\":{\"style\":\"light\"}}},\"xaxis\":{\"anchor\":\"y\",\"domain\":[0.0,1.0],\"title\":{\"text\":\"Optuna Trial\"}},\"yaxis\":{\"anchor\":\"x\",\"domain\":[0.0,1.0],\"title\":{\"text\":\"Score (R-Squared)\"}},\"legend\":{\"tracegroupgap\":0},\"title\":{\"text\":\"Lasso tuned with Optuna after 200 trials  <br><sup> Best Score: 0.9508</sup>\"},\"hoverlabel\":{\"font\":{\"size\":8,\"family\":\"Rockwell\"},\"bgcolor\":\"white\"}},                        {\"responsive\": true}                    ).then(function(){\n",
       "                            \n",
       "var gd = document.getElementById('97851a88-245a-4db0-bf28-746ff57945ed');\n",
       "var x = new MutationObserver(function (mutations, observer) {{\n",
       "        var display = window.getComputedStyle(gd).display;\n",
       "        if (!display || display === 'none') {{\n",
       "            console.log([gd, 'removed!']);\n",
       "            Plotly.purge(gd);\n",
       "            observer.disconnect();\n",
       "        }}\n",
       "}});\n",
       "\n",
       "// Listen for the removal of the full notebook cells\n",
       "var notebookContainer = gd.closest('#notebook-container');\n",
       "if (notebookContainer) {{\n",
       "    x.observe(notebookContainer, {childList: true});\n",
       "}}\n",
       "\n",
       "// Listen for the clearing of the current output cell\n",
       "var outputEl = gd.closest('.output');\n",
       "if (outputEl) {{\n",
       "    x.observe(outputEl, {childList: true});\n",
       "}}\n",
       "\n",
       "                        })                };                });            </script>        </div>"
      ]
     },
     "metadata": {},
     "output_type": "display_data"
    }
   ],
   "source": [
    "import plotly.express as px\n",
    "\n",
    "\n",
    "fig = px.scatter(optuna_lasso,\n",
    "                 x=\"Trial\", \n",
    "                 y=\"Score\", \n",
    "                 hover_data=['Parameters'],\n",
    "                labels = {'Trial': 'Optuna Trial', 'Score': 'Score (R-Squared)'},\n",
    "                title = 'Lasso tuned with Optuna after 200 trials  <br><sup> Best Score: 0.9508</sup>')\n",
    "\n",
    "fig.update_layout(\n",
    "    hoverlabel=dict(\n",
    "        bgcolor=\"white\",\n",
    "        font_size=8,\n",
    "        font_family=\"Rockwell\"\n",
    "    )\n",
    ")\n",
    "\n",
    "fig.show()\n",
    "\n",
    "# fig.write_image(\"images/optuna_lasso.png\")"
   ]
  },
  {
   "cell_type": "markdown",
   "id": "11b5caff",
   "metadata": {},
   "source": [
    "# Ridge"
   ]
  },
  {
   "cell_type": "code",
   "execution_count": 41,
   "id": "8eceabd0",
   "metadata": {},
   "outputs": [],
   "source": [
    "def instantiate_ridge(trial : Trial) -> Ridge:\n",
    "    params = {\n",
    "        \"alpha\": trial.suggest_float(\"alpha\", 1, 100, log=True)\n",
    "    }\n",
    "\n",
    "    return Ridge(**params)\n",
    "\n",
    "\n",
    "def instantiate_model(trial : Trial, numerical_columns : list[str], \n",
    "                      categorical_columns : list[str]) -> Pipeline:\n",
    "    \n",
    "    processor = instantiate_processor(\n",
    "        trial, numerical_columns, categorical_columns\n",
    "    )\n",
    "    \n",
    "    learner = instantiate_ridge(trial)\n",
    "    \n",
    "    model_pipe = Pipeline([\n",
    "    ('processor', processor),\n",
    "    ('model', learner)\n",
    "    ])\n",
    "    \n",
    "    model = compose.TransformedTargetRegressor(regressor= model_pipe,\n",
    "                                                func=np.log, inverse_func=np.exp)\n",
    "    \n",
    "    return model\n",
    "\n",
    "def objective_ridge(trial : Trial, X : DataFrame,\n",
    "              y : np.ndarray | Series, \n",
    "              numerical_columns : Optional[list[str]]=None, \n",
    "              categorical_columns : Optional[list[str]]=None, \n",
    "              random_state : int=42) -> float:\n",
    "    \n",
    "    if numerical_columns is None:\n",
    "        numerical_columns = [\n",
    "            *X.select_dtypes(exclude=['object', 'category']).columns\n",
    "        ]\n",
    "    \n",
    "    if categorical_columns is None:\n",
    "        categorical_columns = [\n",
    "            *X.select_dtypes(include=['object', 'category']).columns\n",
    "        ]\n",
    "    \n",
    "    model = instantiate_model(trial, numerical_columns, categorical_columns)\n",
    "    kf = KFold(n_splits=5, shuffle=True, random_state=random_state)\n",
    "    r2 = make_scorer(r2_score)\n",
    "    scores = cross_val_score(model, X, y, scoring= r2, cv=kf)\n",
    "    \n",
    "    return np.min([np.mean(scores), np.median([scores])])"
   ]
  },
  {
   "cell_type": "code",
   "execution_count": 43,
   "id": "4ccd662e",
   "metadata": {},
   "outputs": [
    {
     "name": "stderr",
     "output_type": "stream",
     "text": [
      "[I 2024-07-11 09:50:20,011] A new study created in memory with name: optimization\n"
     ]
    }
   ],
   "source": [
    "from optuna import create_study\n",
    "\n",
    "study_ridge = create_study(study_name='optimization', direction='maximize')\n",
    "\n",
    "#study_ridge.optimize(lambda trial: objective_ridge(trial, X, y), n_trials=20)"
   ]
  },
  {
   "cell_type": "code",
   "execution_count": 17,
   "id": "003f2bc3",
   "metadata": {},
   "outputs": [
    {
     "name": "stdout",
     "output_type": "stream",
     "text": [
      "0.9496764273611051\n",
      "{'scaling_method': 'standard', 'encoding_method': 'onehot', 'drop': None, 'alpha': 24.817075515507273}\n"
     ]
    }
   ],
   "source": [
    "print(study_ridge.best_value)\n",
    "print(study_ridge.best_params)"
   ]
  },
  {
   "cell_type": "markdown",
   "id": "a9a3792b",
   "metadata": {},
   "source": [
    "# EN"
   ]
  },
  {
   "cell_type": "code",
   "execution_count": 39,
   "id": "e89a4cc8",
   "metadata": {},
   "outputs": [],
   "source": [
    "def instantiate_en(trial : Trial) -> ElasticNet:\n",
    "    params = {\n",
    "        \"alpha\": trial.suggest_float(\"alpha\", .00001, .001, log=True),\n",
    "        'l1_ratio': trial.suggest_float('l1_ratio', .1, .7, log = True)\n",
    "    }\n",
    "\n",
    "    return ElasticNet(**params)\n",
    "\n",
    "\n",
    "\n",
    "def instantiate_model(trial : Trial, numerical_columns : list[str], \n",
    "                      categorical_columns : list[str]) -> Pipeline:\n",
    "    \n",
    "    processor = instantiate_processor(\n",
    "        trial, numerical_columns, categorical_columns\n",
    "    )\n",
    "    \n",
    "    learner = instantiate_en(trial)\n",
    "    \n",
    "    model_pipe = Pipeline([\n",
    "    ('processor', processor),\n",
    "    ('model', learner)\n",
    "    ])\n",
    "    \n",
    "    model = compose.TransformedTargetRegressor(regressor= model_pipe,\n",
    "                                                func=np.log, inverse_func=np.exp)\n",
    "    \n",
    "    return model\n",
    "\n",
    "def objective_en(trial : Trial, X : DataFrame,\n",
    "              y : np.ndarray | Series, \n",
    "              numerical_columns : Optional[list[str]]=None, \n",
    "              categorical_columns : Optional[list[str]]=None, \n",
    "              random_state : int=42) -> float:\n",
    "    \n",
    "    if numerical_columns is None:\n",
    "        numerical_columns = [\n",
    "            *X.select_dtypes(exclude=['object', 'category']).columns\n",
    "        ]\n",
    "    \n",
    "    if categorical_columns is None:\n",
    "        categorical_columns = [\n",
    "            *X.select_dtypes(include=['object', 'category']).columns\n",
    "        ]\n",
    "    \n",
    "    model = instantiate_model(trial, numerical_columns, categorical_columns)\n",
    "    kf = KFold(n_splits=5, shuffle=True, random_state=random_state)\n",
    "    r2 = make_scorer(r2_score)\n",
    "    scores = cross_val_score(model, X, y, scoring= r2, cv=kf)\n",
    "    \n",
    "    return np.min([np.mean(scores), np.median([scores])])"
   ]
  },
  {
   "cell_type": "code",
   "execution_count": 40,
   "id": "3fdd4f6b",
   "metadata": {
    "scrolled": true
   },
   "outputs": [
    {
     "name": "stderr",
     "output_type": "stream",
     "text": [
      "[I 2024-07-11 09:50:19,990] A new study created in memory with name: optimization\n"
     ]
    }
   ],
   "source": [
    "from optuna import create_study\n",
    "\n",
    "study_en = create_study(study_name='optimization', direction='maximize')\n",
    "\n",
    "#study_en.optimize(lambda trial: objective_en(trial, X, y), n_trials=200)"
   ]
  },
  {
   "cell_type": "code",
   "execution_count": 66,
   "id": "b95714ae",
   "metadata": {},
   "outputs": [
    {
     "name": "stdout",
     "output_type": "stream",
     "text": [
      "0.9508214083737423\n",
      "{'scaling_method': 'robust', 'encoding_method': 'onehot', 'drop': None, 'alpha': 0.0006921322276640134, 'l1_ratio': 0.4415555448483296}\n"
     ]
    }
   ],
   "source": [
    "# after adding in the L1 value\n",
    "print(study_en.best_value)\n",
    "print(study_en.best_params)"
   ]
  },
  {
   "cell_type": "code",
   "execution_count": 29,
   "id": "10243543",
   "metadata": {},
   "outputs": [
    {
     "name": "stdout",
     "output_type": "stream",
     "text": [
      "0.950820633330468\n",
      "{'scaling_method': 'robust', 'encoding_method': 'onehot', 'drop': None, 'alpha': 0.0006178621404820522}\n"
     ]
    }
   ],
   "source": [
    "print(study_en.best_value)\n",
    "print(study_en.best_params)"
   ]
  },
  {
   "cell_type": "markdown",
   "id": "388102a8",
   "metadata": {},
   "source": [
    "# XGB"
   ]
  },
  {
   "cell_type": "code",
   "execution_count": 18,
   "id": "e815e0b6",
   "metadata": {},
   "outputs": [],
   "source": [
    "def instantiate_xgb(trial : Trial) -> XGBRegressor:\n",
    "    params = {\n",
    "        'n_estimators': trial.suggest_int('n_estimators', 100, 1000),\n",
    "        \"learning_rate\": trial.suggest_float(\"learning_rate\", 1e-4, 1, log=True),\n",
    "        \"max_depth\": trial.suggest_int(\"max_depth\", 4, 8),\n",
    "        \"subsample\": trial.suggest_float(\"subsample\", 0.5, 1.0),\n",
    "        \"colsample_bytree\": trial.suggest_float(\"colsample_bytree\", 0.5, 1.0),\n",
    "        \"min_child_weight\": trial.suggest_int(\"min_child_weight\", 10, 20)\n",
    "    }\n",
    "\n",
    "    return XGBRegressor(**params)\n",
    "\n",
    "def instantiate_model(trial : Trial, numerical_columns : list[str], \n",
    "                      categorical_columns : list[str]) -> Pipeline:\n",
    "    \n",
    "    processor = instantiate_processor(\n",
    "        trial, numerical_columns, categorical_columns\n",
    "    )\n",
    "    \n",
    "    learner = instantiate_xgb(trial)\n",
    "    \n",
    "    model_pipe = Pipeline([\n",
    "    ('processor', processor),\n",
    "    ('model', learner)\n",
    "    ])\n",
    "    \n",
    "    model = compose.TransformedTargetRegressor(regressor= model_pipe,\n",
    "                                                func=np.log, inverse_func=np.exp)\n",
    "    \n",
    "    return model\n",
    "\n",
    "def objective_xgb(trial : Trial, X : DataFrame,\n",
    "              y : np.ndarray | Series, \n",
    "              numerical_columns : Optional[list[str]]=None, \n",
    "              categorical_columns : Optional[list[str]]=None, \n",
    "              random_state : int=42) -> float:\n",
    "    \n",
    "    if numerical_columns is None:\n",
    "        numerical_columns = [\n",
    "            *X.select_dtypes(exclude=['object', 'category']).columns\n",
    "        ]\n",
    "    \n",
    "    if categorical_columns is None:\n",
    "        categorical_columns = [\n",
    "            *X.select_dtypes(include=['object', 'category']).columns\n",
    "        ]\n",
    "    \n",
    "    model = instantiate_model(trial, numerical_columns, categorical_columns)\n",
    "    kf = KFold(n_splits=5, shuffle=True, random_state=random_state)\n",
    "    r2 = make_scorer(r2_score)\n",
    "    scores = cross_val_score(model, X, y, scoring= r2, cv=kf)\n",
    "    \n",
    "    return np.min([np.mean(scores), np.median([scores])])"
   ]
  },
  {
   "cell_type": "code",
   "execution_count": 64,
   "id": "d61a1dd9",
   "metadata": {},
   "outputs": [
    {
     "name": "stderr",
     "output_type": "stream",
     "text": [
      "[I 2024-07-11 10:29:44,482] A new study created in memory with name: optimization\n",
      "[I 2024-07-11 10:29:51,126] Trial 0 finished with value: 0.8364908305073765 and parameters: {'scaling_method': 'robust', 'learning_rate': 0.1080308948679474, 'loss': 'exponential', 'n_estimators': 136}. Best is trial 0 with value: 0.8364908305073765.\n",
      "[I 2024-07-11 10:30:08,078] Trial 1 finished with value: 0.8565104045811929 and parameters: {'scaling_method': 'robust', 'learning_rate': 0.0846428040972779, 'loss': 'linear', 'n_estimators': 370}. Best is trial 1 with value: 0.8565104045811929.\n",
      "[I 2024-07-11 10:30:40,159] Trial 2 finished with value: 0.7952757615955968 and parameters: {'scaling_method': 'standard', 'learning_rate': 0.005141603227491589, 'loss': 'square', 'n_estimators': 655}. Best is trial 1 with value: 0.8565104045811929.\n",
      "[I 2024-07-11 10:30:48,019] Trial 3 finished with value: 0.7448139712853252 and parameters: {'scaling_method': 'robust', 'learning_rate': 0.00017931592286634366, 'loss': 'linear', 'n_estimators': 162}. Best is trial 1 with value: 0.8565104045811929.\n",
      "[I 2024-07-11 10:31:30,006] Trial 4 finished with value: 0.7634461598436828 and parameters: {'scaling_method': 'standard', 'learning_rate': 0.0010832550425896495, 'loss': 'square', 'n_estimators': 876}. Best is trial 1 with value: 0.8565104045811929.\n",
      "[I 2024-07-11 10:32:02,586] Trial 5 finished with value: 0.7568595226485766 and parameters: {'scaling_method': 'standard', 'learning_rate': 0.0007938561300023973, 'loss': 'square', 'n_estimators': 687}. Best is trial 1 with value: 0.8565104045811929.\n",
      "[I 2024-07-11 10:32:39,222] Trial 6 finished with value: 0.8287486807969024 and parameters: {'scaling_method': 'maxabs', 'learning_rate': 0.013026099605722145, 'loss': 'linear', 'n_estimators': 805}. Best is trial 1 with value: 0.8565104045811929.\n",
      "[I 2024-07-11 10:33:23,272] Trial 7 finished with value: 0.7475796758814043 and parameters: {'scaling_method': 'minmax', 'learning_rate': 0.00026141726252184943, 'loss': 'square', 'n_estimators': 928}. Best is trial 1 with value: 0.8565104045811929.\n",
      "[I 2024-07-11 10:33:31,733] Trial 8 finished with value: 0.8215625428133494 and parameters: {'scaling_method': 'standard', 'learning_rate': 0.052539892068097234, 'loss': 'exponential', 'n_estimators': 181}. Best is trial 1 with value: 0.8565104045811929.\n",
      "[I 2024-07-11 10:33:50,109] Trial 9 finished with value: 0.8583101514255885 and parameters: {'scaling_method': 'minmax', 'learning_rate': 0.08106975182256253, 'loss': 'square', 'n_estimators': 481}. Best is trial 9 with value: 0.8583101514255885.\n",
      "[I 2024-07-11 10:34:01,920] Trial 10 finished with value: 0.875107285454909 and parameters: {'scaling_method': 'minmax', 'learning_rate': 0.9417486102954085, 'loss': 'square', 'n_estimators': 424}. Best is trial 10 with value: 0.875107285454909.\n",
      "[I 2024-07-11 10:34:13,591] Trial 11 finished with value: 0.8731122850862187 and parameters: {'scaling_method': 'minmax', 'learning_rate': 0.7669429401490846, 'loss': 'square', 'n_estimators': 404}. Best is trial 10 with value: 0.875107285454909.\n",
      "[I 2024-07-11 10:34:24,307] Trial 12 finished with value: 0.8726337964631214 and parameters: {'scaling_method': 'minmax', 'learning_rate': 0.8047216159256055, 'loss': 'square', 'n_estimators': 369}. Best is trial 10 with value: 0.875107285454909.\n",
      "[I 2024-07-11 10:34:35,062] Trial 13 finished with value: 0.8735434332080109 and parameters: {'scaling_method': 'minmax', 'learning_rate': 0.9907710583553894, 'loss': 'square', 'n_estimators': 384}. Best is trial 10 with value: 0.875107285454909.\n",
      "[I 2024-07-11 10:34:44,284] Trial 14 finished with value: 0.8682560191221999 and parameters: {'scaling_method': 'minmax', 'learning_rate': 0.37065236309312394, 'loss': 'square', 'n_estimators': 283}. Best is trial 10 with value: 0.875107285454909.\n",
      "[I 2024-07-11 10:35:04,211] Trial 15 finished with value: 0.8732803349920009 and parameters: {'scaling_method': 'maxabs', 'learning_rate': 0.27170191149240236, 'loss': 'exponential', 'n_estimators': 601}. Best is trial 10 with value: 0.875107285454909.\n",
      "[I 2024-07-11 10:35:06,376] Trial 16 finished with value: 0.7558935235324734 and parameters: {'scaling_method': 'minmax', 'learning_rate': 0.01939481044326578, 'loss': 'square', 'n_estimators': 44}. Best is trial 10 with value: 0.875107285454909.\n",
      "[I 2024-07-11 10:35:23,662] Trial 17 finished with value: 0.8687979021425665 and parameters: {'scaling_method': 'minmax', 'learning_rate': 0.25357843896015325, 'loss': 'square', 'n_estimators': 545}. Best is trial 10 with value: 0.875107285454909.\n",
      "[I 2024-07-11 10:35:32,483] Trial 18 finished with value: 0.8753932546864511 and parameters: {'scaling_method': 'minmax', 'learning_rate': 0.9676615719256413, 'loss': 'linear', 'n_estimators': 290}. Best is trial 18 with value: 0.8753932546864511.\n",
      "[I 2024-07-11 10:35:45,424] Trial 19 finished with value: 0.7665284409257055 and parameters: {'scaling_method': 'maxabs', 'learning_rate': 0.004486129100155619, 'loss': 'linear', 'n_estimators': 271}. Best is trial 18 with value: 0.8753932546864511.\n",
      "[I 2024-07-11 10:35:47,454] Trial 20 finished with value: 0.7679670339106671 and parameters: {'scaling_method': 'minmax', 'learning_rate': 0.03463806839575352, 'loss': 'linear', 'n_estimators': 41}. Best is trial 18 with value: 0.8753932546864511.\n",
      "[I 2024-07-11 10:36:00,655] Trial 21 finished with value: 0.8764985660735509 and parameters: {'scaling_method': 'minmax', 'learning_rate': 0.9200967372465861, 'loss': 'linear', 'n_estimators': 455}. Best is trial 21 with value: 0.8764985660735509.\n",
      "[I 2024-07-11 10:36:17,577] Trial 22 finished with value: 0.8696620068128643 and parameters: {'scaling_method': 'minmax', 'learning_rate': 0.20308628313255267, 'loss': 'linear', 'n_estimators': 485}. Best is trial 21 with value: 0.8764985660735509.\n",
      "[I 2024-07-11 10:36:27,205] Trial 23 finished with value: 0.8715403284915745 and parameters: {'scaling_method': 'minmax', 'learning_rate': 0.4709925287114006, 'loss': 'linear', 'n_estimators': 290}. Best is trial 21 with value: 0.8764985660735509.\n",
      "[I 2024-07-11 10:36:44,080] Trial 24 finished with value: 0.868664517846803 and parameters: {'scaling_method': 'minmax', 'learning_rate': 0.16389873901305285, 'loss': 'linear', 'n_estimators': 464}. Best is trial 21 with value: 0.8764985660735509.\n",
      "[I 2024-07-11 10:37:05,705] Trial 25 finished with value: 0.8747506036641622 and parameters: {'scaling_method': 'minmax', 'learning_rate': 0.4362924289354603, 'loss': 'linear', 'n_estimators': 721}. Best is trial 21 with value: 0.8764985660735509.\n",
      "[I 2024-07-11 10:37:21,787] Trial 26 finished with value: 0.8774689547481115 and parameters: {'scaling_method': 'minmax', 'learning_rate': 0.9400744096549036, 'loss': 'linear', 'n_estimators': 559}. Best is trial 26 with value: 0.8774689547481115.\n",
      "[I 2024-07-11 10:37:39,630] Trial 27 finished with value: 0.8759068429159296 and parameters: {'scaling_method': 'maxabs', 'learning_rate': 0.48055436475942015, 'loss': 'linear', 'n_estimators': 583}. Best is trial 26 with value: 0.8774689547481115.\n",
      "[I 2024-07-11 10:38:00,885] Trial 28 finished with value: 0.8684716029301984 and parameters: {'scaling_method': 'maxabs', 'learning_rate': 0.13737495809552516, 'loss': 'linear', 'n_estimators': 589}. Best is trial 26 with value: 0.8774689547481115.\n",
      "[I 2024-07-11 10:38:33,754] Trial 29 finished with value: 0.8547880972435523 and parameters: {'scaling_method': 'maxabs', 'learning_rate': 0.037233225164896085, 'loss': 'exponential', 'n_estimators': 775}. Best is trial 26 with value: 0.8774689547481115.\n",
      "[I 2024-07-11 10:38:51,370] Trial 30 finished with value: 0.8739862247538304 and parameters: {'scaling_method': 'robust', 'learning_rate': 0.41179904718515364, 'loss': 'linear', 'n_estimators': 561}. Best is trial 26 with value: 0.8774689547481115.\n",
      "[I 2024-07-11 10:39:10,732] Trial 31 finished with value: 0.8756688194214618 and parameters: {'scaling_method': 'maxabs', 'learning_rate': 0.5863929972362251, 'loss': 'linear', 'n_estimators': 645}. Best is trial 26 with value: 0.8774689547481115.\n",
      "[I 2024-07-11 10:39:36,443] Trial 32 finished with value: 0.8669286350691229 and parameters: {'scaling_method': 'maxabs', 'learning_rate': 0.10450745855282462, 'loss': 'linear', 'n_estimators': 644}. Best is trial 26 with value: 0.8774689547481115.\n"
     ]
    },
    {
     "name": "stderr",
     "output_type": "stream",
     "text": [
      "[I 2024-07-11 10:40:01,252] Trial 33 finished with value: 0.8753590843058905 and parameters: {'scaling_method': 'maxabs', 'learning_rate': 0.6024350272847602, 'loss': 'linear', 'n_estimators': 737}. Best is trial 26 with value: 0.8774689547481115.\n",
      "[I 2024-07-11 10:40:21,171] Trial 34 finished with value: 0.8728928783696975 and parameters: {'scaling_method': 'maxabs', 'learning_rate': 0.2654009501731239, 'loss': 'linear', 'n_estimators': 545}. Best is trial 26 with value: 0.8774689547481115.\n",
      "[I 2024-07-11 10:40:52,654] Trial 35 finished with value: 0.7934918597318839 and parameters: {'scaling_method': 'robust', 'learning_rate': 0.004933250216772752, 'loss': 'linear', 'n_estimators': 632}. Best is trial 26 with value: 0.8774689547481115.\n",
      "[I 2024-07-11 10:41:24,786] Trial 36 finished with value: 0.8757836793814404 and parameters: {'scaling_method': 'maxabs', 'learning_rate': 0.46203604853610064, 'loss': 'linear', 'n_estimators': 837}. Best is trial 26 with value: 0.8774689547481115.\n",
      "[I 2024-07-11 10:42:01,970] Trial 37 finished with value: 0.8646419908588564 and parameters: {'scaling_method': 'robust', 'learning_rate': 0.06155319624304754, 'loss': 'linear', 'n_estimators': 837}. Best is trial 26 with value: 0.8774689547481115.\n",
      "[I 2024-07-11 10:42:52,138] Trial 38 finished with value: 0.7759036567951035 and parameters: {'scaling_method': 'standard', 'learning_rate': 0.002160172320464459, 'loss': 'exponential', 'n_estimators': 968}. Best is trial 26 with value: 0.8774689547481115.\n",
      "[I 2024-07-11 10:43:27,324] Trial 39 finished with value: 0.8717777426816141 and parameters: {'scaling_method': 'maxabs', 'learning_rate': 0.17243955304121722, 'loss': 'linear', 'n_estimators': 874}. Best is trial 26 with value: 0.8774689547481115.\n",
      "[I 2024-07-11 10:43:52,249] Trial 40 finished with value: 0.8747209659534292 and parameters: {'scaling_method': 'standard', 'learning_rate': 0.3635876578622901, 'loss': 'linear', 'n_estimators': 705}. Best is trial 26 with value: 0.8774689547481115.\n",
      "[I 2024-07-11 10:44:14,045] Trial 41 finished with value: 0.8759744341117974 and parameters: {'scaling_method': 'maxabs', 'learning_rate': 0.5410842658221436, 'loss': 'linear', 'n_estimators': 667}. Best is trial 26 with value: 0.8774689547481115.\n",
      "[I 2024-07-11 10:44:39,174] Trial 42 finished with value: 0.8758211792507107 and parameters: {'scaling_method': 'maxabs', 'learning_rate': 0.5860246143264873, 'loss': 'linear', 'n_estimators': 779}. Best is trial 26 with value: 0.8774689547481115.\n",
      "[I 2024-07-11 10:45:21,448] Trial 43 finished with value: 0.7434789852131504 and parameters: {'scaling_method': 'maxabs', 'learning_rate': 0.00010395777253355326, 'loss': 'linear', 'n_estimators': 765}. Best is trial 26 with value: 0.8774689547481115.\n",
      "[I 2024-07-11 10:45:42,995] Trial 44 finished with value: 0.8756401480833148 and parameters: {'scaling_method': 'maxabs', 'learning_rate': 0.6463258843038626, 'loss': 'linear', 'n_estimators': 524}. Best is trial 26 with value: 0.8774689547481115.\n",
      "[I 2024-07-11 10:46:10,238] Trial 45 finished with value: 0.8677610243676576 and parameters: {'scaling_method': 'maxabs', 'learning_rate': 0.10848959093288578, 'loss': 'linear', 'n_estimators': 681}. Best is trial 26 with value: 0.8774689547481115.\n",
      "[I 2024-07-11 10:46:28,628] Trial 46 finished with value: 0.8718459295115558 and parameters: {'scaling_method': 'maxabs', 'learning_rate': 0.23775206232848503, 'loss': 'exponential', 'n_estimators': 442}. Best is trial 26 with value: 0.8774689547481115.\n",
      "[I 2024-07-11 10:46:54,359] Trial 47 finished with value: 0.7519485278630641 and parameters: {'scaling_method': 'standard', 'learning_rate': 0.000375603728053219, 'loss': 'linear', 'n_estimators': 509}. Best is trial 26 with value: 0.8774689547481115.\n",
      "[I 2024-07-11 10:47:12,970] Trial 48 finished with value: 0.8763384013998946 and parameters: {'scaling_method': 'robust', 'learning_rate': 0.6664635932569053, 'loss': 'linear', 'n_estimators': 595}. Best is trial 26 with value: 0.8774689547481115.\n",
      "[I 2024-07-11 10:47:35,019] Trial 49 finished with value: 0.8732304694410397 and parameters: {'scaling_method': 'robust', 'learning_rate': 0.33051830955482014, 'loss': 'linear', 'n_estimators': 596}. Best is trial 26 with value: 0.8774689547481115.\n",
      "[I 2024-07-11 10:47:47,435] Trial 50 finished with value: 0.8766825970525293 and parameters: {'scaling_method': 'robust', 'learning_rate': 0.9812251207582645, 'loss': 'exponential', 'n_estimators': 339}. Best is trial 26 with value: 0.8774689547481115.\n",
      "[I 2024-07-11 10:48:00,816] Trial 51 finished with value: 0.8760795083288011 and parameters: {'scaling_method': 'robust', 'learning_rate': 0.9659415043695475, 'loss': 'exponential', 'n_estimators': 353}. Best is trial 26 with value: 0.8774689547481115.\n",
      "[I 2024-07-11 10:48:12,886] Trial 52 finished with value: 0.8762412329696507 and parameters: {'scaling_method': 'robust', 'learning_rate': 0.9905924002440389, 'loss': 'exponential', 'n_estimators': 328}. Best is trial 26 with value: 0.8774689547481115.\n",
      "[I 2024-07-11 10:48:25,982] Trial 53 finished with value: 0.8774407684368131 and parameters: {'scaling_method': 'robust', 'learning_rate': 0.9492652971125922, 'loss': 'exponential', 'n_estimators': 361}. Best is trial 26 with value: 0.8774689547481115.\n",
      "[I 2024-07-11 10:48:34,372] Trial 54 finished with value: 0.8737304116537385 and parameters: {'scaling_method': 'robust', 'learning_rate': 0.800081098522289, 'loss': 'exponential', 'n_estimators': 224}. Best is trial 26 with value: 0.8774689547481115.\n",
      "[I 2024-07-11 10:48:46,120] Trial 55 finished with value: 0.8761394993317021 and parameters: {'scaling_method': 'robust', 'learning_rate': 0.8757789445065083, 'loss': 'exponential', 'n_estimators': 348}. Best is trial 26 with value: 0.8774689547481115.\n",
      "[I 2024-07-11 10:49:00,771] Trial 56 finished with value: 0.8705877638983832 and parameters: {'scaling_method': 'robust', 'learning_rate': 0.2895190260455522, 'loss': 'exponential', 'n_estimators': 330}. Best is trial 26 with value: 0.8774689547481115.\n",
      "[I 2024-07-11 10:49:22,154] Trial 57 finished with value: 0.7915368792681665 and parameters: {'scaling_method': 'robust', 'learning_rate': 0.008421670216491518, 'loss': 'exponential', 'n_estimators': 401}. Best is trial 26 with value: 0.8774689547481115.\n",
      "[I 2024-07-11 10:49:27,472] Trial 58 finished with value: 0.8748117966115178 and parameters: {'scaling_method': 'robust', 'learning_rate': 0.9908956250261114, 'loss': 'exponential', 'n_estimators': 144}. Best is trial 26 with value: 0.8774689547481115.\n",
      "[I 2024-07-11 10:49:36,073] Trial 59 finished with value: 0.8725810827160693 and parameters: {'scaling_method': 'robust', 'learning_rate': 0.6997716824854882, 'loss': 'exponential', 'n_estimators': 231}. Best is trial 26 with value: 0.8774689547481115.\n",
      "[I 2024-07-11 10:49:51,525] Trial 60 finished with value: 0.8732343894781553 and parameters: {'scaling_method': 'robust', 'learning_rate': 0.3598505252594178, 'loss': 'exponential', 'n_estimators': 437}. Best is trial 26 with value: 0.8774689547481115.\n",
      "[I 2024-07-11 10:50:02,636] Trial 61 finished with value: 0.8751285262212901 and parameters: {'scaling_method': 'robust', 'learning_rate': 0.7164610877686165, 'loss': 'exponential', 'n_estimators': 334}. Best is trial 26 with value: 0.8774689547481115.\n",
      "[I 2024-07-11 10:50:12,946] Trial 62 finished with value: 0.875646057321396 and parameters: {'scaling_method': 'robust', 'learning_rate': 0.7396346743196093, 'loss': 'exponential', 'n_estimators': 315}. Best is trial 26 with value: 0.8774689547481115.\n",
      "[I 2024-07-11 10:50:25,260] Trial 63 finished with value: 0.8771058084089777 and parameters: {'scaling_method': 'robust', 'learning_rate': 0.9506905283189047, 'loss': 'exponential', 'n_estimators': 378}. Best is trial 26 with value: 0.8774689547481115.\n",
      "[I 2024-07-11 10:50:38,904] Trial 64 finished with value: 0.8746130844505237 and parameters: {'scaling_method': 'robust', 'learning_rate': 0.49767128287106965, 'loss': 'exponential', 'n_estimators': 391}. Best is trial 26 with value: 0.8774689547481115.\n",
      "[I 2024-07-11 10:50:56,343] Trial 65 finished with value: 0.8711151386607558 and parameters: {'scaling_method': 'robust', 'learning_rate': 0.21118234004658165, 'loss': 'exponential', 'n_estimators': 466}. Best is trial 26 with value: 0.8774689547481115.\n"
     ]
    },
    {
     "name": "stderr",
     "output_type": "stream",
     "text": [
      "[I 2024-07-11 10:51:04,868] Trial 66 finished with value: 0.8758123761330122 and parameters: {'scaling_method': 'minmax', 'learning_rate': 0.9973979259829957, 'loss': 'exponential', 'n_estimators': 257}. Best is trial 26 with value: 0.8774689547481115.\n",
      "[I 2024-07-11 10:51:09,165] Trial 67 finished with value: 0.8569649453947776 and parameters: {'scaling_method': 'robust', 'learning_rate': 0.3535192217038593, 'loss': 'exponential', 'n_estimators': 97}. Best is trial 26 with value: 0.8774689547481115.\n",
      "[I 2024-07-11 10:51:22,461] Trial 68 finished with value: 0.8716907649840246 and parameters: {'scaling_method': 'minmax', 'learning_rate': 0.66742528990224, 'loss': 'square', 'n_estimators': 421}. Best is trial 26 with value: 0.8774689547481115.\n",
      "[I 2024-07-11 10:51:29,459] Trial 69 finished with value: 0.8711806391269619 and parameters: {'scaling_method': 'robust', 'learning_rate': 0.45610533109317225, 'loss': 'exponential', 'n_estimators': 177}. Best is trial 26 with value: 0.8774689547481115.\n",
      "[I 2024-07-11 10:51:43,553] Trial 70 finished with value: 0.8604723878177026 and parameters: {'scaling_method': 'minmax', 'learning_rate': 0.1357700045719079, 'loss': 'exponential', 'n_estimators': 312}. Best is trial 26 with value: 0.8774689547481115.\n",
      "[I 2024-07-11 10:51:56,766] Trial 71 finished with value: 0.8748902947900412 and parameters: {'scaling_method': 'robust', 'learning_rate': 0.8006052895231364, 'loss': 'exponential', 'n_estimators': 368}. Best is trial 26 with value: 0.8774689547481115.\n",
      "[I 2024-07-11 10:52:09,272] Trial 72 finished with value: 0.8741593632307716 and parameters: {'scaling_method': 'robust', 'learning_rate': 0.5466719825412062, 'loss': 'exponential', 'n_estimators': 357}. Best is trial 26 with value: 0.8774689547481115.\n",
      "[I 2024-07-11 10:52:25,762] Trial 73 finished with value: 0.8773038868371937 and parameters: {'scaling_method': 'robust', 'learning_rate': 0.7324346780263775, 'loss': 'exponential', 'n_estimators': 495}. Best is trial 26 with value: 0.8774689547481115.\n",
      "[I 2024-07-11 10:52:42,808] Trial 74 finished with value: 0.8728103023817614 and parameters: {'scaling_method': 'robust', 'learning_rate': 0.28660424364474213, 'loss': 'exponential', 'n_estimators': 489}. Best is trial 26 with value: 0.8774689547481115.\n",
      "[I 2024-07-11 10:52:58,511] Trial 75 finished with value: 0.8768537698737159 and parameters: {'scaling_method': 'robust', 'learning_rate': 0.6159569699983644, 'loss': 'exponential', 'n_estimators': 523}. Best is trial 26 with value: 0.8774689547481115.\n",
      "[I 2024-07-11 10:53:14,180] Trial 76 finished with value: 0.871033910355286 and parameters: {'scaling_method': 'minmax', 'learning_rate': 0.45297300087855447, 'loss': 'square', 'n_estimators': 536}. Best is trial 26 with value: 0.8774689547481115.\n",
      "[I 2024-07-11 10:53:31,724] Trial 77 finished with value: 0.8756857703504117 and parameters: {'scaling_method': 'robust', 'learning_rate': 0.6102695784252189, 'loss': 'exponential', 'n_estimators': 567}. Best is trial 26 with value: 0.8774689547481115.\n",
      "[I 2024-07-11 10:53:48,886] Trial 78 finished with value: 0.8699112685217258 and parameters: {'scaling_method': 'robust', 'learning_rate': 0.18615367713881292, 'loss': 'exponential', 'n_estimators': 462}. Best is trial 26 with value: 0.8774689547481115.\n",
      "[I 2024-07-11 10:54:08,636] Trial 79 finished with value: 0.8738386023475332 and parameters: {'scaling_method': 'minmax', 'learning_rate': 0.38655175866965585, 'loss': 'exponential', 'n_estimators': 624}. Best is trial 26 with value: 0.8774689547481115.\n",
      "[I 2024-07-11 10:54:33,727] Trial 80 finished with value: 0.7587927496319082 and parameters: {'scaling_method': 'standard', 'learning_rate': 0.001220637117550135, 'loss': 'exponential', 'n_estimators': 523}. Best is trial 26 with value: 0.8774689547481115.\n",
      "[I 2024-07-11 10:54:46,639] Trial 81 finished with value: 0.8753260440485399 and parameters: {'scaling_method': 'robust', 'learning_rate': 0.7895900113077327, 'loss': 'exponential', 'n_estimators': 419}. Best is trial 26 with value: 0.8774689547481115.\n",
      "[I 2024-07-11 10:55:01,744] Trial 82 finished with value: 0.8775511844522542 and parameters: {'scaling_method': 'robust', 'learning_rate': 0.9842429104143097, 'loss': 'exponential', 'n_estimators': 498}. Best is trial 82 with value: 0.8775511844522542.\n",
      "[I 2024-07-11 10:55:16,977] Trial 83 finished with value: 0.8768653888649058 and parameters: {'scaling_method': 'robust', 'learning_rate': 0.5545887936516265, 'loss': 'exponential', 'n_estimators': 497}. Best is trial 82 with value: 0.8775511844522542.\n",
      "[I 2024-07-11 10:55:32,512] Trial 84 finished with value: 0.8764541917233286 and parameters: {'scaling_method': 'robust', 'learning_rate': 0.5397122328062874, 'loss': 'exponential', 'n_estimators': 498}. Best is trial 82 with value: 0.8775511844522542.\n",
      "[I 2024-07-11 10:55:46,731] Trial 85 finished with value: 0.8755192115444181 and parameters: {'scaling_method': 'robust', 'learning_rate': 0.7954196138818852, 'loss': 'exponential', 'n_estimators': 472}. Best is trial 82 with value: 0.8775511844522542.\n",
      "[I 2024-07-11 10:56:07,424] Trial 86 finished with value: 0.8229320511628073 and parameters: {'scaling_method': 'minmax', 'learning_rate': 0.021670516207137287, 'loss': 'exponential', 'n_estimators': 450}. Best is trial 82 with value: 0.8775511844522542.\n",
      "[I 2024-07-11 10:56:23,880] Trial 87 finished with value: 0.8736728684553267 and parameters: {'scaling_method': 'robust', 'learning_rate': 0.4094456788185815, 'loss': 'exponential', 'n_estimators': 510}. Best is trial 82 with value: 0.8775511844522542.\n",
      "[I 2024-07-11 10:56:42,575] Trial 88 finished with value: 0.8735771859100904 and parameters: {'scaling_method': 'robust', 'learning_rate': 0.30435389237586424, 'loss': 'exponential', 'n_estimators': 566}. Best is trial 82 with value: 0.8775511844522542.\n",
      "[I 2024-07-11 10:56:55,645] Trial 89 finished with value: 0.8747657538076952 and parameters: {'scaling_method': 'minmax', 'learning_rate': 0.5864342186924776, 'loss': 'exponential', 'n_estimators': 419}. Best is trial 82 with value: 0.8775511844522542.\n",
      "[I 2024-07-11 10:57:06,635] Trial 90 finished with value: 0.874466812619012 and parameters: {'scaling_method': 'robust', 'learning_rate': 0.8040266749416327, 'loss': 'square', 'n_estimators': 387}. Best is trial 82 with value: 0.8775511844522542.\n",
      "[I 2024-07-11 10:57:21,989] Trial 91 finished with value: 0.8748032286472197 and parameters: {'scaling_method': 'robust', 'learning_rate': 0.5323314928558819, 'loss': 'exponential', 'n_estimators': 492}. Best is trial 82 with value: 0.8775511844522542.\n",
      "[I 2024-07-11 10:57:37,739] Trial 92 finished with value: 0.8756315497200952 and parameters: {'scaling_method': 'robust', 'learning_rate': 0.552900027585938, 'loss': 'exponential', 'n_estimators': 503}. Best is trial 82 with value: 0.8775511844522542.\n",
      "[I 2024-07-11 10:57:54,535] Trial 93 finished with value: 0.8770153399861427 and parameters: {'scaling_method': 'robust', 'learning_rate': 0.655820926634158, 'loss': 'exponential', 'n_estimators': 555}. Best is trial 82 with value: 0.8775511844522542.\n",
      "[I 2024-07-11 10:58:12,911] Trial 94 finished with value: 0.8769388067004709 and parameters: {'scaling_method': 'robust', 'learning_rate': 0.6870308871223091, 'loss': 'exponential', 'n_estimators': 619}. Best is trial 82 with value: 0.8775511844522542.\n",
      "[I 2024-07-11 10:58:31,308] Trial 95 finished with value: 0.8770736896380551 and parameters: {'scaling_method': 'robust', 'learning_rate': 0.691688714584801, 'loss': 'exponential', 'n_estimators': 616}. Best is trial 82 with value: 0.8775511844522542.\n",
      "[I 2024-07-11 10:58:50,739] Trial 96 finished with value: 0.8746343339967642 and parameters: {'scaling_method': 'robust', 'learning_rate': 0.41023442098925417, 'loss': 'exponential', 'n_estimators': 623}. Best is trial 82 with value: 0.8775511844522542.\n",
      "[I 2024-07-11 10:59:11,178] Trial 97 finished with value: 0.8729984942718783 and parameters: {'scaling_method': 'robust', 'learning_rate': 0.23449684172005805, 'loss': 'exponential', 'n_estimators': 614}. Best is trial 82 with value: 0.8775511844522542.\n",
      "[I 2024-07-11 10:59:30,890] Trial 98 finished with value: 0.8764977139331265 and parameters: {'scaling_method': 'robust', 'learning_rate': 0.6865592395012662, 'loss': 'exponential', 'n_estimators': 659}. Best is trial 82 with value: 0.8775511844522542.\n"
     ]
    },
    {
     "name": "stderr",
     "output_type": "stream",
     "text": [
      "[I 2024-07-11 10:59:47,274] Trial 99 finished with value: 0.8755423740862455 and parameters: {'scaling_method': 'standard', 'learning_rate': 0.6824973622380154, 'loss': 'exponential', 'n_estimators': 542}. Best is trial 82 with value: 0.8775511844522542.\n",
      "[I 2024-07-11 11:00:06,178] Trial 100 finished with value: 0.8741854500914303 and parameters: {'scaling_method': 'robust', 'learning_rate': 0.3442583725470405, 'loss': 'exponential', 'n_estimators': 577}. Best is trial 82 with value: 0.8775511844522542.\n",
      "[I 2024-07-11 11:00:22,301] Trial 101 finished with value: 0.8784307245353414 and parameters: {'scaling_method': 'robust', 'learning_rate': 0.9823573285403469, 'loss': 'exponential', 'n_estimators': 551}. Best is trial 101 with value: 0.8784307245353414.\n",
      "[I 2024-07-11 11:00:38,842] Trial 102 finished with value: 0.8766441784818184 and parameters: {'scaling_method': 'robust', 'learning_rate': 0.7922773598535326, 'loss': 'exponential', 'n_estimators': 554}. Best is trial 101 with value: 0.8784307245353414.\n",
      "[I 2024-07-11 11:00:57,267] Trial 103 finished with value: 0.8759270061876194 and parameters: {'scaling_method': 'robust', 'learning_rate': 0.4869347952540624, 'loss': 'exponential', 'n_estimators': 601}. Best is trial 101 with value: 0.8784307245353414.\n",
      "[I 2024-07-11 11:01:12,702] Trial 104 finished with value: 0.8768976616467004 and parameters: {'scaling_method': 'robust', 'learning_rate': 0.8793225152300292, 'loss': 'exponential', 'n_estimators': 523}. Best is trial 101 with value: 0.8784307245353414.\n",
      "[I 2024-07-11 11:01:31,528] Trial 105 finished with value: 0.8774322460670765 and parameters: {'scaling_method': 'robust', 'learning_rate': 0.8641285036252444, 'loss': 'exponential', 'n_estimators': 642}. Best is trial 101 with value: 0.8784307245353414.\n",
      "[I 2024-07-11 11:01:51,353] Trial 106 finished with value: 0.8781587017319058 and parameters: {'scaling_method': 'robust', 'learning_rate': 0.8634209813429377, 'loss': 'exponential', 'n_estimators': 674}. Best is trial 101 with value: 0.8784307245353414.\n",
      "[I 2024-07-11 11:02:10,586] Trial 107 finished with value: 0.8785500462676021 and parameters: {'scaling_method': 'robust', 'learning_rate': 0.993622231586981, 'loss': 'exponential', 'n_estimators': 673}. Best is trial 107 with value: 0.8785500462676021.\n",
      "[I 2024-07-11 11:02:30,790] Trial 108 finished with value: 0.878155927967569 and parameters: {'scaling_method': 'robust', 'learning_rate': 0.9922382544508539, 'loss': 'exponential', 'n_estimators': 701}. Best is trial 107 with value: 0.8785500462676021.\n",
      "[I 2024-07-11 11:02:51,047] Trial 109 finished with value: 0.8772911650195626 and parameters: {'scaling_method': 'robust', 'learning_rate': 0.9663977981564926, 'loss': 'exponential', 'n_estimators': 707}. Best is trial 107 with value: 0.8785500462676021.\n",
      "[I 2024-07-11 11:03:11,146] Trial 110 finished with value: 0.8776377121008918 and parameters: {'scaling_method': 'robust', 'learning_rate': 0.8969341621091251, 'loss': 'exponential', 'n_estimators': 706}. Best is trial 107 with value: 0.8785500462676021.\n",
      "[I 2024-07-11 11:03:31,105] Trial 111 finished with value: 0.8788053275441399 and parameters: {'scaling_method': 'robust', 'learning_rate': 0.9916505588488733, 'loss': 'exponential', 'n_estimators': 698}. Best is trial 111 with value: 0.8788053275441399.\n",
      "[I 2024-07-11 11:03:52,026] Trial 112 finished with value: 0.8775225166086329 and parameters: {'scaling_method': 'robust', 'learning_rate': 0.9999209557732043, 'loss': 'exponential', 'n_estimators': 737}. Best is trial 111 with value: 0.8788053275441399.\n",
      "[I 2024-07-11 11:04:13,473] Trial 113 finished with value: 0.8787498932404467 and parameters: {'scaling_method': 'robust', 'learning_rate': 0.8138052681532612, 'loss': 'exponential', 'n_estimators': 743}. Best is trial 111 with value: 0.8788053275441399.\n",
      "[I 2024-07-11 11:04:35,188] Trial 114 finished with value: 0.8777874895852149 and parameters: {'scaling_method': 'robust', 'learning_rate': 0.8223889353289638, 'loss': 'exponential', 'n_estimators': 743}. Best is trial 111 with value: 0.8788053275441399.\n",
      "[I 2024-07-11 11:05:10,187] Trial 115 finished with value: 0.7832985632860242 and parameters: {'scaling_method': 'robust', 'learning_rate': 0.0035113886205828666, 'loss': 'exponential', 'n_estimators': 743}. Best is trial 111 with value: 0.8788053275441399.\n",
      "[I 2024-07-11 11:05:33,449] Trial 116 finished with value: 0.8781135990937703 and parameters: {'scaling_method': 'robust', 'learning_rate': 0.9811426030798704, 'loss': 'exponential', 'n_estimators': 820}. Best is trial 111 with value: 0.8788053275441399.\n",
      "[I 2024-07-11 11:05:55,089] Trial 117 finished with value: 0.8772684155526249 and parameters: {'scaling_method': 'robust', 'learning_rate': 0.9882771178976382, 'loss': 'square', 'n_estimators': 804}. Best is trial 111 with value: 0.8788053275441399.\n",
      "[I 2024-07-11 11:06:15,164] Trial 118 finished with value: 0.8779581161060639 and parameters: {'scaling_method': 'standard', 'learning_rate': 0.8074998258358976, 'loss': 'exponential', 'n_estimators': 687}. Best is trial 111 with value: 0.8788053275441399.\n",
      "[I 2024-07-11 11:06:35,852] Trial 119 finished with value: 0.8747557325369144 and parameters: {'scaling_method': 'standard', 'learning_rate': 0.47850768030248575, 'loss': 'exponential', 'n_estimators': 680}. Best is trial 111 with value: 0.8788053275441399.\n",
      "[I 2024-07-11 11:06:57,078] Trial 120 finished with value: 0.8772030933655168 and parameters: {'scaling_method': 'standard', 'learning_rate': 0.7916263068775381, 'loss': 'exponential', 'n_estimators': 734}. Best is trial 111 with value: 0.8788053275441399.\n",
      "[I 2024-07-11 11:07:17,165] Trial 121 finished with value: 0.8776429568595665 and parameters: {'scaling_method': 'standard', 'learning_rate': 0.8303486924539136, 'loss': 'exponential', 'n_estimators': 703}. Best is trial 111 with value: 0.8788053275441399.\n",
      "[I 2024-07-11 11:07:38,997] Trial 122 finished with value: 0.8782082958081572 and parameters: {'scaling_method': 'standard', 'learning_rate': 0.852210957588143, 'loss': 'exponential', 'n_estimators': 759}. Best is trial 111 with value: 0.8788053275441399.\n",
      "[I 2024-07-11 11:08:01,942] Trial 123 finished with value: 0.8775148857489483 and parameters: {'scaling_method': 'standard', 'learning_rate': 0.804458581203198, 'loss': 'exponential', 'n_estimators': 797}. Best is trial 111 with value: 0.8788053275441399.\n",
      "[I 2024-07-11 11:08:24,865] Trial 124 finished with value: 0.8772414135552825 and parameters: {'scaling_method': 'standard', 'learning_rate': 0.6026380381515393, 'loss': 'exponential', 'n_estimators': 760}. Best is trial 111 with value: 0.8788053275441399.\n",
      "[I 2024-07-11 11:08:46,729] Trial 125 finished with value: 0.8745259716389653 and parameters: {'scaling_method': 'standard', 'learning_rate': 0.43499558554157136, 'loss': 'exponential', 'n_estimators': 703}. Best is trial 111 with value: 0.8788053275441399.\n",
      "[I 2024-07-11 11:09:10,576] Trial 126 finished with value: 0.8773176000590712 and parameters: {'scaling_method': 'standard', 'learning_rate': 0.7225113355843297, 'loss': 'exponential', 'n_estimators': 834}. Best is trial 111 with value: 0.8788053275441399.\n",
      "[I 2024-07-11 11:09:30,549] Trial 127 finished with value: 0.8768755370465797 and parameters: {'scaling_method': 'standard', 'learning_rate': 0.8507269478442291, 'loss': 'exponential', 'n_estimators': 694}. Best is trial 111 with value: 0.8788053275441399.\n",
      "[I 2024-07-11 11:09:57,745] Trial 128 finished with value: 0.8759073724904368 and parameters: {'scaling_method': 'standard', 'learning_rate': 0.5044922542673906, 'loss': 'exponential', 'n_estimators': 920}. Best is trial 111 with value: 0.8788053275441399.\n",
      "[I 2024-07-11 11:10:32,146] Trial 129 finished with value: 0.7509173406424778 and parameters: {'scaling_method': 'standard', 'learning_rate': 0.0004473033557224515, 'loss': 'exponential', 'n_estimators': 719}. Best is trial 111 with value: 0.8788053275441399.\n",
      "[I 2024-07-11 11:10:52,079] Trial 130 finished with value: 0.8759411879279881 and parameters: {'scaling_method': 'standard', 'learning_rate': 0.6096968628987345, 'loss': 'exponential', 'n_estimators': 668}. Best is trial 111 with value: 0.8788053275441399.\n",
      "[I 2024-07-11 11:11:12,644] Trial 131 finished with value: 0.878369692131369 and parameters: {'scaling_method': 'standard', 'learning_rate': 0.9943049487800114, 'loss': 'exponential', 'n_estimators': 735}. Best is trial 111 with value: 0.8788053275441399.\n"
     ]
    },
    {
     "name": "stderr",
     "output_type": "stream",
     "text": [
      "[I 2024-07-11 11:11:34,443] Trial 132 finished with value: 0.8789121090590954 and parameters: {'scaling_method': 'standard', 'learning_rate': 0.8352590820357012, 'loss': 'exponential', 'n_estimators': 757}. Best is trial 132 with value: 0.8789121090590954.\n",
      "[I 2024-07-11 11:11:56,772] Trial 133 finished with value: 0.8784909552130827 and parameters: {'scaling_method': 'standard', 'learning_rate': 0.8010041338257811, 'loss': 'exponential', 'n_estimators': 779}. Best is trial 132 with value: 0.8789121090590954.\n",
      "[I 2024-07-11 11:12:19,278] Trial 134 finished with value: 0.8775812064170531 and parameters: {'scaling_method': 'standard', 'learning_rate': 0.7387433824515962, 'loss': 'exponential', 'n_estimators': 777}. Best is trial 132 with value: 0.8789121090590954.\n",
      "[I 2024-07-11 11:12:44,967] Trial 135 finished with value: 0.8767630733335983 and parameters: {'scaling_method': 'standard', 'learning_rate': 0.6221177189781719, 'loss': 'exponential', 'n_estimators': 829}. Best is trial 132 with value: 0.8789121090590954.\n",
      "[I 2024-07-11 11:13:08,272] Trial 136 finished with value: 0.8766030230600839 and parameters: {'scaling_method': 'standard', 'learning_rate': 0.4069297160008308, 'loss': 'exponential', 'n_estimators': 765}. Best is trial 132 with value: 0.8789121090590954.\n",
      "[I 2024-07-11 11:13:30,233] Trial 137 finished with value: 0.8775874578910304 and parameters: {'scaling_method': 'standard', 'learning_rate': 0.8199711207993643, 'loss': 'exponential', 'n_estimators': 750}. Best is trial 132 with value: 0.8789121090590954.\n",
      "[I 2024-07-11 11:13:54,113] Trial 138 finished with value: 0.8757120679707118 and parameters: {'scaling_method': 'standard', 'learning_rate': 0.4959326662176254, 'loss': 'exponential', 'n_estimators': 789}. Best is trial 132 with value: 0.8789121090590954.\n",
      "[I 2024-07-11 11:14:19,740] Trial 139 finished with value: 0.8770499646745427 and parameters: {'scaling_method': 'standard', 'learning_rate': 0.5810871995421931, 'loss': 'exponential', 'n_estimators': 856}. Best is trial 132 with value: 0.8789121090590954.\n",
      "[I 2024-07-11 11:14:43,618] Trial 140 finished with value: 0.8786322829017787 and parameters: {'scaling_method': 'standard', 'learning_rate': 0.9984831300672693, 'loss': 'exponential', 'n_estimators': 814}. Best is trial 132 with value: 0.8789121090590954.\n",
      "[I 2024-07-11 11:15:05,115] Trial 141 finished with value: 0.8771604765379468 and parameters: {'scaling_method': 'standard', 'learning_rate': 0.8105913371791393, 'loss': 'exponential', 'n_estimators': 719}. Best is trial 132 with value: 0.8789121090590954.\n",
      "[I 2024-07-11 11:15:28,012] Trial 142 finished with value: 0.8786830122986112 and parameters: {'scaling_method': 'standard', 'learning_rate': 0.9929106759191206, 'loss': 'exponential', 'n_estimators': 814}. Best is trial 132 with value: 0.8789121090590954.\n",
      "[I 2024-07-11 11:15:51,295] Trial 143 finished with value: 0.876396234457928 and parameters: {'scaling_method': 'standard', 'learning_rate': 0.6821903959341952, 'loss': 'exponential', 'n_estimators': 819}. Best is trial 132 with value: 0.8789121090590954.\n",
      "[I 2024-07-11 11:16:17,158] Trial 144 finished with value: 0.8774401147440084 and parameters: {'scaling_method': 'standard', 'learning_rate': 0.7292166553006982, 'loss': 'exponential', 'n_estimators': 902}. Best is trial 132 with value: 0.8789121090590954.\n",
      "[I 2024-07-11 11:16:41,347] Trial 145 finished with value: 0.8776354575428428 and parameters: {'scaling_method': 'standard', 'learning_rate': 0.9473219572201728, 'loss': 'exponential', 'n_estimators': 855}. Best is trial 132 with value: 0.8789121090590954.\n",
      "[I 2024-07-11 11:17:03,214] Trial 146 finished with value: 0.8781948699314516 and parameters: {'scaling_method': 'standard', 'learning_rate': 0.9798681013271027, 'loss': 'exponential', 'n_estimators': 785}. Best is trial 132 with value: 0.8789121090590954.\n",
      "[I 2024-07-11 11:17:25,158] Trial 147 finished with value: 0.8779887854610479 and parameters: {'scaling_method': 'standard', 'learning_rate': 0.9983192474573418, 'loss': 'exponential', 'n_estimators': 784}. Best is trial 132 with value: 0.8789121090590954.\n",
      "[I 2024-07-11 11:17:57,574] Trial 148 finished with value: 0.8632188585178311 and parameters: {'scaling_method': 'standard', 'learning_rate': 0.05622771872230982, 'loss': 'exponential', 'n_estimators': 809}. Best is trial 132 with value: 0.8789121090590954.\n",
      "[I 2024-07-11 11:18:19,892] Trial 149 finished with value: 0.878678740189504 and parameters: {'scaling_method': 'standard', 'learning_rate': 0.9973429891500425, 'loss': 'exponential', 'n_estimators': 782}. Best is trial 132 with value: 0.8789121090590954.\n",
      "[I 2024-07-11 11:18:54,982] Trial 150 finished with value: 0.8153899977848165 and parameters: {'scaling_method': 'standard', 'learning_rate': 0.008022771755776566, 'loss': 'square', 'n_estimators': 765}. Best is trial 132 with value: 0.8789121090590954.\n",
      "[I 2024-07-11 11:19:17,040] Trial 151 finished with value: 0.8788144341966687 and parameters: {'scaling_method': 'standard', 'learning_rate': 0.9539377983303384, 'loss': 'exponential', 'n_estimators': 789}. Best is trial 132 with value: 0.8789121090590954.\n",
      "[I 2024-07-11 11:19:41,687] Trial 152 finished with value: 0.8765910522430573 and parameters: {'scaling_method': 'standard', 'learning_rate': 0.6402187115343636, 'loss': 'exponential', 'n_estimators': 848}. Best is trial 132 with value: 0.8789121090590954.\n",
      "[I 2024-07-11 11:20:06,280] Trial 153 finished with value: 0.87857996248323 and parameters: {'scaling_method': 'standard', 'learning_rate': 0.9935933769235985, 'loss': 'exponential', 'n_estimators': 872}. Best is trial 132 with value: 0.8789121090590954.\n",
      "[I 2024-07-11 11:20:32,519] Trial 154 finished with value: 0.8776841314288237 and parameters: {'scaling_method': 'standard', 'learning_rate': 0.5397311450312943, 'loss': 'exponential', 'n_estimators': 886}. Best is trial 132 with value: 0.8789121090590954.\n",
      "[I 2024-07-11 11:20:59,834] Trial 155 finished with value: 0.8776664476393343 and parameters: {'scaling_method': 'standard', 'learning_rate': 0.7611628243691911, 'loss': 'exponential', 'n_estimators': 969}. Best is trial 132 with value: 0.8789121090590954.\n",
      "[I 2024-07-11 11:21:22,035] Trial 156 finished with value: 0.8787252845482163 and parameters: {'scaling_method': 'standard', 'learning_rate': 0.9904713833552891, 'loss': 'exponential', 'n_estimators': 796}. Best is trial 132 with value: 0.8789121090590954.\n",
      "[I 2024-07-11 11:21:45,608] Trial 157 finished with value: 0.877206586015262 and parameters: {'scaling_method': 'standard', 'learning_rate': 0.6509681632307878, 'loss': 'exponential', 'n_estimators': 796}. Best is trial 132 with value: 0.8789121090590954.\n",
      "[I 2024-07-11 11:22:08,547] Trial 158 finished with value: 0.8767132244608133 and parameters: {'scaling_method': 'standard', 'learning_rate': 0.6953196253428368, 'loss': 'exponential', 'n_estimators': 781}. Best is trial 132 with value: 0.8789121090590954.\n",
      "[I 2024-07-11 11:22:34,104] Trial 159 finished with value: 0.8769036387284057 and parameters: {'scaling_method': 'standard', 'learning_rate': 0.5550038365648847, 'loss': 'exponential', 'n_estimators': 871}. Best is trial 132 with value: 0.8789121090590954.\n",
      "[I 2024-07-11 11:22:54,586] Trial 160 finished with value: 0.8786300120327925 and parameters: {'scaling_method': 'standard', 'learning_rate': 0.9998042246738703, 'loss': 'exponential', 'n_estimators': 731}. Best is trial 132 with value: 0.8789121090590954.\n",
      "[I 2024-07-11 11:23:15,800] Trial 161 finished with value: 0.8787048503783998 and parameters: {'scaling_method': 'standard', 'learning_rate': 0.9968047883162283, 'loss': 'exponential', 'n_estimators': 751}. Best is trial 132 with value: 0.8789121090590954.\n",
      "[I 2024-07-11 11:23:37,176] Trial 162 finished with value: 0.8776505941197901 and parameters: {'scaling_method': 'standard', 'learning_rate': 0.9958428857300197, 'loss': 'exponential', 'n_estimators': 756}. Best is trial 132 with value: 0.8789121090590954.\n",
      "[I 2024-07-11 11:23:58,351] Trial 163 finished with value: 0.8769114001492475 and parameters: {'scaling_method': 'standard', 'learning_rate': 0.8292123276207858, 'loss': 'exponential', 'n_estimators': 732}. Best is trial 132 with value: 0.8789121090590954.\n"
     ]
    },
    {
     "name": "stderr",
     "output_type": "stream",
     "text": [
      "[I 2024-07-11 11:24:21,982] Trial 164 finished with value: 0.877314124477112 and parameters: {'scaling_method': 'standard', 'learning_rate': 0.6969213931778901, 'loss': 'exponential', 'n_estimators': 813}. Best is trial 132 with value: 0.8789121090590954.\n",
      "[I 2024-07-11 11:24:43,855] Trial 165 finished with value: 0.8783884937280501 and parameters: {'scaling_method': 'standard', 'learning_rate': 0.9961532780615195, 'loss': 'exponential', 'n_estimators': 776}. Best is trial 132 with value: 0.8789121090590954.\n",
      "[I 2024-07-11 11:25:05,211] Trial 166 finished with value: 0.8776096219390913 and parameters: {'scaling_method': 'standard', 'learning_rate': 0.8085737259790674, 'loss': 'exponential', 'n_estimators': 757}. Best is trial 132 with value: 0.8789121090590954.\n",
      "[I 2024-07-11 11:25:26,740] Trial 167 finished with value: 0.8764420998120311 and parameters: {'scaling_method': 'standard', 'learning_rate': 0.6410036971290285, 'loss': 'exponential', 'n_estimators': 733}. Best is trial 132 with value: 0.8789121090590954.\n",
      "[I 2024-07-11 11:25:49,687] Trial 168 finished with value: 0.8782200709514273 and parameters: {'scaling_method': 'standard', 'learning_rate': 0.9828416988463023, 'loss': 'exponential', 'n_estimators': 809}. Best is trial 132 with value: 0.8789121090590954.\n",
      "[I 2024-07-11 11:26:12,730] Trial 169 finished with value: 0.8779144679251953 and parameters: {'scaling_method': 'standard', 'learning_rate': 0.9776153864689727, 'loss': 'exponential', 'n_estimators': 808}. Best is trial 132 with value: 0.8789121090590954.\n",
      "[I 2024-07-11 11:26:37,504] Trial 170 finished with value: 0.876857380412671 and parameters: {'scaling_method': 'standard', 'learning_rate': 0.7289782507597442, 'loss': 'exponential', 'n_estimators': 842}. Best is trial 132 with value: 0.8789121090590954.\n",
      "[I 2024-07-11 11:26:59,535] Trial 171 finished with value: 0.8765695802155594 and parameters: {'scaling_method': 'standard', 'learning_rate': 0.8408936897594317, 'loss': 'exponential', 'n_estimators': 770}. Best is trial 132 with value: 0.8789121090590954.\n",
      "[I 2024-07-11 11:27:22,118] Trial 172 finished with value: 0.8779119640463191 and parameters: {'scaling_method': 'standard', 'learning_rate': 0.8304955414403217, 'loss': 'exponential', 'n_estimators': 799}. Best is trial 132 with value: 0.8789121090590954.\n",
      "[I 2024-07-11 11:27:42,857] Trial 173 finished with value: 0.8774754100618297 and parameters: {'scaling_method': 'standard', 'learning_rate': 0.9989128939807453, 'loss': 'exponential', 'n_estimators': 721}. Best is trial 132 with value: 0.8789121090590954.\n",
      "[I 2024-07-11 11:28:05,185] Trial 174 finished with value: 0.8767291536249442 and parameters: {'scaling_method': 'standard', 'learning_rate': 0.5746599739557579, 'loss': 'exponential', 'n_estimators': 746}. Best is trial 132 with value: 0.8789121090590954.\n",
      "[I 2024-07-11 11:28:29,377] Trial 175 finished with value: 0.8777378526419974 and parameters: {'scaling_method': 'standard', 'learning_rate': 0.7116818593836018, 'loss': 'exponential', 'n_estimators': 828}. Best is trial 132 with value: 0.8789121090590954.\n",
      "[I 2024-07-11 11:28:59,578] Trial 176 finished with value: 0.856136347714911 and parameters: {'scaling_method': 'standard', 'learning_rate': 0.038305052880680014, 'loss': 'square', 'n_estimators': 776}. Best is trial 132 with value: 0.8789121090590954.\n",
      "[I 2024-07-11 11:29:25,523] Trial 177 finished with value: 0.8764361156133724 and parameters: {'scaling_method': 'standard', 'learning_rate': 0.47213728834832547, 'loss': 'exponential', 'n_estimators': 869}. Best is trial 132 with value: 0.8789121090590954.\n",
      "[I 2024-07-11 11:29:47,619] Trial 178 finished with value: 0.8781919369950074 and parameters: {'scaling_method': 'standard', 'learning_rate': 0.8339226819555613, 'loss': 'exponential', 'n_estimators': 758}. Best is trial 132 with value: 0.8789121090590954.\n",
      "[I 2024-07-11 11:30:11,022] Trial 179 finished with value: 0.8763118921400522 and parameters: {'scaling_method': 'standard', 'learning_rate': 0.6217774551647794, 'loss': 'exponential', 'n_estimators': 794}. Best is trial 132 with value: 0.8789121090590954.\n",
      "[I 2024-07-11 11:30:31,960] Trial 180 finished with value: 0.8782009675368251 and parameters: {'scaling_method': 'standard', 'learning_rate': 0.8111623516963283, 'loss': 'exponential', 'n_estimators': 725}. Best is trial 132 with value: 0.8789121090590954.\n",
      "[I 2024-07-11 11:30:52,359] Trial 181 finished with value: 0.8792409430087831 and parameters: {'scaling_method': 'standard', 'learning_rate': 0.9881740000132552, 'loss': 'exponential', 'n_estimators': 722}. Best is trial 181 with value: 0.8792409430087831.\n",
      "[I 2024-07-11 11:31:13,684] Trial 182 finished with value: 0.878870988239669 and parameters: {'scaling_method': 'standard', 'learning_rate': 0.9913734085003706, 'loss': 'exponential', 'n_estimators': 752}. Best is trial 181 with value: 0.8792409430087831.\n",
      "[I 2024-07-11 11:31:34,666] Trial 183 finished with value: 0.878188528123143 and parameters: {'scaling_method': 'standard', 'learning_rate': 0.9622465792687802, 'loss': 'exponential', 'n_estimators': 739}. Best is trial 181 with value: 0.8792409430087831.\n",
      "[I 2024-07-11 11:31:56,664] Trial 184 finished with value: 0.8789422236887031 and parameters: {'scaling_method': 'standard', 'learning_rate': 0.988115944219485, 'loss': 'exponential', 'n_estimators': 777}. Best is trial 181 with value: 0.8792409430087831.\n",
      "[I 2024-07-11 11:32:17,403] Trial 185 finished with value: 0.8757602223853146 and parameters: {'scaling_method': 'standard', 'learning_rate': 0.7189133945052697, 'loss': 'exponential', 'n_estimators': 715}. Best is trial 181 with value: 0.8792409430087831.\n",
      "[I 2024-07-11 11:32:37,292] Trial 186 finished with value: 0.8772037045694185 and parameters: {'scaling_method': 'standard', 'learning_rate': 0.7530145507399147, 'loss': 'exponential', 'n_estimators': 688}. Best is trial 181 with value: 0.8792409430087831.\n",
      "[I 2024-07-11 11:32:58,875] Trial 187 finished with value: 0.8776250353106851 and parameters: {'scaling_method': 'standard', 'learning_rate': 0.9952965588452898, 'loss': 'exponential', 'n_estimators': 777}. Best is trial 181 with value: 0.8792409430087831.\n",
      "[I 2024-07-11 11:33:20,422] Trial 188 finished with value: 0.876109651873414 and parameters: {'scaling_method': 'standard', 'learning_rate': 0.6053149263695642, 'loss': 'exponential', 'n_estimators': 741}. Best is trial 181 with value: 0.8792409430087831.\n",
      "[I 2024-07-11 11:33:43,957] Trial 189 finished with value: 0.8769908290688093 and parameters: {'scaling_method': 'standard', 'learning_rate': 0.8393110069887408, 'loss': 'exponential', 'n_estimators': 827}. Best is trial 181 with value: 0.8792409430087831.\n",
      "[I 2024-07-11 11:34:12,207] Trial 190 finished with value: 0.8773965044137656 and parameters: {'scaling_method': 'standard', 'learning_rate': 0.660149166139946, 'loss': 'exponential', 'n_estimators': 993}. Best is trial 181 with value: 0.8792409430087831.\n",
      "[I 2024-07-11 11:34:35,524] Trial 191 finished with value: 0.8775548441393806 and parameters: {'scaling_method': 'standard', 'learning_rate': 0.9903434416870917, 'loss': 'exponential', 'n_estimators': 811}. Best is trial 181 with value: 0.8792409430087831.\n",
      "[I 2024-07-11 11:34:58,342] Trial 192 finished with value: 0.8768366628384807 and parameters: {'scaling_method': 'standard', 'learning_rate': 0.8345018870806789, 'loss': 'exponential', 'n_estimators': 795}. Best is trial 181 with value: 0.8792409430087831.\n",
      "[I 2024-07-11 11:35:20,003] Trial 193 finished with value: 0.8779299355073886 and parameters: {'scaling_method': 'standard', 'learning_rate': 0.9945356432293827, 'loss': 'exponential', 'n_estimators': 769}. Best is trial 181 with value: 0.8792409430087831.\n",
      "[I 2024-07-11 11:35:39,351] Trial 194 finished with value: 0.8779482527593346 and parameters: {'scaling_method': 'standard', 'learning_rate': 0.7481310299670192, 'loss': 'exponential', 'n_estimators': 660}. Best is trial 181 with value: 0.8792409430087831.\n",
      "[I 2024-07-11 11:36:00,737] Trial 195 finished with value: 0.8777028440903779 and parameters: {'scaling_method': 'standard', 'learning_rate': 0.999219496080201, 'loss': 'exponential', 'n_estimators': 753}. Best is trial 181 with value: 0.8792409430087831.\n"
     ]
    },
    {
     "name": "stderr",
     "output_type": "stream",
     "text": [
      "[I 2024-07-11 11:36:23,321] Trial 196 finished with value: 0.8775997675038696 and parameters: {'scaling_method': 'standard', 'learning_rate': 0.8183212979242331, 'loss': 'exponential', 'n_estimators': 785}. Best is trial 181 with value: 0.8792409430087831.\n",
      "[I 2024-07-11 11:36:44,409] Trial 197 finished with value: 0.8772858334424631 and parameters: {'scaling_method': 'standard', 'learning_rate': 0.6852454265319394, 'loss': 'exponential', 'n_estimators': 723}. Best is trial 181 with value: 0.8792409430087831.\n",
      "[I 2024-07-11 11:37:08,941] Trial 198 finished with value: 0.8790900930250967 and parameters: {'scaling_method': 'standard', 'learning_rate': 0.9979311630287945, 'loss': 'exponential', 'n_estimators': 891}. Best is trial 181 with value: 0.8792409430087831.\n",
      "[I 2024-07-11 11:37:33,847] Trial 199 finished with value: 0.8759669000868548 and parameters: {'scaling_method': 'standard', 'learning_rate': 0.5465691089452047, 'loss': 'exponential', 'n_estimators': 846}. Best is trial 181 with value: 0.8792409430087831.\n"
     ]
    }
   ],
   "source": [
    "from optuna import create_study\n",
    "\n",
    "study_xgb = create_study(study_name='optimization', direction='maximize')\n",
    "\n",
    "study_xgb.optimize(lambda trial: objective_xgb(trial, X, y), n_trials=200)"
   ]
  },
  {
   "cell_type": "code",
   "execution_count": 28,
   "id": "e2dbafb0",
   "metadata": {},
   "outputs": [
    {
     "name": "stdout",
     "output_type": "stream",
     "text": [
      "0.951622985121114\n",
      "{'scaling_method': 'minmax', 'encoding_method': 'onehot', 'drop': None, 'n_estimators': 979, 'learning_rate': 0.046054720840163293, 'max_depth': 4, 'subsample': 0.8282908794962028, 'colsample_bytree': 0.5510975070017484, 'min_child_weight': 10}\n"
     ]
    }
   ],
   "source": [
    "print(study_xgb.best_value)\n",
    "print(study_xgb.best_params)"
   ]
  },
  {
   "cell_type": "code",
   "execution_count": null,
   "id": "365bffc7",
   "metadata": {},
   "outputs": [],
   "source": [
    "trial_number = []\n",
    "score = []\n",
    "parameters = []\n",
    "optuna_dict = {}\n",
    "trials = range(200)\n",
    "\n",
    "for trial in trials:\n",
    "    trial_number.append(study_lasso.get_trials()[trial].number)\n",
    "    score.append(study_lasso.get_trials()[trial].value)\n",
    "    parameters.append(list(study_lasso.get_trials()[trial].params.items()))\n",
    "\n",
    "optuna_dict['Trial'] = trial_number\n",
    "optuna_dict['Score'] = score\n",
    "optuna_dict['Parameters'] = parameters\n",
    "\n",
    "optuna_lasso = pd.DataFrame.from_dict(optuna_dict)\n",
    "optuna_lasso"
   ]
  },
  {
   "cell_type": "code",
   "execution_count": null,
   "id": "9e197929",
   "metadata": {},
   "outputs": [],
   "source": [
    "fig = px.scatter(optuna_lasso,\n",
    "                 x=\"Trial\", \n",
    "                 y=\"Score\", \n",
    "                 hover_data=['Parameters'],\n",
    "                labels = {'Trial': 'Optuna Trial', 'Score': 'Score (R-Squared)'},\n",
    "                title = 'Lasso tuned with Optuna after 200 trials  <br><sup> Best Score: 0.9508</sup>')\n",
    "\n",
    "fig.update_layout(\n",
    "    hoverlabel=dict(\n",
    "        bgcolor=\"white\",\n",
    "        font_size=8,\n",
    "        font_family=\"Rockwell\"\n",
    "    )\n",
    ")\n",
    "\n",
    "fig.show()"
   ]
  },
  {
   "cell_type": "markdown",
   "id": "13c9821b",
   "metadata": {},
   "source": [
    "# RF"
   ]
  },
  {
   "cell_type": "code",
   "execution_count": 37,
   "id": "47153b24",
   "metadata": {},
   "outputs": [],
   "source": [
    "def instantiate_rf(trial : Trial) -> RandomForestRegressor:\n",
    "    params = {\n",
    "    'bootstrap':trial.suggest_categorical('bootstrap', [True]),\n",
    "    'n_estimators': trial.suggest_int('n_estimators', 250, 500),\n",
    "    'max_depth': trial.suggest_int('max_depth', 50, 75),\n",
    "    'min_samples_split': trial.suggest_int('min_samples_split', 4, 6),\n",
    "    'min_samples_leaf': trial.suggest_int('min_samples_leaf', 1, 5)\n",
    "    }\n",
    "    \n",
    "    return RandomForestRegressor(**params)\n",
    "  \n",
    "def instantiate_model(trial : Trial, numerical_columns : list[str], \n",
    "                      categorical_columns : list[str]) -> Pipeline:\n",
    "    \n",
    "    processor = instantiate_processor_ordinal(\n",
    "        trial, numerical_columns, categorical_columns\n",
    "    )\n",
    "    \n",
    "    learner = instantiate_rf(trial)\n",
    "    \n",
    "    model_pipe = Pipeline([\n",
    "    ('processor', processor),\n",
    "    ('model', learner)\n",
    "    ])\n",
    "    \n",
    "    model = compose.TransformedTargetRegressor(regressor= model_pipe,\n",
    "                                                func=np.log, inverse_func=np.exp)\n",
    "    \n",
    "    return model\n",
    "\n",
    "def objective_rf(trial : Trial, X : DataFrame,\n",
    "              y : np.ndarray | Series, \n",
    "              numerical_columns : Optional[list[str]]=None, \n",
    "              categorical_columns : Optional[list[str]]=None, \n",
    "              random_state : int=42) -> float:\n",
    "    \n",
    "    if numerical_columns is None:\n",
    "        numerical_columns = [\n",
    "            *X.select_dtypes(exclude=['object', 'category']).columns\n",
    "        ]\n",
    "    \n",
    "    if categorical_columns is None:\n",
    "        categorical_columns = [\n",
    "            *X.select_dtypes(include=['object', 'category']).columns\n",
    "        ]\n",
    "    \n",
    "    model = instantiate_model(trial, numerical_columns, categorical_columns)\n",
    "    kf = KFold(n_splits=5, shuffle=True, random_state=random_state)\n",
    "    r2 = make_scorer(r2_score)\n",
    "    scores = cross_val_score(model, X, y, scoring= r2, cv=kf)\n",
    "    \n",
    "    return np.min([np.mean(scores), np.median([scores])])"
   ]
  },
  {
   "cell_type": "code",
   "execution_count": 38,
   "id": "ea24f892",
   "metadata": {},
   "outputs": [
    {
     "name": "stderr",
     "output_type": "stream",
     "text": [
      "[I 2024-07-11 09:43:39,468] A new study created in memory with name: optimization\n",
      "[I 2024-07-11 09:44:37,413] Trial 0 finished with value: 0.9083545094739573 and parameters: {'scaling_method': 'maxabs', 'bootstrap': True, 'n_estimators': 253, 'max_depth': 60, 'min_samples_split': 5, 'min_samples_leaf': 1}. Best is trial 0 with value: 0.9083545094739573.\n",
      "[I 2024-07-11 09:45:24,724] Trial 1 finished with value: 0.8999706968816368 and parameters: {'scaling_method': 'maxabs', 'bootstrap': True, 'n_estimators': 328, 'max_depth': 68, 'min_samples_split': 6, 'min_samples_leaf': 5}. Best is trial 0 with value: 0.9083545094739573.\n",
      "[I 2024-07-11 09:46:51,911] Trial 2 finished with value: 0.9081071301156255 and parameters: {'scaling_method': 'minmax', 'bootstrap': True, 'n_estimators': 427, 'max_depth': 73, 'min_samples_split': 5, 'min_samples_leaf': 2}. Best is trial 0 with value: 0.9083545094739573.\n",
      "[I 2024-07-11 09:48:22,636] Trial 3 finished with value: 0.9093564157184439 and parameters: {'scaling_method': 'robust', 'bootstrap': True, 'n_estimators': 381, 'max_depth': 53, 'min_samples_split': 4, 'min_samples_leaf': 1}. Best is trial 3 with value: 0.9093564157184439.\n",
      "[I 2024-07-11 09:50:19,973] Trial 4 finished with value: 0.9094102521730991 and parameters: {'scaling_method': 'maxabs', 'bootstrap': True, 'n_estimators': 494, 'max_depth': 62, 'min_samples_split': 4, 'min_samples_leaf': 1}. Best is trial 4 with value: 0.9094102521730991.\n"
     ]
    }
   ],
   "source": [
    "from optuna import create_study\n",
    "\n",
    "study_rf = create_study(study_name='optimization', direction='maximize')\n",
    "\n",
    "#study_rf.optimize(lambda trial: objective_rf(trial, X, y), n_trials=5)"
   ]
  },
  {
   "cell_type": "code",
   "execution_count": 51,
   "id": "e40cd543",
   "metadata": {},
   "outputs": [
    {
     "name": "stdout",
     "output_type": "stream",
     "text": [
      "0.9106961840498735\n",
      "{'scaling_method': 'robust', 'encoding_method': 'ordinal', 'bootstrap': True, 'n_estimators': 338, 'max_depth': 73, 'min_sample_split': 4, 'min_sample_leaf': 2}\n"
     ]
    }
   ],
   "source": [
    "print(study_rf.best_value)\n",
    "print(study_rf.best_params)"
   ]
  },
  {
   "cell_type": "markdown",
   "id": "b550ef60",
   "metadata": {},
   "source": [
    "# gbr"
   ]
  },
  {
   "cell_type": "code",
   "execution_count": 31,
   "id": "074b45d8",
   "metadata": {},
   "outputs": [],
   "source": [
    "def instantiate_gbr(trial : Trial) -> GradientBoostingRegressor:\n",
    "    params = {\n",
    "    'n_estimators': trial.suggest_int('n_estimators', 500, 1000),\n",
    "    'learning_rate': trial.suggest_float('learning_rate', 1e-4, 1, log=True),\n",
    "    'max_depth': trial.suggest_int ('max_depth', 2, 6),\n",
    "    \"subsample\": trial.suggest_float(\"subsample\", 0.5, 1.0),\n",
    "    'min_samples_split': trial.suggest_int ('min_sample_split', 6, 10),\n",
    "    'min_samples_leaf': trial.suggest_int ('min_sample_leaf', 1, 10)\n",
    "    }\n",
    "    \n",
    "    return GradientBoostingRegressor(**params)\n",
    "\n",
    "def instantiate_model(trial : Trial, numerical_columns : list[str], \n",
    "                      categorical_columns : list[str]) -> Pipeline:\n",
    "    \n",
    "    processor = instantiate_processor_ordinal(\n",
    "        trial, numerical_columns, categorical_columns\n",
    "    )\n",
    "    \n",
    "    learner = instantiate_gbr(trial)\n",
    "    \n",
    "    model_pipe = Pipeline([\n",
    "    ('processor', processor),\n",
    "    ('model', learner)\n",
    "    ])\n",
    "    \n",
    "    model = compose.TransformedTargetRegressor(regressor= model_pipe,\n",
    "                                                func=np.log, inverse_func=np.exp)\n",
    "    \n",
    "    return model\n",
    "\n",
    "def objective_gbr(trial : Trial, X : DataFrame,\n",
    "              y : np.ndarray | Series, \n",
    "              numerical_columns : Optional[list[str]]=None, \n",
    "              categorical_columns : Optional[list[str]]=None, \n",
    "              random_state : int=42) -> float:\n",
    "    \n",
    "    if numerical_columns is None:\n",
    "        numerical_columns = [\n",
    "            *X.select_dtypes(exclude=['object', 'category']).columns\n",
    "        ]\n",
    "    \n",
    "    if categorical_columns is None:\n",
    "        categorical_columns = [\n",
    "            *X.select_dtypes(include=['object', 'category']).columns\n",
    "        ]\n",
    "    \n",
    "    model = instantiate_model(trial, numerical_columns, categorical_columns)\n",
    "    kf = KFold(n_splits=5, shuffle=True, random_state=random_state)\n",
    "    r2 = make_scorer(r2_score)\n",
    "    scores = cross_val_score(model, X, y, scoring= r2, cv=kf)\n",
    "    \n",
    "    return np.min([np.mean(scores), np.median([scores])])"
   ]
  },
  {
   "cell_type": "code",
   "execution_count": 34,
   "id": "2779a1ce",
   "metadata": {},
   "outputs": [
    {
     "name": "stderr",
     "output_type": "stream",
     "text": [
      "[I 2024-07-11 09:36:55,471] A new study created in memory with name: optimization\n",
      "[I 2024-07-11 09:38:00,789] Trial 0 finished with value: 0.10676969273467858 and parameters: {'scaling_method': 'maxabs', 'n_estimators': 680, 'learning_rate': 0.00015291122193602163, 'max_depth': 6, 'subsample': 0.7453028457760895, 'min_sample_split': 10, 'min_sample_leaf': 9}. Best is trial 0 with value: 0.10676969273467858.\n",
      "[I 2024-07-11 09:38:22,650] Trial 1 finished with value: 0.28100365000054095 and parameters: {'scaling_method': 'standard', 'n_estimators': 605, 'learning_rate': 0.0006146473911796216, 'max_depth': 2, 'subsample': 0.8742574967407413, 'min_sample_split': 8, 'min_sample_leaf': 2}. Best is trial 1 with value: 0.28100365000054095.\n",
      "[I 2024-07-11 09:39:24,934] Trial 2 finished with value: 0.2466584750875623 and parameters: {'scaling_method': 'standard', 'n_estimators': 533, 'learning_rate': 0.00043180685670930226, 'max_depth': 6, 'subsample': 0.8638913349214837, 'min_sample_split': 8, 'min_sample_leaf': 2}. Best is trial 1 with value: 0.28100365000054095.\n",
      "[I 2024-07-11 09:40:20,656] Trial 3 finished with value: 0.08778538023716427 and parameters: {'scaling_method': 'robust', 'n_estimators': 973, 'learning_rate': 0.00010617361145818068, 'max_depth': 3, 'subsample': 0.9791756002812511, 'min_sample_split': 9, 'min_sample_leaf': 5}. Best is trial 1 with value: 0.28100365000054095.\n",
      "[I 2024-07-11 09:41:04,110] Trial 4 finished with value: 0.9214824552885755 and parameters: {'scaling_method': 'robust', 'n_estimators': 868, 'learning_rate': 0.005429634831521693, 'max_depth': 3, 'subsample': 0.8347093949409654, 'min_sample_split': 10, 'min_sample_leaf': 10}. Best is trial 4 with value: 0.9214824552885755.\n"
     ]
    }
   ],
   "source": [
    "from optuna import create_study\n",
    "\n",
    "study_gbr = create_study(study_name='optimization', direction='maximize')\n",
    "\n",
    "study_gbr.optimize(lambda trial: objective_gbr(trial, X, y), n_trials=5)"
   ]
  },
  {
   "cell_type": "code",
   "execution_count": 35,
   "id": "14a2ecdd",
   "metadata": {},
   "outputs": [
    {
     "name": "stdout",
     "output_type": "stream",
     "text": [
      "0.9214824552885755\n",
      "{'scaling_method': 'robust', 'n_estimators': 868, 'learning_rate': 0.005429634831521693, 'max_depth': 3, 'subsample': 0.8347093949409654, 'min_sample_split': 10, 'min_sample_leaf': 10}\n"
     ]
    }
   ],
   "source": [
    "print(study_gbr.best_value)\n",
    "print(study_gbr.best_params)"
   ]
  },
  {
   "cell_type": "markdown",
   "id": "a826af5c",
   "metadata": {},
   "source": [
    "# Adaboost"
   ]
  },
  {
   "cell_type": "code",
   "execution_count": 53,
   "id": "7c8b2029",
   "metadata": {},
   "outputs": [],
   "source": [
    "def instantiate_ada(trial : Trial) -> AdaBoostRegressor:\n",
    "    params = {\n",
    "    'learning_rate': trial.suggest_float('learning_rate', 1e-4, 1, log=True),\n",
    "    'loss': trial.suggest_categorical('loss',['linear', 'square', 'exponential']),\n",
    "    'n_estimators': trial.suggest_int('n_estimators', 1, 1000)\n",
    "    }\n",
    "    \n",
    "    return AdaBoostRegressor(**params)\n",
    "\n",
    "def instantiate_model(trial : Trial, numerical_columns : list[str], \n",
    "                      categorical_columns : list[str]) -> Pipeline:\n",
    "    \n",
    "    processor = instantiate_processor_ordinal(\n",
    "        trial, numerical_columns, categorical_columns\n",
    "    )\n",
    "    \n",
    "    learner = instantiate_ada(trial)\n",
    "    \n",
    "    model_pipe = Pipeline([\n",
    "    ('processor', processor),\n",
    "    ('model', learner)\n",
    "    ])\n",
    "    \n",
    "    model = compose.TransformedTargetRegressor(regressor= model_pipe,\n",
    "                                                func=np.log, inverse_func=np.exp)\n",
    "    \n",
    "    return model\n",
    "\n",
    "def objective_ada(trial : Trial, X : DataFrame,\n",
    "              y : np.ndarray | Series, \n",
    "              numerical_columns : Optional[list[str]]=None, \n",
    "              categorical_columns : Optional[list[str]]=None, \n",
    "              random_state : int=42) -> float:\n",
    "    \n",
    "    if numerical_columns is None:\n",
    "        numerical_columns = [\n",
    "            *X.select_dtypes(exclude=['object', 'category']).columns\n",
    "        ]\n",
    "    \n",
    "    if categorical_columns is None:\n",
    "        categorical_columns = [\n",
    "            *X.select_dtypes(include=['object', 'category']).columns\n",
    "        ]\n",
    "    \n",
    "    model = instantiate_model(trial, numerical_columns, categorical_columns)\n",
    "    kf = KFold(n_splits=5, shuffle=True, random_state=random_state)\n",
    "    r2 = make_scorer(r2_score)\n",
    "    scores = cross_val_score(model, X, y, scoring= r2, cv=kf)\n",
    "    \n",
    "    return np.min([np.mean(scores), np.median([scores])])"
   ]
  },
  {
   "cell_type": "code",
   "execution_count": 54,
   "id": "f950bc04",
   "metadata": {},
   "outputs": [
    {
     "name": "stderr",
     "output_type": "stream",
     "text": [
      "[I 2024-07-11 10:02:52,147] A new study created in memory with name: optimization\n",
      "[I 2024-07-11 10:02:52,518] Trial 0 finished with value: 0.7697034560200977 and parameters: {'scaling_method': 'robust', 'learning_rate': 0.5591223026880627, 'loss': 'linear', 'n_estimators': 5}. Best is trial 0 with value: 0.7697034560200977.\n",
      "[I 2024-07-11 10:03:10,819] Trial 1 finished with value: 0.8546529541652251 and parameters: {'scaling_method': 'maxabs', 'learning_rate': 0.06846055794485856, 'loss': 'linear', 'n_estimators': 404}. Best is trial 1 with value: 0.8546529541652251.\n",
      "[I 2024-07-11 10:03:29,877] Trial 2 finished with value: 0.875164826045092 and parameters: {'scaling_method': 'robust', 'learning_rate': 0.5252293433374021, 'loss': 'exponential', 'n_estimators': 551}. Best is trial 2 with value: 0.875164826045092.\n",
      "[I 2024-07-11 10:03:51,103] Trial 3 finished with value: 0.7894060614839619 and parameters: {'scaling_method': 'standard', 'learning_rate': 0.006602759458806035, 'loss': 'square', 'n_estimators': 416}. Best is trial 2 with value: 0.875164826045092.\n",
      "[I 2024-07-11 10:03:53,533] Trial 4 finished with value: 0.7516267401243062 and parameters: {'scaling_method': 'standard', 'learning_rate': 0.001764280416031639, 'loss': 'square', 'n_estimators': 45}. Best is trial 2 with value: 0.875164826045092.\n",
      "[I 2024-07-11 10:04:31,033] Trial 5 finished with value: 0.8531625153071971 and parameters: {'scaling_method': 'standard', 'learning_rate': 0.03192455973880304, 'loss': 'exponential', 'n_estimators': 812}. Best is trial 2 with value: 0.875164826045092.\n",
      "[I 2024-07-11 10:04:42,175] Trial 6 finished with value: 0.7489251023584357 and parameters: {'scaling_method': 'robust', 'learning_rate': 0.0004869604703745407, 'loss': 'linear', 'n_estimators': 216}. Best is trial 2 with value: 0.875164826045092.\n",
      "[I 2024-07-11 10:05:23,966] Trial 7 finished with value: 0.8125175645403576 and parameters: {'scaling_method': 'robust', 'learning_rate': 0.007800237570203197, 'loss': 'linear', 'n_estimators': 810}. Best is trial 2 with value: 0.875164826045092.\n",
      "[I 2024-07-11 10:05:32,994] Trial 8 finished with value: 0.740015316414385 and parameters: {'scaling_method': 'maxabs', 'learning_rate': 0.00022783884897739016, 'loss': 'linear', 'n_estimators': 171}. Best is trial 2 with value: 0.875164826045092.\n",
      "[I 2024-07-11 10:05:38,941] Trial 9 finished with value: 0.8072715830556264 and parameters: {'scaling_method': 'standard', 'learning_rate': 0.040666517337138705, 'loss': 'linear', 'n_estimators': 119}. Best is trial 2 with value: 0.875164826045092.\n",
      "[I 2024-07-11 10:05:58,388] Trial 10 finished with value: 0.8780826782483189 and parameters: {'scaling_method': 'minmax', 'learning_rate': 0.9665979668694383, 'loss': 'exponential', 'n_estimators': 613}. Best is trial 10 with value: 0.8780826782483189.\n",
      "[I 2024-07-11 10:06:20,082] Trial 11 finished with value: 0.8771383755349959 and parameters: {'scaling_method': 'minmax', 'learning_rate': 0.8688891534129805, 'loss': 'exponential', 'n_estimators': 647}. Best is trial 10 with value: 0.8780826782483189.\n",
      "[I 2024-07-11 10:06:40,107] Trial 12 finished with value: 0.8779115583289684 and parameters: {'scaling_method': 'minmax', 'learning_rate': 0.938023446604585, 'loss': 'exponential', 'n_estimators': 618}. Best is trial 10 with value: 0.8780826782483189.\n",
      "[I 2024-07-11 10:07:04,816] Trial 13 finished with value: 0.8713033033938435 and parameters: {'scaling_method': 'minmax', 'learning_rate': 0.15326841976862476, 'loss': 'exponential', 'n_estimators': 670}. Best is trial 10 with value: 0.8780826782483189.\n",
      "[I 2024-07-11 10:07:29,204] Trial 14 finished with value: 0.8726031022028063 and parameters: {'scaling_method': 'minmax', 'learning_rate': 0.19401035618984425, 'loss': 'exponential', 'n_estimators': 667}. Best is trial 10 with value: 0.8780826782483189.\n",
      "[I 2024-07-11 10:08:03,126] Trial 15 finished with value: 0.8741678522859605 and parameters: {'scaling_method': 'minmax', 'learning_rate': 0.19571484981329867, 'loss': 'exponential', 'n_estimators': 940}. Best is trial 10 with value: 0.8780826782483189.\n",
      "[I 2024-07-11 10:08:14,353] Trial 16 finished with value: 0.8759517890404285 and parameters: {'scaling_method': 'minmax', 'learning_rate': 0.863947710977675, 'loss': 'exponential', 'n_estimators': 325}. Best is trial 10 with value: 0.8780826782483189.\n",
      "[I 2024-07-11 10:08:39,878] Trial 17 finished with value: 0.8245565992555626 and parameters: {'scaling_method': 'minmax', 'learning_rate': 0.020355226582718405, 'loss': 'exponential', 'n_estimators': 503}. Best is trial 10 with value: 0.8780826782483189.\n",
      "[I 2024-07-11 10:09:22,391] Trial 18 finished with value: 0.7790524767783765 and parameters: {'scaling_method': 'minmax', 'learning_rate': 0.0023469408789676552, 'loss': 'square', 'n_estimators': 833}. Best is trial 10 with value: 0.8780826782483189.\n",
      "[I 2024-07-11 10:09:46,806] Trial 19 finished with value: 0.8689234225527119 and parameters: {'scaling_method': 'minmax', 'learning_rate': 0.13000354123180455, 'loss': 'exponential', 'n_estimators': 576}. Best is trial 10 with value: 0.8780826782483189.\n",
      "[I 2024-07-11 10:10:19,011] Trial 20 finished with value: 0.875575631970334 and parameters: {'scaling_method': 'maxabs', 'learning_rate': 0.3276719260228993, 'loss': 'exponential', 'n_estimators': 968}. Best is trial 10 with value: 0.8780826782483189.\n",
      "[I 2024-07-11 10:10:40,581] Trial 21 finished with value: 0.8764809575260154 and parameters: {'scaling_method': 'minmax', 'learning_rate': 0.981451602009341, 'loss': 'exponential', 'n_estimators': 656}. Best is trial 10 with value: 0.8780826782483189.\n",
      "[I 2024-07-11 10:11:03,633] Trial 22 finished with value: 0.8746538229268802 and parameters: {'scaling_method': 'minmax', 'learning_rate': 0.32933660611767623, 'loss': 'exponential', 'n_estimators': 693}. Best is trial 10 with value: 0.8780826782483189.\n",
      "[I 2024-07-11 10:11:34,336] Trial 23 finished with value: 0.8651629965187382 and parameters: {'scaling_method': 'minmax', 'learning_rate': 0.06762688465459105, 'loss': 'exponential', 'n_estimators': 750}. Best is trial 10 with value: 0.8780826782483189.\n",
      "[I 2024-07-11 10:11:52,806] Trial 24 finished with value: 0.877332188458922 and parameters: {'scaling_method': 'minmax', 'learning_rate': 0.9650619122751851, 'loss': 'exponential', 'n_estimators': 614}. Best is trial 10 with value: 0.8780826782483189.\n",
      "[I 2024-07-11 10:12:06,920] Trial 25 finished with value: 0.8703375963820832 and parameters: {'scaling_method': 'minmax', 'learning_rate': 0.3864493541692656, 'loss': 'square', 'n_estimators': 422}. Best is trial 10 with value: 0.8780826782483189.\n",
      "[I 2024-07-11 10:12:30,644] Trial 26 finished with value: 0.8650823033259826 and parameters: {'scaling_method': 'minmax', 'learning_rate': 0.08196766379896685, 'loss': 'exponential', 'n_estimators': 582}. Best is trial 10 with value: 0.8780826782483189.\n",
      "[I 2024-07-11 10:13:00,389] Trial 27 finished with value: 0.8740764641314778 and parameters: {'scaling_method': 'minmax', 'learning_rate': 0.2837238635138632, 'loss': 'exponential', 'n_estimators': 881}. Best is trial 10 with value: 0.8780826782483189.\n",
      "[I 2024-07-11 10:13:16,568] Trial 28 finished with value: 0.8772047236103455 and parameters: {'scaling_method': 'maxabs', 'learning_rate': 0.983146633604237, 'loss': 'exponential', 'n_estimators': 483}. Best is trial 10 with value: 0.8780826782483189.\n",
      "[I 2024-07-11 10:13:26,691] Trial 29 finished with value: 0.8725330669246614 and parameters: {'scaling_method': 'robust', 'learning_rate': 0.5708926000445392, 'loss': 'square', 'n_estimators': 323}. Best is trial 10 with value: 0.8780826782483189.\n",
      "[I 2024-07-11 10:13:50,268] Trial 30 finished with value: 0.8757094620589182 and parameters: {'scaling_method': 'minmax', 'learning_rate': 0.48809286544110553, 'loss': 'exponential', 'n_estimators': 748}. Best is trial 10 with value: 0.8780826782483189.\n",
      "[I 2024-07-11 10:14:05,000] Trial 31 finished with value: 0.8770954774744751 and parameters: {'scaling_method': 'maxabs', 'learning_rate': 0.916069127836751, 'loss': 'exponential', 'n_estimators': 479}. Best is trial 10 with value: 0.8780826782483189.\n",
      "[I 2024-07-11 10:14:21,871] Trial 32 finished with value: 0.8755456050312571 and parameters: {'scaling_method': 'maxabs', 'learning_rate': 0.492789218688456, 'loss': 'exponential', 'n_estimators': 509}. Best is trial 10 with value: 0.8780826782483189.\n"
     ]
    },
    {
     "name": "stderr",
     "output_type": "stream",
     "text": [
      "[I 2024-07-11 10:14:44,856] Trial 33 finished with value: 0.866576708984014 and parameters: {'scaling_method': 'maxabs', 'learning_rate': 0.09929974514686613, 'loss': 'exponential', 'n_estimators': 581}. Best is trial 10 with value: 0.8780826782483189.\n",
      "[I 2024-07-11 10:14:58,969] Trial 34 finished with value: 0.8703748675462952 and parameters: {'scaling_method': 'maxabs', 'learning_rate': 0.2245325690083747, 'loss': 'exponential', 'n_estimators': 368}. Best is trial 10 with value: 0.8780826782483189.\n",
      "[I 2024-07-11 10:15:17,983] Trial 35 finished with value: 0.876282939613254 and parameters: {'scaling_method': 'maxabs', 'learning_rate': 0.5987616594370728, 'loss': 'exponential', 'n_estimators': 614}. Best is trial 10 with value: 0.8780826782483189.\n",
      "[I 2024-07-11 10:15:40,207] Trial 36 finished with value: 0.8102956663214451 and parameters: {'scaling_method': 'standard', 'learning_rate': 0.013357794606257661, 'loss': 'exponential', 'n_estimators': 454}. Best is trial 10 with value: 0.8780826782483189.\n",
      "[I 2024-07-11 10:16:05,527] Trial 37 finished with value: 0.7760657608784798 and parameters: {'scaling_method': 'robust', 'learning_rate': 0.003223122463915485, 'loss': 'square', 'n_estimators': 528}. Best is trial 10 with value: 0.8780826782483189.\n",
      "[I 2024-07-11 10:16:39,947] Trial 38 finished with value: 0.7580441501297308 and parameters: {'scaling_method': 'maxabs', 'learning_rate': 0.0010765759758337749, 'loss': 'linear', 'n_estimators': 702}. Best is trial 10 with value: 0.8780826782483189.\n",
      "[I 2024-07-11 10:16:52,211] Trial 39 finished with value: 0.8311226535214583 and parameters: {'scaling_method': 'standard', 'learning_rate': 0.04876226988318055, 'loss': 'exponential', 'n_estimators': 261}. Best is trial 10 with value: 0.8780826782483189.\n",
      "[I 2024-07-11 10:17:14,258] Trial 40 finished with value: 0.8769533251727737 and parameters: {'scaling_method': 'robust', 'learning_rate': 0.6309085589978503, 'loss': 'linear', 'n_estimators': 736}. Best is trial 10 with value: 0.8780826782483189.\n",
      "[I 2024-07-11 10:17:33,883] Trial 41 finished with value: 0.8761244756508276 and parameters: {'scaling_method': 'minmax', 'learning_rate': 0.6591110192170143, 'loss': 'exponential', 'n_estimators': 631}. Best is trial 10 with value: 0.8780826782483189.\n",
      "[I 2024-07-11 10:17:51,501] Trial 42 finished with value: 0.8779260805521737 and parameters: {'scaling_method': 'minmax', 'learning_rate': 0.9310293441696323, 'loss': 'exponential', 'n_estimators': 559}. Best is trial 10 with value: 0.8780826782483189.\n",
      "[I 2024-07-11 10:18:06,605] Trial 43 finished with value: 0.8739924078091761 and parameters: {'scaling_method': 'minmax', 'learning_rate': 0.3634366886298869, 'loss': 'exponential', 'n_estimators': 443}. Best is trial 10 with value: 0.8780826782483189.\n",
      "[I 2024-07-11 10:18:22,749] Trial 44 finished with value: 0.8774252399332381 and parameters: {'scaling_method': 'minmax', 'learning_rate': 0.9879986256312421, 'loss': 'exponential', 'n_estimators': 539}. Best is trial 10 with value: 0.8780826782483189.\n",
      "[I 2024-07-11 10:18:42,408] Trial 45 finished with value: 0.8719117671604486 and parameters: {'scaling_method': 'minmax', 'learning_rate': 0.21001391801674987, 'loss': 'exponential', 'n_estimators': 546}. Best is trial 10 with value: 0.8780826782483189.\n",
      "[I 2024-07-11 10:19:01,769] Trial 46 finished with value: 0.8753977791089005 and parameters: {'scaling_method': 'minmax', 'learning_rate': 0.473725281338232, 'loss': 'linear', 'n_estimators': 611}. Best is trial 10 with value: 0.8780826782483189.\n",
      "[I 2024-07-11 10:19:20,470] Trial 47 finished with value: 0.7442601299566491 and parameters: {'scaling_method': 'minmax', 'learning_rate': 0.00022247823371459276, 'loss': 'exponential', 'n_estimators': 383}. Best is trial 10 with value: 0.8780826782483189.\n",
      "[I 2024-07-11 10:19:50,510] Trial 48 finished with value: 0.8720981443244403 and parameters: {'scaling_method': 'minmax', 'learning_rate': 0.14127725893957668, 'loss': 'exponential', 'n_estimators': 788}. Best is trial 10 with value: 0.8780826782483189.\n",
      "[I 2024-07-11 10:20:07,318] Trial 49 finished with value: 0.8735332699685407 and parameters: {'scaling_method': 'minmax', 'learning_rate': 0.7216920905683047, 'loss': 'square', 'n_estimators': 547}. Best is trial 10 with value: 0.8780826782483189.\n"
     ]
    }
   ],
   "source": [
    "from optuna import create_study\n",
    "\n",
    "study_ada = create_study(study_name='optimization', direction='maximize')\n",
    "\n",
    "study_ada.optimize(lambda trial: objective_ada(trial, X, y), n_trials=50)"
   ]
  },
  {
   "cell_type": "code",
   "execution_count": null,
   "id": "03e95ada",
   "metadata": {},
   "outputs": [],
   "source": []
  },
  {
   "cell_type": "markdown",
   "id": "8900f9c5",
   "metadata": {},
   "source": [
    "# Loop through?"
   ]
  },
  {
   "cell_type": "code",
   "execution_count": 61,
   "id": "14902ffc",
   "metadata": {},
   "outputs": [],
   "source": [
    "studies = [study_lasso, study_ridge, study_en, study_xgb, study_rf, study_gbr, study_ada]\n",
    "objectives = [objective_lasso, \n",
    "              objective_ridge, \n",
    "              objective_en,\n",
    "              objective_xgb,\n",
    "              objective_rf,\n",
    "              objective_gbr,\n",
    "              objective_ada]\n",
    "\n",
    "# for study, objective in zip(studies, objectives):\n",
    "#     study.optimize(lambda trial: objective(trial, X, y), n_trials=2)\n",
    "    "
   ]
  },
  {
   "cell_type": "code",
   "execution_count": 63,
   "id": "326a2354",
   "metadata": {},
   "outputs": [
    {
     "data": {
      "text/plain": [
       "[<function __main__.objective_lasso(trial: optuna.trial._trial.Trial, X: pandas.core.frame.DataFrame, y: numpy.ndarray | pandas.core.series.Series, numerical_columns: Optional[list[str]] = None, categorical_columns: Optional[list[str]] = None, random_state: int = 42) -> float>,\n",
       " <function __main__.objective_ridge(trial: optuna.trial._trial.Trial, X: pandas.core.frame.DataFrame, y: numpy.ndarray | pandas.core.series.Series, numerical_columns: Optional[list[str]] = None, categorical_columns: Optional[list[str]] = None, random_state: int = 42) -> float>,\n",
       " <function __main__.objective_en(trial: optuna.trial._trial.Trial, X: pandas.core.frame.DataFrame, y: numpy.ndarray | pandas.core.series.Series, numerical_columns: Optional[list[str]] = None, categorical_columns: Optional[list[str]] = None, random_state: int = 42) -> float>,\n",
       " <function __main__.objective_xgb(trial: optuna.trial._trial.Trial, X: pandas.core.frame.DataFrame, y: numpy.ndarray | pandas.core.series.Series, numerical_columns: Optional[list[str]] = None, categorical_columns: Optional[list[str]] = None, random_state: int = 42) -> float>,\n",
       " <function __main__.objective_rf(trial: optuna.trial._trial.Trial, X: pandas.core.frame.DataFrame, y: numpy.ndarray | pandas.core.series.Series, numerical_columns: Optional[list[str]] = None, categorical_columns: Optional[list[str]] = None, random_state: int = 42) -> float>,\n",
       " <function __main__.objective_gbr(trial: optuna.trial._trial.Trial, X: pandas.core.frame.DataFrame, y: numpy.ndarray | pandas.core.series.Series, numerical_columns: Optional[list[str]] = None, categorical_columns: Optional[list[str]] = None, random_state: int = 42) -> float>,\n",
       " <function __main__.objective_ada(trial: optuna.trial._trial.Trial, X: pandas.core.frame.DataFrame, y: numpy.ndarray | pandas.core.series.Series, numerical_columns: Optional[list[str]] = None, categorical_columns: Optional[list[str]] = None, random_state: int = 42) -> float>]"
      ]
     },
     "execution_count": 63,
     "metadata": {},
     "output_type": "execute_result"
    }
   ],
   "source": []
  },
  {
   "cell_type": "code",
   "execution_count": 52,
   "id": "ad69f459",
   "metadata": {},
   "outputs": [
    {
     "name": "stdout",
     "output_type": "stream",
     "text": [
      "0.8735606638813536\n",
      "{'scaling_method': 'robust', 'learning_rate': 0.30065504792403025, 'loss': 'exponential', 'n_estimators': 428}\n",
      "0.7980960053211354\n",
      "{'scaling_method': 'robust', 'learning_rate': 0.006736329679908936, 'loss': 'exponential', 'n_estimators': 615}\n",
      "0.8177296198440576\n",
      "{'scaling_method': 'maxabs', 'learning_rate': 0.04083092875953665, 'loss': 'exponential', 'n_estimators': 196}\n",
      "0.951622985121114\n",
      "{'scaling_method': 'minmax', 'encoding_method': 'onehot', 'drop': None, 'n_estimators': 979, 'learning_rate': 0.046054720840163293, 'max_depth': 4, 'subsample': 0.8282908794962028, 'colsample_bytree': 0.5510975070017484, 'min_child_weight': 10}\n",
      "0.9094102521730991\n",
      "{'scaling_method': 'maxabs', 'bootstrap': True, 'n_estimators': 494, 'max_depth': 62, 'min_samples_split': 4, 'min_samples_leaf': 1}\n",
      "0.9214824552885755\n",
      "{'scaling_method': 'robust', 'n_estimators': 868, 'learning_rate': 0.005429634831521693, 'max_depth': 3, 'subsample': 0.8347093949409654, 'min_sample_split': 10, 'min_sample_leaf': 10}\n",
      "0.7411722065793509\n",
      "{'scaling_method': 'minmax', 'learning_rate': 0.00041621654894138704, 'loss': 'exponential', 'n_estimators': 207}\n"
     ]
    }
   ],
   "source": [
    "for study in studies:\n",
    "    print (study.best_value)\n",
    "    print (study.best_params)"
   ]
  }
 ],
 "metadata": {
  "kernelspec": {
   "display_name": "Python 3 (ipykernel)",
   "language": "python",
   "name": "python3"
  },
  "language_info": {
   "codemirror_mode": {
    "name": "ipython",
    "version": 3
   },
   "file_extension": ".py",
   "mimetype": "text/x-python",
   "name": "python",
   "nbconvert_exporter": "python",
   "pygments_lexer": "ipython3",
   "version": "3.11.5"
  }
 },
 "nbformat": 4,
 "nbformat_minor": 5
}
