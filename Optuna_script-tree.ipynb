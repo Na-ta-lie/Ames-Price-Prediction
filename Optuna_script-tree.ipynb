{
 "cells": [
  {
   "cell_type": "code",
   "execution_count": 35,
   "id": "393fdffc",
   "metadata": {},
   "outputs": [],
   "source": [
    "import numpy as np\n",
    "import pandas as pd\n",
    "import xgboost as xgb\n",
    "from xgboost import XGBRegressor\n",
    "import matplotlib.pyplot as plt\n",
    "from sklearn.model_selection import train_test_split\n",
    "from sklearn.metrics import balanced_accuracy_score, roc_auc_score, make_scorer\n",
    "from sklearn.model_selection import GridSearchCV\n",
    "from sklearn.metrics import confusion_matrix\n",
    "from sklearn.metrics import ConfusionMatrixDisplay\n",
    "from sklearn.preprocessing import OneHotEncoder, StandardScaler\n",
    "from sklearn.pipeline import Pipeline\n",
    "from sklearn import compose, pipeline\n",
    "from sklearn.preprocessing import OneHotEncoder\n",
    "from sklearn.compose import ColumnTransformer\n",
    "from sklearn.compose import make_column_selector as selector\n",
    "from sklearn.preprocessing import OneHotEncoder, StandardScaler, OrdinalEncoder\n",
    "from sklearn.pipeline import Pipeline\n",
    "from sklearn import compose, pipeline\n",
    "from sklearn.model_selection import KFold\n",
    "from typing import Optional\n",
    "from sklearn.model_selection import cross_val_score, KFold\n",
    "from sklearn.metrics import roc_auc_score, make_scorer, r2_score\n",
    "from pandas import DataFrame, Series\n",
    "import numpy as np\n",
    "kf = KFold(n_splits=5, shuffle=True, random_state=42)\n",
    "import xgboost as xgb\n",
    "from xgboost import XGBRegressor\n",
    "import optuna\n",
    "from optuna import Trial, create_study, samplers\n",
    "from sklearn import compose\n",
    "from sklearn.model_selection import GridSearchCV\n",
    "from sklearn.linear_model import Lasso, Ridge, LinearRegression\n",
    "from sklearn.ensemble import GradientBoostingRegressor, AdaBoostRegressor, RandomForestRegressor"
   ]
  },
  {
   "cell_type": "markdown",
   "id": "a5814a71",
   "metadata": {},
   "source": [
    "### Instantiate function for each regression model "
   ]
  },
  {
   "cell_type": "code",
   "execution_count": 55,
   "id": "85801569",
   "metadata": {},
   "outputs": [],
   "source": [
    "def instantiate_xgb(trial : Trial) -> XGBRegressor:\n",
    "    params = {\n",
    "        'n_estimators': trial.suggest_int('n_estimators', 100, 1000),\n",
    "        \"learning_rate\": trial.suggest_float(\"learning_rate\", .001, 0.1, log = True),\n",
    "        \"max_depth\": trial.suggest_int(\"max_depth\", 4, 8),\n",
    "        \"subsample\": trial.suggest_float(\"subsample\", 0.5, 1.0),\n",
    "        \"colsample_bytree\": trial.suggest_float(\"colsample_bytree\", 0.5, 1.0),\n",
    "        \"min_child_weight\": trial.suggest_int(\"min_child_weight\", 10, 20)\n",
    "    }\n",
    "\n",
    "    return XGBRegressor(**params)\n",
    "\n",
    "def instantiate_gbr(trial : Trial) -> GradientBoostingRegressor:\n",
    "    params = {\n",
    "    'n_estimators': trial.suggest_int('n_estimators', 500, 1000),\n",
    "    'learning_rate': trial.suggest_float('learning_rate', .001, 0.1, log = True),\n",
    "    'max_depth': trial.suggest_int ('max_depth', 2, 6),\n",
    "    \"subsample\": trial.suggest_float(\"subsample\", 0.5, 1.0),\n",
    "    'min_samples_split': trial.suggest_int ('min_sample_split', 6, 10),\n",
    "    'min_samples_leaf': trial.suggest_int ('min_sample_leaf', 1, 10)\n",
    "    }\n",
    "    \n",
    "    return GradientBoostingRegressor(**params)\n",
    "\n",
    "# def instantiate_rf(trial : Trial) -> RandomForestRegressor:\n",
    "#     params = {\n",
    "#     'bootstrap':trial.suggest_categorical('bootstrap', [True, False]),\n",
    "#     'max_features':trial.suggest_categorical('max_features', None, 'sqrt'),\n",
    "#     'n_estimators': trial.suggest_int('n_estimators', 100, 1000),\n",
    "#     'max_depth': trial.suggest_float('max_depth', 1, 10),\n",
    "#     'min_samples_split': trial.suggest_float('min_sample_split', 2, 10),\n",
    "#     'min_samples_leaf': trial.suggest_float('min_sample_leaf', 2, 10)\n",
    "#     }\n",
    "    \n",
    "#     return RandomForestRegressor(**params)\n",
    "\n",
    "# def instantiate_ada(trial : Trial) -> AdaBoostRegressor:\n",
    "#     params = {\n",
    "#     'learning_rate': trial.suggest_float('learning_rate', 1e-3, 0.1, log=True),\n",
    "#     'loss': trial.suggest_categorical('loss',['linear', 'square', 'expoential']),\n",
    "#     'n_estimators': trial.suggest_int('n_estimators', 100, 1000)\n",
    "#     }\n",
    "    \n",
    "#     return AdaBoostRegressor(**params)\n",
    "\n"
   ]
  },
  {
   "cell_type": "markdown",
   "id": "dad9e919",
   "metadata": {},
   "source": [
    "### Instantiate function for regression model selection"
   ]
  },
  {
   "cell_type": "code",
   "execution_count": 58,
   "id": "21cfec20",
   "metadata": {},
   "outputs": [],
   "source": [
    "Classifier = (\n",
    "    XGBRegressor |\n",
    "    GradientBoostingRegressor\n",
    "    )\n",
    "\n",
    "def instantiate_learner(trial : Trial) -> Classifier:\n",
    "    algorithm = trial.suggest_categorical(\n",
    "    'algorithm', ['xgb', 'gbr'])\n",
    "    \n",
    "    if algorithm=='xgb':\n",
    "        model = instantiate_xgb(trial)\n",
    "    elif algorithm=='gbr':\n",
    "        model = instantiate_gbr(trial)\n",
    "        \n",
    "    return model"
   ]
  },
  {
   "cell_type": "markdown",
   "id": "80e672d3",
   "metadata": {},
   "source": [
    "### Instantiate functions for encoding categorical columns "
   ]
  },
  {
   "cell_type": "code",
   "execution_count": 57,
   "id": "a5490825",
   "metadata": {},
   "outputs": [],
   "source": [
    "from sklearn.preprocessing import OrdinalEncoder, OneHotEncoder\n",
    "#from category_encoders import WOEEncoder\n",
    "\n",
    "def instantiate_ordinal_encoder(trial: Trial)-> OrdinalEncoder:\n",
    "    params = {\n",
    "        'handle_unknown': \"use_encoded_value\", \n",
    "        'unknown_value': -1\n",
    "    }\n",
    "    \n",
    "    return OrdinalEncoder(**params)\n",
    "\n",
    "def instantiate_onehot_encoder(trial: Trial)-> OneHotEncoder:\n",
    "    params = {\n",
    "        'handle_unknown': 'ignore',\n",
    "        'drop': trial.suggest_categorical('drop', [None, 'first'])\n",
    "    }\n",
    "    \n",
    "    return OneHotEncoder(**params)\n",
    "    \n",
    "Encoder = (\n",
    "    OrdinalEncoder |\n",
    "    OneHotEncoder \n",
    "    )\n",
    "\n",
    "def instantiate_encoder (trial : Trial) -> Encoder:\n",
    "    encoding_method = trial.suggest_categorical(\n",
    "        'encoding_method', ['ordinal', 'onehot'])\n",
    "    if encoding_method =='ordinal':\n",
    "        encoder = instantiate_ordinal_encoder(trial)\n",
    "    elif encoding_method =='onehot':\n",
    "        encoder = instantiate_onehot_encoder(trial)\n",
    "    \n",
    "    return encoder"
   ]
  },
  {
   "cell_type": "markdown",
   "id": "b4fbdb08",
   "metadata": {},
   "source": [
    "### Instantiate functions for encoding numerical columns "
   ]
  },
  {
   "cell_type": "code",
   "execution_count": 59,
   "id": "cf72257c",
   "metadata": {},
   "outputs": [],
   "source": [
    "from sklearn.preprocessing import StandardScaler, MinMaxScaler, MaxAbsScaler, RobustScaler\n",
    "\n",
    "Scaler = (\n",
    "  StandardScaler |\n",
    "  MinMaxScaler |\n",
    "  MaxAbsScaler |\n",
    "  RobustScaler\n",
    ")\n",
    "\n",
    "def instantiate_scaler(trial : Trial) -> Scaler:\n",
    "    method = trial.suggest_categorical(\n",
    "    'scaling_method', ['standard', 'minmax', 'maxabs', 'robust']\n",
    "    )\n",
    "    if method=='standard':\n",
    "        scaler = StandardScaler()\n",
    "    elif method=='minmax':\n",
    "        scaler = MinMaxScaler()\n",
    "    elif method=='maxabs':\n",
    "        scaler = MaxAbsScaler()\n",
    "    elif method=='robust':\n",
    "        scaler = RobustScaler()\n",
    "        \n",
    "    return scaler"
   ]
  },
  {
   "cell_type": "markdown",
   "id": "063bcd73",
   "metadata": {},
   "source": [
    "### Instantiate function to scale and encode "
   ]
  },
  {
   "cell_type": "code",
   "execution_count": 61,
   "id": "0d74e7e8",
   "metadata": {},
   "outputs": [],
   "source": [
    "from sklearn.compose import ColumnTransformer\n",
    "from sklearn.pipeline import Pipeline\n",
    "\n",
    "def instantiate_processor(trial : Trial, \n",
    "                          numerical_columns : list[str], \n",
    "                          categorical_columns : list[str]) -> ColumnTransformer:\n",
    "    \n",
    "    numerical_pipeline = instantiate_scaler(trial)\n",
    "    categorical_pipeline = instantiate_encoder(trial)\n",
    "   # numerical_pipeline = StandardScaler()\n",
    "    #categorical_pipeline = OneHotEncoder(handle_unknown=\"ignore\", drop='first')\n",
    "    \n",
    "#     numerical_pipeline = instantiate_numerical_pipeline(trial)\n",
    "#     categorical_pipeline = instantiate_categorical_pipeline(trial)\n",
    "    \n",
    "    processor = ColumnTransformer([\n",
    "        ('numerical_pipeline', numerical_pipeline, numerical_columns),\n",
    "        ('categorical_pipeline', categorical_pipeline, categorical_columns)\n",
    "    ])\n",
    "    return processor\n",
    "\n",
    "def instantiate_model(trial : Trial, numerical_columns : list[str], \n",
    "                      categorical_columns : list[str]) -> Pipeline:\n",
    "    \n",
    "    processor = instantiate_processor(\n",
    "        trial, numerical_columns, categorical_columns\n",
    "    )\n",
    "    \n",
    "    learner = instantiate_learner(trial)\n",
    "    \n",
    "    model_pipe = Pipeline([\n",
    "    ('processor', processor),\n",
    "    ('model', learner)\n",
    "    ])\n",
    "    \n",
    "    model = compose.TransformedTargetRegressor(regressor= model_pipe,\n",
    "                                                func=np.log, inverse_func=np.exp)\n",
    "    \n",
    "    return model"
   ]
  },
  {
   "cell_type": "code",
   "execution_count": 62,
   "id": "fe558f97",
   "metadata": {},
   "outputs": [],
   "source": [
    "def objective(trial : Trial, X : DataFrame,\n",
    "              y : np.ndarray | Series, \n",
    "              numerical_columns : Optional[list[str]]=None, \n",
    "              categorical_columns : Optional[list[str]]=None, \n",
    "              random_state : int=42) -> float:\n",
    "    \n",
    "    if numerical_columns is None:\n",
    "        numerical_columns = [\n",
    "            *X.select_dtypes(exclude=['object', 'category']).columns\n",
    "        ]\n",
    "    \n",
    "    if categorical_columns is None:\n",
    "        categorical_columns = [\n",
    "            *X.select_dtypes(include=['object', 'category']).columns\n",
    "        ]\n",
    "    \n",
    "    model = instantiate_model(trial, numerical_columns, categorical_columns)\n",
    "    kf = KFold(n_splits=5, shuffle=True, random_state=random_state)\n",
    "    r2 = make_scorer(r2_score)\n",
    "    scores = cross_val_score(model, X, y, scoring= r2, cv=kf)\n",
    "    \n",
    "    return np.min([np.mean(scores), np.median([scores])])"
   ]
  },
  {
   "cell_type": "code",
   "execution_count": 63,
   "id": "c1134583",
   "metadata": {},
   "outputs": [],
   "source": [
    "df = pd.read_csv('df_normal_quality.csv', index_col=0)\n",
    "y = df.SalePrice\n",
    "X = df.drop(['PID', 'SalePrice'], axis =1).copy()"
   ]
  },
  {
   "cell_type": "code",
   "execution_count": 71,
   "id": "f5c25aba",
   "metadata": {},
   "outputs": [
    {
     "name": "stderr",
     "output_type": "stream",
     "text": [
      "[I 2024-05-09 14:26:03,222] A new study created in memory with name: optimization\n"
     ]
    }
   ],
   "source": [
    "from optuna import create_study\n",
    "\n",
    "study = create_study(study_name='optimization', \n",
    "                     direction='maximize')"
   ]
  },
  {
   "cell_type": "code",
   "execution_count": 72,
   "id": "fd2ea21c",
   "metadata": {},
   "outputs": [
    {
     "name": "stderr",
     "output_type": "stream",
     "text": [
      "[I 2024-05-09 14:29:28,569] Trial 0 finished with value: 0.8714640923128938 and parameters: {'scaling_method': 'robust', 'encoding_method': 'onehot', 'drop': None, 'algorithm': 'gbr', 'n_estimators': 675, 'learning_rate': 0.0027571811235649617, 'max_depth': 6, 'subsample': 0.7770656803997849, 'min_sample_split': 6, 'min_sample_leaf': 8}. Best is trial 0 with value: 0.8714640923128938.\n",
      "[I 2024-05-09 14:33:27,086] Trial 1 finished with value: 0.9362739781445062 and parameters: {'scaling_method': 'minmax', 'encoding_method': 'ordinal', 'algorithm': 'gbr', 'n_estimators': 804, 'learning_rate': 0.0653121058890592, 'max_depth': 6, 'subsample': 0.961400784503118, 'min_sample_split': 9, 'min_sample_leaf': 7}. Best is trial 1 with value: 0.9362739781445062.\n",
      "[I 2024-05-09 14:33:34,549] Trial 2 finished with value: -6.005122413427998 and parameters: {'scaling_method': 'minmax', 'encoding_method': 'ordinal', 'algorithm': 'xgb', 'n_estimators': 914, 'learning_rate': 0.00147949019463729, 'max_depth': 6, 'subsample': 0.6982849323280891, 'colsample_bytree': 0.6643824874934401, 'min_child_weight': 13}. Best is trial 1 with value: 0.9362739781445062.\n",
      "[I 2024-05-09 14:33:41,280] Trial 3 finished with value: -6.265976945558826 and parameters: {'scaling_method': 'maxabs', 'encoding_method': 'ordinal', 'algorithm': 'xgb', 'n_estimators': 743, 'learning_rate': 0.0016104380113729296, 'max_depth': 8, 'subsample': 0.6891152434138501, 'colsample_bytree': 0.7425561793379245, 'min_child_weight': 19}. Best is trial 1 with value: 0.9362739781445062.\n",
      "C:\\Users\\Natal\\anaconda3\\Lib\\site-packages\\sklearn\\preprocessing\\_encoders.py:227: UserWarning:\n",
      "\n",
      "Found unknown categories in columns [3, 10] during transform. These unknown categories will be encoded as all zeros\n",
      "\n",
      "C:\\Users\\Natal\\anaconda3\\Lib\\site-packages\\sklearn\\preprocessing\\_encoders.py:227: UserWarning:\n",
      "\n",
      "Found unknown categories in columns [3, 9, 14] during transform. These unknown categories will be encoded as all zeros\n",
      "\n",
      "C:\\Users\\Natal\\anaconda3\\Lib\\site-packages\\sklearn\\preprocessing\\_encoders.py:227: UserWarning:\n",
      "\n",
      "Found unknown categories in columns [5, 21] during transform. These unknown categories will be encoded as all zeros\n",
      "\n",
      "C:\\Users\\Natal\\anaconda3\\Lib\\site-packages\\sklearn\\preprocessing\\_encoders.py:227: UserWarning:\n",
      "\n",
      "Found unknown categories in columns [9, 21] during transform. These unknown categories will be encoded as all zeros\n",
      "\n",
      "C:\\Users\\Natal\\anaconda3\\Lib\\site-packages\\sklearn\\preprocessing\\_encoders.py:227: UserWarning:\n",
      "\n",
      "Found unknown categories in columns [0] during transform. These unknown categories will be encoded as all zeros\n",
      "\n",
      "[I 2024-05-09 14:34:10,558] Trial 4 finished with value: 0.939124080342431 and parameters: {'scaling_method': 'standard', 'encoding_method': 'onehot', 'drop': 'first', 'algorithm': 'xgb', 'n_estimators': 760, 'learning_rate': 0.013380074592746389, 'max_depth': 8, 'subsample': 0.9429701575754063, 'colsample_bytree': 0.8559788986676512, 'min_child_weight': 15}. Best is trial 4 with value: 0.939124080342431.\n",
      "[I 2024-05-09 14:37:00,431] Trial 5 finished with value: 0.9367391095671895 and parameters: {'scaling_method': 'maxabs', 'encoding_method': 'ordinal', 'algorithm': 'gbr', 'n_estimators': 584, 'learning_rate': 0.023688714693921385, 'max_depth': 6, 'subsample': 0.9849666012070115, 'min_sample_split': 6, 'min_sample_leaf': 6}. Best is trial 4 with value: 0.939124080342431.\n",
      "[I 2024-05-09 14:37:14,073] Trial 6 finished with value: 0.9361058267345748 and parameters: {'scaling_method': 'robust', 'encoding_method': 'ordinal', 'algorithm': 'xgb', 'n_estimators': 786, 'learning_rate': 0.011135861731563083, 'max_depth': 5, 'subsample': 0.7653963261169046, 'colsample_bytree': 0.6384154822500788, 'min_child_weight': 18}. Best is trial 4 with value: 0.939124080342431.\n",
      "[I 2024-05-09 14:37:33,050] Trial 7 finished with value: 0.945921064421211 and parameters: {'scaling_method': 'maxabs', 'encoding_method': 'ordinal', 'algorithm': 'xgb', 'n_estimators': 988, 'learning_rate': 0.02460646912006134, 'max_depth': 4, 'subsample': 0.7135434389371372, 'colsample_bytree': 0.9779859976183762, 'min_child_weight': 17}. Best is trial 7 with value: 0.945921064421211.\n",
      "[I 2024-05-09 14:38:51,296] Trial 8 finished with value: 0.9396579515883313 and parameters: {'scaling_method': 'minmax', 'encoding_method': 'ordinal', 'algorithm': 'gbr', 'n_estimators': 584, 'learning_rate': 0.018840405620607036, 'max_depth': 3, 'subsample': 0.9412902400281931, 'min_sample_split': 7, 'min_sample_leaf': 1}. Best is trial 7 with value: 0.945921064421211.\n",
      "[I 2024-05-09 14:38:53,959] Trial 9 finished with value: -6.668040959580709 and parameters: {'scaling_method': 'minmax', 'encoding_method': 'onehot', 'drop': None, 'algorithm': 'xgb', 'n_estimators': 237, 'learning_rate': 0.0010927580540210627, 'max_depth': 8, 'subsample': 0.5705749310909862, 'colsample_bytree': 0.6193267970950622, 'min_child_weight': 19}. Best is trial 7 with value: 0.945921064421211.\n",
      "C:\\Users\\Natal\\anaconda3\\Lib\\site-packages\\sklearn\\preprocessing\\_encoders.py:227: UserWarning:\n",
      "\n",
      "Found unknown categories in columns [3, 10] during transform. These unknown categories will be encoded as all zeros\n",
      "\n",
      "C:\\Users\\Natal\\anaconda3\\Lib\\site-packages\\sklearn\\preprocessing\\_encoders.py:227: UserWarning:\n",
      "\n",
      "Found unknown categories in columns [3, 9, 14] during transform. These unknown categories will be encoded as all zeros\n",
      "\n",
      "C:\\Users\\Natal\\anaconda3\\Lib\\site-packages\\sklearn\\preprocessing\\_encoders.py:227: UserWarning:\n",
      "\n",
      "Found unknown categories in columns [5, 21] during transform. These unknown categories will be encoded as all zeros\n",
      "\n",
      "C:\\Users\\Natal\\anaconda3\\Lib\\site-packages\\sklearn\\preprocessing\\_encoders.py:227: UserWarning:\n",
      "\n",
      "Found unknown categories in columns [9, 21] during transform. These unknown categories will be encoded as all zeros\n",
      "\n",
      "C:\\Users\\Natal\\anaconda3\\Lib\\site-packages\\sklearn\\preprocessing\\_encoders.py:227: UserWarning:\n",
      "\n",
      "Found unknown categories in columns [0] during transform. These unknown categories will be encoded as all zeros\n",
      "\n",
      "[I 2024-05-09 14:39:02,460] Trial 10 finished with value: 0.9467528487113739 and parameters: {'scaling_method': 'maxabs', 'encoding_method': 'onehot', 'drop': 'first', 'algorithm': 'xgb', 'n_estimators': 320, 'learning_rate': 0.08495053843582513, 'max_depth': 4, 'subsample': 0.5694139421611879, 'colsample_bytree': 0.9974520427351046, 'min_child_weight': 10}. Best is trial 10 with value: 0.9467528487113739.\n",
      "C:\\Users\\Natal\\anaconda3\\Lib\\site-packages\\sklearn\\preprocessing\\_encoders.py:227: UserWarning:\n",
      "\n",
      "Found unknown categories in columns [3, 10] during transform. These unknown categories will be encoded as all zeros\n",
      "\n",
      "C:\\Users\\Natal\\anaconda3\\Lib\\site-packages\\sklearn\\preprocessing\\_encoders.py:227: UserWarning:\n",
      "\n",
      "Found unknown categories in columns [3, 9, 14] during transform. These unknown categories will be encoded as all zeros\n",
      "\n",
      "C:\\Users\\Natal\\anaconda3\\Lib\\site-packages\\sklearn\\preprocessing\\_encoders.py:227: UserWarning:\n",
      "\n",
      "Found unknown categories in columns [5, 21] during transform. These unknown categories will be encoded as all zeros\n",
      "\n",
      "C:\\Users\\Natal\\anaconda3\\Lib\\site-packages\\sklearn\\preprocessing\\_encoders.py:227: UserWarning:\n",
      "\n",
      "Found unknown categories in columns [9, 21] during transform. These unknown categories will be encoded as all zeros\n",
      "\n",
      "C:\\Users\\Natal\\anaconda3\\Lib\\site-packages\\sklearn\\preprocessing\\_encoders.py:227: UserWarning:\n",
      "\n",
      "Found unknown categories in columns [0] during transform. These unknown categories will be encoded as all zeros\n",
      "\n",
      "[I 2024-05-09 14:39:10,226] Trial 11 finished with value: 0.9458313350232139 and parameters: {'scaling_method': 'maxabs', 'encoding_method': 'onehot', 'drop': 'first', 'algorithm': 'xgb', 'n_estimators': 299, 'learning_rate': 0.09677186175831341, 'max_depth': 4, 'subsample': 0.5108249896037436, 'colsample_bytree': 0.9578256860947097, 'min_child_weight': 10}. Best is trial 10 with value: 0.9467528487113739.\n",
      "C:\\Users\\Natal\\anaconda3\\Lib\\site-packages\\sklearn\\preprocessing\\_encoders.py:227: UserWarning:\n",
      "\n",
      "Found unknown categories in columns [3, 10] during transform. These unknown categories will be encoded as all zeros\n",
      "\n",
      "C:\\Users\\Natal\\anaconda3\\Lib\\site-packages\\sklearn\\preprocessing\\_encoders.py:227: UserWarning:\n",
      "\n",
      "Found unknown categories in columns [3, 9, 14] during transform. These unknown categories will be encoded as all zeros\n",
      "\n"
     ]
    },
    {
     "name": "stderr",
     "output_type": "stream",
     "text": [
      "C:\\Users\\Natal\\anaconda3\\Lib\\site-packages\\sklearn\\preprocessing\\_encoders.py:227: UserWarning:\n",
      "\n",
      "Found unknown categories in columns [5, 21] during transform. These unknown categories will be encoded as all zeros\n",
      "\n",
      "C:\\Users\\Natal\\anaconda3\\Lib\\site-packages\\sklearn\\preprocessing\\_encoders.py:227: UserWarning:\n",
      "\n",
      "Found unknown categories in columns [9, 21] during transform. These unknown categories will be encoded as all zeros\n",
      "\n",
      "C:\\Users\\Natal\\anaconda3\\Lib\\site-packages\\sklearn\\preprocessing\\_encoders.py:227: UserWarning:\n",
      "\n",
      "Found unknown categories in columns [0] during transform. These unknown categories will be encoded as all zeros\n",
      "\n",
      "[I 2024-05-09 14:39:20,329] Trial 12 finished with value: 0.9468467526040856 and parameters: {'scaling_method': 'maxabs', 'encoding_method': 'onehot', 'drop': 'first', 'algorithm': 'xgb', 'n_estimators': 409, 'learning_rate': 0.05896295568601594, 'max_depth': 4, 'subsample': 0.6106841271541497, 'colsample_bytree': 0.9825297193283792, 'min_child_weight': 10}. Best is trial 12 with value: 0.9468467526040856.\n",
      "C:\\Users\\Natal\\anaconda3\\Lib\\site-packages\\sklearn\\preprocessing\\_encoders.py:227: UserWarning:\n",
      "\n",
      "Found unknown categories in columns [3, 10] during transform. These unknown categories will be encoded as all zeros\n",
      "\n",
      "C:\\Users\\Natal\\anaconda3\\Lib\\site-packages\\sklearn\\preprocessing\\_encoders.py:227: UserWarning:\n",
      "\n",
      "Found unknown categories in columns [3, 9, 14] during transform. These unknown categories will be encoded as all zeros\n",
      "\n",
      "C:\\Users\\Natal\\anaconda3\\Lib\\site-packages\\sklearn\\preprocessing\\_encoders.py:227: UserWarning:\n",
      "\n",
      "Found unknown categories in columns [5, 21] during transform. These unknown categories will be encoded as all zeros\n",
      "\n",
      "C:\\Users\\Natal\\anaconda3\\Lib\\site-packages\\sklearn\\preprocessing\\_encoders.py:227: UserWarning:\n",
      "\n",
      "Found unknown categories in columns [9, 21] during transform. These unknown categories will be encoded as all zeros\n",
      "\n",
      "C:\\Users\\Natal\\anaconda3\\Lib\\site-packages\\sklearn\\preprocessing\\_encoders.py:227: UserWarning:\n",
      "\n",
      "Found unknown categories in columns [0] during transform. These unknown categories will be encoded as all zeros\n",
      "\n",
      "[I 2024-05-09 14:39:29,420] Trial 13 finished with value: 0.9473361779418956 and parameters: {'scaling_method': 'maxabs', 'encoding_method': 'onehot', 'drop': 'first', 'algorithm': 'xgb', 'n_estimators': 377, 'learning_rate': 0.05515195856215915, 'max_depth': 4, 'subsample': 0.5887684968219803, 'colsample_bytree': 0.8667914534512513, 'min_child_weight': 10}. Best is trial 13 with value: 0.9473361779418956.\n",
      "C:\\Users\\Natal\\anaconda3\\Lib\\site-packages\\sklearn\\preprocessing\\_encoders.py:227: UserWarning:\n",
      "\n",
      "Found unknown categories in columns [3, 10] during transform. These unknown categories will be encoded as all zeros\n",
      "\n",
      "C:\\Users\\Natal\\anaconda3\\Lib\\site-packages\\sklearn\\preprocessing\\_encoders.py:227: UserWarning:\n",
      "\n",
      "Found unknown categories in columns [3, 9, 14] during transform. These unknown categories will be encoded as all zeros\n",
      "\n",
      "C:\\Users\\Natal\\anaconda3\\Lib\\site-packages\\sklearn\\preprocessing\\_encoders.py:227: UserWarning:\n",
      "\n",
      "Found unknown categories in columns [5, 21] during transform. These unknown categories will be encoded as all zeros\n",
      "\n",
      "C:\\Users\\Natal\\anaconda3\\Lib\\site-packages\\sklearn\\preprocessing\\_encoders.py:227: UserWarning:\n",
      "\n",
      "Found unknown categories in columns [9, 21] during transform. These unknown categories will be encoded as all zeros\n",
      "\n",
      "C:\\Users\\Natal\\anaconda3\\Lib\\site-packages\\sklearn\\preprocessing\\_encoders.py:227: UserWarning:\n",
      "\n",
      "Found unknown categories in columns [0] during transform. These unknown categories will be encoded as all zeros\n",
      "\n",
      "[I 2024-05-09 14:39:40,927] Trial 14 finished with value: 0.9468393577598047 and parameters: {'scaling_method': 'standard', 'encoding_method': 'onehot', 'drop': 'first', 'algorithm': 'xgb', 'n_estimators': 418, 'learning_rate': 0.044861654898925664, 'max_depth': 5, 'subsample': 0.6275418605136974, 'colsample_bytree': 0.8583896404872253, 'min_child_weight': 12}. Best is trial 13 with value: 0.9473361779418956.\n",
      "C:\\Users\\Natal\\anaconda3\\Lib\\site-packages\\sklearn\\preprocessing\\_encoders.py:227: UserWarning:\n",
      "\n",
      "Found unknown categories in columns [3, 10] during transform. These unknown categories will be encoded as all zeros\n",
      "\n",
      "C:\\Users\\Natal\\anaconda3\\Lib\\site-packages\\sklearn\\preprocessing\\_encoders.py:227: UserWarning:\n",
      "\n",
      "Found unknown categories in columns [3, 9, 14] during transform. These unknown categories will be encoded as all zeros\n",
      "\n",
      "C:\\Users\\Natal\\anaconda3\\Lib\\site-packages\\sklearn\\preprocessing\\_encoders.py:227: UserWarning:\n",
      "\n",
      "Found unknown categories in columns [5, 21] during transform. These unknown categories will be encoded as all zeros\n",
      "\n",
      "C:\\Users\\Natal\\anaconda3\\Lib\\site-packages\\sklearn\\preprocessing\\_encoders.py:227: UserWarning:\n",
      "\n",
      "Found unknown categories in columns [9, 21] during transform. These unknown categories will be encoded as all zeros\n",
      "\n",
      "C:\\Users\\Natal\\anaconda3\\Lib\\site-packages\\sklearn\\preprocessing\\_encoders.py:227: UserWarning:\n",
      "\n",
      "Found unknown categories in columns [0] during transform. These unknown categories will be encoded as all zeros\n",
      "\n",
      "[I 2024-05-09 14:39:43,206] Trial 15 finished with value: -6.618715574190549 and parameters: {'scaling_method': 'maxabs', 'encoding_method': 'onehot', 'drop': 'first', 'algorithm': 'xgb', 'n_estimators': 138, 'learning_rate': 0.005280937423086578, 'max_depth': 5, 'subsample': 0.8423175143564245, 'colsample_bytree': 0.8660624370387108, 'min_child_weight': 12}. Best is trial 13 with value: 0.9473361779418956.\n",
      "C:\\Users\\Natal\\anaconda3\\Lib\\site-packages\\sklearn\\preprocessing\\_encoders.py:227: UserWarning:\n",
      "\n",
      "Found unknown categories in columns [3, 10] during transform. These unknown categories will be encoded as all zeros\n",
      "\n",
      "C:\\Users\\Natal\\anaconda3\\Lib\\site-packages\\sklearn\\preprocessing\\_encoders.py:227: UserWarning:\n",
      "\n",
      "Found unknown categories in columns [3, 9, 14] during transform. These unknown categories will be encoded as all zeros\n",
      "\n",
      "C:\\Users\\Natal\\anaconda3\\Lib\\site-packages\\sklearn\\preprocessing\\_encoders.py:227: UserWarning:\n",
      "\n",
      "Found unknown categories in columns [5, 21] during transform. These unknown categories will be encoded as all zeros\n",
      "\n",
      "C:\\Users\\Natal\\anaconda3\\Lib\\site-packages\\sklearn\\preprocessing\\_encoders.py:227: UserWarning:\n",
      "\n",
      "Found unknown categories in columns [9, 21] during transform. These unknown categories will be encoded as all zeros\n",
      "\n",
      "C:\\Users\\Natal\\anaconda3\\Lib\\site-packages\\sklearn\\preprocessing\\_encoders.py:227: UserWarning:\n",
      "\n",
      "Found unknown categories in columns [0] during transform. These unknown categories will be encoded as all zeros\n",
      "\n",
      "[I 2024-05-09 14:39:59,304] Trial 16 finished with value: 0.9460917842201833 and parameters: {'scaling_method': 'maxabs', 'encoding_method': 'onehot', 'drop': 'first', 'algorithm': 'xgb', 'n_estimators': 443, 'learning_rate': 0.03666892674729644, 'max_depth': 7, 'subsample': 0.6208209796595405, 'colsample_bytree': 0.9095669216337628, 'min_child_weight': 14}. Best is trial 13 with value: 0.9473361779418956.\n",
      "C:\\Users\\Natal\\anaconda3\\Lib\\site-packages\\sklearn\\preprocessing\\_encoders.py:227: UserWarning:\n",
      "\n",
      "Found unknown categories in columns [3, 10] during transform. These unknown categories will be encoded as all zeros\n",
      "\n",
      "C:\\Users\\Natal\\anaconda3\\Lib\\site-packages\\sklearn\\preprocessing\\_encoders.py:227: UserWarning:\n",
      "\n",
      "Found unknown categories in columns [3, 9, 14] during transform. These unknown categories will be encoded as all zeros\n",
      "\n",
      "C:\\Users\\Natal\\anaconda3\\Lib\\site-packages\\sklearn\\preprocessing\\_encoders.py:227: UserWarning:\n",
      "\n",
      "Found unknown categories in columns [5, 21] during transform. These unknown categories will be encoded as all zeros\n",
      "\n",
      "C:\\Users\\Natal\\anaconda3\\Lib\\site-packages\\sklearn\\preprocessing\\_encoders.py:227: UserWarning:\n",
      "\n",
      "Found unknown categories in columns [9, 21] during transform. These unknown categories will be encoded as all zeros\n",
      "\n",
      "C:\\Users\\Natal\\anaconda3\\Lib\\site-packages\\sklearn\\preprocessing\\_encoders.py:227: UserWarning:\n",
      "\n",
      "Found unknown categories in columns [0] during transform. These unknown categories will be encoded as all zeros\n",
      "\n",
      "[I 2024-05-09 14:40:05,688] Trial 17 finished with value: -1.3985461187167059 and parameters: {'scaling_method': 'maxabs', 'encoding_method': 'onehot', 'drop': 'first', 'algorithm': 'xgb', 'n_estimators': 453, 'learning_rate': 0.006114530743805597, 'max_depth': 4, 'subsample': 0.5315196561061142, 'colsample_bytree': 0.5011329563102696, 'min_child_weight': 10}. Best is trial 13 with value: 0.9473361779418956.\n"
     ]
    },
    {
     "name": "stderr",
     "output_type": "stream",
     "text": [
      "[I 2024-05-09 14:40:53,104] Trial 18 finished with value: 0.9431850595342992 and parameters: {'scaling_method': 'robust', 'encoding_method': 'onehot', 'drop': None, 'algorithm': 'gbr', 'n_estimators': 606, 'learning_rate': 0.04123738427866517, 'max_depth': 2, 'subsample': 0.6271633596141895, 'min_sample_split': 10, 'min_sample_leaf': 2}. Best is trial 13 with value: 0.9473361779418956.\n",
      "C:\\Users\\Natal\\anaconda3\\Lib\\site-packages\\sklearn\\preprocessing\\_encoders.py:227: UserWarning:\n",
      "\n",
      "Found unknown categories in columns [3, 10] during transform. These unknown categories will be encoded as all zeros\n",
      "\n",
      "C:\\Users\\Natal\\anaconda3\\Lib\\site-packages\\sklearn\\preprocessing\\_encoders.py:227: UserWarning:\n",
      "\n",
      "Found unknown categories in columns [3, 9, 14] during transform. These unknown categories will be encoded as all zeros\n",
      "\n",
      "C:\\Users\\Natal\\anaconda3\\Lib\\site-packages\\sklearn\\preprocessing\\_encoders.py:227: UserWarning:\n",
      "\n",
      "Found unknown categories in columns [5, 21] during transform. These unknown categories will be encoded as all zeros\n",
      "\n",
      "C:\\Users\\Natal\\anaconda3\\Lib\\site-packages\\sklearn\\preprocessing\\_encoders.py:227: UserWarning:\n",
      "\n",
      "Found unknown categories in columns [9, 21] during transform. These unknown categories will be encoded as all zeros\n",
      "\n",
      "C:\\Users\\Natal\\anaconda3\\Lib\\site-packages\\sklearn\\preprocessing\\_encoders.py:227: UserWarning:\n",
      "\n",
      "Found unknown categories in columns [0] during transform. These unknown categories will be encoded as all zeros\n",
      "\n",
      "[I 2024-05-09 14:40:56,016] Trial 19 finished with value: 0.9201333389557762 and parameters: {'scaling_method': 'standard', 'encoding_method': 'onehot', 'drop': 'first', 'algorithm': 'xgb', 'n_estimators': 109, 'learning_rate': 0.056959842309061634, 'max_depth': 5, 'subsample': 0.8249316146049106, 'colsample_bytree': 0.7766356810305548, 'min_child_weight': 12}. Best is trial 13 with value: 0.9473361779418956.\n",
      "C:\\Users\\Natal\\anaconda3\\Lib\\site-packages\\sklearn\\preprocessing\\_encoders.py:227: UserWarning:\n",
      "\n",
      "Found unknown categories in columns [3, 10] during transform. These unknown categories will be encoded as all zeros\n",
      "\n",
      "C:\\Users\\Natal\\anaconda3\\Lib\\site-packages\\sklearn\\preprocessing\\_encoders.py:227: UserWarning:\n",
      "\n",
      "Found unknown categories in columns [3, 9, 14] during transform. These unknown categories will be encoded as all zeros\n",
      "\n",
      "C:\\Users\\Natal\\anaconda3\\Lib\\site-packages\\sklearn\\preprocessing\\_encoders.py:227: UserWarning:\n",
      "\n",
      "Found unknown categories in columns [5, 21] during transform. These unknown categories will be encoded as all zeros\n",
      "\n",
      "C:\\Users\\Natal\\anaconda3\\Lib\\site-packages\\sklearn\\preprocessing\\_encoders.py:227: UserWarning:\n",
      "\n",
      "Found unknown categories in columns [9, 21] during transform. These unknown categories will be encoded as all zeros\n",
      "\n",
      "C:\\Users\\Natal\\anaconda3\\Lib\\site-packages\\sklearn\\preprocessing\\_encoders.py:227: UserWarning:\n",
      "\n",
      "Found unknown categories in columns [0] during transform. These unknown categories will be encoded as all zeros\n",
      "\n",
      "[I 2024-05-09 14:41:02,019] Trial 20 finished with value: -2.8157809604636403 and parameters: {'scaling_method': 'maxabs', 'encoding_method': 'onehot', 'drop': 'first', 'algorithm': 'xgb', 'n_estimators': 361, 'learning_rate': 0.006445285856076593, 'max_depth': 7, 'subsample': 0.6622111527963175, 'colsample_bytree': 0.7856878598692395, 'min_child_weight': 16}. Best is trial 13 with value: 0.9473361779418956.\n",
      "C:\\Users\\Natal\\anaconda3\\Lib\\site-packages\\sklearn\\preprocessing\\_encoders.py:227: UserWarning:\n",
      "\n",
      "Found unknown categories in columns [3, 10] during transform. These unknown categories will be encoded as all zeros\n",
      "\n",
      "C:\\Users\\Natal\\anaconda3\\Lib\\site-packages\\sklearn\\preprocessing\\_encoders.py:227: UserWarning:\n",
      "\n",
      "Found unknown categories in columns [3, 9, 14] during transform. These unknown categories will be encoded as all zeros\n",
      "\n",
      "C:\\Users\\Natal\\anaconda3\\Lib\\site-packages\\sklearn\\preprocessing\\_encoders.py:227: UserWarning:\n",
      "\n",
      "Found unknown categories in columns [5, 21] during transform. These unknown categories will be encoded as all zeros\n",
      "\n",
      "C:\\Users\\Natal\\anaconda3\\Lib\\site-packages\\sklearn\\preprocessing\\_encoders.py:227: UserWarning:\n",
      "\n",
      "Found unknown categories in columns [9, 21] during transform. These unknown categories will be encoded as all zeros\n",
      "\n",
      "C:\\Users\\Natal\\anaconda3\\Lib\\site-packages\\sklearn\\preprocessing\\_encoders.py:227: UserWarning:\n",
      "\n",
      "Found unknown categories in columns [0] during transform. These unknown categories will be encoded as all zeros\n",
      "\n",
      "[I 2024-05-09 14:41:14,706] Trial 21 finished with value: 0.9461178609432073 and parameters: {'scaling_method': 'standard', 'encoding_method': 'onehot', 'drop': 'first', 'algorithm': 'xgb', 'n_estimators': 452, 'learning_rate': 0.04008776066899122, 'max_depth': 5, 'subsample': 0.5955224758011395, 'colsample_bytree': 0.9028193712326081, 'min_child_weight': 11}. Best is trial 13 with value: 0.9473361779418956.\n",
      "C:\\Users\\Natal\\anaconda3\\Lib\\site-packages\\sklearn\\preprocessing\\_encoders.py:227: UserWarning:\n",
      "\n",
      "Found unknown categories in columns [3, 10] during transform. These unknown categories will be encoded as all zeros\n",
      "\n",
      "C:\\Users\\Natal\\anaconda3\\Lib\\site-packages\\sklearn\\preprocessing\\_encoders.py:227: UserWarning:\n",
      "\n",
      "Found unknown categories in columns [3, 9, 14] during transform. These unknown categories will be encoded as all zeros\n",
      "\n",
      "C:\\Users\\Natal\\anaconda3\\Lib\\site-packages\\sklearn\\preprocessing\\_encoders.py:227: UserWarning:\n",
      "\n",
      "Found unknown categories in columns [5, 21] during transform. These unknown categories will be encoded as all zeros\n",
      "\n",
      "C:\\Users\\Natal\\anaconda3\\Lib\\site-packages\\sklearn\\preprocessing\\_encoders.py:227: UserWarning:\n",
      "\n",
      "Found unknown categories in columns [9, 21] during transform. These unknown categories will be encoded as all zeros\n",
      "\n",
      "C:\\Users\\Natal\\anaconda3\\Lib\\site-packages\\sklearn\\preprocessing\\_encoders.py:227: UserWarning:\n",
      "\n",
      "Found unknown categories in columns [0] during transform. These unknown categories will be encoded as all zeros\n",
      "\n",
      "[I 2024-05-09 14:41:28,959] Trial 22 finished with value: 0.9470483908121354 and parameters: {'scaling_method': 'standard', 'encoding_method': 'onehot', 'drop': 'first', 'algorithm': 'xgb', 'n_estimators': 492, 'learning_rate': 0.054107546676067805, 'max_depth': 5, 'subsample': 0.6519445892710904, 'colsample_bytree': 0.8326682353519276, 'min_child_weight': 12}. Best is trial 13 with value: 0.9473361779418956.\n",
      "C:\\Users\\Natal\\anaconda3\\Lib\\site-packages\\sklearn\\preprocessing\\_encoders.py:227: UserWarning:\n",
      "\n",
      "Found unknown categories in columns [3, 10] during transform. These unknown categories will be encoded as all zeros\n",
      "\n",
      "C:\\Users\\Natal\\anaconda3\\Lib\\site-packages\\sklearn\\preprocessing\\_encoders.py:227: UserWarning:\n",
      "\n",
      "Found unknown categories in columns [3, 9, 14] during transform. These unknown categories will be encoded as all zeros\n",
      "\n",
      "C:\\Users\\Natal\\anaconda3\\Lib\\site-packages\\sklearn\\preprocessing\\_encoders.py:227: UserWarning:\n",
      "\n",
      "Found unknown categories in columns [5, 21] during transform. These unknown categories will be encoded as all zeros\n",
      "\n",
      "C:\\Users\\Natal\\anaconda3\\Lib\\site-packages\\sklearn\\preprocessing\\_encoders.py:227: UserWarning:\n",
      "\n",
      "Found unknown categories in columns [9, 21] during transform. These unknown categories will be encoded as all zeros\n",
      "\n",
      "C:\\Users\\Natal\\anaconda3\\Lib\\site-packages\\sklearn\\preprocessing\\_encoders.py:227: UserWarning:\n",
      "\n",
      "Found unknown categories in columns [0] during transform. These unknown categories will be encoded as all zeros\n",
      "\n",
      "[I 2024-05-09 14:41:41,403] Trial 23 finished with value: 0.9455878468394108 and parameters: {'scaling_method': 'standard', 'encoding_method': 'onehot', 'drop': 'first', 'algorithm': 'xgb', 'n_estimators': 529, 'learning_rate': 0.029446138119119204, 'max_depth': 4, 'subsample': 0.5549065017748849, 'colsample_bytree': 0.8154619952071438, 'min_child_weight': 11}. Best is trial 13 with value: 0.9473361779418956.\n",
      "C:\\Users\\Natal\\anaconda3\\Lib\\site-packages\\sklearn\\preprocessing\\_encoders.py:227: UserWarning:\n",
      "\n",
      "Found unknown categories in columns [3, 10] during transform. These unknown categories will be encoded as all zeros\n",
      "\n",
      "C:\\Users\\Natal\\anaconda3\\Lib\\site-packages\\sklearn\\preprocessing\\_encoders.py:227: UserWarning:\n",
      "\n",
      "Found unknown categories in columns [3, 9, 14] during transform. These unknown categories will be encoded as all zeros\n",
      "\n"
     ]
    },
    {
     "name": "stderr",
     "output_type": "stream",
     "text": [
      "C:\\Users\\Natal\\anaconda3\\Lib\\site-packages\\sklearn\\preprocessing\\_encoders.py:227: UserWarning:\n",
      "\n",
      "Found unknown categories in columns [5, 21] during transform. These unknown categories will be encoded as all zeros\n",
      "\n",
      "C:\\Users\\Natal\\anaconda3\\Lib\\site-packages\\sklearn\\preprocessing\\_encoders.py:227: UserWarning:\n",
      "\n",
      "Found unknown categories in columns [9, 21] during transform. These unknown categories will be encoded as all zeros\n",
      "\n",
      "C:\\Users\\Natal\\anaconda3\\Lib\\site-packages\\sklearn\\preprocessing\\_encoders.py:227: UserWarning:\n",
      "\n",
      "Found unknown categories in columns [0] during transform. These unknown categories will be encoded as all zeros\n",
      "\n",
      "[I 2024-05-09 14:41:47,609] Trial 24 finished with value: 0.9444578658565188 and parameters: {'scaling_method': 'standard', 'encoding_method': 'onehot', 'drop': 'first', 'algorithm': 'xgb', 'n_estimators': 214, 'learning_rate': 0.06338942981075953, 'max_depth': 5, 'subsample': 0.6528762383740928, 'colsample_bytree': 0.9259085574579127, 'min_child_weight': 11}. Best is trial 13 with value: 0.9473361779418956.\n",
      "[I 2024-05-09 14:41:58,849] Trial 25 finished with value: 0.9352098187991708 and parameters: {'scaling_method': 'maxabs', 'encoding_method': 'onehot', 'drop': None, 'algorithm': 'xgb', 'n_estimators': 526, 'learning_rate': 0.016882113587601652, 'max_depth': 4, 'subsample': 0.7241295127018244, 'colsample_bytree': 0.7077297224385272, 'min_child_weight': 13}. Best is trial 13 with value: 0.9473361779418956.\n",
      "C:\\Users\\Natal\\anaconda3\\Lib\\site-packages\\sklearn\\preprocessing\\_encoders.py:227: UserWarning:\n",
      "\n",
      "Found unknown categories in columns [3, 10] during transform. These unknown categories will be encoded as all zeros\n",
      "\n",
      "C:\\Users\\Natal\\anaconda3\\Lib\\site-packages\\sklearn\\preprocessing\\_encoders.py:227: UserWarning:\n",
      "\n",
      "Found unknown categories in columns [3, 9, 14] during transform. These unknown categories will be encoded as all zeros\n",
      "\n",
      "C:\\Users\\Natal\\anaconda3\\Lib\\site-packages\\sklearn\\preprocessing\\_encoders.py:227: UserWarning:\n",
      "\n",
      "Found unknown categories in columns [5, 21] during transform. These unknown categories will be encoded as all zeros\n",
      "\n",
      "C:\\Users\\Natal\\anaconda3\\Lib\\site-packages\\sklearn\\preprocessing\\_encoders.py:227: UserWarning:\n",
      "\n",
      "Found unknown categories in columns [9, 21] during transform. These unknown categories will be encoded as all zeros\n",
      "\n",
      "C:\\Users\\Natal\\anaconda3\\Lib\\site-packages\\sklearn\\preprocessing\\_encoders.py:227: UserWarning:\n",
      "\n",
      "Found unknown categories in columns [0] during transform. These unknown categories will be encoded as all zeros\n",
      "\n",
      "[I 2024-05-09 14:42:51,427] Trial 26 finished with value: 0.9452560469000291 and parameters: {'scaling_method': 'standard', 'encoding_method': 'onehot', 'drop': 'first', 'algorithm': 'gbr', 'n_estimators': 551, 'learning_rate': 0.0786804518701596, 'max_depth': 3, 'subsample': 0.5005630527822815, 'min_sample_split': 8, 'min_sample_leaf': 10}. Best is trial 13 with value: 0.9473361779418956.\n",
      "C:\\Users\\Natal\\anaconda3\\Lib\\site-packages\\sklearn\\preprocessing\\_encoders.py:227: UserWarning:\n",
      "\n",
      "Found unknown categories in columns [3, 10] during transform. These unknown categories will be encoded as all zeros\n",
      "\n",
      "C:\\Users\\Natal\\anaconda3\\Lib\\site-packages\\sklearn\\preprocessing\\_encoders.py:227: UserWarning:\n",
      "\n",
      "Found unknown categories in columns [3, 9, 14] during transform. These unknown categories will be encoded as all zeros\n",
      "\n",
      "C:\\Users\\Natal\\anaconda3\\Lib\\site-packages\\sklearn\\preprocessing\\_encoders.py:227: UserWarning:\n",
      "\n",
      "Found unknown categories in columns [5, 21] during transform. These unknown categories will be encoded as all zeros\n",
      "\n",
      "C:\\Users\\Natal\\anaconda3\\Lib\\site-packages\\sklearn\\preprocessing\\_encoders.py:227: UserWarning:\n",
      "\n",
      "Found unknown categories in columns [9, 21] during transform. These unknown categories will be encoded as all zeros\n",
      "\n",
      "C:\\Users\\Natal\\anaconda3\\Lib\\site-packages\\sklearn\\preprocessing\\_encoders.py:227: UserWarning:\n",
      "\n",
      "Found unknown categories in columns [0] during transform. These unknown categories will be encoded as all zeros\n",
      "\n",
      "[I 2024-05-09 14:43:02,218] Trial 27 finished with value: 0.947731954317037 and parameters: {'scaling_method': 'robust', 'encoding_method': 'onehot', 'drop': 'first', 'algorithm': 'xgb', 'n_estimators': 381, 'learning_rate': 0.04989493725094671, 'max_depth': 5, 'subsample': 0.6066944789233786, 'colsample_bytree': 0.8193076124546943, 'min_child_weight': 10}. Best is trial 27 with value: 0.947731954317037.\n",
      "C:\\Users\\Natal\\anaconda3\\Lib\\site-packages\\sklearn\\preprocessing\\_encoders.py:227: UserWarning:\n",
      "\n",
      "Found unknown categories in columns [3, 10] during transform. These unknown categories will be encoded as all zeros\n",
      "\n",
      "C:\\Users\\Natal\\anaconda3\\Lib\\site-packages\\sklearn\\preprocessing\\_encoders.py:227: UserWarning:\n",
      "\n",
      "Found unknown categories in columns [3, 9, 14] during transform. These unknown categories will be encoded as all zeros\n",
      "\n",
      "C:\\Users\\Natal\\anaconda3\\Lib\\site-packages\\sklearn\\preprocessing\\_encoders.py:227: UserWarning:\n",
      "\n",
      "Found unknown categories in columns [5, 21] during transform. These unknown categories will be encoded as all zeros\n",
      "\n",
      "C:\\Users\\Natal\\anaconda3\\Lib\\site-packages\\sklearn\\preprocessing\\_encoders.py:227: UserWarning:\n",
      "\n",
      "Found unknown categories in columns [9, 21] during transform. These unknown categories will be encoded as all zeros\n",
      "\n",
      "C:\\Users\\Natal\\anaconda3\\Lib\\site-packages\\sklearn\\preprocessing\\_encoders.py:227: UserWarning:\n",
      "\n",
      "Found unknown categories in columns [0] during transform. These unknown categories will be encoded as all zeros\n",
      "\n",
      "[I 2024-05-09 14:43:08,634] Trial 28 finished with value: 0.9325835512177976 and parameters: {'scaling_method': 'robust', 'encoding_method': 'onehot', 'drop': 'first', 'algorithm': 'xgb', 'n_estimators': 256, 'learning_rate': 0.029222159212191765, 'max_depth': 5, 'subsample': 0.6669716719469134, 'colsample_bytree': 0.8107873554294557, 'min_child_weight': 13}. Best is trial 27 with value: 0.947731954317037.\n",
      "[I 2024-05-09 14:44:40,258] Trial 29 finished with value: 0.9435533547514243 and parameters: {'scaling_method': 'robust', 'encoding_method': 'onehot', 'drop': None, 'algorithm': 'gbr', 'n_estimators': 654, 'learning_rate': 0.017986373971067348, 'max_depth': 3, 'subsample': 0.790292444884407, 'min_sample_split': 10, 'min_sample_leaf': 4}. Best is trial 27 with value: 0.947731954317037.\n",
      "C:\\Users\\Natal\\anaconda3\\Lib\\site-packages\\sklearn\\preprocessing\\_encoders.py:227: UserWarning:\n",
      "\n",
      "Found unknown categories in columns [3, 10] during transform. These unknown categories will be encoded as all zeros\n",
      "\n",
      "C:\\Users\\Natal\\anaconda3\\Lib\\site-packages\\sklearn\\preprocessing\\_encoders.py:227: UserWarning:\n",
      "\n",
      "Found unknown categories in columns [3, 9, 14] during transform. These unknown categories will be encoded as all zeros\n",
      "\n",
      "C:\\Users\\Natal\\anaconda3\\Lib\\site-packages\\sklearn\\preprocessing\\_encoders.py:227: UserWarning:\n",
      "\n",
      "Found unknown categories in columns [5, 21] during transform. These unknown categories will be encoded as all zeros\n",
      "\n",
      "C:\\Users\\Natal\\anaconda3\\Lib\\site-packages\\sklearn\\preprocessing\\_encoders.py:227: UserWarning:\n",
      "\n",
      "Found unknown categories in columns [9, 21] during transform. These unknown categories will be encoded as all zeros\n",
      "\n",
      "C:\\Users\\Natal\\anaconda3\\Lib\\site-packages\\sklearn\\preprocessing\\_encoders.py:227: UserWarning:\n",
      "\n",
      "Found unknown categories in columns [0] during transform. These unknown categories will be encoded as all zeros\n",
      "\n",
      "[I 2024-05-09 14:44:45,700] Trial 30 finished with value: -5.706281152222799 and parameters: {'scaling_method': 'robust', 'encoding_method': 'onehot', 'drop': 'first', 'algorithm': 'xgb', 'n_estimators': 366, 'learning_rate': 0.004056913389456423, 'max_depth': 7, 'subsample': 0.7388552549346006, 'colsample_bytree': 0.7338937096356506, 'min_child_weight': 11}. Best is trial 27 with value: 0.947731954317037.\n",
      "C:\\Users\\Natal\\anaconda3\\Lib\\site-packages\\sklearn\\preprocessing\\_encoders.py:227: UserWarning:\n",
      "\n",
      "Found unknown categories in columns [3, 10] during transform. These unknown categories will be encoded as all zeros\n",
      "\n",
      "C:\\Users\\Natal\\anaconda3\\Lib\\site-packages\\sklearn\\preprocessing\\_encoders.py:227: UserWarning:\n",
      "\n",
      "Found unknown categories in columns [3, 9, 14] during transform. These unknown categories will be encoded as all zeros\n",
      "\n",
      "C:\\Users\\Natal\\anaconda3\\Lib\\site-packages\\sklearn\\preprocessing\\_encoders.py:227: UserWarning:\n",
      "\n",
      "Found unknown categories in columns [5, 21] during transform. These unknown categories will be encoded as all zeros\n",
      "\n"
     ]
    },
    {
     "name": "stderr",
     "output_type": "stream",
     "text": [
      "C:\\Users\\Natal\\anaconda3\\Lib\\site-packages\\sklearn\\preprocessing\\_encoders.py:227: UserWarning:\n",
      "\n",
      "Found unknown categories in columns [9, 21] during transform. These unknown categories will be encoded as all zeros\n",
      "\n",
      "C:\\Users\\Natal\\anaconda3\\Lib\\site-packages\\sklearn\\preprocessing\\_encoders.py:227: UserWarning:\n",
      "\n",
      "Found unknown categories in columns [0] during transform. These unknown categories will be encoded as all zeros\n",
      "\n",
      "[I 2024-05-09 14:44:56,472] Trial 31 finished with value: 0.9471928011745494 and parameters: {'scaling_method': 'robust', 'encoding_method': 'onehot', 'drop': 'first', 'algorithm': 'xgb', 'n_estimators': 375, 'learning_rate': 0.054103376320489026, 'max_depth': 5, 'subsample': 0.5943648442816784, 'colsample_bytree': 0.8234777377354241, 'min_child_weight': 10}. Best is trial 27 with value: 0.947731954317037.\n",
      "C:\\Users\\Natal\\anaconda3\\Lib\\site-packages\\sklearn\\preprocessing\\_encoders.py:227: UserWarning:\n",
      "\n",
      "Found unknown categories in columns [3, 10] during transform. These unknown categories will be encoded as all zeros\n",
      "\n",
      "C:\\Users\\Natal\\anaconda3\\Lib\\site-packages\\sklearn\\preprocessing\\_encoders.py:227: UserWarning:\n",
      "\n",
      "Found unknown categories in columns [3, 9, 14] during transform. These unknown categories will be encoded as all zeros\n",
      "\n",
      "C:\\Users\\Natal\\anaconda3\\Lib\\site-packages\\sklearn\\preprocessing\\_encoders.py:227: UserWarning:\n",
      "\n",
      "Found unknown categories in columns [5, 21] during transform. These unknown categories will be encoded as all zeros\n",
      "\n",
      "C:\\Users\\Natal\\anaconda3\\Lib\\site-packages\\sklearn\\preprocessing\\_encoders.py:227: UserWarning:\n",
      "\n",
      "Found unknown categories in columns [9, 21] during transform. These unknown categories will be encoded as all zeros\n",
      "\n",
      "C:\\Users\\Natal\\anaconda3\\Lib\\site-packages\\sklearn\\preprocessing\\_encoders.py:227: UserWarning:\n",
      "\n",
      "Found unknown categories in columns [0] during transform. These unknown categories will be encoded as all zeros\n",
      "\n",
      "[I 2024-05-09 14:45:14,987] Trial 32 finished with value: 0.9475717709554112 and parameters: {'scaling_method': 'robust', 'encoding_method': 'onehot', 'drop': 'first', 'algorithm': 'xgb', 'n_estimators': 493, 'learning_rate': 0.04483731341708587, 'max_depth': 6, 'subsample': 0.5421119156506288, 'colsample_bytree': 0.8307190643542495, 'min_child_weight': 10}. Best is trial 27 with value: 0.947731954317037.\n",
      "C:\\Users\\Natal\\anaconda3\\Lib\\site-packages\\sklearn\\preprocessing\\_encoders.py:227: UserWarning:\n",
      "\n",
      "Found unknown categories in columns [3, 10] during transform. These unknown categories will be encoded as all zeros\n",
      "\n",
      "C:\\Users\\Natal\\anaconda3\\Lib\\site-packages\\sklearn\\preprocessing\\_encoders.py:227: UserWarning:\n",
      "\n",
      "Found unknown categories in columns [3, 9, 14] during transform. These unknown categories will be encoded as all zeros\n",
      "\n",
      "C:\\Users\\Natal\\anaconda3\\Lib\\site-packages\\sklearn\\preprocessing\\_encoders.py:227: UserWarning:\n",
      "\n",
      "Found unknown categories in columns [5, 21] during transform. These unknown categories will be encoded as all zeros\n",
      "\n",
      "C:\\Users\\Natal\\anaconda3\\Lib\\site-packages\\sklearn\\preprocessing\\_encoders.py:227: UserWarning:\n",
      "\n",
      "Found unknown categories in columns [9, 21] during transform. These unknown categories will be encoded as all zeros\n",
      "\n",
      "C:\\Users\\Natal\\anaconda3\\Lib\\site-packages\\sklearn\\preprocessing\\_encoders.py:227: UserWarning:\n",
      "\n",
      "Found unknown categories in columns [0] during transform. These unknown categories will be encoded as all zeros\n",
      "\n",
      "[I 2024-05-09 14:45:27,884] Trial 33 finished with value: 0.9474352614081857 and parameters: {'scaling_method': 'robust', 'encoding_method': 'onehot', 'drop': 'first', 'algorithm': 'xgb', 'n_estimators': 363, 'learning_rate': 0.07642904998794799, 'max_depth': 6, 'subsample': 0.5454561715867915, 'colsample_bytree': 0.88447584010047, 'min_child_weight': 10}. Best is trial 27 with value: 0.947731954317037.\n",
      "C:\\Users\\Natal\\anaconda3\\Lib\\site-packages\\sklearn\\preprocessing\\_encoders.py:227: UserWarning:\n",
      "\n",
      "Found unknown categories in columns [3, 10] during transform. These unknown categories will be encoded as all zeros\n",
      "\n",
      "C:\\Users\\Natal\\anaconda3\\Lib\\site-packages\\sklearn\\preprocessing\\_encoders.py:227: UserWarning:\n",
      "\n",
      "Found unknown categories in columns [3, 9, 14] during transform. These unknown categories will be encoded as all zeros\n",
      "\n",
      "C:\\Users\\Natal\\anaconda3\\Lib\\site-packages\\sklearn\\preprocessing\\_encoders.py:227: UserWarning:\n",
      "\n",
      "Found unknown categories in columns [5, 21] during transform. These unknown categories will be encoded as all zeros\n",
      "\n",
      "C:\\Users\\Natal\\anaconda3\\Lib\\site-packages\\sklearn\\preprocessing\\_encoders.py:227: UserWarning:\n",
      "\n",
      "Found unknown categories in columns [9, 21] during transform. These unknown categories will be encoded as all zeros\n",
      "\n",
      "C:\\Users\\Natal\\anaconda3\\Lib\\site-packages\\sklearn\\preprocessing\\_encoders.py:227: UserWarning:\n",
      "\n",
      "Found unknown categories in columns [0] during transform. These unknown categories will be encoded as all zeros\n",
      "\n",
      "[I 2024-05-09 14:45:34,434] Trial 34 finished with value: 0.9423063278113935 and parameters: {'scaling_method': 'robust', 'encoding_method': 'onehot', 'drop': 'first', 'algorithm': 'xgb', 'n_estimators': 182, 'learning_rate': 0.0770169195766543, 'max_depth': 6, 'subsample': 0.5444328179616515, 'colsample_bytree': 0.8984725668048332, 'min_child_weight': 11}. Best is trial 27 with value: 0.947731954317037.\n",
      "C:\\Users\\Natal\\anaconda3\\Lib\\site-packages\\sklearn\\preprocessing\\_encoders.py:227: UserWarning:\n",
      "\n",
      "Found unknown categories in columns [3, 10] during transform. These unknown categories will be encoded as all zeros\n",
      "\n",
      "C:\\Users\\Natal\\anaconda3\\Lib\\site-packages\\sklearn\\preprocessing\\_encoders.py:227: UserWarning:\n",
      "\n",
      "Found unknown categories in columns [3, 9, 14] during transform. These unknown categories will be encoded as all zeros\n",
      "\n",
      "C:\\Users\\Natal\\anaconda3\\Lib\\site-packages\\sklearn\\preprocessing\\_encoders.py:227: UserWarning:\n",
      "\n",
      "Found unknown categories in columns [5, 21] during transform. These unknown categories will be encoded as all zeros\n",
      "\n",
      "C:\\Users\\Natal\\anaconda3\\Lib\\site-packages\\sklearn\\preprocessing\\_encoders.py:227: UserWarning:\n",
      "\n",
      "Found unknown categories in columns [9, 21] during transform. These unknown categories will be encoded as all zeros\n",
      "\n",
      "C:\\Users\\Natal\\anaconda3\\Lib\\site-packages\\sklearn\\preprocessing\\_encoders.py:227: UserWarning:\n",
      "\n",
      "Found unknown categories in columns [0] during transform. These unknown categories will be encoded as all zeros\n",
      "\n",
      "[I 2024-05-09 14:45:44,772] Trial 35 finished with value: 0.9435317226539179 and parameters: {'scaling_method': 'robust', 'encoding_method': 'onehot', 'drop': 'first', 'algorithm': 'xgb', 'n_estimators': 292, 'learning_rate': 0.09912086377543394, 'max_depth': 6, 'subsample': 0.5357832092120193, 'colsample_bytree': 0.8760231234883664, 'min_child_weight': 10}. Best is trial 27 with value: 0.947731954317037.\n",
      "[I 2024-05-09 14:47:25,515] Trial 36 finished with value: 0.944740019298402 and parameters: {'scaling_method': 'robust', 'encoding_method': 'ordinal', 'algorithm': 'gbr', 'n_estimators': 546, 'learning_rate': 0.032787537880186256, 'max_depth': 6, 'subsample': 0.5830355449241789, 'min_sample_split': 8, 'min_sample_leaf': 10}. Best is trial 27 with value: 0.947731954317037.\n",
      "C:\\Users\\Natal\\anaconda3\\Lib\\site-packages\\sklearn\\preprocessing\\_encoders.py:227: UserWarning:\n",
      "\n",
      "Found unknown categories in columns [3, 10] during transform. These unknown categories will be encoded as all zeros\n",
      "\n",
      "C:\\Users\\Natal\\anaconda3\\Lib\\site-packages\\sklearn\\preprocessing\\_encoders.py:227: UserWarning:\n",
      "\n",
      "Found unknown categories in columns [3, 9, 14] during transform. These unknown categories will be encoded as all zeros\n",
      "\n",
      "C:\\Users\\Natal\\anaconda3\\Lib\\site-packages\\sklearn\\preprocessing\\_encoders.py:227: UserWarning:\n",
      "\n",
      "Found unknown categories in columns [5, 21] during transform. These unknown categories will be encoded as all zeros\n",
      "\n",
      "C:\\Users\\Natal\\anaconda3\\Lib\\site-packages\\sklearn\\preprocessing\\_encoders.py:227: UserWarning:\n",
      "\n",
      "Found unknown categories in columns [9, 21] during transform. These unknown categories will be encoded as all zeros\n",
      "\n",
      "C:\\Users\\Natal\\anaconda3\\Lib\\site-packages\\sklearn\\preprocessing\\_encoders.py:227: UserWarning:\n",
      "\n",
      "Found unknown categories in columns [0] during transform. These unknown categories will be encoded as all zeros\n",
      "\n",
      "[I 2024-05-09 14:47:37,508] Trial 37 finished with value: 0.945590869131378 and parameters: {'scaling_method': 'robust', 'encoding_method': 'onehot', 'drop': 'first', 'algorithm': 'xgb', 'n_estimators': 334, 'learning_rate': 0.04738685316720312, 'max_depth': 7, 'subsample': 0.5180572230310427, 'colsample_bytree': 0.7777281897996927, 'min_child_weight': 11}. Best is trial 27 with value: 0.947731954317037.\n"
     ]
    },
    {
     "name": "stderr",
     "output_type": "stream",
     "text": [
      "[I 2024-05-09 14:47:42,601] Trial 38 finished with value: -6.187424986309174 and parameters: {'scaling_method': 'robust', 'encoding_method': 'ordinal', 'algorithm': 'xgb', 'n_estimators': 492, 'learning_rate': 0.002541777292387631, 'max_depth': 6, 'subsample': 0.5526931965226454, 'colsample_bytree': 0.9249117157757407, 'min_child_weight': 14}. Best is trial 27 with value: 0.947731954317037.\n",
      "[I 2024-05-09 14:49:10,984] Trial 39 finished with value: 0.9478130958575682 and parameters: {'scaling_method': 'minmax', 'encoding_method': 'ordinal', 'algorithm': 'gbr', 'n_estimators': 857, 'learning_rate': 0.022914063703816382, 'max_depth': 3, 'subsample': 0.6884176107673963, 'min_sample_split': 7, 'min_sample_leaf': 4}. Best is trial 39 with value: 0.9478130958575682.\n",
      "[I 2024-05-09 14:50:18,557] Trial 40 finished with value: 0.9417092868177488 and parameters: {'scaling_method': 'minmax', 'encoding_method': 'ordinal', 'algorithm': 'gbr', 'n_estimators': 846, 'learning_rate': 0.023585939299099686, 'max_depth': 2, 'subsample': 0.6873745316418041, 'min_sample_split': 7, 'min_sample_leaf': 4}. Best is trial 39 with value: 0.9478130958575682.\n",
      "[I 2024-05-09 14:51:45,556] Trial 41 finished with value: 0.9499982278412924 and parameters: {'scaling_method': 'minmax', 'encoding_method': 'ordinal', 'algorithm': 'gbr', 'n_estimators': 871, 'learning_rate': 0.06806495381094181, 'max_depth': 3, 'subsample': 0.6005286689869848, 'min_sample_split': 7, 'min_sample_leaf': 4}. Best is trial 41 with value: 0.9499982278412924.\n",
      "[I 2024-05-09 14:53:30,514] Trial 42 finished with value: 0.9510312863246181 and parameters: {'scaling_method': 'minmax', 'encoding_method': 'ordinal', 'algorithm': 'gbr', 'n_estimators': 873, 'learning_rate': 0.07662776587148856, 'max_depth': 3, 'subsample': 0.6842960902488119, 'min_sample_split': 7, 'min_sample_leaf': 4}. Best is trial 42 with value: 0.9510312863246181.\n",
      "[I 2024-05-09 14:54:56,955] Trial 43 finished with value: 0.944648335996371 and parameters: {'scaling_method': 'minmax', 'encoding_method': 'ordinal', 'algorithm': 'gbr', 'n_estimators': 877, 'learning_rate': 0.014449496481658964, 'max_depth': 3, 'subsample': 0.6857099601396931, 'min_sample_split': 7, 'min_sample_leaf': 4}. Best is trial 42 with value: 0.9510312863246181.\n",
      "[I 2024-05-09 14:56:37,638] Trial 44 finished with value: 0.9497606595753021 and parameters: {'scaling_method': 'minmax', 'encoding_method': 'ordinal', 'algorithm': 'gbr', 'n_estimators': 931, 'learning_rate': 0.024859592608336322, 'max_depth': 3, 'subsample': 0.7113070004618792, 'min_sample_split': 7, 'min_sample_leaf': 3}. Best is trial 42 with value: 0.9510312863246181.\n",
      "[I 2024-05-09 14:58:34,371] Trial 45 finished with value: 0.9480601190055751 and parameters: {'scaling_method': 'minmax', 'encoding_method': 'ordinal', 'algorithm': 'gbr', 'n_estimators': 961, 'learning_rate': 0.023312098295486076, 'max_depth': 3, 'subsample': 0.7613488542628728, 'min_sample_split': 7, 'min_sample_leaf': 3}. Best is trial 42 with value: 0.9510312863246181.\n",
      "[I 2024-05-09 15:00:34,071] Trial 46 finished with value: 0.9401649049371368 and parameters: {'scaling_method': 'minmax', 'encoding_method': 'ordinal', 'algorithm': 'gbr', 'n_estimators': 963, 'learning_rate': 0.009084949376174838, 'max_depth': 3, 'subsample': 0.7703831074921749, 'min_sample_split': 7, 'min_sample_leaf': 3}. Best is trial 42 with value: 0.9510312863246181.\n",
      "[I 2024-05-09 15:02:11,863] Trial 47 finished with value: 0.943554377690488 and parameters: {'scaling_method': 'minmax', 'encoding_method': 'ordinal', 'algorithm': 'gbr', 'n_estimators': 929, 'learning_rate': 0.011380569336704912, 'max_depth': 3, 'subsample': 0.7080892348223161, 'min_sample_split': 7, 'min_sample_leaf': 3}. Best is trial 42 with value: 0.9510312863246181.\n",
      "[I 2024-05-09 15:03:19,348] Trial 48 finished with value: 0.9388023192812809 and parameters: {'scaling_method': 'minmax', 'encoding_method': 'ordinal', 'algorithm': 'gbr', 'n_estimators': 829, 'learning_rate': 0.021957324500785975, 'max_depth': 2, 'subsample': 0.7943327447946151, 'min_sample_split': 7, 'min_sample_leaf': 5}. Best is trial 42 with value: 0.9510312863246181.\n",
      "[I 2024-05-09 15:05:04,329] Trial 49 finished with value: 0.9371398546205747 and parameters: {'scaling_method': 'minmax', 'encoding_method': 'ordinal', 'algorithm': 'gbr', 'n_estimators': 899, 'learning_rate': 0.008122782297922437, 'max_depth': 3, 'subsample': 0.7501617628187487, 'min_sample_split': 6, 'min_sample_leaf': 3}. Best is trial 42 with value: 0.9510312863246181.\n",
      "[I 2024-05-09 15:06:55,908] Trial 50 finished with value: 0.9437261538227588 and parameters: {'scaling_method': 'minmax', 'encoding_method': 'ordinal', 'algorithm': 'gbr', 'n_estimators': 942, 'learning_rate': 0.013493934867145518, 'max_depth': 3, 'subsample': 0.8173751904813168, 'min_sample_split': 8, 'min_sample_leaf': 5}. Best is trial 42 with value: 0.9510312863246181.\n",
      "[I 2024-05-09 15:08:21,219] Trial 51 finished with value: 0.9477937807086112 and parameters: {'scaling_method': 'minmax', 'encoding_method': 'ordinal', 'algorithm': 'gbr', 'n_estimators': 732, 'learning_rate': 0.02673681812652968, 'max_depth': 3, 'subsample': 0.7289038505316974, 'min_sample_split': 7, 'min_sample_leaf': 2}. Best is trial 42 with value: 0.9510312863246181.\n",
      "[I 2024-05-09 15:09:38,059] Trial 52 finished with value: 0.9487473884152792 and parameters: {'scaling_method': 'minmax', 'encoding_method': 'ordinal', 'algorithm': 'gbr', 'n_estimators': 732, 'learning_rate': 0.027361173126858054, 'max_depth': 3, 'subsample': 0.7299996605298238, 'min_sample_split': 7, 'min_sample_leaf': 2}. Best is trial 42 with value: 0.9510312863246181.\n",
      "[I 2024-05-09 15:10:57,759] Trial 53 finished with value: 0.9404431625976181 and parameters: {'scaling_method': 'minmax', 'encoding_method': 'ordinal', 'algorithm': 'gbr', 'n_estimators': 1000, 'learning_rate': 0.020185838611114428, 'max_depth': 2, 'subsample': 0.7541339311351664, 'min_sample_split': 7, 'min_sample_leaf': 2}. Best is trial 42 with value: 0.9510312863246181.\n",
      "[I 2024-05-09 15:12:37,607] Trial 54 finished with value: 0.9482892534352538 and parameters: {'scaling_method': 'minmax', 'encoding_method': 'ordinal', 'algorithm': 'gbr', 'n_estimators': 762, 'learning_rate': 0.03434848802303369, 'max_depth': 3, 'subsample': 0.8750228497911645, 'min_sample_split': 7, 'min_sample_leaf': 4}. Best is trial 42 with value: 0.9510312863246181.\n",
      "[I 2024-05-09 15:14:08,540] Trial 55 finished with value: 0.9476187480164091 and parameters: {'scaling_method': 'minmax', 'encoding_method': 'ordinal', 'algorithm': 'gbr', 'n_estimators': 767, 'learning_rate': 0.034675855106974816, 'max_depth': 3, 'subsample': 0.8523490062117169, 'min_sample_split': 6, 'min_sample_leaf': 3}. Best is trial 42 with value: 0.9510312863246181.\n",
      "[I 2024-05-09 15:15:17,432] Trial 56 finished with value: 0.9449257807376853 and parameters: {'scaling_method': 'minmax', 'encoding_method': 'ordinal', 'algorithm': 'gbr', 'n_estimators': 718, 'learning_rate': 0.06726051217574291, 'max_depth': 2, 'subsample': 0.9201021483797666, 'min_sample_split': 8, 'min_sample_leaf': 3}. Best is trial 42 with value: 0.9510312863246181.\n",
      "[I 2024-05-09 15:17:03,460] Trial 57 finished with value: 0.9434940864805025 and parameters: {'scaling_method': 'minmax', 'encoding_method': 'ordinal', 'algorithm': 'gbr', 'n_estimators': 801, 'learning_rate': 0.016005590973452992, 'max_depth': 3, 'subsample': 0.8708944291920472, 'min_sample_split': 7, 'min_sample_leaf': 1}. Best is trial 42 with value: 0.9510312863246181.\n",
      "[I 2024-05-09 15:18:49,472] Trial 58 finished with value: 0.9467677983987752 and parameters: {'scaling_method': 'minmax', 'encoding_method': 'ordinal', 'algorithm': 'gbr', 'n_estimators': 694, 'learning_rate': 0.03799272302644945, 'max_depth': 3, 'subsample': 0.9987086704490842, 'min_sample_split': 7, 'min_sample_leaf': 5}. Best is trial 42 with value: 0.9510312863246181.\n",
      "[I 2024-05-09 15:21:41,607] Trial 59 finished with value: 0.9463259905170339 and parameters: {'scaling_method': 'minmax', 'encoding_method': 'ordinal', 'algorithm': 'gbr', 'n_estimators': 897, 'learning_rate': 0.032034902759672, 'max_depth': 4, 'subsample': 0.8956849294641778, 'min_sample_split': 6, 'min_sample_leaf': 4}. Best is trial 42 with value: 0.9510312863246181.\n"
     ]
    },
    {
     "name": "stderr",
     "output_type": "stream",
     "text": [
      "[I 2024-05-09 15:23:32,959] Trial 60 finished with value: 0.9455676872154726 and parameters: {'scaling_method': 'minmax', 'encoding_method': 'ordinal', 'algorithm': 'gbr', 'n_estimators': 950, 'learning_rate': 0.06521661270888303, 'max_depth': 2, 'subsample': 0.9664983199913249, 'min_sample_split': 7, 'min_sample_leaf': 2}. Best is trial 42 with value: 0.9510312863246181.\n",
      "[I 2024-05-09 15:25:31,746] Trial 61 finished with value: 0.9487900833784845 and parameters: {'scaling_method': 'minmax', 'encoding_method': 'ordinal', 'algorithm': 'gbr', 'n_estimators': 859, 'learning_rate': 0.025780123103406972, 'max_depth': 3, 'subsample': 0.7016295848132901, 'min_sample_split': 7, 'min_sample_leaf': 4}. Best is trial 42 with value: 0.9510312863246181.\n",
      "[I 2024-05-09 15:27:37,025] Trial 62 finished with value: 0.9493716935278694 and parameters: {'scaling_method': 'minmax', 'encoding_method': 'ordinal', 'algorithm': 'gbr', 'n_estimators': 825, 'learning_rate': 0.02480029613723202, 'max_depth': 3, 'subsample': 0.708999738262975, 'min_sample_split': 7, 'min_sample_leaf': 4}. Best is trial 42 with value: 0.9510312863246181.\n",
      "[I 2024-05-09 15:29:45,584] Trial 63 finished with value: 0.9489783694423544 and parameters: {'scaling_method': 'minmax', 'encoding_method': 'ordinal', 'algorithm': 'gbr', 'n_estimators': 829, 'learning_rate': 0.027188336672784277, 'max_depth': 3, 'subsample': 0.7083643536984021, 'min_sample_split': 7, 'min_sample_leaf': 4}. Best is trial 42 with value: 0.9510312863246181.\n",
      "[I 2024-05-09 15:31:22,965] Trial 64 finished with value: 0.9500433921961859 and parameters: {'scaling_method': 'minmax', 'encoding_method': 'ordinal', 'algorithm': 'gbr', 'n_estimators': 818, 'learning_rate': 0.027772511825581, 'max_depth': 3, 'subsample': 0.7083878444561268, 'min_sample_split': 6, 'min_sample_leaf': 5}. Best is trial 42 with value: 0.9510312863246181.\n",
      "[I 2024-05-09 15:33:32,331] Trial 65 finished with value: 0.9479203311390723 and parameters: {'scaling_method': 'minmax', 'encoding_method': 'ordinal', 'algorithm': 'gbr', 'n_estimators': 825, 'learning_rate': 0.019869221399721654, 'max_depth': 4, 'subsample': 0.7084581808046084, 'min_sample_split': 6, 'min_sample_leaf': 6}. Best is trial 42 with value: 0.9510312863246181.\n",
      "[I 2024-05-09 15:35:01,586] Trial 66 finished with value: 0.9412724500659423 and parameters: {'scaling_method': 'minmax', 'encoding_method': 'ordinal', 'algorithm': 'gbr', 'n_estimators': 870, 'learning_rate': 0.01073526577638256, 'max_depth': 3, 'subsample': 0.6633709961311562, 'min_sample_split': 6, 'min_sample_leaf': 5}. Best is trial 42 with value: 0.9510312863246181.\n",
      "[I 2024-05-09 15:36:27,137] Trial 67 finished with value: 0.9482308598120283 and parameters: {'scaling_method': 'minmax', 'encoding_method': 'ordinal', 'algorithm': 'gbr', 'n_estimators': 784, 'learning_rate': 0.0882986095210617, 'max_depth': 3, 'subsample': 0.6344933054613353, 'min_sample_split': 8, 'min_sample_leaf': 6}. Best is trial 42 with value: 0.9510312863246181.\n",
      "[I 2024-05-09 15:37:56,916] Trial 68 finished with value: 0.950647717625729 and parameters: {'scaling_method': 'minmax', 'encoding_method': 'ordinal', 'algorithm': 'gbr', 'n_estimators': 827, 'learning_rate': 0.04202742517580643, 'max_depth': 3, 'subsample': 0.7008441311277546, 'min_sample_split': 9, 'min_sample_leaf': 5}. Best is trial 42 with value: 0.9510312863246181.\n",
      "[I 2024-05-09 15:38:57,992] Trial 69 finished with value: 0.9472997598328958 and parameters: {'scaling_method': 'minmax', 'encoding_method': 'ordinal', 'algorithm': 'gbr', 'n_estimators': 832, 'learning_rate': 0.04251603724150865, 'max_depth': 2, 'subsample': 0.6790725600856968, 'min_sample_split': 9, 'min_sample_leaf': 5}. Best is trial 42 with value: 0.9510312863246181.\n",
      "[I 2024-05-09 15:40:33,414] Trial 70 finished with value: 0.9500747301155699 and parameters: {'scaling_method': 'minmax', 'encoding_method': 'ordinal', 'algorithm': 'gbr', 'n_estimators': 807, 'learning_rate': 0.05014636961466454, 'max_depth': 3, 'subsample': 0.7196205568537808, 'min_sample_split': 9, 'min_sample_leaf': 7}. Best is trial 42 with value: 0.9510312863246181.\n",
      "[I 2024-05-09 15:41:56,777] Trial 71 finished with value: 0.9497063534560471 and parameters: {'scaling_method': 'minmax', 'encoding_method': 'ordinal', 'algorithm': 'gbr', 'n_estimators': 808, 'learning_rate': 0.06681450682176249, 'max_depth': 3, 'subsample': 0.640465545508525, 'min_sample_split': 9, 'min_sample_leaf': 8}. Best is trial 42 with value: 0.9510312863246181.\n",
      "[I 2024-05-09 15:43:25,935] Trial 72 finished with value: 0.9505812354784263 and parameters: {'scaling_method': 'minmax', 'encoding_method': 'ordinal', 'algorithm': 'gbr', 'n_estimators': 795, 'learning_rate': 0.0668990796360253, 'max_depth': 3, 'subsample': 0.6757989236167696, 'min_sample_split': 9, 'min_sample_leaf': 8}. Best is trial 42 with value: 0.9510312863246181.\n",
      "[I 2024-05-09 15:44:52,874] Trial 73 finished with value: 0.9478581840668788 and parameters: {'scaling_method': 'minmax', 'encoding_method': 'ordinal', 'algorithm': 'gbr', 'n_estimators': 798, 'learning_rate': 0.06636443014943191, 'max_depth': 3, 'subsample': 0.6441595611995872, 'min_sample_split': 9, 'min_sample_leaf': 8}. Best is trial 42 with value: 0.9510312863246181.\n",
      "[I 2024-05-09 15:46:48,376] Trial 74 finished with value: 0.9486431665141535 and parameters: {'scaling_method': 'minmax', 'encoding_method': 'ordinal', 'algorithm': 'gbr', 'n_estimators': 781, 'learning_rate': 0.04996644264268841, 'max_depth': 4, 'subsample': 0.6681494918042526, 'min_sample_split': 9, 'min_sample_leaf': 8}. Best is trial 42 with value: 0.9510312863246181.\n",
      "[I 2024-05-09 16:08:09,110] Trial 75 finished with value: 0.947372207395772 and parameters: {'scaling_method': 'minmax', 'encoding_method': 'ordinal', 'algorithm': 'gbr', 'n_estimators': 814, 'learning_rate': 0.08827456769870969, 'max_depth': 3, 'subsample': 0.618292048965051, 'min_sample_split': 9, 'min_sample_leaf': 9}. Best is trial 42 with value: 0.9510312863246181.\n",
      "[I 2024-05-09 16:10:18,357] Trial 76 finished with value: 0.9477302209740689 and parameters: {'scaling_method': 'minmax', 'encoding_method': 'ordinal', 'algorithm': 'gbr', 'n_estimators': 888, 'learning_rate': 0.0586183936848241, 'max_depth': 4, 'subsample': 0.6419980828842129, 'min_sample_split': 9, 'min_sample_leaf': 7}. Best is trial 42 with value: 0.9510312863246181.\n",
      "[I 2024-05-09 16:11:49,729] Trial 77 finished with value: 0.9471683731265674 and parameters: {'scaling_method': 'minmax', 'encoding_method': 'ordinal', 'algorithm': 'gbr', 'n_estimators': 918, 'learning_rate': 0.077753387878328, 'max_depth': 3, 'subsample': 0.6772562199358807, 'min_sample_split': 10, 'min_sample_leaf': 7}. Best is trial 42 with value: 0.9510312863246181.\n",
      "[I 2024-05-09 16:13:21,816] Trial 78 finished with value: 0.9484201882526663 and parameters: {'scaling_method': 'minmax', 'encoding_method': 'ordinal', 'algorithm': 'gbr', 'n_estimators': 809, 'learning_rate': 0.06973955386335758, 'max_depth': 3, 'subsample': 0.7238709171846682, 'min_sample_split': 9, 'min_sample_leaf': 9}. Best is trial 42 with value: 0.9510312863246181.\n",
      "[I 2024-05-09 16:15:01,555] Trial 79 finished with value: 0.9499932634901633 and parameters: {'scaling_method': 'standard', 'encoding_method': 'ordinal', 'algorithm': 'gbr', 'n_estimators': 847, 'learning_rate': 0.05146168476158466, 'max_depth': 3, 'subsample': 0.7401561579793171, 'min_sample_split': 9, 'min_sample_leaf': 9}. Best is trial 42 with value: 0.9510312863246181.\n",
      "[I 2024-05-09 16:16:15,370] Trial 80 finished with value: 0.9473929577498629 and parameters: {'scaling_method': 'standard', 'encoding_method': 'ordinal', 'algorithm': 'gbr', 'n_estimators': 854, 'learning_rate': 0.051579585490333486, 'max_depth': 2, 'subsample': 0.7418887638578429, 'min_sample_split': 10, 'min_sample_leaf': 9}. Best is trial 42 with value: 0.9510312863246181.\n",
      "[I 2024-05-09 16:17:58,270] Trial 81 finished with value: 0.9486093129889381 and parameters: {'scaling_method': 'standard', 'encoding_method': 'ordinal', 'algorithm': 'gbr', 'n_estimators': 838, 'learning_rate': 0.059940468894837534, 'max_depth': 3, 'subsample': 0.6964907167990001, 'min_sample_split': 9, 'min_sample_leaf': 8}. Best is trial 42 with value: 0.9510312863246181.\n"
     ]
    },
    {
     "name": "stderr",
     "output_type": "stream",
     "text": [
      "[I 2024-05-09 16:19:37,657] Trial 82 finished with value: 0.9505262305946218 and parameters: {'scaling_method': 'standard', 'encoding_method': 'ordinal', 'algorithm': 'gbr', 'n_estimators': 793, 'learning_rate': 0.04119681641767256, 'max_depth': 3, 'subsample': 0.7831765211827085, 'min_sample_split': 9, 'min_sample_leaf': 6}. Best is trial 42 with value: 0.9510312863246181.\n",
      "[I 2024-05-09 16:21:11,608] Trial 83 finished with value: 0.9502539573491837 and parameters: {'scaling_method': 'standard', 'encoding_method': 'ordinal', 'algorithm': 'gbr', 'n_estimators': 773, 'learning_rate': 0.04471451415063894, 'max_depth': 3, 'subsample': 0.7892325464671189, 'min_sample_split': 9, 'min_sample_leaf': 6}. Best is trial 42 with value: 0.9510312863246181.\n",
      "[I 2024-05-09 16:22:43,607] Trial 84 finished with value: 0.9502019165412552 and parameters: {'scaling_method': 'standard', 'encoding_method': 'ordinal', 'algorithm': 'gbr', 'n_estimators': 777, 'learning_rate': 0.041460813918546405, 'max_depth': 3, 'subsample': 0.7864337165026852, 'min_sample_split': 9, 'min_sample_leaf': 6}. Best is trial 42 with value: 0.9510312863246181.\n",
      "[I 2024-05-09 16:24:18,311] Trial 85 finished with value: 0.9495369051647818 and parameters: {'scaling_method': 'standard', 'encoding_method': 'ordinal', 'algorithm': 'gbr', 'n_estimators': 776, 'learning_rate': 0.03870835494076163, 'max_depth': 3, 'subsample': 0.8008889954546049, 'min_sample_split': 9, 'min_sample_leaf': 6}. Best is trial 42 with value: 0.9510312863246181.\n",
      "[I 2024-05-09 16:25:45,621] Trial 86 finished with value: 0.9493840605609168 and parameters: {'scaling_method': 'standard', 'encoding_method': 'ordinal', 'algorithm': 'gbr', 'n_estimators': 751, 'learning_rate': 0.04158449018254849, 'max_depth': 3, 'subsample': 0.7812312616070314, 'min_sample_split': 8, 'min_sample_leaf': 6}. Best is trial 42 with value: 0.9510312863246181.\n",
      "[I 2024-05-09 16:27:56,453] Trial 87 finished with value: 0.9476844154745842 and parameters: {'scaling_method': 'standard', 'encoding_method': 'ordinal', 'algorithm': 'gbr', 'n_estimators': 795, 'learning_rate': 0.04467119259922831, 'max_depth': 4, 'subsample': 0.8218210932847484, 'min_sample_split': 9, 'min_sample_leaf': 7}. Best is trial 42 with value: 0.9510312863246181.\n",
      "[I 2024-05-09 16:29:39,439] Trial 88 finished with value: 0.9489690921022784 and parameters: {'scaling_method': 'standard', 'encoding_method': 'ordinal', 'algorithm': 'gbr', 'n_estimators': 869, 'learning_rate': 0.03165650514944744, 'max_depth': 3, 'subsample': 0.8059950486350218, 'min_sample_split': 9, 'min_sample_leaf': 6}. Best is trial 42 with value: 0.9510312863246181.\n",
      "[I 2024-05-09 16:31:08,639] Trial 89 finished with value: 0.950078131890408 and parameters: {'scaling_method': 'standard', 'encoding_method': 'ordinal', 'algorithm': 'gbr', 'n_estimators': 770, 'learning_rate': 0.05647528211062456, 'max_depth': 3, 'subsample': 0.7799872755814741, 'min_sample_split': 8, 'min_sample_leaf': 7}. Best is trial 42 with value: 0.9510312863246181.\n",
      "[I 2024-05-09 16:32:37,027] Trial 90 finished with value: 0.948210919601939 and parameters: {'scaling_method': 'standard', 'encoding_method': 'ordinal', 'algorithm': 'gbr', 'n_estimators': 754, 'learning_rate': 0.04837973034036701, 'max_depth': 3, 'subsample': 0.7781929675889001, 'min_sample_split': 8, 'min_sample_leaf': 7}. Best is trial 42 with value: 0.9510312863246181.\n",
      "[I 2024-05-09 16:34:04,370] Trial 91 finished with value: 0.947957986828723 and parameters: {'scaling_method': 'standard', 'encoding_method': 'ordinal', 'algorithm': 'gbr', 'n_estimators': 772, 'learning_rate': 0.074952482341897, 'max_depth': 3, 'subsample': 0.7615201645258268, 'min_sample_split': 9, 'min_sample_leaf': 7}. Best is trial 42 with value: 0.9510312863246181.\n",
      "[I 2024-05-09 16:35:33,866] Trial 92 finished with value: 0.9500703855324005 and parameters: {'scaling_method': 'standard', 'encoding_method': 'ordinal', 'algorithm': 'gbr', 'n_estimators': 744, 'learning_rate': 0.057703107269792095, 'max_depth': 3, 'subsample': 0.8311074291415007, 'min_sample_split': 9, 'min_sample_leaf': 6}. Best is trial 42 with value: 0.9510312863246181.\n",
      "[I 2024-05-09 16:37:06,400] Trial 93 finished with value: 0.9497203404203474 and parameters: {'scaling_method': 'standard', 'encoding_method': 'ordinal', 'algorithm': 'gbr', 'n_estimators': 738, 'learning_rate': 0.05654928875607704, 'max_depth': 3, 'subsample': 0.8443178512888632, 'min_sample_split': 9, 'min_sample_leaf': 6}. Best is trial 42 with value: 0.9510312863246181.\n",
      "[I 2024-05-09 16:38:34,609] Trial 94 finished with value: 0.9479545141761359 and parameters: {'scaling_method': 'standard', 'encoding_method': 'ordinal', 'algorithm': 'gbr', 'n_estimators': 714, 'learning_rate': 0.036469788978364046, 'max_depth': 3, 'subsample': 0.8302502790079372, 'min_sample_split': 10, 'min_sample_leaf': 5}. Best is trial 42 with value: 0.9510312863246181.\n",
      "[I 2024-05-09 16:40:07,215] Trial 95 finished with value: 0.9508029840485588 and parameters: {'scaling_method': 'standard', 'encoding_method': 'ordinal', 'algorithm': 'gbr', 'n_estimators': 786, 'learning_rate': 0.0454324111999339, 'max_depth': 3, 'subsample': 0.7684286733315925, 'min_sample_split': 9, 'min_sample_leaf': 6}. Best is trial 42 with value: 0.9510312863246181.\n",
      "[I 2024-05-09 16:41:39,447] Trial 96 finished with value: 0.9497349449675463 and parameters: {'scaling_method': 'standard', 'encoding_method': 'ordinal', 'algorithm': 'gbr', 'n_estimators': 788, 'learning_rate': 0.04545701182272404, 'max_depth': 3, 'subsample': 0.7845127022502867, 'min_sample_split': 9, 'min_sample_leaf': 6}. Best is trial 42 with value: 0.9510312863246181.\n",
      "[I 2024-05-09 16:43:10,602] Trial 97 finished with value: 0.9498430205937443 and parameters: {'scaling_method': 'standard', 'encoding_method': 'ordinal', 'algorithm': 'gbr', 'n_estimators': 763, 'learning_rate': 0.0876294032953922, 'max_depth': 3, 'subsample': 0.8119170787745442, 'min_sample_split': 9, 'min_sample_leaf': 7}. Best is trial 42 with value: 0.9510312863246181.\n",
      "[I 2024-05-09 16:44:37,843] Trial 98 finished with value: 0.9489245971711211 and parameters: {'scaling_method': 'standard', 'encoding_method': 'ordinal', 'algorithm': 'gbr', 'n_estimators': 745, 'learning_rate': 0.09998149739415323, 'max_depth': 3, 'subsample': 0.7532032497340823, 'min_sample_split': 9, 'min_sample_leaf': 6}. Best is trial 42 with value: 0.9510312863246181.\n",
      "[I 2024-05-09 16:45:38,236] Trial 99 finished with value: 0.9460302873642472 and parameters: {'scaling_method': 'standard', 'encoding_method': 'ordinal', 'algorithm': 'gbr', 'n_estimators': 789, 'learning_rate': 0.05987902921965735, 'max_depth': 2, 'subsample': 0.7687022854096401, 'min_sample_split': 9, 'min_sample_leaf': 6}. Best is trial 42 with value: 0.9510312863246181.\n"
     ]
    }
   ],
   "source": [
    "study.optimize(lambda trial: objective(trial, X, y), n_trials=100)"
   ]
  },
  {
   "cell_type": "code",
   "execution_count": 77,
   "id": "5c156d92",
   "metadata": {},
   "outputs": [
    {
     "data": {
      "text/plain": [
       "FrozenTrial(number=42, state=1, values=[0.9510312863246181], datetime_start=datetime.datetime(2024, 5, 9, 14, 51, 45, 558381), datetime_complete=datetime.datetime(2024, 5, 9, 14, 53, 30, 514178), params={'scaling_method': 'minmax', 'encoding_method': 'ordinal', 'algorithm': 'gbr', 'n_estimators': 873, 'learning_rate': 0.07662776587148856, 'max_depth': 3, 'subsample': 0.6842960902488119, 'min_sample_split': 7, 'min_sample_leaf': 4}, user_attrs={}, system_attrs={}, intermediate_values={}, distributions={'scaling_method': CategoricalDistribution(choices=('standard', 'minmax', 'maxabs', 'robust')), 'encoding_method': CategoricalDistribution(choices=('ordinal', 'onehot')), 'algorithm': CategoricalDistribution(choices=('xgb', 'gbr')), 'n_estimators': IntDistribution(high=1000, log=False, low=500, step=1), 'learning_rate': FloatDistribution(high=0.1, log=True, low=0.001, step=None), 'max_depth': IntDistribution(high=6, log=False, low=2, step=1), 'subsample': FloatDistribution(high=1.0, log=False, low=0.5, step=None), 'min_sample_split': IntDistribution(high=10, log=False, low=6, step=1), 'min_sample_leaf': IntDistribution(high=10, log=False, low=1, step=1)}, trial_id=42, value=None)"
      ]
     },
     "execution_count": 77,
     "metadata": {},
     "output_type": "execute_result"
    }
   ],
   "source": [
    "study.best_trial"
   ]
  },
  {
   "cell_type": "code",
   "execution_count": 78,
   "id": "5a49cff6",
   "metadata": {},
   "outputs": [],
   "source": [
    "trial_number = []\n",
    "score = []\n",
    "algorithm = []\n",
    "parameters = []\n",
    "optuna_dict = {}\n",
    "trials = range(5)\n",
    "\n",
    "for trial in trials:\n",
    "    trial_number.append(study.get_trials()[trial].number)\n",
    "    score.append(study.get_trials()[trial].value)\n",
    "    algorithm.append(study.get_trials()[trial].params['algorithm'])\n",
    "    parameters.append(list(study.get_trials()[trial].params.items()))\n",
    "\n",
    "optuna_dict['Trial'] = trial_number\n",
    "optuna_dict['Score'] = score\n",
    "optuna_dict['Algorithm'] = algorithm\n",
    "optuna_dict['Parameters'] = parameters\n",
    "\n",
    "\n",
    "df_optuna = pd.DataFrame.from_dict(optuna_dict)"
   ]
  },
  {
   "cell_type": "code",
   "execution_count": 79,
   "id": "454c989d",
   "metadata": {},
   "outputs": [
    {
     "data": {
      "text/html": [
       "<div>\n",
       "<style scoped>\n",
       "    .dataframe tbody tr th:only-of-type {\n",
       "        vertical-align: middle;\n",
       "    }\n",
       "\n",
       "    .dataframe tbody tr th {\n",
       "        vertical-align: top;\n",
       "    }\n",
       "\n",
       "    .dataframe thead th {\n",
       "        text-align: right;\n",
       "    }\n",
       "</style>\n",
       "<table border=\"1\" class=\"dataframe\">\n",
       "  <thead>\n",
       "    <tr style=\"text-align: right;\">\n",
       "      <th></th>\n",
       "      <th>Trial</th>\n",
       "      <th>Score</th>\n",
       "      <th>Algorithm</th>\n",
       "      <th>Parameters</th>\n",
       "    </tr>\n",
       "  </thead>\n",
       "  <tbody>\n",
       "    <tr>\n",
       "      <th>1</th>\n",
       "      <td>1</td>\n",
       "      <td>0.936274</td>\n",
       "      <td>gbr</td>\n",
       "      <td>[(scaling_method, minmax), (encoding_method, o...</td>\n",
       "    </tr>\n",
       "    <tr>\n",
       "      <th>4</th>\n",
       "      <td>4</td>\n",
       "      <td>0.939124</td>\n",
       "      <td>xgb</td>\n",
       "      <td>[(scaling_method, standard), (encoding_method,...</td>\n",
       "    </tr>\n",
       "  </tbody>\n",
       "</table>\n",
       "</div>"
      ],
      "text/plain": [
       "   Trial     Score Algorithm  \\\n",
       "1      1  0.936274       gbr   \n",
       "4      4  0.939124       xgb   \n",
       "\n",
       "                                          Parameters  \n",
       "1  [(scaling_method, minmax), (encoding_method, o...  \n",
       "4  [(scaling_method, standard), (encoding_method,...  "
      ]
     },
     "execution_count": 79,
     "metadata": {},
     "output_type": "execute_result"
    }
   ],
   "source": [
    "idx = df_optuna.groupby('Algorithm')['Score'].transform(max) == df_optuna['Score']\n",
    "df_optuna[idx]"
   ]
  },
  {
   "cell_type": "code",
   "execution_count": 51,
   "id": "c0de9f99",
   "metadata": {},
   "outputs": [
    {
     "data": {
      "text/plain": [
       "[(0,\n",
       "  [('scaling_method', 'minmax'),\n",
       "   ('encoding_method', 'ordinal'),\n",
       "   ('algorithm', 'gbr'),\n",
       "   ('n_estimators', 801),\n",
       "   ('learning_rate', 0.02607024758370768),\n",
       "   ('max_depth', 2),\n",
       "   ('min_sample_split', 10)]),\n",
       " (1,\n",
       "  [('scaling_method', 'standard'),\n",
       "   ('encoding_method', 'onehot'),\n",
       "   ('drop', None),\n",
       "   ('algorithm', 'xgb'),\n",
       "   ('n_estimators', 363),\n",
       "   ('learning_rate', 0.005404103854647328),\n",
       "   ('max_depth', 6),\n",
       "   ('subsample', 0.8925879806965068),\n",
       "   ('colsample_bytree', 0.5998368910791798),\n",
       "   ('min_child_weight', 15)]),\n",
       " (2,\n",
       "  [('scaling_method', 'maxabs'),\n",
       "   ('encoding_method', 'onehot'),\n",
       "   ('drop', None),\n",
       "   ('algorithm', 'xgb'),\n",
       "   ('n_estimators', 716),\n",
       "   ('learning_rate', 0.007591104805282696),\n",
       "   ('max_depth', 4),\n",
       "   ('subsample', 0.7475884550556351),\n",
       "   ('colsample_bytree', 0.5171942605576092),\n",
       "   ('min_child_weight', 20)]),\n",
       " (3,\n",
       "  [('scaling_method', 'minmax'),\n",
       "   ('encoding_method', 'ordinal'),\n",
       "   ('algorithm', 'xgb'),\n",
       "   ('n_estimators', 946),\n",
       "   ('learning_rate', 0.06161049539380966),\n",
       "   ('max_depth', 6),\n",
       "   ('subsample', 0.9609371175115584),\n",
       "   ('colsample_bytree', 0.5442462510259598),\n",
       "   ('min_child_weight', 12)]),\n",
       " (4,\n",
       "  [('scaling_method', 'maxabs'),\n",
       "   ('encoding_method', 'ordinal'),\n",
       "   ('algorithm', 'gbr'),\n",
       "   ('n_estimators', 570),\n",
       "   ('learning_rate', 0.040215545266902894),\n",
       "   ('max_depth', 2),\n",
       "   ('min_sample_split', 10)]),\n",
       " (5,\n",
       "  [('scaling_method', 'robust'),\n",
       "   ('encoding_method', 'onehot'),\n",
       "   ('drop', None),\n",
       "   ('algorithm', 'xgb'),\n",
       "   ('n_estimators', 877),\n",
       "   ('learning_rate', 0.01764396768338155),\n",
       "   ('max_depth', 5),\n",
       "   ('subsample', 0.5317791751430119),\n",
       "   ('colsample_bytree', 0.6554911608578311),\n",
       "   ('min_child_weight', 13)]),\n",
       " (6,\n",
       "  [('scaling_method', 'maxabs'),\n",
       "   ('encoding_method', 'onehot'),\n",
       "   ('drop', None),\n",
       "   ('algorithm', 'xgb'),\n",
       "   ('n_estimators', 570),\n",
       "   ('learning_rate', 0.007162786999897343),\n",
       "   ('max_depth', 4),\n",
       "   ('subsample', 0.5539457134966522),\n",
       "   ('colsample_bytree', 0.5157145928433671),\n",
       "   ('min_child_weight', 17)]),\n",
       " (7,\n",
       "  [('scaling_method', 'maxabs'),\n",
       "   ('encoding_method', 'onehot'),\n",
       "   ('drop', None),\n",
       "   ('algorithm', 'xgb'),\n",
       "   ('n_estimators', 937),\n",
       "   ('learning_rate', 0.04132765459466366),\n",
       "   ('max_depth', 7),\n",
       "   ('subsample', 0.9357302950938589),\n",
       "   ('colsample_bytree', 0.9018360384495572),\n",
       "   ('min_child_weight', 12)]),\n",
       " (8,\n",
       "  [('scaling_method', 'robust'),\n",
       "   ('encoding_method', 'ordinal'),\n",
       "   ('algorithm', 'gbr'),\n",
       "   ('n_estimators', 909),\n",
       "   ('learning_rate', 0.05265761277157429),\n",
       "   ('max_depth', 2),\n",
       "   ('min_sample_split', 8)]),\n",
       " (9,\n",
       "  [('scaling_method', 'standard'),\n",
       "   ('encoding_method', 'ordinal'),\n",
       "   ('algorithm', 'gbr'),\n",
       "   ('n_estimators', 682),\n",
       "   ('learning_rate', 0.08781408196485979),\n",
       "   ('max_depth', 6),\n",
       "   ('min_sample_split', 7)]),\n",
       " (10,\n",
       "  [('scaling_method', 'standard'),\n",
       "   ('encoding_method', 'ordinal'),\n",
       "   ('algorithm', 'gbr'),\n",
       "   ('n_estimators', 955),\n",
       "   ('learning_rate', 0.003013864904679803),\n",
       "   ('max_depth', 2),\n",
       "   ('min_sample_split', 8)]),\n",
       " (11,\n",
       "  [('scaling_method', 'standard'),\n",
       "   ('encoding_method', 'onehot'),\n",
       "   ('drop', 'first'),\n",
       "   ('algorithm', 'xgb'),\n",
       "   ('n_estimators', 181),\n",
       "   ('learning_rate', 0.046838717081187295),\n",
       "   ('max_depth', 5),\n",
       "   ('subsample', 0.5932592551999272),\n",
       "   ('colsample_bytree', 0.520387570777382),\n",
       "   ('min_child_weight', 16)]),\n",
       " (12,\n",
       "  [('scaling_method', 'standard'),\n",
       "   ('encoding_method', 'ordinal'),\n",
       "   ('algorithm', 'xgb'),\n",
       "   ('n_estimators', 943),\n",
       "   ('learning_rate', 0.0018838307787619744),\n",
       "   ('max_depth', 5),\n",
       "   ('subsample', 0.5567367606202945),\n",
       "   ('colsample_bytree', 0.9623468091392814),\n",
       "   ('min_child_weight', 19)]),\n",
       " (13,\n",
       "  [('scaling_method', 'maxabs'),\n",
       "   ('encoding_method', 'ordinal'),\n",
       "   ('algorithm', 'gbr'),\n",
       "   ('n_estimators', 951),\n",
       "   ('learning_rate', 0.018458776634788645),\n",
       "   ('max_depth', 3),\n",
       "   ('min_sample_split', 7)]),\n",
       " (14,\n",
       "  [('scaling_method', 'minmax'),\n",
       "   ('encoding_method', 'ordinal'),\n",
       "   ('algorithm', 'gbr'),\n",
       "   ('n_estimators', 803),\n",
       "   ('learning_rate', 0.0010432637161302094),\n",
       "   ('max_depth', 2),\n",
       "   ('min_sample_split', 9)]),\n",
       " (15,\n",
       "  [('scaling_method', 'robust'),\n",
       "   ('encoding_method', 'ordinal'),\n",
       "   ('algorithm', 'xgb'),\n",
       "   ('n_estimators', 393),\n",
       "   ('learning_rate', 0.031115931750282644),\n",
       "   ('max_depth', 7),\n",
       "   ('subsample', 0.924611705247089),\n",
       "   ('colsample_bytree', 0.8288064461501716),\n",
       "   ('min_child_weight', 16)]),\n",
       " (16,\n",
       "  [('scaling_method', 'minmax'),\n",
       "   ('encoding_method', 'ordinal'),\n",
       "   ('algorithm', 'xgb'),\n",
       "   ('n_estimators', 816),\n",
       "   ('learning_rate', 0.010122183035228776),\n",
       "   ('max_depth', 6),\n",
       "   ('subsample', 0.746258846909432),\n",
       "   ('colsample_bytree', 0.5976214938990223),\n",
       "   ('min_child_weight', 17)]),\n",
       " (17,\n",
       "  [('scaling_method', 'maxabs'),\n",
       "   ('encoding_method', 'onehot'),\n",
       "   ('drop', None),\n",
       "   ('algorithm', 'gbr'),\n",
       "   ('n_estimators', 714),\n",
       "   ('learning_rate', 0.0857649103704616),\n",
       "   ('max_depth', 6),\n",
       "   ('min_sample_split', 10)]),\n",
       " (18,\n",
       "  [('scaling_method', 'maxabs'),\n",
       "   ('encoding_method', 'onehot'),\n",
       "   ('drop', None),\n",
       "   ('algorithm', 'xgb'),\n",
       "   ('n_estimators', 654),\n",
       "   ('learning_rate', 0.09552294429449876),\n",
       "   ('max_depth', 4),\n",
       "   ('subsample', 0.7591648261818684),\n",
       "   ('colsample_bytree', 0.9386865359639778),\n",
       "   ('min_child_weight', 18)]),\n",
       " (19,\n",
       "  [('scaling_method', 'minmax'),\n",
       "   ('encoding_method', 'onehot'),\n",
       "   ('drop', 'first'),\n",
       "   ('algorithm', 'xgb'),\n",
       "   ('n_estimators', 819),\n",
       "   ('learning_rate', 0.019949309196318342),\n",
       "   ('max_depth', 7),\n",
       "   ('subsample', 0.8978963347180505),\n",
       "   ('colsample_bytree', 0.9450026709087831),\n",
       "   ('min_child_weight', 13)]),\n",
       " (20,\n",
       "  [('scaling_method', 'maxabs'),\n",
       "   ('encoding_method', 'onehot'),\n",
       "   ('drop', 'first'),\n",
       "   ('algorithm', 'gbr'),\n",
       "   ('n_estimators', 912),\n",
       "   ('learning_rate', 0.005252684100000483),\n",
       "   ('max_depth', 2),\n",
       "   ('min_sample_split', 8)]),\n",
       " (21,\n",
       "  [('scaling_method', 'standard'),\n",
       "   ('encoding_method', 'onehot'),\n",
       "   ('drop', 'first'),\n",
       "   ('algorithm', 'gbr'),\n",
       "   ('n_estimators', 758),\n",
       "   ('learning_rate', 0.004424996646298212),\n",
       "   ('max_depth', 5),\n",
       "   ('min_sample_split', 7)]),\n",
       " (22,\n",
       "  [('scaling_method', 'robust'),\n",
       "   ('encoding_method', 'ordinal'),\n",
       "   ('algorithm', 'xgb'),\n",
       "   ('n_estimators', 240),\n",
       "   ('learning_rate', 0.0031658169231879693),\n",
       "   ('max_depth', 6),\n",
       "   ('subsample', 0.8572979613500311),\n",
       "   ('colsample_bytree', 0.8300986883588657),\n",
       "   ('min_child_weight', 13)]),\n",
       " (23,\n",
       "  [('scaling_method', 'standard'),\n",
       "   ('encoding_method', 'ordinal'),\n",
       "   ('algorithm', 'gbr'),\n",
       "   ('n_estimators', 507),\n",
       "   ('learning_rate', 0.0017066532063900325),\n",
       "   ('max_depth', 2),\n",
       "   ('min_sample_split', 6)]),\n",
       " (24,\n",
       "  [('scaling_method', 'standard'),\n",
       "   ('encoding_method', 'ordinal'),\n",
       "   ('algorithm', 'gbr'),\n",
       "   ('n_estimators', 699),\n",
       "   ('learning_rate', 0.01704905045837719),\n",
       "   ('max_depth', 5),\n",
       "   ('min_sample_split', 6)]),\n",
       " (25,\n",
       "  [('scaling_method', 'robust'),\n",
       "   ('encoding_method', 'ordinal'),\n",
       "   ('algorithm', 'gbr'),\n",
       "   ('n_estimators', 513),\n",
       "   ('learning_rate', 0.014844007412532069),\n",
       "   ('max_depth', 6),\n",
       "   ('min_sample_split', 8)]),\n",
       " (26,\n",
       "  [('scaling_method', 'minmax'),\n",
       "   ('encoding_method', 'ordinal'),\n",
       "   ('algorithm', 'xgb'),\n",
       "   ('n_estimators', 276),\n",
       "   ('learning_rate', 0.001376330080532748),\n",
       "   ('max_depth', 4),\n",
       "   ('subsample', 0.5091109128257749),\n",
       "   ('colsample_bytree', 0.5472214803779643),\n",
       "   ('min_child_weight', 17)]),\n",
       " (27,\n",
       "  [('scaling_method', 'maxabs'),\n",
       "   ('encoding_method', 'ordinal'),\n",
       "   ('algorithm', 'gbr'),\n",
       "   ('n_estimators', 815),\n",
       "   ('learning_rate', 0.05687796203968949),\n",
       "   ('max_depth', 5),\n",
       "   ('min_sample_split', 10)]),\n",
       " (28,\n",
       "  [('scaling_method', 'robust'),\n",
       "   ('encoding_method', 'ordinal'),\n",
       "   ('algorithm', 'gbr'),\n",
       "   ('n_estimators', 670),\n",
       "   ('learning_rate', 0.07269669235029615),\n",
       "   ('max_depth', 6),\n",
       "   ('min_sample_split', 8)]),\n",
       " (29,\n",
       "  [('scaling_method', 'robust'),\n",
       "   ('encoding_method', 'onehot'),\n",
       "   ('drop', 'first'),\n",
       "   ('algorithm', 'xgb'),\n",
       "   ('n_estimators', 915),\n",
       "   ('learning_rate', 0.0015225562752457956),\n",
       "   ('max_depth', 5),\n",
       "   ('subsample', 0.9750309835254025),\n",
       "   ('colsample_bytree', 0.975303573468778),\n",
       "   ('min_child_weight', 16)]),\n",
       " (30,\n",
       "  [('scaling_method', 'standard'),\n",
       "   ('encoding_method', 'onehot'),\n",
       "   ('drop', None),\n",
       "   ('algorithm', 'gbr'),\n",
       "   ('n_estimators', 528),\n",
       "   ('learning_rate', 0.012561970368593842),\n",
       "   ('max_depth', 4),\n",
       "   ('min_sample_split', 10)]),\n",
       " (31,\n",
       "  [('scaling_method', 'robust'),\n",
       "   ('encoding_method', 'ordinal'),\n",
       "   ('algorithm', 'gbr'),\n",
       "   ('n_estimators', 536),\n",
       "   ('learning_rate', 0.04402710390447061),\n",
       "   ('max_depth', 5),\n",
       "   ('min_sample_split', 6)]),\n",
       " (32,\n",
       "  [('scaling_method', 'minmax'),\n",
       "   ('encoding_method', 'onehot'),\n",
       "   ('drop', None),\n",
       "   ('algorithm', 'xgb'),\n",
       "   ('n_estimators', 800),\n",
       "   ('learning_rate', 0.013086047713799972),\n",
       "   ('max_depth', 6),\n",
       "   ('subsample', 0.953177192547368),\n",
       "   ('colsample_bytree', 0.5555987411530756),\n",
       "   ('min_child_weight', 15)]),\n",
       " (33,\n",
       "  [('scaling_method', 'minmax'),\n",
       "   ('encoding_method', 'onehot'),\n",
       "   ('drop', None),\n",
       "   ('algorithm', 'xgb'),\n",
       "   ('n_estimators', 357),\n",
       "   ('learning_rate', 0.054600705762113406),\n",
       "   ('max_depth', 5),\n",
       "   ('subsample', 0.9816112697203057),\n",
       "   ('colsample_bytree', 0.5060772373449082),\n",
       "   ('min_child_weight', 20)]),\n",
       " (34,\n",
       "  [('scaling_method', 'robust'),\n",
       "   ('encoding_method', 'onehot'),\n",
       "   ('drop', None),\n",
       "   ('algorithm', 'gbr'),\n",
       "   ('n_estimators', 727),\n",
       "   ('learning_rate', 0.017993521210936007),\n",
       "   ('max_depth', 4),\n",
       "   ('min_sample_split', 10)]),\n",
       " (35,\n",
       "  [('scaling_method', 'maxabs'),\n",
       "   ('encoding_method', 'onehot'),\n",
       "   ('drop', None),\n",
       "   ('algorithm', 'xgb'),\n",
       "   ('n_estimators', 625),\n",
       "   ('learning_rate', 0.0014304387745680647),\n",
       "   ('max_depth', 8),\n",
       "   ('subsample', 0.9931053722398014),\n",
       "   ('colsample_bytree', 0.8490808570098726),\n",
       "   ('min_child_weight', 15)]),\n",
       " (36,\n",
       "  [('scaling_method', 'minmax'),\n",
       "   ('encoding_method', 'ordinal'),\n",
       "   ('algorithm', 'xgb'),\n",
       "   ('n_estimators', 652),\n",
       "   ('learning_rate', 0.0068625587047321844),\n",
       "   ('max_depth', 8),\n",
       "   ('subsample', 0.9330319447502042),\n",
       "   ('colsample_bytree', 0.5226093350530947),\n",
       "   ('min_child_weight', 10)]),\n",
       " (37,\n",
       "  [('scaling_method', 'maxabs'),\n",
       "   ('encoding_method', 'ordinal'),\n",
       "   ('algorithm', 'xgb'),\n",
       "   ('n_estimators', 855),\n",
       "   ('learning_rate', 0.008657376792270709),\n",
       "   ('max_depth', 6),\n",
       "   ('subsample', 0.6367035359653531),\n",
       "   ('colsample_bytree', 0.5281877483254636),\n",
       "   ('min_child_weight', 19)]),\n",
       " (38,\n",
       "  [('scaling_method', 'minmax'),\n",
       "   ('encoding_method', 'onehot'),\n",
       "   ('drop', None),\n",
       "   ('algorithm', 'xgb'),\n",
       "   ('n_estimators', 959),\n",
       "   ('learning_rate', 0.016306068743545593),\n",
       "   ('max_depth', 5),\n",
       "   ('subsample', 0.8358503422029284),\n",
       "   ('colsample_bytree', 0.8090641202289479),\n",
       "   ('min_child_weight', 13)]),\n",
       " (39,\n",
       "  [('scaling_method', 'robust'),\n",
       "   ('encoding_method', 'onehot'),\n",
       "   ('drop', 'first'),\n",
       "   ('algorithm', 'xgb'),\n",
       "   ('n_estimators', 220),\n",
       "   ('learning_rate', 0.0011417350999721905),\n",
       "   ('max_depth', 7),\n",
       "   ('subsample', 0.8101547756767323),\n",
       "   ('colsample_bytree', 0.8520398840496117),\n",
       "   ('min_child_weight', 12)]),\n",
       " (40,\n",
       "  [('scaling_method', 'robust'),\n",
       "   ('encoding_method', 'onehot'),\n",
       "   ('drop', None),\n",
       "   ('algorithm', 'gbr'),\n",
       "   ('n_estimators', 698),\n",
       "   ('learning_rate', 0.017545809123068405),\n",
       "   ('max_depth', 6),\n",
       "   ('min_sample_split', 10)]),\n",
       " (41,\n",
       "  [('scaling_method', 'minmax'),\n",
       "   ('encoding_method', 'onehot'),\n",
       "   ('drop', None),\n",
       "   ('algorithm', 'xgb'),\n",
       "   ('n_estimators', 168),\n",
       "   ('learning_rate', 0.0018103370672162308),\n",
       "   ('max_depth', 4),\n",
       "   ('subsample', 0.5759513467561472),\n",
       "   ('colsample_bytree', 0.5694135863247051),\n",
       "   ('min_child_weight', 17)]),\n",
       " (42,\n",
       "  [('scaling_method', 'maxabs'),\n",
       "   ('encoding_method', 'ordinal'),\n",
       "   ('algorithm', 'xgb'),\n",
       "   ('n_estimators', 252),\n",
       "   ('learning_rate', 0.003607286845429886),\n",
       "   ('max_depth', 4),\n",
       "   ('subsample', 0.5443512668785278),\n",
       "   ('colsample_bytree', 0.5603179355503004),\n",
       "   ('min_child_weight', 15)]),\n",
       " (43,\n",
       "  [('scaling_method', 'robust'),\n",
       "   ('encoding_method', 'onehot'),\n",
       "   ('drop', None),\n",
       "   ('algorithm', 'gbr'),\n",
       "   ('n_estimators', 530),\n",
       "   ('learning_rate', 0.003578947241026052),\n",
       "   ('max_depth', 6),\n",
       "   ('min_sample_split', 9)]),\n",
       " (44,\n",
       "  [('scaling_method', 'robust'),\n",
       "   ('encoding_method', 'ordinal'),\n",
       "   ('algorithm', 'gbr'),\n",
       "   ('n_estimators', 518),\n",
       "   ('learning_rate', 0.0031979663429004884),\n",
       "   ('max_depth', 5),\n",
       "   ('min_sample_split', 10)]),\n",
       " (45,\n",
       "  [('scaling_method', 'minmax'),\n",
       "   ('encoding_method', 'ordinal'),\n",
       "   ('algorithm', 'gbr'),\n",
       "   ('n_estimators', 510),\n",
       "   ('learning_rate', 0.004407155063074605),\n",
       "   ('max_depth', 3),\n",
       "   ('min_sample_split', 7)]),\n",
       " (46,\n",
       "  [('scaling_method', 'minmax'),\n",
       "   ('encoding_method', 'ordinal'),\n",
       "   ('algorithm', 'gbr'),\n",
       "   ('n_estimators', 794),\n",
       "   ('learning_rate', 0.030965560706362184),\n",
       "   ('max_depth', 4),\n",
       "   ('min_sample_split', 6)]),\n",
       " (47,\n",
       "  [('scaling_method', 'maxabs'),\n",
       "   ('encoding_method', 'onehot'),\n",
       "   ('drop', None),\n",
       "   ('algorithm', 'gbr'),\n",
       "   ('n_estimators', 623),\n",
       "   ('learning_rate', 0.002095862303862117),\n",
       "   ('max_depth', 2),\n",
       "   ('min_sample_split', 7)]),\n",
       " (48,\n",
       "  [('scaling_method', 'minmax'),\n",
       "   ('encoding_method', 'onehot'),\n",
       "   ('drop', 'first'),\n",
       "   ('algorithm', 'xgb'),\n",
       "   ('n_estimators', 836),\n",
       "   ('learning_rate', 0.0032794850397348143),\n",
       "   ('max_depth', 4),\n",
       "   ('subsample', 0.8343216099622155),\n",
       "   ('colsample_bytree', 0.964687994563793),\n",
       "   ('min_child_weight', 16)]),\n",
       " (49,\n",
       "  [('scaling_method', 'maxabs'),\n",
       "   ('encoding_method', 'onehot'),\n",
       "   ('drop', None),\n",
       "   ('algorithm', 'gbr'),\n",
       "   ('n_estimators', 644),\n",
       "   ('learning_rate', 0.014537055310598703),\n",
       "   ('max_depth', 2),\n",
       "   ('min_sample_split', 8)])]"
      ]
     },
     "execution_count": 51,
     "metadata": {},
     "output_type": "execute_result"
    }
   ],
   "source": [
    "list(df_optuna.Parameters.items())"
   ]
  },
  {
   "cell_type": "code",
   "execution_count": 52,
   "id": "7f902846",
   "metadata": {},
   "outputs": [
    {
     "name": "stdout",
     "output_type": "stream",
     "text": [
      "xgb [('scaling_method', 'minmax'), ('encoding_method', 'ordinal'), ('algorithm', 'xgb'), ('n_estimators', 946), ('learning_rate', 0.06161049539380966), ('max_depth', 6), ('subsample', 0.9609371175115584), ('colsample_bytree', 0.5442462510259598), ('min_child_weight', 12)]\n",
      "gbr [('scaling_method', 'minmax'), ('encoding_method', 'ordinal'), ('algorithm', 'gbr'), ('n_estimators', 794), ('learning_rate', 0.030965560706362184), ('max_depth', 4), ('min_sample_split', 6)]\n"
     ]
    }
   ],
   "source": [
    "print('xgb', df_optuna.Parameters[3])\n",
    "print('gbr', df_optuna.Parameters[46])\n",
    "\n",
    "{'regressor__XGB__colsample_bytree': 0.9678010901635519, \n",
    " 'regressor__XGB__learning_rate': 0.03948737640519406, \n",
    " 'regressor__XGB__max_depth': 3, 'regressor__XGB__min_child_weight': 2, \n",
    " 'regressor__XGB__n_estimators': 1000, \n",
    " 'regressor__XGB__subsample': 0.3203617673528298}"
   ]
  },
  {
   "cell_type": "code",
   "execution_count": 70,
   "id": "426b4de6",
   "metadata": {},
   "outputs": [
    {
     "data": {
      "application/vnd.plotly.v1+json": {
       "config": {
        "plotlyServerURL": "https://plot.ly"
       },
       "data": [
        {
         "customdata": [
          [
           [
            [
             "scaling_method",
             "maxabs"
            ],
            [
             "encoding_method",
             "ordinal"
            ],
            [
             "algorithm",
             "xgb"
            ],
            [
             "n_estimators",
             782
            ],
            [
             "learning_rate",
             0.040162148334912745
            ],
            [
             "max_depth",
             5
            ],
            [
             "subsample",
             0.7572657530155507
            ],
            [
             "colsample_bytree",
             0.8381888041742803
            ],
            [
             "min_child_weight",
             13
            ]
           ]
          ],
          [
           [
            [
             "scaling_method",
             "standard"
            ],
            [
             "encoding_method",
             "onehot"
            ],
            [
             "drop",
             null
            ],
            [
             "algorithm",
             "xgb"
            ],
            [
             "n_estimators",
             514
            ],
            [
             "learning_rate",
             0.002658982076869359
            ],
            [
             "max_depth",
             4
            ],
            [
             "subsample",
             0.8156357160183899
            ],
            [
             "colsample_bytree",
             0.5110188212589083
            ],
            [
             "min_child_weight",
             13
            ]
           ]
          ]
         ],
         "hovertemplate": "Algorithm=xgb<br>Trial=%{x}<br>Score=%{y}<br>Parameters=%{customdata[0]}<extra></extra>",
         "legendgroup": "xgb",
         "marker": {
          "color": "#636efa",
          "symbol": "circle"
         },
         "mode": "markers",
         "name": "xgb",
         "orientation": "v",
         "showlegend": true,
         "type": "scatter",
         "x": [
          0,
          1
         ],
         "xaxis": "x",
         "y": [
          0.9466012147441124,
          -5.972699920925055
         ],
         "yaxis": "y"
        },
        {
         "customdata": [
          [
           [
            [
             "scaling_method",
             "maxabs"
            ],
            [
             "encoding_method",
             "onehot"
            ],
            [
             "drop",
             "first"
            ],
            [
             "algorithm",
             "gbr"
            ],
            [
             "n_estimators",
             590
            ],
            [
             "learning_rate",
             0.014711261045194404
            ],
            [
             "max_depth",
             4
            ],
            [
             "subsample",
             0.6601891797359591
            ],
            [
             "min_sample_split",
             6
            ],
            [
             "min_sample_leaf",
             2
            ]
           ]
          ],
          [
           [
            [
             "scaling_method",
             "standard"
            ],
            [
             "encoding_method",
             "onehot"
            ],
            [
             "drop",
             null
            ],
            [
             "algorithm",
             "gbr"
            ],
            [
             "n_estimators",
             841
            ],
            [
             "learning_rate",
             0.08143466029215066
            ],
            [
             "max_depth",
             3
            ],
            [
             "subsample",
             0.5556812184055131
            ],
            [
             "min_sample_split",
             6
            ],
            [
             "min_sample_leaf",
             5
            ]
           ]
          ],
          [
           [
            [
             "scaling_method",
             "standard"
            ],
            [
             "encoding_method",
             "onehot"
            ],
            [
             "drop",
             null
            ],
            [
             "algorithm",
             "gbr"
            ],
            [
             "n_estimators",
             785
            ],
            [
             "learning_rate",
             0.0013492231522115314
            ],
            [
             "max_depth",
             2
            ],
            [
             "subsample",
             0.5122737524452787
            ],
            [
             "min_sample_split",
             10
            ],
            [
             "min_sample_leaf",
             2
            ]
           ]
          ]
         ],
         "hovertemplate": "Algorithm=gbr<br>Trial=%{x}<br>Score=%{y}<br>Parameters=%{customdata[0]}<extra></extra>",
         "legendgroup": "gbr",
         "marker": {
          "color": "#EF553B",
          "symbol": "circle"
         },
         "mode": "markers",
         "name": "gbr",
         "orientation": "v",
         "showlegend": true,
         "type": "scatter",
         "x": [
          2,
          3,
          4
         ],
         "xaxis": "x",
         "y": [
          0.9427740953873199,
          0.9497226344517777,
          0.5869153946222151
         ],
         "yaxis": "y"
        }
       ],
       "layout": {
        "hoverlabel": {
         "bgcolor": "white",
         "font": {
          "family": "Rockwell",
          "size": 8
         }
        },
        "legend": {
         "title": {
          "text": "Algorithm"
         },
         "tracegroupgap": 0
        },
        "margin": {
         "t": 60
        },
        "template": {
         "data": {
          "bar": [
           {
            "error_x": {
             "color": "#2a3f5f"
            },
            "error_y": {
             "color": "#2a3f5f"
            },
            "marker": {
             "line": {
              "color": "#E5ECF6",
              "width": 0.5
             },
             "pattern": {
              "fillmode": "overlay",
              "size": 10,
              "solidity": 0.2
             }
            },
            "type": "bar"
           }
          ],
          "barpolar": [
           {
            "marker": {
             "line": {
              "color": "#E5ECF6",
              "width": 0.5
             },
             "pattern": {
              "fillmode": "overlay",
              "size": 10,
              "solidity": 0.2
             }
            },
            "type": "barpolar"
           }
          ],
          "carpet": [
           {
            "aaxis": {
             "endlinecolor": "#2a3f5f",
             "gridcolor": "white",
             "linecolor": "white",
             "minorgridcolor": "white",
             "startlinecolor": "#2a3f5f"
            },
            "baxis": {
             "endlinecolor": "#2a3f5f",
             "gridcolor": "white",
             "linecolor": "white",
             "minorgridcolor": "white",
             "startlinecolor": "#2a3f5f"
            },
            "type": "carpet"
           }
          ],
          "choropleth": [
           {
            "colorbar": {
             "outlinewidth": 0,
             "ticks": ""
            },
            "type": "choropleth"
           }
          ],
          "contour": [
           {
            "colorbar": {
             "outlinewidth": 0,
             "ticks": ""
            },
            "colorscale": [
             [
              0,
              "#0d0887"
             ],
             [
              0.1111111111111111,
              "#46039f"
             ],
             [
              0.2222222222222222,
              "#7201a8"
             ],
             [
              0.3333333333333333,
              "#9c179e"
             ],
             [
              0.4444444444444444,
              "#bd3786"
             ],
             [
              0.5555555555555556,
              "#d8576b"
             ],
             [
              0.6666666666666666,
              "#ed7953"
             ],
             [
              0.7777777777777778,
              "#fb9f3a"
             ],
             [
              0.8888888888888888,
              "#fdca26"
             ],
             [
              1,
              "#f0f921"
             ]
            ],
            "type": "contour"
           }
          ],
          "contourcarpet": [
           {
            "colorbar": {
             "outlinewidth": 0,
             "ticks": ""
            },
            "type": "contourcarpet"
           }
          ],
          "heatmap": [
           {
            "colorbar": {
             "outlinewidth": 0,
             "ticks": ""
            },
            "colorscale": [
             [
              0,
              "#0d0887"
             ],
             [
              0.1111111111111111,
              "#46039f"
             ],
             [
              0.2222222222222222,
              "#7201a8"
             ],
             [
              0.3333333333333333,
              "#9c179e"
             ],
             [
              0.4444444444444444,
              "#bd3786"
             ],
             [
              0.5555555555555556,
              "#d8576b"
             ],
             [
              0.6666666666666666,
              "#ed7953"
             ],
             [
              0.7777777777777778,
              "#fb9f3a"
             ],
             [
              0.8888888888888888,
              "#fdca26"
             ],
             [
              1,
              "#f0f921"
             ]
            ],
            "type": "heatmap"
           }
          ],
          "heatmapgl": [
           {
            "colorbar": {
             "outlinewidth": 0,
             "ticks": ""
            },
            "colorscale": [
             [
              0,
              "#0d0887"
             ],
             [
              0.1111111111111111,
              "#46039f"
             ],
             [
              0.2222222222222222,
              "#7201a8"
             ],
             [
              0.3333333333333333,
              "#9c179e"
             ],
             [
              0.4444444444444444,
              "#bd3786"
             ],
             [
              0.5555555555555556,
              "#d8576b"
             ],
             [
              0.6666666666666666,
              "#ed7953"
             ],
             [
              0.7777777777777778,
              "#fb9f3a"
             ],
             [
              0.8888888888888888,
              "#fdca26"
             ],
             [
              1,
              "#f0f921"
             ]
            ],
            "type": "heatmapgl"
           }
          ],
          "histogram": [
           {
            "marker": {
             "pattern": {
              "fillmode": "overlay",
              "size": 10,
              "solidity": 0.2
             }
            },
            "type": "histogram"
           }
          ],
          "histogram2d": [
           {
            "colorbar": {
             "outlinewidth": 0,
             "ticks": ""
            },
            "colorscale": [
             [
              0,
              "#0d0887"
             ],
             [
              0.1111111111111111,
              "#46039f"
             ],
             [
              0.2222222222222222,
              "#7201a8"
             ],
             [
              0.3333333333333333,
              "#9c179e"
             ],
             [
              0.4444444444444444,
              "#bd3786"
             ],
             [
              0.5555555555555556,
              "#d8576b"
             ],
             [
              0.6666666666666666,
              "#ed7953"
             ],
             [
              0.7777777777777778,
              "#fb9f3a"
             ],
             [
              0.8888888888888888,
              "#fdca26"
             ],
             [
              1,
              "#f0f921"
             ]
            ],
            "type": "histogram2d"
           }
          ],
          "histogram2dcontour": [
           {
            "colorbar": {
             "outlinewidth": 0,
             "ticks": ""
            },
            "colorscale": [
             [
              0,
              "#0d0887"
             ],
             [
              0.1111111111111111,
              "#46039f"
             ],
             [
              0.2222222222222222,
              "#7201a8"
             ],
             [
              0.3333333333333333,
              "#9c179e"
             ],
             [
              0.4444444444444444,
              "#bd3786"
             ],
             [
              0.5555555555555556,
              "#d8576b"
             ],
             [
              0.6666666666666666,
              "#ed7953"
             ],
             [
              0.7777777777777778,
              "#fb9f3a"
             ],
             [
              0.8888888888888888,
              "#fdca26"
             ],
             [
              1,
              "#f0f921"
             ]
            ],
            "type": "histogram2dcontour"
           }
          ],
          "mesh3d": [
           {
            "colorbar": {
             "outlinewidth": 0,
             "ticks": ""
            },
            "type": "mesh3d"
           }
          ],
          "parcoords": [
           {
            "line": {
             "colorbar": {
              "outlinewidth": 0,
              "ticks": ""
             }
            },
            "type": "parcoords"
           }
          ],
          "pie": [
           {
            "automargin": true,
            "type": "pie"
           }
          ],
          "scatter": [
           {
            "fillpattern": {
             "fillmode": "overlay",
             "size": 10,
             "solidity": 0.2
            },
            "type": "scatter"
           }
          ],
          "scatter3d": [
           {
            "line": {
             "colorbar": {
              "outlinewidth": 0,
              "ticks": ""
             }
            },
            "marker": {
             "colorbar": {
              "outlinewidth": 0,
              "ticks": ""
             }
            },
            "type": "scatter3d"
           }
          ],
          "scattercarpet": [
           {
            "marker": {
             "colorbar": {
              "outlinewidth": 0,
              "ticks": ""
             }
            },
            "type": "scattercarpet"
           }
          ],
          "scattergeo": [
           {
            "marker": {
             "colorbar": {
              "outlinewidth": 0,
              "ticks": ""
             }
            },
            "type": "scattergeo"
           }
          ],
          "scattergl": [
           {
            "marker": {
             "colorbar": {
              "outlinewidth": 0,
              "ticks": ""
             }
            },
            "type": "scattergl"
           }
          ],
          "scattermapbox": [
           {
            "marker": {
             "colorbar": {
              "outlinewidth": 0,
              "ticks": ""
             }
            },
            "type": "scattermapbox"
           }
          ],
          "scatterpolar": [
           {
            "marker": {
             "colorbar": {
              "outlinewidth": 0,
              "ticks": ""
             }
            },
            "type": "scatterpolar"
           }
          ],
          "scatterpolargl": [
           {
            "marker": {
             "colorbar": {
              "outlinewidth": 0,
              "ticks": ""
             }
            },
            "type": "scatterpolargl"
           }
          ],
          "scatterternary": [
           {
            "marker": {
             "colorbar": {
              "outlinewidth": 0,
              "ticks": ""
             }
            },
            "type": "scatterternary"
           }
          ],
          "surface": [
           {
            "colorbar": {
             "outlinewidth": 0,
             "ticks": ""
            },
            "colorscale": [
             [
              0,
              "#0d0887"
             ],
             [
              0.1111111111111111,
              "#46039f"
             ],
             [
              0.2222222222222222,
              "#7201a8"
             ],
             [
              0.3333333333333333,
              "#9c179e"
             ],
             [
              0.4444444444444444,
              "#bd3786"
             ],
             [
              0.5555555555555556,
              "#d8576b"
             ],
             [
              0.6666666666666666,
              "#ed7953"
             ],
             [
              0.7777777777777778,
              "#fb9f3a"
             ],
             [
              0.8888888888888888,
              "#fdca26"
             ],
             [
              1,
              "#f0f921"
             ]
            ],
            "type": "surface"
           }
          ],
          "table": [
           {
            "cells": {
             "fill": {
              "color": "#EBF0F8"
             },
             "line": {
              "color": "white"
             }
            },
            "header": {
             "fill": {
              "color": "#C8D4E3"
             },
             "line": {
              "color": "white"
             }
            },
            "type": "table"
           }
          ]
         },
         "layout": {
          "annotationdefaults": {
           "arrowcolor": "#2a3f5f",
           "arrowhead": 0,
           "arrowwidth": 1
          },
          "autotypenumbers": "strict",
          "coloraxis": {
           "colorbar": {
            "outlinewidth": 0,
            "ticks": ""
           }
          },
          "colorscale": {
           "diverging": [
            [
             0,
             "#8e0152"
            ],
            [
             0.1,
             "#c51b7d"
            ],
            [
             0.2,
             "#de77ae"
            ],
            [
             0.3,
             "#f1b6da"
            ],
            [
             0.4,
             "#fde0ef"
            ],
            [
             0.5,
             "#f7f7f7"
            ],
            [
             0.6,
             "#e6f5d0"
            ],
            [
             0.7,
             "#b8e186"
            ],
            [
             0.8,
             "#7fbc41"
            ],
            [
             0.9,
             "#4d9221"
            ],
            [
             1,
             "#276419"
            ]
           ],
           "sequential": [
            [
             0,
             "#0d0887"
            ],
            [
             0.1111111111111111,
             "#46039f"
            ],
            [
             0.2222222222222222,
             "#7201a8"
            ],
            [
             0.3333333333333333,
             "#9c179e"
            ],
            [
             0.4444444444444444,
             "#bd3786"
            ],
            [
             0.5555555555555556,
             "#d8576b"
            ],
            [
             0.6666666666666666,
             "#ed7953"
            ],
            [
             0.7777777777777778,
             "#fb9f3a"
            ],
            [
             0.8888888888888888,
             "#fdca26"
            ],
            [
             1,
             "#f0f921"
            ]
           ],
           "sequentialminus": [
            [
             0,
             "#0d0887"
            ],
            [
             0.1111111111111111,
             "#46039f"
            ],
            [
             0.2222222222222222,
             "#7201a8"
            ],
            [
             0.3333333333333333,
             "#9c179e"
            ],
            [
             0.4444444444444444,
             "#bd3786"
            ],
            [
             0.5555555555555556,
             "#d8576b"
            ],
            [
             0.6666666666666666,
             "#ed7953"
            ],
            [
             0.7777777777777778,
             "#fb9f3a"
            ],
            [
             0.8888888888888888,
             "#fdca26"
            ],
            [
             1,
             "#f0f921"
            ]
           ]
          },
          "colorway": [
           "#636efa",
           "#EF553B",
           "#00cc96",
           "#ab63fa",
           "#FFA15A",
           "#19d3f3",
           "#FF6692",
           "#B6E880",
           "#FF97FF",
           "#FECB52"
          ],
          "font": {
           "color": "#2a3f5f"
          },
          "geo": {
           "bgcolor": "white",
           "lakecolor": "white",
           "landcolor": "#E5ECF6",
           "showlakes": true,
           "showland": true,
           "subunitcolor": "white"
          },
          "hoverlabel": {
           "align": "left"
          },
          "hovermode": "closest",
          "mapbox": {
           "style": "light"
          },
          "paper_bgcolor": "white",
          "plot_bgcolor": "#E5ECF6",
          "polar": {
           "angularaxis": {
            "gridcolor": "white",
            "linecolor": "white",
            "ticks": ""
           },
           "bgcolor": "#E5ECF6",
           "radialaxis": {
            "gridcolor": "white",
            "linecolor": "white",
            "ticks": ""
           }
          },
          "scene": {
           "xaxis": {
            "backgroundcolor": "#E5ECF6",
            "gridcolor": "white",
            "gridwidth": 2,
            "linecolor": "white",
            "showbackground": true,
            "ticks": "",
            "zerolinecolor": "white"
           },
           "yaxis": {
            "backgroundcolor": "#E5ECF6",
            "gridcolor": "white",
            "gridwidth": 2,
            "linecolor": "white",
            "showbackground": true,
            "ticks": "",
            "zerolinecolor": "white"
           },
           "zaxis": {
            "backgroundcolor": "#E5ECF6",
            "gridcolor": "white",
            "gridwidth": 2,
            "linecolor": "white",
            "showbackground": true,
            "ticks": "",
            "zerolinecolor": "white"
           }
          },
          "shapedefaults": {
           "line": {
            "color": "#2a3f5f"
           }
          },
          "ternary": {
           "aaxis": {
            "gridcolor": "white",
            "linecolor": "white",
            "ticks": ""
           },
           "baxis": {
            "gridcolor": "white",
            "linecolor": "white",
            "ticks": ""
           },
           "bgcolor": "#E5ECF6",
           "caxis": {
            "gridcolor": "white",
            "linecolor": "white",
            "ticks": ""
           }
          },
          "title": {
           "x": 0.05
          },
          "xaxis": {
           "automargin": true,
           "gridcolor": "white",
           "linecolor": "white",
           "ticks": "",
           "title": {
            "standoff": 15
           },
           "zerolinecolor": "white",
           "zerolinewidth": 2
          },
          "yaxis": {
           "automargin": true,
           "gridcolor": "white",
           "linecolor": "white",
           "ticks": "",
           "title": {
            "standoff": 15
           },
           "zerolinecolor": "white",
           "zerolinewidth": 2
          }
         }
        },
        "xaxis": {
         "anchor": "y",
         "domain": [
          0,
          1
         ],
         "title": {
          "text": "Trial"
         }
        },
        "yaxis": {
         "anchor": "x",
         "domain": [
          0,
          1
         ],
         "title": {
          "text": "Score"
         }
        }
       }
      },
      "text/html": [
       "<div>                            <div id=\"fe4976d5-e78e-4ad0-85c4-7cb337b36cea\" class=\"plotly-graph-div\" style=\"height:525px; width:100%;\"></div>            <script type=\"text/javascript\">                require([\"plotly\"], function(Plotly) {                    window.PLOTLYENV=window.PLOTLYENV || {};                                    if (document.getElementById(\"fe4976d5-e78e-4ad0-85c4-7cb337b36cea\")) {                    Plotly.newPlot(                        \"fe4976d5-e78e-4ad0-85c4-7cb337b36cea\",                        [{\"customdata\":[[[[\"scaling_method\",\"maxabs\"],[\"encoding_method\",\"ordinal\"],[\"algorithm\",\"xgb\"],[\"n_estimators\",782],[\"learning_rate\",0.040162148334912745],[\"max_depth\",5],[\"subsample\",0.7572657530155507],[\"colsample_bytree\",0.8381888041742803],[\"min_child_weight\",13]]],[[[\"scaling_method\",\"standard\"],[\"encoding_method\",\"onehot\"],[\"drop\",null],[\"algorithm\",\"xgb\"],[\"n_estimators\",514],[\"learning_rate\",0.002658982076869359],[\"max_depth\",4],[\"subsample\",0.8156357160183899],[\"colsample_bytree\",0.5110188212589083],[\"min_child_weight\",13]]]],\"hovertemplate\":\"Algorithm=xgb<br>Trial=%{x}<br>Score=%{y}<br>Parameters=%{customdata[0]}<extra></extra>\",\"legendgroup\":\"xgb\",\"marker\":{\"color\":\"#636efa\",\"symbol\":\"circle\"},\"mode\":\"markers\",\"name\":\"xgb\",\"orientation\":\"v\",\"showlegend\":true,\"x\":[0,1],\"xaxis\":\"x\",\"y\":[0.9466012147441124,-5.972699920925055],\"yaxis\":\"y\",\"type\":\"scatter\"},{\"customdata\":[[[[\"scaling_method\",\"maxabs\"],[\"encoding_method\",\"onehot\"],[\"drop\",\"first\"],[\"algorithm\",\"gbr\"],[\"n_estimators\",590],[\"learning_rate\",0.014711261045194404],[\"max_depth\",4],[\"subsample\",0.6601891797359591],[\"min_sample_split\",6],[\"min_sample_leaf\",2]]],[[[\"scaling_method\",\"standard\"],[\"encoding_method\",\"onehot\"],[\"drop\",null],[\"algorithm\",\"gbr\"],[\"n_estimators\",841],[\"learning_rate\",0.08143466029215066],[\"max_depth\",3],[\"subsample\",0.5556812184055131],[\"min_sample_split\",6],[\"min_sample_leaf\",5]]],[[[\"scaling_method\",\"standard\"],[\"encoding_method\",\"onehot\"],[\"drop\",null],[\"algorithm\",\"gbr\"],[\"n_estimators\",785],[\"learning_rate\",0.0013492231522115314],[\"max_depth\",2],[\"subsample\",0.5122737524452787],[\"min_sample_split\",10],[\"min_sample_leaf\",2]]]],\"hovertemplate\":\"Algorithm=gbr<br>Trial=%{x}<br>Score=%{y}<br>Parameters=%{customdata[0]}<extra></extra>\",\"legendgroup\":\"gbr\",\"marker\":{\"color\":\"#EF553B\",\"symbol\":\"circle\"},\"mode\":\"markers\",\"name\":\"gbr\",\"orientation\":\"v\",\"showlegend\":true,\"x\":[2,3,4],\"xaxis\":\"x\",\"y\":[0.9427740953873199,0.9497226344517777,0.5869153946222151],\"yaxis\":\"y\",\"type\":\"scatter\"}],                        {\"template\":{\"data\":{\"histogram2dcontour\":[{\"type\":\"histogram2dcontour\",\"colorbar\":{\"outlinewidth\":0,\"ticks\":\"\"},\"colorscale\":[[0.0,\"#0d0887\"],[0.1111111111111111,\"#46039f\"],[0.2222222222222222,\"#7201a8\"],[0.3333333333333333,\"#9c179e\"],[0.4444444444444444,\"#bd3786\"],[0.5555555555555556,\"#d8576b\"],[0.6666666666666666,\"#ed7953\"],[0.7777777777777778,\"#fb9f3a\"],[0.8888888888888888,\"#fdca26\"],[1.0,\"#f0f921\"]]}],\"choropleth\":[{\"type\":\"choropleth\",\"colorbar\":{\"outlinewidth\":0,\"ticks\":\"\"}}],\"histogram2d\":[{\"type\":\"histogram2d\",\"colorbar\":{\"outlinewidth\":0,\"ticks\":\"\"},\"colorscale\":[[0.0,\"#0d0887\"],[0.1111111111111111,\"#46039f\"],[0.2222222222222222,\"#7201a8\"],[0.3333333333333333,\"#9c179e\"],[0.4444444444444444,\"#bd3786\"],[0.5555555555555556,\"#d8576b\"],[0.6666666666666666,\"#ed7953\"],[0.7777777777777778,\"#fb9f3a\"],[0.8888888888888888,\"#fdca26\"],[1.0,\"#f0f921\"]]}],\"heatmap\":[{\"type\":\"heatmap\",\"colorbar\":{\"outlinewidth\":0,\"ticks\":\"\"},\"colorscale\":[[0.0,\"#0d0887\"],[0.1111111111111111,\"#46039f\"],[0.2222222222222222,\"#7201a8\"],[0.3333333333333333,\"#9c179e\"],[0.4444444444444444,\"#bd3786\"],[0.5555555555555556,\"#d8576b\"],[0.6666666666666666,\"#ed7953\"],[0.7777777777777778,\"#fb9f3a\"],[0.8888888888888888,\"#fdca26\"],[1.0,\"#f0f921\"]]}],\"heatmapgl\":[{\"type\":\"heatmapgl\",\"colorbar\":{\"outlinewidth\":0,\"ticks\":\"\"},\"colorscale\":[[0.0,\"#0d0887\"],[0.1111111111111111,\"#46039f\"],[0.2222222222222222,\"#7201a8\"],[0.3333333333333333,\"#9c179e\"],[0.4444444444444444,\"#bd3786\"],[0.5555555555555556,\"#d8576b\"],[0.6666666666666666,\"#ed7953\"],[0.7777777777777778,\"#fb9f3a\"],[0.8888888888888888,\"#fdca26\"],[1.0,\"#f0f921\"]]}],\"contourcarpet\":[{\"type\":\"contourcarpet\",\"colorbar\":{\"outlinewidth\":0,\"ticks\":\"\"}}],\"contour\":[{\"type\":\"contour\",\"colorbar\":{\"outlinewidth\":0,\"ticks\":\"\"},\"colorscale\":[[0.0,\"#0d0887\"],[0.1111111111111111,\"#46039f\"],[0.2222222222222222,\"#7201a8\"],[0.3333333333333333,\"#9c179e\"],[0.4444444444444444,\"#bd3786\"],[0.5555555555555556,\"#d8576b\"],[0.6666666666666666,\"#ed7953\"],[0.7777777777777778,\"#fb9f3a\"],[0.8888888888888888,\"#fdca26\"],[1.0,\"#f0f921\"]]}],\"surface\":[{\"type\":\"surface\",\"colorbar\":{\"outlinewidth\":0,\"ticks\":\"\"},\"colorscale\":[[0.0,\"#0d0887\"],[0.1111111111111111,\"#46039f\"],[0.2222222222222222,\"#7201a8\"],[0.3333333333333333,\"#9c179e\"],[0.4444444444444444,\"#bd3786\"],[0.5555555555555556,\"#d8576b\"],[0.6666666666666666,\"#ed7953\"],[0.7777777777777778,\"#fb9f3a\"],[0.8888888888888888,\"#fdca26\"],[1.0,\"#f0f921\"]]}],\"mesh3d\":[{\"type\":\"mesh3d\",\"colorbar\":{\"outlinewidth\":0,\"ticks\":\"\"}}],\"scatter\":[{\"fillpattern\":{\"fillmode\":\"overlay\",\"size\":10,\"solidity\":0.2},\"type\":\"scatter\"}],\"parcoords\":[{\"type\":\"parcoords\",\"line\":{\"colorbar\":{\"outlinewidth\":0,\"ticks\":\"\"}}}],\"scatterpolargl\":[{\"type\":\"scatterpolargl\",\"marker\":{\"colorbar\":{\"outlinewidth\":0,\"ticks\":\"\"}}}],\"bar\":[{\"error_x\":{\"color\":\"#2a3f5f\"},\"error_y\":{\"color\":\"#2a3f5f\"},\"marker\":{\"line\":{\"color\":\"#E5ECF6\",\"width\":0.5},\"pattern\":{\"fillmode\":\"overlay\",\"size\":10,\"solidity\":0.2}},\"type\":\"bar\"}],\"scattergeo\":[{\"type\":\"scattergeo\",\"marker\":{\"colorbar\":{\"outlinewidth\":0,\"ticks\":\"\"}}}],\"scatterpolar\":[{\"type\":\"scatterpolar\",\"marker\":{\"colorbar\":{\"outlinewidth\":0,\"ticks\":\"\"}}}],\"histogram\":[{\"marker\":{\"pattern\":{\"fillmode\":\"overlay\",\"size\":10,\"solidity\":0.2}},\"type\":\"histogram\"}],\"scattergl\":[{\"type\":\"scattergl\",\"marker\":{\"colorbar\":{\"outlinewidth\":0,\"ticks\":\"\"}}}],\"scatter3d\":[{\"type\":\"scatter3d\",\"line\":{\"colorbar\":{\"outlinewidth\":0,\"ticks\":\"\"}},\"marker\":{\"colorbar\":{\"outlinewidth\":0,\"ticks\":\"\"}}}],\"scattermapbox\":[{\"type\":\"scattermapbox\",\"marker\":{\"colorbar\":{\"outlinewidth\":0,\"ticks\":\"\"}}}],\"scatterternary\":[{\"type\":\"scatterternary\",\"marker\":{\"colorbar\":{\"outlinewidth\":0,\"ticks\":\"\"}}}],\"scattercarpet\":[{\"type\":\"scattercarpet\",\"marker\":{\"colorbar\":{\"outlinewidth\":0,\"ticks\":\"\"}}}],\"carpet\":[{\"aaxis\":{\"endlinecolor\":\"#2a3f5f\",\"gridcolor\":\"white\",\"linecolor\":\"white\",\"minorgridcolor\":\"white\",\"startlinecolor\":\"#2a3f5f\"},\"baxis\":{\"endlinecolor\":\"#2a3f5f\",\"gridcolor\":\"white\",\"linecolor\":\"white\",\"minorgridcolor\":\"white\",\"startlinecolor\":\"#2a3f5f\"},\"type\":\"carpet\"}],\"table\":[{\"cells\":{\"fill\":{\"color\":\"#EBF0F8\"},\"line\":{\"color\":\"white\"}},\"header\":{\"fill\":{\"color\":\"#C8D4E3\"},\"line\":{\"color\":\"white\"}},\"type\":\"table\"}],\"barpolar\":[{\"marker\":{\"line\":{\"color\":\"#E5ECF6\",\"width\":0.5},\"pattern\":{\"fillmode\":\"overlay\",\"size\":10,\"solidity\":0.2}},\"type\":\"barpolar\"}],\"pie\":[{\"automargin\":true,\"type\":\"pie\"}]},\"layout\":{\"autotypenumbers\":\"strict\",\"colorway\":[\"#636efa\",\"#EF553B\",\"#00cc96\",\"#ab63fa\",\"#FFA15A\",\"#19d3f3\",\"#FF6692\",\"#B6E880\",\"#FF97FF\",\"#FECB52\"],\"font\":{\"color\":\"#2a3f5f\"},\"hovermode\":\"closest\",\"hoverlabel\":{\"align\":\"left\"},\"paper_bgcolor\":\"white\",\"plot_bgcolor\":\"#E5ECF6\",\"polar\":{\"bgcolor\":\"#E5ECF6\",\"angularaxis\":{\"gridcolor\":\"white\",\"linecolor\":\"white\",\"ticks\":\"\"},\"radialaxis\":{\"gridcolor\":\"white\",\"linecolor\":\"white\",\"ticks\":\"\"}},\"ternary\":{\"bgcolor\":\"#E5ECF6\",\"aaxis\":{\"gridcolor\":\"white\",\"linecolor\":\"white\",\"ticks\":\"\"},\"baxis\":{\"gridcolor\":\"white\",\"linecolor\":\"white\",\"ticks\":\"\"},\"caxis\":{\"gridcolor\":\"white\",\"linecolor\":\"white\",\"ticks\":\"\"}},\"coloraxis\":{\"colorbar\":{\"outlinewidth\":0,\"ticks\":\"\"}},\"colorscale\":{\"sequential\":[[0.0,\"#0d0887\"],[0.1111111111111111,\"#46039f\"],[0.2222222222222222,\"#7201a8\"],[0.3333333333333333,\"#9c179e\"],[0.4444444444444444,\"#bd3786\"],[0.5555555555555556,\"#d8576b\"],[0.6666666666666666,\"#ed7953\"],[0.7777777777777778,\"#fb9f3a\"],[0.8888888888888888,\"#fdca26\"],[1.0,\"#f0f921\"]],\"sequentialminus\":[[0.0,\"#0d0887\"],[0.1111111111111111,\"#46039f\"],[0.2222222222222222,\"#7201a8\"],[0.3333333333333333,\"#9c179e\"],[0.4444444444444444,\"#bd3786\"],[0.5555555555555556,\"#d8576b\"],[0.6666666666666666,\"#ed7953\"],[0.7777777777777778,\"#fb9f3a\"],[0.8888888888888888,\"#fdca26\"],[1.0,\"#f0f921\"]],\"diverging\":[[0,\"#8e0152\"],[0.1,\"#c51b7d\"],[0.2,\"#de77ae\"],[0.3,\"#f1b6da\"],[0.4,\"#fde0ef\"],[0.5,\"#f7f7f7\"],[0.6,\"#e6f5d0\"],[0.7,\"#b8e186\"],[0.8,\"#7fbc41\"],[0.9,\"#4d9221\"],[1,\"#276419\"]]},\"xaxis\":{\"gridcolor\":\"white\",\"linecolor\":\"white\",\"ticks\":\"\",\"title\":{\"standoff\":15},\"zerolinecolor\":\"white\",\"automargin\":true,\"zerolinewidth\":2},\"yaxis\":{\"gridcolor\":\"white\",\"linecolor\":\"white\",\"ticks\":\"\",\"title\":{\"standoff\":15},\"zerolinecolor\":\"white\",\"automargin\":true,\"zerolinewidth\":2},\"scene\":{\"xaxis\":{\"backgroundcolor\":\"#E5ECF6\",\"gridcolor\":\"white\",\"linecolor\":\"white\",\"showbackground\":true,\"ticks\":\"\",\"zerolinecolor\":\"white\",\"gridwidth\":2},\"yaxis\":{\"backgroundcolor\":\"#E5ECF6\",\"gridcolor\":\"white\",\"linecolor\":\"white\",\"showbackground\":true,\"ticks\":\"\",\"zerolinecolor\":\"white\",\"gridwidth\":2},\"zaxis\":{\"backgroundcolor\":\"#E5ECF6\",\"gridcolor\":\"white\",\"linecolor\":\"white\",\"showbackground\":true,\"ticks\":\"\",\"zerolinecolor\":\"white\",\"gridwidth\":2}},\"shapedefaults\":{\"line\":{\"color\":\"#2a3f5f\"}},\"annotationdefaults\":{\"arrowcolor\":\"#2a3f5f\",\"arrowhead\":0,\"arrowwidth\":1},\"geo\":{\"bgcolor\":\"white\",\"landcolor\":\"#E5ECF6\",\"subunitcolor\":\"white\",\"showland\":true,\"showlakes\":true,\"lakecolor\":\"white\"},\"title\":{\"x\":0.05},\"mapbox\":{\"style\":\"light\"}}},\"xaxis\":{\"anchor\":\"y\",\"domain\":[0.0,1.0],\"title\":{\"text\":\"Trial\"}},\"yaxis\":{\"anchor\":\"x\",\"domain\":[0.0,1.0],\"title\":{\"text\":\"Score\"}},\"legend\":{\"title\":{\"text\":\"Algorithm\"},\"tracegroupgap\":0},\"margin\":{\"t\":60},\"hoverlabel\":{\"font\":{\"size\":8,\"family\":\"Rockwell\"},\"bgcolor\":\"white\"}},                        {\"responsive\": true}                    ).then(function(){\n",
       "                            \n",
       "var gd = document.getElementById('fe4976d5-e78e-4ad0-85c4-7cb337b36cea');\n",
       "var x = new MutationObserver(function (mutations, observer) {{\n",
       "        var display = window.getComputedStyle(gd).display;\n",
       "        if (!display || display === 'none') {{\n",
       "            console.log([gd, 'removed!']);\n",
       "            Plotly.purge(gd);\n",
       "            observer.disconnect();\n",
       "        }}\n",
       "}});\n",
       "\n",
       "// Listen for the removal of the full notebook cells\n",
       "var notebookContainer = gd.closest('#notebook-container');\n",
       "if (notebookContainer) {{\n",
       "    x.observe(notebookContainer, {childList: true});\n",
       "}}\n",
       "\n",
       "// Listen for the clearing of the current output cell\n",
       "var outputEl = gd.closest('.output');\n",
       "if (outputEl) {{\n",
       "    x.observe(outputEl, {childList: true});\n",
       "}}\n",
       "\n",
       "                        })                };                });            </script>        </div>"
      ]
     },
     "metadata": {},
     "output_type": "display_data"
    }
   ],
   "source": [
    "import plotly.express as px\n",
    "\n",
    "\n",
    "fig = px.scatter(df_optuna.loc[df_optuna.Score > -100], \n",
    "                 x=\"Trial\", \n",
    "                 y=\"Score\", \n",
    "                 color=\"Algorithm\",\n",
    "                 hover_data=['Parameters'])\n",
    "\n",
    "fig.update_layout(\n",
    "    hoverlabel=dict(\n",
    "        bgcolor=\"white\",\n",
    "        font_size=8,\n",
    "        font_family=\"Rockwell\"\n",
    "    )\n",
    ")\n",
    "\n",
    "fig.show()"
   ]
  }
 ],
 "metadata": {
  "kernelspec": {
   "display_name": "Python 3 (ipykernel)",
   "language": "python",
   "name": "python3"
  },
  "language_info": {
   "codemirror_mode": {
    "name": "ipython",
    "version": 3
   },
   "file_extension": ".py",
   "mimetype": "text/x-python",
   "name": "python",
   "nbconvert_exporter": "python",
   "pygments_lexer": "ipython3",
   "version": "3.11.5"
  }
 },
 "nbformat": 4,
 "nbformat_minor": 5
}
