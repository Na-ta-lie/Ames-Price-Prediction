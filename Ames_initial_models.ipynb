{
 "cells": [
  {
   "cell_type": "code",
   "execution_count": 1,
   "id": "3e754c51",
   "metadata": {},
   "outputs": [],
   "source": [
    "import numpy as np\n",
    "import pandas as pd\n",
    "import matplotlib.pyplot as plt\n",
    "import math\n",
    "from scipy import stats\n",
    "from sklearn import linear_model \n",
    "from sklearn.tree import DecisionTreeRegressor\n",
    "from sklearn.tree import plot_tree\n",
    "from sklearn.model_selection import train_test_split\n",
    "from sklearn.model_selection import cross_val_score\n",
    "from sklearn.model_selection import GridSearchCV\n",
    "from sklearn.metrics import confusion_matrix\n",
    "from sklearn import ensemble"
   ]
  },
  {
   "cell_type": "code",
   "execution_count": 2,
   "id": "963042d4",
   "metadata": {},
   "outputs": [],
   "source": [
    "ols = linear_model.LinearRegression()\n",
    "ridge = linear_model.Ridge()\n",
    "lasso = linear_model.Lasso()\n",
    "net = linear_model.ElasticNet()\n",
    "sgd = linear_model.SGDClassifier\n",
    "tree = DecisionTreeRegressor"
   ]
  },
  {
   "cell_type": "code",
   "execution_count": 10,
   "id": "bcbee1c6",
   "metadata": {},
   "outputs": [
    {
     "data": {
      "text/plain": [
       "(2580, 81)"
      ]
     },
     "execution_count": 10,
     "metadata": {},
     "output_type": "execute_result"
    }
   ],
   "source": [
    "housing = pd.read_csv('Ames_HousePrice.csv', index_col=0)\n",
    "housing.shape"
   ]
  },
  {
   "cell_type": "code",
   "execution_count": 11,
   "id": "8e782c67",
   "metadata": {
    "scrolled": true
   },
   "outputs": [
    {
     "data": {
      "text/plain": [
       "Index(['PID', 'GrLivArea', 'SalePrice', 'MSSubClass', 'MSZoning',\n",
       "       'LotFrontage', 'LotArea', 'Street', 'Alley', 'LotShape', 'LandContour',\n",
       "       'Utilities', 'LotConfig', 'LandSlope', 'Neighborhood', 'Condition1',\n",
       "       'Condition2', 'BldgType', 'HouseStyle', 'OverallQual', 'OverallCond',\n",
       "       'YearBuilt', 'YearRemodAdd', 'RoofStyle', 'RoofMatl', 'Exterior1st',\n",
       "       'Exterior2nd', 'MasVnrType', 'MasVnrArea', 'ExterQual', 'ExterCond',\n",
       "       'Foundation', 'BsmtQual', 'BsmtCond', 'BsmtExposure', 'BsmtFinType1',\n",
       "       'BsmtFinSF1', 'BsmtFinType2', 'BsmtFinSF2', 'BsmtUnfSF', 'TotalBsmtSF',\n",
       "       'Heating', 'HeatingQC', 'CentralAir', 'Electrical', '1stFlrSF',\n",
       "       '2ndFlrSF', 'LowQualFinSF', 'BsmtFullBath', 'BsmtHalfBath', 'FullBath',\n",
       "       'HalfBath', 'BedroomAbvGr', 'KitchenAbvGr', 'KitchenQual',\n",
       "       'TotRmsAbvGrd', 'Functional', 'Fireplaces', 'FireplaceQu', 'GarageType',\n",
       "       'GarageYrBlt', 'GarageFinish', 'GarageCars', 'GarageArea', 'GarageQual',\n",
       "       'GarageCond', 'PavedDrive', 'WoodDeckSF', 'OpenPorchSF',\n",
       "       'EnclosedPorch', '3SsnPorch', 'ScreenPorch', 'PoolArea', 'PoolQC',\n",
       "       'Fence', 'MiscFeature', 'MiscVal', 'MoSold', 'YrSold', 'SaleType',\n",
       "       'SaleCondition'],\n",
       "      dtype='object')"
      ]
     },
     "execution_count": 11,
     "metadata": {},
     "output_type": "execute_result"
    }
   ],
   "source": [
    "housing.columns"
   ]
  },
  {
   "cell_type": "code",
   "execution_count": 19,
   "id": "3c9ffc7e",
   "metadata": {},
   "outputs": [
    {
     "data": {
      "text/plain": [
       "PID               int64\n",
       "GrLivArea         int64\n",
       "SalePrice         int64\n",
       "MSSubClass        int64\n",
       "MSZoning         object\n",
       "                  ...  \n",
       "MiscVal           int64\n",
       "MoSold            int64\n",
       "YrSold            int64\n",
       "SaleType         object\n",
       "SaleCondition    object\n",
       "Length: 81, dtype: object"
      ]
     },
     "execution_count": 19,
     "metadata": {},
     "output_type": "execute_result"
    }
   ],
   "source": [
    "housing.dtypes"
   ]
  },
  {
   "cell_type": "code",
   "execution_count": 66,
   "id": "153a7a84",
   "metadata": {},
   "outputs": [],
   "source": [
    "test = housing[['SalePrice','GrLivArea', 'YearBuilt','YrSold', 'LotFrontage', 'LotArea', 'OverallQual', 'OverallCond']].iloc[:500]"
   ]
  },
  {
   "cell_type": "code",
   "execution_count": 67,
   "id": "d8cb8ecc",
   "metadata": {
    "scrolled": true
   },
   "outputs": [
    {
     "data": {
      "text/html": [
       "<div>\n",
       "<style scoped>\n",
       "    .dataframe tbody tr th:only-of-type {\n",
       "        vertical-align: middle;\n",
       "    }\n",
       "\n",
       "    .dataframe tbody tr th {\n",
       "        vertical-align: top;\n",
       "    }\n",
       "\n",
       "    .dataframe thead th {\n",
       "        text-align: right;\n",
       "    }\n",
       "</style>\n",
       "<table border=\"1\" class=\"dataframe\">\n",
       "  <thead>\n",
       "    <tr style=\"text-align: right;\">\n",
       "      <th></th>\n",
       "      <th>SalePrice</th>\n",
       "      <th>GrLivArea</th>\n",
       "      <th>YearBuilt</th>\n",
       "      <th>YrSold</th>\n",
       "      <th>LotFrontage</th>\n",
       "      <th>LotArea</th>\n",
       "      <th>OverallQual</th>\n",
       "      <th>OverallCond</th>\n",
       "    </tr>\n",
       "  </thead>\n",
       "  <tbody>\n",
       "    <tr>\n",
       "      <th>1</th>\n",
       "      <td>126000</td>\n",
       "      <td>856</td>\n",
       "      <td>1939</td>\n",
       "      <td>2010</td>\n",
       "      <td>NaN</td>\n",
       "      <td>7890</td>\n",
       "      <td>6</td>\n",
       "      <td>6</td>\n",
       "    </tr>\n",
       "    <tr>\n",
       "      <th>2</th>\n",
       "      <td>139500</td>\n",
       "      <td>1049</td>\n",
       "      <td>1984</td>\n",
       "      <td>2009</td>\n",
       "      <td>42.0</td>\n",
       "      <td>4235</td>\n",
       "      <td>5</td>\n",
       "      <td>5</td>\n",
       "    </tr>\n",
       "    <tr>\n",
       "      <th>3</th>\n",
       "      <td>124900</td>\n",
       "      <td>1001</td>\n",
       "      <td>1930</td>\n",
       "      <td>2007</td>\n",
       "      <td>60.0</td>\n",
       "      <td>6060</td>\n",
       "      <td>5</td>\n",
       "      <td>9</td>\n",
       "    </tr>\n",
       "    <tr>\n",
       "      <th>4</th>\n",
       "      <td>114000</td>\n",
       "      <td>1039</td>\n",
       "      <td>1900</td>\n",
       "      <td>2009</td>\n",
       "      <td>80.0</td>\n",
       "      <td>8146</td>\n",
       "      <td>4</td>\n",
       "      <td>8</td>\n",
       "    </tr>\n",
       "    <tr>\n",
       "      <th>5</th>\n",
       "      <td>227000</td>\n",
       "      <td>1665</td>\n",
       "      <td>2001</td>\n",
       "      <td>2009</td>\n",
       "      <td>70.0</td>\n",
       "      <td>8400</td>\n",
       "      <td>8</td>\n",
       "      <td>6</td>\n",
       "    </tr>\n",
       "    <tr>\n",
       "      <th>...</th>\n",
       "      <td>...</td>\n",
       "      <td>...</td>\n",
       "      <td>...</td>\n",
       "      <td>...</td>\n",
       "      <td>...</td>\n",
       "      <td>...</td>\n",
       "      <td>...</td>\n",
       "      <td>...</td>\n",
       "    </tr>\n",
       "    <tr>\n",
       "      <th>496</th>\n",
       "      <td>45000</td>\n",
       "      <td>612</td>\n",
       "      <td>1940</td>\n",
       "      <td>2009</td>\n",
       "      <td>50.0</td>\n",
       "      <td>5925</td>\n",
       "      <td>2</td>\n",
       "      <td>4</td>\n",
       "    </tr>\n",
       "    <tr>\n",
       "      <th>497</th>\n",
       "      <td>173000</td>\n",
       "      <td>1200</td>\n",
       "      <td>1964</td>\n",
       "      <td>2008</td>\n",
       "      <td>150.0</td>\n",
       "      <td>14137</td>\n",
       "      <td>4</td>\n",
       "      <td>5</td>\n",
       "    </tr>\n",
       "    <tr>\n",
       "      <th>498</th>\n",
       "      <td>128500</td>\n",
       "      <td>1281</td>\n",
       "      <td>1925</td>\n",
       "      <td>2007</td>\n",
       "      <td>60.0</td>\n",
       "      <td>10284</td>\n",
       "      <td>4</td>\n",
       "      <td>7</td>\n",
       "    </tr>\n",
       "    <tr>\n",
       "      <th>499</th>\n",
       "      <td>194000</td>\n",
       "      <td>1432</td>\n",
       "      <td>1978</td>\n",
       "      <td>2007</td>\n",
       "      <td>NaN</td>\n",
       "      <td>16157</td>\n",
       "      <td>5</td>\n",
       "      <td>7</td>\n",
       "    </tr>\n",
       "    <tr>\n",
       "      <th>500</th>\n",
       "      <td>178000</td>\n",
       "      <td>1414</td>\n",
       "      <td>2004</td>\n",
       "      <td>2006</td>\n",
       "      <td>74.0</td>\n",
       "      <td>9056</td>\n",
       "      <td>8</td>\n",
       "      <td>5</td>\n",
       "    </tr>\n",
       "  </tbody>\n",
       "</table>\n",
       "<p>500 rows × 8 columns</p>\n",
       "</div>"
      ],
      "text/plain": [
       "     SalePrice  GrLivArea  YearBuilt  YrSold  LotFrontage  LotArea  \\\n",
       "1       126000        856       1939    2010          NaN     7890   \n",
       "2       139500       1049       1984    2009         42.0     4235   \n",
       "3       124900       1001       1930    2007         60.0     6060   \n",
       "4       114000       1039       1900    2009         80.0     8146   \n",
       "5       227000       1665       2001    2009         70.0     8400   \n",
       "..         ...        ...        ...     ...          ...      ...   \n",
       "496      45000        612       1940    2009         50.0     5925   \n",
       "497     173000       1200       1964    2008        150.0    14137   \n",
       "498     128500       1281       1925    2007         60.0    10284   \n",
       "499     194000       1432       1978    2007          NaN    16157   \n",
       "500     178000       1414       2004    2006         74.0     9056   \n",
       "\n",
       "     OverallQual  OverallCond  \n",
       "1              6            6  \n",
       "2              5            5  \n",
       "3              5            9  \n",
       "4              4            8  \n",
       "5              8            6  \n",
       "..           ...          ...  \n",
       "496            2            4  \n",
       "497            4            5  \n",
       "498            4            7  \n",
       "499            5            7  \n",
       "500            8            5  \n",
       "\n",
       "[500 rows x 8 columns]"
      ]
     },
     "execution_count": 67,
     "metadata": {},
     "output_type": "execute_result"
    }
   ],
   "source": [
    "test"
   ]
  },
  {
   "cell_type": "code",
   "execution_count": 68,
   "id": "ea8a8ff5",
   "metadata": {},
   "outputs": [
    {
     "name": "stdout",
     "output_type": "stream",
     "text": [
      "[126000 139500 124900 114000 227000 198500  93000 187687 137500 140000\n",
      " 219500 136000  80000 159000 214000 163000 203000  67000 205000 131250\n",
      " 181000 115000  98000 265979 105500 168165 201000 177500 200000 450000\n",
      "  91300 173500 199500 207000 155000 220000 196000  61500 195000 129250\n",
      " 291000 134000 186000 133500 148000 325300 215000 131000 109500 110000\n",
      " 150000 193800 178000 179600 179000 395000 151500 341000 235000  72000\n",
      " 154000 222000 390000 128200 615000 158000 254000 169000 284500 184500\n",
      " 210400 392500 274725 156932 282922 144000  88000  67500 120000 134900\n",
      " 185000 132500 160500 165000 100000 189900 227875 111900 145000 118000\n",
      " 166000  99000  86000 211500 210000 228500 132000 468000 240000  73000\n",
      "  75500 500067 330000 107500 172500 311872 165150 125000 159500 180500\n",
      " 160000 109008 153000 132250 184900 127000 475000 142000 112000  80900\n",
      " 135000 193500 232500 257000 117000 213000 212000 202500 185101 167000\n",
      " 138500 102000 198900 278000 318000 146500  86900 262000 217500 113000\n",
      " 245500 198000 285000 175000 272000  78000 111500 142900 125500 423000\n",
      " 119900 247000 226500 260400 175900  82500  79500 207500 249700 164000\n",
      " 133700 112500 146300 298751 256000 176000 321000 190000 174900  85000\n",
      " 164990 144100 294900  50000 260000 180000 236500  63900 223000 151000\n",
      " 149500 149900 500000  92900 290000 345474  75200 108538 142250 152400\n",
      "  64000 302000 182000 137000 168000  97500 286000 209000 187500  91000\n",
      "  93500  79400 259500 417500 342000 194000 136870 147000 277000 201490\n",
      " 174500 133900 173000 225000 179400 219000 175500 261329 383000 103500\n",
      " 164500  55000 170000 209500 124500 139400 202665 155891 221300 361919\n",
      " 195800 152000 107000 372500 479069 233555 118900 130000 179900 282000\n",
      " 212500 280750  87000 244600 215200 162500 138000 181316 315000 184750\n",
      " 183500 224500 415000 128500 196500 139900 120750 174000 378500 147110\n",
      " 380000 385000 270000 141000 256900 336860 375000 217000 255000 168500\n",
      " 118500 119000 122000 122250 421250 106900 204000 105000 104900 187000\n",
      " 181500 187100 192000 230000 128000 197000 135960 250000 296000 230500\n",
      " 147500  79000  97000  82000 535000 235128 208000 162000 218836 322500\n",
      " 127500 121000 398800 189000  12789  90000 167900 143000 150909 350000\n",
      " 143500 154500 245000 212700 339750 120500 176400  76500 419005  83000\n",
      " 154900 123900 183000 131750 181900 387000 268000 229000 340000 149000\n",
      " 234250 119500 142500 123000 124000 328900 157000 437154 369900 263000\n",
      "  45000]\n",
      "[ 856 1049 1001 1039 1665 1922  936 1246  889 1072 1342 1274  861 1394\n",
      " 1536 1680  864 1610 1091 1486  789 1092 2640 1458 1466 1573 2090 2046\n",
      "  886 1258 1324 1848 1269 1346 1749  492 2030  988 2172 1080 1312  925\n",
      " 1534 2376 1959 1716 1230 2592 1565 1868 1422 1200 1641 1973 1248 2418\n",
      " 1755  672 1626 1726 2748  894 2470 1174 2447 2199 1374 1335 1588 1652\n",
      " 2021 1412 1464 1690 1012 1210 1256 1130  858 1188 1040 1376 1301 1629\n",
      " 1761 1316 1440 1524 1370  630 1431 1226 1417 1689  928 2490 1953  958\n",
      " 2290 1502 1224 1739 2044 1790 1056 2554 1308  907 1034 1585 1355 2276\n",
      " 1154  808 1105 1679 1298 2279 1604 1932 1661 1827 1492 1277 1052 1220\n",
      " 1712 1915  882 1861 1659 1387 1978  720 1358 1624 1239  884 1398  941\n",
      " 1288 1005 1696 1541 2225 1280 1882 2872 1396 1132  899  844 2377 2097\n",
      " 1176 1460 1720 1236 1603 1411  935  897 1656 1000 2486 1098  924  930\n",
      " 1069 2104 1728 1663 1137 1217 2494 1165  641 1310 1650 1590 1484 2353\n",
      " 1337 1898  660 1789 1505 1609 2696 1419 2122 1522 1969  816 1206 1232\n",
      " 1339  972 1350  670 2810  860 1642 1976  995 2559 2087 1958  790  974\n",
      " 2320 2464 1268 2956 1240 1625 1117 1113 2144 1598 1112  833 1564 2291\n",
      " 1733 1384 1501 2267 1584 1950 1515 1560 1320 1086 1554 1108 1368  992\n",
      " 1252 2944 1830 2576  698 1611 1666 1242  768 1097 1874 2039 2552 1846\n",
      "  732 1283 1800 1944 1647 3005 1468 1547 1516 1138 2063 4676  854 1400\n",
      "  990 1271 1646  952 1218 1293 1428 1714 1764 2358 1127 2018 1362 1465\n",
      " 1152 1551 1382 1600 1683 2643 1043  810 1961 1118 1842 1709 2064 1866\n",
      " 2036 1375 1116 2259 1675 1636 1474 1216 1078 1664 1622  900 1740 1027\n",
      " 2649 1290 1302 1123  985 1738 1855 1262 1430 1158 1172 1247 3672  943\n",
      " 2057 1782 1788 1844 2161 1360  902  774  987  804  540 1142 2698 1580\n",
      " 1904 1982 1177 2582 1212 1296 1326 1775 1537 2690 2480 1228 1934  832\n",
      " 1196  960 1334  848 1992 1828 1245 2385 1285 1442 1792 1068 1409 1313\n",
      " 1852 1372 2078 1416 1314 1455 1099 1143 1966  912 1343 1045 2088 1050\n",
      " 1633 2075  999 1260 1884 2295 1344 2183 2450 1352 1803 1654 1059 1510\n",
      " 1832 1077 2646 1336 2728 2417 2028 1453 2202  612 1281 1432 1414]\n",
      "[1939 1984 1930 1900 2001 2003 1953 2007 2005 2006 1991 1920 1963 2002\n",
      " 1993 1914 1977 1948 1970 1880 1971 2000 1973 1938 1923 1960 2008 1999\n",
      " 1921 1976 1966 1983 1958 1895 2004 1949 1910 1987 1972 1925 1954 1978\n",
      " 1919 1997 1916 1975 1959 1982 1956 1924 1969 1926 1955 1961 1962 1981\n",
      " 1992 1998 1917 1980 1890 1940 1957 1994 1964 1941 1996 1968 1951 2009\n",
      " 1967 1995 1915 1922 1952 1947 1950 1990 1945 1989 1937 1927 1929 1908\n",
      " 1965 1974 1935 1979 1936 1931 1986 1988 1918 1872]\n",
      "[2010 2009 2007 2008 2006]\n"
     ]
    }
   ],
   "source": [
    "variables = 'SalePrice','GrLivArea', 'YearBuilt','YrSold', \n",
    "'LotFrontage', 'LotArea', 'OverallQual', 'OverallCond'\n",
    "\n",
    "for var in variables:\n",
    "    print(test[var].unique())"
   ]
  },
  {
   "cell_type": "code",
   "execution_count": 69,
   "id": "382a8e35",
   "metadata": {},
   "outputs": [
    {
     "data": {
      "text/plain": [
       "array([6, 5, 9, 8, 4, 3, 7, 1, 2], dtype=int64)"
      ]
     },
     "execution_count": 69,
     "metadata": {},
     "output_type": "execute_result"
    }
   ],
   "source": [
    "test.OverallCond.unique()"
   ]
  },
  {
   "cell_type": "code",
   "execution_count": 47,
   "id": "a853a166",
   "metadata": {
    "scrolled": true
   },
   "outputs": [
    {
     "data": {
      "text/html": [
       "<div>\n",
       "<style scoped>\n",
       "    .dataframe tbody tr th:only-of-type {\n",
       "        vertical-align: middle;\n",
       "    }\n",
       "\n",
       "    .dataframe tbody tr th {\n",
       "        vertical-align: top;\n",
       "    }\n",
       "\n",
       "    .dataframe thead th {\n",
       "        text-align: right;\n",
       "    }\n",
       "</style>\n",
       "<table border=\"1\" class=\"dataframe\">\n",
       "  <thead>\n",
       "    <tr style=\"text-align: right;\">\n",
       "      <th></th>\n",
       "      <th>SalePrice</th>\n",
       "      <th>GrLivArea</th>\n",
       "      <th>YearBuilt</th>\n",
       "      <th>YrSold</th>\n",
       "      <th>LotFrontage</th>\n",
       "      <th>LotArea</th>\n",
       "      <th>OverallQual</th>\n",
       "      <th>OverallCond</th>\n",
       "    </tr>\n",
       "  </thead>\n",
       "  <tbody>\n",
       "    <tr>\n",
       "      <th>1</th>\n",
       "      <td>126000</td>\n",
       "      <td>856</td>\n",
       "      <td>1939</td>\n",
       "      <td>2010</td>\n",
       "      <td>NaN</td>\n",
       "      <td>7890</td>\n",
       "      <td>6</td>\n",
       "      <td>6</td>\n",
       "    </tr>\n",
       "    <tr>\n",
       "      <th>2</th>\n",
       "      <td>139500</td>\n",
       "      <td>1049</td>\n",
       "      <td>1984</td>\n",
       "      <td>2009</td>\n",
       "      <td>42.0</td>\n",
       "      <td>4235</td>\n",
       "      <td>5</td>\n",
       "      <td>5</td>\n",
       "    </tr>\n",
       "    <tr>\n",
       "      <th>3</th>\n",
       "      <td>124900</td>\n",
       "      <td>1001</td>\n",
       "      <td>1930</td>\n",
       "      <td>2007</td>\n",
       "      <td>60.0</td>\n",
       "      <td>6060</td>\n",
       "      <td>5</td>\n",
       "      <td>9</td>\n",
       "    </tr>\n",
       "    <tr>\n",
       "      <th>4</th>\n",
       "      <td>114000</td>\n",
       "      <td>1039</td>\n",
       "      <td>1900</td>\n",
       "      <td>2009</td>\n",
       "      <td>80.0</td>\n",
       "      <td>8146</td>\n",
       "      <td>4</td>\n",
       "      <td>8</td>\n",
       "    </tr>\n",
       "    <tr>\n",
       "      <th>5</th>\n",
       "      <td>227000</td>\n",
       "      <td>1665</td>\n",
       "      <td>2001</td>\n",
       "      <td>2009</td>\n",
       "      <td>70.0</td>\n",
       "      <td>8400</td>\n",
       "      <td>8</td>\n",
       "      <td>6</td>\n",
       "    </tr>\n",
       "    <tr>\n",
       "      <th>...</th>\n",
       "      <td>...</td>\n",
       "      <td>...</td>\n",
       "      <td>...</td>\n",
       "      <td>...</td>\n",
       "      <td>...</td>\n",
       "      <td>...</td>\n",
       "      <td>...</td>\n",
       "      <td>...</td>\n",
       "    </tr>\n",
       "    <tr>\n",
       "      <th>496</th>\n",
       "      <td>45000</td>\n",
       "      <td>612</td>\n",
       "      <td>1940</td>\n",
       "      <td>2009</td>\n",
       "      <td>50.0</td>\n",
       "      <td>5925</td>\n",
       "      <td>2</td>\n",
       "      <td>4</td>\n",
       "    </tr>\n",
       "    <tr>\n",
       "      <th>497</th>\n",
       "      <td>173000</td>\n",
       "      <td>1200</td>\n",
       "      <td>1964</td>\n",
       "      <td>2008</td>\n",
       "      <td>150.0</td>\n",
       "      <td>14137</td>\n",
       "      <td>4</td>\n",
       "      <td>5</td>\n",
       "    </tr>\n",
       "    <tr>\n",
       "      <th>498</th>\n",
       "      <td>128500</td>\n",
       "      <td>1281</td>\n",
       "      <td>1925</td>\n",
       "      <td>2007</td>\n",
       "      <td>60.0</td>\n",
       "      <td>10284</td>\n",
       "      <td>4</td>\n",
       "      <td>7</td>\n",
       "    </tr>\n",
       "    <tr>\n",
       "      <th>499</th>\n",
       "      <td>194000</td>\n",
       "      <td>1432</td>\n",
       "      <td>1978</td>\n",
       "      <td>2007</td>\n",
       "      <td>NaN</td>\n",
       "      <td>16157</td>\n",
       "      <td>5</td>\n",
       "      <td>7</td>\n",
       "    </tr>\n",
       "    <tr>\n",
       "      <th>500</th>\n",
       "      <td>178000</td>\n",
       "      <td>1414</td>\n",
       "      <td>2004</td>\n",
       "      <td>2006</td>\n",
       "      <td>74.0</td>\n",
       "      <td>9056</td>\n",
       "      <td>8</td>\n",
       "      <td>5</td>\n",
       "    </tr>\n",
       "  </tbody>\n",
       "</table>\n",
       "<p>500 rows × 8 columns</p>\n",
       "</div>"
      ],
      "text/plain": [
       "     SalePrice  GrLivArea  YearBuilt  YrSold  LotFrontage  LotArea  \\\n",
       "1       126000        856       1939    2010          NaN     7890   \n",
       "2       139500       1049       1984    2009         42.0     4235   \n",
       "3       124900       1001       1930    2007         60.0     6060   \n",
       "4       114000       1039       1900    2009         80.0     8146   \n",
       "5       227000       1665       2001    2009         70.0     8400   \n",
       "..         ...        ...        ...     ...          ...      ...   \n",
       "496      45000        612       1940    2009         50.0     5925   \n",
       "497     173000       1200       1964    2008        150.0    14137   \n",
       "498     128500       1281       1925    2007         60.0    10284   \n",
       "499     194000       1432       1978    2007          NaN    16157   \n",
       "500     178000       1414       2004    2006         74.0     9056   \n",
       "\n",
       "     OverallQual  OverallCond  \n",
       "1              6            6  \n",
       "2              5            5  \n",
       "3              5            9  \n",
       "4              4            8  \n",
       "5              8            6  \n",
       "..           ...          ...  \n",
       "496            2            4  \n",
       "497            4            5  \n",
       "498            4            7  \n",
       "499            5            7  \n",
       "500            8            5  \n",
       "\n",
       "[500 rows x 8 columns]"
      ]
     },
     "execution_count": 47,
     "metadata": {},
     "output_type": "execute_result"
    }
   ],
   "source": [
    "test"
   ]
  },
  {
   "cell_type": "code",
   "execution_count": 181,
   "id": "896f4a82",
   "metadata": {},
   "outputs": [
    {
     "data": {
      "text/plain": [
       "173549.45544554456"
      ]
     },
     "execution_count": 181,
     "metadata": {},
     "output_type": "execute_result"
    }
   ],
   "source": [
    "test[test.YrSold == 2009].SalePrice.mean()"
   ]
  },
  {
   "cell_type": "code",
   "execution_count": 186,
   "id": "df02aa6a",
   "metadata": {},
   "outputs": [
    {
     "data": {
      "text/plain": [
       "196141.27272727274"
      ]
     },
     "execution_count": 186,
     "metadata": {},
     "output_type": "execute_result"
    }
   ],
   "source": [
    "test[test.YrSold == 2008].SalePrice.mean()"
   ]
  },
  {
   "cell_type": "code",
   "execution_count": 49,
   "id": "9a702bb3",
   "metadata": {},
   "outputs": [
    {
     "data": {
      "text/plain": [
       "SalePrice       0\n",
       "GrLivArea       0\n",
       "YearBuilt       0\n",
       "YrSold          0\n",
       "LotFrontage    73\n",
       "LotArea         0\n",
       "OverallQual     0\n",
       "OverallCond     0\n",
       "dtype: int64"
      ]
     },
     "execution_count": 49,
     "metadata": {},
     "output_type": "execute_result"
    }
   ],
   "source": [
    "np.sum(test.isnull())"
   ]
  },
  {
   "cell_type": "code",
   "execution_count": 56,
   "id": "f3b81d71",
   "metadata": {},
   "outputs": [
    {
     "data": {
      "text/plain": [
       "69.0"
      ]
     },
     "execution_count": 56,
     "metadata": {},
     "output_type": "execute_result"
    }
   ],
   "source": [
    "test.LotFrontage.median()"
   ]
  },
  {
   "cell_type": "code",
   "execution_count": 72,
   "id": "268880a3",
   "metadata": {},
   "outputs": [
    {
     "data": {
      "text/html": [
       "<div>\n",
       "<style scoped>\n",
       "    .dataframe tbody tr th:only-of-type {\n",
       "        vertical-align: middle;\n",
       "    }\n",
       "\n",
       "    .dataframe tbody tr th {\n",
       "        vertical-align: top;\n",
       "    }\n",
       "\n",
       "    .dataframe thead th {\n",
       "        text-align: right;\n",
       "    }\n",
       "</style>\n",
       "<table border=\"1\" class=\"dataframe\">\n",
       "  <thead>\n",
       "    <tr style=\"text-align: right;\">\n",
       "      <th></th>\n",
       "      <th>SalePrice</th>\n",
       "      <th>GrLivArea</th>\n",
       "      <th>YearBuilt</th>\n",
       "      <th>YrSold</th>\n",
       "      <th>LotFrontage</th>\n",
       "      <th>LotArea</th>\n",
       "      <th>OverallQual</th>\n",
       "      <th>OverallCond</th>\n",
       "    </tr>\n",
       "  </thead>\n",
       "  <tbody>\n",
       "    <tr>\n",
       "      <th>1</th>\n",
       "      <td>126000</td>\n",
       "      <td>856</td>\n",
       "      <td>1939</td>\n",
       "      <td>2010</td>\n",
       "      <td>69.0</td>\n",
       "      <td>7890</td>\n",
       "      <td>6</td>\n",
       "      <td>6</td>\n",
       "    </tr>\n",
       "    <tr>\n",
       "      <th>2</th>\n",
       "      <td>139500</td>\n",
       "      <td>1049</td>\n",
       "      <td>1984</td>\n",
       "      <td>2009</td>\n",
       "      <td>42.0</td>\n",
       "      <td>4235</td>\n",
       "      <td>5</td>\n",
       "      <td>5</td>\n",
       "    </tr>\n",
       "    <tr>\n",
       "      <th>3</th>\n",
       "      <td>124900</td>\n",
       "      <td>1001</td>\n",
       "      <td>1930</td>\n",
       "      <td>2007</td>\n",
       "      <td>60.0</td>\n",
       "      <td>6060</td>\n",
       "      <td>5</td>\n",
       "      <td>9</td>\n",
       "    </tr>\n",
       "    <tr>\n",
       "      <th>4</th>\n",
       "      <td>114000</td>\n",
       "      <td>1039</td>\n",
       "      <td>1900</td>\n",
       "      <td>2009</td>\n",
       "      <td>80.0</td>\n",
       "      <td>8146</td>\n",
       "      <td>4</td>\n",
       "      <td>8</td>\n",
       "    </tr>\n",
       "    <tr>\n",
       "      <th>5</th>\n",
       "      <td>227000</td>\n",
       "      <td>1665</td>\n",
       "      <td>2001</td>\n",
       "      <td>2009</td>\n",
       "      <td>70.0</td>\n",
       "      <td>8400</td>\n",
       "      <td>8</td>\n",
       "      <td>6</td>\n",
       "    </tr>\n",
       "    <tr>\n",
       "      <th>...</th>\n",
       "      <td>...</td>\n",
       "      <td>...</td>\n",
       "      <td>...</td>\n",
       "      <td>...</td>\n",
       "      <td>...</td>\n",
       "      <td>...</td>\n",
       "      <td>...</td>\n",
       "      <td>...</td>\n",
       "    </tr>\n",
       "    <tr>\n",
       "      <th>496</th>\n",
       "      <td>45000</td>\n",
       "      <td>612</td>\n",
       "      <td>1940</td>\n",
       "      <td>2009</td>\n",
       "      <td>50.0</td>\n",
       "      <td>5925</td>\n",
       "      <td>2</td>\n",
       "      <td>4</td>\n",
       "    </tr>\n",
       "    <tr>\n",
       "      <th>497</th>\n",
       "      <td>173000</td>\n",
       "      <td>1200</td>\n",
       "      <td>1964</td>\n",
       "      <td>2008</td>\n",
       "      <td>150.0</td>\n",
       "      <td>14137</td>\n",
       "      <td>4</td>\n",
       "      <td>5</td>\n",
       "    </tr>\n",
       "    <tr>\n",
       "      <th>498</th>\n",
       "      <td>128500</td>\n",
       "      <td>1281</td>\n",
       "      <td>1925</td>\n",
       "      <td>2007</td>\n",
       "      <td>60.0</td>\n",
       "      <td>10284</td>\n",
       "      <td>4</td>\n",
       "      <td>7</td>\n",
       "    </tr>\n",
       "    <tr>\n",
       "      <th>499</th>\n",
       "      <td>194000</td>\n",
       "      <td>1432</td>\n",
       "      <td>1978</td>\n",
       "      <td>2007</td>\n",
       "      <td>69.0</td>\n",
       "      <td>16157</td>\n",
       "      <td>5</td>\n",
       "      <td>7</td>\n",
       "    </tr>\n",
       "    <tr>\n",
       "      <th>500</th>\n",
       "      <td>178000</td>\n",
       "      <td>1414</td>\n",
       "      <td>2004</td>\n",
       "      <td>2006</td>\n",
       "      <td>74.0</td>\n",
       "      <td>9056</td>\n",
       "      <td>8</td>\n",
       "      <td>5</td>\n",
       "    </tr>\n",
       "  </tbody>\n",
       "</table>\n",
       "<p>500 rows × 8 columns</p>\n",
       "</div>"
      ],
      "text/plain": [
       "     SalePrice  GrLivArea  YearBuilt  YrSold  LotFrontage  LotArea  \\\n",
       "1       126000        856       1939    2010         69.0     7890   \n",
       "2       139500       1049       1984    2009         42.0     4235   \n",
       "3       124900       1001       1930    2007         60.0     6060   \n",
       "4       114000       1039       1900    2009         80.0     8146   \n",
       "5       227000       1665       2001    2009         70.0     8400   \n",
       "..         ...        ...        ...     ...          ...      ...   \n",
       "496      45000        612       1940    2009         50.0     5925   \n",
       "497     173000       1200       1964    2008        150.0    14137   \n",
       "498     128500       1281       1925    2007         60.0    10284   \n",
       "499     194000       1432       1978    2007         69.0    16157   \n",
       "500     178000       1414       2004    2006         74.0     9056   \n",
       "\n",
       "     OverallQual  OverallCond  \n",
       "1              6            6  \n",
       "2              5            5  \n",
       "3              5            9  \n",
       "4              4            8  \n",
       "5              8            6  \n",
       "..           ...          ...  \n",
       "496            2            4  \n",
       "497            4            5  \n",
       "498            4            7  \n",
       "499            5            7  \n",
       "500            8            5  \n",
       "\n",
       "[500 rows x 8 columns]"
      ]
     },
     "execution_count": 72,
     "metadata": {},
     "output_type": "execute_result"
    }
   ],
   "source": [
    "test.LotFrontage = test.LotFrontage.fillna(test.LotFrontage.median())\n",
    "test"
   ]
  },
  {
   "cell_type": "code",
   "execution_count": 73,
   "id": "fa3e4752",
   "metadata": {
    "scrolled": true
   },
   "outputs": [
    {
     "data": {
      "text/plain": [
       "SalePrice      0\n",
       "GrLivArea      0\n",
       "YearBuilt      0\n",
       "YrSold         0\n",
       "LotFrontage    0\n",
       "LotArea        0\n",
       "OverallQual    0\n",
       "OverallCond    0\n",
       "dtype: int64"
      ]
     },
     "execution_count": 73,
     "metadata": {},
     "output_type": "execute_result"
    }
   ],
   "source": [
    "np.sum(test.isnull())"
   ]
  },
  {
   "cell_type": "code",
   "execution_count": 78,
   "id": "51393b75",
   "metadata": {},
   "outputs": [
    {
     "data": {
      "text/html": [
       "<div>\n",
       "<style scoped>\n",
       "    .dataframe tbody tr th:only-of-type {\n",
       "        vertical-align: middle;\n",
       "    }\n",
       "\n",
       "    .dataframe tbody tr th {\n",
       "        vertical-align: top;\n",
       "    }\n",
       "\n",
       "    .dataframe thead th {\n",
       "        text-align: right;\n",
       "    }\n",
       "</style>\n",
       "<table border=\"1\" class=\"dataframe\">\n",
       "  <thead>\n",
       "    <tr style=\"text-align: right;\">\n",
       "      <th></th>\n",
       "      <th>GrLivArea</th>\n",
       "      <th>YearBuilt</th>\n",
       "      <th>YrSold</th>\n",
       "      <th>LotFrontage</th>\n",
       "      <th>LotArea</th>\n",
       "      <th>OverallQual</th>\n",
       "      <th>OverallCond</th>\n",
       "    </tr>\n",
       "  </thead>\n",
       "  <tbody>\n",
       "    <tr>\n",
       "      <th>1</th>\n",
       "      <td>856</td>\n",
       "      <td>1939</td>\n",
       "      <td>2010</td>\n",
       "      <td>69.0</td>\n",
       "      <td>7890</td>\n",
       "      <td>6</td>\n",
       "      <td>6</td>\n",
       "    </tr>\n",
       "    <tr>\n",
       "      <th>2</th>\n",
       "      <td>1049</td>\n",
       "      <td>1984</td>\n",
       "      <td>2009</td>\n",
       "      <td>42.0</td>\n",
       "      <td>4235</td>\n",
       "      <td>5</td>\n",
       "      <td>5</td>\n",
       "    </tr>\n",
       "    <tr>\n",
       "      <th>3</th>\n",
       "      <td>1001</td>\n",
       "      <td>1930</td>\n",
       "      <td>2007</td>\n",
       "      <td>60.0</td>\n",
       "      <td>6060</td>\n",
       "      <td>5</td>\n",
       "      <td>9</td>\n",
       "    </tr>\n",
       "    <tr>\n",
       "      <th>4</th>\n",
       "      <td>1039</td>\n",
       "      <td>1900</td>\n",
       "      <td>2009</td>\n",
       "      <td>80.0</td>\n",
       "      <td>8146</td>\n",
       "      <td>4</td>\n",
       "      <td>8</td>\n",
       "    </tr>\n",
       "    <tr>\n",
       "      <th>5</th>\n",
       "      <td>1665</td>\n",
       "      <td>2001</td>\n",
       "      <td>2009</td>\n",
       "      <td>70.0</td>\n",
       "      <td>8400</td>\n",
       "      <td>8</td>\n",
       "      <td>6</td>\n",
       "    </tr>\n",
       "    <tr>\n",
       "      <th>...</th>\n",
       "      <td>...</td>\n",
       "      <td>...</td>\n",
       "      <td>...</td>\n",
       "      <td>...</td>\n",
       "      <td>...</td>\n",
       "      <td>...</td>\n",
       "      <td>...</td>\n",
       "    </tr>\n",
       "    <tr>\n",
       "      <th>496</th>\n",
       "      <td>612</td>\n",
       "      <td>1940</td>\n",
       "      <td>2009</td>\n",
       "      <td>50.0</td>\n",
       "      <td>5925</td>\n",
       "      <td>2</td>\n",
       "      <td>4</td>\n",
       "    </tr>\n",
       "    <tr>\n",
       "      <th>497</th>\n",
       "      <td>1200</td>\n",
       "      <td>1964</td>\n",
       "      <td>2008</td>\n",
       "      <td>150.0</td>\n",
       "      <td>14137</td>\n",
       "      <td>4</td>\n",
       "      <td>5</td>\n",
       "    </tr>\n",
       "    <tr>\n",
       "      <th>498</th>\n",
       "      <td>1281</td>\n",
       "      <td>1925</td>\n",
       "      <td>2007</td>\n",
       "      <td>60.0</td>\n",
       "      <td>10284</td>\n",
       "      <td>4</td>\n",
       "      <td>7</td>\n",
       "    </tr>\n",
       "    <tr>\n",
       "      <th>499</th>\n",
       "      <td>1432</td>\n",
       "      <td>1978</td>\n",
       "      <td>2007</td>\n",
       "      <td>69.0</td>\n",
       "      <td>16157</td>\n",
       "      <td>5</td>\n",
       "      <td>7</td>\n",
       "    </tr>\n",
       "    <tr>\n",
       "      <th>500</th>\n",
       "      <td>1414</td>\n",
       "      <td>2004</td>\n",
       "      <td>2006</td>\n",
       "      <td>74.0</td>\n",
       "      <td>9056</td>\n",
       "      <td>8</td>\n",
       "      <td>5</td>\n",
       "    </tr>\n",
       "  </tbody>\n",
       "</table>\n",
       "<p>500 rows × 7 columns</p>\n",
       "</div>"
      ],
      "text/plain": [
       "     GrLivArea  YearBuilt  YrSold  LotFrontage  LotArea  OverallQual  \\\n",
       "1          856       1939    2010         69.0     7890            6   \n",
       "2         1049       1984    2009         42.0     4235            5   \n",
       "3         1001       1930    2007         60.0     6060            5   \n",
       "4         1039       1900    2009         80.0     8146            4   \n",
       "5         1665       2001    2009         70.0     8400            8   \n",
       "..         ...        ...     ...          ...      ...          ...   \n",
       "496        612       1940    2009         50.0     5925            2   \n",
       "497       1200       1964    2008        150.0    14137            4   \n",
       "498       1281       1925    2007         60.0    10284            4   \n",
       "499       1432       1978    2007         69.0    16157            5   \n",
       "500       1414       2004    2006         74.0     9056            8   \n",
       "\n",
       "     OverallCond  \n",
       "1              6  \n",
       "2              5  \n",
       "3              9  \n",
       "4              8  \n",
       "5              6  \n",
       "..           ...  \n",
       "496            4  \n",
       "497            5  \n",
       "498            7  \n",
       "499            7  \n",
       "500            5  \n",
       "\n",
       "[500 rows x 7 columns]"
      ]
     },
     "execution_count": 78,
     "metadata": {},
     "output_type": "execute_result"
    }
   ],
   "source": [
    "X = test.drop('SalePrice', axis = 1).copy()\n",
    "y = test.SalePrice.copy()\n",
    "X"
   ]
  },
  {
   "cell_type": "code",
   "execution_count": 79,
   "id": "6ec83a02",
   "metadata": {
    "scrolled": true
   },
   "outputs": [
    {
     "data": {
      "text/plain": [
       "1      126000\n",
       "2      139500\n",
       "3      124900\n",
       "4      114000\n",
       "5      227000\n",
       "        ...  \n",
       "496     45000\n",
       "497    173000\n",
       "498    128500\n",
       "499    194000\n",
       "500    178000\n",
       "Name: SalePrice, Length: 500, dtype: int64"
      ]
     },
     "execution_count": 79,
     "metadata": {},
     "output_type": "execute_result"
    }
   ],
   "source": [
    "y"
   ]
  },
  {
   "cell_type": "code",
   "execution_count": 165,
   "id": "669a5452",
   "metadata": {},
   "outputs": [],
   "source": [
    "X_train, X_test, y_train, y_test = train_test_split(X, y, random_state=10)"
   ]
  },
  {
   "cell_type": "code",
   "execution_count": 153,
   "id": "890ce344",
   "metadata": {},
   "outputs": [
    {
     "name": "stdout",
     "output_type": "stream",
     "text": [
      "[5.31467555e+01 6.20773420e+02 3.09618053e+02 4.06511098e+02\n",
      " 6.84827959e-01 2.50162270e+04 4.73315123e+03]\n",
      "-1956288.8430422288\n",
      "0.7483480411591548\n"
     ]
    }
   ],
   "source": [
    "ols.fit(X,y)\n",
    "print(ols.coef_)\n",
    "print(ols.intercept_)\n",
    "print(ols.score(X, y))"
   ]
  },
  {
   "cell_type": "code",
   "execution_count": 166,
   "id": "58cbfe48",
   "metadata": {},
   "outputs": [
    {
     "name": "stdout",
     "output_type": "stream",
     "text": [
      "[ 5.33676491e+01  6.24672804e+02 -3.22443477e+02  3.45273113e+02\n",
      "  7.54422795e-01  2.31630927e+04  5.64554207e+03]\n",
      "-686187.0373372512\n",
      "0.7411267346061403\n",
      "0.7620486778894584\n"
     ]
    }
   ],
   "source": [
    "ols.fit(X_train,y_train)\n",
    "print(ols.coef_)\n",
    "print(ols.intercept_)\n",
    "print(ols.score(X_train, y_train))\n",
    "print(ols.score(X_test, y_test))"
   ]
  },
  {
   "cell_type": "code",
   "execution_count": 167,
   "id": "1e52aed2",
   "metadata": {},
   "outputs": [
    {
     "name": "stdout",
     "output_type": "stream",
     "text": [
      "[ 5.43369649e+01  6.40033728e+02 -3.49939879e+02  3.43205757e+02\n",
      "  7.52912081e-01  2.24555918e+04  5.61938974e+03]\n",
      "-658052.2955561613\n",
      "0.7410650250933577\n",
      "0.760897595505386\n"
     ]
    }
   ],
   "source": [
    "ridge.set_params(alpha = 10)\n",
    "ridge.fit(X_train,y_train)\n",
    "print(ridge.coef_)\n",
    "print(ridge.intercept_)\n",
    "print(ridge.score(X_train, y_train))\n",
    "print(ridge.score(X_test, y_test))"
   ]
  },
  {
   "cell_type": "code",
   "execution_count": 168,
   "id": "2f3c232c",
   "metadata": {},
   "outputs": [
    {
     "name": "stdout",
     "output_type": "stream",
     "text": [
      "[ 5.47915294e+01  6.37061898e+02 -0.00000000e+00  3.39943517e+02\n",
      "  7.49176909e-01  2.21702339e+04  4.95223901e+03]\n",
      "-1349679.16821698\n",
      "0.7408530106444691\n",
      "0.7611157946757149\n"
     ]
    }
   ],
   "source": [
    "lasso.set_params(alpha = 1000)\n",
    "lasso.fit(X_train,y_train)\n",
    "print(lasso.coef_)\n",
    "print(lasso.intercept_)\n",
    "print(lasso.score(X_train, y_train))\n",
    "print(lasso.score(X_test, y_test))"
   ]
  },
  {
   "cell_type": "code",
   "execution_count": 175,
   "id": "1faaf40a",
   "metadata": {},
   "outputs": [
    {
     "name": "stderr",
     "output_type": "stream",
     "text": [
      "C:\\Users\\Natal\\anaconda3\\Lib\\site-packages\\sklearn\\base.py:1151: UserWarning: With alpha=0, this algorithm does not converge well. You are advised to use the LinearRegression estimator\n",
      "  return fit_method(estimator, *args, **kwargs)\n",
      "C:\\Users\\Natal\\anaconda3\\Lib\\site-packages\\sklearn\\linear_model\\_coordinate_descent.py:628: UserWarning: Coordinate descent with no regularization may lead to unexpected results and is discouraged.\n",
      "  model = cd_fast.enet_coordinate_descent(\n",
      "C:\\Users\\Natal\\anaconda3\\Lib\\site-packages\\sklearn\\linear_model\\_coordinate_descent.py:628: ConvergenceWarning: Objective did not converge. You might want to increase the number of iterations, check the scale of the features or consider increasing regularisation. Duality gap: 3.359e+11, tolerance: 2.595e+08 Linear regression models with null weight for the l1 regularization term are more efficiently fitted using one of the solvers implemented in sklearn.linear_model.Ridge/RidgeCV instead.\n",
      "  model = cd_fast.enet_coordinate_descent(\n"
     ]
    }
   ],
   "source": [
    "ridge.set_params()\n",
    "lasso.set_params()\n",
    "ridge_scores_train = []\n",
    "lasso_scores_train = []\n",
    "ridge_scores_test  = []\n",
    "lasso_scores_test  = []\n",
    "\n",
    "alphas = np.linspace(0, 100000, 100)\n",
    "\n",
    "for alpha in alphas:\n",
    "            ridge.set_params(alpha=alpha)\n",
    "            lasso.set_params(alpha=alpha)\n",
    "            ridge.fit(X_train, y_train)\n",
    "            lasso.fit(X_train, y_train)\n",
    "            ridge_scores_train.append(ridge.score(X_train, y_train))\n",
    "            ridge_scores_test.append(ridge.score(X_test, y_test))\n",
    "            lasso_scores_train.append(lasso.score(X_train, y_train))\n",
    "            lasso_scores_test.append(lasso.score(X_test, y_test))\n",
    "ridge_scores_train = np.array(ridge_scores_train) \n",
    "ridge_scores_test  = np.array(ridge_scores_test)\n",
    "lasso_scores_train = np.array(lasso_scores_train) \n",
    "lasso_scores_test  = np.array(lasso_scores_test)"
   ]
  },
  {
   "cell_type": "code",
   "execution_count": 176,
   "id": "233249ec",
   "metadata": {
    "scrolled": true
   },
   "outputs": [
    {
     "data": {
      "text/plain": [
       "Text(0, 0.5, '$R^2$')"
      ]
     },
     "execution_count": 176,
     "metadata": {},
     "output_type": "execute_result"
    },
    {
     "data": {
      "image/png": "[encoded data removed]",
      "text/plain": [
       "<Figure size 640x480 with 1 Axes>"
      ]
     },
     "metadata": {},
     "output_type": "display_data"
    }
   ],
   "source": [
    "plt.plot(alphas, ridge_scores_train, label=r'$train\\ R^2$')\n",
    "plt.plot(alphas, ridge_scores_test, label=r'$test\\ R^2$')\n",
    "plt.legend(loc=1)\n",
    "plt.title(r'Ridge Train-Test $R^2$ Comparison')\n",
    "ridge_underfit = ridge_scores_train < ridge_scores_test\n",
    "#### important\n",
    "# this code will only work if train is over taking testing \n",
    "# if the test overtakes train then you have to switch the < to >\n",
    "# I was getting this when I was chaing the lambda and the random seed\n",
    "last_underfit  = np.max(alphas[ridge_underfit])\n",
    "plt.axvline(last_underfit, linestyle='--', color='g', label='optimal lambda', alpha=0.4)\n",
    "plt.legend(loc=1)\n",
    "plt.xlabel(r'hyperparameter $\\lambda$')\n",
    "plt.ylabel(r'$R^2$')"
   ]
  },
  {
   "cell_type": "code",
   "execution_count": 177,
   "id": "1830ab1f",
   "metadata": {},
   "outputs": [
    {
     "data": {
      "text/plain": [
       "Text(0, 0.5, '$R^2$')"
      ]
     },
     "execution_count": 177,
     "metadata": {},
     "output_type": "execute_result"
    },
    {
     "data": {
      "image/png": "[encoded data removed]",
      "text/plain": [
       "<Figure size 640x480 with 1 Axes>"
      ]
     },
     "metadata": {},
     "output_type": "display_data"
    }
   ],
   "source": [
    "plt.plot(alphas, lasso_scores_train, label=r'$train\\ R^2$')\n",
    "plt.plot(alphas, lasso_scores_test, label=r'$test\\ R^2$')\n",
    "plt.title(r'Lasso Train-Test $R^2$ Comparison')\n",
    "lasso_underfit = lasso_scores_train < lasso_scores_test\n",
    "last_underfit  = np.max(alphas[lasso_underfit])\n",
    "plt.axvline(last_underfit, linestyle='--', color='g', label='optimal lambda', alpha=0.4)\n",
    "plt.legend(loc=1)\n",
    "plt.xlabel(r'hyperparameter $\\lambda$')\n",
    "plt.ylabel(r'$R^2$')"
   ]
  }
 ],
 "metadata": {
  "kernelspec": {
   "display_name": "Python 3 (ipykernel)",
   "language": "python",
   "name": "python3"
  },
  "language_info": {
   "codemirror_mode": {
    "name": "ipython",
    "version": 3
   },
   "file_extension": ".py",
   "mimetype": "text/x-python",
   "name": "python",
   "nbconvert_exporter": "python",
   "pygments_lexer": "ipython3",
   "version": "3.11.5"
  }
 },
 "nbformat": 4,
 "nbformat_minor": 5
}
