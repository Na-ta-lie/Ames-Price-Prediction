{
 "cells": [
  {
   "cell_type": "code",
   "execution_count": 2,
   "id": "73052951",
   "metadata": {},
   "outputs": [],
   "source": [
    "import numpy as np\n",
    "import pandas as pd\n",
    "import xgboost as xgb\n",
    "from xgboost import XGBRegressor\n",
    "import matplotlib.pyplot as plt\n",
    "from sklearn.model_selection import train_test_split\n",
    "from sklearn.metrics import balanced_accuracy_score, roc_auc_score, make_scorer\n",
    "from sklearn.model_selection import GridSearchCV\n",
    "from sklearn.metrics import confusion_matrix\n",
    "from sklearn.metrics import ConfusionMatrixDisplay\n",
    "from sklearn.pipeline import Pipeline\n",
    "from sklearn import compose, pipeline\n",
    "from sklearn.preprocessing import OneHotEncoder\n",
    "from sklearn.compose import ColumnTransformer\n",
    "from sklearn.compose import make_column_selector as selector\n",
    "from sklearn.preprocessing import OneHotEncoder, OrdinalEncoder\n",
    "from sklearn.preprocessing import StandardScaler, MinMaxScaler, MaxAbsScaler, RobustScaler\n",
    "from sklearn.pipeline import Pipeline\n",
    "from sklearn import compose, pipeline\n",
    "from sklearn.model_selection import KFold\n",
    "from typing import Optional\n",
    "from sklearn.model_selection import cross_val_score, KFold\n",
    "from sklearn.metrics import roc_auc_score, make_scorer, r2_score\n",
    "from pandas import DataFrame, Series\n",
    "import numpy as np\n",
    "kf = KFold(n_splits=5, shuffle=True, random_state=42)\n",
    "import xgboost as xgb\n",
    "from xgboost import XGBRegressor\n",
    "import optuna\n",
    "from optuna import Trial\n",
    "from optuna import create_study\n",
    "from sklearn import compose\n",
    "from sklearn.model_selection import GridSearchCV\n",
    "from sklearn.linear_model import Lasso, Ridge, LinearRegression, ElasticNet\n",
    "from sklearn.ensemble import GradientBoostingRegressor, AdaBoostRegressor, RandomForestRegressor\n",
    "#website help from \n",
    "#https://medium.com/@walter_sperat/using-optuna-with-sklearn-the-right-way-part-1-6b4ad0ab2451"
   ]
  },
  {
   "cell_type": "markdown",
   "id": "c1df8ab3",
   "metadata": {},
   "source": [
    "### Instantiate function for each regression model "
   ]
  },
  {
   "cell_type": "code",
   "execution_count": 3,
   "id": "778416d4",
   "metadata": {},
   "outputs": [],
   "source": [
    "def instantiate_ridge(trial : Trial) -> Ridge:\n",
    "    params = {\n",
    "        \"alpha\": trial.suggest_float(\"alpha\", 1e-4, 1000, log=True)\n",
    "    }\n",
    "\n",
    "    return Ridge(**params)\n",
    "\n",
    "def instantiate_lasso(trial : Trial) -> Lasso:\n",
    "    params = {\n",
    "        \"alpha\": trial.suggest_float(\"alpha\", 1e-4, 1000, log=True)\n",
    "    }\n",
    "\n",
    "    return Lasso(**params)\n",
    "\n",
    "def instantiate_en(trial : Trial) -> ElasticNet:\n",
    "    params = {\n",
    "        \"alpha\": trial.suggest_float(\"alpha\", 1e-4, 1000, log=True),\n",
    "        'l1_ratio': trial.suggest_float('l1_ratio', .00001, 1, log = True)\n",
    "    }\n",
    "\n",
    "    return ElasticNet(**params)\n",
    "\n",
    "def instantiate_xgb(trial : Trial) -> XGBRegressor:\n",
    "    params = {\n",
    "        'n_estimators': trial.suggest_int('n_estimators', 100, 1000),\n",
    "        \"learning_rate\": trial.suggest_float(\"learning_rate\", 1e-4, 1, log=True),\n",
    "        \"max_depth\": trial.suggest_int(\"max_depth\", 4, 8),\n",
    "        \"subsample\": trial.suggest_float(\"subsample\", 0.5, 1.0),\n",
    "        \"colsample_bytree\": trial.suggest_float(\"colsample_bytree\", 0.5, 1.0),\n",
    "        \"min_child_weight\": trial.suggest_int(\"min_child_weight\", 10, 20)\n",
    "    }\n",
    "\n",
    "    return XGBRegressor(**params)\n",
    "\n",
    "def instantiate_gbr(trial : Trial) -> GradientBoostingRegressor:\n",
    "    params = {\n",
    "    'n_estimators': trial.suggest_int('n_estimators', 500, 1000),\n",
    "    'learning_rate': trial.suggest_float('learning_rate', 1e-4, 1, log=True),\n",
    "    'max_depth': trial.suggest_int ('max_depth', 2, 6),\n",
    "    \"subsample\": trial.suggest_float(\"subsample\", 0.5, 1.0),\n",
    "    'min_samples_split': trial.suggest_int ('min_sample_split', 6, 10),\n",
    "    'min_samples_leaf': trial.suggest_int ('min_sample_leaf', 1, 10)\n",
    "    }\n",
    "    \n",
    "    return GradientBoostingRegressor(**params)\n",
    "\n",
    "def instantiate_rf(trial : Trial) -> RandomForestRegressor:\n",
    "    params = {\n",
    "    'bootstrap':trial.suggest_categorical('bootstrap', [True, False]),\n",
    "    'n_estimators': trial.suggest_int('n_estimators', 10, 1000),\n",
    "    'max_depth': trial.suggest_int('max_depth', 1, 100),\n",
    "    'min_samples_split': trial.suggest_int('min_sample_split', 2, 10),\n",
    "    'min_samples_leaf': trial.suggest_int('min_sample_leaf', 1, 10)\n",
    "    }\n",
    "    \n",
    "    return RandomForestRegressor(**params)\n",
    "\n",
    "def instantiate_ada(trial : Trial) -> AdaBoostRegressor:\n",
    "    params = {\n",
    "    'learning_rate': trial.suggest_float('learning_rate', 1e-4, 1, log=True),\n",
    "    'loss': trial.suggest_categorical('loss',['linear', 'square', 'exponential']),\n",
    "    'n_estimators': trial.suggest_int('n_estimators', 1, 1000)\n",
    "    }\n",
    "    \n",
    "    return AdaBoostRegressor(**params)\n"
   ]
  },
  {
   "cell_type": "markdown",
   "id": "762035a6",
   "metadata": {},
   "source": [
    "### Instantiate function for regression model selection"
   ]
  },
  {
   "cell_type": "code",
   "execution_count": 4,
   "id": "83b2b5e3",
   "metadata": {},
   "outputs": [],
   "source": [
    "Classifier = (\n",
    "    Ridge |\n",
    "    Lasso |\n",
    "    ElasticNet |\n",
    "    XGBRegressor |\n",
    "    GradientBoostingRegressor |\n",
    "    RandomForestRegressor |\n",
    "    AdaBoostRegressor\n",
    "    )\n",
    "\n",
    "def instantiate_learner(trial : Trial) -> Classifier:\n",
    "    algorithm = trial.suggest_categorical(\n",
    "    'algorithm', ['ridge', 'lasso', 'en', 'xgb', 'gbr', 'rf', 'ada'])\n",
    "    \n",
    "    if algorithm =='ridge':\n",
    "        model = instantiate_ridge(trial)\n",
    "    elif algorithm=='lasso':\n",
    "        model = instantiate_lasso(trial)\n",
    "    elif algorithm=='en':\n",
    "        model = instantiate_en(trial)\n",
    "    elif algorithm=='xgb':\n",
    "        model = instantiate_xgb(trial)\n",
    "    elif algorithm=='gbr':\n",
    "        model = instantiate_gbr(trial)\n",
    "    elif algorithm == 'rf':\n",
    "        model = instantiate_rf(trial)\n",
    "    elif algorithm == 'ada':\n",
    "        model = instantiate_ada(trial)\n",
    "        \n",
    "    return model"
   ]
  },
  {
   "cell_type": "markdown",
   "id": "c3ed085c",
   "metadata": {},
   "source": [
    "### Instantiate functions for encoding categorical columns "
   ]
  },
  {
   "cell_type": "code",
   "execution_count": 5,
   "id": "10aec487",
   "metadata": {},
   "outputs": [],
   "source": [
    "from sklearn.preprocessing import OrdinalEncoder, OneHotEncoder\n",
    "#from category_encoders import WOEEncoder\n",
    "\n",
    "def instantiate_ordinal_encoder(trial: Trial)-> OrdinalEncoder:\n",
    "    params = {\n",
    "        'handle_unknown': \"use_encoded_value\", \n",
    "        'unknown_value': -1\n",
    "    }\n",
    "    \n",
    "    return OrdinalEncoder(**params)\n",
    "\n",
    "def instantiate_onehot_encoder(trial: Trial)-> OneHotEncoder:\n",
    "    params = {\n",
    "        'handle_unknown': 'ignore',\n",
    "        'drop': trial.suggest_categorical('drop', [None, 'first'])\n",
    "    }\n",
    "    \n",
    "    return OneHotEncoder(**params)\n",
    "    \n",
    "Encoder = (\n",
    "    OrdinalEncoder |\n",
    "    OneHotEncoder \n",
    "    )\n",
    "\n",
    "def instantiate_encoder (trial : Trial) -> Encoder:\n",
    "    encoding_method = trial.suggest_categorical(\n",
    "        'encoding_method', ['ordinal', 'onehot'])\n",
    "    if encoding_method =='ordinal':\n",
    "        encoder = instantiate_ordinal_encoder(trial)\n",
    "    elif encoding_method =='onehot':\n",
    "        encoder = instantiate_onehot_encoder(trial)\n",
    "    \n",
    "    return encoder"
   ]
  },
  {
   "cell_type": "markdown",
   "id": "59b0d061",
   "metadata": {},
   "source": [
    "### Instantiate functions for encoding numerical columns "
   ]
  },
  {
   "cell_type": "code",
   "execution_count": 6,
   "id": "89e1b457",
   "metadata": {},
   "outputs": [],
   "source": [
    "\n",
    "Scaler = (\n",
    "  StandardScaler |\n",
    "  MinMaxScaler |\n",
    "  MaxAbsScaler |\n",
    "  RobustScaler\n",
    ")\n",
    "\n",
    "def instantiate_scaler(trial : Trial) -> Scaler:\n",
    "    method = trial.suggest_categorical(\n",
    "    'scaling_method', ['standard', 'minmax', 'maxabs', 'robust']\n",
    "    )\n",
    "    if method=='standard':\n",
    "        scaler = StandardScaler()\n",
    "    elif method=='minmax':\n",
    "        scaler = MinMaxScaler()\n",
    "    elif method=='maxabs':\n",
    "        scaler = MaxAbsScaler()\n",
    "    elif method=='robust':\n",
    "        scaler = RobustScaler()\n",
    "        \n",
    "    return scaler"
   ]
  },
  {
   "cell_type": "markdown",
   "id": "a725c0b4",
   "metadata": {},
   "source": [
    "### Instantiate function to scale and encode "
   ]
  },
  {
   "cell_type": "code",
   "execution_count": 7,
   "id": "39c0ceef",
   "metadata": {},
   "outputs": [],
   "source": [
    "from sklearn.compose import ColumnTransformer\n",
    "from sklearn.pipeline import Pipeline\n",
    "\n",
    "def instantiate_processor(trial : Trial, \n",
    "                          numerical_columns : list[str], \n",
    "                          categorical_columns : list[str]) -> ColumnTransformer:\n",
    "    \n",
    "    numerical_pipeline = instantiate_scaler(trial)\n",
    "    categorical_pipeline = instantiate_encoder(trial)\n",
    "   # numerical_pipeline = StandardScaler()\n",
    "    #categorical_pipeline = OneHotEncoder(handle_unknown=\"ignore\", drop='first')\n",
    "    \n",
    "#     numerical_pipeline = instantiate_numerical_pipeline(trial)\n",
    "#     categorical_pipeline = instantiate_categorical_pipeline(trial)\n",
    "    \n",
    "    processor = ColumnTransformer([\n",
    "        ('numerical_pipeline', numerical_pipeline, numerical_columns),\n",
    "        ('categorical_pipeline', categorical_pipeline, categorical_columns)\n",
    "    ])\n",
    "    return processor\n",
    "\n",
    "def instantiate_model(trial : Trial, numerical_columns : list[str], \n",
    "                      categorical_columns : list[str]) -> Pipeline:\n",
    "    \n",
    "    processor = instantiate_processor(\n",
    "        trial, numerical_columns, categorical_columns\n",
    "    )\n",
    "    \n",
    "    learner = instantiate_learner(trial)\n",
    "    \n",
    "    model_pipe = Pipeline([\n",
    "    ('processor', processor),\n",
    "    ('model', learner)\n",
    "    ])\n",
    "    \n",
    "    model = compose.TransformedTargetRegressor(regressor= model_pipe,\n",
    "                                                func=np.log, inverse_func=np.exp)\n",
    "    \n",
    "    return model"
   ]
  },
  {
   "cell_type": "code",
   "execution_count": 8,
   "id": "8ccb7146",
   "metadata": {},
   "outputs": [],
   "source": [
    "def objective(trial : Trial, X : DataFrame,\n",
    "              y : np.ndarray | Series, \n",
    "              numerical_columns : Optional[list[str]]=None, \n",
    "              categorical_columns : Optional[list[str]]=None, \n",
    "              random_state : int=42) -> float:\n",
    "    \n",
    "    if numerical_columns is None:\n",
    "        numerical_columns = [\n",
    "            *X.select_dtypes(exclude=['object', 'category']).columns\n",
    "        ]\n",
    "    \n",
    "    if categorical_columns is None:\n",
    "        categorical_columns = [\n",
    "            *X.select_dtypes(include=['object', 'category']).columns\n",
    "        ]\n",
    "    \n",
    "    model = instantiate_model(trial, numerical_columns, categorical_columns)\n",
    "    kf = KFold(n_splits=5, shuffle=True, random_state=random_state)\n",
    "    r2 = make_scorer(r2_score)\n",
    "    scores = cross_val_score(model, X, y, scoring= r2, cv=kf)\n",
    "    \n",
    "    return np.min([np.mean(scores), np.median([scores])])"
   ]
  },
  {
   "cell_type": "code",
   "execution_count": 9,
   "id": "8b91f48f",
   "metadata": {},
   "outputs": [],
   "source": [
    "df = pd.read_csv('df_normal_quality.csv', index_col=0)\n",
    "y = df.SalePrice\n",
    "X = df.drop(['PID', 'SalePrice'], axis =1).copy()"
   ]
  },
  {
   "cell_type": "code",
   "execution_count": 10,
   "id": "f8d73b4f",
   "metadata": {},
   "outputs": [
    {
     "name": "stderr",
     "output_type": "stream",
     "text": [
      "[I 2024-07-08 09:50:33,536] A new study created in memory with name: optimization\n"
     ]
    }
   ],
   "source": [
    "from optuna import create_study\n",
    "\n",
    "study = create_study(study_name='optimization', direction='maximize')"
   ]
  },
  {
   "cell_type": "code",
   "execution_count": 12,
   "id": "03abe65d",
   "metadata": {},
   "outputs": [
    {
     "name": "stderr",
     "output_type": "stream",
     "text": [
      "C:\\Users\\Natal\\anaconda3\\Lib\\site-packages\\sklearn\\preprocessing\\_encoders.py:227: UserWarning: Found unknown categories in columns [3, 10] during transform. These unknown categories will be encoded as all zeros\n",
      "  warnings.warn(\n",
      "C:\\Users\\Natal\\anaconda3\\Lib\\site-packages\\sklearn\\preprocessing\\_encoders.py:227: UserWarning: Found unknown categories in columns [3, 9, 14] during transform. These unknown categories will be encoded as all zeros\n",
      "  warnings.warn(\n",
      "C:\\Users\\Natal\\anaconda3\\Lib\\site-packages\\sklearn\\preprocessing\\_encoders.py:227: UserWarning: Found unknown categories in columns [5, 21] during transform. These unknown categories will be encoded as all zeros\n",
      "  warnings.warn(\n",
      "C:\\Users\\Natal\\anaconda3\\Lib\\site-packages\\sklearn\\preprocessing\\_encoders.py:227: UserWarning: Found unknown categories in columns [9, 21] during transform. These unknown categories will be encoded as all zeros\n",
      "  warnings.warn(\n",
      "C:\\Users\\Natal\\anaconda3\\Lib\\site-packages\\sklearn\\preprocessing\\_encoders.py:227: UserWarning: Found unknown categories in columns [0] during transform. These unknown categories will be encoded as all zeros\n",
      "  warnings.warn(\n",
      "[I 2024-07-08 09:50:57,985] Trial 0 finished with value: -0.029441307066881618 and parameters: {'scaling_method': 'standard', 'encoding_method': 'onehot', 'drop': 'first', 'algorithm': 'lasso', 'alpha': 1.596299953148117}. Best is trial 0 with value: -0.029441307066881618.\n",
      "[I 2024-07-08 09:52:42,088] Trial 1 finished with value: 0.8393679950758675 and parameters: {'scaling_method': 'maxabs', 'encoding_method': 'ordinal', 'algorithm': 'rf', 'bootstrap': False, 'n_estimators': 246, 'max_depth': 64, 'min_sample_split': 3, 'min_sample_leaf': 10}. Best is trial 1 with value: 0.8393679950758675.\n",
      "[I 2024-07-08 09:53:11,436] Trial 2 finished with value: 0.8641449377737869 and parameters: {'scaling_method': 'standard', 'encoding_method': 'ordinal', 'algorithm': 'ada', 'learning_rate': 0.17448906672786785, 'loss': 'linear', 'n_estimators': 279}. Best is trial 2 with value: 0.8641449377737869.\n",
      "[I 2024-07-08 09:53:40,784] Trial 3 finished with value: 0.8946663651310004 and parameters: {'scaling_method': 'maxabs', 'encoding_method': 'ordinal', 'algorithm': 'rf', 'bootstrap': True, 'n_estimators': 98, 'max_depth': 19, 'min_sample_split': 3, 'min_sample_leaf': 7}. Best is trial 3 with value: 0.8946663651310004.\n",
      "C:\\Users\\Natal\\anaconda3\\Lib\\site-packages\\sklearn\\preprocessing\\_encoders.py:227: UserWarning: Found unknown categories in columns [3, 10] during transform. These unknown categories will be encoded as all zeros\n",
      "  warnings.warn(\n",
      "C:\\Users\\Natal\\anaconda3\\Lib\\site-packages\\sklearn\\preprocessing\\_encoders.py:227: UserWarning: Found unknown categories in columns [3, 9, 14] during transform. These unknown categories will be encoded as all zeros\n",
      "  warnings.warn(\n",
      "C:\\Users\\Natal\\anaconda3\\Lib\\site-packages\\sklearn\\preprocessing\\_encoders.py:227: UserWarning: Found unknown categories in columns [5, 21] during transform. These unknown categories will be encoded as all zeros\n",
      "  warnings.warn(\n",
      "C:\\Users\\Natal\\anaconda3\\Lib\\site-packages\\sklearn\\preprocessing\\_encoders.py:227: UserWarning: Found unknown categories in columns [9, 21] during transform. These unknown categories will be encoded as all zeros\n",
      "  warnings.warn(\n",
      "C:\\Users\\Natal\\anaconda3\\Lib\\site-packages\\sklearn\\preprocessing\\_encoders.py:227: UserWarning: Found unknown categories in columns [0] during transform. These unknown categories will be encoded as all zeros\n",
      "  warnings.warn(\n",
      "[I 2024-07-08 09:55:12,376] Trial 4 finished with value: 0.8549804963350909 and parameters: {'scaling_method': 'standard', 'encoding_method': 'onehot', 'drop': 'first', 'algorithm': 'ada', 'learning_rate': 0.04631870085995089, 'loss': 'exponential', 'n_estimators': 606}. Best is trial 3 with value: 0.8946663651310004.\n",
      "C:\\Users\\Natal\\anaconda3\\Lib\\site-packages\\sklearn\\preprocessing\\_encoders.py:227: UserWarning: Found unknown categories in columns [3, 10] during transform. These unknown categories will be encoded as all zeros\n",
      "  warnings.warn(\n",
      "C:\\Users\\Natal\\anaconda3\\Lib\\site-packages\\sklearn\\preprocessing\\_encoders.py:227: UserWarning: Found unknown categories in columns [3, 9, 14] during transform. These unknown categories will be encoded as all zeros\n",
      "  warnings.warn(\n",
      "C:\\Users\\Natal\\anaconda3\\Lib\\site-packages\\sklearn\\preprocessing\\_encoders.py:227: UserWarning: Found unknown categories in columns [5, 21] during transform. These unknown categories will be encoded as all zeros\n",
      "  warnings.warn(\n",
      "C:\\Users\\Natal\\anaconda3\\Lib\\site-packages\\sklearn\\preprocessing\\_encoders.py:227: UserWarning: Found unknown categories in columns [9, 21] during transform. These unknown categories will be encoded as all zeros\n",
      "  warnings.warn(\n",
      "C:\\Users\\Natal\\anaconda3\\Lib\\site-packages\\sklearn\\preprocessing\\_encoders.py:227: UserWarning: Found unknown categories in columns [0] during transform. These unknown categories will be encoded as all zeros\n",
      "  warnings.warn(\n",
      "[I 2024-07-08 09:55:19,425] Trial 5 finished with value: 0.8881874953150927 and parameters: {'scaling_method': 'robust', 'encoding_method': 'onehot', 'drop': 'first', 'algorithm': 'xgb', 'n_estimators': 326, 'learning_rate': 0.01640850457629452, 'max_depth': 6, 'subsample': 0.9420185743653489, 'colsample_bytree': 0.7031024498108345, 'min_child_weight': 13}. Best is trial 3 with value: 0.8946663651310004.\n",
      "[I 2024-07-08 09:55:20,809] Trial 6 finished with value: -6.654992489189699 and parameters: {'scaling_method': 'standard', 'encoding_method': 'ordinal', 'algorithm': 'xgb', 'n_estimators': 129, 'learning_rate': 0.004098470983787435, 'max_depth': 7, 'subsample': 0.9012504032634416, 'colsample_bytree': 0.8634801259800144, 'min_child_weight': 13}. Best is trial 3 with value: 0.8946663651310004.\n",
      "[I 2024-07-08 09:56:41,522] Trial 7 finished with value: 0.0735809627628207 and parameters: {'scaling_method': 'standard', 'encoding_method': 'ordinal', 'algorithm': 'gbr', 'n_estimators': 935, 'learning_rate': 0.00011053256810369346, 'max_depth': 2, 'subsample': 0.9205826464728777, 'min_sample_split': 10, 'min_sample_leaf': 3}. Best is trial 3 with value: 0.8946663651310004.\n",
      "[I 2024-07-08 09:56:41,870] Trial 8 finished with value: 0.9408378006661791 and parameters: {'scaling_method': 'minmax', 'encoding_method': 'ordinal', 'algorithm': 'ridge', 'alpha': 0.012995670998157008}. Best is trial 8 with value: 0.9408378006661791.\n",
      "[I 2024-07-08 09:56:49,296] Trial 9 finished with value: 0.9334970888614625 and parameters: {'scaling_method': 'minmax', 'encoding_method': 'ordinal', 'algorithm': 'xgb', 'n_estimators': 504, 'learning_rate': 0.38609102336011014, 'max_depth': 4, 'subsample': 0.7720674692916107, 'colsample_bytree': 0.6449948679603827, 'min_child_weight': 19}. Best is trial 8 with value: 0.9408378006661791.\n",
      "[I 2024-07-08 09:56:49,808] Trial 10 finished with value: 0.9458060353129094 and parameters: {'scaling_method': 'minmax', 'encoding_method': 'onehot', 'drop': None, 'algorithm': 'ridge', 'alpha': 0.0001468389907212205}. Best is trial 10 with value: 0.9458060353129094.\n",
      "[I 2024-07-08 09:56:50,338] Trial 11 finished with value: 0.9458056208126621 and parameters: {'scaling_method': 'minmax', 'encoding_method': 'onehot', 'drop': None, 'algorithm': 'ridge', 'alpha': 0.00011035779400701059}. Best is trial 10 with value: 0.9458060353129094.\n",
      "[I 2024-07-08 09:56:50,818] Trial 12 finished with value: 0.9458055169302406 and parameters: {'scaling_method': 'minmax', 'encoding_method': 'onehot', 'drop': None, 'algorithm': 'ridge', 'alpha': 0.00010121663304673973}. Best is trial 10 with value: 0.9458060353129094.\n",
      "C:\\Users\\Natal\\anaconda3\\Lib\\site-packages\\sklearn\\linear_model\\_coordinate_descent.py:628: ConvergenceWarning: Objective did not converge. You might want to increase the number of iterations, check the scale of the features or consider increasing regularisation. Duality gap: 5.122e+00, tolerance: 2.383e-02\n",
      "  model = cd_fast.enet_coordinate_descent(\n",
      "C:\\Users\\Natal\\anaconda3\\Lib\\site-packages\\sklearn\\linear_model\\_coordinate_descent.py:628: ConvergenceWarning: Objective did not converge. You might want to increase the number of iterations, check the scale of the features or consider increasing regularisation. Duality gap: 5.346e+00, tolerance: 2.345e-02\n",
      "  model = cd_fast.enet_coordinate_descent(\n"
     ]
    },
    {
     "name": "stderr",
     "output_type": "stream",
     "text": [
      "C:\\Users\\Natal\\anaconda3\\Lib\\site-packages\\sklearn\\linear_model\\_coordinate_descent.py:628: ConvergenceWarning: Objective did not converge. You might want to increase the number of iterations, check the scale of the features or consider increasing regularisation. Duality gap: 5.600e+00, tolerance: 2.415e-02\n",
      "  model = cd_fast.enet_coordinate_descent(\n",
      "C:\\Users\\Natal\\anaconda3\\Lib\\site-packages\\sklearn\\linear_model\\_coordinate_descent.py:628: ConvergenceWarning: Objective did not converge. You might want to increase the number of iterations, check the scale of the features or consider increasing regularisation. Duality gap: 5.576e+00, tolerance: 2.409e-02\n",
      "  model = cd_fast.enet_coordinate_descent(\n",
      "C:\\Users\\Natal\\anaconda3\\Lib\\site-packages\\sklearn\\linear_model\\_coordinate_descent.py:628: ConvergenceWarning: Objective did not converge. You might want to increase the number of iterations, check the scale of the features or consider increasing regularisation. Duality gap: 5.339e+00, tolerance: 2.445e-02\n",
      "  model = cd_fast.enet_coordinate_descent(\n",
      "[I 2024-07-08 09:56:54,429] Trial 13 finished with value: 0.9470588749996617 and parameters: {'scaling_method': 'minmax', 'encoding_method': 'onehot', 'drop': None, 'algorithm': 'en', 'alpha': 0.00011010104040317402, 'l1_ratio': 0.0001455025676712381}. Best is trial 13 with value: 0.9470588749996617.\n",
      "[I 2024-07-08 09:56:54,805] Trial 14 finished with value: -0.025586122789539933 and parameters: {'scaling_method': 'minmax', 'encoding_method': 'onehot', 'drop': None, 'algorithm': 'en', 'alpha': 199.93883658061745, 'l1_ratio': 7.950477271767913e-05}. Best is trial 13 with value: 0.9470588749996617.\n",
      "[I 2024-07-08 09:56:56,103] Trial 15 finished with value: 0.9506146499925329 and parameters: {'scaling_method': 'robust', 'encoding_method': 'onehot', 'drop': None, 'algorithm': 'en', 'alpha': 0.005798418815720318, 'l1_ratio': 0.03787907308950946}. Best is trial 15 with value: 0.9506146499925329.\n",
      "[I 2024-07-08 09:56:56,774] Trial 16 finished with value: 0.9454934218066602 and parameters: {'scaling_method': 'robust', 'encoding_method': 'onehot', 'drop': None, 'algorithm': 'en', 'alpha': 0.01549613842650819, 'l1_ratio': 0.1029104274828476}. Best is trial 15 with value: 0.9506146499925329.\n",
      "[I 2024-07-08 09:56:58,425] Trial 17 finished with value: 0.949897721202668 and parameters: {'scaling_method': 'robust', 'encoding_method': 'onehot', 'drop': None, 'algorithm': 'en', 'alpha': 0.005258496728628177, 'l1_ratio': 0.003778377776623307}. Best is trial 15 with value: 0.9506146499925329.\n",
      "[I 2024-07-08 09:56:59,235] Trial 18 finished with value: 0.9494882570686602 and parameters: {'scaling_method': 'robust', 'encoding_method': 'onehot', 'drop': None, 'algorithm': 'en', 'alpha': 0.016323134427685126, 'l1_ratio': 0.02422004623082698}. Best is trial 15 with value: 0.9506146499925329.\n",
      "[I 2024-07-08 09:56:59,809] Trial 19 finished with value: 0.9192456360955411 and parameters: {'scaling_method': 'robust', 'encoding_method': 'onehot', 'drop': None, 'algorithm': 'en', 'alpha': 0.3362954482428801, 'l1_ratio': 0.0022756750504489658}. Best is trial 15 with value: 0.9506146499925329.\n",
      "[I 2024-07-08 09:57:00,398] Trial 20 finished with value: 0.9420714241747068 and parameters: {'scaling_method': 'robust', 'encoding_method': 'onehot', 'drop': None, 'algorithm': 'lasso', 'alpha': 0.002900118815171004}. Best is trial 15 with value: 0.9506146499925329.\n",
      "[I 2024-07-08 09:57:01,541] Trial 21 finished with value: 0.9506084694145299 and parameters: {'scaling_method': 'robust', 'encoding_method': 'onehot', 'drop': None, 'algorithm': 'en', 'alpha': 0.005876606135668252, 'l1_ratio': 0.047101066054478176}. Best is trial 15 with value: 0.9506146499925329.\n",
      "[I 2024-07-08 09:57:02,162] Trial 22 finished with value: 0.9437030111741564 and parameters: {'scaling_method': 'robust', 'encoding_method': 'onehot', 'drop': None, 'algorithm': 'en', 'alpha': 0.0020925680898552304, 'l1_ratio': 0.9704431454327804}. Best is trial 15 with value: 0.9506146499925329.\n",
      "[I 2024-07-08 09:57:02,774] Trial 23 finished with value: 0.9298687541274153 and parameters: {'scaling_method': 'robust', 'encoding_method': 'onehot', 'drop': None, 'algorithm': 'en', 'alpha': 0.20896925467965963, 'l1_ratio': 0.007314608383401472}. Best is trial 15 with value: 0.9506146499925329.\n",
      "[I 2024-07-08 09:58:18,935] Trial 24 finished with value: 0.4228627970871483 and parameters: {'scaling_method': 'robust', 'encoding_method': 'onehot', 'drop': None, 'algorithm': 'gbr', 'n_estimators': 992, 'learning_rate': 0.0006270551304483375, 'max_depth': 2, 'subsample': 0.5032672951215768, 'min_sample_split': 7, 'min_sample_leaf': 2}. Best is trial 15 with value: 0.9506146499925329.\n",
      "C:\\Users\\Natal\\anaconda3\\Lib\\site-packages\\sklearn\\preprocessing\\_encoders.py:227: UserWarning: Found unknown categories in columns [3, 10] during transform. These unknown categories will be encoded as all zeros\n",
      "  warnings.warn(\n",
      "C:\\Users\\Natal\\anaconda3\\Lib\\site-packages\\sklearn\\linear_model\\_coordinate_descent.py:628: ConvergenceWarning: Objective did not converge. You might want to increase the number of iterations, check the scale of the features or consider increasing regularisation. Duality gap: 3.496e-02, tolerance: 2.345e-02\n",
      "  model = cd_fast.enet_coordinate_descent(\n",
      "C:\\Users\\Natal\\anaconda3\\Lib\\site-packages\\sklearn\\preprocessing\\_encoders.py:227: UserWarning: Found unknown categories in columns [3, 9, 14] during transform. These unknown categories will be encoded as all zeros\n",
      "  warnings.warn(\n",
      "C:\\Users\\Natal\\anaconda3\\Lib\\site-packages\\sklearn\\preprocessing\\_encoders.py:227: UserWarning: Found unknown categories in columns [5, 21] during transform. These unknown categories will be encoded as all zeros\n",
      "  warnings.warn(\n",
      "C:\\Users\\Natal\\anaconda3\\Lib\\site-packages\\sklearn\\preprocessing\\_encoders.py:227: UserWarning: Found unknown categories in columns [9, 21] during transform. These unknown categories will be encoded as all zeros\n",
      "  warnings.warn(\n",
      "C:\\Users\\Natal\\anaconda3\\Lib\\site-packages\\sklearn\\preprocessing\\_encoders.py:227: UserWarning: Found unknown categories in columns [0] during transform. These unknown categories will be encoded as all zeros\n",
      "  warnings.warn(\n",
      "[I 2024-07-08 09:58:21,595] Trial 25 finished with value: 0.9502918463775044 and parameters: {'scaling_method': 'robust', 'encoding_method': 'onehot', 'drop': 'first', 'algorithm': 'en', 'alpha': 0.0015256062109749709, 'l1_ratio': 0.0754093089886176}. Best is trial 15 with value: 0.9506146499925329.\n",
      "C:\\Users\\Natal\\anaconda3\\Lib\\site-packages\\sklearn\\preprocessing\\_encoders.py:227: UserWarning: Found unknown categories in columns [3, 10] during transform. These unknown categories will be encoded as all zeros\n",
      "  warnings.warn(\n",
      "C:\\Users\\Natal\\anaconda3\\Lib\\site-packages\\sklearn\\preprocessing\\_encoders.py:227: UserWarning: Found unknown categories in columns [3, 9, 14] during transform. These unknown categories will be encoded as all zeros\n",
      "  warnings.warn(\n",
      "C:\\Users\\Natal\\anaconda3\\Lib\\site-packages\\sklearn\\preprocessing\\_encoders.py:227: UserWarning: Found unknown categories in columns [5, 21] during transform. These unknown categories will be encoded as all zeros\n",
      "  warnings.warn(\n",
      "C:\\Users\\Natal\\anaconda3\\Lib\\site-packages\\sklearn\\preprocessing\\_encoders.py:227: UserWarning: Found unknown categories in columns [9, 21] during transform. These unknown categories will be encoded as all zeros\n",
      "  warnings.warn(\n",
      "C:\\Users\\Natal\\anaconda3\\Lib\\site-packages\\sklearn\\preprocessing\\_encoders.py:227: UserWarning: Found unknown categories in columns [0] during transform. These unknown categories will be encoded as all zeros\n",
      "  warnings.warn(\n",
      "[I 2024-07-08 09:58:22,462] Trial 26 finished with value: 0.9504703761860972 and parameters: {'scaling_method': 'robust', 'encoding_method': 'onehot', 'drop': 'first', 'algorithm': 'en', 'alpha': 0.0010038574827459451, 'l1_ratio': 0.21302491402558216}. Best is trial 15 with value: 0.9506146499925329.\n",
      "C:\\Users\\Natal\\anaconda3\\Lib\\site-packages\\sklearn\\preprocessing\\_encoders.py:227: UserWarning: Found unknown categories in columns [3, 10] during transform. These unknown categories will be encoded as all zeros\n",
      "  warnings.warn(\n",
      "C:\\Users\\Natal\\anaconda3\\Lib\\site-packages\\sklearn\\preprocessing\\_encoders.py:227: UserWarning: Found unknown categories in columns [3, 9, 14] during transform. These unknown categories will be encoded as all zeros\n",
      "  warnings.warn(\n",
      "C:\\Users\\Natal\\anaconda3\\Lib\\site-packages\\sklearn\\preprocessing\\_encoders.py:227: UserWarning: Found unknown categories in columns [5, 21] during transform. These unknown categories will be encoded as all zeros\n",
      "  warnings.warn(\n"
     ]
    },
    {
     "name": "stderr",
     "output_type": "stream",
     "text": [
      "C:\\Users\\Natal\\anaconda3\\Lib\\site-packages\\sklearn\\preprocessing\\_encoders.py:227: UserWarning: Found unknown categories in columns [9, 21] during transform. These unknown categories will be encoded as all zeros\n",
      "  warnings.warn(\n",
      "C:\\Users\\Natal\\anaconda3\\Lib\\site-packages\\sklearn\\preprocessing\\_encoders.py:227: UserWarning: Found unknown categories in columns [0] during transform. These unknown categories will be encoded as all zeros\n",
      "  warnings.warn(\n",
      "[I 2024-07-08 09:58:22,916] Trial 27 finished with value: 0.1900980953448697 and parameters: {'scaling_method': 'maxabs', 'encoding_method': 'onehot', 'drop': 'first', 'algorithm': 'en', 'alpha': 0.15243420261017115, 'l1_ratio': 0.31606174092095934}. Best is trial 15 with value: 0.9506146499925329.\n",
      "C:\\Users\\Natal\\anaconda3\\Lib\\site-packages\\sklearn\\linear_model\\_coordinate_descent.py:628: ConvergenceWarning: Objective did not converge. You might want to increase the number of iterations, check the scale of the features or consider increasing regularisation. Duality gap: 6.992e-01, tolerance: 2.383e-02\n",
      "  model = cd_fast.enet_coordinate_descent(\n",
      "C:\\Users\\Natal\\anaconda3\\Lib\\site-packages\\sklearn\\preprocessing\\_encoders.py:227: UserWarning: Found unknown categories in columns [3, 10] during transform. These unknown categories will be encoded as all zeros\n",
      "  warnings.warn(\n",
      "C:\\Users\\Natal\\anaconda3\\Lib\\site-packages\\sklearn\\linear_model\\_coordinate_descent.py:628: ConvergenceWarning: Objective did not converge. You might want to increase the number of iterations, check the scale of the features or consider increasing regularisation. Duality gap: 1.957e+00, tolerance: 2.345e-02\n",
      "  model = cd_fast.enet_coordinate_descent(\n",
      "C:\\Users\\Natal\\anaconda3\\Lib\\site-packages\\sklearn\\preprocessing\\_encoders.py:227: UserWarning: Found unknown categories in columns [3, 9, 14] during transform. These unknown categories will be encoded as all zeros\n",
      "  warnings.warn(\n",
      "C:\\Users\\Natal\\anaconda3\\Lib\\site-packages\\sklearn\\linear_model\\_coordinate_descent.py:628: ConvergenceWarning: Objective did not converge. You might want to increase the number of iterations, check the scale of the features or consider increasing regularisation. Duality gap: 6.984e-02, tolerance: 2.415e-02\n",
      "  model = cd_fast.enet_coordinate_descent(\n",
      "C:\\Users\\Natal\\anaconda3\\Lib\\site-packages\\sklearn\\preprocessing\\_encoders.py:227: UserWarning: Found unknown categories in columns [5, 21] during transform. These unknown categories will be encoded as all zeros\n",
      "  warnings.warn(\n",
      "C:\\Users\\Natal\\anaconda3\\Lib\\site-packages\\sklearn\\linear_model\\_coordinate_descent.py:628: ConvergenceWarning: Objective did not converge. You might want to increase the number of iterations, check the scale of the features or consider increasing regularisation. Duality gap: 7.889e-01, tolerance: 2.409e-02\n",
      "  model = cd_fast.enet_coordinate_descent(\n",
      "C:\\Users\\Natal\\anaconda3\\Lib\\site-packages\\sklearn\\preprocessing\\_encoders.py:227: UserWarning: Found unknown categories in columns [9, 21] during transform. These unknown categories will be encoded as all zeros\n",
      "  warnings.warn(\n",
      "C:\\Users\\Natal\\anaconda3\\Lib\\site-packages\\sklearn\\linear_model\\_coordinate_descent.py:628: ConvergenceWarning: Objective did not converge. You might want to increase the number of iterations, check the scale of the features or consider increasing regularisation. Duality gap: 1.756e-01, tolerance: 2.445e-02\n",
      "  model = cd_fast.enet_coordinate_descent(\n",
      "C:\\Users\\Natal\\anaconda3\\Lib\\site-packages\\sklearn\\preprocessing\\_encoders.py:227: UserWarning: Found unknown categories in columns [0] during transform. These unknown categories will be encoded as all zeros\n",
      "  warnings.warn(\n",
      "[I 2024-07-08 09:58:25,815] Trial 28 finished with value: 0.9489120573469423 and parameters: {'scaling_method': 'robust', 'encoding_method': 'onehot', 'drop': 'first', 'algorithm': 'en', 'alpha': 0.0008608564486929174, 'l1_ratio': 0.02884428444223919}. Best is trial 15 with value: 0.9506146499925329.\n",
      "C:\\Users\\Natal\\anaconda3\\Lib\\site-packages\\sklearn\\preprocessing\\_encoders.py:227: UserWarning: Found unknown categories in columns [3, 10] during transform. These unknown categories will be encoded as all zeros\n",
      "  warnings.warn(\n",
      "C:\\Users\\Natal\\anaconda3\\Lib\\site-packages\\sklearn\\preprocessing\\_encoders.py:227: UserWarning: Found unknown categories in columns [3, 9, 14] during transform. These unknown categories will be encoded as all zeros\n",
      "  warnings.warn(\n",
      "C:\\Users\\Natal\\anaconda3\\Lib\\site-packages\\sklearn\\preprocessing\\_encoders.py:227: UserWarning: Found unknown categories in columns [5, 21] during transform. These unknown categories will be encoded as all zeros\n",
      "  warnings.warn(\n",
      "C:\\Users\\Natal\\anaconda3\\Lib\\site-packages\\sklearn\\preprocessing\\_encoders.py:227: UserWarning: Found unknown categories in columns [9, 21] during transform. These unknown categories will be encoded as all zeros\n",
      "  warnings.warn(\n",
      "C:\\Users\\Natal\\anaconda3\\Lib\\site-packages\\sklearn\\preprocessing\\_encoders.py:227: UserWarning: Found unknown categories in columns [0] during transform. These unknown categories will be encoded as all zeros\n",
      "  warnings.warn(\n",
      "[I 2024-07-08 09:58:26,359] Trial 29 finished with value: -0.029441307066881618 and parameters: {'scaling_method': 'robust', 'encoding_method': 'onehot', 'drop': 'first', 'algorithm': 'lasso', 'alpha': 7.97405293443956}. Best is trial 15 with value: 0.9506146499925329.\n",
      "C:\\Users\\Natal\\anaconda3\\Lib\\site-packages\\sklearn\\preprocessing\\_encoders.py:227: UserWarning: Found unknown categories in columns [3, 10] during transform. These unknown categories will be encoded as all zeros\n",
      "  warnings.warn(\n",
      "C:\\Users\\Natal\\anaconda3\\Lib\\site-packages\\sklearn\\preprocessing\\_encoders.py:227: UserWarning: Found unknown categories in columns [3, 9, 14] during transform. These unknown categories will be encoded as all zeros\n",
      "  warnings.warn(\n",
      "C:\\Users\\Natal\\anaconda3\\Lib\\site-packages\\sklearn\\preprocessing\\_encoders.py:227: UserWarning: Found unknown categories in columns [5, 21] during transform. These unknown categories will be encoded as all zeros\n",
      "  warnings.warn(\n",
      "C:\\Users\\Natal\\anaconda3\\Lib\\site-packages\\sklearn\\preprocessing\\_encoders.py:227: UserWarning: Found unknown categories in columns [9, 21] during transform. These unknown categories will be encoded as all zeros\n",
      "  warnings.warn(\n",
      "C:\\Users\\Natal\\anaconda3\\Lib\\site-packages\\sklearn\\preprocessing\\_encoders.py:227: UserWarning: Found unknown categories in columns [0] during transform. These unknown categories will be encoded as all zeros\n",
      "  warnings.warn(\n",
      "[I 2024-07-08 10:00:27,324] Trial 30 finished with value: 0.8695777639423012 and parameters: {'scaling_method': 'robust', 'encoding_method': 'onehot', 'drop': 'first', 'algorithm': 'gbr', 'n_estimators': 810, 'learning_rate': 0.002502319349347742, 'max_depth': 4, 'subsample': 0.5086742020838684, 'min_sample_split': 7, 'min_sample_leaf': 6}. Best is trial 15 with value: 0.9506146499925329.\n",
      "C:\\Users\\Natal\\anaconda3\\Lib\\site-packages\\sklearn\\linear_model\\_coordinate_descent.py:628: ConvergenceWarning: Objective did not converge. You might want to increase the number of iterations, check the scale of the features or consider increasing regularisation. Duality gap: 3.838e-01, tolerance: 2.383e-02\n",
      "  model = cd_fast.enet_coordinate_descent(\n",
      "C:\\Users\\Natal\\anaconda3\\Lib\\site-packages\\sklearn\\preprocessing\\_encoders.py:227: UserWarning: Found unknown categories in columns [3, 10] during transform. These unknown categories will be encoded as all zeros\n",
      "  warnings.warn(\n",
      "C:\\Users\\Natal\\anaconda3\\Lib\\site-packages\\sklearn\\linear_model\\_coordinate_descent.py:628: ConvergenceWarning: Objective did not converge. You might want to increase the number of iterations, check the scale of the features or consider increasing regularisation. Duality gap: 7.714e-01, tolerance: 2.345e-02\n",
      "  model = cd_fast.enet_coordinate_descent(\n",
      "C:\\Users\\Natal\\anaconda3\\Lib\\site-packages\\sklearn\\preprocessing\\_encoders.py:227: UserWarning: Found unknown categories in columns [3, 9, 14] during transform. These unknown categories will be encoded as all zeros\n",
      "  warnings.warn(\n",
      "C:\\Users\\Natal\\anaconda3\\Lib\\site-packages\\sklearn\\linear_model\\_coordinate_descent.py:628: ConvergenceWarning: Objective did not converge. You might want to increase the number of iterations, check the scale of the features or consider increasing regularisation. Duality gap: 5.387e-01, tolerance: 2.415e-02\n",
      "  model = cd_fast.enet_coordinate_descent(\n",
      "C:\\Users\\Natal\\anaconda3\\Lib\\site-packages\\sklearn\\preprocessing\\_encoders.py:227: UserWarning: Found unknown categories in columns [5, 21] during transform. These unknown categories will be encoded as all zeros\n",
      "  warnings.warn(\n"
     ]
    },
    {
     "name": "stderr",
     "output_type": "stream",
     "text": [
      "C:\\Users\\Natal\\anaconda3\\Lib\\site-packages\\sklearn\\linear_model\\_coordinate_descent.py:628: ConvergenceWarning: Objective did not converge. You might want to increase the number of iterations, check the scale of the features or consider increasing regularisation. Duality gap: 1.637e-01, tolerance: 2.409e-02\n",
      "  model = cd_fast.enet_coordinate_descent(\n",
      "C:\\Users\\Natal\\anaconda3\\Lib\\site-packages\\sklearn\\preprocessing\\_encoders.py:227: UserWarning: Found unknown categories in columns [9, 21] during transform. These unknown categories will be encoded as all zeros\n",
      "  warnings.warn(\n",
      "C:\\Users\\Natal\\anaconda3\\Lib\\site-packages\\sklearn\\linear_model\\_coordinate_descent.py:628: ConvergenceWarning: Objective did not converge. You might want to increase the number of iterations, check the scale of the features or consider increasing regularisation. Duality gap: 2.676e-01, tolerance: 2.445e-02\n",
      "  model = cd_fast.enet_coordinate_descent(\n",
      "C:\\Users\\Natal\\anaconda3\\Lib\\site-packages\\sklearn\\preprocessing\\_encoders.py:227: UserWarning: Found unknown categories in columns [0] during transform. These unknown categories will be encoded as all zeros\n",
      "  warnings.warn(\n",
      "[I 2024-07-08 10:00:30,764] Trial 31 finished with value: 0.9498560012919262 and parameters: {'scaling_method': 'robust', 'encoding_method': 'onehot', 'drop': 'first', 'algorithm': 'en', 'alpha': 0.0008420495381024598, 'l1_ratio': 0.08792956359810299}. Best is trial 15 with value: 0.9506146499925329.\n",
      "C:\\Users\\Natal\\anaconda3\\Lib\\site-packages\\sklearn\\preprocessing\\_encoders.py:227: UserWarning: Found unknown categories in columns [3, 10] during transform. These unknown categories will be encoded as all zeros\n",
      "  warnings.warn(\n",
      "C:\\Users\\Natal\\anaconda3\\Lib\\site-packages\\sklearn\\preprocessing\\_encoders.py:227: UserWarning: Found unknown categories in columns [3, 9, 14] during transform. These unknown categories will be encoded as all zeros\n",
      "  warnings.warn(\n",
      "C:\\Users\\Natal\\anaconda3\\Lib\\site-packages\\sklearn\\preprocessing\\_encoders.py:227: UserWarning: Found unknown categories in columns [5, 21] during transform. These unknown categories will be encoded as all zeros\n",
      "  warnings.warn(\n",
      "C:\\Users\\Natal\\anaconda3\\Lib\\site-packages\\sklearn\\preprocessing\\_encoders.py:227: UserWarning: Found unknown categories in columns [9, 21] during transform. These unknown categories will be encoded as all zeros\n",
      "  warnings.warn(\n",
      "C:\\Users\\Natal\\anaconda3\\Lib\\site-packages\\sklearn\\preprocessing\\_encoders.py:227: UserWarning: Found unknown categories in columns [0] during transform. These unknown categories will be encoded as all zeros\n",
      "  warnings.warn(\n",
      "[I 2024-07-08 10:03:59,158] Trial 32 finished with value: 0.8882791010176795 and parameters: {'scaling_method': 'robust', 'encoding_method': 'onehot', 'drop': 'first', 'algorithm': 'rf', 'bootstrap': True, 'n_estimators': 577, 'max_depth': 92, 'min_sample_split': 10, 'min_sample_leaf': 10}. Best is trial 15 with value: 0.9506146499925329.\n",
      "C:\\Users\\Natal\\anaconda3\\Lib\\site-packages\\sklearn\\preprocessing\\_encoders.py:227: UserWarning: Found unknown categories in columns [3, 10] during transform. These unknown categories will be encoded as all zeros\n",
      "  warnings.warn(\n",
      "C:\\Users\\Natal\\anaconda3\\Lib\\site-packages\\sklearn\\preprocessing\\_encoders.py:227: UserWarning: Found unknown categories in columns [3, 9, 14] during transform. These unknown categories will be encoded as all zeros\n",
      "  warnings.warn(\n",
      "C:\\Users\\Natal\\anaconda3\\Lib\\site-packages\\sklearn\\preprocessing\\_encoders.py:227: UserWarning: Found unknown categories in columns [5, 21] during transform. These unknown categories will be encoded as all zeros\n",
      "  warnings.warn(\n",
      "C:\\Users\\Natal\\anaconda3\\Lib\\site-packages\\sklearn\\preprocessing\\_encoders.py:227: UserWarning: Found unknown categories in columns [9, 21] during transform. These unknown categories will be encoded as all zeros\n",
      "  warnings.warn(\n",
      "C:\\Users\\Natal\\anaconda3\\Lib\\site-packages\\sklearn\\preprocessing\\_encoders.py:227: UserWarning: Found unknown categories in columns [0] during transform. These unknown categories will be encoded as all zeros\n",
      "  warnings.warn(\n",
      "[I 2024-07-08 10:03:59,667] Trial 33 finished with value: 0.7368214868842125 and parameters: {'scaling_method': 'maxabs', 'encoding_method': 'onehot', 'drop': 'first', 'algorithm': 'en', 'alpha': 0.05566575548888979, 'l1_ratio': 0.11820072246312327}. Best is trial 15 with value: 0.9506146499925329.\n",
      "C:\\Users\\Natal\\anaconda3\\Lib\\site-packages\\sklearn\\preprocessing\\_encoders.py:227: UserWarning: Found unknown categories in columns [3, 10] during transform. These unknown categories will be encoded as all zeros\n",
      "  warnings.warn(\n",
      "C:\\Users\\Natal\\anaconda3\\Lib\\site-packages\\sklearn\\preprocessing\\_encoders.py:227: UserWarning: Found unknown categories in columns [3, 9, 14] during transform. These unknown categories will be encoded as all zeros\n",
      "  warnings.warn(\n",
      "C:\\Users\\Natal\\anaconda3\\Lib\\site-packages\\sklearn\\preprocessing\\_encoders.py:227: UserWarning: Found unknown categories in columns [5, 21] during transform. These unknown categories will be encoded as all zeros\n",
      "  warnings.warn(\n",
      "C:\\Users\\Natal\\anaconda3\\Lib\\site-packages\\sklearn\\preprocessing\\_encoders.py:227: UserWarning: Found unknown categories in columns [9, 21] during transform. These unknown categories will be encoded as all zeros\n",
      "  warnings.warn(\n",
      "C:\\Users\\Natal\\anaconda3\\Lib\\site-packages\\sklearn\\preprocessing\\_encoders.py:227: UserWarning: Found unknown categories in columns [0] during transform. These unknown categories will be encoded as all zeros\n",
      "  warnings.warn(\n",
      "[I 2024-07-08 10:05:27,184] Trial 34 finished with value: 0.8738175132754747 and parameters: {'scaling_method': 'robust', 'encoding_method': 'onehot', 'drop': 'first', 'algorithm': 'ada', 'learning_rate': 0.7677788768573152, 'loss': 'square', 'n_estimators': 745}. Best is trial 15 with value: 0.9506146499925329.\n",
      "C:\\Users\\Natal\\anaconda3\\Lib\\site-packages\\sklearn\\preprocessing\\_encoders.py:227: UserWarning: Found unknown categories in columns [3, 10] during transform. These unknown categories will be encoded as all zeros\n",
      "  warnings.warn(\n",
      "C:\\Users\\Natal\\anaconda3\\Lib\\site-packages\\sklearn\\preprocessing\\_encoders.py:227: UserWarning: Found unknown categories in columns [3, 9, 14] during transform. These unknown categories will be encoded as all zeros\n",
      "  warnings.warn(\n",
      "C:\\Users\\Natal\\anaconda3\\Lib\\site-packages\\sklearn\\preprocessing\\_encoders.py:227: UserWarning: Found unknown categories in columns [5, 21] during transform. These unknown categories will be encoded as all zeros\n",
      "  warnings.warn(\n",
      "C:\\Users\\Natal\\anaconda3\\Lib\\site-packages\\sklearn\\preprocessing\\_encoders.py:227: UserWarning: Found unknown categories in columns [9, 21] during transform. These unknown categories will be encoded as all zeros\n",
      "  warnings.warn(\n",
      "C:\\Users\\Natal\\anaconda3\\Lib\\site-packages\\sklearn\\preprocessing\\_encoders.py:227: UserWarning: Found unknown categories in columns [0] during transform. These unknown categories will be encoded as all zeros\n",
      "  warnings.warn(\n",
      "[I 2024-07-08 10:05:39,675] Trial 35 finished with value: 0.8260266607408215 and parameters: {'scaling_method': 'robust', 'encoding_method': 'onehot', 'drop': 'first', 'algorithm': 'rf', 'bootstrap': False, 'n_estimators': 14, 'max_depth': 37, 'min_sample_split': 5, 'min_sample_leaf': 1}. Best is trial 15 with value: 0.9506146499925329.\n",
      "[I 2024-07-08 10:05:40,081] Trial 36 finished with value: 0.9383079459302032 and parameters: {'scaling_method': 'maxabs', 'encoding_method': 'ordinal', 'algorithm': 'en', 'alpha': 0.0008470099235999984, 'l1_ratio': 0.021059157881047296}. Best is trial 15 with value: 0.9506146499925329.\n",
      "C:\\Users\\Natal\\anaconda3\\Lib\\site-packages\\sklearn\\preprocessing\\_encoders.py:227: UserWarning: Found unknown categories in columns [3, 10] during transform. These unknown categories will be encoded as all zeros\n",
      "  warnings.warn(\n",
      "C:\\Users\\Natal\\anaconda3\\Lib\\site-packages\\sklearn\\preprocessing\\_encoders.py:227: UserWarning: Found unknown categories in columns [3, 9, 14] during transform. These unknown categories will be encoded as all zeros\n",
      "  warnings.warn(\n",
      "C:\\Users\\Natal\\anaconda3\\Lib\\site-packages\\sklearn\\preprocessing\\_encoders.py:227: UserWarning: Found unknown categories in columns [5, 21] during transform. These unknown categories will be encoded as all zeros\n",
      "  warnings.warn(\n"
     ]
    },
    {
     "name": "stderr",
     "output_type": "stream",
     "text": [
      "C:\\Users\\Natal\\anaconda3\\Lib\\site-packages\\sklearn\\preprocessing\\_encoders.py:227: UserWarning: Found unknown categories in columns [9, 21] during transform. These unknown categories will be encoded as all zeros\n",
      "  warnings.warn(\n",
      "C:\\Users\\Natal\\anaconda3\\Lib\\site-packages\\sklearn\\preprocessing\\_encoders.py:227: UserWarning: Found unknown categories in columns [0] during transform. These unknown categories will be encoded as all zeros\n",
      "  warnings.warn(\n",
      "[I 2024-07-08 10:06:44,164] Trial 37 finished with value: 0.745408937325795 and parameters: {'scaling_method': 'standard', 'encoding_method': 'onehot', 'drop': 'first', 'algorithm': 'ada', 'learning_rate': 0.0005601672835746196, 'loss': 'square', 'n_estimators': 405}. Best is trial 15 with value: 0.9506146499925329.\n",
      "[I 2024-07-08 10:06:44,614] Trial 38 finished with value: 0.941864120697199 and parameters: {'scaling_method': 'robust', 'encoding_method': 'ordinal', 'algorithm': 'lasso', 'alpha': 0.0005793817977169322}. Best is trial 15 with value: 0.9506146499925329.\n",
      "C:\\Users\\Natal\\anaconda3\\Lib\\site-packages\\sklearn\\preprocessing\\_encoders.py:227: UserWarning: Found unknown categories in columns [3, 10] during transform. These unknown categories will be encoded as all zeros\n",
      "  warnings.warn(\n",
      "C:\\Users\\Natal\\anaconda3\\Lib\\site-packages\\sklearn\\preprocessing\\_encoders.py:227: UserWarning: Found unknown categories in columns [3, 9, 14] during transform. These unknown categories will be encoded as all zeros\n",
      "  warnings.warn(\n",
      "C:\\Users\\Natal\\anaconda3\\Lib\\site-packages\\sklearn\\preprocessing\\_encoders.py:227: UserWarning: Found unknown categories in columns [5, 21] during transform. These unknown categories will be encoded as all zeros\n",
      "  warnings.warn(\n",
      "C:\\Users\\Natal\\anaconda3\\Lib\\site-packages\\sklearn\\preprocessing\\_encoders.py:227: UserWarning: Found unknown categories in columns [9, 21] during transform. These unknown categories will be encoded as all zeros\n",
      "  warnings.warn(\n",
      "C:\\Users\\Natal\\anaconda3\\Lib\\site-packages\\sklearn\\preprocessing\\_encoders.py:227: UserWarning: Found unknown categories in columns [0] during transform. These unknown categories will be encoded as all zeros\n",
      "  warnings.warn(\n",
      "[I 2024-07-08 10:06:45,157] Trial 39 finished with value: 0.9411548656561404 and parameters: {'scaling_method': 'robust', 'encoding_method': 'onehot', 'drop': 'first', 'algorithm': 'en', 'alpha': 0.006359993639482432, 'l1_ratio': 0.6251098987933636}. Best is trial 15 with value: 0.9506146499925329.\n",
      "[I 2024-07-08 10:06:45,495] Trial 40 finished with value: 0.9407217253975555 and parameters: {'scaling_method': 'standard', 'encoding_method': 'ordinal', 'algorithm': 'en', 'alpha': 0.02737810901015294, 'l1_ratio': 0.15851119534205688}. Best is trial 15 with value: 0.9506146499925329.\n",
      "[I 2024-07-08 10:06:47,367] Trial 41 finished with value: 0.9496120297199757 and parameters: {'scaling_method': 'robust', 'encoding_method': 'onehot', 'drop': None, 'algorithm': 'en', 'alpha': 0.0045128425873121976, 'l1_ratio': 0.0005494472544311735}. Best is trial 15 with value: 0.9506146499925329.\n",
      "[I 2024-07-08 10:07:03,371] Trial 42 finished with value: 0.9453494419229346 and parameters: {'scaling_method': 'robust', 'encoding_method': 'onehot', 'drop': None, 'algorithm': 'xgb', 'n_estimators': 717, 'learning_rate': 0.03126580037888188, 'max_depth': 6, 'subsample': 0.6557350467436853, 'colsample_bytree': 0.5152264689828334, 'min_child_weight': 20}. Best is trial 15 with value: 0.9506146499925329.\n",
      "[I 2024-07-08 10:07:05,790] Trial 43 finished with value: 0.9492701054227599 and parameters: {'scaling_method': 'robust', 'encoding_method': 'onehot', 'drop': None, 'algorithm': 'en', 'alpha': 0.0023642932360382228, 'l1_ratio': 0.006099948859058689}. Best is trial 15 with value: 0.9506146499925329.\n",
      "C:\\Users\\Natal\\anaconda3\\Lib\\site-packages\\sklearn\\linear_model\\_coordinate_descent.py:628: ConvergenceWarning: Objective did not converge. You might want to increase the number of iterations, check the scale of the features or consider increasing regularisation. Duality gap: 3.902e+00, tolerance: 2.383e-02\n",
      "  model = cd_fast.enet_coordinate_descent(\n",
      "C:\\Users\\Natal\\anaconda3\\Lib\\site-packages\\sklearn\\linear_model\\_coordinate_descent.py:628: ConvergenceWarning: Objective did not converge. You might want to increase the number of iterations, check the scale of the features or consider increasing regularisation. Duality gap: 4.732e+00, tolerance: 2.345e-02\n",
      "  model = cd_fast.enet_coordinate_descent(\n",
      "C:\\Users\\Natal\\anaconda3\\Lib\\site-packages\\sklearn\\linear_model\\_coordinate_descent.py:628: ConvergenceWarning: Objective did not converge. You might want to increase the number of iterations, check the scale of the features or consider increasing regularisation. Duality gap: 4.152e+00, tolerance: 2.415e-02\n",
      "  model = cd_fast.enet_coordinate_descent(\n",
      "C:\\Users\\Natal\\anaconda3\\Lib\\site-packages\\sklearn\\linear_model\\_coordinate_descent.py:628: ConvergenceWarning: Objective did not converge. You might want to increase the number of iterations, check the scale of the features or consider increasing regularisation. Duality gap: 3.187e+00, tolerance: 2.409e-02\n",
      "  model = cd_fast.enet_coordinate_descent(\n",
      "C:\\Users\\Natal\\anaconda3\\Lib\\site-packages\\sklearn\\linear_model\\_coordinate_descent.py:628: ConvergenceWarning: Objective did not converge. You might want to increase the number of iterations, check the scale of the features or consider increasing regularisation. Duality gap: 3.838e+00, tolerance: 2.445e-02\n",
      "  model = cd_fast.enet_coordinate_descent(\n",
      "[I 2024-07-08 10:07:08,902] Trial 44 finished with value: 0.9480340988957616 and parameters: {'scaling_method': 'robust', 'encoding_method': 'onehot', 'drop': None, 'algorithm': 'en', 'alpha': 0.00035418219965819745, 'l1_ratio': 0.05351026632533589}. Best is trial 15 with value: 0.9506146499925329.\n",
      "C:\\Users\\Natal\\anaconda3\\Lib\\site-packages\\sklearn\\preprocessing\\_encoders.py:227: UserWarning: Found unknown categories in columns [3, 10] during transform. These unknown categories will be encoded as all zeros\n",
      "  warnings.warn(\n",
      "C:\\Users\\Natal\\anaconda3\\Lib\\site-packages\\sklearn\\preprocessing\\_encoders.py:227: UserWarning: Found unknown categories in columns [3, 9, 14] during transform. These unknown categories will be encoded as all zeros\n",
      "  warnings.warn(\n",
      "C:\\Users\\Natal\\anaconda3\\Lib\\site-packages\\sklearn\\preprocessing\\_encoders.py:227: UserWarning: Found unknown categories in columns [5, 21] during transform. These unknown categories will be encoded as all zeros\n",
      "  warnings.warn(\n",
      "C:\\Users\\Natal\\anaconda3\\Lib\\site-packages\\sklearn\\preprocessing\\_encoders.py:227: UserWarning: Found unknown categories in columns [9, 21] during transform. These unknown categories will be encoded as all zeros\n",
      "  warnings.warn(\n",
      "C:\\Users\\Natal\\anaconda3\\Lib\\site-packages\\sklearn\\preprocessing\\_encoders.py:227: UserWarning: Found unknown categories in columns [0] during transform. These unknown categories will be encoded as all zeros\n",
      "  warnings.warn(\n",
      "[I 2024-07-08 10:16:18,991] Trial 45 finished with value: 0.829813063005301 and parameters: {'scaling_method': 'robust', 'encoding_method': 'onehot', 'drop': 'first', 'algorithm': 'rf', 'bootstrap': False, 'n_estimators': 895, 'max_depth': 94, 'min_sample_split': 5, 'min_sample_leaf': 4}. Best is trial 15 with value: 0.9506146499925329.\n",
      "[I 2024-07-08 10:16:19,513] Trial 46 finished with value: 0.8390386539783339 and parameters: {'scaling_method': 'maxabs', 'encoding_method': 'onehot', 'drop': None, 'algorithm': 'en', 'alpha': 0.06136425793647579, 'l1_ratio': 1.6148019373240607e-05}. Best is trial 15 with value: 0.9506146499925329.\n",
      "[I 2024-07-08 10:16:33,098] Trial 47 finished with value: 0.9438393295738219 and parameters: {'scaling_method': 'standard', 'encoding_method': 'ordinal', 'algorithm': 'xgb', 'n_estimators': 464, 'learning_rate': 0.12965422936539858, 'max_depth': 7, 'subsample': 0.7120741631505831, 'colsample_bytree': 0.9909148335740652, 'min_child_weight': 10}. Best is trial 15 with value: 0.9506146499925329.\n",
      "[I 2024-07-08 10:18:21,196] Trial 48 finished with value: 0.745382293303729 and parameters: {'scaling_method': 'robust', 'encoding_method': 'onehot', 'drop': None, 'algorithm': 'ada', 'learning_rate': 0.00010982300862210091, 'loss': 'exponential', 'n_estimators': 654}. Best is trial 15 with value: 0.9506146499925329.\n"
     ]
    },
    {
     "name": "stderr",
     "output_type": "stream",
     "text": [
      "C:\\Users\\Natal\\anaconda3\\Lib\\site-packages\\sklearn\\preprocessing\\_encoders.py:227: UserWarning: Found unknown categories in columns [3, 10] during transform. These unknown categories will be encoded as all zeros\n",
      "  warnings.warn(\n",
      "C:\\Users\\Natal\\anaconda3\\Lib\\site-packages\\sklearn\\preprocessing\\_encoders.py:227: UserWarning: Found unknown categories in columns [3, 9, 14] during transform. These unknown categories will be encoded as all zeros\n",
      "  warnings.warn(\n",
      "C:\\Users\\Natal\\anaconda3\\Lib\\site-packages\\sklearn\\preprocessing\\_encoders.py:227: UserWarning: Found unknown categories in columns [5, 21] during transform. These unknown categories will be encoded as all zeros\n",
      "  warnings.warn(\n",
      "C:\\Users\\Natal\\anaconda3\\Lib\\site-packages\\sklearn\\preprocessing\\_encoders.py:227: UserWarning: Found unknown categories in columns [9, 21] during transform. These unknown categories will be encoded as all zeros\n",
      "  warnings.warn(\n",
      "C:\\Users\\Natal\\anaconda3\\Lib\\site-packages\\sklearn\\preprocessing\\_encoders.py:227: UserWarning: Found unknown categories in columns [0] during transform. These unknown categories will be encoded as all zeros\n",
      "  warnings.warn(\n",
      "[I 2024-07-08 10:20:08,642] Trial 49 finished with value: 0.9118215291243491 and parameters: {'scaling_method': 'robust', 'encoding_method': 'onehot', 'drop': 'first', 'algorithm': 'gbr', 'n_estimators': 832, 'learning_rate': 0.0044836116972927385, 'max_depth': 3, 'subsample': 0.8138941342231104, 'min_sample_split': 9, 'min_sample_leaf': 7}. Best is trial 15 with value: 0.9506146499925329.\n",
      "[I 2024-07-08 10:20:09,193] Trial 50 finished with value: 0.9458266337548127 and parameters: {'scaling_method': 'robust', 'encoding_method': 'onehot', 'drop': None, 'algorithm': 'ridge', 'alpha': 0.004772481935016255}. Best is trial 15 with value: 0.9506146499925329.\n",
      "C:\\Users\\Natal\\anaconda3\\Lib\\site-packages\\sklearn\\linear_model\\_coordinate_descent.py:628: ConvergenceWarning: Objective did not converge. You might want to increase the number of iterations, check the scale of the features or consider increasing regularisation. Duality gap: 5.271e-01, tolerance: 2.383e-02\n",
      "  model = cd_fast.enet_coordinate_descent(\n",
      "C:\\Users\\Natal\\anaconda3\\Lib\\site-packages\\sklearn\\preprocessing\\_encoders.py:227: UserWarning: Found unknown categories in columns [3, 10] during transform. These unknown categories will be encoded as all zeros\n",
      "  warnings.warn(\n",
      "C:\\Users\\Natal\\anaconda3\\Lib\\site-packages\\sklearn\\linear_model\\_coordinate_descent.py:628: ConvergenceWarning: Objective did not converge. You might want to increase the number of iterations, check the scale of the features or consider increasing regularisation. Duality gap: 1.070e+00, tolerance: 2.345e-02\n",
      "  model = cd_fast.enet_coordinate_descent(\n",
      "C:\\Users\\Natal\\anaconda3\\Lib\\site-packages\\sklearn\\preprocessing\\_encoders.py:227: UserWarning: Found unknown categories in columns [3, 9, 14] during transform. These unknown categories will be encoded as all zeros\n",
      "  warnings.warn(\n",
      "C:\\Users\\Natal\\anaconda3\\Lib\\site-packages\\sklearn\\linear_model\\_coordinate_descent.py:628: ConvergenceWarning: Objective did not converge. You might want to increase the number of iterations, check the scale of the features or consider increasing regularisation. Duality gap: 2.978e-01, tolerance: 2.415e-02\n",
      "  model = cd_fast.enet_coordinate_descent(\n",
      "C:\\Users\\Natal\\anaconda3\\Lib\\site-packages\\sklearn\\preprocessing\\_encoders.py:227: UserWarning: Found unknown categories in columns [5, 21] during transform. These unknown categories will be encoded as all zeros\n",
      "  warnings.warn(\n",
      "C:\\Users\\Natal\\anaconda3\\Lib\\site-packages\\sklearn\\linear_model\\_coordinate_descent.py:628: ConvergenceWarning: Objective did not converge. You might want to increase the number of iterations, check the scale of the features or consider increasing regularisation. Duality gap: 2.105e-01, tolerance: 2.409e-02\n",
      "  model = cd_fast.enet_coordinate_descent(\n",
      "C:\\Users\\Natal\\anaconda3\\Lib\\site-packages\\sklearn\\preprocessing\\_encoders.py:227: UserWarning: Found unknown categories in columns [9, 21] during transform. These unknown categories will be encoded as all zeros\n",
      "  warnings.warn(\n",
      "C:\\Users\\Natal\\anaconda3\\Lib\\site-packages\\sklearn\\linear_model\\_coordinate_descent.py:628: ConvergenceWarning: Objective did not converge. You might want to increase the number of iterations, check the scale of the features or consider increasing regularisation. Duality gap: 3.810e-01, tolerance: 2.445e-02\n",
      "  model = cd_fast.enet_coordinate_descent(\n",
      "C:\\Users\\Natal\\anaconda3\\Lib\\site-packages\\sklearn\\preprocessing\\_encoders.py:227: UserWarning: Found unknown categories in columns [0] during transform. These unknown categories will be encoded as all zeros\n",
      "  warnings.warn(\n",
      "[I 2024-07-08 10:20:11,865] Trial 51 finished with value: 0.9495981699591987 and parameters: {'scaling_method': 'robust', 'encoding_method': 'onehot', 'drop': 'first', 'algorithm': 'en', 'alpha': 0.0010342598724227769, 'l1_ratio': 0.05088903824018064}. Best is trial 15 with value: 0.9506146499925329.\n",
      "C:\\Users\\Natal\\anaconda3\\Lib\\site-packages\\sklearn\\preprocessing\\_encoders.py:227: UserWarning: Found unknown categories in columns [3, 10] during transform. These unknown categories will be encoded as all zeros\n",
      "  warnings.warn(\n",
      "C:\\Users\\Natal\\anaconda3\\Lib\\site-packages\\sklearn\\preprocessing\\_encoders.py:227: UserWarning: Found unknown categories in columns [3, 9, 14] during transform. These unknown categories will be encoded as all zeros\n",
      "  warnings.warn(\n",
      "C:\\Users\\Natal\\anaconda3\\Lib\\site-packages\\sklearn\\preprocessing\\_encoders.py:227: UserWarning: Found unknown categories in columns [5, 21] during transform. These unknown categories will be encoded as all zeros\n",
      "  warnings.warn(\n",
      "C:\\Users\\Natal\\anaconda3\\Lib\\site-packages\\sklearn\\preprocessing\\_encoders.py:227: UserWarning: Found unknown categories in columns [9, 21] during transform. These unknown categories will be encoded as all zeros\n",
      "  warnings.warn(\n",
      "C:\\Users\\Natal\\anaconda3\\Lib\\site-packages\\sklearn\\preprocessing\\_encoders.py:227: UserWarning: Found unknown categories in columns [0] during transform. These unknown categories will be encoded as all zeros\n",
      "  warnings.warn(\n",
      "[I 2024-07-08 10:20:12,584] Trial 52 finished with value: 0.9505249733105627 and parameters: {'scaling_method': 'robust', 'encoding_method': 'onehot', 'drop': 'first', 'algorithm': 'en', 'alpha': 0.0015753158750906877, 'l1_ratio': 0.2398013244205824}. Best is trial 15 with value: 0.9506146499925329.\n",
      "C:\\Users\\Natal\\anaconda3\\Lib\\site-packages\\sklearn\\preprocessing\\_encoders.py:227: UserWarning: Found unknown categories in columns [3, 10] during transform. These unknown categories will be encoded as all zeros\n",
      "  warnings.warn(\n",
      "C:\\Users\\Natal\\anaconda3\\Lib\\site-packages\\sklearn\\preprocessing\\_encoders.py:227: UserWarning: Found unknown categories in columns [3, 9, 14] during transform. These unknown categories will be encoded as all zeros\n",
      "  warnings.warn(\n",
      "C:\\Users\\Natal\\anaconda3\\Lib\\site-packages\\sklearn\\preprocessing\\_encoders.py:227: UserWarning: Found unknown categories in columns [5, 21] during transform. These unknown categories will be encoded as all zeros\n",
      "  warnings.warn(\n",
      "C:\\Users\\Natal\\anaconda3\\Lib\\site-packages\\sklearn\\preprocessing\\_encoders.py:227: UserWarning: Found unknown categories in columns [9, 21] during transform. These unknown categories will be encoded as all zeros\n",
      "  warnings.warn(\n",
      "C:\\Users\\Natal\\anaconda3\\Lib\\site-packages\\sklearn\\preprocessing\\_encoders.py:227: UserWarning: Found unknown categories in columns [0] during transform. These unknown categories will be encoded as all zeros\n",
      "  warnings.warn(\n",
      "[I 2024-07-08 10:20:13,153] Trial 53 finished with value: 0.9426246540890681 and parameters: {'scaling_method': 'robust', 'encoding_method': 'onehot', 'drop': 'first', 'algorithm': 'en', 'alpha': 0.00824056148701565, 'l1_ratio': 0.30270536956781763}. Best is trial 15 with value: 0.9506146499925329.\n",
      "C:\\Users\\Natal\\anaconda3\\Lib\\site-packages\\sklearn\\preprocessing\\_encoders.py:227: UserWarning: Found unknown categories in columns [3, 10] during transform. These unknown categories will be encoded as all zeros\n",
      "  warnings.warn(\n",
      "C:\\Users\\Natal\\anaconda3\\Lib\\site-packages\\sklearn\\preprocessing\\_encoders.py:227: UserWarning: Found unknown categories in columns [3, 9, 14] during transform. These unknown categories will be encoded as all zeros\n",
      "  warnings.warn(\n",
      "C:\\Users\\Natal\\anaconda3\\Lib\\site-packages\\sklearn\\preprocessing\\_encoders.py:227: UserWarning: Found unknown categories in columns [5, 21] during transform. These unknown categories will be encoded as all zeros\n",
      "  warnings.warn(\n"
     ]
    },
    {
     "name": "stderr",
     "output_type": "stream",
     "text": [
      "C:\\Users\\Natal\\anaconda3\\Lib\\site-packages\\sklearn\\preprocessing\\_encoders.py:227: UserWarning: Found unknown categories in columns [9, 21] during transform. These unknown categories will be encoded as all zeros\n",
      "  warnings.warn(\n",
      "C:\\Users\\Natal\\anaconda3\\Lib\\site-packages\\sklearn\\preprocessing\\_encoders.py:227: UserWarning: Found unknown categories in columns [0] during transform. These unknown categories will be encoded as all zeros\n",
      "  warnings.warn(\n",
      "[I 2024-07-08 10:20:14,176] Trial 54 finished with value: 0.9499162969416757 and parameters: {'scaling_method': 'robust', 'encoding_method': 'onehot', 'drop': 'first', 'algorithm': 'en', 'alpha': 0.0003685855154742009, 'l1_ratio': 0.25721071195017775}. Best is trial 15 with value: 0.9506146499925329.\n",
      "C:\\Users\\Natal\\anaconda3\\Lib\\site-packages\\sklearn\\preprocessing\\_encoders.py:227: UserWarning: Found unknown categories in columns [3, 10] during transform. These unknown categories will be encoded as all zeros\n",
      "  warnings.warn(\n",
      "C:\\Users\\Natal\\anaconda3\\Lib\\site-packages\\sklearn\\preprocessing\\_encoders.py:227: UserWarning: Found unknown categories in columns [3, 9, 14] during transform. These unknown categories will be encoded as all zeros\n",
      "  warnings.warn(\n",
      "C:\\Users\\Natal\\anaconda3\\Lib\\site-packages\\sklearn\\preprocessing\\_encoders.py:227: UserWarning: Found unknown categories in columns [5, 21] during transform. These unknown categories will be encoded as all zeros\n",
      "  warnings.warn(\n",
      "C:\\Users\\Natal\\anaconda3\\Lib\\site-packages\\sklearn\\preprocessing\\_encoders.py:227: UserWarning: Found unknown categories in columns [9, 21] during transform. These unknown categories will be encoded as all zeros\n",
      "  warnings.warn(\n",
      "C:\\Users\\Natal\\anaconda3\\Lib\\site-packages\\sklearn\\preprocessing\\_encoders.py:227: UserWarning: Found unknown categories in columns [0] during transform. These unknown categories will be encoded as all zeros\n",
      "  warnings.warn(\n",
      "[I 2024-07-08 10:20:15,233] Trial 55 finished with value: 0.9499820008422049 and parameters: {'scaling_method': 'robust', 'encoding_method': 'onehot', 'drop': 'first', 'algorithm': 'en', 'alpha': 0.00032540205918819246, 'l1_ratio': 0.3145147537278743}. Best is trial 15 with value: 0.9506146499925329.\n",
      "C:\\Users\\Natal\\anaconda3\\Lib\\site-packages\\sklearn\\preprocessing\\_encoders.py:227: UserWarning: Found unknown categories in columns [3, 10] during transform. These unknown categories will be encoded as all zeros\n",
      "  warnings.warn(\n",
      "C:\\Users\\Natal\\anaconda3\\Lib\\site-packages\\sklearn\\preprocessing\\_encoders.py:227: UserWarning: Found unknown categories in columns [3, 9, 14] during transform. These unknown categories will be encoded as all zeros\n",
      "  warnings.warn(\n",
      "C:\\Users\\Natal\\anaconda3\\Lib\\site-packages\\sklearn\\preprocessing\\_encoders.py:227: UserWarning: Found unknown categories in columns [5, 21] during transform. These unknown categories will be encoded as all zeros\n",
      "  warnings.warn(\n",
      "C:\\Users\\Natal\\anaconda3\\Lib\\site-packages\\sklearn\\preprocessing\\_encoders.py:227: UserWarning: Found unknown categories in columns [9, 21] during transform. These unknown categories will be encoded as all zeros\n",
      "  warnings.warn(\n",
      "C:\\Users\\Natal\\anaconda3\\Lib\\site-packages\\sklearn\\preprocessing\\_encoders.py:227: UserWarning: Found unknown categories in columns [0] during transform. These unknown categories will be encoded as all zeros\n",
      "  warnings.warn(\n",
      "[I 2024-07-08 10:20:16,050] Trial 56 finished with value: 0.9502817747063315 and parameters: {'scaling_method': 'minmax', 'encoding_method': 'onehot', 'drop': 'first', 'algorithm': 'en', 'alpha': 0.0002861929856396532, 'l1_ratio': 0.46854683593831487}. Best is trial 15 with value: 0.9506146499925329.\n",
      "C:\\Users\\Natal\\anaconda3\\Lib\\site-packages\\sklearn\\preprocessing\\_encoders.py:227: UserWarning: Found unknown categories in columns [3, 10] during transform. These unknown categories will be encoded as all zeros\n",
      "  warnings.warn(\n",
      "C:\\Users\\Natal\\anaconda3\\Lib\\site-packages\\sklearn\\preprocessing\\_encoders.py:227: UserWarning: Found unknown categories in columns [3, 9, 14] during transform. These unknown categories will be encoded as all zeros\n",
      "  warnings.warn(\n",
      "C:\\Users\\Natal\\anaconda3\\Lib\\site-packages\\sklearn\\preprocessing\\_encoders.py:227: UserWarning: Found unknown categories in columns [5, 21] during transform. These unknown categories will be encoded as all zeros\n",
      "  warnings.warn(\n",
      "C:\\Users\\Natal\\anaconda3\\Lib\\site-packages\\sklearn\\preprocessing\\_encoders.py:227: UserWarning: Found unknown categories in columns [9, 21] during transform. These unknown categories will be encoded as all zeros\n",
      "  warnings.warn(\n",
      "C:\\Users\\Natal\\anaconda3\\Lib\\site-packages\\sklearn\\preprocessing\\_encoders.py:227: UserWarning: Found unknown categories in columns [0] during transform. These unknown categories will be encoded as all zeros\n",
      "  warnings.warn(\n",
      "[I 2024-07-08 10:20:16,550] Trial 57 finished with value: 0.9431483448027016 and parameters: {'scaling_method': 'minmax', 'encoding_method': 'onehot', 'drop': 'first', 'algorithm': 'en', 'alpha': 0.0015528611620145869, 'l1_ratio': 0.5495329816889547}. Best is trial 15 with value: 0.9506146499925329.\n",
      "[I 2024-07-08 10:20:16,930] Trial 58 finished with value: 0.9403646137987517 and parameters: {'scaling_method': 'minmax', 'encoding_method': 'ordinal', 'algorithm': 'en', 'alpha': 0.0018410504742799882, 'l1_ratio': 0.05450895639399225}. Best is trial 15 with value: 0.9506146499925329.\n",
      "C:\\Users\\Natal\\anaconda3\\Lib\\site-packages\\sklearn\\preprocessing\\_encoders.py:227: UserWarning: Found unknown categories in columns [3, 10] during transform. These unknown categories will be encoded as all zeros\n",
      "  warnings.warn(\n",
      "C:\\Users\\Natal\\anaconda3\\Lib\\site-packages\\sklearn\\preprocessing\\_encoders.py:227: UserWarning: Found unknown categories in columns [3, 9, 14] during transform. These unknown categories will be encoded as all zeros\n",
      "  warnings.warn(\n",
      "C:\\Users\\Natal\\anaconda3\\Lib\\site-packages\\sklearn\\preprocessing\\_encoders.py:227: UserWarning: Found unknown categories in columns [5, 21] during transform. These unknown categories will be encoded as all zeros\n",
      "  warnings.warn(\n",
      "C:\\Users\\Natal\\anaconda3\\Lib\\site-packages\\sklearn\\preprocessing\\_encoders.py:227: UserWarning: Found unknown categories in columns [9, 21] during transform. These unknown categories will be encoded as all zeros\n",
      "  warnings.warn(\n",
      "C:\\Users\\Natal\\anaconda3\\Lib\\site-packages\\sklearn\\preprocessing\\_encoders.py:227: UserWarning: Found unknown categories in columns [0] during transform. These unknown categories will be encoded as all zeros\n",
      "  warnings.warn(\n",
      "[I 2024-07-08 10:20:17,391] Trial 59 finished with value: 0.9457751449096741 and parameters: {'scaling_method': 'minmax', 'encoding_method': 'onehot', 'drop': 'first', 'algorithm': 'ridge', 'alpha': 0.00027429414805309606}. Best is trial 15 with value: 0.9506146499925329.\n",
      "C:\\Users\\Natal\\anaconda3\\Lib\\site-packages\\sklearn\\preprocessing\\_encoders.py:227: UserWarning: Found unknown categories in columns [3, 10] during transform. These unknown categories will be encoded as all zeros\n",
      "  warnings.warn(\n",
      "C:\\Users\\Natal\\anaconda3\\Lib\\site-packages\\sklearn\\preprocessing\\_encoders.py:227: UserWarning: Found unknown categories in columns [3, 9, 14] during transform. These unknown categories will be encoded as all zeros\n",
      "  warnings.warn(\n",
      "C:\\Users\\Natal\\anaconda3\\Lib\\site-packages\\sklearn\\preprocessing\\_encoders.py:227: UserWarning: Found unknown categories in columns [5, 21] during transform. These unknown categories will be encoded as all zeros\n",
      "  warnings.warn(\n",
      "C:\\Users\\Natal\\anaconda3\\Lib\\site-packages\\sklearn\\preprocessing\\_encoders.py:227: UserWarning: Found unknown categories in columns [9, 21] during transform. These unknown categories will be encoded as all zeros\n",
      "  warnings.warn(\n",
      "C:\\Users\\Natal\\anaconda3\\Lib\\site-packages\\sklearn\\preprocessing\\_encoders.py:227: UserWarning: Found unknown categories in columns [0] during transform. These unknown categories will be encoded as all zeros\n",
      "  warnings.warn(\n",
      "[I 2024-07-08 10:20:18,473] Trial 60 finished with value: 0.9504789317996479 and parameters: {'scaling_method': 'minmax', 'encoding_method': 'onehot', 'drop': 'first', 'algorithm': 'lasso', 'alpha': 0.00021648475921838916}. Best is trial 15 with value: 0.9506146499925329.\n"
     ]
    },
    {
     "name": "stderr",
     "output_type": "stream",
     "text": [
      "C:\\Users\\Natal\\anaconda3\\Lib\\site-packages\\sklearn\\preprocessing\\_encoders.py:227: UserWarning: Found unknown categories in columns [3, 10] during transform. These unknown categories will be encoded as all zeros\n",
      "  warnings.warn(\n",
      "C:\\Users\\Natal\\anaconda3\\Lib\\site-packages\\sklearn\\preprocessing\\_encoders.py:227: UserWarning: Found unknown categories in columns [3, 9, 14] during transform. These unknown categories will be encoded as all zeros\n",
      "  warnings.warn(\n",
      "C:\\Users\\Natal\\anaconda3\\Lib\\site-packages\\sklearn\\preprocessing\\_encoders.py:227: UserWarning: Found unknown categories in columns [5, 21] during transform. These unknown categories will be encoded as all zeros\n",
      "  warnings.warn(\n",
      "C:\\Users\\Natal\\anaconda3\\Lib\\site-packages\\sklearn\\preprocessing\\_encoders.py:227: UserWarning: Found unknown categories in columns [9, 21] during transform. These unknown categories will be encoded as all zeros\n",
      "  warnings.warn(\n",
      "C:\\Users\\Natal\\anaconda3\\Lib\\site-packages\\sklearn\\preprocessing\\_encoders.py:227: UserWarning: Found unknown categories in columns [0] during transform. These unknown categories will be encoded as all zeros\n",
      "  warnings.warn(\n",
      "[I 2024-07-08 10:20:19,617] Trial 61 finished with value: 0.9504463386027325 and parameters: {'scaling_method': 'minmax', 'encoding_method': 'onehot', 'drop': 'first', 'algorithm': 'lasso', 'alpha': 0.0001750252331418698}. Best is trial 15 with value: 0.9506146499925329.\n",
      "C:\\Users\\Natal\\anaconda3\\Lib\\site-packages\\sklearn\\preprocessing\\_encoders.py:227: UserWarning: Found unknown categories in columns [3, 10] during transform. These unknown categories will be encoded as all zeros\n",
      "  warnings.warn(\n",
      "C:\\Users\\Natal\\anaconda3\\Lib\\site-packages\\sklearn\\preprocessing\\_encoders.py:227: UserWarning: Found unknown categories in columns [3, 9, 14] during transform. These unknown categories will be encoded as all zeros\n",
      "  warnings.warn(\n",
      "C:\\Users\\Natal\\anaconda3\\Lib\\site-packages\\sklearn\\preprocessing\\_encoders.py:227: UserWarning: Found unknown categories in columns [5, 21] during transform. These unknown categories will be encoded as all zeros\n",
      "  warnings.warn(\n",
      "C:\\Users\\Natal\\anaconda3\\Lib\\site-packages\\sklearn\\preprocessing\\_encoders.py:227: UserWarning: Found unknown categories in columns [9, 21] during transform. These unknown categories will be encoded as all zeros\n",
      "  warnings.warn(\n",
      "C:\\Users\\Natal\\anaconda3\\Lib\\site-packages\\sklearn\\preprocessing\\_encoders.py:227: UserWarning: Found unknown categories in columns [0] during transform. These unknown categories will be encoded as all zeros\n",
      "  warnings.warn(\n",
      "[I 2024-07-08 10:20:20,873] Trial 62 finished with value: 0.9504214647535318 and parameters: {'scaling_method': 'minmax', 'encoding_method': 'onehot', 'drop': 'first', 'algorithm': 'lasso', 'alpha': 0.00014501287344099588}. Best is trial 15 with value: 0.9506146499925329.\n",
      "C:\\Users\\Natal\\anaconda3\\Lib\\site-packages\\sklearn\\preprocessing\\_encoders.py:227: UserWarning: Found unknown categories in columns [3, 10] during transform. These unknown categories will be encoded as all zeros\n",
      "  warnings.warn(\n",
      "C:\\Users\\Natal\\anaconda3\\Lib\\site-packages\\sklearn\\preprocessing\\_encoders.py:227: UserWarning: Found unknown categories in columns [3, 9, 14] during transform. These unknown categories will be encoded as all zeros\n",
      "  warnings.warn(\n",
      "C:\\Users\\Natal\\anaconda3\\Lib\\site-packages\\sklearn\\preprocessing\\_encoders.py:227: UserWarning: Found unknown categories in columns [5, 21] during transform. These unknown categories will be encoded as all zeros\n",
      "  warnings.warn(\n",
      "C:\\Users\\Natal\\anaconda3\\Lib\\site-packages\\sklearn\\preprocessing\\_encoders.py:227: UserWarning: Found unknown categories in columns [9, 21] during transform. These unknown categories will be encoded as all zeros\n",
      "  warnings.warn(\n",
      "C:\\Users\\Natal\\anaconda3\\Lib\\site-packages\\sklearn\\preprocessing\\_encoders.py:227: UserWarning: Found unknown categories in columns [0] during transform. These unknown categories will be encoded as all zeros\n",
      "  warnings.warn(\n",
      "[I 2024-07-08 10:20:22,189] Trial 63 finished with value: 0.9504077370356221 and parameters: {'scaling_method': 'minmax', 'encoding_method': 'onehot', 'drop': 'first', 'algorithm': 'lasso', 'alpha': 0.00011849493864022492}. Best is trial 15 with value: 0.9506146499925329.\n",
      "C:\\Users\\Natal\\anaconda3\\Lib\\site-packages\\sklearn\\preprocessing\\_encoders.py:227: UserWarning: Found unknown categories in columns [3, 10] during transform. These unknown categories will be encoded as all zeros\n",
      "  warnings.warn(\n",
      "C:\\Users\\Natal\\anaconda3\\Lib\\site-packages\\sklearn\\preprocessing\\_encoders.py:227: UserWarning: Found unknown categories in columns [3, 9, 14] during transform. These unknown categories will be encoded as all zeros\n",
      "  warnings.warn(\n",
      "C:\\Users\\Natal\\anaconda3\\Lib\\site-packages\\sklearn\\preprocessing\\_encoders.py:227: UserWarning: Found unknown categories in columns [5, 21] during transform. These unknown categories will be encoded as all zeros\n",
      "  warnings.warn(\n",
      "C:\\Users\\Natal\\anaconda3\\Lib\\site-packages\\sklearn\\preprocessing\\_encoders.py:227: UserWarning: Found unknown categories in columns [9, 21] during transform. These unknown categories will be encoded as all zeros\n",
      "  warnings.warn(\n",
      "C:\\Users\\Natal\\anaconda3\\Lib\\site-packages\\sklearn\\preprocessing\\_encoders.py:227: UserWarning: Found unknown categories in columns [0] during transform. These unknown categories will be encoded as all zeros\n",
      "  warnings.warn(\n",
      "[I 2024-07-08 10:20:23,275] Trial 64 finished with value: 0.9504550644937725 and parameters: {'scaling_method': 'minmax', 'encoding_method': 'onehot', 'drop': 'first', 'algorithm': 'lasso', 'alpha': 0.000191537049431855}. Best is trial 15 with value: 0.9506146499925329.\n",
      "C:\\Users\\Natal\\anaconda3\\Lib\\site-packages\\sklearn\\preprocessing\\_encoders.py:227: UserWarning: Found unknown categories in columns [3, 10] during transform. These unknown categories will be encoded as all zeros\n",
      "  warnings.warn(\n",
      "C:\\Users\\Natal\\anaconda3\\Lib\\site-packages\\sklearn\\preprocessing\\_encoders.py:227: UserWarning: Found unknown categories in columns [3, 9, 14] during transform. These unknown categories will be encoded as all zeros\n",
      "  warnings.warn(\n",
      "C:\\Users\\Natal\\anaconda3\\Lib\\site-packages\\sklearn\\preprocessing\\_encoders.py:227: UserWarning: Found unknown categories in columns [5, 21] during transform. These unknown categories will be encoded as all zeros\n",
      "  warnings.warn(\n",
      "C:\\Users\\Natal\\anaconda3\\Lib\\site-packages\\sklearn\\preprocessing\\_encoders.py:227: UserWarning: Found unknown categories in columns [9, 21] during transform. These unknown categories will be encoded as all zeros\n",
      "  warnings.warn(\n",
      "C:\\Users\\Natal\\anaconda3\\Lib\\site-packages\\sklearn\\preprocessing\\_encoders.py:227: UserWarning: Found unknown categories in columns [0] during transform. These unknown categories will be encoded as all zeros\n",
      "  warnings.warn(\n",
      "[I 2024-07-08 10:20:23,666] Trial 65 finished with value: -0.029441307066881618 and parameters: {'scaling_method': 'minmax', 'encoding_method': 'onehot', 'drop': 'first', 'algorithm': 'lasso', 'alpha': 4.48239452688312}. Best is trial 15 with value: 0.9506146499925329.\n",
      "C:\\Users\\Natal\\anaconda3\\Lib\\site-packages\\sklearn\\preprocessing\\_encoders.py:227: UserWarning: Found unknown categories in columns [3, 10] during transform. These unknown categories will be encoded as all zeros\n",
      "  warnings.warn(\n",
      "C:\\Users\\Natal\\anaconda3\\Lib\\site-packages\\sklearn\\preprocessing\\_encoders.py:227: UserWarning: Found unknown categories in columns [3, 9, 14] during transform. These unknown categories will be encoded as all zeros\n",
      "  warnings.warn(\n",
      "C:\\Users\\Natal\\anaconda3\\Lib\\site-packages\\sklearn\\preprocessing\\_encoders.py:227: UserWarning: Found unknown categories in columns [5, 21] during transform. These unknown categories will be encoded as all zeros\n",
      "  warnings.warn(\n",
      "C:\\Users\\Natal\\anaconda3\\Lib\\site-packages\\sklearn\\preprocessing\\_encoders.py:227: UserWarning: Found unknown categories in columns [9, 21] during transform. These unknown categories will be encoded as all zeros\n",
      "  warnings.warn(\n",
      "C:\\Users\\Natal\\anaconda3\\Lib\\site-packages\\sklearn\\preprocessing\\_encoders.py:227: UserWarning: Found unknown categories in columns [0] during transform. These unknown categories will be encoded as all zeros\n",
      "  warnings.warn(\n",
      "[I 2024-07-08 10:20:24,792] Trial 66 finished with value: 0.9504555473869496 and parameters: {'scaling_method': 'minmax', 'encoding_method': 'onehot', 'drop': 'first', 'algorithm': 'lasso', 'alpha': 0.00018600960151238512}. Best is trial 15 with value: 0.9506146499925329.\n"
     ]
    },
    {
     "name": "stderr",
     "output_type": "stream",
     "text": [
      "C:\\Users\\Natal\\anaconda3\\Lib\\site-packages\\sklearn\\preprocessing\\_encoders.py:227: UserWarning: Found unknown categories in columns [3, 10] during transform. These unknown categories will be encoded as all zeros\n",
      "  warnings.warn(\n",
      "C:\\Users\\Natal\\anaconda3\\Lib\\site-packages\\sklearn\\preprocessing\\_encoders.py:227: UserWarning: Found unknown categories in columns [3, 9, 14] during transform. These unknown categories will be encoded as all zeros\n",
      "  warnings.warn(\n",
      "C:\\Users\\Natal\\anaconda3\\Lib\\site-packages\\sklearn\\preprocessing\\_encoders.py:227: UserWarning: Found unknown categories in columns [5, 21] during transform. These unknown categories will be encoded as all zeros\n",
      "  warnings.warn(\n",
      "C:\\Users\\Natal\\anaconda3\\Lib\\site-packages\\sklearn\\preprocessing\\_encoders.py:227: UserWarning: Found unknown categories in columns [9, 21] during transform. These unknown categories will be encoded as all zeros\n",
      "  warnings.warn(\n",
      "C:\\Users\\Natal\\anaconda3\\Lib\\site-packages\\sklearn\\preprocessing\\_encoders.py:227: UserWarning: Found unknown categories in columns [0] during transform. These unknown categories will be encoded as all zeros\n",
      "  warnings.warn(\n",
      "[I 2024-07-08 10:20:25,478] Trial 67 finished with value: 0.9484703228321049 and parameters: {'scaling_method': 'minmax', 'encoding_method': 'onehot', 'drop': 'first', 'algorithm': 'lasso', 'alpha': 0.0004973765104169647}. Best is trial 15 with value: 0.9506146499925329.\n",
      "[I 2024-07-08 10:20:25,825] Trial 68 finished with value: -0.029441307066881618 and parameters: {'scaling_method': 'minmax', 'encoding_method': 'onehot', 'drop': None, 'algorithm': 'lasso', 'alpha': 151.18896040578736}. Best is trial 15 with value: 0.9506146499925329.\n",
      "C:\\Users\\Natal\\anaconda3\\Lib\\site-packages\\sklearn\\preprocessing\\_encoders.py:227: UserWarning: Found unknown categories in columns [3, 10] during transform. These unknown categories will be encoded as all zeros\n",
      "  warnings.warn(\n",
      "C:\\Users\\Natal\\anaconda3\\Lib\\site-packages\\sklearn\\preprocessing\\_encoders.py:227: UserWarning: Found unknown categories in columns [3, 9, 14] during transform. These unknown categories will be encoded as all zeros\n",
      "  warnings.warn(\n",
      "C:\\Users\\Natal\\anaconda3\\Lib\\site-packages\\sklearn\\preprocessing\\_encoders.py:227: UserWarning: Found unknown categories in columns [5, 21] during transform. These unknown categories will be encoded as all zeros\n",
      "  warnings.warn(\n",
      "C:\\Users\\Natal\\anaconda3\\Lib\\site-packages\\sklearn\\preprocessing\\_encoders.py:227: UserWarning: Found unknown categories in columns [9, 21] during transform. These unknown categories will be encoded as all zeros\n",
      "  warnings.warn(\n",
      "C:\\Users\\Natal\\anaconda3\\Lib\\site-packages\\sklearn\\preprocessing\\_encoders.py:227: UserWarning: Found unknown categories in columns [0] during transform. These unknown categories will be encoded as all zeros\n",
      "  warnings.warn(\n",
      "[I 2024-07-08 10:20:26,251] Trial 69 finished with value: 0.7400320378975258 and parameters: {'scaling_method': 'minmax', 'encoding_method': 'onehot', 'drop': 'first', 'algorithm': 'lasso', 'alpha': 0.012563827493497461}. Best is trial 15 with value: 0.9506146499925329.\n",
      "[I 2024-07-08 10:20:27,547] Trial 70 finished with value: 0.950520595111418 and parameters: {'scaling_method': 'minmax', 'encoding_method': 'onehot', 'drop': None, 'algorithm': 'lasso', 'alpha': 0.0001704186019479177}. Best is trial 15 with value: 0.9506146499925329.\n",
      "[I 2024-07-08 10:20:29,192] Trial 71 finished with value: 0.9502726644145583 and parameters: {'scaling_method': 'minmax', 'encoding_method': 'onehot', 'drop': None, 'algorithm': 'lasso', 'alpha': 0.00010058428826414573}. Best is trial 15 with value: 0.9506146499925329.\n",
      "[I 2024-07-08 10:20:30,327] Trial 72 finished with value: 0.950617005001886 and parameters: {'scaling_method': 'minmax', 'encoding_method': 'onehot', 'drop': None, 'algorithm': 'lasso', 'alpha': 0.00019949564973025357}. Best is trial 72 with value: 0.950617005001886.\n",
      "[I 2024-07-08 10:20:31,017] Trial 73 finished with value: 0.9489426806796498 and parameters: {'scaling_method': 'minmax', 'encoding_method': 'onehot', 'drop': None, 'algorithm': 'lasso', 'alpha': 0.00046468492347373697}. Best is trial 72 with value: 0.950617005001886.\n",
      "[I 2024-07-08 10:20:31,429] Trial 74 finished with value: 0.9155017224643703 and parameters: {'scaling_method': 'minmax', 'encoding_method': 'onehot', 'drop': None, 'algorithm': 'lasso', 'alpha': 0.003222916370942474}. Best is trial 72 with value: 0.950617005001886.\n",
      "[I 2024-07-08 10:20:31,878] Trial 75 finished with value: 0.9379655530421914 and parameters: {'scaling_method': 'maxabs', 'encoding_method': 'onehot', 'drop': None, 'algorithm': 'lasso', 'alpha': 0.0011423941572979554}. Best is trial 72 with value: 0.950617005001886.\n",
      "[I 2024-07-08 10:21:35,384] Trial 76 finished with value: 0.4374914429651362 and parameters: {'scaling_method': 'minmax', 'encoding_method': 'ordinal', 'algorithm': 'gbr', 'n_estimators': 685, 'learning_rate': 0.00079066048950477, 'max_depth': 3, 'subsample': 0.6222260032032992, 'min_sample_split': 8, 'min_sample_leaf': 8}. Best is trial 72 with value: 0.950617005001886.\n",
      "[I 2024-07-08 10:21:49,576] Trial 77 finished with value: 0.9460839946239545 and parameters: {'scaling_method': 'standard', 'encoding_method': 'onehot', 'drop': None, 'algorithm': 'xgb', 'n_estimators': 396, 'learning_rate': 0.055140411147590045, 'max_depth': 7, 'subsample': 0.8280272618689128, 'colsample_bytree': 0.85331268622696, 'min_child_weight': 17}. Best is trial 72 with value: 0.950617005001886.\n",
      "[I 2024-07-08 10:21:50,488] Trial 78 finished with value: 0.9475511355896954 and parameters: {'scaling_method': 'minmax', 'encoding_method': 'onehot', 'drop': None, 'algorithm': 'lasso', 'alpha': 0.0005800039486096819}. Best is trial 72 with value: 0.950617005001886.\n",
      "[I 2024-07-08 10:22:57,132] Trial 79 finished with value: 0.9016671887430037 and parameters: {'scaling_method': 'minmax', 'encoding_method': 'onehot', 'drop': None, 'algorithm': 'rf', 'bootstrap': True, 'n_estimators': 153, 'max_depth': 69, 'min_sample_split': 2, 'min_sample_leaf': 4}. Best is trial 72 with value: 0.950617005001886.\n",
      "[I 2024-07-08 10:23:01,853] Trial 80 finished with value: 0.7481498751107789 and parameters: {'scaling_method': 'maxabs', 'encoding_method': 'onehot', 'drop': None, 'algorithm': 'ada', 'learning_rate': 0.011926326396994716, 'loss': 'linear', 'n_estimators': 27}. Best is trial 72 with value: 0.950617005001886.\n",
      "C:\\Users\\Natal\\anaconda3\\Lib\\site-packages\\sklearn\\preprocessing\\_encoders.py:227: UserWarning: Found unknown categories in columns [3, 10] during transform. These unknown categories will be encoded as all zeros\n",
      "  warnings.warn(\n",
      "C:\\Users\\Natal\\anaconda3\\Lib\\site-packages\\sklearn\\preprocessing\\_encoders.py:227: UserWarning: Found unknown categories in columns [3, 9, 14] during transform. These unknown categories will be encoded as all zeros\n",
      "  warnings.warn(\n",
      "C:\\Users\\Natal\\anaconda3\\Lib\\site-packages\\sklearn\\preprocessing\\_encoders.py:227: UserWarning: Found unknown categories in columns [5, 21] during transform. These unknown categories will be encoded as all zeros\n",
      "  warnings.warn(\n",
      "C:\\Users\\Natal\\anaconda3\\Lib\\site-packages\\sklearn\\preprocessing\\_encoders.py:227: UserWarning: Found unknown categories in columns [9, 21] during transform. These unknown categories will be encoded as all zeros\n",
      "  warnings.warn(\n",
      "C:\\Users\\Natal\\anaconda3\\Lib\\site-packages\\sklearn\\preprocessing\\_encoders.py:227: UserWarning: Found unknown categories in columns [0] during transform. These unknown categories will be encoded as all zeros\n",
      "  warnings.warn(\n",
      "[I 2024-07-08 10:23:02,891] Trial 81 finished with value: 0.9504590828950967 and parameters: {'scaling_method': 'minmax', 'encoding_method': 'onehot', 'drop': 'first', 'algorithm': 'lasso', 'alpha': 0.0001971837119333649}. Best is trial 72 with value: 0.950617005001886.\n",
      "[I 2024-07-08 10:23:03,844] Trial 82 finished with value: 0.9506059300756451 and parameters: {'scaling_method': 'minmax', 'encoding_method': 'onehot', 'drop': None, 'algorithm': 'lasso', 'alpha': 0.000260420060035287}. Best is trial 72 with value: 0.950617005001886.\n",
      "[I 2024-07-08 10:23:04,362] Trial 83 finished with value: 0.9456431874825431 and parameters: {'scaling_method': 'minmax', 'encoding_method': 'onehot', 'drop': None, 'algorithm': 'lasso', 'alpha': 0.0007404653000205496}. Best is trial 72 with value: 0.950617005001886.\n"
     ]
    },
    {
     "name": "stderr",
     "output_type": "stream",
     "text": [
      "[I 2024-07-08 10:23:05,240] Trial 84 finished with value: 0.9504065509720707 and parameters: {'scaling_method': 'minmax', 'encoding_method': 'onehot', 'drop': None, 'algorithm': 'lasso', 'alpha': 0.00030881824809650106}. Best is trial 72 with value: 0.950617005001886.\n",
      "[I 2024-07-08 10:23:05,959] Trial 85 finished with value: 0.9502085460302702 and parameters: {'scaling_method': 'standard', 'encoding_method': 'onehot', 'drop': None, 'algorithm': 'lasso', 'alpha': 0.00022570217272519397}. Best is trial 72 with value: 0.950617005001886.\n",
      "[I 2024-07-08 10:23:06,413] Trial 86 finished with value: 0.9395212103576183 and parameters: {'scaling_method': 'minmax', 'encoding_method': 'onehot', 'drop': None, 'algorithm': 'lasso', 'alpha': 0.0013428291937205817}. Best is trial 72 with value: 0.950617005001886.\n",
      "[I 2024-07-08 10:23:06,947] Trial 87 finished with value: 0.945817700514205 and parameters: {'scaling_method': 'robust', 'encoding_method': 'onehot', 'drop': None, 'algorithm': 'ridge', 'alpha': 0.0028467849906836677}. Best is trial 72 with value: 0.950617005001886.\n",
      "[I 2024-07-08 10:24:51,781] Trial 88 finished with value: 0.8766401728942645 and parameters: {'scaling_method': 'minmax', 'encoding_method': 'ordinal', 'algorithm': 'gbr', 'n_estimators': 804, 'learning_rate': 0.8941928933502697, 'max_depth': 3, 'subsample': 0.9827683043423914, 'min_sample_split': 9, 'min_sample_leaf': 5}. Best is trial 72 with value: 0.950617005001886.\n",
      "[I 2024-07-08 10:24:52,289] Trial 89 finished with value: -0.008103560672754306 and parameters: {'scaling_method': 'robust', 'encoding_method': 'onehot', 'drop': None, 'algorithm': 'lasso', 'alpha': 0.49295073829279334}. Best is trial 72 with value: 0.950617005001886.\n",
      "[I 2024-07-08 10:24:54,974] Trial 90 finished with value: -6.6695508011727735 and parameters: {'scaling_method': 'robust', 'encoding_method': 'onehot', 'drop': None, 'algorithm': 'xgb', 'n_estimators': 231, 'learning_rate': 0.00028430446609913475, 'max_depth': 5, 'subsample': 0.5960143581674767, 'colsample_bytree': 0.5167443512180865, 'min_child_weight': 10}. Best is trial 72 with value: 0.950617005001886.\n",
      "C:\\Users\\Natal\\anaconda3\\Lib\\site-packages\\sklearn\\preprocessing\\_encoders.py:227: UserWarning: Found unknown categories in columns [3, 10] during transform. These unknown categories will be encoded as all zeros\n",
      "  warnings.warn(\n",
      "C:\\Users\\Natal\\anaconda3\\Lib\\site-packages\\sklearn\\preprocessing\\_encoders.py:227: UserWarning: Found unknown categories in columns [3, 9, 14] during transform. These unknown categories will be encoded as all zeros\n",
      "  warnings.warn(\n",
      "C:\\Users\\Natal\\anaconda3\\Lib\\site-packages\\sklearn\\preprocessing\\_encoders.py:227: UserWarning: Found unknown categories in columns [5, 21] during transform. These unknown categories will be encoded as all zeros\n",
      "  warnings.warn(\n",
      "C:\\Users\\Natal\\anaconda3\\Lib\\site-packages\\sklearn\\preprocessing\\_encoders.py:227: UserWarning: Found unknown categories in columns [9, 21] during transform. These unknown categories will be encoded as all zeros\n",
      "  warnings.warn(\n",
      "C:\\Users\\Natal\\anaconda3\\Lib\\site-packages\\sklearn\\preprocessing\\_encoders.py:227: UserWarning: Found unknown categories in columns [0] during transform. These unknown categories will be encoded as all zeros\n",
      "  warnings.warn(\n",
      "[I 2024-07-08 10:24:56,279] Trial 91 finished with value: 0.9504174207249045 and parameters: {'scaling_method': 'minmax', 'encoding_method': 'onehot', 'drop': 'first', 'algorithm': 'lasso', 'alpha': 0.00015991116577042925}. Best is trial 72 with value: 0.950617005001886.\n",
      "C:\\Users\\Natal\\anaconda3\\Lib\\site-packages\\sklearn\\preprocessing\\_encoders.py:227: UserWarning: Found unknown categories in columns [3, 10] during transform. These unknown categories will be encoded as all zeros\n",
      "  warnings.warn(\n",
      "C:\\Users\\Natal\\anaconda3\\Lib\\site-packages\\sklearn\\preprocessing\\_encoders.py:227: UserWarning: Found unknown categories in columns [3, 9, 14] during transform. These unknown categories will be encoded as all zeros\n",
      "  warnings.warn(\n",
      "C:\\Users\\Natal\\anaconda3\\Lib\\site-packages\\sklearn\\preprocessing\\_encoders.py:227: UserWarning: Found unknown categories in columns [5, 21] during transform. These unknown categories will be encoded as all zeros\n",
      "  warnings.warn(\n",
      "C:\\Users\\Natal\\anaconda3\\Lib\\site-packages\\sklearn\\preprocessing\\_encoders.py:227: UserWarning: Found unknown categories in columns [9, 21] during transform. These unknown categories will be encoded as all zeros\n",
      "  warnings.warn(\n",
      "C:\\Users\\Natal\\anaconda3\\Lib\\site-packages\\sklearn\\preprocessing\\_encoders.py:227: UserWarning: Found unknown categories in columns [0] during transform. These unknown categories will be encoded as all zeros\n",
      "  warnings.warn(\n",
      "[I 2024-07-08 10:24:56,942] Trial 92 finished with value: 0.9477011267757256 and parameters: {'scaling_method': 'minmax', 'encoding_method': 'onehot', 'drop': 'first', 'algorithm': 'lasso', 'alpha': 0.0005647434307686057}. Best is trial 72 with value: 0.950617005001886.\n",
      "C:\\Users\\Natal\\anaconda3\\Lib\\site-packages\\sklearn\\preprocessing\\_encoders.py:227: UserWarning: Found unknown categories in columns [3, 10] during transform. These unknown categories will be encoded as all zeros\n",
      "  warnings.warn(\n",
      "C:\\Users\\Natal\\anaconda3\\Lib\\site-packages\\sklearn\\preprocessing\\_encoders.py:227: UserWarning: Found unknown categories in columns [3, 9, 14] during transform. These unknown categories will be encoded as all zeros\n",
      "  warnings.warn(\n",
      "C:\\Users\\Natal\\anaconda3\\Lib\\site-packages\\sklearn\\preprocessing\\_encoders.py:227: UserWarning: Found unknown categories in columns [5, 21] during transform. These unknown categories will be encoded as all zeros\n",
      "  warnings.warn(\n",
      "C:\\Users\\Natal\\anaconda3\\Lib\\site-packages\\sklearn\\preprocessing\\_encoders.py:227: UserWarning: Found unknown categories in columns [9, 21] during transform. These unknown categories will be encoded as all zeros\n",
      "  warnings.warn(\n",
      "C:\\Users\\Natal\\anaconda3\\Lib\\site-packages\\sklearn\\preprocessing\\_encoders.py:227: UserWarning: Found unknown categories in columns [0] during transform. These unknown categories will be encoded as all zeros\n",
      "  warnings.warn(\n",
      "[I 2024-07-08 10:24:58,138] Trial 93 finished with value: 0.950449828935693 and parameters: {'scaling_method': 'minmax', 'encoding_method': 'onehot', 'drop': 'first', 'algorithm': 'lasso', 'alpha': 0.0001778078098964815}. Best is trial 72 with value: 0.950617005001886.\n",
      "[I 2024-07-08 10:25:00,941] Trial 94 finished with value: 0.9477503965819534 and parameters: {'scaling_method': 'minmax', 'encoding_method': 'onehot', 'drop': None, 'algorithm': 'en', 'alpha': 0.00023495638773309187, 'l1_ratio': 0.015562619849928256}. Best is trial 72 with value: 0.950617005001886.\n",
      "C:\\Users\\Natal\\anaconda3\\Lib\\site-packages\\sklearn\\preprocessing\\_encoders.py:227: UserWarning: Found unknown categories in columns [3, 10] during transform. These unknown categories will be encoded as all zeros\n",
      "  warnings.warn(\n",
      "C:\\Users\\Natal\\anaconda3\\Lib\\site-packages\\sklearn\\preprocessing\\_encoders.py:227: UserWarning: Found unknown categories in columns [3, 9, 14] during transform. These unknown categories will be encoded as all zeros\n",
      "  warnings.warn(\n",
      "C:\\Users\\Natal\\anaconda3\\Lib\\site-packages\\sklearn\\preprocessing\\_encoders.py:227: UserWarning: Found unknown categories in columns [5, 21] during transform. These unknown categories will be encoded as all zeros\n",
      "  warnings.warn(\n",
      "C:\\Users\\Natal\\anaconda3\\Lib\\site-packages\\sklearn\\preprocessing\\_encoders.py:227: UserWarning: Found unknown categories in columns [9, 21] during transform. These unknown categories will be encoded as all zeros\n",
      "  warnings.warn(\n",
      "C:\\Users\\Natal\\anaconda3\\Lib\\site-packages\\sklearn\\preprocessing\\_encoders.py:227: UserWarning: Found unknown categories in columns [0] during transform. These unknown categories will be encoded as all zeros\n",
      "  warnings.warn(\n",
      "[I 2024-07-08 10:30:43,338] Trial 95 finished with value: 0.9078031988613993 and parameters: {'scaling_method': 'minmax', 'encoding_method': 'onehot', 'drop': 'first', 'algorithm': 'rf', 'bootstrap': True, 'n_estimators': 568, 'max_depth': 38, 'min_sample_split': 5, 'min_sample_leaf': 1}. Best is trial 72 with value: 0.950617005001886.\n",
      "C:\\Users\\Natal\\anaconda3\\Lib\\site-packages\\sklearn\\preprocessing\\_encoders.py:227: UserWarning: Found unknown categories in columns [3, 10] during transform. These unknown categories will be encoded as all zeros\n",
      "  warnings.warn(\n"
     ]
    },
    {
     "name": "stderr",
     "output_type": "stream",
     "text": [
      "C:\\Users\\Natal\\anaconda3\\Lib\\site-packages\\sklearn\\preprocessing\\_encoders.py:227: UserWarning: Found unknown categories in columns [3, 9, 14] during transform. These unknown categories will be encoded as all zeros\n",
      "  warnings.warn(\n",
      "C:\\Users\\Natal\\anaconda3\\Lib\\site-packages\\sklearn\\preprocessing\\_encoders.py:227: UserWarning: Found unknown categories in columns [5, 21] during transform. These unknown categories will be encoded as all zeros\n",
      "  warnings.warn(\n",
      "C:\\Users\\Natal\\anaconda3\\Lib\\site-packages\\sklearn\\preprocessing\\_encoders.py:227: UserWarning: Found unknown categories in columns [9, 21] during transform. These unknown categories will be encoded as all zeros\n",
      "  warnings.warn(\n",
      "C:\\Users\\Natal\\anaconda3\\Lib\\site-packages\\sklearn\\preprocessing\\_encoders.py:227: UserWarning: Found unknown categories in columns [0] during transform. These unknown categories will be encoded as all zeros\n",
      "  warnings.warn(\n",
      "[I 2024-07-08 10:30:44,562] Trial 96 finished with value: 0.9500112102570567 and parameters: {'scaling_method': 'robust', 'encoding_method': 'onehot', 'drop': 'first', 'algorithm': 'lasso', 'alpha': 0.00011296409806943494}. Best is trial 72 with value: 0.950617005001886.\n",
      "[I 2024-07-08 10:30:46,257] Trial 97 finished with value: 0.9481262698391015 and parameters: {'scaling_method': 'minmax', 'encoding_method': 'onehot', 'drop': None, 'algorithm': 'en', 'alpha': 0.0007729618718592502, 'l1_ratio': 0.0011891018868038594}. Best is trial 72 with value: 0.950617005001886.\n",
      "C:\\Users\\Natal\\anaconda3\\Lib\\site-packages\\sklearn\\preprocessing\\_encoders.py:227: UserWarning: Found unknown categories in columns [3, 10] during transform. These unknown categories will be encoded as all zeros\n",
      "  warnings.warn(\n",
      "C:\\Users\\Natal\\anaconda3\\Lib\\site-packages\\sklearn\\preprocessing\\_encoders.py:227: UserWarning: Found unknown categories in columns [3, 9, 14] during transform. These unknown categories will be encoded as all zeros\n",
      "  warnings.warn(\n",
      "C:\\Users\\Natal\\anaconda3\\Lib\\site-packages\\sklearn\\preprocessing\\_encoders.py:227: UserWarning: Found unknown categories in columns [5, 21] during transform. These unknown categories will be encoded as all zeros\n",
      "  warnings.warn(\n",
      "C:\\Users\\Natal\\anaconda3\\Lib\\site-packages\\sklearn\\preprocessing\\_encoders.py:227: UserWarning: Found unknown categories in columns [9, 21] during transform. These unknown categories will be encoded as all zeros\n",
      "  warnings.warn(\n",
      "C:\\Users\\Natal\\anaconda3\\Lib\\site-packages\\sklearn\\preprocessing\\_encoders.py:227: UserWarning: Found unknown categories in columns [0] during transform. These unknown categories will be encoded as all zeros\n",
      "  warnings.warn(\n",
      "[I 2024-07-08 10:31:39,812] Trial 98 finished with value: 0.757303529912053 and parameters: {'scaling_method': 'robust', 'encoding_method': 'onehot', 'drop': 'first', 'algorithm': 'ada', 'learning_rate': 0.002133530766129601, 'loss': 'linear', 'n_estimators': 343}. Best is trial 72 with value: 0.950617005001886.\n",
      "[I 2024-07-08 10:31:40,570] Trial 99 finished with value: 0.9495704757450211 and parameters: {'scaling_method': 'minmax', 'encoding_method': 'onehot', 'drop': None, 'algorithm': 'lasso', 'alpha': 0.00040917425002646383}. Best is trial 72 with value: 0.950617005001886.\n",
      "C:\\Users\\Natal\\anaconda3\\Lib\\site-packages\\sklearn\\preprocessing\\_encoders.py:227: UserWarning: Found unknown categories in columns [3, 10] during transform. These unknown categories will be encoded as all zeros\n",
      "  warnings.warn(\n",
      "C:\\Users\\Natal\\anaconda3\\Lib\\site-packages\\sklearn\\preprocessing\\_encoders.py:227: UserWarning: Found unknown categories in columns [3, 9, 14] during transform. These unknown categories will be encoded as all zeros\n",
      "  warnings.warn(\n",
      "C:\\Users\\Natal\\anaconda3\\Lib\\site-packages\\sklearn\\preprocessing\\_encoders.py:227: UserWarning: Found unknown categories in columns [5, 21] during transform. These unknown categories will be encoded as all zeros\n",
      "  warnings.warn(\n",
      "C:\\Users\\Natal\\anaconda3\\Lib\\site-packages\\sklearn\\preprocessing\\_encoders.py:227: UserWarning: Found unknown categories in columns [9, 21] during transform. These unknown categories will be encoded as all zeros\n",
      "  warnings.warn(\n",
      "C:\\Users\\Natal\\anaconda3\\Lib\\site-packages\\sklearn\\preprocessing\\_encoders.py:227: UserWarning: Found unknown categories in columns [0] during transform. These unknown categories will be encoded as all zeros\n",
      "  warnings.warn(\n",
      "[I 2024-07-08 10:31:41,031] Trial 100 finished with value: 0.8899020395001224 and parameters: {'scaling_method': 'maxabs', 'encoding_method': 'onehot', 'drop': 'first', 'algorithm': 'en', 'alpha': 0.02541113505427002, 'l1_ratio': 0.011157661503861426}. Best is trial 72 with value: 0.950617005001886.\n",
      "C:\\Users\\Natal\\anaconda3\\Lib\\site-packages\\sklearn\\preprocessing\\_encoders.py:227: UserWarning: Found unknown categories in columns [3, 10] during transform. These unknown categories will be encoded as all zeros\n",
      "  warnings.warn(\n",
      "C:\\Users\\Natal\\anaconda3\\Lib\\site-packages\\sklearn\\preprocessing\\_encoders.py:227: UserWarning: Found unknown categories in columns [3, 9, 14] during transform. These unknown categories will be encoded as all zeros\n",
      "  warnings.warn(\n",
      "C:\\Users\\Natal\\anaconda3\\Lib\\site-packages\\sklearn\\preprocessing\\_encoders.py:227: UserWarning: Found unknown categories in columns [5, 21] during transform. These unknown categories will be encoded as all zeros\n",
      "  warnings.warn(\n",
      "C:\\Users\\Natal\\anaconda3\\Lib\\site-packages\\sklearn\\preprocessing\\_encoders.py:227: UserWarning: Found unknown categories in columns [9, 21] during transform. These unknown categories will be encoded as all zeros\n",
      "  warnings.warn(\n",
      "C:\\Users\\Natal\\anaconda3\\Lib\\site-packages\\sklearn\\preprocessing\\_encoders.py:227: UserWarning: Found unknown categories in columns [0] during transform. These unknown categories will be encoded as all zeros\n",
      "  warnings.warn(\n",
      "[I 2024-07-08 10:31:42,139] Trial 101 finished with value: 0.9504553179855029 and parameters: {'scaling_method': 'minmax', 'encoding_method': 'onehot', 'drop': 'first', 'algorithm': 'lasso', 'alpha': 0.0001907069449723837}. Best is trial 72 with value: 0.950617005001886.\n",
      "C:\\Users\\Natal\\anaconda3\\Lib\\site-packages\\sklearn\\preprocessing\\_encoders.py:227: UserWarning: Found unknown categories in columns [3, 10] during transform. These unknown categories will be encoded as all zeros\n",
      "  warnings.warn(\n",
      "C:\\Users\\Natal\\anaconda3\\Lib\\site-packages\\sklearn\\preprocessing\\_encoders.py:227: UserWarning: Found unknown categories in columns [3, 9, 14] during transform. These unknown categories will be encoded as all zeros\n",
      "  warnings.warn(\n",
      "C:\\Users\\Natal\\anaconda3\\Lib\\site-packages\\sklearn\\preprocessing\\_encoders.py:227: UserWarning: Found unknown categories in columns [5, 21] during transform. These unknown categories will be encoded as all zeros\n",
      "  warnings.warn(\n",
      "C:\\Users\\Natal\\anaconda3\\Lib\\site-packages\\sklearn\\preprocessing\\_encoders.py:227: UserWarning: Found unknown categories in columns [9, 21] during transform. These unknown categories will be encoded as all zeros\n",
      "  warnings.warn(\n",
      "C:\\Users\\Natal\\anaconda3\\Lib\\site-packages\\sklearn\\preprocessing\\_encoders.py:227: UserWarning: Found unknown categories in columns [0] during transform. These unknown categories will be encoded as all zeros\n",
      "  warnings.warn(\n",
      "[I 2024-07-08 10:31:43,287] Trial 102 finished with value: 0.9504556138917429 and parameters: {'scaling_method': 'minmax', 'encoding_method': 'onehot', 'drop': 'first', 'algorithm': 'lasso', 'alpha': 0.00018656702321863817}. Best is trial 72 with value: 0.950617005001886.\n",
      "C:\\Users\\Natal\\anaconda3\\Lib\\site-packages\\sklearn\\preprocessing\\_encoders.py:227: UserWarning: Found unknown categories in columns [3, 10] during transform. These unknown categories will be encoded as all zeros\n",
      "  warnings.warn(\n",
      "C:\\Users\\Natal\\anaconda3\\Lib\\site-packages\\sklearn\\preprocessing\\_encoders.py:227: UserWarning: Found unknown categories in columns [3, 9, 14] during transform. These unknown categories will be encoded as all zeros\n",
      "  warnings.warn(\n",
      "C:\\Users\\Natal\\anaconda3\\Lib\\site-packages\\sklearn\\preprocessing\\_encoders.py:227: UserWarning: Found unknown categories in columns [5, 21] during transform. These unknown categories will be encoded as all zeros\n",
      "  warnings.warn(\n",
      "C:\\Users\\Natal\\anaconda3\\Lib\\site-packages\\sklearn\\preprocessing\\_encoders.py:227: UserWarning: Found unknown categories in columns [9, 21] during transform. These unknown categories will be encoded as all zeros\n",
      "  warnings.warn(\n"
     ]
    },
    {
     "name": "stderr",
     "output_type": "stream",
     "text": [
      "C:\\Users\\Natal\\anaconda3\\Lib\\site-packages\\sklearn\\preprocessing\\_encoders.py:227: UserWarning: Found unknown categories in columns [0] during transform. These unknown categories will be encoded as all zeros\n",
      "  warnings.warn(\n",
      "[I 2024-07-08 10:31:44,158] Trial 103 finished with value: 0.9499559033610787 and parameters: {'scaling_method': 'minmax', 'encoding_method': 'onehot', 'drop': 'first', 'algorithm': 'lasso', 'alpha': 0.0003399585080097176}. Best is trial 72 with value: 0.950617005001886.\n",
      "C:\\Users\\Natal\\anaconda3\\Lib\\site-packages\\sklearn\\preprocessing\\_encoders.py:227: UserWarning: Found unknown categories in columns [3, 10] during transform. These unknown categories will be encoded as all zeros\n",
      "  warnings.warn(\n",
      "C:\\Users\\Natal\\anaconda3\\Lib\\site-packages\\sklearn\\preprocessing\\_encoders.py:227: UserWarning: Found unknown categories in columns [3, 9, 14] during transform. These unknown categories will be encoded as all zeros\n",
      "  warnings.warn(\n",
      "C:\\Users\\Natal\\anaconda3\\Lib\\site-packages\\sklearn\\preprocessing\\_encoders.py:227: UserWarning: Found unknown categories in columns [5, 21] during transform. These unknown categories will be encoded as all zeros\n",
      "  warnings.warn(\n",
      "C:\\Users\\Natal\\anaconda3\\Lib\\site-packages\\sklearn\\preprocessing\\_encoders.py:227: UserWarning: Found unknown categories in columns [9, 21] during transform. These unknown categories will be encoded as all zeros\n",
      "  warnings.warn(\n",
      "C:\\Users\\Natal\\anaconda3\\Lib\\site-packages\\sklearn\\preprocessing\\_encoders.py:227: UserWarning: Found unknown categories in columns [0] during transform. These unknown categories will be encoded as all zeros\n",
      "  warnings.warn(\n",
      "[I 2024-07-08 10:31:44,592] Trial 104 finished with value: 0.8431383302498437 and parameters: {'scaling_method': 'minmax', 'encoding_method': 'onehot', 'drop': 'first', 'algorithm': 'lasso', 'alpha': 0.007521777529803439}. Best is trial 72 with value: 0.950617005001886.\n",
      "C:\\Users\\Natal\\anaconda3\\Lib\\site-packages\\sklearn\\preprocessing\\_encoders.py:227: UserWarning: Found unknown categories in columns [3, 10] during transform. These unknown categories will be encoded as all zeros\n",
      "  warnings.warn(\n",
      "C:\\Users\\Natal\\anaconda3\\Lib\\site-packages\\sklearn\\preprocessing\\_encoders.py:227: UserWarning: Found unknown categories in columns [3, 9, 14] during transform. These unknown categories will be encoded as all zeros\n",
      "  warnings.warn(\n",
      "C:\\Users\\Natal\\anaconda3\\Lib\\site-packages\\sklearn\\preprocessing\\_encoders.py:227: UserWarning: Found unknown categories in columns [5, 21] during transform. These unknown categories will be encoded as all zeros\n",
      "  warnings.warn(\n",
      "C:\\Users\\Natal\\anaconda3\\Lib\\site-packages\\sklearn\\preprocessing\\_encoders.py:227: UserWarning: Found unknown categories in columns [9, 21] during transform. These unknown categories will be encoded as all zeros\n",
      "  warnings.warn(\n",
      "C:\\Users\\Natal\\anaconda3\\Lib\\site-packages\\sklearn\\preprocessing\\_encoders.py:227: UserWarning: Found unknown categories in columns [0] during transform. These unknown categories will be encoded as all zeros\n",
      "  warnings.warn(\n",
      "[I 2024-07-08 10:31:45,146] Trial 105 finished with value: 0.9436889041904181 and parameters: {'scaling_method': 'minmax', 'encoding_method': 'onehot', 'drop': 'first', 'algorithm': 'lasso', 'alpha': 0.000907603113352332}. Best is trial 72 with value: 0.950617005001886.\n",
      "[I 2024-07-08 10:31:46,022] Trial 106 finished with value: 0.9412812829172692 and parameters: {'scaling_method': 'robust', 'encoding_method': 'ordinal', 'algorithm': 'en', 'alpha': 0.00023724907471272028, 'l1_ratio': 0.20217373718384113}. Best is trial 72 with value: 0.950617005001886.\n",
      "C:\\Users\\Natal\\anaconda3\\Lib\\site-packages\\sklearn\\preprocessing\\_encoders.py:227: UserWarning: Found unknown categories in columns [3, 10] during transform. These unknown categories will be encoded as all zeros\n",
      "  warnings.warn(\n",
      "C:\\Users\\Natal\\anaconda3\\Lib\\site-packages\\sklearn\\preprocessing\\_encoders.py:227: UserWarning: Found unknown categories in columns [3, 9, 14] during transform. These unknown categories will be encoded as all zeros\n",
      "  warnings.warn(\n",
      "C:\\Users\\Natal\\anaconda3\\Lib\\site-packages\\sklearn\\preprocessing\\_encoders.py:227: UserWarning: Found unknown categories in columns [5, 21] during transform. These unknown categories will be encoded as all zeros\n",
      "  warnings.warn(\n",
      "C:\\Users\\Natal\\anaconda3\\Lib\\site-packages\\sklearn\\preprocessing\\_encoders.py:227: UserWarning: Found unknown categories in columns [9, 21] during transform. These unknown categories will be encoded as all zeros\n",
      "  warnings.warn(\n",
      "C:\\Users\\Natal\\anaconda3\\Lib\\site-packages\\sklearn\\preprocessing\\_encoders.py:227: UserWarning: Found unknown categories in columns [0] during transform. These unknown categories will be encoded as all zeros\n",
      "  warnings.warn(\n",
      "[I 2024-07-08 10:31:47,071] Trial 107 finished with value: 0.9497318944817149 and parameters: {'scaling_method': 'standard', 'encoding_method': 'onehot', 'drop': 'first', 'algorithm': 'lasso', 'alpha': 0.00010917911665398215}. Best is trial 72 with value: 0.950617005001886.\n",
      "C:\\Users\\Natal\\anaconda3\\Lib\\site-packages\\sklearn\\preprocessing\\_encoders.py:227: UserWarning: Found unknown categories in columns [3, 10] during transform. These unknown categories will be encoded as all zeros\n",
      "  warnings.warn(\n",
      "C:\\Users\\Natal\\anaconda3\\Lib\\site-packages\\sklearn\\preprocessing\\_encoders.py:227: UserWarning: Found unknown categories in columns [3, 9, 14] during transform. These unknown categories will be encoded as all zeros\n",
      "  warnings.warn(\n",
      "C:\\Users\\Natal\\anaconda3\\Lib\\site-packages\\sklearn\\preprocessing\\_encoders.py:227: UserWarning: Found unknown categories in columns [5, 21] during transform. These unknown categories will be encoded as all zeros\n",
      "  warnings.warn(\n",
      "C:\\Users\\Natal\\anaconda3\\Lib\\site-packages\\sklearn\\preprocessing\\_encoders.py:227: UserWarning: Found unknown categories in columns [9, 21] during transform. These unknown categories will be encoded as all zeros\n",
      "  warnings.warn(\n",
      "C:\\Users\\Natal\\anaconda3\\Lib\\site-packages\\sklearn\\preprocessing\\_encoders.py:227: UserWarning: Found unknown categories in columns [0] during transform. These unknown categories will be encoded as all zeros\n",
      "  warnings.warn(\n",
      "[I 2024-07-08 10:31:47,597] Trial 108 finished with value: 0.9457984584559422 and parameters: {'scaling_method': 'minmax', 'encoding_method': 'onehot', 'drop': 'first', 'algorithm': 'ridge', 'alpha': 0.00204398748096475}. Best is trial 72 with value: 0.950617005001886.\n",
      "C:\\Users\\Natal\\anaconda3\\Lib\\site-packages\\sklearn\\linear_model\\_coordinate_descent.py:628: ConvergenceWarning: Objective did not converge. You might want to increase the number of iterations, check the scale of the features or consider increasing regularisation. Duality gap: 3.321e+00, tolerance: 2.383e-02\n",
      "  model = cd_fast.enet_coordinate_descent(\n",
      "C:\\Users\\Natal\\anaconda3\\Lib\\site-packages\\sklearn\\linear_model\\_coordinate_descent.py:628: ConvergenceWarning: Objective did not converge. You might want to increase the number of iterations, check the scale of the features or consider increasing regularisation. Duality gap: 4.253e+00, tolerance: 2.345e-02\n",
      "  model = cd_fast.enet_coordinate_descent(\n",
      "C:\\Users\\Natal\\anaconda3\\Lib\\site-packages\\sklearn\\linear_model\\_coordinate_descent.py:628: ConvergenceWarning: Objective did not converge. You might want to increase the number of iterations, check the scale of the features or consider increasing regularisation. Duality gap: 1.118e+00, tolerance: 2.415e-02\n",
      "  model = cd_fast.enet_coordinate_descent(\n",
      "C:\\Users\\Natal\\anaconda3\\Lib\\site-packages\\sklearn\\linear_model\\_coordinate_descent.py:628: ConvergenceWarning: Objective did not converge. You might want to increase the number of iterations, check the scale of the features or consider increasing regularisation. Duality gap: 2.902e+00, tolerance: 2.409e-02\n",
      "  model = cd_fast.enet_coordinate_descent(\n",
      "C:\\Users\\Natal\\anaconda3\\Lib\\site-packages\\sklearn\\linear_model\\_coordinate_descent.py:628: ConvergenceWarning: Objective did not converge. You might want to increase the number of iterations, check the scale of the features or consider increasing regularisation. Duality gap: 3.290e+00, tolerance: 2.445e-02\n",
      "  model = cd_fast.enet_coordinate_descent(\n",
      "[I 2024-07-08 10:31:50,405] Trial 109 finished with value: 0.9483387674827204 and parameters: {'scaling_method': 'robust', 'encoding_method': 'onehot', 'drop': None, 'algorithm': 'en', 'alpha': 0.0005431127311346696, 'l1_ratio': 0.037328950487298285}. Best is trial 72 with value: 0.950617005001886.\n"
     ]
    },
    {
     "name": "stderr",
     "output_type": "stream",
     "text": [
      "C:\\Users\\Natal\\anaconda3\\Lib\\site-packages\\sklearn\\preprocessing\\_encoders.py:227: UserWarning: Found unknown categories in columns [3, 10] during transform. These unknown categories will be encoded as all zeros\n",
      "  warnings.warn(\n",
      "C:\\Users\\Natal\\anaconda3\\Lib\\site-packages\\sklearn\\preprocessing\\_encoders.py:227: UserWarning: Found unknown categories in columns [3, 9, 14] during transform. These unknown categories will be encoded as all zeros\n",
      "  warnings.warn(\n",
      "C:\\Users\\Natal\\anaconda3\\Lib\\site-packages\\sklearn\\preprocessing\\_encoders.py:227: UserWarning: Found unknown categories in columns [5, 21] during transform. These unknown categories will be encoded as all zeros\n",
      "  warnings.warn(\n",
      "C:\\Users\\Natal\\anaconda3\\Lib\\site-packages\\sklearn\\preprocessing\\_encoders.py:227: UserWarning: Found unknown categories in columns [9, 21] during transform. These unknown categories will be encoded as all zeros\n",
      "  warnings.warn(\n",
      "C:\\Users\\Natal\\anaconda3\\Lib\\site-packages\\sklearn\\preprocessing\\_encoders.py:227: UserWarning: Found unknown categories in columns [0] during transform. These unknown categories will be encoded as all zeros\n",
      "  warnings.warn(\n",
      "[I 2024-07-08 10:31:50,841] Trial 110 finished with value: 0.9044751891765352 and parameters: {'scaling_method': 'minmax', 'encoding_method': 'onehot', 'drop': 'first', 'algorithm': 'lasso', 'alpha': 0.0038622861855030256}. Best is trial 72 with value: 0.950617005001886.\n",
      "C:\\Users\\Natal\\anaconda3\\Lib\\site-packages\\sklearn\\preprocessing\\_encoders.py:227: UserWarning: Found unknown categories in columns [3, 10] during transform. These unknown categories will be encoded as all zeros\n",
      "  warnings.warn(\n",
      "C:\\Users\\Natal\\anaconda3\\Lib\\site-packages\\sklearn\\preprocessing\\_encoders.py:227: UserWarning: Found unknown categories in columns [3, 9, 14] during transform. These unknown categories will be encoded as all zeros\n",
      "  warnings.warn(\n",
      "C:\\Users\\Natal\\anaconda3\\Lib\\site-packages\\sklearn\\preprocessing\\_encoders.py:227: UserWarning: Found unknown categories in columns [5, 21] during transform. These unknown categories will be encoded as all zeros\n",
      "  warnings.warn(\n",
      "C:\\Users\\Natal\\anaconda3\\Lib\\site-packages\\sklearn\\preprocessing\\_encoders.py:227: UserWarning: Found unknown categories in columns [9, 21] during transform. These unknown categories will be encoded as all zeros\n",
      "  warnings.warn(\n",
      "C:\\Users\\Natal\\anaconda3\\Lib\\site-packages\\sklearn\\preprocessing\\_encoders.py:227: UserWarning: Found unknown categories in columns [0] during transform. These unknown categories will be encoded as all zeros\n",
      "  warnings.warn(\n",
      "[I 2024-07-08 10:31:51,975] Trial 111 finished with value: 0.9504475645861536 and parameters: {'scaling_method': 'minmax', 'encoding_method': 'onehot', 'drop': 'first', 'algorithm': 'lasso', 'alpha': 0.00017600999519226733}. Best is trial 72 with value: 0.950617005001886.\n",
      "C:\\Users\\Natal\\anaconda3\\Lib\\site-packages\\sklearn\\preprocessing\\_encoders.py:227: UserWarning: Found unknown categories in columns [3, 10] during transform. These unknown categories will be encoded as all zeros\n",
      "  warnings.warn(\n",
      "C:\\Users\\Natal\\anaconda3\\Lib\\site-packages\\sklearn\\preprocessing\\_encoders.py:227: UserWarning: Found unknown categories in columns [3, 9, 14] during transform. These unknown categories will be encoded as all zeros\n",
      "  warnings.warn(\n",
      "C:\\Users\\Natal\\anaconda3\\Lib\\site-packages\\sklearn\\preprocessing\\_encoders.py:227: UserWarning: Found unknown categories in columns [5, 21] during transform. These unknown categories will be encoded as all zeros\n",
      "  warnings.warn(\n",
      "C:\\Users\\Natal\\anaconda3\\Lib\\site-packages\\sklearn\\preprocessing\\_encoders.py:227: UserWarning: Found unknown categories in columns [9, 21] during transform. These unknown categories will be encoded as all zeros\n",
      "  warnings.warn(\n",
      "C:\\Users\\Natal\\anaconda3\\Lib\\site-packages\\sklearn\\preprocessing\\_encoders.py:227: UserWarning: Found unknown categories in columns [0] during transform. These unknown categories will be encoded as all zeros\n",
      "  warnings.warn(\n",
      "[I 2024-07-08 10:31:52,966] Trial 112 finished with value: 0.9504299049727469 and parameters: {'scaling_method': 'minmax', 'encoding_method': 'onehot', 'drop': 'first', 'algorithm': 'lasso', 'alpha': 0.00024830550488678997}. Best is trial 72 with value: 0.950617005001886.\n",
      "C:\\Users\\Natal\\anaconda3\\Lib\\site-packages\\sklearn\\preprocessing\\_encoders.py:227: UserWarning: Found unknown categories in columns [3, 10] during transform. These unknown categories will be encoded as all zeros\n",
      "  warnings.warn(\n",
      "C:\\Users\\Natal\\anaconda3\\Lib\\site-packages\\sklearn\\preprocessing\\_encoders.py:227: UserWarning: Found unknown categories in columns [3, 9, 14] during transform. These unknown categories will be encoded as all zeros\n",
      "  warnings.warn(\n",
      "C:\\Users\\Natal\\anaconda3\\Lib\\site-packages\\sklearn\\preprocessing\\_encoders.py:227: UserWarning: Found unknown categories in columns [5, 21] during transform. These unknown categories will be encoded as all zeros\n",
      "  warnings.warn(\n",
      "C:\\Users\\Natal\\anaconda3\\Lib\\site-packages\\sklearn\\preprocessing\\_encoders.py:227: UserWarning: Found unknown categories in columns [9, 21] during transform. These unknown categories will be encoded as all zeros\n",
      "  warnings.warn(\n",
      "C:\\Users\\Natal\\anaconda3\\Lib\\site-packages\\sklearn\\preprocessing\\_encoders.py:227: UserWarning: Found unknown categories in columns [0] during transform. These unknown categories will be encoded as all zeros\n",
      "  warnings.warn(\n",
      "[I 2024-07-08 10:31:54,176] Trial 113 finished with value: 0.9504161842819692 and parameters: {'scaling_method': 'minmax', 'encoding_method': 'onehot', 'drop': 'first', 'algorithm': 'lasso', 'alpha': 0.00015073974358380593}. Best is trial 72 with value: 0.950617005001886.\n",
      "C:\\Users\\Natal\\anaconda3\\Lib\\site-packages\\sklearn\\preprocessing\\_encoders.py:227: UserWarning: Found unknown categories in columns [3, 10] during transform. These unknown categories will be encoded as all zeros\n",
      "  warnings.warn(\n",
      "C:\\Users\\Natal\\anaconda3\\Lib\\site-packages\\sklearn\\preprocessing\\_encoders.py:227: UserWarning: Found unknown categories in columns [3, 9, 14] during transform. These unknown categories will be encoded as all zeros\n",
      "  warnings.warn(\n",
      "C:\\Users\\Natal\\anaconda3\\Lib\\site-packages\\sklearn\\preprocessing\\_encoders.py:227: UserWarning: Found unknown categories in columns [5, 21] during transform. These unknown categories will be encoded as all zeros\n",
      "  warnings.warn(\n",
      "C:\\Users\\Natal\\anaconda3\\Lib\\site-packages\\sklearn\\preprocessing\\_encoders.py:227: UserWarning: Found unknown categories in columns [9, 21] during transform. These unknown categories will be encoded as all zeros\n",
      "  warnings.warn(\n",
      "C:\\Users\\Natal\\anaconda3\\Lib\\site-packages\\sklearn\\preprocessing\\_encoders.py:227: UserWarning: Found unknown categories in columns [0] during transform. These unknown categories will be encoded as all zeros\n",
      "  warnings.warn(\n",
      "[I 2024-07-08 10:31:55,752] Trial 114 finished with value: 0.9503206100996249 and parameters: {'scaling_method': 'minmax', 'encoding_method': 'onehot', 'drop': 'first', 'algorithm': 'lasso', 'alpha': 0.000100111417157277}. Best is trial 72 with value: 0.950617005001886.\n",
      "C:\\Users\\Natal\\anaconda3\\Lib\\site-packages\\sklearn\\preprocessing\\_encoders.py:227: UserWarning: Found unknown categories in columns [3, 10] during transform. These unknown categories will be encoded as all zeros\n",
      "  warnings.warn(\n",
      "C:\\Users\\Natal\\anaconda3\\Lib\\site-packages\\sklearn\\preprocessing\\_encoders.py:227: UserWarning: Found unknown categories in columns [3, 9, 14] during transform. These unknown categories will be encoded as all zeros\n",
      "  warnings.warn(\n",
      "C:\\Users\\Natal\\anaconda3\\Lib\\site-packages\\sklearn\\preprocessing\\_encoders.py:227: UserWarning: Found unknown categories in columns [5, 21] during transform. These unknown categories will be encoded as all zeros\n",
      "  warnings.warn(\n",
      "C:\\Users\\Natal\\anaconda3\\Lib\\site-packages\\sklearn\\preprocessing\\_encoders.py:227: UserWarning: Found unknown categories in columns [9, 21] during transform. These unknown categories will be encoded as all zeros\n",
      "  warnings.warn(\n",
      "C:\\Users\\Natal\\anaconda3\\Lib\\site-packages\\sklearn\\preprocessing\\_encoders.py:227: UserWarning: Found unknown categories in columns [0] during transform. These unknown categories will be encoded as all zeros\n",
      "  warnings.warn(\n",
      "[I 2024-07-08 10:31:58,262] Trial 115 finished with value: 0.9481750275085787 and parameters: {'scaling_method': 'minmax', 'encoding_method': 'onehot', 'drop': 'first', 'algorithm': 'en', 'alpha': 0.00042393708547729364, 'l1_ratio': 0.00020660568507681855}. Best is trial 72 with value: 0.950617005001886.\n"
     ]
    },
    {
     "name": "stderr",
     "output_type": "stream",
     "text": [
      "[I 2024-07-08 10:31:59,044] Trial 116 finished with value: 0.9508115794180636 and parameters: {'scaling_method': 'robust', 'encoding_method': 'onehot', 'drop': None, 'algorithm': 'lasso', 'alpha': 0.0003112943623901131}. Best is trial 116 with value: 0.9508115794180636.\n",
      "[I 2024-07-08 10:33:05,335] Trial 117 finished with value: 0.9405026432935989 and parameters: {'scaling_method': 'robust', 'encoding_method': 'onehot', 'drop': None, 'algorithm': 'gbr', 'n_estimators': 902, 'learning_rate': 0.34044036009965684, 'max_depth': 2, 'subsample': 0.6914912006901939, 'min_sample_split': 8, 'min_sample_leaf': 8}. Best is trial 116 with value: 0.9508115794180636.\n",
      "[I 2024-07-08 10:33:08,292] Trial 118 finished with value: -6.667616802855942 and parameters: {'scaling_method': 'robust', 'encoding_method': 'onehot', 'drop': None, 'algorithm': 'xgb', 'n_estimators': 218, 'learning_rate': 0.0012998394824280223, 'max_depth': 6, 'subsample': 0.5730586373436786, 'colsample_bytree': 0.9841607126022083, 'min_child_weight': 16}. Best is trial 116 with value: 0.9508115794180636.\n",
      "[I 2024-07-08 10:33:08,905] Trial 119 finished with value: 0.9476389742110017 and parameters: {'scaling_method': 'robust', 'encoding_method': 'onehot', 'drop': None, 'algorithm': 'lasso', 'alpha': 0.001212174301177491}. Best is trial 116 with value: 0.9508115794180636.\n",
      "C:\\Users\\Natal\\anaconda3\\Lib\\site-packages\\sklearn\\linear_model\\_coordinate_descent.py:628: ConvergenceWarning: Objective did not converge. You might want to increase the number of iterations, check the scale of the features or consider increasing regularisation. Duality gap: 1.184e-01, tolerance: 2.383e-02\n",
      "  model = cd_fast.enet_coordinate_descent(\n",
      "C:\\Users\\Natal\\anaconda3\\Lib\\site-packages\\sklearn\\linear_model\\_coordinate_descent.py:628: ConvergenceWarning: Objective did not converge. You might want to increase the number of iterations, check the scale of the features or consider increasing regularisation. Duality gap: 2.220e-01, tolerance: 2.345e-02\n",
      "  model = cd_fast.enet_coordinate_descent(\n",
      "C:\\Users\\Natal\\anaconda3\\Lib\\site-packages\\sklearn\\linear_model\\_coordinate_descent.py:628: ConvergenceWarning: Objective did not converge. You might want to increase the number of iterations, check the scale of the features or consider increasing regularisation. Duality gap: 1.677e-01, tolerance: 2.415e-02\n",
      "  model = cd_fast.enet_coordinate_descent(\n",
      "C:\\Users\\Natal\\anaconda3\\Lib\\site-packages\\sklearn\\linear_model\\_coordinate_descent.py:628: ConvergenceWarning: Objective did not converge. You might want to increase the number of iterations, check the scale of the features or consider increasing regularisation. Duality gap: 3.945e-02, tolerance: 2.409e-02\n",
      "  model = cd_fast.enet_coordinate_descent(\n",
      "C:\\Users\\Natal\\anaconda3\\Lib\\site-packages\\sklearn\\linear_model\\_coordinate_descent.py:628: ConvergenceWarning: Objective did not converge. You might want to increase the number of iterations, check the scale of the features or consider increasing regularisation. Duality gap: 4.446e-02, tolerance: 2.445e-02\n",
      "  model = cd_fast.enet_coordinate_descent(\n",
      "[I 2024-07-08 10:33:10,605] Trial 120 finished with value: 0.9415341256705085 and parameters: {'scaling_method': 'robust', 'encoding_method': 'ordinal', 'algorithm': 'en', 'alpha': 0.0007487298051802326, 'l1_ratio': 0.11420623752521494}. Best is trial 116 with value: 0.9508115794180636.\n",
      "[I 2024-07-08 10:33:11,311] Trial 121 finished with value: 0.950808934477098 and parameters: {'scaling_method': 'robust', 'encoding_method': 'onehot', 'drop': None, 'algorithm': 'lasso', 'alpha': 0.0003308043881502148}. Best is trial 116 with value: 0.9508115794180636.\n",
      "[I 2024-07-08 10:33:12,024] Trial 122 finished with value: 0.9508109381266777 and parameters: {'scaling_method': 'robust', 'encoding_method': 'onehot', 'drop': None, 'algorithm': 'lasso', 'alpha': 0.00031421179192918017}. Best is trial 116 with value: 0.9508115794180636.\n",
      "[I 2024-07-08 10:33:12,653] Trial 123 finished with value: 0.9506350209194107 and parameters: {'scaling_method': 'robust', 'encoding_method': 'onehot', 'drop': None, 'algorithm': 'lasso', 'alpha': 0.0004497906921121422}. Best is trial 116 with value: 0.9508115794180636.\n",
      "[I 2024-07-08 10:33:13,351] Trial 124 finished with value: 0.9507592759086023 and parameters: {'scaling_method': 'robust', 'encoding_method': 'onehot', 'drop': None, 'algorithm': 'lasso', 'alpha': 0.0003759605859487303}. Best is trial 116 with value: 0.9508115794180636.\n",
      "[I 2024-07-08 10:33:13,992] Trial 125 finished with value: 0.9507231067442191 and parameters: {'scaling_method': 'robust', 'encoding_method': 'onehot', 'drop': None, 'algorithm': 'lasso', 'alpha': 0.0004002718825589771}. Best is trial 116 with value: 0.9508115794180636.\n",
      "[I 2024-07-08 10:33:14,704] Trial 126 finished with value: 0.9508005623067662 and parameters: {'scaling_method': 'robust', 'encoding_method': 'onehot', 'drop': None, 'algorithm': 'lasso', 'alpha': 0.0003435976036276809}. Best is trial 116 with value: 0.9508115794180636.\n",
      "[I 2024-07-08 10:33:15,382] Trial 127 finished with value: 0.9507619281108848 and parameters: {'scaling_method': 'robust', 'encoding_method': 'onehot', 'drop': None, 'algorithm': 'lasso', 'alpha': 0.00037411701037047557}. Best is trial 116 with value: 0.9508115794180636.\n",
      "[I 2024-07-08 10:33:15,980] Trial 128 finished with value: 0.9503195151331509 and parameters: {'scaling_method': 'robust', 'encoding_method': 'onehot', 'drop': None, 'algorithm': 'lasso', 'alpha': 0.0005821111977101805}. Best is trial 116 with value: 0.9508115794180636.\n",
      "[I 2024-07-08 10:33:16,694] Trial 129 finished with value: 0.9508027249403119 and parameters: {'scaling_method': 'robust', 'encoding_method': 'onehot', 'drop': None, 'algorithm': 'lasso', 'alpha': 0.0003406048371035326}. Best is trial 116 with value: 0.9508115794180636.\n",
      "[I 2024-07-08 10:33:17,403] Trial 130 finished with value: 0.9508001110185553 and parameters: {'scaling_method': 'robust', 'encoding_method': 'onehot', 'drop': None, 'algorithm': 'lasso', 'alpha': 0.00034410810749093735}. Best is trial 116 with value: 0.9508115794180636.\n",
      "[I 2024-07-08 10:33:18,116] Trial 131 finished with value: 0.9508039749262792 and parameters: {'scaling_method': 'robust', 'encoding_method': 'onehot', 'drop': None, 'algorithm': 'lasso', 'alpha': 0.00033873273689850853}. Best is trial 116 with value: 0.9508115794180636.\n",
      "[I 2024-07-08 10:33:18,794] Trial 132 finished with value: 0.9507193735937189 and parameters: {'scaling_method': 'robust', 'encoding_method': 'onehot', 'drop': None, 'algorithm': 'lasso', 'alpha': 0.0004025645332130208}. Best is trial 116 with value: 0.9508115794180636.\n",
      "[I 2024-07-08 10:33:19,436] Trial 133 finished with value: 0.9506991769942713 and parameters: {'scaling_method': 'robust', 'encoding_method': 'onehot', 'drop': None, 'algorithm': 'lasso', 'alpha': 0.00041529523202161474}. Best is trial 116 with value: 0.9508115794180636.\n",
      "[I 2024-07-08 10:33:20,134] Trial 134 finished with value: 0.9507550652239456 and parameters: {'scaling_method': 'robust', 'encoding_method': 'onehot', 'drop': None, 'algorithm': 'lasso', 'alpha': 0.0003787947545871233}. Best is trial 116 with value: 0.9508115794180636.\n",
      "[I 2024-07-08 10:33:20,825] Trial 135 finished with value: 0.9507646857190831 and parameters: {'scaling_method': 'robust', 'encoding_method': 'onehot', 'drop': None, 'algorithm': 'lasso', 'alpha': 0.0003721160592840999}. Best is trial 116 with value: 0.9508115794180636.\n",
      "[I 2024-07-08 10:33:21,557] Trial 136 finished with value: 0.9508025087779005 and parameters: {'scaling_method': 'robust', 'encoding_method': 'onehot', 'drop': None, 'algorithm': 'lasso', 'alpha': 0.00034091883620198743}. Best is trial 116 with value: 0.9508115794180636.\n",
      "[I 2024-07-08 10:33:22,291] Trial 137 finished with value: 0.950811303453535 and parameters: {'scaling_method': 'robust', 'encoding_method': 'onehot', 'drop': None, 'algorithm': 'lasso', 'alpha': 0.00032226143641292637}. Best is trial 116 with value: 0.9508115794180636.\n",
      "[I 2024-07-08 10:33:23,073] Trial 138 finished with value: 0.9508125334796595 and parameters: {'scaling_method': 'robust', 'encoding_method': 'onehot', 'drop': None, 'algorithm': 'lasso', 'alpha': 0.0003056618286066335}. Best is trial 138 with value: 0.9508125334796595.\n"
     ]
    },
    {
     "name": "stderr",
     "output_type": "stream",
     "text": [
      "[I 2024-07-08 10:33:23,839] Trial 139 finished with value: 0.9508120418340444 and parameters: {'scaling_method': 'robust', 'encoding_method': 'onehot', 'drop': None, 'algorithm': 'lasso', 'alpha': 0.00030406267928934067}. Best is trial 138 with value: 0.9508125334796595.\n",
      "[I 2024-07-08 10:33:24,458] Trial 140 finished with value: 0.9500624585576197 and parameters: {'scaling_method': 'robust', 'encoding_method': 'onehot', 'drop': None, 'algorithm': 'lasso', 'alpha': 0.0006673544124237484}. Best is trial 138 with value: 0.9508125334796595.\n",
      "[I 2024-07-08 10:33:25,212] Trial 141 finished with value: 0.9508124744936358 and parameters: {'scaling_method': 'robust', 'encoding_method': 'onehot', 'drop': None, 'algorithm': 'lasso', 'alpha': 0.00030519412063227956}. Best is trial 138 with value: 0.9508125334796595.\n",
      "[I 2024-07-08 10:33:26,004] Trial 142 finished with value: 0.9508008348893316 and parameters: {'scaling_method': 'robust', 'encoding_method': 'onehot', 'drop': None, 'algorithm': 'lasso', 'alpha': 0.0002846670962551226}. Best is trial 138 with value: 0.9508125334796595.\n",
      "[I 2024-07-08 10:33:26,791] Trial 143 finished with value: 0.9508117800796546 and parameters: {'scaling_method': 'robust', 'encoding_method': 'onehot', 'drop': None, 'algorithm': 'lasso', 'alpha': 0.00030991818122645226}. Best is trial 138 with value: 0.9508125334796595.\n",
      "[I 2024-07-08 10:33:27,380] Trial 144 finished with value: 0.9489329326139091 and parameters: {'scaling_method': 'robust', 'encoding_method': 'onehot', 'drop': None, 'algorithm': 'lasso', 'alpha': 0.0009264685105878836}. Best is trial 138 with value: 0.9508125334796595.\n",
      "[I 2024-07-08 10:33:28,163] Trial 145 finished with value: 0.9508005174693877 and parameters: {'scaling_method': 'robust', 'encoding_method': 'onehot', 'drop': None, 'algorithm': 'lasso', 'alpha': 0.00028435470350705525}. Best is trial 138 with value: 0.9508125334796595.\n",
      "[I 2024-07-08 10:33:28,638] Trial 146 finished with value: -0.029441307066881618 and parameters: {'scaling_method': 'robust', 'encoding_method': 'onehot', 'drop': None, 'algorithm': 'lasso', 'alpha': 49.597938801076396}. Best is trial 138 with value: 0.9508125334796595.\n",
      "[I 2024-07-08 10:33:29,631] Trial 147 finished with value: 0.950200503238648 and parameters: {'scaling_method': 'robust', 'encoding_method': 'onehot', 'drop': None, 'algorithm': 'lasso', 'alpha': 0.00014174877891040332}. Best is trial 138 with value: 0.9508125334796595.\n",
      "[I 2024-07-08 10:33:30,451] Trial 148 finished with value: 0.9507564650947652 and parameters: {'scaling_method': 'robust', 'encoding_method': 'onehot', 'drop': None, 'algorithm': 'lasso', 'alpha': 0.0002627491188548942}. Best is trial 138 with value: 0.9508125334796595.\n",
      "[I 2024-07-08 10:33:31,201] Trial 149 finished with value: 0.9508100989237469 and parameters: {'scaling_method': 'robust', 'encoding_method': 'onehot', 'drop': None, 'algorithm': 'lasso', 'alpha': 0.0002956468383501165}. Best is trial 138 with value: 0.9508125334796595.\n",
      "[I 2024-07-08 10:40:54,923] Trial 150 finished with value: 0.838666269692253 and parameters: {'scaling_method': 'robust', 'encoding_method': 'onehot', 'drop': None, 'algorithm': 'rf', 'bootstrap': False, 'n_estimators': 997, 'max_depth': 81, 'min_sample_split': 4, 'min_sample_leaf': 9}. Best is trial 138 with value: 0.9508125334796595.\n",
      "[I 2024-07-08 10:40:55,700] Trial 151 finished with value: 0.9507972502097888 and parameters: {'scaling_method': 'robust', 'encoding_method': 'onehot', 'drop': None, 'algorithm': 'lasso', 'alpha': 0.00028129208782664775}. Best is trial 138 with value: 0.9508125334796595.\n",
      "[I 2024-07-08 10:40:56,406] Trial 152 finished with value: 0.9501683850883827 and parameters: {'scaling_method': 'robust', 'encoding_method': 'onehot', 'drop': None, 'algorithm': 'lasso', 'alpha': 0.0006360154687405587}. Best is trial 138 with value: 0.9508125334796595.\n",
      "[I 2024-07-08 10:40:57,218] Trial 153 finished with value: 0.9507957812484953 and parameters: {'scaling_method': 'robust', 'encoding_method': 'onehot', 'drop': None, 'algorithm': 'lasso', 'alpha': 0.0002799755057671989}. Best is trial 138 with value: 0.9508125334796595.\n",
      "[I 2024-07-08 10:40:57,889] Trial 154 finished with value: 0.9504302014875557 and parameters: {'scaling_method': 'robust', 'encoding_method': 'onehot', 'drop': None, 'algorithm': 'lasso', 'alpha': 0.0005356215817020461}. Best is trial 138 with value: 0.9508125334796595.\n",
      "[I 2024-07-08 10:40:58,667] Trial 155 finished with value: 0.9508074273047356 and parameters: {'scaling_method': 'robust', 'encoding_method': 'onehot', 'drop': None, 'algorithm': 'lasso', 'alpha': 0.00029123596813121765}. Best is trial 138 with value: 0.9508125334796595.\n",
      "[I 2024-07-08 10:41:11,345] Trial 156 finished with value: 0.8221124008595813 and parameters: {'scaling_method': 'robust', 'encoding_method': 'onehot', 'drop': None, 'algorithm': 'ada', 'learning_rate': 0.09671853380385909, 'loss': 'square', 'n_estimators': 78}. Best is trial 138 with value: 0.9508125334796595.\n",
      "[I 2024-07-08 10:41:12,411] Trial 157 finished with value: 0.9502265660190119 and parameters: {'scaling_method': 'robust', 'encoding_method': 'onehot', 'drop': None, 'algorithm': 'lasso', 'alpha': 0.0001467966186884795}. Best is trial 138 with value: 0.9508125334796595.\n",
      "[I 2024-07-08 10:41:12,889] Trial 158 finished with value: 0.9418808467381024 and parameters: {'scaling_method': 'robust', 'encoding_method': 'ordinal', 'algorithm': 'lasso', 'alpha': 0.0010471321527630382}. Best is trial 138 with value: 0.9508125334796595.\n",
      "[I 2024-07-08 10:41:13,578] Trial 159 finished with value: 0.9500599528216987 and parameters: {'scaling_method': 'robust', 'encoding_method': 'onehot', 'drop': None, 'algorithm': 'lasso', 'alpha': 0.0006680584958327878}. Best is trial 138 with value: 0.9508125334796595.\n",
      "[I 2024-07-08 10:41:14,435] Trial 160 finished with value: 0.9507492589828942 and parameters: {'scaling_method': 'robust', 'encoding_method': 'onehot', 'drop': None, 'algorithm': 'lasso', 'alpha': 0.0002605238537262008}. Best is trial 138 with value: 0.9508125334796595.\n",
      "[I 2024-07-08 10:41:15,196] Trial 161 finished with value: 0.9508102480434596 and parameters: {'scaling_method': 'robust', 'encoding_method': 'onehot', 'drop': None, 'algorithm': 'lasso', 'alpha': 0.00029635667458811633}. Best is trial 138 with value: 0.9508125334796595.\n",
      "[I 2024-07-08 10:41:16,033] Trial 162 finished with value: 0.9507931355819096 and parameters: {'scaling_method': 'robust', 'encoding_method': 'onehot', 'drop': None, 'algorithm': 'lasso', 'alpha': 0.00027800539495410746}. Best is trial 138 with value: 0.9508125334796595.\n",
      "[I 2024-07-08 10:41:16,718] Trial 163 finished with value: 0.9504867092638136 and parameters: {'scaling_method': 'robust', 'encoding_method': 'onehot', 'drop': None, 'algorithm': 'lasso', 'alpha': 0.0005145452020484817}. Best is trial 138 with value: 0.9508125334796595.\n",
      "[I 2024-07-08 10:41:17,798] Trial 164 finished with value: 0.9501678846785481 and parameters: {'scaling_method': 'robust', 'encoding_method': 'onehot', 'drop': None, 'algorithm': 'lasso', 'alpha': 0.00013582459392875762}. Best is trial 138 with value: 0.9508125334796595.\n",
      "[I 2024-07-08 10:41:18,697] Trial 165 finished with value: 0.9505575559178041 and parameters: {'scaling_method': 'robust', 'encoding_method': 'onehot', 'drop': None, 'algorithm': 'lasso', 'alpha': 0.00021563327161421586}. Best is trial 138 with value: 0.9508125334796595.\n",
      "[I 2024-07-08 10:41:19,160] Trial 166 finished with value: -0.029441307066881618 and parameters: {'scaling_method': 'robust', 'encoding_method': 'onehot', 'drop': None, 'algorithm': 'lasso', 'alpha': 765.7128448562192}. Best is trial 138 with value: 0.9508125334796595.\n",
      "[I 2024-07-08 10:41:19,709] Trial 167 finished with value: 0.9458054326326734 and parameters: {'scaling_method': 'robust', 'encoding_method': 'onehot', 'drop': None, 'algorithm': 'ridge', 'alpha': 0.00022647723868084036}. Best is trial 138 with value: 0.9508125334796595.\n",
      "[I 2024-07-08 10:41:20,180] Trial 168 finished with value: -0.00880382845097769 and parameters: {'scaling_method': 'robust', 'encoding_method': 'onehot', 'drop': None, 'algorithm': 'lasso', 'alpha': 0.6557856632260938}. Best is trial 138 with value: 0.9508125334796595.\n"
     ]
    },
    {
     "name": "stderr",
     "output_type": "stream",
     "text": [
      "[I 2024-07-08 10:41:20,971] Trial 169 finished with value: 0.9508080321678772 and parameters: {'scaling_method': 'robust', 'encoding_method': 'onehot', 'drop': None, 'algorithm': 'lasso', 'alpha': 0.0002921277153152075}. Best is trial 138 with value: 0.9508125334796595.\n",
      "[I 2024-07-08 10:41:22,091] Trial 170 finished with value: 0.9501689281680938 and parameters: {'scaling_method': 'robust', 'encoding_method': 'onehot', 'drop': None, 'algorithm': 'lasso', 'alpha': 0.00013598564982807433}. Best is trial 138 with value: 0.9508125334796595.\n",
      "[I 2024-07-08 10:41:22,884] Trial 171 finished with value: 0.9508070583226983 and parameters: {'scaling_method': 'robust', 'encoding_method': 'onehot', 'drop': None, 'algorithm': 'lasso', 'alpha': 0.0002908242205133235}. Best is trial 138 with value: 0.9508125334796595.\n",
      "[I 2024-07-08 10:41:23,566] Trial 172 finished with value: 0.9505064311789182 and parameters: {'scaling_method': 'robust', 'encoding_method': 'onehot', 'drop': None, 'algorithm': 'lasso', 'alpha': 0.0005071596732174551}. Best is trial 138 with value: 0.9508125334796595.\n",
      "[I 2024-07-08 10:41:24,370] Trial 173 finished with value: 0.9508118441042729 and parameters: {'scaling_method': 'robust', 'encoding_method': 'onehot', 'drop': None, 'algorithm': 'lasso', 'alpha': 0.00031989157415046604}. Best is trial 138 with value: 0.9508125334796595.\n",
      "[I 2024-07-08 10:41:25,004] Trial 174 finished with value: 0.949768395040436 and parameters: {'scaling_method': 'robust', 'encoding_method': 'onehot', 'drop': None, 'algorithm': 'lasso', 'alpha': 0.0007449957955773636}. Best is trial 138 with value: 0.9508125334796595.\n",
      "[I 2024-07-08 10:41:25,947] Trial 175 finished with value: 0.9504247698839746 and parameters: {'scaling_method': 'robust', 'encoding_method': 'onehot', 'drop': None, 'algorithm': 'lasso', 'alpha': 0.00018535695396913886}. Best is trial 138 with value: 0.9508125334796595.\n",
      "[I 2024-07-08 10:43:23,952] Trial 176 finished with value: 0.9473235146027796 and parameters: {'scaling_method': 'robust', 'encoding_method': 'onehot', 'drop': None, 'algorithm': 'gbr', 'n_estimators': 857, 'learning_rate': 0.020387042017646774, 'max_depth': 3, 'subsample': 0.8624590753787903, 'min_sample_split': 7, 'min_sample_leaf': 5}. Best is trial 138 with value: 0.9508125334796595.\n",
      "[I 2024-07-08 10:43:24,743] Trial 177 finished with value: 0.9505130617833648 and parameters: {'scaling_method': 'robust', 'encoding_method': 'onehot', 'drop': None, 'algorithm': 'lasso', 'alpha': 0.0005046284614009172}. Best is trial 138 with value: 0.9508125334796595.\n",
      "[I 2024-07-08 10:43:30,419] Trial 178 finished with value: -6.669321548934424 and parameters: {'scaling_method': 'robust', 'encoding_method': 'onehot', 'drop': None, 'algorithm': 'xgb', 'n_estimators': 497, 'learning_rate': 0.00025115561178657466, 'max_depth': 5, 'subsample': 0.7592184818515518, 'colsample_bytree': 0.8274576036302594, 'min_child_weight': 13}. Best is trial 138 with value: 0.9508125334796595.\n",
      "[I 2024-07-08 10:43:31,291] Trial 179 finished with value: 0.9508112495697129 and parameters: {'scaling_method': 'robust', 'encoding_method': 'onehot', 'drop': None, 'algorithm': 'lasso', 'alpha': 0.00032268481145795725}. Best is trial 138 with value: 0.9508125334796595.\n",
      "[I 2024-07-08 10:43:32,703] Trial 180 finished with value: 0.9482691449430162 and parameters: {'scaling_method': 'maxabs', 'encoding_method': 'onehot', 'drop': None, 'algorithm': 'lasso', 'alpha': 0.0002124793089244561}. Best is trial 138 with value: 0.9508125334796595.\n",
      "[I 2024-07-08 10:43:33,596] Trial 181 finished with value: 0.9508046723135948 and parameters: {'scaling_method': 'robust', 'encoding_method': 'onehot', 'drop': None, 'algorithm': 'lasso', 'alpha': 0.0003376094780548408}. Best is trial 138 with value: 0.9508125334796595.\n",
      "[I 2024-07-08 10:43:34,419] Trial 182 finished with value: 0.9508065379920773 and parameters: {'scaling_method': 'robust', 'encoding_method': 'onehot', 'drop': None, 'algorithm': 'lasso', 'alpha': 0.00033483627155162134}. Best is trial 138 with value: 0.9508125334796595.\n",
      "[I 2024-07-08 10:43:34,931] Trial 183 finished with value: 0.7340715665013304 and parameters: {'scaling_method': 'robust', 'encoding_method': 'onehot', 'drop': None, 'algorithm': 'lasso', 'alpha': 0.07271219708076615}. Best is trial 138 with value: 0.9508125334796595.\n",
      "[I 2024-07-08 10:43:35,692] Trial 184 finished with value: 0.9505602037978023 and parameters: {'scaling_method': 'robust', 'encoding_method': 'onehot', 'drop': None, 'algorithm': 'lasso', 'alpha': 0.00048500019853878076}. Best is trial 138 with value: 0.9508125334796595.\n",
      "[I 2024-07-08 10:43:36,539] Trial 185 finished with value: 0.9508114385484966 and parameters: {'scaling_method': 'robust', 'encoding_method': 'onehot', 'drop': None, 'algorithm': 'lasso', 'alpha': 0.000321304878811568}. Best is trial 138 with value: 0.9508125334796595.\n",
      "[I 2024-07-08 10:43:37,140] Trial 186 finished with value: 0.9413515149157325 and parameters: {'scaling_method': 'standard', 'encoding_method': 'ordinal', 'algorithm': 'lasso', 'alpha': 0.00017142824767409271}. Best is trial 138 with value: 0.9508125334796595.\n",
      "[I 2024-07-08 10:43:37,839] Trial 187 finished with value: 0.9496609338864861 and parameters: {'scaling_method': 'robust', 'encoding_method': 'onehot', 'drop': None, 'algorithm': 'lasso', 'alpha': 0.0007717674030346936}. Best is trial 138 with value: 0.9508125334796595.\n",
      "[I 2024-07-08 10:45:18,317] Trial 188 finished with value: 0.906913050834044 and parameters: {'scaling_method': 'robust', 'encoding_method': 'onehot', 'drop': None, 'algorithm': 'rf', 'bootstrap': True, 'n_estimators': 177, 'max_depth': 47, 'min_sample_split': 2, 'min_sample_leaf': 2}. Best is trial 138 with value: 0.9508125334796595.\n",
      "[I 2024-07-08 10:45:19,180] Trial 189 finished with value: 0.9507210701378888 and parameters: {'scaling_method': 'robust', 'encoding_method': 'onehot', 'drop': None, 'algorithm': 'lasso', 'alpha': 0.00025284978532418446}. Best is trial 138 with value: 0.9508125334796595.\n",
      "[I 2024-07-08 10:46:00,836] Trial 190 finished with value: 0.764177967706654 and parameters: {'scaling_method': 'robust', 'encoding_method': 'onehot', 'drop': None, 'algorithm': 'ada', 'learning_rate': 0.004925633409711973, 'loss': 'exponential', 'n_estimators': 262}. Best is trial 138 with value: 0.9508125334796595.\n",
      "[I 2024-07-08 10:46:01,545] Trial 191 finished with value: 0.950776783502176 and parameters: {'scaling_method': 'robust', 'encoding_method': 'onehot', 'drop': None, 'algorithm': 'lasso', 'alpha': 0.00036361145657398377}. Best is trial 138 with value: 0.9508125334796595.\n",
      "[I 2024-07-08 10:46:02,366] Trial 192 finished with value: 0.9508125685081981 and parameters: {'scaling_method': 'robust', 'encoding_method': 'onehot', 'drop': None, 'algorithm': 'lasso', 'alpha': 0.000305954350488747}. Best is trial 192 with value: 0.9508125685081981.\n",
      "[I 2024-07-08 10:46:03,132] Trial 193 finished with value: 0.9505663503424436 and parameters: {'scaling_method': 'robust', 'encoding_method': 'onehot', 'drop': None, 'algorithm': 'lasso', 'alpha': 0.00048243783348120224}. Best is trial 192 with value: 0.9508125685081981.\n",
      "[I 2024-07-08 10:46:04,060] Trial 194 finished with value: 0.950651853154987 and parameters: {'scaling_method': 'robust', 'encoding_method': 'onehot', 'drop': None, 'algorithm': 'lasso', 'alpha': 0.00023680092186166213}. Best is trial 192 with value: 0.9508125685081981.\n",
      "[I 2024-07-08 10:46:05,155] Trial 195 finished with value: 0.9500814576399593 and parameters: {'scaling_method': 'robust', 'encoding_method': 'onehot', 'drop': None, 'algorithm': 'lasso', 'alpha': 0.00012030863375873172}. Best is trial 192 with value: 0.9508125685081981.\n",
      "[I 2024-07-08 10:46:05,969] Trial 196 finished with value: 0.9508109657329606 and parameters: {'scaling_method': 'robust', 'encoding_method': 'onehot', 'drop': None, 'algorithm': 'lasso', 'alpha': 0.0003143634151410138}. Best is trial 192 with value: 0.9508125685081981.\n",
      "[I 2024-07-08 10:46:06,804] Trial 197 finished with value: 0.9504658897973156 and parameters: {'scaling_method': 'robust', 'encoding_method': 'onehot', 'drop': None, 'algorithm': 'lasso', 'alpha': 0.00019483054199499015}. Best is trial 192 with value: 0.9508125685081981.\n"
     ]
    },
    {
     "name": "stderr",
     "output_type": "stream",
     "text": [
      "[I 2024-07-08 10:46:07,440] Trial 198 finished with value: 0.9501547132194716 and parameters: {'scaling_method': 'robust', 'encoding_method': 'onehot', 'drop': None, 'algorithm': 'lasso', 'alpha': 0.0006402216747315148}. Best is trial 192 with value: 0.9508125685081981.\n",
      "[I 2024-07-08 10:46:08,299] Trial 199 finished with value: 0.9508003810858396 and parameters: {'scaling_method': 'robust', 'encoding_method': 'onehot', 'drop': None, 'algorithm': 'lasso', 'alpha': 0.0002842214495409678}. Best is trial 192 with value: 0.9508125685081981.\n"
     ]
    }
   ],
   "source": [
    "study.optimize(lambda trial: objective(trial, X, y), n_trials=200)"
   ]
  },
  {
   "cell_type": "code",
   "execution_count": 13,
   "id": "2151b316",
   "metadata": {},
   "outputs": [
    {
     "data": {
      "text/plain": [
       "FrozenTrial(number=192, state=1, values=[0.9508125685081981], datetime_start=datetime.datetime(2024, 7, 8, 10, 46, 1, 546028), datetime_complete=datetime.datetime(2024, 7, 8, 10, 46, 2, 365898), params={'scaling_method': 'robust', 'encoding_method': 'onehot', 'drop': None, 'algorithm': 'lasso', 'alpha': 0.000305954350488747}, user_attrs={}, system_attrs={}, intermediate_values={}, distributions={'scaling_method': CategoricalDistribution(choices=('standard', 'minmax', 'maxabs', 'robust')), 'encoding_method': CategoricalDistribution(choices=('ordinal', 'onehot')), 'drop': CategoricalDistribution(choices=(None, 'first')), 'algorithm': CategoricalDistribution(choices=('ridge', 'lasso', 'en', 'xgb', 'gbr', 'rf', 'ada')), 'alpha': FloatDistribution(high=1000.0, log=True, low=0.0001, step=None)}, trial_id=192, value=None)"
      ]
     },
     "execution_count": 13,
     "metadata": {},
     "output_type": "execute_result"
    }
   ],
   "source": [
    "study.best_trial"
   ]
  },
  {
   "cell_type": "code",
   "execution_count": 14,
   "id": "d86dc4b7",
   "metadata": {},
   "outputs": [],
   "source": [
    "trial_number = []\n",
    "score = []\n",
    "algorithm = []\n",
    "parameters = []\n",
    "optuna_dict = {}\n",
    "trials = range(200)\n",
    "\n",
    "for trial in trials:\n",
    "    trial_number.append(study.get_trials()[trial].number)\n",
    "    score.append(study.get_trials()[trial].value)\n",
    "    algorithm.append(study.get_trials()[trial].params['algorithm'])\n",
    "    parameters.append(list(study.get_trials()[trial].params.items()))\n",
    "\n",
    "optuna_dict['Trial'] = trial_number\n",
    "optuna_dict['Score'] = score\n",
    "optuna_dict['Algorithm'] = algorithm\n",
    "optuna_dict['Parameters'] = parameters\n",
    "\n",
    "\n",
    "df_optuna = pd.DataFrame.from_dict(optuna_dict)"
   ]
  },
  {
   "cell_type": "code",
   "execution_count": 15,
   "id": "f6a2f396",
   "metadata": {},
   "outputs": [
    {
     "data": {
      "text/html": [
       "<div>\n",
       "<style scoped>\n",
       "    .dataframe tbody tr th:only-of-type {\n",
       "        vertical-align: middle;\n",
       "    }\n",
       "\n",
       "    .dataframe tbody tr th {\n",
       "        vertical-align: top;\n",
       "    }\n",
       "\n",
       "    .dataframe thead th {\n",
       "        text-align: right;\n",
       "    }\n",
       "</style>\n",
       "<table border=\"1\" class=\"dataframe\">\n",
       "  <thead>\n",
       "    <tr style=\"text-align: right;\">\n",
       "      <th></th>\n",
       "      <th>Trial</th>\n",
       "      <th>Score</th>\n",
       "      <th>Algorithm</th>\n",
       "      <th>Parameters</th>\n",
       "    </tr>\n",
       "  </thead>\n",
       "  <tbody>\n",
       "    <tr>\n",
       "      <th>0</th>\n",
       "      <td>0</td>\n",
       "      <td>-0.029441</td>\n",
       "      <td>lasso</td>\n",
       "      <td>[(scaling_method, standard), (encoding_method,...</td>\n",
       "    </tr>\n",
       "    <tr>\n",
       "      <th>1</th>\n",
       "      <td>1</td>\n",
       "      <td>0.839368</td>\n",
       "      <td>rf</td>\n",
       "      <td>[(scaling_method, maxabs), (encoding_method, o...</td>\n",
       "    </tr>\n",
       "    <tr>\n",
       "      <th>2</th>\n",
       "      <td>2</td>\n",
       "      <td>0.864145</td>\n",
       "      <td>ada</td>\n",
       "      <td>[(scaling_method, standard), (encoding_method,...</td>\n",
       "    </tr>\n",
       "    <tr>\n",
       "      <th>3</th>\n",
       "      <td>3</td>\n",
       "      <td>0.894666</td>\n",
       "      <td>rf</td>\n",
       "      <td>[(scaling_method, maxabs), (encoding_method, o...</td>\n",
       "    </tr>\n",
       "    <tr>\n",
       "      <th>4</th>\n",
       "      <td>4</td>\n",
       "      <td>0.854980</td>\n",
       "      <td>ada</td>\n",
       "      <td>[(scaling_method, standard), (encoding_method,...</td>\n",
       "    </tr>\n",
       "    <tr>\n",
       "      <th>...</th>\n",
       "      <td>...</td>\n",
       "      <td>...</td>\n",
       "      <td>...</td>\n",
       "      <td>...</td>\n",
       "    </tr>\n",
       "    <tr>\n",
       "      <th>195</th>\n",
       "      <td>195</td>\n",
       "      <td>0.950081</td>\n",
       "      <td>lasso</td>\n",
       "      <td>[(scaling_method, robust), (encoding_method, o...</td>\n",
       "    </tr>\n",
       "    <tr>\n",
       "      <th>196</th>\n",
       "      <td>196</td>\n",
       "      <td>0.950811</td>\n",
       "      <td>lasso</td>\n",
       "      <td>[(scaling_method, robust), (encoding_method, o...</td>\n",
       "    </tr>\n",
       "    <tr>\n",
       "      <th>197</th>\n",
       "      <td>197</td>\n",
       "      <td>0.950466</td>\n",
       "      <td>lasso</td>\n",
       "      <td>[(scaling_method, robust), (encoding_method, o...</td>\n",
       "    </tr>\n",
       "    <tr>\n",
       "      <th>198</th>\n",
       "      <td>198</td>\n",
       "      <td>0.950155</td>\n",
       "      <td>lasso</td>\n",
       "      <td>[(scaling_method, robust), (encoding_method, o...</td>\n",
       "    </tr>\n",
       "    <tr>\n",
       "      <th>199</th>\n",
       "      <td>199</td>\n",
       "      <td>0.950800</td>\n",
       "      <td>lasso</td>\n",
       "      <td>[(scaling_method, robust), (encoding_method, o...</td>\n",
       "    </tr>\n",
       "  </tbody>\n",
       "</table>\n",
       "<p>200 rows × 4 columns</p>\n",
       "</div>"
      ],
      "text/plain": [
       "     Trial     Score Algorithm  \\\n",
       "0        0 -0.029441     lasso   \n",
       "1        1  0.839368        rf   \n",
       "2        2  0.864145       ada   \n",
       "3        3  0.894666        rf   \n",
       "4        4  0.854980       ada   \n",
       "..     ...       ...       ...   \n",
       "195    195  0.950081     lasso   \n",
       "196    196  0.950811     lasso   \n",
       "197    197  0.950466     lasso   \n",
       "198    198  0.950155     lasso   \n",
       "199    199  0.950800     lasso   \n",
       "\n",
       "                                            Parameters  \n",
       "0    [(scaling_method, standard), (encoding_method,...  \n",
       "1    [(scaling_method, maxabs), (encoding_method, o...  \n",
       "2    [(scaling_method, standard), (encoding_method,...  \n",
       "3    [(scaling_method, maxabs), (encoding_method, o...  \n",
       "4    [(scaling_method, standard), (encoding_method,...  \n",
       "..                                                 ...  \n",
       "195  [(scaling_method, robust), (encoding_method, o...  \n",
       "196  [(scaling_method, robust), (encoding_method, o...  \n",
       "197  [(scaling_method, robust), (encoding_method, o...  \n",
       "198  [(scaling_method, robust), (encoding_method, o...  \n",
       "199  [(scaling_method, robust), (encoding_method, o...  \n",
       "\n",
       "[200 rows x 4 columns]"
      ]
     },
     "execution_count": 15,
     "metadata": {},
     "output_type": "execute_result"
    }
   ],
   "source": [
    "df_optuna"
   ]
  },
  {
   "cell_type": "code",
   "execution_count": 26,
   "id": "3a5b9844",
   "metadata": {},
   "outputs": [],
   "source": [
    "df_optuna.to_csv('optuna_all_200.csv')"
   ]
  },
  {
   "cell_type": "code",
   "execution_count": 16,
   "id": "7a90ec86",
   "metadata": {},
   "outputs": [
    {
     "data": {
      "text/html": [
       "<div>\n",
       "<style scoped>\n",
       "    .dataframe tbody tr th:only-of-type {\n",
       "        vertical-align: middle;\n",
       "    }\n",
       "\n",
       "    .dataframe tbody tr th {\n",
       "        vertical-align: top;\n",
       "    }\n",
       "\n",
       "    .dataframe thead th {\n",
       "        text-align: right;\n",
       "    }\n",
       "</style>\n",
       "<table border=\"1\" class=\"dataframe\">\n",
       "  <thead>\n",
       "    <tr style=\"text-align: right;\">\n",
       "      <th></th>\n",
       "      <th>Trial</th>\n",
       "      <th>Score</th>\n",
       "      <th>Algorithm</th>\n",
       "      <th>Parameters</th>\n",
       "    </tr>\n",
       "  </thead>\n",
       "  <tbody>\n",
       "    <tr>\n",
       "      <th>15</th>\n",
       "      <td>15</td>\n",
       "      <td>0.950615</td>\n",
       "      <td>en</td>\n",
       "      <td>[(scaling_method, robust), (encoding_method, o...</td>\n",
       "    </tr>\n",
       "    <tr>\n",
       "      <th>34</th>\n",
       "      <td>34</td>\n",
       "      <td>0.873818</td>\n",
       "      <td>ada</td>\n",
       "      <td>[(scaling_method, robust), (encoding_method, o...</td>\n",
       "    </tr>\n",
       "    <tr>\n",
       "      <th>50</th>\n",
       "      <td>50</td>\n",
       "      <td>0.945827</td>\n",
       "      <td>ridge</td>\n",
       "      <td>[(scaling_method, robust), (encoding_method, o...</td>\n",
       "    </tr>\n",
       "    <tr>\n",
       "      <th>77</th>\n",
       "      <td>77</td>\n",
       "      <td>0.946084</td>\n",
       "      <td>xgb</td>\n",
       "      <td>[(scaling_method, standard), (encoding_method,...</td>\n",
       "    </tr>\n",
       "    <tr>\n",
       "      <th>95</th>\n",
       "      <td>95</td>\n",
       "      <td>0.907803</td>\n",
       "      <td>rf</td>\n",
       "      <td>[(scaling_method, minmax), (encoding_method, o...</td>\n",
       "    </tr>\n",
       "    <tr>\n",
       "      <th>176</th>\n",
       "      <td>176</td>\n",
       "      <td>0.947324</td>\n",
       "      <td>gbr</td>\n",
       "      <td>[(scaling_method, robust), (encoding_method, o...</td>\n",
       "    </tr>\n",
       "    <tr>\n",
       "      <th>192</th>\n",
       "      <td>192</td>\n",
       "      <td>0.950813</td>\n",
       "      <td>lasso</td>\n",
       "      <td>[(scaling_method, robust), (encoding_method, o...</td>\n",
       "    </tr>\n",
       "  </tbody>\n",
       "</table>\n",
       "</div>"
      ],
      "text/plain": [
       "     Trial     Score Algorithm  \\\n",
       "15      15  0.950615        en   \n",
       "34      34  0.873818       ada   \n",
       "50      50  0.945827     ridge   \n",
       "77      77  0.946084       xgb   \n",
       "95      95  0.907803        rf   \n",
       "176    176  0.947324       gbr   \n",
       "192    192  0.950813     lasso   \n",
       "\n",
       "                                            Parameters  \n",
       "15   [(scaling_method, robust), (encoding_method, o...  \n",
       "34   [(scaling_method, robust), (encoding_method, o...  \n",
       "50   [(scaling_method, robust), (encoding_method, o...  \n",
       "77   [(scaling_method, standard), (encoding_method,...  \n",
       "95   [(scaling_method, minmax), (encoding_method, o...  \n",
       "176  [(scaling_method, robust), (encoding_method, o...  \n",
       "192  [(scaling_method, robust), (encoding_method, o...  "
      ]
     },
     "execution_count": 16,
     "metadata": {},
     "output_type": "execute_result"
    }
   ],
   "source": [
    "idx = df_optuna.groupby('Algorithm')['Score'].transform(max) == df_optuna['Score']\n",
    "df_optuna[idx]"
   ]
  },
  {
   "cell_type": "code",
   "execution_count": 17,
   "id": "978fc1a8",
   "metadata": {},
   "outputs": [
    {
     "data": {
      "text/plain": [
       "Algorithm\n",
       "lasso    118\n",
       "en        38\n",
       "rf         9\n",
       "ada        9\n",
       "xgb        9\n",
       "ridge      9\n",
       "gbr        8\n",
       "Name: count, dtype: int64"
      ]
     },
     "execution_count": 17,
     "metadata": {},
     "output_type": "execute_result"
    }
   ],
   "source": [
    "df_optuna.Algorithm.value_counts()"
   ]
  },
  {
   "cell_type": "code",
   "execution_count": 37,
   "id": "7522fb94",
   "metadata": {},
   "outputs": [
    {
     "data": {
      "application/vnd.plotly.v1+json": {
       "config": {
        "plotlyServerURL": "https://plot.ly"
       },
       "data": [
        {
         "customdata": [
          [
           [
            [
             "scaling_method",
             "maxabs"
            ],
            [
             "encoding_method",
             "ordinal"
            ],
            [
             "algorithm",
             "rf"
            ],
            [
             "bootstrap",
             false
            ],
            [
             "n_estimators",
             246
            ],
            [
             "max_depth",
             64
            ],
            [
             "min_sample_split",
             3
            ],
            [
             "min_sample_leaf",
             10
            ]
           ]
          ],
          [
           [
            [
             "scaling_method",
             "maxabs"
            ],
            [
             "encoding_method",
             "ordinal"
            ],
            [
             "algorithm",
             "rf"
            ],
            [
             "bootstrap",
             true
            ],
            [
             "n_estimators",
             98
            ],
            [
             "max_depth",
             19
            ],
            [
             "min_sample_split",
             3
            ],
            [
             "min_sample_leaf",
             7
            ]
           ]
          ],
          [
           [
            [
             "scaling_method",
             "robust"
            ],
            [
             "encoding_method",
             "onehot"
            ],
            [
             "drop",
             "first"
            ],
            [
             "algorithm",
             "rf"
            ],
            [
             "bootstrap",
             true
            ],
            [
             "n_estimators",
             577
            ],
            [
             "max_depth",
             92
            ],
            [
             "min_sample_split",
             10
            ],
            [
             "min_sample_leaf",
             10
            ]
           ]
          ],
          [
           [
            [
             "scaling_method",
             "robust"
            ],
            [
             "encoding_method",
             "onehot"
            ],
            [
             "drop",
             "first"
            ],
            [
             "algorithm",
             "rf"
            ],
            [
             "bootstrap",
             false
            ],
            [
             "n_estimators",
             14
            ],
            [
             "max_depth",
             37
            ],
            [
             "min_sample_split",
             5
            ],
            [
             "min_sample_leaf",
             1
            ]
           ]
          ],
          [
           [
            [
             "scaling_method",
             "robust"
            ],
            [
             "encoding_method",
             "onehot"
            ],
            [
             "drop",
             "first"
            ],
            [
             "algorithm",
             "rf"
            ],
            [
             "bootstrap",
             false
            ],
            [
             "n_estimators",
             895
            ],
            [
             "max_depth",
             94
            ],
            [
             "min_sample_split",
             5
            ],
            [
             "min_sample_leaf",
             4
            ]
           ]
          ],
          [
           [
            [
             "scaling_method",
             "minmax"
            ],
            [
             "encoding_method",
             "onehot"
            ],
            [
             "drop",
             null
            ],
            [
             "algorithm",
             "rf"
            ],
            [
             "bootstrap",
             true
            ],
            [
             "n_estimators",
             153
            ],
            [
             "max_depth",
             69
            ],
            [
             "min_sample_split",
             2
            ],
            [
             "min_sample_leaf",
             4
            ]
           ]
          ],
          [
           [
            [
             "scaling_method",
             "minmax"
            ],
            [
             "encoding_method",
             "onehot"
            ],
            [
             "drop",
             "first"
            ],
            [
             "algorithm",
             "rf"
            ],
            [
             "bootstrap",
             true
            ],
            [
             "n_estimators",
             568
            ],
            [
             "max_depth",
             38
            ],
            [
             "min_sample_split",
             5
            ],
            [
             "min_sample_leaf",
             1
            ]
           ]
          ],
          [
           [
            [
             "scaling_method",
             "robust"
            ],
            [
             "encoding_method",
             "onehot"
            ],
            [
             "drop",
             null
            ],
            [
             "algorithm",
             "rf"
            ],
            [
             "bootstrap",
             false
            ],
            [
             "n_estimators",
             997
            ],
            [
             "max_depth",
             81
            ],
            [
             "min_sample_split",
             4
            ],
            [
             "min_sample_leaf",
             9
            ]
           ]
          ],
          [
           [
            [
             "scaling_method",
             "robust"
            ],
            [
             "encoding_method",
             "onehot"
            ],
            [
             "drop",
             null
            ],
            [
             "algorithm",
             "rf"
            ],
            [
             "bootstrap",
             true
            ],
            [
             "n_estimators",
             177
            ],
            [
             "max_depth",
             47
            ],
            [
             "min_sample_split",
             2
            ],
            [
             "min_sample_leaf",
             2
            ]
           ]
          ]
         ],
         "hovertemplate": "Algorithm=rf<br>Optuna Trial=%{x}<br>Score (R-Squared)=%{y}<br>Parameters=%{customdata[0]}<extra></extra>",
         "legendgroup": "rf",
         "marker": {
          "color": "#636efa",
          "symbol": "circle"
         },
         "mode": "markers",
         "name": "rf",
         "orientation": "v",
         "showlegend": true,
         "type": "scatter",
         "x": [
          1,
          3,
          32,
          35,
          45,
          79,
          95,
          150,
          188
         ],
         "xaxis": "x",
         "y": [
          0.8393679950758675,
          0.8946663651310004,
          0.8882791010176795,
          0.8260266607408215,
          0.829813063005301,
          0.9016671887430037,
          0.9078031988613993,
          0.838666269692253,
          0.906913050834044
         ],
         "yaxis": "y"
        },
        {
         "customdata": [
          [
           [
            [
             "scaling_method",
             "standard"
            ],
            [
             "encoding_method",
             "ordinal"
            ],
            [
             "algorithm",
             "ada"
            ],
            [
             "learning_rate",
             0.17448906672786785
            ],
            [
             "loss",
             "linear"
            ],
            [
             "n_estimators",
             279
            ]
           ]
          ],
          [
           [
            [
             "scaling_method",
             "standard"
            ],
            [
             "encoding_method",
             "onehot"
            ],
            [
             "drop",
             "first"
            ],
            [
             "algorithm",
             "ada"
            ],
            [
             "learning_rate",
             0.04631870085995089
            ],
            [
             "loss",
             "exponential"
            ],
            [
             "n_estimators",
             606
            ]
           ]
          ],
          [
           [
            [
             "scaling_method",
             "robust"
            ],
            [
             "encoding_method",
             "onehot"
            ],
            [
             "drop",
             "first"
            ],
            [
             "algorithm",
             "ada"
            ],
            [
             "learning_rate",
             0.7677788768573152
            ],
            [
             "loss",
             "square"
            ],
            [
             "n_estimators",
             745
            ]
           ]
          ],
          [
           [
            [
             "scaling_method",
             "standard"
            ],
            [
             "encoding_method",
             "onehot"
            ],
            [
             "drop",
             "first"
            ],
            [
             "algorithm",
             "ada"
            ],
            [
             "learning_rate",
             0.0005601672835746196
            ],
            [
             "loss",
             "square"
            ],
            [
             "n_estimators",
             405
            ]
           ]
          ],
          [
           [
            [
             "scaling_method",
             "robust"
            ],
            [
             "encoding_method",
             "onehot"
            ],
            [
             "drop",
             null
            ],
            [
             "algorithm",
             "ada"
            ],
            [
             "learning_rate",
             0.00010982300862210091
            ],
            [
             "loss",
             "exponential"
            ],
            [
             "n_estimators",
             654
            ]
           ]
          ],
          [
           [
            [
             "scaling_method",
             "maxabs"
            ],
            [
             "encoding_method",
             "onehot"
            ],
            [
             "drop",
             null
            ],
            [
             "algorithm",
             "ada"
            ],
            [
             "learning_rate",
             0.011926326396994716
            ],
            [
             "loss",
             "linear"
            ],
            [
             "n_estimators",
             27
            ]
           ]
          ],
          [
           [
            [
             "scaling_method",
             "robust"
            ],
            [
             "encoding_method",
             "onehot"
            ],
            [
             "drop",
             "first"
            ],
            [
             "algorithm",
             "ada"
            ],
            [
             "learning_rate",
             0.002133530766129601
            ],
            [
             "loss",
             "linear"
            ],
            [
             "n_estimators",
             343
            ]
           ]
          ],
          [
           [
            [
             "scaling_method",
             "robust"
            ],
            [
             "encoding_method",
             "onehot"
            ],
            [
             "drop",
             null
            ],
            [
             "algorithm",
             "ada"
            ],
            [
             "learning_rate",
             0.09671853380385909
            ],
            [
             "loss",
             "square"
            ],
            [
             "n_estimators",
             78
            ]
           ]
          ],
          [
           [
            [
             "scaling_method",
             "robust"
            ],
            [
             "encoding_method",
             "onehot"
            ],
            [
             "drop",
             null
            ],
            [
             "algorithm",
             "ada"
            ],
            [
             "learning_rate",
             0.004925633409711973
            ],
            [
             "loss",
             "exponential"
            ],
            [
             "n_estimators",
             262
            ]
           ]
          ]
         ],
         "hovertemplate": "Algorithm=ada<br>Optuna Trial=%{x}<br>Score (R-Squared)=%{y}<br>Parameters=%{customdata[0]}<extra></extra>",
         "legendgroup": "ada",
         "marker": {
          "color": "#EF553B",
          "symbol": "circle"
         },
         "mode": "markers",
         "name": "ada",
         "orientation": "v",
         "showlegend": true,
         "type": "scatter",
         "x": [
          2,
          4,
          34,
          37,
          48,
          80,
          98,
          156,
          190
         ],
         "xaxis": "x",
         "y": [
          0.8641449377737869,
          0.8549804963350909,
          0.8738175132754747,
          0.745408937325795,
          0.745382293303729,
          0.7481498751107789,
          0.757303529912053,
          0.8221124008595813,
          0.764177967706654
         ],
         "yaxis": "y"
        },
        {
         "customdata": [
          [
           [
            [
             "scaling_method",
             "robust"
            ],
            [
             "encoding_method",
             "onehot"
            ],
            [
             "drop",
             "first"
            ],
            [
             "algorithm",
             "xgb"
            ],
            [
             "n_estimators",
             326
            ],
            [
             "learning_rate",
             0.01640850457629452
            ],
            [
             "max_depth",
             6
            ],
            [
             "subsample",
             0.9420185743653489
            ],
            [
             "colsample_bytree",
             0.7031024498108345
            ],
            [
             "min_child_weight",
             13
            ]
           ]
          ],
          [
           [
            [
             "scaling_method",
             "minmax"
            ],
            [
             "encoding_method",
             "ordinal"
            ],
            [
             "algorithm",
             "xgb"
            ],
            [
             "n_estimators",
             504
            ],
            [
             "learning_rate",
             0.38609102336011014
            ],
            [
             "max_depth",
             4
            ],
            [
             "subsample",
             0.7720674692916107
            ],
            [
             "colsample_bytree",
             0.6449948679603827
            ],
            [
             "min_child_weight",
             19
            ]
           ]
          ],
          [
           [
            [
             "scaling_method",
             "robust"
            ],
            [
             "encoding_method",
             "onehot"
            ],
            [
             "drop",
             null
            ],
            [
             "algorithm",
             "xgb"
            ],
            [
             "n_estimators",
             717
            ],
            [
             "learning_rate",
             0.03126580037888188
            ],
            [
             "max_depth",
             6
            ],
            [
             "subsample",
             0.6557350467436853
            ],
            [
             "colsample_bytree",
             0.5152264689828334
            ],
            [
             "min_child_weight",
             20
            ]
           ]
          ],
          [
           [
            [
             "scaling_method",
             "standard"
            ],
            [
             "encoding_method",
             "ordinal"
            ],
            [
             "algorithm",
             "xgb"
            ],
            [
             "n_estimators",
             464
            ],
            [
             "learning_rate",
             0.12965422936539858
            ],
            [
             "max_depth",
             7
            ],
            [
             "subsample",
             0.7120741631505831
            ],
            [
             "colsample_bytree",
             0.9909148335740652
            ],
            [
             "min_child_weight",
             10
            ]
           ]
          ],
          [
           [
            [
             "scaling_method",
             "standard"
            ],
            [
             "encoding_method",
             "onehot"
            ],
            [
             "drop",
             null
            ],
            [
             "algorithm",
             "xgb"
            ],
            [
             "n_estimators",
             396
            ],
            [
             "learning_rate",
             0.055140411147590045
            ],
            [
             "max_depth",
             7
            ],
            [
             "subsample",
             0.8280272618689128
            ],
            [
             "colsample_bytree",
             0.85331268622696
            ],
            [
             "min_child_weight",
             17
            ]
           ]
          ]
         ],
         "hovertemplate": "Algorithm=xgb<br>Optuna Trial=%{x}<br>Score (R-Squared)=%{y}<br>Parameters=%{customdata[0]}<extra></extra>",
         "legendgroup": "xgb",
         "marker": {
          "color": "#00cc96",
          "symbol": "circle"
         },
         "mode": "markers",
         "name": "xgb",
         "orientation": "v",
         "showlegend": true,
         "type": "scatter",
         "x": [
          5,
          9,
          42,
          47,
          77
         ],
         "xaxis": "x",
         "y": [
          0.8881874953150927,
          0.9334970888614625,
          0.9453494419229346,
          0.9438393295738219,
          0.9460839946239545
         ],
         "yaxis": "y"
        },
        {
         "customdata": [
          [
           [
            [
             "scaling_method",
             "minmax"
            ],
            [
             "encoding_method",
             "ordinal"
            ],
            [
             "algorithm",
             "ridge"
            ],
            [
             "alpha",
             0.012995670998157008
            ]
           ]
          ],
          [
           [
            [
             "scaling_method",
             "minmax"
            ],
            [
             "encoding_method",
             "onehot"
            ],
            [
             "drop",
             null
            ],
            [
             "algorithm",
             "ridge"
            ],
            [
             "alpha",
             0.0001468389907212205
            ]
           ]
          ],
          [
           [
            [
             "scaling_method",
             "minmax"
            ],
            [
             "encoding_method",
             "onehot"
            ],
            [
             "drop",
             null
            ],
            [
             "algorithm",
             "ridge"
            ],
            [
             "alpha",
             0.00011035779400701059
            ]
           ]
          ],
          [
           [
            [
             "scaling_method",
             "minmax"
            ],
            [
             "encoding_method",
             "onehot"
            ],
            [
             "drop",
             null
            ],
            [
             "algorithm",
             "ridge"
            ],
            [
             "alpha",
             0.00010121663304673973
            ]
           ]
          ],
          [
           [
            [
             "scaling_method",
             "robust"
            ],
            [
             "encoding_method",
             "onehot"
            ],
            [
             "drop",
             null
            ],
            [
             "algorithm",
             "ridge"
            ],
            [
             "alpha",
             0.004772481935016255
            ]
           ]
          ],
          [
           [
            [
             "scaling_method",
             "minmax"
            ],
            [
             "encoding_method",
             "onehot"
            ],
            [
             "drop",
             "first"
            ],
            [
             "algorithm",
             "ridge"
            ],
            [
             "alpha",
             0.00027429414805309606
            ]
           ]
          ],
          [
           [
            [
             "scaling_method",
             "robust"
            ],
            [
             "encoding_method",
             "onehot"
            ],
            [
             "drop",
             null
            ],
            [
             "algorithm",
             "ridge"
            ],
            [
             "alpha",
             0.0028467849906836677
            ]
           ]
          ],
          [
           [
            [
             "scaling_method",
             "minmax"
            ],
            [
             "encoding_method",
             "onehot"
            ],
            [
             "drop",
             "first"
            ],
            [
             "algorithm",
             "ridge"
            ],
            [
             "alpha",
             0.00204398748096475
            ]
           ]
          ],
          [
           [
            [
             "scaling_method",
             "robust"
            ],
            [
             "encoding_method",
             "onehot"
            ],
            [
             "drop",
             null
            ],
            [
             "algorithm",
             "ridge"
            ],
            [
             "alpha",
             0.00022647723868084036
            ]
           ]
          ]
         ],
         "hovertemplate": "Algorithm=ridge<br>Optuna Trial=%{x}<br>Score (R-Squared)=%{y}<br>Parameters=%{customdata[0]}<extra></extra>",
         "legendgroup": "ridge",
         "marker": {
          "color": "#ab63fa",
          "symbol": "circle"
         },
         "mode": "markers",
         "name": "ridge",
         "orientation": "v",
         "showlegend": true,
         "type": "scatter",
         "x": [
          8,
          10,
          11,
          12,
          50,
          59,
          87,
          108,
          167
         ],
         "xaxis": "x",
         "y": [
          0.9408378006661791,
          0.9458060353129094,
          0.9458056208126621,
          0.9458055169302406,
          0.9458266337548127,
          0.9457751449096741,
          0.945817700514205,
          0.9457984584559422,
          0.9458054326326734
         ],
         "yaxis": "y"
        },
        {
         "customdata": [
          [
           [
            [
             "scaling_method",
             "minmax"
            ],
            [
             "encoding_method",
             "onehot"
            ],
            [
             "drop",
             null
            ],
            [
             "algorithm",
             "en"
            ],
            [
             "alpha",
             0.00011010104040317402
            ],
            [
             "l1_ratio",
             0.0001455025676712381
            ]
           ]
          ],
          [
           [
            [
             "scaling_method",
             "robust"
            ],
            [
             "encoding_method",
             "onehot"
            ],
            [
             "drop",
             null
            ],
            [
             "algorithm",
             "en"
            ],
            [
             "alpha",
             0.005798418815720318
            ],
            [
             "l1_ratio",
             0.03787907308950946
            ]
           ]
          ],
          [
           [
            [
             "scaling_method",
             "robust"
            ],
            [
             "encoding_method",
             "onehot"
            ],
            [
             "drop",
             null
            ],
            [
             "algorithm",
             "en"
            ],
            [
             "alpha",
             0.01549613842650819
            ],
            [
             "l1_ratio",
             0.1029104274828476
            ]
           ]
          ],
          [
           [
            [
             "scaling_method",
             "robust"
            ],
            [
             "encoding_method",
             "onehot"
            ],
            [
             "drop",
             null
            ],
            [
             "algorithm",
             "en"
            ],
            [
             "alpha",
             0.005258496728628177
            ],
            [
             "l1_ratio",
             0.003778377776623307
            ]
           ]
          ],
          [
           [
            [
             "scaling_method",
             "robust"
            ],
            [
             "encoding_method",
             "onehot"
            ],
            [
             "drop",
             null
            ],
            [
             "algorithm",
             "en"
            ],
            [
             "alpha",
             0.016323134427685126
            ],
            [
             "l1_ratio",
             0.02422004623082698
            ]
           ]
          ],
          [
           [
            [
             "scaling_method",
             "robust"
            ],
            [
             "encoding_method",
             "onehot"
            ],
            [
             "drop",
             null
            ],
            [
             "algorithm",
             "en"
            ],
            [
             "alpha",
             0.3362954482428801
            ],
            [
             "l1_ratio",
             0.0022756750504489658
            ]
           ]
          ],
          [
           [
            [
             "scaling_method",
             "robust"
            ],
            [
             "encoding_method",
             "onehot"
            ],
            [
             "drop",
             null
            ],
            [
             "algorithm",
             "en"
            ],
            [
             "alpha",
             0.005876606135668252
            ],
            [
             "l1_ratio",
             0.047101066054478176
            ]
           ]
          ],
          [
           [
            [
             "scaling_method",
             "robust"
            ],
            [
             "encoding_method",
             "onehot"
            ],
            [
             "drop",
             null
            ],
            [
             "algorithm",
             "en"
            ],
            [
             "alpha",
             0.0020925680898552304
            ],
            [
             "l1_ratio",
             0.9704431454327804
            ]
           ]
          ],
          [
           [
            [
             "scaling_method",
             "robust"
            ],
            [
             "encoding_method",
             "onehot"
            ],
            [
             "drop",
             null
            ],
            [
             "algorithm",
             "en"
            ],
            [
             "alpha",
             0.20896925467965963
            ],
            [
             "l1_ratio",
             0.007314608383401472
            ]
           ]
          ],
          [
           [
            [
             "scaling_method",
             "robust"
            ],
            [
             "encoding_method",
             "onehot"
            ],
            [
             "drop",
             "first"
            ],
            [
             "algorithm",
             "en"
            ],
            [
             "alpha",
             0.0015256062109749709
            ],
            [
             "l1_ratio",
             0.0754093089886176
            ]
           ]
          ],
          [
           [
            [
             "scaling_method",
             "robust"
            ],
            [
             "encoding_method",
             "onehot"
            ],
            [
             "drop",
             "first"
            ],
            [
             "algorithm",
             "en"
            ],
            [
             "alpha",
             0.0010038574827459451
            ],
            [
             "l1_ratio",
             0.21302491402558216
            ]
           ]
          ],
          [
           [
            [
             "scaling_method",
             "robust"
            ],
            [
             "encoding_method",
             "onehot"
            ],
            [
             "drop",
             "first"
            ],
            [
             "algorithm",
             "en"
            ],
            [
             "alpha",
             0.0008608564486929174
            ],
            [
             "l1_ratio",
             0.02884428444223919
            ]
           ]
          ],
          [
           [
            [
             "scaling_method",
             "robust"
            ],
            [
             "encoding_method",
             "onehot"
            ],
            [
             "drop",
             "first"
            ],
            [
             "algorithm",
             "en"
            ],
            [
             "alpha",
             0.0008420495381024598
            ],
            [
             "l1_ratio",
             0.08792956359810299
            ]
           ]
          ],
          [
           [
            [
             "scaling_method",
             "maxabs"
            ],
            [
             "encoding_method",
             "onehot"
            ],
            [
             "drop",
             "first"
            ],
            [
             "algorithm",
             "en"
            ],
            [
             "alpha",
             0.05566575548888979
            ],
            [
             "l1_ratio",
             0.11820072246312327
            ]
           ]
          ],
          [
           [
            [
             "scaling_method",
             "maxabs"
            ],
            [
             "encoding_method",
             "ordinal"
            ],
            [
             "algorithm",
             "en"
            ],
            [
             "alpha",
             0.0008470099235999984
            ],
            [
             "l1_ratio",
             0.021059157881047296
            ]
           ]
          ],
          [
           [
            [
             "scaling_method",
             "robust"
            ],
            [
             "encoding_method",
             "onehot"
            ],
            [
             "drop",
             "first"
            ],
            [
             "algorithm",
             "en"
            ],
            [
             "alpha",
             0.006359993639482432
            ],
            [
             "l1_ratio",
             0.6251098987933636
            ]
           ]
          ],
          [
           [
            [
             "scaling_method",
             "standard"
            ],
            [
             "encoding_method",
             "ordinal"
            ],
            [
             "algorithm",
             "en"
            ],
            [
             "alpha",
             0.02737810901015294
            ],
            [
             "l1_ratio",
             0.15851119534205688
            ]
           ]
          ],
          [
           [
            [
             "scaling_method",
             "robust"
            ],
            [
             "encoding_method",
             "onehot"
            ],
            [
             "drop",
             null
            ],
            [
             "algorithm",
             "en"
            ],
            [
             "alpha",
             0.0045128425873121976
            ],
            [
             "l1_ratio",
             0.0005494472544311735
            ]
           ]
          ],
          [
           [
            [
             "scaling_method",
             "robust"
            ],
            [
             "encoding_method",
             "onehot"
            ],
            [
             "drop",
             null
            ],
            [
             "algorithm",
             "en"
            ],
            [
             "alpha",
             0.0023642932360382228
            ],
            [
             "l1_ratio",
             0.006099948859058689
            ]
           ]
          ],
          [
           [
            [
             "scaling_method",
             "robust"
            ],
            [
             "encoding_method",
             "onehot"
            ],
            [
             "drop",
             null
            ],
            [
             "algorithm",
             "en"
            ],
            [
             "alpha",
             0.00035418219965819745
            ],
            [
             "l1_ratio",
             0.05351026632533589
            ]
           ]
          ],
          [
           [
            [
             "scaling_method",
             "maxabs"
            ],
            [
             "encoding_method",
             "onehot"
            ],
            [
             "drop",
             null
            ],
            [
             "algorithm",
             "en"
            ],
            [
             "alpha",
             0.06136425793647579
            ],
            [
             "l1_ratio",
             1.6148019373240607e-05
            ]
           ]
          ],
          [
           [
            [
             "scaling_method",
             "robust"
            ],
            [
             "encoding_method",
             "onehot"
            ],
            [
             "drop",
             "first"
            ],
            [
             "algorithm",
             "en"
            ],
            [
             "alpha",
             0.0010342598724227769
            ],
            [
             "l1_ratio",
             0.05088903824018064
            ]
           ]
          ],
          [
           [
            [
             "scaling_method",
             "robust"
            ],
            [
             "encoding_method",
             "onehot"
            ],
            [
             "drop",
             "first"
            ],
            [
             "algorithm",
             "en"
            ],
            [
             "alpha",
             0.0015753158750906877
            ],
            [
             "l1_ratio",
             0.2398013244205824
            ]
           ]
          ],
          [
           [
            [
             "scaling_method",
             "robust"
            ],
            [
             "encoding_method",
             "onehot"
            ],
            [
             "drop",
             "first"
            ],
            [
             "algorithm",
             "en"
            ],
            [
             "alpha",
             0.00824056148701565
            ],
            [
             "l1_ratio",
             0.30270536956781763
            ]
           ]
          ],
          [
           [
            [
             "scaling_method",
             "robust"
            ],
            [
             "encoding_method",
             "onehot"
            ],
            [
             "drop",
             "first"
            ],
            [
             "algorithm",
             "en"
            ],
            [
             "alpha",
             0.0003685855154742009
            ],
            [
             "l1_ratio",
             0.25721071195017775
            ]
           ]
          ],
          [
           [
            [
             "scaling_method",
             "robust"
            ],
            [
             "encoding_method",
             "onehot"
            ],
            [
             "drop",
             "first"
            ],
            [
             "algorithm",
             "en"
            ],
            [
             "alpha",
             0.00032540205918819246
            ],
            [
             "l1_ratio",
             0.3145147537278743
            ]
           ]
          ],
          [
           [
            [
             "scaling_method",
             "minmax"
            ],
            [
             "encoding_method",
             "onehot"
            ],
            [
             "drop",
             "first"
            ],
            [
             "algorithm",
             "en"
            ],
            [
             "alpha",
             0.0002861929856396532
            ],
            [
             "l1_ratio",
             0.46854683593831487
            ]
           ]
          ],
          [
           [
            [
             "scaling_method",
             "minmax"
            ],
            [
             "encoding_method",
             "onehot"
            ],
            [
             "drop",
             "first"
            ],
            [
             "algorithm",
             "en"
            ],
            [
             "alpha",
             0.0015528611620145869
            ],
            [
             "l1_ratio",
             0.5495329816889547
            ]
           ]
          ],
          [
           [
            [
             "scaling_method",
             "minmax"
            ],
            [
             "encoding_method",
             "ordinal"
            ],
            [
             "algorithm",
             "en"
            ],
            [
             "alpha",
             0.0018410504742799882
            ],
            [
             "l1_ratio",
             0.05450895639399225
            ]
           ]
          ],
          [
           [
            [
             "scaling_method",
             "minmax"
            ],
            [
             "encoding_method",
             "onehot"
            ],
            [
             "drop",
             null
            ],
            [
             "algorithm",
             "en"
            ],
            [
             "alpha",
             0.00023495638773309187
            ],
            [
             "l1_ratio",
             0.015562619849928256
            ]
           ]
          ],
          [
           [
            [
             "scaling_method",
             "minmax"
            ],
            [
             "encoding_method",
             "onehot"
            ],
            [
             "drop",
             null
            ],
            [
             "algorithm",
             "en"
            ],
            [
             "alpha",
             0.0007729618718592502
            ],
            [
             "l1_ratio",
             0.0011891018868038594
            ]
           ]
          ],
          [
           [
            [
             "scaling_method",
             "maxabs"
            ],
            [
             "encoding_method",
             "onehot"
            ],
            [
             "drop",
             "first"
            ],
            [
             "algorithm",
             "en"
            ],
            [
             "alpha",
             0.02541113505427002
            ],
            [
             "l1_ratio",
             0.011157661503861426
            ]
           ]
          ],
          [
           [
            [
             "scaling_method",
             "robust"
            ],
            [
             "encoding_method",
             "ordinal"
            ],
            [
             "algorithm",
             "en"
            ],
            [
             "alpha",
             0.00023724907471272028
            ],
            [
             "l1_ratio",
             0.20217373718384113
            ]
           ]
          ],
          [
           [
            [
             "scaling_method",
             "robust"
            ],
            [
             "encoding_method",
             "onehot"
            ],
            [
             "drop",
             null
            ],
            [
             "algorithm",
             "en"
            ],
            [
             "alpha",
             0.0005431127311346696
            ],
            [
             "l1_ratio",
             0.037328950487298285
            ]
           ]
          ],
          [
           [
            [
             "scaling_method",
             "minmax"
            ],
            [
             "encoding_method",
             "onehot"
            ],
            [
             "drop",
             "first"
            ],
            [
             "algorithm",
             "en"
            ],
            [
             "alpha",
             0.00042393708547729364
            ],
            [
             "l1_ratio",
             0.00020660568507681855
            ]
           ]
          ],
          [
           [
            [
             "scaling_method",
             "robust"
            ],
            [
             "encoding_method",
             "ordinal"
            ],
            [
             "algorithm",
             "en"
            ],
            [
             "alpha",
             0.0007487298051802326
            ],
            [
             "l1_ratio",
             0.11420623752521494
            ]
           ]
          ]
         ],
         "hovertemplate": "Algorithm=en<br>Optuna Trial=%{x}<br>Score (R-Squared)=%{y}<br>Parameters=%{customdata[0]}<extra></extra>",
         "legendgroup": "en",
         "marker": {
          "color": "#FFA15A",
          "symbol": "circle"
         },
         "mode": "markers",
         "name": "en",
         "orientation": "v",
         "showlegend": true,
         "type": "scatter",
         "x": [
          13,
          15,
          16,
          17,
          18,
          19,
          21,
          22,
          23,
          25,
          26,
          28,
          31,
          33,
          36,
          39,
          40,
          41,
          43,
          44,
          46,
          51,
          52,
          53,
          54,
          55,
          56,
          57,
          58,
          94,
          97,
          100,
          106,
          109,
          115,
          120
         ],
         "xaxis": "x",
         "y": [
          0.9470588749996617,
          0.9506146499925329,
          0.9454934218066602,
          0.949897721202668,
          0.9494882570686602,
          0.9192456360955411,
          0.9506084694145299,
          0.9437030111741564,
          0.9298687541274153,
          0.9502918463775044,
          0.9504703761860972,
          0.9489120573469423,
          0.9498560012919262,
          0.7368214868842125,
          0.9383079459302032,
          0.9411548656561404,
          0.9407217253975555,
          0.9496120297199757,
          0.9492701054227599,
          0.9480340988957616,
          0.8390386539783339,
          0.9495981699591987,
          0.9505249733105627,
          0.9426246540890681,
          0.9499162969416757,
          0.9499820008422049,
          0.9502817747063315,
          0.9431483448027016,
          0.9403646137987517,
          0.9477503965819534,
          0.9481262698391015,
          0.8899020395001224,
          0.9412812829172692,
          0.9483387674827204,
          0.9481750275085787,
          0.9415341256705085
         ],
         "yaxis": "y"
        },
        {
         "customdata": [
          [
           [
            [
             "scaling_method",
             "robust"
            ],
            [
             "encoding_method",
             "onehot"
            ],
            [
             "drop",
             null
            ],
            [
             "algorithm",
             "lasso"
            ],
            [
             "alpha",
             0.002900118815171004
            ]
           ]
          ],
          [
           [
            [
             "scaling_method",
             "robust"
            ],
            [
             "encoding_method",
             "ordinal"
            ],
            [
             "algorithm",
             "lasso"
            ],
            [
             "alpha",
             0.0005793817977169322
            ]
           ]
          ],
          [
           [
            [
             "scaling_method",
             "minmax"
            ],
            [
             "encoding_method",
             "onehot"
            ],
            [
             "drop",
             "first"
            ],
            [
             "algorithm",
             "lasso"
            ],
            [
             "alpha",
             0.00021648475921838916
            ]
           ]
          ],
          [
           [
            [
             "scaling_method",
             "minmax"
            ],
            [
             "encoding_method",
             "onehot"
            ],
            [
             "drop",
             "first"
            ],
            [
             "algorithm",
             "lasso"
            ],
            [
             "alpha",
             0.0001750252331418698
            ]
           ]
          ],
          [
           [
            [
             "scaling_method",
             "minmax"
            ],
            [
             "encoding_method",
             "onehot"
            ],
            [
             "drop",
             "first"
            ],
            [
             "algorithm",
             "lasso"
            ],
            [
             "alpha",
             0.00014501287344099588
            ]
           ]
          ],
          [
           [
            [
             "scaling_method",
             "minmax"
            ],
            [
             "encoding_method",
             "onehot"
            ],
            [
             "drop",
             "first"
            ],
            [
             "algorithm",
             "lasso"
            ],
            [
             "alpha",
             0.00011849493864022492
            ]
           ]
          ],
          [
           [
            [
             "scaling_method",
             "minmax"
            ],
            [
             "encoding_method",
             "onehot"
            ],
            [
             "drop",
             "first"
            ],
            [
             "algorithm",
             "lasso"
            ],
            [
             "alpha",
             0.000191537049431855
            ]
           ]
          ],
          [
           [
            [
             "scaling_method",
             "minmax"
            ],
            [
             "encoding_method",
             "onehot"
            ],
            [
             "drop",
             "first"
            ],
            [
             "algorithm",
             "lasso"
            ],
            [
             "alpha",
             0.00018600960151238512
            ]
           ]
          ],
          [
           [
            [
             "scaling_method",
             "minmax"
            ],
            [
             "encoding_method",
             "onehot"
            ],
            [
             "drop",
             "first"
            ],
            [
             "algorithm",
             "lasso"
            ],
            [
             "alpha",
             0.0004973765104169647
            ]
           ]
          ],
          [
           [
            [
             "scaling_method",
             "minmax"
            ],
            [
             "encoding_method",
             "onehot"
            ],
            [
             "drop",
             "first"
            ],
            [
             "algorithm",
             "lasso"
            ],
            [
             "alpha",
             0.012563827493497461
            ]
           ]
          ],
          [
           [
            [
             "scaling_method",
             "minmax"
            ],
            [
             "encoding_method",
             "onehot"
            ],
            [
             "drop",
             null
            ],
            [
             "algorithm",
             "lasso"
            ],
            [
             "alpha",
             0.0001704186019479177
            ]
           ]
          ],
          [
           [
            [
             "scaling_method",
             "minmax"
            ],
            [
             "encoding_method",
             "onehot"
            ],
            [
             "drop",
             null
            ],
            [
             "algorithm",
             "lasso"
            ],
            [
             "alpha",
             0.00010058428826414573
            ]
           ]
          ],
          [
           [
            [
             "scaling_method",
             "minmax"
            ],
            [
             "encoding_method",
             "onehot"
            ],
            [
             "drop",
             null
            ],
            [
             "algorithm",
             "lasso"
            ],
            [
             "alpha",
             0.00019949564973025357
            ]
           ]
          ],
          [
           [
            [
             "scaling_method",
             "minmax"
            ],
            [
             "encoding_method",
             "onehot"
            ],
            [
             "drop",
             null
            ],
            [
             "algorithm",
             "lasso"
            ],
            [
             "alpha",
             0.00046468492347373697
            ]
           ]
          ],
          [
           [
            [
             "scaling_method",
             "minmax"
            ],
            [
             "encoding_method",
             "onehot"
            ],
            [
             "drop",
             null
            ],
            [
             "algorithm",
             "lasso"
            ],
            [
             "alpha",
             0.003222916370942474
            ]
           ]
          ],
          [
           [
            [
             "scaling_method",
             "maxabs"
            ],
            [
             "encoding_method",
             "onehot"
            ],
            [
             "drop",
             null
            ],
            [
             "algorithm",
             "lasso"
            ],
            [
             "alpha",
             0.0011423941572979554
            ]
           ]
          ],
          [
           [
            [
             "scaling_method",
             "minmax"
            ],
            [
             "encoding_method",
             "onehot"
            ],
            [
             "drop",
             null
            ],
            [
             "algorithm",
             "lasso"
            ],
            [
             "alpha",
             0.0005800039486096819
            ]
           ]
          ],
          [
           [
            [
             "scaling_method",
             "minmax"
            ],
            [
             "encoding_method",
             "onehot"
            ],
            [
             "drop",
             "first"
            ],
            [
             "algorithm",
             "lasso"
            ],
            [
             "alpha",
             0.0001971837119333649
            ]
           ]
          ],
          [
           [
            [
             "scaling_method",
             "minmax"
            ],
            [
             "encoding_method",
             "onehot"
            ],
            [
             "drop",
             null
            ],
            [
             "algorithm",
             "lasso"
            ],
            [
             "alpha",
             0.000260420060035287
            ]
           ]
          ],
          [
           [
            [
             "scaling_method",
             "minmax"
            ],
            [
             "encoding_method",
             "onehot"
            ],
            [
             "drop",
             null
            ],
            [
             "algorithm",
             "lasso"
            ],
            [
             "alpha",
             0.0007404653000205496
            ]
           ]
          ],
          [
           [
            [
             "scaling_method",
             "minmax"
            ],
            [
             "encoding_method",
             "onehot"
            ],
            [
             "drop",
             null
            ],
            [
             "algorithm",
             "lasso"
            ],
            [
             "alpha",
             0.00030881824809650106
            ]
           ]
          ],
          [
           [
            [
             "scaling_method",
             "standard"
            ],
            [
             "encoding_method",
             "onehot"
            ],
            [
             "drop",
             null
            ],
            [
             "algorithm",
             "lasso"
            ],
            [
             "alpha",
             0.00022570217272519397
            ]
           ]
          ],
          [
           [
            [
             "scaling_method",
             "minmax"
            ],
            [
             "encoding_method",
             "onehot"
            ],
            [
             "drop",
             null
            ],
            [
             "algorithm",
             "lasso"
            ],
            [
             "alpha",
             0.0013428291937205817
            ]
           ]
          ],
          [
           [
            [
             "scaling_method",
             "minmax"
            ],
            [
             "encoding_method",
             "onehot"
            ],
            [
             "drop",
             "first"
            ],
            [
             "algorithm",
             "lasso"
            ],
            [
             "alpha",
             0.00015991116577042925
            ]
           ]
          ],
          [
           [
            [
             "scaling_method",
             "minmax"
            ],
            [
             "encoding_method",
             "onehot"
            ],
            [
             "drop",
             "first"
            ],
            [
             "algorithm",
             "lasso"
            ],
            [
             "alpha",
             0.0005647434307686057
            ]
           ]
          ],
          [
           [
            [
             "scaling_method",
             "minmax"
            ],
            [
             "encoding_method",
             "onehot"
            ],
            [
             "drop",
             "first"
            ],
            [
             "algorithm",
             "lasso"
            ],
            [
             "alpha",
             0.0001778078098964815
            ]
           ]
          ],
          [
           [
            [
             "scaling_method",
             "robust"
            ],
            [
             "encoding_method",
             "onehot"
            ],
            [
             "drop",
             "first"
            ],
            [
             "algorithm",
             "lasso"
            ],
            [
             "alpha",
             0.00011296409806943494
            ]
           ]
          ],
          [
           [
            [
             "scaling_method",
             "minmax"
            ],
            [
             "encoding_method",
             "onehot"
            ],
            [
             "drop",
             null
            ],
            [
             "algorithm",
             "lasso"
            ],
            [
             "alpha",
             0.00040917425002646383
            ]
           ]
          ],
          [
           [
            [
             "scaling_method",
             "minmax"
            ],
            [
             "encoding_method",
             "onehot"
            ],
            [
             "drop",
             "first"
            ],
            [
             "algorithm",
             "lasso"
            ],
            [
             "alpha",
             0.0001907069449723837
            ]
           ]
          ],
          [
           [
            [
             "scaling_method",
             "minmax"
            ],
            [
             "encoding_method",
             "onehot"
            ],
            [
             "drop",
             "first"
            ],
            [
             "algorithm",
             "lasso"
            ],
            [
             "alpha",
             0.00018656702321863817
            ]
           ]
          ],
          [
           [
            [
             "scaling_method",
             "minmax"
            ],
            [
             "encoding_method",
             "onehot"
            ],
            [
             "drop",
             "first"
            ],
            [
             "algorithm",
             "lasso"
            ],
            [
             "alpha",
             0.0003399585080097176
            ]
           ]
          ],
          [
           [
            [
             "scaling_method",
             "minmax"
            ],
            [
             "encoding_method",
             "onehot"
            ],
            [
             "drop",
             "first"
            ],
            [
             "algorithm",
             "lasso"
            ],
            [
             "alpha",
             0.007521777529803439
            ]
           ]
          ],
          [
           [
            [
             "scaling_method",
             "minmax"
            ],
            [
             "encoding_method",
             "onehot"
            ],
            [
             "drop",
             "first"
            ],
            [
             "algorithm",
             "lasso"
            ],
            [
             "alpha",
             0.000907603113352332
            ]
           ]
          ],
          [
           [
            [
             "scaling_method",
             "standard"
            ],
            [
             "encoding_method",
             "onehot"
            ],
            [
             "drop",
             "first"
            ],
            [
             "algorithm",
             "lasso"
            ],
            [
             "alpha",
             0.00010917911665398215
            ]
           ]
          ],
          [
           [
            [
             "scaling_method",
             "minmax"
            ],
            [
             "encoding_method",
             "onehot"
            ],
            [
             "drop",
             "first"
            ],
            [
             "algorithm",
             "lasso"
            ],
            [
             "alpha",
             0.0038622861855030256
            ]
           ]
          ],
          [
           [
            [
             "scaling_method",
             "minmax"
            ],
            [
             "encoding_method",
             "onehot"
            ],
            [
             "drop",
             "first"
            ],
            [
             "algorithm",
             "lasso"
            ],
            [
             "alpha",
             0.00017600999519226733
            ]
           ]
          ],
          [
           [
            [
             "scaling_method",
             "minmax"
            ],
            [
             "encoding_method",
             "onehot"
            ],
            [
             "drop",
             "first"
            ],
            [
             "algorithm",
             "lasso"
            ],
            [
             "alpha",
             0.00024830550488678997
            ]
           ]
          ],
          [
           [
            [
             "scaling_method",
             "minmax"
            ],
            [
             "encoding_method",
             "onehot"
            ],
            [
             "drop",
             "first"
            ],
            [
             "algorithm",
             "lasso"
            ],
            [
             "alpha",
             0.00015073974358380593
            ]
           ]
          ],
          [
           [
            [
             "scaling_method",
             "minmax"
            ],
            [
             "encoding_method",
             "onehot"
            ],
            [
             "drop",
             "first"
            ],
            [
             "algorithm",
             "lasso"
            ],
            [
             "alpha",
             0.000100111417157277
            ]
           ]
          ],
          [
           [
            [
             "scaling_method",
             "robust"
            ],
            [
             "encoding_method",
             "onehot"
            ],
            [
             "drop",
             null
            ],
            [
             "algorithm",
             "lasso"
            ],
            [
             "alpha",
             0.0003112943623901131
            ]
           ]
          ],
          [
           [
            [
             "scaling_method",
             "robust"
            ],
            [
             "encoding_method",
             "onehot"
            ],
            [
             "drop",
             null
            ],
            [
             "algorithm",
             "lasso"
            ],
            [
             "alpha",
             0.001212174301177491
            ]
           ]
          ],
          [
           [
            [
             "scaling_method",
             "robust"
            ],
            [
             "encoding_method",
             "onehot"
            ],
            [
             "drop",
             null
            ],
            [
             "algorithm",
             "lasso"
            ],
            [
             "alpha",
             0.0003308043881502148
            ]
           ]
          ],
          [
           [
            [
             "scaling_method",
             "robust"
            ],
            [
             "encoding_method",
             "onehot"
            ],
            [
             "drop",
             null
            ],
            [
             "algorithm",
             "lasso"
            ],
            [
             "alpha",
             0.00031421179192918017
            ]
           ]
          ],
          [
           [
            [
             "scaling_method",
             "robust"
            ],
            [
             "encoding_method",
             "onehot"
            ],
            [
             "drop",
             null
            ],
            [
             "algorithm",
             "lasso"
            ],
            [
             "alpha",
             0.0004497906921121422
            ]
           ]
          ],
          [
           [
            [
             "scaling_method",
             "robust"
            ],
            [
             "encoding_method",
             "onehot"
            ],
            [
             "drop",
             null
            ],
            [
             "algorithm",
             "lasso"
            ],
            [
             "alpha",
             0.0003759605859487303
            ]
           ]
          ],
          [
           [
            [
             "scaling_method",
             "robust"
            ],
            [
             "encoding_method",
             "onehot"
            ],
            [
             "drop",
             null
            ],
            [
             "algorithm",
             "lasso"
            ],
            [
             "alpha",
             0.0004002718825589771
            ]
           ]
          ],
          [
           [
            [
             "scaling_method",
             "robust"
            ],
            [
             "encoding_method",
             "onehot"
            ],
            [
             "drop",
             null
            ],
            [
             "algorithm",
             "lasso"
            ],
            [
             "alpha",
             0.0003435976036276809
            ]
           ]
          ],
          [
           [
            [
             "scaling_method",
             "robust"
            ],
            [
             "encoding_method",
             "onehot"
            ],
            [
             "drop",
             null
            ],
            [
             "algorithm",
             "lasso"
            ],
            [
             "alpha",
             0.00037411701037047557
            ]
           ]
          ],
          [
           [
            [
             "scaling_method",
             "robust"
            ],
            [
             "encoding_method",
             "onehot"
            ],
            [
             "drop",
             null
            ],
            [
             "algorithm",
             "lasso"
            ],
            [
             "alpha",
             0.0005821111977101805
            ]
           ]
          ],
          [
           [
            [
             "scaling_method",
             "robust"
            ],
            [
             "encoding_method",
             "onehot"
            ],
            [
             "drop",
             null
            ],
            [
             "algorithm",
             "lasso"
            ],
            [
             "alpha",
             0.0003406048371035326
            ]
           ]
          ],
          [
           [
            [
             "scaling_method",
             "robust"
            ],
            [
             "encoding_method",
             "onehot"
            ],
            [
             "drop",
             null
            ],
            [
             "algorithm",
             "lasso"
            ],
            [
             "alpha",
             0.00034410810749093735
            ]
           ]
          ],
          [
           [
            [
             "scaling_method",
             "robust"
            ],
            [
             "encoding_method",
             "onehot"
            ],
            [
             "drop",
             null
            ],
            [
             "algorithm",
             "lasso"
            ],
            [
             "alpha",
             0.00033873273689850853
            ]
           ]
          ],
          [
           [
            [
             "scaling_method",
             "robust"
            ],
            [
             "encoding_method",
             "onehot"
            ],
            [
             "drop",
             null
            ],
            [
             "algorithm",
             "lasso"
            ],
            [
             "alpha",
             0.0004025645332130208
            ]
           ]
          ],
          [
           [
            [
             "scaling_method",
             "robust"
            ],
            [
             "encoding_method",
             "onehot"
            ],
            [
             "drop",
             null
            ],
            [
             "algorithm",
             "lasso"
            ],
            [
             "alpha",
             0.00041529523202161474
            ]
           ]
          ],
          [
           [
            [
             "scaling_method",
             "robust"
            ],
            [
             "encoding_method",
             "onehot"
            ],
            [
             "drop",
             null
            ],
            [
             "algorithm",
             "lasso"
            ],
            [
             "alpha",
             0.0003787947545871233
            ]
           ]
          ],
          [
           [
            [
             "scaling_method",
             "robust"
            ],
            [
             "encoding_method",
             "onehot"
            ],
            [
             "drop",
             null
            ],
            [
             "algorithm",
             "lasso"
            ],
            [
             "alpha",
             0.0003721160592840999
            ]
           ]
          ],
          [
           [
            [
             "scaling_method",
             "robust"
            ],
            [
             "encoding_method",
             "onehot"
            ],
            [
             "drop",
             null
            ],
            [
             "algorithm",
             "lasso"
            ],
            [
             "alpha",
             0.00034091883620198743
            ]
           ]
          ],
          [
           [
            [
             "scaling_method",
             "robust"
            ],
            [
             "encoding_method",
             "onehot"
            ],
            [
             "drop",
             null
            ],
            [
             "algorithm",
             "lasso"
            ],
            [
             "alpha",
             0.00032226143641292637
            ]
           ]
          ],
          [
           [
            [
             "scaling_method",
             "robust"
            ],
            [
             "encoding_method",
             "onehot"
            ],
            [
             "drop",
             null
            ],
            [
             "algorithm",
             "lasso"
            ],
            [
             "alpha",
             0.0003056618286066335
            ]
           ]
          ],
          [
           [
            [
             "scaling_method",
             "robust"
            ],
            [
             "encoding_method",
             "onehot"
            ],
            [
             "drop",
             null
            ],
            [
             "algorithm",
             "lasso"
            ],
            [
             "alpha",
             0.00030406267928934067
            ]
           ]
          ],
          [
           [
            [
             "scaling_method",
             "robust"
            ],
            [
             "encoding_method",
             "onehot"
            ],
            [
             "drop",
             null
            ],
            [
             "algorithm",
             "lasso"
            ],
            [
             "alpha",
             0.0006673544124237484
            ]
           ]
          ],
          [
           [
            [
             "scaling_method",
             "robust"
            ],
            [
             "encoding_method",
             "onehot"
            ],
            [
             "drop",
             null
            ],
            [
             "algorithm",
             "lasso"
            ],
            [
             "alpha",
             0.00030519412063227956
            ]
           ]
          ],
          [
           [
            [
             "scaling_method",
             "robust"
            ],
            [
             "encoding_method",
             "onehot"
            ],
            [
             "drop",
             null
            ],
            [
             "algorithm",
             "lasso"
            ],
            [
             "alpha",
             0.0002846670962551226
            ]
           ]
          ],
          [
           [
            [
             "scaling_method",
             "robust"
            ],
            [
             "encoding_method",
             "onehot"
            ],
            [
             "drop",
             null
            ],
            [
             "algorithm",
             "lasso"
            ],
            [
             "alpha",
             0.00030991818122645226
            ]
           ]
          ],
          [
           [
            [
             "scaling_method",
             "robust"
            ],
            [
             "encoding_method",
             "onehot"
            ],
            [
             "drop",
             null
            ],
            [
             "algorithm",
             "lasso"
            ],
            [
             "alpha",
             0.0009264685105878836
            ]
           ]
          ],
          [
           [
            [
             "scaling_method",
             "robust"
            ],
            [
             "encoding_method",
             "onehot"
            ],
            [
             "drop",
             null
            ],
            [
             "algorithm",
             "lasso"
            ],
            [
             "alpha",
             0.00028435470350705525
            ]
           ]
          ],
          [
           [
            [
             "scaling_method",
             "robust"
            ],
            [
             "encoding_method",
             "onehot"
            ],
            [
             "drop",
             null
            ],
            [
             "algorithm",
             "lasso"
            ],
            [
             "alpha",
             0.00014174877891040332
            ]
           ]
          ],
          [
           [
            [
             "scaling_method",
             "robust"
            ],
            [
             "encoding_method",
             "onehot"
            ],
            [
             "drop",
             null
            ],
            [
             "algorithm",
             "lasso"
            ],
            [
             "alpha",
             0.0002627491188548942
            ]
           ]
          ],
          [
           [
            [
             "scaling_method",
             "robust"
            ],
            [
             "encoding_method",
             "onehot"
            ],
            [
             "drop",
             null
            ],
            [
             "algorithm",
             "lasso"
            ],
            [
             "alpha",
             0.0002956468383501165
            ]
           ]
          ],
          [
           [
            [
             "scaling_method",
             "robust"
            ],
            [
             "encoding_method",
             "onehot"
            ],
            [
             "drop",
             null
            ],
            [
             "algorithm",
             "lasso"
            ],
            [
             "alpha",
             0.00028129208782664775
            ]
           ]
          ],
          [
           [
            [
             "scaling_method",
             "robust"
            ],
            [
             "encoding_method",
             "onehot"
            ],
            [
             "drop",
             null
            ],
            [
             "algorithm",
             "lasso"
            ],
            [
             "alpha",
             0.0006360154687405587
            ]
           ]
          ],
          [
           [
            [
             "scaling_method",
             "robust"
            ],
            [
             "encoding_method",
             "onehot"
            ],
            [
             "drop",
             null
            ],
            [
             "algorithm",
             "lasso"
            ],
            [
             "alpha",
             0.0002799755057671989
            ]
           ]
          ],
          [
           [
            [
             "scaling_method",
             "robust"
            ],
            [
             "encoding_method",
             "onehot"
            ],
            [
             "drop",
             null
            ],
            [
             "algorithm",
             "lasso"
            ],
            [
             "alpha",
             0.0005356215817020461
            ]
           ]
          ],
          [
           [
            [
             "scaling_method",
             "robust"
            ],
            [
             "encoding_method",
             "onehot"
            ],
            [
             "drop",
             null
            ],
            [
             "algorithm",
             "lasso"
            ],
            [
             "alpha",
             0.00029123596813121765
            ]
           ]
          ],
          [
           [
            [
             "scaling_method",
             "robust"
            ],
            [
             "encoding_method",
             "onehot"
            ],
            [
             "drop",
             null
            ],
            [
             "algorithm",
             "lasso"
            ],
            [
             "alpha",
             0.0001467966186884795
            ]
           ]
          ],
          [
           [
            [
             "scaling_method",
             "robust"
            ],
            [
             "encoding_method",
             "ordinal"
            ],
            [
             "algorithm",
             "lasso"
            ],
            [
             "alpha",
             0.0010471321527630382
            ]
           ]
          ],
          [
           [
            [
             "scaling_method",
             "robust"
            ],
            [
             "encoding_method",
             "onehot"
            ],
            [
             "drop",
             null
            ],
            [
             "algorithm",
             "lasso"
            ],
            [
             "alpha",
             0.0006680584958327878
            ]
           ]
          ],
          [
           [
            [
             "scaling_method",
             "robust"
            ],
            [
             "encoding_method",
             "onehot"
            ],
            [
             "drop",
             null
            ],
            [
             "algorithm",
             "lasso"
            ],
            [
             "alpha",
             0.0002605238537262008
            ]
           ]
          ],
          [
           [
            [
             "scaling_method",
             "robust"
            ],
            [
             "encoding_method",
             "onehot"
            ],
            [
             "drop",
             null
            ],
            [
             "algorithm",
             "lasso"
            ],
            [
             "alpha",
             0.00029635667458811633
            ]
           ]
          ],
          [
           [
            [
             "scaling_method",
             "robust"
            ],
            [
             "encoding_method",
             "onehot"
            ],
            [
             "drop",
             null
            ],
            [
             "algorithm",
             "lasso"
            ],
            [
             "alpha",
             0.00027800539495410746
            ]
           ]
          ],
          [
           [
            [
             "scaling_method",
             "robust"
            ],
            [
             "encoding_method",
             "onehot"
            ],
            [
             "drop",
             null
            ],
            [
             "algorithm",
             "lasso"
            ],
            [
             "alpha",
             0.0005145452020484817
            ]
           ]
          ],
          [
           [
            [
             "scaling_method",
             "robust"
            ],
            [
             "encoding_method",
             "onehot"
            ],
            [
             "drop",
             null
            ],
            [
             "algorithm",
             "lasso"
            ],
            [
             "alpha",
             0.00013582459392875762
            ]
           ]
          ],
          [
           [
            [
             "scaling_method",
             "robust"
            ],
            [
             "encoding_method",
             "onehot"
            ],
            [
             "drop",
             null
            ],
            [
             "algorithm",
             "lasso"
            ],
            [
             "alpha",
             0.00021563327161421586
            ]
           ]
          ],
          [
           [
            [
             "scaling_method",
             "robust"
            ],
            [
             "encoding_method",
             "onehot"
            ],
            [
             "drop",
             null
            ],
            [
             "algorithm",
             "lasso"
            ],
            [
             "alpha",
             0.0002921277153152075
            ]
           ]
          ],
          [
           [
            [
             "scaling_method",
             "robust"
            ],
            [
             "encoding_method",
             "onehot"
            ],
            [
             "drop",
             null
            ],
            [
             "algorithm",
             "lasso"
            ],
            [
             "alpha",
             0.00013598564982807433
            ]
           ]
          ],
          [
           [
            [
             "scaling_method",
             "robust"
            ],
            [
             "encoding_method",
             "onehot"
            ],
            [
             "drop",
             null
            ],
            [
             "algorithm",
             "lasso"
            ],
            [
             "alpha",
             0.0002908242205133235
            ]
           ]
          ],
          [
           [
            [
             "scaling_method",
             "robust"
            ],
            [
             "encoding_method",
             "onehot"
            ],
            [
             "drop",
             null
            ],
            [
             "algorithm",
             "lasso"
            ],
            [
             "alpha",
             0.0005071596732174551
            ]
           ]
          ],
          [
           [
            [
             "scaling_method",
             "robust"
            ],
            [
             "encoding_method",
             "onehot"
            ],
            [
             "drop",
             null
            ],
            [
             "algorithm",
             "lasso"
            ],
            [
             "alpha",
             0.00031989157415046604
            ]
           ]
          ],
          [
           [
            [
             "scaling_method",
             "robust"
            ],
            [
             "encoding_method",
             "onehot"
            ],
            [
             "drop",
             null
            ],
            [
             "algorithm",
             "lasso"
            ],
            [
             "alpha",
             0.0007449957955773636
            ]
           ]
          ],
          [
           [
            [
             "scaling_method",
             "robust"
            ],
            [
             "encoding_method",
             "onehot"
            ],
            [
             "drop",
             null
            ],
            [
             "algorithm",
             "lasso"
            ],
            [
             "alpha",
             0.00018535695396913886
            ]
           ]
          ],
          [
           [
            [
             "scaling_method",
             "robust"
            ],
            [
             "encoding_method",
             "onehot"
            ],
            [
             "drop",
             null
            ],
            [
             "algorithm",
             "lasso"
            ],
            [
             "alpha",
             0.0005046284614009172
            ]
           ]
          ],
          [
           [
            [
             "scaling_method",
             "robust"
            ],
            [
             "encoding_method",
             "onehot"
            ],
            [
             "drop",
             null
            ],
            [
             "algorithm",
             "lasso"
            ],
            [
             "alpha",
             0.00032268481145795725
            ]
           ]
          ],
          [
           [
            [
             "scaling_method",
             "maxabs"
            ],
            [
             "encoding_method",
             "onehot"
            ],
            [
             "drop",
             null
            ],
            [
             "algorithm",
             "lasso"
            ],
            [
             "alpha",
             0.0002124793089244561
            ]
           ]
          ],
          [
           [
            [
             "scaling_method",
             "robust"
            ],
            [
             "encoding_method",
             "onehot"
            ],
            [
             "drop",
             null
            ],
            [
             "algorithm",
             "lasso"
            ],
            [
             "alpha",
             0.0003376094780548408
            ]
           ]
          ],
          [
           [
            [
             "scaling_method",
             "robust"
            ],
            [
             "encoding_method",
             "onehot"
            ],
            [
             "drop",
             null
            ],
            [
             "algorithm",
             "lasso"
            ],
            [
             "alpha",
             0.00033483627155162134
            ]
           ]
          ],
          [
           [
            [
             "scaling_method",
             "robust"
            ],
            [
             "encoding_method",
             "onehot"
            ],
            [
             "drop",
             null
            ],
            [
             "algorithm",
             "lasso"
            ],
            [
             "alpha",
             0.07271219708076615
            ]
           ]
          ],
          [
           [
            [
             "scaling_method",
             "robust"
            ],
            [
             "encoding_method",
             "onehot"
            ],
            [
             "drop",
             null
            ],
            [
             "algorithm",
             "lasso"
            ],
            [
             "alpha",
             0.00048500019853878076
            ]
           ]
          ],
          [
           [
            [
             "scaling_method",
             "robust"
            ],
            [
             "encoding_method",
             "onehot"
            ],
            [
             "drop",
             null
            ],
            [
             "algorithm",
             "lasso"
            ],
            [
             "alpha",
             0.000321304878811568
            ]
           ]
          ],
          [
           [
            [
             "scaling_method",
             "standard"
            ],
            [
             "encoding_method",
             "ordinal"
            ],
            [
             "algorithm",
             "lasso"
            ],
            [
             "alpha",
             0.00017142824767409271
            ]
           ]
          ],
          [
           [
            [
             "scaling_method",
             "robust"
            ],
            [
             "encoding_method",
             "onehot"
            ],
            [
             "drop",
             null
            ],
            [
             "algorithm",
             "lasso"
            ],
            [
             "alpha",
             0.0007717674030346936
            ]
           ]
          ],
          [
           [
            [
             "scaling_method",
             "robust"
            ],
            [
             "encoding_method",
             "onehot"
            ],
            [
             "drop",
             null
            ],
            [
             "algorithm",
             "lasso"
            ],
            [
             "alpha",
             0.00025284978532418446
            ]
           ]
          ],
          [
           [
            [
             "scaling_method",
             "robust"
            ],
            [
             "encoding_method",
             "onehot"
            ],
            [
             "drop",
             null
            ],
            [
             "algorithm",
             "lasso"
            ],
            [
             "alpha",
             0.00036361145657398377
            ]
           ]
          ],
          [
           [
            [
             "scaling_method",
             "robust"
            ],
            [
             "encoding_method",
             "onehot"
            ],
            [
             "drop",
             null
            ],
            [
             "algorithm",
             "lasso"
            ],
            [
             "alpha",
             0.000305954350488747
            ]
           ]
          ],
          [
           [
            [
             "scaling_method",
             "robust"
            ],
            [
             "encoding_method",
             "onehot"
            ],
            [
             "drop",
             null
            ],
            [
             "algorithm",
             "lasso"
            ],
            [
             "alpha",
             0.00048243783348120224
            ]
           ]
          ],
          [
           [
            [
             "scaling_method",
             "robust"
            ],
            [
             "encoding_method",
             "onehot"
            ],
            [
             "drop",
             null
            ],
            [
             "algorithm",
             "lasso"
            ],
            [
             "alpha",
             0.00023680092186166213
            ]
           ]
          ],
          [
           [
            [
             "scaling_method",
             "robust"
            ],
            [
             "encoding_method",
             "onehot"
            ],
            [
             "drop",
             null
            ],
            [
             "algorithm",
             "lasso"
            ],
            [
             "alpha",
             0.00012030863375873172
            ]
           ]
          ],
          [
           [
            [
             "scaling_method",
             "robust"
            ],
            [
             "encoding_method",
             "onehot"
            ],
            [
             "drop",
             null
            ],
            [
             "algorithm",
             "lasso"
            ],
            [
             "alpha",
             0.0003143634151410138
            ]
           ]
          ],
          [
           [
            [
             "scaling_method",
             "robust"
            ],
            [
             "encoding_method",
             "onehot"
            ],
            [
             "drop",
             null
            ],
            [
             "algorithm",
             "lasso"
            ],
            [
             "alpha",
             0.00019483054199499015
            ]
           ]
          ],
          [
           [
            [
             "scaling_method",
             "robust"
            ],
            [
             "encoding_method",
             "onehot"
            ],
            [
             "drop",
             null
            ],
            [
             "algorithm",
             "lasso"
            ],
            [
             "alpha",
             0.0006402216747315148
            ]
           ]
          ],
          [
           [
            [
             "scaling_method",
             "robust"
            ],
            [
             "encoding_method",
             "onehot"
            ],
            [
             "drop",
             null
            ],
            [
             "algorithm",
             "lasso"
            ],
            [
             "alpha",
             0.0002842214495409678
            ]
           ]
          ]
         ],
         "hovertemplate": "Algorithm=lasso<br>Optuna Trial=%{x}<br>Score (R-Squared)=%{y}<br>Parameters=%{customdata[0]}<extra></extra>",
         "legendgroup": "lasso",
         "marker": {
          "color": "#19d3f3",
          "symbol": "circle"
         },
         "mode": "markers",
         "name": "lasso",
         "orientation": "v",
         "showlegend": true,
         "type": "scatter",
         "x": [
          20,
          38,
          60,
          61,
          62,
          63,
          64,
          66,
          67,
          69,
          70,
          71,
          72,
          73,
          74,
          75,
          78,
          81,
          82,
          83,
          84,
          85,
          86,
          91,
          92,
          93,
          96,
          99,
          101,
          102,
          103,
          104,
          105,
          107,
          110,
          111,
          112,
          113,
          114,
          116,
          119,
          121,
          122,
          123,
          124,
          125,
          126,
          127,
          128,
          129,
          130,
          131,
          132,
          133,
          134,
          135,
          136,
          137,
          138,
          139,
          140,
          141,
          142,
          143,
          144,
          145,
          147,
          148,
          149,
          151,
          152,
          153,
          154,
          155,
          157,
          158,
          159,
          160,
          161,
          162,
          163,
          164,
          165,
          169,
          170,
          171,
          172,
          173,
          174,
          175,
          177,
          179,
          180,
          181,
          182,
          183,
          184,
          185,
          186,
          187,
          189,
          191,
          192,
          193,
          194,
          195,
          196,
          197,
          198,
          199
         ],
         "xaxis": "x",
         "y": [
          0.9420714241747068,
          0.941864120697199,
          0.9504789317996479,
          0.9504463386027325,
          0.9504214647535318,
          0.9504077370356221,
          0.9504550644937725,
          0.9504555473869496,
          0.9484703228321049,
          0.7400320378975258,
          0.950520595111418,
          0.9502726644145583,
          0.950617005001886,
          0.9489426806796498,
          0.9155017224643703,
          0.9379655530421914,
          0.9475511355896954,
          0.9504590828950967,
          0.9506059300756451,
          0.9456431874825431,
          0.9504065509720707,
          0.9502085460302702,
          0.9395212103576183,
          0.9504174207249045,
          0.9477011267757256,
          0.950449828935693,
          0.9500112102570567,
          0.9495704757450211,
          0.9504553179855029,
          0.9504556138917429,
          0.9499559033610787,
          0.8431383302498437,
          0.9436889041904181,
          0.9497318944817149,
          0.9044751891765352,
          0.9504475645861536,
          0.9504299049727469,
          0.9504161842819692,
          0.9503206100996249,
          0.9508115794180636,
          0.9476389742110017,
          0.950808934477098,
          0.9508109381266777,
          0.9506350209194107,
          0.9507592759086023,
          0.9507231067442191,
          0.9508005623067662,
          0.9507619281108848,
          0.9503195151331509,
          0.9508027249403119,
          0.9508001110185553,
          0.9508039749262792,
          0.9507193735937189,
          0.9506991769942713,
          0.9507550652239456,
          0.9507646857190831,
          0.9508025087779005,
          0.950811303453535,
          0.9508125334796595,
          0.9508120418340444,
          0.9500624585576197,
          0.9508124744936358,
          0.9508008348893316,
          0.9508117800796546,
          0.9489329326139091,
          0.9508005174693877,
          0.950200503238648,
          0.9507564650947652,
          0.9508100989237469,
          0.9507972502097888,
          0.9501683850883827,
          0.9507957812484953,
          0.9504302014875557,
          0.9508074273047356,
          0.9502265660190119,
          0.9418808467381024,
          0.9500599528216987,
          0.9507492589828942,
          0.9508102480434596,
          0.9507931355819096,
          0.9504867092638136,
          0.9501678846785481,
          0.9505575559178041,
          0.9508080321678772,
          0.9501689281680938,
          0.9508070583226983,
          0.9505064311789182,
          0.9508118441042729,
          0.949768395040436,
          0.9504247698839746,
          0.9505130617833648,
          0.9508112495697129,
          0.9482691449430162,
          0.9508046723135948,
          0.9508065379920773,
          0.7340715665013304,
          0.9505602037978023,
          0.9508114385484966,
          0.9413515149157325,
          0.9496609338864861,
          0.9507210701378888,
          0.950776783502176,
          0.9508125685081981,
          0.9505663503424436,
          0.950651853154987,
          0.9500814576399593,
          0.9508109657329606,
          0.9504658897973156,
          0.9501547132194716,
          0.9508003810858396
         ],
         "yaxis": "y"
        },
        {
         "customdata": [
          [
           [
            [
             "scaling_method",
             "robust"
            ],
            [
             "encoding_method",
             "onehot"
            ],
            [
             "drop",
             "first"
            ],
            [
             "algorithm",
             "gbr"
            ],
            [
             "n_estimators",
             810
            ],
            [
             "learning_rate",
             0.002502319349347742
            ],
            [
             "max_depth",
             4
            ],
            [
             "subsample",
             0.5086742020838684
            ],
            [
             "min_sample_split",
             7
            ],
            [
             "min_sample_leaf",
             6
            ]
           ]
          ],
          [
           [
            [
             "scaling_method",
             "robust"
            ],
            [
             "encoding_method",
             "onehot"
            ],
            [
             "drop",
             "first"
            ],
            [
             "algorithm",
             "gbr"
            ],
            [
             "n_estimators",
             832
            ],
            [
             "learning_rate",
             0.0044836116972927385
            ],
            [
             "max_depth",
             3
            ],
            [
             "subsample",
             0.8138941342231104
            ],
            [
             "min_sample_split",
             9
            ],
            [
             "min_sample_leaf",
             7
            ]
           ]
          ],
          [
           [
            [
             "scaling_method",
             "minmax"
            ],
            [
             "encoding_method",
             "ordinal"
            ],
            [
             "algorithm",
             "gbr"
            ],
            [
             "n_estimators",
             804
            ],
            [
             "learning_rate",
             0.8941928933502697
            ],
            [
             "max_depth",
             3
            ],
            [
             "subsample",
             0.9827683043423914
            ],
            [
             "min_sample_split",
             9
            ],
            [
             "min_sample_leaf",
             5
            ]
           ]
          ],
          [
           [
            [
             "scaling_method",
             "robust"
            ],
            [
             "encoding_method",
             "onehot"
            ],
            [
             "drop",
             null
            ],
            [
             "algorithm",
             "gbr"
            ],
            [
             "n_estimators",
             902
            ],
            [
             "learning_rate",
             0.34044036009965684
            ],
            [
             "max_depth",
             2
            ],
            [
             "subsample",
             0.6914912006901939
            ],
            [
             "min_sample_split",
             8
            ],
            [
             "min_sample_leaf",
             8
            ]
           ]
          ],
          [
           [
            [
             "scaling_method",
             "robust"
            ],
            [
             "encoding_method",
             "onehot"
            ],
            [
             "drop",
             null
            ],
            [
             "algorithm",
             "gbr"
            ],
            [
             "n_estimators",
             857
            ],
            [
             "learning_rate",
             0.020387042017646774
            ],
            [
             "max_depth",
             3
            ],
            [
             "subsample",
             0.8624590753787903
            ],
            [
             "min_sample_split",
             7
            ],
            [
             "min_sample_leaf",
             5
            ]
           ]
          ]
         ],
         "hovertemplate": "Algorithm=gbr<br>Optuna Trial=%{x}<br>Score (R-Squared)=%{y}<br>Parameters=%{customdata[0]}<extra></extra>",
         "legendgroup": "gbr",
         "marker": {
          "color": "#FF6692",
          "symbol": "circle"
         },
         "mode": "markers",
         "name": "gbr",
         "orientation": "v",
         "showlegend": true,
         "type": "scatter",
         "x": [
          30,
          49,
          88,
          117,
          176
         ],
         "xaxis": "x",
         "y": [
          0.8695777639423012,
          0.9118215291243491,
          0.8766401728942645,
          0.9405026432935989,
          0.9473235146027796
         ],
         "yaxis": "y"
        }
       ],
       "layout": {
        "hoverlabel": {
         "bgcolor": "white",
         "font": {
          "family": "Rockwell",
          "size": 8
         }
        },
        "legend": {
         "title": {
          "text": "Algorithm"
         },
         "tracegroupgap": 0
        },
        "template": {
         "data": {
          "bar": [
           {
            "error_x": {
             "color": "#2a3f5f"
            },
            "error_y": {
             "color": "#2a3f5f"
            },
            "marker": {
             "line": {
              "color": "#E5ECF6",
              "width": 0.5
             },
             "pattern": {
              "fillmode": "overlay",
              "size": 10,
              "solidity": 0.2
             }
            },
            "type": "bar"
           }
          ],
          "barpolar": [
           {
            "marker": {
             "line": {
              "color": "#E5ECF6",
              "width": 0.5
             },
             "pattern": {
              "fillmode": "overlay",
              "size": 10,
              "solidity": 0.2
             }
            },
            "type": "barpolar"
           }
          ],
          "carpet": [
           {
            "aaxis": {
             "endlinecolor": "#2a3f5f",
             "gridcolor": "white",
             "linecolor": "white",
             "minorgridcolor": "white",
             "startlinecolor": "#2a3f5f"
            },
            "baxis": {
             "endlinecolor": "#2a3f5f",
             "gridcolor": "white",
             "linecolor": "white",
             "minorgridcolor": "white",
             "startlinecolor": "#2a3f5f"
            },
            "type": "carpet"
           }
          ],
          "choropleth": [
           {
            "colorbar": {
             "outlinewidth": 0,
             "ticks": ""
            },
            "type": "choropleth"
           }
          ],
          "contour": [
           {
            "colorbar": {
             "outlinewidth": 0,
             "ticks": ""
            },
            "colorscale": [
             [
              0,
              "#0d0887"
             ],
             [
              0.1111111111111111,
              "#46039f"
             ],
             [
              0.2222222222222222,
              "#7201a8"
             ],
             [
              0.3333333333333333,
              "#9c179e"
             ],
             [
              0.4444444444444444,
              "#bd3786"
             ],
             [
              0.5555555555555556,
              "#d8576b"
             ],
             [
              0.6666666666666666,
              "#ed7953"
             ],
             [
              0.7777777777777778,
              "#fb9f3a"
             ],
             [
              0.8888888888888888,
              "#fdca26"
             ],
             [
              1,
              "#f0f921"
             ]
            ],
            "type": "contour"
           }
          ],
          "contourcarpet": [
           {
            "colorbar": {
             "outlinewidth": 0,
             "ticks": ""
            },
            "type": "contourcarpet"
           }
          ],
          "heatmap": [
           {
            "colorbar": {
             "outlinewidth": 0,
             "ticks": ""
            },
            "colorscale": [
             [
              0,
              "#0d0887"
             ],
             [
              0.1111111111111111,
              "#46039f"
             ],
             [
              0.2222222222222222,
              "#7201a8"
             ],
             [
              0.3333333333333333,
              "#9c179e"
             ],
             [
              0.4444444444444444,
              "#bd3786"
             ],
             [
              0.5555555555555556,
              "#d8576b"
             ],
             [
              0.6666666666666666,
              "#ed7953"
             ],
             [
              0.7777777777777778,
              "#fb9f3a"
             ],
             [
              0.8888888888888888,
              "#fdca26"
             ],
             [
              1,
              "#f0f921"
             ]
            ],
            "type": "heatmap"
           }
          ],
          "heatmapgl": [
           {
            "colorbar": {
             "outlinewidth": 0,
             "ticks": ""
            },
            "colorscale": [
             [
              0,
              "#0d0887"
             ],
             [
              0.1111111111111111,
              "#46039f"
             ],
             [
              0.2222222222222222,
              "#7201a8"
             ],
             [
              0.3333333333333333,
              "#9c179e"
             ],
             [
              0.4444444444444444,
              "#bd3786"
             ],
             [
              0.5555555555555556,
              "#d8576b"
             ],
             [
              0.6666666666666666,
              "#ed7953"
             ],
             [
              0.7777777777777778,
              "#fb9f3a"
             ],
             [
              0.8888888888888888,
              "#fdca26"
             ],
             [
              1,
              "#f0f921"
             ]
            ],
            "type": "heatmapgl"
           }
          ],
          "histogram": [
           {
            "marker": {
             "pattern": {
              "fillmode": "overlay",
              "size": 10,
              "solidity": 0.2
             }
            },
            "type": "histogram"
           }
          ],
          "histogram2d": [
           {
            "colorbar": {
             "outlinewidth": 0,
             "ticks": ""
            },
            "colorscale": [
             [
              0,
              "#0d0887"
             ],
             [
              0.1111111111111111,
              "#46039f"
             ],
             [
              0.2222222222222222,
              "#7201a8"
             ],
             [
              0.3333333333333333,
              "#9c179e"
             ],
             [
              0.4444444444444444,
              "#bd3786"
             ],
             [
              0.5555555555555556,
              "#d8576b"
             ],
             [
              0.6666666666666666,
              "#ed7953"
             ],
             [
              0.7777777777777778,
              "#fb9f3a"
             ],
             [
              0.8888888888888888,
              "#fdca26"
             ],
             [
              1,
              "#f0f921"
             ]
            ],
            "type": "histogram2d"
           }
          ],
          "histogram2dcontour": [
           {
            "colorbar": {
             "outlinewidth": 0,
             "ticks": ""
            },
            "colorscale": [
             [
              0,
              "#0d0887"
             ],
             [
              0.1111111111111111,
              "#46039f"
             ],
             [
              0.2222222222222222,
              "#7201a8"
             ],
             [
              0.3333333333333333,
              "#9c179e"
             ],
             [
              0.4444444444444444,
              "#bd3786"
             ],
             [
              0.5555555555555556,
              "#d8576b"
             ],
             [
              0.6666666666666666,
              "#ed7953"
             ],
             [
              0.7777777777777778,
              "#fb9f3a"
             ],
             [
              0.8888888888888888,
              "#fdca26"
             ],
             [
              1,
              "#f0f921"
             ]
            ],
            "type": "histogram2dcontour"
           }
          ],
          "mesh3d": [
           {
            "colorbar": {
             "outlinewidth": 0,
             "ticks": ""
            },
            "type": "mesh3d"
           }
          ],
          "parcoords": [
           {
            "line": {
             "colorbar": {
              "outlinewidth": 0,
              "ticks": ""
             }
            },
            "type": "parcoords"
           }
          ],
          "pie": [
           {
            "automargin": true,
            "type": "pie"
           }
          ],
          "scatter": [
           {
            "fillpattern": {
             "fillmode": "overlay",
             "size": 10,
             "solidity": 0.2
            },
            "type": "scatter"
           }
          ],
          "scatter3d": [
           {
            "line": {
             "colorbar": {
              "outlinewidth": 0,
              "ticks": ""
             }
            },
            "marker": {
             "colorbar": {
              "outlinewidth": 0,
              "ticks": ""
             }
            },
            "type": "scatter3d"
           }
          ],
          "scattercarpet": [
           {
            "marker": {
             "colorbar": {
              "outlinewidth": 0,
              "ticks": ""
             }
            },
            "type": "scattercarpet"
           }
          ],
          "scattergeo": [
           {
            "marker": {
             "colorbar": {
              "outlinewidth": 0,
              "ticks": ""
             }
            },
            "type": "scattergeo"
           }
          ],
          "scattergl": [
           {
            "marker": {
             "colorbar": {
              "outlinewidth": 0,
              "ticks": ""
             }
            },
            "type": "scattergl"
           }
          ],
          "scattermapbox": [
           {
            "marker": {
             "colorbar": {
              "outlinewidth": 0,
              "ticks": ""
             }
            },
            "type": "scattermapbox"
           }
          ],
          "scatterpolar": [
           {
            "marker": {
             "colorbar": {
              "outlinewidth": 0,
              "ticks": ""
             }
            },
            "type": "scatterpolar"
           }
          ],
          "scatterpolargl": [
           {
            "marker": {
             "colorbar": {
              "outlinewidth": 0,
              "ticks": ""
             }
            },
            "type": "scatterpolargl"
           }
          ],
          "scatterternary": [
           {
            "marker": {
             "colorbar": {
              "outlinewidth": 0,
              "ticks": ""
             }
            },
            "type": "scatterternary"
           }
          ],
          "surface": [
           {
            "colorbar": {
             "outlinewidth": 0,
             "ticks": ""
            },
            "colorscale": [
             [
              0,
              "#0d0887"
             ],
             [
              0.1111111111111111,
              "#46039f"
             ],
             [
              0.2222222222222222,
              "#7201a8"
             ],
             [
              0.3333333333333333,
              "#9c179e"
             ],
             [
              0.4444444444444444,
              "#bd3786"
             ],
             [
              0.5555555555555556,
              "#d8576b"
             ],
             [
              0.6666666666666666,
              "#ed7953"
             ],
             [
              0.7777777777777778,
              "#fb9f3a"
             ],
             [
              0.8888888888888888,
              "#fdca26"
             ],
             [
              1,
              "#f0f921"
             ]
            ],
            "type": "surface"
           }
          ],
          "table": [
           {
            "cells": {
             "fill": {
              "color": "#EBF0F8"
             },
             "line": {
              "color": "white"
             }
            },
            "header": {
             "fill": {
              "color": "#C8D4E3"
             },
             "line": {
              "color": "white"
             }
            },
            "type": "table"
           }
          ]
         },
         "layout": {
          "annotationdefaults": {
           "arrowcolor": "#2a3f5f",
           "arrowhead": 0,
           "arrowwidth": 1
          },
          "autotypenumbers": "strict",
          "coloraxis": {
           "colorbar": {
            "outlinewidth": 0,
            "ticks": ""
           }
          },
          "colorscale": {
           "diverging": [
            [
             0,
             "#8e0152"
            ],
            [
             0.1,
             "#c51b7d"
            ],
            [
             0.2,
             "#de77ae"
            ],
            [
             0.3,
             "#f1b6da"
            ],
            [
             0.4,
             "#fde0ef"
            ],
            [
             0.5,
             "#f7f7f7"
            ],
            [
             0.6,
             "#e6f5d0"
            ],
            [
             0.7,
             "#b8e186"
            ],
            [
             0.8,
             "#7fbc41"
            ],
            [
             0.9,
             "#4d9221"
            ],
            [
             1,
             "#276419"
            ]
           ],
           "sequential": [
            [
             0,
             "#0d0887"
            ],
            [
             0.1111111111111111,
             "#46039f"
            ],
            [
             0.2222222222222222,
             "#7201a8"
            ],
            [
             0.3333333333333333,
             "#9c179e"
            ],
            [
             0.4444444444444444,
             "#bd3786"
            ],
            [
             0.5555555555555556,
             "#d8576b"
            ],
            [
             0.6666666666666666,
             "#ed7953"
            ],
            [
             0.7777777777777778,
             "#fb9f3a"
            ],
            [
             0.8888888888888888,
             "#fdca26"
            ],
            [
             1,
             "#f0f921"
            ]
           ],
           "sequentialminus": [
            [
             0,
             "#0d0887"
            ],
            [
             0.1111111111111111,
             "#46039f"
            ],
            [
             0.2222222222222222,
             "#7201a8"
            ],
            [
             0.3333333333333333,
             "#9c179e"
            ],
            [
             0.4444444444444444,
             "#bd3786"
            ],
            [
             0.5555555555555556,
             "#d8576b"
            ],
            [
             0.6666666666666666,
             "#ed7953"
            ],
            [
             0.7777777777777778,
             "#fb9f3a"
            ],
            [
             0.8888888888888888,
             "#fdca26"
            ],
            [
             1,
             "#f0f921"
            ]
           ]
          },
          "colorway": [
           "#636efa",
           "#EF553B",
           "#00cc96",
           "#ab63fa",
           "#FFA15A",
           "#19d3f3",
           "#FF6692",
           "#B6E880",
           "#FF97FF",
           "#FECB52"
          ],
          "font": {
           "color": "#2a3f5f"
          },
          "geo": {
           "bgcolor": "white",
           "lakecolor": "white",
           "landcolor": "#E5ECF6",
           "showlakes": true,
           "showland": true,
           "subunitcolor": "white"
          },
          "hoverlabel": {
           "align": "left"
          },
          "hovermode": "closest",
          "mapbox": {
           "style": "light"
          },
          "paper_bgcolor": "white",
          "plot_bgcolor": "#E5ECF6",
          "polar": {
           "angularaxis": {
            "gridcolor": "white",
            "linecolor": "white",
            "ticks": ""
           },
           "bgcolor": "#E5ECF6",
           "radialaxis": {
            "gridcolor": "white",
            "linecolor": "white",
            "ticks": ""
           }
          },
          "scene": {
           "xaxis": {
            "backgroundcolor": "#E5ECF6",
            "gridcolor": "white",
            "gridwidth": 2,
            "linecolor": "white",
            "showbackground": true,
            "ticks": "",
            "zerolinecolor": "white"
           },
           "yaxis": {
            "backgroundcolor": "#E5ECF6",
            "gridcolor": "white",
            "gridwidth": 2,
            "linecolor": "white",
            "showbackground": true,
            "ticks": "",
            "zerolinecolor": "white"
           },
           "zaxis": {
            "backgroundcolor": "#E5ECF6",
            "gridcolor": "white",
            "gridwidth": 2,
            "linecolor": "white",
            "showbackground": true,
            "ticks": "",
            "zerolinecolor": "white"
           }
          },
          "shapedefaults": {
           "line": {
            "color": "#2a3f5f"
           }
          },
          "ternary": {
           "aaxis": {
            "gridcolor": "white",
            "linecolor": "white",
            "ticks": ""
           },
           "baxis": {
            "gridcolor": "white",
            "linecolor": "white",
            "ticks": ""
           },
           "bgcolor": "#E5ECF6",
           "caxis": {
            "gridcolor": "white",
            "linecolor": "white",
            "ticks": ""
           }
          },
          "title": {
           "x": 0.05
          },
          "xaxis": {
           "automargin": true,
           "gridcolor": "white",
           "linecolor": "white",
           "ticks": "",
           "title": {
            "standoff": 15
           },
           "zerolinecolor": "white",
           "zerolinewidth": 2
          },
          "yaxis": {
           "automargin": true,
           "gridcolor": "white",
           "linecolor": "white",
           "ticks": "",
           "title": {
            "standoff": 15
           },
           "zerolinecolor": "white",
           "zerolinewidth": 2
          }
         }
        },
        "title": {
         "text": "Optuna Trials with R-Squared over 0.7  <br><sup> Best Score: 0.9508, Trial 192, alpha = 0.000305954350488747, scaling = robust, one hot encoding (no drop) </sup>"
        },
        "xaxis": {
         "anchor": "y",
         "domain": [
          0,
          1
         ],
         "title": {
          "text": "Optuna Trial"
         }
        },
        "yaxis": {
         "anchor": "x",
         "domain": [
          0,
          1
         ],
         "title": {
          "text": "Score (R-Squared)"
         }
        }
       }
      },
      "text/html": [
       "<div>                            <div id=\"24ccdbe8-f65d-44b6-a490-0203e5342629\" class=\"plotly-graph-div\" style=\"height:525px; width:100%;\"></div>            <script type=\"text/javascript\">                require([\"plotly\"], function(Plotly) {                    window.PLOTLYENV=window.PLOTLYENV || {};                                    if (document.getElementById(\"24ccdbe8-f65d-44b6-a490-0203e5342629\")) {                    Plotly.newPlot(                        \"24ccdbe8-f65d-44b6-a490-0203e5342629\",                        [{\"customdata\":[[[[\"scaling_method\",\"maxabs\"],[\"encoding_method\",\"ordinal\"],[\"algorithm\",\"rf\"],[\"bootstrap\",false],[\"n_estimators\",246],[\"max_depth\",64],[\"min_sample_split\",3],[\"min_sample_leaf\",10]]],[[[\"scaling_method\",\"maxabs\"],[\"encoding_method\",\"ordinal\"],[\"algorithm\",\"rf\"],[\"bootstrap\",true],[\"n_estimators\",98],[\"max_depth\",19],[\"min_sample_split\",3],[\"min_sample_leaf\",7]]],[[[\"scaling_method\",\"robust\"],[\"encoding_method\",\"onehot\"],[\"drop\",\"first\"],[\"algorithm\",\"rf\"],[\"bootstrap\",true],[\"n_estimators\",577],[\"max_depth\",92],[\"min_sample_split\",10],[\"min_sample_leaf\",10]]],[[[\"scaling_method\",\"robust\"],[\"encoding_method\",\"onehot\"],[\"drop\",\"first\"],[\"algorithm\",\"rf\"],[\"bootstrap\",false],[\"n_estimators\",14],[\"max_depth\",37],[\"min_sample_split\",5],[\"min_sample_leaf\",1]]],[[[\"scaling_method\",\"robust\"],[\"encoding_method\",\"onehot\"],[\"drop\",\"first\"],[\"algorithm\",\"rf\"],[\"bootstrap\",false],[\"n_estimators\",895],[\"max_depth\",94],[\"min_sample_split\",5],[\"min_sample_leaf\",4]]],[[[\"scaling_method\",\"minmax\"],[\"encoding_method\",\"onehot\"],[\"drop\",null],[\"algorithm\",\"rf\"],[\"bootstrap\",true],[\"n_estimators\",153],[\"max_depth\",69],[\"min_sample_split\",2],[\"min_sample_leaf\",4]]],[[[\"scaling_method\",\"minmax\"],[\"encoding_method\",\"onehot\"],[\"drop\",\"first\"],[\"algorithm\",\"rf\"],[\"bootstrap\",true],[\"n_estimators\",568],[\"max_depth\",38],[\"min_sample_split\",5],[\"min_sample_leaf\",1]]],[[[\"scaling_method\",\"robust\"],[\"encoding_method\",\"onehot\"],[\"drop\",null],[\"algorithm\",\"rf\"],[\"bootstrap\",false],[\"n_estimators\",997],[\"max_depth\",81],[\"min_sample_split\",4],[\"min_sample_leaf\",9]]],[[[\"scaling_method\",\"robust\"],[\"encoding_method\",\"onehot\"],[\"drop\",null],[\"algorithm\",\"rf\"],[\"bootstrap\",true],[\"n_estimators\",177],[\"max_depth\",47],[\"min_sample_split\",2],[\"min_sample_leaf\",2]]]],\"hovertemplate\":\"Algorithm=rf<br>Optuna Trial=%{x}<br>Score (R-Squared)=%{y}<br>Parameters=%{customdata[0]}<extra></extra>\",\"legendgroup\":\"rf\",\"marker\":{\"color\":\"#636efa\",\"symbol\":\"circle\"},\"mode\":\"markers\",\"name\":\"rf\",\"orientation\":\"v\",\"showlegend\":true,\"x\":[1,3,32,35,45,79,95,150,188],\"xaxis\":\"x\",\"y\":[0.8393679950758675,0.8946663651310004,0.8882791010176795,0.8260266607408215,0.829813063005301,0.9016671887430037,0.9078031988613993,0.838666269692253,0.906913050834044],\"yaxis\":\"y\",\"type\":\"scatter\"},{\"customdata\":[[[[\"scaling_method\",\"standard\"],[\"encoding_method\",\"ordinal\"],[\"algorithm\",\"ada\"],[\"learning_rate\",0.17448906672786785],[\"loss\",\"linear\"],[\"n_estimators\",279]]],[[[\"scaling_method\",\"standard\"],[\"encoding_method\",\"onehot\"],[\"drop\",\"first\"],[\"algorithm\",\"ada\"],[\"learning_rate\",0.04631870085995089],[\"loss\",\"exponential\"],[\"n_estimators\",606]]],[[[\"scaling_method\",\"robust\"],[\"encoding_method\",\"onehot\"],[\"drop\",\"first\"],[\"algorithm\",\"ada\"],[\"learning_rate\",0.7677788768573152],[\"loss\",\"square\"],[\"n_estimators\",745]]],[[[\"scaling_method\",\"standard\"],[\"encoding_method\",\"onehot\"],[\"drop\",\"first\"],[\"algorithm\",\"ada\"],[\"learning_rate\",0.0005601672835746196],[\"loss\",\"square\"],[\"n_estimators\",405]]],[[[\"scaling_method\",\"robust\"],[\"encoding_method\",\"onehot\"],[\"drop\",null],[\"algorithm\",\"ada\"],[\"learning_rate\",0.00010982300862210091],[\"loss\",\"exponential\"],[\"n_estimators\",654]]],[[[\"scaling_method\",\"maxabs\"],[\"encoding_method\",\"onehot\"],[\"drop\",null],[\"algorithm\",\"ada\"],[\"learning_rate\",0.011926326396994716],[\"loss\",\"linear\"],[\"n_estimators\",27]]],[[[\"scaling_method\",\"robust\"],[\"encoding_method\",\"onehot\"],[\"drop\",\"first\"],[\"algorithm\",\"ada\"],[\"learning_rate\",0.002133530766129601],[\"loss\",\"linear\"],[\"n_estimators\",343]]],[[[\"scaling_method\",\"robust\"],[\"encoding_method\",\"onehot\"],[\"drop\",null],[\"algorithm\",\"ada\"],[\"learning_rate\",0.09671853380385909],[\"loss\",\"square\"],[\"n_estimators\",78]]],[[[\"scaling_method\",\"robust\"],[\"encoding_method\",\"onehot\"],[\"drop\",null],[\"algorithm\",\"ada\"],[\"learning_rate\",0.004925633409711973],[\"loss\",\"exponential\"],[\"n_estimators\",262]]]],\"hovertemplate\":\"Algorithm=ada<br>Optuna Trial=%{x}<br>Score (R-Squared)=%{y}<br>Parameters=%{customdata[0]}<extra></extra>\",\"legendgroup\":\"ada\",\"marker\":{\"color\":\"#EF553B\",\"symbol\":\"circle\"},\"mode\":\"markers\",\"name\":\"ada\",\"orientation\":\"v\",\"showlegend\":true,\"x\":[2,4,34,37,48,80,98,156,190],\"xaxis\":\"x\",\"y\":[0.8641449377737869,0.8549804963350909,0.8738175132754747,0.745408937325795,0.745382293303729,0.7481498751107789,0.757303529912053,0.8221124008595813,0.764177967706654],\"yaxis\":\"y\",\"type\":\"scatter\"},{\"customdata\":[[[[\"scaling_method\",\"robust\"],[\"encoding_method\",\"onehot\"],[\"drop\",\"first\"],[\"algorithm\",\"xgb\"],[\"n_estimators\",326],[\"learning_rate\",0.01640850457629452],[\"max_depth\",6],[\"subsample\",0.9420185743653489],[\"colsample_bytree\",0.7031024498108345],[\"min_child_weight\",13]]],[[[\"scaling_method\",\"minmax\"],[\"encoding_method\",\"ordinal\"],[\"algorithm\",\"xgb\"],[\"n_estimators\",504],[\"learning_rate\",0.38609102336011014],[\"max_depth\",4],[\"subsample\",0.7720674692916107],[\"colsample_bytree\",0.6449948679603827],[\"min_child_weight\",19]]],[[[\"scaling_method\",\"robust\"],[\"encoding_method\",\"onehot\"],[\"drop\",null],[\"algorithm\",\"xgb\"],[\"n_estimators\",717],[\"learning_rate\",0.03126580037888188],[\"max_depth\",6],[\"subsample\",0.6557350467436853],[\"colsample_bytree\",0.5152264689828334],[\"min_child_weight\",20]]],[[[\"scaling_method\",\"standard\"],[\"encoding_method\",\"ordinal\"],[\"algorithm\",\"xgb\"],[\"n_estimators\",464],[\"learning_rate\",0.12965422936539858],[\"max_depth\",7],[\"subsample\",0.7120741631505831],[\"colsample_bytree\",0.9909148335740652],[\"min_child_weight\",10]]],[[[\"scaling_method\",\"standard\"],[\"encoding_method\",\"onehot\"],[\"drop\",null],[\"algorithm\",\"xgb\"],[\"n_estimators\",396],[\"learning_rate\",0.055140411147590045],[\"max_depth\",7],[\"subsample\",0.8280272618689128],[\"colsample_bytree\",0.85331268622696],[\"min_child_weight\",17]]]],\"hovertemplate\":\"Algorithm=xgb<br>Optuna Trial=%{x}<br>Score (R-Squared)=%{y}<br>Parameters=%{customdata[0]}<extra></extra>\",\"legendgroup\":\"xgb\",\"marker\":{\"color\":\"#00cc96\",\"symbol\":\"circle\"},\"mode\":\"markers\",\"name\":\"xgb\",\"orientation\":\"v\",\"showlegend\":true,\"x\":[5,9,42,47,77],\"xaxis\":\"x\",\"y\":[0.8881874953150927,0.9334970888614625,0.9453494419229346,0.9438393295738219,0.9460839946239545],\"yaxis\":\"y\",\"type\":\"scatter\"},{\"customdata\":[[[[\"scaling_method\",\"minmax\"],[\"encoding_method\",\"ordinal\"],[\"algorithm\",\"ridge\"],[\"alpha\",0.012995670998157008]]],[[[\"scaling_method\",\"minmax\"],[\"encoding_method\",\"onehot\"],[\"drop\",null],[\"algorithm\",\"ridge\"],[\"alpha\",0.0001468389907212205]]],[[[\"scaling_method\",\"minmax\"],[\"encoding_method\",\"onehot\"],[\"drop\",null],[\"algorithm\",\"ridge\"],[\"alpha\",0.00011035779400701059]]],[[[\"scaling_method\",\"minmax\"],[\"encoding_method\",\"onehot\"],[\"drop\",null],[\"algorithm\",\"ridge\"],[\"alpha\",0.00010121663304673973]]],[[[\"scaling_method\",\"robust\"],[\"encoding_method\",\"onehot\"],[\"drop\",null],[\"algorithm\",\"ridge\"],[\"alpha\",0.004772481935016255]]],[[[\"scaling_method\",\"minmax\"],[\"encoding_method\",\"onehot\"],[\"drop\",\"first\"],[\"algorithm\",\"ridge\"],[\"alpha\",0.00027429414805309606]]],[[[\"scaling_method\",\"robust\"],[\"encoding_method\",\"onehot\"],[\"drop\",null],[\"algorithm\",\"ridge\"],[\"alpha\",0.0028467849906836677]]],[[[\"scaling_method\",\"minmax\"],[\"encoding_method\",\"onehot\"],[\"drop\",\"first\"],[\"algorithm\",\"ridge\"],[\"alpha\",0.00204398748096475]]],[[[\"scaling_method\",\"robust\"],[\"encoding_method\",\"onehot\"],[\"drop\",null],[\"algorithm\",\"ridge\"],[\"alpha\",0.00022647723868084036]]]],\"hovertemplate\":\"Algorithm=ridge<br>Optuna Trial=%{x}<br>Score (R-Squared)=%{y}<br>Parameters=%{customdata[0]}<extra></extra>\",\"legendgroup\":\"ridge\",\"marker\":{\"color\":\"#ab63fa\",\"symbol\":\"circle\"},\"mode\":\"markers\",\"name\":\"ridge\",\"orientation\":\"v\",\"showlegend\":true,\"x\":[8,10,11,12,50,59,87,108,167],\"xaxis\":\"x\",\"y\":[0.9408378006661791,0.9458060353129094,0.9458056208126621,0.9458055169302406,0.9458266337548127,0.9457751449096741,0.945817700514205,0.9457984584559422,0.9458054326326734],\"yaxis\":\"y\",\"type\":\"scatter\"},{\"customdata\":[[[[\"scaling_method\",\"minmax\"],[\"encoding_method\",\"onehot\"],[\"drop\",null],[\"algorithm\",\"en\"],[\"alpha\",0.00011010104040317402],[\"l1_ratio\",0.0001455025676712381]]],[[[\"scaling_method\",\"robust\"],[\"encoding_method\",\"onehot\"],[\"drop\",null],[\"algorithm\",\"en\"],[\"alpha\",0.005798418815720318],[\"l1_ratio\",0.03787907308950946]]],[[[\"scaling_method\",\"robust\"],[\"encoding_method\",\"onehot\"],[\"drop\",null],[\"algorithm\",\"en\"],[\"alpha\",0.01549613842650819],[\"l1_ratio\",0.1029104274828476]]],[[[\"scaling_method\",\"robust\"],[\"encoding_method\",\"onehot\"],[\"drop\",null],[\"algorithm\",\"en\"],[\"alpha\",0.005258496728628177],[\"l1_ratio\",0.003778377776623307]]],[[[\"scaling_method\",\"robust\"],[\"encoding_method\",\"onehot\"],[\"drop\",null],[\"algorithm\",\"en\"],[\"alpha\",0.016323134427685126],[\"l1_ratio\",0.02422004623082698]]],[[[\"scaling_method\",\"robust\"],[\"encoding_method\",\"onehot\"],[\"drop\",null],[\"algorithm\",\"en\"],[\"alpha\",0.3362954482428801],[\"l1_ratio\",0.0022756750504489658]]],[[[\"scaling_method\",\"robust\"],[\"encoding_method\",\"onehot\"],[\"drop\",null],[\"algorithm\",\"en\"],[\"alpha\",0.005876606135668252],[\"l1_ratio\",0.047101066054478176]]],[[[\"scaling_method\",\"robust\"],[\"encoding_method\",\"onehot\"],[\"drop\",null],[\"algorithm\",\"en\"],[\"alpha\",0.0020925680898552304],[\"l1_ratio\",0.9704431454327804]]],[[[\"scaling_method\",\"robust\"],[\"encoding_method\",\"onehot\"],[\"drop\",null],[\"algorithm\",\"en\"],[\"alpha\",0.20896925467965963],[\"l1_ratio\",0.007314608383401472]]],[[[\"scaling_method\",\"robust\"],[\"encoding_method\",\"onehot\"],[\"drop\",\"first\"],[\"algorithm\",\"en\"],[\"alpha\",0.0015256062109749709],[\"l1_ratio\",0.0754093089886176]]],[[[\"scaling_method\",\"robust\"],[\"encoding_method\",\"onehot\"],[\"drop\",\"first\"],[\"algorithm\",\"en\"],[\"alpha\",0.0010038574827459451],[\"l1_ratio\",0.21302491402558216]]],[[[\"scaling_method\",\"robust\"],[\"encoding_method\",\"onehot\"],[\"drop\",\"first\"],[\"algorithm\",\"en\"],[\"alpha\",0.0008608564486929174],[\"l1_ratio\",0.02884428444223919]]],[[[\"scaling_method\",\"robust\"],[\"encoding_method\",\"onehot\"],[\"drop\",\"first\"],[\"algorithm\",\"en\"],[\"alpha\",0.0008420495381024598],[\"l1_ratio\",0.08792956359810299]]],[[[\"scaling_method\",\"maxabs\"],[\"encoding_method\",\"onehot\"],[\"drop\",\"first\"],[\"algorithm\",\"en\"],[\"alpha\",0.05566575548888979],[\"l1_ratio\",0.11820072246312327]]],[[[\"scaling_method\",\"maxabs\"],[\"encoding_method\",\"ordinal\"],[\"algorithm\",\"en\"],[\"alpha\",0.0008470099235999984],[\"l1_ratio\",0.021059157881047296]]],[[[\"scaling_method\",\"robust\"],[\"encoding_method\",\"onehot\"],[\"drop\",\"first\"],[\"algorithm\",\"en\"],[\"alpha\",0.006359993639482432],[\"l1_ratio\",0.6251098987933636]]],[[[\"scaling_method\",\"standard\"],[\"encoding_method\",\"ordinal\"],[\"algorithm\",\"en\"],[\"alpha\",0.02737810901015294],[\"l1_ratio\",0.15851119534205688]]],[[[\"scaling_method\",\"robust\"],[\"encoding_method\",\"onehot\"],[\"drop\",null],[\"algorithm\",\"en\"],[\"alpha\",0.0045128425873121976],[\"l1_ratio\",0.0005494472544311735]]],[[[\"scaling_method\",\"robust\"],[\"encoding_method\",\"onehot\"],[\"drop\",null],[\"algorithm\",\"en\"],[\"alpha\",0.0023642932360382228],[\"l1_ratio\",0.006099948859058689]]],[[[\"scaling_method\",\"robust\"],[\"encoding_method\",\"onehot\"],[\"drop\",null],[\"algorithm\",\"en\"],[\"alpha\",0.00035418219965819745],[\"l1_ratio\",0.05351026632533589]]],[[[\"scaling_method\",\"maxabs\"],[\"encoding_method\",\"onehot\"],[\"drop\",null],[\"algorithm\",\"en\"],[\"alpha\",0.06136425793647579],[\"l1_ratio\",1.6148019373240607e-05]]],[[[\"scaling_method\",\"robust\"],[\"encoding_method\",\"onehot\"],[\"drop\",\"first\"],[\"algorithm\",\"en\"],[\"alpha\",0.0010342598724227769],[\"l1_ratio\",0.05088903824018064]]],[[[\"scaling_method\",\"robust\"],[\"encoding_method\",\"onehot\"],[\"drop\",\"first\"],[\"algorithm\",\"en\"],[\"alpha\",0.0015753158750906877],[\"l1_ratio\",0.2398013244205824]]],[[[\"scaling_method\",\"robust\"],[\"encoding_method\",\"onehot\"],[\"drop\",\"first\"],[\"algorithm\",\"en\"],[\"alpha\",0.00824056148701565],[\"l1_ratio\",0.30270536956781763]]],[[[\"scaling_method\",\"robust\"],[\"encoding_method\",\"onehot\"],[\"drop\",\"first\"],[\"algorithm\",\"en\"],[\"alpha\",0.0003685855154742009],[\"l1_ratio\",0.25721071195017775]]],[[[\"scaling_method\",\"robust\"],[\"encoding_method\",\"onehot\"],[\"drop\",\"first\"],[\"algorithm\",\"en\"],[\"alpha\",0.00032540205918819246],[\"l1_ratio\",0.3145147537278743]]],[[[\"scaling_method\",\"minmax\"],[\"encoding_method\",\"onehot\"],[\"drop\",\"first\"],[\"algorithm\",\"en\"],[\"alpha\",0.0002861929856396532],[\"l1_ratio\",0.46854683593831487]]],[[[\"scaling_method\",\"minmax\"],[\"encoding_method\",\"onehot\"],[\"drop\",\"first\"],[\"algorithm\",\"en\"],[\"alpha\",0.0015528611620145869],[\"l1_ratio\",0.5495329816889547]]],[[[\"scaling_method\",\"minmax\"],[\"encoding_method\",\"ordinal\"],[\"algorithm\",\"en\"],[\"alpha\",0.0018410504742799882],[\"l1_ratio\",0.05450895639399225]]],[[[\"scaling_method\",\"minmax\"],[\"encoding_method\",\"onehot\"],[\"drop\",null],[\"algorithm\",\"en\"],[\"alpha\",0.00023495638773309187],[\"l1_ratio\",0.015562619849928256]]],[[[\"scaling_method\",\"minmax\"],[\"encoding_method\",\"onehot\"],[\"drop\",null],[\"algorithm\",\"en\"],[\"alpha\",0.0007729618718592502],[\"l1_ratio\",0.0011891018868038594]]],[[[\"scaling_method\",\"maxabs\"],[\"encoding_method\",\"onehot\"],[\"drop\",\"first\"],[\"algorithm\",\"en\"],[\"alpha\",0.02541113505427002],[\"l1_ratio\",0.011157661503861426]]],[[[\"scaling_method\",\"robust\"],[\"encoding_method\",\"ordinal\"],[\"algorithm\",\"en\"],[\"alpha\",0.00023724907471272028],[\"l1_ratio\",0.20217373718384113]]],[[[\"scaling_method\",\"robust\"],[\"encoding_method\",\"onehot\"],[\"drop\",null],[\"algorithm\",\"en\"],[\"alpha\",0.0005431127311346696],[\"l1_ratio\",0.037328950487298285]]],[[[\"scaling_method\",\"minmax\"],[\"encoding_method\",\"onehot\"],[\"drop\",\"first\"],[\"algorithm\",\"en\"],[\"alpha\",0.00042393708547729364],[\"l1_ratio\",0.00020660568507681855]]],[[[\"scaling_method\",\"robust\"],[\"encoding_method\",\"ordinal\"],[\"algorithm\",\"en\"],[\"alpha\",0.0007487298051802326],[\"l1_ratio\",0.11420623752521494]]]],\"hovertemplate\":\"Algorithm=en<br>Optuna Trial=%{x}<br>Score (R-Squared)=%{y}<br>Parameters=%{customdata[0]}<extra></extra>\",\"legendgroup\":\"en\",\"marker\":{\"color\":\"#FFA15A\",\"symbol\":\"circle\"},\"mode\":\"markers\",\"name\":\"en\",\"orientation\":\"v\",\"showlegend\":true,\"x\":[13,15,16,17,18,19,21,22,23,25,26,28,31,33,36,39,40,41,43,44,46,51,52,53,54,55,56,57,58,94,97,100,106,109,115,120],\"xaxis\":\"x\",\"y\":[0.9470588749996617,0.9506146499925329,0.9454934218066602,0.949897721202668,0.9494882570686602,0.9192456360955411,0.9506084694145299,0.9437030111741564,0.9298687541274153,0.9502918463775044,0.9504703761860972,0.9489120573469423,0.9498560012919262,0.7368214868842125,0.9383079459302032,0.9411548656561404,0.9407217253975555,0.9496120297199757,0.9492701054227599,0.9480340988957616,0.8390386539783339,0.9495981699591987,0.9505249733105627,0.9426246540890681,0.9499162969416757,0.9499820008422049,0.9502817747063315,0.9431483448027016,0.9403646137987517,0.9477503965819534,0.9481262698391015,0.8899020395001224,0.9412812829172692,0.9483387674827204,0.9481750275085787,0.9415341256705085],\"yaxis\":\"y\",\"type\":\"scatter\"},{\"customdata\":[[[[\"scaling_method\",\"robust\"],[\"encoding_method\",\"onehot\"],[\"drop\",null],[\"algorithm\",\"lasso\"],[\"alpha\",0.002900118815171004]]],[[[\"scaling_method\",\"robust\"],[\"encoding_method\",\"ordinal\"],[\"algorithm\",\"lasso\"],[\"alpha\",0.0005793817977169322]]],[[[\"scaling_method\",\"minmax\"],[\"encoding_method\",\"onehot\"],[\"drop\",\"first\"],[\"algorithm\",\"lasso\"],[\"alpha\",0.00021648475921838916]]],[[[\"scaling_method\",\"minmax\"],[\"encoding_method\",\"onehot\"],[\"drop\",\"first\"],[\"algorithm\",\"lasso\"],[\"alpha\",0.0001750252331418698]]],[[[\"scaling_method\",\"minmax\"],[\"encoding_method\",\"onehot\"],[\"drop\",\"first\"],[\"algorithm\",\"lasso\"],[\"alpha\",0.00014501287344099588]]],[[[\"scaling_method\",\"minmax\"],[\"encoding_method\",\"onehot\"],[\"drop\",\"first\"],[\"algorithm\",\"lasso\"],[\"alpha\",0.00011849493864022492]]],[[[\"scaling_method\",\"minmax\"],[\"encoding_method\",\"onehot\"],[\"drop\",\"first\"],[\"algorithm\",\"lasso\"],[\"alpha\",0.000191537049431855]]],[[[\"scaling_method\",\"minmax\"],[\"encoding_method\",\"onehot\"],[\"drop\",\"first\"],[\"algorithm\",\"lasso\"],[\"alpha\",0.00018600960151238512]]],[[[\"scaling_method\",\"minmax\"],[\"encoding_method\",\"onehot\"],[\"drop\",\"first\"],[\"algorithm\",\"lasso\"],[\"alpha\",0.0004973765104169647]]],[[[\"scaling_method\",\"minmax\"],[\"encoding_method\",\"onehot\"],[\"drop\",\"first\"],[\"algorithm\",\"lasso\"],[\"alpha\",0.012563827493497461]]],[[[\"scaling_method\",\"minmax\"],[\"encoding_method\",\"onehot\"],[\"drop\",null],[\"algorithm\",\"lasso\"],[\"alpha\",0.0001704186019479177]]],[[[\"scaling_method\",\"minmax\"],[\"encoding_method\",\"onehot\"],[\"drop\",null],[\"algorithm\",\"lasso\"],[\"alpha\",0.00010058428826414573]]],[[[\"scaling_method\",\"minmax\"],[\"encoding_method\",\"onehot\"],[\"drop\",null],[\"algorithm\",\"lasso\"],[\"alpha\",0.00019949564973025357]]],[[[\"scaling_method\",\"minmax\"],[\"encoding_method\",\"onehot\"],[\"drop\",null],[\"algorithm\",\"lasso\"],[\"alpha\",0.00046468492347373697]]],[[[\"scaling_method\",\"minmax\"],[\"encoding_method\",\"onehot\"],[\"drop\",null],[\"algorithm\",\"lasso\"],[\"alpha\",0.003222916370942474]]],[[[\"scaling_method\",\"maxabs\"],[\"encoding_method\",\"onehot\"],[\"drop\",null],[\"algorithm\",\"lasso\"],[\"alpha\",0.0011423941572979554]]],[[[\"scaling_method\",\"minmax\"],[\"encoding_method\",\"onehot\"],[\"drop\",null],[\"algorithm\",\"lasso\"],[\"alpha\",0.0005800039486096819]]],[[[\"scaling_method\",\"minmax\"],[\"encoding_method\",\"onehot\"],[\"drop\",\"first\"],[\"algorithm\",\"lasso\"],[\"alpha\",0.0001971837119333649]]],[[[\"scaling_method\",\"minmax\"],[\"encoding_method\",\"onehot\"],[\"drop\",null],[\"algorithm\",\"lasso\"],[\"alpha\",0.000260420060035287]]],[[[\"scaling_method\",\"minmax\"],[\"encoding_method\",\"onehot\"],[\"drop\",null],[\"algorithm\",\"lasso\"],[\"alpha\",0.0007404653000205496]]],[[[\"scaling_method\",\"minmax\"],[\"encoding_method\",\"onehot\"],[\"drop\",null],[\"algorithm\",\"lasso\"],[\"alpha\",0.00030881824809650106]]],[[[\"scaling_method\",\"standard\"],[\"encoding_method\",\"onehot\"],[\"drop\",null],[\"algorithm\",\"lasso\"],[\"alpha\",0.00022570217272519397]]],[[[\"scaling_method\",\"minmax\"],[\"encoding_method\",\"onehot\"],[\"drop\",null],[\"algorithm\",\"lasso\"],[\"alpha\",0.0013428291937205817]]],[[[\"scaling_method\",\"minmax\"],[\"encoding_method\",\"onehot\"],[\"drop\",\"first\"],[\"algorithm\",\"lasso\"],[\"alpha\",0.00015991116577042925]]],[[[\"scaling_method\",\"minmax\"],[\"encoding_method\",\"onehot\"],[\"drop\",\"first\"],[\"algorithm\",\"lasso\"],[\"alpha\",0.0005647434307686057]]],[[[\"scaling_method\",\"minmax\"],[\"encoding_method\",\"onehot\"],[\"drop\",\"first\"],[\"algorithm\",\"lasso\"],[\"alpha\",0.0001778078098964815]]],[[[\"scaling_method\",\"robust\"],[\"encoding_method\",\"onehot\"],[\"drop\",\"first\"],[\"algorithm\",\"lasso\"],[\"alpha\",0.00011296409806943494]]],[[[\"scaling_method\",\"minmax\"],[\"encoding_method\",\"onehot\"],[\"drop\",null],[\"algorithm\",\"lasso\"],[\"alpha\",0.00040917425002646383]]],[[[\"scaling_method\",\"minmax\"],[\"encoding_method\",\"onehot\"],[\"drop\",\"first\"],[\"algorithm\",\"lasso\"],[\"alpha\",0.0001907069449723837]]],[[[\"scaling_method\",\"minmax\"],[\"encoding_method\",\"onehot\"],[\"drop\",\"first\"],[\"algorithm\",\"lasso\"],[\"alpha\",0.00018656702321863817]]],[[[\"scaling_method\",\"minmax\"],[\"encoding_method\",\"onehot\"],[\"drop\",\"first\"],[\"algorithm\",\"lasso\"],[\"alpha\",0.0003399585080097176]]],[[[\"scaling_method\",\"minmax\"],[\"encoding_method\",\"onehot\"],[\"drop\",\"first\"],[\"algorithm\",\"lasso\"],[\"alpha\",0.007521777529803439]]],[[[\"scaling_method\",\"minmax\"],[\"encoding_method\",\"onehot\"],[\"drop\",\"first\"],[\"algorithm\",\"lasso\"],[\"alpha\",0.000907603113352332]]],[[[\"scaling_method\",\"standard\"],[\"encoding_method\",\"onehot\"],[\"drop\",\"first\"],[\"algorithm\",\"lasso\"],[\"alpha\",0.00010917911665398215]]],[[[\"scaling_method\",\"minmax\"],[\"encoding_method\",\"onehot\"],[\"drop\",\"first\"],[\"algorithm\",\"lasso\"],[\"alpha\",0.0038622861855030256]]],[[[\"scaling_method\",\"minmax\"],[\"encoding_method\",\"onehot\"],[\"drop\",\"first\"],[\"algorithm\",\"lasso\"],[\"alpha\",0.00017600999519226733]]],[[[\"scaling_method\",\"minmax\"],[\"encoding_method\",\"onehot\"],[\"drop\",\"first\"],[\"algorithm\",\"lasso\"],[\"alpha\",0.00024830550488678997]]],[[[\"scaling_method\",\"minmax\"],[\"encoding_method\",\"onehot\"],[\"drop\",\"first\"],[\"algorithm\",\"lasso\"],[\"alpha\",0.00015073974358380593]]],[[[\"scaling_method\",\"minmax\"],[\"encoding_method\",\"onehot\"],[\"drop\",\"first\"],[\"algorithm\",\"lasso\"],[\"alpha\",0.000100111417157277]]],[[[\"scaling_method\",\"robust\"],[\"encoding_method\",\"onehot\"],[\"drop\",null],[\"algorithm\",\"lasso\"],[\"alpha\",0.0003112943623901131]]],[[[\"scaling_method\",\"robust\"],[\"encoding_method\",\"onehot\"],[\"drop\",null],[\"algorithm\",\"lasso\"],[\"alpha\",0.001212174301177491]]],[[[\"scaling_method\",\"robust\"],[\"encoding_method\",\"onehot\"],[\"drop\",null],[\"algorithm\",\"lasso\"],[\"alpha\",0.0003308043881502148]]],[[[\"scaling_method\",\"robust\"],[\"encoding_method\",\"onehot\"],[\"drop\",null],[\"algorithm\",\"lasso\"],[\"alpha\",0.00031421179192918017]]],[[[\"scaling_method\",\"robust\"],[\"encoding_method\",\"onehot\"],[\"drop\",null],[\"algorithm\",\"lasso\"],[\"alpha\",0.0004497906921121422]]],[[[\"scaling_method\",\"robust\"],[\"encoding_method\",\"onehot\"],[\"drop\",null],[\"algorithm\",\"lasso\"],[\"alpha\",0.0003759605859487303]]],[[[\"scaling_method\",\"robust\"],[\"encoding_method\",\"onehot\"],[\"drop\",null],[\"algorithm\",\"lasso\"],[\"alpha\",0.0004002718825589771]]],[[[\"scaling_method\",\"robust\"],[\"encoding_method\",\"onehot\"],[\"drop\",null],[\"algorithm\",\"lasso\"],[\"alpha\",0.0003435976036276809]]],[[[\"scaling_method\",\"robust\"],[\"encoding_method\",\"onehot\"],[\"drop\",null],[\"algorithm\",\"lasso\"],[\"alpha\",0.00037411701037047557]]],[[[\"scaling_method\",\"robust\"],[\"encoding_method\",\"onehot\"],[\"drop\",null],[\"algorithm\",\"lasso\"],[\"alpha\",0.0005821111977101805]]],[[[\"scaling_method\",\"robust\"],[\"encoding_method\",\"onehot\"],[\"drop\",null],[\"algorithm\",\"lasso\"],[\"alpha\",0.0003406048371035326]]],[[[\"scaling_method\",\"robust\"],[\"encoding_method\",\"onehot\"],[\"drop\",null],[\"algorithm\",\"lasso\"],[\"alpha\",0.00034410810749093735]]],[[[\"scaling_method\",\"robust\"],[\"encoding_method\",\"onehot\"],[\"drop\",null],[\"algorithm\",\"lasso\"],[\"alpha\",0.00033873273689850853]]],[[[\"scaling_method\",\"robust\"],[\"encoding_method\",\"onehot\"],[\"drop\",null],[\"algorithm\",\"lasso\"],[\"alpha\",0.0004025645332130208]]],[[[\"scaling_method\",\"robust\"],[\"encoding_method\",\"onehot\"],[\"drop\",null],[\"algorithm\",\"lasso\"],[\"alpha\",0.00041529523202161474]]],[[[\"scaling_method\",\"robust\"],[\"encoding_method\",\"onehot\"],[\"drop\",null],[\"algorithm\",\"lasso\"],[\"alpha\",0.0003787947545871233]]],[[[\"scaling_method\",\"robust\"],[\"encoding_method\",\"onehot\"],[\"drop\",null],[\"algorithm\",\"lasso\"],[\"alpha\",0.0003721160592840999]]],[[[\"scaling_method\",\"robust\"],[\"encoding_method\",\"onehot\"],[\"drop\",null],[\"algorithm\",\"lasso\"],[\"alpha\",0.00034091883620198743]]],[[[\"scaling_method\",\"robust\"],[\"encoding_method\",\"onehot\"],[\"drop\",null],[\"algorithm\",\"lasso\"],[\"alpha\",0.00032226143641292637]]],[[[\"scaling_method\",\"robust\"],[\"encoding_method\",\"onehot\"],[\"drop\",null],[\"algorithm\",\"lasso\"],[\"alpha\",0.0003056618286066335]]],[[[\"scaling_method\",\"robust\"],[\"encoding_method\",\"onehot\"],[\"drop\",null],[\"algorithm\",\"lasso\"],[\"alpha\",0.00030406267928934067]]],[[[\"scaling_method\",\"robust\"],[\"encoding_method\",\"onehot\"],[\"drop\",null],[\"algorithm\",\"lasso\"],[\"alpha\",0.0006673544124237484]]],[[[\"scaling_method\",\"robust\"],[\"encoding_method\",\"onehot\"],[\"drop\",null],[\"algorithm\",\"lasso\"],[\"alpha\",0.00030519412063227956]]],[[[\"scaling_method\",\"robust\"],[\"encoding_method\",\"onehot\"],[\"drop\",null],[\"algorithm\",\"lasso\"],[\"alpha\",0.0002846670962551226]]],[[[\"scaling_method\",\"robust\"],[\"encoding_method\",\"onehot\"],[\"drop\",null],[\"algorithm\",\"lasso\"],[\"alpha\",0.00030991818122645226]]],[[[\"scaling_method\",\"robust\"],[\"encoding_method\",\"onehot\"],[\"drop\",null],[\"algorithm\",\"lasso\"],[\"alpha\",0.0009264685105878836]]],[[[\"scaling_method\",\"robust\"],[\"encoding_method\",\"onehot\"],[\"drop\",null],[\"algorithm\",\"lasso\"],[\"alpha\",0.00028435470350705525]]],[[[\"scaling_method\",\"robust\"],[\"encoding_method\",\"onehot\"],[\"drop\",null],[\"algorithm\",\"lasso\"],[\"alpha\",0.00014174877891040332]]],[[[\"scaling_method\",\"robust\"],[\"encoding_method\",\"onehot\"],[\"drop\",null],[\"algorithm\",\"lasso\"],[\"alpha\",0.0002627491188548942]]],[[[\"scaling_method\",\"robust\"],[\"encoding_method\",\"onehot\"],[\"drop\",null],[\"algorithm\",\"lasso\"],[\"alpha\",0.0002956468383501165]]],[[[\"scaling_method\",\"robust\"],[\"encoding_method\",\"onehot\"],[\"drop\",null],[\"algorithm\",\"lasso\"],[\"alpha\",0.00028129208782664775]]],[[[\"scaling_method\",\"robust\"],[\"encoding_method\",\"onehot\"],[\"drop\",null],[\"algorithm\",\"lasso\"],[\"alpha\",0.0006360154687405587]]],[[[\"scaling_method\",\"robust\"],[\"encoding_method\",\"onehot\"],[\"drop\",null],[\"algorithm\",\"lasso\"],[\"alpha\",0.0002799755057671989]]],[[[\"scaling_method\",\"robust\"],[\"encoding_method\",\"onehot\"],[\"drop\",null],[\"algorithm\",\"lasso\"],[\"alpha\",0.0005356215817020461]]],[[[\"scaling_method\",\"robust\"],[\"encoding_method\",\"onehot\"],[\"drop\",null],[\"algorithm\",\"lasso\"],[\"alpha\",0.00029123596813121765]]],[[[\"scaling_method\",\"robust\"],[\"encoding_method\",\"onehot\"],[\"drop\",null],[\"algorithm\",\"lasso\"],[\"alpha\",0.0001467966186884795]]],[[[\"scaling_method\",\"robust\"],[\"encoding_method\",\"ordinal\"],[\"algorithm\",\"lasso\"],[\"alpha\",0.0010471321527630382]]],[[[\"scaling_method\",\"robust\"],[\"encoding_method\",\"onehot\"],[\"drop\",null],[\"algorithm\",\"lasso\"],[\"alpha\",0.0006680584958327878]]],[[[\"scaling_method\",\"robust\"],[\"encoding_method\",\"onehot\"],[\"drop\",null],[\"algorithm\",\"lasso\"],[\"alpha\",0.0002605238537262008]]],[[[\"scaling_method\",\"robust\"],[\"encoding_method\",\"onehot\"],[\"drop\",null],[\"algorithm\",\"lasso\"],[\"alpha\",0.00029635667458811633]]],[[[\"scaling_method\",\"robust\"],[\"encoding_method\",\"onehot\"],[\"drop\",null],[\"algorithm\",\"lasso\"],[\"alpha\",0.00027800539495410746]]],[[[\"scaling_method\",\"robust\"],[\"encoding_method\",\"onehot\"],[\"drop\",null],[\"algorithm\",\"lasso\"],[\"alpha\",0.0005145452020484817]]],[[[\"scaling_method\",\"robust\"],[\"encoding_method\",\"onehot\"],[\"drop\",null],[\"algorithm\",\"lasso\"],[\"alpha\",0.00013582459392875762]]],[[[\"scaling_method\",\"robust\"],[\"encoding_method\",\"onehot\"],[\"drop\",null],[\"algorithm\",\"lasso\"],[\"alpha\",0.00021563327161421586]]],[[[\"scaling_method\",\"robust\"],[\"encoding_method\",\"onehot\"],[\"drop\",null],[\"algorithm\",\"lasso\"],[\"alpha\",0.0002921277153152075]]],[[[\"scaling_method\",\"robust\"],[\"encoding_method\",\"onehot\"],[\"drop\",null],[\"algorithm\",\"lasso\"],[\"alpha\",0.00013598564982807433]]],[[[\"scaling_method\",\"robust\"],[\"encoding_method\",\"onehot\"],[\"drop\",null],[\"algorithm\",\"lasso\"],[\"alpha\",0.0002908242205133235]]],[[[\"scaling_method\",\"robust\"],[\"encoding_method\",\"onehot\"],[\"drop\",null],[\"algorithm\",\"lasso\"],[\"alpha\",0.0005071596732174551]]],[[[\"scaling_method\",\"robust\"],[\"encoding_method\",\"onehot\"],[\"drop\",null],[\"algorithm\",\"lasso\"],[\"alpha\",0.00031989157415046604]]],[[[\"scaling_method\",\"robust\"],[\"encoding_method\",\"onehot\"],[\"drop\",null],[\"algorithm\",\"lasso\"],[\"alpha\",0.0007449957955773636]]],[[[\"scaling_method\",\"robust\"],[\"encoding_method\",\"onehot\"],[\"drop\",null],[\"algorithm\",\"lasso\"],[\"alpha\",0.00018535695396913886]]],[[[\"scaling_method\",\"robust\"],[\"encoding_method\",\"onehot\"],[\"drop\",null],[\"algorithm\",\"lasso\"],[\"alpha\",0.0005046284614009172]]],[[[\"scaling_method\",\"robust\"],[\"encoding_method\",\"onehot\"],[\"drop\",null],[\"algorithm\",\"lasso\"],[\"alpha\",0.00032268481145795725]]],[[[\"scaling_method\",\"maxabs\"],[\"encoding_method\",\"onehot\"],[\"drop\",null],[\"algorithm\",\"lasso\"],[\"alpha\",0.0002124793089244561]]],[[[\"scaling_method\",\"robust\"],[\"encoding_method\",\"onehot\"],[\"drop\",null],[\"algorithm\",\"lasso\"],[\"alpha\",0.0003376094780548408]]],[[[\"scaling_method\",\"robust\"],[\"encoding_method\",\"onehot\"],[\"drop\",null],[\"algorithm\",\"lasso\"],[\"alpha\",0.00033483627155162134]]],[[[\"scaling_method\",\"robust\"],[\"encoding_method\",\"onehot\"],[\"drop\",null],[\"algorithm\",\"lasso\"],[\"alpha\",0.07271219708076615]]],[[[\"scaling_method\",\"robust\"],[\"encoding_method\",\"onehot\"],[\"drop\",null],[\"algorithm\",\"lasso\"],[\"alpha\",0.00048500019853878076]]],[[[\"scaling_method\",\"robust\"],[\"encoding_method\",\"onehot\"],[\"drop\",null],[\"algorithm\",\"lasso\"],[\"alpha\",0.000321304878811568]]],[[[\"scaling_method\",\"standard\"],[\"encoding_method\",\"ordinal\"],[\"algorithm\",\"lasso\"],[\"alpha\",0.00017142824767409271]]],[[[\"scaling_method\",\"robust\"],[\"encoding_method\",\"onehot\"],[\"drop\",null],[\"algorithm\",\"lasso\"],[\"alpha\",0.0007717674030346936]]],[[[\"scaling_method\",\"robust\"],[\"encoding_method\",\"onehot\"],[\"drop\",null],[\"algorithm\",\"lasso\"],[\"alpha\",0.00025284978532418446]]],[[[\"scaling_method\",\"robust\"],[\"encoding_method\",\"onehot\"],[\"drop\",null],[\"algorithm\",\"lasso\"],[\"alpha\",0.00036361145657398377]]],[[[\"scaling_method\",\"robust\"],[\"encoding_method\",\"onehot\"],[\"drop\",null],[\"algorithm\",\"lasso\"],[\"alpha\",0.000305954350488747]]],[[[\"scaling_method\",\"robust\"],[\"encoding_method\",\"onehot\"],[\"drop\",null],[\"algorithm\",\"lasso\"],[\"alpha\",0.00048243783348120224]]],[[[\"scaling_method\",\"robust\"],[\"encoding_method\",\"onehot\"],[\"drop\",null],[\"algorithm\",\"lasso\"],[\"alpha\",0.00023680092186166213]]],[[[\"scaling_method\",\"robust\"],[\"encoding_method\",\"onehot\"],[\"drop\",null],[\"algorithm\",\"lasso\"],[\"alpha\",0.00012030863375873172]]],[[[\"scaling_method\",\"robust\"],[\"encoding_method\",\"onehot\"],[\"drop\",null],[\"algorithm\",\"lasso\"],[\"alpha\",0.0003143634151410138]]],[[[\"scaling_method\",\"robust\"],[\"encoding_method\",\"onehot\"],[\"drop\",null],[\"algorithm\",\"lasso\"],[\"alpha\",0.00019483054199499015]]],[[[\"scaling_method\",\"robust\"],[\"encoding_method\",\"onehot\"],[\"drop\",null],[\"algorithm\",\"lasso\"],[\"alpha\",0.0006402216747315148]]],[[[\"scaling_method\",\"robust\"],[\"encoding_method\",\"onehot\"],[\"drop\",null],[\"algorithm\",\"lasso\"],[\"alpha\",0.0002842214495409678]]]],\"hovertemplate\":\"Algorithm=lasso<br>Optuna Trial=%{x}<br>Score (R-Squared)=%{y}<br>Parameters=%{customdata[0]}<extra></extra>\",\"legendgroup\":\"lasso\",\"marker\":{\"color\":\"#19d3f3\",\"symbol\":\"circle\"},\"mode\":\"markers\",\"name\":\"lasso\",\"orientation\":\"v\",\"showlegend\":true,\"x\":[20,38,60,61,62,63,64,66,67,69,70,71,72,73,74,75,78,81,82,83,84,85,86,91,92,93,96,99,101,102,103,104,105,107,110,111,112,113,114,116,119,121,122,123,124,125,126,127,128,129,130,131,132,133,134,135,136,137,138,139,140,141,142,143,144,145,147,148,149,151,152,153,154,155,157,158,159,160,161,162,163,164,165,169,170,171,172,173,174,175,177,179,180,181,182,183,184,185,186,187,189,191,192,193,194,195,196,197,198,199],\"xaxis\":\"x\",\"y\":[0.9420714241747068,0.941864120697199,0.9504789317996479,0.9504463386027325,0.9504214647535318,0.9504077370356221,0.9504550644937725,0.9504555473869496,0.9484703228321049,0.7400320378975258,0.950520595111418,0.9502726644145583,0.950617005001886,0.9489426806796498,0.9155017224643703,0.9379655530421914,0.9475511355896954,0.9504590828950967,0.9506059300756451,0.9456431874825431,0.9504065509720707,0.9502085460302702,0.9395212103576183,0.9504174207249045,0.9477011267757256,0.950449828935693,0.9500112102570567,0.9495704757450211,0.9504553179855029,0.9504556138917429,0.9499559033610787,0.8431383302498437,0.9436889041904181,0.9497318944817149,0.9044751891765352,0.9504475645861536,0.9504299049727469,0.9504161842819692,0.9503206100996249,0.9508115794180636,0.9476389742110017,0.950808934477098,0.9508109381266777,0.9506350209194107,0.9507592759086023,0.9507231067442191,0.9508005623067662,0.9507619281108848,0.9503195151331509,0.9508027249403119,0.9508001110185553,0.9508039749262792,0.9507193735937189,0.9506991769942713,0.9507550652239456,0.9507646857190831,0.9508025087779005,0.950811303453535,0.9508125334796595,0.9508120418340444,0.9500624585576197,0.9508124744936358,0.9508008348893316,0.9508117800796546,0.9489329326139091,0.9508005174693877,0.950200503238648,0.9507564650947652,0.9508100989237469,0.9507972502097888,0.9501683850883827,0.9507957812484953,0.9504302014875557,0.9508074273047356,0.9502265660190119,0.9418808467381024,0.9500599528216987,0.9507492589828942,0.9508102480434596,0.9507931355819096,0.9504867092638136,0.9501678846785481,0.9505575559178041,0.9508080321678772,0.9501689281680938,0.9508070583226983,0.9505064311789182,0.9508118441042729,0.949768395040436,0.9504247698839746,0.9505130617833648,0.9508112495697129,0.9482691449430162,0.9508046723135948,0.9508065379920773,0.7340715665013304,0.9505602037978023,0.9508114385484966,0.9413515149157325,0.9496609338864861,0.9507210701378888,0.950776783502176,0.9508125685081981,0.9505663503424436,0.950651853154987,0.9500814576399593,0.9508109657329606,0.9504658897973156,0.9501547132194716,0.9508003810858396],\"yaxis\":\"y\",\"type\":\"scatter\"},{\"customdata\":[[[[\"scaling_method\",\"robust\"],[\"encoding_method\",\"onehot\"],[\"drop\",\"first\"],[\"algorithm\",\"gbr\"],[\"n_estimators\",810],[\"learning_rate\",0.002502319349347742],[\"max_depth\",4],[\"subsample\",0.5086742020838684],[\"min_sample_split\",7],[\"min_sample_leaf\",6]]],[[[\"scaling_method\",\"robust\"],[\"encoding_method\",\"onehot\"],[\"drop\",\"first\"],[\"algorithm\",\"gbr\"],[\"n_estimators\",832],[\"learning_rate\",0.0044836116972927385],[\"max_depth\",3],[\"subsample\",0.8138941342231104],[\"min_sample_split\",9],[\"min_sample_leaf\",7]]],[[[\"scaling_method\",\"minmax\"],[\"encoding_method\",\"ordinal\"],[\"algorithm\",\"gbr\"],[\"n_estimators\",804],[\"learning_rate\",0.8941928933502697],[\"max_depth\",3],[\"subsample\",0.9827683043423914],[\"min_sample_split\",9],[\"min_sample_leaf\",5]]],[[[\"scaling_method\",\"robust\"],[\"encoding_method\",\"onehot\"],[\"drop\",null],[\"algorithm\",\"gbr\"],[\"n_estimators\",902],[\"learning_rate\",0.34044036009965684],[\"max_depth\",2],[\"subsample\",0.6914912006901939],[\"min_sample_split\",8],[\"min_sample_leaf\",8]]],[[[\"scaling_method\",\"robust\"],[\"encoding_method\",\"onehot\"],[\"drop\",null],[\"algorithm\",\"gbr\"],[\"n_estimators\",857],[\"learning_rate\",0.020387042017646774],[\"max_depth\",3],[\"subsample\",0.8624590753787903],[\"min_sample_split\",7],[\"min_sample_leaf\",5]]]],\"hovertemplate\":\"Algorithm=gbr<br>Optuna Trial=%{x}<br>Score (R-Squared)=%{y}<br>Parameters=%{customdata[0]}<extra></extra>\",\"legendgroup\":\"gbr\",\"marker\":{\"color\":\"#FF6692\",\"symbol\":\"circle\"},\"mode\":\"markers\",\"name\":\"gbr\",\"orientation\":\"v\",\"showlegend\":true,\"x\":[30,49,88,117,176],\"xaxis\":\"x\",\"y\":[0.8695777639423012,0.9118215291243491,0.8766401728942645,0.9405026432935989,0.9473235146027796],\"yaxis\":\"y\",\"type\":\"scatter\"}],                        {\"template\":{\"data\":{\"histogram2dcontour\":[{\"type\":\"histogram2dcontour\",\"colorbar\":{\"outlinewidth\":0,\"ticks\":\"\"},\"colorscale\":[[0.0,\"#0d0887\"],[0.1111111111111111,\"#46039f\"],[0.2222222222222222,\"#7201a8\"],[0.3333333333333333,\"#9c179e\"],[0.4444444444444444,\"#bd3786\"],[0.5555555555555556,\"#d8576b\"],[0.6666666666666666,\"#ed7953\"],[0.7777777777777778,\"#fb9f3a\"],[0.8888888888888888,\"#fdca26\"],[1.0,\"#f0f921\"]]}],\"choropleth\":[{\"type\":\"choropleth\",\"colorbar\":{\"outlinewidth\":0,\"ticks\":\"\"}}],\"histogram2d\":[{\"type\":\"histogram2d\",\"colorbar\":{\"outlinewidth\":0,\"ticks\":\"\"},\"colorscale\":[[0.0,\"#0d0887\"],[0.1111111111111111,\"#46039f\"],[0.2222222222222222,\"#7201a8\"],[0.3333333333333333,\"#9c179e\"],[0.4444444444444444,\"#bd3786\"],[0.5555555555555556,\"#d8576b\"],[0.6666666666666666,\"#ed7953\"],[0.7777777777777778,\"#fb9f3a\"],[0.8888888888888888,\"#fdca26\"],[1.0,\"#f0f921\"]]}],\"heatmap\":[{\"type\":\"heatmap\",\"colorbar\":{\"outlinewidth\":0,\"ticks\":\"\"},\"colorscale\":[[0.0,\"#0d0887\"],[0.1111111111111111,\"#46039f\"],[0.2222222222222222,\"#7201a8\"],[0.3333333333333333,\"#9c179e\"],[0.4444444444444444,\"#bd3786\"],[0.5555555555555556,\"#d8576b\"],[0.6666666666666666,\"#ed7953\"],[0.7777777777777778,\"#fb9f3a\"],[0.8888888888888888,\"#fdca26\"],[1.0,\"#f0f921\"]]}],\"heatmapgl\":[{\"type\":\"heatmapgl\",\"colorbar\":{\"outlinewidth\":0,\"ticks\":\"\"},\"colorscale\":[[0.0,\"#0d0887\"],[0.1111111111111111,\"#46039f\"],[0.2222222222222222,\"#7201a8\"],[0.3333333333333333,\"#9c179e\"],[0.4444444444444444,\"#bd3786\"],[0.5555555555555556,\"#d8576b\"],[0.6666666666666666,\"#ed7953\"],[0.7777777777777778,\"#fb9f3a\"],[0.8888888888888888,\"#fdca26\"],[1.0,\"#f0f921\"]]}],\"contourcarpet\":[{\"type\":\"contourcarpet\",\"colorbar\":{\"outlinewidth\":0,\"ticks\":\"\"}}],\"contour\":[{\"type\":\"contour\",\"colorbar\":{\"outlinewidth\":0,\"ticks\":\"\"},\"colorscale\":[[0.0,\"#0d0887\"],[0.1111111111111111,\"#46039f\"],[0.2222222222222222,\"#7201a8\"],[0.3333333333333333,\"#9c179e\"],[0.4444444444444444,\"#bd3786\"],[0.5555555555555556,\"#d8576b\"],[0.6666666666666666,\"#ed7953\"],[0.7777777777777778,\"#fb9f3a\"],[0.8888888888888888,\"#fdca26\"],[1.0,\"#f0f921\"]]}],\"surface\":[{\"type\":\"surface\",\"colorbar\":{\"outlinewidth\":0,\"ticks\":\"\"},\"colorscale\":[[0.0,\"#0d0887\"],[0.1111111111111111,\"#46039f\"],[0.2222222222222222,\"#7201a8\"],[0.3333333333333333,\"#9c179e\"],[0.4444444444444444,\"#bd3786\"],[0.5555555555555556,\"#d8576b\"],[0.6666666666666666,\"#ed7953\"],[0.7777777777777778,\"#fb9f3a\"],[0.8888888888888888,\"#fdca26\"],[1.0,\"#f0f921\"]]}],\"mesh3d\":[{\"type\":\"mesh3d\",\"colorbar\":{\"outlinewidth\":0,\"ticks\":\"\"}}],\"scatter\":[{\"fillpattern\":{\"fillmode\":\"overlay\",\"size\":10,\"solidity\":0.2},\"type\":\"scatter\"}],\"parcoords\":[{\"type\":\"parcoords\",\"line\":{\"colorbar\":{\"outlinewidth\":0,\"ticks\":\"\"}}}],\"scatterpolargl\":[{\"type\":\"scatterpolargl\",\"marker\":{\"colorbar\":{\"outlinewidth\":0,\"ticks\":\"\"}}}],\"bar\":[{\"error_x\":{\"color\":\"#2a3f5f\"},\"error_y\":{\"color\":\"#2a3f5f\"},\"marker\":{\"line\":{\"color\":\"#E5ECF6\",\"width\":0.5},\"pattern\":{\"fillmode\":\"overlay\",\"size\":10,\"solidity\":0.2}},\"type\":\"bar\"}],\"scattergeo\":[{\"type\":\"scattergeo\",\"marker\":{\"colorbar\":{\"outlinewidth\":0,\"ticks\":\"\"}}}],\"scatterpolar\":[{\"type\":\"scatterpolar\",\"marker\":{\"colorbar\":{\"outlinewidth\":0,\"ticks\":\"\"}}}],\"histogram\":[{\"marker\":{\"pattern\":{\"fillmode\":\"overlay\",\"size\":10,\"solidity\":0.2}},\"type\":\"histogram\"}],\"scattergl\":[{\"type\":\"scattergl\",\"marker\":{\"colorbar\":{\"outlinewidth\":0,\"ticks\":\"\"}}}],\"scatter3d\":[{\"type\":\"scatter3d\",\"line\":{\"colorbar\":{\"outlinewidth\":0,\"ticks\":\"\"}},\"marker\":{\"colorbar\":{\"outlinewidth\":0,\"ticks\":\"\"}}}],\"scattermapbox\":[{\"type\":\"scattermapbox\",\"marker\":{\"colorbar\":{\"outlinewidth\":0,\"ticks\":\"\"}}}],\"scatterternary\":[{\"type\":\"scatterternary\",\"marker\":{\"colorbar\":{\"outlinewidth\":0,\"ticks\":\"\"}}}],\"scattercarpet\":[{\"type\":\"scattercarpet\",\"marker\":{\"colorbar\":{\"outlinewidth\":0,\"ticks\":\"\"}}}],\"carpet\":[{\"aaxis\":{\"endlinecolor\":\"#2a3f5f\",\"gridcolor\":\"white\",\"linecolor\":\"white\",\"minorgridcolor\":\"white\",\"startlinecolor\":\"#2a3f5f\"},\"baxis\":{\"endlinecolor\":\"#2a3f5f\",\"gridcolor\":\"white\",\"linecolor\":\"white\",\"minorgridcolor\":\"white\",\"startlinecolor\":\"#2a3f5f\"},\"type\":\"carpet\"}],\"table\":[{\"cells\":{\"fill\":{\"color\":\"#EBF0F8\"},\"line\":{\"color\":\"white\"}},\"header\":{\"fill\":{\"color\":\"#C8D4E3\"},\"line\":{\"color\":\"white\"}},\"type\":\"table\"}],\"barpolar\":[{\"marker\":{\"line\":{\"color\":\"#E5ECF6\",\"width\":0.5},\"pattern\":{\"fillmode\":\"overlay\",\"size\":10,\"solidity\":0.2}},\"type\":\"barpolar\"}],\"pie\":[{\"automargin\":true,\"type\":\"pie\"}]},\"layout\":{\"autotypenumbers\":\"strict\",\"colorway\":[\"#636efa\",\"#EF553B\",\"#00cc96\",\"#ab63fa\",\"#FFA15A\",\"#19d3f3\",\"#FF6692\",\"#B6E880\",\"#FF97FF\",\"#FECB52\"],\"font\":{\"color\":\"#2a3f5f\"},\"hovermode\":\"closest\",\"hoverlabel\":{\"align\":\"left\"},\"paper_bgcolor\":\"white\",\"plot_bgcolor\":\"#E5ECF6\",\"polar\":{\"bgcolor\":\"#E5ECF6\",\"angularaxis\":{\"gridcolor\":\"white\",\"linecolor\":\"white\",\"ticks\":\"\"},\"radialaxis\":{\"gridcolor\":\"white\",\"linecolor\":\"white\",\"ticks\":\"\"}},\"ternary\":{\"bgcolor\":\"#E5ECF6\",\"aaxis\":{\"gridcolor\":\"white\",\"linecolor\":\"white\",\"ticks\":\"\"},\"baxis\":{\"gridcolor\":\"white\",\"linecolor\":\"white\",\"ticks\":\"\"},\"caxis\":{\"gridcolor\":\"white\",\"linecolor\":\"white\",\"ticks\":\"\"}},\"coloraxis\":{\"colorbar\":{\"outlinewidth\":0,\"ticks\":\"\"}},\"colorscale\":{\"sequential\":[[0.0,\"#0d0887\"],[0.1111111111111111,\"#46039f\"],[0.2222222222222222,\"#7201a8\"],[0.3333333333333333,\"#9c179e\"],[0.4444444444444444,\"#bd3786\"],[0.5555555555555556,\"#d8576b\"],[0.6666666666666666,\"#ed7953\"],[0.7777777777777778,\"#fb9f3a\"],[0.8888888888888888,\"#fdca26\"],[1.0,\"#f0f921\"]],\"sequentialminus\":[[0.0,\"#0d0887\"],[0.1111111111111111,\"#46039f\"],[0.2222222222222222,\"#7201a8\"],[0.3333333333333333,\"#9c179e\"],[0.4444444444444444,\"#bd3786\"],[0.5555555555555556,\"#d8576b\"],[0.6666666666666666,\"#ed7953\"],[0.7777777777777778,\"#fb9f3a\"],[0.8888888888888888,\"#fdca26\"],[1.0,\"#f0f921\"]],\"diverging\":[[0,\"#8e0152\"],[0.1,\"#c51b7d\"],[0.2,\"#de77ae\"],[0.3,\"#f1b6da\"],[0.4,\"#fde0ef\"],[0.5,\"#f7f7f7\"],[0.6,\"#e6f5d0\"],[0.7,\"#b8e186\"],[0.8,\"#7fbc41\"],[0.9,\"#4d9221\"],[1,\"#276419\"]]},\"xaxis\":{\"gridcolor\":\"white\",\"linecolor\":\"white\",\"ticks\":\"\",\"title\":{\"standoff\":15},\"zerolinecolor\":\"white\",\"automargin\":true,\"zerolinewidth\":2},\"yaxis\":{\"gridcolor\":\"white\",\"linecolor\":\"white\",\"ticks\":\"\",\"title\":{\"standoff\":15},\"zerolinecolor\":\"white\",\"automargin\":true,\"zerolinewidth\":2},\"scene\":{\"xaxis\":{\"backgroundcolor\":\"#E5ECF6\",\"gridcolor\":\"white\",\"linecolor\":\"white\",\"showbackground\":true,\"ticks\":\"\",\"zerolinecolor\":\"white\",\"gridwidth\":2},\"yaxis\":{\"backgroundcolor\":\"#E5ECF6\",\"gridcolor\":\"white\",\"linecolor\":\"white\",\"showbackground\":true,\"ticks\":\"\",\"zerolinecolor\":\"white\",\"gridwidth\":2},\"zaxis\":{\"backgroundcolor\":\"#E5ECF6\",\"gridcolor\":\"white\",\"linecolor\":\"white\",\"showbackground\":true,\"ticks\":\"\",\"zerolinecolor\":\"white\",\"gridwidth\":2}},\"shapedefaults\":{\"line\":{\"color\":\"#2a3f5f\"}},\"annotationdefaults\":{\"arrowcolor\":\"#2a3f5f\",\"arrowhead\":0,\"arrowwidth\":1},\"geo\":{\"bgcolor\":\"white\",\"landcolor\":\"#E5ECF6\",\"subunitcolor\":\"white\",\"showland\":true,\"showlakes\":true,\"lakecolor\":\"white\"},\"title\":{\"x\":0.05},\"mapbox\":{\"style\":\"light\"}}},\"xaxis\":{\"anchor\":\"y\",\"domain\":[0.0,1.0],\"title\":{\"text\":\"Optuna Trial\"}},\"yaxis\":{\"anchor\":\"x\",\"domain\":[0.0,1.0],\"title\":{\"text\":\"Score (R-Squared)\"}},\"legend\":{\"title\":{\"text\":\"Algorithm\"},\"tracegroupgap\":0},\"title\":{\"text\":\"Optuna Trials with R-Squared over 0.7  <br><sup> Best Score: 0.9508, Trial 192, alpha = 0.000305954350488747, scaling = robust, one hot encoding (no drop) </sup>\"},\"hoverlabel\":{\"font\":{\"size\":8,\"family\":\"Rockwell\"},\"bgcolor\":\"white\"}},                        {\"responsive\": true}                    ).then(function(){\n",
       "                            \n",
       "var gd = document.getElementById('24ccdbe8-f65d-44b6-a490-0203e5342629');\n",
       "var x = new MutationObserver(function (mutations, observer) {{\n",
       "        var display = window.getComputedStyle(gd).display;\n",
       "        if (!display || display === 'none') {{\n",
       "            console.log([gd, 'removed!']);\n",
       "            Plotly.purge(gd);\n",
       "            observer.disconnect();\n",
       "        }}\n",
       "}});\n",
       "\n",
       "// Listen for the removal of the full notebook cells\n",
       "var notebookContainer = gd.closest('#notebook-container');\n",
       "if (notebookContainer) {{\n",
       "    x.observe(notebookContainer, {childList: true});\n",
       "}}\n",
       "\n",
       "// Listen for the clearing of the current output cell\n",
       "var outputEl = gd.closest('.output');\n",
       "if (outputEl) {{\n",
       "    x.observe(outputEl, {childList: true});\n",
       "}}\n",
       "\n",
       "                        })                };                });            </script>        </div>"
      ]
     },
     "metadata": {},
     "output_type": "display_data"
    }
   ],
   "source": [
    "import plotly.express as px\n",
    "\n",
    "\n",
    "fig = px.scatter(df_optuna.loc[df_optuna.Score > .7], \n",
    "                 x=\"Trial\", \n",
    "                 y=\"Score\", \n",
    "                 color=\"Algorithm\",\n",
    "                 hover_data=['Parameters'],\n",
    "                labels = {'Trial': 'Optuna Trial', 'Score': 'Score (R-Squared)'},\n",
    "                title = 'Optuna Trials with R-Squared over 0.7  <br><sup> Best Score: 0.9508, Trial 192, alpha = 0.000305954350488747, scaling = robust, one hot encoding (no drop) </sup>')\n",
    "\n",
    "fig.update_layout(\n",
    "    hoverlabel=dict(\n",
    "        bgcolor=\"white\",\n",
    "        font_size=8,\n",
    "        font_family=\"Rockwell\"\n",
    "    )\n",
    ")\n",
    "\n",
    "fig.show()\n",
    "\n",
    "fig.write_image(\"images/optuna_all.png\")"
   ]
  }
 ],
 "metadata": {
  "kernelspec": {
   "display_name": "Python 3 (ipykernel)",
   "language": "python",
   "name": "python3"
  },
  "language_info": {
   "codemirror_mode": {
    "name": "ipython",
    "version": 3
   },
   "file_extension": ".py",
   "mimetype": "text/x-python",
   "name": "python",
   "nbconvert_exporter": "python",
   "pygments_lexer": "ipython3",
   "version": "3.11.5"
  }
 },
 "nbformat": 4,
 "nbformat_minor": 5
}
